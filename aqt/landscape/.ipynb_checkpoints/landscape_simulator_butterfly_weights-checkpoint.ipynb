{
 "cells": [
  {
   "cell_type": "code",
   "execution_count": null,
   "id": "efb7c00b",
   "metadata": {},
   "outputs": [],
   "source": [
    "import sys\n",
    "import os\n",
    "sys.path.insert(0, os.path.abspath('../'))\n",
    "sys.path.insert(0, os.path.abspath('../../'))\n",
    "sys.path.insert(0, os.path.abspath('/home/hm-tlacherm/qlm_notebooks/notebooks_1.2.1/notebooks/master_thesis_qaoa/'))\n",
    "sys.path.insert(0, os.path.abspath('/home/hm-tlacherm/qlm_notebooks/notebooks_1.2.1/notebooks/master_thesis_qaoa/ibm/'))\n",
    "sys.path.insert(0, os.path.abspath('/home/hm-tlacherm/qlm_notebooks/notebooks_1.2.1/notebooks/master_thesis_qaoa/aqt/'))"
   ]
  },
  {
   "cell_type": "code",
   "execution_count": null,
   "id": "a2ae802b",
   "metadata": {
    "scrolled": true
   },
   "outputs": [],
   "source": [
    "import numpy as np\n",
    "\n",
    "import qiskit\n",
    "provider = qiskit.IBMQ.load_account()\n",
    "\n",
    "from qiskit_aqt_provider import AQTProvider\n",
    "aqt = AQTProvider('6f47670f3e5c414da0cdcab1c048eb97')\n",
    "simulator_backend = aqt.backends.aqt_qasm_simulator\n",
    "\n",
    "from qiskit import Aer\n",
    "from qiskit.utils import QuantumInstance\n",
    "from qiskit_optimization.algorithms import MinimumEigenOptimizer\n",
    "from qiskit.algorithms import QAOA\n",
    "from shared.QiskitMaxcut import *\n",
    "from ibm.ibm_parameters import *\n",
    "from matplotlib import pyplot as plt\n",
    "%matplotlib inline"
   ]
  },
  {
   "cell_type": "code",
   "execution_count": null,
   "id": "04e08a74",
   "metadata": {},
   "outputs": [],
   "source": [
    "%load_ext autoreload\n",
    "%autoreload 2"
   ]
  },
  {
   "cell_type": "code",
   "execution_count": null,
   "id": "388c2bd8",
   "metadata": {},
   "outputs": [],
   "source": [
    "# ---- Define graph and MaxCut ----\n",
    "graph = generate_butterfly_graph(with_weights=True)\n",
    "max_cut = Maxcut(graph)\n",
    "max_cut_qubo = max_cut.to_qubo()\n",
    "max_cut.draw()"
   ]
  },
  {
   "cell_type": "code",
   "execution_count": null,
   "id": "c09fa260",
   "metadata": {},
   "outputs": [],
   "source": [
    "# ---- Define step size and gamma, beta values ----\n",
    "step_size = 0.1\n",
    "a_gamma = np.arange(0, np.pi, step_size)\n",
    "b_beta = np.arange(0, np.pi, step_size)"
   ]
  },
  {
   "cell_type": "code",
   "execution_count": null,
   "id": "fbb8558a",
   "metadata": {},
   "outputs": [],
   "source": [
    "gammas, betas = np.meshgrid(a_gamma, b_beta)"
   ]
  },
  {
   "cell_type": "code",
   "execution_count": null,
   "id": "dc0300b6",
   "metadata": {},
   "outputs": [],
   "source": [
    "def run_qaoa(gamma, beta):\n",
    "    qaoa = QAOA(optimizer=COBYLA(maxiter=0),\n",
    "                quantum_instance=simulator_backend,\n",
    "                reps=1,\n",
    "                initial_point=[gamma, beta])\n",
    "    algorithm = MinimumEigenOptimizer(qaoa)\n",
    "    result = algorithm.solve(max_cut_qubo)\n",
    "    optimal_parameters = qaoa.optimal_params\n",
    "    mean, distribution = max_cut.analyse(result)\n",
    "\n",
    "    return mean"
   ]
  },
  {
   "cell_type": "code",
   "execution_count": null,
   "id": "4c763024",
   "metadata": {
    "scrolled": false
   },
   "outputs": [],
   "source": [
    "# ---- execute for all values QAOA and get result matrix  ----\n",
    "landscape = np.zeros(gammas.shape)\n",
    "for i in range(0, len(landscape)):\n",
    "    for j in range(0, len(landscape)):\n",
    "        landscape[i,j] = run_qaoa(gammas[i][j], betas[i][j])\n",
    "    print(f\"Row {i} done\")"
   ]
  },
  {
   "cell_type": "code",
   "execution_count": null,
   "id": "ff6c31eb",
   "metadata": {},
   "outputs": [],
   "source": [
    "print(landscape)\n",
    "plt.matshow(landscape)\n",
    "plt.show()"
   ]
  },
  {
   "cell_type": "code",
   "execution_count": null,
   "id": "905d2f78",
   "metadata": {},
   "outputs": [],
   "source": [
    "# Mean of landscape\n",
    "np.mean(landscape)"
   ]
  },
  {
   "cell_type": "code",
   "execution_count": null,
   "id": "f4d41c48",
   "metadata": {},
   "outputs": [],
   "source": [
    "# Minimium \n",
    "np.min(landscape)"
   ]
  },
  {
   "cell_type": "code",
   "execution_count": null,
   "id": "0ea69d25",
   "metadata": {},
   "outputs": [],
   "source": [
    "# Display Coordinates of Minimum \n",
    "np.unravel_index(np.argmin(landscape), landscape.shape)"
   ]
  },
  {
   "cell_type": "code",
   "execution_count": null,
   "id": "4e582a41",
   "metadata": {},
   "outputs": [],
   "source": [
    "# Gamma and beta value of Minimium\n",
    "gamma, beta = np.unravel_index(np.argmin(landscape), landscape.shape)\n",
    "opt_gamma = gamma * step_size\n",
    "opt_beta = beta * step_size\n",
    "print(f\"Opt.Gamma: {opt_gamma}, Opt.Beta: {opt_beta}\")"
   ]
  },
  {
   "cell_type": "code",
   "execution_count": null,
   "id": "53712235",
   "metadata": {},
   "outputs": [],
   "source": [
    "# Save result matrix \n",
    "with open('landscape_simulator_butterfly_weights_results.npy', 'wb') as f:\n",
    "    np.save(f, landscape)"
   ]
  },
  {
   "cell_type": "code",
   "execution_count": null,
   "id": "aa1d4415",
   "metadata": {},
   "outputs": [],
   "source": [
    "import plotly.graph_objects as go"
   ]
  },
  {
   "cell_type": "code",
   "execution_count": null,
   "id": "9d4e5d5a",
   "metadata": {},
   "outputs": [],
   "source": [
    "# Plot landscape in 3D \n",
    "a_gamma = np.arange(0, np.pi, step_size)\n",
    "b_beta = np.arange(0, np.pi, step_size)\n",
    "fig = go.Figure(data=go.Surface(z=landscape, x=a_gamma, y=b_beta))\n",
    "\n",
    "fig.update_traces(contours_z=dict(show=True, usecolormap=True, highlightcolor='limegreen', project_z=True))\n",
    "\n",
    "\n",
    "fig.update_layout(title=\"QAOA MaxCut\", scene=dict(\n",
    "    xaxis_title=\"gamma\",\n",
    "    yaxis_title=\"beta\",\n",
    "    zaxis_title=\"mean\"\n",
    "))"
   ]
  },
  {
   "cell_type": "code",
   "execution_count": null,
   "id": "2034b10c",
   "metadata": {
    "scrolled": true
   },
   "outputs": [],
   "source": [
    "# Plot Heatmap \n",
    "fig = go.Figure(data=go.Heatmap(z=landscape, x=b_beta, y=a_gamma, type = 'heatmap', colorscale = 'viridis'))\n",
    "\n",
    "# Update Layout\n",
    "fig.update_layout(title=\"QAOA MaxCut\", width=700, height=700, xaxis_title=\"beta\", yaxis_title=\"gamma\")\n",
    "\n",
    "# Display Global Minimium \n",
    "fig.add_trace(\n",
    "    go.Scatter(mode=\"markers\", x=[opt_beta], y=[opt_gamma], marker_symbol=[204], text = [landscape[gamma,beta]],\n",
    "                   marker_color=\"red\",  hovertemplate=\"x: %{x}<br>y: %{y}<br> z: %{text:.2f}<extra></extra>\", \n",
    "                   marker_line_width=1, marker_size=16))\n"
   ]
  },
  {
   "cell_type": "code",
   "execution_count": null,
   "id": "ef28741b",
   "metadata": {},
   "outputs": [],
   "source": [
    "# Display Optimizer Results\n",
    "\n",
    "# Display path \n",
    "#fig.add_trace(\n",
    "#    go.Scatter(mode=\"lines\", x=gammas, y=betas, marker_symbol=[200],\n",
    "#                   marker_color=\"white\", marker_line_width=1, marker_size=8)\n",
    "#)\n",
    "\n",
    "# Display start point\n",
    "#fig.add_trace(\n",
    "#    go.Scatter(mode=\"markers\", x=[gammas[0]], y=[betas[0]], marker_symbol=[204],\n",
    "#                   marker_color=\"gray\", \n",
    "#                   marker_line_width=1, marker_size=16))\n",
    "\n",
    "# Display end point\n",
    "#fig.add_trace(\n",
    "#    go.Scatter(mode=\"markers\", x=[gammas[-1]], y=[betas[-1]], marker_symbol=[204],\n",
    "#                   marker_color=\"green\", \n",
    "#                   marker_line_width=1, marker_size=16))\n",
    "\n"
   ]
  },
  {
   "cell_type": "code",
   "execution_count": null,
   "id": "e7519911",
   "metadata": {},
   "outputs": [],
   "source": [
    "# Plot Optimizer History\n",
    "#fig = go.Figure(data=go.Scatter(x=counts, y=values))\n",
    "#fig.update_layout(xaxis_title=\"Evaluation Counts\", yaxis_title=\"Evaluated Mean\", title=\"Optimizer\")\n",
    "#fig.show()"
   ]
  }
 ],
 "metadata": {
  "kernelspec": {
   "display_name": "python3.8",
   "language": "python",
   "name": "python3.8"
  },
  "language_info": {
   "codemirror_mode": {
    "name": "ipython",
    "version": 3
   },
   "file_extension": ".py",
   "mimetype": "text/x-python",
   "name": "python",
   "nbconvert_exporter": "python",
   "pygments_lexer": "ipython3",
   "version": "3.8.6"
  }
 },
 "nbformat": 4,
 "nbformat_minor": 5
}
