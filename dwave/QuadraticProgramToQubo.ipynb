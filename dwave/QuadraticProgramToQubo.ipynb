{
 "cells": [
  {
   "cell_type": "code",
   "execution_count": 2,
   "metadata": {},
   "outputs": [],
   "source": [
    "from qiskit_optimization.converters import QuadraticProgramToQubo\n",
    "from qiskit_optimization.problems.variable import Variable\n",
    "from graph_helper import *\n",
    "from QiskitMaxcut import *\n",
    "from sympy import * "
   ]
  },
  {
   "cell_type": "code",
   "execution_count": 19,
   "metadata": {},
   "outputs": [
    {
     "data": {
      "image/png": "[encoded data removed]",
      "text/plain": [
       "<Figure size 432x288 with 1 Axes>"
      ]
     },
     "metadata": {},
     "output_type": "display_data"
    }
   ],
   "source": [
    "graph = generate_butterfly_graph(with_weights=True)\n",
    "max_cut = Maxcut(graph)\n",
    "max_cut_problem = max_cut.to_quadratic_program()\n",
    "max_cut.draw()"
   ]
  },
  {
   "cell_type": "code",
   "execution_count": 20,
   "metadata": {},
   "outputs": [
    {
     "name": "stdout",
     "output_type": "stream",
     "text": [
      "\\ This file has been generated by DOcplex\n",
      "\\ ENCODING=ISO-8859-1\n",
      "\\Problem name: Max-cut\n",
      "\n",
      "Maximize\n",
      " obj: 15 x_0 + 19 x_1 + 16 x_2 + 16 x_3 + 30 x_4 + [ - 36 x_0*x_3 - 24 x_0*x_4\n",
      "      - 36 x_1*x_2 - 40 x_1*x_4 - 28 x_2*x_4 - 28 x_3*x_4 ]/2\n",
      "Subject To\n",
      "\n",
      "Bounds\n",
      " 0 <= x_0 <= 1\n",
      " 0 <= x_1 <= 1\n",
      " 0 <= x_2 <= 1\n",
      " 0 <= x_3 <= 1\n",
      " 0 <= x_4 <= 1\n",
      "\n",
      "Binaries\n",
      " x_0 x_1 x_2 x_3 x_4\n",
      "End\n",
      "\n"
     ]
    }
   ],
   "source": [
    "print(max_cut_problem)"
   ]
  },
  {
   "cell_type": "code",
   "execution_count": 21,
   "metadata": {},
   "outputs": [],
   "source": [
    "conv_toQubo = QuadraticProgramToQubo()"
   ]
  },
  {
   "cell_type": "code",
   "execution_count": 22,
   "metadata": {},
   "outputs": [
    {
     "data": {
      "text/plain": [
       "True"
      ]
     },
     "execution_count": 22,
     "metadata": {},
     "output_type": "execute_result"
    }
   ],
   "source": [
    "conv_toQubo.is_compatible(max_cut_problem)"
   ]
  },
  {
   "cell_type": "code",
   "execution_count": 23,
   "metadata": {},
   "outputs": [],
   "source": [
    "mac_cut_qubo = conv_toQubo.convert(max_cut_problem)"
   ]
  },
  {
   "cell_type": "code",
   "execution_count": 24,
   "metadata": {},
   "outputs": [
    {
     "data": {
      "text/plain": [
       "\\ This file has been generated by DOcplex\n",
       "\\ ENCODING=ISO-8859-1\n",
       "\\Problem name: Max-cut\n",
       "\n",
       "Minimize\n",
       " obj: - 15 x_0 - 19 x_1 - 16 x_2 - 16 x_3 - 30 x_4 + [ 36 x_0*x_3 + 24 x_0*x_4\n",
       "      + 36 x_1*x_2 + 40 x_1*x_4 + 28 x_2*x_4 + 28 x_3*x_4 ]/2\n",
       "Subject To\n",
       "\n",
       "Bounds\n",
       " 0 <= x_0 <= 1\n",
       " 0 <= x_1 <= 1\n",
       " 0 <= x_2 <= 1\n",
       " 0 <= x_3 <= 1\n",
       " 0 <= x_4 <= 1\n",
       "\n",
       "Binaries\n",
       " x_0 x_1 x_2 x_3 x_4\n",
       "End"
      ]
     },
     "execution_count": 24,
     "metadata": {},
     "output_type": "execute_result"
    }
   ],
   "source": [
    "mac_cut_qubo"
   ]
  },
  {
   "cell_type": "code",
   "execution_count": 3,
   "metadata": {},
   "outputs": [],
   "source": [
    " x0, x1, x2, x3, x4 = symbols('x0 x1 x2 x3 x4')"
   ]
  },
  {
   "cell_type": "code",
   "execution_count": 4,
   "metadata": {},
   "outputs": [
    {
     "data": {
      "text/latex": [
       "$\\displaystyle \\left[\\begin{matrix}x_{0}\\\\x_{1}\\\\x_{2}\\\\x_{3}\\\\x_{4}\\end{matrix}\\right]$"
      ],
      "text/plain": [
       "Matrix([\n",
       "[x0],\n",
       "[x1],\n",
       "[x2],\n",
       "[x3],\n",
       "[x4]])"
      ]
     },
     "execution_count": 4,
     "metadata": {},
     "output_type": "execute_result"
    }
   ],
   "source": [
    "x = Matrix([x0, x1, x2, x3, x4])\n",
    "x"
   ]
  },
  {
   "cell_type": "code",
   "execution_count": 7,
   "metadata": {},
   "outputs": [
    {
     "data": {
      "text/latex": [
       "$\\displaystyle \\left[\\begin{matrix}-15 & 0 & 0 & 36 & 24\\\\0 & -19 & 36 & 0 & 40\\\\0 & 0 & -16 & 0 & 28\\\\0 & 0 & 0 & -16 & 28\\\\0 & 0 & 0 & 0 & -30\\end{matrix}\\right]$"
      ],
      "text/plain": [
       "Matrix([\n",
       "[-15,   0,   0,  36,  24],\n",
       "[  0, -19,  36,   0,  40],\n",
       "[  0,   0, -16,   0,  28],\n",
       "[  0,   0,   0, -16,  28],\n",
       "[  0,   0,   0,   0, -30]])"
      ]
     },
     "execution_count": 7,
     "metadata": {},
     "output_type": "execute_result"
    }
   ],
   "source": [
    "# könnte Q-Matrix für DWave sein \n",
    "Q = Matrix([[-15, 0, 0, 36, 24],[0, -19, 36, 0, 40],[0, 0, -16, 0, 28],[0, 0, 0, -16, 28],[0, 0, 0, 0, -30]])\n",
    "Q"
   ]
  },
  {
   "cell_type": "code",
   "execution_count": 6,
   "metadata": {},
   "outputs": [
    {
     "data": {
      "text/latex": [
       "$\\displaystyle \\left[\\begin{matrix}- 15 x_{0}^{2} - 19 x_{1}^{2} + x_{2} \\left(36 x_{1} - 16 x_{2}\\right) + x_{3} \\left(36 x_{0} - 16 x_{3}\\right) + x_{4} \\left(24 x_{0} + 40 x_{1} + 28 x_{2} + 28 x_{3} - 30 x_{4}\\right)\\end{matrix}\\right]$"
      ],
      "text/plain": [
       "Matrix([[-15*x0**2 - 19*x1**2 + x2*(36*x1 - 16*x2) + x3*(36*x0 - 16*x3) + x4*(24*x0 + 40*x1 + 28*x2 + 28*x3 - 30*x4)]])"
      ]
     },
     "execution_count": 6,
     "metadata": {},
     "output_type": "execute_result"
    }
   ],
   "source": [
    "x.T * Q * x"
   ]
  },
  {
   "cell_type": "code",
   "execution_count": null,
   "metadata": {},
   "outputs": [],
   "source": []
  }
 ],
 "metadata": {
  "kernelspec": {
   "display_name": "Python 3",
   "language": "python",
   "name": "python3"
  },
  "language_info": {
   "codemirror_mode": {
    "name": "ipython",
    "version": 3
   },
   "file_extension": ".py",
   "mimetype": "text/x-python",
   "name": "python",
   "nbconvert_exporter": "python",
   "pygments_lexer": "ipython3",
   "version": "3.6.8"
  }
 },
 "nbformat": 4,
 "nbformat_minor": 4
}
