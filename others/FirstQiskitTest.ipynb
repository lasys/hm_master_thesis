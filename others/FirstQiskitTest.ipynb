{
 "cells": [
  {
   "cell_type": "code",
   "execution_count": 1,
   "metadata": {},
   "outputs": [
    {
     "name": "stderr",
     "output_type": "stream",
     "text": [
      "/home/hm-tlacherm/.local/lib/python3.6/site-packages/qiskit/__init__.py:67: DeprecationWarning: Using Qiskit with Python 3.6 is deprecated as of the 0.17.0 release. Support for running Qiskit with Python 3.6 will be removed in a future release.\n",
      "  DeprecationWarning,\n"
     ]
    }
   ],
   "source": [
    "import qiskit"
   ]
  },
  {
   "cell_type": "code",
   "execution_count": 2,
   "metadata": {},
   "outputs": [],
   "source": [
    "# qiskit.IBMQ.save_account('71bae2b2152c7e73a48f3ebac8d0f76e3274d0b1bcb9e7172e712b67fddf24001c62b2a9df59f42e09da08b46e0d5b81461f73202a5e24121fefe9058d93e5c6')\n",
    "provider = qiskit.IBMQ.load_account()\n",
    "#provider.backends()"
   ]
  },
  {
   "cell_type": "code",
   "execution_count": 3,
   "metadata": {},
   "outputs": [
    {
     "name": "stderr",
     "output_type": "stream",
     "text": [
      "/home/hm-tlacherm/.local/lib/python3.6/site-packages/qiskit/aqua/__init__.py:86: DeprecationWarning: The package qiskit.aqua is deprecated. It was moved/refactored to qiskit-terra For more information see <https://github.com/Qiskit/qiskit-aqua/blob/main/README.md#migration-guide>\n",
      "  warn_package('aqua', 'qiskit-terra')\n",
      "/home/hm-tlacherm/.local/lib/python3.6/site-packages/qiskit/optimization/__init__.py:92: DeprecationWarning: The package qiskit.optimization is deprecated. It was moved/refactored to qiskit_optimization (pip install qiskit-optimization). For more information see <https://github.com/Qiskit/qiskit-aqua/blob/main/README.md#migration-guide>\n",
      "  warn_package('optimization', 'qiskit_optimization', 'qiskit-optimization')\n"
     ]
    }
   ],
   "source": [
    "# useful additional packages\n",
    "import matplotlib.pyplot as plt\n",
    "import matplotlib.axes as axes\n",
    "%matplotlib inline\n",
    "import numpy as np\n",
    "import networkx as nx\n",
    "from collections import OrderedDict\n",
    "\n",
    "from qiskit import Aer, IBMQ\n",
    "from qiskit.tools.visualization import plot_histogram\n",
    "from qiskit.circuit.library import TwoLocal\n",
    "from qiskit.optimization.applications.ising import max_cut, tsp\n",
    "from qiskit.algorithms import VQE, NumPyMinimumEigensolver, QAOA\n",
    "from qiskit.utils import QuantumInstance, algorithm_globals\n",
    "from qiskit.optimization.applications.ising.common import sample_most_likely\n",
    "from qiskit_optimization.algorithms import MinimumEigenOptimizer\n",
    "from qiskit.optimization.problems import QuadraticProgram\n",
    "\n",
    "from qiskit.algorithms.optimizers import COBYLA, SPSA\n",
    "from qiskit.opflow import X, Y, Z, I, CX, T, H, S, PrimitiveOp, StateFn\n",
    "from qiskit.providers.aer import noise\n",
    "\n",
    "# Import error mitigation functions\n",
    "from qiskit.ignis.mitigation.measurement import CompleteMeasFitter"
   ]
  },
  {
   "cell_type": "code",
   "execution_count": 4,
   "metadata": {},
   "outputs": [
    {
     "name": "stdout",
     "output_type": "stream",
     "text": [
      "optimal function value: 35.0\n",
      "optimal value: [1. 0. 1. 0. 1.]\n",
      "status: SUCCESS\n"
     ]
    },
    {
     "name": "stderr",
     "output_type": "stream",
     "text": [
      "/usr/local/lib/python3.6/site-packages/ipykernel_launcher.py:68: DeprecationWarning: \n",
      "The VQE.get_optimal_circuit method is deprecated as of Qiskit Terra\n",
      "0.18.0 and will be removed no sooner than 3 months after the releasedate.\n",
      "This information is part of the returned result object and can be\n",
      "queried as VQEResult.ansatz.bind_parameters(VQEResult.optimal_point).\n"
     ]
    }
   ],
   "source": [
    "import networkx as nx\n",
    "import numpy as np\n",
    "import pylab\n",
    "\n",
    "from qiskit_optimization import QuadraticProgram\n",
    "from qiskit_optimization.algorithms import MinimumEigenOptimizer,  CplexOptimizer, CobylaOptimizer, ADMMOptimizer\n",
    "\n",
    "from qiskit import BasicAer\n",
    "from qiskit.algorithms import QAOA\n",
    "from qiskit.algorithms.optimizers import SPSA\n",
    "\n",
    "from qiskit.providers.aer.noise import NoiseModel\n",
    "from qiskit.providers.aer import QasmSimulator\n",
    "\n",
    "from qiskit_optimization.algorithms import WarmStartQAOAOptimizer\n",
    "\n",
    "# Generate a graph of 4 nodes\n",
    "n = 5\n",
    "graph = nx.Graph()\n",
    "graph.add_nodes_from(np.arange(0, n, 1))\n",
    "elist = [(0, 3, 9), (0, 4, 6), (1, 2, 9), (1, 4, 10), (2, 4, 7), (3, 4, 7)]\n",
    "graph.add_weighted_edges_from(elist)\n",
    "\n",
    "# Compute the weight matrix from the graph\n",
    "w = nx.adjacency_matrix(graph)\n",
    "\n",
    "# Formulate the problem as quadratic program\n",
    "problem = QuadraticProgram()\n",
    "_ = [problem.binary_var('x{}'.format(i)) for i in range(n)]  # create n binary variables\n",
    "linear = w.dot(np.ones(n))\n",
    "quadratic = -w\n",
    "problem.maximize(linear=linear, quadratic=quadratic)\n",
    "\n",
    "# Fix node 0 to be 1 to break the symmetry of the max-cut solution\n",
    "problem.linear_constraint([1, 0, 0, 0, 0], '==', 1)\n",
    "\n",
    "# Run quantum algorithm QAOA on qasm simulator\n",
    "spsa = SPSA(maxiter=500)\n",
    "backend = BasicAer.get_backend('qasm_simulator')\n",
    "\n",
    "def store_intermediate_result1(eval_count, parameters, mean, std):\n",
    "    counts1.append(eval_count)\n",
    "    values1.append(mean)\n",
    "\n",
    "# Noise\n",
    "device_backend = 'ibmq_lima'\n",
    "backend = Aer.get_backend('aer_simulator')\n",
    "counts1 = []\n",
    "values1 = []\n",
    "backend = provider.get_backend('ibmq_lima')\n",
    "noise_model = NoiseModel.from_backend(backend)\n",
    "coupling_map = backend.configuration().coupling_map\n",
    "basis_gates = noise_model.basis_gates\n",
    "\n",
    "qi_noise_model_ibmq = QuantumInstance(backend=Aer.get_backend('qasm_simulator'), \n",
    "                    shots=8000,\n",
    "                    noise_model=noise_model,\n",
    "                    coupling_map=coupling_map,\n",
    "                    basis_gates=basis_gates,\n",
    ")\n",
    "                #  measurement_error_mitigation_cls=CompleteMeasFitter,\n",
    "                #  measurement_error_mitigation_shots=8000)\n",
    "\n",
    "qaoa = QAOA(optimizer=spsa, quantum_instance=qi_noise_model_ibmq, reps=10, callback=store_intermediate_result1, initial_point=[0., 0., 0., 0., 0.,0., 0., 0., 0., 0., 1., 1., 1., 1., 1.,1., 1., 1., 1., 1.])\n",
    "\n",
    "algorithm = MinimumEigenOptimizer(qaoa)\n",
    "result = algorithm.solve(problem)\n",
    "c = qaoa.get_optimal_circuit()\n",
    "# print(result.samples)\n",
    "print(result)  # prints solution, x=[1, 0, 1, 0], the cost, fval=4"
   ]
  },
  {
   "cell_type": "code",
   "execution_count": 5,
   "metadata": {},
   "outputs": [
    {
     "data": {
      "text/html": [
       "<h3>Version Information</h3><table><tr><th>Qiskit Software</th><th>Version</th></tr><tr><td><code>qiskit-terra</code></td><td>0.18.0</td></tr><tr><td><code>qiskit-aer</code></td><td>0.8.2</td></tr><tr><td><code>qiskit-ignis</code></td><td>0.6.0</td></tr><tr><td><code>qiskit-ibmq-provider</code></td><td>0.15.0</td></tr><tr><td><code>qiskit-aqua</code></td><td>0.9.4</td></tr><tr><td><code>qiskit</code></td><td>0.28.0</td></tr><tr><td><code>qiskit-nature</code></td><td>0.1.4</td></tr><tr><td><code>qiskit-optimization</code></td><td>0.2.0</td></tr><tr><th>System information</th></tr><tr><td>Python</td><td>3.6.8 (default, Dec  5 2019, 15:45:45) \n",
       "[GCC 8.3.1 20191121 (Red Hat 8.3.1-5)]</td></tr><tr><td>OS</td><td>Linux</td></tr><tr><td>CPUs</td><td>192</td></tr><tr><td>Memory (Gb)</td><td>6046.015735626221</td></tr><tr><td colspan='2'>Fri Jul 16 11:19:26 2021 CEST</td></tr></table>"
      ],
      "text/plain": [
       "<IPython.core.display.HTML object>"
      ]
     },
     "metadata": {},
     "output_type": "display_data"
    }
   ],
   "source": [
    "import qiskit.tools.jupyter\n",
    "%qiskit_version_table"
   ]
  }
 ],
 "metadata": {
  "kernelspec": {
   "display_name": "Python 3",
   "language": "python",
   "name": "python3"
  },
  "language_info": {
   "codemirror_mode": {
    "name": "ipython",
    "version": 3
   },
   "file_extension": ".py",
   "mimetype": "text/x-python",
   "name": "python",
   "nbconvert_exporter": "python",
   "pygments_lexer": "ipython3",
   "version": "3.6.8"
  }
 },
 "nbformat": 4,
 "nbformat_minor": 4
}
