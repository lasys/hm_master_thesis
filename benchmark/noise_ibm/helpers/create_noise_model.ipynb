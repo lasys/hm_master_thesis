{
 "cells": [
  {
   "cell_type": "code",
   "execution_count": 1,
   "id": "e4f107c1",
   "metadata": {},
   "outputs": [],
   "source": [
    "import pickle\n",
    "import qiskit\n",
    "from qiskit.providers.aer.noise import NoiseModel\n",
    "provider = qiskit.IBMQ.load_account()\n",
    "provider = qiskit.IBMQ.get_provider(hub='ibm-q-unibw', group='hochschule-muc', project='masterarbeit')"
   ]
  },
  {
   "cell_type": "code",
   "execution_count": 2,
   "id": "965bfee0",
   "metadata": {},
   "outputs": [],
   "source": [
    "def load_from_pickle(name):\n",
    "    with open(name, 'rb') as f:\n",
    "        return pickle.load(f)"
   ]
  },
  {
   "cell_type": "code",
   "execution_count": 3,
   "id": "73994e95",
   "metadata": {},
   "outputs": [],
   "source": [
    "def save_to_pickle(name, data):\n",
    "    with open(name, 'wb') as f:\n",
    "        pickle.dump(data, f, pickle.HIGHEST_PROTOCOL)"
   ]
  },
  {
   "cell_type": "code",
   "execution_count": 4,
   "id": "f8ef61fe",
   "metadata": {},
   "outputs": [],
   "source": [
    "ibmq_name = \"ibmq_toronto\""
   ]
  },
  {
   "cell_type": "code",
   "execution_count": 5,
   "id": "603d4180",
   "metadata": {},
   "outputs": [],
   "source": [
    "# NoiseModel"
   ]
  },
  {
   "cell_type": "code",
   "execution_count": 6,
   "id": "ef22bea3",
   "metadata": {},
   "outputs": [],
   "source": [
    "noise_backend = provider.get_backend(ibmq_name)\n",
    "noise_model = NoiseModel.from_backend(noise_backend)\n",
    "noise_model_dict = noise_model.to_dict()\n",
    "noise_model_filename = f\"{ibmq_name}_noise_model_dict.pkl\""
   ]
  },
  {
   "cell_type": "code",
   "execution_count": 7,
   "id": "22af529d",
   "metadata": {},
   "outputs": [],
   "source": [
    "save_to_pickle(noise_model_filename, noise_model_dict)"
   ]
  },
  {
   "cell_type": "code",
   "execution_count": 8,
   "id": "4a6af468",
   "metadata": {},
   "outputs": [],
   "source": [
    "loaded_noise_model_dict = load_from_pickle(noise_model_filename)"
   ]
  },
  {
   "cell_type": "code",
   "execution_count": 9,
   "id": "2783a82a",
   "metadata": {},
   "outputs": [],
   "source": [
    "#loaded_noise_model_dict"
   ]
  },
  {
   "cell_type": "code",
   "execution_count": 10,
   "id": "446e33e1",
   "metadata": {
    "scrolled": true
   },
   "outputs": [],
   "source": [
    "#noise_model_dict"
   ]
  },
  {
   "cell_type": "code",
   "execution_count": 11,
   "id": "796507b8",
   "metadata": {},
   "outputs": [],
   "source": [
    "#loaded_noise_model_dict == noise_model_dict"
   ]
  },
  {
   "cell_type": "code",
   "execution_count": 12,
   "id": "1ffc2d95",
   "metadata": {},
   "outputs": [],
   "source": [
    "# BackendConfiguration"
   ]
  },
  {
   "cell_type": "code",
   "execution_count": 13,
   "id": "44bbd571",
   "metadata": {},
   "outputs": [],
   "source": [
    "noise_backend_configuration = noise_backend.configuration()\n",
    "noise_backend_configuation_dict = noise_backend.configuration().to_dict()\n",
    "noise_backend_configuration_filename = f\"{ibmq_name}_noise_backend_configuation_dict.pkl\""
   ]
  },
  {
   "cell_type": "code",
   "execution_count": 14,
   "id": "c233bbfa",
   "metadata": {},
   "outputs": [],
   "source": [
    "save_to_pickle(noise_backend_configuration_filename, noise_backend_configuation_dict)"
   ]
  },
  {
   "cell_type": "code",
   "execution_count": 15,
   "id": "9748bbb5",
   "metadata": {},
   "outputs": [],
   "source": [
    "loaded_noise_backend_configuation_dict = load_from_pickle(noise_backend_configuration_filename)"
   ]
  },
  {
   "cell_type": "code",
   "execution_count": 16,
   "id": "7cd508e9",
   "metadata": {},
   "outputs": [
    {
     "data": {
      "text/plain": [
       "True"
      ]
     },
     "execution_count": 16,
     "metadata": {},
     "output_type": "execute_result"
    }
   ],
   "source": [
    "loaded_noise_backend_configuation_dict == noise_backend_configuation_dict"
   ]
  },
  {
   "cell_type": "code",
   "execution_count": null,
   "id": "5c1e831e",
   "metadata": {},
   "outputs": [],
   "source": []
  }
 ],
 "metadata": {
  "kernelspec": {
   "display_name": "python3.8",
   "language": "python",
   "name": "python3.8"
  },
  "language_info": {
   "codemirror_mode": {
    "name": "ipython",
    "version": 3
   },
   "file_extension": ".py",
   "mimetype": "text/x-python",
   "name": "python",
   "nbconvert_exporter": "python",
   "pygments_lexer": "ipython3",
   "version": "3.8.6"
  }
 },
 "nbformat": 4,
 "nbformat_minor": 5
}
