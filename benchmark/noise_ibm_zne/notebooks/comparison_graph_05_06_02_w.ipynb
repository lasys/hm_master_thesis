{
 "cells": [
  {
   "cell_type": "markdown",
   "id": "7059a5d5",
   "metadata": {},
   "source": [
    "# graph_05_06_02_w"
   ]
  },
  {
   "cell_type": "code",
   "execution_count": 1,
   "id": "c023c0a5",
   "metadata": {},
   "outputs": [],
   "source": [
    "import sys\n",
    "import os\n",
    "sys.path.insert(0, os.path.abspath('../'))\n",
    "sys.path.insert(0, os.path.abspath('../../'))\n",
    "sys.path.insert(0, os.path.abspath('/home/hm-tlacherm/qlm_notebooks/notebooks_1.2.1/notebooks/measurements/noise_model_zne/master_thesis_qaoa'))"
   ]
  },
  {
   "cell_type": "code",
   "execution_count": 2,
   "id": "e68b51da",
   "metadata": {
    "scrolled": true
   },
   "outputs": [],
   "source": [
    "import qiskit\n",
    "provider = qiskit.IBMQ.load_account()\n",
    "from qiskit_optimization.algorithms import GoemansWilliamsonOptimizer\n",
    "\n",
    "from helpers import *\n",
    "from shared.QiskitMaxcut import *\n",
    "from shared.graph_helper import *"
   ]
  },
  {
   "cell_type": "code",
   "execution_count": 3,
   "id": "3b68aea8",
   "metadata": {},
   "outputs": [],
   "source": [
    "%load_ext autoreload\n",
    "%autoreload 2"
   ]
  },
  {
   "cell_type": "code",
   "execution_count": 4,
   "id": "302c7021",
   "metadata": {
    "scrolled": true
   },
   "outputs": [
    {
     "data": {
      "image/png": "[encoded data removed]",
      "text/plain": [
       "<Figure size 432x288 with 1 Axes>"
      ]
     },
     "metadata": {},
     "output_type": "display_data"
    }
   ],
   "source": [
    "# ---- Define graph and MaxCut ----\n",
    "filename = \"graph_05_06_02_w.txt\"\n",
    "graph = load_nx_graph_from(f\"../data/{filename}\")\n",
    "opt_max_cut = -get_max_cut(graph.name)\n",
    "max_cut = Maxcut(graph, opt_max_cut)\n",
    "max_cut_qubo = max_cut.to_qubo()\n",
    "max_cut.draw()"
   ]
  },
  {
   "cell_type": "markdown",
   "id": "5ff2cfb6",
   "metadata": {},
   "source": [
    "### Goemans Williamson Solution"
   ]
  },
  {
   "cell_type": "code",
   "execution_count": 47,
   "id": "d2978129",
   "metadata": {},
   "outputs": [],
   "source": [
    "%matplotlib inline"
   ]
  },
  {
   "cell_type": "code",
   "execution_count": 52,
   "id": "fcdc0c75",
   "metadata": {},
   "outputs": [
    {
     "name": "stdout",
     "output_type": "stream",
     "text": [
      "optimal function value: 35.0\n",
      "optimal value: [0 1 0 1 0]\n",
      "status: SUCCESS\n",
      "00011: value: -32.000, probability: 50.0%\n",
      "01010: value: -35.000, probability: 50.0%\n",
      "Expectation Value: -33.5\n",
      "Highest Exp.Value: -32 with 50.0 %\n",
      "Lowest Exp.Value: -35 with 50.0 %\n",
      "Highest Probability: -35 with 50.0 %\n",
      "Ratio r: 0.5\n",
      "Approiximation ratio: 0.9571428571428572\n",
      "MSE: 2.25\n",
      "RMSE: 1.5\n"
     ]
    }
   ],
   "source": [
    "optimizer = GoemansWilliamsonOptimizer(2)\n",
    "result = optimizer.solve(max_cut_qubo)\n",
    "mean, distribution = max_cut.analyse(result, print_output=True)\n",
    "max_cut.plot_histogram(distribution, mean)"
   ]
  },
  {
   "cell_type": "markdown",
   "id": "ceff3689",
   "metadata": {},
   "source": [
    "## Parameters"
   ]
  },
  {
   "cell_type": "code",
   "execution_count": 6,
   "id": "d1d82779",
   "metadata": {},
   "outputs": [
    {
     "name": "stdout",
     "output_type": "stream",
     "text": [
      "Backend = Simulator_Noise_Model\n",
      "EVAL_NUM = 50\n",
      "MAX_ITER = 0\n",
      "MAX_P = 4\n",
      "SHOTS = 1024\n",
      "Initial_Points = [array([-3.33412359,  5.45892711]), array([ 0.47267939,  3.07283929, -3.80560601,  3.86218767]), array([-6.74717392, -0.9163878 , -4.77892508,  1.93667299, -3.17040873,\n",
      "       -3.50351501]), array([ 6.75570487,  1.09724577, -3.19311042,  1.02429928, -4.3558831 ,\n",
      "       -4.42997004, -4.2206179 , -4.84945794])]\n"
     ]
    }
   ],
   "source": [
    "BACKEND, EVAL_NUM, MAX_ITER, MAX_P, SHOTS, init_points = load_configs(graph.name)\n",
    "display_configs()\n",
    "all_results = {}"
   ]
  },
  {
   "cell_type": "markdown",
   "id": "df53612d",
   "metadata": {},
   "source": [
    "## QAOA"
   ]
  },
  {
   "cell_type": "code",
   "execution_count": 7,
   "id": "ce11cc42",
   "metadata": {},
   "outputs": [],
   "source": [
    "from helpers.qaoa_helper import *"
   ]
  },
  {
   "cell_type": "code",
   "execution_count": 8,
   "id": "337270a1",
   "metadata": {},
   "outputs": [],
   "source": [
    "from typing import Optional, List, Callable, Union, Dict, Tuple\n",
    "import logging\n",
    "import warnings\n",
    "from time import time\n",
    "import numpy as np\n",
    "\n",
    "from qiskit.circuit import QuantumCircuit, Parameter\n",
    "from qiskit.circuit.library import RealAmplitudes\n",
    "from qiskit.providers import BaseBackend\n",
    "from qiskit.providers import Backend\n",
    "from qiskit.opflow import (\n",
    "    OperatorBase,\n",
    "    ExpectationBase,\n",
    "    ExpectationFactory,\n",
    "    StateFn,\n",
    "    CircuitStateFn,\n",
    "    ListOp,\n",
    "    I,\n",
    "    CircuitSampler,\n",
    ")\n",
    "from qiskit.opflow.gradients import GradientBase\n",
    "from qiskit.utils.validation import validate_min\n",
    "from qiskit.utils.backend_utils import is_aer_provider\n",
    "from qiskit.utils.deprecation import deprecate_function\n",
    "from qiskit.utils import QuantumInstance, algorithm_globals\n",
    "from qiskit.algorithms.optimizers import Optimizer, SLSQP\n",
    "from qiskit.algorithms.variational_algorithm import VariationalAlgorithm, VariationalResult\n",
    "from qiskit.algorithms import MinimumEigensolver, MinimumEigensolverResult\n",
    "from qiskit.algorithms.exceptions import AlgorithmError\n",
    "\n",
    "from qiskit.algorithms.minimum_eigen_solvers.vqe import (\n",
    "    VQE,\n",
    "    VQEResult,\n",
    "    _validate_initial_point,\n",
    "    _validate_bounds\n",
    ")\n",
    "\n",
    "logger = logging.getLogger(__name__)\n",
    "\n",
    "class MyQAOA(QAOA):\n",
    "    \n",
    "    def compute_minimum_eigenvalue(\n",
    "        self, operator: OperatorBase, aux_operators: Optional[List[Optional[OperatorBase]]] = None\n",
    "    ) -> MinimumEigensolverResult:\n",
    "        #super().compute_minimum_eigenvalue(operator, aux_operators)\n",
    "\n",
    "        if self.quantum_instance is None:\n",
    "            raise AlgorithmError(\n",
    "                \"A QuantumInstance or Backend must be supplied to run the quantum algorithm.\"\n",
    "            )\n",
    "        self.quantum_instance.circuit_summary = True\n",
    "\n",
    "        # this sets the size of the ansatz, so it must be called before the initial point\n",
    "        # validation\n",
    "        #self._check_operator_ansatz(operator)\n",
    "\n",
    "        # set an expectation for this algorithm run (will be reset to None at the end)\n",
    "        initial_point = self.initial_point #_validate_initial_point(self.initial_point, self.ansatz)\n",
    "\n",
    "        bounds = _validate_bounds(self.ansatz)\n",
    "\n",
    "        # We need to handle the array entries being Optional i.e. having value None\n",
    "        if aux_operators:\n",
    "            zero_op = I.tensorpower(operator.num_qubits) * 0.0\n",
    "            converted = []\n",
    "            for op in aux_operators:\n",
    "                if op is None:\n",
    "                    converted.append(zero_op)\n",
    "                else:\n",
    "                    converted.append(op)\n",
    "\n",
    "            # For some reason Chemistry passes aux_ops with 0 qubits and paulis sometimes.\n",
    "            aux_operators = [zero_op if op == 0 else op for op in converted]\n",
    "        else:\n",
    "            aux_operators = None\n",
    "\n",
    "        # Convert the gradient operator into a callable function that is compatible with the\n",
    "        # optimization routine.\n",
    "        if isinstance(self._gradient, GradientBase):\n",
    "            gradient = self._gradient.gradient_wrapper(\n",
    "                ~StateFn(operator) @ StateFn(self._ansatz),\n",
    "                bind_params=self._ansatz_params,\n",
    "                backend=self._quantum_instance,\n",
    "            )\n",
    "        else:\n",
    "            gradient = self._gradient\n",
    "\n",
    "        self._eval_count = 0\n",
    "        energy_evaluation, expectation = self.get_energy_evaluation(\n",
    "            operator, return_expectation=True\n",
    "        )\n",
    "\n",
    "        start_time = time()\n",
    "        opt_params, opt_value, nfev = self.optimizer.optimize(\n",
    "            num_vars=len(initial_point),\n",
    "            objective_function=energy_evaluation,\n",
    "            gradient_function=gradient,\n",
    "            variable_bounds=bounds,\n",
    "            initial_point=initial_point,\n",
    "        )\n",
    "        eval_time = time() - start_time\n",
    "        \n",
    "        result = VQEResult()\n",
    "        result.optimal_point = opt_params\n",
    "        result.optimal_parameters = dict(zip(self._ansatz_params, opt_params))\n",
    "        result.optimal_value = opt_value\n",
    "        result.cost_function_evals = nfev\n",
    "        result.optimizer_time = eval_time\n",
    "        result.eigenvalue = opt_value + 0j\n",
    "        result.eigenstate = self._get_eigenstate(result.optimal_parameters)\n",
    "\n",
    "        logger.info(\n",
    "            \"Optimization complete in %s seconds.\\nFound opt_params %s in %s evals\",\n",
    "            eval_time,\n",
    "            result.optimal_point,\n",
    "            self._eval_count,\n",
    "        )\n",
    "        \n",
    "        # TODO delete as soon as get_optimal_vector etc are removed\n",
    "        self._ret = result\n",
    "\n",
    "        if aux_operators is not None:\n",
    "            aux_values = self._eval_aux_ops(opt_result.x, aux_operators, expectation=expectation)\n",
    "            result.aux_operator_eigenvalues = aux_values[0]\n",
    "\n",
    "        return result\n",
    "    \n",
    "    \n",
    "    \n",
    "    def get_energy_evaluation(\n",
    "        self,\n",
    "        operator: OperatorBase,\n",
    "        return_expectation: bool = False,\n",
    "    ) -> Callable[[np.ndarray], Union[float, List[float]]]:\n",
    "        \"\"\"Returns a function handle to evaluates the energy at given parameters for the ansatz.\n",
    "        This is the objective function to be passed to the optimizer that is used for evaluation.\n",
    "        Args:\n",
    "            operator: The operator whose energy to evaluate.\n",
    "            return_expectation: If True, return the ``ExpectationBase`` expectation converter used\n",
    "                in the construction of the expectation value. Useful e.g. to evaluate other\n",
    "                operators with the same expectation value converter.\n",
    "        Returns:\n",
    "            Energy of the hamiltonian of each parameter, and, optionally, the expectation\n",
    "            converter.\n",
    "        Raises:\n",
    "            RuntimeError: If the circuit is not parameterized (i.e. has 0 free parameters).\n",
    "        \"\"\"\n",
    "        num_parameters = len(self._initial_point) #self.ansatz.num_parameters\n",
    "        #if num_parameters == 0:\n",
    "        #    raise RuntimeError(\"The ansatz must be parameterized, but has 0 free parameters.\")\n",
    "\n",
    "        expect_op, expectation = self.construct_expectation(\n",
    "            self._ansatz_params, operator, return_expectation=True\n",
    "        )\n",
    "\n",
    "        def energy_evaluation(parameters):\n",
    "            parameter_sets = np.reshape(self._initial_point, (-1, num_parameters))\n",
    "            #print(parameter_sets)\n",
    "            #print(self._ansatz_params)\n",
    "            # Create dict associating each parameter with the lists of parameterization values for it\n",
    "            param_bindings = dict(zip(self._ansatz_params, parameter_sets.transpose().tolist()))\n",
    "\n",
    "            start_time = time()\n",
    "            sampled_expect_op = self._circuit_sampler.convert(expect_op)\n",
    "            means = [ np.real(sampled_expect_op.eval()) ]\n",
    "            print(f\"means: {means}\")\n",
    "            if self._callback is not None:\n",
    "                variance = np.real(expectation.compute_variance(sampled_expect_op))\n",
    "                estimator_error = np.sqrt(variance / self.quantum_instance.run_config.shots)\n",
    "                for i, param_set in enumerate(parameter_sets):\n",
    "                    self._eval_count += 1\n",
    "                    self._callback(self._eval_count, param_set, means[i], estimator_error[i])\n",
    "            else:\n",
    "                self._eval_count += len(means)\n",
    "\n",
    "            end_time = time()\n",
    "            logger.info(\n",
    "                \"Energy evaluation returned %s - %.5f (ms), eval count: %s\",\n",
    "                means,\n",
    "                (end_time - start_time) * 1000,\n",
    "                self._eval_count,\n",
    "            )\n",
    "\n",
    "            return means if len(means) > 1 else means[0]\n",
    "\n",
    "        if return_expectation:\n",
    "            return energy_evaluation, expectation\n",
    "\n",
    "        return energy_evaluation\n"
   ]
  },
  {
   "cell_type": "code",
   "execution_count": 9,
   "id": "08dd3872",
   "metadata": {},
   "outputs": [],
   "source": [
    "from helpers.quantum_instance_helper import _create_simulator_with_noise_quantum_instance\n",
    "quantum_noise_instance = _create_simulator_with_noise_quantum_instance()"
   ]
  },
  {
   "cell_type": "code",
   "execution_count": 36,
   "id": "bed97ed1",
   "metadata": {},
   "outputs": [],
   "source": [
    "from qiskit.optimization.algorithms import CobylaOptimizer\n",
    "\n",
    "def executor(ansatz, max_cut) -> float:\n",
    "    \"\"\"  \"\"\"\n",
    "    # default qaoa init\n",
    "    qaoa = MyQAOA(optimizer = COBYLA(maxiter=0),\n",
    "            quantum_instance=quantum_noise_instance,\n",
    "            reps=2,\n",
    "            initial_point=[0.,0.,0.,0.],\n",
    "           )\n",
    "     # init QAOA with given Ansatz\n",
    "    qaoa.ansatz = ansatz\n",
    "    algorithm = MinimumEigenOptimizer(qaoa)\n",
    "    result = algorithm.solve(max_cut.to_qubo())\n",
    "    mean, r, ar = max_cut.analyse_evaluation(result, print_output=False)\n",
    "    \n",
    "    #print(qaoa.ansatz)\n",
    "    #plt.show()\n",
    "    # run QAOA\n",
    "    # analyse with max_cut\n",
    "    # return mean \n",
    "    \n",
    "    # Return the expectation value\n",
    "    return mean"
   ]
  },
  {
   "cell_type": "code",
   "execution_count": 37,
   "id": "336439e2",
   "metadata": {},
   "outputs": [],
   "source": [
    "from qiskit import Aer\n",
    "from qiskit.algorithms.minimum_eigen_solvers.vqe import _validate_initial_point, _validate_bounds\n",
    "def create_ansatz(qubo, params, reps):\n",
    "    \n",
    "    operator, offset = qubo.to_ising()\n",
    "    \n",
    "    qaoa = QAOA(optimizer = COBYLA(maxiter=0),\n",
    "            quantum_instance=quantum_noise_instance,\n",
    "            reps=reps,\n",
    "            initial_point=params,\n",
    "           )\n",
    "    \n",
    "    # create random _initial_point if not exists \n",
    "    if qaoa._initial_point is None:\n",
    "        qaoa._initial_point = np.random.uniform(low=-2/np.pi, high=2/np.pi, size=(num_parameters,))\n",
    "        \n",
    "    # check and validate points and ansatz\n",
    "    qaoa._check_operator_ansatz(operator)\n",
    "    initial_point = _validate_initial_point(qaoa._initial_point, qaoa.ansatz)\n",
    "    bounds = _validate_bounds(qaoa.ansatz)\n",
    "        \n",
    "    # construct circuit \n",
    "    param_dict = dict(zip(qaoa._ansatz_params, initial_point))  # type: Dict\n",
    "    circuit = qaoa.ansatz.assign_parameters(param_dict)\n",
    "    \n",
    "    return circuit\n",
    "\n",
    "    "
   ]
  },
  {
   "cell_type": "code",
   "execution_count": 38,
   "id": "dc09b582",
   "metadata": {},
   "outputs": [],
   "source": [
    "a = create_ansatz(max_cut_qubo, [0.5,1.05],1)"
   ]
  },
  {
   "cell_type": "code",
   "execution_count": 39,
   "id": "877a30e9",
   "metadata": {},
   "outputs": [
    {
     "name": "stdout",
     "output_type": "stream",
     "text": [
      "means: [-2.2802734375]\n"
     ]
    },
    {
     "ename": "KeyboardInterrupt",
     "evalue": "",
     "output_type": "error",
     "traceback": [
      "\u001b[0;31m---------------------------------------------------------------------------\u001b[0m",
      "\u001b[0;31mKeyboardInterrupt\u001b[0m                         Traceback (most recent call last)",
      "\u001b[0;32m/tmp/ipykernel_2994906/1496150636.py\u001b[0m in \u001b[0;36m<module>\u001b[0;34m\u001b[0m\n\u001b[1;32m      3\u001b[0m \u001b[0;34m\u001b[0m\u001b[0m\n\u001b[1;32m      4\u001b[0m     \u001b[0ma\u001b[0m \u001b[0;34m=\u001b[0m \u001b[0mcreate_ansatz\u001b[0m\u001b[0;34m(\u001b[0m\u001b[0mmax_cut_qubo\u001b[0m\u001b[0;34m,\u001b[0m \u001b[0;34m[\u001b[0m\u001b[0;36m0.5\u001b[0m\u001b[0;34m,\u001b[0m\u001b[0;36m1.05\u001b[0m\u001b[0;34m]\u001b[0m\u001b[0;34m,\u001b[0m\u001b[0;36m1\u001b[0m\u001b[0;34m)\u001b[0m\u001b[0;34m\u001b[0m\u001b[0;34m\u001b[0m\u001b[0m\n\u001b[0;32m----> 5\u001b[0;31m     \u001b[0mm\u001b[0m \u001b[0;34m=\u001b[0m \u001b[0mexecutor\u001b[0m\u001b[0;34m(\u001b[0m\u001b[0ma\u001b[0m\u001b[0;34m,\u001b[0m \u001b[0mmax_cut\u001b[0m\u001b[0;34m)\u001b[0m\u001b[0;34m\u001b[0m\u001b[0;34m\u001b[0m\u001b[0m\n\u001b[0m\u001b[1;32m      6\u001b[0m     \u001b[0mms\u001b[0m\u001b[0;34m.\u001b[0m\u001b[0mappend\u001b[0m\u001b[0;34m(\u001b[0m \u001b[0mm\u001b[0m \u001b[0;34m)\u001b[0m\u001b[0;34m\u001b[0m\u001b[0;34m\u001b[0m\u001b[0m\n",
      "\u001b[0;32m/tmp/ipykernel_2994906/2590602261.py\u001b[0m in \u001b[0;36mexecutor\u001b[0;34m(ansatz, max_cut)\u001b[0m\n\u001b[1;32m     12\u001b[0m     \u001b[0mqaoa\u001b[0m\u001b[0;34m.\u001b[0m\u001b[0mansatz\u001b[0m \u001b[0;34m=\u001b[0m \u001b[0mansatz\u001b[0m\u001b[0;34m\u001b[0m\u001b[0;34m\u001b[0m\u001b[0m\n\u001b[1;32m     13\u001b[0m     \u001b[0malgorithm\u001b[0m \u001b[0;34m=\u001b[0m \u001b[0mMinimumEigenOptimizer\u001b[0m\u001b[0;34m(\u001b[0m\u001b[0mqaoa\u001b[0m\u001b[0;34m)\u001b[0m\u001b[0;34m\u001b[0m\u001b[0;34m\u001b[0m\u001b[0m\n\u001b[0;32m---> 14\u001b[0;31m     \u001b[0mresult\u001b[0m \u001b[0;34m=\u001b[0m \u001b[0malgorithm\u001b[0m\u001b[0;34m.\u001b[0m\u001b[0msolve\u001b[0m\u001b[0;34m(\u001b[0m\u001b[0mmax_cut\u001b[0m\u001b[0;34m.\u001b[0m\u001b[0mto_qubo\u001b[0m\u001b[0;34m(\u001b[0m\u001b[0;34m)\u001b[0m\u001b[0;34m)\u001b[0m\u001b[0;34m\u001b[0m\u001b[0;34m\u001b[0m\u001b[0m\n\u001b[0m\u001b[1;32m     15\u001b[0m     \u001b[0mmean\u001b[0m\u001b[0;34m,\u001b[0m \u001b[0mr\u001b[0m\u001b[0;34m,\u001b[0m \u001b[0mar\u001b[0m \u001b[0;34m=\u001b[0m \u001b[0mmax_cut\u001b[0m\u001b[0;34m.\u001b[0m\u001b[0manalyse_evaluation\u001b[0m\u001b[0;34m(\u001b[0m\u001b[0mresult\u001b[0m\u001b[0;34m,\u001b[0m \u001b[0mprint_output\u001b[0m\u001b[0;34m=\u001b[0m\u001b[0;32mFalse\u001b[0m\u001b[0;34m)\u001b[0m\u001b[0;34m\u001b[0m\u001b[0;34m\u001b[0m\u001b[0m\n\u001b[1;32m     16\u001b[0m \u001b[0;34m\u001b[0m\u001b[0m\n",
      "\u001b[0;32m~/.local/lib/python3.8/site-packages/qiskit_optimization/algorithms/minimum_eigen_optimizer.py\u001b[0m in \u001b[0;36msolve\u001b[0;34m(self, problem)\u001b[0m\n\u001b[1;32m    195\u001b[0m         \u001b[0moperator\u001b[0m\u001b[0;34m,\u001b[0m \u001b[0moffset\u001b[0m \u001b[0;34m=\u001b[0m \u001b[0mproblem_\u001b[0m\u001b[0;34m.\u001b[0m\u001b[0mto_ising\u001b[0m\u001b[0;34m(\u001b[0m\u001b[0;34m)\u001b[0m\u001b[0;34m\u001b[0m\u001b[0;34m\u001b[0m\u001b[0m\n\u001b[1;32m    196\u001b[0m \u001b[0;34m\u001b[0m\u001b[0m\n\u001b[0;32m--> 197\u001b[0;31m         \u001b[0;32mreturn\u001b[0m \u001b[0mself\u001b[0m\u001b[0;34m.\u001b[0m\u001b[0m_solve_internal\u001b[0m\u001b[0;34m(\u001b[0m\u001b[0moperator\u001b[0m\u001b[0;34m,\u001b[0m \u001b[0moffset\u001b[0m\u001b[0;34m,\u001b[0m \u001b[0mproblem_\u001b[0m\u001b[0;34m,\u001b[0m \u001b[0mproblem\u001b[0m\u001b[0;34m)\u001b[0m\u001b[0;34m\u001b[0m\u001b[0;34m\u001b[0m\u001b[0m\n\u001b[0m\u001b[1;32m    198\u001b[0m \u001b[0;34m\u001b[0m\u001b[0m\n\u001b[1;32m    199\u001b[0m     def _solve_internal(\n",
      "\u001b[0;32m~/.local/lib/python3.8/site-packages/qiskit_optimization/algorithms/minimum_eigen_optimizer.py\u001b[0m in \u001b[0;36m_solve_internal\u001b[0;34m(self, operator, offset, converted_problem, original_problem)\u001b[0m\n\u001b[1;32m    208\u001b[0m         \u001b[0;32mif\u001b[0m \u001b[0moperator\u001b[0m\u001b[0;34m.\u001b[0m\u001b[0mnum_qubits\u001b[0m \u001b[0;34m>\u001b[0m \u001b[0;36m0\u001b[0m\u001b[0;34m:\u001b[0m\u001b[0;34m\u001b[0m\u001b[0;34m\u001b[0m\u001b[0m\n\u001b[1;32m    209\u001b[0m             \u001b[0;31m# approximate ground state of operator using min eigen solver\u001b[0m\u001b[0;34m\u001b[0m\u001b[0;34m\u001b[0m\u001b[0;34m\u001b[0m\u001b[0m\n\u001b[0;32m--> 210\u001b[0;31m             \u001b[0meigen_result\u001b[0m \u001b[0;34m=\u001b[0m \u001b[0mself\u001b[0m\u001b[0;34m.\u001b[0m\u001b[0m_min_eigen_solver\u001b[0m\u001b[0;34m.\u001b[0m\u001b[0mcompute_minimum_eigenvalue\u001b[0m\u001b[0;34m(\u001b[0m\u001b[0moperator\u001b[0m\u001b[0;34m)\u001b[0m\u001b[0;34m\u001b[0m\u001b[0;34m\u001b[0m\u001b[0m\n\u001b[0m\u001b[1;32m    211\u001b[0m             \u001b[0;31m# analyze results\u001b[0m\u001b[0;34m\u001b[0m\u001b[0;34m\u001b[0m\u001b[0;34m\u001b[0m\u001b[0m\n\u001b[1;32m    212\u001b[0m             \u001b[0mraw_samples\u001b[0m \u001b[0;34m=\u001b[0m \u001b[0;32mNone\u001b[0m\u001b[0;34m\u001b[0m\u001b[0;34m\u001b[0m\u001b[0m\n",
      "\u001b[0;32m/tmp/ipykernel_2994906/3689617166.py\u001b[0m in \u001b[0;36mcompute_minimum_eigenvalue\u001b[0;34m(self, operator, aux_operators)\u001b[0m\n\u001b[1;32m    108\u001b[0m         \u001b[0mresult\u001b[0m\u001b[0;34m.\u001b[0m\u001b[0moptimizer_time\u001b[0m \u001b[0;34m=\u001b[0m \u001b[0meval_time\u001b[0m\u001b[0;34m\u001b[0m\u001b[0;34m\u001b[0m\u001b[0m\n\u001b[1;32m    109\u001b[0m         \u001b[0mresult\u001b[0m\u001b[0;34m.\u001b[0m\u001b[0meigenvalue\u001b[0m \u001b[0;34m=\u001b[0m \u001b[0mopt_value\u001b[0m \u001b[0;34m+\u001b[0m \u001b[0;36m0j\u001b[0m\u001b[0;34m\u001b[0m\u001b[0;34m\u001b[0m\u001b[0m\n\u001b[0;32m--> 110\u001b[0;31m         \u001b[0mresult\u001b[0m\u001b[0;34m.\u001b[0m\u001b[0meigenstate\u001b[0m \u001b[0;34m=\u001b[0m \u001b[0mself\u001b[0m\u001b[0;34m.\u001b[0m\u001b[0m_get_eigenstate\u001b[0m\u001b[0;34m(\u001b[0m\u001b[0mresult\u001b[0m\u001b[0;34m.\u001b[0m\u001b[0moptimal_parameters\u001b[0m\u001b[0;34m)\u001b[0m\u001b[0;34m\u001b[0m\u001b[0;34m\u001b[0m\u001b[0m\n\u001b[0m\u001b[1;32m    111\u001b[0m \u001b[0;34m\u001b[0m\u001b[0m\n\u001b[1;32m    112\u001b[0m         logger.info(\n",
      "\u001b[0;32m~/.local/lib/python3.8/site-packages/qiskit/algorithms/minimum_eigen_solvers/vqe.py\u001b[0m in \u001b[0;36m_get_eigenstate\u001b[0;34m(self, optimal_parameters)\u001b[0m\n\u001b[1;32m    637\u001b[0m         \u001b[0;34m\"\"\"Get the simulation outcome of the ansatz, provided with parameters.\"\"\"\u001b[0m\u001b[0;34m\u001b[0m\u001b[0;34m\u001b[0m\u001b[0m\n\u001b[1;32m    638\u001b[0m         \u001b[0moptimal_circuit\u001b[0m \u001b[0;34m=\u001b[0m \u001b[0mself\u001b[0m\u001b[0;34m.\u001b[0m\u001b[0mansatz\u001b[0m\u001b[0;34m.\u001b[0m\u001b[0mbind_parameters\u001b[0m\u001b[0;34m(\u001b[0m\u001b[0moptimal_parameters\u001b[0m\u001b[0;34m)\u001b[0m\u001b[0;34m\u001b[0m\u001b[0;34m\u001b[0m\u001b[0m\n\u001b[0;32m--> 639\u001b[0;31m         \u001b[0mstate_fn\u001b[0m \u001b[0;34m=\u001b[0m \u001b[0mself\u001b[0m\u001b[0;34m.\u001b[0m\u001b[0m_circuit_sampler\u001b[0m\u001b[0;34m.\u001b[0m\u001b[0mconvert\u001b[0m\u001b[0;34m(\u001b[0m\u001b[0mStateFn\u001b[0m\u001b[0;34m(\u001b[0m\u001b[0moptimal_circuit\u001b[0m\u001b[0;34m)\u001b[0m\u001b[0;34m)\u001b[0m\u001b[0;34m.\u001b[0m\u001b[0meval\u001b[0m\u001b[0;34m(\u001b[0m\u001b[0;34m)\u001b[0m\u001b[0;34m\u001b[0m\u001b[0;34m\u001b[0m\u001b[0m\n\u001b[0m\u001b[1;32m    640\u001b[0m         \u001b[0;32mif\u001b[0m \u001b[0mself\u001b[0m\u001b[0;34m.\u001b[0m\u001b[0mquantum_instance\u001b[0m\u001b[0;34m.\u001b[0m\u001b[0mis_statevector\u001b[0m\u001b[0;34m:\u001b[0m\u001b[0;34m\u001b[0m\u001b[0;34m\u001b[0m\u001b[0m\n\u001b[1;32m    641\u001b[0m             \u001b[0mstate\u001b[0m \u001b[0;34m=\u001b[0m \u001b[0mstate_fn\u001b[0m\u001b[0;34m.\u001b[0m\u001b[0mprimitive\u001b[0m\u001b[0;34m.\u001b[0m\u001b[0mdata\u001b[0m  \u001b[0;31m# VectorStateFn -> Statevector -> np.array\u001b[0m\u001b[0;34m\u001b[0m\u001b[0;34m\u001b[0m\u001b[0m\n",
      "\u001b[0;32m~/.local/lib/python3.8/site-packages/qiskit/opflow/converters/circuit_sampler.py\u001b[0m in \u001b[0;36mconvert\u001b[0;34m(self, operator, params)\u001b[0m\n\u001b[1;32m    216\u001b[0m         \u001b[0mcircs\u001b[0m \u001b[0;34m=\u001b[0m \u001b[0mlist\u001b[0m\u001b[0;34m(\u001b[0m\u001b[0mself\u001b[0m\u001b[0;34m.\u001b[0m\u001b[0m_circuit_ops_cache\u001b[0m\u001b[0;34m.\u001b[0m\u001b[0mvalues\u001b[0m\u001b[0;34m(\u001b[0m\u001b[0;34m)\u001b[0m\u001b[0;34m)\u001b[0m \u001b[0;32mif\u001b[0m \u001b[0;32mnot\u001b[0m \u001b[0mself\u001b[0m\u001b[0;34m.\u001b[0m\u001b[0m_transpiled_circ_cache\u001b[0m \u001b[0;32melse\u001b[0m \u001b[0;32mNone\u001b[0m\u001b[0;34m\u001b[0m\u001b[0;34m\u001b[0m\u001b[0m\n\u001b[1;32m    217\u001b[0m         \u001b[0mp_b\u001b[0m \u001b[0;34m=\u001b[0m \u001b[0mcast\u001b[0m\u001b[0;34m(\u001b[0m\u001b[0mList\u001b[0m\u001b[0;34m[\u001b[0m\u001b[0mDict\u001b[0m\u001b[0;34m[\u001b[0m\u001b[0mParameter\u001b[0m\u001b[0;34m,\u001b[0m \u001b[0mfloat\u001b[0m\u001b[0;34m]\u001b[0m\u001b[0;34m]\u001b[0m\u001b[0;34m,\u001b[0m \u001b[0mparam_bindings\u001b[0m\u001b[0;34m)\u001b[0m\u001b[0;34m\u001b[0m\u001b[0;34m\u001b[0m\u001b[0m\n\u001b[0;32m--> 218\u001b[0;31m         \u001b[0msampled_statefn_dicts\u001b[0m \u001b[0;34m=\u001b[0m \u001b[0mself\u001b[0m\u001b[0;34m.\u001b[0m\u001b[0msample_circuits\u001b[0m\u001b[0;34m(\u001b[0m\u001b[0mcircuit_sfns\u001b[0m\u001b[0;34m=\u001b[0m\u001b[0mcircs\u001b[0m\u001b[0;34m,\u001b[0m \u001b[0mparam_bindings\u001b[0m\u001b[0;34m=\u001b[0m\u001b[0mp_b\u001b[0m\u001b[0;34m)\u001b[0m\u001b[0;34m\u001b[0m\u001b[0;34m\u001b[0m\u001b[0m\n\u001b[0m\u001b[1;32m    219\u001b[0m \u001b[0;34m\u001b[0m\u001b[0m\n\u001b[1;32m    220\u001b[0m         \u001b[0;32mdef\u001b[0m \u001b[0mreplace_circuits_with_dicts\u001b[0m\u001b[0;34m(\u001b[0m\u001b[0moperator\u001b[0m\u001b[0;34m,\u001b[0m \u001b[0mparam_index\u001b[0m\u001b[0;34m=\u001b[0m\u001b[0;36m0\u001b[0m\u001b[0;34m)\u001b[0m\u001b[0;34m:\u001b[0m\u001b[0;34m\u001b[0m\u001b[0;34m\u001b[0m\u001b[0m\n",
      "\u001b[0;32m~/.local/lib/python3.8/site-packages/qiskit/opflow/converters/circuit_sampler.py\u001b[0m in \u001b[0;36msample_circuits\u001b[0;34m(self, circuit_sfns, param_bindings)\u001b[0m\n\u001b[1;32m    327\u001b[0m             \u001b[0mready_circs\u001b[0m \u001b[0;34m=\u001b[0m \u001b[0mself\u001b[0m\u001b[0;34m.\u001b[0m\u001b[0m_transpiled_circ_cache\u001b[0m\u001b[0;34m\u001b[0m\u001b[0;34m\u001b[0m\u001b[0m\n\u001b[1;32m    328\u001b[0m \u001b[0;34m\u001b[0m\u001b[0m\n\u001b[0;32m--> 329\u001b[0;31m         results = self.quantum_instance.execute(\n\u001b[0m\u001b[1;32m    330\u001b[0m             \u001b[0mready_circs\u001b[0m\u001b[0;34m,\u001b[0m \u001b[0mhad_transpiled\u001b[0m\u001b[0;34m=\u001b[0m\u001b[0mself\u001b[0m\u001b[0;34m.\u001b[0m\u001b[0m_transpile_before_bind\u001b[0m\u001b[0;34m\u001b[0m\u001b[0;34m\u001b[0m\u001b[0m\n\u001b[1;32m    331\u001b[0m         )\n",
      "\u001b[0;32m~/.local/lib/python3.8/site-packages/qiskit/utils/quantum_instance.py\u001b[0m in \u001b[0;36mexecute\u001b[0;34m(self, circuits, had_transpiled)\u001b[0m\n\u001b[1;32m    667\u001b[0m         \u001b[0;32melse\u001b[0m\u001b[0;34m:\u001b[0m\u001b[0;34m\u001b[0m\u001b[0;34m\u001b[0m\u001b[0m\n\u001b[1;32m    668\u001b[0m             result = (\n\u001b[0;32m--> 669\u001b[0;31m                 run_circuits(\n\u001b[0m\u001b[1;32m    670\u001b[0m                     \u001b[0mcircuits\u001b[0m\u001b[0;34m,\u001b[0m\u001b[0;34m\u001b[0m\u001b[0;34m\u001b[0m\u001b[0m\n\u001b[1;32m    671\u001b[0m                     \u001b[0mself\u001b[0m\u001b[0;34m.\u001b[0m\u001b[0m_backend\u001b[0m\u001b[0;34m,\u001b[0m\u001b[0;34m\u001b[0m\u001b[0;34m\u001b[0m\u001b[0m\n",
      "\u001b[0;32m~/.local/lib/python3.8/site-packages/qiskit/utils/run_circuits.py\u001b[0m in \u001b[0;36mrun_circuits\u001b[0;34m(circuits, backend, qjob_config, backend_options, noise_config, run_config, job_callback)\u001b[0m\n\u001b[1;32m    575\u001b[0m         \u001b[0mresults\u001b[0m \u001b[0;34m=\u001b[0m \u001b[0;34m[\u001b[0m\u001b[0;34m]\u001b[0m\u001b[0;34m\u001b[0m\u001b[0;34m\u001b[0m\u001b[0m\n\u001b[1;32m    576\u001b[0m         \u001b[0;32mfor\u001b[0m \u001b[0mjob\u001b[0m \u001b[0;32min\u001b[0m \u001b[0mjobs\u001b[0m\u001b[0;34m:\u001b[0m\u001b[0;34m\u001b[0m\u001b[0;34m\u001b[0m\u001b[0m\n\u001b[0;32m--> 577\u001b[0;31m             \u001b[0mresults\u001b[0m\u001b[0;34m.\u001b[0m\u001b[0mappend\u001b[0m\u001b[0;34m(\u001b[0m\u001b[0mjob\u001b[0m\u001b[0;34m.\u001b[0m\u001b[0mresult\u001b[0m\u001b[0;34m(\u001b[0m\u001b[0;34m)\u001b[0m\u001b[0;34m)\u001b[0m\u001b[0;34m\u001b[0m\u001b[0;34m\u001b[0m\u001b[0m\n\u001b[0m\u001b[1;32m    578\u001b[0m \u001b[0;34m\u001b[0m\u001b[0m\n\u001b[1;32m    579\u001b[0m     \u001b[0mresult\u001b[0m \u001b[0;34m=\u001b[0m \u001b[0m_combine_result_objects\u001b[0m\u001b[0;34m(\u001b[0m\u001b[0mresults\u001b[0m\u001b[0;34m)\u001b[0m \u001b[0;32mif\u001b[0m \u001b[0mresults\u001b[0m \u001b[0;32melse\u001b[0m \u001b[0;32mNone\u001b[0m\u001b[0;34m\u001b[0m\u001b[0;34m\u001b[0m\u001b[0m\n",
      "\u001b[0;32m~/.local/lib/python3.8/site-packages/qiskit/providers/aer/aerjob.py\u001b[0m in \u001b[0;36m_wrapper\u001b[0;34m(self, *args, **kwargs)\u001b[0m\n\u001b[1;32m     41\u001b[0m         \u001b[0;32mif\u001b[0m \u001b[0mself\u001b[0m\u001b[0;34m.\u001b[0m\u001b[0m_future\u001b[0m \u001b[0;32mis\u001b[0m \u001b[0;32mNone\u001b[0m\u001b[0;34m:\u001b[0m\u001b[0;34m\u001b[0m\u001b[0;34m\u001b[0m\u001b[0m\n\u001b[1;32m     42\u001b[0m             \u001b[0;32mraise\u001b[0m \u001b[0mJobError\u001b[0m\u001b[0;34m(\u001b[0m\u001b[0;34m\"Job not submitted yet!. You have to .submit() first!\"\u001b[0m\u001b[0;34m)\u001b[0m\u001b[0;34m\u001b[0m\u001b[0;34m\u001b[0m\u001b[0m\n\u001b[0;32m---> 43\u001b[0;31m         \u001b[0;32mreturn\u001b[0m \u001b[0mfunc\u001b[0m\u001b[0;34m(\u001b[0m\u001b[0mself\u001b[0m\u001b[0;34m,\u001b[0m \u001b[0;34m*\u001b[0m\u001b[0margs\u001b[0m\u001b[0;34m,\u001b[0m \u001b[0;34m**\u001b[0m\u001b[0mkwargs\u001b[0m\u001b[0;34m)\u001b[0m\u001b[0;34m\u001b[0m\u001b[0;34m\u001b[0m\u001b[0m\n\u001b[0m\u001b[1;32m     44\u001b[0m     \u001b[0;32mreturn\u001b[0m \u001b[0m_wrapper\u001b[0m\u001b[0;34m\u001b[0m\u001b[0;34m\u001b[0m\u001b[0m\n\u001b[1;32m     45\u001b[0m \u001b[0;34m\u001b[0m\u001b[0m\n",
      "\u001b[0;32m~/.local/lib/python3.8/site-packages/qiskit/providers/aer/aerjob.py\u001b[0m in \u001b[0;36mresult\u001b[0;34m(self, timeout)\u001b[0m\n\u001b[1;32m    100\u001b[0m             \u001b[0mconcurrent\u001b[0m\u001b[0;34m.\u001b[0m\u001b[0mfutures\u001b[0m\u001b[0;34m.\u001b[0m\u001b[0mCancelledError\u001b[0m\u001b[0;34m:\u001b[0m \u001b[0;32mif\u001b[0m \u001b[0mjob\u001b[0m \u001b[0mcancelled\u001b[0m \u001b[0mbefore\u001b[0m \u001b[0mcompleted\u001b[0m\u001b[0;34m.\u001b[0m\u001b[0;34m\u001b[0m\u001b[0;34m\u001b[0m\u001b[0m\n\u001b[1;32m    101\u001b[0m         \"\"\"\n\u001b[0;32m--> 102\u001b[0;31m         \u001b[0;32mreturn\u001b[0m \u001b[0mself\u001b[0m\u001b[0;34m.\u001b[0m\u001b[0m_future\u001b[0m\u001b[0;34m.\u001b[0m\u001b[0mresult\u001b[0m\u001b[0;34m(\u001b[0m\u001b[0mtimeout\u001b[0m\u001b[0;34m=\u001b[0m\u001b[0mtimeout\u001b[0m\u001b[0;34m)\u001b[0m\u001b[0;34m\u001b[0m\u001b[0;34m\u001b[0m\u001b[0m\n\u001b[0m\u001b[1;32m    103\u001b[0m \u001b[0;34m\u001b[0m\u001b[0m\n\u001b[1;32m    104\u001b[0m     \u001b[0;34m@\u001b[0m\u001b[0mrequires_submit\u001b[0m\u001b[0;34m\u001b[0m\u001b[0;34m\u001b[0m\u001b[0m\n",
      "\u001b[0;32m/usr/lib64/python3.8/concurrent/futures/_base.py\u001b[0m in \u001b[0;36mresult\u001b[0;34m(self, timeout)\u001b[0m\n\u001b[1;32m    432\u001b[0m                 \u001b[0;32mreturn\u001b[0m \u001b[0mself\u001b[0m\u001b[0;34m.\u001b[0m\u001b[0m__get_result\u001b[0m\u001b[0;34m(\u001b[0m\u001b[0;34m)\u001b[0m\u001b[0;34m\u001b[0m\u001b[0;34m\u001b[0m\u001b[0m\n\u001b[1;32m    433\u001b[0m \u001b[0;34m\u001b[0m\u001b[0m\n\u001b[0;32m--> 434\u001b[0;31m             \u001b[0mself\u001b[0m\u001b[0;34m.\u001b[0m\u001b[0m_condition\u001b[0m\u001b[0;34m.\u001b[0m\u001b[0mwait\u001b[0m\u001b[0;34m(\u001b[0m\u001b[0mtimeout\u001b[0m\u001b[0;34m)\u001b[0m\u001b[0;34m\u001b[0m\u001b[0;34m\u001b[0m\u001b[0m\n\u001b[0m\u001b[1;32m    435\u001b[0m \u001b[0;34m\u001b[0m\u001b[0m\n\u001b[1;32m    436\u001b[0m             \u001b[0;32mif\u001b[0m \u001b[0mself\u001b[0m\u001b[0;34m.\u001b[0m\u001b[0m_state\u001b[0m \u001b[0;32min\u001b[0m \u001b[0;34m[\u001b[0m\u001b[0mCANCELLED\u001b[0m\u001b[0;34m,\u001b[0m \u001b[0mCANCELLED_AND_NOTIFIED\u001b[0m\u001b[0;34m]\u001b[0m\u001b[0;34m:\u001b[0m\u001b[0;34m\u001b[0m\u001b[0;34m\u001b[0m\u001b[0m\n",
      "\u001b[0;32m/usr/lib64/python3.8/threading.py\u001b[0m in \u001b[0;36mwait\u001b[0;34m(self, timeout)\u001b[0m\n\u001b[1;32m    300\u001b[0m         \u001b[0;32mtry\u001b[0m\u001b[0;34m:\u001b[0m    \u001b[0;31m# restore state no matter what (e.g., KeyboardInterrupt)\u001b[0m\u001b[0;34m\u001b[0m\u001b[0;34m\u001b[0m\u001b[0m\n\u001b[1;32m    301\u001b[0m             \u001b[0;32mif\u001b[0m \u001b[0mtimeout\u001b[0m \u001b[0;32mis\u001b[0m \u001b[0;32mNone\u001b[0m\u001b[0;34m:\u001b[0m\u001b[0;34m\u001b[0m\u001b[0;34m\u001b[0m\u001b[0m\n\u001b[0;32m--> 302\u001b[0;31m                 \u001b[0mwaiter\u001b[0m\u001b[0;34m.\u001b[0m\u001b[0macquire\u001b[0m\u001b[0;34m(\u001b[0m\u001b[0;34m)\u001b[0m\u001b[0;34m\u001b[0m\u001b[0;34m\u001b[0m\u001b[0m\n\u001b[0m\u001b[1;32m    303\u001b[0m                 \u001b[0mgotit\u001b[0m \u001b[0;34m=\u001b[0m \u001b[0;32mTrue\u001b[0m\u001b[0;34m\u001b[0m\u001b[0;34m\u001b[0m\u001b[0m\n\u001b[1;32m    304\u001b[0m             \u001b[0;32melse\u001b[0m\u001b[0;34m:\u001b[0m\u001b[0;34m\u001b[0m\u001b[0;34m\u001b[0m\u001b[0m\n",
      "\u001b[0;31mKeyboardInterrupt\u001b[0m: "
     ]
    }
   ],
   "source": [
    "ms = []\n",
    "for i in range(0,1):\n",
    "    \n",
    "    a = create_ansatz(max_cut_qubo, [0.5,1.05],1)\n",
    "    m = executor(a, max_cut)\n",
    "    ms.append( m )"
   ]
  },
  {
   "cell_type": "code",
   "execution_count": 14,
   "id": "9ff044da",
   "metadata": {},
   "outputs": [
    {
     "data": {
      "text/plain": [
       "-26.2080078125"
      ]
     },
     "execution_count": 14,
     "metadata": {},
     "output_type": "execute_result"
    }
   ],
   "source": [
    "np.mean(ms)"
   ]
  },
  {
   "cell_type": "code",
   "execution_count": 15,
   "id": "bd4664e8",
   "metadata": {},
   "outputs": [
    {
     "data": {
      "text/plain": [
       "-26.2080078125"
      ]
     },
     "execution_count": 15,
     "metadata": {},
     "output_type": "execute_result"
    }
   ],
   "source": [
    "np.median(ms)"
   ]
  },
  {
   "cell_type": "code",
   "execution_count": 263,
   "id": "2830f277",
   "metadata": {},
   "outputs": [
    {
     "data": {
      "text/plain": [
       "0.0"
      ]
     },
     "execution_count": 263,
     "metadata": {},
     "output_type": "execute_result"
    }
   ],
   "source": [
    "np.std(ms)"
   ]
  },
  {
   "cell_type": "code",
   "execution_count": 40,
   "id": "6ceb850a",
   "metadata": {},
   "outputs": [],
   "source": [
    "import mitiq\n",
    "from mitiq.zne import mitigate_executor\n",
    "from functools import partial\n",
    "\n",
    "# Choose a noise scaling method\n",
    "scaling_method = mitiq.zne.scaling.fold_global\n",
    "\n",
    "# Initialize an inference method (i.e. a Mitiq Factory)\n",
    "inference_factory = mitiq.zne.inference.RichardsonFactory(scale_factors=[1.0, 3.0])\n",
    "\n",
    "# Define the cost function\n",
    "def qaoa_mitigated_cost(params: np.array) -> float:\n",
    "    \"\"\"Cost function of the QAOA problem using error mitigation.\"\"\"\n",
    "    # create circuit with params \n",
    "    #print(params)\n",
    "    qaoa_circuit = create_ansatz(max_cut_qubo, params, 2)\n",
    "    \n",
    "    noisy_executor = partial(executor, max_cut=max_cut)\n",
    "    mitigated_executor = mitigate_executor(noisy_executor, inference_factory, scaling_method)\n",
    "    return mitigated_executor(qaoa_circuit)"
   ]
  },
  {
   "cell_type": "code",
   "execution_count": 41,
   "id": "69ec39c2",
   "metadata": {},
   "outputs": [],
   "source": [
    "from typing import Callable, Tuple\n",
    "from scipy.optimize import minimize\n",
    "\n",
    " \n",
    "def minimize_cost(\n",
    "    cost_function: Callable[[np.array], float],\n",
    "    init_params: np.array,\n",
    ") -> Tuple[float, np.ndarray, List[float]]:\n",
    "    \"\"\"Minimizes a cost function which depends on an array variational parameters.\n",
    "\n",
    "    Args:\n",
    "        cost_function: The cost function to minimize.\n",
    "        init_params: The initial variational parameters.\n",
    "\n",
    "    Returns:\n",
    "        A triple of the minimum cost, the optimal parameters and a list of costs at each iteration steps.\n",
    "    \"\"\"\n",
    "   \n",
    "    \n",
    "    # store the optimization trajectory\n",
    "    traj = []\n",
    "\n",
    "    def callback(xk: np.ndarray) -> bool:\n",
    "        traj.append(cost_function(xk))\n",
    "        print(\"CALLBACK\")\n",
    "        return True\n",
    "\n",
    "    results = minimize(\n",
    "        cost_function,\n",
    "        x0=init_params,\n",
    "        method=\"Nelder-Mead\",\n",
    "        callback=callback,\n",
    "        options={\"disp\": True, \"maxiter\": 0},\n",
    "        # Set tol=0 to enforce a fixed number of iterations.\n",
    "        # Comment tol=0 to speedup the notebook execution.\n",
    "        #tol=0,\n",
    "    )\n",
    "\n",
    "    plt.title(\"Optimization history\")\n",
    "    plt.xlabel(\"Iteration Step\")\n",
    "    plt.ylabel(\"Cost\")\n",
    "    plt.plot(traj)\n",
    "    plt.show()\n",
    "    return results.fun, results.x, traj"
   ]
  },
  {
   "cell_type": "code",
   "execution_count": 42,
   "id": "2f99779c",
   "metadata": {
    "scrolled": true
   },
   "outputs": [
    {
     "name": "stdout",
     "output_type": "stream",
     "text": [
      "means: [-2.2568359374999996]\n",
      "means: [-0.8828125000000003]\n",
      "means: [-3.8642578124999996]\n",
      "means: [-0.6650390625000002]\n",
      "means: [-3.302734375]\n",
      "means: [-1.0507812500000004]\n",
      "means: [-0.025390624999999833]\n",
      "means: [0.16699218750000006]\n",
      "means: [-3.158203125]\n",
      "means: [-0.9941406249999997]\n",
      "Warning: Maximum number of iterations has been exceeded.\n"
     ]
    },
    {
     "data": {
      "image/png": "[encoded data removed]",
      "text/plain": [
       "<Figure size 432x288 with 1 Axes>"
      ]
     },
     "metadata": {
      "needs_background": "light"
     },
     "output_type": "display_data"
    },
    {
     "name": "stdout",
     "output_type": "stream",
     "text": [
      "means: [-3.1533203124999996]\n",
      "means: [-0.8359375000000002]\n",
      "means: [-2.203125]\n",
      "means: [-1.3017578125000002]\n",
      "means: [-3.481445312499999]\n",
      "means: [-0.35253906249999983]\n",
      "means: [-0.33203124999999983]\n",
      "means: [-0.6142578124999998]\n",
      "means: [-2.4814453124999996]\n",
      "means: [-0.5302734374999996]\n",
      "Warning: Maximum number of iterations has been exceeded.\n"
     ]
    },
    {
     "data": {
      "image/png": "[encoded data removed]",
      "text/plain": [
       "<Figure size 432x288 with 1 Axes>"
      ]
     },
     "metadata": {
      "needs_background": "light"
     },
     "output_type": "display_data"
    },
    {
     "name": "stdout",
     "output_type": "stream",
     "text": [
      "means: [-3.0009765624999996]\n",
      "means: [0.1142578125]\n",
      "means: [-3.86328125]\n",
      "means: [-0.6904296874999999]\n",
      "means: [-2.2333984375]\n",
      "means: [-1.263671875]\n",
      "means: [0.03027343750000011]\n",
      "means: [0.3681640624999999]\n",
      "means: [-3.0458984375000004]\n",
      "means: [-0.8046875]\n",
      "Warning: Maximum number of iterations has been exceeded.\n"
     ]
    },
    {
     "data": {
      "image/png": "[encoded data removed]",
      "text/plain": [
       "<Figure size 432x288 with 1 Axes>"
      ]
     },
     "metadata": {
      "needs_background": "light"
     },
     "output_type": "display_data"
    },
    {
     "name": "stdout",
     "output_type": "stream",
     "text": [
      "means: [-3.48046875]\n",
      "means: [-0.306640625]\n",
      "means: [-2.27734375]\n",
      "means: [-0.8798828125]\n",
      "means: [-3.34765625]\n",
      "means: [-0.9199218750000002]\n",
      "means: [0.4033203124999996]\n",
      "means: [0.486328125]\n",
      "means: [-3.7568359375000004]\n",
      "means: [-0.4716796875000005]\n",
      "Warning: Maximum number of iterations has been exceeded.\n"
     ]
    },
    {
     "data": {
      "image/png": "[encoded data removed]",
      "text/plain": [
       "<Figure size 432x288 with 1 Axes>"
      ]
     },
     "metadata": {
      "needs_background": "light"
     },
     "output_type": "display_data"
    },
    {
     "name": "stdout",
     "output_type": "stream",
     "text": [
      "means: [-2.7216796874999996]\n",
      "means: [-0.4472656249999996]\n",
      "means: [-3.2421875]\n",
      "means: [-0.3437499999999997]\n",
      "means: [-3.3242187499999996]\n",
      "means: [-0.6123046874999999]\n",
      "means: [-0.31640624999999983]\n",
      "means: [-0.08398437499999972]\n",
      "means: [-3.1923828124999996]\n",
      "means: [-0.8310546875]\n",
      "Warning: Maximum number of iterations has been exceeded.\n"
     ]
    },
    {
     "data": {
      "image/png": "[encoded data removed]",
      "text/plain": [
       "<Figure size 432x288 with 1 Axes>"
      ]
     },
     "metadata": {
      "needs_background": "light"
     },
     "output_type": "display_data"
    },
    {
     "name": "stdout",
     "output_type": "stream",
     "text": [
      "means: [-3.7119140624999996]\n",
      "means: [-0.5712890625]\n",
      "means: [-3.4228515624999996]\n",
      "means: [-0.5478515624999998]\n",
      "means: [-3.638671875]\n",
      "means: [-0.5019531249999998]\n",
      "means: [0.13281250000000008]\n",
      "means: [0.68359375]\n",
      "means: [-3.7978515624999996]\n",
      "means: [-0.7265625000000002]\n",
      "Warning: Maximum number of iterations has been exceeded.\n"
     ]
    },
    {
     "data": {
      "image/png": "[encoded data removed]",
      "text/plain": [
       "<Figure size 432x288 with 1 Axes>"
      ]
     },
     "metadata": {
      "needs_background": "light"
     },
     "output_type": "display_data"
    },
    {
     "name": "stdout",
     "output_type": "stream",
     "text": [
      "means: [-4.0771484375]\n",
      "means: [-0.45703124999999967]\n",
      "means: [-3.73828125]\n",
      "means: [-0.6894531250000001]\n",
      "means: [-3.9023437500000004]\n",
      "means: [-0.4687499999999999]\n",
      "means: [0.15136718750000022]\n",
      "means: [-0.005859375000000111]\n",
      "means: [-3.482421875]\n",
      "means: [-1.015625]\n",
      "Warning: Maximum number of iterations has been exceeded.\n"
     ]
    },
    {
     "data": {
      "image/png": "[encoded data removed]",
      "text/plain": [
       "<Figure size 432x288 with 1 Axes>"
      ]
     },
     "metadata": {
      "needs_background": "light"
     },
     "output_type": "display_data"
    },
    {
     "name": "stdout",
     "output_type": "stream",
     "text": [
      "means: [-3.1875]\n",
      "means: [-0.8906249999999997]\n",
      "means: [-2.8964843750000004]\n",
      "means: [-0.4677734374999999]\n",
      "means: [-2.13671875]\n",
      "means: [-0.6503906249999997]\n",
      "means: [0.005859375]\n",
      "means: [0.35546875000000067]\n",
      "means: [-3.5595703124999996]\n",
      "means: [-0.5283203124999999]\n",
      "Warning: Maximum number of iterations has been exceeded.\n"
     ]
    },
    {
     "data": {
      "image/png": "[encoded data removed]",
      "text/plain": [
       "<Figure size 432x288 with 1 Axes>"
      ]
     },
     "metadata": {
      "needs_background": "light"
     },
     "output_type": "display_data"
    },
    {
     "name": "stdout",
     "output_type": "stream",
     "text": [
      "means: [-3.4892578125000004]\n",
      "means: [-1.3749999999999996]\n",
      "means: [-3.5478515624999996]\n",
      "means: [0.36621093749999983]\n",
      "means: [-4.369140625]\n",
      "means: [-0.6083984375]\n",
      "means: [-0.3769531250000001]\n",
      "means: [0.35058593750000017]\n",
      "means: [-3.404296875]\n",
      "means: [-0.30664062499999983]\n",
      "Warning: Maximum number of iterations has been exceeded.\n"
     ]
    },
    {
     "data": {
      "image/png": "[encoded data removed]",
      "text/plain": [
       "<Figure size 432x288 with 1 Axes>"
      ]
     },
     "metadata": {
      "needs_background": "light"
     },
     "output_type": "display_data"
    },
    {
     "name": "stdout",
     "output_type": "stream",
     "text": [
      "means: [-1.9775390625]\n",
      "means: [-0.9140625]\n",
      "means: [-2.1591796875]\n",
      "means: [-0.857421875]\n",
      "means: [-3.8583984375000004]\n",
      "means: [-0.87890625]\n",
      "means: [0.09863281249999996]\n",
      "means: [-0.1005859375]\n",
      "means: [-3.5400390624999996]\n",
      "means: [-0.9912109375]\n",
      "Warning: Maximum number of iterations has been exceeded.\n"
     ]
    },
    {
     "data": {
      "image/png": "[encoded data removed]",
      "text/plain": [
       "<Figure size 432x288 with 1 Axes>"
      ]
     },
     "metadata": {
      "needs_background": "light"
     },
     "output_type": "display_data"
    }
   ],
   "source": [
    "#init_params = [-3.33412359,  5.45892711]\n",
    "init_params = [0.47267939,  3.07283929, -3.80560601,  3.86218767]\n",
    "means_temp = []\n",
    "for i in range(0, 10):\n",
    "    #init_params = np.random.uniform(low=-2/np.pi, high=2/np.pi, size=(2,))\n",
    "    noisy_opt_cost, noisy_opt_params, noisy_traj = minimize_cost(qaoa_mitigated_cost, init_params)\n",
    "    means_temp.append(noisy_opt_cost)"
   ]
  },
  {
   "cell_type": "code",
   "execution_count": 43,
   "id": "b8ae2fed",
   "metadata": {},
   "outputs": [
    {
     "data": {
      "text/plain": [
       "-29.448779296874996"
      ]
     },
     "execution_count": 43,
     "metadata": {},
     "output_type": "execute_result"
    }
   ],
   "source": [
    "np.mean(means_temp)"
   ]
  },
  {
   "cell_type": "code",
   "execution_count": 44,
   "id": "f27c49a2",
   "metadata": {},
   "outputs": [
    {
     "data": {
      "text/plain": [
       "-29.414794921874993"
      ]
     },
     "execution_count": 44,
     "metadata": {},
     "output_type": "execute_result"
    }
   ],
   "source": [
    "np.median(means_temp)"
   ]
  },
  {
   "cell_type": "code",
   "execution_count": 45,
   "id": "e7399cd2",
   "metadata": {},
   "outputs": [
    {
     "data": {
      "text/plain": [
       "0.4859789692641492"
      ]
     },
     "execution_count": 45,
     "metadata": {},
     "output_type": "execute_result"
    }
   ],
   "source": [
    "np.std(means_temp)"
   ]
  },
  {
   "cell_type": "code",
   "execution_count": 46,
   "id": "66632efb",
   "metadata": {},
   "outputs": [
    {
     "data": {
      "text/plain": [
       "0.8413936941964284"
      ]
     },
     "execution_count": 46,
     "metadata": {},
     "output_type": "execute_result"
    }
   ],
   "source": [
    "np.mean(means_temp) / -35"
   ]
  },
  {
   "cell_type": "code",
   "execution_count": 201,
   "id": "2768338a",
   "metadata": {},
   "outputs": [
    {
     "data": {
      "text/plain": [
       "-26.45214843749999"
      ]
     },
     "execution_count": 201,
     "metadata": {},
     "output_type": "execute_result"
    }
   ],
   "source": [
    "noisy_opt_cost"
   ]
  },
  {
   "cell_type": "code",
   "execution_count": null,
   "id": "02d52956",
   "metadata": {},
   "outputs": [],
   "source": []
  },
  {
   "cell_type": "code",
   "execution_count": 202,
   "id": "98187b82",
   "metadata": {},
   "outputs": [
    {
     "data": {
      "text/plain": [
       "array([0.5 , 1.05])"
      ]
     },
     "execution_count": 202,
     "metadata": {},
     "output_type": "execute_result"
    }
   ],
   "source": [
    "noisy_opt_params"
   ]
  },
  {
   "cell_type": "code",
   "execution_count": null,
   "id": "7eda4ef8",
   "metadata": {
    "scrolled": false
   },
   "outputs": [],
   "source": [
    "qaoa_p_means = []\n",
    "qaoa_p_ratios = []\n",
    "qaoa_p_approx_ratios = []\n",
    "\n",
    "for p in range(1,MAX_P+1):\n",
    "    m, r, ar = start_qaoa_evaluation(max_cut, eval_num=EVAL_NUM, reps=p, maxiter=MAX_ITER)\n",
    "    qaoa_p_means.append(m)\n",
    "    qaoa_p_ratios.append(r)\n",
    "    qaoa_p_approx_ratios.append(ar)\n",
    "\n",
    "all_results[\"QAOA\"] = [qaoa_p_means, qaoa_p_ratios, qaoa_p_approx_ratios]"
   ]
  },
  {
   "cell_type": "code",
   "execution_count": null,
   "id": "812b73d4",
   "metadata": {
    "scrolled": true
   },
   "outputs": [],
   "source": [
    "display_boxplots_results(qaoa_p_means, qaoa_p_ratios, qaoa_p_approx_ratios)"
   ]
  },
  {
   "cell_type": "markdown",
   "id": "1d3bc91c",
   "metadata": {},
   "source": [
    "## QAOA with TQA"
   ]
  },
  {
   "cell_type": "code",
   "execution_count": null,
   "id": "93cc32e4",
   "metadata": {},
   "outputs": [],
   "source": [
    "from helpers.qaoa_helper import *"
   ]
  },
  {
   "cell_type": "code",
   "execution_count": null,
   "id": "2ef8d5fd",
   "metadata": {},
   "outputs": [],
   "source": [
    "tqa_p_means = []\n",
    "tqa_p_ratios = []\n",
    "tqa_p_approx_ratios = []\n",
    "tqa_init_points = []\n",
    "\n",
    "for p in range(1,MAX_P+1):\n",
    "    tqa_initial_points = calculate_tqa(graph, p)\n",
    "    m, r, ar = start_qaoa_evaluation(max_cut, eval_num=EVAL_NUM, reps=p, init_points=tqa_initial_points, maxiter=MAX_ITER)\n",
    "    tqa_p_means.append(m)\n",
    "    tqa_p_ratios.append(r)\n",
    "    tqa_p_approx_ratios.append(ar)\n",
    "    tqa_init_points.append(tqa_initial_points)\n",
    "    \n",
    "all_results[\"TQA QAOA\"] = [tqa_p_means, tqa_p_ratios, tqa_p_approx_ratios, tqa_init_points]"
   ]
  },
  {
   "cell_type": "code",
   "execution_count": null,
   "id": "664e7895",
   "metadata": {
    "scrolled": true
   },
   "outputs": [],
   "source": [
    "display_boxplots_results(tqa_p_means, tqa_p_ratios, tqa_p_approx_ratios, prefix='TQA ')"
   ]
  },
  {
   "cell_type": "markdown",
   "id": "1c00537c",
   "metadata": {},
   "source": [
    "## WarmStart QAOA"
   ]
  },
  {
   "cell_type": "code",
   "execution_count": null,
   "id": "73775571",
   "metadata": {},
   "outputs": [],
   "source": [
    "from helpers.warmstart_helper import *"
   ]
  },
  {
   "cell_type": "code",
   "execution_count": null,
   "id": "d547ec5e",
   "metadata": {
    "scrolled": true
   },
   "outputs": [],
   "source": [
    "ws_p_means = []\n",
    "ws_p_ratios = []\n",
    "ws_p_approx_ratios = []\n",
    "ws_opt_epsilons = []\n",
    "\n",
    "for p in range(1,MAX_P+1):\n",
    "    opt_epsilon = 0.25 #optimize_epsilon(max_cut, reps=p)\n",
    "    m, r, ar = start_ws_qaoa_evaluation(max_cut, eval_num=EVAL_NUM, reps=p, epsilon=opt_epsilon, maxiter=MAX_ITER)\n",
    "    ws_p_means.append(m)\n",
    "    ws_p_ratios.append(r)\n",
    "    ws_p_approx_ratios.append(ar)\n",
    "    ws_opt_epsilons.append(opt_epsilon)\n",
    "    \n",
    "all_results[\"WarmStart QAOA\"] = [ws_p_means, ws_p_ratios, ws_p_approx_ratios, ws_opt_epsilons]"
   ]
  },
  {
   "cell_type": "code",
   "execution_count": null,
   "id": "78683bbc",
   "metadata": {
    "scrolled": true
   },
   "outputs": [],
   "source": [
    "display_boxplots_results(ws_p_means, ws_p_ratios, ws_p_approx_ratios, prefix='WarmStart ')"
   ]
  },
  {
   "cell_type": "markdown",
   "id": "bed6661b",
   "metadata": {},
   "source": [
    "### Recursive QAOA"
   ]
  },
  {
   "cell_type": "code",
   "execution_count": null,
   "id": "14e14af5",
   "metadata": {},
   "outputs": [],
   "source": [
    "from helpers.recursive_qaoa_helper import *"
   ]
  },
  {
   "cell_type": "code",
   "execution_count": null,
   "id": "5f6519a5",
   "metadata": {
    "scrolled": true
   },
   "outputs": [],
   "source": [
    "recursive_p_means = []\n",
    "recursive_p_ratios = []\n",
    "recursive_p_approx_ratios = []\n",
    "\n",
    "for p in range(1,MAX_P+1):\n",
    "    m, r, ar = start_recursive_evaluation(max_cut, eval_num=EVAL_NUM, reps=p, maxiter=MAX_ITER)\n",
    "    recursive_p_means.append(m)\n",
    "    recursive_p_ratios.append(r)\n",
    "    recursive_p_approx_ratios.append(ar)\n",
    "\n",
    "all_results[\"Recursive QAOA\"] = [recursive_p_means, recursive_p_ratios, recursive_p_approx_ratios]"
   ]
  },
  {
   "cell_type": "code",
   "execution_count": null,
   "id": "318817ad",
   "metadata": {
    "scrolled": true
   },
   "outputs": [],
   "source": [
    "display_boxplots_results(recursive_p_means, recursive_p_ratios, recursive_p_approx_ratios, prefix='Recursive ')"
   ]
  },
  {
   "cell_type": "markdown",
   "id": "9a5ae1e0",
   "metadata": {},
   "source": [
    "### Recursive WarmStart QAOA"
   ]
  },
  {
   "cell_type": "code",
   "execution_count": null,
   "id": "3bd42b9c",
   "metadata": {},
   "outputs": [],
   "source": [
    "from helpers.recursive_ws_helper import *"
   ]
  },
  {
   "cell_type": "code",
   "execution_count": null,
   "id": "7b089ba3",
   "metadata": {
    "scrolled": true
   },
   "outputs": [],
   "source": [
    "ws_recursive_p_means = []\n",
    "ws_recursive_p_ratios = []\n",
    "ws_recursive_p_approx_ratios = []\n",
    "\n",
    "for p in range(1,MAX_P+1):\n",
    "    opt_epsilon = ws_opt_epsilons[p-1]\n",
    "    m, r, ar = start_recursive_ws_qaoa_evaluation(max_cut, eval_num=EVAL_NUM, reps=p, epsilon=opt_epsilon, maxiter=MAX_ITER)\n",
    "    ws_recursive_p_means.append(m)\n",
    "    ws_recursive_p_ratios.append(r)\n",
    "    ws_recursive_p_approx_ratios.append(ar)\n",
    "    \n",
    "all_results[\"Recursive WarmStart QAOA\"] = [ws_recursive_p_means, ws_recursive_p_ratios, ws_recursive_p_approx_ratios, ws_opt_epsilons]"
   ]
  },
  {
   "cell_type": "code",
   "execution_count": null,
   "id": "3cc4a37a",
   "metadata": {
    "scrolled": true
   },
   "outputs": [],
   "source": [
    "display_boxplots_results(ws_recursive_p_means, ws_recursive_p_ratios, ws_recursive_p_approx_ratios, prefix='Recursive WarmStart ')"
   ]
  },
  {
   "cell_type": "markdown",
   "id": "059e3535",
   "metadata": {},
   "source": [
    "## Results"
   ]
  },
  {
   "cell_type": "code",
   "execution_count": null,
   "id": "826f8562",
   "metadata": {},
   "outputs": [],
   "source": [
    "from helpers.results_helper import *"
   ]
  },
  {
   "cell_type": "code",
   "execution_count": null,
   "id": "37f6477d",
   "metadata": {},
   "outputs": [],
   "source": [
    "means_df, ratio_df, approx_ratios_df = generate_dataframes(all_results)"
   ]
  },
  {
   "cell_type": "markdown",
   "id": "6504aeea",
   "metadata": {},
   "source": [
    "### Metric Mean"
   ]
  },
  {
   "cell_type": "code",
   "execution_count": null,
   "id": "2e9f059b",
   "metadata": {},
   "outputs": [],
   "source": [
    "means_df"
   ]
  },
  {
   "cell_type": "markdown",
   "id": "25c2d89b",
   "metadata": {},
   "source": [
    "### Metric Ratio "
   ]
  },
  {
   "cell_type": "code",
   "execution_count": null,
   "id": "6303e427",
   "metadata": {},
   "outputs": [],
   "source": [
    "ratio_df"
   ]
  },
  {
   "cell_type": "markdown",
   "id": "4fc43a16",
   "metadata": {},
   "source": [
    "### Metric Approximation Ratio"
   ]
  },
  {
   "cell_type": "code",
   "execution_count": null,
   "id": "3e362965",
   "metadata": {},
   "outputs": [],
   "source": [
    "approx_ratios_df"
   ]
  },
  {
   "cell_type": "code",
   "execution_count": null,
   "id": "0c11cafa",
   "metadata": {},
   "outputs": [],
   "source": [
    "# Save results \n",
    "filename = f'comparison_{BACKEND.name}_{graph.name}_results.npy'\n",
    "with open(filename, 'wb') as f:\n",
    "    np.save(f, all_results)\n",
    "    print(f\"Saved results to {filename}\")"
   ]
  },
  {
   "cell_type": "code",
   "execution_count": null,
   "id": "bc72a608",
   "metadata": {},
   "outputs": [],
   "source": []
  }
 ],
 "metadata": {
  "kernelspec": {
   "display_name": "python3.8",
   "language": "python",
   "name": "python3.8"
  },
  "language_info": {
   "codemirror_mode": {
    "name": "ipython",
    "version": 3
   },
   "file_extension": ".py",
   "mimetype": "text/x-python",
   "name": "python",
   "nbconvert_exporter": "python",
   "pygments_lexer": "ipython3",
   "version": "3.8.6"
  }
 },
 "nbformat": 4,
 "nbformat_minor": 5
}
