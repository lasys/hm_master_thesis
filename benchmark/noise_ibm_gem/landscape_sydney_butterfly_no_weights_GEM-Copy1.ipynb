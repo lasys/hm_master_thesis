{
 "cells": [
  {
   "cell_type": "code",
   "execution_count": 41,
   "id": "08c90252",
   "metadata": {},
   "outputs": [],
   "source": [
    "import sys\n",
    "import os\n",
    "sys.path.insert(0, os.path.abspath('../'))\n",
    "sys.path.insert(0, os.path.abspath('../../'))\n",
    "#sys.path.insert(0, os.path.abspath('/home/hm-tlacherm/qlm_notebooks/notebooks_1.2.1/notebooks/master_thesis_qaoa/'))\n",
    "#sys.path.insert(0, os.path.abspath('/home/hm-tlacherm/qlm_notebooks/notebooks_1.2.1/notebooks/master_thesis_qaoa/ibm/'))"
   ]
  },
  {
   "cell_type": "code",
   "execution_count": 42,
   "id": "d544255f",
   "metadata": {},
   "outputs": [
    {
     "name": "stderr",
     "output_type": "stream",
     "text": [
      "ibmqfactory.load_account:WARNING:2021-09-29 15:00:22,944: Credentials are already in use. The existing account in the session will be replaced.\n"
     ]
    }
   ],
   "source": [
    "import numpy as np\n",
    "\n",
    "import qiskit\n",
    "provider = qiskit.IBMQ.load_account()\n",
    "from qiskit import Aer\n",
    "from qiskit.utils import QuantumInstance\n",
    "from qiskit_optimization.algorithms import MinimumEigenOptimizer\n",
    "from qiskit.algorithms import QAOA\n",
    "from shared.QiskitMaxcut import *\n",
    "from ibm.ibm_parameters import *\n",
    "from shared.gem.gem_instance import GEMInstance\n",
    "from shared.gem.gem_quantum_instance import GEMQuantumInstance\n",
    "from matplotlib import pyplot as plt\n",
    "%matplotlib inline"
   ]
  },
  {
   "cell_type": "code",
   "execution_count": 43,
   "id": "7de31afb",
   "metadata": {},
   "outputs": [
    {
     "name": "stdout",
     "output_type": "stream",
     "text": [
      "The autoreload extension is already loaded. To reload it, use:\n",
      "  %reload_ext autoreload\n"
     ]
    }
   ],
   "source": [
    "%load_ext autoreload\n",
    "%autoreload 2"
   ]
  },
  {
   "cell_type": "code",
   "execution_count": 44,
   "id": "c4f3a410",
   "metadata": {},
   "outputs": [
    {
     "name": "stdout",
     "output_type": "stream",
     "text": [
      "graph_05_06_02_w\n"
     ]
    },
    {
     "data": {
      "image/png": "[encoded data removed]",
      "text/plain": [
       "<Figure size 432x288 with 1 Axes>"
      ]
     },
     "metadata": {},
     "output_type": "display_data"
    }
   ],
   "source": [
    "graph = generate_butterfly_graph(with_weights=True)\n",
    "max_cut = Maxcut(graph)\n",
    "max_cut_qubo = max_cut.to_qubo()\n",
    "print(graph.name)\n",
    "max_cut.draw()"
   ]
  },
  {
   "cell_type": "code",
   "execution_count": 66,
   "id": "617f4b75",
   "metadata": {},
   "outputs": [],
   "source": [
    "step_size = 0.1\n",
    "a_gamma = np.arange(0, np.pi, step_size)\n",
    "b_beta = np.arange(0, np.pi, step_size)"
   ]
  },
  {
   "cell_type": "code",
   "execution_count": 67,
   "id": "77c26255",
   "metadata": {},
   "outputs": [
    {
     "data": {
      "text/plain": [
       "32"
      ]
     },
     "execution_count": 67,
     "metadata": {},
     "output_type": "execute_result"
    }
   ],
   "source": [
    "a_gamma, b_beta = np.meshgrid(a_gamma, b_beta)\n",
    "len(a_gamma)"
   ]
  },
  {
   "cell_type": "code",
   "execution_count": 68,
   "id": "7521ba41",
   "metadata": {},
   "outputs": [],
   "source": [
    "def maxcut_obj(x, G):\n",
    "    \"\"\"\n",
    "    Given a bitstring as a solution, this function returns\n",
    "    the number of edges shared between the two partitions\n",
    "    of the graph.\n",
    "    \n",
    "    Args:\n",
    "        x: str\n",
    "           solution bitstring\n",
    "           \n",
    "        G: networkx graph\n",
    "        \n",
    "    Returns:\n",
    "        obj: float\n",
    "             Objective\n",
    "    \"\"\"\n",
    "    obj = 0\n",
    "    for i,j,w in graph.edges.data('weight'):\n",
    "        if x[i] != x[j]:\n",
    "            obj -= w\n",
    "            \n",
    "    return obj\n",
    "\n",
    "\n",
    "def compute_expectation(counts, G):\n",
    "    \n",
    "    \"\"\"\n",
    "    Computes expectation value based on measurement results\n",
    "    \n",
    "    Args:\n",
    "        counts: dict\n",
    "                key as bitstring, val as count\n",
    "           \n",
    "        G: networkx graph\n",
    "        \n",
    "    Returns:\n",
    "        avg: float\n",
    "             expectation value\n",
    "    \"\"\"\n",
    "    \n",
    "    avg = 0\n",
    "    sum_count = 0\n",
    "    for bitstring, count in counts.items():\n",
    "        \n",
    "        obj = maxcut_obj(bitstring, G)\n",
    "        avg += obj * count\n",
    "        sum_count += count\n",
    "        \n",
    "    return avg/sum_count"
   ]
  },
  {
   "cell_type": "code",
   "execution_count": 69,
   "id": "8801995f",
   "metadata": {},
   "outputs": [],
   "source": [
    "import qiskit\n",
    "from qiskit import Aer\n",
    "from qiskit_optimization.algorithms import MinimumEigenOptimizer\n",
    "from qiskit.providers.aer.noise import NoiseModel\n",
    "from qiskit.ignis.mitigation.measurement import CompleteMeasFitter\n",
    "from qiskit.providers.models import BackendConfiguration\n",
    "from helpers.config import *\n",
    "import pickle \n",
    "from shared.gem.gem_quantum_instance import GEMQuantumInstance\n",
    "\n",
    "#\n",
    "# Quantum Instance \n",
    "#\n",
    "DEFAULT_QASM_SIMULATOR = \"qasm_simulator\"\n",
    "NOISE_BACKEND = \"ibmq_toronto\"\n",
    "\n",
    "# Noise \n",
    "noise_model = None \n",
    "coupling_map = None\n",
    "basis_gates = None\n",
    "\n",
    "# create instance depending on config \n",
    "def create_quantum_instance():\n",
    "    from helpers.config import BACKEND\n",
    "\n",
    "    quantum_instance = None\n",
    "    \n",
    "    if BACKEND.value == Backend.Simulator.value:\n",
    "        return GEMQuantumInstance(\n",
    "                                        backend=Aer.get_backend(DEFAULT_QASM_SIMULATOR),\n",
    "                                        shots=SHOTS,\n",
    "                                        )\n",
    "    \n",
    "    if BACKEND.value == Backend.Simulator_Noise_Model.value:\n",
    "        quantum_instance = _create_simulator_with_noise_quantum_instance()\n",
    "        print(\"create noise\")\n",
    "    elif BACKEND.value == Backend.IBMQ_Toronto.value:\n",
    "        raise Exception(\"Quantum Instance with Toronto not implemented!\")\n",
    "    else: \n",
    "        raise Exception(f\"Quantum Instance not instanciated! {BACKEND.value}\")\n",
    "    \n",
    "    return quantum_instance\n",
    "\n",
    "\n",
    "def _init_noise_model_parameters():\n",
    "    global noise_model, coupling_map, basis_gates\n",
    "    if noise_model is None or coupling_map is None or basis_gates is None:\n",
    "        noise_model_filename = f\"helpers/ibmq_toronto_noise_model_dict.pkl\"\n",
    "        noise_model_dict = load_from_pickle(noise_model_filename)\n",
    "        noise_model = NoiseModel.from_dict(noise_model_dict)\n",
    "        basis_gates = noise_model.basis_gates\n",
    "        \n",
    "        noise_backend_configuration_filename = f\"helpers/ibmq_toronto_noise_backend_configuation_dict.pkl\"\n",
    "        noise_backend_configuration_dict = load_from_pickle(noise_backend_configuration_filename)\n",
    "        noise_backend_configuration = BackendConfiguration.from_dict(noise_backend_configuration_dict)\n",
    "        coupling_map = noise_backend_configuration.coupling_map\n",
    "        \n",
    "\n",
    "def _create_simulator_with_noise_quantum_instance():\n",
    "    \n",
    "    _init_noise_model_parameters()\n",
    "    \n",
    "    quantum_instance = GEMQuantumInstance(\n",
    "                                        backend=Aer.get_backend(DEFAULT_QASM_SIMULATOR),\n",
    "                                        shots=SHOTS,\n",
    "                                        noise_model=noise_model,\n",
    "                                        coupling_map=coupling_map,\n",
    "                                        basis_gates=basis_gates,\n",
    "                                        )\n",
    "    return quantum_instance\n",
    "\n",
    "\n",
    "def load_from_pickle(name):\n",
    "    with open(name, 'rb') as f:\n",
    "        return pickle.load(f)\n"
   ]
  },
  {
   "cell_type": "code",
   "execution_count": 70,
   "id": "1defe426",
   "metadata": {},
   "outputs": [
    {
     "name": "stdout",
     "output_type": "stream",
     "text": [
      "create noise\n"
     ]
    }
   ],
   "source": [
    "#quantum_instance = GEMQuantumInstance(\n",
    "#                    #backend=Aer.get_backend(DEFAULT_QASM_SIMULATOR),\n",
    "#                    backend=provider.get_backend('ibmq_sydney'),\n",
    "#                    shots=SHOTS)\n",
    "\n",
    "\n",
    "quantum_instance = create_quantum_instance()\n",
    "\n",
    "qaoa = QAOA(\n",
    "            optimizer=COBYLA(maxiter=0),\n",
    "            quantum_instance=quantum_instance,\n",
    "            reps=1\n",
    "            )\n",
    "\n",
    "op, offset = max_cut_qubo.to_ising()"
   ]
  },
  {
   "cell_type": "code",
   "execution_count": 71,
   "id": "cf2907cd",
   "metadata": {},
   "outputs": [],
   "source": [
    "def create_cirucit(gamma,beta):\n",
    "    circuits = qaoa.construct_circuit([gamma,beta], operator=op)\n",
    "    circuit = circuits[0]\n",
    "    circuit.measure_all()\n",
    "    return circuit"
   ]
  },
  {
   "cell_type": "code",
   "execution_count": 72,
   "id": "aab936ac",
   "metadata": {},
   "outputs": [],
   "source": [
    "gem_instance = GEMInstance()"
   ]
  },
  {
   "cell_type": "code",
   "execution_count": 73,
   "id": "d603e055",
   "metadata": {},
   "outputs": [],
   "source": [
    "first_circuit = create_cirucit(0.5,0.5)"
   ]
  },
  {
   "cell_type": "code",
   "execution_count": 74,
   "id": "61e1469d",
   "metadata": {},
   "outputs": [],
   "source": [
    "mg = gem_instance.get_gem_matrix(first_circuit, quantum_instance)"
   ]
  },
  {
   "cell_type": "code",
   "execution_count": 75,
   "id": "8ad3a2e6",
   "metadata": {},
   "outputs": [
    {
     "data": {
      "text/plain": [
       "array([[7.29980469e-01, 7.56835938e-02, 9.22851562e-02, ...,\n",
       "        9.76562500e-04, 4.39453125e-03, 2.44140625e-03],\n",
       "       [3.17382812e-02, 6.66992188e-01, 1.36718750e-02, ...,\n",
       "        3.41796875e-03, 2.44140625e-03, 2.92968750e-03],\n",
       "       [4.58984375e-02, 5.37109375e-03, 6.07910156e-01, ...,\n",
       "        1.95312500e-03, 4.88281250e-04, 0.00000000e+00],\n",
       "       ...,\n",
       "       [4.88281250e-04, 0.00000000e+00, 1.95312500e-03, ...,\n",
       "        6.31835938e-01, 4.88281250e-03, 4.19921875e-02],\n",
       "       [3.41796875e-03, 1.46484375e-03, 6.34765625e-03, ...,\n",
       "        8.30078125e-03, 6.47460938e-01, 7.86132812e-02],\n",
       "       [9.76562500e-04, 1.95312500e-03, 1.46484375e-03, ...,\n",
       "        2.73437500e-02, 2.73437500e-02, 5.93750000e-01]])"
      ]
     },
     "execution_count": 75,
     "metadata": {},
     "output_type": "execute_result"
    }
   ],
   "source": [
    "quantum_instance.MG = mg\n",
    "mg"
   ]
  },
  {
   "cell_type": "code",
   "execution_count": 76,
   "id": "7aa92597",
   "metadata": {
    "scrolled": true
   },
   "outputs": [
    {
     "name": "stdout",
     "output_type": "stream",
     "text": [
      "graph_05_06_02_w_gem_row_0\n",
      "graph_05_06_02_w_gem_row_1\n",
      "graph_05_06_02_w_gem_row_2\n",
      "graph_05_06_02_w_gem_row_3\n",
      "graph_05_06_02_w_gem_row_4\n",
      "graph_05_06_02_w_gem_row_5\n",
      "graph_05_06_02_w_gem_row_6\n",
      "graph_05_06_02_w_gem_row_7\n",
      "graph_05_06_02_w_gem_row_8\n",
      "graph_05_06_02_w_gem_row_9\n",
      "graph_05_06_02_w_gem_row_10\n",
      "graph_05_06_02_w_gem_row_11\n",
      "graph_05_06_02_w_gem_row_12\n",
      "graph_05_06_02_w_gem_row_13\n",
      "graph_05_06_02_w_gem_row_14\n",
      "graph_05_06_02_w_gem_row_15\n",
      "graph_05_06_02_w_gem_row_16\n",
      "graph_05_06_02_w_gem_row_17\n",
      "graph_05_06_02_w_gem_row_18\n",
      "graph_05_06_02_w_gem_row_19\n",
      "graph_05_06_02_w_gem_row_20\n",
      "graph_05_06_02_w_gem_row_21\n",
      "graph_05_06_02_w_gem_row_22\n",
      "graph_05_06_02_w_gem_row_23\n",
      "graph_05_06_02_w_gem_row_24\n",
      "graph_05_06_02_w_gem_row_25\n",
      "graph_05_06_02_w_gem_row_26\n",
      "graph_05_06_02_w_gem_row_27\n",
      "graph_05_06_02_w_gem_row_28\n",
      "graph_05_06_02_w_gem_row_29\n",
      "graph_05_06_02_w_gem_row_30\n",
      "graph_05_06_02_w_gem_row_31\n"
     ]
    }
   ],
   "source": [
    "landscape = np.zeros(a_gamma.shape)\n",
    "\n",
    "for i in range(0, len(landscape)):\n",
    "    circuits = []\n",
    "    for j in range(0, len(landscape)):\n",
    "        # create circuits for entire row \n",
    "        circuit = create_cirucit(a_gamma[i][j], b_beta[i][j])\n",
    "        job = quantum_instance.execute([circuit])\n",
    "        count = job.get_counts()\n",
    "        #print(job)\n",
    "        #print(count)\n",
    "        mean = compute_expectation(count, graph)\n",
    "        landscape[i,j] = mean\n",
    "        #m =0\n",
    "       # for n in count.values():\n",
    "       #     m += n\n",
    "       # print(m)\n",
    "       # break\n",
    "        \n",
    "    #break\n",
    "        #circuits.append(circuit)\n",
    "    \n",
    "    # create one job with circuits \n",
    "    job_name = f\"{graph.name}_gem_row_{i}\"\n",
    "    #job = quantum_instance.execute(circuits)\n",
    "    #job.update_name(job_name)\n",
    "    print(job_name)\n",
    "    #print(job)\n",
    "    \n",
    "    # add results to landscape \n",
    "    #k = 0\n",
    "    #for count in job.get_counts():\n",
    "    #    mean = compute_expectation(count, graph)\n",
    "    #    landscape[i,k] = mean\n",
    "    #    k += 1"
   ]
  },
  {
   "cell_type": "code",
   "execution_count": 77,
   "id": "0318681e",
   "metadata": {},
   "outputs": [
    {
     "name": "stdout",
     "output_type": "stream",
     "text": [
      "[[-24.52761571 -24.17837705 -23.3899412  ... -23.55882671 -23.89485838\n",
      "  -24.40163798]\n",
      " [-23.39084954 -21.26867061 -22.99277742 ... -24.39690197 -23.74468017\n",
      "  -23.76362603]\n",
      " [-24.20156712 -19.03321059 -22.17266416 ... -25.70723155 -23.01145709\n",
      "  -23.48223469]\n",
      " ...\n",
      " [-23.47949154 -27.74819238 -23.14888823 ... -24.59967108 -25.39696075\n",
      "  -23.62123558]\n",
      " [-23.81695277 -27.5129413  -23.45616284 ... -23.72133801 -24.05986432\n",
      "  -23.59290006]\n",
      " [-23.4928196  -24.83291261 -23.08427776 ... -23.66286533 -23.18011369\n",
      "  -23.36481745]]\n"
     ]
    },
    {
     "data": {
      "image/png": "[encoded data removed]",
      "text/plain": [
       "<Figure size 288x288 with 1 Axes>"
      ]
     },
     "metadata": {
      "needs_background": "light"
     },
     "output_type": "display_data"
    }
   ],
   "source": [
    "print(landscape)\n",
    "plt.matshow(landscape)\n",
    "plt.show()"
   ]
  },
  {
   "cell_type": "code",
   "execution_count": 78,
   "id": "f92be730",
   "metadata": {},
   "outputs": [
    {
     "data": {
      "text/plain": [
       "-23.38839398178912"
      ]
     },
     "execution_count": 78,
     "metadata": {},
     "output_type": "execute_result"
    }
   ],
   "source": [
    "# Mean of landscape\n",
    "np.mean(landscape)"
   ]
  },
  {
   "cell_type": "code",
   "execution_count": 79,
   "id": "bb03a5a4",
   "metadata": {},
   "outputs": [
    {
     "data": {
      "text/plain": [
       "-31.277920087760318"
      ]
     },
     "execution_count": 79,
     "metadata": {},
     "output_type": "execute_result"
    }
   ],
   "source": [
    "# Minimium \n",
    "np.min(landscape)"
   ]
  },
  {
   "cell_type": "code",
   "execution_count": 80,
   "id": "be4164d7",
   "metadata": {},
   "outputs": [
    {
     "data": {
      "text/plain": [
       "(21, 19)"
      ]
     },
     "execution_count": 80,
     "metadata": {},
     "output_type": "execute_result"
    }
   ],
   "source": [
    "# Display Coordinates of Minimum \n",
    "np.unravel_index(np.argmin(landscape), landscape.shape)"
   ]
  },
  {
   "cell_type": "code",
   "execution_count": 81,
   "id": "d345481d",
   "metadata": {},
   "outputs": [
    {
     "name": "stdout",
     "output_type": "stream",
     "text": [
      "Opt.Gamma: 2.1, Opt.Beta: 1.9000000000000001\n"
     ]
    }
   ],
   "source": [
    "# Gamma and beta value of Minimium\n",
    "gamma, beta = np.unravel_index(np.argmin(landscape), landscape.shape)\n",
    "opt_gamma = gamma * step_size\n",
    "opt_beta = beta * step_size\n",
    "print(f\"Opt.Gamma: {opt_gamma}, Opt.Beta: {opt_beta}\")"
   ]
  },
  {
   "cell_type": "code",
   "execution_count": 82,
   "id": "3aeb645a",
   "metadata": {},
   "outputs": [],
   "source": [
    "# Save result matrix \n",
    "with open('landscape_toronto_noise_model_butterfly_weights_gem_results.npy', 'wb') as f:\n",
    "    np.save(f, landscape)"
   ]
  },
  {
   "cell_type": "code",
   "execution_count": 83,
   "id": "143a3a5b",
   "metadata": {},
   "outputs": [],
   "source": [
    "import plotly.graph_objects as go"
   ]
  },
  {
   "cell_type": "code",
   "execution_count": 86,
   "id": "a4a70fc8",
   "metadata": {},
   "outputs": [
    {
     "data": {
      "application/vnd.plotly.v1+json": {
       "config": {
        "plotlyServerURL": "https://plot.ly"
       },
       "data": [
        {
         "contours": {
          "z": {
           "highlightcolor": "limegreen",
           "project": {
            "z": true
           },
           "show": true,
           "usecolormap": true
          }
         },
         "type": "surface",
         "x": [
          0,
          0.1,
          0.2,
          0.30000000000000004,
          0.4,
          0.5,
          0.6000000000000001,
          0.7000000000000001,
          0.8,
          0.9,
          1,
          1.1,
          1.2000000000000002,
          1.3,
          1.4000000000000001,
          1.5,
          1.6,
          1.7000000000000002,
          1.8,
          1.9000000000000001,
          2,
          2.1,
          2.2,
          2.3000000000000003,
          2.4000000000000004,
          2.5,
          2.6,
          2.7,
          2.8000000000000003,
          2.9000000000000004,
          3,
          3.1
         ],
         "y": [
          0,
          0.1,
          0.2,
          0.30000000000000004,
          0.4,
          0.5,
          0.6000000000000001,
          0.7000000000000001,
          0.8,
          0.9,
          1,
          1.1,
          1.2000000000000002,
          1.3,
          1.4000000000000001,
          1.5,
          1.6,
          1.7000000000000002,
          1.8,
          1.9000000000000001,
          2,
          2.1,
          2.2,
          2.3000000000000003,
          2.4000000000000004,
          2.5,
          2.6,
          2.7,
          2.8000000000000003,
          2.9000000000000004,
          3,
          3.1
         ],
         "z": [
          [
           -24.52761570567644,
           -24.178377050929136,
           -23.389941196402123,
           -23.31312658376705,
           -24.375558703759282,
           -23.415547069637388,
           -23.58004248738983,
           -23.216147669226768,
           -24.25425204037095,
           -23.545508191248413,
           -23.115159094307295,
           -23.753059779657985,
           -23.977388663660697,
           -24.440461014826106,
           -23.869103562710187,
           -23.91573206153389,
           -23.514445097452256,
           -23.059806880868503,
           -23.869421829947413,
           -23.296237184838564,
           -22.841137662765423,
           -23.835545207768238,
           -23.534008501574355,
           -23.212418715429536,
           -24.538593232305214,
           -23.62244579983741,
           -24.022813263895138,
           -23.87954368901868,
           -24.07047419372779,
           -23.558826706155457,
           -23.894858377085544,
           -24.401637982409945
          ],
          [
           -23.390849538621374,
           -21.268670608357326,
           -22.992777418107302,
           -24.49886219873412,
           -23.52076151770583,
           -21.116883769090744,
           -22.330855184188177,
           -23.187554234120007,
           -22.37575971392885,
           -20.813096166676072,
           -22.166529291804164,
           -23.48654646311416,
           -23.22085377090647,
           -22.579874723314102,
           -22.611329143706786,
           -24.46397793025148,
           -23.922994864291077,
           -22.26886055420906,
           -22.915276903373737,
           -25.304493087798395,
           -24.427533662089065,
           -22.497589960611187,
           -23.548364625902565,
           -25.145967682528543,
           -24.360954371437565,
           -24.223510356575197,
           -24.597603128044362,
           -24.063182827141876,
           -24.532790260536185,
           -24.396901968292173,
           -23.74468016912251,
           -23.763626029132155
          ],
          [
           -24.201567120610846,
           -19.033210592775777,
           -22.172664161100936,
           -24.319573370772826,
           -21.97370356529804,
           -18.771201962902794,
           -21.161755227393872,
           -22.287757219876976,
           -22.108682059722483,
           -20.141661862501838,
           -20.72067157996242,
           -22.859621649128485,
           -22.24860191300378,
           -20.24183426061274,
           -21.72708359293627,
           -26.357115233912427,
           -25.025343883159312,
           -19.728950998468893,
           -22.80667413678581,
           -28.2947967118855,
           -26.057407886667164,
           -21.578142916944927,
           -23.901697975497687,
           -26.2327381232101,
           -24.335404719164913,
           -24.400094430018992,
           -24.377856022779746,
           -24.784996680030545,
           -24.49609835585636,
           -25.707231549701785,
           -23.0114570850541,
           -23.48223468864398
          ],
          [
           -22.94346391478154,
           -16.292739799560728,
           -21.152114351208393,
           -23.35289036033708,
           -21.303751893430537,
           -16.726935152935255,
           -20.213168089897138,
           -20.672208929564103,
           -21.264469455915293,
           -18.516618743411527,
           -20.272893358212265,
           -21.726768877308835,
           -21.95583001176164,
           -17.833276088101428,
           -21.27653479377997,
           -27.07233564850141,
           -24.574099008447245,
           -17.58309037269002,
           -21.77340164538924,
           -28.758071752085367,
           -26.43118754125271,
           -20.015493678449495,
           -23.248538254540236,
           -27.177931608337175,
           -25.992977037716617,
           -23.197437077407038,
           -24.735812347238234,
           -24.62724565248627,
           -25.32188279179522,
           -26.44578868092482,
           -24.34771824157068,
           -23.57141053266062
          ],
          [
           -23.793568998372322,
           -14.887581394592644,
           -21.064882169289547,
           -22.04295184934906,
           -20.954152653718392,
           -16.3816765283208,
           -20.177178580687055,
           -18.61222712173574,
           -20.36530671781941,
           -17.623950433516256,
           -20.762646400414397,
           -21.706769637232235,
           -20.607339834479472,
           -18.066895902686117,
           -21.272212233990174,
           -27.177384811761144,
           -24.770696802932022,
           -15.103441321718197,
           -22.48211009073918,
           -29.464021619882534,
           -26.29466897572702,
           -20.450137871023475,
           -24.063216839757793,
           -27.597747100315576,
           -27.086227767958594,
           -24.85749228576307,
           -25.23173159857357,
           -24.83773454895176,
           -25.985074543704606,
           -27.487829890817228,
           -26.167389838834556,
           -24.25506391008982
          ],
          [
           -23.90642667237232,
           -15.433595386367312,
           -19.12134825766482,
           -18.972313279015616,
           -21.350141191201054,
           -16.959874290089918,
           -19.717771335378544,
           -17.472926546648246,
           -19.86462516663824,
           -18.27442761004722,
           -20.75581845835405,
           -20.1379750033519,
           -21.192609118937835,
           -17.72921133622099,
           -21.558766608344786,
           -28.127145128011456,
           -24.88499487150067,
           -14.863262357876936,
           -21.62980636925007,
           -30.902148810375355,
           -27.127294222095752,
           -19.88836725304654,
           -24.00139385933153,
           -27.972934517690394,
           -27.865596563171966,
           -25.08237355327125,
           -25.53593837670821,
           -25.242581023640778,
           -26.35741747097311,
           -28.02984797667366,
           -26.552299325658584,
           -24.515828184719368
          ],
          [
           -24.059279853838976,
           -14.55512509399355,
           -20.00375209502814,
           -16.941962981666556,
           -22.526543298989242,
           -19.140085693368302,
           -18.759372052984403,
           -15.496279242452319,
           -19.953999921423506,
           -20.051132720879398,
           -20.645713826024352,
           -18.607346995646257,
           -19.423939092385094,
           -18.228184316819362,
           -22.03909121162453,
           -27.275510235945493,
           -22.657687232006335,
           -15.123020938485682,
           -21.863278964378814,
           -31.101835660471263,
           -26.509694864833158,
           -20.029961223163163,
           -23.76383035381705,
           -27.67744001501361,
           -29.293954569241517,
           -24.955538557293753,
           -25.76363052762596,
           -24.290884375441163,
           -27.88878159044636,
           -27.813775695856652,
           -27.281329737301025,
           -25.05264363918365
          ],
          [
           -23.726968498976955,
           -16.25103328033159,
           -18.38539213416895,
           -14.810182576784973,
           -23.293621104407826,
           -20.552145831089025,
           -18.785506800282892,
           -15.315670469527708,
           -19.79221661493346,
           -21.888519657493124,
           -22.079479920461065,
           -18.576245601642203,
           -18.03542734614001,
           -18.281832099027447,
           -22.379198702862773,
           -26.86070148796166,
           -22.65341924833477,
           -14.45030722295818,
           -21.83111054840141,
           -30.02643056669582,
           -27.588174874330512,
           -19.449663086917905,
           -22.969912360272012,
           -26.945380714842752,
           -30.50984049013765,
           -26.519049681394378,
           -26.273038366464448,
           -25.231813737903448,
           -28.437582164326127,
           -27.933438492374563,
           -28.046290997852214,
           -24.6200416059439
          ],
          [
           -22.757757597750896,
           -18.932690169342305,
           -19.134717111991886,
           -13.426556359506494,
           -23.363471896396543,
           -23.577044797004223,
           -19.445753680038514,
           -14.533638008083829,
           -20.222021112733287,
           -24.27842784452526,
           -23.573111549870745,
           -19.48093668655162,
           -17.986248367941243,
           -20.43066352428122,
           -23.260400432467513,
           -26.587753066282907,
           -22.244129767697988,
           -16.818283717430834,
           -22.364186578141982,
           -28.536349642232775,
           -27.219925124951512,
           -20.24201867703487,
           -22.62690370701948,
           -26.17805206763649,
           -30.77967824626337,
           -25.303008461099168,
           -24.87844039339372,
           -24.685279759575636,
           -27.52165782557318,
           -27.410600266832365,
           -28.255598962542326,
           -24.342787265747916
          ],
          [
           -24.511666628761347,
           -21.48611431915107,
           -19.841625155538697,
           -14.302653865878009,
           -25.095821358526184,
           -26.08026648963826,
           -20.331330399188474,
           -14.371154493235359,
           -21.227473349451575,
           -26.5849730080781,
           -23.873234680616946,
           -20.025879528940035,
           -19.162851490805117,
           -23.163035828806482,
           -24.19900967215647,
           -25.633029651942156,
           -21.584397126957242,
           -18.366769826242876,
           -22.782918223047588,
           -27.11340817255764,
           -26.25267127578901,
           -22.31698841674679,
           -23.135602846244733,
           -23.990796698194075,
           -30.51950344422294,
           -26.051503452104644,
           -25.120115407479805,
           -24.283203716928096,
           -27.37485359789833,
           -27.263786705274164,
           -28.34229653353817,
           -23.604834773918558
          ],
          [
           -23.846415530440467,
           -23.943655148600918,
           -19.702322716671578,
           -13.01254189342703,
           -26.519207358167016,
           -28.63903992331307,
           -22.079351861929904,
           -16.893066007398925,
           -22.995773388506176,
           -29.062675147757652,
           -25.476208365041867,
           -19.805328847072687,
           -18.5171956315879,
           -24.25379117450235,
           -25.101852534196883,
           -25.058926182200953,
           -20.376942717416867,
           -20.40202818572773,
           -23.649479038837843,
           -26.209506307892216,
           -26.53822189901887,
           -23.411292696729152,
           -23.192305492250902,
           -24.738918526564426,
           -29.946966212802145,
           -25.401969068124718,
           -23.697594873793097,
           -24.221166509169965,
           -27.103648601354,
           -25.54644942713601,
           -28.33324620477855,
           -24.344475099935607
          ],
          [
           -23.413856428918123,
           -25.774116763793696,
           -21.477407430446767,
           -14.179940977693974,
           -26.429658217457508,
           -30.04873566615776,
           -23.400831513606697,
           -17.84337733416278,
           -23.856760936473663,
           -29.810964420564,
           -25.999569073555907,
           -21.250626299951115,
           -19.78139594411059,
           -26.726740592775094,
           -26.06308960803548,
           -24.665952111373592,
           -20.93874631124832,
           -20.964451429741807,
           -23.84999291625651,
           -24.03659425982328,
           -25.48631344955683,
           -23.936028825085117,
           -22.681859630490628,
           -22.231462653213786,
           -28.298228602271983,
           -25.801705143658648,
           -24.512392143994678,
           -23.806339607886066,
           -25.70450050781916,
           -25.807624660081988,
           -27.783776895242816,
           -25.083022908975206
          ],
          [
           -23.78545984716054,
           -27.982338053290594,
           -22.307858063038765,
           -16.33653891464728,
           -26.528497010897524,
           -30.63592434342629,
           -24.107155091438646,
           -19.807048084324595,
           -24.717857248630803,
           -29.57806289497401,
           -26.993671793577178,
           -21.257328568168464,
           -21.94990073088477,
           -26.699296359975445,
           -26.018200464039406,
           -23.189265896104487,
           -21.210021749133464,
           -24.456517934785676,
           -24.26297060403472,
           -23.444372683658838,
           -24.008393204471638,
           -25.10065093796942,
           -22.585536325789878,
           -22.735139547608718,
           -26.42153610747833,
           -25.397816494830117,
           -24.02797526389279,
           -23.00657077367627,
           -25.426338280852715,
           -24.69131652912676,
           -26.791849926350626,
           -23.79024373351328
          ],
          [
           -24.393732843912176,
           -27.390928156163742,
           -23.768157844884616,
           -18.127760397268393,
           -25.564504592282102,
           -29.93047801374461,
           -24.229455703642927,
           -21.544479525099373,
           -25.199240563461096,
           -29.140304439606513,
           -26.133514641645164,
           -22.854433864933863,
           -22.20601359518068,
           -26.580545017881324,
           -26.274418668447122,
           -22.512636120998636,
           -22.12930760051475,
           -25.550865147005236,
           -24.265512494891926,
           -21.340340394732426,
           -23.461917673264246,
           -25.018637499066784,
           -22.75352257751244,
           -22.670573635759165,
           -25.25617798503726,
           -24.82089007934987,
           -22.926640614163926,
           -23.670552724269843,
           -25.356788107082643,
           -23.943340807772326,
           -26.34684921392034,
           -24.399403274279052
          ],
          [
           -23.9577486114018,
           -26.684470940866234,
           -23.981260274351403,
           -21.826376931843456,
           -25.47886033594936,
           -27.702609465703375,
           -24.864825293028023,
           -22.469742555241886,
           -24.397472901142248,
           -27.4260300969736,
           -25.100126698331735,
           -23.93634609771056,
           -24.527321274453982,
           -26.844330561378438,
           -24.115622140287236,
           -22.91020678185419,
           -22.484642936213433,
           -25.379897185678054,
           -24.333931337329886,
           -22.198909277320997,
           -23.16655686972756,
           -25.056613233512483,
           -23.352006336197178,
           -22.18257277670142,
           -24.560306109559455,
           -24.248738404131164,
           -24.366638014756973,
           -23.565566205401872,
           -24.694992241613104,
           -23.64462024040705,
           -25.544130657156863,
           -24.83821947609988
          ],
          [
           -23.558545170108438,
           -25.317848743300864,
           -23.489002607262897,
           -23.226851946912692,
           -24.41233212205014,
           -25.430233343276726,
           -24.279394383453067,
           -24.027070894693352,
           -23.853403729128523,
           -25.442541058453585,
           -24.650762305155894,
           -24.20533653930497,
           -23.775403896346884,
           -24.64979983413187,
           -25.19796953134465,
           -23.876380130916264,
           -23.186998878563458,
           -25.225242194333518,
           -23.768054372729843,
           -22.773459700564914,
           -24.029709366179965,
           -24.11288852275086,
           -22.9129866540781,
           -22.634370169373256,
           -23.33429786552686,
           -23.533287357262225,
           -24.19252589148906,
           -23.947946241619935,
           -23.766819879432802,
           -22.838011725763035,
           -24.66361762351252,
           -23.79886145078775
          ],
          [
           -23.663516305932916,
           -22.847408988061602,
           -24.04579550248715,
           -23.886352736717594,
           -23.53430716752887,
           -23.83431515291402,
           -23.219610966810933,
           -23.239285239596654,
           -23.2592202610495,
           -23.466742117197846,
           -23.90177037937029,
           -23.88092411896608,
           -23.323620799263143,
           -22.85715427000363,
           -23.85253419895596,
           -24.95338394027869,
           -23.86220996569106,
           -23.331473144421764,
           -23.839700996819722,
           -24.5177335266225,
           -23.51131553187498,
           -23.23441082560804,
           -24.541825908774342,
           -24.330146355123198,
           -23.451163432238946,
           -24.452574139596557,
           -23.92724539996657,
           -23.522504576307078,
           -23.90574256820681,
           -24.86717712687089,
           -23.43074575715472,
           -24.454456107285083
          ],
          [
           -23.991389226481438,
           -21.569115131510753,
           -23.0033803093248,
           -24.48390887315946,
           -21.883294839071837,
           -19.924589226202052,
           -21.4949080270387,
           -23.445324686382953,
           -23.471971076131595,
           -21.09909316551293,
           -21.72541461782983,
           -23.161922369295024,
           -23.36652966442122,
           -21.49650266084775,
           -22.744956054891023,
           -24.64857268045344,
           -24.705344517689543,
           -21.70481289751844,
           -23.322087789045696,
           -25.89506899104215,
           -24.581171477572045,
           -22.70941884790272,
           -23.792241051841405,
           -25.112983417073107,
           -24.915217919491315,
           -23.92426064090314,
           -25.322180847778736,
           -24.292408970520704,
           -23.617126363472927,
           -24.232405088197567,
           -24.288418217717876,
           -24.02599328026226
          ],
          [
           -24.082653563547165,
           -17.580389471472248,
           -23.18042699348014,
           -23.865333791508693,
           -21.90428638839463,
           -17.53830360166472,
           -21.93048827622869,
           -21.780236451959677,
           -21.830862072285175,
           -18.91812059588762,
           -21.867284867457276,
           -23.030266328380158,
           -22.340606141917597,
           -18.90100733461229,
           -22.084305091367,
           -25.57129688591533,
           -24.798848777277144,
           -19.88924711187851,
           -22.230627913785067,
           -27.68645984326615,
           -25.61962156838563,
           -21.75729514349519,
           -23.72400139270974,
           -26.213190608066736,
           -24.8062747199152,
           -24.84586461193047,
           -24.446962470140186,
           -25.418956862418284,
           -24.825611762286176,
           -25.99276150751594,
           -23.920185057376813,
           -23.589405025714445
          ],
          [
           -23.590900660347547,
           -17.330076272255805,
           -21.459813360911973,
           -23.078961587152325,
           -21.6415512474312,
           -16.744141948248288,
           -20.2554565455905,
           -20.829021734425403,
           -20.200755533632393,
           -18.984270204193024,
           -21.19587303889324,
           -21.837044062930886,
           -22.583889027268825,
           -17.81732532209594,
           -21.009021381910316,
           -26.3740352077512,
           -25.12494730123641,
           -17.257244895860378,
           -20.866386104252783,
           -28.966378339580285,
           -26.18044339091698,
           -20.542645516524303,
           -23.878781000086537,
           -27.255279160962907,
           -26.145345868074756,
           -25.10623097929935,
           -24.610375495062016,
           -25.024202440775703,
           -26.315786268910326,
           -26.10664664114562,
           -24.553929396555688,
           -23.802162729993857
          ],
          [
           -23.991835413066216,
           -13.994114942313303,
           -20.71107576904578,
           -21.494190736672834,
           -20.75772783792713,
           -16.050211594841475,
           -20.281218014414538,
           -18.781627262671908,
           -19.030151440924847,
           -18.43981099553396,
           -20.094905748454412,
           -21.185843317405915,
           -20.48315569847886,
           -17.208256445697874,
           -20.80972757369636,
           -27.233871384667626,
           -24.703753534716814,
           -15.576126515244916,
           -21.947350473194426,
           -30.67116054980524,
           -27.29295389568554,
           -19.362966811858602,
           -24.57549266650584,
           -27.517301068125672,
           -27.213186368639068,
           -25.122439537820068,
           -25.534666467007103,
           -25.79058847181527,
           -26.227047424187873,
           -26.845910708034687,
           -25.41057144968772,
           -24.683751772562708
          ],
          [
           -23.897377468334522,
           -13.743311694186362,
           -18.911050810173855,
           -18.675231437032995,
           -21.167553118205838,
           -17.975941027670476,
           -19.280196393605475,
           -16.163436005972756,
           -19.8178445074601,
           -19.394506347516277,
           -19.63632214216826,
           -20.32859010879235,
           -20.212693891443053,
           -17.231052414917677,
           -21.7037598469876,
           -27.228323752288862,
           -22.97895064105182,
           -14.436348723905047,
           -21.7459647668723,
           -31.277920087760318,
           -27.337039857339885,
           -19.779726063226693,
           -22.77939196291826,
           -28.138096282824044,
           -29.357574327322208,
           -26.22053659163075,
           -26.22996645506045,
           -25.840816112505493,
           -27.400914307494933,
           -28.079197359000077,
           -25.94758872164451,
           -24.294826620190708
          ],
          [
           -23.682874980087032,
           -15.597885894683944,
           -19.613107434360913,
           -16.25768574750475,
           -22.08926165887646,
           -19.55500493570165,
           -18.664284439546574,
           -15.34545679577726,
           -19.071414902676118,
           -20.5641017701054,
           -21.64719773624591,
           -18.7302266819246,
           -19.103112844165576,
           -17.405373845701188,
           -22.03699945595938,
           -27.510619678645487,
           -23.013504130076726,
           -15.019529990476444,
           -21.071826069823945,
           -30.693038583524523,
           -27.24557080670255,
           -19.73634956870639,
           -23.815881301720587,
           -28.459220938681202,
           -29.016478016578475,
           -26.4573832897871,
           -25.099910240914536,
           -25.473457204754418,
           -27.71861037841864,
           -28.467446495740624,
           -26.989695018133467,
           -23.941637828004904
          ],
          [
           -23.844204098079473,
           -16.582435230486627,
           -19.918265322564864,
           -14.433403868278155,
           -23.500968009740667,
           -21.21339236721418,
           -20.328295365810412,
           -15.28229178731476,
           -20.486964438193258,
           -22.95306665383362,
           -23.039669134204264,
           -19.216122072165692,
           -19.554682689878394,
           -19.244923597450416,
           -22.964220819268863,
           -26.80751828488297,
           -21.873119875122658,
           -16.30131296364958,
           -22.316307825653727,
           -30.51608803792378,
           -27.45184056283331,
           -20.39817359411309,
           -21.94236030826184,
           -27.071844155958672,
           -30.164522986761316,
           -25.92172132211961,
           -25.319624919992904,
           -24.964963852593364,
           -28.30044167875037,
           -27.52819469082138,
           -27.254382560926683,
           -25.12868344376789
          ],
          [
           -24.195818963878974,
           -19.8362760923342,
           -18.619777871551207,
           -13.250045145654184,
           -24.455044640120008,
           -24.127096856490397,
           -19.681621257674934,
           -14.612645917737098,
           -20.482977287938397,
           -24.58184826021141,
           -24.141536768955152,
           -19.013756636793058,
           -18.698853427231338,
           -22.03051760935404,
           -24.347320922361853,
           -26.01122702569657,
           -20.92400646780729,
           -17.742710802885316,
           -23.674137522053876,
           -28.803517488476356,
           -26.919335290310773,
           -19.8462884611728,
           -22.36352794542152,
           -26.03258629105844,
           -30.21135561970911,
           -25.132855405617484,
           -26.278055225608075,
           -24.451953323303524,
           -27.889026930349466,
           -28.00960885622868,
           -27.520519577875362,
           -24.718399907542274
          ],
          [
           -24.101796854837477,
           -22.18391890479791,
           -19.967516755308523,
           -12.21816332578743,
           -25.989729135765575,
           -26.91129905125242,
           -21.34151194045638,
           -15.8116457590002,
           -21.440671312540818,
           -26.95875974369613,
           -25.00389066937125,
           -20.356745073025102,
           -17.699581041395913,
           -23.873893383212984,
           -24.45829180454698,
           -25.590805803002233,
           -20.190432713819416,
           -19.142853625971842,
           -22.891210880832606,
           -26.398296751233918,
           -26.913229894298404,
           -22.90536895902197,
           -23.069393532136363,
           -24.580366035397955,
           -30.830796549621752,
           -26.00596983748034,
           -24.70071972136125,
           -23.99034803166895,
           -27.350853661850476,
           -26.629762658733615,
           -28.511383110958178,
           -24.233522077125375
          ],
          [
           -23.79536720760032,
           -25.300070786287574,
           -20.39181860998139,
           -14.228795951888648,
           -26.10575074527891,
           -28.941872101623826,
           -21.788833720709984,
           -16.853393745440044,
           -22.604977533315747,
           -28.47112713675651,
           -25.43239099997461,
           -20.404030742914205,
           -18.580331709327098,
           -25.09803316266388,
           -25.062387678907008,
           -24.352622745203607,
           -20.73760181806702,
           -20.96483664928426,
           -23.220502030622036,
           -24.656468784555535,
           -26.266745637122376,
           -23.351282579978644,
           -23.454760497585127,
           -23.50914283409752,
           -29.806167481984243,
           -25.66961932356389,
           -25.042974712141632,
           -23.57368998736456,
           -26.27294069248815,
           -26.22795723385471,
           -28.129794880006045,
           -23.987325272247155
          ],
          [
           -24.17338023669607,
           -26.602845613672276,
           -21.411074648787267,
           -14.669606736527468,
           -26.78902031188683,
           -30.389371472036885,
           -23.39732819852123,
           -18.27488155959707,
           -24.231498800900734,
           -29.762798501421365,
           -26.021335461557968,
           -21.425161277409305,
           -19.900501448056094,
           -26.344926454654342,
           -26.162747801104523,
           -23.854998822714002,
           -19.88064466727409,
           -23.845020535107917,
           -24.508294348028716,
           -23.239862670290957,
           -24.93187081188759,
           -24.670092848471185,
           -22.879001923490947,
           -23.293741395819396,
           -28.44856776962225,
           -25.580720503565857,
           -23.45810819263819,
           -22.78192711219796,
           -26.05423884231468,
           -25.445961501626986,
           -26.685861395880053,
           -24.572610172024973
          ],
          [
           -23.81154645027605,
           -27.842407181299247,
           -23.28676798076156,
           -17.098168611308743,
           -26.696028442114443,
           -30.85401435265797,
           -24.136651090712107,
           -20.490684309392627,
           -24.45394891718128,
           -28.97323461828281,
           -26.368266759636295,
           -23.040732638448297,
           -20.91374215458816,
           -26.747363491709788,
           -25.955742888954973,
           -22.205650725967725,
           -20.522345429778756,
           -24.417742084314476,
           -24.038335766361246,
           -22.643044855405094,
           -23.740013096359338,
           -24.446586764537788,
           -22.91116880397042,
           -22.19537663202171,
           -26.28806352727285,
           -24.143084127709972,
           -23.63384066644378,
           -23.47362795434059,
           -25.680522828725987,
           -24.012368314823984,
           -26.275885242991865,
           -24.64758944655039
          ],
          [
           -23.47949154096952,
           -27.748192375217027,
           -23.14888822899553,
           -18.368833880412954,
           -26.230043971597418,
           -29.604352018324324,
           -24.26943163311749,
           -22.663118435531402,
           -24.62539122912111,
           -29.06383634877023,
           -26.02284606841564,
           -22.94966579380236,
           -22.385522892827414,
           -26.89459526972921,
           -26.26032962440665,
           -22.116357625539806,
           -22.655259312205313,
           -25.63133138859557,
           -24.359949787523604,
           -22.264701534317556,
           -23.68178435645778,
           -25.204253826794353,
           -23.424665895378116,
           -22.929057883537947,
           -24.938106259087352,
           -24.944706508046774,
           -24.579954727670064,
           -23.28816177654727,
           -24.702727575298564,
           -24.599671080775952,
           -25.396960754543425,
           -23.62123558383904
          ],
          [
           -23.816952765259202,
           -27.512941302313354,
           -23.45616283862154,
           -22.40581398861447,
           -25.136432960241958,
           -27.545298546272875,
           -24.467508585207252,
           -23.075807806182212,
           -24.472568942404187,
           -26.94369683223461,
           -24.95478353929183,
           -24.336817830052492,
           -22.93295373471682,
           -26.52767911966077,
           -25.451111580948027,
           -21.997530926878678,
           -23.572790518991116,
           -25.004257171806508,
           -24.89782344089034,
           -21.976781629181588,
           -23.139982808843904,
           -24.143310434193687,
           -23.05948966067014,
           -22.450869282939507,
           -24.11695887473025,
           -24.201254398026656,
           -23.202314425795663,
           -24.42013194303028,
           -23.55459753653429,
           -23.721338013920665,
           -24.059864320561875,
           -23.59290005583331
          ],
          [
           -23.49281959502715,
           -24.832912614853175,
           -23.0842777553375,
           -23.946128086617048,
           -24.301617353621662,
           -25.237733898189315,
           -23.389392341760082,
           -23.47606038044811,
           -24.4583908403795,
           -24.14670754716066,
           -24.322490628068355,
           -24.235978102867303,
           -24.174733970437785,
           -24.286247482942006,
           -24.609818417839207,
           -23.53102557660332,
           -23.884193865653536,
           -24.171992958493234,
           -23.923911558410115,
           -22.481344621709827,
           -23.48156340651193,
           -23.727447395920763,
           -23.349230812565366,
           -22.933318593248856,
           -23.765640758687997,
           -23.608427959323894,
           -23.468278732035767,
           -23.621909264400884,
           -24.05308139847128,
           -23.662865330092725,
           -23.18011368887468,
           -23.36481745073573
          ]
         ]
        }
       ],
       "layout": {
        "scene": {
         "xaxis": {
          "title": {
           "text": "γ"
          }
         },
         "yaxis": {
          "title": {
           "text": "β"
          }
         },
         "zaxis": {
          "title": {
           "text": "F(γ,β)"
          }
         }
        },
        "template": {
         "data": {
          "bar": [
           {
            "error_x": {
             "color": "#2a3f5f"
            },
            "error_y": {
             "color": "#2a3f5f"
            },
            "marker": {
             "line": {
              "color": "#E5ECF6",
              "width": 0.5
             },
             "pattern": {
              "fillmode": "overlay",
              "size": 10,
              "solidity": 0.2
             }
            },
            "type": "bar"
           }
          ],
          "barpolar": [
           {
            "marker": {
             "line": {
              "color": "#E5ECF6",
              "width": 0.5
             },
             "pattern": {
              "fillmode": "overlay",
              "size": 10,
              "solidity": 0.2
             }
            },
            "type": "barpolar"
           }
          ],
          "carpet": [
           {
            "aaxis": {
             "endlinecolor": "#2a3f5f",
             "gridcolor": "white",
             "linecolor": "white",
             "minorgridcolor": "white",
             "startlinecolor": "#2a3f5f"
            },
            "baxis": {
             "endlinecolor": "#2a3f5f",
             "gridcolor": "white",
             "linecolor": "white",
             "minorgridcolor": "white",
             "startlinecolor": "#2a3f5f"
            },
            "type": "carpet"
           }
          ],
          "choropleth": [
           {
            "colorbar": {
             "outlinewidth": 0,
             "ticks": ""
            },
            "type": "choropleth"
           }
          ],
          "contour": [
           {
            "colorbar": {
             "outlinewidth": 0,
             "ticks": ""
            },
            "colorscale": [
             [
              0,
              "#0d0887"
             ],
             [
              0.1111111111111111,
              "#46039f"
             ],
             [
              0.2222222222222222,
              "#7201a8"
             ],
             [
              0.3333333333333333,
              "#9c179e"
             ],
             [
              0.4444444444444444,
              "#bd3786"
             ],
             [
              0.5555555555555556,
              "#d8576b"
             ],
             [
              0.6666666666666666,
              "#ed7953"
             ],
             [
              0.7777777777777778,
              "#fb9f3a"
             ],
             [
              0.8888888888888888,
              "#fdca26"
             ],
             [
              1,
              "#f0f921"
             ]
            ],
            "type": "contour"
           }
          ],
          "contourcarpet": [
           {
            "colorbar": {
             "outlinewidth": 0,
             "ticks": ""
            },
            "type": "contourcarpet"
           }
          ],
          "heatmap": [
           {
            "colorbar": {
             "outlinewidth": 0,
             "ticks": ""
            },
            "colorscale": [
             [
              0,
              "#0d0887"
             ],
             [
              0.1111111111111111,
              "#46039f"
             ],
             [
              0.2222222222222222,
              "#7201a8"
             ],
             [
              0.3333333333333333,
              "#9c179e"
             ],
             [
              0.4444444444444444,
              "#bd3786"
             ],
             [
              0.5555555555555556,
              "#d8576b"
             ],
             [
              0.6666666666666666,
              "#ed7953"
             ],
             [
              0.7777777777777778,
              "#fb9f3a"
             ],
             [
              0.8888888888888888,
              "#fdca26"
             ],
             [
              1,
              "#f0f921"
             ]
            ],
            "type": "heatmap"
           }
          ],
          "heatmapgl": [
           {
            "colorbar": {
             "outlinewidth": 0,
             "ticks": ""
            },
            "colorscale": [
             [
              0,
              "#0d0887"
             ],
             [
              0.1111111111111111,
              "#46039f"
             ],
             [
              0.2222222222222222,
              "#7201a8"
             ],
             [
              0.3333333333333333,
              "#9c179e"
             ],
             [
              0.4444444444444444,
              "#bd3786"
             ],
             [
              0.5555555555555556,
              "#d8576b"
             ],
             [
              0.6666666666666666,
              "#ed7953"
             ],
             [
              0.7777777777777778,
              "#fb9f3a"
             ],
             [
              0.8888888888888888,
              "#fdca26"
             ],
             [
              1,
              "#f0f921"
             ]
            ],
            "type": "heatmapgl"
           }
          ],
          "histogram": [
           {
            "marker": {
             "pattern": {
              "fillmode": "overlay",
              "size": 10,
              "solidity": 0.2
             }
            },
            "type": "histogram"
           }
          ],
          "histogram2d": [
           {
            "colorbar": {
             "outlinewidth": 0,
             "ticks": ""
            },
            "colorscale": [
             [
              0,
              "#0d0887"
             ],
             [
              0.1111111111111111,
              "#46039f"
             ],
             [
              0.2222222222222222,
              "#7201a8"
             ],
             [
              0.3333333333333333,
              "#9c179e"
             ],
             [
              0.4444444444444444,
              "#bd3786"
             ],
             [
              0.5555555555555556,
              "#d8576b"
             ],
             [
              0.6666666666666666,
              "#ed7953"
             ],
             [
              0.7777777777777778,
              "#fb9f3a"
             ],
             [
              0.8888888888888888,
              "#fdca26"
             ],
             [
              1,
              "#f0f921"
             ]
            ],
            "type": "histogram2d"
           }
          ],
          "histogram2dcontour": [
           {
            "colorbar": {
             "outlinewidth": 0,
             "ticks": ""
            },
            "colorscale": [
             [
              0,
              "#0d0887"
             ],
             [
              0.1111111111111111,
              "#46039f"
             ],
             [
              0.2222222222222222,
              "#7201a8"
             ],
             [
              0.3333333333333333,
              "#9c179e"
             ],
             [
              0.4444444444444444,
              "#bd3786"
             ],
             [
              0.5555555555555556,
              "#d8576b"
             ],
             [
              0.6666666666666666,
              "#ed7953"
             ],
             [
              0.7777777777777778,
              "#fb9f3a"
             ],
             [
              0.8888888888888888,
              "#fdca26"
             ],
             [
              1,
              "#f0f921"
             ]
            ],
            "type": "histogram2dcontour"
           }
          ],
          "mesh3d": [
           {
            "colorbar": {
             "outlinewidth": 0,
             "ticks": ""
            },
            "type": "mesh3d"
           }
          ],
          "parcoords": [
           {
            "line": {
             "colorbar": {
              "outlinewidth": 0,
              "ticks": ""
             }
            },
            "type": "parcoords"
           }
          ],
          "pie": [
           {
            "automargin": true,
            "type": "pie"
           }
          ],
          "scatter": [
           {
            "marker": {
             "colorbar": {
              "outlinewidth": 0,
              "ticks": ""
             }
            },
            "type": "scatter"
           }
          ],
          "scatter3d": [
           {
            "line": {
             "colorbar": {
              "outlinewidth": 0,
              "ticks": ""
             }
            },
            "marker": {
             "colorbar": {
              "outlinewidth": 0,
              "ticks": ""
             }
            },
            "type": "scatter3d"
           }
          ],
          "scattercarpet": [
           {
            "marker": {
             "colorbar": {
              "outlinewidth": 0,
              "ticks": ""
             }
            },
            "type": "scattercarpet"
           }
          ],
          "scattergeo": [
           {
            "marker": {
             "colorbar": {
              "outlinewidth": 0,
              "ticks": ""
             }
            },
            "type": "scattergeo"
           }
          ],
          "scattergl": [
           {
            "marker": {
             "colorbar": {
              "outlinewidth": 0,
              "ticks": ""
             }
            },
            "type": "scattergl"
           }
          ],
          "scattermapbox": [
           {
            "marker": {
             "colorbar": {
              "outlinewidth": 0,
              "ticks": ""
             }
            },
            "type": "scattermapbox"
           }
          ],
          "scatterpolar": [
           {
            "marker": {
             "colorbar": {
              "outlinewidth": 0,
              "ticks": ""
             }
            },
            "type": "scatterpolar"
           }
          ],
          "scatterpolargl": [
           {
            "marker": {
             "colorbar": {
              "outlinewidth": 0,
              "ticks": ""
             }
            },
            "type": "scatterpolargl"
           }
          ],
          "scatterternary": [
           {
            "marker": {
             "colorbar": {
              "outlinewidth": 0,
              "ticks": ""
             }
            },
            "type": "scatterternary"
           }
          ],
          "surface": [
           {
            "colorbar": {
             "outlinewidth": 0,
             "ticks": ""
            },
            "colorscale": [
             [
              0,
              "#0d0887"
             ],
             [
              0.1111111111111111,
              "#46039f"
             ],
             [
              0.2222222222222222,
              "#7201a8"
             ],
             [
              0.3333333333333333,
              "#9c179e"
             ],
             [
              0.4444444444444444,
              "#bd3786"
             ],
             [
              0.5555555555555556,
              "#d8576b"
             ],
             [
              0.6666666666666666,
              "#ed7953"
             ],
             [
              0.7777777777777778,
              "#fb9f3a"
             ],
             [
              0.8888888888888888,
              "#fdca26"
             ],
             [
              1,
              "#f0f921"
             ]
            ],
            "type": "surface"
           }
          ],
          "table": [
           {
            "cells": {
             "fill": {
              "color": "#EBF0F8"
             },
             "line": {
              "color": "white"
             }
            },
            "header": {
             "fill": {
              "color": "#C8D4E3"
             },
             "line": {
              "color": "white"
             }
            },
            "type": "table"
           }
          ]
         },
         "layout": {
          "annotationdefaults": {
           "arrowcolor": "#2a3f5f",
           "arrowhead": 0,
           "arrowwidth": 1
          },
          "autotypenumbers": "strict",
          "coloraxis": {
           "colorbar": {
            "outlinewidth": 0,
            "ticks": ""
           }
          },
          "colorscale": {
           "diverging": [
            [
             0,
             "#8e0152"
            ],
            [
             0.1,
             "#c51b7d"
            ],
            [
             0.2,
             "#de77ae"
            ],
            [
             0.3,
             "#f1b6da"
            ],
            [
             0.4,
             "#fde0ef"
            ],
            [
             0.5,
             "#f7f7f7"
            ],
            [
             0.6,
             "#e6f5d0"
            ],
            [
             0.7,
             "#b8e186"
            ],
            [
             0.8,
             "#7fbc41"
            ],
            [
             0.9,
             "#4d9221"
            ],
            [
             1,
             "#276419"
            ]
           ],
           "sequential": [
            [
             0,
             "#0d0887"
            ],
            [
             0.1111111111111111,
             "#46039f"
            ],
            [
             0.2222222222222222,
             "#7201a8"
            ],
            [
             0.3333333333333333,
             "#9c179e"
            ],
            [
             0.4444444444444444,
             "#bd3786"
            ],
            [
             0.5555555555555556,
             "#d8576b"
            ],
            [
             0.6666666666666666,
             "#ed7953"
            ],
            [
             0.7777777777777778,
             "#fb9f3a"
            ],
            [
             0.8888888888888888,
             "#fdca26"
            ],
            [
             1,
             "#f0f921"
            ]
           ],
           "sequentialminus": [
            [
             0,
             "#0d0887"
            ],
            [
             0.1111111111111111,
             "#46039f"
            ],
            [
             0.2222222222222222,
             "#7201a8"
            ],
            [
             0.3333333333333333,
             "#9c179e"
            ],
            [
             0.4444444444444444,
             "#bd3786"
            ],
            [
             0.5555555555555556,
             "#d8576b"
            ],
            [
             0.6666666666666666,
             "#ed7953"
            ],
            [
             0.7777777777777778,
             "#fb9f3a"
            ],
            [
             0.8888888888888888,
             "#fdca26"
            ],
            [
             1,
             "#f0f921"
            ]
           ]
          },
          "colorway": [
           "#636efa",
           "#EF553B",
           "#00cc96",
           "#ab63fa",
           "#FFA15A",
           "#19d3f3",
           "#FF6692",
           "#B6E880",
           "#FF97FF",
           "#FECB52"
          ],
          "font": {
           "color": "#2a3f5f"
          },
          "geo": {
           "bgcolor": "white",
           "lakecolor": "white",
           "landcolor": "#E5ECF6",
           "showlakes": true,
           "showland": true,
           "subunitcolor": "white"
          },
          "hoverlabel": {
           "align": "left"
          },
          "hovermode": "closest",
          "mapbox": {
           "style": "light"
          },
          "paper_bgcolor": "white",
          "plot_bgcolor": "#E5ECF6",
          "polar": {
           "angularaxis": {
            "gridcolor": "white",
            "linecolor": "white",
            "ticks": ""
           },
           "bgcolor": "#E5ECF6",
           "radialaxis": {
            "gridcolor": "white",
            "linecolor": "white",
            "ticks": ""
           }
          },
          "scene": {
           "xaxis": {
            "backgroundcolor": "#E5ECF6",
            "gridcolor": "white",
            "gridwidth": 2,
            "linecolor": "white",
            "showbackground": true,
            "ticks": "",
            "zerolinecolor": "white"
           },
           "yaxis": {
            "backgroundcolor": "#E5ECF6",
            "gridcolor": "white",
            "gridwidth": 2,
            "linecolor": "white",
            "showbackground": true,
            "ticks": "",
            "zerolinecolor": "white"
           },
           "zaxis": {
            "backgroundcolor": "#E5ECF6",
            "gridcolor": "white",
            "gridwidth": 2,
            "linecolor": "white",
            "showbackground": true,
            "ticks": "",
            "zerolinecolor": "white"
           }
          },
          "shapedefaults": {
           "line": {
            "color": "#2a3f5f"
           }
          },
          "ternary": {
           "aaxis": {
            "gridcolor": "white",
            "linecolor": "white",
            "ticks": ""
           },
           "baxis": {
            "gridcolor": "white",
            "linecolor": "white",
            "ticks": ""
           },
           "bgcolor": "#E5ECF6",
           "caxis": {
            "gridcolor": "white",
            "linecolor": "white",
            "ticks": ""
           }
          },
          "title": {
           "x": 0.05
          },
          "xaxis": {
           "automargin": true,
           "gridcolor": "white",
           "linecolor": "white",
           "ticks": "",
           "title": {
            "standoff": 15
           },
           "zerolinecolor": "white",
           "zerolinewidth": 2
          },
          "yaxis": {
           "automargin": true,
           "gridcolor": "white",
           "linecolor": "white",
           "ticks": "",
           "title": {
            "standoff": 15
           },
           "zerolinecolor": "white",
           "zerolinewidth": 2
          }
         }
        },
        "title": {
         "text": "QAOA with General Error Mitigation - MaxCut-Landscape"
        }
       }
      },
      "text/html": [
       "<div>                            <div id=\"b355b6a6-25d9-4acd-8e2a-dd7f9377a639\" class=\"plotly-graph-div\" style=\"height:525px; width:100%;\"></div>            <script type=\"text/javascript\">                require([\"plotly\"], function(Plotly) {                    window.PLOTLYENV=window.PLOTLYENV || {};                                    if (document.getElementById(\"b355b6a6-25d9-4acd-8e2a-dd7f9377a639\")) {                    Plotly.newPlot(                        \"b355b6a6-25d9-4acd-8e2a-dd7f9377a639\",                        [{\"contours\":{\"z\":{\"highlightcolor\":\"limegreen\",\"project\":{\"z\":true},\"show\":true,\"usecolormap\":true}},\"type\":\"surface\",\"x\":[0.0,0.1,0.2,0.30000000000000004,0.4,0.5,0.6000000000000001,0.7000000000000001,0.8,0.9,1.0,1.1,1.2000000000000002,1.3,1.4000000000000001,1.5,1.6,1.7000000000000002,1.8,1.9000000000000001,2.0,2.1,2.2,2.3000000000000003,2.4000000000000004,2.5,2.6,2.7,2.8000000000000003,2.9000000000000004,3.0,3.1],\"y\":[0.0,0.1,0.2,0.30000000000000004,0.4,0.5,0.6000000000000001,0.7000000000000001,0.8,0.9,1.0,1.1,1.2000000000000002,1.3,1.4000000000000001,1.5,1.6,1.7000000000000002,1.8,1.9000000000000001,2.0,2.1,2.2,2.3000000000000003,2.4000000000000004,2.5,2.6,2.7,2.8000000000000003,2.9000000000000004,3.0,3.1],\"z\":[[-24.52761570567644,-24.178377050929136,-23.389941196402123,-23.31312658376705,-24.375558703759282,-23.415547069637388,-23.58004248738983,-23.216147669226768,-24.25425204037095,-23.545508191248413,-23.115159094307295,-23.753059779657985,-23.977388663660697,-24.440461014826106,-23.869103562710187,-23.91573206153389,-23.514445097452256,-23.059806880868503,-23.869421829947413,-23.296237184838564,-22.841137662765423,-23.835545207768238,-23.534008501574355,-23.212418715429536,-24.538593232305214,-23.62244579983741,-24.022813263895138,-23.87954368901868,-24.07047419372779,-23.558826706155457,-23.894858377085544,-24.401637982409945],[-23.390849538621374,-21.268670608357326,-22.992777418107302,-24.49886219873412,-23.52076151770583,-21.116883769090744,-22.330855184188177,-23.187554234120007,-22.37575971392885,-20.813096166676072,-22.166529291804164,-23.48654646311416,-23.22085377090647,-22.579874723314102,-22.611329143706786,-24.46397793025148,-23.922994864291077,-22.26886055420906,-22.915276903373737,-25.304493087798395,-24.427533662089065,-22.497589960611187,-23.548364625902565,-25.145967682528543,-24.360954371437565,-24.223510356575197,-24.597603128044362,-24.063182827141876,-24.532790260536185,-24.396901968292173,-23.74468016912251,-23.763626029132155],[-24.201567120610846,-19.033210592775777,-22.172664161100936,-24.319573370772826,-21.97370356529804,-18.771201962902794,-21.161755227393872,-22.287757219876976,-22.108682059722483,-20.141661862501838,-20.72067157996242,-22.859621649128485,-22.24860191300378,-20.24183426061274,-21.72708359293627,-26.357115233912427,-25.025343883159312,-19.728950998468893,-22.80667413678581,-28.2947967118855,-26.057407886667164,-21.578142916944927,-23.901697975497687,-26.2327381232101,-24.335404719164913,-24.400094430018992,-24.377856022779746,-24.784996680030545,-24.49609835585636,-25.707231549701785,-23.0114570850541,-23.48223468864398],[-22.94346391478154,-16.292739799560728,-21.152114351208393,-23.35289036033708,-21.303751893430537,-16.726935152935255,-20.213168089897138,-20.672208929564103,-21.264469455915293,-18.516618743411527,-20.272893358212265,-21.726768877308835,-21.95583001176164,-17.833276088101428,-21.27653479377997,-27.07233564850141,-24.574099008447245,-17.58309037269002,-21.77340164538924,-28.758071752085367,-26.43118754125271,-20.015493678449495,-23.248538254540236,-27.177931608337175,-25.992977037716617,-23.197437077407038,-24.735812347238234,-24.62724565248627,-25.32188279179522,-26.44578868092482,-24.34771824157068,-23.57141053266062],[-23.793568998372322,-14.887581394592644,-21.064882169289547,-22.04295184934906,-20.954152653718392,-16.3816765283208,-20.177178580687055,-18.61222712173574,-20.36530671781941,-17.623950433516256,-20.762646400414397,-21.706769637232235,-20.607339834479472,-18.066895902686117,-21.272212233990174,-27.177384811761144,-24.770696802932022,-15.103441321718197,-22.48211009073918,-29.464021619882534,-26.29466897572702,-20.450137871023475,-24.063216839757793,-27.597747100315576,-27.086227767958594,-24.85749228576307,-25.23173159857357,-24.83773454895176,-25.985074543704606,-27.487829890817228,-26.167389838834556,-24.25506391008982],[-23.90642667237232,-15.433595386367312,-19.12134825766482,-18.972313279015616,-21.350141191201054,-16.959874290089918,-19.717771335378544,-17.472926546648246,-19.86462516663824,-18.27442761004722,-20.75581845835405,-20.1379750033519,-21.192609118937835,-17.72921133622099,-21.558766608344786,-28.127145128011456,-24.88499487150067,-14.863262357876936,-21.62980636925007,-30.902148810375355,-27.127294222095752,-19.88836725304654,-24.00139385933153,-27.972934517690394,-27.865596563171966,-25.08237355327125,-25.53593837670821,-25.242581023640778,-26.35741747097311,-28.02984797667366,-26.552299325658584,-24.515828184719368],[-24.059279853838976,-14.55512509399355,-20.00375209502814,-16.941962981666556,-22.526543298989242,-19.140085693368302,-18.759372052984403,-15.496279242452319,-19.953999921423506,-20.051132720879398,-20.645713826024352,-18.607346995646257,-19.423939092385094,-18.228184316819362,-22.03909121162453,-27.275510235945493,-22.657687232006335,-15.123020938485682,-21.863278964378814,-31.101835660471263,-26.509694864833158,-20.029961223163163,-23.76383035381705,-27.67744001501361,-29.293954569241517,-24.955538557293753,-25.76363052762596,-24.290884375441163,-27.88878159044636,-27.813775695856652,-27.281329737301025,-25.05264363918365],[-23.726968498976955,-16.25103328033159,-18.38539213416895,-14.810182576784973,-23.293621104407826,-20.552145831089025,-18.785506800282892,-15.315670469527708,-19.79221661493346,-21.888519657493124,-22.079479920461065,-18.576245601642203,-18.03542734614001,-18.281832099027447,-22.379198702862773,-26.86070148796166,-22.65341924833477,-14.45030722295818,-21.83111054840141,-30.02643056669582,-27.588174874330512,-19.449663086917905,-22.969912360272012,-26.945380714842752,-30.50984049013765,-26.519049681394378,-26.273038366464448,-25.231813737903448,-28.437582164326127,-27.933438492374563,-28.046290997852214,-24.6200416059439],[-22.757757597750896,-18.932690169342305,-19.134717111991886,-13.426556359506494,-23.363471896396543,-23.577044797004223,-19.445753680038514,-14.533638008083829,-20.222021112733287,-24.27842784452526,-23.573111549870745,-19.48093668655162,-17.986248367941243,-20.43066352428122,-23.260400432467513,-26.587753066282907,-22.244129767697988,-16.818283717430834,-22.364186578141982,-28.536349642232775,-27.219925124951512,-20.24201867703487,-22.62690370701948,-26.17805206763649,-30.77967824626337,-25.303008461099168,-24.87844039339372,-24.685279759575636,-27.52165782557318,-27.410600266832365,-28.255598962542326,-24.342787265747916],[-24.511666628761347,-21.48611431915107,-19.841625155538697,-14.302653865878009,-25.095821358526184,-26.08026648963826,-20.331330399188474,-14.371154493235359,-21.227473349451575,-26.5849730080781,-23.873234680616946,-20.025879528940035,-19.162851490805117,-23.163035828806482,-24.19900967215647,-25.633029651942156,-21.584397126957242,-18.366769826242876,-22.782918223047588,-27.11340817255764,-26.25267127578901,-22.31698841674679,-23.135602846244733,-23.990796698194075,-30.51950344422294,-26.051503452104644,-25.120115407479805,-24.283203716928096,-27.37485359789833,-27.263786705274164,-28.34229653353817,-23.604834773918558],[-23.846415530440467,-23.943655148600918,-19.702322716671578,-13.01254189342703,-26.519207358167016,-28.63903992331307,-22.079351861929904,-16.893066007398925,-22.995773388506176,-29.062675147757652,-25.476208365041867,-19.805328847072687,-18.5171956315879,-24.25379117450235,-25.101852534196883,-25.058926182200953,-20.376942717416867,-20.40202818572773,-23.649479038837843,-26.209506307892216,-26.53822189901887,-23.411292696729152,-23.192305492250902,-24.738918526564426,-29.946966212802145,-25.401969068124718,-23.697594873793097,-24.221166509169965,-27.103648601354,-25.54644942713601,-28.33324620477855,-24.344475099935607],[-23.413856428918123,-25.774116763793696,-21.477407430446767,-14.179940977693974,-26.429658217457508,-30.04873566615776,-23.400831513606697,-17.84337733416278,-23.856760936473663,-29.810964420564,-25.999569073555907,-21.250626299951115,-19.78139594411059,-26.726740592775094,-26.06308960803548,-24.665952111373592,-20.93874631124832,-20.964451429741807,-23.84999291625651,-24.03659425982328,-25.48631344955683,-23.936028825085117,-22.681859630490628,-22.231462653213786,-28.298228602271983,-25.801705143658648,-24.512392143994678,-23.806339607886066,-25.70450050781916,-25.807624660081988,-27.783776895242816,-25.083022908975206],[-23.78545984716054,-27.982338053290594,-22.307858063038765,-16.33653891464728,-26.528497010897524,-30.63592434342629,-24.107155091438646,-19.807048084324595,-24.717857248630803,-29.57806289497401,-26.993671793577178,-21.257328568168464,-21.94990073088477,-26.699296359975445,-26.018200464039406,-23.189265896104487,-21.210021749133464,-24.456517934785676,-24.26297060403472,-23.444372683658838,-24.008393204471638,-25.10065093796942,-22.585536325789878,-22.735139547608718,-26.42153610747833,-25.397816494830117,-24.02797526389279,-23.00657077367627,-25.426338280852715,-24.69131652912676,-26.791849926350626,-23.79024373351328],[-24.393732843912176,-27.390928156163742,-23.768157844884616,-18.127760397268393,-25.564504592282102,-29.93047801374461,-24.229455703642927,-21.544479525099373,-25.199240563461096,-29.140304439606513,-26.133514641645164,-22.854433864933863,-22.20601359518068,-26.580545017881324,-26.274418668447122,-22.512636120998636,-22.12930760051475,-25.550865147005236,-24.265512494891926,-21.340340394732426,-23.461917673264246,-25.018637499066784,-22.75352257751244,-22.670573635759165,-25.25617798503726,-24.82089007934987,-22.926640614163926,-23.670552724269843,-25.356788107082643,-23.943340807772326,-26.34684921392034,-24.399403274279052],[-23.9577486114018,-26.684470940866234,-23.981260274351403,-21.826376931843456,-25.47886033594936,-27.702609465703375,-24.864825293028023,-22.469742555241886,-24.397472901142248,-27.4260300969736,-25.100126698331735,-23.93634609771056,-24.527321274453982,-26.844330561378438,-24.115622140287236,-22.91020678185419,-22.484642936213433,-25.379897185678054,-24.333931337329886,-22.198909277320997,-23.16655686972756,-25.056613233512483,-23.352006336197178,-22.18257277670142,-24.560306109559455,-24.248738404131164,-24.366638014756973,-23.565566205401872,-24.694992241613104,-23.64462024040705,-25.544130657156863,-24.83821947609988],[-23.558545170108438,-25.317848743300864,-23.489002607262897,-23.226851946912692,-24.41233212205014,-25.430233343276726,-24.279394383453067,-24.027070894693352,-23.853403729128523,-25.442541058453585,-24.650762305155894,-24.20533653930497,-23.775403896346884,-24.64979983413187,-25.19796953134465,-23.876380130916264,-23.186998878563458,-25.225242194333518,-23.768054372729843,-22.773459700564914,-24.029709366179965,-24.11288852275086,-22.9129866540781,-22.634370169373256,-23.33429786552686,-23.533287357262225,-24.19252589148906,-23.947946241619935,-23.766819879432802,-22.838011725763035,-24.66361762351252,-23.79886145078775],[-23.663516305932916,-22.847408988061602,-24.04579550248715,-23.886352736717594,-23.53430716752887,-23.83431515291402,-23.219610966810933,-23.239285239596654,-23.2592202610495,-23.466742117197846,-23.90177037937029,-23.88092411896608,-23.323620799263143,-22.85715427000363,-23.85253419895596,-24.95338394027869,-23.86220996569106,-23.331473144421764,-23.839700996819722,-24.5177335266225,-23.51131553187498,-23.23441082560804,-24.541825908774342,-24.330146355123198,-23.451163432238946,-24.452574139596557,-23.92724539996657,-23.522504576307078,-23.90574256820681,-24.86717712687089,-23.43074575715472,-24.454456107285083],[-23.991389226481438,-21.569115131510753,-23.0033803093248,-24.48390887315946,-21.883294839071837,-19.924589226202052,-21.4949080270387,-23.445324686382953,-23.471971076131595,-21.09909316551293,-21.72541461782983,-23.161922369295024,-23.36652966442122,-21.49650266084775,-22.744956054891023,-24.64857268045344,-24.705344517689543,-21.70481289751844,-23.322087789045696,-25.89506899104215,-24.581171477572045,-22.70941884790272,-23.792241051841405,-25.112983417073107,-24.915217919491315,-23.92426064090314,-25.322180847778736,-24.292408970520704,-23.617126363472927,-24.232405088197567,-24.288418217717876,-24.02599328026226],[-24.082653563547165,-17.580389471472248,-23.18042699348014,-23.865333791508693,-21.90428638839463,-17.53830360166472,-21.93048827622869,-21.780236451959677,-21.830862072285175,-18.91812059588762,-21.867284867457276,-23.030266328380158,-22.340606141917597,-18.90100733461229,-22.084305091367,-25.57129688591533,-24.798848777277144,-19.88924711187851,-22.230627913785067,-27.68645984326615,-25.61962156838563,-21.75729514349519,-23.72400139270974,-26.213190608066736,-24.8062747199152,-24.84586461193047,-24.446962470140186,-25.418956862418284,-24.825611762286176,-25.99276150751594,-23.920185057376813,-23.589405025714445],[-23.590900660347547,-17.330076272255805,-21.459813360911973,-23.078961587152325,-21.6415512474312,-16.744141948248288,-20.2554565455905,-20.829021734425403,-20.200755533632393,-18.984270204193024,-21.19587303889324,-21.837044062930886,-22.583889027268825,-17.81732532209594,-21.009021381910316,-26.3740352077512,-25.12494730123641,-17.257244895860378,-20.866386104252783,-28.966378339580285,-26.18044339091698,-20.542645516524303,-23.878781000086537,-27.255279160962907,-26.145345868074756,-25.10623097929935,-24.610375495062016,-25.024202440775703,-26.315786268910326,-26.10664664114562,-24.553929396555688,-23.802162729993857],[-23.991835413066216,-13.994114942313303,-20.71107576904578,-21.494190736672834,-20.75772783792713,-16.050211594841475,-20.281218014414538,-18.781627262671908,-19.030151440924847,-18.43981099553396,-20.094905748454412,-21.185843317405915,-20.48315569847886,-17.208256445697874,-20.80972757369636,-27.233871384667626,-24.703753534716814,-15.576126515244916,-21.947350473194426,-30.67116054980524,-27.29295389568554,-19.362966811858602,-24.57549266650584,-27.517301068125672,-27.213186368639068,-25.122439537820068,-25.534666467007103,-25.79058847181527,-26.227047424187873,-26.845910708034687,-25.41057144968772,-24.683751772562708],[-23.897377468334522,-13.743311694186362,-18.911050810173855,-18.675231437032995,-21.167553118205838,-17.975941027670476,-19.280196393605475,-16.163436005972756,-19.8178445074601,-19.394506347516277,-19.63632214216826,-20.32859010879235,-20.212693891443053,-17.231052414917677,-21.7037598469876,-27.228323752288862,-22.97895064105182,-14.436348723905047,-21.7459647668723,-31.277920087760318,-27.337039857339885,-19.779726063226693,-22.77939196291826,-28.138096282824044,-29.357574327322208,-26.22053659163075,-26.22996645506045,-25.840816112505493,-27.400914307494933,-28.079197359000077,-25.94758872164451,-24.294826620190708],[-23.682874980087032,-15.597885894683944,-19.613107434360913,-16.25768574750475,-22.08926165887646,-19.55500493570165,-18.664284439546574,-15.34545679577726,-19.071414902676118,-20.5641017701054,-21.64719773624591,-18.7302266819246,-19.103112844165576,-17.405373845701188,-22.03699945595938,-27.510619678645487,-23.013504130076726,-15.019529990476444,-21.071826069823945,-30.693038583524523,-27.24557080670255,-19.73634956870639,-23.815881301720587,-28.459220938681202,-29.016478016578475,-26.4573832897871,-25.099910240914536,-25.473457204754418,-27.71861037841864,-28.467446495740624,-26.989695018133467,-23.941637828004904],[-23.844204098079473,-16.582435230486627,-19.918265322564864,-14.433403868278155,-23.500968009740667,-21.21339236721418,-20.328295365810412,-15.28229178731476,-20.486964438193258,-22.95306665383362,-23.039669134204264,-19.216122072165692,-19.554682689878394,-19.244923597450416,-22.964220819268863,-26.80751828488297,-21.873119875122658,-16.30131296364958,-22.316307825653727,-30.51608803792378,-27.45184056283331,-20.39817359411309,-21.94236030826184,-27.071844155958672,-30.164522986761316,-25.92172132211961,-25.319624919992904,-24.964963852593364,-28.30044167875037,-27.52819469082138,-27.254382560926683,-25.12868344376789],[-24.195818963878974,-19.8362760923342,-18.619777871551207,-13.250045145654184,-24.455044640120008,-24.127096856490397,-19.681621257674934,-14.612645917737098,-20.482977287938397,-24.58184826021141,-24.141536768955152,-19.013756636793058,-18.698853427231338,-22.03051760935404,-24.347320922361853,-26.01122702569657,-20.92400646780729,-17.742710802885316,-23.674137522053876,-28.803517488476356,-26.919335290310773,-19.8462884611728,-22.36352794542152,-26.03258629105844,-30.21135561970911,-25.132855405617484,-26.278055225608075,-24.451953323303524,-27.889026930349466,-28.00960885622868,-27.520519577875362,-24.718399907542274],[-24.101796854837477,-22.18391890479791,-19.967516755308523,-12.21816332578743,-25.989729135765575,-26.91129905125242,-21.34151194045638,-15.8116457590002,-21.440671312540818,-26.95875974369613,-25.00389066937125,-20.356745073025102,-17.699581041395913,-23.873893383212984,-24.45829180454698,-25.590805803002233,-20.190432713819416,-19.142853625971842,-22.891210880832606,-26.398296751233918,-26.913229894298404,-22.90536895902197,-23.069393532136363,-24.580366035397955,-30.830796549621752,-26.00596983748034,-24.70071972136125,-23.99034803166895,-27.350853661850476,-26.629762658733615,-28.511383110958178,-24.233522077125375],[-23.79536720760032,-25.300070786287574,-20.39181860998139,-14.228795951888648,-26.10575074527891,-28.941872101623826,-21.788833720709984,-16.853393745440044,-22.604977533315747,-28.47112713675651,-25.43239099997461,-20.404030742914205,-18.580331709327098,-25.09803316266388,-25.062387678907008,-24.352622745203607,-20.73760181806702,-20.96483664928426,-23.220502030622036,-24.656468784555535,-26.266745637122376,-23.351282579978644,-23.454760497585127,-23.50914283409752,-29.806167481984243,-25.66961932356389,-25.042974712141632,-23.57368998736456,-26.27294069248815,-26.22795723385471,-28.129794880006045,-23.987325272247155],[-24.17338023669607,-26.602845613672276,-21.411074648787267,-14.669606736527468,-26.78902031188683,-30.389371472036885,-23.39732819852123,-18.27488155959707,-24.231498800900734,-29.762798501421365,-26.021335461557968,-21.425161277409305,-19.900501448056094,-26.344926454654342,-26.162747801104523,-23.854998822714002,-19.88064466727409,-23.845020535107917,-24.508294348028716,-23.239862670290957,-24.93187081188759,-24.670092848471185,-22.879001923490947,-23.293741395819396,-28.44856776962225,-25.580720503565857,-23.45810819263819,-22.78192711219796,-26.05423884231468,-25.445961501626986,-26.685861395880053,-24.572610172024973],[-23.81154645027605,-27.842407181299247,-23.28676798076156,-17.098168611308743,-26.696028442114443,-30.85401435265797,-24.136651090712107,-20.490684309392627,-24.45394891718128,-28.97323461828281,-26.368266759636295,-23.040732638448297,-20.91374215458816,-26.747363491709788,-25.955742888954973,-22.205650725967725,-20.522345429778756,-24.417742084314476,-24.038335766361246,-22.643044855405094,-23.740013096359338,-24.446586764537788,-22.91116880397042,-22.19537663202171,-26.28806352727285,-24.143084127709972,-23.63384066644378,-23.47362795434059,-25.680522828725987,-24.012368314823984,-26.275885242991865,-24.64758944655039],[-23.47949154096952,-27.748192375217027,-23.14888822899553,-18.368833880412954,-26.230043971597418,-29.604352018324324,-24.26943163311749,-22.663118435531402,-24.62539122912111,-29.06383634877023,-26.02284606841564,-22.94966579380236,-22.385522892827414,-26.89459526972921,-26.26032962440665,-22.116357625539806,-22.655259312205313,-25.63133138859557,-24.359949787523604,-22.264701534317556,-23.68178435645778,-25.204253826794353,-23.424665895378116,-22.929057883537947,-24.938106259087352,-24.944706508046774,-24.579954727670064,-23.28816177654727,-24.702727575298564,-24.599671080775952,-25.396960754543425,-23.62123558383904],[-23.816952765259202,-27.512941302313354,-23.45616283862154,-22.40581398861447,-25.136432960241958,-27.545298546272875,-24.467508585207252,-23.075807806182212,-24.472568942404187,-26.94369683223461,-24.95478353929183,-24.336817830052492,-22.93295373471682,-26.52767911966077,-25.451111580948027,-21.997530926878678,-23.572790518991116,-25.004257171806508,-24.89782344089034,-21.976781629181588,-23.139982808843904,-24.143310434193687,-23.05948966067014,-22.450869282939507,-24.11695887473025,-24.201254398026656,-23.202314425795663,-24.42013194303028,-23.55459753653429,-23.721338013920665,-24.059864320561875,-23.59290005583331],[-23.49281959502715,-24.832912614853175,-23.0842777553375,-23.946128086617048,-24.301617353621662,-25.237733898189315,-23.389392341760082,-23.47606038044811,-24.4583908403795,-24.14670754716066,-24.322490628068355,-24.235978102867303,-24.174733970437785,-24.286247482942006,-24.609818417839207,-23.53102557660332,-23.884193865653536,-24.171992958493234,-23.923911558410115,-22.481344621709827,-23.48156340651193,-23.727447395920763,-23.349230812565366,-22.933318593248856,-23.765640758687997,-23.608427959323894,-23.468278732035767,-23.621909264400884,-24.05308139847128,-23.662865330092725,-23.18011368887468,-23.36481745073573]]}],                        {\"scene\":{\"xaxis\":{\"title\":{\"text\":\"\\u03b3\"}},\"yaxis\":{\"title\":{\"text\":\"\\u03b2\"}},\"zaxis\":{\"title\":{\"text\":\"F(\\u03b3,\\u03b2)\"}}},\"template\":{\"data\":{\"bar\":[{\"error_x\":{\"color\":\"#2a3f5f\"},\"error_y\":{\"color\":\"#2a3f5f\"},\"marker\":{\"line\":{\"color\":\"#E5ECF6\",\"width\":0.5},\"pattern\":{\"fillmode\":\"overlay\",\"size\":10,\"solidity\":0.2}},\"type\":\"bar\"}],\"barpolar\":[{\"marker\":{\"line\":{\"color\":\"#E5ECF6\",\"width\":0.5},\"pattern\":{\"fillmode\":\"overlay\",\"size\":10,\"solidity\":0.2}},\"type\":\"barpolar\"}],\"carpet\":[{\"aaxis\":{\"endlinecolor\":\"#2a3f5f\",\"gridcolor\":\"white\",\"linecolor\":\"white\",\"minorgridcolor\":\"white\",\"startlinecolor\":\"#2a3f5f\"},\"baxis\":{\"endlinecolor\":\"#2a3f5f\",\"gridcolor\":\"white\",\"linecolor\":\"white\",\"minorgridcolor\":\"white\",\"startlinecolor\":\"#2a3f5f\"},\"type\":\"carpet\"}],\"choropleth\":[{\"colorbar\":{\"outlinewidth\":0,\"ticks\":\"\"},\"type\":\"choropleth\"}],\"contour\":[{\"colorbar\":{\"outlinewidth\":0,\"ticks\":\"\"},\"colorscale\":[[0.0,\"#0d0887\"],[0.1111111111111111,\"#46039f\"],[0.2222222222222222,\"#7201a8\"],[0.3333333333333333,\"#9c179e\"],[0.4444444444444444,\"#bd3786\"],[0.5555555555555556,\"#d8576b\"],[0.6666666666666666,\"#ed7953\"],[0.7777777777777778,\"#fb9f3a\"],[0.8888888888888888,\"#fdca26\"],[1.0,\"#f0f921\"]],\"type\":\"contour\"}],\"contourcarpet\":[{\"colorbar\":{\"outlinewidth\":0,\"ticks\":\"\"},\"type\":\"contourcarpet\"}],\"heatmap\":[{\"colorbar\":{\"outlinewidth\":0,\"ticks\":\"\"},\"colorscale\":[[0.0,\"#0d0887\"],[0.1111111111111111,\"#46039f\"],[0.2222222222222222,\"#7201a8\"],[0.3333333333333333,\"#9c179e\"],[0.4444444444444444,\"#bd3786\"],[0.5555555555555556,\"#d8576b\"],[0.6666666666666666,\"#ed7953\"],[0.7777777777777778,\"#fb9f3a\"],[0.8888888888888888,\"#fdca26\"],[1.0,\"#f0f921\"]],\"type\":\"heatmap\"}],\"heatmapgl\":[{\"colorbar\":{\"outlinewidth\":0,\"ticks\":\"\"},\"colorscale\":[[0.0,\"#0d0887\"],[0.1111111111111111,\"#46039f\"],[0.2222222222222222,\"#7201a8\"],[0.3333333333333333,\"#9c179e\"],[0.4444444444444444,\"#bd3786\"],[0.5555555555555556,\"#d8576b\"],[0.6666666666666666,\"#ed7953\"],[0.7777777777777778,\"#fb9f3a\"],[0.8888888888888888,\"#fdca26\"],[1.0,\"#f0f921\"]],\"type\":\"heatmapgl\"}],\"histogram\":[{\"marker\":{\"pattern\":{\"fillmode\":\"overlay\",\"size\":10,\"solidity\":0.2}},\"type\":\"histogram\"}],\"histogram2d\":[{\"colorbar\":{\"outlinewidth\":0,\"ticks\":\"\"},\"colorscale\":[[0.0,\"#0d0887\"],[0.1111111111111111,\"#46039f\"],[0.2222222222222222,\"#7201a8\"],[0.3333333333333333,\"#9c179e\"],[0.4444444444444444,\"#bd3786\"],[0.5555555555555556,\"#d8576b\"],[0.6666666666666666,\"#ed7953\"],[0.7777777777777778,\"#fb9f3a\"],[0.8888888888888888,\"#fdca26\"],[1.0,\"#f0f921\"]],\"type\":\"histogram2d\"}],\"histogram2dcontour\":[{\"colorbar\":{\"outlinewidth\":0,\"ticks\":\"\"},\"colorscale\":[[0.0,\"#0d0887\"],[0.1111111111111111,\"#46039f\"],[0.2222222222222222,\"#7201a8\"],[0.3333333333333333,\"#9c179e\"],[0.4444444444444444,\"#bd3786\"],[0.5555555555555556,\"#d8576b\"],[0.6666666666666666,\"#ed7953\"],[0.7777777777777778,\"#fb9f3a\"],[0.8888888888888888,\"#fdca26\"],[1.0,\"#f0f921\"]],\"type\":\"histogram2dcontour\"}],\"mesh3d\":[{\"colorbar\":{\"outlinewidth\":0,\"ticks\":\"\"},\"type\":\"mesh3d\"}],\"parcoords\":[{\"line\":{\"colorbar\":{\"outlinewidth\":0,\"ticks\":\"\"}},\"type\":\"parcoords\"}],\"pie\":[{\"automargin\":true,\"type\":\"pie\"}],\"scatter\":[{\"marker\":{\"colorbar\":{\"outlinewidth\":0,\"ticks\":\"\"}},\"type\":\"scatter\"}],\"scatter3d\":[{\"line\":{\"colorbar\":{\"outlinewidth\":0,\"ticks\":\"\"}},\"marker\":{\"colorbar\":{\"outlinewidth\":0,\"ticks\":\"\"}},\"type\":\"scatter3d\"}],\"scattercarpet\":[{\"marker\":{\"colorbar\":{\"outlinewidth\":0,\"ticks\":\"\"}},\"type\":\"scattercarpet\"}],\"scattergeo\":[{\"marker\":{\"colorbar\":{\"outlinewidth\":0,\"ticks\":\"\"}},\"type\":\"scattergeo\"}],\"scattergl\":[{\"marker\":{\"colorbar\":{\"outlinewidth\":0,\"ticks\":\"\"}},\"type\":\"scattergl\"}],\"scattermapbox\":[{\"marker\":{\"colorbar\":{\"outlinewidth\":0,\"ticks\":\"\"}},\"type\":\"scattermapbox\"}],\"scatterpolar\":[{\"marker\":{\"colorbar\":{\"outlinewidth\":0,\"ticks\":\"\"}},\"type\":\"scatterpolar\"}],\"scatterpolargl\":[{\"marker\":{\"colorbar\":{\"outlinewidth\":0,\"ticks\":\"\"}},\"type\":\"scatterpolargl\"}],\"scatterternary\":[{\"marker\":{\"colorbar\":{\"outlinewidth\":0,\"ticks\":\"\"}},\"type\":\"scatterternary\"}],\"surface\":[{\"colorbar\":{\"outlinewidth\":0,\"ticks\":\"\"},\"colorscale\":[[0.0,\"#0d0887\"],[0.1111111111111111,\"#46039f\"],[0.2222222222222222,\"#7201a8\"],[0.3333333333333333,\"#9c179e\"],[0.4444444444444444,\"#bd3786\"],[0.5555555555555556,\"#d8576b\"],[0.6666666666666666,\"#ed7953\"],[0.7777777777777778,\"#fb9f3a\"],[0.8888888888888888,\"#fdca26\"],[1.0,\"#f0f921\"]],\"type\":\"surface\"}],\"table\":[{\"cells\":{\"fill\":{\"color\":\"#EBF0F8\"},\"line\":{\"color\":\"white\"}},\"header\":{\"fill\":{\"color\":\"#C8D4E3\"},\"line\":{\"color\":\"white\"}},\"type\":\"table\"}]},\"layout\":{\"annotationdefaults\":{\"arrowcolor\":\"#2a3f5f\",\"arrowhead\":0,\"arrowwidth\":1},\"autotypenumbers\":\"strict\",\"coloraxis\":{\"colorbar\":{\"outlinewidth\":0,\"ticks\":\"\"}},\"colorscale\":{\"diverging\":[[0,\"#8e0152\"],[0.1,\"#c51b7d\"],[0.2,\"#de77ae\"],[0.3,\"#f1b6da\"],[0.4,\"#fde0ef\"],[0.5,\"#f7f7f7\"],[0.6,\"#e6f5d0\"],[0.7,\"#b8e186\"],[0.8,\"#7fbc41\"],[0.9,\"#4d9221\"],[1,\"#276419\"]],\"sequential\":[[0.0,\"#0d0887\"],[0.1111111111111111,\"#46039f\"],[0.2222222222222222,\"#7201a8\"],[0.3333333333333333,\"#9c179e\"],[0.4444444444444444,\"#bd3786\"],[0.5555555555555556,\"#d8576b\"],[0.6666666666666666,\"#ed7953\"],[0.7777777777777778,\"#fb9f3a\"],[0.8888888888888888,\"#fdca26\"],[1.0,\"#f0f921\"]],\"sequentialminus\":[[0.0,\"#0d0887\"],[0.1111111111111111,\"#46039f\"],[0.2222222222222222,\"#7201a8\"],[0.3333333333333333,\"#9c179e\"],[0.4444444444444444,\"#bd3786\"],[0.5555555555555556,\"#d8576b\"],[0.6666666666666666,\"#ed7953\"],[0.7777777777777778,\"#fb9f3a\"],[0.8888888888888888,\"#fdca26\"],[1.0,\"#f0f921\"]]},\"colorway\":[\"#636efa\",\"#EF553B\",\"#00cc96\",\"#ab63fa\",\"#FFA15A\",\"#19d3f3\",\"#FF6692\",\"#B6E880\",\"#FF97FF\",\"#FECB52\"],\"font\":{\"color\":\"#2a3f5f\"},\"geo\":{\"bgcolor\":\"white\",\"lakecolor\":\"white\",\"landcolor\":\"#E5ECF6\",\"showlakes\":true,\"showland\":true,\"subunitcolor\":\"white\"},\"hoverlabel\":{\"align\":\"left\"},\"hovermode\":\"closest\",\"mapbox\":{\"style\":\"light\"},\"paper_bgcolor\":\"white\",\"plot_bgcolor\":\"#E5ECF6\",\"polar\":{\"angularaxis\":{\"gridcolor\":\"white\",\"linecolor\":\"white\",\"ticks\":\"\"},\"bgcolor\":\"#E5ECF6\",\"radialaxis\":{\"gridcolor\":\"white\",\"linecolor\":\"white\",\"ticks\":\"\"}},\"scene\":{\"xaxis\":{\"backgroundcolor\":\"#E5ECF6\",\"gridcolor\":\"white\",\"gridwidth\":2,\"linecolor\":\"white\",\"showbackground\":true,\"ticks\":\"\",\"zerolinecolor\":\"white\"},\"yaxis\":{\"backgroundcolor\":\"#E5ECF6\",\"gridcolor\":\"white\",\"gridwidth\":2,\"linecolor\":\"white\",\"showbackground\":true,\"ticks\":\"\",\"zerolinecolor\":\"white\"},\"zaxis\":{\"backgroundcolor\":\"#E5ECF6\",\"gridcolor\":\"white\",\"gridwidth\":2,\"linecolor\":\"white\",\"showbackground\":true,\"ticks\":\"\",\"zerolinecolor\":\"white\"}},\"shapedefaults\":{\"line\":{\"color\":\"#2a3f5f\"}},\"ternary\":{\"aaxis\":{\"gridcolor\":\"white\",\"linecolor\":\"white\",\"ticks\":\"\"},\"baxis\":{\"gridcolor\":\"white\",\"linecolor\":\"white\",\"ticks\":\"\"},\"bgcolor\":\"#E5ECF6\",\"caxis\":{\"gridcolor\":\"white\",\"linecolor\":\"white\",\"ticks\":\"\"}},\"title\":{\"x\":0.05},\"xaxis\":{\"automargin\":true,\"gridcolor\":\"white\",\"linecolor\":\"white\",\"ticks\":\"\",\"title\":{\"standoff\":15},\"zerolinecolor\":\"white\",\"zerolinewidth\":2},\"yaxis\":{\"automargin\":true,\"gridcolor\":\"white\",\"linecolor\":\"white\",\"ticks\":\"\",\"title\":{\"standoff\":15},\"zerolinecolor\":\"white\",\"zerolinewidth\":2}}},\"title\":{\"text\":\"QAOA with General Error Mitigation - MaxCut-Landscape\"}},                        {\"responsive\": true}                    ).then(function(){\n",
       "                            \n",
       "var gd = document.getElementById('b355b6a6-25d9-4acd-8e2a-dd7f9377a639');\n",
       "var x = new MutationObserver(function (mutations, observer) {{\n",
       "        var display = window.getComputedStyle(gd).display;\n",
       "        if (!display || display === 'none') {{\n",
       "            console.log([gd, 'removed!']);\n",
       "            Plotly.purge(gd);\n",
       "            observer.disconnect();\n",
       "        }}\n",
       "}});\n",
       "\n",
       "// Listen for the removal of the full notebook cells\n",
       "var notebookContainer = gd.closest('#notebook-container');\n",
       "if (notebookContainer) {{\n",
       "    x.observe(notebookContainer, {childList: true});\n",
       "}}\n",
       "\n",
       "// Listen for the clearing of the current output cell\n",
       "var outputEl = gd.closest('.output');\n",
       "if (outputEl) {{\n",
       "    x.observe(outputEl, {childList: true});\n",
       "}}\n",
       "\n",
       "                        })                };                });            </script>        </div>"
      ]
     },
     "metadata": {},
     "output_type": "display_data"
    }
   ],
   "source": [
    "# Plot landscape in 3D \n",
    "a_gamma = np.arange(0, np.pi, step_size)\n",
    "b_beta = np.arange(0, np.pi, step_size)\n",
    "fig = go.Figure(data=go.Surface(z=landscape, x=a_gamma, y=b_beta))\n",
    "\n",
    "fig.update_traces(contours_z=dict(show=True, usecolormap=True, highlightcolor='limegreen', project_z=True))\n",
    "\n",
    "\n",
    "fig.update_layout(title=\"QAOA with General Error Mitigation - MaxCut-Landscape\", scene=dict(\n",
    "    xaxis_title=\"γ\",\n",
    "    yaxis_title=\"β\",\n",
    "    zaxis_title=\"F(γ,β)\"\n",
    "))"
   ]
  },
  {
   "cell_type": "code",
   "execution_count": 85,
   "id": "7a8d8f7a",
   "metadata": {},
   "outputs": [
    {
     "data": {
      "application/vnd.plotly.v1+json": {
       "config": {
        "plotlyServerURL": "https://plot.ly"
       },
       "data": [
        {
         "colorscale": [
          [
           0,
           "#440154"
          ],
          [
           0.1111111111111111,
           "#482878"
          ],
          [
           0.2222222222222222,
           "#3e4989"
          ],
          [
           0.3333333333333333,
           "#31688e"
          ],
          [
           0.4444444444444444,
           "#26828e"
          ],
          [
           0.5555555555555556,
           "#1f9e89"
          ],
          [
           0.6666666666666666,
           "#35b779"
          ],
          [
           0.7777777777777778,
           "#6ece58"
          ],
          [
           0.8888888888888888,
           "#b5de2b"
          ],
          [
           1,
           "#fde725"
          ]
         ],
         "type": "heatmap",
         "x": [
          0,
          0.1,
          0.2,
          0.30000000000000004,
          0.4,
          0.5,
          0.6000000000000001,
          0.7000000000000001,
          0.8,
          0.9,
          1,
          1.1,
          1.2000000000000002,
          1.3,
          1.4000000000000001,
          1.5,
          1.6,
          1.7000000000000002,
          1.8,
          1.9000000000000001,
          2,
          2.1,
          2.2,
          2.3000000000000003,
          2.4000000000000004,
          2.5,
          2.6,
          2.7,
          2.8000000000000003,
          2.9000000000000004,
          3,
          3.1
         ],
         "y": [
          0,
          0.1,
          0.2,
          0.30000000000000004,
          0.4,
          0.5,
          0.6000000000000001,
          0.7000000000000001,
          0.8,
          0.9,
          1,
          1.1,
          1.2000000000000002,
          1.3,
          1.4000000000000001,
          1.5,
          1.6,
          1.7000000000000002,
          1.8,
          1.9000000000000001,
          2,
          2.1,
          2.2,
          2.3000000000000003,
          2.4000000000000004,
          2.5,
          2.6,
          2.7,
          2.8000000000000003,
          2.9000000000000004,
          3,
          3.1
         ],
         "z": [
          [
           -24.52761570567644,
           -24.178377050929136,
           -23.389941196402123,
           -23.31312658376705,
           -24.375558703759282,
           -23.415547069637388,
           -23.58004248738983,
           -23.216147669226768,
           -24.25425204037095,
           -23.545508191248413,
           -23.115159094307295,
           -23.753059779657985,
           -23.977388663660697,
           -24.440461014826106,
           -23.869103562710187,
           -23.91573206153389,
           -23.514445097452256,
           -23.059806880868503,
           -23.869421829947413,
           -23.296237184838564,
           -22.841137662765423,
           -23.835545207768238,
           -23.534008501574355,
           -23.212418715429536,
           -24.538593232305214,
           -23.62244579983741,
           -24.022813263895138,
           -23.87954368901868,
           -24.07047419372779,
           -23.558826706155457,
           -23.894858377085544,
           -24.401637982409945
          ],
          [
           -23.390849538621374,
           -21.268670608357326,
           -22.992777418107302,
           -24.49886219873412,
           -23.52076151770583,
           -21.116883769090744,
           -22.330855184188177,
           -23.187554234120007,
           -22.37575971392885,
           -20.813096166676072,
           -22.166529291804164,
           -23.48654646311416,
           -23.22085377090647,
           -22.579874723314102,
           -22.611329143706786,
           -24.46397793025148,
           -23.922994864291077,
           -22.26886055420906,
           -22.915276903373737,
           -25.304493087798395,
           -24.427533662089065,
           -22.497589960611187,
           -23.548364625902565,
           -25.145967682528543,
           -24.360954371437565,
           -24.223510356575197,
           -24.597603128044362,
           -24.063182827141876,
           -24.532790260536185,
           -24.396901968292173,
           -23.74468016912251,
           -23.763626029132155
          ],
          [
           -24.201567120610846,
           -19.033210592775777,
           -22.172664161100936,
           -24.319573370772826,
           -21.97370356529804,
           -18.771201962902794,
           -21.161755227393872,
           -22.287757219876976,
           -22.108682059722483,
           -20.141661862501838,
           -20.72067157996242,
           -22.859621649128485,
           -22.24860191300378,
           -20.24183426061274,
           -21.72708359293627,
           -26.357115233912427,
           -25.025343883159312,
           -19.728950998468893,
           -22.80667413678581,
           -28.2947967118855,
           -26.057407886667164,
           -21.578142916944927,
           -23.901697975497687,
           -26.2327381232101,
           -24.335404719164913,
           -24.400094430018992,
           -24.377856022779746,
           -24.784996680030545,
           -24.49609835585636,
           -25.707231549701785,
           -23.0114570850541,
           -23.48223468864398
          ],
          [
           -22.94346391478154,
           -16.292739799560728,
           -21.152114351208393,
           -23.35289036033708,
           -21.303751893430537,
           -16.726935152935255,
           -20.213168089897138,
           -20.672208929564103,
           -21.264469455915293,
           -18.516618743411527,
           -20.272893358212265,
           -21.726768877308835,
           -21.95583001176164,
           -17.833276088101428,
           -21.27653479377997,
           -27.07233564850141,
           -24.574099008447245,
           -17.58309037269002,
           -21.77340164538924,
           -28.758071752085367,
           -26.43118754125271,
           -20.015493678449495,
           -23.248538254540236,
           -27.177931608337175,
           -25.992977037716617,
           -23.197437077407038,
           -24.735812347238234,
           -24.62724565248627,
           -25.32188279179522,
           -26.44578868092482,
           -24.34771824157068,
           -23.57141053266062
          ],
          [
           -23.793568998372322,
           -14.887581394592644,
           -21.064882169289547,
           -22.04295184934906,
           -20.954152653718392,
           -16.3816765283208,
           -20.177178580687055,
           -18.61222712173574,
           -20.36530671781941,
           -17.623950433516256,
           -20.762646400414397,
           -21.706769637232235,
           -20.607339834479472,
           -18.066895902686117,
           -21.272212233990174,
           -27.177384811761144,
           -24.770696802932022,
           -15.103441321718197,
           -22.48211009073918,
           -29.464021619882534,
           -26.29466897572702,
           -20.450137871023475,
           -24.063216839757793,
           -27.597747100315576,
           -27.086227767958594,
           -24.85749228576307,
           -25.23173159857357,
           -24.83773454895176,
           -25.985074543704606,
           -27.487829890817228,
           -26.167389838834556,
           -24.25506391008982
          ],
          [
           -23.90642667237232,
           -15.433595386367312,
           -19.12134825766482,
           -18.972313279015616,
           -21.350141191201054,
           -16.959874290089918,
           -19.717771335378544,
           -17.472926546648246,
           -19.86462516663824,
           -18.27442761004722,
           -20.75581845835405,
           -20.1379750033519,
           -21.192609118937835,
           -17.72921133622099,
           -21.558766608344786,
           -28.127145128011456,
           -24.88499487150067,
           -14.863262357876936,
           -21.62980636925007,
           -30.902148810375355,
           -27.127294222095752,
           -19.88836725304654,
           -24.00139385933153,
           -27.972934517690394,
           -27.865596563171966,
           -25.08237355327125,
           -25.53593837670821,
           -25.242581023640778,
           -26.35741747097311,
           -28.02984797667366,
           -26.552299325658584,
           -24.515828184719368
          ],
          [
           -24.059279853838976,
           -14.55512509399355,
           -20.00375209502814,
           -16.941962981666556,
           -22.526543298989242,
           -19.140085693368302,
           -18.759372052984403,
           -15.496279242452319,
           -19.953999921423506,
           -20.051132720879398,
           -20.645713826024352,
           -18.607346995646257,
           -19.423939092385094,
           -18.228184316819362,
           -22.03909121162453,
           -27.275510235945493,
           -22.657687232006335,
           -15.123020938485682,
           -21.863278964378814,
           -31.101835660471263,
           -26.509694864833158,
           -20.029961223163163,
           -23.76383035381705,
           -27.67744001501361,
           -29.293954569241517,
           -24.955538557293753,
           -25.76363052762596,
           -24.290884375441163,
           -27.88878159044636,
           -27.813775695856652,
           -27.281329737301025,
           -25.05264363918365
          ],
          [
           -23.726968498976955,
           -16.25103328033159,
           -18.38539213416895,
           -14.810182576784973,
           -23.293621104407826,
           -20.552145831089025,
           -18.785506800282892,
           -15.315670469527708,
           -19.79221661493346,
           -21.888519657493124,
           -22.079479920461065,
           -18.576245601642203,
           -18.03542734614001,
           -18.281832099027447,
           -22.379198702862773,
           -26.86070148796166,
           -22.65341924833477,
           -14.45030722295818,
           -21.83111054840141,
           -30.02643056669582,
           -27.588174874330512,
           -19.449663086917905,
           -22.969912360272012,
           -26.945380714842752,
           -30.50984049013765,
           -26.519049681394378,
           -26.273038366464448,
           -25.231813737903448,
           -28.437582164326127,
           -27.933438492374563,
           -28.046290997852214,
           -24.6200416059439
          ],
          [
           -22.757757597750896,
           -18.932690169342305,
           -19.134717111991886,
           -13.426556359506494,
           -23.363471896396543,
           -23.577044797004223,
           -19.445753680038514,
           -14.533638008083829,
           -20.222021112733287,
           -24.27842784452526,
           -23.573111549870745,
           -19.48093668655162,
           -17.986248367941243,
           -20.43066352428122,
           -23.260400432467513,
           -26.587753066282907,
           -22.244129767697988,
           -16.818283717430834,
           -22.364186578141982,
           -28.536349642232775,
           -27.219925124951512,
           -20.24201867703487,
           -22.62690370701948,
           -26.17805206763649,
           -30.77967824626337,
           -25.303008461099168,
           -24.87844039339372,
           -24.685279759575636,
           -27.52165782557318,
           -27.410600266832365,
           -28.255598962542326,
           -24.342787265747916
          ],
          [
           -24.511666628761347,
           -21.48611431915107,
           -19.841625155538697,
           -14.302653865878009,
           -25.095821358526184,
           -26.08026648963826,
           -20.331330399188474,
           -14.371154493235359,
           -21.227473349451575,
           -26.5849730080781,
           -23.873234680616946,
           -20.025879528940035,
           -19.162851490805117,
           -23.163035828806482,
           -24.19900967215647,
           -25.633029651942156,
           -21.584397126957242,
           -18.366769826242876,
           -22.782918223047588,
           -27.11340817255764,
           -26.25267127578901,
           -22.31698841674679,
           -23.135602846244733,
           -23.990796698194075,
           -30.51950344422294,
           -26.051503452104644,
           -25.120115407479805,
           -24.283203716928096,
           -27.37485359789833,
           -27.263786705274164,
           -28.34229653353817,
           -23.604834773918558
          ],
          [
           -23.846415530440467,
           -23.943655148600918,
           -19.702322716671578,
           -13.01254189342703,
           -26.519207358167016,
           -28.63903992331307,
           -22.079351861929904,
           -16.893066007398925,
           -22.995773388506176,
           -29.062675147757652,
           -25.476208365041867,
           -19.805328847072687,
           -18.5171956315879,
           -24.25379117450235,
           -25.101852534196883,
           -25.058926182200953,
           -20.376942717416867,
           -20.40202818572773,
           -23.649479038837843,
           -26.209506307892216,
           -26.53822189901887,
           -23.411292696729152,
           -23.192305492250902,
           -24.738918526564426,
           -29.946966212802145,
           -25.401969068124718,
           -23.697594873793097,
           -24.221166509169965,
           -27.103648601354,
           -25.54644942713601,
           -28.33324620477855,
           -24.344475099935607
          ],
          [
           -23.413856428918123,
           -25.774116763793696,
           -21.477407430446767,
           -14.179940977693974,
           -26.429658217457508,
           -30.04873566615776,
           -23.400831513606697,
           -17.84337733416278,
           -23.856760936473663,
           -29.810964420564,
           -25.999569073555907,
           -21.250626299951115,
           -19.78139594411059,
           -26.726740592775094,
           -26.06308960803548,
           -24.665952111373592,
           -20.93874631124832,
           -20.964451429741807,
           -23.84999291625651,
           -24.03659425982328,
           -25.48631344955683,
           -23.936028825085117,
           -22.681859630490628,
           -22.231462653213786,
           -28.298228602271983,
           -25.801705143658648,
           -24.512392143994678,
           -23.806339607886066,
           -25.70450050781916,
           -25.807624660081988,
           -27.783776895242816,
           -25.083022908975206
          ],
          [
           -23.78545984716054,
           -27.982338053290594,
           -22.307858063038765,
           -16.33653891464728,
           -26.528497010897524,
           -30.63592434342629,
           -24.107155091438646,
           -19.807048084324595,
           -24.717857248630803,
           -29.57806289497401,
           -26.993671793577178,
           -21.257328568168464,
           -21.94990073088477,
           -26.699296359975445,
           -26.018200464039406,
           -23.189265896104487,
           -21.210021749133464,
           -24.456517934785676,
           -24.26297060403472,
           -23.444372683658838,
           -24.008393204471638,
           -25.10065093796942,
           -22.585536325789878,
           -22.735139547608718,
           -26.42153610747833,
           -25.397816494830117,
           -24.02797526389279,
           -23.00657077367627,
           -25.426338280852715,
           -24.69131652912676,
           -26.791849926350626,
           -23.79024373351328
          ],
          [
           -24.393732843912176,
           -27.390928156163742,
           -23.768157844884616,
           -18.127760397268393,
           -25.564504592282102,
           -29.93047801374461,
           -24.229455703642927,
           -21.544479525099373,
           -25.199240563461096,
           -29.140304439606513,
           -26.133514641645164,
           -22.854433864933863,
           -22.20601359518068,
           -26.580545017881324,
           -26.274418668447122,
           -22.512636120998636,
           -22.12930760051475,
           -25.550865147005236,
           -24.265512494891926,
           -21.340340394732426,
           -23.461917673264246,
           -25.018637499066784,
           -22.75352257751244,
           -22.670573635759165,
           -25.25617798503726,
           -24.82089007934987,
           -22.926640614163926,
           -23.670552724269843,
           -25.356788107082643,
           -23.943340807772326,
           -26.34684921392034,
           -24.399403274279052
          ],
          [
           -23.9577486114018,
           -26.684470940866234,
           -23.981260274351403,
           -21.826376931843456,
           -25.47886033594936,
           -27.702609465703375,
           -24.864825293028023,
           -22.469742555241886,
           -24.397472901142248,
           -27.4260300969736,
           -25.100126698331735,
           -23.93634609771056,
           -24.527321274453982,
           -26.844330561378438,
           -24.115622140287236,
           -22.91020678185419,
           -22.484642936213433,
           -25.379897185678054,
           -24.333931337329886,
           -22.198909277320997,
           -23.16655686972756,
           -25.056613233512483,
           -23.352006336197178,
           -22.18257277670142,
           -24.560306109559455,
           -24.248738404131164,
           -24.366638014756973,
           -23.565566205401872,
           -24.694992241613104,
           -23.64462024040705,
           -25.544130657156863,
           -24.83821947609988
          ],
          [
           -23.558545170108438,
           -25.317848743300864,
           -23.489002607262897,
           -23.226851946912692,
           -24.41233212205014,
           -25.430233343276726,
           -24.279394383453067,
           -24.027070894693352,
           -23.853403729128523,
           -25.442541058453585,
           -24.650762305155894,
           -24.20533653930497,
           -23.775403896346884,
           -24.64979983413187,
           -25.19796953134465,
           -23.876380130916264,
           -23.186998878563458,
           -25.225242194333518,
           -23.768054372729843,
           -22.773459700564914,
           -24.029709366179965,
           -24.11288852275086,
           -22.9129866540781,
           -22.634370169373256,
           -23.33429786552686,
           -23.533287357262225,
           -24.19252589148906,
           -23.947946241619935,
           -23.766819879432802,
           -22.838011725763035,
           -24.66361762351252,
           -23.79886145078775
          ],
          [
           -23.663516305932916,
           -22.847408988061602,
           -24.04579550248715,
           -23.886352736717594,
           -23.53430716752887,
           -23.83431515291402,
           -23.219610966810933,
           -23.239285239596654,
           -23.2592202610495,
           -23.466742117197846,
           -23.90177037937029,
           -23.88092411896608,
           -23.323620799263143,
           -22.85715427000363,
           -23.85253419895596,
           -24.95338394027869,
           -23.86220996569106,
           -23.331473144421764,
           -23.839700996819722,
           -24.5177335266225,
           -23.51131553187498,
           -23.23441082560804,
           -24.541825908774342,
           -24.330146355123198,
           -23.451163432238946,
           -24.452574139596557,
           -23.92724539996657,
           -23.522504576307078,
           -23.90574256820681,
           -24.86717712687089,
           -23.43074575715472,
           -24.454456107285083
          ],
          [
           -23.991389226481438,
           -21.569115131510753,
           -23.0033803093248,
           -24.48390887315946,
           -21.883294839071837,
           -19.924589226202052,
           -21.4949080270387,
           -23.445324686382953,
           -23.471971076131595,
           -21.09909316551293,
           -21.72541461782983,
           -23.161922369295024,
           -23.36652966442122,
           -21.49650266084775,
           -22.744956054891023,
           -24.64857268045344,
           -24.705344517689543,
           -21.70481289751844,
           -23.322087789045696,
           -25.89506899104215,
           -24.581171477572045,
           -22.70941884790272,
           -23.792241051841405,
           -25.112983417073107,
           -24.915217919491315,
           -23.92426064090314,
           -25.322180847778736,
           -24.292408970520704,
           -23.617126363472927,
           -24.232405088197567,
           -24.288418217717876,
           -24.02599328026226
          ],
          [
           -24.082653563547165,
           -17.580389471472248,
           -23.18042699348014,
           -23.865333791508693,
           -21.90428638839463,
           -17.53830360166472,
           -21.93048827622869,
           -21.780236451959677,
           -21.830862072285175,
           -18.91812059588762,
           -21.867284867457276,
           -23.030266328380158,
           -22.340606141917597,
           -18.90100733461229,
           -22.084305091367,
           -25.57129688591533,
           -24.798848777277144,
           -19.88924711187851,
           -22.230627913785067,
           -27.68645984326615,
           -25.61962156838563,
           -21.75729514349519,
           -23.72400139270974,
           -26.213190608066736,
           -24.8062747199152,
           -24.84586461193047,
           -24.446962470140186,
           -25.418956862418284,
           -24.825611762286176,
           -25.99276150751594,
           -23.920185057376813,
           -23.589405025714445
          ],
          [
           -23.590900660347547,
           -17.330076272255805,
           -21.459813360911973,
           -23.078961587152325,
           -21.6415512474312,
           -16.744141948248288,
           -20.2554565455905,
           -20.829021734425403,
           -20.200755533632393,
           -18.984270204193024,
           -21.19587303889324,
           -21.837044062930886,
           -22.583889027268825,
           -17.81732532209594,
           -21.009021381910316,
           -26.3740352077512,
           -25.12494730123641,
           -17.257244895860378,
           -20.866386104252783,
           -28.966378339580285,
           -26.18044339091698,
           -20.542645516524303,
           -23.878781000086537,
           -27.255279160962907,
           -26.145345868074756,
           -25.10623097929935,
           -24.610375495062016,
           -25.024202440775703,
           -26.315786268910326,
           -26.10664664114562,
           -24.553929396555688,
           -23.802162729993857
          ],
          [
           -23.991835413066216,
           -13.994114942313303,
           -20.71107576904578,
           -21.494190736672834,
           -20.75772783792713,
           -16.050211594841475,
           -20.281218014414538,
           -18.781627262671908,
           -19.030151440924847,
           -18.43981099553396,
           -20.094905748454412,
           -21.185843317405915,
           -20.48315569847886,
           -17.208256445697874,
           -20.80972757369636,
           -27.233871384667626,
           -24.703753534716814,
           -15.576126515244916,
           -21.947350473194426,
           -30.67116054980524,
           -27.29295389568554,
           -19.362966811858602,
           -24.57549266650584,
           -27.517301068125672,
           -27.213186368639068,
           -25.122439537820068,
           -25.534666467007103,
           -25.79058847181527,
           -26.227047424187873,
           -26.845910708034687,
           -25.41057144968772,
           -24.683751772562708
          ],
          [
           -23.897377468334522,
           -13.743311694186362,
           -18.911050810173855,
           -18.675231437032995,
           -21.167553118205838,
           -17.975941027670476,
           -19.280196393605475,
           -16.163436005972756,
           -19.8178445074601,
           -19.394506347516277,
           -19.63632214216826,
           -20.32859010879235,
           -20.212693891443053,
           -17.231052414917677,
           -21.7037598469876,
           -27.228323752288862,
           -22.97895064105182,
           -14.436348723905047,
           -21.7459647668723,
           -31.277920087760318,
           -27.337039857339885,
           -19.779726063226693,
           -22.77939196291826,
           -28.138096282824044,
           -29.357574327322208,
           -26.22053659163075,
           -26.22996645506045,
           -25.840816112505493,
           -27.400914307494933,
           -28.079197359000077,
           -25.94758872164451,
           -24.294826620190708
          ],
          [
           -23.682874980087032,
           -15.597885894683944,
           -19.613107434360913,
           -16.25768574750475,
           -22.08926165887646,
           -19.55500493570165,
           -18.664284439546574,
           -15.34545679577726,
           -19.071414902676118,
           -20.5641017701054,
           -21.64719773624591,
           -18.7302266819246,
           -19.103112844165576,
           -17.405373845701188,
           -22.03699945595938,
           -27.510619678645487,
           -23.013504130076726,
           -15.019529990476444,
           -21.071826069823945,
           -30.693038583524523,
           -27.24557080670255,
           -19.73634956870639,
           -23.815881301720587,
           -28.459220938681202,
           -29.016478016578475,
           -26.4573832897871,
           -25.099910240914536,
           -25.473457204754418,
           -27.71861037841864,
           -28.467446495740624,
           -26.989695018133467,
           -23.941637828004904
          ],
          [
           -23.844204098079473,
           -16.582435230486627,
           -19.918265322564864,
           -14.433403868278155,
           -23.500968009740667,
           -21.21339236721418,
           -20.328295365810412,
           -15.28229178731476,
           -20.486964438193258,
           -22.95306665383362,
           -23.039669134204264,
           -19.216122072165692,
           -19.554682689878394,
           -19.244923597450416,
           -22.964220819268863,
           -26.80751828488297,
           -21.873119875122658,
           -16.30131296364958,
           -22.316307825653727,
           -30.51608803792378,
           -27.45184056283331,
           -20.39817359411309,
           -21.94236030826184,
           -27.071844155958672,
           -30.164522986761316,
           -25.92172132211961,
           -25.319624919992904,
           -24.964963852593364,
           -28.30044167875037,
           -27.52819469082138,
           -27.254382560926683,
           -25.12868344376789
          ],
          [
           -24.195818963878974,
           -19.8362760923342,
           -18.619777871551207,
           -13.250045145654184,
           -24.455044640120008,
           -24.127096856490397,
           -19.681621257674934,
           -14.612645917737098,
           -20.482977287938397,
           -24.58184826021141,
           -24.141536768955152,
           -19.013756636793058,
           -18.698853427231338,
           -22.03051760935404,
           -24.347320922361853,
           -26.01122702569657,
           -20.92400646780729,
           -17.742710802885316,
           -23.674137522053876,
           -28.803517488476356,
           -26.919335290310773,
           -19.8462884611728,
           -22.36352794542152,
           -26.03258629105844,
           -30.21135561970911,
           -25.132855405617484,
           -26.278055225608075,
           -24.451953323303524,
           -27.889026930349466,
           -28.00960885622868,
           -27.520519577875362,
           -24.718399907542274
          ],
          [
           -24.101796854837477,
           -22.18391890479791,
           -19.967516755308523,
           -12.21816332578743,
           -25.989729135765575,
           -26.91129905125242,
           -21.34151194045638,
           -15.8116457590002,
           -21.440671312540818,
           -26.95875974369613,
           -25.00389066937125,
           -20.356745073025102,
           -17.699581041395913,
           -23.873893383212984,
           -24.45829180454698,
           -25.590805803002233,
           -20.190432713819416,
           -19.142853625971842,
           -22.891210880832606,
           -26.398296751233918,
           -26.913229894298404,
           -22.90536895902197,
           -23.069393532136363,
           -24.580366035397955,
           -30.830796549621752,
           -26.00596983748034,
           -24.70071972136125,
           -23.99034803166895,
           -27.350853661850476,
           -26.629762658733615,
           -28.511383110958178,
           -24.233522077125375
          ],
          [
           -23.79536720760032,
           -25.300070786287574,
           -20.39181860998139,
           -14.228795951888648,
           -26.10575074527891,
           -28.941872101623826,
           -21.788833720709984,
           -16.853393745440044,
           -22.604977533315747,
           -28.47112713675651,
           -25.43239099997461,
           -20.404030742914205,
           -18.580331709327098,
           -25.09803316266388,
           -25.062387678907008,
           -24.352622745203607,
           -20.73760181806702,
           -20.96483664928426,
           -23.220502030622036,
           -24.656468784555535,
           -26.266745637122376,
           -23.351282579978644,
           -23.454760497585127,
           -23.50914283409752,
           -29.806167481984243,
           -25.66961932356389,
           -25.042974712141632,
           -23.57368998736456,
           -26.27294069248815,
           -26.22795723385471,
           -28.129794880006045,
           -23.987325272247155
          ],
          [
           -24.17338023669607,
           -26.602845613672276,
           -21.411074648787267,
           -14.669606736527468,
           -26.78902031188683,
           -30.389371472036885,
           -23.39732819852123,
           -18.27488155959707,
           -24.231498800900734,
           -29.762798501421365,
           -26.021335461557968,
           -21.425161277409305,
           -19.900501448056094,
           -26.344926454654342,
           -26.162747801104523,
           -23.854998822714002,
           -19.88064466727409,
           -23.845020535107917,
           -24.508294348028716,
           -23.239862670290957,
           -24.93187081188759,
           -24.670092848471185,
           -22.879001923490947,
           -23.293741395819396,
           -28.44856776962225,
           -25.580720503565857,
           -23.45810819263819,
           -22.78192711219796,
           -26.05423884231468,
           -25.445961501626986,
           -26.685861395880053,
           -24.572610172024973
          ],
          [
           -23.81154645027605,
           -27.842407181299247,
           -23.28676798076156,
           -17.098168611308743,
           -26.696028442114443,
           -30.85401435265797,
           -24.136651090712107,
           -20.490684309392627,
           -24.45394891718128,
           -28.97323461828281,
           -26.368266759636295,
           -23.040732638448297,
           -20.91374215458816,
           -26.747363491709788,
           -25.955742888954973,
           -22.205650725967725,
           -20.522345429778756,
           -24.417742084314476,
           -24.038335766361246,
           -22.643044855405094,
           -23.740013096359338,
           -24.446586764537788,
           -22.91116880397042,
           -22.19537663202171,
           -26.28806352727285,
           -24.143084127709972,
           -23.63384066644378,
           -23.47362795434059,
           -25.680522828725987,
           -24.012368314823984,
           -26.275885242991865,
           -24.64758944655039
          ],
          [
           -23.47949154096952,
           -27.748192375217027,
           -23.14888822899553,
           -18.368833880412954,
           -26.230043971597418,
           -29.604352018324324,
           -24.26943163311749,
           -22.663118435531402,
           -24.62539122912111,
           -29.06383634877023,
           -26.02284606841564,
           -22.94966579380236,
           -22.385522892827414,
           -26.89459526972921,
           -26.26032962440665,
           -22.116357625539806,
           -22.655259312205313,
           -25.63133138859557,
           -24.359949787523604,
           -22.264701534317556,
           -23.68178435645778,
           -25.204253826794353,
           -23.424665895378116,
           -22.929057883537947,
           -24.938106259087352,
           -24.944706508046774,
           -24.579954727670064,
           -23.28816177654727,
           -24.702727575298564,
           -24.599671080775952,
           -25.396960754543425,
           -23.62123558383904
          ],
          [
           -23.816952765259202,
           -27.512941302313354,
           -23.45616283862154,
           -22.40581398861447,
           -25.136432960241958,
           -27.545298546272875,
           -24.467508585207252,
           -23.075807806182212,
           -24.472568942404187,
           -26.94369683223461,
           -24.95478353929183,
           -24.336817830052492,
           -22.93295373471682,
           -26.52767911966077,
           -25.451111580948027,
           -21.997530926878678,
           -23.572790518991116,
           -25.004257171806508,
           -24.89782344089034,
           -21.976781629181588,
           -23.139982808843904,
           -24.143310434193687,
           -23.05948966067014,
           -22.450869282939507,
           -24.11695887473025,
           -24.201254398026656,
           -23.202314425795663,
           -24.42013194303028,
           -23.55459753653429,
           -23.721338013920665,
           -24.059864320561875,
           -23.59290005583331
          ],
          [
           -23.49281959502715,
           -24.832912614853175,
           -23.0842777553375,
           -23.946128086617048,
           -24.301617353621662,
           -25.237733898189315,
           -23.389392341760082,
           -23.47606038044811,
           -24.4583908403795,
           -24.14670754716066,
           -24.322490628068355,
           -24.235978102867303,
           -24.174733970437785,
           -24.286247482942006,
           -24.609818417839207,
           -23.53102557660332,
           -23.884193865653536,
           -24.171992958493234,
           -23.923911558410115,
           -22.481344621709827,
           -23.48156340651193,
           -23.727447395920763,
           -23.349230812565366,
           -22.933318593248856,
           -23.765640758687997,
           -23.608427959323894,
           -23.468278732035767,
           -23.621909264400884,
           -24.05308139847128,
           -23.662865330092725,
           -23.18011368887468,
           -23.36481745073573
          ]
         ]
        },
        {
         "hovertemplate": "x: %{x}<br>y: %{y}<br> z: %{text:.2f}<extra></extra>",
         "marker": {
          "color": "red",
          "line": {
           "width": 1
          },
          "size": 16,
          "symbol": [
           204
          ]
         },
         "mode": "markers",
         "text": [
          "-31.277920087760318"
         ],
         "type": "scatter",
         "x": [
          1.9000000000000001
         ],
         "y": [
          2.1
         ]
        }
       ],
       "layout": {
        "height": 700,
        "template": {
         "data": {
          "bar": [
           {
            "error_x": {
             "color": "#2a3f5f"
            },
            "error_y": {
             "color": "#2a3f5f"
            },
            "marker": {
             "line": {
              "color": "#E5ECF6",
              "width": 0.5
             },
             "pattern": {
              "fillmode": "overlay",
              "size": 10,
              "solidity": 0.2
             }
            },
            "type": "bar"
           }
          ],
          "barpolar": [
           {
            "marker": {
             "line": {
              "color": "#E5ECF6",
              "width": 0.5
             },
             "pattern": {
              "fillmode": "overlay",
              "size": 10,
              "solidity": 0.2
             }
            },
            "type": "barpolar"
           }
          ],
          "carpet": [
           {
            "aaxis": {
             "endlinecolor": "#2a3f5f",
             "gridcolor": "white",
             "linecolor": "white",
             "minorgridcolor": "white",
             "startlinecolor": "#2a3f5f"
            },
            "baxis": {
             "endlinecolor": "#2a3f5f",
             "gridcolor": "white",
             "linecolor": "white",
             "minorgridcolor": "white",
             "startlinecolor": "#2a3f5f"
            },
            "type": "carpet"
           }
          ],
          "choropleth": [
           {
            "colorbar": {
             "outlinewidth": 0,
             "ticks": ""
            },
            "type": "choropleth"
           }
          ],
          "contour": [
           {
            "colorbar": {
             "outlinewidth": 0,
             "ticks": ""
            },
            "colorscale": [
             [
              0,
              "#0d0887"
             ],
             [
              0.1111111111111111,
              "#46039f"
             ],
             [
              0.2222222222222222,
              "#7201a8"
             ],
             [
              0.3333333333333333,
              "#9c179e"
             ],
             [
              0.4444444444444444,
              "#bd3786"
             ],
             [
              0.5555555555555556,
              "#d8576b"
             ],
             [
              0.6666666666666666,
              "#ed7953"
             ],
             [
              0.7777777777777778,
              "#fb9f3a"
             ],
             [
              0.8888888888888888,
              "#fdca26"
             ],
             [
              1,
              "#f0f921"
             ]
            ],
            "type": "contour"
           }
          ],
          "contourcarpet": [
           {
            "colorbar": {
             "outlinewidth": 0,
             "ticks": ""
            },
            "type": "contourcarpet"
           }
          ],
          "heatmap": [
           {
            "colorbar": {
             "outlinewidth": 0,
             "ticks": ""
            },
            "colorscale": [
             [
              0,
              "#0d0887"
             ],
             [
              0.1111111111111111,
              "#46039f"
             ],
             [
              0.2222222222222222,
              "#7201a8"
             ],
             [
              0.3333333333333333,
              "#9c179e"
             ],
             [
              0.4444444444444444,
              "#bd3786"
             ],
             [
              0.5555555555555556,
              "#d8576b"
             ],
             [
              0.6666666666666666,
              "#ed7953"
             ],
             [
              0.7777777777777778,
              "#fb9f3a"
             ],
             [
              0.8888888888888888,
              "#fdca26"
             ],
             [
              1,
              "#f0f921"
             ]
            ],
            "type": "heatmap"
           }
          ],
          "heatmapgl": [
           {
            "colorbar": {
             "outlinewidth": 0,
             "ticks": ""
            },
            "colorscale": [
             [
              0,
              "#0d0887"
             ],
             [
              0.1111111111111111,
              "#46039f"
             ],
             [
              0.2222222222222222,
              "#7201a8"
             ],
             [
              0.3333333333333333,
              "#9c179e"
             ],
             [
              0.4444444444444444,
              "#bd3786"
             ],
             [
              0.5555555555555556,
              "#d8576b"
             ],
             [
              0.6666666666666666,
              "#ed7953"
             ],
             [
              0.7777777777777778,
              "#fb9f3a"
             ],
             [
              0.8888888888888888,
              "#fdca26"
             ],
             [
              1,
              "#f0f921"
             ]
            ],
            "type": "heatmapgl"
           }
          ],
          "histogram": [
           {
            "marker": {
             "pattern": {
              "fillmode": "overlay",
              "size": 10,
              "solidity": 0.2
             }
            },
            "type": "histogram"
           }
          ],
          "histogram2d": [
           {
            "colorbar": {
             "outlinewidth": 0,
             "ticks": ""
            },
            "colorscale": [
             [
              0,
              "#0d0887"
             ],
             [
              0.1111111111111111,
              "#46039f"
             ],
             [
              0.2222222222222222,
              "#7201a8"
             ],
             [
              0.3333333333333333,
              "#9c179e"
             ],
             [
              0.4444444444444444,
              "#bd3786"
             ],
             [
              0.5555555555555556,
              "#d8576b"
             ],
             [
              0.6666666666666666,
              "#ed7953"
             ],
             [
              0.7777777777777778,
              "#fb9f3a"
             ],
             [
              0.8888888888888888,
              "#fdca26"
             ],
             [
              1,
              "#f0f921"
             ]
            ],
            "type": "histogram2d"
           }
          ],
          "histogram2dcontour": [
           {
            "colorbar": {
             "outlinewidth": 0,
             "ticks": ""
            },
            "colorscale": [
             [
              0,
              "#0d0887"
             ],
             [
              0.1111111111111111,
              "#46039f"
             ],
             [
              0.2222222222222222,
              "#7201a8"
             ],
             [
              0.3333333333333333,
              "#9c179e"
             ],
             [
              0.4444444444444444,
              "#bd3786"
             ],
             [
              0.5555555555555556,
              "#d8576b"
             ],
             [
              0.6666666666666666,
              "#ed7953"
             ],
             [
              0.7777777777777778,
              "#fb9f3a"
             ],
             [
              0.8888888888888888,
              "#fdca26"
             ],
             [
              1,
              "#f0f921"
             ]
            ],
            "type": "histogram2dcontour"
           }
          ],
          "mesh3d": [
           {
            "colorbar": {
             "outlinewidth": 0,
             "ticks": ""
            },
            "type": "mesh3d"
           }
          ],
          "parcoords": [
           {
            "line": {
             "colorbar": {
              "outlinewidth": 0,
              "ticks": ""
             }
            },
            "type": "parcoords"
           }
          ],
          "pie": [
           {
            "automargin": true,
            "type": "pie"
           }
          ],
          "scatter": [
           {
            "marker": {
             "colorbar": {
              "outlinewidth": 0,
              "ticks": ""
             }
            },
            "type": "scatter"
           }
          ],
          "scatter3d": [
           {
            "line": {
             "colorbar": {
              "outlinewidth": 0,
              "ticks": ""
             }
            },
            "marker": {
             "colorbar": {
              "outlinewidth": 0,
              "ticks": ""
             }
            },
            "type": "scatter3d"
           }
          ],
          "scattercarpet": [
           {
            "marker": {
             "colorbar": {
              "outlinewidth": 0,
              "ticks": ""
             }
            },
            "type": "scattercarpet"
           }
          ],
          "scattergeo": [
           {
            "marker": {
             "colorbar": {
              "outlinewidth": 0,
              "ticks": ""
             }
            },
            "type": "scattergeo"
           }
          ],
          "scattergl": [
           {
            "marker": {
             "colorbar": {
              "outlinewidth": 0,
              "ticks": ""
             }
            },
            "type": "scattergl"
           }
          ],
          "scattermapbox": [
           {
            "marker": {
             "colorbar": {
              "outlinewidth": 0,
              "ticks": ""
             }
            },
            "type": "scattermapbox"
           }
          ],
          "scatterpolar": [
           {
            "marker": {
             "colorbar": {
              "outlinewidth": 0,
              "ticks": ""
             }
            },
            "type": "scatterpolar"
           }
          ],
          "scatterpolargl": [
           {
            "marker": {
             "colorbar": {
              "outlinewidth": 0,
              "ticks": ""
             }
            },
            "type": "scatterpolargl"
           }
          ],
          "scatterternary": [
           {
            "marker": {
             "colorbar": {
              "outlinewidth": 0,
              "ticks": ""
             }
            },
            "type": "scatterternary"
           }
          ],
          "surface": [
           {
            "colorbar": {
             "outlinewidth": 0,
             "ticks": ""
            },
            "colorscale": [
             [
              0,
              "#0d0887"
             ],
             [
              0.1111111111111111,
              "#46039f"
             ],
             [
              0.2222222222222222,
              "#7201a8"
             ],
             [
              0.3333333333333333,
              "#9c179e"
             ],
             [
              0.4444444444444444,
              "#bd3786"
             ],
             [
              0.5555555555555556,
              "#d8576b"
             ],
             [
              0.6666666666666666,
              "#ed7953"
             ],
             [
              0.7777777777777778,
              "#fb9f3a"
             ],
             [
              0.8888888888888888,
              "#fdca26"
             ],
             [
              1,
              "#f0f921"
             ]
            ],
            "type": "surface"
           }
          ],
          "table": [
           {
            "cells": {
             "fill": {
              "color": "#EBF0F8"
             },
             "line": {
              "color": "white"
             }
            },
            "header": {
             "fill": {
              "color": "#C8D4E3"
             },
             "line": {
              "color": "white"
             }
            },
            "type": "table"
           }
          ]
         },
         "layout": {
          "annotationdefaults": {
           "arrowcolor": "#2a3f5f",
           "arrowhead": 0,
           "arrowwidth": 1
          },
          "autotypenumbers": "strict",
          "coloraxis": {
           "colorbar": {
            "outlinewidth": 0,
            "ticks": ""
           }
          },
          "colorscale": {
           "diverging": [
            [
             0,
             "#8e0152"
            ],
            [
             0.1,
             "#c51b7d"
            ],
            [
             0.2,
             "#de77ae"
            ],
            [
             0.3,
             "#f1b6da"
            ],
            [
             0.4,
             "#fde0ef"
            ],
            [
             0.5,
             "#f7f7f7"
            ],
            [
             0.6,
             "#e6f5d0"
            ],
            [
             0.7,
             "#b8e186"
            ],
            [
             0.8,
             "#7fbc41"
            ],
            [
             0.9,
             "#4d9221"
            ],
            [
             1,
             "#276419"
            ]
           ],
           "sequential": [
            [
             0,
             "#0d0887"
            ],
            [
             0.1111111111111111,
             "#46039f"
            ],
            [
             0.2222222222222222,
             "#7201a8"
            ],
            [
             0.3333333333333333,
             "#9c179e"
            ],
            [
             0.4444444444444444,
             "#bd3786"
            ],
            [
             0.5555555555555556,
             "#d8576b"
            ],
            [
             0.6666666666666666,
             "#ed7953"
            ],
            [
             0.7777777777777778,
             "#fb9f3a"
            ],
            [
             0.8888888888888888,
             "#fdca26"
            ],
            [
             1,
             "#f0f921"
            ]
           ],
           "sequentialminus": [
            [
             0,
             "#0d0887"
            ],
            [
             0.1111111111111111,
             "#46039f"
            ],
            [
             0.2222222222222222,
             "#7201a8"
            ],
            [
             0.3333333333333333,
             "#9c179e"
            ],
            [
             0.4444444444444444,
             "#bd3786"
            ],
            [
             0.5555555555555556,
             "#d8576b"
            ],
            [
             0.6666666666666666,
             "#ed7953"
            ],
            [
             0.7777777777777778,
             "#fb9f3a"
            ],
            [
             0.8888888888888888,
             "#fdca26"
            ],
            [
             1,
             "#f0f921"
            ]
           ]
          },
          "colorway": [
           "#636efa",
           "#EF553B",
           "#00cc96",
           "#ab63fa",
           "#FFA15A",
           "#19d3f3",
           "#FF6692",
           "#B6E880",
           "#FF97FF",
           "#FECB52"
          ],
          "font": {
           "color": "#2a3f5f"
          },
          "geo": {
           "bgcolor": "white",
           "lakecolor": "white",
           "landcolor": "#E5ECF6",
           "showlakes": true,
           "showland": true,
           "subunitcolor": "white"
          },
          "hoverlabel": {
           "align": "left"
          },
          "hovermode": "closest",
          "mapbox": {
           "style": "light"
          },
          "paper_bgcolor": "white",
          "plot_bgcolor": "#E5ECF6",
          "polar": {
           "angularaxis": {
            "gridcolor": "white",
            "linecolor": "white",
            "ticks": ""
           },
           "bgcolor": "#E5ECF6",
           "radialaxis": {
            "gridcolor": "white",
            "linecolor": "white",
            "ticks": ""
           }
          },
          "scene": {
           "xaxis": {
            "backgroundcolor": "#E5ECF6",
            "gridcolor": "white",
            "gridwidth": 2,
            "linecolor": "white",
            "showbackground": true,
            "ticks": "",
            "zerolinecolor": "white"
           },
           "yaxis": {
            "backgroundcolor": "#E5ECF6",
            "gridcolor": "white",
            "gridwidth": 2,
            "linecolor": "white",
            "showbackground": true,
            "ticks": "",
            "zerolinecolor": "white"
           },
           "zaxis": {
            "backgroundcolor": "#E5ECF6",
            "gridcolor": "white",
            "gridwidth": 2,
            "linecolor": "white",
            "showbackground": true,
            "ticks": "",
            "zerolinecolor": "white"
           }
          },
          "shapedefaults": {
           "line": {
            "color": "#2a3f5f"
           }
          },
          "ternary": {
           "aaxis": {
            "gridcolor": "white",
            "linecolor": "white",
            "ticks": ""
           },
           "baxis": {
            "gridcolor": "white",
            "linecolor": "white",
            "ticks": ""
           },
           "bgcolor": "#E5ECF6",
           "caxis": {
            "gridcolor": "white",
            "linecolor": "white",
            "ticks": ""
           }
          },
          "title": {
           "x": 0.05
          },
          "xaxis": {
           "automargin": true,
           "gridcolor": "white",
           "linecolor": "white",
           "ticks": "",
           "title": {
            "standoff": 15
           },
           "zerolinecolor": "white",
           "zerolinewidth": 2
          },
          "yaxis": {
           "automargin": true,
           "gridcolor": "white",
           "linecolor": "white",
           "ticks": "",
           "title": {
            "standoff": 15
           },
           "zerolinecolor": "white",
           "zerolinewidth": 2
          }
         }
        },
        "title": {
         "text": "F(γ,β)"
        },
        "width": 700,
        "xaxis": {
         "title": {
          "text": "γ"
         }
        },
        "yaxis": {
         "title": {
          "text": "β"
         }
        }
       }
      },
      "text/html": [
       "<div>                            <div id=\"b15a176b-b1fd-4aea-8693-2c082f7b5592\" class=\"plotly-graph-div\" style=\"height:700px; width:700px;\"></div>            <script type=\"text/javascript\">                require([\"plotly\"], function(Plotly) {                    window.PLOTLYENV=window.PLOTLYENV || {};                                    if (document.getElementById(\"b15a176b-b1fd-4aea-8693-2c082f7b5592\")) {                    Plotly.newPlot(                        \"b15a176b-b1fd-4aea-8693-2c082f7b5592\",                        [{\"colorscale\":[[0.0,\"#440154\"],[0.1111111111111111,\"#482878\"],[0.2222222222222222,\"#3e4989\"],[0.3333333333333333,\"#31688e\"],[0.4444444444444444,\"#26828e\"],[0.5555555555555556,\"#1f9e89\"],[0.6666666666666666,\"#35b779\"],[0.7777777777777778,\"#6ece58\"],[0.8888888888888888,\"#b5de2b\"],[1.0,\"#fde725\"]],\"type\":\"heatmap\",\"x\":[0.0,0.1,0.2,0.30000000000000004,0.4,0.5,0.6000000000000001,0.7000000000000001,0.8,0.9,1.0,1.1,1.2000000000000002,1.3,1.4000000000000001,1.5,1.6,1.7000000000000002,1.8,1.9000000000000001,2.0,2.1,2.2,2.3000000000000003,2.4000000000000004,2.5,2.6,2.7,2.8000000000000003,2.9000000000000004,3.0,3.1],\"y\":[0.0,0.1,0.2,0.30000000000000004,0.4,0.5,0.6000000000000001,0.7000000000000001,0.8,0.9,1.0,1.1,1.2000000000000002,1.3,1.4000000000000001,1.5,1.6,1.7000000000000002,1.8,1.9000000000000001,2.0,2.1,2.2,2.3000000000000003,2.4000000000000004,2.5,2.6,2.7,2.8000000000000003,2.9000000000000004,3.0,3.1],\"z\":[[-24.52761570567644,-24.178377050929136,-23.389941196402123,-23.31312658376705,-24.375558703759282,-23.415547069637388,-23.58004248738983,-23.216147669226768,-24.25425204037095,-23.545508191248413,-23.115159094307295,-23.753059779657985,-23.977388663660697,-24.440461014826106,-23.869103562710187,-23.91573206153389,-23.514445097452256,-23.059806880868503,-23.869421829947413,-23.296237184838564,-22.841137662765423,-23.835545207768238,-23.534008501574355,-23.212418715429536,-24.538593232305214,-23.62244579983741,-24.022813263895138,-23.87954368901868,-24.07047419372779,-23.558826706155457,-23.894858377085544,-24.401637982409945],[-23.390849538621374,-21.268670608357326,-22.992777418107302,-24.49886219873412,-23.52076151770583,-21.116883769090744,-22.330855184188177,-23.187554234120007,-22.37575971392885,-20.813096166676072,-22.166529291804164,-23.48654646311416,-23.22085377090647,-22.579874723314102,-22.611329143706786,-24.46397793025148,-23.922994864291077,-22.26886055420906,-22.915276903373737,-25.304493087798395,-24.427533662089065,-22.497589960611187,-23.548364625902565,-25.145967682528543,-24.360954371437565,-24.223510356575197,-24.597603128044362,-24.063182827141876,-24.532790260536185,-24.396901968292173,-23.74468016912251,-23.763626029132155],[-24.201567120610846,-19.033210592775777,-22.172664161100936,-24.319573370772826,-21.97370356529804,-18.771201962902794,-21.161755227393872,-22.287757219876976,-22.108682059722483,-20.141661862501838,-20.72067157996242,-22.859621649128485,-22.24860191300378,-20.24183426061274,-21.72708359293627,-26.357115233912427,-25.025343883159312,-19.728950998468893,-22.80667413678581,-28.2947967118855,-26.057407886667164,-21.578142916944927,-23.901697975497687,-26.2327381232101,-24.335404719164913,-24.400094430018992,-24.377856022779746,-24.784996680030545,-24.49609835585636,-25.707231549701785,-23.0114570850541,-23.48223468864398],[-22.94346391478154,-16.292739799560728,-21.152114351208393,-23.35289036033708,-21.303751893430537,-16.726935152935255,-20.213168089897138,-20.672208929564103,-21.264469455915293,-18.516618743411527,-20.272893358212265,-21.726768877308835,-21.95583001176164,-17.833276088101428,-21.27653479377997,-27.07233564850141,-24.574099008447245,-17.58309037269002,-21.77340164538924,-28.758071752085367,-26.43118754125271,-20.015493678449495,-23.248538254540236,-27.177931608337175,-25.992977037716617,-23.197437077407038,-24.735812347238234,-24.62724565248627,-25.32188279179522,-26.44578868092482,-24.34771824157068,-23.57141053266062],[-23.793568998372322,-14.887581394592644,-21.064882169289547,-22.04295184934906,-20.954152653718392,-16.3816765283208,-20.177178580687055,-18.61222712173574,-20.36530671781941,-17.623950433516256,-20.762646400414397,-21.706769637232235,-20.607339834479472,-18.066895902686117,-21.272212233990174,-27.177384811761144,-24.770696802932022,-15.103441321718197,-22.48211009073918,-29.464021619882534,-26.29466897572702,-20.450137871023475,-24.063216839757793,-27.597747100315576,-27.086227767958594,-24.85749228576307,-25.23173159857357,-24.83773454895176,-25.985074543704606,-27.487829890817228,-26.167389838834556,-24.25506391008982],[-23.90642667237232,-15.433595386367312,-19.12134825766482,-18.972313279015616,-21.350141191201054,-16.959874290089918,-19.717771335378544,-17.472926546648246,-19.86462516663824,-18.27442761004722,-20.75581845835405,-20.1379750033519,-21.192609118937835,-17.72921133622099,-21.558766608344786,-28.127145128011456,-24.88499487150067,-14.863262357876936,-21.62980636925007,-30.902148810375355,-27.127294222095752,-19.88836725304654,-24.00139385933153,-27.972934517690394,-27.865596563171966,-25.08237355327125,-25.53593837670821,-25.242581023640778,-26.35741747097311,-28.02984797667366,-26.552299325658584,-24.515828184719368],[-24.059279853838976,-14.55512509399355,-20.00375209502814,-16.941962981666556,-22.526543298989242,-19.140085693368302,-18.759372052984403,-15.496279242452319,-19.953999921423506,-20.051132720879398,-20.645713826024352,-18.607346995646257,-19.423939092385094,-18.228184316819362,-22.03909121162453,-27.275510235945493,-22.657687232006335,-15.123020938485682,-21.863278964378814,-31.101835660471263,-26.509694864833158,-20.029961223163163,-23.76383035381705,-27.67744001501361,-29.293954569241517,-24.955538557293753,-25.76363052762596,-24.290884375441163,-27.88878159044636,-27.813775695856652,-27.281329737301025,-25.05264363918365],[-23.726968498976955,-16.25103328033159,-18.38539213416895,-14.810182576784973,-23.293621104407826,-20.552145831089025,-18.785506800282892,-15.315670469527708,-19.79221661493346,-21.888519657493124,-22.079479920461065,-18.576245601642203,-18.03542734614001,-18.281832099027447,-22.379198702862773,-26.86070148796166,-22.65341924833477,-14.45030722295818,-21.83111054840141,-30.02643056669582,-27.588174874330512,-19.449663086917905,-22.969912360272012,-26.945380714842752,-30.50984049013765,-26.519049681394378,-26.273038366464448,-25.231813737903448,-28.437582164326127,-27.933438492374563,-28.046290997852214,-24.6200416059439],[-22.757757597750896,-18.932690169342305,-19.134717111991886,-13.426556359506494,-23.363471896396543,-23.577044797004223,-19.445753680038514,-14.533638008083829,-20.222021112733287,-24.27842784452526,-23.573111549870745,-19.48093668655162,-17.986248367941243,-20.43066352428122,-23.260400432467513,-26.587753066282907,-22.244129767697988,-16.818283717430834,-22.364186578141982,-28.536349642232775,-27.219925124951512,-20.24201867703487,-22.62690370701948,-26.17805206763649,-30.77967824626337,-25.303008461099168,-24.87844039339372,-24.685279759575636,-27.52165782557318,-27.410600266832365,-28.255598962542326,-24.342787265747916],[-24.511666628761347,-21.48611431915107,-19.841625155538697,-14.302653865878009,-25.095821358526184,-26.08026648963826,-20.331330399188474,-14.371154493235359,-21.227473349451575,-26.5849730080781,-23.873234680616946,-20.025879528940035,-19.162851490805117,-23.163035828806482,-24.19900967215647,-25.633029651942156,-21.584397126957242,-18.366769826242876,-22.782918223047588,-27.11340817255764,-26.25267127578901,-22.31698841674679,-23.135602846244733,-23.990796698194075,-30.51950344422294,-26.051503452104644,-25.120115407479805,-24.283203716928096,-27.37485359789833,-27.263786705274164,-28.34229653353817,-23.604834773918558],[-23.846415530440467,-23.943655148600918,-19.702322716671578,-13.01254189342703,-26.519207358167016,-28.63903992331307,-22.079351861929904,-16.893066007398925,-22.995773388506176,-29.062675147757652,-25.476208365041867,-19.805328847072687,-18.5171956315879,-24.25379117450235,-25.101852534196883,-25.058926182200953,-20.376942717416867,-20.40202818572773,-23.649479038837843,-26.209506307892216,-26.53822189901887,-23.411292696729152,-23.192305492250902,-24.738918526564426,-29.946966212802145,-25.401969068124718,-23.697594873793097,-24.221166509169965,-27.103648601354,-25.54644942713601,-28.33324620477855,-24.344475099935607],[-23.413856428918123,-25.774116763793696,-21.477407430446767,-14.179940977693974,-26.429658217457508,-30.04873566615776,-23.400831513606697,-17.84337733416278,-23.856760936473663,-29.810964420564,-25.999569073555907,-21.250626299951115,-19.78139594411059,-26.726740592775094,-26.06308960803548,-24.665952111373592,-20.93874631124832,-20.964451429741807,-23.84999291625651,-24.03659425982328,-25.48631344955683,-23.936028825085117,-22.681859630490628,-22.231462653213786,-28.298228602271983,-25.801705143658648,-24.512392143994678,-23.806339607886066,-25.70450050781916,-25.807624660081988,-27.783776895242816,-25.083022908975206],[-23.78545984716054,-27.982338053290594,-22.307858063038765,-16.33653891464728,-26.528497010897524,-30.63592434342629,-24.107155091438646,-19.807048084324595,-24.717857248630803,-29.57806289497401,-26.993671793577178,-21.257328568168464,-21.94990073088477,-26.699296359975445,-26.018200464039406,-23.189265896104487,-21.210021749133464,-24.456517934785676,-24.26297060403472,-23.444372683658838,-24.008393204471638,-25.10065093796942,-22.585536325789878,-22.735139547608718,-26.42153610747833,-25.397816494830117,-24.02797526389279,-23.00657077367627,-25.426338280852715,-24.69131652912676,-26.791849926350626,-23.79024373351328],[-24.393732843912176,-27.390928156163742,-23.768157844884616,-18.127760397268393,-25.564504592282102,-29.93047801374461,-24.229455703642927,-21.544479525099373,-25.199240563461096,-29.140304439606513,-26.133514641645164,-22.854433864933863,-22.20601359518068,-26.580545017881324,-26.274418668447122,-22.512636120998636,-22.12930760051475,-25.550865147005236,-24.265512494891926,-21.340340394732426,-23.461917673264246,-25.018637499066784,-22.75352257751244,-22.670573635759165,-25.25617798503726,-24.82089007934987,-22.926640614163926,-23.670552724269843,-25.356788107082643,-23.943340807772326,-26.34684921392034,-24.399403274279052],[-23.9577486114018,-26.684470940866234,-23.981260274351403,-21.826376931843456,-25.47886033594936,-27.702609465703375,-24.864825293028023,-22.469742555241886,-24.397472901142248,-27.4260300969736,-25.100126698331735,-23.93634609771056,-24.527321274453982,-26.844330561378438,-24.115622140287236,-22.91020678185419,-22.484642936213433,-25.379897185678054,-24.333931337329886,-22.198909277320997,-23.16655686972756,-25.056613233512483,-23.352006336197178,-22.18257277670142,-24.560306109559455,-24.248738404131164,-24.366638014756973,-23.565566205401872,-24.694992241613104,-23.64462024040705,-25.544130657156863,-24.83821947609988],[-23.558545170108438,-25.317848743300864,-23.489002607262897,-23.226851946912692,-24.41233212205014,-25.430233343276726,-24.279394383453067,-24.027070894693352,-23.853403729128523,-25.442541058453585,-24.650762305155894,-24.20533653930497,-23.775403896346884,-24.64979983413187,-25.19796953134465,-23.876380130916264,-23.186998878563458,-25.225242194333518,-23.768054372729843,-22.773459700564914,-24.029709366179965,-24.11288852275086,-22.9129866540781,-22.634370169373256,-23.33429786552686,-23.533287357262225,-24.19252589148906,-23.947946241619935,-23.766819879432802,-22.838011725763035,-24.66361762351252,-23.79886145078775],[-23.663516305932916,-22.847408988061602,-24.04579550248715,-23.886352736717594,-23.53430716752887,-23.83431515291402,-23.219610966810933,-23.239285239596654,-23.2592202610495,-23.466742117197846,-23.90177037937029,-23.88092411896608,-23.323620799263143,-22.85715427000363,-23.85253419895596,-24.95338394027869,-23.86220996569106,-23.331473144421764,-23.839700996819722,-24.5177335266225,-23.51131553187498,-23.23441082560804,-24.541825908774342,-24.330146355123198,-23.451163432238946,-24.452574139596557,-23.92724539996657,-23.522504576307078,-23.90574256820681,-24.86717712687089,-23.43074575715472,-24.454456107285083],[-23.991389226481438,-21.569115131510753,-23.0033803093248,-24.48390887315946,-21.883294839071837,-19.924589226202052,-21.4949080270387,-23.445324686382953,-23.471971076131595,-21.09909316551293,-21.72541461782983,-23.161922369295024,-23.36652966442122,-21.49650266084775,-22.744956054891023,-24.64857268045344,-24.705344517689543,-21.70481289751844,-23.322087789045696,-25.89506899104215,-24.581171477572045,-22.70941884790272,-23.792241051841405,-25.112983417073107,-24.915217919491315,-23.92426064090314,-25.322180847778736,-24.292408970520704,-23.617126363472927,-24.232405088197567,-24.288418217717876,-24.02599328026226],[-24.082653563547165,-17.580389471472248,-23.18042699348014,-23.865333791508693,-21.90428638839463,-17.53830360166472,-21.93048827622869,-21.780236451959677,-21.830862072285175,-18.91812059588762,-21.867284867457276,-23.030266328380158,-22.340606141917597,-18.90100733461229,-22.084305091367,-25.57129688591533,-24.798848777277144,-19.88924711187851,-22.230627913785067,-27.68645984326615,-25.61962156838563,-21.75729514349519,-23.72400139270974,-26.213190608066736,-24.8062747199152,-24.84586461193047,-24.446962470140186,-25.418956862418284,-24.825611762286176,-25.99276150751594,-23.920185057376813,-23.589405025714445],[-23.590900660347547,-17.330076272255805,-21.459813360911973,-23.078961587152325,-21.6415512474312,-16.744141948248288,-20.2554565455905,-20.829021734425403,-20.200755533632393,-18.984270204193024,-21.19587303889324,-21.837044062930886,-22.583889027268825,-17.81732532209594,-21.009021381910316,-26.3740352077512,-25.12494730123641,-17.257244895860378,-20.866386104252783,-28.966378339580285,-26.18044339091698,-20.542645516524303,-23.878781000086537,-27.255279160962907,-26.145345868074756,-25.10623097929935,-24.610375495062016,-25.024202440775703,-26.315786268910326,-26.10664664114562,-24.553929396555688,-23.802162729993857],[-23.991835413066216,-13.994114942313303,-20.71107576904578,-21.494190736672834,-20.75772783792713,-16.050211594841475,-20.281218014414538,-18.781627262671908,-19.030151440924847,-18.43981099553396,-20.094905748454412,-21.185843317405915,-20.48315569847886,-17.208256445697874,-20.80972757369636,-27.233871384667626,-24.703753534716814,-15.576126515244916,-21.947350473194426,-30.67116054980524,-27.29295389568554,-19.362966811858602,-24.57549266650584,-27.517301068125672,-27.213186368639068,-25.122439537820068,-25.534666467007103,-25.79058847181527,-26.227047424187873,-26.845910708034687,-25.41057144968772,-24.683751772562708],[-23.897377468334522,-13.743311694186362,-18.911050810173855,-18.675231437032995,-21.167553118205838,-17.975941027670476,-19.280196393605475,-16.163436005972756,-19.8178445074601,-19.394506347516277,-19.63632214216826,-20.32859010879235,-20.212693891443053,-17.231052414917677,-21.7037598469876,-27.228323752288862,-22.97895064105182,-14.436348723905047,-21.7459647668723,-31.277920087760318,-27.337039857339885,-19.779726063226693,-22.77939196291826,-28.138096282824044,-29.357574327322208,-26.22053659163075,-26.22996645506045,-25.840816112505493,-27.400914307494933,-28.079197359000077,-25.94758872164451,-24.294826620190708],[-23.682874980087032,-15.597885894683944,-19.613107434360913,-16.25768574750475,-22.08926165887646,-19.55500493570165,-18.664284439546574,-15.34545679577726,-19.071414902676118,-20.5641017701054,-21.64719773624591,-18.7302266819246,-19.103112844165576,-17.405373845701188,-22.03699945595938,-27.510619678645487,-23.013504130076726,-15.019529990476444,-21.071826069823945,-30.693038583524523,-27.24557080670255,-19.73634956870639,-23.815881301720587,-28.459220938681202,-29.016478016578475,-26.4573832897871,-25.099910240914536,-25.473457204754418,-27.71861037841864,-28.467446495740624,-26.989695018133467,-23.941637828004904],[-23.844204098079473,-16.582435230486627,-19.918265322564864,-14.433403868278155,-23.500968009740667,-21.21339236721418,-20.328295365810412,-15.28229178731476,-20.486964438193258,-22.95306665383362,-23.039669134204264,-19.216122072165692,-19.554682689878394,-19.244923597450416,-22.964220819268863,-26.80751828488297,-21.873119875122658,-16.30131296364958,-22.316307825653727,-30.51608803792378,-27.45184056283331,-20.39817359411309,-21.94236030826184,-27.071844155958672,-30.164522986761316,-25.92172132211961,-25.319624919992904,-24.964963852593364,-28.30044167875037,-27.52819469082138,-27.254382560926683,-25.12868344376789],[-24.195818963878974,-19.8362760923342,-18.619777871551207,-13.250045145654184,-24.455044640120008,-24.127096856490397,-19.681621257674934,-14.612645917737098,-20.482977287938397,-24.58184826021141,-24.141536768955152,-19.013756636793058,-18.698853427231338,-22.03051760935404,-24.347320922361853,-26.01122702569657,-20.92400646780729,-17.742710802885316,-23.674137522053876,-28.803517488476356,-26.919335290310773,-19.8462884611728,-22.36352794542152,-26.03258629105844,-30.21135561970911,-25.132855405617484,-26.278055225608075,-24.451953323303524,-27.889026930349466,-28.00960885622868,-27.520519577875362,-24.718399907542274],[-24.101796854837477,-22.18391890479791,-19.967516755308523,-12.21816332578743,-25.989729135765575,-26.91129905125242,-21.34151194045638,-15.8116457590002,-21.440671312540818,-26.95875974369613,-25.00389066937125,-20.356745073025102,-17.699581041395913,-23.873893383212984,-24.45829180454698,-25.590805803002233,-20.190432713819416,-19.142853625971842,-22.891210880832606,-26.398296751233918,-26.913229894298404,-22.90536895902197,-23.069393532136363,-24.580366035397955,-30.830796549621752,-26.00596983748034,-24.70071972136125,-23.99034803166895,-27.350853661850476,-26.629762658733615,-28.511383110958178,-24.233522077125375],[-23.79536720760032,-25.300070786287574,-20.39181860998139,-14.228795951888648,-26.10575074527891,-28.941872101623826,-21.788833720709984,-16.853393745440044,-22.604977533315747,-28.47112713675651,-25.43239099997461,-20.404030742914205,-18.580331709327098,-25.09803316266388,-25.062387678907008,-24.352622745203607,-20.73760181806702,-20.96483664928426,-23.220502030622036,-24.656468784555535,-26.266745637122376,-23.351282579978644,-23.454760497585127,-23.50914283409752,-29.806167481984243,-25.66961932356389,-25.042974712141632,-23.57368998736456,-26.27294069248815,-26.22795723385471,-28.129794880006045,-23.987325272247155],[-24.17338023669607,-26.602845613672276,-21.411074648787267,-14.669606736527468,-26.78902031188683,-30.389371472036885,-23.39732819852123,-18.27488155959707,-24.231498800900734,-29.762798501421365,-26.021335461557968,-21.425161277409305,-19.900501448056094,-26.344926454654342,-26.162747801104523,-23.854998822714002,-19.88064466727409,-23.845020535107917,-24.508294348028716,-23.239862670290957,-24.93187081188759,-24.670092848471185,-22.879001923490947,-23.293741395819396,-28.44856776962225,-25.580720503565857,-23.45810819263819,-22.78192711219796,-26.05423884231468,-25.445961501626986,-26.685861395880053,-24.572610172024973],[-23.81154645027605,-27.842407181299247,-23.28676798076156,-17.098168611308743,-26.696028442114443,-30.85401435265797,-24.136651090712107,-20.490684309392627,-24.45394891718128,-28.97323461828281,-26.368266759636295,-23.040732638448297,-20.91374215458816,-26.747363491709788,-25.955742888954973,-22.205650725967725,-20.522345429778756,-24.417742084314476,-24.038335766361246,-22.643044855405094,-23.740013096359338,-24.446586764537788,-22.91116880397042,-22.19537663202171,-26.28806352727285,-24.143084127709972,-23.63384066644378,-23.47362795434059,-25.680522828725987,-24.012368314823984,-26.275885242991865,-24.64758944655039],[-23.47949154096952,-27.748192375217027,-23.14888822899553,-18.368833880412954,-26.230043971597418,-29.604352018324324,-24.26943163311749,-22.663118435531402,-24.62539122912111,-29.06383634877023,-26.02284606841564,-22.94966579380236,-22.385522892827414,-26.89459526972921,-26.26032962440665,-22.116357625539806,-22.655259312205313,-25.63133138859557,-24.359949787523604,-22.264701534317556,-23.68178435645778,-25.204253826794353,-23.424665895378116,-22.929057883537947,-24.938106259087352,-24.944706508046774,-24.579954727670064,-23.28816177654727,-24.702727575298564,-24.599671080775952,-25.396960754543425,-23.62123558383904],[-23.816952765259202,-27.512941302313354,-23.45616283862154,-22.40581398861447,-25.136432960241958,-27.545298546272875,-24.467508585207252,-23.075807806182212,-24.472568942404187,-26.94369683223461,-24.95478353929183,-24.336817830052492,-22.93295373471682,-26.52767911966077,-25.451111580948027,-21.997530926878678,-23.572790518991116,-25.004257171806508,-24.89782344089034,-21.976781629181588,-23.139982808843904,-24.143310434193687,-23.05948966067014,-22.450869282939507,-24.11695887473025,-24.201254398026656,-23.202314425795663,-24.42013194303028,-23.55459753653429,-23.721338013920665,-24.059864320561875,-23.59290005583331],[-23.49281959502715,-24.832912614853175,-23.0842777553375,-23.946128086617048,-24.301617353621662,-25.237733898189315,-23.389392341760082,-23.47606038044811,-24.4583908403795,-24.14670754716066,-24.322490628068355,-24.235978102867303,-24.174733970437785,-24.286247482942006,-24.609818417839207,-23.53102557660332,-23.884193865653536,-24.171992958493234,-23.923911558410115,-22.481344621709827,-23.48156340651193,-23.727447395920763,-23.349230812565366,-22.933318593248856,-23.765640758687997,-23.608427959323894,-23.468278732035767,-23.621909264400884,-24.05308139847128,-23.662865330092725,-23.18011368887468,-23.36481745073573]]},{\"hovertemplate\":\"x: %{x}<br>y: %{y}<br> z: %{text:.2f}<extra></extra>\",\"marker\":{\"color\":\"red\",\"line\":{\"width\":1},\"size\":16,\"symbol\":[204]},\"mode\":\"markers\",\"text\":[\"-31.277920087760318\"],\"type\":\"scatter\",\"x\":[1.9000000000000001],\"y\":[2.1]}],                        {\"height\":700,\"template\":{\"data\":{\"bar\":[{\"error_x\":{\"color\":\"#2a3f5f\"},\"error_y\":{\"color\":\"#2a3f5f\"},\"marker\":{\"line\":{\"color\":\"#E5ECF6\",\"width\":0.5},\"pattern\":{\"fillmode\":\"overlay\",\"size\":10,\"solidity\":0.2}},\"type\":\"bar\"}],\"barpolar\":[{\"marker\":{\"line\":{\"color\":\"#E5ECF6\",\"width\":0.5},\"pattern\":{\"fillmode\":\"overlay\",\"size\":10,\"solidity\":0.2}},\"type\":\"barpolar\"}],\"carpet\":[{\"aaxis\":{\"endlinecolor\":\"#2a3f5f\",\"gridcolor\":\"white\",\"linecolor\":\"white\",\"minorgridcolor\":\"white\",\"startlinecolor\":\"#2a3f5f\"},\"baxis\":{\"endlinecolor\":\"#2a3f5f\",\"gridcolor\":\"white\",\"linecolor\":\"white\",\"minorgridcolor\":\"white\",\"startlinecolor\":\"#2a3f5f\"},\"type\":\"carpet\"}],\"choropleth\":[{\"colorbar\":{\"outlinewidth\":0,\"ticks\":\"\"},\"type\":\"choropleth\"}],\"contour\":[{\"colorbar\":{\"outlinewidth\":0,\"ticks\":\"\"},\"colorscale\":[[0.0,\"#0d0887\"],[0.1111111111111111,\"#46039f\"],[0.2222222222222222,\"#7201a8\"],[0.3333333333333333,\"#9c179e\"],[0.4444444444444444,\"#bd3786\"],[0.5555555555555556,\"#d8576b\"],[0.6666666666666666,\"#ed7953\"],[0.7777777777777778,\"#fb9f3a\"],[0.8888888888888888,\"#fdca26\"],[1.0,\"#f0f921\"]],\"type\":\"contour\"}],\"contourcarpet\":[{\"colorbar\":{\"outlinewidth\":0,\"ticks\":\"\"},\"type\":\"contourcarpet\"}],\"heatmap\":[{\"colorbar\":{\"outlinewidth\":0,\"ticks\":\"\"},\"colorscale\":[[0.0,\"#0d0887\"],[0.1111111111111111,\"#46039f\"],[0.2222222222222222,\"#7201a8\"],[0.3333333333333333,\"#9c179e\"],[0.4444444444444444,\"#bd3786\"],[0.5555555555555556,\"#d8576b\"],[0.6666666666666666,\"#ed7953\"],[0.7777777777777778,\"#fb9f3a\"],[0.8888888888888888,\"#fdca26\"],[1.0,\"#f0f921\"]],\"type\":\"heatmap\"}],\"heatmapgl\":[{\"colorbar\":{\"outlinewidth\":0,\"ticks\":\"\"},\"colorscale\":[[0.0,\"#0d0887\"],[0.1111111111111111,\"#46039f\"],[0.2222222222222222,\"#7201a8\"],[0.3333333333333333,\"#9c179e\"],[0.4444444444444444,\"#bd3786\"],[0.5555555555555556,\"#d8576b\"],[0.6666666666666666,\"#ed7953\"],[0.7777777777777778,\"#fb9f3a\"],[0.8888888888888888,\"#fdca26\"],[1.0,\"#f0f921\"]],\"type\":\"heatmapgl\"}],\"histogram\":[{\"marker\":{\"pattern\":{\"fillmode\":\"overlay\",\"size\":10,\"solidity\":0.2}},\"type\":\"histogram\"}],\"histogram2d\":[{\"colorbar\":{\"outlinewidth\":0,\"ticks\":\"\"},\"colorscale\":[[0.0,\"#0d0887\"],[0.1111111111111111,\"#46039f\"],[0.2222222222222222,\"#7201a8\"],[0.3333333333333333,\"#9c179e\"],[0.4444444444444444,\"#bd3786\"],[0.5555555555555556,\"#d8576b\"],[0.6666666666666666,\"#ed7953\"],[0.7777777777777778,\"#fb9f3a\"],[0.8888888888888888,\"#fdca26\"],[1.0,\"#f0f921\"]],\"type\":\"histogram2d\"}],\"histogram2dcontour\":[{\"colorbar\":{\"outlinewidth\":0,\"ticks\":\"\"},\"colorscale\":[[0.0,\"#0d0887\"],[0.1111111111111111,\"#46039f\"],[0.2222222222222222,\"#7201a8\"],[0.3333333333333333,\"#9c179e\"],[0.4444444444444444,\"#bd3786\"],[0.5555555555555556,\"#d8576b\"],[0.6666666666666666,\"#ed7953\"],[0.7777777777777778,\"#fb9f3a\"],[0.8888888888888888,\"#fdca26\"],[1.0,\"#f0f921\"]],\"type\":\"histogram2dcontour\"}],\"mesh3d\":[{\"colorbar\":{\"outlinewidth\":0,\"ticks\":\"\"},\"type\":\"mesh3d\"}],\"parcoords\":[{\"line\":{\"colorbar\":{\"outlinewidth\":0,\"ticks\":\"\"}},\"type\":\"parcoords\"}],\"pie\":[{\"automargin\":true,\"type\":\"pie\"}],\"scatter\":[{\"marker\":{\"colorbar\":{\"outlinewidth\":0,\"ticks\":\"\"}},\"type\":\"scatter\"}],\"scatter3d\":[{\"line\":{\"colorbar\":{\"outlinewidth\":0,\"ticks\":\"\"}},\"marker\":{\"colorbar\":{\"outlinewidth\":0,\"ticks\":\"\"}},\"type\":\"scatter3d\"}],\"scattercarpet\":[{\"marker\":{\"colorbar\":{\"outlinewidth\":0,\"ticks\":\"\"}},\"type\":\"scattercarpet\"}],\"scattergeo\":[{\"marker\":{\"colorbar\":{\"outlinewidth\":0,\"ticks\":\"\"}},\"type\":\"scattergeo\"}],\"scattergl\":[{\"marker\":{\"colorbar\":{\"outlinewidth\":0,\"ticks\":\"\"}},\"type\":\"scattergl\"}],\"scattermapbox\":[{\"marker\":{\"colorbar\":{\"outlinewidth\":0,\"ticks\":\"\"}},\"type\":\"scattermapbox\"}],\"scatterpolar\":[{\"marker\":{\"colorbar\":{\"outlinewidth\":0,\"ticks\":\"\"}},\"type\":\"scatterpolar\"}],\"scatterpolargl\":[{\"marker\":{\"colorbar\":{\"outlinewidth\":0,\"ticks\":\"\"}},\"type\":\"scatterpolargl\"}],\"scatterternary\":[{\"marker\":{\"colorbar\":{\"outlinewidth\":0,\"ticks\":\"\"}},\"type\":\"scatterternary\"}],\"surface\":[{\"colorbar\":{\"outlinewidth\":0,\"ticks\":\"\"},\"colorscale\":[[0.0,\"#0d0887\"],[0.1111111111111111,\"#46039f\"],[0.2222222222222222,\"#7201a8\"],[0.3333333333333333,\"#9c179e\"],[0.4444444444444444,\"#bd3786\"],[0.5555555555555556,\"#d8576b\"],[0.6666666666666666,\"#ed7953\"],[0.7777777777777778,\"#fb9f3a\"],[0.8888888888888888,\"#fdca26\"],[1.0,\"#f0f921\"]],\"type\":\"surface\"}],\"table\":[{\"cells\":{\"fill\":{\"color\":\"#EBF0F8\"},\"line\":{\"color\":\"white\"}},\"header\":{\"fill\":{\"color\":\"#C8D4E3\"},\"line\":{\"color\":\"white\"}},\"type\":\"table\"}]},\"layout\":{\"annotationdefaults\":{\"arrowcolor\":\"#2a3f5f\",\"arrowhead\":0,\"arrowwidth\":1},\"autotypenumbers\":\"strict\",\"coloraxis\":{\"colorbar\":{\"outlinewidth\":0,\"ticks\":\"\"}},\"colorscale\":{\"diverging\":[[0,\"#8e0152\"],[0.1,\"#c51b7d\"],[0.2,\"#de77ae\"],[0.3,\"#f1b6da\"],[0.4,\"#fde0ef\"],[0.5,\"#f7f7f7\"],[0.6,\"#e6f5d0\"],[0.7,\"#b8e186\"],[0.8,\"#7fbc41\"],[0.9,\"#4d9221\"],[1,\"#276419\"]],\"sequential\":[[0.0,\"#0d0887\"],[0.1111111111111111,\"#46039f\"],[0.2222222222222222,\"#7201a8\"],[0.3333333333333333,\"#9c179e\"],[0.4444444444444444,\"#bd3786\"],[0.5555555555555556,\"#d8576b\"],[0.6666666666666666,\"#ed7953\"],[0.7777777777777778,\"#fb9f3a\"],[0.8888888888888888,\"#fdca26\"],[1.0,\"#f0f921\"]],\"sequentialminus\":[[0.0,\"#0d0887\"],[0.1111111111111111,\"#46039f\"],[0.2222222222222222,\"#7201a8\"],[0.3333333333333333,\"#9c179e\"],[0.4444444444444444,\"#bd3786\"],[0.5555555555555556,\"#d8576b\"],[0.6666666666666666,\"#ed7953\"],[0.7777777777777778,\"#fb9f3a\"],[0.8888888888888888,\"#fdca26\"],[1.0,\"#f0f921\"]]},\"colorway\":[\"#636efa\",\"#EF553B\",\"#00cc96\",\"#ab63fa\",\"#FFA15A\",\"#19d3f3\",\"#FF6692\",\"#B6E880\",\"#FF97FF\",\"#FECB52\"],\"font\":{\"color\":\"#2a3f5f\"},\"geo\":{\"bgcolor\":\"white\",\"lakecolor\":\"white\",\"landcolor\":\"#E5ECF6\",\"showlakes\":true,\"showland\":true,\"subunitcolor\":\"white\"},\"hoverlabel\":{\"align\":\"left\"},\"hovermode\":\"closest\",\"mapbox\":{\"style\":\"light\"},\"paper_bgcolor\":\"white\",\"plot_bgcolor\":\"#E5ECF6\",\"polar\":{\"angularaxis\":{\"gridcolor\":\"white\",\"linecolor\":\"white\",\"ticks\":\"\"},\"bgcolor\":\"#E5ECF6\",\"radialaxis\":{\"gridcolor\":\"white\",\"linecolor\":\"white\",\"ticks\":\"\"}},\"scene\":{\"xaxis\":{\"backgroundcolor\":\"#E5ECF6\",\"gridcolor\":\"white\",\"gridwidth\":2,\"linecolor\":\"white\",\"showbackground\":true,\"ticks\":\"\",\"zerolinecolor\":\"white\"},\"yaxis\":{\"backgroundcolor\":\"#E5ECF6\",\"gridcolor\":\"white\",\"gridwidth\":2,\"linecolor\":\"white\",\"showbackground\":true,\"ticks\":\"\",\"zerolinecolor\":\"white\"},\"zaxis\":{\"backgroundcolor\":\"#E5ECF6\",\"gridcolor\":\"white\",\"gridwidth\":2,\"linecolor\":\"white\",\"showbackground\":true,\"ticks\":\"\",\"zerolinecolor\":\"white\"}},\"shapedefaults\":{\"line\":{\"color\":\"#2a3f5f\"}},\"ternary\":{\"aaxis\":{\"gridcolor\":\"white\",\"linecolor\":\"white\",\"ticks\":\"\"},\"baxis\":{\"gridcolor\":\"white\",\"linecolor\":\"white\",\"ticks\":\"\"},\"bgcolor\":\"#E5ECF6\",\"caxis\":{\"gridcolor\":\"white\",\"linecolor\":\"white\",\"ticks\":\"\"}},\"title\":{\"x\":0.05},\"xaxis\":{\"automargin\":true,\"gridcolor\":\"white\",\"linecolor\":\"white\",\"ticks\":\"\",\"title\":{\"standoff\":15},\"zerolinecolor\":\"white\",\"zerolinewidth\":2},\"yaxis\":{\"automargin\":true,\"gridcolor\":\"white\",\"linecolor\":\"white\",\"ticks\":\"\",\"title\":{\"standoff\":15},\"zerolinecolor\":\"white\",\"zerolinewidth\":2}}},\"title\":{\"text\":\"F(\\u03b3,\\u03b2)\"},\"width\":700,\"xaxis\":{\"title\":{\"text\":\"\\u03b3\"}},\"yaxis\":{\"title\":{\"text\":\"\\u03b2\"}}},                        {\"responsive\": true}                    ).then(function(){\n",
       "                            \n",
       "var gd = document.getElementById('b15a176b-b1fd-4aea-8693-2c082f7b5592');\n",
       "var x = new MutationObserver(function (mutations, observer) {{\n",
       "        var display = window.getComputedStyle(gd).display;\n",
       "        if (!display || display === 'none') {{\n",
       "            console.log([gd, 'removed!']);\n",
       "            Plotly.purge(gd);\n",
       "            observer.disconnect();\n",
       "        }}\n",
       "}});\n",
       "\n",
       "// Listen for the removal of the full notebook cells\n",
       "var notebookContainer = gd.closest('#notebook-container');\n",
       "if (notebookContainer) {{\n",
       "    x.observe(notebookContainer, {childList: true});\n",
       "}}\n",
       "\n",
       "// Listen for the clearing of the current output cell\n",
       "var outputEl = gd.closest('.output');\n",
       "if (outputEl) {{\n",
       "    x.observe(outputEl, {childList: true});\n",
       "}}\n",
       "\n",
       "                        })                };                });            </script>        </div>"
      ]
     },
     "metadata": {},
     "output_type": "display_data"
    }
   ],
   "source": [
    "# Plot Heatmap \n",
    "fig = go.Figure(data=go.Heatmap(z=landscape, x=b_beta, y=a_gamma, type = 'heatmap', colorscale = 'viridis'))\n",
    "\n",
    "# Update Layout\n",
    "fig.update_layout(title=\"F(γ,β)\", width=700, height=700, yaxis_title=\"β\", xaxis_title=\"γ\")\n",
    "\n",
    "# Display Global Minimium \n",
    "fig.add_trace(\n",
    "    go.Scatter(mode=\"markers\", x=[opt_beta], y=[opt_gamma], marker_symbol=[204], text = [landscape[gamma,beta]],\n",
    "                   marker_color=\"red\",  hovertemplate=\"x: %{x}<br>y: %{y}<br> z: %{text:.2f}<extra></extra>\", \n",
    "                   marker_line_width=1, marker_size=16))"
   ]
  },
  {
   "cell_type": "code",
   "execution_count": 65,
   "id": "5eef23c8",
   "metadata": {},
   "outputs": [],
   "source": [
    "# Display Optimizer Results\n",
    "\n",
    "# Display path \n",
    "#fig.add_trace(\n",
    "#    go.Scatter(mode=\"lines\", x=gammas, y=betas, marker_symbol=[200],\n",
    "#                   marker_color=\"white\", marker_line_width=1, marker_size=8)\n",
    "#)\n",
    "\n",
    "# Display start point\n",
    "#fig.add_trace(\n",
    "#    go.Scatter(mode=\"markers\", x=[gammas[0]], y=[betas[0]], marker_symbol=[204],\n",
    "#                   marker_color=\"gray\", \n",
    "#                   marker_line_width=1, marker_size=16))\n",
    "\n",
    "# Display end point\n",
    "#fig.add_trace(\n",
    "#    go.Scatter(mode=\"markers\", x=[gammas[-1]], y=[betas[-1]], marker_symbol=[204],\n",
    "#                   marker_color=\"green\", \n",
    "#                   marker_line_width=1, marker_size=16))\n",
    "\n"
   ]
  },
  {
   "cell_type": "code",
   "execution_count": 26,
   "id": "5191a47a",
   "metadata": {},
   "outputs": [],
   "source": [
    "# Plot Optimizer History\n",
    "#fig = go.Figure(data=go.Scatter(x=counts, y=values))\n",
    "#fig.update_layout(xaxis_title=\"Evaluation Counts\", yaxis_title=\"Evaluated Mean\", title=\"Optimizer\")\n",
    "#fig.show()"
   ]
  },
  {
   "cell_type": "code",
   "execution_count": null,
   "id": "64b6705c",
   "metadata": {},
   "outputs": [],
   "source": []
  }
 ],
 "metadata": {
  "kernelspec": {
   "display_name": "python3.8",
   "language": "python",
   "name": "python3.8"
  },
  "language_info": {
   "codemirror_mode": {
    "name": "ipython",
    "version": 3
   },
   "file_extension": ".py",
   "mimetype": "text/x-python",
   "name": "python",
   "nbconvert_exporter": "python",
   "pygments_lexer": "ipython3",
   "version": "3.8.6"
  }
 },
 "nbformat": 4,
 "nbformat_minor": 5
}
