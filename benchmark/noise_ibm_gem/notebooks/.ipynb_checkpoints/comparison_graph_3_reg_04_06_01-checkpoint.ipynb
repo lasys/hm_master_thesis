{
 "cells": [
  {
   "cell_type": "markdown",
   "id": "7059a5d5",
   "metadata": {},
   "source": [
    "# graph_3_reg_04_06_01"
   ]
  },
  {
   "cell_type": "code",
   "execution_count": 1,
   "id": "c023c0a5",
   "metadata": {},
   "outputs": [],
   "source": [
    "import sys\n",
    "import os\n",
    "sys.path.insert(0, os.path.abspath('../'))\n",
    "sys.path.insert(0, os.path.abspath('../../'))\n",
    "sys.path.insert(0, os.path.abspath('/home/hm-tlacherm/qlm_notebooks/notebooks_1.2.1/notebooks/measurements/noise_model_gem/master_thesis_qaoa'))"
   ]
  },
  {
   "cell_type": "code",
   "execution_count": 2,
   "id": "e68b51da",
   "metadata": {
    "scrolled": true
   },
   "outputs": [],
   "source": [
    "import qiskit\n",
    "provider = qiskit.IBMQ.load_account()\n",
    "provider = qiskit.IBMQ.get_provider(hub='ibm-q-unibw', group='hochschule-muc', project='masterarbeit')\n",
    "from qiskit_optimization.algorithms import GoemansWilliamsonOptimizer\n",
    "\n",
    "from helpers import *\n",
    "from shared.QiskitMaxcut import *\n",
    "from shared.graph_helper import *\n",
    "from shared.gem.gem_instance import GEMInstance"
   ]
  },
  {
   "cell_type": "code",
   "execution_count": 3,
   "id": "3b68aea8",
   "metadata": {},
   "outputs": [],
   "source": [
    "#%load_ext autoreload\n",
    "#%autoreload 2"
   ]
  },
  {
   "cell_type": "code",
   "execution_count": 4,
   "id": "302c7021",
   "metadata": {
    "scrolled": true
   },
   "outputs": [
    {
     "data": {
      "image/png": "[encoded data removed]",
      "text/plain": [
       "<Figure size 432x288 with 1 Axes>"
      ]
     },
     "metadata": {},
     "output_type": "display_data"
    }
   ],
   "source": [
    "# ---- Define graph and MaxCut ----\n",
    "filename = \"graph_3_reg_04_06_01.txt\"\n",
    "graph = load_nx_graph_from(f\"../data/{filename}\")\n",
    "opt_max_cut = -get_max_cut(graph.name)\n",
    "max_cut = Maxcut(graph, opt_max_cut)\n",
    "max_cut_qubo = max_cut.to_qubo()\n",
    "max_cut.draw()"
   ]
  },
  {
   "cell_type": "markdown",
   "id": "5ff2cfb6",
   "metadata": {},
   "source": [
    "### Goemans Williamson Solution"
   ]
  },
  {
   "cell_type": "code",
   "execution_count": 5,
   "id": "fcdc0c75",
   "metadata": {},
   "outputs": [
    {
     "name": "stdout",
     "output_type": "stream",
     "text": [
      "optimal function value: 4.0\n",
      "optimal value: [0 1 0 1]\n",
      "status: SUCCESS\n",
      "0100: value: -3.000, probability: 33.3%\n",
      "0111: value: -3.000, probability: 33.3%\n",
      "0101: value: -4.000, probability: 33.3%\n",
      "Expectation Value: -3.333333333333333\n",
      "Highest Exp.Value: -3 with 66.667 %\n",
      "Lowest Exp.Value: -4 with 33.333 %\n",
      "Highest Probability: -3 with 66.667 %\n",
      "Ratio r: 0.33333333333333304\n",
      "Approiximation ratio: 0.8333333333333333\n",
      "MSE: 0.2777777777777779\n",
      "RMSE: 0.52704627669473\n"
     ]
    }
   ],
   "source": [
    "optimizer = GoemansWilliamsonOptimizer(5)\n",
    "result = optimizer.solve(max_cut_qubo)\n",
    "mean, distribution = max_cut.analyse(result, print_output=True)\n",
    "max_cut.plot_histogram(distribution, mean)"
   ]
  },
  {
   "cell_type": "markdown",
   "id": "ceff3689",
   "metadata": {},
   "source": [
    "## Parameters"
   ]
  },
  {
   "cell_type": "code",
   "execution_count": 6,
   "id": "d1d82779",
   "metadata": {},
   "outputs": [
    {
     "name": "stdout",
     "output_type": "stream",
     "text": [
      "Backend = Simulator_Noise_Model\n",
      "EVAL_NUM = 50\n",
      "MAX_ITER = 0\n",
      "MAX_P = 4\n",
      "SHOTS = 1024\n",
      "Initial_Points = [array([-0.54695145,  3.42723337]), array([ 3.71737342,  2.39708849, -1.32968676,  3.69795058]), array([ 4.15965249, -2.47254763,  1.68762414, -5.90270808,  3.23038001,\n",
      "       -3.89943837]), array([ 4.70845172, -1.28075305,  1.36848696, -1.68131045,  2.98882816,\n",
      "       -3.67267433, -4.64769237, -1.04975779])]\n"
     ]
    }
   ],
   "source": [
    "BACKEND, EVAL_NUM, MAX_ITER, MAX_P, SHOTS, initial_points = load_configs(graph.name)\n",
    "display_configs()\n",
    "all_results = {}\n",
    "gem_instance = GEMInstance()"
   ]
  },
  {
   "cell_type": "markdown",
   "id": "df53612d",
   "metadata": {},
   "source": [
    "## QAOA"
   ]
  },
  {
   "cell_type": "code",
   "execution_count": 7,
   "id": "ce11cc42",
   "metadata": {},
   "outputs": [],
   "source": [
    "from helpers.qaoa_helper import *"
   ]
  },
  {
   "cell_type": "code",
   "execution_count": null,
   "id": "7eda4ef8",
   "metadata": {},
   "outputs": [
    {
     "name": "stdout",
     "output_type": "stream",
     "text": [
      "p=1: ..................................................\n",
      "p=2: "
     ]
    },
    {
     "name": "stderr",
     "output_type": "stream",
     "text": [
      "FAILURE: Can not get job id, Resubmit the qobj to get job id. Terra job error: 'Keyboard interrupt in parallel_map.' \n",
      "Process ForkProcess-1071:\n",
      "Process ForkProcess-1117:\n",
      "Process ForkProcess-1114:\n",
      "Process ForkProcess-1013:\n",
      "Process ForkProcess-1104:\n",
      "Process ForkProcess-1035:\n",
      "Process ForkProcess-1105:\n",
      "Process ForkProcess-1011:\n",
      "Process ForkProcess-1147:\n",
      "Process ForkProcess-1106:\n",
      "Process ForkProcess-1118:\n",
      "Process ForkProcess-964:\n",
      "Process ForkProcess-991:\n",
      "Process ForkProcess-1015:\n",
      "Process ForkProcess-1086:\n",
      "Process ForkProcess-1037:\n",
      "Process ForkProcess-1121:\n",
      "Process ForkProcess-1125:\n",
      "Process ForkProcess-1099:\n",
      "Process ForkProcess-1122:\n",
      "Process ForkProcess-1100:\n",
      "Process ForkProcess-1092:\n",
      "Process ForkProcess-1020:\n",
      "Process ForkProcess-1096:\n",
      "Process ForkProcess-975:\n",
      "Process ForkProcess-1130:\n",
      "Process ForkProcess-1052:\n",
      "Process ForkProcess-1009:\n",
      "Process ForkProcess-1129:\n",
      "Process ForkProcess-973:\n",
      "Process ForkProcess-1079:\n",
      "Process ForkProcess-1048:\n",
      "Process ForkProcess-1022:\n",
      "Process ForkProcess-1006:\n",
      "Process ForkProcess-1088:\n",
      "Process ForkProcess-1077:\n",
      "Process ForkProcess-1024:\n",
      "Process ForkProcess-1067:\n",
      "Process ForkProcess-1001:\n",
      "Process ForkProcess-995:\n",
      "Process ForkProcess-1043:\n",
      "Process ForkProcess-1142:\n",
      "Process ForkProcess-1019:\n",
      "Process ForkProcess-1076:\n",
      "Process ForkProcess-1061:\n",
      "Process ForkProcess-1016:\n",
      "Process ForkProcess-1139:\n",
      "Process ForkProcess-1112:\n",
      "Process ForkProcess-1031:\n",
      "Process ForkProcess-1136:\n",
      "Process ForkProcess-1097:\n",
      "Process ForkProcess-981:\n",
      "Process ForkProcess-1152:\n",
      "Process ForkProcess-993:\n",
      "Process ForkProcess-1132:\n",
      "Process ForkProcess-963:\n",
      "Process ForkProcess-1055:\n",
      "Process ForkProcess-1057:\n",
      "Process ForkProcess-968:\n",
      "Process ForkProcess-1032:\n",
      "Process ForkProcess-1080:\n",
      "Process ForkProcess-1014:\n",
      "Process ForkProcess-1047:\n",
      "Process ForkProcess-1140:\n",
      "Process ForkProcess-1098:\n",
      "Process ForkProcess-1095:\n",
      "Process ForkProcess-1074:\n",
      "Process ForkProcess-1143:\n",
      "Process ForkProcess-1126:\n",
      "Process ForkProcess-992:\n",
      "Process ForkProcess-1151:\n",
      "Process ForkProcess-1093:\n",
      "Process ForkProcess-988:\n",
      "Process ForkProcess-1051:\n",
      "Process ForkProcess-1038:\n",
      "Process ForkProcess-1134:\n",
      "Process ForkProcess-1005:\n",
      "Process ForkProcess-986:\n",
      "Process ForkProcess-994:\n",
      "Process ForkProcess-1144:\n",
      "Process ForkProcess-987:\n",
      "Process ForkProcess-1123:\n",
      "Process ForkProcess-1062:\n",
      "Process ForkProcess-1103:\n",
      "Process ForkProcess-1133:\n",
      "Process ForkProcess-1023:\n",
      "Process ForkProcess-1094:\n",
      "Process ForkProcess-1040:\n",
      "Process ForkProcess-1108:\n",
      "Process ForkProcess-1120:\n",
      "Process ForkProcess-1113:\n",
      "Process ForkProcess-1149:\n",
      "Process ForkProcess-1087:\n",
      "Process ForkProcess-1116:\n",
      "Process ForkProcess-1049:\n",
      "Process ForkProcess-1138:\n",
      "Process ForkProcess-1119:\n",
      "Process ForkProcess-1131:\n",
      "Process ForkProcess-985:\n",
      "Process ForkProcess-1072:\n",
      "Process ForkProcess-966:\n",
      "Process ForkProcess-1063:\n",
      "Process ForkProcess-1146:\n",
      "Process ForkProcess-1064:\n",
      "Process ForkProcess-970:\n",
      "Process ForkProcess-1145:\n",
      "Process ForkProcess-1000:\n",
      "Process ForkProcess-998:\n",
      "Process ForkProcess-997:\n",
      "Process ForkProcess-996:\n",
      "Process ForkProcess-1128:\n",
      "Process ForkProcess-1141:\n",
      "Process ForkProcess-1135:\n",
      "Process ForkProcess-1124:\n",
      "Process ForkProcess-1002:\n",
      "Process ForkProcess-1109:\n",
      "Process ForkProcess-1148:\n",
      "Process ForkProcess-1007:\n",
      "Process ForkProcess-1115:\n",
      "Process ForkProcess-1101:\n",
      "Process ForkProcess-990:\n",
      "Process ForkProcess-1150:\n",
      "Process ForkProcess-1065:\n",
      "Process ForkProcess-1069:\n",
      "Process ForkProcess-1078:\n",
      "Process ForkProcess-1017:\n",
      "Process ForkProcess-1058:\n",
      "Process ForkProcess-1082:\n",
      "Process ForkProcess-1030:\n",
      "Process ForkProcess-999:\n",
      "Process ForkProcess-1050:\n",
      "Process ForkProcess-1028:\n",
      "Process ForkProcess-1059:\n",
      "Process ForkProcess-978:\n",
      "Process ForkProcess-1073:\n",
      "Process ForkProcess-1091:\n",
      "Process ForkProcess-961:\n",
      "Process ForkProcess-982:\n",
      "Process ForkProcess-1060:\n",
      "Process ForkProcess-1090:\n",
      "Process ForkProcess-1089:\n",
      "Process ForkProcess-1021:\n",
      "Process ForkProcess-1041:\n",
      "Process ForkProcess-1003:\n",
      "Process ForkProcess-1083:\n",
      "Process ForkProcess-1029:\n",
      "Process ForkProcess-1018:\n",
      "Process ForkProcess-1044:\n",
      "Process ForkProcess-1066:\n",
      "Process ForkProcess-1027:\n",
      "Process ForkProcess-1039:\n",
      "Process ForkProcess-1056:\n",
      "Process ForkProcess-1026:\n",
      "Process ForkProcess-1042:\n",
      "Process ForkProcess-1127:\n",
      "Process ForkProcess-1025:\n",
      "Traceback (most recent call last):\n",
      "Traceback (most recent call last):\n",
      "Traceback (most recent call last):\n",
      "Traceback (most recent call last):\n",
      "Traceback (most recent call last):\n",
      "Traceback (most recent call last):\n",
      "Traceback (most recent call last):\n",
      "Traceback (most recent call last):\n",
      "Traceback (most recent call last):\n",
      "Traceback (most recent call last):\n",
      "Traceback (most recent call last):\n",
      "Traceback (most recent call last):\n",
      "Traceback (most recent call last):\n",
      "Traceback (most recent call last):\n",
      "Traceback (most recent call last):\n",
      "Traceback (most recent call last):\n",
      "Traceback (most recent call last):\n",
      "Traceback (most recent call last):\n",
      "Traceback (most recent call last):\n",
      "Traceback (most recent call last):\n",
      "Traceback (most recent call last):\n",
      "Traceback (most recent call last):\n",
      "Traceback (most recent call last):\n",
      "Traceback (most recent call last):\n",
      "Traceback (most recent call last):\n",
      "Traceback (most recent call last):\n",
      "Traceback (most recent call last):\n",
      "Traceback (most recent call last):\n",
      "Traceback (most recent call last):\n",
      "Traceback (most recent call last):\n",
      "Traceback (most recent call last):\n",
      "Traceback (most recent call last):\n",
      "Traceback (most recent call last):\n",
      "Traceback (most recent call last):\n",
      "Traceback (most recent call last):\n",
      "Traceback (most recent call last):\n",
      "Traceback (most recent call last):\n",
      "Traceback (most recent call last):\n",
      "Traceback (most recent call last):\n"
     ]
    }
   ],
   "source": [
    "qaoa_p_means = []\n",
    "qaoa_p_ratios = []\n",
    "qaoa_p_approx_ratios = []\n",
    "\n",
    "for p in range(1,MAX_P+1):\n",
    "    m, r, ar = start_qaoa_evaluation(max_cut, gem=gem_instance, eval_num=EVAL_NUM, reps=p, maxiter=MAX_ITER, init_points=initial_points[p-1])\n",
    "    qaoa_p_means.append(m)\n",
    "    qaoa_p_ratios.append(r)\n",
    "    qaoa_p_approx_ratios.append(ar)\n",
    "\n",
    "all_results[\"QAOA\"] = [qaoa_p_means, qaoa_p_ratios, qaoa_p_approx_ratios]"
   ]
  },
  {
   "cell_type": "code",
   "execution_count": null,
   "id": "812b73d4",
   "metadata": {
    "scrolled": true
   },
   "outputs": [],
   "source": [
    "display_boxplots_results(qaoa_p_means, qaoa_p_ratios, qaoa_p_approx_ratios)"
   ]
  },
  {
   "cell_type": "markdown",
   "id": "1d3bc91c",
   "metadata": {},
   "source": [
    "## QAOA with TQA"
   ]
  },
  {
   "cell_type": "code",
   "execution_count": null,
   "id": "93cc32e4",
   "metadata": {},
   "outputs": [],
   "source": [
    "from helpers.qaoa_helper import *"
   ]
  },
  {
   "cell_type": "code",
   "execution_count": null,
   "id": "2ef8d5fd",
   "metadata": {},
   "outputs": [],
   "source": [
    "tqa_p_means = []\n",
    "tqa_p_ratios = []\n",
    "tqa_p_approx_ratios = []\n",
    "tqa_init_points = []\n",
    "\n",
    "for p in range(1,MAX_P+1):\n",
    "    tqa_initial_points = calculate_tqa(graph, p)\n",
    "    m, r, ar = start_qaoa_evaluation(max_cut, eval_num=EVAL_NUM, reps=p, init_points=tqa_initial_points, gem=gem_instance, maxiter=MAX_ITER)\n",
    "    tqa_p_means.append(m)\n",
    "    tqa_p_ratios.append(r)\n",
    "    tqa_p_approx_ratios.append(ar)\n",
    "    tqa_init_points.append(tqa_initial_points)\n",
    "    \n",
    "all_results[\"TQA QAOA\"] = [tqa_p_means, tqa_p_ratios, tqa_p_approx_ratios, tqa_init_points]"
   ]
  },
  {
   "cell_type": "code",
   "execution_count": null,
   "id": "664e7895",
   "metadata": {
    "scrolled": true
   },
   "outputs": [],
   "source": [
    "display_boxplots_results(tqa_p_means, tqa_p_ratios, tqa_p_approx_ratios, prefix='TQA ')"
   ]
  },
  {
   "cell_type": "markdown",
   "id": "1c00537c",
   "metadata": {},
   "source": [
    "## WarmStart QAOA"
   ]
  },
  {
   "cell_type": "code",
   "execution_count": null,
   "id": "73775571",
   "metadata": {},
   "outputs": [],
   "source": [
    "from helpers.warmstart_helper import *"
   ]
  },
  {
   "cell_type": "code",
   "execution_count": null,
   "id": "d547ec5e",
   "metadata": {
    "scrolled": true
   },
   "outputs": [],
   "source": [
    "ws_p_means = []\n",
    "ws_p_ratios = []\n",
    "ws_p_approx_ratios = []\n",
    "ws_opt_epsilons = []\n",
    "\n",
    "for p in range(1,MAX_P+1):\n",
    "    opt_epsilon = 0.25\n",
    "    m, r, ar = start_ws_qaoa_evaluation(max_cut, eval_num=EVAL_NUM, reps=p, gem=gem_instance, epsilon=opt_epsilon, maxiter=MAX_ITER)\n",
    "    ws_p_means.append(m)\n",
    "    ws_p_ratios.append(r)\n",
    "    ws_p_approx_ratios.append(ar)\n",
    "    ws_opt_epsilons.append(opt_epsilon)\n",
    "    \n",
    "all_results[\"WarmStart QAOA\"] = [ws_p_means, ws_p_ratios, ws_p_approx_ratios, ws_opt_epsilons]"
   ]
  },
  {
   "cell_type": "code",
   "execution_count": null,
   "id": "78683bbc",
   "metadata": {
    "scrolled": true
   },
   "outputs": [],
   "source": [
    "display_boxplots_results(ws_p_means, ws_p_ratios, ws_p_approx_ratios, prefix='WarmStart ')"
   ]
  },
  {
   "cell_type": "markdown",
   "id": "bed6661b",
   "metadata": {},
   "source": [
    "### Recursive QAOA"
   ]
  },
  {
   "cell_type": "code",
   "execution_count": null,
   "id": "14e14af5",
   "metadata": {},
   "outputs": [],
   "source": [
    "from helpers.recursive_qaoa_helper import *"
   ]
  },
  {
   "cell_type": "code",
   "execution_count": null,
   "id": "5f6519a5",
   "metadata": {
    "scrolled": true
   },
   "outputs": [],
   "source": [
    "recursive_p_means = []\n",
    "recursive_p_ratios = []\n",
    "recursive_p_approx_ratios = []\n",
    "\n",
    "for p in range(1,MAX_P+1):\n",
    "    m, r, ar = start_recursive_evaluation(max_cut, eval_num=EVAL_NUM, reps=p, gem=gem_instance, maxiter=MAX_ITER, init_points=initial_points[p-1])\n",
    "    recursive_p_means.append(m)\n",
    "    recursive_p_ratios.append(r)\n",
    "    recursive_p_approx_ratios.append(ar)\n",
    "\n",
    "all_results[\"Recursive QAOA\"] = [recursive_p_means, recursive_p_ratios, recursive_p_approx_ratios]"
   ]
  },
  {
   "cell_type": "code",
   "execution_count": null,
   "id": "318817ad",
   "metadata": {
    "scrolled": true
   },
   "outputs": [],
   "source": [
    "display_boxplots_results(recursive_p_means, recursive_p_ratios, recursive_p_approx_ratios, prefix='Recursive ')"
   ]
  },
  {
   "cell_type": "markdown",
   "id": "9a5ae1e0",
   "metadata": {},
   "source": [
    "### Recursive WarmStart QAOA"
   ]
  },
  {
   "cell_type": "code",
   "execution_count": null,
   "id": "3bd42b9c",
   "metadata": {},
   "outputs": [],
   "source": [
    "from helpers.recursive_ws_helper import *"
   ]
  },
  {
   "cell_type": "code",
   "execution_count": null,
   "id": "7b089ba3",
   "metadata": {
    "scrolled": true
   },
   "outputs": [],
   "source": [
    "ws_recursive_p_means = []\n",
    "ws_recursive_p_ratios = []\n",
    "ws_recursive_p_approx_ratios = []\n",
    "\n",
    "for p in range(1,MAX_P+1):\n",
    "    opt_epsilon = ws_opt_epsilons[p-1]\n",
    "    m, r, ar = start_recursive_ws_qaoa_evaluation(max_cut, eval_num=EVAL_NUM, reps=p, gem=gem_instance, epsilon=opt_epsilon, maxiter=MAX_ITER)\n",
    "    ws_recursive_p_means.append(m)\n",
    "    ws_recursive_p_ratios.append(r)\n",
    "    ws_recursive_p_approx_ratios.append(ar)\n",
    "    \n",
    "all_results[\"Recursive WarmStart QAOA\"] = [ws_recursive_p_means, ws_recursive_p_ratios, ws_recursive_p_approx_ratios, ws_opt_epsilons]"
   ]
  },
  {
   "cell_type": "code",
   "execution_count": null,
   "id": "3cc4a37a",
   "metadata": {
    "scrolled": true
   },
   "outputs": [],
   "source": [
    "display_boxplots_results(ws_recursive_p_means, ws_recursive_p_ratios, ws_recursive_p_approx_ratios, prefix='Recursive WarmStart ')"
   ]
  },
  {
   "cell_type": "markdown",
   "id": "059e3535",
   "metadata": {},
   "source": [
    "## Results"
   ]
  },
  {
   "cell_type": "code",
   "execution_count": null,
   "id": "826f8562",
   "metadata": {},
   "outputs": [],
   "source": [
    "from helpers.results_helper import *"
   ]
  },
  {
   "cell_type": "code",
   "execution_count": null,
   "id": "37f6477d",
   "metadata": {},
   "outputs": [],
   "source": [
    "means_df, ratio_df, approx_ratios_df = generate_dataframes(all_results)"
   ]
  },
  {
   "cell_type": "markdown",
   "id": "6504aeea",
   "metadata": {},
   "source": [
    "### Metric Mean"
   ]
  },
  {
   "cell_type": "code",
   "execution_count": null,
   "id": "2e9f059b",
   "metadata": {},
   "outputs": [],
   "source": [
    "means_df"
   ]
  },
  {
   "cell_type": "markdown",
   "id": "25c2d89b",
   "metadata": {},
   "source": [
    "### Metric Ratio "
   ]
  },
  {
   "cell_type": "code",
   "execution_count": null,
   "id": "6303e427",
   "metadata": {},
   "outputs": [],
   "source": [
    "ratio_df"
   ]
  },
  {
   "cell_type": "markdown",
   "id": "4fc43a16",
   "metadata": {},
   "source": [
    "### Metric Approximation Ratio"
   ]
  },
  {
   "cell_type": "code",
   "execution_count": null,
   "id": "3e362965",
   "metadata": {},
   "outputs": [],
   "source": [
    "approx_ratios_df"
   ]
  },
  {
   "cell_type": "code",
   "execution_count": null,
   "id": "0c11cafa",
   "metadata": {},
   "outputs": [],
   "source": [
    "# Save results \n",
    "filename = f'comparison_{BACKEND.name}_{graph.name}_results.npy'\n",
    "with open(filename, 'wb') as f:\n",
    "    np.save(f, all_results)\n",
    "    print(f\"Saved results to {filename}\")"
   ]
  },
  {
   "cell_type": "code",
   "execution_count": null,
   "id": "bc72a608",
   "metadata": {},
   "outputs": [],
   "source": [
    "# Save gem-cache-dict\n",
    "import pickle\n",
    "filename = f'comparison_{BACKEND.name}_{graph.name}_gem_dict.pkl'\n",
    "with open(filename, 'wb') as f:\n",
    "    pickle.dump(gem_instance.MG_cache, f, pickle.HIGHEST_PROTOCOL)\n",
    "    print(f\"Saved gem-dict to {filename}\")"
   ]
  }
 ],
 "metadata": {
  "kernelspec": {
   "display_name": "python3.8",
   "language": "python",
   "name": "python3.8"
  },
  "language_info": {
   "codemirror_mode": {
    "name": "ipython",
    "version": 3
   },
   "file_extension": ".py",
   "mimetype": "text/x-python",
   "name": "python",
   "nbconvert_exporter": "python",
   "pygments_lexer": "ipython3",
   "version": "3.8.6"
  }
 },
 "nbformat": 4,
 "nbformat_minor": 5
}
