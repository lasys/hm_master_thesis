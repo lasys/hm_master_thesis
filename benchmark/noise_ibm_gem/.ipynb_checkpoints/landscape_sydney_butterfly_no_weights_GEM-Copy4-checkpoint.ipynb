{
 "cells": [
  {
   "cell_type": "code",
   "execution_count": 1,
   "id": "08c90252",
   "metadata": {},
   "outputs": [],
   "source": [
    "import sys\n",
    "import os\n",
    "sys.path.insert(0, os.path.abspath('../'))\n",
    "sys.path.insert(0, os.path.abspath('../../'))\n",
    "sys.path.insert(0, os.path.abspath('/home/hm-tlacherm/qlm_notebooks/notebooks_1.2.1/notebooks/master_thesis_qaoa/'))\n",
    "sys.path.insert(0, os.path.abspath('/home/hm-tlacherm/qlm_notebooks/notebooks_1.2.1/notebooks/master_thesis_qaoa/ibm/'))"
   ]
  },
  {
   "cell_type": "code",
   "execution_count": 2,
   "id": "d544255f",
   "metadata": {},
   "outputs": [],
   "source": [
    "import numpy as np\n",
    "\n",
    "import qiskit\n",
    "provider = qiskit.IBMQ.load_account()\n",
    "from qiskit import Aer\n",
    "from qiskit.utils import QuantumInstance\n",
    "from qiskit_optimization.algorithms import MinimumEigenOptimizer\n",
    "from qiskit.algorithms import QAOA\n",
    "from shared.QiskitMaxcut import *\n",
    "from ibm.ibm_parameters import *\n",
    "from shared.gem.gem_instance import GEMInstance\n",
    "from shared.gem.gem_quantum_instance import GEMQuantumInstance\n",
    "from matplotlib import pyplot as plt\n",
    "%matplotlib inline"
   ]
  },
  {
   "cell_type": "code",
   "execution_count": 25,
   "id": "c4f3a410",
   "metadata": {},
   "outputs": [
    {
     "name": "stdout",
     "output_type": "stream",
     "text": [
      "graph_05_06_02_w\n"
     ]
    },
    {
     "data": {
      "image/png": "[encoded data removed]",
      "text/plain": [
       "<Figure size 432x288 with 1 Axes>"
      ]
     },
     "metadata": {},
     "output_type": "display_data"
    }
   ],
   "source": [
    "graph = generate_butterfly_graph(with_weights=True)\n",
    "max_cut = Maxcut(graph)\n",
    "max_cut_qubo = max_cut.to_qubo()\n",
    "print(graph.name)\n",
    "max_cut.draw()"
   ]
  },
  {
   "cell_type": "code",
   "execution_count": 47,
   "id": "617f4b75",
   "metadata": {},
   "outputs": [],
   "source": [
    "step_size = 0.1\n",
    "a_gamma = np.arange(0, np.pi, step_size)\n",
    "b_beta = np.arange(0, np.pi, step_size)"
   ]
  },
  {
   "cell_type": "code",
   "execution_count": 48,
   "id": "77c26255",
   "metadata": {},
   "outputs": [
    {
     "data": {
      "text/plain": [
       "32"
      ]
     },
     "execution_count": 48,
     "metadata": {},
     "output_type": "execute_result"
    }
   ],
   "source": [
    "a_gamma, b_beta = np.meshgrid(a_gamma, b_beta)\n",
    "len(a_gamma)"
   ]
  },
  {
   "cell_type": "code",
   "execution_count": 49,
   "id": "7521ba41",
   "metadata": {},
   "outputs": [],
   "source": [
    "def maxcut_obj(x, G):\n",
    "    \"\"\"\n",
    "    Given a bitstring as a solution, this function returns\n",
    "    the number of edges shared between the two partitions\n",
    "    of the graph.\n",
    "    \n",
    "    Args:\n",
    "        x: str\n",
    "           solution bitstring\n",
    "           \n",
    "        G: networkx graph\n",
    "        \n",
    "    Returns:\n",
    "        obj: float\n",
    "             Objective\n",
    "    \"\"\"\n",
    "    obj = 0\n",
    "    for i,j,w in graph.edges.data('weight'):\n",
    "        if x[i] != x[j]:\n",
    "            obj -= w\n",
    "            \n",
    "    return obj\n",
    "\n",
    "\n",
    "def compute_expectation(counts, G):\n",
    "    \n",
    "    \"\"\"\n",
    "    Computes expectation value based on measurement results\n",
    "    \n",
    "    Args:\n",
    "        counts: dict\n",
    "                key as bitstring, val as count\n",
    "           \n",
    "        G: networkx graph\n",
    "        \n",
    "    Returns:\n",
    "        avg: float\n",
    "             expectation value\n",
    "    \"\"\"\n",
    "    \n",
    "    avg = 0\n",
    "    sum_count = 0\n",
    "    for bitstring, count in counts.items():\n",
    "        \n",
    "        obj = maxcut_obj(bitstring, G)\n",
    "        avg += obj * count\n",
    "        sum_count += count\n",
    "        \n",
    "    return avg/sum_count"
   ]
  },
  {
   "cell_type": "code",
   "execution_count": 50,
   "id": "8801995f",
   "metadata": {},
   "outputs": [],
   "source": [
    "import qiskit\n",
    "from qiskit import Aer\n",
    "from qiskit_optimization.algorithms import MinimumEigenOptimizer\n",
    "from qiskit.providers.aer.noise import NoiseModel\n",
    "from qiskit.ignis.mitigation.measurement import CompleteMeasFitter\n",
    "from qiskit.providers.models import BackendConfiguration\n",
    "from helpers.config import *\n",
    "import pickle \n",
    "from shared.gem.gem_quantum_instance import GEMQuantumInstance\n",
    "\n",
    "#\n",
    "# Quantum Instance \n",
    "#\n",
    "DEFAULT_QASM_SIMULATOR = \"qasm_simulator\"\n",
    "NOISE_BACKEND = \"ibmq_toronto\"\n",
    "\n",
    "# Noise \n",
    "noise_model = None \n",
    "coupling_map = None\n",
    "basis_gates = None\n",
    "\n",
    "# create instance depending on config \n",
    "def create_quantum_instance():\n",
    "    from helpers.config import BACKEND\n",
    "\n",
    "    quantum_instance = None\n",
    "    \n",
    "    if BACKEND.value == Backend.Simulator.value:\n",
    "        return GEMQuantumInstance(\n",
    "                                        backend=Aer.get_backend(DEFAULT_QASM_SIMULATOR),\n",
    "                                        shots=SHOTS,\n",
    "                                        )\n",
    "    \n",
    "    if BACKEND.value == Backend.Simulator_Noise_Model.value:\n",
    "        quantum_instance = _create_simulator_with_noise_quantum_instance()\n",
    "        print(\"create noise\")\n",
    "    elif BACKEND.value == Backend.IBMQ_Toronto.value:\n",
    "        raise Exception(\"Quantum Instance with Toronto not implemented!\")\n",
    "    else: \n",
    "        raise Exception(f\"Quantum Instance not instanciated! {BACKEND.value}\")\n",
    "    \n",
    "    return quantum_instance\n",
    "\n",
    "\n",
    "def _init_noise_model_parameters():\n",
    "    global noise_model, coupling_map, basis_gates\n",
    "    if noise_model is None or coupling_map is None or basis_gates is None:\n",
    "        noise_model_filename = f\"helpers/ibmq_toronto_noise_model_dict.pkl\"\n",
    "        noise_model_dict = load_from_pickle(noise_model_filename)\n",
    "        noise_model = NoiseModel.from_dict(noise_model_dict)\n",
    "        basis_gates = noise_model.basis_gates\n",
    "        \n",
    "        noise_backend_configuration_filename = f\"helpers/ibmq_toronto_noise_backend_configuation_dict.pkl\"\n",
    "        noise_backend_configuration_dict = load_from_pickle(noise_backend_configuration_filename)\n",
    "        noise_backend_configuration = BackendConfiguration.from_dict(noise_backend_configuration_dict)\n",
    "        coupling_map = noise_backend_configuration.coupling_map\n",
    "        \n",
    "\n",
    "def _create_simulator_with_noise_quantum_instance():\n",
    "    \n",
    "    _init_noise_model_parameters()\n",
    "    \n",
    "    quantum_instance = QuantumInstance(\n",
    "                                        backend=Aer.get_backend(DEFAULT_QASM_SIMULATOR),\n",
    "                                        shots=SHOTS,\n",
    "                                        noise_model=noise_model,\n",
    "                                        coupling_map=coupling_map,\n",
    "                                        basis_gates=basis_gates,\n",
    "                                        #measurement_error_mitigation_cls=CompleteMeasFitter,\n",
    "                                        #measurement_error_mitigation_shots=SHOTS,\n",
    "                                        )\n",
    "    return quantum_instance\n",
    "\n",
    "\n",
    "def load_from_pickle(name):\n",
    "    with open(name, 'rb') as f:\n",
    "        return pickle.load(f)\n"
   ]
  },
  {
   "cell_type": "code",
   "execution_count": 51,
   "id": "1defe426",
   "metadata": {},
   "outputs": [
    {
     "name": "stdout",
     "output_type": "stream",
     "text": [
      "create noise\n"
     ]
    }
   ],
   "source": [
    "#quantum_instance = GEMQuantumInstance(\n",
    "#                    #backend=Aer.get_backend(DEFAULT_QASM_SIMULATOR),\n",
    "#                    backend=provider.get_backend('ibmq_sydney'),\n",
    "#                    shots=SHOTS)\n",
    "\n",
    "\n",
    "quantum_instance = create_quantum_instance()\n",
    "\n",
    "qaoa = QAOA(\n",
    "            optimizer=COBYLA(maxiter=0),\n",
    "            quantum_instance=quantum_instance,\n",
    "            reps=1\n",
    "            )\n",
    "\n",
    "op, offset = max_cut_qubo.to_ising()"
   ]
  },
  {
   "cell_type": "code",
   "execution_count": 52,
   "id": "cf2907cd",
   "metadata": {},
   "outputs": [],
   "source": [
    "def create_cirucit(gamma,beta):\n",
    "    circuits = qaoa.construct_circuit([gamma,beta], operator=op)\n",
    "    circuit = circuits[0]\n",
    "    circuit.measure_all()\n",
    "    return circuit"
   ]
  },
  {
   "cell_type": "code",
   "execution_count": 53,
   "id": "aab936ac",
   "metadata": {},
   "outputs": [],
   "source": [
    "#gem_instance = GEMInstance()"
   ]
  },
  {
   "cell_type": "code",
   "execution_count": 54,
   "id": "d603e055",
   "metadata": {},
   "outputs": [],
   "source": [
    "#first_circuit = create_cirucit(0.5,0.5)"
   ]
  },
  {
   "cell_type": "code",
   "execution_count": 55,
   "id": "61e1469d",
   "metadata": {},
   "outputs": [],
   "source": [
    "#mg = gem_instance.get_gem_matrix(first_circuit, quantum_instance)"
   ]
  },
  {
   "cell_type": "code",
   "execution_count": 56,
   "id": "8ad3a2e6",
   "metadata": {},
   "outputs": [],
   "source": [
    "#quantum_instance.MG = mg\n",
    "#mg"
   ]
  },
  {
   "cell_type": "code",
   "execution_count": null,
   "id": "7aa92597",
   "metadata": {},
   "outputs": [
    {
     "name": "stdout",
     "output_type": "stream",
     "text": [
      "graph_05_06_02_w_gem_row_0\n",
      "graph_05_06_02_w_gem_row_1\n",
      "graph_05_06_02_w_gem_row_2\n",
      "graph_05_06_02_w_gem_row_3\n",
      "graph_05_06_02_w_gem_row_4\n",
      "graph_05_06_02_w_gem_row_5\n",
      "graph_05_06_02_w_gem_row_6\n",
      "graph_05_06_02_w_gem_row_7\n",
      "graph_05_06_02_w_gem_row_8\n",
      "graph_05_06_02_w_gem_row_9\n",
      "graph_05_06_02_w_gem_row_10\n",
      "graph_05_06_02_w_gem_row_11\n",
      "graph_05_06_02_w_gem_row_12\n",
      "graph_05_06_02_w_gem_row_13\n"
     ]
    }
   ],
   "source": [
    "landscape = np.zeros(a_gamma.shape)\n",
    "\n",
    "for i in range(0, len(landscape)):\n",
    "    circuits = []\n",
    "    for j in range(0, len(landscape)):\n",
    "        # create circuits for entire row \n",
    "        circuit = create_cirucit(a_gamma[i][j], b_beta[i][j])\n",
    "        circuits.append(circuit)\n",
    "    \n",
    "    # create one job with circuits \n",
    "    job_name = f\"{graph.name}_gem_row_{i}\"\n",
    "    job = quantum_instance.execute(circuits)\n",
    "    #job.update_name(job_name)\n",
    "    print(job_name)\n",
    "    #print(job)\n",
    "    \n",
    "    # add results to landscape \n",
    "    k = 0\n",
    "    for count in job.get_counts():\n",
    "        mean = compute_expectation(count, graph)\n",
    "        landscape[i,k % 32] = mean\n",
    "        k += 1"
   ]
  },
  {
   "cell_type": "code",
   "execution_count": null,
   "id": "0318681e",
   "metadata": {},
   "outputs": [],
   "source": [
    "print(landscape)\n",
    "plt.matshow(landscape)\n",
    "plt.show()"
   ]
  },
  {
   "cell_type": "code",
   "execution_count": null,
   "id": "f92be730",
   "metadata": {},
   "outputs": [],
   "source": [
    "# Mean of landscape\n",
    "np.mean(landscape)"
   ]
  },
  {
   "cell_type": "code",
   "execution_count": null,
   "id": "bb03a5a4",
   "metadata": {},
   "outputs": [],
   "source": [
    "# Minimium \n",
    "np.min(landscape)"
   ]
  },
  {
   "cell_type": "code",
   "execution_count": null,
   "id": "be4164d7",
   "metadata": {},
   "outputs": [],
   "source": [
    "# Display Coordinates of Minimum \n",
    "np.unravel_index(np.argmin(landscape), landscape.shape)"
   ]
  },
  {
   "cell_type": "code",
   "execution_count": null,
   "id": "d345481d",
   "metadata": {},
   "outputs": [],
   "source": [
    "# Gamma and beta value of Minimium\n",
    "gamma, beta = np.unravel_index(np.argmin(landscape), landscape.shape)\n",
    "opt_gamma = gamma * step_size\n",
    "opt_beta = beta * step_size\n",
    "print(f\"Opt.Gamma: {opt_gamma}, Opt.Beta: {opt_beta}\")"
   ]
  },
  {
   "cell_type": "code",
   "execution_count": null,
   "id": "3aeb645a",
   "metadata": {},
   "outputs": [],
   "source": [
    "# Save result matrix \n",
    "with open('landscape_toronto_noise_model_butterfly_weights_results.npy', 'wb') as f:\n",
    "    np.save(f, landscape)"
   ]
  },
  {
   "cell_type": "code",
   "execution_count": null,
   "id": "143a3a5b",
   "metadata": {},
   "outputs": [],
   "source": [
    "import plotly.graph_objects as go"
   ]
  },
  {
   "cell_type": "code",
   "execution_count": null,
   "id": "a4a70fc8",
   "metadata": {},
   "outputs": [],
   "source": [
    "# Plot landscape in 3D \n",
    "a_gamma = np.arange(0, np.pi, step_size)\n",
    "b_beta = np.arange(0, np.pi, step_size)\n",
    "fig = go.Figure(data=go.Surface(z=landscape, x=a_gamma, y=b_beta))\n",
    "\n",
    "fig.update_traces(contours_z=dict(show=True, usecolormap=True, highlightcolor='limegreen', project_z=True))\n",
    "\n",
    "\n",
    "fig.update_layout(title=\"QAOA with General Error Mitigation - MaxCut-Landscape\", scene=dict(\n",
    "    xaxis_title=\"γ\",\n",
    "    yaxis_title=\"β\",\n",
    "    zaxis_title=\"F(γ,β)\"\n",
    "))"
   ]
  },
  {
   "cell_type": "code",
   "execution_count": null,
   "id": "7a8d8f7a",
   "metadata": {},
   "outputs": [],
   "source": [
    "# Plot Heatmap \n",
    "fig = go.Figure(data=go.Heatmap(z=landscape, x=b_beta, y=a_gamma, type = 'heatmap', colorscale = 'viridis'))\n",
    "\n",
    "# Update Layout\n",
    "fig.update_layout(title=\"F(γ,β)\", width=700, height=700, yaxis_title=\"β\", xaxis_title=\"γ\")\n",
    "\n",
    "# Display Global Minimium \n",
    "fig.add_trace(\n",
    "    go.Scatter(mode=\"markers\", x=[opt_beta], y=[opt_gamma], marker_symbol=[204], text = [landscape[gamma,beta]],\n",
    "                   marker_color=\"red\",  hovertemplate=\"x: %{x}<br>y: %{y}<br> z: %{text:.2f}<extra></extra>\", \n",
    "                   marker_line_width=1, marker_size=16))"
   ]
  },
  {
   "cell_type": "code",
   "execution_count": 46,
   "id": "5eef23c8",
   "metadata": {},
   "outputs": [],
   "source": [
    "# Display Optimizer Results\n",
    "\n",
    "# Display path \n",
    "#fig.add_trace(\n",
    "#    go.Scatter(mode=\"lines\", x=gammas, y=betas, marker_symbol=[200],\n",
    "#                   marker_color=\"white\", marker_line_width=1, marker_size=8)\n",
    "#)\n",
    "\n",
    "# Display start point\n",
    "#fig.add_trace(\n",
    "#    go.Scatter(mode=\"markers\", x=[gammas[0]], y=[betas[0]], marker_symbol=[204],\n",
    "#                   marker_color=\"gray\", \n",
    "#                   marker_line_width=1, marker_size=16))\n",
    "\n",
    "# Display end point\n",
    "#fig.add_trace(\n",
    "#    go.Scatter(mode=\"markers\", x=[gammas[-1]], y=[betas[-1]], marker_symbol=[204],\n",
    "#                   marker_color=\"green\", \n",
    "#                   marker_line_width=1, marker_size=16))\n",
    "\n"
   ]
  },
  {
   "cell_type": "code",
   "execution_count": 25,
   "id": "5191a47a",
   "metadata": {},
   "outputs": [],
   "source": [
    "# Plot Optimizer History\n",
    "#fig = go.Figure(data=go.Scatter(x=counts, y=values))\n",
    "#fig.update_layout(xaxis_title=\"Evaluation Counts\", yaxis_title=\"Evaluated Mean\", title=\"Optimizer\")\n",
    "#fig.show()"
   ]
  },
  {
   "cell_type": "code",
   "execution_count": null,
   "id": "64b6705c",
   "metadata": {},
   "outputs": [],
   "source": []
  }
 ],
 "metadata": {
  "kernelspec": {
   "display_name": "python3.8",
   "language": "python",
   "name": "python3.8"
  },
  "language_info": {
   "codemirror_mode": {
    "name": "ipython",
    "version": 3
   },
   "file_extension": ".py",
   "mimetype": "text/x-python",
   "name": "python",
   "nbconvert_exporter": "python",
   "pygments_lexer": "ipython3",
   "version": "3.8.6"
  }
 },
 "nbformat": 4,
 "nbformat_minor": 5
}
