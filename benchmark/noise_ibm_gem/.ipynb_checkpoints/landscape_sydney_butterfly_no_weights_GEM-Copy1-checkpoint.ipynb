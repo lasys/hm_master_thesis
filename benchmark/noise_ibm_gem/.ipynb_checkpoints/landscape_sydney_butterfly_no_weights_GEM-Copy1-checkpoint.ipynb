{
 "cells": [
  {
   "cell_type": "code",
   "execution_count": 1,
   "id": "08c90252",
   "metadata": {},
   "outputs": [],
   "source": [
    "import sys\n",
    "import os\n",
    "sys.path.insert(0, os.path.abspath('../'))\n",
    "sys.path.insert(0, os.path.abspath('../../'))\n",
    "sys.path.insert(0, os.path.abspath('/home/hm-tlacherm/qlm_notebooks/notebooks_1.2.1/notebooks/master_thesis_qaoa/'))\n",
    "sys.path.insert(0, os.path.abspath('/home/hm-tlacherm/qlm_notebooks/notebooks_1.2.1/notebooks/master_thesis_qaoa/ibm/'))"
   ]
  },
  {
   "cell_type": "code",
   "execution_count": 2,
   "id": "d544255f",
   "metadata": {},
   "outputs": [],
   "source": [
    "import numpy as np\n",
    "\n",
    "import qiskit\n",
    "provider = qiskit.IBMQ.load_account()\n",
    "from qiskit import Aer\n",
    "from qiskit.utils import QuantumInstance\n",
    "from qiskit_optimization.algorithms import MinimumEigenOptimizer\n",
    "from qiskit.algorithms import QAOA\n",
    "from shared.QiskitMaxcut import *\n",
    "from ibm.ibm_parameters import *\n",
    "from shared.gem.gem_instance import GEMInstance\n",
    "from shared.gem.gem_quantum_instance import GEMQuantumInstance\n",
    "from matplotlib import pyplot as plt\n",
    "%matplotlib inline"
   ]
  },
  {
   "cell_type": "code",
   "execution_count": 3,
   "id": "c4f3a410",
   "metadata": {},
   "outputs": [
    {
     "name": "stdout",
     "output_type": "stream",
     "text": [
      "graph_05_06_02\n"
     ]
    },
    {
     "data": {
      "image/png": "[encoded data removed]",
      "text/plain": [
       "<Figure size 432x288 with 1 Axes>"
      ]
     },
     "metadata": {},
     "output_type": "display_data"
    }
   ],
   "source": [
    "graph = generate_butterfly_graph(with_weights=False)\n",
    "max_cut = Maxcut(graph)\n",
    "max_cut_qubo = max_cut.to_qubo()\n",
    "print(graph.name)\n",
    "max_cut.draw()"
   ]
  },
  {
   "cell_type": "code",
   "execution_count": 4,
   "id": "617f4b75",
   "metadata": {},
   "outputs": [],
   "source": [
    "step_size = 0.1\n",
    "a_gamma = np.arange(0, np.pi, step_size)\n",
    "b_beta = np.arange(0, np.pi, step_size)"
   ]
  },
  {
   "cell_type": "code",
   "execution_count": 5,
   "id": "77c26255",
   "metadata": {},
   "outputs": [
    {
     "data": {
      "text/plain": [
       "32"
      ]
     },
     "execution_count": 5,
     "metadata": {},
     "output_type": "execute_result"
    }
   ],
   "source": [
    "a_gamma, b_beta = np.meshgrid(a_gamma, b_beta)\n",
    "len(a_gamma)"
   ]
  },
  {
   "cell_type": "code",
   "execution_count": 6,
   "id": "7521ba41",
   "metadata": {},
   "outputs": [],
   "source": [
    "def maxcut_obj(x, G):\n",
    "    \"\"\"\n",
    "    Given a bitstring as a solution, this function returns\n",
    "    the number of edges shared between the two partitions\n",
    "    of the graph.\n",
    "    \n",
    "    Args:\n",
    "        x: str\n",
    "           solution bitstring\n",
    "           \n",
    "        G: networkx graph\n",
    "        \n",
    "    Returns:\n",
    "        obj: float\n",
    "             Objective\n",
    "    \"\"\"\n",
    "    obj = 0\n",
    "    for i, j in G.edges():\n",
    "        if x[i] != x[j]:\n",
    "            obj -= 1\n",
    "            \n",
    "    return obj\n",
    "\n",
    "\n",
    "def compute_expectation(counts, G):\n",
    "    \n",
    "    \"\"\"\n",
    "    Computes expectation value based on measurement results\n",
    "    \n",
    "    Args:\n",
    "        counts: dict\n",
    "                key as bitstring, val as count\n",
    "           \n",
    "        G: networkx graph\n",
    "        \n",
    "    Returns:\n",
    "        avg: float\n",
    "             expectation value\n",
    "    \"\"\"\n",
    "    \n",
    "    avg = 0\n",
    "    sum_count = 0\n",
    "    for bitstring, count in counts.items():\n",
    "        \n",
    "        obj = maxcut_obj(bitstring, G)\n",
    "        avg += obj * count\n",
    "        sum_count += count\n",
    "        \n",
    "    return avg/sum_count"
   ]
  },
  {
   "cell_type": "code",
   "execution_count": 41,
   "id": "8801995f",
   "metadata": {},
   "outputs": [],
   "source": [
    "import qiskit\n",
    "from qiskit import Aer\n",
    "from qiskit_optimization.algorithms import MinimumEigenOptimizer\n",
    "from qiskit.providers.aer.noise import NoiseModel\n",
    "from qiskit.ignis.mitigation.measurement import CompleteMeasFitter\n",
    "from qiskit.providers.models import BackendConfiguration\n",
    "from helpers.config import *\n",
    "import pickle \n",
    "from shared.gem.gem_quantum_instance import GEMQuantumInstance\n",
    "\n",
    "#\n",
    "# Quantum Instance \n",
    "#\n",
    "DEFAULT_QASM_SIMULATOR = \"qasm_simulator\"\n",
    "NOISE_BACKEND = \"ibmq_toronto\"\n",
    "\n",
    "# Noise \n",
    "noise_model = None \n",
    "coupling_map = None\n",
    "basis_gates = None\n",
    "\n",
    "# create instance depending on config \n",
    "def create_quantum_instance():\n",
    "    from helpers.config import BACKEND\n",
    "\n",
    "    quantum_instance = None\n",
    "    \n",
    "    if BACKEND.value == Backend.Simulator.value:\n",
    "        return GEMQuantumInstance(\n",
    "                                        backend=Aer.get_backend(DEFAULT_QASM_SIMULATOR),\n",
    "                                        shots=SHOTS,\n",
    "                                        )\n",
    "    \n",
    "    if BACKEND.value == Backend.Simulator_Noise_Model.value:\n",
    "        quantum_instance = _create_simulator_with_noise_quantum_instance()\n",
    "        print(\"create noise\")\n",
    "    elif BACKEND.value == Backend.IBMQ_Toronto.value:\n",
    "        raise Exception(\"Quantum Instance with Toronto not implemented!\")\n",
    "    else: \n",
    "        raise Exception(f\"Quantum Instance not instanciated! {BACKEND.value}\")\n",
    "    \n",
    "    return quantum_instance\n",
    "\n",
    "\n",
    "def _init_noise_model_parameters():\n",
    "    global noise_model, coupling_map, basis_gates\n",
    "    if noise_model is None or coupling_map is None or basis_gates is None:\n",
    "        noise_model_filename = f\"helpers/ibmq_toronto_noise_model_dict.pkl\"\n",
    "        noise_model_dict = load_from_pickle(noise_model_filename)\n",
    "        noise_model = NoiseModel.from_dict(noise_model_dict)\n",
    "        basis_gates = noise_model.basis_gates\n",
    "        \n",
    "        noise_backend_configuration_filename = f\"helpers/ibmq_toronto_noise_backend_configuation_dict.pkl\"\n",
    "        noise_backend_configuration_dict = load_from_pickle(noise_backend_configuration_filename)\n",
    "        noise_backend_configuration = BackendConfiguration.from_dict(noise_backend_configuration_dict)\n",
    "        coupling_map = noise_backend_configuration.coupling_map\n",
    "        \n",
    "\n",
    "def _create_simulator_with_noise_quantum_instance():\n",
    "    \n",
    "    _init_noise_model_parameters()\n",
    "    \n",
    "    quantum_instance = GEMQuantumInstance(\n",
    "                                        backend=Aer.get_backend(DEFAULT_QASM_SIMULATOR),\n",
    "                                        shots=SHOTS,\n",
    "                                        noise_model=noise_model,\n",
    "                                        coupling_map=coupling_map,\n",
    "                                        basis_gates=basis_gates,\n",
    "                                        )\n",
    "    return quantum_instance\n",
    "\n",
    "\n",
    "def load_from_pickle(name):\n",
    "    with open(name, 'rb') as f:\n",
    "        return pickle.load(f)\n"
   ]
  },
  {
   "cell_type": "code",
   "execution_count": 42,
   "id": "1defe426",
   "metadata": {},
   "outputs": [
    {
     "name": "stdout",
     "output_type": "stream",
     "text": [
      "create noise\n"
     ]
    }
   ],
   "source": [
    "#quantum_instance = GEMQuantumInstance(\n",
    "#                    #backend=Aer.get_backend(DEFAULT_QASM_SIMULATOR),\n",
    "#                    backend=provider.get_backend('ibmq_sydney'),\n",
    "#                    shots=SHOTS)\n",
    "\n",
    "\n",
    "quantum_instance = create_quantum_instance()\n",
    "\n",
    "qaoa = QAOA(\n",
    "            optimizer=COBYLA(maxiter=0),\n",
    "            quantum_instance=quantum_instance,\n",
    "            reps=1\n",
    "            )\n",
    "\n",
    "op, offset = max_cut_qubo.to_ising()"
   ]
  },
  {
   "cell_type": "code",
   "execution_count": 8,
   "id": "cf2907cd",
   "metadata": {},
   "outputs": [],
   "source": [
    "def create_cirucit(gamma,beta):\n",
    "    circuits = qaoa.construct_circuit([gamma,beta], operator=op)\n",
    "    circuit = circuits[0]\n",
    "    circuit.measure_all()\n",
    "    return circuit"
   ]
  },
  {
   "cell_type": "code",
   "execution_count": 9,
   "id": "aab936ac",
   "metadata": {},
   "outputs": [],
   "source": [
    "gem_instance = GEMInstance()"
   ]
  },
  {
   "cell_type": "code",
   "execution_count": 10,
   "id": "d603e055",
   "metadata": {},
   "outputs": [],
   "source": [
    "first_circuit = create_cirucit(0,0)"
   ]
  },
  {
   "cell_type": "code",
   "execution_count": 11,
   "id": "61e1469d",
   "metadata": {},
   "outputs": [
    {
     "name": "stdout",
     "output_type": "stream",
     "text": [
      "Matrix for 2162883817824991601 not in cache\n"
     ]
    }
   ],
   "source": [
    "mg = gem_instance.get_gem_matrix(first_circuit, quantum_instance)"
   ]
  },
  {
   "cell_type": "code",
   "execution_count": 12,
   "id": "8ad3a2e6",
   "metadata": {},
   "outputs": [],
   "source": [
    "quantum_instance.MG = mg"
   ]
  },
  {
   "cell_type": "code",
   "execution_count": 13,
   "id": "7aa92597",
   "metadata": {},
   "outputs": [
    {
     "name": "stdout",
     "output_type": "stream",
     "text": [
      "graph_05_06_02_gem_row_0\n",
      "graph_05_06_02_gem_row_1\n",
      "graph_05_06_02_gem_row_2\n",
      "graph_05_06_02_gem_row_3\n",
      "graph_05_06_02_gem_row_4\n",
      "graph_05_06_02_gem_row_5\n",
      "graph_05_06_02_gem_row_6\n",
      "graph_05_06_02_gem_row_7\n",
      "graph_05_06_02_gem_row_8\n",
      "graph_05_06_02_gem_row_9\n",
      "graph_05_06_02_gem_row_10\n",
      "graph_05_06_02_gem_row_11\n",
      "graph_05_06_02_gem_row_12\n",
      "graph_05_06_02_gem_row_13\n",
      "graph_05_06_02_gem_row_14\n",
      "graph_05_06_02_gem_row_15\n",
      "graph_05_06_02_gem_row_16\n",
      "graph_05_06_02_gem_row_17\n",
      "graph_05_06_02_gem_row_18\n",
      "graph_05_06_02_gem_row_19\n",
      "graph_05_06_02_gem_row_20\n",
      "graph_05_06_02_gem_row_21\n",
      "graph_05_06_02_gem_row_22\n",
      "graph_05_06_02_gem_row_23\n",
      "graph_05_06_02_gem_row_24\n",
      "graph_05_06_02_gem_row_25\n",
      "graph_05_06_02_gem_row_26\n",
      "graph_05_06_02_gem_row_27\n",
      "graph_05_06_02_gem_row_28\n",
      "graph_05_06_02_gem_row_29\n",
      "graph_05_06_02_gem_row_30\n",
      "graph_05_06_02_gem_row_31\n"
     ]
    }
   ],
   "source": [
    "landscape = np.zeros(a_gamma.shape)\n",
    "\n",
    "for i in range(0, len(landscape)):\n",
    "    circuits = []\n",
    "    for j in range(0, len(landscape)):\n",
    "        # create circuits for entire row \n",
    "        circuit = create_cirucit(a_gamma[i][j], b_beta[i][j])\n",
    "        circuits.append(circuit)\n",
    "    \n",
    "    # create one job with circuits \n",
    "    job_name = f\"{graph.name}_gem_row_{i}\"\n",
    "    job = quantum_instance.execute(circuits)\n",
    "    #job.update_name(job_name)\n",
    "    print(job_name)\n",
    "    #print(job)\n",
    "    \n",
    "    # add results to landscape \n",
    "    j = 0\n",
    "    for count in job.get_counts():\n",
    "        mean = compute_expectation(count, graph)\n",
    "        landscape[i,j] = mean\n",
    "        j += 1"
   ]
  },
  {
   "cell_type": "code",
   "execution_count": 14,
   "id": "0318681e",
   "metadata": {},
   "outputs": [
    {
     "name": "stdout",
     "output_type": "stream",
     "text": [
      "[[-3.0016252  -2.92551862 -2.9536308  ... -2.94573643 -2.95313086\n",
      "  -2.94423606]\n",
      " [-2.9736217  -2.89816319 -2.78875    ... -2.87775    -2.88225\n",
      "  -2.814     ]\n",
      " [-3.01812273 -2.78315211 -2.74825    ... -2.90815944 -2.90861358\n",
      "  -2.85860733]\n",
      " ...\n",
      " [-3.2048012  -3.0875     -3.09575    ... -2.94813148 -2.9976247\n",
      "  -3.08361455]\n",
      " [-3.08467792 -3.00412655 -3.07261592 ... -2.90625    -2.96825\n",
      "  -2.98837355]\n",
      " [-3.00862608 -2.9498562  -2.96737092 ... -2.875      -2.92426893\n",
      "  -2.96987877]]\n"
     ]
    },
    {
     "data": {
      "image/png": "[encoded data removed]",
      "text/plain": [
       "<Figure size 288x288 with 1 Axes>"
      ]
     },
     "metadata": {
      "needs_background": "light"
     },
     "output_type": "display_data"
    }
   ],
   "source": [
    "print(landscape)\n",
    "plt.matshow(landscape)\n",
    "plt.show()"
   ]
  },
  {
   "cell_type": "code",
   "execution_count": 15,
   "id": "f92be730",
   "metadata": {},
   "outputs": [
    {
     "data": {
      "text/plain": [
       "-2.8665321218648527"
      ]
     },
     "execution_count": 15,
     "metadata": {},
     "output_type": "execute_result"
    }
   ],
   "source": [
    "# Mean of landscape\n",
    "np.mean(landscape)"
   ]
  },
  {
   "cell_type": "code",
   "execution_count": 16,
   "id": "bb03a5a4",
   "metadata": {},
   "outputs": [
    {
     "data": {
      "text/plain": [
       "-3.43525"
      ]
     },
     "execution_count": 16,
     "metadata": {},
     "output_type": "execute_result"
    }
   ],
   "source": [
    "# Minimium \n",
    "np.min(landscape)"
   ]
  },
  {
   "cell_type": "code",
   "execution_count": 17,
   "id": "be4164d7",
   "metadata": {},
   "outputs": [
    {
     "data": {
      "text/plain": [
       "(24, 0)"
      ]
     },
     "execution_count": 17,
     "metadata": {},
     "output_type": "execute_result"
    }
   ],
   "source": [
    "# Display Coordinates of Minimum \n",
    "np.unravel_index(np.argmin(landscape), landscape.shape)"
   ]
  },
  {
   "cell_type": "code",
   "execution_count": 18,
   "id": "d345481d",
   "metadata": {},
   "outputs": [
    {
     "name": "stdout",
     "output_type": "stream",
     "text": [
      "Opt.Gamma: 2.4000000000000004, Opt.Beta: 0.0\n"
     ]
    }
   ],
   "source": [
    "# Gamma and beta value of Minimium\n",
    "gamma, beta = np.unravel_index(np.argmin(landscape), landscape.shape)\n",
    "opt_gamma = gamma * step_size\n",
    "opt_beta = beta * step_size\n",
    "print(f\"Opt.Gamma: {opt_gamma}, Opt.Beta: {opt_beta}\")"
   ]
  },
  {
   "cell_type": "code",
   "execution_count": 19,
   "id": "3aeb645a",
   "metadata": {},
   "outputs": [],
   "source": [
    "# Save result matrix \n",
    "with open('landscape_sydney_butterfly_no_weights_gem_results.npy', 'wb') as f:\n",
    "    np.save(f, landscape)"
   ]
  },
  {
   "cell_type": "code",
   "execution_count": 20,
   "id": "143a3a5b",
   "metadata": {},
   "outputs": [],
   "source": [
    "import plotly.graph_objects as go"
   ]
  },
  {
   "cell_type": "code",
   "execution_count": 28,
   "id": "a4a70fc8",
   "metadata": {},
   "outputs": [
    {
     "data": {
      "application/vnd.plotly.v1+json": {
       "config": {
        "plotlyServerURL": "https://plot.ly"
       },
       "data": [
        {
         "contours": {
          "z": {
           "highlightcolor": "limegreen",
           "project": {
            "z": true
           },
           "show": true,
           "usecolormap": true
          }
         },
         "type": "surface",
         "x": [
          0,
          0.1,
          0.2,
          0.30000000000000004,
          0.4,
          0.5,
          0.6000000000000001,
          0.7000000000000001,
          0.8,
          0.9,
          1,
          1.1,
          1.2000000000000002,
          1.3,
          1.4000000000000001,
          1.5,
          1.6,
          1.7000000000000002,
          1.8,
          1.9000000000000001,
          2,
          2.1,
          2.2,
          2.3000000000000003,
          2.4000000000000004,
          2.5,
          2.6,
          2.7,
          2.8000000000000003,
          2.9000000000000004,
          3,
          3.1
         ],
         "y": [
          0,
          0.1,
          0.2,
          0.30000000000000004,
          0.4,
          0.5,
          0.6000000000000001,
          0.7000000000000001,
          0.8,
          0.9,
          1,
          1.1,
          1.2000000000000002,
          1.3,
          1.4000000000000001,
          1.5,
          1.6,
          1.7000000000000002,
          1.8,
          1.9000000000000001,
          2,
          2.1,
          2.2,
          2.3000000000000003,
          2.4000000000000004,
          2.5,
          2.6,
          2.7,
          2.8000000000000003,
          2.9000000000000004,
          3,
          3.1
         ],
         "z": [
          [
           -3.0016252031503936,
           -2.925518620344914,
           -2.953630796150481,
           -2.96225,
           -2.922865358169771,
           -2.8986123265408175,
           -2.901387326584177,
           -2.9391173896737093,
           -2.8905273681579606,
           -2.8826103262907865,
           -2.90325,
           -2.87775,
           -2.8945,
           -2.98436913842691,
           -2.8641419822522183,
           -2.8605348662834293,
           -2.8946118264783096,
           -2.938117264658082,
           -2.90625,
           -2.8990252436890778,
           -2.879359919989999,
           -2.92025,
           -2.992,
           -2.9361648969394127,
           -2.954,
           -2.9042260565141285,
           -2.9135,
           -2.9408823897012875,
           -2.964120515064383,
           -2.945736434108527,
           -2.9531308586426697,
           -2.9442360590147536
          ],
          [
           -2.973621702712839,
           -2.8981631888041983,
           -2.78875,
           -2.797699424856214,
           -2.74509313664208,
           -2.7764029496312963,
           -2.785848231028879,
           -2.818295426143464,
           -2.8337084271067767,
           -2.87525,
           -2.9183852018497687,
           -2.9476577139287947,
           -2.9176352955880516,
           -2.949,
           -2.962,
           -2.965,
           -2.942632170978628,
           -3.024121984751906,
           -2.97,
           -2.945395476696239,
           -2.953,
           -2.9096362954630672,
           -2.92175,
           -2.9554888722180546,
           -2.92825,
           -2.945381827271591,
           -2.947,
           -2.922134733158355,
           -2.868217054263566,
           -2.87775,
           -2.88225,
           -2.814
          ],
          [
           -3.0181227346581676,
           -2.7831521059867517,
           -2.74825,
           -2.718339792474059,
           -2.63225,
           -2.57032129016127,
           -2.591676040494938,
           -2.6790848856107012,
           -2.6729182295573892,
           -2.7329083864516934,
           -2.8231471066116733,
           -2.8596425446819147,
           -2.941117639704963,
           -2.9909977494373594,
           -3.0453693288338957,
           -3.033370828646419,
           -3.0719019632362135,
           -3.0833854231778974,
           -2.9775,
           -2.992001999500125,
           -2.96125,
           -2.9033629203650455,
           -2.889027743064234,
           -2.882639670041245,
           -2.9515121219695075,
           -2.90775,
           -2.9235,
           -2.9503687960995126,
           -2.93825,
           -2.9081594402099213,
           -2.9086135766970873,
           -2.8586073259157394
          ],
          [
           -2.874109263657957,
           -2.646242340877829,
           -2.565608597850537,
           -2.486560820102513,
           -2.4251062765691422,
           -2.3859517560304964,
           -2.4365,
           -2.520815101887736,
           -2.6119235095613047,
           -2.6570821352669083,
           -2.7825,
           -2.9217695576105975,
           -3.0552638159539884,
           -3.121079595151818,
           -3.186555041859303,
           -3.22925,
           -3.260684828792802,
           -3.265591801024872,
           -3.22625,
           -3.205551387846962,
           -3.1396075490563677,
           -3.115221194701325,
           -3.0833854231778974,
           -3.052368453943257,
           -3.002,
           -3.010126265783223,
           -2.980127484064492,
           -2.96175,
           -2.93376655836041,
           -2.87675,
           -2.762654668166479,
           -2.6999249812453114
          ],
          [
           -2.898387701537308,
           -2.634920634920635,
           -2.530015007503752,
           -2.39425,
           -2.348662834291427,
           -2.280464941882265,
           -2.25125,
           -2.259314828707177,
           -2.26125,
           -2.3767970996374546,
           -2.4790598824853105,
           -2.588676415448069,
           -2.7286589176352956,
           -2.949868733591699,
           -3.09325,
           -3.146643330416302,
           -3.232787704610771,
           -3.228153519189899,
           -3.2428446444194474,
           -3.211,
           -3.193399174896862,
           -3.0856142982127235,
           -3.0758655168103988,
           -2.9729932483120782,
           -2.86575,
           -2.90611326415802,
           -2.920904660752218,
           -2.914364295536942,
           -2.8438945131858517,
           -2.828896387951506,
           -2.71464267866067,
           -2.7026756689172293
          ],
          [
           -2.787446861715429,
           -2.34825,
           -2.300362635988496,
           -2.190547636909227,
           -2.0687671917979493,
           -2.057,
           -2.035,
           -2.108486439195101,
           -2.1792948237059266,
           -2.3595,
           -2.4545,
           -2.61925,
           -2.7446569178852642,
           -2.921019745063734,
           -3.0563679540057493,
           -3.1586845066900087,
           -3.2330958630171227,
           -3.2980745186296576,
           -3.306990121295486,
           -3.35725,
           -3.3355,
           -3.3124140517564697,
           -3.2784794297861697,
           -3.2083489563804526,
           -3.1826021747281588,
           -3.04525,
           -3.036620422447194,
           -2.9968761714357117,
           -2.912771807048238,
           -2.837081459270365,
           -2.66275,
           -2.504810695989004
          ],
          [
           -2.7848481060132517,
           -2.519435070616173,
           -2.407097338498063,
           -2.4196049012253065,
           -2.2872140982377203,
           -2.26525,
           -2.202525315664458,
           -2.210223722034746,
           -2.161270158769846,
           -2.2154192177933276,
           -2.3219597550306212,
           -2.3742032245969256,
           -2.4801899762529684,
           -2.700912385951756,
           -2.8119529882470617,
           -2.935233808452113,
           -2.99925,
           -3.0878640169978753,
           -3.1263907988498563,
           -3.132033008252063,
           -3.1136392049006125,
           -3.0974115293234963,
           -3.0293786723340417,
           -3.000500125031258,
           -2.9786276715410573,
           -2.9275181204698826,
           -2.868217054263566,
           -2.7526559180102486,
           -2.7926509186351707,
           -2.7561554805649293,
           -2.644419447569054,
           -2.600849787553112
          ],
          [
           -2.778902637170354,
           -2.5250656332041506,
           -2.4893776555861034,
           -2.457135716070982,
           -2.412198475190601,
           -2.434445694288214,
           -2.320830207551888,
           -2.348543567945993,
           -2.33125,
           -2.4153019127390922,
           -2.5010626328291035,
           -2.50025,
           -2.567820977622203,
           -2.677584698087261,
           -2.7384076990376203,
           -2.8638579822477808,
           -2.864858107263408,
           -2.9159789947486874,
           -2.9042739315171207,
           -2.959900062460962,
           -2.936367045880735,
           -2.901,
           -2.825853231653957,
           -2.8235,
           -2.7941507311586053,
           -2.794,
           -2.746063484128968,
           -2.6663332916614575,
           -2.630013744845683,
           -2.621327665958245,
           -2.6218277284660583,
           -2.569
          ],
          [
           -2.68192048012003,
           -2.2565641410352586,
           -2.31725,
           -2.3819045238690326,
           -2.437445319335083,
           -2.5113721569607597,
           -2.554,
           -2.632579072384048,
           -2.664,
           -2.776097012126516,
           -2.7902036736223916,
           -2.8372093023255816,
           -2.8186593296648326,
           -2.8373546693336666,
           -2.907636545431821,
           -2.8808898887639045,
           -2.92575,
           -2.8605348662834293,
           -2.820852606575822,
           -2.810898637670291,
           -2.786696674168542,
           -2.7224096987876516,
           -2.6783304173956513,
           -2.59125,
           -2.5383172896612076,
           -2.4325,
           -2.431661873202451,
           -2.4051519319744905,
           -2.3190398799849983,
           -2.341,
           -2.355133174940603,
           -2.340292536567071
          ],
          [
           -2.6988373546693336,
           -2.5586801649793776,
           -2.6809148856392953,
           -2.633091727068233,
           -2.6635829478684836,
           -2.764345543192899,
           -2.77075,
           -2.852356544568071,
           -2.86625,
           -2.9781222652831603,
           -2.9949987496874217,
           -2.982877140357455,
           -3.03925,
           -3.010247438140465,
           -3.1043619547556554,
           -2.9353669208651083,
           -2.813,
           -2.731725602898913,
           -2.6760845105638205,
           -2.531566445805726,
           -2.4715,
           -2.35008752188047,
           -2.27,
           -2.181,
           -2.18675,
           -2.262065516379095,
           -2.3079615048118987,
           -2.271203402551914,
           -2.4034495688038997,
           -2.4743092886610825,
           -2.477690288713911,
           -2.5951487871967993
          ],
          [
           -2.6711644177911045,
           -2.6310922269432644,
           -2.7080729817545612,
           -2.7551887971993,
           -2.78075,
           -2.8264566141535385,
           -2.8371046380797598,
           -2.948631421072366,
           -2.9952511872031993,
           -3.0961370171271407,
           -3.112,
           -3.152355955505562,
           -3.223,
           -3.2483439570053743,
           -3.1791026121734784,
           -3.1391423927991,
           -2.9872468117029256,
           -2.9046130766345795,
           -2.70075,
           -2.5253156644580574,
           -2.410198725159355,
           -2.491684381643116,
           -2.13275,
           -2.0807600950118763,
           -2.020492315381732,
           -2.06075,
           -2.097274318579645,
           -2.1150143767970997,
           -2.2177227846519183,
           -2.3405,
           -2.484621155288822,
           -2.5416822897137856
          ],
          [
           -2.7224096987876516,
           -2.7045,
           -2.75140607424072,
           -2.7800975121890237,
           -2.790151231096113,
           -2.7915,
           -2.80925,
           -2.8869717429357338,
           -2.9172706823294177,
           -3.061234691327168,
           -3.1218597675290587,
           -3.177897237154644,
           -3.308586426696663,
           -3.32016008004002,
           -3.2955,
           -3.318835145606799,
           -3.1213901737717213,
           -3.0388798599824978,
           -2.838145231846019,
           -2.6864141982252217,
           -2.4329458817647795,
           -2.330458692663417,
           -2.1832041989502624,
           -2.137482814648169,
           -1.9535058117735282,
           -2.033,
           -2.0624921884764404,
           -2.167,
           -2.1800225028128515,
           -2.332541567695962,
           -2.474368592148037,
           -2.6031746031746033
          ],
          [
           -2.6806649168853895,
           -2.607946026986507,
           -2.7205900737592197,
           -2.7430928866108264,
           -2.808351043880485,
           -2.836395450568679,
           -2.8429607401850463,
           -2.936,
           -2.997125359330084,
           -3.1128891111388923,
           -3.119419782418407,
           -3.2440944881889764,
           -3.269158644830604,
           -3.373734849431463,
           -3.405898525368658,
           -3.383,
           -3.416145963509123,
           -3.3471632091977006,
           -3.265591801024872,
           -3.137,
           -2.9503687960995126,
           -2.8670751531824434,
           -2.634670666166729,
           -2.5346831646044246,
           -2.304211973503312,
           -2.230721159855018,
           -2.1834541364658837,
           -2.211276409551194,
           -2.1952988247061764,
           -2.23425,
           -2.35270591176103,
           -2.43225
          ],
          [
           -2.694673668417104,
           -2.793099137392174,
           -2.839854981872734,
           -2.83275,
           -2.812195426714982,
           -2.8673584198024753,
           -2.806899137607799,
           -2.81725,
           -2.8469617404351086,
           -2.983504123969008,
           -2.992124015501938,
           -3.0976127984002,
           -3.11175,
           -3.1755,
           -3.2124468882779307,
           -3.2383095773943484,
           -3.25825,
           -3.142857142857143,
           -3.0917729432358088,
           -2.9656292963379576,
           -2.8875281179705072,
           -2.7193201699575105,
           -2.63390847711928,
           -2.568142035508877,
           -2.46911727931983,
           -2.3940492561570195,
           -2.401050131266408,
           -2.4420842184180933,
           -2.46525,
           -2.5098088216918657,
           -2.6204051012753187,
           -2.7227710391396776
          ],
          [
           -2.72325,
           -2.7955,
           -2.8895,
           -2.895835938476929,
           -2.8515,
           -2.905,
           -2.8926384201974753,
           -2.92375,
           -2.8829707426856714,
           -2.856857107138392,
           -3.004998750312422,
           -3.015873015873016,
           -3.0230057514378594,
           -3.1245311327831957,
           -3.11525,
           -3.1492126968257934,
           -3.1782945736434107,
           -3.13725,
           -3.08825,
           -3.08675,
           -2.9886264216972878,
           -2.8885,
           -2.8548568571071384,
           -2.802700675168792,
           -2.7031757939484873,
           -2.6296712910886137,
           -2.6464191976003,
           -2.6284214473190852,
           -2.682085260657582,
           -2.7258407300912615,
           -2.742907136607924,
           -2.837814180317619
          ],
          [
           -2.8505373656585853,
           -2.8577855536115973,
           -2.9155,
           -2.965508622844289,
           -2.954869358669834,
           -2.955,
           -2.937984496124031,
           -3.024378047255907,
           -3.0108709234037234,
           -2.95575,
           -3.022,
           -3.043380422552819,
           -3.0378797349668707,
           -3.1175293823455865,
           -3.079865016872891,
           -3.087364079490064,
           -3.062015503875969,
           -3.075,
           -3.1233904238029755,
           -3.0353794224278037,
           -3.0488688913885764,
           -2.9932466233116557,
           -2.94125,
           -2.919844941853195,
           -2.923769057735566,
           -2.838104763095387,
           -2.8453556694586823,
           -2.868608576072009,
           -2.838959739934984,
           -2.85875,
           -2.877140357455318,
           -2.922404098463076
          ],
          [
           -2.947,
           -3.062632829103638,
           -3.0438914592972366,
           -3.0338707661542306,
           -3.07088386048256,
           -2.9827586206896552,
           -3.0542364408897775,
           -3.06075,
           -3.043,
           -3.0189952511872034,
           -3.059264816204051,
           -3.0498687664041997,
           -3.062882860357545,
           -3.079480129967508,
           -3.0203775471933993,
           -3.0638670166229223,
           -2.9940014996250937,
           -3.00275,
           -3.024756189047262,
           -3.0375093773443362,
           -3.02337792224028,
           -3.0131233595800526,
           -3.0953392477820816,
           -3.07013376672084,
           -3.053,
           -3.0603825478184774,
           -3.025371828521435,
           -3.0675,
           -3.0285,
           -3.0479880029992503,
           -3.0865,
           -3.0365
          ],
          [
           -3.01625,
           -3.0817704426106527,
           -3.108388548568571,
           -3.0153730783652044,
           -2.9855,
           -2.916,
           -3.0011251406425803,
           -2.8899724931232806,
           -2.9162918540729637,
           -2.9481314835645542,
           -2.9824956239059763,
           -2.975993998499625,
           -3.004124484439445,
           -3.04425,
           -3.12275,
           -3.07125,
           -3.1595,
           -3.11325,
           -3.0475118779694923,
           -3.1847961990497624,
           -3.10388798599825,
           -3.0866141732283463,
           -3.123719070232442,
           -3.0929098411904463,
           -3.1451431428928616,
           -3.081959020489755,
           -3.14825,
           -3.13,
           -3.13471632091977,
           -3.14225,
           -3.1203900487560947,
           -3.0646169228846394
          ],
          [
           -3.091909466049769,
           -3.1617095726068483,
           -3.068383547943493,
           -3.002124734408199,
           -2.9551306086739157,
           -2.9161145143142893,
           -2.811,
           -2.7909011373578303,
           -2.8191023877984747,
           -2.787151606049244,
           -2.826043489127718,
           -2.89875,
           -2.8902225556389096,
           -2.97175,
           -3.0311211098612674,
           -3.056,
           -3.1075,
           -3.1338582677165356,
           -3.1565,
           -3.1403574553180853,
           -3.204849393825772,
           -3.25175,
           -3.2274431392151963,
           -3.1631453931741467,
           -3.184453886528368,
           -3.18025,
           -3.244561140285071,
           -3.240155019377422,
           -3.17514689336167,
           -3.2008002000500126,
           -3.2114014251781473,
           -3.1576447055881984
          ],
          [
           -3.2391902024493877,
           -3.27775,
           -3.187,
           -3.145463634091477,
           -3.0686335791973995,
           -3.0276215473065866,
           -2.924115514439305,
           -2.933883264591926,
           -2.8650337415646088,
           -2.7978005498625342,
           -2.7955994499312413,
           -2.8821397325334335,
           -2.8766095761970245,
           -2.92375,
           -2.9713714214276785,
           -3.02862142232221,
           -2.99725,
           -3.0555,
           -3.0608826103262907,
           -3.1411073615798024,
           -3.14185726784152,
           -3.1715428857214305,
           -3.1803975496937116,
           -3.21325,
           -3.2194451387153213,
           -3.202699325168708,
           -3.228903612951619,
           -3.259657457182148,
           -3.24375,
           -3.2093488313960754,
           -3.2464058007250904,
           -3.2355366737473448
          ],
          [
           -3.2809297675581104,
           -3.2429661122921094,
           -3.1768528933883267,
           -3.0267566891722932,
           -2.9395,
           -2.7851962990747685,
           -2.6385,
           -2.59575,
           -2.5330666333291663,
           -2.501438039264724,
           -2.5608597850537365,
           -2.5661084728817793,
           -2.612596850787303,
           -2.67583104223944,
           -2.797849731216402,
           -2.88125,
           -2.92625,
           -2.9645088727818045,
           -3.0651331416427054,
           -3.0733841730216276,
           -3.125609298837645,
           -3.08775,
           -3.1218597675290587,
           -3.163436288608228,
           -3.152711822044489,
           -3.1951493936742095,
           -3.199,
           -3.281660207525941,
           -3.2845,
           -3.27425,
           -3.2900887389076368,
           -3.30625
          ],
          [
           -3.30325,
           -3.261,
           -3.1762059485128717,
           -3.1183897987248406,
           -2.96075,
           -2.9048868891388575,
           -2.84675,
           -2.772039514818057,
           -2.75025,
           -2.70925,
           -2.6828292926768307,
           -2.73975,
           -2.7354338584646163,
           -2.77344336084021,
           -2.7916510436195474,
           -2.8861107638454806,
           -2.89925,
           -2.894361795224403,
           -2.97474368592148,
           -2.9658536585365853,
           -3.02825,
           -3.0736526197323997,
           -3.0983381232037988,
           -3.0492623155788947,
           -3.0903637045369328,
           -3.15775,
           -3.14125,
           -3.15175,
           -3.163,
           -3.17775,
           -3.1633545806774155,
           -3.2879109888736093
          ],
          [
           -3.3708286464191977,
           -3.1841019872515934,
           -3.13839229903738,
           -3.10586176727909,
           -2.92675,
           -2.85175,
           -2.794051487128218,
           -2.778,
           -2.7195,
           -2.744436109027257,
           -2.6818352294036756,
           -2.6864141982252217,
           -2.7298412301537693,
           -2.718660167479065,
           -2.718660167479065,
           -2.728158980127484,
           -2.767095886985873,
           -2.8107026756689173,
           -2.834354294286786,
           -2.699662542182227,
           -2.8505373656585853,
           -2.924403348744221,
           -2.942132233470816,
           -2.9412646838290426,
           -3.0208723909511312,
           -3.0203775471933993,
           -3.071383922990374,
           -3.076134516814602,
           -3.1035,
           -3.123890486310789,
           -3.177691634362886,
           -3.1146393299162396
          ],
          [
           -3.38375,
           -3.1605401350337585,
           -3.1346418302287784,
           -3.10625,
           -3.0057514378594647,
           -2.9378672334041753,
           -2.865608201025128,
           -2.784598074759345,
           -2.798400199975003,
           -2.75675,
           -2.75140607424072,
           -2.692836604575572,
           -2.6818352294036756,
           -2.7299087614048245,
           -2.7800975121890237,
           -2.7433429178647333,
           -2.7725,
           -2.76275,
           -2.8308538567320913,
           -2.7713071732066985,
           -2.786053486628343,
           -2.7779444861215303,
           -2.824206051512878,
           -2.86825,
           -2.914635670541182,
           -2.9476184523065383,
           -2.9750124937531233,
           -3.037,
           -3.0741528073027387,
           -3.10527631907977,
           -3.0983872984123013,
           -3.125968507873032
          ],
          [
           -3.43525,
           -3.3205849268841394,
           -3.26425,
           -3.2155,
           -3.107,
           -3.001375171896487,
           -2.892223055763941,
           -2.7909477369342337,
           -2.737657792775903,
           -2.684,
           -2.6758379189594796,
           -2.5878969742435607,
           -2.57425,
           -2.59475,
           -2.6136931534232883,
           -2.604348912771807,
           -2.51525,
           -2.5591102224443887,
           -2.46275,
           -2.4985,
           -2.516,
           -2.50425,
           -2.4736776291109166,
           -2.5383845961490374,
           -2.598175228096488,
           -2.7354080739907514,
           -2.862,
           -2.9693711713964244,
           -3.1181397674709337,
           -3.16825,
           -3.23875,
           -3.2855893013373327
          ],
          [
           -3.391423927990999,
           -3.2975878015248092,
           -3.2471882029492627,
           -3.22125,
           -3.1613548306461694,
           -3.08525,
           -3.010247438140465,
           -2.943235808952238,
           -2.9305173706573355,
           -2.845961490372593,
           -2.805,
           -2.7486564179477564,
           -2.8008998875140607,
           -2.728341042630329,
           -2.725568607848038,
           -2.6683335416927116,
           -2.6129032258064515,
           -2.59675,
           -2.5511122219445137,
           -2.4438054756844605,
           -2.386201724784402,
           -2.441,
           -2.381702287214098,
           -2.4808101012626578,
           -2.503812976622078,
           -2.647169103862017,
           -2.7341582302212224,
           -2.8681414823147104,
           -2.97975,
           -3.1021377672209027,
           -3.197,
           -3.2876609576197025
          ],
          [
           -3.3418322709661292,
           -3.1745,
           -3.14725,
           -3.157183943978992,
           -3.116610423697038,
           -3.09175,
           -2.9856232029003626,
           -2.98437695288089,
           -2.98812351543943,
           -2.98025,
           -2.9103862017247843,
           -2.9315,
           -2.9128641080135016,
           -2.8993875765529307,
           -2.8765,
           -2.8338957630296213,
           -2.8225443639090226,
           -2.776597074634329,
           -2.7819022622172227,
           -2.7133391673959246,
           -2.68275,
           -2.664166979127609,
           -2.67275,
           -2.6666666666666665,
           -2.663417072865892,
           -2.71525,
           -2.76975,
           -2.8513935758030247,
           -2.923384576927884,
           -3.0445,
           -3.0763845480685084,
           -3.0775
          ],
          [
           -3.271841019872516,
           -3.117580907159815,
           -3.16075,
           -3.1051381422677835,
           -3.0761154855643045,
           -3.078980254936266,
           -3.067383422927866,
           -3.026493376655836,
           -2.9936242030253783,
           -2.9868700762786045,
           -2.9832458114528633,
           -2.99425,
           -2.9368671083885487,
           -2.8818602325290663,
           -2.9012253063265816,
           -2.8583572946618325,
           -2.805701425356339,
           -2.74675,
           -2.674665666791651,
           -2.6633329166145767,
           -2.661082635329416,
           -2.5691788526434194,
           -2.37975,
           -2.563070383797975,
           -2.3719535058117733,
           -2.65275,
           -2.68625,
           -2.72025,
           -2.8733908261467316,
           -2.9588698587323417,
           -3.0539865033741567,
           -3.0845211302825706
          ],
          [
           -3.236904613076635,
           -3.137142142767846,
           -3.0911363920490063,
           -3.0987253186703323,
           -3.075481129717571,
           -3.01675,
           -3.02337792224028,
           -3.0205051262815705,
           -3.0355,
           -3.0213723284589427,
           -2.988,
           -2.9722569357660586,
           -2.95975,
           -2.8913614201775224,
           -2.8995,
           -2.92575,
           -2.858107263407926,
           -2.8181477315335584,
           -2.7526559180102486,
           -2.7194801949269025,
           -2.694,
           -2.599324915614452,
           -2.6214053513378346,
           -2.597925259342582,
           -2.627813906953477,
           -2.6561679790026247,
           -2.6975,
           -2.7831521059867517,
           -2.8262065516379096,
           -2.922115264408051,
           -3.00212579717394,
           -3.0548681414823147
          ],
          [
           -3.204801200300075,
           -3.0875,
           -3.09575,
           -3.1352838209552387,
           -3.062265566391598,
           -3.099612548431446,
           -3.0828853606700837,
           -3.0557639409852464,
           -3.040630078759845,
           -3.0048756094511813,
           -3.018377297162145,
           -3.032241939515121,
           -3.046,
           -2.956,
           -2.988376452943382,
           -2.897137857767779,
           -2.8753282480930347,
           -2.8775306173456636,
           -2.8154538634658666,
           -2.754438609652413,
           -2.7298412301537693,
           -2.6668333541692713,
           -2.6739157605299337,
           -2.6366704161979753,
           -2.63025,
           -2.695576105973507,
           -2.717839729966246,
           -2.78875,
           -2.87085885735717,
           -2.9481314835645542,
           -2.997624703087886,
           -3.0836145481814774
          ],
          [
           -3.084677923702314,
           -3.0041265474552956,
           -3.0726159230096237,
           -3.017627203400425,
           -2.9721354492065477,
           -2.9941257342832146,
           -2.985873234154269,
           -2.9195201199700076,
           -2.892138482689664,
           -2.8628921384826898,
           -2.773693423355839,
           -2.8358955130608674,
           -2.858035491127218,
           -2.8638239339752407,
           -2.829603700462558,
           -2.8345,
           -2.832895888013998,
           -2.8755,
           -2.84275,
           -2.81695423855964,
           -2.83625,
           -2.825543614096476,
           -2.837395325584302,
           -2.804350543817977,
           -2.7894539547669623,
           -2.7665958244780597,
           -2.809,
           -2.8686843421710857,
           -2.917479369842461,
           -2.90625,
           -2.96825,
           -2.9883735466933365
          ],
          [
           -3.0086260782597827,
           -2.9498561960735277,
           -2.9673709213651707,
           -2.989,
           -2.970628671416073,
           -2.93475,
           -2.9395151212196953,
           -2.8766095761970245,
           -2.9026128266033253,
           -2.899050474762619,
           -2.878329373515068,
           -2.8498562320290035,
           -2.8395401149712574,
           -2.9042739315171207,
           -2.8366454193225845,
           -2.9023872015998,
           -2.8565358660334916,
           -2.83745936484121,
           -2.916843816431162,
           -2.8921115139392426,
           -2.9388673584198024,
           -2.9576091034137804,
           -2.854036490877281,
           -2.8905273681579606,
           -2.8727181795448864,
           -2.8827206801700425,
           -2.864,
           -2.882860357544693,
           -2.8665,
           -2.875,
           -2.9242689327668083,
           -2.969878765154356
          ]
         ]
        }
       ],
       "layout": {
        "scene": {
         "xaxis": {
          "title": {
           "text": "γ"
          }
         },
         "yaxis": {
          "title": {
           "text": "β"
          }
         },
         "zaxis": {
          "title": {
           "text": "F(γ,β)"
          }
         }
        },
        "template": {
         "data": {
          "bar": [
           {
            "error_x": {
             "color": "#2a3f5f"
            },
            "error_y": {
             "color": "#2a3f5f"
            },
            "marker": {
             "line": {
              "color": "#E5ECF6",
              "width": 0.5
             },
             "pattern": {
              "fillmode": "overlay",
              "size": 10,
              "solidity": 0.2
             }
            },
            "type": "bar"
           }
          ],
          "barpolar": [
           {
            "marker": {
             "line": {
              "color": "#E5ECF6",
              "width": 0.5
             },
             "pattern": {
              "fillmode": "overlay",
              "size": 10,
              "solidity": 0.2
             }
            },
            "type": "barpolar"
           }
          ],
          "carpet": [
           {
            "aaxis": {
             "endlinecolor": "#2a3f5f",
             "gridcolor": "white",
             "linecolor": "white",
             "minorgridcolor": "white",
             "startlinecolor": "#2a3f5f"
            },
            "baxis": {
             "endlinecolor": "#2a3f5f",
             "gridcolor": "white",
             "linecolor": "white",
             "minorgridcolor": "white",
             "startlinecolor": "#2a3f5f"
            },
            "type": "carpet"
           }
          ],
          "choropleth": [
           {
            "colorbar": {
             "outlinewidth": 0,
             "ticks": ""
            },
            "type": "choropleth"
           }
          ],
          "contour": [
           {
            "colorbar": {
             "outlinewidth": 0,
             "ticks": ""
            },
            "colorscale": [
             [
              0,
              "#0d0887"
             ],
             [
              0.1111111111111111,
              "#46039f"
             ],
             [
              0.2222222222222222,
              "#7201a8"
             ],
             [
              0.3333333333333333,
              "#9c179e"
             ],
             [
              0.4444444444444444,
              "#bd3786"
             ],
             [
              0.5555555555555556,
              "#d8576b"
             ],
             [
              0.6666666666666666,
              "#ed7953"
             ],
             [
              0.7777777777777778,
              "#fb9f3a"
             ],
             [
              0.8888888888888888,
              "#fdca26"
             ],
             [
              1,
              "#f0f921"
             ]
            ],
            "type": "contour"
           }
          ],
          "contourcarpet": [
           {
            "colorbar": {
             "outlinewidth": 0,
             "ticks": ""
            },
            "type": "contourcarpet"
           }
          ],
          "heatmap": [
           {
            "colorbar": {
             "outlinewidth": 0,
             "ticks": ""
            },
            "colorscale": [
             [
              0,
              "#0d0887"
             ],
             [
              0.1111111111111111,
              "#46039f"
             ],
             [
              0.2222222222222222,
              "#7201a8"
             ],
             [
              0.3333333333333333,
              "#9c179e"
             ],
             [
              0.4444444444444444,
              "#bd3786"
             ],
             [
              0.5555555555555556,
              "#d8576b"
             ],
             [
              0.6666666666666666,
              "#ed7953"
             ],
             [
              0.7777777777777778,
              "#fb9f3a"
             ],
             [
              0.8888888888888888,
              "#fdca26"
             ],
             [
              1,
              "#f0f921"
             ]
            ],
            "type": "heatmap"
           }
          ],
          "heatmapgl": [
           {
            "colorbar": {
             "outlinewidth": 0,
             "ticks": ""
            },
            "colorscale": [
             [
              0,
              "#0d0887"
             ],
             [
              0.1111111111111111,
              "#46039f"
             ],
             [
              0.2222222222222222,
              "#7201a8"
             ],
             [
              0.3333333333333333,
              "#9c179e"
             ],
             [
              0.4444444444444444,
              "#bd3786"
             ],
             [
              0.5555555555555556,
              "#d8576b"
             ],
             [
              0.6666666666666666,
              "#ed7953"
             ],
             [
              0.7777777777777778,
              "#fb9f3a"
             ],
             [
              0.8888888888888888,
              "#fdca26"
             ],
             [
              1,
              "#f0f921"
             ]
            ],
            "type": "heatmapgl"
           }
          ],
          "histogram": [
           {
            "marker": {
             "pattern": {
              "fillmode": "overlay",
              "size": 10,
              "solidity": 0.2
             }
            },
            "type": "histogram"
           }
          ],
          "histogram2d": [
           {
            "colorbar": {
             "outlinewidth": 0,
             "ticks": ""
            },
            "colorscale": [
             [
              0,
              "#0d0887"
             ],
             [
              0.1111111111111111,
              "#46039f"
             ],
             [
              0.2222222222222222,
              "#7201a8"
             ],
             [
              0.3333333333333333,
              "#9c179e"
             ],
             [
              0.4444444444444444,
              "#bd3786"
             ],
             [
              0.5555555555555556,
              "#d8576b"
             ],
             [
              0.6666666666666666,
              "#ed7953"
             ],
             [
              0.7777777777777778,
              "#fb9f3a"
             ],
             [
              0.8888888888888888,
              "#fdca26"
             ],
             [
              1,
              "#f0f921"
             ]
            ],
            "type": "histogram2d"
           }
          ],
          "histogram2dcontour": [
           {
            "colorbar": {
             "outlinewidth": 0,
             "ticks": ""
            },
            "colorscale": [
             [
              0,
              "#0d0887"
             ],
             [
              0.1111111111111111,
              "#46039f"
             ],
             [
              0.2222222222222222,
              "#7201a8"
             ],
             [
              0.3333333333333333,
              "#9c179e"
             ],
             [
              0.4444444444444444,
              "#bd3786"
             ],
             [
              0.5555555555555556,
              "#d8576b"
             ],
             [
              0.6666666666666666,
              "#ed7953"
             ],
             [
              0.7777777777777778,
              "#fb9f3a"
             ],
             [
              0.8888888888888888,
              "#fdca26"
             ],
             [
              1,
              "#f0f921"
             ]
            ],
            "type": "histogram2dcontour"
           }
          ],
          "mesh3d": [
           {
            "colorbar": {
             "outlinewidth": 0,
             "ticks": ""
            },
            "type": "mesh3d"
           }
          ],
          "parcoords": [
           {
            "line": {
             "colorbar": {
              "outlinewidth": 0,
              "ticks": ""
             }
            },
            "type": "parcoords"
           }
          ],
          "pie": [
           {
            "automargin": true,
            "type": "pie"
           }
          ],
          "scatter": [
           {
            "marker": {
             "colorbar": {
              "outlinewidth": 0,
              "ticks": ""
             }
            },
            "type": "scatter"
           }
          ],
          "scatter3d": [
           {
            "line": {
             "colorbar": {
              "outlinewidth": 0,
              "ticks": ""
             }
            },
            "marker": {
             "colorbar": {
              "outlinewidth": 0,
              "ticks": ""
             }
            },
            "type": "scatter3d"
           }
          ],
          "scattercarpet": [
           {
            "marker": {
             "colorbar": {
              "outlinewidth": 0,
              "ticks": ""
             }
            },
            "type": "scattercarpet"
           }
          ],
          "scattergeo": [
           {
            "marker": {
             "colorbar": {
              "outlinewidth": 0,
              "ticks": ""
             }
            },
            "type": "scattergeo"
           }
          ],
          "scattergl": [
           {
            "marker": {
             "colorbar": {
              "outlinewidth": 0,
              "ticks": ""
             }
            },
            "type": "scattergl"
           }
          ],
          "scattermapbox": [
           {
            "marker": {
             "colorbar": {
              "outlinewidth": 0,
              "ticks": ""
             }
            },
            "type": "scattermapbox"
           }
          ],
          "scatterpolar": [
           {
            "marker": {
             "colorbar": {
              "outlinewidth": 0,
              "ticks": ""
             }
            },
            "type": "scatterpolar"
           }
          ],
          "scatterpolargl": [
           {
            "marker": {
             "colorbar": {
              "outlinewidth": 0,
              "ticks": ""
             }
            },
            "type": "scatterpolargl"
           }
          ],
          "scatterternary": [
           {
            "marker": {
             "colorbar": {
              "outlinewidth": 0,
              "ticks": ""
             }
            },
            "type": "scatterternary"
           }
          ],
          "surface": [
           {
            "colorbar": {
             "outlinewidth": 0,
             "ticks": ""
            },
            "colorscale": [
             [
              0,
              "#0d0887"
             ],
             [
              0.1111111111111111,
              "#46039f"
             ],
             [
              0.2222222222222222,
              "#7201a8"
             ],
             [
              0.3333333333333333,
              "#9c179e"
             ],
             [
              0.4444444444444444,
              "#bd3786"
             ],
             [
              0.5555555555555556,
              "#d8576b"
             ],
             [
              0.6666666666666666,
              "#ed7953"
             ],
             [
              0.7777777777777778,
              "#fb9f3a"
             ],
             [
              0.8888888888888888,
              "#fdca26"
             ],
             [
              1,
              "#f0f921"
             ]
            ],
            "type": "surface"
           }
          ],
          "table": [
           {
            "cells": {
             "fill": {
              "color": "#EBF0F8"
             },
             "line": {
              "color": "white"
             }
            },
            "header": {
             "fill": {
              "color": "#C8D4E3"
             },
             "line": {
              "color": "white"
             }
            },
            "type": "table"
           }
          ]
         },
         "layout": {
          "annotationdefaults": {
           "arrowcolor": "#2a3f5f",
           "arrowhead": 0,
           "arrowwidth": 1
          },
          "autotypenumbers": "strict",
          "coloraxis": {
           "colorbar": {
            "outlinewidth": 0,
            "ticks": ""
           }
          },
          "colorscale": {
           "diverging": [
            [
             0,
             "#8e0152"
            ],
            [
             0.1,
             "#c51b7d"
            ],
            [
             0.2,
             "#de77ae"
            ],
            [
             0.3,
             "#f1b6da"
            ],
            [
             0.4,
             "#fde0ef"
            ],
            [
             0.5,
             "#f7f7f7"
            ],
            [
             0.6,
             "#e6f5d0"
            ],
            [
             0.7,
             "#b8e186"
            ],
            [
             0.8,
             "#7fbc41"
            ],
            [
             0.9,
             "#4d9221"
            ],
            [
             1,
             "#276419"
            ]
           ],
           "sequential": [
            [
             0,
             "#0d0887"
            ],
            [
             0.1111111111111111,
             "#46039f"
            ],
            [
             0.2222222222222222,
             "#7201a8"
            ],
            [
             0.3333333333333333,
             "#9c179e"
            ],
            [
             0.4444444444444444,
             "#bd3786"
            ],
            [
             0.5555555555555556,
             "#d8576b"
            ],
            [
             0.6666666666666666,
             "#ed7953"
            ],
            [
             0.7777777777777778,
             "#fb9f3a"
            ],
            [
             0.8888888888888888,
             "#fdca26"
            ],
            [
             1,
             "#f0f921"
            ]
           ],
           "sequentialminus": [
            [
             0,
             "#0d0887"
            ],
            [
             0.1111111111111111,
             "#46039f"
            ],
            [
             0.2222222222222222,
             "#7201a8"
            ],
            [
             0.3333333333333333,
             "#9c179e"
            ],
            [
             0.4444444444444444,
             "#bd3786"
            ],
            [
             0.5555555555555556,
             "#d8576b"
            ],
            [
             0.6666666666666666,
             "#ed7953"
            ],
            [
             0.7777777777777778,
             "#fb9f3a"
            ],
            [
             0.8888888888888888,
             "#fdca26"
            ],
            [
             1,
             "#f0f921"
            ]
           ]
          },
          "colorway": [
           "#636efa",
           "#EF553B",
           "#00cc96",
           "#ab63fa",
           "#FFA15A",
           "#19d3f3",
           "#FF6692",
           "#B6E880",
           "#FF97FF",
           "#FECB52"
          ],
          "font": {
           "color": "#2a3f5f"
          },
          "geo": {
           "bgcolor": "white",
           "lakecolor": "white",
           "landcolor": "#E5ECF6",
           "showlakes": true,
           "showland": true,
           "subunitcolor": "white"
          },
          "hoverlabel": {
           "align": "left"
          },
          "hovermode": "closest",
          "mapbox": {
           "style": "light"
          },
          "paper_bgcolor": "white",
          "plot_bgcolor": "#E5ECF6",
          "polar": {
           "angularaxis": {
            "gridcolor": "white",
            "linecolor": "white",
            "ticks": ""
           },
           "bgcolor": "#E5ECF6",
           "radialaxis": {
            "gridcolor": "white",
            "linecolor": "white",
            "ticks": ""
           }
          },
          "scene": {
           "xaxis": {
            "backgroundcolor": "#E5ECF6",
            "gridcolor": "white",
            "gridwidth": 2,
            "linecolor": "white",
            "showbackground": true,
            "ticks": "",
            "zerolinecolor": "white"
           },
           "yaxis": {
            "backgroundcolor": "#E5ECF6",
            "gridcolor": "white",
            "gridwidth": 2,
            "linecolor": "white",
            "showbackground": true,
            "ticks": "",
            "zerolinecolor": "white"
           },
           "zaxis": {
            "backgroundcolor": "#E5ECF6",
            "gridcolor": "white",
            "gridwidth": 2,
            "linecolor": "white",
            "showbackground": true,
            "ticks": "",
            "zerolinecolor": "white"
           }
          },
          "shapedefaults": {
           "line": {
            "color": "#2a3f5f"
           }
          },
          "ternary": {
           "aaxis": {
            "gridcolor": "white",
            "linecolor": "white",
            "ticks": ""
           },
           "baxis": {
            "gridcolor": "white",
            "linecolor": "white",
            "ticks": ""
           },
           "bgcolor": "#E5ECF6",
           "caxis": {
            "gridcolor": "white",
            "linecolor": "white",
            "ticks": ""
           }
          },
          "title": {
           "x": 0.05
          },
          "xaxis": {
           "automargin": true,
           "gridcolor": "white",
           "linecolor": "white",
           "ticks": "",
           "title": {
            "standoff": 15
           },
           "zerolinecolor": "white",
           "zerolinewidth": 2
          },
          "yaxis": {
           "automargin": true,
           "gridcolor": "white",
           "linecolor": "white",
           "ticks": "",
           "title": {
            "standoff": 15
           },
           "zerolinecolor": "white",
           "zerolinewidth": 2
          }
         }
        },
        "title": {
         "text": "QAOA with General Error Mitigation - MaxCut-Landscape"
        }
       }
      },
      "text/html": [
       "<div>                            <div id=\"3cc8ccd6-0f10-42b6-b371-d00d81873622\" class=\"plotly-graph-div\" style=\"height:525px; width:100%;\"></div>            <script type=\"text/javascript\">                require([\"plotly\"], function(Plotly) {                    window.PLOTLYENV=window.PLOTLYENV || {};                                    if (document.getElementById(\"3cc8ccd6-0f10-42b6-b371-d00d81873622\")) {                    Plotly.newPlot(                        \"3cc8ccd6-0f10-42b6-b371-d00d81873622\",                        [{\"contours\":{\"z\":{\"highlightcolor\":\"limegreen\",\"project\":{\"z\":true},\"show\":true,\"usecolormap\":true}},\"type\":\"surface\",\"x\":[0.0,0.1,0.2,0.30000000000000004,0.4,0.5,0.6000000000000001,0.7000000000000001,0.8,0.9,1.0,1.1,1.2000000000000002,1.3,1.4000000000000001,1.5,1.6,1.7000000000000002,1.8,1.9000000000000001,2.0,2.1,2.2,2.3000000000000003,2.4000000000000004,2.5,2.6,2.7,2.8000000000000003,2.9000000000000004,3.0,3.1],\"y\":[0.0,0.1,0.2,0.30000000000000004,0.4,0.5,0.6000000000000001,0.7000000000000001,0.8,0.9,1.0,1.1,1.2000000000000002,1.3,1.4000000000000001,1.5,1.6,1.7000000000000002,1.8,1.9000000000000001,2.0,2.1,2.2,2.3000000000000003,2.4000000000000004,2.5,2.6,2.7,2.8000000000000003,2.9000000000000004,3.0,3.1],\"z\":[[-3.0016252031503936,-2.925518620344914,-2.953630796150481,-2.96225,-2.922865358169771,-2.8986123265408175,-2.901387326584177,-2.9391173896737093,-2.8905273681579606,-2.8826103262907865,-2.90325,-2.87775,-2.8945,-2.98436913842691,-2.8641419822522183,-2.8605348662834293,-2.8946118264783096,-2.938117264658082,-2.90625,-2.8990252436890778,-2.879359919989999,-2.92025,-2.992,-2.9361648969394127,-2.954,-2.9042260565141285,-2.9135,-2.9408823897012875,-2.964120515064383,-2.945736434108527,-2.9531308586426697,-2.9442360590147536],[-2.973621702712839,-2.8981631888041983,-2.78875,-2.797699424856214,-2.74509313664208,-2.7764029496312963,-2.785848231028879,-2.818295426143464,-2.8337084271067767,-2.87525,-2.9183852018497687,-2.9476577139287947,-2.9176352955880516,-2.949,-2.962,-2.965,-2.942632170978628,-3.024121984751906,-2.97,-2.945395476696239,-2.953,-2.9096362954630672,-2.92175,-2.9554888722180546,-2.92825,-2.945381827271591,-2.947,-2.922134733158355,-2.868217054263566,-2.87775,-2.88225,-2.814],[-3.0181227346581676,-2.7831521059867517,-2.74825,-2.718339792474059,-2.63225,-2.57032129016127,-2.591676040494938,-2.6790848856107012,-2.6729182295573892,-2.7329083864516934,-2.8231471066116733,-2.8596425446819147,-2.941117639704963,-2.9909977494373594,-3.0453693288338957,-3.033370828646419,-3.0719019632362135,-3.0833854231778974,-2.9775,-2.992001999500125,-2.96125,-2.9033629203650455,-2.889027743064234,-2.882639670041245,-2.9515121219695075,-2.90775,-2.9235,-2.9503687960995126,-2.93825,-2.9081594402099213,-2.9086135766970873,-2.8586073259157394],[-2.874109263657957,-2.646242340877829,-2.565608597850537,-2.486560820102513,-2.4251062765691422,-2.3859517560304964,-2.4365,-2.520815101887736,-2.6119235095613047,-2.6570821352669083,-2.7825,-2.9217695576105975,-3.0552638159539884,-3.121079595151818,-3.186555041859303,-3.22925,-3.260684828792802,-3.265591801024872,-3.22625,-3.205551387846962,-3.1396075490563677,-3.115221194701325,-3.0833854231778974,-3.052368453943257,-3.002,-3.010126265783223,-2.980127484064492,-2.96175,-2.93376655836041,-2.87675,-2.762654668166479,-2.6999249812453114],[-2.898387701537308,-2.634920634920635,-2.530015007503752,-2.39425,-2.348662834291427,-2.280464941882265,-2.25125,-2.259314828707177,-2.26125,-2.3767970996374546,-2.4790598824853105,-2.588676415448069,-2.7286589176352956,-2.949868733591699,-3.09325,-3.146643330416302,-3.232787704610771,-3.228153519189899,-3.2428446444194474,-3.211,-3.193399174896862,-3.0856142982127235,-3.0758655168103988,-2.9729932483120782,-2.86575,-2.90611326415802,-2.920904660752218,-2.914364295536942,-2.8438945131858517,-2.828896387951506,-2.71464267866067,-2.7026756689172293],[-2.787446861715429,-2.34825,-2.300362635988496,-2.190547636909227,-2.0687671917979493,-2.057,-2.035,-2.108486439195101,-2.1792948237059266,-2.3595,-2.4545,-2.61925,-2.7446569178852642,-2.921019745063734,-3.0563679540057493,-3.1586845066900087,-3.2330958630171227,-3.2980745186296576,-3.306990121295486,-3.35725,-3.3355,-3.3124140517564697,-3.2784794297861697,-3.2083489563804526,-3.1826021747281588,-3.04525,-3.036620422447194,-2.9968761714357117,-2.912771807048238,-2.837081459270365,-2.66275,-2.504810695989004],[-2.7848481060132517,-2.519435070616173,-2.407097338498063,-2.4196049012253065,-2.2872140982377203,-2.26525,-2.202525315664458,-2.210223722034746,-2.161270158769846,-2.2154192177933276,-2.3219597550306212,-2.3742032245969256,-2.4801899762529684,-2.700912385951756,-2.8119529882470617,-2.935233808452113,-2.99925,-3.0878640169978753,-3.1263907988498563,-3.132033008252063,-3.1136392049006125,-3.0974115293234963,-3.0293786723340417,-3.000500125031258,-2.9786276715410573,-2.9275181204698826,-2.868217054263566,-2.7526559180102486,-2.7926509186351707,-2.7561554805649293,-2.644419447569054,-2.600849787553112],[-2.778902637170354,-2.5250656332041506,-2.4893776555861034,-2.457135716070982,-2.412198475190601,-2.434445694288214,-2.320830207551888,-2.348543567945993,-2.33125,-2.4153019127390922,-2.5010626328291035,-2.50025,-2.567820977622203,-2.677584698087261,-2.7384076990376203,-2.8638579822477808,-2.864858107263408,-2.9159789947486874,-2.9042739315171207,-2.959900062460962,-2.936367045880735,-2.901,-2.825853231653957,-2.8235,-2.7941507311586053,-2.794,-2.746063484128968,-2.6663332916614575,-2.630013744845683,-2.621327665958245,-2.6218277284660583,-2.569],[-2.68192048012003,-2.2565641410352586,-2.31725,-2.3819045238690326,-2.437445319335083,-2.5113721569607597,-2.554,-2.632579072384048,-2.664,-2.776097012126516,-2.7902036736223916,-2.8372093023255816,-2.8186593296648326,-2.8373546693336666,-2.907636545431821,-2.8808898887639045,-2.92575,-2.8605348662834293,-2.820852606575822,-2.810898637670291,-2.786696674168542,-2.7224096987876516,-2.6783304173956513,-2.59125,-2.5383172896612076,-2.4325,-2.431661873202451,-2.4051519319744905,-2.3190398799849983,-2.341,-2.355133174940603,-2.340292536567071],[-2.6988373546693336,-2.5586801649793776,-2.6809148856392953,-2.633091727068233,-2.6635829478684836,-2.764345543192899,-2.77075,-2.852356544568071,-2.86625,-2.9781222652831603,-2.9949987496874217,-2.982877140357455,-3.03925,-3.010247438140465,-3.1043619547556554,-2.9353669208651083,-2.813,-2.731725602898913,-2.6760845105638205,-2.531566445805726,-2.4715,-2.35008752188047,-2.27,-2.181,-2.18675,-2.262065516379095,-2.3079615048118987,-2.271203402551914,-2.4034495688038997,-2.4743092886610825,-2.477690288713911,-2.5951487871967993],[-2.6711644177911045,-2.6310922269432644,-2.7080729817545612,-2.7551887971993,-2.78075,-2.8264566141535385,-2.8371046380797598,-2.948631421072366,-2.9952511872031993,-3.0961370171271407,-3.112,-3.152355955505562,-3.223,-3.2483439570053743,-3.1791026121734784,-3.1391423927991,-2.9872468117029256,-2.9046130766345795,-2.70075,-2.5253156644580574,-2.410198725159355,-2.491684381643116,-2.13275,-2.0807600950118763,-2.020492315381732,-2.06075,-2.097274318579645,-2.1150143767970997,-2.2177227846519183,-2.3405,-2.484621155288822,-2.5416822897137856],[-2.7224096987876516,-2.7045,-2.75140607424072,-2.7800975121890237,-2.790151231096113,-2.7915,-2.80925,-2.8869717429357338,-2.9172706823294177,-3.061234691327168,-3.1218597675290587,-3.177897237154644,-3.308586426696663,-3.32016008004002,-3.2955,-3.318835145606799,-3.1213901737717213,-3.0388798599824978,-2.838145231846019,-2.6864141982252217,-2.4329458817647795,-2.330458692663417,-2.1832041989502624,-2.137482814648169,-1.9535058117735282,-2.033,-2.0624921884764404,-2.167,-2.1800225028128515,-2.332541567695962,-2.474368592148037,-2.6031746031746033],[-2.6806649168853895,-2.607946026986507,-2.7205900737592197,-2.7430928866108264,-2.808351043880485,-2.836395450568679,-2.8429607401850463,-2.936,-2.997125359330084,-3.1128891111388923,-3.119419782418407,-3.2440944881889764,-3.269158644830604,-3.373734849431463,-3.405898525368658,-3.383,-3.416145963509123,-3.3471632091977006,-3.265591801024872,-3.137,-2.9503687960995126,-2.8670751531824434,-2.634670666166729,-2.5346831646044246,-2.304211973503312,-2.230721159855018,-2.1834541364658837,-2.211276409551194,-2.1952988247061764,-2.23425,-2.35270591176103,-2.43225],[-2.694673668417104,-2.793099137392174,-2.839854981872734,-2.83275,-2.812195426714982,-2.8673584198024753,-2.806899137607799,-2.81725,-2.8469617404351086,-2.983504123969008,-2.992124015501938,-3.0976127984002,-3.11175,-3.1755,-3.2124468882779307,-3.2383095773943484,-3.25825,-3.142857142857143,-3.0917729432358088,-2.9656292963379576,-2.8875281179705072,-2.7193201699575105,-2.63390847711928,-2.568142035508877,-2.46911727931983,-2.3940492561570195,-2.401050131266408,-2.4420842184180933,-2.46525,-2.5098088216918657,-2.6204051012753187,-2.7227710391396776],[-2.72325,-2.7955,-2.8895,-2.895835938476929,-2.8515,-2.905,-2.8926384201974753,-2.92375,-2.8829707426856714,-2.856857107138392,-3.004998750312422,-3.015873015873016,-3.0230057514378594,-3.1245311327831957,-3.11525,-3.1492126968257934,-3.1782945736434107,-3.13725,-3.08825,-3.08675,-2.9886264216972878,-2.8885,-2.8548568571071384,-2.802700675168792,-2.7031757939484873,-2.6296712910886137,-2.6464191976003,-2.6284214473190852,-2.682085260657582,-2.7258407300912615,-2.742907136607924,-2.837814180317619],[-2.8505373656585853,-2.8577855536115973,-2.9155,-2.965508622844289,-2.954869358669834,-2.955,-2.937984496124031,-3.024378047255907,-3.0108709234037234,-2.95575,-3.022,-3.043380422552819,-3.0378797349668707,-3.1175293823455865,-3.079865016872891,-3.087364079490064,-3.062015503875969,-3.075,-3.1233904238029755,-3.0353794224278037,-3.0488688913885764,-2.9932466233116557,-2.94125,-2.919844941853195,-2.923769057735566,-2.838104763095387,-2.8453556694586823,-2.868608576072009,-2.838959739934984,-2.85875,-2.877140357455318,-2.922404098463076],[-2.947,-3.062632829103638,-3.0438914592972366,-3.0338707661542306,-3.07088386048256,-2.9827586206896552,-3.0542364408897775,-3.06075,-3.043,-3.0189952511872034,-3.059264816204051,-3.0498687664041997,-3.062882860357545,-3.079480129967508,-3.0203775471933993,-3.0638670166229223,-2.9940014996250937,-3.00275,-3.024756189047262,-3.0375093773443362,-3.02337792224028,-3.0131233595800526,-3.0953392477820816,-3.07013376672084,-3.053,-3.0603825478184774,-3.025371828521435,-3.0675,-3.0285,-3.0479880029992503,-3.0865,-3.0365],[-3.01625,-3.0817704426106527,-3.108388548568571,-3.0153730783652044,-2.9855,-2.916,-3.0011251406425803,-2.8899724931232806,-2.9162918540729637,-2.9481314835645542,-2.9824956239059763,-2.975993998499625,-3.004124484439445,-3.04425,-3.12275,-3.07125,-3.1595,-3.11325,-3.0475118779694923,-3.1847961990497624,-3.10388798599825,-3.0866141732283463,-3.123719070232442,-3.0929098411904463,-3.1451431428928616,-3.081959020489755,-3.14825,-3.13,-3.13471632091977,-3.14225,-3.1203900487560947,-3.0646169228846394],[-3.091909466049769,-3.1617095726068483,-3.068383547943493,-3.002124734408199,-2.9551306086739157,-2.9161145143142893,-2.811,-2.7909011373578303,-2.8191023877984747,-2.787151606049244,-2.826043489127718,-2.89875,-2.8902225556389096,-2.97175,-3.0311211098612674,-3.056,-3.1075,-3.1338582677165356,-3.1565,-3.1403574553180853,-3.204849393825772,-3.25175,-3.2274431392151963,-3.1631453931741467,-3.184453886528368,-3.18025,-3.244561140285071,-3.240155019377422,-3.17514689336167,-3.2008002000500126,-3.2114014251781473,-3.1576447055881984],[-3.2391902024493877,-3.27775,-3.187,-3.145463634091477,-3.0686335791973995,-3.0276215473065866,-2.924115514439305,-2.933883264591926,-2.8650337415646088,-2.7978005498625342,-2.7955994499312413,-2.8821397325334335,-2.8766095761970245,-2.92375,-2.9713714214276785,-3.02862142232221,-2.99725,-3.0555,-3.0608826103262907,-3.1411073615798024,-3.14185726784152,-3.1715428857214305,-3.1803975496937116,-3.21325,-3.2194451387153213,-3.202699325168708,-3.228903612951619,-3.259657457182148,-3.24375,-3.2093488313960754,-3.2464058007250904,-3.2355366737473448],[-3.2809297675581104,-3.2429661122921094,-3.1768528933883267,-3.0267566891722932,-2.9395,-2.7851962990747685,-2.6385,-2.59575,-2.5330666333291663,-2.501438039264724,-2.5608597850537365,-2.5661084728817793,-2.612596850787303,-2.67583104223944,-2.797849731216402,-2.88125,-2.92625,-2.9645088727818045,-3.0651331416427054,-3.0733841730216276,-3.125609298837645,-3.08775,-3.1218597675290587,-3.163436288608228,-3.152711822044489,-3.1951493936742095,-3.199,-3.281660207525941,-3.2845,-3.27425,-3.2900887389076368,-3.30625],[-3.30325,-3.261,-3.1762059485128717,-3.1183897987248406,-2.96075,-2.9048868891388575,-2.84675,-2.772039514818057,-2.75025,-2.70925,-2.6828292926768307,-2.73975,-2.7354338584646163,-2.77344336084021,-2.7916510436195474,-2.8861107638454806,-2.89925,-2.894361795224403,-2.97474368592148,-2.9658536585365853,-3.02825,-3.0736526197323997,-3.0983381232037988,-3.0492623155788947,-3.0903637045369328,-3.15775,-3.14125,-3.15175,-3.163,-3.17775,-3.1633545806774155,-3.2879109888736093],[-3.3708286464191977,-3.1841019872515934,-3.13839229903738,-3.10586176727909,-2.92675,-2.85175,-2.794051487128218,-2.778,-2.7195,-2.744436109027257,-2.6818352294036756,-2.6864141982252217,-2.7298412301537693,-2.718660167479065,-2.718660167479065,-2.728158980127484,-2.767095886985873,-2.8107026756689173,-2.834354294286786,-2.699662542182227,-2.8505373656585853,-2.924403348744221,-2.942132233470816,-2.9412646838290426,-3.0208723909511312,-3.0203775471933993,-3.071383922990374,-3.076134516814602,-3.1035,-3.123890486310789,-3.177691634362886,-3.1146393299162396],[-3.38375,-3.1605401350337585,-3.1346418302287784,-3.10625,-3.0057514378594647,-2.9378672334041753,-2.865608201025128,-2.784598074759345,-2.798400199975003,-2.75675,-2.75140607424072,-2.692836604575572,-2.6818352294036756,-2.7299087614048245,-2.7800975121890237,-2.7433429178647333,-2.7725,-2.76275,-2.8308538567320913,-2.7713071732066985,-2.786053486628343,-2.7779444861215303,-2.824206051512878,-2.86825,-2.914635670541182,-2.9476184523065383,-2.9750124937531233,-3.037,-3.0741528073027387,-3.10527631907977,-3.0983872984123013,-3.125968507873032],[-3.43525,-3.3205849268841394,-3.26425,-3.2155,-3.107,-3.001375171896487,-2.892223055763941,-2.7909477369342337,-2.737657792775903,-2.684,-2.6758379189594796,-2.5878969742435607,-2.57425,-2.59475,-2.6136931534232883,-2.604348912771807,-2.51525,-2.5591102224443887,-2.46275,-2.4985,-2.516,-2.50425,-2.4736776291109166,-2.5383845961490374,-2.598175228096488,-2.7354080739907514,-2.862,-2.9693711713964244,-3.1181397674709337,-3.16825,-3.23875,-3.2855893013373327],[-3.391423927990999,-3.2975878015248092,-3.2471882029492627,-3.22125,-3.1613548306461694,-3.08525,-3.010247438140465,-2.943235808952238,-2.9305173706573355,-2.845961490372593,-2.805,-2.7486564179477564,-2.8008998875140607,-2.728341042630329,-2.725568607848038,-2.6683335416927116,-2.6129032258064515,-2.59675,-2.5511122219445137,-2.4438054756844605,-2.386201724784402,-2.441,-2.381702287214098,-2.4808101012626578,-2.503812976622078,-2.647169103862017,-2.7341582302212224,-2.8681414823147104,-2.97975,-3.1021377672209027,-3.197,-3.2876609576197025],[-3.3418322709661292,-3.1745,-3.14725,-3.157183943978992,-3.116610423697038,-3.09175,-2.9856232029003626,-2.98437695288089,-2.98812351543943,-2.98025,-2.9103862017247843,-2.9315,-2.9128641080135016,-2.8993875765529307,-2.8765,-2.8338957630296213,-2.8225443639090226,-2.776597074634329,-2.7819022622172227,-2.7133391673959246,-2.68275,-2.664166979127609,-2.67275,-2.6666666666666665,-2.663417072865892,-2.71525,-2.76975,-2.8513935758030247,-2.923384576927884,-3.0445,-3.0763845480685084,-3.0775],[-3.271841019872516,-3.117580907159815,-3.16075,-3.1051381422677835,-3.0761154855643045,-3.078980254936266,-3.067383422927866,-3.026493376655836,-2.9936242030253783,-2.9868700762786045,-2.9832458114528633,-2.99425,-2.9368671083885487,-2.8818602325290663,-2.9012253063265816,-2.8583572946618325,-2.805701425356339,-2.74675,-2.674665666791651,-2.6633329166145767,-2.661082635329416,-2.5691788526434194,-2.37975,-2.563070383797975,-2.3719535058117733,-2.65275,-2.68625,-2.72025,-2.8733908261467316,-2.9588698587323417,-3.0539865033741567,-3.0845211302825706],[-3.236904613076635,-3.137142142767846,-3.0911363920490063,-3.0987253186703323,-3.075481129717571,-3.01675,-3.02337792224028,-3.0205051262815705,-3.0355,-3.0213723284589427,-2.988,-2.9722569357660586,-2.95975,-2.8913614201775224,-2.8995,-2.92575,-2.858107263407926,-2.8181477315335584,-2.7526559180102486,-2.7194801949269025,-2.694,-2.599324915614452,-2.6214053513378346,-2.597925259342582,-2.627813906953477,-2.6561679790026247,-2.6975,-2.7831521059867517,-2.8262065516379096,-2.922115264408051,-3.00212579717394,-3.0548681414823147],[-3.204801200300075,-3.0875,-3.09575,-3.1352838209552387,-3.062265566391598,-3.099612548431446,-3.0828853606700837,-3.0557639409852464,-3.040630078759845,-3.0048756094511813,-3.018377297162145,-3.032241939515121,-3.046,-2.956,-2.988376452943382,-2.897137857767779,-2.8753282480930347,-2.8775306173456636,-2.8154538634658666,-2.754438609652413,-2.7298412301537693,-2.6668333541692713,-2.6739157605299337,-2.6366704161979753,-2.63025,-2.695576105973507,-2.717839729966246,-2.78875,-2.87085885735717,-2.9481314835645542,-2.997624703087886,-3.0836145481814774],[-3.084677923702314,-3.0041265474552956,-3.0726159230096237,-3.017627203400425,-2.9721354492065477,-2.9941257342832146,-2.985873234154269,-2.9195201199700076,-2.892138482689664,-2.8628921384826898,-2.773693423355839,-2.8358955130608674,-2.858035491127218,-2.8638239339752407,-2.829603700462558,-2.8345,-2.832895888013998,-2.8755,-2.84275,-2.81695423855964,-2.83625,-2.825543614096476,-2.837395325584302,-2.804350543817977,-2.7894539547669623,-2.7665958244780597,-2.809,-2.8686843421710857,-2.917479369842461,-2.90625,-2.96825,-2.9883735466933365],[-3.0086260782597827,-2.9498561960735277,-2.9673709213651707,-2.989,-2.970628671416073,-2.93475,-2.9395151212196953,-2.8766095761970245,-2.9026128266033253,-2.899050474762619,-2.878329373515068,-2.8498562320290035,-2.8395401149712574,-2.9042739315171207,-2.8366454193225845,-2.9023872015998,-2.8565358660334916,-2.83745936484121,-2.916843816431162,-2.8921115139392426,-2.9388673584198024,-2.9576091034137804,-2.854036490877281,-2.8905273681579606,-2.8727181795448864,-2.8827206801700425,-2.864,-2.882860357544693,-2.8665,-2.875,-2.9242689327668083,-2.969878765154356]]}],                        {\"scene\":{\"xaxis\":{\"title\":{\"text\":\"\\u03b3\"}},\"yaxis\":{\"title\":{\"text\":\"\\u03b2\"}},\"zaxis\":{\"title\":{\"text\":\"F(\\u03b3,\\u03b2)\"}}},\"template\":{\"data\":{\"bar\":[{\"error_x\":{\"color\":\"#2a3f5f\"},\"error_y\":{\"color\":\"#2a3f5f\"},\"marker\":{\"line\":{\"color\":\"#E5ECF6\",\"width\":0.5},\"pattern\":{\"fillmode\":\"overlay\",\"size\":10,\"solidity\":0.2}},\"type\":\"bar\"}],\"barpolar\":[{\"marker\":{\"line\":{\"color\":\"#E5ECF6\",\"width\":0.5},\"pattern\":{\"fillmode\":\"overlay\",\"size\":10,\"solidity\":0.2}},\"type\":\"barpolar\"}],\"carpet\":[{\"aaxis\":{\"endlinecolor\":\"#2a3f5f\",\"gridcolor\":\"white\",\"linecolor\":\"white\",\"minorgridcolor\":\"white\",\"startlinecolor\":\"#2a3f5f\"},\"baxis\":{\"endlinecolor\":\"#2a3f5f\",\"gridcolor\":\"white\",\"linecolor\":\"white\",\"minorgridcolor\":\"white\",\"startlinecolor\":\"#2a3f5f\"},\"type\":\"carpet\"}],\"choropleth\":[{\"colorbar\":{\"outlinewidth\":0,\"ticks\":\"\"},\"type\":\"choropleth\"}],\"contour\":[{\"colorbar\":{\"outlinewidth\":0,\"ticks\":\"\"},\"colorscale\":[[0.0,\"#0d0887\"],[0.1111111111111111,\"#46039f\"],[0.2222222222222222,\"#7201a8\"],[0.3333333333333333,\"#9c179e\"],[0.4444444444444444,\"#bd3786\"],[0.5555555555555556,\"#d8576b\"],[0.6666666666666666,\"#ed7953\"],[0.7777777777777778,\"#fb9f3a\"],[0.8888888888888888,\"#fdca26\"],[1.0,\"#f0f921\"]],\"type\":\"contour\"}],\"contourcarpet\":[{\"colorbar\":{\"outlinewidth\":0,\"ticks\":\"\"},\"type\":\"contourcarpet\"}],\"heatmap\":[{\"colorbar\":{\"outlinewidth\":0,\"ticks\":\"\"},\"colorscale\":[[0.0,\"#0d0887\"],[0.1111111111111111,\"#46039f\"],[0.2222222222222222,\"#7201a8\"],[0.3333333333333333,\"#9c179e\"],[0.4444444444444444,\"#bd3786\"],[0.5555555555555556,\"#d8576b\"],[0.6666666666666666,\"#ed7953\"],[0.7777777777777778,\"#fb9f3a\"],[0.8888888888888888,\"#fdca26\"],[1.0,\"#f0f921\"]],\"type\":\"heatmap\"}],\"heatmapgl\":[{\"colorbar\":{\"outlinewidth\":0,\"ticks\":\"\"},\"colorscale\":[[0.0,\"#0d0887\"],[0.1111111111111111,\"#46039f\"],[0.2222222222222222,\"#7201a8\"],[0.3333333333333333,\"#9c179e\"],[0.4444444444444444,\"#bd3786\"],[0.5555555555555556,\"#d8576b\"],[0.6666666666666666,\"#ed7953\"],[0.7777777777777778,\"#fb9f3a\"],[0.8888888888888888,\"#fdca26\"],[1.0,\"#f0f921\"]],\"type\":\"heatmapgl\"}],\"histogram\":[{\"marker\":{\"pattern\":{\"fillmode\":\"overlay\",\"size\":10,\"solidity\":0.2}},\"type\":\"histogram\"}],\"histogram2d\":[{\"colorbar\":{\"outlinewidth\":0,\"ticks\":\"\"},\"colorscale\":[[0.0,\"#0d0887\"],[0.1111111111111111,\"#46039f\"],[0.2222222222222222,\"#7201a8\"],[0.3333333333333333,\"#9c179e\"],[0.4444444444444444,\"#bd3786\"],[0.5555555555555556,\"#d8576b\"],[0.6666666666666666,\"#ed7953\"],[0.7777777777777778,\"#fb9f3a\"],[0.8888888888888888,\"#fdca26\"],[1.0,\"#f0f921\"]],\"type\":\"histogram2d\"}],\"histogram2dcontour\":[{\"colorbar\":{\"outlinewidth\":0,\"ticks\":\"\"},\"colorscale\":[[0.0,\"#0d0887\"],[0.1111111111111111,\"#46039f\"],[0.2222222222222222,\"#7201a8\"],[0.3333333333333333,\"#9c179e\"],[0.4444444444444444,\"#bd3786\"],[0.5555555555555556,\"#d8576b\"],[0.6666666666666666,\"#ed7953\"],[0.7777777777777778,\"#fb9f3a\"],[0.8888888888888888,\"#fdca26\"],[1.0,\"#f0f921\"]],\"type\":\"histogram2dcontour\"}],\"mesh3d\":[{\"colorbar\":{\"outlinewidth\":0,\"ticks\":\"\"},\"type\":\"mesh3d\"}],\"parcoords\":[{\"line\":{\"colorbar\":{\"outlinewidth\":0,\"ticks\":\"\"}},\"type\":\"parcoords\"}],\"pie\":[{\"automargin\":true,\"type\":\"pie\"}],\"scatter\":[{\"marker\":{\"colorbar\":{\"outlinewidth\":0,\"ticks\":\"\"}},\"type\":\"scatter\"}],\"scatter3d\":[{\"line\":{\"colorbar\":{\"outlinewidth\":0,\"ticks\":\"\"}},\"marker\":{\"colorbar\":{\"outlinewidth\":0,\"ticks\":\"\"}},\"type\":\"scatter3d\"}],\"scattercarpet\":[{\"marker\":{\"colorbar\":{\"outlinewidth\":0,\"ticks\":\"\"}},\"type\":\"scattercarpet\"}],\"scattergeo\":[{\"marker\":{\"colorbar\":{\"outlinewidth\":0,\"ticks\":\"\"}},\"type\":\"scattergeo\"}],\"scattergl\":[{\"marker\":{\"colorbar\":{\"outlinewidth\":0,\"ticks\":\"\"}},\"type\":\"scattergl\"}],\"scattermapbox\":[{\"marker\":{\"colorbar\":{\"outlinewidth\":0,\"ticks\":\"\"}},\"type\":\"scattermapbox\"}],\"scatterpolar\":[{\"marker\":{\"colorbar\":{\"outlinewidth\":0,\"ticks\":\"\"}},\"type\":\"scatterpolar\"}],\"scatterpolargl\":[{\"marker\":{\"colorbar\":{\"outlinewidth\":0,\"ticks\":\"\"}},\"type\":\"scatterpolargl\"}],\"scatterternary\":[{\"marker\":{\"colorbar\":{\"outlinewidth\":0,\"ticks\":\"\"}},\"type\":\"scatterternary\"}],\"surface\":[{\"colorbar\":{\"outlinewidth\":0,\"ticks\":\"\"},\"colorscale\":[[0.0,\"#0d0887\"],[0.1111111111111111,\"#46039f\"],[0.2222222222222222,\"#7201a8\"],[0.3333333333333333,\"#9c179e\"],[0.4444444444444444,\"#bd3786\"],[0.5555555555555556,\"#d8576b\"],[0.6666666666666666,\"#ed7953\"],[0.7777777777777778,\"#fb9f3a\"],[0.8888888888888888,\"#fdca26\"],[1.0,\"#f0f921\"]],\"type\":\"surface\"}],\"table\":[{\"cells\":{\"fill\":{\"color\":\"#EBF0F8\"},\"line\":{\"color\":\"white\"}},\"header\":{\"fill\":{\"color\":\"#C8D4E3\"},\"line\":{\"color\":\"white\"}},\"type\":\"table\"}]},\"layout\":{\"annotationdefaults\":{\"arrowcolor\":\"#2a3f5f\",\"arrowhead\":0,\"arrowwidth\":1},\"autotypenumbers\":\"strict\",\"coloraxis\":{\"colorbar\":{\"outlinewidth\":0,\"ticks\":\"\"}},\"colorscale\":{\"diverging\":[[0,\"#8e0152\"],[0.1,\"#c51b7d\"],[0.2,\"#de77ae\"],[0.3,\"#f1b6da\"],[0.4,\"#fde0ef\"],[0.5,\"#f7f7f7\"],[0.6,\"#e6f5d0\"],[0.7,\"#b8e186\"],[0.8,\"#7fbc41\"],[0.9,\"#4d9221\"],[1,\"#276419\"]],\"sequential\":[[0.0,\"#0d0887\"],[0.1111111111111111,\"#46039f\"],[0.2222222222222222,\"#7201a8\"],[0.3333333333333333,\"#9c179e\"],[0.4444444444444444,\"#bd3786\"],[0.5555555555555556,\"#d8576b\"],[0.6666666666666666,\"#ed7953\"],[0.7777777777777778,\"#fb9f3a\"],[0.8888888888888888,\"#fdca26\"],[1.0,\"#f0f921\"]],\"sequentialminus\":[[0.0,\"#0d0887\"],[0.1111111111111111,\"#46039f\"],[0.2222222222222222,\"#7201a8\"],[0.3333333333333333,\"#9c179e\"],[0.4444444444444444,\"#bd3786\"],[0.5555555555555556,\"#d8576b\"],[0.6666666666666666,\"#ed7953\"],[0.7777777777777778,\"#fb9f3a\"],[0.8888888888888888,\"#fdca26\"],[1.0,\"#f0f921\"]]},\"colorway\":[\"#636efa\",\"#EF553B\",\"#00cc96\",\"#ab63fa\",\"#FFA15A\",\"#19d3f3\",\"#FF6692\",\"#B6E880\",\"#FF97FF\",\"#FECB52\"],\"font\":{\"color\":\"#2a3f5f\"},\"geo\":{\"bgcolor\":\"white\",\"lakecolor\":\"white\",\"landcolor\":\"#E5ECF6\",\"showlakes\":true,\"showland\":true,\"subunitcolor\":\"white\"},\"hoverlabel\":{\"align\":\"left\"},\"hovermode\":\"closest\",\"mapbox\":{\"style\":\"light\"},\"paper_bgcolor\":\"white\",\"plot_bgcolor\":\"#E5ECF6\",\"polar\":{\"angularaxis\":{\"gridcolor\":\"white\",\"linecolor\":\"white\",\"ticks\":\"\"},\"bgcolor\":\"#E5ECF6\",\"radialaxis\":{\"gridcolor\":\"white\",\"linecolor\":\"white\",\"ticks\":\"\"}},\"scene\":{\"xaxis\":{\"backgroundcolor\":\"#E5ECF6\",\"gridcolor\":\"white\",\"gridwidth\":2,\"linecolor\":\"white\",\"showbackground\":true,\"ticks\":\"\",\"zerolinecolor\":\"white\"},\"yaxis\":{\"backgroundcolor\":\"#E5ECF6\",\"gridcolor\":\"white\",\"gridwidth\":2,\"linecolor\":\"white\",\"showbackground\":true,\"ticks\":\"\",\"zerolinecolor\":\"white\"},\"zaxis\":{\"backgroundcolor\":\"#E5ECF6\",\"gridcolor\":\"white\",\"gridwidth\":2,\"linecolor\":\"white\",\"showbackground\":true,\"ticks\":\"\",\"zerolinecolor\":\"white\"}},\"shapedefaults\":{\"line\":{\"color\":\"#2a3f5f\"}},\"ternary\":{\"aaxis\":{\"gridcolor\":\"white\",\"linecolor\":\"white\",\"ticks\":\"\"},\"baxis\":{\"gridcolor\":\"white\",\"linecolor\":\"white\",\"ticks\":\"\"},\"bgcolor\":\"#E5ECF6\",\"caxis\":{\"gridcolor\":\"white\",\"linecolor\":\"white\",\"ticks\":\"\"}},\"title\":{\"x\":0.05},\"xaxis\":{\"automargin\":true,\"gridcolor\":\"white\",\"linecolor\":\"white\",\"ticks\":\"\",\"title\":{\"standoff\":15},\"zerolinecolor\":\"white\",\"zerolinewidth\":2},\"yaxis\":{\"automargin\":true,\"gridcolor\":\"white\",\"linecolor\":\"white\",\"ticks\":\"\",\"title\":{\"standoff\":15},\"zerolinecolor\":\"white\",\"zerolinewidth\":2}}},\"title\":{\"text\":\"QAOA with General Error Mitigation - MaxCut-Landscape\"}},                        {\"responsive\": true}                    ).then(function(){\n",
       "                            \n",
       "var gd = document.getElementById('3cc8ccd6-0f10-42b6-b371-d00d81873622');\n",
       "var x = new MutationObserver(function (mutations, observer) {{\n",
       "        var display = window.getComputedStyle(gd).display;\n",
       "        if (!display || display === 'none') {{\n",
       "            console.log([gd, 'removed!']);\n",
       "            Plotly.purge(gd);\n",
       "            observer.disconnect();\n",
       "        }}\n",
       "}});\n",
       "\n",
       "// Listen for the removal of the full notebook cells\n",
       "var notebookContainer = gd.closest('#notebook-container');\n",
       "if (notebookContainer) {{\n",
       "    x.observe(notebookContainer, {childList: true});\n",
       "}}\n",
       "\n",
       "// Listen for the clearing of the current output cell\n",
       "var outputEl = gd.closest('.output');\n",
       "if (outputEl) {{\n",
       "    x.observe(outputEl, {childList: true});\n",
       "}}\n",
       "\n",
       "                        })                };                });            </script>        </div>"
      ]
     },
     "metadata": {},
     "output_type": "display_data"
    }
   ],
   "source": [
    "# Plot landscape in 3D \n",
    "a_gamma = np.arange(0, np.pi, step_size)\n",
    "b_beta = np.arange(0, np.pi, step_size)\n",
    "fig = go.Figure(data=go.Surface(z=landscape, x=a_gamma, y=b_beta))\n",
    "\n",
    "fig.update_traces(contours_z=dict(show=True, usecolormap=True, highlightcolor='limegreen', project_z=True))\n",
    "\n",
    "\n",
    "fig.update_layout(title=\"QAOA with General Error Mitigation - MaxCut-Landscape\", scene=dict(\n",
    "    xaxis_title=\"γ\",\n",
    "    yaxis_title=\"β\",\n",
    "    zaxis_title=\"F(γ,β)\"\n",
    "))"
   ]
  },
  {
   "cell_type": "code",
   "execution_count": 26,
   "id": "7a8d8f7a",
   "metadata": {},
   "outputs": [
    {
     "data": {
      "application/vnd.plotly.v1+json": {
       "config": {
        "plotlyServerURL": "https://plot.ly"
       },
       "data": [
        {
         "colorscale": [
          [
           0,
           "#440154"
          ],
          [
           0.1111111111111111,
           "#482878"
          ],
          [
           0.2222222222222222,
           "#3e4989"
          ],
          [
           0.3333333333333333,
           "#31688e"
          ],
          [
           0.4444444444444444,
           "#26828e"
          ],
          [
           0.5555555555555556,
           "#1f9e89"
          ],
          [
           0.6666666666666666,
           "#35b779"
          ],
          [
           0.7777777777777778,
           "#6ece58"
          ],
          [
           0.8888888888888888,
           "#b5de2b"
          ],
          [
           1,
           "#fde725"
          ]
         ],
         "type": "heatmap",
         "x": [
          0,
          0.1,
          0.2,
          0.30000000000000004,
          0.4,
          0.5,
          0.6000000000000001,
          0.7000000000000001,
          0.8,
          0.9,
          1,
          1.1,
          1.2000000000000002,
          1.3,
          1.4000000000000001,
          1.5,
          1.6,
          1.7000000000000002,
          1.8,
          1.9000000000000001,
          2,
          2.1,
          2.2,
          2.3000000000000003,
          2.4000000000000004,
          2.5,
          2.6,
          2.7,
          2.8000000000000003,
          2.9000000000000004,
          3,
          3.1
         ],
         "y": [
          0,
          0.1,
          0.2,
          0.30000000000000004,
          0.4,
          0.5,
          0.6000000000000001,
          0.7000000000000001,
          0.8,
          0.9,
          1,
          1.1,
          1.2000000000000002,
          1.3,
          1.4000000000000001,
          1.5,
          1.6,
          1.7000000000000002,
          1.8,
          1.9000000000000001,
          2,
          2.1,
          2.2,
          2.3000000000000003,
          2.4000000000000004,
          2.5,
          2.6,
          2.7,
          2.8000000000000003,
          2.9000000000000004,
          3,
          3.1
         ],
         "z": [
          [
           -3.0016252031503936,
           -2.925518620344914,
           -2.953630796150481,
           -2.96225,
           -2.922865358169771,
           -2.8986123265408175,
           -2.901387326584177,
           -2.9391173896737093,
           -2.8905273681579606,
           -2.8826103262907865,
           -2.90325,
           -2.87775,
           -2.8945,
           -2.98436913842691,
           -2.8641419822522183,
           -2.8605348662834293,
           -2.8946118264783096,
           -2.938117264658082,
           -2.90625,
           -2.8990252436890778,
           -2.879359919989999,
           -2.92025,
           -2.992,
           -2.9361648969394127,
           -2.954,
           -2.9042260565141285,
           -2.9135,
           -2.9408823897012875,
           -2.964120515064383,
           -2.945736434108527,
           -2.9531308586426697,
           -2.9442360590147536
          ],
          [
           -2.973621702712839,
           -2.8981631888041983,
           -2.78875,
           -2.797699424856214,
           -2.74509313664208,
           -2.7764029496312963,
           -2.785848231028879,
           -2.818295426143464,
           -2.8337084271067767,
           -2.87525,
           -2.9183852018497687,
           -2.9476577139287947,
           -2.9176352955880516,
           -2.949,
           -2.962,
           -2.965,
           -2.942632170978628,
           -3.024121984751906,
           -2.97,
           -2.945395476696239,
           -2.953,
           -2.9096362954630672,
           -2.92175,
           -2.9554888722180546,
           -2.92825,
           -2.945381827271591,
           -2.947,
           -2.922134733158355,
           -2.868217054263566,
           -2.87775,
           -2.88225,
           -2.814
          ],
          [
           -3.0181227346581676,
           -2.7831521059867517,
           -2.74825,
           -2.718339792474059,
           -2.63225,
           -2.57032129016127,
           -2.591676040494938,
           -2.6790848856107012,
           -2.6729182295573892,
           -2.7329083864516934,
           -2.8231471066116733,
           -2.8596425446819147,
           -2.941117639704963,
           -2.9909977494373594,
           -3.0453693288338957,
           -3.033370828646419,
           -3.0719019632362135,
           -3.0833854231778974,
           -2.9775,
           -2.992001999500125,
           -2.96125,
           -2.9033629203650455,
           -2.889027743064234,
           -2.882639670041245,
           -2.9515121219695075,
           -2.90775,
           -2.9235,
           -2.9503687960995126,
           -2.93825,
           -2.9081594402099213,
           -2.9086135766970873,
           -2.8586073259157394
          ],
          [
           -2.874109263657957,
           -2.646242340877829,
           -2.565608597850537,
           -2.486560820102513,
           -2.4251062765691422,
           -2.3859517560304964,
           -2.4365,
           -2.520815101887736,
           -2.6119235095613047,
           -2.6570821352669083,
           -2.7825,
           -2.9217695576105975,
           -3.0552638159539884,
           -3.121079595151818,
           -3.186555041859303,
           -3.22925,
           -3.260684828792802,
           -3.265591801024872,
           -3.22625,
           -3.205551387846962,
           -3.1396075490563677,
           -3.115221194701325,
           -3.0833854231778974,
           -3.052368453943257,
           -3.002,
           -3.010126265783223,
           -2.980127484064492,
           -2.96175,
           -2.93376655836041,
           -2.87675,
           -2.762654668166479,
           -2.6999249812453114
          ],
          [
           -2.898387701537308,
           -2.634920634920635,
           -2.530015007503752,
           -2.39425,
           -2.348662834291427,
           -2.280464941882265,
           -2.25125,
           -2.259314828707177,
           -2.26125,
           -2.3767970996374546,
           -2.4790598824853105,
           -2.588676415448069,
           -2.7286589176352956,
           -2.949868733591699,
           -3.09325,
           -3.146643330416302,
           -3.232787704610771,
           -3.228153519189899,
           -3.2428446444194474,
           -3.211,
           -3.193399174896862,
           -3.0856142982127235,
           -3.0758655168103988,
           -2.9729932483120782,
           -2.86575,
           -2.90611326415802,
           -2.920904660752218,
           -2.914364295536942,
           -2.8438945131858517,
           -2.828896387951506,
           -2.71464267866067,
           -2.7026756689172293
          ],
          [
           -2.787446861715429,
           -2.34825,
           -2.300362635988496,
           -2.190547636909227,
           -2.0687671917979493,
           -2.057,
           -2.035,
           -2.108486439195101,
           -2.1792948237059266,
           -2.3595,
           -2.4545,
           -2.61925,
           -2.7446569178852642,
           -2.921019745063734,
           -3.0563679540057493,
           -3.1586845066900087,
           -3.2330958630171227,
           -3.2980745186296576,
           -3.306990121295486,
           -3.35725,
           -3.3355,
           -3.3124140517564697,
           -3.2784794297861697,
           -3.2083489563804526,
           -3.1826021747281588,
           -3.04525,
           -3.036620422447194,
           -2.9968761714357117,
           -2.912771807048238,
           -2.837081459270365,
           -2.66275,
           -2.504810695989004
          ],
          [
           -2.7848481060132517,
           -2.519435070616173,
           -2.407097338498063,
           -2.4196049012253065,
           -2.2872140982377203,
           -2.26525,
           -2.202525315664458,
           -2.210223722034746,
           -2.161270158769846,
           -2.2154192177933276,
           -2.3219597550306212,
           -2.3742032245969256,
           -2.4801899762529684,
           -2.700912385951756,
           -2.8119529882470617,
           -2.935233808452113,
           -2.99925,
           -3.0878640169978753,
           -3.1263907988498563,
           -3.132033008252063,
           -3.1136392049006125,
           -3.0974115293234963,
           -3.0293786723340417,
           -3.000500125031258,
           -2.9786276715410573,
           -2.9275181204698826,
           -2.868217054263566,
           -2.7526559180102486,
           -2.7926509186351707,
           -2.7561554805649293,
           -2.644419447569054,
           -2.600849787553112
          ],
          [
           -2.778902637170354,
           -2.5250656332041506,
           -2.4893776555861034,
           -2.457135716070982,
           -2.412198475190601,
           -2.434445694288214,
           -2.320830207551888,
           -2.348543567945993,
           -2.33125,
           -2.4153019127390922,
           -2.5010626328291035,
           -2.50025,
           -2.567820977622203,
           -2.677584698087261,
           -2.7384076990376203,
           -2.8638579822477808,
           -2.864858107263408,
           -2.9159789947486874,
           -2.9042739315171207,
           -2.959900062460962,
           -2.936367045880735,
           -2.901,
           -2.825853231653957,
           -2.8235,
           -2.7941507311586053,
           -2.794,
           -2.746063484128968,
           -2.6663332916614575,
           -2.630013744845683,
           -2.621327665958245,
           -2.6218277284660583,
           -2.569
          ],
          [
           -2.68192048012003,
           -2.2565641410352586,
           -2.31725,
           -2.3819045238690326,
           -2.437445319335083,
           -2.5113721569607597,
           -2.554,
           -2.632579072384048,
           -2.664,
           -2.776097012126516,
           -2.7902036736223916,
           -2.8372093023255816,
           -2.8186593296648326,
           -2.8373546693336666,
           -2.907636545431821,
           -2.8808898887639045,
           -2.92575,
           -2.8605348662834293,
           -2.820852606575822,
           -2.810898637670291,
           -2.786696674168542,
           -2.7224096987876516,
           -2.6783304173956513,
           -2.59125,
           -2.5383172896612076,
           -2.4325,
           -2.431661873202451,
           -2.4051519319744905,
           -2.3190398799849983,
           -2.341,
           -2.355133174940603,
           -2.340292536567071
          ],
          [
           -2.6988373546693336,
           -2.5586801649793776,
           -2.6809148856392953,
           -2.633091727068233,
           -2.6635829478684836,
           -2.764345543192899,
           -2.77075,
           -2.852356544568071,
           -2.86625,
           -2.9781222652831603,
           -2.9949987496874217,
           -2.982877140357455,
           -3.03925,
           -3.010247438140465,
           -3.1043619547556554,
           -2.9353669208651083,
           -2.813,
           -2.731725602898913,
           -2.6760845105638205,
           -2.531566445805726,
           -2.4715,
           -2.35008752188047,
           -2.27,
           -2.181,
           -2.18675,
           -2.262065516379095,
           -2.3079615048118987,
           -2.271203402551914,
           -2.4034495688038997,
           -2.4743092886610825,
           -2.477690288713911,
           -2.5951487871967993
          ],
          [
           -2.6711644177911045,
           -2.6310922269432644,
           -2.7080729817545612,
           -2.7551887971993,
           -2.78075,
           -2.8264566141535385,
           -2.8371046380797598,
           -2.948631421072366,
           -2.9952511872031993,
           -3.0961370171271407,
           -3.112,
           -3.152355955505562,
           -3.223,
           -3.2483439570053743,
           -3.1791026121734784,
           -3.1391423927991,
           -2.9872468117029256,
           -2.9046130766345795,
           -2.70075,
           -2.5253156644580574,
           -2.410198725159355,
           -2.491684381643116,
           -2.13275,
           -2.0807600950118763,
           -2.020492315381732,
           -2.06075,
           -2.097274318579645,
           -2.1150143767970997,
           -2.2177227846519183,
           -2.3405,
           -2.484621155288822,
           -2.5416822897137856
          ],
          [
           -2.7224096987876516,
           -2.7045,
           -2.75140607424072,
           -2.7800975121890237,
           -2.790151231096113,
           -2.7915,
           -2.80925,
           -2.8869717429357338,
           -2.9172706823294177,
           -3.061234691327168,
           -3.1218597675290587,
           -3.177897237154644,
           -3.308586426696663,
           -3.32016008004002,
           -3.2955,
           -3.318835145606799,
           -3.1213901737717213,
           -3.0388798599824978,
           -2.838145231846019,
           -2.6864141982252217,
           -2.4329458817647795,
           -2.330458692663417,
           -2.1832041989502624,
           -2.137482814648169,
           -1.9535058117735282,
           -2.033,
           -2.0624921884764404,
           -2.167,
           -2.1800225028128515,
           -2.332541567695962,
           -2.474368592148037,
           -2.6031746031746033
          ],
          [
           -2.6806649168853895,
           -2.607946026986507,
           -2.7205900737592197,
           -2.7430928866108264,
           -2.808351043880485,
           -2.836395450568679,
           -2.8429607401850463,
           -2.936,
           -2.997125359330084,
           -3.1128891111388923,
           -3.119419782418407,
           -3.2440944881889764,
           -3.269158644830604,
           -3.373734849431463,
           -3.405898525368658,
           -3.383,
           -3.416145963509123,
           -3.3471632091977006,
           -3.265591801024872,
           -3.137,
           -2.9503687960995126,
           -2.8670751531824434,
           -2.634670666166729,
           -2.5346831646044246,
           -2.304211973503312,
           -2.230721159855018,
           -2.1834541364658837,
           -2.211276409551194,
           -2.1952988247061764,
           -2.23425,
           -2.35270591176103,
           -2.43225
          ],
          [
           -2.694673668417104,
           -2.793099137392174,
           -2.839854981872734,
           -2.83275,
           -2.812195426714982,
           -2.8673584198024753,
           -2.806899137607799,
           -2.81725,
           -2.8469617404351086,
           -2.983504123969008,
           -2.992124015501938,
           -3.0976127984002,
           -3.11175,
           -3.1755,
           -3.2124468882779307,
           -3.2383095773943484,
           -3.25825,
           -3.142857142857143,
           -3.0917729432358088,
           -2.9656292963379576,
           -2.8875281179705072,
           -2.7193201699575105,
           -2.63390847711928,
           -2.568142035508877,
           -2.46911727931983,
           -2.3940492561570195,
           -2.401050131266408,
           -2.4420842184180933,
           -2.46525,
           -2.5098088216918657,
           -2.6204051012753187,
           -2.7227710391396776
          ],
          [
           -2.72325,
           -2.7955,
           -2.8895,
           -2.895835938476929,
           -2.8515,
           -2.905,
           -2.8926384201974753,
           -2.92375,
           -2.8829707426856714,
           -2.856857107138392,
           -3.004998750312422,
           -3.015873015873016,
           -3.0230057514378594,
           -3.1245311327831957,
           -3.11525,
           -3.1492126968257934,
           -3.1782945736434107,
           -3.13725,
           -3.08825,
           -3.08675,
           -2.9886264216972878,
           -2.8885,
           -2.8548568571071384,
           -2.802700675168792,
           -2.7031757939484873,
           -2.6296712910886137,
           -2.6464191976003,
           -2.6284214473190852,
           -2.682085260657582,
           -2.7258407300912615,
           -2.742907136607924,
           -2.837814180317619
          ],
          [
           -2.8505373656585853,
           -2.8577855536115973,
           -2.9155,
           -2.965508622844289,
           -2.954869358669834,
           -2.955,
           -2.937984496124031,
           -3.024378047255907,
           -3.0108709234037234,
           -2.95575,
           -3.022,
           -3.043380422552819,
           -3.0378797349668707,
           -3.1175293823455865,
           -3.079865016872891,
           -3.087364079490064,
           -3.062015503875969,
           -3.075,
           -3.1233904238029755,
           -3.0353794224278037,
           -3.0488688913885764,
           -2.9932466233116557,
           -2.94125,
           -2.919844941853195,
           -2.923769057735566,
           -2.838104763095387,
           -2.8453556694586823,
           -2.868608576072009,
           -2.838959739934984,
           -2.85875,
           -2.877140357455318,
           -2.922404098463076
          ],
          [
           -2.947,
           -3.062632829103638,
           -3.0438914592972366,
           -3.0338707661542306,
           -3.07088386048256,
           -2.9827586206896552,
           -3.0542364408897775,
           -3.06075,
           -3.043,
           -3.0189952511872034,
           -3.059264816204051,
           -3.0498687664041997,
           -3.062882860357545,
           -3.079480129967508,
           -3.0203775471933993,
           -3.0638670166229223,
           -2.9940014996250937,
           -3.00275,
           -3.024756189047262,
           -3.0375093773443362,
           -3.02337792224028,
           -3.0131233595800526,
           -3.0953392477820816,
           -3.07013376672084,
           -3.053,
           -3.0603825478184774,
           -3.025371828521435,
           -3.0675,
           -3.0285,
           -3.0479880029992503,
           -3.0865,
           -3.0365
          ],
          [
           -3.01625,
           -3.0817704426106527,
           -3.108388548568571,
           -3.0153730783652044,
           -2.9855,
           -2.916,
           -3.0011251406425803,
           -2.8899724931232806,
           -2.9162918540729637,
           -2.9481314835645542,
           -2.9824956239059763,
           -2.975993998499625,
           -3.004124484439445,
           -3.04425,
           -3.12275,
           -3.07125,
           -3.1595,
           -3.11325,
           -3.0475118779694923,
           -3.1847961990497624,
           -3.10388798599825,
           -3.0866141732283463,
           -3.123719070232442,
           -3.0929098411904463,
           -3.1451431428928616,
           -3.081959020489755,
           -3.14825,
           -3.13,
           -3.13471632091977,
           -3.14225,
           -3.1203900487560947,
           -3.0646169228846394
          ],
          [
           -3.091909466049769,
           -3.1617095726068483,
           -3.068383547943493,
           -3.002124734408199,
           -2.9551306086739157,
           -2.9161145143142893,
           -2.811,
           -2.7909011373578303,
           -2.8191023877984747,
           -2.787151606049244,
           -2.826043489127718,
           -2.89875,
           -2.8902225556389096,
           -2.97175,
           -3.0311211098612674,
           -3.056,
           -3.1075,
           -3.1338582677165356,
           -3.1565,
           -3.1403574553180853,
           -3.204849393825772,
           -3.25175,
           -3.2274431392151963,
           -3.1631453931741467,
           -3.184453886528368,
           -3.18025,
           -3.244561140285071,
           -3.240155019377422,
           -3.17514689336167,
           -3.2008002000500126,
           -3.2114014251781473,
           -3.1576447055881984
          ],
          [
           -3.2391902024493877,
           -3.27775,
           -3.187,
           -3.145463634091477,
           -3.0686335791973995,
           -3.0276215473065866,
           -2.924115514439305,
           -2.933883264591926,
           -2.8650337415646088,
           -2.7978005498625342,
           -2.7955994499312413,
           -2.8821397325334335,
           -2.8766095761970245,
           -2.92375,
           -2.9713714214276785,
           -3.02862142232221,
           -2.99725,
           -3.0555,
           -3.0608826103262907,
           -3.1411073615798024,
           -3.14185726784152,
           -3.1715428857214305,
           -3.1803975496937116,
           -3.21325,
           -3.2194451387153213,
           -3.202699325168708,
           -3.228903612951619,
           -3.259657457182148,
           -3.24375,
           -3.2093488313960754,
           -3.2464058007250904,
           -3.2355366737473448
          ],
          [
           -3.2809297675581104,
           -3.2429661122921094,
           -3.1768528933883267,
           -3.0267566891722932,
           -2.9395,
           -2.7851962990747685,
           -2.6385,
           -2.59575,
           -2.5330666333291663,
           -2.501438039264724,
           -2.5608597850537365,
           -2.5661084728817793,
           -2.612596850787303,
           -2.67583104223944,
           -2.797849731216402,
           -2.88125,
           -2.92625,
           -2.9645088727818045,
           -3.0651331416427054,
           -3.0733841730216276,
           -3.125609298837645,
           -3.08775,
           -3.1218597675290587,
           -3.163436288608228,
           -3.152711822044489,
           -3.1951493936742095,
           -3.199,
           -3.281660207525941,
           -3.2845,
           -3.27425,
           -3.2900887389076368,
           -3.30625
          ],
          [
           -3.30325,
           -3.261,
           -3.1762059485128717,
           -3.1183897987248406,
           -2.96075,
           -2.9048868891388575,
           -2.84675,
           -2.772039514818057,
           -2.75025,
           -2.70925,
           -2.6828292926768307,
           -2.73975,
           -2.7354338584646163,
           -2.77344336084021,
           -2.7916510436195474,
           -2.8861107638454806,
           -2.89925,
           -2.894361795224403,
           -2.97474368592148,
           -2.9658536585365853,
           -3.02825,
           -3.0736526197323997,
           -3.0983381232037988,
           -3.0492623155788947,
           -3.0903637045369328,
           -3.15775,
           -3.14125,
           -3.15175,
           -3.163,
           -3.17775,
           -3.1633545806774155,
           -3.2879109888736093
          ],
          [
           -3.3708286464191977,
           -3.1841019872515934,
           -3.13839229903738,
           -3.10586176727909,
           -2.92675,
           -2.85175,
           -2.794051487128218,
           -2.778,
           -2.7195,
           -2.744436109027257,
           -2.6818352294036756,
           -2.6864141982252217,
           -2.7298412301537693,
           -2.718660167479065,
           -2.718660167479065,
           -2.728158980127484,
           -2.767095886985873,
           -2.8107026756689173,
           -2.834354294286786,
           -2.699662542182227,
           -2.8505373656585853,
           -2.924403348744221,
           -2.942132233470816,
           -2.9412646838290426,
           -3.0208723909511312,
           -3.0203775471933993,
           -3.071383922990374,
           -3.076134516814602,
           -3.1035,
           -3.123890486310789,
           -3.177691634362886,
           -3.1146393299162396
          ],
          [
           -3.38375,
           -3.1605401350337585,
           -3.1346418302287784,
           -3.10625,
           -3.0057514378594647,
           -2.9378672334041753,
           -2.865608201025128,
           -2.784598074759345,
           -2.798400199975003,
           -2.75675,
           -2.75140607424072,
           -2.692836604575572,
           -2.6818352294036756,
           -2.7299087614048245,
           -2.7800975121890237,
           -2.7433429178647333,
           -2.7725,
           -2.76275,
           -2.8308538567320913,
           -2.7713071732066985,
           -2.786053486628343,
           -2.7779444861215303,
           -2.824206051512878,
           -2.86825,
           -2.914635670541182,
           -2.9476184523065383,
           -2.9750124937531233,
           -3.037,
           -3.0741528073027387,
           -3.10527631907977,
           -3.0983872984123013,
           -3.125968507873032
          ],
          [
           -3.43525,
           -3.3205849268841394,
           -3.26425,
           -3.2155,
           -3.107,
           -3.001375171896487,
           -2.892223055763941,
           -2.7909477369342337,
           -2.737657792775903,
           -2.684,
           -2.6758379189594796,
           -2.5878969742435607,
           -2.57425,
           -2.59475,
           -2.6136931534232883,
           -2.604348912771807,
           -2.51525,
           -2.5591102224443887,
           -2.46275,
           -2.4985,
           -2.516,
           -2.50425,
           -2.4736776291109166,
           -2.5383845961490374,
           -2.598175228096488,
           -2.7354080739907514,
           -2.862,
           -2.9693711713964244,
           -3.1181397674709337,
           -3.16825,
           -3.23875,
           -3.2855893013373327
          ],
          [
           -3.391423927990999,
           -3.2975878015248092,
           -3.2471882029492627,
           -3.22125,
           -3.1613548306461694,
           -3.08525,
           -3.010247438140465,
           -2.943235808952238,
           -2.9305173706573355,
           -2.845961490372593,
           -2.805,
           -2.7486564179477564,
           -2.8008998875140607,
           -2.728341042630329,
           -2.725568607848038,
           -2.6683335416927116,
           -2.6129032258064515,
           -2.59675,
           -2.5511122219445137,
           -2.4438054756844605,
           -2.386201724784402,
           -2.441,
           -2.381702287214098,
           -2.4808101012626578,
           -2.503812976622078,
           -2.647169103862017,
           -2.7341582302212224,
           -2.8681414823147104,
           -2.97975,
           -3.1021377672209027,
           -3.197,
           -3.2876609576197025
          ],
          [
           -3.3418322709661292,
           -3.1745,
           -3.14725,
           -3.157183943978992,
           -3.116610423697038,
           -3.09175,
           -2.9856232029003626,
           -2.98437695288089,
           -2.98812351543943,
           -2.98025,
           -2.9103862017247843,
           -2.9315,
           -2.9128641080135016,
           -2.8993875765529307,
           -2.8765,
           -2.8338957630296213,
           -2.8225443639090226,
           -2.776597074634329,
           -2.7819022622172227,
           -2.7133391673959246,
           -2.68275,
           -2.664166979127609,
           -2.67275,
           -2.6666666666666665,
           -2.663417072865892,
           -2.71525,
           -2.76975,
           -2.8513935758030247,
           -2.923384576927884,
           -3.0445,
           -3.0763845480685084,
           -3.0775
          ],
          [
           -3.271841019872516,
           -3.117580907159815,
           -3.16075,
           -3.1051381422677835,
           -3.0761154855643045,
           -3.078980254936266,
           -3.067383422927866,
           -3.026493376655836,
           -2.9936242030253783,
           -2.9868700762786045,
           -2.9832458114528633,
           -2.99425,
           -2.9368671083885487,
           -2.8818602325290663,
           -2.9012253063265816,
           -2.8583572946618325,
           -2.805701425356339,
           -2.74675,
           -2.674665666791651,
           -2.6633329166145767,
           -2.661082635329416,
           -2.5691788526434194,
           -2.37975,
           -2.563070383797975,
           -2.3719535058117733,
           -2.65275,
           -2.68625,
           -2.72025,
           -2.8733908261467316,
           -2.9588698587323417,
           -3.0539865033741567,
           -3.0845211302825706
          ],
          [
           -3.236904613076635,
           -3.137142142767846,
           -3.0911363920490063,
           -3.0987253186703323,
           -3.075481129717571,
           -3.01675,
           -3.02337792224028,
           -3.0205051262815705,
           -3.0355,
           -3.0213723284589427,
           -2.988,
           -2.9722569357660586,
           -2.95975,
           -2.8913614201775224,
           -2.8995,
           -2.92575,
           -2.858107263407926,
           -2.8181477315335584,
           -2.7526559180102486,
           -2.7194801949269025,
           -2.694,
           -2.599324915614452,
           -2.6214053513378346,
           -2.597925259342582,
           -2.627813906953477,
           -2.6561679790026247,
           -2.6975,
           -2.7831521059867517,
           -2.8262065516379096,
           -2.922115264408051,
           -3.00212579717394,
           -3.0548681414823147
          ],
          [
           -3.204801200300075,
           -3.0875,
           -3.09575,
           -3.1352838209552387,
           -3.062265566391598,
           -3.099612548431446,
           -3.0828853606700837,
           -3.0557639409852464,
           -3.040630078759845,
           -3.0048756094511813,
           -3.018377297162145,
           -3.032241939515121,
           -3.046,
           -2.956,
           -2.988376452943382,
           -2.897137857767779,
           -2.8753282480930347,
           -2.8775306173456636,
           -2.8154538634658666,
           -2.754438609652413,
           -2.7298412301537693,
           -2.6668333541692713,
           -2.6739157605299337,
           -2.6366704161979753,
           -2.63025,
           -2.695576105973507,
           -2.717839729966246,
           -2.78875,
           -2.87085885735717,
           -2.9481314835645542,
           -2.997624703087886,
           -3.0836145481814774
          ],
          [
           -3.084677923702314,
           -3.0041265474552956,
           -3.0726159230096237,
           -3.017627203400425,
           -2.9721354492065477,
           -2.9941257342832146,
           -2.985873234154269,
           -2.9195201199700076,
           -2.892138482689664,
           -2.8628921384826898,
           -2.773693423355839,
           -2.8358955130608674,
           -2.858035491127218,
           -2.8638239339752407,
           -2.829603700462558,
           -2.8345,
           -2.832895888013998,
           -2.8755,
           -2.84275,
           -2.81695423855964,
           -2.83625,
           -2.825543614096476,
           -2.837395325584302,
           -2.804350543817977,
           -2.7894539547669623,
           -2.7665958244780597,
           -2.809,
           -2.8686843421710857,
           -2.917479369842461,
           -2.90625,
           -2.96825,
           -2.9883735466933365
          ],
          [
           -3.0086260782597827,
           -2.9498561960735277,
           -2.9673709213651707,
           -2.989,
           -2.970628671416073,
           -2.93475,
           -2.9395151212196953,
           -2.8766095761970245,
           -2.9026128266033253,
           -2.899050474762619,
           -2.878329373515068,
           -2.8498562320290035,
           -2.8395401149712574,
           -2.9042739315171207,
           -2.8366454193225845,
           -2.9023872015998,
           -2.8565358660334916,
           -2.83745936484121,
           -2.916843816431162,
           -2.8921115139392426,
           -2.9388673584198024,
           -2.9576091034137804,
           -2.854036490877281,
           -2.8905273681579606,
           -2.8727181795448864,
           -2.8827206801700425,
           -2.864,
           -2.882860357544693,
           -2.8665,
           -2.875,
           -2.9242689327668083,
           -2.969878765154356
          ]
         ]
        },
        {
         "hovertemplate": "x: %{x}<br>y: %{y}<br> z: %{text:.2f}<extra></extra>",
         "marker": {
          "color": "red",
          "line": {
           "width": 1
          },
          "size": 16,
          "symbol": [
           204
          ]
         },
         "mode": "markers",
         "text": [
          "-3.43525"
         ],
         "type": "scatter",
         "x": [
          0
         ],
         "y": [
          2.4000000000000004
         ]
        }
       ],
       "layout": {
        "height": 700,
        "template": {
         "data": {
          "bar": [
           {
            "error_x": {
             "color": "#2a3f5f"
            },
            "error_y": {
             "color": "#2a3f5f"
            },
            "marker": {
             "line": {
              "color": "#E5ECF6",
              "width": 0.5
             },
             "pattern": {
              "fillmode": "overlay",
              "size": 10,
              "solidity": 0.2
             }
            },
            "type": "bar"
           }
          ],
          "barpolar": [
           {
            "marker": {
             "line": {
              "color": "#E5ECF6",
              "width": 0.5
             },
             "pattern": {
              "fillmode": "overlay",
              "size": 10,
              "solidity": 0.2
             }
            },
            "type": "barpolar"
           }
          ],
          "carpet": [
           {
            "aaxis": {
             "endlinecolor": "#2a3f5f",
             "gridcolor": "white",
             "linecolor": "white",
             "minorgridcolor": "white",
             "startlinecolor": "#2a3f5f"
            },
            "baxis": {
             "endlinecolor": "#2a3f5f",
             "gridcolor": "white",
             "linecolor": "white",
             "minorgridcolor": "white",
             "startlinecolor": "#2a3f5f"
            },
            "type": "carpet"
           }
          ],
          "choropleth": [
           {
            "colorbar": {
             "outlinewidth": 0,
             "ticks": ""
            },
            "type": "choropleth"
           }
          ],
          "contour": [
           {
            "colorbar": {
             "outlinewidth": 0,
             "ticks": ""
            },
            "colorscale": [
             [
              0,
              "#0d0887"
             ],
             [
              0.1111111111111111,
              "#46039f"
             ],
             [
              0.2222222222222222,
              "#7201a8"
             ],
             [
              0.3333333333333333,
              "#9c179e"
             ],
             [
              0.4444444444444444,
              "#bd3786"
             ],
             [
              0.5555555555555556,
              "#d8576b"
             ],
             [
              0.6666666666666666,
              "#ed7953"
             ],
             [
              0.7777777777777778,
              "#fb9f3a"
             ],
             [
              0.8888888888888888,
              "#fdca26"
             ],
             [
              1,
              "#f0f921"
             ]
            ],
            "type": "contour"
           }
          ],
          "contourcarpet": [
           {
            "colorbar": {
             "outlinewidth": 0,
             "ticks": ""
            },
            "type": "contourcarpet"
           }
          ],
          "heatmap": [
           {
            "colorbar": {
             "outlinewidth": 0,
             "ticks": ""
            },
            "colorscale": [
             [
              0,
              "#0d0887"
             ],
             [
              0.1111111111111111,
              "#46039f"
             ],
             [
              0.2222222222222222,
              "#7201a8"
             ],
             [
              0.3333333333333333,
              "#9c179e"
             ],
             [
              0.4444444444444444,
              "#bd3786"
             ],
             [
              0.5555555555555556,
              "#d8576b"
             ],
             [
              0.6666666666666666,
              "#ed7953"
             ],
             [
              0.7777777777777778,
              "#fb9f3a"
             ],
             [
              0.8888888888888888,
              "#fdca26"
             ],
             [
              1,
              "#f0f921"
             ]
            ],
            "type": "heatmap"
           }
          ],
          "heatmapgl": [
           {
            "colorbar": {
             "outlinewidth": 0,
             "ticks": ""
            },
            "colorscale": [
             [
              0,
              "#0d0887"
             ],
             [
              0.1111111111111111,
              "#46039f"
             ],
             [
              0.2222222222222222,
              "#7201a8"
             ],
             [
              0.3333333333333333,
              "#9c179e"
             ],
             [
              0.4444444444444444,
              "#bd3786"
             ],
             [
              0.5555555555555556,
              "#d8576b"
             ],
             [
              0.6666666666666666,
              "#ed7953"
             ],
             [
              0.7777777777777778,
              "#fb9f3a"
             ],
             [
              0.8888888888888888,
              "#fdca26"
             ],
             [
              1,
              "#f0f921"
             ]
            ],
            "type": "heatmapgl"
           }
          ],
          "histogram": [
           {
            "marker": {
             "pattern": {
              "fillmode": "overlay",
              "size": 10,
              "solidity": 0.2
             }
            },
            "type": "histogram"
           }
          ],
          "histogram2d": [
           {
            "colorbar": {
             "outlinewidth": 0,
             "ticks": ""
            },
            "colorscale": [
             [
              0,
              "#0d0887"
             ],
             [
              0.1111111111111111,
              "#46039f"
             ],
             [
              0.2222222222222222,
              "#7201a8"
             ],
             [
              0.3333333333333333,
              "#9c179e"
             ],
             [
              0.4444444444444444,
              "#bd3786"
             ],
             [
              0.5555555555555556,
              "#d8576b"
             ],
             [
              0.6666666666666666,
              "#ed7953"
             ],
             [
              0.7777777777777778,
              "#fb9f3a"
             ],
             [
              0.8888888888888888,
              "#fdca26"
             ],
             [
              1,
              "#f0f921"
             ]
            ],
            "type": "histogram2d"
           }
          ],
          "histogram2dcontour": [
           {
            "colorbar": {
             "outlinewidth": 0,
             "ticks": ""
            },
            "colorscale": [
             [
              0,
              "#0d0887"
             ],
             [
              0.1111111111111111,
              "#46039f"
             ],
             [
              0.2222222222222222,
              "#7201a8"
             ],
             [
              0.3333333333333333,
              "#9c179e"
             ],
             [
              0.4444444444444444,
              "#bd3786"
             ],
             [
              0.5555555555555556,
              "#d8576b"
             ],
             [
              0.6666666666666666,
              "#ed7953"
             ],
             [
              0.7777777777777778,
              "#fb9f3a"
             ],
             [
              0.8888888888888888,
              "#fdca26"
             ],
             [
              1,
              "#f0f921"
             ]
            ],
            "type": "histogram2dcontour"
           }
          ],
          "mesh3d": [
           {
            "colorbar": {
             "outlinewidth": 0,
             "ticks": ""
            },
            "type": "mesh3d"
           }
          ],
          "parcoords": [
           {
            "line": {
             "colorbar": {
              "outlinewidth": 0,
              "ticks": ""
             }
            },
            "type": "parcoords"
           }
          ],
          "pie": [
           {
            "automargin": true,
            "type": "pie"
           }
          ],
          "scatter": [
           {
            "marker": {
             "colorbar": {
              "outlinewidth": 0,
              "ticks": ""
             }
            },
            "type": "scatter"
           }
          ],
          "scatter3d": [
           {
            "line": {
             "colorbar": {
              "outlinewidth": 0,
              "ticks": ""
             }
            },
            "marker": {
             "colorbar": {
              "outlinewidth": 0,
              "ticks": ""
             }
            },
            "type": "scatter3d"
           }
          ],
          "scattercarpet": [
           {
            "marker": {
             "colorbar": {
              "outlinewidth": 0,
              "ticks": ""
             }
            },
            "type": "scattercarpet"
           }
          ],
          "scattergeo": [
           {
            "marker": {
             "colorbar": {
              "outlinewidth": 0,
              "ticks": ""
             }
            },
            "type": "scattergeo"
           }
          ],
          "scattergl": [
           {
            "marker": {
             "colorbar": {
              "outlinewidth": 0,
              "ticks": ""
             }
            },
            "type": "scattergl"
           }
          ],
          "scattermapbox": [
           {
            "marker": {
             "colorbar": {
              "outlinewidth": 0,
              "ticks": ""
             }
            },
            "type": "scattermapbox"
           }
          ],
          "scatterpolar": [
           {
            "marker": {
             "colorbar": {
              "outlinewidth": 0,
              "ticks": ""
             }
            },
            "type": "scatterpolar"
           }
          ],
          "scatterpolargl": [
           {
            "marker": {
             "colorbar": {
              "outlinewidth": 0,
              "ticks": ""
             }
            },
            "type": "scatterpolargl"
           }
          ],
          "scatterternary": [
           {
            "marker": {
             "colorbar": {
              "outlinewidth": 0,
              "ticks": ""
             }
            },
            "type": "scatterternary"
           }
          ],
          "surface": [
           {
            "colorbar": {
             "outlinewidth": 0,
             "ticks": ""
            },
            "colorscale": [
             [
              0,
              "#0d0887"
             ],
             [
              0.1111111111111111,
              "#46039f"
             ],
             [
              0.2222222222222222,
              "#7201a8"
             ],
             [
              0.3333333333333333,
              "#9c179e"
             ],
             [
              0.4444444444444444,
              "#bd3786"
             ],
             [
              0.5555555555555556,
              "#d8576b"
             ],
             [
              0.6666666666666666,
              "#ed7953"
             ],
             [
              0.7777777777777778,
              "#fb9f3a"
             ],
             [
              0.8888888888888888,
              "#fdca26"
             ],
             [
              1,
              "#f0f921"
             ]
            ],
            "type": "surface"
           }
          ],
          "table": [
           {
            "cells": {
             "fill": {
              "color": "#EBF0F8"
             },
             "line": {
              "color": "white"
             }
            },
            "header": {
             "fill": {
              "color": "#C8D4E3"
             },
             "line": {
              "color": "white"
             }
            },
            "type": "table"
           }
          ]
         },
         "layout": {
          "annotationdefaults": {
           "arrowcolor": "#2a3f5f",
           "arrowhead": 0,
           "arrowwidth": 1
          },
          "autotypenumbers": "strict",
          "coloraxis": {
           "colorbar": {
            "outlinewidth": 0,
            "ticks": ""
           }
          },
          "colorscale": {
           "diverging": [
            [
             0,
             "#8e0152"
            ],
            [
             0.1,
             "#c51b7d"
            ],
            [
             0.2,
             "#de77ae"
            ],
            [
             0.3,
             "#f1b6da"
            ],
            [
             0.4,
             "#fde0ef"
            ],
            [
             0.5,
             "#f7f7f7"
            ],
            [
             0.6,
             "#e6f5d0"
            ],
            [
             0.7,
             "#b8e186"
            ],
            [
             0.8,
             "#7fbc41"
            ],
            [
             0.9,
             "#4d9221"
            ],
            [
             1,
             "#276419"
            ]
           ],
           "sequential": [
            [
             0,
             "#0d0887"
            ],
            [
             0.1111111111111111,
             "#46039f"
            ],
            [
             0.2222222222222222,
             "#7201a8"
            ],
            [
             0.3333333333333333,
             "#9c179e"
            ],
            [
             0.4444444444444444,
             "#bd3786"
            ],
            [
             0.5555555555555556,
             "#d8576b"
            ],
            [
             0.6666666666666666,
             "#ed7953"
            ],
            [
             0.7777777777777778,
             "#fb9f3a"
            ],
            [
             0.8888888888888888,
             "#fdca26"
            ],
            [
             1,
             "#f0f921"
            ]
           ],
           "sequentialminus": [
            [
             0,
             "#0d0887"
            ],
            [
             0.1111111111111111,
             "#46039f"
            ],
            [
             0.2222222222222222,
             "#7201a8"
            ],
            [
             0.3333333333333333,
             "#9c179e"
            ],
            [
             0.4444444444444444,
             "#bd3786"
            ],
            [
             0.5555555555555556,
             "#d8576b"
            ],
            [
             0.6666666666666666,
             "#ed7953"
            ],
            [
             0.7777777777777778,
             "#fb9f3a"
            ],
            [
             0.8888888888888888,
             "#fdca26"
            ],
            [
             1,
             "#f0f921"
            ]
           ]
          },
          "colorway": [
           "#636efa",
           "#EF553B",
           "#00cc96",
           "#ab63fa",
           "#FFA15A",
           "#19d3f3",
           "#FF6692",
           "#B6E880",
           "#FF97FF",
           "#FECB52"
          ],
          "font": {
           "color": "#2a3f5f"
          },
          "geo": {
           "bgcolor": "white",
           "lakecolor": "white",
           "landcolor": "#E5ECF6",
           "showlakes": true,
           "showland": true,
           "subunitcolor": "white"
          },
          "hoverlabel": {
           "align": "left"
          },
          "hovermode": "closest",
          "mapbox": {
           "style": "light"
          },
          "paper_bgcolor": "white",
          "plot_bgcolor": "#E5ECF6",
          "polar": {
           "angularaxis": {
            "gridcolor": "white",
            "linecolor": "white",
            "ticks": ""
           },
           "bgcolor": "#E5ECF6",
           "radialaxis": {
            "gridcolor": "white",
            "linecolor": "white",
            "ticks": ""
           }
          },
          "scene": {
           "xaxis": {
            "backgroundcolor": "#E5ECF6",
            "gridcolor": "white",
            "gridwidth": 2,
            "linecolor": "white",
            "showbackground": true,
            "ticks": "",
            "zerolinecolor": "white"
           },
           "yaxis": {
            "backgroundcolor": "#E5ECF6",
            "gridcolor": "white",
            "gridwidth": 2,
            "linecolor": "white",
            "showbackground": true,
            "ticks": "",
            "zerolinecolor": "white"
           },
           "zaxis": {
            "backgroundcolor": "#E5ECF6",
            "gridcolor": "white",
            "gridwidth": 2,
            "linecolor": "white",
            "showbackground": true,
            "ticks": "",
            "zerolinecolor": "white"
           }
          },
          "shapedefaults": {
           "line": {
            "color": "#2a3f5f"
           }
          },
          "ternary": {
           "aaxis": {
            "gridcolor": "white",
            "linecolor": "white",
            "ticks": ""
           },
           "baxis": {
            "gridcolor": "white",
            "linecolor": "white",
            "ticks": ""
           },
           "bgcolor": "#E5ECF6",
           "caxis": {
            "gridcolor": "white",
            "linecolor": "white",
            "ticks": ""
           }
          },
          "title": {
           "x": 0.05
          },
          "xaxis": {
           "automargin": true,
           "gridcolor": "white",
           "linecolor": "white",
           "ticks": "",
           "title": {
            "standoff": 15
           },
           "zerolinecolor": "white",
           "zerolinewidth": 2
          },
          "yaxis": {
           "automargin": true,
           "gridcolor": "white",
           "linecolor": "white",
           "ticks": "",
           "title": {
            "standoff": 15
           },
           "zerolinecolor": "white",
           "zerolinewidth": 2
          }
         }
        },
        "title": {
         "text": "F(γ,β)"
        },
        "width": 700,
        "xaxis": {
         "title": {
          "text": "γ"
         }
        },
        "yaxis": {
         "title": {
          "text": "β"
         }
        }
       }
      },
      "text/html": [
       "<div>                            <div id=\"7a6fc0a1-a2e4-4341-ba09-f750d206ab7d\" class=\"plotly-graph-div\" style=\"height:700px; width:700px;\"></div>            <script type=\"text/javascript\">                require([\"plotly\"], function(Plotly) {                    window.PLOTLYENV=window.PLOTLYENV || {};                                    if (document.getElementById(\"7a6fc0a1-a2e4-4341-ba09-f750d206ab7d\")) {                    Plotly.newPlot(                        \"7a6fc0a1-a2e4-4341-ba09-f750d206ab7d\",                        [{\"colorscale\":[[0.0,\"#440154\"],[0.1111111111111111,\"#482878\"],[0.2222222222222222,\"#3e4989\"],[0.3333333333333333,\"#31688e\"],[0.4444444444444444,\"#26828e\"],[0.5555555555555556,\"#1f9e89\"],[0.6666666666666666,\"#35b779\"],[0.7777777777777778,\"#6ece58\"],[0.8888888888888888,\"#b5de2b\"],[1.0,\"#fde725\"]],\"type\":\"heatmap\",\"x\":[0.0,0.1,0.2,0.30000000000000004,0.4,0.5,0.6000000000000001,0.7000000000000001,0.8,0.9,1.0,1.1,1.2000000000000002,1.3,1.4000000000000001,1.5,1.6,1.7000000000000002,1.8,1.9000000000000001,2.0,2.1,2.2,2.3000000000000003,2.4000000000000004,2.5,2.6,2.7,2.8000000000000003,2.9000000000000004,3.0,3.1],\"y\":[0.0,0.1,0.2,0.30000000000000004,0.4,0.5,0.6000000000000001,0.7000000000000001,0.8,0.9,1.0,1.1,1.2000000000000002,1.3,1.4000000000000001,1.5,1.6,1.7000000000000002,1.8,1.9000000000000001,2.0,2.1,2.2,2.3000000000000003,2.4000000000000004,2.5,2.6,2.7,2.8000000000000003,2.9000000000000004,3.0,3.1],\"z\":[[-3.0016252031503936,-2.925518620344914,-2.953630796150481,-2.96225,-2.922865358169771,-2.8986123265408175,-2.901387326584177,-2.9391173896737093,-2.8905273681579606,-2.8826103262907865,-2.90325,-2.87775,-2.8945,-2.98436913842691,-2.8641419822522183,-2.8605348662834293,-2.8946118264783096,-2.938117264658082,-2.90625,-2.8990252436890778,-2.879359919989999,-2.92025,-2.992,-2.9361648969394127,-2.954,-2.9042260565141285,-2.9135,-2.9408823897012875,-2.964120515064383,-2.945736434108527,-2.9531308586426697,-2.9442360590147536],[-2.973621702712839,-2.8981631888041983,-2.78875,-2.797699424856214,-2.74509313664208,-2.7764029496312963,-2.785848231028879,-2.818295426143464,-2.8337084271067767,-2.87525,-2.9183852018497687,-2.9476577139287947,-2.9176352955880516,-2.949,-2.962,-2.965,-2.942632170978628,-3.024121984751906,-2.97,-2.945395476696239,-2.953,-2.9096362954630672,-2.92175,-2.9554888722180546,-2.92825,-2.945381827271591,-2.947,-2.922134733158355,-2.868217054263566,-2.87775,-2.88225,-2.814],[-3.0181227346581676,-2.7831521059867517,-2.74825,-2.718339792474059,-2.63225,-2.57032129016127,-2.591676040494938,-2.6790848856107012,-2.6729182295573892,-2.7329083864516934,-2.8231471066116733,-2.8596425446819147,-2.941117639704963,-2.9909977494373594,-3.0453693288338957,-3.033370828646419,-3.0719019632362135,-3.0833854231778974,-2.9775,-2.992001999500125,-2.96125,-2.9033629203650455,-2.889027743064234,-2.882639670041245,-2.9515121219695075,-2.90775,-2.9235,-2.9503687960995126,-2.93825,-2.9081594402099213,-2.9086135766970873,-2.8586073259157394],[-2.874109263657957,-2.646242340877829,-2.565608597850537,-2.486560820102513,-2.4251062765691422,-2.3859517560304964,-2.4365,-2.520815101887736,-2.6119235095613047,-2.6570821352669083,-2.7825,-2.9217695576105975,-3.0552638159539884,-3.121079595151818,-3.186555041859303,-3.22925,-3.260684828792802,-3.265591801024872,-3.22625,-3.205551387846962,-3.1396075490563677,-3.115221194701325,-3.0833854231778974,-3.052368453943257,-3.002,-3.010126265783223,-2.980127484064492,-2.96175,-2.93376655836041,-2.87675,-2.762654668166479,-2.6999249812453114],[-2.898387701537308,-2.634920634920635,-2.530015007503752,-2.39425,-2.348662834291427,-2.280464941882265,-2.25125,-2.259314828707177,-2.26125,-2.3767970996374546,-2.4790598824853105,-2.588676415448069,-2.7286589176352956,-2.949868733591699,-3.09325,-3.146643330416302,-3.232787704610771,-3.228153519189899,-3.2428446444194474,-3.211,-3.193399174896862,-3.0856142982127235,-3.0758655168103988,-2.9729932483120782,-2.86575,-2.90611326415802,-2.920904660752218,-2.914364295536942,-2.8438945131858517,-2.828896387951506,-2.71464267866067,-2.7026756689172293],[-2.787446861715429,-2.34825,-2.300362635988496,-2.190547636909227,-2.0687671917979493,-2.057,-2.035,-2.108486439195101,-2.1792948237059266,-2.3595,-2.4545,-2.61925,-2.7446569178852642,-2.921019745063734,-3.0563679540057493,-3.1586845066900087,-3.2330958630171227,-3.2980745186296576,-3.306990121295486,-3.35725,-3.3355,-3.3124140517564697,-3.2784794297861697,-3.2083489563804526,-3.1826021747281588,-3.04525,-3.036620422447194,-2.9968761714357117,-2.912771807048238,-2.837081459270365,-2.66275,-2.504810695989004],[-2.7848481060132517,-2.519435070616173,-2.407097338498063,-2.4196049012253065,-2.2872140982377203,-2.26525,-2.202525315664458,-2.210223722034746,-2.161270158769846,-2.2154192177933276,-2.3219597550306212,-2.3742032245969256,-2.4801899762529684,-2.700912385951756,-2.8119529882470617,-2.935233808452113,-2.99925,-3.0878640169978753,-3.1263907988498563,-3.132033008252063,-3.1136392049006125,-3.0974115293234963,-3.0293786723340417,-3.000500125031258,-2.9786276715410573,-2.9275181204698826,-2.868217054263566,-2.7526559180102486,-2.7926509186351707,-2.7561554805649293,-2.644419447569054,-2.600849787553112],[-2.778902637170354,-2.5250656332041506,-2.4893776555861034,-2.457135716070982,-2.412198475190601,-2.434445694288214,-2.320830207551888,-2.348543567945993,-2.33125,-2.4153019127390922,-2.5010626328291035,-2.50025,-2.567820977622203,-2.677584698087261,-2.7384076990376203,-2.8638579822477808,-2.864858107263408,-2.9159789947486874,-2.9042739315171207,-2.959900062460962,-2.936367045880735,-2.901,-2.825853231653957,-2.8235,-2.7941507311586053,-2.794,-2.746063484128968,-2.6663332916614575,-2.630013744845683,-2.621327665958245,-2.6218277284660583,-2.569],[-2.68192048012003,-2.2565641410352586,-2.31725,-2.3819045238690326,-2.437445319335083,-2.5113721569607597,-2.554,-2.632579072384048,-2.664,-2.776097012126516,-2.7902036736223916,-2.8372093023255816,-2.8186593296648326,-2.8373546693336666,-2.907636545431821,-2.8808898887639045,-2.92575,-2.8605348662834293,-2.820852606575822,-2.810898637670291,-2.786696674168542,-2.7224096987876516,-2.6783304173956513,-2.59125,-2.5383172896612076,-2.4325,-2.431661873202451,-2.4051519319744905,-2.3190398799849983,-2.341,-2.355133174940603,-2.340292536567071],[-2.6988373546693336,-2.5586801649793776,-2.6809148856392953,-2.633091727068233,-2.6635829478684836,-2.764345543192899,-2.77075,-2.852356544568071,-2.86625,-2.9781222652831603,-2.9949987496874217,-2.982877140357455,-3.03925,-3.010247438140465,-3.1043619547556554,-2.9353669208651083,-2.813,-2.731725602898913,-2.6760845105638205,-2.531566445805726,-2.4715,-2.35008752188047,-2.27,-2.181,-2.18675,-2.262065516379095,-2.3079615048118987,-2.271203402551914,-2.4034495688038997,-2.4743092886610825,-2.477690288713911,-2.5951487871967993],[-2.6711644177911045,-2.6310922269432644,-2.7080729817545612,-2.7551887971993,-2.78075,-2.8264566141535385,-2.8371046380797598,-2.948631421072366,-2.9952511872031993,-3.0961370171271407,-3.112,-3.152355955505562,-3.223,-3.2483439570053743,-3.1791026121734784,-3.1391423927991,-2.9872468117029256,-2.9046130766345795,-2.70075,-2.5253156644580574,-2.410198725159355,-2.491684381643116,-2.13275,-2.0807600950118763,-2.020492315381732,-2.06075,-2.097274318579645,-2.1150143767970997,-2.2177227846519183,-2.3405,-2.484621155288822,-2.5416822897137856],[-2.7224096987876516,-2.7045,-2.75140607424072,-2.7800975121890237,-2.790151231096113,-2.7915,-2.80925,-2.8869717429357338,-2.9172706823294177,-3.061234691327168,-3.1218597675290587,-3.177897237154644,-3.308586426696663,-3.32016008004002,-3.2955,-3.318835145606799,-3.1213901737717213,-3.0388798599824978,-2.838145231846019,-2.6864141982252217,-2.4329458817647795,-2.330458692663417,-2.1832041989502624,-2.137482814648169,-1.9535058117735282,-2.033,-2.0624921884764404,-2.167,-2.1800225028128515,-2.332541567695962,-2.474368592148037,-2.6031746031746033],[-2.6806649168853895,-2.607946026986507,-2.7205900737592197,-2.7430928866108264,-2.808351043880485,-2.836395450568679,-2.8429607401850463,-2.936,-2.997125359330084,-3.1128891111388923,-3.119419782418407,-3.2440944881889764,-3.269158644830604,-3.373734849431463,-3.405898525368658,-3.383,-3.416145963509123,-3.3471632091977006,-3.265591801024872,-3.137,-2.9503687960995126,-2.8670751531824434,-2.634670666166729,-2.5346831646044246,-2.304211973503312,-2.230721159855018,-2.1834541364658837,-2.211276409551194,-2.1952988247061764,-2.23425,-2.35270591176103,-2.43225],[-2.694673668417104,-2.793099137392174,-2.839854981872734,-2.83275,-2.812195426714982,-2.8673584198024753,-2.806899137607799,-2.81725,-2.8469617404351086,-2.983504123969008,-2.992124015501938,-3.0976127984002,-3.11175,-3.1755,-3.2124468882779307,-3.2383095773943484,-3.25825,-3.142857142857143,-3.0917729432358088,-2.9656292963379576,-2.8875281179705072,-2.7193201699575105,-2.63390847711928,-2.568142035508877,-2.46911727931983,-2.3940492561570195,-2.401050131266408,-2.4420842184180933,-2.46525,-2.5098088216918657,-2.6204051012753187,-2.7227710391396776],[-2.72325,-2.7955,-2.8895,-2.895835938476929,-2.8515,-2.905,-2.8926384201974753,-2.92375,-2.8829707426856714,-2.856857107138392,-3.004998750312422,-3.015873015873016,-3.0230057514378594,-3.1245311327831957,-3.11525,-3.1492126968257934,-3.1782945736434107,-3.13725,-3.08825,-3.08675,-2.9886264216972878,-2.8885,-2.8548568571071384,-2.802700675168792,-2.7031757939484873,-2.6296712910886137,-2.6464191976003,-2.6284214473190852,-2.682085260657582,-2.7258407300912615,-2.742907136607924,-2.837814180317619],[-2.8505373656585853,-2.8577855536115973,-2.9155,-2.965508622844289,-2.954869358669834,-2.955,-2.937984496124031,-3.024378047255907,-3.0108709234037234,-2.95575,-3.022,-3.043380422552819,-3.0378797349668707,-3.1175293823455865,-3.079865016872891,-3.087364079490064,-3.062015503875969,-3.075,-3.1233904238029755,-3.0353794224278037,-3.0488688913885764,-2.9932466233116557,-2.94125,-2.919844941853195,-2.923769057735566,-2.838104763095387,-2.8453556694586823,-2.868608576072009,-2.838959739934984,-2.85875,-2.877140357455318,-2.922404098463076],[-2.947,-3.062632829103638,-3.0438914592972366,-3.0338707661542306,-3.07088386048256,-2.9827586206896552,-3.0542364408897775,-3.06075,-3.043,-3.0189952511872034,-3.059264816204051,-3.0498687664041997,-3.062882860357545,-3.079480129967508,-3.0203775471933993,-3.0638670166229223,-2.9940014996250937,-3.00275,-3.024756189047262,-3.0375093773443362,-3.02337792224028,-3.0131233595800526,-3.0953392477820816,-3.07013376672084,-3.053,-3.0603825478184774,-3.025371828521435,-3.0675,-3.0285,-3.0479880029992503,-3.0865,-3.0365],[-3.01625,-3.0817704426106527,-3.108388548568571,-3.0153730783652044,-2.9855,-2.916,-3.0011251406425803,-2.8899724931232806,-2.9162918540729637,-2.9481314835645542,-2.9824956239059763,-2.975993998499625,-3.004124484439445,-3.04425,-3.12275,-3.07125,-3.1595,-3.11325,-3.0475118779694923,-3.1847961990497624,-3.10388798599825,-3.0866141732283463,-3.123719070232442,-3.0929098411904463,-3.1451431428928616,-3.081959020489755,-3.14825,-3.13,-3.13471632091977,-3.14225,-3.1203900487560947,-3.0646169228846394],[-3.091909466049769,-3.1617095726068483,-3.068383547943493,-3.002124734408199,-2.9551306086739157,-2.9161145143142893,-2.811,-2.7909011373578303,-2.8191023877984747,-2.787151606049244,-2.826043489127718,-2.89875,-2.8902225556389096,-2.97175,-3.0311211098612674,-3.056,-3.1075,-3.1338582677165356,-3.1565,-3.1403574553180853,-3.204849393825772,-3.25175,-3.2274431392151963,-3.1631453931741467,-3.184453886528368,-3.18025,-3.244561140285071,-3.240155019377422,-3.17514689336167,-3.2008002000500126,-3.2114014251781473,-3.1576447055881984],[-3.2391902024493877,-3.27775,-3.187,-3.145463634091477,-3.0686335791973995,-3.0276215473065866,-2.924115514439305,-2.933883264591926,-2.8650337415646088,-2.7978005498625342,-2.7955994499312413,-2.8821397325334335,-2.8766095761970245,-2.92375,-2.9713714214276785,-3.02862142232221,-2.99725,-3.0555,-3.0608826103262907,-3.1411073615798024,-3.14185726784152,-3.1715428857214305,-3.1803975496937116,-3.21325,-3.2194451387153213,-3.202699325168708,-3.228903612951619,-3.259657457182148,-3.24375,-3.2093488313960754,-3.2464058007250904,-3.2355366737473448],[-3.2809297675581104,-3.2429661122921094,-3.1768528933883267,-3.0267566891722932,-2.9395,-2.7851962990747685,-2.6385,-2.59575,-2.5330666333291663,-2.501438039264724,-2.5608597850537365,-2.5661084728817793,-2.612596850787303,-2.67583104223944,-2.797849731216402,-2.88125,-2.92625,-2.9645088727818045,-3.0651331416427054,-3.0733841730216276,-3.125609298837645,-3.08775,-3.1218597675290587,-3.163436288608228,-3.152711822044489,-3.1951493936742095,-3.199,-3.281660207525941,-3.2845,-3.27425,-3.2900887389076368,-3.30625],[-3.30325,-3.261,-3.1762059485128717,-3.1183897987248406,-2.96075,-2.9048868891388575,-2.84675,-2.772039514818057,-2.75025,-2.70925,-2.6828292926768307,-2.73975,-2.7354338584646163,-2.77344336084021,-2.7916510436195474,-2.8861107638454806,-2.89925,-2.894361795224403,-2.97474368592148,-2.9658536585365853,-3.02825,-3.0736526197323997,-3.0983381232037988,-3.0492623155788947,-3.0903637045369328,-3.15775,-3.14125,-3.15175,-3.163,-3.17775,-3.1633545806774155,-3.2879109888736093],[-3.3708286464191977,-3.1841019872515934,-3.13839229903738,-3.10586176727909,-2.92675,-2.85175,-2.794051487128218,-2.778,-2.7195,-2.744436109027257,-2.6818352294036756,-2.6864141982252217,-2.7298412301537693,-2.718660167479065,-2.718660167479065,-2.728158980127484,-2.767095886985873,-2.8107026756689173,-2.834354294286786,-2.699662542182227,-2.8505373656585853,-2.924403348744221,-2.942132233470816,-2.9412646838290426,-3.0208723909511312,-3.0203775471933993,-3.071383922990374,-3.076134516814602,-3.1035,-3.123890486310789,-3.177691634362886,-3.1146393299162396],[-3.38375,-3.1605401350337585,-3.1346418302287784,-3.10625,-3.0057514378594647,-2.9378672334041753,-2.865608201025128,-2.784598074759345,-2.798400199975003,-2.75675,-2.75140607424072,-2.692836604575572,-2.6818352294036756,-2.7299087614048245,-2.7800975121890237,-2.7433429178647333,-2.7725,-2.76275,-2.8308538567320913,-2.7713071732066985,-2.786053486628343,-2.7779444861215303,-2.824206051512878,-2.86825,-2.914635670541182,-2.9476184523065383,-2.9750124937531233,-3.037,-3.0741528073027387,-3.10527631907977,-3.0983872984123013,-3.125968507873032],[-3.43525,-3.3205849268841394,-3.26425,-3.2155,-3.107,-3.001375171896487,-2.892223055763941,-2.7909477369342337,-2.737657792775903,-2.684,-2.6758379189594796,-2.5878969742435607,-2.57425,-2.59475,-2.6136931534232883,-2.604348912771807,-2.51525,-2.5591102224443887,-2.46275,-2.4985,-2.516,-2.50425,-2.4736776291109166,-2.5383845961490374,-2.598175228096488,-2.7354080739907514,-2.862,-2.9693711713964244,-3.1181397674709337,-3.16825,-3.23875,-3.2855893013373327],[-3.391423927990999,-3.2975878015248092,-3.2471882029492627,-3.22125,-3.1613548306461694,-3.08525,-3.010247438140465,-2.943235808952238,-2.9305173706573355,-2.845961490372593,-2.805,-2.7486564179477564,-2.8008998875140607,-2.728341042630329,-2.725568607848038,-2.6683335416927116,-2.6129032258064515,-2.59675,-2.5511122219445137,-2.4438054756844605,-2.386201724784402,-2.441,-2.381702287214098,-2.4808101012626578,-2.503812976622078,-2.647169103862017,-2.7341582302212224,-2.8681414823147104,-2.97975,-3.1021377672209027,-3.197,-3.2876609576197025],[-3.3418322709661292,-3.1745,-3.14725,-3.157183943978992,-3.116610423697038,-3.09175,-2.9856232029003626,-2.98437695288089,-2.98812351543943,-2.98025,-2.9103862017247843,-2.9315,-2.9128641080135016,-2.8993875765529307,-2.8765,-2.8338957630296213,-2.8225443639090226,-2.776597074634329,-2.7819022622172227,-2.7133391673959246,-2.68275,-2.664166979127609,-2.67275,-2.6666666666666665,-2.663417072865892,-2.71525,-2.76975,-2.8513935758030247,-2.923384576927884,-3.0445,-3.0763845480685084,-3.0775],[-3.271841019872516,-3.117580907159815,-3.16075,-3.1051381422677835,-3.0761154855643045,-3.078980254936266,-3.067383422927866,-3.026493376655836,-2.9936242030253783,-2.9868700762786045,-2.9832458114528633,-2.99425,-2.9368671083885487,-2.8818602325290663,-2.9012253063265816,-2.8583572946618325,-2.805701425356339,-2.74675,-2.674665666791651,-2.6633329166145767,-2.661082635329416,-2.5691788526434194,-2.37975,-2.563070383797975,-2.3719535058117733,-2.65275,-2.68625,-2.72025,-2.8733908261467316,-2.9588698587323417,-3.0539865033741567,-3.0845211302825706],[-3.236904613076635,-3.137142142767846,-3.0911363920490063,-3.0987253186703323,-3.075481129717571,-3.01675,-3.02337792224028,-3.0205051262815705,-3.0355,-3.0213723284589427,-2.988,-2.9722569357660586,-2.95975,-2.8913614201775224,-2.8995,-2.92575,-2.858107263407926,-2.8181477315335584,-2.7526559180102486,-2.7194801949269025,-2.694,-2.599324915614452,-2.6214053513378346,-2.597925259342582,-2.627813906953477,-2.6561679790026247,-2.6975,-2.7831521059867517,-2.8262065516379096,-2.922115264408051,-3.00212579717394,-3.0548681414823147],[-3.204801200300075,-3.0875,-3.09575,-3.1352838209552387,-3.062265566391598,-3.099612548431446,-3.0828853606700837,-3.0557639409852464,-3.040630078759845,-3.0048756094511813,-3.018377297162145,-3.032241939515121,-3.046,-2.956,-2.988376452943382,-2.897137857767779,-2.8753282480930347,-2.8775306173456636,-2.8154538634658666,-2.754438609652413,-2.7298412301537693,-2.6668333541692713,-2.6739157605299337,-2.6366704161979753,-2.63025,-2.695576105973507,-2.717839729966246,-2.78875,-2.87085885735717,-2.9481314835645542,-2.997624703087886,-3.0836145481814774],[-3.084677923702314,-3.0041265474552956,-3.0726159230096237,-3.017627203400425,-2.9721354492065477,-2.9941257342832146,-2.985873234154269,-2.9195201199700076,-2.892138482689664,-2.8628921384826898,-2.773693423355839,-2.8358955130608674,-2.858035491127218,-2.8638239339752407,-2.829603700462558,-2.8345,-2.832895888013998,-2.8755,-2.84275,-2.81695423855964,-2.83625,-2.825543614096476,-2.837395325584302,-2.804350543817977,-2.7894539547669623,-2.7665958244780597,-2.809,-2.8686843421710857,-2.917479369842461,-2.90625,-2.96825,-2.9883735466933365],[-3.0086260782597827,-2.9498561960735277,-2.9673709213651707,-2.989,-2.970628671416073,-2.93475,-2.9395151212196953,-2.8766095761970245,-2.9026128266033253,-2.899050474762619,-2.878329373515068,-2.8498562320290035,-2.8395401149712574,-2.9042739315171207,-2.8366454193225845,-2.9023872015998,-2.8565358660334916,-2.83745936484121,-2.916843816431162,-2.8921115139392426,-2.9388673584198024,-2.9576091034137804,-2.854036490877281,-2.8905273681579606,-2.8727181795448864,-2.8827206801700425,-2.864,-2.882860357544693,-2.8665,-2.875,-2.9242689327668083,-2.969878765154356]]},{\"hovertemplate\":\"x: %{x}<br>y: %{y}<br> z: %{text:.2f}<extra></extra>\",\"marker\":{\"color\":\"red\",\"line\":{\"width\":1},\"size\":16,\"symbol\":[204]},\"mode\":\"markers\",\"text\":[\"-3.43525\"],\"type\":\"scatter\",\"x\":[0.0],\"y\":[2.4000000000000004]}],                        {\"height\":700,\"template\":{\"data\":{\"bar\":[{\"error_x\":{\"color\":\"#2a3f5f\"},\"error_y\":{\"color\":\"#2a3f5f\"},\"marker\":{\"line\":{\"color\":\"#E5ECF6\",\"width\":0.5},\"pattern\":{\"fillmode\":\"overlay\",\"size\":10,\"solidity\":0.2}},\"type\":\"bar\"}],\"barpolar\":[{\"marker\":{\"line\":{\"color\":\"#E5ECF6\",\"width\":0.5},\"pattern\":{\"fillmode\":\"overlay\",\"size\":10,\"solidity\":0.2}},\"type\":\"barpolar\"}],\"carpet\":[{\"aaxis\":{\"endlinecolor\":\"#2a3f5f\",\"gridcolor\":\"white\",\"linecolor\":\"white\",\"minorgridcolor\":\"white\",\"startlinecolor\":\"#2a3f5f\"},\"baxis\":{\"endlinecolor\":\"#2a3f5f\",\"gridcolor\":\"white\",\"linecolor\":\"white\",\"minorgridcolor\":\"white\",\"startlinecolor\":\"#2a3f5f\"},\"type\":\"carpet\"}],\"choropleth\":[{\"colorbar\":{\"outlinewidth\":0,\"ticks\":\"\"},\"type\":\"choropleth\"}],\"contour\":[{\"colorbar\":{\"outlinewidth\":0,\"ticks\":\"\"},\"colorscale\":[[0.0,\"#0d0887\"],[0.1111111111111111,\"#46039f\"],[0.2222222222222222,\"#7201a8\"],[0.3333333333333333,\"#9c179e\"],[0.4444444444444444,\"#bd3786\"],[0.5555555555555556,\"#d8576b\"],[0.6666666666666666,\"#ed7953\"],[0.7777777777777778,\"#fb9f3a\"],[0.8888888888888888,\"#fdca26\"],[1.0,\"#f0f921\"]],\"type\":\"contour\"}],\"contourcarpet\":[{\"colorbar\":{\"outlinewidth\":0,\"ticks\":\"\"},\"type\":\"contourcarpet\"}],\"heatmap\":[{\"colorbar\":{\"outlinewidth\":0,\"ticks\":\"\"},\"colorscale\":[[0.0,\"#0d0887\"],[0.1111111111111111,\"#46039f\"],[0.2222222222222222,\"#7201a8\"],[0.3333333333333333,\"#9c179e\"],[0.4444444444444444,\"#bd3786\"],[0.5555555555555556,\"#d8576b\"],[0.6666666666666666,\"#ed7953\"],[0.7777777777777778,\"#fb9f3a\"],[0.8888888888888888,\"#fdca26\"],[1.0,\"#f0f921\"]],\"type\":\"heatmap\"}],\"heatmapgl\":[{\"colorbar\":{\"outlinewidth\":0,\"ticks\":\"\"},\"colorscale\":[[0.0,\"#0d0887\"],[0.1111111111111111,\"#46039f\"],[0.2222222222222222,\"#7201a8\"],[0.3333333333333333,\"#9c179e\"],[0.4444444444444444,\"#bd3786\"],[0.5555555555555556,\"#d8576b\"],[0.6666666666666666,\"#ed7953\"],[0.7777777777777778,\"#fb9f3a\"],[0.8888888888888888,\"#fdca26\"],[1.0,\"#f0f921\"]],\"type\":\"heatmapgl\"}],\"histogram\":[{\"marker\":{\"pattern\":{\"fillmode\":\"overlay\",\"size\":10,\"solidity\":0.2}},\"type\":\"histogram\"}],\"histogram2d\":[{\"colorbar\":{\"outlinewidth\":0,\"ticks\":\"\"},\"colorscale\":[[0.0,\"#0d0887\"],[0.1111111111111111,\"#46039f\"],[0.2222222222222222,\"#7201a8\"],[0.3333333333333333,\"#9c179e\"],[0.4444444444444444,\"#bd3786\"],[0.5555555555555556,\"#d8576b\"],[0.6666666666666666,\"#ed7953\"],[0.7777777777777778,\"#fb9f3a\"],[0.8888888888888888,\"#fdca26\"],[1.0,\"#f0f921\"]],\"type\":\"histogram2d\"}],\"histogram2dcontour\":[{\"colorbar\":{\"outlinewidth\":0,\"ticks\":\"\"},\"colorscale\":[[0.0,\"#0d0887\"],[0.1111111111111111,\"#46039f\"],[0.2222222222222222,\"#7201a8\"],[0.3333333333333333,\"#9c179e\"],[0.4444444444444444,\"#bd3786\"],[0.5555555555555556,\"#d8576b\"],[0.6666666666666666,\"#ed7953\"],[0.7777777777777778,\"#fb9f3a\"],[0.8888888888888888,\"#fdca26\"],[1.0,\"#f0f921\"]],\"type\":\"histogram2dcontour\"}],\"mesh3d\":[{\"colorbar\":{\"outlinewidth\":0,\"ticks\":\"\"},\"type\":\"mesh3d\"}],\"parcoords\":[{\"line\":{\"colorbar\":{\"outlinewidth\":0,\"ticks\":\"\"}},\"type\":\"parcoords\"}],\"pie\":[{\"automargin\":true,\"type\":\"pie\"}],\"scatter\":[{\"marker\":{\"colorbar\":{\"outlinewidth\":0,\"ticks\":\"\"}},\"type\":\"scatter\"}],\"scatter3d\":[{\"line\":{\"colorbar\":{\"outlinewidth\":0,\"ticks\":\"\"}},\"marker\":{\"colorbar\":{\"outlinewidth\":0,\"ticks\":\"\"}},\"type\":\"scatter3d\"}],\"scattercarpet\":[{\"marker\":{\"colorbar\":{\"outlinewidth\":0,\"ticks\":\"\"}},\"type\":\"scattercarpet\"}],\"scattergeo\":[{\"marker\":{\"colorbar\":{\"outlinewidth\":0,\"ticks\":\"\"}},\"type\":\"scattergeo\"}],\"scattergl\":[{\"marker\":{\"colorbar\":{\"outlinewidth\":0,\"ticks\":\"\"}},\"type\":\"scattergl\"}],\"scattermapbox\":[{\"marker\":{\"colorbar\":{\"outlinewidth\":0,\"ticks\":\"\"}},\"type\":\"scattermapbox\"}],\"scatterpolar\":[{\"marker\":{\"colorbar\":{\"outlinewidth\":0,\"ticks\":\"\"}},\"type\":\"scatterpolar\"}],\"scatterpolargl\":[{\"marker\":{\"colorbar\":{\"outlinewidth\":0,\"ticks\":\"\"}},\"type\":\"scatterpolargl\"}],\"scatterternary\":[{\"marker\":{\"colorbar\":{\"outlinewidth\":0,\"ticks\":\"\"}},\"type\":\"scatterternary\"}],\"surface\":[{\"colorbar\":{\"outlinewidth\":0,\"ticks\":\"\"},\"colorscale\":[[0.0,\"#0d0887\"],[0.1111111111111111,\"#46039f\"],[0.2222222222222222,\"#7201a8\"],[0.3333333333333333,\"#9c179e\"],[0.4444444444444444,\"#bd3786\"],[0.5555555555555556,\"#d8576b\"],[0.6666666666666666,\"#ed7953\"],[0.7777777777777778,\"#fb9f3a\"],[0.8888888888888888,\"#fdca26\"],[1.0,\"#f0f921\"]],\"type\":\"surface\"}],\"table\":[{\"cells\":{\"fill\":{\"color\":\"#EBF0F8\"},\"line\":{\"color\":\"white\"}},\"header\":{\"fill\":{\"color\":\"#C8D4E3\"},\"line\":{\"color\":\"white\"}},\"type\":\"table\"}]},\"layout\":{\"annotationdefaults\":{\"arrowcolor\":\"#2a3f5f\",\"arrowhead\":0,\"arrowwidth\":1},\"autotypenumbers\":\"strict\",\"coloraxis\":{\"colorbar\":{\"outlinewidth\":0,\"ticks\":\"\"}},\"colorscale\":{\"diverging\":[[0,\"#8e0152\"],[0.1,\"#c51b7d\"],[0.2,\"#de77ae\"],[0.3,\"#f1b6da\"],[0.4,\"#fde0ef\"],[0.5,\"#f7f7f7\"],[0.6,\"#e6f5d0\"],[0.7,\"#b8e186\"],[0.8,\"#7fbc41\"],[0.9,\"#4d9221\"],[1,\"#276419\"]],\"sequential\":[[0.0,\"#0d0887\"],[0.1111111111111111,\"#46039f\"],[0.2222222222222222,\"#7201a8\"],[0.3333333333333333,\"#9c179e\"],[0.4444444444444444,\"#bd3786\"],[0.5555555555555556,\"#d8576b\"],[0.6666666666666666,\"#ed7953\"],[0.7777777777777778,\"#fb9f3a\"],[0.8888888888888888,\"#fdca26\"],[1.0,\"#f0f921\"]],\"sequentialminus\":[[0.0,\"#0d0887\"],[0.1111111111111111,\"#46039f\"],[0.2222222222222222,\"#7201a8\"],[0.3333333333333333,\"#9c179e\"],[0.4444444444444444,\"#bd3786\"],[0.5555555555555556,\"#d8576b\"],[0.6666666666666666,\"#ed7953\"],[0.7777777777777778,\"#fb9f3a\"],[0.8888888888888888,\"#fdca26\"],[1.0,\"#f0f921\"]]},\"colorway\":[\"#636efa\",\"#EF553B\",\"#00cc96\",\"#ab63fa\",\"#FFA15A\",\"#19d3f3\",\"#FF6692\",\"#B6E880\",\"#FF97FF\",\"#FECB52\"],\"font\":{\"color\":\"#2a3f5f\"},\"geo\":{\"bgcolor\":\"white\",\"lakecolor\":\"white\",\"landcolor\":\"#E5ECF6\",\"showlakes\":true,\"showland\":true,\"subunitcolor\":\"white\"},\"hoverlabel\":{\"align\":\"left\"},\"hovermode\":\"closest\",\"mapbox\":{\"style\":\"light\"},\"paper_bgcolor\":\"white\",\"plot_bgcolor\":\"#E5ECF6\",\"polar\":{\"angularaxis\":{\"gridcolor\":\"white\",\"linecolor\":\"white\",\"ticks\":\"\"},\"bgcolor\":\"#E5ECF6\",\"radialaxis\":{\"gridcolor\":\"white\",\"linecolor\":\"white\",\"ticks\":\"\"}},\"scene\":{\"xaxis\":{\"backgroundcolor\":\"#E5ECF6\",\"gridcolor\":\"white\",\"gridwidth\":2,\"linecolor\":\"white\",\"showbackground\":true,\"ticks\":\"\",\"zerolinecolor\":\"white\"},\"yaxis\":{\"backgroundcolor\":\"#E5ECF6\",\"gridcolor\":\"white\",\"gridwidth\":2,\"linecolor\":\"white\",\"showbackground\":true,\"ticks\":\"\",\"zerolinecolor\":\"white\"},\"zaxis\":{\"backgroundcolor\":\"#E5ECF6\",\"gridcolor\":\"white\",\"gridwidth\":2,\"linecolor\":\"white\",\"showbackground\":true,\"ticks\":\"\",\"zerolinecolor\":\"white\"}},\"shapedefaults\":{\"line\":{\"color\":\"#2a3f5f\"}},\"ternary\":{\"aaxis\":{\"gridcolor\":\"white\",\"linecolor\":\"white\",\"ticks\":\"\"},\"baxis\":{\"gridcolor\":\"white\",\"linecolor\":\"white\",\"ticks\":\"\"},\"bgcolor\":\"#E5ECF6\",\"caxis\":{\"gridcolor\":\"white\",\"linecolor\":\"white\",\"ticks\":\"\"}},\"title\":{\"x\":0.05},\"xaxis\":{\"automargin\":true,\"gridcolor\":\"white\",\"linecolor\":\"white\",\"ticks\":\"\",\"title\":{\"standoff\":15},\"zerolinecolor\":\"white\",\"zerolinewidth\":2},\"yaxis\":{\"automargin\":true,\"gridcolor\":\"white\",\"linecolor\":\"white\",\"ticks\":\"\",\"title\":{\"standoff\":15},\"zerolinecolor\":\"white\",\"zerolinewidth\":2}}},\"title\":{\"text\":\"F(\\u03b3,\\u03b2)\"},\"width\":700,\"xaxis\":{\"title\":{\"text\":\"\\u03b3\"}},\"yaxis\":{\"title\":{\"text\":\"\\u03b2\"}}},                        {\"responsive\": true}                    ).then(function(){\n",
       "                            \n",
       "var gd = document.getElementById('7a6fc0a1-a2e4-4341-ba09-f750d206ab7d');\n",
       "var x = new MutationObserver(function (mutations, observer) {{\n",
       "        var display = window.getComputedStyle(gd).display;\n",
       "        if (!display || display === 'none') {{\n",
       "            console.log([gd, 'removed!']);\n",
       "            Plotly.purge(gd);\n",
       "            observer.disconnect();\n",
       "        }}\n",
       "}});\n",
       "\n",
       "// Listen for the removal of the full notebook cells\n",
       "var notebookContainer = gd.closest('#notebook-container');\n",
       "if (notebookContainer) {{\n",
       "    x.observe(notebookContainer, {childList: true});\n",
       "}}\n",
       "\n",
       "// Listen for the clearing of the current output cell\n",
       "var outputEl = gd.closest('.output');\n",
       "if (outputEl) {{\n",
       "    x.observe(outputEl, {childList: true});\n",
       "}}\n",
       "\n",
       "                        })                };                });            </script>        </div>"
      ]
     },
     "metadata": {},
     "output_type": "display_data"
    }
   ],
   "source": [
    "# Plot Heatmap \n",
    "fig = go.Figure(data=go.Heatmap(z=landscape, x=b_beta, y=a_gamma, type = 'heatmap', colorscale = 'viridis'))\n",
    "\n",
    "# Update Layout\n",
    "fig.update_layout(title=\"F(γ,β)\", width=700, height=700, yaxis_title=\"β\", xaxis_title=\"γ\")\n",
    "\n",
    "# Display Global Minimium \n",
    "fig.add_trace(\n",
    "    go.Scatter(mode=\"markers\", x=[opt_beta], y=[opt_gamma], marker_symbol=[204], text = [landscape[gamma,beta]],\n",
    "                   marker_color=\"red\",  hovertemplate=\"x: %{x}<br>y: %{y}<br> z: %{text:.2f}<extra></extra>\", \n",
    "                   marker_line_width=1, marker_size=16))"
   ]
  },
  {
   "cell_type": "code",
   "execution_count": 23,
   "id": "5eef23c8",
   "metadata": {},
   "outputs": [],
   "source": [
    "# Display Optimizer Results\n",
    "\n",
    "# Display path \n",
    "#fig.add_trace(\n",
    "#    go.Scatter(mode=\"lines\", x=gammas, y=betas, marker_symbol=[200],\n",
    "#                   marker_color=\"white\", marker_line_width=1, marker_size=8)\n",
    "#)\n",
    "\n",
    "# Display start point\n",
    "#fig.add_trace(\n",
    "#    go.Scatter(mode=\"markers\", x=[gammas[0]], y=[betas[0]], marker_symbol=[204],\n",
    "#                   marker_color=\"gray\", \n",
    "#                   marker_line_width=1, marker_size=16))\n",
    "\n",
    "# Display end point\n",
    "#fig.add_trace(\n",
    "#    go.Scatter(mode=\"markers\", x=[gammas[-1]], y=[betas[-1]], marker_symbol=[204],\n",
    "#                   marker_color=\"green\", \n",
    "#                   marker_line_width=1, marker_size=16))\n",
    "\n"
   ]
  },
  {
   "cell_type": "code",
   "execution_count": 24,
   "id": "5191a47a",
   "metadata": {},
   "outputs": [],
   "source": [
    "# Plot Optimizer History\n",
    "#fig = go.Figure(data=go.Scatter(x=counts, y=values))\n",
    "#fig.update_layout(xaxis_title=\"Evaluation Counts\", yaxis_title=\"Evaluated Mean\", title=\"Optimizer\")\n",
    "#fig.show()"
   ]
  },
  {
   "cell_type": "code",
   "execution_count": null,
   "id": "64b6705c",
   "metadata": {},
   "outputs": [],
   "source": []
  }
 ],
 "metadata": {
  "kernelspec": {
   "display_name": "python3.8",
   "language": "python",
   "name": "python3.8"
  },
  "language_info": {
   "codemirror_mode": {
    "name": "ipython",
    "version": 3
   },
   "file_extension": ".py",
   "mimetype": "text/x-python",
   "name": "python",
   "nbconvert_exporter": "python",
   "pygments_lexer": "ipython3",
   "version": "3.8.6"
  }
 },
 "nbformat": 4,
 "nbformat_minor": 5
}
