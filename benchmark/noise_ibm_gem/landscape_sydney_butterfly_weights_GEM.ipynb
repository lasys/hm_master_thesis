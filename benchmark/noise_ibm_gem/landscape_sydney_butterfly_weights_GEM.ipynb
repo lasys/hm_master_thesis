{
 "cells": [
  {
   "cell_type": "code",
   "execution_count": 13,
   "id": "08c90252",
   "metadata": {},
   "outputs": [],
   "source": [
    "import sys\n",
    "import os\n",
    "sys.path.insert(0, os.path.abspath('../'))\n",
    "sys.path.insert(0, os.path.abspath('../../'))\n",
    "#sys.path.insert(0, os.path.abspath('/home/hm-tlacherm/qlm_notebooks/notebooks_1.2.1/notebooks/master_thesis_qaoa/'))\n",
    "#sys.path.insert(0, os.path.abspath('/home/hm-tlacherm/qlm_notebooks/notebooks_1.2.1/notebooks/master_thesis_qaoa/ibm/'))"
   ]
  },
  {
   "cell_type": "code",
   "execution_count": 14,
   "id": "d544255f",
   "metadata": {},
   "outputs": [
    {
     "name": "stderr",
     "output_type": "stream",
     "text": [
      "ibmqfactory.load_account:WARNING:2021-10-07 17:05:50,716: Credentials are already in use. The existing account in the session will be replaced.\n"
     ]
    }
   ],
   "source": [
    "import numpy as np\n",
    "\n",
    "import qiskit\n",
    "provider = qiskit.IBMQ.load_account()\n",
    "from qiskit import Aer\n",
    "from qiskit.utils import QuantumInstance\n",
    "from qiskit_optimization.algorithms import MinimumEigenOptimizer\n",
    "from qiskit.algorithms import QAOA\n",
    "from shared.QiskitMaxcut import *\n",
    "from ibm.ibm_parameters import *\n",
    "from shared.gem.gem_instance import GEMInstance\n",
    "from shared.gem.gem_quantum_instance import GEMQuantumInstance\n",
    "from matplotlib import pyplot as plt\n",
    "%matplotlib inline"
   ]
  },
  {
   "cell_type": "code",
   "execution_count": 15,
   "id": "c4f3a410",
   "metadata": {},
   "outputs": [
    {
     "name": "stdout",
     "output_type": "stream",
     "text": [
      "graph_05_06_02_w\n"
     ]
    },
    {
     "data": {
      "image/png": "[encoded data removed]",
      "text/plain": [
       "<Figure size 432x288 with 1 Axes>"
      ]
     },
     "metadata": {},
     "output_type": "display_data"
    }
   ],
   "source": [
    "graph = generate_butterfly_graph(with_weights=True)\n",
    "max_cut = Maxcut(graph)\n",
    "max_cut_qubo = max_cut.to_qubo()\n",
    "print(graph.name)\n",
    "max_cut.draw()"
   ]
  },
  {
   "cell_type": "code",
   "execution_count": 37,
   "id": "617f4b75",
   "metadata": {},
   "outputs": [],
   "source": [
    "step_size = 0.1\n",
    "a_gamma = np.arange(0, np.pi, step_size)\n",
    "b_beta = np.arange(0, np.pi, step_size)"
   ]
  },
  {
   "cell_type": "code",
   "execution_count": 38,
   "id": "77c26255",
   "metadata": {},
   "outputs": [
    {
     "data": {
      "text/plain": [
       "32"
      ]
     },
     "execution_count": 38,
     "metadata": {},
     "output_type": "execute_result"
    }
   ],
   "source": [
    "a_gamma, b_beta = np.meshgrid(a_gamma, b_beta)\n",
    "len(a_gamma)"
   ]
  },
  {
   "cell_type": "code",
   "execution_count": 39,
   "id": "7521ba41",
   "metadata": {},
   "outputs": [],
   "source": [
    "def maxcut_obj(x, G):\n",
    "    \"\"\"\n",
    "    Given a bitstring as a solution, this function returns\n",
    "    the number of edges shared between the two partitions\n",
    "    of the graph.\n",
    "    \n",
    "    Args:\n",
    "        x: str\n",
    "           solution bitstring\n",
    "           \n",
    "        G: networkx graph\n",
    "        \n",
    "    Returns:\n",
    "        obj: float\n",
    "             Objective\n",
    "    \"\"\"\n",
    "    obj = 0\n",
    "    for i,j,w in graph.edges.data('weight'):\n",
    "        if x[i] != x[j]:\n",
    "            obj -= w\n",
    "            \n",
    "    return obj\n",
    "\n",
    "\n",
    "def compute_expectation(counts, G):\n",
    "    \n",
    "    \"\"\"\n",
    "    Computes expectation value based on measurement results\n",
    "    \n",
    "    Args:\n",
    "        counts: dict\n",
    "                key as bitstring, val as count\n",
    "           \n",
    "        G: networkx graph\n",
    "        \n",
    "    Returns:\n",
    "        avg: float\n",
    "             expectation value\n",
    "    \"\"\"\n",
    "    \n",
    "    avg = 0\n",
    "    sum_count = 0\n",
    "    for bitstring, count in counts.items():\n",
    "        \n",
    "        obj = maxcut_obj(bitstring, G)\n",
    "        avg += obj * count\n",
    "        sum_count += count\n",
    "        \n",
    "    return avg/sum_count"
   ]
  },
  {
   "cell_type": "code",
   "execution_count": 19,
   "id": "1defe426",
   "metadata": {},
   "outputs": [],
   "source": [
    "quantum_instance = GEMQuantumInstance(\n",
    "                    #backend=Aer.get_backend(DEFAULT_QASM_SIMULATOR),\n",
    "                    backend=provider.get_backend('ibmq_sydney'),\n",
    "                    shots=SHOTS)\n",
    "\n",
    "\n",
    "\n",
    "\n",
    "qaoa = QAOA(\n",
    "            optimizer=COBYLA(maxiter=0),\n",
    "            quantum_instance=quantum_instance,\n",
    "            reps=1\n",
    "            )\n",
    "\n",
    "op, offset = max_cut_qubo.to_ising()"
   ]
  },
  {
   "cell_type": "code",
   "execution_count": 20,
   "id": "cf2907cd",
   "metadata": {},
   "outputs": [],
   "source": [
    "def create_cirucit(gamma,beta):\n",
    "    circuits = qaoa.construct_circuit([gamma,beta], operator=op)\n",
    "    circuit = circuits[0]\n",
    "    circuit.measure_all()\n",
    "    return circuit"
   ]
  },
  {
   "cell_type": "code",
   "execution_count": 21,
   "id": "aab936ac",
   "metadata": {},
   "outputs": [],
   "source": [
    "gem_instance = GEMInstance()"
   ]
  },
  {
   "cell_type": "code",
   "execution_count": 22,
   "id": "d603e055",
   "metadata": {},
   "outputs": [],
   "source": [
    "first_circuit = create_cirucit(0.25,0.25)"
   ]
  },
  {
   "cell_type": "code",
   "execution_count": 23,
   "id": "61e1469d",
   "metadata": {},
   "outputs": [],
   "source": [
    "mg = gem_instance.get_gem_matrix(first_circuit, quantum_instance)"
   ]
  },
  {
   "cell_type": "code",
   "execution_count": 24,
   "id": "8ad3a2e6",
   "metadata": {},
   "outputs": [],
   "source": [
    "quantum_instance.MG = mg"
   ]
  },
  {
   "cell_type": "code",
   "execution_count": 41,
   "id": "7aa92597",
   "metadata": {},
   "outputs": [
    {
     "name": "stdout",
     "output_type": "stream",
     "text": [
      "graph_05_06_02_w_gem_row_0\n",
      "graph_05_06_02_w_gem_row_1\n",
      "graph_05_06_02_w_gem_row_2\n",
      "graph_05_06_02_w_gem_row_3\n",
      "graph_05_06_02_w_gem_row_4\n",
      "graph_05_06_02_w_gem_row_5\n",
      "graph_05_06_02_w_gem_row_6\n",
      "graph_05_06_02_w_gem_row_7\n",
      "graph_05_06_02_w_gem_row_8\n",
      "graph_05_06_02_w_gem_row_9\n",
      "graph_05_06_02_w_gem_row_10\n",
      "graph_05_06_02_w_gem_row_11\n",
      "graph_05_06_02_w_gem_row_12\n",
      "graph_05_06_02_w_gem_row_13\n",
      "graph_05_06_02_w_gem_row_14\n",
      "graph_05_06_02_w_gem_row_15\n",
      "graph_05_06_02_w_gem_row_16\n",
      "graph_05_06_02_w_gem_row_17\n",
      "graph_05_06_02_w_gem_row_18\n",
      "graph_05_06_02_w_gem_row_19\n",
      "graph_05_06_02_w_gem_row_20\n",
      "graph_05_06_02_w_gem_row_21\n",
      "graph_05_06_02_w_gem_row_22\n",
      "graph_05_06_02_w_gem_row_23\n",
      "graph_05_06_02_w_gem_row_24\n",
      "graph_05_06_02_w_gem_row_25\n",
      "graph_05_06_02_w_gem_row_26\n",
      "graph_05_06_02_w_gem_row_27\n",
      "graph_05_06_02_w_gem_row_28\n",
      "graph_05_06_02_w_gem_row_29\n",
      "graph_05_06_02_w_gem_row_30\n",
      "graph_05_06_02_w_gem_row_31\n"
     ]
    }
   ],
   "source": [
    "landscape = np.zeros(a_gamma.shape)\n",
    "\n",
    "for i in range(0, len(landscape)):\n",
    "    circuits = []\n",
    "    for j in range(0, len(landscape)):\n",
    "        # create circuits for entire row \n",
    "        circuit = create_cirucit(a_gamma[i][j], b_beta[i][j])\n",
    "        circuits.append(circuit)\n",
    "    \n",
    "    # create one job with circuits \n",
    "    job_name = f\"{graph.name}_gem_row_{i}\"\n",
    "    job = quantum_instance.execute(circuits)\n",
    "    #job.update_name(job_name)\n",
    "    print(job_name)\n",
    "    #print(job)\n",
    "    \n",
    "    # add results to landscape \n",
    "    j = 0\n",
    "    for count in job.get_counts():\n",
    "        mean = compute_expectation(count, graph)\n",
    "        landscape[i,j] = mean\n",
    "        j += 1"
   ]
  },
  {
   "cell_type": "code",
   "execution_count": 42,
   "id": "0318681e",
   "metadata": {},
   "outputs": [
    {
     "name": "stdout",
     "output_type": "stream",
     "text": [
      "[[-24.32041624 -23.08542624 -23.32289971 ... -23.67299462 -23.27393583\n",
      "  -23.55340836]\n",
      " [-24.01240848 -21.71000688 -22.98409772 ... -24.40727148 -23.11429079\n",
      "  -24.02759551]\n",
      " [-24.5760041  -17.76544003 -22.48992318 ... -26.34915105 -23.28004319\n",
      "  -24.37842193]\n",
      " ...\n",
      " [-25.77678728 -28.90882583 -24.33648374 ... -23.90349825 -25.11289065\n",
      "  -24.88079132]\n",
      " [-24.86689151 -28.73974684 -24.23908288 ... -25.3071987  -25.40281694\n",
      "  -24.45410692]\n",
      " [-24.69795948 -26.57532746 -24.30577587 ... -25.39245957 -24.77444918\n",
      "  -24.55913456]]\n"
     ]
    },
    {
     "data": {
      "image/png": "[encoded data removed]",
      "text/plain": [
       "<Figure size 288x288 with 1 Axes>"
      ]
     },
     "metadata": {
      "needs_background": "light"
     },
     "output_type": "display_data"
    }
   ],
   "source": [
    "print(landscape)\n",
    "plt.matshow(landscape)\n",
    "plt.show()"
   ]
  },
  {
   "cell_type": "code",
   "execution_count": 43,
   "id": "f92be730",
   "metadata": {},
   "outputs": [
    {
     "data": {
      "text/plain": [
       "-23.682737100855253"
      ]
     },
     "execution_count": 43,
     "metadata": {},
     "output_type": "execute_result"
    }
   ],
   "source": [
    "# Mean of landscape\n",
    "np.mean(landscape)"
   ]
  },
  {
   "cell_type": "code",
   "execution_count": 44,
   "id": "bb03a5a4",
   "metadata": {},
   "outputs": [
    {
     "data": {
      "text/plain": [
       "-31.48933368851534"
      ]
     },
     "execution_count": 44,
     "metadata": {},
     "output_type": "execute_result"
    }
   ],
   "source": [
    "# Minimium \n",
    "np.min(landscape)"
   ]
  },
  {
   "cell_type": "code",
   "execution_count": 45,
   "id": "be4164d7",
   "metadata": {},
   "outputs": [
    {
     "data": {
      "text/plain": [
       "(27, 5)"
      ]
     },
     "execution_count": 45,
     "metadata": {},
     "output_type": "execute_result"
    }
   ],
   "source": [
    "# Display Coordinates of Minimum \n",
    "np.unravel_index(np.argmin(landscape), landscape.shape)"
   ]
  },
  {
   "cell_type": "code",
   "execution_count": 46,
   "id": "d345481d",
   "metadata": {},
   "outputs": [
    {
     "name": "stdout",
     "output_type": "stream",
     "text": [
      "Opt.Gamma: 2.7, Opt.Beta: 0.5\n"
     ]
    }
   ],
   "source": [
    "# Gamma and beta value of Minimium\n",
    "gamma, beta = np.unravel_index(np.argmin(landscape), landscape.shape)\n",
    "opt_gamma = gamma * step_size\n",
    "opt_beta = beta * step_size\n",
    "print(f\"Opt.Gamma: {opt_gamma}, Opt.Beta: {opt_beta}\")"
   ]
  },
  {
   "cell_type": "code",
   "execution_count": 47,
   "id": "3aeb645a",
   "metadata": {},
   "outputs": [],
   "source": [
    "# Save result matrix \n",
    "with open('landscape_sydney_butterfly_weights_gem_results.npy', 'wb') as f:\n",
    "    np.save(f, landscape)"
   ]
  },
  {
   "cell_type": "code",
   "execution_count": 48,
   "id": "143a3a5b",
   "metadata": {},
   "outputs": [],
   "source": [
    "import plotly.graph_objects as go"
   ]
  },
  {
   "cell_type": "code",
   "execution_count": 49,
   "id": "a4a70fc8",
   "metadata": {},
   "outputs": [
    {
     "data": {
      "application/vnd.plotly.v1+json": {
       "config": {
        "plotlyServerURL": "https://plot.ly"
       },
       "data": [
        {
         "contours": {
          "z": {
           "highlightcolor": "limegreen",
           "project": {
            "z": true
           },
           "show": true,
           "usecolormap": true
          }
         },
         "type": "surface",
         "x": [
          0,
          0.1,
          0.2,
          0.30000000000000004,
          0.4,
          0.5,
          0.6000000000000001,
          0.7000000000000001,
          0.8,
          0.9,
          1,
          1.1,
          1.2000000000000002,
          1.3,
          1.4000000000000001,
          1.5,
          1.6,
          1.7000000000000002,
          1.8,
          1.9000000000000001,
          2,
          2.1,
          2.2,
          2.3000000000000003,
          2.4000000000000004,
          2.5,
          2.6,
          2.7,
          2.8000000000000003,
          2.9000000000000004,
          3,
          3.1
         ],
         "y": [
          0,
          0.1,
          0.2,
          0.30000000000000004,
          0.4,
          0.5,
          0.6000000000000001,
          0.7000000000000001,
          0.8,
          0.9,
          1,
          1.1,
          1.2000000000000002,
          1.3,
          1.4000000000000001,
          1.5,
          1.6,
          1.7000000000000002,
          1.8,
          1.9000000000000001,
          2,
          2.1,
          2.2,
          2.3000000000000003,
          2.4000000000000004,
          2.5,
          2.6,
          2.7,
          2.8000000000000003,
          2.9000000000000004,
          3,
          3.1
         ],
         "z": [
          [
           -24.320416239232518,
           -23.085426238230053,
           -23.322899711373243,
           -23.075163455267113,
           -24.44175218626847,
           -24.245632295162807,
           -23.36236934883692,
           -23.708462520314768,
           -23.065716199907705,
           -23.682348121555904,
           -23.89589178170697,
           -23.697809829746685,
           -23.541899170118075,
           -24.54909491215742,
           -23.134837162721183,
           -23.410408004083852,
           -23.17109682811183,
           -23.346945884159815,
           -24.35567103368417,
           -23.45508505318277,
           -23.67359760004616,
           -24.3731152548309,
           -23.39136795537741,
           -23.97496357458891,
           -24.159807295772612,
           -24.286939690790295,
           -24.04312394630425,
           -23.464244245719758,
           -23.547034822549186,
           -23.672994621696024,
           -23.27393583408697,
           -23.553408356503777
          ],
          [
           -24.01240848096096,
           -21.710006876129427,
           -22.98409771737736,
           -24.32373877125473,
           -23.632625538694864,
           -21.75630737695375,
           -22.88327970790392,
           -23.227901732684913,
           -23.39014485219875,
           -21.836627464034887,
           -22.548009365409705,
           -23.38856299786039,
           -23.943750054290152,
           -23.275683881877146,
           -21.85102716850979,
           -23.343132249049333,
           -23.889490733887484,
           -21.695915152336788,
           -23.42230128605938,
           -24.72717385975187,
           -24.363567701413764,
           -23.23597111221726,
           -23.31776253110509,
           -24.313517954255392,
           -24.670994660189923,
           -24.412270911929255,
           -24.484115483939245,
           -23.11771094613724,
           -23.870693448325813,
           -24.407271479108765,
           -23.114290792591884,
           -24.027595506760964
          ],
          [
           -24.576004098127793,
           -17.765440025399297,
           -22.489923176952278,
           -24.49296665468875,
           -21.67949584609217,
           -17.699461207613616,
           -21.502231806270952,
           -22.654639162538523,
           -22.240693487995916,
           -19.126005354810122,
           -21.276380033626296,
           -23.17960000905737,
           -23.92538447690093,
           -19.915268030731074,
           -20.798577172946114,
           -25.674589591778172,
           -24.541382082564777,
           -17.83583804799596,
           -22.032543041592874,
           -26.621825420137103,
           -25.650034103995914,
           -21.745009334377276,
           -23.67451969135537,
           -26.018098633411388,
           -24.85226294947331,
           -24.34767877251534,
           -24.383171916440425,
           -24.606356501231236,
           -25.00063490873514,
           -26.349151050975735,
           -23.2800431949976,
           -24.378421928743943
          ],
          [
           -24.70240444999554,
           -16.320316502727824,
           -21.81422373866023,
           -23.607995821490793,
           -21.326716359413492,
           -15.900036327378814,
           -20.910017142420916,
           -21.50946303847991,
           -21.310491824846746,
           -18.20234588164931,
           -20.794653603403447,
           -22.367125524846102,
           -23.15371856358759,
           -18.768706678674675,
           -20.066507636751723,
           -26.960183998905926,
           -24.45710805133935,
           -16.364511905047895,
           -21.760944896718026,
           -28.292929506108926,
           -26.631395038436846,
           -20.422099011391758,
           -23.42313511786083,
           -27.04646668329531,
           -25.980680702528907,
           -24.652384993714488,
           -24.455447316061292,
           -24.939946274797276,
           -25.987249696832667,
           -27.050377467964648,
           -24.183526108366976,
           -24.400208114213964
          ],
          [
           -24.590421629245537,
           -14.137286658560928,
           -20.811307208500864,
           -21.972619022814136,
           -21.193177741930167,
           -15.3312862887063,
           -19.842252155050087,
           -19.871227880101586,
           -20.673618511756313,
           -17.838154998844214,
           -20.99252714632364,
           -22.16681783689181,
           -22.435306656553305,
           -17.22705753532839,
           -20.027340545073553,
           -27.457716719865825,
           -24.14909557163725,
           -15.305697556650465,
           -20.83918302185621,
           -29.680873143012843,
           -27.743735570279902,
           -19.724012873031942,
           -23.709992594229423,
           -27.726215203933187,
           -27.731423745238672,
           -25.491759711927383,
           -25.113596620471434,
           -25.147766033846207,
           -27.372286921734975,
           -28.403047119441393,
           -25.388999626357627,
           -24.734350942941532
          ],
          [
           -24.780202956432724,
           -15.505971036396767,
           -21.99444158951582,
           -22.379109228358377,
           -21.418386407405894,
           -16.866761252593307,
           -20.84636723514324,
           -21.984655120780957,
           -22.09420405855426,
           -19.79454577223201,
           -21.045677878299745,
           -22.17713556056646,
           -22.589950227466083,
           -19.314284057087978,
           -19.2320668172112,
           -25.752849696679217,
           -24.16766042226195,
           -17.860868702363756,
           -20.97015403141685,
           -28.160513017331624,
           -26.344240327118506,
           -22.00062434454912,
           -23.676615765886847,
           -26.8401300902769,
           -27.82860090501811,
           -26.759300610949325,
           -25.78456026298252,
           -25.189417847067528,
           -25.999433685545316,
           -27.168178128800303,
           -25.553396558820506,
           -25.217557505944328
          ],
          [
           -24.448758850157514,
           -15.837048609118156,
           -22.0734691861168,
           -20.373323169614874,
           -21.142311619542195,
           -17.835734298084514,
           -20.780104947660508,
           -20.53633648287783,
           -22.106190672457867,
           -20.282277790480702,
           -21.43220776942787,
           -22.290311750447568,
           -21.881282033060973,
           -19.046708065712032,
           -19.588112060392277,
           -25.78445085639623,
           -23.576260150561176,
           -17.441189161279823,
           -21.25867754426932,
           -28.479970733168976,
           -26.423849689174567,
           -22.378435937790226,
           -23.876101993016036,
           -27.239400510048004,
           -28.69674254675837,
           -26.92753152055174,
           -26.127609085171244,
           -25.62465928031695,
           -26.565086454221472,
           -27.646702970780474,
           -26.422359850215262,
           -25.144119109219332
          ],
          [
           -23.838273550577117,
           -15.35668181135571,
           -18.5714044956865,
           -14.973086124259233,
           -22.857390843096027,
           -20.59740172999629,
           -19.729799493473685,
           -15.9988944657185,
           -20.706600073381573,
           -22.750012122941214,
           -23.17683535511182,
           -20.379298368488534,
           -19.190082508854463,
           -18.932622352735493,
           -21.858412120253238,
           -27.242802414092985,
           -21.537998494438707,
           -15.203027790720908,
           -21.090260742413523,
           -30.447595289565143,
           -27.458159253270928,
           -20.61977528020774,
           -23.211609860775013,
           -27.258524261113013,
           -30.750602968813233,
           -27.5360641649745,
           -26.395299849167287,
           -25.21079437271107,
           -28.43754455076326,
           -28.96669320975308,
           -28.355210510987135,
           -24.886180783595453
          ],
          [
           -23.840766198709655,
           -17.4307090825045,
           -18.573460583050526,
           -13.698464096863791,
           -24.483127390768782,
           -24.275582165585913,
           -20.651840092415146,
           -15.571519710604372,
           -21.724122460211284,
           -25.65580254467271,
           -24.40740210178408,
           -20.84005181198168,
           -19.073032289856886,
           -20.98542754748404,
           -23.384143338573185,
           -26.19854372486741,
           -20.72000641321749,
           -17.339641555174577,
           -21.88565659023898,
           -29.00076769976354,
           -27.19720393785105,
           -21.348498446952256,
           -23.224076596863735,
           -26.397243467464858,
           -30.940037269225645,
           -27.226412800843693,
           -26.037030222381762,
           -24.800250097316624,
           -28.436519567318356,
           -28.158672448030757,
           -28.815329134440173,
           -24.640465742100155
          ],
          [
           -24.293179432535396,
           -21.49563902372139,
           -21.89639991192432,
           -17.241096294442933,
           -24.26364780901144,
           -24.883514674987204,
           -22.67606385607683,
           -20.678246038682843,
           -23.180091910650297,
           -25.54334359953296,
           -24.345533498559274,
           -22.432581034362475,
           -20.44629311917901,
           -23.058185318268354,
           -22.441186729114165,
           -24.131983503152703,
           -21.351970825448102,
           -21.28797091315883,
           -22.657105212666234,
           -26.13306641026194,
           -25.471278461575025,
           -24.78811682770696,
           -24.888187250793298,
           -24.933122921514347,
           -28.359735683605354,
           -26.941952108054608,
           -26.557857090478798,
           -25.84656826659573,
           -26.052816612237997,
           -25.657493039444816,
           -27.42300380521475,
           -24.832694629173563
          ],
          [
           -24.18835357207555,
           -23.667049372265687,
           -20.078532654949548,
           -12.560160576196424,
           -26.08300649870451,
           -29.897521213857765,
           -23.349071084519867,
           -17.573291518807853,
           -23.230481250258403,
           -29.46714481016828,
           -26.800988959873976,
           -21.58723322585867,
           -18.85490049143151,
           -25.080056551116424,
           -25.71558000489,
           -24.07212602811555,
           -19.726676140674662,
           -21.797114886033746,
           -23.391952256117495,
           -25.29872963399142,
           -25.4975826490191,
           -23.772087521921783,
           -22.732193101346144,
           -23.72024333018323,
           -29.44174066574638,
           -27.007970798183422,
           -25.01555613760742,
           -23.654849743564096,
           -26.78878195833695,
           -26.306484382679518,
           -28.324099673045957,
           -24.224669436391057
          ],
          [
           -24.053582528550848,
           -25.159888261147277,
           -22.660704637150204,
           -17.766951666451696,
           -26.095062269339817,
           -28.671779746985578,
           -24.75620667955219,
           -22.648202131334852,
           -24.760399995871495,
           -28.349052873447377,
           -25.981066728931165,
           -23.455916580300116,
           -20.019540138990596,
           -25.919549318822096,
           -25.09190249708806,
           -22.919109312674003,
           -20.37657124103852,
           -24.45526721219756,
           -24.403373373404857,
           -23.64861128713211,
           -24.051709950718088,
           -26.282086558971223,
           -24.983817689380047,
           -23.364478066777867,
           -26.542726256522247,
           -25.747142932099422,
           -25.55435774539035,
           -25.19251430649843,
           -24.961350906612232,
           -23.315629094523402,
           -27.165384696470564,
           -24.124488807521622
          ],
          [
           -23.702876501440837,
           -26.314696632737512,
           -22.831558711817117,
           -19.087848097710076,
           -26.645106215618192,
           -29.70430804078132,
           -24.739203187486314,
           -23.039162542001353,
           -24.878102672803475,
           -28.373450815274605,
           -26.154352780478487,
           -23.56628952553166,
           -20.82068844847591,
           -26.709232781970417,
           -25.64798365807651,
           -22.252906748934176,
           -20.710026498790906,
           -25.509588571525565,
           -24.198924132825898,
           -22.76103633778347,
           -23.47138361087194,
           -26.246050811854467,
           -24.361484602656226,
           -22.88474709566531,
           -25.511750394633804,
           -25.277468608467448,
           -25.420283035242637,
           -24.63929599691106,
           -24.53896049583541,
           -22.890351173649904,
           -26.147239915876295,
           -23.52328098955161
          ],
          [
           -24.579391111336136,
           -27.79655693734596,
           -22.605422018847907,
           -17.57466775642495,
           -27.28622352167048,
           -30.867581666968412,
           -24.72789356070138,
           -22.011911123538866,
           -25.481147992264603,
           -29.792021872799495,
           -26.831078911978594,
           -23.17382561116158,
           -21.756460374974456,
           -27.30592838343503,
           -26.18592892985188,
           -22.36999435371677,
           -21.224927940832234,
           -25.732122884833984,
           -24.798162819909358,
           -21.327686530893804,
           -23.07838064978752,
           -25.899344377503965,
           -23.630842588567877,
           -21.610530678189892,
           -26.20212265022631,
           -24.682943606351618,
           -23.98930535948449,
           -22.700628528278102,
           -24.523434048195043,
           -23.512965777078783,
           -25.83739779246273,
           -23.91766939994314
          ],
          [
           -23.963849659355056,
           -25.809533645516638,
           -23.10079951466651,
           -21.178374450370125,
           -25.515015996638823,
           -27.89000736693956,
           -24.495294658501386,
           -23.593951247788866,
           -24.591779875024567,
           -25.78677965580485,
           -25.2102467713611,
           -24.044041821613543,
           -22.47952893964559,
           -26.26737424971444,
           -25.162650421115252,
           -22.28947217337639,
           -21.759196284825133,
           -24.856602786822624,
           -24.597533754350675,
           -22.469858207460426,
           -22.809228401681445,
           -25.935549856232008,
           -23.228477135112946,
           -22.305683218102313,
           -23.971547798402987,
           -23.901101263556036,
           -24.220563972486833,
           -23.98590075340976,
           -23.815270544298528,
           -21.93300113312764,
           -24.38649039207941,
           -23.38323509633505
          ],
          [
           -24.088232210163056,
           -24.490842095760698,
           -23.367564960275455,
           -22.18846910633116,
           -24.536649709828218,
           -25.94594826467975,
           -24.14594271718699,
           -23.726662408873363,
           -23.579512828426843,
           -24.240383224268694,
           -24.53141090578989,
           -23.71038722688164,
           -23.29340882787182,
           -24.91986118986985,
           -24.699336531710735,
           -23.221200102849288,
           -22.855263584528217,
           -24.06425283472198,
           -23.96006450074092,
           -22.30647414775873,
           -23.148849063212868,
           -24.913079098729074,
           -23.30593020997982,
           -22.550561156434163,
           -23.485906301416343,
           -23.823326961640372,
           -24.01527574227451,
           -23.77726906540609,
           -23.555156533053964,
           -22.505909494068014,
           -23.390172268525838,
           -22.963134690122263
          ],
          [
           -24.584425297747824,
           -23.002301936568838,
           -23.347769954938908,
           -23.680632419958265,
           -23.654457010131882,
           -21.793271856717528,
           -22.834879138716673,
           -23.20424979094025,
           -23.157611094604217,
           -22.179099637841706,
           -23.60795968406393,
           -23.391553747248555,
           -23.264646865782534,
           -22.559329992017503,
           -22.827944970589314,
           -23.95660676382768,
           -23.39847848167016,
           -22.885589669444855,
           -23.73203349484086,
           -23.36313612809673,
           -23.64596937823646,
           -23.78129017422701,
           -23.511291411783446,
           -23.898559220672375,
           -24.000972903448144,
           -23.854337971941845,
           -23.117866109606215,
           -23.428784449491502,
           -23.872427450244793,
           -23.995810887770787,
           -22.891616196859438,
           -24.074553058539617
          ],
          [
           -24.27533652378209,
           -19.44143466456346,
           -22.513833731220963,
           -23.759432640175977,
           -22.02775042247065,
           -20.572785501844397,
           -22.119666447925848,
           -22.614105270416548,
           -22.408444790576837,
           -19.981862382169215,
           -21.836764162606737,
           -22.975862930898195,
           -24.162869671527794,
           -21.80678511345281,
           -21.264541997042343,
           -24.189506962272585,
           -23.962536819865157,
           -20.140765319278007,
           -22.487647821681225,
           -24.742773488811828,
           -24.47098332437701,
           -23.286322152287685,
           -23.216860863725845,
           -23.972231897614034,
           -23.886971708995173,
           -24.70829242772801,
           -24.562314297124512,
           -23.776864204436805,
           -24.14545617896908,
           -24.726357567173118,
           -22.482302032273243,
           -23.606856541903714
          ],
          [
           -24.137284524363384,
           -17.501602522332565,
           -22.374746830962092,
           -23.825553230903626,
           -21.688213763644764,
           -18.380290111534332,
           -21.441305329918094,
           -22.444316108636244,
           -22.26723930953805,
           -19.013388978339396,
           -20.807786635945625,
           -22.536288453160516,
           -24.435935836904576,
           -20.6596986881719,
           -19.95896692197637,
           -24.731093393532888,
           -24.324962761162,
           -19.088910994789483,
           -21.67633875470666,
           -25.822383778795874,
           -25.186041767364642,
           -22.946221566962404,
           -23.06912936769784,
           -25.16571314172455,
           -24.682919259316655,
           -25.102813381071275,
           -24.181810974338276,
           -24.564501678793285,
           -25.221558060200675,
           -25.673592481583537,
           -23.12862031325765,
           -23.83075271627356
          ],
          [
           -24.840526757003676,
           -14.885400025291704,
           -21.200331815863347,
           -23.041840042376855,
           -21.05379159397288,
           -15.177384927913334,
           -19.439311928644862,
           -19.959390773167232,
           -20.726458818746174,
           -17.199041627628635,
           -20.325588476058336,
           -22.557057464234404,
           -22.328251269074737,
           -17.214207912128945,
           -19.4297484814102,
           -26.99084983489194,
           -24.64025678987942,
           -15.935626286460241,
           -21.798412462847224,
           -28.70837690034587,
           -26.99287416251198,
           -20.15533639902893,
           -23.56134950480008,
           -27.654458817801466,
           -27.28392314212878,
           -25.229828428579008,
           -24.454947507935568,
           -25.021734818854338,
           -26.99880004949814,
           -27.49369026570845,
           -24.162443343746844,
           -24.851417332856013
          ],
          [
           -24.520816609052044,
           -13.424316358043502,
           -20.24314232616139,
           -21.258771008360224,
           -21.184514986883926,
           -15.197288803286192,
           -18.959179710053277,
           -18.167674600911088,
           -20.007069352477817,
           -17.341072950724797,
           -20.06244770081424,
           -22.122192767028324,
           -21.382940887651372,
           -16.451206023786714,
           -19.11541282654771,
           -27.469515810689593,
           -23.92382616069325,
           -14.365446215837364,
           -21.117278528038753,
           -30.07704615690211,
           -27.177375956561477,
           -19.240689493113457,
           -23.779795348661562,
           -28.161109605736407,
           -28.756708764872037,
           -26.28745028623988,
           -25.25960009979896,
           -25.69301789359008,
           -27.548925122584755,
           -28.47041657902089,
           -25.03499727014354,
           -24.981521181926848
          ],
          [
           -24.310360803084127,
           -13.556923269966855,
           -19.743754071288095,
           -19.029343403165097,
           -21.76863454590823,
           -16.160318887616558,
           -18.879557353553704,
           -16.96166505474786,
           -20.161565851257137,
           -18.317407541691534,
           -20.663050164745886,
           -21.69831691478193,
           -20.732578191357675,
           -16.45778791272353,
           -19.96339047047211,
           -27.741439297020598,
           -22.929177256461795,
           -14.30388992279981,
           -21.607463505144597,
           -30.822480276083024,
           -27.707022351404387,
           -19.428179262185655,
           -23.40893489507997,
           -28.356993392452694,
           -29.735986793293367,
           -26.572184726187672,
           -25.975196546572242,
           -26.207545266805646,
           -28.643883191775767,
           -28.8416241426655,
           -26.452031109636753,
           -25.171319159154447
          ],
          [
           -23.747554325881655,
           -14.400973778191874,
           -19.18137653805168,
           -16.914300451869007,
           -22.93155015753663,
           -18.623967124603094,
           -19.202604366965144,
           -15.805738615214862,
           -20.558980563253197,
           -20.395428767831664,
           -21.608074220141553,
           -21.500603905430946,
           -19.84514653870613,
           -17.294092912513143,
           -20.92307728232876,
           -27.727064767312353,
           -21.67651412352533,
           -14.288694356187293,
           -21.466954850372883,
           -30.89301664945763,
           -27.42246374973349,
           -19.693664417977807,
           -23.756932564854385,
           -28.19521858683911,
           -30.671549180651407,
           -27.251615078453383,
           -26.293101873915187,
           -26.134033030554722,
           -29.011463532061477,
           -29.214419574436576,
           -27.227388727006048,
           -25.754464067133185
          ],
          [
           -23.849834893476476,
           -16.577129061386003,
           -21.00454507570057,
           -17.691695198654326,
           -20.89982204015669,
           -20.438025598036837,
           -21.095718512044048,
           -19.25806820956579,
           -23.336737776908972,
           -22.26138200422601,
           -22.935762016615048,
           -22.646423006128124,
           -21.105672961829907,
           -20.06620759791939,
           -20.150703101989865,
           -25.692960349877875,
           -22.15753600789513,
           -18.6659531306436,
           -22.199727606395356,
           -27.89619898245638,
           -25.47149596959067,
           -23.424766732000375,
           -25.046890058892288,
           -26.59369534010018,
           -29.256836175630184,
           -27.943800218211447,
           -27.167323751179616,
           -26.69615651809179,
           -27.395236236181084,
           -27.517436918288045,
           -27.437497106545084,
           -25.663674754878553
          ],
          [
           -24.059664190699685,
           -18.641443680751653,
           -18.433852243203393,
           -13.095641694719308,
           -25.19275466903141,
           -25.508779716721826,
           -21.07597337521027,
           -15.59221499780679,
           -21.79076767395741,
           -25.752958414711703,
           -24.187434749357006,
           -21.364884240894213,
           -18.316160775105963,
           -20.86937451555807,
           -23.435378038306293,
           -25.983388216697872,
           -20.12548141534722,
           -17.543973433860945,
           -23.203724191603147,
           -29.511667708331867,
           -26.60921457523943,
           -21.960489754237397,
           -23.186290984143884,
           -26.471459334668694,
           -31.18522932948,
           -28.23669843795283,
           -26.275490879249578,
           -25.17480738067042,
           -28.989606402331493,
           -28.328855357105283,
           -28.809746744635618,
           -25.635429728561977
          ],
          [
           -23.575777714480058,
           -22.331826447965227,
           -19.202753838279488,
           -13.53733357159608,
           -25.045908497645776,
           -27.02641149037108,
           -20.793700257462998,
           -18.209789047306586,
           -23.594855070252965,
           -28.23208679051416,
           -25.095851758444535,
           -20.76063417291416,
           -20.603456419356366,
           -24.87218116894277,
           -23.607241589291505,
           -25.50303076636598,
           -21.53506062835334,
           -19.211235645981766,
           -21.92624192867478,
           -26.34193199915286,
           -26.51048654580105,
           -24.199424088834856,
           -22.821350770180818,
           -24.99078869680962,
           -30.317376606962807,
           -27.8025746198034,
           -24.760722157011344,
           -25.267772402124606,
           -28.42736952778766,
           -27.14590315048165,
           -28.352867547780434,
           -24.874615350202554
          ],
          [
           -23.79096174865412,
           -24.938769380948575,
           -23.007741255950872,
           -16.843642249278027,
           -24.106786941911842,
           -27.706284396599703,
           -22.819306366351995,
           -21.488768323756776,
           -24.771556108518414,
           -27.58039061484157,
           -24.623377418529333,
           -22.717490456306827,
           -21.899479368550274,
           -25.60416801620804,
           -23.146742320564336,
           -24.109642933648374,
           -22.228312177364344,
           -23.87106509374379,
           -24.80939415710281,
           -24.75880960086558,
           -24.641949100440627,
           -27.711659158916344,
           -25.19757656407629,
           -24.154820895413582,
           -27.706777811191554,
           -27.12798145960939,
           -25.706840916157656,
           -25.749315355766246,
           -27.52399262793405,
           -25.035490992538705,
           -27.53210433081334,
           -26.226460462488266
          ],
          [
           -24.29304253023046,
           -28.64084899963688,
           -22.076592288620727,
           -14.159886899768125,
           -27.42324304478455,
           -31.48933368851534,
           -23.220142152467155,
           -21.239349612086034,
           -26.722251177386347,
           -30.51385128269594,
           -25.861932235665535,
           -22.069124805438502,
           -21.63379561522041,
           -27.856188374374135,
           -25.57973755087372,
           -23.586380065287763,
           -21.939285259743745,
           -24.592617656184505,
           -23.69445385364793,
           -23.722857420343733,
           -25.557845869267233,
           -26.85178033931113,
           -23.18774725662082,
           -23.433683025029737,
           -28.85030088302813,
           -26.81434056609171,
           -24.528625297105684,
           -24.567300859705536,
           -27.236424265494424,
           -25.433931804243905,
           -27.014290880581736,
           -24.844333747646452
          ],
          [
           -24.971905009334673,
           -28.00055735677732,
           -24.278451770056652,
           -19.054762714836187,
           -25.619560049099455,
           -29.363115227659165,
           -24.28235140999941,
           -23.01083518274365,
           -26.087039319942093,
           -28.600734402133188,
           -25.286432819831823,
           -23.772526457651164,
           -23.276419940143654,
           -27.591115098139625,
           -25.259433170249363,
           -23.442348213405023,
           -22.82098465411977,
           -26.43645724684535,
           -25.87586579542314,
           -23.460519439528873,
           -24.552908431764433,
           -27.721046675993673,
           -24.929680171779037,
           -23.63266466949855,
           -26.232360690864223,
           -26.19136222494365,
           -24.655719696216792,
           -25.2835595968279,
           -26.41351464454288,
           -24.405832641719442,
           -25.807404051962134,
           -25.189151644295897
          ],
          [
           -25.776787277258986,
           -28.908825832784775,
           -24.336483735245597,
           -20.71494661578089,
           -25.869920088006886,
           -29.336889192867634,
           -24.813809933969395,
           -24.02085262284762,
           -26.190823104169162,
           -27.75754605690635,
           -25.03681171617854,
           -24.113163264907644,
           -24.19679754715207,
           -27.283053667104273,
           -26.11513248002743,
           -23.634556869891803,
           -23.220976026471583,
           -26.69011524970133,
           -25.747024678847833,
           -23.636319101397017,
           -24.719578596788548,
           -27.796580160561703,
           -24.86855004537652,
           -23.699748549807804,
           -25.874487353411627,
           -25.649501876469266,
           -24.305167279964003,
           -25.05274174397934,
           -26.08581956019876,
           -23.903498249244535,
           -25.112890653781747,
           -24.880791318187658
          ],
          [
           -24.86689150845587,
           -28.739746841735574,
           -24.239082881580277,
           -21.994110467826587,
           -26.340076385066837,
           -28.616540733521322,
           -25.309905468629395,
           -25.067308609292567,
           -27.382726955390808,
           -27.780390766669072,
           -25.299282001598176,
           -24.06506703280005,
           -24.72034511135417,
           -27.28224532368832,
           -26.27667999973431,
           -24.08807437080028,
           -24.014257622916627,
           -26.38744758744711,
           -24.63936035888645,
           -23.26411012505405,
           -25.7784107916246,
           -27.29696016184281,
           -24.596715813622694,
           -23.98131431027579,
           -25.31283860418794,
           -25.019686658570627,
           -24.04958063702453,
           -24.381466288272467,
           -25.761206595106632,
           -25.30719870371281,
           -25.40281693662097,
           -24.454106920005966
          ],
          [
           -24.697959484570543,
           -26.57532746356605,
           -24.30577586779829,
           -23.791106640804692,
           -24.740903211899028,
           -25.614465841376035,
           -25.04925948374303,
           -25.590617359513704,
           -26.432008568404118,
           -25.108233063885727,
           -24.508105816317457,
           -24.832682233773753,
           -24.938591764157035,
           -25.9898609245016,
           -25.563892187667857,
           -24.18651554130451,
           -25.003820292391907,
           -25.167102009881706,
           -24.299200805289086,
           -24.252746322016694,
           -25.61958494827139,
           -26.034072397864872,
           -24.835332731275344,
           -24.876969873176126,
           -24.85584006605405,
           -24.723505991303675,
           -24.380658248258317,
           -24.887788628093823,
           -25.289607178419196,
           -25.39245956759983,
           -24.7744491838039,
           -24.55913456475749
          ]
         ]
        }
       ],
       "layout": {
        "scene": {
         "xaxis": {
          "title": {
           "text": "γ"
          }
         },
         "yaxis": {
          "title": {
           "text": "β"
          }
         },
         "zaxis": {
          "title": {
           "text": "F(γ,β)"
          }
         }
        },
        "template": {
         "data": {
          "bar": [
           {
            "error_x": {
             "color": "#2a3f5f"
            },
            "error_y": {
             "color": "#2a3f5f"
            },
            "marker": {
             "line": {
              "color": "#E5ECF6",
              "width": 0.5
             },
             "pattern": {
              "fillmode": "overlay",
              "size": 10,
              "solidity": 0.2
             }
            },
            "type": "bar"
           }
          ],
          "barpolar": [
           {
            "marker": {
             "line": {
              "color": "#E5ECF6",
              "width": 0.5
             },
             "pattern": {
              "fillmode": "overlay",
              "size": 10,
              "solidity": 0.2
             }
            },
            "type": "barpolar"
           }
          ],
          "carpet": [
           {
            "aaxis": {
             "endlinecolor": "#2a3f5f",
             "gridcolor": "white",
             "linecolor": "white",
             "minorgridcolor": "white",
             "startlinecolor": "#2a3f5f"
            },
            "baxis": {
             "endlinecolor": "#2a3f5f",
             "gridcolor": "white",
             "linecolor": "white",
             "minorgridcolor": "white",
             "startlinecolor": "#2a3f5f"
            },
            "type": "carpet"
           }
          ],
          "choropleth": [
           {
            "colorbar": {
             "outlinewidth": 0,
             "ticks": ""
            },
            "type": "choropleth"
           }
          ],
          "contour": [
           {
            "colorbar": {
             "outlinewidth": 0,
             "ticks": ""
            },
            "colorscale": [
             [
              0,
              "#0d0887"
             ],
             [
              0.1111111111111111,
              "#46039f"
             ],
             [
              0.2222222222222222,
              "#7201a8"
             ],
             [
              0.3333333333333333,
              "#9c179e"
             ],
             [
              0.4444444444444444,
              "#bd3786"
             ],
             [
              0.5555555555555556,
              "#d8576b"
             ],
             [
              0.6666666666666666,
              "#ed7953"
             ],
             [
              0.7777777777777778,
              "#fb9f3a"
             ],
             [
              0.8888888888888888,
              "#fdca26"
             ],
             [
              1,
              "#f0f921"
             ]
            ],
            "type": "contour"
           }
          ],
          "contourcarpet": [
           {
            "colorbar": {
             "outlinewidth": 0,
             "ticks": ""
            },
            "type": "contourcarpet"
           }
          ],
          "heatmap": [
           {
            "colorbar": {
             "outlinewidth": 0,
             "ticks": ""
            },
            "colorscale": [
             [
              0,
              "#0d0887"
             ],
             [
              0.1111111111111111,
              "#46039f"
             ],
             [
              0.2222222222222222,
              "#7201a8"
             ],
             [
              0.3333333333333333,
              "#9c179e"
             ],
             [
              0.4444444444444444,
              "#bd3786"
             ],
             [
              0.5555555555555556,
              "#d8576b"
             ],
             [
              0.6666666666666666,
              "#ed7953"
             ],
             [
              0.7777777777777778,
              "#fb9f3a"
             ],
             [
              0.8888888888888888,
              "#fdca26"
             ],
             [
              1,
              "#f0f921"
             ]
            ],
            "type": "heatmap"
           }
          ],
          "heatmapgl": [
           {
            "colorbar": {
             "outlinewidth": 0,
             "ticks": ""
            },
            "colorscale": [
             [
              0,
              "#0d0887"
             ],
             [
              0.1111111111111111,
              "#46039f"
             ],
             [
              0.2222222222222222,
              "#7201a8"
             ],
             [
              0.3333333333333333,
              "#9c179e"
             ],
             [
              0.4444444444444444,
              "#bd3786"
             ],
             [
              0.5555555555555556,
              "#d8576b"
             ],
             [
              0.6666666666666666,
              "#ed7953"
             ],
             [
              0.7777777777777778,
              "#fb9f3a"
             ],
             [
              0.8888888888888888,
              "#fdca26"
             ],
             [
              1,
              "#f0f921"
             ]
            ],
            "type": "heatmapgl"
           }
          ],
          "histogram": [
           {
            "marker": {
             "pattern": {
              "fillmode": "overlay",
              "size": 10,
              "solidity": 0.2
             }
            },
            "type": "histogram"
           }
          ],
          "histogram2d": [
           {
            "colorbar": {
             "outlinewidth": 0,
             "ticks": ""
            },
            "colorscale": [
             [
              0,
              "#0d0887"
             ],
             [
              0.1111111111111111,
              "#46039f"
             ],
             [
              0.2222222222222222,
              "#7201a8"
             ],
             [
              0.3333333333333333,
              "#9c179e"
             ],
             [
              0.4444444444444444,
              "#bd3786"
             ],
             [
              0.5555555555555556,
              "#d8576b"
             ],
             [
              0.6666666666666666,
              "#ed7953"
             ],
             [
              0.7777777777777778,
              "#fb9f3a"
             ],
             [
              0.8888888888888888,
              "#fdca26"
             ],
             [
              1,
              "#f0f921"
             ]
            ],
            "type": "histogram2d"
           }
          ],
          "histogram2dcontour": [
           {
            "colorbar": {
             "outlinewidth": 0,
             "ticks": ""
            },
            "colorscale": [
             [
              0,
              "#0d0887"
             ],
             [
              0.1111111111111111,
              "#46039f"
             ],
             [
              0.2222222222222222,
              "#7201a8"
             ],
             [
              0.3333333333333333,
              "#9c179e"
             ],
             [
              0.4444444444444444,
              "#bd3786"
             ],
             [
              0.5555555555555556,
              "#d8576b"
             ],
             [
              0.6666666666666666,
              "#ed7953"
             ],
             [
              0.7777777777777778,
              "#fb9f3a"
             ],
             [
              0.8888888888888888,
              "#fdca26"
             ],
             [
              1,
              "#f0f921"
             ]
            ],
            "type": "histogram2dcontour"
           }
          ],
          "mesh3d": [
           {
            "colorbar": {
             "outlinewidth": 0,
             "ticks": ""
            },
            "type": "mesh3d"
           }
          ],
          "parcoords": [
           {
            "line": {
             "colorbar": {
              "outlinewidth": 0,
              "ticks": ""
             }
            },
            "type": "parcoords"
           }
          ],
          "pie": [
           {
            "automargin": true,
            "type": "pie"
           }
          ],
          "scatter": [
           {
            "marker": {
             "colorbar": {
              "outlinewidth": 0,
              "ticks": ""
             }
            },
            "type": "scatter"
           }
          ],
          "scatter3d": [
           {
            "line": {
             "colorbar": {
              "outlinewidth": 0,
              "ticks": ""
             }
            },
            "marker": {
             "colorbar": {
              "outlinewidth": 0,
              "ticks": ""
             }
            },
            "type": "scatter3d"
           }
          ],
          "scattercarpet": [
           {
            "marker": {
             "colorbar": {
              "outlinewidth": 0,
              "ticks": ""
             }
            },
            "type": "scattercarpet"
           }
          ],
          "scattergeo": [
           {
            "marker": {
             "colorbar": {
              "outlinewidth": 0,
              "ticks": ""
             }
            },
            "type": "scattergeo"
           }
          ],
          "scattergl": [
           {
            "marker": {
             "colorbar": {
              "outlinewidth": 0,
              "ticks": ""
             }
            },
            "type": "scattergl"
           }
          ],
          "scattermapbox": [
           {
            "marker": {
             "colorbar": {
              "outlinewidth": 0,
              "ticks": ""
             }
            },
            "type": "scattermapbox"
           }
          ],
          "scatterpolar": [
           {
            "marker": {
             "colorbar": {
              "outlinewidth": 0,
              "ticks": ""
             }
            },
            "type": "scatterpolar"
           }
          ],
          "scatterpolargl": [
           {
            "marker": {
             "colorbar": {
              "outlinewidth": 0,
              "ticks": ""
             }
            },
            "type": "scatterpolargl"
           }
          ],
          "scatterternary": [
           {
            "marker": {
             "colorbar": {
              "outlinewidth": 0,
              "ticks": ""
             }
            },
            "type": "scatterternary"
           }
          ],
          "surface": [
           {
            "colorbar": {
             "outlinewidth": 0,
             "ticks": ""
            },
            "colorscale": [
             [
              0,
              "#0d0887"
             ],
             [
              0.1111111111111111,
              "#46039f"
             ],
             [
              0.2222222222222222,
              "#7201a8"
             ],
             [
              0.3333333333333333,
              "#9c179e"
             ],
             [
              0.4444444444444444,
              "#bd3786"
             ],
             [
              0.5555555555555556,
              "#d8576b"
             ],
             [
              0.6666666666666666,
              "#ed7953"
             ],
             [
              0.7777777777777778,
              "#fb9f3a"
             ],
             [
              0.8888888888888888,
              "#fdca26"
             ],
             [
              1,
              "#f0f921"
             ]
            ],
            "type": "surface"
           }
          ],
          "table": [
           {
            "cells": {
             "fill": {
              "color": "#EBF0F8"
             },
             "line": {
              "color": "white"
             }
            },
            "header": {
             "fill": {
              "color": "#C8D4E3"
             },
             "line": {
              "color": "white"
             }
            },
            "type": "table"
           }
          ]
         },
         "layout": {
          "annotationdefaults": {
           "arrowcolor": "#2a3f5f",
           "arrowhead": 0,
           "arrowwidth": 1
          },
          "autotypenumbers": "strict",
          "coloraxis": {
           "colorbar": {
            "outlinewidth": 0,
            "ticks": ""
           }
          },
          "colorscale": {
           "diverging": [
            [
             0,
             "#8e0152"
            ],
            [
             0.1,
             "#c51b7d"
            ],
            [
             0.2,
             "#de77ae"
            ],
            [
             0.3,
             "#f1b6da"
            ],
            [
             0.4,
             "#fde0ef"
            ],
            [
             0.5,
             "#f7f7f7"
            ],
            [
             0.6,
             "#e6f5d0"
            ],
            [
             0.7,
             "#b8e186"
            ],
            [
             0.8,
             "#7fbc41"
            ],
            [
             0.9,
             "#4d9221"
            ],
            [
             1,
             "#276419"
            ]
           ],
           "sequential": [
            [
             0,
             "#0d0887"
            ],
            [
             0.1111111111111111,
             "#46039f"
            ],
            [
             0.2222222222222222,
             "#7201a8"
            ],
            [
             0.3333333333333333,
             "#9c179e"
            ],
            [
             0.4444444444444444,
             "#bd3786"
            ],
            [
             0.5555555555555556,
             "#d8576b"
            ],
            [
             0.6666666666666666,
             "#ed7953"
            ],
            [
             0.7777777777777778,
             "#fb9f3a"
            ],
            [
             0.8888888888888888,
             "#fdca26"
            ],
            [
             1,
             "#f0f921"
            ]
           ],
           "sequentialminus": [
            [
             0,
             "#0d0887"
            ],
            [
             0.1111111111111111,
             "#46039f"
            ],
            [
             0.2222222222222222,
             "#7201a8"
            ],
            [
             0.3333333333333333,
             "#9c179e"
            ],
            [
             0.4444444444444444,
             "#bd3786"
            ],
            [
             0.5555555555555556,
             "#d8576b"
            ],
            [
             0.6666666666666666,
             "#ed7953"
            ],
            [
             0.7777777777777778,
             "#fb9f3a"
            ],
            [
             0.8888888888888888,
             "#fdca26"
            ],
            [
             1,
             "#f0f921"
            ]
           ]
          },
          "colorway": [
           "#636efa",
           "#EF553B",
           "#00cc96",
           "#ab63fa",
           "#FFA15A",
           "#19d3f3",
           "#FF6692",
           "#B6E880",
           "#FF97FF",
           "#FECB52"
          ],
          "font": {
           "color": "#2a3f5f"
          },
          "geo": {
           "bgcolor": "white",
           "lakecolor": "white",
           "landcolor": "#E5ECF6",
           "showlakes": true,
           "showland": true,
           "subunitcolor": "white"
          },
          "hoverlabel": {
           "align": "left"
          },
          "hovermode": "closest",
          "mapbox": {
           "style": "light"
          },
          "paper_bgcolor": "white",
          "plot_bgcolor": "#E5ECF6",
          "polar": {
           "angularaxis": {
            "gridcolor": "white",
            "linecolor": "white",
            "ticks": ""
           },
           "bgcolor": "#E5ECF6",
           "radialaxis": {
            "gridcolor": "white",
            "linecolor": "white",
            "ticks": ""
           }
          },
          "scene": {
           "xaxis": {
            "backgroundcolor": "#E5ECF6",
            "gridcolor": "white",
            "gridwidth": 2,
            "linecolor": "white",
            "showbackground": true,
            "ticks": "",
            "zerolinecolor": "white"
           },
           "yaxis": {
            "backgroundcolor": "#E5ECF6",
            "gridcolor": "white",
            "gridwidth": 2,
            "linecolor": "white",
            "showbackground": true,
            "ticks": "",
            "zerolinecolor": "white"
           },
           "zaxis": {
            "backgroundcolor": "#E5ECF6",
            "gridcolor": "white",
            "gridwidth": 2,
            "linecolor": "white",
            "showbackground": true,
            "ticks": "",
            "zerolinecolor": "white"
           }
          },
          "shapedefaults": {
           "line": {
            "color": "#2a3f5f"
           }
          },
          "ternary": {
           "aaxis": {
            "gridcolor": "white",
            "linecolor": "white",
            "ticks": ""
           },
           "baxis": {
            "gridcolor": "white",
            "linecolor": "white",
            "ticks": ""
           },
           "bgcolor": "#E5ECF6",
           "caxis": {
            "gridcolor": "white",
            "linecolor": "white",
            "ticks": ""
           }
          },
          "title": {
           "x": 0.05
          },
          "xaxis": {
           "automargin": true,
           "gridcolor": "white",
           "linecolor": "white",
           "ticks": "",
           "title": {
            "standoff": 15
           },
           "zerolinecolor": "white",
           "zerolinewidth": 2
          },
          "yaxis": {
           "automargin": true,
           "gridcolor": "white",
           "linecolor": "white",
           "ticks": "",
           "title": {
            "standoff": 15
           },
           "zerolinecolor": "white",
           "zerolinewidth": 2
          }
         }
        },
        "title": {
         "text": "QAOA with General Error Mitigation - MaxCut-Landscape"
        }
       }
      },
      "text/html": [
       "<div>                            <div id=\"48e20703-a532-490b-8878-527f96384954\" class=\"plotly-graph-div\" style=\"height:525px; width:100%;\"></div>            <script type=\"text/javascript\">                require([\"plotly\"], function(Plotly) {                    window.PLOTLYENV=window.PLOTLYENV || {};                                    if (document.getElementById(\"48e20703-a532-490b-8878-527f96384954\")) {                    Plotly.newPlot(                        \"48e20703-a532-490b-8878-527f96384954\",                        [{\"contours\":{\"z\":{\"highlightcolor\":\"limegreen\",\"project\":{\"z\":true},\"show\":true,\"usecolormap\":true}},\"type\":\"surface\",\"x\":[0.0,0.1,0.2,0.30000000000000004,0.4,0.5,0.6000000000000001,0.7000000000000001,0.8,0.9,1.0,1.1,1.2000000000000002,1.3,1.4000000000000001,1.5,1.6,1.7000000000000002,1.8,1.9000000000000001,2.0,2.1,2.2,2.3000000000000003,2.4000000000000004,2.5,2.6,2.7,2.8000000000000003,2.9000000000000004,3.0,3.1],\"y\":[0.0,0.1,0.2,0.30000000000000004,0.4,0.5,0.6000000000000001,0.7000000000000001,0.8,0.9,1.0,1.1,1.2000000000000002,1.3,1.4000000000000001,1.5,1.6,1.7000000000000002,1.8,1.9000000000000001,2.0,2.1,2.2,2.3000000000000003,2.4000000000000004,2.5,2.6,2.7,2.8000000000000003,2.9000000000000004,3.0,3.1],\"z\":[[-24.320416239232518,-23.085426238230053,-23.322899711373243,-23.075163455267113,-24.44175218626847,-24.245632295162807,-23.36236934883692,-23.708462520314768,-23.065716199907705,-23.682348121555904,-23.89589178170697,-23.697809829746685,-23.541899170118075,-24.54909491215742,-23.134837162721183,-23.410408004083852,-23.17109682811183,-23.346945884159815,-24.35567103368417,-23.45508505318277,-23.67359760004616,-24.3731152548309,-23.39136795537741,-23.97496357458891,-24.159807295772612,-24.286939690790295,-24.04312394630425,-23.464244245719758,-23.547034822549186,-23.672994621696024,-23.27393583408697,-23.553408356503777],[-24.01240848096096,-21.710006876129427,-22.98409771737736,-24.32373877125473,-23.632625538694864,-21.75630737695375,-22.88327970790392,-23.227901732684913,-23.39014485219875,-21.836627464034887,-22.548009365409705,-23.38856299786039,-23.943750054290152,-23.275683881877146,-21.85102716850979,-23.343132249049333,-23.889490733887484,-21.695915152336788,-23.42230128605938,-24.72717385975187,-24.363567701413764,-23.23597111221726,-23.31776253110509,-24.313517954255392,-24.670994660189923,-24.412270911929255,-24.484115483939245,-23.11771094613724,-23.870693448325813,-24.407271479108765,-23.114290792591884,-24.027595506760964],[-24.576004098127793,-17.765440025399297,-22.489923176952278,-24.49296665468875,-21.67949584609217,-17.699461207613616,-21.502231806270952,-22.654639162538523,-22.240693487995916,-19.126005354810122,-21.276380033626296,-23.17960000905737,-23.92538447690093,-19.915268030731074,-20.798577172946114,-25.674589591778172,-24.541382082564777,-17.83583804799596,-22.032543041592874,-26.621825420137103,-25.650034103995914,-21.745009334377276,-23.67451969135537,-26.018098633411388,-24.85226294947331,-24.34767877251534,-24.383171916440425,-24.606356501231236,-25.00063490873514,-26.349151050975735,-23.2800431949976,-24.378421928743943],[-24.70240444999554,-16.320316502727824,-21.81422373866023,-23.607995821490793,-21.326716359413492,-15.900036327378814,-20.910017142420916,-21.50946303847991,-21.310491824846746,-18.20234588164931,-20.794653603403447,-22.367125524846102,-23.15371856358759,-18.768706678674675,-20.066507636751723,-26.960183998905926,-24.45710805133935,-16.364511905047895,-21.760944896718026,-28.292929506108926,-26.631395038436846,-20.422099011391758,-23.42313511786083,-27.04646668329531,-25.980680702528907,-24.652384993714488,-24.455447316061292,-24.939946274797276,-25.987249696832667,-27.050377467964648,-24.183526108366976,-24.400208114213964],[-24.590421629245537,-14.137286658560928,-20.811307208500864,-21.972619022814136,-21.193177741930167,-15.3312862887063,-19.842252155050087,-19.871227880101586,-20.673618511756313,-17.838154998844214,-20.99252714632364,-22.16681783689181,-22.435306656553305,-17.22705753532839,-20.027340545073553,-27.457716719865825,-24.14909557163725,-15.305697556650465,-20.83918302185621,-29.680873143012843,-27.743735570279902,-19.724012873031942,-23.709992594229423,-27.726215203933187,-27.731423745238672,-25.491759711927383,-25.113596620471434,-25.147766033846207,-27.372286921734975,-28.403047119441393,-25.388999626357627,-24.734350942941532],[-24.780202956432724,-15.505971036396767,-21.99444158951582,-22.379109228358377,-21.418386407405894,-16.866761252593307,-20.84636723514324,-21.984655120780957,-22.09420405855426,-19.79454577223201,-21.045677878299745,-22.17713556056646,-22.589950227466083,-19.314284057087978,-19.2320668172112,-25.752849696679217,-24.16766042226195,-17.860868702363756,-20.97015403141685,-28.160513017331624,-26.344240327118506,-22.00062434454912,-23.676615765886847,-26.8401300902769,-27.82860090501811,-26.759300610949325,-25.78456026298252,-25.189417847067528,-25.999433685545316,-27.168178128800303,-25.553396558820506,-25.217557505944328],[-24.448758850157514,-15.837048609118156,-22.0734691861168,-20.373323169614874,-21.142311619542195,-17.835734298084514,-20.780104947660508,-20.53633648287783,-22.106190672457867,-20.282277790480702,-21.43220776942787,-22.290311750447568,-21.881282033060973,-19.046708065712032,-19.588112060392277,-25.78445085639623,-23.576260150561176,-17.441189161279823,-21.25867754426932,-28.479970733168976,-26.423849689174567,-22.378435937790226,-23.876101993016036,-27.239400510048004,-28.69674254675837,-26.92753152055174,-26.127609085171244,-25.62465928031695,-26.565086454221472,-27.646702970780474,-26.422359850215262,-25.144119109219332],[-23.838273550577117,-15.35668181135571,-18.5714044956865,-14.973086124259233,-22.857390843096027,-20.59740172999629,-19.729799493473685,-15.9988944657185,-20.706600073381573,-22.750012122941214,-23.17683535511182,-20.379298368488534,-19.190082508854463,-18.932622352735493,-21.858412120253238,-27.242802414092985,-21.537998494438707,-15.203027790720908,-21.090260742413523,-30.447595289565143,-27.458159253270928,-20.61977528020774,-23.211609860775013,-27.258524261113013,-30.750602968813233,-27.5360641649745,-26.395299849167287,-25.21079437271107,-28.43754455076326,-28.96669320975308,-28.355210510987135,-24.886180783595453],[-23.840766198709655,-17.4307090825045,-18.573460583050526,-13.698464096863791,-24.483127390768782,-24.275582165585913,-20.651840092415146,-15.571519710604372,-21.724122460211284,-25.65580254467271,-24.40740210178408,-20.84005181198168,-19.073032289856886,-20.98542754748404,-23.384143338573185,-26.19854372486741,-20.72000641321749,-17.339641555174577,-21.88565659023898,-29.00076769976354,-27.19720393785105,-21.348498446952256,-23.224076596863735,-26.397243467464858,-30.940037269225645,-27.226412800843693,-26.037030222381762,-24.800250097316624,-28.436519567318356,-28.158672448030757,-28.815329134440173,-24.640465742100155],[-24.293179432535396,-21.49563902372139,-21.89639991192432,-17.241096294442933,-24.26364780901144,-24.883514674987204,-22.67606385607683,-20.678246038682843,-23.180091910650297,-25.54334359953296,-24.345533498559274,-22.432581034362475,-20.44629311917901,-23.058185318268354,-22.441186729114165,-24.131983503152703,-21.351970825448102,-21.28797091315883,-22.657105212666234,-26.13306641026194,-25.471278461575025,-24.78811682770696,-24.888187250793298,-24.933122921514347,-28.359735683605354,-26.941952108054608,-26.557857090478798,-25.84656826659573,-26.052816612237997,-25.657493039444816,-27.42300380521475,-24.832694629173563],[-24.18835357207555,-23.667049372265687,-20.078532654949548,-12.560160576196424,-26.08300649870451,-29.897521213857765,-23.349071084519867,-17.573291518807853,-23.230481250258403,-29.46714481016828,-26.800988959873976,-21.58723322585867,-18.85490049143151,-25.080056551116424,-25.71558000489,-24.07212602811555,-19.726676140674662,-21.797114886033746,-23.391952256117495,-25.29872963399142,-25.4975826490191,-23.772087521921783,-22.732193101346144,-23.72024333018323,-29.44174066574638,-27.007970798183422,-25.01555613760742,-23.654849743564096,-26.78878195833695,-26.306484382679518,-28.324099673045957,-24.224669436391057],[-24.053582528550848,-25.159888261147277,-22.660704637150204,-17.766951666451696,-26.095062269339817,-28.671779746985578,-24.75620667955219,-22.648202131334852,-24.760399995871495,-28.349052873447377,-25.981066728931165,-23.455916580300116,-20.019540138990596,-25.919549318822096,-25.09190249708806,-22.919109312674003,-20.37657124103852,-24.45526721219756,-24.403373373404857,-23.64861128713211,-24.051709950718088,-26.282086558971223,-24.983817689380047,-23.364478066777867,-26.542726256522247,-25.747142932099422,-25.55435774539035,-25.19251430649843,-24.961350906612232,-23.315629094523402,-27.165384696470564,-24.124488807521622],[-23.702876501440837,-26.314696632737512,-22.831558711817117,-19.087848097710076,-26.645106215618192,-29.70430804078132,-24.739203187486314,-23.039162542001353,-24.878102672803475,-28.373450815274605,-26.154352780478487,-23.56628952553166,-20.82068844847591,-26.709232781970417,-25.64798365807651,-22.252906748934176,-20.710026498790906,-25.509588571525565,-24.198924132825898,-22.76103633778347,-23.47138361087194,-26.246050811854467,-24.361484602656226,-22.88474709566531,-25.511750394633804,-25.277468608467448,-25.420283035242637,-24.63929599691106,-24.53896049583541,-22.890351173649904,-26.147239915876295,-23.52328098955161],[-24.579391111336136,-27.79655693734596,-22.605422018847907,-17.57466775642495,-27.28622352167048,-30.867581666968412,-24.72789356070138,-22.011911123538866,-25.481147992264603,-29.792021872799495,-26.831078911978594,-23.17382561116158,-21.756460374974456,-27.30592838343503,-26.18592892985188,-22.36999435371677,-21.224927940832234,-25.732122884833984,-24.798162819909358,-21.327686530893804,-23.07838064978752,-25.899344377503965,-23.630842588567877,-21.610530678189892,-26.20212265022631,-24.682943606351618,-23.98930535948449,-22.700628528278102,-24.523434048195043,-23.512965777078783,-25.83739779246273,-23.91766939994314],[-23.963849659355056,-25.809533645516638,-23.10079951466651,-21.178374450370125,-25.515015996638823,-27.89000736693956,-24.495294658501386,-23.593951247788866,-24.591779875024567,-25.78677965580485,-25.2102467713611,-24.044041821613543,-22.47952893964559,-26.26737424971444,-25.162650421115252,-22.28947217337639,-21.759196284825133,-24.856602786822624,-24.597533754350675,-22.469858207460426,-22.809228401681445,-25.935549856232008,-23.228477135112946,-22.305683218102313,-23.971547798402987,-23.901101263556036,-24.220563972486833,-23.98590075340976,-23.815270544298528,-21.93300113312764,-24.38649039207941,-23.38323509633505],[-24.088232210163056,-24.490842095760698,-23.367564960275455,-22.18846910633116,-24.536649709828218,-25.94594826467975,-24.14594271718699,-23.726662408873363,-23.579512828426843,-24.240383224268694,-24.53141090578989,-23.71038722688164,-23.29340882787182,-24.91986118986985,-24.699336531710735,-23.221200102849288,-22.855263584528217,-24.06425283472198,-23.96006450074092,-22.30647414775873,-23.148849063212868,-24.913079098729074,-23.30593020997982,-22.550561156434163,-23.485906301416343,-23.823326961640372,-24.01527574227451,-23.77726906540609,-23.555156533053964,-22.505909494068014,-23.390172268525838,-22.963134690122263],[-24.584425297747824,-23.002301936568838,-23.347769954938908,-23.680632419958265,-23.654457010131882,-21.793271856717528,-22.834879138716673,-23.20424979094025,-23.157611094604217,-22.179099637841706,-23.60795968406393,-23.391553747248555,-23.264646865782534,-22.559329992017503,-22.827944970589314,-23.95660676382768,-23.39847848167016,-22.885589669444855,-23.73203349484086,-23.36313612809673,-23.64596937823646,-23.78129017422701,-23.511291411783446,-23.898559220672375,-24.000972903448144,-23.854337971941845,-23.117866109606215,-23.428784449491502,-23.872427450244793,-23.995810887770787,-22.891616196859438,-24.074553058539617],[-24.27533652378209,-19.44143466456346,-22.513833731220963,-23.759432640175977,-22.02775042247065,-20.572785501844397,-22.119666447925848,-22.614105270416548,-22.408444790576837,-19.981862382169215,-21.836764162606737,-22.975862930898195,-24.162869671527794,-21.80678511345281,-21.264541997042343,-24.189506962272585,-23.962536819865157,-20.140765319278007,-22.487647821681225,-24.742773488811828,-24.47098332437701,-23.286322152287685,-23.216860863725845,-23.972231897614034,-23.886971708995173,-24.70829242772801,-24.562314297124512,-23.776864204436805,-24.14545617896908,-24.726357567173118,-22.482302032273243,-23.606856541903714],[-24.137284524363384,-17.501602522332565,-22.374746830962092,-23.825553230903626,-21.688213763644764,-18.380290111534332,-21.441305329918094,-22.444316108636244,-22.26723930953805,-19.013388978339396,-20.807786635945625,-22.536288453160516,-24.435935836904576,-20.6596986881719,-19.95896692197637,-24.731093393532888,-24.324962761162,-19.088910994789483,-21.67633875470666,-25.822383778795874,-25.186041767364642,-22.946221566962404,-23.06912936769784,-25.16571314172455,-24.682919259316655,-25.102813381071275,-24.181810974338276,-24.564501678793285,-25.221558060200675,-25.673592481583537,-23.12862031325765,-23.83075271627356],[-24.840526757003676,-14.885400025291704,-21.200331815863347,-23.041840042376855,-21.05379159397288,-15.177384927913334,-19.439311928644862,-19.959390773167232,-20.726458818746174,-17.199041627628635,-20.325588476058336,-22.557057464234404,-22.328251269074737,-17.214207912128945,-19.4297484814102,-26.99084983489194,-24.64025678987942,-15.935626286460241,-21.798412462847224,-28.70837690034587,-26.99287416251198,-20.15533639902893,-23.56134950480008,-27.654458817801466,-27.28392314212878,-25.229828428579008,-24.454947507935568,-25.021734818854338,-26.99880004949814,-27.49369026570845,-24.162443343746844,-24.851417332856013],[-24.520816609052044,-13.424316358043502,-20.24314232616139,-21.258771008360224,-21.184514986883926,-15.197288803286192,-18.959179710053277,-18.167674600911088,-20.007069352477817,-17.341072950724797,-20.06244770081424,-22.122192767028324,-21.382940887651372,-16.451206023786714,-19.11541282654771,-27.469515810689593,-23.92382616069325,-14.365446215837364,-21.117278528038753,-30.07704615690211,-27.177375956561477,-19.240689493113457,-23.779795348661562,-28.161109605736407,-28.756708764872037,-26.28745028623988,-25.25960009979896,-25.69301789359008,-27.548925122584755,-28.47041657902089,-25.03499727014354,-24.981521181926848],[-24.310360803084127,-13.556923269966855,-19.743754071288095,-19.029343403165097,-21.76863454590823,-16.160318887616558,-18.879557353553704,-16.96166505474786,-20.161565851257137,-18.317407541691534,-20.663050164745886,-21.69831691478193,-20.732578191357675,-16.45778791272353,-19.96339047047211,-27.741439297020598,-22.929177256461795,-14.30388992279981,-21.607463505144597,-30.822480276083024,-27.707022351404387,-19.428179262185655,-23.40893489507997,-28.356993392452694,-29.735986793293367,-26.572184726187672,-25.975196546572242,-26.207545266805646,-28.643883191775767,-28.8416241426655,-26.452031109636753,-25.171319159154447],[-23.747554325881655,-14.400973778191874,-19.18137653805168,-16.914300451869007,-22.93155015753663,-18.623967124603094,-19.202604366965144,-15.805738615214862,-20.558980563253197,-20.395428767831664,-21.608074220141553,-21.500603905430946,-19.84514653870613,-17.294092912513143,-20.92307728232876,-27.727064767312353,-21.67651412352533,-14.288694356187293,-21.466954850372883,-30.89301664945763,-27.42246374973349,-19.693664417977807,-23.756932564854385,-28.19521858683911,-30.671549180651407,-27.251615078453383,-26.293101873915187,-26.134033030554722,-29.011463532061477,-29.214419574436576,-27.227388727006048,-25.754464067133185],[-23.849834893476476,-16.577129061386003,-21.00454507570057,-17.691695198654326,-20.89982204015669,-20.438025598036837,-21.095718512044048,-19.25806820956579,-23.336737776908972,-22.26138200422601,-22.935762016615048,-22.646423006128124,-21.105672961829907,-20.06620759791939,-20.150703101989865,-25.692960349877875,-22.15753600789513,-18.6659531306436,-22.199727606395356,-27.89619898245638,-25.47149596959067,-23.424766732000375,-25.046890058892288,-26.59369534010018,-29.256836175630184,-27.943800218211447,-27.167323751179616,-26.69615651809179,-27.395236236181084,-27.517436918288045,-27.437497106545084,-25.663674754878553],[-24.059664190699685,-18.641443680751653,-18.433852243203393,-13.095641694719308,-25.19275466903141,-25.508779716721826,-21.07597337521027,-15.59221499780679,-21.79076767395741,-25.752958414711703,-24.187434749357006,-21.364884240894213,-18.316160775105963,-20.86937451555807,-23.435378038306293,-25.983388216697872,-20.12548141534722,-17.543973433860945,-23.203724191603147,-29.511667708331867,-26.60921457523943,-21.960489754237397,-23.186290984143884,-26.471459334668694,-31.18522932948,-28.23669843795283,-26.275490879249578,-25.17480738067042,-28.989606402331493,-28.328855357105283,-28.809746744635618,-25.635429728561977],[-23.575777714480058,-22.331826447965227,-19.202753838279488,-13.53733357159608,-25.045908497645776,-27.02641149037108,-20.793700257462998,-18.209789047306586,-23.594855070252965,-28.23208679051416,-25.095851758444535,-20.76063417291416,-20.603456419356366,-24.87218116894277,-23.607241589291505,-25.50303076636598,-21.53506062835334,-19.211235645981766,-21.92624192867478,-26.34193199915286,-26.51048654580105,-24.199424088834856,-22.821350770180818,-24.99078869680962,-30.317376606962807,-27.8025746198034,-24.760722157011344,-25.267772402124606,-28.42736952778766,-27.14590315048165,-28.352867547780434,-24.874615350202554],[-23.79096174865412,-24.938769380948575,-23.007741255950872,-16.843642249278027,-24.106786941911842,-27.706284396599703,-22.819306366351995,-21.488768323756776,-24.771556108518414,-27.58039061484157,-24.623377418529333,-22.717490456306827,-21.899479368550274,-25.60416801620804,-23.146742320564336,-24.109642933648374,-22.228312177364344,-23.87106509374379,-24.80939415710281,-24.75880960086558,-24.641949100440627,-27.711659158916344,-25.19757656407629,-24.154820895413582,-27.706777811191554,-27.12798145960939,-25.706840916157656,-25.749315355766246,-27.52399262793405,-25.035490992538705,-27.53210433081334,-26.226460462488266],[-24.29304253023046,-28.64084899963688,-22.076592288620727,-14.159886899768125,-27.42324304478455,-31.48933368851534,-23.220142152467155,-21.239349612086034,-26.722251177386347,-30.51385128269594,-25.861932235665535,-22.069124805438502,-21.63379561522041,-27.856188374374135,-25.57973755087372,-23.586380065287763,-21.939285259743745,-24.592617656184505,-23.69445385364793,-23.722857420343733,-25.557845869267233,-26.85178033931113,-23.18774725662082,-23.433683025029737,-28.85030088302813,-26.81434056609171,-24.528625297105684,-24.567300859705536,-27.236424265494424,-25.433931804243905,-27.014290880581736,-24.844333747646452],[-24.971905009334673,-28.00055735677732,-24.278451770056652,-19.054762714836187,-25.619560049099455,-29.363115227659165,-24.28235140999941,-23.01083518274365,-26.087039319942093,-28.600734402133188,-25.286432819831823,-23.772526457651164,-23.276419940143654,-27.591115098139625,-25.259433170249363,-23.442348213405023,-22.82098465411977,-26.43645724684535,-25.87586579542314,-23.460519439528873,-24.552908431764433,-27.721046675993673,-24.929680171779037,-23.63266466949855,-26.232360690864223,-26.19136222494365,-24.655719696216792,-25.2835595968279,-26.41351464454288,-24.405832641719442,-25.807404051962134,-25.189151644295897],[-25.776787277258986,-28.908825832784775,-24.336483735245597,-20.71494661578089,-25.869920088006886,-29.336889192867634,-24.813809933969395,-24.02085262284762,-26.190823104169162,-27.75754605690635,-25.03681171617854,-24.113163264907644,-24.19679754715207,-27.283053667104273,-26.11513248002743,-23.634556869891803,-23.220976026471583,-26.69011524970133,-25.747024678847833,-23.636319101397017,-24.719578596788548,-27.796580160561703,-24.86855004537652,-23.699748549807804,-25.874487353411627,-25.649501876469266,-24.305167279964003,-25.05274174397934,-26.08581956019876,-23.903498249244535,-25.112890653781747,-24.880791318187658],[-24.86689150845587,-28.739746841735574,-24.239082881580277,-21.994110467826587,-26.340076385066837,-28.616540733521322,-25.309905468629395,-25.067308609292567,-27.382726955390808,-27.780390766669072,-25.299282001598176,-24.06506703280005,-24.72034511135417,-27.28224532368832,-26.27667999973431,-24.08807437080028,-24.014257622916627,-26.38744758744711,-24.63936035888645,-23.26411012505405,-25.7784107916246,-27.29696016184281,-24.596715813622694,-23.98131431027579,-25.31283860418794,-25.019686658570627,-24.04958063702453,-24.381466288272467,-25.761206595106632,-25.30719870371281,-25.40281693662097,-24.454106920005966],[-24.697959484570543,-26.57532746356605,-24.30577586779829,-23.791106640804692,-24.740903211899028,-25.614465841376035,-25.04925948374303,-25.590617359513704,-26.432008568404118,-25.108233063885727,-24.508105816317457,-24.832682233773753,-24.938591764157035,-25.9898609245016,-25.563892187667857,-24.18651554130451,-25.003820292391907,-25.167102009881706,-24.299200805289086,-24.252746322016694,-25.61958494827139,-26.034072397864872,-24.835332731275344,-24.876969873176126,-24.85584006605405,-24.723505991303675,-24.380658248258317,-24.887788628093823,-25.289607178419196,-25.39245956759983,-24.7744491838039,-24.55913456475749]]}],                        {\"scene\":{\"xaxis\":{\"title\":{\"text\":\"\\u03b3\"}},\"yaxis\":{\"title\":{\"text\":\"\\u03b2\"}},\"zaxis\":{\"title\":{\"text\":\"F(\\u03b3,\\u03b2)\"}}},\"template\":{\"data\":{\"bar\":[{\"error_x\":{\"color\":\"#2a3f5f\"},\"error_y\":{\"color\":\"#2a3f5f\"},\"marker\":{\"line\":{\"color\":\"#E5ECF6\",\"width\":0.5},\"pattern\":{\"fillmode\":\"overlay\",\"size\":10,\"solidity\":0.2}},\"type\":\"bar\"}],\"barpolar\":[{\"marker\":{\"line\":{\"color\":\"#E5ECF6\",\"width\":0.5},\"pattern\":{\"fillmode\":\"overlay\",\"size\":10,\"solidity\":0.2}},\"type\":\"barpolar\"}],\"carpet\":[{\"aaxis\":{\"endlinecolor\":\"#2a3f5f\",\"gridcolor\":\"white\",\"linecolor\":\"white\",\"minorgridcolor\":\"white\",\"startlinecolor\":\"#2a3f5f\"},\"baxis\":{\"endlinecolor\":\"#2a3f5f\",\"gridcolor\":\"white\",\"linecolor\":\"white\",\"minorgridcolor\":\"white\",\"startlinecolor\":\"#2a3f5f\"},\"type\":\"carpet\"}],\"choropleth\":[{\"colorbar\":{\"outlinewidth\":0,\"ticks\":\"\"},\"type\":\"choropleth\"}],\"contour\":[{\"colorbar\":{\"outlinewidth\":0,\"ticks\":\"\"},\"colorscale\":[[0.0,\"#0d0887\"],[0.1111111111111111,\"#46039f\"],[0.2222222222222222,\"#7201a8\"],[0.3333333333333333,\"#9c179e\"],[0.4444444444444444,\"#bd3786\"],[0.5555555555555556,\"#d8576b\"],[0.6666666666666666,\"#ed7953\"],[0.7777777777777778,\"#fb9f3a\"],[0.8888888888888888,\"#fdca26\"],[1.0,\"#f0f921\"]],\"type\":\"contour\"}],\"contourcarpet\":[{\"colorbar\":{\"outlinewidth\":0,\"ticks\":\"\"},\"type\":\"contourcarpet\"}],\"heatmap\":[{\"colorbar\":{\"outlinewidth\":0,\"ticks\":\"\"},\"colorscale\":[[0.0,\"#0d0887\"],[0.1111111111111111,\"#46039f\"],[0.2222222222222222,\"#7201a8\"],[0.3333333333333333,\"#9c179e\"],[0.4444444444444444,\"#bd3786\"],[0.5555555555555556,\"#d8576b\"],[0.6666666666666666,\"#ed7953\"],[0.7777777777777778,\"#fb9f3a\"],[0.8888888888888888,\"#fdca26\"],[1.0,\"#f0f921\"]],\"type\":\"heatmap\"}],\"heatmapgl\":[{\"colorbar\":{\"outlinewidth\":0,\"ticks\":\"\"},\"colorscale\":[[0.0,\"#0d0887\"],[0.1111111111111111,\"#46039f\"],[0.2222222222222222,\"#7201a8\"],[0.3333333333333333,\"#9c179e\"],[0.4444444444444444,\"#bd3786\"],[0.5555555555555556,\"#d8576b\"],[0.6666666666666666,\"#ed7953\"],[0.7777777777777778,\"#fb9f3a\"],[0.8888888888888888,\"#fdca26\"],[1.0,\"#f0f921\"]],\"type\":\"heatmapgl\"}],\"histogram\":[{\"marker\":{\"pattern\":{\"fillmode\":\"overlay\",\"size\":10,\"solidity\":0.2}},\"type\":\"histogram\"}],\"histogram2d\":[{\"colorbar\":{\"outlinewidth\":0,\"ticks\":\"\"},\"colorscale\":[[0.0,\"#0d0887\"],[0.1111111111111111,\"#46039f\"],[0.2222222222222222,\"#7201a8\"],[0.3333333333333333,\"#9c179e\"],[0.4444444444444444,\"#bd3786\"],[0.5555555555555556,\"#d8576b\"],[0.6666666666666666,\"#ed7953\"],[0.7777777777777778,\"#fb9f3a\"],[0.8888888888888888,\"#fdca26\"],[1.0,\"#f0f921\"]],\"type\":\"histogram2d\"}],\"histogram2dcontour\":[{\"colorbar\":{\"outlinewidth\":0,\"ticks\":\"\"},\"colorscale\":[[0.0,\"#0d0887\"],[0.1111111111111111,\"#46039f\"],[0.2222222222222222,\"#7201a8\"],[0.3333333333333333,\"#9c179e\"],[0.4444444444444444,\"#bd3786\"],[0.5555555555555556,\"#d8576b\"],[0.6666666666666666,\"#ed7953\"],[0.7777777777777778,\"#fb9f3a\"],[0.8888888888888888,\"#fdca26\"],[1.0,\"#f0f921\"]],\"type\":\"histogram2dcontour\"}],\"mesh3d\":[{\"colorbar\":{\"outlinewidth\":0,\"ticks\":\"\"},\"type\":\"mesh3d\"}],\"parcoords\":[{\"line\":{\"colorbar\":{\"outlinewidth\":0,\"ticks\":\"\"}},\"type\":\"parcoords\"}],\"pie\":[{\"automargin\":true,\"type\":\"pie\"}],\"scatter\":[{\"marker\":{\"colorbar\":{\"outlinewidth\":0,\"ticks\":\"\"}},\"type\":\"scatter\"}],\"scatter3d\":[{\"line\":{\"colorbar\":{\"outlinewidth\":0,\"ticks\":\"\"}},\"marker\":{\"colorbar\":{\"outlinewidth\":0,\"ticks\":\"\"}},\"type\":\"scatter3d\"}],\"scattercarpet\":[{\"marker\":{\"colorbar\":{\"outlinewidth\":0,\"ticks\":\"\"}},\"type\":\"scattercarpet\"}],\"scattergeo\":[{\"marker\":{\"colorbar\":{\"outlinewidth\":0,\"ticks\":\"\"}},\"type\":\"scattergeo\"}],\"scattergl\":[{\"marker\":{\"colorbar\":{\"outlinewidth\":0,\"ticks\":\"\"}},\"type\":\"scattergl\"}],\"scattermapbox\":[{\"marker\":{\"colorbar\":{\"outlinewidth\":0,\"ticks\":\"\"}},\"type\":\"scattermapbox\"}],\"scatterpolar\":[{\"marker\":{\"colorbar\":{\"outlinewidth\":0,\"ticks\":\"\"}},\"type\":\"scatterpolar\"}],\"scatterpolargl\":[{\"marker\":{\"colorbar\":{\"outlinewidth\":0,\"ticks\":\"\"}},\"type\":\"scatterpolargl\"}],\"scatterternary\":[{\"marker\":{\"colorbar\":{\"outlinewidth\":0,\"ticks\":\"\"}},\"type\":\"scatterternary\"}],\"surface\":[{\"colorbar\":{\"outlinewidth\":0,\"ticks\":\"\"},\"colorscale\":[[0.0,\"#0d0887\"],[0.1111111111111111,\"#46039f\"],[0.2222222222222222,\"#7201a8\"],[0.3333333333333333,\"#9c179e\"],[0.4444444444444444,\"#bd3786\"],[0.5555555555555556,\"#d8576b\"],[0.6666666666666666,\"#ed7953\"],[0.7777777777777778,\"#fb9f3a\"],[0.8888888888888888,\"#fdca26\"],[1.0,\"#f0f921\"]],\"type\":\"surface\"}],\"table\":[{\"cells\":{\"fill\":{\"color\":\"#EBF0F8\"},\"line\":{\"color\":\"white\"}},\"header\":{\"fill\":{\"color\":\"#C8D4E3\"},\"line\":{\"color\":\"white\"}},\"type\":\"table\"}]},\"layout\":{\"annotationdefaults\":{\"arrowcolor\":\"#2a3f5f\",\"arrowhead\":0,\"arrowwidth\":1},\"autotypenumbers\":\"strict\",\"coloraxis\":{\"colorbar\":{\"outlinewidth\":0,\"ticks\":\"\"}},\"colorscale\":{\"diverging\":[[0,\"#8e0152\"],[0.1,\"#c51b7d\"],[0.2,\"#de77ae\"],[0.3,\"#f1b6da\"],[0.4,\"#fde0ef\"],[0.5,\"#f7f7f7\"],[0.6,\"#e6f5d0\"],[0.7,\"#b8e186\"],[0.8,\"#7fbc41\"],[0.9,\"#4d9221\"],[1,\"#276419\"]],\"sequential\":[[0.0,\"#0d0887\"],[0.1111111111111111,\"#46039f\"],[0.2222222222222222,\"#7201a8\"],[0.3333333333333333,\"#9c179e\"],[0.4444444444444444,\"#bd3786\"],[0.5555555555555556,\"#d8576b\"],[0.6666666666666666,\"#ed7953\"],[0.7777777777777778,\"#fb9f3a\"],[0.8888888888888888,\"#fdca26\"],[1.0,\"#f0f921\"]],\"sequentialminus\":[[0.0,\"#0d0887\"],[0.1111111111111111,\"#46039f\"],[0.2222222222222222,\"#7201a8\"],[0.3333333333333333,\"#9c179e\"],[0.4444444444444444,\"#bd3786\"],[0.5555555555555556,\"#d8576b\"],[0.6666666666666666,\"#ed7953\"],[0.7777777777777778,\"#fb9f3a\"],[0.8888888888888888,\"#fdca26\"],[1.0,\"#f0f921\"]]},\"colorway\":[\"#636efa\",\"#EF553B\",\"#00cc96\",\"#ab63fa\",\"#FFA15A\",\"#19d3f3\",\"#FF6692\",\"#B6E880\",\"#FF97FF\",\"#FECB52\"],\"font\":{\"color\":\"#2a3f5f\"},\"geo\":{\"bgcolor\":\"white\",\"lakecolor\":\"white\",\"landcolor\":\"#E5ECF6\",\"showlakes\":true,\"showland\":true,\"subunitcolor\":\"white\"},\"hoverlabel\":{\"align\":\"left\"},\"hovermode\":\"closest\",\"mapbox\":{\"style\":\"light\"},\"paper_bgcolor\":\"white\",\"plot_bgcolor\":\"#E5ECF6\",\"polar\":{\"angularaxis\":{\"gridcolor\":\"white\",\"linecolor\":\"white\",\"ticks\":\"\"},\"bgcolor\":\"#E5ECF6\",\"radialaxis\":{\"gridcolor\":\"white\",\"linecolor\":\"white\",\"ticks\":\"\"}},\"scene\":{\"xaxis\":{\"backgroundcolor\":\"#E5ECF6\",\"gridcolor\":\"white\",\"gridwidth\":2,\"linecolor\":\"white\",\"showbackground\":true,\"ticks\":\"\",\"zerolinecolor\":\"white\"},\"yaxis\":{\"backgroundcolor\":\"#E5ECF6\",\"gridcolor\":\"white\",\"gridwidth\":2,\"linecolor\":\"white\",\"showbackground\":true,\"ticks\":\"\",\"zerolinecolor\":\"white\"},\"zaxis\":{\"backgroundcolor\":\"#E5ECF6\",\"gridcolor\":\"white\",\"gridwidth\":2,\"linecolor\":\"white\",\"showbackground\":true,\"ticks\":\"\",\"zerolinecolor\":\"white\"}},\"shapedefaults\":{\"line\":{\"color\":\"#2a3f5f\"}},\"ternary\":{\"aaxis\":{\"gridcolor\":\"white\",\"linecolor\":\"white\",\"ticks\":\"\"},\"baxis\":{\"gridcolor\":\"white\",\"linecolor\":\"white\",\"ticks\":\"\"},\"bgcolor\":\"#E5ECF6\",\"caxis\":{\"gridcolor\":\"white\",\"linecolor\":\"white\",\"ticks\":\"\"}},\"title\":{\"x\":0.05},\"xaxis\":{\"automargin\":true,\"gridcolor\":\"white\",\"linecolor\":\"white\",\"ticks\":\"\",\"title\":{\"standoff\":15},\"zerolinecolor\":\"white\",\"zerolinewidth\":2},\"yaxis\":{\"automargin\":true,\"gridcolor\":\"white\",\"linecolor\":\"white\",\"ticks\":\"\",\"title\":{\"standoff\":15},\"zerolinecolor\":\"white\",\"zerolinewidth\":2}}},\"title\":{\"text\":\"QAOA with General Error Mitigation - MaxCut-Landscape\"}},                        {\"responsive\": true}                    ).then(function(){\n",
       "                            \n",
       "var gd = document.getElementById('48e20703-a532-490b-8878-527f96384954');\n",
       "var x = new MutationObserver(function (mutations, observer) {{\n",
       "        var display = window.getComputedStyle(gd).display;\n",
       "        if (!display || display === 'none') {{\n",
       "            console.log([gd, 'removed!']);\n",
       "            Plotly.purge(gd);\n",
       "            observer.disconnect();\n",
       "        }}\n",
       "}});\n",
       "\n",
       "// Listen for the removal of the full notebook cells\n",
       "var notebookContainer = gd.closest('#notebook-container');\n",
       "if (notebookContainer) {{\n",
       "    x.observe(notebookContainer, {childList: true});\n",
       "}}\n",
       "\n",
       "// Listen for the clearing of the current output cell\n",
       "var outputEl = gd.closest('.output');\n",
       "if (outputEl) {{\n",
       "    x.observe(outputEl, {childList: true});\n",
       "}}\n",
       "\n",
       "                        })                };                });            </script>        </div>"
      ]
     },
     "metadata": {},
     "output_type": "display_data"
    }
   ],
   "source": [
    "# Plot landscape in 3D \n",
    "a_gamma = np.arange(0, np.pi, step_size)\n",
    "b_beta = np.arange(0, np.pi, step_size)\n",
    "fig = go.Figure(data=go.Surface(z=landscape, x=a_gamma, y=b_beta))\n",
    "\n",
    "fig.update_traces(contours_z=dict(show=True, usecolormap=True, highlightcolor='limegreen', project_z=True))\n",
    "\n",
    "\n",
    "fig.update_layout(title=\"QAOA with General Error Mitigation - MaxCut-Landscape\", scene=dict(\n",
    "    xaxis_title=\"γ\",\n",
    "    yaxis_title=\"β\",\n",
    "    zaxis_title=\"F(γ,β)\"\n",
    "))"
   ]
  },
  {
   "cell_type": "code",
   "execution_count": 50,
   "id": "7a8d8f7a",
   "metadata": {},
   "outputs": [
    {
     "data": {
      "application/vnd.plotly.v1+json": {
       "config": {
        "plotlyServerURL": "https://plot.ly"
       },
       "data": [
        {
         "colorscale": [
          [
           0,
           "#440154"
          ],
          [
           0.1111111111111111,
           "#482878"
          ],
          [
           0.2222222222222222,
           "#3e4989"
          ],
          [
           0.3333333333333333,
           "#31688e"
          ],
          [
           0.4444444444444444,
           "#26828e"
          ],
          [
           0.5555555555555556,
           "#1f9e89"
          ],
          [
           0.6666666666666666,
           "#35b779"
          ],
          [
           0.7777777777777778,
           "#6ece58"
          ],
          [
           0.8888888888888888,
           "#b5de2b"
          ],
          [
           1,
           "#fde725"
          ]
         ],
         "type": "heatmap",
         "x": [
          0,
          0.1,
          0.2,
          0.30000000000000004,
          0.4,
          0.5,
          0.6000000000000001,
          0.7000000000000001,
          0.8,
          0.9,
          1,
          1.1,
          1.2000000000000002,
          1.3,
          1.4000000000000001,
          1.5,
          1.6,
          1.7000000000000002,
          1.8,
          1.9000000000000001,
          2,
          2.1,
          2.2,
          2.3000000000000003,
          2.4000000000000004,
          2.5,
          2.6,
          2.7,
          2.8000000000000003,
          2.9000000000000004,
          3,
          3.1
         ],
         "y": [
          0,
          0.1,
          0.2,
          0.30000000000000004,
          0.4,
          0.5,
          0.6000000000000001,
          0.7000000000000001,
          0.8,
          0.9,
          1,
          1.1,
          1.2000000000000002,
          1.3,
          1.4000000000000001,
          1.5,
          1.6,
          1.7000000000000002,
          1.8,
          1.9000000000000001,
          2,
          2.1,
          2.2,
          2.3000000000000003,
          2.4000000000000004,
          2.5,
          2.6,
          2.7,
          2.8000000000000003,
          2.9000000000000004,
          3,
          3.1
         ],
         "z": [
          [
           -24.320416239232518,
           -23.085426238230053,
           -23.322899711373243,
           -23.075163455267113,
           -24.44175218626847,
           -24.245632295162807,
           -23.36236934883692,
           -23.708462520314768,
           -23.065716199907705,
           -23.682348121555904,
           -23.89589178170697,
           -23.697809829746685,
           -23.541899170118075,
           -24.54909491215742,
           -23.134837162721183,
           -23.410408004083852,
           -23.17109682811183,
           -23.346945884159815,
           -24.35567103368417,
           -23.45508505318277,
           -23.67359760004616,
           -24.3731152548309,
           -23.39136795537741,
           -23.97496357458891,
           -24.159807295772612,
           -24.286939690790295,
           -24.04312394630425,
           -23.464244245719758,
           -23.547034822549186,
           -23.672994621696024,
           -23.27393583408697,
           -23.553408356503777
          ],
          [
           -24.01240848096096,
           -21.710006876129427,
           -22.98409771737736,
           -24.32373877125473,
           -23.632625538694864,
           -21.75630737695375,
           -22.88327970790392,
           -23.227901732684913,
           -23.39014485219875,
           -21.836627464034887,
           -22.548009365409705,
           -23.38856299786039,
           -23.943750054290152,
           -23.275683881877146,
           -21.85102716850979,
           -23.343132249049333,
           -23.889490733887484,
           -21.695915152336788,
           -23.42230128605938,
           -24.72717385975187,
           -24.363567701413764,
           -23.23597111221726,
           -23.31776253110509,
           -24.313517954255392,
           -24.670994660189923,
           -24.412270911929255,
           -24.484115483939245,
           -23.11771094613724,
           -23.870693448325813,
           -24.407271479108765,
           -23.114290792591884,
           -24.027595506760964
          ],
          [
           -24.576004098127793,
           -17.765440025399297,
           -22.489923176952278,
           -24.49296665468875,
           -21.67949584609217,
           -17.699461207613616,
           -21.502231806270952,
           -22.654639162538523,
           -22.240693487995916,
           -19.126005354810122,
           -21.276380033626296,
           -23.17960000905737,
           -23.92538447690093,
           -19.915268030731074,
           -20.798577172946114,
           -25.674589591778172,
           -24.541382082564777,
           -17.83583804799596,
           -22.032543041592874,
           -26.621825420137103,
           -25.650034103995914,
           -21.745009334377276,
           -23.67451969135537,
           -26.018098633411388,
           -24.85226294947331,
           -24.34767877251534,
           -24.383171916440425,
           -24.606356501231236,
           -25.00063490873514,
           -26.349151050975735,
           -23.2800431949976,
           -24.378421928743943
          ],
          [
           -24.70240444999554,
           -16.320316502727824,
           -21.81422373866023,
           -23.607995821490793,
           -21.326716359413492,
           -15.900036327378814,
           -20.910017142420916,
           -21.50946303847991,
           -21.310491824846746,
           -18.20234588164931,
           -20.794653603403447,
           -22.367125524846102,
           -23.15371856358759,
           -18.768706678674675,
           -20.066507636751723,
           -26.960183998905926,
           -24.45710805133935,
           -16.364511905047895,
           -21.760944896718026,
           -28.292929506108926,
           -26.631395038436846,
           -20.422099011391758,
           -23.42313511786083,
           -27.04646668329531,
           -25.980680702528907,
           -24.652384993714488,
           -24.455447316061292,
           -24.939946274797276,
           -25.987249696832667,
           -27.050377467964648,
           -24.183526108366976,
           -24.400208114213964
          ],
          [
           -24.590421629245537,
           -14.137286658560928,
           -20.811307208500864,
           -21.972619022814136,
           -21.193177741930167,
           -15.3312862887063,
           -19.842252155050087,
           -19.871227880101586,
           -20.673618511756313,
           -17.838154998844214,
           -20.99252714632364,
           -22.16681783689181,
           -22.435306656553305,
           -17.22705753532839,
           -20.027340545073553,
           -27.457716719865825,
           -24.14909557163725,
           -15.305697556650465,
           -20.83918302185621,
           -29.680873143012843,
           -27.743735570279902,
           -19.724012873031942,
           -23.709992594229423,
           -27.726215203933187,
           -27.731423745238672,
           -25.491759711927383,
           -25.113596620471434,
           -25.147766033846207,
           -27.372286921734975,
           -28.403047119441393,
           -25.388999626357627,
           -24.734350942941532
          ],
          [
           -24.780202956432724,
           -15.505971036396767,
           -21.99444158951582,
           -22.379109228358377,
           -21.418386407405894,
           -16.866761252593307,
           -20.84636723514324,
           -21.984655120780957,
           -22.09420405855426,
           -19.79454577223201,
           -21.045677878299745,
           -22.17713556056646,
           -22.589950227466083,
           -19.314284057087978,
           -19.2320668172112,
           -25.752849696679217,
           -24.16766042226195,
           -17.860868702363756,
           -20.97015403141685,
           -28.160513017331624,
           -26.344240327118506,
           -22.00062434454912,
           -23.676615765886847,
           -26.8401300902769,
           -27.82860090501811,
           -26.759300610949325,
           -25.78456026298252,
           -25.189417847067528,
           -25.999433685545316,
           -27.168178128800303,
           -25.553396558820506,
           -25.217557505944328
          ],
          [
           -24.448758850157514,
           -15.837048609118156,
           -22.0734691861168,
           -20.373323169614874,
           -21.142311619542195,
           -17.835734298084514,
           -20.780104947660508,
           -20.53633648287783,
           -22.106190672457867,
           -20.282277790480702,
           -21.43220776942787,
           -22.290311750447568,
           -21.881282033060973,
           -19.046708065712032,
           -19.588112060392277,
           -25.78445085639623,
           -23.576260150561176,
           -17.441189161279823,
           -21.25867754426932,
           -28.479970733168976,
           -26.423849689174567,
           -22.378435937790226,
           -23.876101993016036,
           -27.239400510048004,
           -28.69674254675837,
           -26.92753152055174,
           -26.127609085171244,
           -25.62465928031695,
           -26.565086454221472,
           -27.646702970780474,
           -26.422359850215262,
           -25.144119109219332
          ],
          [
           -23.838273550577117,
           -15.35668181135571,
           -18.5714044956865,
           -14.973086124259233,
           -22.857390843096027,
           -20.59740172999629,
           -19.729799493473685,
           -15.9988944657185,
           -20.706600073381573,
           -22.750012122941214,
           -23.17683535511182,
           -20.379298368488534,
           -19.190082508854463,
           -18.932622352735493,
           -21.858412120253238,
           -27.242802414092985,
           -21.537998494438707,
           -15.203027790720908,
           -21.090260742413523,
           -30.447595289565143,
           -27.458159253270928,
           -20.61977528020774,
           -23.211609860775013,
           -27.258524261113013,
           -30.750602968813233,
           -27.5360641649745,
           -26.395299849167287,
           -25.21079437271107,
           -28.43754455076326,
           -28.96669320975308,
           -28.355210510987135,
           -24.886180783595453
          ],
          [
           -23.840766198709655,
           -17.4307090825045,
           -18.573460583050526,
           -13.698464096863791,
           -24.483127390768782,
           -24.275582165585913,
           -20.651840092415146,
           -15.571519710604372,
           -21.724122460211284,
           -25.65580254467271,
           -24.40740210178408,
           -20.84005181198168,
           -19.073032289856886,
           -20.98542754748404,
           -23.384143338573185,
           -26.19854372486741,
           -20.72000641321749,
           -17.339641555174577,
           -21.88565659023898,
           -29.00076769976354,
           -27.19720393785105,
           -21.348498446952256,
           -23.224076596863735,
           -26.397243467464858,
           -30.940037269225645,
           -27.226412800843693,
           -26.037030222381762,
           -24.800250097316624,
           -28.436519567318356,
           -28.158672448030757,
           -28.815329134440173,
           -24.640465742100155
          ],
          [
           -24.293179432535396,
           -21.49563902372139,
           -21.89639991192432,
           -17.241096294442933,
           -24.26364780901144,
           -24.883514674987204,
           -22.67606385607683,
           -20.678246038682843,
           -23.180091910650297,
           -25.54334359953296,
           -24.345533498559274,
           -22.432581034362475,
           -20.44629311917901,
           -23.058185318268354,
           -22.441186729114165,
           -24.131983503152703,
           -21.351970825448102,
           -21.28797091315883,
           -22.657105212666234,
           -26.13306641026194,
           -25.471278461575025,
           -24.78811682770696,
           -24.888187250793298,
           -24.933122921514347,
           -28.359735683605354,
           -26.941952108054608,
           -26.557857090478798,
           -25.84656826659573,
           -26.052816612237997,
           -25.657493039444816,
           -27.42300380521475,
           -24.832694629173563
          ],
          [
           -24.18835357207555,
           -23.667049372265687,
           -20.078532654949548,
           -12.560160576196424,
           -26.08300649870451,
           -29.897521213857765,
           -23.349071084519867,
           -17.573291518807853,
           -23.230481250258403,
           -29.46714481016828,
           -26.800988959873976,
           -21.58723322585867,
           -18.85490049143151,
           -25.080056551116424,
           -25.71558000489,
           -24.07212602811555,
           -19.726676140674662,
           -21.797114886033746,
           -23.391952256117495,
           -25.29872963399142,
           -25.4975826490191,
           -23.772087521921783,
           -22.732193101346144,
           -23.72024333018323,
           -29.44174066574638,
           -27.007970798183422,
           -25.01555613760742,
           -23.654849743564096,
           -26.78878195833695,
           -26.306484382679518,
           -28.324099673045957,
           -24.224669436391057
          ],
          [
           -24.053582528550848,
           -25.159888261147277,
           -22.660704637150204,
           -17.766951666451696,
           -26.095062269339817,
           -28.671779746985578,
           -24.75620667955219,
           -22.648202131334852,
           -24.760399995871495,
           -28.349052873447377,
           -25.981066728931165,
           -23.455916580300116,
           -20.019540138990596,
           -25.919549318822096,
           -25.09190249708806,
           -22.919109312674003,
           -20.37657124103852,
           -24.45526721219756,
           -24.403373373404857,
           -23.64861128713211,
           -24.051709950718088,
           -26.282086558971223,
           -24.983817689380047,
           -23.364478066777867,
           -26.542726256522247,
           -25.747142932099422,
           -25.55435774539035,
           -25.19251430649843,
           -24.961350906612232,
           -23.315629094523402,
           -27.165384696470564,
           -24.124488807521622
          ],
          [
           -23.702876501440837,
           -26.314696632737512,
           -22.831558711817117,
           -19.087848097710076,
           -26.645106215618192,
           -29.70430804078132,
           -24.739203187486314,
           -23.039162542001353,
           -24.878102672803475,
           -28.373450815274605,
           -26.154352780478487,
           -23.56628952553166,
           -20.82068844847591,
           -26.709232781970417,
           -25.64798365807651,
           -22.252906748934176,
           -20.710026498790906,
           -25.509588571525565,
           -24.198924132825898,
           -22.76103633778347,
           -23.47138361087194,
           -26.246050811854467,
           -24.361484602656226,
           -22.88474709566531,
           -25.511750394633804,
           -25.277468608467448,
           -25.420283035242637,
           -24.63929599691106,
           -24.53896049583541,
           -22.890351173649904,
           -26.147239915876295,
           -23.52328098955161
          ],
          [
           -24.579391111336136,
           -27.79655693734596,
           -22.605422018847907,
           -17.57466775642495,
           -27.28622352167048,
           -30.867581666968412,
           -24.72789356070138,
           -22.011911123538866,
           -25.481147992264603,
           -29.792021872799495,
           -26.831078911978594,
           -23.17382561116158,
           -21.756460374974456,
           -27.30592838343503,
           -26.18592892985188,
           -22.36999435371677,
           -21.224927940832234,
           -25.732122884833984,
           -24.798162819909358,
           -21.327686530893804,
           -23.07838064978752,
           -25.899344377503965,
           -23.630842588567877,
           -21.610530678189892,
           -26.20212265022631,
           -24.682943606351618,
           -23.98930535948449,
           -22.700628528278102,
           -24.523434048195043,
           -23.512965777078783,
           -25.83739779246273,
           -23.91766939994314
          ],
          [
           -23.963849659355056,
           -25.809533645516638,
           -23.10079951466651,
           -21.178374450370125,
           -25.515015996638823,
           -27.89000736693956,
           -24.495294658501386,
           -23.593951247788866,
           -24.591779875024567,
           -25.78677965580485,
           -25.2102467713611,
           -24.044041821613543,
           -22.47952893964559,
           -26.26737424971444,
           -25.162650421115252,
           -22.28947217337639,
           -21.759196284825133,
           -24.856602786822624,
           -24.597533754350675,
           -22.469858207460426,
           -22.809228401681445,
           -25.935549856232008,
           -23.228477135112946,
           -22.305683218102313,
           -23.971547798402987,
           -23.901101263556036,
           -24.220563972486833,
           -23.98590075340976,
           -23.815270544298528,
           -21.93300113312764,
           -24.38649039207941,
           -23.38323509633505
          ],
          [
           -24.088232210163056,
           -24.490842095760698,
           -23.367564960275455,
           -22.18846910633116,
           -24.536649709828218,
           -25.94594826467975,
           -24.14594271718699,
           -23.726662408873363,
           -23.579512828426843,
           -24.240383224268694,
           -24.53141090578989,
           -23.71038722688164,
           -23.29340882787182,
           -24.91986118986985,
           -24.699336531710735,
           -23.221200102849288,
           -22.855263584528217,
           -24.06425283472198,
           -23.96006450074092,
           -22.30647414775873,
           -23.148849063212868,
           -24.913079098729074,
           -23.30593020997982,
           -22.550561156434163,
           -23.485906301416343,
           -23.823326961640372,
           -24.01527574227451,
           -23.77726906540609,
           -23.555156533053964,
           -22.505909494068014,
           -23.390172268525838,
           -22.963134690122263
          ],
          [
           -24.584425297747824,
           -23.002301936568838,
           -23.347769954938908,
           -23.680632419958265,
           -23.654457010131882,
           -21.793271856717528,
           -22.834879138716673,
           -23.20424979094025,
           -23.157611094604217,
           -22.179099637841706,
           -23.60795968406393,
           -23.391553747248555,
           -23.264646865782534,
           -22.559329992017503,
           -22.827944970589314,
           -23.95660676382768,
           -23.39847848167016,
           -22.885589669444855,
           -23.73203349484086,
           -23.36313612809673,
           -23.64596937823646,
           -23.78129017422701,
           -23.511291411783446,
           -23.898559220672375,
           -24.000972903448144,
           -23.854337971941845,
           -23.117866109606215,
           -23.428784449491502,
           -23.872427450244793,
           -23.995810887770787,
           -22.891616196859438,
           -24.074553058539617
          ],
          [
           -24.27533652378209,
           -19.44143466456346,
           -22.513833731220963,
           -23.759432640175977,
           -22.02775042247065,
           -20.572785501844397,
           -22.119666447925848,
           -22.614105270416548,
           -22.408444790576837,
           -19.981862382169215,
           -21.836764162606737,
           -22.975862930898195,
           -24.162869671527794,
           -21.80678511345281,
           -21.264541997042343,
           -24.189506962272585,
           -23.962536819865157,
           -20.140765319278007,
           -22.487647821681225,
           -24.742773488811828,
           -24.47098332437701,
           -23.286322152287685,
           -23.216860863725845,
           -23.972231897614034,
           -23.886971708995173,
           -24.70829242772801,
           -24.562314297124512,
           -23.776864204436805,
           -24.14545617896908,
           -24.726357567173118,
           -22.482302032273243,
           -23.606856541903714
          ],
          [
           -24.137284524363384,
           -17.501602522332565,
           -22.374746830962092,
           -23.825553230903626,
           -21.688213763644764,
           -18.380290111534332,
           -21.441305329918094,
           -22.444316108636244,
           -22.26723930953805,
           -19.013388978339396,
           -20.807786635945625,
           -22.536288453160516,
           -24.435935836904576,
           -20.6596986881719,
           -19.95896692197637,
           -24.731093393532888,
           -24.324962761162,
           -19.088910994789483,
           -21.67633875470666,
           -25.822383778795874,
           -25.186041767364642,
           -22.946221566962404,
           -23.06912936769784,
           -25.16571314172455,
           -24.682919259316655,
           -25.102813381071275,
           -24.181810974338276,
           -24.564501678793285,
           -25.221558060200675,
           -25.673592481583537,
           -23.12862031325765,
           -23.83075271627356
          ],
          [
           -24.840526757003676,
           -14.885400025291704,
           -21.200331815863347,
           -23.041840042376855,
           -21.05379159397288,
           -15.177384927913334,
           -19.439311928644862,
           -19.959390773167232,
           -20.726458818746174,
           -17.199041627628635,
           -20.325588476058336,
           -22.557057464234404,
           -22.328251269074737,
           -17.214207912128945,
           -19.4297484814102,
           -26.99084983489194,
           -24.64025678987942,
           -15.935626286460241,
           -21.798412462847224,
           -28.70837690034587,
           -26.99287416251198,
           -20.15533639902893,
           -23.56134950480008,
           -27.654458817801466,
           -27.28392314212878,
           -25.229828428579008,
           -24.454947507935568,
           -25.021734818854338,
           -26.99880004949814,
           -27.49369026570845,
           -24.162443343746844,
           -24.851417332856013
          ],
          [
           -24.520816609052044,
           -13.424316358043502,
           -20.24314232616139,
           -21.258771008360224,
           -21.184514986883926,
           -15.197288803286192,
           -18.959179710053277,
           -18.167674600911088,
           -20.007069352477817,
           -17.341072950724797,
           -20.06244770081424,
           -22.122192767028324,
           -21.382940887651372,
           -16.451206023786714,
           -19.11541282654771,
           -27.469515810689593,
           -23.92382616069325,
           -14.365446215837364,
           -21.117278528038753,
           -30.07704615690211,
           -27.177375956561477,
           -19.240689493113457,
           -23.779795348661562,
           -28.161109605736407,
           -28.756708764872037,
           -26.28745028623988,
           -25.25960009979896,
           -25.69301789359008,
           -27.548925122584755,
           -28.47041657902089,
           -25.03499727014354,
           -24.981521181926848
          ],
          [
           -24.310360803084127,
           -13.556923269966855,
           -19.743754071288095,
           -19.029343403165097,
           -21.76863454590823,
           -16.160318887616558,
           -18.879557353553704,
           -16.96166505474786,
           -20.161565851257137,
           -18.317407541691534,
           -20.663050164745886,
           -21.69831691478193,
           -20.732578191357675,
           -16.45778791272353,
           -19.96339047047211,
           -27.741439297020598,
           -22.929177256461795,
           -14.30388992279981,
           -21.607463505144597,
           -30.822480276083024,
           -27.707022351404387,
           -19.428179262185655,
           -23.40893489507997,
           -28.356993392452694,
           -29.735986793293367,
           -26.572184726187672,
           -25.975196546572242,
           -26.207545266805646,
           -28.643883191775767,
           -28.8416241426655,
           -26.452031109636753,
           -25.171319159154447
          ],
          [
           -23.747554325881655,
           -14.400973778191874,
           -19.18137653805168,
           -16.914300451869007,
           -22.93155015753663,
           -18.623967124603094,
           -19.202604366965144,
           -15.805738615214862,
           -20.558980563253197,
           -20.395428767831664,
           -21.608074220141553,
           -21.500603905430946,
           -19.84514653870613,
           -17.294092912513143,
           -20.92307728232876,
           -27.727064767312353,
           -21.67651412352533,
           -14.288694356187293,
           -21.466954850372883,
           -30.89301664945763,
           -27.42246374973349,
           -19.693664417977807,
           -23.756932564854385,
           -28.19521858683911,
           -30.671549180651407,
           -27.251615078453383,
           -26.293101873915187,
           -26.134033030554722,
           -29.011463532061477,
           -29.214419574436576,
           -27.227388727006048,
           -25.754464067133185
          ],
          [
           -23.849834893476476,
           -16.577129061386003,
           -21.00454507570057,
           -17.691695198654326,
           -20.89982204015669,
           -20.438025598036837,
           -21.095718512044048,
           -19.25806820956579,
           -23.336737776908972,
           -22.26138200422601,
           -22.935762016615048,
           -22.646423006128124,
           -21.105672961829907,
           -20.06620759791939,
           -20.150703101989865,
           -25.692960349877875,
           -22.15753600789513,
           -18.6659531306436,
           -22.199727606395356,
           -27.89619898245638,
           -25.47149596959067,
           -23.424766732000375,
           -25.046890058892288,
           -26.59369534010018,
           -29.256836175630184,
           -27.943800218211447,
           -27.167323751179616,
           -26.69615651809179,
           -27.395236236181084,
           -27.517436918288045,
           -27.437497106545084,
           -25.663674754878553
          ],
          [
           -24.059664190699685,
           -18.641443680751653,
           -18.433852243203393,
           -13.095641694719308,
           -25.19275466903141,
           -25.508779716721826,
           -21.07597337521027,
           -15.59221499780679,
           -21.79076767395741,
           -25.752958414711703,
           -24.187434749357006,
           -21.364884240894213,
           -18.316160775105963,
           -20.86937451555807,
           -23.435378038306293,
           -25.983388216697872,
           -20.12548141534722,
           -17.543973433860945,
           -23.203724191603147,
           -29.511667708331867,
           -26.60921457523943,
           -21.960489754237397,
           -23.186290984143884,
           -26.471459334668694,
           -31.18522932948,
           -28.23669843795283,
           -26.275490879249578,
           -25.17480738067042,
           -28.989606402331493,
           -28.328855357105283,
           -28.809746744635618,
           -25.635429728561977
          ],
          [
           -23.575777714480058,
           -22.331826447965227,
           -19.202753838279488,
           -13.53733357159608,
           -25.045908497645776,
           -27.02641149037108,
           -20.793700257462998,
           -18.209789047306586,
           -23.594855070252965,
           -28.23208679051416,
           -25.095851758444535,
           -20.76063417291416,
           -20.603456419356366,
           -24.87218116894277,
           -23.607241589291505,
           -25.50303076636598,
           -21.53506062835334,
           -19.211235645981766,
           -21.92624192867478,
           -26.34193199915286,
           -26.51048654580105,
           -24.199424088834856,
           -22.821350770180818,
           -24.99078869680962,
           -30.317376606962807,
           -27.8025746198034,
           -24.760722157011344,
           -25.267772402124606,
           -28.42736952778766,
           -27.14590315048165,
           -28.352867547780434,
           -24.874615350202554
          ],
          [
           -23.79096174865412,
           -24.938769380948575,
           -23.007741255950872,
           -16.843642249278027,
           -24.106786941911842,
           -27.706284396599703,
           -22.819306366351995,
           -21.488768323756776,
           -24.771556108518414,
           -27.58039061484157,
           -24.623377418529333,
           -22.717490456306827,
           -21.899479368550274,
           -25.60416801620804,
           -23.146742320564336,
           -24.109642933648374,
           -22.228312177364344,
           -23.87106509374379,
           -24.80939415710281,
           -24.75880960086558,
           -24.641949100440627,
           -27.711659158916344,
           -25.19757656407629,
           -24.154820895413582,
           -27.706777811191554,
           -27.12798145960939,
           -25.706840916157656,
           -25.749315355766246,
           -27.52399262793405,
           -25.035490992538705,
           -27.53210433081334,
           -26.226460462488266
          ],
          [
           -24.29304253023046,
           -28.64084899963688,
           -22.076592288620727,
           -14.159886899768125,
           -27.42324304478455,
           -31.48933368851534,
           -23.220142152467155,
           -21.239349612086034,
           -26.722251177386347,
           -30.51385128269594,
           -25.861932235665535,
           -22.069124805438502,
           -21.63379561522041,
           -27.856188374374135,
           -25.57973755087372,
           -23.586380065287763,
           -21.939285259743745,
           -24.592617656184505,
           -23.69445385364793,
           -23.722857420343733,
           -25.557845869267233,
           -26.85178033931113,
           -23.18774725662082,
           -23.433683025029737,
           -28.85030088302813,
           -26.81434056609171,
           -24.528625297105684,
           -24.567300859705536,
           -27.236424265494424,
           -25.433931804243905,
           -27.014290880581736,
           -24.844333747646452
          ],
          [
           -24.971905009334673,
           -28.00055735677732,
           -24.278451770056652,
           -19.054762714836187,
           -25.619560049099455,
           -29.363115227659165,
           -24.28235140999941,
           -23.01083518274365,
           -26.087039319942093,
           -28.600734402133188,
           -25.286432819831823,
           -23.772526457651164,
           -23.276419940143654,
           -27.591115098139625,
           -25.259433170249363,
           -23.442348213405023,
           -22.82098465411977,
           -26.43645724684535,
           -25.87586579542314,
           -23.460519439528873,
           -24.552908431764433,
           -27.721046675993673,
           -24.929680171779037,
           -23.63266466949855,
           -26.232360690864223,
           -26.19136222494365,
           -24.655719696216792,
           -25.2835595968279,
           -26.41351464454288,
           -24.405832641719442,
           -25.807404051962134,
           -25.189151644295897
          ],
          [
           -25.776787277258986,
           -28.908825832784775,
           -24.336483735245597,
           -20.71494661578089,
           -25.869920088006886,
           -29.336889192867634,
           -24.813809933969395,
           -24.02085262284762,
           -26.190823104169162,
           -27.75754605690635,
           -25.03681171617854,
           -24.113163264907644,
           -24.19679754715207,
           -27.283053667104273,
           -26.11513248002743,
           -23.634556869891803,
           -23.220976026471583,
           -26.69011524970133,
           -25.747024678847833,
           -23.636319101397017,
           -24.719578596788548,
           -27.796580160561703,
           -24.86855004537652,
           -23.699748549807804,
           -25.874487353411627,
           -25.649501876469266,
           -24.305167279964003,
           -25.05274174397934,
           -26.08581956019876,
           -23.903498249244535,
           -25.112890653781747,
           -24.880791318187658
          ],
          [
           -24.86689150845587,
           -28.739746841735574,
           -24.239082881580277,
           -21.994110467826587,
           -26.340076385066837,
           -28.616540733521322,
           -25.309905468629395,
           -25.067308609292567,
           -27.382726955390808,
           -27.780390766669072,
           -25.299282001598176,
           -24.06506703280005,
           -24.72034511135417,
           -27.28224532368832,
           -26.27667999973431,
           -24.08807437080028,
           -24.014257622916627,
           -26.38744758744711,
           -24.63936035888645,
           -23.26411012505405,
           -25.7784107916246,
           -27.29696016184281,
           -24.596715813622694,
           -23.98131431027579,
           -25.31283860418794,
           -25.019686658570627,
           -24.04958063702453,
           -24.381466288272467,
           -25.761206595106632,
           -25.30719870371281,
           -25.40281693662097,
           -24.454106920005966
          ],
          [
           -24.697959484570543,
           -26.57532746356605,
           -24.30577586779829,
           -23.791106640804692,
           -24.740903211899028,
           -25.614465841376035,
           -25.04925948374303,
           -25.590617359513704,
           -26.432008568404118,
           -25.108233063885727,
           -24.508105816317457,
           -24.832682233773753,
           -24.938591764157035,
           -25.9898609245016,
           -25.563892187667857,
           -24.18651554130451,
           -25.003820292391907,
           -25.167102009881706,
           -24.299200805289086,
           -24.252746322016694,
           -25.61958494827139,
           -26.034072397864872,
           -24.835332731275344,
           -24.876969873176126,
           -24.85584006605405,
           -24.723505991303675,
           -24.380658248258317,
           -24.887788628093823,
           -25.289607178419196,
           -25.39245956759983,
           -24.7744491838039,
           -24.55913456475749
          ]
         ]
        },
        {
         "hovertemplate": "x: %{x}<br>y: %{y}<br> z: %{text:.2f}<extra></extra>",
         "marker": {
          "color": "red",
          "line": {
           "width": 1
          },
          "size": 16,
          "symbol": [
           204
          ]
         },
         "mode": "markers",
         "text": [
          "-31.48933368851534"
         ],
         "type": "scatter",
         "x": [
          0.5
         ],
         "y": [
          2.7
         ]
        }
       ],
       "layout": {
        "height": 700,
        "template": {
         "data": {
          "bar": [
           {
            "error_x": {
             "color": "#2a3f5f"
            },
            "error_y": {
             "color": "#2a3f5f"
            },
            "marker": {
             "line": {
              "color": "#E5ECF6",
              "width": 0.5
             },
             "pattern": {
              "fillmode": "overlay",
              "size": 10,
              "solidity": 0.2
             }
            },
            "type": "bar"
           }
          ],
          "barpolar": [
           {
            "marker": {
             "line": {
              "color": "#E5ECF6",
              "width": 0.5
             },
             "pattern": {
              "fillmode": "overlay",
              "size": 10,
              "solidity": 0.2
             }
            },
            "type": "barpolar"
           }
          ],
          "carpet": [
           {
            "aaxis": {
             "endlinecolor": "#2a3f5f",
             "gridcolor": "white",
             "linecolor": "white",
             "minorgridcolor": "white",
             "startlinecolor": "#2a3f5f"
            },
            "baxis": {
             "endlinecolor": "#2a3f5f",
             "gridcolor": "white",
             "linecolor": "white",
             "minorgridcolor": "white",
             "startlinecolor": "#2a3f5f"
            },
            "type": "carpet"
           }
          ],
          "choropleth": [
           {
            "colorbar": {
             "outlinewidth": 0,
             "ticks": ""
            },
            "type": "choropleth"
           }
          ],
          "contour": [
           {
            "colorbar": {
             "outlinewidth": 0,
             "ticks": ""
            },
            "colorscale": [
             [
              0,
              "#0d0887"
             ],
             [
              0.1111111111111111,
              "#46039f"
             ],
             [
              0.2222222222222222,
              "#7201a8"
             ],
             [
              0.3333333333333333,
              "#9c179e"
             ],
             [
              0.4444444444444444,
              "#bd3786"
             ],
             [
              0.5555555555555556,
              "#d8576b"
             ],
             [
              0.6666666666666666,
              "#ed7953"
             ],
             [
              0.7777777777777778,
              "#fb9f3a"
             ],
             [
              0.8888888888888888,
              "#fdca26"
             ],
             [
              1,
              "#f0f921"
             ]
            ],
            "type": "contour"
           }
          ],
          "contourcarpet": [
           {
            "colorbar": {
             "outlinewidth": 0,
             "ticks": ""
            },
            "type": "contourcarpet"
           }
          ],
          "heatmap": [
           {
            "colorbar": {
             "outlinewidth": 0,
             "ticks": ""
            },
            "colorscale": [
             [
              0,
              "#0d0887"
             ],
             [
              0.1111111111111111,
              "#46039f"
             ],
             [
              0.2222222222222222,
              "#7201a8"
             ],
             [
              0.3333333333333333,
              "#9c179e"
             ],
             [
              0.4444444444444444,
              "#bd3786"
             ],
             [
              0.5555555555555556,
              "#d8576b"
             ],
             [
              0.6666666666666666,
              "#ed7953"
             ],
             [
              0.7777777777777778,
              "#fb9f3a"
             ],
             [
              0.8888888888888888,
              "#fdca26"
             ],
             [
              1,
              "#f0f921"
             ]
            ],
            "type": "heatmap"
           }
          ],
          "heatmapgl": [
           {
            "colorbar": {
             "outlinewidth": 0,
             "ticks": ""
            },
            "colorscale": [
             [
              0,
              "#0d0887"
             ],
             [
              0.1111111111111111,
              "#46039f"
             ],
             [
              0.2222222222222222,
              "#7201a8"
             ],
             [
              0.3333333333333333,
              "#9c179e"
             ],
             [
              0.4444444444444444,
              "#bd3786"
             ],
             [
              0.5555555555555556,
              "#d8576b"
             ],
             [
              0.6666666666666666,
              "#ed7953"
             ],
             [
              0.7777777777777778,
              "#fb9f3a"
             ],
             [
              0.8888888888888888,
              "#fdca26"
             ],
             [
              1,
              "#f0f921"
             ]
            ],
            "type": "heatmapgl"
           }
          ],
          "histogram": [
           {
            "marker": {
             "pattern": {
              "fillmode": "overlay",
              "size": 10,
              "solidity": 0.2
             }
            },
            "type": "histogram"
           }
          ],
          "histogram2d": [
           {
            "colorbar": {
             "outlinewidth": 0,
             "ticks": ""
            },
            "colorscale": [
             [
              0,
              "#0d0887"
             ],
             [
              0.1111111111111111,
              "#46039f"
             ],
             [
              0.2222222222222222,
              "#7201a8"
             ],
             [
              0.3333333333333333,
              "#9c179e"
             ],
             [
              0.4444444444444444,
              "#bd3786"
             ],
             [
              0.5555555555555556,
              "#d8576b"
             ],
             [
              0.6666666666666666,
              "#ed7953"
             ],
             [
              0.7777777777777778,
              "#fb9f3a"
             ],
             [
              0.8888888888888888,
              "#fdca26"
             ],
             [
              1,
              "#f0f921"
             ]
            ],
            "type": "histogram2d"
           }
          ],
          "histogram2dcontour": [
           {
            "colorbar": {
             "outlinewidth": 0,
             "ticks": ""
            },
            "colorscale": [
             [
              0,
              "#0d0887"
             ],
             [
              0.1111111111111111,
              "#46039f"
             ],
             [
              0.2222222222222222,
              "#7201a8"
             ],
             [
              0.3333333333333333,
              "#9c179e"
             ],
             [
              0.4444444444444444,
              "#bd3786"
             ],
             [
              0.5555555555555556,
              "#d8576b"
             ],
             [
              0.6666666666666666,
              "#ed7953"
             ],
             [
              0.7777777777777778,
              "#fb9f3a"
             ],
             [
              0.8888888888888888,
              "#fdca26"
             ],
             [
              1,
              "#f0f921"
             ]
            ],
            "type": "histogram2dcontour"
           }
          ],
          "mesh3d": [
           {
            "colorbar": {
             "outlinewidth": 0,
             "ticks": ""
            },
            "type": "mesh3d"
           }
          ],
          "parcoords": [
           {
            "line": {
             "colorbar": {
              "outlinewidth": 0,
              "ticks": ""
             }
            },
            "type": "parcoords"
           }
          ],
          "pie": [
           {
            "automargin": true,
            "type": "pie"
           }
          ],
          "scatter": [
           {
            "marker": {
             "colorbar": {
              "outlinewidth": 0,
              "ticks": ""
             }
            },
            "type": "scatter"
           }
          ],
          "scatter3d": [
           {
            "line": {
             "colorbar": {
              "outlinewidth": 0,
              "ticks": ""
             }
            },
            "marker": {
             "colorbar": {
              "outlinewidth": 0,
              "ticks": ""
             }
            },
            "type": "scatter3d"
           }
          ],
          "scattercarpet": [
           {
            "marker": {
             "colorbar": {
              "outlinewidth": 0,
              "ticks": ""
             }
            },
            "type": "scattercarpet"
           }
          ],
          "scattergeo": [
           {
            "marker": {
             "colorbar": {
              "outlinewidth": 0,
              "ticks": ""
             }
            },
            "type": "scattergeo"
           }
          ],
          "scattergl": [
           {
            "marker": {
             "colorbar": {
              "outlinewidth": 0,
              "ticks": ""
             }
            },
            "type": "scattergl"
           }
          ],
          "scattermapbox": [
           {
            "marker": {
             "colorbar": {
              "outlinewidth": 0,
              "ticks": ""
             }
            },
            "type": "scattermapbox"
           }
          ],
          "scatterpolar": [
           {
            "marker": {
             "colorbar": {
              "outlinewidth": 0,
              "ticks": ""
             }
            },
            "type": "scatterpolar"
           }
          ],
          "scatterpolargl": [
           {
            "marker": {
             "colorbar": {
              "outlinewidth": 0,
              "ticks": ""
             }
            },
            "type": "scatterpolargl"
           }
          ],
          "scatterternary": [
           {
            "marker": {
             "colorbar": {
              "outlinewidth": 0,
              "ticks": ""
             }
            },
            "type": "scatterternary"
           }
          ],
          "surface": [
           {
            "colorbar": {
             "outlinewidth": 0,
             "ticks": ""
            },
            "colorscale": [
             [
              0,
              "#0d0887"
             ],
             [
              0.1111111111111111,
              "#46039f"
             ],
             [
              0.2222222222222222,
              "#7201a8"
             ],
             [
              0.3333333333333333,
              "#9c179e"
             ],
             [
              0.4444444444444444,
              "#bd3786"
             ],
             [
              0.5555555555555556,
              "#d8576b"
             ],
             [
              0.6666666666666666,
              "#ed7953"
             ],
             [
              0.7777777777777778,
              "#fb9f3a"
             ],
             [
              0.8888888888888888,
              "#fdca26"
             ],
             [
              1,
              "#f0f921"
             ]
            ],
            "type": "surface"
           }
          ],
          "table": [
           {
            "cells": {
             "fill": {
              "color": "#EBF0F8"
             },
             "line": {
              "color": "white"
             }
            },
            "header": {
             "fill": {
              "color": "#C8D4E3"
             },
             "line": {
              "color": "white"
             }
            },
            "type": "table"
           }
          ]
         },
         "layout": {
          "annotationdefaults": {
           "arrowcolor": "#2a3f5f",
           "arrowhead": 0,
           "arrowwidth": 1
          },
          "autotypenumbers": "strict",
          "coloraxis": {
           "colorbar": {
            "outlinewidth": 0,
            "ticks": ""
           }
          },
          "colorscale": {
           "diverging": [
            [
             0,
             "#8e0152"
            ],
            [
             0.1,
             "#c51b7d"
            ],
            [
             0.2,
             "#de77ae"
            ],
            [
             0.3,
             "#f1b6da"
            ],
            [
             0.4,
             "#fde0ef"
            ],
            [
             0.5,
             "#f7f7f7"
            ],
            [
             0.6,
             "#e6f5d0"
            ],
            [
             0.7,
             "#b8e186"
            ],
            [
             0.8,
             "#7fbc41"
            ],
            [
             0.9,
             "#4d9221"
            ],
            [
             1,
             "#276419"
            ]
           ],
           "sequential": [
            [
             0,
             "#0d0887"
            ],
            [
             0.1111111111111111,
             "#46039f"
            ],
            [
             0.2222222222222222,
             "#7201a8"
            ],
            [
             0.3333333333333333,
             "#9c179e"
            ],
            [
             0.4444444444444444,
             "#bd3786"
            ],
            [
             0.5555555555555556,
             "#d8576b"
            ],
            [
             0.6666666666666666,
             "#ed7953"
            ],
            [
             0.7777777777777778,
             "#fb9f3a"
            ],
            [
             0.8888888888888888,
             "#fdca26"
            ],
            [
             1,
             "#f0f921"
            ]
           ],
           "sequentialminus": [
            [
             0,
             "#0d0887"
            ],
            [
             0.1111111111111111,
             "#46039f"
            ],
            [
             0.2222222222222222,
             "#7201a8"
            ],
            [
             0.3333333333333333,
             "#9c179e"
            ],
            [
             0.4444444444444444,
             "#bd3786"
            ],
            [
             0.5555555555555556,
             "#d8576b"
            ],
            [
             0.6666666666666666,
             "#ed7953"
            ],
            [
             0.7777777777777778,
             "#fb9f3a"
            ],
            [
             0.8888888888888888,
             "#fdca26"
            ],
            [
             1,
             "#f0f921"
            ]
           ]
          },
          "colorway": [
           "#636efa",
           "#EF553B",
           "#00cc96",
           "#ab63fa",
           "#FFA15A",
           "#19d3f3",
           "#FF6692",
           "#B6E880",
           "#FF97FF",
           "#FECB52"
          ],
          "font": {
           "color": "#2a3f5f"
          },
          "geo": {
           "bgcolor": "white",
           "lakecolor": "white",
           "landcolor": "#E5ECF6",
           "showlakes": true,
           "showland": true,
           "subunitcolor": "white"
          },
          "hoverlabel": {
           "align": "left"
          },
          "hovermode": "closest",
          "mapbox": {
           "style": "light"
          },
          "paper_bgcolor": "white",
          "plot_bgcolor": "#E5ECF6",
          "polar": {
           "angularaxis": {
            "gridcolor": "white",
            "linecolor": "white",
            "ticks": ""
           },
           "bgcolor": "#E5ECF6",
           "radialaxis": {
            "gridcolor": "white",
            "linecolor": "white",
            "ticks": ""
           }
          },
          "scene": {
           "xaxis": {
            "backgroundcolor": "#E5ECF6",
            "gridcolor": "white",
            "gridwidth": 2,
            "linecolor": "white",
            "showbackground": true,
            "ticks": "",
            "zerolinecolor": "white"
           },
           "yaxis": {
            "backgroundcolor": "#E5ECF6",
            "gridcolor": "white",
            "gridwidth": 2,
            "linecolor": "white",
            "showbackground": true,
            "ticks": "",
            "zerolinecolor": "white"
           },
           "zaxis": {
            "backgroundcolor": "#E5ECF6",
            "gridcolor": "white",
            "gridwidth": 2,
            "linecolor": "white",
            "showbackground": true,
            "ticks": "",
            "zerolinecolor": "white"
           }
          },
          "shapedefaults": {
           "line": {
            "color": "#2a3f5f"
           }
          },
          "ternary": {
           "aaxis": {
            "gridcolor": "white",
            "linecolor": "white",
            "ticks": ""
           },
           "baxis": {
            "gridcolor": "white",
            "linecolor": "white",
            "ticks": ""
           },
           "bgcolor": "#E5ECF6",
           "caxis": {
            "gridcolor": "white",
            "linecolor": "white",
            "ticks": ""
           }
          },
          "title": {
           "x": 0.05
          },
          "xaxis": {
           "automargin": true,
           "gridcolor": "white",
           "linecolor": "white",
           "ticks": "",
           "title": {
            "standoff": 15
           },
           "zerolinecolor": "white",
           "zerolinewidth": 2
          },
          "yaxis": {
           "automargin": true,
           "gridcolor": "white",
           "linecolor": "white",
           "ticks": "",
           "title": {
            "standoff": 15
           },
           "zerolinecolor": "white",
           "zerolinewidth": 2
          }
         }
        },
        "title": {
         "text": "F(γ,β)"
        },
        "width": 700,
        "xaxis": {
         "title": {
          "text": "γ"
         }
        },
        "yaxis": {
         "title": {
          "text": "β"
         }
        }
       }
      },
      "text/html": [
       "<div>                            <div id=\"f72fa4b3-64a2-4e5c-8685-65c7663a0577\" class=\"plotly-graph-div\" style=\"height:700px; width:700px;\"></div>            <script type=\"text/javascript\">                require([\"plotly\"], function(Plotly) {                    window.PLOTLYENV=window.PLOTLYENV || {};                                    if (document.getElementById(\"f72fa4b3-64a2-4e5c-8685-65c7663a0577\")) {                    Plotly.newPlot(                        \"f72fa4b3-64a2-4e5c-8685-65c7663a0577\",                        [{\"colorscale\":[[0.0,\"#440154\"],[0.1111111111111111,\"#482878\"],[0.2222222222222222,\"#3e4989\"],[0.3333333333333333,\"#31688e\"],[0.4444444444444444,\"#26828e\"],[0.5555555555555556,\"#1f9e89\"],[0.6666666666666666,\"#35b779\"],[0.7777777777777778,\"#6ece58\"],[0.8888888888888888,\"#b5de2b\"],[1.0,\"#fde725\"]],\"type\":\"heatmap\",\"x\":[0.0,0.1,0.2,0.30000000000000004,0.4,0.5,0.6000000000000001,0.7000000000000001,0.8,0.9,1.0,1.1,1.2000000000000002,1.3,1.4000000000000001,1.5,1.6,1.7000000000000002,1.8,1.9000000000000001,2.0,2.1,2.2,2.3000000000000003,2.4000000000000004,2.5,2.6,2.7,2.8000000000000003,2.9000000000000004,3.0,3.1],\"y\":[0.0,0.1,0.2,0.30000000000000004,0.4,0.5,0.6000000000000001,0.7000000000000001,0.8,0.9,1.0,1.1,1.2000000000000002,1.3,1.4000000000000001,1.5,1.6,1.7000000000000002,1.8,1.9000000000000001,2.0,2.1,2.2,2.3000000000000003,2.4000000000000004,2.5,2.6,2.7,2.8000000000000003,2.9000000000000004,3.0,3.1],\"z\":[[-24.320416239232518,-23.085426238230053,-23.322899711373243,-23.075163455267113,-24.44175218626847,-24.245632295162807,-23.36236934883692,-23.708462520314768,-23.065716199907705,-23.682348121555904,-23.89589178170697,-23.697809829746685,-23.541899170118075,-24.54909491215742,-23.134837162721183,-23.410408004083852,-23.17109682811183,-23.346945884159815,-24.35567103368417,-23.45508505318277,-23.67359760004616,-24.3731152548309,-23.39136795537741,-23.97496357458891,-24.159807295772612,-24.286939690790295,-24.04312394630425,-23.464244245719758,-23.547034822549186,-23.672994621696024,-23.27393583408697,-23.553408356503777],[-24.01240848096096,-21.710006876129427,-22.98409771737736,-24.32373877125473,-23.632625538694864,-21.75630737695375,-22.88327970790392,-23.227901732684913,-23.39014485219875,-21.836627464034887,-22.548009365409705,-23.38856299786039,-23.943750054290152,-23.275683881877146,-21.85102716850979,-23.343132249049333,-23.889490733887484,-21.695915152336788,-23.42230128605938,-24.72717385975187,-24.363567701413764,-23.23597111221726,-23.31776253110509,-24.313517954255392,-24.670994660189923,-24.412270911929255,-24.484115483939245,-23.11771094613724,-23.870693448325813,-24.407271479108765,-23.114290792591884,-24.027595506760964],[-24.576004098127793,-17.765440025399297,-22.489923176952278,-24.49296665468875,-21.67949584609217,-17.699461207613616,-21.502231806270952,-22.654639162538523,-22.240693487995916,-19.126005354810122,-21.276380033626296,-23.17960000905737,-23.92538447690093,-19.915268030731074,-20.798577172946114,-25.674589591778172,-24.541382082564777,-17.83583804799596,-22.032543041592874,-26.621825420137103,-25.650034103995914,-21.745009334377276,-23.67451969135537,-26.018098633411388,-24.85226294947331,-24.34767877251534,-24.383171916440425,-24.606356501231236,-25.00063490873514,-26.349151050975735,-23.2800431949976,-24.378421928743943],[-24.70240444999554,-16.320316502727824,-21.81422373866023,-23.607995821490793,-21.326716359413492,-15.900036327378814,-20.910017142420916,-21.50946303847991,-21.310491824846746,-18.20234588164931,-20.794653603403447,-22.367125524846102,-23.15371856358759,-18.768706678674675,-20.066507636751723,-26.960183998905926,-24.45710805133935,-16.364511905047895,-21.760944896718026,-28.292929506108926,-26.631395038436846,-20.422099011391758,-23.42313511786083,-27.04646668329531,-25.980680702528907,-24.652384993714488,-24.455447316061292,-24.939946274797276,-25.987249696832667,-27.050377467964648,-24.183526108366976,-24.400208114213964],[-24.590421629245537,-14.137286658560928,-20.811307208500864,-21.972619022814136,-21.193177741930167,-15.3312862887063,-19.842252155050087,-19.871227880101586,-20.673618511756313,-17.838154998844214,-20.99252714632364,-22.16681783689181,-22.435306656553305,-17.22705753532839,-20.027340545073553,-27.457716719865825,-24.14909557163725,-15.305697556650465,-20.83918302185621,-29.680873143012843,-27.743735570279902,-19.724012873031942,-23.709992594229423,-27.726215203933187,-27.731423745238672,-25.491759711927383,-25.113596620471434,-25.147766033846207,-27.372286921734975,-28.403047119441393,-25.388999626357627,-24.734350942941532],[-24.780202956432724,-15.505971036396767,-21.99444158951582,-22.379109228358377,-21.418386407405894,-16.866761252593307,-20.84636723514324,-21.984655120780957,-22.09420405855426,-19.79454577223201,-21.045677878299745,-22.17713556056646,-22.589950227466083,-19.314284057087978,-19.2320668172112,-25.752849696679217,-24.16766042226195,-17.860868702363756,-20.97015403141685,-28.160513017331624,-26.344240327118506,-22.00062434454912,-23.676615765886847,-26.8401300902769,-27.82860090501811,-26.759300610949325,-25.78456026298252,-25.189417847067528,-25.999433685545316,-27.168178128800303,-25.553396558820506,-25.217557505944328],[-24.448758850157514,-15.837048609118156,-22.0734691861168,-20.373323169614874,-21.142311619542195,-17.835734298084514,-20.780104947660508,-20.53633648287783,-22.106190672457867,-20.282277790480702,-21.43220776942787,-22.290311750447568,-21.881282033060973,-19.046708065712032,-19.588112060392277,-25.78445085639623,-23.576260150561176,-17.441189161279823,-21.25867754426932,-28.479970733168976,-26.423849689174567,-22.378435937790226,-23.876101993016036,-27.239400510048004,-28.69674254675837,-26.92753152055174,-26.127609085171244,-25.62465928031695,-26.565086454221472,-27.646702970780474,-26.422359850215262,-25.144119109219332],[-23.838273550577117,-15.35668181135571,-18.5714044956865,-14.973086124259233,-22.857390843096027,-20.59740172999629,-19.729799493473685,-15.9988944657185,-20.706600073381573,-22.750012122941214,-23.17683535511182,-20.379298368488534,-19.190082508854463,-18.932622352735493,-21.858412120253238,-27.242802414092985,-21.537998494438707,-15.203027790720908,-21.090260742413523,-30.447595289565143,-27.458159253270928,-20.61977528020774,-23.211609860775013,-27.258524261113013,-30.750602968813233,-27.5360641649745,-26.395299849167287,-25.21079437271107,-28.43754455076326,-28.96669320975308,-28.355210510987135,-24.886180783595453],[-23.840766198709655,-17.4307090825045,-18.573460583050526,-13.698464096863791,-24.483127390768782,-24.275582165585913,-20.651840092415146,-15.571519710604372,-21.724122460211284,-25.65580254467271,-24.40740210178408,-20.84005181198168,-19.073032289856886,-20.98542754748404,-23.384143338573185,-26.19854372486741,-20.72000641321749,-17.339641555174577,-21.88565659023898,-29.00076769976354,-27.19720393785105,-21.348498446952256,-23.224076596863735,-26.397243467464858,-30.940037269225645,-27.226412800843693,-26.037030222381762,-24.800250097316624,-28.436519567318356,-28.158672448030757,-28.815329134440173,-24.640465742100155],[-24.293179432535396,-21.49563902372139,-21.89639991192432,-17.241096294442933,-24.26364780901144,-24.883514674987204,-22.67606385607683,-20.678246038682843,-23.180091910650297,-25.54334359953296,-24.345533498559274,-22.432581034362475,-20.44629311917901,-23.058185318268354,-22.441186729114165,-24.131983503152703,-21.351970825448102,-21.28797091315883,-22.657105212666234,-26.13306641026194,-25.471278461575025,-24.78811682770696,-24.888187250793298,-24.933122921514347,-28.359735683605354,-26.941952108054608,-26.557857090478798,-25.84656826659573,-26.052816612237997,-25.657493039444816,-27.42300380521475,-24.832694629173563],[-24.18835357207555,-23.667049372265687,-20.078532654949548,-12.560160576196424,-26.08300649870451,-29.897521213857765,-23.349071084519867,-17.573291518807853,-23.230481250258403,-29.46714481016828,-26.800988959873976,-21.58723322585867,-18.85490049143151,-25.080056551116424,-25.71558000489,-24.07212602811555,-19.726676140674662,-21.797114886033746,-23.391952256117495,-25.29872963399142,-25.4975826490191,-23.772087521921783,-22.732193101346144,-23.72024333018323,-29.44174066574638,-27.007970798183422,-25.01555613760742,-23.654849743564096,-26.78878195833695,-26.306484382679518,-28.324099673045957,-24.224669436391057],[-24.053582528550848,-25.159888261147277,-22.660704637150204,-17.766951666451696,-26.095062269339817,-28.671779746985578,-24.75620667955219,-22.648202131334852,-24.760399995871495,-28.349052873447377,-25.981066728931165,-23.455916580300116,-20.019540138990596,-25.919549318822096,-25.09190249708806,-22.919109312674003,-20.37657124103852,-24.45526721219756,-24.403373373404857,-23.64861128713211,-24.051709950718088,-26.282086558971223,-24.983817689380047,-23.364478066777867,-26.542726256522247,-25.747142932099422,-25.55435774539035,-25.19251430649843,-24.961350906612232,-23.315629094523402,-27.165384696470564,-24.124488807521622],[-23.702876501440837,-26.314696632737512,-22.831558711817117,-19.087848097710076,-26.645106215618192,-29.70430804078132,-24.739203187486314,-23.039162542001353,-24.878102672803475,-28.373450815274605,-26.154352780478487,-23.56628952553166,-20.82068844847591,-26.709232781970417,-25.64798365807651,-22.252906748934176,-20.710026498790906,-25.509588571525565,-24.198924132825898,-22.76103633778347,-23.47138361087194,-26.246050811854467,-24.361484602656226,-22.88474709566531,-25.511750394633804,-25.277468608467448,-25.420283035242637,-24.63929599691106,-24.53896049583541,-22.890351173649904,-26.147239915876295,-23.52328098955161],[-24.579391111336136,-27.79655693734596,-22.605422018847907,-17.57466775642495,-27.28622352167048,-30.867581666968412,-24.72789356070138,-22.011911123538866,-25.481147992264603,-29.792021872799495,-26.831078911978594,-23.17382561116158,-21.756460374974456,-27.30592838343503,-26.18592892985188,-22.36999435371677,-21.224927940832234,-25.732122884833984,-24.798162819909358,-21.327686530893804,-23.07838064978752,-25.899344377503965,-23.630842588567877,-21.610530678189892,-26.20212265022631,-24.682943606351618,-23.98930535948449,-22.700628528278102,-24.523434048195043,-23.512965777078783,-25.83739779246273,-23.91766939994314],[-23.963849659355056,-25.809533645516638,-23.10079951466651,-21.178374450370125,-25.515015996638823,-27.89000736693956,-24.495294658501386,-23.593951247788866,-24.591779875024567,-25.78677965580485,-25.2102467713611,-24.044041821613543,-22.47952893964559,-26.26737424971444,-25.162650421115252,-22.28947217337639,-21.759196284825133,-24.856602786822624,-24.597533754350675,-22.469858207460426,-22.809228401681445,-25.935549856232008,-23.228477135112946,-22.305683218102313,-23.971547798402987,-23.901101263556036,-24.220563972486833,-23.98590075340976,-23.815270544298528,-21.93300113312764,-24.38649039207941,-23.38323509633505],[-24.088232210163056,-24.490842095760698,-23.367564960275455,-22.18846910633116,-24.536649709828218,-25.94594826467975,-24.14594271718699,-23.726662408873363,-23.579512828426843,-24.240383224268694,-24.53141090578989,-23.71038722688164,-23.29340882787182,-24.91986118986985,-24.699336531710735,-23.221200102849288,-22.855263584528217,-24.06425283472198,-23.96006450074092,-22.30647414775873,-23.148849063212868,-24.913079098729074,-23.30593020997982,-22.550561156434163,-23.485906301416343,-23.823326961640372,-24.01527574227451,-23.77726906540609,-23.555156533053964,-22.505909494068014,-23.390172268525838,-22.963134690122263],[-24.584425297747824,-23.002301936568838,-23.347769954938908,-23.680632419958265,-23.654457010131882,-21.793271856717528,-22.834879138716673,-23.20424979094025,-23.157611094604217,-22.179099637841706,-23.60795968406393,-23.391553747248555,-23.264646865782534,-22.559329992017503,-22.827944970589314,-23.95660676382768,-23.39847848167016,-22.885589669444855,-23.73203349484086,-23.36313612809673,-23.64596937823646,-23.78129017422701,-23.511291411783446,-23.898559220672375,-24.000972903448144,-23.854337971941845,-23.117866109606215,-23.428784449491502,-23.872427450244793,-23.995810887770787,-22.891616196859438,-24.074553058539617],[-24.27533652378209,-19.44143466456346,-22.513833731220963,-23.759432640175977,-22.02775042247065,-20.572785501844397,-22.119666447925848,-22.614105270416548,-22.408444790576837,-19.981862382169215,-21.836764162606737,-22.975862930898195,-24.162869671527794,-21.80678511345281,-21.264541997042343,-24.189506962272585,-23.962536819865157,-20.140765319278007,-22.487647821681225,-24.742773488811828,-24.47098332437701,-23.286322152287685,-23.216860863725845,-23.972231897614034,-23.886971708995173,-24.70829242772801,-24.562314297124512,-23.776864204436805,-24.14545617896908,-24.726357567173118,-22.482302032273243,-23.606856541903714],[-24.137284524363384,-17.501602522332565,-22.374746830962092,-23.825553230903626,-21.688213763644764,-18.380290111534332,-21.441305329918094,-22.444316108636244,-22.26723930953805,-19.013388978339396,-20.807786635945625,-22.536288453160516,-24.435935836904576,-20.6596986881719,-19.95896692197637,-24.731093393532888,-24.324962761162,-19.088910994789483,-21.67633875470666,-25.822383778795874,-25.186041767364642,-22.946221566962404,-23.06912936769784,-25.16571314172455,-24.682919259316655,-25.102813381071275,-24.181810974338276,-24.564501678793285,-25.221558060200675,-25.673592481583537,-23.12862031325765,-23.83075271627356],[-24.840526757003676,-14.885400025291704,-21.200331815863347,-23.041840042376855,-21.05379159397288,-15.177384927913334,-19.439311928644862,-19.959390773167232,-20.726458818746174,-17.199041627628635,-20.325588476058336,-22.557057464234404,-22.328251269074737,-17.214207912128945,-19.4297484814102,-26.99084983489194,-24.64025678987942,-15.935626286460241,-21.798412462847224,-28.70837690034587,-26.99287416251198,-20.15533639902893,-23.56134950480008,-27.654458817801466,-27.28392314212878,-25.229828428579008,-24.454947507935568,-25.021734818854338,-26.99880004949814,-27.49369026570845,-24.162443343746844,-24.851417332856013],[-24.520816609052044,-13.424316358043502,-20.24314232616139,-21.258771008360224,-21.184514986883926,-15.197288803286192,-18.959179710053277,-18.167674600911088,-20.007069352477817,-17.341072950724797,-20.06244770081424,-22.122192767028324,-21.382940887651372,-16.451206023786714,-19.11541282654771,-27.469515810689593,-23.92382616069325,-14.365446215837364,-21.117278528038753,-30.07704615690211,-27.177375956561477,-19.240689493113457,-23.779795348661562,-28.161109605736407,-28.756708764872037,-26.28745028623988,-25.25960009979896,-25.69301789359008,-27.548925122584755,-28.47041657902089,-25.03499727014354,-24.981521181926848],[-24.310360803084127,-13.556923269966855,-19.743754071288095,-19.029343403165097,-21.76863454590823,-16.160318887616558,-18.879557353553704,-16.96166505474786,-20.161565851257137,-18.317407541691534,-20.663050164745886,-21.69831691478193,-20.732578191357675,-16.45778791272353,-19.96339047047211,-27.741439297020598,-22.929177256461795,-14.30388992279981,-21.607463505144597,-30.822480276083024,-27.707022351404387,-19.428179262185655,-23.40893489507997,-28.356993392452694,-29.735986793293367,-26.572184726187672,-25.975196546572242,-26.207545266805646,-28.643883191775767,-28.8416241426655,-26.452031109636753,-25.171319159154447],[-23.747554325881655,-14.400973778191874,-19.18137653805168,-16.914300451869007,-22.93155015753663,-18.623967124603094,-19.202604366965144,-15.805738615214862,-20.558980563253197,-20.395428767831664,-21.608074220141553,-21.500603905430946,-19.84514653870613,-17.294092912513143,-20.92307728232876,-27.727064767312353,-21.67651412352533,-14.288694356187293,-21.466954850372883,-30.89301664945763,-27.42246374973349,-19.693664417977807,-23.756932564854385,-28.19521858683911,-30.671549180651407,-27.251615078453383,-26.293101873915187,-26.134033030554722,-29.011463532061477,-29.214419574436576,-27.227388727006048,-25.754464067133185],[-23.849834893476476,-16.577129061386003,-21.00454507570057,-17.691695198654326,-20.89982204015669,-20.438025598036837,-21.095718512044048,-19.25806820956579,-23.336737776908972,-22.26138200422601,-22.935762016615048,-22.646423006128124,-21.105672961829907,-20.06620759791939,-20.150703101989865,-25.692960349877875,-22.15753600789513,-18.6659531306436,-22.199727606395356,-27.89619898245638,-25.47149596959067,-23.424766732000375,-25.046890058892288,-26.59369534010018,-29.256836175630184,-27.943800218211447,-27.167323751179616,-26.69615651809179,-27.395236236181084,-27.517436918288045,-27.437497106545084,-25.663674754878553],[-24.059664190699685,-18.641443680751653,-18.433852243203393,-13.095641694719308,-25.19275466903141,-25.508779716721826,-21.07597337521027,-15.59221499780679,-21.79076767395741,-25.752958414711703,-24.187434749357006,-21.364884240894213,-18.316160775105963,-20.86937451555807,-23.435378038306293,-25.983388216697872,-20.12548141534722,-17.543973433860945,-23.203724191603147,-29.511667708331867,-26.60921457523943,-21.960489754237397,-23.186290984143884,-26.471459334668694,-31.18522932948,-28.23669843795283,-26.275490879249578,-25.17480738067042,-28.989606402331493,-28.328855357105283,-28.809746744635618,-25.635429728561977],[-23.575777714480058,-22.331826447965227,-19.202753838279488,-13.53733357159608,-25.045908497645776,-27.02641149037108,-20.793700257462998,-18.209789047306586,-23.594855070252965,-28.23208679051416,-25.095851758444535,-20.76063417291416,-20.603456419356366,-24.87218116894277,-23.607241589291505,-25.50303076636598,-21.53506062835334,-19.211235645981766,-21.92624192867478,-26.34193199915286,-26.51048654580105,-24.199424088834856,-22.821350770180818,-24.99078869680962,-30.317376606962807,-27.8025746198034,-24.760722157011344,-25.267772402124606,-28.42736952778766,-27.14590315048165,-28.352867547780434,-24.874615350202554],[-23.79096174865412,-24.938769380948575,-23.007741255950872,-16.843642249278027,-24.106786941911842,-27.706284396599703,-22.819306366351995,-21.488768323756776,-24.771556108518414,-27.58039061484157,-24.623377418529333,-22.717490456306827,-21.899479368550274,-25.60416801620804,-23.146742320564336,-24.109642933648374,-22.228312177364344,-23.87106509374379,-24.80939415710281,-24.75880960086558,-24.641949100440627,-27.711659158916344,-25.19757656407629,-24.154820895413582,-27.706777811191554,-27.12798145960939,-25.706840916157656,-25.749315355766246,-27.52399262793405,-25.035490992538705,-27.53210433081334,-26.226460462488266],[-24.29304253023046,-28.64084899963688,-22.076592288620727,-14.159886899768125,-27.42324304478455,-31.48933368851534,-23.220142152467155,-21.239349612086034,-26.722251177386347,-30.51385128269594,-25.861932235665535,-22.069124805438502,-21.63379561522041,-27.856188374374135,-25.57973755087372,-23.586380065287763,-21.939285259743745,-24.592617656184505,-23.69445385364793,-23.722857420343733,-25.557845869267233,-26.85178033931113,-23.18774725662082,-23.433683025029737,-28.85030088302813,-26.81434056609171,-24.528625297105684,-24.567300859705536,-27.236424265494424,-25.433931804243905,-27.014290880581736,-24.844333747646452],[-24.971905009334673,-28.00055735677732,-24.278451770056652,-19.054762714836187,-25.619560049099455,-29.363115227659165,-24.28235140999941,-23.01083518274365,-26.087039319942093,-28.600734402133188,-25.286432819831823,-23.772526457651164,-23.276419940143654,-27.591115098139625,-25.259433170249363,-23.442348213405023,-22.82098465411977,-26.43645724684535,-25.87586579542314,-23.460519439528873,-24.552908431764433,-27.721046675993673,-24.929680171779037,-23.63266466949855,-26.232360690864223,-26.19136222494365,-24.655719696216792,-25.2835595968279,-26.41351464454288,-24.405832641719442,-25.807404051962134,-25.189151644295897],[-25.776787277258986,-28.908825832784775,-24.336483735245597,-20.71494661578089,-25.869920088006886,-29.336889192867634,-24.813809933969395,-24.02085262284762,-26.190823104169162,-27.75754605690635,-25.03681171617854,-24.113163264907644,-24.19679754715207,-27.283053667104273,-26.11513248002743,-23.634556869891803,-23.220976026471583,-26.69011524970133,-25.747024678847833,-23.636319101397017,-24.719578596788548,-27.796580160561703,-24.86855004537652,-23.699748549807804,-25.874487353411627,-25.649501876469266,-24.305167279964003,-25.05274174397934,-26.08581956019876,-23.903498249244535,-25.112890653781747,-24.880791318187658],[-24.86689150845587,-28.739746841735574,-24.239082881580277,-21.994110467826587,-26.340076385066837,-28.616540733521322,-25.309905468629395,-25.067308609292567,-27.382726955390808,-27.780390766669072,-25.299282001598176,-24.06506703280005,-24.72034511135417,-27.28224532368832,-26.27667999973431,-24.08807437080028,-24.014257622916627,-26.38744758744711,-24.63936035888645,-23.26411012505405,-25.7784107916246,-27.29696016184281,-24.596715813622694,-23.98131431027579,-25.31283860418794,-25.019686658570627,-24.04958063702453,-24.381466288272467,-25.761206595106632,-25.30719870371281,-25.40281693662097,-24.454106920005966],[-24.697959484570543,-26.57532746356605,-24.30577586779829,-23.791106640804692,-24.740903211899028,-25.614465841376035,-25.04925948374303,-25.590617359513704,-26.432008568404118,-25.108233063885727,-24.508105816317457,-24.832682233773753,-24.938591764157035,-25.9898609245016,-25.563892187667857,-24.18651554130451,-25.003820292391907,-25.167102009881706,-24.299200805289086,-24.252746322016694,-25.61958494827139,-26.034072397864872,-24.835332731275344,-24.876969873176126,-24.85584006605405,-24.723505991303675,-24.380658248258317,-24.887788628093823,-25.289607178419196,-25.39245956759983,-24.7744491838039,-24.55913456475749]]},{\"hovertemplate\":\"x: %{x}<br>y: %{y}<br> z: %{text:.2f}<extra></extra>\",\"marker\":{\"color\":\"red\",\"line\":{\"width\":1},\"size\":16,\"symbol\":[204]},\"mode\":\"markers\",\"text\":[\"-31.48933368851534\"],\"type\":\"scatter\",\"x\":[0.5],\"y\":[2.7]}],                        {\"height\":700,\"template\":{\"data\":{\"bar\":[{\"error_x\":{\"color\":\"#2a3f5f\"},\"error_y\":{\"color\":\"#2a3f5f\"},\"marker\":{\"line\":{\"color\":\"#E5ECF6\",\"width\":0.5},\"pattern\":{\"fillmode\":\"overlay\",\"size\":10,\"solidity\":0.2}},\"type\":\"bar\"}],\"barpolar\":[{\"marker\":{\"line\":{\"color\":\"#E5ECF6\",\"width\":0.5},\"pattern\":{\"fillmode\":\"overlay\",\"size\":10,\"solidity\":0.2}},\"type\":\"barpolar\"}],\"carpet\":[{\"aaxis\":{\"endlinecolor\":\"#2a3f5f\",\"gridcolor\":\"white\",\"linecolor\":\"white\",\"minorgridcolor\":\"white\",\"startlinecolor\":\"#2a3f5f\"},\"baxis\":{\"endlinecolor\":\"#2a3f5f\",\"gridcolor\":\"white\",\"linecolor\":\"white\",\"minorgridcolor\":\"white\",\"startlinecolor\":\"#2a3f5f\"},\"type\":\"carpet\"}],\"choropleth\":[{\"colorbar\":{\"outlinewidth\":0,\"ticks\":\"\"},\"type\":\"choropleth\"}],\"contour\":[{\"colorbar\":{\"outlinewidth\":0,\"ticks\":\"\"},\"colorscale\":[[0.0,\"#0d0887\"],[0.1111111111111111,\"#46039f\"],[0.2222222222222222,\"#7201a8\"],[0.3333333333333333,\"#9c179e\"],[0.4444444444444444,\"#bd3786\"],[0.5555555555555556,\"#d8576b\"],[0.6666666666666666,\"#ed7953\"],[0.7777777777777778,\"#fb9f3a\"],[0.8888888888888888,\"#fdca26\"],[1.0,\"#f0f921\"]],\"type\":\"contour\"}],\"contourcarpet\":[{\"colorbar\":{\"outlinewidth\":0,\"ticks\":\"\"},\"type\":\"contourcarpet\"}],\"heatmap\":[{\"colorbar\":{\"outlinewidth\":0,\"ticks\":\"\"},\"colorscale\":[[0.0,\"#0d0887\"],[0.1111111111111111,\"#46039f\"],[0.2222222222222222,\"#7201a8\"],[0.3333333333333333,\"#9c179e\"],[0.4444444444444444,\"#bd3786\"],[0.5555555555555556,\"#d8576b\"],[0.6666666666666666,\"#ed7953\"],[0.7777777777777778,\"#fb9f3a\"],[0.8888888888888888,\"#fdca26\"],[1.0,\"#f0f921\"]],\"type\":\"heatmap\"}],\"heatmapgl\":[{\"colorbar\":{\"outlinewidth\":0,\"ticks\":\"\"},\"colorscale\":[[0.0,\"#0d0887\"],[0.1111111111111111,\"#46039f\"],[0.2222222222222222,\"#7201a8\"],[0.3333333333333333,\"#9c179e\"],[0.4444444444444444,\"#bd3786\"],[0.5555555555555556,\"#d8576b\"],[0.6666666666666666,\"#ed7953\"],[0.7777777777777778,\"#fb9f3a\"],[0.8888888888888888,\"#fdca26\"],[1.0,\"#f0f921\"]],\"type\":\"heatmapgl\"}],\"histogram\":[{\"marker\":{\"pattern\":{\"fillmode\":\"overlay\",\"size\":10,\"solidity\":0.2}},\"type\":\"histogram\"}],\"histogram2d\":[{\"colorbar\":{\"outlinewidth\":0,\"ticks\":\"\"},\"colorscale\":[[0.0,\"#0d0887\"],[0.1111111111111111,\"#46039f\"],[0.2222222222222222,\"#7201a8\"],[0.3333333333333333,\"#9c179e\"],[0.4444444444444444,\"#bd3786\"],[0.5555555555555556,\"#d8576b\"],[0.6666666666666666,\"#ed7953\"],[0.7777777777777778,\"#fb9f3a\"],[0.8888888888888888,\"#fdca26\"],[1.0,\"#f0f921\"]],\"type\":\"histogram2d\"}],\"histogram2dcontour\":[{\"colorbar\":{\"outlinewidth\":0,\"ticks\":\"\"},\"colorscale\":[[0.0,\"#0d0887\"],[0.1111111111111111,\"#46039f\"],[0.2222222222222222,\"#7201a8\"],[0.3333333333333333,\"#9c179e\"],[0.4444444444444444,\"#bd3786\"],[0.5555555555555556,\"#d8576b\"],[0.6666666666666666,\"#ed7953\"],[0.7777777777777778,\"#fb9f3a\"],[0.8888888888888888,\"#fdca26\"],[1.0,\"#f0f921\"]],\"type\":\"histogram2dcontour\"}],\"mesh3d\":[{\"colorbar\":{\"outlinewidth\":0,\"ticks\":\"\"},\"type\":\"mesh3d\"}],\"parcoords\":[{\"line\":{\"colorbar\":{\"outlinewidth\":0,\"ticks\":\"\"}},\"type\":\"parcoords\"}],\"pie\":[{\"automargin\":true,\"type\":\"pie\"}],\"scatter\":[{\"marker\":{\"colorbar\":{\"outlinewidth\":0,\"ticks\":\"\"}},\"type\":\"scatter\"}],\"scatter3d\":[{\"line\":{\"colorbar\":{\"outlinewidth\":0,\"ticks\":\"\"}},\"marker\":{\"colorbar\":{\"outlinewidth\":0,\"ticks\":\"\"}},\"type\":\"scatter3d\"}],\"scattercarpet\":[{\"marker\":{\"colorbar\":{\"outlinewidth\":0,\"ticks\":\"\"}},\"type\":\"scattercarpet\"}],\"scattergeo\":[{\"marker\":{\"colorbar\":{\"outlinewidth\":0,\"ticks\":\"\"}},\"type\":\"scattergeo\"}],\"scattergl\":[{\"marker\":{\"colorbar\":{\"outlinewidth\":0,\"ticks\":\"\"}},\"type\":\"scattergl\"}],\"scattermapbox\":[{\"marker\":{\"colorbar\":{\"outlinewidth\":0,\"ticks\":\"\"}},\"type\":\"scattermapbox\"}],\"scatterpolar\":[{\"marker\":{\"colorbar\":{\"outlinewidth\":0,\"ticks\":\"\"}},\"type\":\"scatterpolar\"}],\"scatterpolargl\":[{\"marker\":{\"colorbar\":{\"outlinewidth\":0,\"ticks\":\"\"}},\"type\":\"scatterpolargl\"}],\"scatterternary\":[{\"marker\":{\"colorbar\":{\"outlinewidth\":0,\"ticks\":\"\"}},\"type\":\"scatterternary\"}],\"surface\":[{\"colorbar\":{\"outlinewidth\":0,\"ticks\":\"\"},\"colorscale\":[[0.0,\"#0d0887\"],[0.1111111111111111,\"#46039f\"],[0.2222222222222222,\"#7201a8\"],[0.3333333333333333,\"#9c179e\"],[0.4444444444444444,\"#bd3786\"],[0.5555555555555556,\"#d8576b\"],[0.6666666666666666,\"#ed7953\"],[0.7777777777777778,\"#fb9f3a\"],[0.8888888888888888,\"#fdca26\"],[1.0,\"#f0f921\"]],\"type\":\"surface\"}],\"table\":[{\"cells\":{\"fill\":{\"color\":\"#EBF0F8\"},\"line\":{\"color\":\"white\"}},\"header\":{\"fill\":{\"color\":\"#C8D4E3\"},\"line\":{\"color\":\"white\"}},\"type\":\"table\"}]},\"layout\":{\"annotationdefaults\":{\"arrowcolor\":\"#2a3f5f\",\"arrowhead\":0,\"arrowwidth\":1},\"autotypenumbers\":\"strict\",\"coloraxis\":{\"colorbar\":{\"outlinewidth\":0,\"ticks\":\"\"}},\"colorscale\":{\"diverging\":[[0,\"#8e0152\"],[0.1,\"#c51b7d\"],[0.2,\"#de77ae\"],[0.3,\"#f1b6da\"],[0.4,\"#fde0ef\"],[0.5,\"#f7f7f7\"],[0.6,\"#e6f5d0\"],[0.7,\"#b8e186\"],[0.8,\"#7fbc41\"],[0.9,\"#4d9221\"],[1,\"#276419\"]],\"sequential\":[[0.0,\"#0d0887\"],[0.1111111111111111,\"#46039f\"],[0.2222222222222222,\"#7201a8\"],[0.3333333333333333,\"#9c179e\"],[0.4444444444444444,\"#bd3786\"],[0.5555555555555556,\"#d8576b\"],[0.6666666666666666,\"#ed7953\"],[0.7777777777777778,\"#fb9f3a\"],[0.8888888888888888,\"#fdca26\"],[1.0,\"#f0f921\"]],\"sequentialminus\":[[0.0,\"#0d0887\"],[0.1111111111111111,\"#46039f\"],[0.2222222222222222,\"#7201a8\"],[0.3333333333333333,\"#9c179e\"],[0.4444444444444444,\"#bd3786\"],[0.5555555555555556,\"#d8576b\"],[0.6666666666666666,\"#ed7953\"],[0.7777777777777778,\"#fb9f3a\"],[0.8888888888888888,\"#fdca26\"],[1.0,\"#f0f921\"]]},\"colorway\":[\"#636efa\",\"#EF553B\",\"#00cc96\",\"#ab63fa\",\"#FFA15A\",\"#19d3f3\",\"#FF6692\",\"#B6E880\",\"#FF97FF\",\"#FECB52\"],\"font\":{\"color\":\"#2a3f5f\"},\"geo\":{\"bgcolor\":\"white\",\"lakecolor\":\"white\",\"landcolor\":\"#E5ECF6\",\"showlakes\":true,\"showland\":true,\"subunitcolor\":\"white\"},\"hoverlabel\":{\"align\":\"left\"},\"hovermode\":\"closest\",\"mapbox\":{\"style\":\"light\"},\"paper_bgcolor\":\"white\",\"plot_bgcolor\":\"#E5ECF6\",\"polar\":{\"angularaxis\":{\"gridcolor\":\"white\",\"linecolor\":\"white\",\"ticks\":\"\"},\"bgcolor\":\"#E5ECF6\",\"radialaxis\":{\"gridcolor\":\"white\",\"linecolor\":\"white\",\"ticks\":\"\"}},\"scene\":{\"xaxis\":{\"backgroundcolor\":\"#E5ECF6\",\"gridcolor\":\"white\",\"gridwidth\":2,\"linecolor\":\"white\",\"showbackground\":true,\"ticks\":\"\",\"zerolinecolor\":\"white\"},\"yaxis\":{\"backgroundcolor\":\"#E5ECF6\",\"gridcolor\":\"white\",\"gridwidth\":2,\"linecolor\":\"white\",\"showbackground\":true,\"ticks\":\"\",\"zerolinecolor\":\"white\"},\"zaxis\":{\"backgroundcolor\":\"#E5ECF6\",\"gridcolor\":\"white\",\"gridwidth\":2,\"linecolor\":\"white\",\"showbackground\":true,\"ticks\":\"\",\"zerolinecolor\":\"white\"}},\"shapedefaults\":{\"line\":{\"color\":\"#2a3f5f\"}},\"ternary\":{\"aaxis\":{\"gridcolor\":\"white\",\"linecolor\":\"white\",\"ticks\":\"\"},\"baxis\":{\"gridcolor\":\"white\",\"linecolor\":\"white\",\"ticks\":\"\"},\"bgcolor\":\"#E5ECF6\",\"caxis\":{\"gridcolor\":\"white\",\"linecolor\":\"white\",\"ticks\":\"\"}},\"title\":{\"x\":0.05},\"xaxis\":{\"automargin\":true,\"gridcolor\":\"white\",\"linecolor\":\"white\",\"ticks\":\"\",\"title\":{\"standoff\":15},\"zerolinecolor\":\"white\",\"zerolinewidth\":2},\"yaxis\":{\"automargin\":true,\"gridcolor\":\"white\",\"linecolor\":\"white\",\"ticks\":\"\",\"title\":{\"standoff\":15},\"zerolinecolor\":\"white\",\"zerolinewidth\":2}}},\"title\":{\"text\":\"F(\\u03b3,\\u03b2)\"},\"width\":700,\"xaxis\":{\"title\":{\"text\":\"\\u03b3\"}},\"yaxis\":{\"title\":{\"text\":\"\\u03b2\"}}},                        {\"responsive\": true}                    ).then(function(){\n",
       "                            \n",
       "var gd = document.getElementById('f72fa4b3-64a2-4e5c-8685-65c7663a0577');\n",
       "var x = new MutationObserver(function (mutations, observer) {{\n",
       "        var display = window.getComputedStyle(gd).display;\n",
       "        if (!display || display === 'none') {{\n",
       "            console.log([gd, 'removed!']);\n",
       "            Plotly.purge(gd);\n",
       "            observer.disconnect();\n",
       "        }}\n",
       "}});\n",
       "\n",
       "// Listen for the removal of the full notebook cells\n",
       "var notebookContainer = gd.closest('#notebook-container');\n",
       "if (notebookContainer) {{\n",
       "    x.observe(notebookContainer, {childList: true});\n",
       "}}\n",
       "\n",
       "// Listen for the clearing of the current output cell\n",
       "var outputEl = gd.closest('.output');\n",
       "if (outputEl) {{\n",
       "    x.observe(outputEl, {childList: true});\n",
       "}}\n",
       "\n",
       "                        })                };                });            </script>        </div>"
      ]
     },
     "metadata": {},
     "output_type": "display_data"
    }
   ],
   "source": [
    "# Plot Heatmap \n",
    "fig = go.Figure(data=go.Heatmap(z=landscape, x=b_beta, y=a_gamma, type = 'heatmap', colorscale = 'viridis'))\n",
    "\n",
    "# Update Layout\n",
    "fig.update_layout(title=\"F(γ,β)\", width=700, height=700, yaxis_title=\"β\", xaxis_title=\"γ\")\n",
    "\n",
    "# Display Global Minimium \n",
    "fig.add_trace(\n",
    "    go.Scatter(mode=\"markers\", x=[opt_beta], y=[opt_gamma], marker_symbol=[204], text = [landscape[gamma,beta]],\n",
    "                   marker_color=\"red\",  hovertemplate=\"x: %{x}<br>y: %{y}<br> z: %{text:.2f}<extra></extra>\", \n",
    "                   marker_line_width=1, marker_size=16))"
   ]
  },
  {
   "cell_type": "code",
   "execution_count": 51,
   "id": "5eef23c8",
   "metadata": {},
   "outputs": [],
   "source": [
    "# Display Optimizer Results\n",
    "\n",
    "# Display path \n",
    "#fig.add_trace(\n",
    "#    go.Scatter(mode=\"lines\", x=gammas, y=betas, marker_symbol=[200],\n",
    "#                   marker_color=\"white\", marker_line_width=1, marker_size=8)\n",
    "#)\n",
    "\n",
    "# Display start point\n",
    "#fig.add_trace(\n",
    "#    go.Scatter(mode=\"markers\", x=[gammas[0]], y=[betas[0]], marker_symbol=[204],\n",
    "#                   marker_color=\"gray\", \n",
    "#                   marker_line_width=1, marker_size=16))\n",
    "\n",
    "# Display end point\n",
    "#fig.add_trace(\n",
    "#    go.Scatter(mode=\"markers\", x=[gammas[-1]], y=[betas[-1]], marker_symbol=[204],\n",
    "#                   marker_color=\"green\", \n",
    "#                   marker_line_width=1, marker_size=16))\n",
    "\n"
   ]
  },
  {
   "cell_type": "code",
   "execution_count": 52,
   "id": "5191a47a",
   "metadata": {},
   "outputs": [],
   "source": [
    "# Plot Optimizer History\n",
    "#fig = go.Figure(data=go.Scatter(x=counts, y=values))\n",
    "#fig.update_layout(xaxis_title=\"Evaluation Counts\", yaxis_title=\"Evaluated Mean\", title=\"Optimizer\")\n",
    "#fig.show()"
   ]
  },
  {
   "cell_type": "code",
   "execution_count": null,
   "id": "64b6705c",
   "metadata": {},
   "outputs": [],
   "source": []
  }
 ],
 "metadata": {
  "kernelspec": {
   "display_name": "python3.8",
   "language": "python",
   "name": "python3.8"
  },
  "language_info": {
   "codemirror_mode": {
    "name": "ipython",
    "version": 3
   },
   "file_extension": ".py",
   "mimetype": "text/x-python",
   "name": "python",
   "nbconvert_exporter": "python",
   "pygments_lexer": "ipython3",
   "version": "3.8.6"
  }
 },
 "nbformat": 4,
 "nbformat_minor": 5
}
