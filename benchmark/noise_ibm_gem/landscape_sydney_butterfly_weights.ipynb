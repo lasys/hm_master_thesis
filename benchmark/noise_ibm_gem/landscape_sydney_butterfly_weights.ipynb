{
 "cells": [
  {
   "cell_type": "code",
   "execution_count": 24,
   "id": "08c90252",
   "metadata": {},
   "outputs": [],
   "source": [
    "import sys\n",
    "import os\n",
    "sys.path.insert(0, os.path.abspath('../'))\n",
    "sys.path.insert(0, os.path.abspath('../../'))\n",
    "sys.path.insert(0, os.path.abspath('/home/hm-tlacherm/qlm_notebooks/notebooks_1.2.1/notebooks/master_thesis_qaoa/'))\n",
    "sys.path.insert(0, os.path.abspath('/home/hm-tlacherm/qlm_notebooks/notebooks_1.2.1/notebooks/master_thesis_qaoa/ibm/'))"
   ]
  },
  {
   "cell_type": "code",
   "execution_count": 25,
   "id": "d544255f",
   "metadata": {},
   "outputs": [
    {
     "name": "stderr",
     "output_type": "stream",
     "text": [
      "ibmqfactory.load_account:WARNING:2021-10-07 22:50:52,290: Credentials are already in use. The existing account in the session will be replaced.\n"
     ]
    }
   ],
   "source": [
    "import numpy as np\n",
    "\n",
    "import qiskit\n",
    "provider = qiskit.IBMQ.load_account()\n",
    "from qiskit import Aer\n",
    "from qiskit.utils import QuantumInstance\n",
    "from qiskit_optimization.algorithms import MinimumEigenOptimizer\n",
    "from qiskit.algorithms import QAOA\n",
    "from shared.QiskitMaxcut import *\n",
    "from ibm.ibm_parameters import *\n",
    "from shared.gem.gem_instance import GEMInstance\n",
    "from shared.gem.gem_quantum_instance import GEMQuantumInstance\n",
    "from matplotlib import pyplot as plt\n",
    "%matplotlib inline"
   ]
  },
  {
   "cell_type": "code",
   "execution_count": 26,
   "id": "c4f3a410",
   "metadata": {},
   "outputs": [
    {
     "name": "stdout",
     "output_type": "stream",
     "text": [
      "graph_05_06_02_w\n"
     ]
    },
    {
     "data": {
      "image/png": "[encoded data removed]",
      "text/plain": [
       "<Figure size 432x288 with 1 Axes>"
      ]
     },
     "metadata": {},
     "output_type": "display_data"
    }
   ],
   "source": [
    "graph = generate_butterfly_graph(with_weights=True)\n",
    "max_cut = Maxcut(graph)\n",
    "max_cut_qubo = max_cut.to_qubo()\n",
    "print(graph.name)\n",
    "max_cut.draw()"
   ]
  },
  {
   "cell_type": "code",
   "execution_count": 27,
   "id": "617f4b75",
   "metadata": {},
   "outputs": [],
   "source": [
    "step_size = 0.1\n",
    "a_gamma = np.arange(0, np.pi, step_size)\n",
    "b_beta = np.arange(0, np.pi, step_size)"
   ]
  },
  {
   "cell_type": "code",
   "execution_count": 28,
   "id": "77c26255",
   "metadata": {},
   "outputs": [
    {
     "data": {
      "text/plain": [
       "32"
      ]
     },
     "execution_count": 28,
     "metadata": {},
     "output_type": "execute_result"
    }
   ],
   "source": [
    "a_gamma, b_beta = np.meshgrid(a_gamma, b_beta)\n",
    "len(a_gamma)"
   ]
  },
  {
   "cell_type": "code",
   "execution_count": 29,
   "id": "7521ba41",
   "metadata": {},
   "outputs": [],
   "source": [
    "def maxcut_obj(x, G):\n",
    "    \"\"\"\n",
    "    Given a bitstring as a solution, this function returns\n",
    "    the number of edges shared between the two partitions\n",
    "    of the graph.\n",
    "    \n",
    "    Args:\n",
    "        x: str\n",
    "           solution bitstring\n",
    "           \n",
    "        G: networkx graph\n",
    "        \n",
    "    Returns:\n",
    "        obj: float\n",
    "             Objective\n",
    "    \"\"\"\n",
    "    obj = 0\n",
    "    for i,j,w in graph.edges.data('weight'):\n",
    "        if x[i] != x[j]:\n",
    "            obj -= w\n",
    "            \n",
    "    return obj\n",
    "\n",
    "\n",
    "def compute_expectation(counts, G):\n",
    "    \n",
    "    \"\"\"\n",
    "    Computes expectation value based on measurement results\n",
    "    \n",
    "    Args:\n",
    "        counts: dict\n",
    "                key as bitstring, val as count\n",
    "           \n",
    "        G: networkx graph\n",
    "        \n",
    "    Returns:\n",
    "        avg: float\n",
    "             expectation value\n",
    "    \"\"\"\n",
    "    \n",
    "    avg = 0\n",
    "    sum_count = 0\n",
    "    for bitstring, count in counts.items():\n",
    "        \n",
    "        obj = maxcut_obj(bitstring, G)\n",
    "        avg += obj * count\n",
    "        sum_count += count\n",
    "        \n",
    "    return avg/sum_count"
   ]
  },
  {
   "cell_type": "code",
   "execution_count": 30,
   "id": "1defe426",
   "metadata": {},
   "outputs": [],
   "source": [
    "quantum_instance = QuantumInstance(\n",
    "                    #backend=Aer.get_backend(DEFAULT_QASM_SIMULATOR),\n",
    "                    backend=provider.get_backend('ibmq_sydney'),\n",
    "                    shots=SHOTS)\n",
    "\n",
    "\n",
    "\n",
    "\n",
    "qaoa = QAOA(\n",
    "            optimizer=COBYLA(maxiter=0),\n",
    "            quantum_instance=quantum_instance,\n",
    "            reps=1\n",
    "            )\n",
    "\n",
    "op, offset = max_cut_qubo.to_ising()"
   ]
  },
  {
   "cell_type": "code",
   "execution_count": 31,
   "id": "cf2907cd",
   "metadata": {},
   "outputs": [],
   "source": [
    "def create_cirucit(gamma,beta):\n",
    "    circuits = qaoa.construct_circuit([gamma,beta], operator=op)\n",
    "    circuit = circuits[0]\n",
    "    circuit.measure_all()\n",
    "    return circuit"
   ]
  },
  {
   "cell_type": "code",
   "execution_count": 32,
   "id": "aab936ac",
   "metadata": {},
   "outputs": [],
   "source": [
    "#gem_instance = GEMInstance()"
   ]
  },
  {
   "cell_type": "code",
   "execution_count": 33,
   "id": "d603e055",
   "metadata": {},
   "outputs": [],
   "source": [
    "#first_circuit = create_cirucit(0.5,0.5)"
   ]
  },
  {
   "cell_type": "code",
   "execution_count": 34,
   "id": "61e1469d",
   "metadata": {},
   "outputs": [],
   "source": [
    "#mg = gem_instance.get_gem_matrix(first_circuit, quantum_instance)"
   ]
  },
  {
   "cell_type": "code",
   "execution_count": 35,
   "id": "8ad3a2e6",
   "metadata": {},
   "outputs": [],
   "source": [
    "#quantum_instance.MG = mg\n",
    "#mg"
   ]
  },
  {
   "cell_type": "code",
   "execution_count": 36,
   "id": "7aa92597",
   "metadata": {},
   "outputs": [
    {
     "name": "stdout",
     "output_type": "stream",
     "text": [
      "graph_05_06_02_w_gem_row_0\n",
      "graph_05_06_02_w_gem_row_1\n",
      "graph_05_06_02_w_gem_row_2\n",
      "graph_05_06_02_w_gem_row_3\n",
      "graph_05_06_02_w_gem_row_4\n",
      "graph_05_06_02_w_gem_row_5\n",
      "graph_05_06_02_w_gem_row_6\n",
      "graph_05_06_02_w_gem_row_7\n",
      "graph_05_06_02_w_gem_row_8\n",
      "graph_05_06_02_w_gem_row_9\n",
      "graph_05_06_02_w_gem_row_10\n",
      "graph_05_06_02_w_gem_row_11\n",
      "graph_05_06_02_w_gem_row_12\n",
      "graph_05_06_02_w_gem_row_13\n",
      "graph_05_06_02_w_gem_row_14\n",
      "graph_05_06_02_w_gem_row_15\n",
      "graph_05_06_02_w_gem_row_16\n",
      "graph_05_06_02_w_gem_row_17\n",
      "graph_05_06_02_w_gem_row_18\n",
      "graph_05_06_02_w_gem_row_19\n",
      "graph_05_06_02_w_gem_row_20\n",
      "graph_05_06_02_w_gem_row_21\n",
      "graph_05_06_02_w_gem_row_22\n",
      "graph_05_06_02_w_gem_row_23\n",
      "graph_05_06_02_w_gem_row_24\n",
      "graph_05_06_02_w_gem_row_25\n",
      "graph_05_06_02_w_gem_row_26\n",
      "graph_05_06_02_w_gem_row_27\n",
      "graph_05_06_02_w_gem_row_28\n",
      "graph_05_06_02_w_gem_row_29\n",
      "graph_05_06_02_w_gem_row_30\n",
      "graph_05_06_02_w_gem_row_31\n"
     ]
    }
   ],
   "source": [
    "landscape = np.zeros(a_gamma.shape)\n",
    "\n",
    "for i in range(0, len(landscape)):\n",
    "    circuits = []\n",
    "    for j in range(0, len(landscape)):\n",
    "        # create circuits for entire row \n",
    "        circuit = create_cirucit(a_gamma[i][j], b_beta[i][j])\n",
    "        circuits.append(circuit)\n",
    "    \n",
    "    # create one job with circuits \n",
    "    job_name = f\"{graph.name}_gem_row_{i}\"\n",
    "    job = quantum_instance.execute(circuits)\n",
    "    #job.update_name(job_name)\n",
    "    print(job_name)\n",
    "    #print(job)\n",
    "    \n",
    "    # add results to landscape \n",
    "    k = 0\n",
    "    for count in job.get_counts():\n",
    "        mean = compute_expectation(count, graph)\n",
    "        landscape[i,k % 32] = mean\n",
    "        k += 1"
   ]
  },
  {
   "cell_type": "code",
   "execution_count": 37,
   "id": "0318681e",
   "metadata": {},
   "outputs": [
    {
     "name": "stdout",
     "output_type": "stream",
     "text": [
      "[[-23.3795   -23.7175   -23.368    ... -23.848875 -23.448375 -23.854   ]\n",
      " [-24.398875 -21.8335   -23.136    ... -24.435125 -23.43025  -23.64125 ]\n",
      " [-24.29425  -20.14275  -22.670625 ... -25.18225  -23.44675  -23.672625]\n",
      " ...\n",
      " [-24.31975  -27.527875 -23.51975  ... -24.294625 -24.82075  -24.      ]\n",
      " [-24.098375 -26.745    -24.130625 ... -24.290375 -24.6      -23.795875]\n",
      " [-24.246625 -25.282625 -24.39275  ... -24.673    -24.251625 -23.69975 ]]\n"
     ]
    },
    {
     "data": {
      "image/png": "[encoded data removed]",
      "text/plain": [
       "<Figure size 288x288 with 1 Axes>"
      ]
     },
     "metadata": {
      "needs_background": "light"
     },
     "output_type": "display_data"
    }
   ],
   "source": [
    "print(landscape)\n",
    "plt.matshow(landscape)\n",
    "plt.show()"
   ]
  },
  {
   "cell_type": "code",
   "execution_count": 38,
   "id": "f92be730",
   "metadata": {},
   "outputs": [
    {
     "data": {
      "text/plain": [
       "-23.712109008789064"
      ]
     },
     "execution_count": 38,
     "metadata": {},
     "output_type": "execute_result"
    }
   ],
   "source": [
    "# Mean of landscape\n",
    "np.mean(landscape)"
   ]
  },
  {
   "cell_type": "code",
   "execution_count": 39,
   "id": "bb03a5a4",
   "metadata": {},
   "outputs": [
    {
     "data": {
      "text/plain": [
       "-28.749125"
      ]
     },
     "execution_count": 39,
     "metadata": {},
     "output_type": "execute_result"
    }
   ],
   "source": [
    "# Minimium \n",
    "np.min(landscape)"
   ]
  },
  {
   "cell_type": "code",
   "execution_count": 40,
   "id": "be4164d7",
   "metadata": {},
   "outputs": [
    {
     "data": {
      "text/plain": [
       "(12, 5)"
      ]
     },
     "execution_count": 40,
     "metadata": {},
     "output_type": "execute_result"
    }
   ],
   "source": [
    "# Display Coordinates of Minimum \n",
    "np.unravel_index(np.argmin(landscape), landscape.shape)"
   ]
  },
  {
   "cell_type": "code",
   "execution_count": 41,
   "id": "d345481d",
   "metadata": {},
   "outputs": [
    {
     "name": "stdout",
     "output_type": "stream",
     "text": [
      "Opt.Gamma: 1.2000000000000002, Opt.Beta: 0.5\n"
     ]
    }
   ],
   "source": [
    "# Gamma and beta value of Minimium\n",
    "gamma, beta = np.unravel_index(np.argmin(landscape), landscape.shape)\n",
    "opt_gamma = gamma * step_size\n",
    "opt_beta = beta * step_size\n",
    "print(f\"Opt.Gamma: {opt_gamma}, Opt.Beta: {opt_beta}\")"
   ]
  },
  {
   "cell_type": "code",
   "execution_count": 42,
   "id": "3aeb645a",
   "metadata": {},
   "outputs": [],
   "source": [
    "# Save result matrix \n",
    "with open('landscape_sydney_butterfly_weights_results.npy', 'wb') as f:\n",
    "    np.save(f, landscape)"
   ]
  },
  {
   "cell_type": "code",
   "execution_count": 43,
   "id": "143a3a5b",
   "metadata": {},
   "outputs": [],
   "source": [
    "import plotly.graph_objects as go"
   ]
  },
  {
   "cell_type": "code",
   "execution_count": 44,
   "id": "a4a70fc8",
   "metadata": {},
   "outputs": [
    {
     "data": {
      "application/vnd.plotly.v1+json": {
       "config": {
        "plotlyServerURL": "https://plot.ly"
       },
       "data": [
        {
         "contours": {
          "z": {
           "highlightcolor": "limegreen",
           "project": {
            "z": true
           },
           "show": true,
           "usecolormap": true
          }
         },
         "type": "surface",
         "x": [
          0,
          0.1,
          0.2,
          0.30000000000000004,
          0.4,
          0.5,
          0.6000000000000001,
          0.7000000000000001,
          0.8,
          0.9,
          1,
          1.1,
          1.2000000000000002,
          1.3,
          1.4000000000000001,
          1.5,
          1.6,
          1.7000000000000002,
          1.8,
          1.9000000000000001,
          2,
          2.1,
          2.2,
          2.3000000000000003,
          2.4000000000000004,
          2.5,
          2.6,
          2.7,
          2.8000000000000003,
          2.9000000000000004,
          3,
          3.1
         ],
         "y": [
          0,
          0.1,
          0.2,
          0.30000000000000004,
          0.4,
          0.5,
          0.6000000000000001,
          0.7000000000000001,
          0.8,
          0.9,
          1,
          1.1,
          1.2000000000000002,
          1.3,
          1.4000000000000001,
          1.5,
          1.6,
          1.7000000000000002,
          1.8,
          1.9000000000000001,
          2,
          2.1,
          2.2,
          2.3000000000000003,
          2.4000000000000004,
          2.5,
          2.6,
          2.7,
          2.8000000000000003,
          2.9000000000000004,
          3,
          3.1
         ],
         "z": [
          [
           -23.3795,
           -23.7175,
           -23.368,
           -23.4275,
           -23.8025,
           -23.498375,
           -23.457125,
           -23.673875,
           -24.00475,
           -23.6055,
           -23.473,
           -23.374125,
           -23.783875,
           -23.859,
           -23.518625,
           -23.589125,
           -23.747,
           -23.449875,
           -23.601375,
           -23.448375,
           -23.89525,
           -24.02975,
           -23.42025,
           -23.3345,
           -23.707375,
           -23.804125,
           -23.3455,
           -23.177,
           -23.844875,
           -23.848875,
           -23.448375,
           -23.854
          ],
          [
           -24.398875,
           -21.8335,
           -23.136,
           -24.264125,
           -23.07125,
           -21.39825,
           -22.67975,
           -23.223125,
           -23.314875,
           -21.855875,
           -22.47125,
           -23.25325,
           -23.7765,
           -22.358625,
           -22.333625,
           -24.16075,
           -23.959625,
           -21.887375,
           -23.047,
           -24.23875,
           -24.14625,
           -22.95975,
           -23.03925,
           -24.190125,
           -23.8685,
           -23.727125,
           -23.30375,
           -23.559625,
           -24.35525,
           -24.435125,
           -23.43025,
           -23.64125
          ],
          [
           -24.29425,
           -20.14275,
           -22.670625,
           -23.896,
           -22.51225,
           -19.92025,
           -22.08,
           -22.77425,
           -22.68125,
           -20.48575,
           -21.8685,
           -23.001875,
           -23.460875,
           -21.269375,
           -21.808,
           -24.905125,
           -24.103125,
           -20.267625,
           -22.44075,
           -25.531375,
           -24.932375,
           -22.4245,
           -23.440375,
           -24.94825,
           -24.743625,
           -23.949875,
           -23.841,
           -24.277375,
           -24.8665,
           -25.18225,
           -23.44675,
           -23.672625
          ],
          [
           -24.462375,
           -18.611875,
           -22.248125,
           -23.449375,
           -22.107875,
           -18.655,
           -21.421125,
           -21.7145,
           -22.34125,
           -19.701875,
           -21.5335,
           -22.52925,
           -22.998875,
           -19.717,
           -20.970375,
           -25.6345,
           -23.86775,
           -19.14775,
           -22.403,
           -26.80825,
           -25.473,
           -21.73675,
           -23.683125,
           -25.77775,
           -25.1775,
           -24.3795,
           -24.052375,
           -24.341875,
           -25.653375,
           -25.977875,
           -23.985875,
           -24.001125
          ],
          [
           -24.36225,
           -17.58625,
           -21.5665,
           -22.435375,
           -21.94125,
           -18.616625,
           -20.892,
           -21.004,
           -21.76625,
           -19.5535,
           -21.355625,
           -22.1385,
           -22.368,
           -18.89575,
           -21.0295,
           -26.0025,
           -23.379,
           -18.271,
           -21.91525,
           -27.711625,
           -25.816375,
           -21.370875,
           -23.7175,
           -26.405875,
           -26.439375,
           -24.839875,
           -24.62925,
           -24.787875,
           -25.8875,
           -26.725875,
           -24.624875,
           -24.47725
          ],
          [
           -24.12275,
           -17.294875,
           -21.286,
           -21.1425,
           -22.49725,
           -19.023625,
           -20.61725,
           -19.76725,
           -21.390125,
           -20.425125,
           -21.724375,
           -21.853125,
           -21.755,
           -19.084375,
           -21.2865,
           -26.2025,
           -23.283125,
           -18.0545,
           -22.094625,
           -28.1655,
           -26.16175,
           -21.37175,
           -23.46625,
           -26.405125,
           -27.26875,
           -25.109875,
           -24.5865,
           -24.8185,
           -26.549875,
           -27.07125,
           -25.367625,
           -24.404125
          ],
          [
           -24.062875,
           -17.616875,
           -20.78575,
           -19.478625,
           -22.576125,
           -20.143875,
           -20.777375,
           -18.80225,
           -21.592,
           -21.46925,
           -21.830625,
           -21.05675,
           -21.053375,
           -19.489125,
           -21.5935,
           -26.21325,
           -22.8685,
           -17.803375,
           -21.959375,
           -28.54975,
           -26.2065,
           -21.164375,
           -23.411625,
           -26.5005,
           -27.726875,
           -25.570875,
           -25.192125,
           -24.90725,
           -26.71125,
           -27.351,
           -26.003625,
           -24.51875
          ],
          [
           -23.90575,
           -18.818625,
           -20.69375,
           -18.374625,
           -23.188875,
           -22.239375,
           -21.38275,
           -18.807125,
           -21.574625,
           -23.02675,
           -23.129875,
           -21.310625,
           -20.69475,
           -20.574875,
           -22.507875,
           -26.02275,
           -22.057875,
           -18.8455,
           -22.471875,
           -27.825625,
           -26.1865,
           -21.668,
           -23.42125,
           -26.124375,
           -28.11,
           -25.79525,
           -25.028625,
           -24.79675,
           -26.77925,
           -27.076125,
           -26.403375,
           -24.71675
          ],
          [
           -23.85375,
           -19.964875,
           -20.639625,
           -17.040875,
           -24.010625,
           -24.53025,
           -21.844,
           -18.314,
           -22.415125,
           -24.9255,
           -23.971,
           -21.239625,
           -20.30075,
           -21.810125,
           -23.201875,
           -25.613875,
           -21.536625,
           -19.93025,
           -22.819,
           -27.3425,
           -25.848375,
           -22.20175,
           -23.440625,
           -25.404875,
           -28.310625,
           -25.768625,
           -25.01325,
           -24.625875,
           -26.796625,
           -26.688125,
           -26.841875,
           -24.48175
          ],
          [
           -23.690875,
           -21.595,
           -20.8105,
           -16.391375,
           -24.479,
           -25.998375,
           -22.63525,
           -18.627375,
           -22.847,
           -26.2205,
           -24.748875,
           -21.636625,
           -20.14375,
           -23.343875,
           -24.36375,
           -25.05225,
           -21.392875,
           -20.9985,
           -23.44475,
           -26.034875,
           -25.161,
           -22.728625,
           -23.461875,
           -24.741625,
           -27.994875,
           -25.80925,
           -24.9785,
           -24.1925,
           -26.207125,
           -26.1165,
           -26.967625,
           -24.498
          ],
          [
           -23.60975,
           -23.714,
           -21.321375,
           -16.5245,
           -24.90075,
           -27.612375,
           -23.589375,
           -19.145375,
           -23.35525,
           -27.662875,
           -25.48475,
           -21.924125,
           -20.603375,
           -24.456125,
           -25.357875,
           -24.373625,
           -21.366,
           -22.682,
           -23.9765,
           -24.878,
           -24.386875,
           -23.57025,
           -23.781125,
           -23.70775,
           -26.877125,
           -25.434875,
           -24.66575,
           -23.74775,
           -25.69775,
           -25.3655,
           -26.657875,
           -24.312375
          ],
          [
           -23.462,
           -24.9715,
           -21.804125,
           -17.5815,
           -25.04325,
           -28.500875,
           -24.0555,
           -20.310125,
           -24.031375,
           -28.168375,
           -26.044,
           -22.53975,
           -21.076,
           -25.777,
           -25.53025,
           -23.707375,
           -21.203625,
           -23.922875,
           -24.268875,
           -23.8235,
           -23.599625,
           -24.04825,
           -23.745625,
           -23.310625,
           -26.154375,
           -25.058125,
           -24.47725,
           -23.769625,
           -24.899125,
           -24.527375,
           -26.071125,
           -24.195375
          ],
          [
           -23.576875,
           -25.68325,
           -22.263875,
           -18.38325,
           -25.079,
           -28.749125,
           -24.49775,
           -21.039625,
           -24.359375,
           -28.127125,
           -26.153875,
           -23.16575,
           -21.506375,
           -26.226875,
           -25.77075,
           -23.1505,
           -21.453125,
           -24.752125,
           -24.425,
           -22.8945,
           -23.27075,
           -24.565,
           -23.8125,
           -22.69275,
           -25.271875,
           -24.657625,
           -23.983375,
           -23.012125,
           -24.178625,
           -24.12775,
           -25.5695,
           -24.112875
          ],
          [
           -23.733125,
           -26.18325,
           -23.058375,
           -19.614375,
           -25.0655,
           -27.90925,
           -24.61525,
           -21.975375,
           -24.480125,
           -27.598,
           -25.718625,
           -23.4145,
           -22.186875,
           -26.095125,
           -25.699875,
           -22.99825,
           -21.73325,
           -25.17025,
           -24.538375,
           -22.63825,
           -22.99275,
           -24.47875,
           -23.744125,
           -22.548625,
           -24.319875,
           -24.277,
           -23.668125,
           -23.048625,
           -23.65425,
           -23.688875,
           -24.84775,
           -23.873625
          ],
          [
           -23.914875,
           -25.726375,
           -23.184875,
           -21.55,
           -24.951125,
           -26.720875,
           -24.49325,
           -22.823,
           -24.674625,
           -26.33725,
           -25.042875,
           -23.621,
           -22.795375,
           -25.461375,
           -24.82775,
           -22.9265,
           -22.643375,
           -25.083,
           -24.576625,
           -22.379375,
           -23.028375,
           -24.429125,
           -23.473625,
           -22.729875,
           -24.084625,
           -24.168375,
           -23.38925,
           -23.039,
           -23.65425,
           -23.261625,
           -24.298375,
           -23.993875
          ],
          [
           -24.236875,
           -25.85375,
           -24.1205,
           -23.5155,
           -24.623625,
           -25.317,
           -24.578375,
           -24.44675,
           -25.472375,
           -25.3935,
           -24.896,
           -24.395125,
           -24.36825,
           -25.229625,
           -25.003875,
           -24.541125,
           -24.495625,
           -25.058125,
           -24.73575,
           -23.846,
           -24.42925,
           -25.317625,
           -24.70475,
           -24.436875,
           -24.374125,
           -24.111,
           -23.712375,
           -24.43925,
           -24.939,
           -24.571,
           -24.27675,
           -24.493
          ],
          [
           -24.18125,
           -23.979625,
           -24.093875,
           -24.572375,
           -23.657375,
           -23.380125,
           -24.140125,
           -24.599125,
           -24.753125,
           -23.737375,
           -24.036,
           -24.46725,
           -24.324875,
           -23.917125,
           -24.50975,
           -24.8905,
           -24.95225,
           -24.036875,
           -24.29525,
           -24.8385,
           -24.545,
           -24.622625,
           -24.773875,
           -24.637,
           -24.212,
           -24.055875,
           -23.981875,
           -24.681625,
           -24.912625,
           -24.8105,
           -24.179375,
           -24.4845
          ],
          [
           -24.010125,
           -22.035125,
           -23.763,
           -24.8995,
           -23.1015,
           -21.444,
           -23.521875,
           -24.303375,
           -23.89725,
           -22.192,
           -23.647125,
           -24.248625,
           -24.2895,
           -22.4425,
           -23.633375,
           -25.380875,
           -25.02075,
           -22.5325,
           -24.244375,
           -26.1765,
           -24.973125,
           -23.590875,
           -24.703375,
           -25.231375,
           -24.558875,
           -24.224375,
           -24.644375,
           -24.947,
           -24.960875,
           -25.26175,
           -24.2705,
           -24.517625
          ],
          [
           -23.82325,
           -20.285,
           -23.502625,
           -24.68325,
           -22.52275,
           -19.92375,
           -23.010875,
           -23.630875,
           -23.1065,
           -20.965875,
           -22.694125,
           -23.9155,
           -23.692625,
           -21.05,
           -22.896875,
           -25.974,
           -24.83075,
           -20.996625,
           -23.142375,
           -26.960375,
           -25.242375,
           -22.604,
           -24.748,
           -26.109,
           -24.913875,
           -24.143,
           -24.770875,
           -25.56425,
           -25.2055,
           -25.913375,
           -24.53075,
           -24.616875
          ],
          [
           -23.75275,
           -18.8435,
           -22.8445,
           -24.029,
           -21.948,
           -18.927625,
           -21.9145,
           -22.77025,
           -22.333125,
           -20.3725,
           -22.2655,
           -23.61775,
           -22.9205,
           -20.1955,
           -22.192625,
           -26.375875,
           -24.695375,
           -19.54675,
           -22.87,
           -27.954375,
           -25.755,
           -21.96575,
           -24.38325,
           -26.753375,
           -25.311125,
           -24.606875,
           -25.234625,
           -25.625875,
           -25.723625,
           -26.516875,
           -24.9445,
           -24.3345
          ],
          [
           -23.4495,
           -17.760625,
           -22.202875,
           -22.832375,
           -21.865375,
           -18.790625,
           -21.30825,
           -21.5195,
           -21.898625,
           -20.29175,
           -21.851625,
           -22.740125,
           -22.073375,
           -19.774375,
           -21.6155,
           -26.65875,
           -24.2375,
           -18.290625,
           -22.480875,
           -28.384375,
           -25.78625,
           -21.533625,
           -24.205875,
           -26.890625,
           -26.255625,
           -25.001,
           -25.465875,
           -25.622875,
           -26.134875,
           -27.036875,
           -25.624625,
           -24.3085
          ],
          [
           -23.454875,
           -17.492625,
           -21.49725,
           -21.620875,
           -21.901375,
           -18.902,
           -20.829875,
           -20.21925,
           -21.436125,
           -20.647125,
           -21.94675,
           -21.966625,
           -21.5735,
           -19.798625,
           -21.68675,
           -26.486625,
           -23.89825,
           -17.861,
           -21.987375,
           -28.642,
           -25.849,
           -21.273875,
           -23.8465,
           -26.867,
           -26.651875,
           -24.997125,
           -25.30275,
           -25.735125,
           -26.37725,
           -27.252875,
           -25.88675,
           -24.316875
          ],
          [
           -23.4705,
           -18.329,
           -21.084625,
           -20.3205,
           -22.537875,
           -20.450375,
           -20.859125,
           -20.023375,
           -21.477,
           -22.160375,
           -22.511,
           -21.994625,
           -21.1125,
           -20.65275,
           -21.5595,
           -26.346375,
           -23.6075,
           -18.210125,
           -22.013875,
           -28.057375,
           -25.99575,
           -21.539125,
           -23.201625,
           -26.45425,
           -27.237,
           -25.348125,
           -25.43675,
           -25.5595,
           -26.362625,
           -26.95075,
           -26.30975,
           -24.370375
          ],
          [
           -23.747875,
           -19.59925,
           -20.816625,
           -18.790625,
           -23.3455,
           -22.22675,
           -20.789,
           -19.427375,
           -21.743,
           -23.400375,
           -22.695,
           -21.50425,
           -20.96575,
           -21.86675,
           -21.895125,
           -25.991625,
           -22.82375,
           -18.632125,
           -21.987375,
           -27.516125,
           -25.815125,
           -22.066125,
           -23.050375,
           -26.0545,
           -27.674625,
           -25.53925,
           -25.21725,
           -25.01075,
           -26.6815,
           -26.6875,
           -26.453875,
           -24.0735
          ],
          [
           -23.6335,
           -21.022,
           -21.119,
           -17.86875,
           -23.840625,
           -24.161375,
           -21.15875,
           -19.2835,
           -22.839875,
           -25.028,
           -23.506,
           -21.597375,
           -20.842,
           -23.0155,
           -22.5035,
           -25.431125,
           -22.92025,
           -20.33775,
           -22.468625,
           -26.5125,
           -25.43375,
           -22.98925,
           -22.853625,
           -25.2355,
           -27.75825,
           -25.77275,
           -24.916,
           -24.6695,
           -26.478,
           -26.228,
           -26.581,
           -24.292625
          ],
          [
           -24.0405,
           -23.255375,
           -21.208125,
           -17.243,
           -24.4365,
           -26.112875,
           -21.759125,
           -19.246375,
           -23.673875,
           -26.159875,
           -24.044625,
           -21.612125,
           -21.378875,
           -24.375125,
           -23.38325,
           -24.8265,
           -22.364,
           -21.699375,
           -23.031625,
           -25.409625,
           -25.15025,
           -23.409375,
           -22.903125,
           -24.323125,
           -27.7805,
           -25.632375,
           -24.525125,
           -24.29375,
           -26.050625,
           -25.51,
           -26.57625,
           -24.10925
          ],
          [
           -24.410875,
           -25.20925,
           -21.875875,
           -17.489125,
           -25.30025,
           -27.489875,
           -22.819375,
           -20.445,
           -24.562125,
           -27.674875,
           -24.744,
           -21.976,
           -21.568125,
           -25.714,
           -24.2485,
           -24.304125,
           -22.340875,
           -23.0145,
           -23.127375,
           -24.609375,
           -25.02375,
           -24.725,
           -22.791625,
           -23.8365,
           -27.2495,
           -25.588125,
           -24.19,
           -23.919625,
           -25.69425,
           -25.18175,
           -26.171125,
           -24.251
          ],
          [
           -24.335875,
           -26.654125,
           -22.436125,
           -18.11975,
           -25.561375,
           -28.66775,
           -23.187625,
           -21.54925,
           -25.15725,
           -28.12975,
           -25.02475,
           -22.199625,
           -22.29975,
           -26.588875,
           -24.900875,
           -23.744,
           -22.596125,
           -24.16875,
           -23.708875,
           -23.74825,
           -24.7145,
           -25.264875,
           -23.07225,
           -23.447625,
           -26.775875,
           -25.273875,
           -23.91775,
           -23.936875,
           -25.31775,
           -24.711875,
           -25.938625,
           -24.438875
          ],
          [
           -24.20025,
           -27.399875,
           -22.986125,
           -18.97675,
           -25.768625,
           -28.722875,
           -24.067375,
           -22.541875,
           -25.77525,
           -28.04025,
           -25.015375,
           -23.01175,
           -23.2195,
           -26.85775,
           -25.228,
           -23.573875,
           -22.832625,
           -25.2925,
           -24.149,
           -23.034875,
           -24.31725,
           -25.664875,
           -23.1595,
           -23.281375,
           -25.77375,
           -24.8495,
           -23.8215,
           -23.806,
           -24.853125,
           -24.273875,
           -25.308375,
           -24.190125
          ],
          [
           -24.31975,
           -27.527875,
           -23.51975,
           -20.6285,
           -25.669875,
           -28.059625,
           -24.264125,
           -23.492375,
           -26.061,
           -27.42925,
           -25.059875,
           -23.325625,
           -23.8935,
           -26.69125,
           -25.241875,
           -23.54675,
           -23.4425,
           -25.626375,
           -24.3615,
           -23.268625,
           -24.470625,
           -25.943,
           -23.832875,
           -23.38625,
           -25.13975,
           -24.53275,
           -23.83475,
           -23.657375,
           -24.680125,
           -24.294625,
           -24.82075,
           -24
          ],
          [
           -24.098375,
           -26.745,
           -24.130625,
           -22.23575,
           -24.685625,
           -26.26,
           -24.478625,
           -23.780625,
           -25.24575,
           -26.330125,
           -24.798875,
           -23.63425,
           -23.938875,
           -26.118875,
           -25.2345,
           -23.65225,
           -24.1035,
           -25.30675,
           -24.21675,
           -22.9795,
           -24.612125,
           -25.650375,
           -24.248375,
           -23.588125,
           -24.50925,
           -24.111125,
           -23.541375,
           -23.54575,
           -24.4205,
           -24.290375,
           -24.6,
           -23.795875
          ],
          [
           -24.246625,
           -25.282625,
           -24.39275,
           -23.422,
           -24.25075,
           -24.48725,
           -24.2865,
           -24.564,
           -24.912375,
           -24.339,
           -24.0165,
           -23.833125,
           -23.986,
           -25.033125,
           -24.80775,
           -24.3025,
           -24.552,
           -24.328875,
           -23.857375,
           -23.42675,
           -24.655125,
           -25.044125,
           -24.333875,
           -23.912875,
           -24.08525,
           -23.713625,
           -23.571375,
           -23.91075,
           -24.32125,
           -24.673,
           -24.251625,
           -23.69975
          ]
         ]
        }
       ],
       "layout": {
        "scene": {
         "xaxis": {
          "title": {
           "text": "γ"
          }
         },
         "yaxis": {
          "title": {
           "text": "β"
          }
         },
         "zaxis": {
          "title": {
           "text": "F(γ,β)"
          }
         }
        },
        "template": {
         "data": {
          "bar": [
           {
            "error_x": {
             "color": "#2a3f5f"
            },
            "error_y": {
             "color": "#2a3f5f"
            },
            "marker": {
             "line": {
              "color": "#E5ECF6",
              "width": 0.5
             },
             "pattern": {
              "fillmode": "overlay",
              "size": 10,
              "solidity": 0.2
             }
            },
            "type": "bar"
           }
          ],
          "barpolar": [
           {
            "marker": {
             "line": {
              "color": "#E5ECF6",
              "width": 0.5
             },
             "pattern": {
              "fillmode": "overlay",
              "size": 10,
              "solidity": 0.2
             }
            },
            "type": "barpolar"
           }
          ],
          "carpet": [
           {
            "aaxis": {
             "endlinecolor": "#2a3f5f",
             "gridcolor": "white",
             "linecolor": "white",
             "minorgridcolor": "white",
             "startlinecolor": "#2a3f5f"
            },
            "baxis": {
             "endlinecolor": "#2a3f5f",
             "gridcolor": "white",
             "linecolor": "white",
             "minorgridcolor": "white",
             "startlinecolor": "#2a3f5f"
            },
            "type": "carpet"
           }
          ],
          "choropleth": [
           {
            "colorbar": {
             "outlinewidth": 0,
             "ticks": ""
            },
            "type": "choropleth"
           }
          ],
          "contour": [
           {
            "colorbar": {
             "outlinewidth": 0,
             "ticks": ""
            },
            "colorscale": [
             [
              0,
              "#0d0887"
             ],
             [
              0.1111111111111111,
              "#46039f"
             ],
             [
              0.2222222222222222,
              "#7201a8"
             ],
             [
              0.3333333333333333,
              "#9c179e"
             ],
             [
              0.4444444444444444,
              "#bd3786"
             ],
             [
              0.5555555555555556,
              "#d8576b"
             ],
             [
              0.6666666666666666,
              "#ed7953"
             ],
             [
              0.7777777777777778,
              "#fb9f3a"
             ],
             [
              0.8888888888888888,
              "#fdca26"
             ],
             [
              1,
              "#f0f921"
             ]
            ],
            "type": "contour"
           }
          ],
          "contourcarpet": [
           {
            "colorbar": {
             "outlinewidth": 0,
             "ticks": ""
            },
            "type": "contourcarpet"
           }
          ],
          "heatmap": [
           {
            "colorbar": {
             "outlinewidth": 0,
             "ticks": ""
            },
            "colorscale": [
             [
              0,
              "#0d0887"
             ],
             [
              0.1111111111111111,
              "#46039f"
             ],
             [
              0.2222222222222222,
              "#7201a8"
             ],
             [
              0.3333333333333333,
              "#9c179e"
             ],
             [
              0.4444444444444444,
              "#bd3786"
             ],
             [
              0.5555555555555556,
              "#d8576b"
             ],
             [
              0.6666666666666666,
              "#ed7953"
             ],
             [
              0.7777777777777778,
              "#fb9f3a"
             ],
             [
              0.8888888888888888,
              "#fdca26"
             ],
             [
              1,
              "#f0f921"
             ]
            ],
            "type": "heatmap"
           }
          ],
          "heatmapgl": [
           {
            "colorbar": {
             "outlinewidth": 0,
             "ticks": ""
            },
            "colorscale": [
             [
              0,
              "#0d0887"
             ],
             [
              0.1111111111111111,
              "#46039f"
             ],
             [
              0.2222222222222222,
              "#7201a8"
             ],
             [
              0.3333333333333333,
              "#9c179e"
             ],
             [
              0.4444444444444444,
              "#bd3786"
             ],
             [
              0.5555555555555556,
              "#d8576b"
             ],
             [
              0.6666666666666666,
              "#ed7953"
             ],
             [
              0.7777777777777778,
              "#fb9f3a"
             ],
             [
              0.8888888888888888,
              "#fdca26"
             ],
             [
              1,
              "#f0f921"
             ]
            ],
            "type": "heatmapgl"
           }
          ],
          "histogram": [
           {
            "marker": {
             "pattern": {
              "fillmode": "overlay",
              "size": 10,
              "solidity": 0.2
             }
            },
            "type": "histogram"
           }
          ],
          "histogram2d": [
           {
            "colorbar": {
             "outlinewidth": 0,
             "ticks": ""
            },
            "colorscale": [
             [
              0,
              "#0d0887"
             ],
             [
              0.1111111111111111,
              "#46039f"
             ],
             [
              0.2222222222222222,
              "#7201a8"
             ],
             [
              0.3333333333333333,
              "#9c179e"
             ],
             [
              0.4444444444444444,
              "#bd3786"
             ],
             [
              0.5555555555555556,
              "#d8576b"
             ],
             [
              0.6666666666666666,
              "#ed7953"
             ],
             [
              0.7777777777777778,
              "#fb9f3a"
             ],
             [
              0.8888888888888888,
              "#fdca26"
             ],
             [
              1,
              "#f0f921"
             ]
            ],
            "type": "histogram2d"
           }
          ],
          "histogram2dcontour": [
           {
            "colorbar": {
             "outlinewidth": 0,
             "ticks": ""
            },
            "colorscale": [
             [
              0,
              "#0d0887"
             ],
             [
              0.1111111111111111,
              "#46039f"
             ],
             [
              0.2222222222222222,
              "#7201a8"
             ],
             [
              0.3333333333333333,
              "#9c179e"
             ],
             [
              0.4444444444444444,
              "#bd3786"
             ],
             [
              0.5555555555555556,
              "#d8576b"
             ],
             [
              0.6666666666666666,
              "#ed7953"
             ],
             [
              0.7777777777777778,
              "#fb9f3a"
             ],
             [
              0.8888888888888888,
              "#fdca26"
             ],
             [
              1,
              "#f0f921"
             ]
            ],
            "type": "histogram2dcontour"
           }
          ],
          "mesh3d": [
           {
            "colorbar": {
             "outlinewidth": 0,
             "ticks": ""
            },
            "type": "mesh3d"
           }
          ],
          "parcoords": [
           {
            "line": {
             "colorbar": {
              "outlinewidth": 0,
              "ticks": ""
             }
            },
            "type": "parcoords"
           }
          ],
          "pie": [
           {
            "automargin": true,
            "type": "pie"
           }
          ],
          "scatter": [
           {
            "marker": {
             "colorbar": {
              "outlinewidth": 0,
              "ticks": ""
             }
            },
            "type": "scatter"
           }
          ],
          "scatter3d": [
           {
            "line": {
             "colorbar": {
              "outlinewidth": 0,
              "ticks": ""
             }
            },
            "marker": {
             "colorbar": {
              "outlinewidth": 0,
              "ticks": ""
             }
            },
            "type": "scatter3d"
           }
          ],
          "scattercarpet": [
           {
            "marker": {
             "colorbar": {
              "outlinewidth": 0,
              "ticks": ""
             }
            },
            "type": "scattercarpet"
           }
          ],
          "scattergeo": [
           {
            "marker": {
             "colorbar": {
              "outlinewidth": 0,
              "ticks": ""
             }
            },
            "type": "scattergeo"
           }
          ],
          "scattergl": [
           {
            "marker": {
             "colorbar": {
              "outlinewidth": 0,
              "ticks": ""
             }
            },
            "type": "scattergl"
           }
          ],
          "scattermapbox": [
           {
            "marker": {
             "colorbar": {
              "outlinewidth": 0,
              "ticks": ""
             }
            },
            "type": "scattermapbox"
           }
          ],
          "scatterpolar": [
           {
            "marker": {
             "colorbar": {
              "outlinewidth": 0,
              "ticks": ""
             }
            },
            "type": "scatterpolar"
           }
          ],
          "scatterpolargl": [
           {
            "marker": {
             "colorbar": {
              "outlinewidth": 0,
              "ticks": ""
             }
            },
            "type": "scatterpolargl"
           }
          ],
          "scatterternary": [
           {
            "marker": {
             "colorbar": {
              "outlinewidth": 0,
              "ticks": ""
             }
            },
            "type": "scatterternary"
           }
          ],
          "surface": [
           {
            "colorbar": {
             "outlinewidth": 0,
             "ticks": ""
            },
            "colorscale": [
             [
              0,
              "#0d0887"
             ],
             [
              0.1111111111111111,
              "#46039f"
             ],
             [
              0.2222222222222222,
              "#7201a8"
             ],
             [
              0.3333333333333333,
              "#9c179e"
             ],
             [
              0.4444444444444444,
              "#bd3786"
             ],
             [
              0.5555555555555556,
              "#d8576b"
             ],
             [
              0.6666666666666666,
              "#ed7953"
             ],
             [
              0.7777777777777778,
              "#fb9f3a"
             ],
             [
              0.8888888888888888,
              "#fdca26"
             ],
             [
              1,
              "#f0f921"
             ]
            ],
            "type": "surface"
           }
          ],
          "table": [
           {
            "cells": {
             "fill": {
              "color": "#EBF0F8"
             },
             "line": {
              "color": "white"
             }
            },
            "header": {
             "fill": {
              "color": "#C8D4E3"
             },
             "line": {
              "color": "white"
             }
            },
            "type": "table"
           }
          ]
         },
         "layout": {
          "annotationdefaults": {
           "arrowcolor": "#2a3f5f",
           "arrowhead": 0,
           "arrowwidth": 1
          },
          "autotypenumbers": "strict",
          "coloraxis": {
           "colorbar": {
            "outlinewidth": 0,
            "ticks": ""
           }
          },
          "colorscale": {
           "diverging": [
            [
             0,
             "#8e0152"
            ],
            [
             0.1,
             "#c51b7d"
            ],
            [
             0.2,
             "#de77ae"
            ],
            [
             0.3,
             "#f1b6da"
            ],
            [
             0.4,
             "#fde0ef"
            ],
            [
             0.5,
             "#f7f7f7"
            ],
            [
             0.6,
             "#e6f5d0"
            ],
            [
             0.7,
             "#b8e186"
            ],
            [
             0.8,
             "#7fbc41"
            ],
            [
             0.9,
             "#4d9221"
            ],
            [
             1,
             "#276419"
            ]
           ],
           "sequential": [
            [
             0,
             "#0d0887"
            ],
            [
             0.1111111111111111,
             "#46039f"
            ],
            [
             0.2222222222222222,
             "#7201a8"
            ],
            [
             0.3333333333333333,
             "#9c179e"
            ],
            [
             0.4444444444444444,
             "#bd3786"
            ],
            [
             0.5555555555555556,
             "#d8576b"
            ],
            [
             0.6666666666666666,
             "#ed7953"
            ],
            [
             0.7777777777777778,
             "#fb9f3a"
            ],
            [
             0.8888888888888888,
             "#fdca26"
            ],
            [
             1,
             "#f0f921"
            ]
           ],
           "sequentialminus": [
            [
             0,
             "#0d0887"
            ],
            [
             0.1111111111111111,
             "#46039f"
            ],
            [
             0.2222222222222222,
             "#7201a8"
            ],
            [
             0.3333333333333333,
             "#9c179e"
            ],
            [
             0.4444444444444444,
             "#bd3786"
            ],
            [
             0.5555555555555556,
             "#d8576b"
            ],
            [
             0.6666666666666666,
             "#ed7953"
            ],
            [
             0.7777777777777778,
             "#fb9f3a"
            ],
            [
             0.8888888888888888,
             "#fdca26"
            ],
            [
             1,
             "#f0f921"
            ]
           ]
          },
          "colorway": [
           "#636efa",
           "#EF553B",
           "#00cc96",
           "#ab63fa",
           "#FFA15A",
           "#19d3f3",
           "#FF6692",
           "#B6E880",
           "#FF97FF",
           "#FECB52"
          ],
          "font": {
           "color": "#2a3f5f"
          },
          "geo": {
           "bgcolor": "white",
           "lakecolor": "white",
           "landcolor": "#E5ECF6",
           "showlakes": true,
           "showland": true,
           "subunitcolor": "white"
          },
          "hoverlabel": {
           "align": "left"
          },
          "hovermode": "closest",
          "mapbox": {
           "style": "light"
          },
          "paper_bgcolor": "white",
          "plot_bgcolor": "#E5ECF6",
          "polar": {
           "angularaxis": {
            "gridcolor": "white",
            "linecolor": "white",
            "ticks": ""
           },
           "bgcolor": "#E5ECF6",
           "radialaxis": {
            "gridcolor": "white",
            "linecolor": "white",
            "ticks": ""
           }
          },
          "scene": {
           "xaxis": {
            "backgroundcolor": "#E5ECF6",
            "gridcolor": "white",
            "gridwidth": 2,
            "linecolor": "white",
            "showbackground": true,
            "ticks": "",
            "zerolinecolor": "white"
           },
           "yaxis": {
            "backgroundcolor": "#E5ECF6",
            "gridcolor": "white",
            "gridwidth": 2,
            "linecolor": "white",
            "showbackground": true,
            "ticks": "",
            "zerolinecolor": "white"
           },
           "zaxis": {
            "backgroundcolor": "#E5ECF6",
            "gridcolor": "white",
            "gridwidth": 2,
            "linecolor": "white",
            "showbackground": true,
            "ticks": "",
            "zerolinecolor": "white"
           }
          },
          "shapedefaults": {
           "line": {
            "color": "#2a3f5f"
           }
          },
          "ternary": {
           "aaxis": {
            "gridcolor": "white",
            "linecolor": "white",
            "ticks": ""
           },
           "baxis": {
            "gridcolor": "white",
            "linecolor": "white",
            "ticks": ""
           },
           "bgcolor": "#E5ECF6",
           "caxis": {
            "gridcolor": "white",
            "linecolor": "white",
            "ticks": ""
           }
          },
          "title": {
           "x": 0.05
          },
          "xaxis": {
           "automargin": true,
           "gridcolor": "white",
           "linecolor": "white",
           "ticks": "",
           "title": {
            "standoff": 15
           },
           "zerolinecolor": "white",
           "zerolinewidth": 2
          },
          "yaxis": {
           "automargin": true,
           "gridcolor": "white",
           "linecolor": "white",
           "ticks": "",
           "title": {
            "standoff": 15
           },
           "zerolinecolor": "white",
           "zerolinewidth": 2
          }
         }
        },
        "title": {
         "text": "QAOA  - MaxCut-Landscape"
        }
       }
      },
      "text/html": [
       "<div>                            <div id=\"10c3dd42-7f51-4105-b4e2-eb5230f450c0\" class=\"plotly-graph-div\" style=\"height:525px; width:100%;\"></div>            <script type=\"text/javascript\">                require([\"plotly\"], function(Plotly) {                    window.PLOTLYENV=window.PLOTLYENV || {};                                    if (document.getElementById(\"10c3dd42-7f51-4105-b4e2-eb5230f450c0\")) {                    Plotly.newPlot(                        \"10c3dd42-7f51-4105-b4e2-eb5230f450c0\",                        [{\"contours\":{\"z\":{\"highlightcolor\":\"limegreen\",\"project\":{\"z\":true},\"show\":true,\"usecolormap\":true}},\"type\":\"surface\",\"x\":[0.0,0.1,0.2,0.30000000000000004,0.4,0.5,0.6000000000000001,0.7000000000000001,0.8,0.9,1.0,1.1,1.2000000000000002,1.3,1.4000000000000001,1.5,1.6,1.7000000000000002,1.8,1.9000000000000001,2.0,2.1,2.2,2.3000000000000003,2.4000000000000004,2.5,2.6,2.7,2.8000000000000003,2.9000000000000004,3.0,3.1],\"y\":[0.0,0.1,0.2,0.30000000000000004,0.4,0.5,0.6000000000000001,0.7000000000000001,0.8,0.9,1.0,1.1,1.2000000000000002,1.3,1.4000000000000001,1.5,1.6,1.7000000000000002,1.8,1.9000000000000001,2.0,2.1,2.2,2.3000000000000003,2.4000000000000004,2.5,2.6,2.7,2.8000000000000003,2.9000000000000004,3.0,3.1],\"z\":[[-23.3795,-23.7175,-23.368,-23.4275,-23.8025,-23.498375,-23.457125,-23.673875,-24.00475,-23.6055,-23.473,-23.374125,-23.783875,-23.859,-23.518625,-23.589125,-23.747,-23.449875,-23.601375,-23.448375,-23.89525,-24.02975,-23.42025,-23.3345,-23.707375,-23.804125,-23.3455,-23.177,-23.844875,-23.848875,-23.448375,-23.854],[-24.398875,-21.8335,-23.136,-24.264125,-23.07125,-21.39825,-22.67975,-23.223125,-23.314875,-21.855875,-22.47125,-23.25325,-23.7765,-22.358625,-22.333625,-24.16075,-23.959625,-21.887375,-23.047,-24.23875,-24.14625,-22.95975,-23.03925,-24.190125,-23.8685,-23.727125,-23.30375,-23.559625,-24.35525,-24.435125,-23.43025,-23.64125],[-24.29425,-20.14275,-22.670625,-23.896,-22.51225,-19.92025,-22.08,-22.77425,-22.68125,-20.48575,-21.8685,-23.001875,-23.460875,-21.269375,-21.808,-24.905125,-24.103125,-20.267625,-22.44075,-25.531375,-24.932375,-22.4245,-23.440375,-24.94825,-24.743625,-23.949875,-23.841,-24.277375,-24.8665,-25.18225,-23.44675,-23.672625],[-24.462375,-18.611875,-22.248125,-23.449375,-22.107875,-18.655,-21.421125,-21.7145,-22.34125,-19.701875,-21.5335,-22.52925,-22.998875,-19.717,-20.970375,-25.6345,-23.86775,-19.14775,-22.403,-26.80825,-25.473,-21.73675,-23.683125,-25.77775,-25.1775,-24.3795,-24.052375,-24.341875,-25.653375,-25.977875,-23.985875,-24.001125],[-24.36225,-17.58625,-21.5665,-22.435375,-21.94125,-18.616625,-20.892,-21.004,-21.76625,-19.5535,-21.355625,-22.1385,-22.368,-18.89575,-21.0295,-26.0025,-23.379,-18.271,-21.91525,-27.711625,-25.816375,-21.370875,-23.7175,-26.405875,-26.439375,-24.839875,-24.62925,-24.787875,-25.8875,-26.725875,-24.624875,-24.47725],[-24.12275,-17.294875,-21.286,-21.1425,-22.49725,-19.023625,-20.61725,-19.76725,-21.390125,-20.425125,-21.724375,-21.853125,-21.755,-19.084375,-21.2865,-26.2025,-23.283125,-18.0545,-22.094625,-28.1655,-26.16175,-21.37175,-23.46625,-26.405125,-27.26875,-25.109875,-24.5865,-24.8185,-26.549875,-27.07125,-25.367625,-24.404125],[-24.062875,-17.616875,-20.78575,-19.478625,-22.576125,-20.143875,-20.777375,-18.80225,-21.592,-21.46925,-21.830625,-21.05675,-21.053375,-19.489125,-21.5935,-26.21325,-22.8685,-17.803375,-21.959375,-28.54975,-26.2065,-21.164375,-23.411625,-26.5005,-27.726875,-25.570875,-25.192125,-24.90725,-26.71125,-27.351,-26.003625,-24.51875],[-23.90575,-18.818625,-20.69375,-18.374625,-23.188875,-22.239375,-21.38275,-18.807125,-21.574625,-23.02675,-23.129875,-21.310625,-20.69475,-20.574875,-22.507875,-26.02275,-22.057875,-18.8455,-22.471875,-27.825625,-26.1865,-21.668,-23.42125,-26.124375,-28.11,-25.79525,-25.028625,-24.79675,-26.77925,-27.076125,-26.403375,-24.71675],[-23.85375,-19.964875,-20.639625,-17.040875,-24.010625,-24.53025,-21.844,-18.314,-22.415125,-24.9255,-23.971,-21.239625,-20.30075,-21.810125,-23.201875,-25.613875,-21.536625,-19.93025,-22.819,-27.3425,-25.848375,-22.20175,-23.440625,-25.404875,-28.310625,-25.768625,-25.01325,-24.625875,-26.796625,-26.688125,-26.841875,-24.48175],[-23.690875,-21.595,-20.8105,-16.391375,-24.479,-25.998375,-22.63525,-18.627375,-22.847,-26.2205,-24.748875,-21.636625,-20.14375,-23.343875,-24.36375,-25.05225,-21.392875,-20.9985,-23.44475,-26.034875,-25.161,-22.728625,-23.461875,-24.741625,-27.994875,-25.80925,-24.9785,-24.1925,-26.207125,-26.1165,-26.967625,-24.498],[-23.60975,-23.714,-21.321375,-16.5245,-24.90075,-27.612375,-23.589375,-19.145375,-23.35525,-27.662875,-25.48475,-21.924125,-20.603375,-24.456125,-25.357875,-24.373625,-21.366,-22.682,-23.9765,-24.878,-24.386875,-23.57025,-23.781125,-23.70775,-26.877125,-25.434875,-24.66575,-23.74775,-25.69775,-25.3655,-26.657875,-24.312375],[-23.462,-24.9715,-21.804125,-17.5815,-25.04325,-28.500875,-24.0555,-20.310125,-24.031375,-28.168375,-26.044,-22.53975,-21.076,-25.777,-25.53025,-23.707375,-21.203625,-23.922875,-24.268875,-23.8235,-23.599625,-24.04825,-23.745625,-23.310625,-26.154375,-25.058125,-24.47725,-23.769625,-24.899125,-24.527375,-26.071125,-24.195375],[-23.576875,-25.68325,-22.263875,-18.38325,-25.079,-28.749125,-24.49775,-21.039625,-24.359375,-28.127125,-26.153875,-23.16575,-21.506375,-26.226875,-25.77075,-23.1505,-21.453125,-24.752125,-24.425,-22.8945,-23.27075,-24.565,-23.8125,-22.69275,-25.271875,-24.657625,-23.983375,-23.012125,-24.178625,-24.12775,-25.5695,-24.112875],[-23.733125,-26.18325,-23.058375,-19.614375,-25.0655,-27.90925,-24.61525,-21.975375,-24.480125,-27.598,-25.718625,-23.4145,-22.186875,-26.095125,-25.699875,-22.99825,-21.73325,-25.17025,-24.538375,-22.63825,-22.99275,-24.47875,-23.744125,-22.548625,-24.319875,-24.277,-23.668125,-23.048625,-23.65425,-23.688875,-24.84775,-23.873625],[-23.914875,-25.726375,-23.184875,-21.55,-24.951125,-26.720875,-24.49325,-22.823,-24.674625,-26.33725,-25.042875,-23.621,-22.795375,-25.461375,-24.82775,-22.9265,-22.643375,-25.083,-24.576625,-22.379375,-23.028375,-24.429125,-23.473625,-22.729875,-24.084625,-24.168375,-23.38925,-23.039,-23.65425,-23.261625,-24.298375,-23.993875],[-24.236875,-25.85375,-24.1205,-23.5155,-24.623625,-25.317,-24.578375,-24.44675,-25.472375,-25.3935,-24.896,-24.395125,-24.36825,-25.229625,-25.003875,-24.541125,-24.495625,-25.058125,-24.73575,-23.846,-24.42925,-25.317625,-24.70475,-24.436875,-24.374125,-24.111,-23.712375,-24.43925,-24.939,-24.571,-24.27675,-24.493],[-24.18125,-23.979625,-24.093875,-24.572375,-23.657375,-23.380125,-24.140125,-24.599125,-24.753125,-23.737375,-24.036,-24.46725,-24.324875,-23.917125,-24.50975,-24.8905,-24.95225,-24.036875,-24.29525,-24.8385,-24.545,-24.622625,-24.773875,-24.637,-24.212,-24.055875,-23.981875,-24.681625,-24.912625,-24.8105,-24.179375,-24.4845],[-24.010125,-22.035125,-23.763,-24.8995,-23.1015,-21.444,-23.521875,-24.303375,-23.89725,-22.192,-23.647125,-24.248625,-24.2895,-22.4425,-23.633375,-25.380875,-25.02075,-22.5325,-24.244375,-26.1765,-24.973125,-23.590875,-24.703375,-25.231375,-24.558875,-24.224375,-24.644375,-24.947,-24.960875,-25.26175,-24.2705,-24.517625],[-23.82325,-20.285,-23.502625,-24.68325,-22.52275,-19.92375,-23.010875,-23.630875,-23.1065,-20.965875,-22.694125,-23.9155,-23.692625,-21.05,-22.896875,-25.974,-24.83075,-20.996625,-23.142375,-26.960375,-25.242375,-22.604,-24.748,-26.109,-24.913875,-24.143,-24.770875,-25.56425,-25.2055,-25.913375,-24.53075,-24.616875],[-23.75275,-18.8435,-22.8445,-24.029,-21.948,-18.927625,-21.9145,-22.77025,-22.333125,-20.3725,-22.2655,-23.61775,-22.9205,-20.1955,-22.192625,-26.375875,-24.695375,-19.54675,-22.87,-27.954375,-25.755,-21.96575,-24.38325,-26.753375,-25.311125,-24.606875,-25.234625,-25.625875,-25.723625,-26.516875,-24.9445,-24.3345],[-23.4495,-17.760625,-22.202875,-22.832375,-21.865375,-18.790625,-21.30825,-21.5195,-21.898625,-20.29175,-21.851625,-22.740125,-22.073375,-19.774375,-21.6155,-26.65875,-24.2375,-18.290625,-22.480875,-28.384375,-25.78625,-21.533625,-24.205875,-26.890625,-26.255625,-25.001,-25.465875,-25.622875,-26.134875,-27.036875,-25.624625,-24.3085],[-23.454875,-17.492625,-21.49725,-21.620875,-21.901375,-18.902,-20.829875,-20.21925,-21.436125,-20.647125,-21.94675,-21.966625,-21.5735,-19.798625,-21.68675,-26.486625,-23.89825,-17.861,-21.987375,-28.642,-25.849,-21.273875,-23.8465,-26.867,-26.651875,-24.997125,-25.30275,-25.735125,-26.37725,-27.252875,-25.88675,-24.316875],[-23.4705,-18.329,-21.084625,-20.3205,-22.537875,-20.450375,-20.859125,-20.023375,-21.477,-22.160375,-22.511,-21.994625,-21.1125,-20.65275,-21.5595,-26.346375,-23.6075,-18.210125,-22.013875,-28.057375,-25.99575,-21.539125,-23.201625,-26.45425,-27.237,-25.348125,-25.43675,-25.5595,-26.362625,-26.95075,-26.30975,-24.370375],[-23.747875,-19.59925,-20.816625,-18.790625,-23.3455,-22.22675,-20.789,-19.427375,-21.743,-23.400375,-22.695,-21.50425,-20.96575,-21.86675,-21.895125,-25.991625,-22.82375,-18.632125,-21.987375,-27.516125,-25.815125,-22.066125,-23.050375,-26.0545,-27.674625,-25.53925,-25.21725,-25.01075,-26.6815,-26.6875,-26.453875,-24.0735],[-23.6335,-21.022,-21.119,-17.86875,-23.840625,-24.161375,-21.15875,-19.2835,-22.839875,-25.028,-23.506,-21.597375,-20.842,-23.0155,-22.5035,-25.431125,-22.92025,-20.33775,-22.468625,-26.5125,-25.43375,-22.98925,-22.853625,-25.2355,-27.75825,-25.77275,-24.916,-24.6695,-26.478,-26.228,-26.581,-24.292625],[-24.0405,-23.255375,-21.208125,-17.243,-24.4365,-26.112875,-21.759125,-19.246375,-23.673875,-26.159875,-24.044625,-21.612125,-21.378875,-24.375125,-23.38325,-24.8265,-22.364,-21.699375,-23.031625,-25.409625,-25.15025,-23.409375,-22.903125,-24.323125,-27.7805,-25.632375,-24.525125,-24.29375,-26.050625,-25.51,-26.57625,-24.10925],[-24.410875,-25.20925,-21.875875,-17.489125,-25.30025,-27.489875,-22.819375,-20.445,-24.562125,-27.674875,-24.744,-21.976,-21.568125,-25.714,-24.2485,-24.304125,-22.340875,-23.0145,-23.127375,-24.609375,-25.02375,-24.725,-22.791625,-23.8365,-27.2495,-25.588125,-24.19,-23.919625,-25.69425,-25.18175,-26.171125,-24.251],[-24.335875,-26.654125,-22.436125,-18.11975,-25.561375,-28.66775,-23.187625,-21.54925,-25.15725,-28.12975,-25.02475,-22.199625,-22.29975,-26.588875,-24.900875,-23.744,-22.596125,-24.16875,-23.708875,-23.74825,-24.7145,-25.264875,-23.07225,-23.447625,-26.775875,-25.273875,-23.91775,-23.936875,-25.31775,-24.711875,-25.938625,-24.438875],[-24.20025,-27.399875,-22.986125,-18.97675,-25.768625,-28.722875,-24.067375,-22.541875,-25.77525,-28.04025,-25.015375,-23.01175,-23.2195,-26.85775,-25.228,-23.573875,-22.832625,-25.2925,-24.149,-23.034875,-24.31725,-25.664875,-23.1595,-23.281375,-25.77375,-24.8495,-23.8215,-23.806,-24.853125,-24.273875,-25.308375,-24.190125],[-24.31975,-27.527875,-23.51975,-20.6285,-25.669875,-28.059625,-24.264125,-23.492375,-26.061,-27.42925,-25.059875,-23.325625,-23.8935,-26.69125,-25.241875,-23.54675,-23.4425,-25.626375,-24.3615,-23.268625,-24.470625,-25.943,-23.832875,-23.38625,-25.13975,-24.53275,-23.83475,-23.657375,-24.680125,-24.294625,-24.82075,-24.0],[-24.098375,-26.745,-24.130625,-22.23575,-24.685625,-26.26,-24.478625,-23.780625,-25.24575,-26.330125,-24.798875,-23.63425,-23.938875,-26.118875,-25.2345,-23.65225,-24.1035,-25.30675,-24.21675,-22.9795,-24.612125,-25.650375,-24.248375,-23.588125,-24.50925,-24.111125,-23.541375,-23.54575,-24.4205,-24.290375,-24.6,-23.795875],[-24.246625,-25.282625,-24.39275,-23.422,-24.25075,-24.48725,-24.2865,-24.564,-24.912375,-24.339,-24.0165,-23.833125,-23.986,-25.033125,-24.80775,-24.3025,-24.552,-24.328875,-23.857375,-23.42675,-24.655125,-25.044125,-24.333875,-23.912875,-24.08525,-23.713625,-23.571375,-23.91075,-24.32125,-24.673,-24.251625,-23.69975]]}],                        {\"scene\":{\"xaxis\":{\"title\":{\"text\":\"\\u03b3\"}},\"yaxis\":{\"title\":{\"text\":\"\\u03b2\"}},\"zaxis\":{\"title\":{\"text\":\"F(\\u03b3,\\u03b2)\"}}},\"template\":{\"data\":{\"bar\":[{\"error_x\":{\"color\":\"#2a3f5f\"},\"error_y\":{\"color\":\"#2a3f5f\"},\"marker\":{\"line\":{\"color\":\"#E5ECF6\",\"width\":0.5},\"pattern\":{\"fillmode\":\"overlay\",\"size\":10,\"solidity\":0.2}},\"type\":\"bar\"}],\"barpolar\":[{\"marker\":{\"line\":{\"color\":\"#E5ECF6\",\"width\":0.5},\"pattern\":{\"fillmode\":\"overlay\",\"size\":10,\"solidity\":0.2}},\"type\":\"barpolar\"}],\"carpet\":[{\"aaxis\":{\"endlinecolor\":\"#2a3f5f\",\"gridcolor\":\"white\",\"linecolor\":\"white\",\"minorgridcolor\":\"white\",\"startlinecolor\":\"#2a3f5f\"},\"baxis\":{\"endlinecolor\":\"#2a3f5f\",\"gridcolor\":\"white\",\"linecolor\":\"white\",\"minorgridcolor\":\"white\",\"startlinecolor\":\"#2a3f5f\"},\"type\":\"carpet\"}],\"choropleth\":[{\"colorbar\":{\"outlinewidth\":0,\"ticks\":\"\"},\"type\":\"choropleth\"}],\"contour\":[{\"colorbar\":{\"outlinewidth\":0,\"ticks\":\"\"},\"colorscale\":[[0.0,\"#0d0887\"],[0.1111111111111111,\"#46039f\"],[0.2222222222222222,\"#7201a8\"],[0.3333333333333333,\"#9c179e\"],[0.4444444444444444,\"#bd3786\"],[0.5555555555555556,\"#d8576b\"],[0.6666666666666666,\"#ed7953\"],[0.7777777777777778,\"#fb9f3a\"],[0.8888888888888888,\"#fdca26\"],[1.0,\"#f0f921\"]],\"type\":\"contour\"}],\"contourcarpet\":[{\"colorbar\":{\"outlinewidth\":0,\"ticks\":\"\"},\"type\":\"contourcarpet\"}],\"heatmap\":[{\"colorbar\":{\"outlinewidth\":0,\"ticks\":\"\"},\"colorscale\":[[0.0,\"#0d0887\"],[0.1111111111111111,\"#46039f\"],[0.2222222222222222,\"#7201a8\"],[0.3333333333333333,\"#9c179e\"],[0.4444444444444444,\"#bd3786\"],[0.5555555555555556,\"#d8576b\"],[0.6666666666666666,\"#ed7953\"],[0.7777777777777778,\"#fb9f3a\"],[0.8888888888888888,\"#fdca26\"],[1.0,\"#f0f921\"]],\"type\":\"heatmap\"}],\"heatmapgl\":[{\"colorbar\":{\"outlinewidth\":0,\"ticks\":\"\"},\"colorscale\":[[0.0,\"#0d0887\"],[0.1111111111111111,\"#46039f\"],[0.2222222222222222,\"#7201a8\"],[0.3333333333333333,\"#9c179e\"],[0.4444444444444444,\"#bd3786\"],[0.5555555555555556,\"#d8576b\"],[0.6666666666666666,\"#ed7953\"],[0.7777777777777778,\"#fb9f3a\"],[0.8888888888888888,\"#fdca26\"],[1.0,\"#f0f921\"]],\"type\":\"heatmapgl\"}],\"histogram\":[{\"marker\":{\"pattern\":{\"fillmode\":\"overlay\",\"size\":10,\"solidity\":0.2}},\"type\":\"histogram\"}],\"histogram2d\":[{\"colorbar\":{\"outlinewidth\":0,\"ticks\":\"\"},\"colorscale\":[[0.0,\"#0d0887\"],[0.1111111111111111,\"#46039f\"],[0.2222222222222222,\"#7201a8\"],[0.3333333333333333,\"#9c179e\"],[0.4444444444444444,\"#bd3786\"],[0.5555555555555556,\"#d8576b\"],[0.6666666666666666,\"#ed7953\"],[0.7777777777777778,\"#fb9f3a\"],[0.8888888888888888,\"#fdca26\"],[1.0,\"#f0f921\"]],\"type\":\"histogram2d\"}],\"histogram2dcontour\":[{\"colorbar\":{\"outlinewidth\":0,\"ticks\":\"\"},\"colorscale\":[[0.0,\"#0d0887\"],[0.1111111111111111,\"#46039f\"],[0.2222222222222222,\"#7201a8\"],[0.3333333333333333,\"#9c179e\"],[0.4444444444444444,\"#bd3786\"],[0.5555555555555556,\"#d8576b\"],[0.6666666666666666,\"#ed7953\"],[0.7777777777777778,\"#fb9f3a\"],[0.8888888888888888,\"#fdca26\"],[1.0,\"#f0f921\"]],\"type\":\"histogram2dcontour\"}],\"mesh3d\":[{\"colorbar\":{\"outlinewidth\":0,\"ticks\":\"\"},\"type\":\"mesh3d\"}],\"parcoords\":[{\"line\":{\"colorbar\":{\"outlinewidth\":0,\"ticks\":\"\"}},\"type\":\"parcoords\"}],\"pie\":[{\"automargin\":true,\"type\":\"pie\"}],\"scatter\":[{\"marker\":{\"colorbar\":{\"outlinewidth\":0,\"ticks\":\"\"}},\"type\":\"scatter\"}],\"scatter3d\":[{\"line\":{\"colorbar\":{\"outlinewidth\":0,\"ticks\":\"\"}},\"marker\":{\"colorbar\":{\"outlinewidth\":0,\"ticks\":\"\"}},\"type\":\"scatter3d\"}],\"scattercarpet\":[{\"marker\":{\"colorbar\":{\"outlinewidth\":0,\"ticks\":\"\"}},\"type\":\"scattercarpet\"}],\"scattergeo\":[{\"marker\":{\"colorbar\":{\"outlinewidth\":0,\"ticks\":\"\"}},\"type\":\"scattergeo\"}],\"scattergl\":[{\"marker\":{\"colorbar\":{\"outlinewidth\":0,\"ticks\":\"\"}},\"type\":\"scattergl\"}],\"scattermapbox\":[{\"marker\":{\"colorbar\":{\"outlinewidth\":0,\"ticks\":\"\"}},\"type\":\"scattermapbox\"}],\"scatterpolar\":[{\"marker\":{\"colorbar\":{\"outlinewidth\":0,\"ticks\":\"\"}},\"type\":\"scatterpolar\"}],\"scatterpolargl\":[{\"marker\":{\"colorbar\":{\"outlinewidth\":0,\"ticks\":\"\"}},\"type\":\"scatterpolargl\"}],\"scatterternary\":[{\"marker\":{\"colorbar\":{\"outlinewidth\":0,\"ticks\":\"\"}},\"type\":\"scatterternary\"}],\"surface\":[{\"colorbar\":{\"outlinewidth\":0,\"ticks\":\"\"},\"colorscale\":[[0.0,\"#0d0887\"],[0.1111111111111111,\"#46039f\"],[0.2222222222222222,\"#7201a8\"],[0.3333333333333333,\"#9c179e\"],[0.4444444444444444,\"#bd3786\"],[0.5555555555555556,\"#d8576b\"],[0.6666666666666666,\"#ed7953\"],[0.7777777777777778,\"#fb9f3a\"],[0.8888888888888888,\"#fdca26\"],[1.0,\"#f0f921\"]],\"type\":\"surface\"}],\"table\":[{\"cells\":{\"fill\":{\"color\":\"#EBF0F8\"},\"line\":{\"color\":\"white\"}},\"header\":{\"fill\":{\"color\":\"#C8D4E3\"},\"line\":{\"color\":\"white\"}},\"type\":\"table\"}]},\"layout\":{\"annotationdefaults\":{\"arrowcolor\":\"#2a3f5f\",\"arrowhead\":0,\"arrowwidth\":1},\"autotypenumbers\":\"strict\",\"coloraxis\":{\"colorbar\":{\"outlinewidth\":0,\"ticks\":\"\"}},\"colorscale\":{\"diverging\":[[0,\"#8e0152\"],[0.1,\"#c51b7d\"],[0.2,\"#de77ae\"],[0.3,\"#f1b6da\"],[0.4,\"#fde0ef\"],[0.5,\"#f7f7f7\"],[0.6,\"#e6f5d0\"],[0.7,\"#b8e186\"],[0.8,\"#7fbc41\"],[0.9,\"#4d9221\"],[1,\"#276419\"]],\"sequential\":[[0.0,\"#0d0887\"],[0.1111111111111111,\"#46039f\"],[0.2222222222222222,\"#7201a8\"],[0.3333333333333333,\"#9c179e\"],[0.4444444444444444,\"#bd3786\"],[0.5555555555555556,\"#d8576b\"],[0.6666666666666666,\"#ed7953\"],[0.7777777777777778,\"#fb9f3a\"],[0.8888888888888888,\"#fdca26\"],[1.0,\"#f0f921\"]],\"sequentialminus\":[[0.0,\"#0d0887\"],[0.1111111111111111,\"#46039f\"],[0.2222222222222222,\"#7201a8\"],[0.3333333333333333,\"#9c179e\"],[0.4444444444444444,\"#bd3786\"],[0.5555555555555556,\"#d8576b\"],[0.6666666666666666,\"#ed7953\"],[0.7777777777777778,\"#fb9f3a\"],[0.8888888888888888,\"#fdca26\"],[1.0,\"#f0f921\"]]},\"colorway\":[\"#636efa\",\"#EF553B\",\"#00cc96\",\"#ab63fa\",\"#FFA15A\",\"#19d3f3\",\"#FF6692\",\"#B6E880\",\"#FF97FF\",\"#FECB52\"],\"font\":{\"color\":\"#2a3f5f\"},\"geo\":{\"bgcolor\":\"white\",\"lakecolor\":\"white\",\"landcolor\":\"#E5ECF6\",\"showlakes\":true,\"showland\":true,\"subunitcolor\":\"white\"},\"hoverlabel\":{\"align\":\"left\"},\"hovermode\":\"closest\",\"mapbox\":{\"style\":\"light\"},\"paper_bgcolor\":\"white\",\"plot_bgcolor\":\"#E5ECF6\",\"polar\":{\"angularaxis\":{\"gridcolor\":\"white\",\"linecolor\":\"white\",\"ticks\":\"\"},\"bgcolor\":\"#E5ECF6\",\"radialaxis\":{\"gridcolor\":\"white\",\"linecolor\":\"white\",\"ticks\":\"\"}},\"scene\":{\"xaxis\":{\"backgroundcolor\":\"#E5ECF6\",\"gridcolor\":\"white\",\"gridwidth\":2,\"linecolor\":\"white\",\"showbackground\":true,\"ticks\":\"\",\"zerolinecolor\":\"white\"},\"yaxis\":{\"backgroundcolor\":\"#E5ECF6\",\"gridcolor\":\"white\",\"gridwidth\":2,\"linecolor\":\"white\",\"showbackground\":true,\"ticks\":\"\",\"zerolinecolor\":\"white\"},\"zaxis\":{\"backgroundcolor\":\"#E5ECF6\",\"gridcolor\":\"white\",\"gridwidth\":2,\"linecolor\":\"white\",\"showbackground\":true,\"ticks\":\"\",\"zerolinecolor\":\"white\"}},\"shapedefaults\":{\"line\":{\"color\":\"#2a3f5f\"}},\"ternary\":{\"aaxis\":{\"gridcolor\":\"white\",\"linecolor\":\"white\",\"ticks\":\"\"},\"baxis\":{\"gridcolor\":\"white\",\"linecolor\":\"white\",\"ticks\":\"\"},\"bgcolor\":\"#E5ECF6\",\"caxis\":{\"gridcolor\":\"white\",\"linecolor\":\"white\",\"ticks\":\"\"}},\"title\":{\"x\":0.05},\"xaxis\":{\"automargin\":true,\"gridcolor\":\"white\",\"linecolor\":\"white\",\"ticks\":\"\",\"title\":{\"standoff\":15},\"zerolinecolor\":\"white\",\"zerolinewidth\":2},\"yaxis\":{\"automargin\":true,\"gridcolor\":\"white\",\"linecolor\":\"white\",\"ticks\":\"\",\"title\":{\"standoff\":15},\"zerolinecolor\":\"white\",\"zerolinewidth\":2}}},\"title\":{\"text\":\"QAOA  - MaxCut-Landscape\"}},                        {\"responsive\": true}                    ).then(function(){\n",
       "                            \n",
       "var gd = document.getElementById('10c3dd42-7f51-4105-b4e2-eb5230f450c0');\n",
       "var x = new MutationObserver(function (mutations, observer) {{\n",
       "        var display = window.getComputedStyle(gd).display;\n",
       "        if (!display || display === 'none') {{\n",
       "            console.log([gd, 'removed!']);\n",
       "            Plotly.purge(gd);\n",
       "            observer.disconnect();\n",
       "        }}\n",
       "}});\n",
       "\n",
       "// Listen for the removal of the full notebook cells\n",
       "var notebookContainer = gd.closest('#notebook-container');\n",
       "if (notebookContainer) {{\n",
       "    x.observe(notebookContainer, {childList: true});\n",
       "}}\n",
       "\n",
       "// Listen for the clearing of the current output cell\n",
       "var outputEl = gd.closest('.output');\n",
       "if (outputEl) {{\n",
       "    x.observe(outputEl, {childList: true});\n",
       "}}\n",
       "\n",
       "                        })                };                });            </script>        </div>"
      ]
     },
     "metadata": {},
     "output_type": "display_data"
    }
   ],
   "source": [
    "# Plot landscape in 3D \n",
    "a_gamma = np.arange(0, np.pi, step_size)\n",
    "b_beta = np.arange(0, np.pi, step_size)\n",
    "fig = go.Figure(data=go.Surface(z=landscape, x=a_gamma, y=b_beta))\n",
    "\n",
    "fig.update_traces(contours_z=dict(show=True, usecolormap=True, highlightcolor='limegreen', project_z=True))\n",
    "\n",
    "\n",
    "fig.update_layout(title=\"QAOA  - MaxCut-Landscape\", scene=dict(\n",
    "    xaxis_title=\"γ\",\n",
    "    yaxis_title=\"β\",\n",
    "    zaxis_title=\"F(γ,β)\"\n",
    "))"
   ]
  },
  {
   "cell_type": "code",
   "execution_count": 45,
   "id": "7a8d8f7a",
   "metadata": {},
   "outputs": [
    {
     "data": {
      "application/vnd.plotly.v1+json": {
       "config": {
        "plotlyServerURL": "https://plot.ly"
       },
       "data": [
        {
         "colorscale": [
          [
           0,
           "#440154"
          ],
          [
           0.1111111111111111,
           "#482878"
          ],
          [
           0.2222222222222222,
           "#3e4989"
          ],
          [
           0.3333333333333333,
           "#31688e"
          ],
          [
           0.4444444444444444,
           "#26828e"
          ],
          [
           0.5555555555555556,
           "#1f9e89"
          ],
          [
           0.6666666666666666,
           "#35b779"
          ],
          [
           0.7777777777777778,
           "#6ece58"
          ],
          [
           0.8888888888888888,
           "#b5de2b"
          ],
          [
           1,
           "#fde725"
          ]
         ],
         "type": "heatmap",
         "x": [
          0,
          0.1,
          0.2,
          0.30000000000000004,
          0.4,
          0.5,
          0.6000000000000001,
          0.7000000000000001,
          0.8,
          0.9,
          1,
          1.1,
          1.2000000000000002,
          1.3,
          1.4000000000000001,
          1.5,
          1.6,
          1.7000000000000002,
          1.8,
          1.9000000000000001,
          2,
          2.1,
          2.2,
          2.3000000000000003,
          2.4000000000000004,
          2.5,
          2.6,
          2.7,
          2.8000000000000003,
          2.9000000000000004,
          3,
          3.1
         ],
         "y": [
          0,
          0.1,
          0.2,
          0.30000000000000004,
          0.4,
          0.5,
          0.6000000000000001,
          0.7000000000000001,
          0.8,
          0.9,
          1,
          1.1,
          1.2000000000000002,
          1.3,
          1.4000000000000001,
          1.5,
          1.6,
          1.7000000000000002,
          1.8,
          1.9000000000000001,
          2,
          2.1,
          2.2,
          2.3000000000000003,
          2.4000000000000004,
          2.5,
          2.6,
          2.7,
          2.8000000000000003,
          2.9000000000000004,
          3,
          3.1
         ],
         "z": [
          [
           -23.3795,
           -23.7175,
           -23.368,
           -23.4275,
           -23.8025,
           -23.498375,
           -23.457125,
           -23.673875,
           -24.00475,
           -23.6055,
           -23.473,
           -23.374125,
           -23.783875,
           -23.859,
           -23.518625,
           -23.589125,
           -23.747,
           -23.449875,
           -23.601375,
           -23.448375,
           -23.89525,
           -24.02975,
           -23.42025,
           -23.3345,
           -23.707375,
           -23.804125,
           -23.3455,
           -23.177,
           -23.844875,
           -23.848875,
           -23.448375,
           -23.854
          ],
          [
           -24.398875,
           -21.8335,
           -23.136,
           -24.264125,
           -23.07125,
           -21.39825,
           -22.67975,
           -23.223125,
           -23.314875,
           -21.855875,
           -22.47125,
           -23.25325,
           -23.7765,
           -22.358625,
           -22.333625,
           -24.16075,
           -23.959625,
           -21.887375,
           -23.047,
           -24.23875,
           -24.14625,
           -22.95975,
           -23.03925,
           -24.190125,
           -23.8685,
           -23.727125,
           -23.30375,
           -23.559625,
           -24.35525,
           -24.435125,
           -23.43025,
           -23.64125
          ],
          [
           -24.29425,
           -20.14275,
           -22.670625,
           -23.896,
           -22.51225,
           -19.92025,
           -22.08,
           -22.77425,
           -22.68125,
           -20.48575,
           -21.8685,
           -23.001875,
           -23.460875,
           -21.269375,
           -21.808,
           -24.905125,
           -24.103125,
           -20.267625,
           -22.44075,
           -25.531375,
           -24.932375,
           -22.4245,
           -23.440375,
           -24.94825,
           -24.743625,
           -23.949875,
           -23.841,
           -24.277375,
           -24.8665,
           -25.18225,
           -23.44675,
           -23.672625
          ],
          [
           -24.462375,
           -18.611875,
           -22.248125,
           -23.449375,
           -22.107875,
           -18.655,
           -21.421125,
           -21.7145,
           -22.34125,
           -19.701875,
           -21.5335,
           -22.52925,
           -22.998875,
           -19.717,
           -20.970375,
           -25.6345,
           -23.86775,
           -19.14775,
           -22.403,
           -26.80825,
           -25.473,
           -21.73675,
           -23.683125,
           -25.77775,
           -25.1775,
           -24.3795,
           -24.052375,
           -24.341875,
           -25.653375,
           -25.977875,
           -23.985875,
           -24.001125
          ],
          [
           -24.36225,
           -17.58625,
           -21.5665,
           -22.435375,
           -21.94125,
           -18.616625,
           -20.892,
           -21.004,
           -21.76625,
           -19.5535,
           -21.355625,
           -22.1385,
           -22.368,
           -18.89575,
           -21.0295,
           -26.0025,
           -23.379,
           -18.271,
           -21.91525,
           -27.711625,
           -25.816375,
           -21.370875,
           -23.7175,
           -26.405875,
           -26.439375,
           -24.839875,
           -24.62925,
           -24.787875,
           -25.8875,
           -26.725875,
           -24.624875,
           -24.47725
          ],
          [
           -24.12275,
           -17.294875,
           -21.286,
           -21.1425,
           -22.49725,
           -19.023625,
           -20.61725,
           -19.76725,
           -21.390125,
           -20.425125,
           -21.724375,
           -21.853125,
           -21.755,
           -19.084375,
           -21.2865,
           -26.2025,
           -23.283125,
           -18.0545,
           -22.094625,
           -28.1655,
           -26.16175,
           -21.37175,
           -23.46625,
           -26.405125,
           -27.26875,
           -25.109875,
           -24.5865,
           -24.8185,
           -26.549875,
           -27.07125,
           -25.367625,
           -24.404125
          ],
          [
           -24.062875,
           -17.616875,
           -20.78575,
           -19.478625,
           -22.576125,
           -20.143875,
           -20.777375,
           -18.80225,
           -21.592,
           -21.46925,
           -21.830625,
           -21.05675,
           -21.053375,
           -19.489125,
           -21.5935,
           -26.21325,
           -22.8685,
           -17.803375,
           -21.959375,
           -28.54975,
           -26.2065,
           -21.164375,
           -23.411625,
           -26.5005,
           -27.726875,
           -25.570875,
           -25.192125,
           -24.90725,
           -26.71125,
           -27.351,
           -26.003625,
           -24.51875
          ],
          [
           -23.90575,
           -18.818625,
           -20.69375,
           -18.374625,
           -23.188875,
           -22.239375,
           -21.38275,
           -18.807125,
           -21.574625,
           -23.02675,
           -23.129875,
           -21.310625,
           -20.69475,
           -20.574875,
           -22.507875,
           -26.02275,
           -22.057875,
           -18.8455,
           -22.471875,
           -27.825625,
           -26.1865,
           -21.668,
           -23.42125,
           -26.124375,
           -28.11,
           -25.79525,
           -25.028625,
           -24.79675,
           -26.77925,
           -27.076125,
           -26.403375,
           -24.71675
          ],
          [
           -23.85375,
           -19.964875,
           -20.639625,
           -17.040875,
           -24.010625,
           -24.53025,
           -21.844,
           -18.314,
           -22.415125,
           -24.9255,
           -23.971,
           -21.239625,
           -20.30075,
           -21.810125,
           -23.201875,
           -25.613875,
           -21.536625,
           -19.93025,
           -22.819,
           -27.3425,
           -25.848375,
           -22.20175,
           -23.440625,
           -25.404875,
           -28.310625,
           -25.768625,
           -25.01325,
           -24.625875,
           -26.796625,
           -26.688125,
           -26.841875,
           -24.48175
          ],
          [
           -23.690875,
           -21.595,
           -20.8105,
           -16.391375,
           -24.479,
           -25.998375,
           -22.63525,
           -18.627375,
           -22.847,
           -26.2205,
           -24.748875,
           -21.636625,
           -20.14375,
           -23.343875,
           -24.36375,
           -25.05225,
           -21.392875,
           -20.9985,
           -23.44475,
           -26.034875,
           -25.161,
           -22.728625,
           -23.461875,
           -24.741625,
           -27.994875,
           -25.80925,
           -24.9785,
           -24.1925,
           -26.207125,
           -26.1165,
           -26.967625,
           -24.498
          ],
          [
           -23.60975,
           -23.714,
           -21.321375,
           -16.5245,
           -24.90075,
           -27.612375,
           -23.589375,
           -19.145375,
           -23.35525,
           -27.662875,
           -25.48475,
           -21.924125,
           -20.603375,
           -24.456125,
           -25.357875,
           -24.373625,
           -21.366,
           -22.682,
           -23.9765,
           -24.878,
           -24.386875,
           -23.57025,
           -23.781125,
           -23.70775,
           -26.877125,
           -25.434875,
           -24.66575,
           -23.74775,
           -25.69775,
           -25.3655,
           -26.657875,
           -24.312375
          ],
          [
           -23.462,
           -24.9715,
           -21.804125,
           -17.5815,
           -25.04325,
           -28.500875,
           -24.0555,
           -20.310125,
           -24.031375,
           -28.168375,
           -26.044,
           -22.53975,
           -21.076,
           -25.777,
           -25.53025,
           -23.707375,
           -21.203625,
           -23.922875,
           -24.268875,
           -23.8235,
           -23.599625,
           -24.04825,
           -23.745625,
           -23.310625,
           -26.154375,
           -25.058125,
           -24.47725,
           -23.769625,
           -24.899125,
           -24.527375,
           -26.071125,
           -24.195375
          ],
          [
           -23.576875,
           -25.68325,
           -22.263875,
           -18.38325,
           -25.079,
           -28.749125,
           -24.49775,
           -21.039625,
           -24.359375,
           -28.127125,
           -26.153875,
           -23.16575,
           -21.506375,
           -26.226875,
           -25.77075,
           -23.1505,
           -21.453125,
           -24.752125,
           -24.425,
           -22.8945,
           -23.27075,
           -24.565,
           -23.8125,
           -22.69275,
           -25.271875,
           -24.657625,
           -23.983375,
           -23.012125,
           -24.178625,
           -24.12775,
           -25.5695,
           -24.112875
          ],
          [
           -23.733125,
           -26.18325,
           -23.058375,
           -19.614375,
           -25.0655,
           -27.90925,
           -24.61525,
           -21.975375,
           -24.480125,
           -27.598,
           -25.718625,
           -23.4145,
           -22.186875,
           -26.095125,
           -25.699875,
           -22.99825,
           -21.73325,
           -25.17025,
           -24.538375,
           -22.63825,
           -22.99275,
           -24.47875,
           -23.744125,
           -22.548625,
           -24.319875,
           -24.277,
           -23.668125,
           -23.048625,
           -23.65425,
           -23.688875,
           -24.84775,
           -23.873625
          ],
          [
           -23.914875,
           -25.726375,
           -23.184875,
           -21.55,
           -24.951125,
           -26.720875,
           -24.49325,
           -22.823,
           -24.674625,
           -26.33725,
           -25.042875,
           -23.621,
           -22.795375,
           -25.461375,
           -24.82775,
           -22.9265,
           -22.643375,
           -25.083,
           -24.576625,
           -22.379375,
           -23.028375,
           -24.429125,
           -23.473625,
           -22.729875,
           -24.084625,
           -24.168375,
           -23.38925,
           -23.039,
           -23.65425,
           -23.261625,
           -24.298375,
           -23.993875
          ],
          [
           -24.236875,
           -25.85375,
           -24.1205,
           -23.5155,
           -24.623625,
           -25.317,
           -24.578375,
           -24.44675,
           -25.472375,
           -25.3935,
           -24.896,
           -24.395125,
           -24.36825,
           -25.229625,
           -25.003875,
           -24.541125,
           -24.495625,
           -25.058125,
           -24.73575,
           -23.846,
           -24.42925,
           -25.317625,
           -24.70475,
           -24.436875,
           -24.374125,
           -24.111,
           -23.712375,
           -24.43925,
           -24.939,
           -24.571,
           -24.27675,
           -24.493
          ],
          [
           -24.18125,
           -23.979625,
           -24.093875,
           -24.572375,
           -23.657375,
           -23.380125,
           -24.140125,
           -24.599125,
           -24.753125,
           -23.737375,
           -24.036,
           -24.46725,
           -24.324875,
           -23.917125,
           -24.50975,
           -24.8905,
           -24.95225,
           -24.036875,
           -24.29525,
           -24.8385,
           -24.545,
           -24.622625,
           -24.773875,
           -24.637,
           -24.212,
           -24.055875,
           -23.981875,
           -24.681625,
           -24.912625,
           -24.8105,
           -24.179375,
           -24.4845
          ],
          [
           -24.010125,
           -22.035125,
           -23.763,
           -24.8995,
           -23.1015,
           -21.444,
           -23.521875,
           -24.303375,
           -23.89725,
           -22.192,
           -23.647125,
           -24.248625,
           -24.2895,
           -22.4425,
           -23.633375,
           -25.380875,
           -25.02075,
           -22.5325,
           -24.244375,
           -26.1765,
           -24.973125,
           -23.590875,
           -24.703375,
           -25.231375,
           -24.558875,
           -24.224375,
           -24.644375,
           -24.947,
           -24.960875,
           -25.26175,
           -24.2705,
           -24.517625
          ],
          [
           -23.82325,
           -20.285,
           -23.502625,
           -24.68325,
           -22.52275,
           -19.92375,
           -23.010875,
           -23.630875,
           -23.1065,
           -20.965875,
           -22.694125,
           -23.9155,
           -23.692625,
           -21.05,
           -22.896875,
           -25.974,
           -24.83075,
           -20.996625,
           -23.142375,
           -26.960375,
           -25.242375,
           -22.604,
           -24.748,
           -26.109,
           -24.913875,
           -24.143,
           -24.770875,
           -25.56425,
           -25.2055,
           -25.913375,
           -24.53075,
           -24.616875
          ],
          [
           -23.75275,
           -18.8435,
           -22.8445,
           -24.029,
           -21.948,
           -18.927625,
           -21.9145,
           -22.77025,
           -22.333125,
           -20.3725,
           -22.2655,
           -23.61775,
           -22.9205,
           -20.1955,
           -22.192625,
           -26.375875,
           -24.695375,
           -19.54675,
           -22.87,
           -27.954375,
           -25.755,
           -21.96575,
           -24.38325,
           -26.753375,
           -25.311125,
           -24.606875,
           -25.234625,
           -25.625875,
           -25.723625,
           -26.516875,
           -24.9445,
           -24.3345
          ],
          [
           -23.4495,
           -17.760625,
           -22.202875,
           -22.832375,
           -21.865375,
           -18.790625,
           -21.30825,
           -21.5195,
           -21.898625,
           -20.29175,
           -21.851625,
           -22.740125,
           -22.073375,
           -19.774375,
           -21.6155,
           -26.65875,
           -24.2375,
           -18.290625,
           -22.480875,
           -28.384375,
           -25.78625,
           -21.533625,
           -24.205875,
           -26.890625,
           -26.255625,
           -25.001,
           -25.465875,
           -25.622875,
           -26.134875,
           -27.036875,
           -25.624625,
           -24.3085
          ],
          [
           -23.454875,
           -17.492625,
           -21.49725,
           -21.620875,
           -21.901375,
           -18.902,
           -20.829875,
           -20.21925,
           -21.436125,
           -20.647125,
           -21.94675,
           -21.966625,
           -21.5735,
           -19.798625,
           -21.68675,
           -26.486625,
           -23.89825,
           -17.861,
           -21.987375,
           -28.642,
           -25.849,
           -21.273875,
           -23.8465,
           -26.867,
           -26.651875,
           -24.997125,
           -25.30275,
           -25.735125,
           -26.37725,
           -27.252875,
           -25.88675,
           -24.316875
          ],
          [
           -23.4705,
           -18.329,
           -21.084625,
           -20.3205,
           -22.537875,
           -20.450375,
           -20.859125,
           -20.023375,
           -21.477,
           -22.160375,
           -22.511,
           -21.994625,
           -21.1125,
           -20.65275,
           -21.5595,
           -26.346375,
           -23.6075,
           -18.210125,
           -22.013875,
           -28.057375,
           -25.99575,
           -21.539125,
           -23.201625,
           -26.45425,
           -27.237,
           -25.348125,
           -25.43675,
           -25.5595,
           -26.362625,
           -26.95075,
           -26.30975,
           -24.370375
          ],
          [
           -23.747875,
           -19.59925,
           -20.816625,
           -18.790625,
           -23.3455,
           -22.22675,
           -20.789,
           -19.427375,
           -21.743,
           -23.400375,
           -22.695,
           -21.50425,
           -20.96575,
           -21.86675,
           -21.895125,
           -25.991625,
           -22.82375,
           -18.632125,
           -21.987375,
           -27.516125,
           -25.815125,
           -22.066125,
           -23.050375,
           -26.0545,
           -27.674625,
           -25.53925,
           -25.21725,
           -25.01075,
           -26.6815,
           -26.6875,
           -26.453875,
           -24.0735
          ],
          [
           -23.6335,
           -21.022,
           -21.119,
           -17.86875,
           -23.840625,
           -24.161375,
           -21.15875,
           -19.2835,
           -22.839875,
           -25.028,
           -23.506,
           -21.597375,
           -20.842,
           -23.0155,
           -22.5035,
           -25.431125,
           -22.92025,
           -20.33775,
           -22.468625,
           -26.5125,
           -25.43375,
           -22.98925,
           -22.853625,
           -25.2355,
           -27.75825,
           -25.77275,
           -24.916,
           -24.6695,
           -26.478,
           -26.228,
           -26.581,
           -24.292625
          ],
          [
           -24.0405,
           -23.255375,
           -21.208125,
           -17.243,
           -24.4365,
           -26.112875,
           -21.759125,
           -19.246375,
           -23.673875,
           -26.159875,
           -24.044625,
           -21.612125,
           -21.378875,
           -24.375125,
           -23.38325,
           -24.8265,
           -22.364,
           -21.699375,
           -23.031625,
           -25.409625,
           -25.15025,
           -23.409375,
           -22.903125,
           -24.323125,
           -27.7805,
           -25.632375,
           -24.525125,
           -24.29375,
           -26.050625,
           -25.51,
           -26.57625,
           -24.10925
          ],
          [
           -24.410875,
           -25.20925,
           -21.875875,
           -17.489125,
           -25.30025,
           -27.489875,
           -22.819375,
           -20.445,
           -24.562125,
           -27.674875,
           -24.744,
           -21.976,
           -21.568125,
           -25.714,
           -24.2485,
           -24.304125,
           -22.340875,
           -23.0145,
           -23.127375,
           -24.609375,
           -25.02375,
           -24.725,
           -22.791625,
           -23.8365,
           -27.2495,
           -25.588125,
           -24.19,
           -23.919625,
           -25.69425,
           -25.18175,
           -26.171125,
           -24.251
          ],
          [
           -24.335875,
           -26.654125,
           -22.436125,
           -18.11975,
           -25.561375,
           -28.66775,
           -23.187625,
           -21.54925,
           -25.15725,
           -28.12975,
           -25.02475,
           -22.199625,
           -22.29975,
           -26.588875,
           -24.900875,
           -23.744,
           -22.596125,
           -24.16875,
           -23.708875,
           -23.74825,
           -24.7145,
           -25.264875,
           -23.07225,
           -23.447625,
           -26.775875,
           -25.273875,
           -23.91775,
           -23.936875,
           -25.31775,
           -24.711875,
           -25.938625,
           -24.438875
          ],
          [
           -24.20025,
           -27.399875,
           -22.986125,
           -18.97675,
           -25.768625,
           -28.722875,
           -24.067375,
           -22.541875,
           -25.77525,
           -28.04025,
           -25.015375,
           -23.01175,
           -23.2195,
           -26.85775,
           -25.228,
           -23.573875,
           -22.832625,
           -25.2925,
           -24.149,
           -23.034875,
           -24.31725,
           -25.664875,
           -23.1595,
           -23.281375,
           -25.77375,
           -24.8495,
           -23.8215,
           -23.806,
           -24.853125,
           -24.273875,
           -25.308375,
           -24.190125
          ],
          [
           -24.31975,
           -27.527875,
           -23.51975,
           -20.6285,
           -25.669875,
           -28.059625,
           -24.264125,
           -23.492375,
           -26.061,
           -27.42925,
           -25.059875,
           -23.325625,
           -23.8935,
           -26.69125,
           -25.241875,
           -23.54675,
           -23.4425,
           -25.626375,
           -24.3615,
           -23.268625,
           -24.470625,
           -25.943,
           -23.832875,
           -23.38625,
           -25.13975,
           -24.53275,
           -23.83475,
           -23.657375,
           -24.680125,
           -24.294625,
           -24.82075,
           -24
          ],
          [
           -24.098375,
           -26.745,
           -24.130625,
           -22.23575,
           -24.685625,
           -26.26,
           -24.478625,
           -23.780625,
           -25.24575,
           -26.330125,
           -24.798875,
           -23.63425,
           -23.938875,
           -26.118875,
           -25.2345,
           -23.65225,
           -24.1035,
           -25.30675,
           -24.21675,
           -22.9795,
           -24.612125,
           -25.650375,
           -24.248375,
           -23.588125,
           -24.50925,
           -24.111125,
           -23.541375,
           -23.54575,
           -24.4205,
           -24.290375,
           -24.6,
           -23.795875
          ],
          [
           -24.246625,
           -25.282625,
           -24.39275,
           -23.422,
           -24.25075,
           -24.48725,
           -24.2865,
           -24.564,
           -24.912375,
           -24.339,
           -24.0165,
           -23.833125,
           -23.986,
           -25.033125,
           -24.80775,
           -24.3025,
           -24.552,
           -24.328875,
           -23.857375,
           -23.42675,
           -24.655125,
           -25.044125,
           -24.333875,
           -23.912875,
           -24.08525,
           -23.713625,
           -23.571375,
           -23.91075,
           -24.32125,
           -24.673,
           -24.251625,
           -23.69975
          ]
         ]
        },
        {
         "hovertemplate": "x: %{x}<br>y: %{y}<br> z: %{text:.2f}<extra></extra>",
         "marker": {
          "color": "red",
          "line": {
           "width": 1
          },
          "size": 16,
          "symbol": [
           204
          ]
         },
         "mode": "markers",
         "text": [
          "-28.749125"
         ],
         "type": "scatter",
         "x": [
          0.5
         ],
         "y": [
          1.2000000000000002
         ]
        }
       ],
       "layout": {
        "height": 700,
        "template": {
         "data": {
          "bar": [
           {
            "error_x": {
             "color": "#2a3f5f"
            },
            "error_y": {
             "color": "#2a3f5f"
            },
            "marker": {
             "line": {
              "color": "#E5ECF6",
              "width": 0.5
             },
             "pattern": {
              "fillmode": "overlay",
              "size": 10,
              "solidity": 0.2
             }
            },
            "type": "bar"
           }
          ],
          "barpolar": [
           {
            "marker": {
             "line": {
              "color": "#E5ECF6",
              "width": 0.5
             },
             "pattern": {
              "fillmode": "overlay",
              "size": 10,
              "solidity": 0.2
             }
            },
            "type": "barpolar"
           }
          ],
          "carpet": [
           {
            "aaxis": {
             "endlinecolor": "#2a3f5f",
             "gridcolor": "white",
             "linecolor": "white",
             "minorgridcolor": "white",
             "startlinecolor": "#2a3f5f"
            },
            "baxis": {
             "endlinecolor": "#2a3f5f",
             "gridcolor": "white",
             "linecolor": "white",
             "minorgridcolor": "white",
             "startlinecolor": "#2a3f5f"
            },
            "type": "carpet"
           }
          ],
          "choropleth": [
           {
            "colorbar": {
             "outlinewidth": 0,
             "ticks": ""
            },
            "type": "choropleth"
           }
          ],
          "contour": [
           {
            "colorbar": {
             "outlinewidth": 0,
             "ticks": ""
            },
            "colorscale": [
             [
              0,
              "#0d0887"
             ],
             [
              0.1111111111111111,
              "#46039f"
             ],
             [
              0.2222222222222222,
              "#7201a8"
             ],
             [
              0.3333333333333333,
              "#9c179e"
             ],
             [
              0.4444444444444444,
              "#bd3786"
             ],
             [
              0.5555555555555556,
              "#d8576b"
             ],
             [
              0.6666666666666666,
              "#ed7953"
             ],
             [
              0.7777777777777778,
              "#fb9f3a"
             ],
             [
              0.8888888888888888,
              "#fdca26"
             ],
             [
              1,
              "#f0f921"
             ]
            ],
            "type": "contour"
           }
          ],
          "contourcarpet": [
           {
            "colorbar": {
             "outlinewidth": 0,
             "ticks": ""
            },
            "type": "contourcarpet"
           }
          ],
          "heatmap": [
           {
            "colorbar": {
             "outlinewidth": 0,
             "ticks": ""
            },
            "colorscale": [
             [
              0,
              "#0d0887"
             ],
             [
              0.1111111111111111,
              "#46039f"
             ],
             [
              0.2222222222222222,
              "#7201a8"
             ],
             [
              0.3333333333333333,
              "#9c179e"
             ],
             [
              0.4444444444444444,
              "#bd3786"
             ],
             [
              0.5555555555555556,
              "#d8576b"
             ],
             [
              0.6666666666666666,
              "#ed7953"
             ],
             [
              0.7777777777777778,
              "#fb9f3a"
             ],
             [
              0.8888888888888888,
              "#fdca26"
             ],
             [
              1,
              "#f0f921"
             ]
            ],
            "type": "heatmap"
           }
          ],
          "heatmapgl": [
           {
            "colorbar": {
             "outlinewidth": 0,
             "ticks": ""
            },
            "colorscale": [
             [
              0,
              "#0d0887"
             ],
             [
              0.1111111111111111,
              "#46039f"
             ],
             [
              0.2222222222222222,
              "#7201a8"
             ],
             [
              0.3333333333333333,
              "#9c179e"
             ],
             [
              0.4444444444444444,
              "#bd3786"
             ],
             [
              0.5555555555555556,
              "#d8576b"
             ],
             [
              0.6666666666666666,
              "#ed7953"
             ],
             [
              0.7777777777777778,
              "#fb9f3a"
             ],
             [
              0.8888888888888888,
              "#fdca26"
             ],
             [
              1,
              "#f0f921"
             ]
            ],
            "type": "heatmapgl"
           }
          ],
          "histogram": [
           {
            "marker": {
             "pattern": {
              "fillmode": "overlay",
              "size": 10,
              "solidity": 0.2
             }
            },
            "type": "histogram"
           }
          ],
          "histogram2d": [
           {
            "colorbar": {
             "outlinewidth": 0,
             "ticks": ""
            },
            "colorscale": [
             [
              0,
              "#0d0887"
             ],
             [
              0.1111111111111111,
              "#46039f"
             ],
             [
              0.2222222222222222,
              "#7201a8"
             ],
             [
              0.3333333333333333,
              "#9c179e"
             ],
             [
              0.4444444444444444,
              "#bd3786"
             ],
             [
              0.5555555555555556,
              "#d8576b"
             ],
             [
              0.6666666666666666,
              "#ed7953"
             ],
             [
              0.7777777777777778,
              "#fb9f3a"
             ],
             [
              0.8888888888888888,
              "#fdca26"
             ],
             [
              1,
              "#f0f921"
             ]
            ],
            "type": "histogram2d"
           }
          ],
          "histogram2dcontour": [
           {
            "colorbar": {
             "outlinewidth": 0,
             "ticks": ""
            },
            "colorscale": [
             [
              0,
              "#0d0887"
             ],
             [
              0.1111111111111111,
              "#46039f"
             ],
             [
              0.2222222222222222,
              "#7201a8"
             ],
             [
              0.3333333333333333,
              "#9c179e"
             ],
             [
              0.4444444444444444,
              "#bd3786"
             ],
             [
              0.5555555555555556,
              "#d8576b"
             ],
             [
              0.6666666666666666,
              "#ed7953"
             ],
             [
              0.7777777777777778,
              "#fb9f3a"
             ],
             [
              0.8888888888888888,
              "#fdca26"
             ],
             [
              1,
              "#f0f921"
             ]
            ],
            "type": "histogram2dcontour"
           }
          ],
          "mesh3d": [
           {
            "colorbar": {
             "outlinewidth": 0,
             "ticks": ""
            },
            "type": "mesh3d"
           }
          ],
          "parcoords": [
           {
            "line": {
             "colorbar": {
              "outlinewidth": 0,
              "ticks": ""
             }
            },
            "type": "parcoords"
           }
          ],
          "pie": [
           {
            "automargin": true,
            "type": "pie"
           }
          ],
          "scatter": [
           {
            "marker": {
             "colorbar": {
              "outlinewidth": 0,
              "ticks": ""
             }
            },
            "type": "scatter"
           }
          ],
          "scatter3d": [
           {
            "line": {
             "colorbar": {
              "outlinewidth": 0,
              "ticks": ""
             }
            },
            "marker": {
             "colorbar": {
              "outlinewidth": 0,
              "ticks": ""
             }
            },
            "type": "scatter3d"
           }
          ],
          "scattercarpet": [
           {
            "marker": {
             "colorbar": {
              "outlinewidth": 0,
              "ticks": ""
             }
            },
            "type": "scattercarpet"
           }
          ],
          "scattergeo": [
           {
            "marker": {
             "colorbar": {
              "outlinewidth": 0,
              "ticks": ""
             }
            },
            "type": "scattergeo"
           }
          ],
          "scattergl": [
           {
            "marker": {
             "colorbar": {
              "outlinewidth": 0,
              "ticks": ""
             }
            },
            "type": "scattergl"
           }
          ],
          "scattermapbox": [
           {
            "marker": {
             "colorbar": {
              "outlinewidth": 0,
              "ticks": ""
             }
            },
            "type": "scattermapbox"
           }
          ],
          "scatterpolar": [
           {
            "marker": {
             "colorbar": {
              "outlinewidth": 0,
              "ticks": ""
             }
            },
            "type": "scatterpolar"
           }
          ],
          "scatterpolargl": [
           {
            "marker": {
             "colorbar": {
              "outlinewidth": 0,
              "ticks": ""
             }
            },
            "type": "scatterpolargl"
           }
          ],
          "scatterternary": [
           {
            "marker": {
             "colorbar": {
              "outlinewidth": 0,
              "ticks": ""
             }
            },
            "type": "scatterternary"
           }
          ],
          "surface": [
           {
            "colorbar": {
             "outlinewidth": 0,
             "ticks": ""
            },
            "colorscale": [
             [
              0,
              "#0d0887"
             ],
             [
              0.1111111111111111,
              "#46039f"
             ],
             [
              0.2222222222222222,
              "#7201a8"
             ],
             [
              0.3333333333333333,
              "#9c179e"
             ],
             [
              0.4444444444444444,
              "#bd3786"
             ],
             [
              0.5555555555555556,
              "#d8576b"
             ],
             [
              0.6666666666666666,
              "#ed7953"
             ],
             [
              0.7777777777777778,
              "#fb9f3a"
             ],
             [
              0.8888888888888888,
              "#fdca26"
             ],
             [
              1,
              "#f0f921"
             ]
            ],
            "type": "surface"
           }
          ],
          "table": [
           {
            "cells": {
             "fill": {
              "color": "#EBF0F8"
             },
             "line": {
              "color": "white"
             }
            },
            "header": {
             "fill": {
              "color": "#C8D4E3"
             },
             "line": {
              "color": "white"
             }
            },
            "type": "table"
           }
          ]
         },
         "layout": {
          "annotationdefaults": {
           "arrowcolor": "#2a3f5f",
           "arrowhead": 0,
           "arrowwidth": 1
          },
          "autotypenumbers": "strict",
          "coloraxis": {
           "colorbar": {
            "outlinewidth": 0,
            "ticks": ""
           }
          },
          "colorscale": {
           "diverging": [
            [
             0,
             "#8e0152"
            ],
            [
             0.1,
             "#c51b7d"
            ],
            [
             0.2,
             "#de77ae"
            ],
            [
             0.3,
             "#f1b6da"
            ],
            [
             0.4,
             "#fde0ef"
            ],
            [
             0.5,
             "#f7f7f7"
            ],
            [
             0.6,
             "#e6f5d0"
            ],
            [
             0.7,
             "#b8e186"
            ],
            [
             0.8,
             "#7fbc41"
            ],
            [
             0.9,
             "#4d9221"
            ],
            [
             1,
             "#276419"
            ]
           ],
           "sequential": [
            [
             0,
             "#0d0887"
            ],
            [
             0.1111111111111111,
             "#46039f"
            ],
            [
             0.2222222222222222,
             "#7201a8"
            ],
            [
             0.3333333333333333,
             "#9c179e"
            ],
            [
             0.4444444444444444,
             "#bd3786"
            ],
            [
             0.5555555555555556,
             "#d8576b"
            ],
            [
             0.6666666666666666,
             "#ed7953"
            ],
            [
             0.7777777777777778,
             "#fb9f3a"
            ],
            [
             0.8888888888888888,
             "#fdca26"
            ],
            [
             1,
             "#f0f921"
            ]
           ],
           "sequentialminus": [
            [
             0,
             "#0d0887"
            ],
            [
             0.1111111111111111,
             "#46039f"
            ],
            [
             0.2222222222222222,
             "#7201a8"
            ],
            [
             0.3333333333333333,
             "#9c179e"
            ],
            [
             0.4444444444444444,
             "#bd3786"
            ],
            [
             0.5555555555555556,
             "#d8576b"
            ],
            [
             0.6666666666666666,
             "#ed7953"
            ],
            [
             0.7777777777777778,
             "#fb9f3a"
            ],
            [
             0.8888888888888888,
             "#fdca26"
            ],
            [
             1,
             "#f0f921"
            ]
           ]
          },
          "colorway": [
           "#636efa",
           "#EF553B",
           "#00cc96",
           "#ab63fa",
           "#FFA15A",
           "#19d3f3",
           "#FF6692",
           "#B6E880",
           "#FF97FF",
           "#FECB52"
          ],
          "font": {
           "color": "#2a3f5f"
          },
          "geo": {
           "bgcolor": "white",
           "lakecolor": "white",
           "landcolor": "#E5ECF6",
           "showlakes": true,
           "showland": true,
           "subunitcolor": "white"
          },
          "hoverlabel": {
           "align": "left"
          },
          "hovermode": "closest",
          "mapbox": {
           "style": "light"
          },
          "paper_bgcolor": "white",
          "plot_bgcolor": "#E5ECF6",
          "polar": {
           "angularaxis": {
            "gridcolor": "white",
            "linecolor": "white",
            "ticks": ""
           },
           "bgcolor": "#E5ECF6",
           "radialaxis": {
            "gridcolor": "white",
            "linecolor": "white",
            "ticks": ""
           }
          },
          "scene": {
           "xaxis": {
            "backgroundcolor": "#E5ECF6",
            "gridcolor": "white",
            "gridwidth": 2,
            "linecolor": "white",
            "showbackground": true,
            "ticks": "",
            "zerolinecolor": "white"
           },
           "yaxis": {
            "backgroundcolor": "#E5ECF6",
            "gridcolor": "white",
            "gridwidth": 2,
            "linecolor": "white",
            "showbackground": true,
            "ticks": "",
            "zerolinecolor": "white"
           },
           "zaxis": {
            "backgroundcolor": "#E5ECF6",
            "gridcolor": "white",
            "gridwidth": 2,
            "linecolor": "white",
            "showbackground": true,
            "ticks": "",
            "zerolinecolor": "white"
           }
          },
          "shapedefaults": {
           "line": {
            "color": "#2a3f5f"
           }
          },
          "ternary": {
           "aaxis": {
            "gridcolor": "white",
            "linecolor": "white",
            "ticks": ""
           },
           "baxis": {
            "gridcolor": "white",
            "linecolor": "white",
            "ticks": ""
           },
           "bgcolor": "#E5ECF6",
           "caxis": {
            "gridcolor": "white",
            "linecolor": "white",
            "ticks": ""
           }
          },
          "title": {
           "x": 0.05
          },
          "xaxis": {
           "automargin": true,
           "gridcolor": "white",
           "linecolor": "white",
           "ticks": "",
           "title": {
            "standoff": 15
           },
           "zerolinecolor": "white",
           "zerolinewidth": 2
          },
          "yaxis": {
           "automargin": true,
           "gridcolor": "white",
           "linecolor": "white",
           "ticks": "",
           "title": {
            "standoff": 15
           },
           "zerolinecolor": "white",
           "zerolinewidth": 2
          }
         }
        },
        "title": {
         "text": "F(γ,β)"
        },
        "width": 700,
        "xaxis": {
         "title": {
          "text": "γ"
         }
        },
        "yaxis": {
         "title": {
          "text": "β"
         }
        }
       }
      },
      "text/html": [
       "<div>                            <div id=\"a08f5484-a434-4d7d-b895-2f70a9d2b59b\" class=\"plotly-graph-div\" style=\"height:700px; width:700px;\"></div>            <script type=\"text/javascript\">                require([\"plotly\"], function(Plotly) {                    window.PLOTLYENV=window.PLOTLYENV || {};                                    if (document.getElementById(\"a08f5484-a434-4d7d-b895-2f70a9d2b59b\")) {                    Plotly.newPlot(                        \"a08f5484-a434-4d7d-b895-2f70a9d2b59b\",                        [{\"colorscale\":[[0.0,\"#440154\"],[0.1111111111111111,\"#482878\"],[0.2222222222222222,\"#3e4989\"],[0.3333333333333333,\"#31688e\"],[0.4444444444444444,\"#26828e\"],[0.5555555555555556,\"#1f9e89\"],[0.6666666666666666,\"#35b779\"],[0.7777777777777778,\"#6ece58\"],[0.8888888888888888,\"#b5de2b\"],[1.0,\"#fde725\"]],\"type\":\"heatmap\",\"x\":[0.0,0.1,0.2,0.30000000000000004,0.4,0.5,0.6000000000000001,0.7000000000000001,0.8,0.9,1.0,1.1,1.2000000000000002,1.3,1.4000000000000001,1.5,1.6,1.7000000000000002,1.8,1.9000000000000001,2.0,2.1,2.2,2.3000000000000003,2.4000000000000004,2.5,2.6,2.7,2.8000000000000003,2.9000000000000004,3.0,3.1],\"y\":[0.0,0.1,0.2,0.30000000000000004,0.4,0.5,0.6000000000000001,0.7000000000000001,0.8,0.9,1.0,1.1,1.2000000000000002,1.3,1.4000000000000001,1.5,1.6,1.7000000000000002,1.8,1.9000000000000001,2.0,2.1,2.2,2.3000000000000003,2.4000000000000004,2.5,2.6,2.7,2.8000000000000003,2.9000000000000004,3.0,3.1],\"z\":[[-23.3795,-23.7175,-23.368,-23.4275,-23.8025,-23.498375,-23.457125,-23.673875,-24.00475,-23.6055,-23.473,-23.374125,-23.783875,-23.859,-23.518625,-23.589125,-23.747,-23.449875,-23.601375,-23.448375,-23.89525,-24.02975,-23.42025,-23.3345,-23.707375,-23.804125,-23.3455,-23.177,-23.844875,-23.848875,-23.448375,-23.854],[-24.398875,-21.8335,-23.136,-24.264125,-23.07125,-21.39825,-22.67975,-23.223125,-23.314875,-21.855875,-22.47125,-23.25325,-23.7765,-22.358625,-22.333625,-24.16075,-23.959625,-21.887375,-23.047,-24.23875,-24.14625,-22.95975,-23.03925,-24.190125,-23.8685,-23.727125,-23.30375,-23.559625,-24.35525,-24.435125,-23.43025,-23.64125],[-24.29425,-20.14275,-22.670625,-23.896,-22.51225,-19.92025,-22.08,-22.77425,-22.68125,-20.48575,-21.8685,-23.001875,-23.460875,-21.269375,-21.808,-24.905125,-24.103125,-20.267625,-22.44075,-25.531375,-24.932375,-22.4245,-23.440375,-24.94825,-24.743625,-23.949875,-23.841,-24.277375,-24.8665,-25.18225,-23.44675,-23.672625],[-24.462375,-18.611875,-22.248125,-23.449375,-22.107875,-18.655,-21.421125,-21.7145,-22.34125,-19.701875,-21.5335,-22.52925,-22.998875,-19.717,-20.970375,-25.6345,-23.86775,-19.14775,-22.403,-26.80825,-25.473,-21.73675,-23.683125,-25.77775,-25.1775,-24.3795,-24.052375,-24.341875,-25.653375,-25.977875,-23.985875,-24.001125],[-24.36225,-17.58625,-21.5665,-22.435375,-21.94125,-18.616625,-20.892,-21.004,-21.76625,-19.5535,-21.355625,-22.1385,-22.368,-18.89575,-21.0295,-26.0025,-23.379,-18.271,-21.91525,-27.711625,-25.816375,-21.370875,-23.7175,-26.405875,-26.439375,-24.839875,-24.62925,-24.787875,-25.8875,-26.725875,-24.624875,-24.47725],[-24.12275,-17.294875,-21.286,-21.1425,-22.49725,-19.023625,-20.61725,-19.76725,-21.390125,-20.425125,-21.724375,-21.853125,-21.755,-19.084375,-21.2865,-26.2025,-23.283125,-18.0545,-22.094625,-28.1655,-26.16175,-21.37175,-23.46625,-26.405125,-27.26875,-25.109875,-24.5865,-24.8185,-26.549875,-27.07125,-25.367625,-24.404125],[-24.062875,-17.616875,-20.78575,-19.478625,-22.576125,-20.143875,-20.777375,-18.80225,-21.592,-21.46925,-21.830625,-21.05675,-21.053375,-19.489125,-21.5935,-26.21325,-22.8685,-17.803375,-21.959375,-28.54975,-26.2065,-21.164375,-23.411625,-26.5005,-27.726875,-25.570875,-25.192125,-24.90725,-26.71125,-27.351,-26.003625,-24.51875],[-23.90575,-18.818625,-20.69375,-18.374625,-23.188875,-22.239375,-21.38275,-18.807125,-21.574625,-23.02675,-23.129875,-21.310625,-20.69475,-20.574875,-22.507875,-26.02275,-22.057875,-18.8455,-22.471875,-27.825625,-26.1865,-21.668,-23.42125,-26.124375,-28.11,-25.79525,-25.028625,-24.79675,-26.77925,-27.076125,-26.403375,-24.71675],[-23.85375,-19.964875,-20.639625,-17.040875,-24.010625,-24.53025,-21.844,-18.314,-22.415125,-24.9255,-23.971,-21.239625,-20.30075,-21.810125,-23.201875,-25.613875,-21.536625,-19.93025,-22.819,-27.3425,-25.848375,-22.20175,-23.440625,-25.404875,-28.310625,-25.768625,-25.01325,-24.625875,-26.796625,-26.688125,-26.841875,-24.48175],[-23.690875,-21.595,-20.8105,-16.391375,-24.479,-25.998375,-22.63525,-18.627375,-22.847,-26.2205,-24.748875,-21.636625,-20.14375,-23.343875,-24.36375,-25.05225,-21.392875,-20.9985,-23.44475,-26.034875,-25.161,-22.728625,-23.461875,-24.741625,-27.994875,-25.80925,-24.9785,-24.1925,-26.207125,-26.1165,-26.967625,-24.498],[-23.60975,-23.714,-21.321375,-16.5245,-24.90075,-27.612375,-23.589375,-19.145375,-23.35525,-27.662875,-25.48475,-21.924125,-20.603375,-24.456125,-25.357875,-24.373625,-21.366,-22.682,-23.9765,-24.878,-24.386875,-23.57025,-23.781125,-23.70775,-26.877125,-25.434875,-24.66575,-23.74775,-25.69775,-25.3655,-26.657875,-24.312375],[-23.462,-24.9715,-21.804125,-17.5815,-25.04325,-28.500875,-24.0555,-20.310125,-24.031375,-28.168375,-26.044,-22.53975,-21.076,-25.777,-25.53025,-23.707375,-21.203625,-23.922875,-24.268875,-23.8235,-23.599625,-24.04825,-23.745625,-23.310625,-26.154375,-25.058125,-24.47725,-23.769625,-24.899125,-24.527375,-26.071125,-24.195375],[-23.576875,-25.68325,-22.263875,-18.38325,-25.079,-28.749125,-24.49775,-21.039625,-24.359375,-28.127125,-26.153875,-23.16575,-21.506375,-26.226875,-25.77075,-23.1505,-21.453125,-24.752125,-24.425,-22.8945,-23.27075,-24.565,-23.8125,-22.69275,-25.271875,-24.657625,-23.983375,-23.012125,-24.178625,-24.12775,-25.5695,-24.112875],[-23.733125,-26.18325,-23.058375,-19.614375,-25.0655,-27.90925,-24.61525,-21.975375,-24.480125,-27.598,-25.718625,-23.4145,-22.186875,-26.095125,-25.699875,-22.99825,-21.73325,-25.17025,-24.538375,-22.63825,-22.99275,-24.47875,-23.744125,-22.548625,-24.319875,-24.277,-23.668125,-23.048625,-23.65425,-23.688875,-24.84775,-23.873625],[-23.914875,-25.726375,-23.184875,-21.55,-24.951125,-26.720875,-24.49325,-22.823,-24.674625,-26.33725,-25.042875,-23.621,-22.795375,-25.461375,-24.82775,-22.9265,-22.643375,-25.083,-24.576625,-22.379375,-23.028375,-24.429125,-23.473625,-22.729875,-24.084625,-24.168375,-23.38925,-23.039,-23.65425,-23.261625,-24.298375,-23.993875],[-24.236875,-25.85375,-24.1205,-23.5155,-24.623625,-25.317,-24.578375,-24.44675,-25.472375,-25.3935,-24.896,-24.395125,-24.36825,-25.229625,-25.003875,-24.541125,-24.495625,-25.058125,-24.73575,-23.846,-24.42925,-25.317625,-24.70475,-24.436875,-24.374125,-24.111,-23.712375,-24.43925,-24.939,-24.571,-24.27675,-24.493],[-24.18125,-23.979625,-24.093875,-24.572375,-23.657375,-23.380125,-24.140125,-24.599125,-24.753125,-23.737375,-24.036,-24.46725,-24.324875,-23.917125,-24.50975,-24.8905,-24.95225,-24.036875,-24.29525,-24.8385,-24.545,-24.622625,-24.773875,-24.637,-24.212,-24.055875,-23.981875,-24.681625,-24.912625,-24.8105,-24.179375,-24.4845],[-24.010125,-22.035125,-23.763,-24.8995,-23.1015,-21.444,-23.521875,-24.303375,-23.89725,-22.192,-23.647125,-24.248625,-24.2895,-22.4425,-23.633375,-25.380875,-25.02075,-22.5325,-24.244375,-26.1765,-24.973125,-23.590875,-24.703375,-25.231375,-24.558875,-24.224375,-24.644375,-24.947,-24.960875,-25.26175,-24.2705,-24.517625],[-23.82325,-20.285,-23.502625,-24.68325,-22.52275,-19.92375,-23.010875,-23.630875,-23.1065,-20.965875,-22.694125,-23.9155,-23.692625,-21.05,-22.896875,-25.974,-24.83075,-20.996625,-23.142375,-26.960375,-25.242375,-22.604,-24.748,-26.109,-24.913875,-24.143,-24.770875,-25.56425,-25.2055,-25.913375,-24.53075,-24.616875],[-23.75275,-18.8435,-22.8445,-24.029,-21.948,-18.927625,-21.9145,-22.77025,-22.333125,-20.3725,-22.2655,-23.61775,-22.9205,-20.1955,-22.192625,-26.375875,-24.695375,-19.54675,-22.87,-27.954375,-25.755,-21.96575,-24.38325,-26.753375,-25.311125,-24.606875,-25.234625,-25.625875,-25.723625,-26.516875,-24.9445,-24.3345],[-23.4495,-17.760625,-22.202875,-22.832375,-21.865375,-18.790625,-21.30825,-21.5195,-21.898625,-20.29175,-21.851625,-22.740125,-22.073375,-19.774375,-21.6155,-26.65875,-24.2375,-18.290625,-22.480875,-28.384375,-25.78625,-21.533625,-24.205875,-26.890625,-26.255625,-25.001,-25.465875,-25.622875,-26.134875,-27.036875,-25.624625,-24.3085],[-23.454875,-17.492625,-21.49725,-21.620875,-21.901375,-18.902,-20.829875,-20.21925,-21.436125,-20.647125,-21.94675,-21.966625,-21.5735,-19.798625,-21.68675,-26.486625,-23.89825,-17.861,-21.987375,-28.642,-25.849,-21.273875,-23.8465,-26.867,-26.651875,-24.997125,-25.30275,-25.735125,-26.37725,-27.252875,-25.88675,-24.316875],[-23.4705,-18.329,-21.084625,-20.3205,-22.537875,-20.450375,-20.859125,-20.023375,-21.477,-22.160375,-22.511,-21.994625,-21.1125,-20.65275,-21.5595,-26.346375,-23.6075,-18.210125,-22.013875,-28.057375,-25.99575,-21.539125,-23.201625,-26.45425,-27.237,-25.348125,-25.43675,-25.5595,-26.362625,-26.95075,-26.30975,-24.370375],[-23.747875,-19.59925,-20.816625,-18.790625,-23.3455,-22.22675,-20.789,-19.427375,-21.743,-23.400375,-22.695,-21.50425,-20.96575,-21.86675,-21.895125,-25.991625,-22.82375,-18.632125,-21.987375,-27.516125,-25.815125,-22.066125,-23.050375,-26.0545,-27.674625,-25.53925,-25.21725,-25.01075,-26.6815,-26.6875,-26.453875,-24.0735],[-23.6335,-21.022,-21.119,-17.86875,-23.840625,-24.161375,-21.15875,-19.2835,-22.839875,-25.028,-23.506,-21.597375,-20.842,-23.0155,-22.5035,-25.431125,-22.92025,-20.33775,-22.468625,-26.5125,-25.43375,-22.98925,-22.853625,-25.2355,-27.75825,-25.77275,-24.916,-24.6695,-26.478,-26.228,-26.581,-24.292625],[-24.0405,-23.255375,-21.208125,-17.243,-24.4365,-26.112875,-21.759125,-19.246375,-23.673875,-26.159875,-24.044625,-21.612125,-21.378875,-24.375125,-23.38325,-24.8265,-22.364,-21.699375,-23.031625,-25.409625,-25.15025,-23.409375,-22.903125,-24.323125,-27.7805,-25.632375,-24.525125,-24.29375,-26.050625,-25.51,-26.57625,-24.10925],[-24.410875,-25.20925,-21.875875,-17.489125,-25.30025,-27.489875,-22.819375,-20.445,-24.562125,-27.674875,-24.744,-21.976,-21.568125,-25.714,-24.2485,-24.304125,-22.340875,-23.0145,-23.127375,-24.609375,-25.02375,-24.725,-22.791625,-23.8365,-27.2495,-25.588125,-24.19,-23.919625,-25.69425,-25.18175,-26.171125,-24.251],[-24.335875,-26.654125,-22.436125,-18.11975,-25.561375,-28.66775,-23.187625,-21.54925,-25.15725,-28.12975,-25.02475,-22.199625,-22.29975,-26.588875,-24.900875,-23.744,-22.596125,-24.16875,-23.708875,-23.74825,-24.7145,-25.264875,-23.07225,-23.447625,-26.775875,-25.273875,-23.91775,-23.936875,-25.31775,-24.711875,-25.938625,-24.438875],[-24.20025,-27.399875,-22.986125,-18.97675,-25.768625,-28.722875,-24.067375,-22.541875,-25.77525,-28.04025,-25.015375,-23.01175,-23.2195,-26.85775,-25.228,-23.573875,-22.832625,-25.2925,-24.149,-23.034875,-24.31725,-25.664875,-23.1595,-23.281375,-25.77375,-24.8495,-23.8215,-23.806,-24.853125,-24.273875,-25.308375,-24.190125],[-24.31975,-27.527875,-23.51975,-20.6285,-25.669875,-28.059625,-24.264125,-23.492375,-26.061,-27.42925,-25.059875,-23.325625,-23.8935,-26.69125,-25.241875,-23.54675,-23.4425,-25.626375,-24.3615,-23.268625,-24.470625,-25.943,-23.832875,-23.38625,-25.13975,-24.53275,-23.83475,-23.657375,-24.680125,-24.294625,-24.82075,-24.0],[-24.098375,-26.745,-24.130625,-22.23575,-24.685625,-26.26,-24.478625,-23.780625,-25.24575,-26.330125,-24.798875,-23.63425,-23.938875,-26.118875,-25.2345,-23.65225,-24.1035,-25.30675,-24.21675,-22.9795,-24.612125,-25.650375,-24.248375,-23.588125,-24.50925,-24.111125,-23.541375,-23.54575,-24.4205,-24.290375,-24.6,-23.795875],[-24.246625,-25.282625,-24.39275,-23.422,-24.25075,-24.48725,-24.2865,-24.564,-24.912375,-24.339,-24.0165,-23.833125,-23.986,-25.033125,-24.80775,-24.3025,-24.552,-24.328875,-23.857375,-23.42675,-24.655125,-25.044125,-24.333875,-23.912875,-24.08525,-23.713625,-23.571375,-23.91075,-24.32125,-24.673,-24.251625,-23.69975]]},{\"hovertemplate\":\"x: %{x}<br>y: %{y}<br> z: %{text:.2f}<extra></extra>\",\"marker\":{\"color\":\"red\",\"line\":{\"width\":1},\"size\":16,\"symbol\":[204]},\"mode\":\"markers\",\"text\":[\"-28.749125\"],\"type\":\"scatter\",\"x\":[0.5],\"y\":[1.2000000000000002]}],                        {\"height\":700,\"template\":{\"data\":{\"bar\":[{\"error_x\":{\"color\":\"#2a3f5f\"},\"error_y\":{\"color\":\"#2a3f5f\"},\"marker\":{\"line\":{\"color\":\"#E5ECF6\",\"width\":0.5},\"pattern\":{\"fillmode\":\"overlay\",\"size\":10,\"solidity\":0.2}},\"type\":\"bar\"}],\"barpolar\":[{\"marker\":{\"line\":{\"color\":\"#E5ECF6\",\"width\":0.5},\"pattern\":{\"fillmode\":\"overlay\",\"size\":10,\"solidity\":0.2}},\"type\":\"barpolar\"}],\"carpet\":[{\"aaxis\":{\"endlinecolor\":\"#2a3f5f\",\"gridcolor\":\"white\",\"linecolor\":\"white\",\"minorgridcolor\":\"white\",\"startlinecolor\":\"#2a3f5f\"},\"baxis\":{\"endlinecolor\":\"#2a3f5f\",\"gridcolor\":\"white\",\"linecolor\":\"white\",\"minorgridcolor\":\"white\",\"startlinecolor\":\"#2a3f5f\"},\"type\":\"carpet\"}],\"choropleth\":[{\"colorbar\":{\"outlinewidth\":0,\"ticks\":\"\"},\"type\":\"choropleth\"}],\"contour\":[{\"colorbar\":{\"outlinewidth\":0,\"ticks\":\"\"},\"colorscale\":[[0.0,\"#0d0887\"],[0.1111111111111111,\"#46039f\"],[0.2222222222222222,\"#7201a8\"],[0.3333333333333333,\"#9c179e\"],[0.4444444444444444,\"#bd3786\"],[0.5555555555555556,\"#d8576b\"],[0.6666666666666666,\"#ed7953\"],[0.7777777777777778,\"#fb9f3a\"],[0.8888888888888888,\"#fdca26\"],[1.0,\"#f0f921\"]],\"type\":\"contour\"}],\"contourcarpet\":[{\"colorbar\":{\"outlinewidth\":0,\"ticks\":\"\"},\"type\":\"contourcarpet\"}],\"heatmap\":[{\"colorbar\":{\"outlinewidth\":0,\"ticks\":\"\"},\"colorscale\":[[0.0,\"#0d0887\"],[0.1111111111111111,\"#46039f\"],[0.2222222222222222,\"#7201a8\"],[0.3333333333333333,\"#9c179e\"],[0.4444444444444444,\"#bd3786\"],[0.5555555555555556,\"#d8576b\"],[0.6666666666666666,\"#ed7953\"],[0.7777777777777778,\"#fb9f3a\"],[0.8888888888888888,\"#fdca26\"],[1.0,\"#f0f921\"]],\"type\":\"heatmap\"}],\"heatmapgl\":[{\"colorbar\":{\"outlinewidth\":0,\"ticks\":\"\"},\"colorscale\":[[0.0,\"#0d0887\"],[0.1111111111111111,\"#46039f\"],[0.2222222222222222,\"#7201a8\"],[0.3333333333333333,\"#9c179e\"],[0.4444444444444444,\"#bd3786\"],[0.5555555555555556,\"#d8576b\"],[0.6666666666666666,\"#ed7953\"],[0.7777777777777778,\"#fb9f3a\"],[0.8888888888888888,\"#fdca26\"],[1.0,\"#f0f921\"]],\"type\":\"heatmapgl\"}],\"histogram\":[{\"marker\":{\"pattern\":{\"fillmode\":\"overlay\",\"size\":10,\"solidity\":0.2}},\"type\":\"histogram\"}],\"histogram2d\":[{\"colorbar\":{\"outlinewidth\":0,\"ticks\":\"\"},\"colorscale\":[[0.0,\"#0d0887\"],[0.1111111111111111,\"#46039f\"],[0.2222222222222222,\"#7201a8\"],[0.3333333333333333,\"#9c179e\"],[0.4444444444444444,\"#bd3786\"],[0.5555555555555556,\"#d8576b\"],[0.6666666666666666,\"#ed7953\"],[0.7777777777777778,\"#fb9f3a\"],[0.8888888888888888,\"#fdca26\"],[1.0,\"#f0f921\"]],\"type\":\"histogram2d\"}],\"histogram2dcontour\":[{\"colorbar\":{\"outlinewidth\":0,\"ticks\":\"\"},\"colorscale\":[[0.0,\"#0d0887\"],[0.1111111111111111,\"#46039f\"],[0.2222222222222222,\"#7201a8\"],[0.3333333333333333,\"#9c179e\"],[0.4444444444444444,\"#bd3786\"],[0.5555555555555556,\"#d8576b\"],[0.6666666666666666,\"#ed7953\"],[0.7777777777777778,\"#fb9f3a\"],[0.8888888888888888,\"#fdca26\"],[1.0,\"#f0f921\"]],\"type\":\"histogram2dcontour\"}],\"mesh3d\":[{\"colorbar\":{\"outlinewidth\":0,\"ticks\":\"\"},\"type\":\"mesh3d\"}],\"parcoords\":[{\"line\":{\"colorbar\":{\"outlinewidth\":0,\"ticks\":\"\"}},\"type\":\"parcoords\"}],\"pie\":[{\"automargin\":true,\"type\":\"pie\"}],\"scatter\":[{\"marker\":{\"colorbar\":{\"outlinewidth\":0,\"ticks\":\"\"}},\"type\":\"scatter\"}],\"scatter3d\":[{\"line\":{\"colorbar\":{\"outlinewidth\":0,\"ticks\":\"\"}},\"marker\":{\"colorbar\":{\"outlinewidth\":0,\"ticks\":\"\"}},\"type\":\"scatter3d\"}],\"scattercarpet\":[{\"marker\":{\"colorbar\":{\"outlinewidth\":0,\"ticks\":\"\"}},\"type\":\"scattercarpet\"}],\"scattergeo\":[{\"marker\":{\"colorbar\":{\"outlinewidth\":0,\"ticks\":\"\"}},\"type\":\"scattergeo\"}],\"scattergl\":[{\"marker\":{\"colorbar\":{\"outlinewidth\":0,\"ticks\":\"\"}},\"type\":\"scattergl\"}],\"scattermapbox\":[{\"marker\":{\"colorbar\":{\"outlinewidth\":0,\"ticks\":\"\"}},\"type\":\"scattermapbox\"}],\"scatterpolar\":[{\"marker\":{\"colorbar\":{\"outlinewidth\":0,\"ticks\":\"\"}},\"type\":\"scatterpolar\"}],\"scatterpolargl\":[{\"marker\":{\"colorbar\":{\"outlinewidth\":0,\"ticks\":\"\"}},\"type\":\"scatterpolargl\"}],\"scatterternary\":[{\"marker\":{\"colorbar\":{\"outlinewidth\":0,\"ticks\":\"\"}},\"type\":\"scatterternary\"}],\"surface\":[{\"colorbar\":{\"outlinewidth\":0,\"ticks\":\"\"},\"colorscale\":[[0.0,\"#0d0887\"],[0.1111111111111111,\"#46039f\"],[0.2222222222222222,\"#7201a8\"],[0.3333333333333333,\"#9c179e\"],[0.4444444444444444,\"#bd3786\"],[0.5555555555555556,\"#d8576b\"],[0.6666666666666666,\"#ed7953\"],[0.7777777777777778,\"#fb9f3a\"],[0.8888888888888888,\"#fdca26\"],[1.0,\"#f0f921\"]],\"type\":\"surface\"}],\"table\":[{\"cells\":{\"fill\":{\"color\":\"#EBF0F8\"},\"line\":{\"color\":\"white\"}},\"header\":{\"fill\":{\"color\":\"#C8D4E3\"},\"line\":{\"color\":\"white\"}},\"type\":\"table\"}]},\"layout\":{\"annotationdefaults\":{\"arrowcolor\":\"#2a3f5f\",\"arrowhead\":0,\"arrowwidth\":1},\"autotypenumbers\":\"strict\",\"coloraxis\":{\"colorbar\":{\"outlinewidth\":0,\"ticks\":\"\"}},\"colorscale\":{\"diverging\":[[0,\"#8e0152\"],[0.1,\"#c51b7d\"],[0.2,\"#de77ae\"],[0.3,\"#f1b6da\"],[0.4,\"#fde0ef\"],[0.5,\"#f7f7f7\"],[0.6,\"#e6f5d0\"],[0.7,\"#b8e186\"],[0.8,\"#7fbc41\"],[0.9,\"#4d9221\"],[1,\"#276419\"]],\"sequential\":[[0.0,\"#0d0887\"],[0.1111111111111111,\"#46039f\"],[0.2222222222222222,\"#7201a8\"],[0.3333333333333333,\"#9c179e\"],[0.4444444444444444,\"#bd3786\"],[0.5555555555555556,\"#d8576b\"],[0.6666666666666666,\"#ed7953\"],[0.7777777777777778,\"#fb9f3a\"],[0.8888888888888888,\"#fdca26\"],[1.0,\"#f0f921\"]],\"sequentialminus\":[[0.0,\"#0d0887\"],[0.1111111111111111,\"#46039f\"],[0.2222222222222222,\"#7201a8\"],[0.3333333333333333,\"#9c179e\"],[0.4444444444444444,\"#bd3786\"],[0.5555555555555556,\"#d8576b\"],[0.6666666666666666,\"#ed7953\"],[0.7777777777777778,\"#fb9f3a\"],[0.8888888888888888,\"#fdca26\"],[1.0,\"#f0f921\"]]},\"colorway\":[\"#636efa\",\"#EF553B\",\"#00cc96\",\"#ab63fa\",\"#FFA15A\",\"#19d3f3\",\"#FF6692\",\"#B6E880\",\"#FF97FF\",\"#FECB52\"],\"font\":{\"color\":\"#2a3f5f\"},\"geo\":{\"bgcolor\":\"white\",\"lakecolor\":\"white\",\"landcolor\":\"#E5ECF6\",\"showlakes\":true,\"showland\":true,\"subunitcolor\":\"white\"},\"hoverlabel\":{\"align\":\"left\"},\"hovermode\":\"closest\",\"mapbox\":{\"style\":\"light\"},\"paper_bgcolor\":\"white\",\"plot_bgcolor\":\"#E5ECF6\",\"polar\":{\"angularaxis\":{\"gridcolor\":\"white\",\"linecolor\":\"white\",\"ticks\":\"\"},\"bgcolor\":\"#E5ECF6\",\"radialaxis\":{\"gridcolor\":\"white\",\"linecolor\":\"white\",\"ticks\":\"\"}},\"scene\":{\"xaxis\":{\"backgroundcolor\":\"#E5ECF6\",\"gridcolor\":\"white\",\"gridwidth\":2,\"linecolor\":\"white\",\"showbackground\":true,\"ticks\":\"\",\"zerolinecolor\":\"white\"},\"yaxis\":{\"backgroundcolor\":\"#E5ECF6\",\"gridcolor\":\"white\",\"gridwidth\":2,\"linecolor\":\"white\",\"showbackground\":true,\"ticks\":\"\",\"zerolinecolor\":\"white\"},\"zaxis\":{\"backgroundcolor\":\"#E5ECF6\",\"gridcolor\":\"white\",\"gridwidth\":2,\"linecolor\":\"white\",\"showbackground\":true,\"ticks\":\"\",\"zerolinecolor\":\"white\"}},\"shapedefaults\":{\"line\":{\"color\":\"#2a3f5f\"}},\"ternary\":{\"aaxis\":{\"gridcolor\":\"white\",\"linecolor\":\"white\",\"ticks\":\"\"},\"baxis\":{\"gridcolor\":\"white\",\"linecolor\":\"white\",\"ticks\":\"\"},\"bgcolor\":\"#E5ECF6\",\"caxis\":{\"gridcolor\":\"white\",\"linecolor\":\"white\",\"ticks\":\"\"}},\"title\":{\"x\":0.05},\"xaxis\":{\"automargin\":true,\"gridcolor\":\"white\",\"linecolor\":\"white\",\"ticks\":\"\",\"title\":{\"standoff\":15},\"zerolinecolor\":\"white\",\"zerolinewidth\":2},\"yaxis\":{\"automargin\":true,\"gridcolor\":\"white\",\"linecolor\":\"white\",\"ticks\":\"\",\"title\":{\"standoff\":15},\"zerolinecolor\":\"white\",\"zerolinewidth\":2}}},\"title\":{\"text\":\"F(\\u03b3,\\u03b2)\"},\"width\":700,\"xaxis\":{\"title\":{\"text\":\"\\u03b3\"}},\"yaxis\":{\"title\":{\"text\":\"\\u03b2\"}}},                        {\"responsive\": true}                    ).then(function(){\n",
       "                            \n",
       "var gd = document.getElementById('a08f5484-a434-4d7d-b895-2f70a9d2b59b');\n",
       "var x = new MutationObserver(function (mutations, observer) {{\n",
       "        var display = window.getComputedStyle(gd).display;\n",
       "        if (!display || display === 'none') {{\n",
       "            console.log([gd, 'removed!']);\n",
       "            Plotly.purge(gd);\n",
       "            observer.disconnect();\n",
       "        }}\n",
       "}});\n",
       "\n",
       "// Listen for the removal of the full notebook cells\n",
       "var notebookContainer = gd.closest('#notebook-container');\n",
       "if (notebookContainer) {{\n",
       "    x.observe(notebookContainer, {childList: true});\n",
       "}}\n",
       "\n",
       "// Listen for the clearing of the current output cell\n",
       "var outputEl = gd.closest('.output');\n",
       "if (outputEl) {{\n",
       "    x.observe(outputEl, {childList: true});\n",
       "}}\n",
       "\n",
       "                        })                };                });            </script>        </div>"
      ]
     },
     "metadata": {},
     "output_type": "display_data"
    }
   ],
   "source": [
    "# Plot Heatmap \n",
    "fig = go.Figure(data=go.Heatmap(z=landscape, x=b_beta, y=a_gamma, type = 'heatmap', colorscale = 'viridis'))\n",
    "\n",
    "# Update Layout\n",
    "fig.update_layout(title=\"F(γ,β)\", width=700, height=700, yaxis_title=\"β\", xaxis_title=\"γ\")\n",
    "\n",
    "# Display Global Minimium \n",
    "fig.add_trace(\n",
    "    go.Scatter(mode=\"markers\", x=[opt_beta], y=[opt_gamma], marker_symbol=[204], text = [landscape[gamma,beta]],\n",
    "                   marker_color=\"red\",  hovertemplate=\"x: %{x}<br>y: %{y}<br> z: %{text:.2f}<extra></extra>\", \n",
    "                   marker_line_width=1, marker_size=16))"
   ]
  },
  {
   "cell_type": "code",
   "execution_count": 46,
   "id": "5eef23c8",
   "metadata": {},
   "outputs": [],
   "source": [
    "# Display Optimizer Results\n",
    "\n",
    "# Display path \n",
    "#fig.add_trace(\n",
    "#    go.Scatter(mode=\"lines\", x=gammas, y=betas, marker_symbol=[200],\n",
    "#                   marker_color=\"white\", marker_line_width=1, marker_size=8)\n",
    "#)\n",
    "\n",
    "# Display start point\n",
    "#fig.add_trace(\n",
    "#    go.Scatter(mode=\"markers\", x=[gammas[0]], y=[betas[0]], marker_symbol=[204],\n",
    "#                   marker_color=\"gray\", \n",
    "#                   marker_line_width=1, marker_size=16))\n",
    "\n",
    "# Display end point\n",
    "#fig.add_trace(\n",
    "#    go.Scatter(mode=\"markers\", x=[gammas[-1]], y=[betas[-1]], marker_symbol=[204],\n",
    "#                   marker_color=\"green\", \n",
    "#                   marker_line_width=1, marker_size=16))\n",
    "\n"
   ]
  },
  {
   "cell_type": "code",
   "execution_count": 25,
   "id": "5191a47a",
   "metadata": {},
   "outputs": [],
   "source": [
    "# Plot Optimizer History\n",
    "#fig = go.Figure(data=go.Scatter(x=counts, y=values))\n",
    "#fig.update_layout(xaxis_title=\"Evaluation Counts\", yaxis_title=\"Evaluated Mean\", title=\"Optimizer\")\n",
    "#fig.show()"
   ]
  },
  {
   "cell_type": "code",
   "execution_count": null,
   "id": "64b6705c",
   "metadata": {},
   "outputs": [],
   "source": []
  }
 ],
 "metadata": {
  "kernelspec": {
   "display_name": "python3.8",
   "language": "python",
   "name": "python3.8"
  },
  "language_info": {
   "codemirror_mode": {
    "name": "ipython",
    "version": 3
   },
   "file_extension": ".py",
   "mimetype": "text/x-python",
   "name": "python",
   "nbconvert_exporter": "python",
   "pygments_lexer": "ipython3",
   "version": "3.8.6"
  }
 },
 "nbformat": 4,
 "nbformat_minor": 5
}
