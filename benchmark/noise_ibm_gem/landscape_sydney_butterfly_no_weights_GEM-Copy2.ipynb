{
 "cells": [
  {
   "cell_type": "code",
   "execution_count": 1,
   "id": "08c90252",
   "metadata": {},
   "outputs": [],
   "source": [
    "import sys\n",
    "import os\n",
    "sys.path.insert(0, os.path.abspath('../'))\n",
    "sys.path.insert(0, os.path.abspath('../../'))\n",
    "sys.path.insert(0, os.path.abspath('/home/hm-tlacherm/qlm_notebooks/notebooks_1.2.1/notebooks/master_thesis_qaoa/'))\n",
    "sys.path.insert(0, os.path.abspath('/home/hm-tlacherm/qlm_notebooks/notebooks_1.2.1/notebooks/master_thesis_qaoa/ibm/'))"
   ]
  },
  {
   "cell_type": "code",
   "execution_count": 2,
   "id": "d544255f",
   "metadata": {},
   "outputs": [],
   "source": [
    "import numpy as np\n",
    "\n",
    "import qiskit\n",
    "provider = qiskit.IBMQ.load_account()\n",
    "from qiskit import Aer\n",
    "from qiskit.utils import QuantumInstance\n",
    "from qiskit_optimization.algorithms import MinimumEigenOptimizer\n",
    "from qiskit.algorithms import QAOA\n",
    "from shared.QiskitMaxcut import *\n",
    "from ibm.ibm_parameters import *\n",
    "from shared.gem.gem_instance import GEMInstance\n",
    "from shared.gem.gem_quantum_instance import GEMQuantumInstance\n",
    "from matplotlib import pyplot as plt\n",
    "%matplotlib inline"
   ]
  },
  {
   "cell_type": "code",
   "execution_count": 41,
   "id": "c4f3a410",
   "metadata": {},
   "outputs": [
    {
     "name": "stdout",
     "output_type": "stream",
     "text": [
      "graph_05_06_02_w\n"
     ]
    },
    {
     "data": {
      "image/png": "[encoded data removed]",
      "text/plain": [
       "<Figure size 432x288 with 1 Axes>"
      ]
     },
     "metadata": {},
     "output_type": "display_data"
    }
   ],
   "source": [
    "graph = generate_butterfly_graph(with_weights=True)\n",
    "max_cut = Maxcut(graph)\n",
    "max_cut_qubo = max_cut.to_qubo()\n",
    "print(graph.name)\n",
    "max_cut.draw()"
   ]
  },
  {
   "cell_type": "code",
   "execution_count": 62,
   "id": "617f4b75",
   "metadata": {},
   "outputs": [],
   "source": [
    "step_size = 0.1\n",
    "a_gamma = np.arange(0, np.pi, step_size)\n",
    "b_beta = np.arange(0, np.pi, step_size)"
   ]
  },
  {
   "cell_type": "code",
   "execution_count": 63,
   "id": "77c26255",
   "metadata": {},
   "outputs": [
    {
     "data": {
      "text/plain": [
       "32"
      ]
     },
     "execution_count": 63,
     "metadata": {},
     "output_type": "execute_result"
    }
   ],
   "source": [
    "a_gamma, b_beta = np.meshgrid(a_gamma, b_beta)\n",
    "len(a_gamma)"
   ]
  },
  {
   "cell_type": "code",
   "execution_count": 64,
   "id": "7521ba41",
   "metadata": {},
   "outputs": [],
   "source": [
    "def maxcut_obj(x, G):\n",
    "    \"\"\"\n",
    "    Given a bitstring as a solution, this function returns\n",
    "    the number of edges shared between the two partitions\n",
    "    of the graph.\n",
    "    \n",
    "    Args:\n",
    "        x: str\n",
    "           solution bitstring\n",
    "           \n",
    "        G: networkx graph\n",
    "        \n",
    "    Returns:\n",
    "        obj: float\n",
    "             Objective\n",
    "    \"\"\"\n",
    "    obj = 0\n",
    "    for i,j,w in graph.edges.data('weight'):\n",
    "        if x[i] != x[j]:\n",
    "            obj -= w\n",
    "            \n",
    "    return obj\n",
    "\n",
    "\n",
    "def compute_expectation(counts, G):\n",
    "    \n",
    "    \"\"\"\n",
    "    Computes expectation value based on measurement results\n",
    "    \n",
    "    Args:\n",
    "        counts: dict\n",
    "                key as bitstring, val as count\n",
    "           \n",
    "        G: networkx graph\n",
    "        \n",
    "    Returns:\n",
    "        avg: float\n",
    "             expectation value\n",
    "    \"\"\"\n",
    "    \n",
    "    avg = 0\n",
    "    sum_count = 0\n",
    "    for bitstring, count in counts.items():\n",
    "        \n",
    "        obj = maxcut_obj(bitstring, G)\n",
    "        avg += obj * count\n",
    "        sum_count += count\n",
    "        \n",
    "    return avg/sum_count"
   ]
  },
  {
   "cell_type": "code",
   "execution_count": 65,
   "id": "8801995f",
   "metadata": {},
   "outputs": [],
   "source": [
    "import qiskit\n",
    "from qiskit import Aer\n",
    "from qiskit_optimization.algorithms import MinimumEigenOptimizer\n",
    "from qiskit.providers.aer.noise import NoiseModel\n",
    "from qiskit.ignis.mitigation.measurement import CompleteMeasFitter\n",
    "from qiskit.providers.models import BackendConfiguration\n",
    "from helpers.config import *\n",
    "import pickle \n",
    "from shared.gem.gem_quantum_instance import GEMQuantumInstance\n",
    "\n",
    "#\n",
    "# Quantum Instance \n",
    "#\n",
    "DEFAULT_QASM_SIMULATOR = \"qasm_simulator\"\n",
    "NOISE_BACKEND = \"ibmq_toronto\"\n",
    "\n",
    "# Noise \n",
    "noise_model = None \n",
    "coupling_map = None\n",
    "basis_gates = None\n",
    "\n",
    "# create instance depending on config \n",
    "def create_quantum_instance():\n",
    "    from helpers.config import BACKEND\n",
    "\n",
    "    quantum_instance = None\n",
    "    \n",
    "    if BACKEND.value == Backend.Simulator.value:\n",
    "        return GEMQuantumInstance(\n",
    "                                        backend=Aer.get_backend(DEFAULT_QASM_SIMULATOR),\n",
    "                                        shots=SHOTS,\n",
    "                                        )\n",
    "    \n",
    "    if BACKEND.value == Backend.Simulator_Noise_Model.value:\n",
    "        quantum_instance = _create_simulator_with_noise_quantum_instance()\n",
    "        print(\"create noise\")\n",
    "    elif BACKEND.value == Backend.IBMQ_Toronto.value:\n",
    "        raise Exception(\"Quantum Instance with Toronto not implemented!\")\n",
    "    else: \n",
    "        raise Exception(f\"Quantum Instance not instanciated! {BACKEND.value}\")\n",
    "    \n",
    "    return quantum_instance\n",
    "\n",
    "\n",
    "def _init_noise_model_parameters():\n",
    "    global noise_model, coupling_map, basis_gates\n",
    "    if noise_model is None or coupling_map is None or basis_gates is None:\n",
    "        noise_model_filename = f\"helpers/ibmq_toronto_noise_model_dict.pkl\"\n",
    "        noise_model_dict = load_from_pickle(noise_model_filename)\n",
    "        noise_model = NoiseModel.from_dict(noise_model_dict)\n",
    "        basis_gates = noise_model.basis_gates\n",
    "        \n",
    "        noise_backend_configuration_filename = f\"helpers/ibmq_toronto_noise_backend_configuation_dict.pkl\"\n",
    "        noise_backend_configuration_dict = load_from_pickle(noise_backend_configuration_filename)\n",
    "        noise_backend_configuration = BackendConfiguration.from_dict(noise_backend_configuration_dict)\n",
    "        coupling_map = noise_backend_configuration.coupling_map\n",
    "        \n",
    "\n",
    "def _create_simulator_with_noise_quantum_instance():\n",
    "    \n",
    "    _init_noise_model_parameters()\n",
    "    \n",
    "    quantum_instance = QuantumInstance(\n",
    "                                        backend=Aer.get_backend(DEFAULT_QASM_SIMULATOR),\n",
    "                                        shots=SHOTS,\n",
    "                                        noise_model=noise_model,\n",
    "                                        coupling_map=coupling_map,\n",
    "                                        basis_gates=basis_gates,\n",
    "                                        measurement_error_mitigation_cls=CompleteMeasFitter,\n",
    "                                        measurement_error_mitigation_shots=SHOTS,\n",
    "                                        )\n",
    "    return quantum_instance\n",
    "\n",
    "\n",
    "def load_from_pickle(name):\n",
    "    with open(name, 'rb') as f:\n",
    "        return pickle.load(f)\n"
   ]
  },
  {
   "cell_type": "code",
   "execution_count": 66,
   "id": "1defe426",
   "metadata": {},
   "outputs": [
    {
     "name": "stdout",
     "output_type": "stream",
     "text": [
      "create noise\n"
     ]
    }
   ],
   "source": [
    "#quantum_instance = GEMQuantumInstance(\n",
    "#                    #backend=Aer.get_backend(DEFAULT_QASM_SIMULATOR),\n",
    "#                    backend=provider.get_backend('ibmq_sydney'),\n",
    "#                    shots=SHOTS)\n",
    "\n",
    "\n",
    "quantum_instance = create_quantum_instance()\n",
    "\n",
    "qaoa = QAOA(\n",
    "            optimizer=COBYLA(maxiter=0),\n",
    "            quantum_instance=quantum_instance,\n",
    "            reps=1\n",
    "            )\n",
    "\n",
    "op, offset = max_cut_qubo.to_ising()"
   ]
  },
  {
   "cell_type": "code",
   "execution_count": 67,
   "id": "cf2907cd",
   "metadata": {},
   "outputs": [],
   "source": [
    "def create_cirucit(gamma,beta):\n",
    "    circuits = qaoa.construct_circuit([gamma,beta], operator=op)\n",
    "    circuit = circuits[0]\n",
    "    circuit.measure_all()\n",
    "    return circuit"
   ]
  },
  {
   "cell_type": "code",
   "execution_count": null,
   "id": "4355f6c3",
   "metadata": {},
   "outputs": [],
   "source": []
  },
  {
   "cell_type": "code",
   "execution_count": 68,
   "id": "aab936ac",
   "metadata": {},
   "outputs": [],
   "source": [
    "#gem_instance = GEMInstance()"
   ]
  },
  {
   "cell_type": "code",
   "execution_count": 69,
   "id": "d603e055",
   "metadata": {},
   "outputs": [
    {
     "data": {
      "text/html": [
       "<pre style=\"word-wrap: normal;white-space: pre;background: #fff0;line-height: 1.1;font-family: &quot;Courier New&quot;,Courier,monospace\">        ┌───┐     ┌───┐┌──────────────────────┐     ┌───┐┌───┐»\n",
       "   q_0: ┤ H ├─────┤ X ├┤ Rz(4.50000000000000) ├─────┤ X ├┤ X ├»\n",
       "        ├───┤┌───┐└─┬─┘├──────────────────────┤┌───┐└─┬─┘└─┬─┘»\n",
       "   q_1: ┤ H ├┤ X ├──┼──┤ Rz(4.50000000000000) ├┤ X ├──┼────┼──»\n",
       "        ├───┤└─┬─┘  │  └──────────────────────┘└─┬─┘  │    │  »\n",
       "   q_2: ┤ H ├──■────┼────────────────────────────■────┼────┼──»\n",
       "        ├───┤       │                                 │    │  »\n",
       "   q_3: ┤ H ├───────■─────────────────────────────────■────┼──»\n",
       "        ├───┤                                              │  »\n",
       "   q_4: ┤ H ├──────────────────────────────────────────────■──»\n",
       "        └───┘                                                 »\n",
       "meas: 5/══════════════════════════════════════════════════════»\n",
       "                                                              »\n",
       "«        ┌──────────────────────┐┌───┐┌──────────────────────┐»\n",
       "«   q_0: ┤ Rz(3.00000000000000) ├┤ X ├┤ Rx(1.00000000000000) ├»\n",
       "«        └──────────────────────┘└─┬─┘└────────┬───┬─────────┘»\n",
       "«   q_1: ──────────────────────────┼───────────┤ X ├──────────»\n",
       "«                                  │           └─┬─┘          »\n",
       "«   q_2: ──────────────────────────┼─────────────┼────────────»\n",
       "«                                  │             │            »\n",
       "«   q_3: ──────────────────────────┼─────────────┼────────────»\n",
       "«                                  │             │            »\n",
       "«   q_4: ──────────────────────────■─────────────■────────────»\n",
       "«                                                             »\n",
       "«meas: 5/═════════════════════════════════════════════════════»\n",
       "«                                                             »\n",
       "«                                                             »\n",
       "«   q_0: ─────────────────────────────────────────────────────»\n",
       "«        ┌──────────────────────┐┌───┐┌──────────────────────┐»\n",
       "«   q_1: ┤ Rz(5.00000000000000) ├┤ X ├┤ Rx(1.00000000000000) ├»\n",
       "«        └──────────────────────┘└─┬─┘└────────┬───┬─────────┘»\n",
       "«   q_2: ──────────────────────────┼───────────┤ X ├──────────»\n",
       "«                                  │           └─┬─┘          »\n",
       "«   q_3: ──────────────────────────┼─────────────┼────────────»\n",
       "«                                  │             │            »\n",
       "«   q_4: ──────────────────────────■─────────────■────────────»\n",
       "«                                                             »\n",
       "«meas: 5/═════════════════════════════════════════════════════»\n",
       "«                                                             »\n",
       "«                                                             »\n",
       "«   q_0: ─────────────────────────────────────────────────────»\n",
       "«                                                             »\n",
       "«   q_1: ─────────────────────────────────────────────────────»\n",
       "«        ┌──────────────────────┐┌───┐┌──────────────────────┐»\n",
       "«   q_2: ┤ Rz(3.50000000000000) ├┤ X ├┤ Rx(1.00000000000000) ├»\n",
       "«        └──────────────────────┘└─┬─┘└────────┬───┬─────────┘»\n",
       "«   q_3: ──────────────────────────┼───────────┤ X ├──────────»\n",
       "«                                  │           └─┬─┘          »\n",
       "«   q_4: ──────────────────────────■─────────────■────────────»\n",
       "«                                                             »\n",
       "«meas: 5/═════════════════════════════════════════════════════»\n",
       "«                                                             »\n",
       "«                                                              ░ ┌─┐         »\n",
       "«   q_0: ──────────────────────────────────────────────────────░─┤M├─────────»\n",
       "«                                                              ░ └╥┘┌─┐      »\n",
       "«   q_1: ──────────────────────────────────────────────────────░──╫─┤M├──────»\n",
       "«                                                              ░  ║ └╥┘┌─┐   »\n",
       "«   q_2: ──────────────────────────────────────────────────────░──╫──╫─┤M├───»\n",
       "«        ┌──────────────────────┐┌───┐┌──────────────────────┐ ░  ║  ║ └╥┘┌─┐»\n",
       "«   q_3: ┤ Rz(3.50000000000000) ├┤ X ├┤ Rx(1.00000000000000) ├─░──╫──╫──╫─┤M├»\n",
       "«        └──────────────────────┘└─┬─┘├──────────────────────┤ ░  ║  ║  ║ └╥┘»\n",
       "«   q_4: ──────────────────────────■──┤ Rx(1.00000000000000) ├─░──╫──╫──╫──╫─»\n",
       "«                                     └──────────────────────┘ ░  ║  ║  ║  ║ »\n",
       "«meas: 5/═════════════════════════════════════════════════════════╩══╩══╩══╩═»\n",
       "«                                                                 0  1  2  3 »\n",
       "«           \n",
       "«   q_0: ───\n",
       "«           \n",
       "«   q_1: ───\n",
       "«           \n",
       "«   q_2: ───\n",
       "«           \n",
       "«   q_3: ───\n",
       "«        ┌─┐\n",
       "«   q_4: ┤M├\n",
       "«        └╥┘\n",
       "«meas: 5/═╩═\n",
       "«         4 </pre>"
      ],
      "text/plain": [
       "        ┌───┐     ┌───┐┌──────────────────────┐     ┌───┐┌───┐»\n",
       "   q_0: ┤ H ├─────┤ X ├┤ Rz(4.50000000000000) ├─────┤ X ├┤ X ├»\n",
       "        ├───┤┌───┐└─┬─┘├──────────────────────┤┌───┐└─┬─┘└─┬─┘»\n",
       "   q_1: ┤ H ├┤ X ├──┼──┤ Rz(4.50000000000000) ├┤ X ├──┼────┼──»\n",
       "        ├───┤└─┬─┘  │  └──────────────────────┘└─┬─┘  │    │  »\n",
       "   q_2: ┤ H ├──■────┼────────────────────────────■────┼────┼──»\n",
       "        ├───┤       │                                 │    │  »\n",
       "   q_3: ┤ H ├───────■─────────────────────────────────■────┼──»\n",
       "        ├───┤                                              │  »\n",
       "   q_4: ┤ H ├──────────────────────────────────────────────■──»\n",
       "        └───┘                                                 »\n",
       "meas: 5/══════════════════════════════════════════════════════»\n",
       "                                                              »\n",
       "«        ┌──────────────────────┐┌───┐┌──────────────────────┐»\n",
       "«   q_0: ┤ Rz(3.00000000000000) ├┤ X ├┤ Rx(1.00000000000000) ├»\n",
       "«        └──────────────────────┘└─┬─┘└────────┬───┬─────────┘»\n",
       "«   q_1: ──────────────────────────┼───────────┤ X ├──────────»\n",
       "«                                  │           └─┬─┘          »\n",
       "«   q_2: ──────────────────────────┼─────────────┼────────────»\n",
       "«                                  │             │            »\n",
       "«   q_3: ──────────────────────────┼─────────────┼────────────»\n",
       "«                                  │             │            »\n",
       "«   q_4: ──────────────────────────■─────────────■────────────»\n",
       "«                                                             »\n",
       "«meas: 5/═════════════════════════════════════════════════════»\n",
       "«                                                             »\n",
       "«                                                             »\n",
       "«   q_0: ─────────────────────────────────────────────────────»\n",
       "«        ┌──────────────────────┐┌───┐┌──────────────────────┐»\n",
       "«   q_1: ┤ Rz(5.00000000000000) ├┤ X ├┤ Rx(1.00000000000000) ├»\n",
       "«        └──────────────────────┘└─┬─┘└────────┬───┬─────────┘»\n",
       "«   q_2: ──────────────────────────┼───────────┤ X ├──────────»\n",
       "«                                  │           └─┬─┘          »\n",
       "«   q_3: ──────────────────────────┼─────────────┼────────────»\n",
       "«                                  │             │            »\n",
       "«   q_4: ──────────────────────────■─────────────■────────────»\n",
       "«                                                             »\n",
       "«meas: 5/═════════════════════════════════════════════════════»\n",
       "«                                                             »\n",
       "«                                                             »\n",
       "«   q_0: ─────────────────────────────────────────────────────»\n",
       "«                                                             »\n",
       "«   q_1: ─────────────────────────────────────────────────────»\n",
       "«        ┌──────────────────────┐┌───┐┌──────────────────────┐»\n",
       "«   q_2: ┤ Rz(3.50000000000000) ├┤ X ├┤ Rx(1.00000000000000) ├»\n",
       "«        └──────────────────────┘└─┬─┘└────────┬───┬─────────┘»\n",
       "«   q_3: ──────────────────────────┼───────────┤ X ├──────────»\n",
       "«                                  │           └─┬─┘          »\n",
       "«   q_4: ──────────────────────────■─────────────■────────────»\n",
       "«                                                             »\n",
       "«meas: 5/═════════════════════════════════════════════════════»\n",
       "«                                                             »\n",
       "«                                                              ░ ┌─┐         »\n",
       "«   q_0: ──────────────────────────────────────────────────────░─┤M├─────────»\n",
       "«                                                              ░ └╥┘┌─┐      »\n",
       "«   q_1: ──────────────────────────────────────────────────────░──╫─┤M├──────»\n",
       "«                                                              ░  ║ └╥┘┌─┐   »\n",
       "«   q_2: ──────────────────────────────────────────────────────░──╫──╫─┤M├───»\n",
       "«        ┌──────────────────────┐┌───┐┌──────────────────────┐ ░  ║  ║ └╥┘┌─┐»\n",
       "«   q_3: ┤ Rz(3.50000000000000) ├┤ X ├┤ Rx(1.00000000000000) ├─░──╫──╫──╫─┤M├»\n",
       "«        └──────────────────────┘└─┬─┘├──────────────────────┤ ░  ║  ║  ║ └╥┘»\n",
       "«   q_4: ──────────────────────────■──┤ Rx(1.00000000000000) ├─░──╫──╫──╫──╫─»\n",
       "«                                     └──────────────────────┘ ░  ║  ║  ║  ║ »\n",
       "«meas: 5/═════════════════════════════════════════════════════════╩══╩══╩══╩═»\n",
       "«                                                                 0  1  2  3 »\n",
       "«           \n",
       "«   q_0: ───\n",
       "«           \n",
       "«   q_1: ───\n",
       "«           \n",
       "«   q_2: ───\n",
       "«           \n",
       "«   q_3: ───\n",
       "«        ┌─┐\n",
       "«   q_4: ┤M├\n",
       "«        └╥┘\n",
       "«meas: 5/═╩═\n",
       "«         4 "
      ]
     },
     "execution_count": 69,
     "metadata": {},
     "output_type": "execute_result"
    }
   ],
   "source": [
    "first_circuit = create_cirucit(0.5,0.5)\n",
    "first_circuit.draw()"
   ]
  },
  {
   "cell_type": "code",
   "execution_count": 70,
   "id": "61e1469d",
   "metadata": {},
   "outputs": [],
   "source": [
    "#mg = gem_instance.get_gem_matrix(first_circuit, quantum_instance)"
   ]
  },
  {
   "cell_type": "code",
   "execution_count": 71,
   "id": "8ad3a2e6",
   "metadata": {},
   "outputs": [],
   "source": [
    "#quantum_instance.MG = mg\n",
    "#mg"
   ]
  },
  {
   "cell_type": "code",
   "execution_count": 72,
   "id": "7aa92597",
   "metadata": {},
   "outputs": [
    {
     "name": "stdout",
     "output_type": "stream",
     "text": [
      "graph_05_06_02_w_gem_row_0\n",
      "graph_05_06_02_w_gem_row_1\n",
      "graph_05_06_02_w_gem_row_2\n",
      "graph_05_06_02_w_gem_row_3\n",
      "graph_05_06_02_w_gem_row_4\n",
      "graph_05_06_02_w_gem_row_5\n",
      "graph_05_06_02_w_gem_row_6\n",
      "graph_05_06_02_w_gem_row_7\n",
      "graph_05_06_02_w_gem_row_8\n",
      "graph_05_06_02_w_gem_row_9\n",
      "graph_05_06_02_w_gem_row_10\n",
      "graph_05_06_02_w_gem_row_11\n",
      "graph_05_06_02_w_gem_row_12\n",
      "graph_05_06_02_w_gem_row_13\n",
      "graph_05_06_02_w_gem_row_14\n",
      "graph_05_06_02_w_gem_row_15\n",
      "graph_05_06_02_w_gem_row_16\n",
      "graph_05_06_02_w_gem_row_17\n",
      "graph_05_06_02_w_gem_row_18\n",
      "graph_05_06_02_w_gem_row_19\n",
      "graph_05_06_02_w_gem_row_20\n",
      "graph_05_06_02_w_gem_row_21\n",
      "graph_05_06_02_w_gem_row_22\n",
      "graph_05_06_02_w_gem_row_23\n",
      "graph_05_06_02_w_gem_row_24\n",
      "graph_05_06_02_w_gem_row_25\n",
      "graph_05_06_02_w_gem_row_26\n",
      "graph_05_06_02_w_gem_row_27\n",
      "graph_05_06_02_w_gem_row_28\n",
      "graph_05_06_02_w_gem_row_29\n",
      "graph_05_06_02_w_gem_row_30\n",
      "graph_05_06_02_w_gem_row_31\n"
     ]
    }
   ],
   "source": [
    "landscape = np.zeros(a_gamma.shape)\n",
    "\n",
    "for i in range(0, len(landscape)):\n",
    "    circuits = []\n",
    "    for j in range(0, len(landscape)):\n",
    "        # create circuits for entire row \n",
    "        circuit = create_cirucit(a_gamma[i][j], b_beta[i][j])\n",
    "        circuits.append(circuit)\n",
    "        \n",
    "    \n",
    "    # create one job with circuits \n",
    "    job_name = f\"{graph.name}_gem_row_{i}\"\n",
    "    job = quantum_instance.execute(circuits)\n",
    "    #job.update_name(job_name)\n",
    "    print(job_name)\n",
    "    #print(job)\n",
    "    \n",
    "    # add results to landscape \n",
    "    k = 0\n",
    "    for count in job.get_counts():\n",
    "        mean = compute_expectation(count, graph)\n",
    "        landscape[i,k % 32] = mean\n",
    "        k += 1\n"
   ]
  },
  {
   "cell_type": "code",
   "execution_count": 73,
   "id": "0318681e",
   "metadata": {},
   "outputs": [
    {
     "name": "stdout",
     "output_type": "stream",
     "text": [
      "[[-23.74414062 -23.75097656 -23.91894531 ... -24.18554688 -24.01074219\n",
      "  -23.88476562]\n",
      " [-24.01612786 -22.48083678 -23.77800549 ... -24.78540526 -23.29354716\n",
      "  -24.09013468]\n",
      " [-24.01337728 -19.61391886 -22.70777524 ... -24.5516965  -24.32980365\n",
      "  -24.11153738]\n",
      " ...\n",
      " [-23.55500835 -26.27919912 -23.08495165 ... -23.89439975 -25.10690766\n",
      "  -23.68246813]\n",
      " [-23.98901538 -26.3639009  -23.4289634  ... -23.7640173  -25.20603332\n",
      "  -23.77352485]\n",
      " [-23.93808213 -24.46441301 -23.79380736 ... -23.75561637 -24.05855433\n",
      "  -23.75489757]]\n"
     ]
    },
    {
     "data": {
      "image/png": "[encoded data removed]",
      "text/plain": [
       "<Figure size 288x288 with 1 Axes>"
      ]
     },
     "metadata": {
      "needs_background": "light"
     },
     "output_type": "display_data"
    }
   ],
   "source": [
    "print(landscape)\n",
    "plt.matshow(landscape)\n",
    "plt.show()"
   ]
  },
  {
   "cell_type": "code",
   "execution_count": 74,
   "id": "f92be730",
   "metadata": {},
   "outputs": [
    {
     "data": {
      "text/plain": [
       "-23.531126274425013"
      ]
     },
     "execution_count": 74,
     "metadata": {},
     "output_type": "execute_result"
    }
   ],
   "source": [
    "# Mean of landscape\n",
    "np.mean(landscape)"
   ]
  },
  {
   "cell_type": "code",
   "execution_count": 75,
   "id": "bb03a5a4",
   "metadata": {},
   "outputs": [
    {
     "data": {
      "text/plain": [
       "-28.810848773299867"
      ]
     },
     "execution_count": 75,
     "metadata": {},
     "output_type": "execute_result"
    }
   ],
   "source": [
    "# Minimium \n",
    "np.min(landscape)"
   ]
  },
  {
   "cell_type": "code",
   "execution_count": 76,
   "id": "be4164d7",
   "metadata": {},
   "outputs": [
    {
     "data": {
      "text/plain": [
       "(11, 5)"
      ]
     },
     "execution_count": 76,
     "metadata": {},
     "output_type": "execute_result"
    }
   ],
   "source": [
    "# Display Coordinates of Minimum \n",
    "np.unravel_index(np.argmin(landscape), landscape.shape)"
   ]
  },
  {
   "cell_type": "code",
   "execution_count": 77,
   "id": "d345481d",
   "metadata": {},
   "outputs": [
    {
     "name": "stdout",
     "output_type": "stream",
     "text": [
      "Opt.Gamma: 1.1, Opt.Beta: 0.5\n"
     ]
    }
   ],
   "source": [
    "# Gamma and beta value of Minimium\n",
    "gamma, beta = np.unravel_index(np.argmin(landscape), landscape.shape)\n",
    "opt_gamma = gamma * step_size\n",
    "opt_beta = beta * step_size\n",
    "print(f\"Opt.Gamma: {opt_gamma}, Opt.Beta: {opt_beta}\")"
   ]
  },
  {
   "cell_type": "code",
   "execution_count": 78,
   "id": "3aeb645a",
   "metadata": {},
   "outputs": [],
   "source": [
    "# Save result matrix \n",
    "with open('landscape_toronto_noise_model_butterfly_weights_em_results.npy', 'wb') as f:\n",
    "    np.save(f, landscape)"
   ]
  },
  {
   "cell_type": "code",
   "execution_count": 79,
   "id": "143a3a5b",
   "metadata": {},
   "outputs": [],
   "source": [
    "import plotly.graph_objects as go"
   ]
  },
  {
   "cell_type": "code",
   "execution_count": 80,
   "id": "a4a70fc8",
   "metadata": {},
   "outputs": [
    {
     "data": {
      "application/vnd.plotly.v1+json": {
       "config": {
        "plotlyServerURL": "https://plot.ly"
       },
       "data": [
        {
         "contours": {
          "z": {
           "highlightcolor": "limegreen",
           "project": {
            "z": true
           },
           "show": true,
           "usecolormap": true
          }
         },
         "type": "surface",
         "x": [
          0,
          0.1,
          0.2,
          0.30000000000000004,
          0.4,
          0.5,
          0.6000000000000001,
          0.7000000000000001,
          0.8,
          0.9,
          1,
          1.1,
          1.2000000000000002,
          1.3,
          1.4000000000000001,
          1.5,
          1.6,
          1.7000000000000002,
          1.8,
          1.9000000000000001,
          2,
          2.1,
          2.2,
          2.3000000000000003,
          2.4000000000000004,
          2.5,
          2.6,
          2.7,
          2.8000000000000003,
          2.9000000000000004,
          3,
          3.1
         ],
         "y": [
          0,
          0.1,
          0.2,
          0.30000000000000004,
          0.4,
          0.5,
          0.6000000000000001,
          0.7000000000000001,
          0.8,
          0.9,
          1,
          1.1,
          1.2000000000000002,
          1.3,
          1.4000000000000001,
          1.5,
          1.6,
          1.7000000000000002,
          1.8,
          1.9000000000000001,
          2,
          2.1,
          2.2,
          2.3000000000000003,
          2.4000000000000004,
          2.5,
          2.6,
          2.7,
          2.8000000000000003,
          2.9000000000000004,
          3,
          3.1
         ],
         "z": [
          [
           -23.744140625,
           -23.7509765625,
           -23.9189453125,
           -23.9111328125,
           -24.0791015625,
           -23.1357421875,
           -23.2666015625,
           -23.7529296875,
           -24.0654296875,
           -23.6796875,
           -24.1806640625,
           -23.8837890625,
           -23.5439453125,
           -24.4111328125,
           -23.669921875,
           -23.8193359375,
           -24.2294921875,
           -23.44921875,
           -24.0478515625,
           -23.71484375,
           -24.025390625,
           -23.677734375,
           -24.1083984375,
           -23.4306640625,
           -23.666015625,
           -24.3623046875,
           -24.1708984375,
           -23.2021484375,
           -23.2109375,
           -24.185546875,
           -24.0107421875,
           -23.884765625
          ],
          [
           -24.01612785576577,
           -22.48083678037331,
           -23.77800549232136,
           -24.376007898717013,
           -22.784652369262226,
           -21.409171190518958,
           -23.54645230850287,
           -23.761799624310626,
           -22.58147435991155,
           -21.92401223349437,
           -23.254615923767933,
           -23.411738052331536,
           -23.750265534334066,
           -22.07293695271466,
           -23.49067641838097,
           -23.91410350482074,
           -24.1915891259959,
           -22.07727045728518,
           -23.235554123085134,
           -24.76146785637121,
           -24.566998624581966,
           -22.296112979832817,
           -23.93659528779814,
           -24.90823584020485,
           -23.799414721334475,
           -24.008374650845255,
           -24.181670015895396,
           -23.80597858266223,
           -24.559233544276413,
           -24.785405261590746,
           -23.293547155969136,
           -24.090134676267205
          ],
          [
           -24.01337728385464,
           -19.613918861011058,
           -22.707775240363546,
           -24.088022120766148,
           -21.463942354885724,
           -20.073855761871055,
           -22.856879493337853,
           -22.47805014397124,
           -22.442287678953143,
           -21.403250639491805,
           -21.51055809968625,
           -23.072986962573804,
           -23.251409402656176,
           -21.528911725486807,
           -22.713387809513208,
           -25.152585658123108,
           -24.021639554199268,
           -20.275493581872695,
           -22.25848990152261,
           -26.45386604932371,
           -24.361496005947526,
           -22.287347345942294,
           -24.1653241975174,
           -25.60928025108688,
           -23.847928030627546,
           -24.18289310163524,
           -23.882718073524178,
           -24.02032173352959,
           -24.906671876760523,
           -24.55169650203435,
           -24.32980365483967,
           -24.111537377910636
          ],
          [
           -23.72500010783011,
           -19.015186466548926,
           -22.761426846161154,
           -23.143708866828614,
           -21.62970585379257,
           -18.54121789890711,
           -22.137285982727327,
           -21.257171158773218,
           -21.06334422116156,
           -19.873222951572927,
           -21.580870286654964,
           -22.738130824984555,
           -22.897762661474914,
           -20.510696150585623,
           -21.912657711256372,
           -25.53650405369854,
           -24.2484964521613,
           -18.900478852283303,
           -22.52204590406119,
           -27.026487092674977,
           -24.53794655689368,
           -20.78357592838978,
           -24.18383663496146,
           -25.57378282691643,
           -24.325714634917386,
           -23.703455141642827,
           -25.288468598243007,
           -24.911767823536916,
           -23.920407519906906,
           -25.847078612650723,
           -24.58571817324373,
           -23.87674885011724
          ],
          [
           -24.29750805854982,
           -17.03213071659603,
           -21.80023551185342,
           -22.52497510544792,
           -21.10161803301188,
           -18.18957728257087,
           -21.57259712821211,
           -20.189164500516405,
           -20.237398470560446,
           -19.584795748347002,
           -21.680435583120357,
           -21.694013183269078,
           -21.928512363939564,
           -19.562378767367015,
           -22.035578017332426,
           -26.014048612286054,
           -23.83852611663582,
           -18.06306527423989,
           -22.364376603342084,
           -27.786372002409085,
           -25.299281494811247,
           -20.885323543450937,
           -23.815844524229004,
           -26.761307026867254,
           -25.851878077223972,
           -24.438308266652207,
           -25.353696380692988,
           -25.534903532284506,
           -25.162115644800753,
           -26.04698305668118,
           -24.922093365539475,
           -23.718159361807462
          ],
          [
           -23.83791740227492,
           -17.297301575526607,
           -21.05015412166019,
           -20.580854844512963,
           -21.53944321769234,
           -18.534405687118575,
           -20.621836376023214,
           -18.783090720913773,
           -20.926051670258623,
           -20.28753849188584,
           -22.1144650455577,
           -20.882987073651343,
           -21.77549534100241,
           -19.51468607669556,
           -21.410139398349365,
           -26.983872060993985,
           -23.64067403607652,
           -16.778952451863415,
           -22.291426295332407,
           -28.189388881225426,
           -25.530258602722704,
           -20.137943372789245,
           -24.19706108824422,
           -26.79952558056587,
           -26.38144213264267,
           -24.396887172113345,
           -25.512345076412153,
           -25.18578384669471,
           -25.622316924870635,
           -26.1098537763727,
           -25.60280171239036,
           -24.105236111239215
          ],
          [
           -23.882353759435855,
           -17.577229274974457,
           -20.79371701951315,
           -19.629003752159807,
           -22.087177175585822,
           -19.842458716387977,
           -20.786572058815512,
           -17.743299248304005,
           -21.21190830737812,
           -20.94922999679433,
           -21.92439920328339,
           -20.876680391897473,
           -20.33462199891872,
           -19.708267310978403,
           -21.230693299931076,
           -26.821107430349855,
           -22.9164190465825,
           -16.661455507200948,
           -22.236735924149148,
           -28.40943130702952,
           -25.561809576504302,
           -20.33605423281595,
           -24.317556445804087,
           -26.22800803818332,
           -27.427187633072812,
           -24.713746700477753,
           -25.314049918312808,
           -24.2119331111934,
           -26.09899165160852,
           -26.248794506801772,
           -26.386665330279946,
           -24.09177240491883
          ],
          [
           -23.30411726004399,
           -18.8917264147643,
           -20.647019807700623,
           -18.115353255806884,
           -23.788713360078255,
           -21.438500881382218,
           -19.69943622965629,
           -17.96832714170917,
           -21.072078918924,
           -22.257346268393075,
           -22.21775475439463,
           -20.946057957545307,
           -19.437436334691462,
           -21.152644892996893,
           -22.381601741779452,
           -26.075306211782927,
           -22.377958969462245,
           -17.171606815235698,
           -22.687947598993418,
           -28.377864695917268,
           -26.13780268238564,
           -20.54290373215931,
           -23.486838960494982,
           -25.712899945731458,
           -27.67510887708007,
           -24.79329946337093,
           -25.617397306185396,
           -24.014917713692853,
           -26.646783996169365,
           -26.539050379065596,
           -26.880461397283362,
           -23.8816378249532
          ],
          [
           -24.097205712516857,
           -20.03936034555319,
           -20.411250457583627,
           -17.207235926025504,
           -24.816105293168462,
           -23.543839105052538,
           -20.88308532904891,
           -17.646636527019112,
           -21.62089968488122,
           -24.54110144456368,
           -22.67513666099607,
           -21.1205836206686,
           -20.720456359108447,
           -21.780667165363045,
           -23.386143182380902,
           -25.951929028881207,
           -21.633016178524862,
           -19.93341472664845,
           -22.8785460099191,
           -27.35833789435555,
           -25.584231233691877,
           -22.06289129457283,
           -23.53332699289448,
           -24.492347746602768,
           -28.458741785780642,
           -25.060560264080447,
           -25.859367834075776,
           -24.064946388611812,
           -26.377480187316536,
           -26.643831994149835,
           -26.906325670681017,
           -23.902812042162093
          ],
          [
           -25.002698755527312,
           -21.914199755017208,
           -20.55628934111912,
           -16.485946142117974,
           -25.563064303044953,
           -25.235526048991133,
           -21.88640007131193,
           -17.767598872066085,
           -22.91591122222504,
           -26.142389042803842,
           -24.318672748168584,
           -20.52346041490403,
           -19.784486375143302,
           -23.377457804797718,
           -23.70272795278219,
           -26.310216930713114,
           -21.463277737549657,
           -20.34987138362529,
           -23.464228194581278,
           -26.473553938634954,
           -25.607811452428745,
           -22.11558332834471,
           -23.913595830901702,
           -23.972448764149853,
           -28.544647206770765,
           -24.817692227481302,
           -25.01492278418328,
           -24.509311348718622,
           -26.945955731684133,
           -25.67443049808174,
           -27.229289894393915,
           -24.37634443847786
          ],
          [
           -23.79110159180097,
           -24.215462476224264,
           -21.566315059850854,
           -17.36649991895169,
           -26.434091519315032,
           -26.725255246583572,
           -22.789992668998014,
           -18.716978278907984,
           -23.995058785241035,
           -26.637497970010124,
           -24.575508796247604,
           -21.692230454118743,
           -20.304219697111066,
           -24.17508228298033,
           -25.263678721573207,
           -25.42527172610003,
           -21.90626995001146,
           -22.0018257868456,
           -22.949079183759853,
           -25.295828608007813,
           -25.907930374346513,
           -23.87291853986538,
           -23.117047697678224,
           -24.626942641948474,
           -27.63277119739324,
           -25.01117068060317,
           -25.063282891888544,
           -23.398837158422477,
           -26.230234375516886,
           -25.472427052325724,
           -26.27386154363699,
           -23.71838971702926
          ],
          [
           -24.393653359818334,
           -26.046976232787213,
           -22.341207748089396,
           -17.598835762864773,
           -27.152964115235914,
           -28.810848773299867,
           -22.94097748059154,
           -20.293137553634843,
           -24.358719929777813,
           -28.0146193472413,
           -26.64581887575737,
           -22.023910804450843,
           -21.235743114363036,
           -25.85546717944922,
           -26.1884529640668,
           -23.859090126130344,
           -21.85193442565412,
           -23.802958081250875,
           -24.26068367297392,
           -23.946717149519255,
           -24.312977729817312,
           -24.78025851650009,
           -23.176233665917806,
           -23.25508193445164,
           -26.99390066868505,
           -24.937682401626958,
           -24.018391183957547,
           -22.875262012597293,
           -25.857177354903264,
           -24.243282034459362,
           -26.21331491767517,
           -24.55254572725345
          ],
          [
           -24.300919317911024,
           -26.594577021813826,
           -22.213933567708846,
           -18.94622356603494,
           -27.12807113062822,
           -28.682166916968804,
           -23.29012307421017,
           -21.324597623010288,
           -24.43508639762462,
           -28.10131085178224,
           -25.506235968261542,
           -23.126592733957267,
           -22.007800983797853,
           -25.879780909140038,
           -26.10079925133346,
           -23.754374639070882,
           -21.87062920685762,
           -24.31329644157155,
           -24.42310400979605,
           -22.856123630160642,
           -24.614074845960772,
           -24.93411433545292,
           -23.243397113188568,
           -22.711381299066723,
           -26.50727282577425,
           -24.699302497175765,
           -23.665303741087293,
           -23.65682836460127,
           -25.013446278957108,
           -24.401639911314,
           -26.35146983353358,
           -24.300950950678814
          ],
          [
           -24.016728269370848,
           -26.638394122509396,
           -23.029381899684807,
           -20.939183082939227,
           -26.17006709729868,
           -28.78905175953079,
           -23.797595956518954,
           -22.055149918104117,
           -25.123914842516903,
           -27.914924429516155,
           -25.809685751369827,
           -23.157081813166275,
           -23.856482603516234,
           -26.23853708701744,
           -25.70937543408038,
           -23.197206577588442,
           -22.167279467870802,
           -25.39414164967453,
           -23.822409977444504,
           -23.544149066219752,
           -24.37846259315988,
           -25.15982891702493,
           -22.96203830385152,
           -22.27506466440394,
           -24.758048056214992,
           -23.902510804265138,
           -23.080887588607812,
           -23.08969899747836,
           -24.798791178620387,
           -23.688239595321726,
           -25.291087665968984,
           -24.085290566930325
          ],
          [
           -23.54069252029293,
           -26.662538786431536,
           -23.83895364822649,
           -21.32808523647981,
           -25.140284693038637,
           -27.464229713045036,
           -24.273541551617654,
           -22.931838160737424,
           -24.987555545571126,
           -26.32895597842758,
           -25.17502949827274,
           -23.37935616385251,
           -24.024128922036912,
           -25.62826964801142,
           -25.268453920948094,
           -23.307512589507493,
           -22.60756730493954,
           -25.603757026004338,
           -23.634662519648618,
           -23.167390111893997,
           -24.255221702141615,
           -25.34481628485035,
           -23.49186397102229,
           -22.60550983444115,
           -23.975651429181998,
           -23.75205731858236,
           -24.004404780755014,
           -23.19564609306231,
           -23.61867479294525,
           -23.32513360443083,
           -24.69201054440321,
           -24.14368297917253
          ],
          [
           -24.30380554332263,
           -25.1648010980375,
           -24.3694937841651,
           -23.443499083151885,
           -24.871893979919022,
           -25.619689897616148,
           -23.853918769286555,
           -23.30729394542477,
           -24.645542788948326,
           -25.272826038339737,
           -24.22900855614714,
           -24.321467853478882,
           -24.457948448791228,
           -24.85869302014966,
           -24.594845805449676,
           -23.366642116601913,
           -23.13509908949938,
           -23.98552276108408,
           -23.521725115158226,
           -23.420639043847498,
           -23.840437141403406,
           -24.607790692020288,
           -23.764706689840146,
           -23.471456819183377,
           -24.73120061616575,
           -23.989134138297317,
           -23.631474976906333,
           -23.695807818939375,
           -24.386564679564902,
           -23.391530557142485,
           -23.906491842623815,
           -24.055895419453798
          ],
          [
           -24.205706606856616,
           -23.062721128992077,
           -23.738356003571887,
           -24.54074975075174,
           -23.41915754574562,
           -23.350868857156716,
           -23.747040382112058,
           -24.058538447604665,
           -23.421211557099078,
           -24.242345587654587,
           -23.876688698320798,
           -24.319543438687184,
           -23.605187286176296,
           -23.652643756311708,
           -23.58887200872445,
           -24.124985116684133,
           -24.31838260496694,
           -23.997870801088386,
           -23.159949317733208,
           -23.58145935637301,
           -23.269691455105345,
           -23.331438314581952,
           -24.243739089546974,
           -24.489447254117536,
           -24.09438562820815,
           -23.822952114662385,
           -24.276348626825087,
           -24.19120027525472,
           -23.774352283008906,
           -23.886197597555185,
           -23.724739371994602,
           -23.615786306341587
          ],
          [
           -24.002134847159404,
           -20.680647434290616,
           -24.036415406493493,
           -24.73663621898486,
           -22.623909934575533,
           -21.239936536024548,
           -23.044746980339156,
           -22.99838583531013,
           -22.993548012138735,
           -22.027246745791903,
           -23.288697997463537,
           -23.73434401352815,
           -23.665361368041697,
           -22.044929063052244,
           -22.709929297938,
           -25.13639487432093,
           -24.154635834157915,
           -22.25140248419619,
           -23.370257431880145,
           -25.19724316907935,
           -24.64038710606947,
           -22.843595577619777,
           -23.38390660943825,
           -25.254742866433958,
           -23.737979727571307,
           -23.64238026415706,
           -24.3228594497808,
           -24.19875470220107,
           -24.54604168245831,
           -24.90247946365284,
           -23.98954118403083,
           -24.1134050057914
          ],
          [
           -23.820925873607035,
           -19.886804367584784,
           -23.706167012588683,
           -23.890193653900795,
           -22.252899644136054,
           -19.672692454110695,
           -22.622146186635295,
           -22.38623705586391,
           -22.39605049545526,
           -21.05498811144716,
           -22.09193618895095,
           -23.022966461314272,
           -23.629037892581238,
           -20.363506265506178,
           -22.20953778814882,
           -25.709448005092142,
           -24.190255432900535,
           -19.76809405289612,
           -22.70117929595947,
           -26.073682625181434,
           -25.054946921666517,
           -21.807699211752734,
           -24.056037974602187,
           -25.157132760502,
           -25.1048886697518,
           -24.35328373024745,
           -24.57548062320076,
           -24.83039535068572,
           -24.411029243579982,
           -25.269499898357875,
           -22.846168332554875,
           -23.969038949989667
          ],
          [
           -24.174053266484876,
           -17.797400039264705,
           -22.242761561676705,
           -23.190706450638377,
           -21.421790401130156,
           -18.018828744976684,
           -21.741886383140287,
           -20.54549915768625,
           -21.17134518481297,
           -20.527889723871333,
           -21.085709219949376,
           -22.457088369197933,
           -22.28292906127991,
           -19.332736738171135,
           -22.265950990532843,
           -25.946984406330195,
           -23.86038094384798,
           -19.53923141215571,
           -22.029917386345858,
           -27.69643810142124,
           -25.345927196642396,
           -20.786309153016965,
           -24.082210099108934,
           -26.365590692292017,
           -24.578574984943742,
           -23.939863471944197,
           -25.446805002066046,
           -24.434540002395106,
           -24.830287979326965,
           -25.781983102975257,
           -24.93723867827783,
           -24.137855111435087
          ],
          [
           -24.27591698985429,
           -16.84892812144973,
           -21.24893986405599,
           -22.06796228828231,
           -22.336557583938486,
           -18.200333960510264,
           -20.460550238333532,
           -19.91015240026874,
           -21.015791502791576,
           -20.632987735183217,
           -21.087384274842794,
           -21.91659611641648,
           -22.67018086414603,
           -18.509172816661653,
           -21.93506823807938,
           -26.72334025972534,
           -24.212848261134,
           -18.170147613412507,
           -22.22766030461203,
           -28.767747731192337,
           -24.73000730298946,
           -19.540240264997788,
           -23.751082296102172,
           -26.457253085650724,
           -26.159717874365718,
           -24.260044535693602,
           -25.564316589335085,
           -25.511585151748395,
           -25.69383803979209,
           -26.4816449045447,
           -25.97690207106922,
           -23.974188938944902
          ],
          [
           -24.151448743115072,
           -17.489938006631707,
           -21.23044946960691,
           -20.171436804824125,
           -22.052808495077485,
           -18.13013599666728,
           -20.540377279209608,
           -18.63173884703398,
           -20.659247504053848,
           -20.26296225915486,
           -21.969197787758134,
           -20.953964165513977,
           -20.935646681608937,
           -19.44147305855068,
           -21.94799485355376,
           -26.521105513061404,
           -23.02187586844831,
           -16.6113995452649,
           -21.694601816591412,
           -28.493100508448666,
           -25.57907946274242,
           -19.59138502501984,
           -24.20393896567232,
           -25.490443573657537,
           -26.869542269885578,
           -24.365032796664767,
           -26.226884070626934,
           -25.290057192891233,
           -26.22520052402715,
           -27.14797468645504,
           -25.295229370921874,
           -24.341650115866333
          ],
          [
           -24.763014816835966,
           -17.143811416325033,
           -21.18885609201868,
           -19.02293539715784,
           -21.737464707189904,
           -20.489109769527722,
           -20.930771741034064,
           -17.935913951024936,
           -20.866336441979474,
           -22.732940281753326,
           -22.490992483630727,
           -20.73852681754535,
           -20.07784384050436,
           -20.41511343948458,
           -21.903066898370877,
           -26.470234019430002,
           -23.500501747556324,
           -17.34964414232448,
           -21.8318864114687,
           -28.166426610499283,
           -26.107220371718842,
           -20.09326256380334,
           -23.681787128038085,
           -26.54331911248045,
           -27.796999428246558,
           -24.897214460096976,
           -25.605497792110576,
           -24.108584312881764,
           -26.215010791169185,
           -26.636948887459692,
           -26.103305570071253,
           -24.369861176397286
          ],
          [
           -24.08241653517446,
           -19.717008292355167,
           -19.989700771491567,
           -17.652036634502476,
           -23.58381602072442,
           -21.919431832933796,
           -20.320475929528364,
           -17.368963120503725,
           -20.662196861953742,
           -22.276321924199856,
           -22.363211259836472,
           -20.08187035476869,
           -20.931001776717135,
           -21.40293742138239,
           -22.666790418660987,
           -26.109784783797622,
           -21.500081663839552,
           -18.057184607314305,
           -23.1816968262444,
           -28.25847981038025,
           -26.003868049018134,
           -20.932516448495182,
           -23.758676500757797,
           -25.797533593018375,
           -27.89579423441034,
           -24.100404987112682,
           -25.71488513605066,
           -24.408820645016252,
           -26.209061904567694,
           -26.691079393236276,
           -26.495485505863982,
           -24.381059421549352
          ],
          [
           -24.60020704863508,
           -20.99574975468712,
           -19.887958387604925,
           -15.911059955596299,
           -24.720565490857084,
           -24.066681458051978,
           -20.665783654650784,
           -17.019477890796608,
           -22.244958553516994,
           -24.752310501691326,
           -22.999031391494487,
           -20.267085228205097,
           -19.64646821075604,
           -22.11605948124121,
           -23.384006323827,
           -25.8831018701171,
           -21.88220816925129,
           -19.442529456000596,
           -22.782579198233982,
           -27.045272889953637,
           -25.54463103056204,
           -22.042881632411913,
           -23.68886369331631,
           -25.244750134004278,
           -28.089670106330665,
           -25.01052602410434,
           -25.20876226027345,
           -24.550428744404254,
           -26.32865556548735,
           -26.363749063356753,
           -27.372609707520404,
           -24.718430768596168
          ],
          [
           -24.203640351300518,
           -22.722565001427185,
           -21.437851316661455,
           -15.961806254353455,
           -25.47275931079569,
           -25.063034685490013,
           -22.03813353994306,
           -18.369134083588232,
           -22.650704616471085,
           -25.978918677464907,
           -24.99522517446698,
           -20.855267769824174,
           -20.368080060722708,
           -23.718236204660958,
           -23.89016943394169,
           -24.776366379578263,
           -20.980102421232917,
           -21.791210883104963,
           -23.622229301913457,
           -26.489451660732872,
           -24.931737729285906,
           -22.44625235853693,
           -23.420280978154082,
           -25.003363904301153,
           -27.649126540698692,
           -24.901587280337694,
           -25.13889874320298,
           -23.543609740288993,
           -25.608907361708756,
           -26.149656183061737,
           -26.54863810256006,
           -24.30342075135364
          ],
          [
           -24.862015841264164,
           -24.568466120263768,
           -21.951727787091357,
           -15.85208535410173,
           -25.417607441688002,
           -27.214814206658907,
           -22.395219146491545,
           -18.792944106589953,
           -23.93825622058314,
           -27.514292021801133,
           -24.77071120576569,
           -21.421678896296815,
           -20.57355590447632,
           -24.8934008315604,
           -24.86610109910276,
           -24.32398346615119,
           -21.953422502933126,
           -22.911343132610448,
           -23.500479581026966,
           -24.95631841562399,
           -24.66531692463371,
           -24.02618743670045,
           -23.113857744863886,
           -23.477431273018446,
           -27.64352776101454,
           -25.024263960826023,
           -24.312036251346303,
           -23.424189089249758,
           -25.949385443075467,
           -25.328254355676297,
           -26.629060313819863,
           -24.446225584216418
          ],
          [
           -24.030648277788934,
           -26.002674754548266,
           -21.707827381019143,
           -16.74239993836188,
           -26.317375428193824,
           -28.790547643563492,
           -22.660965920905422,
           -19.794523637535654,
           -24.28888799827497,
           -27.795887261142436,
           -25.214430288257105,
           -21.983355122682664,
           -21.832021466894467,
           -25.665198846151878,
           -25.3037716495388,
           -24.21013531464825,
           -21.468716485993042,
           -24.1036469237206,
           -24.33934497348128,
           -23.4939933100689,
           -24.58589605933415,
           -24.45760056964743,
           -22.589355659645545,
           -23.3526850577963,
           -26.542326323736955,
           -24.77550164550221,
           -24.422687822016826,
           -23.18933993955958,
           -25.74041882485016,
           -24.529260496089467,
           -26.10147374922696,
           -24.493648879105184
          ],
          [
           -23.653637191028615,
           -26.46446386788087,
           -22.521262539289104,
           -18.671914127328115,
           -25.753560695830025,
           -28.68651656881681,
           -24.100727885926613,
           -22.07631434280884,
           -24.60648035497373,
           -27.348204721892913,
           -24.982767747146106,
           -22.948036558920652,
           -21.98052605535051,
           -26.449323295429483,
           -25.89186551026145,
           -23.012552559410473,
           -22.225931222613458,
           -25.264456733867483,
           -24.25659955236352,
           -22.931006133210502,
           -23.881511449212713,
           -24.44488924352068,
           -22.910997609826786,
           -22.41735329078394,
           -26.118275914621293,
           -24.55702960979991,
           -23.685783239752563,
           -23.211228838694563,
           -24.744383913306564,
           -24.2833751082031,
           -25.93890617732336,
           -24.484563560977026
          ],
          [
           -23.555008354005743,
           -26.279199115078754,
           -23.084951654034775,
           -20.980497538332752,
           -25.888909626808545,
           -28.071078664255463,
           -23.727758413710998,
           -22.85326880498864,
           -25.256430864148133,
           -27.185273660091124,
           -24.930928732133765,
           -23.377846817917536,
           -22.81411643592772,
           -25.810118756496227,
           -25.533150870449006,
           -23.27355952237641,
           -22.81014622943767,
           -25.72885268370931,
           -24.586404366485652,
           -22.186611499046084,
           -24.009923024665145,
           -24.80293026468082,
           -23.732161880689823,
           -23.577830783707014,
           -24.77164606673623,
           -24.02144148528609,
           -23.891563007074236,
           -23.507803557757157,
           -25.26084930084283,
           -23.894399748737424,
           -25.106907657404687,
           -23.682468125138147
          ],
          [
           -23.989015376070604,
           -26.363900895234515,
           -23.428963403342856,
           -23.107607251078356,
           -25.13542778786665,
           -26.667378736383224,
           -23.735923004146525,
           -23.5205419109961,
           -24.55044922264105,
           -26.112066892938486,
           -24.8505965264482,
           -23.766813927750086,
           -22.76644064432734,
           -25.321501415197112,
           -25.011867053551285,
           -23.185371707138632,
           -23.078458061307266,
           -25.175200087726342,
           -24.34786375459295,
           -22.573320802445895,
           -24.59936809319369,
           -25.295654397458296,
           -24.36126164728745,
           -22.653831860943576,
           -24.687979339037607,
           -24.11239343016989,
           -23.41807678737768,
           -24.210778992830743,
           -23.829626455351523,
           -23.76401730438285,
           -25.20603331541969,
           -23.773524853541442
          ],
          [
           -23.938082131443473,
           -24.464413010303367,
           -23.79380735856458,
           -23.279329763232138,
           -24.423126383998536,
           -24.64465834356656,
           -23.380889150373388,
           -23.860445612747725,
           -23.842553793802757,
           -24.77909191774374,
           -24.224444730682123,
           -24.095605115156598,
           -23.58418786041842,
           -24.779471795365414,
           -23.380624882951608,
           -23.535804641902743,
           -23.793834998451437,
           -23.45568189629264,
           -24.538263727967205,
           -22.6922144509019,
           -24.115803622292024,
           -24.204108647925658,
           -23.623690772626084,
           -23.044155877027457,
           -24.073625582838847,
           -24.086535627997556,
           -24.214956108309924,
           -23.36747904243068,
           -23.924859455100147,
           -23.755616366543507,
           -24.058554329505004,
           -23.75489757232895
          ]
         ]
        }
       ],
       "layout": {
        "scene": {
         "xaxis": {
          "title": {
           "text": "γ"
          }
         },
         "yaxis": {
          "title": {
           "text": "β"
          }
         },
         "zaxis": {
          "title": {
           "text": "F(γ,β)"
          }
         }
        },
        "template": {
         "data": {
          "bar": [
           {
            "error_x": {
             "color": "#2a3f5f"
            },
            "error_y": {
             "color": "#2a3f5f"
            },
            "marker": {
             "line": {
              "color": "#E5ECF6",
              "width": 0.5
             },
             "pattern": {
              "fillmode": "overlay",
              "size": 10,
              "solidity": 0.2
             }
            },
            "type": "bar"
           }
          ],
          "barpolar": [
           {
            "marker": {
             "line": {
              "color": "#E5ECF6",
              "width": 0.5
             },
             "pattern": {
              "fillmode": "overlay",
              "size": 10,
              "solidity": 0.2
             }
            },
            "type": "barpolar"
           }
          ],
          "carpet": [
           {
            "aaxis": {
             "endlinecolor": "#2a3f5f",
             "gridcolor": "white",
             "linecolor": "white",
             "minorgridcolor": "white",
             "startlinecolor": "#2a3f5f"
            },
            "baxis": {
             "endlinecolor": "#2a3f5f",
             "gridcolor": "white",
             "linecolor": "white",
             "minorgridcolor": "white",
             "startlinecolor": "#2a3f5f"
            },
            "type": "carpet"
           }
          ],
          "choropleth": [
           {
            "colorbar": {
             "outlinewidth": 0,
             "ticks": ""
            },
            "type": "choropleth"
           }
          ],
          "contour": [
           {
            "colorbar": {
             "outlinewidth": 0,
             "ticks": ""
            },
            "colorscale": [
             [
              0,
              "#0d0887"
             ],
             [
              0.1111111111111111,
              "#46039f"
             ],
             [
              0.2222222222222222,
              "#7201a8"
             ],
             [
              0.3333333333333333,
              "#9c179e"
             ],
             [
              0.4444444444444444,
              "#bd3786"
             ],
             [
              0.5555555555555556,
              "#d8576b"
             ],
             [
              0.6666666666666666,
              "#ed7953"
             ],
             [
              0.7777777777777778,
              "#fb9f3a"
             ],
             [
              0.8888888888888888,
              "#fdca26"
             ],
             [
              1,
              "#f0f921"
             ]
            ],
            "type": "contour"
           }
          ],
          "contourcarpet": [
           {
            "colorbar": {
             "outlinewidth": 0,
             "ticks": ""
            },
            "type": "contourcarpet"
           }
          ],
          "heatmap": [
           {
            "colorbar": {
             "outlinewidth": 0,
             "ticks": ""
            },
            "colorscale": [
             [
              0,
              "#0d0887"
             ],
             [
              0.1111111111111111,
              "#46039f"
             ],
             [
              0.2222222222222222,
              "#7201a8"
             ],
             [
              0.3333333333333333,
              "#9c179e"
             ],
             [
              0.4444444444444444,
              "#bd3786"
             ],
             [
              0.5555555555555556,
              "#d8576b"
             ],
             [
              0.6666666666666666,
              "#ed7953"
             ],
             [
              0.7777777777777778,
              "#fb9f3a"
             ],
             [
              0.8888888888888888,
              "#fdca26"
             ],
             [
              1,
              "#f0f921"
             ]
            ],
            "type": "heatmap"
           }
          ],
          "heatmapgl": [
           {
            "colorbar": {
             "outlinewidth": 0,
             "ticks": ""
            },
            "colorscale": [
             [
              0,
              "#0d0887"
             ],
             [
              0.1111111111111111,
              "#46039f"
             ],
             [
              0.2222222222222222,
              "#7201a8"
             ],
             [
              0.3333333333333333,
              "#9c179e"
             ],
             [
              0.4444444444444444,
              "#bd3786"
             ],
             [
              0.5555555555555556,
              "#d8576b"
             ],
             [
              0.6666666666666666,
              "#ed7953"
             ],
             [
              0.7777777777777778,
              "#fb9f3a"
             ],
             [
              0.8888888888888888,
              "#fdca26"
             ],
             [
              1,
              "#f0f921"
             ]
            ],
            "type": "heatmapgl"
           }
          ],
          "histogram": [
           {
            "marker": {
             "pattern": {
              "fillmode": "overlay",
              "size": 10,
              "solidity": 0.2
             }
            },
            "type": "histogram"
           }
          ],
          "histogram2d": [
           {
            "colorbar": {
             "outlinewidth": 0,
             "ticks": ""
            },
            "colorscale": [
             [
              0,
              "#0d0887"
             ],
             [
              0.1111111111111111,
              "#46039f"
             ],
             [
              0.2222222222222222,
              "#7201a8"
             ],
             [
              0.3333333333333333,
              "#9c179e"
             ],
             [
              0.4444444444444444,
              "#bd3786"
             ],
             [
              0.5555555555555556,
              "#d8576b"
             ],
             [
              0.6666666666666666,
              "#ed7953"
             ],
             [
              0.7777777777777778,
              "#fb9f3a"
             ],
             [
              0.8888888888888888,
              "#fdca26"
             ],
             [
              1,
              "#f0f921"
             ]
            ],
            "type": "histogram2d"
           }
          ],
          "histogram2dcontour": [
           {
            "colorbar": {
             "outlinewidth": 0,
             "ticks": ""
            },
            "colorscale": [
             [
              0,
              "#0d0887"
             ],
             [
              0.1111111111111111,
              "#46039f"
             ],
             [
              0.2222222222222222,
              "#7201a8"
             ],
             [
              0.3333333333333333,
              "#9c179e"
             ],
             [
              0.4444444444444444,
              "#bd3786"
             ],
             [
              0.5555555555555556,
              "#d8576b"
             ],
             [
              0.6666666666666666,
              "#ed7953"
             ],
             [
              0.7777777777777778,
              "#fb9f3a"
             ],
             [
              0.8888888888888888,
              "#fdca26"
             ],
             [
              1,
              "#f0f921"
             ]
            ],
            "type": "histogram2dcontour"
           }
          ],
          "mesh3d": [
           {
            "colorbar": {
             "outlinewidth": 0,
             "ticks": ""
            },
            "type": "mesh3d"
           }
          ],
          "parcoords": [
           {
            "line": {
             "colorbar": {
              "outlinewidth": 0,
              "ticks": ""
             }
            },
            "type": "parcoords"
           }
          ],
          "pie": [
           {
            "automargin": true,
            "type": "pie"
           }
          ],
          "scatter": [
           {
            "marker": {
             "colorbar": {
              "outlinewidth": 0,
              "ticks": ""
             }
            },
            "type": "scatter"
           }
          ],
          "scatter3d": [
           {
            "line": {
             "colorbar": {
              "outlinewidth": 0,
              "ticks": ""
             }
            },
            "marker": {
             "colorbar": {
              "outlinewidth": 0,
              "ticks": ""
             }
            },
            "type": "scatter3d"
           }
          ],
          "scattercarpet": [
           {
            "marker": {
             "colorbar": {
              "outlinewidth": 0,
              "ticks": ""
             }
            },
            "type": "scattercarpet"
           }
          ],
          "scattergeo": [
           {
            "marker": {
             "colorbar": {
              "outlinewidth": 0,
              "ticks": ""
             }
            },
            "type": "scattergeo"
           }
          ],
          "scattergl": [
           {
            "marker": {
             "colorbar": {
              "outlinewidth": 0,
              "ticks": ""
             }
            },
            "type": "scattergl"
           }
          ],
          "scattermapbox": [
           {
            "marker": {
             "colorbar": {
              "outlinewidth": 0,
              "ticks": ""
             }
            },
            "type": "scattermapbox"
           }
          ],
          "scatterpolar": [
           {
            "marker": {
             "colorbar": {
              "outlinewidth": 0,
              "ticks": ""
             }
            },
            "type": "scatterpolar"
           }
          ],
          "scatterpolargl": [
           {
            "marker": {
             "colorbar": {
              "outlinewidth": 0,
              "ticks": ""
             }
            },
            "type": "scatterpolargl"
           }
          ],
          "scatterternary": [
           {
            "marker": {
             "colorbar": {
              "outlinewidth": 0,
              "ticks": ""
             }
            },
            "type": "scatterternary"
           }
          ],
          "surface": [
           {
            "colorbar": {
             "outlinewidth": 0,
             "ticks": ""
            },
            "colorscale": [
             [
              0,
              "#0d0887"
             ],
             [
              0.1111111111111111,
              "#46039f"
             ],
             [
              0.2222222222222222,
              "#7201a8"
             ],
             [
              0.3333333333333333,
              "#9c179e"
             ],
             [
              0.4444444444444444,
              "#bd3786"
             ],
             [
              0.5555555555555556,
              "#d8576b"
             ],
             [
              0.6666666666666666,
              "#ed7953"
             ],
             [
              0.7777777777777778,
              "#fb9f3a"
             ],
             [
              0.8888888888888888,
              "#fdca26"
             ],
             [
              1,
              "#f0f921"
             ]
            ],
            "type": "surface"
           }
          ],
          "table": [
           {
            "cells": {
             "fill": {
              "color": "#EBF0F8"
             },
             "line": {
              "color": "white"
             }
            },
            "header": {
             "fill": {
              "color": "#C8D4E3"
             },
             "line": {
              "color": "white"
             }
            },
            "type": "table"
           }
          ]
         },
         "layout": {
          "annotationdefaults": {
           "arrowcolor": "#2a3f5f",
           "arrowhead": 0,
           "arrowwidth": 1
          },
          "autotypenumbers": "strict",
          "coloraxis": {
           "colorbar": {
            "outlinewidth": 0,
            "ticks": ""
           }
          },
          "colorscale": {
           "diverging": [
            [
             0,
             "#8e0152"
            ],
            [
             0.1,
             "#c51b7d"
            ],
            [
             0.2,
             "#de77ae"
            ],
            [
             0.3,
             "#f1b6da"
            ],
            [
             0.4,
             "#fde0ef"
            ],
            [
             0.5,
             "#f7f7f7"
            ],
            [
             0.6,
             "#e6f5d0"
            ],
            [
             0.7,
             "#b8e186"
            ],
            [
             0.8,
             "#7fbc41"
            ],
            [
             0.9,
             "#4d9221"
            ],
            [
             1,
             "#276419"
            ]
           ],
           "sequential": [
            [
             0,
             "#0d0887"
            ],
            [
             0.1111111111111111,
             "#46039f"
            ],
            [
             0.2222222222222222,
             "#7201a8"
            ],
            [
             0.3333333333333333,
             "#9c179e"
            ],
            [
             0.4444444444444444,
             "#bd3786"
            ],
            [
             0.5555555555555556,
             "#d8576b"
            ],
            [
             0.6666666666666666,
             "#ed7953"
            ],
            [
             0.7777777777777778,
             "#fb9f3a"
            ],
            [
             0.8888888888888888,
             "#fdca26"
            ],
            [
             1,
             "#f0f921"
            ]
           ],
           "sequentialminus": [
            [
             0,
             "#0d0887"
            ],
            [
             0.1111111111111111,
             "#46039f"
            ],
            [
             0.2222222222222222,
             "#7201a8"
            ],
            [
             0.3333333333333333,
             "#9c179e"
            ],
            [
             0.4444444444444444,
             "#bd3786"
            ],
            [
             0.5555555555555556,
             "#d8576b"
            ],
            [
             0.6666666666666666,
             "#ed7953"
            ],
            [
             0.7777777777777778,
             "#fb9f3a"
            ],
            [
             0.8888888888888888,
             "#fdca26"
            ],
            [
             1,
             "#f0f921"
            ]
           ]
          },
          "colorway": [
           "#636efa",
           "#EF553B",
           "#00cc96",
           "#ab63fa",
           "#FFA15A",
           "#19d3f3",
           "#FF6692",
           "#B6E880",
           "#FF97FF",
           "#FECB52"
          ],
          "font": {
           "color": "#2a3f5f"
          },
          "geo": {
           "bgcolor": "white",
           "lakecolor": "white",
           "landcolor": "#E5ECF6",
           "showlakes": true,
           "showland": true,
           "subunitcolor": "white"
          },
          "hoverlabel": {
           "align": "left"
          },
          "hovermode": "closest",
          "mapbox": {
           "style": "light"
          },
          "paper_bgcolor": "white",
          "plot_bgcolor": "#E5ECF6",
          "polar": {
           "angularaxis": {
            "gridcolor": "white",
            "linecolor": "white",
            "ticks": ""
           },
           "bgcolor": "#E5ECF6",
           "radialaxis": {
            "gridcolor": "white",
            "linecolor": "white",
            "ticks": ""
           }
          },
          "scene": {
           "xaxis": {
            "backgroundcolor": "#E5ECF6",
            "gridcolor": "white",
            "gridwidth": 2,
            "linecolor": "white",
            "showbackground": true,
            "ticks": "",
            "zerolinecolor": "white"
           },
           "yaxis": {
            "backgroundcolor": "#E5ECF6",
            "gridcolor": "white",
            "gridwidth": 2,
            "linecolor": "white",
            "showbackground": true,
            "ticks": "",
            "zerolinecolor": "white"
           },
           "zaxis": {
            "backgroundcolor": "#E5ECF6",
            "gridcolor": "white",
            "gridwidth": 2,
            "linecolor": "white",
            "showbackground": true,
            "ticks": "",
            "zerolinecolor": "white"
           }
          },
          "shapedefaults": {
           "line": {
            "color": "#2a3f5f"
           }
          },
          "ternary": {
           "aaxis": {
            "gridcolor": "white",
            "linecolor": "white",
            "ticks": ""
           },
           "baxis": {
            "gridcolor": "white",
            "linecolor": "white",
            "ticks": ""
           },
           "bgcolor": "#E5ECF6",
           "caxis": {
            "gridcolor": "white",
            "linecolor": "white",
            "ticks": ""
           }
          },
          "title": {
           "x": 0.05
          },
          "xaxis": {
           "automargin": true,
           "gridcolor": "white",
           "linecolor": "white",
           "ticks": "",
           "title": {
            "standoff": 15
           },
           "zerolinecolor": "white",
           "zerolinewidth": 2
          },
          "yaxis": {
           "automargin": true,
           "gridcolor": "white",
           "linecolor": "white",
           "ticks": "",
           "title": {
            "standoff": 15
           },
           "zerolinecolor": "white",
           "zerolinewidth": 2
          }
         }
        },
        "title": {
         "text": "QAOA with General Error Mitigation - MaxCut-Landscape"
        }
       }
      },
      "text/html": [
       "<div>                            <div id=\"961d285a-5f8b-459a-8004-cd79cfb04327\" class=\"plotly-graph-div\" style=\"height:525px; width:100%;\"></div>            <script type=\"text/javascript\">                require([\"plotly\"], function(Plotly) {                    window.PLOTLYENV=window.PLOTLYENV || {};                                    if (document.getElementById(\"961d285a-5f8b-459a-8004-cd79cfb04327\")) {                    Plotly.newPlot(                        \"961d285a-5f8b-459a-8004-cd79cfb04327\",                        [{\"contours\":{\"z\":{\"highlightcolor\":\"limegreen\",\"project\":{\"z\":true},\"show\":true,\"usecolormap\":true}},\"type\":\"surface\",\"x\":[0.0,0.1,0.2,0.30000000000000004,0.4,0.5,0.6000000000000001,0.7000000000000001,0.8,0.9,1.0,1.1,1.2000000000000002,1.3,1.4000000000000001,1.5,1.6,1.7000000000000002,1.8,1.9000000000000001,2.0,2.1,2.2,2.3000000000000003,2.4000000000000004,2.5,2.6,2.7,2.8000000000000003,2.9000000000000004,3.0,3.1],\"y\":[0.0,0.1,0.2,0.30000000000000004,0.4,0.5,0.6000000000000001,0.7000000000000001,0.8,0.9,1.0,1.1,1.2000000000000002,1.3,1.4000000000000001,1.5,1.6,1.7000000000000002,1.8,1.9000000000000001,2.0,2.1,2.2,2.3000000000000003,2.4000000000000004,2.5,2.6,2.7,2.8000000000000003,2.9000000000000004,3.0,3.1],\"z\":[[-23.744140625,-23.7509765625,-23.9189453125,-23.9111328125,-24.0791015625,-23.1357421875,-23.2666015625,-23.7529296875,-24.0654296875,-23.6796875,-24.1806640625,-23.8837890625,-23.5439453125,-24.4111328125,-23.669921875,-23.8193359375,-24.2294921875,-23.44921875,-24.0478515625,-23.71484375,-24.025390625,-23.677734375,-24.1083984375,-23.4306640625,-23.666015625,-24.3623046875,-24.1708984375,-23.2021484375,-23.2109375,-24.185546875,-24.0107421875,-23.884765625],[-24.01612785576577,-22.48083678037331,-23.77800549232136,-24.376007898717013,-22.784652369262226,-21.409171190518958,-23.54645230850287,-23.761799624310626,-22.58147435991155,-21.92401223349437,-23.254615923767933,-23.411738052331536,-23.750265534334066,-22.07293695271466,-23.49067641838097,-23.91410350482074,-24.1915891259959,-22.07727045728518,-23.235554123085134,-24.76146785637121,-24.566998624581966,-22.296112979832817,-23.93659528779814,-24.90823584020485,-23.799414721334475,-24.008374650845255,-24.181670015895396,-23.80597858266223,-24.559233544276413,-24.785405261590746,-23.293547155969136,-24.090134676267205],[-24.01337728385464,-19.613918861011058,-22.707775240363546,-24.088022120766148,-21.463942354885724,-20.073855761871055,-22.856879493337853,-22.47805014397124,-22.442287678953143,-21.403250639491805,-21.51055809968625,-23.072986962573804,-23.251409402656176,-21.528911725486807,-22.713387809513208,-25.152585658123108,-24.021639554199268,-20.275493581872695,-22.25848990152261,-26.45386604932371,-24.361496005947526,-22.287347345942294,-24.1653241975174,-25.60928025108688,-23.847928030627546,-24.18289310163524,-23.882718073524178,-24.02032173352959,-24.906671876760523,-24.55169650203435,-24.32980365483967,-24.111537377910636],[-23.72500010783011,-19.015186466548926,-22.761426846161154,-23.143708866828614,-21.62970585379257,-18.54121789890711,-22.137285982727327,-21.257171158773218,-21.06334422116156,-19.873222951572927,-21.580870286654964,-22.738130824984555,-22.897762661474914,-20.510696150585623,-21.912657711256372,-25.53650405369854,-24.2484964521613,-18.900478852283303,-22.52204590406119,-27.026487092674977,-24.53794655689368,-20.78357592838978,-24.18383663496146,-25.57378282691643,-24.325714634917386,-23.703455141642827,-25.288468598243007,-24.911767823536916,-23.920407519906906,-25.847078612650723,-24.58571817324373,-23.87674885011724],[-24.29750805854982,-17.03213071659603,-21.80023551185342,-22.52497510544792,-21.10161803301188,-18.18957728257087,-21.57259712821211,-20.189164500516405,-20.237398470560446,-19.584795748347002,-21.680435583120357,-21.694013183269078,-21.928512363939564,-19.562378767367015,-22.035578017332426,-26.014048612286054,-23.83852611663582,-18.06306527423989,-22.364376603342084,-27.786372002409085,-25.299281494811247,-20.885323543450937,-23.815844524229004,-26.761307026867254,-25.851878077223972,-24.438308266652207,-25.353696380692988,-25.534903532284506,-25.162115644800753,-26.04698305668118,-24.922093365539475,-23.718159361807462],[-23.83791740227492,-17.297301575526607,-21.05015412166019,-20.580854844512963,-21.53944321769234,-18.534405687118575,-20.621836376023214,-18.783090720913773,-20.926051670258623,-20.28753849188584,-22.1144650455577,-20.882987073651343,-21.77549534100241,-19.51468607669556,-21.410139398349365,-26.983872060993985,-23.64067403607652,-16.778952451863415,-22.291426295332407,-28.189388881225426,-25.530258602722704,-20.137943372789245,-24.19706108824422,-26.79952558056587,-26.38144213264267,-24.396887172113345,-25.512345076412153,-25.18578384669471,-25.622316924870635,-26.1098537763727,-25.60280171239036,-24.105236111239215],[-23.882353759435855,-17.577229274974457,-20.79371701951315,-19.629003752159807,-22.087177175585822,-19.842458716387977,-20.786572058815512,-17.743299248304005,-21.21190830737812,-20.94922999679433,-21.92439920328339,-20.876680391897473,-20.33462199891872,-19.708267310978403,-21.230693299931076,-26.821107430349855,-22.9164190465825,-16.661455507200948,-22.236735924149148,-28.40943130702952,-25.561809576504302,-20.33605423281595,-24.317556445804087,-26.22800803818332,-27.427187633072812,-24.713746700477753,-25.314049918312808,-24.2119331111934,-26.09899165160852,-26.248794506801772,-26.386665330279946,-24.09177240491883],[-23.30411726004399,-18.8917264147643,-20.647019807700623,-18.115353255806884,-23.788713360078255,-21.438500881382218,-19.69943622965629,-17.96832714170917,-21.072078918924,-22.257346268393075,-22.21775475439463,-20.946057957545307,-19.437436334691462,-21.152644892996893,-22.381601741779452,-26.075306211782927,-22.377958969462245,-17.171606815235698,-22.687947598993418,-28.377864695917268,-26.13780268238564,-20.54290373215931,-23.486838960494982,-25.712899945731458,-27.67510887708007,-24.79329946337093,-25.617397306185396,-24.014917713692853,-26.646783996169365,-26.539050379065596,-26.880461397283362,-23.8816378249532],[-24.097205712516857,-20.03936034555319,-20.411250457583627,-17.207235926025504,-24.816105293168462,-23.543839105052538,-20.88308532904891,-17.646636527019112,-21.62089968488122,-24.54110144456368,-22.67513666099607,-21.1205836206686,-20.720456359108447,-21.780667165363045,-23.386143182380902,-25.951929028881207,-21.633016178524862,-19.93341472664845,-22.8785460099191,-27.35833789435555,-25.584231233691877,-22.06289129457283,-23.53332699289448,-24.492347746602768,-28.458741785780642,-25.060560264080447,-25.859367834075776,-24.064946388611812,-26.377480187316536,-26.643831994149835,-26.906325670681017,-23.902812042162093],[-25.002698755527312,-21.914199755017208,-20.55628934111912,-16.485946142117974,-25.563064303044953,-25.235526048991133,-21.88640007131193,-17.767598872066085,-22.91591122222504,-26.142389042803842,-24.318672748168584,-20.52346041490403,-19.784486375143302,-23.377457804797718,-23.70272795278219,-26.310216930713114,-21.463277737549657,-20.34987138362529,-23.464228194581278,-26.473553938634954,-25.607811452428745,-22.11558332834471,-23.913595830901702,-23.972448764149853,-28.544647206770765,-24.817692227481302,-25.01492278418328,-24.509311348718622,-26.945955731684133,-25.67443049808174,-27.229289894393915,-24.37634443847786],[-23.79110159180097,-24.215462476224264,-21.566315059850854,-17.36649991895169,-26.434091519315032,-26.725255246583572,-22.789992668998014,-18.716978278907984,-23.995058785241035,-26.637497970010124,-24.575508796247604,-21.692230454118743,-20.304219697111066,-24.17508228298033,-25.263678721573207,-25.42527172610003,-21.90626995001146,-22.0018257868456,-22.949079183759853,-25.295828608007813,-25.907930374346513,-23.87291853986538,-23.117047697678224,-24.626942641948474,-27.63277119739324,-25.01117068060317,-25.063282891888544,-23.398837158422477,-26.230234375516886,-25.472427052325724,-26.27386154363699,-23.71838971702926],[-24.393653359818334,-26.046976232787213,-22.341207748089396,-17.598835762864773,-27.152964115235914,-28.810848773299867,-22.94097748059154,-20.293137553634843,-24.358719929777813,-28.0146193472413,-26.64581887575737,-22.023910804450843,-21.235743114363036,-25.85546717944922,-26.1884529640668,-23.859090126130344,-21.85193442565412,-23.802958081250875,-24.26068367297392,-23.946717149519255,-24.312977729817312,-24.78025851650009,-23.176233665917806,-23.25508193445164,-26.99390066868505,-24.937682401626958,-24.018391183957547,-22.875262012597293,-25.857177354903264,-24.243282034459362,-26.21331491767517,-24.55254572725345],[-24.300919317911024,-26.594577021813826,-22.213933567708846,-18.94622356603494,-27.12807113062822,-28.682166916968804,-23.29012307421017,-21.324597623010288,-24.43508639762462,-28.10131085178224,-25.506235968261542,-23.126592733957267,-22.007800983797853,-25.879780909140038,-26.10079925133346,-23.754374639070882,-21.87062920685762,-24.31329644157155,-24.42310400979605,-22.856123630160642,-24.614074845960772,-24.93411433545292,-23.243397113188568,-22.711381299066723,-26.50727282577425,-24.699302497175765,-23.665303741087293,-23.65682836460127,-25.013446278957108,-24.401639911314,-26.35146983353358,-24.300950950678814],[-24.016728269370848,-26.638394122509396,-23.029381899684807,-20.939183082939227,-26.17006709729868,-28.78905175953079,-23.797595956518954,-22.055149918104117,-25.123914842516903,-27.914924429516155,-25.809685751369827,-23.157081813166275,-23.856482603516234,-26.23853708701744,-25.70937543408038,-23.197206577588442,-22.167279467870802,-25.39414164967453,-23.822409977444504,-23.544149066219752,-24.37846259315988,-25.15982891702493,-22.96203830385152,-22.27506466440394,-24.758048056214992,-23.902510804265138,-23.080887588607812,-23.08969899747836,-24.798791178620387,-23.688239595321726,-25.291087665968984,-24.085290566930325],[-23.54069252029293,-26.662538786431536,-23.83895364822649,-21.32808523647981,-25.140284693038637,-27.464229713045036,-24.273541551617654,-22.931838160737424,-24.987555545571126,-26.32895597842758,-25.17502949827274,-23.37935616385251,-24.024128922036912,-25.62826964801142,-25.268453920948094,-23.307512589507493,-22.60756730493954,-25.603757026004338,-23.634662519648618,-23.167390111893997,-24.255221702141615,-25.34481628485035,-23.49186397102229,-22.60550983444115,-23.975651429181998,-23.75205731858236,-24.004404780755014,-23.19564609306231,-23.61867479294525,-23.32513360443083,-24.69201054440321,-24.14368297917253],[-24.30380554332263,-25.1648010980375,-24.3694937841651,-23.443499083151885,-24.871893979919022,-25.619689897616148,-23.853918769286555,-23.30729394542477,-24.645542788948326,-25.272826038339737,-24.22900855614714,-24.321467853478882,-24.457948448791228,-24.85869302014966,-24.594845805449676,-23.366642116601913,-23.13509908949938,-23.98552276108408,-23.521725115158226,-23.420639043847498,-23.840437141403406,-24.607790692020288,-23.764706689840146,-23.471456819183377,-24.73120061616575,-23.989134138297317,-23.631474976906333,-23.695807818939375,-24.386564679564902,-23.391530557142485,-23.906491842623815,-24.055895419453798],[-24.205706606856616,-23.062721128992077,-23.738356003571887,-24.54074975075174,-23.41915754574562,-23.350868857156716,-23.747040382112058,-24.058538447604665,-23.421211557099078,-24.242345587654587,-23.876688698320798,-24.319543438687184,-23.605187286176296,-23.652643756311708,-23.58887200872445,-24.124985116684133,-24.31838260496694,-23.997870801088386,-23.159949317733208,-23.58145935637301,-23.269691455105345,-23.331438314581952,-24.243739089546974,-24.489447254117536,-24.09438562820815,-23.822952114662385,-24.276348626825087,-24.19120027525472,-23.774352283008906,-23.886197597555185,-23.724739371994602,-23.615786306341587],[-24.002134847159404,-20.680647434290616,-24.036415406493493,-24.73663621898486,-22.623909934575533,-21.239936536024548,-23.044746980339156,-22.99838583531013,-22.993548012138735,-22.027246745791903,-23.288697997463537,-23.73434401352815,-23.665361368041697,-22.044929063052244,-22.709929297938,-25.13639487432093,-24.154635834157915,-22.25140248419619,-23.370257431880145,-25.19724316907935,-24.64038710606947,-22.843595577619777,-23.38390660943825,-25.254742866433958,-23.737979727571307,-23.64238026415706,-24.3228594497808,-24.19875470220107,-24.54604168245831,-24.90247946365284,-23.98954118403083,-24.1134050057914],[-23.820925873607035,-19.886804367584784,-23.706167012588683,-23.890193653900795,-22.252899644136054,-19.672692454110695,-22.622146186635295,-22.38623705586391,-22.39605049545526,-21.05498811144716,-22.09193618895095,-23.022966461314272,-23.629037892581238,-20.363506265506178,-22.20953778814882,-25.709448005092142,-24.190255432900535,-19.76809405289612,-22.70117929595947,-26.073682625181434,-25.054946921666517,-21.807699211752734,-24.056037974602187,-25.157132760502,-25.1048886697518,-24.35328373024745,-24.57548062320076,-24.83039535068572,-24.411029243579982,-25.269499898357875,-22.846168332554875,-23.969038949989667],[-24.174053266484876,-17.797400039264705,-22.242761561676705,-23.190706450638377,-21.421790401130156,-18.018828744976684,-21.741886383140287,-20.54549915768625,-21.17134518481297,-20.527889723871333,-21.085709219949376,-22.457088369197933,-22.28292906127991,-19.332736738171135,-22.265950990532843,-25.946984406330195,-23.86038094384798,-19.53923141215571,-22.029917386345858,-27.69643810142124,-25.345927196642396,-20.786309153016965,-24.082210099108934,-26.365590692292017,-24.578574984943742,-23.939863471944197,-25.446805002066046,-24.434540002395106,-24.830287979326965,-25.781983102975257,-24.93723867827783,-24.137855111435087],[-24.27591698985429,-16.84892812144973,-21.24893986405599,-22.06796228828231,-22.336557583938486,-18.200333960510264,-20.460550238333532,-19.91015240026874,-21.015791502791576,-20.632987735183217,-21.087384274842794,-21.91659611641648,-22.67018086414603,-18.509172816661653,-21.93506823807938,-26.72334025972534,-24.212848261134,-18.170147613412507,-22.22766030461203,-28.767747731192337,-24.73000730298946,-19.540240264997788,-23.751082296102172,-26.457253085650724,-26.159717874365718,-24.260044535693602,-25.564316589335085,-25.511585151748395,-25.69383803979209,-26.4816449045447,-25.97690207106922,-23.974188938944902],[-24.151448743115072,-17.489938006631707,-21.23044946960691,-20.171436804824125,-22.052808495077485,-18.13013599666728,-20.540377279209608,-18.63173884703398,-20.659247504053848,-20.26296225915486,-21.969197787758134,-20.953964165513977,-20.935646681608937,-19.44147305855068,-21.94799485355376,-26.521105513061404,-23.02187586844831,-16.6113995452649,-21.694601816591412,-28.493100508448666,-25.57907946274242,-19.59138502501984,-24.20393896567232,-25.490443573657537,-26.869542269885578,-24.365032796664767,-26.226884070626934,-25.290057192891233,-26.22520052402715,-27.14797468645504,-25.295229370921874,-24.341650115866333],[-24.763014816835966,-17.143811416325033,-21.18885609201868,-19.02293539715784,-21.737464707189904,-20.489109769527722,-20.930771741034064,-17.935913951024936,-20.866336441979474,-22.732940281753326,-22.490992483630727,-20.73852681754535,-20.07784384050436,-20.41511343948458,-21.903066898370877,-26.470234019430002,-23.500501747556324,-17.34964414232448,-21.8318864114687,-28.166426610499283,-26.107220371718842,-20.09326256380334,-23.681787128038085,-26.54331911248045,-27.796999428246558,-24.897214460096976,-25.605497792110576,-24.108584312881764,-26.215010791169185,-26.636948887459692,-26.103305570071253,-24.369861176397286],[-24.08241653517446,-19.717008292355167,-19.989700771491567,-17.652036634502476,-23.58381602072442,-21.919431832933796,-20.320475929528364,-17.368963120503725,-20.662196861953742,-22.276321924199856,-22.363211259836472,-20.08187035476869,-20.931001776717135,-21.40293742138239,-22.666790418660987,-26.109784783797622,-21.500081663839552,-18.057184607314305,-23.1816968262444,-28.25847981038025,-26.003868049018134,-20.932516448495182,-23.758676500757797,-25.797533593018375,-27.89579423441034,-24.100404987112682,-25.71488513605066,-24.408820645016252,-26.209061904567694,-26.691079393236276,-26.495485505863982,-24.381059421549352],[-24.60020704863508,-20.99574975468712,-19.887958387604925,-15.911059955596299,-24.720565490857084,-24.066681458051978,-20.665783654650784,-17.019477890796608,-22.244958553516994,-24.752310501691326,-22.999031391494487,-20.267085228205097,-19.64646821075604,-22.11605948124121,-23.384006323827,-25.8831018701171,-21.88220816925129,-19.442529456000596,-22.782579198233982,-27.045272889953637,-25.54463103056204,-22.042881632411913,-23.68886369331631,-25.244750134004278,-28.089670106330665,-25.01052602410434,-25.20876226027345,-24.550428744404254,-26.32865556548735,-26.363749063356753,-27.372609707520404,-24.718430768596168],[-24.203640351300518,-22.722565001427185,-21.437851316661455,-15.961806254353455,-25.47275931079569,-25.063034685490013,-22.03813353994306,-18.369134083588232,-22.650704616471085,-25.978918677464907,-24.99522517446698,-20.855267769824174,-20.368080060722708,-23.718236204660958,-23.89016943394169,-24.776366379578263,-20.980102421232917,-21.791210883104963,-23.622229301913457,-26.489451660732872,-24.931737729285906,-22.44625235853693,-23.420280978154082,-25.003363904301153,-27.649126540698692,-24.901587280337694,-25.13889874320298,-23.543609740288993,-25.608907361708756,-26.149656183061737,-26.54863810256006,-24.30342075135364],[-24.862015841264164,-24.568466120263768,-21.951727787091357,-15.85208535410173,-25.417607441688002,-27.214814206658907,-22.395219146491545,-18.792944106589953,-23.93825622058314,-27.514292021801133,-24.77071120576569,-21.421678896296815,-20.57355590447632,-24.8934008315604,-24.86610109910276,-24.32398346615119,-21.953422502933126,-22.911343132610448,-23.500479581026966,-24.95631841562399,-24.66531692463371,-24.02618743670045,-23.113857744863886,-23.477431273018446,-27.64352776101454,-25.024263960826023,-24.312036251346303,-23.424189089249758,-25.949385443075467,-25.328254355676297,-26.629060313819863,-24.446225584216418],[-24.030648277788934,-26.002674754548266,-21.707827381019143,-16.74239993836188,-26.317375428193824,-28.790547643563492,-22.660965920905422,-19.794523637535654,-24.28888799827497,-27.795887261142436,-25.214430288257105,-21.983355122682664,-21.832021466894467,-25.665198846151878,-25.3037716495388,-24.21013531464825,-21.468716485993042,-24.1036469237206,-24.33934497348128,-23.4939933100689,-24.58589605933415,-24.45760056964743,-22.589355659645545,-23.3526850577963,-26.542326323736955,-24.77550164550221,-24.422687822016826,-23.18933993955958,-25.74041882485016,-24.529260496089467,-26.10147374922696,-24.493648879105184],[-23.653637191028615,-26.46446386788087,-22.521262539289104,-18.671914127328115,-25.753560695830025,-28.68651656881681,-24.100727885926613,-22.07631434280884,-24.60648035497373,-27.348204721892913,-24.982767747146106,-22.948036558920652,-21.98052605535051,-26.449323295429483,-25.89186551026145,-23.012552559410473,-22.225931222613458,-25.264456733867483,-24.25659955236352,-22.931006133210502,-23.881511449212713,-24.44488924352068,-22.910997609826786,-22.41735329078394,-26.118275914621293,-24.55702960979991,-23.685783239752563,-23.211228838694563,-24.744383913306564,-24.2833751082031,-25.93890617732336,-24.484563560977026],[-23.555008354005743,-26.279199115078754,-23.084951654034775,-20.980497538332752,-25.888909626808545,-28.071078664255463,-23.727758413710998,-22.85326880498864,-25.256430864148133,-27.185273660091124,-24.930928732133765,-23.377846817917536,-22.81411643592772,-25.810118756496227,-25.533150870449006,-23.27355952237641,-22.81014622943767,-25.72885268370931,-24.586404366485652,-22.186611499046084,-24.009923024665145,-24.80293026468082,-23.732161880689823,-23.577830783707014,-24.77164606673623,-24.02144148528609,-23.891563007074236,-23.507803557757157,-25.26084930084283,-23.894399748737424,-25.106907657404687,-23.682468125138147],[-23.989015376070604,-26.363900895234515,-23.428963403342856,-23.107607251078356,-25.13542778786665,-26.667378736383224,-23.735923004146525,-23.5205419109961,-24.55044922264105,-26.112066892938486,-24.8505965264482,-23.766813927750086,-22.76644064432734,-25.321501415197112,-25.011867053551285,-23.185371707138632,-23.078458061307266,-25.175200087726342,-24.34786375459295,-22.573320802445895,-24.59936809319369,-25.295654397458296,-24.36126164728745,-22.653831860943576,-24.687979339037607,-24.11239343016989,-23.41807678737768,-24.210778992830743,-23.829626455351523,-23.76401730438285,-25.20603331541969,-23.773524853541442],[-23.938082131443473,-24.464413010303367,-23.79380735856458,-23.279329763232138,-24.423126383998536,-24.64465834356656,-23.380889150373388,-23.860445612747725,-23.842553793802757,-24.77909191774374,-24.224444730682123,-24.095605115156598,-23.58418786041842,-24.779471795365414,-23.380624882951608,-23.535804641902743,-23.793834998451437,-23.45568189629264,-24.538263727967205,-22.6922144509019,-24.115803622292024,-24.204108647925658,-23.623690772626084,-23.044155877027457,-24.073625582838847,-24.086535627997556,-24.214956108309924,-23.36747904243068,-23.924859455100147,-23.755616366543507,-24.058554329505004,-23.75489757232895]]}],                        {\"scene\":{\"xaxis\":{\"title\":{\"text\":\"\\u03b3\"}},\"yaxis\":{\"title\":{\"text\":\"\\u03b2\"}},\"zaxis\":{\"title\":{\"text\":\"F(\\u03b3,\\u03b2)\"}}},\"template\":{\"data\":{\"bar\":[{\"error_x\":{\"color\":\"#2a3f5f\"},\"error_y\":{\"color\":\"#2a3f5f\"},\"marker\":{\"line\":{\"color\":\"#E5ECF6\",\"width\":0.5},\"pattern\":{\"fillmode\":\"overlay\",\"size\":10,\"solidity\":0.2}},\"type\":\"bar\"}],\"barpolar\":[{\"marker\":{\"line\":{\"color\":\"#E5ECF6\",\"width\":0.5},\"pattern\":{\"fillmode\":\"overlay\",\"size\":10,\"solidity\":0.2}},\"type\":\"barpolar\"}],\"carpet\":[{\"aaxis\":{\"endlinecolor\":\"#2a3f5f\",\"gridcolor\":\"white\",\"linecolor\":\"white\",\"minorgridcolor\":\"white\",\"startlinecolor\":\"#2a3f5f\"},\"baxis\":{\"endlinecolor\":\"#2a3f5f\",\"gridcolor\":\"white\",\"linecolor\":\"white\",\"minorgridcolor\":\"white\",\"startlinecolor\":\"#2a3f5f\"},\"type\":\"carpet\"}],\"choropleth\":[{\"colorbar\":{\"outlinewidth\":0,\"ticks\":\"\"},\"type\":\"choropleth\"}],\"contour\":[{\"colorbar\":{\"outlinewidth\":0,\"ticks\":\"\"},\"colorscale\":[[0.0,\"#0d0887\"],[0.1111111111111111,\"#46039f\"],[0.2222222222222222,\"#7201a8\"],[0.3333333333333333,\"#9c179e\"],[0.4444444444444444,\"#bd3786\"],[0.5555555555555556,\"#d8576b\"],[0.6666666666666666,\"#ed7953\"],[0.7777777777777778,\"#fb9f3a\"],[0.8888888888888888,\"#fdca26\"],[1.0,\"#f0f921\"]],\"type\":\"contour\"}],\"contourcarpet\":[{\"colorbar\":{\"outlinewidth\":0,\"ticks\":\"\"},\"type\":\"contourcarpet\"}],\"heatmap\":[{\"colorbar\":{\"outlinewidth\":0,\"ticks\":\"\"},\"colorscale\":[[0.0,\"#0d0887\"],[0.1111111111111111,\"#46039f\"],[0.2222222222222222,\"#7201a8\"],[0.3333333333333333,\"#9c179e\"],[0.4444444444444444,\"#bd3786\"],[0.5555555555555556,\"#d8576b\"],[0.6666666666666666,\"#ed7953\"],[0.7777777777777778,\"#fb9f3a\"],[0.8888888888888888,\"#fdca26\"],[1.0,\"#f0f921\"]],\"type\":\"heatmap\"}],\"heatmapgl\":[{\"colorbar\":{\"outlinewidth\":0,\"ticks\":\"\"},\"colorscale\":[[0.0,\"#0d0887\"],[0.1111111111111111,\"#46039f\"],[0.2222222222222222,\"#7201a8\"],[0.3333333333333333,\"#9c179e\"],[0.4444444444444444,\"#bd3786\"],[0.5555555555555556,\"#d8576b\"],[0.6666666666666666,\"#ed7953\"],[0.7777777777777778,\"#fb9f3a\"],[0.8888888888888888,\"#fdca26\"],[1.0,\"#f0f921\"]],\"type\":\"heatmapgl\"}],\"histogram\":[{\"marker\":{\"pattern\":{\"fillmode\":\"overlay\",\"size\":10,\"solidity\":0.2}},\"type\":\"histogram\"}],\"histogram2d\":[{\"colorbar\":{\"outlinewidth\":0,\"ticks\":\"\"},\"colorscale\":[[0.0,\"#0d0887\"],[0.1111111111111111,\"#46039f\"],[0.2222222222222222,\"#7201a8\"],[0.3333333333333333,\"#9c179e\"],[0.4444444444444444,\"#bd3786\"],[0.5555555555555556,\"#d8576b\"],[0.6666666666666666,\"#ed7953\"],[0.7777777777777778,\"#fb9f3a\"],[0.8888888888888888,\"#fdca26\"],[1.0,\"#f0f921\"]],\"type\":\"histogram2d\"}],\"histogram2dcontour\":[{\"colorbar\":{\"outlinewidth\":0,\"ticks\":\"\"},\"colorscale\":[[0.0,\"#0d0887\"],[0.1111111111111111,\"#46039f\"],[0.2222222222222222,\"#7201a8\"],[0.3333333333333333,\"#9c179e\"],[0.4444444444444444,\"#bd3786\"],[0.5555555555555556,\"#d8576b\"],[0.6666666666666666,\"#ed7953\"],[0.7777777777777778,\"#fb9f3a\"],[0.8888888888888888,\"#fdca26\"],[1.0,\"#f0f921\"]],\"type\":\"histogram2dcontour\"}],\"mesh3d\":[{\"colorbar\":{\"outlinewidth\":0,\"ticks\":\"\"},\"type\":\"mesh3d\"}],\"parcoords\":[{\"line\":{\"colorbar\":{\"outlinewidth\":0,\"ticks\":\"\"}},\"type\":\"parcoords\"}],\"pie\":[{\"automargin\":true,\"type\":\"pie\"}],\"scatter\":[{\"marker\":{\"colorbar\":{\"outlinewidth\":0,\"ticks\":\"\"}},\"type\":\"scatter\"}],\"scatter3d\":[{\"line\":{\"colorbar\":{\"outlinewidth\":0,\"ticks\":\"\"}},\"marker\":{\"colorbar\":{\"outlinewidth\":0,\"ticks\":\"\"}},\"type\":\"scatter3d\"}],\"scattercarpet\":[{\"marker\":{\"colorbar\":{\"outlinewidth\":0,\"ticks\":\"\"}},\"type\":\"scattercarpet\"}],\"scattergeo\":[{\"marker\":{\"colorbar\":{\"outlinewidth\":0,\"ticks\":\"\"}},\"type\":\"scattergeo\"}],\"scattergl\":[{\"marker\":{\"colorbar\":{\"outlinewidth\":0,\"ticks\":\"\"}},\"type\":\"scattergl\"}],\"scattermapbox\":[{\"marker\":{\"colorbar\":{\"outlinewidth\":0,\"ticks\":\"\"}},\"type\":\"scattermapbox\"}],\"scatterpolar\":[{\"marker\":{\"colorbar\":{\"outlinewidth\":0,\"ticks\":\"\"}},\"type\":\"scatterpolar\"}],\"scatterpolargl\":[{\"marker\":{\"colorbar\":{\"outlinewidth\":0,\"ticks\":\"\"}},\"type\":\"scatterpolargl\"}],\"scatterternary\":[{\"marker\":{\"colorbar\":{\"outlinewidth\":0,\"ticks\":\"\"}},\"type\":\"scatterternary\"}],\"surface\":[{\"colorbar\":{\"outlinewidth\":0,\"ticks\":\"\"},\"colorscale\":[[0.0,\"#0d0887\"],[0.1111111111111111,\"#46039f\"],[0.2222222222222222,\"#7201a8\"],[0.3333333333333333,\"#9c179e\"],[0.4444444444444444,\"#bd3786\"],[0.5555555555555556,\"#d8576b\"],[0.6666666666666666,\"#ed7953\"],[0.7777777777777778,\"#fb9f3a\"],[0.8888888888888888,\"#fdca26\"],[1.0,\"#f0f921\"]],\"type\":\"surface\"}],\"table\":[{\"cells\":{\"fill\":{\"color\":\"#EBF0F8\"},\"line\":{\"color\":\"white\"}},\"header\":{\"fill\":{\"color\":\"#C8D4E3\"},\"line\":{\"color\":\"white\"}},\"type\":\"table\"}]},\"layout\":{\"annotationdefaults\":{\"arrowcolor\":\"#2a3f5f\",\"arrowhead\":0,\"arrowwidth\":1},\"autotypenumbers\":\"strict\",\"coloraxis\":{\"colorbar\":{\"outlinewidth\":0,\"ticks\":\"\"}},\"colorscale\":{\"diverging\":[[0,\"#8e0152\"],[0.1,\"#c51b7d\"],[0.2,\"#de77ae\"],[0.3,\"#f1b6da\"],[0.4,\"#fde0ef\"],[0.5,\"#f7f7f7\"],[0.6,\"#e6f5d0\"],[0.7,\"#b8e186\"],[0.8,\"#7fbc41\"],[0.9,\"#4d9221\"],[1,\"#276419\"]],\"sequential\":[[0.0,\"#0d0887\"],[0.1111111111111111,\"#46039f\"],[0.2222222222222222,\"#7201a8\"],[0.3333333333333333,\"#9c179e\"],[0.4444444444444444,\"#bd3786\"],[0.5555555555555556,\"#d8576b\"],[0.6666666666666666,\"#ed7953\"],[0.7777777777777778,\"#fb9f3a\"],[0.8888888888888888,\"#fdca26\"],[1.0,\"#f0f921\"]],\"sequentialminus\":[[0.0,\"#0d0887\"],[0.1111111111111111,\"#46039f\"],[0.2222222222222222,\"#7201a8\"],[0.3333333333333333,\"#9c179e\"],[0.4444444444444444,\"#bd3786\"],[0.5555555555555556,\"#d8576b\"],[0.6666666666666666,\"#ed7953\"],[0.7777777777777778,\"#fb9f3a\"],[0.8888888888888888,\"#fdca26\"],[1.0,\"#f0f921\"]]},\"colorway\":[\"#636efa\",\"#EF553B\",\"#00cc96\",\"#ab63fa\",\"#FFA15A\",\"#19d3f3\",\"#FF6692\",\"#B6E880\",\"#FF97FF\",\"#FECB52\"],\"font\":{\"color\":\"#2a3f5f\"},\"geo\":{\"bgcolor\":\"white\",\"lakecolor\":\"white\",\"landcolor\":\"#E5ECF6\",\"showlakes\":true,\"showland\":true,\"subunitcolor\":\"white\"},\"hoverlabel\":{\"align\":\"left\"},\"hovermode\":\"closest\",\"mapbox\":{\"style\":\"light\"},\"paper_bgcolor\":\"white\",\"plot_bgcolor\":\"#E5ECF6\",\"polar\":{\"angularaxis\":{\"gridcolor\":\"white\",\"linecolor\":\"white\",\"ticks\":\"\"},\"bgcolor\":\"#E5ECF6\",\"radialaxis\":{\"gridcolor\":\"white\",\"linecolor\":\"white\",\"ticks\":\"\"}},\"scene\":{\"xaxis\":{\"backgroundcolor\":\"#E5ECF6\",\"gridcolor\":\"white\",\"gridwidth\":2,\"linecolor\":\"white\",\"showbackground\":true,\"ticks\":\"\",\"zerolinecolor\":\"white\"},\"yaxis\":{\"backgroundcolor\":\"#E5ECF6\",\"gridcolor\":\"white\",\"gridwidth\":2,\"linecolor\":\"white\",\"showbackground\":true,\"ticks\":\"\",\"zerolinecolor\":\"white\"},\"zaxis\":{\"backgroundcolor\":\"#E5ECF6\",\"gridcolor\":\"white\",\"gridwidth\":2,\"linecolor\":\"white\",\"showbackground\":true,\"ticks\":\"\",\"zerolinecolor\":\"white\"}},\"shapedefaults\":{\"line\":{\"color\":\"#2a3f5f\"}},\"ternary\":{\"aaxis\":{\"gridcolor\":\"white\",\"linecolor\":\"white\",\"ticks\":\"\"},\"baxis\":{\"gridcolor\":\"white\",\"linecolor\":\"white\",\"ticks\":\"\"},\"bgcolor\":\"#E5ECF6\",\"caxis\":{\"gridcolor\":\"white\",\"linecolor\":\"white\",\"ticks\":\"\"}},\"title\":{\"x\":0.05},\"xaxis\":{\"automargin\":true,\"gridcolor\":\"white\",\"linecolor\":\"white\",\"ticks\":\"\",\"title\":{\"standoff\":15},\"zerolinecolor\":\"white\",\"zerolinewidth\":2},\"yaxis\":{\"automargin\":true,\"gridcolor\":\"white\",\"linecolor\":\"white\",\"ticks\":\"\",\"title\":{\"standoff\":15},\"zerolinecolor\":\"white\",\"zerolinewidth\":2}}},\"title\":{\"text\":\"QAOA with General Error Mitigation - MaxCut-Landscape\"}},                        {\"responsive\": true}                    ).then(function(){\n",
       "                            \n",
       "var gd = document.getElementById('961d285a-5f8b-459a-8004-cd79cfb04327');\n",
       "var x = new MutationObserver(function (mutations, observer) {{\n",
       "        var display = window.getComputedStyle(gd).display;\n",
       "        if (!display || display === 'none') {{\n",
       "            console.log([gd, 'removed!']);\n",
       "            Plotly.purge(gd);\n",
       "            observer.disconnect();\n",
       "        }}\n",
       "}});\n",
       "\n",
       "// Listen for the removal of the full notebook cells\n",
       "var notebookContainer = gd.closest('#notebook-container');\n",
       "if (notebookContainer) {{\n",
       "    x.observe(notebookContainer, {childList: true});\n",
       "}}\n",
       "\n",
       "// Listen for the clearing of the current output cell\n",
       "var outputEl = gd.closest('.output');\n",
       "if (outputEl) {{\n",
       "    x.observe(outputEl, {childList: true});\n",
       "}}\n",
       "\n",
       "                        })                };                });            </script>        </div>"
      ]
     },
     "metadata": {},
     "output_type": "display_data"
    }
   ],
   "source": [
    "# Plot landscape in 3D \n",
    "a_gamma = np.arange(0, np.pi, step_size)\n",
    "b_beta = np.arange(0, np.pi, step_size)\n",
    "fig = go.Figure(data=go.Surface(z=landscape, x=a_gamma, y=b_beta))\n",
    "\n",
    "fig.update_traces(contours_z=dict(show=True, usecolormap=True, highlightcolor='limegreen', project_z=True))\n",
    "\n",
    "\n",
    "fig.update_layout(title=\"QAOA with General Error Mitigation - MaxCut-Landscape\", scene=dict(\n",
    "    xaxis_title=\"γ\",\n",
    "    yaxis_title=\"β\",\n",
    "    zaxis_title=\"F(γ,β)\"\n",
    "))"
   ]
  },
  {
   "cell_type": "code",
   "execution_count": 81,
   "id": "7a8d8f7a",
   "metadata": {},
   "outputs": [
    {
     "data": {
      "application/vnd.plotly.v1+json": {
       "config": {
        "plotlyServerURL": "https://plot.ly"
       },
       "data": [
        {
         "colorscale": [
          [
           0,
           "#440154"
          ],
          [
           0.1111111111111111,
           "#482878"
          ],
          [
           0.2222222222222222,
           "#3e4989"
          ],
          [
           0.3333333333333333,
           "#31688e"
          ],
          [
           0.4444444444444444,
           "#26828e"
          ],
          [
           0.5555555555555556,
           "#1f9e89"
          ],
          [
           0.6666666666666666,
           "#35b779"
          ],
          [
           0.7777777777777778,
           "#6ece58"
          ],
          [
           0.8888888888888888,
           "#b5de2b"
          ],
          [
           1,
           "#fde725"
          ]
         ],
         "type": "heatmap",
         "x": [
          0,
          0.1,
          0.2,
          0.30000000000000004,
          0.4,
          0.5,
          0.6000000000000001,
          0.7000000000000001,
          0.8,
          0.9,
          1,
          1.1,
          1.2000000000000002,
          1.3,
          1.4000000000000001,
          1.5,
          1.6,
          1.7000000000000002,
          1.8,
          1.9000000000000001,
          2,
          2.1,
          2.2,
          2.3000000000000003,
          2.4000000000000004,
          2.5,
          2.6,
          2.7,
          2.8000000000000003,
          2.9000000000000004,
          3,
          3.1
         ],
         "y": [
          0,
          0.1,
          0.2,
          0.30000000000000004,
          0.4,
          0.5,
          0.6000000000000001,
          0.7000000000000001,
          0.8,
          0.9,
          1,
          1.1,
          1.2000000000000002,
          1.3,
          1.4000000000000001,
          1.5,
          1.6,
          1.7000000000000002,
          1.8,
          1.9000000000000001,
          2,
          2.1,
          2.2,
          2.3000000000000003,
          2.4000000000000004,
          2.5,
          2.6,
          2.7,
          2.8000000000000003,
          2.9000000000000004,
          3,
          3.1
         ],
         "z": [
          [
           -23.744140625,
           -23.7509765625,
           -23.9189453125,
           -23.9111328125,
           -24.0791015625,
           -23.1357421875,
           -23.2666015625,
           -23.7529296875,
           -24.0654296875,
           -23.6796875,
           -24.1806640625,
           -23.8837890625,
           -23.5439453125,
           -24.4111328125,
           -23.669921875,
           -23.8193359375,
           -24.2294921875,
           -23.44921875,
           -24.0478515625,
           -23.71484375,
           -24.025390625,
           -23.677734375,
           -24.1083984375,
           -23.4306640625,
           -23.666015625,
           -24.3623046875,
           -24.1708984375,
           -23.2021484375,
           -23.2109375,
           -24.185546875,
           -24.0107421875,
           -23.884765625
          ],
          [
           -24.01612785576577,
           -22.48083678037331,
           -23.77800549232136,
           -24.376007898717013,
           -22.784652369262226,
           -21.409171190518958,
           -23.54645230850287,
           -23.761799624310626,
           -22.58147435991155,
           -21.92401223349437,
           -23.254615923767933,
           -23.411738052331536,
           -23.750265534334066,
           -22.07293695271466,
           -23.49067641838097,
           -23.91410350482074,
           -24.1915891259959,
           -22.07727045728518,
           -23.235554123085134,
           -24.76146785637121,
           -24.566998624581966,
           -22.296112979832817,
           -23.93659528779814,
           -24.90823584020485,
           -23.799414721334475,
           -24.008374650845255,
           -24.181670015895396,
           -23.80597858266223,
           -24.559233544276413,
           -24.785405261590746,
           -23.293547155969136,
           -24.090134676267205
          ],
          [
           -24.01337728385464,
           -19.613918861011058,
           -22.707775240363546,
           -24.088022120766148,
           -21.463942354885724,
           -20.073855761871055,
           -22.856879493337853,
           -22.47805014397124,
           -22.442287678953143,
           -21.403250639491805,
           -21.51055809968625,
           -23.072986962573804,
           -23.251409402656176,
           -21.528911725486807,
           -22.713387809513208,
           -25.152585658123108,
           -24.021639554199268,
           -20.275493581872695,
           -22.25848990152261,
           -26.45386604932371,
           -24.361496005947526,
           -22.287347345942294,
           -24.1653241975174,
           -25.60928025108688,
           -23.847928030627546,
           -24.18289310163524,
           -23.882718073524178,
           -24.02032173352959,
           -24.906671876760523,
           -24.55169650203435,
           -24.32980365483967,
           -24.111537377910636
          ],
          [
           -23.72500010783011,
           -19.015186466548926,
           -22.761426846161154,
           -23.143708866828614,
           -21.62970585379257,
           -18.54121789890711,
           -22.137285982727327,
           -21.257171158773218,
           -21.06334422116156,
           -19.873222951572927,
           -21.580870286654964,
           -22.738130824984555,
           -22.897762661474914,
           -20.510696150585623,
           -21.912657711256372,
           -25.53650405369854,
           -24.2484964521613,
           -18.900478852283303,
           -22.52204590406119,
           -27.026487092674977,
           -24.53794655689368,
           -20.78357592838978,
           -24.18383663496146,
           -25.57378282691643,
           -24.325714634917386,
           -23.703455141642827,
           -25.288468598243007,
           -24.911767823536916,
           -23.920407519906906,
           -25.847078612650723,
           -24.58571817324373,
           -23.87674885011724
          ],
          [
           -24.29750805854982,
           -17.03213071659603,
           -21.80023551185342,
           -22.52497510544792,
           -21.10161803301188,
           -18.18957728257087,
           -21.57259712821211,
           -20.189164500516405,
           -20.237398470560446,
           -19.584795748347002,
           -21.680435583120357,
           -21.694013183269078,
           -21.928512363939564,
           -19.562378767367015,
           -22.035578017332426,
           -26.014048612286054,
           -23.83852611663582,
           -18.06306527423989,
           -22.364376603342084,
           -27.786372002409085,
           -25.299281494811247,
           -20.885323543450937,
           -23.815844524229004,
           -26.761307026867254,
           -25.851878077223972,
           -24.438308266652207,
           -25.353696380692988,
           -25.534903532284506,
           -25.162115644800753,
           -26.04698305668118,
           -24.922093365539475,
           -23.718159361807462
          ],
          [
           -23.83791740227492,
           -17.297301575526607,
           -21.05015412166019,
           -20.580854844512963,
           -21.53944321769234,
           -18.534405687118575,
           -20.621836376023214,
           -18.783090720913773,
           -20.926051670258623,
           -20.28753849188584,
           -22.1144650455577,
           -20.882987073651343,
           -21.77549534100241,
           -19.51468607669556,
           -21.410139398349365,
           -26.983872060993985,
           -23.64067403607652,
           -16.778952451863415,
           -22.291426295332407,
           -28.189388881225426,
           -25.530258602722704,
           -20.137943372789245,
           -24.19706108824422,
           -26.79952558056587,
           -26.38144213264267,
           -24.396887172113345,
           -25.512345076412153,
           -25.18578384669471,
           -25.622316924870635,
           -26.1098537763727,
           -25.60280171239036,
           -24.105236111239215
          ],
          [
           -23.882353759435855,
           -17.577229274974457,
           -20.79371701951315,
           -19.629003752159807,
           -22.087177175585822,
           -19.842458716387977,
           -20.786572058815512,
           -17.743299248304005,
           -21.21190830737812,
           -20.94922999679433,
           -21.92439920328339,
           -20.876680391897473,
           -20.33462199891872,
           -19.708267310978403,
           -21.230693299931076,
           -26.821107430349855,
           -22.9164190465825,
           -16.661455507200948,
           -22.236735924149148,
           -28.40943130702952,
           -25.561809576504302,
           -20.33605423281595,
           -24.317556445804087,
           -26.22800803818332,
           -27.427187633072812,
           -24.713746700477753,
           -25.314049918312808,
           -24.2119331111934,
           -26.09899165160852,
           -26.248794506801772,
           -26.386665330279946,
           -24.09177240491883
          ],
          [
           -23.30411726004399,
           -18.8917264147643,
           -20.647019807700623,
           -18.115353255806884,
           -23.788713360078255,
           -21.438500881382218,
           -19.69943622965629,
           -17.96832714170917,
           -21.072078918924,
           -22.257346268393075,
           -22.21775475439463,
           -20.946057957545307,
           -19.437436334691462,
           -21.152644892996893,
           -22.381601741779452,
           -26.075306211782927,
           -22.377958969462245,
           -17.171606815235698,
           -22.687947598993418,
           -28.377864695917268,
           -26.13780268238564,
           -20.54290373215931,
           -23.486838960494982,
           -25.712899945731458,
           -27.67510887708007,
           -24.79329946337093,
           -25.617397306185396,
           -24.014917713692853,
           -26.646783996169365,
           -26.539050379065596,
           -26.880461397283362,
           -23.8816378249532
          ],
          [
           -24.097205712516857,
           -20.03936034555319,
           -20.411250457583627,
           -17.207235926025504,
           -24.816105293168462,
           -23.543839105052538,
           -20.88308532904891,
           -17.646636527019112,
           -21.62089968488122,
           -24.54110144456368,
           -22.67513666099607,
           -21.1205836206686,
           -20.720456359108447,
           -21.780667165363045,
           -23.386143182380902,
           -25.951929028881207,
           -21.633016178524862,
           -19.93341472664845,
           -22.8785460099191,
           -27.35833789435555,
           -25.584231233691877,
           -22.06289129457283,
           -23.53332699289448,
           -24.492347746602768,
           -28.458741785780642,
           -25.060560264080447,
           -25.859367834075776,
           -24.064946388611812,
           -26.377480187316536,
           -26.643831994149835,
           -26.906325670681017,
           -23.902812042162093
          ],
          [
           -25.002698755527312,
           -21.914199755017208,
           -20.55628934111912,
           -16.485946142117974,
           -25.563064303044953,
           -25.235526048991133,
           -21.88640007131193,
           -17.767598872066085,
           -22.91591122222504,
           -26.142389042803842,
           -24.318672748168584,
           -20.52346041490403,
           -19.784486375143302,
           -23.377457804797718,
           -23.70272795278219,
           -26.310216930713114,
           -21.463277737549657,
           -20.34987138362529,
           -23.464228194581278,
           -26.473553938634954,
           -25.607811452428745,
           -22.11558332834471,
           -23.913595830901702,
           -23.972448764149853,
           -28.544647206770765,
           -24.817692227481302,
           -25.01492278418328,
           -24.509311348718622,
           -26.945955731684133,
           -25.67443049808174,
           -27.229289894393915,
           -24.37634443847786
          ],
          [
           -23.79110159180097,
           -24.215462476224264,
           -21.566315059850854,
           -17.36649991895169,
           -26.434091519315032,
           -26.725255246583572,
           -22.789992668998014,
           -18.716978278907984,
           -23.995058785241035,
           -26.637497970010124,
           -24.575508796247604,
           -21.692230454118743,
           -20.304219697111066,
           -24.17508228298033,
           -25.263678721573207,
           -25.42527172610003,
           -21.90626995001146,
           -22.0018257868456,
           -22.949079183759853,
           -25.295828608007813,
           -25.907930374346513,
           -23.87291853986538,
           -23.117047697678224,
           -24.626942641948474,
           -27.63277119739324,
           -25.01117068060317,
           -25.063282891888544,
           -23.398837158422477,
           -26.230234375516886,
           -25.472427052325724,
           -26.27386154363699,
           -23.71838971702926
          ],
          [
           -24.393653359818334,
           -26.046976232787213,
           -22.341207748089396,
           -17.598835762864773,
           -27.152964115235914,
           -28.810848773299867,
           -22.94097748059154,
           -20.293137553634843,
           -24.358719929777813,
           -28.0146193472413,
           -26.64581887575737,
           -22.023910804450843,
           -21.235743114363036,
           -25.85546717944922,
           -26.1884529640668,
           -23.859090126130344,
           -21.85193442565412,
           -23.802958081250875,
           -24.26068367297392,
           -23.946717149519255,
           -24.312977729817312,
           -24.78025851650009,
           -23.176233665917806,
           -23.25508193445164,
           -26.99390066868505,
           -24.937682401626958,
           -24.018391183957547,
           -22.875262012597293,
           -25.857177354903264,
           -24.243282034459362,
           -26.21331491767517,
           -24.55254572725345
          ],
          [
           -24.300919317911024,
           -26.594577021813826,
           -22.213933567708846,
           -18.94622356603494,
           -27.12807113062822,
           -28.682166916968804,
           -23.29012307421017,
           -21.324597623010288,
           -24.43508639762462,
           -28.10131085178224,
           -25.506235968261542,
           -23.126592733957267,
           -22.007800983797853,
           -25.879780909140038,
           -26.10079925133346,
           -23.754374639070882,
           -21.87062920685762,
           -24.31329644157155,
           -24.42310400979605,
           -22.856123630160642,
           -24.614074845960772,
           -24.93411433545292,
           -23.243397113188568,
           -22.711381299066723,
           -26.50727282577425,
           -24.699302497175765,
           -23.665303741087293,
           -23.65682836460127,
           -25.013446278957108,
           -24.401639911314,
           -26.35146983353358,
           -24.300950950678814
          ],
          [
           -24.016728269370848,
           -26.638394122509396,
           -23.029381899684807,
           -20.939183082939227,
           -26.17006709729868,
           -28.78905175953079,
           -23.797595956518954,
           -22.055149918104117,
           -25.123914842516903,
           -27.914924429516155,
           -25.809685751369827,
           -23.157081813166275,
           -23.856482603516234,
           -26.23853708701744,
           -25.70937543408038,
           -23.197206577588442,
           -22.167279467870802,
           -25.39414164967453,
           -23.822409977444504,
           -23.544149066219752,
           -24.37846259315988,
           -25.15982891702493,
           -22.96203830385152,
           -22.27506466440394,
           -24.758048056214992,
           -23.902510804265138,
           -23.080887588607812,
           -23.08969899747836,
           -24.798791178620387,
           -23.688239595321726,
           -25.291087665968984,
           -24.085290566930325
          ],
          [
           -23.54069252029293,
           -26.662538786431536,
           -23.83895364822649,
           -21.32808523647981,
           -25.140284693038637,
           -27.464229713045036,
           -24.273541551617654,
           -22.931838160737424,
           -24.987555545571126,
           -26.32895597842758,
           -25.17502949827274,
           -23.37935616385251,
           -24.024128922036912,
           -25.62826964801142,
           -25.268453920948094,
           -23.307512589507493,
           -22.60756730493954,
           -25.603757026004338,
           -23.634662519648618,
           -23.167390111893997,
           -24.255221702141615,
           -25.34481628485035,
           -23.49186397102229,
           -22.60550983444115,
           -23.975651429181998,
           -23.75205731858236,
           -24.004404780755014,
           -23.19564609306231,
           -23.61867479294525,
           -23.32513360443083,
           -24.69201054440321,
           -24.14368297917253
          ],
          [
           -24.30380554332263,
           -25.1648010980375,
           -24.3694937841651,
           -23.443499083151885,
           -24.871893979919022,
           -25.619689897616148,
           -23.853918769286555,
           -23.30729394542477,
           -24.645542788948326,
           -25.272826038339737,
           -24.22900855614714,
           -24.321467853478882,
           -24.457948448791228,
           -24.85869302014966,
           -24.594845805449676,
           -23.366642116601913,
           -23.13509908949938,
           -23.98552276108408,
           -23.521725115158226,
           -23.420639043847498,
           -23.840437141403406,
           -24.607790692020288,
           -23.764706689840146,
           -23.471456819183377,
           -24.73120061616575,
           -23.989134138297317,
           -23.631474976906333,
           -23.695807818939375,
           -24.386564679564902,
           -23.391530557142485,
           -23.906491842623815,
           -24.055895419453798
          ],
          [
           -24.205706606856616,
           -23.062721128992077,
           -23.738356003571887,
           -24.54074975075174,
           -23.41915754574562,
           -23.350868857156716,
           -23.747040382112058,
           -24.058538447604665,
           -23.421211557099078,
           -24.242345587654587,
           -23.876688698320798,
           -24.319543438687184,
           -23.605187286176296,
           -23.652643756311708,
           -23.58887200872445,
           -24.124985116684133,
           -24.31838260496694,
           -23.997870801088386,
           -23.159949317733208,
           -23.58145935637301,
           -23.269691455105345,
           -23.331438314581952,
           -24.243739089546974,
           -24.489447254117536,
           -24.09438562820815,
           -23.822952114662385,
           -24.276348626825087,
           -24.19120027525472,
           -23.774352283008906,
           -23.886197597555185,
           -23.724739371994602,
           -23.615786306341587
          ],
          [
           -24.002134847159404,
           -20.680647434290616,
           -24.036415406493493,
           -24.73663621898486,
           -22.623909934575533,
           -21.239936536024548,
           -23.044746980339156,
           -22.99838583531013,
           -22.993548012138735,
           -22.027246745791903,
           -23.288697997463537,
           -23.73434401352815,
           -23.665361368041697,
           -22.044929063052244,
           -22.709929297938,
           -25.13639487432093,
           -24.154635834157915,
           -22.25140248419619,
           -23.370257431880145,
           -25.19724316907935,
           -24.64038710606947,
           -22.843595577619777,
           -23.38390660943825,
           -25.254742866433958,
           -23.737979727571307,
           -23.64238026415706,
           -24.3228594497808,
           -24.19875470220107,
           -24.54604168245831,
           -24.90247946365284,
           -23.98954118403083,
           -24.1134050057914
          ],
          [
           -23.820925873607035,
           -19.886804367584784,
           -23.706167012588683,
           -23.890193653900795,
           -22.252899644136054,
           -19.672692454110695,
           -22.622146186635295,
           -22.38623705586391,
           -22.39605049545526,
           -21.05498811144716,
           -22.09193618895095,
           -23.022966461314272,
           -23.629037892581238,
           -20.363506265506178,
           -22.20953778814882,
           -25.709448005092142,
           -24.190255432900535,
           -19.76809405289612,
           -22.70117929595947,
           -26.073682625181434,
           -25.054946921666517,
           -21.807699211752734,
           -24.056037974602187,
           -25.157132760502,
           -25.1048886697518,
           -24.35328373024745,
           -24.57548062320076,
           -24.83039535068572,
           -24.411029243579982,
           -25.269499898357875,
           -22.846168332554875,
           -23.969038949989667
          ],
          [
           -24.174053266484876,
           -17.797400039264705,
           -22.242761561676705,
           -23.190706450638377,
           -21.421790401130156,
           -18.018828744976684,
           -21.741886383140287,
           -20.54549915768625,
           -21.17134518481297,
           -20.527889723871333,
           -21.085709219949376,
           -22.457088369197933,
           -22.28292906127991,
           -19.332736738171135,
           -22.265950990532843,
           -25.946984406330195,
           -23.86038094384798,
           -19.53923141215571,
           -22.029917386345858,
           -27.69643810142124,
           -25.345927196642396,
           -20.786309153016965,
           -24.082210099108934,
           -26.365590692292017,
           -24.578574984943742,
           -23.939863471944197,
           -25.446805002066046,
           -24.434540002395106,
           -24.830287979326965,
           -25.781983102975257,
           -24.93723867827783,
           -24.137855111435087
          ],
          [
           -24.27591698985429,
           -16.84892812144973,
           -21.24893986405599,
           -22.06796228828231,
           -22.336557583938486,
           -18.200333960510264,
           -20.460550238333532,
           -19.91015240026874,
           -21.015791502791576,
           -20.632987735183217,
           -21.087384274842794,
           -21.91659611641648,
           -22.67018086414603,
           -18.509172816661653,
           -21.93506823807938,
           -26.72334025972534,
           -24.212848261134,
           -18.170147613412507,
           -22.22766030461203,
           -28.767747731192337,
           -24.73000730298946,
           -19.540240264997788,
           -23.751082296102172,
           -26.457253085650724,
           -26.159717874365718,
           -24.260044535693602,
           -25.564316589335085,
           -25.511585151748395,
           -25.69383803979209,
           -26.4816449045447,
           -25.97690207106922,
           -23.974188938944902
          ],
          [
           -24.151448743115072,
           -17.489938006631707,
           -21.23044946960691,
           -20.171436804824125,
           -22.052808495077485,
           -18.13013599666728,
           -20.540377279209608,
           -18.63173884703398,
           -20.659247504053848,
           -20.26296225915486,
           -21.969197787758134,
           -20.953964165513977,
           -20.935646681608937,
           -19.44147305855068,
           -21.94799485355376,
           -26.521105513061404,
           -23.02187586844831,
           -16.6113995452649,
           -21.694601816591412,
           -28.493100508448666,
           -25.57907946274242,
           -19.59138502501984,
           -24.20393896567232,
           -25.490443573657537,
           -26.869542269885578,
           -24.365032796664767,
           -26.226884070626934,
           -25.290057192891233,
           -26.22520052402715,
           -27.14797468645504,
           -25.295229370921874,
           -24.341650115866333
          ],
          [
           -24.763014816835966,
           -17.143811416325033,
           -21.18885609201868,
           -19.02293539715784,
           -21.737464707189904,
           -20.489109769527722,
           -20.930771741034064,
           -17.935913951024936,
           -20.866336441979474,
           -22.732940281753326,
           -22.490992483630727,
           -20.73852681754535,
           -20.07784384050436,
           -20.41511343948458,
           -21.903066898370877,
           -26.470234019430002,
           -23.500501747556324,
           -17.34964414232448,
           -21.8318864114687,
           -28.166426610499283,
           -26.107220371718842,
           -20.09326256380334,
           -23.681787128038085,
           -26.54331911248045,
           -27.796999428246558,
           -24.897214460096976,
           -25.605497792110576,
           -24.108584312881764,
           -26.215010791169185,
           -26.636948887459692,
           -26.103305570071253,
           -24.369861176397286
          ],
          [
           -24.08241653517446,
           -19.717008292355167,
           -19.989700771491567,
           -17.652036634502476,
           -23.58381602072442,
           -21.919431832933796,
           -20.320475929528364,
           -17.368963120503725,
           -20.662196861953742,
           -22.276321924199856,
           -22.363211259836472,
           -20.08187035476869,
           -20.931001776717135,
           -21.40293742138239,
           -22.666790418660987,
           -26.109784783797622,
           -21.500081663839552,
           -18.057184607314305,
           -23.1816968262444,
           -28.25847981038025,
           -26.003868049018134,
           -20.932516448495182,
           -23.758676500757797,
           -25.797533593018375,
           -27.89579423441034,
           -24.100404987112682,
           -25.71488513605066,
           -24.408820645016252,
           -26.209061904567694,
           -26.691079393236276,
           -26.495485505863982,
           -24.381059421549352
          ],
          [
           -24.60020704863508,
           -20.99574975468712,
           -19.887958387604925,
           -15.911059955596299,
           -24.720565490857084,
           -24.066681458051978,
           -20.665783654650784,
           -17.019477890796608,
           -22.244958553516994,
           -24.752310501691326,
           -22.999031391494487,
           -20.267085228205097,
           -19.64646821075604,
           -22.11605948124121,
           -23.384006323827,
           -25.8831018701171,
           -21.88220816925129,
           -19.442529456000596,
           -22.782579198233982,
           -27.045272889953637,
           -25.54463103056204,
           -22.042881632411913,
           -23.68886369331631,
           -25.244750134004278,
           -28.089670106330665,
           -25.01052602410434,
           -25.20876226027345,
           -24.550428744404254,
           -26.32865556548735,
           -26.363749063356753,
           -27.372609707520404,
           -24.718430768596168
          ],
          [
           -24.203640351300518,
           -22.722565001427185,
           -21.437851316661455,
           -15.961806254353455,
           -25.47275931079569,
           -25.063034685490013,
           -22.03813353994306,
           -18.369134083588232,
           -22.650704616471085,
           -25.978918677464907,
           -24.99522517446698,
           -20.855267769824174,
           -20.368080060722708,
           -23.718236204660958,
           -23.89016943394169,
           -24.776366379578263,
           -20.980102421232917,
           -21.791210883104963,
           -23.622229301913457,
           -26.489451660732872,
           -24.931737729285906,
           -22.44625235853693,
           -23.420280978154082,
           -25.003363904301153,
           -27.649126540698692,
           -24.901587280337694,
           -25.13889874320298,
           -23.543609740288993,
           -25.608907361708756,
           -26.149656183061737,
           -26.54863810256006,
           -24.30342075135364
          ],
          [
           -24.862015841264164,
           -24.568466120263768,
           -21.951727787091357,
           -15.85208535410173,
           -25.417607441688002,
           -27.214814206658907,
           -22.395219146491545,
           -18.792944106589953,
           -23.93825622058314,
           -27.514292021801133,
           -24.77071120576569,
           -21.421678896296815,
           -20.57355590447632,
           -24.8934008315604,
           -24.86610109910276,
           -24.32398346615119,
           -21.953422502933126,
           -22.911343132610448,
           -23.500479581026966,
           -24.95631841562399,
           -24.66531692463371,
           -24.02618743670045,
           -23.113857744863886,
           -23.477431273018446,
           -27.64352776101454,
           -25.024263960826023,
           -24.312036251346303,
           -23.424189089249758,
           -25.949385443075467,
           -25.328254355676297,
           -26.629060313819863,
           -24.446225584216418
          ],
          [
           -24.030648277788934,
           -26.002674754548266,
           -21.707827381019143,
           -16.74239993836188,
           -26.317375428193824,
           -28.790547643563492,
           -22.660965920905422,
           -19.794523637535654,
           -24.28888799827497,
           -27.795887261142436,
           -25.214430288257105,
           -21.983355122682664,
           -21.832021466894467,
           -25.665198846151878,
           -25.3037716495388,
           -24.21013531464825,
           -21.468716485993042,
           -24.1036469237206,
           -24.33934497348128,
           -23.4939933100689,
           -24.58589605933415,
           -24.45760056964743,
           -22.589355659645545,
           -23.3526850577963,
           -26.542326323736955,
           -24.77550164550221,
           -24.422687822016826,
           -23.18933993955958,
           -25.74041882485016,
           -24.529260496089467,
           -26.10147374922696,
           -24.493648879105184
          ],
          [
           -23.653637191028615,
           -26.46446386788087,
           -22.521262539289104,
           -18.671914127328115,
           -25.753560695830025,
           -28.68651656881681,
           -24.100727885926613,
           -22.07631434280884,
           -24.60648035497373,
           -27.348204721892913,
           -24.982767747146106,
           -22.948036558920652,
           -21.98052605535051,
           -26.449323295429483,
           -25.89186551026145,
           -23.012552559410473,
           -22.225931222613458,
           -25.264456733867483,
           -24.25659955236352,
           -22.931006133210502,
           -23.881511449212713,
           -24.44488924352068,
           -22.910997609826786,
           -22.41735329078394,
           -26.118275914621293,
           -24.55702960979991,
           -23.685783239752563,
           -23.211228838694563,
           -24.744383913306564,
           -24.2833751082031,
           -25.93890617732336,
           -24.484563560977026
          ],
          [
           -23.555008354005743,
           -26.279199115078754,
           -23.084951654034775,
           -20.980497538332752,
           -25.888909626808545,
           -28.071078664255463,
           -23.727758413710998,
           -22.85326880498864,
           -25.256430864148133,
           -27.185273660091124,
           -24.930928732133765,
           -23.377846817917536,
           -22.81411643592772,
           -25.810118756496227,
           -25.533150870449006,
           -23.27355952237641,
           -22.81014622943767,
           -25.72885268370931,
           -24.586404366485652,
           -22.186611499046084,
           -24.009923024665145,
           -24.80293026468082,
           -23.732161880689823,
           -23.577830783707014,
           -24.77164606673623,
           -24.02144148528609,
           -23.891563007074236,
           -23.507803557757157,
           -25.26084930084283,
           -23.894399748737424,
           -25.106907657404687,
           -23.682468125138147
          ],
          [
           -23.989015376070604,
           -26.363900895234515,
           -23.428963403342856,
           -23.107607251078356,
           -25.13542778786665,
           -26.667378736383224,
           -23.735923004146525,
           -23.5205419109961,
           -24.55044922264105,
           -26.112066892938486,
           -24.8505965264482,
           -23.766813927750086,
           -22.76644064432734,
           -25.321501415197112,
           -25.011867053551285,
           -23.185371707138632,
           -23.078458061307266,
           -25.175200087726342,
           -24.34786375459295,
           -22.573320802445895,
           -24.59936809319369,
           -25.295654397458296,
           -24.36126164728745,
           -22.653831860943576,
           -24.687979339037607,
           -24.11239343016989,
           -23.41807678737768,
           -24.210778992830743,
           -23.829626455351523,
           -23.76401730438285,
           -25.20603331541969,
           -23.773524853541442
          ],
          [
           -23.938082131443473,
           -24.464413010303367,
           -23.79380735856458,
           -23.279329763232138,
           -24.423126383998536,
           -24.64465834356656,
           -23.380889150373388,
           -23.860445612747725,
           -23.842553793802757,
           -24.77909191774374,
           -24.224444730682123,
           -24.095605115156598,
           -23.58418786041842,
           -24.779471795365414,
           -23.380624882951608,
           -23.535804641902743,
           -23.793834998451437,
           -23.45568189629264,
           -24.538263727967205,
           -22.6922144509019,
           -24.115803622292024,
           -24.204108647925658,
           -23.623690772626084,
           -23.044155877027457,
           -24.073625582838847,
           -24.086535627997556,
           -24.214956108309924,
           -23.36747904243068,
           -23.924859455100147,
           -23.755616366543507,
           -24.058554329505004,
           -23.75489757232895
          ]
         ]
        },
        {
         "hovertemplate": "x: %{x}<br>y: %{y}<br> z: %{text:.2f}<extra></extra>",
         "marker": {
          "color": "red",
          "line": {
           "width": 1
          },
          "size": 16,
          "symbol": [
           204
          ]
         },
         "mode": "markers",
         "text": [
          "-28.810848773299867"
         ],
         "type": "scatter",
         "x": [
          0.5
         ],
         "y": [
          1.1
         ]
        }
       ],
       "layout": {
        "height": 700,
        "template": {
         "data": {
          "bar": [
           {
            "error_x": {
             "color": "#2a3f5f"
            },
            "error_y": {
             "color": "#2a3f5f"
            },
            "marker": {
             "line": {
              "color": "#E5ECF6",
              "width": 0.5
             },
             "pattern": {
              "fillmode": "overlay",
              "size": 10,
              "solidity": 0.2
             }
            },
            "type": "bar"
           }
          ],
          "barpolar": [
           {
            "marker": {
             "line": {
              "color": "#E5ECF6",
              "width": 0.5
             },
             "pattern": {
              "fillmode": "overlay",
              "size": 10,
              "solidity": 0.2
             }
            },
            "type": "barpolar"
           }
          ],
          "carpet": [
           {
            "aaxis": {
             "endlinecolor": "#2a3f5f",
             "gridcolor": "white",
             "linecolor": "white",
             "minorgridcolor": "white",
             "startlinecolor": "#2a3f5f"
            },
            "baxis": {
             "endlinecolor": "#2a3f5f",
             "gridcolor": "white",
             "linecolor": "white",
             "minorgridcolor": "white",
             "startlinecolor": "#2a3f5f"
            },
            "type": "carpet"
           }
          ],
          "choropleth": [
           {
            "colorbar": {
             "outlinewidth": 0,
             "ticks": ""
            },
            "type": "choropleth"
           }
          ],
          "contour": [
           {
            "colorbar": {
             "outlinewidth": 0,
             "ticks": ""
            },
            "colorscale": [
             [
              0,
              "#0d0887"
             ],
             [
              0.1111111111111111,
              "#46039f"
             ],
             [
              0.2222222222222222,
              "#7201a8"
             ],
             [
              0.3333333333333333,
              "#9c179e"
             ],
             [
              0.4444444444444444,
              "#bd3786"
             ],
             [
              0.5555555555555556,
              "#d8576b"
             ],
             [
              0.6666666666666666,
              "#ed7953"
             ],
             [
              0.7777777777777778,
              "#fb9f3a"
             ],
             [
              0.8888888888888888,
              "#fdca26"
             ],
             [
              1,
              "#f0f921"
             ]
            ],
            "type": "contour"
           }
          ],
          "contourcarpet": [
           {
            "colorbar": {
             "outlinewidth": 0,
             "ticks": ""
            },
            "type": "contourcarpet"
           }
          ],
          "heatmap": [
           {
            "colorbar": {
             "outlinewidth": 0,
             "ticks": ""
            },
            "colorscale": [
             [
              0,
              "#0d0887"
             ],
             [
              0.1111111111111111,
              "#46039f"
             ],
             [
              0.2222222222222222,
              "#7201a8"
             ],
             [
              0.3333333333333333,
              "#9c179e"
             ],
             [
              0.4444444444444444,
              "#bd3786"
             ],
             [
              0.5555555555555556,
              "#d8576b"
             ],
             [
              0.6666666666666666,
              "#ed7953"
             ],
             [
              0.7777777777777778,
              "#fb9f3a"
             ],
             [
              0.8888888888888888,
              "#fdca26"
             ],
             [
              1,
              "#f0f921"
             ]
            ],
            "type": "heatmap"
           }
          ],
          "heatmapgl": [
           {
            "colorbar": {
             "outlinewidth": 0,
             "ticks": ""
            },
            "colorscale": [
             [
              0,
              "#0d0887"
             ],
             [
              0.1111111111111111,
              "#46039f"
             ],
             [
              0.2222222222222222,
              "#7201a8"
             ],
             [
              0.3333333333333333,
              "#9c179e"
             ],
             [
              0.4444444444444444,
              "#bd3786"
             ],
             [
              0.5555555555555556,
              "#d8576b"
             ],
             [
              0.6666666666666666,
              "#ed7953"
             ],
             [
              0.7777777777777778,
              "#fb9f3a"
             ],
             [
              0.8888888888888888,
              "#fdca26"
             ],
             [
              1,
              "#f0f921"
             ]
            ],
            "type": "heatmapgl"
           }
          ],
          "histogram": [
           {
            "marker": {
             "pattern": {
              "fillmode": "overlay",
              "size": 10,
              "solidity": 0.2
             }
            },
            "type": "histogram"
           }
          ],
          "histogram2d": [
           {
            "colorbar": {
             "outlinewidth": 0,
             "ticks": ""
            },
            "colorscale": [
             [
              0,
              "#0d0887"
             ],
             [
              0.1111111111111111,
              "#46039f"
             ],
             [
              0.2222222222222222,
              "#7201a8"
             ],
             [
              0.3333333333333333,
              "#9c179e"
             ],
             [
              0.4444444444444444,
              "#bd3786"
             ],
             [
              0.5555555555555556,
              "#d8576b"
             ],
             [
              0.6666666666666666,
              "#ed7953"
             ],
             [
              0.7777777777777778,
              "#fb9f3a"
             ],
             [
              0.8888888888888888,
              "#fdca26"
             ],
             [
              1,
              "#f0f921"
             ]
            ],
            "type": "histogram2d"
           }
          ],
          "histogram2dcontour": [
           {
            "colorbar": {
             "outlinewidth": 0,
             "ticks": ""
            },
            "colorscale": [
             [
              0,
              "#0d0887"
             ],
             [
              0.1111111111111111,
              "#46039f"
             ],
             [
              0.2222222222222222,
              "#7201a8"
             ],
             [
              0.3333333333333333,
              "#9c179e"
             ],
             [
              0.4444444444444444,
              "#bd3786"
             ],
             [
              0.5555555555555556,
              "#d8576b"
             ],
             [
              0.6666666666666666,
              "#ed7953"
             ],
             [
              0.7777777777777778,
              "#fb9f3a"
             ],
             [
              0.8888888888888888,
              "#fdca26"
             ],
             [
              1,
              "#f0f921"
             ]
            ],
            "type": "histogram2dcontour"
           }
          ],
          "mesh3d": [
           {
            "colorbar": {
             "outlinewidth": 0,
             "ticks": ""
            },
            "type": "mesh3d"
           }
          ],
          "parcoords": [
           {
            "line": {
             "colorbar": {
              "outlinewidth": 0,
              "ticks": ""
             }
            },
            "type": "parcoords"
           }
          ],
          "pie": [
           {
            "automargin": true,
            "type": "pie"
           }
          ],
          "scatter": [
           {
            "marker": {
             "colorbar": {
              "outlinewidth": 0,
              "ticks": ""
             }
            },
            "type": "scatter"
           }
          ],
          "scatter3d": [
           {
            "line": {
             "colorbar": {
              "outlinewidth": 0,
              "ticks": ""
             }
            },
            "marker": {
             "colorbar": {
              "outlinewidth": 0,
              "ticks": ""
             }
            },
            "type": "scatter3d"
           }
          ],
          "scattercarpet": [
           {
            "marker": {
             "colorbar": {
              "outlinewidth": 0,
              "ticks": ""
             }
            },
            "type": "scattercarpet"
           }
          ],
          "scattergeo": [
           {
            "marker": {
             "colorbar": {
              "outlinewidth": 0,
              "ticks": ""
             }
            },
            "type": "scattergeo"
           }
          ],
          "scattergl": [
           {
            "marker": {
             "colorbar": {
              "outlinewidth": 0,
              "ticks": ""
             }
            },
            "type": "scattergl"
           }
          ],
          "scattermapbox": [
           {
            "marker": {
             "colorbar": {
              "outlinewidth": 0,
              "ticks": ""
             }
            },
            "type": "scattermapbox"
           }
          ],
          "scatterpolar": [
           {
            "marker": {
             "colorbar": {
              "outlinewidth": 0,
              "ticks": ""
             }
            },
            "type": "scatterpolar"
           }
          ],
          "scatterpolargl": [
           {
            "marker": {
             "colorbar": {
              "outlinewidth": 0,
              "ticks": ""
             }
            },
            "type": "scatterpolargl"
           }
          ],
          "scatterternary": [
           {
            "marker": {
             "colorbar": {
              "outlinewidth": 0,
              "ticks": ""
             }
            },
            "type": "scatterternary"
           }
          ],
          "surface": [
           {
            "colorbar": {
             "outlinewidth": 0,
             "ticks": ""
            },
            "colorscale": [
             [
              0,
              "#0d0887"
             ],
             [
              0.1111111111111111,
              "#46039f"
             ],
             [
              0.2222222222222222,
              "#7201a8"
             ],
             [
              0.3333333333333333,
              "#9c179e"
             ],
             [
              0.4444444444444444,
              "#bd3786"
             ],
             [
              0.5555555555555556,
              "#d8576b"
             ],
             [
              0.6666666666666666,
              "#ed7953"
             ],
             [
              0.7777777777777778,
              "#fb9f3a"
             ],
             [
              0.8888888888888888,
              "#fdca26"
             ],
             [
              1,
              "#f0f921"
             ]
            ],
            "type": "surface"
           }
          ],
          "table": [
           {
            "cells": {
             "fill": {
              "color": "#EBF0F8"
             },
             "line": {
              "color": "white"
             }
            },
            "header": {
             "fill": {
              "color": "#C8D4E3"
             },
             "line": {
              "color": "white"
             }
            },
            "type": "table"
           }
          ]
         },
         "layout": {
          "annotationdefaults": {
           "arrowcolor": "#2a3f5f",
           "arrowhead": 0,
           "arrowwidth": 1
          },
          "autotypenumbers": "strict",
          "coloraxis": {
           "colorbar": {
            "outlinewidth": 0,
            "ticks": ""
           }
          },
          "colorscale": {
           "diverging": [
            [
             0,
             "#8e0152"
            ],
            [
             0.1,
             "#c51b7d"
            ],
            [
             0.2,
             "#de77ae"
            ],
            [
             0.3,
             "#f1b6da"
            ],
            [
             0.4,
             "#fde0ef"
            ],
            [
             0.5,
             "#f7f7f7"
            ],
            [
             0.6,
             "#e6f5d0"
            ],
            [
             0.7,
             "#b8e186"
            ],
            [
             0.8,
             "#7fbc41"
            ],
            [
             0.9,
             "#4d9221"
            ],
            [
             1,
             "#276419"
            ]
           ],
           "sequential": [
            [
             0,
             "#0d0887"
            ],
            [
             0.1111111111111111,
             "#46039f"
            ],
            [
             0.2222222222222222,
             "#7201a8"
            ],
            [
             0.3333333333333333,
             "#9c179e"
            ],
            [
             0.4444444444444444,
             "#bd3786"
            ],
            [
             0.5555555555555556,
             "#d8576b"
            ],
            [
             0.6666666666666666,
             "#ed7953"
            ],
            [
             0.7777777777777778,
             "#fb9f3a"
            ],
            [
             0.8888888888888888,
             "#fdca26"
            ],
            [
             1,
             "#f0f921"
            ]
           ],
           "sequentialminus": [
            [
             0,
             "#0d0887"
            ],
            [
             0.1111111111111111,
             "#46039f"
            ],
            [
             0.2222222222222222,
             "#7201a8"
            ],
            [
             0.3333333333333333,
             "#9c179e"
            ],
            [
             0.4444444444444444,
             "#bd3786"
            ],
            [
             0.5555555555555556,
             "#d8576b"
            ],
            [
             0.6666666666666666,
             "#ed7953"
            ],
            [
             0.7777777777777778,
             "#fb9f3a"
            ],
            [
             0.8888888888888888,
             "#fdca26"
            ],
            [
             1,
             "#f0f921"
            ]
           ]
          },
          "colorway": [
           "#636efa",
           "#EF553B",
           "#00cc96",
           "#ab63fa",
           "#FFA15A",
           "#19d3f3",
           "#FF6692",
           "#B6E880",
           "#FF97FF",
           "#FECB52"
          ],
          "font": {
           "color": "#2a3f5f"
          },
          "geo": {
           "bgcolor": "white",
           "lakecolor": "white",
           "landcolor": "#E5ECF6",
           "showlakes": true,
           "showland": true,
           "subunitcolor": "white"
          },
          "hoverlabel": {
           "align": "left"
          },
          "hovermode": "closest",
          "mapbox": {
           "style": "light"
          },
          "paper_bgcolor": "white",
          "plot_bgcolor": "#E5ECF6",
          "polar": {
           "angularaxis": {
            "gridcolor": "white",
            "linecolor": "white",
            "ticks": ""
           },
           "bgcolor": "#E5ECF6",
           "radialaxis": {
            "gridcolor": "white",
            "linecolor": "white",
            "ticks": ""
           }
          },
          "scene": {
           "xaxis": {
            "backgroundcolor": "#E5ECF6",
            "gridcolor": "white",
            "gridwidth": 2,
            "linecolor": "white",
            "showbackground": true,
            "ticks": "",
            "zerolinecolor": "white"
           },
           "yaxis": {
            "backgroundcolor": "#E5ECF6",
            "gridcolor": "white",
            "gridwidth": 2,
            "linecolor": "white",
            "showbackground": true,
            "ticks": "",
            "zerolinecolor": "white"
           },
           "zaxis": {
            "backgroundcolor": "#E5ECF6",
            "gridcolor": "white",
            "gridwidth": 2,
            "linecolor": "white",
            "showbackground": true,
            "ticks": "",
            "zerolinecolor": "white"
           }
          },
          "shapedefaults": {
           "line": {
            "color": "#2a3f5f"
           }
          },
          "ternary": {
           "aaxis": {
            "gridcolor": "white",
            "linecolor": "white",
            "ticks": ""
           },
           "baxis": {
            "gridcolor": "white",
            "linecolor": "white",
            "ticks": ""
           },
           "bgcolor": "#E5ECF6",
           "caxis": {
            "gridcolor": "white",
            "linecolor": "white",
            "ticks": ""
           }
          },
          "title": {
           "x": 0.05
          },
          "xaxis": {
           "automargin": true,
           "gridcolor": "white",
           "linecolor": "white",
           "ticks": "",
           "title": {
            "standoff": 15
           },
           "zerolinecolor": "white",
           "zerolinewidth": 2
          },
          "yaxis": {
           "automargin": true,
           "gridcolor": "white",
           "linecolor": "white",
           "ticks": "",
           "title": {
            "standoff": 15
           },
           "zerolinecolor": "white",
           "zerolinewidth": 2
          }
         }
        },
        "title": {
         "text": "F(γ,β)"
        },
        "width": 700,
        "xaxis": {
         "title": {
          "text": "γ"
         }
        },
        "yaxis": {
         "title": {
          "text": "β"
         }
        }
       }
      },
      "text/html": [
       "<div>                            <div id=\"5271763b-5d46-4a15-a02d-7d27fc045083\" class=\"plotly-graph-div\" style=\"height:700px; width:700px;\"></div>            <script type=\"text/javascript\">                require([\"plotly\"], function(Plotly) {                    window.PLOTLYENV=window.PLOTLYENV || {};                                    if (document.getElementById(\"5271763b-5d46-4a15-a02d-7d27fc045083\")) {                    Plotly.newPlot(                        \"5271763b-5d46-4a15-a02d-7d27fc045083\",                        [{\"colorscale\":[[0.0,\"#440154\"],[0.1111111111111111,\"#482878\"],[0.2222222222222222,\"#3e4989\"],[0.3333333333333333,\"#31688e\"],[0.4444444444444444,\"#26828e\"],[0.5555555555555556,\"#1f9e89\"],[0.6666666666666666,\"#35b779\"],[0.7777777777777778,\"#6ece58\"],[0.8888888888888888,\"#b5de2b\"],[1.0,\"#fde725\"]],\"type\":\"heatmap\",\"x\":[0.0,0.1,0.2,0.30000000000000004,0.4,0.5,0.6000000000000001,0.7000000000000001,0.8,0.9,1.0,1.1,1.2000000000000002,1.3,1.4000000000000001,1.5,1.6,1.7000000000000002,1.8,1.9000000000000001,2.0,2.1,2.2,2.3000000000000003,2.4000000000000004,2.5,2.6,2.7,2.8000000000000003,2.9000000000000004,3.0,3.1],\"y\":[0.0,0.1,0.2,0.30000000000000004,0.4,0.5,0.6000000000000001,0.7000000000000001,0.8,0.9,1.0,1.1,1.2000000000000002,1.3,1.4000000000000001,1.5,1.6,1.7000000000000002,1.8,1.9000000000000001,2.0,2.1,2.2,2.3000000000000003,2.4000000000000004,2.5,2.6,2.7,2.8000000000000003,2.9000000000000004,3.0,3.1],\"z\":[[-23.744140625,-23.7509765625,-23.9189453125,-23.9111328125,-24.0791015625,-23.1357421875,-23.2666015625,-23.7529296875,-24.0654296875,-23.6796875,-24.1806640625,-23.8837890625,-23.5439453125,-24.4111328125,-23.669921875,-23.8193359375,-24.2294921875,-23.44921875,-24.0478515625,-23.71484375,-24.025390625,-23.677734375,-24.1083984375,-23.4306640625,-23.666015625,-24.3623046875,-24.1708984375,-23.2021484375,-23.2109375,-24.185546875,-24.0107421875,-23.884765625],[-24.01612785576577,-22.48083678037331,-23.77800549232136,-24.376007898717013,-22.784652369262226,-21.409171190518958,-23.54645230850287,-23.761799624310626,-22.58147435991155,-21.92401223349437,-23.254615923767933,-23.411738052331536,-23.750265534334066,-22.07293695271466,-23.49067641838097,-23.91410350482074,-24.1915891259959,-22.07727045728518,-23.235554123085134,-24.76146785637121,-24.566998624581966,-22.296112979832817,-23.93659528779814,-24.90823584020485,-23.799414721334475,-24.008374650845255,-24.181670015895396,-23.80597858266223,-24.559233544276413,-24.785405261590746,-23.293547155969136,-24.090134676267205],[-24.01337728385464,-19.613918861011058,-22.707775240363546,-24.088022120766148,-21.463942354885724,-20.073855761871055,-22.856879493337853,-22.47805014397124,-22.442287678953143,-21.403250639491805,-21.51055809968625,-23.072986962573804,-23.251409402656176,-21.528911725486807,-22.713387809513208,-25.152585658123108,-24.021639554199268,-20.275493581872695,-22.25848990152261,-26.45386604932371,-24.361496005947526,-22.287347345942294,-24.1653241975174,-25.60928025108688,-23.847928030627546,-24.18289310163524,-23.882718073524178,-24.02032173352959,-24.906671876760523,-24.55169650203435,-24.32980365483967,-24.111537377910636],[-23.72500010783011,-19.015186466548926,-22.761426846161154,-23.143708866828614,-21.62970585379257,-18.54121789890711,-22.137285982727327,-21.257171158773218,-21.06334422116156,-19.873222951572927,-21.580870286654964,-22.738130824984555,-22.897762661474914,-20.510696150585623,-21.912657711256372,-25.53650405369854,-24.2484964521613,-18.900478852283303,-22.52204590406119,-27.026487092674977,-24.53794655689368,-20.78357592838978,-24.18383663496146,-25.57378282691643,-24.325714634917386,-23.703455141642827,-25.288468598243007,-24.911767823536916,-23.920407519906906,-25.847078612650723,-24.58571817324373,-23.87674885011724],[-24.29750805854982,-17.03213071659603,-21.80023551185342,-22.52497510544792,-21.10161803301188,-18.18957728257087,-21.57259712821211,-20.189164500516405,-20.237398470560446,-19.584795748347002,-21.680435583120357,-21.694013183269078,-21.928512363939564,-19.562378767367015,-22.035578017332426,-26.014048612286054,-23.83852611663582,-18.06306527423989,-22.364376603342084,-27.786372002409085,-25.299281494811247,-20.885323543450937,-23.815844524229004,-26.761307026867254,-25.851878077223972,-24.438308266652207,-25.353696380692988,-25.534903532284506,-25.162115644800753,-26.04698305668118,-24.922093365539475,-23.718159361807462],[-23.83791740227492,-17.297301575526607,-21.05015412166019,-20.580854844512963,-21.53944321769234,-18.534405687118575,-20.621836376023214,-18.783090720913773,-20.926051670258623,-20.28753849188584,-22.1144650455577,-20.882987073651343,-21.77549534100241,-19.51468607669556,-21.410139398349365,-26.983872060993985,-23.64067403607652,-16.778952451863415,-22.291426295332407,-28.189388881225426,-25.530258602722704,-20.137943372789245,-24.19706108824422,-26.79952558056587,-26.38144213264267,-24.396887172113345,-25.512345076412153,-25.18578384669471,-25.622316924870635,-26.1098537763727,-25.60280171239036,-24.105236111239215],[-23.882353759435855,-17.577229274974457,-20.79371701951315,-19.629003752159807,-22.087177175585822,-19.842458716387977,-20.786572058815512,-17.743299248304005,-21.21190830737812,-20.94922999679433,-21.92439920328339,-20.876680391897473,-20.33462199891872,-19.708267310978403,-21.230693299931076,-26.821107430349855,-22.9164190465825,-16.661455507200948,-22.236735924149148,-28.40943130702952,-25.561809576504302,-20.33605423281595,-24.317556445804087,-26.22800803818332,-27.427187633072812,-24.713746700477753,-25.314049918312808,-24.2119331111934,-26.09899165160852,-26.248794506801772,-26.386665330279946,-24.09177240491883],[-23.30411726004399,-18.8917264147643,-20.647019807700623,-18.115353255806884,-23.788713360078255,-21.438500881382218,-19.69943622965629,-17.96832714170917,-21.072078918924,-22.257346268393075,-22.21775475439463,-20.946057957545307,-19.437436334691462,-21.152644892996893,-22.381601741779452,-26.075306211782927,-22.377958969462245,-17.171606815235698,-22.687947598993418,-28.377864695917268,-26.13780268238564,-20.54290373215931,-23.486838960494982,-25.712899945731458,-27.67510887708007,-24.79329946337093,-25.617397306185396,-24.014917713692853,-26.646783996169365,-26.539050379065596,-26.880461397283362,-23.8816378249532],[-24.097205712516857,-20.03936034555319,-20.411250457583627,-17.207235926025504,-24.816105293168462,-23.543839105052538,-20.88308532904891,-17.646636527019112,-21.62089968488122,-24.54110144456368,-22.67513666099607,-21.1205836206686,-20.720456359108447,-21.780667165363045,-23.386143182380902,-25.951929028881207,-21.633016178524862,-19.93341472664845,-22.8785460099191,-27.35833789435555,-25.584231233691877,-22.06289129457283,-23.53332699289448,-24.492347746602768,-28.458741785780642,-25.060560264080447,-25.859367834075776,-24.064946388611812,-26.377480187316536,-26.643831994149835,-26.906325670681017,-23.902812042162093],[-25.002698755527312,-21.914199755017208,-20.55628934111912,-16.485946142117974,-25.563064303044953,-25.235526048991133,-21.88640007131193,-17.767598872066085,-22.91591122222504,-26.142389042803842,-24.318672748168584,-20.52346041490403,-19.784486375143302,-23.377457804797718,-23.70272795278219,-26.310216930713114,-21.463277737549657,-20.34987138362529,-23.464228194581278,-26.473553938634954,-25.607811452428745,-22.11558332834471,-23.913595830901702,-23.972448764149853,-28.544647206770765,-24.817692227481302,-25.01492278418328,-24.509311348718622,-26.945955731684133,-25.67443049808174,-27.229289894393915,-24.37634443847786],[-23.79110159180097,-24.215462476224264,-21.566315059850854,-17.36649991895169,-26.434091519315032,-26.725255246583572,-22.789992668998014,-18.716978278907984,-23.995058785241035,-26.637497970010124,-24.575508796247604,-21.692230454118743,-20.304219697111066,-24.17508228298033,-25.263678721573207,-25.42527172610003,-21.90626995001146,-22.0018257868456,-22.949079183759853,-25.295828608007813,-25.907930374346513,-23.87291853986538,-23.117047697678224,-24.626942641948474,-27.63277119739324,-25.01117068060317,-25.063282891888544,-23.398837158422477,-26.230234375516886,-25.472427052325724,-26.27386154363699,-23.71838971702926],[-24.393653359818334,-26.046976232787213,-22.341207748089396,-17.598835762864773,-27.152964115235914,-28.810848773299867,-22.94097748059154,-20.293137553634843,-24.358719929777813,-28.0146193472413,-26.64581887575737,-22.023910804450843,-21.235743114363036,-25.85546717944922,-26.1884529640668,-23.859090126130344,-21.85193442565412,-23.802958081250875,-24.26068367297392,-23.946717149519255,-24.312977729817312,-24.78025851650009,-23.176233665917806,-23.25508193445164,-26.99390066868505,-24.937682401626958,-24.018391183957547,-22.875262012597293,-25.857177354903264,-24.243282034459362,-26.21331491767517,-24.55254572725345],[-24.300919317911024,-26.594577021813826,-22.213933567708846,-18.94622356603494,-27.12807113062822,-28.682166916968804,-23.29012307421017,-21.324597623010288,-24.43508639762462,-28.10131085178224,-25.506235968261542,-23.126592733957267,-22.007800983797853,-25.879780909140038,-26.10079925133346,-23.754374639070882,-21.87062920685762,-24.31329644157155,-24.42310400979605,-22.856123630160642,-24.614074845960772,-24.93411433545292,-23.243397113188568,-22.711381299066723,-26.50727282577425,-24.699302497175765,-23.665303741087293,-23.65682836460127,-25.013446278957108,-24.401639911314,-26.35146983353358,-24.300950950678814],[-24.016728269370848,-26.638394122509396,-23.029381899684807,-20.939183082939227,-26.17006709729868,-28.78905175953079,-23.797595956518954,-22.055149918104117,-25.123914842516903,-27.914924429516155,-25.809685751369827,-23.157081813166275,-23.856482603516234,-26.23853708701744,-25.70937543408038,-23.197206577588442,-22.167279467870802,-25.39414164967453,-23.822409977444504,-23.544149066219752,-24.37846259315988,-25.15982891702493,-22.96203830385152,-22.27506466440394,-24.758048056214992,-23.902510804265138,-23.080887588607812,-23.08969899747836,-24.798791178620387,-23.688239595321726,-25.291087665968984,-24.085290566930325],[-23.54069252029293,-26.662538786431536,-23.83895364822649,-21.32808523647981,-25.140284693038637,-27.464229713045036,-24.273541551617654,-22.931838160737424,-24.987555545571126,-26.32895597842758,-25.17502949827274,-23.37935616385251,-24.024128922036912,-25.62826964801142,-25.268453920948094,-23.307512589507493,-22.60756730493954,-25.603757026004338,-23.634662519648618,-23.167390111893997,-24.255221702141615,-25.34481628485035,-23.49186397102229,-22.60550983444115,-23.975651429181998,-23.75205731858236,-24.004404780755014,-23.19564609306231,-23.61867479294525,-23.32513360443083,-24.69201054440321,-24.14368297917253],[-24.30380554332263,-25.1648010980375,-24.3694937841651,-23.443499083151885,-24.871893979919022,-25.619689897616148,-23.853918769286555,-23.30729394542477,-24.645542788948326,-25.272826038339737,-24.22900855614714,-24.321467853478882,-24.457948448791228,-24.85869302014966,-24.594845805449676,-23.366642116601913,-23.13509908949938,-23.98552276108408,-23.521725115158226,-23.420639043847498,-23.840437141403406,-24.607790692020288,-23.764706689840146,-23.471456819183377,-24.73120061616575,-23.989134138297317,-23.631474976906333,-23.695807818939375,-24.386564679564902,-23.391530557142485,-23.906491842623815,-24.055895419453798],[-24.205706606856616,-23.062721128992077,-23.738356003571887,-24.54074975075174,-23.41915754574562,-23.350868857156716,-23.747040382112058,-24.058538447604665,-23.421211557099078,-24.242345587654587,-23.876688698320798,-24.319543438687184,-23.605187286176296,-23.652643756311708,-23.58887200872445,-24.124985116684133,-24.31838260496694,-23.997870801088386,-23.159949317733208,-23.58145935637301,-23.269691455105345,-23.331438314581952,-24.243739089546974,-24.489447254117536,-24.09438562820815,-23.822952114662385,-24.276348626825087,-24.19120027525472,-23.774352283008906,-23.886197597555185,-23.724739371994602,-23.615786306341587],[-24.002134847159404,-20.680647434290616,-24.036415406493493,-24.73663621898486,-22.623909934575533,-21.239936536024548,-23.044746980339156,-22.99838583531013,-22.993548012138735,-22.027246745791903,-23.288697997463537,-23.73434401352815,-23.665361368041697,-22.044929063052244,-22.709929297938,-25.13639487432093,-24.154635834157915,-22.25140248419619,-23.370257431880145,-25.19724316907935,-24.64038710606947,-22.843595577619777,-23.38390660943825,-25.254742866433958,-23.737979727571307,-23.64238026415706,-24.3228594497808,-24.19875470220107,-24.54604168245831,-24.90247946365284,-23.98954118403083,-24.1134050057914],[-23.820925873607035,-19.886804367584784,-23.706167012588683,-23.890193653900795,-22.252899644136054,-19.672692454110695,-22.622146186635295,-22.38623705586391,-22.39605049545526,-21.05498811144716,-22.09193618895095,-23.022966461314272,-23.629037892581238,-20.363506265506178,-22.20953778814882,-25.709448005092142,-24.190255432900535,-19.76809405289612,-22.70117929595947,-26.073682625181434,-25.054946921666517,-21.807699211752734,-24.056037974602187,-25.157132760502,-25.1048886697518,-24.35328373024745,-24.57548062320076,-24.83039535068572,-24.411029243579982,-25.269499898357875,-22.846168332554875,-23.969038949989667],[-24.174053266484876,-17.797400039264705,-22.242761561676705,-23.190706450638377,-21.421790401130156,-18.018828744976684,-21.741886383140287,-20.54549915768625,-21.17134518481297,-20.527889723871333,-21.085709219949376,-22.457088369197933,-22.28292906127991,-19.332736738171135,-22.265950990532843,-25.946984406330195,-23.86038094384798,-19.53923141215571,-22.029917386345858,-27.69643810142124,-25.345927196642396,-20.786309153016965,-24.082210099108934,-26.365590692292017,-24.578574984943742,-23.939863471944197,-25.446805002066046,-24.434540002395106,-24.830287979326965,-25.781983102975257,-24.93723867827783,-24.137855111435087],[-24.27591698985429,-16.84892812144973,-21.24893986405599,-22.06796228828231,-22.336557583938486,-18.200333960510264,-20.460550238333532,-19.91015240026874,-21.015791502791576,-20.632987735183217,-21.087384274842794,-21.91659611641648,-22.67018086414603,-18.509172816661653,-21.93506823807938,-26.72334025972534,-24.212848261134,-18.170147613412507,-22.22766030461203,-28.767747731192337,-24.73000730298946,-19.540240264997788,-23.751082296102172,-26.457253085650724,-26.159717874365718,-24.260044535693602,-25.564316589335085,-25.511585151748395,-25.69383803979209,-26.4816449045447,-25.97690207106922,-23.974188938944902],[-24.151448743115072,-17.489938006631707,-21.23044946960691,-20.171436804824125,-22.052808495077485,-18.13013599666728,-20.540377279209608,-18.63173884703398,-20.659247504053848,-20.26296225915486,-21.969197787758134,-20.953964165513977,-20.935646681608937,-19.44147305855068,-21.94799485355376,-26.521105513061404,-23.02187586844831,-16.6113995452649,-21.694601816591412,-28.493100508448666,-25.57907946274242,-19.59138502501984,-24.20393896567232,-25.490443573657537,-26.869542269885578,-24.365032796664767,-26.226884070626934,-25.290057192891233,-26.22520052402715,-27.14797468645504,-25.295229370921874,-24.341650115866333],[-24.763014816835966,-17.143811416325033,-21.18885609201868,-19.02293539715784,-21.737464707189904,-20.489109769527722,-20.930771741034064,-17.935913951024936,-20.866336441979474,-22.732940281753326,-22.490992483630727,-20.73852681754535,-20.07784384050436,-20.41511343948458,-21.903066898370877,-26.470234019430002,-23.500501747556324,-17.34964414232448,-21.8318864114687,-28.166426610499283,-26.107220371718842,-20.09326256380334,-23.681787128038085,-26.54331911248045,-27.796999428246558,-24.897214460096976,-25.605497792110576,-24.108584312881764,-26.215010791169185,-26.636948887459692,-26.103305570071253,-24.369861176397286],[-24.08241653517446,-19.717008292355167,-19.989700771491567,-17.652036634502476,-23.58381602072442,-21.919431832933796,-20.320475929528364,-17.368963120503725,-20.662196861953742,-22.276321924199856,-22.363211259836472,-20.08187035476869,-20.931001776717135,-21.40293742138239,-22.666790418660987,-26.109784783797622,-21.500081663839552,-18.057184607314305,-23.1816968262444,-28.25847981038025,-26.003868049018134,-20.932516448495182,-23.758676500757797,-25.797533593018375,-27.89579423441034,-24.100404987112682,-25.71488513605066,-24.408820645016252,-26.209061904567694,-26.691079393236276,-26.495485505863982,-24.381059421549352],[-24.60020704863508,-20.99574975468712,-19.887958387604925,-15.911059955596299,-24.720565490857084,-24.066681458051978,-20.665783654650784,-17.019477890796608,-22.244958553516994,-24.752310501691326,-22.999031391494487,-20.267085228205097,-19.64646821075604,-22.11605948124121,-23.384006323827,-25.8831018701171,-21.88220816925129,-19.442529456000596,-22.782579198233982,-27.045272889953637,-25.54463103056204,-22.042881632411913,-23.68886369331631,-25.244750134004278,-28.089670106330665,-25.01052602410434,-25.20876226027345,-24.550428744404254,-26.32865556548735,-26.363749063356753,-27.372609707520404,-24.718430768596168],[-24.203640351300518,-22.722565001427185,-21.437851316661455,-15.961806254353455,-25.47275931079569,-25.063034685490013,-22.03813353994306,-18.369134083588232,-22.650704616471085,-25.978918677464907,-24.99522517446698,-20.855267769824174,-20.368080060722708,-23.718236204660958,-23.89016943394169,-24.776366379578263,-20.980102421232917,-21.791210883104963,-23.622229301913457,-26.489451660732872,-24.931737729285906,-22.44625235853693,-23.420280978154082,-25.003363904301153,-27.649126540698692,-24.901587280337694,-25.13889874320298,-23.543609740288993,-25.608907361708756,-26.149656183061737,-26.54863810256006,-24.30342075135364],[-24.862015841264164,-24.568466120263768,-21.951727787091357,-15.85208535410173,-25.417607441688002,-27.214814206658907,-22.395219146491545,-18.792944106589953,-23.93825622058314,-27.514292021801133,-24.77071120576569,-21.421678896296815,-20.57355590447632,-24.8934008315604,-24.86610109910276,-24.32398346615119,-21.953422502933126,-22.911343132610448,-23.500479581026966,-24.95631841562399,-24.66531692463371,-24.02618743670045,-23.113857744863886,-23.477431273018446,-27.64352776101454,-25.024263960826023,-24.312036251346303,-23.424189089249758,-25.949385443075467,-25.328254355676297,-26.629060313819863,-24.446225584216418],[-24.030648277788934,-26.002674754548266,-21.707827381019143,-16.74239993836188,-26.317375428193824,-28.790547643563492,-22.660965920905422,-19.794523637535654,-24.28888799827497,-27.795887261142436,-25.214430288257105,-21.983355122682664,-21.832021466894467,-25.665198846151878,-25.3037716495388,-24.21013531464825,-21.468716485993042,-24.1036469237206,-24.33934497348128,-23.4939933100689,-24.58589605933415,-24.45760056964743,-22.589355659645545,-23.3526850577963,-26.542326323736955,-24.77550164550221,-24.422687822016826,-23.18933993955958,-25.74041882485016,-24.529260496089467,-26.10147374922696,-24.493648879105184],[-23.653637191028615,-26.46446386788087,-22.521262539289104,-18.671914127328115,-25.753560695830025,-28.68651656881681,-24.100727885926613,-22.07631434280884,-24.60648035497373,-27.348204721892913,-24.982767747146106,-22.948036558920652,-21.98052605535051,-26.449323295429483,-25.89186551026145,-23.012552559410473,-22.225931222613458,-25.264456733867483,-24.25659955236352,-22.931006133210502,-23.881511449212713,-24.44488924352068,-22.910997609826786,-22.41735329078394,-26.118275914621293,-24.55702960979991,-23.685783239752563,-23.211228838694563,-24.744383913306564,-24.2833751082031,-25.93890617732336,-24.484563560977026],[-23.555008354005743,-26.279199115078754,-23.084951654034775,-20.980497538332752,-25.888909626808545,-28.071078664255463,-23.727758413710998,-22.85326880498864,-25.256430864148133,-27.185273660091124,-24.930928732133765,-23.377846817917536,-22.81411643592772,-25.810118756496227,-25.533150870449006,-23.27355952237641,-22.81014622943767,-25.72885268370931,-24.586404366485652,-22.186611499046084,-24.009923024665145,-24.80293026468082,-23.732161880689823,-23.577830783707014,-24.77164606673623,-24.02144148528609,-23.891563007074236,-23.507803557757157,-25.26084930084283,-23.894399748737424,-25.106907657404687,-23.682468125138147],[-23.989015376070604,-26.363900895234515,-23.428963403342856,-23.107607251078356,-25.13542778786665,-26.667378736383224,-23.735923004146525,-23.5205419109961,-24.55044922264105,-26.112066892938486,-24.8505965264482,-23.766813927750086,-22.76644064432734,-25.321501415197112,-25.011867053551285,-23.185371707138632,-23.078458061307266,-25.175200087726342,-24.34786375459295,-22.573320802445895,-24.59936809319369,-25.295654397458296,-24.36126164728745,-22.653831860943576,-24.687979339037607,-24.11239343016989,-23.41807678737768,-24.210778992830743,-23.829626455351523,-23.76401730438285,-25.20603331541969,-23.773524853541442],[-23.938082131443473,-24.464413010303367,-23.79380735856458,-23.279329763232138,-24.423126383998536,-24.64465834356656,-23.380889150373388,-23.860445612747725,-23.842553793802757,-24.77909191774374,-24.224444730682123,-24.095605115156598,-23.58418786041842,-24.779471795365414,-23.380624882951608,-23.535804641902743,-23.793834998451437,-23.45568189629264,-24.538263727967205,-22.6922144509019,-24.115803622292024,-24.204108647925658,-23.623690772626084,-23.044155877027457,-24.073625582838847,-24.086535627997556,-24.214956108309924,-23.36747904243068,-23.924859455100147,-23.755616366543507,-24.058554329505004,-23.75489757232895]]},{\"hovertemplate\":\"x: %{x}<br>y: %{y}<br> z: %{text:.2f}<extra></extra>\",\"marker\":{\"color\":\"red\",\"line\":{\"width\":1},\"size\":16,\"symbol\":[204]},\"mode\":\"markers\",\"text\":[\"-28.810848773299867\"],\"type\":\"scatter\",\"x\":[0.5],\"y\":[1.1]}],                        {\"height\":700,\"template\":{\"data\":{\"bar\":[{\"error_x\":{\"color\":\"#2a3f5f\"},\"error_y\":{\"color\":\"#2a3f5f\"},\"marker\":{\"line\":{\"color\":\"#E5ECF6\",\"width\":0.5},\"pattern\":{\"fillmode\":\"overlay\",\"size\":10,\"solidity\":0.2}},\"type\":\"bar\"}],\"barpolar\":[{\"marker\":{\"line\":{\"color\":\"#E5ECF6\",\"width\":0.5},\"pattern\":{\"fillmode\":\"overlay\",\"size\":10,\"solidity\":0.2}},\"type\":\"barpolar\"}],\"carpet\":[{\"aaxis\":{\"endlinecolor\":\"#2a3f5f\",\"gridcolor\":\"white\",\"linecolor\":\"white\",\"minorgridcolor\":\"white\",\"startlinecolor\":\"#2a3f5f\"},\"baxis\":{\"endlinecolor\":\"#2a3f5f\",\"gridcolor\":\"white\",\"linecolor\":\"white\",\"minorgridcolor\":\"white\",\"startlinecolor\":\"#2a3f5f\"},\"type\":\"carpet\"}],\"choropleth\":[{\"colorbar\":{\"outlinewidth\":0,\"ticks\":\"\"},\"type\":\"choropleth\"}],\"contour\":[{\"colorbar\":{\"outlinewidth\":0,\"ticks\":\"\"},\"colorscale\":[[0.0,\"#0d0887\"],[0.1111111111111111,\"#46039f\"],[0.2222222222222222,\"#7201a8\"],[0.3333333333333333,\"#9c179e\"],[0.4444444444444444,\"#bd3786\"],[0.5555555555555556,\"#d8576b\"],[0.6666666666666666,\"#ed7953\"],[0.7777777777777778,\"#fb9f3a\"],[0.8888888888888888,\"#fdca26\"],[1.0,\"#f0f921\"]],\"type\":\"contour\"}],\"contourcarpet\":[{\"colorbar\":{\"outlinewidth\":0,\"ticks\":\"\"},\"type\":\"contourcarpet\"}],\"heatmap\":[{\"colorbar\":{\"outlinewidth\":0,\"ticks\":\"\"},\"colorscale\":[[0.0,\"#0d0887\"],[0.1111111111111111,\"#46039f\"],[0.2222222222222222,\"#7201a8\"],[0.3333333333333333,\"#9c179e\"],[0.4444444444444444,\"#bd3786\"],[0.5555555555555556,\"#d8576b\"],[0.6666666666666666,\"#ed7953\"],[0.7777777777777778,\"#fb9f3a\"],[0.8888888888888888,\"#fdca26\"],[1.0,\"#f0f921\"]],\"type\":\"heatmap\"}],\"heatmapgl\":[{\"colorbar\":{\"outlinewidth\":0,\"ticks\":\"\"},\"colorscale\":[[0.0,\"#0d0887\"],[0.1111111111111111,\"#46039f\"],[0.2222222222222222,\"#7201a8\"],[0.3333333333333333,\"#9c179e\"],[0.4444444444444444,\"#bd3786\"],[0.5555555555555556,\"#d8576b\"],[0.6666666666666666,\"#ed7953\"],[0.7777777777777778,\"#fb9f3a\"],[0.8888888888888888,\"#fdca26\"],[1.0,\"#f0f921\"]],\"type\":\"heatmapgl\"}],\"histogram\":[{\"marker\":{\"pattern\":{\"fillmode\":\"overlay\",\"size\":10,\"solidity\":0.2}},\"type\":\"histogram\"}],\"histogram2d\":[{\"colorbar\":{\"outlinewidth\":0,\"ticks\":\"\"},\"colorscale\":[[0.0,\"#0d0887\"],[0.1111111111111111,\"#46039f\"],[0.2222222222222222,\"#7201a8\"],[0.3333333333333333,\"#9c179e\"],[0.4444444444444444,\"#bd3786\"],[0.5555555555555556,\"#d8576b\"],[0.6666666666666666,\"#ed7953\"],[0.7777777777777778,\"#fb9f3a\"],[0.8888888888888888,\"#fdca26\"],[1.0,\"#f0f921\"]],\"type\":\"histogram2d\"}],\"histogram2dcontour\":[{\"colorbar\":{\"outlinewidth\":0,\"ticks\":\"\"},\"colorscale\":[[0.0,\"#0d0887\"],[0.1111111111111111,\"#46039f\"],[0.2222222222222222,\"#7201a8\"],[0.3333333333333333,\"#9c179e\"],[0.4444444444444444,\"#bd3786\"],[0.5555555555555556,\"#d8576b\"],[0.6666666666666666,\"#ed7953\"],[0.7777777777777778,\"#fb9f3a\"],[0.8888888888888888,\"#fdca26\"],[1.0,\"#f0f921\"]],\"type\":\"histogram2dcontour\"}],\"mesh3d\":[{\"colorbar\":{\"outlinewidth\":0,\"ticks\":\"\"},\"type\":\"mesh3d\"}],\"parcoords\":[{\"line\":{\"colorbar\":{\"outlinewidth\":0,\"ticks\":\"\"}},\"type\":\"parcoords\"}],\"pie\":[{\"automargin\":true,\"type\":\"pie\"}],\"scatter\":[{\"marker\":{\"colorbar\":{\"outlinewidth\":0,\"ticks\":\"\"}},\"type\":\"scatter\"}],\"scatter3d\":[{\"line\":{\"colorbar\":{\"outlinewidth\":0,\"ticks\":\"\"}},\"marker\":{\"colorbar\":{\"outlinewidth\":0,\"ticks\":\"\"}},\"type\":\"scatter3d\"}],\"scattercarpet\":[{\"marker\":{\"colorbar\":{\"outlinewidth\":0,\"ticks\":\"\"}},\"type\":\"scattercarpet\"}],\"scattergeo\":[{\"marker\":{\"colorbar\":{\"outlinewidth\":0,\"ticks\":\"\"}},\"type\":\"scattergeo\"}],\"scattergl\":[{\"marker\":{\"colorbar\":{\"outlinewidth\":0,\"ticks\":\"\"}},\"type\":\"scattergl\"}],\"scattermapbox\":[{\"marker\":{\"colorbar\":{\"outlinewidth\":0,\"ticks\":\"\"}},\"type\":\"scattermapbox\"}],\"scatterpolar\":[{\"marker\":{\"colorbar\":{\"outlinewidth\":0,\"ticks\":\"\"}},\"type\":\"scatterpolar\"}],\"scatterpolargl\":[{\"marker\":{\"colorbar\":{\"outlinewidth\":0,\"ticks\":\"\"}},\"type\":\"scatterpolargl\"}],\"scatterternary\":[{\"marker\":{\"colorbar\":{\"outlinewidth\":0,\"ticks\":\"\"}},\"type\":\"scatterternary\"}],\"surface\":[{\"colorbar\":{\"outlinewidth\":0,\"ticks\":\"\"},\"colorscale\":[[0.0,\"#0d0887\"],[0.1111111111111111,\"#46039f\"],[0.2222222222222222,\"#7201a8\"],[0.3333333333333333,\"#9c179e\"],[0.4444444444444444,\"#bd3786\"],[0.5555555555555556,\"#d8576b\"],[0.6666666666666666,\"#ed7953\"],[0.7777777777777778,\"#fb9f3a\"],[0.8888888888888888,\"#fdca26\"],[1.0,\"#f0f921\"]],\"type\":\"surface\"}],\"table\":[{\"cells\":{\"fill\":{\"color\":\"#EBF0F8\"},\"line\":{\"color\":\"white\"}},\"header\":{\"fill\":{\"color\":\"#C8D4E3\"},\"line\":{\"color\":\"white\"}},\"type\":\"table\"}]},\"layout\":{\"annotationdefaults\":{\"arrowcolor\":\"#2a3f5f\",\"arrowhead\":0,\"arrowwidth\":1},\"autotypenumbers\":\"strict\",\"coloraxis\":{\"colorbar\":{\"outlinewidth\":0,\"ticks\":\"\"}},\"colorscale\":{\"diverging\":[[0,\"#8e0152\"],[0.1,\"#c51b7d\"],[0.2,\"#de77ae\"],[0.3,\"#f1b6da\"],[0.4,\"#fde0ef\"],[0.5,\"#f7f7f7\"],[0.6,\"#e6f5d0\"],[0.7,\"#b8e186\"],[0.8,\"#7fbc41\"],[0.9,\"#4d9221\"],[1,\"#276419\"]],\"sequential\":[[0.0,\"#0d0887\"],[0.1111111111111111,\"#46039f\"],[0.2222222222222222,\"#7201a8\"],[0.3333333333333333,\"#9c179e\"],[0.4444444444444444,\"#bd3786\"],[0.5555555555555556,\"#d8576b\"],[0.6666666666666666,\"#ed7953\"],[0.7777777777777778,\"#fb9f3a\"],[0.8888888888888888,\"#fdca26\"],[1.0,\"#f0f921\"]],\"sequentialminus\":[[0.0,\"#0d0887\"],[0.1111111111111111,\"#46039f\"],[0.2222222222222222,\"#7201a8\"],[0.3333333333333333,\"#9c179e\"],[0.4444444444444444,\"#bd3786\"],[0.5555555555555556,\"#d8576b\"],[0.6666666666666666,\"#ed7953\"],[0.7777777777777778,\"#fb9f3a\"],[0.8888888888888888,\"#fdca26\"],[1.0,\"#f0f921\"]]},\"colorway\":[\"#636efa\",\"#EF553B\",\"#00cc96\",\"#ab63fa\",\"#FFA15A\",\"#19d3f3\",\"#FF6692\",\"#B6E880\",\"#FF97FF\",\"#FECB52\"],\"font\":{\"color\":\"#2a3f5f\"},\"geo\":{\"bgcolor\":\"white\",\"lakecolor\":\"white\",\"landcolor\":\"#E5ECF6\",\"showlakes\":true,\"showland\":true,\"subunitcolor\":\"white\"},\"hoverlabel\":{\"align\":\"left\"},\"hovermode\":\"closest\",\"mapbox\":{\"style\":\"light\"},\"paper_bgcolor\":\"white\",\"plot_bgcolor\":\"#E5ECF6\",\"polar\":{\"angularaxis\":{\"gridcolor\":\"white\",\"linecolor\":\"white\",\"ticks\":\"\"},\"bgcolor\":\"#E5ECF6\",\"radialaxis\":{\"gridcolor\":\"white\",\"linecolor\":\"white\",\"ticks\":\"\"}},\"scene\":{\"xaxis\":{\"backgroundcolor\":\"#E5ECF6\",\"gridcolor\":\"white\",\"gridwidth\":2,\"linecolor\":\"white\",\"showbackground\":true,\"ticks\":\"\",\"zerolinecolor\":\"white\"},\"yaxis\":{\"backgroundcolor\":\"#E5ECF6\",\"gridcolor\":\"white\",\"gridwidth\":2,\"linecolor\":\"white\",\"showbackground\":true,\"ticks\":\"\",\"zerolinecolor\":\"white\"},\"zaxis\":{\"backgroundcolor\":\"#E5ECF6\",\"gridcolor\":\"white\",\"gridwidth\":2,\"linecolor\":\"white\",\"showbackground\":true,\"ticks\":\"\",\"zerolinecolor\":\"white\"}},\"shapedefaults\":{\"line\":{\"color\":\"#2a3f5f\"}},\"ternary\":{\"aaxis\":{\"gridcolor\":\"white\",\"linecolor\":\"white\",\"ticks\":\"\"},\"baxis\":{\"gridcolor\":\"white\",\"linecolor\":\"white\",\"ticks\":\"\"},\"bgcolor\":\"#E5ECF6\",\"caxis\":{\"gridcolor\":\"white\",\"linecolor\":\"white\",\"ticks\":\"\"}},\"title\":{\"x\":0.05},\"xaxis\":{\"automargin\":true,\"gridcolor\":\"white\",\"linecolor\":\"white\",\"ticks\":\"\",\"title\":{\"standoff\":15},\"zerolinecolor\":\"white\",\"zerolinewidth\":2},\"yaxis\":{\"automargin\":true,\"gridcolor\":\"white\",\"linecolor\":\"white\",\"ticks\":\"\",\"title\":{\"standoff\":15},\"zerolinecolor\":\"white\",\"zerolinewidth\":2}}},\"title\":{\"text\":\"F(\\u03b3,\\u03b2)\"},\"width\":700,\"xaxis\":{\"title\":{\"text\":\"\\u03b3\"}},\"yaxis\":{\"title\":{\"text\":\"\\u03b2\"}}},                        {\"responsive\": true}                    ).then(function(){\n",
       "                            \n",
       "var gd = document.getElementById('5271763b-5d46-4a15-a02d-7d27fc045083');\n",
       "var x = new MutationObserver(function (mutations, observer) {{\n",
       "        var display = window.getComputedStyle(gd).display;\n",
       "        if (!display || display === 'none') {{\n",
       "            console.log([gd, 'removed!']);\n",
       "            Plotly.purge(gd);\n",
       "            observer.disconnect();\n",
       "        }}\n",
       "}});\n",
       "\n",
       "// Listen for the removal of the full notebook cells\n",
       "var notebookContainer = gd.closest('#notebook-container');\n",
       "if (notebookContainer) {{\n",
       "    x.observe(notebookContainer, {childList: true});\n",
       "}}\n",
       "\n",
       "// Listen for the clearing of the current output cell\n",
       "var outputEl = gd.closest('.output');\n",
       "if (outputEl) {{\n",
       "    x.observe(outputEl, {childList: true});\n",
       "}}\n",
       "\n",
       "                        })                };                });            </script>        </div>"
      ]
     },
     "metadata": {},
     "output_type": "display_data"
    }
   ],
   "source": [
    "# Plot Heatmap \n",
    "fig = go.Figure(data=go.Heatmap(z=landscape, x=b_beta, y=a_gamma, type = 'heatmap', colorscale = 'viridis'))\n",
    "\n",
    "# Update Layout\n",
    "fig.update_layout(title=\"F(γ,β)\", width=700, height=700, yaxis_title=\"β\", xaxis_title=\"γ\")\n",
    "\n",
    "# Display Global Minimium \n",
    "fig.add_trace(\n",
    "    go.Scatter(mode=\"markers\", x=[opt_beta], y=[opt_gamma], marker_symbol=[204], text = [landscape[gamma,beta]],\n",
    "                   marker_color=\"red\",  hovertemplate=\"x: %{x}<br>y: %{y}<br> z: %{text:.2f}<extra></extra>\", \n",
    "                   marker_line_width=1, marker_size=16))"
   ]
  },
  {
   "cell_type": "code",
   "execution_count": 82,
   "id": "5eef23c8",
   "metadata": {},
   "outputs": [],
   "source": [
    "# Display Optimizer Results\n",
    "\n",
    "# Display path \n",
    "#fig.add_trace(\n",
    "#    go.Scatter(mode=\"lines\", x=gammas, y=betas, marker_symbol=[200],\n",
    "#                   marker_color=\"white\", marker_line_width=1, marker_size=8)\n",
    "#)\n",
    "\n",
    "# Display start point\n",
    "#fig.add_trace(\n",
    "#    go.Scatter(mode=\"markers\", x=[gammas[0]], y=[betas[0]], marker_symbol=[204],\n",
    "#                   marker_color=\"gray\", \n",
    "#                   marker_line_width=1, marker_size=16))\n",
    "\n",
    "# Display end point\n",
    "#fig.add_trace(\n",
    "#    go.Scatter(mode=\"markers\", x=[gammas[-1]], y=[betas[-1]], marker_symbol=[204],\n",
    "#                   marker_color=\"green\", \n",
    "#                   marker_line_width=1, marker_size=16))\n",
    "\n"
   ]
  },
  {
   "cell_type": "code",
   "execution_count": 25,
   "id": "5191a47a",
   "metadata": {},
   "outputs": [],
   "source": [
    "# Plot Optimizer History\n",
    "#fig = go.Figure(data=go.Scatter(x=counts, y=values))\n",
    "#fig.update_layout(xaxis_title=\"Evaluation Counts\", yaxis_title=\"Evaluated Mean\", title=\"Optimizer\")\n",
    "#fig.show()"
   ]
  },
  {
   "cell_type": "code",
   "execution_count": null,
   "id": "64b6705c",
   "metadata": {},
   "outputs": [],
   "source": []
  }
 ],
 "metadata": {
  "kernelspec": {
   "display_name": "python3.8",
   "language": "python",
   "name": "python3.8"
  },
  "language_info": {
   "codemirror_mode": {
    "name": "ipython",
    "version": 3
   },
   "file_extension": ".py",
   "mimetype": "text/x-python",
   "name": "python",
   "nbconvert_exporter": "python",
   "pygments_lexer": "ipython3",
   "version": "3.8.6"
  }
 },
 "nbformat": 4,
 "nbformat_minor": 5
}
