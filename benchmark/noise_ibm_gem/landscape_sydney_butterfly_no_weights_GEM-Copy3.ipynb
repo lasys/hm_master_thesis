{
 "cells": [
  {
   "cell_type": "code",
   "execution_count": 1,
   "id": "08c90252",
   "metadata": {},
   "outputs": [],
   "source": [
    "import sys\n",
    "import os\n",
    "sys.path.insert(0, os.path.abspath('../'))\n",
    "sys.path.insert(0, os.path.abspath('../../'))\n",
    "sys.path.insert(0, os.path.abspath('/home/hm-tlacherm/qlm_notebooks/notebooks_1.2.1/notebooks/master_thesis_qaoa/'))\n",
    "sys.path.insert(0, os.path.abspath('/home/hm-tlacherm/qlm_notebooks/notebooks_1.2.1/notebooks/master_thesis_qaoa/ibm/'))"
   ]
  },
  {
   "cell_type": "code",
   "execution_count": 2,
   "id": "d544255f",
   "metadata": {},
   "outputs": [],
   "source": [
    "import numpy as np\n",
    "\n",
    "import qiskit\n",
    "provider = qiskit.IBMQ.load_account()\n",
    "from qiskit import Aer\n",
    "from qiskit.utils import QuantumInstance\n",
    "from qiskit_optimization.algorithms import MinimumEigenOptimizer\n",
    "from qiskit.algorithms import QAOA\n",
    "from shared.QiskitMaxcut import *\n",
    "from ibm.ibm_parameters import *\n",
    "from shared.gem.gem_instance import GEMInstance\n",
    "from shared.gem.gem_quantum_instance import GEMQuantumInstance\n",
    "from matplotlib import pyplot as plt\n",
    "%matplotlib inline"
   ]
  },
  {
   "cell_type": "code",
   "execution_count": 25,
   "id": "c4f3a410",
   "metadata": {},
   "outputs": [
    {
     "name": "stdout",
     "output_type": "stream",
     "text": [
      "graph_05_06_02_w\n"
     ]
    },
    {
     "data": {
      "image/png": "[encoded data removed]",
      "text/plain": [
       "<Figure size 432x288 with 1 Axes>"
      ]
     },
     "metadata": {},
     "output_type": "display_data"
    }
   ],
   "source": [
    "graph = generate_butterfly_graph(with_weights=True)\n",
    "max_cut = Maxcut(graph)\n",
    "max_cut_qubo = max_cut.to_qubo()\n",
    "print(graph.name)\n",
    "max_cut.draw()"
   ]
  },
  {
   "cell_type": "code",
   "execution_count": 47,
   "id": "617f4b75",
   "metadata": {},
   "outputs": [],
   "source": [
    "step_size = 0.1\n",
    "a_gamma = np.arange(0, np.pi, step_size)\n",
    "b_beta = np.arange(0, np.pi, step_size)"
   ]
  },
  {
   "cell_type": "code",
   "execution_count": 48,
   "id": "77c26255",
   "metadata": {},
   "outputs": [
    {
     "data": {
      "text/plain": [
       "32"
      ]
     },
     "execution_count": 48,
     "metadata": {},
     "output_type": "execute_result"
    }
   ],
   "source": [
    "a_gamma, b_beta = np.meshgrid(a_gamma, b_beta)\n",
    "len(a_gamma)"
   ]
  },
  {
   "cell_type": "code",
   "execution_count": 49,
   "id": "7521ba41",
   "metadata": {},
   "outputs": [],
   "source": [
    "def maxcut_obj(x, G):\n",
    "    \"\"\"\n",
    "    Given a bitstring as a solution, this function returns\n",
    "    the number of edges shared between the two partitions\n",
    "    of the graph.\n",
    "    \n",
    "    Args:\n",
    "        x: str\n",
    "           solution bitstring\n",
    "           \n",
    "        G: networkx graph\n",
    "        \n",
    "    Returns:\n",
    "        obj: float\n",
    "             Objective\n",
    "    \"\"\"\n",
    "    obj = 0\n",
    "    for i,j,w in graph.edges.data('weight'):\n",
    "        if x[i] != x[j]:\n",
    "            obj -= w\n",
    "            \n",
    "    return obj\n",
    "\n",
    "\n",
    "def compute_expectation(counts, G):\n",
    "    \n",
    "    \"\"\"\n",
    "    Computes expectation value based on measurement results\n",
    "    \n",
    "    Args:\n",
    "        counts: dict\n",
    "                key as bitstring, val as count\n",
    "           \n",
    "        G: networkx graph\n",
    "        \n",
    "    Returns:\n",
    "        avg: float\n",
    "             expectation value\n",
    "    \"\"\"\n",
    "    \n",
    "    avg = 0\n",
    "    sum_count = 0\n",
    "    for bitstring, count in counts.items():\n",
    "        \n",
    "        obj = maxcut_obj(bitstring, G)\n",
    "        avg += obj * count\n",
    "        sum_count += count\n",
    "        \n",
    "    return avg/sum_count"
   ]
  },
  {
   "cell_type": "code",
   "execution_count": 50,
   "id": "8801995f",
   "metadata": {},
   "outputs": [],
   "source": [
    "import qiskit\n",
    "from qiskit import Aer\n",
    "from qiskit_optimization.algorithms import MinimumEigenOptimizer\n",
    "from qiskit.providers.aer.noise import NoiseModel\n",
    "from qiskit.ignis.mitigation.measurement import CompleteMeasFitter\n",
    "from qiskit.providers.models import BackendConfiguration\n",
    "from helpers.config import *\n",
    "import pickle \n",
    "from shared.gem.gem_quantum_instance import GEMQuantumInstance\n",
    "\n",
    "#\n",
    "# Quantum Instance \n",
    "#\n",
    "DEFAULT_QASM_SIMULATOR = \"qasm_simulator\"\n",
    "NOISE_BACKEND = \"ibmq_toronto\"\n",
    "\n",
    "# Noise \n",
    "noise_model = None \n",
    "coupling_map = None\n",
    "basis_gates = None\n",
    "\n",
    "# create instance depending on config \n",
    "def create_quantum_instance():\n",
    "    from helpers.config import BACKEND\n",
    "\n",
    "    quantum_instance = None\n",
    "    \n",
    "    if BACKEND.value == Backend.Simulator.value:\n",
    "        return GEMQuantumInstance(\n",
    "                                        backend=Aer.get_backend(DEFAULT_QASM_SIMULATOR),\n",
    "                                        shots=SHOTS,\n",
    "                                        )\n",
    "    \n",
    "    if BACKEND.value == Backend.Simulator_Noise_Model.value:\n",
    "        quantum_instance = _create_simulator_with_noise_quantum_instance()\n",
    "        print(\"create noise\")\n",
    "    elif BACKEND.value == Backend.IBMQ_Toronto.value:\n",
    "        raise Exception(\"Quantum Instance with Toronto not implemented!\")\n",
    "    else: \n",
    "        raise Exception(f\"Quantum Instance not instanciated! {BACKEND.value}\")\n",
    "    \n",
    "    return quantum_instance\n",
    "\n",
    "\n",
    "def _init_noise_model_parameters():\n",
    "    global noise_model, coupling_map, basis_gates\n",
    "    if noise_model is None or coupling_map is None or basis_gates is None:\n",
    "        noise_model_filename = f\"helpers/ibmq_toronto_noise_model_dict.pkl\"\n",
    "        noise_model_dict = load_from_pickle(noise_model_filename)\n",
    "        noise_model = NoiseModel.from_dict(noise_model_dict)\n",
    "        basis_gates = noise_model.basis_gates\n",
    "        \n",
    "        noise_backend_configuration_filename = f\"helpers/ibmq_toronto_noise_backend_configuation_dict.pkl\"\n",
    "        noise_backend_configuration_dict = load_from_pickle(noise_backend_configuration_filename)\n",
    "        noise_backend_configuration = BackendConfiguration.from_dict(noise_backend_configuration_dict)\n",
    "        coupling_map = noise_backend_configuration.coupling_map\n",
    "        \n",
    "\n",
    "def _create_simulator_with_noise_quantum_instance():\n",
    "    \n",
    "    _init_noise_model_parameters()\n",
    "    \n",
    "    quantum_instance = QuantumInstance(\n",
    "                                        backend=Aer.get_backend(DEFAULT_QASM_SIMULATOR),\n",
    "                                        shots=SHOTS,\n",
    "                                        noise_model=noise_model,\n",
    "                                        coupling_map=coupling_map,\n",
    "                                        basis_gates=basis_gates,\n",
    "                                        #measurement_error_mitigation_cls=CompleteMeasFitter,\n",
    "                                        #measurement_error_mitigation_shots=SHOTS,\n",
    "                                        )\n",
    "    return quantum_instance\n",
    "\n",
    "\n",
    "def load_from_pickle(name):\n",
    "    with open(name, 'rb') as f:\n",
    "        return pickle.load(f)\n"
   ]
  },
  {
   "cell_type": "code",
   "execution_count": 51,
   "id": "1defe426",
   "metadata": {},
   "outputs": [
    {
     "name": "stdout",
     "output_type": "stream",
     "text": [
      "create noise\n"
     ]
    }
   ],
   "source": [
    "#quantum_instance = GEMQuantumInstance(\n",
    "#                    #backend=Aer.get_backend(DEFAULT_QASM_SIMULATOR),\n",
    "#                    backend=provider.get_backend('ibmq_sydney'),\n",
    "#                    shots=SHOTS)\n",
    "\n",
    "\n",
    "quantum_instance = create_quantum_instance()\n",
    "\n",
    "qaoa = QAOA(\n",
    "            optimizer=COBYLA(maxiter=0),\n",
    "            quantum_instance=quantum_instance,\n",
    "            reps=1\n",
    "            )\n",
    "\n",
    "op, offset = max_cut_qubo.to_ising()"
   ]
  },
  {
   "cell_type": "code",
   "execution_count": 52,
   "id": "cf2907cd",
   "metadata": {},
   "outputs": [],
   "source": [
    "def create_cirucit(gamma,beta):\n",
    "    circuits = qaoa.construct_circuit([gamma,beta], operator=op)\n",
    "    circuit = circuits[0]\n",
    "    circuit.measure_all()\n",
    "    return circuit"
   ]
  },
  {
   "cell_type": "code",
   "execution_count": 53,
   "id": "aab936ac",
   "metadata": {},
   "outputs": [],
   "source": [
    "#gem_instance = GEMInstance()"
   ]
  },
  {
   "cell_type": "code",
   "execution_count": 54,
   "id": "d603e055",
   "metadata": {},
   "outputs": [],
   "source": [
    "#first_circuit = create_cirucit(0.5,0.5)"
   ]
  },
  {
   "cell_type": "code",
   "execution_count": 55,
   "id": "61e1469d",
   "metadata": {},
   "outputs": [],
   "source": [
    "#mg = gem_instance.get_gem_matrix(first_circuit, quantum_instance)"
   ]
  },
  {
   "cell_type": "code",
   "execution_count": 56,
   "id": "8ad3a2e6",
   "metadata": {},
   "outputs": [],
   "source": [
    "#quantum_instance.MG = mg\n",
    "#mg"
   ]
  },
  {
   "cell_type": "code",
   "execution_count": 57,
   "id": "7aa92597",
   "metadata": {},
   "outputs": [
    {
     "name": "stdout",
     "output_type": "stream",
     "text": [
      "graph_05_06_02_w_gem_row_0\n",
      "graph_05_06_02_w_gem_row_1\n",
      "graph_05_06_02_w_gem_row_2\n",
      "graph_05_06_02_w_gem_row_3\n",
      "graph_05_06_02_w_gem_row_4\n",
      "graph_05_06_02_w_gem_row_5\n",
      "graph_05_06_02_w_gem_row_6\n",
      "graph_05_06_02_w_gem_row_7\n",
      "graph_05_06_02_w_gem_row_8\n",
      "graph_05_06_02_w_gem_row_9\n",
      "graph_05_06_02_w_gem_row_10\n",
      "graph_05_06_02_w_gem_row_11\n",
      "graph_05_06_02_w_gem_row_12\n",
      "graph_05_06_02_w_gem_row_13\n",
      "graph_05_06_02_w_gem_row_14\n",
      "graph_05_06_02_w_gem_row_15\n",
      "graph_05_06_02_w_gem_row_16\n",
      "graph_05_06_02_w_gem_row_17\n",
      "graph_05_06_02_w_gem_row_18\n",
      "graph_05_06_02_w_gem_row_19\n",
      "graph_05_06_02_w_gem_row_20\n",
      "graph_05_06_02_w_gem_row_21\n",
      "graph_05_06_02_w_gem_row_22\n",
      "graph_05_06_02_w_gem_row_23\n",
      "graph_05_06_02_w_gem_row_24\n",
      "graph_05_06_02_w_gem_row_25\n",
      "graph_05_06_02_w_gem_row_26\n",
      "graph_05_06_02_w_gem_row_27\n",
      "graph_05_06_02_w_gem_row_28\n",
      "graph_05_06_02_w_gem_row_29\n",
      "graph_05_06_02_w_gem_row_30\n",
      "graph_05_06_02_w_gem_row_31\n"
     ]
    }
   ],
   "source": [
    "landscape = np.zeros(a_gamma.shape)\n",
    "\n",
    "for i in range(0, len(landscape)):\n",
    "    circuits = []\n",
    "    for j in range(0, len(landscape)):\n",
    "        # create circuits for entire row \n",
    "        circuit = create_cirucit(a_gamma[i][j], b_beta[i][j])\n",
    "        circuits.append(circuit)\n",
    "    \n",
    "    # create one job with circuits \n",
    "    job_name = f\"{graph.name}_gem_row_{i}\"\n",
    "    job = quantum_instance.execute(circuits)\n",
    "    #job.update_name(job_name)\n",
    "    print(job_name)\n",
    "    #print(job)\n",
    "    \n",
    "    # add results to landscape \n",
    "    k = 0\n",
    "    for count in job.get_counts():\n",
    "        mean = compute_expectation(count, graph)\n",
    "        landscape[i,k % 32] = mean\n",
    "        k += 1"
   ]
  },
  {
   "cell_type": "code",
   "execution_count": 58,
   "id": "0318681e",
   "metadata": {},
   "outputs": [
    {
     "name": "stdout",
     "output_type": "stream",
     "text": [
      "[[-24.28808594 -24.11621094 -23.38378906 ... -24.13867188 -23.82714844\n",
      "  -23.65039062]\n",
      " [-24.09765625 -21.67773438 -22.90136719 ... -23.8359375  -23.80859375\n",
      "  -23.36132812]\n",
      " [-24.02832031 -19.78808594 -22.5        ... -25.38671875 -24.02050781\n",
      "  -23.44921875]\n",
      " ...\n",
      " [-23.78027344 -26.53125    -23.4453125  ... -24.31640625 -25.30859375\n",
      "  -23.76464844]\n",
      " [-23.79492188 -26.24707031 -23.76074219 ... -23.796875   -24.22363281\n",
      "  -23.67871094]\n",
      " [-24.28417969 -24.71289062 -24.43945312 ... -23.84082031 -23.87402344\n",
      "  -24.06835938]]\n"
     ]
    },
    {
     "data": {
      "image/png": "[encoded data removed]",
      "text/plain": [
       "<Figure size 288x288 with 1 Axes>"
      ]
     },
     "metadata": {
      "needs_background": "light"
     },
     "output_type": "display_data"
    }
   ],
   "source": [
    "print(landscape)\n",
    "plt.matshow(landscape)\n",
    "plt.show()"
   ]
  },
  {
   "cell_type": "code",
   "execution_count": 59,
   "id": "f92be730",
   "metadata": {},
   "outputs": [
    {
     "data": {
      "text/plain": [
       "-23.562024116516113"
      ]
     },
     "execution_count": 59,
     "metadata": {},
     "output_type": "execute_result"
    }
   ],
   "source": [
    "# Mean of landscape\n",
    "np.mean(landscape)"
   ]
  },
  {
   "cell_type": "code",
   "execution_count": 60,
   "id": "bb03a5a4",
   "metadata": {},
   "outputs": [
    {
     "data": {
      "text/plain": [
       "-28.7587890625"
      ]
     },
     "execution_count": 60,
     "metadata": {},
     "output_type": "execute_result"
    }
   ],
   "source": [
    "# Minimium \n",
    "np.min(landscape)"
   ]
  },
  {
   "cell_type": "code",
   "execution_count": 61,
   "id": "be4164d7",
   "metadata": {},
   "outputs": [
    {
     "data": {
      "text/plain": [
       "(27, 5)"
      ]
     },
     "execution_count": 61,
     "metadata": {},
     "output_type": "execute_result"
    }
   ],
   "source": [
    "# Display Coordinates of Minimum \n",
    "np.unravel_index(np.argmin(landscape), landscape.shape)"
   ]
  },
  {
   "cell_type": "code",
   "execution_count": 62,
   "id": "d345481d",
   "metadata": {},
   "outputs": [
    {
     "name": "stdout",
     "output_type": "stream",
     "text": [
      "Opt.Gamma: 2.7, Opt.Beta: 0.5\n"
     ]
    }
   ],
   "source": [
    "# Gamma and beta value of Minimium\n",
    "gamma, beta = np.unravel_index(np.argmin(landscape), landscape.shape)\n",
    "opt_gamma = gamma * step_size\n",
    "opt_beta = beta * step_size\n",
    "print(f\"Opt.Gamma: {opt_gamma}, Opt.Beta: {opt_beta}\")"
   ]
  },
  {
   "cell_type": "code",
   "execution_count": 63,
   "id": "3aeb645a",
   "metadata": {},
   "outputs": [],
   "source": [
    "# Save result matrix \n",
    "with open('landscape_toronto_noise_model_butterfly_weights_results.npy', 'wb') as f:\n",
    "    np.save(f, landscape)"
   ]
  },
  {
   "cell_type": "code",
   "execution_count": 64,
   "id": "143a3a5b",
   "metadata": {},
   "outputs": [],
   "source": [
    "import plotly.graph_objects as go"
   ]
  },
  {
   "cell_type": "code",
   "execution_count": 65,
   "id": "a4a70fc8",
   "metadata": {},
   "outputs": [
    {
     "data": {
      "application/vnd.plotly.v1+json": {
       "config": {
        "plotlyServerURL": "https://plot.ly"
       },
       "data": [
        {
         "contours": {
          "z": {
           "highlightcolor": "limegreen",
           "project": {
            "z": true
           },
           "show": true,
           "usecolormap": true
          }
         },
         "type": "surface",
         "x": [
          0,
          0.1,
          0.2,
          0.30000000000000004,
          0.4,
          0.5,
          0.6000000000000001,
          0.7000000000000001,
          0.8,
          0.9,
          1,
          1.1,
          1.2000000000000002,
          1.3,
          1.4000000000000001,
          1.5,
          1.6,
          1.7000000000000002,
          1.8,
          1.9000000000000001,
          2,
          2.1,
          2.2,
          2.3000000000000003,
          2.4000000000000004,
          2.5,
          2.6,
          2.7,
          2.8000000000000003,
          2.9000000000000004,
          3,
          3.1
         ],
         "y": [
          0,
          0.1,
          0.2,
          0.30000000000000004,
          0.4,
          0.5,
          0.6000000000000001,
          0.7000000000000001,
          0.8,
          0.9,
          1,
          1.1,
          1.2000000000000002,
          1.3,
          1.4000000000000001,
          1.5,
          1.6,
          1.7000000000000002,
          1.8,
          1.9000000000000001,
          2,
          2.1,
          2.2,
          2.3000000000000003,
          2.4000000000000004,
          2.5,
          2.6,
          2.7,
          2.8000000000000003,
          2.9000000000000004,
          3,
          3.1
         ],
         "z": [
          [
           -24.2880859375,
           -24.1162109375,
           -23.3837890625,
           -23.923828125,
           -23.7431640625,
           -23.8173828125,
           -23.14453125,
           -23.8115234375,
           -24.09765625,
           -23.5283203125,
           -23.1669921875,
           -23.46875,
           -23.59765625,
           -23.734375,
           -23.919921875,
           -23.955078125,
           -23.3544921875,
           -23.916015625,
           -23.7431640625,
           -24.8779296875,
           -23.419921875,
           -23.7509765625,
           -23.826171875,
           -23.20703125,
           -23.607421875,
           -23.8828125,
           -23.333984375,
           -24.1875,
           -23.9853515625,
           -24.138671875,
           -23.8271484375,
           -23.650390625
          ],
          [
           -24.09765625,
           -21.677734375,
           -22.9013671875,
           -24.546875,
           -22.8056640625,
           -22.2490234375,
           -22.556640625,
           -23.3564453125,
           -23.21484375,
           -22.357421875,
           -23.0419921875,
           -23.927734375,
           -23.80078125,
           -22.31640625,
           -22.865234375,
           -24.263671875,
           -23.927734375,
           -22.7412109375,
           -23.5810546875,
           -24.9873046875,
           -23.697265625,
           -23.1328125,
           -23.919921875,
           -24.5927734375,
           -23.98046875,
           -24.0673828125,
           -23.5615234375,
           -24.2421875,
           -24.142578125,
           -23.8359375,
           -23.80859375,
           -23.361328125
          ],
          [
           -24.0283203125,
           -19.7880859375,
           -22.5,
           -23.986328125,
           -21.654296875,
           -20.099609375,
           -22.4794921875,
           -23.0732421875,
           -22.25,
           -21.5419921875,
           -22.4384765625,
           -22.6826171875,
           -23.685546875,
           -20.8671875,
           -22.2021484375,
           -24.927734375,
           -24.701171875,
           -20.37890625,
           -23.54296875,
           -25.8017578125,
           -24.798828125,
           -22.3740234375,
           -24.21875,
           -25.2041015625,
           -24.6767578125,
           -23.4873046875,
           -24.1474609375,
           -23.73828125,
           -23.85546875,
           -25.38671875,
           -24.0205078125,
           -23.44921875
          ],
          [
           -24.328125,
           -18.9990234375,
           -22.3896484375,
           -23.7548828125,
           -21.0966796875,
           -18.40234375,
           -21.4267578125,
           -21.7119140625,
           -21.189453125,
           -20.0908203125,
           -22.1669921875,
           -22.583984375,
           -23.0693359375,
           -20.3447265625,
           -22.2744140625,
           -25.5498046875,
           -24.1884765625,
           -19.5712890625,
           -22.2939453125,
           -27.0087890625,
           -25.0478515625,
           -21.791015625,
           -23.365234375,
           -26.2353515625,
           -25.185546875,
           -23.609375,
           -24.2138671875,
           -24.439453125,
           -25.005859375,
           -25.369140625,
           -23.9990234375,
           -23.9462890625
          ],
          [
           -24.0166015625,
           -18.451171875,
           -21.4150390625,
           -22.333984375,
           -21.87109375,
           -18.5595703125,
           -20.5859375,
           -20.525390625,
           -20.79296875,
           -19.9853515625,
           -21.80859375,
           -22.1123046875,
           -22.34375,
           -20.0791015625,
           -22.240234375,
           -26.654296875,
           -24.2314453125,
           -18.4814453125,
           -22.5322265625,
           -27.8017578125,
           -25.603515625,
           -20.908203125,
           -23.51953125,
           -26.083984375,
           -26.3056640625,
           -24.3515625,
           -24.7626953125,
           -24.7998046875,
           -25.580078125,
           -26.0107421875,
           -24.7890625,
           -23.8330078125
          ],
          [
           -24.0673828125,
           -17.275390625,
           -21.1064453125,
           -21.1015625,
           -22.0068359375,
           -19.5654296875,
           -20.6953125,
           -19.357421875,
           -20.2646484375,
           -20.5400390625,
           -21.2900390625,
           -21.8623046875,
           -21.5791015625,
           -19.6552734375,
           -22.1416015625,
           -26.6279296875,
           -24.27734375,
           -17.8251953125,
           -22.08203125,
           -28.5546875,
           -26.3896484375,
           -20.4921875,
           -23.9189453125,
           -26.6220703125,
           -26.4912109375,
           -24.6171875,
           -25.0830078125,
           -24.861328125,
           -26.0859375,
           -26.4541015625,
           -25.7314453125,
           -24.240234375
          ],
          [
           -24.220703125,
           -17.30078125,
           -20.6748046875,
           -19.541015625,
           -22.048828125,
           -20.0263671875,
           -20.3984375,
           -18.7431640625,
           -21.3916015625,
           -20.9794921875,
           -21.9423828125,
           -21.5927734375,
           -20.1591796875,
           -19.6416015625,
           -22.7158203125,
           -26.5380859375,
           -23.447265625,
           -16.9560546875,
           -22.6044921875,
           -28.6357421875,
           -26.205078125,
           -21.236328125,
           -23.5654296875,
           -26.4248046875,
           -27.4208984375,
           -25.5654296875,
           -25.20703125,
           -24.4541015625,
           -26.0322265625,
           -26.8876953125,
           -26.6767578125,
           -24.4609375
          ],
          [
           -23.900390625,
           -19.1005859375,
           -20.5751953125,
           -18.1015625,
           -23.744140625,
           -21.4609375,
           -20.3955078125,
           -17.8740234375,
           -21.0205078125,
           -23.0908203125,
           -22.7783203125,
           -21.587890625,
           -20.5498046875,
           -19.830078125,
           -23.1259765625,
           -26.1337890625,
           -23.236328125,
           -18.2314453125,
           -21.9267578125,
           -28.4091796875,
           -25.9384765625,
           -20.79296875,
           -23.0849609375,
           -25.763671875,
           -28.2255859375,
           -24.7353515625,
           -25.3701171875,
           -24.689453125,
           -26.7861328125,
           -26.8291015625,
           -26.240234375,
           -24.296875
          ],
          [
           -24.2431640625,
           -20.1689453125,
           -20.84375,
           -17.98828125,
           -23.84765625,
           -23.498046875,
           -20.9716796875,
           -17.8359375,
           -22.263671875,
           -24.1982421875,
           -23.2548828125,
           -21.2021484375,
           -20.1875,
           -21.3837890625,
           -23.3916015625,
           -25.6298828125,
           -22.4267578125,
           -19.693359375,
           -23.2861328125,
           -27.685546875,
           -25.7705078125,
           -21.578125,
           -23.71875,
           -25.5205078125,
           -28.5302734375,
           -25.6611328125,
           -24.8759765625,
           -24.0927734375,
           -26.625,
           -26.693359375,
           -26.7314453125,
           -24.0166015625
          ],
          [
           -23.7841796875,
           -22.1220703125,
           -20.7216796875,
           -16.8251953125,
           -24.7529296875,
           -25.6533203125,
           -21.3583984375,
           -17.6181640625,
           -22.3623046875,
           -25.5810546875,
           -24.5546875,
           -21.2177734375,
           -20.2587890625,
           -23.681640625,
           -24.9697265625,
           -25.02734375,
           -21.9990234375,
           -20.8974609375,
           -23.2880859375,
           -26.30078125,
           -25.279296875,
           -22.5400390625,
           -23.2099609375,
           -24.509765625,
           -27.93359375,
           -25.5595703125,
           -24.73046875,
           -23.8330078125,
           -26.3271484375,
           -26.2314453125,
           -26.677734375,
           -25.0390625
          ],
          [
           -23.505859375,
           -24.185546875,
           -21.3232421875,
           -16.634765625,
           -25.0927734375,
           -26.8759765625,
           -22.5400390625,
           -18.9833984375,
           -23.0361328125,
           -27.33984375,
           -24.6044921875,
           -21.6455078125,
           -20.458984375,
           -24.8662109375,
           -24.7763671875,
           -24.1865234375,
           -21.734375,
           -21.673828125,
           -23.5625,
           -24.99609375,
           -24.66796875,
           -23.76953125,
           -23.1767578125,
           -23.9755859375,
           -27.2841796875,
           -25.224609375,
           -24.486328125,
           -24.1923828125,
           -25.912109375,
           -25.041015625,
           -27.2216796875,
           -24.0986328125
          ],
          [
           -23.8857421875,
           -25.3759765625,
           -22.015625,
           -17.5654296875,
           -26.1591796875,
           -28.55078125,
           -23.9326171875,
           -19.978515625,
           -24.3798828125,
           -27.849609375,
           -25.287109375,
           -22.021484375,
           -20.5927734375,
           -25.478515625,
           -25.138671875,
           -23.8486328125,
           -21.6689453125,
           -23.2822265625,
           -24.0732421875,
           -24.1259765625,
           -24.8330078125,
           -23.96875,
           -22.8125,
           -22.88671875,
           -26.740234375,
           -25.0634765625,
           -24.1201171875,
           -23.529296875,
           -25.55859375,
           -24.841796875,
           -25.978515625,
           -24.0830078125
          ],
          [
           -23.744140625,
           -26.6806640625,
           -22.787109375,
           -18.779296875,
           -25.7626953125,
           -28.5009765625,
           -24.19140625,
           -20.87109375,
           -24.29296875,
           -28.0947265625,
           -25.4287109375,
           -22.7734375,
           -21.9189453125,
           -25.8798828125,
           -25.57421875,
           -22.9501953125,
           -21.962890625,
           -24.3857421875,
           -23.6005859375,
           -23.4755859375,
           -23.865234375,
           -24.640625,
           -23.466796875,
           -22.6650390625,
           -26.1220703125,
           -24.3349609375,
           -24.037109375,
           -23.2919921875,
           -25.701171875,
           -24.5263671875,
           -26.10546875,
           -24.1611328125
          ],
          [
           -24.3017578125,
           -26.4462890625,
           -23.41796875,
           -20.9345703125,
           -25.841796875,
           -27.8974609375,
           -24.3046875,
           -21.82421875,
           -24.4462890625,
           -27.28515625,
           -25.115234375,
           -22.5498046875,
           -23.01953125,
           -26.1533203125,
           -25.041015625,
           -22.6630859375,
           -22.6337890625,
           -25.181640625,
           -24.5908203125,
           -22.8994140625,
           -24.08984375,
           -24.9267578125,
           -23.5966796875,
           -23.1103515625,
           -25.1162109375,
           -24.2666015625,
           -23.69921875,
           -23.6982421875,
           -24.58203125,
           -23.84765625,
           -25.185546875,
           -24.24609375
          ],
          [
           -23.57421875,
           -26.140625,
           -23.5732421875,
           -22.0576171875,
           -25.173828125,
           -27.267578125,
           -24.5830078125,
           -23.482421875,
           -25.1142578125,
           -26.1591796875,
           -24.619140625,
           -23.40234375,
           -23.3330078125,
           -25.8544921875,
           -25.2763671875,
           -22.9931640625,
           -22.990234375,
           -24.83984375,
           -24.0234375,
           -21.8662109375,
           -23.70703125,
           -24.564453125,
           -23.9970703125,
           -22.9560546875,
           -24.130859375,
           -24.501953125,
           -23.5087890625,
           -23.3310546875,
           -24.1796875,
           -23.482421875,
           -24.689453125,
           -23.927734375
          ],
          [
           -23.6650390625,
           -25.0810546875,
           -24.0810546875,
           -22.544921875,
           -24.5595703125,
           -25.4404296875,
           -24.537109375,
           -23.7861328125,
           -24.482421875,
           -25.20703125,
           -24.6787109375,
           -23.8349609375,
           -23.9306640625,
           -24.625,
           -24.333984375,
           -24.0263671875,
           -23.6357421875,
           -24.443359375,
           -23.791015625,
           -23.9765625,
           -23.7314453125,
           -24.0263671875,
           -23.708984375,
           -23.3583984375,
           -24.708984375,
           -23.8720703125,
           -23.5517578125,
           -23.779296875,
           -23.779296875,
           -23.5419921875,
           -24.255859375,
           -24.0234375
          ],
          [
           -24.126953125,
           -23.2138671875,
           -24.2197265625,
           -23.7822265625,
           -23.521484375,
           -22.9599609375,
           -23.63671875,
           -23.9296875,
           -23.7578125,
           -23.4013671875,
           -24.1826171875,
           -23.5341796875,
           -24.1982421875,
           -23.455078125,
           -23.7861328125,
           -23.9189453125,
           -24.294921875,
           -23.900390625,
           -23.5224609375,
           -24.2822265625,
           -24.380859375,
           -23.8447265625,
           -23.806640625,
           -24.1083984375,
           -23.4833984375,
           -23.8798828125,
           -23.4013671875,
           -24.0751953125,
           -24.0537109375,
           -24.30078125,
           -24.1416015625,
           -24.4365234375
          ],
          [
           -24.1630859375,
           -21.591796875,
           -23.0400390625,
           -24.763671875,
           -22.560546875,
           -20.9609375,
           -23.0205078125,
           -24.0625,
           -22.5185546875,
           -22.0927734375,
           -22.66015625,
           -23.4287109375,
           -23.2763671875,
           -23.0810546875,
           -23.212890625,
           -24.734375,
           -24.5908203125,
           -22.2578125,
           -23.2900390625,
           -25.236328125,
           -24.775390625,
           -22.927734375,
           -24.0322265625,
           -24.6328125,
           -24.296875,
           -23.8974609375,
           -23.80859375,
           -24.4931640625,
           -23.970703125,
           -24.390625,
           -23.9033203125,
           -23.9892578125
          ],
          [
           -24.1025390625,
           -19.9892578125,
           -22.98828125,
           -24.1943359375,
           -22.6103515625,
           -19.677734375,
           -22.23828125,
           -21.9580078125,
           -22.83984375,
           -20.728515625,
           -22.162109375,
           -23.2294921875,
           -23.2265625,
           -20.9072265625,
           -22.12890625,
           -25.9931640625,
           -24.349609375,
           -20.158203125,
           -22.703125,
           -26.306640625,
           -25.3251953125,
           -21.64453125,
           -23.7783203125,
           -25.26171875,
           -24.494140625,
           -23.8994140625,
           -24.7177734375,
           -24.7275390625,
           -24.0595703125,
           -24.67578125,
           -23.7705078125,
           -24.1943359375
          ],
          [
           -24.1630859375,
           -19.19921875,
           -22.2900390625,
           -23.66015625,
           -21.2734375,
           -19.1123046875,
           -21.6708984375,
           -21.611328125,
           -21.68359375,
           -20.1435546875,
           -21.7470703125,
           -22.330078125,
           -21.6982421875,
           -19.8701171875,
           -22.3193359375,
           -26.2763671875,
           -23.9443359375,
           -19.7783203125,
           -23.2978515625,
           -27.3681640625,
           -25.20703125,
           -21.0576171875,
           -24.2451171875,
           -26.7216796875,
           -25.9443359375,
           -24.5390625,
           -24.66796875,
           -24.55859375,
           -24.2568359375,
           -25.8310546875,
           -24.3291015625,
           -24.2841796875
          ],
          [
           -23.9052734375,
           -18.3056640625,
           -21.625,
           -21.9287109375,
           -21.494140625,
           -18.677734375,
           -21.0068359375,
           -20.3046875,
           -21.4892578125,
           -20.18359375,
           -22.123046875,
           -22.0888671875,
           -22.1748046875,
           -19.0224609375,
           -21.9951171875,
           -26.6787109375,
           -24.20703125,
           -17.9970703125,
           -22.3701171875,
           -28.40625,
           -26.1884765625,
           -20.7998046875,
           -23.8466796875,
           -25.67578125,
           -26.162109375,
           -25.1435546875,
           -25.2998046875,
           -24.3447265625,
           -25.302734375,
           -26.0166015625,
           -24.724609375,
           -23.7431640625
          ],
          [
           -24.2607421875,
           -17.6630859375,
           -20.775390625,
           -20.294921875,
           -22.177734375,
           -18.7958984375,
           -20.5966796875,
           -18.873046875,
           -20.8974609375,
           -20.685546875,
           -22.1298828125,
           -22.0234375,
           -21.123046875,
           -20.0712890625,
           -22.3505859375,
           -26.5087890625,
           -23.0107421875,
           -18.0478515625,
           -22.6953125,
           -28.2197265625,
           -25.98046875,
           -20.3115234375,
           -23.501953125,
           -26.416015625,
           -27.193359375,
           -25.16796875,
           -25.341796875,
           -25.119140625,
           -25.7216796875,
           -26.708984375,
           -25.958984375,
           -24.615234375
          ],
          [
           -23.7275390625,
           -18.6533203125,
           -20.2890625,
           -18.166015625,
           -22.53515625,
           -20.59765625,
           -20.837890625,
           -18.3623046875,
           -21.033203125,
           -21.3955078125,
           -22.0283203125,
           -20.95703125,
           -20.3466796875,
           -19.771484375,
           -22.220703125,
           -26.7060546875,
           -22.6953125,
           -17.759765625,
           -22.787109375,
           -27.96875,
           -25.5166015625,
           -21.0986328125,
           -24.115234375,
           -26.4921875,
           -27.986328125,
           -25.189453125,
           -25.6630859375,
           -24.9033203125,
           -25.720703125,
           -26.57421875,
           -25.65625,
           -24.1337890625
          ],
          [
           -24.25,
           -19.412109375,
           -20.2900390625,
           -17.6142578125,
           -23.318359375,
           -22.330078125,
           -21.330078125,
           -17.158203125,
           -21.0546875,
           -23.296875,
           -22.7373046875,
           -20.826171875,
           -20.71484375,
           -21.03125,
           -23.45703125,
           -26.298828125,
           -22.3291015625,
           -18.5693359375,
           -22.4306640625,
           -28.025390625,
           -25.53515625,
           -21.2666015625,
           -23.4130859375,
           -26.083984375,
           -27.9931640625,
           -24.921875,
           -25.7060546875,
           -24.3857421875,
           -26.6982421875,
           -26.7607421875,
           -26.646484375,
           -23.8857421875
          ],
          [
           -23.4169921875,
           -20.6484375,
           -20.6123046875,
           -16.9765625,
           -24.4521484375,
           -24.3037109375,
           -21.46875,
           -17.4658203125,
           -22.24609375,
           -24.8447265625,
           -23.7080078125,
           -20.623046875,
           -19.966796875,
           -22.08984375,
           -23.4482421875,
           -25.6396484375,
           -21.8544921875,
           -19.4345703125,
           -23.5673828125,
           -27.51171875,
           -25.9228515625,
           -21.759765625,
           -23.0751953125,
           -24.6416015625,
           -28.0185546875,
           -25.8828125,
           -25.291015625,
           -24.6123046875,
           -26.63671875,
           -26.86328125,
           -26.814453125,
           -24.3369140625
          ],
          [
           -24.0234375,
           -23.2841796875,
           -20.9208984375,
           -16.328125,
           -25.291015625,
           -25.7158203125,
           -21.763671875,
           -18.142578125,
           -22.7626953125,
           -25.953125,
           -24.3740234375,
           -21.666015625,
           -20.5185546875,
           -23.4033203125,
           -24.3515625,
           -24.9375,
           -22.10546875,
           -20.283203125,
           -23.736328125,
           -25.6484375,
           -24.9658203125,
           -22.8173828125,
           -23.4267578125,
           -24.625,
           -27.9501953125,
           -25.6484375,
           -25.1201171875,
           -24.341796875,
           -25.890625,
           -25.8740234375,
           -27.3017578125,
           -23.791015625
          ],
          [
           -24.369140625,
           -24.7724609375,
           -21.681640625,
           -17.5625,
           -26.1298828125,
           -27.7158203125,
           -22.654296875,
           -19.3095703125,
           -23.8154296875,
           -27.67578125,
           -24.7255859375,
           -21.6259765625,
           -21.1494140625,
           -24.5380859375,
           -24.9267578125,
           -24.3359375,
           -21.2744140625,
           -22.0283203125,
           -23.5732421875,
           -25.0712890625,
           -24.703125,
           -23.6962890625,
           -23.240234375,
           -23.9443359375,
           -27.4765625,
           -25.400390625,
           -24.1201171875,
           -24.095703125,
           -26.044921875,
           -25.5791015625,
           -27.072265625,
           -24.3720703125
          ],
          [
           -23.81640625,
           -25.998046875,
           -22.3466796875,
           -18.1005859375,
           -25.9013671875,
           -28.7587890625,
           -23.2431640625,
           -20.8134765625,
           -23.8681640625,
           -27.24609375,
           -25.1748046875,
           -22.4072265625,
           -21.5009765625,
           -25.8251953125,
           -24.8349609375,
           -23.23828125,
           -21.7666015625,
           -24.0439453125,
           -24.3544921875,
           -23.642578125,
           -24.48828125,
           -24.619140625,
           -23.083984375,
           -23.8642578125,
           -26.6884765625,
           -25.37890625,
           -24.234375,
           -23.859375,
           -25.6669921875,
           -24.892578125,
           -26.4599609375,
           -24.1298828125
          ],
          [
           -23.552734375,
           -26.3505859375,
           -22.8154296875,
           -18.966796875,
           -25.8056640625,
           -28.3056640625,
           -23.8193359375,
           -21.404296875,
           -24.451171875,
           -27.9765625,
           -25.7314453125,
           -22.943359375,
           -22.59375,
           -26.1064453125,
           -25.302734375,
           -22.90625,
           -21.830078125,
           -24.7890625,
           -24.4521484375,
           -22.931640625,
           -24.005859375,
           -24.7509765625,
           -23.447265625,
           -23.2421875,
           -25.78125,
           -24.1181640625,
           -23.8193359375,
           -23.392578125,
           -24.4453125,
           -23.91796875,
           -25.361328125,
           -24.029296875
          ],
          [
           -23.7802734375,
           -26.53125,
           -23.4453125,
           -21.0107421875,
           -25.7705078125,
           -28.1962890625,
           -23.666015625,
           -22.8291015625,
           -25.40625,
           -27.22265625,
           -25.859375,
           -22.8671875,
           -22.8486328125,
           -26.0576171875,
           -25.1123046875,
           -23.09375,
           -22.29296875,
           -25.0244140625,
           -24.4052734375,
           -23,
           -23.1767578125,
           -24.73046875,
           -23.443359375,
           -22.6142578125,
           -24.7822265625,
           -24.412109375,
           -23.4150390625,
           -23.4150390625,
           -24.396484375,
           -24.31640625,
           -25.30859375,
           -23.7646484375
          ],
          [
           -23.794921875,
           -26.2470703125,
           -23.7607421875,
           -22.158203125,
           -24.732421875,
           -26.3583984375,
           -24.0205078125,
           -22.7646484375,
           -25.1767578125,
           -26.3525390625,
           -24.595703125,
           -23.6083984375,
           -23.646484375,
           -25.849609375,
           -24.6181640625,
           -23.119140625,
           -22.36328125,
           -24.8349609375,
           -23.7978515625,
           -22.9765625,
           -23.28515625,
           -24.091796875,
           -23.6923828125,
           -23.3349609375,
           -24.203125,
           -24.1083984375,
           -24.1826171875,
           -23.3212890625,
           -23.5478515625,
           -23.796875,
           -24.2236328125,
           -23.6787109375
          ],
          [
           -24.2841796875,
           -24.712890625,
           -24.439453125,
           -23.5126953125,
           -24.4912109375,
           -24.8662109375,
           -24.435546875,
           -24.08984375,
           -23.7001953125,
           -24.7451171875,
           -23.8603515625,
           -24.091796875,
           -23.41015625,
           -24.6455078125,
           -23.875,
           -23.869140625,
           -23.5673828125,
           -23.966796875,
           -24.1474609375,
           -23.51953125,
           -24.009765625,
           -23.384765625,
           -23.5576171875,
           -23.2333984375,
           -23.8916015625,
           -23.791015625,
           -23.4423828125,
           -23.6044921875,
           -23.81640625,
           -23.8408203125,
           -23.8740234375,
           -24.068359375
          ]
         ]
        }
       ],
       "layout": {
        "scene": {
         "xaxis": {
          "title": {
           "text": "γ"
          }
         },
         "yaxis": {
          "title": {
           "text": "β"
          }
         },
         "zaxis": {
          "title": {
           "text": "F(γ,β)"
          }
         }
        },
        "template": {
         "data": {
          "bar": [
           {
            "error_x": {
             "color": "#2a3f5f"
            },
            "error_y": {
             "color": "#2a3f5f"
            },
            "marker": {
             "line": {
              "color": "#E5ECF6",
              "width": 0.5
             },
             "pattern": {
              "fillmode": "overlay",
              "size": 10,
              "solidity": 0.2
             }
            },
            "type": "bar"
           }
          ],
          "barpolar": [
           {
            "marker": {
             "line": {
              "color": "#E5ECF6",
              "width": 0.5
             },
             "pattern": {
              "fillmode": "overlay",
              "size": 10,
              "solidity": 0.2
             }
            },
            "type": "barpolar"
           }
          ],
          "carpet": [
           {
            "aaxis": {
             "endlinecolor": "#2a3f5f",
             "gridcolor": "white",
             "linecolor": "white",
             "minorgridcolor": "white",
             "startlinecolor": "#2a3f5f"
            },
            "baxis": {
             "endlinecolor": "#2a3f5f",
             "gridcolor": "white",
             "linecolor": "white",
             "minorgridcolor": "white",
             "startlinecolor": "#2a3f5f"
            },
            "type": "carpet"
           }
          ],
          "choropleth": [
           {
            "colorbar": {
             "outlinewidth": 0,
             "ticks": ""
            },
            "type": "choropleth"
           }
          ],
          "contour": [
           {
            "colorbar": {
             "outlinewidth": 0,
             "ticks": ""
            },
            "colorscale": [
             [
              0,
              "#0d0887"
             ],
             [
              0.1111111111111111,
              "#46039f"
             ],
             [
              0.2222222222222222,
              "#7201a8"
             ],
             [
              0.3333333333333333,
              "#9c179e"
             ],
             [
              0.4444444444444444,
              "#bd3786"
             ],
             [
              0.5555555555555556,
              "#d8576b"
             ],
             [
              0.6666666666666666,
              "#ed7953"
             ],
             [
              0.7777777777777778,
              "#fb9f3a"
             ],
             [
              0.8888888888888888,
              "#fdca26"
             ],
             [
              1,
              "#f0f921"
             ]
            ],
            "type": "contour"
           }
          ],
          "contourcarpet": [
           {
            "colorbar": {
             "outlinewidth": 0,
             "ticks": ""
            },
            "type": "contourcarpet"
           }
          ],
          "heatmap": [
           {
            "colorbar": {
             "outlinewidth": 0,
             "ticks": ""
            },
            "colorscale": [
             [
              0,
              "#0d0887"
             ],
             [
              0.1111111111111111,
              "#46039f"
             ],
             [
              0.2222222222222222,
              "#7201a8"
             ],
             [
              0.3333333333333333,
              "#9c179e"
             ],
             [
              0.4444444444444444,
              "#bd3786"
             ],
             [
              0.5555555555555556,
              "#d8576b"
             ],
             [
              0.6666666666666666,
              "#ed7953"
             ],
             [
              0.7777777777777778,
              "#fb9f3a"
             ],
             [
              0.8888888888888888,
              "#fdca26"
             ],
             [
              1,
              "#f0f921"
             ]
            ],
            "type": "heatmap"
           }
          ],
          "heatmapgl": [
           {
            "colorbar": {
             "outlinewidth": 0,
             "ticks": ""
            },
            "colorscale": [
             [
              0,
              "#0d0887"
             ],
             [
              0.1111111111111111,
              "#46039f"
             ],
             [
              0.2222222222222222,
              "#7201a8"
             ],
             [
              0.3333333333333333,
              "#9c179e"
             ],
             [
              0.4444444444444444,
              "#bd3786"
             ],
             [
              0.5555555555555556,
              "#d8576b"
             ],
             [
              0.6666666666666666,
              "#ed7953"
             ],
             [
              0.7777777777777778,
              "#fb9f3a"
             ],
             [
              0.8888888888888888,
              "#fdca26"
             ],
             [
              1,
              "#f0f921"
             ]
            ],
            "type": "heatmapgl"
           }
          ],
          "histogram": [
           {
            "marker": {
             "pattern": {
              "fillmode": "overlay",
              "size": 10,
              "solidity": 0.2
             }
            },
            "type": "histogram"
           }
          ],
          "histogram2d": [
           {
            "colorbar": {
             "outlinewidth": 0,
             "ticks": ""
            },
            "colorscale": [
             [
              0,
              "#0d0887"
             ],
             [
              0.1111111111111111,
              "#46039f"
             ],
             [
              0.2222222222222222,
              "#7201a8"
             ],
             [
              0.3333333333333333,
              "#9c179e"
             ],
             [
              0.4444444444444444,
              "#bd3786"
             ],
             [
              0.5555555555555556,
              "#d8576b"
             ],
             [
              0.6666666666666666,
              "#ed7953"
             ],
             [
              0.7777777777777778,
              "#fb9f3a"
             ],
             [
              0.8888888888888888,
              "#fdca26"
             ],
             [
              1,
              "#f0f921"
             ]
            ],
            "type": "histogram2d"
           }
          ],
          "histogram2dcontour": [
           {
            "colorbar": {
             "outlinewidth": 0,
             "ticks": ""
            },
            "colorscale": [
             [
              0,
              "#0d0887"
             ],
             [
              0.1111111111111111,
              "#46039f"
             ],
             [
              0.2222222222222222,
              "#7201a8"
             ],
             [
              0.3333333333333333,
              "#9c179e"
             ],
             [
              0.4444444444444444,
              "#bd3786"
             ],
             [
              0.5555555555555556,
              "#d8576b"
             ],
             [
              0.6666666666666666,
              "#ed7953"
             ],
             [
              0.7777777777777778,
              "#fb9f3a"
             ],
             [
              0.8888888888888888,
              "#fdca26"
             ],
             [
              1,
              "#f0f921"
             ]
            ],
            "type": "histogram2dcontour"
           }
          ],
          "mesh3d": [
           {
            "colorbar": {
             "outlinewidth": 0,
             "ticks": ""
            },
            "type": "mesh3d"
           }
          ],
          "parcoords": [
           {
            "line": {
             "colorbar": {
              "outlinewidth": 0,
              "ticks": ""
             }
            },
            "type": "parcoords"
           }
          ],
          "pie": [
           {
            "automargin": true,
            "type": "pie"
           }
          ],
          "scatter": [
           {
            "marker": {
             "colorbar": {
              "outlinewidth": 0,
              "ticks": ""
             }
            },
            "type": "scatter"
           }
          ],
          "scatter3d": [
           {
            "line": {
             "colorbar": {
              "outlinewidth": 0,
              "ticks": ""
             }
            },
            "marker": {
             "colorbar": {
              "outlinewidth": 0,
              "ticks": ""
             }
            },
            "type": "scatter3d"
           }
          ],
          "scattercarpet": [
           {
            "marker": {
             "colorbar": {
              "outlinewidth": 0,
              "ticks": ""
             }
            },
            "type": "scattercarpet"
           }
          ],
          "scattergeo": [
           {
            "marker": {
             "colorbar": {
              "outlinewidth": 0,
              "ticks": ""
             }
            },
            "type": "scattergeo"
           }
          ],
          "scattergl": [
           {
            "marker": {
             "colorbar": {
              "outlinewidth": 0,
              "ticks": ""
             }
            },
            "type": "scattergl"
           }
          ],
          "scattermapbox": [
           {
            "marker": {
             "colorbar": {
              "outlinewidth": 0,
              "ticks": ""
             }
            },
            "type": "scattermapbox"
           }
          ],
          "scatterpolar": [
           {
            "marker": {
             "colorbar": {
              "outlinewidth": 0,
              "ticks": ""
             }
            },
            "type": "scatterpolar"
           }
          ],
          "scatterpolargl": [
           {
            "marker": {
             "colorbar": {
              "outlinewidth": 0,
              "ticks": ""
             }
            },
            "type": "scatterpolargl"
           }
          ],
          "scatterternary": [
           {
            "marker": {
             "colorbar": {
              "outlinewidth": 0,
              "ticks": ""
             }
            },
            "type": "scatterternary"
           }
          ],
          "surface": [
           {
            "colorbar": {
             "outlinewidth": 0,
             "ticks": ""
            },
            "colorscale": [
             [
              0,
              "#0d0887"
             ],
             [
              0.1111111111111111,
              "#46039f"
             ],
             [
              0.2222222222222222,
              "#7201a8"
             ],
             [
              0.3333333333333333,
              "#9c179e"
             ],
             [
              0.4444444444444444,
              "#bd3786"
             ],
             [
              0.5555555555555556,
              "#d8576b"
             ],
             [
              0.6666666666666666,
              "#ed7953"
             ],
             [
              0.7777777777777778,
              "#fb9f3a"
             ],
             [
              0.8888888888888888,
              "#fdca26"
             ],
             [
              1,
              "#f0f921"
             ]
            ],
            "type": "surface"
           }
          ],
          "table": [
           {
            "cells": {
             "fill": {
              "color": "#EBF0F8"
             },
             "line": {
              "color": "white"
             }
            },
            "header": {
             "fill": {
              "color": "#C8D4E3"
             },
             "line": {
              "color": "white"
             }
            },
            "type": "table"
           }
          ]
         },
         "layout": {
          "annotationdefaults": {
           "arrowcolor": "#2a3f5f",
           "arrowhead": 0,
           "arrowwidth": 1
          },
          "autotypenumbers": "strict",
          "coloraxis": {
           "colorbar": {
            "outlinewidth": 0,
            "ticks": ""
           }
          },
          "colorscale": {
           "diverging": [
            [
             0,
             "#8e0152"
            ],
            [
             0.1,
             "#c51b7d"
            ],
            [
             0.2,
             "#de77ae"
            ],
            [
             0.3,
             "#f1b6da"
            ],
            [
             0.4,
             "#fde0ef"
            ],
            [
             0.5,
             "#f7f7f7"
            ],
            [
             0.6,
             "#e6f5d0"
            ],
            [
             0.7,
             "#b8e186"
            ],
            [
             0.8,
             "#7fbc41"
            ],
            [
             0.9,
             "#4d9221"
            ],
            [
             1,
             "#276419"
            ]
           ],
           "sequential": [
            [
             0,
             "#0d0887"
            ],
            [
             0.1111111111111111,
             "#46039f"
            ],
            [
             0.2222222222222222,
             "#7201a8"
            ],
            [
             0.3333333333333333,
             "#9c179e"
            ],
            [
             0.4444444444444444,
             "#bd3786"
            ],
            [
             0.5555555555555556,
             "#d8576b"
            ],
            [
             0.6666666666666666,
             "#ed7953"
            ],
            [
             0.7777777777777778,
             "#fb9f3a"
            ],
            [
             0.8888888888888888,
             "#fdca26"
            ],
            [
             1,
             "#f0f921"
            ]
           ],
           "sequentialminus": [
            [
             0,
             "#0d0887"
            ],
            [
             0.1111111111111111,
             "#46039f"
            ],
            [
             0.2222222222222222,
             "#7201a8"
            ],
            [
             0.3333333333333333,
             "#9c179e"
            ],
            [
             0.4444444444444444,
             "#bd3786"
            ],
            [
             0.5555555555555556,
             "#d8576b"
            ],
            [
             0.6666666666666666,
             "#ed7953"
            ],
            [
             0.7777777777777778,
             "#fb9f3a"
            ],
            [
             0.8888888888888888,
             "#fdca26"
            ],
            [
             1,
             "#f0f921"
            ]
           ]
          },
          "colorway": [
           "#636efa",
           "#EF553B",
           "#00cc96",
           "#ab63fa",
           "#FFA15A",
           "#19d3f3",
           "#FF6692",
           "#B6E880",
           "#FF97FF",
           "#FECB52"
          ],
          "font": {
           "color": "#2a3f5f"
          },
          "geo": {
           "bgcolor": "white",
           "lakecolor": "white",
           "landcolor": "#E5ECF6",
           "showlakes": true,
           "showland": true,
           "subunitcolor": "white"
          },
          "hoverlabel": {
           "align": "left"
          },
          "hovermode": "closest",
          "mapbox": {
           "style": "light"
          },
          "paper_bgcolor": "white",
          "plot_bgcolor": "#E5ECF6",
          "polar": {
           "angularaxis": {
            "gridcolor": "white",
            "linecolor": "white",
            "ticks": ""
           },
           "bgcolor": "#E5ECF6",
           "radialaxis": {
            "gridcolor": "white",
            "linecolor": "white",
            "ticks": ""
           }
          },
          "scene": {
           "xaxis": {
            "backgroundcolor": "#E5ECF6",
            "gridcolor": "white",
            "gridwidth": 2,
            "linecolor": "white",
            "showbackground": true,
            "ticks": "",
            "zerolinecolor": "white"
           },
           "yaxis": {
            "backgroundcolor": "#E5ECF6",
            "gridcolor": "white",
            "gridwidth": 2,
            "linecolor": "white",
            "showbackground": true,
            "ticks": "",
            "zerolinecolor": "white"
           },
           "zaxis": {
            "backgroundcolor": "#E5ECF6",
            "gridcolor": "white",
            "gridwidth": 2,
            "linecolor": "white",
            "showbackground": true,
            "ticks": "",
            "zerolinecolor": "white"
           }
          },
          "shapedefaults": {
           "line": {
            "color": "#2a3f5f"
           }
          },
          "ternary": {
           "aaxis": {
            "gridcolor": "white",
            "linecolor": "white",
            "ticks": ""
           },
           "baxis": {
            "gridcolor": "white",
            "linecolor": "white",
            "ticks": ""
           },
           "bgcolor": "#E5ECF6",
           "caxis": {
            "gridcolor": "white",
            "linecolor": "white",
            "ticks": ""
           }
          },
          "title": {
           "x": 0.05
          },
          "xaxis": {
           "automargin": true,
           "gridcolor": "white",
           "linecolor": "white",
           "ticks": "",
           "title": {
            "standoff": 15
           },
           "zerolinecolor": "white",
           "zerolinewidth": 2
          },
          "yaxis": {
           "automargin": true,
           "gridcolor": "white",
           "linecolor": "white",
           "ticks": "",
           "title": {
            "standoff": 15
           },
           "zerolinecolor": "white",
           "zerolinewidth": 2
          }
         }
        },
        "title": {
         "text": "QAOA with General Error Mitigation - MaxCut-Landscape"
        }
       }
      },
      "text/html": [
       "<div>                            <div id=\"a9b9bee2-8bf2-4426-89bf-6702cf784da5\" class=\"plotly-graph-div\" style=\"height:525px; width:100%;\"></div>            <script type=\"text/javascript\">                require([\"plotly\"], function(Plotly) {                    window.PLOTLYENV=window.PLOTLYENV || {};                                    if (document.getElementById(\"a9b9bee2-8bf2-4426-89bf-6702cf784da5\")) {                    Plotly.newPlot(                        \"a9b9bee2-8bf2-4426-89bf-6702cf784da5\",                        [{\"contours\":{\"z\":{\"highlightcolor\":\"limegreen\",\"project\":{\"z\":true},\"show\":true,\"usecolormap\":true}},\"type\":\"surface\",\"x\":[0.0,0.1,0.2,0.30000000000000004,0.4,0.5,0.6000000000000001,0.7000000000000001,0.8,0.9,1.0,1.1,1.2000000000000002,1.3,1.4000000000000001,1.5,1.6,1.7000000000000002,1.8,1.9000000000000001,2.0,2.1,2.2,2.3000000000000003,2.4000000000000004,2.5,2.6,2.7,2.8000000000000003,2.9000000000000004,3.0,3.1],\"y\":[0.0,0.1,0.2,0.30000000000000004,0.4,0.5,0.6000000000000001,0.7000000000000001,0.8,0.9,1.0,1.1,1.2000000000000002,1.3,1.4000000000000001,1.5,1.6,1.7000000000000002,1.8,1.9000000000000001,2.0,2.1,2.2,2.3000000000000003,2.4000000000000004,2.5,2.6,2.7,2.8000000000000003,2.9000000000000004,3.0,3.1],\"z\":[[-24.2880859375,-24.1162109375,-23.3837890625,-23.923828125,-23.7431640625,-23.8173828125,-23.14453125,-23.8115234375,-24.09765625,-23.5283203125,-23.1669921875,-23.46875,-23.59765625,-23.734375,-23.919921875,-23.955078125,-23.3544921875,-23.916015625,-23.7431640625,-24.8779296875,-23.419921875,-23.7509765625,-23.826171875,-23.20703125,-23.607421875,-23.8828125,-23.333984375,-24.1875,-23.9853515625,-24.138671875,-23.8271484375,-23.650390625],[-24.09765625,-21.677734375,-22.9013671875,-24.546875,-22.8056640625,-22.2490234375,-22.556640625,-23.3564453125,-23.21484375,-22.357421875,-23.0419921875,-23.927734375,-23.80078125,-22.31640625,-22.865234375,-24.263671875,-23.927734375,-22.7412109375,-23.5810546875,-24.9873046875,-23.697265625,-23.1328125,-23.919921875,-24.5927734375,-23.98046875,-24.0673828125,-23.5615234375,-24.2421875,-24.142578125,-23.8359375,-23.80859375,-23.361328125],[-24.0283203125,-19.7880859375,-22.5,-23.986328125,-21.654296875,-20.099609375,-22.4794921875,-23.0732421875,-22.25,-21.5419921875,-22.4384765625,-22.6826171875,-23.685546875,-20.8671875,-22.2021484375,-24.927734375,-24.701171875,-20.37890625,-23.54296875,-25.8017578125,-24.798828125,-22.3740234375,-24.21875,-25.2041015625,-24.6767578125,-23.4873046875,-24.1474609375,-23.73828125,-23.85546875,-25.38671875,-24.0205078125,-23.44921875],[-24.328125,-18.9990234375,-22.3896484375,-23.7548828125,-21.0966796875,-18.40234375,-21.4267578125,-21.7119140625,-21.189453125,-20.0908203125,-22.1669921875,-22.583984375,-23.0693359375,-20.3447265625,-22.2744140625,-25.5498046875,-24.1884765625,-19.5712890625,-22.2939453125,-27.0087890625,-25.0478515625,-21.791015625,-23.365234375,-26.2353515625,-25.185546875,-23.609375,-24.2138671875,-24.439453125,-25.005859375,-25.369140625,-23.9990234375,-23.9462890625],[-24.0166015625,-18.451171875,-21.4150390625,-22.333984375,-21.87109375,-18.5595703125,-20.5859375,-20.525390625,-20.79296875,-19.9853515625,-21.80859375,-22.1123046875,-22.34375,-20.0791015625,-22.240234375,-26.654296875,-24.2314453125,-18.4814453125,-22.5322265625,-27.8017578125,-25.603515625,-20.908203125,-23.51953125,-26.083984375,-26.3056640625,-24.3515625,-24.7626953125,-24.7998046875,-25.580078125,-26.0107421875,-24.7890625,-23.8330078125],[-24.0673828125,-17.275390625,-21.1064453125,-21.1015625,-22.0068359375,-19.5654296875,-20.6953125,-19.357421875,-20.2646484375,-20.5400390625,-21.2900390625,-21.8623046875,-21.5791015625,-19.6552734375,-22.1416015625,-26.6279296875,-24.27734375,-17.8251953125,-22.08203125,-28.5546875,-26.3896484375,-20.4921875,-23.9189453125,-26.6220703125,-26.4912109375,-24.6171875,-25.0830078125,-24.861328125,-26.0859375,-26.4541015625,-25.7314453125,-24.240234375],[-24.220703125,-17.30078125,-20.6748046875,-19.541015625,-22.048828125,-20.0263671875,-20.3984375,-18.7431640625,-21.3916015625,-20.9794921875,-21.9423828125,-21.5927734375,-20.1591796875,-19.6416015625,-22.7158203125,-26.5380859375,-23.447265625,-16.9560546875,-22.6044921875,-28.6357421875,-26.205078125,-21.236328125,-23.5654296875,-26.4248046875,-27.4208984375,-25.5654296875,-25.20703125,-24.4541015625,-26.0322265625,-26.8876953125,-26.6767578125,-24.4609375],[-23.900390625,-19.1005859375,-20.5751953125,-18.1015625,-23.744140625,-21.4609375,-20.3955078125,-17.8740234375,-21.0205078125,-23.0908203125,-22.7783203125,-21.587890625,-20.5498046875,-19.830078125,-23.1259765625,-26.1337890625,-23.236328125,-18.2314453125,-21.9267578125,-28.4091796875,-25.9384765625,-20.79296875,-23.0849609375,-25.763671875,-28.2255859375,-24.7353515625,-25.3701171875,-24.689453125,-26.7861328125,-26.8291015625,-26.240234375,-24.296875],[-24.2431640625,-20.1689453125,-20.84375,-17.98828125,-23.84765625,-23.498046875,-20.9716796875,-17.8359375,-22.263671875,-24.1982421875,-23.2548828125,-21.2021484375,-20.1875,-21.3837890625,-23.3916015625,-25.6298828125,-22.4267578125,-19.693359375,-23.2861328125,-27.685546875,-25.7705078125,-21.578125,-23.71875,-25.5205078125,-28.5302734375,-25.6611328125,-24.8759765625,-24.0927734375,-26.625,-26.693359375,-26.7314453125,-24.0166015625],[-23.7841796875,-22.1220703125,-20.7216796875,-16.8251953125,-24.7529296875,-25.6533203125,-21.3583984375,-17.6181640625,-22.3623046875,-25.5810546875,-24.5546875,-21.2177734375,-20.2587890625,-23.681640625,-24.9697265625,-25.02734375,-21.9990234375,-20.8974609375,-23.2880859375,-26.30078125,-25.279296875,-22.5400390625,-23.2099609375,-24.509765625,-27.93359375,-25.5595703125,-24.73046875,-23.8330078125,-26.3271484375,-26.2314453125,-26.677734375,-25.0390625],[-23.505859375,-24.185546875,-21.3232421875,-16.634765625,-25.0927734375,-26.8759765625,-22.5400390625,-18.9833984375,-23.0361328125,-27.33984375,-24.6044921875,-21.6455078125,-20.458984375,-24.8662109375,-24.7763671875,-24.1865234375,-21.734375,-21.673828125,-23.5625,-24.99609375,-24.66796875,-23.76953125,-23.1767578125,-23.9755859375,-27.2841796875,-25.224609375,-24.486328125,-24.1923828125,-25.912109375,-25.041015625,-27.2216796875,-24.0986328125],[-23.8857421875,-25.3759765625,-22.015625,-17.5654296875,-26.1591796875,-28.55078125,-23.9326171875,-19.978515625,-24.3798828125,-27.849609375,-25.287109375,-22.021484375,-20.5927734375,-25.478515625,-25.138671875,-23.8486328125,-21.6689453125,-23.2822265625,-24.0732421875,-24.1259765625,-24.8330078125,-23.96875,-22.8125,-22.88671875,-26.740234375,-25.0634765625,-24.1201171875,-23.529296875,-25.55859375,-24.841796875,-25.978515625,-24.0830078125],[-23.744140625,-26.6806640625,-22.787109375,-18.779296875,-25.7626953125,-28.5009765625,-24.19140625,-20.87109375,-24.29296875,-28.0947265625,-25.4287109375,-22.7734375,-21.9189453125,-25.8798828125,-25.57421875,-22.9501953125,-21.962890625,-24.3857421875,-23.6005859375,-23.4755859375,-23.865234375,-24.640625,-23.466796875,-22.6650390625,-26.1220703125,-24.3349609375,-24.037109375,-23.2919921875,-25.701171875,-24.5263671875,-26.10546875,-24.1611328125],[-24.3017578125,-26.4462890625,-23.41796875,-20.9345703125,-25.841796875,-27.8974609375,-24.3046875,-21.82421875,-24.4462890625,-27.28515625,-25.115234375,-22.5498046875,-23.01953125,-26.1533203125,-25.041015625,-22.6630859375,-22.6337890625,-25.181640625,-24.5908203125,-22.8994140625,-24.08984375,-24.9267578125,-23.5966796875,-23.1103515625,-25.1162109375,-24.2666015625,-23.69921875,-23.6982421875,-24.58203125,-23.84765625,-25.185546875,-24.24609375],[-23.57421875,-26.140625,-23.5732421875,-22.0576171875,-25.173828125,-27.267578125,-24.5830078125,-23.482421875,-25.1142578125,-26.1591796875,-24.619140625,-23.40234375,-23.3330078125,-25.8544921875,-25.2763671875,-22.9931640625,-22.990234375,-24.83984375,-24.0234375,-21.8662109375,-23.70703125,-24.564453125,-23.9970703125,-22.9560546875,-24.130859375,-24.501953125,-23.5087890625,-23.3310546875,-24.1796875,-23.482421875,-24.689453125,-23.927734375],[-23.6650390625,-25.0810546875,-24.0810546875,-22.544921875,-24.5595703125,-25.4404296875,-24.537109375,-23.7861328125,-24.482421875,-25.20703125,-24.6787109375,-23.8349609375,-23.9306640625,-24.625,-24.333984375,-24.0263671875,-23.6357421875,-24.443359375,-23.791015625,-23.9765625,-23.7314453125,-24.0263671875,-23.708984375,-23.3583984375,-24.708984375,-23.8720703125,-23.5517578125,-23.779296875,-23.779296875,-23.5419921875,-24.255859375,-24.0234375],[-24.126953125,-23.2138671875,-24.2197265625,-23.7822265625,-23.521484375,-22.9599609375,-23.63671875,-23.9296875,-23.7578125,-23.4013671875,-24.1826171875,-23.5341796875,-24.1982421875,-23.455078125,-23.7861328125,-23.9189453125,-24.294921875,-23.900390625,-23.5224609375,-24.2822265625,-24.380859375,-23.8447265625,-23.806640625,-24.1083984375,-23.4833984375,-23.8798828125,-23.4013671875,-24.0751953125,-24.0537109375,-24.30078125,-24.1416015625,-24.4365234375],[-24.1630859375,-21.591796875,-23.0400390625,-24.763671875,-22.560546875,-20.9609375,-23.0205078125,-24.0625,-22.5185546875,-22.0927734375,-22.66015625,-23.4287109375,-23.2763671875,-23.0810546875,-23.212890625,-24.734375,-24.5908203125,-22.2578125,-23.2900390625,-25.236328125,-24.775390625,-22.927734375,-24.0322265625,-24.6328125,-24.296875,-23.8974609375,-23.80859375,-24.4931640625,-23.970703125,-24.390625,-23.9033203125,-23.9892578125],[-24.1025390625,-19.9892578125,-22.98828125,-24.1943359375,-22.6103515625,-19.677734375,-22.23828125,-21.9580078125,-22.83984375,-20.728515625,-22.162109375,-23.2294921875,-23.2265625,-20.9072265625,-22.12890625,-25.9931640625,-24.349609375,-20.158203125,-22.703125,-26.306640625,-25.3251953125,-21.64453125,-23.7783203125,-25.26171875,-24.494140625,-23.8994140625,-24.7177734375,-24.7275390625,-24.0595703125,-24.67578125,-23.7705078125,-24.1943359375],[-24.1630859375,-19.19921875,-22.2900390625,-23.66015625,-21.2734375,-19.1123046875,-21.6708984375,-21.611328125,-21.68359375,-20.1435546875,-21.7470703125,-22.330078125,-21.6982421875,-19.8701171875,-22.3193359375,-26.2763671875,-23.9443359375,-19.7783203125,-23.2978515625,-27.3681640625,-25.20703125,-21.0576171875,-24.2451171875,-26.7216796875,-25.9443359375,-24.5390625,-24.66796875,-24.55859375,-24.2568359375,-25.8310546875,-24.3291015625,-24.2841796875],[-23.9052734375,-18.3056640625,-21.625,-21.9287109375,-21.494140625,-18.677734375,-21.0068359375,-20.3046875,-21.4892578125,-20.18359375,-22.123046875,-22.0888671875,-22.1748046875,-19.0224609375,-21.9951171875,-26.6787109375,-24.20703125,-17.9970703125,-22.3701171875,-28.40625,-26.1884765625,-20.7998046875,-23.8466796875,-25.67578125,-26.162109375,-25.1435546875,-25.2998046875,-24.3447265625,-25.302734375,-26.0166015625,-24.724609375,-23.7431640625],[-24.2607421875,-17.6630859375,-20.775390625,-20.294921875,-22.177734375,-18.7958984375,-20.5966796875,-18.873046875,-20.8974609375,-20.685546875,-22.1298828125,-22.0234375,-21.123046875,-20.0712890625,-22.3505859375,-26.5087890625,-23.0107421875,-18.0478515625,-22.6953125,-28.2197265625,-25.98046875,-20.3115234375,-23.501953125,-26.416015625,-27.193359375,-25.16796875,-25.341796875,-25.119140625,-25.7216796875,-26.708984375,-25.958984375,-24.615234375],[-23.7275390625,-18.6533203125,-20.2890625,-18.166015625,-22.53515625,-20.59765625,-20.837890625,-18.3623046875,-21.033203125,-21.3955078125,-22.0283203125,-20.95703125,-20.3466796875,-19.771484375,-22.220703125,-26.7060546875,-22.6953125,-17.759765625,-22.787109375,-27.96875,-25.5166015625,-21.0986328125,-24.115234375,-26.4921875,-27.986328125,-25.189453125,-25.6630859375,-24.9033203125,-25.720703125,-26.57421875,-25.65625,-24.1337890625],[-24.25,-19.412109375,-20.2900390625,-17.6142578125,-23.318359375,-22.330078125,-21.330078125,-17.158203125,-21.0546875,-23.296875,-22.7373046875,-20.826171875,-20.71484375,-21.03125,-23.45703125,-26.298828125,-22.3291015625,-18.5693359375,-22.4306640625,-28.025390625,-25.53515625,-21.2666015625,-23.4130859375,-26.083984375,-27.9931640625,-24.921875,-25.7060546875,-24.3857421875,-26.6982421875,-26.7607421875,-26.646484375,-23.8857421875],[-23.4169921875,-20.6484375,-20.6123046875,-16.9765625,-24.4521484375,-24.3037109375,-21.46875,-17.4658203125,-22.24609375,-24.8447265625,-23.7080078125,-20.623046875,-19.966796875,-22.08984375,-23.4482421875,-25.6396484375,-21.8544921875,-19.4345703125,-23.5673828125,-27.51171875,-25.9228515625,-21.759765625,-23.0751953125,-24.6416015625,-28.0185546875,-25.8828125,-25.291015625,-24.6123046875,-26.63671875,-26.86328125,-26.814453125,-24.3369140625],[-24.0234375,-23.2841796875,-20.9208984375,-16.328125,-25.291015625,-25.7158203125,-21.763671875,-18.142578125,-22.7626953125,-25.953125,-24.3740234375,-21.666015625,-20.5185546875,-23.4033203125,-24.3515625,-24.9375,-22.10546875,-20.283203125,-23.736328125,-25.6484375,-24.9658203125,-22.8173828125,-23.4267578125,-24.625,-27.9501953125,-25.6484375,-25.1201171875,-24.341796875,-25.890625,-25.8740234375,-27.3017578125,-23.791015625],[-24.369140625,-24.7724609375,-21.681640625,-17.5625,-26.1298828125,-27.7158203125,-22.654296875,-19.3095703125,-23.8154296875,-27.67578125,-24.7255859375,-21.6259765625,-21.1494140625,-24.5380859375,-24.9267578125,-24.3359375,-21.2744140625,-22.0283203125,-23.5732421875,-25.0712890625,-24.703125,-23.6962890625,-23.240234375,-23.9443359375,-27.4765625,-25.400390625,-24.1201171875,-24.095703125,-26.044921875,-25.5791015625,-27.072265625,-24.3720703125],[-23.81640625,-25.998046875,-22.3466796875,-18.1005859375,-25.9013671875,-28.7587890625,-23.2431640625,-20.8134765625,-23.8681640625,-27.24609375,-25.1748046875,-22.4072265625,-21.5009765625,-25.8251953125,-24.8349609375,-23.23828125,-21.7666015625,-24.0439453125,-24.3544921875,-23.642578125,-24.48828125,-24.619140625,-23.083984375,-23.8642578125,-26.6884765625,-25.37890625,-24.234375,-23.859375,-25.6669921875,-24.892578125,-26.4599609375,-24.1298828125],[-23.552734375,-26.3505859375,-22.8154296875,-18.966796875,-25.8056640625,-28.3056640625,-23.8193359375,-21.404296875,-24.451171875,-27.9765625,-25.7314453125,-22.943359375,-22.59375,-26.1064453125,-25.302734375,-22.90625,-21.830078125,-24.7890625,-24.4521484375,-22.931640625,-24.005859375,-24.7509765625,-23.447265625,-23.2421875,-25.78125,-24.1181640625,-23.8193359375,-23.392578125,-24.4453125,-23.91796875,-25.361328125,-24.029296875],[-23.7802734375,-26.53125,-23.4453125,-21.0107421875,-25.7705078125,-28.1962890625,-23.666015625,-22.8291015625,-25.40625,-27.22265625,-25.859375,-22.8671875,-22.8486328125,-26.0576171875,-25.1123046875,-23.09375,-22.29296875,-25.0244140625,-24.4052734375,-23.0,-23.1767578125,-24.73046875,-23.443359375,-22.6142578125,-24.7822265625,-24.412109375,-23.4150390625,-23.4150390625,-24.396484375,-24.31640625,-25.30859375,-23.7646484375],[-23.794921875,-26.2470703125,-23.7607421875,-22.158203125,-24.732421875,-26.3583984375,-24.0205078125,-22.7646484375,-25.1767578125,-26.3525390625,-24.595703125,-23.6083984375,-23.646484375,-25.849609375,-24.6181640625,-23.119140625,-22.36328125,-24.8349609375,-23.7978515625,-22.9765625,-23.28515625,-24.091796875,-23.6923828125,-23.3349609375,-24.203125,-24.1083984375,-24.1826171875,-23.3212890625,-23.5478515625,-23.796875,-24.2236328125,-23.6787109375],[-24.2841796875,-24.712890625,-24.439453125,-23.5126953125,-24.4912109375,-24.8662109375,-24.435546875,-24.08984375,-23.7001953125,-24.7451171875,-23.8603515625,-24.091796875,-23.41015625,-24.6455078125,-23.875,-23.869140625,-23.5673828125,-23.966796875,-24.1474609375,-23.51953125,-24.009765625,-23.384765625,-23.5576171875,-23.2333984375,-23.8916015625,-23.791015625,-23.4423828125,-23.6044921875,-23.81640625,-23.8408203125,-23.8740234375,-24.068359375]]}],                        {\"scene\":{\"xaxis\":{\"title\":{\"text\":\"\\u03b3\"}},\"yaxis\":{\"title\":{\"text\":\"\\u03b2\"}},\"zaxis\":{\"title\":{\"text\":\"F(\\u03b3,\\u03b2)\"}}},\"template\":{\"data\":{\"bar\":[{\"error_x\":{\"color\":\"#2a3f5f\"},\"error_y\":{\"color\":\"#2a3f5f\"},\"marker\":{\"line\":{\"color\":\"#E5ECF6\",\"width\":0.5},\"pattern\":{\"fillmode\":\"overlay\",\"size\":10,\"solidity\":0.2}},\"type\":\"bar\"}],\"barpolar\":[{\"marker\":{\"line\":{\"color\":\"#E5ECF6\",\"width\":0.5},\"pattern\":{\"fillmode\":\"overlay\",\"size\":10,\"solidity\":0.2}},\"type\":\"barpolar\"}],\"carpet\":[{\"aaxis\":{\"endlinecolor\":\"#2a3f5f\",\"gridcolor\":\"white\",\"linecolor\":\"white\",\"minorgridcolor\":\"white\",\"startlinecolor\":\"#2a3f5f\"},\"baxis\":{\"endlinecolor\":\"#2a3f5f\",\"gridcolor\":\"white\",\"linecolor\":\"white\",\"minorgridcolor\":\"white\",\"startlinecolor\":\"#2a3f5f\"},\"type\":\"carpet\"}],\"choropleth\":[{\"colorbar\":{\"outlinewidth\":0,\"ticks\":\"\"},\"type\":\"choropleth\"}],\"contour\":[{\"colorbar\":{\"outlinewidth\":0,\"ticks\":\"\"},\"colorscale\":[[0.0,\"#0d0887\"],[0.1111111111111111,\"#46039f\"],[0.2222222222222222,\"#7201a8\"],[0.3333333333333333,\"#9c179e\"],[0.4444444444444444,\"#bd3786\"],[0.5555555555555556,\"#d8576b\"],[0.6666666666666666,\"#ed7953\"],[0.7777777777777778,\"#fb9f3a\"],[0.8888888888888888,\"#fdca26\"],[1.0,\"#f0f921\"]],\"type\":\"contour\"}],\"contourcarpet\":[{\"colorbar\":{\"outlinewidth\":0,\"ticks\":\"\"},\"type\":\"contourcarpet\"}],\"heatmap\":[{\"colorbar\":{\"outlinewidth\":0,\"ticks\":\"\"},\"colorscale\":[[0.0,\"#0d0887\"],[0.1111111111111111,\"#46039f\"],[0.2222222222222222,\"#7201a8\"],[0.3333333333333333,\"#9c179e\"],[0.4444444444444444,\"#bd3786\"],[0.5555555555555556,\"#d8576b\"],[0.6666666666666666,\"#ed7953\"],[0.7777777777777778,\"#fb9f3a\"],[0.8888888888888888,\"#fdca26\"],[1.0,\"#f0f921\"]],\"type\":\"heatmap\"}],\"heatmapgl\":[{\"colorbar\":{\"outlinewidth\":0,\"ticks\":\"\"},\"colorscale\":[[0.0,\"#0d0887\"],[0.1111111111111111,\"#46039f\"],[0.2222222222222222,\"#7201a8\"],[0.3333333333333333,\"#9c179e\"],[0.4444444444444444,\"#bd3786\"],[0.5555555555555556,\"#d8576b\"],[0.6666666666666666,\"#ed7953\"],[0.7777777777777778,\"#fb9f3a\"],[0.8888888888888888,\"#fdca26\"],[1.0,\"#f0f921\"]],\"type\":\"heatmapgl\"}],\"histogram\":[{\"marker\":{\"pattern\":{\"fillmode\":\"overlay\",\"size\":10,\"solidity\":0.2}},\"type\":\"histogram\"}],\"histogram2d\":[{\"colorbar\":{\"outlinewidth\":0,\"ticks\":\"\"},\"colorscale\":[[0.0,\"#0d0887\"],[0.1111111111111111,\"#46039f\"],[0.2222222222222222,\"#7201a8\"],[0.3333333333333333,\"#9c179e\"],[0.4444444444444444,\"#bd3786\"],[0.5555555555555556,\"#d8576b\"],[0.6666666666666666,\"#ed7953\"],[0.7777777777777778,\"#fb9f3a\"],[0.8888888888888888,\"#fdca26\"],[1.0,\"#f0f921\"]],\"type\":\"histogram2d\"}],\"histogram2dcontour\":[{\"colorbar\":{\"outlinewidth\":0,\"ticks\":\"\"},\"colorscale\":[[0.0,\"#0d0887\"],[0.1111111111111111,\"#46039f\"],[0.2222222222222222,\"#7201a8\"],[0.3333333333333333,\"#9c179e\"],[0.4444444444444444,\"#bd3786\"],[0.5555555555555556,\"#d8576b\"],[0.6666666666666666,\"#ed7953\"],[0.7777777777777778,\"#fb9f3a\"],[0.8888888888888888,\"#fdca26\"],[1.0,\"#f0f921\"]],\"type\":\"histogram2dcontour\"}],\"mesh3d\":[{\"colorbar\":{\"outlinewidth\":0,\"ticks\":\"\"},\"type\":\"mesh3d\"}],\"parcoords\":[{\"line\":{\"colorbar\":{\"outlinewidth\":0,\"ticks\":\"\"}},\"type\":\"parcoords\"}],\"pie\":[{\"automargin\":true,\"type\":\"pie\"}],\"scatter\":[{\"marker\":{\"colorbar\":{\"outlinewidth\":0,\"ticks\":\"\"}},\"type\":\"scatter\"}],\"scatter3d\":[{\"line\":{\"colorbar\":{\"outlinewidth\":0,\"ticks\":\"\"}},\"marker\":{\"colorbar\":{\"outlinewidth\":0,\"ticks\":\"\"}},\"type\":\"scatter3d\"}],\"scattercarpet\":[{\"marker\":{\"colorbar\":{\"outlinewidth\":0,\"ticks\":\"\"}},\"type\":\"scattercarpet\"}],\"scattergeo\":[{\"marker\":{\"colorbar\":{\"outlinewidth\":0,\"ticks\":\"\"}},\"type\":\"scattergeo\"}],\"scattergl\":[{\"marker\":{\"colorbar\":{\"outlinewidth\":0,\"ticks\":\"\"}},\"type\":\"scattergl\"}],\"scattermapbox\":[{\"marker\":{\"colorbar\":{\"outlinewidth\":0,\"ticks\":\"\"}},\"type\":\"scattermapbox\"}],\"scatterpolar\":[{\"marker\":{\"colorbar\":{\"outlinewidth\":0,\"ticks\":\"\"}},\"type\":\"scatterpolar\"}],\"scatterpolargl\":[{\"marker\":{\"colorbar\":{\"outlinewidth\":0,\"ticks\":\"\"}},\"type\":\"scatterpolargl\"}],\"scatterternary\":[{\"marker\":{\"colorbar\":{\"outlinewidth\":0,\"ticks\":\"\"}},\"type\":\"scatterternary\"}],\"surface\":[{\"colorbar\":{\"outlinewidth\":0,\"ticks\":\"\"},\"colorscale\":[[0.0,\"#0d0887\"],[0.1111111111111111,\"#46039f\"],[0.2222222222222222,\"#7201a8\"],[0.3333333333333333,\"#9c179e\"],[0.4444444444444444,\"#bd3786\"],[0.5555555555555556,\"#d8576b\"],[0.6666666666666666,\"#ed7953\"],[0.7777777777777778,\"#fb9f3a\"],[0.8888888888888888,\"#fdca26\"],[1.0,\"#f0f921\"]],\"type\":\"surface\"}],\"table\":[{\"cells\":{\"fill\":{\"color\":\"#EBF0F8\"},\"line\":{\"color\":\"white\"}},\"header\":{\"fill\":{\"color\":\"#C8D4E3\"},\"line\":{\"color\":\"white\"}},\"type\":\"table\"}]},\"layout\":{\"annotationdefaults\":{\"arrowcolor\":\"#2a3f5f\",\"arrowhead\":0,\"arrowwidth\":1},\"autotypenumbers\":\"strict\",\"coloraxis\":{\"colorbar\":{\"outlinewidth\":0,\"ticks\":\"\"}},\"colorscale\":{\"diverging\":[[0,\"#8e0152\"],[0.1,\"#c51b7d\"],[0.2,\"#de77ae\"],[0.3,\"#f1b6da\"],[0.4,\"#fde0ef\"],[0.5,\"#f7f7f7\"],[0.6,\"#e6f5d0\"],[0.7,\"#b8e186\"],[0.8,\"#7fbc41\"],[0.9,\"#4d9221\"],[1,\"#276419\"]],\"sequential\":[[0.0,\"#0d0887\"],[0.1111111111111111,\"#46039f\"],[0.2222222222222222,\"#7201a8\"],[0.3333333333333333,\"#9c179e\"],[0.4444444444444444,\"#bd3786\"],[0.5555555555555556,\"#d8576b\"],[0.6666666666666666,\"#ed7953\"],[0.7777777777777778,\"#fb9f3a\"],[0.8888888888888888,\"#fdca26\"],[1.0,\"#f0f921\"]],\"sequentialminus\":[[0.0,\"#0d0887\"],[0.1111111111111111,\"#46039f\"],[0.2222222222222222,\"#7201a8\"],[0.3333333333333333,\"#9c179e\"],[0.4444444444444444,\"#bd3786\"],[0.5555555555555556,\"#d8576b\"],[0.6666666666666666,\"#ed7953\"],[0.7777777777777778,\"#fb9f3a\"],[0.8888888888888888,\"#fdca26\"],[1.0,\"#f0f921\"]]},\"colorway\":[\"#636efa\",\"#EF553B\",\"#00cc96\",\"#ab63fa\",\"#FFA15A\",\"#19d3f3\",\"#FF6692\",\"#B6E880\",\"#FF97FF\",\"#FECB52\"],\"font\":{\"color\":\"#2a3f5f\"},\"geo\":{\"bgcolor\":\"white\",\"lakecolor\":\"white\",\"landcolor\":\"#E5ECF6\",\"showlakes\":true,\"showland\":true,\"subunitcolor\":\"white\"},\"hoverlabel\":{\"align\":\"left\"},\"hovermode\":\"closest\",\"mapbox\":{\"style\":\"light\"},\"paper_bgcolor\":\"white\",\"plot_bgcolor\":\"#E5ECF6\",\"polar\":{\"angularaxis\":{\"gridcolor\":\"white\",\"linecolor\":\"white\",\"ticks\":\"\"},\"bgcolor\":\"#E5ECF6\",\"radialaxis\":{\"gridcolor\":\"white\",\"linecolor\":\"white\",\"ticks\":\"\"}},\"scene\":{\"xaxis\":{\"backgroundcolor\":\"#E5ECF6\",\"gridcolor\":\"white\",\"gridwidth\":2,\"linecolor\":\"white\",\"showbackground\":true,\"ticks\":\"\",\"zerolinecolor\":\"white\"},\"yaxis\":{\"backgroundcolor\":\"#E5ECF6\",\"gridcolor\":\"white\",\"gridwidth\":2,\"linecolor\":\"white\",\"showbackground\":true,\"ticks\":\"\",\"zerolinecolor\":\"white\"},\"zaxis\":{\"backgroundcolor\":\"#E5ECF6\",\"gridcolor\":\"white\",\"gridwidth\":2,\"linecolor\":\"white\",\"showbackground\":true,\"ticks\":\"\",\"zerolinecolor\":\"white\"}},\"shapedefaults\":{\"line\":{\"color\":\"#2a3f5f\"}},\"ternary\":{\"aaxis\":{\"gridcolor\":\"white\",\"linecolor\":\"white\",\"ticks\":\"\"},\"baxis\":{\"gridcolor\":\"white\",\"linecolor\":\"white\",\"ticks\":\"\"},\"bgcolor\":\"#E5ECF6\",\"caxis\":{\"gridcolor\":\"white\",\"linecolor\":\"white\",\"ticks\":\"\"}},\"title\":{\"x\":0.05},\"xaxis\":{\"automargin\":true,\"gridcolor\":\"white\",\"linecolor\":\"white\",\"ticks\":\"\",\"title\":{\"standoff\":15},\"zerolinecolor\":\"white\",\"zerolinewidth\":2},\"yaxis\":{\"automargin\":true,\"gridcolor\":\"white\",\"linecolor\":\"white\",\"ticks\":\"\",\"title\":{\"standoff\":15},\"zerolinecolor\":\"white\",\"zerolinewidth\":2}}},\"title\":{\"text\":\"QAOA with General Error Mitigation - MaxCut-Landscape\"}},                        {\"responsive\": true}                    ).then(function(){\n",
       "                            \n",
       "var gd = document.getElementById('a9b9bee2-8bf2-4426-89bf-6702cf784da5');\n",
       "var x = new MutationObserver(function (mutations, observer) {{\n",
       "        var display = window.getComputedStyle(gd).display;\n",
       "        if (!display || display === 'none') {{\n",
       "            console.log([gd, 'removed!']);\n",
       "            Plotly.purge(gd);\n",
       "            observer.disconnect();\n",
       "        }}\n",
       "}});\n",
       "\n",
       "// Listen for the removal of the full notebook cells\n",
       "var notebookContainer = gd.closest('#notebook-container');\n",
       "if (notebookContainer) {{\n",
       "    x.observe(notebookContainer, {childList: true});\n",
       "}}\n",
       "\n",
       "// Listen for the clearing of the current output cell\n",
       "var outputEl = gd.closest('.output');\n",
       "if (outputEl) {{\n",
       "    x.observe(outputEl, {childList: true});\n",
       "}}\n",
       "\n",
       "                        })                };                });            </script>        </div>"
      ]
     },
     "metadata": {},
     "output_type": "display_data"
    }
   ],
   "source": [
    "# Plot landscape in 3D \n",
    "a_gamma = np.arange(0, np.pi, step_size)\n",
    "b_beta = np.arange(0, np.pi, step_size)\n",
    "fig = go.Figure(data=go.Surface(z=landscape, x=a_gamma, y=b_beta))\n",
    "\n",
    "fig.update_traces(contours_z=dict(show=True, usecolormap=True, highlightcolor='limegreen', project_z=True))\n",
    "\n",
    "\n",
    "fig.update_layout(title=\"QAOA with General Error Mitigation - MaxCut-Landscape\", scene=dict(\n",
    "    xaxis_title=\"γ\",\n",
    "    yaxis_title=\"β\",\n",
    "    zaxis_title=\"F(γ,β)\"\n",
    "))"
   ]
  },
  {
   "cell_type": "code",
   "execution_count": 66,
   "id": "7a8d8f7a",
   "metadata": {},
   "outputs": [
    {
     "data": {
      "application/vnd.plotly.v1+json": {
       "config": {
        "plotlyServerURL": "https://plot.ly"
       },
       "data": [
        {
         "colorscale": [
          [
           0,
           "#440154"
          ],
          [
           0.1111111111111111,
           "#482878"
          ],
          [
           0.2222222222222222,
           "#3e4989"
          ],
          [
           0.3333333333333333,
           "#31688e"
          ],
          [
           0.4444444444444444,
           "#26828e"
          ],
          [
           0.5555555555555556,
           "#1f9e89"
          ],
          [
           0.6666666666666666,
           "#35b779"
          ],
          [
           0.7777777777777778,
           "#6ece58"
          ],
          [
           0.8888888888888888,
           "#b5de2b"
          ],
          [
           1,
           "#fde725"
          ]
         ],
         "type": "heatmap",
         "x": [
          0,
          0.1,
          0.2,
          0.30000000000000004,
          0.4,
          0.5,
          0.6000000000000001,
          0.7000000000000001,
          0.8,
          0.9,
          1,
          1.1,
          1.2000000000000002,
          1.3,
          1.4000000000000001,
          1.5,
          1.6,
          1.7000000000000002,
          1.8,
          1.9000000000000001,
          2,
          2.1,
          2.2,
          2.3000000000000003,
          2.4000000000000004,
          2.5,
          2.6,
          2.7,
          2.8000000000000003,
          2.9000000000000004,
          3,
          3.1
         ],
         "y": [
          0,
          0.1,
          0.2,
          0.30000000000000004,
          0.4,
          0.5,
          0.6000000000000001,
          0.7000000000000001,
          0.8,
          0.9,
          1,
          1.1,
          1.2000000000000002,
          1.3,
          1.4000000000000001,
          1.5,
          1.6,
          1.7000000000000002,
          1.8,
          1.9000000000000001,
          2,
          2.1,
          2.2,
          2.3000000000000003,
          2.4000000000000004,
          2.5,
          2.6,
          2.7,
          2.8000000000000003,
          2.9000000000000004,
          3,
          3.1
         ],
         "z": [
          [
           -24.2880859375,
           -24.1162109375,
           -23.3837890625,
           -23.923828125,
           -23.7431640625,
           -23.8173828125,
           -23.14453125,
           -23.8115234375,
           -24.09765625,
           -23.5283203125,
           -23.1669921875,
           -23.46875,
           -23.59765625,
           -23.734375,
           -23.919921875,
           -23.955078125,
           -23.3544921875,
           -23.916015625,
           -23.7431640625,
           -24.8779296875,
           -23.419921875,
           -23.7509765625,
           -23.826171875,
           -23.20703125,
           -23.607421875,
           -23.8828125,
           -23.333984375,
           -24.1875,
           -23.9853515625,
           -24.138671875,
           -23.8271484375,
           -23.650390625
          ],
          [
           -24.09765625,
           -21.677734375,
           -22.9013671875,
           -24.546875,
           -22.8056640625,
           -22.2490234375,
           -22.556640625,
           -23.3564453125,
           -23.21484375,
           -22.357421875,
           -23.0419921875,
           -23.927734375,
           -23.80078125,
           -22.31640625,
           -22.865234375,
           -24.263671875,
           -23.927734375,
           -22.7412109375,
           -23.5810546875,
           -24.9873046875,
           -23.697265625,
           -23.1328125,
           -23.919921875,
           -24.5927734375,
           -23.98046875,
           -24.0673828125,
           -23.5615234375,
           -24.2421875,
           -24.142578125,
           -23.8359375,
           -23.80859375,
           -23.361328125
          ],
          [
           -24.0283203125,
           -19.7880859375,
           -22.5,
           -23.986328125,
           -21.654296875,
           -20.099609375,
           -22.4794921875,
           -23.0732421875,
           -22.25,
           -21.5419921875,
           -22.4384765625,
           -22.6826171875,
           -23.685546875,
           -20.8671875,
           -22.2021484375,
           -24.927734375,
           -24.701171875,
           -20.37890625,
           -23.54296875,
           -25.8017578125,
           -24.798828125,
           -22.3740234375,
           -24.21875,
           -25.2041015625,
           -24.6767578125,
           -23.4873046875,
           -24.1474609375,
           -23.73828125,
           -23.85546875,
           -25.38671875,
           -24.0205078125,
           -23.44921875
          ],
          [
           -24.328125,
           -18.9990234375,
           -22.3896484375,
           -23.7548828125,
           -21.0966796875,
           -18.40234375,
           -21.4267578125,
           -21.7119140625,
           -21.189453125,
           -20.0908203125,
           -22.1669921875,
           -22.583984375,
           -23.0693359375,
           -20.3447265625,
           -22.2744140625,
           -25.5498046875,
           -24.1884765625,
           -19.5712890625,
           -22.2939453125,
           -27.0087890625,
           -25.0478515625,
           -21.791015625,
           -23.365234375,
           -26.2353515625,
           -25.185546875,
           -23.609375,
           -24.2138671875,
           -24.439453125,
           -25.005859375,
           -25.369140625,
           -23.9990234375,
           -23.9462890625
          ],
          [
           -24.0166015625,
           -18.451171875,
           -21.4150390625,
           -22.333984375,
           -21.87109375,
           -18.5595703125,
           -20.5859375,
           -20.525390625,
           -20.79296875,
           -19.9853515625,
           -21.80859375,
           -22.1123046875,
           -22.34375,
           -20.0791015625,
           -22.240234375,
           -26.654296875,
           -24.2314453125,
           -18.4814453125,
           -22.5322265625,
           -27.8017578125,
           -25.603515625,
           -20.908203125,
           -23.51953125,
           -26.083984375,
           -26.3056640625,
           -24.3515625,
           -24.7626953125,
           -24.7998046875,
           -25.580078125,
           -26.0107421875,
           -24.7890625,
           -23.8330078125
          ],
          [
           -24.0673828125,
           -17.275390625,
           -21.1064453125,
           -21.1015625,
           -22.0068359375,
           -19.5654296875,
           -20.6953125,
           -19.357421875,
           -20.2646484375,
           -20.5400390625,
           -21.2900390625,
           -21.8623046875,
           -21.5791015625,
           -19.6552734375,
           -22.1416015625,
           -26.6279296875,
           -24.27734375,
           -17.8251953125,
           -22.08203125,
           -28.5546875,
           -26.3896484375,
           -20.4921875,
           -23.9189453125,
           -26.6220703125,
           -26.4912109375,
           -24.6171875,
           -25.0830078125,
           -24.861328125,
           -26.0859375,
           -26.4541015625,
           -25.7314453125,
           -24.240234375
          ],
          [
           -24.220703125,
           -17.30078125,
           -20.6748046875,
           -19.541015625,
           -22.048828125,
           -20.0263671875,
           -20.3984375,
           -18.7431640625,
           -21.3916015625,
           -20.9794921875,
           -21.9423828125,
           -21.5927734375,
           -20.1591796875,
           -19.6416015625,
           -22.7158203125,
           -26.5380859375,
           -23.447265625,
           -16.9560546875,
           -22.6044921875,
           -28.6357421875,
           -26.205078125,
           -21.236328125,
           -23.5654296875,
           -26.4248046875,
           -27.4208984375,
           -25.5654296875,
           -25.20703125,
           -24.4541015625,
           -26.0322265625,
           -26.8876953125,
           -26.6767578125,
           -24.4609375
          ],
          [
           -23.900390625,
           -19.1005859375,
           -20.5751953125,
           -18.1015625,
           -23.744140625,
           -21.4609375,
           -20.3955078125,
           -17.8740234375,
           -21.0205078125,
           -23.0908203125,
           -22.7783203125,
           -21.587890625,
           -20.5498046875,
           -19.830078125,
           -23.1259765625,
           -26.1337890625,
           -23.236328125,
           -18.2314453125,
           -21.9267578125,
           -28.4091796875,
           -25.9384765625,
           -20.79296875,
           -23.0849609375,
           -25.763671875,
           -28.2255859375,
           -24.7353515625,
           -25.3701171875,
           -24.689453125,
           -26.7861328125,
           -26.8291015625,
           -26.240234375,
           -24.296875
          ],
          [
           -24.2431640625,
           -20.1689453125,
           -20.84375,
           -17.98828125,
           -23.84765625,
           -23.498046875,
           -20.9716796875,
           -17.8359375,
           -22.263671875,
           -24.1982421875,
           -23.2548828125,
           -21.2021484375,
           -20.1875,
           -21.3837890625,
           -23.3916015625,
           -25.6298828125,
           -22.4267578125,
           -19.693359375,
           -23.2861328125,
           -27.685546875,
           -25.7705078125,
           -21.578125,
           -23.71875,
           -25.5205078125,
           -28.5302734375,
           -25.6611328125,
           -24.8759765625,
           -24.0927734375,
           -26.625,
           -26.693359375,
           -26.7314453125,
           -24.0166015625
          ],
          [
           -23.7841796875,
           -22.1220703125,
           -20.7216796875,
           -16.8251953125,
           -24.7529296875,
           -25.6533203125,
           -21.3583984375,
           -17.6181640625,
           -22.3623046875,
           -25.5810546875,
           -24.5546875,
           -21.2177734375,
           -20.2587890625,
           -23.681640625,
           -24.9697265625,
           -25.02734375,
           -21.9990234375,
           -20.8974609375,
           -23.2880859375,
           -26.30078125,
           -25.279296875,
           -22.5400390625,
           -23.2099609375,
           -24.509765625,
           -27.93359375,
           -25.5595703125,
           -24.73046875,
           -23.8330078125,
           -26.3271484375,
           -26.2314453125,
           -26.677734375,
           -25.0390625
          ],
          [
           -23.505859375,
           -24.185546875,
           -21.3232421875,
           -16.634765625,
           -25.0927734375,
           -26.8759765625,
           -22.5400390625,
           -18.9833984375,
           -23.0361328125,
           -27.33984375,
           -24.6044921875,
           -21.6455078125,
           -20.458984375,
           -24.8662109375,
           -24.7763671875,
           -24.1865234375,
           -21.734375,
           -21.673828125,
           -23.5625,
           -24.99609375,
           -24.66796875,
           -23.76953125,
           -23.1767578125,
           -23.9755859375,
           -27.2841796875,
           -25.224609375,
           -24.486328125,
           -24.1923828125,
           -25.912109375,
           -25.041015625,
           -27.2216796875,
           -24.0986328125
          ],
          [
           -23.8857421875,
           -25.3759765625,
           -22.015625,
           -17.5654296875,
           -26.1591796875,
           -28.55078125,
           -23.9326171875,
           -19.978515625,
           -24.3798828125,
           -27.849609375,
           -25.287109375,
           -22.021484375,
           -20.5927734375,
           -25.478515625,
           -25.138671875,
           -23.8486328125,
           -21.6689453125,
           -23.2822265625,
           -24.0732421875,
           -24.1259765625,
           -24.8330078125,
           -23.96875,
           -22.8125,
           -22.88671875,
           -26.740234375,
           -25.0634765625,
           -24.1201171875,
           -23.529296875,
           -25.55859375,
           -24.841796875,
           -25.978515625,
           -24.0830078125
          ],
          [
           -23.744140625,
           -26.6806640625,
           -22.787109375,
           -18.779296875,
           -25.7626953125,
           -28.5009765625,
           -24.19140625,
           -20.87109375,
           -24.29296875,
           -28.0947265625,
           -25.4287109375,
           -22.7734375,
           -21.9189453125,
           -25.8798828125,
           -25.57421875,
           -22.9501953125,
           -21.962890625,
           -24.3857421875,
           -23.6005859375,
           -23.4755859375,
           -23.865234375,
           -24.640625,
           -23.466796875,
           -22.6650390625,
           -26.1220703125,
           -24.3349609375,
           -24.037109375,
           -23.2919921875,
           -25.701171875,
           -24.5263671875,
           -26.10546875,
           -24.1611328125
          ],
          [
           -24.3017578125,
           -26.4462890625,
           -23.41796875,
           -20.9345703125,
           -25.841796875,
           -27.8974609375,
           -24.3046875,
           -21.82421875,
           -24.4462890625,
           -27.28515625,
           -25.115234375,
           -22.5498046875,
           -23.01953125,
           -26.1533203125,
           -25.041015625,
           -22.6630859375,
           -22.6337890625,
           -25.181640625,
           -24.5908203125,
           -22.8994140625,
           -24.08984375,
           -24.9267578125,
           -23.5966796875,
           -23.1103515625,
           -25.1162109375,
           -24.2666015625,
           -23.69921875,
           -23.6982421875,
           -24.58203125,
           -23.84765625,
           -25.185546875,
           -24.24609375
          ],
          [
           -23.57421875,
           -26.140625,
           -23.5732421875,
           -22.0576171875,
           -25.173828125,
           -27.267578125,
           -24.5830078125,
           -23.482421875,
           -25.1142578125,
           -26.1591796875,
           -24.619140625,
           -23.40234375,
           -23.3330078125,
           -25.8544921875,
           -25.2763671875,
           -22.9931640625,
           -22.990234375,
           -24.83984375,
           -24.0234375,
           -21.8662109375,
           -23.70703125,
           -24.564453125,
           -23.9970703125,
           -22.9560546875,
           -24.130859375,
           -24.501953125,
           -23.5087890625,
           -23.3310546875,
           -24.1796875,
           -23.482421875,
           -24.689453125,
           -23.927734375
          ],
          [
           -23.6650390625,
           -25.0810546875,
           -24.0810546875,
           -22.544921875,
           -24.5595703125,
           -25.4404296875,
           -24.537109375,
           -23.7861328125,
           -24.482421875,
           -25.20703125,
           -24.6787109375,
           -23.8349609375,
           -23.9306640625,
           -24.625,
           -24.333984375,
           -24.0263671875,
           -23.6357421875,
           -24.443359375,
           -23.791015625,
           -23.9765625,
           -23.7314453125,
           -24.0263671875,
           -23.708984375,
           -23.3583984375,
           -24.708984375,
           -23.8720703125,
           -23.5517578125,
           -23.779296875,
           -23.779296875,
           -23.5419921875,
           -24.255859375,
           -24.0234375
          ],
          [
           -24.126953125,
           -23.2138671875,
           -24.2197265625,
           -23.7822265625,
           -23.521484375,
           -22.9599609375,
           -23.63671875,
           -23.9296875,
           -23.7578125,
           -23.4013671875,
           -24.1826171875,
           -23.5341796875,
           -24.1982421875,
           -23.455078125,
           -23.7861328125,
           -23.9189453125,
           -24.294921875,
           -23.900390625,
           -23.5224609375,
           -24.2822265625,
           -24.380859375,
           -23.8447265625,
           -23.806640625,
           -24.1083984375,
           -23.4833984375,
           -23.8798828125,
           -23.4013671875,
           -24.0751953125,
           -24.0537109375,
           -24.30078125,
           -24.1416015625,
           -24.4365234375
          ],
          [
           -24.1630859375,
           -21.591796875,
           -23.0400390625,
           -24.763671875,
           -22.560546875,
           -20.9609375,
           -23.0205078125,
           -24.0625,
           -22.5185546875,
           -22.0927734375,
           -22.66015625,
           -23.4287109375,
           -23.2763671875,
           -23.0810546875,
           -23.212890625,
           -24.734375,
           -24.5908203125,
           -22.2578125,
           -23.2900390625,
           -25.236328125,
           -24.775390625,
           -22.927734375,
           -24.0322265625,
           -24.6328125,
           -24.296875,
           -23.8974609375,
           -23.80859375,
           -24.4931640625,
           -23.970703125,
           -24.390625,
           -23.9033203125,
           -23.9892578125
          ],
          [
           -24.1025390625,
           -19.9892578125,
           -22.98828125,
           -24.1943359375,
           -22.6103515625,
           -19.677734375,
           -22.23828125,
           -21.9580078125,
           -22.83984375,
           -20.728515625,
           -22.162109375,
           -23.2294921875,
           -23.2265625,
           -20.9072265625,
           -22.12890625,
           -25.9931640625,
           -24.349609375,
           -20.158203125,
           -22.703125,
           -26.306640625,
           -25.3251953125,
           -21.64453125,
           -23.7783203125,
           -25.26171875,
           -24.494140625,
           -23.8994140625,
           -24.7177734375,
           -24.7275390625,
           -24.0595703125,
           -24.67578125,
           -23.7705078125,
           -24.1943359375
          ],
          [
           -24.1630859375,
           -19.19921875,
           -22.2900390625,
           -23.66015625,
           -21.2734375,
           -19.1123046875,
           -21.6708984375,
           -21.611328125,
           -21.68359375,
           -20.1435546875,
           -21.7470703125,
           -22.330078125,
           -21.6982421875,
           -19.8701171875,
           -22.3193359375,
           -26.2763671875,
           -23.9443359375,
           -19.7783203125,
           -23.2978515625,
           -27.3681640625,
           -25.20703125,
           -21.0576171875,
           -24.2451171875,
           -26.7216796875,
           -25.9443359375,
           -24.5390625,
           -24.66796875,
           -24.55859375,
           -24.2568359375,
           -25.8310546875,
           -24.3291015625,
           -24.2841796875
          ],
          [
           -23.9052734375,
           -18.3056640625,
           -21.625,
           -21.9287109375,
           -21.494140625,
           -18.677734375,
           -21.0068359375,
           -20.3046875,
           -21.4892578125,
           -20.18359375,
           -22.123046875,
           -22.0888671875,
           -22.1748046875,
           -19.0224609375,
           -21.9951171875,
           -26.6787109375,
           -24.20703125,
           -17.9970703125,
           -22.3701171875,
           -28.40625,
           -26.1884765625,
           -20.7998046875,
           -23.8466796875,
           -25.67578125,
           -26.162109375,
           -25.1435546875,
           -25.2998046875,
           -24.3447265625,
           -25.302734375,
           -26.0166015625,
           -24.724609375,
           -23.7431640625
          ],
          [
           -24.2607421875,
           -17.6630859375,
           -20.775390625,
           -20.294921875,
           -22.177734375,
           -18.7958984375,
           -20.5966796875,
           -18.873046875,
           -20.8974609375,
           -20.685546875,
           -22.1298828125,
           -22.0234375,
           -21.123046875,
           -20.0712890625,
           -22.3505859375,
           -26.5087890625,
           -23.0107421875,
           -18.0478515625,
           -22.6953125,
           -28.2197265625,
           -25.98046875,
           -20.3115234375,
           -23.501953125,
           -26.416015625,
           -27.193359375,
           -25.16796875,
           -25.341796875,
           -25.119140625,
           -25.7216796875,
           -26.708984375,
           -25.958984375,
           -24.615234375
          ],
          [
           -23.7275390625,
           -18.6533203125,
           -20.2890625,
           -18.166015625,
           -22.53515625,
           -20.59765625,
           -20.837890625,
           -18.3623046875,
           -21.033203125,
           -21.3955078125,
           -22.0283203125,
           -20.95703125,
           -20.3466796875,
           -19.771484375,
           -22.220703125,
           -26.7060546875,
           -22.6953125,
           -17.759765625,
           -22.787109375,
           -27.96875,
           -25.5166015625,
           -21.0986328125,
           -24.115234375,
           -26.4921875,
           -27.986328125,
           -25.189453125,
           -25.6630859375,
           -24.9033203125,
           -25.720703125,
           -26.57421875,
           -25.65625,
           -24.1337890625
          ],
          [
           -24.25,
           -19.412109375,
           -20.2900390625,
           -17.6142578125,
           -23.318359375,
           -22.330078125,
           -21.330078125,
           -17.158203125,
           -21.0546875,
           -23.296875,
           -22.7373046875,
           -20.826171875,
           -20.71484375,
           -21.03125,
           -23.45703125,
           -26.298828125,
           -22.3291015625,
           -18.5693359375,
           -22.4306640625,
           -28.025390625,
           -25.53515625,
           -21.2666015625,
           -23.4130859375,
           -26.083984375,
           -27.9931640625,
           -24.921875,
           -25.7060546875,
           -24.3857421875,
           -26.6982421875,
           -26.7607421875,
           -26.646484375,
           -23.8857421875
          ],
          [
           -23.4169921875,
           -20.6484375,
           -20.6123046875,
           -16.9765625,
           -24.4521484375,
           -24.3037109375,
           -21.46875,
           -17.4658203125,
           -22.24609375,
           -24.8447265625,
           -23.7080078125,
           -20.623046875,
           -19.966796875,
           -22.08984375,
           -23.4482421875,
           -25.6396484375,
           -21.8544921875,
           -19.4345703125,
           -23.5673828125,
           -27.51171875,
           -25.9228515625,
           -21.759765625,
           -23.0751953125,
           -24.6416015625,
           -28.0185546875,
           -25.8828125,
           -25.291015625,
           -24.6123046875,
           -26.63671875,
           -26.86328125,
           -26.814453125,
           -24.3369140625
          ],
          [
           -24.0234375,
           -23.2841796875,
           -20.9208984375,
           -16.328125,
           -25.291015625,
           -25.7158203125,
           -21.763671875,
           -18.142578125,
           -22.7626953125,
           -25.953125,
           -24.3740234375,
           -21.666015625,
           -20.5185546875,
           -23.4033203125,
           -24.3515625,
           -24.9375,
           -22.10546875,
           -20.283203125,
           -23.736328125,
           -25.6484375,
           -24.9658203125,
           -22.8173828125,
           -23.4267578125,
           -24.625,
           -27.9501953125,
           -25.6484375,
           -25.1201171875,
           -24.341796875,
           -25.890625,
           -25.8740234375,
           -27.3017578125,
           -23.791015625
          ],
          [
           -24.369140625,
           -24.7724609375,
           -21.681640625,
           -17.5625,
           -26.1298828125,
           -27.7158203125,
           -22.654296875,
           -19.3095703125,
           -23.8154296875,
           -27.67578125,
           -24.7255859375,
           -21.6259765625,
           -21.1494140625,
           -24.5380859375,
           -24.9267578125,
           -24.3359375,
           -21.2744140625,
           -22.0283203125,
           -23.5732421875,
           -25.0712890625,
           -24.703125,
           -23.6962890625,
           -23.240234375,
           -23.9443359375,
           -27.4765625,
           -25.400390625,
           -24.1201171875,
           -24.095703125,
           -26.044921875,
           -25.5791015625,
           -27.072265625,
           -24.3720703125
          ],
          [
           -23.81640625,
           -25.998046875,
           -22.3466796875,
           -18.1005859375,
           -25.9013671875,
           -28.7587890625,
           -23.2431640625,
           -20.8134765625,
           -23.8681640625,
           -27.24609375,
           -25.1748046875,
           -22.4072265625,
           -21.5009765625,
           -25.8251953125,
           -24.8349609375,
           -23.23828125,
           -21.7666015625,
           -24.0439453125,
           -24.3544921875,
           -23.642578125,
           -24.48828125,
           -24.619140625,
           -23.083984375,
           -23.8642578125,
           -26.6884765625,
           -25.37890625,
           -24.234375,
           -23.859375,
           -25.6669921875,
           -24.892578125,
           -26.4599609375,
           -24.1298828125
          ],
          [
           -23.552734375,
           -26.3505859375,
           -22.8154296875,
           -18.966796875,
           -25.8056640625,
           -28.3056640625,
           -23.8193359375,
           -21.404296875,
           -24.451171875,
           -27.9765625,
           -25.7314453125,
           -22.943359375,
           -22.59375,
           -26.1064453125,
           -25.302734375,
           -22.90625,
           -21.830078125,
           -24.7890625,
           -24.4521484375,
           -22.931640625,
           -24.005859375,
           -24.7509765625,
           -23.447265625,
           -23.2421875,
           -25.78125,
           -24.1181640625,
           -23.8193359375,
           -23.392578125,
           -24.4453125,
           -23.91796875,
           -25.361328125,
           -24.029296875
          ],
          [
           -23.7802734375,
           -26.53125,
           -23.4453125,
           -21.0107421875,
           -25.7705078125,
           -28.1962890625,
           -23.666015625,
           -22.8291015625,
           -25.40625,
           -27.22265625,
           -25.859375,
           -22.8671875,
           -22.8486328125,
           -26.0576171875,
           -25.1123046875,
           -23.09375,
           -22.29296875,
           -25.0244140625,
           -24.4052734375,
           -23,
           -23.1767578125,
           -24.73046875,
           -23.443359375,
           -22.6142578125,
           -24.7822265625,
           -24.412109375,
           -23.4150390625,
           -23.4150390625,
           -24.396484375,
           -24.31640625,
           -25.30859375,
           -23.7646484375
          ],
          [
           -23.794921875,
           -26.2470703125,
           -23.7607421875,
           -22.158203125,
           -24.732421875,
           -26.3583984375,
           -24.0205078125,
           -22.7646484375,
           -25.1767578125,
           -26.3525390625,
           -24.595703125,
           -23.6083984375,
           -23.646484375,
           -25.849609375,
           -24.6181640625,
           -23.119140625,
           -22.36328125,
           -24.8349609375,
           -23.7978515625,
           -22.9765625,
           -23.28515625,
           -24.091796875,
           -23.6923828125,
           -23.3349609375,
           -24.203125,
           -24.1083984375,
           -24.1826171875,
           -23.3212890625,
           -23.5478515625,
           -23.796875,
           -24.2236328125,
           -23.6787109375
          ],
          [
           -24.2841796875,
           -24.712890625,
           -24.439453125,
           -23.5126953125,
           -24.4912109375,
           -24.8662109375,
           -24.435546875,
           -24.08984375,
           -23.7001953125,
           -24.7451171875,
           -23.8603515625,
           -24.091796875,
           -23.41015625,
           -24.6455078125,
           -23.875,
           -23.869140625,
           -23.5673828125,
           -23.966796875,
           -24.1474609375,
           -23.51953125,
           -24.009765625,
           -23.384765625,
           -23.5576171875,
           -23.2333984375,
           -23.8916015625,
           -23.791015625,
           -23.4423828125,
           -23.6044921875,
           -23.81640625,
           -23.8408203125,
           -23.8740234375,
           -24.068359375
          ]
         ]
        },
        {
         "hovertemplate": "x: %{x}<br>y: %{y}<br> z: %{text:.2f}<extra></extra>",
         "marker": {
          "color": "red",
          "line": {
           "width": 1
          },
          "size": 16,
          "symbol": [
           204
          ]
         },
         "mode": "markers",
         "text": [
          "-28.7587890625"
         ],
         "type": "scatter",
         "x": [
          0.5
         ],
         "y": [
          2.7
         ]
        }
       ],
       "layout": {
        "height": 700,
        "template": {
         "data": {
          "bar": [
           {
            "error_x": {
             "color": "#2a3f5f"
            },
            "error_y": {
             "color": "#2a3f5f"
            },
            "marker": {
             "line": {
              "color": "#E5ECF6",
              "width": 0.5
             },
             "pattern": {
              "fillmode": "overlay",
              "size": 10,
              "solidity": 0.2
             }
            },
            "type": "bar"
           }
          ],
          "barpolar": [
           {
            "marker": {
             "line": {
              "color": "#E5ECF6",
              "width": 0.5
             },
             "pattern": {
              "fillmode": "overlay",
              "size": 10,
              "solidity": 0.2
             }
            },
            "type": "barpolar"
           }
          ],
          "carpet": [
           {
            "aaxis": {
             "endlinecolor": "#2a3f5f",
             "gridcolor": "white",
             "linecolor": "white",
             "minorgridcolor": "white",
             "startlinecolor": "#2a3f5f"
            },
            "baxis": {
             "endlinecolor": "#2a3f5f",
             "gridcolor": "white",
             "linecolor": "white",
             "minorgridcolor": "white",
             "startlinecolor": "#2a3f5f"
            },
            "type": "carpet"
           }
          ],
          "choropleth": [
           {
            "colorbar": {
             "outlinewidth": 0,
             "ticks": ""
            },
            "type": "choropleth"
           }
          ],
          "contour": [
           {
            "colorbar": {
             "outlinewidth": 0,
             "ticks": ""
            },
            "colorscale": [
             [
              0,
              "#0d0887"
             ],
             [
              0.1111111111111111,
              "#46039f"
             ],
             [
              0.2222222222222222,
              "#7201a8"
             ],
             [
              0.3333333333333333,
              "#9c179e"
             ],
             [
              0.4444444444444444,
              "#bd3786"
             ],
             [
              0.5555555555555556,
              "#d8576b"
             ],
             [
              0.6666666666666666,
              "#ed7953"
             ],
             [
              0.7777777777777778,
              "#fb9f3a"
             ],
             [
              0.8888888888888888,
              "#fdca26"
             ],
             [
              1,
              "#f0f921"
             ]
            ],
            "type": "contour"
           }
          ],
          "contourcarpet": [
           {
            "colorbar": {
             "outlinewidth": 0,
             "ticks": ""
            },
            "type": "contourcarpet"
           }
          ],
          "heatmap": [
           {
            "colorbar": {
             "outlinewidth": 0,
             "ticks": ""
            },
            "colorscale": [
             [
              0,
              "#0d0887"
             ],
             [
              0.1111111111111111,
              "#46039f"
             ],
             [
              0.2222222222222222,
              "#7201a8"
             ],
             [
              0.3333333333333333,
              "#9c179e"
             ],
             [
              0.4444444444444444,
              "#bd3786"
             ],
             [
              0.5555555555555556,
              "#d8576b"
             ],
             [
              0.6666666666666666,
              "#ed7953"
             ],
             [
              0.7777777777777778,
              "#fb9f3a"
             ],
             [
              0.8888888888888888,
              "#fdca26"
             ],
             [
              1,
              "#f0f921"
             ]
            ],
            "type": "heatmap"
           }
          ],
          "heatmapgl": [
           {
            "colorbar": {
             "outlinewidth": 0,
             "ticks": ""
            },
            "colorscale": [
             [
              0,
              "#0d0887"
             ],
             [
              0.1111111111111111,
              "#46039f"
             ],
             [
              0.2222222222222222,
              "#7201a8"
             ],
             [
              0.3333333333333333,
              "#9c179e"
             ],
             [
              0.4444444444444444,
              "#bd3786"
             ],
             [
              0.5555555555555556,
              "#d8576b"
             ],
             [
              0.6666666666666666,
              "#ed7953"
             ],
             [
              0.7777777777777778,
              "#fb9f3a"
             ],
             [
              0.8888888888888888,
              "#fdca26"
             ],
             [
              1,
              "#f0f921"
             ]
            ],
            "type": "heatmapgl"
           }
          ],
          "histogram": [
           {
            "marker": {
             "pattern": {
              "fillmode": "overlay",
              "size": 10,
              "solidity": 0.2
             }
            },
            "type": "histogram"
           }
          ],
          "histogram2d": [
           {
            "colorbar": {
             "outlinewidth": 0,
             "ticks": ""
            },
            "colorscale": [
             [
              0,
              "#0d0887"
             ],
             [
              0.1111111111111111,
              "#46039f"
             ],
             [
              0.2222222222222222,
              "#7201a8"
             ],
             [
              0.3333333333333333,
              "#9c179e"
             ],
             [
              0.4444444444444444,
              "#bd3786"
             ],
             [
              0.5555555555555556,
              "#d8576b"
             ],
             [
              0.6666666666666666,
              "#ed7953"
             ],
             [
              0.7777777777777778,
              "#fb9f3a"
             ],
             [
              0.8888888888888888,
              "#fdca26"
             ],
             [
              1,
              "#f0f921"
             ]
            ],
            "type": "histogram2d"
           }
          ],
          "histogram2dcontour": [
           {
            "colorbar": {
             "outlinewidth": 0,
             "ticks": ""
            },
            "colorscale": [
             [
              0,
              "#0d0887"
             ],
             [
              0.1111111111111111,
              "#46039f"
             ],
             [
              0.2222222222222222,
              "#7201a8"
             ],
             [
              0.3333333333333333,
              "#9c179e"
             ],
             [
              0.4444444444444444,
              "#bd3786"
             ],
             [
              0.5555555555555556,
              "#d8576b"
             ],
             [
              0.6666666666666666,
              "#ed7953"
             ],
             [
              0.7777777777777778,
              "#fb9f3a"
             ],
             [
              0.8888888888888888,
              "#fdca26"
             ],
             [
              1,
              "#f0f921"
             ]
            ],
            "type": "histogram2dcontour"
           }
          ],
          "mesh3d": [
           {
            "colorbar": {
             "outlinewidth": 0,
             "ticks": ""
            },
            "type": "mesh3d"
           }
          ],
          "parcoords": [
           {
            "line": {
             "colorbar": {
              "outlinewidth": 0,
              "ticks": ""
             }
            },
            "type": "parcoords"
           }
          ],
          "pie": [
           {
            "automargin": true,
            "type": "pie"
           }
          ],
          "scatter": [
           {
            "marker": {
             "colorbar": {
              "outlinewidth": 0,
              "ticks": ""
             }
            },
            "type": "scatter"
           }
          ],
          "scatter3d": [
           {
            "line": {
             "colorbar": {
              "outlinewidth": 0,
              "ticks": ""
             }
            },
            "marker": {
             "colorbar": {
              "outlinewidth": 0,
              "ticks": ""
             }
            },
            "type": "scatter3d"
           }
          ],
          "scattercarpet": [
           {
            "marker": {
             "colorbar": {
              "outlinewidth": 0,
              "ticks": ""
             }
            },
            "type": "scattercarpet"
           }
          ],
          "scattergeo": [
           {
            "marker": {
             "colorbar": {
              "outlinewidth": 0,
              "ticks": ""
             }
            },
            "type": "scattergeo"
           }
          ],
          "scattergl": [
           {
            "marker": {
             "colorbar": {
              "outlinewidth": 0,
              "ticks": ""
             }
            },
            "type": "scattergl"
           }
          ],
          "scattermapbox": [
           {
            "marker": {
             "colorbar": {
              "outlinewidth": 0,
              "ticks": ""
             }
            },
            "type": "scattermapbox"
           }
          ],
          "scatterpolar": [
           {
            "marker": {
             "colorbar": {
              "outlinewidth": 0,
              "ticks": ""
             }
            },
            "type": "scatterpolar"
           }
          ],
          "scatterpolargl": [
           {
            "marker": {
             "colorbar": {
              "outlinewidth": 0,
              "ticks": ""
             }
            },
            "type": "scatterpolargl"
           }
          ],
          "scatterternary": [
           {
            "marker": {
             "colorbar": {
              "outlinewidth": 0,
              "ticks": ""
             }
            },
            "type": "scatterternary"
           }
          ],
          "surface": [
           {
            "colorbar": {
             "outlinewidth": 0,
             "ticks": ""
            },
            "colorscale": [
             [
              0,
              "#0d0887"
             ],
             [
              0.1111111111111111,
              "#46039f"
             ],
             [
              0.2222222222222222,
              "#7201a8"
             ],
             [
              0.3333333333333333,
              "#9c179e"
             ],
             [
              0.4444444444444444,
              "#bd3786"
             ],
             [
              0.5555555555555556,
              "#d8576b"
             ],
             [
              0.6666666666666666,
              "#ed7953"
             ],
             [
              0.7777777777777778,
              "#fb9f3a"
             ],
             [
              0.8888888888888888,
              "#fdca26"
             ],
             [
              1,
              "#f0f921"
             ]
            ],
            "type": "surface"
           }
          ],
          "table": [
           {
            "cells": {
             "fill": {
              "color": "#EBF0F8"
             },
             "line": {
              "color": "white"
             }
            },
            "header": {
             "fill": {
              "color": "#C8D4E3"
             },
             "line": {
              "color": "white"
             }
            },
            "type": "table"
           }
          ]
         },
         "layout": {
          "annotationdefaults": {
           "arrowcolor": "#2a3f5f",
           "arrowhead": 0,
           "arrowwidth": 1
          },
          "autotypenumbers": "strict",
          "coloraxis": {
           "colorbar": {
            "outlinewidth": 0,
            "ticks": ""
           }
          },
          "colorscale": {
           "diverging": [
            [
             0,
             "#8e0152"
            ],
            [
             0.1,
             "#c51b7d"
            ],
            [
             0.2,
             "#de77ae"
            ],
            [
             0.3,
             "#f1b6da"
            ],
            [
             0.4,
             "#fde0ef"
            ],
            [
             0.5,
             "#f7f7f7"
            ],
            [
             0.6,
             "#e6f5d0"
            ],
            [
             0.7,
             "#b8e186"
            ],
            [
             0.8,
             "#7fbc41"
            ],
            [
             0.9,
             "#4d9221"
            ],
            [
             1,
             "#276419"
            ]
           ],
           "sequential": [
            [
             0,
             "#0d0887"
            ],
            [
             0.1111111111111111,
             "#46039f"
            ],
            [
             0.2222222222222222,
             "#7201a8"
            ],
            [
             0.3333333333333333,
             "#9c179e"
            ],
            [
             0.4444444444444444,
             "#bd3786"
            ],
            [
             0.5555555555555556,
             "#d8576b"
            ],
            [
             0.6666666666666666,
             "#ed7953"
            ],
            [
             0.7777777777777778,
             "#fb9f3a"
            ],
            [
             0.8888888888888888,
             "#fdca26"
            ],
            [
             1,
             "#f0f921"
            ]
           ],
           "sequentialminus": [
            [
             0,
             "#0d0887"
            ],
            [
             0.1111111111111111,
             "#46039f"
            ],
            [
             0.2222222222222222,
             "#7201a8"
            ],
            [
             0.3333333333333333,
             "#9c179e"
            ],
            [
             0.4444444444444444,
             "#bd3786"
            ],
            [
             0.5555555555555556,
             "#d8576b"
            ],
            [
             0.6666666666666666,
             "#ed7953"
            ],
            [
             0.7777777777777778,
             "#fb9f3a"
            ],
            [
             0.8888888888888888,
             "#fdca26"
            ],
            [
             1,
             "#f0f921"
            ]
           ]
          },
          "colorway": [
           "#636efa",
           "#EF553B",
           "#00cc96",
           "#ab63fa",
           "#FFA15A",
           "#19d3f3",
           "#FF6692",
           "#B6E880",
           "#FF97FF",
           "#FECB52"
          ],
          "font": {
           "color": "#2a3f5f"
          },
          "geo": {
           "bgcolor": "white",
           "lakecolor": "white",
           "landcolor": "#E5ECF6",
           "showlakes": true,
           "showland": true,
           "subunitcolor": "white"
          },
          "hoverlabel": {
           "align": "left"
          },
          "hovermode": "closest",
          "mapbox": {
           "style": "light"
          },
          "paper_bgcolor": "white",
          "plot_bgcolor": "#E5ECF6",
          "polar": {
           "angularaxis": {
            "gridcolor": "white",
            "linecolor": "white",
            "ticks": ""
           },
           "bgcolor": "#E5ECF6",
           "radialaxis": {
            "gridcolor": "white",
            "linecolor": "white",
            "ticks": ""
           }
          },
          "scene": {
           "xaxis": {
            "backgroundcolor": "#E5ECF6",
            "gridcolor": "white",
            "gridwidth": 2,
            "linecolor": "white",
            "showbackground": true,
            "ticks": "",
            "zerolinecolor": "white"
           },
           "yaxis": {
            "backgroundcolor": "#E5ECF6",
            "gridcolor": "white",
            "gridwidth": 2,
            "linecolor": "white",
            "showbackground": true,
            "ticks": "",
            "zerolinecolor": "white"
           },
           "zaxis": {
            "backgroundcolor": "#E5ECF6",
            "gridcolor": "white",
            "gridwidth": 2,
            "linecolor": "white",
            "showbackground": true,
            "ticks": "",
            "zerolinecolor": "white"
           }
          },
          "shapedefaults": {
           "line": {
            "color": "#2a3f5f"
           }
          },
          "ternary": {
           "aaxis": {
            "gridcolor": "white",
            "linecolor": "white",
            "ticks": ""
           },
           "baxis": {
            "gridcolor": "white",
            "linecolor": "white",
            "ticks": ""
           },
           "bgcolor": "#E5ECF6",
           "caxis": {
            "gridcolor": "white",
            "linecolor": "white",
            "ticks": ""
           }
          },
          "title": {
           "x": 0.05
          },
          "xaxis": {
           "automargin": true,
           "gridcolor": "white",
           "linecolor": "white",
           "ticks": "",
           "title": {
            "standoff": 15
           },
           "zerolinecolor": "white",
           "zerolinewidth": 2
          },
          "yaxis": {
           "automargin": true,
           "gridcolor": "white",
           "linecolor": "white",
           "ticks": "",
           "title": {
            "standoff": 15
           },
           "zerolinecolor": "white",
           "zerolinewidth": 2
          }
         }
        },
        "title": {
         "text": "F(γ,β)"
        },
        "width": 700,
        "xaxis": {
         "title": {
          "text": "γ"
         }
        },
        "yaxis": {
         "title": {
          "text": "β"
         }
        }
       }
      },
      "text/html": [
       "<div>                            <div id=\"2c4a7c6e-1787-41f9-98f6-3b6bae68b4f0\" class=\"plotly-graph-div\" style=\"height:700px; width:700px;\"></div>            <script type=\"text/javascript\">                require([\"plotly\"], function(Plotly) {                    window.PLOTLYENV=window.PLOTLYENV || {};                                    if (document.getElementById(\"2c4a7c6e-1787-41f9-98f6-3b6bae68b4f0\")) {                    Plotly.newPlot(                        \"2c4a7c6e-1787-41f9-98f6-3b6bae68b4f0\",                        [{\"colorscale\":[[0.0,\"#440154\"],[0.1111111111111111,\"#482878\"],[0.2222222222222222,\"#3e4989\"],[0.3333333333333333,\"#31688e\"],[0.4444444444444444,\"#26828e\"],[0.5555555555555556,\"#1f9e89\"],[0.6666666666666666,\"#35b779\"],[0.7777777777777778,\"#6ece58\"],[0.8888888888888888,\"#b5de2b\"],[1.0,\"#fde725\"]],\"type\":\"heatmap\",\"x\":[0.0,0.1,0.2,0.30000000000000004,0.4,0.5,0.6000000000000001,0.7000000000000001,0.8,0.9,1.0,1.1,1.2000000000000002,1.3,1.4000000000000001,1.5,1.6,1.7000000000000002,1.8,1.9000000000000001,2.0,2.1,2.2,2.3000000000000003,2.4000000000000004,2.5,2.6,2.7,2.8000000000000003,2.9000000000000004,3.0,3.1],\"y\":[0.0,0.1,0.2,0.30000000000000004,0.4,0.5,0.6000000000000001,0.7000000000000001,0.8,0.9,1.0,1.1,1.2000000000000002,1.3,1.4000000000000001,1.5,1.6,1.7000000000000002,1.8,1.9000000000000001,2.0,2.1,2.2,2.3000000000000003,2.4000000000000004,2.5,2.6,2.7,2.8000000000000003,2.9000000000000004,3.0,3.1],\"z\":[[-24.2880859375,-24.1162109375,-23.3837890625,-23.923828125,-23.7431640625,-23.8173828125,-23.14453125,-23.8115234375,-24.09765625,-23.5283203125,-23.1669921875,-23.46875,-23.59765625,-23.734375,-23.919921875,-23.955078125,-23.3544921875,-23.916015625,-23.7431640625,-24.8779296875,-23.419921875,-23.7509765625,-23.826171875,-23.20703125,-23.607421875,-23.8828125,-23.333984375,-24.1875,-23.9853515625,-24.138671875,-23.8271484375,-23.650390625],[-24.09765625,-21.677734375,-22.9013671875,-24.546875,-22.8056640625,-22.2490234375,-22.556640625,-23.3564453125,-23.21484375,-22.357421875,-23.0419921875,-23.927734375,-23.80078125,-22.31640625,-22.865234375,-24.263671875,-23.927734375,-22.7412109375,-23.5810546875,-24.9873046875,-23.697265625,-23.1328125,-23.919921875,-24.5927734375,-23.98046875,-24.0673828125,-23.5615234375,-24.2421875,-24.142578125,-23.8359375,-23.80859375,-23.361328125],[-24.0283203125,-19.7880859375,-22.5,-23.986328125,-21.654296875,-20.099609375,-22.4794921875,-23.0732421875,-22.25,-21.5419921875,-22.4384765625,-22.6826171875,-23.685546875,-20.8671875,-22.2021484375,-24.927734375,-24.701171875,-20.37890625,-23.54296875,-25.8017578125,-24.798828125,-22.3740234375,-24.21875,-25.2041015625,-24.6767578125,-23.4873046875,-24.1474609375,-23.73828125,-23.85546875,-25.38671875,-24.0205078125,-23.44921875],[-24.328125,-18.9990234375,-22.3896484375,-23.7548828125,-21.0966796875,-18.40234375,-21.4267578125,-21.7119140625,-21.189453125,-20.0908203125,-22.1669921875,-22.583984375,-23.0693359375,-20.3447265625,-22.2744140625,-25.5498046875,-24.1884765625,-19.5712890625,-22.2939453125,-27.0087890625,-25.0478515625,-21.791015625,-23.365234375,-26.2353515625,-25.185546875,-23.609375,-24.2138671875,-24.439453125,-25.005859375,-25.369140625,-23.9990234375,-23.9462890625],[-24.0166015625,-18.451171875,-21.4150390625,-22.333984375,-21.87109375,-18.5595703125,-20.5859375,-20.525390625,-20.79296875,-19.9853515625,-21.80859375,-22.1123046875,-22.34375,-20.0791015625,-22.240234375,-26.654296875,-24.2314453125,-18.4814453125,-22.5322265625,-27.8017578125,-25.603515625,-20.908203125,-23.51953125,-26.083984375,-26.3056640625,-24.3515625,-24.7626953125,-24.7998046875,-25.580078125,-26.0107421875,-24.7890625,-23.8330078125],[-24.0673828125,-17.275390625,-21.1064453125,-21.1015625,-22.0068359375,-19.5654296875,-20.6953125,-19.357421875,-20.2646484375,-20.5400390625,-21.2900390625,-21.8623046875,-21.5791015625,-19.6552734375,-22.1416015625,-26.6279296875,-24.27734375,-17.8251953125,-22.08203125,-28.5546875,-26.3896484375,-20.4921875,-23.9189453125,-26.6220703125,-26.4912109375,-24.6171875,-25.0830078125,-24.861328125,-26.0859375,-26.4541015625,-25.7314453125,-24.240234375],[-24.220703125,-17.30078125,-20.6748046875,-19.541015625,-22.048828125,-20.0263671875,-20.3984375,-18.7431640625,-21.3916015625,-20.9794921875,-21.9423828125,-21.5927734375,-20.1591796875,-19.6416015625,-22.7158203125,-26.5380859375,-23.447265625,-16.9560546875,-22.6044921875,-28.6357421875,-26.205078125,-21.236328125,-23.5654296875,-26.4248046875,-27.4208984375,-25.5654296875,-25.20703125,-24.4541015625,-26.0322265625,-26.8876953125,-26.6767578125,-24.4609375],[-23.900390625,-19.1005859375,-20.5751953125,-18.1015625,-23.744140625,-21.4609375,-20.3955078125,-17.8740234375,-21.0205078125,-23.0908203125,-22.7783203125,-21.587890625,-20.5498046875,-19.830078125,-23.1259765625,-26.1337890625,-23.236328125,-18.2314453125,-21.9267578125,-28.4091796875,-25.9384765625,-20.79296875,-23.0849609375,-25.763671875,-28.2255859375,-24.7353515625,-25.3701171875,-24.689453125,-26.7861328125,-26.8291015625,-26.240234375,-24.296875],[-24.2431640625,-20.1689453125,-20.84375,-17.98828125,-23.84765625,-23.498046875,-20.9716796875,-17.8359375,-22.263671875,-24.1982421875,-23.2548828125,-21.2021484375,-20.1875,-21.3837890625,-23.3916015625,-25.6298828125,-22.4267578125,-19.693359375,-23.2861328125,-27.685546875,-25.7705078125,-21.578125,-23.71875,-25.5205078125,-28.5302734375,-25.6611328125,-24.8759765625,-24.0927734375,-26.625,-26.693359375,-26.7314453125,-24.0166015625],[-23.7841796875,-22.1220703125,-20.7216796875,-16.8251953125,-24.7529296875,-25.6533203125,-21.3583984375,-17.6181640625,-22.3623046875,-25.5810546875,-24.5546875,-21.2177734375,-20.2587890625,-23.681640625,-24.9697265625,-25.02734375,-21.9990234375,-20.8974609375,-23.2880859375,-26.30078125,-25.279296875,-22.5400390625,-23.2099609375,-24.509765625,-27.93359375,-25.5595703125,-24.73046875,-23.8330078125,-26.3271484375,-26.2314453125,-26.677734375,-25.0390625],[-23.505859375,-24.185546875,-21.3232421875,-16.634765625,-25.0927734375,-26.8759765625,-22.5400390625,-18.9833984375,-23.0361328125,-27.33984375,-24.6044921875,-21.6455078125,-20.458984375,-24.8662109375,-24.7763671875,-24.1865234375,-21.734375,-21.673828125,-23.5625,-24.99609375,-24.66796875,-23.76953125,-23.1767578125,-23.9755859375,-27.2841796875,-25.224609375,-24.486328125,-24.1923828125,-25.912109375,-25.041015625,-27.2216796875,-24.0986328125],[-23.8857421875,-25.3759765625,-22.015625,-17.5654296875,-26.1591796875,-28.55078125,-23.9326171875,-19.978515625,-24.3798828125,-27.849609375,-25.287109375,-22.021484375,-20.5927734375,-25.478515625,-25.138671875,-23.8486328125,-21.6689453125,-23.2822265625,-24.0732421875,-24.1259765625,-24.8330078125,-23.96875,-22.8125,-22.88671875,-26.740234375,-25.0634765625,-24.1201171875,-23.529296875,-25.55859375,-24.841796875,-25.978515625,-24.0830078125],[-23.744140625,-26.6806640625,-22.787109375,-18.779296875,-25.7626953125,-28.5009765625,-24.19140625,-20.87109375,-24.29296875,-28.0947265625,-25.4287109375,-22.7734375,-21.9189453125,-25.8798828125,-25.57421875,-22.9501953125,-21.962890625,-24.3857421875,-23.6005859375,-23.4755859375,-23.865234375,-24.640625,-23.466796875,-22.6650390625,-26.1220703125,-24.3349609375,-24.037109375,-23.2919921875,-25.701171875,-24.5263671875,-26.10546875,-24.1611328125],[-24.3017578125,-26.4462890625,-23.41796875,-20.9345703125,-25.841796875,-27.8974609375,-24.3046875,-21.82421875,-24.4462890625,-27.28515625,-25.115234375,-22.5498046875,-23.01953125,-26.1533203125,-25.041015625,-22.6630859375,-22.6337890625,-25.181640625,-24.5908203125,-22.8994140625,-24.08984375,-24.9267578125,-23.5966796875,-23.1103515625,-25.1162109375,-24.2666015625,-23.69921875,-23.6982421875,-24.58203125,-23.84765625,-25.185546875,-24.24609375],[-23.57421875,-26.140625,-23.5732421875,-22.0576171875,-25.173828125,-27.267578125,-24.5830078125,-23.482421875,-25.1142578125,-26.1591796875,-24.619140625,-23.40234375,-23.3330078125,-25.8544921875,-25.2763671875,-22.9931640625,-22.990234375,-24.83984375,-24.0234375,-21.8662109375,-23.70703125,-24.564453125,-23.9970703125,-22.9560546875,-24.130859375,-24.501953125,-23.5087890625,-23.3310546875,-24.1796875,-23.482421875,-24.689453125,-23.927734375],[-23.6650390625,-25.0810546875,-24.0810546875,-22.544921875,-24.5595703125,-25.4404296875,-24.537109375,-23.7861328125,-24.482421875,-25.20703125,-24.6787109375,-23.8349609375,-23.9306640625,-24.625,-24.333984375,-24.0263671875,-23.6357421875,-24.443359375,-23.791015625,-23.9765625,-23.7314453125,-24.0263671875,-23.708984375,-23.3583984375,-24.708984375,-23.8720703125,-23.5517578125,-23.779296875,-23.779296875,-23.5419921875,-24.255859375,-24.0234375],[-24.126953125,-23.2138671875,-24.2197265625,-23.7822265625,-23.521484375,-22.9599609375,-23.63671875,-23.9296875,-23.7578125,-23.4013671875,-24.1826171875,-23.5341796875,-24.1982421875,-23.455078125,-23.7861328125,-23.9189453125,-24.294921875,-23.900390625,-23.5224609375,-24.2822265625,-24.380859375,-23.8447265625,-23.806640625,-24.1083984375,-23.4833984375,-23.8798828125,-23.4013671875,-24.0751953125,-24.0537109375,-24.30078125,-24.1416015625,-24.4365234375],[-24.1630859375,-21.591796875,-23.0400390625,-24.763671875,-22.560546875,-20.9609375,-23.0205078125,-24.0625,-22.5185546875,-22.0927734375,-22.66015625,-23.4287109375,-23.2763671875,-23.0810546875,-23.212890625,-24.734375,-24.5908203125,-22.2578125,-23.2900390625,-25.236328125,-24.775390625,-22.927734375,-24.0322265625,-24.6328125,-24.296875,-23.8974609375,-23.80859375,-24.4931640625,-23.970703125,-24.390625,-23.9033203125,-23.9892578125],[-24.1025390625,-19.9892578125,-22.98828125,-24.1943359375,-22.6103515625,-19.677734375,-22.23828125,-21.9580078125,-22.83984375,-20.728515625,-22.162109375,-23.2294921875,-23.2265625,-20.9072265625,-22.12890625,-25.9931640625,-24.349609375,-20.158203125,-22.703125,-26.306640625,-25.3251953125,-21.64453125,-23.7783203125,-25.26171875,-24.494140625,-23.8994140625,-24.7177734375,-24.7275390625,-24.0595703125,-24.67578125,-23.7705078125,-24.1943359375],[-24.1630859375,-19.19921875,-22.2900390625,-23.66015625,-21.2734375,-19.1123046875,-21.6708984375,-21.611328125,-21.68359375,-20.1435546875,-21.7470703125,-22.330078125,-21.6982421875,-19.8701171875,-22.3193359375,-26.2763671875,-23.9443359375,-19.7783203125,-23.2978515625,-27.3681640625,-25.20703125,-21.0576171875,-24.2451171875,-26.7216796875,-25.9443359375,-24.5390625,-24.66796875,-24.55859375,-24.2568359375,-25.8310546875,-24.3291015625,-24.2841796875],[-23.9052734375,-18.3056640625,-21.625,-21.9287109375,-21.494140625,-18.677734375,-21.0068359375,-20.3046875,-21.4892578125,-20.18359375,-22.123046875,-22.0888671875,-22.1748046875,-19.0224609375,-21.9951171875,-26.6787109375,-24.20703125,-17.9970703125,-22.3701171875,-28.40625,-26.1884765625,-20.7998046875,-23.8466796875,-25.67578125,-26.162109375,-25.1435546875,-25.2998046875,-24.3447265625,-25.302734375,-26.0166015625,-24.724609375,-23.7431640625],[-24.2607421875,-17.6630859375,-20.775390625,-20.294921875,-22.177734375,-18.7958984375,-20.5966796875,-18.873046875,-20.8974609375,-20.685546875,-22.1298828125,-22.0234375,-21.123046875,-20.0712890625,-22.3505859375,-26.5087890625,-23.0107421875,-18.0478515625,-22.6953125,-28.2197265625,-25.98046875,-20.3115234375,-23.501953125,-26.416015625,-27.193359375,-25.16796875,-25.341796875,-25.119140625,-25.7216796875,-26.708984375,-25.958984375,-24.615234375],[-23.7275390625,-18.6533203125,-20.2890625,-18.166015625,-22.53515625,-20.59765625,-20.837890625,-18.3623046875,-21.033203125,-21.3955078125,-22.0283203125,-20.95703125,-20.3466796875,-19.771484375,-22.220703125,-26.7060546875,-22.6953125,-17.759765625,-22.787109375,-27.96875,-25.5166015625,-21.0986328125,-24.115234375,-26.4921875,-27.986328125,-25.189453125,-25.6630859375,-24.9033203125,-25.720703125,-26.57421875,-25.65625,-24.1337890625],[-24.25,-19.412109375,-20.2900390625,-17.6142578125,-23.318359375,-22.330078125,-21.330078125,-17.158203125,-21.0546875,-23.296875,-22.7373046875,-20.826171875,-20.71484375,-21.03125,-23.45703125,-26.298828125,-22.3291015625,-18.5693359375,-22.4306640625,-28.025390625,-25.53515625,-21.2666015625,-23.4130859375,-26.083984375,-27.9931640625,-24.921875,-25.7060546875,-24.3857421875,-26.6982421875,-26.7607421875,-26.646484375,-23.8857421875],[-23.4169921875,-20.6484375,-20.6123046875,-16.9765625,-24.4521484375,-24.3037109375,-21.46875,-17.4658203125,-22.24609375,-24.8447265625,-23.7080078125,-20.623046875,-19.966796875,-22.08984375,-23.4482421875,-25.6396484375,-21.8544921875,-19.4345703125,-23.5673828125,-27.51171875,-25.9228515625,-21.759765625,-23.0751953125,-24.6416015625,-28.0185546875,-25.8828125,-25.291015625,-24.6123046875,-26.63671875,-26.86328125,-26.814453125,-24.3369140625],[-24.0234375,-23.2841796875,-20.9208984375,-16.328125,-25.291015625,-25.7158203125,-21.763671875,-18.142578125,-22.7626953125,-25.953125,-24.3740234375,-21.666015625,-20.5185546875,-23.4033203125,-24.3515625,-24.9375,-22.10546875,-20.283203125,-23.736328125,-25.6484375,-24.9658203125,-22.8173828125,-23.4267578125,-24.625,-27.9501953125,-25.6484375,-25.1201171875,-24.341796875,-25.890625,-25.8740234375,-27.3017578125,-23.791015625],[-24.369140625,-24.7724609375,-21.681640625,-17.5625,-26.1298828125,-27.7158203125,-22.654296875,-19.3095703125,-23.8154296875,-27.67578125,-24.7255859375,-21.6259765625,-21.1494140625,-24.5380859375,-24.9267578125,-24.3359375,-21.2744140625,-22.0283203125,-23.5732421875,-25.0712890625,-24.703125,-23.6962890625,-23.240234375,-23.9443359375,-27.4765625,-25.400390625,-24.1201171875,-24.095703125,-26.044921875,-25.5791015625,-27.072265625,-24.3720703125],[-23.81640625,-25.998046875,-22.3466796875,-18.1005859375,-25.9013671875,-28.7587890625,-23.2431640625,-20.8134765625,-23.8681640625,-27.24609375,-25.1748046875,-22.4072265625,-21.5009765625,-25.8251953125,-24.8349609375,-23.23828125,-21.7666015625,-24.0439453125,-24.3544921875,-23.642578125,-24.48828125,-24.619140625,-23.083984375,-23.8642578125,-26.6884765625,-25.37890625,-24.234375,-23.859375,-25.6669921875,-24.892578125,-26.4599609375,-24.1298828125],[-23.552734375,-26.3505859375,-22.8154296875,-18.966796875,-25.8056640625,-28.3056640625,-23.8193359375,-21.404296875,-24.451171875,-27.9765625,-25.7314453125,-22.943359375,-22.59375,-26.1064453125,-25.302734375,-22.90625,-21.830078125,-24.7890625,-24.4521484375,-22.931640625,-24.005859375,-24.7509765625,-23.447265625,-23.2421875,-25.78125,-24.1181640625,-23.8193359375,-23.392578125,-24.4453125,-23.91796875,-25.361328125,-24.029296875],[-23.7802734375,-26.53125,-23.4453125,-21.0107421875,-25.7705078125,-28.1962890625,-23.666015625,-22.8291015625,-25.40625,-27.22265625,-25.859375,-22.8671875,-22.8486328125,-26.0576171875,-25.1123046875,-23.09375,-22.29296875,-25.0244140625,-24.4052734375,-23.0,-23.1767578125,-24.73046875,-23.443359375,-22.6142578125,-24.7822265625,-24.412109375,-23.4150390625,-23.4150390625,-24.396484375,-24.31640625,-25.30859375,-23.7646484375],[-23.794921875,-26.2470703125,-23.7607421875,-22.158203125,-24.732421875,-26.3583984375,-24.0205078125,-22.7646484375,-25.1767578125,-26.3525390625,-24.595703125,-23.6083984375,-23.646484375,-25.849609375,-24.6181640625,-23.119140625,-22.36328125,-24.8349609375,-23.7978515625,-22.9765625,-23.28515625,-24.091796875,-23.6923828125,-23.3349609375,-24.203125,-24.1083984375,-24.1826171875,-23.3212890625,-23.5478515625,-23.796875,-24.2236328125,-23.6787109375],[-24.2841796875,-24.712890625,-24.439453125,-23.5126953125,-24.4912109375,-24.8662109375,-24.435546875,-24.08984375,-23.7001953125,-24.7451171875,-23.8603515625,-24.091796875,-23.41015625,-24.6455078125,-23.875,-23.869140625,-23.5673828125,-23.966796875,-24.1474609375,-23.51953125,-24.009765625,-23.384765625,-23.5576171875,-23.2333984375,-23.8916015625,-23.791015625,-23.4423828125,-23.6044921875,-23.81640625,-23.8408203125,-23.8740234375,-24.068359375]]},{\"hovertemplate\":\"x: %{x}<br>y: %{y}<br> z: %{text:.2f}<extra></extra>\",\"marker\":{\"color\":\"red\",\"line\":{\"width\":1},\"size\":16,\"symbol\":[204]},\"mode\":\"markers\",\"text\":[\"-28.7587890625\"],\"type\":\"scatter\",\"x\":[0.5],\"y\":[2.7]}],                        {\"height\":700,\"template\":{\"data\":{\"bar\":[{\"error_x\":{\"color\":\"#2a3f5f\"},\"error_y\":{\"color\":\"#2a3f5f\"},\"marker\":{\"line\":{\"color\":\"#E5ECF6\",\"width\":0.5},\"pattern\":{\"fillmode\":\"overlay\",\"size\":10,\"solidity\":0.2}},\"type\":\"bar\"}],\"barpolar\":[{\"marker\":{\"line\":{\"color\":\"#E5ECF6\",\"width\":0.5},\"pattern\":{\"fillmode\":\"overlay\",\"size\":10,\"solidity\":0.2}},\"type\":\"barpolar\"}],\"carpet\":[{\"aaxis\":{\"endlinecolor\":\"#2a3f5f\",\"gridcolor\":\"white\",\"linecolor\":\"white\",\"minorgridcolor\":\"white\",\"startlinecolor\":\"#2a3f5f\"},\"baxis\":{\"endlinecolor\":\"#2a3f5f\",\"gridcolor\":\"white\",\"linecolor\":\"white\",\"minorgridcolor\":\"white\",\"startlinecolor\":\"#2a3f5f\"},\"type\":\"carpet\"}],\"choropleth\":[{\"colorbar\":{\"outlinewidth\":0,\"ticks\":\"\"},\"type\":\"choropleth\"}],\"contour\":[{\"colorbar\":{\"outlinewidth\":0,\"ticks\":\"\"},\"colorscale\":[[0.0,\"#0d0887\"],[0.1111111111111111,\"#46039f\"],[0.2222222222222222,\"#7201a8\"],[0.3333333333333333,\"#9c179e\"],[0.4444444444444444,\"#bd3786\"],[0.5555555555555556,\"#d8576b\"],[0.6666666666666666,\"#ed7953\"],[0.7777777777777778,\"#fb9f3a\"],[0.8888888888888888,\"#fdca26\"],[1.0,\"#f0f921\"]],\"type\":\"contour\"}],\"contourcarpet\":[{\"colorbar\":{\"outlinewidth\":0,\"ticks\":\"\"},\"type\":\"contourcarpet\"}],\"heatmap\":[{\"colorbar\":{\"outlinewidth\":0,\"ticks\":\"\"},\"colorscale\":[[0.0,\"#0d0887\"],[0.1111111111111111,\"#46039f\"],[0.2222222222222222,\"#7201a8\"],[0.3333333333333333,\"#9c179e\"],[0.4444444444444444,\"#bd3786\"],[0.5555555555555556,\"#d8576b\"],[0.6666666666666666,\"#ed7953\"],[0.7777777777777778,\"#fb9f3a\"],[0.8888888888888888,\"#fdca26\"],[1.0,\"#f0f921\"]],\"type\":\"heatmap\"}],\"heatmapgl\":[{\"colorbar\":{\"outlinewidth\":0,\"ticks\":\"\"},\"colorscale\":[[0.0,\"#0d0887\"],[0.1111111111111111,\"#46039f\"],[0.2222222222222222,\"#7201a8\"],[0.3333333333333333,\"#9c179e\"],[0.4444444444444444,\"#bd3786\"],[0.5555555555555556,\"#d8576b\"],[0.6666666666666666,\"#ed7953\"],[0.7777777777777778,\"#fb9f3a\"],[0.8888888888888888,\"#fdca26\"],[1.0,\"#f0f921\"]],\"type\":\"heatmapgl\"}],\"histogram\":[{\"marker\":{\"pattern\":{\"fillmode\":\"overlay\",\"size\":10,\"solidity\":0.2}},\"type\":\"histogram\"}],\"histogram2d\":[{\"colorbar\":{\"outlinewidth\":0,\"ticks\":\"\"},\"colorscale\":[[0.0,\"#0d0887\"],[0.1111111111111111,\"#46039f\"],[0.2222222222222222,\"#7201a8\"],[0.3333333333333333,\"#9c179e\"],[0.4444444444444444,\"#bd3786\"],[0.5555555555555556,\"#d8576b\"],[0.6666666666666666,\"#ed7953\"],[0.7777777777777778,\"#fb9f3a\"],[0.8888888888888888,\"#fdca26\"],[1.0,\"#f0f921\"]],\"type\":\"histogram2d\"}],\"histogram2dcontour\":[{\"colorbar\":{\"outlinewidth\":0,\"ticks\":\"\"},\"colorscale\":[[0.0,\"#0d0887\"],[0.1111111111111111,\"#46039f\"],[0.2222222222222222,\"#7201a8\"],[0.3333333333333333,\"#9c179e\"],[0.4444444444444444,\"#bd3786\"],[0.5555555555555556,\"#d8576b\"],[0.6666666666666666,\"#ed7953\"],[0.7777777777777778,\"#fb9f3a\"],[0.8888888888888888,\"#fdca26\"],[1.0,\"#f0f921\"]],\"type\":\"histogram2dcontour\"}],\"mesh3d\":[{\"colorbar\":{\"outlinewidth\":0,\"ticks\":\"\"},\"type\":\"mesh3d\"}],\"parcoords\":[{\"line\":{\"colorbar\":{\"outlinewidth\":0,\"ticks\":\"\"}},\"type\":\"parcoords\"}],\"pie\":[{\"automargin\":true,\"type\":\"pie\"}],\"scatter\":[{\"marker\":{\"colorbar\":{\"outlinewidth\":0,\"ticks\":\"\"}},\"type\":\"scatter\"}],\"scatter3d\":[{\"line\":{\"colorbar\":{\"outlinewidth\":0,\"ticks\":\"\"}},\"marker\":{\"colorbar\":{\"outlinewidth\":0,\"ticks\":\"\"}},\"type\":\"scatter3d\"}],\"scattercarpet\":[{\"marker\":{\"colorbar\":{\"outlinewidth\":0,\"ticks\":\"\"}},\"type\":\"scattercarpet\"}],\"scattergeo\":[{\"marker\":{\"colorbar\":{\"outlinewidth\":0,\"ticks\":\"\"}},\"type\":\"scattergeo\"}],\"scattergl\":[{\"marker\":{\"colorbar\":{\"outlinewidth\":0,\"ticks\":\"\"}},\"type\":\"scattergl\"}],\"scattermapbox\":[{\"marker\":{\"colorbar\":{\"outlinewidth\":0,\"ticks\":\"\"}},\"type\":\"scattermapbox\"}],\"scatterpolar\":[{\"marker\":{\"colorbar\":{\"outlinewidth\":0,\"ticks\":\"\"}},\"type\":\"scatterpolar\"}],\"scatterpolargl\":[{\"marker\":{\"colorbar\":{\"outlinewidth\":0,\"ticks\":\"\"}},\"type\":\"scatterpolargl\"}],\"scatterternary\":[{\"marker\":{\"colorbar\":{\"outlinewidth\":0,\"ticks\":\"\"}},\"type\":\"scatterternary\"}],\"surface\":[{\"colorbar\":{\"outlinewidth\":0,\"ticks\":\"\"},\"colorscale\":[[0.0,\"#0d0887\"],[0.1111111111111111,\"#46039f\"],[0.2222222222222222,\"#7201a8\"],[0.3333333333333333,\"#9c179e\"],[0.4444444444444444,\"#bd3786\"],[0.5555555555555556,\"#d8576b\"],[0.6666666666666666,\"#ed7953\"],[0.7777777777777778,\"#fb9f3a\"],[0.8888888888888888,\"#fdca26\"],[1.0,\"#f0f921\"]],\"type\":\"surface\"}],\"table\":[{\"cells\":{\"fill\":{\"color\":\"#EBF0F8\"},\"line\":{\"color\":\"white\"}},\"header\":{\"fill\":{\"color\":\"#C8D4E3\"},\"line\":{\"color\":\"white\"}},\"type\":\"table\"}]},\"layout\":{\"annotationdefaults\":{\"arrowcolor\":\"#2a3f5f\",\"arrowhead\":0,\"arrowwidth\":1},\"autotypenumbers\":\"strict\",\"coloraxis\":{\"colorbar\":{\"outlinewidth\":0,\"ticks\":\"\"}},\"colorscale\":{\"diverging\":[[0,\"#8e0152\"],[0.1,\"#c51b7d\"],[0.2,\"#de77ae\"],[0.3,\"#f1b6da\"],[0.4,\"#fde0ef\"],[0.5,\"#f7f7f7\"],[0.6,\"#e6f5d0\"],[0.7,\"#b8e186\"],[0.8,\"#7fbc41\"],[0.9,\"#4d9221\"],[1,\"#276419\"]],\"sequential\":[[0.0,\"#0d0887\"],[0.1111111111111111,\"#46039f\"],[0.2222222222222222,\"#7201a8\"],[0.3333333333333333,\"#9c179e\"],[0.4444444444444444,\"#bd3786\"],[0.5555555555555556,\"#d8576b\"],[0.6666666666666666,\"#ed7953\"],[0.7777777777777778,\"#fb9f3a\"],[0.8888888888888888,\"#fdca26\"],[1.0,\"#f0f921\"]],\"sequentialminus\":[[0.0,\"#0d0887\"],[0.1111111111111111,\"#46039f\"],[0.2222222222222222,\"#7201a8\"],[0.3333333333333333,\"#9c179e\"],[0.4444444444444444,\"#bd3786\"],[0.5555555555555556,\"#d8576b\"],[0.6666666666666666,\"#ed7953\"],[0.7777777777777778,\"#fb9f3a\"],[0.8888888888888888,\"#fdca26\"],[1.0,\"#f0f921\"]]},\"colorway\":[\"#636efa\",\"#EF553B\",\"#00cc96\",\"#ab63fa\",\"#FFA15A\",\"#19d3f3\",\"#FF6692\",\"#B6E880\",\"#FF97FF\",\"#FECB52\"],\"font\":{\"color\":\"#2a3f5f\"},\"geo\":{\"bgcolor\":\"white\",\"lakecolor\":\"white\",\"landcolor\":\"#E5ECF6\",\"showlakes\":true,\"showland\":true,\"subunitcolor\":\"white\"},\"hoverlabel\":{\"align\":\"left\"},\"hovermode\":\"closest\",\"mapbox\":{\"style\":\"light\"},\"paper_bgcolor\":\"white\",\"plot_bgcolor\":\"#E5ECF6\",\"polar\":{\"angularaxis\":{\"gridcolor\":\"white\",\"linecolor\":\"white\",\"ticks\":\"\"},\"bgcolor\":\"#E5ECF6\",\"radialaxis\":{\"gridcolor\":\"white\",\"linecolor\":\"white\",\"ticks\":\"\"}},\"scene\":{\"xaxis\":{\"backgroundcolor\":\"#E5ECF6\",\"gridcolor\":\"white\",\"gridwidth\":2,\"linecolor\":\"white\",\"showbackground\":true,\"ticks\":\"\",\"zerolinecolor\":\"white\"},\"yaxis\":{\"backgroundcolor\":\"#E5ECF6\",\"gridcolor\":\"white\",\"gridwidth\":2,\"linecolor\":\"white\",\"showbackground\":true,\"ticks\":\"\",\"zerolinecolor\":\"white\"},\"zaxis\":{\"backgroundcolor\":\"#E5ECF6\",\"gridcolor\":\"white\",\"gridwidth\":2,\"linecolor\":\"white\",\"showbackground\":true,\"ticks\":\"\",\"zerolinecolor\":\"white\"}},\"shapedefaults\":{\"line\":{\"color\":\"#2a3f5f\"}},\"ternary\":{\"aaxis\":{\"gridcolor\":\"white\",\"linecolor\":\"white\",\"ticks\":\"\"},\"baxis\":{\"gridcolor\":\"white\",\"linecolor\":\"white\",\"ticks\":\"\"},\"bgcolor\":\"#E5ECF6\",\"caxis\":{\"gridcolor\":\"white\",\"linecolor\":\"white\",\"ticks\":\"\"}},\"title\":{\"x\":0.05},\"xaxis\":{\"automargin\":true,\"gridcolor\":\"white\",\"linecolor\":\"white\",\"ticks\":\"\",\"title\":{\"standoff\":15},\"zerolinecolor\":\"white\",\"zerolinewidth\":2},\"yaxis\":{\"automargin\":true,\"gridcolor\":\"white\",\"linecolor\":\"white\",\"ticks\":\"\",\"title\":{\"standoff\":15},\"zerolinecolor\":\"white\",\"zerolinewidth\":2}}},\"title\":{\"text\":\"F(\\u03b3,\\u03b2)\"},\"width\":700,\"xaxis\":{\"title\":{\"text\":\"\\u03b3\"}},\"yaxis\":{\"title\":{\"text\":\"\\u03b2\"}}},                        {\"responsive\": true}                    ).then(function(){\n",
       "                            \n",
       "var gd = document.getElementById('2c4a7c6e-1787-41f9-98f6-3b6bae68b4f0');\n",
       "var x = new MutationObserver(function (mutations, observer) {{\n",
       "        var display = window.getComputedStyle(gd).display;\n",
       "        if (!display || display === 'none') {{\n",
       "            console.log([gd, 'removed!']);\n",
       "            Plotly.purge(gd);\n",
       "            observer.disconnect();\n",
       "        }}\n",
       "}});\n",
       "\n",
       "// Listen for the removal of the full notebook cells\n",
       "var notebookContainer = gd.closest('#notebook-container');\n",
       "if (notebookContainer) {{\n",
       "    x.observe(notebookContainer, {childList: true});\n",
       "}}\n",
       "\n",
       "// Listen for the clearing of the current output cell\n",
       "var outputEl = gd.closest('.output');\n",
       "if (outputEl) {{\n",
       "    x.observe(outputEl, {childList: true});\n",
       "}}\n",
       "\n",
       "                        })                };                });            </script>        </div>"
      ]
     },
     "metadata": {},
     "output_type": "display_data"
    }
   ],
   "source": [
    "# Plot Heatmap \n",
    "fig = go.Figure(data=go.Heatmap(z=landscape, x=b_beta, y=a_gamma, type = 'heatmap', colorscale = 'viridis'))\n",
    "\n",
    "# Update Layout\n",
    "fig.update_layout(title=\"F(γ,β)\", width=700, height=700, yaxis_title=\"β\", xaxis_title=\"γ\")\n",
    "\n",
    "# Display Global Minimium \n",
    "fig.add_trace(\n",
    "    go.Scatter(mode=\"markers\", x=[opt_beta], y=[opt_gamma], marker_symbol=[204], text = [landscape[gamma,beta]],\n",
    "                   marker_color=\"red\",  hovertemplate=\"x: %{x}<br>y: %{y}<br> z: %{text:.2f}<extra></extra>\", \n",
    "                   marker_line_width=1, marker_size=16))"
   ]
  },
  {
   "cell_type": "code",
   "execution_count": 46,
   "id": "5eef23c8",
   "metadata": {},
   "outputs": [],
   "source": [
    "# Display Optimizer Results\n",
    "\n",
    "# Display path \n",
    "#fig.add_trace(\n",
    "#    go.Scatter(mode=\"lines\", x=gammas, y=betas, marker_symbol=[200],\n",
    "#                   marker_color=\"white\", marker_line_width=1, marker_size=8)\n",
    "#)\n",
    "\n",
    "# Display start point\n",
    "#fig.add_trace(\n",
    "#    go.Scatter(mode=\"markers\", x=[gammas[0]], y=[betas[0]], marker_symbol=[204],\n",
    "#                   marker_color=\"gray\", \n",
    "#                   marker_line_width=1, marker_size=16))\n",
    "\n",
    "# Display end point\n",
    "#fig.add_trace(\n",
    "#    go.Scatter(mode=\"markers\", x=[gammas[-1]], y=[betas[-1]], marker_symbol=[204],\n",
    "#                   marker_color=\"green\", \n",
    "#                   marker_line_width=1, marker_size=16))\n",
    "\n"
   ]
  },
  {
   "cell_type": "code",
   "execution_count": 25,
   "id": "5191a47a",
   "metadata": {},
   "outputs": [],
   "source": [
    "# Plot Optimizer History\n",
    "#fig = go.Figure(data=go.Scatter(x=counts, y=values))\n",
    "#fig.update_layout(xaxis_title=\"Evaluation Counts\", yaxis_title=\"Evaluated Mean\", title=\"Optimizer\")\n",
    "#fig.show()"
   ]
  },
  {
   "cell_type": "code",
   "execution_count": null,
   "id": "64b6705c",
   "metadata": {},
   "outputs": [],
   "source": []
  }
 ],
 "metadata": {
  "kernelspec": {
   "display_name": "python3.8",
   "language": "python",
   "name": "python3.8"
  },
  "language_info": {
   "codemirror_mode": {
    "name": "ipython",
    "version": 3
   },
   "file_extension": ".py",
   "mimetype": "text/x-python",
   "name": "python",
   "nbconvert_exporter": "python",
   "pygments_lexer": "ipython3",
   "version": "3.8.6"
  }
 },
 "nbformat": 4,
 "nbformat_minor": 5
}
