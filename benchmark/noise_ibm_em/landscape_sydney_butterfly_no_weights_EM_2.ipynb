{
 "cells": [
  {
   "cell_type": "code",
   "execution_count": 1,
   "id": "08c90252",
   "metadata": {},
   "outputs": [],
   "source": [
    "import sys\n",
    "import os\n",
    "sys.path.insert(0, os.path.abspath('../'))\n",
    "sys.path.insert(0, os.path.abspath('../../'))\n",
    "sys.path.insert(0, os.path.abspath('/home/hm-tlacherm/qlm_notebooks/notebooks_1.2.1/notebooks/master_thesis_qaoa/'))\n",
    "sys.path.insert(0, os.path.abspath('/home/hm-tlacherm/qlm_notebooks/notebooks_1.2.1/notebooks/master_thesis_qaoa/ibm/'))"
   ]
  },
  {
   "cell_type": "code",
   "execution_count": 2,
   "id": "d544255f",
   "metadata": {},
   "outputs": [],
   "source": [
    "import numpy as np\n",
    "\n",
    "import qiskit\n",
    "provider = qiskit.IBMQ.load_account()\n",
    "from qiskit import Aer\n",
    "from qiskit.utils import QuantumInstance\n",
    "from qiskit_optimization.algorithms import MinimumEigenOptimizer\n",
    "from qiskit.algorithms import QAOA\n",
    "from shared.QiskitMaxcut import *\n",
    "from ibm.ibm_parameters import *\n",
    "from qiskit.ignis.mitigation.measurement import CompleteMeasFitter\n",
    "from matplotlib import pyplot as plt\n",
    "%matplotlib inline"
   ]
  },
  {
   "cell_type": "code",
   "execution_count": 3,
   "id": "c4f3a410",
   "metadata": {},
   "outputs": [
    {
     "name": "stdout",
     "output_type": "stream",
     "text": [
      "graph_05_06_02\n"
     ]
    },
    {
     "data": {
      "image/png": "[encoded data removed]",
      "text/plain": [
       "<Figure size 432x288 with 1 Axes>"
      ]
     },
     "metadata": {},
     "output_type": "display_data"
    }
   ],
   "source": [
    "graph = generate_butterfly_graph(with_weights=False)\n",
    "max_cut = Maxcut(graph)\n",
    "max_cut_qubo = max_cut.to_qubo()\n",
    "print(graph.name)\n",
    "max_cut.draw()"
   ]
  },
  {
   "cell_type": "code",
   "execution_count": 4,
   "id": "617f4b75",
   "metadata": {},
   "outputs": [],
   "source": [
    "step_size = 0.1\n",
    "gamma_range = np.arange(0, np.pi, step_size)\n",
    "beta_range = np.arange(0, np.pi, step_size)"
   ]
  },
  {
   "cell_type": "code",
   "execution_count": 5,
   "id": "77c26255",
   "metadata": {},
   "outputs": [
    {
     "data": {
      "text/plain": [
       "0.0"
      ]
     },
     "execution_count": 5,
     "metadata": {},
     "output_type": "execute_result"
    }
   ],
   "source": [
    "a_gamma, b_beta = np.meshgrid(gamma_range, beta_range)\n",
    "a_gamma[0,0]"
   ]
  },
  {
   "cell_type": "code",
   "execution_count": 6,
   "id": "7521ba41",
   "metadata": {},
   "outputs": [],
   "source": [
    "def maxcut_obj(x, G):\n",
    "    \"\"\"\n",
    "    Given a bitstring as a solution, this function returns\n",
    "    the number of edges shared between the two partitions\n",
    "    of the graph.\n",
    "    \n",
    "    Args:\n",
    "        x: str\n",
    "           solution bitstring\n",
    "           \n",
    "        G: networkx graph\n",
    "        \n",
    "    Returns:\n",
    "        obj: float\n",
    "             Objective\n",
    "    \"\"\"\n",
    "    obj = 0\n",
    "    for i,j,w in graph.edges.data('weight'):\n",
    "        if x[i] != x[j]:\n",
    "            obj -= w\n",
    "            \n",
    "    return obj\n",
    "\n",
    "\n",
    "def compute_expectation(counts, G):\n",
    "    \n",
    "    \"\"\"\n",
    "    Computes expectation value based on measurement results\n",
    "    \n",
    "    Args:\n",
    "        counts: dict\n",
    "                key as bitstring, val as count\n",
    "           \n",
    "        G: networkx graph\n",
    "        \n",
    "    Returns:\n",
    "        avg: float\n",
    "             expectation value\n",
    "    \"\"\"\n",
    "    \n",
    "    avg = 0\n",
    "    sum_count = 0\n",
    "    for bitstring, count in counts.items():\n",
    "        \n",
    "        obj = maxcut_obj(bitstring, G)\n",
    "        avg += obj * count\n",
    "        sum_count += count\n",
    "        \n",
    "    return avg/sum_count"
   ]
  },
  {
   "cell_type": "code",
   "execution_count": 7,
   "id": "1defe426",
   "metadata": {},
   "outputs": [],
   "source": [
    "quantum_instance = QuantumInstance(\n",
    "                    #backend=Aer.get_backend(DEFAULT_QASM_SIMULATOR),\n",
    "                    backend=provider.get_backend('ibmq_sydney'),\n",
    "                    shots=SHOTS,\n",
    "                    measurement_error_mitigation_cls=CompleteMeasFitter,\n",
    "                    measurement_error_mitigation_shots=SHOTS,\n",
    "                )\n",
    "qaoa = QAOA(\n",
    "            optimizer=COBYLA(maxiter=0),\n",
    "            quantum_instance=quantum_instance,\n",
    "            reps=1\n",
    "            )\n",
    "\n",
    "op, offset = max_cut_qubo.to_ising()"
   ]
  },
  {
   "cell_type": "code",
   "execution_count": 8,
   "id": "cf2907cd",
   "metadata": {},
   "outputs": [],
   "source": [
    "def create_cirucit(gamma,beta):\n",
    "    circuits = qaoa.construct_circuit([gamma,beta], operator=op)\n",
    "    circuit = circuits[0]\n",
    "    circuit.measure_all()\n",
    "    return circuit"
   ]
  },
  {
   "cell_type": "code",
   "execution_count": 9,
   "id": "142973d3",
   "metadata": {},
   "outputs": [
    {
     "name": "stdout",
     "output_type": "stream",
     "text": [
      "[[0. 0. 0. ... 0. 0. 0.]\n",
      " [0. 0. 0. ... 0. 0. 0.]\n",
      " [0. 0. 0. ... 0. 0. 0.]\n",
      " ...\n",
      " [0. 0. 0. ... 0. 0. 0.]\n",
      " [0. 0. 0. ... 0. 0. 0.]\n",
      " [0. 0. 0. ... 0. 0. 0.]]\n"
     ]
    },
    {
     "data": {
      "text/plain": [
       "32"
      ]
     },
     "execution_count": 9,
     "metadata": {},
     "output_type": "execute_result"
    }
   ],
   "source": [
    "landscape = np.zeros(a_gamma.shape)\n",
    "print(landscape)\n",
    "len(landscape)"
   ]
  },
  {
   "cell_type": "code",
   "execution_count": 10,
   "id": "7aa92597",
   "metadata": {},
   "outputs": [
    {
     "name": "stdout",
     "output_type": "stream",
     "text": [
      "graph_05_06_02_em_row_0\n",
      "graph_05_06_02_em_row_1\n",
      "graph_05_06_02_em_row_2\n",
      "graph_05_06_02_em_row_3\n",
      "graph_05_06_02_em_row_4\n",
      "graph_05_06_02_em_row_5\n",
      "graph_05_06_02_em_row_6\n",
      "graph_05_06_02_em_row_7\n",
      "graph_05_06_02_em_row_8\n",
      "graph_05_06_02_em_row_9\n",
      "graph_05_06_02_em_row_10\n",
      "graph_05_06_02_em_row_11\n",
      "graph_05_06_02_em_row_12\n",
      "graph_05_06_02_em_row_13\n",
      "graph_05_06_02_em_row_14\n",
      "graph_05_06_02_em_row_15\n",
      "graph_05_06_02_em_row_16\n",
      "graph_05_06_02_em_row_17\n",
      "graph_05_06_02_em_row_18\n",
      "graph_05_06_02_em_row_19\n",
      "graph_05_06_02_em_row_20\n",
      "graph_05_06_02_em_row_21\n",
      "graph_05_06_02_em_row_22\n",
      "graph_05_06_02_em_row_23\n",
      "graph_05_06_02_em_row_24\n",
      "graph_05_06_02_em_row_25\n"
     ]
    },
    {
     "name": "stderr",
     "output_type": "stream",
     "text": [
      "account._job_result_object_storage:WARNING:2021-10-08 18:25:42,161: An error occurred while sending download completion acknowledgement: \"HTTPSConnectionPool(host='api-qcon.quantum-computing.ibm.com', port=443): Read timed out. (read timeout=None)\"\n"
     ]
    },
    {
     "name": "stdout",
     "output_type": "stream",
     "text": [
      "graph_05_06_02_em_row_26\n",
      "graph_05_06_02_em_row_27\n",
      "graph_05_06_02_em_row_28\n",
      "graph_05_06_02_em_row_30\n",
      "graph_05_06_02_em_row_31\n"
     ]
    }
   ],
   "source": [
    "\n",
    "for i in range(0, len(landscape)):\n",
    "    circuits = []\n",
    "    for j in range(0, len(landscape)):\n",
    "        # create circuits for entire row \n",
    "        circuit = create_cirucit(a_gamma[i][j], b_beta[i][j])\n",
    "        circuits.append(circuit)\n",
    "    \n",
    "    # create one job with circuits \n",
    "    job_name = f\"{graph.name}_em_row_{i}\"\n",
    "    job = quantum_instance.execute(circuits)\n",
    "    #job.update_name(job_name)\n",
    "    print(job_name)\n",
    "    \n",
    "    # add results to landscape \n",
    "    j = 0\n",
    "    for count in job.get_counts():\n",
    "        try:\n",
    "            mean = compute_expectation(count, graph)\n",
    "            landscape[i,j % 32] = mean\n",
    "            j += 1\n",
    "        except Exception as e:\n",
    "            print(e)"
   ]
  },
  {
   "cell_type": "code",
   "execution_count": 11,
   "id": "0318681e",
   "metadata": {},
   "outputs": [
    {
     "name": "stdout",
     "output_type": "stream",
     "text": [
      "[[-2.99925    -2.9965     -3.00275    ... -2.94875    -2.974\n",
      "  -2.99675   ]\n",
      " [-2.95386151 -2.99091591 -2.93665072 ... -3.06843932 -3.01210179\n",
      "  -2.991413  ]\n",
      " [-2.99325    -2.932      -2.87475    ... -3.06975    -3.0415\n",
      "  -2.9805    ]\n",
      " ...\n",
      " [-3.04943732 -3.03391381 -3.09592697 ... -2.68866255 -2.74452277\n",
      "  -2.82955912]\n",
      " [-3.086      -3.05225    -3.10175    ... -2.801      -2.83175\n",
      "  -2.952     ]\n",
      " [-3.07717321 -3.05222561 -3.08409122 ... -2.93021997 -2.9351989\n",
      "  -2.99583172]]\n"
     ]
    },
    {
     "data": {
      "image/png": "[encoded data removed]",
      "text/plain": [
       "<Figure size 288x288 with 1 Axes>"
      ]
     },
     "metadata": {
      "needs_background": "light"
     },
     "output_type": "display_data"
    }
   ],
   "source": [
    "print(landscape)\n",
    "plt.matshow(landscape)\n",
    "plt.show()"
   ]
  },
  {
   "cell_type": "code",
   "execution_count": 12,
   "id": "e8191248",
   "metadata": {},
   "outputs": [],
   "source": [
    "#a_del = np.delete(landscape, 0, 0)\n"
   ]
  },
  {
   "cell_type": "code",
   "execution_count": 13,
   "id": "48f5f237",
   "metadata": {},
   "outputs": [],
   "source": [
    "#a_del = np.delete(a_del, 16, 0)"
   ]
  },
  {
   "cell_type": "code",
   "execution_count": 14,
   "id": "c2940eae",
   "metadata": {},
   "outputs": [],
   "source": [
    "#plt.matshow(a_del)\n",
    "#plt.show()"
   ]
  },
  {
   "cell_type": "code",
   "execution_count": 15,
   "id": "f92be730",
   "metadata": {},
   "outputs": [
    {
     "data": {
      "text/plain": [
       "-2.8073153229872023"
      ]
     },
     "execution_count": 15,
     "metadata": {},
     "output_type": "execute_result"
    }
   ],
   "source": [
    "# Mean of landscape\n",
    "np.mean(landscape)"
   ]
  },
  {
   "cell_type": "code",
   "execution_count": 16,
   "id": "bb03a5a4",
   "metadata": {},
   "outputs": [
    {
     "data": {
      "text/plain": [
       "-3.3283491268172263"
      ]
     },
     "execution_count": 16,
     "metadata": {},
     "output_type": "execute_result"
    }
   ],
   "source": [
    "# Minimium \n",
    "np.min(landscape)"
   ]
  },
  {
   "cell_type": "code",
   "execution_count": 17,
   "id": "be4164d7",
   "metadata": {},
   "outputs": [
    {
     "data": {
      "text/plain": [
       "(18, 23)"
      ]
     },
     "execution_count": 17,
     "metadata": {},
     "output_type": "execute_result"
    }
   ],
   "source": [
    "# Display Coordinates of Minimum \n",
    "np.unravel_index(np.argmin(landscape), landscape.shape)"
   ]
  },
  {
   "cell_type": "code",
   "execution_count": 18,
   "id": "d345481d",
   "metadata": {},
   "outputs": [
    {
     "name": "stdout",
     "output_type": "stream",
     "text": [
      "Opt.Gamma: 1.8, Opt.Beta: 2.3000000000000003\n"
     ]
    }
   ],
   "source": [
    "# Gamma and beta value of Minimium\n",
    "gamma, beta = np.unravel_index(np.argmin(landscape), landscape.shape)\n",
    "opt_gamma = gamma * step_size\n",
    "opt_beta = beta * step_size\n",
    "print(f\"Opt.Gamma: {opt_gamma}, Opt.Beta: {opt_beta}\")"
   ]
  },
  {
   "cell_type": "code",
   "execution_count": 19,
   "id": "3aeb645a",
   "metadata": {},
   "outputs": [],
   "source": [
    "# Save result matrix \n",
    "with open('landscape_sydney_butterfly_no_weights_em_results_2.npy', 'wb') as f:\n",
    "    np.save(f, landscape)"
   ]
  },
  {
   "cell_type": "code",
   "execution_count": 20,
   "id": "143a3a5b",
   "metadata": {},
   "outputs": [],
   "source": [
    "import plotly.graph_objects as go"
   ]
  },
  {
   "cell_type": "code",
   "execution_count": null,
   "id": "a4a70fc8",
   "metadata": {},
   "outputs": [],
   "source": [
    "# Plot landscape in 3D \n",
    "a_gamma = np.arange(0, np.pi, step_size)\n",
    "b_beta = np.arange(0, np.pi, step_size)\n",
    "fig = go.Figure(data=go.Surface(z=landscape, x=a_gamma, y=b_beta))\n",
    "\n",
    "fig.update_traces(contours_z=dict(show=True, usecolormap=True, highlightcolor='limegreen', project_z=True))\n",
    "\n",
    "\n",
    "fig.update_layout(title=\"QAOA with Qiskit Error Mitigation - MaxCut-Landscape\", scene=dict(\n",
    "    xaxis_title=\"γ\",\n",
    "    yaxis_title=\"β\",\n",
    "    zaxis_title=\"F(γ,β)\"\n",
    "))"
   ]
  },
  {
   "cell_type": "code",
   "execution_count": null,
   "id": "7a8d8f7a",
   "metadata": {},
   "outputs": [],
   "source": [
    "# Plot Heatmap \n",
    "fig = go.Figure(data=go.Heatmap(z=landscape, x=b_beta, y=a_gamma, type = 'heatmap', colorscale = 'viridis'))\n",
    "\n",
    "# Update Layout\n",
    "fig.update_layout(title=\"F(γ,β)\", width=700, height=700, yaxis_title=\"β\", xaxis_title=\"γ\")\n",
    "\n",
    "# Display Global Minimium \n",
    "fig.add_trace(\n",
    "    go.Scatter(mode=\"markers\", x=[opt_beta], y=[opt_gamma], marker_symbol=[204], text = [landscape[gamma,beta]],\n",
    "                   marker_color=\"red\",  hovertemplate=\"x: %{x}<br>y: %{y}<br> z: %{text:.2f}<extra></extra>\", \n",
    "                   marker_line_width=1, marker_size=16))"
   ]
  },
  {
   "cell_type": "code",
   "execution_count": null,
   "id": "5eef23c8",
   "metadata": {},
   "outputs": [],
   "source": [
    "# Display Optimizer Results\n",
    "\n",
    "# Display path \n",
    "#fig.add_trace(\n",
    "#    go.Scatter(mode=\"lines\", x=gammas, y=betas, marker_symbol=[200],\n",
    "#                   marker_color=\"white\", marker_line_width=1, marker_size=8)\n",
    "#)\n",
    "\n",
    "# Display start point\n",
    "#fig.add_trace(\n",
    "#    go.Scatter(mode=\"markers\", x=[gammas[0]], y=[betas[0]], marker_symbol=[204],\n",
    "#                   marker_color=\"gray\", \n",
    "#                   marker_line_width=1, marker_size=16))\n",
    "\n",
    "# Display end point\n",
    "#fig.add_trace(\n",
    "#    go.Scatter(mode=\"markers\", x=[gammas[-1]], y=[betas[-1]], marker_symbol=[204],\n",
    "#                   marker_color=\"green\", \n",
    "#                   marker_line_width=1, marker_size=16))\n",
    "\n"
   ]
  },
  {
   "cell_type": "code",
   "execution_count": 28,
   "id": "5191a47a",
   "metadata": {},
   "outputs": [],
   "source": [
    "# Plot Optimizer History\n",
    "#fig = go.Figure(data=go.Scatter(x=counts, y=values))\n",
    "#fig.update_layout(xaxis_title=\"Evaluation Counts\", yaxis_title=\"Evaluated Mean\", title=\"Optimizer\")\n",
    "#fig.show()"
   ]
  },
  {
   "cell_type": "code",
   "execution_count": null,
   "id": "64b6705c",
   "metadata": {},
   "outputs": [],
   "source": []
  },
  {
   "cell_type": "code",
   "execution_count": null,
   "id": "973dd035",
   "metadata": {},
   "outputs": [],
   "source": []
  }
 ],
 "metadata": {
  "kernelspec": {
   "display_name": "python3.8",
   "language": "python",
   "name": "python3.8"
  },
  "language_info": {
   "codemirror_mode": {
    "name": "ipython",
    "version": 3
   },
   "file_extension": ".py",
   "mimetype": "text/x-python",
   "name": "python",
   "nbconvert_exporter": "python",
   "pygments_lexer": "ipython3",
   "version": "3.8.6"
  }
 },
 "nbformat": 4,
 "nbformat_minor": 5
}
