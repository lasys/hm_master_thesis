{
 "cells": [
  {
   "cell_type": "code",
   "execution_count": 1,
   "id": "08c90252",
   "metadata": {},
   "outputs": [],
   "source": [
    "import sys\n",
    "import os\n",
    "sys.path.insert(0, os.path.abspath('../'))\n",
    "sys.path.insert(0, os.path.abspath('../../'))\n",
    "sys.path.insert(0, os.path.abspath('/home/hm-tlacherm/qlm_notebooks/notebooks_1.2.1/notebooks/master_thesis_qaoa/'))\n",
    "sys.path.insert(0, os.path.abspath('/home/hm-tlacherm/qlm_notebooks/notebooks_1.2.1/notebooks/master_thesis_qaoa/ibm/'))"
   ]
  },
  {
   "cell_type": "code",
   "execution_count": 2,
   "id": "d544255f",
   "metadata": {},
   "outputs": [],
   "source": [
    "import numpy as np\n",
    "\n",
    "import qiskit\n",
    "provider = qiskit.IBMQ.load_account()\n",
    "from qiskit import Aer\n",
    "from qiskit.utils import QuantumInstance\n",
    "from qiskit_optimization.algorithms import MinimumEigenOptimizer\n",
    "from qiskit.algorithms import QAOA\n",
    "from shared.QiskitMaxcut import *\n",
    "from ibm.ibm_parameters import *\n",
    "from qiskit.ignis.mitigation.measurement import CompleteMeasFitter\n",
    "from matplotlib import pyplot as plt\n",
    "%matplotlib inline"
   ]
  },
  {
   "cell_type": "code",
   "execution_count": 3,
   "id": "c4f3a410",
   "metadata": {},
   "outputs": [
    {
     "name": "stdout",
     "output_type": "stream",
     "text": [
      "graph_05_06_02\n"
     ]
    },
    {
     "data": {
      "image/png": "[encoded data removed]",
      "text/plain": [
       "<Figure size 432x288 with 1 Axes>"
      ]
     },
     "metadata": {},
     "output_type": "display_data"
    }
   ],
   "source": [
    "graph = generate_butterfly_graph(with_weights=False)\n",
    "max_cut = Maxcut(graph)\n",
    "max_cut_qubo = max_cut.to_qubo()\n",
    "print(graph.name)\n",
    "max_cut.draw()"
   ]
  },
  {
   "cell_type": "code",
   "execution_count": 4,
   "id": "617f4b75",
   "metadata": {},
   "outputs": [],
   "source": [
    "step_size = 0.1\n",
    "gamma_range = np.arange(0, np.pi, step_size)\n",
    "beta_range = np.arange(0, np.pi, step_size)"
   ]
  },
  {
   "cell_type": "code",
   "execution_count": 5,
   "id": "77c26255",
   "metadata": {},
   "outputs": [
    {
     "data": {
      "text/plain": [
       "0.0"
      ]
     },
     "execution_count": 5,
     "metadata": {},
     "output_type": "execute_result"
    }
   ],
   "source": [
    "a_gamma, b_beta = np.meshgrid(gamma_range, beta_range)\n",
    "a_gamma[0,0]"
   ]
  },
  {
   "cell_type": "code",
   "execution_count": 6,
   "id": "7521ba41",
   "metadata": {},
   "outputs": [],
   "source": [
    "def maxcut_obj(x, G):\n",
    "    \"\"\"\n",
    "    Given a bitstring as a solution, this function returns\n",
    "    the number of edges shared between the two partitions\n",
    "    of the graph.\n",
    "    \n",
    "    Args:\n",
    "        x: str\n",
    "           solution bitstring\n",
    "           \n",
    "        G: networkx graph\n",
    "        \n",
    "    Returns:\n",
    "        obj: float\n",
    "             Objective\n",
    "    \"\"\"\n",
    "    obj = 0\n",
    "    for i, j in G.edges():\n",
    "        if x[i] != x[j]:\n",
    "            obj -= 1\n",
    "            \n",
    "    return obj\n",
    "\n",
    "\n",
    "def compute_expectation(counts, G):\n",
    "    \n",
    "    \"\"\"\n",
    "    Computes expectation value based on measurement results\n",
    "    \n",
    "    Args:\n",
    "        counts: dict\n",
    "                key as bitstring, val as count\n",
    "           \n",
    "        G: networkx graph\n",
    "        \n",
    "    Returns:\n",
    "        avg: float\n",
    "             expectation value\n",
    "    \"\"\"\n",
    "    \n",
    "    avg = 0\n",
    "    sum_count = 0\n",
    "    for bitstring, count in counts.items():\n",
    "        \n",
    "        obj = maxcut_obj(bitstring, G)\n",
    "        avg += obj * count\n",
    "        sum_count += count\n",
    "        \n",
    "    return avg/sum_count"
   ]
  },
  {
   "cell_type": "code",
   "execution_count": 7,
   "id": "1defe426",
   "metadata": {},
   "outputs": [],
   "source": [
    "quantum_instance = QuantumInstance(\n",
    "                    #backend=Aer.get_backend(DEFAULT_QASM_SIMULATOR),\n",
    "                    backend=provider.get_backend('ibmq_sydney'),\n",
    "                    shots=SHOTS,\n",
    "                   # measurement_error_mitigation_cls=CompleteMeasFitter,\n",
    "                   # measurement_error_mitigation_shots=SHOTS,\n",
    "                )\n",
    "qaoa = QAOA(\n",
    "            optimizer=COBYLA(maxiter=0),\n",
    "            quantum_instance=quantum_instance,\n",
    "            reps=1\n",
    "            )\n",
    "\n",
    "op, offset = max_cut_qubo.to_ising()"
   ]
  },
  {
   "cell_type": "code",
   "execution_count": 8,
   "id": "cf2907cd",
   "metadata": {},
   "outputs": [],
   "source": [
    "def create_cirucit(gamma,beta):\n",
    "    circuits = qaoa.construct_circuit([gamma,beta], operator=op)\n",
    "    circuit = circuits[0]\n",
    "    circuit.measure_all()\n",
    "    return circuit"
   ]
  },
  {
   "cell_type": "code",
   "execution_count": 9,
   "id": "77695a93",
   "metadata": {},
   "outputs": [
    {
     "name": "stdout",
     "output_type": "stream",
     "text": [
      "[[0. 0. 0. ... 0. 0. 0.]\n",
      " [0. 0. 0. ... 0. 0. 0.]\n",
      " [0. 0. 0. ... 0. 0. 0.]\n",
      " ...\n",
      " [0. 0. 0. ... 0. 0. 0.]\n",
      " [0. 0. 0. ... 0. 0. 0.]\n",
      " [0. 0. 0. ... 0. 0. 0.]]\n"
     ]
    },
    {
     "data": {
      "text/plain": [
       "32"
      ]
     },
     "execution_count": 9,
     "metadata": {},
     "output_type": "execute_result"
    }
   ],
   "source": [
    "landscape = np.zeros(a_gamma.shape)\n",
    "print(landscape)\n",
    "len(landscape)"
   ]
  },
  {
   "cell_type": "code",
   "execution_count": 10,
   "id": "7aa92597",
   "metadata": {},
   "outputs": [
    {
     "name": "stdout",
     "output_type": "stream",
     "text": [
      "graph_05_06_02_em_row_0\n",
      "graph_05_06_02_em_row_1\n",
      "graph_05_06_02_em_row_2\n",
      "graph_05_06_02_em_row_3\n",
      "graph_05_06_02_em_row_4\n",
      "graph_05_06_02_em_row_5\n",
      "graph_05_06_02_em_row_6\n",
      "graph_05_06_02_em_row_7\n",
      "graph_05_06_02_em_row_8\n",
      "graph_05_06_02_em_row_9\n",
      "graph_05_06_02_em_row_10\n",
      "graph_05_06_02_em_row_11\n",
      "graph_05_06_02_em_row_12\n",
      "graph_05_06_02_em_row_13\n",
      "graph_05_06_02_em_row_14\n",
      "graph_05_06_02_em_row_15\n",
      "graph_05_06_02_em_row_16\n",
      "graph_05_06_02_em_row_17\n",
      "graph_05_06_02_em_row_18\n",
      "graph_05_06_02_em_row_19\n",
      "graph_05_06_02_em_row_20\n",
      "graph_05_06_02_em_row_21\n",
      "graph_05_06_02_em_row_22\n",
      "graph_05_06_02_em_row_23\n",
      "graph_05_06_02_em_row_24\n",
      "graph_05_06_02_em_row_25\n",
      "graph_05_06_02_em_row_26\n",
      "graph_05_06_02_em_row_27\n",
      "graph_05_06_02_em_row_28\n",
      "graph_05_06_02_em_row_29\n",
      "graph_05_06_02_em_row_30\n",
      "graph_05_06_02_em_row_31\n"
     ]
    }
   ],
   "source": [
    "\n",
    "for i in range(0, len(landscape)):\n",
    "    circuits = []\n",
    "    for j in range(0, len(landscape)):\n",
    "        # create circuits for entire row \n",
    "        circuit = create_cirucit(a_gamma[i][j], b_beta[i][j])\n",
    "        circuits.append(circuit)\n",
    "    \n",
    "    # create one job with circuits \n",
    "    job_name = f\"{graph.name}_em_row_{i}\"\n",
    "    job = quantum_instance.execute(circuits)\n",
    "    #job.update_name(job_name)\n",
    "    print(job_name)\n",
    "    \n",
    "    # add results to landscape \n",
    "    j = 0\n",
    "    for count in job.get_counts():\n",
    "        try:\n",
    "            mean = compute_expectation(count, graph)\n",
    "            landscape[i,j % 32] = mean\n",
    "            j += 1\n",
    "        except Exception as e:\n",
    "            print(e)"
   ]
  },
  {
   "cell_type": "code",
   "execution_count": 11,
   "id": "0318681e",
   "metadata": {},
   "outputs": [
    {
     "name": "stdout",
     "output_type": "stream",
     "text": [
      "[[-2.969      -2.9905     -2.99975    ... -2.8915     -2.887\n",
      "  -2.90225   ]\n",
      " [-2.99986697 -2.95457517 -2.87570315 ... -2.95164542 -2.96972762\n",
      "  -2.91725788]\n",
      " [-2.96255339 -2.85277009 -2.77611578 ... -3.02660259 -2.9646568\n",
      "  -2.88834585]\n",
      " ...\n",
      " [-2.95831711 -2.93543285 -3.03119848 ... -2.62658201 -2.73148312\n",
      "  -2.79870161]\n",
      " [-2.94834734 -2.97461039 -2.99781719 ... -2.72936197 -2.79673924\n",
      "  -2.84788472]\n",
      " [-2.9439841  -2.97353349 -2.99476834 ... -2.88270898 -2.86556888\n",
      "  -2.91775047]]\n"
     ]
    },
    {
     "data": {
      "image/png": "[encoded data removed]",
      "text/plain": [
       "<Figure size 288x288 with 1 Axes>"
      ]
     },
     "metadata": {
      "needs_background": "light"
     },
     "output_type": "display_data"
    }
   ],
   "source": [
    "print(landscape)\n",
    "plt.matshow(landscape)\n",
    "plt.show()"
   ]
  },
  {
   "cell_type": "code",
   "execution_count": 12,
   "id": "475b2b7b",
   "metadata": {},
   "outputs": [],
   "source": [
    "#a_del = np.delete(landscape, 0, 0)\n"
   ]
  },
  {
   "cell_type": "code",
   "execution_count": 13,
   "id": "93575073",
   "metadata": {},
   "outputs": [],
   "source": [
    "#a_del = np.delete(a_del, 16, 0)"
   ]
  },
  {
   "cell_type": "code",
   "execution_count": 14,
   "id": "0599f674",
   "metadata": {},
   "outputs": [],
   "source": [
    "#plt.matshow(a_del)\n",
    "#plt.show()"
   ]
  },
  {
   "cell_type": "code",
   "execution_count": 15,
   "id": "f92be730",
   "metadata": {},
   "outputs": [
    {
     "data": {
      "text/plain": [
       "-2.776674040252388"
      ]
     },
     "execution_count": 15,
     "metadata": {},
     "output_type": "execute_result"
    }
   ],
   "source": [
    "# Mean of landscape\n",
    "np.mean(landscape)"
   ]
  },
  {
   "cell_type": "code",
   "execution_count": 16,
   "id": "bb03a5a4",
   "metadata": {},
   "outputs": [
    {
     "data": {
      "text/plain": [
       "-3.209915809318058"
      ]
     },
     "execution_count": 16,
     "metadata": {},
     "output_type": "execute_result"
    }
   ],
   "source": [
    "# Minimium \n",
    "np.min(landscape)"
   ]
  },
  {
   "cell_type": "code",
   "execution_count": 17,
   "id": "be4164d7",
   "metadata": {},
   "outputs": [
    {
     "data": {
      "text/plain": [
       "(3, 26)"
      ]
     },
     "execution_count": 17,
     "metadata": {},
     "output_type": "execute_result"
    }
   ],
   "source": [
    "# Display Coordinates of Minimum \n",
    "np.unravel_index(np.argmin(landscape), landscape.shape)"
   ]
  },
  {
   "cell_type": "code",
   "execution_count": 18,
   "id": "d345481d",
   "metadata": {},
   "outputs": [
    {
     "name": "stdout",
     "output_type": "stream",
     "text": [
      "Opt.Gamma: 0.30000000000000004, Opt.Beta: 2.6\n"
     ]
    }
   ],
   "source": [
    "# Gamma and beta value of Minimium\n",
    "gamma, beta = np.unravel_index(np.argmin(landscape), landscape.shape)\n",
    "opt_gamma = gamma * step_size\n",
    "opt_beta = beta * step_size\n",
    "print(f\"Opt.Gamma: {opt_gamma}, Opt.Beta: {opt_beta}\")"
   ]
  },
  {
   "cell_type": "code",
   "execution_count": 19,
   "id": "3aeb645a",
   "metadata": {},
   "outputs": [],
   "source": [
    "# Save result matrix \n",
    "with open('landscape_sydney_butterfly_no_weights_em_results.npy', 'wb') as f:\n",
    "    np.save(f, landscape)"
   ]
  },
  {
   "cell_type": "code",
   "execution_count": 20,
   "id": "143a3a5b",
   "metadata": {},
   "outputs": [],
   "source": [
    "import plotly.graph_objects as go"
   ]
  },
  {
   "cell_type": "code",
   "execution_count": 26,
   "id": "a4a70fc8",
   "metadata": {},
   "outputs": [
    {
     "data": {
      "application/vnd.plotly.v1+json": {
       "config": {
        "plotlyServerURL": "https://plot.ly"
       },
       "data": [
        {
         "contours": {
          "z": {
           "highlightcolor": "limegreen",
           "project": {
            "z": true
           },
           "show": true,
           "usecolormap": true
          }
         },
         "type": "surface",
         "x": [
          0,
          0.1,
          0.2,
          0.30000000000000004,
          0.4,
          0.5,
          0.6000000000000001,
          0.7000000000000001,
          0.8,
          0.9,
          1,
          1.1,
          1.2000000000000002,
          1.3,
          1.4000000000000001,
          1.5,
          1.6,
          1.7000000000000002,
          1.8,
          1.9000000000000001,
          2,
          2.1,
          2.2,
          2.3000000000000003,
          2.4000000000000004,
          2.5,
          2.6,
          2.7,
          2.8000000000000003,
          2.9000000000000004,
          3,
          3.1
         ],
         "y": [
          0,
          0.1,
          0.2,
          0.30000000000000004,
          0.4,
          0.5,
          0.6000000000000001,
          0.7000000000000001,
          0.8,
          0.9,
          1,
          1.1,
          1.2000000000000002,
          1.3,
          1.4000000000000001,
          1.5,
          1.6,
          1.7000000000000002,
          1.8,
          1.9000000000000001,
          2,
          2.1,
          2.2,
          2.3000000000000003,
          2.4000000000000004,
          2.5,
          2.6,
          2.7,
          2.8000000000000003,
          2.9000000000000004,
          3,
          3.1
         ],
         "z": [
          [
           -2.969,
           -2.9905,
           -2.99975,
           -2.97575,
           -2.94725,
           -2.94925,
           -2.94725,
           -2.937,
           -2.95525,
           -2.918,
           -2.91775,
           -2.93,
           -2.9105,
           -2.917,
           -2.9,
           -2.87475,
           -2.89,
           -2.91225,
           -2.91525,
           -2.9215,
           -2.894,
           -2.86075,
           -2.8815,
           -2.85425,
           -2.8875,
           -2.8775,
           -2.86575,
           -2.85275,
           -2.857,
           -2.8915,
           -2.887,
           -2.90225
          ],
          [
           -2.9998669726811533,
           -2.954575172732612,
           -2.875703154196649,
           -2.862357472643128,
           -2.82210834442595,
           -2.7738796060643542,
           -2.7613155315847004,
           -2.779542040472178,
           -2.771670427345046,
           -2.7324794108198867,
           -2.7960202679357344,
           -2.8103906864234625,
           -2.812391693664786,
           -2.845171757886473,
           -2.8363569654802476,
           -2.8760881479296083,
           -2.9136854822384732,
           -2.9100351439545165,
           -2.9093960364324123,
           -2.9574968146553906,
           -2.9843543692838654,
           -2.9932847801271776,
           -3.0170635100823344,
           -3.0232893610842355,
           -3.0383563455330393,
           -3.056846390456944,
           -3.0137591312358447,
           -3.0109506048750965,
           -3.0292444392791293,
           -2.951645415130819,
           -2.9697276164202355,
           -2.9172578759710905
          ],
          [
           -2.9625533860796955,
           -2.852770092492939,
           -2.776115779318604,
           -2.7302455061013116,
           -2.6874960929278187,
           -2.6238746060799567,
           -2.5837477513099274,
           -2.5516734787971007,
           -2.5699348577744026,
           -2.581929061661866,
           -2.620984483711027,
           -2.6763426452181345,
           -2.7036930979079035,
           -2.745766435539329,
           -2.8046474245030195,
           -2.819178948304089,
           -2.881289821197224,
           -2.916598024498103,
           -2.980683418841528,
           -2.988549107031308,
           -3.01988313056637,
           -3.096851867963215,
           -3.1060117823141655,
           -3.1285468894083297,
           -3.158916215932994,
           -3.17278376500763,
           -3.15933570931132,
           -3.1282428666984887,
           -3.0893841879845056,
           -3.0266025878208924,
           -2.964656798885265,
           -2.888345851379782
          ],
          [
           -2.9715584072863663,
           -2.8156858045449566,
           -2.6871068907606253,
           -2.6143676751039737,
           -2.519558455897864,
           -2.438990183686157,
           -2.408980856569936,
           -2.379558475676066,
           -2.39637913677775,
           -2.406379733016551,
           -2.4767060160995413,
           -2.551981086321215,
           -2.6376906074806574,
           -2.658578084385206,
           -2.7286846837721734,
           -2.775532301585136,
           -2.8551183097863944,
           -2.943327880954193,
           -2.9686458829587767,
           -3.000827081340345,
           -3.096677531254681,
           -3.0773774717099447,
           -3.121639283326477,
           -3.185463085440394,
           -3.1945649730647436,
           -3.1647701760621825,
           -3.209915809318058,
           -3.1768741677502765,
           -3.120864504934266,
           -3.069391787653031,
           -2.9606729918271992,
           -2.867796843249658
          ],
          [
           -3.035416586792809,
           -2.8061909866583665,
           -2.6371321895753845,
           -2.485259526421848,
           -2.4423769059953835,
           -2.3458568018208728,
           -2.272173011158448,
           -2.264592870507608,
           -2.2815293836233557,
           -2.3223579590243797,
           -2.3748913576162534,
           -2.4761985942075175,
           -2.521733279553445,
           -2.6344337704595,
           -2.7151297012453464,
           -2.774888815198819,
           -2.8665038830063785,
           -2.9143346871511375,
           -2.948014023220073,
           -2.996184255375604,
           -3.029248724567408,
           -3.0737664790008816,
           -3.1093237783525405,
           -3.121757788559194,
           -3.1421202375446176,
           -3.125375047268464,
           -3.1533368311132746,
           -3.121305238040075,
           -3.057721721669876,
           -3.013463862276463,
           -2.9216151352519697,
           -2.8014994447807138
          ],
          [
           -3.012623678373946,
           -2.7435274261677716,
           -2.6060575162714574,
           -2.503347271908727,
           -2.394903631908003,
           -2.312055400361798,
           -2.2730832793515834,
           -2.239305722775363,
           -2.2552907754242972,
           -2.2864961373880717,
           -2.3511939677393405,
           -2.4257982908740696,
           -2.5175459646375162,
           -2.623004215483077,
           -2.6931728391000447,
           -2.7797417891333667,
           -2.8241001003436055,
           -2.860844947122055,
           -2.923482027229113,
           -2.9508643399834886,
           -3.001929504271391,
           -3.000253690210029,
           -2.9887483360041793,
           -3.0125023428024162,
           -3.0441558618431497,
           -3.029605918793909,
           -3.025267800380076,
           -3.020358597001323,
           -2.970138438589485,
           -2.9295908330223868,
           -2.8606155061394536,
           -2.7561988899574708
          ],
          [
           -3.0551553981401662,
           -2.673960103758012,
           -2.57797526710292,
           -2.487020669966392,
           -2.3919921561356987,
           -2.316308418203028,
           -2.2758563977845534,
           -2.2960571918610864,
           -2.284478009440754,
           -2.2939294707683353,
           -2.367292979657358,
           -2.4629269759196357,
           -2.5564172409093473,
           -2.62372481716807,
           -2.7389673791605746,
           -2.828348094283077,
           -2.868941702071694,
           -2.87090598432186,
           -2.886763136379655,
           -2.8986640290085988,
           -2.8777600280410853,
           -2.893195457736541,
           -2.860496410301687,
           -2.845089944698245,
           -2.855658576162142,
           -2.8724564640808854,
           -2.852020982024393,
           -2.852427577110988,
           -2.8070706268994337,
           -2.7933627580320084,
           -2.76863233193656,
           -2.6802780162065303
          ],
          [
           -3.048022829595468,
           -2.7125031737306147,
           -2.6392624647770266,
           -2.593448936678199,
           -2.462699437731214,
           -2.4590807662877214,
           -2.3940851995966708,
           -2.359274093931668,
           -2.362920388606404,
           -2.393631717473458,
           -2.47386681481561,
           -2.5461203484427335,
           -2.613659831972703,
           -2.693969668221759,
           -2.748258104300819,
           -2.790323023062567,
           -2.825152919622157,
           -2.85276229754772,
           -2.8456840560600023,
           -2.8114252876266237,
           -2.7888987735430333,
           -2.760347473519825,
           -2.730707273578489,
           -2.6926298341152166,
           -2.690318175361488,
           -2.6992242508936535,
           -2.7021244783063985,
           -2.719635270959104,
           -2.660913835385255,
           -2.7084024764806096,
           -2.713305600760481,
           -2.650314432810048
          ],
          [
           -3.037601830807256,
           -2.72080039227718,
           -2.679046942046664,
           -2.67555835221625,
           -2.6027493509566924,
           -2.570607199688394,
           -2.5027372508745005,
           -2.5118822815416024,
           -2.5190198897051688,
           -2.528358064690079,
           -2.577057062179979,
           -2.6207354905399414,
           -2.6896565154400496,
           -2.7311229640828425,
           -2.7784617365071362,
           -2.836917890124205,
           -2.8295832414989492,
           -2.818193310064398,
           -2.7983999804803563,
           -2.7326365781138207,
           -2.7098172705283954,
           -2.634562329095097,
           -2.5670273977148343,
           -2.5538557882222097,
           -2.529221981971534,
           -2.502792350843289,
           -2.483996879839712,
           -2.5135067694588034,
           -2.5193036889991385,
           -2.580887127540125,
           -2.6213451962263563,
           -2.6252444134117647
          ],
          [
           -3.0167907898894892,
           -2.7148425855478844,
           -2.7710195031313005,
           -2.7533028187039776,
           -2.7539427990555656,
           -2.7327957637538542,
           -2.745592076224085,
           -2.683913916786746,
           -2.68319389896276,
           -2.706164896268406,
           -2.7263398142636475,
           -2.7665092054945664,
           -2.8319018584744104,
           -2.8318987331411813,
           -2.829018810558847,
           -2.8598126931751873,
           -2.8852735613158322,
           -2.817885923907419,
           -2.7473258691303197,
           -2.710685119400662,
           -2.6161021458199256,
           -2.5494092095590397,
           -2.447793642602012,
           -2.3942976018446833,
           -2.3547445352816045,
           -2.3381440403641665,
           -2.3711915184470818,
           -2.4068636809563695,
           -2.441002953189593,
           -2.503884903693582,
           -2.5859084719667766,
           -2.608103479155371
          ],
          [
           -3.009514467244371,
           -2.8142197755786227,
           -2.8202918738189466,
           -2.8846842879887262,
           -2.868172205333591,
           -2.915951620864448,
           -2.9111680070758243,
           -2.8963393573313674,
           -2.8939070239786244,
           -2.895929810253618,
           -2.9013741307738634,
           -2.89161568566504,
           -2.8919807774937705,
           -2.932146480014684,
           -2.911723137017722,
           -2.90565227244783,
           -2.8593823611878184,
           -2.7970007998379987,
           -2.777027913864227,
           -2.6425032816930893,
           -2.5878993075288617,
           -2.485427812606111,
           -2.3957910045805106,
           -2.3338521885294257,
           -2.265836290018589,
           -2.29668541853363,
           -2.281917149729219,
           -2.317410404992262,
           -2.3625663998559054,
           -2.458105035323976,
           -2.5241741354591922,
           -2.6275739839346732
          ],
          [
           -3.01525,
           -2.866,
           -2.92475,
           -2.948,
           -3.00325,
           -3.01425,
           -3.04225,
           -3.0395,
           -3.06125,
           -3.03025,
           -3.0145,
           -2.99675,
           -2.97425,
           -2.98975,
           -2.96675,
           -2.94525,
           -2.872,
           -2.8195,
           -2.7405,
           -2.698,
           -2.6055,
           -2.49375,
           -2.42375,
           -2.393,
           -2.3575,
           -2.299,
           -2.3255,
           -2.3665,
           -2.39225,
           -2.4835,
           -2.5705,
           -2.65575
          ],
          [
           -2.9511508125151686,
           -2.9107216425247677,
           -2.9684330295553516,
           -3.062168902853431,
           -3.1152920869163316,
           -3.139607197561271,
           -3.1625554342800313,
           -3.143892550035942,
           -3.1634890263264808,
           -3.1299595798408597,
           -3.0681495464659077,
           -3.0833947729035547,
           -3.0483870491797282,
           -3.028549767008266,
           -3.0046552710887453,
           -2.957515275347979,
           -2.884000598234599,
           -2.8575420960119717,
           -2.7569951182508583,
           -2.6470245208993655,
           -2.657236895885471,
           -2.5037681428000056,
           -2.4157570933800763,
           -2.404968330608313,
           -2.322809215465881,
           -2.320368679546427,
           -2.312701929961689,
           -2.353562915278446,
           -2.413276755486239,
           -2.4648814009048454,
           -2.594425550832842,
           -2.7245608741181693
          ],
          [
           -2.9923628501185737,
           -2.9411010970291147,
           -3.045140996655923,
           -3.1052467884234414,
           -3.1416475251870644,
           -3.159269471704843,
           -3.1871962965219343,
           -3.169100159813737,
           -3.1852844293259044,
           -3.114862869231016,
           -3.124575113150792,
           -3.0639689526236866,
           -3.0607166898892064,
           -3.011719768548349,
           -2.9722678695494724,
           -2.933520765828534,
           -2.8918736787956174,
           -2.8195117041716484,
           -2.785519000744127,
           -2.692001603489269,
           -2.668796378930223,
           -2.619102836400558,
           -2.5049136130818312,
           -2.490463892197836,
           -2.4480975771725837,
           -2.4445470894800883,
           -2.4731065444469262,
           -2.4830294800116666,
           -2.5226761200416163,
           -2.644449910407418,
           -2.6875163290789246,
           -2.735793797840051
          ],
          [
           -2.9324428104131277,
           -2.990218487732634,
           -3.0166173210084186,
           -3.093050341371817,
           -3.1223483848049427,
           -3.1524274306286806,
           -3.1603345944777885,
           -3.161946279082473,
           -3.1597004487677784,
           -3.1278197312477225,
           -3.0940173093670875,
           -3.061169237351476,
           -3.0416644084574966,
           -3.0203082936177297,
           -2.9447241967918085,
           -2.912903867210821,
           -2.8925282955433564,
           -2.877645637646255,
           -2.801430215218677,
           -2.7478609610794793,
           -2.75202986079343,
           -2.717252279185899,
           -2.6545650340994276,
           -2.6634672469493106,
           -2.6420840313121987,
           -2.587357457376239,
           -2.5905680122787325,
           -2.641313253705213,
           -2.6580249153084687,
           -2.7078118750579,
           -2.76461788620019,
           -2.855275238018417
          ],
          [
           -2.9592865570700475,
           -2.9777742140908545,
           -2.9959302605730906,
           -3.0142239892197837,
           -3.0260463070735404,
           -3.034195655979991,
           -3.024855693545124,
           -3.0247007600939124,
           -3.0352578747503145,
           -3.01150661609818,
           -2.9908735929686667,
           -2.9871503001171567,
           -2.9759650010907595,
           -2.950930895096667,
           -2.933816461758602,
           -2.9172720771138505,
           -2.9117720954988955,
           -2.8666389472730023,
           -2.876384614051613,
           -2.846526827055041,
           -2.8431454275772343,
           -2.8354918637515705,
           -2.822365312072261,
           -2.8113290312596106,
           -2.785252059506298,
           -2.7995917890477946,
           -2.7975514729855675,
           -2.8023259148430304,
           -2.8285409384476745,
           -2.8445883044859595,
           -2.8464850804817328,
           -2.8854492482230527
          ],
          [
           -2.967596981199883,
           -2.920311132905826,
           -2.949276985644182,
           -2.92427854869905,
           -2.888912384798897,
           -2.9047852641129452,
           -2.874860702750954,
           -2.853626793209024,
           -2.8862706837724192,
           -2.880212166770136,
           -2.882878618794894,
           -2.877898481144251,
           -2.897173585082554,
           -2.8878347820245724,
           -2.873234323816357,
           -2.8979787972675775,
           -2.9045445824549505,
           -2.9148483447387123,
           -2.8968886267727783,
           -2.9440439401169933,
           -2.9435682871817295,
           -2.9272246096539623,
           -2.935560357013763,
           -2.980241911981194,
           -2.9740760894742437,
           -2.951447597262862,
           -2.9360314556691867,
           -2.954619578689824,
           -2.9653233642669243,
           -2.928028313959611,
           -2.9105460225238637,
           -2.894233021422771
          ],
          [
           -2.99169286375924,
           -2.917867751318664,
           -2.880368544675068,
           -2.8097023034559143,
           -2.729915838963785,
           -2.71982785159271,
           -2.6971621977771396,
           -2.6768875680192945,
           -2.6913353539824527,
           -2.678548091060742,
           -2.7025783021735665,
           -2.74934986185308,
           -2.7202350955060557,
           -2.8056173205280963,
           -2.801522531201265,
           -2.836432290889833,
           -2.880516281194127,
           -2.916577594325339,
           -2.9094698080313677,
           -2.967898273425069,
           -3.0355124743759356,
           -3.0224318756847213,
           -3.0569517850374566,
           -3.0873479977184255,
           -3.079185313544734,
           -3.094814175191207,
           -3.082899721493311,
           -3.0560428033239155,
           -3.0589194454059716,
           -3.0023092696172506,
           -2.943289427141956,
           -2.8819385823110553
          ],
          [
           -3.00811742043552,
           -2.8507540688029795,
           -2.744096547076779,
           -2.682405441125264,
           -2.600806419443334,
           -2.5556408557199344,
           -2.517415009218022,
           -2.5008845811144025,
           -2.5174694760871685,
           -2.551140907792724,
           -2.542242494957898,
           -2.655772100043494,
           -2.7045337399551084,
           -2.752994505969861,
           -2.762149205956473,
           -2.816271978723941,
           -2.888115839294957,
           -2.9156247555824795,
           -2.927877640986444,
           -3.02237076341249,
           -3.04570877458312,
           -3.069640747604518,
           -3.113199794093006,
           -3.121677525977478,
           -3.1343214092679954,
           -3.1308832323629647,
           -3.1257033580857034,
           -3.096606395180865,
           -3.066820650696918,
           -3.0268326104305348,
           -2.9431889208141264,
           -2.870518732226288
          ],
          [
           -3.006312493473216,
           -2.7188327581015064,
           -2.6373886160162745,
           -2.521510055007404,
           -2.428431429018554,
           -2.4117375440378708,
           -2.3354260816428956,
           -2.347182593877415,
           -2.346210778282978,
           -2.404054366496217,
           -2.4753637938489907,
           -2.5373279804597213,
           -2.602144807237585,
           -2.6971399504370983,
           -2.772820415882931,
           -2.8000716133814247,
           -2.8761863926623237,
           -2.9037676639449668,
           -2.942948074677035,
           -2.994629526422451,
           -3.018591391543582,
           -3.0530131305145436,
           -3.0941035206409078,
           -3.0822677296071737,
           -3.153795933905947,
           -3.1319960104767555,
           -3.106915409081381,
           -3.09487754469317,
           -3.0423259905474183,
           -3.0033033914811815,
           -2.904958393779729,
           -2.812663597281045
          ],
          [
           -3.0523035191825545,
           -2.6661446710911627,
           -2.535677586916429,
           -2.4199076973791884,
           -2.354485491195516,
           -2.267709649563251,
           -2.246772250184042,
           -2.23626212573117,
           -2.270019237260311,
           -2.2789217147746585,
           -2.3716125282208496,
           -2.4822090947541127,
           -2.509244177075584,
           -2.6646254010168424,
           -2.707280749797963,
           -2.809530971906589,
           -2.8472672653874143,
           -2.89396044669598,
           -2.9408034042396753,
           -2.9364780278936173,
           -2.99443209530319,
           -3.041324032730822,
           -3.0293398651925605,
           -3.041515659094741,
           -3.0305134695804394,
           -3.056446266180562,
           -3.024567771091536,
           -2.983835375193701,
           -2.961894894287611,
           -2.900581519466358,
           -2.8059219160120166,
           -2.7473434628481725
          ],
          [
           -3.033262182043782,
           -2.6387850611667703,
           -2.4712330585066833,
           -2.4334767904596903,
           -2.3366987410462854,
           -2.261003886824526,
           -2.2152625487131283,
           -2.1864383542979473,
           -2.236075758057627,
           -2.2584566352359836,
           -2.334654481204049,
           -2.44816714722092,
           -2.5291121596325534,
           -2.6332236772427215,
           -2.698665839527423,
           -2.777740126526324,
           -2.8580722199621085,
           -2.8993487950812,
           -2.9123357635217673,
           -2.8792798967570605,
           -2.9224933221488882,
           -2.884551181886919,
           -2.931088377745612,
           -2.921904784565317,
           -2.9191511771155385,
           -2.91714393766113,
           -2.928282390566682,
           -2.910949514768021,
           -2.8568472450613838,
           -2.8072087140553936,
           -2.7341987099069063,
           -2.6630124339742522
          ],
          [
           -3.045,
           -2.71375,
           -2.6015,
           -2.55625,
           -2.47375,
           -2.3875,
           -2.35125,
           -2.362,
           -2.36325,
           -2.38325,
           -2.46675,
           -2.5785,
           -2.6335,
           -2.70825,
           -2.744,
           -2.84525,
           -2.8425,
           -2.869,
           -2.88775,
           -2.8785,
           -2.82975,
           -2.824,
           -2.8255,
           -2.809,
           -2.80125,
           -2.805,
           -2.8095,
           -2.7945,
           -2.7805,
           -2.77225,
           -2.751,
           -2.684
          ],
          [
           -3.050573605058132,
           -2.5844342392323916,
           -2.5367203294742464,
           -2.519315899398908,
           -2.402156855840394,
           -2.392651002881293,
           -2.3493142834819762,
           -2.361171498047957,
           -2.3994792158138445,
           -2.384579882736557,
           -2.480568631940562,
           -2.568717937460514,
           -2.655943929432919,
           -2.7211559302037847,
           -2.7820269048275104,
           -2.8147710846035836,
           -2.8116655190292716,
           -2.8389014224325932,
           -2.813438352043274,
           -2.7757586357681516,
           -2.7285600419569334,
           -2.667549653460729,
           -2.6615947785534884,
           -2.582728810652657,
           -2.5984296636012956,
           -2.5616080328709896,
           -2.5377559083853356,
           -2.5516667283479735,
           -2.5701890349677066,
           -2.5947468879692517,
           -2.587744811089073,
           -2.550450807094031
          ],
          [
           -3.0367491921653014,
           -2.6054590851028356,
           -2.607269686963895,
           -2.6101810906204657,
           -2.5614507562532367,
           -2.525823806278456,
           -2.556243777088215,
           -2.5412042405730273,
           -2.528979121637896,
           -2.5892843791815303,
           -2.638317699210729,
           -2.7116946103071102,
           -2.712957026586425,
           -2.770226114453551,
           -2.819423505780732,
           -2.846481089069179,
           -2.8366937521307394,
           -2.8102611130132895,
           -2.7828000992553736,
           -2.711236961932446,
           -2.6514504591108508,
           -2.5727685354687213,
           -2.4665414033943867,
           -2.475000664867601,
           -2.376574770786672,
           -2.367115317033051,
           -2.3654901030674877,
           -2.402599240760725,
           -2.3982967890729627,
           -2.4860670116438652,
           -2.514640710339511,
           -2.5490986299419434
          ],
          [
           -3.035013147688424,
           -2.693984261991351,
           -2.724771035654304,
           -2.7460745588049273,
           -2.7421985037550254,
           -2.757910507935311,
           -2.7601727345772726,
           -2.725802888550923,
           -2.7568318466656594,
           -2.726515581371369,
           -2.766022172795495,
           -2.819392034343459,
           -2.828836529311356,
           -2.8797939288290095,
           -2.882468099927387,
           -2.895534031420861,
           -2.883533937310559,
           -2.811443847636997,
           -2.809519779223316,
           -2.656802031120926,
           -2.584896534007216,
           -2.4801972809226704,
           -2.407331545721355,
           -2.34038847061943,
           -2.293325603835459,
           -2.3173998174774573,
           -2.3326193445904586,
           -2.325300485856146,
           -2.3769617281233595,
           -2.457586401602881,
           -2.521063257483697,
           -2.5716957207960243
          ],
          [
           -2.994743445678379,
           -2.7387791165051123,
           -2.8327904737394545,
           -2.8782196894987964,
           -2.8872328567705114,
           -2.880877292246269,
           -2.947086808535514,
           -2.917498769224022,
           -2.904915226347286,
           -2.9107475135305543,
           -2.93180735966347,
           -2.9673074433933704,
           -2.929443226285885,
           -2.9151212122805226,
           -2.9448928502198823,
           -2.879553602878872,
           -2.857932185376637,
           -2.8141661109667453,
           -2.7581523365098035,
           -2.642045382137588,
           -2.5754020960166426,
           -2.4164967675541416,
           -2.3162111192675736,
           -2.2713820434291954,
           -2.208934561908517,
           -2.180380534025135,
           -2.226364859463638,
           -2.258664652204937,
           -2.3028744013249134,
           -2.4479450205693025,
           -2.5110940907905395,
           -2.642105079780846
          ],
          [
           -2.9620927237453625,
           -2.864448330930388,
           -2.950313509675488,
           -3.0108757112073907,
           -3.035758024209412,
           -3.048552165190944,
           -3.08460839600492,
           -3.080303220380713,
           -3.0610692936655868,
           -3.033304379349831,
           -3.0403756448694934,
           -3.051248191399801,
           -3.0170021601403105,
           -2.9999281273301097,
           -2.957290240120769,
           -2.9376958563778204,
           -2.868330028925025,
           -2.8205598397266085,
           -2.752543367618284,
           -2.6572532342887043,
           -2.549267290232001,
           -2.448929568484882,
           -2.377078083445469,
           -2.2857076376084473,
           -2.2910858974676525,
           -2.238817120713674,
           -2.24027368223653,
           -2.3006549588496394,
           -2.35833991752137,
           -2.464199180162117,
           -2.5563021708205285,
           -2.7029971356352522
          ],
          [
           -2.962992947968734,
           -2.9064757800491487,
           -2.9992380691469354,
           -3.079130797363196,
           -3.1119306648826575,
           -3.1236346029996493,
           -3.129835234294566,
           -3.152100905848747,
           -3.1390650636408566,
           -3.111766285612102,
           -3.0892416455421277,
           -3.088827400346233,
           -3.016474447881788,
           -2.9952048331918446,
           -2.9995060776245714,
           -2.9379032304721457,
           -2.8947021632677306,
           -2.8574804531029003,
           -2.7843902336128474,
           -2.649973462724769,
           -2.618950809391265,
           -2.5177996912851226,
           -2.470605041073716,
           -2.3476714417772007,
           -2.330985449703895,
           -2.338845272480234,
           -2.3383276666516384,
           -2.383758729384984,
           -2.44909906538459,
           -2.540858528972494,
           -2.6494822391863355,
           -2.7677709359719094
          ],
          [
           -2.9583171071731647,
           -2.9354328508063365,
           -3.0311984835649257,
           -3.08338604247739,
           -3.1228653532555604,
           -3.1422530683428063,
           -3.159872667735185,
           -3.185859179412877,
           -3.156367402148337,
           -3.1334412766169595,
           -3.094568872886425,
           -3.088607187007094,
           -3.0597715299651655,
           -3.028013864252423,
           -2.9724275699904905,
           -2.92870493381354,
           -2.8773135434577752,
           -2.8335653598349735,
           -2.7982490229052357,
           -2.7277713739140768,
           -2.682558702492288,
           -2.577254644387623,
           -2.5107215450942273,
           -2.450399970732068,
           -2.4500143799970586,
           -2.4156725363352978,
           -2.457582118877168,
           -2.456745362749638,
           -2.552631149330613,
           -2.6265820072733828,
           -2.7314831190459143,
           -2.7987016069802197
          ],
          [
           -2.9483473377671303,
           -2.97461038809402,
           -2.997817191580183,
           -3.071545462239703,
           -3.094792222275029,
           -3.1032814844550822,
           -3.1076920124464533,
           -3.107686215448599,
           -3.115800956808161,
           -3.0820521701574943,
           -3.054208818450135,
           -3.0584744661602414,
           -3.0247498209790957,
           -3.011441890191232,
           -2.9371074371578434,
           -2.947267578185399,
           -2.8888956879146006,
           -2.890850989956837,
           -2.8260668231833876,
           -2.766711285831605,
           -2.741505284094896,
           -2.6826391964505385,
           -2.655832682419689,
           -2.6134331308410736,
           -2.6421271484010274,
           -2.586775603922519,
           -2.590707108608495,
           -2.6327713111680793,
           -2.6821243573116065,
           -2.7293619717554103,
           -2.7967392367428627,
           -2.847884722598746
          ],
          [
           -2.9439840986030665,
           -2.9735334906917603,
           -2.9947683367952402,
           -2.9948825575117257,
           -2.9803797593559715,
           -2.997009550835754,
           -2.968016360467372,
           -2.9784871129899164,
           -2.97931776095006,
           -2.981338838316292,
           -2.950495286816543,
           -3.0007359362480672,
           -2.9634913902918103,
           -2.919084941431179,
           -2.90987764712947,
           -2.9080441891423883,
           -2.9072029505079953,
           -2.9082334890165145,
           -2.880258622194981,
           -2.8725327689136564,
           -2.8378097714318704,
           -2.823425359440801,
           -2.802925364490436,
           -2.8073543682489883,
           -2.8060540006584556,
           -2.8127753780821103,
           -2.7947977945891336,
           -2.8299654750689913,
           -2.8162212024738107,
           -2.882708983322036,
           -2.865568879677918,
           -2.9177504708467445
          ]
         ]
        }
       ],
       "layout": {
        "scene": {
         "xaxis": {
          "title": {
           "text": "γ"
          }
         },
         "yaxis": {
          "title": {
           "text": "β"
          }
         },
         "zaxis": {
          "title": {
           "text": "F(γ,β)"
          }
         }
        },
        "template": {
         "data": {
          "bar": [
           {
            "error_x": {
             "color": "#2a3f5f"
            },
            "error_y": {
             "color": "#2a3f5f"
            },
            "marker": {
             "line": {
              "color": "#E5ECF6",
              "width": 0.5
             },
             "pattern": {
              "fillmode": "overlay",
              "size": 10,
              "solidity": 0.2
             }
            },
            "type": "bar"
           }
          ],
          "barpolar": [
           {
            "marker": {
             "line": {
              "color": "#E5ECF6",
              "width": 0.5
             },
             "pattern": {
              "fillmode": "overlay",
              "size": 10,
              "solidity": 0.2
             }
            },
            "type": "barpolar"
           }
          ],
          "carpet": [
           {
            "aaxis": {
             "endlinecolor": "#2a3f5f",
             "gridcolor": "white",
             "linecolor": "white",
             "minorgridcolor": "white",
             "startlinecolor": "#2a3f5f"
            },
            "baxis": {
             "endlinecolor": "#2a3f5f",
             "gridcolor": "white",
             "linecolor": "white",
             "minorgridcolor": "white",
             "startlinecolor": "#2a3f5f"
            },
            "type": "carpet"
           }
          ],
          "choropleth": [
           {
            "colorbar": {
             "outlinewidth": 0,
             "ticks": ""
            },
            "type": "choropleth"
           }
          ],
          "contour": [
           {
            "colorbar": {
             "outlinewidth": 0,
             "ticks": ""
            },
            "colorscale": [
             [
              0,
              "#0d0887"
             ],
             [
              0.1111111111111111,
              "#46039f"
             ],
             [
              0.2222222222222222,
              "#7201a8"
             ],
             [
              0.3333333333333333,
              "#9c179e"
             ],
             [
              0.4444444444444444,
              "#bd3786"
             ],
             [
              0.5555555555555556,
              "#d8576b"
             ],
             [
              0.6666666666666666,
              "#ed7953"
             ],
             [
              0.7777777777777778,
              "#fb9f3a"
             ],
             [
              0.8888888888888888,
              "#fdca26"
             ],
             [
              1,
              "#f0f921"
             ]
            ],
            "type": "contour"
           }
          ],
          "contourcarpet": [
           {
            "colorbar": {
             "outlinewidth": 0,
             "ticks": ""
            },
            "type": "contourcarpet"
           }
          ],
          "heatmap": [
           {
            "colorbar": {
             "outlinewidth": 0,
             "ticks": ""
            },
            "colorscale": [
             [
              0,
              "#0d0887"
             ],
             [
              0.1111111111111111,
              "#46039f"
             ],
             [
              0.2222222222222222,
              "#7201a8"
             ],
             [
              0.3333333333333333,
              "#9c179e"
             ],
             [
              0.4444444444444444,
              "#bd3786"
             ],
             [
              0.5555555555555556,
              "#d8576b"
             ],
             [
              0.6666666666666666,
              "#ed7953"
             ],
             [
              0.7777777777777778,
              "#fb9f3a"
             ],
             [
              0.8888888888888888,
              "#fdca26"
             ],
             [
              1,
              "#f0f921"
             ]
            ],
            "type": "heatmap"
           }
          ],
          "heatmapgl": [
           {
            "colorbar": {
             "outlinewidth": 0,
             "ticks": ""
            },
            "colorscale": [
             [
              0,
              "#0d0887"
             ],
             [
              0.1111111111111111,
              "#46039f"
             ],
             [
              0.2222222222222222,
              "#7201a8"
             ],
             [
              0.3333333333333333,
              "#9c179e"
             ],
             [
              0.4444444444444444,
              "#bd3786"
             ],
             [
              0.5555555555555556,
              "#d8576b"
             ],
             [
              0.6666666666666666,
              "#ed7953"
             ],
             [
              0.7777777777777778,
              "#fb9f3a"
             ],
             [
              0.8888888888888888,
              "#fdca26"
             ],
             [
              1,
              "#f0f921"
             ]
            ],
            "type": "heatmapgl"
           }
          ],
          "histogram": [
           {
            "marker": {
             "pattern": {
              "fillmode": "overlay",
              "size": 10,
              "solidity": 0.2
             }
            },
            "type": "histogram"
           }
          ],
          "histogram2d": [
           {
            "colorbar": {
             "outlinewidth": 0,
             "ticks": ""
            },
            "colorscale": [
             [
              0,
              "#0d0887"
             ],
             [
              0.1111111111111111,
              "#46039f"
             ],
             [
              0.2222222222222222,
              "#7201a8"
             ],
             [
              0.3333333333333333,
              "#9c179e"
             ],
             [
              0.4444444444444444,
              "#bd3786"
             ],
             [
              0.5555555555555556,
              "#d8576b"
             ],
             [
              0.6666666666666666,
              "#ed7953"
             ],
             [
              0.7777777777777778,
              "#fb9f3a"
             ],
             [
              0.8888888888888888,
              "#fdca26"
             ],
             [
              1,
              "#f0f921"
             ]
            ],
            "type": "histogram2d"
           }
          ],
          "histogram2dcontour": [
           {
            "colorbar": {
             "outlinewidth": 0,
             "ticks": ""
            },
            "colorscale": [
             [
              0,
              "#0d0887"
             ],
             [
              0.1111111111111111,
              "#46039f"
             ],
             [
              0.2222222222222222,
              "#7201a8"
             ],
             [
              0.3333333333333333,
              "#9c179e"
             ],
             [
              0.4444444444444444,
              "#bd3786"
             ],
             [
              0.5555555555555556,
              "#d8576b"
             ],
             [
              0.6666666666666666,
              "#ed7953"
             ],
             [
              0.7777777777777778,
              "#fb9f3a"
             ],
             [
              0.8888888888888888,
              "#fdca26"
             ],
             [
              1,
              "#f0f921"
             ]
            ],
            "type": "histogram2dcontour"
           }
          ],
          "mesh3d": [
           {
            "colorbar": {
             "outlinewidth": 0,
             "ticks": ""
            },
            "type": "mesh3d"
           }
          ],
          "parcoords": [
           {
            "line": {
             "colorbar": {
              "outlinewidth": 0,
              "ticks": ""
             }
            },
            "type": "parcoords"
           }
          ],
          "pie": [
           {
            "automargin": true,
            "type": "pie"
           }
          ],
          "scatter": [
           {
            "marker": {
             "colorbar": {
              "outlinewidth": 0,
              "ticks": ""
             }
            },
            "type": "scatter"
           }
          ],
          "scatter3d": [
           {
            "line": {
             "colorbar": {
              "outlinewidth": 0,
              "ticks": ""
             }
            },
            "marker": {
             "colorbar": {
              "outlinewidth": 0,
              "ticks": ""
             }
            },
            "type": "scatter3d"
           }
          ],
          "scattercarpet": [
           {
            "marker": {
             "colorbar": {
              "outlinewidth": 0,
              "ticks": ""
             }
            },
            "type": "scattercarpet"
           }
          ],
          "scattergeo": [
           {
            "marker": {
             "colorbar": {
              "outlinewidth": 0,
              "ticks": ""
             }
            },
            "type": "scattergeo"
           }
          ],
          "scattergl": [
           {
            "marker": {
             "colorbar": {
              "outlinewidth": 0,
              "ticks": ""
             }
            },
            "type": "scattergl"
           }
          ],
          "scattermapbox": [
           {
            "marker": {
             "colorbar": {
              "outlinewidth": 0,
              "ticks": ""
             }
            },
            "type": "scattermapbox"
           }
          ],
          "scatterpolar": [
           {
            "marker": {
             "colorbar": {
              "outlinewidth": 0,
              "ticks": ""
             }
            },
            "type": "scatterpolar"
           }
          ],
          "scatterpolargl": [
           {
            "marker": {
             "colorbar": {
              "outlinewidth": 0,
              "ticks": ""
             }
            },
            "type": "scatterpolargl"
           }
          ],
          "scatterternary": [
           {
            "marker": {
             "colorbar": {
              "outlinewidth": 0,
              "ticks": ""
             }
            },
            "type": "scatterternary"
           }
          ],
          "surface": [
           {
            "colorbar": {
             "outlinewidth": 0,
             "ticks": ""
            },
            "colorscale": [
             [
              0,
              "#0d0887"
             ],
             [
              0.1111111111111111,
              "#46039f"
             ],
             [
              0.2222222222222222,
              "#7201a8"
             ],
             [
              0.3333333333333333,
              "#9c179e"
             ],
             [
              0.4444444444444444,
              "#bd3786"
             ],
             [
              0.5555555555555556,
              "#d8576b"
             ],
             [
              0.6666666666666666,
              "#ed7953"
             ],
             [
              0.7777777777777778,
              "#fb9f3a"
             ],
             [
              0.8888888888888888,
              "#fdca26"
             ],
             [
              1,
              "#f0f921"
             ]
            ],
            "type": "surface"
           }
          ],
          "table": [
           {
            "cells": {
             "fill": {
              "color": "#EBF0F8"
             },
             "line": {
              "color": "white"
             }
            },
            "header": {
             "fill": {
              "color": "#C8D4E3"
             },
             "line": {
              "color": "white"
             }
            },
            "type": "table"
           }
          ]
         },
         "layout": {
          "annotationdefaults": {
           "arrowcolor": "#2a3f5f",
           "arrowhead": 0,
           "arrowwidth": 1
          },
          "autotypenumbers": "strict",
          "coloraxis": {
           "colorbar": {
            "outlinewidth": 0,
            "ticks": ""
           }
          },
          "colorscale": {
           "diverging": [
            [
             0,
             "#8e0152"
            ],
            [
             0.1,
             "#c51b7d"
            ],
            [
             0.2,
             "#de77ae"
            ],
            [
             0.3,
             "#f1b6da"
            ],
            [
             0.4,
             "#fde0ef"
            ],
            [
             0.5,
             "#f7f7f7"
            ],
            [
             0.6,
             "#e6f5d0"
            ],
            [
             0.7,
             "#b8e186"
            ],
            [
             0.8,
             "#7fbc41"
            ],
            [
             0.9,
             "#4d9221"
            ],
            [
             1,
             "#276419"
            ]
           ],
           "sequential": [
            [
             0,
             "#0d0887"
            ],
            [
             0.1111111111111111,
             "#46039f"
            ],
            [
             0.2222222222222222,
             "#7201a8"
            ],
            [
             0.3333333333333333,
             "#9c179e"
            ],
            [
             0.4444444444444444,
             "#bd3786"
            ],
            [
             0.5555555555555556,
             "#d8576b"
            ],
            [
             0.6666666666666666,
             "#ed7953"
            ],
            [
             0.7777777777777778,
             "#fb9f3a"
            ],
            [
             0.8888888888888888,
             "#fdca26"
            ],
            [
             1,
             "#f0f921"
            ]
           ],
           "sequentialminus": [
            [
             0,
             "#0d0887"
            ],
            [
             0.1111111111111111,
             "#46039f"
            ],
            [
             0.2222222222222222,
             "#7201a8"
            ],
            [
             0.3333333333333333,
             "#9c179e"
            ],
            [
             0.4444444444444444,
             "#bd3786"
            ],
            [
             0.5555555555555556,
             "#d8576b"
            ],
            [
             0.6666666666666666,
             "#ed7953"
            ],
            [
             0.7777777777777778,
             "#fb9f3a"
            ],
            [
             0.8888888888888888,
             "#fdca26"
            ],
            [
             1,
             "#f0f921"
            ]
           ]
          },
          "colorway": [
           "#636efa",
           "#EF553B",
           "#00cc96",
           "#ab63fa",
           "#FFA15A",
           "#19d3f3",
           "#FF6692",
           "#B6E880",
           "#FF97FF",
           "#FECB52"
          ],
          "font": {
           "color": "#2a3f5f"
          },
          "geo": {
           "bgcolor": "white",
           "lakecolor": "white",
           "landcolor": "#E5ECF6",
           "showlakes": true,
           "showland": true,
           "subunitcolor": "white"
          },
          "hoverlabel": {
           "align": "left"
          },
          "hovermode": "closest",
          "mapbox": {
           "style": "light"
          },
          "paper_bgcolor": "white",
          "plot_bgcolor": "#E5ECF6",
          "polar": {
           "angularaxis": {
            "gridcolor": "white",
            "linecolor": "white",
            "ticks": ""
           },
           "bgcolor": "#E5ECF6",
           "radialaxis": {
            "gridcolor": "white",
            "linecolor": "white",
            "ticks": ""
           }
          },
          "scene": {
           "xaxis": {
            "backgroundcolor": "#E5ECF6",
            "gridcolor": "white",
            "gridwidth": 2,
            "linecolor": "white",
            "showbackground": true,
            "ticks": "",
            "zerolinecolor": "white"
           },
           "yaxis": {
            "backgroundcolor": "#E5ECF6",
            "gridcolor": "white",
            "gridwidth": 2,
            "linecolor": "white",
            "showbackground": true,
            "ticks": "",
            "zerolinecolor": "white"
           },
           "zaxis": {
            "backgroundcolor": "#E5ECF6",
            "gridcolor": "white",
            "gridwidth": 2,
            "linecolor": "white",
            "showbackground": true,
            "ticks": "",
            "zerolinecolor": "white"
           }
          },
          "shapedefaults": {
           "line": {
            "color": "#2a3f5f"
           }
          },
          "ternary": {
           "aaxis": {
            "gridcolor": "white",
            "linecolor": "white",
            "ticks": ""
           },
           "baxis": {
            "gridcolor": "white",
            "linecolor": "white",
            "ticks": ""
           },
           "bgcolor": "#E5ECF6",
           "caxis": {
            "gridcolor": "white",
            "linecolor": "white",
            "ticks": ""
           }
          },
          "title": {
           "x": 0.05
          },
          "xaxis": {
           "automargin": true,
           "gridcolor": "white",
           "linecolor": "white",
           "ticks": "",
           "title": {
            "standoff": 15
           },
           "zerolinecolor": "white",
           "zerolinewidth": 2
          },
          "yaxis": {
           "automargin": true,
           "gridcolor": "white",
           "linecolor": "white",
           "ticks": "",
           "title": {
            "standoff": 15
           },
           "zerolinecolor": "white",
           "zerolinewidth": 2
          }
         }
        },
        "title": {
         "text": "QAOA MaxCut"
        }
       }
      },
      "text/html": [
       "<div>                            <div id=\"89a07a7a-195b-4465-acaf-78b7c800f658\" class=\"plotly-graph-div\" style=\"height:525px; width:100%;\"></div>            <script type=\"text/javascript\">                require([\"plotly\"], function(Plotly) {                    window.PLOTLYENV=window.PLOTLYENV || {};                                    if (document.getElementById(\"89a07a7a-195b-4465-acaf-78b7c800f658\")) {                    Plotly.newPlot(                        \"89a07a7a-195b-4465-acaf-78b7c800f658\",                        [{\"contours\":{\"z\":{\"highlightcolor\":\"limegreen\",\"project\":{\"z\":true},\"show\":true,\"usecolormap\":true}},\"type\":\"surface\",\"x\":[0.0,0.1,0.2,0.30000000000000004,0.4,0.5,0.6000000000000001,0.7000000000000001,0.8,0.9,1.0,1.1,1.2000000000000002,1.3,1.4000000000000001,1.5,1.6,1.7000000000000002,1.8,1.9000000000000001,2.0,2.1,2.2,2.3000000000000003,2.4000000000000004,2.5,2.6,2.7,2.8000000000000003,2.9000000000000004,3.0,3.1],\"y\":[0.0,0.1,0.2,0.30000000000000004,0.4,0.5,0.6000000000000001,0.7000000000000001,0.8,0.9,1.0,1.1,1.2000000000000002,1.3,1.4000000000000001,1.5,1.6,1.7000000000000002,1.8,1.9000000000000001,2.0,2.1,2.2,2.3000000000000003,2.4000000000000004,2.5,2.6,2.7,2.8000000000000003,2.9000000000000004,3.0,3.1],\"z\":[[-2.969,-2.9905,-2.99975,-2.97575,-2.94725,-2.94925,-2.94725,-2.937,-2.95525,-2.918,-2.91775,-2.93,-2.9105,-2.917,-2.9,-2.87475,-2.89,-2.91225,-2.91525,-2.9215,-2.894,-2.86075,-2.8815,-2.85425,-2.8875,-2.8775,-2.86575,-2.85275,-2.857,-2.8915,-2.887,-2.90225],[-2.9998669726811533,-2.954575172732612,-2.875703154196649,-2.862357472643128,-2.82210834442595,-2.7738796060643542,-2.7613155315847004,-2.779542040472178,-2.771670427345046,-2.7324794108198867,-2.7960202679357344,-2.8103906864234625,-2.812391693664786,-2.845171757886473,-2.8363569654802476,-2.8760881479296083,-2.9136854822384732,-2.9100351439545165,-2.9093960364324123,-2.9574968146553906,-2.9843543692838654,-2.9932847801271776,-3.0170635100823344,-3.0232893610842355,-3.0383563455330393,-3.056846390456944,-3.0137591312358447,-3.0109506048750965,-3.0292444392791293,-2.951645415130819,-2.9697276164202355,-2.9172578759710905],[-2.9625533860796955,-2.852770092492939,-2.776115779318604,-2.7302455061013116,-2.6874960929278187,-2.6238746060799567,-2.5837477513099274,-2.5516734787971007,-2.5699348577744026,-2.581929061661866,-2.620984483711027,-2.6763426452181345,-2.7036930979079035,-2.745766435539329,-2.8046474245030195,-2.819178948304089,-2.881289821197224,-2.916598024498103,-2.980683418841528,-2.988549107031308,-3.01988313056637,-3.096851867963215,-3.1060117823141655,-3.1285468894083297,-3.158916215932994,-3.17278376500763,-3.15933570931132,-3.1282428666984887,-3.0893841879845056,-3.0266025878208924,-2.964656798885265,-2.888345851379782],[-2.9715584072863663,-2.8156858045449566,-2.6871068907606253,-2.6143676751039737,-2.519558455897864,-2.438990183686157,-2.408980856569936,-2.379558475676066,-2.39637913677775,-2.406379733016551,-2.4767060160995413,-2.551981086321215,-2.6376906074806574,-2.658578084385206,-2.7286846837721734,-2.775532301585136,-2.8551183097863944,-2.943327880954193,-2.9686458829587767,-3.000827081340345,-3.096677531254681,-3.0773774717099447,-3.121639283326477,-3.185463085440394,-3.1945649730647436,-3.1647701760621825,-3.209915809318058,-3.1768741677502765,-3.120864504934266,-3.069391787653031,-2.9606729918271992,-2.867796843249658],[-3.035416586792809,-2.8061909866583665,-2.6371321895753845,-2.485259526421848,-2.4423769059953835,-2.3458568018208728,-2.272173011158448,-2.264592870507608,-2.2815293836233557,-2.3223579590243797,-2.3748913576162534,-2.4761985942075175,-2.521733279553445,-2.6344337704595,-2.7151297012453464,-2.774888815198819,-2.8665038830063785,-2.9143346871511375,-2.948014023220073,-2.996184255375604,-3.029248724567408,-3.0737664790008816,-3.1093237783525405,-3.121757788559194,-3.1421202375446176,-3.125375047268464,-3.1533368311132746,-3.121305238040075,-3.057721721669876,-3.013463862276463,-2.9216151352519697,-2.8014994447807138],[-3.012623678373946,-2.7435274261677716,-2.6060575162714574,-2.503347271908727,-2.394903631908003,-2.312055400361798,-2.2730832793515834,-2.239305722775363,-2.2552907754242972,-2.2864961373880717,-2.3511939677393405,-2.4257982908740696,-2.5175459646375162,-2.623004215483077,-2.6931728391000447,-2.7797417891333667,-2.8241001003436055,-2.860844947122055,-2.923482027229113,-2.9508643399834886,-3.001929504271391,-3.000253690210029,-2.9887483360041793,-3.0125023428024162,-3.0441558618431497,-3.029605918793909,-3.025267800380076,-3.020358597001323,-2.970138438589485,-2.9295908330223868,-2.8606155061394536,-2.7561988899574708],[-3.0551553981401662,-2.673960103758012,-2.57797526710292,-2.487020669966392,-2.3919921561356987,-2.316308418203028,-2.2758563977845534,-2.2960571918610864,-2.284478009440754,-2.2939294707683353,-2.367292979657358,-2.4629269759196357,-2.5564172409093473,-2.62372481716807,-2.7389673791605746,-2.828348094283077,-2.868941702071694,-2.87090598432186,-2.886763136379655,-2.8986640290085988,-2.8777600280410853,-2.893195457736541,-2.860496410301687,-2.845089944698245,-2.855658576162142,-2.8724564640808854,-2.852020982024393,-2.852427577110988,-2.8070706268994337,-2.7933627580320084,-2.76863233193656,-2.6802780162065303],[-3.048022829595468,-2.7125031737306147,-2.6392624647770266,-2.593448936678199,-2.462699437731214,-2.4590807662877214,-2.3940851995966708,-2.359274093931668,-2.362920388606404,-2.393631717473458,-2.47386681481561,-2.5461203484427335,-2.613659831972703,-2.693969668221759,-2.748258104300819,-2.790323023062567,-2.825152919622157,-2.85276229754772,-2.8456840560600023,-2.8114252876266237,-2.7888987735430333,-2.760347473519825,-2.730707273578489,-2.6926298341152166,-2.690318175361488,-2.6992242508936535,-2.7021244783063985,-2.719635270959104,-2.660913835385255,-2.7084024764806096,-2.713305600760481,-2.650314432810048],[-3.037601830807256,-2.72080039227718,-2.679046942046664,-2.67555835221625,-2.6027493509566924,-2.570607199688394,-2.5027372508745005,-2.5118822815416024,-2.5190198897051688,-2.528358064690079,-2.577057062179979,-2.6207354905399414,-2.6896565154400496,-2.7311229640828425,-2.7784617365071362,-2.836917890124205,-2.8295832414989492,-2.818193310064398,-2.7983999804803563,-2.7326365781138207,-2.7098172705283954,-2.634562329095097,-2.5670273977148343,-2.5538557882222097,-2.529221981971534,-2.502792350843289,-2.483996879839712,-2.5135067694588034,-2.5193036889991385,-2.580887127540125,-2.6213451962263563,-2.6252444134117647],[-3.0167907898894892,-2.7148425855478844,-2.7710195031313005,-2.7533028187039776,-2.7539427990555656,-2.7327957637538542,-2.745592076224085,-2.683913916786746,-2.68319389896276,-2.706164896268406,-2.7263398142636475,-2.7665092054945664,-2.8319018584744104,-2.8318987331411813,-2.829018810558847,-2.8598126931751873,-2.8852735613158322,-2.817885923907419,-2.7473258691303197,-2.710685119400662,-2.6161021458199256,-2.5494092095590397,-2.447793642602012,-2.3942976018446833,-2.3547445352816045,-2.3381440403641665,-2.3711915184470818,-2.4068636809563695,-2.441002953189593,-2.503884903693582,-2.5859084719667766,-2.608103479155371],[-3.009514467244371,-2.8142197755786227,-2.8202918738189466,-2.8846842879887262,-2.868172205333591,-2.915951620864448,-2.9111680070758243,-2.8963393573313674,-2.8939070239786244,-2.895929810253618,-2.9013741307738634,-2.89161568566504,-2.8919807774937705,-2.932146480014684,-2.911723137017722,-2.90565227244783,-2.8593823611878184,-2.7970007998379987,-2.777027913864227,-2.6425032816930893,-2.5878993075288617,-2.485427812606111,-2.3957910045805106,-2.3338521885294257,-2.265836290018589,-2.29668541853363,-2.281917149729219,-2.317410404992262,-2.3625663998559054,-2.458105035323976,-2.5241741354591922,-2.6275739839346732],[-3.01525,-2.866,-2.92475,-2.948,-3.00325,-3.01425,-3.04225,-3.0395,-3.06125,-3.03025,-3.0145,-2.99675,-2.97425,-2.98975,-2.96675,-2.94525,-2.872,-2.8195,-2.7405,-2.698,-2.6055,-2.49375,-2.42375,-2.393,-2.3575,-2.299,-2.3255,-2.3665,-2.39225,-2.4835,-2.5705,-2.65575],[-2.9511508125151686,-2.9107216425247677,-2.9684330295553516,-3.062168902853431,-3.1152920869163316,-3.139607197561271,-3.1625554342800313,-3.143892550035942,-3.1634890263264808,-3.1299595798408597,-3.0681495464659077,-3.0833947729035547,-3.0483870491797282,-3.028549767008266,-3.0046552710887453,-2.957515275347979,-2.884000598234599,-2.8575420960119717,-2.7569951182508583,-2.6470245208993655,-2.657236895885471,-2.5037681428000056,-2.4157570933800763,-2.404968330608313,-2.322809215465881,-2.320368679546427,-2.312701929961689,-2.353562915278446,-2.413276755486239,-2.4648814009048454,-2.594425550832842,-2.7245608741181693],[-2.9923628501185737,-2.9411010970291147,-3.045140996655923,-3.1052467884234414,-3.1416475251870644,-3.159269471704843,-3.1871962965219343,-3.169100159813737,-3.1852844293259044,-3.114862869231016,-3.124575113150792,-3.0639689526236866,-3.0607166898892064,-3.011719768548349,-2.9722678695494724,-2.933520765828534,-2.8918736787956174,-2.8195117041716484,-2.785519000744127,-2.692001603489269,-2.668796378930223,-2.619102836400558,-2.5049136130818312,-2.490463892197836,-2.4480975771725837,-2.4445470894800883,-2.4731065444469262,-2.4830294800116666,-2.5226761200416163,-2.644449910407418,-2.6875163290789246,-2.735793797840051],[-2.9324428104131277,-2.990218487732634,-3.0166173210084186,-3.093050341371817,-3.1223483848049427,-3.1524274306286806,-3.1603345944777885,-3.161946279082473,-3.1597004487677784,-3.1278197312477225,-3.0940173093670875,-3.061169237351476,-3.0416644084574966,-3.0203082936177297,-2.9447241967918085,-2.912903867210821,-2.8925282955433564,-2.877645637646255,-2.801430215218677,-2.7478609610794793,-2.75202986079343,-2.717252279185899,-2.6545650340994276,-2.6634672469493106,-2.6420840313121987,-2.587357457376239,-2.5905680122787325,-2.641313253705213,-2.6580249153084687,-2.7078118750579,-2.76461788620019,-2.855275238018417],[-2.9592865570700475,-2.9777742140908545,-2.9959302605730906,-3.0142239892197837,-3.0260463070735404,-3.034195655979991,-3.024855693545124,-3.0247007600939124,-3.0352578747503145,-3.01150661609818,-2.9908735929686667,-2.9871503001171567,-2.9759650010907595,-2.950930895096667,-2.933816461758602,-2.9172720771138505,-2.9117720954988955,-2.8666389472730023,-2.876384614051613,-2.846526827055041,-2.8431454275772343,-2.8354918637515705,-2.822365312072261,-2.8113290312596106,-2.785252059506298,-2.7995917890477946,-2.7975514729855675,-2.8023259148430304,-2.8285409384476745,-2.8445883044859595,-2.8464850804817328,-2.8854492482230527],[-2.967596981199883,-2.920311132905826,-2.949276985644182,-2.92427854869905,-2.888912384798897,-2.9047852641129452,-2.874860702750954,-2.853626793209024,-2.8862706837724192,-2.880212166770136,-2.882878618794894,-2.877898481144251,-2.897173585082554,-2.8878347820245724,-2.873234323816357,-2.8979787972675775,-2.9045445824549505,-2.9148483447387123,-2.8968886267727783,-2.9440439401169933,-2.9435682871817295,-2.9272246096539623,-2.935560357013763,-2.980241911981194,-2.9740760894742437,-2.951447597262862,-2.9360314556691867,-2.954619578689824,-2.9653233642669243,-2.928028313959611,-2.9105460225238637,-2.894233021422771],[-2.99169286375924,-2.917867751318664,-2.880368544675068,-2.8097023034559143,-2.729915838963785,-2.71982785159271,-2.6971621977771396,-2.6768875680192945,-2.6913353539824527,-2.678548091060742,-2.7025783021735665,-2.74934986185308,-2.7202350955060557,-2.8056173205280963,-2.801522531201265,-2.836432290889833,-2.880516281194127,-2.916577594325339,-2.9094698080313677,-2.967898273425069,-3.0355124743759356,-3.0224318756847213,-3.0569517850374566,-3.0873479977184255,-3.079185313544734,-3.094814175191207,-3.082899721493311,-3.0560428033239155,-3.0589194454059716,-3.0023092696172506,-2.943289427141956,-2.8819385823110553],[-3.00811742043552,-2.8507540688029795,-2.744096547076779,-2.682405441125264,-2.600806419443334,-2.5556408557199344,-2.517415009218022,-2.5008845811144025,-2.5174694760871685,-2.551140907792724,-2.542242494957898,-2.655772100043494,-2.7045337399551084,-2.752994505969861,-2.762149205956473,-2.816271978723941,-2.888115839294957,-2.9156247555824795,-2.927877640986444,-3.02237076341249,-3.04570877458312,-3.069640747604518,-3.113199794093006,-3.121677525977478,-3.1343214092679954,-3.1308832323629647,-3.1257033580857034,-3.096606395180865,-3.066820650696918,-3.0268326104305348,-2.9431889208141264,-2.870518732226288],[-3.006312493473216,-2.7188327581015064,-2.6373886160162745,-2.521510055007404,-2.428431429018554,-2.4117375440378708,-2.3354260816428956,-2.347182593877415,-2.346210778282978,-2.404054366496217,-2.4753637938489907,-2.5373279804597213,-2.602144807237585,-2.6971399504370983,-2.772820415882931,-2.8000716133814247,-2.8761863926623237,-2.9037676639449668,-2.942948074677035,-2.994629526422451,-3.018591391543582,-3.0530131305145436,-3.0941035206409078,-3.0822677296071737,-3.153795933905947,-3.1319960104767555,-3.106915409081381,-3.09487754469317,-3.0423259905474183,-3.0033033914811815,-2.904958393779729,-2.812663597281045],[-3.0523035191825545,-2.6661446710911627,-2.535677586916429,-2.4199076973791884,-2.354485491195516,-2.267709649563251,-2.246772250184042,-2.23626212573117,-2.270019237260311,-2.2789217147746585,-2.3716125282208496,-2.4822090947541127,-2.509244177075584,-2.6646254010168424,-2.707280749797963,-2.809530971906589,-2.8472672653874143,-2.89396044669598,-2.9408034042396753,-2.9364780278936173,-2.99443209530319,-3.041324032730822,-3.0293398651925605,-3.041515659094741,-3.0305134695804394,-3.056446266180562,-3.024567771091536,-2.983835375193701,-2.961894894287611,-2.900581519466358,-2.8059219160120166,-2.7473434628481725],[-3.033262182043782,-2.6387850611667703,-2.4712330585066833,-2.4334767904596903,-2.3366987410462854,-2.261003886824526,-2.2152625487131283,-2.1864383542979473,-2.236075758057627,-2.2584566352359836,-2.334654481204049,-2.44816714722092,-2.5291121596325534,-2.6332236772427215,-2.698665839527423,-2.777740126526324,-2.8580722199621085,-2.8993487950812,-2.9123357635217673,-2.8792798967570605,-2.9224933221488882,-2.884551181886919,-2.931088377745612,-2.921904784565317,-2.9191511771155385,-2.91714393766113,-2.928282390566682,-2.910949514768021,-2.8568472450613838,-2.8072087140553936,-2.7341987099069063,-2.6630124339742522],[-3.045,-2.71375,-2.6015,-2.55625,-2.47375,-2.3875,-2.35125,-2.362,-2.36325,-2.38325,-2.46675,-2.5785,-2.6335,-2.70825,-2.744,-2.84525,-2.8425,-2.869,-2.88775,-2.8785,-2.82975,-2.824,-2.8255,-2.809,-2.80125,-2.805,-2.8095,-2.7945,-2.7805,-2.77225,-2.751,-2.684],[-3.050573605058132,-2.5844342392323916,-2.5367203294742464,-2.519315899398908,-2.402156855840394,-2.392651002881293,-2.3493142834819762,-2.361171498047957,-2.3994792158138445,-2.384579882736557,-2.480568631940562,-2.568717937460514,-2.655943929432919,-2.7211559302037847,-2.7820269048275104,-2.8147710846035836,-2.8116655190292716,-2.8389014224325932,-2.813438352043274,-2.7757586357681516,-2.7285600419569334,-2.667549653460729,-2.6615947785534884,-2.582728810652657,-2.5984296636012956,-2.5616080328709896,-2.5377559083853356,-2.5516667283479735,-2.5701890349677066,-2.5947468879692517,-2.587744811089073,-2.550450807094031],[-3.0367491921653014,-2.6054590851028356,-2.607269686963895,-2.6101810906204657,-2.5614507562532367,-2.525823806278456,-2.556243777088215,-2.5412042405730273,-2.528979121637896,-2.5892843791815303,-2.638317699210729,-2.7116946103071102,-2.712957026586425,-2.770226114453551,-2.819423505780732,-2.846481089069179,-2.8366937521307394,-2.8102611130132895,-2.7828000992553736,-2.711236961932446,-2.6514504591108508,-2.5727685354687213,-2.4665414033943867,-2.475000664867601,-2.376574770786672,-2.367115317033051,-2.3654901030674877,-2.402599240760725,-2.3982967890729627,-2.4860670116438652,-2.514640710339511,-2.5490986299419434],[-3.035013147688424,-2.693984261991351,-2.724771035654304,-2.7460745588049273,-2.7421985037550254,-2.757910507935311,-2.7601727345772726,-2.725802888550923,-2.7568318466656594,-2.726515581371369,-2.766022172795495,-2.819392034343459,-2.828836529311356,-2.8797939288290095,-2.882468099927387,-2.895534031420861,-2.883533937310559,-2.811443847636997,-2.809519779223316,-2.656802031120926,-2.584896534007216,-2.4801972809226704,-2.407331545721355,-2.34038847061943,-2.293325603835459,-2.3173998174774573,-2.3326193445904586,-2.325300485856146,-2.3769617281233595,-2.457586401602881,-2.521063257483697,-2.5716957207960243],[-2.994743445678379,-2.7387791165051123,-2.8327904737394545,-2.8782196894987964,-2.8872328567705114,-2.880877292246269,-2.947086808535514,-2.917498769224022,-2.904915226347286,-2.9107475135305543,-2.93180735966347,-2.9673074433933704,-2.929443226285885,-2.9151212122805226,-2.9448928502198823,-2.879553602878872,-2.857932185376637,-2.8141661109667453,-2.7581523365098035,-2.642045382137588,-2.5754020960166426,-2.4164967675541416,-2.3162111192675736,-2.2713820434291954,-2.208934561908517,-2.180380534025135,-2.226364859463638,-2.258664652204937,-2.3028744013249134,-2.4479450205693025,-2.5110940907905395,-2.642105079780846],[-2.9620927237453625,-2.864448330930388,-2.950313509675488,-3.0108757112073907,-3.035758024209412,-3.048552165190944,-3.08460839600492,-3.080303220380713,-3.0610692936655868,-3.033304379349831,-3.0403756448694934,-3.051248191399801,-3.0170021601403105,-2.9999281273301097,-2.957290240120769,-2.9376958563778204,-2.868330028925025,-2.8205598397266085,-2.752543367618284,-2.6572532342887043,-2.549267290232001,-2.448929568484882,-2.377078083445469,-2.2857076376084473,-2.2910858974676525,-2.238817120713674,-2.24027368223653,-2.3006549588496394,-2.35833991752137,-2.464199180162117,-2.5563021708205285,-2.7029971356352522],[-2.962992947968734,-2.9064757800491487,-2.9992380691469354,-3.079130797363196,-3.1119306648826575,-3.1236346029996493,-3.129835234294566,-3.152100905848747,-3.1390650636408566,-3.111766285612102,-3.0892416455421277,-3.088827400346233,-3.016474447881788,-2.9952048331918446,-2.9995060776245714,-2.9379032304721457,-2.8947021632677306,-2.8574804531029003,-2.7843902336128474,-2.649973462724769,-2.618950809391265,-2.5177996912851226,-2.470605041073716,-2.3476714417772007,-2.330985449703895,-2.338845272480234,-2.3383276666516384,-2.383758729384984,-2.44909906538459,-2.540858528972494,-2.6494822391863355,-2.7677709359719094],[-2.9583171071731647,-2.9354328508063365,-3.0311984835649257,-3.08338604247739,-3.1228653532555604,-3.1422530683428063,-3.159872667735185,-3.185859179412877,-3.156367402148337,-3.1334412766169595,-3.094568872886425,-3.088607187007094,-3.0597715299651655,-3.028013864252423,-2.9724275699904905,-2.92870493381354,-2.8773135434577752,-2.8335653598349735,-2.7982490229052357,-2.7277713739140768,-2.682558702492288,-2.577254644387623,-2.5107215450942273,-2.450399970732068,-2.4500143799970586,-2.4156725363352978,-2.457582118877168,-2.456745362749638,-2.552631149330613,-2.6265820072733828,-2.7314831190459143,-2.7987016069802197],[-2.9483473377671303,-2.97461038809402,-2.997817191580183,-3.071545462239703,-3.094792222275029,-3.1032814844550822,-3.1076920124464533,-3.107686215448599,-3.115800956808161,-3.0820521701574943,-3.054208818450135,-3.0584744661602414,-3.0247498209790957,-3.011441890191232,-2.9371074371578434,-2.947267578185399,-2.8888956879146006,-2.890850989956837,-2.8260668231833876,-2.766711285831605,-2.741505284094896,-2.6826391964505385,-2.655832682419689,-2.6134331308410736,-2.6421271484010274,-2.586775603922519,-2.590707108608495,-2.6327713111680793,-2.6821243573116065,-2.7293619717554103,-2.7967392367428627,-2.847884722598746],[-2.9439840986030665,-2.9735334906917603,-2.9947683367952402,-2.9948825575117257,-2.9803797593559715,-2.997009550835754,-2.968016360467372,-2.9784871129899164,-2.97931776095006,-2.981338838316292,-2.950495286816543,-3.0007359362480672,-2.9634913902918103,-2.919084941431179,-2.90987764712947,-2.9080441891423883,-2.9072029505079953,-2.9082334890165145,-2.880258622194981,-2.8725327689136564,-2.8378097714318704,-2.823425359440801,-2.802925364490436,-2.8073543682489883,-2.8060540006584556,-2.8127753780821103,-2.7947977945891336,-2.8299654750689913,-2.8162212024738107,-2.882708983322036,-2.865568879677918,-2.9177504708467445]]}],                        {\"scene\":{\"xaxis\":{\"title\":{\"text\":\"\\u03b3\"}},\"yaxis\":{\"title\":{\"text\":\"\\u03b2\"}},\"zaxis\":{\"title\":{\"text\":\"F(\\u03b3,\\u03b2)\"}}},\"template\":{\"data\":{\"bar\":[{\"error_x\":{\"color\":\"#2a3f5f\"},\"error_y\":{\"color\":\"#2a3f5f\"},\"marker\":{\"line\":{\"color\":\"#E5ECF6\",\"width\":0.5},\"pattern\":{\"fillmode\":\"overlay\",\"size\":10,\"solidity\":0.2}},\"type\":\"bar\"}],\"barpolar\":[{\"marker\":{\"line\":{\"color\":\"#E5ECF6\",\"width\":0.5},\"pattern\":{\"fillmode\":\"overlay\",\"size\":10,\"solidity\":0.2}},\"type\":\"barpolar\"}],\"carpet\":[{\"aaxis\":{\"endlinecolor\":\"#2a3f5f\",\"gridcolor\":\"white\",\"linecolor\":\"white\",\"minorgridcolor\":\"white\",\"startlinecolor\":\"#2a3f5f\"},\"baxis\":{\"endlinecolor\":\"#2a3f5f\",\"gridcolor\":\"white\",\"linecolor\":\"white\",\"minorgridcolor\":\"white\",\"startlinecolor\":\"#2a3f5f\"},\"type\":\"carpet\"}],\"choropleth\":[{\"colorbar\":{\"outlinewidth\":0,\"ticks\":\"\"},\"type\":\"choropleth\"}],\"contour\":[{\"colorbar\":{\"outlinewidth\":0,\"ticks\":\"\"},\"colorscale\":[[0.0,\"#0d0887\"],[0.1111111111111111,\"#46039f\"],[0.2222222222222222,\"#7201a8\"],[0.3333333333333333,\"#9c179e\"],[0.4444444444444444,\"#bd3786\"],[0.5555555555555556,\"#d8576b\"],[0.6666666666666666,\"#ed7953\"],[0.7777777777777778,\"#fb9f3a\"],[0.8888888888888888,\"#fdca26\"],[1.0,\"#f0f921\"]],\"type\":\"contour\"}],\"contourcarpet\":[{\"colorbar\":{\"outlinewidth\":0,\"ticks\":\"\"},\"type\":\"contourcarpet\"}],\"heatmap\":[{\"colorbar\":{\"outlinewidth\":0,\"ticks\":\"\"},\"colorscale\":[[0.0,\"#0d0887\"],[0.1111111111111111,\"#46039f\"],[0.2222222222222222,\"#7201a8\"],[0.3333333333333333,\"#9c179e\"],[0.4444444444444444,\"#bd3786\"],[0.5555555555555556,\"#d8576b\"],[0.6666666666666666,\"#ed7953\"],[0.7777777777777778,\"#fb9f3a\"],[0.8888888888888888,\"#fdca26\"],[1.0,\"#f0f921\"]],\"type\":\"heatmap\"}],\"heatmapgl\":[{\"colorbar\":{\"outlinewidth\":0,\"ticks\":\"\"},\"colorscale\":[[0.0,\"#0d0887\"],[0.1111111111111111,\"#46039f\"],[0.2222222222222222,\"#7201a8\"],[0.3333333333333333,\"#9c179e\"],[0.4444444444444444,\"#bd3786\"],[0.5555555555555556,\"#d8576b\"],[0.6666666666666666,\"#ed7953\"],[0.7777777777777778,\"#fb9f3a\"],[0.8888888888888888,\"#fdca26\"],[1.0,\"#f0f921\"]],\"type\":\"heatmapgl\"}],\"histogram\":[{\"marker\":{\"pattern\":{\"fillmode\":\"overlay\",\"size\":10,\"solidity\":0.2}},\"type\":\"histogram\"}],\"histogram2d\":[{\"colorbar\":{\"outlinewidth\":0,\"ticks\":\"\"},\"colorscale\":[[0.0,\"#0d0887\"],[0.1111111111111111,\"#46039f\"],[0.2222222222222222,\"#7201a8\"],[0.3333333333333333,\"#9c179e\"],[0.4444444444444444,\"#bd3786\"],[0.5555555555555556,\"#d8576b\"],[0.6666666666666666,\"#ed7953\"],[0.7777777777777778,\"#fb9f3a\"],[0.8888888888888888,\"#fdca26\"],[1.0,\"#f0f921\"]],\"type\":\"histogram2d\"}],\"histogram2dcontour\":[{\"colorbar\":{\"outlinewidth\":0,\"ticks\":\"\"},\"colorscale\":[[0.0,\"#0d0887\"],[0.1111111111111111,\"#46039f\"],[0.2222222222222222,\"#7201a8\"],[0.3333333333333333,\"#9c179e\"],[0.4444444444444444,\"#bd3786\"],[0.5555555555555556,\"#d8576b\"],[0.6666666666666666,\"#ed7953\"],[0.7777777777777778,\"#fb9f3a\"],[0.8888888888888888,\"#fdca26\"],[1.0,\"#f0f921\"]],\"type\":\"histogram2dcontour\"}],\"mesh3d\":[{\"colorbar\":{\"outlinewidth\":0,\"ticks\":\"\"},\"type\":\"mesh3d\"}],\"parcoords\":[{\"line\":{\"colorbar\":{\"outlinewidth\":0,\"ticks\":\"\"}},\"type\":\"parcoords\"}],\"pie\":[{\"automargin\":true,\"type\":\"pie\"}],\"scatter\":[{\"marker\":{\"colorbar\":{\"outlinewidth\":0,\"ticks\":\"\"}},\"type\":\"scatter\"}],\"scatter3d\":[{\"line\":{\"colorbar\":{\"outlinewidth\":0,\"ticks\":\"\"}},\"marker\":{\"colorbar\":{\"outlinewidth\":0,\"ticks\":\"\"}},\"type\":\"scatter3d\"}],\"scattercarpet\":[{\"marker\":{\"colorbar\":{\"outlinewidth\":0,\"ticks\":\"\"}},\"type\":\"scattercarpet\"}],\"scattergeo\":[{\"marker\":{\"colorbar\":{\"outlinewidth\":0,\"ticks\":\"\"}},\"type\":\"scattergeo\"}],\"scattergl\":[{\"marker\":{\"colorbar\":{\"outlinewidth\":0,\"ticks\":\"\"}},\"type\":\"scattergl\"}],\"scattermapbox\":[{\"marker\":{\"colorbar\":{\"outlinewidth\":0,\"ticks\":\"\"}},\"type\":\"scattermapbox\"}],\"scatterpolar\":[{\"marker\":{\"colorbar\":{\"outlinewidth\":0,\"ticks\":\"\"}},\"type\":\"scatterpolar\"}],\"scatterpolargl\":[{\"marker\":{\"colorbar\":{\"outlinewidth\":0,\"ticks\":\"\"}},\"type\":\"scatterpolargl\"}],\"scatterternary\":[{\"marker\":{\"colorbar\":{\"outlinewidth\":0,\"ticks\":\"\"}},\"type\":\"scatterternary\"}],\"surface\":[{\"colorbar\":{\"outlinewidth\":0,\"ticks\":\"\"},\"colorscale\":[[0.0,\"#0d0887\"],[0.1111111111111111,\"#46039f\"],[0.2222222222222222,\"#7201a8\"],[0.3333333333333333,\"#9c179e\"],[0.4444444444444444,\"#bd3786\"],[0.5555555555555556,\"#d8576b\"],[0.6666666666666666,\"#ed7953\"],[0.7777777777777778,\"#fb9f3a\"],[0.8888888888888888,\"#fdca26\"],[1.0,\"#f0f921\"]],\"type\":\"surface\"}],\"table\":[{\"cells\":{\"fill\":{\"color\":\"#EBF0F8\"},\"line\":{\"color\":\"white\"}},\"header\":{\"fill\":{\"color\":\"#C8D4E3\"},\"line\":{\"color\":\"white\"}},\"type\":\"table\"}]},\"layout\":{\"annotationdefaults\":{\"arrowcolor\":\"#2a3f5f\",\"arrowhead\":0,\"arrowwidth\":1},\"autotypenumbers\":\"strict\",\"coloraxis\":{\"colorbar\":{\"outlinewidth\":0,\"ticks\":\"\"}},\"colorscale\":{\"diverging\":[[0,\"#8e0152\"],[0.1,\"#c51b7d\"],[0.2,\"#de77ae\"],[0.3,\"#f1b6da\"],[0.4,\"#fde0ef\"],[0.5,\"#f7f7f7\"],[0.6,\"#e6f5d0\"],[0.7,\"#b8e186\"],[0.8,\"#7fbc41\"],[0.9,\"#4d9221\"],[1,\"#276419\"]],\"sequential\":[[0.0,\"#0d0887\"],[0.1111111111111111,\"#46039f\"],[0.2222222222222222,\"#7201a8\"],[0.3333333333333333,\"#9c179e\"],[0.4444444444444444,\"#bd3786\"],[0.5555555555555556,\"#d8576b\"],[0.6666666666666666,\"#ed7953\"],[0.7777777777777778,\"#fb9f3a\"],[0.8888888888888888,\"#fdca26\"],[1.0,\"#f0f921\"]],\"sequentialminus\":[[0.0,\"#0d0887\"],[0.1111111111111111,\"#46039f\"],[0.2222222222222222,\"#7201a8\"],[0.3333333333333333,\"#9c179e\"],[0.4444444444444444,\"#bd3786\"],[0.5555555555555556,\"#d8576b\"],[0.6666666666666666,\"#ed7953\"],[0.7777777777777778,\"#fb9f3a\"],[0.8888888888888888,\"#fdca26\"],[1.0,\"#f0f921\"]]},\"colorway\":[\"#636efa\",\"#EF553B\",\"#00cc96\",\"#ab63fa\",\"#FFA15A\",\"#19d3f3\",\"#FF6692\",\"#B6E880\",\"#FF97FF\",\"#FECB52\"],\"font\":{\"color\":\"#2a3f5f\"},\"geo\":{\"bgcolor\":\"white\",\"lakecolor\":\"white\",\"landcolor\":\"#E5ECF6\",\"showlakes\":true,\"showland\":true,\"subunitcolor\":\"white\"},\"hoverlabel\":{\"align\":\"left\"},\"hovermode\":\"closest\",\"mapbox\":{\"style\":\"light\"},\"paper_bgcolor\":\"white\",\"plot_bgcolor\":\"#E5ECF6\",\"polar\":{\"angularaxis\":{\"gridcolor\":\"white\",\"linecolor\":\"white\",\"ticks\":\"\"},\"bgcolor\":\"#E5ECF6\",\"radialaxis\":{\"gridcolor\":\"white\",\"linecolor\":\"white\",\"ticks\":\"\"}},\"scene\":{\"xaxis\":{\"backgroundcolor\":\"#E5ECF6\",\"gridcolor\":\"white\",\"gridwidth\":2,\"linecolor\":\"white\",\"showbackground\":true,\"ticks\":\"\",\"zerolinecolor\":\"white\"},\"yaxis\":{\"backgroundcolor\":\"#E5ECF6\",\"gridcolor\":\"white\",\"gridwidth\":2,\"linecolor\":\"white\",\"showbackground\":true,\"ticks\":\"\",\"zerolinecolor\":\"white\"},\"zaxis\":{\"backgroundcolor\":\"#E5ECF6\",\"gridcolor\":\"white\",\"gridwidth\":2,\"linecolor\":\"white\",\"showbackground\":true,\"ticks\":\"\",\"zerolinecolor\":\"white\"}},\"shapedefaults\":{\"line\":{\"color\":\"#2a3f5f\"}},\"ternary\":{\"aaxis\":{\"gridcolor\":\"white\",\"linecolor\":\"white\",\"ticks\":\"\"},\"baxis\":{\"gridcolor\":\"white\",\"linecolor\":\"white\",\"ticks\":\"\"},\"bgcolor\":\"#E5ECF6\",\"caxis\":{\"gridcolor\":\"white\",\"linecolor\":\"white\",\"ticks\":\"\"}},\"title\":{\"x\":0.05},\"xaxis\":{\"automargin\":true,\"gridcolor\":\"white\",\"linecolor\":\"white\",\"ticks\":\"\",\"title\":{\"standoff\":15},\"zerolinecolor\":\"white\",\"zerolinewidth\":2},\"yaxis\":{\"automargin\":true,\"gridcolor\":\"white\",\"linecolor\":\"white\",\"ticks\":\"\",\"title\":{\"standoff\":15},\"zerolinecolor\":\"white\",\"zerolinewidth\":2}}},\"title\":{\"text\":\"QAOA MaxCut\"}},                        {\"responsive\": true}                    ).then(function(){\n",
       "                            \n",
       "var gd = document.getElementById('89a07a7a-195b-4465-acaf-78b7c800f658');\n",
       "var x = new MutationObserver(function (mutations, observer) {{\n",
       "        var display = window.getComputedStyle(gd).display;\n",
       "        if (!display || display === 'none') {{\n",
       "            console.log([gd, 'removed!']);\n",
       "            Plotly.purge(gd);\n",
       "            observer.disconnect();\n",
       "        }}\n",
       "}});\n",
       "\n",
       "// Listen for the removal of the full notebook cells\n",
       "var notebookContainer = gd.closest('#notebook-container');\n",
       "if (notebookContainer) {{\n",
       "    x.observe(notebookContainer, {childList: true});\n",
       "}}\n",
       "\n",
       "// Listen for the clearing of the current output cell\n",
       "var outputEl = gd.closest('.output');\n",
       "if (outputEl) {{\n",
       "    x.observe(outputEl, {childList: true});\n",
       "}}\n",
       "\n",
       "                        })                };                });            </script>        </div>"
      ]
     },
     "metadata": {},
     "output_type": "display_data"
    }
   ],
   "source": [
    "# Plot landscape in 3D \n",
    "a_gamma = np.arange(0, np.pi, step_size)\n",
    "b_beta = np.arange(0, np.pi, step_size)\n",
    "fig = go.Figure(data=go.Surface(z=landscape, x=a_gamma, y=b_beta))\n",
    "\n",
    "fig.update_traces(contours_z=dict(show=True, usecolormap=True, highlightcolor='limegreen', project_z=True))\n",
    "\n",
    "\n",
    "fig.update_layout(title=\"QAOA MaxCut\", scene=dict(\n",
    "    xaxis_title=\"γ\",\n",
    "    yaxis_title=\"β\",\n",
    "    zaxis_title=\"F(γ,β)\"\n",
    "))"
   ]
  },
  {
   "cell_type": "code",
   "execution_count": 25,
   "id": "7a8d8f7a",
   "metadata": {},
   "outputs": [
    {
     "data": {
      "application/vnd.plotly.v1+json": {
       "config": {
        "plotlyServerURL": "https://plot.ly"
       },
       "data": [
        {
         "colorscale": [
          [
           0,
           "#440154"
          ],
          [
           0.1111111111111111,
           "#482878"
          ],
          [
           0.2222222222222222,
           "#3e4989"
          ],
          [
           0.3333333333333333,
           "#31688e"
          ],
          [
           0.4444444444444444,
           "#26828e"
          ],
          [
           0.5555555555555556,
           "#1f9e89"
          ],
          [
           0.6666666666666666,
           "#35b779"
          ],
          [
           0.7777777777777778,
           "#6ece58"
          ],
          [
           0.8888888888888888,
           "#b5de2b"
          ],
          [
           1,
           "#fde725"
          ]
         ],
         "type": "heatmap",
         "x": [
          0,
          0.1,
          0.2,
          0.30000000000000004,
          0.4,
          0.5,
          0.6000000000000001,
          0.7000000000000001,
          0.8,
          0.9,
          1,
          1.1,
          1.2000000000000002,
          1.3,
          1.4000000000000001,
          1.5,
          1.6,
          1.7000000000000002,
          1.8,
          1.9000000000000001,
          2,
          2.1,
          2.2,
          2.3000000000000003,
          2.4000000000000004,
          2.5,
          2.6,
          2.7,
          2.8000000000000003,
          2.9000000000000004,
          3,
          3.1
         ],
         "y": [
          0,
          0.1,
          0.2,
          0.30000000000000004,
          0.4,
          0.5,
          0.6000000000000001,
          0.7000000000000001,
          0.8,
          0.9,
          1,
          1.1,
          1.2000000000000002,
          1.3,
          1.4000000000000001,
          1.5,
          1.6,
          1.7000000000000002,
          1.8,
          1.9000000000000001,
          2,
          2.1,
          2.2,
          2.3000000000000003,
          2.4000000000000004,
          2.5,
          2.6,
          2.7,
          2.8000000000000003,
          2.9000000000000004,
          3,
          3.1
         ],
         "z": [
          [
           -2.969,
           -2.9905,
           -2.99975,
           -2.97575,
           -2.94725,
           -2.94925,
           -2.94725,
           -2.937,
           -2.95525,
           -2.918,
           -2.91775,
           -2.93,
           -2.9105,
           -2.917,
           -2.9,
           -2.87475,
           -2.89,
           -2.91225,
           -2.91525,
           -2.9215,
           -2.894,
           -2.86075,
           -2.8815,
           -2.85425,
           -2.8875,
           -2.8775,
           -2.86575,
           -2.85275,
           -2.857,
           -2.8915,
           -2.887,
           -2.90225
          ],
          [
           -2.9998669726811533,
           -2.954575172732612,
           -2.875703154196649,
           -2.862357472643128,
           -2.82210834442595,
           -2.7738796060643542,
           -2.7613155315847004,
           -2.779542040472178,
           -2.771670427345046,
           -2.7324794108198867,
           -2.7960202679357344,
           -2.8103906864234625,
           -2.812391693664786,
           -2.845171757886473,
           -2.8363569654802476,
           -2.8760881479296083,
           -2.9136854822384732,
           -2.9100351439545165,
           -2.9093960364324123,
           -2.9574968146553906,
           -2.9843543692838654,
           -2.9932847801271776,
           -3.0170635100823344,
           -3.0232893610842355,
           -3.0383563455330393,
           -3.056846390456944,
           -3.0137591312358447,
           -3.0109506048750965,
           -3.0292444392791293,
           -2.951645415130819,
           -2.9697276164202355,
           -2.9172578759710905
          ],
          [
           -2.9625533860796955,
           -2.852770092492939,
           -2.776115779318604,
           -2.7302455061013116,
           -2.6874960929278187,
           -2.6238746060799567,
           -2.5837477513099274,
           -2.5516734787971007,
           -2.5699348577744026,
           -2.581929061661866,
           -2.620984483711027,
           -2.6763426452181345,
           -2.7036930979079035,
           -2.745766435539329,
           -2.8046474245030195,
           -2.819178948304089,
           -2.881289821197224,
           -2.916598024498103,
           -2.980683418841528,
           -2.988549107031308,
           -3.01988313056637,
           -3.096851867963215,
           -3.1060117823141655,
           -3.1285468894083297,
           -3.158916215932994,
           -3.17278376500763,
           -3.15933570931132,
           -3.1282428666984887,
           -3.0893841879845056,
           -3.0266025878208924,
           -2.964656798885265,
           -2.888345851379782
          ],
          [
           -2.9715584072863663,
           -2.8156858045449566,
           -2.6871068907606253,
           -2.6143676751039737,
           -2.519558455897864,
           -2.438990183686157,
           -2.408980856569936,
           -2.379558475676066,
           -2.39637913677775,
           -2.406379733016551,
           -2.4767060160995413,
           -2.551981086321215,
           -2.6376906074806574,
           -2.658578084385206,
           -2.7286846837721734,
           -2.775532301585136,
           -2.8551183097863944,
           -2.943327880954193,
           -2.9686458829587767,
           -3.000827081340345,
           -3.096677531254681,
           -3.0773774717099447,
           -3.121639283326477,
           -3.185463085440394,
           -3.1945649730647436,
           -3.1647701760621825,
           -3.209915809318058,
           -3.1768741677502765,
           -3.120864504934266,
           -3.069391787653031,
           -2.9606729918271992,
           -2.867796843249658
          ],
          [
           -3.035416586792809,
           -2.8061909866583665,
           -2.6371321895753845,
           -2.485259526421848,
           -2.4423769059953835,
           -2.3458568018208728,
           -2.272173011158448,
           -2.264592870507608,
           -2.2815293836233557,
           -2.3223579590243797,
           -2.3748913576162534,
           -2.4761985942075175,
           -2.521733279553445,
           -2.6344337704595,
           -2.7151297012453464,
           -2.774888815198819,
           -2.8665038830063785,
           -2.9143346871511375,
           -2.948014023220073,
           -2.996184255375604,
           -3.029248724567408,
           -3.0737664790008816,
           -3.1093237783525405,
           -3.121757788559194,
           -3.1421202375446176,
           -3.125375047268464,
           -3.1533368311132746,
           -3.121305238040075,
           -3.057721721669876,
           -3.013463862276463,
           -2.9216151352519697,
           -2.8014994447807138
          ],
          [
           -3.012623678373946,
           -2.7435274261677716,
           -2.6060575162714574,
           -2.503347271908727,
           -2.394903631908003,
           -2.312055400361798,
           -2.2730832793515834,
           -2.239305722775363,
           -2.2552907754242972,
           -2.2864961373880717,
           -2.3511939677393405,
           -2.4257982908740696,
           -2.5175459646375162,
           -2.623004215483077,
           -2.6931728391000447,
           -2.7797417891333667,
           -2.8241001003436055,
           -2.860844947122055,
           -2.923482027229113,
           -2.9508643399834886,
           -3.001929504271391,
           -3.000253690210029,
           -2.9887483360041793,
           -3.0125023428024162,
           -3.0441558618431497,
           -3.029605918793909,
           -3.025267800380076,
           -3.020358597001323,
           -2.970138438589485,
           -2.9295908330223868,
           -2.8606155061394536,
           -2.7561988899574708
          ],
          [
           -3.0551553981401662,
           -2.673960103758012,
           -2.57797526710292,
           -2.487020669966392,
           -2.3919921561356987,
           -2.316308418203028,
           -2.2758563977845534,
           -2.2960571918610864,
           -2.284478009440754,
           -2.2939294707683353,
           -2.367292979657358,
           -2.4629269759196357,
           -2.5564172409093473,
           -2.62372481716807,
           -2.7389673791605746,
           -2.828348094283077,
           -2.868941702071694,
           -2.87090598432186,
           -2.886763136379655,
           -2.8986640290085988,
           -2.8777600280410853,
           -2.893195457736541,
           -2.860496410301687,
           -2.845089944698245,
           -2.855658576162142,
           -2.8724564640808854,
           -2.852020982024393,
           -2.852427577110988,
           -2.8070706268994337,
           -2.7933627580320084,
           -2.76863233193656,
           -2.6802780162065303
          ],
          [
           -3.048022829595468,
           -2.7125031737306147,
           -2.6392624647770266,
           -2.593448936678199,
           -2.462699437731214,
           -2.4590807662877214,
           -2.3940851995966708,
           -2.359274093931668,
           -2.362920388606404,
           -2.393631717473458,
           -2.47386681481561,
           -2.5461203484427335,
           -2.613659831972703,
           -2.693969668221759,
           -2.748258104300819,
           -2.790323023062567,
           -2.825152919622157,
           -2.85276229754772,
           -2.8456840560600023,
           -2.8114252876266237,
           -2.7888987735430333,
           -2.760347473519825,
           -2.730707273578489,
           -2.6926298341152166,
           -2.690318175361488,
           -2.6992242508936535,
           -2.7021244783063985,
           -2.719635270959104,
           -2.660913835385255,
           -2.7084024764806096,
           -2.713305600760481,
           -2.650314432810048
          ],
          [
           -3.037601830807256,
           -2.72080039227718,
           -2.679046942046664,
           -2.67555835221625,
           -2.6027493509566924,
           -2.570607199688394,
           -2.5027372508745005,
           -2.5118822815416024,
           -2.5190198897051688,
           -2.528358064690079,
           -2.577057062179979,
           -2.6207354905399414,
           -2.6896565154400496,
           -2.7311229640828425,
           -2.7784617365071362,
           -2.836917890124205,
           -2.8295832414989492,
           -2.818193310064398,
           -2.7983999804803563,
           -2.7326365781138207,
           -2.7098172705283954,
           -2.634562329095097,
           -2.5670273977148343,
           -2.5538557882222097,
           -2.529221981971534,
           -2.502792350843289,
           -2.483996879839712,
           -2.5135067694588034,
           -2.5193036889991385,
           -2.580887127540125,
           -2.6213451962263563,
           -2.6252444134117647
          ],
          [
           -3.0167907898894892,
           -2.7148425855478844,
           -2.7710195031313005,
           -2.7533028187039776,
           -2.7539427990555656,
           -2.7327957637538542,
           -2.745592076224085,
           -2.683913916786746,
           -2.68319389896276,
           -2.706164896268406,
           -2.7263398142636475,
           -2.7665092054945664,
           -2.8319018584744104,
           -2.8318987331411813,
           -2.829018810558847,
           -2.8598126931751873,
           -2.8852735613158322,
           -2.817885923907419,
           -2.7473258691303197,
           -2.710685119400662,
           -2.6161021458199256,
           -2.5494092095590397,
           -2.447793642602012,
           -2.3942976018446833,
           -2.3547445352816045,
           -2.3381440403641665,
           -2.3711915184470818,
           -2.4068636809563695,
           -2.441002953189593,
           -2.503884903693582,
           -2.5859084719667766,
           -2.608103479155371
          ],
          [
           -3.009514467244371,
           -2.8142197755786227,
           -2.8202918738189466,
           -2.8846842879887262,
           -2.868172205333591,
           -2.915951620864448,
           -2.9111680070758243,
           -2.8963393573313674,
           -2.8939070239786244,
           -2.895929810253618,
           -2.9013741307738634,
           -2.89161568566504,
           -2.8919807774937705,
           -2.932146480014684,
           -2.911723137017722,
           -2.90565227244783,
           -2.8593823611878184,
           -2.7970007998379987,
           -2.777027913864227,
           -2.6425032816930893,
           -2.5878993075288617,
           -2.485427812606111,
           -2.3957910045805106,
           -2.3338521885294257,
           -2.265836290018589,
           -2.29668541853363,
           -2.281917149729219,
           -2.317410404992262,
           -2.3625663998559054,
           -2.458105035323976,
           -2.5241741354591922,
           -2.6275739839346732
          ],
          [
           -3.01525,
           -2.866,
           -2.92475,
           -2.948,
           -3.00325,
           -3.01425,
           -3.04225,
           -3.0395,
           -3.06125,
           -3.03025,
           -3.0145,
           -2.99675,
           -2.97425,
           -2.98975,
           -2.96675,
           -2.94525,
           -2.872,
           -2.8195,
           -2.7405,
           -2.698,
           -2.6055,
           -2.49375,
           -2.42375,
           -2.393,
           -2.3575,
           -2.299,
           -2.3255,
           -2.3665,
           -2.39225,
           -2.4835,
           -2.5705,
           -2.65575
          ],
          [
           -2.9511508125151686,
           -2.9107216425247677,
           -2.9684330295553516,
           -3.062168902853431,
           -3.1152920869163316,
           -3.139607197561271,
           -3.1625554342800313,
           -3.143892550035942,
           -3.1634890263264808,
           -3.1299595798408597,
           -3.0681495464659077,
           -3.0833947729035547,
           -3.0483870491797282,
           -3.028549767008266,
           -3.0046552710887453,
           -2.957515275347979,
           -2.884000598234599,
           -2.8575420960119717,
           -2.7569951182508583,
           -2.6470245208993655,
           -2.657236895885471,
           -2.5037681428000056,
           -2.4157570933800763,
           -2.404968330608313,
           -2.322809215465881,
           -2.320368679546427,
           -2.312701929961689,
           -2.353562915278446,
           -2.413276755486239,
           -2.4648814009048454,
           -2.594425550832842,
           -2.7245608741181693
          ],
          [
           -2.9923628501185737,
           -2.9411010970291147,
           -3.045140996655923,
           -3.1052467884234414,
           -3.1416475251870644,
           -3.159269471704843,
           -3.1871962965219343,
           -3.169100159813737,
           -3.1852844293259044,
           -3.114862869231016,
           -3.124575113150792,
           -3.0639689526236866,
           -3.0607166898892064,
           -3.011719768548349,
           -2.9722678695494724,
           -2.933520765828534,
           -2.8918736787956174,
           -2.8195117041716484,
           -2.785519000744127,
           -2.692001603489269,
           -2.668796378930223,
           -2.619102836400558,
           -2.5049136130818312,
           -2.490463892197836,
           -2.4480975771725837,
           -2.4445470894800883,
           -2.4731065444469262,
           -2.4830294800116666,
           -2.5226761200416163,
           -2.644449910407418,
           -2.6875163290789246,
           -2.735793797840051
          ],
          [
           -2.9324428104131277,
           -2.990218487732634,
           -3.0166173210084186,
           -3.093050341371817,
           -3.1223483848049427,
           -3.1524274306286806,
           -3.1603345944777885,
           -3.161946279082473,
           -3.1597004487677784,
           -3.1278197312477225,
           -3.0940173093670875,
           -3.061169237351476,
           -3.0416644084574966,
           -3.0203082936177297,
           -2.9447241967918085,
           -2.912903867210821,
           -2.8925282955433564,
           -2.877645637646255,
           -2.801430215218677,
           -2.7478609610794793,
           -2.75202986079343,
           -2.717252279185899,
           -2.6545650340994276,
           -2.6634672469493106,
           -2.6420840313121987,
           -2.587357457376239,
           -2.5905680122787325,
           -2.641313253705213,
           -2.6580249153084687,
           -2.7078118750579,
           -2.76461788620019,
           -2.855275238018417
          ],
          [
           -2.9592865570700475,
           -2.9777742140908545,
           -2.9959302605730906,
           -3.0142239892197837,
           -3.0260463070735404,
           -3.034195655979991,
           -3.024855693545124,
           -3.0247007600939124,
           -3.0352578747503145,
           -3.01150661609818,
           -2.9908735929686667,
           -2.9871503001171567,
           -2.9759650010907595,
           -2.950930895096667,
           -2.933816461758602,
           -2.9172720771138505,
           -2.9117720954988955,
           -2.8666389472730023,
           -2.876384614051613,
           -2.846526827055041,
           -2.8431454275772343,
           -2.8354918637515705,
           -2.822365312072261,
           -2.8113290312596106,
           -2.785252059506298,
           -2.7995917890477946,
           -2.7975514729855675,
           -2.8023259148430304,
           -2.8285409384476745,
           -2.8445883044859595,
           -2.8464850804817328,
           -2.8854492482230527
          ],
          [
           -2.967596981199883,
           -2.920311132905826,
           -2.949276985644182,
           -2.92427854869905,
           -2.888912384798897,
           -2.9047852641129452,
           -2.874860702750954,
           -2.853626793209024,
           -2.8862706837724192,
           -2.880212166770136,
           -2.882878618794894,
           -2.877898481144251,
           -2.897173585082554,
           -2.8878347820245724,
           -2.873234323816357,
           -2.8979787972675775,
           -2.9045445824549505,
           -2.9148483447387123,
           -2.8968886267727783,
           -2.9440439401169933,
           -2.9435682871817295,
           -2.9272246096539623,
           -2.935560357013763,
           -2.980241911981194,
           -2.9740760894742437,
           -2.951447597262862,
           -2.9360314556691867,
           -2.954619578689824,
           -2.9653233642669243,
           -2.928028313959611,
           -2.9105460225238637,
           -2.894233021422771
          ],
          [
           -2.99169286375924,
           -2.917867751318664,
           -2.880368544675068,
           -2.8097023034559143,
           -2.729915838963785,
           -2.71982785159271,
           -2.6971621977771396,
           -2.6768875680192945,
           -2.6913353539824527,
           -2.678548091060742,
           -2.7025783021735665,
           -2.74934986185308,
           -2.7202350955060557,
           -2.8056173205280963,
           -2.801522531201265,
           -2.836432290889833,
           -2.880516281194127,
           -2.916577594325339,
           -2.9094698080313677,
           -2.967898273425069,
           -3.0355124743759356,
           -3.0224318756847213,
           -3.0569517850374566,
           -3.0873479977184255,
           -3.079185313544734,
           -3.094814175191207,
           -3.082899721493311,
           -3.0560428033239155,
           -3.0589194454059716,
           -3.0023092696172506,
           -2.943289427141956,
           -2.8819385823110553
          ],
          [
           -3.00811742043552,
           -2.8507540688029795,
           -2.744096547076779,
           -2.682405441125264,
           -2.600806419443334,
           -2.5556408557199344,
           -2.517415009218022,
           -2.5008845811144025,
           -2.5174694760871685,
           -2.551140907792724,
           -2.542242494957898,
           -2.655772100043494,
           -2.7045337399551084,
           -2.752994505969861,
           -2.762149205956473,
           -2.816271978723941,
           -2.888115839294957,
           -2.9156247555824795,
           -2.927877640986444,
           -3.02237076341249,
           -3.04570877458312,
           -3.069640747604518,
           -3.113199794093006,
           -3.121677525977478,
           -3.1343214092679954,
           -3.1308832323629647,
           -3.1257033580857034,
           -3.096606395180865,
           -3.066820650696918,
           -3.0268326104305348,
           -2.9431889208141264,
           -2.870518732226288
          ],
          [
           -3.006312493473216,
           -2.7188327581015064,
           -2.6373886160162745,
           -2.521510055007404,
           -2.428431429018554,
           -2.4117375440378708,
           -2.3354260816428956,
           -2.347182593877415,
           -2.346210778282978,
           -2.404054366496217,
           -2.4753637938489907,
           -2.5373279804597213,
           -2.602144807237585,
           -2.6971399504370983,
           -2.772820415882931,
           -2.8000716133814247,
           -2.8761863926623237,
           -2.9037676639449668,
           -2.942948074677035,
           -2.994629526422451,
           -3.018591391543582,
           -3.0530131305145436,
           -3.0941035206409078,
           -3.0822677296071737,
           -3.153795933905947,
           -3.1319960104767555,
           -3.106915409081381,
           -3.09487754469317,
           -3.0423259905474183,
           -3.0033033914811815,
           -2.904958393779729,
           -2.812663597281045
          ],
          [
           -3.0523035191825545,
           -2.6661446710911627,
           -2.535677586916429,
           -2.4199076973791884,
           -2.354485491195516,
           -2.267709649563251,
           -2.246772250184042,
           -2.23626212573117,
           -2.270019237260311,
           -2.2789217147746585,
           -2.3716125282208496,
           -2.4822090947541127,
           -2.509244177075584,
           -2.6646254010168424,
           -2.707280749797963,
           -2.809530971906589,
           -2.8472672653874143,
           -2.89396044669598,
           -2.9408034042396753,
           -2.9364780278936173,
           -2.99443209530319,
           -3.041324032730822,
           -3.0293398651925605,
           -3.041515659094741,
           -3.0305134695804394,
           -3.056446266180562,
           -3.024567771091536,
           -2.983835375193701,
           -2.961894894287611,
           -2.900581519466358,
           -2.8059219160120166,
           -2.7473434628481725
          ],
          [
           -3.033262182043782,
           -2.6387850611667703,
           -2.4712330585066833,
           -2.4334767904596903,
           -2.3366987410462854,
           -2.261003886824526,
           -2.2152625487131283,
           -2.1864383542979473,
           -2.236075758057627,
           -2.2584566352359836,
           -2.334654481204049,
           -2.44816714722092,
           -2.5291121596325534,
           -2.6332236772427215,
           -2.698665839527423,
           -2.777740126526324,
           -2.8580722199621085,
           -2.8993487950812,
           -2.9123357635217673,
           -2.8792798967570605,
           -2.9224933221488882,
           -2.884551181886919,
           -2.931088377745612,
           -2.921904784565317,
           -2.9191511771155385,
           -2.91714393766113,
           -2.928282390566682,
           -2.910949514768021,
           -2.8568472450613838,
           -2.8072087140553936,
           -2.7341987099069063,
           -2.6630124339742522
          ],
          [
           -3.045,
           -2.71375,
           -2.6015,
           -2.55625,
           -2.47375,
           -2.3875,
           -2.35125,
           -2.362,
           -2.36325,
           -2.38325,
           -2.46675,
           -2.5785,
           -2.6335,
           -2.70825,
           -2.744,
           -2.84525,
           -2.8425,
           -2.869,
           -2.88775,
           -2.8785,
           -2.82975,
           -2.824,
           -2.8255,
           -2.809,
           -2.80125,
           -2.805,
           -2.8095,
           -2.7945,
           -2.7805,
           -2.77225,
           -2.751,
           -2.684
          ],
          [
           -3.050573605058132,
           -2.5844342392323916,
           -2.5367203294742464,
           -2.519315899398908,
           -2.402156855840394,
           -2.392651002881293,
           -2.3493142834819762,
           -2.361171498047957,
           -2.3994792158138445,
           -2.384579882736557,
           -2.480568631940562,
           -2.568717937460514,
           -2.655943929432919,
           -2.7211559302037847,
           -2.7820269048275104,
           -2.8147710846035836,
           -2.8116655190292716,
           -2.8389014224325932,
           -2.813438352043274,
           -2.7757586357681516,
           -2.7285600419569334,
           -2.667549653460729,
           -2.6615947785534884,
           -2.582728810652657,
           -2.5984296636012956,
           -2.5616080328709896,
           -2.5377559083853356,
           -2.5516667283479735,
           -2.5701890349677066,
           -2.5947468879692517,
           -2.587744811089073,
           -2.550450807094031
          ],
          [
           -3.0367491921653014,
           -2.6054590851028356,
           -2.607269686963895,
           -2.6101810906204657,
           -2.5614507562532367,
           -2.525823806278456,
           -2.556243777088215,
           -2.5412042405730273,
           -2.528979121637896,
           -2.5892843791815303,
           -2.638317699210729,
           -2.7116946103071102,
           -2.712957026586425,
           -2.770226114453551,
           -2.819423505780732,
           -2.846481089069179,
           -2.8366937521307394,
           -2.8102611130132895,
           -2.7828000992553736,
           -2.711236961932446,
           -2.6514504591108508,
           -2.5727685354687213,
           -2.4665414033943867,
           -2.475000664867601,
           -2.376574770786672,
           -2.367115317033051,
           -2.3654901030674877,
           -2.402599240760725,
           -2.3982967890729627,
           -2.4860670116438652,
           -2.514640710339511,
           -2.5490986299419434
          ],
          [
           -3.035013147688424,
           -2.693984261991351,
           -2.724771035654304,
           -2.7460745588049273,
           -2.7421985037550254,
           -2.757910507935311,
           -2.7601727345772726,
           -2.725802888550923,
           -2.7568318466656594,
           -2.726515581371369,
           -2.766022172795495,
           -2.819392034343459,
           -2.828836529311356,
           -2.8797939288290095,
           -2.882468099927387,
           -2.895534031420861,
           -2.883533937310559,
           -2.811443847636997,
           -2.809519779223316,
           -2.656802031120926,
           -2.584896534007216,
           -2.4801972809226704,
           -2.407331545721355,
           -2.34038847061943,
           -2.293325603835459,
           -2.3173998174774573,
           -2.3326193445904586,
           -2.325300485856146,
           -2.3769617281233595,
           -2.457586401602881,
           -2.521063257483697,
           -2.5716957207960243
          ],
          [
           -2.994743445678379,
           -2.7387791165051123,
           -2.8327904737394545,
           -2.8782196894987964,
           -2.8872328567705114,
           -2.880877292246269,
           -2.947086808535514,
           -2.917498769224022,
           -2.904915226347286,
           -2.9107475135305543,
           -2.93180735966347,
           -2.9673074433933704,
           -2.929443226285885,
           -2.9151212122805226,
           -2.9448928502198823,
           -2.879553602878872,
           -2.857932185376637,
           -2.8141661109667453,
           -2.7581523365098035,
           -2.642045382137588,
           -2.5754020960166426,
           -2.4164967675541416,
           -2.3162111192675736,
           -2.2713820434291954,
           -2.208934561908517,
           -2.180380534025135,
           -2.226364859463638,
           -2.258664652204937,
           -2.3028744013249134,
           -2.4479450205693025,
           -2.5110940907905395,
           -2.642105079780846
          ],
          [
           -2.9620927237453625,
           -2.864448330930388,
           -2.950313509675488,
           -3.0108757112073907,
           -3.035758024209412,
           -3.048552165190944,
           -3.08460839600492,
           -3.080303220380713,
           -3.0610692936655868,
           -3.033304379349831,
           -3.0403756448694934,
           -3.051248191399801,
           -3.0170021601403105,
           -2.9999281273301097,
           -2.957290240120769,
           -2.9376958563778204,
           -2.868330028925025,
           -2.8205598397266085,
           -2.752543367618284,
           -2.6572532342887043,
           -2.549267290232001,
           -2.448929568484882,
           -2.377078083445469,
           -2.2857076376084473,
           -2.2910858974676525,
           -2.238817120713674,
           -2.24027368223653,
           -2.3006549588496394,
           -2.35833991752137,
           -2.464199180162117,
           -2.5563021708205285,
           -2.7029971356352522
          ],
          [
           -2.962992947968734,
           -2.9064757800491487,
           -2.9992380691469354,
           -3.079130797363196,
           -3.1119306648826575,
           -3.1236346029996493,
           -3.129835234294566,
           -3.152100905848747,
           -3.1390650636408566,
           -3.111766285612102,
           -3.0892416455421277,
           -3.088827400346233,
           -3.016474447881788,
           -2.9952048331918446,
           -2.9995060776245714,
           -2.9379032304721457,
           -2.8947021632677306,
           -2.8574804531029003,
           -2.7843902336128474,
           -2.649973462724769,
           -2.618950809391265,
           -2.5177996912851226,
           -2.470605041073716,
           -2.3476714417772007,
           -2.330985449703895,
           -2.338845272480234,
           -2.3383276666516384,
           -2.383758729384984,
           -2.44909906538459,
           -2.540858528972494,
           -2.6494822391863355,
           -2.7677709359719094
          ],
          [
           -2.9583171071731647,
           -2.9354328508063365,
           -3.0311984835649257,
           -3.08338604247739,
           -3.1228653532555604,
           -3.1422530683428063,
           -3.159872667735185,
           -3.185859179412877,
           -3.156367402148337,
           -3.1334412766169595,
           -3.094568872886425,
           -3.088607187007094,
           -3.0597715299651655,
           -3.028013864252423,
           -2.9724275699904905,
           -2.92870493381354,
           -2.8773135434577752,
           -2.8335653598349735,
           -2.7982490229052357,
           -2.7277713739140768,
           -2.682558702492288,
           -2.577254644387623,
           -2.5107215450942273,
           -2.450399970732068,
           -2.4500143799970586,
           -2.4156725363352978,
           -2.457582118877168,
           -2.456745362749638,
           -2.552631149330613,
           -2.6265820072733828,
           -2.7314831190459143,
           -2.7987016069802197
          ],
          [
           -2.9483473377671303,
           -2.97461038809402,
           -2.997817191580183,
           -3.071545462239703,
           -3.094792222275029,
           -3.1032814844550822,
           -3.1076920124464533,
           -3.107686215448599,
           -3.115800956808161,
           -3.0820521701574943,
           -3.054208818450135,
           -3.0584744661602414,
           -3.0247498209790957,
           -3.011441890191232,
           -2.9371074371578434,
           -2.947267578185399,
           -2.8888956879146006,
           -2.890850989956837,
           -2.8260668231833876,
           -2.766711285831605,
           -2.741505284094896,
           -2.6826391964505385,
           -2.655832682419689,
           -2.6134331308410736,
           -2.6421271484010274,
           -2.586775603922519,
           -2.590707108608495,
           -2.6327713111680793,
           -2.6821243573116065,
           -2.7293619717554103,
           -2.7967392367428627,
           -2.847884722598746
          ],
          [
           -2.9439840986030665,
           -2.9735334906917603,
           -2.9947683367952402,
           -2.9948825575117257,
           -2.9803797593559715,
           -2.997009550835754,
           -2.968016360467372,
           -2.9784871129899164,
           -2.97931776095006,
           -2.981338838316292,
           -2.950495286816543,
           -3.0007359362480672,
           -2.9634913902918103,
           -2.919084941431179,
           -2.90987764712947,
           -2.9080441891423883,
           -2.9072029505079953,
           -2.9082334890165145,
           -2.880258622194981,
           -2.8725327689136564,
           -2.8378097714318704,
           -2.823425359440801,
           -2.802925364490436,
           -2.8073543682489883,
           -2.8060540006584556,
           -2.8127753780821103,
           -2.7947977945891336,
           -2.8299654750689913,
           -2.8162212024738107,
           -2.882708983322036,
           -2.865568879677918,
           -2.9177504708467445
          ]
         ]
        },
        {
         "hovertemplate": "x: %{x}<br>y: %{y}<br> z: %{text:.2f}<extra></extra>",
         "marker": {
          "color": "red",
          "line": {
           "width": 1
          },
          "size": 16,
          "symbol": [
           204
          ]
         },
         "mode": "markers",
         "text": [
          "-3.209915809318058"
         ],
         "type": "scatter",
         "x": [
          2.6
         ],
         "y": [
          0.30000000000000004
         ]
        }
       ],
       "layout": {
        "height": 700,
        "template": {
         "data": {
          "bar": [
           {
            "error_x": {
             "color": "#2a3f5f"
            },
            "error_y": {
             "color": "#2a3f5f"
            },
            "marker": {
             "line": {
              "color": "#E5ECF6",
              "width": 0.5
             },
             "pattern": {
              "fillmode": "overlay",
              "size": 10,
              "solidity": 0.2
             }
            },
            "type": "bar"
           }
          ],
          "barpolar": [
           {
            "marker": {
             "line": {
              "color": "#E5ECF6",
              "width": 0.5
             },
             "pattern": {
              "fillmode": "overlay",
              "size": 10,
              "solidity": 0.2
             }
            },
            "type": "barpolar"
           }
          ],
          "carpet": [
           {
            "aaxis": {
             "endlinecolor": "#2a3f5f",
             "gridcolor": "white",
             "linecolor": "white",
             "minorgridcolor": "white",
             "startlinecolor": "#2a3f5f"
            },
            "baxis": {
             "endlinecolor": "#2a3f5f",
             "gridcolor": "white",
             "linecolor": "white",
             "minorgridcolor": "white",
             "startlinecolor": "#2a3f5f"
            },
            "type": "carpet"
           }
          ],
          "choropleth": [
           {
            "colorbar": {
             "outlinewidth": 0,
             "ticks": ""
            },
            "type": "choropleth"
           }
          ],
          "contour": [
           {
            "colorbar": {
             "outlinewidth": 0,
             "ticks": ""
            },
            "colorscale": [
             [
              0,
              "#0d0887"
             ],
             [
              0.1111111111111111,
              "#46039f"
             ],
             [
              0.2222222222222222,
              "#7201a8"
             ],
             [
              0.3333333333333333,
              "#9c179e"
             ],
             [
              0.4444444444444444,
              "#bd3786"
             ],
             [
              0.5555555555555556,
              "#d8576b"
             ],
             [
              0.6666666666666666,
              "#ed7953"
             ],
             [
              0.7777777777777778,
              "#fb9f3a"
             ],
             [
              0.8888888888888888,
              "#fdca26"
             ],
             [
              1,
              "#f0f921"
             ]
            ],
            "type": "contour"
           }
          ],
          "contourcarpet": [
           {
            "colorbar": {
             "outlinewidth": 0,
             "ticks": ""
            },
            "type": "contourcarpet"
           }
          ],
          "heatmap": [
           {
            "colorbar": {
             "outlinewidth": 0,
             "ticks": ""
            },
            "colorscale": [
             [
              0,
              "#0d0887"
             ],
             [
              0.1111111111111111,
              "#46039f"
             ],
             [
              0.2222222222222222,
              "#7201a8"
             ],
             [
              0.3333333333333333,
              "#9c179e"
             ],
             [
              0.4444444444444444,
              "#bd3786"
             ],
             [
              0.5555555555555556,
              "#d8576b"
             ],
             [
              0.6666666666666666,
              "#ed7953"
             ],
             [
              0.7777777777777778,
              "#fb9f3a"
             ],
             [
              0.8888888888888888,
              "#fdca26"
             ],
             [
              1,
              "#f0f921"
             ]
            ],
            "type": "heatmap"
           }
          ],
          "heatmapgl": [
           {
            "colorbar": {
             "outlinewidth": 0,
             "ticks": ""
            },
            "colorscale": [
             [
              0,
              "#0d0887"
             ],
             [
              0.1111111111111111,
              "#46039f"
             ],
             [
              0.2222222222222222,
              "#7201a8"
             ],
             [
              0.3333333333333333,
              "#9c179e"
             ],
             [
              0.4444444444444444,
              "#bd3786"
             ],
             [
              0.5555555555555556,
              "#d8576b"
             ],
             [
              0.6666666666666666,
              "#ed7953"
             ],
             [
              0.7777777777777778,
              "#fb9f3a"
             ],
             [
              0.8888888888888888,
              "#fdca26"
             ],
             [
              1,
              "#f0f921"
             ]
            ],
            "type": "heatmapgl"
           }
          ],
          "histogram": [
           {
            "marker": {
             "pattern": {
              "fillmode": "overlay",
              "size": 10,
              "solidity": 0.2
             }
            },
            "type": "histogram"
           }
          ],
          "histogram2d": [
           {
            "colorbar": {
             "outlinewidth": 0,
             "ticks": ""
            },
            "colorscale": [
             [
              0,
              "#0d0887"
             ],
             [
              0.1111111111111111,
              "#46039f"
             ],
             [
              0.2222222222222222,
              "#7201a8"
             ],
             [
              0.3333333333333333,
              "#9c179e"
             ],
             [
              0.4444444444444444,
              "#bd3786"
             ],
             [
              0.5555555555555556,
              "#d8576b"
             ],
             [
              0.6666666666666666,
              "#ed7953"
             ],
             [
              0.7777777777777778,
              "#fb9f3a"
             ],
             [
              0.8888888888888888,
              "#fdca26"
             ],
             [
              1,
              "#f0f921"
             ]
            ],
            "type": "histogram2d"
           }
          ],
          "histogram2dcontour": [
           {
            "colorbar": {
             "outlinewidth": 0,
             "ticks": ""
            },
            "colorscale": [
             [
              0,
              "#0d0887"
             ],
             [
              0.1111111111111111,
              "#46039f"
             ],
             [
              0.2222222222222222,
              "#7201a8"
             ],
             [
              0.3333333333333333,
              "#9c179e"
             ],
             [
              0.4444444444444444,
              "#bd3786"
             ],
             [
              0.5555555555555556,
              "#d8576b"
             ],
             [
              0.6666666666666666,
              "#ed7953"
             ],
             [
              0.7777777777777778,
              "#fb9f3a"
             ],
             [
              0.8888888888888888,
              "#fdca26"
             ],
             [
              1,
              "#f0f921"
             ]
            ],
            "type": "histogram2dcontour"
           }
          ],
          "mesh3d": [
           {
            "colorbar": {
             "outlinewidth": 0,
             "ticks": ""
            },
            "type": "mesh3d"
           }
          ],
          "parcoords": [
           {
            "line": {
             "colorbar": {
              "outlinewidth": 0,
              "ticks": ""
             }
            },
            "type": "parcoords"
           }
          ],
          "pie": [
           {
            "automargin": true,
            "type": "pie"
           }
          ],
          "scatter": [
           {
            "marker": {
             "colorbar": {
              "outlinewidth": 0,
              "ticks": ""
             }
            },
            "type": "scatter"
           }
          ],
          "scatter3d": [
           {
            "line": {
             "colorbar": {
              "outlinewidth": 0,
              "ticks": ""
             }
            },
            "marker": {
             "colorbar": {
              "outlinewidth": 0,
              "ticks": ""
             }
            },
            "type": "scatter3d"
           }
          ],
          "scattercarpet": [
           {
            "marker": {
             "colorbar": {
              "outlinewidth": 0,
              "ticks": ""
             }
            },
            "type": "scattercarpet"
           }
          ],
          "scattergeo": [
           {
            "marker": {
             "colorbar": {
              "outlinewidth": 0,
              "ticks": ""
             }
            },
            "type": "scattergeo"
           }
          ],
          "scattergl": [
           {
            "marker": {
             "colorbar": {
              "outlinewidth": 0,
              "ticks": ""
             }
            },
            "type": "scattergl"
           }
          ],
          "scattermapbox": [
           {
            "marker": {
             "colorbar": {
              "outlinewidth": 0,
              "ticks": ""
             }
            },
            "type": "scattermapbox"
           }
          ],
          "scatterpolar": [
           {
            "marker": {
             "colorbar": {
              "outlinewidth": 0,
              "ticks": ""
             }
            },
            "type": "scatterpolar"
           }
          ],
          "scatterpolargl": [
           {
            "marker": {
             "colorbar": {
              "outlinewidth": 0,
              "ticks": ""
             }
            },
            "type": "scatterpolargl"
           }
          ],
          "scatterternary": [
           {
            "marker": {
             "colorbar": {
              "outlinewidth": 0,
              "ticks": ""
             }
            },
            "type": "scatterternary"
           }
          ],
          "surface": [
           {
            "colorbar": {
             "outlinewidth": 0,
             "ticks": ""
            },
            "colorscale": [
             [
              0,
              "#0d0887"
             ],
             [
              0.1111111111111111,
              "#46039f"
             ],
             [
              0.2222222222222222,
              "#7201a8"
             ],
             [
              0.3333333333333333,
              "#9c179e"
             ],
             [
              0.4444444444444444,
              "#bd3786"
             ],
             [
              0.5555555555555556,
              "#d8576b"
             ],
             [
              0.6666666666666666,
              "#ed7953"
             ],
             [
              0.7777777777777778,
              "#fb9f3a"
             ],
             [
              0.8888888888888888,
              "#fdca26"
             ],
             [
              1,
              "#f0f921"
             ]
            ],
            "type": "surface"
           }
          ],
          "table": [
           {
            "cells": {
             "fill": {
              "color": "#EBF0F8"
             },
             "line": {
              "color": "white"
             }
            },
            "header": {
             "fill": {
              "color": "#C8D4E3"
             },
             "line": {
              "color": "white"
             }
            },
            "type": "table"
           }
          ]
         },
         "layout": {
          "annotationdefaults": {
           "arrowcolor": "#2a3f5f",
           "arrowhead": 0,
           "arrowwidth": 1
          },
          "autotypenumbers": "strict",
          "coloraxis": {
           "colorbar": {
            "outlinewidth": 0,
            "ticks": ""
           }
          },
          "colorscale": {
           "diverging": [
            [
             0,
             "#8e0152"
            ],
            [
             0.1,
             "#c51b7d"
            ],
            [
             0.2,
             "#de77ae"
            ],
            [
             0.3,
             "#f1b6da"
            ],
            [
             0.4,
             "#fde0ef"
            ],
            [
             0.5,
             "#f7f7f7"
            ],
            [
             0.6,
             "#e6f5d0"
            ],
            [
             0.7,
             "#b8e186"
            ],
            [
             0.8,
             "#7fbc41"
            ],
            [
             0.9,
             "#4d9221"
            ],
            [
             1,
             "#276419"
            ]
           ],
           "sequential": [
            [
             0,
             "#0d0887"
            ],
            [
             0.1111111111111111,
             "#46039f"
            ],
            [
             0.2222222222222222,
             "#7201a8"
            ],
            [
             0.3333333333333333,
             "#9c179e"
            ],
            [
             0.4444444444444444,
             "#bd3786"
            ],
            [
             0.5555555555555556,
             "#d8576b"
            ],
            [
             0.6666666666666666,
             "#ed7953"
            ],
            [
             0.7777777777777778,
             "#fb9f3a"
            ],
            [
             0.8888888888888888,
             "#fdca26"
            ],
            [
             1,
             "#f0f921"
            ]
           ],
           "sequentialminus": [
            [
             0,
             "#0d0887"
            ],
            [
             0.1111111111111111,
             "#46039f"
            ],
            [
             0.2222222222222222,
             "#7201a8"
            ],
            [
             0.3333333333333333,
             "#9c179e"
            ],
            [
             0.4444444444444444,
             "#bd3786"
            ],
            [
             0.5555555555555556,
             "#d8576b"
            ],
            [
             0.6666666666666666,
             "#ed7953"
            ],
            [
             0.7777777777777778,
             "#fb9f3a"
            ],
            [
             0.8888888888888888,
             "#fdca26"
            ],
            [
             1,
             "#f0f921"
            ]
           ]
          },
          "colorway": [
           "#636efa",
           "#EF553B",
           "#00cc96",
           "#ab63fa",
           "#FFA15A",
           "#19d3f3",
           "#FF6692",
           "#B6E880",
           "#FF97FF",
           "#FECB52"
          ],
          "font": {
           "color": "#2a3f5f"
          },
          "geo": {
           "bgcolor": "white",
           "lakecolor": "white",
           "landcolor": "#E5ECF6",
           "showlakes": true,
           "showland": true,
           "subunitcolor": "white"
          },
          "hoverlabel": {
           "align": "left"
          },
          "hovermode": "closest",
          "mapbox": {
           "style": "light"
          },
          "paper_bgcolor": "white",
          "plot_bgcolor": "#E5ECF6",
          "polar": {
           "angularaxis": {
            "gridcolor": "white",
            "linecolor": "white",
            "ticks": ""
           },
           "bgcolor": "#E5ECF6",
           "radialaxis": {
            "gridcolor": "white",
            "linecolor": "white",
            "ticks": ""
           }
          },
          "scene": {
           "xaxis": {
            "backgroundcolor": "#E5ECF6",
            "gridcolor": "white",
            "gridwidth": 2,
            "linecolor": "white",
            "showbackground": true,
            "ticks": "",
            "zerolinecolor": "white"
           },
           "yaxis": {
            "backgroundcolor": "#E5ECF6",
            "gridcolor": "white",
            "gridwidth": 2,
            "linecolor": "white",
            "showbackground": true,
            "ticks": "",
            "zerolinecolor": "white"
           },
           "zaxis": {
            "backgroundcolor": "#E5ECF6",
            "gridcolor": "white",
            "gridwidth": 2,
            "linecolor": "white",
            "showbackground": true,
            "ticks": "",
            "zerolinecolor": "white"
           }
          },
          "shapedefaults": {
           "line": {
            "color": "#2a3f5f"
           }
          },
          "ternary": {
           "aaxis": {
            "gridcolor": "white",
            "linecolor": "white",
            "ticks": ""
           },
           "baxis": {
            "gridcolor": "white",
            "linecolor": "white",
            "ticks": ""
           },
           "bgcolor": "#E5ECF6",
           "caxis": {
            "gridcolor": "white",
            "linecolor": "white",
            "ticks": ""
           }
          },
          "title": {
           "x": 0.05
          },
          "xaxis": {
           "automargin": true,
           "gridcolor": "white",
           "linecolor": "white",
           "ticks": "",
           "title": {
            "standoff": 15
           },
           "zerolinecolor": "white",
           "zerolinewidth": 2
          },
          "yaxis": {
           "automargin": true,
           "gridcolor": "white",
           "linecolor": "white",
           "ticks": "",
           "title": {
            "standoff": 15
           },
           "zerolinecolor": "white",
           "zerolinewidth": 2
          }
         }
        },
        "title": {
         "text": "F(γ,β)"
        },
        "width": 700,
        "xaxis": {
         "title": {
          "text": "γ"
         }
        },
        "yaxis": {
         "title": {
          "text": "β"
         }
        }
       }
      },
      "text/html": [
       "<div>                            <div id=\"d56b57e3-a188-4cda-b0b6-033e1df4a155\" class=\"plotly-graph-div\" style=\"height:700px; width:700px;\"></div>            <script type=\"text/javascript\">                require([\"plotly\"], function(Plotly) {                    window.PLOTLYENV=window.PLOTLYENV || {};                                    if (document.getElementById(\"d56b57e3-a188-4cda-b0b6-033e1df4a155\")) {                    Plotly.newPlot(                        \"d56b57e3-a188-4cda-b0b6-033e1df4a155\",                        [{\"colorscale\":[[0.0,\"#440154\"],[0.1111111111111111,\"#482878\"],[0.2222222222222222,\"#3e4989\"],[0.3333333333333333,\"#31688e\"],[0.4444444444444444,\"#26828e\"],[0.5555555555555556,\"#1f9e89\"],[0.6666666666666666,\"#35b779\"],[0.7777777777777778,\"#6ece58\"],[0.8888888888888888,\"#b5de2b\"],[1.0,\"#fde725\"]],\"type\":\"heatmap\",\"x\":[0.0,0.1,0.2,0.30000000000000004,0.4,0.5,0.6000000000000001,0.7000000000000001,0.8,0.9,1.0,1.1,1.2000000000000002,1.3,1.4000000000000001,1.5,1.6,1.7000000000000002,1.8,1.9000000000000001,2.0,2.1,2.2,2.3000000000000003,2.4000000000000004,2.5,2.6,2.7,2.8000000000000003,2.9000000000000004,3.0,3.1],\"y\":[0.0,0.1,0.2,0.30000000000000004,0.4,0.5,0.6000000000000001,0.7000000000000001,0.8,0.9,1.0,1.1,1.2000000000000002,1.3,1.4000000000000001,1.5,1.6,1.7000000000000002,1.8,1.9000000000000001,2.0,2.1,2.2,2.3000000000000003,2.4000000000000004,2.5,2.6,2.7,2.8000000000000003,2.9000000000000004,3.0,3.1],\"z\":[[-2.969,-2.9905,-2.99975,-2.97575,-2.94725,-2.94925,-2.94725,-2.937,-2.95525,-2.918,-2.91775,-2.93,-2.9105,-2.917,-2.9,-2.87475,-2.89,-2.91225,-2.91525,-2.9215,-2.894,-2.86075,-2.8815,-2.85425,-2.8875,-2.8775,-2.86575,-2.85275,-2.857,-2.8915,-2.887,-2.90225],[-2.9998669726811533,-2.954575172732612,-2.875703154196649,-2.862357472643128,-2.82210834442595,-2.7738796060643542,-2.7613155315847004,-2.779542040472178,-2.771670427345046,-2.7324794108198867,-2.7960202679357344,-2.8103906864234625,-2.812391693664786,-2.845171757886473,-2.8363569654802476,-2.8760881479296083,-2.9136854822384732,-2.9100351439545165,-2.9093960364324123,-2.9574968146553906,-2.9843543692838654,-2.9932847801271776,-3.0170635100823344,-3.0232893610842355,-3.0383563455330393,-3.056846390456944,-3.0137591312358447,-3.0109506048750965,-3.0292444392791293,-2.951645415130819,-2.9697276164202355,-2.9172578759710905],[-2.9625533860796955,-2.852770092492939,-2.776115779318604,-2.7302455061013116,-2.6874960929278187,-2.6238746060799567,-2.5837477513099274,-2.5516734787971007,-2.5699348577744026,-2.581929061661866,-2.620984483711027,-2.6763426452181345,-2.7036930979079035,-2.745766435539329,-2.8046474245030195,-2.819178948304089,-2.881289821197224,-2.916598024498103,-2.980683418841528,-2.988549107031308,-3.01988313056637,-3.096851867963215,-3.1060117823141655,-3.1285468894083297,-3.158916215932994,-3.17278376500763,-3.15933570931132,-3.1282428666984887,-3.0893841879845056,-3.0266025878208924,-2.964656798885265,-2.888345851379782],[-2.9715584072863663,-2.8156858045449566,-2.6871068907606253,-2.6143676751039737,-2.519558455897864,-2.438990183686157,-2.408980856569936,-2.379558475676066,-2.39637913677775,-2.406379733016551,-2.4767060160995413,-2.551981086321215,-2.6376906074806574,-2.658578084385206,-2.7286846837721734,-2.775532301585136,-2.8551183097863944,-2.943327880954193,-2.9686458829587767,-3.000827081340345,-3.096677531254681,-3.0773774717099447,-3.121639283326477,-3.185463085440394,-3.1945649730647436,-3.1647701760621825,-3.209915809318058,-3.1768741677502765,-3.120864504934266,-3.069391787653031,-2.9606729918271992,-2.867796843249658],[-3.035416586792809,-2.8061909866583665,-2.6371321895753845,-2.485259526421848,-2.4423769059953835,-2.3458568018208728,-2.272173011158448,-2.264592870507608,-2.2815293836233557,-2.3223579590243797,-2.3748913576162534,-2.4761985942075175,-2.521733279553445,-2.6344337704595,-2.7151297012453464,-2.774888815198819,-2.8665038830063785,-2.9143346871511375,-2.948014023220073,-2.996184255375604,-3.029248724567408,-3.0737664790008816,-3.1093237783525405,-3.121757788559194,-3.1421202375446176,-3.125375047268464,-3.1533368311132746,-3.121305238040075,-3.057721721669876,-3.013463862276463,-2.9216151352519697,-2.8014994447807138],[-3.012623678373946,-2.7435274261677716,-2.6060575162714574,-2.503347271908727,-2.394903631908003,-2.312055400361798,-2.2730832793515834,-2.239305722775363,-2.2552907754242972,-2.2864961373880717,-2.3511939677393405,-2.4257982908740696,-2.5175459646375162,-2.623004215483077,-2.6931728391000447,-2.7797417891333667,-2.8241001003436055,-2.860844947122055,-2.923482027229113,-2.9508643399834886,-3.001929504271391,-3.000253690210029,-2.9887483360041793,-3.0125023428024162,-3.0441558618431497,-3.029605918793909,-3.025267800380076,-3.020358597001323,-2.970138438589485,-2.9295908330223868,-2.8606155061394536,-2.7561988899574708],[-3.0551553981401662,-2.673960103758012,-2.57797526710292,-2.487020669966392,-2.3919921561356987,-2.316308418203028,-2.2758563977845534,-2.2960571918610864,-2.284478009440754,-2.2939294707683353,-2.367292979657358,-2.4629269759196357,-2.5564172409093473,-2.62372481716807,-2.7389673791605746,-2.828348094283077,-2.868941702071694,-2.87090598432186,-2.886763136379655,-2.8986640290085988,-2.8777600280410853,-2.893195457736541,-2.860496410301687,-2.845089944698245,-2.855658576162142,-2.8724564640808854,-2.852020982024393,-2.852427577110988,-2.8070706268994337,-2.7933627580320084,-2.76863233193656,-2.6802780162065303],[-3.048022829595468,-2.7125031737306147,-2.6392624647770266,-2.593448936678199,-2.462699437731214,-2.4590807662877214,-2.3940851995966708,-2.359274093931668,-2.362920388606404,-2.393631717473458,-2.47386681481561,-2.5461203484427335,-2.613659831972703,-2.693969668221759,-2.748258104300819,-2.790323023062567,-2.825152919622157,-2.85276229754772,-2.8456840560600023,-2.8114252876266237,-2.7888987735430333,-2.760347473519825,-2.730707273578489,-2.6926298341152166,-2.690318175361488,-2.6992242508936535,-2.7021244783063985,-2.719635270959104,-2.660913835385255,-2.7084024764806096,-2.713305600760481,-2.650314432810048],[-3.037601830807256,-2.72080039227718,-2.679046942046664,-2.67555835221625,-2.6027493509566924,-2.570607199688394,-2.5027372508745005,-2.5118822815416024,-2.5190198897051688,-2.528358064690079,-2.577057062179979,-2.6207354905399414,-2.6896565154400496,-2.7311229640828425,-2.7784617365071362,-2.836917890124205,-2.8295832414989492,-2.818193310064398,-2.7983999804803563,-2.7326365781138207,-2.7098172705283954,-2.634562329095097,-2.5670273977148343,-2.5538557882222097,-2.529221981971534,-2.502792350843289,-2.483996879839712,-2.5135067694588034,-2.5193036889991385,-2.580887127540125,-2.6213451962263563,-2.6252444134117647],[-3.0167907898894892,-2.7148425855478844,-2.7710195031313005,-2.7533028187039776,-2.7539427990555656,-2.7327957637538542,-2.745592076224085,-2.683913916786746,-2.68319389896276,-2.706164896268406,-2.7263398142636475,-2.7665092054945664,-2.8319018584744104,-2.8318987331411813,-2.829018810558847,-2.8598126931751873,-2.8852735613158322,-2.817885923907419,-2.7473258691303197,-2.710685119400662,-2.6161021458199256,-2.5494092095590397,-2.447793642602012,-2.3942976018446833,-2.3547445352816045,-2.3381440403641665,-2.3711915184470818,-2.4068636809563695,-2.441002953189593,-2.503884903693582,-2.5859084719667766,-2.608103479155371],[-3.009514467244371,-2.8142197755786227,-2.8202918738189466,-2.8846842879887262,-2.868172205333591,-2.915951620864448,-2.9111680070758243,-2.8963393573313674,-2.8939070239786244,-2.895929810253618,-2.9013741307738634,-2.89161568566504,-2.8919807774937705,-2.932146480014684,-2.911723137017722,-2.90565227244783,-2.8593823611878184,-2.7970007998379987,-2.777027913864227,-2.6425032816930893,-2.5878993075288617,-2.485427812606111,-2.3957910045805106,-2.3338521885294257,-2.265836290018589,-2.29668541853363,-2.281917149729219,-2.317410404992262,-2.3625663998559054,-2.458105035323976,-2.5241741354591922,-2.6275739839346732],[-3.01525,-2.866,-2.92475,-2.948,-3.00325,-3.01425,-3.04225,-3.0395,-3.06125,-3.03025,-3.0145,-2.99675,-2.97425,-2.98975,-2.96675,-2.94525,-2.872,-2.8195,-2.7405,-2.698,-2.6055,-2.49375,-2.42375,-2.393,-2.3575,-2.299,-2.3255,-2.3665,-2.39225,-2.4835,-2.5705,-2.65575],[-2.9511508125151686,-2.9107216425247677,-2.9684330295553516,-3.062168902853431,-3.1152920869163316,-3.139607197561271,-3.1625554342800313,-3.143892550035942,-3.1634890263264808,-3.1299595798408597,-3.0681495464659077,-3.0833947729035547,-3.0483870491797282,-3.028549767008266,-3.0046552710887453,-2.957515275347979,-2.884000598234599,-2.8575420960119717,-2.7569951182508583,-2.6470245208993655,-2.657236895885471,-2.5037681428000056,-2.4157570933800763,-2.404968330608313,-2.322809215465881,-2.320368679546427,-2.312701929961689,-2.353562915278446,-2.413276755486239,-2.4648814009048454,-2.594425550832842,-2.7245608741181693],[-2.9923628501185737,-2.9411010970291147,-3.045140996655923,-3.1052467884234414,-3.1416475251870644,-3.159269471704843,-3.1871962965219343,-3.169100159813737,-3.1852844293259044,-3.114862869231016,-3.124575113150792,-3.0639689526236866,-3.0607166898892064,-3.011719768548349,-2.9722678695494724,-2.933520765828534,-2.8918736787956174,-2.8195117041716484,-2.785519000744127,-2.692001603489269,-2.668796378930223,-2.619102836400558,-2.5049136130818312,-2.490463892197836,-2.4480975771725837,-2.4445470894800883,-2.4731065444469262,-2.4830294800116666,-2.5226761200416163,-2.644449910407418,-2.6875163290789246,-2.735793797840051],[-2.9324428104131277,-2.990218487732634,-3.0166173210084186,-3.093050341371817,-3.1223483848049427,-3.1524274306286806,-3.1603345944777885,-3.161946279082473,-3.1597004487677784,-3.1278197312477225,-3.0940173093670875,-3.061169237351476,-3.0416644084574966,-3.0203082936177297,-2.9447241967918085,-2.912903867210821,-2.8925282955433564,-2.877645637646255,-2.801430215218677,-2.7478609610794793,-2.75202986079343,-2.717252279185899,-2.6545650340994276,-2.6634672469493106,-2.6420840313121987,-2.587357457376239,-2.5905680122787325,-2.641313253705213,-2.6580249153084687,-2.7078118750579,-2.76461788620019,-2.855275238018417],[-2.9592865570700475,-2.9777742140908545,-2.9959302605730906,-3.0142239892197837,-3.0260463070735404,-3.034195655979991,-3.024855693545124,-3.0247007600939124,-3.0352578747503145,-3.01150661609818,-2.9908735929686667,-2.9871503001171567,-2.9759650010907595,-2.950930895096667,-2.933816461758602,-2.9172720771138505,-2.9117720954988955,-2.8666389472730023,-2.876384614051613,-2.846526827055041,-2.8431454275772343,-2.8354918637515705,-2.822365312072261,-2.8113290312596106,-2.785252059506298,-2.7995917890477946,-2.7975514729855675,-2.8023259148430304,-2.8285409384476745,-2.8445883044859595,-2.8464850804817328,-2.8854492482230527],[-2.967596981199883,-2.920311132905826,-2.949276985644182,-2.92427854869905,-2.888912384798897,-2.9047852641129452,-2.874860702750954,-2.853626793209024,-2.8862706837724192,-2.880212166770136,-2.882878618794894,-2.877898481144251,-2.897173585082554,-2.8878347820245724,-2.873234323816357,-2.8979787972675775,-2.9045445824549505,-2.9148483447387123,-2.8968886267727783,-2.9440439401169933,-2.9435682871817295,-2.9272246096539623,-2.935560357013763,-2.980241911981194,-2.9740760894742437,-2.951447597262862,-2.9360314556691867,-2.954619578689824,-2.9653233642669243,-2.928028313959611,-2.9105460225238637,-2.894233021422771],[-2.99169286375924,-2.917867751318664,-2.880368544675068,-2.8097023034559143,-2.729915838963785,-2.71982785159271,-2.6971621977771396,-2.6768875680192945,-2.6913353539824527,-2.678548091060742,-2.7025783021735665,-2.74934986185308,-2.7202350955060557,-2.8056173205280963,-2.801522531201265,-2.836432290889833,-2.880516281194127,-2.916577594325339,-2.9094698080313677,-2.967898273425069,-3.0355124743759356,-3.0224318756847213,-3.0569517850374566,-3.0873479977184255,-3.079185313544734,-3.094814175191207,-3.082899721493311,-3.0560428033239155,-3.0589194454059716,-3.0023092696172506,-2.943289427141956,-2.8819385823110553],[-3.00811742043552,-2.8507540688029795,-2.744096547076779,-2.682405441125264,-2.600806419443334,-2.5556408557199344,-2.517415009218022,-2.5008845811144025,-2.5174694760871685,-2.551140907792724,-2.542242494957898,-2.655772100043494,-2.7045337399551084,-2.752994505969861,-2.762149205956473,-2.816271978723941,-2.888115839294957,-2.9156247555824795,-2.927877640986444,-3.02237076341249,-3.04570877458312,-3.069640747604518,-3.113199794093006,-3.121677525977478,-3.1343214092679954,-3.1308832323629647,-3.1257033580857034,-3.096606395180865,-3.066820650696918,-3.0268326104305348,-2.9431889208141264,-2.870518732226288],[-3.006312493473216,-2.7188327581015064,-2.6373886160162745,-2.521510055007404,-2.428431429018554,-2.4117375440378708,-2.3354260816428956,-2.347182593877415,-2.346210778282978,-2.404054366496217,-2.4753637938489907,-2.5373279804597213,-2.602144807237585,-2.6971399504370983,-2.772820415882931,-2.8000716133814247,-2.8761863926623237,-2.9037676639449668,-2.942948074677035,-2.994629526422451,-3.018591391543582,-3.0530131305145436,-3.0941035206409078,-3.0822677296071737,-3.153795933905947,-3.1319960104767555,-3.106915409081381,-3.09487754469317,-3.0423259905474183,-3.0033033914811815,-2.904958393779729,-2.812663597281045],[-3.0523035191825545,-2.6661446710911627,-2.535677586916429,-2.4199076973791884,-2.354485491195516,-2.267709649563251,-2.246772250184042,-2.23626212573117,-2.270019237260311,-2.2789217147746585,-2.3716125282208496,-2.4822090947541127,-2.509244177075584,-2.6646254010168424,-2.707280749797963,-2.809530971906589,-2.8472672653874143,-2.89396044669598,-2.9408034042396753,-2.9364780278936173,-2.99443209530319,-3.041324032730822,-3.0293398651925605,-3.041515659094741,-3.0305134695804394,-3.056446266180562,-3.024567771091536,-2.983835375193701,-2.961894894287611,-2.900581519466358,-2.8059219160120166,-2.7473434628481725],[-3.033262182043782,-2.6387850611667703,-2.4712330585066833,-2.4334767904596903,-2.3366987410462854,-2.261003886824526,-2.2152625487131283,-2.1864383542979473,-2.236075758057627,-2.2584566352359836,-2.334654481204049,-2.44816714722092,-2.5291121596325534,-2.6332236772427215,-2.698665839527423,-2.777740126526324,-2.8580722199621085,-2.8993487950812,-2.9123357635217673,-2.8792798967570605,-2.9224933221488882,-2.884551181886919,-2.931088377745612,-2.921904784565317,-2.9191511771155385,-2.91714393766113,-2.928282390566682,-2.910949514768021,-2.8568472450613838,-2.8072087140553936,-2.7341987099069063,-2.6630124339742522],[-3.045,-2.71375,-2.6015,-2.55625,-2.47375,-2.3875,-2.35125,-2.362,-2.36325,-2.38325,-2.46675,-2.5785,-2.6335,-2.70825,-2.744,-2.84525,-2.8425,-2.869,-2.88775,-2.8785,-2.82975,-2.824,-2.8255,-2.809,-2.80125,-2.805,-2.8095,-2.7945,-2.7805,-2.77225,-2.751,-2.684],[-3.050573605058132,-2.5844342392323916,-2.5367203294742464,-2.519315899398908,-2.402156855840394,-2.392651002881293,-2.3493142834819762,-2.361171498047957,-2.3994792158138445,-2.384579882736557,-2.480568631940562,-2.568717937460514,-2.655943929432919,-2.7211559302037847,-2.7820269048275104,-2.8147710846035836,-2.8116655190292716,-2.8389014224325932,-2.813438352043274,-2.7757586357681516,-2.7285600419569334,-2.667549653460729,-2.6615947785534884,-2.582728810652657,-2.5984296636012956,-2.5616080328709896,-2.5377559083853356,-2.5516667283479735,-2.5701890349677066,-2.5947468879692517,-2.587744811089073,-2.550450807094031],[-3.0367491921653014,-2.6054590851028356,-2.607269686963895,-2.6101810906204657,-2.5614507562532367,-2.525823806278456,-2.556243777088215,-2.5412042405730273,-2.528979121637896,-2.5892843791815303,-2.638317699210729,-2.7116946103071102,-2.712957026586425,-2.770226114453551,-2.819423505780732,-2.846481089069179,-2.8366937521307394,-2.8102611130132895,-2.7828000992553736,-2.711236961932446,-2.6514504591108508,-2.5727685354687213,-2.4665414033943867,-2.475000664867601,-2.376574770786672,-2.367115317033051,-2.3654901030674877,-2.402599240760725,-2.3982967890729627,-2.4860670116438652,-2.514640710339511,-2.5490986299419434],[-3.035013147688424,-2.693984261991351,-2.724771035654304,-2.7460745588049273,-2.7421985037550254,-2.757910507935311,-2.7601727345772726,-2.725802888550923,-2.7568318466656594,-2.726515581371369,-2.766022172795495,-2.819392034343459,-2.828836529311356,-2.8797939288290095,-2.882468099927387,-2.895534031420861,-2.883533937310559,-2.811443847636997,-2.809519779223316,-2.656802031120926,-2.584896534007216,-2.4801972809226704,-2.407331545721355,-2.34038847061943,-2.293325603835459,-2.3173998174774573,-2.3326193445904586,-2.325300485856146,-2.3769617281233595,-2.457586401602881,-2.521063257483697,-2.5716957207960243],[-2.994743445678379,-2.7387791165051123,-2.8327904737394545,-2.8782196894987964,-2.8872328567705114,-2.880877292246269,-2.947086808535514,-2.917498769224022,-2.904915226347286,-2.9107475135305543,-2.93180735966347,-2.9673074433933704,-2.929443226285885,-2.9151212122805226,-2.9448928502198823,-2.879553602878872,-2.857932185376637,-2.8141661109667453,-2.7581523365098035,-2.642045382137588,-2.5754020960166426,-2.4164967675541416,-2.3162111192675736,-2.2713820434291954,-2.208934561908517,-2.180380534025135,-2.226364859463638,-2.258664652204937,-2.3028744013249134,-2.4479450205693025,-2.5110940907905395,-2.642105079780846],[-2.9620927237453625,-2.864448330930388,-2.950313509675488,-3.0108757112073907,-3.035758024209412,-3.048552165190944,-3.08460839600492,-3.080303220380713,-3.0610692936655868,-3.033304379349831,-3.0403756448694934,-3.051248191399801,-3.0170021601403105,-2.9999281273301097,-2.957290240120769,-2.9376958563778204,-2.868330028925025,-2.8205598397266085,-2.752543367618284,-2.6572532342887043,-2.549267290232001,-2.448929568484882,-2.377078083445469,-2.2857076376084473,-2.2910858974676525,-2.238817120713674,-2.24027368223653,-2.3006549588496394,-2.35833991752137,-2.464199180162117,-2.5563021708205285,-2.7029971356352522],[-2.962992947968734,-2.9064757800491487,-2.9992380691469354,-3.079130797363196,-3.1119306648826575,-3.1236346029996493,-3.129835234294566,-3.152100905848747,-3.1390650636408566,-3.111766285612102,-3.0892416455421277,-3.088827400346233,-3.016474447881788,-2.9952048331918446,-2.9995060776245714,-2.9379032304721457,-2.8947021632677306,-2.8574804531029003,-2.7843902336128474,-2.649973462724769,-2.618950809391265,-2.5177996912851226,-2.470605041073716,-2.3476714417772007,-2.330985449703895,-2.338845272480234,-2.3383276666516384,-2.383758729384984,-2.44909906538459,-2.540858528972494,-2.6494822391863355,-2.7677709359719094],[-2.9583171071731647,-2.9354328508063365,-3.0311984835649257,-3.08338604247739,-3.1228653532555604,-3.1422530683428063,-3.159872667735185,-3.185859179412877,-3.156367402148337,-3.1334412766169595,-3.094568872886425,-3.088607187007094,-3.0597715299651655,-3.028013864252423,-2.9724275699904905,-2.92870493381354,-2.8773135434577752,-2.8335653598349735,-2.7982490229052357,-2.7277713739140768,-2.682558702492288,-2.577254644387623,-2.5107215450942273,-2.450399970732068,-2.4500143799970586,-2.4156725363352978,-2.457582118877168,-2.456745362749638,-2.552631149330613,-2.6265820072733828,-2.7314831190459143,-2.7987016069802197],[-2.9483473377671303,-2.97461038809402,-2.997817191580183,-3.071545462239703,-3.094792222275029,-3.1032814844550822,-3.1076920124464533,-3.107686215448599,-3.115800956808161,-3.0820521701574943,-3.054208818450135,-3.0584744661602414,-3.0247498209790957,-3.011441890191232,-2.9371074371578434,-2.947267578185399,-2.8888956879146006,-2.890850989956837,-2.8260668231833876,-2.766711285831605,-2.741505284094896,-2.6826391964505385,-2.655832682419689,-2.6134331308410736,-2.6421271484010274,-2.586775603922519,-2.590707108608495,-2.6327713111680793,-2.6821243573116065,-2.7293619717554103,-2.7967392367428627,-2.847884722598746],[-2.9439840986030665,-2.9735334906917603,-2.9947683367952402,-2.9948825575117257,-2.9803797593559715,-2.997009550835754,-2.968016360467372,-2.9784871129899164,-2.97931776095006,-2.981338838316292,-2.950495286816543,-3.0007359362480672,-2.9634913902918103,-2.919084941431179,-2.90987764712947,-2.9080441891423883,-2.9072029505079953,-2.9082334890165145,-2.880258622194981,-2.8725327689136564,-2.8378097714318704,-2.823425359440801,-2.802925364490436,-2.8073543682489883,-2.8060540006584556,-2.8127753780821103,-2.7947977945891336,-2.8299654750689913,-2.8162212024738107,-2.882708983322036,-2.865568879677918,-2.9177504708467445]]},{\"hovertemplate\":\"x: %{x}<br>y: %{y}<br> z: %{text:.2f}<extra></extra>\",\"marker\":{\"color\":\"red\",\"line\":{\"width\":1},\"size\":16,\"symbol\":[204]},\"mode\":\"markers\",\"text\":[\"-3.209915809318058\"],\"type\":\"scatter\",\"x\":[2.6],\"y\":[0.30000000000000004]}],                        {\"height\":700,\"template\":{\"data\":{\"bar\":[{\"error_x\":{\"color\":\"#2a3f5f\"},\"error_y\":{\"color\":\"#2a3f5f\"},\"marker\":{\"line\":{\"color\":\"#E5ECF6\",\"width\":0.5},\"pattern\":{\"fillmode\":\"overlay\",\"size\":10,\"solidity\":0.2}},\"type\":\"bar\"}],\"barpolar\":[{\"marker\":{\"line\":{\"color\":\"#E5ECF6\",\"width\":0.5},\"pattern\":{\"fillmode\":\"overlay\",\"size\":10,\"solidity\":0.2}},\"type\":\"barpolar\"}],\"carpet\":[{\"aaxis\":{\"endlinecolor\":\"#2a3f5f\",\"gridcolor\":\"white\",\"linecolor\":\"white\",\"minorgridcolor\":\"white\",\"startlinecolor\":\"#2a3f5f\"},\"baxis\":{\"endlinecolor\":\"#2a3f5f\",\"gridcolor\":\"white\",\"linecolor\":\"white\",\"minorgridcolor\":\"white\",\"startlinecolor\":\"#2a3f5f\"},\"type\":\"carpet\"}],\"choropleth\":[{\"colorbar\":{\"outlinewidth\":0,\"ticks\":\"\"},\"type\":\"choropleth\"}],\"contour\":[{\"colorbar\":{\"outlinewidth\":0,\"ticks\":\"\"},\"colorscale\":[[0.0,\"#0d0887\"],[0.1111111111111111,\"#46039f\"],[0.2222222222222222,\"#7201a8\"],[0.3333333333333333,\"#9c179e\"],[0.4444444444444444,\"#bd3786\"],[0.5555555555555556,\"#d8576b\"],[0.6666666666666666,\"#ed7953\"],[0.7777777777777778,\"#fb9f3a\"],[0.8888888888888888,\"#fdca26\"],[1.0,\"#f0f921\"]],\"type\":\"contour\"}],\"contourcarpet\":[{\"colorbar\":{\"outlinewidth\":0,\"ticks\":\"\"},\"type\":\"contourcarpet\"}],\"heatmap\":[{\"colorbar\":{\"outlinewidth\":0,\"ticks\":\"\"},\"colorscale\":[[0.0,\"#0d0887\"],[0.1111111111111111,\"#46039f\"],[0.2222222222222222,\"#7201a8\"],[0.3333333333333333,\"#9c179e\"],[0.4444444444444444,\"#bd3786\"],[0.5555555555555556,\"#d8576b\"],[0.6666666666666666,\"#ed7953\"],[0.7777777777777778,\"#fb9f3a\"],[0.8888888888888888,\"#fdca26\"],[1.0,\"#f0f921\"]],\"type\":\"heatmap\"}],\"heatmapgl\":[{\"colorbar\":{\"outlinewidth\":0,\"ticks\":\"\"},\"colorscale\":[[0.0,\"#0d0887\"],[0.1111111111111111,\"#46039f\"],[0.2222222222222222,\"#7201a8\"],[0.3333333333333333,\"#9c179e\"],[0.4444444444444444,\"#bd3786\"],[0.5555555555555556,\"#d8576b\"],[0.6666666666666666,\"#ed7953\"],[0.7777777777777778,\"#fb9f3a\"],[0.8888888888888888,\"#fdca26\"],[1.0,\"#f0f921\"]],\"type\":\"heatmapgl\"}],\"histogram\":[{\"marker\":{\"pattern\":{\"fillmode\":\"overlay\",\"size\":10,\"solidity\":0.2}},\"type\":\"histogram\"}],\"histogram2d\":[{\"colorbar\":{\"outlinewidth\":0,\"ticks\":\"\"},\"colorscale\":[[0.0,\"#0d0887\"],[0.1111111111111111,\"#46039f\"],[0.2222222222222222,\"#7201a8\"],[0.3333333333333333,\"#9c179e\"],[0.4444444444444444,\"#bd3786\"],[0.5555555555555556,\"#d8576b\"],[0.6666666666666666,\"#ed7953\"],[0.7777777777777778,\"#fb9f3a\"],[0.8888888888888888,\"#fdca26\"],[1.0,\"#f0f921\"]],\"type\":\"histogram2d\"}],\"histogram2dcontour\":[{\"colorbar\":{\"outlinewidth\":0,\"ticks\":\"\"},\"colorscale\":[[0.0,\"#0d0887\"],[0.1111111111111111,\"#46039f\"],[0.2222222222222222,\"#7201a8\"],[0.3333333333333333,\"#9c179e\"],[0.4444444444444444,\"#bd3786\"],[0.5555555555555556,\"#d8576b\"],[0.6666666666666666,\"#ed7953\"],[0.7777777777777778,\"#fb9f3a\"],[0.8888888888888888,\"#fdca26\"],[1.0,\"#f0f921\"]],\"type\":\"histogram2dcontour\"}],\"mesh3d\":[{\"colorbar\":{\"outlinewidth\":0,\"ticks\":\"\"},\"type\":\"mesh3d\"}],\"parcoords\":[{\"line\":{\"colorbar\":{\"outlinewidth\":0,\"ticks\":\"\"}},\"type\":\"parcoords\"}],\"pie\":[{\"automargin\":true,\"type\":\"pie\"}],\"scatter\":[{\"marker\":{\"colorbar\":{\"outlinewidth\":0,\"ticks\":\"\"}},\"type\":\"scatter\"}],\"scatter3d\":[{\"line\":{\"colorbar\":{\"outlinewidth\":0,\"ticks\":\"\"}},\"marker\":{\"colorbar\":{\"outlinewidth\":0,\"ticks\":\"\"}},\"type\":\"scatter3d\"}],\"scattercarpet\":[{\"marker\":{\"colorbar\":{\"outlinewidth\":0,\"ticks\":\"\"}},\"type\":\"scattercarpet\"}],\"scattergeo\":[{\"marker\":{\"colorbar\":{\"outlinewidth\":0,\"ticks\":\"\"}},\"type\":\"scattergeo\"}],\"scattergl\":[{\"marker\":{\"colorbar\":{\"outlinewidth\":0,\"ticks\":\"\"}},\"type\":\"scattergl\"}],\"scattermapbox\":[{\"marker\":{\"colorbar\":{\"outlinewidth\":0,\"ticks\":\"\"}},\"type\":\"scattermapbox\"}],\"scatterpolar\":[{\"marker\":{\"colorbar\":{\"outlinewidth\":0,\"ticks\":\"\"}},\"type\":\"scatterpolar\"}],\"scatterpolargl\":[{\"marker\":{\"colorbar\":{\"outlinewidth\":0,\"ticks\":\"\"}},\"type\":\"scatterpolargl\"}],\"scatterternary\":[{\"marker\":{\"colorbar\":{\"outlinewidth\":0,\"ticks\":\"\"}},\"type\":\"scatterternary\"}],\"surface\":[{\"colorbar\":{\"outlinewidth\":0,\"ticks\":\"\"},\"colorscale\":[[0.0,\"#0d0887\"],[0.1111111111111111,\"#46039f\"],[0.2222222222222222,\"#7201a8\"],[0.3333333333333333,\"#9c179e\"],[0.4444444444444444,\"#bd3786\"],[0.5555555555555556,\"#d8576b\"],[0.6666666666666666,\"#ed7953\"],[0.7777777777777778,\"#fb9f3a\"],[0.8888888888888888,\"#fdca26\"],[1.0,\"#f0f921\"]],\"type\":\"surface\"}],\"table\":[{\"cells\":{\"fill\":{\"color\":\"#EBF0F8\"},\"line\":{\"color\":\"white\"}},\"header\":{\"fill\":{\"color\":\"#C8D4E3\"},\"line\":{\"color\":\"white\"}},\"type\":\"table\"}]},\"layout\":{\"annotationdefaults\":{\"arrowcolor\":\"#2a3f5f\",\"arrowhead\":0,\"arrowwidth\":1},\"autotypenumbers\":\"strict\",\"coloraxis\":{\"colorbar\":{\"outlinewidth\":0,\"ticks\":\"\"}},\"colorscale\":{\"diverging\":[[0,\"#8e0152\"],[0.1,\"#c51b7d\"],[0.2,\"#de77ae\"],[0.3,\"#f1b6da\"],[0.4,\"#fde0ef\"],[0.5,\"#f7f7f7\"],[0.6,\"#e6f5d0\"],[0.7,\"#b8e186\"],[0.8,\"#7fbc41\"],[0.9,\"#4d9221\"],[1,\"#276419\"]],\"sequential\":[[0.0,\"#0d0887\"],[0.1111111111111111,\"#46039f\"],[0.2222222222222222,\"#7201a8\"],[0.3333333333333333,\"#9c179e\"],[0.4444444444444444,\"#bd3786\"],[0.5555555555555556,\"#d8576b\"],[0.6666666666666666,\"#ed7953\"],[0.7777777777777778,\"#fb9f3a\"],[0.8888888888888888,\"#fdca26\"],[1.0,\"#f0f921\"]],\"sequentialminus\":[[0.0,\"#0d0887\"],[0.1111111111111111,\"#46039f\"],[0.2222222222222222,\"#7201a8\"],[0.3333333333333333,\"#9c179e\"],[0.4444444444444444,\"#bd3786\"],[0.5555555555555556,\"#d8576b\"],[0.6666666666666666,\"#ed7953\"],[0.7777777777777778,\"#fb9f3a\"],[0.8888888888888888,\"#fdca26\"],[1.0,\"#f0f921\"]]},\"colorway\":[\"#636efa\",\"#EF553B\",\"#00cc96\",\"#ab63fa\",\"#FFA15A\",\"#19d3f3\",\"#FF6692\",\"#B6E880\",\"#FF97FF\",\"#FECB52\"],\"font\":{\"color\":\"#2a3f5f\"},\"geo\":{\"bgcolor\":\"white\",\"lakecolor\":\"white\",\"landcolor\":\"#E5ECF6\",\"showlakes\":true,\"showland\":true,\"subunitcolor\":\"white\"},\"hoverlabel\":{\"align\":\"left\"},\"hovermode\":\"closest\",\"mapbox\":{\"style\":\"light\"},\"paper_bgcolor\":\"white\",\"plot_bgcolor\":\"#E5ECF6\",\"polar\":{\"angularaxis\":{\"gridcolor\":\"white\",\"linecolor\":\"white\",\"ticks\":\"\"},\"bgcolor\":\"#E5ECF6\",\"radialaxis\":{\"gridcolor\":\"white\",\"linecolor\":\"white\",\"ticks\":\"\"}},\"scene\":{\"xaxis\":{\"backgroundcolor\":\"#E5ECF6\",\"gridcolor\":\"white\",\"gridwidth\":2,\"linecolor\":\"white\",\"showbackground\":true,\"ticks\":\"\",\"zerolinecolor\":\"white\"},\"yaxis\":{\"backgroundcolor\":\"#E5ECF6\",\"gridcolor\":\"white\",\"gridwidth\":2,\"linecolor\":\"white\",\"showbackground\":true,\"ticks\":\"\",\"zerolinecolor\":\"white\"},\"zaxis\":{\"backgroundcolor\":\"#E5ECF6\",\"gridcolor\":\"white\",\"gridwidth\":2,\"linecolor\":\"white\",\"showbackground\":true,\"ticks\":\"\",\"zerolinecolor\":\"white\"}},\"shapedefaults\":{\"line\":{\"color\":\"#2a3f5f\"}},\"ternary\":{\"aaxis\":{\"gridcolor\":\"white\",\"linecolor\":\"white\",\"ticks\":\"\"},\"baxis\":{\"gridcolor\":\"white\",\"linecolor\":\"white\",\"ticks\":\"\"},\"bgcolor\":\"#E5ECF6\",\"caxis\":{\"gridcolor\":\"white\",\"linecolor\":\"white\",\"ticks\":\"\"}},\"title\":{\"x\":0.05},\"xaxis\":{\"automargin\":true,\"gridcolor\":\"white\",\"linecolor\":\"white\",\"ticks\":\"\",\"title\":{\"standoff\":15},\"zerolinecolor\":\"white\",\"zerolinewidth\":2},\"yaxis\":{\"automargin\":true,\"gridcolor\":\"white\",\"linecolor\":\"white\",\"ticks\":\"\",\"title\":{\"standoff\":15},\"zerolinecolor\":\"white\",\"zerolinewidth\":2}}},\"title\":{\"text\":\"F(\\u03b3,\\u03b2)\"},\"width\":700,\"xaxis\":{\"title\":{\"text\":\"\\u03b3\"}},\"yaxis\":{\"title\":{\"text\":\"\\u03b2\"}}},                        {\"responsive\": true}                    ).then(function(){\n",
       "                            \n",
       "var gd = document.getElementById('d56b57e3-a188-4cda-b0b6-033e1df4a155');\n",
       "var x = new MutationObserver(function (mutations, observer) {{\n",
       "        var display = window.getComputedStyle(gd).display;\n",
       "        if (!display || display === 'none') {{\n",
       "            console.log([gd, 'removed!']);\n",
       "            Plotly.purge(gd);\n",
       "            observer.disconnect();\n",
       "        }}\n",
       "}});\n",
       "\n",
       "// Listen for the removal of the full notebook cells\n",
       "var notebookContainer = gd.closest('#notebook-container');\n",
       "if (notebookContainer) {{\n",
       "    x.observe(notebookContainer, {childList: true});\n",
       "}}\n",
       "\n",
       "// Listen for the clearing of the current output cell\n",
       "var outputEl = gd.closest('.output');\n",
       "if (outputEl) {{\n",
       "    x.observe(outputEl, {childList: true});\n",
       "}}\n",
       "\n",
       "                        })                };                });            </script>        </div>"
      ]
     },
     "metadata": {},
     "output_type": "display_data"
    }
   ],
   "source": [
    "# Plot Heatmap \n",
    "fig = go.Figure(data=go.Heatmap(z=landscape, x=b_beta, y=a_gamma, type = 'heatmap', colorscale = 'viridis'))\n",
    "\n",
    "# Update Layout\n",
    "fig.update_layout(title=\"F(γ,β)\", width=700, height=700, yaxis_title=\"β\", xaxis_title=\"γ\")\n",
    "\n",
    "# Display Global Minimium \n",
    "fig.add_trace(\n",
    "    go.Scatter(mode=\"markers\", x=[opt_beta], y=[opt_gamma], marker_symbol=[204], text = [landscape[gamma,beta]],\n",
    "                   marker_color=\"red\",  hovertemplate=\"x: %{x}<br>y: %{y}<br> z: %{text:.2f}<extra></extra>\", \n",
    "                   marker_line_width=1, marker_size=16))"
   ]
  },
  {
   "cell_type": "code",
   "execution_count": 23,
   "id": "5eef23c8",
   "metadata": {},
   "outputs": [],
   "source": [
    "# Display Optimizer Results\n",
    "\n",
    "# Display path \n",
    "#fig.add_trace(\n",
    "#    go.Scatter(mode=\"lines\", x=gammas, y=betas, marker_symbol=[200],\n",
    "#                   marker_color=\"white\", marker_line_width=1, marker_size=8)\n",
    "#)\n",
    "\n",
    "# Display start point\n",
    "#fig.add_trace(\n",
    "#    go.Scatter(mode=\"markers\", x=[gammas[0]], y=[betas[0]], marker_symbol=[204],\n",
    "#                   marker_color=\"gray\", \n",
    "#                   marker_line_width=1, marker_size=16))\n",
    "\n",
    "# Display end point\n",
    "#fig.add_trace(\n",
    "#    go.Scatter(mode=\"markers\", x=[gammas[-1]], y=[betas[-1]], marker_symbol=[204],\n",
    "#                   marker_color=\"green\", \n",
    "#                   marker_line_width=1, marker_size=16))\n",
    "\n"
   ]
  },
  {
   "cell_type": "code",
   "execution_count": 24,
   "id": "5191a47a",
   "metadata": {},
   "outputs": [],
   "source": [
    "# Plot Optimizer History\n",
    "#fig = go.Figure(data=go.Scatter(x=counts, y=values))\n",
    "#fig.update_layout(xaxis_title=\"Evaluation Counts\", yaxis_title=\"Evaluated Mean\", title=\"Optimizer\")\n",
    "#fig.show()"
   ]
  },
  {
   "cell_type": "code",
   "execution_count": null,
   "id": "64b6705c",
   "metadata": {},
   "outputs": [],
   "source": []
  }
 ],
 "metadata": {
  "kernelspec": {
   "display_name": "python3.8",
   "language": "python",
   "name": "python3.8"
  },
  "language_info": {
   "codemirror_mode": {
    "name": "ipython",
    "version": 3
   },
   "file_extension": ".py",
   "mimetype": "text/x-python",
   "name": "python",
   "nbconvert_exporter": "python",
   "pygments_lexer": "ipython3",
   "version": "3.8.6"
  }
 },
 "nbformat": 4,
 "nbformat_minor": 5
}
