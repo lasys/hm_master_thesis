{
 "cells": [
  {
   "cell_type": "code",
   "execution_count": 29,
   "id": "08c90252",
   "metadata": {},
   "outputs": [],
   "source": [
    "import sys\n",
    "import os\n",
    "sys.path.insert(0, os.path.abspath('../'))\n",
    "sys.path.insert(0, os.path.abspath('../../'))\n",
    "sys.path.insert(0, os.path.abspath('/home/hm-tlacherm/qlm_notebooks/notebooks_1.2.1/notebooks/master_thesis_qaoa/'))\n",
    "sys.path.insert(0, os.path.abspath('/home/hm-tlacherm/qlm_notebooks/notebooks_1.2.1/notebooks/master_thesis_qaoa/ibm/'))"
   ]
  },
  {
   "cell_type": "code",
   "execution_count": 30,
   "id": "d544255f",
   "metadata": {},
   "outputs": [
    {
     "name": "stderr",
     "output_type": "stream",
     "text": [
      "ibmqfactory.load_account:WARNING:2021-10-07 22:46:56,873: Credentials are already in use. The existing account in the session will be replaced.\n"
     ]
    }
   ],
   "source": [
    "import numpy as np\n",
    "\n",
    "import qiskit\n",
    "provider = qiskit.IBMQ.load_account()\n",
    "from qiskit import Aer\n",
    "from qiskit.utils import QuantumInstance\n",
    "from qiskit_optimization.algorithms import MinimumEigenOptimizer\n",
    "from qiskit.algorithms import QAOA\n",
    "from shared.QiskitMaxcut import *\n",
    "from ibm.ibm_parameters import *\n",
    "from qiskit.ignis.mitigation.measurement import CompleteMeasFitter\n",
    "from matplotlib import pyplot as plt\n",
    "%matplotlib inline"
   ]
  },
  {
   "cell_type": "code",
   "execution_count": 31,
   "id": "c4f3a410",
   "metadata": {},
   "outputs": [
    {
     "name": "stdout",
     "output_type": "stream",
     "text": [
      "graph_05_06_02_w\n"
     ]
    },
    {
     "data": {
      "image/png": "[encoded data removed]",
      "text/plain": [
       "<Figure size 432x288 with 1 Axes>"
      ]
     },
     "metadata": {},
     "output_type": "display_data"
    }
   ],
   "source": [
    "graph = generate_butterfly_graph(with_weights=True)\n",
    "max_cut = Maxcut(graph)\n",
    "max_cut_qubo = max_cut.to_qubo()\n",
    "print(graph.name)\n",
    "max_cut.draw()"
   ]
  },
  {
   "cell_type": "code",
   "execution_count": 32,
   "id": "617f4b75",
   "metadata": {},
   "outputs": [],
   "source": [
    "step_size = 0.1\n",
    "gamma_range = np.arange(0, np.pi, step_size)\n",
    "beta_range = np.arange(0, np.pi, step_size)"
   ]
  },
  {
   "cell_type": "code",
   "execution_count": 33,
   "id": "77c26255",
   "metadata": {},
   "outputs": [
    {
     "data": {
      "text/plain": [
       "0.0"
      ]
     },
     "execution_count": 33,
     "metadata": {},
     "output_type": "execute_result"
    }
   ],
   "source": [
    "a_gamma, b_beta = np.meshgrid(gamma_range, beta_range)\n",
    "a_gamma[0,0]"
   ]
  },
  {
   "cell_type": "code",
   "execution_count": 34,
   "id": "7521ba41",
   "metadata": {},
   "outputs": [],
   "source": [
    "def maxcut_obj(x, G):\n",
    "    \"\"\"\n",
    "    Given a bitstring as a solution, this function returns\n",
    "    the number of edges shared between the two partitions\n",
    "    of the graph.\n",
    "    \n",
    "    Args:\n",
    "        x: str\n",
    "           solution bitstring\n",
    "           \n",
    "        G: networkx graph\n",
    "        \n",
    "    Returns:\n",
    "        obj: float\n",
    "             Objective\n",
    "    \"\"\"\n",
    "    obj = 0\n",
    "    for i,j,w in graph.edges.data('weight'):\n",
    "        if x[i] != x[j]:\n",
    "            obj -= w\n",
    "            \n",
    "    return obj\n",
    "\n",
    "\n",
    "def compute_expectation(counts, G):\n",
    "    \n",
    "    \"\"\"\n",
    "    Computes expectation value based on measurement results\n",
    "    \n",
    "    Args:\n",
    "        counts: dict\n",
    "                key as bitstring, val as count\n",
    "           \n",
    "        G: networkx graph\n",
    "        \n",
    "    Returns:\n",
    "        avg: float\n",
    "             expectation value\n",
    "    \"\"\"\n",
    "    \n",
    "    avg = 0\n",
    "    sum_count = 0\n",
    "    for bitstring, count in counts.items():\n",
    "        \n",
    "        obj = maxcut_obj(bitstring, G)\n",
    "        avg += obj * count\n",
    "        sum_count += count\n",
    "        \n",
    "    return avg/sum_count"
   ]
  },
  {
   "cell_type": "code",
   "execution_count": 35,
   "id": "1defe426",
   "metadata": {},
   "outputs": [],
   "source": [
    "quantum_instance = QuantumInstance(\n",
    "                    #backend=Aer.get_backend(DEFAULT_QASM_SIMULATOR),\n",
    "                    backend=provider.get_backend('ibmq_sydney'),\n",
    "                    shots=SHOTS,\n",
    "                    measurement_error_mitigation_cls=CompleteMeasFitter,\n",
    "                    measurement_error_mitigation_shots=SHOTS,\n",
    "                )\n",
    "qaoa = QAOA(\n",
    "            optimizer=COBYLA(maxiter=0),\n",
    "            quantum_instance=quantum_instance,\n",
    "            reps=1\n",
    "            )\n",
    "\n",
    "op, offset = max_cut_qubo.to_ising()"
   ]
  },
  {
   "cell_type": "code",
   "execution_count": 36,
   "id": "cf2907cd",
   "metadata": {},
   "outputs": [],
   "source": [
    "def create_cirucit(gamma,beta):\n",
    "    circuits = qaoa.construct_circuit([gamma,beta], operator=op)\n",
    "    circuit = circuits[0]\n",
    "    circuit.measure_all()\n",
    "    return circuit"
   ]
  },
  {
   "cell_type": "code",
   "execution_count": 37,
   "id": "142973d3",
   "metadata": {},
   "outputs": [
    {
     "name": "stdout",
     "output_type": "stream",
     "text": [
      "[[0. 0. 0. ... 0. 0. 0.]\n",
      " [0. 0. 0. ... 0. 0. 0.]\n",
      " [0. 0. 0. ... 0. 0. 0.]\n",
      " ...\n",
      " [0. 0. 0. ... 0. 0. 0.]\n",
      " [0. 0. 0. ... 0. 0. 0.]\n",
      " [0. 0. 0. ... 0. 0. 0.]]\n"
     ]
    },
    {
     "data": {
      "text/plain": [
       "32"
      ]
     },
     "execution_count": 37,
     "metadata": {},
     "output_type": "execute_result"
    }
   ],
   "source": [
    "landscape = np.zeros(a_gamma.shape)\n",
    "print(landscape)\n",
    "len(landscape)"
   ]
  },
  {
   "cell_type": "code",
   "execution_count": 38,
   "id": "7aa92597",
   "metadata": {},
   "outputs": [
    {
     "name": "stdout",
     "output_type": "stream",
     "text": [
      "graph_05_06_02_w_em_row_0\n",
      "graph_05_06_02_w_em_row_1\n",
      "graph_05_06_02_w_em_row_2\n",
      "graph_05_06_02_w_em_row_3\n",
      "graph_05_06_02_w_em_row_4\n",
      "graph_05_06_02_w_em_row_5\n",
      "graph_05_06_02_w_em_row_6\n",
      "graph_05_06_02_w_em_row_7\n",
      "graph_05_06_02_w_em_row_8\n",
      "graph_05_06_02_w_em_row_9\n",
      "graph_05_06_02_w_em_row_10\n",
      "graph_05_06_02_w_em_row_11\n",
      "graph_05_06_02_w_em_row_12\n",
      "graph_05_06_02_w_em_row_13\n",
      "graph_05_06_02_w_em_row_14\n",
      "graph_05_06_02_w_em_row_15\n",
      "graph_05_06_02_w_em_row_16\n",
      "graph_05_06_02_w_em_row_17\n",
      "graph_05_06_02_w_em_row_18\n",
      "graph_05_06_02_w_em_row_19\n",
      "graph_05_06_02_w_em_row_20\n",
      "graph_05_06_02_w_em_row_21\n",
      "graph_05_06_02_w_em_row_22\n",
      "graph_05_06_02_w_em_row_23\n",
      "graph_05_06_02_w_em_row_24\n",
      "graph_05_06_02_w_em_row_25\n",
      "graph_05_06_02_w_em_row_26\n",
      "graph_05_06_02_w_em_row_27\n",
      "graph_05_06_02_w_em_row_28\n",
      "graph_05_06_02_w_em_row_29\n",
      "graph_05_06_02_w_em_row_30\n",
      "graph_05_06_02_w_em_row_31\n"
     ]
    }
   ],
   "source": [
    "\n",
    "for i in range(0, len(landscape)):\n",
    "    circuits = []\n",
    "    for j in range(0, len(landscape)):\n",
    "        # create circuits for entire row \n",
    "        circuit = create_cirucit(a_gamma[i][j], b_beta[i][j])\n",
    "        circuits.append(circuit)\n",
    "    \n",
    "    # create one job with circuits \n",
    "    job_name = f\"{graph.name}_em_row_{i}\"\n",
    "    job = quantum_instance.execute(circuits)\n",
    "    #job.update_name(job_name)\n",
    "    print(job_name)\n",
    "    \n",
    "    # add results to landscape \n",
    "    j = 0\n",
    "    for count in job.get_counts():\n",
    "        try:\n",
    "            mean = compute_expectation(count, graph)\n",
    "            landscape[i,j % 32] = mean\n",
    "            j += 1\n",
    "        except Exception as e:\n",
    "            print(e)"
   ]
  },
  {
   "cell_type": "code",
   "execution_count": 39,
   "id": "0318681e",
   "metadata": {},
   "outputs": [
    {
     "name": "stdout",
     "output_type": "stream",
     "text": [
      "[[-24.0475     -23.542375   -23.345      ... -23.496125   -23.217875\n",
      "  -23.332625  ]\n",
      " [-23.82158475 -22.03491598 -23.01738182 ... -23.87239001 -23.07109012\n",
      "  -23.58394181]\n",
      " [-23.986      -20.62675    -22.83       ... -24.656625   -23.178125\n",
      "  -23.576125  ]\n",
      " ...\n",
      " [-24.205      -27.23275    -23.75725    ... -24.324375   -25.277625\n",
      "  -24.038375  ]\n",
      " [-24.30415037 -26.85156554 -23.95121363 ... -24.40353481 -24.85834302\n",
      "  -23.93448275]\n",
      " [-24.39423626 -25.4880966  -24.26806606 ... -24.79834689 -24.37362727\n",
      "  -23.68397546]]\n"
     ]
    },
    {
     "data": {
      "image/png": "[encoded data removed]",
      "text/plain": [
       "<Figure size 288x288 with 1 Axes>"
      ]
     },
     "metadata": {
      "needs_background": "light"
     },
     "output_type": "display_data"
    }
   ],
   "source": [
    "print(landscape)\n",
    "plt.matshow(landscape)\n",
    "plt.show()"
   ]
  },
  {
   "cell_type": "code",
   "execution_count": 40,
   "id": "e8191248",
   "metadata": {},
   "outputs": [],
   "source": [
    "#a_del = np.delete(landscape, 0, 0)\n"
   ]
  },
  {
   "cell_type": "code",
   "execution_count": 41,
   "id": "48f5f237",
   "metadata": {},
   "outputs": [],
   "source": [
    "#a_del = np.delete(a_del, 16, 0)"
   ]
  },
  {
   "cell_type": "code",
   "execution_count": 42,
   "id": "c2940eae",
   "metadata": {},
   "outputs": [],
   "source": [
    "#plt.matshow(a_del)\n",
    "#plt.show()"
   ]
  },
  {
   "cell_type": "code",
   "execution_count": 43,
   "id": "f92be730",
   "metadata": {},
   "outputs": [
    {
     "data": {
      "text/plain": [
       "-23.72238234146402"
      ]
     },
     "execution_count": 43,
     "metadata": {},
     "output_type": "execute_result"
    }
   ],
   "source": [
    "# Mean of landscape\n",
    "np.mean(landscape)"
   ]
  },
  {
   "cell_type": "code",
   "execution_count": 44,
   "id": "bb03a5a4",
   "metadata": {},
   "outputs": [
    {
     "data": {
      "text/plain": [
       "-29.150678025489956"
      ]
     },
     "execution_count": 44,
     "metadata": {},
     "output_type": "execute_result"
    }
   ],
   "source": [
    "# Minimium \n",
    "np.min(landscape)"
   ]
  },
  {
   "cell_type": "code",
   "execution_count": 45,
   "id": "be4164d7",
   "metadata": {},
   "outputs": [
    {
     "data": {
      "text/plain": [
       "(12, 5)"
      ]
     },
     "execution_count": 45,
     "metadata": {},
     "output_type": "execute_result"
    }
   ],
   "source": [
    "# Display Coordinates of Minimum \n",
    "np.unravel_index(np.argmin(landscape), landscape.shape)"
   ]
  },
  {
   "cell_type": "code",
   "execution_count": 46,
   "id": "d345481d",
   "metadata": {},
   "outputs": [
    {
     "name": "stdout",
     "output_type": "stream",
     "text": [
      "Opt.Gamma: 1.2000000000000002, Opt.Beta: 0.5\n"
     ]
    }
   ],
   "source": [
    "# Gamma and beta value of Minimium\n",
    "gamma, beta = np.unravel_index(np.argmin(landscape), landscape.shape)\n",
    "opt_gamma = gamma * step_size\n",
    "opt_beta = beta * step_size\n",
    "print(f\"Opt.Gamma: {opt_gamma}, Opt.Beta: {opt_beta}\")"
   ]
  },
  {
   "cell_type": "code",
   "execution_count": 47,
   "id": "3aeb645a",
   "metadata": {},
   "outputs": [],
   "source": [
    "# Save result matrix \n",
    "with open('landscape_sydney_butterfly_weights_em_results.npy', 'wb') as f:\n",
    "    np.save(f, landscape)"
   ]
  },
  {
   "cell_type": "code",
   "execution_count": 48,
   "id": "143a3a5b",
   "metadata": {},
   "outputs": [],
   "source": [
    "import plotly.graph_objects as go"
   ]
  },
  {
   "cell_type": "code",
   "execution_count": 49,
   "id": "a4a70fc8",
   "metadata": {},
   "outputs": [
    {
     "data": {
      "application/vnd.plotly.v1+json": {
       "config": {
        "plotlyServerURL": "https://plot.ly"
       },
       "data": [
        {
         "contours": {
          "z": {
           "highlightcolor": "limegreen",
           "project": {
            "z": true
           },
           "show": true,
           "usecolormap": true
          }
         },
         "type": "surface",
         "x": [
          0,
          0.1,
          0.2,
          0.30000000000000004,
          0.4,
          0.5,
          0.6000000000000001,
          0.7000000000000001,
          0.8,
          0.9,
          1,
          1.1,
          1.2000000000000002,
          1.3,
          1.4000000000000001,
          1.5,
          1.6,
          1.7000000000000002,
          1.8,
          1.9000000000000001,
          2,
          2.1,
          2.2,
          2.3000000000000003,
          2.4000000000000004,
          2.5,
          2.6,
          2.7,
          2.8000000000000003,
          2.9000000000000004,
          3,
          3.1
         ],
         "y": [
          0,
          0.1,
          0.2,
          0.30000000000000004,
          0.4,
          0.5,
          0.6000000000000001,
          0.7000000000000001,
          0.8,
          0.9,
          1,
          1.1,
          1.2000000000000002,
          1.3,
          1.4000000000000001,
          1.5,
          1.6,
          1.7000000000000002,
          1.8,
          1.9000000000000001,
          2,
          2.1,
          2.2,
          2.3000000000000003,
          2.4000000000000004,
          2.5,
          2.6,
          2.7,
          2.8000000000000003,
          2.9000000000000004,
          3,
          3.1
         ],
         "z": [
          [
           -24.0475,
           -23.542375,
           -23.345,
           -23.40475,
           -23.67625,
           -24.024875,
           -23.4815,
           -23.534,
           -23.255375,
           -23.460375,
           -23.573,
           -23.6565,
           -23.2325,
           -23.86375,
           -23.54725,
           -23.2225,
           -23.096375,
           -23.29025,
           -23.738625,
           -23.473125,
           -23.520125,
           -23.965875,
           -23.279625,
           -23.526375,
           -23.898875,
           -23.856375,
           -23.686375,
           -23.33675,
           -23.47625,
           -23.496125,
           -23.217875,
           -23.332625
          ],
          [
           -23.821584752878014,
           -22.034915980624454,
           -23.017381816054968,
           -23.846145300333646,
           -23.263362822070334,
           -21.926241253660685,
           -22.686901793432256,
           -23.2389701772891,
           -22.831917931088913,
           -22.098025012068817,
           -22.641366128689143,
           -23.06658751778888,
           -23.707269298666706,
           -22.757365543256643,
           -22.531590229252554,
           -23.54698095345788,
           -23.33970610263445,
           -22.069970547463214,
           -23.271126695854118,
           -24.02017011721828,
           -23.94802798923381,
           -23.33985753710891,
           -23.285612124027278,
           -24.081832236653316,
           -24.077700339126203,
           -24.122053225800343,
           -23.518535054097793,
           -23.248708504198945,
           -23.661731366523217,
           -23.872390012408264,
           -23.071090119724172,
           -23.58394180890269
          ],
          [
           -23.986,
           -20.62675,
           -22.83,
           -23.977,
           -22.8165,
           -20.840875,
           -22.11475,
           -23.035875,
           -22.97575,
           -21.0965,
           -22.006625,
           -23.02425,
           -23.690875,
           -21.9325,
           -21.7055,
           -24.21875,
           -23.775625,
           -20.870125,
           -22.751125,
           -24.5465,
           -24.43125,
           -22.990875,
           -23.105375,
           -24.57925,
           -24.481,
           -24.280625,
           -23.869,
           -23.7085,
           -24.216125,
           -24.656625,
           -23.178125,
           -23.576125
          ],
          [
           -23.787982320936216,
           -19.378009953482785,
           -22.765947288322632,
           -23.856744237440275,
           -22.09485900793763,
           -19.707411242669927,
           -21.72190476318443,
           -22.773224887827077,
           -22.720646378310672,
           -20.292267387449076,
           -21.42270213447149,
           -22.734573383876665,
           -23.68512000100392,
           -20.439420159506266,
           -20.698614860129407,
           -24.381388586544567,
           -23.722592355001584,
           -20.094177625358068,
           -22.318923394846852,
           -25.59108759549184,
           -24.777469140498937,
           -22.258395570007963,
           -23.11347666860813,
           -25.078531759984664,
           -24.87152831952441,
           -24.854965931160354,
           -24.423073731803,
           -24.250059272027965,
           -24.655087114778162,
           -25.164810280700163,
           -23.41535538411364,
           -23.920948611567518
          ],
          [
           -24.023375,
           -18.591,
           -22.435,
           -23.29675,
           -21.99025,
           -19.086625,
           -21.632625,
           -22.431375,
           -22.789,
           -20.41975,
           -21.38575,
           -22.723875,
           -23.3945,
           -20.272125,
           -20.58575,
           -24.889,
           -23.591375,
           -18.184,
           -22.023375,
           -26.257125,
           -25.144375,
           -22.33775,
           -23.44625,
           -25.42575,
           -25.539125,
           -25.070375,
           -24.53425,
           -24.387125,
           -24.95825,
           -26.067625,
           -24.047625,
           -24.071125
          ],
          [
           -24.29858457078068,
           -16.85792192039621,
           -20.97186001952758,
           -20.88329168940015,
           -22.29574437182474,
           -18.752871004585888,
           -20.66588584284503,
           -19.39596823395447,
           -21.22511397587889,
           -19.833300825515956,
           -21.290475952673614,
           -21.490042154778205,
           -21.673551730544485,
           -18.721181337758104,
           -20.89677269363103,
           -26.29295675694742,
           -22.895517608587323,
           -17.080564198290674,
           -21.466317535487605,
           -28.52877707691636,
           -26.19716031972281,
           -21.06520209169425,
           -23.40125753756656,
           -26.655238576172145,
           -27.371026758868755,
           -25.23024258155081,
           -24.88220745318689,
           -24.841035449028315,
           -26.82859080070326,
           -27.52616777126632,
           -25.49586102566705,
           -24.55269756464861
          ],
          [
           -24.349869330568882,
           -16.993913325531103,
           -20.550526805531153,
           -19.012211343188927,
           -22.663836454687505,
           -19.945929060492023,
           -20.48965009180881,
           -18.537951516912152,
           -21.287890777406023,
           -21.185451930944563,
           -21.704545765758205,
           -21.02763406871063,
           -21.042779243500014,
           -19.13705640423631,
           -21.32263760876873,
           -26.504786779546603,
           -22.565729162799357,
           -17.18781846777873,
           -21.886418766066324,
           -29.06853049227807,
           -26.265734488524863,
           -20.718183655931014,
           -23.1953027567712,
           -26.632082116828183,
           -28.007737172586467,
           -25.55436957055401,
           -24.981648108897915,
           -24.98925055230031,
           -27.068548828547677,
           -27.749281171320515,
           -26.088932882517877,
           -24.7812009245658
          ],
          [
           -24.006375,
           -18.63225,
           -20.7195,
           -18.0365,
           -23.352625,
           -22.287875,
           -21.030375,
           -18.58925,
           -21.801875,
           -23.2295,
           -23.14125,
           -21.399375,
           -20.4145,
           -20.30775,
           -22.51275,
           -26.12025,
           -21.834875,
           -18.693375,
           -22.297875,
           -28.2195,
           -26.18175,
           -21.858125,
           -23.544125,
           -26.161875,
           -28.235375,
           -25.723875,
           -25.031,
           -24.696375,
           -26.82025,
           -27.212,
           -26.75125,
           -24.62775
          ],
          [
           -23.738168253928116,
           -19.90294629242364,
           -20.454336646006567,
           -16.792794959372163,
           -24.279962420634607,
           -24.093580857380807,
           -21.834743601187867,
           -17.97328995279757,
           -22.319713121171915,
           -24.739775296158943,
           -24.164042010221927,
           -21.303488785544484,
           -20.222549519391826,
           -21.59921635134214,
           -23.458931822303278,
           -25.649606545446346,
           -21.46765018914002,
           -19.601608217746417,
           -22.607735896838843,
           -27.65620274092681,
           -25.789225842229587,
           -22.25447743590562,
           -23.538114700586696,
           -25.391954797971692,
           -28.326308780963192,
           -26.02533215674048,
           -25.02585882898513,
           -24.57906945471731,
           -26.90587213831187,
           -26.89843433218975,
           -26.88633211535817,
           -24.64754690979661
          ],
          [
           -23.886159321491373,
           -21.65476062047816,
           -20.748310777074753,
           -16.040476158267435,
           -24.47265177606296,
           -26.360334441550464,
           -22.413301574397313,
           -18.134987309909945,
           -22.7949699060976,
           -26.53023131014215,
           -24.755719657140705,
           -21.509282402109772,
           -20.044536944873496,
           -23.110139471063167,
           -24.3924791337709,
           -24.926375399159305,
           -21.017765171063086,
           -21.192739768797093,
           -23.3210529925377,
           -26.437800350723798,
           -25.30534827494518,
           -22.94649799643523,
           -23.508099002917948,
           -24.677551898504653,
           -27.73441377814013,
           -25.656013091039004,
           -25.063631032338765,
           -24.193452323709433,
           -26.154934610314847,
           -26.270491901029697,
           -27.15840468747855,
           -24.471602293355602
          ],
          [
           -23.773875,
           -23.5035,
           -21.339625,
           -17.050625,
           -24.79625,
           -27.771125,
           -23.60725,
           -19.275125,
           -23.37275,
           -27.520875,
           -25.62825,
           -22.083875,
           -20.637375,
           -24.409875,
           -25.278875,
           -24.030875,
           -21.172,
           -22.693375,
           -23.95,
           -25.054125,
           -24.239125,
           -23.758375,
           -24.068375,
           -23.63575,
           -26.9695,
           -25.5995,
           -24.357125,
           -24.2665,
           -25.632625,
           -25.200375,
           -26.545375,
           -24.318875
          ],
          [
           -23.598555973138627,
           -25.033768141934836,
           -21.753633510664233,
           -16.709398633709807,
           -25.191480841173604,
           -28.914829415688274,
           -23.95591558333901,
           -19.80775242505562,
           -24.062863576421112,
           -28.651151332225226,
           -26.055786570703123,
           -22.492966549015925,
           -20.76981036369086,
           -25.913440564201434,
           -26.010777169011956,
           -23.72975637800067,
           -20.761573488993896,
           -23.926689310795993,
           -24.495230383835512,
           -23.626398287600924,
           -23.743001730080568,
           -24.275249562147362,
           -23.537962158548766,
           -22.820937286042373,
           -26.26486968564242,
           -24.944315899562056,
           -24.59547838390004,
           -23.6085472498601,
           -25.00269571803489,
           -24.59730482868625,
           -26.256649884694568,
           -24.150041442393828
          ],
          [
           -23.60048239666179,
           -26.11311097147718,
           -22.245377504717002,
           -17.912250261779818,
           -25.541043113018038,
           -29.150678025489956,
           -24.33452975311777,
           -21.063121350046682,
           -24.5595562794141,
           -28.526762257171306,
           -26.271766047387803,
           -23.148916922496646,
           -21.62304288098369,
           -26.47657837833674,
           -25.98021507975968,
           -23.248845160529243,
           -21.319352028454844,
           -25.035204291395523,
           -24.66283769876963,
           -22.752870622650196,
           -23.118089488185397,
           -24.65311560487577,
           -23.484655379523065,
           -22.47370504897391,
           -25.58532202175096,
           -24.682695630720744,
           -24.00141245782847,
           -22.92118517203948,
           -24.4800012420357,
           -23.81063004598846,
           -25.75723302034558,
           -23.73502132780862
          ],
          [
           -23.792625,
           -26.11725,
           -22.794375,
           -19.987875,
           -25.415375,
           -28.1135,
           -24.429,
           -22.463625,
           -24.43675,
           -27.739375,
           -25.6805,
           -23.52575,
           -22.319125,
           -26.1095,
           -25.550375,
           -23.06525,
           -21.81575,
           -25.359625,
           -24.642875,
           -22.528625,
           -22.741,
           -24.77825,
           -23.786875,
           -22.75075,
           -24.914375,
           -24.348625,
           -23.871125,
           -23.046625,
           -24.041875,
           -23.576875,
           -25.029125,
           -23.861625
          ],
          [
           -24.17340174178007,
           -27.196511268320993,
           -23.754104005406198,
           -21.922212211221463,
           -25.49706876212971,
           -27.54248565471728,
           -24.710149210452716,
           -23.874108255503955,
           -25.51618830852129,
           -26.977859706500364,
           -25.48472264474706,
           -23.913776306957885,
           -23.93054878068748,
           -26.42588905552953,
           -25.548950434542004,
           -23.853988055280926,
           -23.89643667627886,
           -25.99315316579059,
           -24.87144837269017,
           -23.389457658706192,
           -24.46852318828478,
           -25.793334118189968,
           -24.59819841622594,
           -23.62481237514772,
           -24.559635547604643,
           -24.092299629390357,
           -23.469687758111593,
           -23.781781289057108,
           -24.728832385070568,
           -24.378853068795845,
           -24.615591281579984,
           -24.424101752824242
          ],
          [
           -24.257125,
           -25.833875,
           -24.402875,
           -23.61175,
           -24.574375,
           -25.3085,
           -24.51325,
           -24.399375,
           -25.166125,
           -25.4435,
           -24.84575,
           -24.40925,
           -24.173,
           -25.254125,
           -24.963375,
           -24.507,
           -24.571375,
           -25.172375,
           -24.544,
           -23.785875,
           -24.556625,
           -25.284375,
           -24.749625,
           -24.27675,
           -24.4585,
           -24.066875,
           -23.66075,
           -24.046625,
           -24.775875,
           -24.432625,
           -24.2765,
           -24.35625
          ],
          [
           -24.202935581026097,
           -23.77091116595237,
           -23.99468292977158,
           -24.46504042047974,
           -23.689163926483882,
           -23.075283411491537,
           -24.530913560941766,
           -24.720536996903057,
           -24.559370042194782,
           -23.64811653835294,
           -23.92214104701933,
           -24.544943255389718,
           -24.37996195294864,
           -23.6272065512921,
           -24.297912142552978,
           -24.973857123672012,
           -24.80260146756722,
           -23.833623585424878,
           -24.61752061926986,
           -25.15061610273623,
           -24.590828636079845,
           -24.32040984739915,
           -24.59694577855901,
           -24.606297321720604,
           -24.201712916715028,
           -24.138760397745923,
           -24.182334641634235,
           -24.60615473695973,
           -24.771375428050888,
           -24.82512097640644,
           -24.28274389007226,
           -24.481805380895377
          ],
          [
           -24.128375,
           -22.162125,
           -23.92825,
           -24.936,
           -23.058625,
           -21.415625,
           -23.433875,
           -24.453375,
           -23.867625,
           -21.91625,
           -23.397625,
           -24.4125,
           -24.101375,
           -22.459,
           -23.90225,
           -25.6535,
           -24.95925,
           -22.38925,
           -23.9585,
           -25.889125,
           -24.937625,
           -23.718,
           -24.73425,
           -25.465125,
           -24.554625,
           -24.029125,
           -24.619625,
           -24.987375,
           -25.076125,
           -25.36025,
           -24.188375,
           -24.24625
          ],
          [
           -23.898811494668063,
           -19.907681742079358,
           -23.4163812137232,
           -24.929775243840652,
           -21.96895274603994,
           -19.345411616965063,
           -22.665850828917605,
           -23.684883903079466,
           -22.959533378276465,
           -20.87388083000472,
           -22.793155219940324,
           -23.784308706313507,
           -23.54343760812944,
           -20.81261847304574,
           -22.69749929610517,
           -26.18110134097367,
           -24.895505122363932,
           -20.36253445024256,
           -23.459237089929445,
           -27.170077191914483,
           -25.116125828650556,
           -22.484708852455118,
           -24.96814270818979,
           -26.590824245411937,
           -24.900111297400493,
           -24.35785398898471,
           -24.752513692437624,
           -25.4946897345193,
           -25.516306539202017,
           -26.064181250277205,
           -24.6084974956182,
           -24.477964768185966
          ],
          [
           -23.79725,
           -18.674625,
           -22.693125,
           -23.993125,
           -21.7605,
           -18.788,
           -22.274125,
           -22.652125,
           -22.2395,
           -20.339375,
           -22.39575,
           -23.479125,
           -22.89925,
           -20.253,
           -22.178625,
           -26.508,
           -24.60075,
           -19.400125,
           -22.792,
           -27.884375,
           -25.663625,
           -22.01125,
           -24.58325,
           -26.62475,
           -25.483375,
           -24.661875,
           -25.107625,
           -25.618875,
           -25.705,
           -26.561125,
           -25.052,
           -24.513625
          ],
          [
           -23.45207247859498,
           -16.88030246438356,
           -21.97633044502864,
           -23.130609610247042,
           -21.468009960529603,
           -18.319491077054906,
           -21.113633828843177,
           -21.166266515196554,
           -21.51102584491315,
           -19.72136047998301,
           -21.96776858239598,
           -22.649417641387036,
           -21.93226194676333,
           -19.372392129503986,
           -21.554584949780963,
           -26.836610499307127,
           -24.070278590879628,
           -17.67996787306036,
           -22.101309541525385,
           -28.753241708849963,
           -25.793320055433394,
           -21.118486209386685,
           -24.242154903881477,
           -26.943539151952336,
           -26.162905100504904,
           -24.953565820360755,
           -25.57366881284562,
           -25.894817266562544,
           -26.1265600453132,
           -27.147887196921204,
           -25.682541140078584,
           -24.463949220831775
          ],
          [
           -23.349,
           -17.715125,
           -21.726,
           -21.611375,
           -21.89225,
           -19.101125,
           -20.804625,
           -20.417625,
           -21.73125,
           -20.65975,
           -21.8505,
           -22.362375,
           -21.52,
           -19.958375,
           -21.594125,
           -26.5955,
           -23.921125,
           -17.972625,
           -22.26375,
           -28.26675,
           -25.884625,
           -21.504625,
           -23.759875,
           -26.837875,
           -26.748875,
           -25.004375,
           -25.359125,
           -25.62025,
           -26.35975,
           -26.989375,
           -26.1405,
           -24.36925
          ],
          [
           -23.416105859525107,
           -17.37939159769897,
           -20.785750522301186,
           -19.99803576338907,
           -22.065295346960298,
           -19.953752769380483,
           -20.18169835848241,
           -19.243613073862004,
           -21.399049775139062,
           -21.737693393067637,
           -22.38519580052144,
           -21.457002465792876,
           -20.76114413759572,
           -20.552004709203544,
           -21.77288112385814,
           -26.43748248886738,
           -23.55415298005807,
           -17.478076058323236,
           -21.75483105356434,
           -28.584841562244133,
           -25.765549757517707,
           -21.23642003581166,
           -23.502794150420186,
           -26.674693780393895,
           -27.49127857348165,
           -25.581489972201165,
           -25.45042396966336,
           -25.536686989202586,
           -26.498505557422323,
           -27.404539161752318,
           -26.567386140147967,
           -24.48790134670863
          ],
          [
           -23.499836162506288,
           -18.81254174780372,
           -20.597918692946653,
           -18.381805184260816,
           -22.85497425710407,
           -21.721304654118278,
           -20.33704448759168,
           -18.65564445101271,
           -21.590921285540205,
           -23.50725648783636,
           -22.597546702171375,
           -21.083255874449545,
           -20.902904951354966,
           -21.35174298854094,
           -21.707824536889923,
           -26.082857312704306,
           -23.035943362018795,
           -18.46119770458874,
           -21.781584999907544,
           -27.82502556902991,
           -25.750097863544365,
           -21.82222469860699,
           -23.033848482031058,
           -26.124674386538874,
           -27.743165250923308,
           -25.603166033417995,
           -25.536566308723486,
           -25.008956281508393,
           -26.666852638541055,
           -26.9003485864037,
           -27.016480934853504,
           -24.248137793048436
          ],
          [
           -23.597,
           -21.3165,
           -21.0005,
           -17.85,
           -23.882125,
           -24.248125,
           -21.310875,
           -19.108,
           -22.571625,
           -25.002875,
           -23.376625,
           -21.36525,
           -20.978,
           -23.307875,
           -22.70525,
           -25.5395,
           -22.6075,
           -20.312625,
           -22.181375,
           -26.696625,
           -25.39425,
           -22.887,
           -22.7345,
           -25.2255,
           -27.83075,
           -25.499875,
           -24.643125,
           -24.746125,
           -26.1815,
           -26.201,
           -26.755,
           -24.382125
          ],
          [
           -23.807643022075993,
           -23.134239326634447,
           -20.998811180623928,
           -16.543477107903318,
           -24.60678571491613,
           -26.171267239840223,
           -21.826485303261737,
           -19.49121938399609,
           -23.489158429416506,
           -26.587495697467528,
           -24.123490194437768,
           -21.585728441642555,
           -20.878076093507865,
           -24.62351367201296,
           -23.762859103767635,
           -25.047050411003575,
           -22.15455283554199,
           -21.295536152498993,
           -22.959183587661297,
           -25.615108698681357,
           -25.22057126098365,
           -23.88098109239236,
           -22.89710474924254,
           -24.433903962095247,
           -27.636437231154574,
           -25.51211890901008,
           -24.487225853774245,
           -24.538371400856818,
           -25.962048389130803,
           -25.94824633005168,
           -26.883955988454183,
           -24.465928231976598
          ],
          [
           -24.126063810301527,
           -24.93993028718171,
           -21.549063749974962,
           -16.7498778780813,
           -25.133336328023557,
           -27.78817899975618,
           -22.371266000706164,
           -20.139986600617643,
           -24.370859301988833,
           -27.824029690410917,
           -24.969790609461075,
           -21.796161444104172,
           -21.43047278709038,
           -25.976309757445236,
           -24.577877542926448,
           -24.408573234059798,
           -22.07279969077115,
           -23.1319425089631,
           -23.287060842241186,
           -24.401352864927027,
           -24.91113823351088,
           -24.816851674678485,
           -23.007147661973956,
           -23.664591709538946,
           -27.62797860863874,
           -25.420212018664174,
           -24.370191949519107,
           -24.132510603066144,
           -25.63351722739075,
           -25.11977590264573,
           -26.47036769369189,
           -24.23280639218404
          ],
          [
           -24.1145,
           -26.53775,
           -22.22325,
           -18.103875,
           -25.7005,
           -28.66175,
           -23.648875,
           -21.662625,
           -25.452,
           -28.00775,
           -25.09175,
           -22.362125,
           -22.7,
           -26.494125,
           -24.948125,
           -23.852875,
           -22.583875,
           -24.396125,
           -23.89175,
           -23.909625,
           -24.543375,
           -25.46825,
           -23.41675,
           -23.371625,
           -26.527,
           -25.10025,
           -24.003,
           -23.854,
           -25.25725,
           -24.512125,
           -25.923375,
           -24.273625
          ],
          [
           -23.844179081650896,
           -27.214525887002637,
           -22.923962387130764,
           -18.785949536548287,
           -25.425981767034376,
           -28.809635598610548,
           -24.47945984345944,
           -22.34286660163493,
           -25.45561387412847,
           -28.29853572275289,
           -25.520711650672876,
           -23.130398598634454,
           -22.608398869013453,
           -27.051907468735465,
           -25.765248619699914,
           -23.56477334430777,
           -22.91555215020259,
           -25.827781653170444,
           -24.342059360685813,
           -22.843750901478842,
           -24.23882861542026,
           -25.882652679584634,
           -23.69291920855604,
           -23.004131396906008,
           -25.74722633383536,
           -24.729583552931523,
           -23.878991136493426,
           -23.12996551020314,
           -24.749064000041077,
           -24.512271774024114,
           -25.76284462982754,
           -23.70247142563961
          ],
          [
           -24.205,
           -27.23275,
           -23.75725,
           -20.650875,
           -25.0915,
           -27.6575,
           -24.741375,
           -23.651625,
           -25.530625,
           -27.26,
           -25.205625,
           -23.031125,
           -23.325625,
           -26.67275,
           -25.473875,
           -23.493125,
           -23.691875,
           -25.797,
           -24.242125,
           -22.76675,
           -24.41925,
           -25.962625,
           -24.36225,
           -23.381375,
           -25.180125,
           -24.06,
           -23.546375,
           -23.4985,
           -24.671,
           -24.324375,
           -25.277625,
           -24.038375
          ],
          [
           -24.304150368687022,
           -26.851565537853677,
           -23.951213627273045,
           -22.0924859229779,
           -24.912150600917624,
           -26.361940415518553,
           -24.69007263245538,
           -24.154953351212427,
           -25.404430798285485,
           -26.42253838662326,
           -24.6899977751249,
           -23.89208977341824,
           -24.1386709758222,
           -26.07920263064017,
           -25.375552228822862,
           -23.680557307020763,
           -23.967713941061813,
           -25.516754983780725,
           -24.319428114917017,
           -22.83640654183557,
           -24.668451931007887,
           -25.94837297159426,
           -24.360164473854493,
           -23.537418329028757,
           -24.396615267545855,
           -24.031985244817008,
           -23.5550439935286,
           -23.743404170124002,
           -24.388512166248695,
           -24.403534810471967,
           -24.858343021649794,
           -23.934482748796135
          ],
          [
           -24.39423625984839,
           -25.488096602393018,
           -24.26806606489954,
           -23.757301979126407,
           -24.329183952073887,
           -24.491701467320905,
           -24.346067456967454,
           -24.58033212180293,
           -25.18172802597326,
           -24.917174794495327,
           -24.289431885776278,
           -23.636592173849124,
           -24.125583838417533,
           -24.95933820197247,
           -24.826096594984513,
           -24.223646311496054,
           -24.484306362008063,
           -24.81472968155072,
           -24.23944236997861,
           -23.553898682419042,
           -24.572273563109615,
           -25.019582451911077,
           -24.807111373349535,
           -24.245178857593963,
           -24.262908073363377,
           -23.934900383123797,
           -23.71218031577983,
           -23.953240331565976,
           -24.50865580130322,
           -24.798346890971658,
           -24.373627272149744,
           -23.683975459491975
          ]
         ]
        }
       ],
       "layout": {
        "scene": {
         "xaxis": {
          "title": {
           "text": "γ"
          }
         },
         "yaxis": {
          "title": {
           "text": "β"
          }
         },
         "zaxis": {
          "title": {
           "text": "F(γ,β)"
          }
         }
        },
        "template": {
         "data": {
          "bar": [
           {
            "error_x": {
             "color": "#2a3f5f"
            },
            "error_y": {
             "color": "#2a3f5f"
            },
            "marker": {
             "line": {
              "color": "#E5ECF6",
              "width": 0.5
             },
             "pattern": {
              "fillmode": "overlay",
              "size": 10,
              "solidity": 0.2
             }
            },
            "type": "bar"
           }
          ],
          "barpolar": [
           {
            "marker": {
             "line": {
              "color": "#E5ECF6",
              "width": 0.5
             },
             "pattern": {
              "fillmode": "overlay",
              "size": 10,
              "solidity": 0.2
             }
            },
            "type": "barpolar"
           }
          ],
          "carpet": [
           {
            "aaxis": {
             "endlinecolor": "#2a3f5f",
             "gridcolor": "white",
             "linecolor": "white",
             "minorgridcolor": "white",
             "startlinecolor": "#2a3f5f"
            },
            "baxis": {
             "endlinecolor": "#2a3f5f",
             "gridcolor": "white",
             "linecolor": "white",
             "minorgridcolor": "white",
             "startlinecolor": "#2a3f5f"
            },
            "type": "carpet"
           }
          ],
          "choropleth": [
           {
            "colorbar": {
             "outlinewidth": 0,
             "ticks": ""
            },
            "type": "choropleth"
           }
          ],
          "contour": [
           {
            "colorbar": {
             "outlinewidth": 0,
             "ticks": ""
            },
            "colorscale": [
             [
              0,
              "#0d0887"
             ],
             [
              0.1111111111111111,
              "#46039f"
             ],
             [
              0.2222222222222222,
              "#7201a8"
             ],
             [
              0.3333333333333333,
              "#9c179e"
             ],
             [
              0.4444444444444444,
              "#bd3786"
             ],
             [
              0.5555555555555556,
              "#d8576b"
             ],
             [
              0.6666666666666666,
              "#ed7953"
             ],
             [
              0.7777777777777778,
              "#fb9f3a"
             ],
             [
              0.8888888888888888,
              "#fdca26"
             ],
             [
              1,
              "#f0f921"
             ]
            ],
            "type": "contour"
           }
          ],
          "contourcarpet": [
           {
            "colorbar": {
             "outlinewidth": 0,
             "ticks": ""
            },
            "type": "contourcarpet"
           }
          ],
          "heatmap": [
           {
            "colorbar": {
             "outlinewidth": 0,
             "ticks": ""
            },
            "colorscale": [
             [
              0,
              "#0d0887"
             ],
             [
              0.1111111111111111,
              "#46039f"
             ],
             [
              0.2222222222222222,
              "#7201a8"
             ],
             [
              0.3333333333333333,
              "#9c179e"
             ],
             [
              0.4444444444444444,
              "#bd3786"
             ],
             [
              0.5555555555555556,
              "#d8576b"
             ],
             [
              0.6666666666666666,
              "#ed7953"
             ],
             [
              0.7777777777777778,
              "#fb9f3a"
             ],
             [
              0.8888888888888888,
              "#fdca26"
             ],
             [
              1,
              "#f0f921"
             ]
            ],
            "type": "heatmap"
           }
          ],
          "heatmapgl": [
           {
            "colorbar": {
             "outlinewidth": 0,
             "ticks": ""
            },
            "colorscale": [
             [
              0,
              "#0d0887"
             ],
             [
              0.1111111111111111,
              "#46039f"
             ],
             [
              0.2222222222222222,
              "#7201a8"
             ],
             [
              0.3333333333333333,
              "#9c179e"
             ],
             [
              0.4444444444444444,
              "#bd3786"
             ],
             [
              0.5555555555555556,
              "#d8576b"
             ],
             [
              0.6666666666666666,
              "#ed7953"
             ],
             [
              0.7777777777777778,
              "#fb9f3a"
             ],
             [
              0.8888888888888888,
              "#fdca26"
             ],
             [
              1,
              "#f0f921"
             ]
            ],
            "type": "heatmapgl"
           }
          ],
          "histogram": [
           {
            "marker": {
             "pattern": {
              "fillmode": "overlay",
              "size": 10,
              "solidity": 0.2
             }
            },
            "type": "histogram"
           }
          ],
          "histogram2d": [
           {
            "colorbar": {
             "outlinewidth": 0,
             "ticks": ""
            },
            "colorscale": [
             [
              0,
              "#0d0887"
             ],
             [
              0.1111111111111111,
              "#46039f"
             ],
             [
              0.2222222222222222,
              "#7201a8"
             ],
             [
              0.3333333333333333,
              "#9c179e"
             ],
             [
              0.4444444444444444,
              "#bd3786"
             ],
             [
              0.5555555555555556,
              "#d8576b"
             ],
             [
              0.6666666666666666,
              "#ed7953"
             ],
             [
              0.7777777777777778,
              "#fb9f3a"
             ],
             [
              0.8888888888888888,
              "#fdca26"
             ],
             [
              1,
              "#f0f921"
             ]
            ],
            "type": "histogram2d"
           }
          ],
          "histogram2dcontour": [
           {
            "colorbar": {
             "outlinewidth": 0,
             "ticks": ""
            },
            "colorscale": [
             [
              0,
              "#0d0887"
             ],
             [
              0.1111111111111111,
              "#46039f"
             ],
             [
              0.2222222222222222,
              "#7201a8"
             ],
             [
              0.3333333333333333,
              "#9c179e"
             ],
             [
              0.4444444444444444,
              "#bd3786"
             ],
             [
              0.5555555555555556,
              "#d8576b"
             ],
             [
              0.6666666666666666,
              "#ed7953"
             ],
             [
              0.7777777777777778,
              "#fb9f3a"
             ],
             [
              0.8888888888888888,
              "#fdca26"
             ],
             [
              1,
              "#f0f921"
             ]
            ],
            "type": "histogram2dcontour"
           }
          ],
          "mesh3d": [
           {
            "colorbar": {
             "outlinewidth": 0,
             "ticks": ""
            },
            "type": "mesh3d"
           }
          ],
          "parcoords": [
           {
            "line": {
             "colorbar": {
              "outlinewidth": 0,
              "ticks": ""
             }
            },
            "type": "parcoords"
           }
          ],
          "pie": [
           {
            "automargin": true,
            "type": "pie"
           }
          ],
          "scatter": [
           {
            "marker": {
             "colorbar": {
              "outlinewidth": 0,
              "ticks": ""
             }
            },
            "type": "scatter"
           }
          ],
          "scatter3d": [
           {
            "line": {
             "colorbar": {
              "outlinewidth": 0,
              "ticks": ""
             }
            },
            "marker": {
             "colorbar": {
              "outlinewidth": 0,
              "ticks": ""
             }
            },
            "type": "scatter3d"
           }
          ],
          "scattercarpet": [
           {
            "marker": {
             "colorbar": {
              "outlinewidth": 0,
              "ticks": ""
             }
            },
            "type": "scattercarpet"
           }
          ],
          "scattergeo": [
           {
            "marker": {
             "colorbar": {
              "outlinewidth": 0,
              "ticks": ""
             }
            },
            "type": "scattergeo"
           }
          ],
          "scattergl": [
           {
            "marker": {
             "colorbar": {
              "outlinewidth": 0,
              "ticks": ""
             }
            },
            "type": "scattergl"
           }
          ],
          "scattermapbox": [
           {
            "marker": {
             "colorbar": {
              "outlinewidth": 0,
              "ticks": ""
             }
            },
            "type": "scattermapbox"
           }
          ],
          "scatterpolar": [
           {
            "marker": {
             "colorbar": {
              "outlinewidth": 0,
              "ticks": ""
             }
            },
            "type": "scatterpolar"
           }
          ],
          "scatterpolargl": [
           {
            "marker": {
             "colorbar": {
              "outlinewidth": 0,
              "ticks": ""
             }
            },
            "type": "scatterpolargl"
           }
          ],
          "scatterternary": [
           {
            "marker": {
             "colorbar": {
              "outlinewidth": 0,
              "ticks": ""
             }
            },
            "type": "scatterternary"
           }
          ],
          "surface": [
           {
            "colorbar": {
             "outlinewidth": 0,
             "ticks": ""
            },
            "colorscale": [
             [
              0,
              "#0d0887"
             ],
             [
              0.1111111111111111,
              "#46039f"
             ],
             [
              0.2222222222222222,
              "#7201a8"
             ],
             [
              0.3333333333333333,
              "#9c179e"
             ],
             [
              0.4444444444444444,
              "#bd3786"
             ],
             [
              0.5555555555555556,
              "#d8576b"
             ],
             [
              0.6666666666666666,
              "#ed7953"
             ],
             [
              0.7777777777777778,
              "#fb9f3a"
             ],
             [
              0.8888888888888888,
              "#fdca26"
             ],
             [
              1,
              "#f0f921"
             ]
            ],
            "type": "surface"
           }
          ],
          "table": [
           {
            "cells": {
             "fill": {
              "color": "#EBF0F8"
             },
             "line": {
              "color": "white"
             }
            },
            "header": {
             "fill": {
              "color": "#C8D4E3"
             },
             "line": {
              "color": "white"
             }
            },
            "type": "table"
           }
          ]
         },
         "layout": {
          "annotationdefaults": {
           "arrowcolor": "#2a3f5f",
           "arrowhead": 0,
           "arrowwidth": 1
          },
          "autotypenumbers": "strict",
          "coloraxis": {
           "colorbar": {
            "outlinewidth": 0,
            "ticks": ""
           }
          },
          "colorscale": {
           "diverging": [
            [
             0,
             "#8e0152"
            ],
            [
             0.1,
             "#c51b7d"
            ],
            [
             0.2,
             "#de77ae"
            ],
            [
             0.3,
             "#f1b6da"
            ],
            [
             0.4,
             "#fde0ef"
            ],
            [
             0.5,
             "#f7f7f7"
            ],
            [
             0.6,
             "#e6f5d0"
            ],
            [
             0.7,
             "#b8e186"
            ],
            [
             0.8,
             "#7fbc41"
            ],
            [
             0.9,
             "#4d9221"
            ],
            [
             1,
             "#276419"
            ]
           ],
           "sequential": [
            [
             0,
             "#0d0887"
            ],
            [
             0.1111111111111111,
             "#46039f"
            ],
            [
             0.2222222222222222,
             "#7201a8"
            ],
            [
             0.3333333333333333,
             "#9c179e"
            ],
            [
             0.4444444444444444,
             "#bd3786"
            ],
            [
             0.5555555555555556,
             "#d8576b"
            ],
            [
             0.6666666666666666,
             "#ed7953"
            ],
            [
             0.7777777777777778,
             "#fb9f3a"
            ],
            [
             0.8888888888888888,
             "#fdca26"
            ],
            [
             1,
             "#f0f921"
            ]
           ],
           "sequentialminus": [
            [
             0,
             "#0d0887"
            ],
            [
             0.1111111111111111,
             "#46039f"
            ],
            [
             0.2222222222222222,
             "#7201a8"
            ],
            [
             0.3333333333333333,
             "#9c179e"
            ],
            [
             0.4444444444444444,
             "#bd3786"
            ],
            [
             0.5555555555555556,
             "#d8576b"
            ],
            [
             0.6666666666666666,
             "#ed7953"
            ],
            [
             0.7777777777777778,
             "#fb9f3a"
            ],
            [
             0.8888888888888888,
             "#fdca26"
            ],
            [
             1,
             "#f0f921"
            ]
           ]
          },
          "colorway": [
           "#636efa",
           "#EF553B",
           "#00cc96",
           "#ab63fa",
           "#FFA15A",
           "#19d3f3",
           "#FF6692",
           "#B6E880",
           "#FF97FF",
           "#FECB52"
          ],
          "font": {
           "color": "#2a3f5f"
          },
          "geo": {
           "bgcolor": "white",
           "lakecolor": "white",
           "landcolor": "#E5ECF6",
           "showlakes": true,
           "showland": true,
           "subunitcolor": "white"
          },
          "hoverlabel": {
           "align": "left"
          },
          "hovermode": "closest",
          "mapbox": {
           "style": "light"
          },
          "paper_bgcolor": "white",
          "plot_bgcolor": "#E5ECF6",
          "polar": {
           "angularaxis": {
            "gridcolor": "white",
            "linecolor": "white",
            "ticks": ""
           },
           "bgcolor": "#E5ECF6",
           "radialaxis": {
            "gridcolor": "white",
            "linecolor": "white",
            "ticks": ""
           }
          },
          "scene": {
           "xaxis": {
            "backgroundcolor": "#E5ECF6",
            "gridcolor": "white",
            "gridwidth": 2,
            "linecolor": "white",
            "showbackground": true,
            "ticks": "",
            "zerolinecolor": "white"
           },
           "yaxis": {
            "backgroundcolor": "#E5ECF6",
            "gridcolor": "white",
            "gridwidth": 2,
            "linecolor": "white",
            "showbackground": true,
            "ticks": "",
            "zerolinecolor": "white"
           },
           "zaxis": {
            "backgroundcolor": "#E5ECF6",
            "gridcolor": "white",
            "gridwidth": 2,
            "linecolor": "white",
            "showbackground": true,
            "ticks": "",
            "zerolinecolor": "white"
           }
          },
          "shapedefaults": {
           "line": {
            "color": "#2a3f5f"
           }
          },
          "ternary": {
           "aaxis": {
            "gridcolor": "white",
            "linecolor": "white",
            "ticks": ""
           },
           "baxis": {
            "gridcolor": "white",
            "linecolor": "white",
            "ticks": ""
           },
           "bgcolor": "#E5ECF6",
           "caxis": {
            "gridcolor": "white",
            "linecolor": "white",
            "ticks": ""
           }
          },
          "title": {
           "x": 0.05
          },
          "xaxis": {
           "automargin": true,
           "gridcolor": "white",
           "linecolor": "white",
           "ticks": "",
           "title": {
            "standoff": 15
           },
           "zerolinecolor": "white",
           "zerolinewidth": 2
          },
          "yaxis": {
           "automargin": true,
           "gridcolor": "white",
           "linecolor": "white",
           "ticks": "",
           "title": {
            "standoff": 15
           },
           "zerolinecolor": "white",
           "zerolinewidth": 2
          }
         }
        },
        "title": {
         "text": "QAOA with Qiskit Error Mitigation - MaxCut-Landscape"
        }
       }
      },
      "text/html": [
       "<div>                            <div id=\"01fa243f-58d8-41a6-8839-d760b467bf00\" class=\"plotly-graph-div\" style=\"height:525px; width:100%;\"></div>            <script type=\"text/javascript\">                require([\"plotly\"], function(Plotly) {                    window.PLOTLYENV=window.PLOTLYENV || {};                                    if (document.getElementById(\"01fa243f-58d8-41a6-8839-d760b467bf00\")) {                    Plotly.newPlot(                        \"01fa243f-58d8-41a6-8839-d760b467bf00\",                        [{\"contours\":{\"z\":{\"highlightcolor\":\"limegreen\",\"project\":{\"z\":true},\"show\":true,\"usecolormap\":true}},\"type\":\"surface\",\"x\":[0.0,0.1,0.2,0.30000000000000004,0.4,0.5,0.6000000000000001,0.7000000000000001,0.8,0.9,1.0,1.1,1.2000000000000002,1.3,1.4000000000000001,1.5,1.6,1.7000000000000002,1.8,1.9000000000000001,2.0,2.1,2.2,2.3000000000000003,2.4000000000000004,2.5,2.6,2.7,2.8000000000000003,2.9000000000000004,3.0,3.1],\"y\":[0.0,0.1,0.2,0.30000000000000004,0.4,0.5,0.6000000000000001,0.7000000000000001,0.8,0.9,1.0,1.1,1.2000000000000002,1.3,1.4000000000000001,1.5,1.6,1.7000000000000002,1.8,1.9000000000000001,2.0,2.1,2.2,2.3000000000000003,2.4000000000000004,2.5,2.6,2.7,2.8000000000000003,2.9000000000000004,3.0,3.1],\"z\":[[-24.0475,-23.542375,-23.345,-23.40475,-23.67625,-24.024875,-23.4815,-23.534,-23.255375,-23.460375,-23.573,-23.6565,-23.2325,-23.86375,-23.54725,-23.2225,-23.096375,-23.29025,-23.738625,-23.473125,-23.520125,-23.965875,-23.279625,-23.526375,-23.898875,-23.856375,-23.686375,-23.33675,-23.47625,-23.496125,-23.217875,-23.332625],[-23.821584752878014,-22.034915980624454,-23.017381816054968,-23.846145300333646,-23.263362822070334,-21.926241253660685,-22.686901793432256,-23.2389701772891,-22.831917931088913,-22.098025012068817,-22.641366128689143,-23.06658751778888,-23.707269298666706,-22.757365543256643,-22.531590229252554,-23.54698095345788,-23.33970610263445,-22.069970547463214,-23.271126695854118,-24.02017011721828,-23.94802798923381,-23.33985753710891,-23.285612124027278,-24.081832236653316,-24.077700339126203,-24.122053225800343,-23.518535054097793,-23.248708504198945,-23.661731366523217,-23.872390012408264,-23.071090119724172,-23.58394180890269],[-23.986,-20.62675,-22.83,-23.977,-22.8165,-20.840875,-22.11475,-23.035875,-22.97575,-21.0965,-22.006625,-23.02425,-23.690875,-21.9325,-21.7055,-24.21875,-23.775625,-20.870125,-22.751125,-24.5465,-24.43125,-22.990875,-23.105375,-24.57925,-24.481,-24.280625,-23.869,-23.7085,-24.216125,-24.656625,-23.178125,-23.576125],[-23.787982320936216,-19.378009953482785,-22.765947288322632,-23.856744237440275,-22.09485900793763,-19.707411242669927,-21.72190476318443,-22.773224887827077,-22.720646378310672,-20.292267387449076,-21.42270213447149,-22.734573383876665,-23.68512000100392,-20.439420159506266,-20.698614860129407,-24.381388586544567,-23.722592355001584,-20.094177625358068,-22.318923394846852,-25.59108759549184,-24.777469140498937,-22.258395570007963,-23.11347666860813,-25.078531759984664,-24.87152831952441,-24.854965931160354,-24.423073731803,-24.250059272027965,-24.655087114778162,-25.164810280700163,-23.41535538411364,-23.920948611567518],[-24.023375,-18.591,-22.435,-23.29675,-21.99025,-19.086625,-21.632625,-22.431375,-22.789,-20.41975,-21.38575,-22.723875,-23.3945,-20.272125,-20.58575,-24.889,-23.591375,-18.184,-22.023375,-26.257125,-25.144375,-22.33775,-23.44625,-25.42575,-25.539125,-25.070375,-24.53425,-24.387125,-24.95825,-26.067625,-24.047625,-24.071125],[-24.29858457078068,-16.85792192039621,-20.97186001952758,-20.88329168940015,-22.29574437182474,-18.752871004585888,-20.66588584284503,-19.39596823395447,-21.22511397587889,-19.833300825515956,-21.290475952673614,-21.490042154778205,-21.673551730544485,-18.721181337758104,-20.89677269363103,-26.29295675694742,-22.895517608587323,-17.080564198290674,-21.466317535487605,-28.52877707691636,-26.19716031972281,-21.06520209169425,-23.40125753756656,-26.655238576172145,-27.371026758868755,-25.23024258155081,-24.88220745318689,-24.841035449028315,-26.82859080070326,-27.52616777126632,-25.49586102566705,-24.55269756464861],[-24.349869330568882,-16.993913325531103,-20.550526805531153,-19.012211343188927,-22.663836454687505,-19.945929060492023,-20.48965009180881,-18.537951516912152,-21.287890777406023,-21.185451930944563,-21.704545765758205,-21.02763406871063,-21.042779243500014,-19.13705640423631,-21.32263760876873,-26.504786779546603,-22.565729162799357,-17.18781846777873,-21.886418766066324,-29.06853049227807,-26.265734488524863,-20.718183655931014,-23.1953027567712,-26.632082116828183,-28.007737172586467,-25.55436957055401,-24.981648108897915,-24.98925055230031,-27.068548828547677,-27.749281171320515,-26.088932882517877,-24.7812009245658],[-24.006375,-18.63225,-20.7195,-18.0365,-23.352625,-22.287875,-21.030375,-18.58925,-21.801875,-23.2295,-23.14125,-21.399375,-20.4145,-20.30775,-22.51275,-26.12025,-21.834875,-18.693375,-22.297875,-28.2195,-26.18175,-21.858125,-23.544125,-26.161875,-28.235375,-25.723875,-25.031,-24.696375,-26.82025,-27.212,-26.75125,-24.62775],[-23.738168253928116,-19.90294629242364,-20.454336646006567,-16.792794959372163,-24.279962420634607,-24.093580857380807,-21.834743601187867,-17.97328995279757,-22.319713121171915,-24.739775296158943,-24.164042010221927,-21.303488785544484,-20.222549519391826,-21.59921635134214,-23.458931822303278,-25.649606545446346,-21.46765018914002,-19.601608217746417,-22.607735896838843,-27.65620274092681,-25.789225842229587,-22.25447743590562,-23.538114700586696,-25.391954797971692,-28.326308780963192,-26.02533215674048,-25.02585882898513,-24.57906945471731,-26.90587213831187,-26.89843433218975,-26.88633211535817,-24.64754690979661],[-23.886159321491373,-21.65476062047816,-20.748310777074753,-16.040476158267435,-24.47265177606296,-26.360334441550464,-22.413301574397313,-18.134987309909945,-22.7949699060976,-26.53023131014215,-24.755719657140705,-21.509282402109772,-20.044536944873496,-23.110139471063167,-24.3924791337709,-24.926375399159305,-21.017765171063086,-21.192739768797093,-23.3210529925377,-26.437800350723798,-25.30534827494518,-22.94649799643523,-23.508099002917948,-24.677551898504653,-27.73441377814013,-25.656013091039004,-25.063631032338765,-24.193452323709433,-26.154934610314847,-26.270491901029697,-27.15840468747855,-24.471602293355602],[-23.773875,-23.5035,-21.339625,-17.050625,-24.79625,-27.771125,-23.60725,-19.275125,-23.37275,-27.520875,-25.62825,-22.083875,-20.637375,-24.409875,-25.278875,-24.030875,-21.172,-22.693375,-23.95,-25.054125,-24.239125,-23.758375,-24.068375,-23.63575,-26.9695,-25.5995,-24.357125,-24.2665,-25.632625,-25.200375,-26.545375,-24.318875],[-23.598555973138627,-25.033768141934836,-21.753633510664233,-16.709398633709807,-25.191480841173604,-28.914829415688274,-23.95591558333901,-19.80775242505562,-24.062863576421112,-28.651151332225226,-26.055786570703123,-22.492966549015925,-20.76981036369086,-25.913440564201434,-26.010777169011956,-23.72975637800067,-20.761573488993896,-23.926689310795993,-24.495230383835512,-23.626398287600924,-23.743001730080568,-24.275249562147362,-23.537962158548766,-22.820937286042373,-26.26486968564242,-24.944315899562056,-24.59547838390004,-23.6085472498601,-25.00269571803489,-24.59730482868625,-26.256649884694568,-24.150041442393828],[-23.60048239666179,-26.11311097147718,-22.245377504717002,-17.912250261779818,-25.541043113018038,-29.150678025489956,-24.33452975311777,-21.063121350046682,-24.5595562794141,-28.526762257171306,-26.271766047387803,-23.148916922496646,-21.62304288098369,-26.47657837833674,-25.98021507975968,-23.248845160529243,-21.319352028454844,-25.035204291395523,-24.66283769876963,-22.752870622650196,-23.118089488185397,-24.65311560487577,-23.484655379523065,-22.47370504897391,-25.58532202175096,-24.682695630720744,-24.00141245782847,-22.92118517203948,-24.4800012420357,-23.81063004598846,-25.75723302034558,-23.73502132780862],[-23.792625,-26.11725,-22.794375,-19.987875,-25.415375,-28.1135,-24.429,-22.463625,-24.43675,-27.739375,-25.6805,-23.52575,-22.319125,-26.1095,-25.550375,-23.06525,-21.81575,-25.359625,-24.642875,-22.528625,-22.741,-24.77825,-23.786875,-22.75075,-24.914375,-24.348625,-23.871125,-23.046625,-24.041875,-23.576875,-25.029125,-23.861625],[-24.17340174178007,-27.196511268320993,-23.754104005406198,-21.922212211221463,-25.49706876212971,-27.54248565471728,-24.710149210452716,-23.874108255503955,-25.51618830852129,-26.977859706500364,-25.48472264474706,-23.913776306957885,-23.93054878068748,-26.42588905552953,-25.548950434542004,-23.853988055280926,-23.89643667627886,-25.99315316579059,-24.87144837269017,-23.389457658706192,-24.46852318828478,-25.793334118189968,-24.59819841622594,-23.62481237514772,-24.559635547604643,-24.092299629390357,-23.469687758111593,-23.781781289057108,-24.728832385070568,-24.378853068795845,-24.615591281579984,-24.424101752824242],[-24.257125,-25.833875,-24.402875,-23.61175,-24.574375,-25.3085,-24.51325,-24.399375,-25.166125,-25.4435,-24.84575,-24.40925,-24.173,-25.254125,-24.963375,-24.507,-24.571375,-25.172375,-24.544,-23.785875,-24.556625,-25.284375,-24.749625,-24.27675,-24.4585,-24.066875,-23.66075,-24.046625,-24.775875,-24.432625,-24.2765,-24.35625],[-24.202935581026097,-23.77091116595237,-23.99468292977158,-24.46504042047974,-23.689163926483882,-23.075283411491537,-24.530913560941766,-24.720536996903057,-24.559370042194782,-23.64811653835294,-23.92214104701933,-24.544943255389718,-24.37996195294864,-23.6272065512921,-24.297912142552978,-24.973857123672012,-24.80260146756722,-23.833623585424878,-24.61752061926986,-25.15061610273623,-24.590828636079845,-24.32040984739915,-24.59694577855901,-24.606297321720604,-24.201712916715028,-24.138760397745923,-24.182334641634235,-24.60615473695973,-24.771375428050888,-24.82512097640644,-24.28274389007226,-24.481805380895377],[-24.128375,-22.162125,-23.92825,-24.936,-23.058625,-21.415625,-23.433875,-24.453375,-23.867625,-21.91625,-23.397625,-24.4125,-24.101375,-22.459,-23.90225,-25.6535,-24.95925,-22.38925,-23.9585,-25.889125,-24.937625,-23.718,-24.73425,-25.465125,-24.554625,-24.029125,-24.619625,-24.987375,-25.076125,-25.36025,-24.188375,-24.24625],[-23.898811494668063,-19.907681742079358,-23.4163812137232,-24.929775243840652,-21.96895274603994,-19.345411616965063,-22.665850828917605,-23.684883903079466,-22.959533378276465,-20.87388083000472,-22.793155219940324,-23.784308706313507,-23.54343760812944,-20.81261847304574,-22.69749929610517,-26.18110134097367,-24.895505122363932,-20.36253445024256,-23.459237089929445,-27.170077191914483,-25.116125828650556,-22.484708852455118,-24.96814270818979,-26.590824245411937,-24.900111297400493,-24.35785398898471,-24.752513692437624,-25.4946897345193,-25.516306539202017,-26.064181250277205,-24.6084974956182,-24.477964768185966],[-23.79725,-18.674625,-22.693125,-23.993125,-21.7605,-18.788,-22.274125,-22.652125,-22.2395,-20.339375,-22.39575,-23.479125,-22.89925,-20.253,-22.178625,-26.508,-24.60075,-19.400125,-22.792,-27.884375,-25.663625,-22.01125,-24.58325,-26.62475,-25.483375,-24.661875,-25.107625,-25.618875,-25.705,-26.561125,-25.052,-24.513625],[-23.45207247859498,-16.88030246438356,-21.97633044502864,-23.130609610247042,-21.468009960529603,-18.319491077054906,-21.113633828843177,-21.166266515196554,-21.51102584491315,-19.72136047998301,-21.96776858239598,-22.649417641387036,-21.93226194676333,-19.372392129503986,-21.554584949780963,-26.836610499307127,-24.070278590879628,-17.67996787306036,-22.101309541525385,-28.753241708849963,-25.793320055433394,-21.118486209386685,-24.242154903881477,-26.943539151952336,-26.162905100504904,-24.953565820360755,-25.57366881284562,-25.894817266562544,-26.1265600453132,-27.147887196921204,-25.682541140078584,-24.463949220831775],[-23.349,-17.715125,-21.726,-21.611375,-21.89225,-19.101125,-20.804625,-20.417625,-21.73125,-20.65975,-21.8505,-22.362375,-21.52,-19.958375,-21.594125,-26.5955,-23.921125,-17.972625,-22.26375,-28.26675,-25.884625,-21.504625,-23.759875,-26.837875,-26.748875,-25.004375,-25.359125,-25.62025,-26.35975,-26.989375,-26.1405,-24.36925],[-23.416105859525107,-17.37939159769897,-20.785750522301186,-19.99803576338907,-22.065295346960298,-19.953752769380483,-20.18169835848241,-19.243613073862004,-21.399049775139062,-21.737693393067637,-22.38519580052144,-21.457002465792876,-20.76114413759572,-20.552004709203544,-21.77288112385814,-26.43748248886738,-23.55415298005807,-17.478076058323236,-21.75483105356434,-28.584841562244133,-25.765549757517707,-21.23642003581166,-23.502794150420186,-26.674693780393895,-27.49127857348165,-25.581489972201165,-25.45042396966336,-25.536686989202586,-26.498505557422323,-27.404539161752318,-26.567386140147967,-24.48790134670863],[-23.499836162506288,-18.81254174780372,-20.597918692946653,-18.381805184260816,-22.85497425710407,-21.721304654118278,-20.33704448759168,-18.65564445101271,-21.590921285540205,-23.50725648783636,-22.597546702171375,-21.083255874449545,-20.902904951354966,-21.35174298854094,-21.707824536889923,-26.082857312704306,-23.035943362018795,-18.46119770458874,-21.781584999907544,-27.82502556902991,-25.750097863544365,-21.82222469860699,-23.033848482031058,-26.124674386538874,-27.743165250923308,-25.603166033417995,-25.536566308723486,-25.008956281508393,-26.666852638541055,-26.9003485864037,-27.016480934853504,-24.248137793048436],[-23.597,-21.3165,-21.0005,-17.85,-23.882125,-24.248125,-21.310875,-19.108,-22.571625,-25.002875,-23.376625,-21.36525,-20.978,-23.307875,-22.70525,-25.5395,-22.6075,-20.312625,-22.181375,-26.696625,-25.39425,-22.887,-22.7345,-25.2255,-27.83075,-25.499875,-24.643125,-24.746125,-26.1815,-26.201,-26.755,-24.382125],[-23.807643022075993,-23.134239326634447,-20.998811180623928,-16.543477107903318,-24.60678571491613,-26.171267239840223,-21.826485303261737,-19.49121938399609,-23.489158429416506,-26.587495697467528,-24.123490194437768,-21.585728441642555,-20.878076093507865,-24.62351367201296,-23.762859103767635,-25.047050411003575,-22.15455283554199,-21.295536152498993,-22.959183587661297,-25.615108698681357,-25.22057126098365,-23.88098109239236,-22.89710474924254,-24.433903962095247,-27.636437231154574,-25.51211890901008,-24.487225853774245,-24.538371400856818,-25.962048389130803,-25.94824633005168,-26.883955988454183,-24.465928231976598],[-24.126063810301527,-24.93993028718171,-21.549063749974962,-16.7498778780813,-25.133336328023557,-27.78817899975618,-22.371266000706164,-20.139986600617643,-24.370859301988833,-27.824029690410917,-24.969790609461075,-21.796161444104172,-21.43047278709038,-25.976309757445236,-24.577877542926448,-24.408573234059798,-22.07279969077115,-23.1319425089631,-23.287060842241186,-24.401352864927027,-24.91113823351088,-24.816851674678485,-23.007147661973956,-23.664591709538946,-27.62797860863874,-25.420212018664174,-24.370191949519107,-24.132510603066144,-25.63351722739075,-25.11977590264573,-26.47036769369189,-24.23280639218404],[-24.1145,-26.53775,-22.22325,-18.103875,-25.7005,-28.66175,-23.648875,-21.662625,-25.452,-28.00775,-25.09175,-22.362125,-22.7,-26.494125,-24.948125,-23.852875,-22.583875,-24.396125,-23.89175,-23.909625,-24.543375,-25.46825,-23.41675,-23.371625,-26.527,-25.10025,-24.003,-23.854,-25.25725,-24.512125,-25.923375,-24.273625],[-23.844179081650896,-27.214525887002637,-22.923962387130764,-18.785949536548287,-25.425981767034376,-28.809635598610548,-24.47945984345944,-22.34286660163493,-25.45561387412847,-28.29853572275289,-25.520711650672876,-23.130398598634454,-22.608398869013453,-27.051907468735465,-25.765248619699914,-23.56477334430777,-22.91555215020259,-25.827781653170444,-24.342059360685813,-22.843750901478842,-24.23882861542026,-25.882652679584634,-23.69291920855604,-23.004131396906008,-25.74722633383536,-24.729583552931523,-23.878991136493426,-23.12996551020314,-24.749064000041077,-24.512271774024114,-25.76284462982754,-23.70247142563961],[-24.205,-27.23275,-23.75725,-20.650875,-25.0915,-27.6575,-24.741375,-23.651625,-25.530625,-27.26,-25.205625,-23.031125,-23.325625,-26.67275,-25.473875,-23.493125,-23.691875,-25.797,-24.242125,-22.76675,-24.41925,-25.962625,-24.36225,-23.381375,-25.180125,-24.06,-23.546375,-23.4985,-24.671,-24.324375,-25.277625,-24.038375],[-24.304150368687022,-26.851565537853677,-23.951213627273045,-22.0924859229779,-24.912150600917624,-26.361940415518553,-24.69007263245538,-24.154953351212427,-25.404430798285485,-26.42253838662326,-24.6899977751249,-23.89208977341824,-24.1386709758222,-26.07920263064017,-25.375552228822862,-23.680557307020763,-23.967713941061813,-25.516754983780725,-24.319428114917017,-22.83640654183557,-24.668451931007887,-25.94837297159426,-24.360164473854493,-23.537418329028757,-24.396615267545855,-24.031985244817008,-23.5550439935286,-23.743404170124002,-24.388512166248695,-24.403534810471967,-24.858343021649794,-23.934482748796135],[-24.39423625984839,-25.488096602393018,-24.26806606489954,-23.757301979126407,-24.329183952073887,-24.491701467320905,-24.346067456967454,-24.58033212180293,-25.18172802597326,-24.917174794495327,-24.289431885776278,-23.636592173849124,-24.125583838417533,-24.95933820197247,-24.826096594984513,-24.223646311496054,-24.484306362008063,-24.81472968155072,-24.23944236997861,-23.553898682419042,-24.572273563109615,-25.019582451911077,-24.807111373349535,-24.245178857593963,-24.262908073363377,-23.934900383123797,-23.71218031577983,-23.953240331565976,-24.50865580130322,-24.798346890971658,-24.373627272149744,-23.683975459491975]]}],                        {\"scene\":{\"xaxis\":{\"title\":{\"text\":\"\\u03b3\"}},\"yaxis\":{\"title\":{\"text\":\"\\u03b2\"}},\"zaxis\":{\"title\":{\"text\":\"F(\\u03b3,\\u03b2)\"}}},\"template\":{\"data\":{\"bar\":[{\"error_x\":{\"color\":\"#2a3f5f\"},\"error_y\":{\"color\":\"#2a3f5f\"},\"marker\":{\"line\":{\"color\":\"#E5ECF6\",\"width\":0.5},\"pattern\":{\"fillmode\":\"overlay\",\"size\":10,\"solidity\":0.2}},\"type\":\"bar\"}],\"barpolar\":[{\"marker\":{\"line\":{\"color\":\"#E5ECF6\",\"width\":0.5},\"pattern\":{\"fillmode\":\"overlay\",\"size\":10,\"solidity\":0.2}},\"type\":\"barpolar\"}],\"carpet\":[{\"aaxis\":{\"endlinecolor\":\"#2a3f5f\",\"gridcolor\":\"white\",\"linecolor\":\"white\",\"minorgridcolor\":\"white\",\"startlinecolor\":\"#2a3f5f\"},\"baxis\":{\"endlinecolor\":\"#2a3f5f\",\"gridcolor\":\"white\",\"linecolor\":\"white\",\"minorgridcolor\":\"white\",\"startlinecolor\":\"#2a3f5f\"},\"type\":\"carpet\"}],\"choropleth\":[{\"colorbar\":{\"outlinewidth\":0,\"ticks\":\"\"},\"type\":\"choropleth\"}],\"contour\":[{\"colorbar\":{\"outlinewidth\":0,\"ticks\":\"\"},\"colorscale\":[[0.0,\"#0d0887\"],[0.1111111111111111,\"#46039f\"],[0.2222222222222222,\"#7201a8\"],[0.3333333333333333,\"#9c179e\"],[0.4444444444444444,\"#bd3786\"],[0.5555555555555556,\"#d8576b\"],[0.6666666666666666,\"#ed7953\"],[0.7777777777777778,\"#fb9f3a\"],[0.8888888888888888,\"#fdca26\"],[1.0,\"#f0f921\"]],\"type\":\"contour\"}],\"contourcarpet\":[{\"colorbar\":{\"outlinewidth\":0,\"ticks\":\"\"},\"type\":\"contourcarpet\"}],\"heatmap\":[{\"colorbar\":{\"outlinewidth\":0,\"ticks\":\"\"},\"colorscale\":[[0.0,\"#0d0887\"],[0.1111111111111111,\"#46039f\"],[0.2222222222222222,\"#7201a8\"],[0.3333333333333333,\"#9c179e\"],[0.4444444444444444,\"#bd3786\"],[0.5555555555555556,\"#d8576b\"],[0.6666666666666666,\"#ed7953\"],[0.7777777777777778,\"#fb9f3a\"],[0.8888888888888888,\"#fdca26\"],[1.0,\"#f0f921\"]],\"type\":\"heatmap\"}],\"heatmapgl\":[{\"colorbar\":{\"outlinewidth\":0,\"ticks\":\"\"},\"colorscale\":[[0.0,\"#0d0887\"],[0.1111111111111111,\"#46039f\"],[0.2222222222222222,\"#7201a8\"],[0.3333333333333333,\"#9c179e\"],[0.4444444444444444,\"#bd3786\"],[0.5555555555555556,\"#d8576b\"],[0.6666666666666666,\"#ed7953\"],[0.7777777777777778,\"#fb9f3a\"],[0.8888888888888888,\"#fdca26\"],[1.0,\"#f0f921\"]],\"type\":\"heatmapgl\"}],\"histogram\":[{\"marker\":{\"pattern\":{\"fillmode\":\"overlay\",\"size\":10,\"solidity\":0.2}},\"type\":\"histogram\"}],\"histogram2d\":[{\"colorbar\":{\"outlinewidth\":0,\"ticks\":\"\"},\"colorscale\":[[0.0,\"#0d0887\"],[0.1111111111111111,\"#46039f\"],[0.2222222222222222,\"#7201a8\"],[0.3333333333333333,\"#9c179e\"],[0.4444444444444444,\"#bd3786\"],[0.5555555555555556,\"#d8576b\"],[0.6666666666666666,\"#ed7953\"],[0.7777777777777778,\"#fb9f3a\"],[0.8888888888888888,\"#fdca26\"],[1.0,\"#f0f921\"]],\"type\":\"histogram2d\"}],\"histogram2dcontour\":[{\"colorbar\":{\"outlinewidth\":0,\"ticks\":\"\"},\"colorscale\":[[0.0,\"#0d0887\"],[0.1111111111111111,\"#46039f\"],[0.2222222222222222,\"#7201a8\"],[0.3333333333333333,\"#9c179e\"],[0.4444444444444444,\"#bd3786\"],[0.5555555555555556,\"#d8576b\"],[0.6666666666666666,\"#ed7953\"],[0.7777777777777778,\"#fb9f3a\"],[0.8888888888888888,\"#fdca26\"],[1.0,\"#f0f921\"]],\"type\":\"histogram2dcontour\"}],\"mesh3d\":[{\"colorbar\":{\"outlinewidth\":0,\"ticks\":\"\"},\"type\":\"mesh3d\"}],\"parcoords\":[{\"line\":{\"colorbar\":{\"outlinewidth\":0,\"ticks\":\"\"}},\"type\":\"parcoords\"}],\"pie\":[{\"automargin\":true,\"type\":\"pie\"}],\"scatter\":[{\"marker\":{\"colorbar\":{\"outlinewidth\":0,\"ticks\":\"\"}},\"type\":\"scatter\"}],\"scatter3d\":[{\"line\":{\"colorbar\":{\"outlinewidth\":0,\"ticks\":\"\"}},\"marker\":{\"colorbar\":{\"outlinewidth\":0,\"ticks\":\"\"}},\"type\":\"scatter3d\"}],\"scattercarpet\":[{\"marker\":{\"colorbar\":{\"outlinewidth\":0,\"ticks\":\"\"}},\"type\":\"scattercarpet\"}],\"scattergeo\":[{\"marker\":{\"colorbar\":{\"outlinewidth\":0,\"ticks\":\"\"}},\"type\":\"scattergeo\"}],\"scattergl\":[{\"marker\":{\"colorbar\":{\"outlinewidth\":0,\"ticks\":\"\"}},\"type\":\"scattergl\"}],\"scattermapbox\":[{\"marker\":{\"colorbar\":{\"outlinewidth\":0,\"ticks\":\"\"}},\"type\":\"scattermapbox\"}],\"scatterpolar\":[{\"marker\":{\"colorbar\":{\"outlinewidth\":0,\"ticks\":\"\"}},\"type\":\"scatterpolar\"}],\"scatterpolargl\":[{\"marker\":{\"colorbar\":{\"outlinewidth\":0,\"ticks\":\"\"}},\"type\":\"scatterpolargl\"}],\"scatterternary\":[{\"marker\":{\"colorbar\":{\"outlinewidth\":0,\"ticks\":\"\"}},\"type\":\"scatterternary\"}],\"surface\":[{\"colorbar\":{\"outlinewidth\":0,\"ticks\":\"\"},\"colorscale\":[[0.0,\"#0d0887\"],[0.1111111111111111,\"#46039f\"],[0.2222222222222222,\"#7201a8\"],[0.3333333333333333,\"#9c179e\"],[0.4444444444444444,\"#bd3786\"],[0.5555555555555556,\"#d8576b\"],[0.6666666666666666,\"#ed7953\"],[0.7777777777777778,\"#fb9f3a\"],[0.8888888888888888,\"#fdca26\"],[1.0,\"#f0f921\"]],\"type\":\"surface\"}],\"table\":[{\"cells\":{\"fill\":{\"color\":\"#EBF0F8\"},\"line\":{\"color\":\"white\"}},\"header\":{\"fill\":{\"color\":\"#C8D4E3\"},\"line\":{\"color\":\"white\"}},\"type\":\"table\"}]},\"layout\":{\"annotationdefaults\":{\"arrowcolor\":\"#2a3f5f\",\"arrowhead\":0,\"arrowwidth\":1},\"autotypenumbers\":\"strict\",\"coloraxis\":{\"colorbar\":{\"outlinewidth\":0,\"ticks\":\"\"}},\"colorscale\":{\"diverging\":[[0,\"#8e0152\"],[0.1,\"#c51b7d\"],[0.2,\"#de77ae\"],[0.3,\"#f1b6da\"],[0.4,\"#fde0ef\"],[0.5,\"#f7f7f7\"],[0.6,\"#e6f5d0\"],[0.7,\"#b8e186\"],[0.8,\"#7fbc41\"],[0.9,\"#4d9221\"],[1,\"#276419\"]],\"sequential\":[[0.0,\"#0d0887\"],[0.1111111111111111,\"#46039f\"],[0.2222222222222222,\"#7201a8\"],[0.3333333333333333,\"#9c179e\"],[0.4444444444444444,\"#bd3786\"],[0.5555555555555556,\"#d8576b\"],[0.6666666666666666,\"#ed7953\"],[0.7777777777777778,\"#fb9f3a\"],[0.8888888888888888,\"#fdca26\"],[1.0,\"#f0f921\"]],\"sequentialminus\":[[0.0,\"#0d0887\"],[0.1111111111111111,\"#46039f\"],[0.2222222222222222,\"#7201a8\"],[0.3333333333333333,\"#9c179e\"],[0.4444444444444444,\"#bd3786\"],[0.5555555555555556,\"#d8576b\"],[0.6666666666666666,\"#ed7953\"],[0.7777777777777778,\"#fb9f3a\"],[0.8888888888888888,\"#fdca26\"],[1.0,\"#f0f921\"]]},\"colorway\":[\"#636efa\",\"#EF553B\",\"#00cc96\",\"#ab63fa\",\"#FFA15A\",\"#19d3f3\",\"#FF6692\",\"#B6E880\",\"#FF97FF\",\"#FECB52\"],\"font\":{\"color\":\"#2a3f5f\"},\"geo\":{\"bgcolor\":\"white\",\"lakecolor\":\"white\",\"landcolor\":\"#E5ECF6\",\"showlakes\":true,\"showland\":true,\"subunitcolor\":\"white\"},\"hoverlabel\":{\"align\":\"left\"},\"hovermode\":\"closest\",\"mapbox\":{\"style\":\"light\"},\"paper_bgcolor\":\"white\",\"plot_bgcolor\":\"#E5ECF6\",\"polar\":{\"angularaxis\":{\"gridcolor\":\"white\",\"linecolor\":\"white\",\"ticks\":\"\"},\"bgcolor\":\"#E5ECF6\",\"radialaxis\":{\"gridcolor\":\"white\",\"linecolor\":\"white\",\"ticks\":\"\"}},\"scene\":{\"xaxis\":{\"backgroundcolor\":\"#E5ECF6\",\"gridcolor\":\"white\",\"gridwidth\":2,\"linecolor\":\"white\",\"showbackground\":true,\"ticks\":\"\",\"zerolinecolor\":\"white\"},\"yaxis\":{\"backgroundcolor\":\"#E5ECF6\",\"gridcolor\":\"white\",\"gridwidth\":2,\"linecolor\":\"white\",\"showbackground\":true,\"ticks\":\"\",\"zerolinecolor\":\"white\"},\"zaxis\":{\"backgroundcolor\":\"#E5ECF6\",\"gridcolor\":\"white\",\"gridwidth\":2,\"linecolor\":\"white\",\"showbackground\":true,\"ticks\":\"\",\"zerolinecolor\":\"white\"}},\"shapedefaults\":{\"line\":{\"color\":\"#2a3f5f\"}},\"ternary\":{\"aaxis\":{\"gridcolor\":\"white\",\"linecolor\":\"white\",\"ticks\":\"\"},\"baxis\":{\"gridcolor\":\"white\",\"linecolor\":\"white\",\"ticks\":\"\"},\"bgcolor\":\"#E5ECF6\",\"caxis\":{\"gridcolor\":\"white\",\"linecolor\":\"white\",\"ticks\":\"\"}},\"title\":{\"x\":0.05},\"xaxis\":{\"automargin\":true,\"gridcolor\":\"white\",\"linecolor\":\"white\",\"ticks\":\"\",\"title\":{\"standoff\":15},\"zerolinecolor\":\"white\",\"zerolinewidth\":2},\"yaxis\":{\"automargin\":true,\"gridcolor\":\"white\",\"linecolor\":\"white\",\"ticks\":\"\",\"title\":{\"standoff\":15},\"zerolinecolor\":\"white\",\"zerolinewidth\":2}}},\"title\":{\"text\":\"QAOA with Qiskit Error Mitigation - MaxCut-Landscape\"}},                        {\"responsive\": true}                    ).then(function(){\n",
       "                            \n",
       "var gd = document.getElementById('01fa243f-58d8-41a6-8839-d760b467bf00');\n",
       "var x = new MutationObserver(function (mutations, observer) {{\n",
       "        var display = window.getComputedStyle(gd).display;\n",
       "        if (!display || display === 'none') {{\n",
       "            console.log([gd, 'removed!']);\n",
       "            Plotly.purge(gd);\n",
       "            observer.disconnect();\n",
       "        }}\n",
       "}});\n",
       "\n",
       "// Listen for the removal of the full notebook cells\n",
       "var notebookContainer = gd.closest('#notebook-container');\n",
       "if (notebookContainer) {{\n",
       "    x.observe(notebookContainer, {childList: true});\n",
       "}}\n",
       "\n",
       "// Listen for the clearing of the current output cell\n",
       "var outputEl = gd.closest('.output');\n",
       "if (outputEl) {{\n",
       "    x.observe(outputEl, {childList: true});\n",
       "}}\n",
       "\n",
       "                        })                };                });            </script>        </div>"
      ]
     },
     "metadata": {},
     "output_type": "display_data"
    }
   ],
   "source": [
    "# Plot landscape in 3D \n",
    "a_gamma = np.arange(0, np.pi, step_size)\n",
    "b_beta = np.arange(0, np.pi, step_size)\n",
    "fig = go.Figure(data=go.Surface(z=landscape, x=a_gamma, y=b_beta))\n",
    "\n",
    "fig.update_traces(contours_z=dict(show=True, usecolormap=True, highlightcolor='limegreen', project_z=True))\n",
    "\n",
    "\n",
    "fig.update_layout(title=\"QAOA with Qiskit Error Mitigation - MaxCut-Landscape\", scene=dict(\n",
    "    xaxis_title=\"γ\",\n",
    "    yaxis_title=\"β\",\n",
    "    zaxis_title=\"F(γ,β)\"\n",
    "))"
   ]
  },
  {
   "cell_type": "code",
   "execution_count": 50,
   "id": "7a8d8f7a",
   "metadata": {},
   "outputs": [
    {
     "data": {
      "application/vnd.plotly.v1+json": {
       "config": {
        "plotlyServerURL": "https://plot.ly"
       },
       "data": [
        {
         "colorscale": [
          [
           0,
           "#440154"
          ],
          [
           0.1111111111111111,
           "#482878"
          ],
          [
           0.2222222222222222,
           "#3e4989"
          ],
          [
           0.3333333333333333,
           "#31688e"
          ],
          [
           0.4444444444444444,
           "#26828e"
          ],
          [
           0.5555555555555556,
           "#1f9e89"
          ],
          [
           0.6666666666666666,
           "#35b779"
          ],
          [
           0.7777777777777778,
           "#6ece58"
          ],
          [
           0.8888888888888888,
           "#b5de2b"
          ],
          [
           1,
           "#fde725"
          ]
         ],
         "type": "heatmap",
         "x": [
          0,
          0.1,
          0.2,
          0.30000000000000004,
          0.4,
          0.5,
          0.6000000000000001,
          0.7000000000000001,
          0.8,
          0.9,
          1,
          1.1,
          1.2000000000000002,
          1.3,
          1.4000000000000001,
          1.5,
          1.6,
          1.7000000000000002,
          1.8,
          1.9000000000000001,
          2,
          2.1,
          2.2,
          2.3000000000000003,
          2.4000000000000004,
          2.5,
          2.6,
          2.7,
          2.8000000000000003,
          2.9000000000000004,
          3,
          3.1
         ],
         "y": [
          0,
          0.1,
          0.2,
          0.30000000000000004,
          0.4,
          0.5,
          0.6000000000000001,
          0.7000000000000001,
          0.8,
          0.9,
          1,
          1.1,
          1.2000000000000002,
          1.3,
          1.4000000000000001,
          1.5,
          1.6,
          1.7000000000000002,
          1.8,
          1.9000000000000001,
          2,
          2.1,
          2.2,
          2.3000000000000003,
          2.4000000000000004,
          2.5,
          2.6,
          2.7,
          2.8000000000000003,
          2.9000000000000004,
          3,
          3.1
         ],
         "z": [
          [
           -24.0475,
           -23.542375,
           -23.345,
           -23.40475,
           -23.67625,
           -24.024875,
           -23.4815,
           -23.534,
           -23.255375,
           -23.460375,
           -23.573,
           -23.6565,
           -23.2325,
           -23.86375,
           -23.54725,
           -23.2225,
           -23.096375,
           -23.29025,
           -23.738625,
           -23.473125,
           -23.520125,
           -23.965875,
           -23.279625,
           -23.526375,
           -23.898875,
           -23.856375,
           -23.686375,
           -23.33675,
           -23.47625,
           -23.496125,
           -23.217875,
           -23.332625
          ],
          [
           -23.821584752878014,
           -22.034915980624454,
           -23.017381816054968,
           -23.846145300333646,
           -23.263362822070334,
           -21.926241253660685,
           -22.686901793432256,
           -23.2389701772891,
           -22.831917931088913,
           -22.098025012068817,
           -22.641366128689143,
           -23.06658751778888,
           -23.707269298666706,
           -22.757365543256643,
           -22.531590229252554,
           -23.54698095345788,
           -23.33970610263445,
           -22.069970547463214,
           -23.271126695854118,
           -24.02017011721828,
           -23.94802798923381,
           -23.33985753710891,
           -23.285612124027278,
           -24.081832236653316,
           -24.077700339126203,
           -24.122053225800343,
           -23.518535054097793,
           -23.248708504198945,
           -23.661731366523217,
           -23.872390012408264,
           -23.071090119724172,
           -23.58394180890269
          ],
          [
           -23.986,
           -20.62675,
           -22.83,
           -23.977,
           -22.8165,
           -20.840875,
           -22.11475,
           -23.035875,
           -22.97575,
           -21.0965,
           -22.006625,
           -23.02425,
           -23.690875,
           -21.9325,
           -21.7055,
           -24.21875,
           -23.775625,
           -20.870125,
           -22.751125,
           -24.5465,
           -24.43125,
           -22.990875,
           -23.105375,
           -24.57925,
           -24.481,
           -24.280625,
           -23.869,
           -23.7085,
           -24.216125,
           -24.656625,
           -23.178125,
           -23.576125
          ],
          [
           -23.787982320936216,
           -19.378009953482785,
           -22.765947288322632,
           -23.856744237440275,
           -22.09485900793763,
           -19.707411242669927,
           -21.72190476318443,
           -22.773224887827077,
           -22.720646378310672,
           -20.292267387449076,
           -21.42270213447149,
           -22.734573383876665,
           -23.68512000100392,
           -20.439420159506266,
           -20.698614860129407,
           -24.381388586544567,
           -23.722592355001584,
           -20.094177625358068,
           -22.318923394846852,
           -25.59108759549184,
           -24.777469140498937,
           -22.258395570007963,
           -23.11347666860813,
           -25.078531759984664,
           -24.87152831952441,
           -24.854965931160354,
           -24.423073731803,
           -24.250059272027965,
           -24.655087114778162,
           -25.164810280700163,
           -23.41535538411364,
           -23.920948611567518
          ],
          [
           -24.023375,
           -18.591,
           -22.435,
           -23.29675,
           -21.99025,
           -19.086625,
           -21.632625,
           -22.431375,
           -22.789,
           -20.41975,
           -21.38575,
           -22.723875,
           -23.3945,
           -20.272125,
           -20.58575,
           -24.889,
           -23.591375,
           -18.184,
           -22.023375,
           -26.257125,
           -25.144375,
           -22.33775,
           -23.44625,
           -25.42575,
           -25.539125,
           -25.070375,
           -24.53425,
           -24.387125,
           -24.95825,
           -26.067625,
           -24.047625,
           -24.071125
          ],
          [
           -24.29858457078068,
           -16.85792192039621,
           -20.97186001952758,
           -20.88329168940015,
           -22.29574437182474,
           -18.752871004585888,
           -20.66588584284503,
           -19.39596823395447,
           -21.22511397587889,
           -19.833300825515956,
           -21.290475952673614,
           -21.490042154778205,
           -21.673551730544485,
           -18.721181337758104,
           -20.89677269363103,
           -26.29295675694742,
           -22.895517608587323,
           -17.080564198290674,
           -21.466317535487605,
           -28.52877707691636,
           -26.19716031972281,
           -21.06520209169425,
           -23.40125753756656,
           -26.655238576172145,
           -27.371026758868755,
           -25.23024258155081,
           -24.88220745318689,
           -24.841035449028315,
           -26.82859080070326,
           -27.52616777126632,
           -25.49586102566705,
           -24.55269756464861
          ],
          [
           -24.349869330568882,
           -16.993913325531103,
           -20.550526805531153,
           -19.012211343188927,
           -22.663836454687505,
           -19.945929060492023,
           -20.48965009180881,
           -18.537951516912152,
           -21.287890777406023,
           -21.185451930944563,
           -21.704545765758205,
           -21.02763406871063,
           -21.042779243500014,
           -19.13705640423631,
           -21.32263760876873,
           -26.504786779546603,
           -22.565729162799357,
           -17.18781846777873,
           -21.886418766066324,
           -29.06853049227807,
           -26.265734488524863,
           -20.718183655931014,
           -23.1953027567712,
           -26.632082116828183,
           -28.007737172586467,
           -25.55436957055401,
           -24.981648108897915,
           -24.98925055230031,
           -27.068548828547677,
           -27.749281171320515,
           -26.088932882517877,
           -24.7812009245658
          ],
          [
           -24.006375,
           -18.63225,
           -20.7195,
           -18.0365,
           -23.352625,
           -22.287875,
           -21.030375,
           -18.58925,
           -21.801875,
           -23.2295,
           -23.14125,
           -21.399375,
           -20.4145,
           -20.30775,
           -22.51275,
           -26.12025,
           -21.834875,
           -18.693375,
           -22.297875,
           -28.2195,
           -26.18175,
           -21.858125,
           -23.544125,
           -26.161875,
           -28.235375,
           -25.723875,
           -25.031,
           -24.696375,
           -26.82025,
           -27.212,
           -26.75125,
           -24.62775
          ],
          [
           -23.738168253928116,
           -19.90294629242364,
           -20.454336646006567,
           -16.792794959372163,
           -24.279962420634607,
           -24.093580857380807,
           -21.834743601187867,
           -17.97328995279757,
           -22.319713121171915,
           -24.739775296158943,
           -24.164042010221927,
           -21.303488785544484,
           -20.222549519391826,
           -21.59921635134214,
           -23.458931822303278,
           -25.649606545446346,
           -21.46765018914002,
           -19.601608217746417,
           -22.607735896838843,
           -27.65620274092681,
           -25.789225842229587,
           -22.25447743590562,
           -23.538114700586696,
           -25.391954797971692,
           -28.326308780963192,
           -26.02533215674048,
           -25.02585882898513,
           -24.57906945471731,
           -26.90587213831187,
           -26.89843433218975,
           -26.88633211535817,
           -24.64754690979661
          ],
          [
           -23.886159321491373,
           -21.65476062047816,
           -20.748310777074753,
           -16.040476158267435,
           -24.47265177606296,
           -26.360334441550464,
           -22.413301574397313,
           -18.134987309909945,
           -22.7949699060976,
           -26.53023131014215,
           -24.755719657140705,
           -21.509282402109772,
           -20.044536944873496,
           -23.110139471063167,
           -24.3924791337709,
           -24.926375399159305,
           -21.017765171063086,
           -21.192739768797093,
           -23.3210529925377,
           -26.437800350723798,
           -25.30534827494518,
           -22.94649799643523,
           -23.508099002917948,
           -24.677551898504653,
           -27.73441377814013,
           -25.656013091039004,
           -25.063631032338765,
           -24.193452323709433,
           -26.154934610314847,
           -26.270491901029697,
           -27.15840468747855,
           -24.471602293355602
          ],
          [
           -23.773875,
           -23.5035,
           -21.339625,
           -17.050625,
           -24.79625,
           -27.771125,
           -23.60725,
           -19.275125,
           -23.37275,
           -27.520875,
           -25.62825,
           -22.083875,
           -20.637375,
           -24.409875,
           -25.278875,
           -24.030875,
           -21.172,
           -22.693375,
           -23.95,
           -25.054125,
           -24.239125,
           -23.758375,
           -24.068375,
           -23.63575,
           -26.9695,
           -25.5995,
           -24.357125,
           -24.2665,
           -25.632625,
           -25.200375,
           -26.545375,
           -24.318875
          ],
          [
           -23.598555973138627,
           -25.033768141934836,
           -21.753633510664233,
           -16.709398633709807,
           -25.191480841173604,
           -28.914829415688274,
           -23.95591558333901,
           -19.80775242505562,
           -24.062863576421112,
           -28.651151332225226,
           -26.055786570703123,
           -22.492966549015925,
           -20.76981036369086,
           -25.913440564201434,
           -26.010777169011956,
           -23.72975637800067,
           -20.761573488993896,
           -23.926689310795993,
           -24.495230383835512,
           -23.626398287600924,
           -23.743001730080568,
           -24.275249562147362,
           -23.537962158548766,
           -22.820937286042373,
           -26.26486968564242,
           -24.944315899562056,
           -24.59547838390004,
           -23.6085472498601,
           -25.00269571803489,
           -24.59730482868625,
           -26.256649884694568,
           -24.150041442393828
          ],
          [
           -23.60048239666179,
           -26.11311097147718,
           -22.245377504717002,
           -17.912250261779818,
           -25.541043113018038,
           -29.150678025489956,
           -24.33452975311777,
           -21.063121350046682,
           -24.5595562794141,
           -28.526762257171306,
           -26.271766047387803,
           -23.148916922496646,
           -21.62304288098369,
           -26.47657837833674,
           -25.98021507975968,
           -23.248845160529243,
           -21.319352028454844,
           -25.035204291395523,
           -24.66283769876963,
           -22.752870622650196,
           -23.118089488185397,
           -24.65311560487577,
           -23.484655379523065,
           -22.47370504897391,
           -25.58532202175096,
           -24.682695630720744,
           -24.00141245782847,
           -22.92118517203948,
           -24.4800012420357,
           -23.81063004598846,
           -25.75723302034558,
           -23.73502132780862
          ],
          [
           -23.792625,
           -26.11725,
           -22.794375,
           -19.987875,
           -25.415375,
           -28.1135,
           -24.429,
           -22.463625,
           -24.43675,
           -27.739375,
           -25.6805,
           -23.52575,
           -22.319125,
           -26.1095,
           -25.550375,
           -23.06525,
           -21.81575,
           -25.359625,
           -24.642875,
           -22.528625,
           -22.741,
           -24.77825,
           -23.786875,
           -22.75075,
           -24.914375,
           -24.348625,
           -23.871125,
           -23.046625,
           -24.041875,
           -23.576875,
           -25.029125,
           -23.861625
          ],
          [
           -24.17340174178007,
           -27.196511268320993,
           -23.754104005406198,
           -21.922212211221463,
           -25.49706876212971,
           -27.54248565471728,
           -24.710149210452716,
           -23.874108255503955,
           -25.51618830852129,
           -26.977859706500364,
           -25.48472264474706,
           -23.913776306957885,
           -23.93054878068748,
           -26.42588905552953,
           -25.548950434542004,
           -23.853988055280926,
           -23.89643667627886,
           -25.99315316579059,
           -24.87144837269017,
           -23.389457658706192,
           -24.46852318828478,
           -25.793334118189968,
           -24.59819841622594,
           -23.62481237514772,
           -24.559635547604643,
           -24.092299629390357,
           -23.469687758111593,
           -23.781781289057108,
           -24.728832385070568,
           -24.378853068795845,
           -24.615591281579984,
           -24.424101752824242
          ],
          [
           -24.257125,
           -25.833875,
           -24.402875,
           -23.61175,
           -24.574375,
           -25.3085,
           -24.51325,
           -24.399375,
           -25.166125,
           -25.4435,
           -24.84575,
           -24.40925,
           -24.173,
           -25.254125,
           -24.963375,
           -24.507,
           -24.571375,
           -25.172375,
           -24.544,
           -23.785875,
           -24.556625,
           -25.284375,
           -24.749625,
           -24.27675,
           -24.4585,
           -24.066875,
           -23.66075,
           -24.046625,
           -24.775875,
           -24.432625,
           -24.2765,
           -24.35625
          ],
          [
           -24.202935581026097,
           -23.77091116595237,
           -23.99468292977158,
           -24.46504042047974,
           -23.689163926483882,
           -23.075283411491537,
           -24.530913560941766,
           -24.720536996903057,
           -24.559370042194782,
           -23.64811653835294,
           -23.92214104701933,
           -24.544943255389718,
           -24.37996195294864,
           -23.6272065512921,
           -24.297912142552978,
           -24.973857123672012,
           -24.80260146756722,
           -23.833623585424878,
           -24.61752061926986,
           -25.15061610273623,
           -24.590828636079845,
           -24.32040984739915,
           -24.59694577855901,
           -24.606297321720604,
           -24.201712916715028,
           -24.138760397745923,
           -24.182334641634235,
           -24.60615473695973,
           -24.771375428050888,
           -24.82512097640644,
           -24.28274389007226,
           -24.481805380895377
          ],
          [
           -24.128375,
           -22.162125,
           -23.92825,
           -24.936,
           -23.058625,
           -21.415625,
           -23.433875,
           -24.453375,
           -23.867625,
           -21.91625,
           -23.397625,
           -24.4125,
           -24.101375,
           -22.459,
           -23.90225,
           -25.6535,
           -24.95925,
           -22.38925,
           -23.9585,
           -25.889125,
           -24.937625,
           -23.718,
           -24.73425,
           -25.465125,
           -24.554625,
           -24.029125,
           -24.619625,
           -24.987375,
           -25.076125,
           -25.36025,
           -24.188375,
           -24.24625
          ],
          [
           -23.898811494668063,
           -19.907681742079358,
           -23.4163812137232,
           -24.929775243840652,
           -21.96895274603994,
           -19.345411616965063,
           -22.665850828917605,
           -23.684883903079466,
           -22.959533378276465,
           -20.87388083000472,
           -22.793155219940324,
           -23.784308706313507,
           -23.54343760812944,
           -20.81261847304574,
           -22.69749929610517,
           -26.18110134097367,
           -24.895505122363932,
           -20.36253445024256,
           -23.459237089929445,
           -27.170077191914483,
           -25.116125828650556,
           -22.484708852455118,
           -24.96814270818979,
           -26.590824245411937,
           -24.900111297400493,
           -24.35785398898471,
           -24.752513692437624,
           -25.4946897345193,
           -25.516306539202017,
           -26.064181250277205,
           -24.6084974956182,
           -24.477964768185966
          ],
          [
           -23.79725,
           -18.674625,
           -22.693125,
           -23.993125,
           -21.7605,
           -18.788,
           -22.274125,
           -22.652125,
           -22.2395,
           -20.339375,
           -22.39575,
           -23.479125,
           -22.89925,
           -20.253,
           -22.178625,
           -26.508,
           -24.60075,
           -19.400125,
           -22.792,
           -27.884375,
           -25.663625,
           -22.01125,
           -24.58325,
           -26.62475,
           -25.483375,
           -24.661875,
           -25.107625,
           -25.618875,
           -25.705,
           -26.561125,
           -25.052,
           -24.513625
          ],
          [
           -23.45207247859498,
           -16.88030246438356,
           -21.97633044502864,
           -23.130609610247042,
           -21.468009960529603,
           -18.319491077054906,
           -21.113633828843177,
           -21.166266515196554,
           -21.51102584491315,
           -19.72136047998301,
           -21.96776858239598,
           -22.649417641387036,
           -21.93226194676333,
           -19.372392129503986,
           -21.554584949780963,
           -26.836610499307127,
           -24.070278590879628,
           -17.67996787306036,
           -22.101309541525385,
           -28.753241708849963,
           -25.793320055433394,
           -21.118486209386685,
           -24.242154903881477,
           -26.943539151952336,
           -26.162905100504904,
           -24.953565820360755,
           -25.57366881284562,
           -25.894817266562544,
           -26.1265600453132,
           -27.147887196921204,
           -25.682541140078584,
           -24.463949220831775
          ],
          [
           -23.349,
           -17.715125,
           -21.726,
           -21.611375,
           -21.89225,
           -19.101125,
           -20.804625,
           -20.417625,
           -21.73125,
           -20.65975,
           -21.8505,
           -22.362375,
           -21.52,
           -19.958375,
           -21.594125,
           -26.5955,
           -23.921125,
           -17.972625,
           -22.26375,
           -28.26675,
           -25.884625,
           -21.504625,
           -23.759875,
           -26.837875,
           -26.748875,
           -25.004375,
           -25.359125,
           -25.62025,
           -26.35975,
           -26.989375,
           -26.1405,
           -24.36925
          ],
          [
           -23.416105859525107,
           -17.37939159769897,
           -20.785750522301186,
           -19.99803576338907,
           -22.065295346960298,
           -19.953752769380483,
           -20.18169835848241,
           -19.243613073862004,
           -21.399049775139062,
           -21.737693393067637,
           -22.38519580052144,
           -21.457002465792876,
           -20.76114413759572,
           -20.552004709203544,
           -21.77288112385814,
           -26.43748248886738,
           -23.55415298005807,
           -17.478076058323236,
           -21.75483105356434,
           -28.584841562244133,
           -25.765549757517707,
           -21.23642003581166,
           -23.502794150420186,
           -26.674693780393895,
           -27.49127857348165,
           -25.581489972201165,
           -25.45042396966336,
           -25.536686989202586,
           -26.498505557422323,
           -27.404539161752318,
           -26.567386140147967,
           -24.48790134670863
          ],
          [
           -23.499836162506288,
           -18.81254174780372,
           -20.597918692946653,
           -18.381805184260816,
           -22.85497425710407,
           -21.721304654118278,
           -20.33704448759168,
           -18.65564445101271,
           -21.590921285540205,
           -23.50725648783636,
           -22.597546702171375,
           -21.083255874449545,
           -20.902904951354966,
           -21.35174298854094,
           -21.707824536889923,
           -26.082857312704306,
           -23.035943362018795,
           -18.46119770458874,
           -21.781584999907544,
           -27.82502556902991,
           -25.750097863544365,
           -21.82222469860699,
           -23.033848482031058,
           -26.124674386538874,
           -27.743165250923308,
           -25.603166033417995,
           -25.536566308723486,
           -25.008956281508393,
           -26.666852638541055,
           -26.9003485864037,
           -27.016480934853504,
           -24.248137793048436
          ],
          [
           -23.597,
           -21.3165,
           -21.0005,
           -17.85,
           -23.882125,
           -24.248125,
           -21.310875,
           -19.108,
           -22.571625,
           -25.002875,
           -23.376625,
           -21.36525,
           -20.978,
           -23.307875,
           -22.70525,
           -25.5395,
           -22.6075,
           -20.312625,
           -22.181375,
           -26.696625,
           -25.39425,
           -22.887,
           -22.7345,
           -25.2255,
           -27.83075,
           -25.499875,
           -24.643125,
           -24.746125,
           -26.1815,
           -26.201,
           -26.755,
           -24.382125
          ],
          [
           -23.807643022075993,
           -23.134239326634447,
           -20.998811180623928,
           -16.543477107903318,
           -24.60678571491613,
           -26.171267239840223,
           -21.826485303261737,
           -19.49121938399609,
           -23.489158429416506,
           -26.587495697467528,
           -24.123490194437768,
           -21.585728441642555,
           -20.878076093507865,
           -24.62351367201296,
           -23.762859103767635,
           -25.047050411003575,
           -22.15455283554199,
           -21.295536152498993,
           -22.959183587661297,
           -25.615108698681357,
           -25.22057126098365,
           -23.88098109239236,
           -22.89710474924254,
           -24.433903962095247,
           -27.636437231154574,
           -25.51211890901008,
           -24.487225853774245,
           -24.538371400856818,
           -25.962048389130803,
           -25.94824633005168,
           -26.883955988454183,
           -24.465928231976598
          ],
          [
           -24.126063810301527,
           -24.93993028718171,
           -21.549063749974962,
           -16.7498778780813,
           -25.133336328023557,
           -27.78817899975618,
           -22.371266000706164,
           -20.139986600617643,
           -24.370859301988833,
           -27.824029690410917,
           -24.969790609461075,
           -21.796161444104172,
           -21.43047278709038,
           -25.976309757445236,
           -24.577877542926448,
           -24.408573234059798,
           -22.07279969077115,
           -23.1319425089631,
           -23.287060842241186,
           -24.401352864927027,
           -24.91113823351088,
           -24.816851674678485,
           -23.007147661973956,
           -23.664591709538946,
           -27.62797860863874,
           -25.420212018664174,
           -24.370191949519107,
           -24.132510603066144,
           -25.63351722739075,
           -25.11977590264573,
           -26.47036769369189,
           -24.23280639218404
          ],
          [
           -24.1145,
           -26.53775,
           -22.22325,
           -18.103875,
           -25.7005,
           -28.66175,
           -23.648875,
           -21.662625,
           -25.452,
           -28.00775,
           -25.09175,
           -22.362125,
           -22.7,
           -26.494125,
           -24.948125,
           -23.852875,
           -22.583875,
           -24.396125,
           -23.89175,
           -23.909625,
           -24.543375,
           -25.46825,
           -23.41675,
           -23.371625,
           -26.527,
           -25.10025,
           -24.003,
           -23.854,
           -25.25725,
           -24.512125,
           -25.923375,
           -24.273625
          ],
          [
           -23.844179081650896,
           -27.214525887002637,
           -22.923962387130764,
           -18.785949536548287,
           -25.425981767034376,
           -28.809635598610548,
           -24.47945984345944,
           -22.34286660163493,
           -25.45561387412847,
           -28.29853572275289,
           -25.520711650672876,
           -23.130398598634454,
           -22.608398869013453,
           -27.051907468735465,
           -25.765248619699914,
           -23.56477334430777,
           -22.91555215020259,
           -25.827781653170444,
           -24.342059360685813,
           -22.843750901478842,
           -24.23882861542026,
           -25.882652679584634,
           -23.69291920855604,
           -23.004131396906008,
           -25.74722633383536,
           -24.729583552931523,
           -23.878991136493426,
           -23.12996551020314,
           -24.749064000041077,
           -24.512271774024114,
           -25.76284462982754,
           -23.70247142563961
          ],
          [
           -24.205,
           -27.23275,
           -23.75725,
           -20.650875,
           -25.0915,
           -27.6575,
           -24.741375,
           -23.651625,
           -25.530625,
           -27.26,
           -25.205625,
           -23.031125,
           -23.325625,
           -26.67275,
           -25.473875,
           -23.493125,
           -23.691875,
           -25.797,
           -24.242125,
           -22.76675,
           -24.41925,
           -25.962625,
           -24.36225,
           -23.381375,
           -25.180125,
           -24.06,
           -23.546375,
           -23.4985,
           -24.671,
           -24.324375,
           -25.277625,
           -24.038375
          ],
          [
           -24.304150368687022,
           -26.851565537853677,
           -23.951213627273045,
           -22.0924859229779,
           -24.912150600917624,
           -26.361940415518553,
           -24.69007263245538,
           -24.154953351212427,
           -25.404430798285485,
           -26.42253838662326,
           -24.6899977751249,
           -23.89208977341824,
           -24.1386709758222,
           -26.07920263064017,
           -25.375552228822862,
           -23.680557307020763,
           -23.967713941061813,
           -25.516754983780725,
           -24.319428114917017,
           -22.83640654183557,
           -24.668451931007887,
           -25.94837297159426,
           -24.360164473854493,
           -23.537418329028757,
           -24.396615267545855,
           -24.031985244817008,
           -23.5550439935286,
           -23.743404170124002,
           -24.388512166248695,
           -24.403534810471967,
           -24.858343021649794,
           -23.934482748796135
          ],
          [
           -24.39423625984839,
           -25.488096602393018,
           -24.26806606489954,
           -23.757301979126407,
           -24.329183952073887,
           -24.491701467320905,
           -24.346067456967454,
           -24.58033212180293,
           -25.18172802597326,
           -24.917174794495327,
           -24.289431885776278,
           -23.636592173849124,
           -24.125583838417533,
           -24.95933820197247,
           -24.826096594984513,
           -24.223646311496054,
           -24.484306362008063,
           -24.81472968155072,
           -24.23944236997861,
           -23.553898682419042,
           -24.572273563109615,
           -25.019582451911077,
           -24.807111373349535,
           -24.245178857593963,
           -24.262908073363377,
           -23.934900383123797,
           -23.71218031577983,
           -23.953240331565976,
           -24.50865580130322,
           -24.798346890971658,
           -24.373627272149744,
           -23.683975459491975
          ]
         ]
        },
        {
         "hovertemplate": "x: %{x}<br>y: %{y}<br> z: %{text:.2f}<extra></extra>",
         "marker": {
          "color": "red",
          "line": {
           "width": 1
          },
          "size": 16,
          "symbol": [
           204
          ]
         },
         "mode": "markers",
         "text": [
          "-29.150678025489956"
         ],
         "type": "scatter",
         "x": [
          0.5
         ],
         "y": [
          1.2000000000000002
         ]
        }
       ],
       "layout": {
        "height": 700,
        "template": {
         "data": {
          "bar": [
           {
            "error_x": {
             "color": "#2a3f5f"
            },
            "error_y": {
             "color": "#2a3f5f"
            },
            "marker": {
             "line": {
              "color": "#E5ECF6",
              "width": 0.5
             },
             "pattern": {
              "fillmode": "overlay",
              "size": 10,
              "solidity": 0.2
             }
            },
            "type": "bar"
           }
          ],
          "barpolar": [
           {
            "marker": {
             "line": {
              "color": "#E5ECF6",
              "width": 0.5
             },
             "pattern": {
              "fillmode": "overlay",
              "size": 10,
              "solidity": 0.2
             }
            },
            "type": "barpolar"
           }
          ],
          "carpet": [
           {
            "aaxis": {
             "endlinecolor": "#2a3f5f",
             "gridcolor": "white",
             "linecolor": "white",
             "minorgridcolor": "white",
             "startlinecolor": "#2a3f5f"
            },
            "baxis": {
             "endlinecolor": "#2a3f5f",
             "gridcolor": "white",
             "linecolor": "white",
             "minorgridcolor": "white",
             "startlinecolor": "#2a3f5f"
            },
            "type": "carpet"
           }
          ],
          "choropleth": [
           {
            "colorbar": {
             "outlinewidth": 0,
             "ticks": ""
            },
            "type": "choropleth"
           }
          ],
          "contour": [
           {
            "colorbar": {
             "outlinewidth": 0,
             "ticks": ""
            },
            "colorscale": [
             [
              0,
              "#0d0887"
             ],
             [
              0.1111111111111111,
              "#46039f"
             ],
             [
              0.2222222222222222,
              "#7201a8"
             ],
             [
              0.3333333333333333,
              "#9c179e"
             ],
             [
              0.4444444444444444,
              "#bd3786"
             ],
             [
              0.5555555555555556,
              "#d8576b"
             ],
             [
              0.6666666666666666,
              "#ed7953"
             ],
             [
              0.7777777777777778,
              "#fb9f3a"
             ],
             [
              0.8888888888888888,
              "#fdca26"
             ],
             [
              1,
              "#f0f921"
             ]
            ],
            "type": "contour"
           }
          ],
          "contourcarpet": [
           {
            "colorbar": {
             "outlinewidth": 0,
             "ticks": ""
            },
            "type": "contourcarpet"
           }
          ],
          "heatmap": [
           {
            "colorbar": {
             "outlinewidth": 0,
             "ticks": ""
            },
            "colorscale": [
             [
              0,
              "#0d0887"
             ],
             [
              0.1111111111111111,
              "#46039f"
             ],
             [
              0.2222222222222222,
              "#7201a8"
             ],
             [
              0.3333333333333333,
              "#9c179e"
             ],
             [
              0.4444444444444444,
              "#bd3786"
             ],
             [
              0.5555555555555556,
              "#d8576b"
             ],
             [
              0.6666666666666666,
              "#ed7953"
             ],
             [
              0.7777777777777778,
              "#fb9f3a"
             ],
             [
              0.8888888888888888,
              "#fdca26"
             ],
             [
              1,
              "#f0f921"
             ]
            ],
            "type": "heatmap"
           }
          ],
          "heatmapgl": [
           {
            "colorbar": {
             "outlinewidth": 0,
             "ticks": ""
            },
            "colorscale": [
             [
              0,
              "#0d0887"
             ],
             [
              0.1111111111111111,
              "#46039f"
             ],
             [
              0.2222222222222222,
              "#7201a8"
             ],
             [
              0.3333333333333333,
              "#9c179e"
             ],
             [
              0.4444444444444444,
              "#bd3786"
             ],
             [
              0.5555555555555556,
              "#d8576b"
             ],
             [
              0.6666666666666666,
              "#ed7953"
             ],
             [
              0.7777777777777778,
              "#fb9f3a"
             ],
             [
              0.8888888888888888,
              "#fdca26"
             ],
             [
              1,
              "#f0f921"
             ]
            ],
            "type": "heatmapgl"
           }
          ],
          "histogram": [
           {
            "marker": {
             "pattern": {
              "fillmode": "overlay",
              "size": 10,
              "solidity": 0.2
             }
            },
            "type": "histogram"
           }
          ],
          "histogram2d": [
           {
            "colorbar": {
             "outlinewidth": 0,
             "ticks": ""
            },
            "colorscale": [
             [
              0,
              "#0d0887"
             ],
             [
              0.1111111111111111,
              "#46039f"
             ],
             [
              0.2222222222222222,
              "#7201a8"
             ],
             [
              0.3333333333333333,
              "#9c179e"
             ],
             [
              0.4444444444444444,
              "#bd3786"
             ],
             [
              0.5555555555555556,
              "#d8576b"
             ],
             [
              0.6666666666666666,
              "#ed7953"
             ],
             [
              0.7777777777777778,
              "#fb9f3a"
             ],
             [
              0.8888888888888888,
              "#fdca26"
             ],
             [
              1,
              "#f0f921"
             ]
            ],
            "type": "histogram2d"
           }
          ],
          "histogram2dcontour": [
           {
            "colorbar": {
             "outlinewidth": 0,
             "ticks": ""
            },
            "colorscale": [
             [
              0,
              "#0d0887"
             ],
             [
              0.1111111111111111,
              "#46039f"
             ],
             [
              0.2222222222222222,
              "#7201a8"
             ],
             [
              0.3333333333333333,
              "#9c179e"
             ],
             [
              0.4444444444444444,
              "#bd3786"
             ],
             [
              0.5555555555555556,
              "#d8576b"
             ],
             [
              0.6666666666666666,
              "#ed7953"
             ],
             [
              0.7777777777777778,
              "#fb9f3a"
             ],
             [
              0.8888888888888888,
              "#fdca26"
             ],
             [
              1,
              "#f0f921"
             ]
            ],
            "type": "histogram2dcontour"
           }
          ],
          "mesh3d": [
           {
            "colorbar": {
             "outlinewidth": 0,
             "ticks": ""
            },
            "type": "mesh3d"
           }
          ],
          "parcoords": [
           {
            "line": {
             "colorbar": {
              "outlinewidth": 0,
              "ticks": ""
             }
            },
            "type": "parcoords"
           }
          ],
          "pie": [
           {
            "automargin": true,
            "type": "pie"
           }
          ],
          "scatter": [
           {
            "marker": {
             "colorbar": {
              "outlinewidth": 0,
              "ticks": ""
             }
            },
            "type": "scatter"
           }
          ],
          "scatter3d": [
           {
            "line": {
             "colorbar": {
              "outlinewidth": 0,
              "ticks": ""
             }
            },
            "marker": {
             "colorbar": {
              "outlinewidth": 0,
              "ticks": ""
             }
            },
            "type": "scatter3d"
           }
          ],
          "scattercarpet": [
           {
            "marker": {
             "colorbar": {
              "outlinewidth": 0,
              "ticks": ""
             }
            },
            "type": "scattercarpet"
           }
          ],
          "scattergeo": [
           {
            "marker": {
             "colorbar": {
              "outlinewidth": 0,
              "ticks": ""
             }
            },
            "type": "scattergeo"
           }
          ],
          "scattergl": [
           {
            "marker": {
             "colorbar": {
              "outlinewidth": 0,
              "ticks": ""
             }
            },
            "type": "scattergl"
           }
          ],
          "scattermapbox": [
           {
            "marker": {
             "colorbar": {
              "outlinewidth": 0,
              "ticks": ""
             }
            },
            "type": "scattermapbox"
           }
          ],
          "scatterpolar": [
           {
            "marker": {
             "colorbar": {
              "outlinewidth": 0,
              "ticks": ""
             }
            },
            "type": "scatterpolar"
           }
          ],
          "scatterpolargl": [
           {
            "marker": {
             "colorbar": {
              "outlinewidth": 0,
              "ticks": ""
             }
            },
            "type": "scatterpolargl"
           }
          ],
          "scatterternary": [
           {
            "marker": {
             "colorbar": {
              "outlinewidth": 0,
              "ticks": ""
             }
            },
            "type": "scatterternary"
           }
          ],
          "surface": [
           {
            "colorbar": {
             "outlinewidth": 0,
             "ticks": ""
            },
            "colorscale": [
             [
              0,
              "#0d0887"
             ],
             [
              0.1111111111111111,
              "#46039f"
             ],
             [
              0.2222222222222222,
              "#7201a8"
             ],
             [
              0.3333333333333333,
              "#9c179e"
             ],
             [
              0.4444444444444444,
              "#bd3786"
             ],
             [
              0.5555555555555556,
              "#d8576b"
             ],
             [
              0.6666666666666666,
              "#ed7953"
             ],
             [
              0.7777777777777778,
              "#fb9f3a"
             ],
             [
              0.8888888888888888,
              "#fdca26"
             ],
             [
              1,
              "#f0f921"
             ]
            ],
            "type": "surface"
           }
          ],
          "table": [
           {
            "cells": {
             "fill": {
              "color": "#EBF0F8"
             },
             "line": {
              "color": "white"
             }
            },
            "header": {
             "fill": {
              "color": "#C8D4E3"
             },
             "line": {
              "color": "white"
             }
            },
            "type": "table"
           }
          ]
         },
         "layout": {
          "annotationdefaults": {
           "arrowcolor": "#2a3f5f",
           "arrowhead": 0,
           "arrowwidth": 1
          },
          "autotypenumbers": "strict",
          "coloraxis": {
           "colorbar": {
            "outlinewidth": 0,
            "ticks": ""
           }
          },
          "colorscale": {
           "diverging": [
            [
             0,
             "#8e0152"
            ],
            [
             0.1,
             "#c51b7d"
            ],
            [
             0.2,
             "#de77ae"
            ],
            [
             0.3,
             "#f1b6da"
            ],
            [
             0.4,
             "#fde0ef"
            ],
            [
             0.5,
             "#f7f7f7"
            ],
            [
             0.6,
             "#e6f5d0"
            ],
            [
             0.7,
             "#b8e186"
            ],
            [
             0.8,
             "#7fbc41"
            ],
            [
             0.9,
             "#4d9221"
            ],
            [
             1,
             "#276419"
            ]
           ],
           "sequential": [
            [
             0,
             "#0d0887"
            ],
            [
             0.1111111111111111,
             "#46039f"
            ],
            [
             0.2222222222222222,
             "#7201a8"
            ],
            [
             0.3333333333333333,
             "#9c179e"
            ],
            [
             0.4444444444444444,
             "#bd3786"
            ],
            [
             0.5555555555555556,
             "#d8576b"
            ],
            [
             0.6666666666666666,
             "#ed7953"
            ],
            [
             0.7777777777777778,
             "#fb9f3a"
            ],
            [
             0.8888888888888888,
             "#fdca26"
            ],
            [
             1,
             "#f0f921"
            ]
           ],
           "sequentialminus": [
            [
             0,
             "#0d0887"
            ],
            [
             0.1111111111111111,
             "#46039f"
            ],
            [
             0.2222222222222222,
             "#7201a8"
            ],
            [
             0.3333333333333333,
             "#9c179e"
            ],
            [
             0.4444444444444444,
             "#bd3786"
            ],
            [
             0.5555555555555556,
             "#d8576b"
            ],
            [
             0.6666666666666666,
             "#ed7953"
            ],
            [
             0.7777777777777778,
             "#fb9f3a"
            ],
            [
             0.8888888888888888,
             "#fdca26"
            ],
            [
             1,
             "#f0f921"
            ]
           ]
          },
          "colorway": [
           "#636efa",
           "#EF553B",
           "#00cc96",
           "#ab63fa",
           "#FFA15A",
           "#19d3f3",
           "#FF6692",
           "#B6E880",
           "#FF97FF",
           "#FECB52"
          ],
          "font": {
           "color": "#2a3f5f"
          },
          "geo": {
           "bgcolor": "white",
           "lakecolor": "white",
           "landcolor": "#E5ECF6",
           "showlakes": true,
           "showland": true,
           "subunitcolor": "white"
          },
          "hoverlabel": {
           "align": "left"
          },
          "hovermode": "closest",
          "mapbox": {
           "style": "light"
          },
          "paper_bgcolor": "white",
          "plot_bgcolor": "#E5ECF6",
          "polar": {
           "angularaxis": {
            "gridcolor": "white",
            "linecolor": "white",
            "ticks": ""
           },
           "bgcolor": "#E5ECF6",
           "radialaxis": {
            "gridcolor": "white",
            "linecolor": "white",
            "ticks": ""
           }
          },
          "scene": {
           "xaxis": {
            "backgroundcolor": "#E5ECF6",
            "gridcolor": "white",
            "gridwidth": 2,
            "linecolor": "white",
            "showbackground": true,
            "ticks": "",
            "zerolinecolor": "white"
           },
           "yaxis": {
            "backgroundcolor": "#E5ECF6",
            "gridcolor": "white",
            "gridwidth": 2,
            "linecolor": "white",
            "showbackground": true,
            "ticks": "",
            "zerolinecolor": "white"
           },
           "zaxis": {
            "backgroundcolor": "#E5ECF6",
            "gridcolor": "white",
            "gridwidth": 2,
            "linecolor": "white",
            "showbackground": true,
            "ticks": "",
            "zerolinecolor": "white"
           }
          },
          "shapedefaults": {
           "line": {
            "color": "#2a3f5f"
           }
          },
          "ternary": {
           "aaxis": {
            "gridcolor": "white",
            "linecolor": "white",
            "ticks": ""
           },
           "baxis": {
            "gridcolor": "white",
            "linecolor": "white",
            "ticks": ""
           },
           "bgcolor": "#E5ECF6",
           "caxis": {
            "gridcolor": "white",
            "linecolor": "white",
            "ticks": ""
           }
          },
          "title": {
           "x": 0.05
          },
          "xaxis": {
           "automargin": true,
           "gridcolor": "white",
           "linecolor": "white",
           "ticks": "",
           "title": {
            "standoff": 15
           },
           "zerolinecolor": "white",
           "zerolinewidth": 2
          },
          "yaxis": {
           "automargin": true,
           "gridcolor": "white",
           "linecolor": "white",
           "ticks": "",
           "title": {
            "standoff": 15
           },
           "zerolinecolor": "white",
           "zerolinewidth": 2
          }
         }
        },
        "title": {
         "text": "F(γ,β)"
        },
        "width": 700,
        "xaxis": {
         "title": {
          "text": "γ"
         }
        },
        "yaxis": {
         "title": {
          "text": "β"
         }
        }
       }
      },
      "text/html": [
       "<div>                            <div id=\"7b27dc8a-8356-48a1-98bd-fb9ba70c8358\" class=\"plotly-graph-div\" style=\"height:700px; width:700px;\"></div>            <script type=\"text/javascript\">                require([\"plotly\"], function(Plotly) {                    window.PLOTLYENV=window.PLOTLYENV || {};                                    if (document.getElementById(\"7b27dc8a-8356-48a1-98bd-fb9ba70c8358\")) {                    Plotly.newPlot(                        \"7b27dc8a-8356-48a1-98bd-fb9ba70c8358\",                        [{\"colorscale\":[[0.0,\"#440154\"],[0.1111111111111111,\"#482878\"],[0.2222222222222222,\"#3e4989\"],[0.3333333333333333,\"#31688e\"],[0.4444444444444444,\"#26828e\"],[0.5555555555555556,\"#1f9e89\"],[0.6666666666666666,\"#35b779\"],[0.7777777777777778,\"#6ece58\"],[0.8888888888888888,\"#b5de2b\"],[1.0,\"#fde725\"]],\"type\":\"heatmap\",\"x\":[0.0,0.1,0.2,0.30000000000000004,0.4,0.5,0.6000000000000001,0.7000000000000001,0.8,0.9,1.0,1.1,1.2000000000000002,1.3,1.4000000000000001,1.5,1.6,1.7000000000000002,1.8,1.9000000000000001,2.0,2.1,2.2,2.3000000000000003,2.4000000000000004,2.5,2.6,2.7,2.8000000000000003,2.9000000000000004,3.0,3.1],\"y\":[0.0,0.1,0.2,0.30000000000000004,0.4,0.5,0.6000000000000001,0.7000000000000001,0.8,0.9,1.0,1.1,1.2000000000000002,1.3,1.4000000000000001,1.5,1.6,1.7000000000000002,1.8,1.9000000000000001,2.0,2.1,2.2,2.3000000000000003,2.4000000000000004,2.5,2.6,2.7,2.8000000000000003,2.9000000000000004,3.0,3.1],\"z\":[[-24.0475,-23.542375,-23.345,-23.40475,-23.67625,-24.024875,-23.4815,-23.534,-23.255375,-23.460375,-23.573,-23.6565,-23.2325,-23.86375,-23.54725,-23.2225,-23.096375,-23.29025,-23.738625,-23.473125,-23.520125,-23.965875,-23.279625,-23.526375,-23.898875,-23.856375,-23.686375,-23.33675,-23.47625,-23.496125,-23.217875,-23.332625],[-23.821584752878014,-22.034915980624454,-23.017381816054968,-23.846145300333646,-23.263362822070334,-21.926241253660685,-22.686901793432256,-23.2389701772891,-22.831917931088913,-22.098025012068817,-22.641366128689143,-23.06658751778888,-23.707269298666706,-22.757365543256643,-22.531590229252554,-23.54698095345788,-23.33970610263445,-22.069970547463214,-23.271126695854118,-24.02017011721828,-23.94802798923381,-23.33985753710891,-23.285612124027278,-24.081832236653316,-24.077700339126203,-24.122053225800343,-23.518535054097793,-23.248708504198945,-23.661731366523217,-23.872390012408264,-23.071090119724172,-23.58394180890269],[-23.986,-20.62675,-22.83,-23.977,-22.8165,-20.840875,-22.11475,-23.035875,-22.97575,-21.0965,-22.006625,-23.02425,-23.690875,-21.9325,-21.7055,-24.21875,-23.775625,-20.870125,-22.751125,-24.5465,-24.43125,-22.990875,-23.105375,-24.57925,-24.481,-24.280625,-23.869,-23.7085,-24.216125,-24.656625,-23.178125,-23.576125],[-23.787982320936216,-19.378009953482785,-22.765947288322632,-23.856744237440275,-22.09485900793763,-19.707411242669927,-21.72190476318443,-22.773224887827077,-22.720646378310672,-20.292267387449076,-21.42270213447149,-22.734573383876665,-23.68512000100392,-20.439420159506266,-20.698614860129407,-24.381388586544567,-23.722592355001584,-20.094177625358068,-22.318923394846852,-25.59108759549184,-24.777469140498937,-22.258395570007963,-23.11347666860813,-25.078531759984664,-24.87152831952441,-24.854965931160354,-24.423073731803,-24.250059272027965,-24.655087114778162,-25.164810280700163,-23.41535538411364,-23.920948611567518],[-24.023375,-18.591,-22.435,-23.29675,-21.99025,-19.086625,-21.632625,-22.431375,-22.789,-20.41975,-21.38575,-22.723875,-23.3945,-20.272125,-20.58575,-24.889,-23.591375,-18.184,-22.023375,-26.257125,-25.144375,-22.33775,-23.44625,-25.42575,-25.539125,-25.070375,-24.53425,-24.387125,-24.95825,-26.067625,-24.047625,-24.071125],[-24.29858457078068,-16.85792192039621,-20.97186001952758,-20.88329168940015,-22.29574437182474,-18.752871004585888,-20.66588584284503,-19.39596823395447,-21.22511397587889,-19.833300825515956,-21.290475952673614,-21.490042154778205,-21.673551730544485,-18.721181337758104,-20.89677269363103,-26.29295675694742,-22.895517608587323,-17.080564198290674,-21.466317535487605,-28.52877707691636,-26.19716031972281,-21.06520209169425,-23.40125753756656,-26.655238576172145,-27.371026758868755,-25.23024258155081,-24.88220745318689,-24.841035449028315,-26.82859080070326,-27.52616777126632,-25.49586102566705,-24.55269756464861],[-24.349869330568882,-16.993913325531103,-20.550526805531153,-19.012211343188927,-22.663836454687505,-19.945929060492023,-20.48965009180881,-18.537951516912152,-21.287890777406023,-21.185451930944563,-21.704545765758205,-21.02763406871063,-21.042779243500014,-19.13705640423631,-21.32263760876873,-26.504786779546603,-22.565729162799357,-17.18781846777873,-21.886418766066324,-29.06853049227807,-26.265734488524863,-20.718183655931014,-23.1953027567712,-26.632082116828183,-28.007737172586467,-25.55436957055401,-24.981648108897915,-24.98925055230031,-27.068548828547677,-27.749281171320515,-26.088932882517877,-24.7812009245658],[-24.006375,-18.63225,-20.7195,-18.0365,-23.352625,-22.287875,-21.030375,-18.58925,-21.801875,-23.2295,-23.14125,-21.399375,-20.4145,-20.30775,-22.51275,-26.12025,-21.834875,-18.693375,-22.297875,-28.2195,-26.18175,-21.858125,-23.544125,-26.161875,-28.235375,-25.723875,-25.031,-24.696375,-26.82025,-27.212,-26.75125,-24.62775],[-23.738168253928116,-19.90294629242364,-20.454336646006567,-16.792794959372163,-24.279962420634607,-24.093580857380807,-21.834743601187867,-17.97328995279757,-22.319713121171915,-24.739775296158943,-24.164042010221927,-21.303488785544484,-20.222549519391826,-21.59921635134214,-23.458931822303278,-25.649606545446346,-21.46765018914002,-19.601608217746417,-22.607735896838843,-27.65620274092681,-25.789225842229587,-22.25447743590562,-23.538114700586696,-25.391954797971692,-28.326308780963192,-26.02533215674048,-25.02585882898513,-24.57906945471731,-26.90587213831187,-26.89843433218975,-26.88633211535817,-24.64754690979661],[-23.886159321491373,-21.65476062047816,-20.748310777074753,-16.040476158267435,-24.47265177606296,-26.360334441550464,-22.413301574397313,-18.134987309909945,-22.7949699060976,-26.53023131014215,-24.755719657140705,-21.509282402109772,-20.044536944873496,-23.110139471063167,-24.3924791337709,-24.926375399159305,-21.017765171063086,-21.192739768797093,-23.3210529925377,-26.437800350723798,-25.30534827494518,-22.94649799643523,-23.508099002917948,-24.677551898504653,-27.73441377814013,-25.656013091039004,-25.063631032338765,-24.193452323709433,-26.154934610314847,-26.270491901029697,-27.15840468747855,-24.471602293355602],[-23.773875,-23.5035,-21.339625,-17.050625,-24.79625,-27.771125,-23.60725,-19.275125,-23.37275,-27.520875,-25.62825,-22.083875,-20.637375,-24.409875,-25.278875,-24.030875,-21.172,-22.693375,-23.95,-25.054125,-24.239125,-23.758375,-24.068375,-23.63575,-26.9695,-25.5995,-24.357125,-24.2665,-25.632625,-25.200375,-26.545375,-24.318875],[-23.598555973138627,-25.033768141934836,-21.753633510664233,-16.709398633709807,-25.191480841173604,-28.914829415688274,-23.95591558333901,-19.80775242505562,-24.062863576421112,-28.651151332225226,-26.055786570703123,-22.492966549015925,-20.76981036369086,-25.913440564201434,-26.010777169011956,-23.72975637800067,-20.761573488993896,-23.926689310795993,-24.495230383835512,-23.626398287600924,-23.743001730080568,-24.275249562147362,-23.537962158548766,-22.820937286042373,-26.26486968564242,-24.944315899562056,-24.59547838390004,-23.6085472498601,-25.00269571803489,-24.59730482868625,-26.256649884694568,-24.150041442393828],[-23.60048239666179,-26.11311097147718,-22.245377504717002,-17.912250261779818,-25.541043113018038,-29.150678025489956,-24.33452975311777,-21.063121350046682,-24.5595562794141,-28.526762257171306,-26.271766047387803,-23.148916922496646,-21.62304288098369,-26.47657837833674,-25.98021507975968,-23.248845160529243,-21.319352028454844,-25.035204291395523,-24.66283769876963,-22.752870622650196,-23.118089488185397,-24.65311560487577,-23.484655379523065,-22.47370504897391,-25.58532202175096,-24.682695630720744,-24.00141245782847,-22.92118517203948,-24.4800012420357,-23.81063004598846,-25.75723302034558,-23.73502132780862],[-23.792625,-26.11725,-22.794375,-19.987875,-25.415375,-28.1135,-24.429,-22.463625,-24.43675,-27.739375,-25.6805,-23.52575,-22.319125,-26.1095,-25.550375,-23.06525,-21.81575,-25.359625,-24.642875,-22.528625,-22.741,-24.77825,-23.786875,-22.75075,-24.914375,-24.348625,-23.871125,-23.046625,-24.041875,-23.576875,-25.029125,-23.861625],[-24.17340174178007,-27.196511268320993,-23.754104005406198,-21.922212211221463,-25.49706876212971,-27.54248565471728,-24.710149210452716,-23.874108255503955,-25.51618830852129,-26.977859706500364,-25.48472264474706,-23.913776306957885,-23.93054878068748,-26.42588905552953,-25.548950434542004,-23.853988055280926,-23.89643667627886,-25.99315316579059,-24.87144837269017,-23.389457658706192,-24.46852318828478,-25.793334118189968,-24.59819841622594,-23.62481237514772,-24.559635547604643,-24.092299629390357,-23.469687758111593,-23.781781289057108,-24.728832385070568,-24.378853068795845,-24.615591281579984,-24.424101752824242],[-24.257125,-25.833875,-24.402875,-23.61175,-24.574375,-25.3085,-24.51325,-24.399375,-25.166125,-25.4435,-24.84575,-24.40925,-24.173,-25.254125,-24.963375,-24.507,-24.571375,-25.172375,-24.544,-23.785875,-24.556625,-25.284375,-24.749625,-24.27675,-24.4585,-24.066875,-23.66075,-24.046625,-24.775875,-24.432625,-24.2765,-24.35625],[-24.202935581026097,-23.77091116595237,-23.99468292977158,-24.46504042047974,-23.689163926483882,-23.075283411491537,-24.530913560941766,-24.720536996903057,-24.559370042194782,-23.64811653835294,-23.92214104701933,-24.544943255389718,-24.37996195294864,-23.6272065512921,-24.297912142552978,-24.973857123672012,-24.80260146756722,-23.833623585424878,-24.61752061926986,-25.15061610273623,-24.590828636079845,-24.32040984739915,-24.59694577855901,-24.606297321720604,-24.201712916715028,-24.138760397745923,-24.182334641634235,-24.60615473695973,-24.771375428050888,-24.82512097640644,-24.28274389007226,-24.481805380895377],[-24.128375,-22.162125,-23.92825,-24.936,-23.058625,-21.415625,-23.433875,-24.453375,-23.867625,-21.91625,-23.397625,-24.4125,-24.101375,-22.459,-23.90225,-25.6535,-24.95925,-22.38925,-23.9585,-25.889125,-24.937625,-23.718,-24.73425,-25.465125,-24.554625,-24.029125,-24.619625,-24.987375,-25.076125,-25.36025,-24.188375,-24.24625],[-23.898811494668063,-19.907681742079358,-23.4163812137232,-24.929775243840652,-21.96895274603994,-19.345411616965063,-22.665850828917605,-23.684883903079466,-22.959533378276465,-20.87388083000472,-22.793155219940324,-23.784308706313507,-23.54343760812944,-20.81261847304574,-22.69749929610517,-26.18110134097367,-24.895505122363932,-20.36253445024256,-23.459237089929445,-27.170077191914483,-25.116125828650556,-22.484708852455118,-24.96814270818979,-26.590824245411937,-24.900111297400493,-24.35785398898471,-24.752513692437624,-25.4946897345193,-25.516306539202017,-26.064181250277205,-24.6084974956182,-24.477964768185966],[-23.79725,-18.674625,-22.693125,-23.993125,-21.7605,-18.788,-22.274125,-22.652125,-22.2395,-20.339375,-22.39575,-23.479125,-22.89925,-20.253,-22.178625,-26.508,-24.60075,-19.400125,-22.792,-27.884375,-25.663625,-22.01125,-24.58325,-26.62475,-25.483375,-24.661875,-25.107625,-25.618875,-25.705,-26.561125,-25.052,-24.513625],[-23.45207247859498,-16.88030246438356,-21.97633044502864,-23.130609610247042,-21.468009960529603,-18.319491077054906,-21.113633828843177,-21.166266515196554,-21.51102584491315,-19.72136047998301,-21.96776858239598,-22.649417641387036,-21.93226194676333,-19.372392129503986,-21.554584949780963,-26.836610499307127,-24.070278590879628,-17.67996787306036,-22.101309541525385,-28.753241708849963,-25.793320055433394,-21.118486209386685,-24.242154903881477,-26.943539151952336,-26.162905100504904,-24.953565820360755,-25.57366881284562,-25.894817266562544,-26.1265600453132,-27.147887196921204,-25.682541140078584,-24.463949220831775],[-23.349,-17.715125,-21.726,-21.611375,-21.89225,-19.101125,-20.804625,-20.417625,-21.73125,-20.65975,-21.8505,-22.362375,-21.52,-19.958375,-21.594125,-26.5955,-23.921125,-17.972625,-22.26375,-28.26675,-25.884625,-21.504625,-23.759875,-26.837875,-26.748875,-25.004375,-25.359125,-25.62025,-26.35975,-26.989375,-26.1405,-24.36925],[-23.416105859525107,-17.37939159769897,-20.785750522301186,-19.99803576338907,-22.065295346960298,-19.953752769380483,-20.18169835848241,-19.243613073862004,-21.399049775139062,-21.737693393067637,-22.38519580052144,-21.457002465792876,-20.76114413759572,-20.552004709203544,-21.77288112385814,-26.43748248886738,-23.55415298005807,-17.478076058323236,-21.75483105356434,-28.584841562244133,-25.765549757517707,-21.23642003581166,-23.502794150420186,-26.674693780393895,-27.49127857348165,-25.581489972201165,-25.45042396966336,-25.536686989202586,-26.498505557422323,-27.404539161752318,-26.567386140147967,-24.48790134670863],[-23.499836162506288,-18.81254174780372,-20.597918692946653,-18.381805184260816,-22.85497425710407,-21.721304654118278,-20.33704448759168,-18.65564445101271,-21.590921285540205,-23.50725648783636,-22.597546702171375,-21.083255874449545,-20.902904951354966,-21.35174298854094,-21.707824536889923,-26.082857312704306,-23.035943362018795,-18.46119770458874,-21.781584999907544,-27.82502556902991,-25.750097863544365,-21.82222469860699,-23.033848482031058,-26.124674386538874,-27.743165250923308,-25.603166033417995,-25.536566308723486,-25.008956281508393,-26.666852638541055,-26.9003485864037,-27.016480934853504,-24.248137793048436],[-23.597,-21.3165,-21.0005,-17.85,-23.882125,-24.248125,-21.310875,-19.108,-22.571625,-25.002875,-23.376625,-21.36525,-20.978,-23.307875,-22.70525,-25.5395,-22.6075,-20.312625,-22.181375,-26.696625,-25.39425,-22.887,-22.7345,-25.2255,-27.83075,-25.499875,-24.643125,-24.746125,-26.1815,-26.201,-26.755,-24.382125],[-23.807643022075993,-23.134239326634447,-20.998811180623928,-16.543477107903318,-24.60678571491613,-26.171267239840223,-21.826485303261737,-19.49121938399609,-23.489158429416506,-26.587495697467528,-24.123490194437768,-21.585728441642555,-20.878076093507865,-24.62351367201296,-23.762859103767635,-25.047050411003575,-22.15455283554199,-21.295536152498993,-22.959183587661297,-25.615108698681357,-25.22057126098365,-23.88098109239236,-22.89710474924254,-24.433903962095247,-27.636437231154574,-25.51211890901008,-24.487225853774245,-24.538371400856818,-25.962048389130803,-25.94824633005168,-26.883955988454183,-24.465928231976598],[-24.126063810301527,-24.93993028718171,-21.549063749974962,-16.7498778780813,-25.133336328023557,-27.78817899975618,-22.371266000706164,-20.139986600617643,-24.370859301988833,-27.824029690410917,-24.969790609461075,-21.796161444104172,-21.43047278709038,-25.976309757445236,-24.577877542926448,-24.408573234059798,-22.07279969077115,-23.1319425089631,-23.287060842241186,-24.401352864927027,-24.91113823351088,-24.816851674678485,-23.007147661973956,-23.664591709538946,-27.62797860863874,-25.420212018664174,-24.370191949519107,-24.132510603066144,-25.63351722739075,-25.11977590264573,-26.47036769369189,-24.23280639218404],[-24.1145,-26.53775,-22.22325,-18.103875,-25.7005,-28.66175,-23.648875,-21.662625,-25.452,-28.00775,-25.09175,-22.362125,-22.7,-26.494125,-24.948125,-23.852875,-22.583875,-24.396125,-23.89175,-23.909625,-24.543375,-25.46825,-23.41675,-23.371625,-26.527,-25.10025,-24.003,-23.854,-25.25725,-24.512125,-25.923375,-24.273625],[-23.844179081650896,-27.214525887002637,-22.923962387130764,-18.785949536548287,-25.425981767034376,-28.809635598610548,-24.47945984345944,-22.34286660163493,-25.45561387412847,-28.29853572275289,-25.520711650672876,-23.130398598634454,-22.608398869013453,-27.051907468735465,-25.765248619699914,-23.56477334430777,-22.91555215020259,-25.827781653170444,-24.342059360685813,-22.843750901478842,-24.23882861542026,-25.882652679584634,-23.69291920855604,-23.004131396906008,-25.74722633383536,-24.729583552931523,-23.878991136493426,-23.12996551020314,-24.749064000041077,-24.512271774024114,-25.76284462982754,-23.70247142563961],[-24.205,-27.23275,-23.75725,-20.650875,-25.0915,-27.6575,-24.741375,-23.651625,-25.530625,-27.26,-25.205625,-23.031125,-23.325625,-26.67275,-25.473875,-23.493125,-23.691875,-25.797,-24.242125,-22.76675,-24.41925,-25.962625,-24.36225,-23.381375,-25.180125,-24.06,-23.546375,-23.4985,-24.671,-24.324375,-25.277625,-24.038375],[-24.304150368687022,-26.851565537853677,-23.951213627273045,-22.0924859229779,-24.912150600917624,-26.361940415518553,-24.69007263245538,-24.154953351212427,-25.404430798285485,-26.42253838662326,-24.6899977751249,-23.89208977341824,-24.1386709758222,-26.07920263064017,-25.375552228822862,-23.680557307020763,-23.967713941061813,-25.516754983780725,-24.319428114917017,-22.83640654183557,-24.668451931007887,-25.94837297159426,-24.360164473854493,-23.537418329028757,-24.396615267545855,-24.031985244817008,-23.5550439935286,-23.743404170124002,-24.388512166248695,-24.403534810471967,-24.858343021649794,-23.934482748796135],[-24.39423625984839,-25.488096602393018,-24.26806606489954,-23.757301979126407,-24.329183952073887,-24.491701467320905,-24.346067456967454,-24.58033212180293,-25.18172802597326,-24.917174794495327,-24.289431885776278,-23.636592173849124,-24.125583838417533,-24.95933820197247,-24.826096594984513,-24.223646311496054,-24.484306362008063,-24.81472968155072,-24.23944236997861,-23.553898682419042,-24.572273563109615,-25.019582451911077,-24.807111373349535,-24.245178857593963,-24.262908073363377,-23.934900383123797,-23.71218031577983,-23.953240331565976,-24.50865580130322,-24.798346890971658,-24.373627272149744,-23.683975459491975]]},{\"hovertemplate\":\"x: %{x}<br>y: %{y}<br> z: %{text:.2f}<extra></extra>\",\"marker\":{\"color\":\"red\",\"line\":{\"width\":1},\"size\":16,\"symbol\":[204]},\"mode\":\"markers\",\"text\":[\"-29.150678025489956\"],\"type\":\"scatter\",\"x\":[0.5],\"y\":[1.2000000000000002]}],                        {\"height\":700,\"template\":{\"data\":{\"bar\":[{\"error_x\":{\"color\":\"#2a3f5f\"},\"error_y\":{\"color\":\"#2a3f5f\"},\"marker\":{\"line\":{\"color\":\"#E5ECF6\",\"width\":0.5},\"pattern\":{\"fillmode\":\"overlay\",\"size\":10,\"solidity\":0.2}},\"type\":\"bar\"}],\"barpolar\":[{\"marker\":{\"line\":{\"color\":\"#E5ECF6\",\"width\":0.5},\"pattern\":{\"fillmode\":\"overlay\",\"size\":10,\"solidity\":0.2}},\"type\":\"barpolar\"}],\"carpet\":[{\"aaxis\":{\"endlinecolor\":\"#2a3f5f\",\"gridcolor\":\"white\",\"linecolor\":\"white\",\"minorgridcolor\":\"white\",\"startlinecolor\":\"#2a3f5f\"},\"baxis\":{\"endlinecolor\":\"#2a3f5f\",\"gridcolor\":\"white\",\"linecolor\":\"white\",\"minorgridcolor\":\"white\",\"startlinecolor\":\"#2a3f5f\"},\"type\":\"carpet\"}],\"choropleth\":[{\"colorbar\":{\"outlinewidth\":0,\"ticks\":\"\"},\"type\":\"choropleth\"}],\"contour\":[{\"colorbar\":{\"outlinewidth\":0,\"ticks\":\"\"},\"colorscale\":[[0.0,\"#0d0887\"],[0.1111111111111111,\"#46039f\"],[0.2222222222222222,\"#7201a8\"],[0.3333333333333333,\"#9c179e\"],[0.4444444444444444,\"#bd3786\"],[0.5555555555555556,\"#d8576b\"],[0.6666666666666666,\"#ed7953\"],[0.7777777777777778,\"#fb9f3a\"],[0.8888888888888888,\"#fdca26\"],[1.0,\"#f0f921\"]],\"type\":\"contour\"}],\"contourcarpet\":[{\"colorbar\":{\"outlinewidth\":0,\"ticks\":\"\"},\"type\":\"contourcarpet\"}],\"heatmap\":[{\"colorbar\":{\"outlinewidth\":0,\"ticks\":\"\"},\"colorscale\":[[0.0,\"#0d0887\"],[0.1111111111111111,\"#46039f\"],[0.2222222222222222,\"#7201a8\"],[0.3333333333333333,\"#9c179e\"],[0.4444444444444444,\"#bd3786\"],[0.5555555555555556,\"#d8576b\"],[0.6666666666666666,\"#ed7953\"],[0.7777777777777778,\"#fb9f3a\"],[0.8888888888888888,\"#fdca26\"],[1.0,\"#f0f921\"]],\"type\":\"heatmap\"}],\"heatmapgl\":[{\"colorbar\":{\"outlinewidth\":0,\"ticks\":\"\"},\"colorscale\":[[0.0,\"#0d0887\"],[0.1111111111111111,\"#46039f\"],[0.2222222222222222,\"#7201a8\"],[0.3333333333333333,\"#9c179e\"],[0.4444444444444444,\"#bd3786\"],[0.5555555555555556,\"#d8576b\"],[0.6666666666666666,\"#ed7953\"],[0.7777777777777778,\"#fb9f3a\"],[0.8888888888888888,\"#fdca26\"],[1.0,\"#f0f921\"]],\"type\":\"heatmapgl\"}],\"histogram\":[{\"marker\":{\"pattern\":{\"fillmode\":\"overlay\",\"size\":10,\"solidity\":0.2}},\"type\":\"histogram\"}],\"histogram2d\":[{\"colorbar\":{\"outlinewidth\":0,\"ticks\":\"\"},\"colorscale\":[[0.0,\"#0d0887\"],[0.1111111111111111,\"#46039f\"],[0.2222222222222222,\"#7201a8\"],[0.3333333333333333,\"#9c179e\"],[0.4444444444444444,\"#bd3786\"],[0.5555555555555556,\"#d8576b\"],[0.6666666666666666,\"#ed7953\"],[0.7777777777777778,\"#fb9f3a\"],[0.8888888888888888,\"#fdca26\"],[1.0,\"#f0f921\"]],\"type\":\"histogram2d\"}],\"histogram2dcontour\":[{\"colorbar\":{\"outlinewidth\":0,\"ticks\":\"\"},\"colorscale\":[[0.0,\"#0d0887\"],[0.1111111111111111,\"#46039f\"],[0.2222222222222222,\"#7201a8\"],[0.3333333333333333,\"#9c179e\"],[0.4444444444444444,\"#bd3786\"],[0.5555555555555556,\"#d8576b\"],[0.6666666666666666,\"#ed7953\"],[0.7777777777777778,\"#fb9f3a\"],[0.8888888888888888,\"#fdca26\"],[1.0,\"#f0f921\"]],\"type\":\"histogram2dcontour\"}],\"mesh3d\":[{\"colorbar\":{\"outlinewidth\":0,\"ticks\":\"\"},\"type\":\"mesh3d\"}],\"parcoords\":[{\"line\":{\"colorbar\":{\"outlinewidth\":0,\"ticks\":\"\"}},\"type\":\"parcoords\"}],\"pie\":[{\"automargin\":true,\"type\":\"pie\"}],\"scatter\":[{\"marker\":{\"colorbar\":{\"outlinewidth\":0,\"ticks\":\"\"}},\"type\":\"scatter\"}],\"scatter3d\":[{\"line\":{\"colorbar\":{\"outlinewidth\":0,\"ticks\":\"\"}},\"marker\":{\"colorbar\":{\"outlinewidth\":0,\"ticks\":\"\"}},\"type\":\"scatter3d\"}],\"scattercarpet\":[{\"marker\":{\"colorbar\":{\"outlinewidth\":0,\"ticks\":\"\"}},\"type\":\"scattercarpet\"}],\"scattergeo\":[{\"marker\":{\"colorbar\":{\"outlinewidth\":0,\"ticks\":\"\"}},\"type\":\"scattergeo\"}],\"scattergl\":[{\"marker\":{\"colorbar\":{\"outlinewidth\":0,\"ticks\":\"\"}},\"type\":\"scattergl\"}],\"scattermapbox\":[{\"marker\":{\"colorbar\":{\"outlinewidth\":0,\"ticks\":\"\"}},\"type\":\"scattermapbox\"}],\"scatterpolar\":[{\"marker\":{\"colorbar\":{\"outlinewidth\":0,\"ticks\":\"\"}},\"type\":\"scatterpolar\"}],\"scatterpolargl\":[{\"marker\":{\"colorbar\":{\"outlinewidth\":0,\"ticks\":\"\"}},\"type\":\"scatterpolargl\"}],\"scatterternary\":[{\"marker\":{\"colorbar\":{\"outlinewidth\":0,\"ticks\":\"\"}},\"type\":\"scatterternary\"}],\"surface\":[{\"colorbar\":{\"outlinewidth\":0,\"ticks\":\"\"},\"colorscale\":[[0.0,\"#0d0887\"],[0.1111111111111111,\"#46039f\"],[0.2222222222222222,\"#7201a8\"],[0.3333333333333333,\"#9c179e\"],[0.4444444444444444,\"#bd3786\"],[0.5555555555555556,\"#d8576b\"],[0.6666666666666666,\"#ed7953\"],[0.7777777777777778,\"#fb9f3a\"],[0.8888888888888888,\"#fdca26\"],[1.0,\"#f0f921\"]],\"type\":\"surface\"}],\"table\":[{\"cells\":{\"fill\":{\"color\":\"#EBF0F8\"},\"line\":{\"color\":\"white\"}},\"header\":{\"fill\":{\"color\":\"#C8D4E3\"},\"line\":{\"color\":\"white\"}},\"type\":\"table\"}]},\"layout\":{\"annotationdefaults\":{\"arrowcolor\":\"#2a3f5f\",\"arrowhead\":0,\"arrowwidth\":1},\"autotypenumbers\":\"strict\",\"coloraxis\":{\"colorbar\":{\"outlinewidth\":0,\"ticks\":\"\"}},\"colorscale\":{\"diverging\":[[0,\"#8e0152\"],[0.1,\"#c51b7d\"],[0.2,\"#de77ae\"],[0.3,\"#f1b6da\"],[0.4,\"#fde0ef\"],[0.5,\"#f7f7f7\"],[0.6,\"#e6f5d0\"],[0.7,\"#b8e186\"],[0.8,\"#7fbc41\"],[0.9,\"#4d9221\"],[1,\"#276419\"]],\"sequential\":[[0.0,\"#0d0887\"],[0.1111111111111111,\"#46039f\"],[0.2222222222222222,\"#7201a8\"],[0.3333333333333333,\"#9c179e\"],[0.4444444444444444,\"#bd3786\"],[0.5555555555555556,\"#d8576b\"],[0.6666666666666666,\"#ed7953\"],[0.7777777777777778,\"#fb9f3a\"],[0.8888888888888888,\"#fdca26\"],[1.0,\"#f0f921\"]],\"sequentialminus\":[[0.0,\"#0d0887\"],[0.1111111111111111,\"#46039f\"],[0.2222222222222222,\"#7201a8\"],[0.3333333333333333,\"#9c179e\"],[0.4444444444444444,\"#bd3786\"],[0.5555555555555556,\"#d8576b\"],[0.6666666666666666,\"#ed7953\"],[0.7777777777777778,\"#fb9f3a\"],[0.8888888888888888,\"#fdca26\"],[1.0,\"#f0f921\"]]},\"colorway\":[\"#636efa\",\"#EF553B\",\"#00cc96\",\"#ab63fa\",\"#FFA15A\",\"#19d3f3\",\"#FF6692\",\"#B6E880\",\"#FF97FF\",\"#FECB52\"],\"font\":{\"color\":\"#2a3f5f\"},\"geo\":{\"bgcolor\":\"white\",\"lakecolor\":\"white\",\"landcolor\":\"#E5ECF6\",\"showlakes\":true,\"showland\":true,\"subunitcolor\":\"white\"},\"hoverlabel\":{\"align\":\"left\"},\"hovermode\":\"closest\",\"mapbox\":{\"style\":\"light\"},\"paper_bgcolor\":\"white\",\"plot_bgcolor\":\"#E5ECF6\",\"polar\":{\"angularaxis\":{\"gridcolor\":\"white\",\"linecolor\":\"white\",\"ticks\":\"\"},\"bgcolor\":\"#E5ECF6\",\"radialaxis\":{\"gridcolor\":\"white\",\"linecolor\":\"white\",\"ticks\":\"\"}},\"scene\":{\"xaxis\":{\"backgroundcolor\":\"#E5ECF6\",\"gridcolor\":\"white\",\"gridwidth\":2,\"linecolor\":\"white\",\"showbackground\":true,\"ticks\":\"\",\"zerolinecolor\":\"white\"},\"yaxis\":{\"backgroundcolor\":\"#E5ECF6\",\"gridcolor\":\"white\",\"gridwidth\":2,\"linecolor\":\"white\",\"showbackground\":true,\"ticks\":\"\",\"zerolinecolor\":\"white\"},\"zaxis\":{\"backgroundcolor\":\"#E5ECF6\",\"gridcolor\":\"white\",\"gridwidth\":2,\"linecolor\":\"white\",\"showbackground\":true,\"ticks\":\"\",\"zerolinecolor\":\"white\"}},\"shapedefaults\":{\"line\":{\"color\":\"#2a3f5f\"}},\"ternary\":{\"aaxis\":{\"gridcolor\":\"white\",\"linecolor\":\"white\",\"ticks\":\"\"},\"baxis\":{\"gridcolor\":\"white\",\"linecolor\":\"white\",\"ticks\":\"\"},\"bgcolor\":\"#E5ECF6\",\"caxis\":{\"gridcolor\":\"white\",\"linecolor\":\"white\",\"ticks\":\"\"}},\"title\":{\"x\":0.05},\"xaxis\":{\"automargin\":true,\"gridcolor\":\"white\",\"linecolor\":\"white\",\"ticks\":\"\",\"title\":{\"standoff\":15},\"zerolinecolor\":\"white\",\"zerolinewidth\":2},\"yaxis\":{\"automargin\":true,\"gridcolor\":\"white\",\"linecolor\":\"white\",\"ticks\":\"\",\"title\":{\"standoff\":15},\"zerolinecolor\":\"white\",\"zerolinewidth\":2}}},\"title\":{\"text\":\"F(\\u03b3,\\u03b2)\"},\"width\":700,\"xaxis\":{\"title\":{\"text\":\"\\u03b3\"}},\"yaxis\":{\"title\":{\"text\":\"\\u03b2\"}}},                        {\"responsive\": true}                    ).then(function(){\n",
       "                            \n",
       "var gd = document.getElementById('7b27dc8a-8356-48a1-98bd-fb9ba70c8358');\n",
       "var x = new MutationObserver(function (mutations, observer) {{\n",
       "        var display = window.getComputedStyle(gd).display;\n",
       "        if (!display || display === 'none') {{\n",
       "            console.log([gd, 'removed!']);\n",
       "            Plotly.purge(gd);\n",
       "            observer.disconnect();\n",
       "        }}\n",
       "}});\n",
       "\n",
       "// Listen for the removal of the full notebook cells\n",
       "var notebookContainer = gd.closest('#notebook-container');\n",
       "if (notebookContainer) {{\n",
       "    x.observe(notebookContainer, {childList: true});\n",
       "}}\n",
       "\n",
       "// Listen for the clearing of the current output cell\n",
       "var outputEl = gd.closest('.output');\n",
       "if (outputEl) {{\n",
       "    x.observe(outputEl, {childList: true});\n",
       "}}\n",
       "\n",
       "                        })                };                });            </script>        </div>"
      ]
     },
     "metadata": {},
     "output_type": "display_data"
    }
   ],
   "source": [
    "# Plot Heatmap \n",
    "fig = go.Figure(data=go.Heatmap(z=landscape, x=b_beta, y=a_gamma, type = 'heatmap', colorscale = 'viridis'))\n",
    "\n",
    "# Update Layout\n",
    "fig.update_layout(title=\"F(γ,β)\", width=700, height=700, yaxis_title=\"β\", xaxis_title=\"γ\")\n",
    "\n",
    "# Display Global Minimium \n",
    "fig.add_trace(\n",
    "    go.Scatter(mode=\"markers\", x=[opt_beta], y=[opt_gamma], marker_symbol=[204], text = [landscape[gamma,beta]],\n",
    "                   marker_color=\"red\",  hovertemplate=\"x: %{x}<br>y: %{y}<br> z: %{text:.2f}<extra></extra>\", \n",
    "                   marker_line_width=1, marker_size=16))"
   ]
  },
  {
   "cell_type": "code",
   "execution_count": 27,
   "id": "5eef23c8",
   "metadata": {},
   "outputs": [],
   "source": [
    "# Display Optimizer Results\n",
    "\n",
    "# Display path \n",
    "#fig.add_trace(\n",
    "#    go.Scatter(mode=\"lines\", x=gammas, y=betas, marker_symbol=[200],\n",
    "#                   marker_color=\"white\", marker_line_width=1, marker_size=8)\n",
    "#)\n",
    "\n",
    "# Display start point\n",
    "#fig.add_trace(\n",
    "#    go.Scatter(mode=\"markers\", x=[gammas[0]], y=[betas[0]], marker_symbol=[204],\n",
    "#                   marker_color=\"gray\", \n",
    "#                   marker_line_width=1, marker_size=16))\n",
    "\n",
    "# Display end point\n",
    "#fig.add_trace(\n",
    "#    go.Scatter(mode=\"markers\", x=[gammas[-1]], y=[betas[-1]], marker_symbol=[204],\n",
    "#                   marker_color=\"green\", \n",
    "#                   marker_line_width=1, marker_size=16))\n",
    "\n"
   ]
  },
  {
   "cell_type": "code",
   "execution_count": 28,
   "id": "5191a47a",
   "metadata": {},
   "outputs": [],
   "source": [
    "# Plot Optimizer History\n",
    "#fig = go.Figure(data=go.Scatter(x=counts, y=values))\n",
    "#fig.update_layout(xaxis_title=\"Evaluation Counts\", yaxis_title=\"Evaluated Mean\", title=\"Optimizer\")\n",
    "#fig.show()"
   ]
  },
  {
   "cell_type": "code",
   "execution_count": null,
   "id": "64b6705c",
   "metadata": {},
   "outputs": [],
   "source": []
  },
  {
   "cell_type": "code",
   "execution_count": null,
   "id": "20590740",
   "metadata": {},
   "outputs": [],
   "source": []
  }
 ],
 "metadata": {
  "kernelspec": {
   "display_name": "python3.8",
   "language": "python",
   "name": "python3.8"
  },
  "language_info": {
   "codemirror_mode": {
    "name": "ipython",
    "version": 3
   },
   "file_extension": ".py",
   "mimetype": "text/x-python",
   "name": "python",
   "nbconvert_exporter": "python",
   "pygments_lexer": "ipython3",
   "version": "3.8.6"
  }
 },
 "nbformat": 4,
 "nbformat_minor": 5
}
