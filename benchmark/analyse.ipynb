{
 "cells": [
  {
   "cell_type": "markdown",
   "id": "a8208545",
   "metadata": {},
   "source": [
    "### Auswertung"
   ]
  },
  {
   "cell_type": "code",
   "execution_count": 30,
   "id": "25695ebb",
   "metadata": {},
   "outputs": [],
   "source": [
    "import pandas as pd\n",
    "import numpy as np\n",
    "import matplotlib.pyplot as plt\n",
    "\n",
    "def generate_dataframes(all_results):\n",
    "    column_names = []\n",
    "    means_results = []\n",
    "    ratios_results = []\n",
    "    approx_ratios_results = []\n",
    "\n",
    "    for item in all_results.items():\n",
    "        name, res = item\n",
    "        column_names.append(name)\n",
    "\n",
    "        m = [np.median(l) for l in res[0]]\n",
    "        means_results.append(m.copy())\n",
    "\n",
    "        m = [np.median(l) for l in res[1]]\n",
    "        ratios_results.append(m.copy())\n",
    "\n",
    "        m = [np.median(l) for l in res[2]]\n",
    "        approx_ratios_results.append(m.copy())\n",
    "\n",
    "    means_results = np.stack(means_results, axis=1)\n",
    "    ratios_results = np.stack(ratios_results, axis=1)\n",
    "    approx_ratios_results = np.stack(approx_ratios_results, axis=1)\n",
    "    \n",
    "    means_df = pd.DataFrame(means_results, columns=column_names)\n",
    "    # start index = p at 1\n",
    "    means_df.index = np.arange( 1, len(means_df) + 1)\n",
    "    means_df.index.name = \"p\"\n",
    "    # round \n",
    "    means_df = means_df.round(2)\n",
    "    \n",
    "    ratio_df = pd.DataFrame(ratios_results, columns=column_names)\n",
    "    # start index = p at 1\n",
    "    ratio_df.index = np.arange( 1, len(ratio_df) + 1)\n",
    "    ratio_df.index.name = \"p\"\n",
    "    # round \n",
    "    ratio_df = ratio_df.round(2)\n",
    "    \n",
    "    approx_ratios_df = pd.DataFrame(approx_ratios_results, columns=column_names)\n",
    "    # start index = p at 1\n",
    "    approx_ratios_df.index = np.arange( 1, len(approx_ratios_df) + 1)\n",
    "    approx_ratios_df.index.name = \"p\"\n",
    "    # round \n",
    "    approx_ratios_df = approx_ratios_df.round(2)\n",
    "    \n",
    "    return means_df, ratio_df, approx_ratios_df"
   ]
  },
  {
   "cell_type": "code",
   "execution_count": 31,
   "id": "393756b2",
   "metadata": {},
   "outputs": [],
   "source": [
    "import pickle\n",
    "def load_data(filepath):\n",
    "    tmp_data = np.load(filepath, allow_pickle=True)\n",
    "    tmp_data = tmp_data.flatten()[0]\n",
    "    return generate_dataframes(tmp_data)"
   ]
  },
  {
   "cell_type": "code",
   "execution_count": 32,
   "id": "abb9f62a",
   "metadata": {},
   "outputs": [],
   "source": [
    "import glob\n",
    "def load_all_data(path):\n",
    "    data = {}\n",
    "    for file in glob.glob(f'{path}/comparison*.npy'):\n",
    "        if '_w_' in file:\n",
    "            name = file.split('0')[1][0] + 'w'\n",
    "        else:\n",
    "            name = file.split('0')[1][0]\n",
    "        \n",
    "        data[name] = load_data(file)\n",
    "    return data "
   ]
  },
  {
   "cell_type": "code",
   "execution_count": 33,
   "id": "50fef503",
   "metadata": {},
   "outputs": [],
   "source": [
    "MEAN = 0\n",
    "RATIO = 1\n",
    "AR = 2\n",
    "def create_ar_df(data):\n",
    "    tt= []\n",
    "    for key in sorted(data.keys()):\n",
    "        value = data[key]\n",
    "        tmpdf = pd.DataFrame(value[AR].median(), columns=[f\"{key}\"])\n",
    "        tt.append(tmpdf)\n",
    "    ar_pd = tt.pop(0)\n",
    "    for t in tt:\n",
    "        ar_pd = ar_pd.join(t)\n",
    "    ar_pd = ar_pd.T\n",
    "    ar_pd.index.name = \"Graph\"\n",
    "    # rename columns\n",
    "    ar_pd.rename(columns={'TQA QAOA':'TQA-QAOA','WarmStart QAOA': 'WS-QAOA', 'Recursive QAOA': 'R-QAOA', 'Recursive WarmStart QAOA': 'WS-R-QAOA'}, inplace=True)\n",
    "    return ar_pd"
   ]
  },
  {
   "cell_type": "markdown",
   "id": "8b2b64b6",
   "metadata": {},
   "source": [
    "### Simulation IBM"
   ]
  },
  {
   "cell_type": "code",
   "execution_count": 34,
   "id": "cb65d917",
   "metadata": {},
   "outputs": [
    {
     "data": {
      "text/html": [
       "<div>\n",
       "<style scoped>\n",
       "    .dataframe tbody tr th:only-of-type {\n",
       "        vertical-align: middle;\n",
       "    }\n",
       "\n",
       "    .dataframe tbody tr th {\n",
       "        vertical-align: top;\n",
       "    }\n",
       "\n",
       "    .dataframe thead th {\n",
       "        text-align: right;\n",
       "    }\n",
       "</style>\n",
       "<table border=\"1\" class=\"dataframe\">\n",
       "  <thead>\n",
       "    <tr style=\"text-align: right;\">\n",
       "      <th></th>\n",
       "      <th>QAOA</th>\n",
       "      <th>TQA-QAOA</th>\n",
       "      <th>WS-QAOA</th>\n",
       "      <th>R-QAOA</th>\n",
       "      <th>WS-R-QAOA</th>\n",
       "    </tr>\n",
       "    <tr>\n",
       "      <th>Graph</th>\n",
       "      <th></th>\n",
       "      <th></th>\n",
       "      <th></th>\n",
       "      <th></th>\n",
       "      <th></th>\n",
       "    </tr>\n",
       "  </thead>\n",
       "  <tbody>\n",
       "    <tr>\n",
       "      <th>4</th>\n",
       "      <td>0.965</td>\n",
       "      <td>0.910</td>\n",
       "      <td>1.0</td>\n",
       "      <td>1.0</td>\n",
       "      <td>1.00</td>\n",
       "    </tr>\n",
       "    <tr>\n",
       "      <th>4w</th>\n",
       "      <td>0.890</td>\n",
       "      <td>0.885</td>\n",
       "      <td>1.0</td>\n",
       "      <td>1.0</td>\n",
       "      <td>1.00</td>\n",
       "    </tr>\n",
       "    <tr>\n",
       "      <th>5</th>\n",
       "      <td>0.980</td>\n",
       "      <td>0.980</td>\n",
       "      <td>1.0</td>\n",
       "      <td>1.0</td>\n",
       "      <td>1.00</td>\n",
       "    </tr>\n",
       "    <tr>\n",
       "      <th>5w</th>\n",
       "      <td>0.875</td>\n",
       "      <td>0.875</td>\n",
       "      <td>1.0</td>\n",
       "      <td>1.0</td>\n",
       "      <td>1.00</td>\n",
       "    </tr>\n",
       "    <tr>\n",
       "      <th>6</th>\n",
       "      <td>0.880</td>\n",
       "      <td>0.890</td>\n",
       "      <td>1.0</td>\n",
       "      <td>1.0</td>\n",
       "      <td>1.00</td>\n",
       "    </tr>\n",
       "    <tr>\n",
       "      <th>6w</th>\n",
       "      <td>0.770</td>\n",
       "      <td>0.785</td>\n",
       "      <td>1.0</td>\n",
       "      <td>1.0</td>\n",
       "      <td>1.00</td>\n",
       "    </tr>\n",
       "    <tr>\n",
       "      <th>8</th>\n",
       "      <td>0.845</td>\n",
       "      <td>0.835</td>\n",
       "      <td>1.0</td>\n",
       "      <td>1.0</td>\n",
       "      <td>1.00</td>\n",
       "    </tr>\n",
       "    <tr>\n",
       "      <th>8w</th>\n",
       "      <td>0.670</td>\n",
       "      <td>0.715</td>\n",
       "      <td>1.0</td>\n",
       "      <td>1.0</td>\n",
       "      <td>0.98</td>\n",
       "    </tr>\n",
       "  </tbody>\n",
       "</table>\n",
       "</div>"
      ],
      "text/plain": [
       "        QAOA  TQA-QAOA  WS-QAOA  R-QAOA  WS-R-QAOA\n",
       "Graph                                             \n",
       "4      0.965     0.910      1.0     1.0       1.00\n",
       "4w     0.890     0.885      1.0     1.0       1.00\n",
       "5      0.980     0.980      1.0     1.0       1.00\n",
       "5w     0.875     0.875      1.0     1.0       1.00\n",
       "6      0.880     0.890      1.0     1.0       1.00\n",
       "6w     0.770     0.785      1.0     1.0       1.00\n",
       "8      0.845     0.835      1.0     1.0       1.00\n",
       "8w     0.670     0.715      1.0     1.0       0.98"
      ]
     },
     "execution_count": 34,
     "metadata": {},
     "output_type": "execute_result"
    }
   ],
   "source": [
    "sim_data = load_all_data(\"simulator_ibm/notebooks\")\n",
    "sim_ar_df = create_ar_df(sim_data)\n",
    "sim_ar_df"
   ]
  },
  {
   "cell_type": "code",
   "execution_count": 35,
   "id": "ddaced02",
   "metadata": {},
   "outputs": [
    {
     "name": "stdout",
     "output_type": "stream",
     "text": [
      "\\begin{tabular}{lrrrrr}\n",
      "\\toprule\n",
      "{} &   QAOA &  TQA-QAOA &  WS-QAOA &  R-QAOA &  WS-R-QAOA \\\\\n",
      "Graph &        &           &          &         &            \\\\\n",
      "\\midrule\n",
      "4     &  0.965 &     0.910 &      1.0 &     1.0 &       1.00 \\\\\n",
      "4w    &  0.890 &     0.885 &      1.0 &     1.0 &       1.00 \\\\\n",
      "5     &  0.980 &     0.980 &      1.0 &     1.0 &       1.00 \\\\\n",
      "5w    &  0.875 &     0.875 &      1.0 &     1.0 &       1.00 \\\\\n",
      "6     &  0.880 &     0.890 &      1.0 &     1.0 &       1.00 \\\\\n",
      "6w    &  0.770 &     0.785 &      1.0 &     1.0 &       1.00 \\\\\n",
      "8     &  0.845 &     0.835 &      1.0 &     1.0 &       1.00 \\\\\n",
      "8w    &  0.670 &     0.715 &      1.0 &     1.0 &       0.98 \\\\\n",
      "\\bottomrule\n",
      "\\end{tabular}\n",
      "\n"
     ]
    }
   ],
   "source": [
    "print(sim_ar_df.to_latex())"
   ]
  },
  {
   "cell_type": "markdown",
   "id": "5f243095",
   "metadata": {},
   "source": [
    "### Simulation IBM with fixed points"
   ]
  },
  {
   "cell_type": "code",
   "execution_count": 36,
   "id": "15dbce1e",
   "metadata": {},
   "outputs": [
    {
     "data": {
      "text/html": [
       "<div>\n",
       "<style scoped>\n",
       "    .dataframe tbody tr th:only-of-type {\n",
       "        vertical-align: middle;\n",
       "    }\n",
       "\n",
       "    .dataframe tbody tr th {\n",
       "        vertical-align: top;\n",
       "    }\n",
       "\n",
       "    .dataframe thead th {\n",
       "        text-align: right;\n",
       "    }\n",
       "</style>\n",
       "<table border=\"1\" class=\"dataframe\">\n",
       "  <thead>\n",
       "    <tr style=\"text-align: right;\">\n",
       "      <th></th>\n",
       "      <th>QAOA</th>\n",
       "      <th>TQA-QAOA</th>\n",
       "      <th>WS-QAOA</th>\n",
       "      <th>R-QAOA</th>\n",
       "      <th>WS-R-QAOA</th>\n",
       "    </tr>\n",
       "    <tr>\n",
       "      <th>Graph</th>\n",
       "      <th></th>\n",
       "      <th></th>\n",
       "      <th></th>\n",
       "      <th></th>\n",
       "      <th></th>\n",
       "    </tr>\n",
       "  </thead>\n",
       "  <tbody>\n",
       "    <tr>\n",
       "      <th>4</th>\n",
       "      <td>1.000</td>\n",
       "      <td>0.315</td>\n",
       "      <td>1.0</td>\n",
       "      <td>NaN</td>\n",
       "      <td>1.00</td>\n",
       "    </tr>\n",
       "    <tr>\n",
       "      <th>4w</th>\n",
       "      <td>0.955</td>\n",
       "      <td>0.635</td>\n",
       "      <td>1.0</td>\n",
       "      <td>1.000</td>\n",
       "      <td>1.00</td>\n",
       "    </tr>\n",
       "    <tr>\n",
       "      <th>5</th>\n",
       "      <td>1.000</td>\n",
       "      <td>0.505</td>\n",
       "      <td>1.0</td>\n",
       "      <td>1.000</td>\n",
       "      <td>1.00</td>\n",
       "    </tr>\n",
       "    <tr>\n",
       "      <th>5w</th>\n",
       "      <td>0.940</td>\n",
       "      <td>0.565</td>\n",
       "      <td>1.0</td>\n",
       "      <td>0.985</td>\n",
       "      <td>1.00</td>\n",
       "    </tr>\n",
       "    <tr>\n",
       "      <th>6</th>\n",
       "      <td>0.950</td>\n",
       "      <td>0.390</td>\n",
       "      <td>1.0</td>\n",
       "      <td>0.430</td>\n",
       "      <td>1.00</td>\n",
       "    </tr>\n",
       "    <tr>\n",
       "      <th>6w</th>\n",
       "      <td>0.880</td>\n",
       "      <td>0.645</td>\n",
       "      <td>1.0</td>\n",
       "      <td>1.000</td>\n",
       "      <td>1.00</td>\n",
       "    </tr>\n",
       "    <tr>\n",
       "      <th>8</th>\n",
       "      <td>0.900</td>\n",
       "      <td>0.385</td>\n",
       "      <td>1.0</td>\n",
       "      <td>0.800</td>\n",
       "      <td>1.00</td>\n",
       "    </tr>\n",
       "    <tr>\n",
       "      <th>8w</th>\n",
       "      <td>0.825</td>\n",
       "      <td>0.560</td>\n",
       "      <td>1.0</td>\n",
       "      <td>1.000</td>\n",
       "      <td>0.98</td>\n",
       "    </tr>\n",
       "  </tbody>\n",
       "</table>\n",
       "</div>"
      ],
      "text/plain": [
       "        QAOA  TQA-QAOA  WS-QAOA  R-QAOA  WS-R-QAOA\n",
       "Graph                                             \n",
       "4      1.000     0.315      1.0     NaN       1.00\n",
       "4w     0.955     0.635      1.0   1.000       1.00\n",
       "5      1.000     0.505      1.0   1.000       1.00\n",
       "5w     0.940     0.565      1.0   0.985       1.00\n",
       "6      0.950     0.390      1.0   0.430       1.00\n",
       "6w     0.880     0.645      1.0   1.000       1.00\n",
       "8      0.900     0.385      1.0   0.800       1.00\n",
       "8w     0.825     0.560      1.0   1.000       0.98"
      ]
     },
     "execution_count": 36,
     "metadata": {},
     "output_type": "execute_result"
    }
   ],
   "source": [
    "sim_init_data = load_all_data(\"simulator_ibm_init/notebooks\")\n",
    "sim_init_ar_df = create_ar_df(sim_init_data)\n",
    "sim_init_ar_df"
   ]
  },
  {
   "cell_type": "code",
   "execution_count": 37,
   "id": "2fe341e9",
   "metadata": {},
   "outputs": [
    {
     "name": "stdout",
     "output_type": "stream",
     "text": [
      "\\begin{tabular}{lrrrrr}\n",
      "\\toprule\n",
      "{} &   QAOA &  TQA-QAOA &  WS-QAOA &  R-QAOA &  WS-R-QAOA \\\\\n",
      "Graph &        &           &          &         &            \\\\\n",
      "\\midrule\n",
      "4     &  1.000 &     0.315 &      1.0 &     NaN &       1.00 \\\\\n",
      "4w    &  0.955 &     0.635 &      1.0 &   1.000 &       1.00 \\\\\n",
      "5     &  1.000 &     0.505 &      1.0 &   1.000 &       1.00 \\\\\n",
      "5w    &  0.940 &     0.565 &      1.0 &   0.985 &       1.00 \\\\\n",
      "6     &  0.950 &     0.390 &      1.0 &   0.430 &       1.00 \\\\\n",
      "6w    &  0.880 &     0.645 &      1.0 &   1.000 &       1.00 \\\\\n",
      "8     &  0.900 &     0.385 &      1.0 &   0.800 &       1.00 \\\\\n",
      "8w    &  0.825 &     0.560 &      1.0 &   1.000 &       0.98 \\\\\n",
      "\\bottomrule\n",
      "\\end{tabular}\n",
      "\n"
     ]
    }
   ],
   "source": [
    "print(sim_init_ar_df.to_latex())"
   ]
  },
  {
   "cell_type": "markdown",
   "id": "13b78a5c",
   "metadata": {},
   "source": [
    "### Simulation AQT"
   ]
  },
  {
   "cell_type": "code",
   "execution_count": 38,
   "id": "ef47552b",
   "metadata": {},
   "outputs": [
    {
     "data": {
      "text/html": [
       "<div>\n",
       "<style scoped>\n",
       "    .dataframe tbody tr th:only-of-type {\n",
       "        vertical-align: middle;\n",
       "    }\n",
       "\n",
       "    .dataframe tbody tr th {\n",
       "        vertical-align: top;\n",
       "    }\n",
       "\n",
       "    .dataframe thead th {\n",
       "        text-align: right;\n",
       "    }\n",
       "</style>\n",
       "<table border=\"1\" class=\"dataframe\">\n",
       "  <thead>\n",
       "    <tr style=\"text-align: right;\">\n",
       "      <th></th>\n",
       "      <th>QAOA</th>\n",
       "      <th>TQA-QAOA</th>\n",
       "      <th>WS-QAOA</th>\n",
       "      <th>R-QAOA</th>\n",
       "      <th>WS-R-QAOA</th>\n",
       "    </tr>\n",
       "    <tr>\n",
       "      <th>Graph</th>\n",
       "      <th></th>\n",
       "      <th></th>\n",
       "      <th></th>\n",
       "      <th></th>\n",
       "      <th></th>\n",
       "    </tr>\n",
       "  </thead>\n",
       "  <tbody>\n",
       "    <tr>\n",
       "      <th>4</th>\n",
       "      <td>0.935</td>\n",
       "      <td>0.875</td>\n",
       "      <td>1.0</td>\n",
       "      <td>1.00</td>\n",
       "      <td>1.00</td>\n",
       "    </tr>\n",
       "    <tr>\n",
       "      <th>4w</th>\n",
       "      <td>0.865</td>\n",
       "      <td>0.865</td>\n",
       "      <td>1.0</td>\n",
       "      <td>1.00</td>\n",
       "      <td>1.00</td>\n",
       "    </tr>\n",
       "    <tr>\n",
       "      <th>5</th>\n",
       "      <td>0.955</td>\n",
       "      <td>0.960</td>\n",
       "      <td>1.0</td>\n",
       "      <td>1.00</td>\n",
       "      <td>1.00</td>\n",
       "    </tr>\n",
       "    <tr>\n",
       "      <th>5w</th>\n",
       "      <td>0.845</td>\n",
       "      <td>0.840</td>\n",
       "      <td>1.0</td>\n",
       "      <td>1.00</td>\n",
       "      <td>1.00</td>\n",
       "    </tr>\n",
       "    <tr>\n",
       "      <th>6</th>\n",
       "      <td>0.840</td>\n",
       "      <td>0.835</td>\n",
       "      <td>1.0</td>\n",
       "      <td>1.00</td>\n",
       "      <td>1.00</td>\n",
       "    </tr>\n",
       "    <tr>\n",
       "      <th>6w</th>\n",
       "      <td>0.735</td>\n",
       "      <td>0.760</td>\n",
       "      <td>1.0</td>\n",
       "      <td>1.00</td>\n",
       "      <td>1.00</td>\n",
       "    </tr>\n",
       "    <tr>\n",
       "      <th>8</th>\n",
       "      <td>0.805</td>\n",
       "      <td>0.790</td>\n",
       "      <td>1.0</td>\n",
       "      <td>1.00</td>\n",
       "      <td>1.00</td>\n",
       "    </tr>\n",
       "    <tr>\n",
       "      <th>8w</th>\n",
       "      <td>0.650</td>\n",
       "      <td>0.675</td>\n",
       "      <td>1.0</td>\n",
       "      <td>0.98</td>\n",
       "      <td>0.98</td>\n",
       "    </tr>\n",
       "  </tbody>\n",
       "</table>\n",
       "</div>"
      ],
      "text/plain": [
       "        QAOA  TQA-QAOA  WS-QAOA  R-QAOA  WS-R-QAOA\n",
       "Graph                                             \n",
       "4      0.935     0.875      1.0    1.00       1.00\n",
       "4w     0.865     0.865      1.0    1.00       1.00\n",
       "5      0.955     0.960      1.0    1.00       1.00\n",
       "5w     0.845     0.840      1.0    1.00       1.00\n",
       "6      0.840     0.835      1.0    1.00       1.00\n",
       "6w     0.735     0.760      1.0    1.00       1.00\n",
       "8      0.805     0.790      1.0    1.00       1.00\n",
       "8w     0.650     0.675      1.0    0.98       0.98"
      ]
     },
     "execution_count": 38,
     "metadata": {},
     "output_type": "execute_result"
    }
   ],
   "source": [
    "sim_aqt_data = load_all_data(\"simulator_aqt/notebooks\")\n",
    "sim_aqt_ar_df = create_ar_df(sim_aqt_data)\n",
    "sim_aqt_ar_df"
   ]
  },
  {
   "cell_type": "code",
   "execution_count": 39,
   "id": "f811cf20",
   "metadata": {},
   "outputs": [
    {
     "name": "stdout",
     "output_type": "stream",
     "text": [
      "\\begin{tabular}{lrrrrr}\n",
      "\\toprule\n",
      "{} &   QAOA &  TQA-QAOA &  WS-QAOA &  R-QAOA &  WS-R-QAOA \\\\\n",
      "Graph &        &           &          &         &            \\\\\n",
      "\\midrule\n",
      "4     &  0.935 &     0.875 &      1.0 &    1.00 &       1.00 \\\\\n",
      "4w    &  0.865 &     0.865 &      1.0 &    1.00 &       1.00 \\\\\n",
      "5     &  0.955 &     0.960 &      1.0 &    1.00 &       1.00 \\\\\n",
      "5w    &  0.845 &     0.840 &      1.0 &    1.00 &       1.00 \\\\\n",
      "6     &  0.840 &     0.835 &      1.0 &    1.00 &       1.00 \\\\\n",
      "6w    &  0.735 &     0.760 &      1.0 &    1.00 &       1.00 \\\\\n",
      "8     &  0.805 &     0.790 &      1.0 &    1.00 &       1.00 \\\\\n",
      "8w    &  0.650 &     0.675 &      1.0 &    0.98 &       0.98 \\\\\n",
      "\\bottomrule\n",
      "\\end{tabular}\n",
      "\n"
     ]
    }
   ],
   "source": [
    "print(sim_aqt_ar_df.to_latex())"
   ]
  },
  {
   "cell_type": "markdown",
   "id": "ba6fc641",
   "metadata": {},
   "source": [
    "### Simulation AQT with fixed points"
   ]
  },
  {
   "cell_type": "code",
   "execution_count": 40,
   "id": "3f4eb416",
   "metadata": {},
   "outputs": [
    {
     "data": {
      "text/html": [
       "<div>\n",
       "<style scoped>\n",
       "    .dataframe tbody tr th:only-of-type {\n",
       "        vertical-align: middle;\n",
       "    }\n",
       "\n",
       "    .dataframe tbody tr th {\n",
       "        vertical-align: top;\n",
       "    }\n",
       "\n",
       "    .dataframe thead th {\n",
       "        text-align: right;\n",
       "    }\n",
       "</style>\n",
       "<table border=\"1\" class=\"dataframe\">\n",
       "  <thead>\n",
       "    <tr style=\"text-align: right;\">\n",
       "      <th></th>\n",
       "      <th>QAOA</th>\n",
       "      <th>TQA-QAOA</th>\n",
       "      <th>WS-QAOA</th>\n",
       "      <th>R-QAOA</th>\n",
       "      <th>WS-R-QAOA</th>\n",
       "    </tr>\n",
       "    <tr>\n",
       "      <th>Graph</th>\n",
       "      <th></th>\n",
       "      <th></th>\n",
       "      <th></th>\n",
       "      <th></th>\n",
       "      <th></th>\n",
       "    </tr>\n",
       "  </thead>\n",
       "  <tbody>\n",
       "    <tr>\n",
       "      <th>4</th>\n",
       "      <td>1.000</td>\n",
       "      <td>1.000</td>\n",
       "      <td>1.0</td>\n",
       "      <td>1.00</td>\n",
       "      <td>1.00</td>\n",
       "    </tr>\n",
       "    <tr>\n",
       "      <th>4w</th>\n",
       "      <td>0.955</td>\n",
       "      <td>0.955</td>\n",
       "      <td>1.0</td>\n",
       "      <td>1.00</td>\n",
       "      <td>1.00</td>\n",
       "    </tr>\n",
       "    <tr>\n",
       "      <th>5</th>\n",
       "      <td>1.000</td>\n",
       "      <td>1.000</td>\n",
       "      <td>1.0</td>\n",
       "      <td>1.00</td>\n",
       "      <td>1.00</td>\n",
       "    </tr>\n",
       "    <tr>\n",
       "      <th>5w</th>\n",
       "      <td>0.940</td>\n",
       "      <td>0.935</td>\n",
       "      <td>1.0</td>\n",
       "      <td>0.98</td>\n",
       "      <td>1.00</td>\n",
       "    </tr>\n",
       "    <tr>\n",
       "      <th>6</th>\n",
       "      <td>0.950</td>\n",
       "      <td>0.955</td>\n",
       "      <td>1.0</td>\n",
       "      <td>0.43</td>\n",
       "      <td>1.00</td>\n",
       "    </tr>\n",
       "    <tr>\n",
       "      <th>6w</th>\n",
       "      <td>0.880</td>\n",
       "      <td>0.880</td>\n",
       "      <td>1.0</td>\n",
       "      <td>1.00</td>\n",
       "      <td>1.00</td>\n",
       "    </tr>\n",
       "    <tr>\n",
       "      <th>8</th>\n",
       "      <td>0.900</td>\n",
       "      <td>0.900</td>\n",
       "      <td>1.0</td>\n",
       "      <td>0.80</td>\n",
       "      <td>1.00</td>\n",
       "    </tr>\n",
       "    <tr>\n",
       "      <th>8w</th>\n",
       "      <td>0.825</td>\n",
       "      <td>0.825</td>\n",
       "      <td>1.0</td>\n",
       "      <td>1.00</td>\n",
       "      <td>0.98</td>\n",
       "    </tr>\n",
       "  </tbody>\n",
       "</table>\n",
       "</div>"
      ],
      "text/plain": [
       "        QAOA  TQA-QAOA  WS-QAOA  R-QAOA  WS-R-QAOA\n",
       "Graph                                             \n",
       "4      1.000     1.000      1.0    1.00       1.00\n",
       "4w     0.955     0.955      1.0    1.00       1.00\n",
       "5      1.000     1.000      1.0    1.00       1.00\n",
       "5w     0.940     0.935      1.0    0.98       1.00\n",
       "6      0.950     0.955      1.0    0.43       1.00\n",
       "6w     0.880     0.880      1.0    1.00       1.00\n",
       "8      0.900     0.900      1.0    0.80       1.00\n",
       "8w     0.825     0.825      1.0    1.00       0.98"
      ]
     },
     "execution_count": 40,
     "metadata": {},
     "output_type": "execute_result"
    }
   ],
   "source": [
    "sim_aqt_init_data = load_all_data(\"simulator_aqt_init/notebooks\")\n",
    "sim_aqt_init_ar_df = create_ar_df(sim_aqt_init_data)\n",
    "sim_aqt_init_ar_df"
   ]
  },
  {
   "cell_type": "code",
   "execution_count": 41,
   "id": "5d81317a",
   "metadata": {},
   "outputs": [
    {
     "name": "stdout",
     "output_type": "stream",
     "text": [
      "\\begin{tabular}{lrrrrr}\n",
      "\\toprule\n",
      "{} &   QAOA &  TQA-QAOA &  WS-QAOA &  R-QAOA &  WS-R-QAOA \\\\\n",
      "Graph &        &           &          &         &            \\\\\n",
      "\\midrule\n",
      "4     &  1.000 &     1.000 &      1.0 &    1.00 &       1.00 \\\\\n",
      "4w    &  0.955 &     0.955 &      1.0 &    1.00 &       1.00 \\\\\n",
      "5     &  1.000 &     1.000 &      1.0 &    1.00 &       1.00 \\\\\n",
      "5w    &  0.940 &     0.935 &      1.0 &    0.98 &       1.00 \\\\\n",
      "6     &  0.950 &     0.955 &      1.0 &    0.43 &       1.00 \\\\\n",
      "6w    &  0.880 &     0.880 &      1.0 &    1.00 &       1.00 \\\\\n",
      "8     &  0.900 &     0.900 &      1.0 &    0.80 &       1.00 \\\\\n",
      "8w    &  0.825 &     0.825 &      1.0 &    1.00 &       0.98 \\\\\n",
      "\\bottomrule\n",
      "\\end{tabular}\n",
      "\n"
     ]
    }
   ],
   "source": [
    "print(sim_aqt_init_ar_df.to_latex())"
   ]
  },
  {
   "cell_type": "markdown",
   "id": "c01eb9b0",
   "metadata": {},
   "source": [
    "### Noise AQT with fixed points"
   ]
  },
  {
   "cell_type": "code",
   "execution_count": 42,
   "id": "f267852c",
   "metadata": {},
   "outputs": [
    {
     "data": {
      "text/html": [
       "<div>\n",
       "<style scoped>\n",
       "    .dataframe tbody tr th:only-of-type {\n",
       "        vertical-align: middle;\n",
       "    }\n",
       "\n",
       "    .dataframe tbody tr th {\n",
       "        vertical-align: top;\n",
       "    }\n",
       "\n",
       "    .dataframe thead th {\n",
       "        text-align: right;\n",
       "    }\n",
       "</style>\n",
       "<table border=\"1\" class=\"dataframe\">\n",
       "  <thead>\n",
       "    <tr style=\"text-align: right;\">\n",
       "      <th></th>\n",
       "      <th>QAOA</th>\n",
       "      <th>TQA-QAOA</th>\n",
       "      <th>WS-QAOA</th>\n",
       "      <th>R-QAOA</th>\n",
       "      <th>WS-R-QAOA</th>\n",
       "    </tr>\n",
       "    <tr>\n",
       "      <th>Graph</th>\n",
       "      <th></th>\n",
       "      <th></th>\n",
       "      <th></th>\n",
       "      <th></th>\n",
       "      <th></th>\n",
       "    </tr>\n",
       "  </thead>\n",
       "  <tbody>\n",
       "    <tr>\n",
       "      <th>4</th>\n",
       "      <td>0.830</td>\n",
       "      <td>0.595</td>\n",
       "      <td>0.890</td>\n",
       "      <td>1.000</td>\n",
       "      <td>1.0</td>\n",
       "    </tr>\n",
       "    <tr>\n",
       "      <th>4w</th>\n",
       "      <td>0.795</td>\n",
       "      <td>0.665</td>\n",
       "      <td>0.850</td>\n",
       "      <td>0.975</td>\n",
       "      <td>1.0</td>\n",
       "    </tr>\n",
       "    <tr>\n",
       "      <th>5</th>\n",
       "      <td>0.850</td>\n",
       "      <td>0.660</td>\n",
       "      <td>0.865</td>\n",
       "      <td>1.000</td>\n",
       "      <td>1.0</td>\n",
       "    </tr>\n",
       "    <tr>\n",
       "      <th>5w</th>\n",
       "      <td>0.825</td>\n",
       "      <td>0.625</td>\n",
       "      <td>0.805</td>\n",
       "      <td>0.910</td>\n",
       "      <td>1.0</td>\n",
       "    </tr>\n",
       "    <tr>\n",
       "      <th>6</th>\n",
       "      <td>0.750</td>\n",
       "      <td>0.565</td>\n",
       "      <td>0.775</td>\n",
       "      <td>0.430</td>\n",
       "      <td>1.0</td>\n",
       "    </tr>\n",
       "    <tr>\n",
       "      <th>6w</th>\n",
       "      <td>0.735</td>\n",
       "      <td>0.625</td>\n",
       "      <td>0.785</td>\n",
       "      <td>1.000</td>\n",
       "      <td>1.0</td>\n",
       "    </tr>\n",
       "    <tr>\n",
       "      <th>8</th>\n",
       "      <td>0.735</td>\n",
       "      <td>0.535</td>\n",
       "      <td>0.745</td>\n",
       "      <td>0.825</td>\n",
       "      <td>1.0</td>\n",
       "    </tr>\n",
       "    <tr>\n",
       "      <th>8w</th>\n",
       "      <td>0.700</td>\n",
       "      <td>0.565</td>\n",
       "      <td>0.740</td>\n",
       "      <td>0.990</td>\n",
       "      <td>1.0</td>\n",
       "    </tr>\n",
       "  </tbody>\n",
       "</table>\n",
       "</div>"
      ],
      "text/plain": [
       "        QAOA  TQA-QAOA  WS-QAOA  R-QAOA  WS-R-QAOA\n",
       "Graph                                             \n",
       "4      0.830     0.595    0.890   1.000        1.0\n",
       "4w     0.795     0.665    0.850   0.975        1.0\n",
       "5      0.850     0.660    0.865   1.000        1.0\n",
       "5w     0.825     0.625    0.805   0.910        1.0\n",
       "6      0.750     0.565    0.775   0.430        1.0\n",
       "6w     0.735     0.625    0.785   1.000        1.0\n",
       "8      0.735     0.535    0.745   0.825        1.0\n",
       "8w     0.700     0.565    0.740   0.990        1.0"
      ]
     },
     "execution_count": 42,
     "metadata": {},
     "output_type": "execute_result"
    }
   ],
   "source": [
    "noise_aqt_init_data = load_all_data(\"noise_aqt/notebooks\")\n",
    "noise_aqt_init_ar_df = create_ar_df(noise_aqt_init_data)\n",
    "noise_aqt_init_ar_df"
   ]
  },
  {
   "cell_type": "code",
   "execution_count": 43,
   "id": "03244e0e",
   "metadata": {},
   "outputs": [
    {
     "name": "stdout",
     "output_type": "stream",
     "text": [
      "\\begin{tabular}{lrrrrr}\n",
      "\\toprule\n",
      "{} &   QAOA &  TQA-QAOA &  WS-QAOA &  R-QAOA &  WS-R-QAOA \\\\\n",
      "Graph &        &           &          &         &            \\\\\n",
      "\\midrule\n",
      "4     &  0.830 &     0.595 &    0.890 &   1.000 &        1.0 \\\\\n",
      "4w    &  0.795 &     0.665 &    0.850 &   0.975 &        1.0 \\\\\n",
      "5     &  0.850 &     0.660 &    0.865 &   1.000 &        1.0 \\\\\n",
      "5w    &  0.825 &     0.625 &    0.805 &   0.910 &        1.0 \\\\\n",
      "6     &  0.750 &     0.565 &    0.775 &   0.430 &        1.0 \\\\\n",
      "6w    &  0.735 &     0.625 &    0.785 &   1.000 &        1.0 \\\\\n",
      "8     &  0.735 &     0.535 &    0.745 &   0.825 &        1.0 \\\\\n",
      "8w    &  0.700 &     0.565 &    0.740 &   0.990 &        1.0 \\\\\n",
      "\\bottomrule\n",
      "\\end{tabular}\n",
      "\n"
     ]
    }
   ],
   "source": [
    "print(noise_aqt_init_ar_df.to_latex())"
   ]
  },
  {
   "cell_type": "markdown",
   "id": "5e863b48",
   "metadata": {},
   "source": [
    "### Noise AQT SPAMEM with fixed points"
   ]
  },
  {
   "cell_type": "code",
   "execution_count": 44,
   "id": "1cd119ad",
   "metadata": {},
   "outputs": [
    {
     "data": {
      "text/html": [
       "<div>\n",
       "<style scoped>\n",
       "    .dataframe tbody tr th:only-of-type {\n",
       "        vertical-align: middle;\n",
       "    }\n",
       "\n",
       "    .dataframe tbody tr th {\n",
       "        vertical-align: top;\n",
       "    }\n",
       "\n",
       "    .dataframe thead th {\n",
       "        text-align: right;\n",
       "    }\n",
       "</style>\n",
       "<table border=\"1\" class=\"dataframe\">\n",
       "  <thead>\n",
       "    <tr style=\"text-align: right;\">\n",
       "      <th></th>\n",
       "      <th>QAOA</th>\n",
       "      <th>TQA-QAOA</th>\n",
       "      <th>WS-QAOA</th>\n",
       "      <th>R-QAOA</th>\n",
       "      <th>WS-R-QAOA</th>\n",
       "    </tr>\n",
       "    <tr>\n",
       "      <th>Graph</th>\n",
       "      <th></th>\n",
       "      <th></th>\n",
       "      <th></th>\n",
       "      <th></th>\n",
       "      <th></th>\n",
       "    </tr>\n",
       "  </thead>\n",
       "  <tbody>\n",
       "    <tr>\n",
       "      <th>4</th>\n",
       "      <td>0.840</td>\n",
       "      <td>0.595</td>\n",
       "      <td>0.590</td>\n",
       "      <td>1.000</td>\n",
       "      <td>1.0</td>\n",
       "    </tr>\n",
       "    <tr>\n",
       "      <th>4w</th>\n",
       "      <td>0.800</td>\n",
       "      <td>0.665</td>\n",
       "      <td>0.425</td>\n",
       "      <td>0.900</td>\n",
       "      <td>1.0</td>\n",
       "    </tr>\n",
       "    <tr>\n",
       "      <th>5</th>\n",
       "      <td>0.860</td>\n",
       "      <td>0.660</td>\n",
       "      <td>0.650</td>\n",
       "      <td>1.000</td>\n",
       "      <td>1.0</td>\n",
       "    </tr>\n",
       "    <tr>\n",
       "      <th>5w</th>\n",
       "      <td>0.815</td>\n",
       "      <td>0.630</td>\n",
       "      <td>0.605</td>\n",
       "      <td>0.925</td>\n",
       "      <td>1.0</td>\n",
       "    </tr>\n",
       "    <tr>\n",
       "      <th>6</th>\n",
       "      <td>0.755</td>\n",
       "      <td>0.565</td>\n",
       "      <td>0.515</td>\n",
       "      <td>0.430</td>\n",
       "      <td>1.0</td>\n",
       "    </tr>\n",
       "    <tr>\n",
       "      <th>6w</th>\n",
       "      <td>0.735</td>\n",
       "      <td>0.630</td>\n",
       "      <td>0.590</td>\n",
       "      <td>1.000</td>\n",
       "      <td>1.0</td>\n",
       "    </tr>\n",
       "    <tr>\n",
       "      <th>8</th>\n",
       "      <td>0.735</td>\n",
       "      <td>0.535</td>\n",
       "      <td>0.495</td>\n",
       "      <td>0.750</td>\n",
       "      <td>1.0</td>\n",
       "    </tr>\n",
       "    <tr>\n",
       "      <th>8w</th>\n",
       "      <td>0.705</td>\n",
       "      <td>0.565</td>\n",
       "      <td>0.560</td>\n",
       "      <td>0.990</td>\n",
       "      <td>1.0</td>\n",
       "    </tr>\n",
       "  </tbody>\n",
       "</table>\n",
       "</div>"
      ],
      "text/plain": [
       "        QAOA  TQA-QAOA  WS-QAOA  R-QAOA  WS-R-QAOA\n",
       "Graph                                             \n",
       "4      0.840     0.595    0.590   1.000        1.0\n",
       "4w     0.800     0.665    0.425   0.900        1.0\n",
       "5      0.860     0.660    0.650   1.000        1.0\n",
       "5w     0.815     0.630    0.605   0.925        1.0\n",
       "6      0.755     0.565    0.515   0.430        1.0\n",
       "6w     0.735     0.630    0.590   1.000        1.0\n",
       "8      0.735     0.535    0.495   0.750        1.0\n",
       "8w     0.705     0.565    0.560   0.990        1.0"
      ]
     },
     "execution_count": 44,
     "metadata": {},
     "output_type": "execute_result"
    }
   ],
   "source": [
    "noise_aqt_init_em_data = load_all_data(\"noise_aqt_em/notebooks\")\n",
    "noise_aqt_init_em_ar_df = create_ar_df(noise_aqt_init_em_data)\n",
    "noise_aqt_init_em_ar_df"
   ]
  },
  {
   "cell_type": "code",
   "execution_count": 45,
   "id": "ace3bd19",
   "metadata": {
    "scrolled": true
   },
   "outputs": [
    {
     "name": "stdout",
     "output_type": "stream",
     "text": [
      "\\begin{tabular}{lrrrrr}\n",
      "\\toprule\n",
      "{} &   QAOA &  TQA-QAOA &  WS-QAOA &  R-QAOA &  WS-R-QAOA \\\\\n",
      "Graph &        &           &          &         &            \\\\\n",
      "\\midrule\n",
      "4     &  0.840 &     0.595 &    0.590 &   1.000 &        1.0 \\\\\n",
      "4w    &  0.800 &     0.665 &    0.425 &   0.900 &        1.0 \\\\\n",
      "5     &  0.860 &     0.660 &    0.650 &   1.000 &        1.0 \\\\\n",
      "5w    &  0.815 &     0.630 &    0.605 &   0.925 &        1.0 \\\\\n",
      "6     &  0.755 &     0.565 &    0.515 &   0.430 &        1.0 \\\\\n",
      "6w    &  0.735 &     0.630 &    0.590 &   1.000 &        1.0 \\\\\n",
      "8     &  0.735 &     0.535 &    0.495 &   0.750 &        1.0 \\\\\n",
      "8w    &  0.705 &     0.565 &    0.560 &   0.990 &        1.0 \\\\\n",
      "\\bottomrule\n",
      "\\end{tabular}\n",
      "\n"
     ]
    }
   ],
   "source": [
    "print(noise_aqt_init_em_ar_df.to_latex())"
   ]
  },
  {
   "cell_type": "markdown",
   "id": "8676a1d0",
   "metadata": {},
   "source": [
    "### Noise AQT GEM with fixed points"
   ]
  },
  {
   "cell_type": "code",
   "execution_count": 46,
   "id": "d6e54638",
   "metadata": {},
   "outputs": [
    {
     "data": {
      "text/html": [
       "<div>\n",
       "<style scoped>\n",
       "    .dataframe tbody tr th:only-of-type {\n",
       "        vertical-align: middle;\n",
       "    }\n",
       "\n",
       "    .dataframe tbody tr th {\n",
       "        vertical-align: top;\n",
       "    }\n",
       "\n",
       "    .dataframe thead th {\n",
       "        text-align: right;\n",
       "    }\n",
       "</style>\n",
       "<table border=\"1\" class=\"dataframe\">\n",
       "  <thead>\n",
       "    <tr style=\"text-align: right;\">\n",
       "      <th></th>\n",
       "      <th>QAOA</th>\n",
       "      <th>TQA-QAOA</th>\n",
       "      <th>WS-QAOA</th>\n",
       "      <th>R-QAOA</th>\n",
       "      <th>WS-R-QAOA</th>\n",
       "    </tr>\n",
       "    <tr>\n",
       "      <th>Graph</th>\n",
       "      <th></th>\n",
       "      <th></th>\n",
       "      <th></th>\n",
       "      <th></th>\n",
       "      <th></th>\n",
       "    </tr>\n",
       "  </thead>\n",
       "  <tbody>\n",
       "    <tr>\n",
       "      <th>4</th>\n",
       "      <td>0.880</td>\n",
       "      <td>0.405</td>\n",
       "      <td>0.895</td>\n",
       "      <td>0.875</td>\n",
       "      <td>1.000</td>\n",
       "    </tr>\n",
       "    <tr>\n",
       "      <th>4w</th>\n",
       "      <td>0.815</td>\n",
       "      <td>0.590</td>\n",
       "      <td>0.995</td>\n",
       "      <td>0.850</td>\n",
       "      <td>0.975</td>\n",
       "    </tr>\n",
       "    <tr>\n",
       "      <th>5</th>\n",
       "      <td>0.830</td>\n",
       "      <td>0.570</td>\n",
       "      <td>0.825</td>\n",
       "      <td>1.000</td>\n",
       "      <td>1.000</td>\n",
       "    </tr>\n",
       "    <tr>\n",
       "      <th>5w</th>\n",
       "      <td>0.870</td>\n",
       "      <td>0.575</td>\n",
       "      <td>0.890</td>\n",
       "      <td>0.600</td>\n",
       "      <td>1.000</td>\n",
       "    </tr>\n",
       "    <tr>\n",
       "      <th>6</th>\n",
       "      <td>0.785</td>\n",
       "      <td>0.360</td>\n",
       "      <td>0.960</td>\n",
       "      <td>0.785</td>\n",
       "      <td>1.000</td>\n",
       "    </tr>\n",
       "    <tr>\n",
       "      <th>6w</th>\n",
       "      <td>0.760</td>\n",
       "      <td>0.570</td>\n",
       "      <td>0.995</td>\n",
       "      <td>0.970</td>\n",
       "      <td>1.000</td>\n",
       "    </tr>\n",
       "    <tr>\n",
       "      <th>8</th>\n",
       "      <td>0.650</td>\n",
       "      <td>0.365</td>\n",
       "      <td>0.975</td>\n",
       "      <td>0.750</td>\n",
       "      <td>1.000</td>\n",
       "    </tr>\n",
       "    <tr>\n",
       "      <th>8w</th>\n",
       "      <td>0.465</td>\n",
       "      <td>0.430</td>\n",
       "      <td>0.970</td>\n",
       "      <td>0.880</td>\n",
       "      <td>1.000</td>\n",
       "    </tr>\n",
       "  </tbody>\n",
       "</table>\n",
       "</div>"
      ],
      "text/plain": [
       "        QAOA  TQA-QAOA  WS-QAOA  R-QAOA  WS-R-QAOA\n",
       "Graph                                             \n",
       "4      0.880     0.405    0.895   0.875      1.000\n",
       "4w     0.815     0.590    0.995   0.850      0.975\n",
       "5      0.830     0.570    0.825   1.000      1.000\n",
       "5w     0.870     0.575    0.890   0.600      1.000\n",
       "6      0.785     0.360    0.960   0.785      1.000\n",
       "6w     0.760     0.570    0.995   0.970      1.000\n",
       "8      0.650     0.365    0.975   0.750      1.000\n",
       "8w     0.465     0.430    0.970   0.880      1.000"
      ]
     },
     "execution_count": 46,
     "metadata": {},
     "output_type": "execute_result"
    }
   ],
   "source": [
    "noise_aqt_init_gem_data = load_all_data(\"noise_aqt_gem/notebooks\")\n",
    "noise_aqt_init_gem_ar_df = create_ar_df(noise_aqt_init_gem_data)\n",
    "noise_aqt_init_gem_ar_df"
   ]
  },
  {
   "cell_type": "code",
   "execution_count": 47,
   "id": "84a4dae5",
   "metadata": {},
   "outputs": [
    {
     "name": "stdout",
     "output_type": "stream",
     "text": [
      "\\begin{tabular}{lrrrrr}\n",
      "\\toprule\n",
      "{} &   QAOA &  TQA-QAOA &  WS-QAOA &  R-QAOA &  WS-R-QAOA \\\\\n",
      "Graph &        &           &          &         &            \\\\\n",
      "\\midrule\n",
      "4     &  0.880 &     0.405 &    0.895 &   0.875 &      1.000 \\\\\n",
      "4w    &  0.815 &     0.590 &    0.995 &   0.850 &      0.975 \\\\\n",
      "5     &  0.830 &     0.570 &    0.825 &   1.000 &      1.000 \\\\\n",
      "5w    &  0.870 &     0.575 &    0.890 &   0.600 &      1.000 \\\\\n",
      "6     &  0.785 &     0.360 &    0.960 &   0.785 &      1.000 \\\\\n",
      "6w    &  0.760 &     0.570 &    0.995 &   0.970 &      1.000 \\\\\n",
      "8     &  0.650 &     0.365 &    0.975 &   0.750 &      1.000 \\\\\n",
      "8w    &  0.465 &     0.430 &    0.970 &   0.880 &      1.000 \\\\\n",
      "\\bottomrule\n",
      "\\end{tabular}\n",
      "\n"
     ]
    }
   ],
   "source": [
    "print(noise_aqt_init_gem_ar_df.to_latex())"
   ]
  },
  {
   "cell_type": "markdown",
   "id": "9c7a5820",
   "metadata": {},
   "source": [
    "### Noise IBM with fixed points"
   ]
  },
  {
   "cell_type": "code",
   "execution_count": 48,
   "id": "35e2ff83",
   "metadata": {},
   "outputs": [
    {
     "data": {
      "text/html": [
       "<div>\n",
       "<style scoped>\n",
       "    .dataframe tbody tr th:only-of-type {\n",
       "        vertical-align: middle;\n",
       "    }\n",
       "\n",
       "    .dataframe tbody tr th {\n",
       "        vertical-align: top;\n",
       "    }\n",
       "\n",
       "    .dataframe thead th {\n",
       "        text-align: right;\n",
       "    }\n",
       "</style>\n",
       "<table border=\"1\" class=\"dataframe\">\n",
       "  <thead>\n",
       "    <tr style=\"text-align: right;\">\n",
       "      <th></th>\n",
       "      <th>QAOA</th>\n",
       "      <th>TQA-QAOA</th>\n",
       "      <th>WS-QAOA</th>\n",
       "      <th>R-QAOA</th>\n",
       "      <th>WS-R-QAOA</th>\n",
       "    </tr>\n",
       "    <tr>\n",
       "      <th>Graph</th>\n",
       "      <th></th>\n",
       "      <th></th>\n",
       "      <th></th>\n",
       "      <th></th>\n",
       "      <th></th>\n",
       "    </tr>\n",
       "  </thead>\n",
       "  <tbody>\n",
       "    <tr>\n",
       "      <th>4</th>\n",
       "      <td>0.830</td>\n",
       "      <td>0.595</td>\n",
       "      <td>0.855</td>\n",
       "      <td>NaN</td>\n",
       "      <td>1.0</td>\n",
       "    </tr>\n",
       "    <tr>\n",
       "      <th>4w</th>\n",
       "      <td>0.790</td>\n",
       "      <td>0.700</td>\n",
       "      <td>0.825</td>\n",
       "      <td>1.000</td>\n",
       "      <td>1.0</td>\n",
       "    </tr>\n",
       "    <tr>\n",
       "      <th>5</th>\n",
       "      <td>0.850</td>\n",
       "      <td>0.645</td>\n",
       "      <td>0.850</td>\n",
       "      <td>1.000</td>\n",
       "      <td>1.0</td>\n",
       "    </tr>\n",
       "    <tr>\n",
       "      <th>5w</th>\n",
       "      <td>0.800</td>\n",
       "      <td>0.660</td>\n",
       "      <td>0.835</td>\n",
       "      <td>0.985</td>\n",
       "      <td>1.0</td>\n",
       "    </tr>\n",
       "    <tr>\n",
       "      <th>6</th>\n",
       "      <td>0.720</td>\n",
       "      <td>0.580</td>\n",
       "      <td>0.715</td>\n",
       "      <td>0.430</td>\n",
       "      <td>1.0</td>\n",
       "    </tr>\n",
       "    <tr>\n",
       "      <th>6w</th>\n",
       "      <td>0.705</td>\n",
       "      <td>0.630</td>\n",
       "      <td>0.715</td>\n",
       "      <td>1.000</td>\n",
       "      <td>1.0</td>\n",
       "    </tr>\n",
       "    <tr>\n",
       "      <th>8</th>\n",
       "      <td>0.655</td>\n",
       "      <td>0.560</td>\n",
       "      <td>0.660</td>\n",
       "      <td>0.800</td>\n",
       "      <td>1.0</td>\n",
       "    </tr>\n",
       "    <tr>\n",
       "      <th>8w</th>\n",
       "      <td>0.625</td>\n",
       "      <td>0.575</td>\n",
       "      <td>0.640</td>\n",
       "      <td>1.000</td>\n",
       "      <td>1.0</td>\n",
       "    </tr>\n",
       "  </tbody>\n",
       "</table>\n",
       "</div>"
      ],
      "text/plain": [
       "        QAOA  TQA-QAOA  WS-QAOA  R-QAOA  WS-R-QAOA\n",
       "Graph                                             \n",
       "4      0.830     0.595    0.855     NaN        1.0\n",
       "4w     0.790     0.700    0.825   1.000        1.0\n",
       "5      0.850     0.645    0.850   1.000        1.0\n",
       "5w     0.800     0.660    0.835   0.985        1.0\n",
       "6      0.720     0.580    0.715   0.430        1.0\n",
       "6w     0.705     0.630    0.715   1.000        1.0\n",
       "8      0.655     0.560    0.660   0.800        1.0\n",
       "8w     0.625     0.575    0.640   1.000        1.0"
      ]
     },
     "execution_count": 48,
     "metadata": {},
     "output_type": "execute_result"
    }
   ],
   "source": [
    "noise_init_data = load_all_data(\"noise_ibm/notebooks\")\n",
    "noise_init_ar_df = create_ar_df(noise_init_data)\n",
    "noise_init_ar_df"
   ]
  },
  {
   "cell_type": "code",
   "execution_count": 49,
   "id": "7d9e5c6d",
   "metadata": {},
   "outputs": [
    {
     "name": "stdout",
     "output_type": "stream",
     "text": [
      "\\begin{tabular}{lrrrrr}\n",
      "\\toprule\n",
      "{} &   QAOA &  TQA-QAOA &  WS-QAOA &  R-QAOA &  WS-R-QAOA \\\\\n",
      "Graph &        &           &          &         &            \\\\\n",
      "\\midrule\n",
      "4     &  0.830 &     0.595 &    0.855 &     NaN &        1.0 \\\\\n",
      "4w    &  0.790 &     0.700 &    0.825 &   1.000 &        1.0 \\\\\n",
      "5     &  0.850 &     0.645 &    0.850 &   1.000 &        1.0 \\\\\n",
      "5w    &  0.800 &     0.660 &    0.835 &   0.985 &        1.0 \\\\\n",
      "6     &  0.720 &     0.580 &    0.715 &   0.430 &        1.0 \\\\\n",
      "6w    &  0.705 &     0.630 &    0.715 &   1.000 &        1.0 \\\\\n",
      "8     &  0.655 &     0.560 &    0.660 &   0.800 &        1.0 \\\\\n",
      "8w    &  0.625 &     0.575 &    0.640 &   1.000 &        1.0 \\\\\n",
      "\\bottomrule\n",
      "\\end{tabular}\n",
      "\n"
     ]
    }
   ],
   "source": [
    "print(noise_init_ar_df.to_latex())"
   ]
  },
  {
   "cell_type": "markdown",
   "id": "ac7f08f6",
   "metadata": {},
   "source": [
    "### Noise IBM SPAMEM with fixed points"
   ]
  },
  {
   "cell_type": "code",
   "execution_count": 50,
   "id": "dcac3de5",
   "metadata": {},
   "outputs": [
    {
     "data": {
      "text/html": [
       "<div>\n",
       "<style scoped>\n",
       "    .dataframe tbody tr th:only-of-type {\n",
       "        vertical-align: middle;\n",
       "    }\n",
       "\n",
       "    .dataframe tbody tr th {\n",
       "        vertical-align: top;\n",
       "    }\n",
       "\n",
       "    .dataframe thead th {\n",
       "        text-align: right;\n",
       "    }\n",
       "</style>\n",
       "<table border=\"1\" class=\"dataframe\">\n",
       "  <thead>\n",
       "    <tr style=\"text-align: right;\">\n",
       "      <th></th>\n",
       "      <th>QAOA</th>\n",
       "      <th>TQA-QAOA</th>\n",
       "      <th>WS-QAOA</th>\n",
       "      <th>R-QAOA</th>\n",
       "      <th>WS-R-QAOA</th>\n",
       "    </tr>\n",
       "    <tr>\n",
       "      <th>Graph</th>\n",
       "      <th></th>\n",
       "      <th></th>\n",
       "      <th></th>\n",
       "      <th></th>\n",
       "      <th></th>\n",
       "    </tr>\n",
       "  </thead>\n",
       "  <tbody>\n",
       "    <tr>\n",
       "      <th>4</th>\n",
       "      <td>0.850</td>\n",
       "      <td>0.580</td>\n",
       "      <td>0.880</td>\n",
       "      <td>NaN</td>\n",
       "      <td>1.0</td>\n",
       "    </tr>\n",
       "    <tr>\n",
       "      <th>4w</th>\n",
       "      <td>0.805</td>\n",
       "      <td>0.705</td>\n",
       "      <td>0.845</td>\n",
       "      <td>1.000</td>\n",
       "      <td>1.0</td>\n",
       "    </tr>\n",
       "    <tr>\n",
       "      <th>5</th>\n",
       "      <td>0.870</td>\n",
       "      <td>0.625</td>\n",
       "      <td>0.850</td>\n",
       "      <td>1.000</td>\n",
       "      <td>1.0</td>\n",
       "    </tr>\n",
       "    <tr>\n",
       "      <th>5w</th>\n",
       "      <td>0.810</td>\n",
       "      <td>0.655</td>\n",
       "      <td>0.850</td>\n",
       "      <td>0.985</td>\n",
       "      <td>1.0</td>\n",
       "    </tr>\n",
       "    <tr>\n",
       "      <th>6</th>\n",
       "      <td>0.730</td>\n",
       "      <td>0.575</td>\n",
       "      <td>0.725</td>\n",
       "      <td>0.430</td>\n",
       "      <td>1.0</td>\n",
       "    </tr>\n",
       "    <tr>\n",
       "      <th>6w</th>\n",
       "      <td>0.715</td>\n",
       "      <td>0.635</td>\n",
       "      <td>0.720</td>\n",
       "      <td>1.000</td>\n",
       "      <td>1.0</td>\n",
       "    </tr>\n",
       "    <tr>\n",
       "      <th>8</th>\n",
       "      <td>0.660</td>\n",
       "      <td>0.560</td>\n",
       "      <td>0.690</td>\n",
       "      <td>0.800</td>\n",
       "      <td>1.0</td>\n",
       "    </tr>\n",
       "    <tr>\n",
       "      <th>8w</th>\n",
       "      <td>0.630</td>\n",
       "      <td>0.575</td>\n",
       "      <td>0.670</td>\n",
       "      <td>1.000</td>\n",
       "      <td>1.0</td>\n",
       "    </tr>\n",
       "  </tbody>\n",
       "</table>\n",
       "</div>"
      ],
      "text/plain": [
       "        QAOA  TQA-QAOA  WS-QAOA  R-QAOA  WS-R-QAOA\n",
       "Graph                                             \n",
       "4      0.850     0.580    0.880     NaN        1.0\n",
       "4w     0.805     0.705    0.845   1.000        1.0\n",
       "5      0.870     0.625    0.850   1.000        1.0\n",
       "5w     0.810     0.655    0.850   0.985        1.0\n",
       "6      0.730     0.575    0.725   0.430        1.0\n",
       "6w     0.715     0.635    0.720   1.000        1.0\n",
       "8      0.660     0.560    0.690   0.800        1.0\n",
       "8w     0.630     0.575    0.670   1.000        1.0"
      ]
     },
     "execution_count": 50,
     "metadata": {},
     "output_type": "execute_result"
    }
   ],
   "source": [
    "noise_init_em_data = load_all_data(\"noise_ibm_em/notebooks\")\n",
    "noise_init_em_ar_df = create_ar_df(noise_init_em_data)\n",
    "noise_init_em_ar_df"
   ]
  },
  {
   "cell_type": "code",
   "execution_count": 51,
   "id": "07858f80",
   "metadata": {},
   "outputs": [
    {
     "name": "stdout",
     "output_type": "stream",
     "text": [
      "\\begin{tabular}{lrrrrr}\n",
      "\\toprule\n",
      "{} &   QAOA &  TQA-QAOA &  WS-QAOA &  R-QAOA &  WS-R-QAOA \\\\\n",
      "Graph &        &           &          &         &            \\\\\n",
      "\\midrule\n",
      "4     &  0.850 &     0.580 &    0.880 &     NaN &        1.0 \\\\\n",
      "4w    &  0.805 &     0.705 &    0.845 &   1.000 &        1.0 \\\\\n",
      "5     &  0.870 &     0.625 &    0.850 &   1.000 &        1.0 \\\\\n",
      "5w    &  0.810 &     0.655 &    0.850 &   0.985 &        1.0 \\\\\n",
      "6     &  0.730 &     0.575 &    0.725 &   0.430 &        1.0 \\\\\n",
      "6w    &  0.715 &     0.635 &    0.720 &   1.000 &        1.0 \\\\\n",
      "8     &  0.660 &     0.560 &    0.690 &   0.800 &        1.0 \\\\\n",
      "8w    &  0.630 &     0.575 &    0.670 &   1.000 &        1.0 \\\\\n",
      "\\bottomrule\n",
      "\\end{tabular}\n",
      "\n"
     ]
    }
   ],
   "source": [
    "print(noise_init_em_ar_df.to_latex())"
   ]
  },
  {
   "cell_type": "markdown",
   "id": "bbb2ab51",
   "metadata": {},
   "source": [
    "### Noise IBM GEM with fixed points"
   ]
  },
  {
   "cell_type": "code",
   "execution_count": 52,
   "id": "429b4fd9",
   "metadata": {},
   "outputs": [
    {
     "data": {
      "text/html": [
       "<div>\n",
       "<style scoped>\n",
       "    .dataframe tbody tr th:only-of-type {\n",
       "        vertical-align: middle;\n",
       "    }\n",
       "\n",
       "    .dataframe tbody tr th {\n",
       "        vertical-align: top;\n",
       "    }\n",
       "\n",
       "    .dataframe thead th {\n",
       "        text-align: right;\n",
       "    }\n",
       "</style>\n",
       "<table border=\"1\" class=\"dataframe\">\n",
       "  <thead>\n",
       "    <tr style=\"text-align: right;\">\n",
       "      <th></th>\n",
       "      <th>QAOA</th>\n",
       "      <th>TQA-QAOA</th>\n",
       "      <th>WS-QAOA</th>\n",
       "      <th>R-QAOA</th>\n",
       "      <th>WS-R-QAOA</th>\n",
       "    </tr>\n",
       "    <tr>\n",
       "      <th>Graph</th>\n",
       "      <th></th>\n",
       "      <th></th>\n",
       "      <th></th>\n",
       "      <th></th>\n",
       "      <th></th>\n",
       "    </tr>\n",
       "  </thead>\n",
       "  <tbody>\n",
       "    <tr>\n",
       "      <th>4</th>\n",
       "      <td>0.945</td>\n",
       "      <td>0.295</td>\n",
       "      <td>0.985</td>\n",
       "      <td>0.000</td>\n",
       "      <td>1.0</td>\n",
       "    </tr>\n",
       "    <tr>\n",
       "      <th>4w</th>\n",
       "      <td>0.905</td>\n",
       "      <td>0.720</td>\n",
       "      <td>0.975</td>\n",
       "      <td>1.000</td>\n",
       "      <td>1.0</td>\n",
       "    </tr>\n",
       "    <tr>\n",
       "      <th>5</th>\n",
       "      <td>0.975</td>\n",
       "      <td>0.465</td>\n",
       "      <td>1.000</td>\n",
       "      <td>1.000</td>\n",
       "      <td>1.0</td>\n",
       "    </tr>\n",
       "    <tr>\n",
       "      <th>5w</th>\n",
       "      <td>0.935</td>\n",
       "      <td>0.610</td>\n",
       "      <td>0.975</td>\n",
       "      <td>0.945</td>\n",
       "      <td>1.0</td>\n",
       "    </tr>\n",
       "    <tr>\n",
       "      <th>6</th>\n",
       "      <td>0.885</td>\n",
       "      <td>0.465</td>\n",
       "      <td>0.940</td>\n",
       "      <td>0.430</td>\n",
       "      <td>1.0</td>\n",
       "    </tr>\n",
       "    <tr>\n",
       "      <th>6w</th>\n",
       "      <td>0.855</td>\n",
       "      <td>0.660</td>\n",
       "      <td>0.935</td>\n",
       "      <td>1.000</td>\n",
       "      <td>1.0</td>\n",
       "    </tr>\n",
       "    <tr>\n",
       "      <th>8</th>\n",
       "      <td>0.790</td>\n",
       "      <td>0.460</td>\n",
       "      <td>0.940</td>\n",
       "      <td>0.750</td>\n",
       "      <td>1.0</td>\n",
       "    </tr>\n",
       "    <tr>\n",
       "      <th>8w</th>\n",
       "      <td>0.745</td>\n",
       "      <td>0.575</td>\n",
       "      <td>0.935</td>\n",
       "      <td>1.000</td>\n",
       "      <td>1.0</td>\n",
       "    </tr>\n",
       "  </tbody>\n",
       "</table>\n",
       "</div>"
      ],
      "text/plain": [
       "        QAOA  TQA-QAOA  WS-QAOA  R-QAOA  WS-R-QAOA\n",
       "Graph                                             \n",
       "4      0.945     0.295    0.985   0.000        1.0\n",
       "4w     0.905     0.720    0.975   1.000        1.0\n",
       "5      0.975     0.465    1.000   1.000        1.0\n",
       "5w     0.935     0.610    0.975   0.945        1.0\n",
       "6      0.885     0.465    0.940   0.430        1.0\n",
       "6w     0.855     0.660    0.935   1.000        1.0\n",
       "8      0.790     0.460    0.940   0.750        1.0\n",
       "8w     0.745     0.575    0.935   1.000        1.0"
      ]
     },
     "execution_count": 52,
     "metadata": {},
     "output_type": "execute_result"
    }
   ],
   "source": [
    "noise_init_gem_data = load_all_data(\"noise_ibm_gem/notebooks\")\n",
    "noise_init_gem_ar_df = create_ar_df(noise_init_gem_data)\n",
    "noise_init_gem_ar_df"
   ]
  },
  {
   "cell_type": "code",
   "execution_count": 53,
   "id": "f90a56ee",
   "metadata": {},
   "outputs": [
    {
     "name": "stdout",
     "output_type": "stream",
     "text": [
      "\\begin{tabular}{lrrrrr}\n",
      "\\toprule\n",
      "{} &   QAOA &  TQA-QAOA &  WS-QAOA &  R-QAOA &  WS-R-QAOA \\\\\n",
      "Graph &        &           &          &         &            \\\\\n",
      "\\midrule\n",
      "4     &  0.945 &     0.295 &    0.985 &   0.000 &        1.0 \\\\\n",
      "4w    &  0.905 &     0.720 &    0.975 &   1.000 &        1.0 \\\\\n",
      "5     &  0.975 &     0.465 &    1.000 &   1.000 &        1.0 \\\\\n",
      "5w    &  0.935 &     0.610 &    0.975 &   0.945 &        1.0 \\\\\n",
      "6     &  0.885 &     0.465 &    0.940 &   0.430 &        1.0 \\\\\n",
      "6w    &  0.855 &     0.660 &    0.935 &   1.000 &        1.0 \\\\\n",
      "8     &  0.790 &     0.460 &    0.940 &   0.750 &        1.0 \\\\\n",
      "8w    &  0.745 &     0.575 &    0.935 &   1.000 &        1.0 \\\\\n",
      "\\bottomrule\n",
      "\\end{tabular}\n",
      "\n"
     ]
    }
   ],
   "source": [
    "print(noise_init_gem_ar_df.to_latex())"
   ]
  },
  {
   "cell_type": "markdown",
   "id": "51fe1a0f",
   "metadata": {},
   "source": [
    "### Vergleich QAOA Varianten (Sim IBM)"
   ]
  },
  {
   "cell_type": "code",
   "execution_count": 54,
   "id": "c63d46bd",
   "metadata": {},
   "outputs": [
    {
     "data": {
      "text/plain": [
       "<AxesSubplot:xlabel='Graph', ylabel='Approximation Ratio'>"
      ]
     },
     "execution_count": 54,
     "metadata": {},
     "output_type": "execute_result"
    },
    {
     "data": {
      "image/png": "[encoded data removed]",
      "text/plain": [
       "<Figure size 432x288 with 1 Axes>"
      ]
     },
     "metadata": {
      "needs_background": "light"
     },
     "output_type": "display_data"
    }
   ],
   "source": [
    "sim_ar_df.plot(marker='.', ylabel=\"Approximation Ratio\", xlabel=\"Graph\")"
   ]
  },
  {
   "cell_type": "markdown",
   "id": "7474cc7a",
   "metadata": {},
   "source": [
    "WS, R, WSR bei allen Graphen gleich gut. "
   ]
  },
  {
   "cell_type": "code",
   "execution_count": 55,
   "id": "7c490b33",
   "metadata": {},
   "outputs": [
    {
     "data": {
      "image/png": "[encoded data removed]",
      "text/plain": [
       "<Figure size 432x288 with 1 Axes>"
      ]
     },
     "metadata": {
      "needs_background": "light"
     },
     "output_type": "display_data"
    }
   ],
   "source": [
    "sim_ar_df.plot(kind=\"bar\", ylim=[0.6,1.05])\n",
    "plt.legend(loc=3)\n",
    "plt.xticks(rotation=0)\n",
    "plt.show()"
   ]
  },
  {
   "cell_type": "code",
   "execution_count": 56,
   "id": "148a2c17",
   "metadata": {},
   "outputs": [
    {
     "data": {
      "text/html": [
       "<div>\n",
       "<style scoped>\n",
       "    .dataframe tbody tr th:only-of-type {\n",
       "        vertical-align: middle;\n",
       "    }\n",
       "\n",
       "    .dataframe tbody tr th {\n",
       "        vertical-align: top;\n",
       "    }\n",
       "\n",
       "    .dataframe thead th {\n",
       "        text-align: right;\n",
       "    }\n",
       "</style>\n",
       "<table border=\"1\" class=\"dataframe\">\n",
       "  <thead>\n",
       "    <tr style=\"text-align: right;\">\n",
       "      <th></th>\n",
       "      <th>QAOA</th>\n",
       "      <th>TQA-QAOA</th>\n",
       "      <th>WS-QAOA</th>\n",
       "      <th>R-QAOA</th>\n",
       "      <th>WS-R-QAOA</th>\n",
       "    </tr>\n",
       "    <tr>\n",
       "      <th>Graph</th>\n",
       "      <th></th>\n",
       "      <th></th>\n",
       "      <th></th>\n",
       "      <th></th>\n",
       "      <th></th>\n",
       "    </tr>\n",
       "  </thead>\n",
       "  <tbody>\n",
       "    <tr>\n",
       "      <th>4</th>\n",
       "      <td>0.965</td>\n",
       "      <td>0.910</td>\n",
       "      <td>1.0</td>\n",
       "      <td>1.0</td>\n",
       "      <td>1.00</td>\n",
       "    </tr>\n",
       "    <tr>\n",
       "      <th>4w</th>\n",
       "      <td>0.890</td>\n",
       "      <td>0.885</td>\n",
       "      <td>1.0</td>\n",
       "      <td>1.0</td>\n",
       "      <td>1.00</td>\n",
       "    </tr>\n",
       "    <tr>\n",
       "      <th>5</th>\n",
       "      <td>0.980</td>\n",
       "      <td>0.980</td>\n",
       "      <td>1.0</td>\n",
       "      <td>1.0</td>\n",
       "      <td>1.00</td>\n",
       "    </tr>\n",
       "    <tr>\n",
       "      <th>5w</th>\n",
       "      <td>0.875</td>\n",
       "      <td>0.875</td>\n",
       "      <td>1.0</td>\n",
       "      <td>1.0</td>\n",
       "      <td>1.00</td>\n",
       "    </tr>\n",
       "    <tr>\n",
       "      <th>6</th>\n",
       "      <td>0.880</td>\n",
       "      <td>0.890</td>\n",
       "      <td>1.0</td>\n",
       "      <td>1.0</td>\n",
       "      <td>1.00</td>\n",
       "    </tr>\n",
       "    <tr>\n",
       "      <th>6w</th>\n",
       "      <td>0.770</td>\n",
       "      <td>0.785</td>\n",
       "      <td>1.0</td>\n",
       "      <td>1.0</td>\n",
       "      <td>1.00</td>\n",
       "    </tr>\n",
       "    <tr>\n",
       "      <th>8</th>\n",
       "      <td>0.845</td>\n",
       "      <td>0.835</td>\n",
       "      <td>1.0</td>\n",
       "      <td>1.0</td>\n",
       "      <td>1.00</td>\n",
       "    </tr>\n",
       "    <tr>\n",
       "      <th>8w</th>\n",
       "      <td>0.670</td>\n",
       "      <td>0.715</td>\n",
       "      <td>1.0</td>\n",
       "      <td>1.0</td>\n",
       "      <td>0.98</td>\n",
       "    </tr>\n",
       "  </tbody>\n",
       "</table>\n",
       "</div>"
      ],
      "text/plain": [
       "        QAOA  TQA-QAOA  WS-QAOA  R-QAOA  WS-R-QAOA\n",
       "Graph                                             \n",
       "4      0.965     0.910      1.0     1.0       1.00\n",
       "4w     0.890     0.885      1.0     1.0       1.00\n",
       "5      0.980     0.980      1.0     1.0       1.00\n",
       "5w     0.875     0.875      1.0     1.0       1.00\n",
       "6      0.880     0.890      1.0     1.0       1.00\n",
       "6w     0.770     0.785      1.0     1.0       1.00\n",
       "8      0.845     0.835      1.0     1.0       1.00\n",
       "8w     0.670     0.715      1.0     1.0       0.98"
      ]
     },
     "execution_count": 56,
     "metadata": {},
     "output_type": "execute_result"
    }
   ],
   "source": [
    "sim_ar_df"
   ]
  },
  {
   "cell_type": "code",
   "execution_count": 57,
   "id": "a7cea75f",
   "metadata": {},
   "outputs": [
    {
     "name": "stdout",
     "output_type": "stream",
     "text": [
      "\\begin{tabular}{lrrrrr}\n",
      "\\toprule\n",
      "{} &   QAOA &  TQA-QAOA &  WS-QAOA &  R-QAOA &  WS-R-QAOA \\\\\n",
      "Graph &        &           &          &         &            \\\\\n",
      "\\midrule\n",
      "4     &  0.965 &     0.910 &      1.0 &     1.0 &       1.00 \\\\\n",
      "4w    &  0.890 &     0.885 &      1.0 &     1.0 &       1.00 \\\\\n",
      "5     &  0.980 &     0.980 &      1.0 &     1.0 &       1.00 \\\\\n",
      "5w    &  0.875 &     0.875 &      1.0 &     1.0 &       1.00 \\\\\n",
      "6     &  0.880 &     0.890 &      1.0 &     1.0 &       1.00 \\\\\n",
      "6w    &  0.770 &     0.785 &      1.0 &     1.0 &       1.00 \\\\\n",
      "8     &  0.845 &     0.835 &      1.0 &     1.0 &       1.00 \\\\\n",
      "8w    &  0.670 &     0.715 &      1.0 &     1.0 &       0.98 \\\\\n",
      "\\bottomrule\n",
      "\\end{tabular}\n",
      "\n"
     ]
    }
   ],
   "source": [
    "print(sim_ar_df.to_latex())"
   ]
  },
  {
   "cell_type": "markdown",
   "id": "715df1e4",
   "metadata": {},
   "source": [
    "### Vergleich QAOA Varianten (Sim AQT)"
   ]
  },
  {
   "cell_type": "code",
   "execution_count": 58,
   "id": "e0b77dd7",
   "metadata": {},
   "outputs": [
    {
     "data": {
      "image/png": "[encoded data removed]",
      "text/plain": [
       "<Figure size 432x288 with 1 Axes>"
      ]
     },
     "metadata": {
      "needs_background": "light"
     },
     "output_type": "display_data"
    }
   ],
   "source": [
    "sim_aqt_ar_df.plot(kind=\"bar\", ylim=[0.6,1.05])\n",
    "plt.legend(loc=3)\n",
    "plt.xticks(rotation=0)\n",
    "plt.show()"
   ]
  },
  {
   "cell_type": "code",
   "execution_count": 59,
   "id": "59f28c9a",
   "metadata": {},
   "outputs": [
    {
     "data": {
      "text/plain": [
       "<AxesSubplot:xlabel='Graph', ylabel='Approximation Ratio'>"
      ]
     },
     "execution_count": 59,
     "metadata": {},
     "output_type": "execute_result"
    },
    {
     "data": {
      "image/png": "[encoded data removed]",
      "text/plain": [
       "<Figure size 432x288 with 1 Axes>"
      ]
     },
     "metadata": {
      "needs_background": "light"
     },
     "output_type": "display_data"
    }
   ],
   "source": [
    "sim_aqt_ar_df.plot(marker='.', ylabel=\"Approximation Ratio\", xlabel=\"Graph\")"
   ]
  },
  {
   "cell_type": "code",
   "execution_count": 60,
   "id": "5dc4dcdd",
   "metadata": {},
   "outputs": [
    {
     "data": {
      "text/html": [
       "<div>\n",
       "<style scoped>\n",
       "    .dataframe tbody tr th:only-of-type {\n",
       "        vertical-align: middle;\n",
       "    }\n",
       "\n",
       "    .dataframe tbody tr th {\n",
       "        vertical-align: top;\n",
       "    }\n",
       "\n",
       "    .dataframe thead th {\n",
       "        text-align: right;\n",
       "    }\n",
       "</style>\n",
       "<table border=\"1\" class=\"dataframe\">\n",
       "  <thead>\n",
       "    <tr style=\"text-align: right;\">\n",
       "      <th></th>\n",
       "      <th>QAOA</th>\n",
       "      <th>TQA-QAOA</th>\n",
       "      <th>WS-QAOA</th>\n",
       "      <th>R-QAOA</th>\n",
       "      <th>WS-R-QAOA</th>\n",
       "    </tr>\n",
       "    <tr>\n",
       "      <th>Graph</th>\n",
       "      <th></th>\n",
       "      <th></th>\n",
       "      <th></th>\n",
       "      <th></th>\n",
       "      <th></th>\n",
       "    </tr>\n",
       "  </thead>\n",
       "  <tbody>\n",
       "    <tr>\n",
       "      <th>4</th>\n",
       "      <td>0.935</td>\n",
       "      <td>0.875</td>\n",
       "      <td>1.0</td>\n",
       "      <td>1.00</td>\n",
       "      <td>1.00</td>\n",
       "    </tr>\n",
       "    <tr>\n",
       "      <th>4w</th>\n",
       "      <td>0.865</td>\n",
       "      <td>0.865</td>\n",
       "      <td>1.0</td>\n",
       "      <td>1.00</td>\n",
       "      <td>1.00</td>\n",
       "    </tr>\n",
       "    <tr>\n",
       "      <th>5</th>\n",
       "      <td>0.955</td>\n",
       "      <td>0.960</td>\n",
       "      <td>1.0</td>\n",
       "      <td>1.00</td>\n",
       "      <td>1.00</td>\n",
       "    </tr>\n",
       "    <tr>\n",
       "      <th>5w</th>\n",
       "      <td>0.845</td>\n",
       "      <td>0.840</td>\n",
       "      <td>1.0</td>\n",
       "      <td>1.00</td>\n",
       "      <td>1.00</td>\n",
       "    </tr>\n",
       "    <tr>\n",
       "      <th>6</th>\n",
       "      <td>0.840</td>\n",
       "      <td>0.835</td>\n",
       "      <td>1.0</td>\n",
       "      <td>1.00</td>\n",
       "      <td>1.00</td>\n",
       "    </tr>\n",
       "    <tr>\n",
       "      <th>6w</th>\n",
       "      <td>0.735</td>\n",
       "      <td>0.760</td>\n",
       "      <td>1.0</td>\n",
       "      <td>1.00</td>\n",
       "      <td>1.00</td>\n",
       "    </tr>\n",
       "    <tr>\n",
       "      <th>8</th>\n",
       "      <td>0.805</td>\n",
       "      <td>0.790</td>\n",
       "      <td>1.0</td>\n",
       "      <td>1.00</td>\n",
       "      <td>1.00</td>\n",
       "    </tr>\n",
       "    <tr>\n",
       "      <th>8w</th>\n",
       "      <td>0.650</td>\n",
       "      <td>0.675</td>\n",
       "      <td>1.0</td>\n",
       "      <td>0.98</td>\n",
       "      <td>0.98</td>\n",
       "    </tr>\n",
       "  </tbody>\n",
       "</table>\n",
       "</div>"
      ],
      "text/plain": [
       "        QAOA  TQA-QAOA  WS-QAOA  R-QAOA  WS-R-QAOA\n",
       "Graph                                             \n",
       "4      0.935     0.875      1.0    1.00       1.00\n",
       "4w     0.865     0.865      1.0    1.00       1.00\n",
       "5      0.955     0.960      1.0    1.00       1.00\n",
       "5w     0.845     0.840      1.0    1.00       1.00\n",
       "6      0.840     0.835      1.0    1.00       1.00\n",
       "6w     0.735     0.760      1.0    1.00       1.00\n",
       "8      0.805     0.790      1.0    1.00       1.00\n",
       "8w     0.650     0.675      1.0    0.98       0.98"
      ]
     },
     "execution_count": 60,
     "metadata": {},
     "output_type": "execute_result"
    }
   ],
   "source": [
    "sim_aqt_ar_df"
   ]
  },
  {
   "cell_type": "code",
   "execution_count": 61,
   "id": "830beaa2",
   "metadata": {},
   "outputs": [
    {
     "name": "stdout",
     "output_type": "stream",
     "text": [
      "\\begin{tabular}{lrrrrr}\n",
      "\\toprule\n",
      "{} &   QAOA &  TQA-QAOA &  WS-QAOA &  R-QAOA &  WS-R-QAOA \\\\\n",
      "Graph &        &           &          &         &            \\\\\n",
      "\\midrule\n",
      "4     &  0.935 &     0.875 &      1.0 &    1.00 &       1.00 \\\\\n",
      "4w    &  0.865 &     0.865 &      1.0 &    1.00 &       1.00 \\\\\n",
      "5     &  0.955 &     0.960 &      1.0 &    1.00 &       1.00 \\\\\n",
      "5w    &  0.845 &     0.840 &      1.0 &    1.00 &       1.00 \\\\\n",
      "6     &  0.840 &     0.835 &      1.0 &    1.00 &       1.00 \\\\\n",
      "6w    &  0.735 &     0.760 &      1.0 &    1.00 &       1.00 \\\\\n",
      "8     &  0.805 &     0.790 &      1.0 &    1.00 &       1.00 \\\\\n",
      "8w    &  0.650 &     0.675 &      1.0 &    0.98 &       0.98 \\\\\n",
      "\\bottomrule\n",
      "\\end{tabular}\n",
      "\n"
     ]
    }
   ],
   "source": [
    "print(sim_aqt_ar_df.to_latex())"
   ]
  },
  {
   "cell_type": "code",
   "execution_count": 62,
   "id": "5b48c6aa",
   "metadata": {},
   "outputs": [
    {
     "data": {
      "image/png": "[encoded data removed]",
      "text/plain": [
       "<Figure size 432x288 with 1 Axes>"
      ]
     },
     "metadata": {
      "needs_background": "light"
     },
     "output_type": "display_data"
    }
   ],
   "source": [
    "(sim_aqt_ar_df - sim_ar_df).plot(kind=\"bar\", ylabel=\"Approximation Ratio\")\n",
    "plt.xticks(rotation=0)\n",
    "plt.legend(loc='upper right', bbox_to_anchor=(0.45, 0.4))\n",
    "plt.show()"
   ]
  },
  {
   "cell_type": "code",
   "execution_count": 63,
   "id": "f7cfdb1c",
   "metadata": {},
   "outputs": [
    {
     "data": {
      "text/plain": [
       "QAOA        -0.030625\n",
       "TQA-QAOA    -0.034375\n",
       "WS-QAOA      0.000000\n",
       "R-QAOA      -0.002500\n",
       "WS-R-QAOA    0.000000\n",
       "dtype: float64"
      ]
     },
     "execution_count": 63,
     "metadata": {},
     "output_type": "execute_result"
    }
   ],
   "source": [
    "(sim_aqt_ar_df - sim_ar_df).mean()"
   ]
  },
  {
   "cell_type": "code",
   "execution_count": 64,
   "id": "7e0758bc",
   "metadata": {},
   "outputs": [
    {
     "name": "stdout",
     "output_type": "stream",
     "text": [
      "\\begin{tabular}{lrrrrr}\n",
      "\\toprule\n",
      "{} &   QAOA &  TQA-QAOA &  WS-QAOA &  R-QAOA &  WS-R-QAOA \\\\\n",
      "Graph &        &           &          &         &            \\\\\n",
      "\\midrule\n",
      "4     & -0.030 &    -0.035 &      0.0 &    0.00 &        0.0 \\\\\n",
      "4w    & -0.025 &    -0.020 &      0.0 &    0.00 &        0.0 \\\\\n",
      "5     & -0.025 &    -0.020 &      0.0 &    0.00 &        0.0 \\\\\n",
      "5w    & -0.030 &    -0.035 &      0.0 &    0.00 &        0.0 \\\\\n",
      "6     & -0.040 &    -0.055 &      0.0 &    0.00 &        0.0 \\\\\n",
      "6w    & -0.035 &    -0.025 &      0.0 &    0.00 &        0.0 \\\\\n",
      "8     & -0.040 &    -0.045 &      0.0 &    0.00 &        0.0 \\\\\n",
      "8w    & -0.020 &    -0.040 &      0.0 &   -0.02 &        0.0 \\\\\n",
      "\\bottomrule\n",
      "\\end{tabular}\n",
      "\n"
     ]
    }
   ],
   "source": [
    "print((sim_aqt_ar_df - sim_ar_df).to_latex())"
   ]
  },
  {
   "cell_type": "markdown",
   "id": "87b1690d",
   "metadata": {},
   "source": [
    "### Vergleich von QAOA vs TQA (Sim IBM)"
   ]
  },
  {
   "cell_type": "code",
   "execution_count": 65,
   "id": "071e0ba6",
   "metadata": {},
   "outputs": [
    {
     "data": {
      "text/plain": [
       "<AxesSubplot:xlabel='Graph', ylabel='Approximation Ratio'>"
      ]
     },
     "execution_count": 65,
     "metadata": {},
     "output_type": "execute_result"
    },
    {
     "data": {
      "image/png": "[encoded data removed]",
      "text/plain": [
       "<Figure size 432x288 with 1 Axes>"
      ]
     },
     "metadata": {
      "needs_background": "light"
     },
     "output_type": "display_data"
    }
   ],
   "source": [
    "df = sim_ar_df.iloc[:, 0:2]\n",
    "df.plot(marker='.', ylabel=\"Approximation Ratio\", xlabel=\"Graph\")"
   ]
  },
  {
   "cell_type": "markdown",
   "id": "625f7ccf",
   "metadata": {},
   "source": [
    "### Vergleich von QAOA vs TQA (Sim AQT)"
   ]
  },
  {
   "cell_type": "code",
   "execution_count": 66,
   "id": "bde09d5d",
   "metadata": {},
   "outputs": [
    {
     "data": {
      "text/plain": [
       "<AxesSubplot:xlabel='Graph', ylabel='Approximation Ratio'>"
      ]
     },
     "execution_count": 66,
     "metadata": {},
     "output_type": "execute_result"
    },
    {
     "data": {
      "image/png": "[encoded data removed]",
      "text/plain": [
       "<Figure size 432x288 with 1 Axes>"
      ]
     },
     "metadata": {
      "needs_background": "light"
     },
     "output_type": "display_data"
    }
   ],
   "source": [
    "df = sim_aqt_ar_df.iloc[:, 0:2]\n",
    "df.plot(marker='.', ylabel=\"Approximation Ratio\", xlabel=\"Graph\")"
   ]
  },
  {
   "cell_type": "code",
   "execution_count": 67,
   "id": "b6e2411c",
   "metadata": {},
   "outputs": [
    {
     "name": "stdout",
     "output_type": "stream",
     "text": [
      "QAOA        0.82875\n",
      "TQA-QAOA    0.82500\n",
      "dtype: float64\n",
      "\n",
      "0.003750000000000031\n"
     ]
    }
   ],
   "source": [
    "print(df.mean())\n",
    "print()\n",
    "print(df.mean()[0] - df.mean()[1])"
   ]
  },
  {
   "cell_type": "markdown",
   "id": "11d823fa",
   "metadata": {},
   "source": [
    "### Vergleich der QAOA Varianten IBM (fixed points + Noise)"
   ]
  },
  {
   "cell_type": "code",
   "execution_count": 68,
   "id": "23832d8a",
   "metadata": {},
   "outputs": [
    {
     "data": {
      "text/plain": [
       "<AxesSubplot:ylabel='Approximation Ratio'>"
      ]
     },
     "execution_count": 68,
     "metadata": {},
     "output_type": "execute_result"
    },
    {
     "data": {
      "image/png": "[encoded data removed]",
      "text/plain": [
       "<Figure size 432x288 with 1 Axes>"
      ]
     },
     "metadata": {
      "needs_background": "light"
     },
     "output_type": "display_data"
    }
   ],
   "source": [
    "df = pd.DataFrame(sim_init_ar_df.median(), columns=[\"Simulation\"]) \\\n",
    ".join(pd.DataFrame(noise_init_ar_df.median(), columns=[\"Noise\"])) \\\n",
    ".join(pd.DataFrame(noise_init_em_ar_df.median(), columns=[\"Noise SPAMEM\"])) \\\n",
    ".join(pd.DataFrame(noise_init_gem_ar_df.median(), columns=[\"Noise GEM\"])) \n",
    "df = df.drop('TQA-QAOA')\n",
    "df.plot(marker='.', ylabel=\"Approximation Ratio\", xlabel=\"\")"
   ]
  },
  {
   "cell_type": "code",
   "execution_count": 69,
   "id": "76e829d3",
   "metadata": {},
   "outputs": [
    {
     "data": {
      "text/html": [
       "<div>\n",
       "<style scoped>\n",
       "    .dataframe tbody tr th:only-of-type {\n",
       "        vertical-align: middle;\n",
       "    }\n",
       "\n",
       "    .dataframe tbody tr th {\n",
       "        vertical-align: top;\n",
       "    }\n",
       "\n",
       "    .dataframe thead th {\n",
       "        text-align: right;\n",
       "    }\n",
       "</style>\n",
       "<table border=\"1\" class=\"dataframe\">\n",
       "  <thead>\n",
       "    <tr style=\"text-align: right;\">\n",
       "      <th></th>\n",
       "      <th>Simulation</th>\n",
       "      <th>Noise</th>\n",
       "      <th>Noise SPAMEM</th>\n",
       "      <th>Noise GEM</th>\n",
       "    </tr>\n",
       "  </thead>\n",
       "  <tbody>\n",
       "    <tr>\n",
       "      <th>QAOA</th>\n",
       "      <td>0.945</td>\n",
       "      <td>0.755</td>\n",
       "      <td>0.7675</td>\n",
       "      <td>0.8950</td>\n",
       "    </tr>\n",
       "    <tr>\n",
       "      <th>WS-QAOA</th>\n",
       "      <td>1.000</td>\n",
       "      <td>0.770</td>\n",
       "      <td>0.7850</td>\n",
       "      <td>0.9575</td>\n",
       "    </tr>\n",
       "    <tr>\n",
       "      <th>R-QAOA</th>\n",
       "      <td>1.000</td>\n",
       "      <td>1.000</td>\n",
       "      <td>1.0000</td>\n",
       "      <td>0.9725</td>\n",
       "    </tr>\n",
       "    <tr>\n",
       "      <th>WS-R-QAOA</th>\n",
       "      <td>1.000</td>\n",
       "      <td>1.000</td>\n",
       "      <td>1.0000</td>\n",
       "      <td>1.0000</td>\n",
       "    </tr>\n",
       "  </tbody>\n",
       "</table>\n",
       "</div>"
      ],
      "text/plain": [
       "           Simulation  Noise  Noise SPAMEM  Noise GEM\n",
       "QAOA            0.945  0.755        0.7675     0.8950\n",
       "WS-QAOA         1.000  0.770        0.7850     0.9575\n",
       "R-QAOA          1.000  1.000        1.0000     0.9725\n",
       "WS-R-QAOA       1.000  1.000        1.0000     1.0000"
      ]
     },
     "execution_count": 69,
     "metadata": {},
     "output_type": "execute_result"
    }
   ],
   "source": [
    "df"
   ]
  },
  {
   "cell_type": "code",
   "execution_count": 70,
   "id": "040849f8",
   "metadata": {},
   "outputs": [
    {
     "name": "stdout",
     "output_type": "stream",
     "text": [
      "\\begin{tabular}{lrrrr}\n",
      "\\toprule\n",
      "{} &  Simulation &  Noise &  Noise SPAMEM &  Noise GEM \\\\\n",
      "\\midrule\n",
      "QAOA      &       0.945 &  0.755 &        0.7675 &     0.8950 \\\\\n",
      "WS-QAOA   &       1.000 &  0.770 &        0.7850 &     0.9575 \\\\\n",
      "R-QAOA    &       1.000 &  1.000 &        1.0000 &     0.9725 \\\\\n",
      "WS-R-QAOA &       1.000 &  1.000 &        1.0000 &     1.0000 \\\\\n",
      "\\bottomrule\n",
      "\\end{tabular}\n",
      "\n"
     ]
    }
   ],
   "source": [
    "print(df.to_latex())"
   ]
  },
  {
   "cell_type": "code",
   "execution_count": 71,
   "id": "ca30acec",
   "metadata": {},
   "outputs": [],
   "source": [
    "df1 = df.copy()"
   ]
  },
  {
   "cell_type": "markdown",
   "id": "2045a2d8",
   "metadata": {},
   "source": [
    "Ohne TQA, da es keinen Sinn macht, da die fixen points die besten Ergebnisse wiederspiegeln! "
   ]
  },
  {
   "cell_type": "markdown",
   "id": "16e0955b",
   "metadata": {},
   "source": [
    "### Vergleich der QAOA Varianten AQT (fixed points + Noise)"
   ]
  },
  {
   "cell_type": "code",
   "execution_count": 72,
   "id": "ae02276e",
   "metadata": {},
   "outputs": [
    {
     "data": {
      "text/plain": [
       "<AxesSubplot:ylabel='Approximation Ratio'>"
      ]
     },
     "execution_count": 72,
     "metadata": {},
     "output_type": "execute_result"
    },
    {
     "data": {
      "image/png": "[encoded data removed]",
      "text/plain": [
       "<Figure size 432x288 with 1 Axes>"
      ]
     },
     "metadata": {
      "needs_background": "light"
     },
     "output_type": "display_data"
    }
   ],
   "source": [
    "df = pd.DataFrame(sim_aqt_init_ar_df.median(), columns=[\"Simulation\"]) \\\n",
    ".join(pd.DataFrame(noise_aqt_init_ar_df.median(), columns=[\"Noise\"])) \\\n",
    ".join(pd.DataFrame(noise_aqt_init_em_ar_df.median(), columns=[\"Noise SPAMEM\"])) \\\n",
    ".join(pd.DataFrame(noise_aqt_init_gem_ar_df.median(), columns=[\"Noise GEM\"])) \n",
    "df = df.drop('TQA-QAOA')\n",
    "df.plot(marker='.', ylabel=\"Approximation Ratio\", xlabel=\"\")"
   ]
  },
  {
   "cell_type": "code",
   "execution_count": 73,
   "id": "0a85a52e",
   "metadata": {},
   "outputs": [
    {
     "data": {
      "text/html": [
       "<div>\n",
       "<style scoped>\n",
       "    .dataframe tbody tr th:only-of-type {\n",
       "        vertical-align: middle;\n",
       "    }\n",
       "\n",
       "    .dataframe tbody tr th {\n",
       "        vertical-align: top;\n",
       "    }\n",
       "\n",
       "    .dataframe thead th {\n",
       "        text-align: right;\n",
       "    }\n",
       "</style>\n",
       "<table border=\"1\" class=\"dataframe\">\n",
       "  <thead>\n",
       "    <tr style=\"text-align: right;\">\n",
       "      <th></th>\n",
       "      <th>Simulation</th>\n",
       "      <th>Noise</th>\n",
       "      <th>Noise SPAMEM</th>\n",
       "      <th>Noise GEM</th>\n",
       "    </tr>\n",
       "  </thead>\n",
       "  <tbody>\n",
       "    <tr>\n",
       "      <th>QAOA</th>\n",
       "      <td>0.945</td>\n",
       "      <td>0.7725</td>\n",
       "      <td>0.7775</td>\n",
       "      <td>0.8000</td>\n",
       "    </tr>\n",
       "    <tr>\n",
       "      <th>WS-QAOA</th>\n",
       "      <td>1.000</td>\n",
       "      <td>0.7950</td>\n",
       "      <td>0.5750</td>\n",
       "      <td>0.9650</td>\n",
       "    </tr>\n",
       "    <tr>\n",
       "      <th>R-QAOA</th>\n",
       "      <td>1.000</td>\n",
       "      <td>0.9825</td>\n",
       "      <td>0.9575</td>\n",
       "      <td>0.8625</td>\n",
       "    </tr>\n",
       "    <tr>\n",
       "      <th>WS-R-QAOA</th>\n",
       "      <td>1.000</td>\n",
       "      <td>1.0000</td>\n",
       "      <td>1.0000</td>\n",
       "      <td>1.0000</td>\n",
       "    </tr>\n",
       "  </tbody>\n",
       "</table>\n",
       "</div>"
      ],
      "text/plain": [
       "           Simulation   Noise  Noise SPAMEM  Noise GEM\n",
       "QAOA            0.945  0.7725        0.7775     0.8000\n",
       "WS-QAOA         1.000  0.7950        0.5750     0.9650\n",
       "R-QAOA          1.000  0.9825        0.9575     0.8625\n",
       "WS-R-QAOA       1.000  1.0000        1.0000     1.0000"
      ]
     },
     "execution_count": 73,
     "metadata": {},
     "output_type": "execute_result"
    }
   ],
   "source": [
    "df"
   ]
  },
  {
   "cell_type": "code",
   "execution_count": 74,
   "id": "71923901",
   "metadata": {},
   "outputs": [
    {
     "name": "stdout",
     "output_type": "stream",
     "text": [
      "\\begin{tabular}{lrrrr}\n",
      "\\toprule\n",
      "{} &  Simulation &   Noise &  Noise SPAMEM &  Noise GEM \\\\\n",
      "\\midrule\n",
      "QAOA      &       0.945 &  0.7725 &        0.7775 &     0.8000 \\\\\n",
      "WS-QAOA   &       1.000 &  0.7950 &        0.5750 &     0.9650 \\\\\n",
      "R-QAOA    &       1.000 &  0.9825 &        0.9575 &     0.8625 \\\\\n",
      "WS-R-QAOA &       1.000 &  1.0000 &        1.0000 &     1.0000 \\\\\n",
      "\\bottomrule\n",
      "\\end{tabular}\n",
      "\n"
     ]
    }
   ],
   "source": [
    "print(df.to_latex())"
   ]
  },
  {
   "cell_type": "markdown",
   "id": "d9e94064",
   "metadata": {},
   "source": [
    "### Vergleich AQT vs. IBM: alle Varianten "
   ]
  },
  {
   "cell_type": "code",
   "execution_count": 75,
   "id": "ed21f7fa",
   "metadata": {},
   "outputs": [
    {
     "data": {
      "image/png": "[encoded data removed]",
      "text/plain": [
       "<Figure size 432x288 with 1 Axes>"
      ]
     },
     "metadata": {
      "needs_background": "light"
     },
     "output_type": "display_data"
    }
   ],
   "source": [
    "(df - df1).plot(kind=\"bar\",ylabel=\"Approximation Ratio\",xlabel=\"Variante\")\n",
    "plt.xticks(rotation=0)\n",
    "plt.show()"
   ]
  },
  {
   "cell_type": "code",
   "execution_count": 76,
   "id": "b82d78f1",
   "metadata": {},
   "outputs": [
    {
     "data": {
      "text/html": [
       "<div>\n",
       "<style scoped>\n",
       "    .dataframe tbody tr th:only-of-type {\n",
       "        vertical-align: middle;\n",
       "    }\n",
       "\n",
       "    .dataframe tbody tr th {\n",
       "        vertical-align: top;\n",
       "    }\n",
       "\n",
       "    .dataframe thead th {\n",
       "        text-align: right;\n",
       "    }\n",
       "</style>\n",
       "<table border=\"1\" class=\"dataframe\">\n",
       "  <thead>\n",
       "    <tr style=\"text-align: right;\">\n",
       "      <th></th>\n",
       "      <th>Simulation</th>\n",
       "      <th>Noise</th>\n",
       "      <th>Noise SPAMEM</th>\n",
       "      <th>Noise GEM</th>\n",
       "    </tr>\n",
       "  </thead>\n",
       "  <tbody>\n",
       "    <tr>\n",
       "      <th>QAOA</th>\n",
       "      <td>0.0</td>\n",
       "      <td>0.0175</td>\n",
       "      <td>0.0100</td>\n",
       "      <td>-0.0950</td>\n",
       "    </tr>\n",
       "    <tr>\n",
       "      <th>WS-QAOA</th>\n",
       "      <td>0.0</td>\n",
       "      <td>0.0250</td>\n",
       "      <td>-0.2100</td>\n",
       "      <td>0.0075</td>\n",
       "    </tr>\n",
       "    <tr>\n",
       "      <th>R-QAOA</th>\n",
       "      <td>0.0</td>\n",
       "      <td>-0.0175</td>\n",
       "      <td>-0.0425</td>\n",
       "      <td>-0.1100</td>\n",
       "    </tr>\n",
       "    <tr>\n",
       "      <th>WS-R-QAOA</th>\n",
       "      <td>0.0</td>\n",
       "      <td>0.0000</td>\n",
       "      <td>0.0000</td>\n",
       "      <td>0.0000</td>\n",
       "    </tr>\n",
       "  </tbody>\n",
       "</table>\n",
       "</div>"
      ],
      "text/plain": [
       "           Simulation   Noise  Noise SPAMEM  Noise GEM\n",
       "QAOA              0.0  0.0175        0.0100    -0.0950\n",
       "WS-QAOA           0.0  0.0250       -0.2100     0.0075\n",
       "R-QAOA            0.0 -0.0175       -0.0425    -0.1100\n",
       "WS-R-QAOA         0.0  0.0000        0.0000     0.0000"
      ]
     },
     "execution_count": 76,
     "metadata": {},
     "output_type": "execute_result"
    }
   ],
   "source": [
    "(df - df1)"
   ]
  },
  {
   "cell_type": "code",
   "execution_count": 77,
   "id": "db1f5e16",
   "metadata": {},
   "outputs": [
    {
     "name": "stdout",
     "output_type": "stream",
     "text": [
      "\\begin{tabular}{lrrrr}\n",
      "\\toprule\n",
      "{} &  Simulation &   Noise &  Noise SPAMEM &  Noise GEM \\\\\n",
      "\\midrule\n",
      "QAOA      &         0.0 &  0.0175 &        0.0100 &    -0.0950 \\\\\n",
      "WS-QAOA   &         0.0 &  0.0250 &       -0.2100 &     0.0075 \\\\\n",
      "R-QAOA    &         0.0 & -0.0175 &       -0.0425 &    -0.1100 \\\\\n",
      "WS-R-QAOA &         0.0 &  0.0000 &        0.0000 &     0.0000 \\\\\n",
      "\\bottomrule\n",
      "\\end{tabular}\n",
      "\n"
     ]
    }
   ],
   "source": [
    "print((df - df1).to_latex())"
   ]
  },
  {
   "cell_type": "markdown",
   "id": "6147fc5d",
   "metadata": {},
   "source": [
    "### Vergleich TQA (Sim: IBM & AQT)"
   ]
  },
  {
   "cell_type": "code",
   "execution_count": 78,
   "id": "9a167cdf",
   "metadata": {},
   "outputs": [
    {
     "data": {
      "text/plain": [
       "<AxesSubplot:xlabel='Graph', ylabel='Approximation Ratio'>"
      ]
     },
     "execution_count": 78,
     "metadata": {},
     "output_type": "execute_result"
    },
    {
     "data": {
      "image/png": "[encoded data removed]",
      "text/plain": [
       "<Figure size 432x288 with 1 Axes>"
      ]
     },
     "metadata": {
      "needs_background": "light"
     },
     "output_type": "display_data"
    }
   ],
   "source": [
    "df_sim = sim_ar_df.iloc[:, 0:2]\n",
    "df_sim.rename(columns={'QAOA': 'QAOA (IBM)', 'TQA-QAOA': 'TQA (IBM)'}, inplace=True)\n",
    "df_aqt = sim_aqt_ar_df.iloc[:, 0:2]\n",
    "df_aqt.rename(columns={'QAOA': 'QAOA (AQT)', 'TQA-QAOA': 'TQA (AQT)'}, inplace=True)\n",
    "df = pd.concat( [df_sim, df_aqt], axis=1 )\n",
    "df.plot(marker='.', ylabel=\"Approximation Ratio\", xlabel=\"Graph\")"
   ]
  },
  {
   "cell_type": "code",
   "execution_count": 79,
   "id": "e8fccdc4",
   "metadata": {},
   "outputs": [
    {
     "data": {
      "text/html": [
       "<div>\n",
       "<style scoped>\n",
       "    .dataframe tbody tr th:only-of-type {\n",
       "        vertical-align: middle;\n",
       "    }\n",
       "\n",
       "    .dataframe tbody tr th {\n",
       "        vertical-align: top;\n",
       "    }\n",
       "\n",
       "    .dataframe thead th {\n",
       "        text-align: right;\n",
       "    }\n",
       "</style>\n",
       "<table border=\"1\" class=\"dataframe\">\n",
       "  <thead>\n",
       "    <tr style=\"text-align: right;\">\n",
       "      <th></th>\n",
       "      <th>QAOA (IBM)</th>\n",
       "      <th>TQA (IBM)</th>\n",
       "      <th>QAOA (AQT)</th>\n",
       "      <th>TQA (AQT)</th>\n",
       "    </tr>\n",
       "    <tr>\n",
       "      <th>Graph</th>\n",
       "      <th></th>\n",
       "      <th></th>\n",
       "      <th></th>\n",
       "      <th></th>\n",
       "    </tr>\n",
       "  </thead>\n",
       "  <tbody>\n",
       "    <tr>\n",
       "      <th>4</th>\n",
       "      <td>0.965</td>\n",
       "      <td>0.910</td>\n",
       "      <td>0.935</td>\n",
       "      <td>0.875</td>\n",
       "    </tr>\n",
       "    <tr>\n",
       "      <th>4w</th>\n",
       "      <td>0.890</td>\n",
       "      <td>0.885</td>\n",
       "      <td>0.865</td>\n",
       "      <td>0.865</td>\n",
       "    </tr>\n",
       "    <tr>\n",
       "      <th>5</th>\n",
       "      <td>0.980</td>\n",
       "      <td>0.980</td>\n",
       "      <td>0.955</td>\n",
       "      <td>0.960</td>\n",
       "    </tr>\n",
       "    <tr>\n",
       "      <th>5w</th>\n",
       "      <td>0.875</td>\n",
       "      <td>0.875</td>\n",
       "      <td>0.845</td>\n",
       "      <td>0.840</td>\n",
       "    </tr>\n",
       "    <tr>\n",
       "      <th>6</th>\n",
       "      <td>0.880</td>\n",
       "      <td>0.890</td>\n",
       "      <td>0.840</td>\n",
       "      <td>0.835</td>\n",
       "    </tr>\n",
       "    <tr>\n",
       "      <th>6w</th>\n",
       "      <td>0.770</td>\n",
       "      <td>0.785</td>\n",
       "      <td>0.735</td>\n",
       "      <td>0.760</td>\n",
       "    </tr>\n",
       "    <tr>\n",
       "      <th>8</th>\n",
       "      <td>0.845</td>\n",
       "      <td>0.835</td>\n",
       "      <td>0.805</td>\n",
       "      <td>0.790</td>\n",
       "    </tr>\n",
       "    <tr>\n",
       "      <th>8w</th>\n",
       "      <td>0.670</td>\n",
       "      <td>0.715</td>\n",
       "      <td>0.650</td>\n",
       "      <td>0.675</td>\n",
       "    </tr>\n",
       "  </tbody>\n",
       "</table>\n",
       "</div>"
      ],
      "text/plain": [
       "       QAOA (IBM)  TQA (IBM)  QAOA (AQT)  TQA (AQT)\n",
       "Graph                                              \n",
       "4           0.965      0.910       0.935      0.875\n",
       "4w          0.890      0.885       0.865      0.865\n",
       "5           0.980      0.980       0.955      0.960\n",
       "5w          0.875      0.875       0.845      0.840\n",
       "6           0.880      0.890       0.840      0.835\n",
       "6w          0.770      0.785       0.735      0.760\n",
       "8           0.845      0.835       0.805      0.790\n",
       "8w          0.670      0.715       0.650      0.675"
      ]
     },
     "execution_count": 79,
     "metadata": {},
     "output_type": "execute_result"
    }
   ],
   "source": [
    "df"
   ]
  },
  {
   "cell_type": "code",
   "execution_count": 80,
   "id": "471e862b",
   "metadata": {},
   "outputs": [
    {
     "name": "stdout",
     "output_type": "stream",
     "text": [
      "\\begin{tabular}{lrrrr}\n",
      "\\toprule\n",
      "{} &  QAOA (IBM) &  TQA (IBM) &  QAOA (AQT) &  TQA (AQT) \\\\\n",
      "Graph &             &            &             &            \\\\\n",
      "\\midrule\n",
      "4     &       0.965 &      0.910 &       0.935 &      0.875 \\\\\n",
      "4w    &       0.890 &      0.885 &       0.865 &      0.865 \\\\\n",
      "5     &       0.980 &      0.980 &       0.955 &      0.960 \\\\\n",
      "5w    &       0.875 &      0.875 &       0.845 &      0.840 \\\\\n",
      "6     &       0.880 &      0.890 &       0.840 &      0.835 \\\\\n",
      "6w    &       0.770 &      0.785 &       0.735 &      0.760 \\\\\n",
      "8     &       0.845 &      0.835 &       0.805 &      0.790 \\\\\n",
      "8w    &       0.670 &      0.715 &       0.650 &      0.675 \\\\\n",
      "\\bottomrule\n",
      "\\end{tabular}\n",
      "\n"
     ]
    }
   ],
   "source": [
    "print(df.to_latex())"
   ]
  },
  {
   "cell_type": "markdown",
   "id": "93828c45",
   "metadata": {},
   "source": [
    "TQA ist vor allem bei gewichteten Graphen besser und mit zunehmender Anzahl der Knoten auch.\n",
    "Sehr schön an den letzten beiden Graphen zu sehen "
   ]
  },
  {
   "cell_type": "markdown",
   "id": "bbb452bb",
   "metadata": {},
   "source": [
    "### Vergleich EM-Methoden bei IBM im Detail"
   ]
  },
  {
   "cell_type": "code",
   "execution_count": 81,
   "id": "90c8b5fc",
   "metadata": {},
   "outputs": [
    {
     "data": {
      "text/plain": [
       "<AxesSubplot:xlabel='Graph', ylabel='Approximation Ratio'>"
      ]
     },
     "execution_count": 81,
     "metadata": {},
     "output_type": "execute_result"
    },
    {
     "data": {
      "image/png": "[encoded data removed]",
      "text/plain": [
       "<Figure size 432x288 with 1 Axes>"
      ]
     },
     "metadata": {
      "needs_background": "light"
     },
     "output_type": "display_data"
    }
   ],
   "source": [
    "sim = sim_init_ar_df.iloc[:,0:1]\n",
    "sim.rename(columns={'QAOA': 'Simulation'}, inplace=True)\n",
    "\n",
    "noise = noise_init_ar_df.iloc[:,0:1]\n",
    "noise.rename(columns={'QAOA': 'Noise'}, inplace=True)\n",
    "\n",
    "noise_em = noise_init_em_ar_df.iloc[:,0:1]\n",
    "noise_em.rename(columns={'QAOA': 'Noise SPAMEM'}, inplace=True)\n",
    "\n",
    "noise_gem = noise_init_gem_ar_df.iloc[:,0:1]\n",
    "noise_gem.rename(columns={'QAOA': 'Noise GEM'}, inplace=True)\n",
    "\n",
    "df = pd.concat([sim, noise, noise_em, noise_gem], axis=1)\n",
    "df.plot(marker='.', ylabel=\"Approximation Ratio\", xlabel=\"Graph\")"
   ]
  },
  {
   "cell_type": "code",
   "execution_count": 82,
   "id": "018619ca",
   "metadata": {},
   "outputs": [
    {
     "data": {
      "text/html": [
       "<div>\n",
       "<style scoped>\n",
       "    .dataframe tbody tr th:only-of-type {\n",
       "        vertical-align: middle;\n",
       "    }\n",
       "\n",
       "    .dataframe tbody tr th {\n",
       "        vertical-align: top;\n",
       "    }\n",
       "\n",
       "    .dataframe thead th {\n",
       "        text-align: right;\n",
       "    }\n",
       "</style>\n",
       "<table border=\"1\" class=\"dataframe\">\n",
       "  <thead>\n",
       "    <tr style=\"text-align: right;\">\n",
       "      <th></th>\n",
       "      <th>Simulation</th>\n",
       "      <th>Noise</th>\n",
       "      <th>Noise SPAMEM</th>\n",
       "      <th>Noise GEM</th>\n",
       "    </tr>\n",
       "    <tr>\n",
       "      <th>Graph</th>\n",
       "      <th></th>\n",
       "      <th></th>\n",
       "      <th></th>\n",
       "      <th></th>\n",
       "    </tr>\n",
       "  </thead>\n",
       "  <tbody>\n",
       "    <tr>\n",
       "      <th>4</th>\n",
       "      <td>1.000</td>\n",
       "      <td>0.830</td>\n",
       "      <td>0.850</td>\n",
       "      <td>0.945</td>\n",
       "    </tr>\n",
       "    <tr>\n",
       "      <th>4w</th>\n",
       "      <td>0.955</td>\n",
       "      <td>0.790</td>\n",
       "      <td>0.805</td>\n",
       "      <td>0.905</td>\n",
       "    </tr>\n",
       "    <tr>\n",
       "      <th>5</th>\n",
       "      <td>1.000</td>\n",
       "      <td>0.850</td>\n",
       "      <td>0.870</td>\n",
       "      <td>0.975</td>\n",
       "    </tr>\n",
       "    <tr>\n",
       "      <th>5w</th>\n",
       "      <td>0.940</td>\n",
       "      <td>0.800</td>\n",
       "      <td>0.810</td>\n",
       "      <td>0.935</td>\n",
       "    </tr>\n",
       "    <tr>\n",
       "      <th>6</th>\n",
       "      <td>0.950</td>\n",
       "      <td>0.720</td>\n",
       "      <td>0.730</td>\n",
       "      <td>0.885</td>\n",
       "    </tr>\n",
       "    <tr>\n",
       "      <th>6w</th>\n",
       "      <td>0.880</td>\n",
       "      <td>0.705</td>\n",
       "      <td>0.715</td>\n",
       "      <td>0.855</td>\n",
       "    </tr>\n",
       "    <tr>\n",
       "      <th>8</th>\n",
       "      <td>0.900</td>\n",
       "      <td>0.655</td>\n",
       "      <td>0.660</td>\n",
       "      <td>0.790</td>\n",
       "    </tr>\n",
       "    <tr>\n",
       "      <th>8w</th>\n",
       "      <td>0.825</td>\n",
       "      <td>0.625</td>\n",
       "      <td>0.630</td>\n",
       "      <td>0.745</td>\n",
       "    </tr>\n",
       "  </tbody>\n",
       "</table>\n",
       "</div>"
      ],
      "text/plain": [
       "       Simulation  Noise  Noise SPAMEM  Noise GEM\n",
       "Graph                                            \n",
       "4           1.000  0.830         0.850      0.945\n",
       "4w          0.955  0.790         0.805      0.905\n",
       "5           1.000  0.850         0.870      0.975\n",
       "5w          0.940  0.800         0.810      0.935\n",
       "6           0.950  0.720         0.730      0.885\n",
       "6w          0.880  0.705         0.715      0.855\n",
       "8           0.900  0.655         0.660      0.790\n",
       "8w          0.825  0.625         0.630      0.745"
      ]
     },
     "execution_count": 82,
     "metadata": {},
     "output_type": "execute_result"
    }
   ],
   "source": [
    "df"
   ]
  },
  {
   "cell_type": "code",
   "execution_count": 83,
   "id": "35ffb14d",
   "metadata": {},
   "outputs": [
    {
     "name": "stdout",
     "output_type": "stream",
     "text": [
      "Simulation      0.931250\n",
      "Noise           0.746875\n",
      "Noise SPAMEM    0.758750\n",
      "Noise GEM       0.879375\n",
      "dtype: float64\n",
      "\n",
      "Noise - SPAMEM: -0.012\n",
      "Noise - GEM: -0.133\n",
      "SPAMEM - GEM: -0.121\n",
      "SIM - Noise: 0.184\n",
      "SIM - SPAMEM: 0.172\n",
      "SIM - GEM: 0.052\n"
     ]
    }
   ],
   "source": [
    "print(df.mean())\n",
    "print()\n",
    "print(f\"Noise - SPAMEM: {(df.mean()[1] - df.mean()[2]):.3f}\")\n",
    "print(f\"Noise - GEM: {(df.mean()[1] - df.mean()[3]):.3f}\")\n",
    "print(f\"SPAMEM - GEM: {(df.mean()[2] - df.mean()[3]):.3f}\")\n",
    "print(f\"SIM - Noise: {(df.mean()[0] - df.mean()[1]):.3f}\")\n",
    "print(f\"SIM - SPAMEM: {(df.mean()[0] - df.mean()[2]):.3f}\")\n",
    "print(f\"SIM - GEM: {(df.mean()[0] - df.mean()[3]):.3f}\")"
   ]
  },
  {
   "cell_type": "code",
   "execution_count": 84,
   "id": "bd394fe3",
   "metadata": {},
   "outputs": [
    {
     "name": "stdout",
     "output_type": "stream",
     "text": [
      "\\begin{tabular}{lrrrr}\n",
      "\\toprule\n",
      "{} &  Simulation &  Noise &  Noise SPAMEM &  Noise GEM \\\\\n",
      "Graph &             &        &               &            \\\\\n",
      "\\midrule\n",
      "4     &       1.000 &  0.830 &         0.850 &      0.945 \\\\\n",
      "4w    &       0.955 &  0.790 &         0.805 &      0.905 \\\\\n",
      "5     &       1.000 &  0.850 &         0.870 &      0.975 \\\\\n",
      "5w    &       0.940 &  0.800 &         0.810 &      0.935 \\\\\n",
      "6     &       0.950 &  0.720 &         0.730 &      0.885 \\\\\n",
      "6w    &       0.880 &  0.705 &         0.715 &      0.855 \\\\\n",
      "8     &       0.900 &  0.655 &         0.660 &      0.790 \\\\\n",
      "8w    &       0.825 &  0.625 &         0.630 &      0.745 \\\\\n",
      "\\bottomrule\n",
      "\\end{tabular}\n",
      "\n"
     ]
    }
   ],
   "source": [
    "print(df.to_latex())"
   ]
  },
  {
   "cell_type": "code",
   "execution_count": 85,
   "id": "5bbfbad0",
   "metadata": {},
   "outputs": [],
   "source": [
    "ibm_noise_qaoa = pd.DataFrame(df['Noise'])\n",
    "ibm_noise_qaoa.rename(columns={'Noise': 'Noise IBM'}, inplace=True)"
   ]
  },
  {
   "cell_type": "markdown",
   "id": "d593d7cf",
   "metadata": {},
   "source": [
    "### Vergleich EM-Methoden bei IBM im Detail (WarmStart)"
   ]
  },
  {
   "cell_type": "code",
   "execution_count": 86,
   "id": "b06dce9b",
   "metadata": {},
   "outputs": [
    {
     "data": {
      "text/plain": [
       "<AxesSubplot:xlabel='Graph', ylabel='Approximation Ratio'>"
      ]
     },
     "execution_count": 86,
     "metadata": {},
     "output_type": "execute_result"
    },
    {
     "data": {
      "image/png": "[encoded data removed]",
      "text/plain": [
       "<Figure size 432x288 with 1 Axes>"
      ]
     },
     "metadata": {
      "needs_background": "light"
     },
     "output_type": "display_data"
    }
   ],
   "source": [
    "sim = sim_init_ar_df.iloc[:,2:3]\n",
    "sim.rename(columns={'WS-QAOA': 'Simulation'}, inplace=True)\n",
    "\n",
    "noise = noise_init_ar_df.iloc[:,2:3]\n",
    "noise.rename(columns={'WS-QAOA': 'Noise'}, inplace=True)\n",
    "\n",
    "noise_em = noise_init_em_ar_df.iloc[:,2:3]\n",
    "noise_em.rename(columns={'WS-QAOA': 'Noise SPAMEM'}, inplace=True)\n",
    "\n",
    "noise_gem = noise_init_gem_ar_df.iloc[:,2:3]\n",
    "noise_gem.rename(columns={'WS-QAOA': 'Noise GEM'}, inplace=True)\n",
    "\n",
    "df = pd.concat([sim, noise, noise_em, noise_gem], axis=1)\n",
    "df.plot(marker='.', ylabel=\"Approximation Ratio\", xlabel=\"Graph\")"
   ]
  },
  {
   "cell_type": "code",
   "execution_count": 87,
   "id": "e8107604",
   "metadata": {},
   "outputs": [
    {
     "data": {
      "text/html": [
       "<div>\n",
       "<style scoped>\n",
       "    .dataframe tbody tr th:only-of-type {\n",
       "        vertical-align: middle;\n",
       "    }\n",
       "\n",
       "    .dataframe tbody tr th {\n",
       "        vertical-align: top;\n",
       "    }\n",
       "\n",
       "    .dataframe thead th {\n",
       "        text-align: right;\n",
       "    }\n",
       "</style>\n",
       "<table border=\"1\" class=\"dataframe\">\n",
       "  <thead>\n",
       "    <tr style=\"text-align: right;\">\n",
       "      <th></th>\n",
       "      <th>Simulation</th>\n",
       "      <th>Noise</th>\n",
       "      <th>Noise SPAMEM</th>\n",
       "      <th>Noise GEM</th>\n",
       "    </tr>\n",
       "    <tr>\n",
       "      <th>Graph</th>\n",
       "      <th></th>\n",
       "      <th></th>\n",
       "      <th></th>\n",
       "      <th></th>\n",
       "    </tr>\n",
       "  </thead>\n",
       "  <tbody>\n",
       "    <tr>\n",
       "      <th>4</th>\n",
       "      <td>1.0</td>\n",
       "      <td>0.855</td>\n",
       "      <td>0.880</td>\n",
       "      <td>0.985</td>\n",
       "    </tr>\n",
       "    <tr>\n",
       "      <th>4w</th>\n",
       "      <td>1.0</td>\n",
       "      <td>0.825</td>\n",
       "      <td>0.845</td>\n",
       "      <td>0.975</td>\n",
       "    </tr>\n",
       "    <tr>\n",
       "      <th>5</th>\n",
       "      <td>1.0</td>\n",
       "      <td>0.850</td>\n",
       "      <td>0.850</td>\n",
       "      <td>1.000</td>\n",
       "    </tr>\n",
       "    <tr>\n",
       "      <th>5w</th>\n",
       "      <td>1.0</td>\n",
       "      <td>0.835</td>\n",
       "      <td>0.850</td>\n",
       "      <td>0.975</td>\n",
       "    </tr>\n",
       "    <tr>\n",
       "      <th>6</th>\n",
       "      <td>1.0</td>\n",
       "      <td>0.715</td>\n",
       "      <td>0.725</td>\n",
       "      <td>0.940</td>\n",
       "    </tr>\n",
       "    <tr>\n",
       "      <th>6w</th>\n",
       "      <td>1.0</td>\n",
       "      <td>0.715</td>\n",
       "      <td>0.720</td>\n",
       "      <td>0.935</td>\n",
       "    </tr>\n",
       "    <tr>\n",
       "      <th>8</th>\n",
       "      <td>1.0</td>\n",
       "      <td>0.660</td>\n",
       "      <td>0.690</td>\n",
       "      <td>0.940</td>\n",
       "    </tr>\n",
       "    <tr>\n",
       "      <th>8w</th>\n",
       "      <td>1.0</td>\n",
       "      <td>0.640</td>\n",
       "      <td>0.670</td>\n",
       "      <td>0.935</td>\n",
       "    </tr>\n",
       "  </tbody>\n",
       "</table>\n",
       "</div>"
      ],
      "text/plain": [
       "       Simulation  Noise  Noise SPAMEM  Noise GEM\n",
       "Graph                                            \n",
       "4             1.0  0.855         0.880      0.985\n",
       "4w            1.0  0.825         0.845      0.975\n",
       "5             1.0  0.850         0.850      1.000\n",
       "5w            1.0  0.835         0.850      0.975\n",
       "6             1.0  0.715         0.725      0.940\n",
       "6w            1.0  0.715         0.720      0.935\n",
       "8             1.0  0.660         0.690      0.940\n",
       "8w            1.0  0.640         0.670      0.935"
      ]
     },
     "execution_count": 87,
     "metadata": {},
     "output_type": "execute_result"
    }
   ],
   "source": [
    "df"
   ]
  },
  {
   "cell_type": "code",
   "execution_count": 88,
   "id": "27e8cf4e",
   "metadata": {},
   "outputs": [
    {
     "name": "stdout",
     "output_type": "stream",
     "text": [
      "Simulation      1.000000\n",
      "Noise           0.761875\n",
      "Noise SPAMEM    0.778750\n",
      "Noise GEM       0.960625\n",
      "dtype: float64\n",
      "\n",
      "Noise - SPAMEM: -0.017\n",
      "Noise - GEM: -0.199\n",
      "SPAMEM - GEM: -0.182\n",
      "SIM - Noise: 0.238\n",
      "SIM - SPAMEM: 0.221\n",
      "SIM - GEM: 0.039\n"
     ]
    }
   ],
   "source": [
    "print(df.mean())\n",
    "print()\n",
    "print(f\"Noise - SPAMEM: {(df.mean()[1] - df.mean()[2]):.3f}\")\n",
    "print(f\"Noise - GEM: {(df.mean()[1] - df.mean()[3]):.3f}\")\n",
    "print(f\"SPAMEM - GEM: {(df.mean()[2] - df.mean()[3]):.3f}\")\n",
    "print(f\"SIM - Noise: {(df.mean()[0] - df.mean()[1]):.3f}\")\n",
    "print(f\"SIM - SPAMEM: {(df.mean()[0] - df.mean()[2]):.3f}\")\n",
    "print(f\"SIM - GEM: {(df.mean()[0] - df.mean()[3]):.3f}\")"
   ]
  },
  {
   "cell_type": "code",
   "execution_count": 89,
   "id": "3c9eaf83",
   "metadata": {},
   "outputs": [
    {
     "name": "stdout",
     "output_type": "stream",
     "text": [
      "\\begin{tabular}{lrrrr}\n",
      "\\toprule\n",
      "{} &  Simulation &  Noise &  Noise SPAMEM &  Noise GEM \\\\\n",
      "Graph &             &        &               &            \\\\\n",
      "\\midrule\n",
      "4     &         1.0 &  0.855 &         0.880 &      0.985 \\\\\n",
      "4w    &         1.0 &  0.825 &         0.845 &      0.975 \\\\\n",
      "5     &         1.0 &  0.850 &         0.850 &      1.000 \\\\\n",
      "5w    &         1.0 &  0.835 &         0.850 &      0.975 \\\\\n",
      "6     &         1.0 &  0.715 &         0.725 &      0.940 \\\\\n",
      "6w    &         1.0 &  0.715 &         0.720 &      0.935 \\\\\n",
      "8     &         1.0 &  0.660 &         0.690 &      0.940 \\\\\n",
      "8w    &         1.0 &  0.640 &         0.670 &      0.935 \\\\\n",
      "\\bottomrule\n",
      "\\end{tabular}\n",
      "\n"
     ]
    }
   ],
   "source": [
    "print(df.to_latex())"
   ]
  },
  {
   "cell_type": "code",
   "execution_count": 90,
   "id": "8d560c11",
   "metadata": {},
   "outputs": [],
   "source": [
    "ibm_noise_ws = pd.DataFrame(df['Noise'])\n",
    "ibm_noise_ws.rename(columns={'Noise': 'Noise IBM'}, inplace=True)"
   ]
  },
  {
   "cell_type": "markdown",
   "id": "1bf9e3af",
   "metadata": {},
   "source": [
    "### Vergleich EM-Methoden bei AQT im Detail (QAOA)"
   ]
  },
  {
   "cell_type": "code",
   "execution_count": 91,
   "id": "fd18d009",
   "metadata": {},
   "outputs": [
    {
     "data": {
      "text/plain": [
       "<AxesSubplot:xlabel='Graph', ylabel='Approximation Ratio'>"
      ]
     },
     "execution_count": 91,
     "metadata": {},
     "output_type": "execute_result"
    },
    {
     "data": {
      "image/png": "[encoded data removed]",
      "text/plain": [
       "<Figure size 432x288 with 1 Axes>"
      ]
     },
     "metadata": {
      "needs_background": "light"
     },
     "output_type": "display_data"
    }
   ],
   "source": [
    "sim_aqt = sim_aqt_init_ar_df.iloc[:,0:1]\n",
    "sim_aqt.rename(columns={'QAOA': 'Simulation'}, inplace=True)\n",
    "\n",
    "noise_aqt = noise_aqt_init_ar_df.iloc[:,0:1]\n",
    "noise_aqt.rename(columns={'QAOA': 'Noise'}, inplace=True)\n",
    "\n",
    "noise_aqt_em = noise_aqt_init_em_ar_df.iloc[:,0:1]\n",
    "noise_aqt_em.rename(columns={'QAOA': 'Noise SPAMEM'}, inplace=True)\n",
    "\n",
    "noise_aqt_gem = noise_aqt_init_gem_ar_df.iloc[:,0:1]\n",
    "noise_aqt_gem.rename(columns={'QAOA': 'Noise GEM'}, inplace=True)\n",
    "\n",
    "df = pd.concat([sim_aqt, noise_aqt, noise_aqt_em, noise_aqt_gem], axis=1)\n",
    "df.plot(marker='.', ylabel=\"Approximation Ratio\", xlabel=\"Graph\")"
   ]
  },
  {
   "cell_type": "code",
   "execution_count": 92,
   "id": "835ce0d3",
   "metadata": {},
   "outputs": [
    {
     "data": {
      "text/html": [
       "<div>\n",
       "<style scoped>\n",
       "    .dataframe tbody tr th:only-of-type {\n",
       "        vertical-align: middle;\n",
       "    }\n",
       "\n",
       "    .dataframe tbody tr th {\n",
       "        vertical-align: top;\n",
       "    }\n",
       "\n",
       "    .dataframe thead th {\n",
       "        text-align: right;\n",
       "    }\n",
       "</style>\n",
       "<table border=\"1\" class=\"dataframe\">\n",
       "  <thead>\n",
       "    <tr style=\"text-align: right;\">\n",
       "      <th></th>\n",
       "      <th>Simulation</th>\n",
       "      <th>Noise</th>\n",
       "      <th>Noise SPAMEM</th>\n",
       "      <th>Noise GEM</th>\n",
       "    </tr>\n",
       "    <tr>\n",
       "      <th>Graph</th>\n",
       "      <th></th>\n",
       "      <th></th>\n",
       "      <th></th>\n",
       "      <th></th>\n",
       "    </tr>\n",
       "  </thead>\n",
       "  <tbody>\n",
       "    <tr>\n",
       "      <th>4</th>\n",
       "      <td>1.000</td>\n",
       "      <td>0.830</td>\n",
       "      <td>0.840</td>\n",
       "      <td>0.880</td>\n",
       "    </tr>\n",
       "    <tr>\n",
       "      <th>4w</th>\n",
       "      <td>0.955</td>\n",
       "      <td>0.795</td>\n",
       "      <td>0.800</td>\n",
       "      <td>0.815</td>\n",
       "    </tr>\n",
       "    <tr>\n",
       "      <th>5</th>\n",
       "      <td>1.000</td>\n",
       "      <td>0.850</td>\n",
       "      <td>0.860</td>\n",
       "      <td>0.830</td>\n",
       "    </tr>\n",
       "    <tr>\n",
       "      <th>5w</th>\n",
       "      <td>0.940</td>\n",
       "      <td>0.825</td>\n",
       "      <td>0.815</td>\n",
       "      <td>0.870</td>\n",
       "    </tr>\n",
       "    <tr>\n",
       "      <th>6</th>\n",
       "      <td>0.950</td>\n",
       "      <td>0.750</td>\n",
       "      <td>0.755</td>\n",
       "      <td>0.785</td>\n",
       "    </tr>\n",
       "    <tr>\n",
       "      <th>6w</th>\n",
       "      <td>0.880</td>\n",
       "      <td>0.735</td>\n",
       "      <td>0.735</td>\n",
       "      <td>0.760</td>\n",
       "    </tr>\n",
       "    <tr>\n",
       "      <th>8</th>\n",
       "      <td>0.900</td>\n",
       "      <td>0.735</td>\n",
       "      <td>0.735</td>\n",
       "      <td>0.650</td>\n",
       "    </tr>\n",
       "    <tr>\n",
       "      <th>8w</th>\n",
       "      <td>0.825</td>\n",
       "      <td>0.700</td>\n",
       "      <td>0.705</td>\n",
       "      <td>0.465</td>\n",
       "    </tr>\n",
       "  </tbody>\n",
       "</table>\n",
       "</div>"
      ],
      "text/plain": [
       "       Simulation  Noise  Noise SPAMEM  Noise GEM\n",
       "Graph                                            \n",
       "4           1.000  0.830         0.840      0.880\n",
       "4w          0.955  0.795         0.800      0.815\n",
       "5           1.000  0.850         0.860      0.830\n",
       "5w          0.940  0.825         0.815      0.870\n",
       "6           0.950  0.750         0.755      0.785\n",
       "6w          0.880  0.735         0.735      0.760\n",
       "8           0.900  0.735         0.735      0.650\n",
       "8w          0.825  0.700         0.705      0.465"
      ]
     },
     "execution_count": 92,
     "metadata": {},
     "output_type": "execute_result"
    }
   ],
   "source": [
    "df"
   ]
  },
  {
   "cell_type": "code",
   "execution_count": 93,
   "id": "e9c800a5",
   "metadata": {},
   "outputs": [
    {
     "name": "stdout",
     "output_type": "stream",
     "text": [
      "Simulation      0.931250\n",
      "Noise           0.777500\n",
      "Noise SPAMEM    0.780625\n",
      "Noise GEM       0.756875\n",
      "dtype: float64\n",
      "\n",
      "Noise - SPAMEM: -0.003\n",
      "Noise - GEM: 0.021\n",
      "SPAMEM - GEM: 0.024\n",
      "SIM - Noise: 0.154\n",
      "SIM - SPAMEM: 0.151\n",
      "SIM - GEM: 0.174\n"
     ]
    }
   ],
   "source": [
    "print(df.mean())\n",
    "print()\n",
    "print(f\"Noise - SPAMEM: {(df.mean()[1] - df.mean()[2]):.3f}\")\n",
    "print(f\"Noise - GEM: {(df.mean()[1] - df.mean()[3]):.3f}\")\n",
    "print(f\"SPAMEM - GEM: {(df.mean()[2] - df.mean()[3]):.3f}\")\n",
    "print(f\"SIM - Noise: {(df.mean()[0] - df.mean()[1]):.3f}\")\n",
    "print(f\"SIM - SPAMEM: {(df.mean()[0] - df.mean()[2]):.3f}\")\n",
    "print(f\"SIM - GEM: {(df.mean()[0] - df.mean()[3]):.3f}\")"
   ]
  },
  {
   "cell_type": "code",
   "execution_count": 94,
   "id": "c8a818e8",
   "metadata": {},
   "outputs": [
    {
     "name": "stdout",
     "output_type": "stream",
     "text": [
      "\\begin{tabular}{lrrrr}\n",
      "\\toprule\n",
      "{} &  Simulation &  Noise &  Noise SPAMEM &  Noise GEM \\\\\n",
      "Graph &             &        &               &            \\\\\n",
      "\\midrule\n",
      "4     &       1.000 &  0.830 &         0.840 &      0.880 \\\\\n",
      "4w    &       0.955 &  0.795 &         0.800 &      0.815 \\\\\n",
      "5     &       1.000 &  0.850 &         0.860 &      0.830 \\\\\n",
      "5w    &       0.940 &  0.825 &         0.815 &      0.870 \\\\\n",
      "6     &       0.950 &  0.750 &         0.755 &      0.785 \\\\\n",
      "6w    &       0.880 &  0.735 &         0.735 &      0.760 \\\\\n",
      "8     &       0.900 &  0.735 &         0.735 &      0.650 \\\\\n",
      "8w    &       0.825 &  0.700 &         0.705 &      0.465 \\\\\n",
      "\\bottomrule\n",
      "\\end{tabular}\n",
      "\n"
     ]
    }
   ],
   "source": [
    "print(df.to_latex())"
   ]
  },
  {
   "cell_type": "code",
   "execution_count": 95,
   "id": "449b48de",
   "metadata": {},
   "outputs": [],
   "source": [
    "aqt_noise_qaoa = pd.DataFrame(df['Noise'])\n",
    "aqt_noise_qaoa.rename(columns={'Noise': 'Noise AQT'}, inplace=True)"
   ]
  },
  {
   "cell_type": "code",
   "execution_count": 96,
   "id": "3311766f",
   "metadata": {},
   "outputs": [
    {
     "data": {
      "image/png": "[encoded data removed]",
      "text/plain": [
       "<Figure size 432x288 with 1 Axes>"
      ]
     },
     "metadata": {
      "needs_background": "light"
     },
     "output_type": "display_data"
    }
   ],
   "source": [
    "df = pd.concat([aqt_noise_qaoa, ibm_noise_qaoa], axis=1)\n",
    "df.plot(marker='.', ylabel=\"Approximation Ratio\", xlabel=\"Graph\", title=\"QAOA\")\n",
    "plt.legend(loc=6)\n",
    "plt.show()"
   ]
  },
  {
   "cell_type": "code",
   "execution_count": 97,
   "id": "f5b0307b",
   "metadata": {},
   "outputs": [
    {
     "data": {
      "text/plain": [
       "Noise AQT    0.777500\n",
       "Noise IBM    0.746875\n",
       "dtype: float64"
      ]
     },
     "execution_count": 97,
     "metadata": {},
     "output_type": "execute_result"
    }
   ],
   "source": [
    "df.mean()"
   ]
  },
  {
   "cell_type": "code",
   "execution_count": 98,
   "id": "c84c59e9",
   "metadata": {},
   "outputs": [
    {
     "data": {
      "text/plain": [
       "Graph\n",
       "4     0.000\n",
       "4w    0.005\n",
       "5     0.000\n",
       "5w    0.025\n",
       "6     0.030\n",
       "6w    0.030\n",
       "8     0.080\n",
       "8w    0.075\n",
       "dtype: float64"
      ]
     },
     "execution_count": 98,
     "metadata": {},
     "output_type": "execute_result"
    }
   ],
   "source": [
    "aqt_noise_qaoa['Noise AQT'] - ibm_noise_qaoa['Noise IBM']"
   ]
  },
  {
   "cell_type": "markdown",
   "id": "1ab1d4f1",
   "metadata": {},
   "source": [
    "### Vergleich EM-Methoden bei AQT im Detail (WarmStart)"
   ]
  },
  {
   "cell_type": "code",
   "execution_count": 99,
   "id": "6b7d68b8",
   "metadata": {},
   "outputs": [
    {
     "data": {
      "image/png": "[encoded data removed]",
      "text/plain": [
       "<Figure size 432x288 with 1 Axes>"
      ]
     },
     "metadata": {
      "needs_background": "light"
     },
     "output_type": "display_data"
    }
   ],
   "source": [
    "sim = sim_aqt_init_ar_df.iloc[:,2:3]\n",
    "sim.rename(columns={'WS-QAOA': 'Simulation'}, inplace=True)\n",
    "\n",
    "noise = noise_aqt_init_ar_df.iloc[:,2:3]\n",
    "noise.rename(columns={'WS-QAOA': 'Noise'}, inplace=True)\n",
    "\n",
    "noise_em = noise_aqt_init_em_ar_df.iloc[:,2:3]\n",
    "noise_em.rename(columns={'WS-QAOA': 'Noise SPAMEM'}, inplace=True)\n",
    "\n",
    "noise_gem = noise_aqt_init_gem_ar_df.iloc[:,2:3]\n",
    "noise_gem.rename(columns={'WS-QAOA': 'Noise GEM'}, inplace=True)\n",
    "\n",
    "df = pd.concat([sim, noise, noise_em, noise_gem], axis=1)\n",
    "df.plot(marker='.', ylabel=\"Approximation Ratio\", xlabel=\"Graph\")\n",
    "plt.legend(loc=6)\n",
    "plt.show()"
   ]
  },
  {
   "cell_type": "code",
   "execution_count": 100,
   "id": "a788d557",
   "metadata": {},
   "outputs": [
    {
     "data": {
      "text/html": [
       "<div>\n",
       "<style scoped>\n",
       "    .dataframe tbody tr th:only-of-type {\n",
       "        vertical-align: middle;\n",
       "    }\n",
       "\n",
       "    .dataframe tbody tr th {\n",
       "        vertical-align: top;\n",
       "    }\n",
       "\n",
       "    .dataframe thead th {\n",
       "        text-align: right;\n",
       "    }\n",
       "</style>\n",
       "<table border=\"1\" class=\"dataframe\">\n",
       "  <thead>\n",
       "    <tr style=\"text-align: right;\">\n",
       "      <th></th>\n",
       "      <th>Simulation</th>\n",
       "      <th>Noise</th>\n",
       "      <th>Noise SPAMEM</th>\n",
       "      <th>Noise GEM</th>\n",
       "    </tr>\n",
       "    <tr>\n",
       "      <th>Graph</th>\n",
       "      <th></th>\n",
       "      <th></th>\n",
       "      <th></th>\n",
       "      <th></th>\n",
       "    </tr>\n",
       "  </thead>\n",
       "  <tbody>\n",
       "    <tr>\n",
       "      <th>4</th>\n",
       "      <td>1.0</td>\n",
       "      <td>0.890</td>\n",
       "      <td>0.590</td>\n",
       "      <td>0.895</td>\n",
       "    </tr>\n",
       "    <tr>\n",
       "      <th>4w</th>\n",
       "      <td>1.0</td>\n",
       "      <td>0.850</td>\n",
       "      <td>0.425</td>\n",
       "      <td>0.995</td>\n",
       "    </tr>\n",
       "    <tr>\n",
       "      <th>5</th>\n",
       "      <td>1.0</td>\n",
       "      <td>0.865</td>\n",
       "      <td>0.650</td>\n",
       "      <td>0.825</td>\n",
       "    </tr>\n",
       "    <tr>\n",
       "      <th>5w</th>\n",
       "      <td>1.0</td>\n",
       "      <td>0.805</td>\n",
       "      <td>0.605</td>\n",
       "      <td>0.890</td>\n",
       "    </tr>\n",
       "    <tr>\n",
       "      <th>6</th>\n",
       "      <td>1.0</td>\n",
       "      <td>0.775</td>\n",
       "      <td>0.515</td>\n",
       "      <td>0.960</td>\n",
       "    </tr>\n",
       "    <tr>\n",
       "      <th>6w</th>\n",
       "      <td>1.0</td>\n",
       "      <td>0.785</td>\n",
       "      <td>0.590</td>\n",
       "      <td>0.995</td>\n",
       "    </tr>\n",
       "    <tr>\n",
       "      <th>8</th>\n",
       "      <td>1.0</td>\n",
       "      <td>0.745</td>\n",
       "      <td>0.495</td>\n",
       "      <td>0.975</td>\n",
       "    </tr>\n",
       "    <tr>\n",
       "      <th>8w</th>\n",
       "      <td>1.0</td>\n",
       "      <td>0.740</td>\n",
       "      <td>0.560</td>\n",
       "      <td>0.970</td>\n",
       "    </tr>\n",
       "  </tbody>\n",
       "</table>\n",
       "</div>"
      ],
      "text/plain": [
       "       Simulation  Noise  Noise SPAMEM  Noise GEM\n",
       "Graph                                            \n",
       "4             1.0  0.890         0.590      0.895\n",
       "4w            1.0  0.850         0.425      0.995\n",
       "5             1.0  0.865         0.650      0.825\n",
       "5w            1.0  0.805         0.605      0.890\n",
       "6             1.0  0.775         0.515      0.960\n",
       "6w            1.0  0.785         0.590      0.995\n",
       "8             1.0  0.745         0.495      0.975\n",
       "8w            1.0  0.740         0.560      0.970"
      ]
     },
     "execution_count": 100,
     "metadata": {},
     "output_type": "execute_result"
    }
   ],
   "source": [
    "df"
   ]
  },
  {
   "cell_type": "code",
   "execution_count": 101,
   "id": "69bb3225",
   "metadata": {},
   "outputs": [
    {
     "name": "stdout",
     "output_type": "stream",
     "text": [
      "Simulation      1.000000\n",
      "Noise           0.806875\n",
      "Noise SPAMEM    0.553750\n",
      "Noise GEM       0.938125\n",
      "dtype: float64\n",
      "\n",
      "Noise - SPAMEM: 0.253\n",
      "Noise - GEM: -0.131\n",
      "SPAMEM - GEM: -0.384\n",
      "SIM - Noise: 0.193\n",
      "SIM - SPAMEM: 0.446\n",
      "SIM - GEM: 0.062\n"
     ]
    }
   ],
   "source": [
    "print(df.mean())\n",
    "print()\n",
    "print(f\"Noise - SPAMEM: {(df.mean()[1] - df.mean()[2]):.3f}\")\n",
    "print(f\"Noise - GEM: {(df.mean()[1] - df.mean()[3]):.3f}\")\n",
    "print(f\"SPAMEM - GEM: {(df.mean()[2] - df.mean()[3]):.3f}\")\n",
    "print(f\"SIM - Noise: {(df.mean()[0] - df.mean()[1]):.3f}\")\n",
    "print(f\"SIM - SPAMEM: {(df.mean()[0] - df.mean()[2]):.3f}\")\n",
    "print(f\"SIM - GEM: {(df.mean()[0] - df.mean()[3]):.3f}\")"
   ]
  },
  {
   "cell_type": "code",
   "execution_count": 102,
   "id": "fa00535b",
   "metadata": {},
   "outputs": [
    {
     "name": "stdout",
     "output_type": "stream",
     "text": [
      "\\begin{tabular}{lrrrr}\n",
      "\\toprule\n",
      "{} &  Simulation &  Noise &  Noise SPAMEM &  Noise GEM \\\\\n",
      "Graph &             &        &               &            \\\\\n",
      "\\midrule\n",
      "4     &         1.0 &  0.890 &         0.590 &      0.895 \\\\\n",
      "4w    &         1.0 &  0.850 &         0.425 &      0.995 \\\\\n",
      "5     &         1.0 &  0.865 &         0.650 &      0.825 \\\\\n",
      "5w    &         1.0 &  0.805 &         0.605 &      0.890 \\\\\n",
      "6     &         1.0 &  0.775 &         0.515 &      0.960 \\\\\n",
      "6w    &         1.0 &  0.785 &         0.590 &      0.995 \\\\\n",
      "8     &         1.0 &  0.745 &         0.495 &      0.975 \\\\\n",
      "8w    &         1.0 &  0.740 &         0.560 &      0.970 \\\\\n",
      "\\bottomrule\n",
      "\\end{tabular}\n",
      "\n"
     ]
    }
   ],
   "source": [
    "print(df.to_latex())"
   ]
  },
  {
   "cell_type": "code",
   "execution_count": 103,
   "id": "f802d922",
   "metadata": {},
   "outputs": [],
   "source": [
    "aqt_noise_ws = pd.DataFrame(df['Noise'])\n",
    "aqt_noise_ws.rename(columns={'Noise': 'Noise AQT'}, inplace=True)"
   ]
  },
  {
   "cell_type": "code",
   "execution_count": 104,
   "id": "6c8a919b",
   "metadata": {},
   "outputs": [
    {
     "data": {
      "image/png": "[encoded data removed]",
      "text/plain": [
       "<Figure size 432x288 with 1 Axes>"
      ]
     },
     "metadata": {
      "needs_background": "light"
     },
     "output_type": "display_data"
    }
   ],
   "source": [
    "df = pd.concat([aqt_noise_ws, ibm_noise_ws], axis=1)\n",
    "df.plot(marker='.', ylabel=\"Approximation Ratio\", xlabel=\"Graph\", title=\"WarmStart-QAOA\")\n",
    "plt.legend(loc=6)\n",
    "plt.show()"
   ]
  },
  {
   "cell_type": "code",
   "execution_count": 105,
   "id": "64bbe983",
   "metadata": {},
   "outputs": [
    {
     "data": {
      "text/plain": [
       "Graph\n",
       "4     0.035\n",
       "4w    0.025\n",
       "5     0.015\n",
       "5w   -0.030\n",
       "6     0.060\n",
       "6w    0.070\n",
       "8     0.085\n",
       "8w    0.100\n",
       "dtype: float64"
      ]
     },
     "execution_count": 105,
     "metadata": {},
     "output_type": "execute_result"
    }
   ],
   "source": [
    "aqt_noise_ws['Noise AQT'] - ibm_noise_ws['Noise IBM']"
   ]
  },
  {
   "cell_type": "code",
   "execution_count": 106,
   "id": "e51a5ad8",
   "metadata": {},
   "outputs": [
    {
     "data": {
      "text/plain": [
       "Noise AQT    0.806875\n",
       "Noise IBM    0.761875\n",
       "dtype: float64"
      ]
     },
     "execution_count": 106,
     "metadata": {},
     "output_type": "execute_result"
    }
   ],
   "source": [
    "df.mean()"
   ]
  },
  {
   "cell_type": "markdown",
   "id": "f41c49be",
   "metadata": {},
   "source": [
    "### D-Wave"
   ]
  },
  {
   "cell_type": "code",
   "execution_count": 107,
   "id": "adacca53",
   "metadata": {},
   "outputs": [],
   "source": [
    "import pickle\n",
    "name = 'dwave/result_benchmark_5_dict'\n",
    "def load_dict(name):\n",
    "    with open(name + '.pkl', 'rb') as f:\n",
    "        return pickle.load(f)"
   ]
  },
  {
   "cell_type": "code",
   "execution_count": 108,
   "id": "3f21fa21",
   "metadata": {},
   "outputs": [],
   "source": [
    "dwave_results = load_dict(name)\n",
    "temp = {}\n",
    "for key, value in dwave_results.items():\n",
    "    m, r, ar = value\n",
    "    if '_w' in key:\n",
    "        name = key.split('0')[1][0] + 'w'\n",
    "    else:\n",
    "        name = key.split('0')[1][0]\n",
    "    temp[name] = (np.median(m), np.median(r), np.median(ar))\n",
    "dwave_results = {}\n",
    "for key in sorted(temp.keys()):\n",
    "    dwave_results[key] = temp[key]\n"
   ]
  },
  {
   "cell_type": "code",
   "execution_count": 109,
   "id": "5a1abf4a",
   "metadata": {},
   "outputs": [
    {
     "data": {
      "text/html": [
       "<div>\n",
       "<style scoped>\n",
       "    .dataframe tbody tr th:only-of-type {\n",
       "        vertical-align: middle;\n",
       "    }\n",
       "\n",
       "    .dataframe tbody tr th {\n",
       "        vertical-align: top;\n",
       "    }\n",
       "\n",
       "    .dataframe thead th {\n",
       "        text-align: right;\n",
       "    }\n",
       "</style>\n",
       "<table border=\"1\" class=\"dataframe\">\n",
       "  <thead>\n",
       "    <tr style=\"text-align: right;\">\n",
       "      <th></th>\n",
       "      <th>Optimal MaxCut</th>\n",
       "    </tr>\n",
       "    <tr>\n",
       "      <th>Graph</th>\n",
       "      <th></th>\n",
       "    </tr>\n",
       "  </thead>\n",
       "  <tbody>\n",
       "    <tr>\n",
       "      <th>4</th>\n",
       "      <td>-4.0</td>\n",
       "    </tr>\n",
       "    <tr>\n",
       "      <th>4w</th>\n",
       "      <td>-21.0</td>\n",
       "    </tr>\n",
       "    <tr>\n",
       "      <th>5</th>\n",
       "      <td>-4.0</td>\n",
       "    </tr>\n",
       "    <tr>\n",
       "      <th>5w</th>\n",
       "      <td>-35.0</td>\n",
       "    </tr>\n",
       "    <tr>\n",
       "      <th>6</th>\n",
       "      <td>-7.0</td>\n",
       "    </tr>\n",
       "    <tr>\n",
       "      <th>6w</th>\n",
       "      <td>-31.0</td>\n",
       "    </tr>\n",
       "    <tr>\n",
       "      <th>8</th>\n",
       "      <td>-10.0</td>\n",
       "    </tr>\n",
       "    <tr>\n",
       "      <th>8w</th>\n",
       "      <td>53.0</td>\n",
       "    </tr>\n",
       "  </tbody>\n",
       "</table>\n",
       "</div>"
      ],
      "text/plain": [
       "       Optimal MaxCut\n",
       "Graph                \n",
       "4                -4.0\n",
       "4w              -21.0\n",
       "5                -4.0\n",
       "5w              -35.0\n",
       "6                -7.0\n",
       "6w              -31.0\n",
       "8               -10.0\n",
       "8w               53.0"
      ]
     },
     "execution_count": 109,
     "metadata": {},
     "output_type": "execute_result"
    }
   ],
   "source": [
    "opt = pd.DataFrame([-4., -21, -4, -35, -7, -31, -10, 53.], index=['4','4w','5','5w','6','6w','8','8w'], columns=[\"Optimal MaxCut\"])\n",
    "opt.index.name = \"Graph\"\n",
    "opt"
   ]
  },
  {
   "cell_type": "code",
   "execution_count": 110,
   "id": "e52d4e2c",
   "metadata": {},
   "outputs": [
    {
     "data": {
      "text/html": [
       "<div>\n",
       "<style scoped>\n",
       "    .dataframe tbody tr th:only-of-type {\n",
       "        vertical-align: middle;\n",
       "    }\n",
       "\n",
       "    .dataframe tbody tr th {\n",
       "        vertical-align: top;\n",
       "    }\n",
       "\n",
       "    .dataframe thead th {\n",
       "        text-align: right;\n",
       "    }\n",
       "</style>\n",
       "<table border=\"1\" class=\"dataframe\">\n",
       "  <thead>\n",
       "    <tr style=\"text-align: right;\">\n",
       "      <th></th>\n",
       "      <th>Optimal MaxCut</th>\n",
       "      <th>Expectation Value</th>\n",
       "      <th>Ratio r</th>\n",
       "      <th>Approximation Ratio</th>\n",
       "    </tr>\n",
       "    <tr>\n",
       "      <th>Graph</th>\n",
       "      <th></th>\n",
       "      <th></th>\n",
       "      <th></th>\n",
       "      <th></th>\n",
       "    </tr>\n",
       "  </thead>\n",
       "  <tbody>\n",
       "    <tr>\n",
       "      <th>4</th>\n",
       "      <td>-4.0</td>\n",
       "      <td>-4.00</td>\n",
       "      <td>0.00</td>\n",
       "      <td>1.00</td>\n",
       "    </tr>\n",
       "    <tr>\n",
       "      <th>4w</th>\n",
       "      <td>-21.0</td>\n",
       "      <td>-19.65</td>\n",
       "      <td>0.91</td>\n",
       "      <td>0.98</td>\n",
       "    </tr>\n",
       "    <tr>\n",
       "      <th>5</th>\n",
       "      <td>-4.0</td>\n",
       "      <td>-4.00</td>\n",
       "      <td>0.00</td>\n",
       "      <td>1.00</td>\n",
       "    </tr>\n",
       "    <tr>\n",
       "      <th>5w</th>\n",
       "      <td>-35.0</td>\n",
       "      <td>-34.38</td>\n",
       "      <td>0.87</td>\n",
       "      <td>0.98</td>\n",
       "    </tr>\n",
       "    <tr>\n",
       "      <th>6</th>\n",
       "      <td>-7.0</td>\n",
       "      <td>-7.00</td>\n",
       "      <td>1.00</td>\n",
       "      <td>1.00</td>\n",
       "    </tr>\n",
       "    <tr>\n",
       "      <th>6w</th>\n",
       "      <td>-31.0</td>\n",
       "      <td>-30.81</td>\n",
       "      <td>0.97</td>\n",
       "      <td>0.99</td>\n",
       "    </tr>\n",
       "    <tr>\n",
       "      <th>8</th>\n",
       "      <td>-10.0</td>\n",
       "      <td>-10.00</td>\n",
       "      <td>0.97</td>\n",
       "      <td>1.00</td>\n",
       "    </tr>\n",
       "    <tr>\n",
       "      <th>8w</th>\n",
       "      <td>53.0</td>\n",
       "      <td>-52.43</td>\n",
       "      <td>0.92</td>\n",
       "      <td>0.99</td>\n",
       "    </tr>\n",
       "  </tbody>\n",
       "</table>\n",
       "</div>"
      ],
      "text/plain": [
       "       Optimal MaxCut  Expectation Value  Ratio r  Approximation Ratio\n",
       "Graph                                                                 \n",
       "4                -4.0              -4.00     0.00                 1.00\n",
       "4w              -21.0             -19.65     0.91                 0.98\n",
       "5                -4.0              -4.00     0.00                 1.00\n",
       "5w              -35.0             -34.38     0.87                 0.98\n",
       "6                -7.0              -7.00     1.00                 1.00\n",
       "6w              -31.0             -30.81     0.97                 0.99\n",
       "8               -10.0             -10.00     0.97                 1.00\n",
       "8w               53.0             -52.43     0.92                 0.99"
      ]
     },
     "execution_count": 110,
     "metadata": {},
     "output_type": "execute_result"
    }
   ],
   "source": [
    "dwave_results_df = pd.DataFrame.from_dict(dwave_results, orient='index', columns=['Expectation Value', 'Ratio r', 'Approximation Ratio'])\n",
    "dwave_results_df = dwave_results_df.fillna(0).round(2)\n",
    "dwave_results_df = opt.join(dwave_results_df)\n",
    "dwave_results_df.index.name = \"Graph\"\n",
    "dwave_results_df"
   ]
  },
  {
   "cell_type": "code",
   "execution_count": 111,
   "id": "b1aad760",
   "metadata": {},
   "outputs": [
    {
     "name": "stdout",
     "output_type": "stream",
     "text": [
      "\\begin{tabular}{lrrrr}\n",
      "\\toprule\n",
      "{} &  Optimal MaxCut &  Expectation Value &  Ratio r &  Approximation Ratio \\\\\n",
      "Graph &                 &                    &          &                      \\\\\n",
      "\\midrule\n",
      "4     &            -4.0 &              -4.00 &     0.00 &                 1.00 \\\\\n",
      "4w    &           -21.0 &             -19.65 &     0.91 &                 0.98 \\\\\n",
      "5     &            -4.0 &              -4.00 &     0.00 &                 1.00 \\\\\n",
      "5w    &           -35.0 &             -34.38 &     0.87 &                 0.98 \\\\\n",
      "6     &            -7.0 &              -7.00 &     1.00 &                 1.00 \\\\\n",
      "6w    &           -31.0 &             -30.81 &     0.97 &                 0.99 \\\\\n",
      "8     &           -10.0 &             -10.00 &     0.97 &                 1.00 \\\\\n",
      "8w    &            53.0 &             -52.43 &     0.92 &                 0.99 \\\\\n",
      "\\bottomrule\n",
      "\\end{tabular}\n",
      "\n"
     ]
    }
   ],
   "source": [
    "print(dwave_results_df.to_latex())"
   ]
  },
  {
   "cell_type": "code",
   "execution_count": 112,
   "id": "3e6a6ac4",
   "metadata": {},
   "outputs": [
    {
     "data": {
      "text/html": [
       "<div>\n",
       "<style scoped>\n",
       "    .dataframe tbody tr th:only-of-type {\n",
       "        vertical-align: middle;\n",
       "    }\n",
       "\n",
       "    .dataframe tbody tr th {\n",
       "        vertical-align: top;\n",
       "    }\n",
       "\n",
       "    .dataframe thead th {\n",
       "        text-align: right;\n",
       "    }\n",
       "</style>\n",
       "<table border=\"1\" class=\"dataframe\">\n",
       "  <thead>\n",
       "    <tr style=\"text-align: right;\">\n",
       "      <th></th>\n",
       "      <th>Advantage™</th>\n",
       "    </tr>\n",
       "    <tr>\n",
       "      <th>Graph</th>\n",
       "      <th></th>\n",
       "    </tr>\n",
       "  </thead>\n",
       "  <tbody>\n",
       "    <tr>\n",
       "      <th>4</th>\n",
       "      <td>1.00</td>\n",
       "    </tr>\n",
       "    <tr>\n",
       "      <th>4w</th>\n",
       "      <td>0.98</td>\n",
       "    </tr>\n",
       "    <tr>\n",
       "      <th>5</th>\n",
       "      <td>1.00</td>\n",
       "    </tr>\n",
       "    <tr>\n",
       "      <th>5w</th>\n",
       "      <td>0.98</td>\n",
       "    </tr>\n",
       "    <tr>\n",
       "      <th>6</th>\n",
       "      <td>1.00</td>\n",
       "    </tr>\n",
       "    <tr>\n",
       "      <th>6w</th>\n",
       "      <td>0.99</td>\n",
       "    </tr>\n",
       "    <tr>\n",
       "      <th>8</th>\n",
       "      <td>1.00</td>\n",
       "    </tr>\n",
       "    <tr>\n",
       "      <th>8w</th>\n",
       "      <td>0.99</td>\n",
       "    </tr>\n",
       "  </tbody>\n",
       "</table>\n",
       "</div>"
      ],
      "text/plain": [
       "       Advantage™\n",
       "Graph            \n",
       "4            1.00\n",
       "4w           0.98\n",
       "5            1.00\n",
       "5w           0.98\n",
       "6            1.00\n",
       "6w           0.99\n",
       "8            1.00\n",
       "8w           0.99"
      ]
     },
     "execution_count": 112,
     "metadata": {},
     "output_type": "execute_result"
    }
   ],
   "source": [
    "dwave_ar = pd.DataFrame(dwave_results_df.iloc[:,3:4])\n",
    "dwave_ar.rename(columns={'Approximation Ratio': 'Advantage™'}, inplace=True)\n",
    "dwave_ar.index.name = \"Graph\"\n",
    "dwave_ar"
   ]
  },
  {
   "cell_type": "markdown",
   "id": "a44310ef",
   "metadata": {},
   "source": [
    "### Vergleich D-Wave vs IBM vs AQT (SIM) Approximation Ratio"
   ]
  },
  {
   "cell_type": "code",
   "execution_count": 113,
   "id": "5ba5d1e5",
   "metadata": {
    "scrolled": true
   },
   "outputs": [
    {
     "data": {
      "text/html": [
       "<div>\n",
       "<style scoped>\n",
       "    .dataframe tbody tr th:only-of-type {\n",
       "        vertical-align: middle;\n",
       "    }\n",
       "\n",
       "    .dataframe tbody tr th {\n",
       "        vertical-align: top;\n",
       "    }\n",
       "\n",
       "    .dataframe thead th {\n",
       "        text-align: right;\n",
       "    }\n",
       "</style>\n",
       "<table border=\"1\" class=\"dataframe\">\n",
       "  <thead>\n",
       "    <tr style=\"text-align: right;\">\n",
       "      <th></th>\n",
       "      <th>Advantage™</th>\n",
       "      <th>QAOA (IBM)</th>\n",
       "      <th>TQA-QAOA (IBM)</th>\n",
       "      <th>WS-QAOA (IBM)</th>\n",
       "      <th>R-QAOA (IBM)</th>\n",
       "      <th>WS-R-QAOA (IBM)</th>\n",
       "      <th>QAOA (AQT)</th>\n",
       "      <th>TQA-QAOA (AQT)</th>\n",
       "      <th>WS-QAOA (AQT)</th>\n",
       "      <th>R-QAOA (AQT)</th>\n",
       "      <th>WS-R-QAOA (AQT)</th>\n",
       "    </tr>\n",
       "    <tr>\n",
       "      <th>Graph</th>\n",
       "      <th></th>\n",
       "      <th></th>\n",
       "      <th></th>\n",
       "      <th></th>\n",
       "      <th></th>\n",
       "      <th></th>\n",
       "      <th></th>\n",
       "      <th></th>\n",
       "      <th></th>\n",
       "      <th></th>\n",
       "      <th></th>\n",
       "    </tr>\n",
       "  </thead>\n",
       "  <tbody>\n",
       "    <tr>\n",
       "      <th>4</th>\n",
       "      <td>1.00</td>\n",
       "      <td>0.965</td>\n",
       "      <td>0.910</td>\n",
       "      <td>1.0</td>\n",
       "      <td>1.0</td>\n",
       "      <td>1.00</td>\n",
       "      <td>0.935</td>\n",
       "      <td>0.875</td>\n",
       "      <td>1.0</td>\n",
       "      <td>1.00</td>\n",
       "      <td>1.00</td>\n",
       "    </tr>\n",
       "    <tr>\n",
       "      <th>4w</th>\n",
       "      <td>0.98</td>\n",
       "      <td>0.890</td>\n",
       "      <td>0.885</td>\n",
       "      <td>1.0</td>\n",
       "      <td>1.0</td>\n",
       "      <td>1.00</td>\n",
       "      <td>0.865</td>\n",
       "      <td>0.865</td>\n",
       "      <td>1.0</td>\n",
       "      <td>1.00</td>\n",
       "      <td>1.00</td>\n",
       "    </tr>\n",
       "    <tr>\n",
       "      <th>5</th>\n",
       "      <td>1.00</td>\n",
       "      <td>0.980</td>\n",
       "      <td>0.980</td>\n",
       "      <td>1.0</td>\n",
       "      <td>1.0</td>\n",
       "      <td>1.00</td>\n",
       "      <td>0.955</td>\n",
       "      <td>0.960</td>\n",
       "      <td>1.0</td>\n",
       "      <td>1.00</td>\n",
       "      <td>1.00</td>\n",
       "    </tr>\n",
       "    <tr>\n",
       "      <th>5w</th>\n",
       "      <td>0.98</td>\n",
       "      <td>0.875</td>\n",
       "      <td>0.875</td>\n",
       "      <td>1.0</td>\n",
       "      <td>1.0</td>\n",
       "      <td>1.00</td>\n",
       "      <td>0.845</td>\n",
       "      <td>0.840</td>\n",
       "      <td>1.0</td>\n",
       "      <td>1.00</td>\n",
       "      <td>1.00</td>\n",
       "    </tr>\n",
       "    <tr>\n",
       "      <th>6</th>\n",
       "      <td>1.00</td>\n",
       "      <td>0.880</td>\n",
       "      <td>0.890</td>\n",
       "      <td>1.0</td>\n",
       "      <td>1.0</td>\n",
       "      <td>1.00</td>\n",
       "      <td>0.840</td>\n",
       "      <td>0.835</td>\n",
       "      <td>1.0</td>\n",
       "      <td>1.00</td>\n",
       "      <td>1.00</td>\n",
       "    </tr>\n",
       "    <tr>\n",
       "      <th>6w</th>\n",
       "      <td>0.99</td>\n",
       "      <td>0.770</td>\n",
       "      <td>0.785</td>\n",
       "      <td>1.0</td>\n",
       "      <td>1.0</td>\n",
       "      <td>1.00</td>\n",
       "      <td>0.735</td>\n",
       "      <td>0.760</td>\n",
       "      <td>1.0</td>\n",
       "      <td>1.00</td>\n",
       "      <td>1.00</td>\n",
       "    </tr>\n",
       "    <tr>\n",
       "      <th>8</th>\n",
       "      <td>1.00</td>\n",
       "      <td>0.845</td>\n",
       "      <td>0.835</td>\n",
       "      <td>1.0</td>\n",
       "      <td>1.0</td>\n",
       "      <td>1.00</td>\n",
       "      <td>0.805</td>\n",
       "      <td>0.790</td>\n",
       "      <td>1.0</td>\n",
       "      <td>1.00</td>\n",
       "      <td>1.00</td>\n",
       "    </tr>\n",
       "    <tr>\n",
       "      <th>8w</th>\n",
       "      <td>0.99</td>\n",
       "      <td>0.670</td>\n",
       "      <td>0.715</td>\n",
       "      <td>1.0</td>\n",
       "      <td>1.0</td>\n",
       "      <td>0.98</td>\n",
       "      <td>0.650</td>\n",
       "      <td>0.675</td>\n",
       "      <td>1.0</td>\n",
       "      <td>0.98</td>\n",
       "      <td>0.98</td>\n",
       "    </tr>\n",
       "  </tbody>\n",
       "</table>\n",
       "</div>"
      ],
      "text/plain": [
       "       Advantage™  QAOA (IBM)  TQA-QAOA (IBM)  WS-QAOA (IBM)  R-QAOA (IBM)  \\\n",
       "Graph                                                                        \n",
       "4            1.00       0.965           0.910            1.0           1.0   \n",
       "4w           0.98       0.890           0.885            1.0           1.0   \n",
       "5            1.00       0.980           0.980            1.0           1.0   \n",
       "5w           0.98       0.875           0.875            1.0           1.0   \n",
       "6            1.00       0.880           0.890            1.0           1.0   \n",
       "6w           0.99       0.770           0.785            1.0           1.0   \n",
       "8            1.00       0.845           0.835            1.0           1.0   \n",
       "8w           0.99       0.670           0.715            1.0           1.0   \n",
       "\n",
       "       WS-R-QAOA (IBM)  QAOA (AQT)  TQA-QAOA (AQT)  WS-QAOA (AQT)  \\\n",
       "Graph                                                               \n",
       "4                 1.00       0.935           0.875            1.0   \n",
       "4w                1.00       0.865           0.865            1.0   \n",
       "5                 1.00       0.955           0.960            1.0   \n",
       "5w                1.00       0.845           0.840            1.0   \n",
       "6                 1.00       0.840           0.835            1.0   \n",
       "6w                1.00       0.735           0.760            1.0   \n",
       "8                 1.00       0.805           0.790            1.0   \n",
       "8w                0.98       0.650           0.675            1.0   \n",
       "\n",
       "       R-QAOA (AQT)  WS-R-QAOA (AQT)  \n",
       "Graph                                 \n",
       "4              1.00             1.00  \n",
       "4w             1.00             1.00  \n",
       "5              1.00             1.00  \n",
       "5w             1.00             1.00  \n",
       "6              1.00             1.00  \n",
       "6w             1.00             1.00  \n",
       "8              1.00             1.00  \n",
       "8w             0.98             0.98  "
      ]
     },
     "execution_count": 113,
     "metadata": {},
     "output_type": "execute_result"
    }
   ],
   "source": [
    "ibm_sim_ar_df = sim_ar_df.add_suffix(' (IBM)')\n",
    "aqt_sim_aqt_ar_df = sim_aqt_ar_df.add_suffix(' (AQT)')\n",
    "#dwave_ar = dwave_ar.add_suffix(' (D-Wave)')\n",
    "results_all_sim = pd.concat([dwave_ar, ibm_sim_ar_df, aqt_sim_aqt_ar_df], axis=1)\n",
    "results_all_sim.index.name = \"Graph\"\n",
    "results_all_sim"
   ]
  },
  {
   "cell_type": "code",
   "execution_count": 114,
   "id": "90a02e77",
   "metadata": {},
   "outputs": [
    {
     "name": "stdout",
     "output_type": "stream",
     "text": [
      "\\begin{tabular}{lrrrrrrrrrrr}\n",
      "\\toprule\n",
      "{} &  Advantage™ &  QAOA (IBM) &  TQA-QAOA (IBM) &  WS-QAOA (IBM) &  R-QAOA (IBM) &  WS-R-QAOA (IBM) &  QAOA (AQT) &  TQA-QAOA (AQT) &  WS-QAOA (AQT) &  R-QAOA (AQT) &  WS-R-QAOA (AQT) \\\\\n",
      "Graph &             &             &                 &                &               &                  &             &                 &                &               &                  \\\\\n",
      "\\midrule\n",
      "4     &        1.00 &       0.965 &           0.910 &            1.0 &           1.0 &             1.00 &       0.935 &           0.875 &            1.0 &          1.00 &             1.00 \\\\\n",
      "4w    &        0.98 &       0.890 &           0.885 &            1.0 &           1.0 &             1.00 &       0.865 &           0.865 &            1.0 &          1.00 &             1.00 \\\\\n",
      "5     &        1.00 &       0.980 &           0.980 &            1.0 &           1.0 &             1.00 &       0.955 &           0.960 &            1.0 &          1.00 &             1.00 \\\\\n",
      "5w    &        0.98 &       0.875 &           0.875 &            1.0 &           1.0 &             1.00 &       0.845 &           0.840 &            1.0 &          1.00 &             1.00 \\\\\n",
      "6     &        1.00 &       0.880 &           0.890 &            1.0 &           1.0 &             1.00 &       0.840 &           0.835 &            1.0 &          1.00 &             1.00 \\\\\n",
      "6w    &        0.99 &       0.770 &           0.785 &            1.0 &           1.0 &             1.00 &       0.735 &           0.760 &            1.0 &          1.00 &             1.00 \\\\\n",
      "8     &        1.00 &       0.845 &           0.835 &            1.0 &           1.0 &             1.00 &       0.805 &           0.790 &            1.0 &          1.00 &             1.00 \\\\\n",
      "8w    &        0.99 &       0.670 &           0.715 &            1.0 &           1.0 &             0.98 &       0.650 &           0.675 &            1.0 &          0.98 &             0.98 \\\\\n",
      "\\bottomrule\n",
      "\\end{tabular}\n",
      "\n"
     ]
    }
   ],
   "source": [
    "print(results_all_sim.to_latex())"
   ]
  },
  {
   "cell_type": "code",
   "execution_count": 115,
   "id": "a9a87903",
   "metadata": {},
   "outputs": [
    {
     "data": {
      "image/png": "[encoded data removed]",
      "text/plain": [
       "<Figure size 432x288 with 1 Axes>"
      ]
     },
     "metadata": {
      "needs_background": "light"
     },
     "output_type": "display_data"
    }
   ],
   "source": [
    "results_all_sim.median().plot(kind='bar', ylim=[0.7,1.01], ylabel=\"Approximation Ratio\")\n",
    "plt.xticks(rotation=45)\n",
    "plt.show()"
   ]
  },
  {
   "cell_type": "code",
   "execution_count": 116,
   "id": "1a83420b",
   "metadata": {},
   "outputs": [
    {
     "data": {
      "text/html": [
       "<div>\n",
       "<style scoped>\n",
       "    .dataframe tbody tr th:only-of-type {\n",
       "        vertical-align: middle;\n",
       "    }\n",
       "\n",
       "    .dataframe tbody tr th {\n",
       "        vertical-align: top;\n",
       "    }\n",
       "\n",
       "    .dataframe thead th {\n",
       "        text-align: right;\n",
       "    }\n",
       "</style>\n",
       "<table border=\"1\" class=\"dataframe\">\n",
       "  <thead>\n",
       "    <tr style=\"text-align: right;\">\n",
       "      <th></th>\n",
       "      <th>Advantage™</th>\n",
       "      <th>QAOA (IBM)</th>\n",
       "      <th>WS-QAOA (IBM)</th>\n",
       "      <th>R-QAOA (IBM)</th>\n",
       "      <th>WS-R-QAOA (IBM)</th>\n",
       "      <th>QAOA (AQT)</th>\n",
       "      <th>WS-QAOA (AQT)</th>\n",
       "      <th>R-QAOA (AQT)</th>\n",
       "      <th>WS-R-QAOA (AQT)</th>\n",
       "    </tr>\n",
       "    <tr>\n",
       "      <th>Graph</th>\n",
       "      <th></th>\n",
       "      <th></th>\n",
       "      <th></th>\n",
       "      <th></th>\n",
       "      <th></th>\n",
       "      <th></th>\n",
       "      <th></th>\n",
       "      <th></th>\n",
       "      <th></th>\n",
       "    </tr>\n",
       "  </thead>\n",
       "  <tbody>\n",
       "    <tr>\n",
       "      <th>4</th>\n",
       "      <td>1.00</td>\n",
       "      <td>0.945</td>\n",
       "      <td>0.985</td>\n",
       "      <td>0.000</td>\n",
       "      <td>1.0</td>\n",
       "      <td>0.880</td>\n",
       "      <td>0.895</td>\n",
       "      <td>0.875</td>\n",
       "      <td>1.000</td>\n",
       "    </tr>\n",
       "    <tr>\n",
       "      <th>4w</th>\n",
       "      <td>0.98</td>\n",
       "      <td>0.905</td>\n",
       "      <td>0.975</td>\n",
       "      <td>1.000</td>\n",
       "      <td>1.0</td>\n",
       "      <td>0.815</td>\n",
       "      <td>0.995</td>\n",
       "      <td>0.850</td>\n",
       "      <td>0.975</td>\n",
       "    </tr>\n",
       "    <tr>\n",
       "      <th>5</th>\n",
       "      <td>1.00</td>\n",
       "      <td>0.975</td>\n",
       "      <td>1.000</td>\n",
       "      <td>1.000</td>\n",
       "      <td>1.0</td>\n",
       "      <td>0.830</td>\n",
       "      <td>0.825</td>\n",
       "      <td>1.000</td>\n",
       "      <td>1.000</td>\n",
       "    </tr>\n",
       "    <tr>\n",
       "      <th>5w</th>\n",
       "      <td>0.98</td>\n",
       "      <td>0.935</td>\n",
       "      <td>0.975</td>\n",
       "      <td>0.945</td>\n",
       "      <td>1.0</td>\n",
       "      <td>0.870</td>\n",
       "      <td>0.890</td>\n",
       "      <td>0.600</td>\n",
       "      <td>1.000</td>\n",
       "    </tr>\n",
       "    <tr>\n",
       "      <th>6</th>\n",
       "      <td>1.00</td>\n",
       "      <td>0.885</td>\n",
       "      <td>0.940</td>\n",
       "      <td>0.430</td>\n",
       "      <td>1.0</td>\n",
       "      <td>0.785</td>\n",
       "      <td>0.960</td>\n",
       "      <td>0.785</td>\n",
       "      <td>1.000</td>\n",
       "    </tr>\n",
       "    <tr>\n",
       "      <th>6w</th>\n",
       "      <td>0.99</td>\n",
       "      <td>0.855</td>\n",
       "      <td>0.935</td>\n",
       "      <td>1.000</td>\n",
       "      <td>1.0</td>\n",
       "      <td>0.760</td>\n",
       "      <td>0.995</td>\n",
       "      <td>0.970</td>\n",
       "      <td>1.000</td>\n",
       "    </tr>\n",
       "    <tr>\n",
       "      <th>8</th>\n",
       "      <td>1.00</td>\n",
       "      <td>0.790</td>\n",
       "      <td>0.940</td>\n",
       "      <td>0.750</td>\n",
       "      <td>1.0</td>\n",
       "      <td>0.650</td>\n",
       "      <td>0.975</td>\n",
       "      <td>0.750</td>\n",
       "      <td>1.000</td>\n",
       "    </tr>\n",
       "    <tr>\n",
       "      <th>8w</th>\n",
       "      <td>0.99</td>\n",
       "      <td>0.745</td>\n",
       "      <td>0.935</td>\n",
       "      <td>1.000</td>\n",
       "      <td>1.0</td>\n",
       "      <td>0.465</td>\n",
       "      <td>0.970</td>\n",
       "      <td>0.880</td>\n",
       "      <td>1.000</td>\n",
       "    </tr>\n",
       "  </tbody>\n",
       "</table>\n",
       "</div>"
      ],
      "text/plain": [
       "       Advantage™  QAOA (IBM)  WS-QAOA (IBM)  R-QAOA (IBM)  WS-R-QAOA (IBM)  \\\n",
       "Graph                                                                         \n",
       "4            1.00       0.945          0.985         0.000              1.0   \n",
       "4w           0.98       0.905          0.975         1.000              1.0   \n",
       "5            1.00       0.975          1.000         1.000              1.0   \n",
       "5w           0.98       0.935          0.975         0.945              1.0   \n",
       "6            1.00       0.885          0.940         0.430              1.0   \n",
       "6w           0.99       0.855          0.935         1.000              1.0   \n",
       "8            1.00       0.790          0.940         0.750              1.0   \n",
       "8w           0.99       0.745          0.935         1.000              1.0   \n",
       "\n",
       "       QAOA (AQT)  WS-QAOA (AQT)  R-QAOA (AQT)  WS-R-QAOA (AQT)  \n",
       "Graph                                                            \n",
       "4           0.880          0.895         0.875            1.000  \n",
       "4w          0.815          0.995         0.850            0.975  \n",
       "5           0.830          0.825         1.000            1.000  \n",
       "5w          0.870          0.890         0.600            1.000  \n",
       "6           0.785          0.960         0.785            1.000  \n",
       "6w          0.760          0.995         0.970            1.000  \n",
       "8           0.650          0.975         0.750            1.000  \n",
       "8w          0.465          0.970         0.880            1.000  "
      ]
     },
     "execution_count": 116,
     "metadata": {},
     "output_type": "execute_result"
    }
   ],
   "source": [
    "# drop TQA-Axis -> nicht vergleichbar mit QAOA, da fixe Startpunkte\n",
    "ibm_noise_ar_df_o = noise_init_gem_ar_df.drop('TQA-QAOA', axis=1)\n",
    "ibm_noise_ar_df_o = ibm_noise_ar_df_o.add_suffix(' (IBM)')\n",
    "aqt_noise_aqt_ar_df_o = noise_aqt_init_gem_ar_df.drop('TQA-QAOA', axis=1)\n",
    "aqt_noise_aqt_ar_df_o = aqt_noise_aqt_ar_df_o.add_suffix(' (AQT)')\n",
    "\n",
    "results_all_noise_o = pd.concat([dwave_ar, ibm_noise_ar_df_o, aqt_noise_aqt_ar_df_o], axis=1)\n",
    "results_all_noise_o.index.name = \"Graph\"\n",
    "results_all_noise_o"
   ]
  },
  {
   "cell_type": "code",
   "execution_count": 117,
   "id": "fce14401",
   "metadata": {},
   "outputs": [
    {
     "data": {
      "image/png": "[encoded data removed]",
      "text/plain": [
       "<Figure size 432x288 with 1 Axes>"
      ]
     },
     "metadata": {
      "needs_background": "light"
     },
     "output_type": "display_data"
    }
   ],
   "source": [
    "results_all_noise_o.median().plot(kind='bar', ylim=[0.7,1.01], ylabel=\"Approximation Ratio\", )\n",
    "plt.xticks(rotation=45)\n",
    "plt.show()"
   ]
  },
  {
   "cell_type": "code",
   "execution_count": 118,
   "id": "12bdb0ba",
   "metadata": {},
   "outputs": [
    {
     "name": "stdout",
     "output_type": "stream",
     "text": [
      "\\begin{tabular}{lrrrrrrrrr}\n",
      "\\toprule\n",
      "{} &  Advantage™ &  QAOA (IBM) &  WS-QAOA (IBM) &  R-QAOA (IBM) &  WS-R-QAOA (IBM) &  QAOA (AQT) &  WS-QAOA (AQT) &  R-QAOA (AQT) &  WS-R-QAOA (AQT) \\\\\n",
      "Graph &             &             &                &               &                  &             &                &               &                  \\\\\n",
      "\\midrule\n",
      "4     &        1.00 &       0.945 &          0.985 &         0.000 &              1.0 &       0.880 &          0.895 &         0.875 &            1.000 \\\\\n",
      "4w    &        0.98 &       0.905 &          0.975 &         1.000 &              1.0 &       0.815 &          0.995 &         0.850 &            0.975 \\\\\n",
      "5     &        1.00 &       0.975 &          1.000 &         1.000 &              1.0 &       0.830 &          0.825 &         1.000 &            1.000 \\\\\n",
      "5w    &        0.98 &       0.935 &          0.975 &         0.945 &              1.0 &       0.870 &          0.890 &         0.600 &            1.000 \\\\\n",
      "6     &        1.00 &       0.885 &          0.940 &         0.430 &              1.0 &       0.785 &          0.960 &         0.785 &            1.000 \\\\\n",
      "6w    &        0.99 &       0.855 &          0.935 &         1.000 &              1.0 &       0.760 &          0.995 &         0.970 &            1.000 \\\\\n",
      "8     &        1.00 &       0.790 &          0.940 &         0.750 &              1.0 &       0.650 &          0.975 &         0.750 &            1.000 \\\\\n",
      "8w    &        0.99 &       0.745 &          0.935 &         1.000 &              1.0 &       0.465 &          0.970 &         0.880 &            1.000 \\\\\n",
      "\\bottomrule\n",
      "\\end{tabular}\n",
      "\n"
     ]
    }
   ],
   "source": [
    "print(results_all_noise_o.to_latex())"
   ]
  },
  {
   "cell_type": "code",
   "execution_count": null,
   "id": "fde7598b",
   "metadata": {},
   "outputs": [],
   "source": []
  }
 ],
 "metadata": {
  "kernelspec": {
   "display_name": "python3.8",
   "language": "python",
   "name": "python3.8"
  },
  "language_info": {
   "codemirror_mode": {
    "name": "ipython",
    "version": 3
   },
   "file_extension": ".py",
   "mimetype": "text/x-python",
   "name": "python",
   "nbconvert_exporter": "python",
   "pygments_lexer": "ipython3",
   "version": "3.8.6"
  }
 },
 "nbformat": 4,
 "nbformat_minor": 5
}
