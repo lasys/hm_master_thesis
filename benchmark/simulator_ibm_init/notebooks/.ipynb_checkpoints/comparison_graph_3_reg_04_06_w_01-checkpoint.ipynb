{
 "cells": [
  {
   "cell_type": "markdown",
   "id": "7059a5d5",
   "metadata": {},
   "source": [
    "# graph_3_reg_04_06_w_01 Simulator with fixed init points "
   ]
  },
  {
   "cell_type": "code",
   "execution_count": 3,
   "id": "c023c0a5",
   "metadata": {},
   "outputs": [],
   "source": [
    "import sys\n",
    "import os\n",
    "sys.path.insert(0, os.path.abspath('../'))\n",
    "sys.path.insert(0, os.path.abspath('../../'))\n",
    "sys.path.insert(0, os.path.abspath('/home/hm-tlacherm/qlm_notebooks/notebooks_1.2.1/notebooks/measurements/simulator_init/master_thesis_qaoa'))"
   ]
  },
  {
   "cell_type": "code",
   "execution_count": 4,
   "id": "e68b51da",
   "metadata": {
    "scrolled": true
   },
   "outputs": [
    {
     "ename": "AttributeError",
     "evalue": "module 'typing' has no attribute '_ClassVar'",
     "output_type": "error",
     "traceback": [
      "\u001b[0;31m---------------------------------------------------------------------------\u001b[0m",
      "\u001b[0;31mAttributeError\u001b[0m                            Traceback (most recent call last)",
      "\u001b[0;32m/tmp/ipykernel_28894/196102426.py\u001b[0m in \u001b[0;36m<module>\u001b[0;34m\u001b[0m\n\u001b[0;32m----> 1\u001b[0;31m \u001b[0;32mimport\u001b[0m \u001b[0mqiskit\u001b[0m\u001b[0;34m\u001b[0m\u001b[0;34m\u001b[0m\u001b[0m\n\u001b[0m\u001b[1;32m      2\u001b[0m \u001b[0mprovider\u001b[0m \u001b[0;34m=\u001b[0m \u001b[0mqiskit\u001b[0m\u001b[0;34m.\u001b[0m\u001b[0mIBMQ\u001b[0m\u001b[0;34m.\u001b[0m\u001b[0mload_account\u001b[0m\u001b[0;34m(\u001b[0m\u001b[0;34m)\u001b[0m\u001b[0;34m\u001b[0m\u001b[0;34m\u001b[0m\u001b[0m\n\u001b[1;32m      3\u001b[0m \u001b[0;32mfrom\u001b[0m \u001b[0mqiskit_optimization\u001b[0m\u001b[0;34m.\u001b[0m\u001b[0malgorithms\u001b[0m \u001b[0;32mimport\u001b[0m \u001b[0mGoemansWilliamsonOptimizer\u001b[0m\u001b[0;34m\u001b[0m\u001b[0;34m\u001b[0m\u001b[0m\n\u001b[1;32m      4\u001b[0m \u001b[0;34m\u001b[0m\u001b[0m\n\u001b[1;32m      5\u001b[0m \u001b[0;32mfrom\u001b[0m \u001b[0mhelpers\u001b[0m \u001b[0;32mimport\u001b[0m \u001b[0;34m*\u001b[0m\u001b[0;34m\u001b[0m\u001b[0;34m\u001b[0m\u001b[0m\n",
      "\u001b[0;32m~/.local/lib/python3.8/site-packages/qiskit/__init__.py\u001b[0m in \u001b[0;36m<module>\u001b[0;34m\u001b[0m\n\u001b[1;32m     34\u001b[0m \u001b[0;31m# The qiskit.extensions.x imports needs to be placed here due to the\u001b[0m\u001b[0;34m\u001b[0m\u001b[0;34m\u001b[0m\u001b[0;34m\u001b[0m\u001b[0m\n\u001b[1;32m     35\u001b[0m \u001b[0;31m# mechanism for adding gates dynamically.\u001b[0m\u001b[0;34m\u001b[0m\u001b[0;34m\u001b[0m\u001b[0;34m\u001b[0m\u001b[0m\n\u001b[0;32m---> 36\u001b[0;31m \u001b[0;32mimport\u001b[0m \u001b[0mqiskit\u001b[0m\u001b[0;34m.\u001b[0m\u001b[0mextensions\u001b[0m\u001b[0;34m\u001b[0m\u001b[0;34m\u001b[0m\u001b[0m\n\u001b[0m\u001b[1;32m     37\u001b[0m \u001b[0;32mimport\u001b[0m \u001b[0mqiskit\u001b[0m\u001b[0;34m.\u001b[0m\u001b[0mcircuit\u001b[0m\u001b[0;34m.\u001b[0m\u001b[0mmeasure\u001b[0m\u001b[0;34m\u001b[0m\u001b[0;34m\u001b[0m\u001b[0m\n\u001b[1;32m     38\u001b[0m \u001b[0;32mimport\u001b[0m \u001b[0mqiskit\u001b[0m\u001b[0;34m.\u001b[0m\u001b[0mcircuit\u001b[0m\u001b[0;34m.\u001b[0m\u001b[0mreset\u001b[0m\u001b[0;34m\u001b[0m\u001b[0;34m\u001b[0m\u001b[0m\n",
      "\u001b[0;32m~/.local/lib/python3.8/site-packages/qiskit/extensions/__init__.py\u001b[0m in \u001b[0;36m<module>\u001b[0;34m\u001b[0m\n\u001b[1;32m     48\u001b[0m \u001b[0;32mfrom\u001b[0m \u001b[0mqiskit\u001b[0m\u001b[0;34m.\u001b[0m\u001b[0mcircuit\u001b[0m\u001b[0;34m.\u001b[0m\u001b[0mbarrier\u001b[0m \u001b[0;32mimport\u001b[0m \u001b[0mBarrier\u001b[0m\u001b[0;34m\u001b[0m\u001b[0;34m\u001b[0m\u001b[0m\n\u001b[1;32m     49\u001b[0m \u001b[0;34m\u001b[0m\u001b[0m\n\u001b[0;32m---> 50\u001b[0;31m \u001b[0;32mfrom\u001b[0m \u001b[0;34m.\u001b[0m\u001b[0mquantum_initializer\u001b[0m\u001b[0;34m.\u001b[0m\u001b[0minitializer\u001b[0m \u001b[0;32mimport\u001b[0m \u001b[0mInitialize\u001b[0m\u001b[0;34m\u001b[0m\u001b[0;34m\u001b[0m\u001b[0m\n\u001b[0m\u001b[1;32m     51\u001b[0m \u001b[0;32mfrom\u001b[0m \u001b[0;34m.\u001b[0m\u001b[0munitary\u001b[0m \u001b[0;32mimport\u001b[0m \u001b[0mUnitaryGate\u001b[0m\u001b[0;34m\u001b[0m\u001b[0;34m\u001b[0m\u001b[0m\n\u001b[1;32m     52\u001b[0m \u001b[0;32mfrom\u001b[0m \u001b[0;34m.\u001b[0m\u001b[0mhamiltonian_gate\u001b[0m \u001b[0;32mimport\u001b[0m \u001b[0mHamiltonianGate\u001b[0m\u001b[0;34m\u001b[0m\u001b[0;34m\u001b[0m\u001b[0m\n",
      "\u001b[0;32m~/.local/lib/python3.8/site-packages/qiskit/extensions/quantum_initializer/initializer.py\u001b[0m in \u001b[0;36m<module>\u001b[0;34m\u001b[0m\n\u001b[1;32m     29\u001b[0m \u001b[0;32mfrom\u001b[0m \u001b[0mqiskit\u001b[0m\u001b[0;34m.\u001b[0m\u001b[0mcircuit\u001b[0m\u001b[0;34m.\u001b[0m\u001b[0mlibrary\u001b[0m\u001b[0;34m.\u001b[0m\u001b[0mstandard_gates\u001b[0m\u001b[0;34m.\u001b[0m\u001b[0mrz\u001b[0m \u001b[0;32mimport\u001b[0m \u001b[0mRZGate\u001b[0m\u001b[0;34m\u001b[0m\u001b[0;34m\u001b[0m\u001b[0m\n\u001b[1;32m     30\u001b[0m \u001b[0;32mfrom\u001b[0m \u001b[0mqiskit\u001b[0m\u001b[0;34m.\u001b[0m\u001b[0mcircuit\u001b[0m\u001b[0;34m.\u001b[0m\u001b[0mreset\u001b[0m \u001b[0;32mimport\u001b[0m \u001b[0mReset\u001b[0m\u001b[0;34m\u001b[0m\u001b[0;34m\u001b[0m\u001b[0m\n\u001b[0;32m---> 31\u001b[0;31m \u001b[0;32mfrom\u001b[0m \u001b[0mqiskit\u001b[0m\u001b[0;34m.\u001b[0m\u001b[0mquantum_info\u001b[0m \u001b[0;32mimport\u001b[0m \u001b[0mStatevector\u001b[0m\u001b[0;34m\u001b[0m\u001b[0;34m\u001b[0m\u001b[0m\n\u001b[0m\u001b[1;32m     32\u001b[0m \u001b[0;34m\u001b[0m\u001b[0m\n\u001b[1;32m     33\u001b[0m \u001b[0m_EPS\u001b[0m \u001b[0;34m=\u001b[0m \u001b[0;36m1e-10\u001b[0m  \u001b[0;31m# global variable used to chop very small numbers to zero\u001b[0m\u001b[0;34m\u001b[0m\u001b[0;34m\u001b[0m\u001b[0m\n",
      "\u001b[0;32m~/.local/lib/python3.8/site-packages/qiskit/quantum_info/__init__.py\u001b[0m in \u001b[0;36m<module>\u001b[0;34m\u001b[0m\n\u001b[1;32m    122\u001b[0m \"\"\"\n\u001b[1;32m    123\u001b[0m \u001b[0;34m\u001b[0m\u001b[0m\n\u001b[0;32m--> 124\u001b[0;31m \u001b[0;32mfrom\u001b[0m \u001b[0;34m.\u001b[0m\u001b[0moperators\u001b[0m \u001b[0;32mimport\u001b[0m \u001b[0mOperator\u001b[0m\u001b[0;34m,\u001b[0m \u001b[0mScalarOp\u001b[0m\u001b[0;34m,\u001b[0m \u001b[0mPauli\u001b[0m\u001b[0;34m,\u001b[0m \u001b[0mClifford\u001b[0m\u001b[0;34m,\u001b[0m \u001b[0mSparsePauliOp\u001b[0m\u001b[0;34m\u001b[0m\u001b[0;34m\u001b[0m\u001b[0m\n\u001b[0m\u001b[1;32m    125\u001b[0m \u001b[0;32mfrom\u001b[0m \u001b[0;34m.\u001b[0m\u001b[0moperators\u001b[0m \u001b[0;32mimport\u001b[0m \u001b[0mPauliList\u001b[0m\u001b[0;34m,\u001b[0m \u001b[0mPauliTable\u001b[0m\u001b[0;34m,\u001b[0m \u001b[0mStabilizerTable\u001b[0m\u001b[0;34m,\u001b[0m \u001b[0mpauli_basis\u001b[0m\u001b[0;34m,\u001b[0m \u001b[0mpauli_group\u001b[0m\u001b[0;34m\u001b[0m\u001b[0;34m\u001b[0m\u001b[0m\n\u001b[1;32m    126\u001b[0m \u001b[0;32mfrom\u001b[0m \u001b[0;34m.\u001b[0m\u001b[0moperators\u001b[0m\u001b[0;34m.\u001b[0m\u001b[0mchannel\u001b[0m \u001b[0;32mimport\u001b[0m \u001b[0mChoi\u001b[0m\u001b[0;34m,\u001b[0m \u001b[0mSuperOp\u001b[0m\u001b[0;34m,\u001b[0m \u001b[0mKraus\u001b[0m\u001b[0;34m,\u001b[0m \u001b[0mStinespring\u001b[0m\u001b[0;34m,\u001b[0m \u001b[0mChi\u001b[0m\u001b[0;34m,\u001b[0m \u001b[0mPTM\u001b[0m\u001b[0;34m\u001b[0m\u001b[0;34m\u001b[0m\u001b[0m\n",
      "\u001b[0;32m~/.local/lib/python3.8/site-packages/qiskit/quantum_info/operators/__init__.py\u001b[0m in \u001b[0;36m<module>\u001b[0;34m\u001b[0m\n\u001b[1;32m     16\u001b[0m \u001b[0;32mfrom\u001b[0m \u001b[0;34m.\u001b[0m\u001b[0mscalar_op\u001b[0m \u001b[0;32mimport\u001b[0m \u001b[0mScalarOp\u001b[0m\u001b[0;34m\u001b[0m\u001b[0;34m\u001b[0m\u001b[0m\n\u001b[1;32m     17\u001b[0m \u001b[0;32mfrom\u001b[0m \u001b[0;34m.\u001b[0m\u001b[0mchannel\u001b[0m \u001b[0;32mimport\u001b[0m \u001b[0mChoi\u001b[0m\u001b[0;34m,\u001b[0m \u001b[0mSuperOp\u001b[0m\u001b[0;34m,\u001b[0m \u001b[0mKraus\u001b[0m\u001b[0;34m,\u001b[0m \u001b[0mStinespring\u001b[0m\u001b[0;34m,\u001b[0m \u001b[0mChi\u001b[0m\u001b[0;34m,\u001b[0m \u001b[0mPTM\u001b[0m\u001b[0;34m\u001b[0m\u001b[0;34m\u001b[0m\u001b[0m\n\u001b[0;32m---> 18\u001b[0;31m \u001b[0;32mfrom\u001b[0m \u001b[0;34m.\u001b[0m\u001b[0mmeasures\u001b[0m \u001b[0;32mimport\u001b[0m \u001b[0mprocess_fidelity\u001b[0m\u001b[0;34m,\u001b[0m \u001b[0maverage_gate_fidelity\u001b[0m\u001b[0;34m,\u001b[0m \u001b[0mgate_error\u001b[0m\u001b[0;34m,\u001b[0m \u001b[0mdiamond_norm\u001b[0m\u001b[0;34m\u001b[0m\u001b[0;34m\u001b[0m\u001b[0m\n\u001b[0m\u001b[1;32m     19\u001b[0m \u001b[0;32mfrom\u001b[0m \u001b[0;34m.\u001b[0m\u001b[0msymplectic\u001b[0m \u001b[0;32mimport\u001b[0m \u001b[0mClifford\u001b[0m\u001b[0;34m,\u001b[0m \u001b[0mPauli\u001b[0m\u001b[0;34m,\u001b[0m \u001b[0mPauliList\u001b[0m\u001b[0;34m,\u001b[0m \u001b[0mSparsePauliOp\u001b[0m\u001b[0;34m,\u001b[0m \u001b[0mPauliTable\u001b[0m\u001b[0;34m,\u001b[0m \u001b[0mStabilizerTable\u001b[0m\u001b[0;34m\u001b[0m\u001b[0;34m\u001b[0m\u001b[0m\n\u001b[1;32m     20\u001b[0m \u001b[0;32mfrom\u001b[0m \u001b[0;34m.\u001b[0m\u001b[0msymplectic\u001b[0m \u001b[0;32mimport\u001b[0m \u001b[0mpauli_basis\u001b[0m\u001b[0;34m\u001b[0m\u001b[0;34m\u001b[0m\u001b[0m\n",
      "\u001b[0;32m~/.local/lib/python3.8/site-packages/qiskit/quantum_info/operators/measures.py\u001b[0m in \u001b[0;36m<module>\u001b[0;34m\u001b[0m\n\u001b[1;32m     30\u001b[0m \u001b[0;34m\u001b[0m\u001b[0m\n\u001b[1;32m     31\u001b[0m \u001b[0;32mtry\u001b[0m\u001b[0;34m:\u001b[0m\u001b[0;34m\u001b[0m\u001b[0;34m\u001b[0m\u001b[0m\n\u001b[0;32m---> 32\u001b[0;31m     \u001b[0;32mimport\u001b[0m \u001b[0mcvxpy\u001b[0m\u001b[0;34m\u001b[0m\u001b[0;34m\u001b[0m\u001b[0m\n\u001b[0m\u001b[1;32m     33\u001b[0m \u001b[0;34m\u001b[0m\u001b[0m\n\u001b[1;32m     34\u001b[0m     \u001b[0m_HAS_CVX\u001b[0m \u001b[0;34m=\u001b[0m \u001b[0;32mTrue\u001b[0m\u001b[0;34m\u001b[0m\u001b[0;34m\u001b[0m\u001b[0m\n",
      "\u001b[0;32m~/.local/lib/python3.8/site-packages/cvxpy/__init__.py\u001b[0m in \u001b[0;36m<module>\u001b[0;34m\u001b[0m\n\u001b[1;32m     21\u001b[0m \u001b[0;32mfrom\u001b[0m \u001b[0mcvxpy\u001b[0m\u001b[0;34m.\u001b[0m\u001b[0mexpressions\u001b[0m\u001b[0;34m.\u001b[0m\u001b[0mvariable\u001b[0m \u001b[0;32mimport\u001b[0m \u001b[0mVariable\u001b[0m\u001b[0;34m\u001b[0m\u001b[0;34m\u001b[0m\u001b[0m\n\u001b[1;32m     22\u001b[0m \u001b[0;32mfrom\u001b[0m \u001b[0mcvxpy\u001b[0m\u001b[0;34m.\u001b[0m\u001b[0mexpressions\u001b[0m\u001b[0;34m.\u001b[0m\u001b[0mconstants\u001b[0m \u001b[0;32mimport\u001b[0m \u001b[0mParameter\u001b[0m\u001b[0;34m,\u001b[0m \u001b[0mCallbackParam\u001b[0m\u001b[0;34m,\u001b[0m \u001b[0mConstant\u001b[0m\u001b[0;34m\u001b[0m\u001b[0;34m\u001b[0m\u001b[0m\n\u001b[0;32m---> 23\u001b[0;31m \u001b[0;32mfrom\u001b[0m \u001b[0mcvxpy\u001b[0m\u001b[0;34m.\u001b[0m\u001b[0mproblems\u001b[0m\u001b[0;34m.\u001b[0m\u001b[0mproblem\u001b[0m \u001b[0;32mimport\u001b[0m \u001b[0mProblem\u001b[0m\u001b[0;34m\u001b[0m\u001b[0;34m\u001b[0m\u001b[0m\n\u001b[0m\u001b[1;32m     24\u001b[0m \u001b[0;32mfrom\u001b[0m \u001b[0mcvxpy\u001b[0m\u001b[0;34m.\u001b[0m\u001b[0mproblems\u001b[0m\u001b[0;34m.\u001b[0m\u001b[0mobjective\u001b[0m \u001b[0;32mimport\u001b[0m \u001b[0mMaximize\u001b[0m\u001b[0;34m,\u001b[0m \u001b[0mMinimize\u001b[0m\u001b[0;34m\u001b[0m\u001b[0;34m\u001b[0m\u001b[0m\n\u001b[1;32m     25\u001b[0m \u001b[0;32mimport\u001b[0m \u001b[0mcvxpy\u001b[0m\u001b[0;34m.\u001b[0m\u001b[0minterface\u001b[0m\u001b[0;34m.\u001b[0m\u001b[0mscipy_wrapper\u001b[0m\u001b[0;34m\u001b[0m\u001b[0;34m\u001b[0m\u001b[0m\n",
      "\u001b[0;32m~/.local/lib/python3.8/site-packages/cvxpy/problems/problem.py\u001b[0m in \u001b[0;36m<module>\u001b[0;34m\u001b[0m\n\u001b[1;32m     28\u001b[0m \u001b[0;32mfrom\u001b[0m \u001b[0mcvxpy\u001b[0m\u001b[0;34m.\u001b[0m\u001b[0minterface\u001b[0m\u001b[0;34m.\u001b[0m\u001b[0mmatrix_utilities\u001b[0m \u001b[0;32mimport\u001b[0m \u001b[0mscalar_value\u001b[0m\u001b[0;34m\u001b[0m\u001b[0;34m\u001b[0m\u001b[0m\n\u001b[1;32m     29\u001b[0m \u001b[0;32mfrom\u001b[0m \u001b[0mcvxpy\u001b[0m\u001b[0;34m.\u001b[0m\u001b[0mproblems\u001b[0m\u001b[0;34m.\u001b[0m\u001b[0mobjective\u001b[0m \u001b[0;32mimport\u001b[0m \u001b[0mMinimize\u001b[0m\u001b[0;34m,\u001b[0m \u001b[0mMaximize\u001b[0m\u001b[0;34m\u001b[0m\u001b[0;34m\u001b[0m\u001b[0m\n\u001b[0;32m---> 30\u001b[0;31m \u001b[0;32mfrom\u001b[0m \u001b[0mcvxpy\u001b[0m\u001b[0;34m.\u001b[0m\u001b[0mreductions\u001b[0m \u001b[0;32mimport\u001b[0m \u001b[0mInverseData\u001b[0m\u001b[0;34m\u001b[0m\u001b[0;34m\u001b[0m\u001b[0m\n\u001b[0m\u001b[1;32m     31\u001b[0m \u001b[0;32mfrom\u001b[0m \u001b[0mcvxpy\u001b[0m\u001b[0;34m.\u001b[0m\u001b[0mreductions\u001b[0m\u001b[0;34m.\u001b[0m\u001b[0mchain\u001b[0m \u001b[0;32mimport\u001b[0m \u001b[0mChain\u001b[0m\u001b[0;34m\u001b[0m\u001b[0;34m\u001b[0m\u001b[0m\n\u001b[1;32m     32\u001b[0m \u001b[0;32mfrom\u001b[0m \u001b[0mcvxpy\u001b[0m\u001b[0;34m.\u001b[0m\u001b[0mreductions\u001b[0m\u001b[0;34m.\u001b[0m\u001b[0mdgp2dcp\u001b[0m\u001b[0;34m.\u001b[0m\u001b[0mdgp2dcp\u001b[0m \u001b[0;32mimport\u001b[0m \u001b[0mDgp2Dcp\u001b[0m\u001b[0;34m\u001b[0m\u001b[0;34m\u001b[0m\u001b[0m\n",
      "\u001b[0;32m~/.local/lib/python3.8/site-packages/cvxpy/reductions/__init__.py\u001b[0m in \u001b[0;36m<module>\u001b[0;34m\u001b[0m\n\u001b[1;32m     30\u001b[0m \u001b[0;32mfrom\u001b[0m \u001b[0mcvxpy\u001b[0m\u001b[0;34m.\u001b[0m\u001b[0mreductions\u001b[0m\u001b[0;34m.\u001b[0m\u001b[0mqp2quad_form\u001b[0m\u001b[0;34m.\u001b[0m\u001b[0mqp_matrix_stuffing\u001b[0m \u001b[0;32mimport\u001b[0m \u001b[0mQpMatrixStuffing\u001b[0m\u001b[0;34m\u001b[0m\u001b[0;34m\u001b[0m\u001b[0m\n\u001b[1;32m     31\u001b[0m \u001b[0;32mfrom\u001b[0m \u001b[0mcvxpy\u001b[0m\u001b[0;34m.\u001b[0m\u001b[0mreductions\u001b[0m\u001b[0;34m.\u001b[0m\u001b[0mqp2quad_form\u001b[0m\u001b[0;34m.\u001b[0m\u001b[0mqp2symbolic_qp\u001b[0m \u001b[0;32mimport\u001b[0m \u001b[0mQp2SymbolicQp\u001b[0m\u001b[0;34m\u001b[0m\u001b[0;34m\u001b[0m\u001b[0m\n\u001b[0;32m---> 32\u001b[0;31m \u001b[0;32mfrom\u001b[0m \u001b[0mcvxpy\u001b[0m\u001b[0;34m.\u001b[0m\u001b[0mreductions\u001b[0m\u001b[0;34m.\u001b[0m\u001b[0msolvers\u001b[0m\u001b[0;34m.\u001b[0m\u001b[0msolving_chain\u001b[0m \u001b[0;32mimport\u001b[0m \u001b[0mSolvingChain\u001b[0m\u001b[0;34m\u001b[0m\u001b[0;34m\u001b[0m\u001b[0m\n\u001b[0m",
      "\u001b[0;32m~/.local/lib/python3.8/site-packages/cvxpy/reductions/solvers/solving_chain.py\u001b[0m in \u001b[0;36m<module>\u001b[0;34m\u001b[0m\n\u001b[1;32m     20\u001b[0m \u001b[0;32mfrom\u001b[0m \u001b[0mcvxpy\u001b[0m\u001b[0;34m.\u001b[0m\u001b[0mreductions\u001b[0m\u001b[0;34m.\u001b[0m\u001b[0msolvers\u001b[0m\u001b[0;34m.\u001b[0m\u001b[0mconstant_solver\u001b[0m \u001b[0;32mimport\u001b[0m \u001b[0mConstantSolver\u001b[0m\u001b[0;34m\u001b[0m\u001b[0;34m\u001b[0m\u001b[0m\n\u001b[1;32m     21\u001b[0m \u001b[0;32mfrom\u001b[0m \u001b[0mcvxpy\u001b[0m\u001b[0;34m.\u001b[0m\u001b[0mreductions\u001b[0m\u001b[0;34m.\u001b[0m\u001b[0msolvers\u001b[0m\u001b[0;34m.\u001b[0m\u001b[0msolver\u001b[0m \u001b[0;32mimport\u001b[0m \u001b[0mSolver\u001b[0m\u001b[0;34m\u001b[0m\u001b[0;34m\u001b[0m\u001b[0m\n\u001b[0;32m---> 22\u001b[0;31m \u001b[0;32mfrom\u001b[0m \u001b[0mcvxpy\u001b[0m\u001b[0;34m.\u001b[0m\u001b[0mreductions\u001b[0m\u001b[0;34m.\u001b[0m\u001b[0msolvers\u001b[0m \u001b[0;32mimport\u001b[0m \u001b[0mdefines\u001b[0m \u001b[0;32mas\u001b[0m \u001b[0mslv_def\u001b[0m\u001b[0;34m\u001b[0m\u001b[0;34m\u001b[0m\u001b[0m\n\u001b[0m\u001b[1;32m     23\u001b[0m \u001b[0;32mfrom\u001b[0m \u001b[0mcvxpy\u001b[0m\u001b[0;34m.\u001b[0m\u001b[0mutilities\u001b[0m\u001b[0;34m.\u001b[0m\u001b[0mdebug_tools\u001b[0m \u001b[0;32mimport\u001b[0m \u001b[0mbuild_non_disciplined_error_msg\u001b[0m\u001b[0;34m\u001b[0m\u001b[0;34m\u001b[0m\u001b[0m\n\u001b[1;32m     24\u001b[0m \u001b[0;32mfrom\u001b[0m \u001b[0mtyping\u001b[0m \u001b[0;32mimport\u001b[0m \u001b[0mAny\u001b[0m\u001b[0;34m,\u001b[0m \u001b[0mList\u001b[0m\u001b[0;34m\u001b[0m\u001b[0;34m\u001b[0m\u001b[0m\n",
      "\u001b[0;32m~/.local/lib/python3.8/site-packages/cvxpy/reductions/solvers/defines.py\u001b[0m in \u001b[0;36m<module>\u001b[0;34m\u001b[0m\n\u001b[1;32m    103\u001b[0m \u001b[0;34m\u001b[0m\u001b[0m\n\u001b[1;32m    104\u001b[0m \u001b[0;34m\u001b[0m\u001b[0m\n\u001b[0;32m--> 105\u001b[0;31m \u001b[0mINSTALLED_SOLVERS\u001b[0m \u001b[0;34m=\u001b[0m \u001b[0minstalled_solvers\u001b[0m\u001b[0;34m(\u001b[0m\u001b[0;34m)\u001b[0m\u001b[0;34m\u001b[0m\u001b[0;34m\u001b[0m\u001b[0m\n\u001b[0m\u001b[1;32m    106\u001b[0m INSTALLED_CONIC_SOLVERS = [\n\u001b[1;32m    107\u001b[0m   slv for slv in INSTALLED_SOLVERS if slv in CONIC_SOLVERS]\n",
      "\u001b[0;32m~/.local/lib/python3.8/site-packages/cvxpy/reductions/solvers/defines.py\u001b[0m in \u001b[0;36minstalled_solvers\u001b[0;34m()\u001b[0m\n\u001b[1;32m     92\u001b[0m     \u001b[0;31m# Check conic solvers\u001b[0m\u001b[0;34m\u001b[0m\u001b[0;34m\u001b[0m\u001b[0;34m\u001b[0m\u001b[0m\n\u001b[1;32m     93\u001b[0m     \u001b[0;32mfor\u001b[0m \u001b[0mname\u001b[0m\u001b[0;34m,\u001b[0m \u001b[0msolver\u001b[0m \u001b[0;32min\u001b[0m \u001b[0mSOLVER_MAP_CONIC\u001b[0m\u001b[0;34m.\u001b[0m\u001b[0mitems\u001b[0m\u001b[0;34m(\u001b[0m\u001b[0;34m)\u001b[0m\u001b[0;34m:\u001b[0m\u001b[0;34m\u001b[0m\u001b[0;34m\u001b[0m\u001b[0m\n\u001b[0;32m---> 94\u001b[0;31m         \u001b[0;32mif\u001b[0m \u001b[0msolver\u001b[0m\u001b[0;34m.\u001b[0m\u001b[0mis_installed\u001b[0m\u001b[0;34m(\u001b[0m\u001b[0;34m)\u001b[0m\u001b[0;34m:\u001b[0m\u001b[0;34m\u001b[0m\u001b[0;34m\u001b[0m\u001b[0m\n\u001b[0m\u001b[1;32m     95\u001b[0m             \u001b[0minstalled\u001b[0m\u001b[0;34m.\u001b[0m\u001b[0mappend\u001b[0m\u001b[0;34m(\u001b[0m\u001b[0mname\u001b[0m\u001b[0;34m)\u001b[0m\u001b[0;34m\u001b[0m\u001b[0;34m\u001b[0m\u001b[0m\n\u001b[1;32m     96\u001b[0m     \u001b[0;31m# Check QP solvers\u001b[0m\u001b[0;34m\u001b[0m\u001b[0;34m\u001b[0m\u001b[0;34m\u001b[0m\u001b[0m\n",
      "\u001b[0;32m~/.local/lib/python3.8/site-packages/cvxpy/reductions/solvers/solver.py\u001b[0m in \u001b[0;36mis_installed\u001b[0;34m(self)\u001b[0m\n\u001b[1;32m     56\u001b[0m         \"\"\"\n\u001b[1;32m     57\u001b[0m         \u001b[0;32mtry\u001b[0m\u001b[0;34m:\u001b[0m\u001b[0;34m\u001b[0m\u001b[0;34m\u001b[0m\u001b[0m\n\u001b[0;32m---> 58\u001b[0;31m             \u001b[0mself\u001b[0m\u001b[0;34m.\u001b[0m\u001b[0mimport_solver\u001b[0m\u001b[0;34m(\u001b[0m\u001b[0;34m)\u001b[0m\u001b[0;34m\u001b[0m\u001b[0;34m\u001b[0m\u001b[0m\n\u001b[0m\u001b[1;32m     59\u001b[0m             \u001b[0;32mreturn\u001b[0m \u001b[0;32mTrue\u001b[0m\u001b[0;34m\u001b[0m\u001b[0;34m\u001b[0m\u001b[0m\n\u001b[1;32m     60\u001b[0m         \u001b[0;32mexcept\u001b[0m \u001b[0mImportError\u001b[0m\u001b[0;34m:\u001b[0m\u001b[0;34m\u001b[0m\u001b[0;34m\u001b[0m\u001b[0m\n",
      "\u001b[0;32m~/.local/lib/python3.8/site-packages/cvxpy/reductions/solvers/conic_solvers/scipy_conif.py\u001b[0m in \u001b[0;36mimport_solver\u001b[0;34m(self)\u001b[0m\n\u001b[1;32m     46\u001b[0m         \"\"\"Imports the solver.\n\u001b[1;32m     47\u001b[0m         \"\"\"\n\u001b[0;32m---> 48\u001b[0;31m         \u001b[0;32mfrom\u001b[0m \u001b[0mscipy\u001b[0m \u001b[0;32mimport\u001b[0m \u001b[0moptimize\u001b[0m \u001b[0;32mas\u001b[0m \u001b[0mopt\u001b[0m\u001b[0;34m\u001b[0m\u001b[0;34m\u001b[0m\u001b[0m\n\u001b[0m\u001b[1;32m     49\u001b[0m         \u001b[0mopt\u001b[0m  \u001b[0;31m# For flake8\u001b[0m\u001b[0;34m\u001b[0m\u001b[0;34m\u001b[0m\u001b[0m\n\u001b[1;32m     50\u001b[0m \u001b[0;34m\u001b[0m\u001b[0m\n",
      "\u001b[0;32m~/.local/lib/python3.8/site-packages/scipy/optimize/__init__.py\u001b[0m in \u001b[0;36m<module>\u001b[0;34m\u001b[0m\n\u001b[1;32m    419\u001b[0m                            Bounds)\n\u001b[1;32m    420\u001b[0m \u001b[0;32mfrom\u001b[0m \u001b[0;34m.\u001b[0m\u001b[0m_hessian_update_strategy\u001b[0m \u001b[0;32mimport\u001b[0m \u001b[0mHessianUpdateStrategy\u001b[0m\u001b[0;34m,\u001b[0m \u001b[0mBFGS\u001b[0m\u001b[0;34m,\u001b[0m \u001b[0mSR1\u001b[0m\u001b[0;34m\u001b[0m\u001b[0;34m\u001b[0m\u001b[0m\n\u001b[0;32m--> 421\u001b[0;31m \u001b[0;32mfrom\u001b[0m \u001b[0;34m.\u001b[0m\u001b[0m_shgo\u001b[0m \u001b[0;32mimport\u001b[0m \u001b[0mshgo\u001b[0m\u001b[0;34m\u001b[0m\u001b[0;34m\u001b[0m\u001b[0m\n\u001b[0m\u001b[1;32m    422\u001b[0m \u001b[0;32mfrom\u001b[0m \u001b[0;34m.\u001b[0m\u001b[0m_dual_annealing\u001b[0m \u001b[0;32mimport\u001b[0m \u001b[0mdual_annealing\u001b[0m\u001b[0;34m\u001b[0m\u001b[0;34m\u001b[0m\u001b[0m\n\u001b[1;32m    423\u001b[0m \u001b[0;32mfrom\u001b[0m \u001b[0;34m.\u001b[0m\u001b[0m_qap\u001b[0m \u001b[0;32mimport\u001b[0m \u001b[0mquadratic_assignment\u001b[0m\u001b[0;34m\u001b[0m\u001b[0;34m\u001b[0m\u001b[0m\n",
      "\u001b[0;32m~/.local/lib/python3.8/site-packages/scipy/optimize/_shgo.py\u001b[0m in \u001b[0;36m<module>\u001b[0;34m\u001b[0m\n\u001b[1;32m      7\u001b[0m \u001b[0;32mimport\u001b[0m \u001b[0mlogging\u001b[0m\u001b[0;34m\u001b[0m\u001b[0;34m\u001b[0m\u001b[0m\n\u001b[1;32m      8\u001b[0m \u001b[0;32mimport\u001b[0m \u001b[0mwarnings\u001b[0m\u001b[0;34m\u001b[0m\u001b[0;34m\u001b[0m\u001b[0m\n\u001b[0;32m----> 9\u001b[0;31m \u001b[0;32mfrom\u001b[0m \u001b[0mscipy\u001b[0m \u001b[0;32mimport\u001b[0m \u001b[0mspatial\u001b[0m\u001b[0;34m\u001b[0m\u001b[0;34m\u001b[0m\u001b[0m\n\u001b[0m\u001b[1;32m     10\u001b[0m \u001b[0;32mfrom\u001b[0m \u001b[0mscipy\u001b[0m\u001b[0;34m.\u001b[0m\u001b[0moptimize\u001b[0m \u001b[0;32mimport\u001b[0m \u001b[0mOptimizeResult\u001b[0m\u001b[0;34m,\u001b[0m \u001b[0mminimize\u001b[0m\u001b[0;34m\u001b[0m\u001b[0;34m\u001b[0m\u001b[0m\n\u001b[1;32m     11\u001b[0m \u001b[0;32mfrom\u001b[0m \u001b[0mscipy\u001b[0m\u001b[0;34m.\u001b[0m\u001b[0moptimize\u001b[0m\u001b[0;34m.\u001b[0m\u001b[0m_shgo_lib\u001b[0m\u001b[0;34m.\u001b[0m\u001b[0mtriangulation\u001b[0m \u001b[0;32mimport\u001b[0m \u001b[0mComplex\u001b[0m\u001b[0;34m\u001b[0m\u001b[0;34m\u001b[0m\u001b[0m\n",
      "\u001b[0;32m~/.local/lib/python3.8/site-packages/scipy/spatial/__init__.py\u001b[0m in \u001b[0;36m<module>\u001b[0;34m\u001b[0m\n\u001b[1;32m    100\u001b[0m \u001b[0;32mfrom\u001b[0m \u001b[0;34m.\u001b[0m\u001b[0m_plotutils\u001b[0m \u001b[0;32mimport\u001b[0m \u001b[0;34m*\u001b[0m\u001b[0;34m\u001b[0m\u001b[0;34m\u001b[0m\u001b[0m\n\u001b[1;32m    101\u001b[0m \u001b[0;32mfrom\u001b[0m \u001b[0;34m.\u001b[0m\u001b[0m_procrustes\u001b[0m \u001b[0;32mimport\u001b[0m \u001b[0mprocrustes\u001b[0m\u001b[0;34m\u001b[0m\u001b[0;34m\u001b[0m\u001b[0m\n\u001b[0;32m--> 102\u001b[0;31m \u001b[0;32mfrom\u001b[0m \u001b[0;34m.\u001b[0m\u001b[0m_geometric_slerp\u001b[0m \u001b[0;32mimport\u001b[0m \u001b[0mgeometric_slerp\u001b[0m\u001b[0;34m\u001b[0m\u001b[0;34m\u001b[0m\u001b[0m\n\u001b[0m\u001b[1;32m    103\u001b[0m \u001b[0;34m\u001b[0m\u001b[0m\n\u001b[1;32m    104\u001b[0m \u001b[0m__all__\u001b[0m \u001b[0;34m=\u001b[0m \u001b[0;34m[\u001b[0m\u001b[0ms\u001b[0m \u001b[0;32mfor\u001b[0m \u001b[0ms\u001b[0m \u001b[0;32min\u001b[0m \u001b[0mdir\u001b[0m\u001b[0;34m(\u001b[0m\u001b[0;34m)\u001b[0m \u001b[0;32mif\u001b[0m \u001b[0;32mnot\u001b[0m \u001b[0ms\u001b[0m\u001b[0;34m.\u001b[0m\u001b[0mstartswith\u001b[0m\u001b[0;34m(\u001b[0m\u001b[0;34m'_'\u001b[0m\u001b[0;34m)\u001b[0m\u001b[0;34m]\u001b[0m\u001b[0;34m\u001b[0m\u001b[0;34m\u001b[0m\u001b[0m\n",
      "\u001b[0;32m~/.local/lib/python3.8/site-packages/scipy/spatial/_geometric_slerp.py\u001b[0m in \u001b[0;36m<module>\u001b[0;34m\u001b[0m\n\u001b[1;32m      6\u001b[0m \u001b[0;34m\u001b[0m\u001b[0m\n\u001b[1;32m      7\u001b[0m \u001b[0;32mimport\u001b[0m \u001b[0mnumpy\u001b[0m \u001b[0;32mas\u001b[0m \u001b[0mnp\u001b[0m\u001b[0;34m\u001b[0m\u001b[0;34m\u001b[0m\u001b[0m\n\u001b[0;32m----> 8\u001b[0;31m \u001b[0;32mfrom\u001b[0m \u001b[0mscipy\u001b[0m\u001b[0;34m.\u001b[0m\u001b[0mspatial\u001b[0m\u001b[0;34m.\u001b[0m\u001b[0mdistance\u001b[0m \u001b[0;32mimport\u001b[0m \u001b[0meuclidean\u001b[0m\u001b[0;34m\u001b[0m\u001b[0;34m\u001b[0m\u001b[0m\n\u001b[0m\u001b[1;32m      9\u001b[0m \u001b[0;34m\u001b[0m\u001b[0m\n\u001b[1;32m     10\u001b[0m \u001b[0;34m\u001b[0m\u001b[0m\n",
      "\u001b[0;32m~/.local/lib/python3.8/site-packages/scipy/spatial/distance.py\u001b[0m in \u001b[0;36m<module>\u001b[0;34m\u001b[0m\n\u001b[1;32m   1648\u001b[0m \u001b[0;34m\u001b[0m\u001b[0m\n\u001b[1;32m   1649\u001b[0m \u001b[0;34m@\u001b[0m\u001b[0mdataclasses\u001b[0m\u001b[0;34m.\u001b[0m\u001b[0mdataclass\u001b[0m\u001b[0;34m(\u001b[0m\u001b[0mfrozen\u001b[0m\u001b[0;34m=\u001b[0m\u001b[0;32mTrue\u001b[0m\u001b[0;34m)\u001b[0m\u001b[0;34m\u001b[0m\u001b[0;34m\u001b[0m\u001b[0m\n\u001b[0;32m-> 1650\u001b[0;31m \u001b[0;32mclass\u001b[0m \u001b[0mCDistMetricWrapper\u001b[0m\u001b[0;34m:\u001b[0m\u001b[0;34m\u001b[0m\u001b[0;34m\u001b[0m\u001b[0m\n\u001b[0m\u001b[1;32m   1651\u001b[0m     \u001b[0mmetric_name\u001b[0m\u001b[0;34m:\u001b[0m \u001b[0mstr\u001b[0m\u001b[0;34m\u001b[0m\u001b[0;34m\u001b[0m\u001b[0m\n\u001b[1;32m   1652\u001b[0m \u001b[0;34m\u001b[0m\u001b[0m\n",
      "\u001b[0;32m/usr/local/lib/python3.6/site-packages/dataclasses.py\u001b[0m in \u001b[0;36mwrap\u001b[0;34m(cls)\u001b[0m\n\u001b[1;32m    948\u001b[0m \u001b[0;34m\u001b[0m\u001b[0m\n\u001b[1;32m    949\u001b[0m     \u001b[0;32mdef\u001b[0m \u001b[0mwrap\u001b[0m\u001b[0;34m(\u001b[0m\u001b[0mcls\u001b[0m\u001b[0;34m)\u001b[0m\u001b[0;34m:\u001b[0m\u001b[0;34m\u001b[0m\u001b[0;34m\u001b[0m\u001b[0m\n\u001b[0;32m--> 950\u001b[0;31m         \u001b[0;32mreturn\u001b[0m \u001b[0m_process_class\u001b[0m\u001b[0;34m(\u001b[0m\u001b[0mcls\u001b[0m\u001b[0;34m,\u001b[0m \u001b[0minit\u001b[0m\u001b[0;34m,\u001b[0m \u001b[0mrepr\u001b[0m\u001b[0;34m,\u001b[0m \u001b[0meq\u001b[0m\u001b[0;34m,\u001b[0m \u001b[0morder\u001b[0m\u001b[0;34m,\u001b[0m \u001b[0munsafe_hash\u001b[0m\u001b[0;34m,\u001b[0m \u001b[0mfrozen\u001b[0m\u001b[0;34m)\u001b[0m\u001b[0;34m\u001b[0m\u001b[0;34m\u001b[0m\u001b[0m\n\u001b[0m\u001b[1;32m    951\u001b[0m \u001b[0;34m\u001b[0m\u001b[0m\n\u001b[1;32m    952\u001b[0m     \u001b[0;31m# See if we're being called as @dataclass or @dataclass().\u001b[0m\u001b[0;34m\u001b[0m\u001b[0;34m\u001b[0m\u001b[0;34m\u001b[0m\u001b[0m\n",
      "\u001b[0;32m/usr/local/lib/python3.6/site-packages/dataclasses.py\u001b[0m in \u001b[0;36m_process_class\u001b[0;34m(cls, init, repr, eq, order, unsafe_hash, frozen)\u001b[0m\n\u001b[1;32m    798\u001b[0m     \u001b[0;31m# things, and set the default values (as class attributes) where\u001b[0m\u001b[0;34m\u001b[0m\u001b[0;34m\u001b[0m\u001b[0;34m\u001b[0m\u001b[0m\n\u001b[1;32m    799\u001b[0m     \u001b[0;31m# we can.\u001b[0m\u001b[0;34m\u001b[0m\u001b[0;34m\u001b[0m\u001b[0;34m\u001b[0m\u001b[0m\n\u001b[0;32m--> 800\u001b[0;31m     cls_fields = [_get_field(cls, name, type)\n\u001b[0m\u001b[1;32m    801\u001b[0m                   for name, type in cls_annotations.items()]\n\u001b[1;32m    802\u001b[0m     \u001b[0;32mfor\u001b[0m \u001b[0mf\u001b[0m \u001b[0;32min\u001b[0m \u001b[0mcls_fields\u001b[0m\u001b[0;34m:\u001b[0m\u001b[0;34m\u001b[0m\u001b[0;34m\u001b[0m\u001b[0m\n",
      "\u001b[0;32m/usr/local/lib/python3.6/site-packages/dataclasses.py\u001b[0m in \u001b[0;36m<listcomp>\u001b[0;34m(.0)\u001b[0m\n\u001b[1;32m    798\u001b[0m     \u001b[0;31m# things, and set the default values (as class attributes) where\u001b[0m\u001b[0;34m\u001b[0m\u001b[0;34m\u001b[0m\u001b[0;34m\u001b[0m\u001b[0m\n\u001b[1;32m    799\u001b[0m     \u001b[0;31m# we can.\u001b[0m\u001b[0;34m\u001b[0m\u001b[0;34m\u001b[0m\u001b[0;34m\u001b[0m\u001b[0m\n\u001b[0;32m--> 800\u001b[0;31m     cls_fields = [_get_field(cls, name, type)\n\u001b[0m\u001b[1;32m    801\u001b[0m                   for name, type in cls_annotations.items()]\n\u001b[1;32m    802\u001b[0m     \u001b[0;32mfor\u001b[0m \u001b[0mf\u001b[0m \u001b[0;32min\u001b[0m \u001b[0mcls_fields\u001b[0m\u001b[0;34m:\u001b[0m\u001b[0;34m\u001b[0m\u001b[0;34m\u001b[0m\u001b[0m\n",
      "\u001b[0;32m/usr/local/lib/python3.6/site-packages/dataclasses.py\u001b[0m in \u001b[0;36m_get_field\u001b[0;34m(cls, a_name, a_type)\u001b[0m\n\u001b[1;32m    657\u001b[0m     \u001b[0mtyping\u001b[0m \u001b[0;34m=\u001b[0m \u001b[0msys\u001b[0m\u001b[0;34m.\u001b[0m\u001b[0mmodules\u001b[0m\u001b[0;34m.\u001b[0m\u001b[0mget\u001b[0m\u001b[0;34m(\u001b[0m\u001b[0;34m'typing'\u001b[0m\u001b[0;34m)\u001b[0m\u001b[0;34m\u001b[0m\u001b[0;34m\u001b[0m\u001b[0m\n\u001b[1;32m    658\u001b[0m     \u001b[0;32mif\u001b[0m \u001b[0mtyping\u001b[0m\u001b[0;34m:\u001b[0m\u001b[0;34m\u001b[0m\u001b[0;34m\u001b[0m\u001b[0m\n\u001b[0;32m--> 659\u001b[0;31m         if (_is_classvar(a_type, typing)\n\u001b[0m\u001b[1;32m    660\u001b[0m             or (isinstance(f.type, str)\n\u001b[1;32m    661\u001b[0m                 and _is_type(f.type, cls, typing, typing.ClassVar,\n",
      "\u001b[0;32m/usr/local/lib/python3.6/site-packages/dataclasses.py\u001b[0m in \u001b[0;36m_is_classvar\u001b[0;34m(a_type, typing)\u001b[0m\n\u001b[1;32m    548\u001b[0m     \u001b[0;31m# This test uses a typing internal class, but it's the best way to\u001b[0m\u001b[0;34m\u001b[0m\u001b[0;34m\u001b[0m\u001b[0;34m\u001b[0m\u001b[0m\n\u001b[1;32m    549\u001b[0m     \u001b[0;31m# test if this is a ClassVar.\u001b[0m\u001b[0;34m\u001b[0m\u001b[0;34m\u001b[0m\u001b[0;34m\u001b[0m\u001b[0m\n\u001b[0;32m--> 550\u001b[0;31m     \u001b[0;32mreturn\u001b[0m \u001b[0mtype\u001b[0m\u001b[0;34m(\u001b[0m\u001b[0ma_type\u001b[0m\u001b[0;34m)\u001b[0m \u001b[0;32mis\u001b[0m \u001b[0mtyping\u001b[0m\u001b[0;34m.\u001b[0m\u001b[0m_ClassVar\u001b[0m\u001b[0;34m\u001b[0m\u001b[0;34m\u001b[0m\u001b[0m\n\u001b[0m\u001b[1;32m    551\u001b[0m \u001b[0;34m\u001b[0m\u001b[0m\n\u001b[1;32m    552\u001b[0m \u001b[0;34m\u001b[0m\u001b[0m\n",
      "\u001b[0;31mAttributeError\u001b[0m: module 'typing' has no attribute '_ClassVar'"
     ]
    }
   ],
   "source": [
    "import qiskit\n",
    "provider = qiskit.IBMQ.load_account()\n",
    "from qiskit_optimization.algorithms import GoemansWilliamsonOptimizer\n",
    "\n",
    "from helpers import *\n",
    "from shared.QiskitMaxcut import *\n",
    "from shared.graph_helper import *"
   ]
  },
  {
   "cell_type": "code",
   "execution_count": null,
   "id": "3b68aea8",
   "metadata": {},
   "outputs": [],
   "source": [
    "#%load_ext autoreload\n",
    "#%autoreload 2"
   ]
  },
  {
   "cell_type": "code",
   "execution_count": null,
   "id": "302c7021",
   "metadata": {
    "scrolled": true
   },
   "outputs": [],
   "source": [
    "# ---- Define graph and MaxCut ----\n",
    "filename = \"graph_3_reg_04_06_w_01.txt\"\n",
    "graph = load_nx_graph_from(f\"../data/{filename}\")\n",
    "opt_max_cut = -get_max_cut(graph.name)\n",
    "max_cut = Maxcut(graph, opt_max_cut)\n",
    "max_cut_qubo = max_cut.to_qubo()\n",
    "max_cut.draw()"
   ]
  },
  {
   "cell_type": "markdown",
   "id": "5ff2cfb6",
   "metadata": {},
   "source": [
    "### Goemans Williamson Solution"
   ]
  },
  {
   "cell_type": "code",
   "execution_count": null,
   "id": "fcdc0c75",
   "metadata": {},
   "outputs": [],
   "source": [
    "optimizer = GoemansWilliamsonOptimizer(5)\n",
    "result = optimizer.solve(max_cut_qubo)\n",
    "mean, distribution = max_cut.analyse(result, print_output=True)\n",
    "max_cut.plot_histogram(distribution, mean)"
   ]
  },
  {
   "cell_type": "markdown",
   "id": "ceff3689",
   "metadata": {},
   "source": [
    "## Parameters"
   ]
  },
  {
   "cell_type": "code",
   "execution_count": null,
   "id": "d1d82779",
   "metadata": {},
   "outputs": [],
   "source": [
    "BACKEND, EVAL_NUM, MAX_ITER, MAX_P, SHOTS, initial_points = load_configs(graph.name)\n",
    "display_configs()\n",
    "all_results = {}"
   ]
  },
  {
   "cell_type": "markdown",
   "id": "df53612d",
   "metadata": {},
   "source": [
    "## QAOA"
   ]
  },
  {
   "cell_type": "code",
   "execution_count": null,
   "id": "ce11cc42",
   "metadata": {},
   "outputs": [],
   "source": [
    "from helpers.qaoa_helper import *"
   ]
  },
  {
   "cell_type": "code",
   "execution_count": null,
   "id": "7eda4ef8",
   "metadata": {},
   "outputs": [],
   "source": [
    "qaoa_p_means = []\n",
    "qaoa_p_ratios = []\n",
    "qaoa_p_approx_ratios = []\n",
    "\n",
    "for p in range(1,MAX_P+1):\n",
    "    m, r, ar = start_qaoa_evaluation(max_cut, eval_num=EVAL_NUM, reps=p, maxiter=MAX_ITER, init_points=initial_points[p-1])\n",
    "    qaoa_p_means.append(m)\n",
    "    qaoa_p_ratios.append(r)\n",
    "    qaoa_p_approx_ratios.append(ar)\n",
    "\n",
    "all_results[\"QAOA\"] = [qaoa_p_means, qaoa_p_ratios, qaoa_p_approx_ratios]"
   ]
  },
  {
   "cell_type": "code",
   "execution_count": null,
   "id": "812b73d4",
   "metadata": {
    "scrolled": true
   },
   "outputs": [],
   "source": [
    "display_boxplots_results(qaoa_p_means, qaoa_p_ratios, qaoa_p_approx_ratios)"
   ]
  },
  {
   "cell_type": "markdown",
   "id": "1d3bc91c",
   "metadata": {},
   "source": [
    "## QAOA with TQA"
   ]
  },
  {
   "cell_type": "code",
   "execution_count": null,
   "id": "93cc32e4",
   "metadata": {},
   "outputs": [],
   "source": [
    "from helpers.qaoa_helper import *"
   ]
  },
  {
   "cell_type": "code",
   "execution_count": null,
   "id": "2ef8d5fd",
   "metadata": {},
   "outputs": [],
   "source": [
    "tqa_p_means = []\n",
    "tqa_p_ratios = []\n",
    "tqa_p_approx_ratios = []\n",
    "tqa_init_points = []\n",
    "\n",
    "for p in range(1,MAX_P+1):\n",
    "    tqa_initial_points = calculate_tqa(graph, p)\n",
    "    m, r, ar = start_qaoa_evaluation(max_cut, eval_num=EVAL_NUM, reps=p, init_points=tqa_initial_points, maxiter=MAX_ITER)\n",
    "    tqa_p_means.append(m)\n",
    "    tqa_p_ratios.append(r)\n",
    "    tqa_p_approx_ratios.append(ar)\n",
    "    tqa_init_points.append(tqa_initial_points)\n",
    "    \n",
    "all_results[\"TQA QAOA\"] = [tqa_p_means, tqa_p_ratios, tqa_p_approx_ratios, tqa_init_points]"
   ]
  },
  {
   "cell_type": "code",
   "execution_count": null,
   "id": "664e7895",
   "metadata": {
    "scrolled": true
   },
   "outputs": [],
   "source": [
    "display_boxplots_results(tqa_p_means, tqa_p_ratios, tqa_p_approx_ratios, prefix='TQA ')"
   ]
  },
  {
   "cell_type": "markdown",
   "id": "1c00537c",
   "metadata": {},
   "source": [
    "## WarmStart QAOA"
   ]
  },
  {
   "cell_type": "code",
   "execution_count": null,
   "id": "73775571",
   "metadata": {},
   "outputs": [],
   "source": [
    "from helpers.warmstart_helper import *"
   ]
  },
  {
   "cell_type": "code",
   "execution_count": null,
   "id": "d547ec5e",
   "metadata": {
    "scrolled": true
   },
   "outputs": [],
   "source": [
    "ws_p_means = []\n",
    "ws_p_ratios = []\n",
    "ws_p_approx_ratios = []\n",
    "ws_opt_epsilons = []\n",
    "\n",
    "for p in range(1,MAX_P+1):\n",
    "    opt_epsilon = 0.25\n",
    "    m, r, ar = start_ws_qaoa_evaluation(max_cut, eval_num=EVAL_NUM, reps=p, epsilon=opt_epsilon, maxiter=MAX_ITER)\n",
    "    ws_p_means.append(m)\n",
    "    ws_p_ratios.append(r)\n",
    "    ws_p_approx_ratios.append(ar)\n",
    "    ws_opt_epsilons.append(opt_epsilon)\n",
    "    \n",
    "all_results[\"WarmStart QAOA\"] = [ws_p_means, ws_p_ratios, ws_p_approx_ratios, ws_opt_epsilons]"
   ]
  },
  {
   "cell_type": "code",
   "execution_count": null,
   "id": "78683bbc",
   "metadata": {
    "scrolled": true
   },
   "outputs": [],
   "source": [
    "display_boxplots_results(ws_p_means, ws_p_ratios, ws_p_approx_ratios, prefix='WarmStart ')"
   ]
  },
  {
   "cell_type": "markdown",
   "id": "bed6661b",
   "metadata": {},
   "source": [
    "### Recursive QAOA"
   ]
  },
  {
   "cell_type": "code",
   "execution_count": null,
   "id": "14e14af5",
   "metadata": {},
   "outputs": [],
   "source": [
    "from helpers.recursive_qaoa_helper import *"
   ]
  },
  {
   "cell_type": "code",
   "execution_count": null,
   "id": "5f6519a5",
   "metadata": {
    "scrolled": true
   },
   "outputs": [],
   "source": [
    "recursive_p_means = []\n",
    "recursive_p_ratios = []\n",
    "recursive_p_approx_ratios = []\n",
    "\n",
    "for p in range(1,MAX_P+1):\n",
    "    m, r, ar = start_recursive_evaluation(max_cut, eval_num=EVAL_NUM, reps=p, maxiter=MAX_ITER, init_points=initial_points[p-1])\n",
    "    recursive_p_means.append(m)\n",
    "    recursive_p_ratios.append(r)\n",
    "    recursive_p_approx_ratios.append(ar)\n",
    "\n",
    "all_results[\"Recursive QAOA\"] = [recursive_p_means, recursive_p_ratios, recursive_p_approx_ratios]"
   ]
  },
  {
   "cell_type": "code",
   "execution_count": null,
   "id": "318817ad",
   "metadata": {
    "scrolled": true
   },
   "outputs": [],
   "source": [
    "display_boxplots_results(recursive_p_means, recursive_p_ratios, recursive_p_approx_ratios, prefix='Recursive ')"
   ]
  },
  {
   "cell_type": "markdown",
   "id": "9a5ae1e0",
   "metadata": {},
   "source": [
    "### Recursive WarmStart QAOA"
   ]
  },
  {
   "cell_type": "code",
   "execution_count": null,
   "id": "3bd42b9c",
   "metadata": {},
   "outputs": [],
   "source": [
    "from helpers.recursive_ws_helper import *"
   ]
  },
  {
   "cell_type": "code",
   "execution_count": null,
   "id": "7b089ba3",
   "metadata": {
    "scrolled": true
   },
   "outputs": [],
   "source": [
    "ws_recursive_p_means = []\n",
    "ws_recursive_p_ratios = []\n",
    "ws_recursive_p_approx_ratios = []\n",
    "\n",
    "for p in range(1,MAX_P+1):\n",
    "    opt_epsilon = ws_opt_epsilons[p-1]\n",
    "    m, r, ar = start_recursive_ws_qaoa_evaluation(max_cut, eval_num=EVAL_NUM, reps=p, epsilon=opt_epsilon, maxiter=MAX_ITER)\n",
    "    ws_recursive_p_means.append(m)\n",
    "    ws_recursive_p_ratios.append(r)\n",
    "    ws_recursive_p_approx_ratios.append(ar)\n",
    "    \n",
    "all_results[\"Recursive WarmStart QAOA\"] = [ws_recursive_p_means, ws_recursive_p_ratios, ws_recursive_p_approx_ratios, ws_opt_epsilons]"
   ]
  },
  {
   "cell_type": "code",
   "execution_count": null,
   "id": "3cc4a37a",
   "metadata": {
    "scrolled": true
   },
   "outputs": [],
   "source": [
    "display_boxplots_results(ws_recursive_p_means, ws_recursive_p_ratios, ws_recursive_p_approx_ratios, prefix='Recursive WarmStart ')"
   ]
  },
  {
   "cell_type": "markdown",
   "id": "059e3535",
   "metadata": {},
   "source": [
    "## Results"
   ]
  },
  {
   "cell_type": "code",
   "execution_count": null,
   "id": "826f8562",
   "metadata": {},
   "outputs": [],
   "source": [
    "from helpers.results_helper import *"
   ]
  },
  {
   "cell_type": "code",
   "execution_count": null,
   "id": "37f6477d",
   "metadata": {},
   "outputs": [],
   "source": [
    "means_df, ratio_df, approx_ratios_df = generate_dataframes(all_results)"
   ]
  },
  {
   "cell_type": "markdown",
   "id": "6504aeea",
   "metadata": {},
   "source": [
    "### Metric Mean"
   ]
  },
  {
   "cell_type": "code",
   "execution_count": null,
   "id": "2e9f059b",
   "metadata": {},
   "outputs": [],
   "source": [
    "means_df"
   ]
  },
  {
   "cell_type": "markdown",
   "id": "25c2d89b",
   "metadata": {},
   "source": [
    "### Metric Ratio "
   ]
  },
  {
   "cell_type": "code",
   "execution_count": null,
   "id": "6303e427",
   "metadata": {},
   "outputs": [],
   "source": [
    "ratio_df"
   ]
  },
  {
   "cell_type": "markdown",
   "id": "4fc43a16",
   "metadata": {},
   "source": [
    "### Metric Approximation Ratio"
   ]
  },
  {
   "cell_type": "code",
   "execution_count": null,
   "id": "3e362965",
   "metadata": {},
   "outputs": [],
   "source": [
    "approx_ratios_df"
   ]
  },
  {
   "cell_type": "code",
   "execution_count": null,
   "id": "0c11cafa",
   "metadata": {},
   "outputs": [],
   "source": [
    "# Save results \n",
    "filename = f'comparison_{BACKEND.name}_{graph.name}_results.npy'\n",
    "with open(filename, 'wb') as f:\n",
    "    np.save(f, all_results)\n",
    "    print(f\"Saved results to {filename}\")"
   ]
  },
  {
   "cell_type": "code",
   "execution_count": null,
   "id": "bc72a608",
   "metadata": {},
   "outputs": [],
   "source": [
    "import qiskit.tools.jupyter\n",
    "%qiskit_version_table"
   ]
  }
 ],
 "metadata": {
  "kernelspec": {
   "display_name": "python3.8",
   "language": "python",
   "name": "python3.8"
  },
  "language_info": {
   "codemirror_mode": {
    "name": "ipython",
    "version": 3
   },
   "file_extension": ".py",
   "mimetype": "text/x-python",
   "name": "python",
   "nbconvert_exporter": "python",
   "pygments_lexer": "ipython3",
   "version": "3.8.6"
  }
 },
 "nbformat": 4,
 "nbformat_minor": 5
}
