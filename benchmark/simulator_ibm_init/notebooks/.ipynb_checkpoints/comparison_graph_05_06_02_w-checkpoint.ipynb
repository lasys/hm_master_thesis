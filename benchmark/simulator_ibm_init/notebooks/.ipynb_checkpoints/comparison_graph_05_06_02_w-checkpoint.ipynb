{
 "cells": [
  {
   "cell_type": "markdown",
   "id": "7059a5d5",
   "metadata": {},
   "source": [
    "# graph_05_06_02_w Simulator with fixed init points "
   ]
  },
  {
   "cell_type": "code",
   "execution_count": 1,
   "id": "c023c0a5",
   "metadata": {},
   "outputs": [],
   "source": [
    "import sys\n",
    "import os\n",
    "sys.path.insert(0, os.path.abspath('../'))\n",
    "sys.path.insert(0, os.path.abspath('../../'))\n",
    "sys.path.insert(0, os.path.abspath('/home/hm-tlacherm/qlm_notebooks/notebooks_1.2.1/notebooks/measurements/simulator_init/master_thesis_qaoa'))"
   ]
  },
  {
   "cell_type": "code",
   "execution_count": 2,
   "id": "e68b51da",
   "metadata": {
    "scrolled": true
   },
   "outputs": [],
   "source": [
    "import qiskit\n",
    "provider = qiskit.IBMQ.load_account()\n",
    "from qiskit_optimization.algorithms import GoemansWilliamsonOptimizer\n",
    "\n",
    "from helpers import *\n",
    "from shared.QiskitMaxcut import *\n",
    "from shared.graph_helper import *"
   ]
  },
  {
   "cell_type": "code",
   "execution_count": 3,
   "id": "3b68aea8",
   "metadata": {},
   "outputs": [],
   "source": [
    "#%load_ext autoreload\n",
    "#%autoreload 2"
   ]
  },
  {
   "cell_type": "code",
   "execution_count": 4,
   "id": "302c7021",
   "metadata": {
    "scrolled": true
   },
   "outputs": [
    {
     "data": {
      "image/png": "[encoded data removed]",
      "text/plain": [
       "<Figure size 432x288 with 1 Axes>"
      ]
     },
     "metadata": {},
     "output_type": "display_data"
    }
   ],
   "source": [
    "# ---- Define graph and MaxCut ----\n",
    "filename = \"graph_05_06_02_w.txt\"\n",
    "graph = load_nx_graph_from(f\"../data/{filename}\")\n",
    "opt_max_cut = -get_max_cut(graph.name)\n",
    "max_cut = Maxcut(graph, opt_max_cut)\n",
    "max_cut_qubo = max_cut.to_qubo()\n",
    "max_cut.draw()"
   ]
  },
  {
   "cell_type": "markdown",
   "id": "5ff2cfb6",
   "metadata": {},
   "source": [
    "### Goemans Williamson Solution"
   ]
  },
  {
   "cell_type": "code",
   "execution_count": 5,
   "id": "fcdc0c75",
   "metadata": {},
   "outputs": [
    {
     "name": "stdout",
     "output_type": "stream",
     "text": [
      "optimal function value: 35.0\n",
      "optimal value: [0 1 0 1 0]\n",
      "status: SUCCESS\n",
      "00011: value: -32.000, probability: 25.0%\n",
      "00101: value: -32.000, probability: 25.0%\n",
      "01110: value: -33.000, probability: 25.0%\n",
      "01010: value: -35.000, probability: 25.0%\n",
      "Expectation Value: -33.0\n",
      "Highest Exp.Value: -32 with 50.0 %\n",
      "Lowest Exp.Value: -35 with 25.0 %\n",
      "Highest Probability: -32 with 50.0 %\n",
      "Ratio r: 0.3333333333333333\n",
      "Approiximation ratio: 0.9428571428571428\n",
      "MSE: 1.6666666666666667\n",
      "RMSE: 1.2909944487358056\n"
     ]
    }
   ],
   "source": [
    "optimizer = GoemansWilliamsonOptimizer(5)\n",
    "result = optimizer.solve(max_cut_qubo)\n",
    "mean, distribution = max_cut.analyse(result, print_output=True)\n",
    "max_cut.plot_histogram(distribution, mean)"
   ]
  },
  {
   "cell_type": "markdown",
   "id": "ceff3689",
   "metadata": {},
   "source": [
    "## Parameters"
   ]
  },
  {
   "cell_type": "code",
   "execution_count": 6,
   "id": "d1d82779",
   "metadata": {},
   "outputs": [
    {
     "name": "stdout",
     "output_type": "stream",
     "text": [
      "Backend = Simulator\n",
      "EVAL_NUM = 50\n",
      "MAX_ITER = 0\n",
      "MAX_P = 4\n",
      "SHOTS = 1024\n",
      "Initial_Points = [array([-3.33412359,  5.45892711]), array([ 0.47267939,  3.07283929, -3.80560601,  3.86218767]), array([-6.74717392, -0.9163878 , -4.77892508,  1.93667299, -3.17040873,\n",
      "       -3.50351501]), array([ 6.75570487,  1.09724577, -3.19311042,  1.02429928, -4.3558831 ,\n",
      "       -4.42997004, -4.2206179 , -4.84945794])]\n"
     ]
    }
   ],
   "source": [
    "BACKEND, EVAL_NUM, MAX_ITER, MAX_P, SHOTS, initial_points = load_configs(graph.name)\n",
    "display_configs()\n",
    "all_results = {}"
   ]
  },
  {
   "cell_type": "markdown",
   "id": "df53612d",
   "metadata": {},
   "source": [
    "## QAOA"
   ]
  },
  {
   "cell_type": "code",
   "execution_count": 7,
   "id": "ce11cc42",
   "metadata": {},
   "outputs": [],
   "source": [
    "from helpers.qaoa_helper import *"
   ]
  },
  {
   "cell_type": "code",
   "execution_count": null,
   "id": "7eda4ef8",
   "metadata": {},
   "outputs": [
    {
     "name": "stdout",
     "output_type": "stream",
     "text": [
      "p=1: ..................................................\n",
      "p=2: ..................................................\n",
      "p=3: ........."
     ]
    }
   ],
   "source": [
    "qaoa_p_means = []\n",
    "qaoa_p_ratios = []\n",
    "qaoa_p_approx_ratios = []\n",
    "\n",
    "for p in range(1,MAX_P+1):\n",
    "    m, r, ar = start_qaoa_evaluation(max_cut, eval_num=EVAL_NUM, reps=p, maxiter=MAX_ITER, init_points=initial_points[p-1])\n",
    "    qaoa_p_means.append(m)\n",
    "    qaoa_p_ratios.append(r)\n",
    "    qaoa_p_approx_ratios.append(ar)\n",
    "\n",
    "all_results[\"QAOA\"] = [qaoa_p_means, qaoa_p_ratios, qaoa_p_approx_ratios]"
   ]
  },
  {
   "cell_type": "code",
   "execution_count": null,
   "id": "812b73d4",
   "metadata": {
    "scrolled": true
   },
   "outputs": [],
   "source": [
    "display_boxplots_results(qaoa_p_means, qaoa_p_ratios, qaoa_p_approx_ratios)"
   ]
  },
  {
   "cell_type": "markdown",
   "id": "1d3bc91c",
   "metadata": {},
   "source": [
    "## QAOA with TQA"
   ]
  },
  {
   "cell_type": "code",
   "execution_count": null,
   "id": "93cc32e4",
   "metadata": {},
   "outputs": [],
   "source": [
    "from helpers.qaoa_helper import *"
   ]
  },
  {
   "cell_type": "code",
   "execution_count": null,
   "id": "2ef8d5fd",
   "metadata": {},
   "outputs": [],
   "source": [
    "tqa_p_means = []\n",
    "tqa_p_ratios = []\n",
    "tqa_p_approx_ratios = []\n",
    "tqa_init_points = []\n",
    "\n",
    "for p in range(1,MAX_P+1):\n",
    "    tqa_initial_points = calculate_tqa(graph, p)\n",
    "    m, r, ar = start_qaoa_evaluation(max_cut, eval_num=EVAL_NUM, reps=p, init_points=tqa_initial_points, maxiter=MAX_ITER)\n",
    "    tqa_p_means.append(m)\n",
    "    tqa_p_ratios.append(r)\n",
    "    tqa_p_approx_ratios.append(ar)\n",
    "    tqa_init_points.append(tqa_initial_points)\n",
    "    \n",
    "all_results[\"TQA QAOA\"] = [tqa_p_means, tqa_p_ratios, tqa_p_approx_ratios, tqa_init_points]"
   ]
  },
  {
   "cell_type": "code",
   "execution_count": null,
   "id": "664e7895",
   "metadata": {
    "scrolled": true
   },
   "outputs": [],
   "source": [
    "display_boxplots_results(tqa_p_means, tqa_p_ratios, tqa_p_approx_ratios, prefix='TQA ')"
   ]
  },
  {
   "cell_type": "markdown",
   "id": "1c00537c",
   "metadata": {},
   "source": [
    "## WarmStart QAOA"
   ]
  },
  {
   "cell_type": "code",
   "execution_count": null,
   "id": "73775571",
   "metadata": {},
   "outputs": [],
   "source": [
    "from helpers.warmstart_helper import *"
   ]
  },
  {
   "cell_type": "code",
   "execution_count": null,
   "id": "d547ec5e",
   "metadata": {
    "scrolled": true
   },
   "outputs": [],
   "source": [
    "ws_p_means = []\n",
    "ws_p_ratios = []\n",
    "ws_p_approx_ratios = []\n",
    "ws_opt_epsilons = []\n",
    "\n",
    "for p in range(1,MAX_P+1):\n",
    "    opt_epsilon = 0.25\n",
    "    m, r, ar = start_ws_qaoa_evaluation(max_cut, eval_num=EVAL_NUM, reps=p, epsilon=opt_epsilon, maxiter=MAX_ITER)\n",
    "    ws_p_means.append(m)\n",
    "    ws_p_ratios.append(r)\n",
    "    ws_p_approx_ratios.append(ar)\n",
    "    ws_opt_epsilons.append(opt_epsilon)\n",
    "    \n",
    "all_results[\"WarmStart QAOA\"] = [ws_p_means, ws_p_ratios, ws_p_approx_ratios, ws_opt_epsilons]"
   ]
  },
  {
   "cell_type": "code",
   "execution_count": null,
   "id": "78683bbc",
   "metadata": {
    "scrolled": true
   },
   "outputs": [],
   "source": [
    "display_boxplots_results(ws_p_means, ws_p_ratios, ws_p_approx_ratios, prefix='WarmStart ')"
   ]
  },
  {
   "cell_type": "markdown",
   "id": "bed6661b",
   "metadata": {},
   "source": [
    "### Recursive QAOA"
   ]
  },
  {
   "cell_type": "code",
   "execution_count": null,
   "id": "14e14af5",
   "metadata": {},
   "outputs": [],
   "source": [
    "from helpers.recursive_qaoa_helper import *"
   ]
  },
  {
   "cell_type": "code",
   "execution_count": null,
   "id": "5f6519a5",
   "metadata": {
    "scrolled": true
   },
   "outputs": [],
   "source": [
    "recursive_p_means = []\n",
    "recursive_p_ratios = []\n",
    "recursive_p_approx_ratios = []\n",
    "\n",
    "for p in range(1,MAX_P+1):\n",
    "    m, r, ar = start_recursive_evaluation(max_cut, eval_num=EVAL_NUM, reps=p, maxiter=MAX_ITER, init_points=initial_points[p-1])\n",
    "    recursive_p_means.append(m)\n",
    "    recursive_p_ratios.append(r)\n",
    "    recursive_p_approx_ratios.append(ar)\n",
    "\n",
    "all_results[\"Recursive QAOA\"] = [recursive_p_means, recursive_p_ratios, recursive_p_approx_ratios]"
   ]
  },
  {
   "cell_type": "code",
   "execution_count": null,
   "id": "318817ad",
   "metadata": {
    "scrolled": true
   },
   "outputs": [],
   "source": [
    "display_boxplots_results(recursive_p_means, recursive_p_ratios, recursive_p_approx_ratios, prefix='Recursive ')"
   ]
  },
  {
   "cell_type": "markdown",
   "id": "9a5ae1e0",
   "metadata": {},
   "source": [
    "### Recursive WarmStart QAOA"
   ]
  },
  {
   "cell_type": "code",
   "execution_count": null,
   "id": "3bd42b9c",
   "metadata": {},
   "outputs": [],
   "source": [
    "from helpers.recursive_ws_helper import *"
   ]
  },
  {
   "cell_type": "code",
   "execution_count": null,
   "id": "7b089ba3",
   "metadata": {
    "scrolled": true
   },
   "outputs": [],
   "source": [
    "ws_recursive_p_means = []\n",
    "ws_recursive_p_ratios = []\n",
    "ws_recursive_p_approx_ratios = []\n",
    "\n",
    "for p in range(1,MAX_P+1):\n",
    "    opt_epsilon = ws_opt_epsilons[p-1]\n",
    "    m, r, ar = start_recursive_ws_qaoa_evaluation(max_cut, eval_num=EVAL_NUM, reps=p, epsilon=opt_epsilon, maxiter=MAX_ITER)\n",
    "    ws_recursive_p_means.append(m)\n",
    "    ws_recursive_p_ratios.append(r)\n",
    "    ws_recursive_p_approx_ratios.append(ar)\n",
    "    \n",
    "all_results[\"Recursive WarmStart QAOA\"] = [ws_recursive_p_means, ws_recursive_p_ratios, ws_recursive_p_approx_ratios, ws_opt_epsilons]"
   ]
  },
  {
   "cell_type": "code",
   "execution_count": null,
   "id": "3cc4a37a",
   "metadata": {
    "scrolled": true
   },
   "outputs": [],
   "source": [
    "display_boxplots_results(ws_recursive_p_means, ws_recursive_p_ratios, ws_recursive_p_approx_ratios, prefix='Recursive WarmStart ')"
   ]
  },
  {
   "cell_type": "markdown",
   "id": "059e3535",
   "metadata": {},
   "source": [
    "## Results"
   ]
  },
  {
   "cell_type": "code",
   "execution_count": null,
   "id": "826f8562",
   "metadata": {},
   "outputs": [],
   "source": [
    "from helpers.results_helper import *"
   ]
  },
  {
   "cell_type": "code",
   "execution_count": null,
   "id": "37f6477d",
   "metadata": {},
   "outputs": [],
   "source": [
    "means_df, ratio_df, approx_ratios_df = generate_dataframes(all_results)"
   ]
  },
  {
   "cell_type": "markdown",
   "id": "6504aeea",
   "metadata": {},
   "source": [
    "### Metric Mean"
   ]
  },
  {
   "cell_type": "code",
   "execution_count": null,
   "id": "2e9f059b",
   "metadata": {},
   "outputs": [],
   "source": [
    "means_df"
   ]
  },
  {
   "cell_type": "markdown",
   "id": "25c2d89b",
   "metadata": {},
   "source": [
    "### Metric Ratio "
   ]
  },
  {
   "cell_type": "code",
   "execution_count": null,
   "id": "6303e427",
   "metadata": {},
   "outputs": [],
   "source": [
    "ratio_df"
   ]
  },
  {
   "cell_type": "markdown",
   "id": "4fc43a16",
   "metadata": {},
   "source": [
    "### Metric Approximation Ratio"
   ]
  },
  {
   "cell_type": "code",
   "execution_count": null,
   "id": "3e362965",
   "metadata": {},
   "outputs": [],
   "source": [
    "approx_ratios_df"
   ]
  },
  {
   "cell_type": "code",
   "execution_count": null,
   "id": "0c11cafa",
   "metadata": {},
   "outputs": [],
   "source": [
    "# Save results \n",
    "filename = f'comparison_{BACKEND.name}_{graph.name}_results.npy'\n",
    "with open(filename, 'wb') as f:\n",
    "    np.save(f, all_results)\n",
    "    print(f\"Saved results to {filename}\")"
   ]
  },
  {
   "cell_type": "code",
   "execution_count": null,
   "id": "bc72a608",
   "metadata": {},
   "outputs": [],
   "source": [
    "import qiskit.tools.jupyter\n",
    "%qiskit_version_table"
   ]
  },
  {
   "cell_type": "code",
   "execution_count": null,
   "id": "8617cc86",
   "metadata": {},
   "outputs": [],
   "source": []
  },
  {
   "cell_type": "code",
   "execution_count": null,
   "id": "6a90c178",
   "metadata": {},
   "outputs": [],
   "source": []
  }
 ],
 "metadata": {
  "kernelspec": {
   "display_name": "python3.8",
   "language": "python",
   "name": "python3.8"
  },
  "language_info": {
   "codemirror_mode": {
    "name": "ipython",
    "version": 3
   },
   "file_extension": ".py",
   "mimetype": "text/x-python",
   "name": "python",
   "nbconvert_exporter": "python",
   "pygments_lexer": "ipython3",
   "version": "3.8.6"
  }
 },
 "nbformat": 4,
 "nbformat_minor": 5
}
