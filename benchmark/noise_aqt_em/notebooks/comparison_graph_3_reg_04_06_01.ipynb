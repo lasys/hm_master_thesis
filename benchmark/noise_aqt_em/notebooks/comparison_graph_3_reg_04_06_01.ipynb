{
 "cells": [
  {
   "cell_type": "markdown",
   "id": "7059a5d5",
   "metadata": {},
   "source": [
    "# graph_3_reg_04_06_01 - AQT Noise Simulator with Qiskit EM"
   ]
  },
  {
   "cell_type": "code",
   "execution_count": 1,
   "id": "c023c0a5",
   "metadata": {},
   "outputs": [],
   "source": [
    "import sys\n",
    "import os\n",
    "sys.path.insert(0, os.path.abspath('../'))\n",
    "sys.path.insert(0, os.path.abspath('../../'))\n",
    "sys.path.insert(0, os.path.abspath('/home/hm-tlacherm/qlm_notebooks/notebooks_1.2.1/notebooks/measurements/noise_aqt_em/master_thesis_qaoa'))"
   ]
  },
  {
   "cell_type": "code",
   "execution_count": 2,
   "id": "e68b51da",
   "metadata": {
    "scrolled": true
   },
   "outputs": [],
   "source": [
    "import qiskit\n",
    "from qiskit_optimization.algorithms import GoemansWilliamsonOptimizer\n",
    "\n",
    "from helpers import *\n",
    "from shared.QiskitMaxcut import *\n",
    "from shared.graph_helper import *"
   ]
  },
  {
   "cell_type": "code",
   "execution_count": 3,
   "id": "3b68aea8",
   "metadata": {},
   "outputs": [],
   "source": [
    "%load_ext autoreload\n",
    "%autoreload 2"
   ]
  },
  {
   "cell_type": "code",
   "execution_count": 4,
   "id": "302c7021",
   "metadata": {
    "scrolled": true
   },
   "outputs": [
    {
     "data": {
      "image/png": "[encoded data removed]",
      "text/plain": [
       "<Figure size 432x288 with 1 Axes>"
      ]
     },
     "metadata": {},
     "output_type": "display_data"
    }
   ],
   "source": [
    "# ---- Define graph and MaxCut ----\n",
    "filename = \"graph_3_reg_04_06_01.txt\"\n",
    "graph = load_nx_graph_from(f\"../data/{filename}\")\n",
    "opt_max_cut = -get_max_cut(graph.name)\n",
    "max_cut = Maxcut(graph, opt_max_cut)\n",
    "max_cut_qubo = max_cut.to_qubo()\n",
    "max_cut.draw()"
   ]
  },
  {
   "cell_type": "markdown",
   "id": "5ff2cfb6",
   "metadata": {},
   "source": [
    "### Goemans Williamson Solution"
   ]
  },
  {
   "cell_type": "code",
   "execution_count": 5,
   "id": "fcdc0c75",
   "metadata": {},
   "outputs": [
    {
     "name": "stdout",
     "output_type": "stream",
     "text": [
      "optimal function value: 4.0\n",
      "optimal value: [0 1 0 1]\n",
      "status: SUCCESS\n",
      "0100: value: -3.000, probability: 33.3%\n",
      "0111: value: -3.000, probability: 33.3%\n",
      "0101: value: -4.000, probability: 33.3%\n",
      "Expectation Value: -3.333333333333333\n",
      "Highest Exp.Value: -3 with 66.667 %\n",
      "Lowest Exp.Value: -4 with 33.333 %\n",
      "Highest Probability: -3 with 66.667 %\n",
      "Ratio r: 0.33333333333333304\n",
      "Approiximation ratio: 0.8333333333333333\n",
      "MSE: 0.2777777777777779\n",
      "RMSE: 0.52704627669473\n"
     ]
    }
   ],
   "source": [
    "optimizer = GoemansWilliamsonOptimizer(5)\n",
    "result = optimizer.solve(max_cut_qubo)\n",
    "mean, distribution = max_cut.analyse(result, print_output=True)\n",
    "max_cut.plot_histogram(distribution, mean)"
   ]
  },
  {
   "cell_type": "markdown",
   "id": "ceff3689",
   "metadata": {},
   "source": [
    "## Parameters"
   ]
  },
  {
   "cell_type": "code",
   "execution_count": 13,
   "id": "d1d82779",
   "metadata": {},
   "outputs": [
    {
     "name": "stdout",
     "output_type": "stream",
     "text": [
      "Backend = Simulator_Noise_Model\n",
      "EVAL_NUM = 20\n",
      "MAX_ITER = 0\n",
      "MAX_P = 4\n",
      "SHOTS = 200\n",
      "Initial_Points = [array([-0.54695145,  3.42723337]), array([ 3.71737342,  2.39708849, -1.32968676,  3.69795058]), array([ 4.15965249, -2.47254763,  1.68762414, -5.90270808,  3.23038001,\n",
      "       -3.89943837]), array([ 4.70845172, -1.28075305,  1.36848696, -1.68131045,  2.98882816,\n",
      "       -3.67267433, -4.64769237, -1.04975779])]\n"
     ]
    }
   ],
   "source": [
    "BACKEND, EVAL_NUM, MAX_ITER, MAX_P, SHOTS, initial_points = load_configs(graph.name)\n",
    "display_configs()\n",
    "all_results = {}"
   ]
  },
  {
   "cell_type": "code",
   "execution_count": 14,
   "id": "0b1f2d8c",
   "metadata": {},
   "outputs": [
    {
     "name": "stdout",
     "output_type": "stream",
     "text": [
      "0.0: 0.6666666666630985\n",
      "0.01: 0.6116666742524296\n",
      "0.02: 0.5720833553069112\n",
      "0.03: 0.5362500522734287\n",
      "0.04: 0.5262501035020045\n",
      "0.05: 0.5087503144701822\n",
      "0.06: 0.482499798413611\n",
      "0.07: 0.5033332908979432\n",
      "0.08: 0.5037500010060334\n",
      "0.09: 0.5170835788841148\n",
      "0.1: 0.5333333637750717\n",
      "0.11: 0.5295830112165137\n",
      "0.12: 0.5525000128336748\n",
      "0.13: 0.5545833581802172\n",
      "0.14: 0.5687499956227837\n",
      "0.15: 0.5883333181185256\n",
      "0.16: 0.5999999486269593\n",
      "0.17: 0.6070832949626254\n",
      "0.18: 0.6283332787789918\n",
      "0.19: 0.6395832720351661\n",
      "0.2: 0.6420833641571345\n",
      "0.21: 0.6462500099123926\n",
      "0.22: 0.6574998269048312\n",
      "0.23: 0.6616666740621844\n",
      "0.24: 0.6662500000008664\n",
      "0.25: 0.6666666666666666\n",
      "0.26: 0.6662500000007134\n",
      "0.27: 0.6620834940093554\n",
      "0.28: 0.6570832868606963\n",
      "0.29: 0.6508327923408769\n",
      "0.3: 0.6441666165728702\n",
      "0.31: 0.6391667015500697\n",
      "0.32: 0.6279165483877355\n",
      "0.33: 0.6258332928863239\n",
      "0.34: 0.6199999589640474\n",
      "0.35000000000000003: 0.6029166874081296\n",
      "0.36: 0.582916704568944\n",
      "0.37: 0.5883332119305348\n",
      "0.38: 0.572916638586955\n",
      "0.39: 0.5770833130986545\n",
      "0.4: 0.5491667724301934\n",
      "0.41000000000000003: 0.5387500823986523\n",
      "0.42: 0.5287500913205483\n",
      "0.43: 0.5204167942887227\n",
      "0.44: 0.5129167980290762\n",
      "0.45: 0.5075000151456018\n",
      "0.46: 0.5137499998084275\n",
      "0.47000000000000003: 0.501250245558609\n",
      "0.48: 0.49041666762528746\n",
      "0.49: 0.49208333316922476\n"
     ]
    }
   ],
   "source": [
    "for e in range(0, 50):\n",
    "    \n",
    "    qaoa = create_ws_qaoa(optimizer=COBYLA(maxiter=0), reps=1)\n",
    "    m, r, ar = run_evaluation_ws_qaoa(max_cut, qaoa, epsilon=e*0.01,print_output=False)\n",
    "    print(f\"{e*0.01}: {ar}\")"
   ]
  },
  {
   "cell_type": "markdown",
   "id": "df53612d",
   "metadata": {},
   "source": [
    "## QAOA"
   ]
  },
  {
   "cell_type": "code",
   "execution_count": 8,
   "id": "ce11cc42",
   "metadata": {},
   "outputs": [],
   "source": [
    "from helpers.qaoa_helper import *"
   ]
  },
  {
   "cell_type": "code",
   "execution_count": null,
   "id": "7eda4ef8",
   "metadata": {},
   "outputs": [],
   "source": [
    "qaoa_p_means = []\n",
    "qaoa_p_ratios = []\n",
    "qaoa_p_approx_ratios = []\n",
    "\n",
    "for p in range(1,MAX_P+1):\n",
    "    m, r, ar = start_qaoa_evaluation(max_cut, eval_num=EVAL_NUM, reps=p, maxiter=MAX_ITER, init_points=initial_points[p-1])\n",
    "    qaoa_p_means.append(m)\n",
    "    qaoa_p_ratios.append(r)\n",
    "    qaoa_p_approx_ratios.append(ar)\n",
    "\n",
    "all_results[\"QAOA\"] = [qaoa_p_means, qaoa_p_ratios, qaoa_p_approx_ratios]"
   ]
  },
  {
   "cell_type": "code",
   "execution_count": null,
   "id": "812b73d4",
   "metadata": {
    "scrolled": true
   },
   "outputs": [],
   "source": [
    "display_boxplots_results(qaoa_p_means, qaoa_p_ratios, qaoa_p_approx_ratios)"
   ]
  },
  {
   "cell_type": "code",
   "execution_count": null,
   "id": "e9d013f3",
   "metadata": {},
   "outputs": [],
   "source": [
    "# Save results \n",
    "#filename = f'comparison_{BACKEND.name}_{graph.name}_results.npy'\n",
    "#with open(filename, 'wb') as f:\n",
    "#    np.save(f, all_results)\n",
    "#    print(f\"Saved results to {filename}\")"
   ]
  },
  {
   "cell_type": "markdown",
   "id": "1d3bc91c",
   "metadata": {},
   "source": [
    "## QAOA with TQA"
   ]
  },
  {
   "cell_type": "code",
   "execution_count": null,
   "id": "93cc32e4",
   "metadata": {},
   "outputs": [],
   "source": [
    "from helpers.qaoa_helper import *"
   ]
  },
  {
   "cell_type": "code",
   "execution_count": null,
   "id": "2ef8d5fd",
   "metadata": {},
   "outputs": [],
   "source": [
    "tqa_p_means = []\n",
    "tqa_p_ratios = []\n",
    "tqa_p_approx_ratios = []\n",
    "tqa_init_points = []\n",
    "\n",
    "for p in range(1,MAX_P+1):\n",
    "    tqa_initial_points = calculate_tqa(graph, p)\n",
    "    m, r, ar = start_qaoa_evaluation(max_cut, eval_num=EVAL_NUM, reps=p, init_points=tqa_initial_points, maxiter=MAX_ITER)\n",
    "    tqa_p_means.append(m)\n",
    "    tqa_p_ratios.append(r)\n",
    "    tqa_p_approx_ratios.append(ar)\n",
    "    tqa_init_points.append(tqa_initial_points)\n",
    "    \n",
    "all_results[\"TQA QAOA\"] = [tqa_p_means, tqa_p_ratios, tqa_p_approx_ratios, tqa_init_points]"
   ]
  },
  {
   "cell_type": "code",
   "execution_count": null,
   "id": "664e7895",
   "metadata": {
    "scrolled": true
   },
   "outputs": [],
   "source": [
    "display_boxplots_results(tqa_p_means, tqa_p_ratios, tqa_p_approx_ratios, prefix='TQA ')"
   ]
  },
  {
   "cell_type": "code",
   "execution_count": null,
   "id": "e9b0399b",
   "metadata": {},
   "outputs": [],
   "source": [
    "# Save results \n",
    "#filename = f'comparison_{BACKEND.name}_{graph.name}_results.npy'\n",
    "#with open(filename, 'wb') as f:\n",
    "#    np.save(f, all_results)\n",
    "#    print(f\"Saved results to {filename}\")"
   ]
  },
  {
   "cell_type": "markdown",
   "id": "1c00537c",
   "metadata": {},
   "source": [
    "## WarmStart QAOA"
   ]
  },
  {
   "cell_type": "code",
   "execution_count": 9,
   "id": "73775571",
   "metadata": {},
   "outputs": [],
   "source": [
    "from helpers.warmstart_helper import *"
   ]
  },
  {
   "cell_type": "code",
   "execution_count": null,
   "id": "d547ec5e",
   "metadata": {
    "scrolled": true
   },
   "outputs": [],
   "source": [
    "ws_p_means = []\n",
    "ws_p_ratios = []\n",
    "ws_p_approx_ratios = []\n",
    "ws_opt_epsilons = []\n",
    "\n",
    "for p in range(1,MAX_P+1):\n",
    "    opt_epsilon = 0.25\n",
    "    m, r, ar = start_ws_qaoa_evaluation(max_cut, eval_num=EVAL_NUM, reps=p, epsilon=opt_epsilon, maxiter=MAX_ITER)\n",
    "    ws_p_means.append(m)\n",
    "    ws_p_ratios.append(r)\n",
    "    ws_p_approx_ratios.append(ar)\n",
    "    ws_opt_epsilons.append(opt_epsilon)\n",
    "    \n",
    "all_results[\"WarmStart QAOA\"] = [ws_p_means, ws_p_ratios, ws_p_approx_ratios, ws_opt_epsilons]"
   ]
  },
  {
   "cell_type": "code",
   "execution_count": null,
   "id": "78683bbc",
   "metadata": {
    "scrolled": true
   },
   "outputs": [],
   "source": [
    "display_boxplots_results(ws_p_means, ws_p_ratios, ws_p_approx_ratios, prefix='WarmStart ')"
   ]
  },
  {
   "cell_type": "code",
   "execution_count": null,
   "id": "419cfbe1",
   "metadata": {},
   "outputs": [],
   "source": [
    "# Save results \n",
    "#filename = f'comparison_{BACKEND.name}_{graph.name}_results.npy'\n",
    "#with open(filename, 'wb') as f:\n",
    "#    np.save(f, all_results)\n",
    "#    print(f\"Saved results to {filename}\")"
   ]
  },
  {
   "cell_type": "markdown",
   "id": "bed6661b",
   "metadata": {},
   "source": [
    "### Recursive QAOA"
   ]
  },
  {
   "cell_type": "code",
   "execution_count": null,
   "id": "14e14af5",
   "metadata": {},
   "outputs": [],
   "source": [
    "from helpers.recursive_qaoa_helper import *"
   ]
  },
  {
   "cell_type": "code",
   "execution_count": null,
   "id": "5f6519a5",
   "metadata": {
    "scrolled": true
   },
   "outputs": [],
   "source": [
    "recursive_p_means = []\n",
    "recursive_p_ratios = []\n",
    "recursive_p_approx_ratios = []\n",
    "\n",
    "for p in range(1,MAX_P+1):\n",
    "    m, r, ar = start_recursive_evaluation(max_cut, eval_num=EVAL_NUM, reps=p, maxiter=MAX_ITER, init_points=initial_points[p-1])\n",
    "    recursive_p_means.append(m)\n",
    "    recursive_p_ratios.append(r)\n",
    "    recursive_p_approx_ratios.append(ar)\n",
    "\n",
    "all_results[\"Recursive QAOA\"] = [recursive_p_means, recursive_p_ratios, recursive_p_approx_ratios]"
   ]
  },
  {
   "cell_type": "code",
   "execution_count": null,
   "id": "318817ad",
   "metadata": {
    "scrolled": true
   },
   "outputs": [],
   "source": [
    "display_boxplots_results(recursive_p_means, recursive_p_ratios, recursive_p_approx_ratios, prefix='Recursive ')"
   ]
  },
  {
   "cell_type": "code",
   "execution_count": null,
   "id": "67238234",
   "metadata": {},
   "outputs": [],
   "source": [
    "# Save results \n",
    "#filename = f'comparison_{BACKEND.name}_{graph.name}_results.npy'\n",
    "#with open(filename, 'wb') as f:\n",
    "#    np.save(f, all_results)\n",
    "#    print(f\"Saved results to {filename}\")"
   ]
  },
  {
   "cell_type": "markdown",
   "id": "9a5ae1e0",
   "metadata": {},
   "source": [
    "### Recursive WarmStart QAOA"
   ]
  },
  {
   "cell_type": "code",
   "execution_count": null,
   "id": "3bd42b9c",
   "metadata": {},
   "outputs": [],
   "source": [
    "from helpers.recursive_ws_helper import *"
   ]
  },
  {
   "cell_type": "code",
   "execution_count": null,
   "id": "7b089ba3",
   "metadata": {
    "scrolled": true
   },
   "outputs": [],
   "source": [
    "ws_recursive_p_means = []\n",
    "ws_recursive_p_ratios = []\n",
    "ws_recursive_p_approx_ratios = []\n",
    "\n",
    "for p in range(1,MAX_P+1):\n",
    "    opt_epsilon = ws_opt_epsilons[p-1]\n",
    "    m, r, ar = start_recursive_ws_qaoa_evaluation(max_cut, eval_num=EVAL_NUM, reps=p, epsilon=opt_epsilon, maxiter=MAX_ITER)\n",
    "    ws_recursive_p_means.append(m)\n",
    "    ws_recursive_p_ratios.append(r)\n",
    "    ws_recursive_p_approx_ratios.append(ar)\n",
    "    \n",
    "all_results[\"Recursive WarmStart QAOA\"] = [ws_recursive_p_means, ws_recursive_p_ratios, ws_recursive_p_approx_ratios, ws_opt_epsilons]"
   ]
  },
  {
   "cell_type": "code",
   "execution_count": null,
   "id": "3cc4a37a",
   "metadata": {
    "scrolled": true
   },
   "outputs": [],
   "source": [
    "display_boxplots_results(ws_recursive_p_means, ws_recursive_p_ratios, ws_recursive_p_approx_ratios, prefix='Recursive WarmStart ')"
   ]
  },
  {
   "cell_type": "code",
   "execution_count": null,
   "id": "52b922c0",
   "metadata": {},
   "outputs": [],
   "source": [
    "# Save results \n",
    "#filename = f'comparison_{BACKEND.name}_{graph.name}_results.npy'\n",
    "#with open(filename, 'wb') as f:\n",
    "#    np.save(f, all_results)\n",
    "#    print(f\"Saved results to {filename}\")"
   ]
  },
  {
   "cell_type": "markdown",
   "id": "059e3535",
   "metadata": {},
   "source": [
    "## Results"
   ]
  },
  {
   "cell_type": "code",
   "execution_count": null,
   "id": "826f8562",
   "metadata": {},
   "outputs": [],
   "source": [
    "from helpers.results_helper import *"
   ]
  },
  {
   "cell_type": "code",
   "execution_count": null,
   "id": "37f6477d",
   "metadata": {},
   "outputs": [],
   "source": [
    "means_df, ratio_df, approx_ratios_df = generate_dataframes(all_results)"
   ]
  },
  {
   "cell_type": "markdown",
   "id": "6504aeea",
   "metadata": {},
   "source": [
    "### Metric Mean"
   ]
  },
  {
   "cell_type": "code",
   "execution_count": null,
   "id": "2e9f059b",
   "metadata": {},
   "outputs": [],
   "source": [
    "means_df"
   ]
  },
  {
   "cell_type": "markdown",
   "id": "25c2d89b",
   "metadata": {},
   "source": [
    "### Metric Ratio "
   ]
  },
  {
   "cell_type": "code",
   "execution_count": null,
   "id": "6303e427",
   "metadata": {},
   "outputs": [],
   "source": [
    "ratio_df"
   ]
  },
  {
   "cell_type": "markdown",
   "id": "4fc43a16",
   "metadata": {},
   "source": [
    "### Metric Approximation Ratio"
   ]
  },
  {
   "cell_type": "code",
   "execution_count": null,
   "id": "3e362965",
   "metadata": {},
   "outputs": [],
   "source": [
    "approx_ratios_df"
   ]
  },
  {
   "cell_type": "code",
   "execution_count": null,
   "id": "0c11cafa",
   "metadata": {},
   "outputs": [],
   "source": [
    "# Save results \n",
    "#filename = f'comparison_{BACKEND.name}_{graph.name}_results.npy'\n",
    "#with open(filename, 'wb') as f:\n",
    "#    np.save(f, all_results)\n",
    "#    print(f\"Saved results to {filename}\")"
   ]
  },
  {
   "cell_type": "code",
   "execution_count": null,
   "id": "bc72a608",
   "metadata": {},
   "outputs": [],
   "source": [
    "import qiskit.tools.jupyter\n",
    "%qiskit_version_table"
   ]
  }
 ],
 "metadata": {
  "kernelspec": {
   "display_name": "python3.8",
   "language": "python",
   "name": "python3.8"
  },
  "language_info": {
   "codemirror_mode": {
    "name": "ipython",
    "version": 3
   },
   "file_extension": ".py",
   "mimetype": "text/x-python",
   "name": "python",
   "nbconvert_exporter": "python",
   "pygments_lexer": "ipython3",
   "version": "3.8.6"
  }
 },
 "nbformat": 4,
 "nbformat_minor": 5
}
