{
 "cells": [
  {
   "cell_type": "markdown",
   "id": "7059a5d5",
   "metadata": {},
   "source": [
    "# graph_05_06_02_w"
   ]
  },
  {
   "cell_type": "code",
   "execution_count": 1,
   "id": "c023c0a5",
   "metadata": {},
   "outputs": [],
   "source": [
    "import sys\n",
    "import os\n",
    "sys.path.insert(0, os.path.abspath('../'))\n",
    "sys.path.insert(0, os.path.abspath('../../'))\n",
    "sys.path.insert(0, os.path.abspath('/home/hm-tlacherm/qlm_notebooks/notebooks_1.2.1/notebooks/measurements/noise_model_cdr/master_thesis_qaoa'))"
   ]
  },
  {
   "cell_type": "code",
   "execution_count": 2,
   "id": "e68b51da",
   "metadata": {
    "scrolled": true
   },
   "outputs": [],
   "source": [
    "import qiskit\n",
    "provider = qiskit.IBMQ.load_account()\n",
    "from qiskit_optimization.algorithms import GoemansWilliamsonOptimizer\n",
    "\n",
    "from helpers import *\n",
    "from shared.QiskitMaxcut import *\n",
    "from shared.graph_helper import *"
   ]
  },
  {
   "cell_type": "code",
   "execution_count": 3,
   "id": "3b68aea8",
   "metadata": {},
   "outputs": [],
   "source": [
    "%load_ext autoreload\n",
    "%autoreload 2"
   ]
  },
  {
   "cell_type": "code",
   "execution_count": 67,
   "id": "302c7021",
   "metadata": {
    "scrolled": true
   },
   "outputs": [
    {
     "data": {
      "image/png": "[encoded data removed]",
      "text/plain": [
       "<Figure size 432x288 with 1 Axes>"
      ]
     },
     "metadata": {},
     "output_type": "display_data"
    }
   ],
   "source": [
    "# ---- Define graph and MaxCut ----\n",
    "#filename = \"graph_3_reg_04_06_01.txt\"#\"graph_05_06_02_w.txt\"\n",
    "filename = \"graph_05_06_02_w.txt\"\n",
    "graph = load_nx_graph_from(f\"../data/{filename}\")\n",
    "opt_max_cut = -get_max_cut(graph.name)\n",
    "max_cut = Maxcut(graph, opt_max_cut)\n",
    "max_cut_qubo = max_cut.to_qubo()\n",
    "max_cut.draw()"
   ]
  },
  {
   "cell_type": "markdown",
   "id": "5ff2cfb6",
   "metadata": {},
   "source": [
    "### Goemans Williamson Solution"
   ]
  },
  {
   "cell_type": "code",
   "execution_count": 5,
   "id": "fcdc0c75",
   "metadata": {},
   "outputs": [
    {
     "name": "stdout",
     "output_type": "stream",
     "text": [
      "optimal function value: 4.0\n",
      "optimal value: [0 1 0 1]\n",
      "status: SUCCESS\n",
      "0100: value: -3.000, probability: 33.3%\n",
      "0111: value: -3.000, probability: 33.3%\n",
      "0101: value: -4.000, probability: 33.3%\n",
      "Expectation Value: -3.333333333333333\n",
      "Highest Exp.Value: -3 with 66.667 %\n",
      "Lowest Exp.Value: -4 with 33.333 %\n",
      "Highest Probability: -3 with 66.667 %\n",
      "Ratio r: 0.33333333333333304\n",
      "Approiximation ratio: 0.8333333333333333\n",
      "MSE: 0.2777777777777779\n",
      "RMSE: 0.52704627669473\n"
     ]
    }
   ],
   "source": [
    "optimizer = GoemansWilliamsonOptimizer(5)\n",
    "result = optimizer.solve(max_cut_qubo)\n",
    "mean, distribution = max_cut.analyse(result, print_output=True)\n",
    "max_cut.plot_histogram(distribution, mean)"
   ]
  },
  {
   "cell_type": "markdown",
   "id": "ceff3689",
   "metadata": {},
   "source": [
    "## Parameters"
   ]
  },
  {
   "cell_type": "code",
   "execution_count": 6,
   "id": "d1d82779",
   "metadata": {},
   "outputs": [
    {
     "name": "stdout",
     "output_type": "stream",
     "text": [
      "Backend = Simulator_Noise_Model\n",
      "EVAL_NUM = 50\n",
      "MAX_ITER = 0\n",
      "MAX_P = 4\n",
      "SHOTS = 1024\n",
      "Initial_Points = [array([], dtype=float64), array([], dtype=float64), array([], dtype=float64), array([], dtype=float64)]\n"
     ]
    }
   ],
   "source": [
    "BACKEND, EVAL_NUM, MAX_ITER, MAX_P, SHOTS, initial_points = load_configs(graph.name)\n",
    "display_configs()\n",
    "all_results = {}"
   ]
  },
  {
   "cell_type": "markdown",
   "id": "df53612d",
   "metadata": {},
   "source": [
    "## QAOA"
   ]
  },
  {
   "cell_type": "code",
   "execution_count": 7,
   "id": "ce11cc42",
   "metadata": {},
   "outputs": [],
   "source": [
    "from helpers.qaoa_helper import *"
   ]
  },
  {
   "cell_type": "code",
   "execution_count": 8,
   "id": "0bb30f98",
   "metadata": {},
   "outputs": [],
   "source": [
    "# This code is part of Qiskit.\n",
    "#\n",
    "# (C) Copyright IBM 2018, 2021.\n",
    "#\n",
    "# This code is licensed under the Apache License, Version 2.0. You may\n",
    "# obtain a copy of this license in the LICENSE.txt file in the root directory\n",
    "# of this source tree or at http://www.apache.org/licenses/LICENSE-2.0.\n",
    "#\n",
    "# Any modifications or derivative works of this code must retain this\n",
    "# copyright notice, and modified files need to carry a notice indicating\n",
    "# that they have been altered from the originals.\n",
    "\n",
    "\"\"\" The Quantum Approximate Optimization Algorithm with CDR. \"\"\"\n",
    "\n",
    "import mitiq\n",
    "from shared.cdr.mitiq_cdr import execute_with_cdr\n",
    "from mitiq.zne import mitigate_executor\n",
    "from functools import partial\n",
    "import cirq.circuits.circuit\n",
    "\n",
    "from typing import Optional, List, Callable, Union, Dict, Tuple\n",
    "import logging\n",
    "import warnings\n",
    "from time import time\n",
    "import numpy as np\n",
    "\n",
    "from qiskit import Aer\n",
    "from qiskit.circuit import QuantumCircuit, Parameter\n",
    "from qiskit.circuit.library import RealAmplitudes\n",
    "from qiskit.providers import BaseBackend\n",
    "from qiskit.providers import Backend\n",
    "from qiskit.opflow import (\n",
    "    OperatorBase,\n",
    "    ExpectationBase,\n",
    "    ExpectationFactory,\n",
    "    StateFn,\n",
    "    CircuitStateFn,\n",
    "    ListOp,\n",
    "    I,\n",
    "    CircuitSampler,\n",
    ")\n",
    "from qiskit.opflow.gradients import GradientBase\n",
    "from qiskit.utils.validation import validate_min\n",
    "from qiskit.utils.backend_utils import is_aer_provider\n",
    "from qiskit.utils.deprecation import deprecate_function\n",
    "from qiskit.utils import QuantumInstance, algorithm_globals\n",
    "from qiskit.algorithms.optimizers import Optimizer, SLSQP\n",
    "from qiskit.algorithms.variational_algorithm import VariationalAlgorithm, VariationalResult\n",
    "from qiskit.algorithms import MinimumEigensolver, MinimumEigensolverResult\n",
    "from qiskit.algorithms.exceptions import AlgorithmError\n",
    "\n",
    "from qiskit.algorithms.minimum_eigen_solvers.vqe import (\n",
    "    VQE,\n",
    "    VQEResult,\n",
    "    _validate_initial_point,\n",
    "    _validate_bounds\n",
    ")\n",
    "\n",
    "import sys\n",
    "sys.path.append(\"..\")\n",
    "sys.path.append(\"../..\")\n",
    "from shared.gem.gem_postprocess import format_counts\n",
    "\n",
    "logger = logging.getLogger(__name__)\n",
    "\n",
    "\n",
    "\n",
    "from typing import List, Callable, Optional, Union\n",
    "import numpy as np\n",
    "\n",
    "from qiskit.algorithms.optimizers import Optimizer\n",
    "from qiskit.circuit import QuantumCircuit\n",
    "from qiskit.opflow import OperatorBase, ExpectationBase\n",
    "from qiskit.opflow.gradients import GradientBase\n",
    "from qiskit.providers import Backend\n",
    "from qiskit.providers import BaseBackend\n",
    "from qiskit.utils.quantum_instance import QuantumInstance\n",
    "from qiskit.utils.validation import validate_min\n",
    "from qiskit.circuit.library.n_local.qaoa_ansatz import QAOAAnsatz\n",
    "\n",
    "from qiskit.algorithms.minimum_eigen_solvers.qaoa import QAOA\n",
    "\n",
    "class CDR_QAOA(QAOA):\n",
    "    \n",
    "    def sample_bitstrings_simulator(self, circuit, shots: int = 1024) -> Dict[int, int]:\n",
    "        # Use Aer's qasm_simulator\n",
    "        if type(circuit) == cirq.circuits.circuit.Circuit:\n",
    "            circuit = mitiq.interface.mitiq_qiskit.conversions.to_qiskit(circuit)\n",
    "            circuit.measure_all()\n",
    "        backend_sim = Aer.get_backend('qasm_simulator')\n",
    "        qi = QuantumInstance(backend=backend_sim, shots=self._quantum_instance._run_config.shots)\n",
    "        result = qi.execute(circuit)\n",
    "\n",
    "        counts = result.get_counts()\n",
    "        formatted_counts = format_counts(counts, result.results[0].header)\n",
    "        int_counts = {}\n",
    "        for key in formatted_counts.keys():\n",
    "            int_counts[int(key.replace(' ',''),2)] = formatted_counts[key]\n",
    "            \n",
    "        return int_counts\n",
    "    \n",
    "    \n",
    "    def sample_bitstrings(self, circuits, shots: int = 1024) -> Dict[int, int]:\n",
    "        \n",
    "        qiskit_circuits = []\n",
    "        for circuit in circuits:\n",
    "        \n",
    "            # convert cirq.circuit to qiskit-circuit \n",
    "            if type(circuit) == cirq.circuits.circuit.Circuit:\n",
    "                circuit = mitiq.interface.mitiq_qiskit.conversions.to_qiskit(circuit)\n",
    "            circuit.measure_all()\n",
    "            qiskit_circuits.append(circuit)\n",
    "        \n",
    "        result = self._quantum_instance.execute(qiskit_circuits)\n",
    "        circuit_int_counts = []\n",
    "        \n",
    "        for i in range(0, len(qiskit_circuits)):\n",
    "            \n",
    "            counts = result.results[i].data.counts.copy()\n",
    "            formatted_counts = format_counts(counts, result.results[i].header)\n",
    "            int_counts = {}\n",
    "            for key in formatted_counts.keys():\n",
    "                int_counts[int(key.replace(' ',''),2)] = formatted_counts[key]\n",
    "\n",
    "            circuit_int_counts.append(int_counts.copy())\n",
    "          \n",
    "        return circuit_int_counts\n",
    "    \n",
    "    \n",
    "    def get_energy_evaluation(\n",
    "        self,\n",
    "        operator: OperatorBase,\n",
    "        return_expectation: bool = False,\n",
    "    ) -> Callable[[np.ndarray], Union[float, List[float]]]:\n",
    "        \"\"\"Returns a function handle to evaluates the energy at given parameters for the ansatz.\n",
    "\n",
    "        This is the objective function to be passed to the optimizer that is used for evaluation.\n",
    "\n",
    "        Args:\n",
    "            operator: The operator whose energy to evaluate.\n",
    "            return_expectation: If True, return the ``ExpectationBase`` expectation converter used\n",
    "                in the construction of the expectation value. Useful e.g. to evaluate other\n",
    "                operators with the same expectation value converter.\n",
    "\n",
    "\n",
    "        Returns:\n",
    "            Energy of the hamiltonian of each parameter, and, optionally, the expectation\n",
    "            converter.\n",
    "\n",
    "        Raises:\n",
    "            RuntimeError: If the circuit is not parameterized (i.e. has 0 free parameters).\n",
    "\n",
    "        \"\"\"\n",
    "        num_parameters = self.ansatz.num_parameters\n",
    "        if num_parameters == 0:\n",
    "            raise RuntimeError(\"The ansatz must be parameterized, but has 0 free parameters.\")\n",
    "\n",
    "        expect_op, expectation = self.construct_expectation(\n",
    "            self._ansatz_params, operator, return_expectation=True\n",
    "        )\n",
    "        \n",
    "        # create random _initial_point if not exists \n",
    "        if self._initial_point is None:\n",
    "            self._initial_point = np.random.uniform(low=-2/np.pi, high=2/np.pi, size=(num_parameters,))\n",
    "\n",
    "        # create circuit for CDR \n",
    "        param_dict = dict(zip(self._ansatz_params, self._initial_point))  # type: Dict\n",
    "        circuit = self.ansatz.assign_parameters(param_dict)\n",
    "      \n",
    "        def energy_evaluation(parameters):\n",
    "     \n",
    "            if circuit != None:\n",
    "                \n",
    "                # Observable(s) to measure.\n",
    "                obs = np.diag(operator.to_matrix())\n",
    "                \n",
    "                means = execute_with_cdr(\n",
    "                    circuit=circuit,\n",
    "                    executor=self.sample_bitstrings,\n",
    "                    observables=[obs],\n",
    "                    simulator=self.sample_bitstrings_simulator,\n",
    "                )\n",
    "\n",
    "                return means if len(means) > 1 else means[0]\n",
    "            \n",
    "            print(\"Don't use cdr\")\n",
    "            return energy_evaluation_2(None, parameters)\n",
    "\n",
    "\n",
    "        def energy_evaluation_2(cc, parameters):\n",
    "            parameter_sets = np.reshape(parameters, (-1, num_parameters))\n",
    "            # Create dict associating each parameter with the lists of parameterization values for it\n",
    "            param_bindings = dict(zip(self._ansatz_params, parameter_sets.transpose().tolist()))       \n",
    "            start_time = time()\n",
    "            sampled_expect_op = self._circuit_sampler.convert(expect_op, params=param_bindings)\n",
    "            means = np.real(sampled_expect_op.eval())\n",
    "            if self._callback is not None:\n",
    "                variance = np.real(expectation.compute_variance(sampled_expect_op))\n",
    "                estimator_error = np.sqrt(variance / self.quantum_instance.run_config.shots)\n",
    "                for i, param_set in enumerate(parameter_sets):\n",
    "                    self._eval_count += 1\n",
    "                    self._callback(self._eval_count, param_set, means[i], estimator_error[i])\n",
    "            else:\n",
    "                self._eval_count += len(means)\n",
    "\n",
    "            end_time = time()\n",
    "            logger.info(\n",
    "                \"Energy evaluation returned %s - %.5f (ms), eval count: %s\",\n",
    "                means,\n",
    "                (end_time - start_time) * 1000,\n",
    "                self._eval_count,\n",
    "            )\n",
    "\n",
    "            return means if len(means) > 1 else means[0]\n",
    "\n",
    "        if return_expectation:\n",
    "            return energy_evaluation, expectation\n",
    "\n",
    "        return energy_evaluation"
   ]
  },
  {
   "cell_type": "code",
   "execution_count": 43,
   "id": "959e34a5",
   "metadata": {},
   "outputs": [],
   "source": [
    "from qiskit import Aer\n",
    "from qiskit.algorithms.minimum_eigen_solvers.vqe import _validate_initial_point, _validate_bounds\n",
    "def create_ansatz(qubo, params, reps):\n",
    "    \n",
    "    operator, offset = qubo.to_ising()\n",
    "    \n",
    "    qaoa = QAOA(optimizer = COBYLA(maxiter=0),\n",
    "            quantum_instance=quantum_noise_instance,\n",
    "            reps=reps,\n",
    "            initial_point=params,\n",
    "           )\n",
    "    \n",
    "    # create random _initial_point if not exists \n",
    "    if qaoa._initial_point is None:\n",
    "        qaoa._initial_point = np.random.uniform(low=-2/np.pi, high=2/np.pi, size=(num_parameters,))\n",
    "        \n",
    "    # check and validate points and ansatz\n",
    "    qaoa._check_operator_ansatz(operator)\n",
    "    initial_point = _validate_initial_point(qaoa._initial_point, qaoa.ansatz)\n",
    "    bounds = _validate_bounds(qaoa.ansatz)\n",
    "        \n",
    "    # construct circuit \n",
    "    param_dict = dict(zip(qaoa._ansatz_params, initial_point))  # type: Dict\n",
    "    circuit = qaoa.ansatz.assign_parameters(param_dict)\n",
    "    \n",
    "    expectation1 = qaoa.construct_expectation(param_dict, operator, False)\n",
    "    \n",
    "    # if expectation was never created, try to create one\n",
    "    if qaoa.expectation is None:\n",
    "        expectation = ExpectationFactory.build(\n",
    "            operator=operator,\n",
    "            backend=qaoa.quantum_instance,\n",
    "            include_custom=qaoa._include_custom,\n",
    "        )\n",
    "    else:\n",
    "        expectation = qaoa.expectation\n",
    "\n",
    "    e = expectation.convert(StateFn(operator, is_measurement=True))  \n",
    "    ansatz_circuit_op = CircuitStateFn(circuit)\n",
    "    expect_op = e.compose(ansatz_circuit_op).reduce()\n",
    "    return circuit, expectation1, expect_op"
   ]
  },
  {
   "cell_type": "code",
   "execution_count": 10,
   "id": "048e63e4",
   "metadata": {},
   "outputs": [],
   "source": [
    "def sample_bitstrings_simulator(circuit, shots: int = 1024) -> Dict[int, int]:\n",
    "    # Use Aer's qasm_simulator\n",
    "    if type(circuit) == cirq.circuits.circuit.Circuit:\n",
    "        circuit = mitiq.interface.mitiq_qiskit.conversions.to_qiskit(circuit)\n",
    "    circuit.remove_final_measurements()\n",
    "    circuit.measure_all()\n",
    "    backend_sim = Aer.get_backend('qasm_simulator')\n",
    "    qi = QuantumInstance(backend=backend_sim, shots=shots)\n",
    "    result = qi.execute(circuit)\n",
    "\n",
    "    counts = result.get_counts()\n",
    "    formatted_counts = format_counts(counts, result.results[0].header)\n",
    "    int_counts = {}\n",
    "    for key in formatted_counts.keys():\n",
    "        int_counts[int(key.replace(' ',''),2)] = formatted_counts[key]\n",
    "\n",
    "    return int_counts\n",
    "\n",
    "\n",
    "def sample_bitstrings(circuits, shots: int = 1024) -> Dict[int, int]:\n",
    "\n",
    "    qiskit_circuits = []\n",
    "    for circuit in circuits:\n",
    "\n",
    "        # convert cirq.circuit to qiskit-circuit \n",
    "        if type(circuit) == cirq.circuits.circuit.Circuit:\n",
    "            circuit = mitiq.interface.mitiq_qiskit.conversions.to_qiskit(circuit)\n",
    "        circuit.remove_final_measurements()\n",
    "        circuit.measure_all()\n",
    "        qiskit_circuits.append(circuit)\n",
    "\n",
    "    result = quantum_noise_instance.execute(qiskit_circuits)\n",
    "    circuit_int_counts = []\n",
    "\n",
    "    for i in range(0, len(qiskit_circuits)):\n",
    "\n",
    "        counts = result.results[i].data.counts.copy()\n",
    "        formatted_counts = format_counts(counts, result.results[i].header)\n",
    "        int_counts = {}\n",
    "        for key in formatted_counts.keys():\n",
    "            int_counts[int(key.replace(' ',''),2)] = formatted_counts[key]\n",
    "\n",
    "        circuit_int_counts.append(int_counts.copy())\n",
    "\n",
    "    return circuit_int_counts"
   ]
  },
  {
   "cell_type": "code",
   "execution_count": 11,
   "id": "595681a7",
   "metadata": {},
   "outputs": [
    {
     "ename": "NameError",
     "evalue": "name 'circuit' is not defined",
     "output_type": "error",
     "traceback": [
      "\u001b[0;31m---------------------------------------------------------------------------\u001b[0m",
      "\u001b[0;31mNameError\u001b[0m                                 Traceback (most recent call last)",
      "\u001b[0;32m/tmp/ipykernel_3591109/2973254756.py\u001b[0m in \u001b[0;36m<module>\u001b[0;34m\u001b[0m\n\u001b[0;32m----> 1\u001b[0;31m \u001b[0mdr\u001b[0m \u001b[0;34m=\u001b[0m \u001b[0msample_bitstrings_simulator\u001b[0m\u001b[0;34m(\u001b[0m\u001b[0mcircuit\u001b[0m\u001b[0;34m)\u001b[0m\u001b[0;34m\u001b[0m\u001b[0;34m\u001b[0m\u001b[0m\n\u001b[0m\u001b[1;32m      2\u001b[0m \u001b[0mdr\u001b[0m\u001b[0;34m\u001b[0m\u001b[0;34m\u001b[0m\u001b[0m\n",
      "\u001b[0;31mNameError\u001b[0m: name 'circuit' is not defined"
     ]
    }
   ],
   "source": [
    "dr = sample_bitstrings_simulator(circuit)\n",
    "dr"
   ]
  },
  {
   "cell_type": "code",
   "execution_count": 50,
   "id": "f3713938",
   "metadata": {},
   "outputs": [],
   "source": [
    "def normalize_measurements(counts) -> Dict[int, float]:\n",
    "    \"\"\"Normalizes the values of the MeasurementResult to get probabilities.\n",
    "    Args:\n",
    "        counts: Dictionary/Counter of measurements. Each key is a binary int\n",
    "            and each value is an int.\n",
    "    \"\"\"\n",
    "    total_counts = sum(counts.values())\n",
    "    return {\n",
    "        bitstring: count / total_counts for bitstring, count in counts.items()\n",
    "    }"
   ]
  },
  {
   "cell_type": "code",
   "execution_count": 51,
   "id": "b9288444",
   "metadata": {},
   "outputs": [
    {
     "data": {
      "text/plain": [
       "{2: 0.0244140625,\n",
       " 13: 0.0390625,\n",
       " 8: 0.033203125,\n",
       " 12: 0.1318359375,\n",
       " 5: 0.1220703125,\n",
       " 11: 0.0302734375,\n",
       " 0: 0.0078125,\n",
       " 3: 0.1103515625,\n",
       " 7: 0.01953125,\n",
       " 14: 0.021484375,\n",
       " 4: 0.029296875,\n",
       " 6: 0.1318359375,\n",
       " 1: 0.017578125,\n",
       " 9: 0.1533203125,\n",
       " 15: 0.009765625,\n",
       " 10: 0.1181640625}"
      ]
     },
     "execution_count": 51,
     "metadata": {},
     "output_type": "execute_result"
    }
   ],
   "source": [
    "probs = normalize_measurements(dr)\n",
    "probs"
   ]
  },
  {
   "cell_type": "code",
   "execution_count": 22,
   "id": "e2e380ae",
   "metadata": {},
   "outputs": [
    {
     "name": "stdout",
     "output_type": "stream",
     "text": [
      "[0, 1, 2, 3, 4, 5, 6, 7, 8, 9, 10, 11, 12, 13, 14, 15]\n"
     ]
    }
   ],
   "source": [
    "print(sorted(probs))"
   ]
  },
  {
   "cell_type": "code",
   "execution_count": null,
   "id": "7ebc04e6",
   "metadata": {},
   "outputs": [],
   "source": [
    "for i in range(2 ** nqubits):\n",
    "    print( obs * probs.get(i, 0.0) )"
   ]
  },
  {
   "cell_type": "code",
   "execution_count": 52,
   "id": "99704dd2",
   "metadata": {},
   "outputs": [
    {
     "data": {
      "text/plain": [
       "[(0.0234375+0j),\n",
       " 0j,\n",
       " 0j,\n",
       " (-0.1103515625+0j),\n",
       " 0j,\n",
       " (-0.1220703125+0j),\n",
       " (-0.1318359375+0j),\n",
       " 0j,\n",
       " 0j,\n",
       " (-0.1533203125+0j),\n",
       " (-0.1181640625+0j),\n",
       " 0j,\n",
       " (-0.1318359375+0j),\n",
       " 0j,\n",
       " 0j,\n",
       " (0.029296875+0j)]"
      ]
     },
     "execution_count": 52,
     "metadata": {},
     "output_type": "execute_result"
    }
   ],
   "source": [
    "#probs = normalize_measurements(state_or_measurements)\n",
    "observable_values = [\n",
    "    obs[i] * probs.get(i, 0.0) for i in range(2 ** nqubits)\n",
    "]\n",
    "observable_values"
   ]
  },
  {
   "cell_type": "code",
   "execution_count": 53,
   "id": "b06e7c05",
   "metadata": {},
   "outputs": [
    {
     "data": {
      "text/plain": [
       "16"
      ]
     },
     "execution_count": 53,
     "metadata": {},
     "output_type": "execute_result"
    }
   ],
   "source": [
    "len(np.real(observable_values))"
   ]
  },
  {
   "cell_type": "code",
   "execution_count": 54,
   "id": "44990ad9",
   "metadata": {},
   "outputs": [
    {
     "data": {
      "text/plain": [
       "-0.71484375"
      ]
     },
     "execution_count": 54,
     "metadata": {},
     "output_type": "execute_result"
    }
   ],
   "source": [
    "sum(np.real(observable_values))"
   ]
  },
  {
   "cell_type": "code",
   "execution_count": 29,
   "id": "572cf251",
   "metadata": {},
   "outputs": [
    {
     "ename": "NameError",
     "evalue": "name 'params' is not defined",
     "output_type": "error",
     "traceback": [
      "\u001b[0;31m---------------------------------------------------------------------------\u001b[0m",
      "\u001b[0;31mNameError\u001b[0m                                 Traceback (most recent call last)",
      "\u001b[0;32m/tmp/ipykernel_3569672/2196173826.py\u001b[0m in \u001b[0;36m<module>\u001b[0;34m\u001b[0m\n\u001b[0;32m----> 1\u001b[0;31m \u001b[0msum\u001b[0m\u001b[0;34m(\u001b[0m\u001b[0ma\u001b[0m \u001b[0;34m*\u001b[0m \u001b[0mx\u001b[0m \u001b[0;32mfor\u001b[0m \u001b[0ma\u001b[0m\u001b[0;34m,\u001b[0m \u001b[0mx\u001b[0m \u001b[0;32min\u001b[0m \u001b[0mzip\u001b[0m\u001b[0;34m(\u001b[0m\u001b[0mparams\u001b[0m\u001b[0;34m,\u001b[0m \u001b[0mx_data\u001b[0m\u001b[0;34m)\u001b[0m\u001b[0;34m)\u001b[0m \u001b[0;34m+\u001b[0m \u001b[0mparams\u001b[0m\u001b[0;34m[\u001b[0m\u001b[0;34m-\u001b[0m\u001b[0;36m1\u001b[0m\u001b[0;34m]\u001b[0m\u001b[0;34m\u001b[0m\u001b[0;34m\u001b[0m\u001b[0m\n\u001b[0m",
      "\u001b[0;31mNameError\u001b[0m: name 'params' is not defined"
     ]
    }
   ],
   "source": [
    "sum(a * x for a, x in zip(params, x_data)) + params[-1]"
   ]
  },
  {
   "cell_type": "code",
   "execution_count": null,
   "id": "f40dbf1c",
   "metadata": {},
   "outputs": [],
   "source": [
    "sum(np.real(observable_values))"
   ]
  },
  {
   "cell_type": "code",
   "execution_count": 11,
   "id": "b381a3ab",
   "metadata": {},
   "outputs": [],
   "source": [
    "from helpers.quantum_instance_helper import _create_simulator_with_noise_quantum_instance\n",
    "quantum_noise_instance = _create_simulator_with_noise_quantum_instance()"
   ]
  },
  {
   "cell_type": "code",
   "execution_count": 68,
   "id": "fe63905b",
   "metadata": {},
   "outputs": [
    {
     "name": "stdout",
     "output_type": "stream",
     "text": [
      "-24.0\n"
     ]
    },
    {
     "data": {
      "text/plain": [
       "array([ 24.,   9.,   5., -10.,   8.,  -7.,   7.,  -8.,   8.,  11., -11.,\n",
       "        -8.,  -8.,  -5.,  -9.,  -6.,  -6.,  -9.,  -5.,  -8.,  -8., -11.,\n",
       "        11.,   8.,  -8.,   7.,  -7.,   8., -10.,   5.,   9.,  24.])"
      ]
     },
     "execution_count": 68,
     "metadata": {},
     "output_type": "execute_result"
    }
   ],
   "source": [
    "operator, offset = max_cut_qubo.to_ising()\n",
    "print(offset)\n",
    "# Observable(s) to measure.\n",
    "obs = np.real(np.diag(operator.to_matrix()))\n",
    "# Observable(s) to measure.\n",
    "# Observable(s) to measure.\n",
    "#z = np.diag([1, -1])\n",
    "#obs = np.diag(np.kron(z, z))\n",
    "obs"
   ]
  },
  {
   "cell_type": "code",
   "execution_count": 69,
   "id": "92a28e9c",
   "metadata": {},
   "outputs": [
    {
     "data": {
      "text/plain": [
       "5"
      ]
     },
     "execution_count": 69,
     "metadata": {},
     "output_type": "execute_result"
    }
   ],
   "source": [
    "nqubits = int(np.log2(len(obs)))\n",
    "nqubits"
   ]
  },
  {
   "cell_type": "code",
   "execution_count": 70,
   "id": "1dc6d9e0",
   "metadata": {},
   "outputs": [],
   "source": [
    "circuit, exp, e = create_ansatz(max_cut_qubo, [-0.54695145,  3.42723337], 1)\n",
    "#circuit.measure_all()"
   ]
  },
  {
   "cell_type": "code",
   "execution_count": 71,
   "id": "0c60c995",
   "metadata": {},
   "outputs": [
    {
     "data": {
      "text/plain": [
       "array([ 24.+0.j,   9.+0.j,   5.+0.j, -10.+0.j,   8.+0.j,  -7.+0.j,\n",
       "         7.+0.j,  -8.+0.j,   8.+0.j,  11.+0.j, -11.+0.j,  -8.+0.j,\n",
       "        -8.+0.j,  -5.+0.j,  -9.+0.j,  -6.+0.j,  -6.+0.j,  -9.+0.j,\n",
       "        -5.+0.j,  -8.+0.j,  -8.+0.j, -11.+0.j,  11.+0.j,   8.+0.j,\n",
       "        -8.+0.j,   7.+0.j,  -7.+0.j,   8.+0.j, -10.+0.j,   5.+0.j,\n",
       "         9.+0.j,  24.+0.j])"
      ]
     },
     "execution_count": 71,
     "metadata": {},
     "output_type": "execute_result"
    }
   ],
   "source": [
    "np.diag(exp[0].to_density_matrix())"
   ]
  },
  {
   "cell_type": "code",
   "execution_count": 72,
   "id": "a5ad031f",
   "metadata": {},
   "outputs": [
    {
     "data": {
      "text/plain": [
       "(-1.3587672746900177+23.033641747781125j)"
      ]
     },
     "execution_count": 72,
     "metadata": {},
     "output_type": "execute_result"
    }
   ],
   "source": [
    "e.to_matrix()[0]"
   ]
  },
  {
   "cell_type": "code",
   "execution_count": 73,
   "id": "1c0f43be",
   "metadata": {},
   "outputs": [
    {
     "data": {
      "text/plain": [
       "(-1.1237919377498788+0j)"
      ]
     },
     "execution_count": 73,
     "metadata": {},
     "output_type": "execute_result"
    }
   ],
   "source": [
    "e.eval()"
   ]
  },
  {
   "cell_type": "code",
   "execution_count": 17,
   "id": "b3561e89",
   "metadata": {},
   "outputs": [],
   "source": [
    "from dataclasses import dataclass\n",
    "@dataclass\n",
    "class SolutionSample:\n",
    "    \"\"\"A sample of an optimization solution\n",
    "    Attributes:\n",
    "        x: the values of variables\n",
    "        fval: the objective function value\n",
    "        probability: the probability of this sample\n",
    "        status: the status of this sample\n",
    "    \"\"\"\n",
    "\n",
    "    x: np.ndarray\n",
    "    fval: float\n",
    "    probability: float\n",
    "    status: 1"
   ]
  },
  {
   "cell_type": "code",
   "execution_count": 18,
   "id": "cbec0054",
   "metadata": {},
   "outputs": [],
   "source": [
    "def generate_solution(bitstr, qubo, probability):\n",
    "    x = np.fromiter(list(bitstr[::-1]), dtype=int)\n",
    "    fval = qubo.objective.evaluate(x)\n",
    "    return SolutionSample(\n",
    "        x=x,\n",
    "        fval=fval,\n",
    "        probability=probability,\n",
    "        status=0,\n",
    "    )"
   ]
  },
  {
   "cell_type": "code",
   "execution_count": 78,
   "id": "178af88a",
   "metadata": {},
   "outputs": [
    {
     "name": "stdout",
     "output_type": "stream",
     "text": [
      "[-2.92748021 -1.09671595 -0.54808734  0.91276938 -1.14524247  1.01035727\n",
      " -0.66217468  0.65984685 -1.07218301 -1.10904223  1.00833149  0.82831488\n",
      "  1.05777185  0.57290085  0.746204    0.47036155]\n"
     ]
    },
    {
     "ename": "ValueError",
     "evalue": "dimension mismatch",
     "output_type": "error",
     "traceback": [
      "\u001b[0;31m---------------------------------------------------------------------------\u001b[0m",
      "\u001b[0;31mValueError\u001b[0m                                Traceback (most recent call last)",
      "\u001b[0;32m/tmp/ipykernel_3602910/2167734212.py\u001b[0m in \u001b[0;36m<module>\u001b[0;34m\u001b[0m\n\u001b[1;32m     10\u001b[0m     \u001b[0;31m#if sampling_probability >= 1e-9:\u001b[0m\u001b[0;34m\u001b[0m\u001b[0;34m\u001b[0m\u001b[0;34m\u001b[0m\u001b[0m\n\u001b[1;32m     11\u001b[0m     \u001b[0mbitstr\u001b[0m \u001b[0;34m=\u001b[0m \u001b[0;34mf\"{i:b}\"\u001b[0m\u001b[0;34m.\u001b[0m\u001b[0mrjust\u001b[0m\u001b[0;34m(\u001b[0m\u001b[0mnum_qubits\u001b[0m\u001b[0;34m,\u001b[0m \u001b[0;34m\"0\"\u001b[0m\u001b[0;34m)\u001b[0m\u001b[0;34m\u001b[0m\u001b[0;34m\u001b[0m\u001b[0m\n\u001b[0;32m---> 12\u001b[0;31m     \u001b[0msolutions\u001b[0m\u001b[0;34m.\u001b[0m\u001b[0mappend\u001b[0m\u001b[0;34m(\u001b[0m\u001b[0mgenerate_solution\u001b[0m\u001b[0;34m(\u001b[0m\u001b[0mbitstr\u001b[0m\u001b[0;34m,\u001b[0m \u001b[0mmax_cut_qubo\u001b[0m\u001b[0;34m,\u001b[0m \u001b[0msampling_probability\u001b[0m\u001b[0;34m)\u001b[0m\u001b[0;34m)\u001b[0m\u001b[0;34m\u001b[0m\u001b[0;34m\u001b[0m\u001b[0m\n\u001b[0m",
      "\u001b[0;32m/tmp/ipykernel_3602910/97433742.py\u001b[0m in \u001b[0;36mgenerate_solution\u001b[0;34m(bitstr, qubo, probability)\u001b[0m\n\u001b[1;32m      1\u001b[0m \u001b[0;32mdef\u001b[0m \u001b[0mgenerate_solution\u001b[0m\u001b[0;34m(\u001b[0m\u001b[0mbitstr\u001b[0m\u001b[0;34m,\u001b[0m \u001b[0mqubo\u001b[0m\u001b[0;34m,\u001b[0m \u001b[0mprobability\u001b[0m\u001b[0;34m)\u001b[0m\u001b[0;34m:\u001b[0m\u001b[0;34m\u001b[0m\u001b[0;34m\u001b[0m\u001b[0m\n\u001b[1;32m      2\u001b[0m     \u001b[0mx\u001b[0m \u001b[0;34m=\u001b[0m \u001b[0mnp\u001b[0m\u001b[0;34m.\u001b[0m\u001b[0mfromiter\u001b[0m\u001b[0;34m(\u001b[0m\u001b[0mlist\u001b[0m\u001b[0;34m(\u001b[0m\u001b[0mbitstr\u001b[0m\u001b[0;34m[\u001b[0m\u001b[0;34m:\u001b[0m\u001b[0;34m:\u001b[0m\u001b[0;34m-\u001b[0m\u001b[0;36m1\u001b[0m\u001b[0;34m]\u001b[0m\u001b[0;34m)\u001b[0m\u001b[0;34m,\u001b[0m \u001b[0mdtype\u001b[0m\u001b[0;34m=\u001b[0m\u001b[0mint\u001b[0m\u001b[0;34m)\u001b[0m\u001b[0;34m\u001b[0m\u001b[0;34m\u001b[0m\u001b[0m\n\u001b[0;32m----> 3\u001b[0;31m     \u001b[0mfval\u001b[0m \u001b[0;34m=\u001b[0m \u001b[0mqubo\u001b[0m\u001b[0;34m.\u001b[0m\u001b[0mobjective\u001b[0m\u001b[0;34m.\u001b[0m\u001b[0mevaluate\u001b[0m\u001b[0;34m(\u001b[0m\u001b[0mx\u001b[0m\u001b[0;34m)\u001b[0m\u001b[0;34m\u001b[0m\u001b[0;34m\u001b[0m\u001b[0m\n\u001b[0m\u001b[1;32m      4\u001b[0m     return SolutionSample(\n\u001b[1;32m      5\u001b[0m         \u001b[0mx\u001b[0m\u001b[0;34m=\u001b[0m\u001b[0mx\u001b[0m\u001b[0;34m,\u001b[0m\u001b[0;34m\u001b[0m\u001b[0;34m\u001b[0m\u001b[0m\n",
      "\u001b[0;32m~/.local/lib/python3.8/site-packages/qiskit_optimization/problems/quadratic_objective.py\u001b[0m in \u001b[0;36mevaluate\u001b[0;34m(self, x)\u001b[0m\n\u001b[1;32m    179\u001b[0m                 \u001b[0;34m\"Need to define the objective function after defining all variables\"\u001b[0m\u001b[0;34m\u001b[0m\u001b[0;34m\u001b[0m\u001b[0m\n\u001b[1;32m    180\u001b[0m             )\n\u001b[0;32m--> 181\u001b[0;31m         \u001b[0;32mreturn\u001b[0m \u001b[0mself\u001b[0m\u001b[0;34m.\u001b[0m\u001b[0mconstant\u001b[0m \u001b[0;34m+\u001b[0m \u001b[0mself\u001b[0m\u001b[0;34m.\u001b[0m\u001b[0mlinear\u001b[0m\u001b[0;34m.\u001b[0m\u001b[0mevaluate\u001b[0m\u001b[0;34m(\u001b[0m\u001b[0mx\u001b[0m\u001b[0;34m)\u001b[0m \u001b[0;34m+\u001b[0m \u001b[0mself\u001b[0m\u001b[0;34m.\u001b[0m\u001b[0mquadratic\u001b[0m\u001b[0;34m.\u001b[0m\u001b[0mevaluate\u001b[0m\u001b[0;34m(\u001b[0m\u001b[0mx\u001b[0m\u001b[0;34m)\u001b[0m\u001b[0;34m\u001b[0m\u001b[0;34m\u001b[0m\u001b[0m\n\u001b[0m\u001b[1;32m    182\u001b[0m \u001b[0;34m\u001b[0m\u001b[0m\n\u001b[1;32m    183\u001b[0m     \u001b[0;32mdef\u001b[0m \u001b[0mevaluate_gradient\u001b[0m\u001b[0;34m(\u001b[0m\u001b[0mself\u001b[0m\u001b[0;34m,\u001b[0m \u001b[0mx\u001b[0m\u001b[0;34m:\u001b[0m \u001b[0mUnion\u001b[0m\u001b[0;34m[\u001b[0m\u001b[0mndarray\u001b[0m\u001b[0;34m,\u001b[0m \u001b[0mList\u001b[0m\u001b[0;34m,\u001b[0m \u001b[0mDict\u001b[0m\u001b[0;34m[\u001b[0m\u001b[0mUnion\u001b[0m\u001b[0;34m[\u001b[0m\u001b[0mint\u001b[0m\u001b[0;34m,\u001b[0m \u001b[0mstr\u001b[0m\u001b[0;34m]\u001b[0m\u001b[0;34m,\u001b[0m \u001b[0mfloat\u001b[0m\u001b[0;34m]\u001b[0m\u001b[0;34m]\u001b[0m\u001b[0;34m)\u001b[0m \u001b[0;34m->\u001b[0m \u001b[0mndarray\u001b[0m\u001b[0;34m:\u001b[0m\u001b[0;34m\u001b[0m\u001b[0;34m\u001b[0m\u001b[0m\n",
      "\u001b[0;32m~/.local/lib/python3.8/site-packages/qiskit_optimization/problems/linear_expression.py\u001b[0m in \u001b[0;36mevaluate\u001b[0;34m(self, x)\u001b[0m\n\u001b[1;32m    168\u001b[0m \u001b[0;34m\u001b[0m\u001b[0m\n\u001b[1;32m    169\u001b[0m         \u001b[0;31m# compute the dot-product of the input and the linear coefficients\u001b[0m\u001b[0;34m\u001b[0m\u001b[0;34m\u001b[0m\u001b[0;34m\u001b[0m\u001b[0m\n\u001b[0;32m--> 170\u001b[0;31m         \u001b[0mval\u001b[0m \u001b[0;34m=\u001b[0m \u001b[0;34m(\u001b[0m\u001b[0mx\u001b[0m \u001b[0;34m@\u001b[0m \u001b[0mself\u001b[0m\u001b[0;34m.\u001b[0m\u001b[0mcoefficients\u001b[0m\u001b[0;34m.\u001b[0m\u001b[0mtranspose\u001b[0m\u001b[0;34m(\u001b[0m\u001b[0;34m)\u001b[0m\u001b[0;34m)\u001b[0m\u001b[0;34m[\u001b[0m\u001b[0;36m0\u001b[0m\u001b[0;34m,\u001b[0m \u001b[0;36m0\u001b[0m\u001b[0;34m]\u001b[0m\u001b[0;34m\u001b[0m\u001b[0;34m\u001b[0m\u001b[0m\n\u001b[0m\u001b[1;32m    171\u001b[0m \u001b[0;34m\u001b[0m\u001b[0m\n\u001b[1;32m    172\u001b[0m         \u001b[0;31m# return the result\u001b[0m\u001b[0;34m\u001b[0m\u001b[0;34m\u001b[0m\u001b[0;34m\u001b[0m\u001b[0m\n",
      "\u001b[0;32m~/.local/lib/python3.8/site-packages/scipy/sparse/base.py\u001b[0m in \u001b[0;36m__matmul__\u001b[0;34m(self, other)\u001b[0m\n\u001b[1;32m    558\u001b[0m             raise ValueError(\"Scalar operands are not allowed, \"\n\u001b[1;32m    559\u001b[0m                              \"use '*' instead\")\n\u001b[0;32m--> 560\u001b[0;31m         \u001b[0;32mreturn\u001b[0m \u001b[0mself\u001b[0m\u001b[0;34m.\u001b[0m\u001b[0m__mul__\u001b[0m\u001b[0;34m(\u001b[0m\u001b[0mother\u001b[0m\u001b[0;34m)\u001b[0m\u001b[0;34m\u001b[0m\u001b[0;34m\u001b[0m\u001b[0m\n\u001b[0m\u001b[1;32m    561\u001b[0m \u001b[0;34m\u001b[0m\u001b[0m\n\u001b[1;32m    562\u001b[0m     \u001b[0;32mdef\u001b[0m \u001b[0m__rmatmul__\u001b[0m\u001b[0;34m(\u001b[0m\u001b[0mself\u001b[0m\u001b[0;34m,\u001b[0m \u001b[0mother\u001b[0m\u001b[0;34m)\u001b[0m\u001b[0;34m:\u001b[0m\u001b[0;34m\u001b[0m\u001b[0;34m\u001b[0m\u001b[0m\n",
      "\u001b[0;32m~/.local/lib/python3.8/site-packages/cvxpy/interface/scipy_wrapper.py\u001b[0m in \u001b[0;36mnew_method\u001b[0;34m(self, other)\u001b[0m\n\u001b[1;32m     29\u001b[0m             \u001b[0;32mreturn\u001b[0m \u001b[0mNotImplemented\u001b[0m\u001b[0;34m\u001b[0m\u001b[0;34m\u001b[0m\u001b[0m\n\u001b[1;32m     30\u001b[0m         \u001b[0;32melse\u001b[0m\u001b[0;34m:\u001b[0m\u001b[0;34m\u001b[0m\u001b[0;34m\u001b[0m\u001b[0m\n\u001b[0;32m---> 31\u001b[0;31m             \u001b[0;32mreturn\u001b[0m \u001b[0mmethod\u001b[0m\u001b[0;34m(\u001b[0m\u001b[0mself\u001b[0m\u001b[0;34m,\u001b[0m \u001b[0mother\u001b[0m\u001b[0;34m)\u001b[0m\u001b[0;34m\u001b[0m\u001b[0;34m\u001b[0m\u001b[0m\n\u001b[0m\u001b[1;32m     32\u001b[0m     \u001b[0;32mreturn\u001b[0m \u001b[0mnew_method\u001b[0m\u001b[0;34m\u001b[0m\u001b[0;34m\u001b[0m\u001b[0m\n\u001b[1;32m     33\u001b[0m \u001b[0;34m\u001b[0m\u001b[0m\n",
      "\u001b[0;32m~/.local/lib/python3.8/site-packages/scipy/sparse/base.py\u001b[0m in \u001b[0;36m__mul__\u001b[0;34m(self, other)\u001b[0m\n\u001b[1;32m    477\u001b[0m         \u001b[0;32mif\u001b[0m \u001b[0missparse\u001b[0m\u001b[0;34m(\u001b[0m\u001b[0mother\u001b[0m\u001b[0;34m)\u001b[0m\u001b[0;34m:\u001b[0m\u001b[0;34m\u001b[0m\u001b[0;34m\u001b[0m\u001b[0m\n\u001b[1;32m    478\u001b[0m             \u001b[0;32mif\u001b[0m \u001b[0mself\u001b[0m\u001b[0;34m.\u001b[0m\u001b[0mshape\u001b[0m\u001b[0;34m[\u001b[0m\u001b[0;36m1\u001b[0m\u001b[0;34m]\u001b[0m \u001b[0;34m!=\u001b[0m \u001b[0mother\u001b[0m\u001b[0;34m.\u001b[0m\u001b[0mshape\u001b[0m\u001b[0;34m[\u001b[0m\u001b[0;36m0\u001b[0m\u001b[0;34m]\u001b[0m\u001b[0;34m:\u001b[0m\u001b[0;34m\u001b[0m\u001b[0;34m\u001b[0m\u001b[0m\n\u001b[0;32m--> 479\u001b[0;31m                 \u001b[0;32mraise\u001b[0m \u001b[0mValueError\u001b[0m\u001b[0;34m(\u001b[0m\u001b[0;34m'dimension mismatch'\u001b[0m\u001b[0;34m)\u001b[0m\u001b[0;34m\u001b[0m\u001b[0;34m\u001b[0m\u001b[0m\n\u001b[0m\u001b[1;32m    480\u001b[0m             \u001b[0;32mreturn\u001b[0m \u001b[0mself\u001b[0m\u001b[0;34m.\u001b[0m\u001b[0m_mul_sparse_matrix\u001b[0m\u001b[0;34m(\u001b[0m\u001b[0mother\u001b[0m\u001b[0;34m)\u001b[0m\u001b[0;34m\u001b[0m\u001b[0;34m\u001b[0m\u001b[0m\n\u001b[1;32m    481\u001b[0m \u001b[0;34m\u001b[0m\u001b[0m\n",
      "\u001b[0;31mValueError\u001b[0m: dimension mismatch"
     ]
    }
   ],
   "source": [
    "solutions = []\n",
    "eigenvector = np.array(means[0]).flatten()#np.real(observable_values) #e.to_matrix()[0]\n",
    "print(eigenvector)\n",
    "num_qubits = int(np.log2(eigenvector.size))\n",
    "probabilities = np.abs(eigenvector * eigenvector.conj())\n",
    "\n",
    "# iterate over all states and their sampling probabilities\n",
    "for i, sampling_probability in enumerate(probabilities):\n",
    "    # add the i-th state if the sampling probability exceeds the threshold\n",
    "    #if sampling_probability >= 1e-9:\n",
    "    bitstr = f\"{i:b}\".rjust(num_qubits, \"0\")\n",
    "    solutions.append(generate_solution(bitstr, max_cut_qubo, sampling_probability))"
   ]
  },
  {
   "cell_type": "code",
   "execution_count": null,
   "id": "4c4eb097",
   "metadata": {},
   "outputs": [],
   "source": [
    "solutions"
   ]
  },
  {
   "cell_type": "code",
   "execution_count": null,
   "id": "925db67b",
   "metadata": {},
   "outputs": [],
   "source": [
    "ss = 0\n",
    "for s in solutions:\n",
    "    ss += s.probability\n",
    "ss"
   ]
  },
  {
   "cell_type": "code",
   "execution_count": null,
   "id": "5ce04735",
   "metadata": {},
   "outputs": [],
   "source": [
    "from qiskit.quantum_info import Clifford\n",
    "cliff = Clifford(circuit)"
   ]
  },
  {
   "cell_type": "code",
   "execution_count": null,
   "id": "9e552642",
   "metadata": {},
   "outputs": [],
   "source": [
    "mitiq.cdr.clifford_training_data.count_non_cliffords(circuit)"
   ]
  },
  {
   "cell_type": "code",
   "execution_count": 74,
   "id": "18c3b9d4",
   "metadata": {
    "scrolled": false
   },
   "outputs": [
    {
     "name": "stdout",
     "output_type": "stream",
     "text": [
      "get circuit_data:\n",
      "{15: 8, 19: 17, 25: 11, 20: 15, 29: 16, 4: 13, 3: 62, 26: 33, 6: 24, 2: 27, 14: 43, 10: 50, 17: 26, 23: 52, 24: 41, 7: 44, 11: 14, 0: 36, 27: 15, 8: 54, 9: 15, 5: 37, 12: 27, 13: 10, 1: 74, 30: 66, 28: 94, 16: 8, 21: 47, 22: 16, 18: 9, 31: 20}\n",
      "[ 0.84375     0.65039062  0.13183594 -0.60546875  0.1015625  -0.25292969\n",
      "  0.1640625  -0.34375     0.421875    0.16113281 -0.53710938 -0.109375\n",
      " -0.2109375  -0.04882812 -0.37792969 -0.046875  ]\n",
      "-0.69921875\n",
      "{25: 27, 27: 33, 7: 34, 5: 28, 9: 26, 21: 23, 16: 33, 26: 28, 10: 33, 17: 27, 2: 34, 30: 20, 28: 30, 29: 35, 20: 33, 31: 31, 22: 36, 18: 35, 8: 28, 14: 51, 11: 29, 0: 46, 24: 27, 23: 29, 12: 37, 19: 28, 3: 39, 4: 35, 6: 36, 1: 32, 13: 29, 15: 32}\n",
      "[ 1.078125    0.28125     0.16601562 -0.38085938  0.2734375  -0.19140625\n",
      "  0.24609375 -0.265625    0.21875     0.27929688 -0.35449219 -0.2265625\n",
      " -0.2890625  -0.14160156 -0.44824219 -0.1875    ]\n",
      "0.166015625\n",
      "{14: 26, 19: 25, 7: 31, 22: 22, 31: 25, 18: 22, 12: 29, 20: 28, 29: 32, 2: 48, 26: 23, 15: 36, 8: 30, 27: 31, 13: 28, 1: 48, 6: 51, 4: 41, 3: 24, 11: 38, 0: 41, 5: 31, 9: 34, 23: 34, 24: 32, 10: 29, 17: 26, 25: 34, 30: 21, 28: 40, 21: 26, 16: 38}\n",
      "[ 0.9609375   0.421875    0.234375   -0.234375    0.3203125  -0.21191406\n",
      "  0.34863281 -0.2421875   0.234375    0.36523438 -0.31152344 -0.296875\n",
      " -0.2265625  -0.13671875 -0.22851562 -0.2109375 ]\n",
      "0.6396484375\n",
      "{15: 25, 19: 32, 25: 28, 27: 26, 8: 36, 2: 36, 23: 27, 24: 47, 12: 42, 21: 32, 16: 49, 6: 29, 7: 24, 14: 34, 13: 32, 1: 32, 9: 30, 5: 46, 26: 28, 28: 23, 30: 26, 29: 23, 20: 24, 0: 34, 11: 32, 17: 32, 10: 28, 3: 23, 4: 52, 31: 22, 22: 38, 18: 32}\n",
      "[ 0.796875    0.28125     0.17578125 -0.22460938  0.40625    -0.31445312\n",
      "  0.19824219 -0.1875      0.28125     0.32226562 -0.30078125 -0.25\n",
      " -0.328125   -0.15625    -0.29882812 -0.14648438]\n",
      "-0.1640625\n",
      "{6: 34, 7: 27, 23: 20, 24: 39, 8: 40, 12: 34, 14: 37, 19: 37, 28: 22, 30: 26, 15: 32, 0: 46, 11: 43, 10: 32, 17: 34, 29: 40, 20: 30, 18: 17, 31: 38, 22: 22, 21: 26, 16: 29, 2: 32, 4: 41, 3: 32, 27: 26, 5: 37, 9: 36, 25: 33, 26: 28, 13: 20, 1: 34}\n",
      "[ 1.078125    0.29882812  0.15625    -0.3125      0.3203125  -0.25292969\n",
      "  0.23242188 -0.2109375   0.3125      0.38671875 -0.34375    -0.3359375\n",
      " -0.265625   -0.09765625 -0.32519531 -0.1875    ]\n",
      "0.5234375\n",
      "{6: 36, 27: 27, 20: 21, 29: 26, 15: 30, 25: 24, 8: 27, 19: 27, 4: 35, 3: 37, 7: 42, 12: 35, 9: 37, 5: 37, 30: 33, 28: 28, 2: 29, 0: 43, 11: 39, 14: 27, 26: 30, 13: 30, 1: 45, 24: 33, 23: 30, 18: 28, 22: 34, 31: 33, 16: 32, 21: 26, 17: 31, 10: 32}\n",
      "[ 1.0078125   0.39550781  0.14160156 -0.36132812  0.2734375  -0.25292969\n",
      "  0.24609375 -0.328125    0.2109375   0.39746094 -0.34375    -0.3046875\n",
      " -0.2734375  -0.14648438 -0.23730469 -0.17578125]\n",
      "0.4267578125\n",
      "{12: 33, 19: 27, 8: 35, 5: 40, 9: 29, 7: 24, 27: 32, 26: 29, 2: 41, 28: 32, 30: 26, 11: 40, 0: 43, 4: 38, 3: 42, 16: 32, 21: 37, 14: 35, 20: 29, 29: 25, 17: 27, 10: 43, 15: 22, 25: 29, 31: 18, 22: 22, 18: 33, 23: 26, 24: 32, 13: 23, 1: 40, 6: 40}\n",
      "[ 1.0078125   0.3515625   0.20019531 -0.41015625  0.296875   -0.2734375\n",
      "  0.2734375  -0.1875      0.2734375   0.31152344 -0.46191406 -0.3125\n",
      " -0.2578125  -0.11230469 -0.30761719 -0.12890625]\n",
      "-0.2587890625\n",
      "{26: 31, 27: 22, 6: 24, 2: 24, 25: 17, 20: 22, 29: 20, 14: 43, 19: 32, 30: 43, 28: 34, 8: 67, 22: 17, 31: 13, 18: 19, 1: 44, 13: 23, 23: 38, 24: 31, 9: 24, 5: 50, 12: 54, 0: 32, 11: 27, 15: 22, 17: 40, 10: 46, 3: 46, 4: 29, 21: 24, 16: 20, 7: 46}\n",
      "[ 0.75        0.38671875  0.1171875  -0.44921875  0.2265625  -0.34179688\n",
      "  0.1640625  -0.359375    0.5234375   0.2578125  -0.49414062 -0.2109375\n",
      " -0.421875   -0.11230469 -0.37792969 -0.12890625]\n",
      "-0.9501953125\n",
      "{15: 28, 7: 30, 19: 19, 17: 25, 10: 37, 26: 21, 29: 24, 20: 21, 16: 36, 21: 27, 14: 39, 25: 29, 6: 37, 3: 36, 4: 43, 23: 26, 24: 28, 12: 33, 13: 28, 1: 43, 27: 28, 22: 20, 31: 22, 18: 33, 8: 47, 5: 28, 9: 39, 2: 49, 28: 41, 30: 29, 0: 45, 11: 33}\n",
      "[ 1.0546875   0.37792969  0.23925781 -0.3515625   0.3359375  -0.19140625\n",
      "  0.25292969 -0.234375    0.3671875   0.41894531 -0.39746094 -0.2578125\n",
      " -0.2578125  -0.13671875 -0.34277344 -0.1640625 ]\n",
      "0.478515625\n",
      "{26: 19, 27: 16, 12: 30, 4: 45, 3: 30, 6: 34, 17: 26, 10: 33, 19: 33, 28: 34, 30: 30, 29: 24, 20: 31, 2: 37, 25: 26, 15: 25, 8: 47, 16: 32, 21: 28, 14: 38, 18: 28, 22: 33, 31: 33, 13: 24, 1: 46, 11: 40, 0: 49, 7: 29, 9: 39, 5: 26, 23: 28, 24: 31}\n",
      "[ 1.1484375   0.40429688  0.18066406 -0.29296875  0.3515625  -0.17773438\n",
      "  0.23242188 -0.2265625   0.3671875   0.41894531 -0.35449219 -0.3125\n",
      " -0.234375   -0.1171875  -0.33398438 -0.14648438]\n",
      "0.8798828125\n",
      "{8: 40, 19: 26, 6: 32, 14: 28, 16: 30, 21: 29, 26: 21, 28: 18, 30: 29, 2: 35, 29: 29, 20: 35, 25: 35, 12: 35, 1: 44, 13: 41, 4: 32, 3: 41, 7: 28, 0: 48, 11: 34, 15: 29, 10: 33, 17: 30, 5: 36, 9: 31, 27: 23, 18: 36, 22: 33, 31: 29, 24: 35, 23: 19}\n",
      "[ 1.125       0.38671875  0.17089844 -0.40039062  0.25       -0.24609375\n",
      "  0.21875    -0.21875     0.3125      0.33300781 -0.35449219 -0.265625\n",
      " -0.2734375  -0.20019531 -0.24609375 -0.16992188]\n",
      "0.423828125\n",
      "get noisy_expectation_values:12\n",
      "{15: 8, 19: 17, 25: 11, 20: 15, 29: 16, 4: 13, 3: 62, 26: 33, 6: 24, 2: 27, 14: 43, 10: 50, 17: 26, 23: 52, 24: 41, 7: 44, 11: 14, 0: 36, 27: 15, 8: 54, 9: 15, 5: 37, 12: 27, 13: 10, 1: 74, 30: 66, 28: 94, 16: 8, 21: 47, 22: 16, 18: 9, 31: 20}\n",
      "[ 0.84375     0.65039062  0.13183594 -0.60546875  0.1015625  -0.25292969\n",
      "  0.1640625  -0.34375     0.421875    0.16113281 -0.53710938 -0.109375\n",
      " -0.2109375  -0.04882812 -0.37792969 -0.046875  ]\n",
      "-0.69921875\n",
      "{25: 27, 27: 33, 7: 34, 5: 28, 9: 26, 21: 23, 16: 33, 26: 28, 10: 33, 17: 27, 2: 34, 30: 20, 28: 30, 29: 35, 20: 33, 31: 31, 22: 36, 18: 35, 8: 28, 14: 51, 11: 29, 0: 46, 24: 27, 23: 29, 12: 37, 19: 28, 3: 39, 4: 35, 6: 36, 1: 32, 13: 29, 15: 32}\n",
      "[ 1.078125    0.28125     0.16601562 -0.38085938  0.2734375  -0.19140625\n",
      "  0.24609375 -0.265625    0.21875     0.27929688 -0.35449219 -0.2265625\n",
      " -0.2890625  -0.14160156 -0.44824219 -0.1875    ]\n",
      "0.166015625\n",
      "{14: 26, 19: 25, 7: 31, 22: 22, 31: 25, 18: 22, 12: 29, 20: 28, 29: 32, 2: 48, 26: 23, 15: 36, 8: 30, 27: 31, 13: 28, 1: 48, 6: 51, 4: 41, 3: 24, 11: 38, 0: 41, 5: 31, 9: 34, 23: 34, 24: 32, 10: 29, 17: 26, 25: 34, 30: 21, 28: 40, 21: 26, 16: 38}\n",
      "[ 0.9609375   0.421875    0.234375   -0.234375    0.3203125  -0.21191406\n",
      "  0.34863281 -0.2421875   0.234375    0.36523438 -0.31152344 -0.296875\n",
      " -0.2265625  -0.13671875 -0.22851562 -0.2109375 ]\n",
      "0.6396484375\n",
      "{15: 25, 19: 32, 25: 28, 27: 26, 8: 36, 2: 36, 23: 27, 24: 47, 12: 42, 21: 32, 16: 49, 6: 29, 7: 24, 14: 34, 13: 32, 1: 32, 9: 30, 5: 46, 26: 28, 28: 23, 30: 26, 29: 23, 20: 24, 0: 34, 11: 32, 17: 32, 10: 28, 3: 23, 4: 52, 31: 22, 22: 38, 18: 32}\n",
      "[ 0.796875    0.28125     0.17578125 -0.22460938  0.40625    -0.31445312\n",
      "  0.19824219 -0.1875      0.28125     0.32226562 -0.30078125 -0.25\n",
      " -0.328125   -0.15625    -0.29882812 -0.14648438]\n",
      "-0.1640625\n",
      "{6: 34, 7: 27, 23: 20, 24: 39, 8: 40, 12: 34, 14: 37, 19: 37, 28: 22, 30: 26, 15: 32, 0: 46, 11: 43, 10: 32, 17: 34, 29: 40, 20: 30, 18: 17, 31: 38, 22: 22, 21: 26, 16: 29, 2: 32, 4: 41, 3: 32, 27: 26, 5: 37, 9: 36, 25: 33, 26: 28, 13: 20, 1: 34}\n",
      "[ 1.078125    0.29882812  0.15625    -0.3125      0.3203125  -0.25292969\n",
      "  0.23242188 -0.2109375   0.3125      0.38671875 -0.34375    -0.3359375\n",
      " -0.265625   -0.09765625 -0.32519531 -0.1875    ]\n",
      "0.5234375\n",
      "{6: 36, 27: 27, 20: 21, 29: 26, 15: 30, 25: 24, 8: 27, 19: 27, 4: 35, 3: 37, 7: 42, 12: 35, 9: 37, 5: 37, 30: 33, 28: 28, 2: 29, 0: 43, 11: 39, 14: 27, 26: 30, 13: 30, 1: 45, 24: 33, 23: 30, 18: 28, 22: 34, 31: 33, 16: 32, 21: 26, 17: 31, 10: 32}\n",
      "[ 1.0078125   0.39550781  0.14160156 -0.36132812  0.2734375  -0.25292969\n",
      "  0.24609375 -0.328125    0.2109375   0.39746094 -0.34375    -0.3046875\n",
      " -0.2734375  -0.14648438 -0.23730469 -0.17578125]\n",
      "0.4267578125\n",
      "{12: 33, 19: 27, 8: 35, 5: 40, 9: 29, 7: 24, 27: 32, 26: 29, 2: 41, 28: 32, 30: 26, 11: 40, 0: 43, 4: 38, 3: 42, 16: 32, 21: 37, 14: 35, 20: 29, 29: 25, 17: 27, 10: 43, 15: 22, 25: 29, 31: 18, 22: 22, 18: 33, 23: 26, 24: 32, 13: 23, 1: 40, 6: 40}\n",
      "[ 1.0078125   0.3515625   0.20019531 -0.41015625  0.296875   -0.2734375\n",
      "  0.2734375  -0.1875      0.2734375   0.31152344 -0.46191406 -0.3125\n",
      " -0.2578125  -0.11230469 -0.30761719 -0.12890625]\n",
      "-0.2587890625\n",
      "{26: 31, 27: 22, 6: 24, 2: 24, 25: 17, 20: 22, 29: 20, 14: 43, 19: 32, 30: 43, 28: 34, 8: 67, 22: 17, 31: 13, 18: 19, 1: 44, 13: 23, 23: 38, 24: 31, 9: 24, 5: 50, 12: 54, 0: 32, 11: 27, 15: 22, 17: 40, 10: 46, 3: 46, 4: 29, 21: 24, 16: 20, 7: 46}\n",
      "[ 0.75        0.38671875  0.1171875  -0.44921875  0.2265625  -0.34179688\n",
      "  0.1640625  -0.359375    0.5234375   0.2578125  -0.49414062 -0.2109375\n",
      " -0.421875   -0.11230469 -0.37792969 -0.12890625]\n",
      "-0.9501953125\n",
      "{15: 28, 7: 30, 19: 19, 17: 25, 10: 37, 26: 21, 29: 24, 20: 21, 16: 36, 21: 27, 14: 39, 25: 29, 6: 37, 3: 36, 4: 43, 23: 26, 24: 28, 12: 33, 13: 28, 1: 43, 27: 28, 22: 20, 31: 22, 18: 33, 8: 47, 5: 28, 9: 39, 2: 49, 28: 41, 30: 29, 0: 45, 11: 33}\n",
      "[ 1.0546875   0.37792969  0.23925781 -0.3515625   0.3359375  -0.19140625\n",
      "  0.25292969 -0.234375    0.3671875   0.41894531 -0.39746094 -0.2578125\n",
      " -0.2578125  -0.13671875 -0.34277344 -0.1640625 ]\n",
      "0.478515625\n",
      "{26: 19, 27: 16, 12: 30, 4: 45, 3: 30, 6: 34, 17: 26, 10: 33, 19: 33, 28: 34, 30: 30, 29: 24, 20: 31, 2: 37, 25: 26, 15: 25, 8: 47, 16: 32, 21: 28, 14: 38, 18: 28, 22: 33, 31: 33, 13: 24, 1: 46, 11: 40, 0: 49, 7: 29, 9: 39, 5: 26, 23: 28, 24: 31}\n",
      "[ 1.1484375   0.40429688  0.18066406 -0.29296875  0.3515625  -0.17773438\n",
      "  0.23242188 -0.2265625   0.3671875   0.41894531 -0.35449219 -0.3125\n",
      " -0.234375   -0.1171875  -0.33398438 -0.14648438]\n",
      "0.8798828125\n",
      "{8: 40, 19: 26, 6: 32, 14: 28, 16: 30, 21: 29, 26: 21, 28: 18, 30: 29, 2: 35, 29: 29, 20: 35, 25: 35, 12: 35, 1: 44, 13: 41, 4: 32, 3: 41, 7: 28, 0: 48, 11: 34, 15: 29, 10: 33, 17: 30, 5: 36, 9: 31, 27: 23, 18: 36, 22: 33, 31: 29, 24: 35, 23: 19}\n",
      "[ 1.125       0.38671875  0.17089844 -0.40039062  0.25       -0.24609375\n",
      "  0.21875    -0.21875     0.3125      0.33300781 -0.35449219 -0.265625\n",
      " -0.2734375  -0.20019531 -0.24609375 -0.16992188]\n",
      "0.423828125\n",
      "noisy_expectation_values:123\n",
      "[array([ 0.84375   ,  0.65039062,  0.13183594, -0.60546875,  0.1015625 ,\n",
      "       -0.25292969,  0.1640625 , -0.34375   ,  0.421875  ,  0.16113281,\n",
      "       -0.53710938, -0.109375  , -0.2109375 , -0.04882812, -0.37792969,\n",
      "       -0.046875  ]), array([ 1.078125  ,  0.28125   ,  0.16601562, -0.38085938,  0.2734375 ,\n",
      "       -0.19140625,  0.24609375, -0.265625  ,  0.21875   ,  0.27929688,\n",
      "       -0.35449219, -0.2265625 , -0.2890625 , -0.14160156, -0.44824219,\n",
      "       -0.1875    ]), array([ 0.9609375 ,  0.421875  ,  0.234375  , -0.234375  ,  0.3203125 ,\n",
      "       -0.21191406,  0.34863281, -0.2421875 ,  0.234375  ,  0.36523438,\n",
      "       -0.31152344, -0.296875  , -0.2265625 , -0.13671875, -0.22851562,\n",
      "       -0.2109375 ]), array([ 0.796875  ,  0.28125   ,  0.17578125, -0.22460938,  0.40625   ,\n",
      "       -0.31445312,  0.19824219, -0.1875    ,  0.28125   ,  0.32226562,\n",
      "       -0.30078125, -0.25      , -0.328125  , -0.15625   , -0.29882812,\n",
      "       -0.14648438]), array([ 1.078125  ,  0.29882812,  0.15625   , -0.3125    ,  0.3203125 ,\n",
      "       -0.25292969,  0.23242188, -0.2109375 ,  0.3125    ,  0.38671875,\n",
      "       -0.34375   , -0.3359375 , -0.265625  , -0.09765625, -0.32519531,\n",
      "       -0.1875    ]), array([ 1.0078125 ,  0.39550781,  0.14160156, -0.36132812,  0.2734375 ,\n",
      "       -0.25292969,  0.24609375, -0.328125  ,  0.2109375 ,  0.39746094,\n",
      "       -0.34375   , -0.3046875 , -0.2734375 , -0.14648438, -0.23730469,\n",
      "       -0.17578125]), array([ 1.0078125 ,  0.3515625 ,  0.20019531, -0.41015625,  0.296875  ,\n",
      "       -0.2734375 ,  0.2734375 , -0.1875    ,  0.2734375 ,  0.31152344,\n",
      "       -0.46191406, -0.3125    , -0.2578125 , -0.11230469, -0.30761719,\n",
      "       -0.12890625]), array([ 0.75      ,  0.38671875,  0.1171875 , -0.44921875,  0.2265625 ,\n",
      "       -0.34179688,  0.1640625 , -0.359375  ,  0.5234375 ,  0.2578125 ,\n",
      "       -0.49414062, -0.2109375 , -0.421875  , -0.11230469, -0.37792969,\n",
      "       -0.12890625]), array([ 1.0546875 ,  0.37792969,  0.23925781, -0.3515625 ,  0.3359375 ,\n",
      "       -0.19140625,  0.25292969, -0.234375  ,  0.3671875 ,  0.41894531,\n",
      "       -0.39746094, -0.2578125 , -0.2578125 , -0.13671875, -0.34277344,\n",
      "       -0.1640625 ]), array([ 1.1484375 ,  0.40429688,  0.18066406, -0.29296875,  0.3515625 ,\n",
      "       -0.17773438,  0.23242188, -0.2265625 ,  0.3671875 ,  0.41894531,\n",
      "       -0.35449219, -0.3125    , -0.234375  , -0.1171875 , -0.33398438,\n",
      "       -0.14648438]), array([ 1.125     ,  0.38671875,  0.17089844, -0.40039062,  0.25      ,\n",
      "       -0.24609375,  0.21875   , -0.21875   ,  0.3125    ,  0.33300781,\n",
      "       -0.35449219, -0.265625  , -0.2734375 , -0.20019531, -0.24609375,\n",
      "       -0.16992188])]\n",
      "get ideal_expectation_values:123\n",
      "[{2: 5, 27: 9, 22: 5, 18: 5, 31: 11, 25: 14, 6: 16, 20: 3, 29: 5, 26: 35, 11: 3, 0: 16, 4: 10, 3: 85, 7: 41, 28: 68, 30: 102, 15: 6, 17: 25, 10: 75, 13: 8, 1: 104, 9: 3, 5: 35, 12: 27, 16: 3, 21: 70, 19: 23, 23: 68, 24: 41, 14: 27, 8: 76}]\n",
      "{2: 5, 27: 9, 22: 5, 18: 5, 31: 11, 25: 14, 6: 16, 20: 3, 29: 5, 26: 35, 11: 3, 0: 16, 4: 10, 3: 85, 7: 41, 28: 68, 30: 102, 15: 6, 17: 25, 10: 75, 13: 8, 1: 104, 9: 3, 5: 35, 12: 27, 16: 3, 21: 70, 19: 23, 23: 68, 24: 41, 14: 27, 8: 76}\n",
      "[ 0.375       0.9140625   0.02441406 -0.83007812  0.078125   -0.23925781\n",
      "  0.109375   -0.3203125   0.59375     0.03222656 -0.80566406 -0.0234375\n",
      " -0.2109375  -0.0390625  -0.23730469 -0.03515625]\n",
      "-1.125\n",
      "ideal_expectation_values:1234\n",
      "[array([ 0.375     ,  0.9140625 ,  0.02441406, -0.83007812,  0.078125  ,\n",
      "       -0.23925781,  0.109375  , -0.3203125 ,  0.59375   ,  0.03222656,\n",
      "       -0.80566406, -0.0234375 , -0.2109375 , -0.0390625 , -0.23730469,\n",
      "       -0.03515625])]\n",
      "[0.84375]\n",
      "[0.375]\n",
      "fp:\n",
      "[ 0.20338983  0.55384615  0.02157032 -2.1039604   0.07092199 -0.32026144\n",
      "  0.09395973 -0.48809524  0.41758242  0.02775442 -1.74050633 -0.02631579\n",
      " -0.26732673 -0.04106776 -0.38147567 -0.03688525]\n",
      "circuit data\n",
      "[[ 0.84375     0.65039062  0.13183594 -0.60546875  0.1015625  -0.25292969\n",
      "   0.1640625  -0.34375     0.421875    0.16113281 -0.53710938 -0.109375\n",
      "  -0.2109375  -0.04882812 -0.37792969 -0.046875  ]\n",
      " [ 1.078125    0.28125     0.16601562 -0.38085938  0.2734375  -0.19140625\n",
      "   0.24609375 -0.265625    0.21875     0.27929688 -0.35449219 -0.2265625\n",
      "  -0.2890625  -0.14160156 -0.44824219 -0.1875    ]\n",
      " [ 0.9609375   0.421875    0.234375   -0.234375    0.3203125  -0.21191406\n",
      "   0.34863281 -0.2421875   0.234375    0.36523438 -0.31152344 -0.296875\n",
      "  -0.2265625  -0.13671875 -0.22851562 -0.2109375 ]\n",
      " [ 0.796875    0.28125     0.17578125 -0.22460938  0.40625    -0.31445312\n",
      "   0.19824219 -0.1875      0.28125     0.32226562 -0.30078125 -0.25\n",
      "  -0.328125   -0.15625    -0.29882812 -0.14648438]\n",
      " [ 1.078125    0.29882812  0.15625    -0.3125      0.3203125  -0.25292969\n",
      "   0.23242188 -0.2109375   0.3125      0.38671875 -0.34375    -0.3359375\n",
      "  -0.265625   -0.09765625 -0.32519531 -0.1875    ]\n",
      " [ 1.0078125   0.39550781  0.14160156 -0.36132812  0.2734375  -0.25292969\n",
      "   0.24609375 -0.328125    0.2109375   0.39746094 -0.34375    -0.3046875\n",
      "  -0.2734375  -0.14648438 -0.23730469 -0.17578125]\n",
      " [ 1.0078125   0.3515625   0.20019531 -0.41015625  0.296875   -0.2734375\n",
      "   0.2734375  -0.1875      0.2734375   0.31152344 -0.46191406 -0.3125\n",
      "  -0.2578125  -0.11230469 -0.30761719 -0.12890625]\n",
      " [ 0.75        0.38671875  0.1171875  -0.44921875  0.2265625  -0.34179688\n",
      "   0.1640625  -0.359375    0.5234375   0.2578125  -0.49414062 -0.2109375\n",
      "  -0.421875   -0.11230469 -0.37792969 -0.12890625]\n",
      " [ 1.0546875   0.37792969  0.23925781 -0.3515625   0.3359375  -0.19140625\n",
      "   0.25292969 -0.234375    0.3671875   0.41894531 -0.39746094 -0.2578125\n",
      "  -0.2578125  -0.13671875 -0.34277344 -0.1640625 ]\n",
      " [ 1.1484375   0.40429688  0.18066406 -0.29296875  0.3515625  -0.17773438\n",
      "   0.23242188 -0.2265625   0.3671875   0.41894531 -0.35449219 -0.3125\n",
      "  -0.234375   -0.1171875  -0.33398438 -0.14648438]\n",
      " [ 1.125       0.38671875  0.17089844 -0.40039062  0.25       -0.24609375\n",
      "   0.21875    -0.21875     0.3125      0.33300781 -0.35449219 -0.265625\n",
      "  -0.2734375  -0.20019531 -0.24609375 -0.16992188]]\n"
     ]
    }
   ],
   "source": [
    "means = execute_with_cdr(\n",
    "    circuit=circuit,\n",
    "    executor=sample_bitstrings,\n",
    "    observables=[obs],\n",
    "    simulator=sample_bitstrings_simulator,\n",
    "    num_training_circuits=10,\n",
    "    num_fit_parameters=1,\n",
    "    full_output=True\n",
    ")"
   ]
  },
  {
   "cell_type": "code",
   "execution_count": 75,
   "id": "28482c31",
   "metadata": {},
   "outputs": [
    {
     "data": {
      "text/plain": [
       "-1.2940677754397312"
      ]
     },
     "execution_count": 75,
     "metadata": {},
     "output_type": "execute_result"
    }
   ],
   "source": [
    "sum(np.real(np.array(means[0]).flatten()))"
   ]
  },
  {
   "cell_type": "code",
   "execution_count": 76,
   "id": "1649481e",
   "metadata": {},
   "outputs": [
    {
     "data": {
      "text/plain": [
       "array([ 0.84375   ,  0.65039062,  0.13183594, -0.60546875,  0.1015625 ,\n",
       "       -0.25292969,  0.1640625 , -0.34375   ,  0.421875  ,  0.16113281,\n",
       "       -0.53710938, -0.109375  , -0.2109375 , -0.04882812, -0.37792969,\n",
       "       -0.046875  ])"
      ]
     },
     "execution_count": 76,
     "metadata": {},
     "output_type": "execute_result"
    }
   ],
   "source": [
    "means[1][0][0]"
   ]
  },
  {
   "cell_type": "code",
   "execution_count": 77,
   "id": "bcedc897",
   "metadata": {},
   "outputs": [
    {
     "data": {
      "text/plain": [
       "([array([-2.92748021, -1.09671595, -0.54808734,  0.91276938, -1.14524247,\n",
       "          1.01035727, -0.66217468,  0.65984685, -1.07218301, -1.10904223,\n",
       "          1.00833149,  0.82831488,  1.05777185,  0.57290085,  0.746204  ,\n",
       "          0.47036155])],\n",
       " array([[[ 0.84375   ,  0.65039062,  0.13183594, -0.60546875,\n",
       "           0.1015625 , -0.25292969,  0.1640625 , -0.34375   ,\n",
       "           0.421875  ,  0.16113281, -0.53710938, -0.109375  ,\n",
       "          -0.2109375 , -0.04882812, -0.37792969, -0.046875  ],\n",
       "         [ 1.078125  ,  0.28125   ,  0.16601562, -0.38085938,\n",
       "           0.2734375 , -0.19140625,  0.24609375, -0.265625  ,\n",
       "           0.21875   ,  0.27929688, -0.35449219, -0.2265625 ,\n",
       "          -0.2890625 , -0.14160156, -0.44824219, -0.1875    ],\n",
       "         [ 0.9609375 ,  0.421875  ,  0.234375  , -0.234375  ,\n",
       "           0.3203125 , -0.21191406,  0.34863281, -0.2421875 ,\n",
       "           0.234375  ,  0.36523438, -0.31152344, -0.296875  ,\n",
       "          -0.2265625 , -0.13671875, -0.22851562, -0.2109375 ],\n",
       "         [ 0.796875  ,  0.28125   ,  0.17578125, -0.22460938,\n",
       "           0.40625   , -0.31445312,  0.19824219, -0.1875    ,\n",
       "           0.28125   ,  0.32226562, -0.30078125, -0.25      ,\n",
       "          -0.328125  , -0.15625   , -0.29882812, -0.14648438],\n",
       "         [ 1.078125  ,  0.29882812,  0.15625   , -0.3125    ,\n",
       "           0.3203125 , -0.25292969,  0.23242188, -0.2109375 ,\n",
       "           0.3125    ,  0.38671875, -0.34375   , -0.3359375 ,\n",
       "          -0.265625  , -0.09765625, -0.32519531, -0.1875    ],\n",
       "         [ 1.0078125 ,  0.39550781,  0.14160156, -0.36132812,\n",
       "           0.2734375 , -0.25292969,  0.24609375, -0.328125  ,\n",
       "           0.2109375 ,  0.39746094, -0.34375   , -0.3046875 ,\n",
       "          -0.2734375 , -0.14648438, -0.23730469, -0.17578125],\n",
       "         [ 1.0078125 ,  0.3515625 ,  0.20019531, -0.41015625,\n",
       "           0.296875  , -0.2734375 ,  0.2734375 , -0.1875    ,\n",
       "           0.2734375 ,  0.31152344, -0.46191406, -0.3125    ,\n",
       "          -0.2578125 , -0.11230469, -0.30761719, -0.12890625],\n",
       "         [ 0.75      ,  0.38671875,  0.1171875 , -0.44921875,\n",
       "           0.2265625 , -0.34179688,  0.1640625 , -0.359375  ,\n",
       "           0.5234375 ,  0.2578125 , -0.49414062, -0.2109375 ,\n",
       "          -0.421875  , -0.11230469, -0.37792969, -0.12890625],\n",
       "         [ 1.0546875 ,  0.37792969,  0.23925781, -0.3515625 ,\n",
       "           0.3359375 , -0.19140625,  0.25292969, -0.234375  ,\n",
       "           0.3671875 ,  0.41894531, -0.39746094, -0.2578125 ,\n",
       "          -0.2578125 , -0.13671875, -0.34277344, -0.1640625 ],\n",
       "         [ 1.1484375 ,  0.40429688,  0.18066406, -0.29296875,\n",
       "           0.3515625 , -0.17773438,  0.23242188, -0.2265625 ,\n",
       "           0.3671875 ,  0.41894531, -0.35449219, -0.3125    ,\n",
       "          -0.234375  , -0.1171875 , -0.33398438, -0.14648438],\n",
       "         [ 1.125     ,  0.38671875,  0.17089844, -0.40039062,\n",
       "           0.25      , -0.24609375,  0.21875   , -0.21875   ,\n",
       "           0.3125    ,  0.33300781, -0.35449219, -0.265625  ,\n",
       "          -0.2734375 , -0.20019531, -0.24609375, -0.16992188]]]))"
      ]
     },
     "execution_count": 77,
     "metadata": {},
     "output_type": "execute_result"
    }
   ],
   "source": [
    "means"
   ]
  },
  {
   "cell_type": "code",
   "execution_count": null,
   "id": "7eda4ef8",
   "metadata": {},
   "outputs": [],
   "source": [
    "qaoa_p_means = []\n",
    "qaoa_p_ratios = []\n",
    "qaoa_p_approx_ratios = []\n",
    "\n",
    "for p in range(1,MAX_P+1):\n",
    "    m, r, ar = start_qaoa_evaluation(max_cut, eval_num=EVAL_NUM, reps=p, maxiter=MAX_ITER, init_points=initial_points[p-1])\n",
    "    qaoa_p_means.append(m)\n",
    "    qaoa_p_ratios.append(r)\n",
    "    qaoa_p_approx_ratios.append(ar)\n",
    "\n",
    "all_results[\"QAOA\"] = [qaoa_p_means, qaoa_p_ratios, qaoa_p_approx_ratios]"
   ]
  },
  {
   "cell_type": "code",
   "execution_count": null,
   "id": "812b73d4",
   "metadata": {
    "scrolled": true
   },
   "outputs": [],
   "source": [
    "display_boxplots_results(qaoa_p_means, qaoa_p_ratios, qaoa_p_approx_ratios)"
   ]
  },
  {
   "cell_type": "markdown",
   "id": "1d3bc91c",
   "metadata": {},
   "source": [
    "## QAOA with TQA"
   ]
  },
  {
   "cell_type": "code",
   "execution_count": null,
   "id": "93cc32e4",
   "metadata": {},
   "outputs": [],
   "source": [
    "from helpers.qaoa_helper import *"
   ]
  },
  {
   "cell_type": "code",
   "execution_count": null,
   "id": "2ef8d5fd",
   "metadata": {},
   "outputs": [],
   "source": [
    "tqa_p_means = []\n",
    "tqa_p_ratios = []\n",
    "tqa_p_approx_ratios = []\n",
    "tqa_init_points = []\n",
    "\n",
    "for p in range(1,MAX_P+1):\n",
    "    tqa_initial_points = calculate_tqa(graph, p)\n",
    "    m, r, ar = start_qaoa_evaluation(max_cut, eval_num=EVAL_NUM, reps=p, init_points=tqa_initial_points, maxiter=MAX_ITER)\n",
    "    tqa_p_means.append(m)\n",
    "    tqa_p_ratios.append(r)\n",
    "    tqa_p_approx_ratios.append(ar)\n",
    "    tqa_init_points.append(tqa_initial_points)\n",
    "    \n",
    "all_results[\"TQA QAOA\"] = [tqa_p_means, tqa_p_ratios, tqa_p_approx_ratios, tqa_init_points]"
   ]
  },
  {
   "cell_type": "code",
   "execution_count": null,
   "id": "664e7895",
   "metadata": {
    "scrolled": true
   },
   "outputs": [],
   "source": [
    "display_boxplots_results(tqa_p_means, tqa_p_ratios, tqa_p_approx_ratios, prefix='TQA ')"
   ]
  },
  {
   "cell_type": "markdown",
   "id": "1c00537c",
   "metadata": {},
   "source": [
    "## WarmStart QAOA"
   ]
  },
  {
   "cell_type": "code",
   "execution_count": null,
   "id": "73775571",
   "metadata": {},
   "outputs": [],
   "source": [
    "from helpers.warmstart_helper import *"
   ]
  },
  {
   "cell_type": "code",
   "execution_count": null,
   "id": "d547ec5e",
   "metadata": {
    "scrolled": true
   },
   "outputs": [],
   "source": [
    "ws_p_means = []\n",
    "ws_p_ratios = []\n",
    "ws_p_approx_ratios = []\n",
    "ws_opt_epsilons = []\n",
    "\n",
    "for p in range(1,MAX_P+1):\n",
    "    opt_epsilon = 0.25 #optimize_epsilon(max_cut, reps=p)\n",
    "    m, r, ar = start_ws_qaoa_evaluation(max_cut, eval_num=EVAL_NUM, reps=p, epsilon=opt_epsilon, maxiter=MAX_ITER)\n",
    "    ws_p_means.append(m)\n",
    "    ws_p_ratios.append(r)\n",
    "    ws_p_approx_ratios.append(ar)\n",
    "    ws_opt_epsilons.append(opt_epsilon)\n",
    "    \n",
    "all_results[\"WarmStart QAOA\"] = [ws_p_means, ws_p_ratios, ws_p_approx_ratios, ws_opt_epsilons]"
   ]
  },
  {
   "cell_type": "code",
   "execution_count": null,
   "id": "78683bbc",
   "metadata": {
    "scrolled": true
   },
   "outputs": [],
   "source": [
    "display_boxplots_results(ws_p_means, ws_p_ratios, ws_p_approx_ratios, prefix='WarmStart ')"
   ]
  },
  {
   "cell_type": "markdown",
   "id": "bed6661b",
   "metadata": {},
   "source": [
    "### Recursive QAOA"
   ]
  },
  {
   "cell_type": "code",
   "execution_count": null,
   "id": "14e14af5",
   "metadata": {},
   "outputs": [],
   "source": [
    "from helpers.recursive_qaoa_helper import *"
   ]
  },
  {
   "cell_type": "code",
   "execution_count": null,
   "id": "5f6519a5",
   "metadata": {
    "scrolled": true
   },
   "outputs": [],
   "source": [
    "recursive_p_means = []\n",
    "recursive_p_ratios = []\n",
    "recursive_p_approx_ratios = []\n",
    "\n",
    "for p in range(1,MAX_P+1):\n",
    "    m, r, ar = start_recursive_evaluation(max_cut, eval_num=EVAL_NUM, reps=p, maxiter=MAX_ITER, init_points=initial_points[p-1])\n",
    "    recursive_p_means.append(m)\n",
    "    recursive_p_ratios.append(r)\n",
    "    recursive_p_approx_ratios.append(ar)\n",
    "\n",
    "all_results[\"Recursive QAOA\"] = [recursive_p_means, recursive_p_ratios, recursive_p_approx_ratios]"
   ]
  },
  {
   "cell_type": "code",
   "execution_count": null,
   "id": "318817ad",
   "metadata": {
    "scrolled": true
   },
   "outputs": [],
   "source": [
    "display_boxplots_results(recursive_p_means, recursive_p_ratios, recursive_p_approx_ratios, prefix='Recursive ')"
   ]
  },
  {
   "cell_type": "markdown",
   "id": "9a5ae1e0",
   "metadata": {},
   "source": [
    "### Recursive WarmStart QAOA"
   ]
  },
  {
   "cell_type": "code",
   "execution_count": null,
   "id": "3bd42b9c",
   "metadata": {},
   "outputs": [],
   "source": [
    "from helpers.recursive_ws_helper import *"
   ]
  },
  {
   "cell_type": "code",
   "execution_count": null,
   "id": "7b089ba3",
   "metadata": {
    "scrolled": true
   },
   "outputs": [],
   "source": [
    "ws_recursive_p_means = []\n",
    "ws_recursive_p_ratios = []\n",
    "ws_recursive_p_approx_ratios = []\n",
    "\n",
    "for p in range(1,MAX_P+1):\n",
    "    opt_epsilon = ws_opt_epsilons[p-1]\n",
    "    m, r, ar = start_recursive_ws_qaoa_evaluation(max_cut, eval_num=EVAL_NUM, reps=p, epsilon=opt_epsilon, maxiter=MAX_ITER)\n",
    "    ws_recursive_p_means.append(m)\n",
    "    ws_recursive_p_ratios.append(r)\n",
    "    ws_recursive_p_approx_ratios.append(ar)\n",
    "    \n",
    "all_results[\"Recursive WarmStart QAOA\"] = [ws_recursive_p_means, ws_recursive_p_ratios, ws_recursive_p_approx_ratios, ws_opt_epsilons]"
   ]
  },
  {
   "cell_type": "code",
   "execution_count": null,
   "id": "3cc4a37a",
   "metadata": {
    "scrolled": true
   },
   "outputs": [],
   "source": [
    "display_boxplots_results(ws_recursive_p_means, ws_recursive_p_ratios, ws_recursive_p_approx_ratios, prefix='Recursive WarmStart ')"
   ]
  },
  {
   "cell_type": "markdown",
   "id": "059e3535",
   "metadata": {},
   "source": [
    "## Results"
   ]
  },
  {
   "cell_type": "code",
   "execution_count": null,
   "id": "826f8562",
   "metadata": {},
   "outputs": [],
   "source": [
    "from helpers.results_helper import *"
   ]
  },
  {
   "cell_type": "code",
   "execution_count": null,
   "id": "37f6477d",
   "metadata": {},
   "outputs": [],
   "source": [
    "means_df, ratio_df, approx_ratios_df = generate_dataframes(all_results)"
   ]
  },
  {
   "cell_type": "markdown",
   "id": "6504aeea",
   "metadata": {},
   "source": [
    "### Metric Mean"
   ]
  },
  {
   "cell_type": "code",
   "execution_count": null,
   "id": "2e9f059b",
   "metadata": {},
   "outputs": [],
   "source": [
    "means_df"
   ]
  },
  {
   "cell_type": "markdown",
   "id": "25c2d89b",
   "metadata": {},
   "source": [
    "### Metric Ratio "
   ]
  },
  {
   "cell_type": "code",
   "execution_count": null,
   "id": "6303e427",
   "metadata": {},
   "outputs": [],
   "source": [
    "ratio_df"
   ]
  },
  {
   "cell_type": "markdown",
   "id": "4fc43a16",
   "metadata": {},
   "source": [
    "### Metric Approximation Ratio"
   ]
  },
  {
   "cell_type": "code",
   "execution_count": null,
   "id": "3e362965",
   "metadata": {},
   "outputs": [],
   "source": [
    "approx_ratios_df"
   ]
  },
  {
   "cell_type": "code",
   "execution_count": null,
   "id": "0c11cafa",
   "metadata": {},
   "outputs": [],
   "source": [
    "# Save results \n",
    "filename = f'comparison_{BACKEND.name}_{graph.name}_results.npy'\n",
    "with open(filename, 'wb') as f:\n",
    "    np.save(f, all_results)\n",
    "    print(f\"Saved results to {filename}\")"
   ]
  },
  {
   "cell_type": "code",
   "execution_count": null,
   "id": "bc72a608",
   "metadata": {},
   "outputs": [],
   "source": []
  }
 ],
 "metadata": {
  "kernelspec": {
   "display_name": "python3.8",
   "language": "python",
   "name": "python3.8"
  },
  "language_info": {
   "codemirror_mode": {
    "name": "ipython",
    "version": 3
   },
   "file_extension": ".py",
   "mimetype": "text/x-python",
   "name": "python",
   "nbconvert_exporter": "python",
   "pygments_lexer": "ipython3",
   "version": "3.8.6"
  }
 },
 "nbformat": 4,
 "nbformat_minor": 5
}
