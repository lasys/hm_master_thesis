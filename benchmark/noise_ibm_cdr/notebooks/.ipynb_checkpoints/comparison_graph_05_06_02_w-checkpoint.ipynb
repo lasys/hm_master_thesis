{
 "cells": [
  {
   "cell_type": "markdown",
   "id": "7059a5d5",
   "metadata": {},
   "source": [
    "# graph_05_06_02_w"
   ]
  },
  {
   "cell_type": "code",
   "execution_count": 1,
   "id": "c023c0a5",
   "metadata": {},
   "outputs": [],
   "source": [
    "import sys\n",
    "import os\n",
    "sys.path.insert(0, os.path.abspath('../'))\n",
    "sys.path.insert(0, os.path.abspath('../../'))\n",
    "sys.path.insert(0, os.path.abspath('/home/hm-tlacherm/qlm_notebooks/notebooks_1.2.1/notebooks/measurements/noise_model_cdr/master_thesis_qaoa'))"
   ]
  },
  {
   "cell_type": "code",
   "execution_count": 2,
   "id": "e68b51da",
   "metadata": {
    "scrolled": true
   },
   "outputs": [],
   "source": [
    "import qiskit\n",
    "provider = qiskit.IBMQ.load_account()\n",
    "from qiskit_optimization.algorithms import GoemansWilliamsonOptimizer\n",
    "\n",
    "from helpers import *\n",
    "from shared.QiskitMaxcut import *\n",
    "from shared.graph_helper import *"
   ]
  },
  {
   "cell_type": "code",
   "execution_count": 3,
   "id": "3b68aea8",
   "metadata": {},
   "outputs": [],
   "source": [
    "%load_ext autoreload\n",
    "%autoreload 2"
   ]
  },
  {
   "cell_type": "code",
   "execution_count": 4,
   "id": "302c7021",
   "metadata": {
    "scrolled": true
   },
   "outputs": [
    {
     "data": {
      "image/png": "[encoded data removed]",
      "text/plain": [
       "<Figure size 432x288 with 1 Axes>"
      ]
     },
     "metadata": {},
     "output_type": "display_data"
    }
   ],
   "source": [
    "# ---- Define graph and MaxCut ----\n",
    "filename = \"graph_3_reg_04_06_01.txt\"#\"graph_05_06_02_w.txt\"\n",
    "graph = load_nx_graph_from(f\"../data/{filename}\")\n",
    "opt_max_cut = -get_max_cut(graph.name)\n",
    "max_cut = Maxcut(graph, opt_max_cut)\n",
    "max_cut_qubo = max_cut.to_qubo()\n",
    "max_cut.draw()"
   ]
  },
  {
   "cell_type": "markdown",
   "id": "5ff2cfb6",
   "metadata": {},
   "source": [
    "### Goemans Williamson Solution"
   ]
  },
  {
   "cell_type": "code",
   "execution_count": 5,
   "id": "fcdc0c75",
   "metadata": {},
   "outputs": [
    {
     "name": "stdout",
     "output_type": "stream",
     "text": [
      "optimal function value: 4.0\n",
      "optimal value: [0 1 0 1]\n",
      "status: SUCCESS\n",
      "0100: value: -3.000, probability: 33.3%\n",
      "0111: value: -3.000, probability: 33.3%\n",
      "0101: value: -4.000, probability: 33.3%\n",
      "Expectation Value: -3.333333333333333\n",
      "Highest Exp.Value: -3 with 66.667 %\n",
      "Lowest Exp.Value: -4 with 33.333 %\n",
      "Highest Probability: -3 with 66.667 %\n",
      "Ratio r: 0.33333333333333304\n",
      "Approiximation ratio: 0.8333333333333333\n",
      "MSE: 0.2777777777777779\n",
      "RMSE: 0.52704627669473\n"
     ]
    }
   ],
   "source": [
    "optimizer = GoemansWilliamsonOptimizer(5)\n",
    "result = optimizer.solve(max_cut_qubo)\n",
    "mean, distribution = max_cut.analyse(result, print_output=True)\n",
    "max_cut.plot_histogram(distribution, mean)"
   ]
  },
  {
   "cell_type": "markdown",
   "id": "ceff3689",
   "metadata": {},
   "source": [
    "## Parameters"
   ]
  },
  {
   "cell_type": "code",
   "execution_count": 6,
   "id": "d1d82779",
   "metadata": {},
   "outputs": [
    {
     "name": "stdout",
     "output_type": "stream",
     "text": [
      "Backend = Simulator_Noise_Model\n",
      "EVAL_NUM = 50\n",
      "MAX_ITER = 0\n",
      "MAX_P = 4\n",
      "SHOTS = 1024\n",
      "Initial_Points = [array([], dtype=float64), array([], dtype=float64), array([], dtype=float64), array([], dtype=float64)]\n"
     ]
    }
   ],
   "source": [
    "BACKEND, EVAL_NUM, MAX_ITER, MAX_P, SHOTS, initial_points = load_configs(graph.name)\n",
    "display_configs()\n",
    "all_results = {}"
   ]
  },
  {
   "cell_type": "markdown",
   "id": "df53612d",
   "metadata": {},
   "source": [
    "## QAOA"
   ]
  },
  {
   "cell_type": "code",
   "execution_count": 7,
   "id": "ce11cc42",
   "metadata": {},
   "outputs": [],
   "source": [
    "from helpers.qaoa_helper import *"
   ]
  },
  {
   "cell_type": "code",
   "execution_count": 8,
   "id": "0bb30f98",
   "metadata": {},
   "outputs": [],
   "source": [
    "# This code is part of Qiskit.\n",
    "#\n",
    "# (C) Copyright IBM 2018, 2021.\n",
    "#\n",
    "# This code is licensed under the Apache License, Version 2.0. You may\n",
    "# obtain a copy of this license in the LICENSE.txt file in the root directory\n",
    "# of this source tree or at http://www.apache.org/licenses/LICENSE-2.0.\n",
    "#\n",
    "# Any modifications or derivative works of this code must retain this\n",
    "# copyright notice, and modified files need to carry a notice indicating\n",
    "# that they have been altered from the originals.\n",
    "\n",
    "\"\"\" The Quantum Approximate Optimization Algorithm with CDR. \"\"\"\n",
    "\n",
    "import mitiq\n",
    "from shared.cdr.mitiq_cdr import execute_with_cdr\n",
    "from mitiq.zne import mitigate_executor\n",
    "from functools import partial\n",
    "import cirq.circuits.circuit\n",
    "\n",
    "from typing import Optional, List, Callable, Union, Dict, Tuple\n",
    "import logging\n",
    "import warnings\n",
    "from time import time\n",
    "import numpy as np\n",
    "\n",
    "from qiskit import Aer\n",
    "from qiskit.circuit import QuantumCircuit, Parameter\n",
    "from qiskit.circuit.library import RealAmplitudes\n",
    "from qiskit.providers import BaseBackend\n",
    "from qiskit.providers import Backend\n",
    "from qiskit.opflow import (\n",
    "    OperatorBase,\n",
    "    ExpectationBase,\n",
    "    ExpectationFactory,\n",
    "    StateFn,\n",
    "    CircuitStateFn,\n",
    "    ListOp,\n",
    "    I,\n",
    "    CircuitSampler,\n",
    ")\n",
    "from qiskit.opflow.gradients import GradientBase\n",
    "from qiskit.utils.validation import validate_min\n",
    "from qiskit.utils.backend_utils import is_aer_provider\n",
    "from qiskit.utils.deprecation import deprecate_function\n",
    "from qiskit.utils import QuantumInstance, algorithm_globals\n",
    "from qiskit.algorithms.optimizers import Optimizer, SLSQP\n",
    "from qiskit.algorithms.variational_algorithm import VariationalAlgorithm, VariationalResult\n",
    "from qiskit.algorithms import MinimumEigensolver, MinimumEigensolverResult\n",
    "from qiskit.algorithms.exceptions import AlgorithmError\n",
    "\n",
    "from qiskit.algorithms.minimum_eigen_solvers.vqe import (\n",
    "    VQE,\n",
    "    VQEResult,\n",
    "    _validate_initial_point,\n",
    "    _validate_bounds\n",
    ")\n",
    "\n",
    "import sys\n",
    "sys.path.append(\"..\")\n",
    "sys.path.append(\"../..\")\n",
    "from shared.gem.gem_postprocess import format_counts\n",
    "\n",
    "logger = logging.getLogger(__name__)\n",
    "\n",
    "\n",
    "\n",
    "from typing import List, Callable, Optional, Union\n",
    "import numpy as np\n",
    "\n",
    "from qiskit.algorithms.optimizers import Optimizer\n",
    "from qiskit.circuit import QuantumCircuit\n",
    "from qiskit.opflow import OperatorBase, ExpectationBase\n",
    "from qiskit.opflow.gradients import GradientBase\n",
    "from qiskit.providers import Backend\n",
    "from qiskit.providers import BaseBackend\n",
    "from qiskit.utils.quantum_instance import QuantumInstance\n",
    "from qiskit.utils.validation import validate_min\n",
    "from qiskit.circuit.library.n_local.qaoa_ansatz import QAOAAnsatz\n",
    "\n",
    "from qiskit.algorithms.minimum_eigen_solvers.qaoa import QAOA\n",
    "\n",
    "class CDR_QAOA(QAOA):\n",
    "    \n",
    "    def sample_bitstrings_simulator(self, circuit, shots: int = 1024) -> Dict[int, int]:\n",
    "        # Use Aer's qasm_simulator\n",
    "        if type(circuit) == cirq.circuits.circuit.Circuit:\n",
    "            circuit = mitiq.interface.mitiq_qiskit.conversions.to_qiskit(circuit)\n",
    "            circuit.measure_all()\n",
    "        backend_sim = Aer.get_backend('qasm_simulator')\n",
    "        qi = QuantumInstance(backend=backend_sim, shots=self._quantum_instance._run_config.shots)\n",
    "        result = qi.execute(circuit)\n",
    "\n",
    "        counts = result.get_counts()\n",
    "        formatted_counts = format_counts(counts, result.results[0].header)\n",
    "        int_counts = {}\n",
    "        for key in formatted_counts.keys():\n",
    "            int_counts[int(key.replace(' ',''),2)] = formatted_counts[key]\n",
    "            \n",
    "        return int_counts\n",
    "    \n",
    "    \n",
    "    def sample_bitstrings(self, circuits, shots: int = 1024) -> Dict[int, int]:\n",
    "        \n",
    "        qiskit_circuits = []\n",
    "        for circuit in circuits:\n",
    "        \n",
    "            # convert cirq.circuit to qiskit-circuit \n",
    "            if type(circuit) == cirq.circuits.circuit.Circuit:\n",
    "                circuit = mitiq.interface.mitiq_qiskit.conversions.to_qiskit(circuit)\n",
    "            circuit.measure_all()\n",
    "            qiskit_circuits.append(circuit)\n",
    "        \n",
    "        result = self._quantum_instance.execute(qiskit_circuits)\n",
    "        circuit_int_counts = []\n",
    "        \n",
    "        for i in range(0, len(qiskit_circuits)):\n",
    "            \n",
    "            counts = result.results[i].data.counts.copy()\n",
    "            formatted_counts = format_counts(counts, result.results[i].header)\n",
    "            int_counts = {}\n",
    "            for key in formatted_counts.keys():\n",
    "                int_counts[int(key.replace(' ',''),2)] = formatted_counts[key]\n",
    "\n",
    "            circuit_int_counts.append(int_counts.copy())\n",
    "          \n",
    "        return circuit_int_counts\n",
    "    \n",
    "    \n",
    "    def get_energy_evaluation(\n",
    "        self,\n",
    "        operator: OperatorBase,\n",
    "        return_expectation: bool = False,\n",
    "    ) -> Callable[[np.ndarray], Union[float, List[float]]]:\n",
    "        \"\"\"Returns a function handle to evaluates the energy at given parameters for the ansatz.\n",
    "\n",
    "        This is the objective function to be passed to the optimizer that is used for evaluation.\n",
    "\n",
    "        Args:\n",
    "            operator: The operator whose energy to evaluate.\n",
    "            return_expectation: If True, return the ``ExpectationBase`` expectation converter used\n",
    "                in the construction of the expectation value. Useful e.g. to evaluate other\n",
    "                operators with the same expectation value converter.\n",
    "\n",
    "\n",
    "        Returns:\n",
    "            Energy of the hamiltonian of each parameter, and, optionally, the expectation\n",
    "            converter.\n",
    "\n",
    "        Raises:\n",
    "            RuntimeError: If the circuit is not parameterized (i.e. has 0 free parameters).\n",
    "\n",
    "        \"\"\"\n",
    "        num_parameters = self.ansatz.num_parameters\n",
    "        if num_parameters == 0:\n",
    "            raise RuntimeError(\"The ansatz must be parameterized, but has 0 free parameters.\")\n",
    "\n",
    "        expect_op, expectation = self.construct_expectation(\n",
    "            self._ansatz_params, operator, return_expectation=True\n",
    "        )\n",
    "        \n",
    "        # create random _initial_point if not exists \n",
    "        if self._initial_point is None:\n",
    "            self._initial_point = np.random.uniform(low=-2/np.pi, high=2/np.pi, size=(num_parameters,))\n",
    "\n",
    "        # create circuit for CDR \n",
    "        param_dict = dict(zip(self._ansatz_params, self._initial_point))  # type: Dict\n",
    "        circuit = self.ansatz.assign_parameters(param_dict)\n",
    "      \n",
    "        def energy_evaluation(parameters):\n",
    "     \n",
    "            if circuit != None:\n",
    "                \n",
    "                # Observable(s) to measure.\n",
    "                obs = np.diag(operator.to_matrix())\n",
    "                \n",
    "                means = execute_with_cdr(\n",
    "                    circuit=circuit,\n",
    "                    executor=self.sample_bitstrings,\n",
    "                    observables=[obs],\n",
    "                    simulator=self.sample_bitstrings_simulator,\n",
    "                )\n",
    "\n",
    "                return means if len(means) > 1 else means[0]\n",
    "            \n",
    "            print(\"Don't use cdr\")\n",
    "            return energy_evaluation_2(None, parameters)\n",
    "\n",
    "\n",
    "        def energy_evaluation_2(cc, parameters):\n",
    "            parameter_sets = np.reshape(parameters, (-1, num_parameters))\n",
    "            # Create dict associating each parameter with the lists of parameterization values for it\n",
    "            param_bindings = dict(zip(self._ansatz_params, parameter_sets.transpose().tolist()))       \n",
    "            start_time = time()\n",
    "            sampled_expect_op = self._circuit_sampler.convert(expect_op, params=param_bindings)\n",
    "            means = np.real(sampled_expect_op.eval())\n",
    "            if self._callback is not None:\n",
    "                variance = np.real(expectation.compute_variance(sampled_expect_op))\n",
    "                estimator_error = np.sqrt(variance / self.quantum_instance.run_config.shots)\n",
    "                for i, param_set in enumerate(parameter_sets):\n",
    "                    self._eval_count += 1\n",
    "                    self._callback(self._eval_count, param_set, means[i], estimator_error[i])\n",
    "            else:\n",
    "                self._eval_count += len(means)\n",
    "\n",
    "            end_time = time()\n",
    "            logger.info(\n",
    "                \"Energy evaluation returned %s - %.5f (ms), eval count: %s\",\n",
    "                means,\n",
    "                (end_time - start_time) * 1000,\n",
    "                self._eval_count,\n",
    "            )\n",
    "\n",
    "            return means if len(means) > 1 else means[0]\n",
    "\n",
    "        if return_expectation:\n",
    "            return energy_evaluation, expectation\n",
    "\n",
    "        return energy_evaluation"
   ]
  },
  {
   "cell_type": "code",
   "execution_count": 9,
   "id": "959e34a5",
   "metadata": {},
   "outputs": [],
   "source": [
    "from qiskit import Aer\n",
    "from qiskit.algorithms.minimum_eigen_solvers.vqe import _validate_initial_point, _validate_bounds\n",
    "def create_ansatz(qubo, params, reps):\n",
    "    \n",
    "    operator, offset = qubo.to_ising()\n",
    "    \n",
    "    qaoa = QAOA(optimizer = COBYLA(maxiter=0),\n",
    "            quantum_instance=quantum_noise_instance,\n",
    "            reps=reps,\n",
    "            initial_point=params,\n",
    "           )\n",
    "    \n",
    "    # create random _initial_point if not exists \n",
    "    if qaoa._initial_point is None:\n",
    "        qaoa._initial_point = np.random.uniform(low=-2/np.pi, high=2/np.pi, size=(num_parameters,))\n",
    "        \n",
    "    # check and validate points and ansatz\n",
    "    qaoa._check_operator_ansatz(operator)\n",
    "    initial_point = _validate_initial_point(qaoa._initial_point, qaoa.ansatz)\n",
    "    bounds = _validate_bounds(qaoa.ansatz)\n",
    "        \n",
    "    # construct circuit \n",
    "    param_dict = dict(zip(qaoa._ansatz_params, initial_point))  # type: Dict\n",
    "    circuit = qaoa.ansatz.assign_parameters(param_dict)\n",
    "    \n",
    "    expectation1 = qaoa.construct_expectation(param_dict, operator, False)\n",
    "    \n",
    "    # if expectation was never created, try to create one\n",
    "    if qaoa.expectation is None:\n",
    "        expectation = ExpectationFactory.build(\n",
    "            operator=operator,\n",
    "            backend=qaoa.quantum_instance,\n",
    "            include_custom=qaoa._include_custom,\n",
    "        )\n",
    "    else:\n",
    "        expectation = qaoa.expectation\n",
    "\n",
    "    e = expectation.convert(StateFn(operator, is_measurement=True))    \n",
    "    return circuit, expectation1, e"
   ]
  },
  {
   "cell_type": "code",
   "execution_count": 10,
   "id": "048e63e4",
   "metadata": {},
   "outputs": [],
   "source": [
    "def sample_bitstrings_simulator(circuit, shots: int = 1024) -> Dict[int, int]:\n",
    "    # Use Aer's qasm_simulator\n",
    "    if type(circuit) == cirq.circuits.circuit.Circuit:\n",
    "        circuit = mitiq.interface.mitiq_qiskit.conversions.to_qiskit(circuit)\n",
    "    circuit.remove_final_measurements()\n",
    "    circuit.measure_all()\n",
    "    backend_sim = Aer.get_backend('qasm_simulator')\n",
    "    qi = QuantumInstance(backend=backend_sim, shots=shots)\n",
    "    result = qi.execute(circuit)\n",
    "\n",
    "    counts = result.get_counts()\n",
    "    formatted_counts = format_counts(counts, result.results[0].header)\n",
    "    int_counts = {}\n",
    "    for key in formatted_counts.keys():\n",
    "        int_counts[int(key.replace(' ',''),2)] = formatted_counts[key]\n",
    "\n",
    "    return int_counts\n",
    "\n",
    "\n",
    "def sample_bitstrings(circuits, shots: int = 1024) -> Dict[int, int]:\n",
    "\n",
    "    qiskit_circuits = []\n",
    "    for circuit in circuits:\n",
    "\n",
    "        # convert cirq.circuit to qiskit-circuit \n",
    "        if type(circuit) == cirq.circuits.circuit.Circuit:\n",
    "            circuit = mitiq.interface.mitiq_qiskit.conversions.to_qiskit(circuit)\n",
    "        circuit.remove_final_measurements()\n",
    "        circuit.measure_all()\n",
    "        qiskit_circuits.append(circuit)\n",
    "\n",
    "    result = quantum_noise_instance.execute(qiskit_circuits)\n",
    "    circuit_int_counts = []\n",
    "\n",
    "    for i in range(0, len(qiskit_circuits)):\n",
    "\n",
    "        counts = result.results[i].data.counts.copy()\n",
    "        formatted_counts = format_counts(counts, result.results[i].header)\n",
    "        int_counts = {}\n",
    "        for key in formatted_counts.keys():\n",
    "            int_counts[int(key.replace(' ',''),2)] = formatted_counts[key]\n",
    "\n",
    "        circuit_int_counts.append(int_counts.copy())\n",
    "\n",
    "    return circuit_int_counts"
   ]
  },
  {
   "cell_type": "code",
   "execution_count": 11,
   "id": "595681a7",
   "metadata": {},
   "outputs": [
    {
     "ename": "NameError",
     "evalue": "name 'circuit' is not defined",
     "output_type": "error",
     "traceback": [
      "\u001b[0;31m---------------------------------------------------------------------------\u001b[0m",
      "\u001b[0;31mNameError\u001b[0m                                 Traceback (most recent call last)",
      "\u001b[0;32m/tmp/ipykernel_3591109/2973254756.py\u001b[0m in \u001b[0;36m<module>\u001b[0;34m\u001b[0m\n\u001b[0;32m----> 1\u001b[0;31m \u001b[0mdr\u001b[0m \u001b[0;34m=\u001b[0m \u001b[0msample_bitstrings_simulator\u001b[0m\u001b[0;34m(\u001b[0m\u001b[0mcircuit\u001b[0m\u001b[0;34m)\u001b[0m\u001b[0;34m\u001b[0m\u001b[0;34m\u001b[0m\u001b[0m\n\u001b[0m\u001b[1;32m      2\u001b[0m \u001b[0mdr\u001b[0m\u001b[0;34m\u001b[0m\u001b[0;34m\u001b[0m\u001b[0m\n",
      "\u001b[0;31mNameError\u001b[0m: name 'circuit' is not defined"
     ]
    }
   ],
   "source": [
    "dr = sample_bitstrings_simulator(circuit)\n",
    "dr"
   ]
  },
  {
   "cell_type": "code",
   "execution_count": 50,
   "id": "f3713938",
   "metadata": {},
   "outputs": [],
   "source": [
    "def normalize_measurements(counts) -> Dict[int, float]:\n",
    "    \"\"\"Normalizes the values of the MeasurementResult to get probabilities.\n",
    "    Args:\n",
    "        counts: Dictionary/Counter of measurements. Each key is a binary int\n",
    "            and each value is an int.\n",
    "    \"\"\"\n",
    "    total_counts = sum(counts.values())\n",
    "    return {\n",
    "        bitstring: count / total_counts for bitstring, count in counts.items()\n",
    "    }"
   ]
  },
  {
   "cell_type": "code",
   "execution_count": 51,
   "id": "b9288444",
   "metadata": {},
   "outputs": [
    {
     "data": {
      "text/plain": [
       "{2: 0.0244140625,\n",
       " 13: 0.0390625,\n",
       " 8: 0.033203125,\n",
       " 12: 0.1318359375,\n",
       " 5: 0.1220703125,\n",
       " 11: 0.0302734375,\n",
       " 0: 0.0078125,\n",
       " 3: 0.1103515625,\n",
       " 7: 0.01953125,\n",
       " 14: 0.021484375,\n",
       " 4: 0.029296875,\n",
       " 6: 0.1318359375,\n",
       " 1: 0.017578125,\n",
       " 9: 0.1533203125,\n",
       " 15: 0.009765625,\n",
       " 10: 0.1181640625}"
      ]
     },
     "execution_count": 51,
     "metadata": {},
     "output_type": "execute_result"
    }
   ],
   "source": [
    "probs = normalize_measurements(dr)\n",
    "probs"
   ]
  },
  {
   "cell_type": "code",
   "execution_count": 22,
   "id": "e2e380ae",
   "metadata": {},
   "outputs": [
    {
     "name": "stdout",
     "output_type": "stream",
     "text": [
      "[0, 1, 2, 3, 4, 5, 6, 7, 8, 9, 10, 11, 12, 13, 14, 15]\n"
     ]
    }
   ],
   "source": [
    "print(sorted(probs))"
   ]
  },
  {
   "cell_type": "code",
   "execution_count": null,
   "id": "7ebc04e6",
   "metadata": {},
   "outputs": [],
   "source": [
    "for i in range(2 ** nqubits):\n",
    "    print( obs * probs.get(i, 0.0) )"
   ]
  },
  {
   "cell_type": "code",
   "execution_count": 52,
   "id": "99704dd2",
   "metadata": {},
   "outputs": [
    {
     "data": {
      "text/plain": [
       "[(0.0234375+0j),\n",
       " 0j,\n",
       " 0j,\n",
       " (-0.1103515625+0j),\n",
       " 0j,\n",
       " (-0.1220703125+0j),\n",
       " (-0.1318359375+0j),\n",
       " 0j,\n",
       " 0j,\n",
       " (-0.1533203125+0j),\n",
       " (-0.1181640625+0j),\n",
       " 0j,\n",
       " (-0.1318359375+0j),\n",
       " 0j,\n",
       " 0j,\n",
       " (0.029296875+0j)]"
      ]
     },
     "execution_count": 52,
     "metadata": {},
     "output_type": "execute_result"
    }
   ],
   "source": [
    "#probs = normalize_measurements(state_or_measurements)\n",
    "observable_values = [\n",
    "    obs[i] * probs.get(i, 0.0) for i in range(2 ** nqubits)\n",
    "]\n",
    "observable_values"
   ]
  },
  {
   "cell_type": "code",
   "execution_count": 53,
   "id": "b06e7c05",
   "metadata": {},
   "outputs": [
    {
     "data": {
      "text/plain": [
       "16"
      ]
     },
     "execution_count": 53,
     "metadata": {},
     "output_type": "execute_result"
    }
   ],
   "source": [
    "len(np.real(observable_values))"
   ]
  },
  {
   "cell_type": "code",
   "execution_count": 54,
   "id": "44990ad9",
   "metadata": {},
   "outputs": [
    {
     "data": {
      "text/plain": [
       "-0.71484375"
      ]
     },
     "execution_count": 54,
     "metadata": {},
     "output_type": "execute_result"
    }
   ],
   "source": [
    "sum(np.real(observable_values))"
   ]
  },
  {
   "cell_type": "code",
   "execution_count": 29,
   "id": "572cf251",
   "metadata": {},
   "outputs": [
    {
     "ename": "NameError",
     "evalue": "name 'params' is not defined",
     "output_type": "error",
     "traceback": [
      "\u001b[0;31m---------------------------------------------------------------------------\u001b[0m",
      "\u001b[0;31mNameError\u001b[0m                                 Traceback (most recent call last)",
      "\u001b[0;32m/tmp/ipykernel_3569672/2196173826.py\u001b[0m in \u001b[0;36m<module>\u001b[0;34m\u001b[0m\n\u001b[0;32m----> 1\u001b[0;31m \u001b[0msum\u001b[0m\u001b[0;34m(\u001b[0m\u001b[0ma\u001b[0m \u001b[0;34m*\u001b[0m \u001b[0mx\u001b[0m \u001b[0;32mfor\u001b[0m \u001b[0ma\u001b[0m\u001b[0;34m,\u001b[0m \u001b[0mx\u001b[0m \u001b[0;32min\u001b[0m \u001b[0mzip\u001b[0m\u001b[0;34m(\u001b[0m\u001b[0mparams\u001b[0m\u001b[0;34m,\u001b[0m \u001b[0mx_data\u001b[0m\u001b[0;34m)\u001b[0m\u001b[0;34m)\u001b[0m \u001b[0;34m+\u001b[0m \u001b[0mparams\u001b[0m\u001b[0;34m[\u001b[0m\u001b[0;34m-\u001b[0m\u001b[0;36m1\u001b[0m\u001b[0;34m]\u001b[0m\u001b[0;34m\u001b[0m\u001b[0;34m\u001b[0m\u001b[0m\n\u001b[0m",
      "\u001b[0;31mNameError\u001b[0m: name 'params' is not defined"
     ]
    }
   ],
   "source": [
    "sum(a * x for a, x in zip(params, x_data)) + params[-1]"
   ]
  },
  {
   "cell_type": "code",
   "execution_count": null,
   "id": "f40dbf1c",
   "metadata": {},
   "outputs": [],
   "source": [
    "sum(np.real(observable_values))"
   ]
  },
  {
   "cell_type": "code",
   "execution_count": 11,
   "id": "b381a3ab",
   "metadata": {},
   "outputs": [],
   "source": [
    "from helpers.quantum_instance_helper import _create_simulator_with_noise_quantum_instance\n",
    "quantum_noise_instance = _create_simulator_with_noise_quantum_instance()"
   ]
  },
  {
   "cell_type": "code",
   "execution_count": 12,
   "id": "fe63905b",
   "metadata": {},
   "outputs": [
    {
     "data": {
      "text/plain": [
       "array([ 3.+0.j,  0.+0.j,  0.+0.j, -1.+0.j,  0.+0.j, -1.+0.j, -1.+0.j,\n",
       "        0.+0.j,  0.+0.j, -1.+0.j, -1.+0.j,  0.+0.j, -1.+0.j,  0.+0.j,\n",
       "        0.+0.j,  3.+0.j])"
      ]
     },
     "execution_count": 12,
     "metadata": {},
     "output_type": "execute_result"
    }
   ],
   "source": [
    "operator, offset = max_cut_qubo.to_ising()\n",
    "# Observable(s) to measure.\n",
    "obs = np.diag(operator.to_matrix())\n",
    "# Observable(s) to measure.\n",
    "# Observable(s) to measure.\n",
    "#z = np.diag([1, -1])\n",
    "#obs = np.diag(np.kron(z, z))\n",
    "obs"
   ]
  },
  {
   "cell_type": "code",
   "execution_count": 13,
   "id": "92a28e9c",
   "metadata": {},
   "outputs": [
    {
     "data": {
      "text/plain": [
       "4"
      ]
     },
     "execution_count": 13,
     "metadata": {},
     "output_type": "execute_result"
    }
   ],
   "source": [
    "nqubits = int(np.log2(len(obs)))\n",
    "nqubits"
   ]
  },
  {
   "cell_type": "code",
   "execution_count": 14,
   "id": "1dc6d9e0",
   "metadata": {},
   "outputs": [],
   "source": [
    "circuit, exp, e = create_ansatz(max_cut_qubo, [-0.54695145,  3.42723337], 1)\n",
    "#circuit.measure_all()"
   ]
  },
  {
   "cell_type": "code",
   "execution_count": 16,
   "id": "0c60c995",
   "metadata": {},
   "outputs": [
    {
     "data": {
      "text/plain": [
       "array([ 3.+0.j,  0.+0.j,  0.+0.j, -1.+0.j,  0.+0.j, -1.+0.j, -1.+0.j,\n",
       "        0.+0.j,  0.+0.j, -1.+0.j, -1.+0.j,  0.+0.j, -1.+0.j,  0.+0.j,\n",
       "        0.+0.j,  3.+0.j])"
      ]
     },
     "execution_count": 16,
     "metadata": {},
     "output_type": "execute_result"
    }
   ],
   "source": [
    "np.diag(exp[0].to_density_matrix())"
   ]
  },
  {
   "cell_type": "code",
   "execution_count": 17,
   "id": "a5ad031f",
   "metadata": {},
   "outputs": [
    {
     "data": {
      "text/plain": [
       "array([ 3.+0.j,  0.+0.j,  0.+0.j, -1.+0.j,  0.+0.j, -1.+0.j, -1.+0.j,\n",
       "        0.+0.j,  0.+0.j, -1.+0.j, -1.+0.j,  0.+0.j, -1.+0.j,  0.+0.j,\n",
       "        0.+0.j,  3.+0.j])"
      ]
     },
     "execution_count": 17,
     "metadata": {},
     "output_type": "execute_result"
    }
   ],
   "source": [
    "e.to_matrix()[0]"
   ]
  },
  {
   "cell_type": "code",
   "execution_count": 17,
   "id": "b3561e89",
   "metadata": {},
   "outputs": [],
   "source": [
    "from dataclasses import dataclass\n",
    "@dataclass\n",
    "class SolutionSample:\n",
    "    \"\"\"A sample of an optimization solution\n",
    "    Attributes:\n",
    "        x: the values of variables\n",
    "        fval: the objective function value\n",
    "        probability: the probability of this sample\n",
    "        status: the status of this sample\n",
    "    \"\"\"\n",
    "\n",
    "    x: np.ndarray\n",
    "    fval: float\n",
    "    probability: float\n",
    "    status: 1"
   ]
  },
  {
   "cell_type": "code",
   "execution_count": 18,
   "id": "cbec0054",
   "metadata": {},
   "outputs": [],
   "source": [
    "def generate_solution(bitstr, qubo, probability):\n",
    "    x = np.fromiter(list(bitstr[::-1]), dtype=int)\n",
    "    fval = qubo.objective.evaluate(x)\n",
    "    return SolutionSample(\n",
    "        x=x,\n",
    "        fval=fval,\n",
    "        probability=probability,\n",
    "        status=0,\n",
    "    )"
   ]
  },
  {
   "cell_type": "code",
   "execution_count": 22,
   "id": "178af88a",
   "metadata": {},
   "outputs": [
    {
     "name": "stdout",
     "output_type": "stream",
     "text": [
      "[0.04215074 0.03874539 0.03874539 0.03108334 0.03874539 0.03227521\n",
      " 0.03375086 0.03874539 0.03874539 0.03289953 0.03289953 0.03874539\n",
      " 0.03341033 0.03874539 0.03874539 0.04215074]\n"
     ]
    }
   ],
   "source": [
    "solutions = []\n",
    "eigenvector = np.array(means[0]).flatten()#np.real(observable_values) #e.to_matrix()[0]\n",
    "print(eigenvector)\n",
    "num_qubits = int(np.log2(eigenvector.size))\n",
    "probabilities = np.abs(eigenvector * eigenvector.conj())\n",
    "\n",
    "# iterate over all states and their sampling probabilities\n",
    "for i, sampling_probability in enumerate(probabilities):\n",
    "    # add the i-th state if the sampling probability exceeds the threshold\n",
    "    if sampling_probability >= 1e-9:\n",
    "        bitstr = f\"{i:b}\".rjust(num_qubits, \"0\")\n",
    "        solutions.append(generate_solution(bitstr, max_cut_qubo, sampling_probability))"
   ]
  },
  {
   "cell_type": "code",
   "execution_count": 23,
   "id": "4c4eb097",
   "metadata": {},
   "outputs": [
    {
     "data": {
      "text/plain": [
       "[SolutionSample(x=array([0, 0, 0, 0]), fval=0.0, probability=0.0017766852006223864, status=0),\n",
       " SolutionSample(x=array([1, 0, 0, 0]), fval=-3.0, probability=0.0015012050489508588, status=0),\n",
       " SolutionSample(x=array([0, 1, 0, 0]), fval=-3.0, probability=0.0015012050489508588, status=0),\n",
       " SolutionSample(x=array([1, 1, 0, 0]), fval=-4.0, probability=0.0009661737604583137, status=0),\n",
       " SolutionSample(x=array([0, 0, 1, 0]), fval=-3.0, probability=0.0015012050489508588, status=0),\n",
       " SolutionSample(x=array([1, 0, 1, 0]), fval=-4.0, probability=0.001041689209425054, status=0),\n",
       " SolutionSample(x=array([0, 1, 1, 0]), fval=-4.0, probability=0.0011391208782848702, status=0),\n",
       " SolutionSample(x=array([1, 1, 1, 0]), fval=-3.0, probability=0.0015012050489508588, status=0),\n",
       " SolutionSample(x=array([0, 0, 0, 1]), fval=-3.0, probability=0.0015012050489508588, status=0),\n",
       " SolutionSample(x=array([1, 0, 0, 1]), fval=-4.0, probability=0.001082378796062069, status=0),\n",
       " SolutionSample(x=array([0, 1, 0, 1]), fval=-4.0, probability=0.001082378796062069, status=0),\n",
       " SolutionSample(x=array([1, 1, 0, 1]), fval=-3.0, probability=0.0015012050489508588, status=0),\n",
       " SolutionSample(x=array([0, 0, 1, 1]), fval=-4.0, probability=0.00111625009862084, status=0),\n",
       " SolutionSample(x=array([1, 0, 1, 1]), fval=-3.0, probability=0.0015012050489508588, status=0),\n",
       " SolutionSample(x=array([0, 1, 1, 1]), fval=-3.0, probability=0.0015012050489508588, status=0),\n",
       " SolutionSample(x=array([1, 1, 1, 1]), fval=0.0, probability=0.0017766852006223864, status=0)]"
      ]
     },
     "execution_count": 23,
     "metadata": {},
     "output_type": "execute_result"
    }
   ],
   "source": [
    "solutions"
   ]
  },
  {
   "cell_type": "code",
   "execution_count": 24,
   "id": "925db67b",
   "metadata": {},
   "outputs": [
    {
     "data": {
      "text/plain": [
       "0.02199100233176486"
      ]
     },
     "execution_count": 24,
     "metadata": {},
     "output_type": "execute_result"
    }
   ],
   "source": [
    "ss = 0\n",
    "for s in solutions:\n",
    "    ss += s.probability\n",
    "ss"
   ]
  },
  {
   "cell_type": "code",
   "execution_count": null,
   "id": "5ce04735",
   "metadata": {},
   "outputs": [],
   "source": [
    "from qiskit.quantum_info import Clifford\n",
    "cliff = Clifford(circuit)"
   ]
  },
  {
   "cell_type": "code",
   "execution_count": null,
   "id": "9e552642",
   "metadata": {},
   "outputs": [],
   "source": [
    "mitiq.cdr.clifford_training_data.count_non_cliffords(circuit)"
   ]
  },
  {
   "cell_type": "code",
   "execution_count": 15,
   "id": "18c3b9d4",
   "metadata": {
    "scrolled": false
   },
   "outputs": [
    {
     "name": "stdout",
     "output_type": "stream",
     "text": [
      "get circuit_data:\n",
      "{2: 46, 8: 65, 14: 30, 11: 32, 13: 42, 5: 114, 12: 94, 9: 103, 0: 20, 7: 31, 3: 135, 15: 20, 10: 103, 6: 88, 4: 42, 1: 59}\n",
      "[ 0.05859375  0.          0.         -0.13183594  0.         -0.11132812\n",
      " -0.0859375   0.          0.         -0.10058594 -0.10058594  0.\n",
      " -0.09179688  0.          0.          0.05859375]\n",
      "-0.5048828125\n",
      "{2: 78, 13: 64, 14: 47, 15: 54, 10: 60, 8: 84, 12: 56, 5: 71, 1: 69, 9: 76, 4: 57, 6: 55, 0: 79, 3: 58, 7: 63, 11: 53}\n",
      "[ 0.23144531  0.          0.         -0.05664062  0.         -0.06933594\n",
      " -0.05371094  0.          0.         -0.07421875 -0.05859375  0.\n",
      " -0.0546875   0.          0.          0.15820312]\n",
      "0.0224609375\n",
      "get noisy_expectation_values:12\n",
      "{2: 46, 8: 65, 14: 30, 11: 32, 13: 42, 5: 114, 12: 94, 9: 103, 0: 20, 7: 31, 3: 135, 15: 20, 10: 103, 6: 88, 4: 42, 1: 59}\n",
      "[ 0.05859375  0.          0.         -0.13183594  0.         -0.11132812\n",
      " -0.0859375   0.          0.         -0.10058594 -0.10058594  0.\n",
      " -0.09179688  0.          0.          0.05859375]\n",
      "-0.5048828125\n",
      "{2: 78, 13: 64, 14: 47, 15: 54, 10: 60, 8: 84, 12: 56, 5: 71, 1: 69, 9: 76, 4: 57, 6: 55, 0: 79, 3: 58, 7: 63, 11: 53}\n",
      "[ 0.23144531  0.          0.         -0.05664062  0.         -0.06933594\n",
      " -0.05371094  0.          0.         -0.07421875 -0.05859375  0.\n",
      " -0.0546875   0.          0.          0.15820312]\n",
      "0.0224609375\n",
      "noisy_expectation_values:123\n",
      "[array([ 0.05859375,  0.        ,  0.        , -0.13183594,  0.        ,\n",
      "       -0.11132812, -0.0859375 ,  0.        ,  0.        , -0.10058594,\n",
      "       -0.10058594,  0.        , -0.09179688,  0.        ,  0.        ,\n",
      "        0.05859375]), array([ 0.23144531,  0.        ,  0.        , -0.05664062,  0.        ,\n",
      "       -0.06933594, -0.05371094,  0.        ,  0.        , -0.07421875,\n",
      "       -0.05859375,  0.        , -0.0546875 ,  0.        ,  0.        ,\n",
      "        0.15820312])]\n",
      "get ideal_expectation_values:123\n",
      "[{1: 21, 14: 28, 8: 22, 9: 101, 2: 29, 13: 29, 15: 14, 10: 144, 11: 32, 4: 22, 6: 140, 12: 124, 5: 134, 0: 21, 7: 19, 3: 144}]\n",
      "{1: 21, 14: 28, 8: 22, 9: 101, 2: 29, 13: 29, 15: 14, 10: 144, 11: 32, 4: 22, 6: 140, 12: 124, 5: 134, 0: 21, 7: 19, 3: 144}\n",
      "[ 0.06152344  0.          0.         -0.140625    0.         -0.13085938\n",
      " -0.13671875  0.          0.         -0.09863281 -0.140625    0.\n",
      " -0.12109375  0.          0.          0.04101562]\n",
      "-0.666015625\n",
      "ideal_expectation_values:1234\n",
      "[array([ 0.06152344,  0.        ,  0.        , -0.140625  ,  0.        ,\n",
      "       -0.13085938, -0.13671875,  0.        ,  0.        , -0.09863281,\n",
      "       -0.140625  ,  0.        , -0.12109375,  0.        ,  0.        ,\n",
      "        0.04101562])]\n",
      "[0.05859375]\n",
      "[0.0615234375]\n",
      "fp:\n",
      "[ 0.05811808  0.          0.         -0.16197975  0.         -0.14725275\n",
      " -0.14957265  0.          0.         -0.10966341 -0.15635179  0.\n",
      " -0.13333333  0.          0.          0.03874539]\n",
      "circuit data\n",
      "[[ 0.05859375  0.          0.         -0.13183594  0.         -0.11132812\n",
      "  -0.0859375   0.          0.         -0.10058594 -0.10058594  0.\n",
      "  -0.09179688  0.          0.          0.05859375]\n",
      " [ 0.23144531  0.          0.         -0.05664062  0.         -0.06933594\n",
      "  -0.05371094  0.          0.         -0.07421875 -0.05859375  0.\n",
      "  -0.0546875   0.          0.          0.15820312]]\n"
     ]
    }
   ],
   "source": [
    "means = execute_with_cdr(\n",
    "    circuit=circuit,\n",
    "    executor=sample_bitstrings,\n",
    "    observables=[obs],\n",
    "    simulator=sample_bitstrings_simulator,\n",
    "    num_training_circuits=1,\n",
    "    num_fit_parameters=1,\n",
    "    full_output=True\n",
    ")"
   ]
  },
  {
   "cell_type": "code",
   "execution_count": 16,
   "id": "bcedc897",
   "metadata": {},
   "outputs": [
    {
     "data": {
      "text/plain": [
       "([array([0.04215074, 0.03874539, 0.03874539, 0.03108334, 0.03874539,\n",
       "         0.03227521, 0.03375086, 0.03874539, 0.03874539, 0.03289953,\n",
       "         0.03289953, 0.03874539, 0.03341033, 0.03874539, 0.03874539,\n",
       "         0.04215074])],\n",
       " array([[[ 0.05859375,  0.        ,  0.        , -0.13183594,\n",
       "           0.        , -0.11132812, -0.0859375 ,  0.        ,\n",
       "           0.        , -0.10058594, -0.10058594,  0.        ,\n",
       "          -0.09179688,  0.        ,  0.        ,  0.05859375],\n",
       "         [ 0.23144531,  0.        ,  0.        , -0.05664062,\n",
       "           0.        , -0.06933594, -0.05371094,  0.        ,\n",
       "           0.        , -0.07421875, -0.05859375,  0.        ,\n",
       "          -0.0546875 ,  0.        ,  0.        ,  0.15820312]]]))"
      ]
     },
     "execution_count": 16,
     "metadata": {},
     "output_type": "execute_result"
    }
   ],
   "source": [
    "means"
   ]
  },
  {
   "cell_type": "code",
   "execution_count": null,
   "id": "7eda4ef8",
   "metadata": {},
   "outputs": [],
   "source": [
    "qaoa_p_means = []\n",
    "qaoa_p_ratios = []\n",
    "qaoa_p_approx_ratios = []\n",
    "\n",
    "for p in range(1,MAX_P+1):\n",
    "    m, r, ar = start_qaoa_evaluation(max_cut, eval_num=EVAL_NUM, reps=p, maxiter=MAX_ITER, init_points=initial_points[p-1])\n",
    "    qaoa_p_means.append(m)\n",
    "    qaoa_p_ratios.append(r)\n",
    "    qaoa_p_approx_ratios.append(ar)\n",
    "\n",
    "all_results[\"QAOA\"] = [qaoa_p_means, qaoa_p_ratios, qaoa_p_approx_ratios]"
   ]
  },
  {
   "cell_type": "code",
   "execution_count": null,
   "id": "812b73d4",
   "metadata": {
    "scrolled": true
   },
   "outputs": [],
   "source": [
    "display_boxplots_results(qaoa_p_means, qaoa_p_ratios, qaoa_p_approx_ratios)"
   ]
  },
  {
   "cell_type": "markdown",
   "id": "1d3bc91c",
   "metadata": {},
   "source": [
    "## QAOA with TQA"
   ]
  },
  {
   "cell_type": "code",
   "execution_count": null,
   "id": "93cc32e4",
   "metadata": {},
   "outputs": [],
   "source": [
    "from helpers.qaoa_helper import *"
   ]
  },
  {
   "cell_type": "code",
   "execution_count": null,
   "id": "2ef8d5fd",
   "metadata": {},
   "outputs": [],
   "source": [
    "tqa_p_means = []\n",
    "tqa_p_ratios = []\n",
    "tqa_p_approx_ratios = []\n",
    "tqa_init_points = []\n",
    "\n",
    "for p in range(1,MAX_P+1):\n",
    "    tqa_initial_points = calculate_tqa(graph, p)\n",
    "    m, r, ar = start_qaoa_evaluation(max_cut, eval_num=EVAL_NUM, reps=p, init_points=tqa_initial_points, maxiter=MAX_ITER)\n",
    "    tqa_p_means.append(m)\n",
    "    tqa_p_ratios.append(r)\n",
    "    tqa_p_approx_ratios.append(ar)\n",
    "    tqa_init_points.append(tqa_initial_points)\n",
    "    \n",
    "all_results[\"TQA QAOA\"] = [tqa_p_means, tqa_p_ratios, tqa_p_approx_ratios, tqa_init_points]"
   ]
  },
  {
   "cell_type": "code",
   "execution_count": null,
   "id": "664e7895",
   "metadata": {
    "scrolled": true
   },
   "outputs": [],
   "source": [
    "display_boxplots_results(tqa_p_means, tqa_p_ratios, tqa_p_approx_ratios, prefix='TQA ')"
   ]
  },
  {
   "cell_type": "markdown",
   "id": "1c00537c",
   "metadata": {},
   "source": [
    "## WarmStart QAOA"
   ]
  },
  {
   "cell_type": "code",
   "execution_count": null,
   "id": "73775571",
   "metadata": {},
   "outputs": [],
   "source": [
    "from helpers.warmstart_helper import *"
   ]
  },
  {
   "cell_type": "code",
   "execution_count": null,
   "id": "d547ec5e",
   "metadata": {
    "scrolled": true
   },
   "outputs": [],
   "source": [
    "ws_p_means = []\n",
    "ws_p_ratios = []\n",
    "ws_p_approx_ratios = []\n",
    "ws_opt_epsilons = []\n",
    "\n",
    "for p in range(1,MAX_P+1):\n",
    "    opt_epsilon = 0.25 #optimize_epsilon(max_cut, reps=p)\n",
    "    m, r, ar = start_ws_qaoa_evaluation(max_cut, eval_num=EVAL_NUM, reps=p, epsilon=opt_epsilon, maxiter=MAX_ITER)\n",
    "    ws_p_means.append(m)\n",
    "    ws_p_ratios.append(r)\n",
    "    ws_p_approx_ratios.append(ar)\n",
    "    ws_opt_epsilons.append(opt_epsilon)\n",
    "    \n",
    "all_results[\"WarmStart QAOA\"] = [ws_p_means, ws_p_ratios, ws_p_approx_ratios, ws_opt_epsilons]"
   ]
  },
  {
   "cell_type": "code",
   "execution_count": null,
   "id": "78683bbc",
   "metadata": {
    "scrolled": true
   },
   "outputs": [],
   "source": [
    "display_boxplots_results(ws_p_means, ws_p_ratios, ws_p_approx_ratios, prefix='WarmStart ')"
   ]
  },
  {
   "cell_type": "markdown",
   "id": "bed6661b",
   "metadata": {},
   "source": [
    "### Recursive QAOA"
   ]
  },
  {
   "cell_type": "code",
   "execution_count": null,
   "id": "14e14af5",
   "metadata": {},
   "outputs": [],
   "source": [
    "from helpers.recursive_qaoa_helper import *"
   ]
  },
  {
   "cell_type": "code",
   "execution_count": null,
   "id": "5f6519a5",
   "metadata": {
    "scrolled": true
   },
   "outputs": [],
   "source": [
    "recursive_p_means = []\n",
    "recursive_p_ratios = []\n",
    "recursive_p_approx_ratios = []\n",
    "\n",
    "for p in range(1,MAX_P+1):\n",
    "    m, r, ar = start_recursive_evaluation(max_cut, eval_num=EVAL_NUM, reps=p, maxiter=MAX_ITER, init_points=initial_points[p-1])\n",
    "    recursive_p_means.append(m)\n",
    "    recursive_p_ratios.append(r)\n",
    "    recursive_p_approx_ratios.append(ar)\n",
    "\n",
    "all_results[\"Recursive QAOA\"] = [recursive_p_means, recursive_p_ratios, recursive_p_approx_ratios]"
   ]
  },
  {
   "cell_type": "code",
   "execution_count": null,
   "id": "318817ad",
   "metadata": {
    "scrolled": true
   },
   "outputs": [],
   "source": [
    "display_boxplots_results(recursive_p_means, recursive_p_ratios, recursive_p_approx_ratios, prefix='Recursive ')"
   ]
  },
  {
   "cell_type": "markdown",
   "id": "9a5ae1e0",
   "metadata": {},
   "source": [
    "### Recursive WarmStart QAOA"
   ]
  },
  {
   "cell_type": "code",
   "execution_count": null,
   "id": "3bd42b9c",
   "metadata": {},
   "outputs": [],
   "source": [
    "from helpers.recursive_ws_helper import *"
   ]
  },
  {
   "cell_type": "code",
   "execution_count": null,
   "id": "7b089ba3",
   "metadata": {
    "scrolled": true
   },
   "outputs": [],
   "source": [
    "ws_recursive_p_means = []\n",
    "ws_recursive_p_ratios = []\n",
    "ws_recursive_p_approx_ratios = []\n",
    "\n",
    "for p in range(1,MAX_P+1):\n",
    "    opt_epsilon = ws_opt_epsilons[p-1]\n",
    "    m, r, ar = start_recursive_ws_qaoa_evaluation(max_cut, eval_num=EVAL_NUM, reps=p, epsilon=opt_epsilon, maxiter=MAX_ITER)\n",
    "    ws_recursive_p_means.append(m)\n",
    "    ws_recursive_p_ratios.append(r)\n",
    "    ws_recursive_p_approx_ratios.append(ar)\n",
    "    \n",
    "all_results[\"Recursive WarmStart QAOA\"] = [ws_recursive_p_means, ws_recursive_p_ratios, ws_recursive_p_approx_ratios, ws_opt_epsilons]"
   ]
  },
  {
   "cell_type": "code",
   "execution_count": null,
   "id": "3cc4a37a",
   "metadata": {
    "scrolled": true
   },
   "outputs": [],
   "source": [
    "display_boxplots_results(ws_recursive_p_means, ws_recursive_p_ratios, ws_recursive_p_approx_ratios, prefix='Recursive WarmStart ')"
   ]
  },
  {
   "cell_type": "markdown",
   "id": "059e3535",
   "metadata": {},
   "source": [
    "## Results"
   ]
  },
  {
   "cell_type": "code",
   "execution_count": null,
   "id": "826f8562",
   "metadata": {},
   "outputs": [],
   "source": [
    "from helpers.results_helper import *"
   ]
  },
  {
   "cell_type": "code",
   "execution_count": null,
   "id": "37f6477d",
   "metadata": {},
   "outputs": [],
   "source": [
    "means_df, ratio_df, approx_ratios_df = generate_dataframes(all_results)"
   ]
  },
  {
   "cell_type": "markdown",
   "id": "6504aeea",
   "metadata": {},
   "source": [
    "### Metric Mean"
   ]
  },
  {
   "cell_type": "code",
   "execution_count": null,
   "id": "2e9f059b",
   "metadata": {},
   "outputs": [],
   "source": [
    "means_df"
   ]
  },
  {
   "cell_type": "markdown",
   "id": "25c2d89b",
   "metadata": {},
   "source": [
    "### Metric Ratio "
   ]
  },
  {
   "cell_type": "code",
   "execution_count": null,
   "id": "6303e427",
   "metadata": {},
   "outputs": [],
   "source": [
    "ratio_df"
   ]
  },
  {
   "cell_type": "markdown",
   "id": "4fc43a16",
   "metadata": {},
   "source": [
    "### Metric Approximation Ratio"
   ]
  },
  {
   "cell_type": "code",
   "execution_count": null,
   "id": "3e362965",
   "metadata": {},
   "outputs": [],
   "source": [
    "approx_ratios_df"
   ]
  },
  {
   "cell_type": "code",
   "execution_count": null,
   "id": "0c11cafa",
   "metadata": {},
   "outputs": [],
   "source": [
    "# Save results \n",
    "filename = f'comparison_{BACKEND.name}_{graph.name}_results.npy'\n",
    "with open(filename, 'wb') as f:\n",
    "    np.save(f, all_results)\n",
    "    print(f\"Saved results to {filename}\")"
   ]
  },
  {
   "cell_type": "code",
   "execution_count": null,
   "id": "bc72a608",
   "metadata": {},
   "outputs": [],
   "source": []
  }
 ],
 "metadata": {
  "kernelspec": {
   "display_name": "python3.8",
   "language": "python",
   "name": "python3.8"
  },
  "language_info": {
   "codemirror_mode": {
    "name": "ipython",
    "version": 3
   },
   "file_extension": ".py",
   "mimetype": "text/x-python",
   "name": "python",
   "nbconvert_exporter": "python",
   "pygments_lexer": "ipython3",
   "version": "3.8.6"
  }
 },
 "nbformat": 4,
 "nbformat_minor": 5
}
