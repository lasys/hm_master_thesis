{
 "cells": [
  {
   "cell_type": "code",
   "execution_count": 1,
   "outputs": [],
   "source": [
    "import sys\n",
    "import os\n",
    "sys.path.insert(0, os.path.abspath('../'))"
   ],
   "metadata": {
    "collapsed": false,
    "pycharm": {
     "name": "#%%\n"
    }
   }
  },
  {
   "cell_type": "code",
   "execution_count": 6,
   "outputs": [],
   "source": [
    "from classical.local_solver import calculate_local_solver_solution\n",
    "from shared.graph_helper import load_graphs, load_nx_graph_from\n",
    "\n",
    "DIVIDER_LENGTH = 115"
   ],
   "metadata": {
    "collapsed": false,
    "pycharm": {
     "name": "#%%\n"
    }
   }
  },
  {
   "cell_type": "code",
   "execution_count": 3,
   "outputs": [],
   "source": [
    "def run_classical():\n",
    "    all_graphs = load_graphs(specific_nodes=[16])\n",
    "\n",
    "    for directory, graph_in_dir in all_graphs:\n",
    "        print('-' * DIVIDER_LENGTH)\n",
    "        print(directory.split('/')[-1])\n",
    "        for graph in graph_in_dir:\n",
    "            cut_weight, bitstring = calculate_local_solver_solution(graph.nodes(), graph.edges.data(\"weight\", default=1))\n",
    "            print('')\n",
    "            print(\"{}\".format(graph.name))\n",
    "            print(\"MaxCut: {}\".format(cut_weight))\n",
    "            print(\"Bitstring: {}\".format(bitstring))"
   ],
   "metadata": {
    "collapsed": false,
    "pycharm": {
     "name": "#%%\n"
    }
   }
  },
  {
   "cell_type": "code",
   "execution_count": 4,
   "outputs": [
    {
     "name": "stdout",
     "output_type": "stream",
     "text": [
      "-------------------------------------------------------------------------------------------------------------------\n",
      "04_nodes\n",
      "-------------------------------------------------------------------------------------------------------------------\n",
      "05_nodes\n",
      "-------------------------------------------------------------------------------------------------------------------\n",
      "06_nodes\n",
      "-------------------------------------------------------------------------------------------------------------------\n",
      "07_nodes\n",
      "-------------------------------------------------------------------------------------------------------------------\n",
      "08_nodes\n",
      "-------------------------------------------------------------------------------------------------------------------\n",
      "09_nodes\n",
      "-------------------------------------------------------------------------------------------------------------------\n",
      "10_nodes\n",
      "-------------------------------------------------------------------------------------------------------------------\n",
      "11_nodes\n",
      "-------------------------------------------------------------------------------------------------------------------\n",
      "12_nodes\n",
      "-------------------------------------------------------------------------------------------------------------------\n",
      "13_nodes\n",
      "-------------------------------------------------------------------------------------------------------------------\n",
      "14_nodes\n",
      "-------------------------------------------------------------------------------------------------------------------\n",
      "15_nodes\n",
      "-------------------------------------------------------------------------------------------------------------------\n",
      "16_nodes\n",
      "\n",
      "graph_16_33_01\n",
      "MaxCut: 33.0\n",
      "Bitstring: [1, 1, 1, 1, 0, 0, 0, 0, 0, 0, 0, 0, 1, 1, 1, 1]\n",
      "\n",
      "graph_16_33_01_w\n",
      "MaxCut: 177.0\n",
      "Bitstring: [0, 0, 0, 0, 1, 1, 1, 1, 1, 1, 1, 1, 0, 0, 0, 0]\n",
      "\n",
      "graph_16_64_01\n",
      "MaxCut: 46.0\n",
      "Bitstring: [0, 0, 0, 0, 1, 1, 1, 0, 1, 1, 1, 0, 1, 0, 0, 1]\n",
      "\n",
      "graph_16_64_01_w\n",
      "MaxCut: 273.0\n",
      "Bitstring: [0, 0, 0, 1, 0, 1, 1, 0, 1, 1, 1, 0, 1, 0, 0, 1]\n",
      "\n",
      "graph_16_65_01\n",
      "MaxCut: 44.0\n",
      "Bitstring: [1, 0, 0, 1, 0, 1, 0, 0, 1, 1, 1, 0, 0, 0, 1, 1]\n",
      "\n",
      "graph_16_65_01_w\n",
      "MaxCut: 271.0\n",
      "Bitstring: [1, 0, 0, 1, 1, 1, 1, 1, 1, 0, 0, 0, 0, 0, 0, 1]\n",
      "-------------------------------------------------------------------------------------------------------------------\n",
      "17_nodes\n",
      "-------------------------------------------------------------------------------------------------------------------\n",
      "18_nodes\n",
      "-------------------------------------------------------------------------------------------------------------------\n",
      "19_nodes\n",
      "-------------------------------------------------------------------------------------------------------------------\n",
      "20_nodes\n",
      "-------------------------------------------------------------------------------------------------------------------\n",
      "21_nodes\n",
      "-------------------------------------------------------------------------------------------------------------------\n",
      "22_nodes\n",
      "-------------------------------------------------------------------------------------------------------------------\n",
      "23_nodes\n",
      "-------------------------------------------------------------------------------------------------------------------\n",
      "24_nodes\n",
      "-------------------------------------------------------------------------------------------------------------------\n",
      "25_nodes\n",
      "-------------------------------------------------------------------------------------------------------------------\n",
      "26_nodes\n",
      "-------------------------------------------------------------------------------------------------------------------\n",
      "27_nodes\n",
      "-------------------------------------------------------------------------------------------------------------------\n",
      "28_nodes\n",
      "-------------------------------------------------------------------------------------------------------------------\n",
      "29_nodes\n",
      "-------------------------------------------------------------------------------------------------------------------\n",
      "30_nodes\n",
      "-------------------------------------------------------------------------------------------------------------------\n",
      "31_nodes\n",
      "-------------------------------------------------------------------------------------------------------------------\n",
      "32_nodes\n"
     ]
    }
   ],
   "source": [
    "run_classical()"
   ],
   "metadata": {
    "collapsed": false,
    "pycharm": {
     "name": "#%%\n"
    }
   }
  },
  {
   "cell_type": "code",
   "execution_count": 32,
   "outputs": [],
   "source": [
    "def run_one(graph):\n",
    "    #graph = load_nx_graph_from('/Users/lachermeier/PycharmProjects/master_thesis_qaoa/ibm/landscape/simulator/comparison_3_reg/data/graph_3_reg_6_9_w_01.txt')\n",
    "    # classical solution\n",
    "    cut_weight, bitstring = calculate_local_solver_solution(graph.nodes(), graph.edges.data(\"weight\", default=1))\n",
    "    #print(\"LocalSolver: {}\".format(graph.name))\n",
    "    #print(\"MaxCut: {}\".format(cut_weight))\n",
    "    #print(\"Bitstring: {}\".format(bitstring))\n",
    "    return cut_weight"
   ],
   "metadata": {
    "collapsed": false,
    "pycharm": {
     "name": "#%%\n"
    }
   }
  },
  {
   "cell_type": "code",
   "execution_count": 35,
   "outputs": [],
   "source": [
    "import os\n",
    "def run_3_reg_graphs():\n",
    "    results = {}\n",
    "    dir = \"/Users/lachermeier/PycharmProjects/master_thesis_qaoa/ibm/landscape/simulator/comparison_3_reg/data/\"\n",
    "    graphfiles = os.listdir(dir)\n",
    "    for graph in graphfiles:\n",
    "        if \".txt\" not in graph:\n",
    "            continue\n",
    "        print(graph)\n",
    "        G = load_nx_graph_from(dir + graph)\n",
    "        maxcut = run_one(G)\n",
    "        results[G.name] =  maxcut\n",
    "    return results"
   ],
   "metadata": {
    "collapsed": false,
    "pycharm": {
     "name": "#%%\n"
    }
   }
  },
  {
   "cell_type": "code",
   "execution_count": 36,
   "outputs": [
    {
     "name": "stdout",
     "output_type": "stream",
     "text": [
      "graph_3_reg_20_30_01.txt\n",
      "graph_3_reg_6_9_w_01.txt\n",
      "graph_3_reg_10_15_w_01.txt\n",
      "graph_3_reg_8_12_01.txt\n",
      "graph_3_reg_12_18_01.txt\n",
      "graph_3_reg_10_15_01.txt\n",
      "graph_3_reg_4_6_w_01.txt\n",
      "graph_3_reg_14_21_w_01.txt\n",
      "graph_3_reg_20_30_w_01.txt\n",
      "graph_3_reg_16_24_01.txt\n",
      "graph_3_reg_16_24_w_01.txt\n",
      "graph_3_reg_6_9_01.txt\n",
      "graph_3_reg_12_18_w_01.txt\n",
      "graph_3_reg_4_6_01.txt\n",
      "graph_3_reg_18_27_w_01.txt\n",
      "graph_3_reg_8_12_w_01.txt\n",
      "graph_3_reg_18_27_01.txt\n",
      "graph_3_reg_14_21_01.txt\n"
     ]
    },
    {
     "data": {
      "text/plain": "{'graph_3_reg_20_30_01': 26.0,\n 'graph_3_reg_6_9_w_01': 31.0,\n 'graph_3_reg_10_15_w_01': 74.0,\n 'graph_3_reg_8_12_01': 10.0,\n 'graph_3_reg_12_18_01': 16.0,\n 'graph_3_reg_10_15_01': 13.0,\n 'graph_3_reg_4_6_w_01': 20.0,\n 'graph_3_reg_14_21_w_01': 130.0,\n 'graph_3_reg_20_30_w_01': 131.0,\n 'graph_3_reg_16_24_01': 22.0,\n 'graph_3_reg_16_24_w_01': 136.0,\n 'graph_3_reg_6_9_01': 7.0,\n 'graph_3_reg_12_18_w_01': 92.0,\n 'graph_3_reg_4_6_01': 4.0,\n 'graph_3_reg_18_27_w_01': 121.0,\n 'graph_3_reg_8_12_w_01': 53.0,\n 'graph_3_reg_18_27_01': 24.0,\n 'graph_3_reg_14_21_01': 17.0}"
     },
     "execution_count": 36,
     "metadata": {},
     "output_type": "execute_result"
    }
   ],
   "source": [
    "results = run_3_reg_graphs()\n",
    "results"
   ],
   "metadata": {
    "collapsed": false,
    "pycharm": {
     "name": "#%%\n"
    }
   }
  },
  {
   "cell_type": "code",
   "execution_count": 39,
   "outputs": [],
   "source": [
    "dir = \"/Users/lachermeier/PycharmProjects/master_thesis_qaoa/ibm/landscape/simulator/comparison_3_reg/data/\"\n",
    "dict_filename = dir + \"max_cuts_dict_3_reg.dict\"\n",
    "f = open(dict_filename, 'w')\n",
    "f.write(str(results))\n",
    "f.close()"
   ],
   "metadata": {
    "collapsed": false,
    "pycharm": {
     "name": "#%%\n"
    }
   }
  },
  {
   "cell_type": "code",
   "execution_count": 41,
   "outputs": [],
   "source": [
    "import ast\n",
    "\n",
    "def get_dict():\n",
    "    f = open(dict_filename, 'r')\n",
    "    contents = f.read()\n",
    "    dictionary = ast.literal_eval(contents)\n",
    "    f.close()\n",
    "    return dictionary\n",
    "\n",
    "def get_max_cut(graph):\n",
    "    dic = get_dict()\n",
    "    return dic[graph]"
   ],
   "metadata": {
    "collapsed": false,
    "pycharm": {
     "name": "#%%\n"
    }
   }
  },
  {
   "cell_type": "code",
   "execution_count": 42,
   "outputs": [
    {
     "data": {
      "text/plain": "17.0"
     },
     "execution_count": 42,
     "metadata": {},
     "output_type": "execute_result"
    }
   ],
   "source": [
    "get_max_cut(\"graph_3_reg_14_21_01\")"
   ],
   "metadata": {
    "collapsed": false,
    "pycharm": {
     "name": "#%%\n"
    }
   }
  },
  {
   "cell_type": "code",
   "execution_count": null,
   "outputs": [],
   "source": [],
   "metadata": {
    "collapsed": false,
    "pycharm": {
     "name": "#%%\n"
    }
   }
  }
 ],
 "metadata": {
  "kernelspec": {
   "display_name": "Python 3",
   "language": "python",
   "name": "python3"
  },
  "language_info": {
   "codemirror_mode": {
    "name": "ipython",
    "version": 2
   },
   "file_extension": ".py",
   "mimetype": "text/x-python",
   "name": "python",
   "nbconvert_exporter": "python",
   "pygments_lexer": "ipython2",
   "version": "2.7.6"
  }
 },
 "nbformat": 4,
 "nbformat_minor": 0
}