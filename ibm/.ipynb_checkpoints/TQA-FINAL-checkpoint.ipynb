{
 "cells": [
  {
   "cell_type": "code",
   "execution_count": 1,
   "id": "d70f36b9",
   "metadata": {},
   "outputs": [],
   "source": [
    "import sys\n",
    "import os\n",
    "sys.path.insert(0, os.path.abspath('../'))\n",
    "sys.path.insert(0, os.path.abspath('../../'))\n",
    "sys.path.insert(0, os.path.abspath('/home/hm-tlacherm/qlm_notebooks/notebooks_1.2.1/notebooks/master_thesis_qaoa/'))\n",
    "sys.path.insert(0, os.path.abspath('/home/hm-tlacherm/qlm_notebooks/notebooks_1.2.1/notebooks/master_thesis_qaoa/ibm/'))\n",
    "sys.path.insert(0, os.path.abspath('/home/hm-tlacherm/qlm_notebooks/notebooks_1.2.1/notebooks/master_thesis_qaoa/aqt/'))"
   ]
  },
  {
   "cell_type": "code",
   "execution_count": 2,
   "id": "5890a2c4",
   "metadata": {},
   "outputs": [],
   "source": [
    "import numpy as np\n",
    "import networkx as nx\n",
    "from itertools import product\n",
    "import numba as nb\n",
    "import copy\n",
    "import matplotlib.pyplot as plt\n",
    "from scipy import optimize"
   ]
  },
  {
   "cell_type": "code",
   "execution_count": 3,
   "id": "d597a68d",
   "metadata": {},
   "outputs": [],
   "source": [
    "import numpy as np\n",
    "\n",
    "import qiskit\n",
    "provider = qiskit.IBMQ.load_account()\n",
    "from qiskit import Aer\n",
    "from qiskit.utils import QuantumInstance\n",
    "from qiskit_optimization.algorithms import MinimumEigenOptimizer\n",
    "from qiskit.algorithms import QAOA\n",
    "from shared.QiskitMaxcut import *\n",
    "from ibm.ibm_parameters import *\n",
    "\n",
    "from matplotlib import pyplot as plt\n",
    "%matplotlib inline"
   ]
  },
  {
   "cell_type": "code",
   "execution_count": 84,
   "id": "094315ba",
   "metadata": {},
   "outputs": [],
   "source": [
    "import networkx as nx\n",
    "import numpy as np\n",
    "import glob\n",
    "from sys import platform as _platform\n",
    "\n",
    "\n",
    "def generate_butterfly_graph(with_weights=False):\n",
    "    # Generate a graph of 5 nodes\n",
    "    # filename = graph_05_06_02_w.txt\n",
    "    n = 5\n",
    "    graph = nx.Graph()\n",
    "    graph.add_nodes_from(np.arange(0, n, 1))\n",
    "    if with_weights:\n",
    "        elist = [(0, 3, 9), (0, 4, 6), (1, 2, 9), (1, 4, 10), (2, 4, 7), (3, 4, 7)]\n",
    "        graph.name = \"graph_05_06_02_w\"\n",
    "    else:\n",
    "        elist = [(0, 3, 1), (0, 4, 1), (1, 2, 1), (1, 4, 1), (2, 4, 1), (3, 4, 1)]\n",
    "        graph.name = \"graph_05_06_02\"\n",
    "    graph.add_weighted_edges_from(elist)\n",
    "    \n",
    "    return graph"
   ]
  },
  {
   "cell_type": "code",
   "execution_count": 185,
   "id": "ec8df0a6",
   "metadata": {},
   "outputs": [
    {
     "data": {
      "image/png": "[encoded data removed]",
      "text/plain": [
       "<Figure size 432x288 with 1 Axes>"
      ]
     },
     "metadata": {},
     "output_type": "display_data"
    }
   ],
   "source": [
    "# Set everything up and show the graph\n",
    "#N = 16\n",
    "seed = 42 \n",
    "# = load_nx_graph_from(\"/home/hm-tlacherm/qlm_notebooks/notebooks_1.2.1/notebooks/master_thesis_qaoa/data/graphs/16_nodes/graph_16_33_01_w.txt\")\n",
    "G = load_nx_graph_from(\"/home/hm-tlacherm/qlm_notebooks/notebooks_1.2.1/notebooks/master_thesis_qaoa/ibm/measurements/data/graph_3_reg_10_15_01.txt\")\n",
    "\n",
    "#G = generate_butterfly_graph(with_weights=False)\n",
    "edges = nx.edge_betweenness(G).keys()\n",
    "nodes = G.nodes\n",
    "N = len(nodes)\n",
    "nx.draw(G)\n",
    "initial_state = np.ones(2 ** N) / np.sqrt(2) ** N\n",
    "# Create full Hilbertspace to use in creation of the Hamiltonians\n",
    "H = np.array(list(product([1, -1], repeat=N)))"
   ]
  },
  {
   "cell_type": "code",
   "execution_count": 186,
   "id": "ea843727",
   "metadata": {},
   "outputs": [],
   "source": [
    "\n",
    "# Fast Hadamard transformation\n",
    "\n",
    "@nb.njit # Just in time compilation for massive speed-up\n",
    "def fwht(a):\n",
    "    h = 1\n",
    "    tmp = a.copy()\n",
    "    while 2 * h <= len(a):\n",
    "        for i in range(0, len(a) - 1, h * 2):\n",
    "            for j in range(i, i + h):\n",
    "                x = tmp[j]\n",
    "                y = tmp[j + h]\n",
    "                tmp[j] = x + y\n",
    "                tmp[j + h] = x - y\n",
    "        h *= 2\n",
    "    return tmp\n",
    "\n",
    "def ifwht(a):\n",
    "    return fwht(a) / len(a)"
   ]
  },
  {
   "cell_type": "code",
   "execution_count": 187,
   "id": "b988f61b",
   "metadata": {},
   "outputs": [],
   "source": [
    "# Classical Hamiltonian, the ground state is the MaxCut solution\n",
    "# we use the QAOA to find an approximation to the ground state variationally\n",
    "def H_C():\n",
    "    tmp = np.zeros(2**N)\n",
    "    for i, j in edges:\n",
    "        tmp += H[:, i] * H[:, j]\n",
    "    return tmp"
   ]
  },
  {
   "cell_type": "code",
   "execution_count": 188,
   "id": "b741a725",
   "metadata": {},
   "outputs": [],
   "source": [
    "# Quantum Hamiltonian, the ground state is an equal superposition of all solutions, i.e. all possible graph cuts\n",
    "def H_B():\n",
    "    tmp = np.zeros(2**N)\n",
    "    for i in nodes:\n",
    "        tmp += H[:, i]\n",
    "    return tmp"
   ]
  },
  {
   "cell_type": "code",
   "execution_count": 189,
   "id": "034aeacf",
   "metadata": {},
   "outputs": [],
   "source": [
    "def qaoa_state(x):\n",
    "\n",
    "    # Create the QAOA ansatz state, note that we use a fast Hadamard \n",
    "    # transformation (n log(n)) to keep the operators diagonal and use vector-vector \n",
    "    # multiplication rather than matrix-vector mutliplication where the \n",
    "    # matrix would be the matrix exponential of H_B which would be very slow\n",
    "\n",
    "    beta, gamma = np.split(x, 2)\n",
    "    state = copy.copy(initial_state)\n",
    "\n",
    "    for g, b in zip(gamma, beta):\n",
    "\n",
    "        state = np.exp(1j * g * H_C()) * state\n",
    "        state = fwht(state)              # Fast Hadamard transformation\n",
    "        state = np.exp(-1j * b * H_B()) * state\n",
    "        state = ifwht(state)             # inverse Fast Hadamard transformation\n",
    "\n",
    "    return state"
   ]
  },
  {
   "cell_type": "code",
   "execution_count": 190,
   "id": "b1fd2f90",
   "metadata": {},
   "outputs": [],
   "source": [
    "def energy_expectation_value(state):\n",
    "    return np.real(np.vdot(state, H_C() * state))"
   ]
  },
  {
   "cell_type": "code",
   "execution_count": null,
   "id": "a2971aa4",
   "metadata": {},
   "outputs": [],
   "source": []
  },
  {
   "cell_type": "code",
   "execution_count": 191,
   "id": "1b485872",
   "metadata": {},
   "outputs": [],
   "source": [
    "\n",
    "# Loop over different evolution times\n",
    "time = np.linspace(0.1, 4, 200)\n",
    "\n",
    "energies = []\n",
    "for p in [1,2,3,4]:\n",
    "    energy = []\n",
    "    for t_max in time: \n",
    "        \n",
    "        dt = t_max / p\n",
    "        t = dt * (np.arange(1, p + 1) - 0.5)\n",
    "        gamma = (t / t_max) * dt\n",
    "        beta = (1 - (t / t_max)) * dt\n",
    "        x = np.concatenate((beta, gamma))\n",
    "        energy.append(energy_expectation_value(qaoa_state(x)))\n",
    "\n",
    "    energies.append(energy)"
   ]
  },
  {
   "cell_type": "code",
   "execution_count": 192,
   "id": "ec1f9737",
   "metadata": {},
   "outputs": [
    {
     "data": {
      "text/plain": [
       "<matplotlib.legend.Legend at 0x149bdaa30940>"
      ]
     },
     "execution_count": 192,
     "metadata": {},
     "output_type": "execute_result"
    },
    {
     "data": {
      "image/png": "[encoded data removed]",
      "text/plain": [
       "<Figure size 432x288 with 1 Axes>"
      ]
     },
     "metadata": {
      "needs_background": "light"
     },
     "output_type": "display_data"
    }
   ],
   "source": [
    "\n",
    "plt.plot(time, energies[0]/min(H_C()), label=\"p=1\")\n",
    "plt.plot(time, energies[1]/min(H_C()), label=\"p=2\")\n",
    "plt.plot(time, energies[2]/min(H_C()), label=\"p=3\")\n",
    "plt.plot(time, energies[3]/min(H_C()), label=\"p=4\")\n",
    "plt.xlabel('Time')\n",
    "plt.ylabel('Approximation ratio')\n",
    "plt.legend(frameon=False)"
   ]
  },
  {
   "cell_type": "code",
   "execution_count": 193,
   "id": "6b0bf9c0",
   "metadata": {},
   "outputs": [
    {
     "name": "stdout",
     "output_type": "stream",
     "text": [
      "Optimal evolution time is 0.6487437185929649 with an approximation ratio of 0.45756778523288855\n"
     ]
    }
   ],
   "source": [
    "# Find optimal time \n",
    "idx = np.argmin(energies[0])\n",
    "t_max = time[idx]\n",
    "print(f'Optimal evolution time is {t_max} with an approximation ratio of {energies[0][idx]/min(H_C())}')"
   ]
  },
  {
   "cell_type": "code",
   "execution_count": null,
   "id": "e3c5ae22",
   "metadata": {},
   "outputs": [],
   "source": []
  },
  {
   "cell_type": "code",
   "execution_count": 194,
   "id": "47ab3a94",
   "metadata": {},
   "outputs": [],
   "source": [
    "# Fix initial beta and gamma values\n",
    "p = 1\n",
    "dt = t_max / p\n",
    "t = dt * (np.arange(1, p + 1) - 0.5)\n",
    "gamma = (t / t_max) * dt\n",
    "beta = (1 - (t / t_max)) * dt\n",
    "x0 = np.concatenate((beta, gamma))"
   ]
  },
  {
   "cell_type": "code",
   "execution_count": 195,
   "id": "e98aceed",
   "metadata": {},
   "outputs": [
    {
     "data": {
      "text/plain": [
       "array([0.32437186])"
      ]
     },
     "execution_count": 195,
     "metadata": {},
     "output_type": "execute_result"
    }
   ],
   "source": [
    "gamma"
   ]
  },
  {
   "cell_type": "code",
   "execution_count": 196,
   "id": "c2f59c1c",
   "metadata": {},
   "outputs": [
    {
     "data": {
      "text/plain": [
       "array([0.32437186])"
      ]
     },
     "execution_count": 196,
     "metadata": {},
     "output_type": "execute_result"
    }
   ],
   "source": [
    "beta"
   ]
  },
  {
   "cell_type": "code",
   "execution_count": 197,
   "id": "3820b52c",
   "metadata": {},
   "outputs": [],
   "source": [
    "func_to_optimize = lambda x: energy_expectation_value(qaoa_state(x))\n",
    "result_tqa = optimize.minimize(func_to_optimize, x0, method='BFGS')"
   ]
  },
  {
   "cell_type": "code",
   "execution_count": 198,
   "id": "2d3061a8",
   "metadata": {},
   "outputs": [
    {
     "name": "stdout",
     "output_type": "stream",
     "text": [
      "Final approximation ratio from TQA init. is 0.4687850472481798\n"
     ]
    }
   ],
   "source": [
    "print(f'Final approximation ratio from TQA init. is {result_tqa.fun/min(H_C())}')\n"
   ]
  },
  {
   "cell_type": "code",
   "execution_count": 199,
   "id": "d135c533",
   "metadata": {},
   "outputs": [],
   "source": [
    "# Quick comparison with a single QAOA run lauched from a random initialization\n",
    "x0_random = np.concatenate((np.random.uniform(-np.pi/4, np.pi/4, p), np.random.uniform(-np.pi/2, np.pi/2, p)))\n",
    "result_rand = optimize.minimize(func_to_optimize, x0_random, method='BFGS')"
   ]
  },
  {
   "cell_type": "code",
   "execution_count": 200,
   "id": "594168fc",
   "metadata": {},
   "outputs": [
    {
     "name": "stdout",
     "output_type": "stream",
     "text": [
      "Final approximation ratio from random init. is 0.46878504724821\n"
     ]
    }
   ],
   "source": [
    "print(f'Final approximation ratio from random init. is {result_rand.fun/min(H_C())}')\n"
   ]
  },
  {
   "cell_type": "code",
   "execution_count": null,
   "id": "4eae314e",
   "metadata": {},
   "outputs": [],
   "source": []
  },
  {
   "cell_type": "code",
   "execution_count": 201,
   "id": "350b8ff4",
   "metadata": {},
   "outputs": [
    {
     "name": "stdout",
     "output_type": "stream",
     "text": [
      "optimal function value: -12.0\n",
      "optimal value: [1. 1. 0. 0. 1. 1. 1. 0. 1. 0.]\n",
      "status: SUCCESS\n",
      "Number of samples (873) is too large to display. Skip.\n",
      "Expectation Value: -5.308999999999995\n",
      "Highest Exp.Value: 0 with 4.0375000000000005 %\n",
      "Lowest Exp.Value: -12 with 0.0125 %\n",
      "Highest Probability: -6 with 18.812 %\n",
      "Ratio r: 0.44241666666666624\n",
      "Approiximation ratio: 1.3272499999999987\n",
      "MSE: 14.426390090909107\n",
      "RMSE: 3.7982088003306385\n"
     ]
    },
    {
     "data": {
      "text/plain": [
       "(-5.308999999999995,\n",
       " {-12: 0.000125,\n",
       "  -11: 0.0018750000000000008,\n",
       "  -10: 0.008750000000000004,\n",
       "  -9: 0.03012500000000002,\n",
       "  -8: 0.07962500000000006,\n",
       "  -7: 0.17149999999999974,\n",
       "  -6: 0.1881249999999997,\n",
       "  -5: 0.17174999999999999,\n",
       "  -4: 0.17999999999999997,\n",
       "  -3: 0.12775000000000003,\n",
       "  0: 0.040375})"
      ]
     },
     "execution_count": 201,
     "metadata": {},
     "output_type": "execute_result"
    }
   ],
   "source": [
    "max_cut = Maxcut(G, -4)\n",
    "max_cut_qubo = max_cut.to_qubo()\n",
    "from qiskit.algorithms.minimum_eigen_solvers.qaoa import QAOA\n",
    "quantum_instance = QuantumInstance(\n",
    "                    backend=Aer.get_backend(DEFAULT_QASM_SIMULATOR),\n",
    "                    shots=SHOTS)\n",
    "qaoa = QAOA(\n",
    "            optimizer=COBYLA(maxiter=0),\n",
    "            quantum_instance=quantum_instance,\n",
    "            reps=p,\n",
    "            initial_point=np.concatenate((gamma,beta))\n",
    "            )\n",
    "\n",
    "op, offset = max_cut_qubo.to_ising()\n",
    "from qiskit_optimization.algorithms.minimum_eigen_optimizer import (\n",
    "    MinimumEigenOptimizer,\n",
    "    MinimumEigenOptimizationResult,\n",
    ")\n",
    "result = MinimumEigenOptimizer(qaoa).solve(max_cut_qubo)\n",
    "max_cut.analyse(result, print_output=True)"
   ]
  },
  {
   "cell_type": "code",
   "execution_count": 202,
   "id": "6dd9b45b",
   "metadata": {},
   "outputs": [],
   "source": [
    "import numpy as np\n",
    "import networkx as nx\n",
    "from itertools import product\n",
    "import numba as nb\n",
    "import copy\n",
    "from scipy import optimize\n",
    "\n",
    "#\n",
    "# http://127.0.0.1:8888/notebooks/qlm_notebooks/notebooks_1.2.1/notebooks/master_thesis_qaoa/ibm/TQA.ipynb \n",
    "#\n",
    "# Fast Hadamard transformation\n",
    "\n",
    "@nb.njit # Just in time compilation for massive speed-up\n",
    "def fwht(a):\n",
    "    h = 1\n",
    "    tmp = a.copy()\n",
    "    while 2 * h <= len(a):\n",
    "        for i in range(0, len(a) - 1, h * 2):\n",
    "            for j in range(i, i + h):\n",
    "                x = tmp[j]\n",
    "                y = tmp[j + h]\n",
    "                tmp[j] = x + y\n",
    "                tmp[j + h] = x - y\n",
    "        h *= 2\n",
    "    return tmp\n",
    "\n",
    "def ifwht(a):\n",
    "    return fwht(a) / len(a)\n",
    "\n",
    "# Classical Hamiltonian, the ground state is the MaxCut solution\n",
    "# we use the QAOA to find an approximation to the ground state variationally\n",
    "def H_C():\n",
    "    \n",
    "    if is_weighted:\n",
    "        return H_C_weighted()\n",
    "\n",
    "    tmp = np.zeros(2**N)\n",
    "    for i, j in edges:\n",
    "        tmp += H[:, i] * H[:, j]\n",
    "    return tmp\n",
    "\n",
    "# Quantum Hamiltonian, the ground state is an equal superposition of all solutions, i.e. all possible graph cuts\n",
    "def H_B():\n",
    "    tmp = np.zeros(2**N)\n",
    "    for i in nodes:\n",
    "        tmp += H[:, i]\n",
    "    return tmp\n",
    "\n",
    "def init_weights(N, seed):\n",
    "\n",
    "    np.random.seed(seed)\n",
    "    a = np.random.rand(N, N)\n",
    "    return np.tril(a) + np.tril(a, -1).T\n",
    "\n",
    "def H_C_weighted():\n",
    "\n",
    "    tmp = np.zeros(2**N)\n",
    "    for i, j in edges:\n",
    "        tmp += weights[i, j] * H[:, i] * H[:, j]\n",
    "    return tmp\n",
    "\n",
    "def qaoa_state(x):\n",
    "\n",
    "    # Create the QAOA ansatz state, note that we use a fast Hadamard \n",
    "    # transformation (n log(n)) to keep the operators diagonal and use vector-vector \n",
    "    # multiplication rather than matrix-vector mutliplication where the \n",
    "    # matrix would be the matrix exponential of H_B which would be very slow\n",
    "\n",
    "    beta, gamma = np.split(x, 2)\n",
    "    state = copy.copy(initial_state)\n",
    "\n",
    "    for g, b in zip(gamma, beta):\n",
    "\n",
    "        state = np.exp(1j * g * H_C()) * state\n",
    "        state = fwht(state)              # Fast Hadamard transformation\n",
    "        state = np.exp(-1j * b * H_B()) * state\n",
    "        state = ifwht(state)             # inverse Fast Hadamard transformation\n",
    "\n",
    "    return state\n",
    "\n",
    "def energy_expectation_value(state):\n",
    "    return np.real(np.vdot(state, H_C() * state))\n",
    "\n",
    "def calculate_tqa(graph, p, print_info=True):\n",
    "    global edges, nodes, initial_state, H, N, weights, is_weighted\n",
    "    \n",
    "    is_weighted = False \n",
    "    edges = nx.edge_betweenness(graph).keys()\n",
    "    nodes = graph.nodes\n",
    "    N = len(nodes)\n",
    "    initial_state = np.ones(2 ** N) / np.sqrt(2) ** N\n",
    "    # Create full Hilbertspace to use in creation of the Hamiltonians\n",
    "    H = np.array(list(product([1, -1], repeat=N)))\n",
    "    \n",
    "    for u,v,w in graph.edges(data=True):\n",
    "        if w['weight'] != 1:\n",
    "            # from paper: \n",
    "            weights = init_weights(N, 42)\n",
    "            #is_weighted = True \n",
    "            # my idea:\n",
    "            # weights = nx.adjacency_matrix(graph).todense()\n",
    "            #print(weights)\n",
    "            is_weighted=True\n",
    "            break\n",
    "    \n",
    "    # Loop over different evolution times\n",
    "    time = np.linspace(0.1, N+p, 200)\n",
    "    \n",
    "    energy = []\n",
    "    for t_max in time: \n",
    "        dt = t_max / p\n",
    "        t = dt * (np.arange(1, p + 1) - 0.5)\n",
    "        gamma = (t / t_max) * dt\n",
    "        beta = (1 - (t / t_max)) * dt\n",
    "        x = np.concatenate((beta, gamma))\n",
    "        energy.append(energy_expectation_value(qaoa_state(x)))\n",
    "        \n",
    "    # Find optimal time \n",
    "    idx = np.argmin(energy)\n",
    "    t_max = time[idx]\n",
    "    # Fix initial beta and gamma values\n",
    "    dt = t_max / p\n",
    "    t = dt * (np.arange(1, p + 1) - 0.5)\n",
    "    gamma = (t / t_max) * dt\n",
    "    beta = (1 - (t / t_max)) * dt\n",
    "    \n",
    "    #tqa_initial_points = np.concatenate([beta,gamma])\n",
    "    tqa_initial_points = np.concatenate([gamma,beta])\n",
    "    print(f\"TQA: Beta: {beta}, Gamma: {gamma} (p={p})\")\n",
    "    \n",
    "    return tqa_initial_points, time, energy \n",
    "    \n",
    "\n",
    "\n",
    "    \n",
    "    "
   ]
  },
  {
   "cell_type": "code",
   "execution_count": 203,
   "id": "3cdc4251",
   "metadata": {},
   "outputs": [
    {
     "name": "stdout",
     "output_type": "stream",
     "text": [
      "TQA: Beta: [2.8160804], Gamma: [2.8160804] (p=1)\n",
      "TQA: Beta: [0.48599246 0.16199749], Gamma: [0.16199749 0.48599246] (p=2)\n",
      "TQA: Beta: [0.60399218 0.36239531 0.12079844], Gamma: [0.12079844 0.36239531 0.60399218] (p=3)\n",
      "TQA: Beta: [0.66361495 0.47401068 0.28440641 0.09480214], Gamma: [0.09480214 0.28440641 0.47401068 0.66361495] (p=4)\n"
     ]
    }
   ],
   "source": [
    "energies = []\n",
    "for i in range(1,5):\n",
    "    _, time, energy = calculate_tqa(G, i)\n",
    "    energies.append(energy)"
   ]
  },
  {
   "cell_type": "code",
   "execution_count": 208,
   "id": "adb11c07",
   "metadata": {},
   "outputs": [
    {
     "data": {
      "text/plain": [
       "<matplotlib.legend.Legend at 0x149bce087c10>"
      ]
     },
     "execution_count": 208,
     "metadata": {},
     "output_type": "execute_result"
    },
    {
     "data": {
      "image/png": "[encoded data removed]",
      "text/plain": [
       "<Figure size 432x288 with 1 Axes>"
      ]
     },
     "metadata": {
      "needs_background": "light"
     },
     "output_type": "display_data"
    }
   ],
   "source": [
    "markers_on = [12, 17, 18, 19]\n",
    "plt.plot(time, energies[0]/min(H_C()),'-D', label=\"p=1\",  markevery=markers_on,)\n",
    "#plt.plot(time, energies[1]/min(H_C()), label=\"p=2\")\n",
    "#plt.plot(time, energies[2]/min(H_C()), label=\"p=3\")\n",
    "#plt.plot(time, energies[3]/min(H_C()), label=\"p=4\")\n",
    "plt.xlabel('Time')\n",
    "plt.ylabel('Approximation ratio')\n",
    "plt.legend(frameon=False)"
   ]
  },
  {
   "cell_type": "code",
   "execution_count": null,
   "id": "cb355b0b",
   "metadata": {},
   "outputs": [],
   "source": []
  },
  {
   "cell_type": "code",
   "execution_count": null,
   "id": "9441bc7f",
   "metadata": {},
   "outputs": [],
   "source": []
  }
 ],
 "metadata": {
  "kernelspec": {
   "display_name": "python3.8",
   "language": "python",
   "name": "python3.8"
  },
  "language_info": {
   "codemirror_mode": {
    "name": "ipython",
    "version": 3
   },
   "file_extension": ".py",
   "mimetype": "text/x-python",
   "name": "python",
   "nbconvert_exporter": "python",
   "pygments_lexer": "ipython3",
   "version": "3.8.6"
  }
 },
 "nbformat": 4,
 "nbformat_minor": 5
}
