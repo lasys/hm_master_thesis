{
 "cells": [
  {
   "cell_type": "code",
   "execution_count": 1,
   "id": "b69eef45",
   "metadata": {},
   "outputs": [],
   "source": [
    "import warnings\n",
    "warnings.filterwarnings(\"ignore\")\n",
    "\n",
    "import numpy as np\n",
    "\n",
    "import cirq\n",
    "from mitiq import cdr\n",
    "import mitiq"
   ]
  },
  {
   "cell_type": "code",
   "execution_count": 2,
   "id": "f0ebc0b5",
   "metadata": {},
   "outputs": [],
   "source": [
    "import sys\n",
    "import os\n",
    "sys.path.insert(0, os.path.abspath('../'))\n",
    "sys.path.insert(0, os.path.abspath('../../'))\n",
    "\n",
    "\n",
    "import numpy as np\n",
    "from scipy.optimize import minimize\n",
    "import networkx as nx\n",
    "\n",
    "import qiskit \n",
    "# Importing standard Qiskit libraries\n",
    "from qiskit import QuantumCircuit, transpile, Aer, IBMQ, QuantumRegister, ClassicalRegister\n",
    "from qiskit.tools.jupyter import *\n",
    "from qiskit.visualization import *\n",
    "from qiskit.providers.aer import QasmSimulator\n",
    "from qiskit.algorithms import QAOA\n",
    "from qiskit_optimization.algorithms import MinimumEigenOptimizer\n",
    "from shared.QiskitMaxcut import *\n",
    "from qiskit.utils import QuantumInstance\n",
    "from qiskit.result import Result\n",
    "from qiskit.converters import circuit_to_dag, dag_to_circuit\n",
    "from qiskit.algorithms.optimizers import SPSA, COBYLA, QNSPSA\n",
    "from qiskit.ignis.mitigation.measurement import CompleteMeasFitter\n",
    "%matplotlib inline\n",
    "\n",
    "# Loading your IBM Quantum account(s)\n",
    "provider = IBMQ.load_account()\n",
    "provider = qiskit.IBMQ.get_provider(hub='ibm-q-unibw', group='hochschule-muc', project='masterarbeit')"
   ]
  },
  {
   "cell_type": "code",
   "execution_count": 3,
   "id": "6ae53c6c",
   "metadata": {},
   "outputs": [],
   "source": [
    "%load_ext autoreload\n",
    "%autoreload 2"
   ]
  },
  {
   "cell_type": "markdown",
   "id": "11e1db9d",
   "metadata": {},
   "source": [
    "## Clifford data regression Example"
   ]
  },
  {
   "cell_type": "markdown",
   "id": "0b3840ba",
   "metadata": {},
   "source": [
    "https://mitiq.readthedocs.io/en/stable/examples/cdr_api.html"
   ]
  },
  {
   "cell_type": "code",
   "execution_count": 4,
   "id": "f9b16d3e",
   "metadata": {},
   "outputs": [
    {
     "data": {
      "text/html": [
       "<pre style=\"overflow: auto; white-space: pre;\">0: ───Rx(0.032π)────Rz(0.127π)───@───Rz(-0.073π)───X───Rx(-0.036π)───M(&#x27;z&#x27;)───\n",
       "                                 │                 │                 │\n",
       "1: ───Rx(-0.229π)───Rz(0.064π)───X───Rx(-0.032π)───@─────────────────M────────</pre>"
      ],
      "text/plain": [
       "0: ───Rx(0.032π)────Rz(0.127π)───@───Rz(-0.073π)───X───Rx(-0.036π)───M('z')───\n",
       "                                 │                 │                 │\n",
       "1: ───Rx(-0.229π)───Rz(0.064π)───X───Rx(-0.032π)───@─────────────────M────────"
      ]
     },
     "execution_count": 4,
     "metadata": {},
     "output_type": "execute_result"
    }
   ],
   "source": [
    "a, b = cirq.LineQubit.range(2)\n",
    "circuit = cirq.Circuit(\n",
    "    cirq.rx(0.1).on(a),\n",
    "    cirq.rx(-0.72).on(b),\n",
    "    cirq.rz(0.4).on(a),\n",
    "    cirq.rz(0.2).on(b),\n",
    "    cirq.CNOT.on(a, b),\n",
    "    cirq.rx(-0.1).on(b),\n",
    "    cirq.rz(-0.23).on(a),\n",
    "    cirq.CNOT.on(b, a),\n",
    "    cirq.rx(-0.112).on(a),\n",
    "    cirq.measure(a, b, key=\"z\"),\n",
    ")\n",
    "circuit"
   ]
  },
  {
   "cell_type": "code",
   "execution_count": 5,
   "id": "bbba2737",
   "metadata": {},
   "outputs": [],
   "source": [
    "from typing import Counter\n",
    "\n",
    "\n",
    "def sample_bitstrings(circ: cirq.Circuit, shots: int = 1000, noise: float = 0.01) -> Counter[int]:\n",
    "    # Add depolarizing noise to emulate a noisy quantum processor!\n",
    "    circuit = circ.with_noise(cirq.depolarize(noise))\n",
    "    \n",
    "    return cirq.DensityMatrixSimulator().run(circuit, repetitions=shots).histogram(key=\"z\")"
   ]
  },
  {
   "cell_type": "code",
   "execution_count": 6,
   "id": "df0ed775",
   "metadata": {},
   "outputs": [
    {
     "data": {
      "text/plain": [
       "Counter({0: 760, 3: 182, 2: 28, 1: 30})"
      ]
     },
     "execution_count": 6,
     "metadata": {},
     "output_type": "execute_result"
    }
   ],
   "source": [
    "sample_bitstrings(circuit)"
   ]
  },
  {
   "cell_type": "code",
   "execution_count": 7,
   "id": "84dc40f1",
   "metadata": {},
   "outputs": [],
   "source": [
    "# Observable(s) to measure.\n",
    "z = np.diag([1, -1])\n",
    "obs = np.diag(np.kron(z, z))"
   ]
  },
  {
   "cell_type": "code",
   "execution_count": 8,
   "id": "2adb611e",
   "metadata": {},
   "outputs": [],
   "source": [
    "def sample_bitstrings_simulator(circuit, shots: int = 1000) -> Counter:\n",
    "    return sample_bitstrings(circuit, shots=shots, noise=0.0)"
   ]
  },
  {
   "cell_type": "code",
   "execution_count": 9,
   "id": "fe0abaa0",
   "metadata": {},
   "outputs": [
    {
     "data": {
      "text/plain": [
       "0.992"
      ]
     },
     "execution_count": 9,
     "metadata": {},
     "output_type": "execute_result"
    }
   ],
   "source": [
    "cdr.execute.calculate_observable(\n",
    "    state_or_measurements=sample_bitstrings_simulator(circuit),\n",
    "    observable=obs,\n",
    ")"
   ]
  },
  {
   "cell_type": "code",
   "execution_count": 10,
   "id": "ce4128bc",
   "metadata": {},
   "outputs": [
    {
     "data": {
      "text/plain": [
       "0.858"
      ]
     },
     "execution_count": 10,
     "metadata": {},
     "output_type": "execute_result"
    }
   ],
   "source": [
    "cdr.execute.calculate_observable(\n",
    "    state_or_measurements=sample_bitstrings(circuit),\n",
    "    observable=obs,\n",
    ")"
   ]
  },
  {
   "cell_type": "code",
   "execution_count": 11,
   "id": "ad211ffc",
   "metadata": {},
   "outputs": [
    {
     "data": {
      "text/plain": [
       "[0.99]"
      ]
     },
     "execution_count": 11,
     "metadata": {},
     "output_type": "execute_result"
    }
   ],
   "source": [
    "cdr.execute_with_cdr(\n",
    "    circuit=circuit,\n",
    "    executor=sample_bitstrings,\n",
    "    observables=[obs],\n",
    "    simulator=sample_bitstrings_simulator,\n",
    ")"
   ]
  },
  {
   "cell_type": "markdown",
   "id": "aaad271f",
   "metadata": {},
   "source": [
    "Circuit"
   ]
  },
  {
   "cell_type": "code",
   "execution_count": 12,
   "id": "6b716fbb",
   "metadata": {},
   "outputs": [],
   "source": [
    "def generate_sample_graph(with_weights=True):\n",
    "    # Generate a graph of 5 nodes\n",
    "    # filename = graph_05_06_02_w.txt\n",
    "    n = 4\n",
    "    graph = nx.Graph()\n",
    "    graph.add_nodes_from(np.arange(0, n, 1))\n",
    "    elist = [(0, 1, 1), (1, 2, 1), (2, 3, 1), (3, 0, 1)]\n",
    "    graph.add_weighted_edges_from(elist)\n",
    "    \n",
    "    return graph"
   ]
  },
  {
   "cell_type": "code",
   "execution_count": 12,
   "id": "da546874",
   "metadata": {},
   "outputs": [
    {
     "data": {
      "image/png": "[encoded data removed]",
      "text/plain": [
       "<Figure size 432x288 with 1 Axes>"
      ]
     },
     "metadata": {},
     "output_type": "display_data"
    }
   ],
   "source": [
    "#G = generate_sample_graph() \n",
    "from ibm.ibm_parameters import *\n",
    "G = generate_butterfly_graph(with_weights=True)\n",
    "\n",
    "#G = generate_butterfly_graph(with_weights=False)\n",
    "max_cut = Maxcut(G,-35)\n",
    "max_cut.draw()\n",
    "qubo = max_cut.to_qubo()"
   ]
  },
  {
   "cell_type": "markdown",
   "id": "9fe4996a",
   "metadata": {},
   "source": [
    "### Create Circuit "
   ]
  },
  {
   "cell_type": "code",
   "execution_count": 34,
   "id": "598378cf",
   "metadata": {},
   "outputs": [],
   "source": [
    "qaoa = QAOA(quantum_instance=Aer.get_backend('qasm_simulator'), initial_point=[ -3.33412359,  5.45892711])\n",
    "algorithm = MinimumEigenOptimizer(qaoa)\n",
    "result = algorithm.solve(qubo)\n",
    "param_dict = dict(zip(qaoa._ansatz_params, qaoa._initial_point))  # type: Dict\n",
    "wave_function = qaoa.ansatz.assign_parameters(param_dict)"
   ]
  },
  {
   "cell_type": "code",
   "execution_count": 59,
   "id": "410b18ed",
   "metadata": {},
   "outputs": [
    {
     "data": {
      "image/png": "[encoded data removed]",
      "text/plain": [
       "<Figure size 1621.88x806.68 with 1 Axes>"
      ]
     },
     "execution_count": 59,
     "metadata": {},
     "output_type": "execute_result"
    }
   ],
   "source": [
    "circuit = wave_function.copy()\n",
    "circuit.measure_all()\n",
    "circuit.draw('mpl')"
   ]
  },
  {
   "cell_type": "code",
   "execution_count": 36,
   "id": "f09bffb6",
   "metadata": {},
   "outputs": [],
   "source": [
    "# todo: maybe convert to specific gates "
   ]
  },
  {
   "cell_type": "code",
   "execution_count": 50,
   "id": "e786a8ca",
   "metadata": {},
   "outputs": [],
   "source": [
    "import qiskit \n",
    "from qiskit.providers.aer.noise import NoiseModel\n",
    "from qiskit.ignis.mitigation.measurement import CompleteMeasFitter\n",
    "\n",
    "noise_backend = provider.get_backend(\"ibmq_toronto\")\n",
    "noise_model = NoiseModel.from_backend(noise_backend)\n",
    "coupling_map = noise_backend.configuration().coupling_map\n",
    "basis_gates = noise_model.basis_gates\n",
    "\n",
    "def sample_bitstrings(circuit, shots: int = 1024) -> Dict[int, int]:\n",
    "    # Add depolarizing noise to emulate a noisy quantum processor!\n",
    "    # Use Aer's qasm_simulator\n",
    "    print(\"run noise\")\n",
    "    circuit.name = \"\"\n",
    "    if type(circuit) == cirq.circuits.circuit.Circuit:\n",
    "        circuit = mitiq.interface.mitiq_qiskit.conversions.to_qiskit(circuit)\n",
    "\n",
    "    backend_sim = Aer.get_backend('qasm_simulator')\n",
    "    qi = QuantumInstance(backend=backend_sim,shots=shots, noise_model=noise_model,coupling_map=coupling_map,basis_gates=basis_gates)\n",
    "    result = qi.execute(circuit)\n",
    "\n",
    "    counts = result.get_counts()\n",
    "    int_counts = {}\n",
    "    for key in counts.keys():\n",
    "        int_counts[int(key.replace(' ',''),2)] = counts[key]\n",
    "    return int_counts"
   ]
  },
  {
   "cell_type": "code",
   "execution_count": 51,
   "id": "af429d4a",
   "metadata": {},
   "outputs": [
    {
     "name": "stdout",
     "output_type": "stream",
     "text": [
      "run noise\n"
     ]
    },
    {
     "data": {
      "image/png": "[encoded data removed]",
      "text/plain": [
       "<Figure size 504x360 with 1 Axes>"
      ]
     },
     "execution_count": 51,
     "metadata": {},
     "output_type": "execute_result"
    }
   ],
   "source": [
    "plot_histogram(sample_bitstrings(circuit))"
   ]
  },
  {
   "cell_type": "code",
   "execution_count": 52,
   "id": "42fa9665",
   "metadata": {},
   "outputs": [],
   "source": [
    "def sample_bitstrings_simulator(circuit, shots: int = 1024) -> Dict[int, int]:\n",
    "    # Use Aer's qasm_simulator\n",
    "    print(\"run simulator\")\n",
    "    circuit.name = \"\"\n",
    "\n",
    "    if type(circuit) == cirq.circuits.circuit.Circuit:\n",
    "        circuit = mitiq.interface.mitiq_qiskit.conversions.to_qiskit(circuit)\n",
    "\n",
    "    backend_sim = Aer.get_backend('qasm_simulator')\n",
    "    qi = QuantumInstance(backend=backend_sim,shots=shots)\n",
    "    result = qi.execute(circuit)\n",
    "\n",
    "    counts = result.get_counts()\n",
    "\n",
    "    int_counts = {}\n",
    "    for key in counts.keys():\n",
    "        int_counts[int(key.replace(' ',''),2)] = counts[key]\n",
    "    return int_counts"
   ]
  },
  {
   "cell_type": "code",
   "execution_count": 53,
   "id": "0520d1ad",
   "metadata": {},
   "outputs": [
    {
     "name": "stdout",
     "output_type": "stream",
     "text": [
      "run simulator\n"
     ]
    },
    {
     "data": {
      "image/png": "[encoded data removed]",
      "text/plain": [
       "<Figure size 504x360 with 1 Axes>"
      ]
     },
     "execution_count": 53,
     "metadata": {},
     "output_type": "execute_result"
    }
   ],
   "source": [
    "plot_histogram(sample_bitstrings_simulator(circuit))"
   ]
  },
  {
   "cell_type": "code",
   "execution_count": 60,
   "id": "0f4ab5fb",
   "metadata": {},
   "outputs": [
    {
     "name": "stdout",
     "output_type": "stream",
     "text": [
      "offest: -24.0\n"
     ]
    },
    {
     "data": {
      "text/plain": [
       "array([ 24.,   9.,   5., -10.,   8.,  -7.,   7.,  -8.,   8.,  11., -11.,\n",
       "        -8.,  -8.,  -5.,  -9.,  -6.,  -6.,  -9.,  -5.,  -8.,  -8., -11.,\n",
       "        11.,   8.,  -8.,   7.,  -7.,   8., -10.,   5.,   9.,  24.])"
      ]
     },
     "execution_count": 60,
     "metadata": {},
     "output_type": "execute_result"
    }
   ],
   "source": [
    "# Observable(s) to measure.\n",
    "operator, offset = qubo.to_ising()\n",
    "print(f\"offest: {offset}\")\n",
    "obs = np.real(np.diag(operator.to_matrix()))\n",
    "obs"
   ]
  },
  {
   "cell_type": "code",
   "execution_count": 55,
   "id": "98965c10",
   "metadata": {},
   "outputs": [
    {
     "name": "stdout",
     "output_type": "stream",
     "text": [
      "run simulator\n"
     ]
    },
    {
     "data": {
      "text/plain": [
       "-8.3544921875"
      ]
     },
     "execution_count": 55,
     "metadata": {},
     "output_type": "execute_result"
    }
   ],
   "source": [
    "cdr.execute.calculate_observable(\n",
    "    state_or_measurements=sample_bitstrings_simulator(circuit),\n",
    "    observable=obs,\n",
    ")"
   ]
  },
  {
   "cell_type": "code",
   "execution_count": 56,
   "id": "eae2baf7",
   "metadata": {},
   "outputs": [
    {
     "name": "stdout",
     "output_type": "stream",
     "text": [
      "run noise\n"
     ]
    },
    {
     "data": {
      "text/plain": [
       "-6.1845703125"
      ]
     },
     "execution_count": 56,
     "metadata": {},
     "output_type": "execute_result"
    }
   ],
   "source": [
    "cdr.execute.calculate_observable(\n",
    "    state_or_measurements=sample_bitstrings(circuit),\n",
    "    observable=obs,\n",
    ")"
   ]
  },
  {
   "cell_type": "code",
   "execution_count": 57,
   "id": "d0815ea2",
   "metadata": {},
   "outputs": [
    {
     "name": "stdout",
     "output_type": "stream",
     "text": [
      "run noise\n",
      "run noise\n",
      "run noise\n",
      "run noise\n",
      "run noise\n",
      "run noise\n",
      "run noise\n",
      "run noise\n",
      "run noise\n",
      "run noise\n",
      "run noise\n",
      "run simulator\n"
     ]
    },
    {
     "data": {
      "text/plain": [
       "[-6.765625]"
      ]
     },
     "execution_count": 57,
     "metadata": {},
     "output_type": "execute_result"
    }
   ],
   "source": [
    "exp = cdr.execute_with_cdr(\n",
    "    circuit=circuit,\n",
    "    executor=sample_bitstrings,\n",
    "    observables=[obs],\n",
    "    simulator=sample_bitstrings_simulator,\n",
    ")\n",
    "exp"
   ]
  },
  {
   "cell_type": "code",
   "execution_count": 62,
   "id": "a3f94ac4",
   "metadata": {},
   "outputs": [
    {
     "data": {
      "text/plain": [
       "-30.765625"
      ]
     },
     "execution_count": 62,
     "metadata": {},
     "output_type": "execute_result"
    }
   ],
   "source": [
    "# add offset -> real expectation value?\n",
    "exp[0] + offset"
   ]
  },
  {
   "cell_type": "code",
   "execution_count": 45,
   "id": "30077e00",
   "metadata": {},
   "outputs": [],
   "source": [
    "from qiskit.providers.aer.noise import NoiseModel\n",
    "from qiskit.ignis.mitigation.measurement import CompleteMeasFitter\n",
    "\n",
    "noise_backend = provider.get_backend(\"ibmq_toronto\")\n",
    "noise_model = NoiseModel.from_backend(noise_backend)\n",
    "coupling_map = noise_backend.configuration().coupling_map\n",
    "basis_gates = noise_model.basis_gates"
   ]
  },
  {
   "cell_type": "code",
   "execution_count": null,
   "id": "d9b17369",
   "metadata": {},
   "outputs": [],
   "source": []
  },
  {
   "cell_type": "code",
   "execution_count": 28,
   "id": "1b60508d",
   "metadata": {},
   "outputs": [],
   "source": [
    "qiGME = QuantumInstance(backend=Aer.get_backend('qasm_simulator'),  shots=1024)"
   ]
  },
  {
   "cell_type": "code",
   "execution_count": 29,
   "id": "ff986784",
   "metadata": {},
   "outputs": [
    {
     "name": "stdout",
     "output_type": "stream",
     "text": [
      "run noise\n",
      "run simulator\n",
      "run noise\n",
      "run simulator\n",
      "run noise\n",
      "run simulator\n",
      "run noise\n",
      "run simulator\n",
      "run noise\n",
      "run simulator\n",
      "run noise\n",
      "run simulator\n",
      "run noise\n",
      "run simulator\n",
      "run noise\n",
      "run simulator\n",
      "run noise\n",
      "run simulator\n",
      "run noise\n",
      "run simulator\n",
      "run noise\n",
      "run simulator\n",
      "run noise\n",
      "run simulator\n",
      "run noise\n",
      "run simulator\n",
      "run noise\n",
      "run simulator\n",
      "run noise\n",
      "run simulator\n",
      "run noise\n",
      "run simulator\n",
      "run noise\n",
      "run simulator\n",
      "run noise\n",
      "run simulator\n",
      "run noise\n",
      "run simulator\n",
      "run noise\n",
      "run simulator\n",
      "run noise\n",
      "run simulator\n",
      "run noise\n",
      "run simulator\n",
      "run noise\n",
      "run simulator\n",
      "run noise\n",
      "run simulator\n",
      "run noise\n",
      "run simulator\n",
      "run noise\n",
      "run simulator\n",
      "run noise\n",
      "run simulator\n",
      "run noise\n",
      "run simulator\n",
      "run noise\n",
      "run simulator\n",
      "optimal function value: -35.0\n",
      "optimal value: [0. 1. 0. 1. 0.]\n",
      "status: SUCCESS\n",
      "Number of samples (31) is too large to display. Skip.\n",
      "Expectation Value: -22.1865234375\n",
      "Highest Exp.Value: 0 with 10.449 %\n",
      "Lowest Exp.Value: -35 with 4.0039 %\n",
      "Highest Probability: -16 with 28.418 %\n",
      "Ratio r: 0.634\n",
      "Approiximation ratio: 0.634\n",
      "MSE: 108.13364916581374\n",
      "RMSE: 10.398733055801257\n"
     ]
    }
   ],
   "source": [
    "qaoa = CDR_QAOA(quantum_instance=qiGME, reps=1, initial_point=[0.1,0.1], optimizer=COBYLA(maxiter=100))\n",
    "result = MinimumEigenOptimizer(qaoa).solve(qubo)\n",
    "mean, r, ar = max_cut.analyse_evaluation(result, print_output=True)"
   ]
  },
  {
   "cell_type": "code",
   "execution_count": 30,
   "id": "494c3858",
   "metadata": {},
   "outputs": [],
   "source": [
    "from shared.cdr.cdr_qaoa import CDR_QAOA"
   ]
  },
  {
   "cell_type": "code",
   "execution_count": 31,
   "id": "eb4334f5",
   "metadata": {},
   "outputs": [],
   "source": [
    "qiGME = QuantumInstance(backend=Aer.get_backend('qasm_simulator'), noise_model=noise_model, coupling_map=coupling_map,basis_gates=basis_gates,   shots=1024)"
   ]
  },
  {
   "cell_type": "code",
   "execution_count": 32,
   "id": "c2ea3352",
   "metadata": {
    "scrolled": true
   },
   "outputs": [
    {
     "name": "stdout",
     "output_type": "stream",
     "text": [
      "run noise\n",
      "run simulator\n",
      "run noise\n",
      "run simulator\n",
      "run noise\n",
      "run simulator\n",
      "run noise\n",
      "run simulator\n",
      "run noise\n",
      "run simulator\n",
      "run noise\n",
      "run simulator\n",
      "run noise\n",
      "run simulator\n",
      "run noise\n",
      "run simulator\n",
      "run noise\n",
      "run simulator\n",
      "run noise\n",
      "run simulator\n",
      "run noise\n",
      "run simulator\n",
      "run noise\n",
      "run simulator\n",
      "run noise\n",
      "run simulator\n",
      "run noise\n",
      "run simulator\n",
      "run noise\n",
      "run simulator\n",
      "run noise\n",
      "run simulator\n",
      "run noise\n",
      "run simulator\n",
      "run noise\n",
      "run simulator\n",
      "run noise\n",
      "run simulator\n",
      "run noise\n",
      "run simulator\n",
      "run noise\n",
      "run simulator\n",
      "run noise\n",
      "run simulator\n",
      "run noise\n",
      "run simulator\n",
      "run noise\n",
      "run simulator\n",
      "run noise\n",
      "run simulator\n",
      "run noise\n",
      "run simulator\n",
      "optimal function value: -35.0\n",
      "optimal value: [0. 1. 0. 1. 0.]\n",
      "status: SUCCESS\n",
      "Number of samples (32) is too large to display. Skip.\n",
      "Expectation Value: -26.21484375\n",
      "Highest Exp.Value: 0 with 5.3711 %\n",
      "Lowest Exp.Value: -35 with 7.6172 %\n",
      "Highest Probability: -32 with 22.949 %\n",
      "Ratio r: 0.749\n",
      "Approiximation ratio: 0.749\n",
      "MSE: 114.70841745229868\n",
      "RMSE: 10.710201559835308\n"
     ]
    }
   ],
   "source": [
    "qaoa = CDR_QAOA(quantum_instance=qiGME, reps=1, initial_point=[0.1,0.1], optimizer=COBYLA(maxiter=100))\n",
    "result = MinimumEigenOptimizer(qaoa).solve(qubo)\n",
    "mean, r, ar = max_cut.analyse_evaluation(result, print_output=True)"
   ]
  },
  {
   "cell_type": "code",
   "execution_count": 61,
   "id": "e68fad7e",
   "metadata": {},
   "outputs": [
    {
     "name": "stdout",
     "output_type": "stream",
     "text": [
      "optimal function value: -35.0\n",
      "optimal value: [0. 1. 0. 1. 0.]\n",
      "status: SUCCESS\n",
      "Number of samples (32) is too large to display. Skip.\n",
      "Expectation Value: -27.0751953125\n",
      "Highest Exp.Value: 0 with 2.4414000000000002 %\n",
      "Lowest Exp.Value: -35 with 9.1797 %\n",
      "Highest Probability: -32 with 24.023 %\n",
      "Ratio r: 0.774\n",
      "Approiximation ratio: 0.774\n",
      "MSE: 120.31860505617581\n",
      "RMSE: 10.968983774998293\n"
     ]
    }
   ],
   "source": [
    "qiGME = QuantumInstance(backend=Aer.get_backend('qasm_simulator'),\n",
    "                                                       noise_model=noise_model, \n",
    "                               coupling_map=coupling_map,\n",
    "                               basis_gates=basis_gates,\n",
    "                               shots=1024)\n",
    "qaoa = QAOA(quantum_instance=qiGME, reps=1, initial_point=[0.1,0.1], optimizer=COBYLA(maxiter=10))\n",
    "result = MinimumEigenOptimizer(qaoa).solve(qubo)\n",
    "mean, r, ar = max_cut.analyse_evaluation(result, print_output=True)"
   ]
  },
  {
   "cell_type": "code",
   "execution_count": 54,
   "id": "a7232e18",
   "metadata": {},
   "outputs": [],
   "source": [
    "# Copyright (C) 2021 Unitary Fund\n",
    "#\n",
    "# This program is free software: you can redistribute it and/or modify\n",
    "# it under the terms of the GNU General Public License as published by\n",
    "# the Free Software Foundation, either version 3 of the License, or\n",
    "# (at your option) any later version.\n",
    "#\n",
    "# This program is distributed in the hope that it will be useful,\n",
    "# but WITHOUT ANY WARRANTY; without even the implied warranty of\n",
    "# MERCHANTABILITY or FITNESS FOR A PARTICULAR PURPOSE.  See the\n",
    "# GNU General Public License for more details.\n",
    "#\n",
    "# You should have received a copy of the GNU General Public License\n",
    "# along with this program.  If not, see <https://www.gnu.org/licenses/>.\n",
    "\n",
    "\"\"\"API for using Clifford Data Regression (CDR) error mitigation.\"\"\"\n",
    "\n",
    "from functools import wraps\n",
    "from typing import Any, Callable, cast, List, Optional, Sequence, Tuple, Union\n",
    "\n",
    "import numpy as np\n",
    "from scipy.optimize import curve_fit\n",
    "\n",
    "from cirq import Circuit\n",
    "\n",
    "from mitiq.interface import accept_any_qprogram_as_input\n",
    "\n",
    "from mitiq.cdr import (\n",
    "    generate_training_circuits,\n",
    "    linear_fit_function,\n",
    "    linear_fit_function_no_intercept,\n",
    ")\n",
    "from mitiq.cdr.execute import calculate_observable, MeasurementResult\n",
    "from mitiq.zne.scaling import fold_gates_at_random\n",
    "\n",
    "\n",
    "@wraps(accept_any_qprogram_as_input)\n",
    "def execute_with_cdr(\n",
    "    circuit: Circuit,\n",
    "    executor: Callable[[Circuit], MeasurementResult],\n",
    "    simulator: Callable[[Circuit], Union[MeasurementResult, np.ndarray]],\n",
    "    observables: List[np.ndarray],\n",
    "    num_training_circuits: int = 10,\n",
    "    fraction_non_clifford: float = 0.1,\n",
    "    fit_function: Callable[..., float] = linear_fit_function,\n",
    "    num_fit_parameters: Optional[int] = None,\n",
    "    scale_factors: Sequence[float] = (1,),\n",
    "    scale_noise: Callable[[Circuit, float], Circuit] = fold_gates_at_random,\n",
    "    full_output: bool = False,\n",
    "    **kwargs: Any,\n",
    ") -> Union[List[float], Tuple[List[float], np.ndarray]]:\n",
    "    \"\"\"Function for the calculation of an observable from some circuit of\n",
    "    interest to be mitigated with CDR (or vnCDR) based on [Czarnik2020]_ and\n",
    "    [Lowe2020]_.\n",
    "    The circuit of interest must be compiled in the native basis of the IBM\n",
    "    quantum computers, that is {Rz, sqrt(X), CNOT}, or such that all the\n",
    "    non-Clifford gates are contained in the Rz rotations.\n",
    "    The observable/s to be calculated should be input as an array or a list of\n",
    "    arrays representing the diagonal of the observables to be measured. Note\n",
    "    these observables MUST be diagonal in z-basis measurements corresponding to\n",
    "    the circuit of interest.\n",
    "    Returns mitigated observables list of raw observables (at noise scale\n",
    "    factors).\n",
    "    This function returns the mitigated observable/s.\n",
    "    Args:\n",
    "        circuit: Circuit of interest compiled in the correct basis.\n",
    "        executor: User defined function taking a cirq Circuit object and\n",
    "                  returning a dictionary of counts.\n",
    "        simulator: User defined function taking a cirq Circuit object and\n",
    "                   returning either a simulated dictionary of counts or an\n",
    "                   np.ndarray representing the state vector.\n",
    "        observables: List of arrays containing the diagonal elements of\n",
    "                    observable/s of interest to be mitigated. If a list is\n",
    "                    passed all these observables will be mitigates with the\n",
    "                    same training set.\n",
    "        num_training_circuits: Number of training circuits to be used in the\n",
    "                               mitigation.\n",
    "        fraction_non_clifford: The fraction of non-Clifford gates to be\n",
    "                               substituted in the training circuits. The higher\n",
    "                               this fraction the more costly the simulations,\n",
    "                               but more successful the mitigation.\n",
    "        fit_function: The function to map noisy to exact data. Takes array of\n",
    "                      noisy and data and parameters returning a float.\n",
    "        num_fit_parameters: The number of parameters the fit_function takes.\n",
    "        scale_noise: Optional argument containing a user defined function on\n",
    "                     how to increase the noise. If this argument is given then\n",
    "                     the mitigation method will be vnCDR.\n",
    "        scale_factors: Factors by which to scale the noise, should not\n",
    "                               include 1 as this is just the original circuit.\n",
    "        full_output: If True, returns ⟨𝛹| O |𝛹⟩ for each training circuit\n",
    "            |𝛹⟩ (including the original circuit) and each observable O. The\n",
    "            ith row of this 2d array corresponds to the ith observable, and\n",
    "            the jth column corresponds to the jth training circuit.\n",
    "        kwargs: Available keyword arguments are:\n",
    "            - method_select (string): Specifies the method used to select the\n",
    "                non-Clifford gates to replace when constructing the\n",
    "                near-Clifford training circuits. Can be 'uniform' or\n",
    "                'gaussian'.\n",
    "            - method_replace (string): Specifies the method used to replace\n",
    "                the selected non-Clifford gates with a Clifford when\n",
    "                constructing the near-Clifford training circuits. Can be\n",
    "                'uniform', 'gaussian', or 'closest'.\n",
    "            - sigma_select (float): Width of the Gaussian distribution used for\n",
    "                ``method_select='gaussian'``.\n",
    "            - sigma_replace (float): Width of the Gaussian distribution used\n",
    "                for ``method_replace='gaussian'``.\n",
    "            - random_state (int): Seed for sampling.\n",
    "    Returns: A list of error mitigated observable expectation values. If\n",
    "        full_output is True, also returns the observable expectation values\n",
    "        for each training circuit (see above).\n",
    "    .. [Czarnik2020] : Piotr Czarnik, Andrew Arramsmith, Patrick Coles,\n",
    "        Lukasz Cincio, \"Error mitigation with Clifford quantum circuit\n",
    "        data,\" (https://arxiv.org/abs/2005.10189).\n",
    "    .. [Lowe2020] : Angus Lowe, Max Hunter Gordon, Piotr Czarnik,\n",
    "        Andrew Arramsmith, Patrick Coles, Lukasz Cincio,\n",
    "        \"Unified approach to data-driven error mitigation,\"\n",
    "        (https://arxiv.org/abs/2011.01157).\n",
    "    \"\"\"\n",
    "    # Handle keyword arguments for generating training circuits.\n",
    "    method_select = kwargs.get(\"method_select\", \"uniform\")\n",
    "    method_replace = kwargs.get(\"method_replace\", \"closest\")\n",
    "    random_state = kwargs.get(\"random_state\", None)\n",
    "    kwargs_for_training_set_generation = {\n",
    "        \"sigma_select\": kwargs.get(\"sigma_select\"),\n",
    "        \"sigma_replace\": kwargs.get(\"sigma_replace\"),\n",
    "    }\n",
    "\n",
    "    if num_fit_parameters is None and fit_function not in (\n",
    "        linear_fit_function,\n",
    "        linear_fit_function_no_intercept,\n",
    "    ):\n",
    "        raise ValueError(\n",
    "            \"Must provide arg `num_fit_parameters` for custom fit function.\"\n",
    "        )\n",
    "    num_fit_parameters = cast(int, num_fit_parameters)\n",
    "\n",
    "    # Generate training circuits.\n",
    "    training_circuits = generate_training_circuits(\n",
    "        circuit,\n",
    "        num_training_circuits,\n",
    "        fraction_non_clifford,\n",
    "        method_select,\n",
    "        method_replace,\n",
    "        random_state,\n",
    "        kwargs=kwargs_for_training_set_generation,\n",
    "    )\n",
    "\n",
    "    # [Optionally] Scale noise in circuits.\n",
    "    all_circuits = [\n",
    "        [scale_noise(c, s) for s in scale_factors]\n",
    "        for c in [circuit] + training_circuits  # type: ignore\n",
    "    ]\n",
    "\n",
    "    # Execute all circuits to get MeasurementResult's. TODO: Allow batching.\n",
    "    noisy_counts = np.array(\n",
    "        [[executor(circ) for circ in circuits] for circuits in all_circuits]\n",
    "    )\n",
    "    ideal_counts = np.array([simulator(circ) for circ in all_circuits[0]])\n",
    "\n",
    "    results_dict_circuit_of_interest = noisy_counts[:, 0]\n",
    "\n",
    "    mitigated_observables = []\n",
    "    raw_observables = []\n",
    "    for obs in observables:\n",
    "        circuit_data = np.array(\n",
    "            [\n",
    "                calculate_observable(measurements, obs)\n",
    "                for measurements in results_dict_circuit_of_interest\n",
    "            ]\n",
    "        )\n",
    "        raw_observables.append(list(circuit_data))\n",
    "\n",
    "        # Get the noisy ⟨𝛹| O |𝛹⟩ from the noisy (executor) counts.\n",
    "        noisy_expectation_values = np.array(\n",
    "            [\n",
    "                [\n",
    "                    calculate_observable(measurements, obs)\n",
    "                    for measurements in row\n",
    "                ]\n",
    "                for row in noisy_counts\n",
    "            ]\n",
    "        )\n",
    "\n",
    "        # Get the exact ⟨𝛹| O |𝛹⟩ from the exact (simulator) counts.\n",
    "        ideal_expectation_values = np.array(\n",
    "            [\n",
    "                calculate_observable(\n",
    "                    state_or_measurements=measurements, observable=obs\n",
    "                )\n",
    "                for measurements in ideal_counts\n",
    "            ]\n",
    "        )\n",
    "\n",
    "        # Do the regression.\n",
    "        fitted_params, _ = curve_fit(\n",
    "            lambda x, *params: fit_function(x, params),\n",
    "            noisy_expectation_values,\n",
    "            ideal_expectation_values,\n",
    "            p0=np.zeros(num_fit_parameters),\n",
    "        )\n",
    "        mitigated_observables.append(fit_function(circuit_data, fitted_params))\n",
    "\n",
    "    if not full_output:\n",
    "        return mitigated_observables, fitted_params\n",
    "    return mitigated_observables, np.array(raw_observables)\n",
    "\n",
    "\n",
    "\n",
    "@wraps(accept_any_qprogram_as_input)\n",
    "def execute_with_cdr_2(\n",
    "    fitted_params,\n",
    "    circuit: Circuit,\n",
    "    executor: Callable[[Circuit], MeasurementResult],\n",
    "    simulator: Callable[[Circuit], Union[MeasurementResult, np.ndarray]],\n",
    "    observables: List[np.ndarray],\n",
    "    num_training_circuits: int = 10,\n",
    "    fraction_non_clifford: float = 0.1,\n",
    "    fit_function: Callable[..., float] = linear_fit_function,\n",
    "    num_fit_parameters: Optional[int] = None,\n",
    "    scale_factors: Sequence[float] = (1,),\n",
    "    scale_noise: Callable[[Circuit, float], Circuit] = fold_gates_at_random,\n",
    "    full_output: bool = False,\n",
    "    **kwargs: Any,\n",
    ") -> Union[List[float], Tuple[List[float], np.ndarray]]:\n",
    "\n",
    " \n",
    "    method_select = kwargs.get(\"method_select\", \"uniform\")\n",
    "    method_replace = kwargs.get(\"method_replace\", \"closest\")\n",
    "    random_state = kwargs.get(\"random_state\", None)\n",
    "    kwargs_for_training_set_generation = {\n",
    "        \"sigma_select\": kwargs.get(\"sigma_select\"),\n",
    "        \"sigma_replace\": kwargs.get(\"sigma_replace\"),\n",
    "    }\n",
    "\n",
    "    if num_fit_parameters is None and fit_function not in (\n",
    "        linear_fit_function,\n",
    "        linear_fit_function_no_intercept,\n",
    "    ):\n",
    "        raise ValueError(\n",
    "            \"Must provide arg `num_fit_parameters` for custom fit function.\"\n",
    "        )\n",
    "    num_fit_parameters = cast(int, num_fit_parameters)\n",
    "\n",
    "    # Generate training circuits.\n",
    "    training_circuits = []\n",
    "\n",
    "    # [Optionally] Scale noise in circuits.\n",
    "    all_circuits = [\n",
    "        [scale_noise(c, s) for s in scale_factors]\n",
    "        for c in [circuit] + training_circuits  # type: ignore\n",
    "    ]\n",
    "\n",
    "    # Execute all circuits to get MeasurementResult's. TODO: Allow batching.\n",
    "    noisy_counts = np.array(\n",
    "        [[executor(circ) for circ in circuits] for circuits in all_circuits]\n",
    "    )\n",
    "    #ideal_counts = np.array([simulator(circ) for circ in all_circuits[0]])\n",
    "\n",
    "    results_dict_circuit_of_interest = noisy_counts[:, 0]\n",
    "    mitigated_observables = []\n",
    "    raw_observables = []\n",
    "    for obs in observables:\n",
    "        circuit_data = np.array(\n",
    "            [\n",
    "                calculate_observable(measurements, obs)\n",
    "                for measurements in results_dict_circuit_of_interest\n",
    "            ]\n",
    "        )\n",
    "        \n",
    "        mitigated_observables.append(fit_function(circuit_data, fitted_params))\n",
    "\n",
    "    if not full_output:\n",
    "        return mitigated_observables, fitted_params\n",
    "    return mitigated_observables, np.array(raw_observables)"
   ]
  },
  {
   "cell_type": "code",
   "execution_count": 27,
   "id": "a41b456d",
   "metadata": {},
   "outputs": [
    {
     "name": "stdout",
     "output_type": "stream",
     "text": [
      "run noisee\n",
      "run noisee\n",
      "run noisee\n",
      "run noisee\n",
      "run noisee\n",
      "run noisee\n",
      "run noisee\n",
      "run noisee\n",
      "run noisee\n",
      "run noisee\n",
      "run noisee\n",
      "run simulator\n"
     ]
    },
    {
     "data": {
      "text/plain": [
       "[0.05273437500000001]"
      ]
     },
     "execution_count": 27,
     "metadata": {},
     "output_type": "execute_result"
    }
   ],
   "source": [
    "o, f = execute_with_cdr(\n",
    "    circuit=circuit,\n",
    "    executor=sample_bitstrings,\n",
    "    observables=[obs],\n",
    "    simulator=sample_bitstrings_simulator,\n",
    ")\n",
    "o"
   ]
  },
  {
   "cell_type": "code",
   "execution_count": 28,
   "id": "3bdc9766",
   "metadata": {},
   "outputs": [
    {
     "name": "stdout",
     "output_type": "stream",
     "text": [
      "run noisee\n"
     ]
    },
    {
     "data": {
      "text/plain": [
       "([0.05198317307692308], array([0.05128205]))"
      ]
     },
     "execution_count": 28,
     "metadata": {},
     "output_type": "execute_result"
    }
   ],
   "source": [
    "execute_with_cdr_2(\n",
    "    f,\n",
    "    circuit=circuit,\n",
    "    executor=sample_bitstrings,\n",
    "    observables=[obs],\n",
    "    simulator=sample_bitstrings_simulator,\n",
    ")"
   ]
  },
  {
   "cell_type": "code",
   "execution_count": null,
   "id": "1bf14a0f",
   "metadata": {},
   "outputs": [],
   "source": []
  }
 ],
 "metadata": {
  "kernelspec": {
   "display_name": "python3.8",
   "language": "python",
   "name": "python3.8"
  },
  "language_info": {
   "codemirror_mode": {
    "name": "ipython",
    "version": 3
   },
   "file_extension": ".py",
   "mimetype": "text/x-python",
   "name": "python",
   "nbconvert_exporter": "python",
   "pygments_lexer": "ipython3",
   "version": "3.8.6"
  }
 },
 "nbformat": 4,
 "nbformat_minor": 5
}
