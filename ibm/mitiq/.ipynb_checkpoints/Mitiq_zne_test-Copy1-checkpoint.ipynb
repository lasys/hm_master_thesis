{
 "cells": [
  {
   "cell_type": "code",
   "execution_count": 1,
   "id": "261f0d91",
   "metadata": {},
   "outputs": [],
   "source": [
    "import sys\n",
    "import os\n",
    "sys.path.insert(0, os.path.abspath('../'))\n",
    "sys.path.insert(0, os.path.abspath('../../'))\n",
    "\n",
    "\n",
    "import numpy as np\n",
    "from scipy.optimize import minimize\n",
    "import networkx as nx\n",
    "\n",
    "import qiskit \n",
    "# Importing standard Qiskit libraries\n",
    "from qiskit import QuantumCircuit, transpile, Aer, IBMQ, QuantumRegister, ClassicalRegister\n",
    "from qiskit.tools.jupyter import *\n",
    "from qiskit.visualization import *\n",
    "from qiskit.providers.aer import QasmSimulator\n",
    "from qiskit.algorithms import QAOA\n",
    "from qiskit_optimization.algorithms import MinimumEigenOptimizer\n",
    "from shared.QiskitMaxcut import *\n",
    "from qiskit.utils import QuantumInstance\n",
    "from qiskit.result import Result\n",
    "from qiskit.converters import circuit_to_dag, dag_to_circuit\n",
    "from qiskit.algorithms.optimizers import SPSA, COBYLA, QNSPSA\n",
    "from qiskit.ignis.mitigation.measurement import CompleteMeasFitter\n",
    "%matplotlib inline\n",
    "\n",
    "# Loading your IBM Quantum account(s)\n",
    "provider = IBMQ.load_account()\n",
    "provider = qiskit.IBMQ.get_provider(hub='ibm-q-unibw', group='hochschule-muc', project='masterarbeit')\n",
    "# https://arxiv.org/pdf/2011.10860.pdf"
   ]
  },
  {
   "cell_type": "code",
   "execution_count": 2,
   "id": "1001003c",
   "metadata": {},
   "outputs": [],
   "source": [
    "from shared.graph_helper import load_nx_graph_from, generate_butterfly_graph"
   ]
  },
  {
   "cell_type": "code",
   "execution_count": 3,
   "id": "37d8dfe9",
   "metadata": {},
   "outputs": [],
   "source": [
    "from qiskit.providers.aer.noise import NoiseModel\n",
    "from qiskit.ignis.mitigation.measurement import CompleteMeasFitter\n",
    "\n",
    "noise_backend = provider.get_backend(\"ibmq_toronto\")\n",
    "noise_model = NoiseModel.from_backend(noise_backend)\n",
    "coupling_map = noise_backend.configuration().coupling_map\n",
    "basis_gates = noise_model.basis_gates"
   ]
  },
  {
   "cell_type": "code",
   "execution_count": 4,
   "id": "22044782",
   "metadata": {},
   "outputs": [],
   "source": [
    "def display_mean_and_std(means, ars):\n",
    "    print(f\"Number of Evaluations: {n_evaluations}\")\n",
    "    print(f\"Mean of Mean: {np.round(np.mean(means), 4)}, Std: {np.round(np.std(means), 4)}, Median: {np.round( np.median(means),4)}\")\n",
    "    print(f\"Mean of Approx. Ratio: {np.round(np.mean(ars), 4)}, Std: {np.round(np.std(ars), 4)}, Median: {np.round( np.median(ars),4)}\")"
   ]
  },
  {
   "cell_type": "code",
   "execution_count": 5,
   "id": "f7d000ac",
   "metadata": {},
   "outputs": [],
   "source": [
    "def generate_sample_graph(with_weights=True):\n",
    "    # Generate a graph of 5 nodes\n",
    "    # filename = graph_05_06_02_w.txt\n",
    "    n = 4\n",
    "    graph = nx.Graph()\n",
    "    graph.add_nodes_from(np.arange(0, n, 1))\n",
    "    elist = [(0, 1, 1), (1, 2, 1), (2, 3, 1), (3, 0, 1)]\n",
    "    graph.add_weighted_edges_from(elist)\n",
    "    \n",
    "    return graph"
   ]
  },
  {
   "cell_type": "code",
   "execution_count": 6,
   "id": "23afadf8",
   "metadata": {},
   "outputs": [
    {
     "data": {
      "image/png": "[encoded data removed]",
      "text/plain": [
       "<Figure size 432x288 with 1 Axes>"
      ]
     },
     "metadata": {},
     "output_type": "display_data"
    }
   ],
   "source": [
    "graph = load_nx_graph_from(f\"landscape/simulator/comparison_3_reg/data/graph_3_reg_8_12_01.txt\")#generate_butterfly_graph(with_weights=False)\n",
    "opt_max_cut = -10\n",
    "max_cut = Maxcut(graph, opt_max_cut)\n",
    "qubo = max_cut.to_qubo()\n",
    "max_cut.draw()"
   ]
  },
  {
   "cell_type": "code",
   "execution_count": 7,
   "id": "51fcf0fa",
   "metadata": {},
   "outputs": [],
   "source": [
    "# Minimum \n",
    "initial_point=[ 0.1,  0.4 ]"
   ]
  },
  {
   "cell_type": "code",
   "execution_count": 8,
   "id": "fab96025",
   "metadata": {},
   "outputs": [],
   "source": [
    "maxiter=0\n",
    "shots=8192\n",
    "reps=1\n",
    "n_evaluations = 20"
   ]
  },
  {
   "cell_type": "code",
   "execution_count": 14,
   "id": "4d95c95b",
   "metadata": {},
   "outputs": [
    {
     "name": "stdout",
     "output_type": "stream",
     "text": [
      "The autoreload extension is already loaded. To reload it, use:\n",
      "  %reload_ext autoreload\n"
     ]
    }
   ],
   "source": [
    "%load_ext autoreload\n",
    "%autoreload 2"
   ]
  },
  {
   "cell_type": "markdown",
   "id": "ac2c01e3",
   "metadata": {},
   "source": [
    "# Simulator with Noise Model"
   ]
  },
  {
   "cell_type": "code",
   "execution_count": 19,
   "id": "7d1e17a3",
   "metadata": {},
   "outputs": [],
   "source": [
    "from shared.Mitiq_QAOA import *"
   ]
  },
  {
   "cell_type": "code",
   "execution_count": 20,
   "id": "898d446e",
   "metadata": {},
   "outputs": [],
   "source": [
    "d = \"\"\"\n",
    "OPENQASM 2.0;\n",
    "\n",
    "include \"qelib1.inc\";\n",
    "\n",
    "qreg q[5];\n",
    "\n",
    "h q[0]; h q[1]; h q[2]; h q[3]; h q[4]; cx q[3],q[0]; rz(-13.2300000000000) q[0]; cx q[3],q[0]; cx q[4],q[0]; rz(-8.82000000000000) q[0]; cx q[4],q[0]; cx q[2],q[1]; rz(-13.2300000000000) q[1]; cx q[2],q[1]; cx q[4],q[1]; rz(-14.7000000000000) q[1]; cx q[4],q[1]; cx q[4],q[2]; rz(-10.2900000000000) q[2]; cx q[4],q[2]; cx q[4],q[3]; rz(-10.2900000000000) q[3]; cx q[4],q[3]; rx(-4.68000000000000) q[0]; rx(-4.68000000000000) q[1]; rx(-4.68000000000000) q[2]; rx(-4.68000000000000) q[3]; rx(-4.68000000000000) q[4];\n",
    "\"\"\""
   ]
  },
  {
   "cell_type": "code",
   "execution_count": 22,
   "id": "05610212",
   "metadata": {},
   "outputs": [],
   "source": [
    "def remove_custom_gate(qasm):\n",
    "    gates = \"\"\n",
    "    output = \"\"\n",
    "    n_qubits = 0\n",
    "    for line in qasm.split('\\n'):\n",
    "        if line.startswith('gate QAOA'):\n",
    "            gates = line[ line.find('{') + 1 : line.find('}') ]\n",
    "            continue\n",
    "        if line.startswith('QAOA'):\n",
    "            continue\n",
    "        \n",
    "        if line.startswith('qreg'):\n",
    "            n_qubits = [int(s) for s in line if s.isdigit()][0]\n",
    "        \n",
    "        output += f\"{line}\\n \"\n",
    "        \n",
    "    for n in range(0, n_qubits):\n",
    "        gates = gates.replace(f'q{n}', f'q[{n}]')\n",
    "    output += gates\n",
    "    return output\n",
    "        "
   ]
  },
  {
   "cell_type": "code",
   "execution_count": 83,
   "id": "66f03e9d",
   "metadata": {},
   "outputs": [],
   "source": [
    "qasm_in = \"\"\"\n",
    "OPENQASM 2.0;\n",
    "include \"qelib1.inc\";\n",
    "gate QAOA(param0,param1) q0,q1,q2,q3,q4,q5,q6,q7 { h q0; h q1; h q2; h q3; h q4; h q5; h q6; h q7; cx q1,q0; rz(0.100000000000000) q0; cx q1,q0; cx q2,q0; rz(0.100000000000000) q0; cx q2,q0; cx q5,q0; rz(0.100000000000000) q0; cx q5,q0; cx q4,q1; rz(0.100000000000000) q1; cx q4,q1; cx q7,q1; rz(0.100000000000000) q1; cx q7,q1; cx q3,q2; rz(0.100000000000000) q2; cx q3,q2; cx q5,q2; rz(0.100000000000000) q2; cx q5,q2; cx q6,q3; rz(0.100000000000000) q3; cx q6,q3; cx q7,q3; rz(0.100000000000000) q3; cx q7,q3; cx q5,q4; rz(0.100000000000000) q4; cx q5,q4; cx q6,q4; rz(0.100000000000000) q4; cx q6,q4; cx q7,q6; rz(0.100000000000000) q6; cx q7,q6; rx(0.800000000000000) q0; rx(0.800000000000000) q1; rx(0.800000000000000) q2; rx(0.800000000000000) q3; rx(0.800000000000000) q4; rx(0.800000000000000) q5; rx(0.800000000000000) q6; rx(0.800000000000000) q7; }\n",
    "qreg q[8];\n",
    "QAOA(0.100000000000000,0.400000000000000) q[0],q[1],q[2],q[3],q[4],q[5],q[6],q[7];\n",
    "\"\"\""
   ]
  },
  {
   "cell_type": "code",
   "execution_count": 105,
   "id": "b15a2944",
   "metadata": {},
   "outputs": [],
   "source": [
    "qasm_in=\"\"\"\n",
    "\n",
    "OPENQASM 2.0;\n",
    "include \"qelib1.inc\";\n",
    "qreg q[5];\n",
    "h q[0];\n",
    "h q[1];\n",
    "h q[2];\n",
    "cx q[2],q[1];\n",
    "rz(23.0575681346246) q[1];\n",
    "cx q[2],q[1];\n",
    "h q[3];\n",
    "cx q[3],q[0];\n",
    "rz(23.0575681346246) q[0];\n",
    "cx q[3],q[0];\n",
    "h q[4];\n",
    "cx q[4],q[0];\n",
    "rz(15.3717120897497) q[0];\n",
    "cx q[4],q[0];\n",
    "rx(8.02163355847986) q[0];\n",
    "cx q[4],q[1];\n",
    "rz(25.6195201495829) q[1];\n",
    "cx q[4],q[1];\n",
    "rx(8.02163355847986) q[1];\n",
    "cx q[4],q[2];\n",
    "rz(17.9336641047080) q[2];\n",
    "cx q[4],q[2];\n",
    "rx(8.02163355847986) q[2];\n",
    "cx q[4],q[3];\n",
    "rz(-17.9336641047080) q[3];\n",
    "cx q[4],q[3];\n",
    "rx(8.02163355847986) q[3];\n",
    "rx(-8.02163355847986) q[4];\n",
    "\n",
    "\n",
    "\"\"\""
   ]
  },
  {
   "cell_type": "code",
   "execution_count": 108,
   "id": "a7746e9e",
   "metadata": {},
   "outputs": [],
   "source": [
    "import re \n",
    "def hash_circuit(qasm):\n",
    "    \n",
    "    gates_str = \"\"\n",
    "    for line in qasm.split('\\n'):\n",
    "        if line.startswith('OPEN') or line.startswith('include') or line.startswith('qreg') or line.startswith('creg'):\n",
    "            continue\n",
    "        gates_str += line\n",
    "    #print(gates_str)\n",
    "    hashstr = re.sub(r'\\((-?[0-9]*.[0-9]*)\\)', '', gates_str)\n",
    "    hashstr = hashstr.replace(' ','')\n",
    "    print(hashstr)\n",
    "    return hash(hashstr)"
   ]
  },
  {
   "cell_type": "code",
   "execution_count": 109,
   "id": "f85e4bf5",
   "metadata": {},
   "outputs": [
    {
     "name": "stdout",
     "output_type": "stream",
     "text": [
      "hq[0];hq[1];hq[2];cxq[2],q[1];rzq[1];cxq[2],q[1];hq[3];cxq[3],q[0];rzq[0];cxq[3],q[0];hq[4];cxq[4],q[0];rzq[0];cxq[4],q[0];rxq[0];cxq[4],q[1];rzq[1];cxq[4],q[1];rxq[1];cxq[4],q[2];rzq[2];cxq[4],q[2];rxq[2];cxq[4],q[3];rzq[3];cxq[4],q[3];rxq[3];rxq[4];\n",
      "-7330087085792518301\n"
     ]
    }
   ],
   "source": [
    "print(hash_circuit(qasm_in))"
   ]
  },
  {
   "cell_type": "code",
   "execution_count": 36,
   "id": "3f498ae3",
   "metadata": {
    "scrolled": false
   },
   "outputs": [],
   "source": [
    "gem_means = []\n",
    "gem_ars = []\n",
    "for e in range(0,n_evaluations):\n",
    "    # QAOA with GEM\n",
    "    qiGME = QuantumInstance(backend=Aer.get_backend('qasm_simulator'),\n",
    "                               noise_model=noise_model, \n",
    "                               coupling_map=coupling_map,\n",
    "                               basis_gates=basis_gates,\n",
    "                               shots=shots)\n",
    "    qaoa = Mitiq_QAOA(quantum_instance=qiGME, reps=reps, initial_point=initial_point, optimizer=COBYLA(maxiter=maxiter))\n",
    "\n",
    "    result = MinimumEigenOptimizer(qaoa).solve(qubo)\n",
    "    mean, r, ar = max_cut.analyse_evaluation(result, print_output=False)\n",
    "    gem_means.append(mean)\n",
    "    gem_ars.append(ar)"
   ]
  },
  {
   "cell_type": "code",
   "execution_count": 37,
   "id": "5f114ab1",
   "metadata": {},
   "outputs": [
    {
     "name": "stdout",
     "output_type": "stream",
     "text": [
      "Number of Evaluations: 20\n",
      "Mean of Mean: -5.6114, Std: 0.031, Median: -5.6002\n",
      "Mean of Approx. Ratio: 0.5611, Std: 0.0031, Median: 0.56\n"
     ]
    }
   ],
   "source": [
    "display_mean_and_std(gem_means, gem_ars)"
   ]
  },
  {
   "cell_type": "code",
   "execution_count": 31,
   "id": "51fdfc87",
   "metadata": {},
   "outputs": [],
   "source": [
    "from shared.zne_qaoa import ZNE_QAOA"
   ]
  },
  {
   "cell_type": "code",
   "execution_count": 32,
   "id": "320c259b",
   "metadata": {},
   "outputs": [],
   "source": [
    "qiGME = QuantumInstance(backend=Aer.get_backend('qasm_simulator'),\n",
    "                               noise_model=noise_model, \n",
    "                               coupling_map=coupling_map,\n",
    "                               basis_gates=basis_gates,\n",
    "                               shots=shots)\n",
    "qaoa = ZNE_QAOA(quantum_instance=qiGME, reps=reps, initial_point=[0.1, 0.1], optimizer=COBYLA(maxiter=100))\n",
    "\n",
    "result = MinimumEigenOptimizer(qaoa).solve(qubo)"
   ]
  },
  {
   "cell_type": "code",
   "execution_count": 33,
   "id": "118f672c",
   "metadata": {},
   "outputs": [
    {
     "name": "stdout",
     "output_type": "stream",
     "text": [
      "optimal function value: -10.0\n",
      "optimal value: [0. 1. 1. 0. 0. 1. 1. 0.]\n",
      "status: SUCCESS\n",
      "Number of samples (256) is too large to display. Skip.\n",
      "Expectation Value: -6.9871826171875\n",
      "Highest Exp.Value: 0 with 0.10985999999999999 %\n",
      "Lowest Exp.Value: -10 with 5.542 %\n",
      "Highest Probability: -7 with 27.82 %\n",
      "Ratio r: 0.699\n",
      "Approiximation ratio: 0.699\n",
      "MSE: 10.302166238427162\n",
      "RMSE: 3.2096987768990353\n"
     ]
    }
   ],
   "source": [
    "mean, r, ar = max_cut.analyse_evaluation(result, print_output=True)"
   ]
  },
  {
   "cell_type": "code",
   "execution_count": 34,
   "id": "e98e5916",
   "metadata": {},
   "outputs": [],
   "source": [
    "qi = QuantumInstance(backend=Aer.get_backend('qasm_simulator'),\n",
    "                         noise_model=noise_model, \n",
    "                         coupling_map=coupling_map,\n",
    "                         basis_gates=basis_gates,\n",
    "                         measurement_error_mitigation_cls=CompleteMeasFitter,\n",
    "                         measurement_error_mitigation_shots=shots,\n",
    "                         shots=shots)\n",
    "qaoa = QAOA(quantum_instance=qi,reps=reps,initial_point=[0.1, 0.1], optimizer=COBYLA(maxiter=100))\n",
    "algorithm = MinimumEigenOptimizer(qaoa)\n",
    "result = algorithm.solve(qubo)\n",
    "mean, r, ar = max_cut.analyse_evaluation(result, print_output=True)"
   ]
  },
  {
   "cell_type": "code",
   "execution_count": 36,
   "id": "b5e4ebb4",
   "metadata": {},
   "outputs": [
    {
     "data": {
      "text/plain": [
       "0.6935483608767037"
      ]
     },
     "execution_count": 36,
     "metadata": {},
     "output_type": "execute_result"
    }
   ],
   "source": [
    "ar"
   ]
  },
  {
   "cell_type": "markdown",
   "id": "9fa21462",
   "metadata": {},
   "source": [
    "### EM"
   ]
  },
  {
   "cell_type": "code",
   "execution_count": 33,
   "id": "26a684d9",
   "metadata": {},
   "outputs": [],
   "source": [
    "em_means = []\n",
    "em_ars = []\n",
    "for e in range(0,n_evaluations):\n",
    "    qi = QuantumInstance(backend=Aer.get_backend('qasm_simulator'),\n",
    "                         noise_model=noise_model, \n",
    "                         coupling_map=coupling_map,\n",
    "                         basis_gates=basis_gates,\n",
    "                         measurement_error_mitigation_cls=CompleteMeasFitter,\n",
    "                         measurement_error_mitigation_shots=shots,\n",
    "                         shots=shots)\n",
    "    qaoa = QAOA(quantum_instance=qi,reps=reps, initial_point=initial_point, optimizer=COBYLA(maxiter=maxiter))\n",
    "    algorithm = MinimumEigenOptimizer(qaoa)\n",
    "    result = algorithm.solve(qubo)\n",
    "    mean, r, ar = max_cut.analyse_evaluation(result, print_output=False)\n",
    "    em_means.append(mean)\n",
    "    em_ars.append(ar)\n"
   ]
  },
  {
   "cell_type": "code",
   "execution_count": 34,
   "id": "7aa72cc8",
   "metadata": {},
   "outputs": [
    {
     "name": "stdout",
     "output_type": "stream",
     "text": [
      "Number of Evaluations: 20\n",
      "Mean of Mean: -5.5936, Std: 0.0284, Median: -5.5923\n",
      "Mean of Approx. Ratio: 0.5594, Std: 0.0028, Median: 0.5592\n"
     ]
    }
   ],
   "source": [
    "display_mean_and_std(em_means, em_ars)"
   ]
  },
  {
   "cell_type": "markdown",
   "id": "7c1ac5db",
   "metadata": {},
   "source": [
    "### No Mitigation"
   ]
  },
  {
   "cell_type": "code",
   "execution_count": 31,
   "id": "a60c7c63",
   "metadata": {},
   "outputs": [],
   "source": [
    "means = []\n",
    "ars = []\n",
    "for e in range(0,n_evaluations):\n",
    "    qi = QuantumInstance(backend=Aer.get_backend('qasm_simulator'),\n",
    "                         noise_model=noise_model, \n",
    "                         coupling_map=coupling_map,\n",
    "                         basis_gates=basis_gates,\n",
    "                         shots=shots)\n",
    "    qaoa = QAOA(quantum_instance=qi,reps=reps, initial_point=initial_point, optimizer=COBYLA(maxiter=maxiter))\n",
    "    algorithm = MinimumEigenOptimizer(qaoa)\n",
    "    result = algorithm.solve(qubo)\n",
    "    mean, r, ar = max_cut.analyse_evaluation(result, print_output=False)\n",
    "    means.append(mean)\n",
    "    ars.append(ar)"
   ]
  },
  {
   "cell_type": "code",
   "execution_count": 32,
   "id": "f9d8f7ab",
   "metadata": {},
   "outputs": [
    {
     "name": "stdout",
     "output_type": "stream",
     "text": [
      "Number of Evaluations: 20\n",
      "Mean of Mean: -5.6244, Std: 0.0249, Median: -5.6198\n",
      "Mean of Approx. Ratio: 0.5624, Std: 0.0025, Median: 0.562\n"
     ]
    }
   ],
   "source": [
    "display_mean_and_std(means, ars)"
   ]
  },
  {
   "cell_type": "markdown",
   "id": "6a2ce511",
   "metadata": {},
   "source": [
    "## Results "
   ]
  },
  {
   "cell_type": "markdown",
   "id": "df52f1a4",
   "metadata": {},
   "source": [
    "### GEM"
   ]
  },
  {
   "cell_type": "code",
   "execution_count": 21,
   "id": "cae6c5d0",
   "metadata": {},
   "outputs": [
    {
     "name": "stdout",
     "output_type": "stream",
     "text": [
      "GEM: \n",
      "Number of Evaluations: 20\n",
      "Mean of Mean: -3.5751, Std: 0.0425, Median: -3.5881\n",
      "Mean of Approx. Ratio: 0.8938, Std: 0.0106, Median: 0.897\n",
      "\n",
      "EM: \n",
      "Number of Evaluations: 20\n",
      "Mean of Mean: -3.639, Std: 0.0323, Median: -3.643\n",
      "Mean of Approx. Ratio: 0.9097, Std: 0.0081, Median: 0.9108\n",
      "\n",
      "No Error Mitigation: \n",
      "Number of Evaluations: 20\n",
      "Mean of Mean: -3.6278, Std: 0.0195, Median: -3.6329\n",
      "Mean of Approx. Ratio: 0.907, Std: 0.0049, Median: 0.9082\n"
     ]
    }
   ],
   "source": [
    "print(\"GEM: \")\n",
    "display_mean_and_std(gem_means, gem_ars)\n",
    "print()\n",
    "print(\"EM: \")\n",
    "display_mean_and_std(em_means, em_ars)\n",
    "print()\n",
    "print(\"No Error Mitigation: \")\n",
    "display_mean_and_std(means, ars)"
   ]
  },
  {
   "cell_type": "code",
   "execution_count": null,
   "id": "30e60dcd",
   "metadata": {},
   "outputs": [],
   "source": []
  }
 ],
 "metadata": {
  "kernelspec": {
   "display_name": "python3.8",
   "language": "python",
   "name": "python3.8"
  },
  "language_info": {
   "codemirror_mode": {
    "name": "ipython",
    "version": 3
   },
   "file_extension": ".py",
   "mimetype": "text/x-python",
   "name": "python",
   "nbconvert_exporter": "python",
   "pygments_lexer": "ipython3",
   "version": "3.8.6"
  }
 },
 "nbformat": 4,
 "nbformat_minor": 5
}
