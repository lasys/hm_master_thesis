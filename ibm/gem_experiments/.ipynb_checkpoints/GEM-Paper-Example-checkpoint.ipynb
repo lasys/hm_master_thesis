{
 "cells": [
  {
   "cell_type": "code",
   "execution_count": 2,
   "id": "c5201200",
   "metadata": {},
   "outputs": [],
   "source": [
    "import numpy as np\n",
    "import qiskit \n",
    "# Importing standard Qiskit libraries\n",
    "from qiskit import QuantumCircuit, transpile, Aer, IBMQ\n",
    "from qiskit.tools.jupyter import *\n",
    "from qiskit.visualization import *\n",
    "from qiskit.providers.aer import QasmSimulator\n",
    "from qiskit import QuantumRegister, ClassicalRegister, QuantumCircuit\n",
    "\n",
    "%matplotlib inline\n",
    "\n",
    "# Loading your IBM Quantum account(s)\n",
    "provider = IBMQ.load_account()\n",
    "provider = qiskit.IBMQ.get_provider(hub='ibm-q-unibw', group='hochschule-muc', project='masterarbeit')\n"
   ]
  },
  {
   "cell_type": "code",
   "execution_count": 3,
   "id": "63bae558",
   "metadata": {},
   "outputs": [
    {
     "name": "stdout",
     "output_type": "stream",
     "text": [
      "Using matplotlib backend: agg\n",
      "Using matplotlib backend: agg\n"
     ]
    }
   ],
   "source": [
    "%matplotlib\n",
    "%matplotlib"
   ]
  },
  {
   "cell_type": "code",
   "execution_count": 4,
   "id": "fcd0d078",
   "metadata": {},
   "outputs": [],
   "source": [
    "# https://arxiv.org/pdf/2011.10860.pdf"
   ]
  },
  {
   "cell_type": "code",
   "execution_count": 5,
   "id": "01ddcc78",
   "metadata": {},
   "outputs": [],
   "source": [
    "circuit_1 = QuantumCircuit(1,1)\n",
    "circuit_1.h(0)\n",
    "circuit_1.h(0)\n",
    "circuit_1.measure(0,0)\n",
    "_ = circuit_1.draw('mpl')"
   ]
  },
  {
   "cell_type": "code",
   "execution_count": 6,
   "id": "3bda121e",
   "metadata": {},
   "outputs": [],
   "source": [
    "circuit_2 = QuantumCircuit(1,1)\n",
    "circuit_2.x(0)\n",
    "circuit_2.h(0)\n",
    "circuit_2.h(0)\n",
    "circuit_2.measure(0,0)\n",
    "_ = circuit_2.draw('mpl')"
   ]
  },
  {
   "cell_type": "code",
   "execution_count": 7,
   "id": "10abf55e",
   "metadata": {},
   "outputs": [],
   "source": [
    "circuit_3 = QuantumCircuit(1,1)\n",
    "circuit_3.y(0)\n",
    "circuit_3.y(0)\n",
    "circuit_3.measure(0,0)\n",
    "_ = circuit_3.draw('mpl')"
   ]
  },
  {
   "cell_type": "code",
   "execution_count": 8,
   "id": "aeebcee4",
   "metadata": {},
   "outputs": [],
   "source": [
    "circuit_4 = QuantumCircuit(1,1)\n",
    "circuit_4.x(0)\n",
    "circuit_4.y(0)\n",
    "circuit_4.y(0)\n",
    "circuit_4.measure(0,0)\n",
    "_ = circuit_4.draw('mpl')"
   ]
  },
  {
   "cell_type": "code",
   "execution_count": 9,
   "id": "ea432113",
   "metadata": {},
   "outputs": [],
   "source": [
    "def run_circuit(circuit):\n",
    "    # Use Aer's qasm_simulator\n",
    "    backend_sim = Aer.get_backend('qasm_simulator')\n",
    "\n",
    "    # Execute the circuit on the qasm simulator.\n",
    "    # We've set the number of repeats of the circuit\n",
    "    # to be 1024, which is the default.\n",
    "    SHOTS = 1024\n",
    "    job_sim = backend_sim.run(transpile(circuit, backend_sim), shots=1024)\n",
    "\n",
    "    # Grab the results from the job.\n",
    "    result_sim = job_sim.result()\n",
    "\n",
    "    counts = result_sim.get_counts()\n",
    "    \n",
    "    freq_0 = 0.\n",
    "    freq_1 = 0.\n",
    "    for k,v in sorted(counts.items()):\n",
    "        if k == '0':\n",
    "            freq_0 = v / SHOTS\n",
    "        if k == '1':\n",
    "            freq_1 = v / SHOTS\n",
    "\n",
    "    \n",
    "    return freq_0, freq_1\n",
    "    "
   ]
  },
  {
   "cell_type": "code",
   "execution_count": 10,
   "id": "112acb78",
   "metadata": {},
   "outputs": [
    {
     "name": "stdout",
     "output_type": "stream",
     "text": [
      "V: [1.0, 0.0, 0.0, 1.0, 1.0, 0.0, 0.0, 1.0]\n",
      "M1:\n",
      "[[1. 0.]\n",
      " [0. 1.]]\n",
      "M2:\n",
      "[[1. 0.]\n",
      " [0. 1.]]\n",
      "MG:\n",
      "[[1. 0.]\n",
      " [0. 1.]]\n"
     ]
    }
   ],
   "source": [
    "v1, v2 = run_circuit(circuit_1)\n",
    "v3, v4 = run_circuit(circuit_2)\n",
    "v5, v6 = run_circuit(circuit_3)\n",
    "v7, v8 = run_circuit(circuit_4)\n",
    "\n",
    "V = [v1, v2, v3, v4, v5, v6, v7, v8]\n",
    "\n",
    "print(f\"V: {V}\")\n",
    "\n",
    "M1 = np.array([[v1, v3],\n",
    "               [v2, v4]\n",
    "              ])\n",
    "\n",
    "M2 = np.array([[v5, v7],\n",
    "               [v6, v8]\n",
    "              ])\n",
    "\n",
    "print(\"M1:\")\n",
    "print(M1)\n",
    "print(\"M2:\")\n",
    "print(M2)\n",
    "\n",
    "MG = (M1 + M2) / 2\n",
    "print(\"MG:\")\n",
    "print(MG)"
   ]
  },
  {
   "cell_type": "code",
   "execution_count": 11,
   "id": "1f6c0bb7",
   "metadata": {},
   "outputs": [
    {
     "data": {
      "text/plain": [
       "array([0.01314835, 0.04691712])"
      ]
     },
     "execution_count": 11,
     "metadata": {},
     "output_type": "execute_result"
    }
   ],
   "source": [
    "X = np.random.rand(2)\n",
    "X"
   ]
  },
  {
   "cell_type": "code",
   "execution_count": 12,
   "id": "8461c74b",
   "metadata": {},
   "outputs": [
    {
     "data": {
      "text/plain": [
       "array([0.01314835, 0.04691712])"
      ]
     },
     "execution_count": 12,
     "metadata": {},
     "output_type": "execute_result"
    }
   ],
   "source": [
    "MG @ X"
   ]
  },
  {
   "cell_type": "code",
   "execution_count": 13,
   "id": "398f151b",
   "metadata": {},
   "outputs": [],
   "source": [
    "def cost_function(X, V, M):\n",
    "    cost = 0\n",
    "    MX = M @ X  \n",
    "    for i in range(0, len(V)):\n",
    "        v = V[i]\n",
    "        cost += ( v - MX[i] ) ** 2\n",
    "    return cost"
   ]
  },
  {
   "cell_type": "code",
   "execution_count": 14,
   "id": "ecba552b",
   "metadata": {},
   "outputs": [
    {
     "data": {
      "text/plain": [
       "0.9085398481486191"
      ]
     },
     "execution_count": 14,
     "metadata": {},
     "output_type": "execute_result"
    }
   ],
   "source": [
    "v = [0., 1.0] # das ist die Messung \n",
    "# nach der Messung wird optimiert! \n",
    "# x ist dann die Lösung! \n",
    "cost_function(X, v, MG)"
   ]
  },
  {
   "cell_type": "code",
   "execution_count": 15,
   "id": "c574a48b",
   "metadata": {},
   "outputs": [],
   "source": [
    "from scipy.optimize import minimize"
   ]
  },
  {
   "cell_type": "code",
   "execution_count": 16,
   "id": "b3274000",
   "metadata": {},
   "outputs": [],
   "source": [
    "cons = (\n",
    "    {'type': 'eq', 'fun': lambda x: sum(x) - 1},\n",
    ")"
   ]
  },
  {
   "cell_type": "code",
   "execution_count": 17,
   "id": "4638fdaa",
   "metadata": {},
   "outputs": [],
   "source": [
    "bnds = tuple([(0,1) for _ in range(0,2)])"
   ]
  },
  {
   "cell_type": "code",
   "execution_count": 18,
   "id": "154f9eed",
   "metadata": {},
   "outputs": [
    {
     "name": "stdout",
     "output_type": "stream",
     "text": [
      "Optimization terminated successfully    (Exit mode 0)\n",
      "            Current function value: 4.930380657631324e-32\n",
      "            Iterations: 2\n",
      "            Function evaluations: 6\n",
      "            Gradient evaluations: 2\n"
     ]
    }
   ],
   "source": [
    "res = minimize(cost_function, X, method='SLSQP', args=(v, MG), constraints=cons, bounds=bnds,\n",
    "               options={'gtol': 1e-6, 'disp': True})"
   ]
  },
  {
   "cell_type": "code",
   "execution_count": 19,
   "id": "05645cd6",
   "metadata": {},
   "outputs": [
    {
     "data": {
      "text/plain": [
       "array([0., 1.])"
      ]
     },
     "execution_count": 19,
     "metadata": {},
     "output_type": "execute_result"
    }
   ],
   "source": [
    "np.round(res.x,1) # entspricht ungefähr v "
   ]
  },
  {
   "cell_type": "code",
   "execution_count": 20,
   "id": "38eb3ede",
   "metadata": {},
   "outputs": [
    {
     "data": {
      "text/plain": [
       "4.930380657631324e-32"
      ]
     },
     "execution_count": 20,
     "metadata": {},
     "output_type": "execute_result"
    }
   ],
   "source": [
    "cost_function(res.x, v, MG)"
   ]
  },
  {
   "cell_type": "code",
   "execution_count": 21,
   "id": "15a97f07",
   "metadata": {},
   "outputs": [],
   "source": [
    "import sys\n",
    "import os\n",
    "sys.path.insert(0, os.path.abspath('../'))\n",
    "sys.path.insert(0, os.path.abspath('../../'))"
   ]
  },
  {
   "cell_type": "code",
   "execution_count": 22,
   "id": "c1df2271",
   "metadata": {},
   "outputs": [],
   "source": [
    "from qiskit.algorithms import QAOA\n",
    "from qiskit_optimization.algorithms import MinimumEigenOptimizer\n",
    "from shared.QiskitMaxcut import *"
   ]
  },
  {
   "cell_type": "code",
   "execution_count": 23,
   "id": "9e6a4695",
   "metadata": {},
   "outputs": [],
   "source": [
    "import networkx as nx\n",
    "def generate_butterfly_graph(with_weights=True):\n",
    "    # Generate a graph of 5 nodes\n",
    "    # filename = graph_05_06_02_w.txt\n",
    "    n = 5\n",
    "    graph = nx.Graph()\n",
    "    graph.add_nodes_from(np.arange(0, n, 1))\n",
    "    if with_weights:\n",
    "        elist = [(0, 3, 9), (0, 4, 6), (1, 2, 9), (1, 4, 10), (2, 4, 7), (3, 4, 7)]\n",
    "        graph.name = \"graph_05_06_02_w\"\n",
    "    else:\n",
    "        elist = [(0, 3, 1), (0, 4, 1), (1, 2, 1), (1, 4, 1), (2, 4, 1), (3, 4, 1)]\n",
    "        graph.name = \"graph_05_06_02\"\n",
    "    graph.add_weighted_edges_from(elist)\n",
    "    \n",
    "    return graph\n",
    "\n",
    "def generate_sample_graph(with_weights=True):\n",
    "    # Generate a graph of 5 nodes\n",
    "    # filename = graph_05_06_02_w.txt\n",
    "    n = 4\n",
    "    graph = nx.Graph()\n",
    "    graph.add_nodes_from(np.arange(0, n, 1))\n",
    "    elist = [(0, 1, 1), (1, 2, 1), (2, 3, 1), (3, 0, 1)]\n",
    "    graph.add_weighted_edges_from(elist)\n",
    "    \n",
    "    return graph\n"
   ]
  },
  {
   "cell_type": "code",
   "execution_count": 24,
   "id": "4700ee4e",
   "metadata": {},
   "outputs": [],
   "source": [
    "G = generate_sample_graph() \n",
    "max_cut = Maxcut(G,-35)\n",
    "max_cut.draw()\n",
    "qubo = max_cut.to_qubo()"
   ]
  },
  {
   "cell_type": "code",
   "execution_count": 25,
   "id": "06c5aa91",
   "metadata": {},
   "outputs": [],
   "source": [
    "qaoa = QAOA(quantum_instance=Aer.get_backend('qasm_simulator'), initial_point=[ 0.39763271, -3.92897117])\n",
    "algorithm = MinimumEigenOptimizer(qaoa)\n",
    "result = algorithm.solve(qubo)\n",
    "_ = qaoa.ansatz.draw('mpl')"
   ]
  },
  {
   "cell_type": "code",
   "execution_count": 26,
   "id": "9c316b31",
   "metadata": {},
   "outputs": [
    {
     "data": {
      "text/plain": [
       "5.0"
      ]
     },
     "execution_count": 26,
     "metadata": {},
     "output_type": "execute_result"
    }
   ],
   "source": [
    "# https://quantumcomputing.stackexchange.com/questions/5769/how-to-calculate-circuit-depth-properly \n",
    "(qaoa.ansatz.depth() - 1) / 2"
   ]
  },
  {
   "cell_type": "code",
   "execution_count": 27,
   "id": "6e8af092",
   "metadata": {},
   "outputs": [],
   "source": [
    "_=qaoa.ansatz.inverse().draw('mpl')"
   ]
  },
  {
   "cell_type": "code",
   "execution_count": 28,
   "id": "b26d76fd",
   "metadata": {},
   "outputs": [
    {
     "data": {
      "text/plain": [
       "ParameterView([ParameterVectorElement(β[0]), ParameterVectorElement(γ[0])])"
      ]
     },
     "execution_count": 28,
     "metadata": {},
     "output_type": "execute_result"
    }
   ],
   "source": [
    "qaoa.ansatz.parameters"
   ]
  },
  {
   "cell_type": "code",
   "execution_count": 29,
   "id": "990ef27d",
   "metadata": {},
   "outputs": [
    {
     "data": {
      "text/plain": [
       "[0.39763271, -3.92897117]"
      ]
     },
     "execution_count": 29,
     "metadata": {},
     "output_type": "execute_result"
    }
   ],
   "source": [
    "qaoa._initial_point"
   ]
  },
  {
   "cell_type": "code",
   "execution_count": 30,
   "id": "08cd88c0",
   "metadata": {},
   "outputs": [
    {
     "data": {
      "text/plain": [
       "[ParameterVectorElement(β[0]), ParameterVectorElement(γ[0])]"
      ]
     },
     "execution_count": 30,
     "metadata": {},
     "output_type": "execute_result"
    }
   ],
   "source": [
    "qaoa._ansatz_params"
   ]
  },
  {
   "cell_type": "code",
   "execution_count": 31,
   "id": "47cccddd",
   "metadata": {},
   "outputs": [],
   "source": [
    "param_dict = dict(zip(qaoa._ansatz_params, qaoa._initial_point))  # type: Dict\n",
    "wave_function = qaoa.ansatz.assign_parameters(param_dict)\n",
    "_=wave_function.draw('mpl')"
   ]
  },
  {
   "cell_type": "code",
   "execution_count": 32,
   "id": "54712002",
   "metadata": {},
   "outputs": [
    {
     "name": "stdout",
     "output_type": "stream",
     "text": [
      "Layers: 13\n"
     ]
    }
   ],
   "source": [
    "from qiskit.converters import circuit_to_dag, dag_to_circuit\n",
    "qc = wave_function\n",
    "dag = circuit_to_dag(qc)\n",
    "layers = list(dag.multigraph_layers())\n",
    "print(f\"Layers: {len(layers)}\")\n",
    "n_remove = 6\n",
    "\n",
    "# the extra minus 1 since the last layer consists of output nodes (qubits and clbits).\n",
    "for layer in layers[- n_remove  :]:\n",
    "\n",
    "    for node in layer:\n",
    "        if node.type == 'op':\n",
    "            dag.remove_op_node(node)\n",
    "                   \n",
    "new_qc = dag_to_circuit(dag)\n",
    "\n",
    "_=new_qc.draw('mpl')"
   ]
  },
  {
   "cell_type": "code",
   "execution_count": 33,
   "id": "198cfcda",
   "metadata": {},
   "outputs": [],
   "source": [
    "_=new_qc.inverse().draw('mpl')"
   ]
  },
  {
   "cell_type": "code",
   "execution_count": 34,
   "id": "49d4a7ba",
   "metadata": {},
   "outputs": [],
   "source": [
    "newqc = new_qc.compose(new_qc.inverse())"
   ]
  },
  {
   "cell_type": "code",
   "execution_count": 35,
   "id": "4b352b25",
   "metadata": {},
   "outputs": [],
   "source": [
    "_=newqc.draw('mpl')"
   ]
  },
  {
   "cell_type": "code",
   "execution_count": 36,
   "id": "9e2706e0",
   "metadata": {},
   "outputs": [],
   "source": [
    "# (1) circuits erstellen ain 2^N Zuständen -> doppelt und in einem Array \n",
    "# (2) Qaoa Ansatz teilen nach layer nicht nach Depth (Rückfrage) danach jeweils an die aus (1) anhängen\n",
    "# (3) alle ausführen und Ergebnis nicht count sondern freq in Matrix zu sammenfügen -> algo überlegen \n",
    "# (4) optimize function aufstellen, Messung vornehmen und testen! Optimizer maxIter=0, weil der sonst die Rechnungen verfälscht! \n"
   ]
  },
  {
   "cell_type": "code",
   "execution_count": 37,
   "id": "16fd5a0b",
   "metadata": {},
   "outputs": [],
   "source": [
    "import itertools, copy \n",
    "def prepare_circuits(n_qubits):\n",
    "    start_states = list(map(list, itertools.product([0, 1], repeat=n_qubits)))\n",
    "    #print(start_states)\n",
    "    circuits = []\n",
    "    for state in start_states:\n",
    "        circuit = QuantumCircuit(n_qubits, n_qubits)\n",
    "        for i,v in enumerate(state):\n",
    "            if v == 1:\n",
    "                circuit.x(i)\n",
    "                \n",
    "        circuits.append(circuit)\n",
    "    \n",
    "    return circuits, copy.deepcopy(circuits)"
   ]
  },
  {
   "cell_type": "code",
   "execution_count": 38,
   "id": "34f4a126",
   "metadata": {},
   "outputs": [],
   "source": [
    "first_circuits, second_circuits = prepare_circuits(4)\n",
    "#for c in first_circuits:\n",
    "#    print(c)"
   ]
  },
  {
   "cell_type": "code",
   "execution_count": 39,
   "id": "492a70c5",
   "metadata": {},
   "outputs": [],
   "source": [
    "from qiskit.converters import circuit_to_dag, dag_to_circuit\n",
    "\n",
    "\n",
    "def split(dag_qc, layers):\n",
    "    for layer in layers:\n",
    "        for node in layer:\n",
    "            if node.type == 'op':\n",
    "                dag_qc.remove_op_node(node)\n",
    "    \n",
    "    return dag_to_circuit(dag_qc)\n",
    "\n",
    "\n",
    "def split_circuit(qc):\n",
    "    layers = list(circuit_to_dag(qc).multigraph_layers())\n",
    "\n",
    "    # calculate separation point \n",
    "    n_remove = 0\n",
    "    if len(layers) % 2 == 0: # even\n",
    "        n_remove = len(layers) // 2\n",
    "    else: # odd \n",
    "        n_remove = (len(layers) - 1) // 2\n",
    "        \n",
    "    # split circuits\n",
    "    # https://quantumcomputing.stackexchange.com/a/13824/16704 : \n",
    "    # the extra minus 1 since the last layer consists of output nodes (qubits and clbits).\n",
    "    first_half_qc = split(circuit_to_dag(qc), layers[- n_remove -1 :])\n",
    "    second_half_qc = split(circuit_to_dag(qc), layers[:- n_remove -1])\n",
    "         \n",
    "    return first_half_qc, second_half_qc\n",
    "    "
   ]
  },
  {
   "cell_type": "code",
   "execution_count": 40,
   "id": "74575638",
   "metadata": {},
   "outputs": [],
   "source": [
    "first, second = split_circuit(wave_function)"
   ]
  },
  {
   "cell_type": "code",
   "execution_count": 41,
   "id": "f823a34e",
   "metadata": {},
   "outputs": [
    {
     "data": {
      "image/png": "[encoded data removed]",
      "text/plain": [
       "<Figure size 568.197x264.88 with 1 Axes>"
      ]
     },
     "execution_count": 41,
     "metadata": {},
     "output_type": "execute_result"
    }
   ],
   "source": [
    "first.draw('mpl')"
   ]
  },
  {
   "cell_type": "code",
   "execution_count": 42,
   "id": "1aaa1e21",
   "metadata": {},
   "outputs": [
    {
     "data": {
      "image/png": "[encoded data removed]",
      "text/plain": [
       "<Figure size 989.597x264.88 with 1 Axes>"
      ]
     },
     "execution_count": 42,
     "metadata": {},
     "output_type": "execute_result"
    }
   ],
   "source": [
    "second.draw('mpl')"
   ]
  },
  {
   "cell_type": "code",
   "execution_count": 43,
   "id": "1e862bad",
   "metadata": {},
   "outputs": [
    {
     "data": {
      "image/png": "[encoded data removed]",
      "text/plain": [
       "<Figure size 1471.2x264.88 with 1 Axes>"
      ]
     },
     "execution_count": 43,
     "metadata": {},
     "output_type": "execute_result"
    }
   ],
   "source": [
    "wave_function.draw('mpl')"
   ]
  },
  {
   "cell_type": "code",
   "execution_count": 44,
   "id": "64a65f56",
   "metadata": {},
   "outputs": [],
   "source": [
    "def inverse_and_compose(circuit):\n",
    "    return circuit.copy().compose(circuit.inverse())"
   ]
  },
  {
   "cell_type": "code",
   "execution_count": 45,
   "id": "af1b740a",
   "metadata": {},
   "outputs": [
    {
     "data": {
      "image/png": "[encoded data removed]",
      "text/plain": [
       "<Figure size 989.597x264.88 with 1 Axes>"
      ]
     },
     "execution_count": 45,
     "metadata": {},
     "output_type": "execute_result"
    }
   ],
   "source": [
    "first_inversed = inverse_and_compose(first)\n",
    "first_inversed.draw('mpl')"
   ]
  },
  {
   "cell_type": "code",
   "execution_count": 46,
   "id": "f1ef35b0",
   "metadata": {},
   "outputs": [
    {
     "data": {
      "image/png": "[encoded data removed]",
      "text/plain": [
       "<Figure size 1591.6x565.88 with 1 Axes>"
      ]
     },
     "execution_count": 46,
     "metadata": {},
     "output_type": "execute_result"
    }
   ],
   "source": [
    "second_inversed = inverse_and_compose(second)\n",
    "second_inversed.draw('mpl')"
   ]
  },
  {
   "cell_type": "code",
   "execution_count": 47,
   "id": "8596ed53",
   "metadata": {},
   "outputs": [],
   "source": [
    "def compose_circuits(prepared, inversed):\n",
    "    qcs = []\n",
    "    for pc in prepared:\n",
    "        qc = pc.copy().compose(inversed)\n",
    "        qc.measure_all()\n",
    "        \n",
    "        qcs.append(qc.copy())\n",
    "        \n",
    "    return qcs"
   ]
  },
  {
   "cell_type": "code",
   "execution_count": 48,
   "id": "ba9e0339",
   "metadata": {},
   "outputs": [
    {
     "data": {
      "image/png": "[encoded data removed]",
      "text/plain": [
       "<Figure size 146.797x325.08 with 1 Axes>"
      ]
     },
     "execution_count": 48,
     "metadata": {},
     "output_type": "execute_result"
    }
   ],
   "source": [
    "first_circuits[1].draw('mpl')"
   ]
  },
  {
   "cell_type": "code",
   "execution_count": 49,
   "id": "5c485318",
   "metadata": {},
   "outputs": [],
   "source": [
    "first_half_composed = compose_circuits(first_circuits, first_inversed)\n",
    "second_half_composed = compose_circuits(second_circuits, second_inversed)"
   ]
  },
  {
   "cell_type": "code",
   "execution_count": 50,
   "id": "bf36160c",
   "metadata": {},
   "outputs": [
    {
     "data": {
      "image/png": "[encoded data removed]",
      "text/plain": [
       "<Figure size 1320.88x385.28 with 1 Axes>"
      ]
     },
     "execution_count": 50,
     "metadata": {},
     "output_type": "execute_result"
    }
   ],
   "source": [
    "first_half_composed[1].draw('mpl')"
   ]
  },
  {
   "cell_type": "code",
   "execution_count": 51,
   "id": "4bbbd5e9",
   "metadata": {},
   "outputs": [],
   "source": [
    "#def run_all(circuits):\n",
    "backend_sim = provider.get_backend('ibmq_toronto')\n",
    "#circuits = first_half_composed #+ second_half_composed\n",
    "#circuits = circuits[0:2]\n",
    "SHOTS = 1024\n",
    "#job_sim = backend_sim.run(transpile(first_half_composed, backend_sim), shots=SHOTS)\n",
    "job_sim = backend_sim.retrieve_job('613229b41b943550460ffa89')\n",
    "# Grab the results from the job.\n",
    "result_sim = job_sim.result()"
   ]
  },
  {
   "cell_type": "code",
   "execution_count": 52,
   "id": "c6c24f63",
   "metadata": {
    "scrolled": true
   },
   "outputs": [
    {
     "data": {
      "text/plain": [
       "16"
      ]
     },
     "execution_count": 52,
     "metadata": {},
     "output_type": "execute_result"
    }
   ],
   "source": [
    "#import qiskit.result.ProbDistribution\n",
    "len(result_sim.results)\n",
    "#ProbDistribution(result_sim.results[0].get_counts(), SHOTS)"
   ]
  },
  {
   "cell_type": "code",
   "execution_count": 53,
   "id": "94b40863",
   "metadata": {},
   "outputs": [],
   "source": [
    "def _hex_to_bin(hexstring):\n",
    "    \"\"\"Convert hexadecimal readouts (memory) to binary readouts.\"\"\"\n",
    "    return str(bin(int(hexstring, 16)))[2:]\n",
    "\n",
    "def _pad_zeros(bitstring, memory_slots):\n",
    "    \"\"\"If the bitstring is truncated, pad extra zeros to make its\n",
    "    length equal to memory_slots\"\"\"\n",
    "    return format(int(bitstring, 2), f\"0{memory_slots}b\")\n",
    "\n",
    "def _separate_bitstring(bitstring, creg_sizes):\n",
    "    \"\"\"Separate a bitstring according to the registers defined in the result header.\"\"\"\n",
    "    substrings = []\n",
    "    running_index = 0\n",
    "    for _, size in reversed(creg_sizes):\n",
    "        substrings.append(bitstring[running_index : running_index + size])\n",
    "        running_index += size\n",
    "    return \" \".join(substrings)\n",
    "\n",
    "def format_counts_memory(shot_memory, header=None):\n",
    "    \"\"\"\n",
    "    Format a single bitstring (memory) from a single shot experiment.\n",
    "    - The hexadecimals are expanded to bitstrings\n",
    "    - Spaces are inserted at register divisions.\n",
    "    Args:\n",
    "        shot_memory (str): result of a single experiment.\n",
    "        header (dict): the experiment header dictionary containing\n",
    "            useful information for postprocessing. creg_sizes\n",
    "            are a nested list where the inner element is a list\n",
    "            of creg name, creg size pairs. memory_slots is an integers\n",
    "            specifying the number of total memory_slots in the experiment.\n",
    "    Returns:\n",
    "        dict: a formatted memory\n",
    "    \"\"\"\n",
    "    if shot_memory.startswith(\"0x\"):\n",
    "        shot_memory = _hex_to_bin(shot_memory)\n",
    "    if header:\n",
    "        creg_sizes = header.creg_sizes\n",
    "        memory_slots = header.memory_slots\n",
    "        if memory_slots:\n",
    "            shot_memory = _pad_zeros(shot_memory, memory_slots)\n",
    "        if creg_sizes and memory_slots:\n",
    "            shot_memory = _separate_bitstring(shot_memory, creg_sizes)\n",
    "    return shot_memory\n",
    "\n",
    "def my_format_counts(counts, header=None):\n",
    "    \"\"\"Format a single experiment result coming from backend to present\n",
    "    to the Qiskit user.\n",
    "    Args:\n",
    "        counts (dict): counts histogram of multiple shots\n",
    "        header (dict): the experiment header dictionary containing\n",
    "            useful information for postprocessing.\n",
    "    Returns:\n",
    "        dict: a formatted counts\n",
    "    \"\"\"\n",
    "    counts_dict = {}\n",
    "    for key, val in counts.items():\n",
    "        key = format_counts_memory(key, header)\n",
    "        counts_dict[key] = val\n",
    "    return counts_dict"
   ]
  },
  {
   "cell_type": "code",
   "execution_count": 58,
   "id": "b4af5264",
   "metadata": {},
   "outputs": [],
   "source": [
    "import re\n",
    "\n",
    "def calculate_freq(result):\n",
    "    n = len(result.header.clbit_labels)//2\n",
    "    #print(n)\n",
    "    shots = result.shots\n",
    "    combinations = list(map(list, itertools.product([0, 1], repeat=n)))\n",
    "    freqs = {}\n",
    "    for comb in combinations: # init dict\n",
    "        freqs[re.sub('[^01]', '', str(comb))] = 0.0\n",
    "    \n",
    "    counts = my_format_counts(result.data.counts, result.header)\n",
    "    for count in counts.items():\n",
    "        bitstr, values = count\n",
    "        if (bitstr == '0'):\n",
    "            bitstr = '0'*n\n",
    "        bitstr = bitstr.replace(' ','')\n",
    "        bitstr = bitstr[:n][::-1]\n",
    "        freqs[bitstr] = values / shots\n",
    "    \n",
    "    return list(freqs.values())\n",
    "\n",
    "def create_m(results):\n",
    "    m = np.expand_dims( np.array(calculate_freq(results[0])), axis=1)\n",
    "    for result in results[1:]:\n",
    "        v = np.expand_dims( np.array(calculate_freq(result)), axis=1)\n",
    "        m = np.append(m, v, axis=1)\n",
    "    return m\n",
    "        "
   ]
  },
  {
   "cell_type": "code",
   "execution_count": 56,
   "id": "0d333dc5",
   "metadata": {},
   "outputs": [
    {
     "name": "stdout",
     "output_type": "stream",
     "text": [
      "ExperimentResult(shots=1024, success=True, meas_level=2, data=ExperimentResultData(counts={'0x0': 67, '0x10': 23, '0x20': 42, '0x30': 12, '0x40': 461, '0x50': 48, '0x60': 64, '0x70': 38, '0x80': 37, '0x90': 13, '0xa0': 9, '0xb0': 7, '0xc0': 131, '0xd0': 31, '0xe0': 22, '0xf0': 19}), header=QobjExperimentHeader(clbit_labels=[['c', 0], ['c', 1], ['c', 2], ['c', 3], ['meas', 0], ['meas', 1], ['meas', 2], ['meas', 3]], creg_sizes=[['c', 4], ['meas', 4]], global_phase=0.0, memory_slots=8, metadata={}, n_qubits=27, name='circuit-724', qreg_sizes=[['q', 27]], qubit_labels=[['q', 0], ['q', 1], ['q', 2], ['q', 3], ['q', 4], ['q', 5], ['q', 6], ['q', 7], ['q', 8], ['q', 9], ['q', 10], ['q', 11], ['q', 12], ['q', 13], ['q', 14], ['q', 15], ['q', 16], ['q', 17], ['q', 18], ['q', 19], ['q', 20], ['q', 21], ['q', 22], ['q', 23], ['q', 24], ['q', 25], ['q', 26]]), memory=False)\n",
      "4\n"
     ]
    },
    {
     "data": {
      "text/plain": [
       "[0.0654296875,\n",
       " 0.0361328125,\n",
       " 0.4501953125,\n",
       " 0.1279296875,\n",
       " 0.041015625,\n",
       " 0.0087890625,\n",
       " 0.0625,\n",
       " 0.021484375,\n",
       " 0.0224609375,\n",
       " 0.0126953125,\n",
       " 0.046875,\n",
       " 0.0302734375,\n",
       " 0.01171875,\n",
       " 0.0068359375,\n",
       " 0.037109375,\n",
       " 0.0185546875]"
      ]
     },
     "execution_count": 56,
     "metadata": {},
     "output_type": "execute_result"
    }
   ],
   "source": [
    "test_r = result_sim.results[2]\n",
    "print(test_r)\n",
    "calculate_freq(test_r)"
   ]
  },
  {
   "cell_type": "code",
   "execution_count": 59,
   "id": "40eda00a",
   "metadata": {},
   "outputs": [
    {
     "data": {
      "text/plain": [
       "array([[0.3984375 , 0.15722656, 0.06542969, 0.03613281, 0.06054688,\n",
       "        0.03027344, 0.04980469, 0.02441406, 0.11425781, 0.04882812,\n",
       "        0.02832031, 0.00976562, 0.05273438, 0.01757812, 0.01660156,\n",
       "        0.01171875],\n",
       "       [0.13378906, 0.3671875 , 0.03613281, 0.06542969, 0.03417969,\n",
       "        0.07421875, 0.01367188, 0.03320312, 0.03320312, 0.08398438,\n",
       "        0.02050781, 0.03027344, 0.01074219, 0.03417969, 0.01367188,\n",
       "        0.01269531],\n",
       "       [0.08398438, 0.03515625, 0.45019531, 0.17382812, 0.04882812,\n",
       "        0.02929688, 0.09082031, 0.04296875, 0.02929688, 0.01660156,\n",
       "        0.08886719, 0.05566406, 0.01953125, 0.01171875, 0.04785156,\n",
       "        0.02929688],\n",
       "       [0.03417969, 0.08496094, 0.12792969, 0.40527344, 0.02246094,\n",
       "        0.04882812, 0.02734375, 0.06835938, 0.015625  , 0.03125   ,\n",
       "        0.04199219, 0.08007812, 0.00878906, 0.01855469, 0.02441406,\n",
       "        0.03222656],\n",
       "       [0.04882812, 0.0390625 , 0.04101562, 0.01855469, 0.41992188,\n",
       "        0.16308594, 0.06640625, 0.03710938, 0.04394531, 0.01953125,\n",
       "        0.015625  , 0.01367188, 0.08691406, 0.03613281, 0.02636719,\n",
       "        0.02832031],\n",
       "       [0.02148438, 0.0546875 , 0.00878906, 0.03808594, 0.14746094,\n",
       "        0.36132812, 0.02441406, 0.06738281, 0.02148438, 0.0390625 ,\n",
       "        0.00390625, 0.01660156, 0.03613281, 0.07910156, 0.01074219,\n",
       "        0.02734375],\n",
       "       [0.04296875, 0.02539062, 0.0625    , 0.03320312, 0.06738281,\n",
       "        0.04101562, 0.41699219, 0.18359375, 0.03222656, 0.00878906,\n",
       "        0.04492188, 0.01464844, 0.03125   , 0.02148438, 0.07519531,\n",
       "        0.04785156],\n",
       "       [0.01855469, 0.03222656, 0.02148438, 0.04589844, 0.03417969,\n",
       "        0.07324219, 0.13867188, 0.36621094, 0.01269531, 0.02441406,\n",
       "        0.01757812, 0.03808594, 0.01660156, 0.02636719, 0.03417969,\n",
       "        0.06933594],\n",
       "       [0.08007812, 0.03417969, 0.02246094, 0.01660156, 0.03320312,\n",
       "        0.01855469, 0.015625  , 0.00683594, 0.35058594, 0.15332031,\n",
       "        0.08886719, 0.03808594, 0.06738281, 0.02929688, 0.046875  ,\n",
       "        0.015625  ],\n",
       "       [0.02929688, 0.05273438, 0.01269531, 0.02539062, 0.01074219,\n",
       "        0.03125   , 0.00488281, 0.015625  , 0.11425781, 0.31152344,\n",
       "        0.03320312, 0.06835938, 0.02539062, 0.06445312, 0.02441406,\n",
       "        0.03515625],\n",
       "       [0.02050781, 0.01855469, 0.046875  , 0.03515625, 0.01660156,\n",
       "        0.00878906, 0.03125   , 0.02441406, 0.06933594, 0.02832031,\n",
       "        0.36132812, 0.16210938, 0.03125   , 0.01074219, 0.06054688,\n",
       "        0.03027344],\n",
       "       [0.01464844, 0.02050781, 0.03027344, 0.04882812, 0.00488281,\n",
       "        0.01464844, 0.01855469, 0.03320312, 0.0234375 , 0.08203125,\n",
       "        0.12597656, 0.34277344, 0.02148438, 0.0390625 , 0.03417969,\n",
       "        0.05175781],\n",
       "       [0.02832031, 0.02441406, 0.01171875, 0.00390625, 0.04785156,\n",
       "        0.02929688, 0.02929688, 0.00976562, 0.0546875 , 0.02050781,\n",
       "        0.04394531, 0.0234375 , 0.34765625, 0.15820312, 0.05566406,\n",
       "        0.03808594],\n",
       "       [0.01171875, 0.02441406, 0.00683594, 0.00976562, 0.02246094,\n",
       "        0.04492188, 0.00683594, 0.01757812, 0.015625  , 0.05566406,\n",
       "        0.01171875, 0.03613281, 0.14746094, 0.34277344, 0.02929688,\n",
       "        0.07128906],\n",
       "       [0.02148438, 0.00683594, 0.03710938, 0.00976562, 0.01953125,\n",
       "        0.00976562, 0.04882812, 0.02734375, 0.04980469, 0.01757812,\n",
       "        0.05175781, 0.02441406, 0.0703125 , 0.03515625, 0.37304688,\n",
       "        0.15625   ],\n",
       "       [0.01171875, 0.02246094, 0.01855469, 0.03417969, 0.00976562,\n",
       "        0.02148438, 0.01660156, 0.04199219, 0.01953125, 0.05859375,\n",
       "        0.02148438, 0.04589844, 0.02636719, 0.07519531, 0.12695312,\n",
       "        0.34277344]])"
      ]
     },
     "execution_count": 59,
     "metadata": {},
     "output_type": "execute_result"
    }
   ],
   "source": [
    "m1 = create_m(result_sim.results)\n",
    "m1"
   ]
  },
  {
   "cell_type": "code",
   "execution_count": 60,
   "id": "438d2669",
   "metadata": {},
   "outputs": [],
   "source": [
    "#def run_all(circuits):\n",
    "backend_sim = provider.get_backend('ibmq_toronto')\n",
    "circuits = second_half_composed\n",
    "#circuits = circuits[0:2]\n",
    "SHOTS = 1024\n",
    "job_sim = backend_sim.run(transpile(circuits, backend_sim), shots=1024)\n",
    "# job id: 61322c1f03ea36031fe8e6b1 \n",
    "# Grab the results from the job.\n",
    "result_sim = job_sim.result()"
   ]
  },
  {
   "cell_type": "code",
   "execution_count": 61,
   "id": "f6d60646",
   "metadata": {},
   "outputs": [
    {
     "data": {
      "text/plain": [
       "array([[0.79199219, 0.13867188, 0.08691406, 0.01757812, 0.02636719,\n",
       "        0.00488281, 0.00488281, 0.        , 0.10839844, 0.03417969,\n",
       "        0.01367188, 0.00683594, 0.0078125 , 0.015625  , 0.00195312,\n",
       "        0.00292969],\n",
       "       [0.07519531, 0.6328125 , 0.0078125 , 0.07324219, 0.00292969,\n",
       "        0.015625  , 0.        , 0.00097656, 0.01269531, 0.06445312,\n",
       "        0.00292969, 0.00878906, 0.01171875, 0.00488281, 0.00097656,\n",
       "        0.00292969],\n",
       "       [0.02832031, 0.00390625, 0.69726562, 0.12207031, 0.00195312,\n",
       "        0.        , 0.01757812, 0.00097656, 0.00976562, 0.00683594,\n",
       "        0.09277344, 0.03125   , 0.00097656, 0.00097656, 0.00683594,\n",
       "        0.00683594],\n",
       "       [0.00390625, 0.02734375, 0.0546875 , 0.57421875, 0.        ,\n",
       "        0.        , 0.00097656, 0.01074219, 0.00292969, 0.00585938,\n",
       "        0.0078125 , 0.05957031, 0.00390625, 0.00292969, 0.0078125 ,\n",
       "        0.0078125 ],\n",
       "       [0.03125   , 0.00390625, 0.03613281, 0.00683594, 0.77734375,\n",
       "        0.15429688, 0.13085938, 0.02539062, 0.00292969, 0.00292969,\n",
       "        0.03417969, 0.00390625, 0.11816406, 0.02832031, 0.01855469,\n",
       "        0.00488281],\n",
       "       [0.00292969, 0.01660156, 0.00390625, 0.02929688, 0.0625    ,\n",
       "        0.65039062, 0.01855469, 0.08300781, 0.        , 0.00488281,\n",
       "        0.00488281, 0.02636719, 0.02246094, 0.04296875, 0.00292969,\n",
       "        0.00292969],\n",
       "       [0.00390625, 0.00195312, 0.02734375, 0.00976562, 0.04589844,\n",
       "        0.01269531, 0.69824219, 0.12109375, 0.02832031, 0.00488281,\n",
       "        0.0078125 , 0.00195312, 0.00292969, 0.        , 0.10742188,\n",
       "        0.02246094],\n",
       "       [0.00195312, 0.00683594, 0.00585938, 0.02441406, 0.00390625,\n",
       "        0.02929688, 0.04980469, 0.59472656, 0.00195312, 0.02148438,\n",
       "        0.        , 0.00195312, 0.00097656, 0.00195312, 0.01953125,\n",
       "        0.0390625 ],\n",
       "       [0.02636719, 0.03710938, 0.00488281, 0.00683594, 0.        ,\n",
       "        0.00097656, 0.        , 0.00097656, 0.70214844, 0.140625  ,\n",
       "        0.08886719, 0.01953125, 0.04296875, 0.00878906, 0.03222656,\n",
       "        0.00390625],\n",
       "       [0.01074219, 0.10546875, 0.00390625, 0.01074219, 0.        ,\n",
       "        0.00097656, 0.        , 0.00195312, 0.05859375, 0.64648438,\n",
       "        0.00488281, 0.06933594, 0.00585938, 0.04589844, 0.00292969,\n",
       "        0.03027344],\n",
       "       [0.        , 0.        , 0.02734375, 0.02734375, 0.        ,\n",
       "        0.        , 0.00097656, 0.        , 0.04492188, 0.00683594,\n",
       "        0.63183594, 0.1171875 , 0.00488281, 0.00292969, 0.03710938,\n",
       "        0.00683594],\n",
       "       [0.00097656, 0.00488281, 0.015625  , 0.06738281, 0.        ,\n",
       "        0.00097656, 0.        , 0.00195312, 0.00488281, 0.03125   ,\n",
       "        0.04492188, 0.578125  , 0.00292969, 0.00683594, 0.00488281,\n",
       "        0.02539062],\n",
       "       [0.00585938, 0.01660156, 0.00488281, 0.00390625, 0.03320312,\n",
       "        0.03710938, 0.03515625, 0.02148438, 0.01171875, 0.00976562,\n",
       "        0.0234375 , 0.00976562, 0.68261719, 0.15527344, 0.08105469,\n",
       "        0.015625  ],\n",
       "       [0.01367188, 0.00390625, 0.00195312, 0.00390625, 0.01269531,\n",
       "        0.06542969, 0.00195312, 0.02929688, 0.00390625, 0.00683594,\n",
       "        0.00488281, 0.02929688, 0.06347656, 0.65039062, 0.00488281,\n",
       "        0.09863281],\n",
       "       [0.        , 0.        , 0.00390625, 0.01757812, 0.02441406,\n",
       "        0.00585938, 0.02832031, 0.02929688, 0.00585938, 0.00195312,\n",
       "        0.03417969, 0.00585938, 0.02636719, 0.00292969, 0.60839844,\n",
       "        0.12988281],\n",
       "       [0.00292969, 0.        , 0.01757812, 0.00488281, 0.00878906,\n",
       "        0.02148438, 0.01269531, 0.078125  , 0.00097656, 0.01074219,\n",
       "        0.00292969, 0.03027344, 0.00195312, 0.02929688, 0.0625    ,\n",
       "        0.59960938]])"
      ]
     },
     "execution_count": 61,
     "metadata": {},
     "output_type": "execute_result"
    }
   ],
   "source": [
    "m2 = create_m(result_sim.results)\n",
    "m2"
   ]
  },
  {
   "cell_type": "code",
   "execution_count": 62,
   "id": "e30c7712",
   "metadata": {},
   "outputs": [
    {
     "data": {
      "text/plain": [
       "array([[0.59521484, 0.14794922, 0.07617188, 0.02685547, 0.04345703,\n",
       "        0.01757812, 0.02734375, 0.01220703, 0.11132812, 0.04150391,\n",
       "        0.02099609, 0.00830078, 0.03027344, 0.01660156, 0.00927734,\n",
       "        0.00732422],\n",
       "       [0.10449219, 0.5       , 0.02197266, 0.06933594, 0.01855469,\n",
       "        0.04492188, 0.00683594, 0.01708984, 0.02294922, 0.07421875,\n",
       "        0.01171875, 0.01953125, 0.01123047, 0.01953125, 0.00732422,\n",
       "        0.0078125 ],\n",
       "       [0.05615234, 0.01953125, 0.57373047, 0.14794922, 0.02539062,\n",
       "        0.01464844, 0.05419922, 0.02197266, 0.01953125, 0.01171875,\n",
       "        0.09082031, 0.04345703, 0.01025391, 0.00634766, 0.02734375,\n",
       "        0.01806641],\n",
       "       [0.01904297, 0.05615234, 0.09130859, 0.48974609, 0.01123047,\n",
       "        0.02441406, 0.01416016, 0.03955078, 0.00927734, 0.01855469,\n",
       "        0.02490234, 0.06982422, 0.00634766, 0.01074219, 0.01611328,\n",
       "        0.02001953],\n",
       "       [0.04003906, 0.02148438, 0.03857422, 0.01269531, 0.59863281,\n",
       "        0.15869141, 0.09863281, 0.03125   , 0.0234375 , 0.01123047,\n",
       "        0.02490234, 0.00878906, 0.10253906, 0.03222656, 0.02246094,\n",
       "        0.01660156],\n",
       "       [0.01220703, 0.03564453, 0.00634766, 0.03369141, 0.10498047,\n",
       "        0.50585938, 0.02148438, 0.07519531, 0.01074219, 0.02197266,\n",
       "        0.00439453, 0.02148438, 0.02929688, 0.06103516, 0.00683594,\n",
       "        0.01513672],\n",
       "       [0.0234375 , 0.01367188, 0.04492188, 0.02148438, 0.05664062,\n",
       "        0.02685547, 0.55761719, 0.15234375, 0.03027344, 0.00683594,\n",
       "        0.02636719, 0.00830078, 0.01708984, 0.01074219, 0.09130859,\n",
       "        0.03515625],\n",
       "       [0.01025391, 0.01953125, 0.01367188, 0.03515625, 0.01904297,\n",
       "        0.05126953, 0.09423828, 0.48046875, 0.00732422, 0.02294922,\n",
       "        0.00878906, 0.02001953, 0.00878906, 0.01416016, 0.02685547,\n",
       "        0.05419922],\n",
       "       [0.05322266, 0.03564453, 0.01367188, 0.01171875, 0.01660156,\n",
       "        0.00976562, 0.0078125 , 0.00390625, 0.52636719, 0.14697266,\n",
       "        0.08886719, 0.02880859, 0.05517578, 0.01904297, 0.03955078,\n",
       "        0.00976562],\n",
       "       [0.02001953, 0.07910156, 0.00830078, 0.01806641, 0.00537109,\n",
       "        0.01611328, 0.00244141, 0.00878906, 0.08642578, 0.47900391,\n",
       "        0.01904297, 0.06884766, 0.015625  , 0.05517578, 0.01367188,\n",
       "        0.03271484],\n",
       "       [0.01025391, 0.00927734, 0.03710938, 0.03125   , 0.00830078,\n",
       "        0.00439453, 0.01611328, 0.01220703, 0.05712891, 0.01757812,\n",
       "        0.49658203, 0.13964844, 0.01806641, 0.00683594, 0.04882812,\n",
       "        0.01855469],\n",
       "       [0.0078125 , 0.01269531, 0.02294922, 0.05810547, 0.00244141,\n",
       "        0.0078125 , 0.00927734, 0.01757812, 0.01416016, 0.05664062,\n",
       "        0.08544922, 0.46044922, 0.01220703, 0.02294922, 0.01953125,\n",
       "        0.03857422],\n",
       "       [0.01708984, 0.02050781, 0.00830078, 0.00390625, 0.04052734,\n",
       "        0.03320312, 0.03222656, 0.015625  , 0.03320312, 0.01513672,\n",
       "        0.03369141, 0.01660156, 0.51513672, 0.15673828, 0.06835938,\n",
       "        0.02685547],\n",
       "       [0.01269531, 0.01416016, 0.00439453, 0.00683594, 0.01757812,\n",
       "        0.05517578, 0.00439453, 0.0234375 , 0.00976562, 0.03125   ,\n",
       "        0.00830078, 0.03271484, 0.10546875, 0.49658203, 0.01708984,\n",
       "        0.08496094],\n",
       "       [0.01074219, 0.00341797, 0.02050781, 0.01367188, 0.02197266,\n",
       "        0.0078125 , 0.03857422, 0.02832031, 0.02783203, 0.00976562,\n",
       "        0.04296875, 0.01513672, 0.04833984, 0.01904297, 0.49072266,\n",
       "        0.14306641],\n",
       "       [0.00732422, 0.01123047, 0.01806641, 0.01953125, 0.00927734,\n",
       "        0.02148438, 0.01464844, 0.06005859, 0.01025391, 0.03466797,\n",
       "        0.01220703, 0.03808594, 0.01416016, 0.05224609, 0.09472656,\n",
       "        0.47119141]])"
      ]
     },
     "execution_count": 62,
     "metadata": {},
     "output_type": "execute_result"
    }
   ],
   "source": [
    "MG = (m1 + m2) / 2\n",
    "MG"
   ]
  },
  {
   "cell_type": "code",
   "execution_count": 63,
   "id": "f7e4af0a",
   "metadata": {},
   "outputs": [
    {
     "data": {
      "text/plain": [
       "[0.25, 0.25, 0, 0, 0, 0, 0, 0, 0, 0, 0, 0, 0, 0, 0.25, 0.25]"
      ]
     },
     "execution_count": 63,
     "metadata": {},
     "output_type": "execute_result"
    }
   ],
   "source": [
    "v_input = [0.25] + [0.25] + 12 * [0] + [0.25] + [0.25]\n",
    "v_input"
   ]
  },
  {
   "cell_type": "code",
   "execution_count": 64,
   "id": "aa721ab1",
   "metadata": {},
   "outputs": [
    {
     "data": {
      "text/plain": [
       "array([0.40702859, 0.95974453, 0.42166113, 0.82651957, 0.21580087,\n",
       "       0.43488465, 0.41554733, 0.47880249, 0.71294379, 0.75261474,\n",
       "       0.91001614, 0.58564618, 0.43872955, 0.24519346, 0.70930312,\n",
       "       0.82030093])"
      ]
     },
     "execution_count": 64,
     "metadata": {},
     "output_type": "execute_result"
    }
   ],
   "source": [
    "X = np.random.rand((16))\n",
    "X"
   ]
  },
  {
   "cell_type": "code",
   "execution_count": 65,
   "id": "0e14acd2",
   "metadata": {},
   "outputs": [
    {
     "data": {
      "text/plain": [
       "9.334737071312535"
      ]
     },
     "execution_count": 65,
     "metadata": {},
     "output_type": "execute_result"
    }
   ],
   "source": [
    "sum(X)"
   ]
  },
  {
   "cell_type": "code",
   "execution_count": 66,
   "id": "d0b7caf1",
   "metadata": {},
   "outputs": [],
   "source": [
    "cons = (\n",
    "    {'type': 'eq', 'fun': lambda x: sum(x) - 1},\n",
    ")"
   ]
  },
  {
   "cell_type": "code",
   "execution_count": 67,
   "id": "21521ee8",
   "metadata": {},
   "outputs": [],
   "source": [
    "bnds = tuple([(0,1) for _ in range(0,16)])\n"
   ]
  },
  {
   "cell_type": "code",
   "execution_count": 239,
   "id": "4dfa7c78",
   "metadata": {},
   "outputs": [
    {
     "name": "stdout",
     "output_type": "stream",
     "text": [
      "Optimization terminated successfully    (Exit mode 0)\n",
      "            Current function value: 1.8090862278165731e-10\n",
      "            Iterations: 5\n",
      "            Function evaluations: 87\n",
      "            Gradient evaluations: 5\n"
     ]
    }
   ],
   "source": [
    "res = minimize(cost_function, X, method='SLSQP', args=(v_input, MG), constraints=cons, bounds=bnds,\n",
    "               options={'gtol': 1e-6, 'disp': True})"
   ]
  },
  {
   "cell_type": "code",
   "execution_count": 240,
   "id": "2c324094",
   "metadata": {},
   "outputs": [
    {
     "data": {
      "text/plain": [
       "array([2.49990298e-01, 2.49993342e-01, 3.10890897e-06, 6.78906492e-21,\n",
       "       3.19664662e-07, 8.72512231e-19, 3.01009131e-06, 2.57784264e-06,\n",
       "       2.78804014e-06, 7.90417673e-07, 2.64156129e-06, 1.90687104e-07,\n",
       "       0.00000000e+00, 0.00000000e+00, 2.50001218e-01, 2.49999714e-01])"
      ]
     },
     "execution_count": 240,
     "metadata": {},
     "output_type": "execute_result"
    }
   ],
   "source": [
    "res.x"
   ]
  },
  {
   "cell_type": "code",
   "execution_count": 241,
   "id": "8ff51f76",
   "metadata": {},
   "outputs": [
    {
     "data": {
      "text/plain": [
       "1.0"
      ]
     },
     "execution_count": 241,
     "metadata": {},
     "output_type": "execute_result"
    }
   ],
   "source": [
    "sum(res.x)"
   ]
  },
  {
   "cell_type": "code",
   "execution_count": 242,
   "id": "486ff0b1",
   "metadata": {},
   "outputs": [
    {
     "data": {
      "text/plain": [
       "array([0.25, 0.25, 0.  , 0.  , 0.  , 0.  , 0.  , 0.  , 0.  , 0.  , 0.  ,\n",
       "       0.  , 0.  , 0.  , 0.25, 0.25])"
      ]
     },
     "execution_count": 242,
     "metadata": {},
     "output_type": "execute_result"
    }
   ],
   "source": [
    "np.round(res.x, 2)"
   ]
  },
  {
   "cell_type": "code",
   "execution_count": 70,
   "id": "b802c823",
   "metadata": {},
   "outputs": [
    {
     "data": {
      "image/png": "[encoded data removed]",
      "text/plain": [
       "<Figure size 1621.88x686.28 with 1 Axes>"
      ]
     },
     "execution_count": 70,
     "metadata": {},
     "output_type": "execute_result"
    }
   ],
   "source": [
    "ww = wave_function.copy()\n",
    "ww.measure_all()\n",
    "ww.draw('mpl')"
   ]
  },
  {
   "cell_type": "code",
   "execution_count": 79,
   "id": "2c023eec",
   "metadata": {},
   "outputs": [],
   "source": [
    "#def run_all(circuits):\n",
    "backend_sim = Aer.get_backend('qasm_simulator')\n",
    "circuits = second_half_composed\n",
    "#circuits = circuits[0:2]\n",
    "SHOTS = 1024\n",
    "job_sim = backend_sim.run(transpile(ww, backend_sim), shots=1024)\n",
    "\n",
    "# Grab the results from the job.\n",
    "result_sim = job_sim.result()"
   ]
  },
  {
   "cell_type": "code",
   "execution_count": 80,
   "id": "a532e377",
   "metadata": {
    "scrolled": true
   },
   "outputs": [
    {
     "data": {
      "image/png": "[encoded data removed]",
      "text/plain": [
       "<Figure size 504x360 with 1 Axes>"
      ]
     },
     "execution_count": 80,
     "metadata": {},
     "output_type": "execute_result"
    }
   ],
   "source": [
    "plot_histogram(result_sim.get_counts())"
   ]
  },
  {
   "cell_type": "code",
   "execution_count": 81,
   "id": "fd0f3f02",
   "metadata": {},
   "outputs": [
    {
     "data": {
      "text/plain": [
       "1024"
      ]
     },
     "execution_count": 81,
     "metadata": {},
     "output_type": "execute_result"
    }
   ],
   "source": [
    "np.sum(list(result_sim.get_counts().values()))"
   ]
  },
  {
   "cell_type": "code",
   "execution_count": 82,
   "id": "9b28ec81",
   "metadata": {},
   "outputs": [
    {
     "data": {
      "text/plain": [
       "[0.013671875,\n",
       " 0.015625,\n",
       " 0.013671875,\n",
       " 0.08984375,\n",
       " 0.0146484375,\n",
       " 0.240234375,\n",
       " 0.0771484375,\n",
       " 0.013671875,\n",
       " 0.021484375,\n",
       " 0.0810546875,\n",
       " 0.265625,\n",
       " 0.015625,\n",
       " 0.0888671875,\n",
       " 0.0126953125,\n",
       " 0.0126953125,\n",
       " 0.0234375]"
      ]
     },
     "execution_count": 82,
     "metadata": {},
     "output_type": "execute_result"
    }
   ],
   "source": [
    "v_new = []\n",
    "counts = result_sim.get_counts()\n",
    "for key in sorted(result_sim.get_counts()):\n",
    "    v_new.append( counts[key] / SHOTS )\n",
    "v_new"
   ]
  },
  {
   "cell_type": "code",
   "execution_count": 101,
   "id": "43314153",
   "metadata": {},
   "outputs": [
    {
     "name": "stdout",
     "output_type": "stream",
     "text": [
      "optimal function value: -4.0\n",
      "optimal value: [1. 0. 1. 0.]\n",
      "status: SUCCESS\n",
      "Number of samples (16) is too large to display. Skip.\n",
      "Expectation Value: -3.046875\n",
      "Highest Exp.Value: 0 with 2.5391 %\n",
      "Lowest Exp.Value: -4 with 54.883 %\n",
      "Highest Probability: -4 with 54.883 %\n",
      "Ratio r: 0.76171875\n",
      "Approiximation ratio: 0.08705357142857142\n",
      "MSE: 3.7626139322916665\n",
      "RMSE: 1.939745842189555\n"
     ]
    },
    {
     "data": {
      "image/png": "[encoded data removed]",
      "text/plain": [
       "<Figure size 504x360 with 1 Axes>"
      ]
     },
     "execution_count": 101,
     "metadata": {},
     "output_type": "execute_result"
    }
   ],
   "source": [
    "from qiskit.algorithms.optimizers import SPSA, COBYLA, QNSPSA\n",
    "qaoa1 = QAOA(quantum_instance=Aer.get_backend('qasm_simulator'), optimizer=COBYLA(maxiter=100))\n",
    "algorithm1 = MinimumEigenOptimizer(qaoa1)\n",
    "result1 = algorithm1.solve(qubo)\n",
    "result1.raw_samples\n",
    "mean, distribution = max_cut.analyse(result1, print_output=True)\n",
    "plot_histogram(distribution)"
   ]
  },
  {
   "cell_type": "code",
   "execution_count": 300,
   "id": "3295c8b9",
   "metadata": {},
   "outputs": [
    {
     "data": {
      "text/plain": [
       "array([ 0.39763271, -3.92897117])"
      ]
     },
     "execution_count": 300,
     "metadata": {},
     "output_type": "execute_result"
    }
   ],
   "source": [
    "qaoa1.optimal_params"
   ]
  },
  {
   "cell_type": "code",
   "execution_count": 6,
   "id": "a2022eb3",
   "metadata": {},
   "outputs": [],
   "source": [
    "#def run_all(circuits):\n",
    "backend_sim = provider.get_backend('ibmq_toronto')\n",
    "#circuits = second_half_composed\n",
    "#circuits = circuits[0:2]\n",
    "SHOTS = 1024\n",
    "#job_sim = backend_sim.run(transpile(ww, backend_sim), shots=1024)\n",
    "job_sim = backend_sim.retrieve_job('61322cfc30f13e195c88dce4')\n",
    "# Grab the results from the job.\n",
    "result_sim = job_sim.result()"
   ]
  },
  {
   "cell_type": "code",
   "execution_count": 7,
   "id": "aec75f29",
   "metadata": {},
   "outputs": [
    {
     "data": {
      "image/png": "[encoded data removed]",
      "text/plain": [
       "<Figure size 504x360 with 1 Axes>"
      ]
     },
     "execution_count": 7,
     "metadata": {},
     "output_type": "execute_result"
    }
   ],
   "source": [
    "plot_histogram(result_sim.get_counts())"
   ]
  },
  {
   "cell_type": "code",
   "execution_count": 8,
   "id": "d3a09928",
   "metadata": {},
   "outputs": [
    {
     "data": {
      "text/plain": [
       "[0.0595703125,\n",
       " 0.10546875,\n",
       " 0.140625,\n",
       " 0.0791015625,\n",
       " 0.078125,\n",
       " 0.0859375,\n",
       " 0.076171875,\n",
       " 0.025390625,\n",
       " 0.0576171875,\n",
       " 0.0380859375,\n",
       " 0.1337890625,\n",
       " 0.0361328125,\n",
       " 0.029296875,\n",
       " 0.021484375,\n",
       " 0.0205078125,\n",
       " 0.0126953125]"
      ]
     },
     "execution_count": 8,
     "metadata": {},
     "output_type": "execute_result"
    }
   ],
   "source": [
    "v_new_noise = []\n",
    "counts = result_sim.get_counts()\n",
    "for key in sorted(result_sim.get_counts()):\n",
    "    v_new_noise.append( counts[key] / SHOTS )\n",
    "v_new_noise"
   ]
  },
  {
   "cell_type": "code",
   "execution_count": 88,
   "id": "9d5ab211",
   "metadata": {},
   "outputs": [
    {
     "name": "stdout",
     "output_type": "stream",
     "text": [
      "Optimization terminated successfully    (Exit mode 0)\n",
      "            Current function value: 2.370177449493958e-05\n",
      "            Iterations: 8\n",
      "            Function evaluations: 136\n",
      "            Gradient evaluations: 8\n"
     ]
    }
   ],
   "source": [
    "res = minimize(cost_function, X, method='SLSQP', args=(v_new_noise, MG), constraints=cons, bounds=bnds,\n",
    "               options={'gtol': 1e-6, 'disp': True})"
   ]
  },
  {
   "cell_type": "code",
   "execution_count": 121,
   "id": "4b4aba43",
   "metadata": {},
   "outputs": [],
   "source": [
    "np.round(res.x,2)"
   ]
  },
  {
   "cell_type": "code",
   "execution_count": 94,
   "id": "5ee4b86a",
   "metadata": {},
   "outputs": [
    {
     "data": {
      "text/plain": [
       "1.0000000000000002"
      ]
     },
     "execution_count": 94,
     "metadata": {},
     "output_type": "execute_result"
    }
   ],
   "source": []
  },
  {
   "cell_type": "code",
   "execution_count": 90,
   "id": "36f6285a",
   "metadata": {},
   "outputs": [],
   "source": [
    "x_noise = res.x * 1024"
   ]
  },
  {
   "cell_type": "code",
   "execution_count": 96,
   "id": "61729d9f",
   "metadata": {},
   "outputs": [
    {
     "data": {
      "text/plain": [
       "1024.0"
      ]
     },
     "execution_count": 96,
     "metadata": {},
     "output_type": "execute_result"
    }
   ],
   "source": [
    "np.sum(np.round(x_noise,2))"
   ]
  },
  {
   "cell_type": "code",
   "execution_count": 97,
   "id": "66c77ea8",
   "metadata": {},
   "outputs": [
    {
     "data": {
      "text/plain": [
       "{'0000': 5.37,\n",
       " '0001': 167.05,\n",
       " '0010': 166.44,\n",
       " '0011': 89.44,\n",
       " '0100': 50.13,\n",
       " '0101': 132.72,\n",
       " '0110': 91.09,\n",
       " '0111': 0.0,\n",
       " '1000': 39.55,\n",
       " '1001': 22.86,\n",
       " '1010': 242.14,\n",
       " '1011': 0.25,\n",
       " '1100': 5.54,\n",
       " '1101': 11.42,\n",
       " '1110': 0.0,\n",
       " '1111': 0.0}"
      ]
     },
     "execution_count": 97,
     "metadata": {},
     "output_type": "execute_result"
    }
   ],
   "source": [
    "counts_noise = []\n",
    "counts = result_sim.get_counts()\n",
    "i = 0\n",
    "for key in sorted(result_sim.get_counts()):\n",
    "    counts[key] = np.round(x_noise[i],2)\n",
    "    i  += 1\n",
    "counts"
   ]
  },
  {
   "cell_type": "code",
   "execution_count": 98,
   "id": "c6120809",
   "metadata": {},
   "outputs": [
    {
     "data": {
      "image/png": "[encoded data removed]",
      "text/plain": [
       "<Figure size 504x360 with 1 Axes>"
      ]
     },
     "execution_count": 98,
     "metadata": {},
     "output_type": "execute_result"
    }
   ],
   "source": [
    "plot_histogram(counts)"
   ]
  },
  {
   "cell_type": "code",
   "execution_count": null,
   "id": "af2ae913",
   "metadata": {},
   "outputs": [],
   "source": [
    "#def run_all(circuits):\n",
    "backend_sim = provider.get_backend('ibmq_toronto')\n",
    "circuits = second_half_composed\n",
    "#circuits = circuits[0:2]\n",
    "SHOTS = 1024\n",
    "job_sim = backend_sim.run(transpile(ww, backend_sim), shots=1024)\n",
    "job_sim = backend_sim.retrieve_job('61322cfc30f13e195c88dce4')\n",
    "# Grab the results from the job.\n",
    "result_sim = job_sim.result()"
   ]
  },
  {
   "cell_type": "code",
   "execution_count": 11,
   "id": "78b3c4e3",
   "metadata": {},
   "outputs": [],
   "source": [
    "# Import measurement calibration functions\n",
    "from qiskit.ignis.mitigation.measurement import (complete_meas_cal, tensored_meas_cal,\n",
    "                                                 CompleteMeasFitter, TensoredMeasFitter)"
   ]
  },
  {
   "cell_type": "code",
   "execution_count": 13,
   "id": "73f9f271",
   "metadata": {},
   "outputs": [],
   "source": [
    "# Generate the calibration circuits\n",
    "qr = qiskit.QuantumRegister(4)\n",
    "qubit_list = [0,1,2,3]\n",
    "meas_calibs, state_labels = complete_meas_cal(qubit_list=qubit_list, qr=qr, circlabel='mcal')"
   ]
  },
  {
   "cell_type": "code",
   "execution_count": 9,
   "id": "a8c1f601",
   "metadata": {},
   "outputs": [],
   "source": [
    "# Execute the calibration circuits without noise\n",
    "backend = provider.get_backend('ibmq_toronto')\n",
    "#job = qiskit.execute(meas_calibs, backend=backend, shots=1024)\n",
    "job = backend_sim.retrieve_job('613232b361ab237f86beadbe')\n",
    "# 613232b361ab237f86beadbe\n",
    "cal_results = job.result()"
   ]
  },
  {
   "cell_type": "code",
   "execution_count": 21,
   "id": "7ea04172",
   "metadata": {},
   "outputs": [],
   "source": [
    "meas_fitter = CompleteMeasFitter(cal_results, state_labels, qubit_list=qubit_list,circlabel='mcal')"
   ]
  },
  {
   "cell_type": "code",
   "execution_count": 22,
   "id": "1403c588",
   "metadata": {},
   "outputs": [],
   "source": [
    "# Get the filter object\n",
    "meas_filter = meas_fitter.filter"
   ]
  },
  {
   "cell_type": "code",
   "execution_count": 27,
   "id": "62a7d9ff",
   "metadata": {},
   "outputs": [],
   "source": [
    "# Results with mitigation\n",
    "mitigated_results = meas_filter.apply(result_sim, 'least_squares')\n",
    "mitigated_counts = mitigated_results.get_counts(0)"
   ]
  },
  {
   "cell_type": "code",
   "execution_count": 26,
   "id": "0e5d2a97",
   "metadata": {},
   "outputs": [
    {
     "data": {
      "image/png": "[encoded data removed]",
      "text/plain": [
       "<Figure size 504x360 with 1 Axes>"
      ]
     },
     "execution_count": 26,
     "metadata": {},
     "output_type": "execute_result"
    }
   ],
   "source": [
    "plot_histogram([mitigated_counts, result_sim.get_counts()], legend=['mitigated','raw'])"
   ]
  },
  {
   "cell_type": "code",
   "execution_count": null,
   "id": "6ef0e4f1",
   "metadata": {},
   "outputs": [],
   "source": []
  },
  {
   "cell_type": "code",
   "execution_count": 124,
   "id": "4d6dc29b",
   "metadata": {},
   "outputs": [],
   "source": [
    "sasdf"
   ]
  },
  {
   "cell_type": "code",
   "execution_count": null,
   "id": "4a064262",
   "metadata": {},
   "outputs": [],
   "source": []
  }
 ],
 "metadata": {
  "kernelspec": {
   "display_name": "python3.8",
   "language": "python",
   "name": "python3.8"
  },
  "language_info": {
   "codemirror_mode": {
    "name": "ipython",
    "version": 3
   },
   "file_extension": ".py",
   "mimetype": "text/x-python",
   "name": "python",
   "nbconvert_exporter": "python",
   "pygments_lexer": "ipython3",
   "version": "3.8.6"
  }
 },
 "nbformat": 4,
 "nbformat_minor": 5
}
