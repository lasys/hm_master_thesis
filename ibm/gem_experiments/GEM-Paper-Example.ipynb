{
 "cells": [
  {
   "cell_type": "code",
   "execution_count": 30,
   "id": "5d73ba68",
   "metadata": {},
   "outputs": [
    {
     "name": "stderr",
     "output_type": "stream",
     "text": [
      "ibmqfactory.load_account:WARNING:2021-09-04 16:27:43,949: Credentials are already in use. The existing account in the session will be replaced.\n"
     ]
    }
   ],
   "source": [
    "import numpy as np\n",
    "import qiskit \n",
    "# Importing standard Qiskit libraries\n",
    "from qiskit import QuantumCircuit, transpile, Aer, IBMQ\n",
    "from qiskit.tools.jupyter import *\n",
    "from qiskit.visualization import *\n",
    "from qiskit.providers.aer import QasmSimulator\n",
    "from qiskit import QuantumRegister, ClassicalRegister, QuantumCircuit\n",
    "\n",
    "#%matplotlib inline\n",
    "\n",
    "# Loading your IBM Quantum account(s)\n",
    "provider = IBMQ.load_account()\n",
    "provider = qiskit.IBMQ.get_provider(hub='ibm-q-unibw', group='hochschule-muc', project='masterarbeit')\n"
   ]
  },
  {
   "cell_type": "code",
   "execution_count": 31,
   "id": "96865a70",
   "metadata": {},
   "outputs": [],
   "source": [
    "# https://arxiv.org/pdf/2011.10860.pdf"
   ]
  },
  {
   "cell_type": "code",
   "execution_count": 32,
   "id": "df71f475",
   "metadata": {},
   "outputs": [
    {
     "data": {
      "image/png": "[encoded data removed]",
      "text/plain": [
       "<Figure size 253.926x144.48 with 1 Axes>"
      ]
     },
     "execution_count": 32,
     "metadata": {},
     "output_type": "execute_result"
    }
   ],
   "source": [
    "circuit_1 = QuantumCircuit(1,1)\n",
    "circuit_1.h(0)\n",
    "circuit_1.h(0)\n",
    "circuit_1.measure(0,0)\n",
    "circuit_1.draw('mpl')"
   ]
  },
  {
   "cell_type": "code",
   "execution_count": 33,
   "id": "295d590d",
   "metadata": {},
   "outputs": [
    {
     "data": {
      "image/png": "[encoded data removed]",
      "text/plain": [
       "<Figure size 314.126x144.48 with 1 Axes>"
      ]
     },
     "execution_count": 33,
     "metadata": {},
     "output_type": "execute_result"
    }
   ],
   "source": [
    "circuit_2 = QuantumCircuit(1,1)\n",
    "circuit_2.x(0)\n",
    "circuit_2.h(0)\n",
    "circuit_2.h(0)\n",
    "circuit_2.measure(0,0)\n",
    "circuit_2.draw('mpl')"
   ]
  },
  {
   "cell_type": "code",
   "execution_count": 34,
   "id": "6f539ea5",
   "metadata": {},
   "outputs": [
    {
     "data": {
      "image/png": "[encoded data removed]",
      "text/plain": [
       "<Figure size 253.926x144.48 with 1 Axes>"
      ]
     },
     "execution_count": 34,
     "metadata": {},
     "output_type": "execute_result"
    }
   ],
   "source": [
    "circuit_3 = QuantumCircuit(1,1)\n",
    "circuit_3.y(0)\n",
    "circuit_3.y(0)\n",
    "circuit_3.measure(0,0)\n",
    "circuit_3.draw('mpl')"
   ]
  },
  {
   "cell_type": "code",
   "execution_count": 35,
   "id": "456111dc",
   "metadata": {},
   "outputs": [
    {
     "data": {
      "image/png": "[encoded data removed]",
      "text/plain": [
       "<Figure size 314.126x144.48 with 1 Axes>"
      ]
     },
     "execution_count": 35,
     "metadata": {},
     "output_type": "execute_result"
    }
   ],
   "source": [
    "circuit_4 = QuantumCircuit(1,1)\n",
    "circuit_4.x(0)\n",
    "circuit_4.y(0)\n",
    "circuit_4.y(0)\n",
    "circuit_4.measure(0,0)\n",
    "circuit_4.draw('mpl')"
   ]
  },
  {
   "cell_type": "code",
   "execution_count": 36,
   "id": "93aab518",
   "metadata": {},
   "outputs": [],
   "source": [
    "def run_circuit(circuit):\n",
    "    backend_sim = Aer.get_backend('qasm_simulator')\n",
    "    SHOTS = 1024\n",
    "    job_sim = backend_sim.run(transpile(circuit, backend_sim), shots=1024)\n",
    "    result_sim = job_sim.result()\n",
    "    counts = result_sim.get_counts()\n",
    "    freq_0 = 0.\n",
    "    freq_1 = 0.\n",
    "    for k,v in sorted(counts.items()):\n",
    "        if k == '0':\n",
    "            freq_0 = v / SHOTS\n",
    "        if k == '1':\n",
    "            freq_1 = v / SHOTS\n",
    "    return freq_0, freq_1\n",
    "    "
   ]
  },
  {
   "cell_type": "code",
   "execution_count": 37,
   "id": "6c8feaec",
   "metadata": {},
   "outputs": [
    {
     "name": "stdout",
     "output_type": "stream",
     "text": [
      "V: [1.0, 0.0, 0.0, 1.0, 1.0, 0.0, 0.0, 1.0]\n",
      "M1:\n",
      "[[1. 0.]\n",
      " [0. 1.]]\n",
      "M2:\n",
      "[[1. 0.]\n",
      " [0. 1.]]\n",
      "MG:\n",
      "[[1. 0.]\n",
      " [0. 1.]]\n"
     ]
    }
   ],
   "source": [
    "v1, v2 = run_circuit(circuit_1)\n",
    "v3, v4 = run_circuit(circuit_2)\n",
    "v5, v6 = run_circuit(circuit_3)\n",
    "v7, v8 = run_circuit(circuit_4)\n",
    "\n",
    "V = [v1, v2, v3, v4, v5, v6, v7, v8]\n",
    "\n",
    "print(f\"V: {V}\")\n",
    "\n",
    "M1 = np.array([[v1, v3],\n",
    "               [v2, v4]\n",
    "              ])\n",
    "\n",
    "M2 = np.array([[v5, v7],\n",
    "               [v6, v8]\n",
    "              ])\n",
    "\n",
    "print(\"M1:\")\n",
    "print(M1)\n",
    "print(\"M2:\")\n",
    "print(M2)\n",
    "\n",
    "MG = (M1 + M2) / 2\n",
    "print(\"MG:\")\n",
    "print(MG)"
   ]
  },
  {
   "cell_type": "code",
   "execution_count": 38,
   "id": "f6868bf6",
   "metadata": {},
   "outputs": [
    {
     "data": {
      "text/plain": [
       "array([0.43540484, 0.04217401])"
      ]
     },
     "execution_count": 38,
     "metadata": {},
     "output_type": "execute_result"
    }
   ],
   "source": [
    "X = np.random.rand(2)\n",
    "X"
   ]
  },
  {
   "cell_type": "code",
   "execution_count": 39,
   "id": "d564b215",
   "metadata": {},
   "outputs": [
    {
     "data": {
      "text/plain": [
       "array([0.43540484, 0.04217401])"
      ]
     },
     "execution_count": 39,
     "metadata": {},
     "output_type": "execute_result"
    }
   ],
   "source": [
    "MG @ X"
   ]
  },
  {
   "cell_type": "code",
   "execution_count": 40,
   "id": "43f0b5f8",
   "metadata": {},
   "outputs": [],
   "source": [
    "def cost_function(X, V, M):\n",
    "    cost = 0\n",
    "    MX = M @ X  \n",
    "    for i in range(0, len(V)):\n",
    "        v = V[i]\n",
    "        cost += ( v - MX[i] ) ** 2\n",
    "    return cost"
   ]
  },
  {
   "cell_type": "code",
   "execution_count": 41,
   "id": "9e75f6f8",
   "metadata": {},
   "outputs": [],
   "source": [
    "v = [0., 1.0] # das ist die Messung \n",
    "# x ist dann die Lösung! "
   ]
  },
  {
   "cell_type": "code",
   "execution_count": 42,
   "id": "0dbba2b3",
   "metadata": {},
   "outputs": [],
   "source": [
    "from scipy.optimize import minimize"
   ]
  },
  {
   "cell_type": "code",
   "execution_count": 43,
   "id": "eda58c41",
   "metadata": {},
   "outputs": [],
   "source": [
    "cons = (\n",
    "    {'type': 'eq', 'fun': lambda x: sum(x) - 1},\n",
    ")"
   ]
  },
  {
   "cell_type": "code",
   "execution_count": 44,
   "id": "afb22051",
   "metadata": {},
   "outputs": [],
   "source": [
    "bnds = tuple([(0,1) for _ in range(0,2)])"
   ]
  },
  {
   "cell_type": "code",
   "execution_count": 45,
   "id": "49541eeb",
   "metadata": {},
   "outputs": [
    {
     "name": "stdout",
     "output_type": "stream",
     "text": [
      "Optimization terminated successfully    (Exit mode 0)\n",
      "            Current function value: 2.465190328815662e-32\n",
      "            Iterations: 2\n",
      "            Function evaluations: 6\n",
      "            Gradient evaluations: 2\n"
     ]
    }
   ],
   "source": [
    "res = minimize(cost_function, X, method='SLSQP', args=(v, MG), constraints=cons, bounds=bnds,\n",
    "               options={'gtol': 1e-6, 'disp': True})"
   ]
  },
  {
   "cell_type": "code",
   "execution_count": 46,
   "id": "3d134d5e",
   "metadata": {},
   "outputs": [
    {
     "data": {
      "text/plain": [
       "array([0., 1.])"
      ]
     },
     "execution_count": 46,
     "metadata": {},
     "output_type": "execute_result"
    }
   ],
   "source": [
    "np.round(res.x,1) # entspricht ungefähr v "
   ]
  },
  {
   "cell_type": "code",
   "execution_count": 47,
   "id": "7839ff58",
   "metadata": {},
   "outputs": [
    {
     "data": {
      "text/plain": [
       "2.465190328815662e-32"
      ]
     },
     "execution_count": 47,
     "metadata": {},
     "output_type": "execute_result"
    }
   ],
   "source": [
    "cost_function(res.x, v, MG)"
   ]
  },
  {
   "cell_type": "code",
   "execution_count": null,
   "id": "d9a765dd",
   "metadata": {},
   "outputs": [],
   "source": []
  }
 ],
 "metadata": {
  "kernelspec": {
   "display_name": "python3.8",
   "language": "python",
   "name": "python3.8"
  },
  "language_info": {
   "codemirror_mode": {
    "name": "ipython",
    "version": 3
   },
   "file_extension": ".py",
   "mimetype": "text/x-python",
   "name": "python",
   "nbconvert_exporter": "python",
   "pygments_lexer": "ipython3",
   "version": "3.8.6"
  }
 },
 "nbformat": 4,
 "nbformat_minor": 5
}
