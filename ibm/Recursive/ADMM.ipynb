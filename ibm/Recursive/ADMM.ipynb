{
 "cells": [
  {
   "cell_type": "code",
   "execution_count": 1,
   "id": "e9981db9",
   "metadata": {},
   "outputs": [],
   "source": [
    "import sys\n",
    "import os\n",
    "sys.path.insert(0, os.path.abspath('../'))\n",
    "sys.path.insert(0, os.path.abspath('../../'))\n",
    "sys.path.insert(0, os.path.abspath('/home/hm-tlacherm/qlm_notebooks/notebooks_1.2.1/notebooks/master_thesis_qaoa/'))\n",
    "sys.path.insert(0, os.path.abspath('/home/hm-tlacherm/qlm_notebooks/notebooks_1.2.1/notebooks/master_thesis_qaoa/ibm/'))"
   ]
  },
  {
   "cell_type": "code",
   "execution_count": 2,
   "id": "ff9618f1",
   "metadata": {},
   "outputs": [],
   "source": [
    "import numpy as np\n",
    "\n",
    "import qiskit\n",
    "provider = qiskit.IBMQ.load_account()\n",
    "from qiskit import Aer\n",
    "from qiskit.utils import QuantumInstance\n",
    "from qiskit_optimization.algorithms import MinimumEigenOptimizer\n",
    "from qiskit.algorithms import QAOA\n",
    "from shared.QiskitMaxcut import *\n",
    "from ibm.ibm_parameters import *\n",
    "\n",
    "from matplotlib import pyplot as plt\n",
    "%matplotlib inline"
   ]
  },
  {
   "cell_type": "code",
   "execution_count": 3,
   "id": "bef7df34",
   "metadata": {},
   "outputs": [],
   "source": [
    "%load_ext autoreload\n",
    "%autoreload 2"
   ]
  },
  {
   "cell_type": "code",
   "execution_count": 4,
   "id": "bd667193",
   "metadata": {},
   "outputs": [
    {
     "data": {
      "image/png": "[encoded data removed]",
      "text/plain": [
       "<Figure size 432x288 with 1 Axes>"
      ]
     },
     "metadata": {},
     "output_type": "display_data"
    }
   ],
   "source": [
    "# ---- Define graph and MaxCut ----\n",
    "graph = generate_butterfly_graph(with_weights=True)\n",
    "#graph = load_nx_graph_from(\"/home/hm-tlacherm/qlm_notebooks/notebooks_1.2.1/notebooks/master_thesis_qaoa/data/graphs/16_nodes/graph_16_33_01_w.txt\")\n",
    "\n",
    "max_cut = Maxcut(graph)\n",
    "max_cut_qubo = max_cut.to_qubo()\n",
    "max_cut.draw()"
   ]
  },
  {
   "cell_type": "code",
   "execution_count": 5,
   "id": "88c753ee",
   "metadata": {},
   "outputs": [],
   "source": [
    "from qiskit_optimization.algorithms.admm_optimizer import ADMMParameters, ADMMOptimizer"
   ]
  },
  {
   "cell_type": "code",
   "execution_count": 9,
   "id": "c84f65e2",
   "metadata": {},
   "outputs": [],
   "source": [
    "quantum_instance = QuantumInstance(\n",
    "                    backend=Aer.get_backend(DEFAULT_QASM_SIMULATOR),\n",
    "                    shots=SHOTS\n",
    ")"
   ]
  },
  {
   "cell_type": "code",
   "execution_count": 16,
   "id": "8e722acd",
   "metadata": {},
   "outputs": [],
   "source": [
    "BACKEND_NAME = 'ibmq_toronto'\n",
    "provider = qiskit.IBMQ.get_provider(hub='ibm-q-unibw', group='hochschule-muc', project='masterarbeit')\n",
    "noise_backend = provider.get_backend(BACKEND_NAME)\n",
    "noise_model = NoiseModel.from_backend(noise_backend)\n",
    "coupling_map = noise_backend.configuration().coupling_map\n",
    "basis_gates = noise_model.basis_gates"
   ]
  },
  {
   "cell_type": "code",
   "execution_count": 17,
   "id": "239b0e76",
   "metadata": {},
   "outputs": [],
   "source": [
    "# Import measurement calibration functions\n",
    "from qiskit.ignis.mitigation.measurement import (complete_meas_cal, tensored_meas_cal,\n",
    "                                                 CompleteMeasFitter, TensoredMeasFitter)\n",
    "quantum_instance_noise = QuantumInstance(\n",
    "                backend=Aer.get_backend(DEFAULT_QASM_SIMULATOR),\n",
    "                shots=SHOTS,\n",
    "                noise_model=noise_model,\n",
    "                coupling_map=coupling_map,\n",
    "                basis_gates=basis_gates,\n",
    "                measurement_error_mitigation_cls=CompleteMeasFitter,\n",
    "                measurement_error_mitigation_shots=SHOTS\n",
    ")"
   ]
  },
  {
   "cell_type": "code",
   "execution_count": null,
   "id": "0b4d75e3",
   "metadata": {},
   "outputs": [],
   "source": []
  },
  {
   "cell_type": "code",
   "execution_count": 31,
   "id": "f0107567",
   "metadata": {},
   "outputs": [],
   "source": [
    "qaoa = QAOA(optimizer=COBYLA(maxiter=10),\n",
    "            quantum_instance=quantum_instance,\n",
    "            reps=1,\n",
    "            initial_point=[0.25, 0.25]\n",
    "           )"
   ]
  },
  {
   "cell_type": "code",
   "execution_count": 32,
   "id": "39ed3fb4",
   "metadata": {},
   "outputs": [],
   "source": [
    "algorithm = MinimumEigenOptimizer(qaoa)\n",
    "#optimizer = RecursiveMinimumEigenOptimizer(algorithm, history=IntermediateResult.ALL_ITERATIONS)\n",
    "#result = optimizer.solve(max_cut_qubo)"
   ]
  },
  {
   "cell_type": "code",
   "execution_count": 33,
   "id": "67b51f43",
   "metadata": {},
   "outputs": [],
   "source": [
    "admm_params = ADMMParameters(\n",
    "                            rho_initial=1001, \n",
    "                            beta=1000, \n",
    "                            factor_c=900,\n",
    "                            maxiter=100,\n",
    "                            three_block=True, tol=1.e-6\n",
    "                        )"
   ]
  },
  {
   "cell_type": "code",
   "execution_count": 39,
   "id": "1af053e2",
   "metadata": {},
   "outputs": [],
   "source": [
    "from qiskit_optimization.algorithms import CobylaOptimizer, MinimumEigenOptimizer\n",
    "\n",
    "# define QUBO optimizer\n",
    "qubo_optimizer = algorithm\n",
    "# qubo_optimizer = cplex  # uncomment to use CPLEX instead\n",
    "\n",
    "# define classical optimizer\n",
    "convex_optimizer = CobylaOptimizer()\n",
    "# convex_optimizer = cplex  # uncomment to use CPLEX instead\n",
    "\n",
    "# initialize ADMM with classical QUBO and convex optimizer\n",
    "admm = ADMMOptimizer(params=admm_params, \n",
    "                     qubo_optimizer=qubo_optimizer,\n",
    "                     continuous_optimizer=convex_optimizer)\n",
    "\n",
    "qb = max_cut_qubo.to_docplex()"
   ]
  },
  {
   "cell_type": "code",
   "execution_count": 40,
   "id": "ae8024fe",
   "metadata": {},
   "outputs": [
    {
     "data": {
      "text/plain": [
       "docplex.mp.Model['Max-cut']"
      ]
     },
     "execution_count": 40,
     "metadata": {},
     "output_type": "execute_result"
    }
   ],
   "source": [
    "qb"
   ]
  },
  {
   "cell_type": "code",
   "execution_count": 41,
   "id": "e7721847",
   "metadata": {},
   "outputs": [],
   "source": [
    "result = admm.solve(max_cut_qubo)"
   ]
  },
  {
   "cell_type": "code",
   "execution_count": 42,
   "id": "2e09b695",
   "metadata": {},
   "outputs": [
    {
     "name": "stdout",
     "output_type": "stream",
     "text": [
      "Optimal Parameters: [1.27136633 0.3087344 ]\n"
     ]
    }
   ],
   "source": [
    "optimal_parameters = qaoa.optimal_params\n",
    "print(f\"Optimal Parameters: {optimal_parameters}\")"
   ]
  },
  {
   "cell_type": "code",
   "execution_count": 43,
   "id": "e0da9606",
   "metadata": {},
   "outputs": [
    {
     "name": "stdout",
     "output_type": "stream",
     "text": [
      "optimal function value: 0.0\n",
      "optimal value: [0. 0. 0. 0. 0.]\n",
      "status: SUCCESS\n",
      "00000: value: 0.000, probability: 100.0%\n",
      "Expectation Value: 0.0\n",
      "Highest Exp.Value: 0 with 1.0\n",
      "Lowest Exp.Value: 0 with 1.0\n",
      "Highest Probability: 0 with 1.0\n",
      "Ratio r: nan\n",
      "MSE: 0.0\n",
      "RMSE: 0.0\n"
     ]
    },
    {
     "data": {
      "image/png": "[encoded data removed]",
      "text/plain": [
       "<Figure size 504x360 with 1 Axes>"
      ]
     },
     "metadata": {
      "needs_background": "light"
     },
     "output_type": "display_data"
    }
   ],
   "source": [
    "mean, distribution = max_cut.analyse(result, print_output=True)\n",
    "max_cut.plot_histogram(distribution, mean)"
   ]
  },
  {
   "cell_type": "code",
   "execution_count": null,
   "id": "4a21325c",
   "metadata": {},
   "outputs": [],
   "source": []
  },
  {
   "cell_type": "code",
   "execution_count": null,
   "id": "6e946e69",
   "metadata": {},
   "outputs": [],
   "source": []
  }
 ],
 "metadata": {
  "kernelspec": {
   "display_name": "python3.8",
   "language": "python",
   "name": "python3.8"
  },
  "language_info": {
   "codemirror_mode": {
    "name": "ipython",
    "version": 3
   },
   "file_extension": ".py",
   "mimetype": "text/x-python",
   "name": "python",
   "nbconvert_exporter": "python",
   "pygments_lexer": "ipython3",
   "version": "3.8.6"
  }
 },
 "nbformat": 4,
 "nbformat_minor": 5
}
