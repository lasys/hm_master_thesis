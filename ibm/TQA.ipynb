{
 "cells": [
  {
   "cell_type": "code",
   "execution_count": 1,
   "id": "d70f36b9",
   "metadata": {},
   "outputs": [],
   "source": [
    "import sys\n",
    "import os\n",
    "sys.path.insert(0, os.path.abspath('../'))\n",
    "sys.path.insert(0, os.path.abspath('../../'))\n",
    "sys.path.insert(0, os.path.abspath('/home/hm-tlacherm/qlm_notebooks/notebooks_1.2.1/notebooks/master_thesis_qaoa/'))\n",
    "sys.path.insert(0, os.path.abspath('/home/hm-tlacherm/qlm_notebooks/notebooks_1.2.1/notebooks/master_thesis_qaoa/ibm/'))\n",
    "sys.path.insert(0, os.path.abspath('/home/hm-tlacherm/qlm_notebooks/notebooks_1.2.1/notebooks/master_thesis_qaoa/aqt/'))"
   ]
  },
  {
   "cell_type": "code",
   "execution_count": 2,
   "id": "5890a2c4",
   "metadata": {},
   "outputs": [],
   "source": [
    "import numpy as np\n",
    "import networkx as nx\n",
    "from itertools import product\n",
    "import numba as nb\n",
    "import copy\n",
    "import matplotlib.pyplot as plt\n",
    "from scipy import optimize"
   ]
  },
  {
   "cell_type": "code",
   "execution_count": 3,
   "id": "d597a68d",
   "metadata": {},
   "outputs": [],
   "source": [
    "import numpy as np\n",
    "\n",
    "import qiskit\n",
    "provider = qiskit.IBMQ.load_account()\n",
    "from qiskit import Aer\n",
    "from qiskit.utils import QuantumInstance\n",
    "from qiskit_optimization.algorithms import MinimumEigenOptimizer\n",
    "from qiskit.algorithms import QAOA\n",
    "from shared.QiskitMaxcut import *\n",
    "from ibm.ibm_parameters import *\n",
    "\n",
    "from matplotlib import pyplot as plt\n",
    "%matplotlib inline"
   ]
  },
  {
   "cell_type": "code",
   "execution_count": 4,
   "id": "094315ba",
   "metadata": {},
   "outputs": [],
   "source": [
    "import networkx as nx\n",
    "import numpy as np\n",
    "import glob\n",
    "from sys import platform as _platform\n",
    "\n",
    "\n",
    "def generate_butterfly_graph(with_weights=True):\n",
    "    # Generate a graph of 5 nodes\n",
    "    # filename = graph_05_06_02_w.txt\n",
    "    n = 5\n",
    "    graph = nx.Graph()\n",
    "    graph.add_nodes_from(np.arange(0, n, 1))\n",
    "    if with_weights:\n",
    "        elist = [(0, 3, 9), (0, 4, 6), (1, 2, 9), (1, 4, 10), (2, 4, 7), (3, 4, 7)]\n",
    "        graph.name = \"graph_05_06_02_w\"\n",
    "    else:\n",
    "        elist = [(0, 3, 1), (0, 4, 1), (1, 2, 1), (1, 4, 1), (2, 4, 1), (3, 4, 1)]\n",
    "        graph.name = \"graph_05_06_02\"\n",
    "    graph.add_weighted_edges_from(elist)\n",
    "    \n",
    "    return graph"
   ]
  },
  {
   "cell_type": "code",
   "execution_count": 119,
   "id": "ec8df0a6",
   "metadata": {},
   "outputs": [
    {
     "data": {
      "image/png": "[encoded data removed]",
      "text/plain": [
       "<Figure size 432x288 with 1 Axes>"
      ]
     },
     "metadata": {},
     "output_type": "display_data"
    }
   ],
   "source": [
    "# Set everything up and show the graph\n",
    "#N = 16\n",
    "seed = 42 \n",
    "#G = load_nx_graph_from(\"/home/hm-tlacherm/qlm_notebooks/notebooks_1.2.1/notebooks/master_thesis_qaoa/data/graphs/16_nodes/graph_16_33_01_w.txt\")\n",
    "#G = load_nx_graph_from(\"/home/hm-tlacherm/qlm_notebooks/notebooks_1.2.1/notebooks/master_thesis_qaoa/data/graphs/10_nodes/graph_10_29_01.txt\")\n",
    "\n",
    "G = generate_butterfly_graph(with_weights=True)\n",
    "edges = nx.edge_betweenness(G).keys()\n",
    "nodes = G.nodes\n",
    "N = len(nodes)\n",
    "nx.draw(G)\n",
    "initial_state = np.ones(2 ** N) / np.sqrt(2) ** N\n",
    "# Create full Hilbertspace to use in creation of the Hamiltonians\n",
    "H = np.array(list(product([1, -1], repeat=N)))"
   ]
  },
  {
   "cell_type": "code",
   "execution_count": 120,
   "id": "ea843727",
   "metadata": {},
   "outputs": [],
   "source": [
    "\n",
    "# Fast Hadamard transformation\n",
    "\n",
    "@nb.njit # Just in time compilation for massive speed-up\n",
    "def fwht(a):\n",
    "    h = 1\n",
    "    tmp = a.copy()\n",
    "    while 2 * h <= len(a):\n",
    "        for i in range(0, len(a) - 1, h * 2):\n",
    "            for j in range(i, i + h):\n",
    "                x = tmp[j]\n",
    "                y = tmp[j + h]\n",
    "                tmp[j] = x + y\n",
    "                tmp[j + h] = x - y\n",
    "        h *= 2\n",
    "    return tmp\n",
    "\n",
    "def ifwht(a):\n",
    "    return fwht(a) / len(a)"
   ]
  },
  {
   "cell_type": "code",
   "execution_count": 121,
   "id": "b988f61b",
   "metadata": {},
   "outputs": [],
   "source": [
    "# Classical Hamiltonian, the ground state is the MaxCut solution\n",
    "# we use the QAOA to find an approximation to the ground state variationally\n",
    "def H_C():\n",
    "    tmp = np.zeros(2**N)\n",
    "    for i, j in edges:\n",
    "        tmp += H[:, i] * H[:, j]\n",
    "    return tmp"
   ]
  },
  {
   "cell_type": "code",
   "execution_count": 122,
   "id": "b741a725",
   "metadata": {},
   "outputs": [],
   "source": [
    "# Quantum Hamiltonian, the ground state is an equal superposition of all solutions, i.e. all possible graph cuts\n",
    "def H_B():\n",
    "    tmp = np.zeros(2**N)\n",
    "    for i in nodes:\n",
    "        tmp += H[:, i]\n",
    "    return tmp"
   ]
  },
  {
   "cell_type": "code",
   "execution_count": 123,
   "id": "034aeacf",
   "metadata": {},
   "outputs": [],
   "source": [
    "def qaoa_state(x):\n",
    "\n",
    "    # Create the QAOA ansatz state, note that we use a fast Hadamard \n",
    "    # transformation (n log(n)) to keep the operators diagonal and use vector-vector \n",
    "    # multiplication rather than matrix-vector mutliplication where the \n",
    "    # matrix would be the matrix exponential of H_B which would be very slow\n",
    "\n",
    "    beta, gamma = np.split(x, 2)\n",
    "    state = copy.copy(initial_state)\n",
    "\n",
    "    for g, b in zip(gamma, beta):\n",
    "\n",
    "        state = np.exp(1j * g * H_C()) * state\n",
    "        state = fwht(state)              # Fast Hadamard transformation\n",
    "        state = np.exp(-1j * b * H_B()) * state\n",
    "        state = ifwht(state)             # inverse Fast Hadamard transformation\n",
    "\n",
    "    return state"
   ]
  },
  {
   "cell_type": "code",
   "execution_count": 124,
   "id": "b1fd2f90",
   "metadata": {},
   "outputs": [],
   "source": [
    "def energy_expectation_value(state):\n",
    "    return np.real(np.vdot(state, H_C() * state))"
   ]
  },
  {
   "cell_type": "code",
   "execution_count": null,
   "id": "a2971aa4",
   "metadata": {},
   "outputs": [],
   "source": []
  },
  {
   "cell_type": "code",
   "execution_count": 125,
   "id": "1b485872",
   "metadata": {},
   "outputs": [],
   "source": [
    "\n",
    "# Loop over different evolution times\n",
    "time = np.linspace(0.0, 2, 200)\n",
    "\n",
    "energies = []\n",
    "for p in [1,2,3,4]:\n",
    "    energy = []\n",
    "    for t_max in time: \n",
    "        \n",
    "        dt = t_max / p\n",
    "        t = dt * (np.arange(1, p + 1) - 0.5)\n",
    "        gamma = (t / t_max) * dt\n",
    "        beta = (1 - (t / t_max)) * dt\n",
    "        x = np.concatenate((beta, gamma))\n",
    "        energy.append(energy_expectation_value(qaoa_state(x)))\n",
    "\n",
    "    energies.append(energy)"
   ]
  },
  {
   "cell_type": "code",
   "execution_count": 126,
   "id": "ec1f9737",
   "metadata": {},
   "outputs": [
    {
     "data": {
      "text/plain": [
       "<matplotlib.legend.Legend at 0x1505ad279a90>"
      ]
     },
     "execution_count": 126,
     "metadata": {},
     "output_type": "execute_result"
    },
    {
     "data": {
      "image/png": "[encoded data removed]",
      "text/plain": [
       "<Figure size 432x288 with 1 Axes>"
      ]
     },
     "metadata": {
      "needs_background": "light"
     },
     "output_type": "display_data"
    }
   ],
   "source": [
    "\n",
    "plt.plot(time, energies[0]/min(H_C()), label=\"p=1\")\n",
    "plt.plot(time, energies[1]/min(H_C()), label=\"p=2\")\n",
    "plt.plot(time, energies[2]/min(H_C()), label=\"p=3\")\n",
    "plt.plot(time, energies[3]/min(H_C()), label=\"p=4\")\n",
    "plt.xlabel('Time')\n",
    "plt.ylabel('Approximation ratio')\n",
    "plt.legend(frameon=False)"
   ]
  },
  {
   "cell_type": "code",
   "execution_count": 127,
   "id": "6b0bf9c0",
   "metadata": {},
   "outputs": [
    {
     "name": "stdout",
     "output_type": "stream",
     "text": [
      "Optimal evolution time is 0.0 with an approximation ratio of nan\n"
     ]
    }
   ],
   "source": [
    "# Find optimal time \n",
    "idx = np.argmin(energies[0])\n",
    "t_max = time[idx]\n",
    "print(f'Optimal evolution time is {t_max} with an approximation ratio of {energies[0][idx]/min(H_C())}')"
   ]
  },
  {
   "cell_type": "code",
   "execution_count": null,
   "id": "e3c5ae22",
   "metadata": {},
   "outputs": [],
   "source": []
  },
  {
   "cell_type": "code",
   "execution_count": 112,
   "id": "47ab3a94",
   "metadata": {},
   "outputs": [],
   "source": [
    "# Fix initial beta and gamma values\n",
    "p = 1\n",
    "dt = t_max / p\n",
    "t = dt * (np.arange(1, p + 1) - 0.5)\n",
    "gamma = (t / t_max) * dt\n",
    "beta = (1 - (t / t_max)) * dt\n",
    "x0 = np.concatenate((beta, gamma))"
   ]
  },
  {
   "cell_type": "code",
   "execution_count": 113,
   "id": "e98aceed",
   "metadata": {},
   "outputs": [
    {
     "data": {
      "text/plain": [
       "array([1.26507538])"
      ]
     },
     "execution_count": 113,
     "metadata": {},
     "output_type": "execute_result"
    }
   ],
   "source": [
    "gamma"
   ]
  },
  {
   "cell_type": "code",
   "execution_count": 114,
   "id": "c2f59c1c",
   "metadata": {},
   "outputs": [
    {
     "data": {
      "text/plain": [
       "array([1.26507538])"
      ]
     },
     "execution_count": 114,
     "metadata": {},
     "output_type": "execute_result"
    }
   ],
   "source": [
    "beta"
   ]
  },
  {
   "cell_type": "code",
   "execution_count": 90,
   "id": "3820b52c",
   "metadata": {},
   "outputs": [],
   "source": [
    "func_to_optimize = lambda x: energy_expectation_value(qaoa_state(x))\n",
    "result_tqa = optimize.minimize(func_to_optimize, x0, method='BFGS')"
   ]
  },
  {
   "cell_type": "code",
   "execution_count": 91,
   "id": "2d3061a8",
   "metadata": {},
   "outputs": [
    {
     "name": "stdout",
     "output_type": "stream",
     "text": [
      "Final approximation ratio from TQA init. is 0.9287644729543443\n"
     ]
    }
   ],
   "source": [
    "print(f'Final approximation ratio from TQA init. is {result_tqa.fun/min(H_C())}')\n"
   ]
  },
  {
   "cell_type": "code",
   "execution_count": 92,
   "id": "d135c533",
   "metadata": {},
   "outputs": [],
   "source": [
    "# Quick comparison with a single QAOA run lauched from a random initialization\n",
    "x0_random = np.concatenate((np.random.uniform(-np.pi/4, np.pi/4, p), np.random.uniform(-np.pi/2, np.pi/2, p)))\n",
    "result_rand = optimize.minimize(func_to_optimize, x0_random, method='BFGS')"
   ]
  },
  {
   "cell_type": "code",
   "execution_count": 93,
   "id": "594168fc",
   "metadata": {},
   "outputs": [
    {
     "name": "stdout",
     "output_type": "stream",
     "text": [
      "Final approximation ratio from random init. is 0.928764472954362\n"
     ]
    }
   ],
   "source": [
    "print(f'Final approximation ratio from random init. is {result_rand.fun/min(H_C())}')\n"
   ]
  },
  {
   "cell_type": "code",
   "execution_count": null,
   "id": "4eae314e",
   "metadata": {},
   "outputs": [],
   "source": []
  },
  {
   "cell_type": "code",
   "execution_count": 116,
   "id": "c50fa121",
   "metadata": {},
   "outputs": [
    {
     "name": "stdout",
     "output_type": "stream",
     "text": [
      "optimal function value: -4.0\n",
      "optimal value: [1. 1. 0. 0. 0.]\n",
      "status: SUCCESS\n",
      "Number of samples (32) is too large to display. Skip.\n",
      "Expectation Value: -3.20275\n",
      "Highest Exp.Value: 0 with 0.5499999999999999 %\n",
      "Lowest Exp.Value: -4 with 60.687000000000005 %\n",
      "Highest Probability: -4 with 60.687000000000005 %\n",
      "Ratio r: 0.8006875\n",
      "Approiximation ratio: 0.8006875\n",
      "MSE: 4.113274229166667\n",
      "RMSE: 2.0281208615776984\n"
     ]
    },
    {
     "data": {
      "text/plain": [
       "(-3.20275, {-4: 0.6068749999999999, -2: 0.387625, 0: 0.0055})"
      ]
     },
     "execution_count": 116,
     "metadata": {},
     "output_type": "execute_result"
    }
   ],
   "source": [
    "max_cut = Maxcut(G, -4)\n",
    "max_cut_qubo = max_cut.to_qubo()\n",
    "from qiskit.algorithms.minimum_eigen_solvers.qaoa import QAOA\n",
    "quantum_instance = QuantumInstance(\n",
    "                    backend=Aer.get_backend(DEFAULT_QASM_SIMULATOR),\n",
    "                    shots=SHOTS)\n",
    "qaoa = QAOA(\n",
    "            optimizer=COBYLA(maxiter=0),\n",
    "            quantum_instance=quantum_instance,\n",
    "            reps=p,\n",
    "            initial_point=np.concatenate((gamma,beta))\n",
    "            )\n",
    "\n",
    "op, offset = max_cut_qubo.to_ising()\n",
    "from qiskit_optimization.algorithms.minimum_eigen_optimizer import (\n",
    "    MinimumEigenOptimizer,\n",
    "    MinimumEigenOptimizationResult,\n",
    ")\n",
    "result = MinimumEigenOptimizer(qaoa).solve(max_cut_qubo)\n",
    "max_cut.analyse(result, print_output=True)"
   ]
  },
  {
   "cell_type": "code",
   "execution_count": null,
   "id": "34e205f3",
   "metadata": {},
   "outputs": [],
   "source": []
  },
  {
   "cell_type": "code",
   "execution_count": null,
   "id": "78472dd1",
   "metadata": {},
   "outputs": [],
   "source": []
  }
 ],
 "metadata": {
  "kernelspec": {
   "display_name": "python3.8",
   "language": "python",
   "name": "python3.8"
  },
  "language_info": {
   "codemirror_mode": {
    "name": "ipython",
    "version": 3
   },
   "file_extension": ".py",
   "mimetype": "text/x-python",
   "name": "python",
   "nbconvert_exporter": "python",
   "pygments_lexer": "ipython3",
   "version": "3.8.6"
  }
 },
 "nbformat": 4,
 "nbformat_minor": 5
}
