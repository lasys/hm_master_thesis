{
 "cells": [
  {
   "cell_type": "markdown",
   "source": [
    "## Warmstart + Mitiq + Error Mitigation + Noise Backend + Optuna (IBM)"
   ],
   "metadata": {
    "collapsed": false
   }
  },
  {
   "cell_type": "code",
   "execution_count": null,
   "outputs": [],
   "source": [
    "import sys\n",
    "import os\n",
    "sys.path.insert(0, os.path.abspath('../'))\n",
    "sys.path.insert(0, os.path.abspath('../../'))"
   ],
   "metadata": {
    "collapsed": false,
    "pycharm": {
     "name": "#%%\n"
    }
   }
  },
  {
   "cell_type": "code",
   "execution_count": 1,
   "metadata": {},
   "outputs": [],
   "source": [
    "import qiskit\n",
    "provider = qiskit.IBMQ.load_account()"
   ]
  },
  {
   "cell_type": "code",
   "execution_count": null,
   "outputs": [],
   "source": [
    "import optuna\n",
    "from qiskit import Aer\n",
    "from qiskit.algorithms import QAOA\n",
    "from qiskit_optimization.algorithms import MinimumEigenOptimizer\n",
    "from qiskit_optimization.algorithms import WarmStartQAOAOptimizer, SlsqpOptimizer, CobylaOptimizer\n",
    "from qiskit.ignis.mitigation import CompleteMeasFitter\n",
    "\n",
    "from shared.QiskitMaxcut import *\n",
    "from shared.Mitiq_QAOA import *\n",
    "from ibm.ibm_parameters import *\n",
    "%matplotlib inline"
   ],
   "metadata": {
    "collapsed": false,
    "pycharm": {
     "name": "#%%\n"
    }
   }
  },
  {
   "cell_type": "code",
   "execution_count": 2,
   "metadata": {},
   "outputs": [],
   "source": [
    "print_parameters()"
   ]
  },
  {
   "cell_type": "code",
   "execution_count": null,
   "outputs": [],
   "source": [
    "# ---- Define graph and MaxCut ----\n",
    "graph = load_graph()\n",
    "max_cut = Maxcut(graph)\n",
    "max_cut_qubo = max_cut.to_qubo()\n",
    "max_cut.draw()"
   ],
   "metadata": {
    "collapsed": false,
    "pycharm": {
     "name": "#%%\n"
    }
   }
  },
  {
   "cell_type": "code",
   "execution_count": 20,
   "metadata": {},
   "outputs": [],
   "source": [
    "def init_qaoa(optimizer, reps, init_parameters):\n",
    "    quantum_instance = QuantumInstance(\n",
    "                    backend=Aer.get_backend(DEFAULT_QASM_SIMULATOR),\n",
    "                    shots=SHOTS,\n",
    "                    noise_model=noise_model,\n",
    "                    coupling_map=coupling_map,\n",
    "                    basis_gates=basis_gates,\n",
    "                    measurement_error_mitigation_cls=CompleteMeasFitter,\n",
    "                    measurement_error_mitigation_shots=SHOTS\n",
    "    )\n",
    "\n",
    "    # generate QAOA to get circuit\n",
    "    pre_qaoa = QAOA(optimizer=COBYLA(maxiter=1, tol=0), quantum_instance=quantum_instance, reps=reps, initial_point=init_parameters)\n",
    "    MinimumEigenOptimizer(pre_qaoa).solve(max_cut_qubo)\n",
    "\n",
    "    circuit = pre_qaoa.get_optimal_circuit()\n",
    "    circuit.measure_all()\n",
    "\n",
    "    if optimizer == \"QN-SPSA\":\n",
    "        fidelity = QNSPSA.get_fidelity(pre_qaoa.ansatz)\n",
    "        optimizer = QNSPSA(fidelity, maxiter=MAX_ITER)\n",
    "\n",
    "    mitiq_qaoa = Mitiq_QAOA(mitiq_circuit=circuit.copy(),\n",
    "                            optimizer=optimizer,\n",
    "                            quantum_instance=quantum_instance,\n",
    "                            reps=reps,\n",
    "                            initial_point=init_parameters)\n",
    "\n",
    "    ws_qaoa = WarmStartQAOAOptimizer(pre_solver=SlsqpOptimizer(),\n",
    "                                     relax_for_pre_solver=True,\n",
    "                                     qaoa=mitiq_qaoa)\n",
    "\n",
    "    return ws_qaoa"
   ]
  },
  {
   "cell_type": "code",
   "execution_count": 21,
   "metadata": {},
   "outputs": [],
   "source": [
    "def run(max_cut_problem, qaoa):\n",
    "    # Run quantum algorithm QAOA\n",
    "    result = qaoa.solve(max_cut_problem)\n",
    "    optimal_parameters = qaoa._qaoa.optimal_params\n",
    "    return result, optimal_parameters.copy()"
   ]
  },
  {
   "cell_type": "code",
   "execution_count": 22,
   "metadata": {},
   "outputs": [],
   "source": [
    "def objective(trial):\n",
    "    optimizer_name = trial.suggest_categorical(\"optimizer\", optimizers.keys())\n",
    "    reps = trial.suggest_int('reps', REPS_MIN, REPS_MAX)\n",
    "    parameters = []\n",
    "    for i in range(reps):\n",
    "        parameters.append(trial.suggest_uniform(f'gamma_{i}', GAMMA_MIN, GAMMA_MAX))\n",
    "\n",
    "    for i in range(reps):\n",
    "        parameters.append(trial.suggest_uniform(f'beta_{i}', BETA_MIN, BETA_MAX))\n",
    "\n",
    "    optimizer = optimizers[optimizer_name]\n",
    "\n",
    "    qaoa = init_qaoa(optimizer, reps, parameters)\n",
    "\n",
    "    result, optimal_parameters = run(max_cut_qubo, qaoa)\n",
    "\n",
    "    mean, distribution = max_cut.analyse(result)\n",
    "\n",
    "    trial.set_user_attr(key=\"best\", value=[mean,result,optimal_parameters, optimizer_name])\n",
    "\n",
    "    return mean"
   ]
  },
  {
   "cell_type": "code",
   "execution_count": 24,
   "metadata": {
    "scrolled": true
   },
   "outputs": [
    {
     "name": "stderr",
     "output_type": "stream",
     "text": [
      "\u001B[32m[I 2021-07-22 17:23:21,501]\u001B[0m A new study created in memory with name: no-name-91895096-bad2-4807-989b-4364ae266b51\u001B[0m\n",
      "\u001B[32m[I 2021-07-22 17:24:06,589]\u001B[0m Trial 0 finished with value: -25.014766057576466 and parameters: {'optimizer': 'COBYLA', 'reps': 6, 'gamma_0': 0.6401019190511641, 'gamma_1': -1.3354332041188237, 'gamma_2': -2.5961714966283007, 'gamma_3': -1.1145033562286382, 'gamma_4': 1.2204918150033786, 'gamma_5': 3.042513573407348, 'beta_0': 2.6276991111211307, 'beta_1': 2.2824419438071555, 'beta_2': -0.3396473328779859, 'beta_3': 2.908431156465901, 'beta_4': 2.1878548189406724, 'beta_5': 2.928898853551183}. Best is trial 0 with value: -25.014766057576466.\u001B[0m\n",
      "\u001B[32m[I 2021-07-22 17:26:11,959]\u001B[0m Trial 1 finished with value: -24.369168563746264 and parameters: {'optimizer': 'SPSA', 'reps': 7, 'gamma_0': -1.1095968984467222, 'gamma_1': -1.2991053963516868, 'gamma_2': 2.178471726650698, 'gamma_3': -1.8502988420613211, 'gamma_4': -1.8546632432503503, 'gamma_5': 0.05216491469917184, 'gamma_6': -0.2531459384645416, 'beta_0': -1.3470950901234848, 'beta_1': -2.187543634925361, 'beta_2': -1.2666707138050297, 'beta_3': 2.7486002511744942, 'beta_4': -0.6660719835244087, 'beta_5': 2.1260594443502256, 'beta_6': -0.8012748470933677}. Best is trial 0 with value: -25.014766057576466.\u001B[0m\n",
      "\u001B[32m[I 2021-07-22 17:28:27,864]\u001B[0m Trial 2 finished with value: -25.884133382752445 and parameters: {'optimizer': 'SPSA', 'reps': 8, 'gamma_0': -2.455773546789308, 'gamma_1': -2.834797653285364, 'gamma_2': 2.368943591251935, 'gamma_3': -0.39832435992672455, 'gamma_4': 0.08631353853950863, 'gamma_5': -0.8080795531266136, 'gamma_6': -2.5895972377995915, 'gamma_7': 0.27254950485745644, 'beta_0': 2.265524615290696, 'beta_1': -2.969399466484917, 'beta_2': 2.2738159516747896, 'beta_3': -2.0604856540915293, 'beta_4': -1.4598375510057193, 'beta_5': -0.23539818484000197, 'beta_6': 0.9079522212322964, 'beta_7': 0.0921004442235156}. Best is trial 2 with value: -25.884133382752445.\u001B[0m\n",
      "\u001B[32m[I 2021-07-22 17:28:47,500]\u001B[0m Trial 3 finished with value: -26.61144251958972 and parameters: {'optimizer': 'COBYLA', 'reps': 3, 'gamma_0': -2.078950913965647, 'gamma_1': 0.6117125164552562, 'gamma_2': 0.11667521037992046, 'beta_0': 0.1482792636898096, 'beta_1': -0.052018454318778495, 'beta_2': -2.649752058694162}. Best is trial 3 with value: -26.61144251958972.\u001B[0m\n",
      "\u001B[32m[I 2021-07-22 17:29:36,286]\u001B[0m Trial 4 finished with value: -24.504824523283364 and parameters: {'optimizer': 'SPSA', 'reps': 1, 'gamma_0': -0.1487975449939869, 'beta_0': 2.973895067568235}. Best is trial 3 with value: -26.61144251958972.\u001B[0m\n",
      "\u001B[32m[I 2021-07-22 17:30:29,812]\u001B[0m Trial 5 finished with value: -23.90455195880678 and parameters: {'optimizer': 'COBYLA', 'reps': 8, 'gamma_0': -2.1175280113562795, 'gamma_1': 0.9060067538455661, 'gamma_2': -2.6396245766698625, 'gamma_3': -2.534520887708662, 'gamma_4': -0.41946723039871747, 'gamma_5': 1.5559588726334574, 'gamma_6': 0.36633795805081926, 'gamma_7': 2.920654470982611, 'beta_0': 1.0153713746226734, 'beta_1': 1.0730887383638192, 'beta_2': 2.999079310850541, 'beta_3': -2.758223208530031, 'beta_4': 2.6778654756309592, 'beta_5': 2.7575860233591447, 'beta_6': -1.0699490120935957, 'beta_7': -3.114304957170033}. Best is trial 3 with value: -26.61144251958972.\u001B[0m\n",
      "\u001B[32m[I 2021-07-22 17:30:50,301]\u001B[0m Trial 6 finished with value: -27.0608134809518 and parameters: {'optimizer': 'COBYLA', 'reps': 3, 'gamma_0': -2.460181816466768, 'gamma_1': -2.2811842518329324, 'gamma_2': 2.3181790639823214, 'beta_0': 1.9337351784387415, 'beta_1': 3.031917589616155, 'beta_2': 2.3647719356687738}. Best is trial 6 with value: -27.0608134809518.\u001B[0m\n",
      "\u001B[32m[I 2021-07-22 17:31:54,245]\u001B[0m Trial 7 finished with value: -27.362185178463736 and parameters: {'optimizer': 'COBYLA', 'reps': 10, 'gamma_0': -0.1026138907485179, 'gamma_1': 0.2412870349904166, 'gamma_2': 3.041541320659003, 'gamma_3': 0.47826190093821763, 'gamma_4': -2.3405542043311245, 'gamma_5': 2.0169565046357807, 'gamma_6': -2.8475513290739785, 'gamma_7': -0.7160901343819281, 'gamma_8': -1.0647138602884052, 'gamma_9': 2.6769455915412426, 'beta_0': 0.8727102998942522, 'beta_1': 2.9820050469247867, 'beta_2': -0.13632106128723898, 'beta_3': -2.3882814973107207, 'beta_4': -1.6573275305163637, 'beta_5': 2.0199099192301446, 'beta_6': 0.40634034680214626, 'beta_7': 2.6091223255890776, 'beta_8': -2.5109706243955197, 'beta_9': 2.1153943975911513}. Best is trial 7 with value: -27.362185178463736.\u001B[0m\n",
      "\u001B[32m[I 2021-07-22 17:34:20,757]\u001B[0m Trial 8 finished with value: -24.947270865085965 and parameters: {'optimizer': 'SPSA', 'reps': 9, 'gamma_0': -2.341245821821739, 'gamma_1': -2.3444021671152897, 'gamma_2': -1.845940375895869, 'gamma_3': -0.7028025215223459, 'gamma_4': -0.9242586730496369, 'gamma_5': 0.025810798130724066, 'gamma_6': 1.1840536494607932, 'gamma_7': -1.464884352198522, 'gamma_8': 0.7105252053820688, 'beta_0': -1.495723920594597, 'beta_1': -2.122753058699594, 'beta_2': -2.307467831548519, 'beta_3': 2.946661563638102, 'beta_4': -2.4493949400259742, 'beta_5': 2.2217285816981533, 'beta_6': -0.08855925301961243, 'beta_7': -0.6841271412654497, 'beta_8': -1.8247735745916487}. Best is trial 7 with value: -27.362185178463736.\u001B[0m\n",
      "\u001B[32m[I 2021-07-22 17:34:26,871]\u001B[0m Trial 9 finished with value: -25.875879147161214 and parameters: {'optimizer': 'COBYLA', 'reps': 1, 'gamma_0': -2.3485376016495034, 'beta_0': 1.5410348969425165}. Best is trial 7 with value: -27.362185178463736.\u001B[0m\n",
      "\u001B[32m[I 2021-07-22 17:35:30,881]\u001B[0m Trial 10 finished with value: -23.097173226123505 and parameters: {'optimizer': 'COBYLA', 'reps': 10, 'gamma_0': 2.9097274290540134, 'gamma_1': 2.285933547557139, 'gamma_2': 0.26125111953381674, 'gamma_3': 2.141120608458486, 'gamma_4': -2.727514663974206, 'gamma_5': 2.850674352278402, 'gamma_6': -2.8149674610089463, 'gamma_7': 0.4754571642007406, 'gamma_8': -3.0151491076376407, 'gamma_9': 2.5346328264798137, 'beta_0': -2.58795518611167, 'beta_1': -0.03475752420483367, 'beta_2': 0.7663907364581773, 'beta_3': -0.1451898397740584, 'beta_4': -3.129054997902036, 'beta_5': -2.9855369818851316, 'beta_6': 2.9878415940693253, 'beta_7': 3.050185707937297, 'beta_8': 2.5713886956370873, 'beta_9': 2.0435839079986344}. Best is trial 7 with value: -27.362185178463736.\u001B[0m\n",
      "\u001B[32m[I 2021-07-22 17:36:00,519]\u001B[0m Trial 11 finished with value: -23.32343815163062 and parameters: {'optimizer': 'COBYLA', 'reps': 4, 'gamma_0': 1.695624373025725, 'gamma_1': -0.33193272947895225, 'gamma_2': 2.9882804987114415, 'gamma_3': 1.6306944833473223, 'beta_0': 0.4890744954733509, 'beta_1': 3.019414085326134, 'beta_2': 0.941820849157859, 'beta_3': -0.8896060704757829}. Best is trial 7 with value: -27.362185178463736.\u001B[0m\n",
      "\u001B[32m[I 2021-07-22 17:36:21,339]\u001B[0m Trial 12 finished with value: -23.746933663396053 and parameters: {'optimizer': 'COBYLA', 'reps': 3, 'gamma_0': -0.732115684672145, 'gamma_1': 1.945718335612644, 'gamma_2': 1.334093116630928, 'beta_0': 1.7280076646710911, 'beta_1': 2.9524530179604263, 'beta_2': 1.4202995783067276}. Best is trial 7 with value: -27.362185178463736.\u001B[0m\n",
      "\u001B[32m[I 2021-07-22 17:36:51,518]\u001B[0m Trial 13 finished with value: -25.40924604113733 and parameters: {'optimizer': 'COBYLA', 'reps': 4, 'gamma_0': 1.0966273356312555, 'gamma_1': -0.3095149440361794, 'gamma_2': 3.1114616803962845, 'gamma_3': 0.9867803534037733, 'beta_0': -0.9283256540609124, 'beta_1': 1.6876284691237597, 'beta_2': -0.7081399676508965, 'beta_3': 0.8292299870660124}. Best is trial 7 with value: -27.362185178463736.\u001B[0m\n",
      "\u001B[32m[I 2021-07-22 17:37:30,350]\u001B[0m Trial 14 finished with value: -26.60752931763208 and parameters: {'optimizer': 'COBYLA', 'reps': 5, 'gamma_0': 2.585701923150134, 'gamma_1': -1.54148632080421, 'gamma_2': 1.3481175793974565, 'gamma_3': 2.9732532328035286, 'gamma_4': 3.0983731991703447, 'beta_0': -0.4053273592012183, 'beta_1': 3.124208425790774, 'beta_2': 2.0738457457695496, 'beta_3': -2.9208225269684203, 'beta_4': 0.9358739600782198}. Best is trial 7 with value: -27.362185178463736.\u001B[0m\n",
      "\u001B[32m[I 2021-07-22 17:37:43,290]\u001B[0m Trial 15 finished with value: -23.282766724618842 and parameters: {'optimizer': 'COBYLA', 'reps': 2, 'gamma_0': -0.8714475631672687, 'gamma_1': 1.2111123210589199, 'beta_0': 0.944973011672852, 'beta_1': 1.0477327603110542}. Best is trial 7 with value: -27.362185178463736.\u001B[0m\n"
     ]
    },
    {
     "name": "stderr",
     "output_type": "stream",
     "text": [
      "\u001B[32m[I 2021-07-22 17:38:47,381]\u001B[0m Trial 16 finished with value: -24.424581563866774 and parameters: {'optimizer': 'COBYLA', 'reps': 10, 'gamma_0': -1.5404293999949135, 'gamma_1': 0.04607688498772833, 'gamma_2': -1.0130481942866885, 'gamma_3': 0.819902156710284, 'gamma_4': -3.127261644311579, 'gamma_5': -2.2504375860759733, 'gamma_6': 2.972928521257481, 'gamma_7': -3.1026074273350734, 'gamma_8': -2.205494099774731, 'gamma_9': -2.258704241113303, 'beta_0': 2.0096976672696822, 'beta_1': 2.313282765781732, 'beta_2': -1.5524970965820197, 'beta_3': -1.6162149623918123, 'beta_4': 0.5648991401205841, 'beta_5': 0.4318604222913942, 'beta_6': -2.989295695523539, 'beta_7': 3.0894655310702954, 'beta_8': -2.906112799573757, 'beta_9': 3.0327073463573644}. Best is trial 7 with value: -27.362185178463736.\u001B[0m\n",
      "\u001B[32m[I 2021-07-22 17:39:30,969]\u001B[0m Trial 17 finished with value: -25.993773318313337 and parameters: {'optimizer': 'COBYLA', 'reps': 6, 'gamma_0': -3.05749210043691, 'gamma_1': 3.048536291887529, 'gamma_2': 1.8075518336068435, 'gamma_3': 0.39048292073011426, 'gamma_4': -2.0201407330652876, 'gamma_5': 1.6241138089706628, 'beta_0': 1.1454419430605403, 'beta_1': -1.0749869390721174, 'beta_2': -0.1672711663586824, 'beta_3': 1.318192406495618, 'beta_4': -1.718684189767939, 'beta_5': 0.7024679672183093}. Best is trial 7 with value: -27.362185178463736.\u001B[0m\n",
      "\u001B[32m[I 2021-07-22 17:39:46,951]\u001B[0m Trial 18 finished with value: -26.673587216172884 and parameters: {'optimizer': 'COBYLA', 'reps': 2, 'gamma_0': 0.01705374162470638, 'gamma_1': -2.2678393687168965, 'beta_0': 3.1102420267971853, 'beta_1': 2.191451364578966}. Best is trial 7 with value: -27.362185178463736.\u001B[0m\n",
      "\u001B[32m[I 2021-07-22 17:40:25,860]\u001B[0m Trial 19 finished with value: -27.99178850761587 and parameters: {'optimizer': 'COBYLA', 'reps': 5, 'gamma_0': -3.1328191981460316, 'gamma_1': -0.7378395859127543, 'gamma_2': 3.0473633046490187, 'gamma_3': 2.4714879610934517, 'gamma_4': 1.363739457061674, 'beta_0': -0.2990959413508669, 'beta_1': 0.9715456914243688, 'beta_2': 0.5276817814472516, 'beta_3': -1.2469105065206292, 'beta_4': -3.1341269580867417}. Best is trial 19 with value: -27.99178850761587.\u001B[0m\n",
      "\u001B[32m[I 2021-07-22 17:41:04,757]\u001B[0m Trial 20 finished with value: -25.89899026857191 and parameters: {'optimizer': 'COBYLA', 'reps': 5, 'gamma_0': 2.0682442330903617, 'gamma_1': -0.7717538995615726, 'gamma_2': 3.1281725802251743, 'gamma_3': 2.9279435196441392, 'gamma_4': 2.1035591483157523, 'beta_0': -2.0929954058228795, 'beta_1': 0.7183278412269544, 'beta_2': 0.4492063637211092, 'beta_3': -1.3802287658054213, 'beta_4': -2.860140706624914}. Best is trial 19 with value: -27.99178850761587.\u001B[0m\n",
      "\u001B[32m[I 2021-07-22 17:41:36,474]\u001B[0m Trial 21 finished with value: -26.408093335939043 and parameters: {'optimizer': 'COBYLA', 'reps': 4, 'gamma_0': -2.9526501849644924, 'gamma_1': -2.0396523898438237, 'gamma_2': 2.709590393610983, 'gamma_3': 2.0563369240546936, 'beta_0': -0.2940065846248024, 'beta_1': 1.7881414853661632, 'beta_2': 2.8805914931777, 'beta_3': -0.4327937580503418}. Best is trial 19 with value: -27.99178850761587.\u001B[0m\n",
      "\u001B[32m[I 2021-07-22 17:42:25,329]\u001B[0m Trial 22 finished with value: -25.82392725681661 and parameters: {'optimizer': 'COBYLA', 'reps': 7, 'gamma_0': -3.0212734210328374, 'gamma_1': 0.38624929446205947, 'gamma_2': 0.9864392048543698, 'gamma_3': 1.355869657796504, 'gamma_4': 1.0936967793869727, 'gamma_5': 1.8163282491297934, 'gamma_6': -1.3956567764758643, 'beta_0': 0.4090016426161609, 'beta_1': -0.7286246630175306, 'beta_2': 1.7916308178827807, 'beta_3': -2.0953887053479776, 'beta_4': -1.9361249434770418, 'beta_5': -1.479115894073853, 'beta_6': 1.8264768178606428}. Best is trial 19 with value: -27.99178850761587.\u001B[0m\n",
      "\u001B[32m[I 2021-07-22 17:42:47,254]\u001B[0m Trial 23 finished with value: -26.865488846153937 and parameters: {'optimizer': 'COBYLA', 'reps': 3, 'gamma_0': -1.5954588045807978, 'gamma_1': -0.8924992074889657, 'gamma_2': 2.098017887279016, 'beta_0': -0.7202079450263882, 'beta_1': 2.678143587762176, 'beta_2': 0.2579946871981901}. Best is trial 19 with value: -27.99178850761587.\u001B[0m\n",
      "\u001B[32m[I 2021-07-22 17:43:26,022]\u001B[0m Trial 24 finished with value: -27.344845241321824 and parameters: {'optimizer': 'COBYLA', 'reps': 5, 'gamma_0': 0.03556375435180721, 'gamma_1': -3.1218001826566324, 'gamma_2': 3.0431205447353955, 'gamma_3': -0.014558520938589128, 'gamma_4': 3.0151483601092943, 'beta_0': 0.6121032094616226, 'beta_1': 1.5724083447117463, 'beta_2': -0.9241919072669187, 'beta_3': -2.8606591599366764, 'beta_4': -0.7437611571041739}. Best is trial 19 with value: -27.99178850761587.\u001B[0m\n",
      "\u001B[32m[I 2021-07-22 17:44:02,745]\u001B[0m Trial 25 finished with value: -22.752976734718217 and parameters: {'optimizer': 'COBYLA', 'reps': 5, 'gamma_0': 0.0815919655654472, 'gamma_1': -3.0582810141335366, 'gamma_2': 2.964205138112498, 'gamma_3': 0.2096255486258375, 'gamma_4': 3.108352994567406, 'beta_0': 0.7307450789843644, 'beta_1': 0.5404354032198944, 'beta_2': -1.0298118270771386, 'beta_3': -3.1047143616484574, 'beta_4': -0.6576006944538463}. Best is trial 19 with value: -27.99178850761587.\u001B[0m\n",
      "\u001B[32m[I 2021-07-22 17:44:51,578]\u001B[0m Trial 26 finished with value: -26.36220334253624 and parameters: {'optimizer': 'COBYLA', 'reps': 7, 'gamma_0': 0.7621449837503125, 'gamma_1': 1.516590157594046, 'gamma_2': 1.6547439442526515, 'gamma_3': -1.1820050327415377, 'gamma_4': 2.0535699083876002, 'gamma_5': 0.8888671791095636, 'gamma_6': -1.663881219943193, 'beta_0': -0.14855787723843916, 'beta_1': 1.558608955585673, 'beta_2': -1.799259888166987, 'beta_3': -2.200091905684248, 'beta_4': -0.7054865193494733, 'beta_5': 1.3797925905547566, 'beta_6': -2.440786625267567}. Best is trial 19 with value: -27.99178850761587.\u001B[0m\n",
      "\u001B[32m[I 2021-07-22 17:46:40,139]\u001B[0m Trial 27 finished with value: -26.987314108203794 and parameters: {'optimizer': 'SPSA', 'reps': 6, 'gamma_0': -0.47596958862150834, 'gamma_1': 0.12463166454011074, 'gamma_2': 0.8046606638559348, 'gamma_3': -0.008465001304124895, 'gamma_4': 2.2079045293785695, 'gamma_5': -3.07850208065149, 'beta_0': 1.3084504792099212, 'beta_1': 0.4897972163359223, 'beta_2': -0.28207240320076343, 'beta_3': -1.1824017646509288, 'beta_4': -1.15605013974003, 'beta_5': -1.0208660431762326}. Best is trial 19 with value: -27.99178850761587.\u001B[0m\n",
      "\u001B[32m[I 2021-07-22 17:47:19,085]\u001B[0m Trial 28 finished with value: -27.83921554159211 and parameters: {'optimizer': 'COBYLA', 'reps': 5, 'gamma_0': 1.4057246120795353, 'gamma_1': -0.5988534033247999, 'gamma_2': -0.7699176727605357, 'gamma_3': 2.3171899899798154, 'gamma_4': 0.8149851652655383, 'beta_0': 0.174084178613144, 'beta_1': 1.205304515686528, 'beta_2': -0.8015677237208639, 'beta_3': -2.4048997154594756, 'beta_4': 0.19503889459787738}. Best is trial 19 with value: -27.99178850761587.\u001B[0m\n",
      "\u001B[32m[I 2021-07-22 17:48:02,640]\u001B[0m Trial 29 finished with value: -28.8784144081116 and parameters: {'optimizer': 'COBYLA', 'reps': 6, 'gamma_0': 1.4794730080461513, 'gamma_1': -0.6882987741426103, 'gamma_2': -0.8998980494921142, 'gamma_3': 2.5463408929068403, 'gamma_4': 0.5793443848866693, 'gamma_5': -1.110419656732657, 'beta_0': 0.07344966491396396, 'beta_1': -0.6728838759585384, 'beta_2': 1.0731656249025463, 'beta_3': -1.9496488463638753, 'beta_4': 0.20236920641562428, 'beta_5': 1.7311059184627515}. Best is trial 29 with value: -28.8784144081116.\u001B[0m\n",
      "\u001B[32m[I 2021-07-22 17:48:46,787]\u001B[0m Trial 30 finished with value: -26.106390440105304 and parameters: {'optimizer': 'COBYLA', 'reps': 6, 'gamma_0': 1.775987219204664, 'gamma_1': -0.699384338135547, 'gamma_2': -0.7994874416970787, 'gamma_3': 2.3391643660464134, 'gamma_4': 0.7298865725409687, 'gamma_5': -1.6771481048045036, 'beta_0': -0.9380449315730794, 'beta_1': -0.6499054144026182, 'beta_2': 1.1837612705232041, 'beta_3': -1.616413493440577, 'beta_4': 1.2748720421859443, 'beta_5': -2.9226658480937613}. Best is trial 29 with value: -28.8784144081116.\u001B[0m\n",
      "\u001B[32m[I 2021-07-22 17:49:16,409]\u001B[0m Trial 31 finished with value: -27.192036133292905 and parameters: {'optimizer': 'COBYLA', 'reps': 4, 'gamma_0': 1.2137906615405263, 'gamma_1': -0.4563237173978778, 'gamma_2': -1.0106407844730254, 'gamma_3': 3.081539937108448, 'beta_0': 0.12685807959561507, 'beta_1': -1.1297142385834238, 'beta_2': 0.47295384315344746, 'beta_3': -2.4938282500215028}. Best is trial 29 with value: -28.8784144081116.\u001B[0m\n"
     ]
    },
    {
     "name": "stderr",
     "output_type": "stream",
     "text": [
      "\u001B[32m[I 2021-07-22 17:50:05,353]\u001B[0m Trial 32 finished with value: -25.827306664278076 and parameters: {'optimizer': 'COBYLA', 'reps': 7, 'gamma_0': 2.327826773037816, 'gamma_1': -1.269798056537351, 'gamma_2': -0.5193207207524115, 'gamma_3': 2.5535335614691315, 'gamma_4': 0.4440836101989865, 'gamma_5': -1.3091120780030319, 'gamma_6': 2.760359131670044, 'beta_0': -0.5812897817469747, 'beta_1': -0.33128685566476673, 'beta_2': -0.5820127636889981, 'beta_3': -0.692858353357811, 'beta_4': 0.3826924104967677, 'beta_5': 1.446550853841949, 'beta_6': 1.8060853882591845}. Best is trial 29 with value: -28.8784144081116.\u001B[0m\n",
      "\u001B[32m[I 2021-07-22 17:50:59,195]\u001B[0m Trial 33 finished with value: -26.634822377118702 and parameters: {'optimizer': 'COBYLA', 'reps': 8, 'gamma_0': 0.6744847655827286, 'gamma_1': -1.686624668272246, 'gamma_2': -1.5795245548334236, 'gamma_3': 1.891010216992688, 'gamma_4': 1.4550593221622106, 'gamma_5': -0.8201351884945315, 'gamma_6': -1.3785132261282405, 'gamma_7': -1.5089118017112382, 'beta_0': -1.2794027928139682, 'beta_1': -1.5777740528782571, 'beta_2': -0.023947442218731574, 'beta_3': -1.8596882136421582, 'beta_4': 0.07200643460099942, 'beta_5': 1.4088797142631289, 'beta_6': -1.9087962548925181, 'beta_7': 1.3143356190806288}. Best is trial 29 with value: -28.8784144081116.\u001B[0m\n",
      "\u001B[32m[I 2021-07-22 17:52:47,448]\u001B[0m Trial 34 finished with value: -25.017050515832032 and parameters: {'optimizer': 'SPSA', 'reps': 6, 'gamma_0': 1.5230856557314105, 'gamma_1': -1.088614732915877, 'gamma_2': -1.8841367861037688, 'gamma_3': 2.6490487850960016, 'gamma_4': -0.2612012384200717, 'gamma_5': -3.064888988435146, 'beta_0': 0.179703016952092, 'beta_1': 0.3217538475751107, 'beta_2': 0.21180271783712884, 'beta_3': -2.3986786031520793, 'beta_4': 1.3178465592562658, 'beta_5': 3.0623620523883797}. Best is trial 29 with value: -28.8784144081116.\u001B[0m\n",
      "\u001B[32m[I 2021-07-22 17:53:46,287]\u001B[0m Trial 35 finished with value: -26.11543143116364 and parameters: {'optimizer': 'COBYLA', 'reps': 9, 'gamma_0': 0.4032435650934847, 'gamma_1': 0.3623052796699046, 'gamma_2': -0.4646693400797146, 'gamma_3': 1.3298369307779991, 'gamma_4': 0.5365666344899034, 'gamma_5': 0.8096582989951004, 'gamma_6': -3.068586726362433, 'gamma_7': 2.1889099819101716, 'gamma_8': 3.090545277491029, 'beta_0': -0.07137932788112022, 'beta_1': 1.1229463709585181, 'beta_2': 1.414702390627696, 'beta_3': -3.1274847587630217, 'beta_4': -0.10928913401509482, 'beta_5': 2.1388920351698397, 'beta_6': 0.762460844876699, 'beta_7': 1.4433027804342007, 'beta_8': -0.3402732104708169}. Best is trial 29 with value: -28.8784144081116.\u001B[0m\n",
      "\u001B[32m[I 2021-07-22 17:54:25,321]\u001B[0m Trial 36 finished with value: -25.61557404410706 and parameters: {'optimizer': 'COBYLA', 'reps': 5, 'gamma_0': 1.2162437390888352, 'gamma_1': -0.25975193600899793, 'gamma_2': -1.3807885015934274, 'gamma_3': 2.610943482802154, 'gamma_4': 1.537659844541884, 'beta_0': -1.7128271553692835, 'beta_1': 0.0863656738341001, 'beta_2': 0.8048798289888562, 'beta_3': -1.2076331872026624, 'beta_4': -2.50688428519944}. Best is trial 29 with value: -28.8784144081116.\u001B[0m\n",
      "\u001B[32m[I 2021-07-22 17:56:26,392]\u001B[0m Trial 37 finished with value: -23.88941209812768 and parameters: {'optimizer': 'SPSA', 'reps': 7, 'gamma_0': 3.085693085757967, 'gamma_1': 0.9011682934708947, 'gamma_2': -2.2305353368897216, 'gamma_3': 1.6689774676951705, 'gamma_4': -1.0369535226879985, 'gamma_5': 2.3897106140394864, 'gamma_6': 1.7640892279144187, 'beta_0': 0.2647122792602786, 'beta_1': 2.2446417689017073, 'beta_2': -0.4601011063491896, 'beta_3': -2.5060670097133704, 'beta_4': -0.13295176788377683, 'beta_5': -0.28276257407769556, 'beta_6': 2.874871172255833}. Best is trial 29 with value: -28.8784144081116.\u001B[0m\n",
      "\u001B[32m[I 2021-07-22 17:57:25,261]\u001B[0m Trial 38 finished with value: -27.650309249473136 and parameters: {'optimizer': 'COBYLA', 'reps': 9, 'gamma_0': 2.1070452442659477, 'gamma_1': -1.738771760947822, 'gamma_2': -3.036707147237913, 'gamma_3': 0.7831180827105904, 'gamma_4': 0.8649776554372836, 'gamma_5': -2.0304310610710354, 'gamma_6': -0.6076899502720603, 'gamma_7': -1.3859597826307788, 'gamma_8': -0.5498153102864164, 'beta_0': 2.4148989611044716, 'beta_1': 0.9071876108670521, 'beta_2': -1.5714584991771443, 'beta_3': 0.32895054111668065, 'beta_4': 0.6281630529097716, 'beta_5': 0.8690939791876872, 'beta_6': 0.4600550075507448, 'beta_7': -1.9911081650765006, 'beta_8': -3.0427678793658997}. Best is trial 29 with value: -28.8784144081116.\u001B[0m\n",
      "\u001B[32m[I 2021-07-22 17:58:19,180]\u001B[0m Trial 39 finished with value: -27.006853272581687 and parameters: {'optimizer': 'COBYLA', 'reps': 8, 'gamma_0': 2.1344637479335873, 'gamma_1': -1.6249122858723286, 'gamma_2': -2.8153169766273876, 'gamma_3': 0.9009689887016253, 'gamma_4': 0.9896599166621209, 'gamma_5': -2.1798743193573564, 'gamma_6': -0.3381357925656797, 'gamma_7': -2.212357470736279, 'beta_0': 2.48437372511913, 'beta_1': 1.1373978722694444, 'beta_2': -1.9935734799448372, 'beta_3': 0.5396005964023901, 'beta_4': 1.748108189500892, 'beta_5': 0.61803870498079, 'beta_6': 2.0651742717269506, 'beta_7': -2.7677743826731076}. Best is trial 29 with value: -28.8784144081116.\u001B[0m\n",
      "\u001B[32m[I 2021-07-22 17:59:02,803]\u001B[0m Trial 40 finished with value: -25.63384004072162 and parameters: {'optimizer': 'COBYLA', 'reps': 6, 'gamma_0': 2.666959260274501, 'gamma_1': -1.0821500755735571, 'gamma_2': -0.2427477678156702, 'gamma_3': 2.307503617705066, 'gamma_4': 0.19359140278228565, 'gamma_5': -2.495150488822418, 'beta_0': -2.942050471710316, 'beta_1': 0.8353689775795933, 'beta_2': -1.5602326815028909, 'beta_3': 1.871087762536915, 'beta_4': 0.507479649885969, 'beta_5': -0.9326094021308023}. Best is trial 29 with value: -28.8784144081116.\u001B[0m\n",
      "\u001B[32m[I 2021-07-22 18:00:01,655]\u001B[0m Trial 41 finished with value: -26.489503790743314 and parameters: {'optimizer': 'COBYLA', 'reps': 9, 'gamma_0': 1.732613879487734, 'gamma_1': -0.6995041695303242, 'gamma_2': -3.1324742092898066, 'gamma_3': 0.5297527611458007, 'gamma_4': 1.696001612940972, 'gamma_5': -0.7117784011065449, 'gamma_6': -2.1498357016513405, 'gamma_7': -0.4617146444346499, 'gamma_8': -0.5995310480485471, 'beta_0': 2.7090622964252, 'beta_1': -0.4036882254486537, 'beta_2': -1.1964140527885099, 'beta_3': 0.33525460996693207, 'beta_4': 0.9175921705473604, 'beta_5': 1.2700947396911275, 'beta_6': 0.4407010652324793, 'beta_7': -1.4843870944668078, 'beta_8': -3.1091558547926272}. Best is trial 29 with value: -28.8784144081116.\u001B[0m\n",
      "\u001B[32m[I 2021-07-22 18:01:05,699]\u001B[0m Trial 42 finished with value: -25.033638474833364 and parameters: {'optimizer': 'COBYLA', 'reps': 10, 'gamma_0': 0.8881727787667416, 'gamma_1': 0.6028466949075773, 'gamma_2': 0.14663142400471862, 'gamma_3': 1.2586764756752806, 'gamma_4': 0.8257121448384961, 'gamma_5': -1.556584865267372, 'gamma_6': -0.9572686228309129, 'gamma_7': -0.758538500244526, 'gamma_8': -0.5519270301562008, 'gamma_9': 2.6109932305711694, 'beta_0': 0.8743495803775884, 'beta_1': 1.3824815576774145, 'beta_2': -2.5754332229557857, 'beta_3': -1.806236283616133, 'beta_4': 0.03703789067163574, 'beta_5': 1.922796698934822, 'beta_6': -0.5394433495120754, 'beta_7': -1.7071387388853472, 'beta_8': -1.4722752286786012, 'beta_9': -2.874827617306739}. Best is trial 29 with value: -28.8784144081116.\u001B[0m\n",
      "\u001B[32m[I 2021-07-22 18:02:04,638]\u001B[0m Trial 43 finished with value: -27.510853015614703 and parameters: {'optimizer': 'COBYLA', 'reps': 9, 'gamma_0': 0.4394342970946781, 'gamma_1': -1.9049161045927494, 'gamma_2': 2.5762462188954323, 'gamma_3': 1.7411277465019261, 'gamma_4': 1.2173485571352591, 'gamma_5': -1.1294208941200081, 'gamma_6': 0.6193027680421888, 'gamma_7': 1.221363877787146, 'gamma_8': 1.0449563185343638, 'beta_0': 1.343365782647085, 'beta_1': -3.0433795398740506, 'beta_2': -1.391045593931054, 'beta_3': -0.39633125277755565, 'beta_4': -0.29655641169595115, 'beta_5': 0.9229019176289042, 'beta_6': 1.238625603336545, 'beta_7': 1.72725775669081, 'beta_8': -3.0182241382396233}. Best is trial 29 with value: -28.8784144081116.\u001B[0m\n",
      "\u001B[32m[I 2021-07-22 18:03:03,417]\u001B[0m Trial 44 finished with value: -26.371552876531027 and parameters: {'optimizer': 'COBYLA', 'reps': 9, 'gamma_0': 1.3800700639140353, 'gamma_1': -2.5479090613933257, 'gamma_2': 2.5888738964639852, 'gamma_3': 1.6896555068887111, 'gamma_4': 1.2447849734301237, 'gamma_5': -1.174054079410968, 'gamma_6': 0.4952206659177443, 'gamma_7': 1.3528114032922203, 'gamma_8': 1.4103513817379252, 'beta_0': 1.5285829232884385, 'beta_1': -2.912669857745099, 'beta_2': -1.4291207106087658, 'beta_3': -0.3386876759408628, 'beta_4': 2.0841934270079223, 'beta_5': 0.211618433170351, 'beta_6': 1.3102353909459517, 'beta_7': 1.2490455478634326, 'beta_8': 2.289009164711977}. Best is trial 29 with value: -28.8784144081116.\u001B[0m\n"
     ]
    },
    {
     "name": "stderr",
     "output_type": "stream",
     "text": [
      "\u001B[32m[I 2021-07-22 18:03:57,078]\u001B[0m Trial 45 finished with value: -25.10790495217144 and parameters: {'optimizer': 'COBYLA', 'reps': 8, 'gamma_0': 2.014140579722379, 'gamma_1': -1.9087583166057052, 'gamma_2': 0.3934619909801941, 'gamma_3': 3.1126092717689016, 'gamma_4': 1.7510688956966232, 'gamma_5': -0.30096374689616123, 'gamma_6': 1.4593509817172372, 'gamma_7': 1.2889151934201584, 'beta_0': 2.3169624604419425, 'beta_1': -2.812565442316376, 'beta_2': -2.9587360371539697, 'beta_3': 0.1633926012691093, 'beta_4': -0.318460608707857, 'beta_5': 0.9312049075420326, 'beta_6': 2.3656293930598316, 'beta_7': 0.2889115044822055}. Best is trial 29 with value: -28.8784144081116.\u001B[0m\n",
      "\u001B[32m[I 2021-07-22 18:04:55,909]\u001B[0m Trial 46 finished with value: -27.43853353731033 and parameters: {'optimizer': 'COBYLA', 'reps': 9, 'gamma_0': 0.31105831565085795, 'gamma_1': -1.3762225013251976, 'gamma_2': -2.407824286026186, 'gamma_3': 2.098004731786642, 'gamma_4': 2.5943029647879907, 'gamma_5': -1.8997329338327296, 'gamma_6': 2.280887302303121, 'gamma_7': -2.992676223666138, 'gamma_8': 1.9582822949739433, 'beta_0': 2.0505342598755014, 'beta_1': -2.187077707635792, 'beta_2': -2.095133752236575, 'beta_3': -0.9537300335021466, 'beta_4': 0.9239750937126172, 'beta_5': 0.9631253845630876, 'beta_6': 1.3061986175158737, 'beta_7': 2.1949005344284758, 'beta_8': -0.10253583528626067}. Best is trial 29 with value: -28.8784144081116.\u001B[0m\n",
      "\u001B[32m[I 2021-07-22 18:06:20,700]\u001B[0m Trial 47 finished with value: -24.182265549045038 and parameters: {'optimizer': 'SPSA', 'reps': 4, 'gamma_0': 0.9711693164273816, 'gamma_1': -2.6562276047302547, 'gamma_2': -1.3014776246555195, 'gamma_3': 2.7867142005964425, 'beta_0': 2.6913213729255476, 'beta_1': -2.5862981171080115, 'beta_2': -0.7618878063677879, 'beta_3': -0.618474056326312}. Best is trial 29 with value: -28.8784144081116.\u001B[0m\n",
      "\u001B[32m[I 2021-07-22 18:07:14,404]\u001B[0m Trial 48 finished with value: -25.482567086169848 and parameters: {'optimizer': 'COBYLA', 'reps': 8, 'gamma_0': 0.42098786276696665, 'gamma_1': -1.9619761583240964, 'gamma_2': 0.6021166189320428, 'gamma_3': 1.8356943602293105, 'gamma_4': 0.18857535015817994, 'gamma_5': -2.588225809189235, 'gamma_6': 0.9182467654063332, 'gamma_7': 1.2353700489538022, 'beta_0': 1.33498166484744, 'beta_1': 1.9553346222105241, 'beta_2': -1.1032235402635446, 'beta_3': -0.06056231663094702, 'beta_4': 1.4891058633862322, 'beta_5': 0.08562199426712025, 'beta_6': -1.32100401665187, 'beta_7': -2.1907307632962967}. Best is trial 29 with value: -28.8784144081116.\u001B[0m\n",
      "\u001B[32m[I 2021-07-22 18:07:53,124]\u001B[0m Trial 49 finished with value: -25.430209494178946 and parameters: {'optimizer': 'COBYLA', 'reps': 5, 'gamma_0': 2.5537092391174063, 'gamma_1': -0.1480709887933562, 'gamma_2': -1.8968039439245552, 'gamma_3': -3.100024574408581, 'gamma_4': 1.2846927393806404, 'beta_0': 1.7393067059335827, 'beta_1': 0.22185121589243373, 'beta_2': -2.3511873771340515, 'beta_3': 0.720849905688106, 'beta_4': 2.805015213008247}. Best is trial 29 with value: -28.8784144081116.\u001B[0m\n"
     ]
    }
   ],
   "source": [
    "study = optuna.create_study(direction='minimize')\n",
    "study.optimize(objective, n_trials=N_TRIALS, callbacks=[save_best_trial])\n"
   ]
  },
  {
   "cell_type": "code",
   "execution_count": 25,
   "metadata": {},
   "outputs": [
    {
     "name": "stdout",
     "output_type": "stream",
     "text": [
      "FrozenTrial(number=29, values=[-28.8784144081116], datetime_start=datetime.datetime(2021, 7, 22, 17, 47, 19, 89182), datetime_complete=datetime.datetime(2021, 7, 22, 17, 48, 2, 638373), params={'optimizer': 'COBYLA', 'reps': 6, 'gamma_0': 1.4794730080461513, 'gamma_1': -0.6882987741426103, 'gamma_2': -0.8998980494921142, 'gamma_3': 2.5463408929068403, 'gamma_4': 0.5793443848866693, 'gamma_5': -1.110419656732657, 'beta_0': 0.07344966491396396, 'beta_1': -0.6728838759585384, 'beta_2': 1.0731656249025463, 'beta_3': -1.9496488463638753, 'beta_4': 0.20236920641562428, 'beta_5': 1.7311059184627515}, distributions={'optimizer': CategoricalDistribution(choices=('SPSA', 'COBYLA')), 'reps': IntUniformDistribution(high=10, low=1, step=1), 'gamma_0': UniformDistribution(high=3.141592653589793, low=-3.141592653589793), 'gamma_1': UniformDistribution(high=3.141592653589793, low=-3.141592653589793), 'gamma_2': UniformDistribution(high=3.141592653589793, low=-3.141592653589793), 'gamma_3': UniformDistribution(high=3.141592653589793, low=-3.141592653589793), 'gamma_4': UniformDistribution(high=3.141592653589793, low=-3.141592653589793), 'gamma_5': UniformDistribution(high=3.141592653589793, low=-3.141592653589793), 'beta_0': UniformDistribution(high=3.141592653589793, low=-3.141592653589793), 'beta_1': UniformDistribution(high=3.141592653589793, low=-3.141592653589793), 'beta_2': UniformDistribution(high=3.141592653589793, low=-3.141592653589793), 'beta_3': UniformDistribution(high=3.141592653589793, low=-3.141592653589793), 'beta_4': UniformDistribution(high=3.141592653589793, low=-3.141592653589793), 'beta_5': UniformDistribution(high=3.141592653589793, low=-3.141592653589793)}, user_attrs={'best': [28.8784144081116, optimal function value: 35.0\n",
      "optimal value: [0. 1. 0. 1. 0.]\n",
      "status: SUCCESS, array([ 2.54688176, -0.93615441, -0.7789562 ,  3.4777998 ,  0.31144345,\n",
      "       -0.09676931,  0.0675467 ,  0.30564694,  1.05463352, -1.98108075,\n",
      "        0.220484  ,  1.69062969])]}, system_attrs={}, intermediate_values={}, trial_id=29, state=TrialState.COMPLETE, value=None)\n"
     ]
    }
   ],
   "source": [
    "print(study.best_trial)"
   ]
  },
  {
   "cell_type": "code",
   "execution_count": 26,
   "metadata": {},
   "outputs": [
    {
     "data": {
      "application/vnd.plotly.v1+json": {
       "config": {
        "plotlyServerURL": "https://plot.ly"
       },
       "data": [
        {
         "mode": "markers",
         "name": "Objective Value",
         "type": "scatter",
         "x": [
          0,
          1,
          2,
          3,
          4,
          5,
          6,
          7,
          8,
          9,
          10,
          11,
          12,
          13,
          14,
          15,
          16,
          17,
          18,
          19,
          20,
          21,
          22,
          23,
          24,
          25,
          26,
          27,
          28,
          29,
          30,
          31,
          32,
          33,
          34,
          35,
          36,
          37,
          38,
          39,
          40,
          41,
          42,
          43,
          44,
          45,
          46,
          47,
          48,
          49
         ],
         "y": [
          -25.014766057576466,
          -24.369168563746264,
          -25.884133382752445,
          -26.61144251958972,
          -24.504824523283364,
          -23.90455195880678,
          -27.0608134809518,
          -27.362185178463736,
          -24.947270865085965,
          -25.875879147161214,
          -23.097173226123505,
          -23.32343815163062,
          -23.746933663396053,
          -25.40924604113733,
          -26.60752931763208,
          -23.282766724618842,
          -24.424581563866774,
          -25.993773318313337,
          -26.673587216172884,
          -27.99178850761587,
          -25.89899026857191,
          -26.408093335939043,
          -25.82392725681661,
          -26.865488846153937,
          -27.344845241321824,
          -22.752976734718217,
          -26.36220334253624,
          -26.987314108203794,
          -27.83921554159211,
          -28.8784144081116,
          -26.106390440105304,
          -27.192036133292905,
          -25.827306664278076,
          -26.634822377118702,
          -25.017050515832032,
          -26.11543143116364,
          -25.61557404410706,
          -23.88941209812768,
          -27.650309249473136,
          -27.006853272581687,
          -25.63384004072162,
          -26.489503790743314,
          -25.033638474833364,
          -27.510853015614703,
          -26.371552876531027,
          -25.10790495217144,
          -27.43853353731033,
          -24.182265549045038,
          -25.482567086169848,
          -25.430209494178946
         ]
        },
        {
         "name": "Best Value",
         "type": "scatter",
         "x": [
          0,
          1,
          2,
          3,
          4,
          5,
          6,
          7,
          8,
          9,
          10,
          11,
          12,
          13,
          14,
          15,
          16,
          17,
          18,
          19,
          20,
          21,
          22,
          23,
          24,
          25,
          26,
          27,
          28,
          29,
          30,
          31,
          32,
          33,
          34,
          35,
          36,
          37,
          38,
          39,
          40,
          41,
          42,
          43,
          44,
          45,
          46,
          47,
          48,
          49
         ],
         "y": [
          -25.014766057576466,
          -25.014766057576466,
          -25.884133382752445,
          -26.61144251958972,
          -26.61144251958972,
          -26.61144251958972,
          -27.0608134809518,
          -27.362185178463736,
          -27.362185178463736,
          -27.362185178463736,
          -27.362185178463736,
          -27.362185178463736,
          -27.362185178463736,
          -27.362185178463736,
          -27.362185178463736,
          -27.362185178463736,
          -27.362185178463736,
          -27.362185178463736,
          -27.362185178463736,
          -27.99178850761587,
          -27.99178850761587,
          -27.99178850761587,
          -27.99178850761587,
          -27.99178850761587,
          -27.99178850761587,
          -27.99178850761587,
          -27.99178850761587,
          -27.99178850761587,
          -27.99178850761587,
          -28.8784144081116,
          -28.8784144081116,
          -28.8784144081116,
          -28.8784144081116,
          -28.8784144081116,
          -28.8784144081116,
          -28.8784144081116,
          -28.8784144081116,
          -28.8784144081116,
          -28.8784144081116,
          -28.8784144081116,
          -28.8784144081116,
          -28.8784144081116,
          -28.8784144081116,
          -28.8784144081116,
          -28.8784144081116,
          -28.8784144081116,
          -28.8784144081116,
          -28.8784144081116,
          -28.8784144081116,
          -28.8784144081116
         ]
        }
       ],
       "layout": {
        "template": {
         "data": {
          "bar": [
           {
            "error_x": {
             "color": "#2a3f5f"
            },
            "error_y": {
             "color": "#2a3f5f"
            },
            "marker": {
             "line": {
              "color": "#E5ECF6",
              "width": 0.5
             },
             "pattern": {
              "fillmode": "overlay",
              "size": 10,
              "solidity": 0.2
             }
            },
            "type": "bar"
           }
          ],
          "barpolar": [
           {
            "marker": {
             "line": {
              "color": "#E5ECF6",
              "width": 0.5
             },
             "pattern": {
              "fillmode": "overlay",
              "size": 10,
              "solidity": 0.2
             }
            },
            "type": "barpolar"
           }
          ],
          "carpet": [
           {
            "aaxis": {
             "endlinecolor": "#2a3f5f",
             "gridcolor": "white",
             "linecolor": "white",
             "minorgridcolor": "white",
             "startlinecolor": "#2a3f5f"
            },
            "baxis": {
             "endlinecolor": "#2a3f5f",
             "gridcolor": "white",
             "linecolor": "white",
             "minorgridcolor": "white",
             "startlinecolor": "#2a3f5f"
            },
            "type": "carpet"
           }
          ],
          "choropleth": [
           {
            "colorbar": {
             "outlinewidth": 0,
             "ticks": ""
            },
            "type": "choropleth"
           }
          ],
          "contour": [
           {
            "colorbar": {
             "outlinewidth": 0,
             "ticks": ""
            },
            "colorscale": [
             [
              0,
              "#0d0887"
             ],
             [
              0.1111111111111111,
              "#46039f"
             ],
             [
              0.2222222222222222,
              "#7201a8"
             ],
             [
              0.3333333333333333,
              "#9c179e"
             ],
             [
              0.4444444444444444,
              "#bd3786"
             ],
             [
              0.5555555555555556,
              "#d8576b"
             ],
             [
              0.6666666666666666,
              "#ed7953"
             ],
             [
              0.7777777777777778,
              "#fb9f3a"
             ],
             [
              0.8888888888888888,
              "#fdca26"
             ],
             [
              1,
              "#f0f921"
             ]
            ],
            "type": "contour"
           }
          ],
          "contourcarpet": [
           {
            "colorbar": {
             "outlinewidth": 0,
             "ticks": ""
            },
            "type": "contourcarpet"
           }
          ],
          "heatmap": [
           {
            "colorbar": {
             "outlinewidth": 0,
             "ticks": ""
            },
            "colorscale": [
             [
              0,
              "#0d0887"
             ],
             [
              0.1111111111111111,
              "#46039f"
             ],
             [
              0.2222222222222222,
              "#7201a8"
             ],
             [
              0.3333333333333333,
              "#9c179e"
             ],
             [
              0.4444444444444444,
              "#bd3786"
             ],
             [
              0.5555555555555556,
              "#d8576b"
             ],
             [
              0.6666666666666666,
              "#ed7953"
             ],
             [
              0.7777777777777778,
              "#fb9f3a"
             ],
             [
              0.8888888888888888,
              "#fdca26"
             ],
             [
              1,
              "#f0f921"
             ]
            ],
            "type": "heatmap"
           }
          ],
          "heatmapgl": [
           {
            "colorbar": {
             "outlinewidth": 0,
             "ticks": ""
            },
            "colorscale": [
             [
              0,
              "#0d0887"
             ],
             [
              0.1111111111111111,
              "#46039f"
             ],
             [
              0.2222222222222222,
              "#7201a8"
             ],
             [
              0.3333333333333333,
              "#9c179e"
             ],
             [
              0.4444444444444444,
              "#bd3786"
             ],
             [
              0.5555555555555556,
              "#d8576b"
             ],
             [
              0.6666666666666666,
              "#ed7953"
             ],
             [
              0.7777777777777778,
              "#fb9f3a"
             ],
             [
              0.8888888888888888,
              "#fdca26"
             ],
             [
              1,
              "#f0f921"
             ]
            ],
            "type": "heatmapgl"
           }
          ],
          "histogram": [
           {
            "marker": {
             "pattern": {
              "fillmode": "overlay",
              "size": 10,
              "solidity": 0.2
             }
            },
            "type": "histogram"
           }
          ],
          "histogram2d": [
           {
            "colorbar": {
             "outlinewidth": 0,
             "ticks": ""
            },
            "colorscale": [
             [
              0,
              "#0d0887"
             ],
             [
              0.1111111111111111,
              "#46039f"
             ],
             [
              0.2222222222222222,
              "#7201a8"
             ],
             [
              0.3333333333333333,
              "#9c179e"
             ],
             [
              0.4444444444444444,
              "#bd3786"
             ],
             [
              0.5555555555555556,
              "#d8576b"
             ],
             [
              0.6666666666666666,
              "#ed7953"
             ],
             [
              0.7777777777777778,
              "#fb9f3a"
             ],
             [
              0.8888888888888888,
              "#fdca26"
             ],
             [
              1,
              "#f0f921"
             ]
            ],
            "type": "histogram2d"
           }
          ],
          "histogram2dcontour": [
           {
            "colorbar": {
             "outlinewidth": 0,
             "ticks": ""
            },
            "colorscale": [
             [
              0,
              "#0d0887"
             ],
             [
              0.1111111111111111,
              "#46039f"
             ],
             [
              0.2222222222222222,
              "#7201a8"
             ],
             [
              0.3333333333333333,
              "#9c179e"
             ],
             [
              0.4444444444444444,
              "#bd3786"
             ],
             [
              0.5555555555555556,
              "#d8576b"
             ],
             [
              0.6666666666666666,
              "#ed7953"
             ],
             [
              0.7777777777777778,
              "#fb9f3a"
             ],
             [
              0.8888888888888888,
              "#fdca26"
             ],
             [
              1,
              "#f0f921"
             ]
            ],
            "type": "histogram2dcontour"
           }
          ],
          "mesh3d": [
           {
            "colorbar": {
             "outlinewidth": 0,
             "ticks": ""
            },
            "type": "mesh3d"
           }
          ],
          "parcoords": [
           {
            "line": {
             "colorbar": {
              "outlinewidth": 0,
              "ticks": ""
             }
            },
            "type": "parcoords"
           }
          ],
          "pie": [
           {
            "automargin": true,
            "type": "pie"
           }
          ],
          "scatter": [
           {
            "marker": {
             "colorbar": {
              "outlinewidth": 0,
              "ticks": ""
             }
            },
            "type": "scatter"
           }
          ],
          "scatter3d": [
           {
            "line": {
             "colorbar": {
              "outlinewidth": 0,
              "ticks": ""
             }
            },
            "marker": {
             "colorbar": {
              "outlinewidth": 0,
              "ticks": ""
             }
            },
            "type": "scatter3d"
           }
          ],
          "scattercarpet": [
           {
            "marker": {
             "colorbar": {
              "outlinewidth": 0,
              "ticks": ""
             }
            },
            "type": "scattercarpet"
           }
          ],
          "scattergeo": [
           {
            "marker": {
             "colorbar": {
              "outlinewidth": 0,
              "ticks": ""
             }
            },
            "type": "scattergeo"
           }
          ],
          "scattergl": [
           {
            "marker": {
             "colorbar": {
              "outlinewidth": 0,
              "ticks": ""
             }
            },
            "type": "scattergl"
           }
          ],
          "scattermapbox": [
           {
            "marker": {
             "colorbar": {
              "outlinewidth": 0,
              "ticks": ""
             }
            },
            "type": "scattermapbox"
           }
          ],
          "scatterpolar": [
           {
            "marker": {
             "colorbar": {
              "outlinewidth": 0,
              "ticks": ""
             }
            },
            "type": "scatterpolar"
           }
          ],
          "scatterpolargl": [
           {
            "marker": {
             "colorbar": {
              "outlinewidth": 0,
              "ticks": ""
             }
            },
            "type": "scatterpolargl"
           }
          ],
          "scatterternary": [
           {
            "marker": {
             "colorbar": {
              "outlinewidth": 0,
              "ticks": ""
             }
            },
            "type": "scatterternary"
           }
          ],
          "surface": [
           {
            "colorbar": {
             "outlinewidth": 0,
             "ticks": ""
            },
            "colorscale": [
             [
              0,
              "#0d0887"
             ],
             [
              0.1111111111111111,
              "#46039f"
             ],
             [
              0.2222222222222222,
              "#7201a8"
             ],
             [
              0.3333333333333333,
              "#9c179e"
             ],
             [
              0.4444444444444444,
              "#bd3786"
             ],
             [
              0.5555555555555556,
              "#d8576b"
             ],
             [
              0.6666666666666666,
              "#ed7953"
             ],
             [
              0.7777777777777778,
              "#fb9f3a"
             ],
             [
              0.8888888888888888,
              "#fdca26"
             ],
             [
              1,
              "#f0f921"
             ]
            ],
            "type": "surface"
           }
          ],
          "table": [
           {
            "cells": {
             "fill": {
              "color": "#EBF0F8"
             },
             "line": {
              "color": "white"
             }
            },
            "header": {
             "fill": {
              "color": "#C8D4E3"
             },
             "line": {
              "color": "white"
             }
            },
            "type": "table"
           }
          ]
         },
         "layout": {
          "annotationdefaults": {
           "arrowcolor": "#2a3f5f",
           "arrowhead": 0,
           "arrowwidth": 1
          },
          "autotypenumbers": "strict",
          "coloraxis": {
           "colorbar": {
            "outlinewidth": 0,
            "ticks": ""
           }
          },
          "colorscale": {
           "diverging": [
            [
             0,
             "#8e0152"
            ],
            [
             0.1,
             "#c51b7d"
            ],
            [
             0.2,
             "#de77ae"
            ],
            [
             0.3,
             "#f1b6da"
            ],
            [
             0.4,
             "#fde0ef"
            ],
            [
             0.5,
             "#f7f7f7"
            ],
            [
             0.6,
             "#e6f5d0"
            ],
            [
             0.7,
             "#b8e186"
            ],
            [
             0.8,
             "#7fbc41"
            ],
            [
             0.9,
             "#4d9221"
            ],
            [
             1,
             "#276419"
            ]
           ],
           "sequential": [
            [
             0,
             "#0d0887"
            ],
            [
             0.1111111111111111,
             "#46039f"
            ],
            [
             0.2222222222222222,
             "#7201a8"
            ],
            [
             0.3333333333333333,
             "#9c179e"
            ],
            [
             0.4444444444444444,
             "#bd3786"
            ],
            [
             0.5555555555555556,
             "#d8576b"
            ],
            [
             0.6666666666666666,
             "#ed7953"
            ],
            [
             0.7777777777777778,
             "#fb9f3a"
            ],
            [
             0.8888888888888888,
             "#fdca26"
            ],
            [
             1,
             "#f0f921"
            ]
           ],
           "sequentialminus": [
            [
             0,
             "#0d0887"
            ],
            [
             0.1111111111111111,
             "#46039f"
            ],
            [
             0.2222222222222222,
             "#7201a8"
            ],
            [
             0.3333333333333333,
             "#9c179e"
            ],
            [
             0.4444444444444444,
             "#bd3786"
            ],
            [
             0.5555555555555556,
             "#d8576b"
            ],
            [
             0.6666666666666666,
             "#ed7953"
            ],
            [
             0.7777777777777778,
             "#fb9f3a"
            ],
            [
             0.8888888888888888,
             "#fdca26"
            ],
            [
             1,
             "#f0f921"
            ]
           ]
          },
          "colorway": [
           "#636efa",
           "#EF553B",
           "#00cc96",
           "#ab63fa",
           "#FFA15A",
           "#19d3f3",
           "#FF6692",
           "#B6E880",
           "#FF97FF",
           "#FECB52"
          ],
          "font": {
           "color": "#2a3f5f"
          },
          "geo": {
           "bgcolor": "white",
           "lakecolor": "white",
           "landcolor": "#E5ECF6",
           "showlakes": true,
           "showland": true,
           "subunitcolor": "white"
          },
          "hoverlabel": {
           "align": "left"
          },
          "hovermode": "closest",
          "mapbox": {
           "style": "light"
          },
          "paper_bgcolor": "white",
          "plot_bgcolor": "#E5ECF6",
          "polar": {
           "angularaxis": {
            "gridcolor": "white",
            "linecolor": "white",
            "ticks": ""
           },
           "bgcolor": "#E5ECF6",
           "radialaxis": {
            "gridcolor": "white",
            "linecolor": "white",
            "ticks": ""
           }
          },
          "scene": {
           "xaxis": {
            "backgroundcolor": "#E5ECF6",
            "gridcolor": "white",
            "gridwidth": 2,
            "linecolor": "white",
            "showbackground": true,
            "ticks": "",
            "zerolinecolor": "white"
           },
           "yaxis": {
            "backgroundcolor": "#E5ECF6",
            "gridcolor": "white",
            "gridwidth": 2,
            "linecolor": "white",
            "showbackground": true,
            "ticks": "",
            "zerolinecolor": "white"
           },
           "zaxis": {
            "backgroundcolor": "#E5ECF6",
            "gridcolor": "white",
            "gridwidth": 2,
            "linecolor": "white",
            "showbackground": true,
            "ticks": "",
            "zerolinecolor": "white"
           }
          },
          "shapedefaults": {
           "line": {
            "color": "#2a3f5f"
           }
          },
          "ternary": {
           "aaxis": {
            "gridcolor": "white",
            "linecolor": "white",
            "ticks": ""
           },
           "baxis": {
            "gridcolor": "white",
            "linecolor": "white",
            "ticks": ""
           },
           "bgcolor": "#E5ECF6",
           "caxis": {
            "gridcolor": "white",
            "linecolor": "white",
            "ticks": ""
           }
          },
          "title": {
           "x": 0.05
          },
          "xaxis": {
           "automargin": true,
           "gridcolor": "white",
           "linecolor": "white",
           "ticks": "",
           "title": {
            "standoff": 15
           },
           "zerolinecolor": "white",
           "zerolinewidth": 2
          },
          "yaxis": {
           "automargin": true,
           "gridcolor": "white",
           "linecolor": "white",
           "ticks": "",
           "title": {
            "standoff": 15
           },
           "zerolinecolor": "white",
           "zerolinewidth": 2
          }
         }
        },
        "title": {
         "text": "Optimization History Plot"
        },
        "xaxis": {
         "title": {
          "text": "#Trials"
         }
        },
        "yaxis": {
         "title": {
          "text": "Objective Value"
         }
        }
       }
      },
      "text/html": [
       "<div>                            <div id=\"8432e507-7a8c-4379-8342-6832f1d4edb0\" class=\"plotly-graph-div\" style=\"height:525px; width:100%;\"></div>            <script type=\"text/javascript\">                require([\"plotly\"], function(Plotly) {                    window.PLOTLYENV=window.PLOTLYENV || {};                                    if (document.getElementById(\"8432e507-7a8c-4379-8342-6832f1d4edb0\")) {                    Plotly.newPlot(                        \"8432e507-7a8c-4379-8342-6832f1d4edb0\",                        [{\"mode\":\"markers\",\"name\":\"Objective Value\",\"type\":\"scatter\",\"x\":[0,1,2,3,4,5,6,7,8,9,10,11,12,13,14,15,16,17,18,19,20,21,22,23,24,25,26,27,28,29,30,31,32,33,34,35,36,37,38,39,40,41,42,43,44,45,46,47,48,49],\"y\":[-25.014766057576466,-24.369168563746264,-25.884133382752445,-26.61144251958972,-24.504824523283364,-23.90455195880678,-27.0608134809518,-27.362185178463736,-24.947270865085965,-25.875879147161214,-23.097173226123505,-23.32343815163062,-23.746933663396053,-25.40924604113733,-26.60752931763208,-23.282766724618842,-24.424581563866774,-25.993773318313337,-26.673587216172884,-27.99178850761587,-25.89899026857191,-26.408093335939043,-25.82392725681661,-26.865488846153937,-27.344845241321824,-22.752976734718217,-26.36220334253624,-26.987314108203794,-27.83921554159211,-28.8784144081116,-26.106390440105304,-27.192036133292905,-25.827306664278076,-26.634822377118702,-25.017050515832032,-26.11543143116364,-25.61557404410706,-23.88941209812768,-27.650309249473136,-27.006853272581687,-25.63384004072162,-26.489503790743314,-25.033638474833364,-27.510853015614703,-26.371552876531027,-25.10790495217144,-27.43853353731033,-24.182265549045038,-25.482567086169848,-25.430209494178946]},{\"name\":\"Best Value\",\"type\":\"scatter\",\"x\":[0,1,2,3,4,5,6,7,8,9,10,11,12,13,14,15,16,17,18,19,20,21,22,23,24,25,26,27,28,29,30,31,32,33,34,35,36,37,38,39,40,41,42,43,44,45,46,47,48,49],\"y\":[-25.014766057576466,-25.014766057576466,-25.884133382752445,-26.61144251958972,-26.61144251958972,-26.61144251958972,-27.0608134809518,-27.362185178463736,-27.362185178463736,-27.362185178463736,-27.362185178463736,-27.362185178463736,-27.362185178463736,-27.362185178463736,-27.362185178463736,-27.362185178463736,-27.362185178463736,-27.362185178463736,-27.362185178463736,-27.99178850761587,-27.99178850761587,-27.99178850761587,-27.99178850761587,-27.99178850761587,-27.99178850761587,-27.99178850761587,-27.99178850761587,-27.99178850761587,-27.99178850761587,-28.8784144081116,-28.8784144081116,-28.8784144081116,-28.8784144081116,-28.8784144081116,-28.8784144081116,-28.8784144081116,-28.8784144081116,-28.8784144081116,-28.8784144081116,-28.8784144081116,-28.8784144081116,-28.8784144081116,-28.8784144081116,-28.8784144081116,-28.8784144081116,-28.8784144081116,-28.8784144081116,-28.8784144081116,-28.8784144081116,-28.8784144081116]}],                        {\"template\":{\"data\":{\"bar\":[{\"error_x\":{\"color\":\"#2a3f5f\"},\"error_y\":{\"color\":\"#2a3f5f\"},\"marker\":{\"line\":{\"color\":\"#E5ECF6\",\"width\":0.5},\"pattern\":{\"fillmode\":\"overlay\",\"size\":10,\"solidity\":0.2}},\"type\":\"bar\"}],\"barpolar\":[{\"marker\":{\"line\":{\"color\":\"#E5ECF6\",\"width\":0.5},\"pattern\":{\"fillmode\":\"overlay\",\"size\":10,\"solidity\":0.2}},\"type\":\"barpolar\"}],\"carpet\":[{\"aaxis\":{\"endlinecolor\":\"#2a3f5f\",\"gridcolor\":\"white\",\"linecolor\":\"white\",\"minorgridcolor\":\"white\",\"startlinecolor\":\"#2a3f5f\"},\"baxis\":{\"endlinecolor\":\"#2a3f5f\",\"gridcolor\":\"white\",\"linecolor\":\"white\",\"minorgridcolor\":\"white\",\"startlinecolor\":\"#2a3f5f\"},\"type\":\"carpet\"}],\"choropleth\":[{\"colorbar\":{\"outlinewidth\":0,\"ticks\":\"\"},\"type\":\"choropleth\"}],\"contour\":[{\"colorbar\":{\"outlinewidth\":0,\"ticks\":\"\"},\"colorscale\":[[0.0,\"#0d0887\"],[0.1111111111111111,\"#46039f\"],[0.2222222222222222,\"#7201a8\"],[0.3333333333333333,\"#9c179e\"],[0.4444444444444444,\"#bd3786\"],[0.5555555555555556,\"#d8576b\"],[0.6666666666666666,\"#ed7953\"],[0.7777777777777778,\"#fb9f3a\"],[0.8888888888888888,\"#fdca26\"],[1.0,\"#f0f921\"]],\"type\":\"contour\"}],\"contourcarpet\":[{\"colorbar\":{\"outlinewidth\":0,\"ticks\":\"\"},\"type\":\"contourcarpet\"}],\"heatmap\":[{\"colorbar\":{\"outlinewidth\":0,\"ticks\":\"\"},\"colorscale\":[[0.0,\"#0d0887\"],[0.1111111111111111,\"#46039f\"],[0.2222222222222222,\"#7201a8\"],[0.3333333333333333,\"#9c179e\"],[0.4444444444444444,\"#bd3786\"],[0.5555555555555556,\"#d8576b\"],[0.6666666666666666,\"#ed7953\"],[0.7777777777777778,\"#fb9f3a\"],[0.8888888888888888,\"#fdca26\"],[1.0,\"#f0f921\"]],\"type\":\"heatmap\"}],\"heatmapgl\":[{\"colorbar\":{\"outlinewidth\":0,\"ticks\":\"\"},\"colorscale\":[[0.0,\"#0d0887\"],[0.1111111111111111,\"#46039f\"],[0.2222222222222222,\"#7201a8\"],[0.3333333333333333,\"#9c179e\"],[0.4444444444444444,\"#bd3786\"],[0.5555555555555556,\"#d8576b\"],[0.6666666666666666,\"#ed7953\"],[0.7777777777777778,\"#fb9f3a\"],[0.8888888888888888,\"#fdca26\"],[1.0,\"#f0f921\"]],\"type\":\"heatmapgl\"}],\"histogram\":[{\"marker\":{\"pattern\":{\"fillmode\":\"overlay\",\"size\":10,\"solidity\":0.2}},\"type\":\"histogram\"}],\"histogram2d\":[{\"colorbar\":{\"outlinewidth\":0,\"ticks\":\"\"},\"colorscale\":[[0.0,\"#0d0887\"],[0.1111111111111111,\"#46039f\"],[0.2222222222222222,\"#7201a8\"],[0.3333333333333333,\"#9c179e\"],[0.4444444444444444,\"#bd3786\"],[0.5555555555555556,\"#d8576b\"],[0.6666666666666666,\"#ed7953\"],[0.7777777777777778,\"#fb9f3a\"],[0.8888888888888888,\"#fdca26\"],[1.0,\"#f0f921\"]],\"type\":\"histogram2d\"}],\"histogram2dcontour\":[{\"colorbar\":{\"outlinewidth\":0,\"ticks\":\"\"},\"colorscale\":[[0.0,\"#0d0887\"],[0.1111111111111111,\"#46039f\"],[0.2222222222222222,\"#7201a8\"],[0.3333333333333333,\"#9c179e\"],[0.4444444444444444,\"#bd3786\"],[0.5555555555555556,\"#d8576b\"],[0.6666666666666666,\"#ed7953\"],[0.7777777777777778,\"#fb9f3a\"],[0.8888888888888888,\"#fdca26\"],[1.0,\"#f0f921\"]],\"type\":\"histogram2dcontour\"}],\"mesh3d\":[{\"colorbar\":{\"outlinewidth\":0,\"ticks\":\"\"},\"type\":\"mesh3d\"}],\"parcoords\":[{\"line\":{\"colorbar\":{\"outlinewidth\":0,\"ticks\":\"\"}},\"type\":\"parcoords\"}],\"pie\":[{\"automargin\":true,\"type\":\"pie\"}],\"scatter\":[{\"marker\":{\"colorbar\":{\"outlinewidth\":0,\"ticks\":\"\"}},\"type\":\"scatter\"}],\"scatter3d\":[{\"line\":{\"colorbar\":{\"outlinewidth\":0,\"ticks\":\"\"}},\"marker\":{\"colorbar\":{\"outlinewidth\":0,\"ticks\":\"\"}},\"type\":\"scatter3d\"}],\"scattercarpet\":[{\"marker\":{\"colorbar\":{\"outlinewidth\":0,\"ticks\":\"\"}},\"type\":\"scattercarpet\"}],\"scattergeo\":[{\"marker\":{\"colorbar\":{\"outlinewidth\":0,\"ticks\":\"\"}},\"type\":\"scattergeo\"}],\"scattergl\":[{\"marker\":{\"colorbar\":{\"outlinewidth\":0,\"ticks\":\"\"}},\"type\":\"scattergl\"}],\"scattermapbox\":[{\"marker\":{\"colorbar\":{\"outlinewidth\":0,\"ticks\":\"\"}},\"type\":\"scattermapbox\"}],\"scatterpolar\":[{\"marker\":{\"colorbar\":{\"outlinewidth\":0,\"ticks\":\"\"}},\"type\":\"scatterpolar\"}],\"scatterpolargl\":[{\"marker\":{\"colorbar\":{\"outlinewidth\":0,\"ticks\":\"\"}},\"type\":\"scatterpolargl\"}],\"scatterternary\":[{\"marker\":{\"colorbar\":{\"outlinewidth\":0,\"ticks\":\"\"}},\"type\":\"scatterternary\"}],\"surface\":[{\"colorbar\":{\"outlinewidth\":0,\"ticks\":\"\"},\"colorscale\":[[0.0,\"#0d0887\"],[0.1111111111111111,\"#46039f\"],[0.2222222222222222,\"#7201a8\"],[0.3333333333333333,\"#9c179e\"],[0.4444444444444444,\"#bd3786\"],[0.5555555555555556,\"#d8576b\"],[0.6666666666666666,\"#ed7953\"],[0.7777777777777778,\"#fb9f3a\"],[0.8888888888888888,\"#fdca26\"],[1.0,\"#f0f921\"]],\"type\":\"surface\"}],\"table\":[{\"cells\":{\"fill\":{\"color\":\"#EBF0F8\"},\"line\":{\"color\":\"white\"}},\"header\":{\"fill\":{\"color\":\"#C8D4E3\"},\"line\":{\"color\":\"white\"}},\"type\":\"table\"}]},\"layout\":{\"annotationdefaults\":{\"arrowcolor\":\"#2a3f5f\",\"arrowhead\":0,\"arrowwidth\":1},\"autotypenumbers\":\"strict\",\"coloraxis\":{\"colorbar\":{\"outlinewidth\":0,\"ticks\":\"\"}},\"colorscale\":{\"diverging\":[[0,\"#8e0152\"],[0.1,\"#c51b7d\"],[0.2,\"#de77ae\"],[0.3,\"#f1b6da\"],[0.4,\"#fde0ef\"],[0.5,\"#f7f7f7\"],[0.6,\"#e6f5d0\"],[0.7,\"#b8e186\"],[0.8,\"#7fbc41\"],[0.9,\"#4d9221\"],[1,\"#276419\"]],\"sequential\":[[0.0,\"#0d0887\"],[0.1111111111111111,\"#46039f\"],[0.2222222222222222,\"#7201a8\"],[0.3333333333333333,\"#9c179e\"],[0.4444444444444444,\"#bd3786\"],[0.5555555555555556,\"#d8576b\"],[0.6666666666666666,\"#ed7953\"],[0.7777777777777778,\"#fb9f3a\"],[0.8888888888888888,\"#fdca26\"],[1.0,\"#f0f921\"]],\"sequentialminus\":[[0.0,\"#0d0887\"],[0.1111111111111111,\"#46039f\"],[0.2222222222222222,\"#7201a8\"],[0.3333333333333333,\"#9c179e\"],[0.4444444444444444,\"#bd3786\"],[0.5555555555555556,\"#d8576b\"],[0.6666666666666666,\"#ed7953\"],[0.7777777777777778,\"#fb9f3a\"],[0.8888888888888888,\"#fdca26\"],[1.0,\"#f0f921\"]]},\"colorway\":[\"#636efa\",\"#EF553B\",\"#00cc96\",\"#ab63fa\",\"#FFA15A\",\"#19d3f3\",\"#FF6692\",\"#B6E880\",\"#FF97FF\",\"#FECB52\"],\"font\":{\"color\":\"#2a3f5f\"},\"geo\":{\"bgcolor\":\"white\",\"lakecolor\":\"white\",\"landcolor\":\"#E5ECF6\",\"showlakes\":true,\"showland\":true,\"subunitcolor\":\"white\"},\"hoverlabel\":{\"align\":\"left\"},\"hovermode\":\"closest\",\"mapbox\":{\"style\":\"light\"},\"paper_bgcolor\":\"white\",\"plot_bgcolor\":\"#E5ECF6\",\"polar\":{\"angularaxis\":{\"gridcolor\":\"white\",\"linecolor\":\"white\",\"ticks\":\"\"},\"bgcolor\":\"#E5ECF6\",\"radialaxis\":{\"gridcolor\":\"white\",\"linecolor\":\"white\",\"ticks\":\"\"}},\"scene\":{\"xaxis\":{\"backgroundcolor\":\"#E5ECF6\",\"gridcolor\":\"white\",\"gridwidth\":2,\"linecolor\":\"white\",\"showbackground\":true,\"ticks\":\"\",\"zerolinecolor\":\"white\"},\"yaxis\":{\"backgroundcolor\":\"#E5ECF6\",\"gridcolor\":\"white\",\"gridwidth\":2,\"linecolor\":\"white\",\"showbackground\":true,\"ticks\":\"\",\"zerolinecolor\":\"white\"},\"zaxis\":{\"backgroundcolor\":\"#E5ECF6\",\"gridcolor\":\"white\",\"gridwidth\":2,\"linecolor\":\"white\",\"showbackground\":true,\"ticks\":\"\",\"zerolinecolor\":\"white\"}},\"shapedefaults\":{\"line\":{\"color\":\"#2a3f5f\"}},\"ternary\":{\"aaxis\":{\"gridcolor\":\"white\",\"linecolor\":\"white\",\"ticks\":\"\"},\"baxis\":{\"gridcolor\":\"white\",\"linecolor\":\"white\",\"ticks\":\"\"},\"bgcolor\":\"#E5ECF6\",\"caxis\":{\"gridcolor\":\"white\",\"linecolor\":\"white\",\"ticks\":\"\"}},\"title\":{\"x\":0.05},\"xaxis\":{\"automargin\":true,\"gridcolor\":\"white\",\"linecolor\":\"white\",\"ticks\":\"\",\"title\":{\"standoff\":15},\"zerolinecolor\":\"white\",\"zerolinewidth\":2},\"yaxis\":{\"automargin\":true,\"gridcolor\":\"white\",\"linecolor\":\"white\",\"ticks\":\"\",\"title\":{\"standoff\":15},\"zerolinecolor\":\"white\",\"zerolinewidth\":2}}},\"title\":{\"text\":\"Optimization History Plot\"},\"xaxis\":{\"title\":{\"text\":\"#Trials\"}},\"yaxis\":{\"title\":{\"text\":\"Objective Value\"}}},                        {\"responsive\": true}                    ).then(function(){\n",
       "                            \n",
       "var gd = document.getElementById('8432e507-7a8c-4379-8342-6832f1d4edb0');\n",
       "var x = new MutationObserver(function (mutations, observer) {{\n",
       "        var display = window.getComputedStyle(gd).display;\n",
       "        if (!display || display === 'none') {{\n",
       "            console.log([gd, 'removed!']);\n",
       "            Plotly.purge(gd);\n",
       "            observer.disconnect();\n",
       "        }}\n",
       "}});\n",
       "\n",
       "// Listen for the removal of the full notebook cells\n",
       "var notebookContainer = gd.closest('#notebook-container');\n",
       "if (notebookContainer) {{\n",
       "    x.observe(notebookContainer, {childList: true});\n",
       "}}\n",
       "\n",
       "// Listen for the clearing of the current output cell\n",
       "var outputEl = gd.closest('.output');\n",
       "if (outputEl) {{\n",
       "    x.observe(outputEl, {childList: true});\n",
       "}}\n",
       "\n",
       "                        })                };                });            </script>        </div>"
      ]
     },
     "metadata": {},
     "output_type": "display_data"
    }
   ],
   "source": [
    "fig = optuna.visualization.plot_optimization_history(study)\n",
    "fig.show()"
   ]
  },
  {
   "cell_type": "code",
   "execution_count": null,
   "metadata": {},
   "outputs": [],
   "source": [
    "mean, result, optimal_params, optimizer_name = study.user_attrs[\"best\"]\n",
    "print(f\"Optimizer: {optimizer_name}\")\n",
    "print(f\"Optimal Parameters: {optimal_params}\")"
   ]
  },
  {
   "cell_type": "code",
   "execution_count": 27,
   "metadata": {},
   "outputs": [
    {
     "data": {
      "text/plain": [
       "array([ 2.54688176, -0.93615441, -0.7789562 ,  3.4777998 ,  0.31144345,\n",
       "       -0.09676931,  0.0675467 ,  0.30564694,  1.05463352, -1.98108075,\n",
       "        0.220484  ,  1.69062969])"
      ]
     },
     "execution_count": 27,
     "metadata": {},
     "output_type": "execute_result"
    }
   ],
   "source": [
    "max_cut.draw(result)"
   ]
  },
  {
   "cell_type": "code",
   "execution_count": 28,
   "metadata": {},
   "outputs": [
    {
     "data": {
      "image/png": "[encoded data removed]",
      "text/plain": [
       "<Figure size 432x288 with 1 Axes>"
      ]
     },
     "metadata": {},
     "output_type": "display_data"
    }
   ],
   "source": [
    "mean, distribution = max_cut.analyse(result, print_output=True)\n",
    "max_cut.plot_histogram(distribution, mean)"
   ]
  },
  {
   "cell_type": "code",
   "execution_count": 29,
   "metadata": {},
   "outputs": [
    {
     "name": "stdout",
     "output_type": "stream",
     "text": [
      "optimal function value: 35.0\n",
      "optimal value: [0. 1. 0. 1. 0.]\n",
      "status: SUCCESS\n",
      "Mean: 28.8784144081116\n",
      "01010: value: 35.000, probability: 6.8%\n",
      "10101: value: 35.000, probability: 6.6%\n",
      "00111: value: 34.000, probability: 2.7%\n",
      "11000: value: 34.000, probability: 2.8%\n",
      "01110: value: 33.000, probability: 2.0%\n",
      "10001: value: 33.000, probability: 2.3%\n",
      "00011: value: 32.000, probability: 11.4%\n",
      "00101: value: 32.000, probability: 8.3%\n",
      "00110: value: 32.000, probability: 1.7%\n",
      "11001: value: 32.000, probability: 1.6%\n",
      "11010: value: 32.000, probability: 8.4%\n",
      "11100: value: 32.000, probability: 11.4%\n",
      "01011: value: 31.000, probability: 5.0%\n",
      "10100: value: 31.000, probability: 5.2%\n",
      "00001: value: 30.000, probability: 1.0%\n",
      "11110: value: 30.000, probability: 1.2%\n",
      "01001: value: 29.000, probability: 1.1%\n",
      "10110: value: 29.000, probability: 1.0%\n",
      "01000: value: 19.000, probability: 1.0%\n",
      "10111: value: 19.000, probability: 1.1%\n",
      "01100: value: 17.000, probability: 2.4%\n",
      "10011: value: 17.000, probability: 2.6%\n",
      "00010: value: 16.000, probability: 0.5%\n",
      "11011: value: 16.000, probability: 0.3%\n",
      "11101: value: 16.000, probability: 0.4%\n",
      "01111: value: 15.000, probability: 2.3%\n",
      "10000: value: 15.000, probability: 2.2%\n",
      "01101: value: 13.000, probability: 2.4%\n",
      "10010: value: 13.000, probability: 2.7%\n",
      "00000: value: 0.000, probability: 0.7%\n",
      "11111: value: 0.000, probability: 0.9%\n"
     ]
    },
    {
     "data": {
      "image/png": "[encoded data removed]",
      "text/plain": [
       "<Figure size 504x360 with 1 Axes>"
      ]
     },
     "execution_count": 29,
     "metadata": {},
     "output_type": "execute_result"
    },
    {
     "data": {
      "image/png": "[encoded data removed]",
      "text/plain": [
       "<Figure size 504x360 with 1 Axes>"
      ]
     },
     "metadata": {
      "needs_background": "light"
     },
     "output_type": "display_data"
    }
   ],
   "source": [
    "import qiskit.tools.jupyter\n",
    "%qiskit_version_table"
   ]
  },
  {
   "cell_type": "code",
   "metadata": {
    "pycharm": {
     "name": "#%%\n"
    }
   },
   "source": [
    "import mitiq\n",
    "mitiq.about()\n"
   ],
   "execution_count": null,
   "outputs": []
  }
 ],
 "metadata": {
  "kernelspec": {
   "display_name": "Python 3",
   "language": "python",
   "name": "python3"
  },
  "language_info": {
   "codemirror_mode": {
    "name": "ipython",
    "version": 3
   },
   "file_extension": ".py",
   "mimetype": "text/x-python",
   "name": "python",
   "nbconvert_exporter": "python",
   "pygments_lexer": "ipython3",
   "version": "3.8.6"
  }
 },
 "nbformat": 4,
 "nbformat_minor": 4
}