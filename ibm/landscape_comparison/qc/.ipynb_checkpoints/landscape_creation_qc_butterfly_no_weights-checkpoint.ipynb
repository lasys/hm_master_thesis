{
 "cells": [
  {
   "cell_type": "code",
   "execution_count": 1,
   "id": "08c90252",
   "metadata": {},
   "outputs": [],
   "source": [
    "import sys\n",
    "import os\n",
    "sys.path.insert(0, os.path.abspath('../'))\n",
    "sys.path.insert(0, os.path.abspath('../../'))\n",
    "sys.path.insert(0, os.path.abspath('../../../'))\n",
    "sys.path.insert(0, os.path.abspath('../../../../'))"
   ]
  },
  {
   "cell_type": "code",
   "execution_count": null,
   "id": "d544255f",
   "metadata": {},
   "outputs": [],
   "source": [
    "import numpy as np\n",
    "\n",
    "import qiskit\n",
    "provider = qiskit.IBMQ.load_account()\n",
    "from qiskit import Aer\n",
    "from qiskit.utils import QuantumInstance\n",
    "from qiskit_optimization.algorithms import MinimumEigenOptimizer\n",
    "from qiskit.algorithms import QAOA\n",
    "from shared.QiskitMaxcut import *\n",
    "from ibm.ibm_parameters import *\n",
    "from matplotlib import pyplot as plt\n",
    "%matplotlib inline"
   ]
  },
  {
   "cell_type": "code",
   "execution_count": null,
   "id": "c4f3a410",
   "metadata": {},
   "outputs": [],
   "source": [
    "graph = generate_butterfly_graph(with_weights=False)\n",
    "max_cut = Maxcut(graph)\n",
    "max_cut_qubo = max_cut.to_qubo()\n",
    "print(graph.name)\n",
    "max_cut.draw()"
   ]
  },
  {
   "cell_type": "code",
   "execution_count": null,
   "id": "617f4b75",
   "metadata": {},
   "outputs": [],
   "source": [
    "step_size = 0.1\n",
    "a_gamma = np.arange(0, np.pi, step_size)\n",
    "b_beta = np.arange(0, np.pi, step_size)"
   ]
  },
  {
   "cell_type": "code",
   "execution_count": null,
   "id": "77c26255",
   "metadata": {},
   "outputs": [],
   "source": [
    "a_gamma, b_beta = np.meshgrid(a_gamma, b_beta)\n",
    "len(a_gamma)"
   ]
  },
  {
   "cell_type": "code",
   "execution_count": null,
   "id": "7521ba41",
   "metadata": {},
   "outputs": [],
   "source": [
    "def maxcut_obj(x, G):\n",
    "    \"\"\"\n",
    "    Given a bitstring as a solution, this function returns\n",
    "    the number of edges shared between the two partitions\n",
    "    of the graph.\n",
    "    \n",
    "    Args:\n",
    "        x: str\n",
    "           solution bitstring\n",
    "           \n",
    "        G: networkx graph\n",
    "        \n",
    "    Returns:\n",
    "        obj: float\n",
    "             Objective\n",
    "    \"\"\"\n",
    "    obj = 0\n",
    "    for i,j,w in graph.edges.data('weight'):\n",
    "        if x[i] != x[j]:\n",
    "            obj -= w\n",
    "            \n",
    "    return obj\n",
    "\n",
    "\n",
    "def compute_expectation(counts, G):\n",
    "    \n",
    "    \"\"\"\n",
    "    Computes expectation value based on measurement results\n",
    "    \n",
    "    Args:\n",
    "        counts: dict\n",
    "                key as bitstring, val as count\n",
    "           \n",
    "        G: networkx graph\n",
    "        \n",
    "    Returns:\n",
    "        avg: float\n",
    "             expectation value\n",
    "    \"\"\"\n",
    "    \n",
    "    avg = 0\n",
    "    sum_count = 0\n",
    "    for bitstring, count in counts.items():\n",
    "        \n",
    "        obj = maxcut_obj(bitstring, G)\n",
    "        avg += obj * count\n",
    "        sum_count += count\n",
    "        \n",
    "    return avg/sum_count"
   ]
  },
  {
   "cell_type": "code",
   "execution_count": null,
   "id": "c25a7505",
   "metadata": {},
   "outputs": [],
   "source": [
    "import pickle\n",
    "from qiskit.providers.models import BackendConfiguration\n",
    "\n",
    "def load_from_pickle(name):\n",
    "    with open(name, 'rb') as f:\n",
    "        return pickle.load(f)\n",
    "    \n",
    "noise_model_filename = \"ibmq_toronto_noise_model_dict.pkl\"\n",
    "noise_model_dict = load_from_pickle(noise_model_filename)\n",
    "noise_model = NoiseModel.from_dict(noise_model_dict)\n",
    "basis_gates = noise_model.basis_gates\n",
    "        \n",
    "noise_backend_configuration_filename = \"ibmq_toronto_noise_backend_configuation_dict.pkl\"\n",
    "noise_backend_configuration_dict = load_from_pickle(noise_backend_configuration_filename)\n",
    "noise_backend_configuration = BackendConfiguration.from_dict(noise_backend_configuration_dict)\n",
    "coupling_map = noise_backend_configuration.coupling_map"
   ]
  },
  {
   "cell_type": "code",
   "execution_count": null,
   "id": "1defe426",
   "metadata": {},
   "outputs": [],
   "source": [
    "quantum_instance = QuantumInstance(\n",
    "                    backend=Aer.get_backend(\"qasm_simulator\"),\n",
    "                    noise_model=noise_model,\n",
    "                    coupling_map=coupling_map,\n",
    "                    basis_gates=basis_gates,\n",
    "                    shots=1024)\n",
    "\n",
    "qaoa = QAOA(\n",
    "            optimizer=COBYLA(maxiter=0),\n",
    "            quantum_instance=quantum_instance,\n",
    "            reps=1\n",
    "            )\n",
    "\n",
    "op, offset = max_cut_qubo.to_ising()"
   ]
  },
  {
   "cell_type": "code",
   "execution_count": null,
   "id": "cf2907cd",
   "metadata": {},
   "outputs": [],
   "source": [
    "def create_cirucit(gamma,beta):\n",
    "    circuits = qaoa.construct_circuit([gamma,beta], operator=op)\n",
    "    circuit = circuits[0]\n",
    "    circuit.measure_all()\n",
    "    return circuit"
   ]
  },
  {
   "cell_type": "code",
   "execution_count": null,
   "id": "7aa92597",
   "metadata": {},
   "outputs": [],
   "source": [
    "landscape = np.zeros(a_gamma.shape)\n",
    "\n",
    "for i in range(0, len(landscape)):\n",
    "    circuits = []\n",
    "    for j in range(0, len(landscape)):\n",
    "        # create circuits for entire row \n",
    "        circuit = create_cirucit(a_gamma[i][j], b_beta[i][j])\n",
    "        circuits.append(circuit)\n",
    "    \n",
    "    # create one job with circuits \n",
    "    job_name = f\"{graph.name}_row_{i}\"\n",
    "    job = quantum_instance.execute(circuits)\n",
    "    #job.update_name(job_name)\n",
    "    print(job_name)\n",
    "    #print(job)\n",
    "    \n",
    "    # add results to landscape \n",
    "    k = 0\n",
    "    for count in job.get_counts():\n",
    "        mean = compute_expectation(count, graph)\n",
    "        landscape[i,k % 32] = mean\n",
    "        k += 1"
   ]
  },
  {
   "cell_type": "code",
   "execution_count": null,
   "id": "0318681e",
   "metadata": {},
   "outputs": [],
   "source": [
    "print(landscape)\n",
    "plt.matshow(landscape)\n",
    "plt.show()"
   ]
  },
  {
   "cell_type": "code",
   "execution_count": null,
   "id": "f92be730",
   "metadata": {},
   "outputs": [],
   "source": [
    "# Mean of landscape\n",
    "np.mean(landscape)"
   ]
  },
  {
   "cell_type": "code",
   "execution_count": null,
   "id": "bb03a5a4",
   "metadata": {},
   "outputs": [],
   "source": [
    "# Minimium \n",
    "np.min(landscape)"
   ]
  },
  {
   "cell_type": "code",
   "execution_count": null,
   "id": "be4164d7",
   "metadata": {},
   "outputs": [],
   "source": [
    "# Display Coordinates of Minimum \n",
    "np.unravel_index(np.argmin(landscape), landscape.shape)"
   ]
  },
  {
   "cell_type": "code",
   "execution_count": null,
   "id": "d345481d",
   "metadata": {},
   "outputs": [],
   "source": [
    "# Gamma and beta value of Minimium\n",
    "gamma, beta = np.unravel_index(np.argmin(landscape), landscape.shape)\n",
    "opt_gamma = gamma * step_size\n",
    "opt_beta = beta * step_size\n",
    "print(f\"Opt.Gamma: {opt_gamma}, Opt.Beta: {opt_beta}\")"
   ]
  },
  {
   "cell_type": "code",
   "execution_count": null,
   "id": "3aeb645a",
   "metadata": {},
   "outputs": [],
   "source": [
    "# Save result matrix \n",
    "with open('landscape_creation_sim_butterfly_no_weights_results.npy', 'wb') as f:\n",
    "    np.save(f, landscape)"
   ]
  },
  {
   "cell_type": "code",
   "execution_count": null,
   "id": "143a3a5b",
   "metadata": {},
   "outputs": [],
   "source": [
    "import plotly.graph_objects as go"
   ]
  },
  {
   "cell_type": "code",
   "execution_count": null,
   "id": "a4a70fc8",
   "metadata": {},
   "outputs": [],
   "source": [
    "# Plot landscape in 3D \n",
    "fig = go.Figure(data=go.Surface(z=landscape, x=a_gamma, y=b_beta))\n",
    "\n",
    "fig.update_traces(contours_z=dict(show=True, usecolormap=True, highlightcolor='limegreen', project_z=True))\n",
    "\n",
    "\n",
    "fig.update_layout(title=\"QAOA - MaxCut-Landscape\", scene=dict(\n",
    "    xaxis_title=\"γ\",\n",
    "    yaxis_title=\"β\",\n",
    "    zaxis_title=\"F(γ,β)\"\n",
    "))"
   ]
  },
  {
   "cell_type": "code",
   "execution_count": null,
   "id": "67cad897",
   "metadata": {},
   "outputs": [],
   "source": [
    "from matplotlib.colors import Normalize\n",
    "import matplotlib.cm as cm\n",
    "import numpy as np\n",
    "from matplotlib.colors import Normalize\n",
    "import matplotlib.pyplot as plt\n",
    "import matplotlib.cm as cm\n",
    "\n",
    "font_size = 14\n",
    "fig, ax = plt.subplots(1,1, figsize=(5,5))\n",
    "\n",
    "cmap = cm.get_cmap('viridis')\n",
    "minv = np.min([landscape])\n",
    "maxv = np.max([landscape])\n",
    "normalizer=Normalize(minv,maxv)\n",
    "im=cm.ScalarMappable(norm=normalizer)\n",
    "\n",
    "plot = ax.contourf(a_gamma, b_beta, landscape, cmap = cmap, norm=normalizer)\n",
    "ax.set_ylabel(r'$\\beta$', fontsize = font_size)\n",
    "ax.set_xlabel(r'$\\gamma$', fontsize = font_size)\n",
    "ax.set_title('Simulation with Noise Model', fontsize = font_size)\n",
    "\n",
    "colorbar = plt.colorbar(im, ax=ax)\n",
    "colorbar.ax.set_ylabel('Energies', fontsize = font_size)\n",
    "plt.show()"
   ]
  },
  {
   "cell_type": "code",
   "execution_count": null,
   "id": "64b6705c",
   "metadata": {},
   "outputs": [],
   "source": []
  }
 ],
 "metadata": {
  "kernelspec": {
   "display_name": "python3.8",
   "language": "python",
   "name": "python3.8"
  },
  "language_info": {
   "codemirror_mode": {
    "name": "ipython",
    "version": 3
   },
   "file_extension": ".py",
   "mimetype": "text/x-python",
   "name": "python",
   "nbconvert_exporter": "python",
   "pygments_lexer": "ipython3",
   "version": "3.8.6"
  }
 },
 "nbformat": 4,
 "nbformat_minor": 5
}
