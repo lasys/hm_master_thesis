{
 "cells": [
  {
   "cell_type": "code",
   "execution_count": 1,
   "id": "08c90252",
   "metadata": {},
   "outputs": [],
   "source": [
    "import sys\n",
    "import os\n",
    "sys.path.insert(0, os.path.abspath('../'))\n",
    "sys.path.insert(0, os.path.abspath('../../'))\n",
    "sys.path.insert(0, os.path.abspath('/home/hm-tlacherm/qlm_notebooks/notebooks_1.2.1/notebooks/master_thesis_qaoa/'))\n",
    "sys.path.insert(0, os.path.abspath('/home/hm-tlacherm/qlm_notebooks/notebooks_1.2.1/notebooks/master_thesis_qaoa/ibm/'))"
   ]
  },
  {
   "cell_type": "code",
   "execution_count": 2,
   "id": "d544255f",
   "metadata": {},
   "outputs": [],
   "source": [
    "import numpy as np\n",
    "\n",
    "import qiskit\n",
    "provider = qiskit.IBMQ.load_account()\n",
    "from qiskit import Aer\n",
    "from qiskit.utils import QuantumInstance\n",
    "from qiskit_optimization.algorithms import MinimumEigenOptimizer\n",
    "from qiskit.algorithms import QAOA\n",
    "from shared.QiskitMaxcut import *\n",
    "from ibm.ibm_parameters import *\n",
    "\n",
    "from matplotlib import pyplot as plt\n",
    "%matplotlib inline"
   ]
  },
  {
   "cell_type": "code",
   "execution_count": 3,
   "id": "c4f3a410",
   "metadata": {},
   "outputs": [
    {
     "name": "stdout",
     "output_type": "stream",
     "text": [
      "graph_05_06_02\n"
     ]
    },
    {
     "data": {
      "image/png": "[encoded data removed]",
      "text/plain": [
       "<Figure size 432x288 with 1 Axes>"
      ]
     },
     "metadata": {},
     "output_type": "display_data"
    }
   ],
   "source": [
    "graph = generate_butterfly_graph(with_weights=False)\n",
    "max_cut = Maxcut(graph)\n",
    "max_cut_qubo = max_cut.to_qubo()\n",
    "print(graph.name)\n",
    "max_cut.draw()"
   ]
  },
  {
   "cell_type": "code",
   "execution_count": 5,
   "id": "617f4b75",
   "metadata": {},
   "outputs": [],
   "source": [
    "step_size = 0.1\n",
    "a_gamma = np.arange(0, np.pi, step_size)\n",
    "b_beta = np.arange(0, np.pi, step_size)"
   ]
  },
  {
   "cell_type": "code",
   "execution_count": 6,
   "id": "77c26255",
   "metadata": {},
   "outputs": [
    {
     "data": {
      "text/plain": [
       "32"
      ]
     },
     "execution_count": 6,
     "metadata": {},
     "output_type": "execute_result"
    }
   ],
   "source": [
    "a_gamma, b_beta = np.meshgrid(a_gamma, b_beta)\n",
    "len(a_gamma)"
   ]
  },
  {
   "cell_type": "code",
   "execution_count": 7,
   "id": "1defe426",
   "metadata": {},
   "outputs": [],
   "source": [
    "quantum_instance = QuantumInstance(\n",
    "                    backend=Aer.get_backend(DEFAULT_QASM_SIMULATOR),\n",
    "                    shots=SHOTS)\n",
    "qaoa = QAOA(\n",
    "            optimizer=COBYLA(maxiter=0),\n",
    "            quantum_instance=quantum_instance,\n",
    "            reps=1\n",
    "            )\n",
    "\n",
    "op, offset = max_cut_qubo.to_ising()"
   ]
  },
  {
   "cell_type": "code",
   "execution_count": 8,
   "id": "7521ba41",
   "metadata": {},
   "outputs": [],
   "source": [
    "def maxcut_obj(x, G):\n",
    "    \"\"\"\n",
    "    Given a bitstring as a solution, this function returns\n",
    "    the number of edges shared between the two partitions\n",
    "    of the graph.\n",
    "    \n",
    "    Args:\n",
    "        x: str\n",
    "           solution bitstring\n",
    "           \n",
    "        G: networkx graph\n",
    "        \n",
    "    Returns:\n",
    "        obj: float\n",
    "             Objective\n",
    "    \"\"\"\n",
    "    obj = 0\n",
    "    for i, j in G.edges():\n",
    "        if x[i] != x[j]:\n",
    "            obj -= 1\n",
    "            \n",
    "    return obj\n",
    "\n",
    "\n",
    "def compute_expectation(counts, G):\n",
    "    \n",
    "    \"\"\"\n",
    "    Computes expectation value based on measurement results\n",
    "    \n",
    "    Args:\n",
    "        counts: dict\n",
    "                key as bitstring, val as count\n",
    "           \n",
    "        G: networkx graph\n",
    "        \n",
    "    Returns:\n",
    "        avg: float\n",
    "             expectation value\n",
    "    \"\"\"\n",
    "    \n",
    "    avg = 0\n",
    "    sum_count = 0\n",
    "    for bitstring, count in counts.items():\n",
    "        \n",
    "        obj = maxcut_obj(bitstring, G)\n",
    "        avg += obj * count\n",
    "        sum_count += count\n",
    "        \n",
    "    return avg/sum_count"
   ]
  },
  {
   "cell_type": "code",
   "execution_count": 9,
   "id": "cf2907cd",
   "metadata": {},
   "outputs": [],
   "source": [
    "def create_cirucit(gamma,beta):\n",
    "    circuits = qaoa.construct_circuit([gamma,beta], operator=op)\n",
    "    circuit = circuits[0]\n",
    "    circuit.measure_all()\n",
    "    return circuit"
   ]
  },
  {
   "cell_type": "code",
   "execution_count": 21,
   "id": "7aa92597",
   "metadata": {},
   "outputs": [
    {
     "name": "stdout",
     "output_type": "stream",
     "text": [
      "graph_05_06_02_row_0\n",
      "graph_05_06_02_row_1\n",
      "graph_05_06_02_row_2\n",
      "graph_05_06_02_row_3\n"
     ]
    }
   ],
   "source": [
    "landscape = np.zeros(a_gamma.shape)\n",
    "\n",
    "for i in range(0, len(landscape)):\n",
    "    circuits = []\n",
    "    for j in range(0, len(landscape)):\n",
    "        # create circuits for entire row \n",
    "        circuit = create_cirucit(a_gamma[i][j], b_beta[i][j])\n",
    "        circuits.append(circuit)\n",
    "    \n",
    "    # create one job with circuits \n",
    "    job_name = f\"{graph.name}_row_{i}\"\n",
    "    job = quantum_instance.execute(circuits)\n",
    "    #job.update_name(job_name)\n",
    "    print(job_name)\n",
    "    #print(job)\n",
    "    \n",
    "    # add results to landscape \n",
    "    j = 0\n",
    "    for count in job.get_counts():\n",
    "        mean = compute_expectation(count, graph)\n",
    "        landscape[i,j] = mean\n",
    "        j += 1"
   ]
  },
  {
   "cell_type": "code",
   "execution_count": 20,
   "id": "0318681e",
   "metadata": {},
   "outputs": [
    {
     "name": "stdout",
     "output_type": "stream",
     "text": [
      "[[-2.99875 -2.9815  -2.98475 -3.00225]\n",
      " [-2.98875 -2.69275 -2.054   -2.774  ]\n",
      " [-3.026   -1.95425 -2.958   -3.16375]\n",
      " [-3.0195  -3.20175 -2.68325 -2.89075]]\n"
     ]
    },
    {
     "data": {
      "image/png": "[encoded data removed]",
      "text/plain": [
       "<Figure size 288x288 with 1 Axes>"
      ]
     },
     "metadata": {
      "needs_background": "light"
     },
     "output_type": "display_data"
    }
   ],
   "source": [
    "print(landscape)\n",
    "plt.matshow(landscape)\n",
    "plt.show()"
   ]
  },
  {
   "cell_type": "code",
   "execution_count": 10,
   "id": "2e084021",
   "metadata": {},
   "outputs": [],
   "source": [
    "landscape = np.load('landscape_mumbai_butterfly_no_weights_results.npy')"
   ]
  },
  {
   "cell_type": "code",
   "execution_count": 11,
   "id": "f92be730",
   "metadata": {},
   "outputs": [
    {
     "data": {
      "text/plain": [
       "-2.805593017578125"
      ]
     },
     "execution_count": 11,
     "metadata": {},
     "output_type": "execute_result"
    }
   ],
   "source": [
    "# Mean of landscape\n",
    "np.mean(landscape)"
   ]
  },
  {
   "cell_type": "code",
   "execution_count": 12,
   "id": "bb03a5a4",
   "metadata": {},
   "outputs": [
    {
     "data": {
      "text/plain": [
       "-3.3245"
      ]
     },
     "execution_count": 12,
     "metadata": {},
     "output_type": "execute_result"
    }
   ],
   "source": [
    "# Minimium \n",
    "np.min(landscape)"
   ]
  },
  {
   "cell_type": "code",
   "execution_count": 13,
   "id": "be4164d7",
   "metadata": {},
   "outputs": [
    {
     "data": {
      "text/plain": [
       "(23, 18)"
      ]
     },
     "execution_count": 13,
     "metadata": {},
     "output_type": "execute_result"
    }
   ],
   "source": [
    "# Display Coordinates of Minimum \n",
    "np.unravel_index(np.argmin(landscape), landscape.shape)"
   ]
  },
  {
   "cell_type": "code",
   "execution_count": 14,
   "id": "d345481d",
   "metadata": {},
   "outputs": [
    {
     "name": "stdout",
     "output_type": "stream",
     "text": [
      "Opt.Gamma: 2.3000000000000003, Opt.Beta: 1.8\n"
     ]
    }
   ],
   "source": [
    "# Gamma and beta value of Minimium\n",
    "gamma, beta = np.unravel_index(np.argmin(landscape), landscape.shape)\n",
    "opt_gamma = gamma * step_size\n",
    "opt_beta = beta * step_size\n",
    "print(f\"Opt.Gamma: {opt_gamma}, Opt.Beta: {opt_beta}\")"
   ]
  },
  {
   "cell_type": "code",
   "execution_count": 15,
   "id": "3aeb645a",
   "metadata": {},
   "outputs": [],
   "source": [
    "# Save result matrix \n",
    "#with open('landscape_mumbai_butterfly_no_weights_results.npy', 'wb') as f:\n",
    "#    np.save(f, landscape)"
   ]
  },
  {
   "cell_type": "code",
   "execution_count": 16,
   "id": "143a3a5b",
   "metadata": {},
   "outputs": [],
   "source": [
    "import plotly.graph_objects as go"
   ]
  },
  {
   "cell_type": "code",
   "execution_count": 23,
   "id": "a4a70fc8",
   "metadata": {},
   "outputs": [
    {
     "data": {
      "application/vnd.plotly.v1+json": {
       "config": {
        "plotlyServerURL": "https://plot.ly"
       },
       "data": [
        {
         "contours": {
          "z": {
           "highlightcolor": "limegreen",
           "project": {
            "z": true
           },
           "show": true,
           "usecolormap": true
          }
         },
         "type": "surface",
         "x": [
          0,
          0.1,
          0.2,
          0.30000000000000004,
          0.4,
          0.5,
          0.6000000000000001,
          0.7000000000000001,
          0.8,
          0.9,
          1,
          1.1,
          1.2000000000000002,
          1.3,
          1.4000000000000001,
          1.5,
          1.6,
          1.7000000000000002,
          1.8,
          1.9000000000000001,
          2,
          2.1,
          2.2,
          2.3000000000000003,
          2.4000000000000004,
          2.5,
          2.6,
          2.7,
          2.8000000000000003,
          2.9000000000000004,
          3,
          3.1
         ],
         "y": [
          0,
          0.1,
          0.2,
          0.30000000000000004,
          0.4,
          0.5,
          0.6000000000000001,
          0.7000000000000001,
          0.8,
          0.9,
          1,
          1.1,
          1.2000000000000002,
          1.3,
          1.4000000000000001,
          1.5,
          1.6,
          1.7000000000000002,
          1.8,
          1.9000000000000001,
          2,
          2.1,
          2.2,
          2.3000000000000003,
          2.4000000000000004,
          2.5,
          2.6,
          2.7,
          2.8000000000000003,
          2.9000000000000004,
          3,
          3.1
         ],
         "z": [
          [
           -2.963,
           -3.01175,
           -2.97425,
           -2.96175,
           -2.9415,
           -2.91825,
           -2.89725,
           -2.895,
           -2.95025,
           -2.93075,
           -2.98175,
           -2.99325,
           -2.9695,
           -2.99225,
           -3.01875,
           -3.026,
           -3.053,
           -2.98125,
           -2.98975,
           -2.97725,
           -2.979,
           -2.986,
           -2.95925,
           -2.96975,
           -2.99875,
           -3.01425,
           -3.051,
           -3.01975,
           -3.05525,
           -3.03525,
           -3.05625,
           -3.0275
          ],
          [
           -3.0295,
           -3.00775,
           -2.92375,
           -2.90225,
           -2.81475,
           -2.78875,
           -2.73,
           -2.71825,
           -2.73825,
           -2.7895,
           -2.81,
           -2.89075,
           -2.94875,
           -2.97175,
           -3.03225,
           -3.0215,
           -2.97875,
           -2.98875,
           -2.963,
           -2.8805,
           -2.82525,
           -2.83875,
           -2.80625,
           -2.77475,
           -2.8295,
           -2.8855,
           -2.914,
           -2.9935,
           -2.9805,
           -3.046,
           -3.04225,
           -3.043
          ],
          [
           -3.01425,
           -2.92275,
           -2.82625,
           -2.76925,
           -2.69025,
           -2.6745,
           -2.615,
           -2.67425,
           -2.717,
           -2.77825,
           -2.874,
           -2.94725,
           -3.01525,
           -3.06175,
           -3.0875,
           -3.0455,
           -3.006,
           -2.931,
           -2.8635,
           -2.8065,
           -2.70875,
           -2.7045,
           -2.72275,
           -2.7895,
           -2.814,
           -2.886,
           -2.9815,
           -3.083,
           -3.0895,
           -3.1315,
           -3.106,
           -3.05525
          ],
          [
           -3.063,
           -2.93325,
           -2.81775,
           -2.6415,
           -2.582,
           -2.5345,
           -2.54125,
           -2.56775,
           -2.62525,
           -2.75825,
           -2.858,
           -3.00375,
           -3.064,
           -3.12825,
           -3.12625,
           -3.0815,
           -3.0205,
           -2.88075,
           -2.769,
           -2.679,
           -2.63025,
           -2.59675,
           -2.63425,
           -2.6825,
           -2.745,
           -2.8555,
           -2.9935,
           -3.08,
           -3.13975,
           -3.1875,
           -3.139,
           -3.086
          ],
          [
           -3.02,
           -2.86875,
           -2.6865,
           -2.51225,
           -2.427,
           -2.40175,
           -2.3675,
           -2.40825,
           -2.549,
           -2.68825,
           -2.8505,
           -2.98825,
           -3.0805,
           -3.15225,
           -3.154,
           -3.0995,
           -2.9625,
           -2.827,
           -2.6615,
           -2.53925,
           -2.47975,
           -2.4725,
           -2.4655,
           -2.58025,
           -2.694,
           -2.876,
           -2.9965,
           -3.10175,
           -3.20475,
           -3.19175,
           -3.17025,
           -3.062
          ],
          [
           -3.0495,
           -2.87775,
           -2.68175,
           -2.50375,
           -2.36975,
           -2.3055,
           -2.304,
           -2.34375,
           -2.485,
           -2.65475,
           -2.816,
           -2.985,
           -3.0935,
           -3.1855,
           -3.18525,
           -3.071,
           -2.9565,
           -2.8385,
           -2.65675,
           -2.53775,
           -2.40175,
           -2.4195,
           -2.385,
           -2.48675,
           -2.60175,
           -2.796,
           -2.955,
           -3.08975,
           -3.19075,
           -3.22525,
           -3.169,
           -3.103
          ],
          [
           -3.02025,
           -2.79225,
           -2.5965,
           -2.40825,
           -2.2705,
           -2.1835,
           -2.22375,
           -2.2985,
           -2.44425,
           -2.65425,
           -2.83775,
           -3.00675,
           -3.13375,
           -3.212,
           -3.189,
           -3.0965,
           -2.964,
           -2.73025,
           -2.583,
           -2.43025,
           -2.304,
           -2.27375,
           -2.31275,
           -2.41325,
           -2.57925,
           -2.7685,
           -2.95475,
           -3.1115,
           -3.20675,
           -3.2505,
           -3.171,
           -3.0415
          ],
          [
           -3.04725,
           -2.80575,
           -2.56275,
           -2.41425,
           -2.23925,
           -2.1855,
           -2.162,
           -2.25475,
           -2.406,
           -2.5525,
           -2.80475,
           -2.964,
           -3.12575,
           -3.1805,
           -3.18275,
           -3.0895,
           -2.9375,
           -2.7715,
           -2.556,
           -2.37975,
           -2.30025,
           -2.252,
           -2.371,
           -2.34175,
           -2.5175,
           -2.71475,
           -2.92175,
           -3.0955,
           -3.20475,
           -3.241,
           -3.19775,
           -3.093
          ],
          [
           -3.00425,
           -2.783,
           -2.6085,
           -2.41,
           -2.23975,
           -2.1755,
           -2.17575,
           -2.21025,
           -2.39975,
           -2.592,
           -2.80925,
           -2.99375,
           -3.15,
           -3.19575,
           -3.21225,
           -3.088,
           -2.9295,
           -2.73,
           -2.55025,
           -2.406,
           -2.2595,
           -2.2415,
           -2.24775,
           -2.374,
           -2.58375,
           -2.7325,
           -2.93725,
           -3.084,
           -3.18475,
           -3.2505,
           -3.18975,
           -3.072
          ],
          [
           -3.016,
           -2.79725,
           -2.60575,
           -2.4475,
           -2.2605,
           -2.2325,
           -2.24225,
           -2.26925,
           -2.436,
           -2.633,
           -2.8265,
           -2.99825,
           -3.11275,
           -3.17675,
           -3.1505,
           -3.07625,
           -2.92475,
           -2.77075,
           -2.59275,
           -2.42875,
           -2.28025,
           -2.2775,
           -2.287,
           -2.4195,
           -2.55475,
           -2.725,
           -2.92625,
           -3.0885,
           -3.1835,
           -3.20825,
           -3.15325,
           -3.02525
          ],
          [
           -2.97925,
           -2.784,
           -2.592,
           -2.434,
           -2.309,
           -2.243,
           -2.25225,
           -2.30325,
           -2.44825,
           -2.6345,
           -2.837,
           -2.97,
           -3.12275,
           -3.1805,
           -3.14625,
           -3.0725,
           -2.91875,
           -2.76975,
           -2.606,
           -2.42775,
           -2.2815,
           -2.275,
           -2.3215,
           -2.389,
           -2.5505,
           -2.75,
           -2.90025,
           -3.069,
           -3.1345,
           -3.17875,
           -3.13275,
           -3.013
          ],
          [
           -2.99825,
           -2.8025,
           -2.61,
           -2.499,
           -2.40675,
           -2.39625,
           -2.3425,
           -2.408,
           -2.5165,
           -2.66575,
           -2.8185,
           -2.976,
           -3.08825,
           -3.161,
           -3.122,
           -3.03575,
           -2.95175,
           -2.823,
           -2.637,
           -2.5005,
           -2.4195,
           -2.39375,
           -2.386,
           -2.472,
           -2.5995,
           -2.72075,
           -2.89825,
           -3.03825,
           -3.132,
           -3.15375,
           -3.10775,
           -3.03525
          ],
          [
           -3.0065,
           -2.82325,
           -2.71975,
           -2.574,
           -2.46975,
           -2.39575,
           -2.43625,
           -2.488,
           -2.59725,
           -2.7355,
           -2.86025,
           -2.9655,
           -3.08075,
           -3.122,
           -3.12625,
           -3.06775,
           -2.9315,
           -2.84175,
           -2.67975,
           -2.572,
           -2.464,
           -2.4535,
           -2.44225,
           -2.5555,
           -2.65225,
           -2.76925,
           -2.9205,
           -3.02075,
           -3.11,
           -3.1345,
           -3.07525,
           -3.03125
          ],
          [
           -2.97175,
           -2.854,
           -2.71525,
           -2.66525,
           -2.5855,
           -2.52875,
           -2.55675,
           -2.581,
           -2.66425,
           -2.72425,
           -2.87325,
           -2.965,
           -3.03525,
           -3.06625,
           -3.057,
           -3.02975,
           -2.9755,
           -2.8705,
           -2.73575,
           -2.6655,
           -2.57625,
           -2.545,
           -2.56875,
           -2.5855,
           -2.6825,
           -2.8005,
           -2.91775,
           -2.96275,
           -3.042,
           -3.081,
           -3.02125,
           -2.991
          ],
          [
           -3.00775,
           -2.93,
           -2.832,
           -2.71525,
           -2.6325,
           -2.5915,
           -2.572,
           -2.61675,
           -2.6535,
           -2.7585,
           -2.835,
           -2.9295,
           -3.0325,
           -3.04825,
           -3.0825,
           -3.05925,
           -3.023,
           -2.935,
           -2.82975,
           -2.748,
           -2.6485,
           -2.656,
           -2.624,
           -2.64,
           -2.6875,
           -2.798,
           -2.85575,
           -2.9675,
           -3.0025,
           -3.04325,
           -3.07025,
           -3.01625
          ],
          [
           -2.956,
           -2.9045,
           -2.86375,
           -2.82125,
           -2.7455,
           -2.73475,
           -2.68725,
           -2.6975,
           -2.715,
           -2.76075,
           -2.83425,
           -2.927,
           -2.9595,
           -3.025,
           -3.0495,
           -3.02075,
           -3.01525,
           -2.98175,
           -2.90775,
           -2.848,
           -2.7255,
           -2.7325,
           -2.70525,
           -2.6765,
           -2.71225,
           -2.768,
           -2.79125,
           -2.9115,
           -2.93325,
           -2.97125,
           -3.01575,
           -3.0005
          ],
          [
           -3.0225,
           -2.9985,
           -2.95625,
           -2.915,
           -2.8535,
           -2.754,
           -2.7315,
           -2.6765,
           -2.65875,
           -2.6875,
           -2.7745,
           -2.80025,
           -2.9265,
           -2.9935,
           -3.021,
           -3.06225,
           -3.06925,
           -3.03925,
           -2.9885,
           -2.919,
           -2.86175,
           -2.775,
           -2.70625,
           -2.674,
           -2.66975,
           -2.66475,
           -2.753,
           -2.82425,
           -2.87775,
           -2.9695,
           -2.992,
           -3.0405
          ],
          [
           -3.037,
           -3.024,
           -3.01775,
           -2.9545,
           -2.9115,
           -2.8165,
           -2.73975,
           -2.67825,
           -2.665,
           -2.66175,
           -2.707,
           -2.7555,
           -2.86075,
           -2.93725,
           -2.98025,
           -3.05825,
           -3.0625,
           -3.0765,
           -3.07575,
           -2.9615,
           -2.8885,
           -2.7945,
           -2.7275,
           -2.66,
           -2.6285,
           -2.6365,
           -2.67125,
           -2.7505,
           -2.79975,
           -2.8855,
           -2.94275,
           -3.00475
          ],
          [
           -3.044,
           -3.08125,
           -3.08275,
           -3.05425,
           -2.956,
           -2.85725,
           -2.76475,
           -2.68575,
           -2.63375,
           -2.56275,
           -2.583,
           -2.6525,
           -2.722,
           -2.84275,
           -2.92525,
           -3.05075,
           -3.084,
           -3.134,
           -3.11025,
           -3.049,
           -2.97,
           -2.823,
           -2.745,
           -2.68325,
           -2.617,
           -2.56025,
           -2.58425,
           -2.6305,
           -2.7555,
           -2.81775,
           -2.93975,
           -3.00525
          ],
          [
           -3.03275,
           -3.11975,
           -3.1075,
           -3.08175,
           -3.0055,
           -2.8735,
           -2.7505,
           -2.655,
           -2.51575,
           -2.46625,
           -2.51125,
           -2.527,
           -2.64525,
           -2.7595,
           -2.93575,
           -3.0385,
           -3.13875,
           -3.16225,
           -3.13425,
           -3.08975,
           -2.97225,
           -2.852,
           -2.72475,
           -2.59575,
           -2.509,
           -2.48025,
           -2.496,
           -2.554,
           -2.605,
           -2.74275,
           -2.892,
           -3.01825
          ],
          [
           -3.045,
           -3.161,
           -3.16725,
           -3.14025,
           -3.0205,
           -2.90825,
           -2.7485,
           -2.597,
           -2.47375,
           -2.416,
           -2.397,
           -2.43825,
           -2.54225,
           -2.70225,
           -2.88025,
           -3.0275,
           -3.14225,
           -3.20725,
           -3.215,
           -3.15775,
           -3.03675,
           -2.87225,
           -2.6865,
           -2.53825,
           -2.426,
           -2.4075,
           -2.4445,
           -2.48475,
           -2.5935,
           -2.77025,
           -2.8895,
           -3.05025
          ],
          [
           -3.052,
           -3.15275,
           -3.19125,
           -3.182,
           -3.051,
           -2.912,
           -2.7275,
           -2.56075,
           -2.40925,
           -2.33075,
           -2.26775,
           -2.38,
           -2.50225,
           -2.58675,
           -2.811,
           -3.00525,
           -3.14,
           -3.2135,
           -3.24125,
           -3.17825,
           -3.0485,
           -2.93325,
           -2.7355,
           -2.52225,
           -2.40225,
           -2.3305,
           -2.3115,
           -2.374,
           -2.48775,
           -2.65125,
           -2.84225,
           -3.00025
          ],
          [
           -3.0595,
           -3.1715,
           -3.23225,
           -3.1925,
           -3.08825,
           -2.93475,
           -2.74525,
           -2.521,
           -2.34275,
           -2.23225,
           -2.20725,
           -2.58425,
           -2.40875,
           -2.566,
           -2.75425,
           -2.9775,
           -3.1325,
           -3.23825,
           -3.27925,
           -3.13375,
           -3.09,
           -2.884,
           -2.66175,
           -2.487,
           -2.362,
           -2.26375,
           -2.22025,
           -2.29275,
           -2.44375,
           -2.6315,
           -2.81225,
           -2.9835
          ],
          [
           -3.07325,
           -3.20075,
           -3.26575,
           -3.21,
           -3.10025,
           -2.9115,
           -2.682,
           -2.50075,
           -2.275,
           -2.1635,
           -2.15825,
           -2.187,
           -2.3625,
           -2.55475,
           -2.7395,
           -2.966,
           -3.15525,
           -3.269,
           -3.3245,
           -3.23425,
           -3.1395,
           -2.92775,
           -2.6785,
           -2.47725,
           -2.2985,
           -2.205,
           -2.202,
           -2.23225,
           -2.38225,
           -2.58425,
           -2.77625,
           -3.00075
          ],
          [
           -3.06325,
           -3.202,
           -3.25375,
           -3.239,
           -3.143,
           -2.967,
           -2.75625,
           -2.5235,
           -2.36375,
           -2.20625,
           -2.1465,
           -2.19325,
           -2.337,
           -2.5185,
           -2.7195,
           -2.96075,
           -3.143,
           -3.26125,
           -3.28975,
           -3.2555,
           -3.135,
           -2.95875,
           -2.727,
           -2.4875,
           -2.35025,
           -2.21325,
           -2.2055,
           -2.27425,
           -2.37475,
           -2.60525,
           -2.7935,
           -3.001
          ],
          [
           -3.044,
           -3.20325,
           -3.25625,
           -3.23025,
           -3.14225,
           -2.9465,
           -2.72825,
           -2.5205,
           -2.357,
           -2.2115,
           -2.16975,
           -2.21775,
           -2.31825,
           -2.52725,
           -2.7395,
           -2.958,
           -3.154,
           -3.28025,
           -3.2935,
           -3.269,
           -3.15425,
           -2.96575,
           -2.7505,
           -2.53875,
           -2.3475,
           -2.27625,
           -2.1925,
           -2.3155,
           -2.37475,
           -2.59675,
           -2.82425,
           -2.99225
          ],
          [
           -3.01275,
           -3.17425,
           -3.22525,
           -3.23175,
           -3.14725,
           -2.996,
           -2.791,
           -2.60225,
           -2.43275,
           -2.325,
           -2.2045,
           -2.26925,
           -2.366,
           -2.51275,
           -2.69675,
           -2.943,
           -3.0905,
           -3.2445,
           -3.28875,
           -3.26275,
           -3.16175,
           -3.027,
           -2.83675,
           -2.62975,
           -2.4525,
           -2.335,
           -2.28325,
           -2.365,
           -2.41575,
           -2.6415,
           -2.7905,
           -2.95125
          ],
          [
           -3.057,
           -3.171,
           -3.21375,
           -3.2015,
           -3.092,
           -2.96525,
           -2.78525,
           -2.62375,
           -2.459,
           -2.3465,
           -2.3,
           -2.342,
           -2.4335,
           -2.579,
           -2.77825,
           -2.9545,
           -3.12225,
           -3.23425,
           -3.28175,
           -3.2515,
           -3.16875,
           -3.01,
           -2.828,
           -2.6605,
           -2.51725,
           -2.37875,
           -2.41225,
           -2.4155,
           -2.51875,
           -2.673,
           -2.8375,
           -2.986
          ],
          [
           -3.015,
           -3.10625,
           -3.18325,
           -3.13475,
           -3.07625,
           -2.959,
           -2.81275,
           -2.6995,
           -2.57075,
           -2.4695,
           -2.42275,
           -2.45275,
           -2.52275,
           -2.60725,
           -2.799,
           -2.925,
           -3.05925,
           -3.20325,
           -3.229,
           -3.212,
           -3.156,
           -3.05175,
           -2.93325,
           -2.7795,
           -2.6355,
           -2.54875,
           -2.49475,
           -2.5065,
           -2.60925,
           -2.72,
           -2.86625,
           -2.972
          ],
          [
           -3.03025,
           -3.075,
           -3.1215,
           -3.06125,
           -3.0325,
           -2.96325,
           -2.8135,
           -2.72425,
           -2.6185,
           -2.54325,
           -2.569,
           -2.554,
           -2.636,
           -2.7405,
           -2.80675,
           -2.95025,
           -3.06675,
           -3.16225,
           -3.18575,
           -3.175,
           -3.113,
           -3.01025,
           -2.8965,
           -2.81625,
           -2.7025,
           -2.67025,
           -2.638,
           -2.6385,
           -2.71,
           -2.778,
           -2.883,
           -2.989
          ],
          [
           -2.96025,
           -2.99425,
           -3.01025,
           -3.00625,
           -2.94725,
           -2.8615,
           -2.8005,
           -2.75275,
           -2.66175,
           -2.635,
           -2.673,
           -2.66525,
           -2.71675,
           -2.786,
           -2.835,
           -2.9375,
           -3.022,
           -3.0655,
           -3.051,
           -3.0655,
           -3.04175,
           -2.9965,
           -2.90925,
           -2.8665,
           -2.807,
           -2.74825,
           -2.743,
           -2.77875,
           -2.798,
           -2.81975,
           -2.90275,
           -2.94225
          ],
          [
           -2.967,
           -2.969,
           -2.9255,
           -2.90725,
           -2.855,
           -2.831,
           -2.764,
           -2.73725,
           -2.69625,
           -2.7,
           -2.7385,
           -2.7815,
           -2.8495,
           -2.86025,
           -2.93525,
           -2.9775,
           -2.99575,
           -3.00475,
           -3.0025,
           -2.97,
           -2.96075,
           -2.92025,
           -2.87825,
           -2.8375,
           -2.86275,
           -2.836,
           -2.84175,
           -2.859,
           -2.9335,
           -2.935,
           -2.94875,
           -2.97275
          ]
         ]
        }
       ],
       "layout": {
        "scene": {
         "xaxis": {
          "title": {
           "text": "γ"
          }
         },
         "yaxis": {
          "title": {
           "text": "β"
          }
         },
         "zaxis": {
          "title": {
           "text": "F(γ,β)"
          }
         }
        },
        "template": {
         "data": {
          "bar": [
           {
            "error_x": {
             "color": "#2a3f5f"
            },
            "error_y": {
             "color": "#2a3f5f"
            },
            "marker": {
             "line": {
              "color": "#E5ECF6",
              "width": 0.5
             },
             "pattern": {
              "fillmode": "overlay",
              "size": 10,
              "solidity": 0.2
             }
            },
            "type": "bar"
           }
          ],
          "barpolar": [
           {
            "marker": {
             "line": {
              "color": "#E5ECF6",
              "width": 0.5
             },
             "pattern": {
              "fillmode": "overlay",
              "size": 10,
              "solidity": 0.2
             }
            },
            "type": "barpolar"
           }
          ],
          "carpet": [
           {
            "aaxis": {
             "endlinecolor": "#2a3f5f",
             "gridcolor": "white",
             "linecolor": "white",
             "minorgridcolor": "white",
             "startlinecolor": "#2a3f5f"
            },
            "baxis": {
             "endlinecolor": "#2a3f5f",
             "gridcolor": "white",
             "linecolor": "white",
             "minorgridcolor": "white",
             "startlinecolor": "#2a3f5f"
            },
            "type": "carpet"
           }
          ],
          "choropleth": [
           {
            "colorbar": {
             "outlinewidth": 0,
             "ticks": ""
            },
            "type": "choropleth"
           }
          ],
          "contour": [
           {
            "colorbar": {
             "outlinewidth": 0,
             "ticks": ""
            },
            "colorscale": [
             [
              0,
              "#0d0887"
             ],
             [
              0.1111111111111111,
              "#46039f"
             ],
             [
              0.2222222222222222,
              "#7201a8"
             ],
             [
              0.3333333333333333,
              "#9c179e"
             ],
             [
              0.4444444444444444,
              "#bd3786"
             ],
             [
              0.5555555555555556,
              "#d8576b"
             ],
             [
              0.6666666666666666,
              "#ed7953"
             ],
             [
              0.7777777777777778,
              "#fb9f3a"
             ],
             [
              0.8888888888888888,
              "#fdca26"
             ],
             [
              1,
              "#f0f921"
             ]
            ],
            "type": "contour"
           }
          ],
          "contourcarpet": [
           {
            "colorbar": {
             "outlinewidth": 0,
             "ticks": ""
            },
            "type": "contourcarpet"
           }
          ],
          "heatmap": [
           {
            "colorbar": {
             "outlinewidth": 0,
             "ticks": ""
            },
            "colorscale": [
             [
              0,
              "#0d0887"
             ],
             [
              0.1111111111111111,
              "#46039f"
             ],
             [
              0.2222222222222222,
              "#7201a8"
             ],
             [
              0.3333333333333333,
              "#9c179e"
             ],
             [
              0.4444444444444444,
              "#bd3786"
             ],
             [
              0.5555555555555556,
              "#d8576b"
             ],
             [
              0.6666666666666666,
              "#ed7953"
             ],
             [
              0.7777777777777778,
              "#fb9f3a"
             ],
             [
              0.8888888888888888,
              "#fdca26"
             ],
             [
              1,
              "#f0f921"
             ]
            ],
            "type": "heatmap"
           }
          ],
          "heatmapgl": [
           {
            "colorbar": {
             "outlinewidth": 0,
             "ticks": ""
            },
            "colorscale": [
             [
              0,
              "#0d0887"
             ],
             [
              0.1111111111111111,
              "#46039f"
             ],
             [
              0.2222222222222222,
              "#7201a8"
             ],
             [
              0.3333333333333333,
              "#9c179e"
             ],
             [
              0.4444444444444444,
              "#bd3786"
             ],
             [
              0.5555555555555556,
              "#d8576b"
             ],
             [
              0.6666666666666666,
              "#ed7953"
             ],
             [
              0.7777777777777778,
              "#fb9f3a"
             ],
             [
              0.8888888888888888,
              "#fdca26"
             ],
             [
              1,
              "#f0f921"
             ]
            ],
            "type": "heatmapgl"
           }
          ],
          "histogram": [
           {
            "marker": {
             "pattern": {
              "fillmode": "overlay",
              "size": 10,
              "solidity": 0.2
             }
            },
            "type": "histogram"
           }
          ],
          "histogram2d": [
           {
            "colorbar": {
             "outlinewidth": 0,
             "ticks": ""
            },
            "colorscale": [
             [
              0,
              "#0d0887"
             ],
             [
              0.1111111111111111,
              "#46039f"
             ],
             [
              0.2222222222222222,
              "#7201a8"
             ],
             [
              0.3333333333333333,
              "#9c179e"
             ],
             [
              0.4444444444444444,
              "#bd3786"
             ],
             [
              0.5555555555555556,
              "#d8576b"
             ],
             [
              0.6666666666666666,
              "#ed7953"
             ],
             [
              0.7777777777777778,
              "#fb9f3a"
             ],
             [
              0.8888888888888888,
              "#fdca26"
             ],
             [
              1,
              "#f0f921"
             ]
            ],
            "type": "histogram2d"
           }
          ],
          "histogram2dcontour": [
           {
            "colorbar": {
             "outlinewidth": 0,
             "ticks": ""
            },
            "colorscale": [
             [
              0,
              "#0d0887"
             ],
             [
              0.1111111111111111,
              "#46039f"
             ],
             [
              0.2222222222222222,
              "#7201a8"
             ],
             [
              0.3333333333333333,
              "#9c179e"
             ],
             [
              0.4444444444444444,
              "#bd3786"
             ],
             [
              0.5555555555555556,
              "#d8576b"
             ],
             [
              0.6666666666666666,
              "#ed7953"
             ],
             [
              0.7777777777777778,
              "#fb9f3a"
             ],
             [
              0.8888888888888888,
              "#fdca26"
             ],
             [
              1,
              "#f0f921"
             ]
            ],
            "type": "histogram2dcontour"
           }
          ],
          "mesh3d": [
           {
            "colorbar": {
             "outlinewidth": 0,
             "ticks": ""
            },
            "type": "mesh3d"
           }
          ],
          "parcoords": [
           {
            "line": {
             "colorbar": {
              "outlinewidth": 0,
              "ticks": ""
             }
            },
            "type": "parcoords"
           }
          ],
          "pie": [
           {
            "automargin": true,
            "type": "pie"
           }
          ],
          "scatter": [
           {
            "marker": {
             "colorbar": {
              "outlinewidth": 0,
              "ticks": ""
             }
            },
            "type": "scatter"
           }
          ],
          "scatter3d": [
           {
            "line": {
             "colorbar": {
              "outlinewidth": 0,
              "ticks": ""
             }
            },
            "marker": {
             "colorbar": {
              "outlinewidth": 0,
              "ticks": ""
             }
            },
            "type": "scatter3d"
           }
          ],
          "scattercarpet": [
           {
            "marker": {
             "colorbar": {
              "outlinewidth": 0,
              "ticks": ""
             }
            },
            "type": "scattercarpet"
           }
          ],
          "scattergeo": [
           {
            "marker": {
             "colorbar": {
              "outlinewidth": 0,
              "ticks": ""
             }
            },
            "type": "scattergeo"
           }
          ],
          "scattergl": [
           {
            "marker": {
             "colorbar": {
              "outlinewidth": 0,
              "ticks": ""
             }
            },
            "type": "scattergl"
           }
          ],
          "scattermapbox": [
           {
            "marker": {
             "colorbar": {
              "outlinewidth": 0,
              "ticks": ""
             }
            },
            "type": "scattermapbox"
           }
          ],
          "scatterpolar": [
           {
            "marker": {
             "colorbar": {
              "outlinewidth": 0,
              "ticks": ""
             }
            },
            "type": "scatterpolar"
           }
          ],
          "scatterpolargl": [
           {
            "marker": {
             "colorbar": {
              "outlinewidth": 0,
              "ticks": ""
             }
            },
            "type": "scatterpolargl"
           }
          ],
          "scatterternary": [
           {
            "marker": {
             "colorbar": {
              "outlinewidth": 0,
              "ticks": ""
             }
            },
            "type": "scatterternary"
           }
          ],
          "surface": [
           {
            "colorbar": {
             "outlinewidth": 0,
             "ticks": ""
            },
            "colorscale": [
             [
              0,
              "#0d0887"
             ],
             [
              0.1111111111111111,
              "#46039f"
             ],
             [
              0.2222222222222222,
              "#7201a8"
             ],
             [
              0.3333333333333333,
              "#9c179e"
             ],
             [
              0.4444444444444444,
              "#bd3786"
             ],
             [
              0.5555555555555556,
              "#d8576b"
             ],
             [
              0.6666666666666666,
              "#ed7953"
             ],
             [
              0.7777777777777778,
              "#fb9f3a"
             ],
             [
              0.8888888888888888,
              "#fdca26"
             ],
             [
              1,
              "#f0f921"
             ]
            ],
            "type": "surface"
           }
          ],
          "table": [
           {
            "cells": {
             "fill": {
              "color": "#EBF0F8"
             },
             "line": {
              "color": "white"
             }
            },
            "header": {
             "fill": {
              "color": "#C8D4E3"
             },
             "line": {
              "color": "white"
             }
            },
            "type": "table"
           }
          ]
         },
         "layout": {
          "annotationdefaults": {
           "arrowcolor": "#2a3f5f",
           "arrowhead": 0,
           "arrowwidth": 1
          },
          "autotypenumbers": "strict",
          "coloraxis": {
           "colorbar": {
            "outlinewidth": 0,
            "ticks": ""
           }
          },
          "colorscale": {
           "diverging": [
            [
             0,
             "#8e0152"
            ],
            [
             0.1,
             "#c51b7d"
            ],
            [
             0.2,
             "#de77ae"
            ],
            [
             0.3,
             "#f1b6da"
            ],
            [
             0.4,
             "#fde0ef"
            ],
            [
             0.5,
             "#f7f7f7"
            ],
            [
             0.6,
             "#e6f5d0"
            ],
            [
             0.7,
             "#b8e186"
            ],
            [
             0.8,
             "#7fbc41"
            ],
            [
             0.9,
             "#4d9221"
            ],
            [
             1,
             "#276419"
            ]
           ],
           "sequential": [
            [
             0,
             "#0d0887"
            ],
            [
             0.1111111111111111,
             "#46039f"
            ],
            [
             0.2222222222222222,
             "#7201a8"
            ],
            [
             0.3333333333333333,
             "#9c179e"
            ],
            [
             0.4444444444444444,
             "#bd3786"
            ],
            [
             0.5555555555555556,
             "#d8576b"
            ],
            [
             0.6666666666666666,
             "#ed7953"
            ],
            [
             0.7777777777777778,
             "#fb9f3a"
            ],
            [
             0.8888888888888888,
             "#fdca26"
            ],
            [
             1,
             "#f0f921"
            ]
           ],
           "sequentialminus": [
            [
             0,
             "#0d0887"
            ],
            [
             0.1111111111111111,
             "#46039f"
            ],
            [
             0.2222222222222222,
             "#7201a8"
            ],
            [
             0.3333333333333333,
             "#9c179e"
            ],
            [
             0.4444444444444444,
             "#bd3786"
            ],
            [
             0.5555555555555556,
             "#d8576b"
            ],
            [
             0.6666666666666666,
             "#ed7953"
            ],
            [
             0.7777777777777778,
             "#fb9f3a"
            ],
            [
             0.8888888888888888,
             "#fdca26"
            ],
            [
             1,
             "#f0f921"
            ]
           ]
          },
          "colorway": [
           "#636efa",
           "#EF553B",
           "#00cc96",
           "#ab63fa",
           "#FFA15A",
           "#19d3f3",
           "#FF6692",
           "#B6E880",
           "#FF97FF",
           "#FECB52"
          ],
          "font": {
           "color": "#2a3f5f"
          },
          "geo": {
           "bgcolor": "white",
           "lakecolor": "white",
           "landcolor": "#E5ECF6",
           "showlakes": true,
           "showland": true,
           "subunitcolor": "white"
          },
          "hoverlabel": {
           "align": "left"
          },
          "hovermode": "closest",
          "mapbox": {
           "style": "light"
          },
          "paper_bgcolor": "white",
          "plot_bgcolor": "#E5ECF6",
          "polar": {
           "angularaxis": {
            "gridcolor": "white",
            "linecolor": "white",
            "ticks": ""
           },
           "bgcolor": "#E5ECF6",
           "radialaxis": {
            "gridcolor": "white",
            "linecolor": "white",
            "ticks": ""
           }
          },
          "scene": {
           "xaxis": {
            "backgroundcolor": "#E5ECF6",
            "gridcolor": "white",
            "gridwidth": 2,
            "linecolor": "white",
            "showbackground": true,
            "ticks": "",
            "zerolinecolor": "white"
           },
           "yaxis": {
            "backgroundcolor": "#E5ECF6",
            "gridcolor": "white",
            "gridwidth": 2,
            "linecolor": "white",
            "showbackground": true,
            "ticks": "",
            "zerolinecolor": "white"
           },
           "zaxis": {
            "backgroundcolor": "#E5ECF6",
            "gridcolor": "white",
            "gridwidth": 2,
            "linecolor": "white",
            "showbackground": true,
            "ticks": "",
            "zerolinecolor": "white"
           }
          },
          "shapedefaults": {
           "line": {
            "color": "#2a3f5f"
           }
          },
          "ternary": {
           "aaxis": {
            "gridcolor": "white",
            "linecolor": "white",
            "ticks": ""
           },
           "baxis": {
            "gridcolor": "white",
            "linecolor": "white",
            "ticks": ""
           },
           "bgcolor": "#E5ECF6",
           "caxis": {
            "gridcolor": "white",
            "linecolor": "white",
            "ticks": ""
           }
          },
          "title": {
           "x": 0.05
          },
          "xaxis": {
           "automargin": true,
           "gridcolor": "white",
           "linecolor": "white",
           "ticks": "",
           "title": {
            "standoff": 15
           },
           "zerolinecolor": "white",
           "zerolinewidth": 2
          },
          "yaxis": {
           "automargin": true,
           "gridcolor": "white",
           "linecolor": "white",
           "ticks": "",
           "title": {
            "standoff": 15
           },
           "zerolinecolor": "white",
           "zerolinewidth": 2
          }
         }
        },
        "title": {
         "text": "QAOA without Error Mitigation - MaxCut-Landscape"
        }
       }
      },
      "text/html": [
       "<div>                            <div id=\"7be7817d-b9b0-4b9c-9dca-5fc7cac12778\" class=\"plotly-graph-div\" style=\"height:525px; width:100%;\"></div>            <script type=\"text/javascript\">                require([\"plotly\"], function(Plotly) {                    window.PLOTLYENV=window.PLOTLYENV || {};                                    if (document.getElementById(\"7be7817d-b9b0-4b9c-9dca-5fc7cac12778\")) {                    Plotly.newPlot(                        \"7be7817d-b9b0-4b9c-9dca-5fc7cac12778\",                        [{\"contours\":{\"z\":{\"highlightcolor\":\"limegreen\",\"project\":{\"z\":true},\"show\":true,\"usecolormap\":true}},\"type\":\"surface\",\"x\":[0.0,0.1,0.2,0.30000000000000004,0.4,0.5,0.6000000000000001,0.7000000000000001,0.8,0.9,1.0,1.1,1.2000000000000002,1.3,1.4000000000000001,1.5,1.6,1.7000000000000002,1.8,1.9000000000000001,2.0,2.1,2.2,2.3000000000000003,2.4000000000000004,2.5,2.6,2.7,2.8000000000000003,2.9000000000000004,3.0,3.1],\"y\":[0.0,0.1,0.2,0.30000000000000004,0.4,0.5,0.6000000000000001,0.7000000000000001,0.8,0.9,1.0,1.1,1.2000000000000002,1.3,1.4000000000000001,1.5,1.6,1.7000000000000002,1.8,1.9000000000000001,2.0,2.1,2.2,2.3000000000000003,2.4000000000000004,2.5,2.6,2.7,2.8000000000000003,2.9000000000000004,3.0,3.1],\"z\":[[-2.963,-3.01175,-2.97425,-2.96175,-2.9415,-2.91825,-2.89725,-2.895,-2.95025,-2.93075,-2.98175,-2.99325,-2.9695,-2.99225,-3.01875,-3.026,-3.053,-2.98125,-2.98975,-2.97725,-2.979,-2.986,-2.95925,-2.96975,-2.99875,-3.01425,-3.051,-3.01975,-3.05525,-3.03525,-3.05625,-3.0275],[-3.0295,-3.00775,-2.92375,-2.90225,-2.81475,-2.78875,-2.73,-2.71825,-2.73825,-2.7895,-2.81,-2.89075,-2.94875,-2.97175,-3.03225,-3.0215,-2.97875,-2.98875,-2.963,-2.8805,-2.82525,-2.83875,-2.80625,-2.77475,-2.8295,-2.8855,-2.914,-2.9935,-2.9805,-3.046,-3.04225,-3.043],[-3.01425,-2.92275,-2.82625,-2.76925,-2.69025,-2.6745,-2.615,-2.67425,-2.717,-2.77825,-2.874,-2.94725,-3.01525,-3.06175,-3.0875,-3.0455,-3.006,-2.931,-2.8635,-2.8065,-2.70875,-2.7045,-2.72275,-2.7895,-2.814,-2.886,-2.9815,-3.083,-3.0895,-3.1315,-3.106,-3.05525],[-3.063,-2.93325,-2.81775,-2.6415,-2.582,-2.5345,-2.54125,-2.56775,-2.62525,-2.75825,-2.858,-3.00375,-3.064,-3.12825,-3.12625,-3.0815,-3.0205,-2.88075,-2.769,-2.679,-2.63025,-2.59675,-2.63425,-2.6825,-2.745,-2.8555,-2.9935,-3.08,-3.13975,-3.1875,-3.139,-3.086],[-3.02,-2.86875,-2.6865,-2.51225,-2.427,-2.40175,-2.3675,-2.40825,-2.549,-2.68825,-2.8505,-2.98825,-3.0805,-3.15225,-3.154,-3.0995,-2.9625,-2.827,-2.6615,-2.53925,-2.47975,-2.4725,-2.4655,-2.58025,-2.694,-2.876,-2.9965,-3.10175,-3.20475,-3.19175,-3.17025,-3.062],[-3.0495,-2.87775,-2.68175,-2.50375,-2.36975,-2.3055,-2.304,-2.34375,-2.485,-2.65475,-2.816,-2.985,-3.0935,-3.1855,-3.18525,-3.071,-2.9565,-2.8385,-2.65675,-2.53775,-2.40175,-2.4195,-2.385,-2.48675,-2.60175,-2.796,-2.955,-3.08975,-3.19075,-3.22525,-3.169,-3.103],[-3.02025,-2.79225,-2.5965,-2.40825,-2.2705,-2.1835,-2.22375,-2.2985,-2.44425,-2.65425,-2.83775,-3.00675,-3.13375,-3.212,-3.189,-3.0965,-2.964,-2.73025,-2.583,-2.43025,-2.304,-2.27375,-2.31275,-2.41325,-2.57925,-2.7685,-2.95475,-3.1115,-3.20675,-3.2505,-3.171,-3.0415],[-3.04725,-2.80575,-2.56275,-2.41425,-2.23925,-2.1855,-2.162,-2.25475,-2.406,-2.5525,-2.80475,-2.964,-3.12575,-3.1805,-3.18275,-3.0895,-2.9375,-2.7715,-2.556,-2.37975,-2.30025,-2.252,-2.371,-2.34175,-2.5175,-2.71475,-2.92175,-3.0955,-3.20475,-3.241,-3.19775,-3.093],[-3.00425,-2.783,-2.6085,-2.41,-2.23975,-2.1755,-2.17575,-2.21025,-2.39975,-2.592,-2.80925,-2.99375,-3.15,-3.19575,-3.21225,-3.088,-2.9295,-2.73,-2.55025,-2.406,-2.2595,-2.2415,-2.24775,-2.374,-2.58375,-2.7325,-2.93725,-3.084,-3.18475,-3.2505,-3.18975,-3.072],[-3.016,-2.79725,-2.60575,-2.4475,-2.2605,-2.2325,-2.24225,-2.26925,-2.436,-2.633,-2.8265,-2.99825,-3.11275,-3.17675,-3.1505,-3.07625,-2.92475,-2.77075,-2.59275,-2.42875,-2.28025,-2.2775,-2.287,-2.4195,-2.55475,-2.725,-2.92625,-3.0885,-3.1835,-3.20825,-3.15325,-3.02525],[-2.97925,-2.784,-2.592,-2.434,-2.309,-2.243,-2.25225,-2.30325,-2.44825,-2.6345,-2.837,-2.97,-3.12275,-3.1805,-3.14625,-3.0725,-2.91875,-2.76975,-2.606,-2.42775,-2.2815,-2.275,-2.3215,-2.389,-2.5505,-2.75,-2.90025,-3.069,-3.1345,-3.17875,-3.13275,-3.013],[-2.99825,-2.8025,-2.61,-2.499,-2.40675,-2.39625,-2.3425,-2.408,-2.5165,-2.66575,-2.8185,-2.976,-3.08825,-3.161,-3.122,-3.03575,-2.95175,-2.823,-2.637,-2.5005,-2.4195,-2.39375,-2.386,-2.472,-2.5995,-2.72075,-2.89825,-3.03825,-3.132,-3.15375,-3.10775,-3.03525],[-3.0065,-2.82325,-2.71975,-2.574,-2.46975,-2.39575,-2.43625,-2.488,-2.59725,-2.7355,-2.86025,-2.9655,-3.08075,-3.122,-3.12625,-3.06775,-2.9315,-2.84175,-2.67975,-2.572,-2.464,-2.4535,-2.44225,-2.5555,-2.65225,-2.76925,-2.9205,-3.02075,-3.11,-3.1345,-3.07525,-3.03125],[-2.97175,-2.854,-2.71525,-2.66525,-2.5855,-2.52875,-2.55675,-2.581,-2.66425,-2.72425,-2.87325,-2.965,-3.03525,-3.06625,-3.057,-3.02975,-2.9755,-2.8705,-2.73575,-2.6655,-2.57625,-2.545,-2.56875,-2.5855,-2.6825,-2.8005,-2.91775,-2.96275,-3.042,-3.081,-3.02125,-2.991],[-3.00775,-2.93,-2.832,-2.71525,-2.6325,-2.5915,-2.572,-2.61675,-2.6535,-2.7585,-2.835,-2.9295,-3.0325,-3.04825,-3.0825,-3.05925,-3.023,-2.935,-2.82975,-2.748,-2.6485,-2.656,-2.624,-2.64,-2.6875,-2.798,-2.85575,-2.9675,-3.0025,-3.04325,-3.07025,-3.01625],[-2.956,-2.9045,-2.86375,-2.82125,-2.7455,-2.73475,-2.68725,-2.6975,-2.715,-2.76075,-2.83425,-2.927,-2.9595,-3.025,-3.0495,-3.02075,-3.01525,-2.98175,-2.90775,-2.848,-2.7255,-2.7325,-2.70525,-2.6765,-2.71225,-2.768,-2.79125,-2.9115,-2.93325,-2.97125,-3.01575,-3.0005],[-3.0225,-2.9985,-2.95625,-2.915,-2.8535,-2.754,-2.7315,-2.6765,-2.65875,-2.6875,-2.7745,-2.80025,-2.9265,-2.9935,-3.021,-3.06225,-3.06925,-3.03925,-2.9885,-2.919,-2.86175,-2.775,-2.70625,-2.674,-2.66975,-2.66475,-2.753,-2.82425,-2.87775,-2.9695,-2.992,-3.0405],[-3.037,-3.024,-3.01775,-2.9545,-2.9115,-2.8165,-2.73975,-2.67825,-2.665,-2.66175,-2.707,-2.7555,-2.86075,-2.93725,-2.98025,-3.05825,-3.0625,-3.0765,-3.07575,-2.9615,-2.8885,-2.7945,-2.7275,-2.66,-2.6285,-2.6365,-2.67125,-2.7505,-2.79975,-2.8855,-2.94275,-3.00475],[-3.044,-3.08125,-3.08275,-3.05425,-2.956,-2.85725,-2.76475,-2.68575,-2.63375,-2.56275,-2.583,-2.6525,-2.722,-2.84275,-2.92525,-3.05075,-3.084,-3.134,-3.11025,-3.049,-2.97,-2.823,-2.745,-2.68325,-2.617,-2.56025,-2.58425,-2.6305,-2.7555,-2.81775,-2.93975,-3.00525],[-3.03275,-3.11975,-3.1075,-3.08175,-3.0055,-2.8735,-2.7505,-2.655,-2.51575,-2.46625,-2.51125,-2.527,-2.64525,-2.7595,-2.93575,-3.0385,-3.13875,-3.16225,-3.13425,-3.08975,-2.97225,-2.852,-2.72475,-2.59575,-2.509,-2.48025,-2.496,-2.554,-2.605,-2.74275,-2.892,-3.01825],[-3.045,-3.161,-3.16725,-3.14025,-3.0205,-2.90825,-2.7485,-2.597,-2.47375,-2.416,-2.397,-2.43825,-2.54225,-2.70225,-2.88025,-3.0275,-3.14225,-3.20725,-3.215,-3.15775,-3.03675,-2.87225,-2.6865,-2.53825,-2.426,-2.4075,-2.4445,-2.48475,-2.5935,-2.77025,-2.8895,-3.05025],[-3.052,-3.15275,-3.19125,-3.182,-3.051,-2.912,-2.7275,-2.56075,-2.40925,-2.33075,-2.26775,-2.38,-2.50225,-2.58675,-2.811,-3.00525,-3.14,-3.2135,-3.24125,-3.17825,-3.0485,-2.93325,-2.7355,-2.52225,-2.40225,-2.3305,-2.3115,-2.374,-2.48775,-2.65125,-2.84225,-3.00025],[-3.0595,-3.1715,-3.23225,-3.1925,-3.08825,-2.93475,-2.74525,-2.521,-2.34275,-2.23225,-2.20725,-2.58425,-2.40875,-2.566,-2.75425,-2.9775,-3.1325,-3.23825,-3.27925,-3.13375,-3.09,-2.884,-2.66175,-2.487,-2.362,-2.26375,-2.22025,-2.29275,-2.44375,-2.6315,-2.81225,-2.9835],[-3.07325,-3.20075,-3.26575,-3.21,-3.10025,-2.9115,-2.682,-2.50075,-2.275,-2.1635,-2.15825,-2.187,-2.3625,-2.55475,-2.7395,-2.966,-3.15525,-3.269,-3.3245,-3.23425,-3.1395,-2.92775,-2.6785,-2.47725,-2.2985,-2.205,-2.202,-2.23225,-2.38225,-2.58425,-2.77625,-3.00075],[-3.06325,-3.202,-3.25375,-3.239,-3.143,-2.967,-2.75625,-2.5235,-2.36375,-2.20625,-2.1465,-2.19325,-2.337,-2.5185,-2.7195,-2.96075,-3.143,-3.26125,-3.28975,-3.2555,-3.135,-2.95875,-2.727,-2.4875,-2.35025,-2.21325,-2.2055,-2.27425,-2.37475,-2.60525,-2.7935,-3.001],[-3.044,-3.20325,-3.25625,-3.23025,-3.14225,-2.9465,-2.72825,-2.5205,-2.357,-2.2115,-2.16975,-2.21775,-2.31825,-2.52725,-2.7395,-2.958,-3.154,-3.28025,-3.2935,-3.269,-3.15425,-2.96575,-2.7505,-2.53875,-2.3475,-2.27625,-2.1925,-2.3155,-2.37475,-2.59675,-2.82425,-2.99225],[-3.01275,-3.17425,-3.22525,-3.23175,-3.14725,-2.996,-2.791,-2.60225,-2.43275,-2.325,-2.2045,-2.26925,-2.366,-2.51275,-2.69675,-2.943,-3.0905,-3.2445,-3.28875,-3.26275,-3.16175,-3.027,-2.83675,-2.62975,-2.4525,-2.335,-2.28325,-2.365,-2.41575,-2.6415,-2.7905,-2.95125],[-3.057,-3.171,-3.21375,-3.2015,-3.092,-2.96525,-2.78525,-2.62375,-2.459,-2.3465,-2.3,-2.342,-2.4335,-2.579,-2.77825,-2.9545,-3.12225,-3.23425,-3.28175,-3.2515,-3.16875,-3.01,-2.828,-2.6605,-2.51725,-2.37875,-2.41225,-2.4155,-2.51875,-2.673,-2.8375,-2.986],[-3.015,-3.10625,-3.18325,-3.13475,-3.07625,-2.959,-2.81275,-2.6995,-2.57075,-2.4695,-2.42275,-2.45275,-2.52275,-2.60725,-2.799,-2.925,-3.05925,-3.20325,-3.229,-3.212,-3.156,-3.05175,-2.93325,-2.7795,-2.6355,-2.54875,-2.49475,-2.5065,-2.60925,-2.72,-2.86625,-2.972],[-3.03025,-3.075,-3.1215,-3.06125,-3.0325,-2.96325,-2.8135,-2.72425,-2.6185,-2.54325,-2.569,-2.554,-2.636,-2.7405,-2.80675,-2.95025,-3.06675,-3.16225,-3.18575,-3.175,-3.113,-3.01025,-2.8965,-2.81625,-2.7025,-2.67025,-2.638,-2.6385,-2.71,-2.778,-2.883,-2.989],[-2.96025,-2.99425,-3.01025,-3.00625,-2.94725,-2.8615,-2.8005,-2.75275,-2.66175,-2.635,-2.673,-2.66525,-2.71675,-2.786,-2.835,-2.9375,-3.022,-3.0655,-3.051,-3.0655,-3.04175,-2.9965,-2.90925,-2.8665,-2.807,-2.74825,-2.743,-2.77875,-2.798,-2.81975,-2.90275,-2.94225],[-2.967,-2.969,-2.9255,-2.90725,-2.855,-2.831,-2.764,-2.73725,-2.69625,-2.7,-2.7385,-2.7815,-2.8495,-2.86025,-2.93525,-2.9775,-2.99575,-3.00475,-3.0025,-2.97,-2.96075,-2.92025,-2.87825,-2.8375,-2.86275,-2.836,-2.84175,-2.859,-2.9335,-2.935,-2.94875,-2.97275]]}],                        {\"scene\":{\"xaxis\":{\"title\":{\"text\":\"\\u03b3\"}},\"yaxis\":{\"title\":{\"text\":\"\\u03b2\"}},\"zaxis\":{\"title\":{\"text\":\"F(\\u03b3,\\u03b2)\"}}},\"template\":{\"data\":{\"bar\":[{\"error_x\":{\"color\":\"#2a3f5f\"},\"error_y\":{\"color\":\"#2a3f5f\"},\"marker\":{\"line\":{\"color\":\"#E5ECF6\",\"width\":0.5},\"pattern\":{\"fillmode\":\"overlay\",\"size\":10,\"solidity\":0.2}},\"type\":\"bar\"}],\"barpolar\":[{\"marker\":{\"line\":{\"color\":\"#E5ECF6\",\"width\":0.5},\"pattern\":{\"fillmode\":\"overlay\",\"size\":10,\"solidity\":0.2}},\"type\":\"barpolar\"}],\"carpet\":[{\"aaxis\":{\"endlinecolor\":\"#2a3f5f\",\"gridcolor\":\"white\",\"linecolor\":\"white\",\"minorgridcolor\":\"white\",\"startlinecolor\":\"#2a3f5f\"},\"baxis\":{\"endlinecolor\":\"#2a3f5f\",\"gridcolor\":\"white\",\"linecolor\":\"white\",\"minorgridcolor\":\"white\",\"startlinecolor\":\"#2a3f5f\"},\"type\":\"carpet\"}],\"choropleth\":[{\"colorbar\":{\"outlinewidth\":0,\"ticks\":\"\"},\"type\":\"choropleth\"}],\"contour\":[{\"colorbar\":{\"outlinewidth\":0,\"ticks\":\"\"},\"colorscale\":[[0.0,\"#0d0887\"],[0.1111111111111111,\"#46039f\"],[0.2222222222222222,\"#7201a8\"],[0.3333333333333333,\"#9c179e\"],[0.4444444444444444,\"#bd3786\"],[0.5555555555555556,\"#d8576b\"],[0.6666666666666666,\"#ed7953\"],[0.7777777777777778,\"#fb9f3a\"],[0.8888888888888888,\"#fdca26\"],[1.0,\"#f0f921\"]],\"type\":\"contour\"}],\"contourcarpet\":[{\"colorbar\":{\"outlinewidth\":0,\"ticks\":\"\"},\"type\":\"contourcarpet\"}],\"heatmap\":[{\"colorbar\":{\"outlinewidth\":0,\"ticks\":\"\"},\"colorscale\":[[0.0,\"#0d0887\"],[0.1111111111111111,\"#46039f\"],[0.2222222222222222,\"#7201a8\"],[0.3333333333333333,\"#9c179e\"],[0.4444444444444444,\"#bd3786\"],[0.5555555555555556,\"#d8576b\"],[0.6666666666666666,\"#ed7953\"],[0.7777777777777778,\"#fb9f3a\"],[0.8888888888888888,\"#fdca26\"],[1.0,\"#f0f921\"]],\"type\":\"heatmap\"}],\"heatmapgl\":[{\"colorbar\":{\"outlinewidth\":0,\"ticks\":\"\"},\"colorscale\":[[0.0,\"#0d0887\"],[0.1111111111111111,\"#46039f\"],[0.2222222222222222,\"#7201a8\"],[0.3333333333333333,\"#9c179e\"],[0.4444444444444444,\"#bd3786\"],[0.5555555555555556,\"#d8576b\"],[0.6666666666666666,\"#ed7953\"],[0.7777777777777778,\"#fb9f3a\"],[0.8888888888888888,\"#fdca26\"],[1.0,\"#f0f921\"]],\"type\":\"heatmapgl\"}],\"histogram\":[{\"marker\":{\"pattern\":{\"fillmode\":\"overlay\",\"size\":10,\"solidity\":0.2}},\"type\":\"histogram\"}],\"histogram2d\":[{\"colorbar\":{\"outlinewidth\":0,\"ticks\":\"\"},\"colorscale\":[[0.0,\"#0d0887\"],[0.1111111111111111,\"#46039f\"],[0.2222222222222222,\"#7201a8\"],[0.3333333333333333,\"#9c179e\"],[0.4444444444444444,\"#bd3786\"],[0.5555555555555556,\"#d8576b\"],[0.6666666666666666,\"#ed7953\"],[0.7777777777777778,\"#fb9f3a\"],[0.8888888888888888,\"#fdca26\"],[1.0,\"#f0f921\"]],\"type\":\"histogram2d\"}],\"histogram2dcontour\":[{\"colorbar\":{\"outlinewidth\":0,\"ticks\":\"\"},\"colorscale\":[[0.0,\"#0d0887\"],[0.1111111111111111,\"#46039f\"],[0.2222222222222222,\"#7201a8\"],[0.3333333333333333,\"#9c179e\"],[0.4444444444444444,\"#bd3786\"],[0.5555555555555556,\"#d8576b\"],[0.6666666666666666,\"#ed7953\"],[0.7777777777777778,\"#fb9f3a\"],[0.8888888888888888,\"#fdca26\"],[1.0,\"#f0f921\"]],\"type\":\"histogram2dcontour\"}],\"mesh3d\":[{\"colorbar\":{\"outlinewidth\":0,\"ticks\":\"\"},\"type\":\"mesh3d\"}],\"parcoords\":[{\"line\":{\"colorbar\":{\"outlinewidth\":0,\"ticks\":\"\"}},\"type\":\"parcoords\"}],\"pie\":[{\"automargin\":true,\"type\":\"pie\"}],\"scatter\":[{\"marker\":{\"colorbar\":{\"outlinewidth\":0,\"ticks\":\"\"}},\"type\":\"scatter\"}],\"scatter3d\":[{\"line\":{\"colorbar\":{\"outlinewidth\":0,\"ticks\":\"\"}},\"marker\":{\"colorbar\":{\"outlinewidth\":0,\"ticks\":\"\"}},\"type\":\"scatter3d\"}],\"scattercarpet\":[{\"marker\":{\"colorbar\":{\"outlinewidth\":0,\"ticks\":\"\"}},\"type\":\"scattercarpet\"}],\"scattergeo\":[{\"marker\":{\"colorbar\":{\"outlinewidth\":0,\"ticks\":\"\"}},\"type\":\"scattergeo\"}],\"scattergl\":[{\"marker\":{\"colorbar\":{\"outlinewidth\":0,\"ticks\":\"\"}},\"type\":\"scattergl\"}],\"scattermapbox\":[{\"marker\":{\"colorbar\":{\"outlinewidth\":0,\"ticks\":\"\"}},\"type\":\"scattermapbox\"}],\"scatterpolar\":[{\"marker\":{\"colorbar\":{\"outlinewidth\":0,\"ticks\":\"\"}},\"type\":\"scatterpolar\"}],\"scatterpolargl\":[{\"marker\":{\"colorbar\":{\"outlinewidth\":0,\"ticks\":\"\"}},\"type\":\"scatterpolargl\"}],\"scatterternary\":[{\"marker\":{\"colorbar\":{\"outlinewidth\":0,\"ticks\":\"\"}},\"type\":\"scatterternary\"}],\"surface\":[{\"colorbar\":{\"outlinewidth\":0,\"ticks\":\"\"},\"colorscale\":[[0.0,\"#0d0887\"],[0.1111111111111111,\"#46039f\"],[0.2222222222222222,\"#7201a8\"],[0.3333333333333333,\"#9c179e\"],[0.4444444444444444,\"#bd3786\"],[0.5555555555555556,\"#d8576b\"],[0.6666666666666666,\"#ed7953\"],[0.7777777777777778,\"#fb9f3a\"],[0.8888888888888888,\"#fdca26\"],[1.0,\"#f0f921\"]],\"type\":\"surface\"}],\"table\":[{\"cells\":{\"fill\":{\"color\":\"#EBF0F8\"},\"line\":{\"color\":\"white\"}},\"header\":{\"fill\":{\"color\":\"#C8D4E3\"},\"line\":{\"color\":\"white\"}},\"type\":\"table\"}]},\"layout\":{\"annotationdefaults\":{\"arrowcolor\":\"#2a3f5f\",\"arrowhead\":0,\"arrowwidth\":1},\"autotypenumbers\":\"strict\",\"coloraxis\":{\"colorbar\":{\"outlinewidth\":0,\"ticks\":\"\"}},\"colorscale\":{\"diverging\":[[0,\"#8e0152\"],[0.1,\"#c51b7d\"],[0.2,\"#de77ae\"],[0.3,\"#f1b6da\"],[0.4,\"#fde0ef\"],[0.5,\"#f7f7f7\"],[0.6,\"#e6f5d0\"],[0.7,\"#b8e186\"],[0.8,\"#7fbc41\"],[0.9,\"#4d9221\"],[1,\"#276419\"]],\"sequential\":[[0.0,\"#0d0887\"],[0.1111111111111111,\"#46039f\"],[0.2222222222222222,\"#7201a8\"],[0.3333333333333333,\"#9c179e\"],[0.4444444444444444,\"#bd3786\"],[0.5555555555555556,\"#d8576b\"],[0.6666666666666666,\"#ed7953\"],[0.7777777777777778,\"#fb9f3a\"],[0.8888888888888888,\"#fdca26\"],[1.0,\"#f0f921\"]],\"sequentialminus\":[[0.0,\"#0d0887\"],[0.1111111111111111,\"#46039f\"],[0.2222222222222222,\"#7201a8\"],[0.3333333333333333,\"#9c179e\"],[0.4444444444444444,\"#bd3786\"],[0.5555555555555556,\"#d8576b\"],[0.6666666666666666,\"#ed7953\"],[0.7777777777777778,\"#fb9f3a\"],[0.8888888888888888,\"#fdca26\"],[1.0,\"#f0f921\"]]},\"colorway\":[\"#636efa\",\"#EF553B\",\"#00cc96\",\"#ab63fa\",\"#FFA15A\",\"#19d3f3\",\"#FF6692\",\"#B6E880\",\"#FF97FF\",\"#FECB52\"],\"font\":{\"color\":\"#2a3f5f\"},\"geo\":{\"bgcolor\":\"white\",\"lakecolor\":\"white\",\"landcolor\":\"#E5ECF6\",\"showlakes\":true,\"showland\":true,\"subunitcolor\":\"white\"},\"hoverlabel\":{\"align\":\"left\"},\"hovermode\":\"closest\",\"mapbox\":{\"style\":\"light\"},\"paper_bgcolor\":\"white\",\"plot_bgcolor\":\"#E5ECF6\",\"polar\":{\"angularaxis\":{\"gridcolor\":\"white\",\"linecolor\":\"white\",\"ticks\":\"\"},\"bgcolor\":\"#E5ECF6\",\"radialaxis\":{\"gridcolor\":\"white\",\"linecolor\":\"white\",\"ticks\":\"\"}},\"scene\":{\"xaxis\":{\"backgroundcolor\":\"#E5ECF6\",\"gridcolor\":\"white\",\"gridwidth\":2,\"linecolor\":\"white\",\"showbackground\":true,\"ticks\":\"\",\"zerolinecolor\":\"white\"},\"yaxis\":{\"backgroundcolor\":\"#E5ECF6\",\"gridcolor\":\"white\",\"gridwidth\":2,\"linecolor\":\"white\",\"showbackground\":true,\"ticks\":\"\",\"zerolinecolor\":\"white\"},\"zaxis\":{\"backgroundcolor\":\"#E5ECF6\",\"gridcolor\":\"white\",\"gridwidth\":2,\"linecolor\":\"white\",\"showbackground\":true,\"ticks\":\"\",\"zerolinecolor\":\"white\"}},\"shapedefaults\":{\"line\":{\"color\":\"#2a3f5f\"}},\"ternary\":{\"aaxis\":{\"gridcolor\":\"white\",\"linecolor\":\"white\",\"ticks\":\"\"},\"baxis\":{\"gridcolor\":\"white\",\"linecolor\":\"white\",\"ticks\":\"\"},\"bgcolor\":\"#E5ECF6\",\"caxis\":{\"gridcolor\":\"white\",\"linecolor\":\"white\",\"ticks\":\"\"}},\"title\":{\"x\":0.05},\"xaxis\":{\"automargin\":true,\"gridcolor\":\"white\",\"linecolor\":\"white\",\"ticks\":\"\",\"title\":{\"standoff\":15},\"zerolinecolor\":\"white\",\"zerolinewidth\":2},\"yaxis\":{\"automargin\":true,\"gridcolor\":\"white\",\"linecolor\":\"white\",\"ticks\":\"\",\"title\":{\"standoff\":15},\"zerolinecolor\":\"white\",\"zerolinewidth\":2}}},\"title\":{\"text\":\"QAOA without Error Mitigation - MaxCut-Landscape\"}},                        {\"responsive\": true}                    ).then(function(){\n",
       "                            \n",
       "var gd = document.getElementById('7be7817d-b9b0-4b9c-9dca-5fc7cac12778');\n",
       "var x = new MutationObserver(function (mutations, observer) {{\n",
       "        var display = window.getComputedStyle(gd).display;\n",
       "        if (!display || display === 'none') {{\n",
       "            console.log([gd, 'removed!']);\n",
       "            Plotly.purge(gd);\n",
       "            observer.disconnect();\n",
       "        }}\n",
       "}});\n",
       "\n",
       "// Listen for the removal of the full notebook cells\n",
       "var notebookContainer = gd.closest('#notebook-container');\n",
       "if (notebookContainer) {{\n",
       "    x.observe(notebookContainer, {childList: true});\n",
       "}}\n",
       "\n",
       "// Listen for the clearing of the current output cell\n",
       "var outputEl = gd.closest('.output');\n",
       "if (outputEl) {{\n",
       "    x.observe(outputEl, {childList: true});\n",
       "}}\n",
       "\n",
       "                        })                };                });            </script>        </div>"
      ]
     },
     "metadata": {},
     "output_type": "display_data"
    }
   ],
   "source": [
    "# Plot landscape in 3D \n",
    "a_gamma = np.arange(0, np.pi, step_size)\n",
    "b_beta = np.arange(0, np.pi, step_size)\n",
    "fig = go.Figure(data=go.Surface(z=landscape, x=a_gamma, y=b_beta))\n",
    "\n",
    "fig.update_traces(contours_z=dict(show=True, usecolormap=True, highlightcolor='limegreen', project_z=True))\n",
    "\n",
    "\n",
    "fig.update_layout(title=\"QAOA without Error Mitigation - MaxCut-Landscape\", scene=dict(\n",
    "    xaxis_title=\"γ\",\n",
    "    yaxis_title=\"β\",\n",
    "    zaxis_title=\"F(γ,β)\"\n",
    "))"
   ]
  },
  {
   "cell_type": "code",
   "execution_count": 24,
   "id": "7a8d8f7a",
   "metadata": {},
   "outputs": [
    {
     "data": {
      "application/vnd.plotly.v1+json": {
       "config": {
        "plotlyServerURL": "https://plot.ly"
       },
       "data": [
        {
         "type": "heatmap",
         "x": [
          0,
          0.1,
          0.2,
          0.30000000000000004,
          0.4,
          0.5,
          0.6000000000000001,
          0.7000000000000001,
          0.8,
          0.9,
          1,
          1.1,
          1.2000000000000002,
          1.3,
          1.4000000000000001,
          1.5,
          1.6,
          1.7000000000000002,
          1.8,
          1.9000000000000001,
          2,
          2.1,
          2.2,
          2.3000000000000003,
          2.4000000000000004,
          2.5,
          2.6,
          2.7,
          2.8000000000000003,
          2.9000000000000004,
          3,
          3.1
         ],
         "y": [
          0,
          0.1,
          0.2,
          0.30000000000000004,
          0.4,
          0.5,
          0.6000000000000001,
          0.7000000000000001,
          0.8,
          0.9,
          1,
          1.1,
          1.2000000000000002,
          1.3,
          1.4000000000000001,
          1.5,
          1.6,
          1.7000000000000002,
          1.8,
          1.9000000000000001,
          2,
          2.1,
          2.2,
          2.3000000000000003,
          2.4000000000000004,
          2.5,
          2.6,
          2.7,
          2.8000000000000003,
          2.9000000000000004,
          3,
          3.1
         ],
         "z": [
          [
           -2.963,
           -3.01175,
           -2.97425,
           -2.96175,
           -2.9415,
           -2.91825,
           -2.89725,
           -2.895,
           -2.95025,
           -2.93075,
           -2.98175,
           -2.99325,
           -2.9695,
           -2.99225,
           -3.01875,
           -3.026,
           -3.053,
           -2.98125,
           -2.98975,
           -2.97725,
           -2.979,
           -2.986,
           -2.95925,
           -2.96975,
           -2.99875,
           -3.01425,
           -3.051,
           -3.01975,
           -3.05525,
           -3.03525,
           -3.05625,
           -3.0275
          ],
          [
           -3.0295,
           -3.00775,
           -2.92375,
           -2.90225,
           -2.81475,
           -2.78875,
           -2.73,
           -2.71825,
           -2.73825,
           -2.7895,
           -2.81,
           -2.89075,
           -2.94875,
           -2.97175,
           -3.03225,
           -3.0215,
           -2.97875,
           -2.98875,
           -2.963,
           -2.8805,
           -2.82525,
           -2.83875,
           -2.80625,
           -2.77475,
           -2.8295,
           -2.8855,
           -2.914,
           -2.9935,
           -2.9805,
           -3.046,
           -3.04225,
           -3.043
          ],
          [
           -3.01425,
           -2.92275,
           -2.82625,
           -2.76925,
           -2.69025,
           -2.6745,
           -2.615,
           -2.67425,
           -2.717,
           -2.77825,
           -2.874,
           -2.94725,
           -3.01525,
           -3.06175,
           -3.0875,
           -3.0455,
           -3.006,
           -2.931,
           -2.8635,
           -2.8065,
           -2.70875,
           -2.7045,
           -2.72275,
           -2.7895,
           -2.814,
           -2.886,
           -2.9815,
           -3.083,
           -3.0895,
           -3.1315,
           -3.106,
           -3.05525
          ],
          [
           -3.063,
           -2.93325,
           -2.81775,
           -2.6415,
           -2.582,
           -2.5345,
           -2.54125,
           -2.56775,
           -2.62525,
           -2.75825,
           -2.858,
           -3.00375,
           -3.064,
           -3.12825,
           -3.12625,
           -3.0815,
           -3.0205,
           -2.88075,
           -2.769,
           -2.679,
           -2.63025,
           -2.59675,
           -2.63425,
           -2.6825,
           -2.745,
           -2.8555,
           -2.9935,
           -3.08,
           -3.13975,
           -3.1875,
           -3.139,
           -3.086
          ],
          [
           -3.02,
           -2.86875,
           -2.6865,
           -2.51225,
           -2.427,
           -2.40175,
           -2.3675,
           -2.40825,
           -2.549,
           -2.68825,
           -2.8505,
           -2.98825,
           -3.0805,
           -3.15225,
           -3.154,
           -3.0995,
           -2.9625,
           -2.827,
           -2.6615,
           -2.53925,
           -2.47975,
           -2.4725,
           -2.4655,
           -2.58025,
           -2.694,
           -2.876,
           -2.9965,
           -3.10175,
           -3.20475,
           -3.19175,
           -3.17025,
           -3.062
          ],
          [
           -3.0495,
           -2.87775,
           -2.68175,
           -2.50375,
           -2.36975,
           -2.3055,
           -2.304,
           -2.34375,
           -2.485,
           -2.65475,
           -2.816,
           -2.985,
           -3.0935,
           -3.1855,
           -3.18525,
           -3.071,
           -2.9565,
           -2.8385,
           -2.65675,
           -2.53775,
           -2.40175,
           -2.4195,
           -2.385,
           -2.48675,
           -2.60175,
           -2.796,
           -2.955,
           -3.08975,
           -3.19075,
           -3.22525,
           -3.169,
           -3.103
          ],
          [
           -3.02025,
           -2.79225,
           -2.5965,
           -2.40825,
           -2.2705,
           -2.1835,
           -2.22375,
           -2.2985,
           -2.44425,
           -2.65425,
           -2.83775,
           -3.00675,
           -3.13375,
           -3.212,
           -3.189,
           -3.0965,
           -2.964,
           -2.73025,
           -2.583,
           -2.43025,
           -2.304,
           -2.27375,
           -2.31275,
           -2.41325,
           -2.57925,
           -2.7685,
           -2.95475,
           -3.1115,
           -3.20675,
           -3.2505,
           -3.171,
           -3.0415
          ],
          [
           -3.04725,
           -2.80575,
           -2.56275,
           -2.41425,
           -2.23925,
           -2.1855,
           -2.162,
           -2.25475,
           -2.406,
           -2.5525,
           -2.80475,
           -2.964,
           -3.12575,
           -3.1805,
           -3.18275,
           -3.0895,
           -2.9375,
           -2.7715,
           -2.556,
           -2.37975,
           -2.30025,
           -2.252,
           -2.371,
           -2.34175,
           -2.5175,
           -2.71475,
           -2.92175,
           -3.0955,
           -3.20475,
           -3.241,
           -3.19775,
           -3.093
          ],
          [
           -3.00425,
           -2.783,
           -2.6085,
           -2.41,
           -2.23975,
           -2.1755,
           -2.17575,
           -2.21025,
           -2.39975,
           -2.592,
           -2.80925,
           -2.99375,
           -3.15,
           -3.19575,
           -3.21225,
           -3.088,
           -2.9295,
           -2.73,
           -2.55025,
           -2.406,
           -2.2595,
           -2.2415,
           -2.24775,
           -2.374,
           -2.58375,
           -2.7325,
           -2.93725,
           -3.084,
           -3.18475,
           -3.2505,
           -3.18975,
           -3.072
          ],
          [
           -3.016,
           -2.79725,
           -2.60575,
           -2.4475,
           -2.2605,
           -2.2325,
           -2.24225,
           -2.26925,
           -2.436,
           -2.633,
           -2.8265,
           -2.99825,
           -3.11275,
           -3.17675,
           -3.1505,
           -3.07625,
           -2.92475,
           -2.77075,
           -2.59275,
           -2.42875,
           -2.28025,
           -2.2775,
           -2.287,
           -2.4195,
           -2.55475,
           -2.725,
           -2.92625,
           -3.0885,
           -3.1835,
           -3.20825,
           -3.15325,
           -3.02525
          ],
          [
           -2.97925,
           -2.784,
           -2.592,
           -2.434,
           -2.309,
           -2.243,
           -2.25225,
           -2.30325,
           -2.44825,
           -2.6345,
           -2.837,
           -2.97,
           -3.12275,
           -3.1805,
           -3.14625,
           -3.0725,
           -2.91875,
           -2.76975,
           -2.606,
           -2.42775,
           -2.2815,
           -2.275,
           -2.3215,
           -2.389,
           -2.5505,
           -2.75,
           -2.90025,
           -3.069,
           -3.1345,
           -3.17875,
           -3.13275,
           -3.013
          ],
          [
           -2.99825,
           -2.8025,
           -2.61,
           -2.499,
           -2.40675,
           -2.39625,
           -2.3425,
           -2.408,
           -2.5165,
           -2.66575,
           -2.8185,
           -2.976,
           -3.08825,
           -3.161,
           -3.122,
           -3.03575,
           -2.95175,
           -2.823,
           -2.637,
           -2.5005,
           -2.4195,
           -2.39375,
           -2.386,
           -2.472,
           -2.5995,
           -2.72075,
           -2.89825,
           -3.03825,
           -3.132,
           -3.15375,
           -3.10775,
           -3.03525
          ],
          [
           -3.0065,
           -2.82325,
           -2.71975,
           -2.574,
           -2.46975,
           -2.39575,
           -2.43625,
           -2.488,
           -2.59725,
           -2.7355,
           -2.86025,
           -2.9655,
           -3.08075,
           -3.122,
           -3.12625,
           -3.06775,
           -2.9315,
           -2.84175,
           -2.67975,
           -2.572,
           -2.464,
           -2.4535,
           -2.44225,
           -2.5555,
           -2.65225,
           -2.76925,
           -2.9205,
           -3.02075,
           -3.11,
           -3.1345,
           -3.07525,
           -3.03125
          ],
          [
           -2.97175,
           -2.854,
           -2.71525,
           -2.66525,
           -2.5855,
           -2.52875,
           -2.55675,
           -2.581,
           -2.66425,
           -2.72425,
           -2.87325,
           -2.965,
           -3.03525,
           -3.06625,
           -3.057,
           -3.02975,
           -2.9755,
           -2.8705,
           -2.73575,
           -2.6655,
           -2.57625,
           -2.545,
           -2.56875,
           -2.5855,
           -2.6825,
           -2.8005,
           -2.91775,
           -2.96275,
           -3.042,
           -3.081,
           -3.02125,
           -2.991
          ],
          [
           -3.00775,
           -2.93,
           -2.832,
           -2.71525,
           -2.6325,
           -2.5915,
           -2.572,
           -2.61675,
           -2.6535,
           -2.7585,
           -2.835,
           -2.9295,
           -3.0325,
           -3.04825,
           -3.0825,
           -3.05925,
           -3.023,
           -2.935,
           -2.82975,
           -2.748,
           -2.6485,
           -2.656,
           -2.624,
           -2.64,
           -2.6875,
           -2.798,
           -2.85575,
           -2.9675,
           -3.0025,
           -3.04325,
           -3.07025,
           -3.01625
          ],
          [
           -2.956,
           -2.9045,
           -2.86375,
           -2.82125,
           -2.7455,
           -2.73475,
           -2.68725,
           -2.6975,
           -2.715,
           -2.76075,
           -2.83425,
           -2.927,
           -2.9595,
           -3.025,
           -3.0495,
           -3.02075,
           -3.01525,
           -2.98175,
           -2.90775,
           -2.848,
           -2.7255,
           -2.7325,
           -2.70525,
           -2.6765,
           -2.71225,
           -2.768,
           -2.79125,
           -2.9115,
           -2.93325,
           -2.97125,
           -3.01575,
           -3.0005
          ],
          [
           -3.0225,
           -2.9985,
           -2.95625,
           -2.915,
           -2.8535,
           -2.754,
           -2.7315,
           -2.6765,
           -2.65875,
           -2.6875,
           -2.7745,
           -2.80025,
           -2.9265,
           -2.9935,
           -3.021,
           -3.06225,
           -3.06925,
           -3.03925,
           -2.9885,
           -2.919,
           -2.86175,
           -2.775,
           -2.70625,
           -2.674,
           -2.66975,
           -2.66475,
           -2.753,
           -2.82425,
           -2.87775,
           -2.9695,
           -2.992,
           -3.0405
          ],
          [
           -3.037,
           -3.024,
           -3.01775,
           -2.9545,
           -2.9115,
           -2.8165,
           -2.73975,
           -2.67825,
           -2.665,
           -2.66175,
           -2.707,
           -2.7555,
           -2.86075,
           -2.93725,
           -2.98025,
           -3.05825,
           -3.0625,
           -3.0765,
           -3.07575,
           -2.9615,
           -2.8885,
           -2.7945,
           -2.7275,
           -2.66,
           -2.6285,
           -2.6365,
           -2.67125,
           -2.7505,
           -2.79975,
           -2.8855,
           -2.94275,
           -3.00475
          ],
          [
           -3.044,
           -3.08125,
           -3.08275,
           -3.05425,
           -2.956,
           -2.85725,
           -2.76475,
           -2.68575,
           -2.63375,
           -2.56275,
           -2.583,
           -2.6525,
           -2.722,
           -2.84275,
           -2.92525,
           -3.05075,
           -3.084,
           -3.134,
           -3.11025,
           -3.049,
           -2.97,
           -2.823,
           -2.745,
           -2.68325,
           -2.617,
           -2.56025,
           -2.58425,
           -2.6305,
           -2.7555,
           -2.81775,
           -2.93975,
           -3.00525
          ],
          [
           -3.03275,
           -3.11975,
           -3.1075,
           -3.08175,
           -3.0055,
           -2.8735,
           -2.7505,
           -2.655,
           -2.51575,
           -2.46625,
           -2.51125,
           -2.527,
           -2.64525,
           -2.7595,
           -2.93575,
           -3.0385,
           -3.13875,
           -3.16225,
           -3.13425,
           -3.08975,
           -2.97225,
           -2.852,
           -2.72475,
           -2.59575,
           -2.509,
           -2.48025,
           -2.496,
           -2.554,
           -2.605,
           -2.74275,
           -2.892,
           -3.01825
          ],
          [
           -3.045,
           -3.161,
           -3.16725,
           -3.14025,
           -3.0205,
           -2.90825,
           -2.7485,
           -2.597,
           -2.47375,
           -2.416,
           -2.397,
           -2.43825,
           -2.54225,
           -2.70225,
           -2.88025,
           -3.0275,
           -3.14225,
           -3.20725,
           -3.215,
           -3.15775,
           -3.03675,
           -2.87225,
           -2.6865,
           -2.53825,
           -2.426,
           -2.4075,
           -2.4445,
           -2.48475,
           -2.5935,
           -2.77025,
           -2.8895,
           -3.05025
          ],
          [
           -3.052,
           -3.15275,
           -3.19125,
           -3.182,
           -3.051,
           -2.912,
           -2.7275,
           -2.56075,
           -2.40925,
           -2.33075,
           -2.26775,
           -2.38,
           -2.50225,
           -2.58675,
           -2.811,
           -3.00525,
           -3.14,
           -3.2135,
           -3.24125,
           -3.17825,
           -3.0485,
           -2.93325,
           -2.7355,
           -2.52225,
           -2.40225,
           -2.3305,
           -2.3115,
           -2.374,
           -2.48775,
           -2.65125,
           -2.84225,
           -3.00025
          ],
          [
           -3.0595,
           -3.1715,
           -3.23225,
           -3.1925,
           -3.08825,
           -2.93475,
           -2.74525,
           -2.521,
           -2.34275,
           -2.23225,
           -2.20725,
           -2.58425,
           -2.40875,
           -2.566,
           -2.75425,
           -2.9775,
           -3.1325,
           -3.23825,
           -3.27925,
           -3.13375,
           -3.09,
           -2.884,
           -2.66175,
           -2.487,
           -2.362,
           -2.26375,
           -2.22025,
           -2.29275,
           -2.44375,
           -2.6315,
           -2.81225,
           -2.9835
          ],
          [
           -3.07325,
           -3.20075,
           -3.26575,
           -3.21,
           -3.10025,
           -2.9115,
           -2.682,
           -2.50075,
           -2.275,
           -2.1635,
           -2.15825,
           -2.187,
           -2.3625,
           -2.55475,
           -2.7395,
           -2.966,
           -3.15525,
           -3.269,
           -3.3245,
           -3.23425,
           -3.1395,
           -2.92775,
           -2.6785,
           -2.47725,
           -2.2985,
           -2.205,
           -2.202,
           -2.23225,
           -2.38225,
           -2.58425,
           -2.77625,
           -3.00075
          ],
          [
           -3.06325,
           -3.202,
           -3.25375,
           -3.239,
           -3.143,
           -2.967,
           -2.75625,
           -2.5235,
           -2.36375,
           -2.20625,
           -2.1465,
           -2.19325,
           -2.337,
           -2.5185,
           -2.7195,
           -2.96075,
           -3.143,
           -3.26125,
           -3.28975,
           -3.2555,
           -3.135,
           -2.95875,
           -2.727,
           -2.4875,
           -2.35025,
           -2.21325,
           -2.2055,
           -2.27425,
           -2.37475,
           -2.60525,
           -2.7935,
           -3.001
          ],
          [
           -3.044,
           -3.20325,
           -3.25625,
           -3.23025,
           -3.14225,
           -2.9465,
           -2.72825,
           -2.5205,
           -2.357,
           -2.2115,
           -2.16975,
           -2.21775,
           -2.31825,
           -2.52725,
           -2.7395,
           -2.958,
           -3.154,
           -3.28025,
           -3.2935,
           -3.269,
           -3.15425,
           -2.96575,
           -2.7505,
           -2.53875,
           -2.3475,
           -2.27625,
           -2.1925,
           -2.3155,
           -2.37475,
           -2.59675,
           -2.82425,
           -2.99225
          ],
          [
           -3.01275,
           -3.17425,
           -3.22525,
           -3.23175,
           -3.14725,
           -2.996,
           -2.791,
           -2.60225,
           -2.43275,
           -2.325,
           -2.2045,
           -2.26925,
           -2.366,
           -2.51275,
           -2.69675,
           -2.943,
           -3.0905,
           -3.2445,
           -3.28875,
           -3.26275,
           -3.16175,
           -3.027,
           -2.83675,
           -2.62975,
           -2.4525,
           -2.335,
           -2.28325,
           -2.365,
           -2.41575,
           -2.6415,
           -2.7905,
           -2.95125
          ],
          [
           -3.057,
           -3.171,
           -3.21375,
           -3.2015,
           -3.092,
           -2.96525,
           -2.78525,
           -2.62375,
           -2.459,
           -2.3465,
           -2.3,
           -2.342,
           -2.4335,
           -2.579,
           -2.77825,
           -2.9545,
           -3.12225,
           -3.23425,
           -3.28175,
           -3.2515,
           -3.16875,
           -3.01,
           -2.828,
           -2.6605,
           -2.51725,
           -2.37875,
           -2.41225,
           -2.4155,
           -2.51875,
           -2.673,
           -2.8375,
           -2.986
          ],
          [
           -3.015,
           -3.10625,
           -3.18325,
           -3.13475,
           -3.07625,
           -2.959,
           -2.81275,
           -2.6995,
           -2.57075,
           -2.4695,
           -2.42275,
           -2.45275,
           -2.52275,
           -2.60725,
           -2.799,
           -2.925,
           -3.05925,
           -3.20325,
           -3.229,
           -3.212,
           -3.156,
           -3.05175,
           -2.93325,
           -2.7795,
           -2.6355,
           -2.54875,
           -2.49475,
           -2.5065,
           -2.60925,
           -2.72,
           -2.86625,
           -2.972
          ],
          [
           -3.03025,
           -3.075,
           -3.1215,
           -3.06125,
           -3.0325,
           -2.96325,
           -2.8135,
           -2.72425,
           -2.6185,
           -2.54325,
           -2.569,
           -2.554,
           -2.636,
           -2.7405,
           -2.80675,
           -2.95025,
           -3.06675,
           -3.16225,
           -3.18575,
           -3.175,
           -3.113,
           -3.01025,
           -2.8965,
           -2.81625,
           -2.7025,
           -2.67025,
           -2.638,
           -2.6385,
           -2.71,
           -2.778,
           -2.883,
           -2.989
          ],
          [
           -2.96025,
           -2.99425,
           -3.01025,
           -3.00625,
           -2.94725,
           -2.8615,
           -2.8005,
           -2.75275,
           -2.66175,
           -2.635,
           -2.673,
           -2.66525,
           -2.71675,
           -2.786,
           -2.835,
           -2.9375,
           -3.022,
           -3.0655,
           -3.051,
           -3.0655,
           -3.04175,
           -2.9965,
           -2.90925,
           -2.8665,
           -2.807,
           -2.74825,
           -2.743,
           -2.77875,
           -2.798,
           -2.81975,
           -2.90275,
           -2.94225
          ],
          [
           -2.967,
           -2.969,
           -2.9255,
           -2.90725,
           -2.855,
           -2.831,
           -2.764,
           -2.73725,
           -2.69625,
           -2.7,
           -2.7385,
           -2.7815,
           -2.8495,
           -2.86025,
           -2.93525,
           -2.9775,
           -2.99575,
           -3.00475,
           -3.0025,
           -2.97,
           -2.96075,
           -2.92025,
           -2.87825,
           -2.8375,
           -2.86275,
           -2.836,
           -2.84175,
           -2.859,
           -2.9335,
           -2.935,
           -2.94875,
           -2.97275
          ]
         ]
        },
        {
         "hovertemplate": "x: %{x}<br>y: %{y}<br> z: %{text:.2f}<extra></extra>",
         "marker": {
          "color": "red",
          "line": {
           "width": 1
          },
          "size": 16,
          "symbol": [
           204
          ]
         },
         "mode": "markers",
         "text": [
          "-3.3245"
         ],
         "type": "scatter",
         "x": [
          1.8
         ],
         "y": [
          2.3000000000000003
         ]
        }
       ],
       "layout": {
        "height": 700,
        "template": {
         "data": {
          "bar": [
           {
            "error_x": {
             "color": "#2a3f5f"
            },
            "error_y": {
             "color": "#2a3f5f"
            },
            "marker": {
             "line": {
              "color": "#E5ECF6",
              "width": 0.5
             },
             "pattern": {
              "fillmode": "overlay",
              "size": 10,
              "solidity": 0.2
             }
            },
            "type": "bar"
           }
          ],
          "barpolar": [
           {
            "marker": {
             "line": {
              "color": "#E5ECF6",
              "width": 0.5
             },
             "pattern": {
              "fillmode": "overlay",
              "size": 10,
              "solidity": 0.2
             }
            },
            "type": "barpolar"
           }
          ],
          "carpet": [
           {
            "aaxis": {
             "endlinecolor": "#2a3f5f",
             "gridcolor": "white",
             "linecolor": "white",
             "minorgridcolor": "white",
             "startlinecolor": "#2a3f5f"
            },
            "baxis": {
             "endlinecolor": "#2a3f5f",
             "gridcolor": "white",
             "linecolor": "white",
             "minorgridcolor": "white",
             "startlinecolor": "#2a3f5f"
            },
            "type": "carpet"
           }
          ],
          "choropleth": [
           {
            "colorbar": {
             "outlinewidth": 0,
             "ticks": ""
            },
            "type": "choropleth"
           }
          ],
          "contour": [
           {
            "colorbar": {
             "outlinewidth": 0,
             "ticks": ""
            },
            "colorscale": [
             [
              0,
              "#0d0887"
             ],
             [
              0.1111111111111111,
              "#46039f"
             ],
             [
              0.2222222222222222,
              "#7201a8"
             ],
             [
              0.3333333333333333,
              "#9c179e"
             ],
             [
              0.4444444444444444,
              "#bd3786"
             ],
             [
              0.5555555555555556,
              "#d8576b"
             ],
             [
              0.6666666666666666,
              "#ed7953"
             ],
             [
              0.7777777777777778,
              "#fb9f3a"
             ],
             [
              0.8888888888888888,
              "#fdca26"
             ],
             [
              1,
              "#f0f921"
             ]
            ],
            "type": "contour"
           }
          ],
          "contourcarpet": [
           {
            "colorbar": {
             "outlinewidth": 0,
             "ticks": ""
            },
            "type": "contourcarpet"
           }
          ],
          "heatmap": [
           {
            "colorbar": {
             "outlinewidth": 0,
             "ticks": ""
            },
            "colorscale": [
             [
              0,
              "#0d0887"
             ],
             [
              0.1111111111111111,
              "#46039f"
             ],
             [
              0.2222222222222222,
              "#7201a8"
             ],
             [
              0.3333333333333333,
              "#9c179e"
             ],
             [
              0.4444444444444444,
              "#bd3786"
             ],
             [
              0.5555555555555556,
              "#d8576b"
             ],
             [
              0.6666666666666666,
              "#ed7953"
             ],
             [
              0.7777777777777778,
              "#fb9f3a"
             ],
             [
              0.8888888888888888,
              "#fdca26"
             ],
             [
              1,
              "#f0f921"
             ]
            ],
            "type": "heatmap"
           }
          ],
          "heatmapgl": [
           {
            "colorbar": {
             "outlinewidth": 0,
             "ticks": ""
            },
            "colorscale": [
             [
              0,
              "#0d0887"
             ],
             [
              0.1111111111111111,
              "#46039f"
             ],
             [
              0.2222222222222222,
              "#7201a8"
             ],
             [
              0.3333333333333333,
              "#9c179e"
             ],
             [
              0.4444444444444444,
              "#bd3786"
             ],
             [
              0.5555555555555556,
              "#d8576b"
             ],
             [
              0.6666666666666666,
              "#ed7953"
             ],
             [
              0.7777777777777778,
              "#fb9f3a"
             ],
             [
              0.8888888888888888,
              "#fdca26"
             ],
             [
              1,
              "#f0f921"
             ]
            ],
            "type": "heatmapgl"
           }
          ],
          "histogram": [
           {
            "marker": {
             "pattern": {
              "fillmode": "overlay",
              "size": 10,
              "solidity": 0.2
             }
            },
            "type": "histogram"
           }
          ],
          "histogram2d": [
           {
            "colorbar": {
             "outlinewidth": 0,
             "ticks": ""
            },
            "colorscale": [
             [
              0,
              "#0d0887"
             ],
             [
              0.1111111111111111,
              "#46039f"
             ],
             [
              0.2222222222222222,
              "#7201a8"
             ],
             [
              0.3333333333333333,
              "#9c179e"
             ],
             [
              0.4444444444444444,
              "#bd3786"
             ],
             [
              0.5555555555555556,
              "#d8576b"
             ],
             [
              0.6666666666666666,
              "#ed7953"
             ],
             [
              0.7777777777777778,
              "#fb9f3a"
             ],
             [
              0.8888888888888888,
              "#fdca26"
             ],
             [
              1,
              "#f0f921"
             ]
            ],
            "type": "histogram2d"
           }
          ],
          "histogram2dcontour": [
           {
            "colorbar": {
             "outlinewidth": 0,
             "ticks": ""
            },
            "colorscale": [
             [
              0,
              "#0d0887"
             ],
             [
              0.1111111111111111,
              "#46039f"
             ],
             [
              0.2222222222222222,
              "#7201a8"
             ],
             [
              0.3333333333333333,
              "#9c179e"
             ],
             [
              0.4444444444444444,
              "#bd3786"
             ],
             [
              0.5555555555555556,
              "#d8576b"
             ],
             [
              0.6666666666666666,
              "#ed7953"
             ],
             [
              0.7777777777777778,
              "#fb9f3a"
             ],
             [
              0.8888888888888888,
              "#fdca26"
             ],
             [
              1,
              "#f0f921"
             ]
            ],
            "type": "histogram2dcontour"
           }
          ],
          "mesh3d": [
           {
            "colorbar": {
             "outlinewidth": 0,
             "ticks": ""
            },
            "type": "mesh3d"
           }
          ],
          "parcoords": [
           {
            "line": {
             "colorbar": {
              "outlinewidth": 0,
              "ticks": ""
             }
            },
            "type": "parcoords"
           }
          ],
          "pie": [
           {
            "automargin": true,
            "type": "pie"
           }
          ],
          "scatter": [
           {
            "marker": {
             "colorbar": {
              "outlinewidth": 0,
              "ticks": ""
             }
            },
            "type": "scatter"
           }
          ],
          "scatter3d": [
           {
            "line": {
             "colorbar": {
              "outlinewidth": 0,
              "ticks": ""
             }
            },
            "marker": {
             "colorbar": {
              "outlinewidth": 0,
              "ticks": ""
             }
            },
            "type": "scatter3d"
           }
          ],
          "scattercarpet": [
           {
            "marker": {
             "colorbar": {
              "outlinewidth": 0,
              "ticks": ""
             }
            },
            "type": "scattercarpet"
           }
          ],
          "scattergeo": [
           {
            "marker": {
             "colorbar": {
              "outlinewidth": 0,
              "ticks": ""
             }
            },
            "type": "scattergeo"
           }
          ],
          "scattergl": [
           {
            "marker": {
             "colorbar": {
              "outlinewidth": 0,
              "ticks": ""
             }
            },
            "type": "scattergl"
           }
          ],
          "scattermapbox": [
           {
            "marker": {
             "colorbar": {
              "outlinewidth": 0,
              "ticks": ""
             }
            },
            "type": "scattermapbox"
           }
          ],
          "scatterpolar": [
           {
            "marker": {
             "colorbar": {
              "outlinewidth": 0,
              "ticks": ""
             }
            },
            "type": "scatterpolar"
           }
          ],
          "scatterpolargl": [
           {
            "marker": {
             "colorbar": {
              "outlinewidth": 0,
              "ticks": ""
             }
            },
            "type": "scatterpolargl"
           }
          ],
          "scatterternary": [
           {
            "marker": {
             "colorbar": {
              "outlinewidth": 0,
              "ticks": ""
             }
            },
            "type": "scatterternary"
           }
          ],
          "surface": [
           {
            "colorbar": {
             "outlinewidth": 0,
             "ticks": ""
            },
            "colorscale": [
             [
              0,
              "#0d0887"
             ],
             [
              0.1111111111111111,
              "#46039f"
             ],
             [
              0.2222222222222222,
              "#7201a8"
             ],
             [
              0.3333333333333333,
              "#9c179e"
             ],
             [
              0.4444444444444444,
              "#bd3786"
             ],
             [
              0.5555555555555556,
              "#d8576b"
             ],
             [
              0.6666666666666666,
              "#ed7953"
             ],
             [
              0.7777777777777778,
              "#fb9f3a"
             ],
             [
              0.8888888888888888,
              "#fdca26"
             ],
             [
              1,
              "#f0f921"
             ]
            ],
            "type": "surface"
           }
          ],
          "table": [
           {
            "cells": {
             "fill": {
              "color": "#EBF0F8"
             },
             "line": {
              "color": "white"
             }
            },
            "header": {
             "fill": {
              "color": "#C8D4E3"
             },
             "line": {
              "color": "white"
             }
            },
            "type": "table"
           }
          ]
         },
         "layout": {
          "annotationdefaults": {
           "arrowcolor": "#2a3f5f",
           "arrowhead": 0,
           "arrowwidth": 1
          },
          "autotypenumbers": "strict",
          "coloraxis": {
           "colorbar": {
            "outlinewidth": 0,
            "ticks": ""
           }
          },
          "colorscale": {
           "diverging": [
            [
             0,
             "#8e0152"
            ],
            [
             0.1,
             "#c51b7d"
            ],
            [
             0.2,
             "#de77ae"
            ],
            [
             0.3,
             "#f1b6da"
            ],
            [
             0.4,
             "#fde0ef"
            ],
            [
             0.5,
             "#f7f7f7"
            ],
            [
             0.6,
             "#e6f5d0"
            ],
            [
             0.7,
             "#b8e186"
            ],
            [
             0.8,
             "#7fbc41"
            ],
            [
             0.9,
             "#4d9221"
            ],
            [
             1,
             "#276419"
            ]
           ],
           "sequential": [
            [
             0,
             "#0d0887"
            ],
            [
             0.1111111111111111,
             "#46039f"
            ],
            [
             0.2222222222222222,
             "#7201a8"
            ],
            [
             0.3333333333333333,
             "#9c179e"
            ],
            [
             0.4444444444444444,
             "#bd3786"
            ],
            [
             0.5555555555555556,
             "#d8576b"
            ],
            [
             0.6666666666666666,
             "#ed7953"
            ],
            [
             0.7777777777777778,
             "#fb9f3a"
            ],
            [
             0.8888888888888888,
             "#fdca26"
            ],
            [
             1,
             "#f0f921"
            ]
           ],
           "sequentialminus": [
            [
             0,
             "#0d0887"
            ],
            [
             0.1111111111111111,
             "#46039f"
            ],
            [
             0.2222222222222222,
             "#7201a8"
            ],
            [
             0.3333333333333333,
             "#9c179e"
            ],
            [
             0.4444444444444444,
             "#bd3786"
            ],
            [
             0.5555555555555556,
             "#d8576b"
            ],
            [
             0.6666666666666666,
             "#ed7953"
            ],
            [
             0.7777777777777778,
             "#fb9f3a"
            ],
            [
             0.8888888888888888,
             "#fdca26"
            ],
            [
             1,
             "#f0f921"
            ]
           ]
          },
          "colorway": [
           "#636efa",
           "#EF553B",
           "#00cc96",
           "#ab63fa",
           "#FFA15A",
           "#19d3f3",
           "#FF6692",
           "#B6E880",
           "#FF97FF",
           "#FECB52"
          ],
          "font": {
           "color": "#2a3f5f"
          },
          "geo": {
           "bgcolor": "white",
           "lakecolor": "white",
           "landcolor": "#E5ECF6",
           "showlakes": true,
           "showland": true,
           "subunitcolor": "white"
          },
          "hoverlabel": {
           "align": "left"
          },
          "hovermode": "closest",
          "mapbox": {
           "style": "light"
          },
          "paper_bgcolor": "white",
          "plot_bgcolor": "#E5ECF6",
          "polar": {
           "angularaxis": {
            "gridcolor": "white",
            "linecolor": "white",
            "ticks": ""
           },
           "bgcolor": "#E5ECF6",
           "radialaxis": {
            "gridcolor": "white",
            "linecolor": "white",
            "ticks": ""
           }
          },
          "scene": {
           "xaxis": {
            "backgroundcolor": "#E5ECF6",
            "gridcolor": "white",
            "gridwidth": 2,
            "linecolor": "white",
            "showbackground": true,
            "ticks": "",
            "zerolinecolor": "white"
           },
           "yaxis": {
            "backgroundcolor": "#E5ECF6",
            "gridcolor": "white",
            "gridwidth": 2,
            "linecolor": "white",
            "showbackground": true,
            "ticks": "",
            "zerolinecolor": "white"
           },
           "zaxis": {
            "backgroundcolor": "#E5ECF6",
            "gridcolor": "white",
            "gridwidth": 2,
            "linecolor": "white",
            "showbackground": true,
            "ticks": "",
            "zerolinecolor": "white"
           }
          },
          "shapedefaults": {
           "line": {
            "color": "#2a3f5f"
           }
          },
          "ternary": {
           "aaxis": {
            "gridcolor": "white",
            "linecolor": "white",
            "ticks": ""
           },
           "baxis": {
            "gridcolor": "white",
            "linecolor": "white",
            "ticks": ""
           },
           "bgcolor": "#E5ECF6",
           "caxis": {
            "gridcolor": "white",
            "linecolor": "white",
            "ticks": ""
           }
          },
          "title": {
           "x": 0.05
          },
          "xaxis": {
           "automargin": true,
           "gridcolor": "white",
           "linecolor": "white",
           "ticks": "",
           "title": {
            "standoff": 15
           },
           "zerolinecolor": "white",
           "zerolinewidth": 2
          },
          "yaxis": {
           "automargin": true,
           "gridcolor": "white",
           "linecolor": "white",
           "ticks": "",
           "title": {
            "standoff": 15
           },
           "zerolinecolor": "white",
           "zerolinewidth": 2
          }
         }
        },
        "title": {
         "text": "F(γ,β)"
        },
        "width": 700,
        "xaxis": {
         "title": {
          "text": "γ"
         }
        },
        "yaxis": {
         "title": {
          "text": "β"
         }
        }
       }
      },
      "text/html": [
       "<div>                            <div id=\"0fa632b9-097d-45a2-92e1-04a111eba389\" class=\"plotly-graph-div\" style=\"height:700px; width:700px;\"></div>            <script type=\"text/javascript\">                require([\"plotly\"], function(Plotly) {                    window.PLOTLYENV=window.PLOTLYENV || {};                                    if (document.getElementById(\"0fa632b9-097d-45a2-92e1-04a111eba389\")) {                    Plotly.newPlot(                        \"0fa632b9-097d-45a2-92e1-04a111eba389\",                        [{\"type\":\"heatmap\",\"x\":[0.0,0.1,0.2,0.30000000000000004,0.4,0.5,0.6000000000000001,0.7000000000000001,0.8,0.9,1.0,1.1,1.2000000000000002,1.3,1.4000000000000001,1.5,1.6,1.7000000000000002,1.8,1.9000000000000001,2.0,2.1,2.2,2.3000000000000003,2.4000000000000004,2.5,2.6,2.7,2.8000000000000003,2.9000000000000004,3.0,3.1],\"y\":[0.0,0.1,0.2,0.30000000000000004,0.4,0.5,0.6000000000000001,0.7000000000000001,0.8,0.9,1.0,1.1,1.2000000000000002,1.3,1.4000000000000001,1.5,1.6,1.7000000000000002,1.8,1.9000000000000001,2.0,2.1,2.2,2.3000000000000003,2.4000000000000004,2.5,2.6,2.7,2.8000000000000003,2.9000000000000004,3.0,3.1],\"z\":[[-2.963,-3.01175,-2.97425,-2.96175,-2.9415,-2.91825,-2.89725,-2.895,-2.95025,-2.93075,-2.98175,-2.99325,-2.9695,-2.99225,-3.01875,-3.026,-3.053,-2.98125,-2.98975,-2.97725,-2.979,-2.986,-2.95925,-2.96975,-2.99875,-3.01425,-3.051,-3.01975,-3.05525,-3.03525,-3.05625,-3.0275],[-3.0295,-3.00775,-2.92375,-2.90225,-2.81475,-2.78875,-2.73,-2.71825,-2.73825,-2.7895,-2.81,-2.89075,-2.94875,-2.97175,-3.03225,-3.0215,-2.97875,-2.98875,-2.963,-2.8805,-2.82525,-2.83875,-2.80625,-2.77475,-2.8295,-2.8855,-2.914,-2.9935,-2.9805,-3.046,-3.04225,-3.043],[-3.01425,-2.92275,-2.82625,-2.76925,-2.69025,-2.6745,-2.615,-2.67425,-2.717,-2.77825,-2.874,-2.94725,-3.01525,-3.06175,-3.0875,-3.0455,-3.006,-2.931,-2.8635,-2.8065,-2.70875,-2.7045,-2.72275,-2.7895,-2.814,-2.886,-2.9815,-3.083,-3.0895,-3.1315,-3.106,-3.05525],[-3.063,-2.93325,-2.81775,-2.6415,-2.582,-2.5345,-2.54125,-2.56775,-2.62525,-2.75825,-2.858,-3.00375,-3.064,-3.12825,-3.12625,-3.0815,-3.0205,-2.88075,-2.769,-2.679,-2.63025,-2.59675,-2.63425,-2.6825,-2.745,-2.8555,-2.9935,-3.08,-3.13975,-3.1875,-3.139,-3.086],[-3.02,-2.86875,-2.6865,-2.51225,-2.427,-2.40175,-2.3675,-2.40825,-2.549,-2.68825,-2.8505,-2.98825,-3.0805,-3.15225,-3.154,-3.0995,-2.9625,-2.827,-2.6615,-2.53925,-2.47975,-2.4725,-2.4655,-2.58025,-2.694,-2.876,-2.9965,-3.10175,-3.20475,-3.19175,-3.17025,-3.062],[-3.0495,-2.87775,-2.68175,-2.50375,-2.36975,-2.3055,-2.304,-2.34375,-2.485,-2.65475,-2.816,-2.985,-3.0935,-3.1855,-3.18525,-3.071,-2.9565,-2.8385,-2.65675,-2.53775,-2.40175,-2.4195,-2.385,-2.48675,-2.60175,-2.796,-2.955,-3.08975,-3.19075,-3.22525,-3.169,-3.103],[-3.02025,-2.79225,-2.5965,-2.40825,-2.2705,-2.1835,-2.22375,-2.2985,-2.44425,-2.65425,-2.83775,-3.00675,-3.13375,-3.212,-3.189,-3.0965,-2.964,-2.73025,-2.583,-2.43025,-2.304,-2.27375,-2.31275,-2.41325,-2.57925,-2.7685,-2.95475,-3.1115,-3.20675,-3.2505,-3.171,-3.0415],[-3.04725,-2.80575,-2.56275,-2.41425,-2.23925,-2.1855,-2.162,-2.25475,-2.406,-2.5525,-2.80475,-2.964,-3.12575,-3.1805,-3.18275,-3.0895,-2.9375,-2.7715,-2.556,-2.37975,-2.30025,-2.252,-2.371,-2.34175,-2.5175,-2.71475,-2.92175,-3.0955,-3.20475,-3.241,-3.19775,-3.093],[-3.00425,-2.783,-2.6085,-2.41,-2.23975,-2.1755,-2.17575,-2.21025,-2.39975,-2.592,-2.80925,-2.99375,-3.15,-3.19575,-3.21225,-3.088,-2.9295,-2.73,-2.55025,-2.406,-2.2595,-2.2415,-2.24775,-2.374,-2.58375,-2.7325,-2.93725,-3.084,-3.18475,-3.2505,-3.18975,-3.072],[-3.016,-2.79725,-2.60575,-2.4475,-2.2605,-2.2325,-2.24225,-2.26925,-2.436,-2.633,-2.8265,-2.99825,-3.11275,-3.17675,-3.1505,-3.07625,-2.92475,-2.77075,-2.59275,-2.42875,-2.28025,-2.2775,-2.287,-2.4195,-2.55475,-2.725,-2.92625,-3.0885,-3.1835,-3.20825,-3.15325,-3.02525],[-2.97925,-2.784,-2.592,-2.434,-2.309,-2.243,-2.25225,-2.30325,-2.44825,-2.6345,-2.837,-2.97,-3.12275,-3.1805,-3.14625,-3.0725,-2.91875,-2.76975,-2.606,-2.42775,-2.2815,-2.275,-2.3215,-2.389,-2.5505,-2.75,-2.90025,-3.069,-3.1345,-3.17875,-3.13275,-3.013],[-2.99825,-2.8025,-2.61,-2.499,-2.40675,-2.39625,-2.3425,-2.408,-2.5165,-2.66575,-2.8185,-2.976,-3.08825,-3.161,-3.122,-3.03575,-2.95175,-2.823,-2.637,-2.5005,-2.4195,-2.39375,-2.386,-2.472,-2.5995,-2.72075,-2.89825,-3.03825,-3.132,-3.15375,-3.10775,-3.03525],[-3.0065,-2.82325,-2.71975,-2.574,-2.46975,-2.39575,-2.43625,-2.488,-2.59725,-2.7355,-2.86025,-2.9655,-3.08075,-3.122,-3.12625,-3.06775,-2.9315,-2.84175,-2.67975,-2.572,-2.464,-2.4535,-2.44225,-2.5555,-2.65225,-2.76925,-2.9205,-3.02075,-3.11,-3.1345,-3.07525,-3.03125],[-2.97175,-2.854,-2.71525,-2.66525,-2.5855,-2.52875,-2.55675,-2.581,-2.66425,-2.72425,-2.87325,-2.965,-3.03525,-3.06625,-3.057,-3.02975,-2.9755,-2.8705,-2.73575,-2.6655,-2.57625,-2.545,-2.56875,-2.5855,-2.6825,-2.8005,-2.91775,-2.96275,-3.042,-3.081,-3.02125,-2.991],[-3.00775,-2.93,-2.832,-2.71525,-2.6325,-2.5915,-2.572,-2.61675,-2.6535,-2.7585,-2.835,-2.9295,-3.0325,-3.04825,-3.0825,-3.05925,-3.023,-2.935,-2.82975,-2.748,-2.6485,-2.656,-2.624,-2.64,-2.6875,-2.798,-2.85575,-2.9675,-3.0025,-3.04325,-3.07025,-3.01625],[-2.956,-2.9045,-2.86375,-2.82125,-2.7455,-2.73475,-2.68725,-2.6975,-2.715,-2.76075,-2.83425,-2.927,-2.9595,-3.025,-3.0495,-3.02075,-3.01525,-2.98175,-2.90775,-2.848,-2.7255,-2.7325,-2.70525,-2.6765,-2.71225,-2.768,-2.79125,-2.9115,-2.93325,-2.97125,-3.01575,-3.0005],[-3.0225,-2.9985,-2.95625,-2.915,-2.8535,-2.754,-2.7315,-2.6765,-2.65875,-2.6875,-2.7745,-2.80025,-2.9265,-2.9935,-3.021,-3.06225,-3.06925,-3.03925,-2.9885,-2.919,-2.86175,-2.775,-2.70625,-2.674,-2.66975,-2.66475,-2.753,-2.82425,-2.87775,-2.9695,-2.992,-3.0405],[-3.037,-3.024,-3.01775,-2.9545,-2.9115,-2.8165,-2.73975,-2.67825,-2.665,-2.66175,-2.707,-2.7555,-2.86075,-2.93725,-2.98025,-3.05825,-3.0625,-3.0765,-3.07575,-2.9615,-2.8885,-2.7945,-2.7275,-2.66,-2.6285,-2.6365,-2.67125,-2.7505,-2.79975,-2.8855,-2.94275,-3.00475],[-3.044,-3.08125,-3.08275,-3.05425,-2.956,-2.85725,-2.76475,-2.68575,-2.63375,-2.56275,-2.583,-2.6525,-2.722,-2.84275,-2.92525,-3.05075,-3.084,-3.134,-3.11025,-3.049,-2.97,-2.823,-2.745,-2.68325,-2.617,-2.56025,-2.58425,-2.6305,-2.7555,-2.81775,-2.93975,-3.00525],[-3.03275,-3.11975,-3.1075,-3.08175,-3.0055,-2.8735,-2.7505,-2.655,-2.51575,-2.46625,-2.51125,-2.527,-2.64525,-2.7595,-2.93575,-3.0385,-3.13875,-3.16225,-3.13425,-3.08975,-2.97225,-2.852,-2.72475,-2.59575,-2.509,-2.48025,-2.496,-2.554,-2.605,-2.74275,-2.892,-3.01825],[-3.045,-3.161,-3.16725,-3.14025,-3.0205,-2.90825,-2.7485,-2.597,-2.47375,-2.416,-2.397,-2.43825,-2.54225,-2.70225,-2.88025,-3.0275,-3.14225,-3.20725,-3.215,-3.15775,-3.03675,-2.87225,-2.6865,-2.53825,-2.426,-2.4075,-2.4445,-2.48475,-2.5935,-2.77025,-2.8895,-3.05025],[-3.052,-3.15275,-3.19125,-3.182,-3.051,-2.912,-2.7275,-2.56075,-2.40925,-2.33075,-2.26775,-2.38,-2.50225,-2.58675,-2.811,-3.00525,-3.14,-3.2135,-3.24125,-3.17825,-3.0485,-2.93325,-2.7355,-2.52225,-2.40225,-2.3305,-2.3115,-2.374,-2.48775,-2.65125,-2.84225,-3.00025],[-3.0595,-3.1715,-3.23225,-3.1925,-3.08825,-2.93475,-2.74525,-2.521,-2.34275,-2.23225,-2.20725,-2.58425,-2.40875,-2.566,-2.75425,-2.9775,-3.1325,-3.23825,-3.27925,-3.13375,-3.09,-2.884,-2.66175,-2.487,-2.362,-2.26375,-2.22025,-2.29275,-2.44375,-2.6315,-2.81225,-2.9835],[-3.07325,-3.20075,-3.26575,-3.21,-3.10025,-2.9115,-2.682,-2.50075,-2.275,-2.1635,-2.15825,-2.187,-2.3625,-2.55475,-2.7395,-2.966,-3.15525,-3.269,-3.3245,-3.23425,-3.1395,-2.92775,-2.6785,-2.47725,-2.2985,-2.205,-2.202,-2.23225,-2.38225,-2.58425,-2.77625,-3.00075],[-3.06325,-3.202,-3.25375,-3.239,-3.143,-2.967,-2.75625,-2.5235,-2.36375,-2.20625,-2.1465,-2.19325,-2.337,-2.5185,-2.7195,-2.96075,-3.143,-3.26125,-3.28975,-3.2555,-3.135,-2.95875,-2.727,-2.4875,-2.35025,-2.21325,-2.2055,-2.27425,-2.37475,-2.60525,-2.7935,-3.001],[-3.044,-3.20325,-3.25625,-3.23025,-3.14225,-2.9465,-2.72825,-2.5205,-2.357,-2.2115,-2.16975,-2.21775,-2.31825,-2.52725,-2.7395,-2.958,-3.154,-3.28025,-3.2935,-3.269,-3.15425,-2.96575,-2.7505,-2.53875,-2.3475,-2.27625,-2.1925,-2.3155,-2.37475,-2.59675,-2.82425,-2.99225],[-3.01275,-3.17425,-3.22525,-3.23175,-3.14725,-2.996,-2.791,-2.60225,-2.43275,-2.325,-2.2045,-2.26925,-2.366,-2.51275,-2.69675,-2.943,-3.0905,-3.2445,-3.28875,-3.26275,-3.16175,-3.027,-2.83675,-2.62975,-2.4525,-2.335,-2.28325,-2.365,-2.41575,-2.6415,-2.7905,-2.95125],[-3.057,-3.171,-3.21375,-3.2015,-3.092,-2.96525,-2.78525,-2.62375,-2.459,-2.3465,-2.3,-2.342,-2.4335,-2.579,-2.77825,-2.9545,-3.12225,-3.23425,-3.28175,-3.2515,-3.16875,-3.01,-2.828,-2.6605,-2.51725,-2.37875,-2.41225,-2.4155,-2.51875,-2.673,-2.8375,-2.986],[-3.015,-3.10625,-3.18325,-3.13475,-3.07625,-2.959,-2.81275,-2.6995,-2.57075,-2.4695,-2.42275,-2.45275,-2.52275,-2.60725,-2.799,-2.925,-3.05925,-3.20325,-3.229,-3.212,-3.156,-3.05175,-2.93325,-2.7795,-2.6355,-2.54875,-2.49475,-2.5065,-2.60925,-2.72,-2.86625,-2.972],[-3.03025,-3.075,-3.1215,-3.06125,-3.0325,-2.96325,-2.8135,-2.72425,-2.6185,-2.54325,-2.569,-2.554,-2.636,-2.7405,-2.80675,-2.95025,-3.06675,-3.16225,-3.18575,-3.175,-3.113,-3.01025,-2.8965,-2.81625,-2.7025,-2.67025,-2.638,-2.6385,-2.71,-2.778,-2.883,-2.989],[-2.96025,-2.99425,-3.01025,-3.00625,-2.94725,-2.8615,-2.8005,-2.75275,-2.66175,-2.635,-2.673,-2.66525,-2.71675,-2.786,-2.835,-2.9375,-3.022,-3.0655,-3.051,-3.0655,-3.04175,-2.9965,-2.90925,-2.8665,-2.807,-2.74825,-2.743,-2.77875,-2.798,-2.81975,-2.90275,-2.94225],[-2.967,-2.969,-2.9255,-2.90725,-2.855,-2.831,-2.764,-2.73725,-2.69625,-2.7,-2.7385,-2.7815,-2.8495,-2.86025,-2.93525,-2.9775,-2.99575,-3.00475,-3.0025,-2.97,-2.96075,-2.92025,-2.87825,-2.8375,-2.86275,-2.836,-2.84175,-2.859,-2.9335,-2.935,-2.94875,-2.97275]]},{\"hovertemplate\":\"x: %{x}<br>y: %{y}<br> z: %{text:.2f}<extra></extra>\",\"marker\":{\"color\":\"red\",\"line\":{\"width\":1},\"size\":16,\"symbol\":[204]},\"mode\":\"markers\",\"text\":[\"-3.3245\"],\"type\":\"scatter\",\"x\":[1.8],\"y\":[2.3000000000000003]}],                        {\"height\":700,\"template\":{\"data\":{\"bar\":[{\"error_x\":{\"color\":\"#2a3f5f\"},\"error_y\":{\"color\":\"#2a3f5f\"},\"marker\":{\"line\":{\"color\":\"#E5ECF6\",\"width\":0.5},\"pattern\":{\"fillmode\":\"overlay\",\"size\":10,\"solidity\":0.2}},\"type\":\"bar\"}],\"barpolar\":[{\"marker\":{\"line\":{\"color\":\"#E5ECF6\",\"width\":0.5},\"pattern\":{\"fillmode\":\"overlay\",\"size\":10,\"solidity\":0.2}},\"type\":\"barpolar\"}],\"carpet\":[{\"aaxis\":{\"endlinecolor\":\"#2a3f5f\",\"gridcolor\":\"white\",\"linecolor\":\"white\",\"minorgridcolor\":\"white\",\"startlinecolor\":\"#2a3f5f\"},\"baxis\":{\"endlinecolor\":\"#2a3f5f\",\"gridcolor\":\"white\",\"linecolor\":\"white\",\"minorgridcolor\":\"white\",\"startlinecolor\":\"#2a3f5f\"},\"type\":\"carpet\"}],\"choropleth\":[{\"colorbar\":{\"outlinewidth\":0,\"ticks\":\"\"},\"type\":\"choropleth\"}],\"contour\":[{\"colorbar\":{\"outlinewidth\":0,\"ticks\":\"\"},\"colorscale\":[[0.0,\"#0d0887\"],[0.1111111111111111,\"#46039f\"],[0.2222222222222222,\"#7201a8\"],[0.3333333333333333,\"#9c179e\"],[0.4444444444444444,\"#bd3786\"],[0.5555555555555556,\"#d8576b\"],[0.6666666666666666,\"#ed7953\"],[0.7777777777777778,\"#fb9f3a\"],[0.8888888888888888,\"#fdca26\"],[1.0,\"#f0f921\"]],\"type\":\"contour\"}],\"contourcarpet\":[{\"colorbar\":{\"outlinewidth\":0,\"ticks\":\"\"},\"type\":\"contourcarpet\"}],\"heatmap\":[{\"colorbar\":{\"outlinewidth\":0,\"ticks\":\"\"},\"colorscale\":[[0.0,\"#0d0887\"],[0.1111111111111111,\"#46039f\"],[0.2222222222222222,\"#7201a8\"],[0.3333333333333333,\"#9c179e\"],[0.4444444444444444,\"#bd3786\"],[0.5555555555555556,\"#d8576b\"],[0.6666666666666666,\"#ed7953\"],[0.7777777777777778,\"#fb9f3a\"],[0.8888888888888888,\"#fdca26\"],[1.0,\"#f0f921\"]],\"type\":\"heatmap\"}],\"heatmapgl\":[{\"colorbar\":{\"outlinewidth\":0,\"ticks\":\"\"},\"colorscale\":[[0.0,\"#0d0887\"],[0.1111111111111111,\"#46039f\"],[0.2222222222222222,\"#7201a8\"],[0.3333333333333333,\"#9c179e\"],[0.4444444444444444,\"#bd3786\"],[0.5555555555555556,\"#d8576b\"],[0.6666666666666666,\"#ed7953\"],[0.7777777777777778,\"#fb9f3a\"],[0.8888888888888888,\"#fdca26\"],[1.0,\"#f0f921\"]],\"type\":\"heatmapgl\"}],\"histogram\":[{\"marker\":{\"pattern\":{\"fillmode\":\"overlay\",\"size\":10,\"solidity\":0.2}},\"type\":\"histogram\"}],\"histogram2d\":[{\"colorbar\":{\"outlinewidth\":0,\"ticks\":\"\"},\"colorscale\":[[0.0,\"#0d0887\"],[0.1111111111111111,\"#46039f\"],[0.2222222222222222,\"#7201a8\"],[0.3333333333333333,\"#9c179e\"],[0.4444444444444444,\"#bd3786\"],[0.5555555555555556,\"#d8576b\"],[0.6666666666666666,\"#ed7953\"],[0.7777777777777778,\"#fb9f3a\"],[0.8888888888888888,\"#fdca26\"],[1.0,\"#f0f921\"]],\"type\":\"histogram2d\"}],\"histogram2dcontour\":[{\"colorbar\":{\"outlinewidth\":0,\"ticks\":\"\"},\"colorscale\":[[0.0,\"#0d0887\"],[0.1111111111111111,\"#46039f\"],[0.2222222222222222,\"#7201a8\"],[0.3333333333333333,\"#9c179e\"],[0.4444444444444444,\"#bd3786\"],[0.5555555555555556,\"#d8576b\"],[0.6666666666666666,\"#ed7953\"],[0.7777777777777778,\"#fb9f3a\"],[0.8888888888888888,\"#fdca26\"],[1.0,\"#f0f921\"]],\"type\":\"histogram2dcontour\"}],\"mesh3d\":[{\"colorbar\":{\"outlinewidth\":0,\"ticks\":\"\"},\"type\":\"mesh3d\"}],\"parcoords\":[{\"line\":{\"colorbar\":{\"outlinewidth\":0,\"ticks\":\"\"}},\"type\":\"parcoords\"}],\"pie\":[{\"automargin\":true,\"type\":\"pie\"}],\"scatter\":[{\"marker\":{\"colorbar\":{\"outlinewidth\":0,\"ticks\":\"\"}},\"type\":\"scatter\"}],\"scatter3d\":[{\"line\":{\"colorbar\":{\"outlinewidth\":0,\"ticks\":\"\"}},\"marker\":{\"colorbar\":{\"outlinewidth\":0,\"ticks\":\"\"}},\"type\":\"scatter3d\"}],\"scattercarpet\":[{\"marker\":{\"colorbar\":{\"outlinewidth\":0,\"ticks\":\"\"}},\"type\":\"scattercarpet\"}],\"scattergeo\":[{\"marker\":{\"colorbar\":{\"outlinewidth\":0,\"ticks\":\"\"}},\"type\":\"scattergeo\"}],\"scattergl\":[{\"marker\":{\"colorbar\":{\"outlinewidth\":0,\"ticks\":\"\"}},\"type\":\"scattergl\"}],\"scattermapbox\":[{\"marker\":{\"colorbar\":{\"outlinewidth\":0,\"ticks\":\"\"}},\"type\":\"scattermapbox\"}],\"scatterpolar\":[{\"marker\":{\"colorbar\":{\"outlinewidth\":0,\"ticks\":\"\"}},\"type\":\"scatterpolar\"}],\"scatterpolargl\":[{\"marker\":{\"colorbar\":{\"outlinewidth\":0,\"ticks\":\"\"}},\"type\":\"scatterpolargl\"}],\"scatterternary\":[{\"marker\":{\"colorbar\":{\"outlinewidth\":0,\"ticks\":\"\"}},\"type\":\"scatterternary\"}],\"surface\":[{\"colorbar\":{\"outlinewidth\":0,\"ticks\":\"\"},\"colorscale\":[[0.0,\"#0d0887\"],[0.1111111111111111,\"#46039f\"],[0.2222222222222222,\"#7201a8\"],[0.3333333333333333,\"#9c179e\"],[0.4444444444444444,\"#bd3786\"],[0.5555555555555556,\"#d8576b\"],[0.6666666666666666,\"#ed7953\"],[0.7777777777777778,\"#fb9f3a\"],[0.8888888888888888,\"#fdca26\"],[1.0,\"#f0f921\"]],\"type\":\"surface\"}],\"table\":[{\"cells\":{\"fill\":{\"color\":\"#EBF0F8\"},\"line\":{\"color\":\"white\"}},\"header\":{\"fill\":{\"color\":\"#C8D4E3\"},\"line\":{\"color\":\"white\"}},\"type\":\"table\"}]},\"layout\":{\"annotationdefaults\":{\"arrowcolor\":\"#2a3f5f\",\"arrowhead\":0,\"arrowwidth\":1},\"autotypenumbers\":\"strict\",\"coloraxis\":{\"colorbar\":{\"outlinewidth\":0,\"ticks\":\"\"}},\"colorscale\":{\"diverging\":[[0,\"#8e0152\"],[0.1,\"#c51b7d\"],[0.2,\"#de77ae\"],[0.3,\"#f1b6da\"],[0.4,\"#fde0ef\"],[0.5,\"#f7f7f7\"],[0.6,\"#e6f5d0\"],[0.7,\"#b8e186\"],[0.8,\"#7fbc41\"],[0.9,\"#4d9221\"],[1,\"#276419\"]],\"sequential\":[[0.0,\"#0d0887\"],[0.1111111111111111,\"#46039f\"],[0.2222222222222222,\"#7201a8\"],[0.3333333333333333,\"#9c179e\"],[0.4444444444444444,\"#bd3786\"],[0.5555555555555556,\"#d8576b\"],[0.6666666666666666,\"#ed7953\"],[0.7777777777777778,\"#fb9f3a\"],[0.8888888888888888,\"#fdca26\"],[1.0,\"#f0f921\"]],\"sequentialminus\":[[0.0,\"#0d0887\"],[0.1111111111111111,\"#46039f\"],[0.2222222222222222,\"#7201a8\"],[0.3333333333333333,\"#9c179e\"],[0.4444444444444444,\"#bd3786\"],[0.5555555555555556,\"#d8576b\"],[0.6666666666666666,\"#ed7953\"],[0.7777777777777778,\"#fb9f3a\"],[0.8888888888888888,\"#fdca26\"],[1.0,\"#f0f921\"]]},\"colorway\":[\"#636efa\",\"#EF553B\",\"#00cc96\",\"#ab63fa\",\"#FFA15A\",\"#19d3f3\",\"#FF6692\",\"#B6E880\",\"#FF97FF\",\"#FECB52\"],\"font\":{\"color\":\"#2a3f5f\"},\"geo\":{\"bgcolor\":\"white\",\"lakecolor\":\"white\",\"landcolor\":\"#E5ECF6\",\"showlakes\":true,\"showland\":true,\"subunitcolor\":\"white\"},\"hoverlabel\":{\"align\":\"left\"},\"hovermode\":\"closest\",\"mapbox\":{\"style\":\"light\"},\"paper_bgcolor\":\"white\",\"plot_bgcolor\":\"#E5ECF6\",\"polar\":{\"angularaxis\":{\"gridcolor\":\"white\",\"linecolor\":\"white\",\"ticks\":\"\"},\"bgcolor\":\"#E5ECF6\",\"radialaxis\":{\"gridcolor\":\"white\",\"linecolor\":\"white\",\"ticks\":\"\"}},\"scene\":{\"xaxis\":{\"backgroundcolor\":\"#E5ECF6\",\"gridcolor\":\"white\",\"gridwidth\":2,\"linecolor\":\"white\",\"showbackground\":true,\"ticks\":\"\",\"zerolinecolor\":\"white\"},\"yaxis\":{\"backgroundcolor\":\"#E5ECF6\",\"gridcolor\":\"white\",\"gridwidth\":2,\"linecolor\":\"white\",\"showbackground\":true,\"ticks\":\"\",\"zerolinecolor\":\"white\"},\"zaxis\":{\"backgroundcolor\":\"#E5ECF6\",\"gridcolor\":\"white\",\"gridwidth\":2,\"linecolor\":\"white\",\"showbackground\":true,\"ticks\":\"\",\"zerolinecolor\":\"white\"}},\"shapedefaults\":{\"line\":{\"color\":\"#2a3f5f\"}},\"ternary\":{\"aaxis\":{\"gridcolor\":\"white\",\"linecolor\":\"white\",\"ticks\":\"\"},\"baxis\":{\"gridcolor\":\"white\",\"linecolor\":\"white\",\"ticks\":\"\"},\"bgcolor\":\"#E5ECF6\",\"caxis\":{\"gridcolor\":\"white\",\"linecolor\":\"white\",\"ticks\":\"\"}},\"title\":{\"x\":0.05},\"xaxis\":{\"automargin\":true,\"gridcolor\":\"white\",\"linecolor\":\"white\",\"ticks\":\"\",\"title\":{\"standoff\":15},\"zerolinecolor\":\"white\",\"zerolinewidth\":2},\"yaxis\":{\"automargin\":true,\"gridcolor\":\"white\",\"linecolor\":\"white\",\"ticks\":\"\",\"title\":{\"standoff\":15},\"zerolinecolor\":\"white\",\"zerolinewidth\":2}}},\"title\":{\"text\":\"F(\\u03b3,\\u03b2)\"},\"width\":700,\"xaxis\":{\"title\":{\"text\":\"\\u03b3\"}},\"yaxis\":{\"title\":{\"text\":\"\\u03b2\"}}},                        {\"responsive\": true}                    ).then(function(){\n",
       "                            \n",
       "var gd = document.getElementById('0fa632b9-097d-45a2-92e1-04a111eba389');\n",
       "var x = new MutationObserver(function (mutations, observer) {{\n",
       "        var display = window.getComputedStyle(gd).display;\n",
       "        if (!display || display === 'none') {{\n",
       "            console.log([gd, 'removed!']);\n",
       "            Plotly.purge(gd);\n",
       "            observer.disconnect();\n",
       "        }}\n",
       "}});\n",
       "\n",
       "// Listen for the removal of the full notebook cells\n",
       "var notebookContainer = gd.closest('#notebook-container');\n",
       "if (notebookContainer) {{\n",
       "    x.observe(notebookContainer, {childList: true});\n",
       "}}\n",
       "\n",
       "// Listen for the clearing of the current output cell\n",
       "var outputEl = gd.closest('.output');\n",
       "if (outputEl) {{\n",
       "    x.observe(outputEl, {childList: true});\n",
       "}}\n",
       "\n",
       "                        })                };                });            </script>        </div>"
      ]
     },
     "metadata": {},
     "output_type": "display_data"
    }
   ],
   "source": [
    "# Plot Heatmap \n",
    "fig = go.Figure(data=go.Heatmap(z=landscape, y=b_beta, x=a_gamma, type = 'heatmap', colorscale = 'viridis'))\n",
    "\n",
    "# Update Layout\n",
    "fig.update_layout(title=\"F(γ,β)\", width=700, height=700, yaxis_title=\"β\", xaxis_title=\"γ\")\n",
    "\n",
    "# Display Global Minimium \n",
    "fig.add_trace(\n",
    "    go.Scatter(mode=\"markers\", x=[opt_beta], y=[opt_gamma], marker_symbol=[204], text = [landscape[gamma,beta]],\n",
    "                   marker_color=\"red\",  hovertemplate=\"x: %{x}<br>y: %{y}<br> z: %{text:.2f}<extra></extra>\", \n",
    "                   marker_line_width=1, marker_size=16))"
   ]
  },
  {
   "cell_type": "code",
   "execution_count": null,
   "id": "5eef23c8",
   "metadata": {},
   "outputs": [],
   "source": [
    "# Display Optimizer Results\n",
    "\n",
    "# Display path \n",
    "#fig.add_trace(\n",
    "#    go.Scatter(mode=\"lines\", x=gammas, y=betas, marker_symbol=[200],\n",
    "#                   marker_color=\"white\", marker_line_width=1, marker_size=8)\n",
    "#)\n",
    "\n",
    "# Display start point\n",
    "#fig.add_trace(\n",
    "#    go.Scatter(mode=\"markers\", x=[gammas[0]], y=[betas[0]], marker_symbol=[204],\n",
    "#                   marker_color=\"gray\", \n",
    "#                   marker_line_width=1, marker_size=16))\n",
    "\n",
    "# Display end point\n",
    "#fig.add_trace(\n",
    "#    go.Scatter(mode=\"markers\", x=[gammas[-1]], y=[betas[-1]], marker_symbol=[204],\n",
    "#                   marker_color=\"green\", \n",
    "#                   marker_line_width=1, marker_size=16))\n",
    "\n"
   ]
  },
  {
   "cell_type": "code",
   "execution_count": null,
   "id": "5191a47a",
   "metadata": {},
   "outputs": [],
   "source": [
    "# Plot Optimizer History\n",
    "#fig = go.Figure(data=go.Scatter(x=counts, y=values))\n",
    "#fig.update_layout(xaxis_title=\"Evaluation Counts\", yaxis_title=\"Evaluated Mean\", title=\"Optimizer\")\n",
    "#fig.show()"
   ]
  },
  {
   "cell_type": "code",
   "execution_count": null,
   "id": "64b6705c",
   "metadata": {},
   "outputs": [],
   "source": []
  }
 ],
 "metadata": {
  "kernelspec": {
   "display_name": "python3.8",
   "language": "python",
   "name": "python3.8"
  },
  "language_info": {
   "codemirror_mode": {
    "name": "ipython",
    "version": 3
   },
   "file_extension": ".py",
   "mimetype": "text/x-python",
   "name": "python",
   "nbconvert_exporter": "python",
   "pygments_lexer": "ipython3",
   "version": "3.8.6"
  }
 },
 "nbformat": 4,
 "nbformat_minor": 5
}
