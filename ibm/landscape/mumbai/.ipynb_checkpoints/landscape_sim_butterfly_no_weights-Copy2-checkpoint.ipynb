{
 "cells": [
  {
   "cell_type": "code",
   "execution_count": 1,
   "id": "dde058d6",
   "metadata": {},
   "outputs": [],
   "source": [
    "import sys\n",
    "import os\n",
    "sys.path.insert(0, os.path.abspath('../'))\n",
    "sys.path.insert(0, os.path.abspath('../../'))\n",
    "sys.path.insert(0, os.path.abspath('/home/hm-tlacherm/qlm_notebooks/notebooks_1.2.1/notebooks/master_thesis_qaoa/'))\n",
    "sys.path.insert(0, os.path.abspath('/home/hm-tlacherm/qlm_notebooks/notebooks_1.2.1/notebooks/master_thesis_qaoa/ibm/'))"
   ]
  },
  {
   "cell_type": "code",
   "execution_count": 2,
   "id": "90e50f64",
   "metadata": {},
   "outputs": [],
   "source": [
    "import numpy as np\n",
    "\n",
    "import qiskit\n",
    "provider = qiskit.IBMQ.load_account()\n",
    "from qiskit import Aer\n",
    "from qiskit.utils import QuantumInstance\n",
    "from qiskit_optimization.algorithms import MinimumEigenOptimizer\n",
    "from qiskit.algorithms import QAOA\n",
    "from shared.QiskitMaxcut import *\n",
    "from ibm.ibm_parameters import *\n",
    "\n",
    "from matplotlib import pyplot as plt\n",
    "%matplotlib inline"
   ]
  },
  {
   "cell_type": "code",
   "execution_count": 3,
   "id": "f292e07e",
   "metadata": {},
   "outputs": [],
   "source": [
    "import networkx as nx\n",
    "import numpy as np\n",
    "\n",
    "def generate_butterfly_graph(with_weights=True):\n",
    "    # Generate a graph of 5 nodes\n",
    "    n = 5\n",
    "    graph = nx.Graph()\n",
    "    graph.add_nodes_from(np.arange(0, n, 1))\n",
    "    if with_weights:\n",
    "        elist = [(0, 1, 9), (0, 2, 6), (1, 2, 9), (2, 3, 10), (2, 4, 7), (3, 4, 7)]\n",
    "    else:\n",
    "        elist = [(0, 1, 1), (0, 2, 1), (1, 2, 1), (2, 3, 1), (2, 4, 1), (3, 4, 1)]\n",
    "    graph.add_weighted_edges_from(elist)\n",
    "    return graph"
   ]
  },
  {
   "cell_type": "code",
   "execution_count": 45,
   "id": "490154d4",
   "metadata": {},
   "outputs": [
    {
     "name": "stdout",
     "output_type": "stream",
     "text": [
      "\n"
     ]
    },
    {
     "data": {
      "image/png": "[encoded data removed]",
      "text/plain": [
       "<Figure size 432x288 with 1 Axes>"
      ]
     },
     "metadata": {},
     "output_type": "display_data"
    }
   ],
   "source": [
    "graph = generate_butterfly_graph(with_weights=True)\n",
    "max_cut = Maxcut(graph)\n",
    "max_cut_qubo = max_cut.to_qubo()\n",
    "print(graph.name)\n",
    "max_cut.draw()"
   ]
  },
  {
   "cell_type": "code",
   "execution_count": 46,
   "id": "0f8b6ee9",
   "metadata": {},
   "outputs": [],
   "source": [
    "step_size = 0.05\n",
    "gamma_range = np.arange(0, np.pi/2, step_size)\n",
    "beta_range = np.arange(0, np.pi/2, step_size)"
   ]
  },
  {
   "cell_type": "code",
   "execution_count": 47,
   "id": "23680b53",
   "metadata": {},
   "outputs": [],
   "source": [
    "b_beta, g_gamma = np.meshgrid(beta_range, gamma_range)"
   ]
  },
  {
   "cell_type": "code",
   "execution_count": 48,
   "id": "59f5de25",
   "metadata": {},
   "outputs": [
    {
     "data": {
      "text/plain": [
       "'qasm_simulator'"
      ]
     },
     "execution_count": 48,
     "metadata": {},
     "output_type": "execute_result"
    }
   ],
   "source": [
    "DEFAULT_QASM_SIMULATOR"
   ]
  },
  {
   "cell_type": "code",
   "execution_count": 49,
   "id": "78b7366f",
   "metadata": {},
   "outputs": [],
   "source": [
    "quantum_instance = QuantumInstance(\n",
    "                    backend=Aer.get_backend(DEFAULT_QASM_SIMULATOR),\n",
    "                    shots=SHOTS)\n",
    "qaoa = QAOA(\n",
    "            optimizer=COBYLA(maxiter=0),\n",
    "            quantum_instance=quantum_instance,\n",
    "            reps=1\n",
    "            )\n",
    "\n",
    "op, offset = max_cut_qubo.to_ising()"
   ]
  },
  {
   "cell_type": "code",
   "execution_count": 50,
   "id": "6f4351c4",
   "metadata": {},
   "outputs": [],
   "source": [
    "def maxcut_obj(x, G):\n",
    "    \"\"\"\n",
    "    Given a bitstring as a solution, this function returns\n",
    "    the number of edges shared between the two partitions\n",
    "    of the graph.\n",
    "    \n",
    "    Args:\n",
    "        x: str\n",
    "           solution bitstring\n",
    "           \n",
    "        G: networkx graph\n",
    "        \n",
    "    Returns:\n",
    "        obj: float\n",
    "             Objective\n",
    "    \"\"\"\n",
    "    obj = 0\n",
    "    for i,j,w in graph.edges.data('weight'):\n",
    "        if x[i] != x[j]:\n",
    "            obj -= w\n",
    "            \n",
    "    return obj\n",
    "\n",
    "\n",
    "def compute_expectation(counts, G):\n",
    "    \n",
    "    \"\"\"\n",
    "    Computes expectation value based on measurement results\n",
    "    \n",
    "    Args:\n",
    "        counts: dict\n",
    "                key as bitstring, val as count\n",
    "           \n",
    "        G: networkx graph\n",
    "        \n",
    "    Returns:\n",
    "        avg: float\n",
    "             expectation value\n",
    "    \"\"\"\n",
    "    \n",
    "    avg = 0\n",
    "    sum_count = 0\n",
    "    for bitstring, count in counts.items():\n",
    "        \n",
    "        obj = maxcut_obj(bitstring, G)\n",
    "        avg += obj * count\n",
    "        sum_count += count\n",
    "        \n",
    "    return avg/sum_count"
   ]
  },
  {
   "cell_type": "code",
   "execution_count": 51,
   "id": "c856cd7e",
   "metadata": {},
   "outputs": [],
   "source": [
    "def create_cirucit(beta,gamma):\n",
    "    circuits = qaoa.construct_circuit([beta,gamma], operator=op)\n",
    "    circuit = circuits[0]\n",
    "    circuit.measure_all()\n",
    "    return circuit"
   ]
  },
  {
   "cell_type": "code",
   "execution_count": null,
   "id": "df7e6bfe",
   "metadata": {},
   "outputs": [
    {
     "name": "stdout",
     "output_type": "stream",
     "text": [
      "................."
     ]
    }
   ],
   "source": [
    "landscape = np.zeros(b_beta.shape)\n",
    "\n",
    "for i in range(0, len(landscape)):\n",
    "    circuits = []\n",
    "    for j in range(0, len(landscape)):\n",
    "        # create circuits for entire row \n",
    "        circuit = create_cirucit(b_beta[i][j], g_gamma[i][j])\n",
    "        circuits.append(circuit)\n",
    "    \n",
    "    # create one job with circuits \n",
    "    job_name = f\"{graph.name}_row_{i}\"\n",
    "    job = qiskit.execute(circuits, backend=Aer.get_backend('qasm_simulator'), shots=1024)\n",
    "    #job.update_name(job_name)\n",
    "    #print(job_name)\n",
    "    print(\".\", end=\"\")\n",
    "    \n",
    "    # add results to landscape \n",
    "    j = 0\n",
    "    for count in job.result().get_counts():\n",
    "        mean = compute_expectation(count, graph)\n",
    "        landscape[i,j] = mean\n",
    "        j += 1\n"
   ]
  },
  {
   "cell_type": "code",
   "execution_count": null,
   "id": "ef920d91",
   "metadata": {},
   "outputs": [],
   "source": [
    "c = create_cirucit(5.,1.0)\n",
    "_=c.draw('mpl')"
   ]
  },
  {
   "cell_type": "code",
   "execution_count": 33,
   "id": "72210a25",
   "metadata": {},
   "outputs": [
    {
     "name": "stdout",
     "output_type": "stream",
     "text": [
      "[[-3.04492188 -2.95703125 -3.06640625 ... -3.05078125 -3.01171875\n",
      "  -3.01367188]\n",
      " [-3.00585938 -2.97070312 -2.8671875  ... -2.97265625 -2.93945312\n",
      "  -3.03320312]\n",
      " [-2.97070312 -2.93164062 -2.88085938 ... -2.8125     -2.95117188\n",
      "  -2.96289062]\n",
      " ...\n",
      " [-2.9921875  -3.015625   -3.12695312 ... -3.04101562 -2.93554688\n",
      "  -2.91992188]\n",
      " [-3.01171875 -2.984375   -3.1171875  ... -2.99023438 -2.99609375\n",
      "  -3.03320312]\n",
      " [-3.02148438 -3.02734375 -3.03125    ... -2.99804688 -3.0703125\n",
      "  -3.06054688]]\n"
     ]
    },
    {
     "data": {
      "image/png": "[encoded data removed]",
      "text/plain": [
       "<Figure size 288x288 with 1 Axes>"
      ]
     },
     "metadata": {
      "needs_background": "light"
     },
     "output_type": "display_data"
    }
   ],
   "source": [
    "print(landscape)\n",
    "plt.matshow(landscape)\n",
    "plt.show()"
   ]
  },
  {
   "cell_type": "code",
   "execution_count": 34,
   "id": "4f63a47a",
   "metadata": {},
   "outputs": [
    {
     "data": {
      "text/plain": [
       "-2.6393566131591797"
      ]
     },
     "execution_count": 34,
     "metadata": {},
     "output_type": "execute_result"
    }
   ],
   "source": [
    "# Mean of landscape\n",
    "np.mean(landscape)"
   ]
  },
  {
   "cell_type": "code",
   "execution_count": 35,
   "id": "e742c158",
   "metadata": {},
   "outputs": [
    {
     "data": {
      "text/plain": [
       "-3.955078125"
      ]
     },
     "execution_count": 35,
     "metadata": {},
     "output_type": "execute_result"
    }
   ],
   "source": [
    "# Minimium \n",
    "np.min(landscape)"
   ]
  },
  {
   "cell_type": "code",
   "execution_count": 36,
   "id": "ae65efa0",
   "metadata": {},
   "outputs": [
    {
     "data": {
      "text/plain": [
       "(25, 12)"
      ]
     },
     "execution_count": 36,
     "metadata": {},
     "output_type": "execute_result"
    }
   ],
   "source": [
    "# Display Coordinates of Minimum \n",
    "np.unravel_index(np.argmin(landscape), landscape.shape)"
   ]
  },
  {
   "cell_type": "code",
   "execution_count": 37,
   "id": "6cbfafc8",
   "metadata": {},
   "outputs": [
    {
     "name": "stdout",
     "output_type": "stream",
     "text": [
      "Opt.Gamma: 0.6000000000000001, Opt.Beta: 1.25\n"
     ]
    }
   ],
   "source": [
    "# Gamma and beta value of Minimium\n",
    "beta, gamma = np.unravel_index(np.argmin(landscape), landscape.shape)\n",
    "opt_gamma = gamma_range[gamma]\n",
    "opt_beta = beta_range[beta]\n",
    "print(f\"Opt.Gamma: {opt_gamma}, Opt.Beta: {opt_beta}\")"
   ]
  },
  {
   "cell_type": "code",
   "execution_count": 38,
   "id": "f21fb628",
   "metadata": {},
   "outputs": [],
   "source": [
    "# Save result matrix \n",
    "#with open('landscape_toronto_butterfly_weights_results.npy', 'wb') as f:\n",
    "#    np.save(f, landscape)"
   ]
  },
  {
   "cell_type": "code",
   "execution_count": 39,
   "id": "89108027",
   "metadata": {},
   "outputs": [],
   "source": [
    "import plotly.graph_objects as go"
   ]
  },
  {
   "cell_type": "code",
   "execution_count": 40,
   "id": "d49b43ca",
   "metadata": {},
   "outputs": [
    {
     "data": {
      "application/vnd.plotly.v1+json": {
       "config": {
        "plotlyServerURL": "https://plot.ly"
       },
       "data": [
        {
         "contours": {
          "z": {
           "highlightcolor": "limegreen",
           "project": {
            "z": true
           },
           "show": true,
           "usecolormap": true
          }
         },
         "type": "surface",
         "x": [
          0,
          0.05,
          0.1,
          0.15000000000000002,
          0.2,
          0.25,
          0.30000000000000004,
          0.35000000000000003,
          0.4,
          0.45,
          0.5,
          0.55,
          0.6000000000000001,
          0.65,
          0.7000000000000001,
          0.75,
          0.8,
          0.8500000000000001,
          0.9,
          0.9500000000000001,
          1,
          1.05,
          1.1,
          1.1500000000000001,
          1.2000000000000002,
          1.25,
          1.3,
          1.35,
          1.4000000000000001,
          1.4500000000000002,
          1.5,
          1.55
         ],
         "y": [
          0,
          0.05,
          0.1,
          0.15000000000000002,
          0.2,
          0.25,
          0.30000000000000004,
          0.35000000000000003,
          0.4,
          0.45,
          0.5,
          0.55,
          0.6000000000000001,
          0.65,
          0.7000000000000001,
          0.75,
          0.8,
          0.8500000000000001,
          0.9,
          0.9500000000000001,
          1,
          1.05,
          1.1,
          1.1500000000000001,
          1.2000000000000002,
          1.25,
          1.3,
          1.35,
          1.4000000000000001,
          1.4500000000000002,
          1.5,
          1.55
         ],
         "z": [
          [
           -3.044921875,
           -2.95703125,
           -3.06640625,
           -2.99609375,
           -2.978515625,
           -3.05078125,
           -3.0234375,
           -3.009765625,
           -3.05078125,
           -3.0234375,
           -3.044921875,
           -2.966796875,
           -3.052734375,
           -3.005859375,
           -2.958984375,
           -3.03515625,
           -2.9765625,
           -3.083984375,
           -3.05078125,
           -3.001953125,
           -3.068359375,
           -3.025390625,
           -2.978515625,
           -2.97265625,
           -3.044921875,
           -2.986328125,
           -2.962890625,
           -3.041015625,
           -2.896484375,
           -3.05078125,
           -3.01171875,
           -3.013671875
          ],
          [
           -3.005859375,
           -2.970703125,
           -2.8671875,
           -2.9609375,
           -2.89453125,
           -2.865234375,
           -2.833984375,
           -2.8046875,
           -2.775390625,
           -2.708984375,
           -2.794921875,
           -2.80859375,
           -2.73828125,
           -2.66015625,
           -2.755859375,
           -2.71484375,
           -2.68359375,
           -2.78125,
           -2.73828125,
           -2.748046875,
           -2.87890625,
           -2.8046875,
           -2.810546875,
           -2.845703125,
           -2.873046875,
           -2.81640625,
           -2.865234375,
           -2.9375,
           -2.953125,
           -2.97265625,
           -2.939453125,
           -3.033203125
          ],
          [
           -2.970703125,
           -2.931640625,
           -2.880859375,
           -2.869140625,
           -2.79296875,
           -2.71875,
           -2.71875,
           -2.708984375,
           -2.61328125,
           -2.6171875,
           -2.49609375,
           -2.427734375,
           -2.529296875,
           -2.451171875,
           -2.484375,
           -2.46875,
           -2.517578125,
           -2.451171875,
           -2.46875,
           -2.48828125,
           -2.53515625,
           -2.56640625,
           -2.55859375,
           -2.58203125,
           -2.671875,
           -2.779296875,
           -2.79296875,
           -2.763671875,
           -2.865234375,
           -2.8125,
           -2.951171875,
           -2.962890625
          ],
          [
           -3.017578125,
           -2.876953125,
           -2.83203125,
           -2.7890625,
           -2.685546875,
           -2.55078125,
           -2.45703125,
           -2.44921875,
           -2.396484375,
           -2.375,
           -2.28125,
           -2.283203125,
           -2.23828125,
           -2.208984375,
           -2.21875,
           -2.216796875,
           -2.1796875,
           -2.220703125,
           -2.28515625,
           -2.3046875,
           -2.326171875,
           -2.380859375,
           -2.390625,
           -2.41015625,
           -2.505859375,
           -2.580078125,
           -2.587890625,
           -2.69921875,
           -2.755859375,
           -2.744140625,
           -2.869140625,
           -2.849609375
          ],
          [
           -3.046875,
           -2.89453125,
           -2.79296875,
           -2.697265625,
           -2.619140625,
           -2.39453125,
           -2.380859375,
           -2.357421875,
           -2.224609375,
           -2.193359375,
           -2.078125,
           -1.9921875,
           -1.94921875,
           -1.97265625,
           -2.009765625,
           -1.98828125,
           -1.94140625,
           -1.943359375,
           -2.029296875,
           -2.04296875,
           -2.087890625,
           -2.173828125,
           -2.267578125,
           -2.18359375,
           -2.33203125,
           -2.388671875,
           -2.4296875,
           -2.53515625,
           -2.51171875,
           -2.6953125,
           -2.76171875,
           -2.796875
          ],
          [
           -2.982421875,
           -2.85546875,
           -2.763671875,
           -2.599609375,
           -2.498046875,
           -2.423828125,
           -2.208984375,
           -2.21484375,
           -2.099609375,
           -1.99609375,
           -1.919921875,
           -1.81640625,
           -1.8359375,
           -1.744140625,
           -1.701171875,
           -1.6875,
           -1.724609375,
           -1.705078125,
           -1.8125,
           -1.84765625,
           -1.88671875,
           -1.958984375,
           -1.9453125,
           -2.087890625,
           -2.154296875,
           -2.234375,
           -2.353515625,
           -2.443359375,
           -2.494140625,
           -2.572265625,
           -2.587890625,
           -2.724609375
          ],
          [
           -3.0078125,
           -2.84765625,
           -2.791015625,
           -2.505859375,
           -2.439453125,
           -2.228515625,
           -2.140625,
           -2.046875,
           -1.92578125,
           -1.80859375,
           -1.6796875,
           -1.625,
           -1.61328125,
           -1.587890625,
           -1.46875,
           -1.5546875,
           -1.546875,
           -1.576171875,
           -1.5390625,
           -1.62109375,
           -1.623046875,
           -1.75390625,
           -1.775390625,
           -1.95703125,
           -2.001953125,
           -2.07421875,
           -2.125,
           -2.259765625,
           -2.33203125,
           -2.396484375,
           -2.5234375,
           -2.65625
          ],
          [
           -3.015625,
           -2.828125,
           -2.716796875,
           -2.517578125,
           -2.361328125,
           -2.154296875,
           -2.076171875,
           -1.9296875,
           -1.826171875,
           -1.625,
           -1.57421875,
           -1.548828125,
           -1.5,
           -1.4765625,
           -1.388671875,
           -1.291015625,
           -1.345703125,
           -1.31640625,
           -1.412109375,
           -1.4453125,
           -1.490234375,
           -1.603515625,
           -1.7265625,
           -1.732421875,
           -1.771484375,
           -1.892578125,
           -2.04296875,
           -2.025390625,
           -2.333984375,
           -2.341796875,
           -2.458984375,
           -2.5625
          ],
          [
           -2.99609375,
           -2.90625,
           -2.642578125,
           -2.58203125,
           -2.388671875,
           -2.248046875,
           -2.080078125,
           -1.953125,
           -1.736328125,
           -1.6015625,
           -1.580078125,
           -1.427734375,
           -1.27734375,
           -1.28515625,
           -1.271484375,
           -1.2265625,
           -1.150390625,
           -1.3125,
           -1.26953125,
           -1.318359375,
           -1.419921875,
           -1.443359375,
           -1.494140625,
           -1.623046875,
           -1.77734375,
           -1.8125,
           -1.927734375,
           -2.009765625,
           -2.1640625,
           -2.1953125,
           -2.39453125,
           -2.47265625
          ],
          [
           -3.0234375,
           -2.91015625,
           -2.740234375,
           -2.556640625,
           -2.337890625,
           -2.177734375,
           -2.064453125,
           -1.880859375,
           -1.728515625,
           -1.685546875,
           -1.482421875,
           -1.41796875,
           -1.30078125,
           -1.255859375,
           -1.19921875,
           -1.220703125,
           -1.17578125,
           -1.083984375,
           -1.15625,
           -1.33203125,
           -1.240234375,
           -1.3203125,
           -1.451171875,
           -1.53515625,
           -1.583984375,
           -1.8125,
           -1.845703125,
           -1.935546875,
           -1.994140625,
           -2.107421875,
           -2.2421875,
           -2.287109375
          ],
          [
           -2.974609375,
           -2.8671875,
           -2.755859375,
           -2.623046875,
           -2.40625,
           -2.232421875,
           -2.1015625,
           -1.962890625,
           -1.802734375,
           -1.73046875,
           -1.505859375,
           -1.439453125,
           -1.380859375,
           -1.236328125,
           -1.271484375,
           -1.21484375,
           -1.12890625,
           -1.158203125,
           -1.162109375,
           -1.21875,
           -1.28125,
           -1.318359375,
           -1.416015625,
           -1.54296875,
           -1.583984375,
           -1.62890625,
           -1.728515625,
           -1.90625,
           -1.955078125,
           -2.046875,
           -2.181640625,
           -2.2890625
          ],
          [
           -3.013671875,
           -2.875,
           -2.765625,
           -2.5546875,
           -2.466796875,
           -2.28515625,
           -2.1953125,
           -2.02734375,
           -1.771484375,
           -1.736328125,
           -1.630859375,
           -1.486328125,
           -1.435546875,
           -1.32421875,
           -1.25,
           -1.228515625,
           -1.1796875,
           -1.1953125,
           -1.193359375,
           -1.259765625,
           -1.26953125,
           -1.322265625,
           -1.400390625,
           -1.421875,
           -1.556640625,
           -1.607421875,
           -1.826171875,
           -1.7578125,
           -1.95703125,
           -2.0234375,
           -2.1015625,
           -2.20703125
          ],
          [
           -3.013671875,
           -2.923828125,
           -2.7578125,
           -2.755859375,
           -2.484375,
           -2.388671875,
           -2.22265625,
           -2.0859375,
           -1.880859375,
           -1.833984375,
           -1.681640625,
           -1.56640625,
           -1.498046875,
           -1.380859375,
           -1.33203125,
           -1.384765625,
           -1.296875,
           -1.330078125,
           -1.265625,
           -1.279296875,
           -1.34765625,
           -1.349609375,
           -1.404296875,
           -1.458984375,
           -1.595703125,
           -1.69140625,
           -1.72265625,
           -1.77734375,
           -1.837890625,
           -1.927734375,
           -2.029296875,
           -2.16015625
          ],
          [
           -3.033203125,
           -2.96484375,
           -2.78125,
           -2.74609375,
           -2.517578125,
           -2.453125,
           -2.28515625,
           -2.251953125,
           -2.11328125,
           -2.001953125,
           -1.873046875,
           -1.73828125,
           -1.59765625,
           -1.560546875,
           -1.4765625,
           -1.40625,
           -1.42578125,
           -1.470703125,
           -1.341796875,
           -1.4453125,
           -1.39453125,
           -1.458984375,
           -1.482421875,
           -1.470703125,
           -1.669921875,
           -1.64453125,
           -1.7109375,
           -1.794921875,
           -1.896484375,
           -1.86328125,
           -1.9609375,
           -2.025390625
          ],
          [
           -2.994140625,
           -2.912109375,
           -2.943359375,
           -2.818359375,
           -2.6796875,
           -2.5625,
           -2.45703125,
           -2.345703125,
           -2.29296875,
           -2.173828125,
           -2.103515625,
           -1.970703125,
           -1.833984375,
           -1.8203125,
           -1.697265625,
           -1.6875,
           -1.58984375,
           -1.525390625,
           -1.544921875,
           -1.53515625,
           -1.466796875,
           -1.64453125,
           -1.61328125,
           -1.70703125,
           -1.650390625,
           -1.662109375,
           -1.712890625,
           -1.8828125,
           -1.876953125,
           -2.00390625,
           -2.037109375,
           -2
          ],
          [
           -2.978515625,
           -2.955078125,
           -2.923828125,
           -2.890625,
           -2.853515625,
           -2.7109375,
           -2.623046875,
           -2.587890625,
           -2.46484375,
           -2.2734375,
           -2.177734375,
           -2.248046875,
           -2.029296875,
           -1.953125,
           -1.884765625,
           -1.85546875,
           -1.732421875,
           -1.85546875,
           -1.794921875,
           -1.7578125,
           -1.736328125,
           -1.7734375,
           -1.82421875,
           -1.751953125,
           -1.763671875,
           -1.771484375,
           -1.80859375,
           -2.005859375,
           -1.958984375,
           -2.001953125,
           -2.0234375,
           -2.0234375
          ],
          [
           -2.98046875,
           -2.947265625,
           -3.02734375,
           -2.95703125,
           -2.87890625,
           -2.798828125,
           -2.763671875,
           -2.740234375,
           -2.560546875,
           -2.623046875,
           -2.470703125,
           -2.400390625,
           -2.380859375,
           -2.255859375,
           -2.169921875,
           -2.05078125,
           -2.037109375,
           -2.037109375,
           -1.984375,
           -1.921875,
           -1.923828125,
           -1.9375,
           -1.880859375,
           -1.91015625,
           -1.94921875,
           -1.916015625,
           -2.060546875,
           -1.947265625,
           -1.939453125,
           -1.970703125,
           -2.037109375,
           -1.94140625
          ],
          [
           -3.048828125,
           -3.033203125,
           -3.05859375,
           -3.06640625,
           -3.11328125,
           -2.986328125,
           -2.875,
           -2.908203125,
           -2.794921875,
           -2.79296875,
           -2.71875,
           -2.67578125,
           -2.619140625,
           -2.5078125,
           -2.4609375,
           -2.36328125,
           -2.4140625,
           -2.298828125,
           -2.193359375,
           -2.138671875,
           -2.16015625,
           -2.103515625,
           -2.203125,
           -2.119140625,
           -2.1328125,
           -2.14453125,
           -2.041015625,
           -2.015625,
           -2.005859375,
           -2.0703125,
           -2.091796875,
           -2.064453125
          ],
          [
           -3.041015625,
           -3.10546875,
           -3.06640625,
           -3.111328125,
           -3.12109375,
           -3.126953125,
           -3.107421875,
           -3.125,
           -3.126953125,
           -2.96484375,
           -2.91015625,
           -2.83203125,
           -2.849609375,
           -2.8828125,
           -2.689453125,
           -2.61328125,
           -2.658203125,
           -2.478515625,
           -2.423828125,
           -2.3515625,
           -2.3984375,
           -2.359375,
           -2.294921875,
           -2.369140625,
           -2.19921875,
           -2.2578125,
           -2.236328125,
           -2.19921875,
           -2.244140625,
           -2.1484375,
           -2.103515625,
           -2.119140625
          ],
          [
           -2.939453125,
           -2.990234375,
           -3.23046875,
           -3.189453125,
           -3.2265625,
           -3.3046875,
           -3.2421875,
           -3.2890625,
           -3.232421875,
           -3.25,
           -3.2109375,
           -3.13671875,
           -3.01171875,
           -3.013671875,
           -2.951171875,
           -2.93359375,
           -2.826171875,
           -2.8203125,
           -2.78125,
           -2.689453125,
           -2.640625,
           -2.640625,
           -2.529296875,
           -2.501953125,
           -2.41796875,
           -2.423828125,
           -2.361328125,
           -2.373046875,
           -2.251953125,
           -2.25390625,
           -2.2109375,
           -2.146484375
          ],
          [
           -3.017578125,
           -3.126953125,
           -3.171875,
           -3.205078125,
           -3.337890625,
           -3.396484375,
           -3.44140625,
           -3.4453125,
           -3.4296875,
           -3.4140625,
           -3.4296875,
           -3.353515625,
           -3.275390625,
           -3.30078125,
           -3.265625,
           -3.0703125,
           -3.138671875,
           -3.07421875,
           -2.96484375,
           -2.91796875,
           -2.94140625,
           -2.84765625,
           -2.767578125,
           -2.71484375,
           -2.603515625,
           -2.58203125,
           -2.564453125,
           -2.45703125,
           -2.380859375,
           -2.423828125,
           -2.310546875,
           -2.234375
          ],
          [
           -2.974609375,
           -3.15234375,
           -3.21875,
           -3.298828125,
           -3.423828125,
           -3.50390625,
           -3.56640625,
           -3.55859375,
           -3.61328125,
           -3.61328125,
           -3.578125,
           -3.57421875,
           -3.572265625,
           -3.443359375,
           -3.45703125,
           -3.412109375,
           -3.29296875,
           -3.234375,
           -3.205078125,
           -3.044921875,
           -3.107421875,
           -3.0546875,
           -2.935546875,
           -2.951171875,
           -2.904296875,
           -2.77734375,
           -2.68359375,
           -2.53515625,
           -2.572265625,
           -2.4609375,
           -2.345703125,
           -2.287109375
          ],
          [
           -2.978515625,
           -3.125,
           -3.279296875,
           -3.390625,
           -3.466796875,
           -3.595703125,
           -3.6171875,
           -3.646484375,
           -3.677734375,
           -3.70703125,
           -3.689453125,
           -3.75,
           -3.71484375,
           -3.638671875,
           -3.654296875,
           -3.51171875,
           -3.525390625,
           -3.41796875,
           -3.443359375,
           -3.30859375,
           -3.169921875,
           -3.1796875,
           -3.150390625,
           -3.087890625,
           -2.986328125,
           -2.875,
           -2.787109375,
           -2.748046875,
           -2.638671875,
           -2.59765625,
           -2.501953125,
           -2.37109375
          ],
          [
           -3.00390625,
           -3.17578125,
           -3.322265625,
           -3.40234375,
           -3.5390625,
           -3.560546875,
           -3.658203125,
           -3.748046875,
           -3.76171875,
           -3.828125,
           -3.83984375,
           -3.826171875,
           -3.845703125,
           -3.8203125,
           -3.755859375,
           -3.716796875,
           -3.693359375,
           -3.541015625,
           -3.552734375,
           -3.45703125,
           -3.400390625,
           -3.341796875,
           -3.22265625,
           -3.142578125,
           -3.0703125,
           -3.01953125,
           -2.970703125,
           -2.802734375,
           -2.78515625,
           -2.720703125,
           -2.609375,
           -2.529296875
          ],
          [
           -3.078125,
           -3.11328125,
           -3.26171875,
           -3.423828125,
           -3.544921875,
           -3.650390625,
           -3.6875,
           -3.75390625,
           -3.861328125,
           -3.87109375,
           -3.900390625,
           -3.916015625,
           -3.900390625,
           -3.87109375,
           -3.89453125,
           -3.826171875,
           -3.80859375,
           -3.69921875,
           -3.669921875,
           -3.609375,
           -3.560546875,
           -3.431640625,
           -3.3828125,
           -3.294921875,
           -3.208984375,
           -3.1171875,
           -3.044921875,
           -2.947265625,
           -2.90625,
           -2.77734375,
           -2.623046875,
           -2.578125
          ],
          [
           -2.970703125,
           -3.1875,
           -3.26953125,
           -3.36328125,
           -3.55859375,
           -3.6015625,
           -3.6953125,
           -3.76171875,
           -3.837890625,
           -3.876953125,
           -3.912109375,
           -3.927734375,
           -3.955078125,
           -3.892578125,
           -3.908203125,
           -3.873046875,
           -3.853515625,
           -3.8125,
           -3.748046875,
           -3.673828125,
           -3.52734375,
           -3.537109375,
           -3.4609375,
           -3.37890625,
           -3.2734375,
           -3.248046875,
           -3.076171875,
           -2.9921875,
           -2.91796875,
           -2.84765625,
           -2.787109375,
           -2.748046875
          ],
          [
           -2.943359375,
           -3.1796875,
           -3.23828125,
           -3.390625,
           -3.4765625,
           -3.537109375,
           -3.638671875,
           -3.740234375,
           -3.783203125,
           -3.8359375,
           -3.876953125,
           -3.87890625,
           -3.888671875,
           -3.90234375,
           -3.890625,
           -3.8046875,
           -3.85546875,
           -3.78125,
           -3.720703125,
           -3.66015625,
           -3.564453125,
           -3.564453125,
           -3.50390625,
           -3.4375,
           -3.3125,
           -3.328125,
           -3.12890625,
           -3.078125,
           -3.076171875,
           -2.94140625,
           -2.87890625,
           -2.740234375
          ],
          [
           -2.9765625,
           -3.099609375,
           -3.283203125,
           -3.33203125,
           -3.474609375,
           -3.54296875,
           -3.5859375,
           -3.68359375,
           -3.6953125,
           -3.767578125,
           -3.830078125,
           -3.85546875,
           -3.853515625,
           -3.869140625,
           -3.814453125,
           -3.810546875,
           -3.794921875,
           -3.75,
           -3.677734375,
           -3.67578125,
           -3.55078125,
           -3.5546875,
           -3.47265625,
           -3.451171875,
           -3.31640625,
           -3.2890625,
           -3.234375,
           -3.1640625,
           -3.033203125,
           -3.048828125,
           -2.93359375,
           -2.86328125
          ],
          [
           -2.962890625,
           -3.0625,
           -3.208984375,
           -3.267578125,
           -3.412109375,
           -3.455078125,
           -3.509765625,
           -3.529296875,
           -3.568359375,
           -3.634765625,
           -3.658203125,
           -3.669921875,
           -3.677734375,
           -3.705078125,
           -3.689453125,
           -3.671875,
           -3.666015625,
           -3.630859375,
           -3.62890625,
           -3.576171875,
           -3.544921875,
           -3.45703125,
           -3.455078125,
           -3.365234375,
           -3.345703125,
           -3.228515625,
           -3.2265625,
           -3.220703125,
           -3.068359375,
           -2.958984375,
           -2.95703125,
           -2.904296875
          ],
          [
           -2.9921875,
           -3.015625,
           -3.126953125,
           -3.1640625,
           -3.30078125,
           -3.29296875,
           -3.388671875,
           -3.37890625,
           -3.41796875,
           -3.482421875,
           -3.5390625,
           -3.490234375,
           -3.541015625,
           -3.525390625,
           -3.53125,
           -3.552734375,
           -3.466796875,
           -3.474609375,
           -3.509765625,
           -3.4609375,
           -3.470703125,
           -3.4296875,
           -3.37890625,
           -3.380859375,
           -3.314453125,
           -3.19140625,
           -3.1875,
           -3.177734375,
           -3.189453125,
           -3.041015625,
           -2.935546875,
           -2.919921875
          ],
          [
           -3.01171875,
           -2.984375,
           -3.1171875,
           -3.119140625,
           -3.1328125,
           -3.171875,
           -3.216796875,
           -3.271484375,
           -3.275390625,
           -3.33984375,
           -3.314453125,
           -3.302734375,
           -3.3359375,
           -3.328125,
           -3.357421875,
           -3.390625,
           -3.369140625,
           -3.298828125,
           -3.30859375,
           -3.3359375,
           -3.244140625,
           -3.26171875,
           -3.224609375,
           -3.23046875,
           -3.15625,
           -3.11328125,
           -3.12890625,
           -3.115234375,
           -3.080078125,
           -2.990234375,
           -2.99609375,
           -3.033203125
          ],
          [
           -3.021484375,
           -3.02734375,
           -3.03125,
           -2.986328125,
           -3.009765625,
           -3.021484375,
           -3.0625,
           -3.09765625,
           -3.123046875,
           -3.193359375,
           -3.046875,
           -3.046875,
           -3.109375,
           -3.046875,
           -3.1015625,
           -3.1484375,
           -3.107421875,
           -3.04296875,
           -3.0546875,
           -3.091796875,
           -3.0625,
           -3.080078125,
           -3.107421875,
           -3.099609375,
           -3.01171875,
           -3.0703125,
           -3.025390625,
           -3.048828125,
           -3.021484375,
           -2.998046875,
           -3.0703125,
           -3.060546875
          ]
         ]
        }
       ],
       "layout": {
        "scene": {
         "xaxis": {
          "title": {
           "text": "gamma"
          }
         },
         "yaxis": {
          "title": {
           "text": "beta"
          }
         },
         "zaxis": {
          "title": {
           "text": "mean"
          }
         }
        },
        "template": {
         "data": {
          "bar": [
           {
            "error_x": {
             "color": "#2a3f5f"
            },
            "error_y": {
             "color": "#2a3f5f"
            },
            "marker": {
             "line": {
              "color": "#E5ECF6",
              "width": 0.5
             },
             "pattern": {
              "fillmode": "overlay",
              "size": 10,
              "solidity": 0.2
             }
            },
            "type": "bar"
           }
          ],
          "barpolar": [
           {
            "marker": {
             "line": {
              "color": "#E5ECF6",
              "width": 0.5
             },
             "pattern": {
              "fillmode": "overlay",
              "size": 10,
              "solidity": 0.2
             }
            },
            "type": "barpolar"
           }
          ],
          "carpet": [
           {
            "aaxis": {
             "endlinecolor": "#2a3f5f",
             "gridcolor": "white",
             "linecolor": "white",
             "minorgridcolor": "white",
             "startlinecolor": "#2a3f5f"
            },
            "baxis": {
             "endlinecolor": "#2a3f5f",
             "gridcolor": "white",
             "linecolor": "white",
             "minorgridcolor": "white",
             "startlinecolor": "#2a3f5f"
            },
            "type": "carpet"
           }
          ],
          "choropleth": [
           {
            "colorbar": {
             "outlinewidth": 0,
             "ticks": ""
            },
            "type": "choropleth"
           }
          ],
          "contour": [
           {
            "colorbar": {
             "outlinewidth": 0,
             "ticks": ""
            },
            "colorscale": [
             [
              0,
              "#0d0887"
             ],
             [
              0.1111111111111111,
              "#46039f"
             ],
             [
              0.2222222222222222,
              "#7201a8"
             ],
             [
              0.3333333333333333,
              "#9c179e"
             ],
             [
              0.4444444444444444,
              "#bd3786"
             ],
             [
              0.5555555555555556,
              "#d8576b"
             ],
             [
              0.6666666666666666,
              "#ed7953"
             ],
             [
              0.7777777777777778,
              "#fb9f3a"
             ],
             [
              0.8888888888888888,
              "#fdca26"
             ],
             [
              1,
              "#f0f921"
             ]
            ],
            "type": "contour"
           }
          ],
          "contourcarpet": [
           {
            "colorbar": {
             "outlinewidth": 0,
             "ticks": ""
            },
            "type": "contourcarpet"
           }
          ],
          "heatmap": [
           {
            "colorbar": {
             "outlinewidth": 0,
             "ticks": ""
            },
            "colorscale": [
             [
              0,
              "#0d0887"
             ],
             [
              0.1111111111111111,
              "#46039f"
             ],
             [
              0.2222222222222222,
              "#7201a8"
             ],
             [
              0.3333333333333333,
              "#9c179e"
             ],
             [
              0.4444444444444444,
              "#bd3786"
             ],
             [
              0.5555555555555556,
              "#d8576b"
             ],
             [
              0.6666666666666666,
              "#ed7953"
             ],
             [
              0.7777777777777778,
              "#fb9f3a"
             ],
             [
              0.8888888888888888,
              "#fdca26"
             ],
             [
              1,
              "#f0f921"
             ]
            ],
            "type": "heatmap"
           }
          ],
          "heatmapgl": [
           {
            "colorbar": {
             "outlinewidth": 0,
             "ticks": ""
            },
            "colorscale": [
             [
              0,
              "#0d0887"
             ],
             [
              0.1111111111111111,
              "#46039f"
             ],
             [
              0.2222222222222222,
              "#7201a8"
             ],
             [
              0.3333333333333333,
              "#9c179e"
             ],
             [
              0.4444444444444444,
              "#bd3786"
             ],
             [
              0.5555555555555556,
              "#d8576b"
             ],
             [
              0.6666666666666666,
              "#ed7953"
             ],
             [
              0.7777777777777778,
              "#fb9f3a"
             ],
             [
              0.8888888888888888,
              "#fdca26"
             ],
             [
              1,
              "#f0f921"
             ]
            ],
            "type": "heatmapgl"
           }
          ],
          "histogram": [
           {
            "marker": {
             "pattern": {
              "fillmode": "overlay",
              "size": 10,
              "solidity": 0.2
             }
            },
            "type": "histogram"
           }
          ],
          "histogram2d": [
           {
            "colorbar": {
             "outlinewidth": 0,
             "ticks": ""
            },
            "colorscale": [
             [
              0,
              "#0d0887"
             ],
             [
              0.1111111111111111,
              "#46039f"
             ],
             [
              0.2222222222222222,
              "#7201a8"
             ],
             [
              0.3333333333333333,
              "#9c179e"
             ],
             [
              0.4444444444444444,
              "#bd3786"
             ],
             [
              0.5555555555555556,
              "#d8576b"
             ],
             [
              0.6666666666666666,
              "#ed7953"
             ],
             [
              0.7777777777777778,
              "#fb9f3a"
             ],
             [
              0.8888888888888888,
              "#fdca26"
             ],
             [
              1,
              "#f0f921"
             ]
            ],
            "type": "histogram2d"
           }
          ],
          "histogram2dcontour": [
           {
            "colorbar": {
             "outlinewidth": 0,
             "ticks": ""
            },
            "colorscale": [
             [
              0,
              "#0d0887"
             ],
             [
              0.1111111111111111,
              "#46039f"
             ],
             [
              0.2222222222222222,
              "#7201a8"
             ],
             [
              0.3333333333333333,
              "#9c179e"
             ],
             [
              0.4444444444444444,
              "#bd3786"
             ],
             [
              0.5555555555555556,
              "#d8576b"
             ],
             [
              0.6666666666666666,
              "#ed7953"
             ],
             [
              0.7777777777777778,
              "#fb9f3a"
             ],
             [
              0.8888888888888888,
              "#fdca26"
             ],
             [
              1,
              "#f0f921"
             ]
            ],
            "type": "histogram2dcontour"
           }
          ],
          "mesh3d": [
           {
            "colorbar": {
             "outlinewidth": 0,
             "ticks": ""
            },
            "type": "mesh3d"
           }
          ],
          "parcoords": [
           {
            "line": {
             "colorbar": {
              "outlinewidth": 0,
              "ticks": ""
             }
            },
            "type": "parcoords"
           }
          ],
          "pie": [
           {
            "automargin": true,
            "type": "pie"
           }
          ],
          "scatter": [
           {
            "marker": {
             "colorbar": {
              "outlinewidth": 0,
              "ticks": ""
             }
            },
            "type": "scatter"
           }
          ],
          "scatter3d": [
           {
            "line": {
             "colorbar": {
              "outlinewidth": 0,
              "ticks": ""
             }
            },
            "marker": {
             "colorbar": {
              "outlinewidth": 0,
              "ticks": ""
             }
            },
            "type": "scatter3d"
           }
          ],
          "scattercarpet": [
           {
            "marker": {
             "colorbar": {
              "outlinewidth": 0,
              "ticks": ""
             }
            },
            "type": "scattercarpet"
           }
          ],
          "scattergeo": [
           {
            "marker": {
             "colorbar": {
              "outlinewidth": 0,
              "ticks": ""
             }
            },
            "type": "scattergeo"
           }
          ],
          "scattergl": [
           {
            "marker": {
             "colorbar": {
              "outlinewidth": 0,
              "ticks": ""
             }
            },
            "type": "scattergl"
           }
          ],
          "scattermapbox": [
           {
            "marker": {
             "colorbar": {
              "outlinewidth": 0,
              "ticks": ""
             }
            },
            "type": "scattermapbox"
           }
          ],
          "scatterpolar": [
           {
            "marker": {
             "colorbar": {
              "outlinewidth": 0,
              "ticks": ""
             }
            },
            "type": "scatterpolar"
           }
          ],
          "scatterpolargl": [
           {
            "marker": {
             "colorbar": {
              "outlinewidth": 0,
              "ticks": ""
             }
            },
            "type": "scatterpolargl"
           }
          ],
          "scatterternary": [
           {
            "marker": {
             "colorbar": {
              "outlinewidth": 0,
              "ticks": ""
             }
            },
            "type": "scatterternary"
           }
          ],
          "surface": [
           {
            "colorbar": {
             "outlinewidth": 0,
             "ticks": ""
            },
            "colorscale": [
             [
              0,
              "#0d0887"
             ],
             [
              0.1111111111111111,
              "#46039f"
             ],
             [
              0.2222222222222222,
              "#7201a8"
             ],
             [
              0.3333333333333333,
              "#9c179e"
             ],
             [
              0.4444444444444444,
              "#bd3786"
             ],
             [
              0.5555555555555556,
              "#d8576b"
             ],
             [
              0.6666666666666666,
              "#ed7953"
             ],
             [
              0.7777777777777778,
              "#fb9f3a"
             ],
             [
              0.8888888888888888,
              "#fdca26"
             ],
             [
              1,
              "#f0f921"
             ]
            ],
            "type": "surface"
           }
          ],
          "table": [
           {
            "cells": {
             "fill": {
              "color": "#EBF0F8"
             },
             "line": {
              "color": "white"
             }
            },
            "header": {
             "fill": {
              "color": "#C8D4E3"
             },
             "line": {
              "color": "white"
             }
            },
            "type": "table"
           }
          ]
         },
         "layout": {
          "annotationdefaults": {
           "arrowcolor": "#2a3f5f",
           "arrowhead": 0,
           "arrowwidth": 1
          },
          "autotypenumbers": "strict",
          "coloraxis": {
           "colorbar": {
            "outlinewidth": 0,
            "ticks": ""
           }
          },
          "colorscale": {
           "diverging": [
            [
             0,
             "#8e0152"
            ],
            [
             0.1,
             "#c51b7d"
            ],
            [
             0.2,
             "#de77ae"
            ],
            [
             0.3,
             "#f1b6da"
            ],
            [
             0.4,
             "#fde0ef"
            ],
            [
             0.5,
             "#f7f7f7"
            ],
            [
             0.6,
             "#e6f5d0"
            ],
            [
             0.7,
             "#b8e186"
            ],
            [
             0.8,
             "#7fbc41"
            ],
            [
             0.9,
             "#4d9221"
            ],
            [
             1,
             "#276419"
            ]
           ],
           "sequential": [
            [
             0,
             "#0d0887"
            ],
            [
             0.1111111111111111,
             "#46039f"
            ],
            [
             0.2222222222222222,
             "#7201a8"
            ],
            [
             0.3333333333333333,
             "#9c179e"
            ],
            [
             0.4444444444444444,
             "#bd3786"
            ],
            [
             0.5555555555555556,
             "#d8576b"
            ],
            [
             0.6666666666666666,
             "#ed7953"
            ],
            [
             0.7777777777777778,
             "#fb9f3a"
            ],
            [
             0.8888888888888888,
             "#fdca26"
            ],
            [
             1,
             "#f0f921"
            ]
           ],
           "sequentialminus": [
            [
             0,
             "#0d0887"
            ],
            [
             0.1111111111111111,
             "#46039f"
            ],
            [
             0.2222222222222222,
             "#7201a8"
            ],
            [
             0.3333333333333333,
             "#9c179e"
            ],
            [
             0.4444444444444444,
             "#bd3786"
            ],
            [
             0.5555555555555556,
             "#d8576b"
            ],
            [
             0.6666666666666666,
             "#ed7953"
            ],
            [
             0.7777777777777778,
             "#fb9f3a"
            ],
            [
             0.8888888888888888,
             "#fdca26"
            ],
            [
             1,
             "#f0f921"
            ]
           ]
          },
          "colorway": [
           "#636efa",
           "#EF553B",
           "#00cc96",
           "#ab63fa",
           "#FFA15A",
           "#19d3f3",
           "#FF6692",
           "#B6E880",
           "#FF97FF",
           "#FECB52"
          ],
          "font": {
           "color": "#2a3f5f"
          },
          "geo": {
           "bgcolor": "white",
           "lakecolor": "white",
           "landcolor": "#E5ECF6",
           "showlakes": true,
           "showland": true,
           "subunitcolor": "white"
          },
          "hoverlabel": {
           "align": "left"
          },
          "hovermode": "closest",
          "mapbox": {
           "style": "light"
          },
          "paper_bgcolor": "white",
          "plot_bgcolor": "#E5ECF6",
          "polar": {
           "angularaxis": {
            "gridcolor": "white",
            "linecolor": "white",
            "ticks": ""
           },
           "bgcolor": "#E5ECF6",
           "radialaxis": {
            "gridcolor": "white",
            "linecolor": "white",
            "ticks": ""
           }
          },
          "scene": {
           "xaxis": {
            "backgroundcolor": "#E5ECF6",
            "gridcolor": "white",
            "gridwidth": 2,
            "linecolor": "white",
            "showbackground": true,
            "ticks": "",
            "zerolinecolor": "white"
           },
           "yaxis": {
            "backgroundcolor": "#E5ECF6",
            "gridcolor": "white",
            "gridwidth": 2,
            "linecolor": "white",
            "showbackground": true,
            "ticks": "",
            "zerolinecolor": "white"
           },
           "zaxis": {
            "backgroundcolor": "#E5ECF6",
            "gridcolor": "white",
            "gridwidth": 2,
            "linecolor": "white",
            "showbackground": true,
            "ticks": "",
            "zerolinecolor": "white"
           }
          },
          "shapedefaults": {
           "line": {
            "color": "#2a3f5f"
           }
          },
          "ternary": {
           "aaxis": {
            "gridcolor": "white",
            "linecolor": "white",
            "ticks": ""
           },
           "baxis": {
            "gridcolor": "white",
            "linecolor": "white",
            "ticks": ""
           },
           "bgcolor": "#E5ECF6",
           "caxis": {
            "gridcolor": "white",
            "linecolor": "white",
            "ticks": ""
           }
          },
          "title": {
           "x": 0.05
          },
          "xaxis": {
           "automargin": true,
           "gridcolor": "white",
           "linecolor": "white",
           "ticks": "",
           "title": {
            "standoff": 15
           },
           "zerolinecolor": "white",
           "zerolinewidth": 2
          },
          "yaxis": {
           "automargin": true,
           "gridcolor": "white",
           "linecolor": "white",
           "ticks": "",
           "title": {
            "standoff": 15
           },
           "zerolinecolor": "white",
           "zerolinewidth": 2
          }
         }
        },
        "title": {
         "text": "QAOA MaxCut"
        }
       }
      },
      "text/html": [
       "<div>                            <div id=\"2b23693f-297a-424a-b0d8-6c506077f0ee\" class=\"plotly-graph-div\" style=\"height:525px; width:100%;\"></div>            <script type=\"text/javascript\">                require([\"plotly\"], function(Plotly) {                    window.PLOTLYENV=window.PLOTLYENV || {};                                    if (document.getElementById(\"2b23693f-297a-424a-b0d8-6c506077f0ee\")) {                    Plotly.newPlot(                        \"2b23693f-297a-424a-b0d8-6c506077f0ee\",                        [{\"contours\":{\"z\":{\"highlightcolor\":\"limegreen\",\"project\":{\"z\":true},\"show\":true,\"usecolormap\":true}},\"type\":\"surface\",\"x\":[0.0,0.05,0.1,0.15000000000000002,0.2,0.25,0.30000000000000004,0.35000000000000003,0.4,0.45,0.5,0.55,0.6000000000000001,0.65,0.7000000000000001,0.75,0.8,0.8500000000000001,0.9,0.9500000000000001,1.0,1.05,1.1,1.1500000000000001,1.2000000000000002,1.25,1.3,1.35,1.4000000000000001,1.4500000000000002,1.5,1.55],\"y\":[0.0,0.05,0.1,0.15000000000000002,0.2,0.25,0.30000000000000004,0.35000000000000003,0.4,0.45,0.5,0.55,0.6000000000000001,0.65,0.7000000000000001,0.75,0.8,0.8500000000000001,0.9,0.9500000000000001,1.0,1.05,1.1,1.1500000000000001,1.2000000000000002,1.25,1.3,1.35,1.4000000000000001,1.4500000000000002,1.5,1.55],\"z\":[[-3.044921875,-2.95703125,-3.06640625,-2.99609375,-2.978515625,-3.05078125,-3.0234375,-3.009765625,-3.05078125,-3.0234375,-3.044921875,-2.966796875,-3.052734375,-3.005859375,-2.958984375,-3.03515625,-2.9765625,-3.083984375,-3.05078125,-3.001953125,-3.068359375,-3.025390625,-2.978515625,-2.97265625,-3.044921875,-2.986328125,-2.962890625,-3.041015625,-2.896484375,-3.05078125,-3.01171875,-3.013671875],[-3.005859375,-2.970703125,-2.8671875,-2.9609375,-2.89453125,-2.865234375,-2.833984375,-2.8046875,-2.775390625,-2.708984375,-2.794921875,-2.80859375,-2.73828125,-2.66015625,-2.755859375,-2.71484375,-2.68359375,-2.78125,-2.73828125,-2.748046875,-2.87890625,-2.8046875,-2.810546875,-2.845703125,-2.873046875,-2.81640625,-2.865234375,-2.9375,-2.953125,-2.97265625,-2.939453125,-3.033203125],[-2.970703125,-2.931640625,-2.880859375,-2.869140625,-2.79296875,-2.71875,-2.71875,-2.708984375,-2.61328125,-2.6171875,-2.49609375,-2.427734375,-2.529296875,-2.451171875,-2.484375,-2.46875,-2.517578125,-2.451171875,-2.46875,-2.48828125,-2.53515625,-2.56640625,-2.55859375,-2.58203125,-2.671875,-2.779296875,-2.79296875,-2.763671875,-2.865234375,-2.8125,-2.951171875,-2.962890625],[-3.017578125,-2.876953125,-2.83203125,-2.7890625,-2.685546875,-2.55078125,-2.45703125,-2.44921875,-2.396484375,-2.375,-2.28125,-2.283203125,-2.23828125,-2.208984375,-2.21875,-2.216796875,-2.1796875,-2.220703125,-2.28515625,-2.3046875,-2.326171875,-2.380859375,-2.390625,-2.41015625,-2.505859375,-2.580078125,-2.587890625,-2.69921875,-2.755859375,-2.744140625,-2.869140625,-2.849609375],[-3.046875,-2.89453125,-2.79296875,-2.697265625,-2.619140625,-2.39453125,-2.380859375,-2.357421875,-2.224609375,-2.193359375,-2.078125,-1.9921875,-1.94921875,-1.97265625,-2.009765625,-1.98828125,-1.94140625,-1.943359375,-2.029296875,-2.04296875,-2.087890625,-2.173828125,-2.267578125,-2.18359375,-2.33203125,-2.388671875,-2.4296875,-2.53515625,-2.51171875,-2.6953125,-2.76171875,-2.796875],[-2.982421875,-2.85546875,-2.763671875,-2.599609375,-2.498046875,-2.423828125,-2.208984375,-2.21484375,-2.099609375,-1.99609375,-1.919921875,-1.81640625,-1.8359375,-1.744140625,-1.701171875,-1.6875,-1.724609375,-1.705078125,-1.8125,-1.84765625,-1.88671875,-1.958984375,-1.9453125,-2.087890625,-2.154296875,-2.234375,-2.353515625,-2.443359375,-2.494140625,-2.572265625,-2.587890625,-2.724609375],[-3.0078125,-2.84765625,-2.791015625,-2.505859375,-2.439453125,-2.228515625,-2.140625,-2.046875,-1.92578125,-1.80859375,-1.6796875,-1.625,-1.61328125,-1.587890625,-1.46875,-1.5546875,-1.546875,-1.576171875,-1.5390625,-1.62109375,-1.623046875,-1.75390625,-1.775390625,-1.95703125,-2.001953125,-2.07421875,-2.125,-2.259765625,-2.33203125,-2.396484375,-2.5234375,-2.65625],[-3.015625,-2.828125,-2.716796875,-2.517578125,-2.361328125,-2.154296875,-2.076171875,-1.9296875,-1.826171875,-1.625,-1.57421875,-1.548828125,-1.5,-1.4765625,-1.388671875,-1.291015625,-1.345703125,-1.31640625,-1.412109375,-1.4453125,-1.490234375,-1.603515625,-1.7265625,-1.732421875,-1.771484375,-1.892578125,-2.04296875,-2.025390625,-2.333984375,-2.341796875,-2.458984375,-2.5625],[-2.99609375,-2.90625,-2.642578125,-2.58203125,-2.388671875,-2.248046875,-2.080078125,-1.953125,-1.736328125,-1.6015625,-1.580078125,-1.427734375,-1.27734375,-1.28515625,-1.271484375,-1.2265625,-1.150390625,-1.3125,-1.26953125,-1.318359375,-1.419921875,-1.443359375,-1.494140625,-1.623046875,-1.77734375,-1.8125,-1.927734375,-2.009765625,-2.1640625,-2.1953125,-2.39453125,-2.47265625],[-3.0234375,-2.91015625,-2.740234375,-2.556640625,-2.337890625,-2.177734375,-2.064453125,-1.880859375,-1.728515625,-1.685546875,-1.482421875,-1.41796875,-1.30078125,-1.255859375,-1.19921875,-1.220703125,-1.17578125,-1.083984375,-1.15625,-1.33203125,-1.240234375,-1.3203125,-1.451171875,-1.53515625,-1.583984375,-1.8125,-1.845703125,-1.935546875,-1.994140625,-2.107421875,-2.2421875,-2.287109375],[-2.974609375,-2.8671875,-2.755859375,-2.623046875,-2.40625,-2.232421875,-2.1015625,-1.962890625,-1.802734375,-1.73046875,-1.505859375,-1.439453125,-1.380859375,-1.236328125,-1.271484375,-1.21484375,-1.12890625,-1.158203125,-1.162109375,-1.21875,-1.28125,-1.318359375,-1.416015625,-1.54296875,-1.583984375,-1.62890625,-1.728515625,-1.90625,-1.955078125,-2.046875,-2.181640625,-2.2890625],[-3.013671875,-2.875,-2.765625,-2.5546875,-2.466796875,-2.28515625,-2.1953125,-2.02734375,-1.771484375,-1.736328125,-1.630859375,-1.486328125,-1.435546875,-1.32421875,-1.25,-1.228515625,-1.1796875,-1.1953125,-1.193359375,-1.259765625,-1.26953125,-1.322265625,-1.400390625,-1.421875,-1.556640625,-1.607421875,-1.826171875,-1.7578125,-1.95703125,-2.0234375,-2.1015625,-2.20703125],[-3.013671875,-2.923828125,-2.7578125,-2.755859375,-2.484375,-2.388671875,-2.22265625,-2.0859375,-1.880859375,-1.833984375,-1.681640625,-1.56640625,-1.498046875,-1.380859375,-1.33203125,-1.384765625,-1.296875,-1.330078125,-1.265625,-1.279296875,-1.34765625,-1.349609375,-1.404296875,-1.458984375,-1.595703125,-1.69140625,-1.72265625,-1.77734375,-1.837890625,-1.927734375,-2.029296875,-2.16015625],[-3.033203125,-2.96484375,-2.78125,-2.74609375,-2.517578125,-2.453125,-2.28515625,-2.251953125,-2.11328125,-2.001953125,-1.873046875,-1.73828125,-1.59765625,-1.560546875,-1.4765625,-1.40625,-1.42578125,-1.470703125,-1.341796875,-1.4453125,-1.39453125,-1.458984375,-1.482421875,-1.470703125,-1.669921875,-1.64453125,-1.7109375,-1.794921875,-1.896484375,-1.86328125,-1.9609375,-2.025390625],[-2.994140625,-2.912109375,-2.943359375,-2.818359375,-2.6796875,-2.5625,-2.45703125,-2.345703125,-2.29296875,-2.173828125,-2.103515625,-1.970703125,-1.833984375,-1.8203125,-1.697265625,-1.6875,-1.58984375,-1.525390625,-1.544921875,-1.53515625,-1.466796875,-1.64453125,-1.61328125,-1.70703125,-1.650390625,-1.662109375,-1.712890625,-1.8828125,-1.876953125,-2.00390625,-2.037109375,-2.0],[-2.978515625,-2.955078125,-2.923828125,-2.890625,-2.853515625,-2.7109375,-2.623046875,-2.587890625,-2.46484375,-2.2734375,-2.177734375,-2.248046875,-2.029296875,-1.953125,-1.884765625,-1.85546875,-1.732421875,-1.85546875,-1.794921875,-1.7578125,-1.736328125,-1.7734375,-1.82421875,-1.751953125,-1.763671875,-1.771484375,-1.80859375,-2.005859375,-1.958984375,-2.001953125,-2.0234375,-2.0234375],[-2.98046875,-2.947265625,-3.02734375,-2.95703125,-2.87890625,-2.798828125,-2.763671875,-2.740234375,-2.560546875,-2.623046875,-2.470703125,-2.400390625,-2.380859375,-2.255859375,-2.169921875,-2.05078125,-2.037109375,-2.037109375,-1.984375,-1.921875,-1.923828125,-1.9375,-1.880859375,-1.91015625,-1.94921875,-1.916015625,-2.060546875,-1.947265625,-1.939453125,-1.970703125,-2.037109375,-1.94140625],[-3.048828125,-3.033203125,-3.05859375,-3.06640625,-3.11328125,-2.986328125,-2.875,-2.908203125,-2.794921875,-2.79296875,-2.71875,-2.67578125,-2.619140625,-2.5078125,-2.4609375,-2.36328125,-2.4140625,-2.298828125,-2.193359375,-2.138671875,-2.16015625,-2.103515625,-2.203125,-2.119140625,-2.1328125,-2.14453125,-2.041015625,-2.015625,-2.005859375,-2.0703125,-2.091796875,-2.064453125],[-3.041015625,-3.10546875,-3.06640625,-3.111328125,-3.12109375,-3.126953125,-3.107421875,-3.125,-3.126953125,-2.96484375,-2.91015625,-2.83203125,-2.849609375,-2.8828125,-2.689453125,-2.61328125,-2.658203125,-2.478515625,-2.423828125,-2.3515625,-2.3984375,-2.359375,-2.294921875,-2.369140625,-2.19921875,-2.2578125,-2.236328125,-2.19921875,-2.244140625,-2.1484375,-2.103515625,-2.119140625],[-2.939453125,-2.990234375,-3.23046875,-3.189453125,-3.2265625,-3.3046875,-3.2421875,-3.2890625,-3.232421875,-3.25,-3.2109375,-3.13671875,-3.01171875,-3.013671875,-2.951171875,-2.93359375,-2.826171875,-2.8203125,-2.78125,-2.689453125,-2.640625,-2.640625,-2.529296875,-2.501953125,-2.41796875,-2.423828125,-2.361328125,-2.373046875,-2.251953125,-2.25390625,-2.2109375,-2.146484375],[-3.017578125,-3.126953125,-3.171875,-3.205078125,-3.337890625,-3.396484375,-3.44140625,-3.4453125,-3.4296875,-3.4140625,-3.4296875,-3.353515625,-3.275390625,-3.30078125,-3.265625,-3.0703125,-3.138671875,-3.07421875,-2.96484375,-2.91796875,-2.94140625,-2.84765625,-2.767578125,-2.71484375,-2.603515625,-2.58203125,-2.564453125,-2.45703125,-2.380859375,-2.423828125,-2.310546875,-2.234375],[-2.974609375,-3.15234375,-3.21875,-3.298828125,-3.423828125,-3.50390625,-3.56640625,-3.55859375,-3.61328125,-3.61328125,-3.578125,-3.57421875,-3.572265625,-3.443359375,-3.45703125,-3.412109375,-3.29296875,-3.234375,-3.205078125,-3.044921875,-3.107421875,-3.0546875,-2.935546875,-2.951171875,-2.904296875,-2.77734375,-2.68359375,-2.53515625,-2.572265625,-2.4609375,-2.345703125,-2.287109375],[-2.978515625,-3.125,-3.279296875,-3.390625,-3.466796875,-3.595703125,-3.6171875,-3.646484375,-3.677734375,-3.70703125,-3.689453125,-3.75,-3.71484375,-3.638671875,-3.654296875,-3.51171875,-3.525390625,-3.41796875,-3.443359375,-3.30859375,-3.169921875,-3.1796875,-3.150390625,-3.087890625,-2.986328125,-2.875,-2.787109375,-2.748046875,-2.638671875,-2.59765625,-2.501953125,-2.37109375],[-3.00390625,-3.17578125,-3.322265625,-3.40234375,-3.5390625,-3.560546875,-3.658203125,-3.748046875,-3.76171875,-3.828125,-3.83984375,-3.826171875,-3.845703125,-3.8203125,-3.755859375,-3.716796875,-3.693359375,-3.541015625,-3.552734375,-3.45703125,-3.400390625,-3.341796875,-3.22265625,-3.142578125,-3.0703125,-3.01953125,-2.970703125,-2.802734375,-2.78515625,-2.720703125,-2.609375,-2.529296875],[-3.078125,-3.11328125,-3.26171875,-3.423828125,-3.544921875,-3.650390625,-3.6875,-3.75390625,-3.861328125,-3.87109375,-3.900390625,-3.916015625,-3.900390625,-3.87109375,-3.89453125,-3.826171875,-3.80859375,-3.69921875,-3.669921875,-3.609375,-3.560546875,-3.431640625,-3.3828125,-3.294921875,-3.208984375,-3.1171875,-3.044921875,-2.947265625,-2.90625,-2.77734375,-2.623046875,-2.578125],[-2.970703125,-3.1875,-3.26953125,-3.36328125,-3.55859375,-3.6015625,-3.6953125,-3.76171875,-3.837890625,-3.876953125,-3.912109375,-3.927734375,-3.955078125,-3.892578125,-3.908203125,-3.873046875,-3.853515625,-3.8125,-3.748046875,-3.673828125,-3.52734375,-3.537109375,-3.4609375,-3.37890625,-3.2734375,-3.248046875,-3.076171875,-2.9921875,-2.91796875,-2.84765625,-2.787109375,-2.748046875],[-2.943359375,-3.1796875,-3.23828125,-3.390625,-3.4765625,-3.537109375,-3.638671875,-3.740234375,-3.783203125,-3.8359375,-3.876953125,-3.87890625,-3.888671875,-3.90234375,-3.890625,-3.8046875,-3.85546875,-3.78125,-3.720703125,-3.66015625,-3.564453125,-3.564453125,-3.50390625,-3.4375,-3.3125,-3.328125,-3.12890625,-3.078125,-3.076171875,-2.94140625,-2.87890625,-2.740234375],[-2.9765625,-3.099609375,-3.283203125,-3.33203125,-3.474609375,-3.54296875,-3.5859375,-3.68359375,-3.6953125,-3.767578125,-3.830078125,-3.85546875,-3.853515625,-3.869140625,-3.814453125,-3.810546875,-3.794921875,-3.75,-3.677734375,-3.67578125,-3.55078125,-3.5546875,-3.47265625,-3.451171875,-3.31640625,-3.2890625,-3.234375,-3.1640625,-3.033203125,-3.048828125,-2.93359375,-2.86328125],[-2.962890625,-3.0625,-3.208984375,-3.267578125,-3.412109375,-3.455078125,-3.509765625,-3.529296875,-3.568359375,-3.634765625,-3.658203125,-3.669921875,-3.677734375,-3.705078125,-3.689453125,-3.671875,-3.666015625,-3.630859375,-3.62890625,-3.576171875,-3.544921875,-3.45703125,-3.455078125,-3.365234375,-3.345703125,-3.228515625,-3.2265625,-3.220703125,-3.068359375,-2.958984375,-2.95703125,-2.904296875],[-2.9921875,-3.015625,-3.126953125,-3.1640625,-3.30078125,-3.29296875,-3.388671875,-3.37890625,-3.41796875,-3.482421875,-3.5390625,-3.490234375,-3.541015625,-3.525390625,-3.53125,-3.552734375,-3.466796875,-3.474609375,-3.509765625,-3.4609375,-3.470703125,-3.4296875,-3.37890625,-3.380859375,-3.314453125,-3.19140625,-3.1875,-3.177734375,-3.189453125,-3.041015625,-2.935546875,-2.919921875],[-3.01171875,-2.984375,-3.1171875,-3.119140625,-3.1328125,-3.171875,-3.216796875,-3.271484375,-3.275390625,-3.33984375,-3.314453125,-3.302734375,-3.3359375,-3.328125,-3.357421875,-3.390625,-3.369140625,-3.298828125,-3.30859375,-3.3359375,-3.244140625,-3.26171875,-3.224609375,-3.23046875,-3.15625,-3.11328125,-3.12890625,-3.115234375,-3.080078125,-2.990234375,-2.99609375,-3.033203125],[-3.021484375,-3.02734375,-3.03125,-2.986328125,-3.009765625,-3.021484375,-3.0625,-3.09765625,-3.123046875,-3.193359375,-3.046875,-3.046875,-3.109375,-3.046875,-3.1015625,-3.1484375,-3.107421875,-3.04296875,-3.0546875,-3.091796875,-3.0625,-3.080078125,-3.107421875,-3.099609375,-3.01171875,-3.0703125,-3.025390625,-3.048828125,-3.021484375,-2.998046875,-3.0703125,-3.060546875]]}],                        {\"scene\":{\"xaxis\":{\"title\":{\"text\":\"gamma\"}},\"yaxis\":{\"title\":{\"text\":\"beta\"}},\"zaxis\":{\"title\":{\"text\":\"mean\"}}},\"template\":{\"data\":{\"bar\":[{\"error_x\":{\"color\":\"#2a3f5f\"},\"error_y\":{\"color\":\"#2a3f5f\"},\"marker\":{\"line\":{\"color\":\"#E5ECF6\",\"width\":0.5},\"pattern\":{\"fillmode\":\"overlay\",\"size\":10,\"solidity\":0.2}},\"type\":\"bar\"}],\"barpolar\":[{\"marker\":{\"line\":{\"color\":\"#E5ECF6\",\"width\":0.5},\"pattern\":{\"fillmode\":\"overlay\",\"size\":10,\"solidity\":0.2}},\"type\":\"barpolar\"}],\"carpet\":[{\"aaxis\":{\"endlinecolor\":\"#2a3f5f\",\"gridcolor\":\"white\",\"linecolor\":\"white\",\"minorgridcolor\":\"white\",\"startlinecolor\":\"#2a3f5f\"},\"baxis\":{\"endlinecolor\":\"#2a3f5f\",\"gridcolor\":\"white\",\"linecolor\":\"white\",\"minorgridcolor\":\"white\",\"startlinecolor\":\"#2a3f5f\"},\"type\":\"carpet\"}],\"choropleth\":[{\"colorbar\":{\"outlinewidth\":0,\"ticks\":\"\"},\"type\":\"choropleth\"}],\"contour\":[{\"colorbar\":{\"outlinewidth\":0,\"ticks\":\"\"},\"colorscale\":[[0.0,\"#0d0887\"],[0.1111111111111111,\"#46039f\"],[0.2222222222222222,\"#7201a8\"],[0.3333333333333333,\"#9c179e\"],[0.4444444444444444,\"#bd3786\"],[0.5555555555555556,\"#d8576b\"],[0.6666666666666666,\"#ed7953\"],[0.7777777777777778,\"#fb9f3a\"],[0.8888888888888888,\"#fdca26\"],[1.0,\"#f0f921\"]],\"type\":\"contour\"}],\"contourcarpet\":[{\"colorbar\":{\"outlinewidth\":0,\"ticks\":\"\"},\"type\":\"contourcarpet\"}],\"heatmap\":[{\"colorbar\":{\"outlinewidth\":0,\"ticks\":\"\"},\"colorscale\":[[0.0,\"#0d0887\"],[0.1111111111111111,\"#46039f\"],[0.2222222222222222,\"#7201a8\"],[0.3333333333333333,\"#9c179e\"],[0.4444444444444444,\"#bd3786\"],[0.5555555555555556,\"#d8576b\"],[0.6666666666666666,\"#ed7953\"],[0.7777777777777778,\"#fb9f3a\"],[0.8888888888888888,\"#fdca26\"],[1.0,\"#f0f921\"]],\"type\":\"heatmap\"}],\"heatmapgl\":[{\"colorbar\":{\"outlinewidth\":0,\"ticks\":\"\"},\"colorscale\":[[0.0,\"#0d0887\"],[0.1111111111111111,\"#46039f\"],[0.2222222222222222,\"#7201a8\"],[0.3333333333333333,\"#9c179e\"],[0.4444444444444444,\"#bd3786\"],[0.5555555555555556,\"#d8576b\"],[0.6666666666666666,\"#ed7953\"],[0.7777777777777778,\"#fb9f3a\"],[0.8888888888888888,\"#fdca26\"],[1.0,\"#f0f921\"]],\"type\":\"heatmapgl\"}],\"histogram\":[{\"marker\":{\"pattern\":{\"fillmode\":\"overlay\",\"size\":10,\"solidity\":0.2}},\"type\":\"histogram\"}],\"histogram2d\":[{\"colorbar\":{\"outlinewidth\":0,\"ticks\":\"\"},\"colorscale\":[[0.0,\"#0d0887\"],[0.1111111111111111,\"#46039f\"],[0.2222222222222222,\"#7201a8\"],[0.3333333333333333,\"#9c179e\"],[0.4444444444444444,\"#bd3786\"],[0.5555555555555556,\"#d8576b\"],[0.6666666666666666,\"#ed7953\"],[0.7777777777777778,\"#fb9f3a\"],[0.8888888888888888,\"#fdca26\"],[1.0,\"#f0f921\"]],\"type\":\"histogram2d\"}],\"histogram2dcontour\":[{\"colorbar\":{\"outlinewidth\":0,\"ticks\":\"\"},\"colorscale\":[[0.0,\"#0d0887\"],[0.1111111111111111,\"#46039f\"],[0.2222222222222222,\"#7201a8\"],[0.3333333333333333,\"#9c179e\"],[0.4444444444444444,\"#bd3786\"],[0.5555555555555556,\"#d8576b\"],[0.6666666666666666,\"#ed7953\"],[0.7777777777777778,\"#fb9f3a\"],[0.8888888888888888,\"#fdca26\"],[1.0,\"#f0f921\"]],\"type\":\"histogram2dcontour\"}],\"mesh3d\":[{\"colorbar\":{\"outlinewidth\":0,\"ticks\":\"\"},\"type\":\"mesh3d\"}],\"parcoords\":[{\"line\":{\"colorbar\":{\"outlinewidth\":0,\"ticks\":\"\"}},\"type\":\"parcoords\"}],\"pie\":[{\"automargin\":true,\"type\":\"pie\"}],\"scatter\":[{\"marker\":{\"colorbar\":{\"outlinewidth\":0,\"ticks\":\"\"}},\"type\":\"scatter\"}],\"scatter3d\":[{\"line\":{\"colorbar\":{\"outlinewidth\":0,\"ticks\":\"\"}},\"marker\":{\"colorbar\":{\"outlinewidth\":0,\"ticks\":\"\"}},\"type\":\"scatter3d\"}],\"scattercarpet\":[{\"marker\":{\"colorbar\":{\"outlinewidth\":0,\"ticks\":\"\"}},\"type\":\"scattercarpet\"}],\"scattergeo\":[{\"marker\":{\"colorbar\":{\"outlinewidth\":0,\"ticks\":\"\"}},\"type\":\"scattergeo\"}],\"scattergl\":[{\"marker\":{\"colorbar\":{\"outlinewidth\":0,\"ticks\":\"\"}},\"type\":\"scattergl\"}],\"scattermapbox\":[{\"marker\":{\"colorbar\":{\"outlinewidth\":0,\"ticks\":\"\"}},\"type\":\"scattermapbox\"}],\"scatterpolar\":[{\"marker\":{\"colorbar\":{\"outlinewidth\":0,\"ticks\":\"\"}},\"type\":\"scatterpolar\"}],\"scatterpolargl\":[{\"marker\":{\"colorbar\":{\"outlinewidth\":0,\"ticks\":\"\"}},\"type\":\"scatterpolargl\"}],\"scatterternary\":[{\"marker\":{\"colorbar\":{\"outlinewidth\":0,\"ticks\":\"\"}},\"type\":\"scatterternary\"}],\"surface\":[{\"colorbar\":{\"outlinewidth\":0,\"ticks\":\"\"},\"colorscale\":[[0.0,\"#0d0887\"],[0.1111111111111111,\"#46039f\"],[0.2222222222222222,\"#7201a8\"],[0.3333333333333333,\"#9c179e\"],[0.4444444444444444,\"#bd3786\"],[0.5555555555555556,\"#d8576b\"],[0.6666666666666666,\"#ed7953\"],[0.7777777777777778,\"#fb9f3a\"],[0.8888888888888888,\"#fdca26\"],[1.0,\"#f0f921\"]],\"type\":\"surface\"}],\"table\":[{\"cells\":{\"fill\":{\"color\":\"#EBF0F8\"},\"line\":{\"color\":\"white\"}},\"header\":{\"fill\":{\"color\":\"#C8D4E3\"},\"line\":{\"color\":\"white\"}},\"type\":\"table\"}]},\"layout\":{\"annotationdefaults\":{\"arrowcolor\":\"#2a3f5f\",\"arrowhead\":0,\"arrowwidth\":1},\"autotypenumbers\":\"strict\",\"coloraxis\":{\"colorbar\":{\"outlinewidth\":0,\"ticks\":\"\"}},\"colorscale\":{\"diverging\":[[0,\"#8e0152\"],[0.1,\"#c51b7d\"],[0.2,\"#de77ae\"],[0.3,\"#f1b6da\"],[0.4,\"#fde0ef\"],[0.5,\"#f7f7f7\"],[0.6,\"#e6f5d0\"],[0.7,\"#b8e186\"],[0.8,\"#7fbc41\"],[0.9,\"#4d9221\"],[1,\"#276419\"]],\"sequential\":[[0.0,\"#0d0887\"],[0.1111111111111111,\"#46039f\"],[0.2222222222222222,\"#7201a8\"],[0.3333333333333333,\"#9c179e\"],[0.4444444444444444,\"#bd3786\"],[0.5555555555555556,\"#d8576b\"],[0.6666666666666666,\"#ed7953\"],[0.7777777777777778,\"#fb9f3a\"],[0.8888888888888888,\"#fdca26\"],[1.0,\"#f0f921\"]],\"sequentialminus\":[[0.0,\"#0d0887\"],[0.1111111111111111,\"#46039f\"],[0.2222222222222222,\"#7201a8\"],[0.3333333333333333,\"#9c179e\"],[0.4444444444444444,\"#bd3786\"],[0.5555555555555556,\"#d8576b\"],[0.6666666666666666,\"#ed7953\"],[0.7777777777777778,\"#fb9f3a\"],[0.8888888888888888,\"#fdca26\"],[1.0,\"#f0f921\"]]},\"colorway\":[\"#636efa\",\"#EF553B\",\"#00cc96\",\"#ab63fa\",\"#FFA15A\",\"#19d3f3\",\"#FF6692\",\"#B6E880\",\"#FF97FF\",\"#FECB52\"],\"font\":{\"color\":\"#2a3f5f\"},\"geo\":{\"bgcolor\":\"white\",\"lakecolor\":\"white\",\"landcolor\":\"#E5ECF6\",\"showlakes\":true,\"showland\":true,\"subunitcolor\":\"white\"},\"hoverlabel\":{\"align\":\"left\"},\"hovermode\":\"closest\",\"mapbox\":{\"style\":\"light\"},\"paper_bgcolor\":\"white\",\"plot_bgcolor\":\"#E5ECF6\",\"polar\":{\"angularaxis\":{\"gridcolor\":\"white\",\"linecolor\":\"white\",\"ticks\":\"\"},\"bgcolor\":\"#E5ECF6\",\"radialaxis\":{\"gridcolor\":\"white\",\"linecolor\":\"white\",\"ticks\":\"\"}},\"scene\":{\"xaxis\":{\"backgroundcolor\":\"#E5ECF6\",\"gridcolor\":\"white\",\"gridwidth\":2,\"linecolor\":\"white\",\"showbackground\":true,\"ticks\":\"\",\"zerolinecolor\":\"white\"},\"yaxis\":{\"backgroundcolor\":\"#E5ECF6\",\"gridcolor\":\"white\",\"gridwidth\":2,\"linecolor\":\"white\",\"showbackground\":true,\"ticks\":\"\",\"zerolinecolor\":\"white\"},\"zaxis\":{\"backgroundcolor\":\"#E5ECF6\",\"gridcolor\":\"white\",\"gridwidth\":2,\"linecolor\":\"white\",\"showbackground\":true,\"ticks\":\"\",\"zerolinecolor\":\"white\"}},\"shapedefaults\":{\"line\":{\"color\":\"#2a3f5f\"}},\"ternary\":{\"aaxis\":{\"gridcolor\":\"white\",\"linecolor\":\"white\",\"ticks\":\"\"},\"baxis\":{\"gridcolor\":\"white\",\"linecolor\":\"white\",\"ticks\":\"\"},\"bgcolor\":\"#E5ECF6\",\"caxis\":{\"gridcolor\":\"white\",\"linecolor\":\"white\",\"ticks\":\"\"}},\"title\":{\"x\":0.05},\"xaxis\":{\"automargin\":true,\"gridcolor\":\"white\",\"linecolor\":\"white\",\"ticks\":\"\",\"title\":{\"standoff\":15},\"zerolinecolor\":\"white\",\"zerolinewidth\":2},\"yaxis\":{\"automargin\":true,\"gridcolor\":\"white\",\"linecolor\":\"white\",\"ticks\":\"\",\"title\":{\"standoff\":15},\"zerolinecolor\":\"white\",\"zerolinewidth\":2}}},\"title\":{\"text\":\"QAOA MaxCut\"}},                        {\"responsive\": true}                    ).then(function(){\n",
       "                            \n",
       "var gd = document.getElementById('2b23693f-297a-424a-b0d8-6c506077f0ee');\n",
       "var x = new MutationObserver(function (mutations, observer) {{\n",
       "        var display = window.getComputedStyle(gd).display;\n",
       "        if (!display || display === 'none') {{\n",
       "            console.log([gd, 'removed!']);\n",
       "            Plotly.purge(gd);\n",
       "            observer.disconnect();\n",
       "        }}\n",
       "}});\n",
       "\n",
       "// Listen for the removal of the full notebook cells\n",
       "var notebookContainer = gd.closest('#notebook-container');\n",
       "if (notebookContainer) {{\n",
       "    x.observe(notebookContainer, {childList: true});\n",
       "}}\n",
       "\n",
       "// Listen for the clearing of the current output cell\n",
       "var outputEl = gd.closest('.output');\n",
       "if (outputEl) {{\n",
       "    x.observe(outputEl, {childList: true});\n",
       "}}\n",
       "\n",
       "                        })                };                });            </script>        </div>"
      ]
     },
     "metadata": {},
     "output_type": "display_data"
    }
   ],
   "source": [
    "# Plot landscape in 3D \n",
    "\n",
    "fig = go.Figure(data=go.Surface(z=landscape, x=gamma_range, y=beta_range))\n",
    "\n",
    "fig.update_traces(contours_z=dict(show=True, usecolormap=True, highlightcolor='limegreen', project_z=True))\n",
    "\n",
    "\n",
    "fig.update_layout(title=\"QAOA MaxCut\", scene=dict(\n",
    "    xaxis_title=\"gamma\",\n",
    "    yaxis_title=\"beta\",\n",
    "    zaxis_title=\"mean\"\n",
    "))"
   ]
  },
  {
   "cell_type": "code",
   "execution_count": 41,
   "id": "4d2c6539",
   "metadata": {},
   "outputs": [
    {
     "data": {
      "application/vnd.plotly.v1+json": {
       "config": {
        "plotlyServerURL": "https://plot.ly"
       },
       "data": [
        {
         "colorscale": [
          [
           0,
           "#440154"
          ],
          [
           0.1111111111111111,
           "#482878"
          ],
          [
           0.2222222222222222,
           "#3e4989"
          ],
          [
           0.3333333333333333,
           "#31688e"
          ],
          [
           0.4444444444444444,
           "#26828e"
          ],
          [
           0.5555555555555556,
           "#1f9e89"
          ],
          [
           0.6666666666666666,
           "#35b779"
          ],
          [
           0.7777777777777778,
           "#6ece58"
          ],
          [
           0.8888888888888888,
           "#b5de2b"
          ],
          [
           1,
           "#fde725"
          ]
         ],
         "type": "heatmap",
         "x": [
          0,
          0.05,
          0.1,
          0.15000000000000002,
          0.2,
          0.25,
          0.30000000000000004,
          0.35000000000000003,
          0.4,
          0.45,
          0.5,
          0.55,
          0.6000000000000001,
          0.65,
          0.7000000000000001,
          0.75,
          0.8,
          0.8500000000000001,
          0.9,
          0.9500000000000001,
          1,
          1.05,
          1.1,
          1.1500000000000001,
          1.2000000000000002,
          1.25,
          1.3,
          1.35,
          1.4000000000000001,
          1.4500000000000002,
          1.5,
          1.55
         ],
         "y": [
          0,
          0.05,
          0.1,
          0.15000000000000002,
          0.2,
          0.25,
          0.30000000000000004,
          0.35000000000000003,
          0.4,
          0.45,
          0.5,
          0.55,
          0.6000000000000001,
          0.65,
          0.7000000000000001,
          0.75,
          0.8,
          0.8500000000000001,
          0.9,
          0.9500000000000001,
          1,
          1.05,
          1.1,
          1.1500000000000001,
          1.2000000000000002,
          1.25,
          1.3,
          1.35,
          1.4000000000000001,
          1.4500000000000002,
          1.5,
          1.55
         ],
         "z": [
          [
           -3.044921875,
           -2.95703125,
           -3.06640625,
           -2.99609375,
           -2.978515625,
           -3.05078125,
           -3.0234375,
           -3.009765625,
           -3.05078125,
           -3.0234375,
           -3.044921875,
           -2.966796875,
           -3.052734375,
           -3.005859375,
           -2.958984375,
           -3.03515625,
           -2.9765625,
           -3.083984375,
           -3.05078125,
           -3.001953125,
           -3.068359375,
           -3.025390625,
           -2.978515625,
           -2.97265625,
           -3.044921875,
           -2.986328125,
           -2.962890625,
           -3.041015625,
           -2.896484375,
           -3.05078125,
           -3.01171875,
           -3.013671875
          ],
          [
           -3.005859375,
           -2.970703125,
           -2.8671875,
           -2.9609375,
           -2.89453125,
           -2.865234375,
           -2.833984375,
           -2.8046875,
           -2.775390625,
           -2.708984375,
           -2.794921875,
           -2.80859375,
           -2.73828125,
           -2.66015625,
           -2.755859375,
           -2.71484375,
           -2.68359375,
           -2.78125,
           -2.73828125,
           -2.748046875,
           -2.87890625,
           -2.8046875,
           -2.810546875,
           -2.845703125,
           -2.873046875,
           -2.81640625,
           -2.865234375,
           -2.9375,
           -2.953125,
           -2.97265625,
           -2.939453125,
           -3.033203125
          ],
          [
           -2.970703125,
           -2.931640625,
           -2.880859375,
           -2.869140625,
           -2.79296875,
           -2.71875,
           -2.71875,
           -2.708984375,
           -2.61328125,
           -2.6171875,
           -2.49609375,
           -2.427734375,
           -2.529296875,
           -2.451171875,
           -2.484375,
           -2.46875,
           -2.517578125,
           -2.451171875,
           -2.46875,
           -2.48828125,
           -2.53515625,
           -2.56640625,
           -2.55859375,
           -2.58203125,
           -2.671875,
           -2.779296875,
           -2.79296875,
           -2.763671875,
           -2.865234375,
           -2.8125,
           -2.951171875,
           -2.962890625
          ],
          [
           -3.017578125,
           -2.876953125,
           -2.83203125,
           -2.7890625,
           -2.685546875,
           -2.55078125,
           -2.45703125,
           -2.44921875,
           -2.396484375,
           -2.375,
           -2.28125,
           -2.283203125,
           -2.23828125,
           -2.208984375,
           -2.21875,
           -2.216796875,
           -2.1796875,
           -2.220703125,
           -2.28515625,
           -2.3046875,
           -2.326171875,
           -2.380859375,
           -2.390625,
           -2.41015625,
           -2.505859375,
           -2.580078125,
           -2.587890625,
           -2.69921875,
           -2.755859375,
           -2.744140625,
           -2.869140625,
           -2.849609375
          ],
          [
           -3.046875,
           -2.89453125,
           -2.79296875,
           -2.697265625,
           -2.619140625,
           -2.39453125,
           -2.380859375,
           -2.357421875,
           -2.224609375,
           -2.193359375,
           -2.078125,
           -1.9921875,
           -1.94921875,
           -1.97265625,
           -2.009765625,
           -1.98828125,
           -1.94140625,
           -1.943359375,
           -2.029296875,
           -2.04296875,
           -2.087890625,
           -2.173828125,
           -2.267578125,
           -2.18359375,
           -2.33203125,
           -2.388671875,
           -2.4296875,
           -2.53515625,
           -2.51171875,
           -2.6953125,
           -2.76171875,
           -2.796875
          ],
          [
           -2.982421875,
           -2.85546875,
           -2.763671875,
           -2.599609375,
           -2.498046875,
           -2.423828125,
           -2.208984375,
           -2.21484375,
           -2.099609375,
           -1.99609375,
           -1.919921875,
           -1.81640625,
           -1.8359375,
           -1.744140625,
           -1.701171875,
           -1.6875,
           -1.724609375,
           -1.705078125,
           -1.8125,
           -1.84765625,
           -1.88671875,
           -1.958984375,
           -1.9453125,
           -2.087890625,
           -2.154296875,
           -2.234375,
           -2.353515625,
           -2.443359375,
           -2.494140625,
           -2.572265625,
           -2.587890625,
           -2.724609375
          ],
          [
           -3.0078125,
           -2.84765625,
           -2.791015625,
           -2.505859375,
           -2.439453125,
           -2.228515625,
           -2.140625,
           -2.046875,
           -1.92578125,
           -1.80859375,
           -1.6796875,
           -1.625,
           -1.61328125,
           -1.587890625,
           -1.46875,
           -1.5546875,
           -1.546875,
           -1.576171875,
           -1.5390625,
           -1.62109375,
           -1.623046875,
           -1.75390625,
           -1.775390625,
           -1.95703125,
           -2.001953125,
           -2.07421875,
           -2.125,
           -2.259765625,
           -2.33203125,
           -2.396484375,
           -2.5234375,
           -2.65625
          ],
          [
           -3.015625,
           -2.828125,
           -2.716796875,
           -2.517578125,
           -2.361328125,
           -2.154296875,
           -2.076171875,
           -1.9296875,
           -1.826171875,
           -1.625,
           -1.57421875,
           -1.548828125,
           -1.5,
           -1.4765625,
           -1.388671875,
           -1.291015625,
           -1.345703125,
           -1.31640625,
           -1.412109375,
           -1.4453125,
           -1.490234375,
           -1.603515625,
           -1.7265625,
           -1.732421875,
           -1.771484375,
           -1.892578125,
           -2.04296875,
           -2.025390625,
           -2.333984375,
           -2.341796875,
           -2.458984375,
           -2.5625
          ],
          [
           -2.99609375,
           -2.90625,
           -2.642578125,
           -2.58203125,
           -2.388671875,
           -2.248046875,
           -2.080078125,
           -1.953125,
           -1.736328125,
           -1.6015625,
           -1.580078125,
           -1.427734375,
           -1.27734375,
           -1.28515625,
           -1.271484375,
           -1.2265625,
           -1.150390625,
           -1.3125,
           -1.26953125,
           -1.318359375,
           -1.419921875,
           -1.443359375,
           -1.494140625,
           -1.623046875,
           -1.77734375,
           -1.8125,
           -1.927734375,
           -2.009765625,
           -2.1640625,
           -2.1953125,
           -2.39453125,
           -2.47265625
          ],
          [
           -3.0234375,
           -2.91015625,
           -2.740234375,
           -2.556640625,
           -2.337890625,
           -2.177734375,
           -2.064453125,
           -1.880859375,
           -1.728515625,
           -1.685546875,
           -1.482421875,
           -1.41796875,
           -1.30078125,
           -1.255859375,
           -1.19921875,
           -1.220703125,
           -1.17578125,
           -1.083984375,
           -1.15625,
           -1.33203125,
           -1.240234375,
           -1.3203125,
           -1.451171875,
           -1.53515625,
           -1.583984375,
           -1.8125,
           -1.845703125,
           -1.935546875,
           -1.994140625,
           -2.107421875,
           -2.2421875,
           -2.287109375
          ],
          [
           -2.974609375,
           -2.8671875,
           -2.755859375,
           -2.623046875,
           -2.40625,
           -2.232421875,
           -2.1015625,
           -1.962890625,
           -1.802734375,
           -1.73046875,
           -1.505859375,
           -1.439453125,
           -1.380859375,
           -1.236328125,
           -1.271484375,
           -1.21484375,
           -1.12890625,
           -1.158203125,
           -1.162109375,
           -1.21875,
           -1.28125,
           -1.318359375,
           -1.416015625,
           -1.54296875,
           -1.583984375,
           -1.62890625,
           -1.728515625,
           -1.90625,
           -1.955078125,
           -2.046875,
           -2.181640625,
           -2.2890625
          ],
          [
           -3.013671875,
           -2.875,
           -2.765625,
           -2.5546875,
           -2.466796875,
           -2.28515625,
           -2.1953125,
           -2.02734375,
           -1.771484375,
           -1.736328125,
           -1.630859375,
           -1.486328125,
           -1.435546875,
           -1.32421875,
           -1.25,
           -1.228515625,
           -1.1796875,
           -1.1953125,
           -1.193359375,
           -1.259765625,
           -1.26953125,
           -1.322265625,
           -1.400390625,
           -1.421875,
           -1.556640625,
           -1.607421875,
           -1.826171875,
           -1.7578125,
           -1.95703125,
           -2.0234375,
           -2.1015625,
           -2.20703125
          ],
          [
           -3.013671875,
           -2.923828125,
           -2.7578125,
           -2.755859375,
           -2.484375,
           -2.388671875,
           -2.22265625,
           -2.0859375,
           -1.880859375,
           -1.833984375,
           -1.681640625,
           -1.56640625,
           -1.498046875,
           -1.380859375,
           -1.33203125,
           -1.384765625,
           -1.296875,
           -1.330078125,
           -1.265625,
           -1.279296875,
           -1.34765625,
           -1.349609375,
           -1.404296875,
           -1.458984375,
           -1.595703125,
           -1.69140625,
           -1.72265625,
           -1.77734375,
           -1.837890625,
           -1.927734375,
           -2.029296875,
           -2.16015625
          ],
          [
           -3.033203125,
           -2.96484375,
           -2.78125,
           -2.74609375,
           -2.517578125,
           -2.453125,
           -2.28515625,
           -2.251953125,
           -2.11328125,
           -2.001953125,
           -1.873046875,
           -1.73828125,
           -1.59765625,
           -1.560546875,
           -1.4765625,
           -1.40625,
           -1.42578125,
           -1.470703125,
           -1.341796875,
           -1.4453125,
           -1.39453125,
           -1.458984375,
           -1.482421875,
           -1.470703125,
           -1.669921875,
           -1.64453125,
           -1.7109375,
           -1.794921875,
           -1.896484375,
           -1.86328125,
           -1.9609375,
           -2.025390625
          ],
          [
           -2.994140625,
           -2.912109375,
           -2.943359375,
           -2.818359375,
           -2.6796875,
           -2.5625,
           -2.45703125,
           -2.345703125,
           -2.29296875,
           -2.173828125,
           -2.103515625,
           -1.970703125,
           -1.833984375,
           -1.8203125,
           -1.697265625,
           -1.6875,
           -1.58984375,
           -1.525390625,
           -1.544921875,
           -1.53515625,
           -1.466796875,
           -1.64453125,
           -1.61328125,
           -1.70703125,
           -1.650390625,
           -1.662109375,
           -1.712890625,
           -1.8828125,
           -1.876953125,
           -2.00390625,
           -2.037109375,
           -2
          ],
          [
           -2.978515625,
           -2.955078125,
           -2.923828125,
           -2.890625,
           -2.853515625,
           -2.7109375,
           -2.623046875,
           -2.587890625,
           -2.46484375,
           -2.2734375,
           -2.177734375,
           -2.248046875,
           -2.029296875,
           -1.953125,
           -1.884765625,
           -1.85546875,
           -1.732421875,
           -1.85546875,
           -1.794921875,
           -1.7578125,
           -1.736328125,
           -1.7734375,
           -1.82421875,
           -1.751953125,
           -1.763671875,
           -1.771484375,
           -1.80859375,
           -2.005859375,
           -1.958984375,
           -2.001953125,
           -2.0234375,
           -2.0234375
          ],
          [
           -2.98046875,
           -2.947265625,
           -3.02734375,
           -2.95703125,
           -2.87890625,
           -2.798828125,
           -2.763671875,
           -2.740234375,
           -2.560546875,
           -2.623046875,
           -2.470703125,
           -2.400390625,
           -2.380859375,
           -2.255859375,
           -2.169921875,
           -2.05078125,
           -2.037109375,
           -2.037109375,
           -1.984375,
           -1.921875,
           -1.923828125,
           -1.9375,
           -1.880859375,
           -1.91015625,
           -1.94921875,
           -1.916015625,
           -2.060546875,
           -1.947265625,
           -1.939453125,
           -1.970703125,
           -2.037109375,
           -1.94140625
          ],
          [
           -3.048828125,
           -3.033203125,
           -3.05859375,
           -3.06640625,
           -3.11328125,
           -2.986328125,
           -2.875,
           -2.908203125,
           -2.794921875,
           -2.79296875,
           -2.71875,
           -2.67578125,
           -2.619140625,
           -2.5078125,
           -2.4609375,
           -2.36328125,
           -2.4140625,
           -2.298828125,
           -2.193359375,
           -2.138671875,
           -2.16015625,
           -2.103515625,
           -2.203125,
           -2.119140625,
           -2.1328125,
           -2.14453125,
           -2.041015625,
           -2.015625,
           -2.005859375,
           -2.0703125,
           -2.091796875,
           -2.064453125
          ],
          [
           -3.041015625,
           -3.10546875,
           -3.06640625,
           -3.111328125,
           -3.12109375,
           -3.126953125,
           -3.107421875,
           -3.125,
           -3.126953125,
           -2.96484375,
           -2.91015625,
           -2.83203125,
           -2.849609375,
           -2.8828125,
           -2.689453125,
           -2.61328125,
           -2.658203125,
           -2.478515625,
           -2.423828125,
           -2.3515625,
           -2.3984375,
           -2.359375,
           -2.294921875,
           -2.369140625,
           -2.19921875,
           -2.2578125,
           -2.236328125,
           -2.19921875,
           -2.244140625,
           -2.1484375,
           -2.103515625,
           -2.119140625
          ],
          [
           -2.939453125,
           -2.990234375,
           -3.23046875,
           -3.189453125,
           -3.2265625,
           -3.3046875,
           -3.2421875,
           -3.2890625,
           -3.232421875,
           -3.25,
           -3.2109375,
           -3.13671875,
           -3.01171875,
           -3.013671875,
           -2.951171875,
           -2.93359375,
           -2.826171875,
           -2.8203125,
           -2.78125,
           -2.689453125,
           -2.640625,
           -2.640625,
           -2.529296875,
           -2.501953125,
           -2.41796875,
           -2.423828125,
           -2.361328125,
           -2.373046875,
           -2.251953125,
           -2.25390625,
           -2.2109375,
           -2.146484375
          ],
          [
           -3.017578125,
           -3.126953125,
           -3.171875,
           -3.205078125,
           -3.337890625,
           -3.396484375,
           -3.44140625,
           -3.4453125,
           -3.4296875,
           -3.4140625,
           -3.4296875,
           -3.353515625,
           -3.275390625,
           -3.30078125,
           -3.265625,
           -3.0703125,
           -3.138671875,
           -3.07421875,
           -2.96484375,
           -2.91796875,
           -2.94140625,
           -2.84765625,
           -2.767578125,
           -2.71484375,
           -2.603515625,
           -2.58203125,
           -2.564453125,
           -2.45703125,
           -2.380859375,
           -2.423828125,
           -2.310546875,
           -2.234375
          ],
          [
           -2.974609375,
           -3.15234375,
           -3.21875,
           -3.298828125,
           -3.423828125,
           -3.50390625,
           -3.56640625,
           -3.55859375,
           -3.61328125,
           -3.61328125,
           -3.578125,
           -3.57421875,
           -3.572265625,
           -3.443359375,
           -3.45703125,
           -3.412109375,
           -3.29296875,
           -3.234375,
           -3.205078125,
           -3.044921875,
           -3.107421875,
           -3.0546875,
           -2.935546875,
           -2.951171875,
           -2.904296875,
           -2.77734375,
           -2.68359375,
           -2.53515625,
           -2.572265625,
           -2.4609375,
           -2.345703125,
           -2.287109375
          ],
          [
           -2.978515625,
           -3.125,
           -3.279296875,
           -3.390625,
           -3.466796875,
           -3.595703125,
           -3.6171875,
           -3.646484375,
           -3.677734375,
           -3.70703125,
           -3.689453125,
           -3.75,
           -3.71484375,
           -3.638671875,
           -3.654296875,
           -3.51171875,
           -3.525390625,
           -3.41796875,
           -3.443359375,
           -3.30859375,
           -3.169921875,
           -3.1796875,
           -3.150390625,
           -3.087890625,
           -2.986328125,
           -2.875,
           -2.787109375,
           -2.748046875,
           -2.638671875,
           -2.59765625,
           -2.501953125,
           -2.37109375
          ],
          [
           -3.00390625,
           -3.17578125,
           -3.322265625,
           -3.40234375,
           -3.5390625,
           -3.560546875,
           -3.658203125,
           -3.748046875,
           -3.76171875,
           -3.828125,
           -3.83984375,
           -3.826171875,
           -3.845703125,
           -3.8203125,
           -3.755859375,
           -3.716796875,
           -3.693359375,
           -3.541015625,
           -3.552734375,
           -3.45703125,
           -3.400390625,
           -3.341796875,
           -3.22265625,
           -3.142578125,
           -3.0703125,
           -3.01953125,
           -2.970703125,
           -2.802734375,
           -2.78515625,
           -2.720703125,
           -2.609375,
           -2.529296875
          ],
          [
           -3.078125,
           -3.11328125,
           -3.26171875,
           -3.423828125,
           -3.544921875,
           -3.650390625,
           -3.6875,
           -3.75390625,
           -3.861328125,
           -3.87109375,
           -3.900390625,
           -3.916015625,
           -3.900390625,
           -3.87109375,
           -3.89453125,
           -3.826171875,
           -3.80859375,
           -3.69921875,
           -3.669921875,
           -3.609375,
           -3.560546875,
           -3.431640625,
           -3.3828125,
           -3.294921875,
           -3.208984375,
           -3.1171875,
           -3.044921875,
           -2.947265625,
           -2.90625,
           -2.77734375,
           -2.623046875,
           -2.578125
          ],
          [
           -2.970703125,
           -3.1875,
           -3.26953125,
           -3.36328125,
           -3.55859375,
           -3.6015625,
           -3.6953125,
           -3.76171875,
           -3.837890625,
           -3.876953125,
           -3.912109375,
           -3.927734375,
           -3.955078125,
           -3.892578125,
           -3.908203125,
           -3.873046875,
           -3.853515625,
           -3.8125,
           -3.748046875,
           -3.673828125,
           -3.52734375,
           -3.537109375,
           -3.4609375,
           -3.37890625,
           -3.2734375,
           -3.248046875,
           -3.076171875,
           -2.9921875,
           -2.91796875,
           -2.84765625,
           -2.787109375,
           -2.748046875
          ],
          [
           -2.943359375,
           -3.1796875,
           -3.23828125,
           -3.390625,
           -3.4765625,
           -3.537109375,
           -3.638671875,
           -3.740234375,
           -3.783203125,
           -3.8359375,
           -3.876953125,
           -3.87890625,
           -3.888671875,
           -3.90234375,
           -3.890625,
           -3.8046875,
           -3.85546875,
           -3.78125,
           -3.720703125,
           -3.66015625,
           -3.564453125,
           -3.564453125,
           -3.50390625,
           -3.4375,
           -3.3125,
           -3.328125,
           -3.12890625,
           -3.078125,
           -3.076171875,
           -2.94140625,
           -2.87890625,
           -2.740234375
          ],
          [
           -2.9765625,
           -3.099609375,
           -3.283203125,
           -3.33203125,
           -3.474609375,
           -3.54296875,
           -3.5859375,
           -3.68359375,
           -3.6953125,
           -3.767578125,
           -3.830078125,
           -3.85546875,
           -3.853515625,
           -3.869140625,
           -3.814453125,
           -3.810546875,
           -3.794921875,
           -3.75,
           -3.677734375,
           -3.67578125,
           -3.55078125,
           -3.5546875,
           -3.47265625,
           -3.451171875,
           -3.31640625,
           -3.2890625,
           -3.234375,
           -3.1640625,
           -3.033203125,
           -3.048828125,
           -2.93359375,
           -2.86328125
          ],
          [
           -2.962890625,
           -3.0625,
           -3.208984375,
           -3.267578125,
           -3.412109375,
           -3.455078125,
           -3.509765625,
           -3.529296875,
           -3.568359375,
           -3.634765625,
           -3.658203125,
           -3.669921875,
           -3.677734375,
           -3.705078125,
           -3.689453125,
           -3.671875,
           -3.666015625,
           -3.630859375,
           -3.62890625,
           -3.576171875,
           -3.544921875,
           -3.45703125,
           -3.455078125,
           -3.365234375,
           -3.345703125,
           -3.228515625,
           -3.2265625,
           -3.220703125,
           -3.068359375,
           -2.958984375,
           -2.95703125,
           -2.904296875
          ],
          [
           -2.9921875,
           -3.015625,
           -3.126953125,
           -3.1640625,
           -3.30078125,
           -3.29296875,
           -3.388671875,
           -3.37890625,
           -3.41796875,
           -3.482421875,
           -3.5390625,
           -3.490234375,
           -3.541015625,
           -3.525390625,
           -3.53125,
           -3.552734375,
           -3.466796875,
           -3.474609375,
           -3.509765625,
           -3.4609375,
           -3.470703125,
           -3.4296875,
           -3.37890625,
           -3.380859375,
           -3.314453125,
           -3.19140625,
           -3.1875,
           -3.177734375,
           -3.189453125,
           -3.041015625,
           -2.935546875,
           -2.919921875
          ],
          [
           -3.01171875,
           -2.984375,
           -3.1171875,
           -3.119140625,
           -3.1328125,
           -3.171875,
           -3.216796875,
           -3.271484375,
           -3.275390625,
           -3.33984375,
           -3.314453125,
           -3.302734375,
           -3.3359375,
           -3.328125,
           -3.357421875,
           -3.390625,
           -3.369140625,
           -3.298828125,
           -3.30859375,
           -3.3359375,
           -3.244140625,
           -3.26171875,
           -3.224609375,
           -3.23046875,
           -3.15625,
           -3.11328125,
           -3.12890625,
           -3.115234375,
           -3.080078125,
           -2.990234375,
           -2.99609375,
           -3.033203125
          ],
          [
           -3.021484375,
           -3.02734375,
           -3.03125,
           -2.986328125,
           -3.009765625,
           -3.021484375,
           -3.0625,
           -3.09765625,
           -3.123046875,
           -3.193359375,
           -3.046875,
           -3.046875,
           -3.109375,
           -3.046875,
           -3.1015625,
           -3.1484375,
           -3.107421875,
           -3.04296875,
           -3.0546875,
           -3.091796875,
           -3.0625,
           -3.080078125,
           -3.107421875,
           -3.099609375,
           -3.01171875,
           -3.0703125,
           -3.025390625,
           -3.048828125,
           -3.021484375,
           -2.998046875,
           -3.0703125,
           -3.060546875
          ]
         ]
        },
        {
         "hovertemplate": "x: %{x}<br>y: %{y}<br> z: %{text:.2f}<extra></extra>",
         "marker": {
          "color": "red",
          "line": {
           "width": 1
          },
          "size": 16,
          "symbol": [
           204
          ]
         },
         "mode": "markers",
         "text": [
          "-3.955078125"
         ],
         "type": "scatter",
         "x": [
          0.6000000000000001
         ],
         "y": [
          1.25
         ]
        }
       ],
       "layout": {
        "height": 700,
        "template": {
         "data": {
          "bar": [
           {
            "error_x": {
             "color": "#2a3f5f"
            },
            "error_y": {
             "color": "#2a3f5f"
            },
            "marker": {
             "line": {
              "color": "#E5ECF6",
              "width": 0.5
             },
             "pattern": {
              "fillmode": "overlay",
              "size": 10,
              "solidity": 0.2
             }
            },
            "type": "bar"
           }
          ],
          "barpolar": [
           {
            "marker": {
             "line": {
              "color": "#E5ECF6",
              "width": 0.5
             },
             "pattern": {
              "fillmode": "overlay",
              "size": 10,
              "solidity": 0.2
             }
            },
            "type": "barpolar"
           }
          ],
          "carpet": [
           {
            "aaxis": {
             "endlinecolor": "#2a3f5f",
             "gridcolor": "white",
             "linecolor": "white",
             "minorgridcolor": "white",
             "startlinecolor": "#2a3f5f"
            },
            "baxis": {
             "endlinecolor": "#2a3f5f",
             "gridcolor": "white",
             "linecolor": "white",
             "minorgridcolor": "white",
             "startlinecolor": "#2a3f5f"
            },
            "type": "carpet"
           }
          ],
          "choropleth": [
           {
            "colorbar": {
             "outlinewidth": 0,
             "ticks": ""
            },
            "type": "choropleth"
           }
          ],
          "contour": [
           {
            "colorbar": {
             "outlinewidth": 0,
             "ticks": ""
            },
            "colorscale": [
             [
              0,
              "#0d0887"
             ],
             [
              0.1111111111111111,
              "#46039f"
             ],
             [
              0.2222222222222222,
              "#7201a8"
             ],
             [
              0.3333333333333333,
              "#9c179e"
             ],
             [
              0.4444444444444444,
              "#bd3786"
             ],
             [
              0.5555555555555556,
              "#d8576b"
             ],
             [
              0.6666666666666666,
              "#ed7953"
             ],
             [
              0.7777777777777778,
              "#fb9f3a"
             ],
             [
              0.8888888888888888,
              "#fdca26"
             ],
             [
              1,
              "#f0f921"
             ]
            ],
            "type": "contour"
           }
          ],
          "contourcarpet": [
           {
            "colorbar": {
             "outlinewidth": 0,
             "ticks": ""
            },
            "type": "contourcarpet"
           }
          ],
          "heatmap": [
           {
            "colorbar": {
             "outlinewidth": 0,
             "ticks": ""
            },
            "colorscale": [
             [
              0,
              "#0d0887"
             ],
             [
              0.1111111111111111,
              "#46039f"
             ],
             [
              0.2222222222222222,
              "#7201a8"
             ],
             [
              0.3333333333333333,
              "#9c179e"
             ],
             [
              0.4444444444444444,
              "#bd3786"
             ],
             [
              0.5555555555555556,
              "#d8576b"
             ],
             [
              0.6666666666666666,
              "#ed7953"
             ],
             [
              0.7777777777777778,
              "#fb9f3a"
             ],
             [
              0.8888888888888888,
              "#fdca26"
             ],
             [
              1,
              "#f0f921"
             ]
            ],
            "type": "heatmap"
           }
          ],
          "heatmapgl": [
           {
            "colorbar": {
             "outlinewidth": 0,
             "ticks": ""
            },
            "colorscale": [
             [
              0,
              "#0d0887"
             ],
             [
              0.1111111111111111,
              "#46039f"
             ],
             [
              0.2222222222222222,
              "#7201a8"
             ],
             [
              0.3333333333333333,
              "#9c179e"
             ],
             [
              0.4444444444444444,
              "#bd3786"
             ],
             [
              0.5555555555555556,
              "#d8576b"
             ],
             [
              0.6666666666666666,
              "#ed7953"
             ],
             [
              0.7777777777777778,
              "#fb9f3a"
             ],
             [
              0.8888888888888888,
              "#fdca26"
             ],
             [
              1,
              "#f0f921"
             ]
            ],
            "type": "heatmapgl"
           }
          ],
          "histogram": [
           {
            "marker": {
             "pattern": {
              "fillmode": "overlay",
              "size": 10,
              "solidity": 0.2
             }
            },
            "type": "histogram"
           }
          ],
          "histogram2d": [
           {
            "colorbar": {
             "outlinewidth": 0,
             "ticks": ""
            },
            "colorscale": [
             [
              0,
              "#0d0887"
             ],
             [
              0.1111111111111111,
              "#46039f"
             ],
             [
              0.2222222222222222,
              "#7201a8"
             ],
             [
              0.3333333333333333,
              "#9c179e"
             ],
             [
              0.4444444444444444,
              "#bd3786"
             ],
             [
              0.5555555555555556,
              "#d8576b"
             ],
             [
              0.6666666666666666,
              "#ed7953"
             ],
             [
              0.7777777777777778,
              "#fb9f3a"
             ],
             [
              0.8888888888888888,
              "#fdca26"
             ],
             [
              1,
              "#f0f921"
             ]
            ],
            "type": "histogram2d"
           }
          ],
          "histogram2dcontour": [
           {
            "colorbar": {
             "outlinewidth": 0,
             "ticks": ""
            },
            "colorscale": [
             [
              0,
              "#0d0887"
             ],
             [
              0.1111111111111111,
              "#46039f"
             ],
             [
              0.2222222222222222,
              "#7201a8"
             ],
             [
              0.3333333333333333,
              "#9c179e"
             ],
             [
              0.4444444444444444,
              "#bd3786"
             ],
             [
              0.5555555555555556,
              "#d8576b"
             ],
             [
              0.6666666666666666,
              "#ed7953"
             ],
             [
              0.7777777777777778,
              "#fb9f3a"
             ],
             [
              0.8888888888888888,
              "#fdca26"
             ],
             [
              1,
              "#f0f921"
             ]
            ],
            "type": "histogram2dcontour"
           }
          ],
          "mesh3d": [
           {
            "colorbar": {
             "outlinewidth": 0,
             "ticks": ""
            },
            "type": "mesh3d"
           }
          ],
          "parcoords": [
           {
            "line": {
             "colorbar": {
              "outlinewidth": 0,
              "ticks": ""
             }
            },
            "type": "parcoords"
           }
          ],
          "pie": [
           {
            "automargin": true,
            "type": "pie"
           }
          ],
          "scatter": [
           {
            "marker": {
             "colorbar": {
              "outlinewidth": 0,
              "ticks": ""
             }
            },
            "type": "scatter"
           }
          ],
          "scatter3d": [
           {
            "line": {
             "colorbar": {
              "outlinewidth": 0,
              "ticks": ""
             }
            },
            "marker": {
             "colorbar": {
              "outlinewidth": 0,
              "ticks": ""
             }
            },
            "type": "scatter3d"
           }
          ],
          "scattercarpet": [
           {
            "marker": {
             "colorbar": {
              "outlinewidth": 0,
              "ticks": ""
             }
            },
            "type": "scattercarpet"
           }
          ],
          "scattergeo": [
           {
            "marker": {
             "colorbar": {
              "outlinewidth": 0,
              "ticks": ""
             }
            },
            "type": "scattergeo"
           }
          ],
          "scattergl": [
           {
            "marker": {
             "colorbar": {
              "outlinewidth": 0,
              "ticks": ""
             }
            },
            "type": "scattergl"
           }
          ],
          "scattermapbox": [
           {
            "marker": {
             "colorbar": {
              "outlinewidth": 0,
              "ticks": ""
             }
            },
            "type": "scattermapbox"
           }
          ],
          "scatterpolar": [
           {
            "marker": {
             "colorbar": {
              "outlinewidth": 0,
              "ticks": ""
             }
            },
            "type": "scatterpolar"
           }
          ],
          "scatterpolargl": [
           {
            "marker": {
             "colorbar": {
              "outlinewidth": 0,
              "ticks": ""
             }
            },
            "type": "scatterpolargl"
           }
          ],
          "scatterternary": [
           {
            "marker": {
             "colorbar": {
              "outlinewidth": 0,
              "ticks": ""
             }
            },
            "type": "scatterternary"
           }
          ],
          "surface": [
           {
            "colorbar": {
             "outlinewidth": 0,
             "ticks": ""
            },
            "colorscale": [
             [
              0,
              "#0d0887"
             ],
             [
              0.1111111111111111,
              "#46039f"
             ],
             [
              0.2222222222222222,
              "#7201a8"
             ],
             [
              0.3333333333333333,
              "#9c179e"
             ],
             [
              0.4444444444444444,
              "#bd3786"
             ],
             [
              0.5555555555555556,
              "#d8576b"
             ],
             [
              0.6666666666666666,
              "#ed7953"
             ],
             [
              0.7777777777777778,
              "#fb9f3a"
             ],
             [
              0.8888888888888888,
              "#fdca26"
             ],
             [
              1,
              "#f0f921"
             ]
            ],
            "type": "surface"
           }
          ],
          "table": [
           {
            "cells": {
             "fill": {
              "color": "#EBF0F8"
             },
             "line": {
              "color": "white"
             }
            },
            "header": {
             "fill": {
              "color": "#C8D4E3"
             },
             "line": {
              "color": "white"
             }
            },
            "type": "table"
           }
          ]
         },
         "layout": {
          "annotationdefaults": {
           "arrowcolor": "#2a3f5f",
           "arrowhead": 0,
           "arrowwidth": 1
          },
          "autotypenumbers": "strict",
          "coloraxis": {
           "colorbar": {
            "outlinewidth": 0,
            "ticks": ""
           }
          },
          "colorscale": {
           "diverging": [
            [
             0,
             "#8e0152"
            ],
            [
             0.1,
             "#c51b7d"
            ],
            [
             0.2,
             "#de77ae"
            ],
            [
             0.3,
             "#f1b6da"
            ],
            [
             0.4,
             "#fde0ef"
            ],
            [
             0.5,
             "#f7f7f7"
            ],
            [
             0.6,
             "#e6f5d0"
            ],
            [
             0.7,
             "#b8e186"
            ],
            [
             0.8,
             "#7fbc41"
            ],
            [
             0.9,
             "#4d9221"
            ],
            [
             1,
             "#276419"
            ]
           ],
           "sequential": [
            [
             0,
             "#0d0887"
            ],
            [
             0.1111111111111111,
             "#46039f"
            ],
            [
             0.2222222222222222,
             "#7201a8"
            ],
            [
             0.3333333333333333,
             "#9c179e"
            ],
            [
             0.4444444444444444,
             "#bd3786"
            ],
            [
             0.5555555555555556,
             "#d8576b"
            ],
            [
             0.6666666666666666,
             "#ed7953"
            ],
            [
             0.7777777777777778,
             "#fb9f3a"
            ],
            [
             0.8888888888888888,
             "#fdca26"
            ],
            [
             1,
             "#f0f921"
            ]
           ],
           "sequentialminus": [
            [
             0,
             "#0d0887"
            ],
            [
             0.1111111111111111,
             "#46039f"
            ],
            [
             0.2222222222222222,
             "#7201a8"
            ],
            [
             0.3333333333333333,
             "#9c179e"
            ],
            [
             0.4444444444444444,
             "#bd3786"
            ],
            [
             0.5555555555555556,
             "#d8576b"
            ],
            [
             0.6666666666666666,
             "#ed7953"
            ],
            [
             0.7777777777777778,
             "#fb9f3a"
            ],
            [
             0.8888888888888888,
             "#fdca26"
            ],
            [
             1,
             "#f0f921"
            ]
           ]
          },
          "colorway": [
           "#636efa",
           "#EF553B",
           "#00cc96",
           "#ab63fa",
           "#FFA15A",
           "#19d3f3",
           "#FF6692",
           "#B6E880",
           "#FF97FF",
           "#FECB52"
          ],
          "font": {
           "color": "#2a3f5f"
          },
          "geo": {
           "bgcolor": "white",
           "lakecolor": "white",
           "landcolor": "#E5ECF6",
           "showlakes": true,
           "showland": true,
           "subunitcolor": "white"
          },
          "hoverlabel": {
           "align": "left"
          },
          "hovermode": "closest",
          "mapbox": {
           "style": "light"
          },
          "paper_bgcolor": "white",
          "plot_bgcolor": "#E5ECF6",
          "polar": {
           "angularaxis": {
            "gridcolor": "white",
            "linecolor": "white",
            "ticks": ""
           },
           "bgcolor": "#E5ECF6",
           "radialaxis": {
            "gridcolor": "white",
            "linecolor": "white",
            "ticks": ""
           }
          },
          "scene": {
           "xaxis": {
            "backgroundcolor": "#E5ECF6",
            "gridcolor": "white",
            "gridwidth": 2,
            "linecolor": "white",
            "showbackground": true,
            "ticks": "",
            "zerolinecolor": "white"
           },
           "yaxis": {
            "backgroundcolor": "#E5ECF6",
            "gridcolor": "white",
            "gridwidth": 2,
            "linecolor": "white",
            "showbackground": true,
            "ticks": "",
            "zerolinecolor": "white"
           },
           "zaxis": {
            "backgroundcolor": "#E5ECF6",
            "gridcolor": "white",
            "gridwidth": 2,
            "linecolor": "white",
            "showbackground": true,
            "ticks": "",
            "zerolinecolor": "white"
           }
          },
          "shapedefaults": {
           "line": {
            "color": "#2a3f5f"
           }
          },
          "ternary": {
           "aaxis": {
            "gridcolor": "white",
            "linecolor": "white",
            "ticks": ""
           },
           "baxis": {
            "gridcolor": "white",
            "linecolor": "white",
            "ticks": ""
           },
           "bgcolor": "#E5ECF6",
           "caxis": {
            "gridcolor": "white",
            "linecolor": "white",
            "ticks": ""
           }
          },
          "title": {
           "x": 0.05
          },
          "xaxis": {
           "automargin": true,
           "gridcolor": "white",
           "linecolor": "white",
           "ticks": "",
           "title": {
            "standoff": 15
           },
           "zerolinecolor": "white",
           "zerolinewidth": 2
          },
          "yaxis": {
           "automargin": true,
           "gridcolor": "white",
           "linecolor": "white",
           "ticks": "",
           "title": {
            "standoff": 15
           },
           "zerolinecolor": "white",
           "zerolinewidth": 2
          }
         }
        },
        "title": {
         "text": "QAOA MaxCut"
        },
        "width": 700,
        "xaxis": {
         "title": {
          "text": "gamma"
         }
        },
        "yaxis": {
         "title": {
          "text": "beta"
         }
        }
       }
      },
      "text/html": [
       "<div>                            <div id=\"ddbb1294-38e6-49e7-9fe7-e0935bd3151a\" class=\"plotly-graph-div\" style=\"height:700px; width:700px;\"></div>            <script type=\"text/javascript\">                require([\"plotly\"], function(Plotly) {                    window.PLOTLYENV=window.PLOTLYENV || {};                                    if (document.getElementById(\"ddbb1294-38e6-49e7-9fe7-e0935bd3151a\")) {                    Plotly.newPlot(                        \"ddbb1294-38e6-49e7-9fe7-e0935bd3151a\",                        [{\"colorscale\":[[0.0,\"#440154\"],[0.1111111111111111,\"#482878\"],[0.2222222222222222,\"#3e4989\"],[0.3333333333333333,\"#31688e\"],[0.4444444444444444,\"#26828e\"],[0.5555555555555556,\"#1f9e89\"],[0.6666666666666666,\"#35b779\"],[0.7777777777777778,\"#6ece58\"],[0.8888888888888888,\"#b5de2b\"],[1.0,\"#fde725\"]],\"type\":\"heatmap\",\"x\":[0.0,0.05,0.1,0.15000000000000002,0.2,0.25,0.30000000000000004,0.35000000000000003,0.4,0.45,0.5,0.55,0.6000000000000001,0.65,0.7000000000000001,0.75,0.8,0.8500000000000001,0.9,0.9500000000000001,1.0,1.05,1.1,1.1500000000000001,1.2000000000000002,1.25,1.3,1.35,1.4000000000000001,1.4500000000000002,1.5,1.55],\"y\":[0.0,0.05,0.1,0.15000000000000002,0.2,0.25,0.30000000000000004,0.35000000000000003,0.4,0.45,0.5,0.55,0.6000000000000001,0.65,0.7000000000000001,0.75,0.8,0.8500000000000001,0.9,0.9500000000000001,1.0,1.05,1.1,1.1500000000000001,1.2000000000000002,1.25,1.3,1.35,1.4000000000000001,1.4500000000000002,1.5,1.55],\"z\":[[-3.044921875,-2.95703125,-3.06640625,-2.99609375,-2.978515625,-3.05078125,-3.0234375,-3.009765625,-3.05078125,-3.0234375,-3.044921875,-2.966796875,-3.052734375,-3.005859375,-2.958984375,-3.03515625,-2.9765625,-3.083984375,-3.05078125,-3.001953125,-3.068359375,-3.025390625,-2.978515625,-2.97265625,-3.044921875,-2.986328125,-2.962890625,-3.041015625,-2.896484375,-3.05078125,-3.01171875,-3.013671875],[-3.005859375,-2.970703125,-2.8671875,-2.9609375,-2.89453125,-2.865234375,-2.833984375,-2.8046875,-2.775390625,-2.708984375,-2.794921875,-2.80859375,-2.73828125,-2.66015625,-2.755859375,-2.71484375,-2.68359375,-2.78125,-2.73828125,-2.748046875,-2.87890625,-2.8046875,-2.810546875,-2.845703125,-2.873046875,-2.81640625,-2.865234375,-2.9375,-2.953125,-2.97265625,-2.939453125,-3.033203125],[-2.970703125,-2.931640625,-2.880859375,-2.869140625,-2.79296875,-2.71875,-2.71875,-2.708984375,-2.61328125,-2.6171875,-2.49609375,-2.427734375,-2.529296875,-2.451171875,-2.484375,-2.46875,-2.517578125,-2.451171875,-2.46875,-2.48828125,-2.53515625,-2.56640625,-2.55859375,-2.58203125,-2.671875,-2.779296875,-2.79296875,-2.763671875,-2.865234375,-2.8125,-2.951171875,-2.962890625],[-3.017578125,-2.876953125,-2.83203125,-2.7890625,-2.685546875,-2.55078125,-2.45703125,-2.44921875,-2.396484375,-2.375,-2.28125,-2.283203125,-2.23828125,-2.208984375,-2.21875,-2.216796875,-2.1796875,-2.220703125,-2.28515625,-2.3046875,-2.326171875,-2.380859375,-2.390625,-2.41015625,-2.505859375,-2.580078125,-2.587890625,-2.69921875,-2.755859375,-2.744140625,-2.869140625,-2.849609375],[-3.046875,-2.89453125,-2.79296875,-2.697265625,-2.619140625,-2.39453125,-2.380859375,-2.357421875,-2.224609375,-2.193359375,-2.078125,-1.9921875,-1.94921875,-1.97265625,-2.009765625,-1.98828125,-1.94140625,-1.943359375,-2.029296875,-2.04296875,-2.087890625,-2.173828125,-2.267578125,-2.18359375,-2.33203125,-2.388671875,-2.4296875,-2.53515625,-2.51171875,-2.6953125,-2.76171875,-2.796875],[-2.982421875,-2.85546875,-2.763671875,-2.599609375,-2.498046875,-2.423828125,-2.208984375,-2.21484375,-2.099609375,-1.99609375,-1.919921875,-1.81640625,-1.8359375,-1.744140625,-1.701171875,-1.6875,-1.724609375,-1.705078125,-1.8125,-1.84765625,-1.88671875,-1.958984375,-1.9453125,-2.087890625,-2.154296875,-2.234375,-2.353515625,-2.443359375,-2.494140625,-2.572265625,-2.587890625,-2.724609375],[-3.0078125,-2.84765625,-2.791015625,-2.505859375,-2.439453125,-2.228515625,-2.140625,-2.046875,-1.92578125,-1.80859375,-1.6796875,-1.625,-1.61328125,-1.587890625,-1.46875,-1.5546875,-1.546875,-1.576171875,-1.5390625,-1.62109375,-1.623046875,-1.75390625,-1.775390625,-1.95703125,-2.001953125,-2.07421875,-2.125,-2.259765625,-2.33203125,-2.396484375,-2.5234375,-2.65625],[-3.015625,-2.828125,-2.716796875,-2.517578125,-2.361328125,-2.154296875,-2.076171875,-1.9296875,-1.826171875,-1.625,-1.57421875,-1.548828125,-1.5,-1.4765625,-1.388671875,-1.291015625,-1.345703125,-1.31640625,-1.412109375,-1.4453125,-1.490234375,-1.603515625,-1.7265625,-1.732421875,-1.771484375,-1.892578125,-2.04296875,-2.025390625,-2.333984375,-2.341796875,-2.458984375,-2.5625],[-2.99609375,-2.90625,-2.642578125,-2.58203125,-2.388671875,-2.248046875,-2.080078125,-1.953125,-1.736328125,-1.6015625,-1.580078125,-1.427734375,-1.27734375,-1.28515625,-1.271484375,-1.2265625,-1.150390625,-1.3125,-1.26953125,-1.318359375,-1.419921875,-1.443359375,-1.494140625,-1.623046875,-1.77734375,-1.8125,-1.927734375,-2.009765625,-2.1640625,-2.1953125,-2.39453125,-2.47265625],[-3.0234375,-2.91015625,-2.740234375,-2.556640625,-2.337890625,-2.177734375,-2.064453125,-1.880859375,-1.728515625,-1.685546875,-1.482421875,-1.41796875,-1.30078125,-1.255859375,-1.19921875,-1.220703125,-1.17578125,-1.083984375,-1.15625,-1.33203125,-1.240234375,-1.3203125,-1.451171875,-1.53515625,-1.583984375,-1.8125,-1.845703125,-1.935546875,-1.994140625,-2.107421875,-2.2421875,-2.287109375],[-2.974609375,-2.8671875,-2.755859375,-2.623046875,-2.40625,-2.232421875,-2.1015625,-1.962890625,-1.802734375,-1.73046875,-1.505859375,-1.439453125,-1.380859375,-1.236328125,-1.271484375,-1.21484375,-1.12890625,-1.158203125,-1.162109375,-1.21875,-1.28125,-1.318359375,-1.416015625,-1.54296875,-1.583984375,-1.62890625,-1.728515625,-1.90625,-1.955078125,-2.046875,-2.181640625,-2.2890625],[-3.013671875,-2.875,-2.765625,-2.5546875,-2.466796875,-2.28515625,-2.1953125,-2.02734375,-1.771484375,-1.736328125,-1.630859375,-1.486328125,-1.435546875,-1.32421875,-1.25,-1.228515625,-1.1796875,-1.1953125,-1.193359375,-1.259765625,-1.26953125,-1.322265625,-1.400390625,-1.421875,-1.556640625,-1.607421875,-1.826171875,-1.7578125,-1.95703125,-2.0234375,-2.1015625,-2.20703125],[-3.013671875,-2.923828125,-2.7578125,-2.755859375,-2.484375,-2.388671875,-2.22265625,-2.0859375,-1.880859375,-1.833984375,-1.681640625,-1.56640625,-1.498046875,-1.380859375,-1.33203125,-1.384765625,-1.296875,-1.330078125,-1.265625,-1.279296875,-1.34765625,-1.349609375,-1.404296875,-1.458984375,-1.595703125,-1.69140625,-1.72265625,-1.77734375,-1.837890625,-1.927734375,-2.029296875,-2.16015625],[-3.033203125,-2.96484375,-2.78125,-2.74609375,-2.517578125,-2.453125,-2.28515625,-2.251953125,-2.11328125,-2.001953125,-1.873046875,-1.73828125,-1.59765625,-1.560546875,-1.4765625,-1.40625,-1.42578125,-1.470703125,-1.341796875,-1.4453125,-1.39453125,-1.458984375,-1.482421875,-1.470703125,-1.669921875,-1.64453125,-1.7109375,-1.794921875,-1.896484375,-1.86328125,-1.9609375,-2.025390625],[-2.994140625,-2.912109375,-2.943359375,-2.818359375,-2.6796875,-2.5625,-2.45703125,-2.345703125,-2.29296875,-2.173828125,-2.103515625,-1.970703125,-1.833984375,-1.8203125,-1.697265625,-1.6875,-1.58984375,-1.525390625,-1.544921875,-1.53515625,-1.466796875,-1.64453125,-1.61328125,-1.70703125,-1.650390625,-1.662109375,-1.712890625,-1.8828125,-1.876953125,-2.00390625,-2.037109375,-2.0],[-2.978515625,-2.955078125,-2.923828125,-2.890625,-2.853515625,-2.7109375,-2.623046875,-2.587890625,-2.46484375,-2.2734375,-2.177734375,-2.248046875,-2.029296875,-1.953125,-1.884765625,-1.85546875,-1.732421875,-1.85546875,-1.794921875,-1.7578125,-1.736328125,-1.7734375,-1.82421875,-1.751953125,-1.763671875,-1.771484375,-1.80859375,-2.005859375,-1.958984375,-2.001953125,-2.0234375,-2.0234375],[-2.98046875,-2.947265625,-3.02734375,-2.95703125,-2.87890625,-2.798828125,-2.763671875,-2.740234375,-2.560546875,-2.623046875,-2.470703125,-2.400390625,-2.380859375,-2.255859375,-2.169921875,-2.05078125,-2.037109375,-2.037109375,-1.984375,-1.921875,-1.923828125,-1.9375,-1.880859375,-1.91015625,-1.94921875,-1.916015625,-2.060546875,-1.947265625,-1.939453125,-1.970703125,-2.037109375,-1.94140625],[-3.048828125,-3.033203125,-3.05859375,-3.06640625,-3.11328125,-2.986328125,-2.875,-2.908203125,-2.794921875,-2.79296875,-2.71875,-2.67578125,-2.619140625,-2.5078125,-2.4609375,-2.36328125,-2.4140625,-2.298828125,-2.193359375,-2.138671875,-2.16015625,-2.103515625,-2.203125,-2.119140625,-2.1328125,-2.14453125,-2.041015625,-2.015625,-2.005859375,-2.0703125,-2.091796875,-2.064453125],[-3.041015625,-3.10546875,-3.06640625,-3.111328125,-3.12109375,-3.126953125,-3.107421875,-3.125,-3.126953125,-2.96484375,-2.91015625,-2.83203125,-2.849609375,-2.8828125,-2.689453125,-2.61328125,-2.658203125,-2.478515625,-2.423828125,-2.3515625,-2.3984375,-2.359375,-2.294921875,-2.369140625,-2.19921875,-2.2578125,-2.236328125,-2.19921875,-2.244140625,-2.1484375,-2.103515625,-2.119140625],[-2.939453125,-2.990234375,-3.23046875,-3.189453125,-3.2265625,-3.3046875,-3.2421875,-3.2890625,-3.232421875,-3.25,-3.2109375,-3.13671875,-3.01171875,-3.013671875,-2.951171875,-2.93359375,-2.826171875,-2.8203125,-2.78125,-2.689453125,-2.640625,-2.640625,-2.529296875,-2.501953125,-2.41796875,-2.423828125,-2.361328125,-2.373046875,-2.251953125,-2.25390625,-2.2109375,-2.146484375],[-3.017578125,-3.126953125,-3.171875,-3.205078125,-3.337890625,-3.396484375,-3.44140625,-3.4453125,-3.4296875,-3.4140625,-3.4296875,-3.353515625,-3.275390625,-3.30078125,-3.265625,-3.0703125,-3.138671875,-3.07421875,-2.96484375,-2.91796875,-2.94140625,-2.84765625,-2.767578125,-2.71484375,-2.603515625,-2.58203125,-2.564453125,-2.45703125,-2.380859375,-2.423828125,-2.310546875,-2.234375],[-2.974609375,-3.15234375,-3.21875,-3.298828125,-3.423828125,-3.50390625,-3.56640625,-3.55859375,-3.61328125,-3.61328125,-3.578125,-3.57421875,-3.572265625,-3.443359375,-3.45703125,-3.412109375,-3.29296875,-3.234375,-3.205078125,-3.044921875,-3.107421875,-3.0546875,-2.935546875,-2.951171875,-2.904296875,-2.77734375,-2.68359375,-2.53515625,-2.572265625,-2.4609375,-2.345703125,-2.287109375],[-2.978515625,-3.125,-3.279296875,-3.390625,-3.466796875,-3.595703125,-3.6171875,-3.646484375,-3.677734375,-3.70703125,-3.689453125,-3.75,-3.71484375,-3.638671875,-3.654296875,-3.51171875,-3.525390625,-3.41796875,-3.443359375,-3.30859375,-3.169921875,-3.1796875,-3.150390625,-3.087890625,-2.986328125,-2.875,-2.787109375,-2.748046875,-2.638671875,-2.59765625,-2.501953125,-2.37109375],[-3.00390625,-3.17578125,-3.322265625,-3.40234375,-3.5390625,-3.560546875,-3.658203125,-3.748046875,-3.76171875,-3.828125,-3.83984375,-3.826171875,-3.845703125,-3.8203125,-3.755859375,-3.716796875,-3.693359375,-3.541015625,-3.552734375,-3.45703125,-3.400390625,-3.341796875,-3.22265625,-3.142578125,-3.0703125,-3.01953125,-2.970703125,-2.802734375,-2.78515625,-2.720703125,-2.609375,-2.529296875],[-3.078125,-3.11328125,-3.26171875,-3.423828125,-3.544921875,-3.650390625,-3.6875,-3.75390625,-3.861328125,-3.87109375,-3.900390625,-3.916015625,-3.900390625,-3.87109375,-3.89453125,-3.826171875,-3.80859375,-3.69921875,-3.669921875,-3.609375,-3.560546875,-3.431640625,-3.3828125,-3.294921875,-3.208984375,-3.1171875,-3.044921875,-2.947265625,-2.90625,-2.77734375,-2.623046875,-2.578125],[-2.970703125,-3.1875,-3.26953125,-3.36328125,-3.55859375,-3.6015625,-3.6953125,-3.76171875,-3.837890625,-3.876953125,-3.912109375,-3.927734375,-3.955078125,-3.892578125,-3.908203125,-3.873046875,-3.853515625,-3.8125,-3.748046875,-3.673828125,-3.52734375,-3.537109375,-3.4609375,-3.37890625,-3.2734375,-3.248046875,-3.076171875,-2.9921875,-2.91796875,-2.84765625,-2.787109375,-2.748046875],[-2.943359375,-3.1796875,-3.23828125,-3.390625,-3.4765625,-3.537109375,-3.638671875,-3.740234375,-3.783203125,-3.8359375,-3.876953125,-3.87890625,-3.888671875,-3.90234375,-3.890625,-3.8046875,-3.85546875,-3.78125,-3.720703125,-3.66015625,-3.564453125,-3.564453125,-3.50390625,-3.4375,-3.3125,-3.328125,-3.12890625,-3.078125,-3.076171875,-2.94140625,-2.87890625,-2.740234375],[-2.9765625,-3.099609375,-3.283203125,-3.33203125,-3.474609375,-3.54296875,-3.5859375,-3.68359375,-3.6953125,-3.767578125,-3.830078125,-3.85546875,-3.853515625,-3.869140625,-3.814453125,-3.810546875,-3.794921875,-3.75,-3.677734375,-3.67578125,-3.55078125,-3.5546875,-3.47265625,-3.451171875,-3.31640625,-3.2890625,-3.234375,-3.1640625,-3.033203125,-3.048828125,-2.93359375,-2.86328125],[-2.962890625,-3.0625,-3.208984375,-3.267578125,-3.412109375,-3.455078125,-3.509765625,-3.529296875,-3.568359375,-3.634765625,-3.658203125,-3.669921875,-3.677734375,-3.705078125,-3.689453125,-3.671875,-3.666015625,-3.630859375,-3.62890625,-3.576171875,-3.544921875,-3.45703125,-3.455078125,-3.365234375,-3.345703125,-3.228515625,-3.2265625,-3.220703125,-3.068359375,-2.958984375,-2.95703125,-2.904296875],[-2.9921875,-3.015625,-3.126953125,-3.1640625,-3.30078125,-3.29296875,-3.388671875,-3.37890625,-3.41796875,-3.482421875,-3.5390625,-3.490234375,-3.541015625,-3.525390625,-3.53125,-3.552734375,-3.466796875,-3.474609375,-3.509765625,-3.4609375,-3.470703125,-3.4296875,-3.37890625,-3.380859375,-3.314453125,-3.19140625,-3.1875,-3.177734375,-3.189453125,-3.041015625,-2.935546875,-2.919921875],[-3.01171875,-2.984375,-3.1171875,-3.119140625,-3.1328125,-3.171875,-3.216796875,-3.271484375,-3.275390625,-3.33984375,-3.314453125,-3.302734375,-3.3359375,-3.328125,-3.357421875,-3.390625,-3.369140625,-3.298828125,-3.30859375,-3.3359375,-3.244140625,-3.26171875,-3.224609375,-3.23046875,-3.15625,-3.11328125,-3.12890625,-3.115234375,-3.080078125,-2.990234375,-2.99609375,-3.033203125],[-3.021484375,-3.02734375,-3.03125,-2.986328125,-3.009765625,-3.021484375,-3.0625,-3.09765625,-3.123046875,-3.193359375,-3.046875,-3.046875,-3.109375,-3.046875,-3.1015625,-3.1484375,-3.107421875,-3.04296875,-3.0546875,-3.091796875,-3.0625,-3.080078125,-3.107421875,-3.099609375,-3.01171875,-3.0703125,-3.025390625,-3.048828125,-3.021484375,-2.998046875,-3.0703125,-3.060546875]]},{\"hovertemplate\":\"x: %{x}<br>y: %{y}<br> z: %{text:.2f}<extra></extra>\",\"marker\":{\"color\":\"red\",\"line\":{\"width\":1},\"size\":16,\"symbol\":[204]},\"mode\":\"markers\",\"text\":[\"-3.955078125\"],\"type\":\"scatter\",\"x\":[0.6000000000000001],\"y\":[1.25]}],                        {\"height\":700,\"template\":{\"data\":{\"bar\":[{\"error_x\":{\"color\":\"#2a3f5f\"},\"error_y\":{\"color\":\"#2a3f5f\"},\"marker\":{\"line\":{\"color\":\"#E5ECF6\",\"width\":0.5},\"pattern\":{\"fillmode\":\"overlay\",\"size\":10,\"solidity\":0.2}},\"type\":\"bar\"}],\"barpolar\":[{\"marker\":{\"line\":{\"color\":\"#E5ECF6\",\"width\":0.5},\"pattern\":{\"fillmode\":\"overlay\",\"size\":10,\"solidity\":0.2}},\"type\":\"barpolar\"}],\"carpet\":[{\"aaxis\":{\"endlinecolor\":\"#2a3f5f\",\"gridcolor\":\"white\",\"linecolor\":\"white\",\"minorgridcolor\":\"white\",\"startlinecolor\":\"#2a3f5f\"},\"baxis\":{\"endlinecolor\":\"#2a3f5f\",\"gridcolor\":\"white\",\"linecolor\":\"white\",\"minorgridcolor\":\"white\",\"startlinecolor\":\"#2a3f5f\"},\"type\":\"carpet\"}],\"choropleth\":[{\"colorbar\":{\"outlinewidth\":0,\"ticks\":\"\"},\"type\":\"choropleth\"}],\"contour\":[{\"colorbar\":{\"outlinewidth\":0,\"ticks\":\"\"},\"colorscale\":[[0.0,\"#0d0887\"],[0.1111111111111111,\"#46039f\"],[0.2222222222222222,\"#7201a8\"],[0.3333333333333333,\"#9c179e\"],[0.4444444444444444,\"#bd3786\"],[0.5555555555555556,\"#d8576b\"],[0.6666666666666666,\"#ed7953\"],[0.7777777777777778,\"#fb9f3a\"],[0.8888888888888888,\"#fdca26\"],[1.0,\"#f0f921\"]],\"type\":\"contour\"}],\"contourcarpet\":[{\"colorbar\":{\"outlinewidth\":0,\"ticks\":\"\"},\"type\":\"contourcarpet\"}],\"heatmap\":[{\"colorbar\":{\"outlinewidth\":0,\"ticks\":\"\"},\"colorscale\":[[0.0,\"#0d0887\"],[0.1111111111111111,\"#46039f\"],[0.2222222222222222,\"#7201a8\"],[0.3333333333333333,\"#9c179e\"],[0.4444444444444444,\"#bd3786\"],[0.5555555555555556,\"#d8576b\"],[0.6666666666666666,\"#ed7953\"],[0.7777777777777778,\"#fb9f3a\"],[0.8888888888888888,\"#fdca26\"],[1.0,\"#f0f921\"]],\"type\":\"heatmap\"}],\"heatmapgl\":[{\"colorbar\":{\"outlinewidth\":0,\"ticks\":\"\"},\"colorscale\":[[0.0,\"#0d0887\"],[0.1111111111111111,\"#46039f\"],[0.2222222222222222,\"#7201a8\"],[0.3333333333333333,\"#9c179e\"],[0.4444444444444444,\"#bd3786\"],[0.5555555555555556,\"#d8576b\"],[0.6666666666666666,\"#ed7953\"],[0.7777777777777778,\"#fb9f3a\"],[0.8888888888888888,\"#fdca26\"],[1.0,\"#f0f921\"]],\"type\":\"heatmapgl\"}],\"histogram\":[{\"marker\":{\"pattern\":{\"fillmode\":\"overlay\",\"size\":10,\"solidity\":0.2}},\"type\":\"histogram\"}],\"histogram2d\":[{\"colorbar\":{\"outlinewidth\":0,\"ticks\":\"\"},\"colorscale\":[[0.0,\"#0d0887\"],[0.1111111111111111,\"#46039f\"],[0.2222222222222222,\"#7201a8\"],[0.3333333333333333,\"#9c179e\"],[0.4444444444444444,\"#bd3786\"],[0.5555555555555556,\"#d8576b\"],[0.6666666666666666,\"#ed7953\"],[0.7777777777777778,\"#fb9f3a\"],[0.8888888888888888,\"#fdca26\"],[1.0,\"#f0f921\"]],\"type\":\"histogram2d\"}],\"histogram2dcontour\":[{\"colorbar\":{\"outlinewidth\":0,\"ticks\":\"\"},\"colorscale\":[[0.0,\"#0d0887\"],[0.1111111111111111,\"#46039f\"],[0.2222222222222222,\"#7201a8\"],[0.3333333333333333,\"#9c179e\"],[0.4444444444444444,\"#bd3786\"],[0.5555555555555556,\"#d8576b\"],[0.6666666666666666,\"#ed7953\"],[0.7777777777777778,\"#fb9f3a\"],[0.8888888888888888,\"#fdca26\"],[1.0,\"#f0f921\"]],\"type\":\"histogram2dcontour\"}],\"mesh3d\":[{\"colorbar\":{\"outlinewidth\":0,\"ticks\":\"\"},\"type\":\"mesh3d\"}],\"parcoords\":[{\"line\":{\"colorbar\":{\"outlinewidth\":0,\"ticks\":\"\"}},\"type\":\"parcoords\"}],\"pie\":[{\"automargin\":true,\"type\":\"pie\"}],\"scatter\":[{\"marker\":{\"colorbar\":{\"outlinewidth\":0,\"ticks\":\"\"}},\"type\":\"scatter\"}],\"scatter3d\":[{\"line\":{\"colorbar\":{\"outlinewidth\":0,\"ticks\":\"\"}},\"marker\":{\"colorbar\":{\"outlinewidth\":0,\"ticks\":\"\"}},\"type\":\"scatter3d\"}],\"scattercarpet\":[{\"marker\":{\"colorbar\":{\"outlinewidth\":0,\"ticks\":\"\"}},\"type\":\"scattercarpet\"}],\"scattergeo\":[{\"marker\":{\"colorbar\":{\"outlinewidth\":0,\"ticks\":\"\"}},\"type\":\"scattergeo\"}],\"scattergl\":[{\"marker\":{\"colorbar\":{\"outlinewidth\":0,\"ticks\":\"\"}},\"type\":\"scattergl\"}],\"scattermapbox\":[{\"marker\":{\"colorbar\":{\"outlinewidth\":0,\"ticks\":\"\"}},\"type\":\"scattermapbox\"}],\"scatterpolar\":[{\"marker\":{\"colorbar\":{\"outlinewidth\":0,\"ticks\":\"\"}},\"type\":\"scatterpolar\"}],\"scatterpolargl\":[{\"marker\":{\"colorbar\":{\"outlinewidth\":0,\"ticks\":\"\"}},\"type\":\"scatterpolargl\"}],\"scatterternary\":[{\"marker\":{\"colorbar\":{\"outlinewidth\":0,\"ticks\":\"\"}},\"type\":\"scatterternary\"}],\"surface\":[{\"colorbar\":{\"outlinewidth\":0,\"ticks\":\"\"},\"colorscale\":[[0.0,\"#0d0887\"],[0.1111111111111111,\"#46039f\"],[0.2222222222222222,\"#7201a8\"],[0.3333333333333333,\"#9c179e\"],[0.4444444444444444,\"#bd3786\"],[0.5555555555555556,\"#d8576b\"],[0.6666666666666666,\"#ed7953\"],[0.7777777777777778,\"#fb9f3a\"],[0.8888888888888888,\"#fdca26\"],[1.0,\"#f0f921\"]],\"type\":\"surface\"}],\"table\":[{\"cells\":{\"fill\":{\"color\":\"#EBF0F8\"},\"line\":{\"color\":\"white\"}},\"header\":{\"fill\":{\"color\":\"#C8D4E3\"},\"line\":{\"color\":\"white\"}},\"type\":\"table\"}]},\"layout\":{\"annotationdefaults\":{\"arrowcolor\":\"#2a3f5f\",\"arrowhead\":0,\"arrowwidth\":1},\"autotypenumbers\":\"strict\",\"coloraxis\":{\"colorbar\":{\"outlinewidth\":0,\"ticks\":\"\"}},\"colorscale\":{\"diverging\":[[0,\"#8e0152\"],[0.1,\"#c51b7d\"],[0.2,\"#de77ae\"],[0.3,\"#f1b6da\"],[0.4,\"#fde0ef\"],[0.5,\"#f7f7f7\"],[0.6,\"#e6f5d0\"],[0.7,\"#b8e186\"],[0.8,\"#7fbc41\"],[0.9,\"#4d9221\"],[1,\"#276419\"]],\"sequential\":[[0.0,\"#0d0887\"],[0.1111111111111111,\"#46039f\"],[0.2222222222222222,\"#7201a8\"],[0.3333333333333333,\"#9c179e\"],[0.4444444444444444,\"#bd3786\"],[0.5555555555555556,\"#d8576b\"],[0.6666666666666666,\"#ed7953\"],[0.7777777777777778,\"#fb9f3a\"],[0.8888888888888888,\"#fdca26\"],[1.0,\"#f0f921\"]],\"sequentialminus\":[[0.0,\"#0d0887\"],[0.1111111111111111,\"#46039f\"],[0.2222222222222222,\"#7201a8\"],[0.3333333333333333,\"#9c179e\"],[0.4444444444444444,\"#bd3786\"],[0.5555555555555556,\"#d8576b\"],[0.6666666666666666,\"#ed7953\"],[0.7777777777777778,\"#fb9f3a\"],[0.8888888888888888,\"#fdca26\"],[1.0,\"#f0f921\"]]},\"colorway\":[\"#636efa\",\"#EF553B\",\"#00cc96\",\"#ab63fa\",\"#FFA15A\",\"#19d3f3\",\"#FF6692\",\"#B6E880\",\"#FF97FF\",\"#FECB52\"],\"font\":{\"color\":\"#2a3f5f\"},\"geo\":{\"bgcolor\":\"white\",\"lakecolor\":\"white\",\"landcolor\":\"#E5ECF6\",\"showlakes\":true,\"showland\":true,\"subunitcolor\":\"white\"},\"hoverlabel\":{\"align\":\"left\"},\"hovermode\":\"closest\",\"mapbox\":{\"style\":\"light\"},\"paper_bgcolor\":\"white\",\"plot_bgcolor\":\"#E5ECF6\",\"polar\":{\"angularaxis\":{\"gridcolor\":\"white\",\"linecolor\":\"white\",\"ticks\":\"\"},\"bgcolor\":\"#E5ECF6\",\"radialaxis\":{\"gridcolor\":\"white\",\"linecolor\":\"white\",\"ticks\":\"\"}},\"scene\":{\"xaxis\":{\"backgroundcolor\":\"#E5ECF6\",\"gridcolor\":\"white\",\"gridwidth\":2,\"linecolor\":\"white\",\"showbackground\":true,\"ticks\":\"\",\"zerolinecolor\":\"white\"},\"yaxis\":{\"backgroundcolor\":\"#E5ECF6\",\"gridcolor\":\"white\",\"gridwidth\":2,\"linecolor\":\"white\",\"showbackground\":true,\"ticks\":\"\",\"zerolinecolor\":\"white\"},\"zaxis\":{\"backgroundcolor\":\"#E5ECF6\",\"gridcolor\":\"white\",\"gridwidth\":2,\"linecolor\":\"white\",\"showbackground\":true,\"ticks\":\"\",\"zerolinecolor\":\"white\"}},\"shapedefaults\":{\"line\":{\"color\":\"#2a3f5f\"}},\"ternary\":{\"aaxis\":{\"gridcolor\":\"white\",\"linecolor\":\"white\",\"ticks\":\"\"},\"baxis\":{\"gridcolor\":\"white\",\"linecolor\":\"white\",\"ticks\":\"\"},\"bgcolor\":\"#E5ECF6\",\"caxis\":{\"gridcolor\":\"white\",\"linecolor\":\"white\",\"ticks\":\"\"}},\"title\":{\"x\":0.05},\"xaxis\":{\"automargin\":true,\"gridcolor\":\"white\",\"linecolor\":\"white\",\"ticks\":\"\",\"title\":{\"standoff\":15},\"zerolinecolor\":\"white\",\"zerolinewidth\":2},\"yaxis\":{\"automargin\":true,\"gridcolor\":\"white\",\"linecolor\":\"white\",\"ticks\":\"\",\"title\":{\"standoff\":15},\"zerolinecolor\":\"white\",\"zerolinewidth\":2}}},\"title\":{\"text\":\"QAOA MaxCut\"},\"width\":700,\"xaxis\":{\"title\":{\"text\":\"gamma\"}},\"yaxis\":{\"title\":{\"text\":\"beta\"}}},                        {\"responsive\": true}                    ).then(function(){\n",
       "                            \n",
       "var gd = document.getElementById('ddbb1294-38e6-49e7-9fe7-e0935bd3151a');\n",
       "var x = new MutationObserver(function (mutations, observer) {{\n",
       "        var display = window.getComputedStyle(gd).display;\n",
       "        if (!display || display === 'none') {{\n",
       "            console.log([gd, 'removed!']);\n",
       "            Plotly.purge(gd);\n",
       "            observer.disconnect();\n",
       "        }}\n",
       "}});\n",
       "\n",
       "// Listen for the removal of the full notebook cells\n",
       "var notebookContainer = gd.closest('#notebook-container');\n",
       "if (notebookContainer) {{\n",
       "    x.observe(notebookContainer, {childList: true});\n",
       "}}\n",
       "\n",
       "// Listen for the clearing of the current output cell\n",
       "var outputEl = gd.closest('.output');\n",
       "if (outputEl) {{\n",
       "    x.observe(outputEl, {childList: true});\n",
       "}}\n",
       "\n",
       "                        })                };                });            </script>        </div>"
      ]
     },
     "metadata": {},
     "output_type": "display_data"
    }
   ],
   "source": [
    "# Plot Heatmap \n",
    "fig = go.Figure(data=go.Heatmap(z=landscape, y=beta_range, x=gamma_range, type = 'heatmap', colorscale = 'viridis'))\n",
    "\n",
    "# Update Layout\n",
    "fig.update_layout(title=\"QAOA MaxCut\", width=700, height=700, yaxis_title=\"beta\", xaxis_title=\"gamma\")\n",
    "\n",
    "# Display Global Minimium \n",
    "fig.add_trace(\n",
    "    go.Scatter(mode=\"markers\", y=[opt_beta], x=[opt_gamma], marker_symbol=[204], text = [landscape[beta,gamma]],\n",
    "                   marker_color=\"red\",  hovertemplate=\"x: %{x}<br>y: %{y}<br> z: %{text:.2f}<extra></extra>\", \n",
    "                   marker_line_width=1, marker_size=16))"
   ]
  },
  {
   "cell_type": "code",
   "execution_count": 22,
   "id": "c712e89c",
   "metadata": {},
   "outputs": [],
   "source": [
    "# Display Optimizer Results\n",
    "\n",
    "# Display path \n",
    "#fig.add_trace(\n",
    "#    go.Scatter(mode=\"lines\", x=gammas, y=betas, marker_symbol=[200],\n",
    "#                   marker_color=\"white\", marker_line_width=1, marker_size=8)\n",
    "#)\n",
    "\n",
    "# Display start point\n",
    "#fig.add_trace(\n",
    "#    go.Scatter(mode=\"markers\", x=[gammas[0]], y=[betas[0]], marker_symbol=[204],\n",
    "#                   marker_color=\"gray\", \n",
    "#                   marker_line_width=1, marker_size=16))\n",
    "\n",
    "# Display end point\n",
    "#fig.add_trace(\n",
    "#    go.Scatter(mode=\"markers\", x=[gammas[-1]], y=[betas[-1]], marker_symbol=[204],\n",
    "#                   marker_color=\"green\", \n",
    "#                   marker_line_width=1, marker_size=16))\n",
    "\n"
   ]
  },
  {
   "cell_type": "code",
   "execution_count": 23,
   "id": "8a7356af",
   "metadata": {},
   "outputs": [],
   "source": [
    "# Plot Optimizer History\n",
    "#fig = go.Figure(data=go.Scatter(x=counts, y=values))\n",
    "#fig.update_layout(xaxis_title=\"Evaluation Counts\", yaxis_title=\"Evaluated Mean\", title=\"Optimizer\")\n",
    "#fig.show()"
   ]
  },
  {
   "cell_type": "code",
   "execution_count": null,
   "id": "1e25c168",
   "metadata": {},
   "outputs": [],
   "source": []
  }
 ],
 "metadata": {
  "kernelspec": {
   "display_name": "python3.8",
   "language": "python",
   "name": "python3.8"
  },
  "language_info": {
   "codemirror_mode": {
    "name": "ipython",
    "version": 3
   },
   "file_extension": ".py",
   "mimetype": "text/x-python",
   "name": "python",
   "nbconvert_exporter": "python",
   "pygments_lexer": "ipython3",
   "version": "3.8.6"
  }
 },
 "nbformat": 4,
 "nbformat_minor": 5
}
