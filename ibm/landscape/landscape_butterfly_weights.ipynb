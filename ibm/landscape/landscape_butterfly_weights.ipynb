{
 "cells": [
  {
   "cell_type": "code",
   "execution_count": null,
   "id": "5c20ed3c",
   "metadata": {},
   "outputs": [],
   "source": [
    "import sys\n",
    "import os\n",
    "sys.path.insert(0, os.path.abspath('../'))\n",
    "sys.path.insert(0, os.path.abspath('../../'))\n",
    "\n",
    "import qiskit\n",
    "provider = qiskit.IBMQ.load_account()\n",
    "\n",
    "\n",
    "import numpy as np\n",
    "\n",
    "from qiskit import Aer\n",
    "from qiskit.utils import QuantumInstance\n",
    "from qiskit_optimization.algorithms import MinimumEigenOptimizer\n",
    "from qiskit.algorithms import QAOA\n",
    "from shared.QiskitMaxcut import *\n",
    "from ibm.ibm_parameters import *\n",
    "from matplotlib import pyplot as plt\n",
    "%matplotlib inline\n"
   ]
  },
  {
   "cell_type": "code",
   "execution_count": null,
   "id": "426b804a",
   "metadata": {},
   "outputs": [],
   "source": [
    "quantum_instance = QuantumInstance(\n",
    "                    backend=Aer.get_backend(DEFAULT_QASM_SIMULATOR),\n",
    "                    shots=SHOTS)\n"
   ]
  },
  {
   "cell_type": "code",
   "execution_count": null,
   "id": "acfac6fb",
   "metadata": {},
   "outputs": [],
   "source": [
    "graph = load_graph()\n",
    "max_cut = Maxcut(graph)\n",
    "max_cut_qubo = max_cut.to_qubo()\n",
    "max_cut.draw()"
   ]
  },
  {
   "cell_type": "code",
   "execution_count": null,
   "id": "40b48f75",
   "metadata": {},
   "outputs": [],
   "source": [
    "step_size = 0.1\n",
    "a_gamma = np.arange(0, np.pi, step_size)\n",
    "b_beta = np.arange(0, np.pi, step_size)\n"
   ]
  },
  {
   "cell_type": "code",
   "execution_count": null,
   "id": "e5f18af7",
   "metadata": {},
   "outputs": [],
   "source": [
    "a_gamma, b_beta = np.meshgrid(a_gamma, b_beta)"
   ]
  },
  {
   "cell_type": "code",
   "execution_count": null,
   "id": "2b8c2170",
   "metadata": {},
   "outputs": [],
   "source": []
  },
  {
   "cell_type": "code",
   "execution_count": null,
   "id": "0befc77f",
   "metadata": {},
   "outputs": [],
   "source": [
    "def run_qaoa(gamma, beta):\n",
    "    qaoa = QAOA(optimizer=COBYLA(maxiter=0),\n",
    "                quantum_instance=quantum_instance,\n",
    "                reps=1,\n",
    "                initial_point=[gamma, beta])\n",
    "    algorithm = MinimumEigenOptimizer(qaoa)\n",
    "    result = algorithm.solve(max_cut_qubo)\n",
    "    optimal_parameters = qaoa.optimal_params\n",
    "    mean, distribution = max_cut.analyse(result)\n",
    "\n",
    "    return mean"
   ]
  },
  {
   "cell_type": "code",
   "execution_count": 19,
   "id": "c7aa75e7",
   "metadata": {},
   "outputs": [],
   "source": [
    "F1 = np.zeros(a_gamma.shape)\n",
    "for i in range(0, len(F1)):\n",
    "    for j in range(0, len(F1)):\n",
    "        # F1[i,j] = a_gamma[i][j] * b_beta[i][j]\n",
    "        F1[i,j] = run_qaoa(a_gamma[i][j], b_beta[i][j])"
   ]
  },
  {
   "cell_type": "code",
   "execution_count": 20,
   "id": "5e120d04",
   "metadata": {},
   "outputs": [
    {
     "name": "stdout",
     "output_type": "stream",
     "text": [
      "[[-23.989125 -23.832125 -23.953375 ... -24.063625 -24.0405   -23.960875]\n",
      " [-23.9965   -19.6505   -15.329    ... -30.67475  -28.898875 -25.700125]\n",
      " [-24.059625 -24.07125  -23.488375 ... -21.5505   -22.69975  -23.737375]\n",
      " ...\n",
      " [-23.865375 -24.618    -25.63425  ... -25.144875 -24.2125   -23.867875]\n",
      " [-23.91275  -24.726375 -25.7405   ... -24.662625 -23.816875 -23.954375]\n",
      " [-24.078375 -24.89175  -25.463375 ... -22.69625  -23.117625 -23.68625 ]]\n"
     ]
    },
    {
     "data": {
      "image/png": "[encoded data removed]",
      "text/plain": [
       "<Figure size 288x288 with 1 Axes>"
      ]
     },
     "metadata": {
      "needs_background": "light"
     },
     "output_type": "display_data"
    }
   ],
   "source": [
    "print(F1)\n",
    "plt.matshow(F1)\n",
    "plt.show()"
   ]
  },
  {
   "cell_type": "code",
   "execution_count": 14,
   "id": "d445ca43",
   "metadata": {},
   "outputs": [
    {
     "data": {
      "text/plain": [
       "-23.66644104003906"
      ]
     },
     "execution_count": 14,
     "metadata": {},
     "output_type": "execute_result"
    }
   ],
   "source": [
    "np.mean(F1)"
   ]
  },
  {
   "cell_type": "code",
   "execution_count": 22,
   "id": "37cc2f38",
   "metadata": {},
   "outputs": [],
   "source": [
    "F2 = F1 - np.mean(F1)"
   ]
  },
  {
   "cell_type": "code",
   "execution_count": 23,
   "id": "20233832",
   "metadata": {},
   "outputs": [
    {
     "data": {
      "image/png": "[encoded data removed]",
      "text/plain": [
       "<Figure size 288x288 with 1 Axes>"
      ]
     },
     "metadata": {
      "needs_background": "light"
     },
     "output_type": "display_data"
    }
   ],
   "source": [
    "plt.matshow(F2)\n",
    "plt.show()"
   ]
  },
  {
   "cell_type": "code",
   "execution_count": 24,
   "id": "fb9a3f99",
   "metadata": {},
   "outputs": [
    {
     "data": {
      "text/plain": [
       "array([[-0.40801367, -0.25101367, -0.37226367, ..., -0.48251367,\n",
       "        -0.45938867, -0.37976367],\n",
       "       [-0.41538867,  3.93061133,  8.25211133, ..., -7.09363867,\n",
       "        -5.31776367, -2.11901367],\n",
       "       [-0.47851367, -0.49013867,  0.09273633, ...,  2.03061133,\n",
       "         0.88136133, -0.15626367],\n",
       "       ...,\n",
       "       [-0.28426367, -1.03688867, -2.05313867, ..., -1.56376367,\n",
       "        -0.63138867, -0.28676367],\n",
       "       [-0.33163867, -1.14526367, -2.15938867, ..., -1.08151367,\n",
       "        -0.23576367, -0.37326367],\n",
       "       [-0.49726367, -1.31063867, -1.88226367, ...,  0.88486133,\n",
       "         0.46348633, -0.10513867]])"
      ]
     },
     "execution_count": 24,
     "metadata": {},
     "output_type": "execute_result"
    }
   ],
   "source": [
    "F2"
   ]
  },
  {
   "cell_type": "code",
   "execution_count": 31,
   "id": "51d3e6cf",
   "metadata": {},
   "outputs": [
    {
     "data": {
      "text/plain": [
       "(15, 5)"
      ]
     },
     "execution_count": 31,
     "metadata": {},
     "output_type": "execute_result"
    }
   ],
   "source": [
    "np.unravel_index(np.argmin(F1), F1.shape)"
   ]
  },
  {
   "cell_type": "code",
   "execution_count": 25,
   "id": "c2a5f417",
   "metadata": {},
   "outputs": [
    {
     "data": {
      "text/plain": [
       "-8.592625"
      ]
     },
     "execution_count": 25,
     "metadata": {},
     "output_type": "execute_result"
    }
   ],
   "source": [
    "np.max(F1)"
   ]
  },
  {
   "cell_type": "code",
   "execution_count": null,
   "id": "f27f6806",
   "metadata": {},
   "outputs": [],
   "source": []
  }
 ],
 "metadata": {
  "kernelspec": {
   "display_name": "python3.8",
   "language": "python",
   "name": "python3.8"
  },
  "language_info": {
   "codemirror_mode": {
    "name": "ipython",
    "version": 3
   },
   "file_extension": ".py",
   "mimetype": "text/x-python",
   "name": "python",
   "nbconvert_exporter": "python",
   "pygments_lexer": "ipython3",
   "version": "3.8.6"
  }
 },
 "nbformat": 4,
 "nbformat_minor": 5
}
