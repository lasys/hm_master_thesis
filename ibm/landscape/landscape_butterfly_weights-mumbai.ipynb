{
 "cells": [
  {
   "cell_type": "code",
   "execution_count": 414,
   "id": "9f3b7379",
   "metadata": {},
   "outputs": [
    {
     "name": "stderr",
     "output_type": "stream",
     "text": [
      "ibmqfactory.load_account:WARNING:2021-08-20 16:10:31,996: Credentials are already in use. The existing account in the session will be replaced.\n"
     ]
    }
   ],
   "source": [
    "import sys\n",
    "import os\n",
    "sys.path.insert(0, os.path.abspath('../'))\n",
    "sys.path.insert(0, os.path.abspath('../../'))\n",
    "\n",
    "import qiskit\n",
    "provider = qiskit.IBMQ.load_account()\n",
    "\n",
    "\n",
    "import numpy as np\n",
    "\n",
    "from qiskit import Aer\n",
    "from qiskit.utils import QuantumInstance\n",
    "from qiskit_optimization.algorithms import MinimumEigenOptimizer\n",
    "from qiskit.algorithms import QAOA\n",
    "from qiskit.algorithms.optimizers import NELDER_MEAD\n",
    "from shared.QiskitMaxcut import *\n",
    "from ibm.ibm_parameters import *\n",
    "from matplotlib import pyplot as plt\n",
    "%matplotlib inline\n"
   ]
  },
  {
   "cell_type": "code",
   "execution_count": 140,
   "id": "9c8dcb5d",
   "metadata": {},
   "outputs": [],
   "source": [
    "quantum_instance = QuantumInstance(\n",
    "                    backend=Aer.get_backend(DEFAULT_QASM_SIMULATOR),\n",
    "                    shots=SHOTS)\n"
   ]
  },
  {
   "cell_type": "code",
   "execution_count": 141,
   "id": "1459b293",
   "metadata": {},
   "outputs": [
    {
     "data": {
      "image/png": "[encoded data removed]",
      "text/plain": [
       "<Figure size 432x288 with 1 Axes>"
      ]
     },
     "metadata": {},
     "output_type": "display_data"
    }
   ],
   "source": [
    "graph = generate_butterfly_graph(with_weights=False)\n",
    "max_cut = Maxcut(graph)\n",
    "max_cut_qubo = max_cut.to_qubo()\n",
    "max_cut.draw()"
   ]
  },
  {
   "cell_type": "code",
   "execution_count": 142,
   "id": "cb969a76",
   "metadata": {},
   "outputs": [],
   "source": [
    "step_size = 0.1\n",
    "a_gamma = np.arange(0, np.pi, step_size)\n",
    "b_beta = np.arange(0, np.pi, step_size)\n"
   ]
  },
  {
   "cell_type": "code",
   "execution_count": 143,
   "id": "751f950e",
   "metadata": {},
   "outputs": [],
   "source": [
    "a_gamma, b_beta = np.meshgrid(a_gamma, b_beta)"
   ]
  },
  {
   "cell_type": "code",
   "execution_count": 144,
   "id": "7d14f054",
   "metadata": {},
   "outputs": [],
   "source": [
    "def run_qaoa(gamma, beta):\n",
    "    qaoa = QAOA(optimizer=COBYLA(maxiter=0),\n",
    "                quantum_instance=quantum_instance,\n",
    "                reps=1,\n",
    "                initial_point=[gamma, beta])\n",
    "    algorithm = MinimumEigenOptimizer(qaoa)\n",
    "    result = algorithm.solve(max_cut_qubo)\n",
    "    optimal_parameters = qaoa.optimal_params\n",
    "    mean, distribution = max_cut.analyse(result)\n",
    "\n",
    "    return mean"
   ]
  },
  {
   "cell_type": "code",
   "execution_count": null,
   "id": "fe7020c6",
   "metadata": {},
   "outputs": [],
   "source": [
    "F1 = np.zeros(a_gamma.shape)\n",
    "for i in range(0, len(F1)):\n",
    "    for j in range(0, len(F1)):\n",
    "        # F1[i,j] = a_gamma[i][j] * b_beta[i][j]\n",
    "        F1[i,j] = run_qaoa(a_gamma[i][j], b_beta[i][j])"
   ]
  },
  {
   "cell_type": "code",
   "execution_count": 185,
   "id": "50ad4662",
   "metadata": {},
   "outputs": [],
   "source": [
    "from qiskit.opflow import (\n",
    "    OperatorBase,\n",
    "    ExpectationBase,\n",
    "    ExpectationFactory,\n",
    "    StateFn,\n",
    "    CircuitStateFn,\n",
    "    ListOp,\n",
    "    I,\n",
    "    CircuitSampler,\n",
    ")\n",
    "from time import time\n",
    "from typing import Optional, List, Callable, Union, Dict, Tuple\n",
    "class FixedQAOA(QAOA):\n",
    "\n",
    "    def get_energy_evaluation(\n",
    "        self,\n",
    "        operator: OperatorBase,\n",
    "        return_expectation: bool = False,\n",
    "    ) -> Callable[[np.ndarray], Union[float, List[float]]]:\n",
    "        \"\"\"Returns a function handle to evaluates the energy at given parameters for the ansatz.\n",
    "\n",
    "        This is the objective function to be passed to the optimizer that is used for evaluation.\n",
    "\n",
    "        Args:\n",
    "            operator: The operator whose energy to evaluate.\n",
    "            return_expectation: If True, return the ``ExpectationBase`` expectation converter used\n",
    "                in the construction of the expectation value. Useful e.g. to evaluate other\n",
    "                operators with the same expectation value converter.\n",
    "\n",
    "\n",
    "        Returns:\n",
    "            Energy of the hamiltonian of each parameter, and, optionally, the expectation\n",
    "            converter.\n",
    "\n",
    "        Raises:\n",
    "            RuntimeError: If the circuit is not parameterized (i.e. has 0 free parameters).\n",
    "\n",
    "        \"\"\"\n",
    "        num_parameters = self.ansatz.num_parameters\n",
    "        if num_parameters == 0:\n",
    "            raise RuntimeError(\"The ansatz must be parameterized, but has 0 free parameters.\")\n",
    "\n",
    "        expect_op, expectation = self.construct_expectation(\n",
    "            self._ansatz_params, operator, return_expectation=True\n",
    "        )\n",
    "\n",
    "        def energy_evaluation(parameters):\n",
    "            #print(f\"Parameters: {parameters}\")\n",
    "            parameter_sets = np.reshape(parameters, (-1, num_parameters))\n",
    "            #print(f\"Parameter set: {parameter_sets}\")\n",
    "            # Create dict associating each parameter with the lists of parameterization values for it\n",
    "            param_bindings = dict(zip(self._ansatz_params, parameter_sets.transpose().tolist()))\n",
    "\n",
    "            start_time = time()\n",
    "            sampled_expect_op = self._circuit_sampler.convert(expect_op, params=param_bindings)\n",
    "            means = np.real(sampled_expect_op.eval())\n",
    "\n",
    "            if self._callback is not None:\n",
    "                variance = np.real(expectation.compute_variance(sampled_expect_op))\n",
    "                estimator_error = np.sqrt(variance / self.quantum_instance.run_config.shots)\n",
    "                for i, param_set in enumerate(parameter_sets):\n",
    "                    #print(f\"param_set: {param_set}\")\n",
    "                    self._eval_count += 1\n",
    "                    self._callback(self._eval_count, param_set, means[i], estimator_error[i])\n",
    "            else:\n",
    "                self._eval_count += len(means)\n",
    "\n",
    "            end_time = time()\n",
    "\n",
    "            return means if len(means) > 1 else means[0]\n",
    "\n",
    "        if return_expectation:\n",
    "            return energy_evaluation, expectation\n",
    "\n",
    "        return energy_evaluation"
   ]
  },
  {
   "cell_type": "code",
   "execution_count": 270,
   "id": "3374621c",
   "metadata": {},
   "outputs": [],
   "source": [
    "counts = []\n",
    "values = []\n",
    "parameter_values = []\n",
    "gammas = []\n",
    "betas = []"
   ]
  },
  {
   "cell_type": "code",
   "execution_count": 385,
   "id": "bfb37c05",
   "metadata": {},
   "outputs": [],
   "source": [
    "def store_intermediate_result(eval_count, parameters, mean, std):\n",
    "    counts.append(eval_count)\n",
    "    values.append(mean)\n",
    "    #print(parameters)\n",
    "    #if 0 <= parameters[0] <= 3.14 and 0 <= parameters[1] <= 3.14:\n",
    "    gamma = parameters[0] % 3.14\n",
    "    gammas.append(gamma)\n",
    "\n",
    "    beta = parameters[1] % 3.14\n",
    "    betas.append(beta)\n",
    "    #parameter_values.append(parameters.copy())\n"
   ]
  },
  {
   "cell_type": "code",
   "execution_count": 456,
   "id": "d19a4ad5",
   "metadata": {},
   "outputs": [
    {
     "name": "stdout",
     "output_type": "stream",
     "text": [
      "mean: -3.9324999999999997 \n"
     ]
    }
   ],
   "source": [
    "counts = []\n",
    "values = []\n",
    "parameter_values = []\n",
    "gammas = []\n",
    "betas = []\n",
    "\n",
    "qaoa = FixedQAOA(optimizer=COBYLA(maxiter=100),\n",
    "            quantum_instance=quantum_instance,\n",
    "            reps=1,\n",
    "            initial_point=[1.3, 0.6],\n",
    "            callback=store_intermediate_result\n",
    "           )\n",
    "algorithm = MinimumEigenOptimizer(qaoa)\n",
    "result = algorithm.solve(max_cut_qubo)\n",
    "mean, distribution = max_cut.analyse(result)\n",
    "print(f\"mean: {mean} \")\n",
    "circuit = qaoa.get_optimal_circuit()\n",
    "#circuit.draw()"
   ]
  },
  {
   "cell_type": "code",
   "execution_count": 454,
   "id": "432412e4",
   "metadata": {},
   "outputs": [
    {
     "name": "stdout",
     "output_type": "stream",
     "text": [
      "[-0.9072500000000001, 1.0430000000000001, 0.3227499999999999, 0.19500000000000006, -0.034750000000000045, -0.19575000000000004, -0.7937499999999998, -0.8722500000000001, -0.9097500000000002, -0.8902499999999999, -0.9069999999999999, -0.8912500000000001, -0.90875, -0.90125, -0.9042500000000001, -0.9000000000000001, -0.90525, -0.9035, -0.90975, -0.91025, -0.90925, -0.90025, -0.91075, -0.9092500000000003, -0.9062500000000001, -0.9125, -0.9115000000000001, -0.91125, -0.91, -0.9067500000000002, -0.91275, -0.90675]\n",
      "[1, 2, 3, 4, 5, 6, 7, 8, 9, 10, 11, 12, 13, 14, 15, 16, 17, 18, 19, 20, 21, 22, 23, 24, 25, 26, 27, 28, 29, 30, 31, 32]\n",
      "[1.3, 2.3, 1.3, 0.4541711767677774, 0.8770855883838887, 1.529393381717318, 1.2496336186865338, 1.181421414184555, 1.2838832378124794, 1.314076366072859, 1.2225896583181937, 1.3015599004363547, 1.2686071300051531, 1.2882089644325985, 1.2831358309462408, 1.285040759240192, 1.2857486421390858, 1.2805021538035875, 1.2853004488764874, 1.284555214386788, 1.2852271909610964, 1.284200911620786, 1.2852803927503091, 1.285768302277085, 1.2849926117414245, 1.2852194370209995, 1.2851087167041837, 1.285101232702297, 1.285378154707616, 1.2851203613155187, 1.2852126546065423, 1.2853101827297215]\n",
      "[0.6, 0.6, 1.6, 0.066545595397701, 0.3332727976988505, 0.5006084690514684, 0.8448739014950073, 0.5604510558167591, 0.6603862565207589, 0.6684446376145192, 0.6481654908828103, 0.6861563573836132, 0.6571027895635704, 0.6453719728479361, 0.6681629228519255, 0.6566554478675463, 0.6609650172346152, 0.6623425438174809, 0.661730209669376, 0.6596776509887547, 0.6589690454567505, 0.6593416627016004, 0.6603317080638537, 0.6603126588438464, 0.6607261705716119, 0.6600952994264486, 0.6598777088562954, 0.6601257772911034, 0.6599097910958257, 0.6600817345975343, 0.660144837279189, 0.6601669340026823]\n"
     ]
    }
   ],
   "source": [
    "print(values)\n",
    "print(counts)\n",
    "print(gammas)\n",
    "print(betas)\n",
    "#print(result.samples)"
   ]
  },
  {
   "cell_type": "code",
   "execution_count": 80,
   "id": "0983a545",
   "metadata": {},
   "outputs": [],
   "source": [
    "qaoa = QAOA(\n",
    "    #operator=max_cut_qubo,\n",
    "    optimizer=COBYLA(maxiter=0),\n",
    "                quantum_instance=quantum_instance,\n",
    "                reps=1,\n",
    "                initial_point=[0, 0],\n",
    "               \n",
    "           )"
   ]
  },
  {
   "cell_type": "code",
   "execution_count": 97,
   "id": "88530dae",
   "metadata": {},
   "outputs": [],
   "source": [
    "op, offset = max_cut_qubo.to_ising()\n",
    "circuit = qaoa.construct_circuit([0.1,1], operator=op)"
   ]
  },
  {
   "cell_type": "code",
   "execution_count": 82,
   "id": "c0e99636",
   "metadata": {},
   "outputs": [
    {
     "data": {
      "text/html": [
       "<pre style=\"word-wrap: normal;white-space: pre;background: #fff0;line-height: 1.1;font-family: &quot;Courier New&quot;,Courier,monospace\">     ┌───┐     ┌───┐┌──────────────────────┐     ┌───┐┌───┐»\n",
       "q_0: ┤ H ├─────┤ X ├┤ Rz(1.00000000000000) ├─────┤ X ├┤ X ├»\n",
       "     ├───┤┌───┐└─┬─┘├──────────────────────┤┌───┐└─┬─┘└─┬─┘»\n",
       "q_1: ┤ H ├┤ X ├──┼──┤ Rz(1.00000000000000) ├┤ X ├──┼────┼──»\n",
       "     ├───┤└─┬─┘  │  └──────────────────────┘└─┬─┘  │    │  »\n",
       "q_2: ┤ H ├──■────┼────────────────────────────■────┼────┼──»\n",
       "     ├───┤       │                                 │    │  »\n",
       "q_3: ┤ H ├───────■─────────────────────────────────■────┼──»\n",
       "     ├───┤                                              │  »\n",
       "q_4: ┤ H ├──────────────────────────────────────────────■──»\n",
       "     └───┘                                                 »\n",
       "«     ┌──────────────────────┐┌───┐┌───────────────────────┐»\n",
       "«q_0: ┤ Rz(1.00000000000000) ├┤ X ├┤ Rx(0.200000000000000) ├»\n",
       "«     └──────────────────────┘└─┬─┘└─────────┬───┬─────────┘»\n",
       "«q_1: ──────────────────────────┼────────────┤ X ├──────────»\n",
       "«                               │            └─┬─┘          »\n",
       "«q_2: ──────────────────────────┼──────────────┼────────────»\n",
       "«                               │              │            »\n",
       "«q_3: ──────────────────────────┼──────────────┼────────────»\n",
       "«                               │              │            »\n",
       "«q_4: ──────────────────────────■──────────────■────────────»\n",
       "«                                                           »\n",
       "«                                                           »\n",
       "«q_0: ──────────────────────────────────────────────────────»\n",
       "«     ┌──────────────────────┐┌───┐┌───────────────────────┐»\n",
       "«q_1: ┤ Rz(1.00000000000000) ├┤ X ├┤ Rx(0.200000000000000) ├»\n",
       "«     └──────────────────────┘└─┬─┘└─────────┬───┬─────────┘»\n",
       "«q_2: ──────────────────────────┼────────────┤ X ├──────────»\n",
       "«                               │            └─┬─┘          »\n",
       "«q_3: ──────────────────────────┼──────────────┼────────────»\n",
       "«                               │              │            »\n",
       "«q_4: ──────────────────────────■──────────────■────────────»\n",
       "«                                                           »\n",
       "«                                                           »\n",
       "«q_0: ──────────────────────────────────────────────────────»\n",
       "«                                                           »\n",
       "«q_1: ──────────────────────────────────────────────────────»\n",
       "«     ┌──────────────────────┐┌───┐┌───────────────────────┐»\n",
       "«q_2: ┤ Rz(1.00000000000000) ├┤ X ├┤ Rx(0.200000000000000) ├»\n",
       "«     └──────────────────────┘└─┬─┘└─────────┬───┬─────────┘»\n",
       "«q_3: ──────────────────────────┼────────────┤ X ├──────────»\n",
       "«                               │            └─┬─┘          »\n",
       "«q_4: ──────────────────────────■──────────────■────────────»\n",
       "«                                                           »\n",
       "«                                                           \n",
       "«q_0: ──────────────────────────────────────────────────────\n",
       "«                                                           \n",
       "«q_1: ──────────────────────────────────────────────────────\n",
       "«                                                           \n",
       "«q_2: ──────────────────────────────────────────────────────\n",
       "«     ┌──────────────────────┐┌───┐┌───────────────────────┐\n",
       "«q_3: ┤ Rz(1.00000000000000) ├┤ X ├┤ Rx(0.200000000000000) ├\n",
       "«     └──────────────────────┘└─┬─┘├───────────────────────┤\n",
       "«q_4: ──────────────────────────■──┤ Rx(0.200000000000000) ├\n",
       "«                                  └───────────────────────┘</pre>"
      ],
      "text/plain": [
       "     ┌───┐     ┌───┐┌──────────────────────┐     ┌───┐┌───┐»\n",
       "q_0: ┤ H ├─────┤ X ├┤ Rz(1.00000000000000) ├─────┤ X ├┤ X ├»\n",
       "     ├───┤┌───┐└─┬─┘├──────────────────────┤┌───┐└─┬─┘└─┬─┘»\n",
       "q_1: ┤ H ├┤ X ├──┼──┤ Rz(1.00000000000000) ├┤ X ├──┼────┼──»\n",
       "     ├───┤└─┬─┘  │  └──────────────────────┘└─┬─┘  │    │  »\n",
       "q_2: ┤ H ├──■────┼────────────────────────────■────┼────┼──»\n",
       "     ├───┤       │                                 │    │  »\n",
       "q_3: ┤ H ├───────■─────────────────────────────────■────┼──»\n",
       "     ├───┤                                              │  »\n",
       "q_4: ┤ H ├──────────────────────────────────────────────■──»\n",
       "     └───┘                                                 »\n",
       "«     ┌──────────────────────┐┌───┐┌───────────────────────┐»\n",
       "«q_0: ┤ Rz(1.00000000000000) ├┤ X ├┤ Rx(0.200000000000000) ├»\n",
       "«     └──────────────────────┘└─┬─┘└─────────┬───┬─────────┘»\n",
       "«q_1: ──────────────────────────┼────────────┤ X ├──────────»\n",
       "«                               │            └─┬─┘          »\n",
       "«q_2: ──────────────────────────┼──────────────┼────────────»\n",
       "«                               │              │            »\n",
       "«q_3: ──────────────────────────┼──────────────┼────────────»\n",
       "«                               │              │            »\n",
       "«q_4: ──────────────────────────■──────────────■────────────»\n",
       "«                                                           »\n",
       "«                                                           »\n",
       "«q_0: ──────────────────────────────────────────────────────»\n",
       "«     ┌──────────────────────┐┌───┐┌───────────────────────┐»\n",
       "«q_1: ┤ Rz(1.00000000000000) ├┤ X ├┤ Rx(0.200000000000000) ├»\n",
       "«     └──────────────────────┘└─┬─┘└─────────┬───┬─────────┘»\n",
       "«q_2: ──────────────────────────┼────────────┤ X ├──────────»\n",
       "«                               │            └─┬─┘          »\n",
       "«q_3: ──────────────────────────┼──────────────┼────────────»\n",
       "«                               │              │            »\n",
       "«q_4: ──────────────────────────■──────────────■────────────»\n",
       "«                                                           »\n",
       "«                                                           »\n",
       "«q_0: ──────────────────────────────────────────────────────»\n",
       "«                                                           »\n",
       "«q_1: ──────────────────────────────────────────────────────»\n",
       "«     ┌──────────────────────┐┌───┐┌───────────────────────┐»\n",
       "«q_2: ┤ Rz(1.00000000000000) ├┤ X ├┤ Rx(0.200000000000000) ├»\n",
       "«     └──────────────────────┘└─┬─┘└─────────┬───┬─────────┘»\n",
       "«q_3: ──────────────────────────┼────────────┤ X ├──────────»\n",
       "«                               │            └─┬─┘          »\n",
       "«q_4: ──────────────────────────■──────────────■────────────»\n",
       "«                                                           »\n",
       "«                                                           \n",
       "«q_0: ──────────────────────────────────────────────────────\n",
       "«                                                           \n",
       "«q_1: ──────────────────────────────────────────────────────\n",
       "«                                                           \n",
       "«q_2: ──────────────────────────────────────────────────────\n",
       "«     ┌──────────────────────┐┌───┐┌───────────────────────┐\n",
       "«q_3: ┤ Rz(1.00000000000000) ├┤ X ├┤ Rx(0.200000000000000) ├\n",
       "«     └──────────────────────┘└─┬─┘├───────────────────────┤\n",
       "«q_4: ──────────────────────────■──┤ Rx(0.200000000000000) ├\n",
       "«                                  └───────────────────────┘"
      ]
     },
     "execution_count": 82,
     "metadata": {},
     "output_type": "execute_result"
    }
   ],
   "source": [
    "circuit[0].draw()"
   ]
  },
  {
   "cell_type": "code",
   "execution_count": 83,
   "id": "b213dd12",
   "metadata": {},
   "outputs": [],
   "source": [
    "circuit[0].measure_all()"
   ]
  },
  {
   "cell_type": "code",
   "execution_count": 84,
   "id": "2b3d6b46",
   "metadata": {},
   "outputs": [],
   "source": [
    "job = qiskit.execute([circuit[0], circuit[0]], backend=provider.get_backend('ibmq_qasm_simulator'),shots=8000)"
   ]
  },
  {
   "cell_type": "code",
   "execution_count": 85,
   "id": "c5d7958f",
   "metadata": {},
   "outputs": [
    {
     "data": {
      "text/plain": [
       "'Test_ibmq_multiple_circuits'"
      ]
     },
     "execution_count": 85,
     "metadata": {},
     "output_type": "execute_result"
    }
   ],
   "source": [
    "job.update_name(\"Test_ibmq_multiple_circuits\")"
   ]
  },
  {
   "cell_type": "code",
   "execution_count": 61,
   "id": "d71cb15c",
   "metadata": {},
   "outputs": [],
   "source": [
    "counts = job.result().get_counts()"
   ]
  },
  {
   "cell_type": "code",
   "execution_count": 63,
   "id": "ea01fdd4",
   "metadata": {},
   "outputs": [
    {
     "data": {
      "text/plain": [
       "array([0.055875, 0.037375, 0.04075 , 0.020375, 0.042125, 0.022625,\n",
       "       0.045625, 0.016875, 0.04175 , 0.042375, 0.019875, 0.022   ,\n",
       "       0.020125, 0.01975 , 0.016375, 0.03725 , 0.037   , 0.01675 ,\n",
       "       0.019125, 0.02025 , 0.020875, 0.01925 , 0.042375, 0.041875,\n",
       "       0.020375, 0.04425 , 0.0175  , 0.037   , 0.021125, 0.039375,\n",
       "       0.04125 , 0.0605  ])"
      ]
     },
     "execution_count": 63,
     "metadata": {},
     "output_type": "execute_result"
    }
   ],
   "source": [
    "p = qaoa.get_probabilities_for_counts(counts)\n",
    "p"
   ]
  },
  {
   "cell_type": "code",
   "execution_count": 64,
   "id": "21b966a8",
   "metadata": {},
   "outputs": [
    {
     "data": {
      "text/plain": [
       "1.0"
      ]
     },
     "execution_count": 64,
     "metadata": {},
     "output_type": "execute_result"
    }
   ],
   "source": [
    "sum(p)"
   ]
  },
  {
   "cell_type": "code",
   "execution_count": 72,
   "id": "dad5cf6b",
   "metadata": {},
   "outputs": [],
   "source": [
    "def maxcut_obj(x, G):\n",
    "    \"\"\"\n",
    "    Given a bitstring as a solution, this function returns\n",
    "    the number of edges shared between the two partitions\n",
    "    of the graph.\n",
    "    \n",
    "    Args:\n",
    "        x: str\n",
    "           solution bitstring\n",
    "           \n",
    "        G: networkx graph\n",
    "        \n",
    "    Returns:\n",
    "        obj: float\n",
    "             Objective\n",
    "    \"\"\"\n",
    "    obj = 0\n",
    "    for i, j in G.edges():\n",
    "        if x[i] != x[j]:\n",
    "            obj -= 1\n",
    "            \n",
    "    return obj\n",
    "\n",
    "\n",
    "def compute_expectation(counts, G):\n",
    "    \n",
    "    \"\"\"\n",
    "    Computes expectation value based on measurement results\n",
    "    \n",
    "    Args:\n",
    "        counts: dict\n",
    "                key as bitstring, val as count\n",
    "           \n",
    "        G: networkx graph\n",
    "        \n",
    "    Returns:\n",
    "        avg: float\n",
    "             expectation value\n",
    "    \"\"\"\n",
    "    \n",
    "    avg = 0\n",
    "    sum_count = 0\n",
    "    for bitstring, count in counts.items():\n",
    "        \n",
    "        obj = maxcut_obj(bitstring, G)\n",
    "        avg += obj * count\n",
    "        sum_count += count\n",
    "        \n",
    "    return avg/sum_count"
   ]
  },
  {
   "cell_type": "code",
   "execution_count": 66,
   "id": "5d672466",
   "metadata": {},
   "outputs": [
    {
     "data": {
      "text/plain": [
       "-2.74175"
      ]
     },
     "execution_count": 66,
     "metadata": {},
     "output_type": "execute_result"
    }
   ],
   "source": [
    "compute_expectation(counts, graph)"
   ]
  },
  {
   "cell_type": "code",
   "execution_count": 73,
   "id": "6f677bd2",
   "metadata": {},
   "outputs": [],
   "source": [
    "def create_cirucit(gamma,beta):\n",
    "    circuits = qaoa.construct_circuit([gamma,beta], operator=op)\n",
    "    circuit = circuits[0]\n",
    "    circuit.measure_all()\n",
    "    return circuit"
   ]
  },
  {
   "cell_type": "code",
   "execution_count": 98,
   "id": "33afb193",
   "metadata": {},
   "outputs": [
    {
     "name": "stdout",
     "output_type": "stream",
     "text": [
      "Butterfly_no_weights_Row_0_test_2\n",
      "Butterfly_no_weights_Row_1_test_2\n",
      "Butterfly_no_weights_Row_2_test_2\n",
      "Butterfly_no_weights_Row_3_test_2\n",
      "Butterfly_no_weights_Row_4_test_2\n",
      "Butterfly_no_weights_Row_5_test_2\n",
      "Butterfly_no_weights_Row_6_test_2\n",
      "Butterfly_no_weights_Row_7_test_2\n",
      "Butterfly_no_weights_Row_8_test_2\n",
      "Butterfly_no_weights_Row_9_test_2\n",
      "Butterfly_no_weights_Row_10_test_2\n",
      "Butterfly_no_weights_Row_11_test_2\n",
      "Butterfly_no_weights_Row_12_test_2\n",
      "Butterfly_no_weights_Row_13_test_2\n",
      "Butterfly_no_weights_Row_14_test_2\n",
      "Butterfly_no_weights_Row_15_test_2\n",
      "Butterfly_no_weights_Row_16_test_2\n",
      "Butterfly_no_weights_Row_17_test_2\n",
      "Butterfly_no_weights_Row_18_test_2\n",
      "Butterfly_no_weights_Row_19_test_2\n",
      "Butterfly_no_weights_Row_20_test_2\n",
      "Butterfly_no_weights_Row_21_test_2\n",
      "Butterfly_no_weights_Row_22_test_2\n",
      "Butterfly_no_weights_Row_23_test_2\n",
      "Butterfly_no_weights_Row_24_test_2\n",
      "Butterfly_no_weights_Row_25_test_2\n",
      "Butterfly_no_weights_Row_26_test_2\n",
      "Butterfly_no_weights_Row_27_test_2\n",
      "Butterfly_no_weights_Row_28_test_2\n",
      "Butterfly_no_weights_Row_29_test_2\n",
      "Butterfly_no_weights_Row_30_test_2\n",
      "Butterfly_no_weights_Row_31_test_2\n"
     ]
    }
   ],
   "source": [
    "F1 = np.zeros(a_gamma.shape)\n",
    "for i in range(0, len(F1)):\n",
    "    circuits = []\n",
    "    for j in range(0, len(F1)):\n",
    "        circuit = create_cirucit(a_gamma[i][j], b_beta[i][j])\n",
    "        circuits.append(circuit)\n",
    "    \n",
    "    job = qiskit.execute(circuits, backend=provider.get_backend('ibmq_qasm_simulator'),shots=8000)\n",
    "    job.update_name(f\"Butterfly_no_weights_Row_{i}\")\n",
    "    print(f\"Butterfly_no_weights_Row_{i}_test_2\")\n",
    "    j = 0\n",
    "    for count in job.result().get_counts():\n",
    "        mean = compute_expectation(count, graph)\n",
    "        F1[i,j] = mean\n",
    "        j += 1"
   ]
  },
  {
   "cell_type": "code",
   "execution_count": 213,
   "id": "e4f98e4e",
   "metadata": {},
   "outputs": [
    {
     "name": "stdout",
     "output_type": "stream",
     "text": [
      "[[-2.9775  -3.00625 -2.996   ... -3.005   -2.997   -3.00075]\n",
      " [-3.00125 -2.92325 -2.8895  ... -3.0935  -3.06325 -3.0255 ]\n",
      " [-2.9995  -2.89375 -2.763   ... -3.20475 -3.16175 -3.069  ]\n",
      " ...\n",
      " [-3.013   -3.14275 -3.21825 ... -2.684   -2.8035  -2.941  ]\n",
      " [-3.01325 -3.081   -3.12925 ... -2.818   -2.854   -2.95275]\n",
      " [-2.9845  -3.026   -3.0555  ... -2.944   -2.9675  -2.978  ]]\n"
     ]
    },
    {
     "data": {
      "image/png": "[encoded data removed]",
      "text/plain": [
       "<Figure size 288x288 with 1 Axes>"
      ]
     },
     "metadata": {
      "needs_background": "light"
     },
     "output_type": "display_data"
    }
   ],
   "source": [
    "print(F1)\n",
    "plt.matshow(F1)\n",
    "plt.show()"
   ]
  },
  {
   "cell_type": "code",
   "execution_count": 100,
   "id": "ab4d970f",
   "metadata": {},
   "outputs": [
    {
     "data": {
      "text/plain": [
       "-2.7280107421875"
      ]
     },
     "execution_count": 100,
     "metadata": {},
     "output_type": "execute_result"
    }
   ],
   "source": [
    "np.mean(F1)"
   ]
  },
  {
   "cell_type": "code",
   "execution_count": 101,
   "id": "757e216c",
   "metadata": {},
   "outputs": [
    {
     "data": {
      "text/plain": [
       "(6, 13)"
      ]
     },
     "execution_count": 101,
     "metadata": {},
     "output_type": "execute_result"
    }
   ],
   "source": [
    "np.unravel_index(np.argmin(F1), F1.shape)"
   ]
  },
  {
   "cell_type": "code",
   "execution_count": 102,
   "id": "a6df4d52",
   "metadata": {},
   "outputs": [
    {
     "data": {
      "text/plain": [
       "-3.3895"
      ]
     },
     "execution_count": 102,
     "metadata": {},
     "output_type": "execute_result"
    }
   ],
   "source": [
    "np.min(F1)"
   ]
  },
  {
   "cell_type": "code",
   "execution_count": 103,
   "id": "b6742cd7",
   "metadata": {},
   "outputs": [
    {
     "data": {
      "text/plain": [
       "-1.77725"
      ]
     },
     "execution_count": 103,
     "metadata": {},
     "output_type": "execute_result"
    }
   ],
   "source": [
    "np.max(F1)"
   ]
  },
  {
   "cell_type": "code",
   "execution_count": 104,
   "id": "c143d293",
   "metadata": {},
   "outputs": [],
   "source": [
    "with open('landscape_butterfly_no_weights_ibmq_qasm_simulator_results.npy', 'wb') as f:\n",
    "    np.save(f, F1)"
   ]
  },
  {
   "cell_type": "code",
   "execution_count": 105,
   "id": "0d151f59",
   "metadata": {},
   "outputs": [],
   "source": [
    "with open('landscape_butterfly_no_weights_ibmq_qasm_simulator_results.npy', 'rb') as f:\n",
    "    f2 = np.load(f)"
   ]
  },
  {
   "cell_type": "code",
   "execution_count": 106,
   "id": "5f8b15b5",
   "metadata": {},
   "outputs": [
    {
     "data": {
      "text/plain": [
       "-1.77725"
      ]
     },
     "execution_count": 106,
     "metadata": {},
     "output_type": "execute_result"
    }
   ],
   "source": [
    "np.max(f2)"
   ]
  },
  {
   "cell_type": "code",
   "execution_count": 214,
   "id": "4eb0c3a9",
   "metadata": {},
   "outputs": [],
   "source": [
    "import plotly.graph_objects as go\n"
   ]
  },
  {
   "cell_type": "code",
   "execution_count": 427,
   "id": "6025749e",
   "metadata": {},
   "outputs": [
    {
     "data": {
      "application/vnd.plotly.v1+json": {
       "config": {
        "plotlyServerURL": "https://plot.ly"
       },
       "data": [
        {
         "contours": {
          "z": {
           "highlightcolor": "limegreen",
           "project": {
            "z": true
           },
           "show": true,
           "usecolormap": true
          }
         },
         "type": "surface",
         "x": [
          0,
          0.1,
          0.2,
          0.30000000000000004,
          0.4,
          0.5,
          0.6000000000000001,
          0.7000000000000001,
          0.8,
          0.9,
          1,
          1.1,
          1.2000000000000002,
          1.3,
          1.4000000000000001,
          1.5,
          1.6,
          1.7000000000000002,
          1.8,
          1.9000000000000001,
          2,
          2.1,
          2.2,
          2.3000000000000003,
          2.4000000000000004,
          2.5,
          2.6,
          2.7,
          2.8000000000000003,
          2.9000000000000004,
          3,
          3.1
         ],
         "y": [
          0,
          0.1,
          0.2,
          0.30000000000000004,
          0.4,
          0.5,
          0.6000000000000001,
          0.7000000000000001,
          0.8,
          0.9,
          1,
          1.1,
          1.2000000000000002,
          1.3,
          1.4000000000000001,
          1.5,
          1.6,
          1.7000000000000002,
          1.8,
          1.9000000000000001,
          2,
          2.1,
          2.2,
          2.3000000000000003,
          2.4000000000000004,
          2.5,
          2.6,
          2.7,
          2.8000000000000003,
          2.9000000000000004,
          3,
          3.1
         ],
         "z": [
          [
           -2.9775,
           -3.00625,
           -2.996,
           -2.98875,
           -2.9955,
           -3.03575,
           -2.9645,
           -2.99,
           -2.97825,
           -3.01075,
           -3.00025,
           -3.0105,
           -2.99225,
           -2.98125,
           -3.0135,
           -2.99975,
           -2.9735,
           -2.99975,
           -2.99675,
           -3.0265,
           -2.99975,
           -3.009,
           -2.981,
           -3.01175,
           -2.99675,
           -3.01225,
           -3.002,
           -3.00175,
           -3.01075,
           -3.005,
           -2.997,
           -3.00075
          ],
          [
           -3.00125,
           -2.92325,
           -2.8895,
           -2.8595,
           -2.82775,
           -2.8375,
           -2.8645,
           -2.92275,
           -2.964,
           -3.0485,
           -3.10675,
           -3.121,
           -3.1105,
           -3.117,
           -3.053,
           -3.04475,
           -2.97375,
           -2.94975,
           -2.8805,
           -2.83975,
           -2.82875,
           -2.84875,
           -2.8505,
           -2.9145,
           -2.99,
           -3.07175,
           -3.11475,
           -3.1265,
           -3.1155,
           -3.0935,
           -3.06325,
           -3.0255
          ],
          [
           -2.9995,
           -2.89375,
           -2.763,
           -2.71,
           -2.65975,
           -2.66125,
           -2.7065,
           -2.78325,
           -2.88875,
           -3.01025,
           -3.133,
           -3.21975,
           -3.2335,
           -3.22975,
           -3.18475,
           -3.074,
           -2.96625,
           -2.8425,
           -2.74625,
           -2.68925,
           -2.64375,
           -2.69425,
           -2.7285,
           -2.8185,
           -2.91925,
           -3.0585,
           -3.14975,
           -3.23,
           -3.23175,
           -3.20475,
           -3.16175,
           -3.069
          ],
          [
           -3.007,
           -2.8445,
           -2.66725,
           -2.55925,
           -2.45475,
           -2.4665,
           -2.50925,
           -2.62025,
           -2.75225,
           -2.92725,
           -3.11725,
           -3.212,
           -3.3055,
           -3.26675,
           -3.24125,
           -3.12225,
           -2.95425,
           -2.7675,
           -2.652,
           -2.5295,
           -2.46875,
           -2.454,
           -2.51025,
           -2.63825,
           -2.83325,
           -2.99375,
           -3.1415,
           -3.24125,
           -3.31475,
           -3.279,
           -3.2305,
           -3.0685
          ],
          [
           -2.9665,
           -2.766,
           -2.56675,
           -2.392,
           -2.27925,
           -2.254,
           -2.30075,
           -2.4585,
           -2.5845,
           -2.82625,
           -3.048,
           -3.194,
           -3.314,
           -3.3445,
           -3.2885,
           -3.1335,
           -2.9225,
           -2.7255,
           -2.529,
           -2.38975,
           -2.268,
           -2.24275,
           -2.32525,
           -2.4795,
           -2.70975,
           -2.89875,
           -3.12225,
           -3.246,
           -3.31175,
           -3.33075,
           -3.2395,
           -3.1
          ],
          [
           -2.9935,
           -2.744,
           -2.49325,
           -2.2655,
           -2.1485,
           -2.07625,
           -2.10425,
           -2.29475,
           -2.48875,
           -2.7425,
           -2.9785,
           -3.1875,
           -3.3305,
           -3.3755,
           -3.29975,
           -3.17825,
           -2.94525,
           -2.657,
           -2.43875,
           -2.22075,
           -2.099,
           -2.08725,
           -2.1295,
           -2.3075,
           -2.5305,
           -2.8075,
           -3.0425,
           -3.26,
           -3.33525,
           -3.35725,
           -3.27125,
           -3.101
          ],
          [
           -3.01025,
           -2.7295,
           -2.44025,
           -2.189,
           -1.98325,
           -1.93225,
           -1.97975,
           -2.132,
           -2.342,
           -2.58475,
           -2.90625,
           -3.144,
           -3.30975,
           -3.3895,
           -3.30175,
           -3.147,
           -2.92025,
           -2.6755,
           -2.38675,
           -2.16425,
           -1.976,
           -1.9005,
           -2.03075,
           -2.1975,
           -2.42,
           -2.6825,
           -2.969,
           -3.2095,
           -3.33175,
           -3.3595,
           -3.265,
           -3.09375
          ],
          [
           -3.00475,
           -2.7125,
           -2.44025,
           -2.13775,
           -1.92625,
           -1.831,
           -1.86325,
           -1.99775,
           -2.25475,
           -2.53775,
           -2.81125,
           -3.04875,
           -3.25825,
           -3.35375,
           -3.31975,
           -3.1445,
           -2.90225,
           -2.62025,
           -2.33025,
           -2.1,
           -1.893,
           -1.8425,
           -1.914,
           -2.04925,
           -2.27475,
           -2.617,
           -2.89825,
           -3.12625,
           -3.304,
           -3.34325,
           -3.285,
           -3.11375
          ],
          [
           -2.9925,
           -2.737,
           -2.4185,
           -2.16175,
           -1.9075,
           -1.81075,
           -1.78875,
           -1.9435,
           -2.16675,
           -2.4295,
           -2.7415,
           -3.00675,
           -3.19225,
           -3.31175,
           -3.2785,
           -3.1595,
           -2.915,
           -2.62975,
           -2.37325,
           -2.09375,
           -1.902,
           -1.81075,
           -1.8115,
           -1.98575,
           -2.261,
           -2.52675,
           -2.8305,
           -3.0815,
           -3.26425,
           -3.31325,
           -3.26225,
           -3.09725
          ],
          [
           -3.01625,
           -2.7665,
           -2.43975,
           -2.13875,
           -1.94075,
           -1.8635,
           -1.8235,
           -1.9425,
           -2.1335,
           -2.40875,
           -2.696,
           -2.96825,
           -3.17325,
           -3.288,
           -3.289,
           -3.1125,
           -2.9415,
           -2.63725,
           -2.3625,
           -2.10675,
           -1.88825,
           -1.81225,
           -1.81275,
           -1.975,
           -2.206,
           -2.469,
           -2.77525,
           -3.04425,
           -3.21375,
           -3.2645,
           -3.2425,
           -3.1075
          ],
          [
           -2.99375,
           -2.74,
           -2.50375,
           -2.258,
           -2.0385,
           -1.92175,
           -1.882,
           -1.998,
           -2.13975,
           -2.4115,
           -2.68975,
           -2.9175,
           -3.13275,
           -3.2255,
           -3.235,
           -3.1345,
           -2.91925,
           -2.68725,
           -2.44475,
           -2.1635,
           -1.9785,
           -1.845,
           -1.9245,
           -2.0335,
           -2.22775,
           -2.46325,
           -2.75425,
           -3.0005,
           -3.15625,
           -3.20325,
           -3.227,
           -3.072
          ],
          [
           -2.9975,
           -2.78875,
           -2.58975,
           -2.3605,
           -2.168,
           -2.01,
           -2.027,
           -2.08475,
           -2.20825,
           -2.43225,
           -2.66425,
           -2.897,
           -3.0935,
           -3.1915,
           -3.1855,
           -3.108,
           -2.94975,
           -2.72925,
           -2.4755,
           -2.2525,
           -2.086,
           -2.02325,
           -1.9845,
           -2.09775,
           -2.272,
           -2.517,
           -2.73025,
           -2.951,
           -3.10025,
           -3.19,
           -3.145,
           -3.055
          ],
          [
           -2.979,
           -2.84625,
           -2.6075,
           -2.4325,
           -2.273,
           -2.186,
           -2.13375,
           -2.1705,
           -2.289,
           -2.493,
           -2.70525,
           -2.86975,
           -3.01625,
           -3.133,
           -3.15,
           -3.081,
           -2.956,
           -2.77525,
           -2.571,
           -2.403,
           -2.245,
           -2.1755,
           -2.1225,
           -2.204,
           -2.31775,
           -2.52325,
           -2.7215,
           -2.92925,
           -3.08,
           -3.15025,
           -3.13525,
           -3.03575
          ],
          [
           -3.01775,
           -2.8725,
           -2.73425,
           -2.56475,
           -2.39425,
           -2.2635,
           -2.2585,
           -2.28425,
           -2.374,
           -2.54125,
           -2.67825,
           -2.8375,
           -2.98525,
           -3.06725,
           -3.09925,
           -3.059,
           -2.974,
           -2.81025,
           -2.687,
           -2.48725,
           -2.379,
           -2.29025,
           -2.3175,
           -2.31625,
           -2.405,
           -2.558,
           -2.7395,
           -2.88475,
           -3.00675,
           -3.0965,
           -3.0815,
           -3.02475
          ],
          [
           -2.99,
           -2.91525,
           -2.82625,
           -2.685,
           -2.55925,
           -2.45775,
           -2.4085,
           -2.36875,
           -2.43875,
           -2.5185,
           -2.66425,
           -2.75675,
           -2.921,
           -3.00925,
           -3.02675,
           -3.033,
           -2.96425,
           -2.898,
           -2.77375,
           -2.6475,
           -2.48775,
           -2.41925,
           -2.4055,
           -2.42575,
           -2.48875,
           -2.57575,
           -2.7165,
           -2.823,
           -2.9645,
           -3.02575,
           -3.058,
           -2.98875
          ],
          [
           -3.01,
           -2.9635,
           -2.873,
           -2.75175,
           -2.674,
           -2.564,
           -2.50175,
           -2.50375,
           -2.4845,
           -2.55375,
           -2.631,
           -2.73225,
           -2.82825,
           -2.89975,
           -3.014,
           -3.00775,
           -3.0085,
           -2.9265,
           -2.8295,
           -2.7285,
           -2.63775,
           -2.5795,
           -2.48325,
           -2.461,
           -2.47475,
           -2.5545,
           -2.655,
           -2.74975,
           -2.8555,
           -2.94175,
           -2.9925,
           -3.04
          ],
          [
           -2.98725,
           -3.00175,
           -2.94,
           -2.887,
           -2.772,
           -2.65975,
           -2.556,
           -2.5005,
           -2.50325,
           -2.49875,
           -2.553,
           -2.63075,
           -2.747,
           -2.84975,
           -2.94325,
           -3.0045,
           -2.99325,
           -3,
           -2.90925,
           -2.82575,
           -2.73325,
           -2.654,
           -2.5655,
           -2.52225,
           -2.4735,
           -2.50925,
           -2.584,
           -2.67325,
           -2.77475,
           -2.8645,
           -2.94225,
           -2.984
          ],
          [
           -3.0145,
           -3.027,
           -3.01525,
           -2.97425,
           -2.844,
           -2.739,
           -2.5975,
           -2.526,
           -2.485,
           -2.428,
           -2.44925,
           -2.524,
           -2.62775,
           -2.724,
           -2.88475,
           -2.93675,
           -3.01975,
           -3.05925,
           -2.9955,
           -2.90675,
           -2.819,
           -2.69675,
           -2.593,
           -2.5175,
           -2.426,
           -2.4735,
           -2.50225,
           -2.57075,
           -2.6895,
           -2.795,
           -2.8825,
           -2.9685
          ],
          [
           -2.9775,
           -3.08975,
           -3.08725,
           -3.02625,
           -2.92225,
           -2.7885,
           -2.62925,
           -2.49575,
           -2.4115,
           -2.32625,
           -2.3225,
           -2.36925,
           -2.5,
           -2.66375,
           -2.76325,
           -2.93575,
           -3.06175,
           -3.078,
           -3.0625,
           -2.98125,
           -2.87525,
           -2.7275,
           -2.59725,
           -2.4475,
           -2.366,
           -2.31025,
           -2.35925,
           -2.42975,
           -2.5415,
           -2.65875,
           -2.8255,
           -2.9595
          ],
          [
           -2.97625,
           -3.08625,
           -3.1215,
           -3.062,
           -2.9705,
           -2.80575,
           -2.61375,
           -2.4495,
           -2.30175,
           -2.16225,
           -2.17625,
           -2.28325,
           -2.36525,
           -2.5695,
           -2.723,
           -2.86075,
           -3.015,
           -3.13725,
           -3.09675,
           -3.05375,
           -2.932,
           -2.765,
           -2.55775,
           -2.42625,
           -2.26525,
           -2.18225,
           -2.20075,
           -2.25225,
           -2.422,
           -2.59975,
           -2.7605,
           -2.9045
          ],
          [
           -3.00725,
           -3.14475,
           -3.1665,
           -3.1535,
           -3.0135,
           -2.8275,
           -2.60075,
           -2.38225,
           -2.21375,
           -2.07375,
           -2.01825,
           -2.14575,
           -2.24175,
           -2.413,
           -2.666,
           -2.835,
           -3.03875,
           -3.17825,
           -3.186,
           -3.11675,
           -2.9515,
           -2.76825,
           -2.52225,
           -2.33325,
           -2.1805,
           -2.066,
           -2.07125,
           -2.13425,
           -2.3085,
           -2.518,
           -2.70525,
           -2.923
          ],
          [
           -3.02125,
           -3.14825,
           -3.227,
           -3.1975,
           -3.06375,
           -2.847,
           -2.5895,
           -2.341,
           -2.12425,
           -1.976,
           -1.91625,
           -1.9665,
           -2.1185,
           -2.33775,
           -2.5835,
           -2.84525,
           -3.06025,
           -3.1845,
           -3.2335,
           -3.16225,
           -2.987,
           -2.75725,
           -2.53025,
           -2.27925,
           -2.05325,
           -1.95575,
           -1.915,
           -2.00725,
           -2.17,
           -2.40675,
           -2.67675,
           -2.93025
          ],
          [
           -3.00175,
           -3.1915,
           -3.26125,
           -3.24075,
           -3.09,
           -2.86525,
           -2.5725,
           -2.31375,
           -2.0995,
           -1.90675,
           -1.852,
           -1.86825,
           -2.04375,
           -2.27475,
           -2.53625,
           -2.8065,
           -3.0825,
           -3.215,
           -3.2655,
           -3.21825,
           -3.01225,
           -2.7965,
           -2.50275,
           -2.2575,
           -2.00025,
           -1.88325,
           -1.806,
           -1.8795,
           -2.07725,
           -2.37125,
           -2.641,
           -2.912
          ],
          [
           -3.01975,
           -3.211,
           -3.2895,
           -3.29675,
           -3.14525,
           -2.9265,
           -2.63625,
           -2.3705,
           -2.06875,
           -1.866,
           -1.788,
           -1.8355,
           -1.9695,
           -2.2375,
           -2.51175,
           -2.78575,
           -3.0685,
           -3.227,
           -3.299,
           -3.254,
           -3.08025,
           -2.83775,
           -2.54675,
           -2.2795,
           -1.99225,
           -1.84025,
           -1.81475,
           -1.8655,
           -2.083,
           -2.325,
           -2.6035,
           -2.89375
          ],
          [
           -3.008,
           -3.2235,
           -3.3175,
           -3.3225,
           -3.212,
           -2.9675,
           -2.67625,
           -2.40575,
           -2.119,
           -1.90725,
           -1.77725,
           -1.84125,
           -1.981,
           -2.19525,
           -2.47025,
           -2.815,
           -3.05375,
           -3.246,
           -3.3255,
           -3.28525,
           -3.122,
           -2.89425,
           -2.61825,
           -2.29175,
           -2.02175,
           -1.84825,
           -1.801,
           -1.87275,
           -2.0515,
           -2.31225,
           -2.59175,
           -2.89225
          ],
          [
           -3.0005,
           -3.2005,
           -3.329,
           -3.32175,
           -3.2405,
           -3.044,
           -2.76975,
           -2.48975,
           -2.18625,
           -2.011,
           -1.9055,
           -1.89875,
           -2.01125,
           -2.23575,
           -2.525,
           -2.80525,
           -3.0705,
           -3.2895,
           -3.34975,
           -3.33,
           -3.19175,
           -2.98325,
           -2.6985,
           -2.40375,
           -2.12875,
           -1.974,
           -1.86625,
           -1.937,
           -2.04275,
           -2.29075,
           -2.599,
           -2.89
          ],
          [
           -2.97675,
           -3.22425,
           -3.33125,
           -3.36375,
           -3.286,
           -3.1225,
           -2.88975,
           -2.59375,
           -2.33675,
           -2.12975,
           -2.039,
           -2.01625,
           -2.1205,
           -2.29075,
           -2.5665,
           -2.82325,
           -3.0655,
           -3.24125,
           -3.36075,
           -3.35575,
           -3.22425,
           -3.04025,
           -2.812,
           -2.50375,
           -2.267,
           -2.1025,
           -2.04425,
           -2.03025,
           -2.14575,
           -2.38525,
           -2.5955,
           -2.905
          ],
          [
           -2.97425,
           -3.20775,
           -3.302,
           -3.35475,
           -3.31075,
           -3.1695,
           -2.96675,
           -2.7495,
           -2.49225,
           -2.32825,
           -2.1805,
           -2.166,
           -2.24525,
           -2.417,
           -2.5885,
           -2.813,
           -3.067,
           -3.2345,
           -3.3325,
           -3.3525,
           -3.25375,
           -3.11425,
           -2.88225,
           -2.65825,
           -2.4425,
           -2.26275,
           -2.1905,
           -2.1975,
           -2.293,
           -2.46125,
           -2.67075,
           -2.88825
          ],
          [
           -2.997,
           -3.1695,
           -3.29525,
           -3.3365,
           -3.28975,
           -3.19925,
           -3.03725,
           -2.838,
           -2.66975,
           -2.502,
           -2.41,
           -2.39525,
           -2.42575,
           -2.50975,
           -2.6675,
           -2.863,
           -3.0515,
           -3.21375,
           -3.30575,
           -3.3235,
           -3.282,
           -3.16,
           -3.021,
           -2.78125,
           -2.62175,
           -2.43875,
           -2.374,
           -2.37875,
           -2.439,
           -2.54975,
           -2.708,
           -2.93275
          ],
          [
           -3.013,
           -3.14275,
           -3.21825,
           -3.27775,
           -3.2505,
           -3.17275,
           -3.105,
           -2.9425,
           -2.82,
           -2.682,
           -2.61075,
           -2.581,
           -2.57025,
           -2.6445,
           -2.7585,
           -2.91,
           -3.048,
           -3.17475,
           -3.247,
           -3.2615,
           -3.2685,
           -3.17075,
           -3.0525,
           -2.9235,
           -2.77275,
           -2.6725,
           -2.59575,
           -2.60175,
           -2.586,
           -2.684,
           -2.8035,
           -2.941
          ],
          [
           -3.01325,
           -3.081,
           -3.12925,
           -3.167,
           -3.1835,
           -3.14125,
           -3.09525,
           -3.01875,
           -2.90225,
           -2.842,
           -2.785,
           -2.79075,
           -2.749,
           -2.8175,
           -2.855,
           -2.94775,
           -3.0455,
           -3.10025,
           -3.141,
           -3.1545,
           -3.164,
           -3.15425,
           -3.053,
           -3.00675,
           -2.94825,
           -2.86625,
           -2.801,
           -2.774,
           -2.7735,
           -2.818,
           -2.854,
           -2.95275
          ],
          [
           -2.9845,
           -3.026,
           -3.0555,
           -3.063,
           -3.0625,
           -3.041,
           -3.047,
           -3.0235,
           -3.007,
           -2.98525,
           -2.93225,
           -2.932,
           -2.93425,
           -2.93375,
           -2.97775,
           -2.982,
           -3.008,
           -3.0325,
           -3.06375,
           -3.0655,
           -3.057,
           -3.04075,
           -3.0375,
           -2.99625,
           -2.95875,
           -2.9645,
           -2.95175,
           -2.931,
           -2.94775,
           -2.944,
           -2.9675,
           -2.978
          ]
         ]
        }
       ],
       "layout": {
        "scene": {
         "xaxis": {
          "title": {
           "text": "gamma"
          }
         },
         "yaxis": {
          "title": {
           "text": "beta"
          }
         },
         "zaxis": {
          "title": {
           "text": "mean"
          }
         }
        },
        "template": {
         "data": {
          "bar": [
           {
            "error_x": {
             "color": "#2a3f5f"
            },
            "error_y": {
             "color": "#2a3f5f"
            },
            "marker": {
             "line": {
              "color": "#E5ECF6",
              "width": 0.5
             },
             "pattern": {
              "fillmode": "overlay",
              "size": 10,
              "solidity": 0.2
             }
            },
            "type": "bar"
           }
          ],
          "barpolar": [
           {
            "marker": {
             "line": {
              "color": "#E5ECF6",
              "width": 0.5
             },
             "pattern": {
              "fillmode": "overlay",
              "size": 10,
              "solidity": 0.2
             }
            },
            "type": "barpolar"
           }
          ],
          "carpet": [
           {
            "aaxis": {
             "endlinecolor": "#2a3f5f",
             "gridcolor": "white",
             "linecolor": "white",
             "minorgridcolor": "white",
             "startlinecolor": "#2a3f5f"
            },
            "baxis": {
             "endlinecolor": "#2a3f5f",
             "gridcolor": "white",
             "linecolor": "white",
             "minorgridcolor": "white",
             "startlinecolor": "#2a3f5f"
            },
            "type": "carpet"
           }
          ],
          "choropleth": [
           {
            "colorbar": {
             "outlinewidth": 0,
             "ticks": ""
            },
            "type": "choropleth"
           }
          ],
          "contour": [
           {
            "colorbar": {
             "outlinewidth": 0,
             "ticks": ""
            },
            "colorscale": [
             [
              0,
              "#0d0887"
             ],
             [
              0.1111111111111111,
              "#46039f"
             ],
             [
              0.2222222222222222,
              "#7201a8"
             ],
             [
              0.3333333333333333,
              "#9c179e"
             ],
             [
              0.4444444444444444,
              "#bd3786"
             ],
             [
              0.5555555555555556,
              "#d8576b"
             ],
             [
              0.6666666666666666,
              "#ed7953"
             ],
             [
              0.7777777777777778,
              "#fb9f3a"
             ],
             [
              0.8888888888888888,
              "#fdca26"
             ],
             [
              1,
              "#f0f921"
             ]
            ],
            "type": "contour"
           }
          ],
          "contourcarpet": [
           {
            "colorbar": {
             "outlinewidth": 0,
             "ticks": ""
            },
            "type": "contourcarpet"
           }
          ],
          "heatmap": [
           {
            "colorbar": {
             "outlinewidth": 0,
             "ticks": ""
            },
            "colorscale": [
             [
              0,
              "#0d0887"
             ],
             [
              0.1111111111111111,
              "#46039f"
             ],
             [
              0.2222222222222222,
              "#7201a8"
             ],
             [
              0.3333333333333333,
              "#9c179e"
             ],
             [
              0.4444444444444444,
              "#bd3786"
             ],
             [
              0.5555555555555556,
              "#d8576b"
             ],
             [
              0.6666666666666666,
              "#ed7953"
             ],
             [
              0.7777777777777778,
              "#fb9f3a"
             ],
             [
              0.8888888888888888,
              "#fdca26"
             ],
             [
              1,
              "#f0f921"
             ]
            ],
            "type": "heatmap"
           }
          ],
          "heatmapgl": [
           {
            "colorbar": {
             "outlinewidth": 0,
             "ticks": ""
            },
            "colorscale": [
             [
              0,
              "#0d0887"
             ],
             [
              0.1111111111111111,
              "#46039f"
             ],
             [
              0.2222222222222222,
              "#7201a8"
             ],
             [
              0.3333333333333333,
              "#9c179e"
             ],
             [
              0.4444444444444444,
              "#bd3786"
             ],
             [
              0.5555555555555556,
              "#d8576b"
             ],
             [
              0.6666666666666666,
              "#ed7953"
             ],
             [
              0.7777777777777778,
              "#fb9f3a"
             ],
             [
              0.8888888888888888,
              "#fdca26"
             ],
             [
              1,
              "#f0f921"
             ]
            ],
            "type": "heatmapgl"
           }
          ],
          "histogram": [
           {
            "marker": {
             "pattern": {
              "fillmode": "overlay",
              "size": 10,
              "solidity": 0.2
             }
            },
            "type": "histogram"
           }
          ],
          "histogram2d": [
           {
            "colorbar": {
             "outlinewidth": 0,
             "ticks": ""
            },
            "colorscale": [
             [
              0,
              "#0d0887"
             ],
             [
              0.1111111111111111,
              "#46039f"
             ],
             [
              0.2222222222222222,
              "#7201a8"
             ],
             [
              0.3333333333333333,
              "#9c179e"
             ],
             [
              0.4444444444444444,
              "#bd3786"
             ],
             [
              0.5555555555555556,
              "#d8576b"
             ],
             [
              0.6666666666666666,
              "#ed7953"
             ],
             [
              0.7777777777777778,
              "#fb9f3a"
             ],
             [
              0.8888888888888888,
              "#fdca26"
             ],
             [
              1,
              "#f0f921"
             ]
            ],
            "type": "histogram2d"
           }
          ],
          "histogram2dcontour": [
           {
            "colorbar": {
             "outlinewidth": 0,
             "ticks": ""
            },
            "colorscale": [
             [
              0,
              "#0d0887"
             ],
             [
              0.1111111111111111,
              "#46039f"
             ],
             [
              0.2222222222222222,
              "#7201a8"
             ],
             [
              0.3333333333333333,
              "#9c179e"
             ],
             [
              0.4444444444444444,
              "#bd3786"
             ],
             [
              0.5555555555555556,
              "#d8576b"
             ],
             [
              0.6666666666666666,
              "#ed7953"
             ],
             [
              0.7777777777777778,
              "#fb9f3a"
             ],
             [
              0.8888888888888888,
              "#fdca26"
             ],
             [
              1,
              "#f0f921"
             ]
            ],
            "type": "histogram2dcontour"
           }
          ],
          "mesh3d": [
           {
            "colorbar": {
             "outlinewidth": 0,
             "ticks": ""
            },
            "type": "mesh3d"
           }
          ],
          "parcoords": [
           {
            "line": {
             "colorbar": {
              "outlinewidth": 0,
              "ticks": ""
             }
            },
            "type": "parcoords"
           }
          ],
          "pie": [
           {
            "automargin": true,
            "type": "pie"
           }
          ],
          "scatter": [
           {
            "marker": {
             "colorbar": {
              "outlinewidth": 0,
              "ticks": ""
             }
            },
            "type": "scatter"
           }
          ],
          "scatter3d": [
           {
            "line": {
             "colorbar": {
              "outlinewidth": 0,
              "ticks": ""
             }
            },
            "marker": {
             "colorbar": {
              "outlinewidth": 0,
              "ticks": ""
             }
            },
            "type": "scatter3d"
           }
          ],
          "scattercarpet": [
           {
            "marker": {
             "colorbar": {
              "outlinewidth": 0,
              "ticks": ""
             }
            },
            "type": "scattercarpet"
           }
          ],
          "scattergeo": [
           {
            "marker": {
             "colorbar": {
              "outlinewidth": 0,
              "ticks": ""
             }
            },
            "type": "scattergeo"
           }
          ],
          "scattergl": [
           {
            "marker": {
             "colorbar": {
              "outlinewidth": 0,
              "ticks": ""
             }
            },
            "type": "scattergl"
           }
          ],
          "scattermapbox": [
           {
            "marker": {
             "colorbar": {
              "outlinewidth": 0,
              "ticks": ""
             }
            },
            "type": "scattermapbox"
           }
          ],
          "scatterpolar": [
           {
            "marker": {
             "colorbar": {
              "outlinewidth": 0,
              "ticks": ""
             }
            },
            "type": "scatterpolar"
           }
          ],
          "scatterpolargl": [
           {
            "marker": {
             "colorbar": {
              "outlinewidth": 0,
              "ticks": ""
             }
            },
            "type": "scatterpolargl"
           }
          ],
          "scatterternary": [
           {
            "marker": {
             "colorbar": {
              "outlinewidth": 0,
              "ticks": ""
             }
            },
            "type": "scatterternary"
           }
          ],
          "surface": [
           {
            "colorbar": {
             "outlinewidth": 0,
             "ticks": ""
            },
            "colorscale": [
             [
              0,
              "#0d0887"
             ],
             [
              0.1111111111111111,
              "#46039f"
             ],
             [
              0.2222222222222222,
              "#7201a8"
             ],
             [
              0.3333333333333333,
              "#9c179e"
             ],
             [
              0.4444444444444444,
              "#bd3786"
             ],
             [
              0.5555555555555556,
              "#d8576b"
             ],
             [
              0.6666666666666666,
              "#ed7953"
             ],
             [
              0.7777777777777778,
              "#fb9f3a"
             ],
             [
              0.8888888888888888,
              "#fdca26"
             ],
             [
              1,
              "#f0f921"
             ]
            ],
            "type": "surface"
           }
          ],
          "table": [
           {
            "cells": {
             "fill": {
              "color": "#EBF0F8"
             },
             "line": {
              "color": "white"
             }
            },
            "header": {
             "fill": {
              "color": "#C8D4E3"
             },
             "line": {
              "color": "white"
             }
            },
            "type": "table"
           }
          ]
         },
         "layout": {
          "annotationdefaults": {
           "arrowcolor": "#2a3f5f",
           "arrowhead": 0,
           "arrowwidth": 1
          },
          "autotypenumbers": "strict",
          "coloraxis": {
           "colorbar": {
            "outlinewidth": 0,
            "ticks": ""
           }
          },
          "colorscale": {
           "diverging": [
            [
             0,
             "#8e0152"
            ],
            [
             0.1,
             "#c51b7d"
            ],
            [
             0.2,
             "#de77ae"
            ],
            [
             0.3,
             "#f1b6da"
            ],
            [
             0.4,
             "#fde0ef"
            ],
            [
             0.5,
             "#f7f7f7"
            ],
            [
             0.6,
             "#e6f5d0"
            ],
            [
             0.7,
             "#b8e186"
            ],
            [
             0.8,
             "#7fbc41"
            ],
            [
             0.9,
             "#4d9221"
            ],
            [
             1,
             "#276419"
            ]
           ],
           "sequential": [
            [
             0,
             "#0d0887"
            ],
            [
             0.1111111111111111,
             "#46039f"
            ],
            [
             0.2222222222222222,
             "#7201a8"
            ],
            [
             0.3333333333333333,
             "#9c179e"
            ],
            [
             0.4444444444444444,
             "#bd3786"
            ],
            [
             0.5555555555555556,
             "#d8576b"
            ],
            [
             0.6666666666666666,
             "#ed7953"
            ],
            [
             0.7777777777777778,
             "#fb9f3a"
            ],
            [
             0.8888888888888888,
             "#fdca26"
            ],
            [
             1,
             "#f0f921"
            ]
           ],
           "sequentialminus": [
            [
             0,
             "#0d0887"
            ],
            [
             0.1111111111111111,
             "#46039f"
            ],
            [
             0.2222222222222222,
             "#7201a8"
            ],
            [
             0.3333333333333333,
             "#9c179e"
            ],
            [
             0.4444444444444444,
             "#bd3786"
            ],
            [
             0.5555555555555556,
             "#d8576b"
            ],
            [
             0.6666666666666666,
             "#ed7953"
            ],
            [
             0.7777777777777778,
             "#fb9f3a"
            ],
            [
             0.8888888888888888,
             "#fdca26"
            ],
            [
             1,
             "#f0f921"
            ]
           ]
          },
          "colorway": [
           "#636efa",
           "#EF553B",
           "#00cc96",
           "#ab63fa",
           "#FFA15A",
           "#19d3f3",
           "#FF6692",
           "#B6E880",
           "#FF97FF",
           "#FECB52"
          ],
          "font": {
           "color": "#2a3f5f"
          },
          "geo": {
           "bgcolor": "white",
           "lakecolor": "white",
           "landcolor": "#E5ECF6",
           "showlakes": true,
           "showland": true,
           "subunitcolor": "white"
          },
          "hoverlabel": {
           "align": "left"
          },
          "hovermode": "closest",
          "mapbox": {
           "style": "light"
          },
          "paper_bgcolor": "white",
          "plot_bgcolor": "#E5ECF6",
          "polar": {
           "angularaxis": {
            "gridcolor": "white",
            "linecolor": "white",
            "ticks": ""
           },
           "bgcolor": "#E5ECF6",
           "radialaxis": {
            "gridcolor": "white",
            "linecolor": "white",
            "ticks": ""
           }
          },
          "scene": {
           "xaxis": {
            "backgroundcolor": "#E5ECF6",
            "gridcolor": "white",
            "gridwidth": 2,
            "linecolor": "white",
            "showbackground": true,
            "ticks": "",
            "zerolinecolor": "white"
           },
           "yaxis": {
            "backgroundcolor": "#E5ECF6",
            "gridcolor": "white",
            "gridwidth": 2,
            "linecolor": "white",
            "showbackground": true,
            "ticks": "",
            "zerolinecolor": "white"
           },
           "zaxis": {
            "backgroundcolor": "#E5ECF6",
            "gridcolor": "white",
            "gridwidth": 2,
            "linecolor": "white",
            "showbackground": true,
            "ticks": "",
            "zerolinecolor": "white"
           }
          },
          "shapedefaults": {
           "line": {
            "color": "#2a3f5f"
           }
          },
          "ternary": {
           "aaxis": {
            "gridcolor": "white",
            "linecolor": "white",
            "ticks": ""
           },
           "baxis": {
            "gridcolor": "white",
            "linecolor": "white",
            "ticks": ""
           },
           "bgcolor": "#E5ECF6",
           "caxis": {
            "gridcolor": "white",
            "linecolor": "white",
            "ticks": ""
           }
          },
          "title": {
           "x": 0.05
          },
          "xaxis": {
           "automargin": true,
           "gridcolor": "white",
           "linecolor": "white",
           "ticks": "",
           "title": {
            "standoff": 15
           },
           "zerolinecolor": "white",
           "zerolinewidth": 2
          },
          "yaxis": {
           "automargin": true,
           "gridcolor": "white",
           "linecolor": "white",
           "ticks": "",
           "title": {
            "standoff": 15
           },
           "zerolinecolor": "white",
           "zerolinewidth": 2
          }
         }
        },
        "title": {
         "text": "QAOA MaxCut"
        }
       }
      },
      "text/html": [
       "<div>                            <div id=\"8ab4bf7e-52fc-45c0-9917-d4821445902b\" class=\"plotly-graph-div\" style=\"height:525px; width:100%;\"></div>            <script type=\"text/javascript\">                require([\"plotly\"], function(Plotly) {                    window.PLOTLYENV=window.PLOTLYENV || {};                                    if (document.getElementById(\"8ab4bf7e-52fc-45c0-9917-d4821445902b\")) {                    Plotly.newPlot(                        \"8ab4bf7e-52fc-45c0-9917-d4821445902b\",                        [{\"contours\":{\"z\":{\"highlightcolor\":\"limegreen\",\"project\":{\"z\":true},\"show\":true,\"usecolormap\":true}},\"type\":\"surface\",\"x\":[0.0,0.1,0.2,0.30000000000000004,0.4,0.5,0.6000000000000001,0.7000000000000001,0.8,0.9,1.0,1.1,1.2000000000000002,1.3,1.4000000000000001,1.5,1.6,1.7000000000000002,1.8,1.9000000000000001,2.0,2.1,2.2,2.3000000000000003,2.4000000000000004,2.5,2.6,2.7,2.8000000000000003,2.9000000000000004,3.0,3.1],\"y\":[0.0,0.1,0.2,0.30000000000000004,0.4,0.5,0.6000000000000001,0.7000000000000001,0.8,0.9,1.0,1.1,1.2000000000000002,1.3,1.4000000000000001,1.5,1.6,1.7000000000000002,1.8,1.9000000000000001,2.0,2.1,2.2,2.3000000000000003,2.4000000000000004,2.5,2.6,2.7,2.8000000000000003,2.9000000000000004,3.0,3.1],\"z\":[[-2.9775,-3.00625,-2.996,-2.98875,-2.9955,-3.03575,-2.9645,-2.99,-2.97825,-3.01075,-3.00025,-3.0105,-2.99225,-2.98125,-3.0135,-2.99975,-2.9735,-2.99975,-2.99675,-3.0265,-2.99975,-3.009,-2.981,-3.01175,-2.99675,-3.01225,-3.002,-3.00175,-3.01075,-3.005,-2.997,-3.00075],[-3.00125,-2.92325,-2.8895,-2.8595,-2.82775,-2.8375,-2.8645,-2.92275,-2.964,-3.0485,-3.10675,-3.121,-3.1105,-3.117,-3.053,-3.04475,-2.97375,-2.94975,-2.8805,-2.83975,-2.82875,-2.84875,-2.8505,-2.9145,-2.99,-3.07175,-3.11475,-3.1265,-3.1155,-3.0935,-3.06325,-3.0255],[-2.9995,-2.89375,-2.763,-2.71,-2.65975,-2.66125,-2.7065,-2.78325,-2.88875,-3.01025,-3.133,-3.21975,-3.2335,-3.22975,-3.18475,-3.074,-2.96625,-2.8425,-2.74625,-2.68925,-2.64375,-2.69425,-2.7285,-2.8185,-2.91925,-3.0585,-3.14975,-3.23,-3.23175,-3.20475,-3.16175,-3.069],[-3.007,-2.8445,-2.66725,-2.55925,-2.45475,-2.4665,-2.50925,-2.62025,-2.75225,-2.92725,-3.11725,-3.212,-3.3055,-3.26675,-3.24125,-3.12225,-2.95425,-2.7675,-2.652,-2.5295,-2.46875,-2.454,-2.51025,-2.63825,-2.83325,-2.99375,-3.1415,-3.24125,-3.31475,-3.279,-3.2305,-3.0685],[-2.9665,-2.766,-2.56675,-2.392,-2.27925,-2.254,-2.30075,-2.4585,-2.5845,-2.82625,-3.048,-3.194,-3.314,-3.3445,-3.2885,-3.1335,-2.9225,-2.7255,-2.529,-2.38975,-2.268,-2.24275,-2.32525,-2.4795,-2.70975,-2.89875,-3.12225,-3.246,-3.31175,-3.33075,-3.2395,-3.1],[-2.9935,-2.744,-2.49325,-2.2655,-2.1485,-2.07625,-2.10425,-2.29475,-2.48875,-2.7425,-2.9785,-3.1875,-3.3305,-3.3755,-3.29975,-3.17825,-2.94525,-2.657,-2.43875,-2.22075,-2.099,-2.08725,-2.1295,-2.3075,-2.5305,-2.8075,-3.0425,-3.26,-3.33525,-3.35725,-3.27125,-3.101],[-3.01025,-2.7295,-2.44025,-2.189,-1.98325,-1.93225,-1.97975,-2.132,-2.342,-2.58475,-2.90625,-3.144,-3.30975,-3.3895,-3.30175,-3.147,-2.92025,-2.6755,-2.38675,-2.16425,-1.976,-1.9005,-2.03075,-2.1975,-2.42,-2.6825,-2.969,-3.2095,-3.33175,-3.3595,-3.265,-3.09375],[-3.00475,-2.7125,-2.44025,-2.13775,-1.92625,-1.831,-1.86325,-1.99775,-2.25475,-2.53775,-2.81125,-3.04875,-3.25825,-3.35375,-3.31975,-3.1445,-2.90225,-2.62025,-2.33025,-2.1,-1.893,-1.8425,-1.914,-2.04925,-2.27475,-2.617,-2.89825,-3.12625,-3.304,-3.34325,-3.285,-3.11375],[-2.9925,-2.737,-2.4185,-2.16175,-1.9075,-1.81075,-1.78875,-1.9435,-2.16675,-2.4295,-2.7415,-3.00675,-3.19225,-3.31175,-3.2785,-3.1595,-2.915,-2.62975,-2.37325,-2.09375,-1.902,-1.81075,-1.8115,-1.98575,-2.261,-2.52675,-2.8305,-3.0815,-3.26425,-3.31325,-3.26225,-3.09725],[-3.01625,-2.7665,-2.43975,-2.13875,-1.94075,-1.8635,-1.8235,-1.9425,-2.1335,-2.40875,-2.696,-2.96825,-3.17325,-3.288,-3.289,-3.1125,-2.9415,-2.63725,-2.3625,-2.10675,-1.88825,-1.81225,-1.81275,-1.975,-2.206,-2.469,-2.77525,-3.04425,-3.21375,-3.2645,-3.2425,-3.1075],[-2.99375,-2.74,-2.50375,-2.258,-2.0385,-1.92175,-1.882,-1.998,-2.13975,-2.4115,-2.68975,-2.9175,-3.13275,-3.2255,-3.235,-3.1345,-2.91925,-2.68725,-2.44475,-2.1635,-1.9785,-1.845,-1.9245,-2.0335,-2.22775,-2.46325,-2.75425,-3.0005,-3.15625,-3.20325,-3.227,-3.072],[-2.9975,-2.78875,-2.58975,-2.3605,-2.168,-2.01,-2.027,-2.08475,-2.20825,-2.43225,-2.66425,-2.897,-3.0935,-3.1915,-3.1855,-3.108,-2.94975,-2.72925,-2.4755,-2.2525,-2.086,-2.02325,-1.9845,-2.09775,-2.272,-2.517,-2.73025,-2.951,-3.10025,-3.19,-3.145,-3.055],[-2.979,-2.84625,-2.6075,-2.4325,-2.273,-2.186,-2.13375,-2.1705,-2.289,-2.493,-2.70525,-2.86975,-3.01625,-3.133,-3.15,-3.081,-2.956,-2.77525,-2.571,-2.403,-2.245,-2.1755,-2.1225,-2.204,-2.31775,-2.52325,-2.7215,-2.92925,-3.08,-3.15025,-3.13525,-3.03575],[-3.01775,-2.8725,-2.73425,-2.56475,-2.39425,-2.2635,-2.2585,-2.28425,-2.374,-2.54125,-2.67825,-2.8375,-2.98525,-3.06725,-3.09925,-3.059,-2.974,-2.81025,-2.687,-2.48725,-2.379,-2.29025,-2.3175,-2.31625,-2.405,-2.558,-2.7395,-2.88475,-3.00675,-3.0965,-3.0815,-3.02475],[-2.99,-2.91525,-2.82625,-2.685,-2.55925,-2.45775,-2.4085,-2.36875,-2.43875,-2.5185,-2.66425,-2.75675,-2.921,-3.00925,-3.02675,-3.033,-2.96425,-2.898,-2.77375,-2.6475,-2.48775,-2.41925,-2.4055,-2.42575,-2.48875,-2.57575,-2.7165,-2.823,-2.9645,-3.02575,-3.058,-2.98875],[-3.01,-2.9635,-2.873,-2.75175,-2.674,-2.564,-2.50175,-2.50375,-2.4845,-2.55375,-2.631,-2.73225,-2.82825,-2.89975,-3.014,-3.00775,-3.0085,-2.9265,-2.8295,-2.7285,-2.63775,-2.5795,-2.48325,-2.461,-2.47475,-2.5545,-2.655,-2.74975,-2.8555,-2.94175,-2.9925,-3.04],[-2.98725,-3.00175,-2.94,-2.887,-2.772,-2.65975,-2.556,-2.5005,-2.50325,-2.49875,-2.553,-2.63075,-2.747,-2.84975,-2.94325,-3.0045,-2.99325,-3.0,-2.90925,-2.82575,-2.73325,-2.654,-2.5655,-2.52225,-2.4735,-2.50925,-2.584,-2.67325,-2.77475,-2.8645,-2.94225,-2.984],[-3.0145,-3.027,-3.01525,-2.97425,-2.844,-2.739,-2.5975,-2.526,-2.485,-2.428,-2.44925,-2.524,-2.62775,-2.724,-2.88475,-2.93675,-3.01975,-3.05925,-2.9955,-2.90675,-2.819,-2.69675,-2.593,-2.5175,-2.426,-2.4735,-2.50225,-2.57075,-2.6895,-2.795,-2.8825,-2.9685],[-2.9775,-3.08975,-3.08725,-3.02625,-2.92225,-2.7885,-2.62925,-2.49575,-2.4115,-2.32625,-2.3225,-2.36925,-2.5,-2.66375,-2.76325,-2.93575,-3.06175,-3.078,-3.0625,-2.98125,-2.87525,-2.7275,-2.59725,-2.4475,-2.366,-2.31025,-2.35925,-2.42975,-2.5415,-2.65875,-2.8255,-2.9595],[-2.97625,-3.08625,-3.1215,-3.062,-2.9705,-2.80575,-2.61375,-2.4495,-2.30175,-2.16225,-2.17625,-2.28325,-2.36525,-2.5695,-2.723,-2.86075,-3.015,-3.13725,-3.09675,-3.05375,-2.932,-2.765,-2.55775,-2.42625,-2.26525,-2.18225,-2.20075,-2.25225,-2.422,-2.59975,-2.7605,-2.9045],[-3.00725,-3.14475,-3.1665,-3.1535,-3.0135,-2.8275,-2.60075,-2.38225,-2.21375,-2.07375,-2.01825,-2.14575,-2.24175,-2.413,-2.666,-2.835,-3.03875,-3.17825,-3.186,-3.11675,-2.9515,-2.76825,-2.52225,-2.33325,-2.1805,-2.066,-2.07125,-2.13425,-2.3085,-2.518,-2.70525,-2.923],[-3.02125,-3.14825,-3.227,-3.1975,-3.06375,-2.847,-2.5895,-2.341,-2.12425,-1.976,-1.91625,-1.9665,-2.1185,-2.33775,-2.5835,-2.84525,-3.06025,-3.1845,-3.2335,-3.16225,-2.987,-2.75725,-2.53025,-2.27925,-2.05325,-1.95575,-1.915,-2.00725,-2.17,-2.40675,-2.67675,-2.93025],[-3.00175,-3.1915,-3.26125,-3.24075,-3.09,-2.86525,-2.5725,-2.31375,-2.0995,-1.90675,-1.852,-1.86825,-2.04375,-2.27475,-2.53625,-2.8065,-3.0825,-3.215,-3.2655,-3.21825,-3.01225,-2.7965,-2.50275,-2.2575,-2.00025,-1.88325,-1.806,-1.8795,-2.07725,-2.37125,-2.641,-2.912],[-3.01975,-3.211,-3.2895,-3.29675,-3.14525,-2.9265,-2.63625,-2.3705,-2.06875,-1.866,-1.788,-1.8355,-1.9695,-2.2375,-2.51175,-2.78575,-3.0685,-3.227,-3.299,-3.254,-3.08025,-2.83775,-2.54675,-2.2795,-1.99225,-1.84025,-1.81475,-1.8655,-2.083,-2.325,-2.6035,-2.89375],[-3.008,-3.2235,-3.3175,-3.3225,-3.212,-2.9675,-2.67625,-2.40575,-2.119,-1.90725,-1.77725,-1.84125,-1.981,-2.19525,-2.47025,-2.815,-3.05375,-3.246,-3.3255,-3.28525,-3.122,-2.89425,-2.61825,-2.29175,-2.02175,-1.84825,-1.801,-1.87275,-2.0515,-2.31225,-2.59175,-2.89225],[-3.0005,-3.2005,-3.329,-3.32175,-3.2405,-3.044,-2.76975,-2.48975,-2.18625,-2.011,-1.9055,-1.89875,-2.01125,-2.23575,-2.525,-2.80525,-3.0705,-3.2895,-3.34975,-3.33,-3.19175,-2.98325,-2.6985,-2.40375,-2.12875,-1.974,-1.86625,-1.937,-2.04275,-2.29075,-2.599,-2.89],[-2.97675,-3.22425,-3.33125,-3.36375,-3.286,-3.1225,-2.88975,-2.59375,-2.33675,-2.12975,-2.039,-2.01625,-2.1205,-2.29075,-2.5665,-2.82325,-3.0655,-3.24125,-3.36075,-3.35575,-3.22425,-3.04025,-2.812,-2.50375,-2.267,-2.1025,-2.04425,-2.03025,-2.14575,-2.38525,-2.5955,-2.905],[-2.97425,-3.20775,-3.302,-3.35475,-3.31075,-3.1695,-2.96675,-2.7495,-2.49225,-2.32825,-2.1805,-2.166,-2.24525,-2.417,-2.5885,-2.813,-3.067,-3.2345,-3.3325,-3.3525,-3.25375,-3.11425,-2.88225,-2.65825,-2.4425,-2.26275,-2.1905,-2.1975,-2.293,-2.46125,-2.67075,-2.88825],[-2.997,-3.1695,-3.29525,-3.3365,-3.28975,-3.19925,-3.03725,-2.838,-2.66975,-2.502,-2.41,-2.39525,-2.42575,-2.50975,-2.6675,-2.863,-3.0515,-3.21375,-3.30575,-3.3235,-3.282,-3.16,-3.021,-2.78125,-2.62175,-2.43875,-2.374,-2.37875,-2.439,-2.54975,-2.708,-2.93275],[-3.013,-3.14275,-3.21825,-3.27775,-3.2505,-3.17275,-3.105,-2.9425,-2.82,-2.682,-2.61075,-2.581,-2.57025,-2.6445,-2.7585,-2.91,-3.048,-3.17475,-3.247,-3.2615,-3.2685,-3.17075,-3.0525,-2.9235,-2.77275,-2.6725,-2.59575,-2.60175,-2.586,-2.684,-2.8035,-2.941],[-3.01325,-3.081,-3.12925,-3.167,-3.1835,-3.14125,-3.09525,-3.01875,-2.90225,-2.842,-2.785,-2.79075,-2.749,-2.8175,-2.855,-2.94775,-3.0455,-3.10025,-3.141,-3.1545,-3.164,-3.15425,-3.053,-3.00675,-2.94825,-2.86625,-2.801,-2.774,-2.7735,-2.818,-2.854,-2.95275],[-2.9845,-3.026,-3.0555,-3.063,-3.0625,-3.041,-3.047,-3.0235,-3.007,-2.98525,-2.93225,-2.932,-2.93425,-2.93375,-2.97775,-2.982,-3.008,-3.0325,-3.06375,-3.0655,-3.057,-3.04075,-3.0375,-2.99625,-2.95875,-2.9645,-2.95175,-2.931,-2.94775,-2.944,-2.9675,-2.978]]}],                        {\"scene\":{\"xaxis\":{\"title\":{\"text\":\"gamma\"}},\"yaxis\":{\"title\":{\"text\":\"beta\"}},\"zaxis\":{\"title\":{\"text\":\"mean\"}}},\"template\":{\"data\":{\"bar\":[{\"error_x\":{\"color\":\"#2a3f5f\"},\"error_y\":{\"color\":\"#2a3f5f\"},\"marker\":{\"line\":{\"color\":\"#E5ECF6\",\"width\":0.5},\"pattern\":{\"fillmode\":\"overlay\",\"size\":10,\"solidity\":0.2}},\"type\":\"bar\"}],\"barpolar\":[{\"marker\":{\"line\":{\"color\":\"#E5ECF6\",\"width\":0.5},\"pattern\":{\"fillmode\":\"overlay\",\"size\":10,\"solidity\":0.2}},\"type\":\"barpolar\"}],\"carpet\":[{\"aaxis\":{\"endlinecolor\":\"#2a3f5f\",\"gridcolor\":\"white\",\"linecolor\":\"white\",\"minorgridcolor\":\"white\",\"startlinecolor\":\"#2a3f5f\"},\"baxis\":{\"endlinecolor\":\"#2a3f5f\",\"gridcolor\":\"white\",\"linecolor\":\"white\",\"minorgridcolor\":\"white\",\"startlinecolor\":\"#2a3f5f\"},\"type\":\"carpet\"}],\"choropleth\":[{\"colorbar\":{\"outlinewidth\":0,\"ticks\":\"\"},\"type\":\"choropleth\"}],\"contour\":[{\"colorbar\":{\"outlinewidth\":0,\"ticks\":\"\"},\"colorscale\":[[0.0,\"#0d0887\"],[0.1111111111111111,\"#46039f\"],[0.2222222222222222,\"#7201a8\"],[0.3333333333333333,\"#9c179e\"],[0.4444444444444444,\"#bd3786\"],[0.5555555555555556,\"#d8576b\"],[0.6666666666666666,\"#ed7953\"],[0.7777777777777778,\"#fb9f3a\"],[0.8888888888888888,\"#fdca26\"],[1.0,\"#f0f921\"]],\"type\":\"contour\"}],\"contourcarpet\":[{\"colorbar\":{\"outlinewidth\":0,\"ticks\":\"\"},\"type\":\"contourcarpet\"}],\"heatmap\":[{\"colorbar\":{\"outlinewidth\":0,\"ticks\":\"\"},\"colorscale\":[[0.0,\"#0d0887\"],[0.1111111111111111,\"#46039f\"],[0.2222222222222222,\"#7201a8\"],[0.3333333333333333,\"#9c179e\"],[0.4444444444444444,\"#bd3786\"],[0.5555555555555556,\"#d8576b\"],[0.6666666666666666,\"#ed7953\"],[0.7777777777777778,\"#fb9f3a\"],[0.8888888888888888,\"#fdca26\"],[1.0,\"#f0f921\"]],\"type\":\"heatmap\"}],\"heatmapgl\":[{\"colorbar\":{\"outlinewidth\":0,\"ticks\":\"\"},\"colorscale\":[[0.0,\"#0d0887\"],[0.1111111111111111,\"#46039f\"],[0.2222222222222222,\"#7201a8\"],[0.3333333333333333,\"#9c179e\"],[0.4444444444444444,\"#bd3786\"],[0.5555555555555556,\"#d8576b\"],[0.6666666666666666,\"#ed7953\"],[0.7777777777777778,\"#fb9f3a\"],[0.8888888888888888,\"#fdca26\"],[1.0,\"#f0f921\"]],\"type\":\"heatmapgl\"}],\"histogram\":[{\"marker\":{\"pattern\":{\"fillmode\":\"overlay\",\"size\":10,\"solidity\":0.2}},\"type\":\"histogram\"}],\"histogram2d\":[{\"colorbar\":{\"outlinewidth\":0,\"ticks\":\"\"},\"colorscale\":[[0.0,\"#0d0887\"],[0.1111111111111111,\"#46039f\"],[0.2222222222222222,\"#7201a8\"],[0.3333333333333333,\"#9c179e\"],[0.4444444444444444,\"#bd3786\"],[0.5555555555555556,\"#d8576b\"],[0.6666666666666666,\"#ed7953\"],[0.7777777777777778,\"#fb9f3a\"],[0.8888888888888888,\"#fdca26\"],[1.0,\"#f0f921\"]],\"type\":\"histogram2d\"}],\"histogram2dcontour\":[{\"colorbar\":{\"outlinewidth\":0,\"ticks\":\"\"},\"colorscale\":[[0.0,\"#0d0887\"],[0.1111111111111111,\"#46039f\"],[0.2222222222222222,\"#7201a8\"],[0.3333333333333333,\"#9c179e\"],[0.4444444444444444,\"#bd3786\"],[0.5555555555555556,\"#d8576b\"],[0.6666666666666666,\"#ed7953\"],[0.7777777777777778,\"#fb9f3a\"],[0.8888888888888888,\"#fdca26\"],[1.0,\"#f0f921\"]],\"type\":\"histogram2dcontour\"}],\"mesh3d\":[{\"colorbar\":{\"outlinewidth\":0,\"ticks\":\"\"},\"type\":\"mesh3d\"}],\"parcoords\":[{\"line\":{\"colorbar\":{\"outlinewidth\":0,\"ticks\":\"\"}},\"type\":\"parcoords\"}],\"pie\":[{\"automargin\":true,\"type\":\"pie\"}],\"scatter\":[{\"marker\":{\"colorbar\":{\"outlinewidth\":0,\"ticks\":\"\"}},\"type\":\"scatter\"}],\"scatter3d\":[{\"line\":{\"colorbar\":{\"outlinewidth\":0,\"ticks\":\"\"}},\"marker\":{\"colorbar\":{\"outlinewidth\":0,\"ticks\":\"\"}},\"type\":\"scatter3d\"}],\"scattercarpet\":[{\"marker\":{\"colorbar\":{\"outlinewidth\":0,\"ticks\":\"\"}},\"type\":\"scattercarpet\"}],\"scattergeo\":[{\"marker\":{\"colorbar\":{\"outlinewidth\":0,\"ticks\":\"\"}},\"type\":\"scattergeo\"}],\"scattergl\":[{\"marker\":{\"colorbar\":{\"outlinewidth\":0,\"ticks\":\"\"}},\"type\":\"scattergl\"}],\"scattermapbox\":[{\"marker\":{\"colorbar\":{\"outlinewidth\":0,\"ticks\":\"\"}},\"type\":\"scattermapbox\"}],\"scatterpolar\":[{\"marker\":{\"colorbar\":{\"outlinewidth\":0,\"ticks\":\"\"}},\"type\":\"scatterpolar\"}],\"scatterpolargl\":[{\"marker\":{\"colorbar\":{\"outlinewidth\":0,\"ticks\":\"\"}},\"type\":\"scatterpolargl\"}],\"scatterternary\":[{\"marker\":{\"colorbar\":{\"outlinewidth\":0,\"ticks\":\"\"}},\"type\":\"scatterternary\"}],\"surface\":[{\"colorbar\":{\"outlinewidth\":0,\"ticks\":\"\"},\"colorscale\":[[0.0,\"#0d0887\"],[0.1111111111111111,\"#46039f\"],[0.2222222222222222,\"#7201a8\"],[0.3333333333333333,\"#9c179e\"],[0.4444444444444444,\"#bd3786\"],[0.5555555555555556,\"#d8576b\"],[0.6666666666666666,\"#ed7953\"],[0.7777777777777778,\"#fb9f3a\"],[0.8888888888888888,\"#fdca26\"],[1.0,\"#f0f921\"]],\"type\":\"surface\"}],\"table\":[{\"cells\":{\"fill\":{\"color\":\"#EBF0F8\"},\"line\":{\"color\":\"white\"}},\"header\":{\"fill\":{\"color\":\"#C8D4E3\"},\"line\":{\"color\":\"white\"}},\"type\":\"table\"}]},\"layout\":{\"annotationdefaults\":{\"arrowcolor\":\"#2a3f5f\",\"arrowhead\":0,\"arrowwidth\":1},\"autotypenumbers\":\"strict\",\"coloraxis\":{\"colorbar\":{\"outlinewidth\":0,\"ticks\":\"\"}},\"colorscale\":{\"diverging\":[[0,\"#8e0152\"],[0.1,\"#c51b7d\"],[0.2,\"#de77ae\"],[0.3,\"#f1b6da\"],[0.4,\"#fde0ef\"],[0.5,\"#f7f7f7\"],[0.6,\"#e6f5d0\"],[0.7,\"#b8e186\"],[0.8,\"#7fbc41\"],[0.9,\"#4d9221\"],[1,\"#276419\"]],\"sequential\":[[0.0,\"#0d0887\"],[0.1111111111111111,\"#46039f\"],[0.2222222222222222,\"#7201a8\"],[0.3333333333333333,\"#9c179e\"],[0.4444444444444444,\"#bd3786\"],[0.5555555555555556,\"#d8576b\"],[0.6666666666666666,\"#ed7953\"],[0.7777777777777778,\"#fb9f3a\"],[0.8888888888888888,\"#fdca26\"],[1.0,\"#f0f921\"]],\"sequentialminus\":[[0.0,\"#0d0887\"],[0.1111111111111111,\"#46039f\"],[0.2222222222222222,\"#7201a8\"],[0.3333333333333333,\"#9c179e\"],[0.4444444444444444,\"#bd3786\"],[0.5555555555555556,\"#d8576b\"],[0.6666666666666666,\"#ed7953\"],[0.7777777777777778,\"#fb9f3a\"],[0.8888888888888888,\"#fdca26\"],[1.0,\"#f0f921\"]]},\"colorway\":[\"#636efa\",\"#EF553B\",\"#00cc96\",\"#ab63fa\",\"#FFA15A\",\"#19d3f3\",\"#FF6692\",\"#B6E880\",\"#FF97FF\",\"#FECB52\"],\"font\":{\"color\":\"#2a3f5f\"},\"geo\":{\"bgcolor\":\"white\",\"lakecolor\":\"white\",\"landcolor\":\"#E5ECF6\",\"showlakes\":true,\"showland\":true,\"subunitcolor\":\"white\"},\"hoverlabel\":{\"align\":\"left\"},\"hovermode\":\"closest\",\"mapbox\":{\"style\":\"light\"},\"paper_bgcolor\":\"white\",\"plot_bgcolor\":\"#E5ECF6\",\"polar\":{\"angularaxis\":{\"gridcolor\":\"white\",\"linecolor\":\"white\",\"ticks\":\"\"},\"bgcolor\":\"#E5ECF6\",\"radialaxis\":{\"gridcolor\":\"white\",\"linecolor\":\"white\",\"ticks\":\"\"}},\"scene\":{\"xaxis\":{\"backgroundcolor\":\"#E5ECF6\",\"gridcolor\":\"white\",\"gridwidth\":2,\"linecolor\":\"white\",\"showbackground\":true,\"ticks\":\"\",\"zerolinecolor\":\"white\"},\"yaxis\":{\"backgroundcolor\":\"#E5ECF6\",\"gridcolor\":\"white\",\"gridwidth\":2,\"linecolor\":\"white\",\"showbackground\":true,\"ticks\":\"\",\"zerolinecolor\":\"white\"},\"zaxis\":{\"backgroundcolor\":\"#E5ECF6\",\"gridcolor\":\"white\",\"gridwidth\":2,\"linecolor\":\"white\",\"showbackground\":true,\"ticks\":\"\",\"zerolinecolor\":\"white\"}},\"shapedefaults\":{\"line\":{\"color\":\"#2a3f5f\"}},\"ternary\":{\"aaxis\":{\"gridcolor\":\"white\",\"linecolor\":\"white\",\"ticks\":\"\"},\"baxis\":{\"gridcolor\":\"white\",\"linecolor\":\"white\",\"ticks\":\"\"},\"bgcolor\":\"#E5ECF6\",\"caxis\":{\"gridcolor\":\"white\",\"linecolor\":\"white\",\"ticks\":\"\"}},\"title\":{\"x\":0.05},\"xaxis\":{\"automargin\":true,\"gridcolor\":\"white\",\"linecolor\":\"white\",\"ticks\":\"\",\"title\":{\"standoff\":15},\"zerolinecolor\":\"white\",\"zerolinewidth\":2},\"yaxis\":{\"automargin\":true,\"gridcolor\":\"white\",\"linecolor\":\"white\",\"ticks\":\"\",\"title\":{\"standoff\":15},\"zerolinecolor\":\"white\",\"zerolinewidth\":2}}},\"title\":{\"text\":\"QAOA MaxCut\"}},                        {\"responsive\": true}                    ).then(function(){\n",
       "                            \n",
       "var gd = document.getElementById('8ab4bf7e-52fc-45c0-9917-d4821445902b');\n",
       "var x = new MutationObserver(function (mutations, observer) {{\n",
       "        var display = window.getComputedStyle(gd).display;\n",
       "        if (!display || display === 'none') {{\n",
       "            console.log([gd, 'removed!']);\n",
       "            Plotly.purge(gd);\n",
       "            observer.disconnect();\n",
       "        }}\n",
       "}});\n",
       "\n",
       "// Listen for the removal of the full notebook cells\n",
       "var notebookContainer = gd.closest('#notebook-container');\n",
       "if (notebookContainer) {{\n",
       "    x.observe(notebookContainer, {childList: true});\n",
       "}}\n",
       "\n",
       "// Listen for the clearing of the current output cell\n",
       "var outputEl = gd.closest('.output');\n",
       "if (outputEl) {{\n",
       "    x.observe(outputEl, {childList: true});\n",
       "}}\n",
       "\n",
       "                        })                };                });            </script>        </div>"
      ]
     },
     "metadata": {},
     "output_type": "display_data"
    }
   ],
   "source": [
    "a_gamma = np.arange(0, np.pi, step_size)\n",
    "b_beta = np.arange(0, np.pi, step_size)\n",
    "fig = go.Figure(data=go.Surface(z=F1, x=a_gamma, y=b_beta))\n",
    "\n",
    "fig.update_traces(contours_z=dict(show=True, usecolormap=True, highlightcolor='limegreen', project_z=True))\n",
    "\n",
    "\n",
    "fig.update_layout(title=\"QAOA MaxCut\", scene=dict(\n",
    "xaxis_title=\"gamma\",\n",
    "    yaxis_title=\"beta\",\n",
    "    zaxis_title=\"mean\"\n",
    "))"
   ]
  },
  {
   "cell_type": "code",
   "execution_count": 444,
   "id": "e37fb180",
   "metadata": {},
   "outputs": [
    {
     "data": {
      "application/vnd.plotly.v1+json": {
       "config": {
        "plotlyServerURL": "https://plot.ly"
       },
       "data": [
        {
         "colorscale": [
          [
           0,
           "#440154"
          ],
          [
           0.1111111111111111,
           "#482878"
          ],
          [
           0.2222222222222222,
           "#3e4989"
          ],
          [
           0.3333333333333333,
           "#31688e"
          ],
          [
           0.4444444444444444,
           "#26828e"
          ],
          [
           0.5555555555555556,
           "#1f9e89"
          ],
          [
           0.6666666666666666,
           "#35b779"
          ],
          [
           0.7777777777777778,
           "#6ece58"
          ],
          [
           0.8888888888888888,
           "#b5de2b"
          ],
          [
           1,
           "#fde725"
          ]
         ],
         "type": "heatmap",
         "x": [
          0,
          0.1,
          0.2,
          0.30000000000000004,
          0.4,
          0.5,
          0.6000000000000001,
          0.7000000000000001,
          0.8,
          0.9,
          1,
          1.1,
          1.2000000000000002,
          1.3,
          1.4000000000000001,
          1.5,
          1.6,
          1.7000000000000002,
          1.8,
          1.9000000000000001,
          2,
          2.1,
          2.2,
          2.3000000000000003,
          2.4000000000000004,
          2.5,
          2.6,
          2.7,
          2.8000000000000003,
          2.9000000000000004,
          3,
          3.1
         ],
         "y": [
          0,
          0.1,
          0.2,
          0.30000000000000004,
          0.4,
          0.5,
          0.6000000000000001,
          0.7000000000000001,
          0.8,
          0.9,
          1,
          1.1,
          1.2000000000000002,
          1.3,
          1.4000000000000001,
          1.5,
          1.6,
          1.7000000000000002,
          1.8,
          1.9000000000000001,
          2,
          2.1,
          2.2,
          2.3000000000000003,
          2.4000000000000004,
          2.5,
          2.6,
          2.7,
          2.8000000000000003,
          2.9000000000000004,
          3,
          3.1
         ],
         "z": [
          [
           -2.9775,
           -3.00625,
           -2.996,
           -2.98875,
           -2.9955,
           -3.03575,
           -2.9645,
           -2.99,
           -2.97825,
           -3.01075,
           -3.00025,
           -3.0105,
           -2.99225,
           -2.98125,
           -3.0135,
           -2.99975,
           -2.9735,
           -2.99975,
           -2.99675,
           -3.0265,
           -2.99975,
           -3.009,
           -2.981,
           -3.01175,
           -2.99675,
           -3.01225,
           -3.002,
           -3.00175,
           -3.01075,
           -3.005,
           -2.997,
           -3.00075
          ],
          [
           -3.00125,
           -2.92325,
           -2.8895,
           -2.8595,
           -2.82775,
           -2.8375,
           -2.8645,
           -2.92275,
           -2.964,
           -3.0485,
           -3.10675,
           -3.121,
           -3.1105,
           -3.117,
           -3.053,
           -3.04475,
           -2.97375,
           -2.94975,
           -2.8805,
           -2.83975,
           -2.82875,
           -2.84875,
           -2.8505,
           -2.9145,
           -2.99,
           -3.07175,
           -3.11475,
           -3.1265,
           -3.1155,
           -3.0935,
           -3.06325,
           -3.0255
          ],
          [
           -2.9995,
           -2.89375,
           -2.763,
           -2.71,
           -2.65975,
           -2.66125,
           -2.7065,
           -2.78325,
           -2.88875,
           -3.01025,
           -3.133,
           -3.21975,
           -3.2335,
           -3.22975,
           -3.18475,
           -3.074,
           -2.96625,
           -2.8425,
           -2.74625,
           -2.68925,
           -2.64375,
           -2.69425,
           -2.7285,
           -2.8185,
           -2.91925,
           -3.0585,
           -3.14975,
           -3.23,
           -3.23175,
           -3.20475,
           -3.16175,
           -3.069
          ],
          [
           -3.007,
           -2.8445,
           -2.66725,
           -2.55925,
           -2.45475,
           -2.4665,
           -2.50925,
           -2.62025,
           -2.75225,
           -2.92725,
           -3.11725,
           -3.212,
           -3.3055,
           -3.26675,
           -3.24125,
           -3.12225,
           -2.95425,
           -2.7675,
           -2.652,
           -2.5295,
           -2.46875,
           -2.454,
           -2.51025,
           -2.63825,
           -2.83325,
           -2.99375,
           -3.1415,
           -3.24125,
           -3.31475,
           -3.279,
           -3.2305,
           -3.0685
          ],
          [
           -2.9665,
           -2.766,
           -2.56675,
           -2.392,
           -2.27925,
           -2.254,
           -2.30075,
           -2.4585,
           -2.5845,
           -2.82625,
           -3.048,
           -3.194,
           -3.314,
           -3.3445,
           -3.2885,
           -3.1335,
           -2.9225,
           -2.7255,
           -2.529,
           -2.38975,
           -2.268,
           -2.24275,
           -2.32525,
           -2.4795,
           -2.70975,
           -2.89875,
           -3.12225,
           -3.246,
           -3.31175,
           -3.33075,
           -3.2395,
           -3.1
          ],
          [
           -2.9935,
           -2.744,
           -2.49325,
           -2.2655,
           -2.1485,
           -2.07625,
           -2.10425,
           -2.29475,
           -2.48875,
           -2.7425,
           -2.9785,
           -3.1875,
           -3.3305,
           -3.3755,
           -3.29975,
           -3.17825,
           -2.94525,
           -2.657,
           -2.43875,
           -2.22075,
           -2.099,
           -2.08725,
           -2.1295,
           -2.3075,
           -2.5305,
           -2.8075,
           -3.0425,
           -3.26,
           -3.33525,
           -3.35725,
           -3.27125,
           -3.101
          ],
          [
           -3.01025,
           -2.7295,
           -2.44025,
           -2.189,
           -1.98325,
           -1.93225,
           -1.97975,
           -2.132,
           -2.342,
           -2.58475,
           -2.90625,
           -3.144,
           -3.30975,
           -3.3895,
           -3.30175,
           -3.147,
           -2.92025,
           -2.6755,
           -2.38675,
           -2.16425,
           -1.976,
           -1.9005,
           -2.03075,
           -2.1975,
           -2.42,
           -2.6825,
           -2.969,
           -3.2095,
           -3.33175,
           -3.3595,
           -3.265,
           -3.09375
          ],
          [
           -3.00475,
           -2.7125,
           -2.44025,
           -2.13775,
           -1.92625,
           -1.831,
           -1.86325,
           -1.99775,
           -2.25475,
           -2.53775,
           -2.81125,
           -3.04875,
           -3.25825,
           -3.35375,
           -3.31975,
           -3.1445,
           -2.90225,
           -2.62025,
           -2.33025,
           -2.1,
           -1.893,
           -1.8425,
           -1.914,
           -2.04925,
           -2.27475,
           -2.617,
           -2.89825,
           -3.12625,
           -3.304,
           -3.34325,
           -3.285,
           -3.11375
          ],
          [
           -2.9925,
           -2.737,
           -2.4185,
           -2.16175,
           -1.9075,
           -1.81075,
           -1.78875,
           -1.9435,
           -2.16675,
           -2.4295,
           -2.7415,
           -3.00675,
           -3.19225,
           -3.31175,
           -3.2785,
           -3.1595,
           -2.915,
           -2.62975,
           -2.37325,
           -2.09375,
           -1.902,
           -1.81075,
           -1.8115,
           -1.98575,
           -2.261,
           -2.52675,
           -2.8305,
           -3.0815,
           -3.26425,
           -3.31325,
           -3.26225,
           -3.09725
          ],
          [
           -3.01625,
           -2.7665,
           -2.43975,
           -2.13875,
           -1.94075,
           -1.8635,
           -1.8235,
           -1.9425,
           -2.1335,
           -2.40875,
           -2.696,
           -2.96825,
           -3.17325,
           -3.288,
           -3.289,
           -3.1125,
           -2.9415,
           -2.63725,
           -2.3625,
           -2.10675,
           -1.88825,
           -1.81225,
           -1.81275,
           -1.975,
           -2.206,
           -2.469,
           -2.77525,
           -3.04425,
           -3.21375,
           -3.2645,
           -3.2425,
           -3.1075
          ],
          [
           -2.99375,
           -2.74,
           -2.50375,
           -2.258,
           -2.0385,
           -1.92175,
           -1.882,
           -1.998,
           -2.13975,
           -2.4115,
           -2.68975,
           -2.9175,
           -3.13275,
           -3.2255,
           -3.235,
           -3.1345,
           -2.91925,
           -2.68725,
           -2.44475,
           -2.1635,
           -1.9785,
           -1.845,
           -1.9245,
           -2.0335,
           -2.22775,
           -2.46325,
           -2.75425,
           -3.0005,
           -3.15625,
           -3.20325,
           -3.227,
           -3.072
          ],
          [
           -2.9975,
           -2.78875,
           -2.58975,
           -2.3605,
           -2.168,
           -2.01,
           -2.027,
           -2.08475,
           -2.20825,
           -2.43225,
           -2.66425,
           -2.897,
           -3.0935,
           -3.1915,
           -3.1855,
           -3.108,
           -2.94975,
           -2.72925,
           -2.4755,
           -2.2525,
           -2.086,
           -2.02325,
           -1.9845,
           -2.09775,
           -2.272,
           -2.517,
           -2.73025,
           -2.951,
           -3.10025,
           -3.19,
           -3.145,
           -3.055
          ],
          [
           -2.979,
           -2.84625,
           -2.6075,
           -2.4325,
           -2.273,
           -2.186,
           -2.13375,
           -2.1705,
           -2.289,
           -2.493,
           -2.70525,
           -2.86975,
           -3.01625,
           -3.133,
           -3.15,
           -3.081,
           -2.956,
           -2.77525,
           -2.571,
           -2.403,
           -2.245,
           -2.1755,
           -2.1225,
           -2.204,
           -2.31775,
           -2.52325,
           -2.7215,
           -2.92925,
           -3.08,
           -3.15025,
           -3.13525,
           -3.03575
          ],
          [
           -3.01775,
           -2.8725,
           -2.73425,
           -2.56475,
           -2.39425,
           -2.2635,
           -2.2585,
           -2.28425,
           -2.374,
           -2.54125,
           -2.67825,
           -2.8375,
           -2.98525,
           -3.06725,
           -3.09925,
           -3.059,
           -2.974,
           -2.81025,
           -2.687,
           -2.48725,
           -2.379,
           -2.29025,
           -2.3175,
           -2.31625,
           -2.405,
           -2.558,
           -2.7395,
           -2.88475,
           -3.00675,
           -3.0965,
           -3.0815,
           -3.02475
          ],
          [
           -2.99,
           -2.91525,
           -2.82625,
           -2.685,
           -2.55925,
           -2.45775,
           -2.4085,
           -2.36875,
           -2.43875,
           -2.5185,
           -2.66425,
           -2.75675,
           -2.921,
           -3.00925,
           -3.02675,
           -3.033,
           -2.96425,
           -2.898,
           -2.77375,
           -2.6475,
           -2.48775,
           -2.41925,
           -2.4055,
           -2.42575,
           -2.48875,
           -2.57575,
           -2.7165,
           -2.823,
           -2.9645,
           -3.02575,
           -3.058,
           -2.98875
          ],
          [
           -3.01,
           -2.9635,
           -2.873,
           -2.75175,
           -2.674,
           -2.564,
           -2.50175,
           -2.50375,
           -2.4845,
           -2.55375,
           -2.631,
           -2.73225,
           -2.82825,
           -2.89975,
           -3.014,
           -3.00775,
           -3.0085,
           -2.9265,
           -2.8295,
           -2.7285,
           -2.63775,
           -2.5795,
           -2.48325,
           -2.461,
           -2.47475,
           -2.5545,
           -2.655,
           -2.74975,
           -2.8555,
           -2.94175,
           -2.9925,
           -3.04
          ],
          [
           -2.98725,
           -3.00175,
           -2.94,
           -2.887,
           -2.772,
           -2.65975,
           -2.556,
           -2.5005,
           -2.50325,
           -2.49875,
           -2.553,
           -2.63075,
           -2.747,
           -2.84975,
           -2.94325,
           -3.0045,
           -2.99325,
           -3,
           -2.90925,
           -2.82575,
           -2.73325,
           -2.654,
           -2.5655,
           -2.52225,
           -2.4735,
           -2.50925,
           -2.584,
           -2.67325,
           -2.77475,
           -2.8645,
           -2.94225,
           -2.984
          ],
          [
           -3.0145,
           -3.027,
           -3.01525,
           -2.97425,
           -2.844,
           -2.739,
           -2.5975,
           -2.526,
           -2.485,
           -2.428,
           -2.44925,
           -2.524,
           -2.62775,
           -2.724,
           -2.88475,
           -2.93675,
           -3.01975,
           -3.05925,
           -2.9955,
           -2.90675,
           -2.819,
           -2.69675,
           -2.593,
           -2.5175,
           -2.426,
           -2.4735,
           -2.50225,
           -2.57075,
           -2.6895,
           -2.795,
           -2.8825,
           -2.9685
          ],
          [
           -2.9775,
           -3.08975,
           -3.08725,
           -3.02625,
           -2.92225,
           -2.7885,
           -2.62925,
           -2.49575,
           -2.4115,
           -2.32625,
           -2.3225,
           -2.36925,
           -2.5,
           -2.66375,
           -2.76325,
           -2.93575,
           -3.06175,
           -3.078,
           -3.0625,
           -2.98125,
           -2.87525,
           -2.7275,
           -2.59725,
           -2.4475,
           -2.366,
           -2.31025,
           -2.35925,
           -2.42975,
           -2.5415,
           -2.65875,
           -2.8255,
           -2.9595
          ],
          [
           -2.97625,
           -3.08625,
           -3.1215,
           -3.062,
           -2.9705,
           -2.80575,
           -2.61375,
           -2.4495,
           -2.30175,
           -2.16225,
           -2.17625,
           -2.28325,
           -2.36525,
           -2.5695,
           -2.723,
           -2.86075,
           -3.015,
           -3.13725,
           -3.09675,
           -3.05375,
           -2.932,
           -2.765,
           -2.55775,
           -2.42625,
           -2.26525,
           -2.18225,
           -2.20075,
           -2.25225,
           -2.422,
           -2.59975,
           -2.7605,
           -2.9045
          ],
          [
           -3.00725,
           -3.14475,
           -3.1665,
           -3.1535,
           -3.0135,
           -2.8275,
           -2.60075,
           -2.38225,
           -2.21375,
           -2.07375,
           -2.01825,
           -2.14575,
           -2.24175,
           -2.413,
           -2.666,
           -2.835,
           -3.03875,
           -3.17825,
           -3.186,
           -3.11675,
           -2.9515,
           -2.76825,
           -2.52225,
           -2.33325,
           -2.1805,
           -2.066,
           -2.07125,
           -2.13425,
           -2.3085,
           -2.518,
           -2.70525,
           -2.923
          ],
          [
           -3.02125,
           -3.14825,
           -3.227,
           -3.1975,
           -3.06375,
           -2.847,
           -2.5895,
           -2.341,
           -2.12425,
           -1.976,
           -1.91625,
           -1.9665,
           -2.1185,
           -2.33775,
           -2.5835,
           -2.84525,
           -3.06025,
           -3.1845,
           -3.2335,
           -3.16225,
           -2.987,
           -2.75725,
           -2.53025,
           -2.27925,
           -2.05325,
           -1.95575,
           -1.915,
           -2.00725,
           -2.17,
           -2.40675,
           -2.67675,
           -2.93025
          ],
          [
           -3.00175,
           -3.1915,
           -3.26125,
           -3.24075,
           -3.09,
           -2.86525,
           -2.5725,
           -2.31375,
           -2.0995,
           -1.90675,
           -1.852,
           -1.86825,
           -2.04375,
           -2.27475,
           -2.53625,
           -2.8065,
           -3.0825,
           -3.215,
           -3.2655,
           -3.21825,
           -3.01225,
           -2.7965,
           -2.50275,
           -2.2575,
           -2.00025,
           -1.88325,
           -1.806,
           -1.8795,
           -2.07725,
           -2.37125,
           -2.641,
           -2.912
          ],
          [
           -3.01975,
           -3.211,
           -3.2895,
           -3.29675,
           -3.14525,
           -2.9265,
           -2.63625,
           -2.3705,
           -2.06875,
           -1.866,
           -1.788,
           -1.8355,
           -1.9695,
           -2.2375,
           -2.51175,
           -2.78575,
           -3.0685,
           -3.227,
           -3.299,
           -3.254,
           -3.08025,
           -2.83775,
           -2.54675,
           -2.2795,
           -1.99225,
           -1.84025,
           -1.81475,
           -1.8655,
           -2.083,
           -2.325,
           -2.6035,
           -2.89375
          ],
          [
           -3.008,
           -3.2235,
           -3.3175,
           -3.3225,
           -3.212,
           -2.9675,
           -2.67625,
           -2.40575,
           -2.119,
           -1.90725,
           -1.77725,
           -1.84125,
           -1.981,
           -2.19525,
           -2.47025,
           -2.815,
           -3.05375,
           -3.246,
           -3.3255,
           -3.28525,
           -3.122,
           -2.89425,
           -2.61825,
           -2.29175,
           -2.02175,
           -1.84825,
           -1.801,
           -1.87275,
           -2.0515,
           -2.31225,
           -2.59175,
           -2.89225
          ],
          [
           -3.0005,
           -3.2005,
           -3.329,
           -3.32175,
           -3.2405,
           -3.044,
           -2.76975,
           -2.48975,
           -2.18625,
           -2.011,
           -1.9055,
           -1.89875,
           -2.01125,
           -2.23575,
           -2.525,
           -2.80525,
           -3.0705,
           -3.2895,
           -3.34975,
           -3.33,
           -3.19175,
           -2.98325,
           -2.6985,
           -2.40375,
           -2.12875,
           -1.974,
           -1.86625,
           -1.937,
           -2.04275,
           -2.29075,
           -2.599,
           -2.89
          ],
          [
           -2.97675,
           -3.22425,
           -3.33125,
           -3.36375,
           -3.286,
           -3.1225,
           -2.88975,
           -2.59375,
           -2.33675,
           -2.12975,
           -2.039,
           -2.01625,
           -2.1205,
           -2.29075,
           -2.5665,
           -2.82325,
           -3.0655,
           -3.24125,
           -3.36075,
           -3.35575,
           -3.22425,
           -3.04025,
           -2.812,
           -2.50375,
           -2.267,
           -2.1025,
           -2.04425,
           -2.03025,
           -2.14575,
           -2.38525,
           -2.5955,
           -2.905
          ],
          [
           -2.97425,
           -3.20775,
           -3.302,
           -3.35475,
           -3.31075,
           -3.1695,
           -2.96675,
           -2.7495,
           -2.49225,
           -2.32825,
           -2.1805,
           -2.166,
           -2.24525,
           -2.417,
           -2.5885,
           -2.813,
           -3.067,
           -3.2345,
           -3.3325,
           -3.3525,
           -3.25375,
           -3.11425,
           -2.88225,
           -2.65825,
           -2.4425,
           -2.26275,
           -2.1905,
           -2.1975,
           -2.293,
           -2.46125,
           -2.67075,
           -2.88825
          ],
          [
           -2.997,
           -3.1695,
           -3.29525,
           -3.3365,
           -3.28975,
           -3.19925,
           -3.03725,
           -2.838,
           -2.66975,
           -2.502,
           -2.41,
           -2.39525,
           -2.42575,
           -2.50975,
           -2.6675,
           -2.863,
           -3.0515,
           -3.21375,
           -3.30575,
           -3.3235,
           -3.282,
           -3.16,
           -3.021,
           -2.78125,
           -2.62175,
           -2.43875,
           -2.374,
           -2.37875,
           -2.439,
           -2.54975,
           -2.708,
           -2.93275
          ],
          [
           -3.013,
           -3.14275,
           -3.21825,
           -3.27775,
           -3.2505,
           -3.17275,
           -3.105,
           -2.9425,
           -2.82,
           -2.682,
           -2.61075,
           -2.581,
           -2.57025,
           -2.6445,
           -2.7585,
           -2.91,
           -3.048,
           -3.17475,
           -3.247,
           -3.2615,
           -3.2685,
           -3.17075,
           -3.0525,
           -2.9235,
           -2.77275,
           -2.6725,
           -2.59575,
           -2.60175,
           -2.586,
           -2.684,
           -2.8035,
           -2.941
          ],
          [
           -3.01325,
           -3.081,
           -3.12925,
           -3.167,
           -3.1835,
           -3.14125,
           -3.09525,
           -3.01875,
           -2.90225,
           -2.842,
           -2.785,
           -2.79075,
           -2.749,
           -2.8175,
           -2.855,
           -2.94775,
           -3.0455,
           -3.10025,
           -3.141,
           -3.1545,
           -3.164,
           -3.15425,
           -3.053,
           -3.00675,
           -2.94825,
           -2.86625,
           -2.801,
           -2.774,
           -2.7735,
           -2.818,
           -2.854,
           -2.95275
          ],
          [
           -2.9845,
           -3.026,
           -3.0555,
           -3.063,
           -3.0625,
           -3.041,
           -3.047,
           -3.0235,
           -3.007,
           -2.98525,
           -2.93225,
           -2.932,
           -2.93425,
           -2.93375,
           -2.97775,
           -2.982,
           -3.008,
           -3.0325,
           -3.06375,
           -3.0655,
           -3.057,
           -3.04075,
           -3.0375,
           -2.99625,
           -2.95875,
           -2.9645,
           -2.95175,
           -2.931,
           -2.94775,
           -2.944,
           -2.9675,
           -2.978
          ]
         ]
        }
       ],
       "layout": {
        "height": 700,
        "template": {
         "data": {
          "bar": [
           {
            "error_x": {
             "color": "#2a3f5f"
            },
            "error_y": {
             "color": "#2a3f5f"
            },
            "marker": {
             "line": {
              "color": "#E5ECF6",
              "width": 0.5
             },
             "pattern": {
              "fillmode": "overlay",
              "size": 10,
              "solidity": 0.2
             }
            },
            "type": "bar"
           }
          ],
          "barpolar": [
           {
            "marker": {
             "line": {
              "color": "#E5ECF6",
              "width": 0.5
             },
             "pattern": {
              "fillmode": "overlay",
              "size": 10,
              "solidity": 0.2
             }
            },
            "type": "barpolar"
           }
          ],
          "carpet": [
           {
            "aaxis": {
             "endlinecolor": "#2a3f5f",
             "gridcolor": "white",
             "linecolor": "white",
             "minorgridcolor": "white",
             "startlinecolor": "#2a3f5f"
            },
            "baxis": {
             "endlinecolor": "#2a3f5f",
             "gridcolor": "white",
             "linecolor": "white",
             "minorgridcolor": "white",
             "startlinecolor": "#2a3f5f"
            },
            "type": "carpet"
           }
          ],
          "choropleth": [
           {
            "colorbar": {
             "outlinewidth": 0,
             "ticks": ""
            },
            "type": "choropleth"
           }
          ],
          "contour": [
           {
            "colorbar": {
             "outlinewidth": 0,
             "ticks": ""
            },
            "colorscale": [
             [
              0,
              "#0d0887"
             ],
             [
              0.1111111111111111,
              "#46039f"
             ],
             [
              0.2222222222222222,
              "#7201a8"
             ],
             [
              0.3333333333333333,
              "#9c179e"
             ],
             [
              0.4444444444444444,
              "#bd3786"
             ],
             [
              0.5555555555555556,
              "#d8576b"
             ],
             [
              0.6666666666666666,
              "#ed7953"
             ],
             [
              0.7777777777777778,
              "#fb9f3a"
             ],
             [
              0.8888888888888888,
              "#fdca26"
             ],
             [
              1,
              "#f0f921"
             ]
            ],
            "type": "contour"
           }
          ],
          "contourcarpet": [
           {
            "colorbar": {
             "outlinewidth": 0,
             "ticks": ""
            },
            "type": "contourcarpet"
           }
          ],
          "heatmap": [
           {
            "colorbar": {
             "outlinewidth": 0,
             "ticks": ""
            },
            "colorscale": [
             [
              0,
              "#0d0887"
             ],
             [
              0.1111111111111111,
              "#46039f"
             ],
             [
              0.2222222222222222,
              "#7201a8"
             ],
             [
              0.3333333333333333,
              "#9c179e"
             ],
             [
              0.4444444444444444,
              "#bd3786"
             ],
             [
              0.5555555555555556,
              "#d8576b"
             ],
             [
              0.6666666666666666,
              "#ed7953"
             ],
             [
              0.7777777777777778,
              "#fb9f3a"
             ],
             [
              0.8888888888888888,
              "#fdca26"
             ],
             [
              1,
              "#f0f921"
             ]
            ],
            "type": "heatmap"
           }
          ],
          "heatmapgl": [
           {
            "colorbar": {
             "outlinewidth": 0,
             "ticks": ""
            },
            "colorscale": [
             [
              0,
              "#0d0887"
             ],
             [
              0.1111111111111111,
              "#46039f"
             ],
             [
              0.2222222222222222,
              "#7201a8"
             ],
             [
              0.3333333333333333,
              "#9c179e"
             ],
             [
              0.4444444444444444,
              "#bd3786"
             ],
             [
              0.5555555555555556,
              "#d8576b"
             ],
             [
              0.6666666666666666,
              "#ed7953"
             ],
             [
              0.7777777777777778,
              "#fb9f3a"
             ],
             [
              0.8888888888888888,
              "#fdca26"
             ],
             [
              1,
              "#f0f921"
             ]
            ],
            "type": "heatmapgl"
           }
          ],
          "histogram": [
           {
            "marker": {
             "pattern": {
              "fillmode": "overlay",
              "size": 10,
              "solidity": 0.2
             }
            },
            "type": "histogram"
           }
          ],
          "histogram2d": [
           {
            "colorbar": {
             "outlinewidth": 0,
             "ticks": ""
            },
            "colorscale": [
             [
              0,
              "#0d0887"
             ],
             [
              0.1111111111111111,
              "#46039f"
             ],
             [
              0.2222222222222222,
              "#7201a8"
             ],
             [
              0.3333333333333333,
              "#9c179e"
             ],
             [
              0.4444444444444444,
              "#bd3786"
             ],
             [
              0.5555555555555556,
              "#d8576b"
             ],
             [
              0.6666666666666666,
              "#ed7953"
             ],
             [
              0.7777777777777778,
              "#fb9f3a"
             ],
             [
              0.8888888888888888,
              "#fdca26"
             ],
             [
              1,
              "#f0f921"
             ]
            ],
            "type": "histogram2d"
           }
          ],
          "histogram2dcontour": [
           {
            "colorbar": {
             "outlinewidth": 0,
             "ticks": ""
            },
            "colorscale": [
             [
              0,
              "#0d0887"
             ],
             [
              0.1111111111111111,
              "#46039f"
             ],
             [
              0.2222222222222222,
              "#7201a8"
             ],
             [
              0.3333333333333333,
              "#9c179e"
             ],
             [
              0.4444444444444444,
              "#bd3786"
             ],
             [
              0.5555555555555556,
              "#d8576b"
             ],
             [
              0.6666666666666666,
              "#ed7953"
             ],
             [
              0.7777777777777778,
              "#fb9f3a"
             ],
             [
              0.8888888888888888,
              "#fdca26"
             ],
             [
              1,
              "#f0f921"
             ]
            ],
            "type": "histogram2dcontour"
           }
          ],
          "mesh3d": [
           {
            "colorbar": {
             "outlinewidth": 0,
             "ticks": ""
            },
            "type": "mesh3d"
           }
          ],
          "parcoords": [
           {
            "line": {
             "colorbar": {
              "outlinewidth": 0,
              "ticks": ""
             }
            },
            "type": "parcoords"
           }
          ],
          "pie": [
           {
            "automargin": true,
            "type": "pie"
           }
          ],
          "scatter": [
           {
            "marker": {
             "colorbar": {
              "outlinewidth": 0,
              "ticks": ""
             }
            },
            "type": "scatter"
           }
          ],
          "scatter3d": [
           {
            "line": {
             "colorbar": {
              "outlinewidth": 0,
              "ticks": ""
             }
            },
            "marker": {
             "colorbar": {
              "outlinewidth": 0,
              "ticks": ""
             }
            },
            "type": "scatter3d"
           }
          ],
          "scattercarpet": [
           {
            "marker": {
             "colorbar": {
              "outlinewidth": 0,
              "ticks": ""
             }
            },
            "type": "scattercarpet"
           }
          ],
          "scattergeo": [
           {
            "marker": {
             "colorbar": {
              "outlinewidth": 0,
              "ticks": ""
             }
            },
            "type": "scattergeo"
           }
          ],
          "scattergl": [
           {
            "marker": {
             "colorbar": {
              "outlinewidth": 0,
              "ticks": ""
             }
            },
            "type": "scattergl"
           }
          ],
          "scattermapbox": [
           {
            "marker": {
             "colorbar": {
              "outlinewidth": 0,
              "ticks": ""
             }
            },
            "type": "scattermapbox"
           }
          ],
          "scatterpolar": [
           {
            "marker": {
             "colorbar": {
              "outlinewidth": 0,
              "ticks": ""
             }
            },
            "type": "scatterpolar"
           }
          ],
          "scatterpolargl": [
           {
            "marker": {
             "colorbar": {
              "outlinewidth": 0,
              "ticks": ""
             }
            },
            "type": "scatterpolargl"
           }
          ],
          "scatterternary": [
           {
            "marker": {
             "colorbar": {
              "outlinewidth": 0,
              "ticks": ""
             }
            },
            "type": "scatterternary"
           }
          ],
          "surface": [
           {
            "colorbar": {
             "outlinewidth": 0,
             "ticks": ""
            },
            "colorscale": [
             [
              0,
              "#0d0887"
             ],
             [
              0.1111111111111111,
              "#46039f"
             ],
             [
              0.2222222222222222,
              "#7201a8"
             ],
             [
              0.3333333333333333,
              "#9c179e"
             ],
             [
              0.4444444444444444,
              "#bd3786"
             ],
             [
              0.5555555555555556,
              "#d8576b"
             ],
             [
              0.6666666666666666,
              "#ed7953"
             ],
             [
              0.7777777777777778,
              "#fb9f3a"
             ],
             [
              0.8888888888888888,
              "#fdca26"
             ],
             [
              1,
              "#f0f921"
             ]
            ],
            "type": "surface"
           }
          ],
          "table": [
           {
            "cells": {
             "fill": {
              "color": "#EBF0F8"
             },
             "line": {
              "color": "white"
             }
            },
            "header": {
             "fill": {
              "color": "#C8D4E3"
             },
             "line": {
              "color": "white"
             }
            },
            "type": "table"
           }
          ]
         },
         "layout": {
          "annotationdefaults": {
           "arrowcolor": "#2a3f5f",
           "arrowhead": 0,
           "arrowwidth": 1
          },
          "autotypenumbers": "strict",
          "coloraxis": {
           "colorbar": {
            "outlinewidth": 0,
            "ticks": ""
           }
          },
          "colorscale": {
           "diverging": [
            [
             0,
             "#8e0152"
            ],
            [
             0.1,
             "#c51b7d"
            ],
            [
             0.2,
             "#de77ae"
            ],
            [
             0.3,
             "#f1b6da"
            ],
            [
             0.4,
             "#fde0ef"
            ],
            [
             0.5,
             "#f7f7f7"
            ],
            [
             0.6,
             "#e6f5d0"
            ],
            [
             0.7,
             "#b8e186"
            ],
            [
             0.8,
             "#7fbc41"
            ],
            [
             0.9,
             "#4d9221"
            ],
            [
             1,
             "#276419"
            ]
           ],
           "sequential": [
            [
             0,
             "#0d0887"
            ],
            [
             0.1111111111111111,
             "#46039f"
            ],
            [
             0.2222222222222222,
             "#7201a8"
            ],
            [
             0.3333333333333333,
             "#9c179e"
            ],
            [
             0.4444444444444444,
             "#bd3786"
            ],
            [
             0.5555555555555556,
             "#d8576b"
            ],
            [
             0.6666666666666666,
             "#ed7953"
            ],
            [
             0.7777777777777778,
             "#fb9f3a"
            ],
            [
             0.8888888888888888,
             "#fdca26"
            ],
            [
             1,
             "#f0f921"
            ]
           ],
           "sequentialminus": [
            [
             0,
             "#0d0887"
            ],
            [
             0.1111111111111111,
             "#46039f"
            ],
            [
             0.2222222222222222,
             "#7201a8"
            ],
            [
             0.3333333333333333,
             "#9c179e"
            ],
            [
             0.4444444444444444,
             "#bd3786"
            ],
            [
             0.5555555555555556,
             "#d8576b"
            ],
            [
             0.6666666666666666,
             "#ed7953"
            ],
            [
             0.7777777777777778,
             "#fb9f3a"
            ],
            [
             0.8888888888888888,
             "#fdca26"
            ],
            [
             1,
             "#f0f921"
            ]
           ]
          },
          "colorway": [
           "#636efa",
           "#EF553B",
           "#00cc96",
           "#ab63fa",
           "#FFA15A",
           "#19d3f3",
           "#FF6692",
           "#B6E880",
           "#FF97FF",
           "#FECB52"
          ],
          "font": {
           "color": "#2a3f5f"
          },
          "geo": {
           "bgcolor": "white",
           "lakecolor": "white",
           "landcolor": "#E5ECF6",
           "showlakes": true,
           "showland": true,
           "subunitcolor": "white"
          },
          "hoverlabel": {
           "align": "left"
          },
          "hovermode": "closest",
          "mapbox": {
           "style": "light"
          },
          "paper_bgcolor": "white",
          "plot_bgcolor": "#E5ECF6",
          "polar": {
           "angularaxis": {
            "gridcolor": "white",
            "linecolor": "white",
            "ticks": ""
           },
           "bgcolor": "#E5ECF6",
           "radialaxis": {
            "gridcolor": "white",
            "linecolor": "white",
            "ticks": ""
           }
          },
          "scene": {
           "xaxis": {
            "backgroundcolor": "#E5ECF6",
            "gridcolor": "white",
            "gridwidth": 2,
            "linecolor": "white",
            "showbackground": true,
            "ticks": "",
            "zerolinecolor": "white"
           },
           "yaxis": {
            "backgroundcolor": "#E5ECF6",
            "gridcolor": "white",
            "gridwidth": 2,
            "linecolor": "white",
            "showbackground": true,
            "ticks": "",
            "zerolinecolor": "white"
           },
           "zaxis": {
            "backgroundcolor": "#E5ECF6",
            "gridcolor": "white",
            "gridwidth": 2,
            "linecolor": "white",
            "showbackground": true,
            "ticks": "",
            "zerolinecolor": "white"
           }
          },
          "shapedefaults": {
           "line": {
            "color": "#2a3f5f"
           }
          },
          "ternary": {
           "aaxis": {
            "gridcolor": "white",
            "linecolor": "white",
            "ticks": ""
           },
           "baxis": {
            "gridcolor": "white",
            "linecolor": "white",
            "ticks": ""
           },
           "bgcolor": "#E5ECF6",
           "caxis": {
            "gridcolor": "white",
            "linecolor": "white",
            "ticks": ""
           }
          },
          "title": {
           "x": 0.05
          },
          "xaxis": {
           "automargin": true,
           "gridcolor": "white",
           "linecolor": "white",
           "ticks": "",
           "title": {
            "standoff": 15
           },
           "zerolinecolor": "white",
           "zerolinewidth": 2
          },
          "yaxis": {
           "automargin": true,
           "gridcolor": "white",
           "linecolor": "white",
           "ticks": "",
           "title": {
            "standoff": 15
           },
           "zerolinecolor": "white",
           "zerolinewidth": 2
          }
         }
        },
        "title": {
         "text": "QAOA MaxCut"
        },
        "width": 700,
        "xaxis": {
         "title": {
          "text": "beta"
         }
        },
        "yaxis": {
         "title": {
          "text": "gamma"
         }
        }
       }
      },
      "text/html": [
       "<div>                            <div id=\"3056a003-dcc7-4c1b-8b3f-9ee1e62f6da6\" class=\"plotly-graph-div\" style=\"height:700px; width:700px;\"></div>            <script type=\"text/javascript\">                require([\"plotly\"], function(Plotly) {                    window.PLOTLYENV=window.PLOTLYENV || {};                                    if (document.getElementById(\"3056a003-dcc7-4c1b-8b3f-9ee1e62f6da6\")) {                    Plotly.newPlot(                        \"3056a003-dcc7-4c1b-8b3f-9ee1e62f6da6\",                        [{\"colorscale\":[[0.0,\"#440154\"],[0.1111111111111111,\"#482878\"],[0.2222222222222222,\"#3e4989\"],[0.3333333333333333,\"#31688e\"],[0.4444444444444444,\"#26828e\"],[0.5555555555555556,\"#1f9e89\"],[0.6666666666666666,\"#35b779\"],[0.7777777777777778,\"#6ece58\"],[0.8888888888888888,\"#b5de2b\"],[1.0,\"#fde725\"]],\"type\":\"heatmap\",\"x\":[0.0,0.1,0.2,0.30000000000000004,0.4,0.5,0.6000000000000001,0.7000000000000001,0.8,0.9,1.0,1.1,1.2000000000000002,1.3,1.4000000000000001,1.5,1.6,1.7000000000000002,1.8,1.9000000000000001,2.0,2.1,2.2,2.3000000000000003,2.4000000000000004,2.5,2.6,2.7,2.8000000000000003,2.9000000000000004,3.0,3.1],\"y\":[0.0,0.1,0.2,0.30000000000000004,0.4,0.5,0.6000000000000001,0.7000000000000001,0.8,0.9,1.0,1.1,1.2000000000000002,1.3,1.4000000000000001,1.5,1.6,1.7000000000000002,1.8,1.9000000000000001,2.0,2.1,2.2,2.3000000000000003,2.4000000000000004,2.5,2.6,2.7,2.8000000000000003,2.9000000000000004,3.0,3.1],\"z\":[[-2.9775,-3.00625,-2.996,-2.98875,-2.9955,-3.03575,-2.9645,-2.99,-2.97825,-3.01075,-3.00025,-3.0105,-2.99225,-2.98125,-3.0135,-2.99975,-2.9735,-2.99975,-2.99675,-3.0265,-2.99975,-3.009,-2.981,-3.01175,-2.99675,-3.01225,-3.002,-3.00175,-3.01075,-3.005,-2.997,-3.00075],[-3.00125,-2.92325,-2.8895,-2.8595,-2.82775,-2.8375,-2.8645,-2.92275,-2.964,-3.0485,-3.10675,-3.121,-3.1105,-3.117,-3.053,-3.04475,-2.97375,-2.94975,-2.8805,-2.83975,-2.82875,-2.84875,-2.8505,-2.9145,-2.99,-3.07175,-3.11475,-3.1265,-3.1155,-3.0935,-3.06325,-3.0255],[-2.9995,-2.89375,-2.763,-2.71,-2.65975,-2.66125,-2.7065,-2.78325,-2.88875,-3.01025,-3.133,-3.21975,-3.2335,-3.22975,-3.18475,-3.074,-2.96625,-2.8425,-2.74625,-2.68925,-2.64375,-2.69425,-2.7285,-2.8185,-2.91925,-3.0585,-3.14975,-3.23,-3.23175,-3.20475,-3.16175,-3.069],[-3.007,-2.8445,-2.66725,-2.55925,-2.45475,-2.4665,-2.50925,-2.62025,-2.75225,-2.92725,-3.11725,-3.212,-3.3055,-3.26675,-3.24125,-3.12225,-2.95425,-2.7675,-2.652,-2.5295,-2.46875,-2.454,-2.51025,-2.63825,-2.83325,-2.99375,-3.1415,-3.24125,-3.31475,-3.279,-3.2305,-3.0685],[-2.9665,-2.766,-2.56675,-2.392,-2.27925,-2.254,-2.30075,-2.4585,-2.5845,-2.82625,-3.048,-3.194,-3.314,-3.3445,-3.2885,-3.1335,-2.9225,-2.7255,-2.529,-2.38975,-2.268,-2.24275,-2.32525,-2.4795,-2.70975,-2.89875,-3.12225,-3.246,-3.31175,-3.33075,-3.2395,-3.1],[-2.9935,-2.744,-2.49325,-2.2655,-2.1485,-2.07625,-2.10425,-2.29475,-2.48875,-2.7425,-2.9785,-3.1875,-3.3305,-3.3755,-3.29975,-3.17825,-2.94525,-2.657,-2.43875,-2.22075,-2.099,-2.08725,-2.1295,-2.3075,-2.5305,-2.8075,-3.0425,-3.26,-3.33525,-3.35725,-3.27125,-3.101],[-3.01025,-2.7295,-2.44025,-2.189,-1.98325,-1.93225,-1.97975,-2.132,-2.342,-2.58475,-2.90625,-3.144,-3.30975,-3.3895,-3.30175,-3.147,-2.92025,-2.6755,-2.38675,-2.16425,-1.976,-1.9005,-2.03075,-2.1975,-2.42,-2.6825,-2.969,-3.2095,-3.33175,-3.3595,-3.265,-3.09375],[-3.00475,-2.7125,-2.44025,-2.13775,-1.92625,-1.831,-1.86325,-1.99775,-2.25475,-2.53775,-2.81125,-3.04875,-3.25825,-3.35375,-3.31975,-3.1445,-2.90225,-2.62025,-2.33025,-2.1,-1.893,-1.8425,-1.914,-2.04925,-2.27475,-2.617,-2.89825,-3.12625,-3.304,-3.34325,-3.285,-3.11375],[-2.9925,-2.737,-2.4185,-2.16175,-1.9075,-1.81075,-1.78875,-1.9435,-2.16675,-2.4295,-2.7415,-3.00675,-3.19225,-3.31175,-3.2785,-3.1595,-2.915,-2.62975,-2.37325,-2.09375,-1.902,-1.81075,-1.8115,-1.98575,-2.261,-2.52675,-2.8305,-3.0815,-3.26425,-3.31325,-3.26225,-3.09725],[-3.01625,-2.7665,-2.43975,-2.13875,-1.94075,-1.8635,-1.8235,-1.9425,-2.1335,-2.40875,-2.696,-2.96825,-3.17325,-3.288,-3.289,-3.1125,-2.9415,-2.63725,-2.3625,-2.10675,-1.88825,-1.81225,-1.81275,-1.975,-2.206,-2.469,-2.77525,-3.04425,-3.21375,-3.2645,-3.2425,-3.1075],[-2.99375,-2.74,-2.50375,-2.258,-2.0385,-1.92175,-1.882,-1.998,-2.13975,-2.4115,-2.68975,-2.9175,-3.13275,-3.2255,-3.235,-3.1345,-2.91925,-2.68725,-2.44475,-2.1635,-1.9785,-1.845,-1.9245,-2.0335,-2.22775,-2.46325,-2.75425,-3.0005,-3.15625,-3.20325,-3.227,-3.072],[-2.9975,-2.78875,-2.58975,-2.3605,-2.168,-2.01,-2.027,-2.08475,-2.20825,-2.43225,-2.66425,-2.897,-3.0935,-3.1915,-3.1855,-3.108,-2.94975,-2.72925,-2.4755,-2.2525,-2.086,-2.02325,-1.9845,-2.09775,-2.272,-2.517,-2.73025,-2.951,-3.10025,-3.19,-3.145,-3.055],[-2.979,-2.84625,-2.6075,-2.4325,-2.273,-2.186,-2.13375,-2.1705,-2.289,-2.493,-2.70525,-2.86975,-3.01625,-3.133,-3.15,-3.081,-2.956,-2.77525,-2.571,-2.403,-2.245,-2.1755,-2.1225,-2.204,-2.31775,-2.52325,-2.7215,-2.92925,-3.08,-3.15025,-3.13525,-3.03575],[-3.01775,-2.8725,-2.73425,-2.56475,-2.39425,-2.2635,-2.2585,-2.28425,-2.374,-2.54125,-2.67825,-2.8375,-2.98525,-3.06725,-3.09925,-3.059,-2.974,-2.81025,-2.687,-2.48725,-2.379,-2.29025,-2.3175,-2.31625,-2.405,-2.558,-2.7395,-2.88475,-3.00675,-3.0965,-3.0815,-3.02475],[-2.99,-2.91525,-2.82625,-2.685,-2.55925,-2.45775,-2.4085,-2.36875,-2.43875,-2.5185,-2.66425,-2.75675,-2.921,-3.00925,-3.02675,-3.033,-2.96425,-2.898,-2.77375,-2.6475,-2.48775,-2.41925,-2.4055,-2.42575,-2.48875,-2.57575,-2.7165,-2.823,-2.9645,-3.02575,-3.058,-2.98875],[-3.01,-2.9635,-2.873,-2.75175,-2.674,-2.564,-2.50175,-2.50375,-2.4845,-2.55375,-2.631,-2.73225,-2.82825,-2.89975,-3.014,-3.00775,-3.0085,-2.9265,-2.8295,-2.7285,-2.63775,-2.5795,-2.48325,-2.461,-2.47475,-2.5545,-2.655,-2.74975,-2.8555,-2.94175,-2.9925,-3.04],[-2.98725,-3.00175,-2.94,-2.887,-2.772,-2.65975,-2.556,-2.5005,-2.50325,-2.49875,-2.553,-2.63075,-2.747,-2.84975,-2.94325,-3.0045,-2.99325,-3.0,-2.90925,-2.82575,-2.73325,-2.654,-2.5655,-2.52225,-2.4735,-2.50925,-2.584,-2.67325,-2.77475,-2.8645,-2.94225,-2.984],[-3.0145,-3.027,-3.01525,-2.97425,-2.844,-2.739,-2.5975,-2.526,-2.485,-2.428,-2.44925,-2.524,-2.62775,-2.724,-2.88475,-2.93675,-3.01975,-3.05925,-2.9955,-2.90675,-2.819,-2.69675,-2.593,-2.5175,-2.426,-2.4735,-2.50225,-2.57075,-2.6895,-2.795,-2.8825,-2.9685],[-2.9775,-3.08975,-3.08725,-3.02625,-2.92225,-2.7885,-2.62925,-2.49575,-2.4115,-2.32625,-2.3225,-2.36925,-2.5,-2.66375,-2.76325,-2.93575,-3.06175,-3.078,-3.0625,-2.98125,-2.87525,-2.7275,-2.59725,-2.4475,-2.366,-2.31025,-2.35925,-2.42975,-2.5415,-2.65875,-2.8255,-2.9595],[-2.97625,-3.08625,-3.1215,-3.062,-2.9705,-2.80575,-2.61375,-2.4495,-2.30175,-2.16225,-2.17625,-2.28325,-2.36525,-2.5695,-2.723,-2.86075,-3.015,-3.13725,-3.09675,-3.05375,-2.932,-2.765,-2.55775,-2.42625,-2.26525,-2.18225,-2.20075,-2.25225,-2.422,-2.59975,-2.7605,-2.9045],[-3.00725,-3.14475,-3.1665,-3.1535,-3.0135,-2.8275,-2.60075,-2.38225,-2.21375,-2.07375,-2.01825,-2.14575,-2.24175,-2.413,-2.666,-2.835,-3.03875,-3.17825,-3.186,-3.11675,-2.9515,-2.76825,-2.52225,-2.33325,-2.1805,-2.066,-2.07125,-2.13425,-2.3085,-2.518,-2.70525,-2.923],[-3.02125,-3.14825,-3.227,-3.1975,-3.06375,-2.847,-2.5895,-2.341,-2.12425,-1.976,-1.91625,-1.9665,-2.1185,-2.33775,-2.5835,-2.84525,-3.06025,-3.1845,-3.2335,-3.16225,-2.987,-2.75725,-2.53025,-2.27925,-2.05325,-1.95575,-1.915,-2.00725,-2.17,-2.40675,-2.67675,-2.93025],[-3.00175,-3.1915,-3.26125,-3.24075,-3.09,-2.86525,-2.5725,-2.31375,-2.0995,-1.90675,-1.852,-1.86825,-2.04375,-2.27475,-2.53625,-2.8065,-3.0825,-3.215,-3.2655,-3.21825,-3.01225,-2.7965,-2.50275,-2.2575,-2.00025,-1.88325,-1.806,-1.8795,-2.07725,-2.37125,-2.641,-2.912],[-3.01975,-3.211,-3.2895,-3.29675,-3.14525,-2.9265,-2.63625,-2.3705,-2.06875,-1.866,-1.788,-1.8355,-1.9695,-2.2375,-2.51175,-2.78575,-3.0685,-3.227,-3.299,-3.254,-3.08025,-2.83775,-2.54675,-2.2795,-1.99225,-1.84025,-1.81475,-1.8655,-2.083,-2.325,-2.6035,-2.89375],[-3.008,-3.2235,-3.3175,-3.3225,-3.212,-2.9675,-2.67625,-2.40575,-2.119,-1.90725,-1.77725,-1.84125,-1.981,-2.19525,-2.47025,-2.815,-3.05375,-3.246,-3.3255,-3.28525,-3.122,-2.89425,-2.61825,-2.29175,-2.02175,-1.84825,-1.801,-1.87275,-2.0515,-2.31225,-2.59175,-2.89225],[-3.0005,-3.2005,-3.329,-3.32175,-3.2405,-3.044,-2.76975,-2.48975,-2.18625,-2.011,-1.9055,-1.89875,-2.01125,-2.23575,-2.525,-2.80525,-3.0705,-3.2895,-3.34975,-3.33,-3.19175,-2.98325,-2.6985,-2.40375,-2.12875,-1.974,-1.86625,-1.937,-2.04275,-2.29075,-2.599,-2.89],[-2.97675,-3.22425,-3.33125,-3.36375,-3.286,-3.1225,-2.88975,-2.59375,-2.33675,-2.12975,-2.039,-2.01625,-2.1205,-2.29075,-2.5665,-2.82325,-3.0655,-3.24125,-3.36075,-3.35575,-3.22425,-3.04025,-2.812,-2.50375,-2.267,-2.1025,-2.04425,-2.03025,-2.14575,-2.38525,-2.5955,-2.905],[-2.97425,-3.20775,-3.302,-3.35475,-3.31075,-3.1695,-2.96675,-2.7495,-2.49225,-2.32825,-2.1805,-2.166,-2.24525,-2.417,-2.5885,-2.813,-3.067,-3.2345,-3.3325,-3.3525,-3.25375,-3.11425,-2.88225,-2.65825,-2.4425,-2.26275,-2.1905,-2.1975,-2.293,-2.46125,-2.67075,-2.88825],[-2.997,-3.1695,-3.29525,-3.3365,-3.28975,-3.19925,-3.03725,-2.838,-2.66975,-2.502,-2.41,-2.39525,-2.42575,-2.50975,-2.6675,-2.863,-3.0515,-3.21375,-3.30575,-3.3235,-3.282,-3.16,-3.021,-2.78125,-2.62175,-2.43875,-2.374,-2.37875,-2.439,-2.54975,-2.708,-2.93275],[-3.013,-3.14275,-3.21825,-3.27775,-3.2505,-3.17275,-3.105,-2.9425,-2.82,-2.682,-2.61075,-2.581,-2.57025,-2.6445,-2.7585,-2.91,-3.048,-3.17475,-3.247,-3.2615,-3.2685,-3.17075,-3.0525,-2.9235,-2.77275,-2.6725,-2.59575,-2.60175,-2.586,-2.684,-2.8035,-2.941],[-3.01325,-3.081,-3.12925,-3.167,-3.1835,-3.14125,-3.09525,-3.01875,-2.90225,-2.842,-2.785,-2.79075,-2.749,-2.8175,-2.855,-2.94775,-3.0455,-3.10025,-3.141,-3.1545,-3.164,-3.15425,-3.053,-3.00675,-2.94825,-2.86625,-2.801,-2.774,-2.7735,-2.818,-2.854,-2.95275],[-2.9845,-3.026,-3.0555,-3.063,-3.0625,-3.041,-3.047,-3.0235,-3.007,-2.98525,-2.93225,-2.932,-2.93425,-2.93375,-2.97775,-2.982,-3.008,-3.0325,-3.06375,-3.0655,-3.057,-3.04075,-3.0375,-2.99625,-2.95875,-2.9645,-2.95175,-2.931,-2.94775,-2.944,-2.9675,-2.978]]}],                        {\"height\":700,\"template\":{\"data\":{\"bar\":[{\"error_x\":{\"color\":\"#2a3f5f\"},\"error_y\":{\"color\":\"#2a3f5f\"},\"marker\":{\"line\":{\"color\":\"#E5ECF6\",\"width\":0.5},\"pattern\":{\"fillmode\":\"overlay\",\"size\":10,\"solidity\":0.2}},\"type\":\"bar\"}],\"barpolar\":[{\"marker\":{\"line\":{\"color\":\"#E5ECF6\",\"width\":0.5},\"pattern\":{\"fillmode\":\"overlay\",\"size\":10,\"solidity\":0.2}},\"type\":\"barpolar\"}],\"carpet\":[{\"aaxis\":{\"endlinecolor\":\"#2a3f5f\",\"gridcolor\":\"white\",\"linecolor\":\"white\",\"minorgridcolor\":\"white\",\"startlinecolor\":\"#2a3f5f\"},\"baxis\":{\"endlinecolor\":\"#2a3f5f\",\"gridcolor\":\"white\",\"linecolor\":\"white\",\"minorgridcolor\":\"white\",\"startlinecolor\":\"#2a3f5f\"},\"type\":\"carpet\"}],\"choropleth\":[{\"colorbar\":{\"outlinewidth\":0,\"ticks\":\"\"},\"type\":\"choropleth\"}],\"contour\":[{\"colorbar\":{\"outlinewidth\":0,\"ticks\":\"\"},\"colorscale\":[[0.0,\"#0d0887\"],[0.1111111111111111,\"#46039f\"],[0.2222222222222222,\"#7201a8\"],[0.3333333333333333,\"#9c179e\"],[0.4444444444444444,\"#bd3786\"],[0.5555555555555556,\"#d8576b\"],[0.6666666666666666,\"#ed7953\"],[0.7777777777777778,\"#fb9f3a\"],[0.8888888888888888,\"#fdca26\"],[1.0,\"#f0f921\"]],\"type\":\"contour\"}],\"contourcarpet\":[{\"colorbar\":{\"outlinewidth\":0,\"ticks\":\"\"},\"type\":\"contourcarpet\"}],\"heatmap\":[{\"colorbar\":{\"outlinewidth\":0,\"ticks\":\"\"},\"colorscale\":[[0.0,\"#0d0887\"],[0.1111111111111111,\"#46039f\"],[0.2222222222222222,\"#7201a8\"],[0.3333333333333333,\"#9c179e\"],[0.4444444444444444,\"#bd3786\"],[0.5555555555555556,\"#d8576b\"],[0.6666666666666666,\"#ed7953\"],[0.7777777777777778,\"#fb9f3a\"],[0.8888888888888888,\"#fdca26\"],[1.0,\"#f0f921\"]],\"type\":\"heatmap\"}],\"heatmapgl\":[{\"colorbar\":{\"outlinewidth\":0,\"ticks\":\"\"},\"colorscale\":[[0.0,\"#0d0887\"],[0.1111111111111111,\"#46039f\"],[0.2222222222222222,\"#7201a8\"],[0.3333333333333333,\"#9c179e\"],[0.4444444444444444,\"#bd3786\"],[0.5555555555555556,\"#d8576b\"],[0.6666666666666666,\"#ed7953\"],[0.7777777777777778,\"#fb9f3a\"],[0.8888888888888888,\"#fdca26\"],[1.0,\"#f0f921\"]],\"type\":\"heatmapgl\"}],\"histogram\":[{\"marker\":{\"pattern\":{\"fillmode\":\"overlay\",\"size\":10,\"solidity\":0.2}},\"type\":\"histogram\"}],\"histogram2d\":[{\"colorbar\":{\"outlinewidth\":0,\"ticks\":\"\"},\"colorscale\":[[0.0,\"#0d0887\"],[0.1111111111111111,\"#46039f\"],[0.2222222222222222,\"#7201a8\"],[0.3333333333333333,\"#9c179e\"],[0.4444444444444444,\"#bd3786\"],[0.5555555555555556,\"#d8576b\"],[0.6666666666666666,\"#ed7953\"],[0.7777777777777778,\"#fb9f3a\"],[0.8888888888888888,\"#fdca26\"],[1.0,\"#f0f921\"]],\"type\":\"histogram2d\"}],\"histogram2dcontour\":[{\"colorbar\":{\"outlinewidth\":0,\"ticks\":\"\"},\"colorscale\":[[0.0,\"#0d0887\"],[0.1111111111111111,\"#46039f\"],[0.2222222222222222,\"#7201a8\"],[0.3333333333333333,\"#9c179e\"],[0.4444444444444444,\"#bd3786\"],[0.5555555555555556,\"#d8576b\"],[0.6666666666666666,\"#ed7953\"],[0.7777777777777778,\"#fb9f3a\"],[0.8888888888888888,\"#fdca26\"],[1.0,\"#f0f921\"]],\"type\":\"histogram2dcontour\"}],\"mesh3d\":[{\"colorbar\":{\"outlinewidth\":0,\"ticks\":\"\"},\"type\":\"mesh3d\"}],\"parcoords\":[{\"line\":{\"colorbar\":{\"outlinewidth\":0,\"ticks\":\"\"}},\"type\":\"parcoords\"}],\"pie\":[{\"automargin\":true,\"type\":\"pie\"}],\"scatter\":[{\"marker\":{\"colorbar\":{\"outlinewidth\":0,\"ticks\":\"\"}},\"type\":\"scatter\"}],\"scatter3d\":[{\"line\":{\"colorbar\":{\"outlinewidth\":0,\"ticks\":\"\"}},\"marker\":{\"colorbar\":{\"outlinewidth\":0,\"ticks\":\"\"}},\"type\":\"scatter3d\"}],\"scattercarpet\":[{\"marker\":{\"colorbar\":{\"outlinewidth\":0,\"ticks\":\"\"}},\"type\":\"scattercarpet\"}],\"scattergeo\":[{\"marker\":{\"colorbar\":{\"outlinewidth\":0,\"ticks\":\"\"}},\"type\":\"scattergeo\"}],\"scattergl\":[{\"marker\":{\"colorbar\":{\"outlinewidth\":0,\"ticks\":\"\"}},\"type\":\"scattergl\"}],\"scattermapbox\":[{\"marker\":{\"colorbar\":{\"outlinewidth\":0,\"ticks\":\"\"}},\"type\":\"scattermapbox\"}],\"scatterpolar\":[{\"marker\":{\"colorbar\":{\"outlinewidth\":0,\"ticks\":\"\"}},\"type\":\"scatterpolar\"}],\"scatterpolargl\":[{\"marker\":{\"colorbar\":{\"outlinewidth\":0,\"ticks\":\"\"}},\"type\":\"scatterpolargl\"}],\"scatterternary\":[{\"marker\":{\"colorbar\":{\"outlinewidth\":0,\"ticks\":\"\"}},\"type\":\"scatterternary\"}],\"surface\":[{\"colorbar\":{\"outlinewidth\":0,\"ticks\":\"\"},\"colorscale\":[[0.0,\"#0d0887\"],[0.1111111111111111,\"#46039f\"],[0.2222222222222222,\"#7201a8\"],[0.3333333333333333,\"#9c179e\"],[0.4444444444444444,\"#bd3786\"],[0.5555555555555556,\"#d8576b\"],[0.6666666666666666,\"#ed7953\"],[0.7777777777777778,\"#fb9f3a\"],[0.8888888888888888,\"#fdca26\"],[1.0,\"#f0f921\"]],\"type\":\"surface\"}],\"table\":[{\"cells\":{\"fill\":{\"color\":\"#EBF0F8\"},\"line\":{\"color\":\"white\"}},\"header\":{\"fill\":{\"color\":\"#C8D4E3\"},\"line\":{\"color\":\"white\"}},\"type\":\"table\"}]},\"layout\":{\"annotationdefaults\":{\"arrowcolor\":\"#2a3f5f\",\"arrowhead\":0,\"arrowwidth\":1},\"autotypenumbers\":\"strict\",\"coloraxis\":{\"colorbar\":{\"outlinewidth\":0,\"ticks\":\"\"}},\"colorscale\":{\"diverging\":[[0,\"#8e0152\"],[0.1,\"#c51b7d\"],[0.2,\"#de77ae\"],[0.3,\"#f1b6da\"],[0.4,\"#fde0ef\"],[0.5,\"#f7f7f7\"],[0.6,\"#e6f5d0\"],[0.7,\"#b8e186\"],[0.8,\"#7fbc41\"],[0.9,\"#4d9221\"],[1,\"#276419\"]],\"sequential\":[[0.0,\"#0d0887\"],[0.1111111111111111,\"#46039f\"],[0.2222222222222222,\"#7201a8\"],[0.3333333333333333,\"#9c179e\"],[0.4444444444444444,\"#bd3786\"],[0.5555555555555556,\"#d8576b\"],[0.6666666666666666,\"#ed7953\"],[0.7777777777777778,\"#fb9f3a\"],[0.8888888888888888,\"#fdca26\"],[1.0,\"#f0f921\"]],\"sequentialminus\":[[0.0,\"#0d0887\"],[0.1111111111111111,\"#46039f\"],[0.2222222222222222,\"#7201a8\"],[0.3333333333333333,\"#9c179e\"],[0.4444444444444444,\"#bd3786\"],[0.5555555555555556,\"#d8576b\"],[0.6666666666666666,\"#ed7953\"],[0.7777777777777778,\"#fb9f3a\"],[0.8888888888888888,\"#fdca26\"],[1.0,\"#f0f921\"]]},\"colorway\":[\"#636efa\",\"#EF553B\",\"#00cc96\",\"#ab63fa\",\"#FFA15A\",\"#19d3f3\",\"#FF6692\",\"#B6E880\",\"#FF97FF\",\"#FECB52\"],\"font\":{\"color\":\"#2a3f5f\"},\"geo\":{\"bgcolor\":\"white\",\"lakecolor\":\"white\",\"landcolor\":\"#E5ECF6\",\"showlakes\":true,\"showland\":true,\"subunitcolor\":\"white\"},\"hoverlabel\":{\"align\":\"left\"},\"hovermode\":\"closest\",\"mapbox\":{\"style\":\"light\"},\"paper_bgcolor\":\"white\",\"plot_bgcolor\":\"#E5ECF6\",\"polar\":{\"angularaxis\":{\"gridcolor\":\"white\",\"linecolor\":\"white\",\"ticks\":\"\"},\"bgcolor\":\"#E5ECF6\",\"radialaxis\":{\"gridcolor\":\"white\",\"linecolor\":\"white\",\"ticks\":\"\"}},\"scene\":{\"xaxis\":{\"backgroundcolor\":\"#E5ECF6\",\"gridcolor\":\"white\",\"gridwidth\":2,\"linecolor\":\"white\",\"showbackground\":true,\"ticks\":\"\",\"zerolinecolor\":\"white\"},\"yaxis\":{\"backgroundcolor\":\"#E5ECF6\",\"gridcolor\":\"white\",\"gridwidth\":2,\"linecolor\":\"white\",\"showbackground\":true,\"ticks\":\"\",\"zerolinecolor\":\"white\"},\"zaxis\":{\"backgroundcolor\":\"#E5ECF6\",\"gridcolor\":\"white\",\"gridwidth\":2,\"linecolor\":\"white\",\"showbackground\":true,\"ticks\":\"\",\"zerolinecolor\":\"white\"}},\"shapedefaults\":{\"line\":{\"color\":\"#2a3f5f\"}},\"ternary\":{\"aaxis\":{\"gridcolor\":\"white\",\"linecolor\":\"white\",\"ticks\":\"\"},\"baxis\":{\"gridcolor\":\"white\",\"linecolor\":\"white\",\"ticks\":\"\"},\"bgcolor\":\"#E5ECF6\",\"caxis\":{\"gridcolor\":\"white\",\"linecolor\":\"white\",\"ticks\":\"\"}},\"title\":{\"x\":0.05},\"xaxis\":{\"automargin\":true,\"gridcolor\":\"white\",\"linecolor\":\"white\",\"ticks\":\"\",\"title\":{\"standoff\":15},\"zerolinecolor\":\"white\",\"zerolinewidth\":2},\"yaxis\":{\"automargin\":true,\"gridcolor\":\"white\",\"linecolor\":\"white\",\"ticks\":\"\",\"title\":{\"standoff\":15},\"zerolinecolor\":\"white\",\"zerolinewidth\":2}}},\"title\":{\"text\":\"QAOA MaxCut\"},\"width\":700,\"xaxis\":{\"title\":{\"text\":\"beta\"}},\"yaxis\":{\"title\":{\"text\":\"gamma\"}}},                        {\"responsive\": true}                    ).then(function(){\n",
       "                            \n",
       "var gd = document.getElementById('3056a003-dcc7-4c1b-8b3f-9ee1e62f6da6');\n",
       "var x = new MutationObserver(function (mutations, observer) {{\n",
       "        var display = window.getComputedStyle(gd).display;\n",
       "        if (!display || display === 'none') {{\n",
       "            console.log([gd, 'removed!']);\n",
       "            Plotly.purge(gd);\n",
       "            observer.disconnect();\n",
       "        }}\n",
       "}});\n",
       "\n",
       "// Listen for the removal of the full notebook cells\n",
       "var notebookContainer = gd.closest('#notebook-container');\n",
       "if (notebookContainer) {{\n",
       "    x.observe(notebookContainer, {childList: true});\n",
       "}}\n",
       "\n",
       "// Listen for the clearing of the current output cell\n",
       "var outputEl = gd.closest('.output');\n",
       "if (outputEl) {{\n",
       "    x.observe(outputEl, {childList: true});\n",
       "}}\n",
       "\n",
       "                        })                };                });            </script>        </div>"
      ]
     },
     "metadata": {},
     "output_type": "display_data"
    }
   ],
   "source": [
    "a_gamma = np.arange(0, np.pi, step_size)\n",
    "b_beta = np.arange(0, np.pi, step_size)\n",
    "fig = go.Figure(data=go.Heatmap(z=F1, x=b_beta, y=a_gamma,   type = 'heatmap',\n",
    "   colorscale = 'viridis'))\n",
    "fig.update_layout(title=\"QAOA MaxCut\", width=700, height=700,\n",
    "xaxis_title=\"beta\",\n",
    "    yaxis_title=\"gamma\")"
   ]
  },
  {
   "cell_type": "code",
   "execution_count": 445,
   "id": "d526056b",
   "metadata": {},
   "outputs": [
    {
     "data": {
      "application/vnd.plotly.v1+json": {
       "config": {
        "plotlyServerURL": "https://plot.ly"
       },
       "data": [
        {
         "colorscale": [
          [
           0,
           "#440154"
          ],
          [
           0.1111111111111111,
           "#482878"
          ],
          [
           0.2222222222222222,
           "#3e4989"
          ],
          [
           0.3333333333333333,
           "#31688e"
          ],
          [
           0.4444444444444444,
           "#26828e"
          ],
          [
           0.5555555555555556,
           "#1f9e89"
          ],
          [
           0.6666666666666666,
           "#35b779"
          ],
          [
           0.7777777777777778,
           "#6ece58"
          ],
          [
           0.8888888888888888,
           "#b5de2b"
          ],
          [
           1,
           "#fde725"
          ]
         ],
         "type": "heatmap",
         "x": [
          0,
          0.1,
          0.2,
          0.30000000000000004,
          0.4,
          0.5,
          0.6000000000000001,
          0.7000000000000001,
          0.8,
          0.9,
          1,
          1.1,
          1.2000000000000002,
          1.3,
          1.4000000000000001,
          1.5,
          1.6,
          1.7000000000000002,
          1.8,
          1.9000000000000001,
          2,
          2.1,
          2.2,
          2.3000000000000003,
          2.4000000000000004,
          2.5,
          2.6,
          2.7,
          2.8000000000000003,
          2.9000000000000004,
          3,
          3.1
         ],
         "y": [
          0,
          0.1,
          0.2,
          0.30000000000000004,
          0.4,
          0.5,
          0.6000000000000001,
          0.7000000000000001,
          0.8,
          0.9,
          1,
          1.1,
          1.2000000000000002,
          1.3,
          1.4000000000000001,
          1.5,
          1.6,
          1.7000000000000002,
          1.8,
          1.9000000000000001,
          2,
          2.1,
          2.2,
          2.3000000000000003,
          2.4000000000000004,
          2.5,
          2.6,
          2.7,
          2.8000000000000003,
          2.9000000000000004,
          3,
          3.1
         ],
         "z": [
          [
           -2.9775,
           -3.00625,
           -2.996,
           -2.98875,
           -2.9955,
           -3.03575,
           -2.9645,
           -2.99,
           -2.97825,
           -3.01075,
           -3.00025,
           -3.0105,
           -2.99225,
           -2.98125,
           -3.0135,
           -2.99975,
           -2.9735,
           -2.99975,
           -2.99675,
           -3.0265,
           -2.99975,
           -3.009,
           -2.981,
           -3.01175,
           -2.99675,
           -3.01225,
           -3.002,
           -3.00175,
           -3.01075,
           -3.005,
           -2.997,
           -3.00075
          ],
          [
           -3.00125,
           -2.92325,
           -2.8895,
           -2.8595,
           -2.82775,
           -2.8375,
           -2.8645,
           -2.92275,
           -2.964,
           -3.0485,
           -3.10675,
           -3.121,
           -3.1105,
           -3.117,
           -3.053,
           -3.04475,
           -2.97375,
           -2.94975,
           -2.8805,
           -2.83975,
           -2.82875,
           -2.84875,
           -2.8505,
           -2.9145,
           -2.99,
           -3.07175,
           -3.11475,
           -3.1265,
           -3.1155,
           -3.0935,
           -3.06325,
           -3.0255
          ],
          [
           -2.9995,
           -2.89375,
           -2.763,
           -2.71,
           -2.65975,
           -2.66125,
           -2.7065,
           -2.78325,
           -2.88875,
           -3.01025,
           -3.133,
           -3.21975,
           -3.2335,
           -3.22975,
           -3.18475,
           -3.074,
           -2.96625,
           -2.8425,
           -2.74625,
           -2.68925,
           -2.64375,
           -2.69425,
           -2.7285,
           -2.8185,
           -2.91925,
           -3.0585,
           -3.14975,
           -3.23,
           -3.23175,
           -3.20475,
           -3.16175,
           -3.069
          ],
          [
           -3.007,
           -2.8445,
           -2.66725,
           -2.55925,
           -2.45475,
           -2.4665,
           -2.50925,
           -2.62025,
           -2.75225,
           -2.92725,
           -3.11725,
           -3.212,
           -3.3055,
           -3.26675,
           -3.24125,
           -3.12225,
           -2.95425,
           -2.7675,
           -2.652,
           -2.5295,
           -2.46875,
           -2.454,
           -2.51025,
           -2.63825,
           -2.83325,
           -2.99375,
           -3.1415,
           -3.24125,
           -3.31475,
           -3.279,
           -3.2305,
           -3.0685
          ],
          [
           -2.9665,
           -2.766,
           -2.56675,
           -2.392,
           -2.27925,
           -2.254,
           -2.30075,
           -2.4585,
           -2.5845,
           -2.82625,
           -3.048,
           -3.194,
           -3.314,
           -3.3445,
           -3.2885,
           -3.1335,
           -2.9225,
           -2.7255,
           -2.529,
           -2.38975,
           -2.268,
           -2.24275,
           -2.32525,
           -2.4795,
           -2.70975,
           -2.89875,
           -3.12225,
           -3.246,
           -3.31175,
           -3.33075,
           -3.2395,
           -3.1
          ],
          [
           -2.9935,
           -2.744,
           -2.49325,
           -2.2655,
           -2.1485,
           -2.07625,
           -2.10425,
           -2.29475,
           -2.48875,
           -2.7425,
           -2.9785,
           -3.1875,
           -3.3305,
           -3.3755,
           -3.29975,
           -3.17825,
           -2.94525,
           -2.657,
           -2.43875,
           -2.22075,
           -2.099,
           -2.08725,
           -2.1295,
           -2.3075,
           -2.5305,
           -2.8075,
           -3.0425,
           -3.26,
           -3.33525,
           -3.35725,
           -3.27125,
           -3.101
          ],
          [
           -3.01025,
           -2.7295,
           -2.44025,
           -2.189,
           -1.98325,
           -1.93225,
           -1.97975,
           -2.132,
           -2.342,
           -2.58475,
           -2.90625,
           -3.144,
           -3.30975,
           -3.3895,
           -3.30175,
           -3.147,
           -2.92025,
           -2.6755,
           -2.38675,
           -2.16425,
           -1.976,
           -1.9005,
           -2.03075,
           -2.1975,
           -2.42,
           -2.6825,
           -2.969,
           -3.2095,
           -3.33175,
           -3.3595,
           -3.265,
           -3.09375
          ],
          [
           -3.00475,
           -2.7125,
           -2.44025,
           -2.13775,
           -1.92625,
           -1.831,
           -1.86325,
           -1.99775,
           -2.25475,
           -2.53775,
           -2.81125,
           -3.04875,
           -3.25825,
           -3.35375,
           -3.31975,
           -3.1445,
           -2.90225,
           -2.62025,
           -2.33025,
           -2.1,
           -1.893,
           -1.8425,
           -1.914,
           -2.04925,
           -2.27475,
           -2.617,
           -2.89825,
           -3.12625,
           -3.304,
           -3.34325,
           -3.285,
           -3.11375
          ],
          [
           -2.9925,
           -2.737,
           -2.4185,
           -2.16175,
           -1.9075,
           -1.81075,
           -1.78875,
           -1.9435,
           -2.16675,
           -2.4295,
           -2.7415,
           -3.00675,
           -3.19225,
           -3.31175,
           -3.2785,
           -3.1595,
           -2.915,
           -2.62975,
           -2.37325,
           -2.09375,
           -1.902,
           -1.81075,
           -1.8115,
           -1.98575,
           -2.261,
           -2.52675,
           -2.8305,
           -3.0815,
           -3.26425,
           -3.31325,
           -3.26225,
           -3.09725
          ],
          [
           -3.01625,
           -2.7665,
           -2.43975,
           -2.13875,
           -1.94075,
           -1.8635,
           -1.8235,
           -1.9425,
           -2.1335,
           -2.40875,
           -2.696,
           -2.96825,
           -3.17325,
           -3.288,
           -3.289,
           -3.1125,
           -2.9415,
           -2.63725,
           -2.3625,
           -2.10675,
           -1.88825,
           -1.81225,
           -1.81275,
           -1.975,
           -2.206,
           -2.469,
           -2.77525,
           -3.04425,
           -3.21375,
           -3.2645,
           -3.2425,
           -3.1075
          ],
          [
           -2.99375,
           -2.74,
           -2.50375,
           -2.258,
           -2.0385,
           -1.92175,
           -1.882,
           -1.998,
           -2.13975,
           -2.4115,
           -2.68975,
           -2.9175,
           -3.13275,
           -3.2255,
           -3.235,
           -3.1345,
           -2.91925,
           -2.68725,
           -2.44475,
           -2.1635,
           -1.9785,
           -1.845,
           -1.9245,
           -2.0335,
           -2.22775,
           -2.46325,
           -2.75425,
           -3.0005,
           -3.15625,
           -3.20325,
           -3.227,
           -3.072
          ],
          [
           -2.9975,
           -2.78875,
           -2.58975,
           -2.3605,
           -2.168,
           -2.01,
           -2.027,
           -2.08475,
           -2.20825,
           -2.43225,
           -2.66425,
           -2.897,
           -3.0935,
           -3.1915,
           -3.1855,
           -3.108,
           -2.94975,
           -2.72925,
           -2.4755,
           -2.2525,
           -2.086,
           -2.02325,
           -1.9845,
           -2.09775,
           -2.272,
           -2.517,
           -2.73025,
           -2.951,
           -3.10025,
           -3.19,
           -3.145,
           -3.055
          ],
          [
           -2.979,
           -2.84625,
           -2.6075,
           -2.4325,
           -2.273,
           -2.186,
           -2.13375,
           -2.1705,
           -2.289,
           -2.493,
           -2.70525,
           -2.86975,
           -3.01625,
           -3.133,
           -3.15,
           -3.081,
           -2.956,
           -2.77525,
           -2.571,
           -2.403,
           -2.245,
           -2.1755,
           -2.1225,
           -2.204,
           -2.31775,
           -2.52325,
           -2.7215,
           -2.92925,
           -3.08,
           -3.15025,
           -3.13525,
           -3.03575
          ],
          [
           -3.01775,
           -2.8725,
           -2.73425,
           -2.56475,
           -2.39425,
           -2.2635,
           -2.2585,
           -2.28425,
           -2.374,
           -2.54125,
           -2.67825,
           -2.8375,
           -2.98525,
           -3.06725,
           -3.09925,
           -3.059,
           -2.974,
           -2.81025,
           -2.687,
           -2.48725,
           -2.379,
           -2.29025,
           -2.3175,
           -2.31625,
           -2.405,
           -2.558,
           -2.7395,
           -2.88475,
           -3.00675,
           -3.0965,
           -3.0815,
           -3.02475
          ],
          [
           -2.99,
           -2.91525,
           -2.82625,
           -2.685,
           -2.55925,
           -2.45775,
           -2.4085,
           -2.36875,
           -2.43875,
           -2.5185,
           -2.66425,
           -2.75675,
           -2.921,
           -3.00925,
           -3.02675,
           -3.033,
           -2.96425,
           -2.898,
           -2.77375,
           -2.6475,
           -2.48775,
           -2.41925,
           -2.4055,
           -2.42575,
           -2.48875,
           -2.57575,
           -2.7165,
           -2.823,
           -2.9645,
           -3.02575,
           -3.058,
           -2.98875
          ],
          [
           -3.01,
           -2.9635,
           -2.873,
           -2.75175,
           -2.674,
           -2.564,
           -2.50175,
           -2.50375,
           -2.4845,
           -2.55375,
           -2.631,
           -2.73225,
           -2.82825,
           -2.89975,
           -3.014,
           -3.00775,
           -3.0085,
           -2.9265,
           -2.8295,
           -2.7285,
           -2.63775,
           -2.5795,
           -2.48325,
           -2.461,
           -2.47475,
           -2.5545,
           -2.655,
           -2.74975,
           -2.8555,
           -2.94175,
           -2.9925,
           -3.04
          ],
          [
           -2.98725,
           -3.00175,
           -2.94,
           -2.887,
           -2.772,
           -2.65975,
           -2.556,
           -2.5005,
           -2.50325,
           -2.49875,
           -2.553,
           -2.63075,
           -2.747,
           -2.84975,
           -2.94325,
           -3.0045,
           -2.99325,
           -3,
           -2.90925,
           -2.82575,
           -2.73325,
           -2.654,
           -2.5655,
           -2.52225,
           -2.4735,
           -2.50925,
           -2.584,
           -2.67325,
           -2.77475,
           -2.8645,
           -2.94225,
           -2.984
          ],
          [
           -3.0145,
           -3.027,
           -3.01525,
           -2.97425,
           -2.844,
           -2.739,
           -2.5975,
           -2.526,
           -2.485,
           -2.428,
           -2.44925,
           -2.524,
           -2.62775,
           -2.724,
           -2.88475,
           -2.93675,
           -3.01975,
           -3.05925,
           -2.9955,
           -2.90675,
           -2.819,
           -2.69675,
           -2.593,
           -2.5175,
           -2.426,
           -2.4735,
           -2.50225,
           -2.57075,
           -2.6895,
           -2.795,
           -2.8825,
           -2.9685
          ],
          [
           -2.9775,
           -3.08975,
           -3.08725,
           -3.02625,
           -2.92225,
           -2.7885,
           -2.62925,
           -2.49575,
           -2.4115,
           -2.32625,
           -2.3225,
           -2.36925,
           -2.5,
           -2.66375,
           -2.76325,
           -2.93575,
           -3.06175,
           -3.078,
           -3.0625,
           -2.98125,
           -2.87525,
           -2.7275,
           -2.59725,
           -2.4475,
           -2.366,
           -2.31025,
           -2.35925,
           -2.42975,
           -2.5415,
           -2.65875,
           -2.8255,
           -2.9595
          ],
          [
           -2.97625,
           -3.08625,
           -3.1215,
           -3.062,
           -2.9705,
           -2.80575,
           -2.61375,
           -2.4495,
           -2.30175,
           -2.16225,
           -2.17625,
           -2.28325,
           -2.36525,
           -2.5695,
           -2.723,
           -2.86075,
           -3.015,
           -3.13725,
           -3.09675,
           -3.05375,
           -2.932,
           -2.765,
           -2.55775,
           -2.42625,
           -2.26525,
           -2.18225,
           -2.20075,
           -2.25225,
           -2.422,
           -2.59975,
           -2.7605,
           -2.9045
          ],
          [
           -3.00725,
           -3.14475,
           -3.1665,
           -3.1535,
           -3.0135,
           -2.8275,
           -2.60075,
           -2.38225,
           -2.21375,
           -2.07375,
           -2.01825,
           -2.14575,
           -2.24175,
           -2.413,
           -2.666,
           -2.835,
           -3.03875,
           -3.17825,
           -3.186,
           -3.11675,
           -2.9515,
           -2.76825,
           -2.52225,
           -2.33325,
           -2.1805,
           -2.066,
           -2.07125,
           -2.13425,
           -2.3085,
           -2.518,
           -2.70525,
           -2.923
          ],
          [
           -3.02125,
           -3.14825,
           -3.227,
           -3.1975,
           -3.06375,
           -2.847,
           -2.5895,
           -2.341,
           -2.12425,
           -1.976,
           -1.91625,
           -1.9665,
           -2.1185,
           -2.33775,
           -2.5835,
           -2.84525,
           -3.06025,
           -3.1845,
           -3.2335,
           -3.16225,
           -2.987,
           -2.75725,
           -2.53025,
           -2.27925,
           -2.05325,
           -1.95575,
           -1.915,
           -2.00725,
           -2.17,
           -2.40675,
           -2.67675,
           -2.93025
          ],
          [
           -3.00175,
           -3.1915,
           -3.26125,
           -3.24075,
           -3.09,
           -2.86525,
           -2.5725,
           -2.31375,
           -2.0995,
           -1.90675,
           -1.852,
           -1.86825,
           -2.04375,
           -2.27475,
           -2.53625,
           -2.8065,
           -3.0825,
           -3.215,
           -3.2655,
           -3.21825,
           -3.01225,
           -2.7965,
           -2.50275,
           -2.2575,
           -2.00025,
           -1.88325,
           -1.806,
           -1.8795,
           -2.07725,
           -2.37125,
           -2.641,
           -2.912
          ],
          [
           -3.01975,
           -3.211,
           -3.2895,
           -3.29675,
           -3.14525,
           -2.9265,
           -2.63625,
           -2.3705,
           -2.06875,
           -1.866,
           -1.788,
           -1.8355,
           -1.9695,
           -2.2375,
           -2.51175,
           -2.78575,
           -3.0685,
           -3.227,
           -3.299,
           -3.254,
           -3.08025,
           -2.83775,
           -2.54675,
           -2.2795,
           -1.99225,
           -1.84025,
           -1.81475,
           -1.8655,
           -2.083,
           -2.325,
           -2.6035,
           -2.89375
          ],
          [
           -3.008,
           -3.2235,
           -3.3175,
           -3.3225,
           -3.212,
           -2.9675,
           -2.67625,
           -2.40575,
           -2.119,
           -1.90725,
           -1.77725,
           -1.84125,
           -1.981,
           -2.19525,
           -2.47025,
           -2.815,
           -3.05375,
           -3.246,
           -3.3255,
           -3.28525,
           -3.122,
           -2.89425,
           -2.61825,
           -2.29175,
           -2.02175,
           -1.84825,
           -1.801,
           -1.87275,
           -2.0515,
           -2.31225,
           -2.59175,
           -2.89225
          ],
          [
           -3.0005,
           -3.2005,
           -3.329,
           -3.32175,
           -3.2405,
           -3.044,
           -2.76975,
           -2.48975,
           -2.18625,
           -2.011,
           -1.9055,
           -1.89875,
           -2.01125,
           -2.23575,
           -2.525,
           -2.80525,
           -3.0705,
           -3.2895,
           -3.34975,
           -3.33,
           -3.19175,
           -2.98325,
           -2.6985,
           -2.40375,
           -2.12875,
           -1.974,
           -1.86625,
           -1.937,
           -2.04275,
           -2.29075,
           -2.599,
           -2.89
          ],
          [
           -2.97675,
           -3.22425,
           -3.33125,
           -3.36375,
           -3.286,
           -3.1225,
           -2.88975,
           -2.59375,
           -2.33675,
           -2.12975,
           -2.039,
           -2.01625,
           -2.1205,
           -2.29075,
           -2.5665,
           -2.82325,
           -3.0655,
           -3.24125,
           -3.36075,
           -3.35575,
           -3.22425,
           -3.04025,
           -2.812,
           -2.50375,
           -2.267,
           -2.1025,
           -2.04425,
           -2.03025,
           -2.14575,
           -2.38525,
           -2.5955,
           -2.905
          ],
          [
           -2.97425,
           -3.20775,
           -3.302,
           -3.35475,
           -3.31075,
           -3.1695,
           -2.96675,
           -2.7495,
           -2.49225,
           -2.32825,
           -2.1805,
           -2.166,
           -2.24525,
           -2.417,
           -2.5885,
           -2.813,
           -3.067,
           -3.2345,
           -3.3325,
           -3.3525,
           -3.25375,
           -3.11425,
           -2.88225,
           -2.65825,
           -2.4425,
           -2.26275,
           -2.1905,
           -2.1975,
           -2.293,
           -2.46125,
           -2.67075,
           -2.88825
          ],
          [
           -2.997,
           -3.1695,
           -3.29525,
           -3.3365,
           -3.28975,
           -3.19925,
           -3.03725,
           -2.838,
           -2.66975,
           -2.502,
           -2.41,
           -2.39525,
           -2.42575,
           -2.50975,
           -2.6675,
           -2.863,
           -3.0515,
           -3.21375,
           -3.30575,
           -3.3235,
           -3.282,
           -3.16,
           -3.021,
           -2.78125,
           -2.62175,
           -2.43875,
           -2.374,
           -2.37875,
           -2.439,
           -2.54975,
           -2.708,
           -2.93275
          ],
          [
           -3.013,
           -3.14275,
           -3.21825,
           -3.27775,
           -3.2505,
           -3.17275,
           -3.105,
           -2.9425,
           -2.82,
           -2.682,
           -2.61075,
           -2.581,
           -2.57025,
           -2.6445,
           -2.7585,
           -2.91,
           -3.048,
           -3.17475,
           -3.247,
           -3.2615,
           -3.2685,
           -3.17075,
           -3.0525,
           -2.9235,
           -2.77275,
           -2.6725,
           -2.59575,
           -2.60175,
           -2.586,
           -2.684,
           -2.8035,
           -2.941
          ],
          [
           -3.01325,
           -3.081,
           -3.12925,
           -3.167,
           -3.1835,
           -3.14125,
           -3.09525,
           -3.01875,
           -2.90225,
           -2.842,
           -2.785,
           -2.79075,
           -2.749,
           -2.8175,
           -2.855,
           -2.94775,
           -3.0455,
           -3.10025,
           -3.141,
           -3.1545,
           -3.164,
           -3.15425,
           -3.053,
           -3.00675,
           -2.94825,
           -2.86625,
           -2.801,
           -2.774,
           -2.7735,
           -2.818,
           -2.854,
           -2.95275
          ],
          [
           -2.9845,
           -3.026,
           -3.0555,
           -3.063,
           -3.0625,
           -3.041,
           -3.047,
           -3.0235,
           -3.007,
           -2.98525,
           -2.93225,
           -2.932,
           -2.93425,
           -2.93375,
           -2.97775,
           -2.982,
           -3.008,
           -3.0325,
           -3.06375,
           -3.0655,
           -3.057,
           -3.04075,
           -3.0375,
           -2.99625,
           -2.95875,
           -2.9645,
           -2.95175,
           -2.931,
           -2.94775,
           -2.944,
           -2.9675,
           -2.978
          ]
         ]
        },
        {
         "marker": {
          "color": "white",
          "line": {
           "width": 1
          },
          "size": 8,
          "symbol": [
           200
          ]
         },
         "mode": "lines",
         "type": "scatter",
         "x": [
          0.6,
          0.63,
          0.6,
          0.63,
          0.645,
          0.6150000000000001,
          0.6075000000000002,
          0.6525000000000002,
          0.6150000000000002,
          0.6000000000000003,
          0.5550000000000003,
          0.5062500000000003,
          0.49875000000000047,
          0.44437500000000063,
          0.35062500000000063,
          0.28875000000000095,
          0.45187500000000047,
          0.3431250000000008,
          0.42468750000000055,
          0.5184375000000006,
          0.3925781250000006,
          0.3728906250000006,
          0.3371484375000007,
          0.3050390625000008,
          0.24960937500000085,
          0.2817187500000007,
          0.29920898437500076,
          0.3867480468750006,
          0.28389404296875076,
          0.32183349609375067,
          0.30486511230468827,
          0.3581195068359382,
          0.3258361816406258,
          0.27258178710937586,
          0.3367350769042976,
          0.315350646972657,
          0.3314923095703132,
          0.3210067749023444,
          0.31676467895507887,
          0.2901374816894539,
          0.3211536026000984,
          0.31081489562988357,
          0.3241284942626961,
          0.3300782775878914,
          0.32271446228027423,
          0.3237749862670906,
          0.31046138763427816,
          0.32517405509948805,
          0.32026983261108477,
          0.32342147827148515,
          0.31991632461547925,
          0.31973957061767644,
          0.32657312393188553,
          0.3192167901992805,
          0.3216689014434822,
          0.31834050178527906,
          0.32324472427368234,
          0.3214921474456794,
          0.3216247129440315,
          0.3215805244445808,
          0.3207926130294807,
          0.31912841320037916,
          0.3209674966335304,
          0.32035446882248,
          0.3211865687370308,
          0.3199605131149299,
          0.3203986573219306,
          0.3212307572364814,
          0.3202780741453178,
          0.32059563517570566,
          0.3203765630722053,
          0.32057354092598034,
          0.32098959088325574,
          0.32083633393049316,
          0.3206830769777305,
          0.320584588050843,
          0.32089110195636816,
          0.32100063800811834,
          0.3209021490812308,
          0.32089386373758383,
          0.32089938730001516,
          0.32089524462819163,
          0.3208966255187995,
          0.32084323838353224,
          0.32073922589421344,
          0.32077857580035996,
          0.32081792570650647,
          0.3208446192741401,
          0.32076591946184707,
          0.3207855944149203,
          0.3208052693679936,
          0.3208186161518104,
          0.3208059598132975,
          0.3208054419793196,
          0.3207794388569899,
          0.3208088218281053,
          0.32079902750440015,
          0.32080561459064555,
          0.3207860259432353,
          0.32079092310508783,
          0.3207958202669404,
          0.3207991138100631,
          0.320789319486358,
          0.32079666522913686,
          0.32079421664821056,
          0.3207958634197719,
          0.320794259801042,
          0.32079424901283415,
          0.32079423822462627,
          0.3207934148388456,
          0.32079343641526137,
          0.3207934310211574,
          0.3207934256270535,
          0.32079301393416315,
          0.32079220133659037,
          0.3207918004319079,
          0.32079221212479825,
          0.32079220403364234,
          0.3207922067306943,
          0.32079240718303553,
          0.3207924125771395,
          0.32079241122861346,
          0.32079281752739985,
          0.3207930193282671,
          0.3207925632535269,
          0.3207927152784403,
          0.3207925121290471,
          0.32079281617887384,
          0.3207925881415038,
          0.32079266415396046,
          0.3207925625792639,
          0.32079271460417724,
          0.3207926765979489,
          0.3207926385917206,
          0.3207925878043723,
          0.3207925622421324,
          0.3207925813295294,
          0.32079261950432353,
          0.320792590873228,
          0.3207926004169265,
          0.32079259717950503,
          0.32079260979205926,
          0.32079260744827603,
          0.32079262329825176,
          0.3207926288794564,
          0.32079262352166127,
          0.3207926181638662,
          0.3207926102388784,
          0.3207926209544686,
          0.32079261291777594,
          0.3207926077833904,
          0.3207926155687473,
          0.3207926129736283,
          0.3207926155966735,
          0.3207926104064355,
          0.32079261046228785,
          0.320792613085333,
          0.32079261107615986,
          0.32079261241560864,
          0.32079261141102206,
          0.32079261174588425,
          0.3207926120528203,
          0.32079261333641673,
          0.32079261431307715,
          0.3207926126178845,
          0.32079261374801293,
          0.3207926134654808,
          0.3207926129004166,
          0.32079261304168266,
          0.32079261332421477,
          0.32079261311231566,
          0.3207926131829487,
          0.3207926130355817,
          0.3207926131768477,
          0.32079261314153124,
          0.3207926131062147,
          0.3207926130325312,
          0.32079261295579714,
          0.3207926129527467,
          0.3207926130264303,
          0.32079261310316426,
          0.3207926129903511,
          0.32079261306555984,
          0.32079261306861023,
          0.32079261303697526,
          0.3207926130008961,
          0.3207926130493939,
          0.320792613033228,
          0.32079261305126755,
          0.3207926130550149,
          0.3207926130386747,
          0.3207926130243824,
          0.32079261304454626,
          0.32079261303782497,
          0.32079261304412143,
          0.3207926130432717,
          0.3207926130419101,
          0.32079261304054835,
          0.32079261303740014,
          0.3207926130401235,
          0.320792613038081,
          0.3207926130394427,
          0.32079261303842144,
          0.32079261303876183,
          0.32079261303752815,
          0.32079261303820894,
          0.32079261303642237,
          0.3207926130351887,
          0.3207926130374539,
          0.32079261303800677,
          0.32079261303752815,
          0.3207926130375096,
          0.320792613037491,
          0.32079261303721457,
          0.32079261303725176,
          0.32079261303722384,
          0.3207926130367081,
          0.3207926130372953,
          0.32079261303709955,
          0.32079261303723317,
          0.3207926130368417,
          0.3207926130367174,
          0.320792613037004,
          0.32079261303681295,
          0.3207926130369465,
          0.3207926130368679,
          0.3207926130368941,
          0.3207926130369085,
          0.3207926130369609,
          0.320792613037042,
          0.3207926130369311,
          0.32079261303696804,
          0.3207926130369347,
          0.3207926130370086,
          0.3207926130370158,
          0.3207926130369824
         ],
         "y": [
          1.3,
          1.3,
          1.3650000000000002,
          1.365,
          1.3975,
          1.4625000000000001,
          1.5437500000000006,
          1.5762500000000004,
          1.722500000000001,
          1.8850000000000016,
          1.8525000000000018,
          1.9906250000000023,
          2.3318750000000033,
          2.725937500000005,
          2.8315625000000058,
          0.42687500000000833,
          2.3846875000000036,
          0.03281250000000702,
          2.5817187500000047,
          2.476093750000004,
          2.7426953125000053,
          2.5984765625000046,
          2.5347460937500044,
          2.6957226562500045,
          2.4877734375000036,
          2.326796875000004,
          2.6034912109375044,
          2.6504638671875056,
          2.5284460449218793,
          2.4597009277343793,
          2.567543640136723,
          2.573843688964848,
          2.6066412353515664,
          2.6003411865234414,
          2.5804680633544965,
          2.5870924377441447,
          2.5706936645507854,
          2.5511448669433636,
          2.5781055450439494,
          2.574955520629887,
          2.5717591285705605,
          2.572824592590336,
          2.5743996047973674,
          2.5796805572509807,
          2.583386497497562,
          2.576646327972416,
          2.5750713157653853,
          2.578528246879582,
          2.577375936508183,
          2.578893051147465,
          2.5796226596832312,
          2.5807460212707554,
          2.5804101657867466,
          2.578681700229649,
          2.579257855415348,
          2.5788641023635903,
          2.5800164127349885,
          2.5803812170028713,
          2.5795386958122286,
          2.5798195362091096,
          2.5794402575492894,
          2.579243381023411,
          2.579675497412685,
          2.5795314586162603,
          2.5796298968791995,
          2.5793418192863498,
          2.5792506182193784,
          2.5793490564823185,
          2.5793436285853417,
          2.579345437884334,
          2.5793910384178194,
          2.5794858580827746,
          2.5795350772142447,
          2.5794990675151386,
          2.579463057816032,
          2.5794156479835544,
          2.5794876673817675,
          2.5794648671150244,
          2.579417457282546,
          2.579470114856962,
          2.5794350098073515,
          2.5794613385945593,
          2.5794525623321567,
          2.5794551862031256,
          2.579442881420259,
          2.5794453016482333,
          2.5794477218762077,
          2.579446409940723,
          2.579441569484774,
          2.5794427795987613,
          2.5794439897127486,
          2.5794433337450062,
          2.579439601581547,
          2.579442892679948,
          2.579439816484231,
          2.5794424544298122,
          2.5794415751146187,
          2.579441795647148,
          2.5794400370167607,
          2.5794404766743577,
          2.5794409163319543,
          2.579441026598219,
          2.579440147283025,
          2.57944080676942,
          2.579440586940622,
          2.579440642073754,
          2.5794403126824217,
          2.5794403812469717,
          2.5794404498115218,
          2.5794404222449554,
          2.579440285115856,
          2.579440319398131,
          2.579440353680406,
          2.5794403398971224,
          2.5794402437660064,
          2.5794401614181734,
          2.579440175201457,
          2.579440226624869,
          2.5794402094837316,
          2.579440250657648,
          2.579440216375373,
          2.579440224945942,
          2.5794402730114996,
          2.579440305614847,
          2.579440245113168,
          2.5794402652803945,
          2.5794402412476156,
          2.579440281582068,
          2.5794402513312287,
          2.5794402614148417,
          2.5794402493984525,
          2.5794402695656786,
          2.579440264523872,
          2.5794402594820656,
          2.579440253473871,
          2.579440251541095,
          2.5794402535263377,
          2.579440257496823,
          2.5794402545189588,
          2.5794402555115803,
          2.5794402555378135,
          2.579440257575523,
          2.579440257059537,
          2.579440259071013,
          2.579440259560765,
          2.579440258935458,
          2.579440258310151,
          2.5794402573044133,
          2.579440258555027,
          2.5794402576170667,
          2.5794402568562047,
          2.5794402579466644,
          2.579440257583178,
          2.57944025792972,
          2.579440257202747,
          2.5794402571688586,
          2.579440257515401,
          2.5794402572809103,
          2.5794402574372377,
          2.579440257319992,
          2.579440257359074,
          2.5794402574151,
          2.5794402576053153,
          2.5794402577395052,
          2.579440257496201,
          2.579440257658404,
          2.5794402576178532,
          2.579440257536752,
          2.579440257557027,
          2.579440257597578,
          2.579440257567165,
          2.5794402575773026,
          2.5794402575531583,
          2.5794402575734336,
          2.579440257568365,
          2.579440257563296,
          2.579440257551224,
          2.5794402575372173,
          2.579440257535283,
          2.579440257547355,
          2.5794402575613615,
          2.5794402575418025,
          2.579440257554842,
          2.5794402575567767,
          2.5794402575497104,
          2.579440257544158,
          2.5794402575521707,
          2.5794402575495,
          2.5794402575522763,
          2.579440257552487,
          2.579440257550247,
          2.579440257547681,
          2.5794402575511275,
          2.5794402575499786,
          2.5794402575509934,
          2.5794402575507247,
          2.579440257550538,
          2.5794402575503517,
          2.5794402575498445,
          2.5794402575502176,
          2.5794402575499378,
          2.5794402575501243,
          2.5794402575499844,
          2.579440257550031,
          2.579440257549824,
          2.5794402575499173,
          2.5794402575495967,
          2.5794402575493898,
          2.5794402575497855,
          2.5794402575498987,
          2.5794402575498236,
          2.5794402575498143,
          2.5794402575498045,
          2.5794402575497477,
          2.5794402575497672,
          2.5794402575497526,
          2.579440257549659,
          2.579440257549768,
          2.5794402575497317,
          2.5794402575497575,
          2.5794402575496846,
          2.5794402575496633,
          2.579440257549715,
          2.57944025754968,
          2.579440257549706,
          2.57944025754969,
          2.5794402575496953,
          2.5794402575496975,
          2.579440257549708,
          2.5794402575497237,
          2.5794402575497024,
          2.5794402575497095,
          2.579440257549703,
          2.579440257549717,
          2.5794402575497184,
          2.5794402575497117
         ]
        },
        {
         "marker": {
          "color": "red",
          "line": {
           "width": 1
          },
          "size": 16,
          "symbol": [
           204
          ]
         },
         "mode": "markers",
         "type": "scatter",
         "x": [
          1.3
         ],
         "y": [
          0.6000000000000001
         ]
        },
        {
         "marker": {
          "color": "gray",
          "line": {
           "width": 1
          },
          "size": 16,
          "symbol": [
           204
          ]
         },
         "mode": "markers",
         "type": "scatter",
         "x": [
          0.6
         ],
         "y": [
          1.3
         ]
        },
        {
         "marker": {
          "color": "green",
          "line": {
           "width": 1
          },
          "size": 16,
          "symbol": [
           204
          ]
         },
         "mode": "markers",
         "type": "scatter",
         "x": [
          0.3207926130369824
         ],
         "y": [
          2.5794402575497117
         ]
        }
       ],
       "layout": {
        "height": 700,
        "template": {
         "data": {
          "bar": [
           {
            "error_x": {
             "color": "#2a3f5f"
            },
            "error_y": {
             "color": "#2a3f5f"
            },
            "marker": {
             "line": {
              "color": "#E5ECF6",
              "width": 0.5
             },
             "pattern": {
              "fillmode": "overlay",
              "size": 10,
              "solidity": 0.2
             }
            },
            "type": "bar"
           }
          ],
          "barpolar": [
           {
            "marker": {
             "line": {
              "color": "#E5ECF6",
              "width": 0.5
             },
             "pattern": {
              "fillmode": "overlay",
              "size": 10,
              "solidity": 0.2
             }
            },
            "type": "barpolar"
           }
          ],
          "carpet": [
           {
            "aaxis": {
             "endlinecolor": "#2a3f5f",
             "gridcolor": "white",
             "linecolor": "white",
             "minorgridcolor": "white",
             "startlinecolor": "#2a3f5f"
            },
            "baxis": {
             "endlinecolor": "#2a3f5f",
             "gridcolor": "white",
             "linecolor": "white",
             "minorgridcolor": "white",
             "startlinecolor": "#2a3f5f"
            },
            "type": "carpet"
           }
          ],
          "choropleth": [
           {
            "colorbar": {
             "outlinewidth": 0,
             "ticks": ""
            },
            "type": "choropleth"
           }
          ],
          "contour": [
           {
            "colorbar": {
             "outlinewidth": 0,
             "ticks": ""
            },
            "colorscale": [
             [
              0,
              "#0d0887"
             ],
             [
              0.1111111111111111,
              "#46039f"
             ],
             [
              0.2222222222222222,
              "#7201a8"
             ],
             [
              0.3333333333333333,
              "#9c179e"
             ],
             [
              0.4444444444444444,
              "#bd3786"
             ],
             [
              0.5555555555555556,
              "#d8576b"
             ],
             [
              0.6666666666666666,
              "#ed7953"
             ],
             [
              0.7777777777777778,
              "#fb9f3a"
             ],
             [
              0.8888888888888888,
              "#fdca26"
             ],
             [
              1,
              "#f0f921"
             ]
            ],
            "type": "contour"
           }
          ],
          "contourcarpet": [
           {
            "colorbar": {
             "outlinewidth": 0,
             "ticks": ""
            },
            "type": "contourcarpet"
           }
          ],
          "heatmap": [
           {
            "colorbar": {
             "outlinewidth": 0,
             "ticks": ""
            },
            "colorscale": [
             [
              0,
              "#0d0887"
             ],
             [
              0.1111111111111111,
              "#46039f"
             ],
             [
              0.2222222222222222,
              "#7201a8"
             ],
             [
              0.3333333333333333,
              "#9c179e"
             ],
             [
              0.4444444444444444,
              "#bd3786"
             ],
             [
              0.5555555555555556,
              "#d8576b"
             ],
             [
              0.6666666666666666,
              "#ed7953"
             ],
             [
              0.7777777777777778,
              "#fb9f3a"
             ],
             [
              0.8888888888888888,
              "#fdca26"
             ],
             [
              1,
              "#f0f921"
             ]
            ],
            "type": "heatmap"
           }
          ],
          "heatmapgl": [
           {
            "colorbar": {
             "outlinewidth": 0,
             "ticks": ""
            },
            "colorscale": [
             [
              0,
              "#0d0887"
             ],
             [
              0.1111111111111111,
              "#46039f"
             ],
             [
              0.2222222222222222,
              "#7201a8"
             ],
             [
              0.3333333333333333,
              "#9c179e"
             ],
             [
              0.4444444444444444,
              "#bd3786"
             ],
             [
              0.5555555555555556,
              "#d8576b"
             ],
             [
              0.6666666666666666,
              "#ed7953"
             ],
             [
              0.7777777777777778,
              "#fb9f3a"
             ],
             [
              0.8888888888888888,
              "#fdca26"
             ],
             [
              1,
              "#f0f921"
             ]
            ],
            "type": "heatmapgl"
           }
          ],
          "histogram": [
           {
            "marker": {
             "pattern": {
              "fillmode": "overlay",
              "size": 10,
              "solidity": 0.2
             }
            },
            "type": "histogram"
           }
          ],
          "histogram2d": [
           {
            "colorbar": {
             "outlinewidth": 0,
             "ticks": ""
            },
            "colorscale": [
             [
              0,
              "#0d0887"
             ],
             [
              0.1111111111111111,
              "#46039f"
             ],
             [
              0.2222222222222222,
              "#7201a8"
             ],
             [
              0.3333333333333333,
              "#9c179e"
             ],
             [
              0.4444444444444444,
              "#bd3786"
             ],
             [
              0.5555555555555556,
              "#d8576b"
             ],
             [
              0.6666666666666666,
              "#ed7953"
             ],
             [
              0.7777777777777778,
              "#fb9f3a"
             ],
             [
              0.8888888888888888,
              "#fdca26"
             ],
             [
              1,
              "#f0f921"
             ]
            ],
            "type": "histogram2d"
           }
          ],
          "histogram2dcontour": [
           {
            "colorbar": {
             "outlinewidth": 0,
             "ticks": ""
            },
            "colorscale": [
             [
              0,
              "#0d0887"
             ],
             [
              0.1111111111111111,
              "#46039f"
             ],
             [
              0.2222222222222222,
              "#7201a8"
             ],
             [
              0.3333333333333333,
              "#9c179e"
             ],
             [
              0.4444444444444444,
              "#bd3786"
             ],
             [
              0.5555555555555556,
              "#d8576b"
             ],
             [
              0.6666666666666666,
              "#ed7953"
             ],
             [
              0.7777777777777778,
              "#fb9f3a"
             ],
             [
              0.8888888888888888,
              "#fdca26"
             ],
             [
              1,
              "#f0f921"
             ]
            ],
            "type": "histogram2dcontour"
           }
          ],
          "mesh3d": [
           {
            "colorbar": {
             "outlinewidth": 0,
             "ticks": ""
            },
            "type": "mesh3d"
           }
          ],
          "parcoords": [
           {
            "line": {
             "colorbar": {
              "outlinewidth": 0,
              "ticks": ""
             }
            },
            "type": "parcoords"
           }
          ],
          "pie": [
           {
            "automargin": true,
            "type": "pie"
           }
          ],
          "scatter": [
           {
            "marker": {
             "colorbar": {
              "outlinewidth": 0,
              "ticks": ""
             }
            },
            "type": "scatter"
           }
          ],
          "scatter3d": [
           {
            "line": {
             "colorbar": {
              "outlinewidth": 0,
              "ticks": ""
             }
            },
            "marker": {
             "colorbar": {
              "outlinewidth": 0,
              "ticks": ""
             }
            },
            "type": "scatter3d"
           }
          ],
          "scattercarpet": [
           {
            "marker": {
             "colorbar": {
              "outlinewidth": 0,
              "ticks": ""
             }
            },
            "type": "scattercarpet"
           }
          ],
          "scattergeo": [
           {
            "marker": {
             "colorbar": {
              "outlinewidth": 0,
              "ticks": ""
             }
            },
            "type": "scattergeo"
           }
          ],
          "scattergl": [
           {
            "marker": {
             "colorbar": {
              "outlinewidth": 0,
              "ticks": ""
             }
            },
            "type": "scattergl"
           }
          ],
          "scattermapbox": [
           {
            "marker": {
             "colorbar": {
              "outlinewidth": 0,
              "ticks": ""
             }
            },
            "type": "scattermapbox"
           }
          ],
          "scatterpolar": [
           {
            "marker": {
             "colorbar": {
              "outlinewidth": 0,
              "ticks": ""
             }
            },
            "type": "scatterpolar"
           }
          ],
          "scatterpolargl": [
           {
            "marker": {
             "colorbar": {
              "outlinewidth": 0,
              "ticks": ""
             }
            },
            "type": "scatterpolargl"
           }
          ],
          "scatterternary": [
           {
            "marker": {
             "colorbar": {
              "outlinewidth": 0,
              "ticks": ""
             }
            },
            "type": "scatterternary"
           }
          ],
          "surface": [
           {
            "colorbar": {
             "outlinewidth": 0,
             "ticks": ""
            },
            "colorscale": [
             [
              0,
              "#0d0887"
             ],
             [
              0.1111111111111111,
              "#46039f"
             ],
             [
              0.2222222222222222,
              "#7201a8"
             ],
             [
              0.3333333333333333,
              "#9c179e"
             ],
             [
              0.4444444444444444,
              "#bd3786"
             ],
             [
              0.5555555555555556,
              "#d8576b"
             ],
             [
              0.6666666666666666,
              "#ed7953"
             ],
             [
              0.7777777777777778,
              "#fb9f3a"
             ],
             [
              0.8888888888888888,
              "#fdca26"
             ],
             [
              1,
              "#f0f921"
             ]
            ],
            "type": "surface"
           }
          ],
          "table": [
           {
            "cells": {
             "fill": {
              "color": "#EBF0F8"
             },
             "line": {
              "color": "white"
             }
            },
            "header": {
             "fill": {
              "color": "#C8D4E3"
             },
             "line": {
              "color": "white"
             }
            },
            "type": "table"
           }
          ]
         },
         "layout": {
          "annotationdefaults": {
           "arrowcolor": "#2a3f5f",
           "arrowhead": 0,
           "arrowwidth": 1
          },
          "autotypenumbers": "strict",
          "coloraxis": {
           "colorbar": {
            "outlinewidth": 0,
            "ticks": ""
           }
          },
          "colorscale": {
           "diverging": [
            [
             0,
             "#8e0152"
            ],
            [
             0.1,
             "#c51b7d"
            ],
            [
             0.2,
             "#de77ae"
            ],
            [
             0.3,
             "#f1b6da"
            ],
            [
             0.4,
             "#fde0ef"
            ],
            [
             0.5,
             "#f7f7f7"
            ],
            [
             0.6,
             "#e6f5d0"
            ],
            [
             0.7,
             "#b8e186"
            ],
            [
             0.8,
             "#7fbc41"
            ],
            [
             0.9,
             "#4d9221"
            ],
            [
             1,
             "#276419"
            ]
           ],
           "sequential": [
            [
             0,
             "#0d0887"
            ],
            [
             0.1111111111111111,
             "#46039f"
            ],
            [
             0.2222222222222222,
             "#7201a8"
            ],
            [
             0.3333333333333333,
             "#9c179e"
            ],
            [
             0.4444444444444444,
             "#bd3786"
            ],
            [
             0.5555555555555556,
             "#d8576b"
            ],
            [
             0.6666666666666666,
             "#ed7953"
            ],
            [
             0.7777777777777778,
             "#fb9f3a"
            ],
            [
             0.8888888888888888,
             "#fdca26"
            ],
            [
             1,
             "#f0f921"
            ]
           ],
           "sequentialminus": [
            [
             0,
             "#0d0887"
            ],
            [
             0.1111111111111111,
             "#46039f"
            ],
            [
             0.2222222222222222,
             "#7201a8"
            ],
            [
             0.3333333333333333,
             "#9c179e"
            ],
            [
             0.4444444444444444,
             "#bd3786"
            ],
            [
             0.5555555555555556,
             "#d8576b"
            ],
            [
             0.6666666666666666,
             "#ed7953"
            ],
            [
             0.7777777777777778,
             "#fb9f3a"
            ],
            [
             0.8888888888888888,
             "#fdca26"
            ],
            [
             1,
             "#f0f921"
            ]
           ]
          },
          "colorway": [
           "#636efa",
           "#EF553B",
           "#00cc96",
           "#ab63fa",
           "#FFA15A",
           "#19d3f3",
           "#FF6692",
           "#B6E880",
           "#FF97FF",
           "#FECB52"
          ],
          "font": {
           "color": "#2a3f5f"
          },
          "geo": {
           "bgcolor": "white",
           "lakecolor": "white",
           "landcolor": "#E5ECF6",
           "showlakes": true,
           "showland": true,
           "subunitcolor": "white"
          },
          "hoverlabel": {
           "align": "left"
          },
          "hovermode": "closest",
          "mapbox": {
           "style": "light"
          },
          "paper_bgcolor": "white",
          "plot_bgcolor": "#E5ECF6",
          "polar": {
           "angularaxis": {
            "gridcolor": "white",
            "linecolor": "white",
            "ticks": ""
           },
           "bgcolor": "#E5ECF6",
           "radialaxis": {
            "gridcolor": "white",
            "linecolor": "white",
            "ticks": ""
           }
          },
          "scene": {
           "xaxis": {
            "backgroundcolor": "#E5ECF6",
            "gridcolor": "white",
            "gridwidth": 2,
            "linecolor": "white",
            "showbackground": true,
            "ticks": "",
            "zerolinecolor": "white"
           },
           "yaxis": {
            "backgroundcolor": "#E5ECF6",
            "gridcolor": "white",
            "gridwidth": 2,
            "linecolor": "white",
            "showbackground": true,
            "ticks": "",
            "zerolinecolor": "white"
           },
           "zaxis": {
            "backgroundcolor": "#E5ECF6",
            "gridcolor": "white",
            "gridwidth": 2,
            "linecolor": "white",
            "showbackground": true,
            "ticks": "",
            "zerolinecolor": "white"
           }
          },
          "shapedefaults": {
           "line": {
            "color": "#2a3f5f"
           }
          },
          "ternary": {
           "aaxis": {
            "gridcolor": "white",
            "linecolor": "white",
            "ticks": ""
           },
           "baxis": {
            "gridcolor": "white",
            "linecolor": "white",
            "ticks": ""
           },
           "bgcolor": "#E5ECF6",
           "caxis": {
            "gridcolor": "white",
            "linecolor": "white",
            "ticks": ""
           }
          },
          "title": {
           "x": 0.05
          },
          "xaxis": {
           "automargin": true,
           "gridcolor": "white",
           "linecolor": "white",
           "ticks": "",
           "title": {
            "standoff": 15
           },
           "zerolinecolor": "white",
           "zerolinewidth": 2
          },
          "yaxis": {
           "automargin": true,
           "gridcolor": "white",
           "linecolor": "white",
           "ticks": "",
           "title": {
            "standoff": 15
           },
           "zerolinecolor": "white",
           "zerolinewidth": 2
          }
         }
        },
        "title": {
         "text": "QAOA MaxCut"
        },
        "width": 700,
        "xaxis": {
         "title": {
          "text": "beta"
         }
        },
        "yaxis": {
         "title": {
          "text": "gamma"
         }
        }
       }
      },
      "text/html": [
       "<div>                            <div id=\"b8090857-5aab-47ea-84d2-0c1b55fb5bb2\" class=\"plotly-graph-div\" style=\"height:700px; width:700px;\"></div>            <script type=\"text/javascript\">                require([\"plotly\"], function(Plotly) {                    window.PLOTLYENV=window.PLOTLYENV || {};                                    if (document.getElementById(\"b8090857-5aab-47ea-84d2-0c1b55fb5bb2\")) {                    Plotly.newPlot(                        \"b8090857-5aab-47ea-84d2-0c1b55fb5bb2\",                        [{\"colorscale\":[[0.0,\"#440154\"],[0.1111111111111111,\"#482878\"],[0.2222222222222222,\"#3e4989\"],[0.3333333333333333,\"#31688e\"],[0.4444444444444444,\"#26828e\"],[0.5555555555555556,\"#1f9e89\"],[0.6666666666666666,\"#35b779\"],[0.7777777777777778,\"#6ece58\"],[0.8888888888888888,\"#b5de2b\"],[1.0,\"#fde725\"]],\"type\":\"heatmap\",\"x\":[0.0,0.1,0.2,0.30000000000000004,0.4,0.5,0.6000000000000001,0.7000000000000001,0.8,0.9,1.0,1.1,1.2000000000000002,1.3,1.4000000000000001,1.5,1.6,1.7000000000000002,1.8,1.9000000000000001,2.0,2.1,2.2,2.3000000000000003,2.4000000000000004,2.5,2.6,2.7,2.8000000000000003,2.9000000000000004,3.0,3.1],\"y\":[0.0,0.1,0.2,0.30000000000000004,0.4,0.5,0.6000000000000001,0.7000000000000001,0.8,0.9,1.0,1.1,1.2000000000000002,1.3,1.4000000000000001,1.5,1.6,1.7000000000000002,1.8,1.9000000000000001,2.0,2.1,2.2,2.3000000000000003,2.4000000000000004,2.5,2.6,2.7,2.8000000000000003,2.9000000000000004,3.0,3.1],\"z\":[[-2.9775,-3.00625,-2.996,-2.98875,-2.9955,-3.03575,-2.9645,-2.99,-2.97825,-3.01075,-3.00025,-3.0105,-2.99225,-2.98125,-3.0135,-2.99975,-2.9735,-2.99975,-2.99675,-3.0265,-2.99975,-3.009,-2.981,-3.01175,-2.99675,-3.01225,-3.002,-3.00175,-3.01075,-3.005,-2.997,-3.00075],[-3.00125,-2.92325,-2.8895,-2.8595,-2.82775,-2.8375,-2.8645,-2.92275,-2.964,-3.0485,-3.10675,-3.121,-3.1105,-3.117,-3.053,-3.04475,-2.97375,-2.94975,-2.8805,-2.83975,-2.82875,-2.84875,-2.8505,-2.9145,-2.99,-3.07175,-3.11475,-3.1265,-3.1155,-3.0935,-3.06325,-3.0255],[-2.9995,-2.89375,-2.763,-2.71,-2.65975,-2.66125,-2.7065,-2.78325,-2.88875,-3.01025,-3.133,-3.21975,-3.2335,-3.22975,-3.18475,-3.074,-2.96625,-2.8425,-2.74625,-2.68925,-2.64375,-2.69425,-2.7285,-2.8185,-2.91925,-3.0585,-3.14975,-3.23,-3.23175,-3.20475,-3.16175,-3.069],[-3.007,-2.8445,-2.66725,-2.55925,-2.45475,-2.4665,-2.50925,-2.62025,-2.75225,-2.92725,-3.11725,-3.212,-3.3055,-3.26675,-3.24125,-3.12225,-2.95425,-2.7675,-2.652,-2.5295,-2.46875,-2.454,-2.51025,-2.63825,-2.83325,-2.99375,-3.1415,-3.24125,-3.31475,-3.279,-3.2305,-3.0685],[-2.9665,-2.766,-2.56675,-2.392,-2.27925,-2.254,-2.30075,-2.4585,-2.5845,-2.82625,-3.048,-3.194,-3.314,-3.3445,-3.2885,-3.1335,-2.9225,-2.7255,-2.529,-2.38975,-2.268,-2.24275,-2.32525,-2.4795,-2.70975,-2.89875,-3.12225,-3.246,-3.31175,-3.33075,-3.2395,-3.1],[-2.9935,-2.744,-2.49325,-2.2655,-2.1485,-2.07625,-2.10425,-2.29475,-2.48875,-2.7425,-2.9785,-3.1875,-3.3305,-3.3755,-3.29975,-3.17825,-2.94525,-2.657,-2.43875,-2.22075,-2.099,-2.08725,-2.1295,-2.3075,-2.5305,-2.8075,-3.0425,-3.26,-3.33525,-3.35725,-3.27125,-3.101],[-3.01025,-2.7295,-2.44025,-2.189,-1.98325,-1.93225,-1.97975,-2.132,-2.342,-2.58475,-2.90625,-3.144,-3.30975,-3.3895,-3.30175,-3.147,-2.92025,-2.6755,-2.38675,-2.16425,-1.976,-1.9005,-2.03075,-2.1975,-2.42,-2.6825,-2.969,-3.2095,-3.33175,-3.3595,-3.265,-3.09375],[-3.00475,-2.7125,-2.44025,-2.13775,-1.92625,-1.831,-1.86325,-1.99775,-2.25475,-2.53775,-2.81125,-3.04875,-3.25825,-3.35375,-3.31975,-3.1445,-2.90225,-2.62025,-2.33025,-2.1,-1.893,-1.8425,-1.914,-2.04925,-2.27475,-2.617,-2.89825,-3.12625,-3.304,-3.34325,-3.285,-3.11375],[-2.9925,-2.737,-2.4185,-2.16175,-1.9075,-1.81075,-1.78875,-1.9435,-2.16675,-2.4295,-2.7415,-3.00675,-3.19225,-3.31175,-3.2785,-3.1595,-2.915,-2.62975,-2.37325,-2.09375,-1.902,-1.81075,-1.8115,-1.98575,-2.261,-2.52675,-2.8305,-3.0815,-3.26425,-3.31325,-3.26225,-3.09725],[-3.01625,-2.7665,-2.43975,-2.13875,-1.94075,-1.8635,-1.8235,-1.9425,-2.1335,-2.40875,-2.696,-2.96825,-3.17325,-3.288,-3.289,-3.1125,-2.9415,-2.63725,-2.3625,-2.10675,-1.88825,-1.81225,-1.81275,-1.975,-2.206,-2.469,-2.77525,-3.04425,-3.21375,-3.2645,-3.2425,-3.1075],[-2.99375,-2.74,-2.50375,-2.258,-2.0385,-1.92175,-1.882,-1.998,-2.13975,-2.4115,-2.68975,-2.9175,-3.13275,-3.2255,-3.235,-3.1345,-2.91925,-2.68725,-2.44475,-2.1635,-1.9785,-1.845,-1.9245,-2.0335,-2.22775,-2.46325,-2.75425,-3.0005,-3.15625,-3.20325,-3.227,-3.072],[-2.9975,-2.78875,-2.58975,-2.3605,-2.168,-2.01,-2.027,-2.08475,-2.20825,-2.43225,-2.66425,-2.897,-3.0935,-3.1915,-3.1855,-3.108,-2.94975,-2.72925,-2.4755,-2.2525,-2.086,-2.02325,-1.9845,-2.09775,-2.272,-2.517,-2.73025,-2.951,-3.10025,-3.19,-3.145,-3.055],[-2.979,-2.84625,-2.6075,-2.4325,-2.273,-2.186,-2.13375,-2.1705,-2.289,-2.493,-2.70525,-2.86975,-3.01625,-3.133,-3.15,-3.081,-2.956,-2.77525,-2.571,-2.403,-2.245,-2.1755,-2.1225,-2.204,-2.31775,-2.52325,-2.7215,-2.92925,-3.08,-3.15025,-3.13525,-3.03575],[-3.01775,-2.8725,-2.73425,-2.56475,-2.39425,-2.2635,-2.2585,-2.28425,-2.374,-2.54125,-2.67825,-2.8375,-2.98525,-3.06725,-3.09925,-3.059,-2.974,-2.81025,-2.687,-2.48725,-2.379,-2.29025,-2.3175,-2.31625,-2.405,-2.558,-2.7395,-2.88475,-3.00675,-3.0965,-3.0815,-3.02475],[-2.99,-2.91525,-2.82625,-2.685,-2.55925,-2.45775,-2.4085,-2.36875,-2.43875,-2.5185,-2.66425,-2.75675,-2.921,-3.00925,-3.02675,-3.033,-2.96425,-2.898,-2.77375,-2.6475,-2.48775,-2.41925,-2.4055,-2.42575,-2.48875,-2.57575,-2.7165,-2.823,-2.9645,-3.02575,-3.058,-2.98875],[-3.01,-2.9635,-2.873,-2.75175,-2.674,-2.564,-2.50175,-2.50375,-2.4845,-2.55375,-2.631,-2.73225,-2.82825,-2.89975,-3.014,-3.00775,-3.0085,-2.9265,-2.8295,-2.7285,-2.63775,-2.5795,-2.48325,-2.461,-2.47475,-2.5545,-2.655,-2.74975,-2.8555,-2.94175,-2.9925,-3.04],[-2.98725,-3.00175,-2.94,-2.887,-2.772,-2.65975,-2.556,-2.5005,-2.50325,-2.49875,-2.553,-2.63075,-2.747,-2.84975,-2.94325,-3.0045,-2.99325,-3.0,-2.90925,-2.82575,-2.73325,-2.654,-2.5655,-2.52225,-2.4735,-2.50925,-2.584,-2.67325,-2.77475,-2.8645,-2.94225,-2.984],[-3.0145,-3.027,-3.01525,-2.97425,-2.844,-2.739,-2.5975,-2.526,-2.485,-2.428,-2.44925,-2.524,-2.62775,-2.724,-2.88475,-2.93675,-3.01975,-3.05925,-2.9955,-2.90675,-2.819,-2.69675,-2.593,-2.5175,-2.426,-2.4735,-2.50225,-2.57075,-2.6895,-2.795,-2.8825,-2.9685],[-2.9775,-3.08975,-3.08725,-3.02625,-2.92225,-2.7885,-2.62925,-2.49575,-2.4115,-2.32625,-2.3225,-2.36925,-2.5,-2.66375,-2.76325,-2.93575,-3.06175,-3.078,-3.0625,-2.98125,-2.87525,-2.7275,-2.59725,-2.4475,-2.366,-2.31025,-2.35925,-2.42975,-2.5415,-2.65875,-2.8255,-2.9595],[-2.97625,-3.08625,-3.1215,-3.062,-2.9705,-2.80575,-2.61375,-2.4495,-2.30175,-2.16225,-2.17625,-2.28325,-2.36525,-2.5695,-2.723,-2.86075,-3.015,-3.13725,-3.09675,-3.05375,-2.932,-2.765,-2.55775,-2.42625,-2.26525,-2.18225,-2.20075,-2.25225,-2.422,-2.59975,-2.7605,-2.9045],[-3.00725,-3.14475,-3.1665,-3.1535,-3.0135,-2.8275,-2.60075,-2.38225,-2.21375,-2.07375,-2.01825,-2.14575,-2.24175,-2.413,-2.666,-2.835,-3.03875,-3.17825,-3.186,-3.11675,-2.9515,-2.76825,-2.52225,-2.33325,-2.1805,-2.066,-2.07125,-2.13425,-2.3085,-2.518,-2.70525,-2.923],[-3.02125,-3.14825,-3.227,-3.1975,-3.06375,-2.847,-2.5895,-2.341,-2.12425,-1.976,-1.91625,-1.9665,-2.1185,-2.33775,-2.5835,-2.84525,-3.06025,-3.1845,-3.2335,-3.16225,-2.987,-2.75725,-2.53025,-2.27925,-2.05325,-1.95575,-1.915,-2.00725,-2.17,-2.40675,-2.67675,-2.93025],[-3.00175,-3.1915,-3.26125,-3.24075,-3.09,-2.86525,-2.5725,-2.31375,-2.0995,-1.90675,-1.852,-1.86825,-2.04375,-2.27475,-2.53625,-2.8065,-3.0825,-3.215,-3.2655,-3.21825,-3.01225,-2.7965,-2.50275,-2.2575,-2.00025,-1.88325,-1.806,-1.8795,-2.07725,-2.37125,-2.641,-2.912],[-3.01975,-3.211,-3.2895,-3.29675,-3.14525,-2.9265,-2.63625,-2.3705,-2.06875,-1.866,-1.788,-1.8355,-1.9695,-2.2375,-2.51175,-2.78575,-3.0685,-3.227,-3.299,-3.254,-3.08025,-2.83775,-2.54675,-2.2795,-1.99225,-1.84025,-1.81475,-1.8655,-2.083,-2.325,-2.6035,-2.89375],[-3.008,-3.2235,-3.3175,-3.3225,-3.212,-2.9675,-2.67625,-2.40575,-2.119,-1.90725,-1.77725,-1.84125,-1.981,-2.19525,-2.47025,-2.815,-3.05375,-3.246,-3.3255,-3.28525,-3.122,-2.89425,-2.61825,-2.29175,-2.02175,-1.84825,-1.801,-1.87275,-2.0515,-2.31225,-2.59175,-2.89225],[-3.0005,-3.2005,-3.329,-3.32175,-3.2405,-3.044,-2.76975,-2.48975,-2.18625,-2.011,-1.9055,-1.89875,-2.01125,-2.23575,-2.525,-2.80525,-3.0705,-3.2895,-3.34975,-3.33,-3.19175,-2.98325,-2.6985,-2.40375,-2.12875,-1.974,-1.86625,-1.937,-2.04275,-2.29075,-2.599,-2.89],[-2.97675,-3.22425,-3.33125,-3.36375,-3.286,-3.1225,-2.88975,-2.59375,-2.33675,-2.12975,-2.039,-2.01625,-2.1205,-2.29075,-2.5665,-2.82325,-3.0655,-3.24125,-3.36075,-3.35575,-3.22425,-3.04025,-2.812,-2.50375,-2.267,-2.1025,-2.04425,-2.03025,-2.14575,-2.38525,-2.5955,-2.905],[-2.97425,-3.20775,-3.302,-3.35475,-3.31075,-3.1695,-2.96675,-2.7495,-2.49225,-2.32825,-2.1805,-2.166,-2.24525,-2.417,-2.5885,-2.813,-3.067,-3.2345,-3.3325,-3.3525,-3.25375,-3.11425,-2.88225,-2.65825,-2.4425,-2.26275,-2.1905,-2.1975,-2.293,-2.46125,-2.67075,-2.88825],[-2.997,-3.1695,-3.29525,-3.3365,-3.28975,-3.19925,-3.03725,-2.838,-2.66975,-2.502,-2.41,-2.39525,-2.42575,-2.50975,-2.6675,-2.863,-3.0515,-3.21375,-3.30575,-3.3235,-3.282,-3.16,-3.021,-2.78125,-2.62175,-2.43875,-2.374,-2.37875,-2.439,-2.54975,-2.708,-2.93275],[-3.013,-3.14275,-3.21825,-3.27775,-3.2505,-3.17275,-3.105,-2.9425,-2.82,-2.682,-2.61075,-2.581,-2.57025,-2.6445,-2.7585,-2.91,-3.048,-3.17475,-3.247,-3.2615,-3.2685,-3.17075,-3.0525,-2.9235,-2.77275,-2.6725,-2.59575,-2.60175,-2.586,-2.684,-2.8035,-2.941],[-3.01325,-3.081,-3.12925,-3.167,-3.1835,-3.14125,-3.09525,-3.01875,-2.90225,-2.842,-2.785,-2.79075,-2.749,-2.8175,-2.855,-2.94775,-3.0455,-3.10025,-3.141,-3.1545,-3.164,-3.15425,-3.053,-3.00675,-2.94825,-2.86625,-2.801,-2.774,-2.7735,-2.818,-2.854,-2.95275],[-2.9845,-3.026,-3.0555,-3.063,-3.0625,-3.041,-3.047,-3.0235,-3.007,-2.98525,-2.93225,-2.932,-2.93425,-2.93375,-2.97775,-2.982,-3.008,-3.0325,-3.06375,-3.0655,-3.057,-3.04075,-3.0375,-2.99625,-2.95875,-2.9645,-2.95175,-2.931,-2.94775,-2.944,-2.9675,-2.978]]},{\"marker\":{\"color\":\"white\",\"line\":{\"width\":1},\"size\":8,\"symbol\":[200]},\"mode\":\"lines\",\"type\":\"scatter\",\"x\":[0.6,0.63,0.6,0.63,0.645,0.6150000000000001,0.6075000000000002,0.6525000000000002,0.6150000000000002,0.6000000000000003,0.5550000000000003,0.5062500000000003,0.49875000000000047,0.44437500000000063,0.35062500000000063,0.28875000000000095,0.45187500000000047,0.3431250000000008,0.42468750000000055,0.5184375000000006,0.3925781250000006,0.3728906250000006,0.3371484375000007,0.3050390625000008,0.24960937500000085,0.2817187500000007,0.29920898437500076,0.3867480468750006,0.28389404296875076,0.32183349609375067,0.30486511230468827,0.3581195068359382,0.3258361816406258,0.27258178710937586,0.3367350769042976,0.315350646972657,0.3314923095703132,0.3210067749023444,0.31676467895507887,0.2901374816894539,0.3211536026000984,0.31081489562988357,0.3241284942626961,0.3300782775878914,0.32271446228027423,0.3237749862670906,0.31046138763427816,0.32517405509948805,0.32026983261108477,0.32342147827148515,0.31991632461547925,0.31973957061767644,0.32657312393188553,0.3192167901992805,0.3216689014434822,0.31834050178527906,0.32324472427368234,0.3214921474456794,0.3216247129440315,0.3215805244445808,0.3207926130294807,0.31912841320037916,0.3209674966335304,0.32035446882248,0.3211865687370308,0.3199605131149299,0.3203986573219306,0.3212307572364814,0.3202780741453178,0.32059563517570566,0.3203765630722053,0.32057354092598034,0.32098959088325574,0.32083633393049316,0.3206830769777305,0.320584588050843,0.32089110195636816,0.32100063800811834,0.3209021490812308,0.32089386373758383,0.32089938730001516,0.32089524462819163,0.3208966255187995,0.32084323838353224,0.32073922589421344,0.32077857580035996,0.32081792570650647,0.3208446192741401,0.32076591946184707,0.3207855944149203,0.3208052693679936,0.3208186161518104,0.3208059598132975,0.3208054419793196,0.3207794388569899,0.3208088218281053,0.32079902750440015,0.32080561459064555,0.3207860259432353,0.32079092310508783,0.3207958202669404,0.3207991138100631,0.320789319486358,0.32079666522913686,0.32079421664821056,0.3207958634197719,0.320794259801042,0.32079424901283415,0.32079423822462627,0.3207934148388456,0.32079343641526137,0.3207934310211574,0.3207934256270535,0.32079301393416315,0.32079220133659037,0.3207918004319079,0.32079221212479825,0.32079220403364234,0.3207922067306943,0.32079240718303553,0.3207924125771395,0.32079241122861346,0.32079281752739985,0.3207930193282671,0.3207925632535269,0.3207927152784403,0.3207925121290471,0.32079281617887384,0.3207925881415038,0.32079266415396046,0.3207925625792639,0.32079271460417724,0.3207926765979489,0.3207926385917206,0.3207925878043723,0.3207925622421324,0.3207925813295294,0.32079261950432353,0.320792590873228,0.3207926004169265,0.32079259717950503,0.32079260979205926,0.32079260744827603,0.32079262329825176,0.3207926288794564,0.32079262352166127,0.3207926181638662,0.3207926102388784,0.3207926209544686,0.32079261291777594,0.3207926077833904,0.3207926155687473,0.3207926129736283,0.3207926155966735,0.3207926104064355,0.32079261046228785,0.320792613085333,0.32079261107615986,0.32079261241560864,0.32079261141102206,0.32079261174588425,0.3207926120528203,0.32079261333641673,0.32079261431307715,0.3207926126178845,0.32079261374801293,0.3207926134654808,0.3207926129004166,0.32079261304168266,0.32079261332421477,0.32079261311231566,0.3207926131829487,0.3207926130355817,0.3207926131768477,0.32079261314153124,0.3207926131062147,0.3207926130325312,0.32079261295579714,0.3207926129527467,0.3207926130264303,0.32079261310316426,0.3207926129903511,0.32079261306555984,0.32079261306861023,0.32079261303697526,0.3207926130008961,0.3207926130493939,0.320792613033228,0.32079261305126755,0.3207926130550149,0.3207926130386747,0.3207926130243824,0.32079261304454626,0.32079261303782497,0.32079261304412143,0.3207926130432717,0.3207926130419101,0.32079261304054835,0.32079261303740014,0.3207926130401235,0.320792613038081,0.3207926130394427,0.32079261303842144,0.32079261303876183,0.32079261303752815,0.32079261303820894,0.32079261303642237,0.3207926130351887,0.3207926130374539,0.32079261303800677,0.32079261303752815,0.3207926130375096,0.320792613037491,0.32079261303721457,0.32079261303725176,0.32079261303722384,0.3207926130367081,0.3207926130372953,0.32079261303709955,0.32079261303723317,0.3207926130368417,0.3207926130367174,0.320792613037004,0.32079261303681295,0.3207926130369465,0.3207926130368679,0.3207926130368941,0.3207926130369085,0.3207926130369609,0.320792613037042,0.3207926130369311,0.32079261303696804,0.3207926130369347,0.3207926130370086,0.3207926130370158,0.3207926130369824],\"y\":[1.3,1.3,1.3650000000000002,1.365,1.3975,1.4625000000000001,1.5437500000000006,1.5762500000000004,1.722500000000001,1.8850000000000016,1.8525000000000018,1.9906250000000023,2.3318750000000033,2.725937500000005,2.8315625000000058,0.42687500000000833,2.3846875000000036,0.03281250000000702,2.5817187500000047,2.476093750000004,2.7426953125000053,2.5984765625000046,2.5347460937500044,2.6957226562500045,2.4877734375000036,2.326796875000004,2.6034912109375044,2.6504638671875056,2.5284460449218793,2.4597009277343793,2.567543640136723,2.573843688964848,2.6066412353515664,2.6003411865234414,2.5804680633544965,2.5870924377441447,2.5706936645507854,2.5511448669433636,2.5781055450439494,2.574955520629887,2.5717591285705605,2.572824592590336,2.5743996047973674,2.5796805572509807,2.583386497497562,2.576646327972416,2.5750713157653853,2.578528246879582,2.577375936508183,2.578893051147465,2.5796226596832312,2.5807460212707554,2.5804101657867466,2.578681700229649,2.579257855415348,2.5788641023635903,2.5800164127349885,2.5803812170028713,2.5795386958122286,2.5798195362091096,2.5794402575492894,2.579243381023411,2.579675497412685,2.5795314586162603,2.5796298968791995,2.5793418192863498,2.5792506182193784,2.5793490564823185,2.5793436285853417,2.579345437884334,2.5793910384178194,2.5794858580827746,2.5795350772142447,2.5794990675151386,2.579463057816032,2.5794156479835544,2.5794876673817675,2.5794648671150244,2.579417457282546,2.579470114856962,2.5794350098073515,2.5794613385945593,2.5794525623321567,2.5794551862031256,2.579442881420259,2.5794453016482333,2.5794477218762077,2.579446409940723,2.579441569484774,2.5794427795987613,2.5794439897127486,2.5794433337450062,2.579439601581547,2.579442892679948,2.579439816484231,2.5794424544298122,2.5794415751146187,2.579441795647148,2.5794400370167607,2.5794404766743577,2.5794409163319543,2.579441026598219,2.579440147283025,2.57944080676942,2.579440586940622,2.579440642073754,2.5794403126824217,2.5794403812469717,2.5794404498115218,2.5794404222449554,2.579440285115856,2.579440319398131,2.579440353680406,2.5794403398971224,2.5794402437660064,2.5794401614181734,2.579440175201457,2.579440226624869,2.5794402094837316,2.579440250657648,2.579440216375373,2.579440224945942,2.5794402730114996,2.579440305614847,2.579440245113168,2.5794402652803945,2.5794402412476156,2.579440281582068,2.5794402513312287,2.5794402614148417,2.5794402493984525,2.5794402695656786,2.579440264523872,2.5794402594820656,2.579440253473871,2.579440251541095,2.5794402535263377,2.579440257496823,2.5794402545189588,2.5794402555115803,2.5794402555378135,2.579440257575523,2.579440257059537,2.579440259071013,2.579440259560765,2.579440258935458,2.579440258310151,2.5794402573044133,2.579440258555027,2.5794402576170667,2.5794402568562047,2.5794402579466644,2.579440257583178,2.57944025792972,2.579440257202747,2.5794402571688586,2.579440257515401,2.5794402572809103,2.5794402574372377,2.579440257319992,2.579440257359074,2.5794402574151,2.5794402576053153,2.5794402577395052,2.579440257496201,2.579440257658404,2.5794402576178532,2.579440257536752,2.579440257557027,2.579440257597578,2.579440257567165,2.5794402575773026,2.5794402575531583,2.5794402575734336,2.579440257568365,2.579440257563296,2.579440257551224,2.5794402575372173,2.579440257535283,2.579440257547355,2.5794402575613615,2.5794402575418025,2.579440257554842,2.5794402575567767,2.5794402575497104,2.579440257544158,2.5794402575521707,2.5794402575495,2.5794402575522763,2.579440257552487,2.579440257550247,2.579440257547681,2.5794402575511275,2.5794402575499786,2.5794402575509934,2.5794402575507247,2.579440257550538,2.5794402575503517,2.5794402575498445,2.5794402575502176,2.5794402575499378,2.5794402575501243,2.5794402575499844,2.579440257550031,2.579440257549824,2.5794402575499173,2.5794402575495967,2.5794402575493898,2.5794402575497855,2.5794402575498987,2.5794402575498236,2.5794402575498143,2.5794402575498045,2.5794402575497477,2.5794402575497672,2.5794402575497526,2.579440257549659,2.579440257549768,2.5794402575497317,2.5794402575497575,2.5794402575496846,2.5794402575496633,2.579440257549715,2.57944025754968,2.579440257549706,2.57944025754969,2.5794402575496953,2.5794402575496975,2.579440257549708,2.5794402575497237,2.5794402575497024,2.5794402575497095,2.579440257549703,2.579440257549717,2.5794402575497184,2.5794402575497117]},{\"marker\":{\"color\":\"red\",\"line\":{\"width\":1},\"size\":16,\"symbol\":[204]},\"mode\":\"markers\",\"type\":\"scatter\",\"x\":[1.3],\"y\":[0.6000000000000001]},{\"marker\":{\"color\":\"gray\",\"line\":{\"width\":1},\"size\":16,\"symbol\":[204]},\"mode\":\"markers\",\"type\":\"scatter\",\"x\":[0.6],\"y\":[1.3]},{\"marker\":{\"color\":\"green\",\"line\":{\"width\":1},\"size\":16,\"symbol\":[204]},\"mode\":\"markers\",\"type\":\"scatter\",\"x\":[0.3207926130369824],\"y\":[2.5794402575497117]}],                        {\"height\":700,\"template\":{\"data\":{\"bar\":[{\"error_x\":{\"color\":\"#2a3f5f\"},\"error_y\":{\"color\":\"#2a3f5f\"},\"marker\":{\"line\":{\"color\":\"#E5ECF6\",\"width\":0.5},\"pattern\":{\"fillmode\":\"overlay\",\"size\":10,\"solidity\":0.2}},\"type\":\"bar\"}],\"barpolar\":[{\"marker\":{\"line\":{\"color\":\"#E5ECF6\",\"width\":0.5},\"pattern\":{\"fillmode\":\"overlay\",\"size\":10,\"solidity\":0.2}},\"type\":\"barpolar\"}],\"carpet\":[{\"aaxis\":{\"endlinecolor\":\"#2a3f5f\",\"gridcolor\":\"white\",\"linecolor\":\"white\",\"minorgridcolor\":\"white\",\"startlinecolor\":\"#2a3f5f\"},\"baxis\":{\"endlinecolor\":\"#2a3f5f\",\"gridcolor\":\"white\",\"linecolor\":\"white\",\"minorgridcolor\":\"white\",\"startlinecolor\":\"#2a3f5f\"},\"type\":\"carpet\"}],\"choropleth\":[{\"colorbar\":{\"outlinewidth\":0,\"ticks\":\"\"},\"type\":\"choropleth\"}],\"contour\":[{\"colorbar\":{\"outlinewidth\":0,\"ticks\":\"\"},\"colorscale\":[[0.0,\"#0d0887\"],[0.1111111111111111,\"#46039f\"],[0.2222222222222222,\"#7201a8\"],[0.3333333333333333,\"#9c179e\"],[0.4444444444444444,\"#bd3786\"],[0.5555555555555556,\"#d8576b\"],[0.6666666666666666,\"#ed7953\"],[0.7777777777777778,\"#fb9f3a\"],[0.8888888888888888,\"#fdca26\"],[1.0,\"#f0f921\"]],\"type\":\"contour\"}],\"contourcarpet\":[{\"colorbar\":{\"outlinewidth\":0,\"ticks\":\"\"},\"type\":\"contourcarpet\"}],\"heatmap\":[{\"colorbar\":{\"outlinewidth\":0,\"ticks\":\"\"},\"colorscale\":[[0.0,\"#0d0887\"],[0.1111111111111111,\"#46039f\"],[0.2222222222222222,\"#7201a8\"],[0.3333333333333333,\"#9c179e\"],[0.4444444444444444,\"#bd3786\"],[0.5555555555555556,\"#d8576b\"],[0.6666666666666666,\"#ed7953\"],[0.7777777777777778,\"#fb9f3a\"],[0.8888888888888888,\"#fdca26\"],[1.0,\"#f0f921\"]],\"type\":\"heatmap\"}],\"heatmapgl\":[{\"colorbar\":{\"outlinewidth\":0,\"ticks\":\"\"},\"colorscale\":[[0.0,\"#0d0887\"],[0.1111111111111111,\"#46039f\"],[0.2222222222222222,\"#7201a8\"],[0.3333333333333333,\"#9c179e\"],[0.4444444444444444,\"#bd3786\"],[0.5555555555555556,\"#d8576b\"],[0.6666666666666666,\"#ed7953\"],[0.7777777777777778,\"#fb9f3a\"],[0.8888888888888888,\"#fdca26\"],[1.0,\"#f0f921\"]],\"type\":\"heatmapgl\"}],\"histogram\":[{\"marker\":{\"pattern\":{\"fillmode\":\"overlay\",\"size\":10,\"solidity\":0.2}},\"type\":\"histogram\"}],\"histogram2d\":[{\"colorbar\":{\"outlinewidth\":0,\"ticks\":\"\"},\"colorscale\":[[0.0,\"#0d0887\"],[0.1111111111111111,\"#46039f\"],[0.2222222222222222,\"#7201a8\"],[0.3333333333333333,\"#9c179e\"],[0.4444444444444444,\"#bd3786\"],[0.5555555555555556,\"#d8576b\"],[0.6666666666666666,\"#ed7953\"],[0.7777777777777778,\"#fb9f3a\"],[0.8888888888888888,\"#fdca26\"],[1.0,\"#f0f921\"]],\"type\":\"histogram2d\"}],\"histogram2dcontour\":[{\"colorbar\":{\"outlinewidth\":0,\"ticks\":\"\"},\"colorscale\":[[0.0,\"#0d0887\"],[0.1111111111111111,\"#46039f\"],[0.2222222222222222,\"#7201a8\"],[0.3333333333333333,\"#9c179e\"],[0.4444444444444444,\"#bd3786\"],[0.5555555555555556,\"#d8576b\"],[0.6666666666666666,\"#ed7953\"],[0.7777777777777778,\"#fb9f3a\"],[0.8888888888888888,\"#fdca26\"],[1.0,\"#f0f921\"]],\"type\":\"histogram2dcontour\"}],\"mesh3d\":[{\"colorbar\":{\"outlinewidth\":0,\"ticks\":\"\"},\"type\":\"mesh3d\"}],\"parcoords\":[{\"line\":{\"colorbar\":{\"outlinewidth\":0,\"ticks\":\"\"}},\"type\":\"parcoords\"}],\"pie\":[{\"automargin\":true,\"type\":\"pie\"}],\"scatter\":[{\"marker\":{\"colorbar\":{\"outlinewidth\":0,\"ticks\":\"\"}},\"type\":\"scatter\"}],\"scatter3d\":[{\"line\":{\"colorbar\":{\"outlinewidth\":0,\"ticks\":\"\"}},\"marker\":{\"colorbar\":{\"outlinewidth\":0,\"ticks\":\"\"}},\"type\":\"scatter3d\"}],\"scattercarpet\":[{\"marker\":{\"colorbar\":{\"outlinewidth\":0,\"ticks\":\"\"}},\"type\":\"scattercarpet\"}],\"scattergeo\":[{\"marker\":{\"colorbar\":{\"outlinewidth\":0,\"ticks\":\"\"}},\"type\":\"scattergeo\"}],\"scattergl\":[{\"marker\":{\"colorbar\":{\"outlinewidth\":0,\"ticks\":\"\"}},\"type\":\"scattergl\"}],\"scattermapbox\":[{\"marker\":{\"colorbar\":{\"outlinewidth\":0,\"ticks\":\"\"}},\"type\":\"scattermapbox\"}],\"scatterpolar\":[{\"marker\":{\"colorbar\":{\"outlinewidth\":0,\"ticks\":\"\"}},\"type\":\"scatterpolar\"}],\"scatterpolargl\":[{\"marker\":{\"colorbar\":{\"outlinewidth\":0,\"ticks\":\"\"}},\"type\":\"scatterpolargl\"}],\"scatterternary\":[{\"marker\":{\"colorbar\":{\"outlinewidth\":0,\"ticks\":\"\"}},\"type\":\"scatterternary\"}],\"surface\":[{\"colorbar\":{\"outlinewidth\":0,\"ticks\":\"\"},\"colorscale\":[[0.0,\"#0d0887\"],[0.1111111111111111,\"#46039f\"],[0.2222222222222222,\"#7201a8\"],[0.3333333333333333,\"#9c179e\"],[0.4444444444444444,\"#bd3786\"],[0.5555555555555556,\"#d8576b\"],[0.6666666666666666,\"#ed7953\"],[0.7777777777777778,\"#fb9f3a\"],[0.8888888888888888,\"#fdca26\"],[1.0,\"#f0f921\"]],\"type\":\"surface\"}],\"table\":[{\"cells\":{\"fill\":{\"color\":\"#EBF0F8\"},\"line\":{\"color\":\"white\"}},\"header\":{\"fill\":{\"color\":\"#C8D4E3\"},\"line\":{\"color\":\"white\"}},\"type\":\"table\"}]},\"layout\":{\"annotationdefaults\":{\"arrowcolor\":\"#2a3f5f\",\"arrowhead\":0,\"arrowwidth\":1},\"autotypenumbers\":\"strict\",\"coloraxis\":{\"colorbar\":{\"outlinewidth\":0,\"ticks\":\"\"}},\"colorscale\":{\"diverging\":[[0,\"#8e0152\"],[0.1,\"#c51b7d\"],[0.2,\"#de77ae\"],[0.3,\"#f1b6da\"],[0.4,\"#fde0ef\"],[0.5,\"#f7f7f7\"],[0.6,\"#e6f5d0\"],[0.7,\"#b8e186\"],[0.8,\"#7fbc41\"],[0.9,\"#4d9221\"],[1,\"#276419\"]],\"sequential\":[[0.0,\"#0d0887\"],[0.1111111111111111,\"#46039f\"],[0.2222222222222222,\"#7201a8\"],[0.3333333333333333,\"#9c179e\"],[0.4444444444444444,\"#bd3786\"],[0.5555555555555556,\"#d8576b\"],[0.6666666666666666,\"#ed7953\"],[0.7777777777777778,\"#fb9f3a\"],[0.8888888888888888,\"#fdca26\"],[1.0,\"#f0f921\"]],\"sequentialminus\":[[0.0,\"#0d0887\"],[0.1111111111111111,\"#46039f\"],[0.2222222222222222,\"#7201a8\"],[0.3333333333333333,\"#9c179e\"],[0.4444444444444444,\"#bd3786\"],[0.5555555555555556,\"#d8576b\"],[0.6666666666666666,\"#ed7953\"],[0.7777777777777778,\"#fb9f3a\"],[0.8888888888888888,\"#fdca26\"],[1.0,\"#f0f921\"]]},\"colorway\":[\"#636efa\",\"#EF553B\",\"#00cc96\",\"#ab63fa\",\"#FFA15A\",\"#19d3f3\",\"#FF6692\",\"#B6E880\",\"#FF97FF\",\"#FECB52\"],\"font\":{\"color\":\"#2a3f5f\"},\"geo\":{\"bgcolor\":\"white\",\"lakecolor\":\"white\",\"landcolor\":\"#E5ECF6\",\"showlakes\":true,\"showland\":true,\"subunitcolor\":\"white\"},\"hoverlabel\":{\"align\":\"left\"},\"hovermode\":\"closest\",\"mapbox\":{\"style\":\"light\"},\"paper_bgcolor\":\"white\",\"plot_bgcolor\":\"#E5ECF6\",\"polar\":{\"angularaxis\":{\"gridcolor\":\"white\",\"linecolor\":\"white\",\"ticks\":\"\"},\"bgcolor\":\"#E5ECF6\",\"radialaxis\":{\"gridcolor\":\"white\",\"linecolor\":\"white\",\"ticks\":\"\"}},\"scene\":{\"xaxis\":{\"backgroundcolor\":\"#E5ECF6\",\"gridcolor\":\"white\",\"gridwidth\":2,\"linecolor\":\"white\",\"showbackground\":true,\"ticks\":\"\",\"zerolinecolor\":\"white\"},\"yaxis\":{\"backgroundcolor\":\"#E5ECF6\",\"gridcolor\":\"white\",\"gridwidth\":2,\"linecolor\":\"white\",\"showbackground\":true,\"ticks\":\"\",\"zerolinecolor\":\"white\"},\"zaxis\":{\"backgroundcolor\":\"#E5ECF6\",\"gridcolor\":\"white\",\"gridwidth\":2,\"linecolor\":\"white\",\"showbackground\":true,\"ticks\":\"\",\"zerolinecolor\":\"white\"}},\"shapedefaults\":{\"line\":{\"color\":\"#2a3f5f\"}},\"ternary\":{\"aaxis\":{\"gridcolor\":\"white\",\"linecolor\":\"white\",\"ticks\":\"\"},\"baxis\":{\"gridcolor\":\"white\",\"linecolor\":\"white\",\"ticks\":\"\"},\"bgcolor\":\"#E5ECF6\",\"caxis\":{\"gridcolor\":\"white\",\"linecolor\":\"white\",\"ticks\":\"\"}},\"title\":{\"x\":0.05},\"xaxis\":{\"automargin\":true,\"gridcolor\":\"white\",\"linecolor\":\"white\",\"ticks\":\"\",\"title\":{\"standoff\":15},\"zerolinecolor\":\"white\",\"zerolinewidth\":2},\"yaxis\":{\"automargin\":true,\"gridcolor\":\"white\",\"linecolor\":\"white\",\"ticks\":\"\",\"title\":{\"standoff\":15},\"zerolinecolor\":\"white\",\"zerolinewidth\":2}}},\"title\":{\"text\":\"QAOA MaxCut\"},\"width\":700,\"xaxis\":{\"title\":{\"text\":\"beta\"}},\"yaxis\":{\"title\":{\"text\":\"gamma\"}}},                        {\"responsive\": true}                    ).then(function(){\n",
       "                            \n",
       "var gd = document.getElementById('b8090857-5aab-47ea-84d2-0c1b55fb5bb2');\n",
       "var x = new MutationObserver(function (mutations, observer) {{\n",
       "        var display = window.getComputedStyle(gd).display;\n",
       "        if (!display || display === 'none') {{\n",
       "            console.log([gd, 'removed!']);\n",
       "            Plotly.purge(gd);\n",
       "            observer.disconnect();\n",
       "        }}\n",
       "}});\n",
       "\n",
       "// Listen for the removal of the full notebook cells\n",
       "var notebookContainer = gd.closest('#notebook-container');\n",
       "if (notebookContainer) {{\n",
       "    x.observe(notebookContainer, {childList: true});\n",
       "}}\n",
       "\n",
       "// Listen for the clearing of the current output cell\n",
       "var outputEl = gd.closest('.output');\n",
       "if (outputEl) {{\n",
       "    x.observe(outputEl, {childList: true});\n",
       "}}\n",
       "\n",
       "                        })                };                });            </script>        </div>"
      ]
     },
     "metadata": {},
     "output_type": "display_data"
    }
   ],
   "source": [
    "fig.add_trace(\n",
    "    go.Scatter(mode=\"lines\", x=gammas, y=betas, marker_symbol=[200],\n",
    "                   marker_color=\"white\", \n",
    "                   marker_line_width=1, marker_size=8))\n",
    "\n",
    "y, x = np.unravel_index(np.argmin(F1), F1.shape)\n",
    "\n",
    "fig.add_trace(\n",
    "    go.Scatter(mode=\"markers\", x=[x*step_size], y=[y*step_size], marker_symbol=[204],\n",
    "                   marker_color=\"red\", \n",
    "                   marker_line_width=1, marker_size=16))\n",
    "\n",
    "fig.add_trace(\n",
    "    go.Scatter(mode=\"markers\", x=[gammas[0]], y=[betas[0]], marker_symbol=[204],\n",
    "                   marker_color=\"gray\", \n",
    "                   marker_line_width=1, marker_size=16))\n",
    "\n",
    "fig.add_trace(\n",
    "    go.Scatter(mode=\"markers\", x=[gammas[-1]], y=[betas[-1]], marker_symbol=[204],\n",
    "                   marker_color=\"green\", \n",
    "                   marker_line_width=1, marker_size=16))\n",
    "\n",
    "\n"
   ]
  },
  {
   "cell_type": "code",
   "execution_count": 441,
   "id": "60557aba",
   "metadata": {},
   "outputs": [
    {
     "data": {
      "application/vnd.plotly.v1+json": {
       "config": {
        "plotlyServerURL": "https://plot.ly"
       },
       "data": [
        {
         "type": "scatter",
         "x": [
          1,
          2,
          3,
          4,
          5,
          6,
          7,
          8,
          9,
          10,
          11,
          12,
          13,
          14,
          15,
          16,
          17,
          18,
          19,
          20,
          21,
          22,
          23,
          24,
          25,
          26,
          27,
          28,
          29,
          30,
          31,
          32,
          33,
          34,
          35,
          36,
          37,
          38,
          39,
          40,
          41,
          42,
          43,
          44,
          45,
          46,
          47,
          48,
          49,
          50,
          51,
          52,
          53,
          54,
          55,
          56,
          57,
          58,
          59,
          60,
          61,
          62,
          63,
          64,
          65,
          66,
          67,
          68,
          69,
          70,
          71,
          72,
          73,
          74,
          75,
          76,
          77,
          78,
          79,
          80,
          81,
          82,
          83,
          84,
          85,
          86,
          87,
          88,
          89,
          90,
          91,
          92,
          93,
          94,
          95,
          96,
          97,
          98,
          99,
          100,
          101,
          102,
          103,
          104,
          105,
          106,
          107,
          108,
          109,
          110,
          111,
          112,
          113,
          114,
          115,
          116,
          117,
          118,
          119,
          120,
          121,
          122,
          123,
          124,
          125,
          126,
          127,
          128,
          129,
          130,
          131,
          132,
          133,
          134,
          135,
          136,
          137,
          138,
          139,
          140,
          141,
          142,
          143,
          144,
          145,
          146,
          147,
          148,
          149,
          150,
          151,
          152,
          153,
          154,
          155,
          156,
          157,
          158,
          159,
          160,
          161,
          162,
          163,
          164,
          165,
          166,
          167,
          168,
          169,
          170,
          171,
          172,
          173,
          174,
          175,
          176,
          177,
          178,
          179,
          180,
          181,
          182,
          183,
          184,
          185,
          186,
          187,
          188,
          189,
          190,
          191,
          192,
          193,
          194,
          195,
          196,
          197,
          198,
          199,
          200,
          201,
          202,
          203,
          204,
          205,
          206,
          207,
          208,
          209,
          210,
          211,
          212,
          213,
          214,
          215,
          216,
          217,
          218,
          219,
          220,
          221,
          222,
          223,
          224,
          225,
          226,
          227,
          228,
          229,
          230,
          231,
          232,
          233,
          234
         ],
         "y": [
          1.82325,
          1.83275,
          1.8455,
          1.81875,
          1.76225,
          1.7997500000000004,
          1.661,
          1.4969999999999997,
          1.4300000000000002,
          1.1397499999999998,
          0.6075,
          0.12425000000000005,
          -0.021749999999999978,
          0.51475,
          0.7390000000000001,
          0.13675000000000007,
          0.442,
          0.03524999999999994,
          0.16125000000000003,
          0.006000000000000012,
          0.054499999999999965,
          -0.005500000000000022,
          0.02625,
          -0.01050000000000003,
          -0.011750000000000083,
          -0.008750000000000008,
          -0.007000000000000083,
          -0.01100000000000001,
          -0.002000000000000078,
          -0.02350000000000002,
          -0.027750000000000056,
          -0.02250000000000003,
          -0.03474999999999997,
          -0.048249999999999994,
          -0.04875000000000006,
          -0.04875000000000004,
          -0.09150000000000005,
          -0.11775000000000004,
          -0.11600000000000013,
          -0.22899999999999993,
          -0.34525000000000006,
          -0.33349999999999996,
          -0.57425,
          -0.733,
          -0.74625,
          -0.7475,
          -0.122,
          -0.63775,
          -0.59625,
          -0.7237500000000002,
          -0.7265,
          -0.7547499999999999,
          -0.6239999999999999,
          -0.767,
          -0.7449999999999999,
          -0.7707499999999998,
          -0.77075,
          -0.7614999999999998,
          -0.7842500000000001,
          -0.78425,
          -0.7752500000000001,
          -0.7874999999999998,
          -0.77275,
          -0.7555000000000002,
          -0.7772499999999998,
          -0.7525,
          -0.7785000000000001,
          -0.7722500000000001,
          -0.7804999999999999,
          -0.7859999999999999,
          -0.7912499999999998,
          -0.7929999999999999,
          -0.7969999999999998,
          -0.7967500000000002,
          -0.81775,
          -0.80025,
          -0.8027499999999999,
          -0.81875,
          -0.822,
          -0.8275000000000001,
          -0.8072499999999999,
          -0.8252499999999998,
          -0.82825,
          -0.8157499999999999,
          -0.8117500000000001,
          -0.8272500000000002,
          -0.809,
          -0.8207499999999999,
          -0.81425,
          -0.8230000000000002,
          -0.8227500000000001,
          -0.8160000000000002,
          -0.8187500000000003,
          -0.82375,
          -0.8229999999999996,
          -0.8152499999999999,
          -0.8242499999999999,
          -0.8200000000000003,
          -0.825,
          -0.82425,
          -0.8177499999999998,
          -0.8192499999999999,
          -0.8184999999999999,
          -0.8172500000000003,
          -0.8272500000000002,
          -0.82275,
          -0.8145,
          -0.82625,
          -0.8227500000000001,
          -0.8242500000000001,
          -0.8240000000000002,
          -0.8235000000000001,
          -0.8199999999999998,
          -0.8185000000000001,
          -0.8274999999999999,
          -0.81925,
          -0.8237500000000002,
          -0.822,
          -0.8135,
          -0.82775,
          -0.8192499999999999,
          -0.815,
          -0.8244999999999999,
          -0.8202499999999999,
          -0.8197500000000001,
          -0.81875,
          -0.8107499999999997,
          -0.8172500000000001,
          -0.8207499999999999,
          -0.81925,
          -0.8372499999999998,
          -0.8229999999999997,
          -0.82375,
          -0.8065,
          -0.8232500000000003,
          -0.8212500000000003,
          -0.8277500000000001,
          -0.8209999999999998,
          -0.81575,
          -0.8072500000000002,
          -0.80925,
          -0.809,
          -0.8230000000000002,
          -0.8214999999999999,
          -0.8237500000000001,
          -0.8277500000000002,
          -0.8252499999999998,
          -0.8217500000000002,
          -0.83225,
          -0.8222500000000001,
          -0.81225,
          -0.81925,
          -0.8197500000000001,
          -0.81725,
          -0.8142499999999997,
          -0.8192499999999999,
          -0.81975,
          -0.82325,
          -0.8235,
          -0.8205,
          -0.82,
          -0.8190000000000002,
          -0.8260000000000002,
          -0.82625,
          -0.8235,
          -0.812,
          -0.8084999999999999,
          -0.827,
          -0.8292499999999998,
          -0.8147499999999999,
          -0.8175000000000001,
          -0.8174999999999998,
          -0.8145,
          -0.8164999999999998,
          -0.8187500000000001,
          -0.816,
          -0.8305,
          -0.8082499999999999,
          -0.8195000000000002,
          -0.8270000000000002,
          -0.81575,
          -0.8214999999999998,
          -0.8260000000000002,
          -0.82425,
          -0.811,
          -0.8147500000000003,
          -0.82875,
          -0.8159999999999998,
          -0.81175,
          -0.8185000000000001,
          -0.8292499999999998,
          -0.8204999999999999,
          -0.82825,
          -0.8110000000000002,
          -0.82425,
          -0.8267500000000001,
          -0.8212499999999999,
          -0.8197499999999999,
          -0.8262500000000002,
          -0.81975,
          -0.8275,
          -0.8095000000000002,
          -0.8184999999999999,
          -0.8237500000000001,
          -0.8260000000000002,
          -0.8167499999999999,
          -0.8244999999999999,
          -0.82025,
          -0.82025,
          -0.8147500000000001,
          -0.8242500000000001,
          -0.8077500000000001,
          -0.81925,
          -0.8275,
          -0.83175,
          -0.8254999999999999,
          -0.82975,
          -0.8297499999999999,
          -0.8274999999999999,
          -0.8202500000000001,
          -0.8292499999999998,
          -0.8212500000000001,
          -0.82825,
          -0.8237500000000001,
          -0.82925,
          -0.8119999999999998,
          -0.8220000000000002,
          -0.8207500000000001,
          -0.8187499999999999,
          -0.833,
          -0.8217499999999999,
          -0.8122500000000001,
          -0.826,
          -0.8207500000000001
         ]
        }
       ],
       "layout": {
        "template": {
         "data": {
          "bar": [
           {
            "error_x": {
             "color": "#2a3f5f"
            },
            "error_y": {
             "color": "#2a3f5f"
            },
            "marker": {
             "line": {
              "color": "#E5ECF6",
              "width": 0.5
             },
             "pattern": {
              "fillmode": "overlay",
              "size": 10,
              "solidity": 0.2
             }
            },
            "type": "bar"
           }
          ],
          "barpolar": [
           {
            "marker": {
             "line": {
              "color": "#E5ECF6",
              "width": 0.5
             },
             "pattern": {
              "fillmode": "overlay",
              "size": 10,
              "solidity": 0.2
             }
            },
            "type": "barpolar"
           }
          ],
          "carpet": [
           {
            "aaxis": {
             "endlinecolor": "#2a3f5f",
             "gridcolor": "white",
             "linecolor": "white",
             "minorgridcolor": "white",
             "startlinecolor": "#2a3f5f"
            },
            "baxis": {
             "endlinecolor": "#2a3f5f",
             "gridcolor": "white",
             "linecolor": "white",
             "minorgridcolor": "white",
             "startlinecolor": "#2a3f5f"
            },
            "type": "carpet"
           }
          ],
          "choropleth": [
           {
            "colorbar": {
             "outlinewidth": 0,
             "ticks": ""
            },
            "type": "choropleth"
           }
          ],
          "contour": [
           {
            "colorbar": {
             "outlinewidth": 0,
             "ticks": ""
            },
            "colorscale": [
             [
              0,
              "#0d0887"
             ],
             [
              0.1111111111111111,
              "#46039f"
             ],
             [
              0.2222222222222222,
              "#7201a8"
             ],
             [
              0.3333333333333333,
              "#9c179e"
             ],
             [
              0.4444444444444444,
              "#bd3786"
             ],
             [
              0.5555555555555556,
              "#d8576b"
             ],
             [
              0.6666666666666666,
              "#ed7953"
             ],
             [
              0.7777777777777778,
              "#fb9f3a"
             ],
             [
              0.8888888888888888,
              "#fdca26"
             ],
             [
              1,
              "#f0f921"
             ]
            ],
            "type": "contour"
           }
          ],
          "contourcarpet": [
           {
            "colorbar": {
             "outlinewidth": 0,
             "ticks": ""
            },
            "type": "contourcarpet"
           }
          ],
          "heatmap": [
           {
            "colorbar": {
             "outlinewidth": 0,
             "ticks": ""
            },
            "colorscale": [
             [
              0,
              "#0d0887"
             ],
             [
              0.1111111111111111,
              "#46039f"
             ],
             [
              0.2222222222222222,
              "#7201a8"
             ],
             [
              0.3333333333333333,
              "#9c179e"
             ],
             [
              0.4444444444444444,
              "#bd3786"
             ],
             [
              0.5555555555555556,
              "#d8576b"
             ],
             [
              0.6666666666666666,
              "#ed7953"
             ],
             [
              0.7777777777777778,
              "#fb9f3a"
             ],
             [
              0.8888888888888888,
              "#fdca26"
             ],
             [
              1,
              "#f0f921"
             ]
            ],
            "type": "heatmap"
           }
          ],
          "heatmapgl": [
           {
            "colorbar": {
             "outlinewidth": 0,
             "ticks": ""
            },
            "colorscale": [
             [
              0,
              "#0d0887"
             ],
             [
              0.1111111111111111,
              "#46039f"
             ],
             [
              0.2222222222222222,
              "#7201a8"
             ],
             [
              0.3333333333333333,
              "#9c179e"
             ],
             [
              0.4444444444444444,
              "#bd3786"
             ],
             [
              0.5555555555555556,
              "#d8576b"
             ],
             [
              0.6666666666666666,
              "#ed7953"
             ],
             [
              0.7777777777777778,
              "#fb9f3a"
             ],
             [
              0.8888888888888888,
              "#fdca26"
             ],
             [
              1,
              "#f0f921"
             ]
            ],
            "type": "heatmapgl"
           }
          ],
          "histogram": [
           {
            "marker": {
             "pattern": {
              "fillmode": "overlay",
              "size": 10,
              "solidity": 0.2
             }
            },
            "type": "histogram"
           }
          ],
          "histogram2d": [
           {
            "colorbar": {
             "outlinewidth": 0,
             "ticks": ""
            },
            "colorscale": [
             [
              0,
              "#0d0887"
             ],
             [
              0.1111111111111111,
              "#46039f"
             ],
             [
              0.2222222222222222,
              "#7201a8"
             ],
             [
              0.3333333333333333,
              "#9c179e"
             ],
             [
              0.4444444444444444,
              "#bd3786"
             ],
             [
              0.5555555555555556,
              "#d8576b"
             ],
             [
              0.6666666666666666,
              "#ed7953"
             ],
             [
              0.7777777777777778,
              "#fb9f3a"
             ],
             [
              0.8888888888888888,
              "#fdca26"
             ],
             [
              1,
              "#f0f921"
             ]
            ],
            "type": "histogram2d"
           }
          ],
          "histogram2dcontour": [
           {
            "colorbar": {
             "outlinewidth": 0,
             "ticks": ""
            },
            "colorscale": [
             [
              0,
              "#0d0887"
             ],
             [
              0.1111111111111111,
              "#46039f"
             ],
             [
              0.2222222222222222,
              "#7201a8"
             ],
             [
              0.3333333333333333,
              "#9c179e"
             ],
             [
              0.4444444444444444,
              "#bd3786"
             ],
             [
              0.5555555555555556,
              "#d8576b"
             ],
             [
              0.6666666666666666,
              "#ed7953"
             ],
             [
              0.7777777777777778,
              "#fb9f3a"
             ],
             [
              0.8888888888888888,
              "#fdca26"
             ],
             [
              1,
              "#f0f921"
             ]
            ],
            "type": "histogram2dcontour"
           }
          ],
          "mesh3d": [
           {
            "colorbar": {
             "outlinewidth": 0,
             "ticks": ""
            },
            "type": "mesh3d"
           }
          ],
          "parcoords": [
           {
            "line": {
             "colorbar": {
              "outlinewidth": 0,
              "ticks": ""
             }
            },
            "type": "parcoords"
           }
          ],
          "pie": [
           {
            "automargin": true,
            "type": "pie"
           }
          ],
          "scatter": [
           {
            "marker": {
             "colorbar": {
              "outlinewidth": 0,
              "ticks": ""
             }
            },
            "type": "scatter"
           }
          ],
          "scatter3d": [
           {
            "line": {
             "colorbar": {
              "outlinewidth": 0,
              "ticks": ""
             }
            },
            "marker": {
             "colorbar": {
              "outlinewidth": 0,
              "ticks": ""
             }
            },
            "type": "scatter3d"
           }
          ],
          "scattercarpet": [
           {
            "marker": {
             "colorbar": {
              "outlinewidth": 0,
              "ticks": ""
             }
            },
            "type": "scattercarpet"
           }
          ],
          "scattergeo": [
           {
            "marker": {
             "colorbar": {
              "outlinewidth": 0,
              "ticks": ""
             }
            },
            "type": "scattergeo"
           }
          ],
          "scattergl": [
           {
            "marker": {
             "colorbar": {
              "outlinewidth": 0,
              "ticks": ""
             }
            },
            "type": "scattergl"
           }
          ],
          "scattermapbox": [
           {
            "marker": {
             "colorbar": {
              "outlinewidth": 0,
              "ticks": ""
             }
            },
            "type": "scattermapbox"
           }
          ],
          "scatterpolar": [
           {
            "marker": {
             "colorbar": {
              "outlinewidth": 0,
              "ticks": ""
             }
            },
            "type": "scatterpolar"
           }
          ],
          "scatterpolargl": [
           {
            "marker": {
             "colorbar": {
              "outlinewidth": 0,
              "ticks": ""
             }
            },
            "type": "scatterpolargl"
           }
          ],
          "scatterternary": [
           {
            "marker": {
             "colorbar": {
              "outlinewidth": 0,
              "ticks": ""
             }
            },
            "type": "scatterternary"
           }
          ],
          "surface": [
           {
            "colorbar": {
             "outlinewidth": 0,
             "ticks": ""
            },
            "colorscale": [
             [
              0,
              "#0d0887"
             ],
             [
              0.1111111111111111,
              "#46039f"
             ],
             [
              0.2222222222222222,
              "#7201a8"
             ],
             [
              0.3333333333333333,
              "#9c179e"
             ],
             [
              0.4444444444444444,
              "#bd3786"
             ],
             [
              0.5555555555555556,
              "#d8576b"
             ],
             [
              0.6666666666666666,
              "#ed7953"
             ],
             [
              0.7777777777777778,
              "#fb9f3a"
             ],
             [
              0.8888888888888888,
              "#fdca26"
             ],
             [
              1,
              "#f0f921"
             ]
            ],
            "type": "surface"
           }
          ],
          "table": [
           {
            "cells": {
             "fill": {
              "color": "#EBF0F8"
             },
             "line": {
              "color": "white"
             }
            },
            "header": {
             "fill": {
              "color": "#C8D4E3"
             },
             "line": {
              "color": "white"
             }
            },
            "type": "table"
           }
          ]
         },
         "layout": {
          "annotationdefaults": {
           "arrowcolor": "#2a3f5f",
           "arrowhead": 0,
           "arrowwidth": 1
          },
          "autotypenumbers": "strict",
          "coloraxis": {
           "colorbar": {
            "outlinewidth": 0,
            "ticks": ""
           }
          },
          "colorscale": {
           "diverging": [
            [
             0,
             "#8e0152"
            ],
            [
             0.1,
             "#c51b7d"
            ],
            [
             0.2,
             "#de77ae"
            ],
            [
             0.3,
             "#f1b6da"
            ],
            [
             0.4,
             "#fde0ef"
            ],
            [
             0.5,
             "#f7f7f7"
            ],
            [
             0.6,
             "#e6f5d0"
            ],
            [
             0.7,
             "#b8e186"
            ],
            [
             0.8,
             "#7fbc41"
            ],
            [
             0.9,
             "#4d9221"
            ],
            [
             1,
             "#276419"
            ]
           ],
           "sequential": [
            [
             0,
             "#0d0887"
            ],
            [
             0.1111111111111111,
             "#46039f"
            ],
            [
             0.2222222222222222,
             "#7201a8"
            ],
            [
             0.3333333333333333,
             "#9c179e"
            ],
            [
             0.4444444444444444,
             "#bd3786"
            ],
            [
             0.5555555555555556,
             "#d8576b"
            ],
            [
             0.6666666666666666,
             "#ed7953"
            ],
            [
             0.7777777777777778,
             "#fb9f3a"
            ],
            [
             0.8888888888888888,
             "#fdca26"
            ],
            [
             1,
             "#f0f921"
            ]
           ],
           "sequentialminus": [
            [
             0,
             "#0d0887"
            ],
            [
             0.1111111111111111,
             "#46039f"
            ],
            [
             0.2222222222222222,
             "#7201a8"
            ],
            [
             0.3333333333333333,
             "#9c179e"
            ],
            [
             0.4444444444444444,
             "#bd3786"
            ],
            [
             0.5555555555555556,
             "#d8576b"
            ],
            [
             0.6666666666666666,
             "#ed7953"
            ],
            [
             0.7777777777777778,
             "#fb9f3a"
            ],
            [
             0.8888888888888888,
             "#fdca26"
            ],
            [
             1,
             "#f0f921"
            ]
           ]
          },
          "colorway": [
           "#636efa",
           "#EF553B",
           "#00cc96",
           "#ab63fa",
           "#FFA15A",
           "#19d3f3",
           "#FF6692",
           "#B6E880",
           "#FF97FF",
           "#FECB52"
          ],
          "font": {
           "color": "#2a3f5f"
          },
          "geo": {
           "bgcolor": "white",
           "lakecolor": "white",
           "landcolor": "#E5ECF6",
           "showlakes": true,
           "showland": true,
           "subunitcolor": "white"
          },
          "hoverlabel": {
           "align": "left"
          },
          "hovermode": "closest",
          "mapbox": {
           "style": "light"
          },
          "paper_bgcolor": "white",
          "plot_bgcolor": "#E5ECF6",
          "polar": {
           "angularaxis": {
            "gridcolor": "white",
            "linecolor": "white",
            "ticks": ""
           },
           "bgcolor": "#E5ECF6",
           "radialaxis": {
            "gridcolor": "white",
            "linecolor": "white",
            "ticks": ""
           }
          },
          "scene": {
           "xaxis": {
            "backgroundcolor": "#E5ECF6",
            "gridcolor": "white",
            "gridwidth": 2,
            "linecolor": "white",
            "showbackground": true,
            "ticks": "",
            "zerolinecolor": "white"
           },
           "yaxis": {
            "backgroundcolor": "#E5ECF6",
            "gridcolor": "white",
            "gridwidth": 2,
            "linecolor": "white",
            "showbackground": true,
            "ticks": "",
            "zerolinecolor": "white"
           },
           "zaxis": {
            "backgroundcolor": "#E5ECF6",
            "gridcolor": "white",
            "gridwidth": 2,
            "linecolor": "white",
            "showbackground": true,
            "ticks": "",
            "zerolinecolor": "white"
           }
          },
          "shapedefaults": {
           "line": {
            "color": "#2a3f5f"
           }
          },
          "ternary": {
           "aaxis": {
            "gridcolor": "white",
            "linecolor": "white",
            "ticks": ""
           },
           "baxis": {
            "gridcolor": "white",
            "linecolor": "white",
            "ticks": ""
           },
           "bgcolor": "#E5ECF6",
           "caxis": {
            "gridcolor": "white",
            "linecolor": "white",
            "ticks": ""
           }
          },
          "title": {
           "x": 0.05
          },
          "xaxis": {
           "automargin": true,
           "gridcolor": "white",
           "linecolor": "white",
           "ticks": "",
           "title": {
            "standoff": 15
           },
           "zerolinecolor": "white",
           "zerolinewidth": 2
          },
          "yaxis": {
           "automargin": true,
           "gridcolor": "white",
           "linecolor": "white",
           "ticks": "",
           "title": {
            "standoff": 15
           },
           "zerolinecolor": "white",
           "zerolinewidth": 2
          }
         }
        },
        "title": {
         "text": "Optimizer"
        },
        "xaxis": {
         "title": {
          "text": "Evaluation Counts"
         }
        },
        "yaxis": {
         "title": {
          "text": "Energy"
         }
        }
       }
      },
      "text/html": [
       "<div>                            <div id=\"8c5c2208-af45-4ab8-a836-4c8ef26fec76\" class=\"plotly-graph-div\" style=\"height:525px; width:100%;\"></div>            <script type=\"text/javascript\">                require([\"plotly\"], function(Plotly) {                    window.PLOTLYENV=window.PLOTLYENV || {};                                    if (document.getElementById(\"8c5c2208-af45-4ab8-a836-4c8ef26fec76\")) {                    Plotly.newPlot(                        \"8c5c2208-af45-4ab8-a836-4c8ef26fec76\",                        [{\"type\":\"scatter\",\"x\":[1,2,3,4,5,6,7,8,9,10,11,12,13,14,15,16,17,18,19,20,21,22,23,24,25,26,27,28,29,30,31,32,33,34,35,36,37,38,39,40,41,42,43,44,45,46,47,48,49,50,51,52,53,54,55,56,57,58,59,60,61,62,63,64,65,66,67,68,69,70,71,72,73,74,75,76,77,78,79,80,81,82,83,84,85,86,87,88,89,90,91,92,93,94,95,96,97,98,99,100,101,102,103,104,105,106,107,108,109,110,111,112,113,114,115,116,117,118,119,120,121,122,123,124,125,126,127,128,129,130,131,132,133,134,135,136,137,138,139,140,141,142,143,144,145,146,147,148,149,150,151,152,153,154,155,156,157,158,159,160,161,162,163,164,165,166,167,168,169,170,171,172,173,174,175,176,177,178,179,180,181,182,183,184,185,186,187,188,189,190,191,192,193,194,195,196,197,198,199,200,201,202,203,204,205,206,207,208,209,210,211,212,213,214,215,216,217,218,219,220,221,222,223,224,225,226,227,228,229,230,231,232,233,234],\"y\":[1.82325,1.83275,1.8455,1.81875,1.76225,1.7997500000000004,1.661,1.4969999999999997,1.4300000000000002,1.1397499999999998,0.6075,0.12425000000000005,-0.021749999999999978,0.51475,0.7390000000000001,0.13675000000000007,0.442,0.03524999999999994,0.16125000000000003,0.006000000000000012,0.054499999999999965,-0.005500000000000022,0.02625,-0.01050000000000003,-0.011750000000000083,-0.008750000000000008,-0.007000000000000083,-0.01100000000000001,-0.002000000000000078,-0.02350000000000002,-0.027750000000000056,-0.02250000000000003,-0.03474999999999997,-0.048249999999999994,-0.04875000000000006,-0.04875000000000004,-0.09150000000000005,-0.11775000000000004,-0.11600000000000013,-0.22899999999999993,-0.34525000000000006,-0.33349999999999996,-0.57425,-0.733,-0.74625,-0.7475,-0.122,-0.63775,-0.59625,-0.7237500000000002,-0.7265,-0.7547499999999999,-0.6239999999999999,-0.767,-0.7449999999999999,-0.7707499999999998,-0.77075,-0.7614999999999998,-0.7842500000000001,-0.78425,-0.7752500000000001,-0.7874999999999998,-0.77275,-0.7555000000000002,-0.7772499999999998,-0.7525,-0.7785000000000001,-0.7722500000000001,-0.7804999999999999,-0.7859999999999999,-0.7912499999999998,-0.7929999999999999,-0.7969999999999998,-0.7967500000000002,-0.81775,-0.80025,-0.8027499999999999,-0.81875,-0.822,-0.8275000000000001,-0.8072499999999999,-0.8252499999999998,-0.82825,-0.8157499999999999,-0.8117500000000001,-0.8272500000000002,-0.809,-0.8207499999999999,-0.81425,-0.8230000000000002,-0.8227500000000001,-0.8160000000000002,-0.8187500000000003,-0.82375,-0.8229999999999996,-0.8152499999999999,-0.8242499999999999,-0.8200000000000003,-0.825,-0.82425,-0.8177499999999998,-0.8192499999999999,-0.8184999999999999,-0.8172500000000003,-0.8272500000000002,-0.82275,-0.8145,-0.82625,-0.8227500000000001,-0.8242500000000001,-0.8240000000000002,-0.8235000000000001,-0.8199999999999998,-0.8185000000000001,-0.8274999999999999,-0.81925,-0.8237500000000002,-0.822,-0.8135,-0.82775,-0.8192499999999999,-0.815,-0.8244999999999999,-0.8202499999999999,-0.8197500000000001,-0.81875,-0.8107499999999997,-0.8172500000000001,-0.8207499999999999,-0.81925,-0.8372499999999998,-0.8229999999999997,-0.82375,-0.8065,-0.8232500000000003,-0.8212500000000003,-0.8277500000000001,-0.8209999999999998,-0.81575,-0.8072500000000002,-0.80925,-0.809,-0.8230000000000002,-0.8214999999999999,-0.8237500000000001,-0.8277500000000002,-0.8252499999999998,-0.8217500000000002,-0.83225,-0.8222500000000001,-0.81225,-0.81925,-0.8197500000000001,-0.81725,-0.8142499999999997,-0.8192499999999999,-0.81975,-0.82325,-0.8235,-0.8205,-0.82,-0.8190000000000002,-0.8260000000000002,-0.82625,-0.8235,-0.812,-0.8084999999999999,-0.827,-0.8292499999999998,-0.8147499999999999,-0.8175000000000001,-0.8174999999999998,-0.8145,-0.8164999999999998,-0.8187500000000001,-0.816,-0.8305,-0.8082499999999999,-0.8195000000000002,-0.8270000000000002,-0.81575,-0.8214999999999998,-0.8260000000000002,-0.82425,-0.811,-0.8147500000000003,-0.82875,-0.8159999999999998,-0.81175,-0.8185000000000001,-0.8292499999999998,-0.8204999999999999,-0.82825,-0.8110000000000002,-0.82425,-0.8267500000000001,-0.8212499999999999,-0.8197499999999999,-0.8262500000000002,-0.81975,-0.8275,-0.8095000000000002,-0.8184999999999999,-0.8237500000000001,-0.8260000000000002,-0.8167499999999999,-0.8244999999999999,-0.82025,-0.82025,-0.8147500000000001,-0.8242500000000001,-0.8077500000000001,-0.81925,-0.8275,-0.83175,-0.8254999999999999,-0.82975,-0.8297499999999999,-0.8274999999999999,-0.8202500000000001,-0.8292499999999998,-0.8212500000000001,-0.82825,-0.8237500000000001,-0.82925,-0.8119999999999998,-0.8220000000000002,-0.8207500000000001,-0.8187499999999999,-0.833,-0.8217499999999999,-0.8122500000000001,-0.826,-0.8207500000000001]}],                        {\"template\":{\"data\":{\"bar\":[{\"error_x\":{\"color\":\"#2a3f5f\"},\"error_y\":{\"color\":\"#2a3f5f\"},\"marker\":{\"line\":{\"color\":\"#E5ECF6\",\"width\":0.5},\"pattern\":{\"fillmode\":\"overlay\",\"size\":10,\"solidity\":0.2}},\"type\":\"bar\"}],\"barpolar\":[{\"marker\":{\"line\":{\"color\":\"#E5ECF6\",\"width\":0.5},\"pattern\":{\"fillmode\":\"overlay\",\"size\":10,\"solidity\":0.2}},\"type\":\"barpolar\"}],\"carpet\":[{\"aaxis\":{\"endlinecolor\":\"#2a3f5f\",\"gridcolor\":\"white\",\"linecolor\":\"white\",\"minorgridcolor\":\"white\",\"startlinecolor\":\"#2a3f5f\"},\"baxis\":{\"endlinecolor\":\"#2a3f5f\",\"gridcolor\":\"white\",\"linecolor\":\"white\",\"minorgridcolor\":\"white\",\"startlinecolor\":\"#2a3f5f\"},\"type\":\"carpet\"}],\"choropleth\":[{\"colorbar\":{\"outlinewidth\":0,\"ticks\":\"\"},\"type\":\"choropleth\"}],\"contour\":[{\"colorbar\":{\"outlinewidth\":0,\"ticks\":\"\"},\"colorscale\":[[0.0,\"#0d0887\"],[0.1111111111111111,\"#46039f\"],[0.2222222222222222,\"#7201a8\"],[0.3333333333333333,\"#9c179e\"],[0.4444444444444444,\"#bd3786\"],[0.5555555555555556,\"#d8576b\"],[0.6666666666666666,\"#ed7953\"],[0.7777777777777778,\"#fb9f3a\"],[0.8888888888888888,\"#fdca26\"],[1.0,\"#f0f921\"]],\"type\":\"contour\"}],\"contourcarpet\":[{\"colorbar\":{\"outlinewidth\":0,\"ticks\":\"\"},\"type\":\"contourcarpet\"}],\"heatmap\":[{\"colorbar\":{\"outlinewidth\":0,\"ticks\":\"\"},\"colorscale\":[[0.0,\"#0d0887\"],[0.1111111111111111,\"#46039f\"],[0.2222222222222222,\"#7201a8\"],[0.3333333333333333,\"#9c179e\"],[0.4444444444444444,\"#bd3786\"],[0.5555555555555556,\"#d8576b\"],[0.6666666666666666,\"#ed7953\"],[0.7777777777777778,\"#fb9f3a\"],[0.8888888888888888,\"#fdca26\"],[1.0,\"#f0f921\"]],\"type\":\"heatmap\"}],\"heatmapgl\":[{\"colorbar\":{\"outlinewidth\":0,\"ticks\":\"\"},\"colorscale\":[[0.0,\"#0d0887\"],[0.1111111111111111,\"#46039f\"],[0.2222222222222222,\"#7201a8\"],[0.3333333333333333,\"#9c179e\"],[0.4444444444444444,\"#bd3786\"],[0.5555555555555556,\"#d8576b\"],[0.6666666666666666,\"#ed7953\"],[0.7777777777777778,\"#fb9f3a\"],[0.8888888888888888,\"#fdca26\"],[1.0,\"#f0f921\"]],\"type\":\"heatmapgl\"}],\"histogram\":[{\"marker\":{\"pattern\":{\"fillmode\":\"overlay\",\"size\":10,\"solidity\":0.2}},\"type\":\"histogram\"}],\"histogram2d\":[{\"colorbar\":{\"outlinewidth\":0,\"ticks\":\"\"},\"colorscale\":[[0.0,\"#0d0887\"],[0.1111111111111111,\"#46039f\"],[0.2222222222222222,\"#7201a8\"],[0.3333333333333333,\"#9c179e\"],[0.4444444444444444,\"#bd3786\"],[0.5555555555555556,\"#d8576b\"],[0.6666666666666666,\"#ed7953\"],[0.7777777777777778,\"#fb9f3a\"],[0.8888888888888888,\"#fdca26\"],[1.0,\"#f0f921\"]],\"type\":\"histogram2d\"}],\"histogram2dcontour\":[{\"colorbar\":{\"outlinewidth\":0,\"ticks\":\"\"},\"colorscale\":[[0.0,\"#0d0887\"],[0.1111111111111111,\"#46039f\"],[0.2222222222222222,\"#7201a8\"],[0.3333333333333333,\"#9c179e\"],[0.4444444444444444,\"#bd3786\"],[0.5555555555555556,\"#d8576b\"],[0.6666666666666666,\"#ed7953\"],[0.7777777777777778,\"#fb9f3a\"],[0.8888888888888888,\"#fdca26\"],[1.0,\"#f0f921\"]],\"type\":\"histogram2dcontour\"}],\"mesh3d\":[{\"colorbar\":{\"outlinewidth\":0,\"ticks\":\"\"},\"type\":\"mesh3d\"}],\"parcoords\":[{\"line\":{\"colorbar\":{\"outlinewidth\":0,\"ticks\":\"\"}},\"type\":\"parcoords\"}],\"pie\":[{\"automargin\":true,\"type\":\"pie\"}],\"scatter\":[{\"marker\":{\"colorbar\":{\"outlinewidth\":0,\"ticks\":\"\"}},\"type\":\"scatter\"}],\"scatter3d\":[{\"line\":{\"colorbar\":{\"outlinewidth\":0,\"ticks\":\"\"}},\"marker\":{\"colorbar\":{\"outlinewidth\":0,\"ticks\":\"\"}},\"type\":\"scatter3d\"}],\"scattercarpet\":[{\"marker\":{\"colorbar\":{\"outlinewidth\":0,\"ticks\":\"\"}},\"type\":\"scattercarpet\"}],\"scattergeo\":[{\"marker\":{\"colorbar\":{\"outlinewidth\":0,\"ticks\":\"\"}},\"type\":\"scattergeo\"}],\"scattergl\":[{\"marker\":{\"colorbar\":{\"outlinewidth\":0,\"ticks\":\"\"}},\"type\":\"scattergl\"}],\"scattermapbox\":[{\"marker\":{\"colorbar\":{\"outlinewidth\":0,\"ticks\":\"\"}},\"type\":\"scattermapbox\"}],\"scatterpolar\":[{\"marker\":{\"colorbar\":{\"outlinewidth\":0,\"ticks\":\"\"}},\"type\":\"scatterpolar\"}],\"scatterpolargl\":[{\"marker\":{\"colorbar\":{\"outlinewidth\":0,\"ticks\":\"\"}},\"type\":\"scatterpolargl\"}],\"scatterternary\":[{\"marker\":{\"colorbar\":{\"outlinewidth\":0,\"ticks\":\"\"}},\"type\":\"scatterternary\"}],\"surface\":[{\"colorbar\":{\"outlinewidth\":0,\"ticks\":\"\"},\"colorscale\":[[0.0,\"#0d0887\"],[0.1111111111111111,\"#46039f\"],[0.2222222222222222,\"#7201a8\"],[0.3333333333333333,\"#9c179e\"],[0.4444444444444444,\"#bd3786\"],[0.5555555555555556,\"#d8576b\"],[0.6666666666666666,\"#ed7953\"],[0.7777777777777778,\"#fb9f3a\"],[0.8888888888888888,\"#fdca26\"],[1.0,\"#f0f921\"]],\"type\":\"surface\"}],\"table\":[{\"cells\":{\"fill\":{\"color\":\"#EBF0F8\"},\"line\":{\"color\":\"white\"}},\"header\":{\"fill\":{\"color\":\"#C8D4E3\"},\"line\":{\"color\":\"white\"}},\"type\":\"table\"}]},\"layout\":{\"annotationdefaults\":{\"arrowcolor\":\"#2a3f5f\",\"arrowhead\":0,\"arrowwidth\":1},\"autotypenumbers\":\"strict\",\"coloraxis\":{\"colorbar\":{\"outlinewidth\":0,\"ticks\":\"\"}},\"colorscale\":{\"diverging\":[[0,\"#8e0152\"],[0.1,\"#c51b7d\"],[0.2,\"#de77ae\"],[0.3,\"#f1b6da\"],[0.4,\"#fde0ef\"],[0.5,\"#f7f7f7\"],[0.6,\"#e6f5d0\"],[0.7,\"#b8e186\"],[0.8,\"#7fbc41\"],[0.9,\"#4d9221\"],[1,\"#276419\"]],\"sequential\":[[0.0,\"#0d0887\"],[0.1111111111111111,\"#46039f\"],[0.2222222222222222,\"#7201a8\"],[0.3333333333333333,\"#9c179e\"],[0.4444444444444444,\"#bd3786\"],[0.5555555555555556,\"#d8576b\"],[0.6666666666666666,\"#ed7953\"],[0.7777777777777778,\"#fb9f3a\"],[0.8888888888888888,\"#fdca26\"],[1.0,\"#f0f921\"]],\"sequentialminus\":[[0.0,\"#0d0887\"],[0.1111111111111111,\"#46039f\"],[0.2222222222222222,\"#7201a8\"],[0.3333333333333333,\"#9c179e\"],[0.4444444444444444,\"#bd3786\"],[0.5555555555555556,\"#d8576b\"],[0.6666666666666666,\"#ed7953\"],[0.7777777777777778,\"#fb9f3a\"],[0.8888888888888888,\"#fdca26\"],[1.0,\"#f0f921\"]]},\"colorway\":[\"#636efa\",\"#EF553B\",\"#00cc96\",\"#ab63fa\",\"#FFA15A\",\"#19d3f3\",\"#FF6692\",\"#B6E880\",\"#FF97FF\",\"#FECB52\"],\"font\":{\"color\":\"#2a3f5f\"},\"geo\":{\"bgcolor\":\"white\",\"lakecolor\":\"white\",\"landcolor\":\"#E5ECF6\",\"showlakes\":true,\"showland\":true,\"subunitcolor\":\"white\"},\"hoverlabel\":{\"align\":\"left\"},\"hovermode\":\"closest\",\"mapbox\":{\"style\":\"light\"},\"paper_bgcolor\":\"white\",\"plot_bgcolor\":\"#E5ECF6\",\"polar\":{\"angularaxis\":{\"gridcolor\":\"white\",\"linecolor\":\"white\",\"ticks\":\"\"},\"bgcolor\":\"#E5ECF6\",\"radialaxis\":{\"gridcolor\":\"white\",\"linecolor\":\"white\",\"ticks\":\"\"}},\"scene\":{\"xaxis\":{\"backgroundcolor\":\"#E5ECF6\",\"gridcolor\":\"white\",\"gridwidth\":2,\"linecolor\":\"white\",\"showbackground\":true,\"ticks\":\"\",\"zerolinecolor\":\"white\"},\"yaxis\":{\"backgroundcolor\":\"#E5ECF6\",\"gridcolor\":\"white\",\"gridwidth\":2,\"linecolor\":\"white\",\"showbackground\":true,\"ticks\":\"\",\"zerolinecolor\":\"white\"},\"zaxis\":{\"backgroundcolor\":\"#E5ECF6\",\"gridcolor\":\"white\",\"gridwidth\":2,\"linecolor\":\"white\",\"showbackground\":true,\"ticks\":\"\",\"zerolinecolor\":\"white\"}},\"shapedefaults\":{\"line\":{\"color\":\"#2a3f5f\"}},\"ternary\":{\"aaxis\":{\"gridcolor\":\"white\",\"linecolor\":\"white\",\"ticks\":\"\"},\"baxis\":{\"gridcolor\":\"white\",\"linecolor\":\"white\",\"ticks\":\"\"},\"bgcolor\":\"#E5ECF6\",\"caxis\":{\"gridcolor\":\"white\",\"linecolor\":\"white\",\"ticks\":\"\"}},\"title\":{\"x\":0.05},\"xaxis\":{\"automargin\":true,\"gridcolor\":\"white\",\"linecolor\":\"white\",\"ticks\":\"\",\"title\":{\"standoff\":15},\"zerolinecolor\":\"white\",\"zerolinewidth\":2},\"yaxis\":{\"automargin\":true,\"gridcolor\":\"white\",\"linecolor\":\"white\",\"ticks\":\"\",\"title\":{\"standoff\":15},\"zerolinecolor\":\"white\",\"zerolinewidth\":2}}},\"title\":{\"text\":\"Optimizer\"},\"xaxis\":{\"title\":{\"text\":\"Evaluation Counts\"}},\"yaxis\":{\"title\":{\"text\":\"Energy\"}}},                        {\"responsive\": true}                    ).then(function(){\n",
       "                            \n",
       "var gd = document.getElementById('8c5c2208-af45-4ab8-a836-4c8ef26fec76');\n",
       "var x = new MutationObserver(function (mutations, observer) {{\n",
       "        var display = window.getComputedStyle(gd).display;\n",
       "        if (!display || display === 'none') {{\n",
       "            console.log([gd, 'removed!']);\n",
       "            Plotly.purge(gd);\n",
       "            observer.disconnect();\n",
       "        }}\n",
       "}});\n",
       "\n",
       "// Listen for the removal of the full notebook cells\n",
       "var notebookContainer = gd.closest('#notebook-container');\n",
       "if (notebookContainer) {{\n",
       "    x.observe(notebookContainer, {childList: true});\n",
       "}}\n",
       "\n",
       "// Listen for the clearing of the current output cell\n",
       "var outputEl = gd.closest('.output');\n",
       "if (outputEl) {{\n",
       "    x.observe(outputEl, {childList: true});\n",
       "}}\n",
       "\n",
       "                        })                };                });            </script>        </div>"
      ]
     },
     "metadata": {},
     "output_type": "display_data"
    }
   ],
   "source": [
    "fig = go.Figure(data=go.Scatter(x=counts, y=values))\n",
    "fig.update_layout(xaxis_title=\"Evaluation Counts\", yaxis_title=\"Evaluated Mean\", title=\"Optimizer\")\n",
    "fig.show()"
   ]
  },
  {
   "cell_type": "code",
   "execution_count": null,
   "id": "d6db297c",
   "metadata": {},
   "outputs": [],
   "source": []
  }
 ],
 "metadata": {
  "kernelspec": {
   "display_name": "python3.8",
   "language": "python",
   "name": "python3.8"
  },
  "language_info": {
   "codemirror_mode": {
    "name": "ipython",
    "version": 3
   },
   "file_extension": ".py",
   "mimetype": "text/x-python",
   "name": "python",
   "nbconvert_exporter": "python",
   "pygments_lexer": "ipython3",
   "version": "3.8.6"
  }
 },
 "nbformat": 4,
 "nbformat_minor": 5
}
