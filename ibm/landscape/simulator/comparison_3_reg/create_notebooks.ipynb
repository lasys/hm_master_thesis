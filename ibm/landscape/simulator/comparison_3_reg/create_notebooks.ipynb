{
 "cells": [
  {
   "cell_type": "markdown",
   "id": "87ffe44f",
   "metadata": {},
   "source": [
    "# Create notebooks"
   ]
  },
  {
   "cell_type": "code",
   "execution_count": 6,
   "id": "442b2a30",
   "metadata": {},
   "outputs": [],
   "source": [
    "import os\n",
    "import shutil"
   ]
  },
  {
   "cell_type": "code",
   "execution_count": 7,
   "id": "70d47dbb",
   "metadata": {},
   "outputs": [],
   "source": [
    "template = \"comparison_3_reg_template.ipynb\"\n",
    "prefix = \"notebooks/test_comparison_3_\"\n",
    "suffix = \".ipynb\""
   ]
  },
  {
   "cell_type": "code",
   "execution_count": 8,
   "id": "062a7077",
   "metadata": {},
   "outputs": [],
   "source": [
    "def create_notebook(graph):\n",
    "    filename = prefix + graph.replace(\".txt\",\"\") + suffix\n",
    "    shutil.copy2(template, filename)\n",
    "    return filename"
   ]
  },
  {
   "cell_type": "code",
   "execution_count": 9,
   "id": "a7130fe5",
   "metadata": {},
   "outputs": [],
   "source": [
    "def replace_vars(filename, graphfile, name):\n",
    "    # read file \n",
    "    f = open(filename, 'r')\n",
    "    lines = f.readlines()\n",
    "    f.close()\n",
    "    \n",
    "    f = open(filename, 'w')\n",
    "    new_lines = []\n",
    "    for l in lines: \n",
    "        if \"GRAPHFILE\" in l: \n",
    "            l = l.replace(\"GRAPHFILE\", graphfile)\n",
    "        if \"GRAPHNAME\" in l: \n",
    "            l = l.replace(\"GRAPHNAME\", name)\n",
    "        new_lines.append(l)\n",
    "    f.writelines(new_lines)\n",
    "    f.close()"
   ]
  },
  {
   "cell_type": "code",
   "execution_count": 10,
   "id": "42f44932",
   "metadata": {},
   "outputs": [],
   "source": [
    "graphfiles = os.listdir(\"data/\")\n",
    "for graph in graphfiles:\n",
    "    if \".txt\" not in graph:\n",
    "        continue\n",
    "    filename = create_notebook(graph)\n",
    "    name = graph.replace(\".txt\",\"\")\n",
    "    replace_vars(filename, graph, name)"
   ]
  },
  {
   "cell_type": "code",
   "execution_count": null,
   "id": "18a206fc",
   "metadata": {},
   "outputs": [],
   "source": []
  }
 ],
 "metadata": {
  "kernelspec": {
   "display_name": "python3.8",
   "language": "python",
   "name": "python3.8"
  },
  "language_info": {
   "codemirror_mode": {
    "name": "ipython",
    "version": 3
   },
   "file_extension": ".py",
   "mimetype": "text/x-python",
   "name": "python",
   "nbconvert_exporter": "python",
   "pygments_lexer": "ipython3",
   "version": "3.8.6"
  }
 },
 "nbformat": 4,
 "nbformat_minor": 5
}
