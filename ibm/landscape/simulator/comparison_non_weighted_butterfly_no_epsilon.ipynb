{
 "cells": [
  {
   "cell_type": "markdown",
   "id": "1823fc33",
   "metadata": {},
   "source": [
    "# Comparison non weighted butterfly (no epsilon)"
   ]
  },
  {
   "cell_type": "code",
   "execution_count": 2,
   "id": "aff7fd6c",
   "metadata": {},
   "outputs": [],
   "source": [
    "import sys\n",
    "import os\n",
    "sys.path.insert(0, os.path.abspath('../'))\n",
    "sys.path.insert(0, os.path.abspath('../../'))\n",
    "sys.path.insert(0, os.path.abspath('/home/hm-tlacherm/qlm_notebooks/notebooks_1.2.1/notebooks/master_thesis_qaoa/'))\n",
    "sys.path.insert(0, os.path.abspath('/home/hm-tlacherm/qlm_notebooks/notebooks_1.2.1/notebooks/master_thesis_qaoa/ibm/'))\n",
    "sys.path.insert(0, os.path.abspath('/home/hm-tlacherm/qlm_notebooks/notebooks_1.2.1/notebooks/master_thesis_qaoa/ibm/landscape/'))\n",
    "sys.path.insert(0, os.path.abspath('/home/hm-tlacherm/qlm_notebooks/notebooks_1.2.1/notebooks/master_thesis_qaoa/ibm/landscape/simulator/'))"
   ]
  },
  {
   "cell_type": "code",
   "execution_count": 3,
   "id": "51e0cad5",
   "metadata": {
    "scrolled": true
   },
   "outputs": [],
   "source": [
    "import numpy as np\n",
    "\n",
    "import qiskit\n",
    "provider = qiskit.IBMQ.load_account()\n",
    "from qiskit import Aer\n",
    "from qiskit.utils import QuantumInstance\n",
    "from qiskit_optimization.algorithms import MinimumEigenOptimizer\n",
    "from qiskit.algorithms import QAOA\n",
    "from shared.QiskitMaxcut import *\n",
    "from ibm.ibm_parameters import *\n",
    "\n",
    "from matplotlib import pyplot as plt\n",
    "%matplotlib inline\n",
    "\n",
    "from ibm_landscape_processes import *"
   ]
  },
  {
   "cell_type": "code",
   "execution_count": 4,
   "id": "254785e8",
   "metadata": {},
   "outputs": [],
   "source": [
    "%load_ext autoreload\n",
    "%autoreload 2"
   ]
  },
  {
   "cell_type": "code",
   "execution_count": 5,
   "id": "960c03bd",
   "metadata": {
    "scrolled": true
   },
   "outputs": [
    {
     "data": {
      "image/png": "[encoded data removed]",
      "text/plain": [
       "<Figure size 432x288 with 1 Axes>"
      ]
     },
     "metadata": {},
     "output_type": "display_data"
    }
   ],
   "source": [
    "# ---- Define graph and MaxCut ----\n",
    "graph = generate_butterfly_graph(with_weights=True)\n",
    "opt_max_cut = -35\n",
    "max_cut = Maxcut(graph, opt_max_cut)\n",
    "max_cut_qubo = max_cut.to_qubo()\n",
    "max_cut.draw()"
   ]
  },
  {
   "cell_type": "code",
   "execution_count": 6,
   "id": "e9477b79",
   "metadata": {},
   "outputs": [],
   "source": [
    "from qiskit_optimization.algorithms import GoemansWilliamsonOptimizer"
   ]
  },
  {
   "cell_type": "code",
   "execution_count": 7,
   "id": "9cc95294",
   "metadata": {},
   "outputs": [
    {
     "name": "stdout",
     "output_type": "stream",
     "text": [
      "optimal function value: 35.0\n",
      "optimal value: [0 1 0 1 0]\n",
      "status: SUCCESS\n",
      "00011: value: -32.000, probability: 25.0%\n",
      "00101: value: -32.000, probability: 25.0%\n",
      "01110: value: -33.000, probability: 25.0%\n",
      "01010: value: -35.000, probability: 25.0%\n",
      "Expectation Value: -33.0\n",
      "Highest Exp.Value: -32 with 50.0 %\n",
      "Lowest Exp.Value: -35 with 25.0 %\n",
      "Highest Probability: -32 with 50.0 %\n",
      "Ratio r: 0.3333333333333333\n",
      "Approiximation ratio: 0.9428571428571428\n",
      "MSE: 1.6666666666666667\n",
      "RMSE: 1.2909944487358056\n"
     ]
    },
    {
     "data": {
      "image/png": "[encoded data removed]",
      "text/plain": [
       "<Figure size 504x360 with 1 Axes>"
      ]
     },
     "metadata": {
      "needs_background": "light"
     },
     "output_type": "display_data"
    }
   ],
   "source": [
    "optimizer = GoemansWilliamsonOptimizer(5)\n",
    "result = optimizer.solve(max_cut_qubo)\n",
    "mean, distribution = max_cut.analyse(result, print_output=True)\n",
    "max_cut.plot_histogram(distribution, mean)"
   ]
  },
  {
   "cell_type": "markdown",
   "id": "556a3915",
   "metadata": {},
   "source": [
    "# Display MaxCut-Landscape for p = 1"
   ]
  },
  {
   "cell_type": "code",
   "execution_count": null,
   "id": "54897b45",
   "metadata": {},
   "outputs": [],
   "source": [
    "from landscape_helper import *"
   ]
  },
  {
   "cell_type": "code",
   "execution_count": null,
   "id": "f2f4e617",
   "metadata": {},
   "outputs": [],
   "source": [
    "landscape = load_landscape_data('/home/hm-tlacherm/qlm_notebooks/notebooks_1.2.1/notebooks/master_thesis_qaoa/ibm/landscape/simulator/landscape_simulator_butterfly_no_weights_results.npy')"
   ]
  },
  {
   "cell_type": "code",
   "execution_count": null,
   "id": "59ba6554",
   "metadata": {},
   "outputs": [],
   "source": [
    "min_gamma, min_beta, min_exp = describe_landscape(landscape)"
   ]
  },
  {
   "cell_type": "code",
   "execution_count": null,
   "id": "e9903969",
   "metadata": {},
   "outputs": [],
   "source": [
    "from plot_helper import *"
   ]
  },
  {
   "cell_type": "code",
   "execution_count": null,
   "id": "b082a3e0",
   "metadata": {},
   "outputs": [],
   "source": [
    "# Plot landscape in 3D \n",
    "plot_landscape_3d(landscape)"
   ]
  },
  {
   "cell_type": "code",
   "execution_count": null,
   "id": "cc2922fc",
   "metadata": {
    "scrolled": false
   },
   "outputs": [],
   "source": [
    "# Plot Heatmap \n",
    "heatmap = plot_heatmap(landscape)\n",
    "heatmap = display_minimum(heatmap, min_gamma, min_beta, min_exp)"
   ]
  },
  {
   "cell_type": "markdown",
   "id": "4ca2d059",
   "metadata": {},
   "source": [
    "### Find init values with TQA"
   ]
  },
  {
   "cell_type": "code",
   "execution_count": 8,
   "id": "b3e5f623",
   "metadata": {},
   "outputs": [],
   "source": [
    "from tqa import calculate_tqa"
   ]
  },
  {
   "cell_type": "code",
   "execution_count": 9,
   "id": "d5aac18c",
   "metadata": {},
   "outputs": [],
   "source": [
    "p = 1"
   ]
  },
  {
   "cell_type": "code",
   "execution_count": 10,
   "id": "5edd39af",
   "metadata": {},
   "outputs": [
    {
     "name": "stdout",
     "output_type": "stream",
     "text": [
      "TQA: Beta: [0.45175879], Gamma: [0.45175879] (p=1)\n"
     ]
    }
   ],
   "source": [
    "tqa_initial_points = calculate_tqa(graph, p)"
   ]
  },
  {
   "cell_type": "markdown",
   "id": "776f1ddd",
   "metadata": {},
   "source": [
    "#### Run QAOA with init_points, different optimizers and plot results "
   ]
  },
  {
   "cell_type": "code",
   "execution_count": 11,
   "id": "eeca36b0",
   "metadata": {},
   "outputs": [],
   "source": [
    "from qaoa_helper import *"
   ]
  },
  {
   "cell_type": "code",
   "execution_count": 12,
   "id": "3bd9f2fa",
   "metadata": {},
   "outputs": [],
   "source": [
    "qnSpsa = QNSPSA(calculate_fidelity(create_qaoa(), max_cut_qubo), maxiter=50)\n",
    "optimizers = [\n",
    "    ('COBYLA',COBYLA(maxiter=50)),\n",
    "    ('SPSA', SPSA(maxiter=50)),\n",
    "    ('QNSPSA', qnSpsa),\n",
    "]"
   ]
  },
  {
   "cell_type": "code",
   "execution_count": 17,
   "id": "55fd10cb",
   "metadata": {
    "scrolled": false
   },
   "outputs": [
    {
     "name": "stdout",
     "output_type": "stream",
     "text": [
      "COBYLA Optimizer\n",
      "optimal function value: -35.0\n",
      "optimal value: [0. 1. 0. 1. 0.]\n",
      "status: SUCCESS\n",
      "Number of samples (31) is too large to display. Skip.\n",
      "Expectation Value: -28.748875\n",
      "Highest Exp.Value: 0 with 2.8875 %\n",
      "Lowest Exp.Value: -35 with 1.0250000000000001 %\n",
      "Highest Probability: -32 with 30.162 %\n",
      "Ratio r: 0.8213964285714286\n",
      "Approiximation ratio: 0.8213964285714286\n",
      "MSE: 135.47350607331734\n",
      "RMSE: 11.63930865959475\n"
     ]
    },
    {
     "data": {
      "image/png": "[encoded data removed]",
      "text/plain": [
       "<Figure size 504x360 with 1 Axes>"
      ]
     },
     "metadata": {
      "needs_background": "light"
     },
     "output_type": "display_data"
    },
    {
     "name": "stdout",
     "output_type": "stream",
     "text": [
      "\n"
     ]
    }
   ],
   "source": [
    "for optimizer_tuple in optimizers:\n",
    "    optimizer_name, optimizer = optimizer_tuple\n",
    "    # create qaoa \n",
    "    qaoa = create_qaoa(optimizer = optimizer,\n",
    "            reps=p,\n",
    "            initial_point=tqa_initial_points,\n",
    "            #with_callback=True\n",
    "           )\n",
    "    # run qaoa \n",
    "    result, optimal_parameters = run_qaoa(qaoa, max_cut_qubo)\n",
    "    \n",
    "    # analyse results \n",
    "    print(f\"{optimizer_name} Optimizer\")\n",
    "    mean, distribution = max_cut.analyse(result, print_output=True)\n",
    "    max_cut.plot_histogram(distribution, mean)\n",
    "    #optimizer_history[2][-1] = mean\n",
    "    print()\n",
    "    \n",
    "    break\n",
    "    \n",
    "    # Display Optimizer Results\n",
    "    #counts, energy_values, maxcut_values, optimizer_gammas, optimizer_betas = optimizer_history\n",
    "    #display_optimizer_path(heatmap, optimizer_gammas, optimizer_betas, maxcut_values, optimizer_name)\n",
    "    \n",
    "    # Plot Optimizer History MaxCut Evaluation # Values from landscape -> real values may deviate \n",
    "    #plot_optimizer_maxcut_history(counts, maxcut_values, optimizer_name)\n",
    "    \n",
    "    # Plot Optimizer History Energy Evaluation -> not MaxCutMean! \n",
    "    #plot_optimizer_energy_history(counts, energy_values, optimizer_name)\n",
    "    "
   ]
  },
  {
   "cell_type": "code",
   "execution_count": null,
   "id": "555020a4",
   "metadata": {},
   "outputs": [],
   "source": []
  },
  {
   "cell_type": "code",
   "execution_count": null,
   "id": "888b5d8b",
   "metadata": {},
   "outputs": [],
   "source": []
  },
  {
   "cell_type": "markdown",
   "id": "06ba3fec",
   "metadata": {},
   "source": [
    "# Comparision"
   ]
  },
  {
   "cell_type": "markdown",
   "id": "13f8c2b0",
   "metadata": {},
   "source": [
    "## Parameters"
   ]
  },
  {
   "cell_type": "code",
   "execution_count": null,
   "id": "a9d0f88b",
   "metadata": {},
   "outputs": [],
   "source": [
    "eval_num = 100\n",
    "max_p = 10\n",
    "all_results = {}"
   ]
  },
  {
   "cell_type": "markdown",
   "id": "64671c54",
   "metadata": {},
   "source": [
    "## QAOA"
   ]
  },
  {
   "cell_type": "code",
   "execution_count": null,
   "id": "f7e979d9",
   "metadata": {},
   "outputs": [],
   "source": [
    "from qaoa_helper import *"
   ]
  },
  {
   "cell_type": "code",
   "execution_count": null,
   "id": "cab54ec5",
   "metadata": {},
   "outputs": [],
   "source": [
    "qaoa_p_means = []\n",
    "qaoa_p_ratios = []\n",
    "qaoa_p_approx_ratios = []\n",
    "\n",
    "for p in range(1,max_p+1):\n",
    "    m, r, ar = start_qaoa_evaluation(max_cut, eval_num=eval_num, reps=p)\n",
    "    qaoa_p_means.append(m)\n",
    "    qaoa_p_ratios.append(r)\n",
    "    qaoa_p_approx_ratios.append(ar)\n",
    "\n",
    "all_results[\"QAOA\"] = [qaoa_p_means, qaoa_p_ratios, qaoa_p_approx_ratios]"
   ]
  },
  {
   "cell_type": "code",
   "execution_count": null,
   "id": "a34634e9",
   "metadata": {
    "scrolled": true
   },
   "outputs": [],
   "source": [
    "display_boxplots_results(qaoa_p_means, qaoa_p_ratios, qaoa_p_approx_ratios)"
   ]
  },
  {
   "cell_type": "markdown",
   "id": "4420c233",
   "metadata": {},
   "source": [
    "## QAOA with TQA"
   ]
  },
  {
   "cell_type": "code",
   "execution_count": null,
   "id": "c91a1e42",
   "metadata": {},
   "outputs": [],
   "source": [
    "from qaoa_helper import *"
   ]
  },
  {
   "cell_type": "code",
   "execution_count": null,
   "id": "dd192414",
   "metadata": {},
   "outputs": [],
   "source": [
    "tqa_p_means = []\n",
    "tqa_p_ratios = []\n",
    "tqa_p_approx_ratios = []\n",
    "tqa_init_points = []\n",
    "\n",
    "for p in range(1,max_p+1):\n",
    "    tqa_initial_points = calculate_tqa(graph, p)\n",
    "    m, r, ar = start_qaoa_evaluation(max_cut, eval_num=eval_num, reps=p, init_points=tqa_initial_points)\n",
    "    tqa_p_means.append(m)\n",
    "    tqa_p_ratios.append(r)\n",
    "    tqa_p_approx_ratios.append(ar)\n",
    "    tqa_init_points.append(tqa_initial_points)\n",
    "    \n",
    "all_results[\"TQA QAOA\"] = [tqa_p_means, tqa_p_ratios, tqa_p_approx_ratios, tqa_init_points]"
   ]
  },
  {
   "cell_type": "code",
   "execution_count": null,
   "id": "0e44d31f",
   "metadata": {
    "scrolled": true
   },
   "outputs": [],
   "source": [
    "display_boxplots_results(tqa_p_means, tqa_p_ratios, tqa_p_approx_ratios, prefix='TQA ')"
   ]
  },
  {
   "cell_type": "markdown",
   "id": "7d4622ff",
   "metadata": {},
   "source": [
    "## WarmStart QAOA"
   ]
  },
  {
   "cell_type": "code",
   "execution_count": null,
   "id": "4ccfe5a6",
   "metadata": {},
   "outputs": [],
   "source": [
    "from warmstart_helper import *"
   ]
  },
  {
   "cell_type": "code",
   "execution_count": null,
   "id": "e36a6f34",
   "metadata": {
    "scrolled": true
   },
   "outputs": [],
   "source": [
    "ws_p_means = []\n",
    "ws_p_ratios = []\n",
    "ws_p_approx_ratios = []\n",
    "ws_opt_epsilons = []\n",
    "\n",
    "for p in range(1,max_p+1):\n",
    "    opt_epsilon = 0.25 #optimize_epsilon(max_cut, reps=p)\n",
    "    m, r, ar = start_ws_qaoa_evaluation(max_cut, eval_num=eval_num, reps=p, epsilon=opt_epsilon)\n",
    "    ws_p_means.append(m)\n",
    "    ws_p_ratios.append(r)\n",
    "    ws_p_approx_ratios.append(ar)\n",
    "    ws_opt_epsilons.append(opt_epsilon)\n",
    "    \n",
    "all_results[\"WarmStart QAOA\"] = [ws_p_means, ws_p_ratios, ws_p_approx_ratios, ws_opt_epsilons]"
   ]
  },
  {
   "cell_type": "code",
   "execution_count": null,
   "id": "47f4fe0b",
   "metadata": {
    "scrolled": true
   },
   "outputs": [],
   "source": [
    "display_boxplots_results(ws_p_means, ws_p_ratios, ws_p_approx_ratios, prefix='WarmStart ')"
   ]
  },
  {
   "cell_type": "markdown",
   "id": "0fe06492",
   "metadata": {},
   "source": [
    "### Recursive QAOA"
   ]
  },
  {
   "cell_type": "code",
   "execution_count": null,
   "id": "80bfd2c8",
   "metadata": {},
   "outputs": [],
   "source": [
    "from recursive_qaoa_helper import *"
   ]
  },
  {
   "cell_type": "code",
   "execution_count": null,
   "id": "5c430f87",
   "metadata": {
    "scrolled": true
   },
   "outputs": [],
   "source": [
    "recursive_p_means = []\n",
    "recursive_p_ratios = []\n",
    "recursive_p_approx_ratios = []\n",
    "\n",
    "for p in range(1,max_p+1):\n",
    "    m, r, ar = start_recursive_evaluation(max_cut, eval_num=eval_num, reps=p)\n",
    "    recursive_p_means.append(m)\n",
    "    recursive_p_ratios.append(r)\n",
    "    recursive_p_approx_ratios.append(ar)\n",
    "\n",
    "all_results[\"Recursive QAOA\"] = [recursive_p_means, recursive_p_ratios, recursive_p_approx_ratios]"
   ]
  },
  {
   "cell_type": "code",
   "execution_count": null,
   "id": "01ed9a47",
   "metadata": {
    "scrolled": true
   },
   "outputs": [],
   "source": [
    "display_boxplots_results(recursive_p_means, recursive_p_ratios, recursive_p_approx_ratios, prefix='Recursive ')"
   ]
  },
  {
   "cell_type": "markdown",
   "id": "288684cb",
   "metadata": {},
   "source": [
    "### Recursive WarmStart QAOA"
   ]
  },
  {
   "cell_type": "code",
   "execution_count": null,
   "id": "2c20e15e",
   "metadata": {},
   "outputs": [],
   "source": [
    "from recursive_ws_helper import *"
   ]
  },
  {
   "cell_type": "code",
   "execution_count": null,
   "id": "44099704",
   "metadata": {
    "scrolled": true
   },
   "outputs": [],
   "source": [
    "ws_recursive_p_means = []\n",
    "ws_recursive_p_ratios = []\n",
    "ws_recursive_p_approx_ratios = []\n",
    "\n",
    "for p in range(1,max_p+1):\n",
    "    opt_epsilon = ws_opt_epsilons[p-1]\n",
    "    m, r, ar = start_recursive_ws_qaoa_evaluation(max_cut, eval_num=eval_num, reps=p, epsilon=opt_epsilon)\n",
    "    ws_recursive_p_means.append(m)\n",
    "    ws_recursive_p_ratios.append(r)\n",
    "    ws_recursive_p_approx_ratios.append(ar)\n",
    "    \n",
    "all_results[\"Recursive WarmStrart QAOA\"] = [ws_recursive_p_means, ws_recursive_p_ratios, ws_recursive_p_approx_ratios, ws_opt_epsilons]"
   ]
  },
  {
   "cell_type": "code",
   "execution_count": null,
   "id": "06ec5ebd",
   "metadata": {
    "scrolled": true
   },
   "outputs": [],
   "source": [
    "display_boxplots_results(ws_recursive_p_means, ws_recursive_p_ratios, ws_recursive_p_approx_ratios, prefix='Recursive WarmStart ')"
   ]
  },
  {
   "cell_type": "markdown",
   "id": "63a9edce",
   "metadata": {},
   "source": [
    "## Results"
   ]
  },
  {
   "cell_type": "code",
   "execution_count": null,
   "id": "2d689ba4",
   "metadata": {},
   "outputs": [],
   "source": [
    "# Save results \n",
    "with open(f'comparison_simulator_{graph.name}_no_epsilon_results.npy', 'wb') as f:\n",
    "    np.save(f, all_results)"
   ]
  },
  {
   "cell_type": "code",
   "execution_count": 11,
   "id": "8868e2d8",
   "metadata": {},
   "outputs": [],
   "source": [
    "from results_helper import *"
   ]
  },
  {
   "cell_type": "code",
   "execution_count": 12,
   "id": "2c46dde3",
   "metadata": {},
   "outputs": [
    {
     "name": "stdout",
     "output_type": "stream",
     "text": [
      "QAOA\n",
      "TQA QAOA\n",
      "WarmStart QAOA\n",
      "Recursive QAOA\n",
      "Recursive WarmStrart QAOA\n"
     ]
    }
   ],
   "source": [
    "means_df, ratio_df, approx_ratios_df = generate_dataframes(all_results)"
   ]
  },
  {
   "cell_type": "markdown",
   "id": "98e647b2",
   "metadata": {},
   "source": [
    "### Metric Mean"
   ]
  },
  {
   "cell_type": "code",
   "execution_count": 13,
   "id": "013ea7d3",
   "metadata": {},
   "outputs": [
    {
     "data": {
      "text/html": [
       "<div>\n",
       "<style scoped>\n",
       "    .dataframe tbody tr th:only-of-type {\n",
       "        vertical-align: middle;\n",
       "    }\n",
       "\n",
       "    .dataframe tbody tr th {\n",
       "        vertical-align: top;\n",
       "    }\n",
       "\n",
       "    .dataframe thead th {\n",
       "        text-align: right;\n",
       "    }\n",
       "</style>\n",
       "<table border=\"1\" class=\"dataframe\">\n",
       "  <thead>\n",
       "    <tr style=\"text-align: right;\">\n",
       "      <th></th>\n",
       "      <th>QAOA</th>\n",
       "      <th>TQA QAOA</th>\n",
       "      <th>WarmStart QAOA</th>\n",
       "      <th>Recursive QAOA</th>\n",
       "      <th>Recursive WarmStrart QAOA</th>\n",
       "    </tr>\n",
       "    <tr>\n",
       "      <th>p</th>\n",
       "      <th></th>\n",
       "      <th></th>\n",
       "      <th></th>\n",
       "      <th></th>\n",
       "      <th></th>\n",
       "    </tr>\n",
       "  </thead>\n",
       "  <tbody>\n",
       "    <tr>\n",
       "      <th>1</th>\n",
       "      <td>-3.91</td>\n",
       "      <td>-3.92</td>\n",
       "      <td>-4.0</td>\n",
       "      <td>-4.0</td>\n",
       "      <td>-4.0</td>\n",
       "    </tr>\n",
       "    <tr>\n",
       "      <th>2</th>\n",
       "      <td>-3.90</td>\n",
       "      <td>-3.93</td>\n",
       "      <td>-4.0</td>\n",
       "      <td>-4.0</td>\n",
       "      <td>-4.0</td>\n",
       "    </tr>\n",
       "    <tr>\n",
       "      <th>3</th>\n",
       "      <td>-3.91</td>\n",
       "      <td>-3.82</td>\n",
       "      <td>-4.0</td>\n",
       "      <td>-4.0</td>\n",
       "      <td>-4.0</td>\n",
       "    </tr>\n",
       "    <tr>\n",
       "      <th>4</th>\n",
       "      <td>-3.91</td>\n",
       "      <td>-3.78</td>\n",
       "      <td>-4.0</td>\n",
       "      <td>-4.0</td>\n",
       "      <td>-4.0</td>\n",
       "    </tr>\n",
       "    <tr>\n",
       "      <th>5</th>\n",
       "      <td>-3.92</td>\n",
       "      <td>-3.94</td>\n",
       "      <td>-4.0</td>\n",
       "      <td>-4.0</td>\n",
       "      <td>-4.0</td>\n",
       "    </tr>\n",
       "    <tr>\n",
       "      <th>6</th>\n",
       "      <td>-3.90</td>\n",
       "      <td>-3.95</td>\n",
       "      <td>-4.0</td>\n",
       "      <td>-4.0</td>\n",
       "      <td>-4.0</td>\n",
       "    </tr>\n",
       "    <tr>\n",
       "      <th>7</th>\n",
       "      <td>-3.91</td>\n",
       "      <td>-3.93</td>\n",
       "      <td>-4.0</td>\n",
       "      <td>-4.0</td>\n",
       "      <td>-4.0</td>\n",
       "    </tr>\n",
       "    <tr>\n",
       "      <th>8</th>\n",
       "      <td>-3.87</td>\n",
       "      <td>-3.93</td>\n",
       "      <td>-4.0</td>\n",
       "      <td>-4.0</td>\n",
       "      <td>-4.0</td>\n",
       "    </tr>\n",
       "    <tr>\n",
       "      <th>9</th>\n",
       "      <td>-3.87</td>\n",
       "      <td>-3.95</td>\n",
       "      <td>-4.0</td>\n",
       "      <td>-4.0</td>\n",
       "      <td>-4.0</td>\n",
       "    </tr>\n",
       "    <tr>\n",
       "      <th>10</th>\n",
       "      <td>-3.85</td>\n",
       "      <td>-3.90</td>\n",
       "      <td>-4.0</td>\n",
       "      <td>-4.0</td>\n",
       "      <td>-4.0</td>\n",
       "    </tr>\n",
       "  </tbody>\n",
       "</table>\n",
       "</div>"
      ],
      "text/plain": [
       "    QAOA  TQA QAOA  WarmStart QAOA  Recursive QAOA  Recursive WarmStrart QAOA\n",
       "p                                                                            \n",
       "1  -3.91     -3.92            -4.0            -4.0                       -4.0\n",
       "2  -3.90     -3.93            -4.0            -4.0                       -4.0\n",
       "3  -3.91     -3.82            -4.0            -4.0                       -4.0\n",
       "4  -3.91     -3.78            -4.0            -4.0                       -4.0\n",
       "5  -3.92     -3.94            -4.0            -4.0                       -4.0\n",
       "6  -3.90     -3.95            -4.0            -4.0                       -4.0\n",
       "7  -3.91     -3.93            -4.0            -4.0                       -4.0\n",
       "8  -3.87     -3.93            -4.0            -4.0                       -4.0\n",
       "9  -3.87     -3.95            -4.0            -4.0                       -4.0\n",
       "10 -3.85     -3.90            -4.0            -4.0                       -4.0"
      ]
     },
     "execution_count": 13,
     "metadata": {},
     "output_type": "execute_result"
    }
   ],
   "source": [
    "means_df"
   ]
  },
  {
   "cell_type": "markdown",
   "id": "37d82475",
   "metadata": {},
   "source": [
    "### Metric Ratio "
   ]
  },
  {
   "cell_type": "code",
   "execution_count": 14,
   "id": "3e038dc1",
   "metadata": {},
   "outputs": [
    {
     "data": {
      "text/html": [
       "<div>\n",
       "<style scoped>\n",
       "    .dataframe tbody tr th:only-of-type {\n",
       "        vertical-align: middle;\n",
       "    }\n",
       "\n",
       "    .dataframe tbody tr th {\n",
       "        vertical-align: top;\n",
       "    }\n",
       "\n",
       "    .dataframe thead th {\n",
       "        text-align: right;\n",
       "    }\n",
       "</style>\n",
       "<table border=\"1\" class=\"dataframe\">\n",
       "  <thead>\n",
       "    <tr style=\"text-align: right;\">\n",
       "      <th></th>\n",
       "      <th>QAOA</th>\n",
       "      <th>TQA QAOA</th>\n",
       "      <th>WarmStart QAOA</th>\n",
       "      <th>Recursive QAOA</th>\n",
       "      <th>Recursive WarmStrart QAOA</th>\n",
       "    </tr>\n",
       "    <tr>\n",
       "      <th>p</th>\n",
       "      <th></th>\n",
       "      <th></th>\n",
       "      <th></th>\n",
       "      <th></th>\n",
       "      <th></th>\n",
       "    </tr>\n",
       "  </thead>\n",
       "  <tbody>\n",
       "    <tr>\n",
       "      <th>1</th>\n",
       "      <td>0.98</td>\n",
       "      <td>0.98</td>\n",
       "      <td>0.0</td>\n",
       "      <td>0.0</td>\n",
       "      <td>0.0</td>\n",
       "    </tr>\n",
       "    <tr>\n",
       "      <th>2</th>\n",
       "      <td>0.97</td>\n",
       "      <td>0.98</td>\n",
       "      <td>0.0</td>\n",
       "      <td>0.0</td>\n",
       "      <td>0.0</td>\n",
       "    </tr>\n",
       "    <tr>\n",
       "      <th>3</th>\n",
       "      <td>0.98</td>\n",
       "      <td>0.95</td>\n",
       "      <td>0.0</td>\n",
       "      <td>0.0</td>\n",
       "      <td>0.0</td>\n",
       "    </tr>\n",
       "    <tr>\n",
       "      <th>4</th>\n",
       "      <td>0.98</td>\n",
       "      <td>0.94</td>\n",
       "      <td>0.0</td>\n",
       "      <td>0.0</td>\n",
       "      <td>0.0</td>\n",
       "    </tr>\n",
       "    <tr>\n",
       "      <th>5</th>\n",
       "      <td>0.98</td>\n",
       "      <td>0.98</td>\n",
       "      <td>0.0</td>\n",
       "      <td>0.0</td>\n",
       "      <td>0.0</td>\n",
       "    </tr>\n",
       "    <tr>\n",
       "      <th>6</th>\n",
       "      <td>0.98</td>\n",
       "      <td>0.99</td>\n",
       "      <td>0.0</td>\n",
       "      <td>0.0</td>\n",
       "      <td>0.0</td>\n",
       "    </tr>\n",
       "    <tr>\n",
       "      <th>7</th>\n",
       "      <td>0.98</td>\n",
       "      <td>0.98</td>\n",
       "      <td>0.0</td>\n",
       "      <td>0.0</td>\n",
       "      <td>0.0</td>\n",
       "    </tr>\n",
       "    <tr>\n",
       "      <th>8</th>\n",
       "      <td>0.97</td>\n",
       "      <td>0.98</td>\n",
       "      <td>0.0</td>\n",
       "      <td>0.0</td>\n",
       "      <td>0.0</td>\n",
       "    </tr>\n",
       "    <tr>\n",
       "      <th>9</th>\n",
       "      <td>0.97</td>\n",
       "      <td>0.99</td>\n",
       "      <td>0.0</td>\n",
       "      <td>0.0</td>\n",
       "      <td>0.0</td>\n",
       "    </tr>\n",
       "    <tr>\n",
       "      <th>10</th>\n",
       "      <td>0.96</td>\n",
       "      <td>0.97</td>\n",
       "      <td>0.0</td>\n",
       "      <td>0.0</td>\n",
       "      <td>0.0</td>\n",
       "    </tr>\n",
       "  </tbody>\n",
       "</table>\n",
       "</div>"
      ],
      "text/plain": [
       "    QAOA  TQA QAOA  WarmStart QAOA  Recursive QAOA  Recursive WarmStrart QAOA\n",
       "p                                                                            \n",
       "1   0.98      0.98             0.0             0.0                        0.0\n",
       "2   0.97      0.98             0.0             0.0                        0.0\n",
       "3   0.98      0.95             0.0             0.0                        0.0\n",
       "4   0.98      0.94             0.0             0.0                        0.0\n",
       "5   0.98      0.98             0.0             0.0                        0.0\n",
       "6   0.98      0.99             0.0             0.0                        0.0\n",
       "7   0.98      0.98             0.0             0.0                        0.0\n",
       "8   0.97      0.98             0.0             0.0                        0.0\n",
       "9   0.97      0.99             0.0             0.0                        0.0\n",
       "10  0.96      0.97             0.0             0.0                        0.0"
      ]
     },
     "execution_count": 14,
     "metadata": {},
     "output_type": "execute_result"
    }
   ],
   "source": [
    "ratio_df"
   ]
  },
  {
   "cell_type": "markdown",
   "id": "bfdc7746",
   "metadata": {},
   "source": [
    "### Metric Approximation Ratio"
   ]
  },
  {
   "cell_type": "code",
   "execution_count": 15,
   "id": "13faf9bb",
   "metadata": {},
   "outputs": [
    {
     "data": {
      "text/html": [
       "<div>\n",
       "<style scoped>\n",
       "    .dataframe tbody tr th:only-of-type {\n",
       "        vertical-align: middle;\n",
       "    }\n",
       "\n",
       "    .dataframe tbody tr th {\n",
       "        vertical-align: top;\n",
       "    }\n",
       "\n",
       "    .dataframe thead th {\n",
       "        text-align: right;\n",
       "    }\n",
       "</style>\n",
       "<table border=\"1\" class=\"dataframe\">\n",
       "  <thead>\n",
       "    <tr style=\"text-align: right;\">\n",
       "      <th></th>\n",
       "      <th>QAOA</th>\n",
       "      <th>TQA QAOA</th>\n",
       "      <th>WarmStart QAOA</th>\n",
       "      <th>Recursive QAOA</th>\n",
       "      <th>Recursive WarmStrart QAOA</th>\n",
       "    </tr>\n",
       "    <tr>\n",
       "      <th>p</th>\n",
       "      <th></th>\n",
       "      <th></th>\n",
       "      <th></th>\n",
       "      <th></th>\n",
       "      <th></th>\n",
       "    </tr>\n",
       "  </thead>\n",
       "  <tbody>\n",
       "    <tr>\n",
       "      <th>1</th>\n",
       "      <td>0.98</td>\n",
       "      <td>0.98</td>\n",
       "      <td>1.0</td>\n",
       "      <td>1.0</td>\n",
       "      <td>1.0</td>\n",
       "    </tr>\n",
       "    <tr>\n",
       "      <th>2</th>\n",
       "      <td>0.97</td>\n",
       "      <td>0.98</td>\n",
       "      <td>1.0</td>\n",
       "      <td>1.0</td>\n",
       "      <td>1.0</td>\n",
       "    </tr>\n",
       "    <tr>\n",
       "      <th>3</th>\n",
       "      <td>0.98</td>\n",
       "      <td>0.95</td>\n",
       "      <td>1.0</td>\n",
       "      <td>1.0</td>\n",
       "      <td>1.0</td>\n",
       "    </tr>\n",
       "    <tr>\n",
       "      <th>4</th>\n",
       "      <td>0.98</td>\n",
       "      <td>0.94</td>\n",
       "      <td>1.0</td>\n",
       "      <td>1.0</td>\n",
       "      <td>1.0</td>\n",
       "    </tr>\n",
       "    <tr>\n",
       "      <th>5</th>\n",
       "      <td>0.98</td>\n",
       "      <td>0.98</td>\n",
       "      <td>1.0</td>\n",
       "      <td>1.0</td>\n",
       "      <td>1.0</td>\n",
       "    </tr>\n",
       "    <tr>\n",
       "      <th>6</th>\n",
       "      <td>0.98</td>\n",
       "      <td>0.99</td>\n",
       "      <td>1.0</td>\n",
       "      <td>1.0</td>\n",
       "      <td>1.0</td>\n",
       "    </tr>\n",
       "    <tr>\n",
       "      <th>7</th>\n",
       "      <td>0.98</td>\n",
       "      <td>0.98</td>\n",
       "      <td>1.0</td>\n",
       "      <td>1.0</td>\n",
       "      <td>1.0</td>\n",
       "    </tr>\n",
       "    <tr>\n",
       "      <th>8</th>\n",
       "      <td>0.97</td>\n",
       "      <td>0.98</td>\n",
       "      <td>1.0</td>\n",
       "      <td>1.0</td>\n",
       "      <td>1.0</td>\n",
       "    </tr>\n",
       "    <tr>\n",
       "      <th>9</th>\n",
       "      <td>0.97</td>\n",
       "      <td>0.99</td>\n",
       "      <td>1.0</td>\n",
       "      <td>1.0</td>\n",
       "      <td>1.0</td>\n",
       "    </tr>\n",
       "    <tr>\n",
       "      <th>10</th>\n",
       "      <td>0.96</td>\n",
       "      <td>0.97</td>\n",
       "      <td>1.0</td>\n",
       "      <td>1.0</td>\n",
       "      <td>1.0</td>\n",
       "    </tr>\n",
       "  </tbody>\n",
       "</table>\n",
       "</div>"
      ],
      "text/plain": [
       "    QAOA  TQA QAOA  WarmStart QAOA  Recursive QAOA  Recursive WarmStrart QAOA\n",
       "p                                                                            \n",
       "1   0.98      0.98             1.0             1.0                        1.0\n",
       "2   0.97      0.98             1.0             1.0                        1.0\n",
       "3   0.98      0.95             1.0             1.0                        1.0\n",
       "4   0.98      0.94             1.0             1.0                        1.0\n",
       "5   0.98      0.98             1.0             1.0                        1.0\n",
       "6   0.98      0.99             1.0             1.0                        1.0\n",
       "7   0.98      0.98             1.0             1.0                        1.0\n",
       "8   0.97      0.98             1.0             1.0                        1.0\n",
       "9   0.97      0.99             1.0             1.0                        1.0\n",
       "10  0.96      0.97             1.0             1.0                        1.0"
      ]
     },
     "execution_count": 15,
     "metadata": {},
     "output_type": "execute_result"
    }
   ],
   "source": [
    "approx_ratios_df"
   ]
  },
  {
   "cell_type": "code",
   "execution_count": null,
   "id": "8632d9cd",
   "metadata": {},
   "outputs": [],
   "source": []
  }
 ],
 "metadata": {
  "kernelspec": {
   "display_name": "python3.8",
   "language": "python",
   "name": "python3.8"
  },
  "language_info": {
   "codemirror_mode": {
    "name": "ipython",
    "version": 3
   },
   "file_extension": ".py",
   "mimetype": "text/x-python",
   "name": "python",
   "nbconvert_exporter": "python",
   "pygments_lexer": "ipython3",
   "version": "3.8.6"
  }
 },
 "nbformat": 4,
 "nbformat_minor": 5
}
