{
 "cells": [
  {
   "cell_type": "code",
   "execution_count": 40,
   "id": "0c86187b",
   "metadata": {},
   "outputs": [],
   "source": [
    "import sys\n",
    "import os\n",
    "sys.path.insert(0, os.path.abspath('../'))\n",
    "sys.path.insert(0, os.path.abspath('../../'))\n",
    "sys.path.insert(0, os.path.abspath('/home/hm-tlacherm/qlm_notebooks/notebooks_1.2.1/notebooks/master_thesis_qaoa/'))\n",
    "sys.path.insert(0, os.path.abspath('/home/hm-tlacherm/qlm_notebooks/notebooks_1.2.1/notebooks/master_thesis_qaoa/ibm/'))"
   ]
  },
  {
   "cell_type": "code",
   "execution_count": 41,
   "id": "c6eaef25",
   "metadata": {
    "scrolled": true
   },
   "outputs": [
    {
     "name": "stderr",
     "output_type": "stream",
     "text": [
      "ibmqfactory.load_account:WARNING:2021-08-24 16:00:45,960: Credentials are already in use. The existing account in the session will be replaced.\n"
     ]
    }
   ],
   "source": [
    "import numpy as np\n",
    "\n",
    "import qiskit\n",
    "provider = qiskit.IBMQ.load_account()\n",
    "from qiskit import Aer\n",
    "from qiskit.utils import QuantumInstance\n",
    "from qiskit_optimization.algorithms import MinimumEigenOptimizer\n",
    "from qiskit.algorithms import QAOA\n",
    "from shared.QiskitMaxcut import *\n",
    "from ibm.ibm_parameters import *\n",
    "\n",
    "from matplotlib import pyplot as plt\n",
    "%matplotlib inline\n",
    "\n",
    "from ibm_landscape_processes import *"
   ]
  },
  {
   "cell_type": "code",
   "execution_count": 42,
   "id": "c4c225fc",
   "metadata": {},
   "outputs": [
    {
     "name": "stdout",
     "output_type": "stream",
     "text": [
      "The autoreload extension is already loaded. To reload it, use:\n",
      "  %reload_ext autoreload\n"
     ]
    }
   ],
   "source": [
    "%load_ext autoreload\n",
    "%autoreload 2"
   ]
  },
  {
   "cell_type": "code",
   "execution_count": 99,
   "id": "123f12d9",
   "metadata": {},
   "outputs": [
    {
     "data": {
      "image/png": "[encoded data removed]",
      "text/plain": [
       "<Figure size 432x288 with 1 Axes>"
      ]
     },
     "metadata": {},
     "output_type": "display_data"
    }
   ],
   "source": [
    "# ---- Define graph and MaxCut ----\n",
    "graph = generate_butterfly_graph(with_weights=True)\n",
    "#graph = load_nx_graph_from(\"/home/hm-tlacherm/qlm_notebooks/notebooks_1.2.1/notebooks/master_thesis_qaoa/data/graphs/16_nodes/graph_16_33_01.txt\")\n",
    "#graph = load_nx_graph_from(\"/home/hm-tlacherm/qlm_notebooks/notebooks_1.2.1/notebooks/master_thesis_qaoa/data/graphs/10_nodes/graph_22_01_w.txt\")\n",
    "\n",
    "max_cut = Maxcut(graph)\n",
    "max_cut_qubo = max_cut.to_qubo()\n",
    "max_cut.draw()"
   ]
  },
  {
   "cell_type": "code",
   "execution_count": 82,
   "id": "6d34360e",
   "metadata": {},
   "outputs": [
    {
     "data": {
      "text/plain": [
       "{0: -16.0,\n",
       " 5: -35.0,\n",
       " 1: -34.0,\n",
       " 8: -32.0,\n",
       " 3: -19.0,\n",
       " 7: -36.0,\n",
       " 2: -6.0,\n",
       " 9: -16.0,\n",
       " 4: -9.0,\n",
       " 6: -21.0}"
      ]
     },
     "execution_count": 82,
     "metadata": {},
     "output_type": "execute_result"
    }
   ],
   "source": [
    "max_cut_qubo.objective.linear.to_dict()"
   ]
  },
  {
   "cell_type": "code",
   "execution_count": 50,
   "id": "28370603",
   "metadata": {},
   "outputs": [
    {
     "name": "stdout",
     "output_type": "stream",
     "text": [
      "// This file has been generated by DOcplex\n",
      "// model name is: Max-cut\n",
      "// single vars section\n",
      "dvar bool x_0;\n",
      "dvar bool x_1;\n",
      "dvar bool x_2;\n",
      "dvar bool x_3;\n",
      "dvar bool x_4;\n",
      "dvar bool x_5;\n",
      "dvar bool x_6;\n",
      "dvar bool x_7;\n",
      "dvar bool x_8;\n",
      "dvar bool x_9;\n",
      "\n",
      "minimize\n",
      " - 29 x_0 - 26 x_1 - 35 x_2 - 31 x_3 - 35 x_4 - 35 x_5 - 33 x_6 - 39 x_7\n",
      " - 21 x_8 - 32 x_9 [ 18 x_0*x_1 + 18 x_0*x_2 + 6 x_0*x_5 + 8 x_0*x_6\n",
      " + 8 x_0*x_8 + 6 x_1*x_2 + 6 x_1*x_3 + 12 x_1*x_4 + 6 x_1*x_7 + 4 x_1*x_8\n",
      " + 2 x_2*x_3 + 10 x_2*x_4 + 20 x_2*x_5 + 14 x_2*x_6 + 14 x_3*x_4 + 16 x_3*x_7\n",
      " + 4 x_3*x_8 + 20 x_3*x_9 + 12 x_4*x_5 + 14 x_4*x_6 + 8 x_4*x_7 + 10 x_5*x_6\n",
      " + 4 x_5*x_8 + 18 x_5*x_9 + 18 x_6*x_7 + 2 x_6*x_8 + 12 x_7*x_8 + 18 x_7*x_9\n",
      " + 8 x_8*x_9 ];\n",
      " \n",
      "subject to {\n",
      "\n",
      "}\n"
     ]
    }
   ],
   "source": [
    "m = max_cut_qubo.to_docplex()\n",
    "m.prettyprint()"
   ]
  },
  {
   "cell_type": "code",
   "execution_count": 42,
   "id": "7892e46e",
   "metadata": {},
   "outputs": [
    {
     "data": {
      "text/plain": [
       "{(0, 1): 18.0,\n",
       " (0, 2): 18.0,\n",
       " (1, 2): 6.0,\n",
       " (1, 3): 6.0,\n",
       " (2, 3): 2.0,\n",
       " (1, 4): 12.0,\n",
       " (2, 4): 10.0,\n",
       " (3, 4): 14.0,\n",
       " (0, 5): 6.0,\n",
       " (2, 5): 20.0,\n",
       " (4, 5): 12.0,\n",
       " (0, 6): 8.0,\n",
       " (2, 6): 14.0,\n",
       " (4, 6): 14.0,\n",
       " (5, 6): 10.0,\n",
       " (1, 7): 6.0,\n",
       " (3, 7): 16.0,\n",
       " (4, 7): 8.0,\n",
       " (6, 7): 18.0,\n",
       " (0, 8): 8.0,\n",
       " (1, 8): 4.0,\n",
       " (3, 8): 4.0,\n",
       " (5, 8): 4.0,\n",
       " (6, 8): 2.0,\n",
       " (7, 8): 12.0,\n",
       " (3, 9): 20.0,\n",
       " (5, 9): 18.0,\n",
       " (7, 9): 18.0,\n",
       " (8, 9): 8.0}"
      ]
     },
     "execution_count": 42,
     "metadata": {},
     "output_type": "execute_result"
    }
   ],
   "source": [
    "max_cut_qubo.objective.quadratic.to_dict()"
   ]
  },
  {
   "cell_type": "code",
   "execution_count": 13,
   "id": "3ee668e2",
   "metadata": {
    "scrolled": false
   },
   "outputs": [],
   "source": [
    "# ---- load results matrix   ----\n",
    "with open('landscape_simulator_butterfly_weights_results.npy', 'rb') as f:\n",
    "    landscape = np.load(f)\n",
    "    step_size = 0.1"
   ]
  },
  {
   "cell_type": "code",
   "execution_count": 14,
   "id": "f7bcd209",
   "metadata": {},
   "outputs": [
    {
     "data": {
      "text/plain": [
       "-23.580190544947982"
      ]
     },
     "execution_count": 14,
     "metadata": {},
     "output_type": "execute_result"
    }
   ],
   "source": [
    "# Mean of landscape\n",
    "np.mean(landscape)"
   ]
  },
  {
   "cell_type": "code",
   "execution_count": 15,
   "id": "d3b8940d",
   "metadata": {},
   "outputs": [
    {
     "data": {
      "text/plain": [
       "-32.02949905395508"
      ]
     },
     "execution_count": 15,
     "metadata": {},
     "output_type": "execute_result"
    }
   ],
   "source": [
    "# Minimium \n",
    "np.min(landscape)"
   ]
  },
  {
   "cell_type": "code",
   "execution_count": 16,
   "id": "6487adfe",
   "metadata": {},
   "outputs": [
    {
     "data": {
      "text/plain": [
       "(15, 5)"
      ]
     },
     "execution_count": 16,
     "metadata": {},
     "output_type": "execute_result"
    }
   ],
   "source": [
    "# Display Coordinates of Minimum \n",
    "np.unravel_index(np.argmin(landscape), landscape.shape)"
   ]
  },
  {
   "cell_type": "code",
   "execution_count": 37,
   "id": "7d19469c",
   "metadata": {},
   "outputs": [
    {
     "name": "stdout",
     "output_type": "stream",
     "text": [
      "Opt.Gamma: 0.5, Opt.Beta: 1.5\n"
     ]
    }
   ],
   "source": [
    "# Gamma and beta value of Minimium\n",
    "beta, gamma = np.unravel_index(np.argmin(landscape), landscape.shape)\n",
    "opt_gamma = gamma * step_size\n",
    "opt_beta = beta * step_size\n",
    "print(f\"Opt.Gamma: {opt_gamma}, Opt.Beta: {opt_beta}\")"
   ]
  },
  {
   "cell_type": "code",
   "execution_count": 38,
   "id": "8f3e4809",
   "metadata": {},
   "outputs": [],
   "source": [
    "import plotly.graph_objects as go"
   ]
  },
  {
   "cell_type": "code",
   "execution_count": 42,
   "id": "c56187a2",
   "metadata": {},
   "outputs": [
    {
     "data": {
      "application/vnd.plotly.v1+json": {
       "config": {
        "plotlyServerURL": "https://plot.ly"
       },
       "data": [
        {
         "contours": {
          "z": {
           "highlightcolor": "limegreen",
           "project": {
            "z": true
           },
           "show": true,
           "usecolormap": true
          }
         },
         "type": "surface",
         "x": [
          0,
          0.1,
          0.2,
          0.30000000000000004,
          0.4,
          0.5,
          0.6000000000000001,
          0.7000000000000001,
          0.8,
          0.9,
          1,
          1.1,
          1.2000000000000002,
          1.3,
          1.4000000000000001,
          1.5,
          1.6,
          1.7000000000000002,
          1.8,
          1.9000000000000001,
          2,
          2.1,
          2.2,
          2.3000000000000003,
          2.4000000000000004,
          2.5,
          2.6,
          2.7,
          2.8000000000000003,
          2.9000000000000004,
          3,
          3.1
         ],
         "y": [
          0,
          0.1,
          0.2,
          0.30000000000000004,
          0.4,
          0.5,
          0.6000000000000001,
          0.7000000000000001,
          0.8,
          0.9,
          1,
          1.1,
          1.2000000000000002,
          1.3,
          1.4000000000000001,
          1.5,
          1.6,
          1.7000000000000002,
          1.8,
          1.9000000000000001,
          2,
          2.1,
          2.2,
          2.3000000000000003,
          2.4000000000000004,
          2.5,
          2.6,
          2.7,
          2.8000000000000003,
          2.9000000000000004,
          3,
          3.1
         ],
         "z": [
          [
           -23.96637535095215,
           -23.958499908447266,
           -24.00349998474121,
           -23.919374465942383,
           -24.065874099731445,
           -23.962499618530273,
           -23.983875274658203,
           -23.769874572753906,
           -23.957624435424805,
           -24.066499710083008,
           -24.129125595092773,
           -24.07925033569336,
           -24.017749786376953,
           -23.785125732421875,
           -24.086000442504883,
           -23.95462417602539,
           -24.08562469482422,
           -23.915250778198242,
           -24.078250885009766,
           -24.108749389648438,
           -23.914749145507812,
           -24.165624618530273,
           -24.093374252319336,
           -24.13337516784668,
           -23.746374130249023,
           -23.78737449645996,
           -24.047500610351562,
           -23.732624053955078,
           -24.00287437438965,
           -24.088624954223633,
           -24.116249084472656,
           -23.898624420166016
          ],
          [
           -23.99275016784668,
           -19.798625946044922,
           -15.515999794006348,
           -11.6381254196167,
           -9.259625434875488,
           -8.522375106811523,
           -9.714500427246094,
           -12.438249588012695,
           -16.161500930786133,
           -20.514875411987305,
           -24.862375259399414,
           -28.43637466430664,
           -30.511499404907227,
           -31.044124603271484,
           -29.430500030517578,
           -26.690874099731445,
           -22.78362464904785,
           -18.263874053955078,
           -14.065625190734863,
           -10.7162504196167,
           -8.807374954223633,
           -8.78499984741211,
           -10.3931245803833,
           -13.4375,
           -17.544374465942383,
           -21.68025016784668,
           -25.971250534057617,
           -29.110374450683594,
           -30.859874725341797,
           -30.797500610351562,
           -28.855249404907227,
           -25.64900016784668
          ],
          [
           -23.957124710083008,
           -24.177249908447266,
           -23.458999633789062,
           -22.420875549316406,
           -20.64787483215332,
           -19.034624099731445,
           -17.66175079345703,
           -16.35449981689453,
           -15.78862476348877,
           -15.646124839782715,
           -16.375,
           -17.651500701904297,
           -19.227375030517578,
           -20.823375701904297,
           -22.426000595092773,
           -23.47887420654297,
           -24.064374923706055,
           -23.953125,
           -23.026750564575195,
           -22.007999420166016,
           -20.292375564575195,
           -18.7918758392334,
           -17.381624221801758,
           -15.895000457763672,
           -15.727874755859375,
           -15.758625030517578,
           -16.681499481201172,
           -18.051250457763672,
           -19.78737449645996,
           -21.472000122070312,
           -22.7606258392334,
           -23.790374755859375
          ],
          [
           -23.85212516784668,
           -26.578500747680664,
           -28.393749237060547,
           -29.011375427246094,
           -28.245874404907227,
           -26.61425018310547,
           -23.894500732421875,
           -20.636749267578125,
           -17.53125,
           -15.288999557495117,
           -13.673125267028809,
           -13.265999794006348,
           -14.1274995803833,
           -16.075000762939453,
           -18.848875045776367,
           -21.671749114990234,
           -24.95400047302246,
           -27.36549949645996,
           -28.578125,
           -28.874624252319336,
           -27.951875686645508,
           -25.8278751373291,
           -23.04599952697754,
           -19.730125427246094,
           -17.086000442504883,
           -14.597749710083008,
           -13.402874946594238,
           -13.244375228881836,
           -14.57800006866455,
           -16.826000213623047,
           -19.618499755859375,
           -22.745500564575195
          ],
          [
           -23.993249893188477,
           -22.86025047302246,
           -21.975374221801758,
           -21.106624603271484,
           -21.352874755859375,
           -21.796249389648438,
           -22.364999771118164,
           -23.710750579833984,
           -25.02287483215332,
           -26.044374465942383,
           -26.921875,
           -27.36512565612793,
           -27.313749313354492,
           -27.084999084472656,
           -25.922374725341797,
           -24.817625045776367,
           -23.68287467956543,
           -22.473249435424805,
           -21.73637580871582,
           -21.398374557495117,
           -21.363000869750977,
           -21.7293758392334,
           -22.756250381469727,
           -24.128374099731445,
           -25.32175064086914,
           -26.412750244140625,
           -26.891374588012695,
           -27.526124954223633,
           -27.583250045776367,
           -26.76912498474121,
           -25.746749877929688,
           -24.365249633789062
          ],
          [
           -24.19675064086914,
           -20.55237579345703,
           -17.37037467956543,
           -14.612125396728516,
           -12.834124565124512,
           -12.522125244140625,
           -13.43287467956543,
           -15.736249923706055,
           -18.78762435913086,
           -22.16950035095215,
           -25.37412452697754,
           -27.899124145507812,
           -29.578500747680664,
           -29.770875930786133,
           -28.30412483215332,
           -26.136375427246094,
           -22.8231258392334,
           -19.48550033569336,
           -16.46875,
           -13.893500328063965,
           -12.518375396728516,
           -12.6899995803833,
           -13.944624900817871,
           -16.620250701904297,
           -19.680625915527344,
           -23.11662483215332,
           -26.069499969482422,
           -28.641374588012695,
           -29.579500198364258,
           -29.406999588012695,
           -27.814125061035156,
           -25.34575080871582
          ],
          [
           -23.83187484741211,
           -24.93025016784668,
           -25.366374969482422,
           -25.412250518798828,
           -24.824249267578125,
           -24.043624877929688,
           -22.947999954223633,
           -21.527624130249023,
           -20.683500289916992,
           -20.073375701904297,
           -19.586624145507812,
           -19.646625518798828,
           -20.158374786376953,
           -20.94325065612793,
           -21.93462562561035,
           -23.04599952697754,
           -24.31362533569336,
           -25.064125061035156,
           -25.28874969482422,
           -25.38512420654297,
           -24.618749618530273,
           -23.801250457763672,
           -22.566749572753906,
           -21.45224952697754,
           -20.456375122070312,
           -19.726125717163086,
           -19.582624435424805,
           -19.477375030517578,
           -20.316999435424805,
           -21.30412483215332,
           -22.470375061035156,
           -23.84724998474121
          ],
          [
           -23.934249877929688,
           -25.135000228881836,
           -25.868999481201172,
           -26.454875946044922,
           -26.4221248626709,
           -26.024749755859375,
           -25.014375686645508,
           -24.106624603271484,
           -22.9846248626709,
           -21.731124877929688,
           -21.038875579833984,
           -20.75200080871582,
           -20.867250442504883,
           -21.2606258392334,
           -22.122875213623047,
           -23.216875076293945,
           -24.48724937438965,
           -25.378625869750977,
           -26.30962562561035,
           -26.46299934387207,
           -26.274250030517578,
           -25.883625030517578,
           -24.88825035095215,
           -23.72825050354004,
           -22.464500427246094,
           -21.476375579833984,
           -21.019624710083008,
           -20.75237464904785,
           -20.81974983215332,
           -21.43662452697754,
           -22.289499282836914,
           -23.50550079345703
          ],
          [
           -23.967124938964844,
           -23.066375732421875,
           -22.521875381469727,
           -21.77287483215332,
           -21.53737449645996,
           -21.666500091552734,
           -22.06362533569336,
           -22.63912582397461,
           -23.641000747680664,
           -24.66812515258789,
           -25.368749618530273,
           -25.52050018310547,
           -26.029499053955078,
           -25.75200080871582,
           -25.274999618530273,
           -24.728750228881836,
           -23.872249603271484,
           -23.03037452697754,
           -22.202749252319336,
           -21.6096248626709,
           -21.428874969482422,
           -21.856250762939453,
           -22.43837547302246,
           -23.027875900268555,
           -23.829999923706055,
           -24.70400047302246,
           -25.49537467956543,
           -25.836124420166016,
           -25.914125442504883,
           -25.621000289916992,
           -25.15850067138672,
           -24.375
          ],
          [
           -24.00225067138672,
           -21.71987533569336,
           -19.441499710083008,
           -17.738500595092773,
           -17.1512508392334,
           -16.623249053955078,
           -17.490625381469727,
           -18.92562484741211,
           -21.165124893188477,
           -23.26187515258789,
           -25.370874404907227,
           -26.963125228881836,
           -28.017749786376953,
           -27.958749771118164,
           -27.224124908447266,
           -25.569124221801758,
           -23.391374588012695,
           -21.144500732421875,
           -19.056625366210938,
           -17.641124725341797,
           -16.650625228881836,
           -17.013124465942383,
           -18.10712432861328,
           -19.602375030517578,
           -21.84837532043457,
           -24.127750396728516,
           -25.979249954223633,
           -27.37262535095215,
           -28.00987434387207,
           -27.669124603271484,
           -26.647499084472656,
           -25.038875579833984
          ],
          [
           -23.867000579833984,
           -24.475374221801758,
           -24.948875427246094,
           -25.630874633789062,
           -26.012374877929688,
           -26.426124572753906,
           -26.643625259399414,
           -26.49187469482422,
           -26.28700065612793,
           -25.717124938964844,
           -25.332500457763672,
           -24.6091251373291,
           -24.105749130249023,
           -23.52174949645996,
           -23.650249481201172,
           -23.746999740600586,
           -24.088499069213867,
           -24.601625442504883,
           -25.286375045776367,
           -25.7081241607666,
           -26.01937484741211,
           -26.596250534057617,
           -26.580875396728516,
           -26.51787567138672,
           -25.958999633789062,
           -25.610624313354492,
           -24.970874786376953,
           -24.64299964904785,
           -23.977750778198242,
           -23.895000457763672,
           -23.782499313354492,
           -23.71725082397461
          ],
          [
           -24.096874237060547,
           -25.01412582397461,
           -26.38949966430664,
           -27.534250259399414,
           -28.19099998474121,
           -28.607250213623047,
           -28.539499282836914,
           -27.83824920654297,
           -27.006999969482422,
           -25.862625122070312,
           -24.780000686645508,
           -23.548124313354492,
           -22.97512435913086,
           -22.436500549316406,
           -22.632625579833984,
           -23.525875091552734,
           -24.421749114990234,
           -25.546875,
           -26.75950050354004,
           -27.67937469482422,
           -28.405250549316406,
           -28.707250595092773,
           -28.40887451171875,
           -27.611249923706055,
           -26.731124877929688,
           -25.44012451171875,
           -24.137874603271484,
           -23.220874786376953,
           -22.677499771118164,
           -22.157249450683594,
           -22.935625076293945,
           -23.422374725341797
          ],
          [
           -23.820999145507812,
           -24.615249633789062,
           -25.075000762939453,
           -24.748374938964844,
           -24.057125091552734,
           -22.930374145507812,
           -21.99712562561035,
           -20.683374404907227,
           -19.857500076293945,
           -19.179624557495117,
           -19.006750106811523,
           -19.22425079345703,
           -19.878999710083008,
           -21.16200065612793,
           -22.109874725341797,
           -23.181249618530273,
           -24.41200065612793,
           -24.776750564575195,
           -25.021499633789062,
           -24.7033748626709,
           -24.02549934387207,
           -23.07237434387207,
           -21.495874404907227,
           -20.278125762939453,
           -19.566625595092773,
           -19.03737449645996,
           -18.887374877929688,
           -19.560375213623047,
           -20.110624313354492,
           -21.222875595092773,
           -22.530500411987305,
           -23.626375198364258
          ],
          [
           -23.958250045776367,
           -21.733999252319336,
           -19.692874908447266,
           -17.51762580871582,
           -16.18975067138672,
           -15.76187515258789,
           -16.084875106811523,
           -17.410749435424805,
           -19.32587432861328,
           -21.432374954223633,
           -23.598249435424805,
           -25.63912582397461,
           -26.851499557495117,
           -27.358875274658203,
           -26.779499053955078,
           -25.32612419128418,
           -23.13224983215332,
           -21.288875579833984,
           -18.79462432861328,
           -16.96875,
           -15.8881254196167,
           -15.746000289916992,
           -16.491249084472656,
           -17.97487449645996,
           -19.78387451171875,
           -22.504249572753906,
           -24.472749710083008,
           -26.202999114990234,
           -27.045499801635742,
           -27.200124740600586,
           -26.456499099731445,
           -24.9064998626709
          ],
          [
           -23.86574935913086,
           -23.518125534057617,
           -23.643625259399414,
           -23.768625259399414,
           -24.254375457763672,
           -24.87849998474121,
           -25.694250106811523,
           -26.46387481689453,
           -27.180374145507812,
           -27.544124603271484,
           -27.383874893188477,
           -27.10474967956543,
           -26.908124923706055,
           -25.9528751373291,
           -25.210874557495117,
           -24.54974937438965,
           -24.022499084472656,
           -23.59087562561035,
           -23.686500549316406,
           -24.015125274658203,
           -24.35387420654297,
           -25.239625930786133,
           -25.97825050354004,
           -26.7606258392334,
           -27.252750396728516,
           -27.665624618530273,
           -27.53325080871582,
           -27.05175018310547,
           -26.288875579833984,
           -25.76074981689453,
           -25.038124084472656,
           -23.993125915527344
          ],
          [
           -23.93600082397461,
           -26.047624588012695,
           -28.137250900268555,
           -30.086624145507812,
           -31.447874069213867,
           -32.02949905395508,
           -31.787500381469727,
           -30.804874420166016,
           -29.052125930786133,
           -27.026874542236328,
           -24.654125213623047,
           -22.982749938964844,
           -21.63050079345703,
           -21.12849998474121,
           -21.890125274658203,
           -22.851499557495117,
           -24.31137466430664,
           -26.676374435424805,
           -28.69562530517578,
           -30.51012420654297,
           -31.58737564086914,
           -31.858375549316406,
           -31.540124893188477,
           -30.31049919128418,
           -28.400625228881836,
           -26.26787567138672,
           -24.266250610351562,
           -22.50237464904785,
           -21.503625869750977,
           -21.540250778198242,
           -22.144874572753906,
           -23.291624069213867
          ],
          [
           -24.050874710083008,
           -24.979124069213867,
           -25.506750106811523,
           -25.476749420166016,
           -24.795249938964844,
           -23.906749725341797,
           -22.558624267578125,
           -21.38837432861328,
           -19.761999130249023,
           -19.07699966430664,
           -18.618999481201172,
           -18.714874267578125,
           -19.401874542236328,
           -20.401750564575195,
           -21.82200050354004,
           -23.11162567138672,
           -23.869749069213867,
           -25.09025001525879,
           -25.47162437438965,
           -25.124500274658203,
           -24.6247501373291,
           -23.149499893188477,
           -22.41925048828125,
           -21.015750885009766,
           -19.660375595092773,
           -18.889875411987305,
           -18.510250091552734,
           -18.843624114990234,
           -19.798500061035156,
           -20.858625411987305,
           -22.158124923706055,
           -23.435749053955078
          ],
          [
           -24.22800064086914,
           -21.3908748626709,
           -18.328750610351562,
           -15.876375198364258,
           -14.220375061035156,
           -13.591124534606934,
           -14.010000228881836,
           -15.409250259399414,
           -17.677749633789062,
           -20.552125930786133,
           -23.68112564086914,
           -25.95224952697754,
           -27.554624557495117,
           -28.058624267578125,
           -27.412250518798828,
           -25.614625930786133,
           -23.21987533569336,
           -20.308624267578125,
           -17.53612518310547,
           -15.034625053405762,
           -13.94112491607666,
           -13.51550006866455,
           -14.38224983215332,
           -16.011249542236328,
           -18.9737491607666,
           -21.821500778198242,
           -24.584625244140625,
           -26.562000274658203,
           -27.895374298095703,
           -27.952499389648438,
           -27.076000213623047,
           -25.168750762939453
          ],
          [
           -24.147375106811523,
           -24.153125762939453,
           -24.236125946044922,
           -24.303499221801758,
           -24.12012481689453,
           -23.88112449645996,
           -24.015125274658203,
           -23.65250015258789,
           -23.250999450683594,
           -23.266250610351562,
           -23.195749282836914,
           -23.2137508392334,
           -23.211875915527344,
           -23.360750198364258,
           -23.671875,
           -23.829500198364258,
           -24.036624908447266,
           -24.212749481201172,
           -24.254749298095703,
           -24.133249282836914,
           -24.045000076293945,
           -23.954750061035156,
           -23.75237464904785,
           -23.807125091552734,
           -23.56887435913086,
           -23.421125411987305,
           -23.078250885009766,
           -23.566875457763672,
           -23.41087532043457,
           -23.658750534057617,
           -23.773250579833984,
           -24.06049919128418
          ],
          [
           -24.146875381469727,
           -26.70924949645996,
           -29.158000946044922,
           -31.012624740600586,
           -31.930124282836914,
           -31.865875244140625,
           -30.655500411987305,
           -28.629499435424805,
           -26.003250122070312,
           -23.282499313354492,
           -21.260374069213867,
           -19.453624725341797,
           -18.68862533569336,
           -18.728124618530273,
           -20.226625442504883,
           -22.176250457763672,
           -24.85099983215332,
           -27.43025016784668,
           -29.67275047302246,
           -31.34462547302246,
           -31.95862579345703,
           -31.572999954223633,
           -30.14812469482422,
           -28.118499755859375,
           -25.552000045776367,
           -22.535625457763672,
           -20.54887580871582,
           -19.061500549316406,
           -18.45425033569336,
           -19.06475067138672,
           -20.70574951171875,
           -22.769750595092773
          ],
          [
           -24.08362579345703,
           -23.65912437438965,
           -23.29537582397461,
           -22.92762565612793,
           -22.663249969482422,
           -22.479124069213867,
           -22.587499618530273,
           -22.873374938964844,
           -23.210874557495117,
           -23.696125030517578,
           -23.837499618530273,
           -24.384374618530273,
           -24.496999740600586,
           -24.687000274658203,
           -24.43112564086914,
           -24.363624572753906,
           -23.95537567138672,
           -23.676374435424805,
           -23.176250457763672,
           -22.854999542236328,
           -22.690500259399414,
           -22.32724952697754,
           -22.507875442504883,
           -22.908750534057617,
           -23.271499633789062,
           -23.65887451171875,
           -23.9841251373291,
           -24.428874969482422,
           -24.363500595092773,
           -24.616125106811523,
           -24.47949981689453,
           -24.184375762939453
          ],
          [
           -24.006500244140625,
           -21.29599952697754,
           -18.95549964904785,
           -16.84225082397461,
           -15.768625259399414,
           -15.87399959564209,
           -16.842500686645508,
           -18.869625091552734,
           -20.760499954223633,
           -23.745250701904297,
           -26.180500030517578,
           -28.151500701904297,
           -29.107500076293945,
           -28.819374084472656,
           -27.736000061035156,
           -25.862749099731445,
           -23.16987419128418,
           -20.56800079345703,
           -18.246875762939453,
           -16.680875778198242,
           -15.854874610900879,
           -16.312625885009766,
           -17.47337532043457,
           -19.418750762939453,
           -21.961124420166016,
           -24.72337532043457,
           -26.94587516784668,
           -28.51300048828125,
           -28.997499465942383,
           -28.47624969482422,
           -27.25812530517578,
           -24.98812484741211
          ],
          [
           -24.103500366210938,
           -24.925249099731445,
           -25.5471248626709,
           -25.676374435424805,
           -25.5206241607666,
           -25.006750106811523,
           -23.765249252319336,
           -22.636749267578125,
           -21.973249435424805,
           -20.7081241607666,
           -20.18987464904785,
           -20.064624786376953,
           -20.264249801635742,
           -21.121999740600586,
           -21.947250366210938,
           -23.20687484741211,
           -24.452499389648438,
           -25.278749465942383,
           -25.797500610351562,
           -25.829999923706055,
           -25.292749404907227,
           -24.695375442504883,
           -23.8596248626709,
           -22.60099983215332,
           -21.389999389648438,
           -20.69124984741211,
           -20.174625396728516,
           -20.20687484741211,
           -20.357250213623047,
           -21.26824951171875,
           -22.31162452697754,
           -23.555124282836914
          ],
          [
           -23.98674964904785,
           -26.006874084472656,
           -27.333375930786133,
           -28.20800018310547,
           -28.169750213623047,
           -27.273374557495117,
           -25.672250747680664,
           -23.46762466430664,
           -21.255874633789062,
           -19.581125259399414,
           -17.962749481201172,
           -17.477624893188477,
           -17.556249618530273,
           -18.660999298095703,
           -20.467750549316406,
           -22.59287452697754,
           -24.54974937438965,
           -26.47862434387207,
           -27.76849937438965,
           -28.411874771118164,
           -27.914749145507812,
           -26.826749801635742,
           -24.957624435424805,
           -23.104625701904297,
           -20.65537452697754,
           -18.895124435424805,
           -17.72887420654297,
           -17.477375030517578,
           -17.915250778198242,
           -19.408374786376953,
           -21.032249450683594,
           -23.15737533569336
          ],
          [
           -24.062999725341797,
           -22.950624465942383,
           -21.819499969482422,
           -21.21787452697754,
           -21.152374267578125,
           -21.61949920654297,
           -22.454124450683594,
           -23.61574935913086,
           -24.684125900268555,
           -26.100250244140625,
           -26.773250579833984,
           -27.305625915527344,
           -27.258249282836914,
           -26.88075065612793,
           -26.074125289916992,
           -24.986249923706055,
           -23.692750930786133,
           -22.423124313354492,
           -21.75349998474121,
           -21.43287467956543,
           -21.436750411987305,
           -22.054624557495117,
           -22.777999877929688,
           -23.89900016784668,
           -25.16087532043457,
           -26.104249954223633,
           -27.213125228881836,
           -27.2918758392334,
           -27.421125411987305,
           -26.633874893188477,
           -25.73662567138672,
           -24.564125061035156
          ],
          [
           -23.915000915527344,
           -23.106374740600586,
           -22.665874481201172,
           -22.63512420654297,
           -23.0887508392334,
           -23.66699981689453,
           -24.671875,
           -25.877750396728516,
           -26.843250274658203,
           -27.43375015258789,
           -27.828624725341797,
           -27.913000106811523,
           -27.406375885009766,
           -26.714500427246094,
           -25.74449920654297,
           -24.56712532043457,
           -23.752500534057617,
           -23.031625747680664,
           -22.688125610351562,
           -22.753875732421875,
           -23.090124130249023,
           -23.957374572753906,
           -25.292875289916992,
           -26.171125411987305,
           -27.129499435424805,
           -27.592124938964844,
           -27.824874877929688,
           -27.88112449645996,
           -27.316499710083008,
           -26.429250717163086,
           -25.613874435424805,
           -24.607500076293945
          ],
          [
           -24.068500518798828,
           -25.17937469482422,
           -26.31362533569336,
           -27.22487449645996,
           -27.772624969482422,
           -27.940000534057617,
           -27.480375289916992,
           -26.681249618530273,
           -25.64812469482422,
           -24.599750518798828,
           -23.545499801635742,
           -22.41237449645996,
           -21.966249465942383,
           -22.063749313354492,
           -22.40337562561035,
           -23.031625747680664,
           -24.406625747680664,
           -25.511125564575195,
           -26.54775047302246,
           -27.493000030517578,
           -27.925125122070312,
           -27.944875717163086,
           -27.332374572753906,
           -26.590625762939453,
           -25.4375,
           -24.19762420654297,
           -23.090124130249023,
           -22.34137535095215,
           -21.992000579833984,
           -22.017749786376953,
           -22.751874923706055,
           -23.66087532043457
          ],
          [
           -23.89987564086914,
           -24.381500244140625,
           -25.156375885009766,
           -25.323625564575195,
           -24.78274917602539,
           -24.140750885009766,
           -23.40825080871582,
           -22.544124603271484,
           -21.694000244140625,
           -21.046499252319336,
           -20.744749069213867,
           -20.7706241607666,
           -21.154375076293945,
           -21.697124481201172,
           -22.64349937438965,
           -23.357250213623047,
           -24.185375213623047,
           -24.802125930786133,
           -25.092750549316406,
           -25.060625076293945,
           -24.71525001525879,
           -24.016624450683594,
           -23.347999572753906,
           -22.392000198364258,
           -21.430749893188477,
           -21.043249130249023,
           -20.640625,
           -20.87237548828125,
           -21.418624877929688,
           -21.871374130249023,
           -22.979875564575195,
           -23.525625228881836
          ],
          [
           -24.077625274658203,
           -22.901500701904297,
           -21.920499801635742,
           -21.816375732421875,
           -21.854625701904297,
           -22.92300033569336,
           -23.75,
           -24.90850067138672,
           -26.03325080871582,
           -27.202499389648438,
           -27.922500610351562,
           -28.27137565612793,
           -27.9268741607666,
           -27.01325035095215,
           -26.02512550354004,
           -24.587749481201172,
           -23.593624114990234,
           -22.719249725341797,
           -22.026124954223633,
           -21.800125122070312,
           -22.254499435424805,
           -23.099374771118164,
           -24.083250045776367,
           -25.065250396728516,
           -26.47949981689453,
           -27.459875106811523,
           -27.903125762939453,
           -28.148250579833984,
           -27.722124099731445,
           -27.001874923706055,
           -25.663124084472656,
           -24.522499084472656
          ],
          [
           -24.098875045776367,
           -24.583375930786133,
           -25.451749801635742,
           -26.92562484741211,
           -28.28700065612793,
           -29.680625915527344,
           -30.72162437438965,
           -31.390750885009766,
           -31.26362419128418,
           -30.752750396728516,
           -29.670875549316406,
           -28.303874969482422,
           -26.89437484741211,
           -25.358375549316406,
           -24.680625915527344,
           -24.021875381469727,
           -24.057125091552734,
           -24.510875701904297,
           -25.953624725341797,
           -27.379125595092773,
           -28.834875106811523,
           -30.095375061035156,
           -30.9528751373291,
           -31.334875106811523,
           -31.161375045776367,
           -30.390249252319336,
           -29.265750885009766,
           -27.874374389648438,
           -26.51412582397461,
           -25.203500747680664,
           -24.211624145507812,
           -24.01337432861328
          ],
          [
           -23.996000289916992,
           -24.70775032043457,
           -25.984750747680664,
           -27.342500686645508,
           -28.557249069213867,
           -29.68462562561035,
           -30.634374618530273,
           -30.942249298095703,
           -30.62299919128418,
           -29.978750228881836,
           -28.739999771118164,
           -27.435874938964844,
           -26.024375915527344,
           -24.83762550354004,
           -24.085500717163086,
           -23.88137435913086,
           -24.059125900268555,
           -24.901500701904297,
           -26.508249282836914,
           -27.540624618530273,
           -28.83762550354004,
           -30.113750457763672,
           -30.732624053955078,
           -30.964000701904297,
           -30.57237434387207,
           -29.525249481201172,
           -28.344749450683594,
           -27.012374877929688,
           -25.641250610351562,
           -24.544374465942383,
           -23.94499969482422,
           -23.836750030517578
          ],
          [
           -23.89812469482422,
           -24.601999282836914,
           -25.308124542236328,
           -25.80175018310547,
           -26.18662452697754,
           -26.1043758392334,
           -25.90387535095215,
           -25.32324981689453,
           -24.762374877929688,
           -24.120874404907227,
           -23.464874267578125,
           -23.0622501373291,
           -22.81162452697754,
           -22.672874450683594,
           -23.03499984741211,
           -23.5778751373291,
           -24.373750686645508,
           -24.771249771118164,
           -25.420249938964844,
           -25.90999984741211,
           -26.16925048828125,
           -26.029874801635742,
           -25.721500396728516,
           -25.179750442504883,
           -24.31974983215332,
           -23.648374557495117,
           -23.345375061035156,
           -23.043750762939453,
           -22.319875717163086,
           -22.563125610351562,
           -23.082374572753906,
           -23.6408748626709
          ]
         ]
        }
       ],
       "layout": {
        "scene": {
         "xaxis": {
          "title": {
           "text": "gamma"
          }
         },
         "yaxis": {
          "title": {
           "text": "beta"
          }
         },
         "zaxis": {
          "title": {
           "text": "mean"
          }
         }
        },
        "template": {
         "data": {
          "bar": [
           {
            "error_x": {
             "color": "#2a3f5f"
            },
            "error_y": {
             "color": "#2a3f5f"
            },
            "marker": {
             "line": {
              "color": "#E5ECF6",
              "width": 0.5
             },
             "pattern": {
              "fillmode": "overlay",
              "size": 10,
              "solidity": 0.2
             }
            },
            "type": "bar"
           }
          ],
          "barpolar": [
           {
            "marker": {
             "line": {
              "color": "#E5ECF6",
              "width": 0.5
             },
             "pattern": {
              "fillmode": "overlay",
              "size": 10,
              "solidity": 0.2
             }
            },
            "type": "barpolar"
           }
          ],
          "carpet": [
           {
            "aaxis": {
             "endlinecolor": "#2a3f5f",
             "gridcolor": "white",
             "linecolor": "white",
             "minorgridcolor": "white",
             "startlinecolor": "#2a3f5f"
            },
            "baxis": {
             "endlinecolor": "#2a3f5f",
             "gridcolor": "white",
             "linecolor": "white",
             "minorgridcolor": "white",
             "startlinecolor": "#2a3f5f"
            },
            "type": "carpet"
           }
          ],
          "choropleth": [
           {
            "colorbar": {
             "outlinewidth": 0,
             "ticks": ""
            },
            "type": "choropleth"
           }
          ],
          "contour": [
           {
            "colorbar": {
             "outlinewidth": 0,
             "ticks": ""
            },
            "colorscale": [
             [
              0,
              "#0d0887"
             ],
             [
              0.1111111111111111,
              "#46039f"
             ],
             [
              0.2222222222222222,
              "#7201a8"
             ],
             [
              0.3333333333333333,
              "#9c179e"
             ],
             [
              0.4444444444444444,
              "#bd3786"
             ],
             [
              0.5555555555555556,
              "#d8576b"
             ],
             [
              0.6666666666666666,
              "#ed7953"
             ],
             [
              0.7777777777777778,
              "#fb9f3a"
             ],
             [
              0.8888888888888888,
              "#fdca26"
             ],
             [
              1,
              "#f0f921"
             ]
            ],
            "type": "contour"
           }
          ],
          "contourcarpet": [
           {
            "colorbar": {
             "outlinewidth": 0,
             "ticks": ""
            },
            "type": "contourcarpet"
           }
          ],
          "heatmap": [
           {
            "colorbar": {
             "outlinewidth": 0,
             "ticks": ""
            },
            "colorscale": [
             [
              0,
              "#0d0887"
             ],
             [
              0.1111111111111111,
              "#46039f"
             ],
             [
              0.2222222222222222,
              "#7201a8"
             ],
             [
              0.3333333333333333,
              "#9c179e"
             ],
             [
              0.4444444444444444,
              "#bd3786"
             ],
             [
              0.5555555555555556,
              "#d8576b"
             ],
             [
              0.6666666666666666,
              "#ed7953"
             ],
             [
              0.7777777777777778,
              "#fb9f3a"
             ],
             [
              0.8888888888888888,
              "#fdca26"
             ],
             [
              1,
              "#f0f921"
             ]
            ],
            "type": "heatmap"
           }
          ],
          "heatmapgl": [
           {
            "colorbar": {
             "outlinewidth": 0,
             "ticks": ""
            },
            "colorscale": [
             [
              0,
              "#0d0887"
             ],
             [
              0.1111111111111111,
              "#46039f"
             ],
             [
              0.2222222222222222,
              "#7201a8"
             ],
             [
              0.3333333333333333,
              "#9c179e"
             ],
             [
              0.4444444444444444,
              "#bd3786"
             ],
             [
              0.5555555555555556,
              "#d8576b"
             ],
             [
              0.6666666666666666,
              "#ed7953"
             ],
             [
              0.7777777777777778,
              "#fb9f3a"
             ],
             [
              0.8888888888888888,
              "#fdca26"
             ],
             [
              1,
              "#f0f921"
             ]
            ],
            "type": "heatmapgl"
           }
          ],
          "histogram": [
           {
            "marker": {
             "pattern": {
              "fillmode": "overlay",
              "size": 10,
              "solidity": 0.2
             }
            },
            "type": "histogram"
           }
          ],
          "histogram2d": [
           {
            "colorbar": {
             "outlinewidth": 0,
             "ticks": ""
            },
            "colorscale": [
             [
              0,
              "#0d0887"
             ],
             [
              0.1111111111111111,
              "#46039f"
             ],
             [
              0.2222222222222222,
              "#7201a8"
             ],
             [
              0.3333333333333333,
              "#9c179e"
             ],
             [
              0.4444444444444444,
              "#bd3786"
             ],
             [
              0.5555555555555556,
              "#d8576b"
             ],
             [
              0.6666666666666666,
              "#ed7953"
             ],
             [
              0.7777777777777778,
              "#fb9f3a"
             ],
             [
              0.8888888888888888,
              "#fdca26"
             ],
             [
              1,
              "#f0f921"
             ]
            ],
            "type": "histogram2d"
           }
          ],
          "histogram2dcontour": [
           {
            "colorbar": {
             "outlinewidth": 0,
             "ticks": ""
            },
            "colorscale": [
             [
              0,
              "#0d0887"
             ],
             [
              0.1111111111111111,
              "#46039f"
             ],
             [
              0.2222222222222222,
              "#7201a8"
             ],
             [
              0.3333333333333333,
              "#9c179e"
             ],
             [
              0.4444444444444444,
              "#bd3786"
             ],
             [
              0.5555555555555556,
              "#d8576b"
             ],
             [
              0.6666666666666666,
              "#ed7953"
             ],
             [
              0.7777777777777778,
              "#fb9f3a"
             ],
             [
              0.8888888888888888,
              "#fdca26"
             ],
             [
              1,
              "#f0f921"
             ]
            ],
            "type": "histogram2dcontour"
           }
          ],
          "mesh3d": [
           {
            "colorbar": {
             "outlinewidth": 0,
             "ticks": ""
            },
            "type": "mesh3d"
           }
          ],
          "parcoords": [
           {
            "line": {
             "colorbar": {
              "outlinewidth": 0,
              "ticks": ""
             }
            },
            "type": "parcoords"
           }
          ],
          "pie": [
           {
            "automargin": true,
            "type": "pie"
           }
          ],
          "scatter": [
           {
            "marker": {
             "colorbar": {
              "outlinewidth": 0,
              "ticks": ""
             }
            },
            "type": "scatter"
           }
          ],
          "scatter3d": [
           {
            "line": {
             "colorbar": {
              "outlinewidth": 0,
              "ticks": ""
             }
            },
            "marker": {
             "colorbar": {
              "outlinewidth": 0,
              "ticks": ""
             }
            },
            "type": "scatter3d"
           }
          ],
          "scattercarpet": [
           {
            "marker": {
             "colorbar": {
              "outlinewidth": 0,
              "ticks": ""
             }
            },
            "type": "scattercarpet"
           }
          ],
          "scattergeo": [
           {
            "marker": {
             "colorbar": {
              "outlinewidth": 0,
              "ticks": ""
             }
            },
            "type": "scattergeo"
           }
          ],
          "scattergl": [
           {
            "marker": {
             "colorbar": {
              "outlinewidth": 0,
              "ticks": ""
             }
            },
            "type": "scattergl"
           }
          ],
          "scattermapbox": [
           {
            "marker": {
             "colorbar": {
              "outlinewidth": 0,
              "ticks": ""
             }
            },
            "type": "scattermapbox"
           }
          ],
          "scatterpolar": [
           {
            "marker": {
             "colorbar": {
              "outlinewidth": 0,
              "ticks": ""
             }
            },
            "type": "scatterpolar"
           }
          ],
          "scatterpolargl": [
           {
            "marker": {
             "colorbar": {
              "outlinewidth": 0,
              "ticks": ""
             }
            },
            "type": "scatterpolargl"
           }
          ],
          "scatterternary": [
           {
            "marker": {
             "colorbar": {
              "outlinewidth": 0,
              "ticks": ""
             }
            },
            "type": "scatterternary"
           }
          ],
          "surface": [
           {
            "colorbar": {
             "outlinewidth": 0,
             "ticks": ""
            },
            "colorscale": [
             [
              0,
              "#0d0887"
             ],
             [
              0.1111111111111111,
              "#46039f"
             ],
             [
              0.2222222222222222,
              "#7201a8"
             ],
             [
              0.3333333333333333,
              "#9c179e"
             ],
             [
              0.4444444444444444,
              "#bd3786"
             ],
             [
              0.5555555555555556,
              "#d8576b"
             ],
             [
              0.6666666666666666,
              "#ed7953"
             ],
             [
              0.7777777777777778,
              "#fb9f3a"
             ],
             [
              0.8888888888888888,
              "#fdca26"
             ],
             [
              1,
              "#f0f921"
             ]
            ],
            "type": "surface"
           }
          ],
          "table": [
           {
            "cells": {
             "fill": {
              "color": "#EBF0F8"
             },
             "line": {
              "color": "white"
             }
            },
            "header": {
             "fill": {
              "color": "#C8D4E3"
             },
             "line": {
              "color": "white"
             }
            },
            "type": "table"
           }
          ]
         },
         "layout": {
          "annotationdefaults": {
           "arrowcolor": "#2a3f5f",
           "arrowhead": 0,
           "arrowwidth": 1
          },
          "autotypenumbers": "strict",
          "coloraxis": {
           "colorbar": {
            "outlinewidth": 0,
            "ticks": ""
           }
          },
          "colorscale": {
           "diverging": [
            [
             0,
             "#8e0152"
            ],
            [
             0.1,
             "#c51b7d"
            ],
            [
             0.2,
             "#de77ae"
            ],
            [
             0.3,
             "#f1b6da"
            ],
            [
             0.4,
             "#fde0ef"
            ],
            [
             0.5,
             "#f7f7f7"
            ],
            [
             0.6,
             "#e6f5d0"
            ],
            [
             0.7,
             "#b8e186"
            ],
            [
             0.8,
             "#7fbc41"
            ],
            [
             0.9,
             "#4d9221"
            ],
            [
             1,
             "#276419"
            ]
           ],
           "sequential": [
            [
             0,
             "#0d0887"
            ],
            [
             0.1111111111111111,
             "#46039f"
            ],
            [
             0.2222222222222222,
             "#7201a8"
            ],
            [
             0.3333333333333333,
             "#9c179e"
            ],
            [
             0.4444444444444444,
             "#bd3786"
            ],
            [
             0.5555555555555556,
             "#d8576b"
            ],
            [
             0.6666666666666666,
             "#ed7953"
            ],
            [
             0.7777777777777778,
             "#fb9f3a"
            ],
            [
             0.8888888888888888,
             "#fdca26"
            ],
            [
             1,
             "#f0f921"
            ]
           ],
           "sequentialminus": [
            [
             0,
             "#0d0887"
            ],
            [
             0.1111111111111111,
             "#46039f"
            ],
            [
             0.2222222222222222,
             "#7201a8"
            ],
            [
             0.3333333333333333,
             "#9c179e"
            ],
            [
             0.4444444444444444,
             "#bd3786"
            ],
            [
             0.5555555555555556,
             "#d8576b"
            ],
            [
             0.6666666666666666,
             "#ed7953"
            ],
            [
             0.7777777777777778,
             "#fb9f3a"
            ],
            [
             0.8888888888888888,
             "#fdca26"
            ],
            [
             1,
             "#f0f921"
            ]
           ]
          },
          "colorway": [
           "#636efa",
           "#EF553B",
           "#00cc96",
           "#ab63fa",
           "#FFA15A",
           "#19d3f3",
           "#FF6692",
           "#B6E880",
           "#FF97FF",
           "#FECB52"
          ],
          "font": {
           "color": "#2a3f5f"
          },
          "geo": {
           "bgcolor": "white",
           "lakecolor": "white",
           "landcolor": "#E5ECF6",
           "showlakes": true,
           "showland": true,
           "subunitcolor": "white"
          },
          "hoverlabel": {
           "align": "left"
          },
          "hovermode": "closest",
          "mapbox": {
           "style": "light"
          },
          "paper_bgcolor": "white",
          "plot_bgcolor": "#E5ECF6",
          "polar": {
           "angularaxis": {
            "gridcolor": "white",
            "linecolor": "white",
            "ticks": ""
           },
           "bgcolor": "#E5ECF6",
           "radialaxis": {
            "gridcolor": "white",
            "linecolor": "white",
            "ticks": ""
           }
          },
          "scene": {
           "xaxis": {
            "backgroundcolor": "#E5ECF6",
            "gridcolor": "white",
            "gridwidth": 2,
            "linecolor": "white",
            "showbackground": true,
            "ticks": "",
            "zerolinecolor": "white"
           },
           "yaxis": {
            "backgroundcolor": "#E5ECF6",
            "gridcolor": "white",
            "gridwidth": 2,
            "linecolor": "white",
            "showbackground": true,
            "ticks": "",
            "zerolinecolor": "white"
           },
           "zaxis": {
            "backgroundcolor": "#E5ECF6",
            "gridcolor": "white",
            "gridwidth": 2,
            "linecolor": "white",
            "showbackground": true,
            "ticks": "",
            "zerolinecolor": "white"
           }
          },
          "shapedefaults": {
           "line": {
            "color": "#2a3f5f"
           }
          },
          "ternary": {
           "aaxis": {
            "gridcolor": "white",
            "linecolor": "white",
            "ticks": ""
           },
           "baxis": {
            "gridcolor": "white",
            "linecolor": "white",
            "ticks": ""
           },
           "bgcolor": "#E5ECF6",
           "caxis": {
            "gridcolor": "white",
            "linecolor": "white",
            "ticks": ""
           }
          },
          "title": {
           "x": 0.05
          },
          "xaxis": {
           "automargin": true,
           "gridcolor": "white",
           "linecolor": "white",
           "ticks": "",
           "title": {
            "standoff": 15
           },
           "zerolinecolor": "white",
           "zerolinewidth": 2
          },
          "yaxis": {
           "automargin": true,
           "gridcolor": "white",
           "linecolor": "white",
           "ticks": "",
           "title": {
            "standoff": 15
           },
           "zerolinecolor": "white",
           "zerolinewidth": 2
          }
         }
        },
        "title": {
         "text": "QAOA MaxCut"
        }
       }
      },
      "text/html": [
       "<div>                            <div id=\"98e2bbb0-7f8c-406c-9c93-8de288e96682\" class=\"plotly-graph-div\" style=\"height:525px; width:100%;\"></div>            <script type=\"text/javascript\">                require([\"plotly\"], function(Plotly) {                    window.PLOTLYENV=window.PLOTLYENV || {};                                    if (document.getElementById(\"98e2bbb0-7f8c-406c-9c93-8de288e96682\")) {                    Plotly.newPlot(                        \"98e2bbb0-7f8c-406c-9c93-8de288e96682\",                        [{\"contours\":{\"z\":{\"highlightcolor\":\"limegreen\",\"project\":{\"z\":true},\"show\":true,\"usecolormap\":true}},\"type\":\"surface\",\"x\":[0.0,0.1,0.2,0.30000000000000004,0.4,0.5,0.6000000000000001,0.7000000000000001,0.8,0.9,1.0,1.1,1.2000000000000002,1.3,1.4000000000000001,1.5,1.6,1.7000000000000002,1.8,1.9000000000000001,2.0,2.1,2.2,2.3000000000000003,2.4000000000000004,2.5,2.6,2.7,2.8000000000000003,2.9000000000000004,3.0,3.1],\"y\":[0.0,0.1,0.2,0.30000000000000004,0.4,0.5,0.6000000000000001,0.7000000000000001,0.8,0.9,1.0,1.1,1.2000000000000002,1.3,1.4000000000000001,1.5,1.6,1.7000000000000002,1.8,1.9000000000000001,2.0,2.1,2.2,2.3000000000000003,2.4000000000000004,2.5,2.6,2.7,2.8000000000000003,2.9000000000000004,3.0,3.1],\"z\":[[-23.96637535095215,-23.958499908447266,-24.00349998474121,-23.919374465942383,-24.065874099731445,-23.962499618530273,-23.983875274658203,-23.769874572753906,-23.957624435424805,-24.066499710083008,-24.129125595092773,-24.07925033569336,-24.017749786376953,-23.785125732421875,-24.086000442504883,-23.95462417602539,-24.08562469482422,-23.915250778198242,-24.078250885009766,-24.108749389648438,-23.914749145507812,-24.165624618530273,-24.093374252319336,-24.13337516784668,-23.746374130249023,-23.78737449645996,-24.047500610351562,-23.732624053955078,-24.00287437438965,-24.088624954223633,-24.116249084472656,-23.898624420166016],[-23.99275016784668,-19.798625946044922,-15.515999794006348,-11.6381254196167,-9.259625434875488,-8.522375106811523,-9.714500427246094,-12.438249588012695,-16.161500930786133,-20.514875411987305,-24.862375259399414,-28.43637466430664,-30.511499404907227,-31.044124603271484,-29.430500030517578,-26.690874099731445,-22.78362464904785,-18.263874053955078,-14.065625190734863,-10.7162504196167,-8.807374954223633,-8.78499984741211,-10.3931245803833,-13.4375,-17.544374465942383,-21.68025016784668,-25.971250534057617,-29.110374450683594,-30.859874725341797,-30.797500610351562,-28.855249404907227,-25.64900016784668],[-23.957124710083008,-24.177249908447266,-23.458999633789062,-22.420875549316406,-20.64787483215332,-19.034624099731445,-17.66175079345703,-16.35449981689453,-15.78862476348877,-15.646124839782715,-16.375,-17.651500701904297,-19.227375030517578,-20.823375701904297,-22.426000595092773,-23.47887420654297,-24.064374923706055,-23.953125,-23.026750564575195,-22.007999420166016,-20.292375564575195,-18.7918758392334,-17.381624221801758,-15.895000457763672,-15.727874755859375,-15.758625030517578,-16.681499481201172,-18.051250457763672,-19.78737449645996,-21.472000122070312,-22.7606258392334,-23.790374755859375],[-23.85212516784668,-26.578500747680664,-28.393749237060547,-29.011375427246094,-28.245874404907227,-26.61425018310547,-23.894500732421875,-20.636749267578125,-17.53125,-15.288999557495117,-13.673125267028809,-13.265999794006348,-14.1274995803833,-16.075000762939453,-18.848875045776367,-21.671749114990234,-24.95400047302246,-27.36549949645996,-28.578125,-28.874624252319336,-27.951875686645508,-25.8278751373291,-23.04599952697754,-19.730125427246094,-17.086000442504883,-14.597749710083008,-13.402874946594238,-13.244375228881836,-14.57800006866455,-16.826000213623047,-19.618499755859375,-22.745500564575195],[-23.993249893188477,-22.86025047302246,-21.975374221801758,-21.106624603271484,-21.352874755859375,-21.796249389648438,-22.364999771118164,-23.710750579833984,-25.02287483215332,-26.044374465942383,-26.921875,-27.36512565612793,-27.313749313354492,-27.084999084472656,-25.922374725341797,-24.817625045776367,-23.68287467956543,-22.473249435424805,-21.73637580871582,-21.398374557495117,-21.363000869750977,-21.7293758392334,-22.756250381469727,-24.128374099731445,-25.32175064086914,-26.412750244140625,-26.891374588012695,-27.526124954223633,-27.583250045776367,-26.76912498474121,-25.746749877929688,-24.365249633789062],[-24.19675064086914,-20.55237579345703,-17.37037467956543,-14.612125396728516,-12.834124565124512,-12.522125244140625,-13.43287467956543,-15.736249923706055,-18.78762435913086,-22.16950035095215,-25.37412452697754,-27.899124145507812,-29.578500747680664,-29.770875930786133,-28.30412483215332,-26.136375427246094,-22.8231258392334,-19.48550033569336,-16.46875,-13.893500328063965,-12.518375396728516,-12.6899995803833,-13.944624900817871,-16.620250701904297,-19.680625915527344,-23.11662483215332,-26.069499969482422,-28.641374588012695,-29.579500198364258,-29.406999588012695,-27.814125061035156,-25.34575080871582],[-23.83187484741211,-24.93025016784668,-25.366374969482422,-25.412250518798828,-24.824249267578125,-24.043624877929688,-22.947999954223633,-21.527624130249023,-20.683500289916992,-20.073375701904297,-19.586624145507812,-19.646625518798828,-20.158374786376953,-20.94325065612793,-21.93462562561035,-23.04599952697754,-24.31362533569336,-25.064125061035156,-25.28874969482422,-25.38512420654297,-24.618749618530273,-23.801250457763672,-22.566749572753906,-21.45224952697754,-20.456375122070312,-19.726125717163086,-19.582624435424805,-19.477375030517578,-20.316999435424805,-21.30412483215332,-22.470375061035156,-23.84724998474121],[-23.934249877929688,-25.135000228881836,-25.868999481201172,-26.454875946044922,-26.4221248626709,-26.024749755859375,-25.014375686645508,-24.106624603271484,-22.9846248626709,-21.731124877929688,-21.038875579833984,-20.75200080871582,-20.867250442504883,-21.2606258392334,-22.122875213623047,-23.216875076293945,-24.48724937438965,-25.378625869750977,-26.30962562561035,-26.46299934387207,-26.274250030517578,-25.883625030517578,-24.88825035095215,-23.72825050354004,-22.464500427246094,-21.476375579833984,-21.019624710083008,-20.75237464904785,-20.81974983215332,-21.43662452697754,-22.289499282836914,-23.50550079345703],[-23.967124938964844,-23.066375732421875,-22.521875381469727,-21.77287483215332,-21.53737449645996,-21.666500091552734,-22.06362533569336,-22.63912582397461,-23.641000747680664,-24.66812515258789,-25.368749618530273,-25.52050018310547,-26.029499053955078,-25.75200080871582,-25.274999618530273,-24.728750228881836,-23.872249603271484,-23.03037452697754,-22.202749252319336,-21.6096248626709,-21.428874969482422,-21.856250762939453,-22.43837547302246,-23.027875900268555,-23.829999923706055,-24.70400047302246,-25.49537467956543,-25.836124420166016,-25.914125442504883,-25.621000289916992,-25.15850067138672,-24.375],[-24.00225067138672,-21.71987533569336,-19.441499710083008,-17.738500595092773,-17.1512508392334,-16.623249053955078,-17.490625381469727,-18.92562484741211,-21.165124893188477,-23.26187515258789,-25.370874404907227,-26.963125228881836,-28.017749786376953,-27.958749771118164,-27.224124908447266,-25.569124221801758,-23.391374588012695,-21.144500732421875,-19.056625366210938,-17.641124725341797,-16.650625228881836,-17.013124465942383,-18.10712432861328,-19.602375030517578,-21.84837532043457,-24.127750396728516,-25.979249954223633,-27.37262535095215,-28.00987434387207,-27.669124603271484,-26.647499084472656,-25.038875579833984],[-23.867000579833984,-24.475374221801758,-24.948875427246094,-25.630874633789062,-26.012374877929688,-26.426124572753906,-26.643625259399414,-26.49187469482422,-26.28700065612793,-25.717124938964844,-25.332500457763672,-24.6091251373291,-24.105749130249023,-23.52174949645996,-23.650249481201172,-23.746999740600586,-24.088499069213867,-24.601625442504883,-25.286375045776367,-25.7081241607666,-26.01937484741211,-26.596250534057617,-26.580875396728516,-26.51787567138672,-25.958999633789062,-25.610624313354492,-24.970874786376953,-24.64299964904785,-23.977750778198242,-23.895000457763672,-23.782499313354492,-23.71725082397461],[-24.096874237060547,-25.01412582397461,-26.38949966430664,-27.534250259399414,-28.19099998474121,-28.607250213623047,-28.539499282836914,-27.83824920654297,-27.006999969482422,-25.862625122070312,-24.780000686645508,-23.548124313354492,-22.97512435913086,-22.436500549316406,-22.632625579833984,-23.525875091552734,-24.421749114990234,-25.546875,-26.75950050354004,-27.67937469482422,-28.405250549316406,-28.707250595092773,-28.40887451171875,-27.611249923706055,-26.731124877929688,-25.44012451171875,-24.137874603271484,-23.220874786376953,-22.677499771118164,-22.157249450683594,-22.935625076293945,-23.422374725341797],[-23.820999145507812,-24.615249633789062,-25.075000762939453,-24.748374938964844,-24.057125091552734,-22.930374145507812,-21.99712562561035,-20.683374404907227,-19.857500076293945,-19.179624557495117,-19.006750106811523,-19.22425079345703,-19.878999710083008,-21.16200065612793,-22.109874725341797,-23.181249618530273,-24.41200065612793,-24.776750564575195,-25.021499633789062,-24.7033748626709,-24.02549934387207,-23.07237434387207,-21.495874404907227,-20.278125762939453,-19.566625595092773,-19.03737449645996,-18.887374877929688,-19.560375213623047,-20.110624313354492,-21.222875595092773,-22.530500411987305,-23.626375198364258],[-23.958250045776367,-21.733999252319336,-19.692874908447266,-17.51762580871582,-16.18975067138672,-15.76187515258789,-16.084875106811523,-17.410749435424805,-19.32587432861328,-21.432374954223633,-23.598249435424805,-25.63912582397461,-26.851499557495117,-27.358875274658203,-26.779499053955078,-25.32612419128418,-23.13224983215332,-21.288875579833984,-18.79462432861328,-16.96875,-15.8881254196167,-15.746000289916992,-16.491249084472656,-17.97487449645996,-19.78387451171875,-22.504249572753906,-24.472749710083008,-26.202999114990234,-27.045499801635742,-27.200124740600586,-26.456499099731445,-24.9064998626709],[-23.86574935913086,-23.518125534057617,-23.643625259399414,-23.768625259399414,-24.254375457763672,-24.87849998474121,-25.694250106811523,-26.46387481689453,-27.180374145507812,-27.544124603271484,-27.383874893188477,-27.10474967956543,-26.908124923706055,-25.9528751373291,-25.210874557495117,-24.54974937438965,-24.022499084472656,-23.59087562561035,-23.686500549316406,-24.015125274658203,-24.35387420654297,-25.239625930786133,-25.97825050354004,-26.7606258392334,-27.252750396728516,-27.665624618530273,-27.53325080871582,-27.05175018310547,-26.288875579833984,-25.76074981689453,-25.038124084472656,-23.993125915527344],[-23.93600082397461,-26.047624588012695,-28.137250900268555,-30.086624145507812,-31.447874069213867,-32.02949905395508,-31.787500381469727,-30.804874420166016,-29.052125930786133,-27.026874542236328,-24.654125213623047,-22.982749938964844,-21.63050079345703,-21.12849998474121,-21.890125274658203,-22.851499557495117,-24.31137466430664,-26.676374435424805,-28.69562530517578,-30.51012420654297,-31.58737564086914,-31.858375549316406,-31.540124893188477,-30.31049919128418,-28.400625228881836,-26.26787567138672,-24.266250610351562,-22.50237464904785,-21.503625869750977,-21.540250778198242,-22.144874572753906,-23.291624069213867],[-24.050874710083008,-24.979124069213867,-25.506750106811523,-25.476749420166016,-24.795249938964844,-23.906749725341797,-22.558624267578125,-21.38837432861328,-19.761999130249023,-19.07699966430664,-18.618999481201172,-18.714874267578125,-19.401874542236328,-20.401750564575195,-21.82200050354004,-23.11162567138672,-23.869749069213867,-25.09025001525879,-25.47162437438965,-25.124500274658203,-24.6247501373291,-23.149499893188477,-22.41925048828125,-21.015750885009766,-19.660375595092773,-18.889875411987305,-18.510250091552734,-18.843624114990234,-19.798500061035156,-20.858625411987305,-22.158124923706055,-23.435749053955078],[-24.22800064086914,-21.3908748626709,-18.328750610351562,-15.876375198364258,-14.220375061035156,-13.591124534606934,-14.010000228881836,-15.409250259399414,-17.677749633789062,-20.552125930786133,-23.68112564086914,-25.95224952697754,-27.554624557495117,-28.058624267578125,-27.412250518798828,-25.614625930786133,-23.21987533569336,-20.308624267578125,-17.53612518310547,-15.034625053405762,-13.94112491607666,-13.51550006866455,-14.38224983215332,-16.011249542236328,-18.9737491607666,-21.821500778198242,-24.584625244140625,-26.562000274658203,-27.895374298095703,-27.952499389648438,-27.076000213623047,-25.168750762939453],[-24.147375106811523,-24.153125762939453,-24.236125946044922,-24.303499221801758,-24.12012481689453,-23.88112449645996,-24.015125274658203,-23.65250015258789,-23.250999450683594,-23.266250610351562,-23.195749282836914,-23.2137508392334,-23.211875915527344,-23.360750198364258,-23.671875,-23.829500198364258,-24.036624908447266,-24.212749481201172,-24.254749298095703,-24.133249282836914,-24.045000076293945,-23.954750061035156,-23.75237464904785,-23.807125091552734,-23.56887435913086,-23.421125411987305,-23.078250885009766,-23.566875457763672,-23.41087532043457,-23.658750534057617,-23.773250579833984,-24.06049919128418],[-24.146875381469727,-26.70924949645996,-29.158000946044922,-31.012624740600586,-31.930124282836914,-31.865875244140625,-30.655500411987305,-28.629499435424805,-26.003250122070312,-23.282499313354492,-21.260374069213867,-19.453624725341797,-18.68862533569336,-18.728124618530273,-20.226625442504883,-22.176250457763672,-24.85099983215332,-27.43025016784668,-29.67275047302246,-31.34462547302246,-31.95862579345703,-31.572999954223633,-30.14812469482422,-28.118499755859375,-25.552000045776367,-22.535625457763672,-20.54887580871582,-19.061500549316406,-18.45425033569336,-19.06475067138672,-20.70574951171875,-22.769750595092773],[-24.08362579345703,-23.65912437438965,-23.29537582397461,-22.92762565612793,-22.663249969482422,-22.479124069213867,-22.587499618530273,-22.873374938964844,-23.210874557495117,-23.696125030517578,-23.837499618530273,-24.384374618530273,-24.496999740600586,-24.687000274658203,-24.43112564086914,-24.363624572753906,-23.95537567138672,-23.676374435424805,-23.176250457763672,-22.854999542236328,-22.690500259399414,-22.32724952697754,-22.507875442504883,-22.908750534057617,-23.271499633789062,-23.65887451171875,-23.9841251373291,-24.428874969482422,-24.363500595092773,-24.616125106811523,-24.47949981689453,-24.184375762939453],[-24.006500244140625,-21.29599952697754,-18.95549964904785,-16.84225082397461,-15.768625259399414,-15.87399959564209,-16.842500686645508,-18.869625091552734,-20.760499954223633,-23.745250701904297,-26.180500030517578,-28.151500701904297,-29.107500076293945,-28.819374084472656,-27.736000061035156,-25.862749099731445,-23.16987419128418,-20.56800079345703,-18.246875762939453,-16.680875778198242,-15.854874610900879,-16.312625885009766,-17.47337532043457,-19.418750762939453,-21.961124420166016,-24.72337532043457,-26.94587516784668,-28.51300048828125,-28.997499465942383,-28.47624969482422,-27.25812530517578,-24.98812484741211],[-24.103500366210938,-24.925249099731445,-25.5471248626709,-25.676374435424805,-25.5206241607666,-25.006750106811523,-23.765249252319336,-22.636749267578125,-21.973249435424805,-20.7081241607666,-20.18987464904785,-20.064624786376953,-20.264249801635742,-21.121999740600586,-21.947250366210938,-23.20687484741211,-24.452499389648438,-25.278749465942383,-25.797500610351562,-25.829999923706055,-25.292749404907227,-24.695375442504883,-23.8596248626709,-22.60099983215332,-21.389999389648438,-20.69124984741211,-20.174625396728516,-20.20687484741211,-20.357250213623047,-21.26824951171875,-22.31162452697754,-23.555124282836914],[-23.98674964904785,-26.006874084472656,-27.333375930786133,-28.20800018310547,-28.169750213623047,-27.273374557495117,-25.672250747680664,-23.46762466430664,-21.255874633789062,-19.581125259399414,-17.962749481201172,-17.477624893188477,-17.556249618530273,-18.660999298095703,-20.467750549316406,-22.59287452697754,-24.54974937438965,-26.47862434387207,-27.76849937438965,-28.411874771118164,-27.914749145507812,-26.826749801635742,-24.957624435424805,-23.104625701904297,-20.65537452697754,-18.895124435424805,-17.72887420654297,-17.477375030517578,-17.915250778198242,-19.408374786376953,-21.032249450683594,-23.15737533569336],[-24.062999725341797,-22.950624465942383,-21.819499969482422,-21.21787452697754,-21.152374267578125,-21.61949920654297,-22.454124450683594,-23.61574935913086,-24.684125900268555,-26.100250244140625,-26.773250579833984,-27.305625915527344,-27.258249282836914,-26.88075065612793,-26.074125289916992,-24.986249923706055,-23.692750930786133,-22.423124313354492,-21.75349998474121,-21.43287467956543,-21.436750411987305,-22.054624557495117,-22.777999877929688,-23.89900016784668,-25.16087532043457,-26.104249954223633,-27.213125228881836,-27.2918758392334,-27.421125411987305,-26.633874893188477,-25.73662567138672,-24.564125061035156],[-23.915000915527344,-23.106374740600586,-22.665874481201172,-22.63512420654297,-23.0887508392334,-23.66699981689453,-24.671875,-25.877750396728516,-26.843250274658203,-27.43375015258789,-27.828624725341797,-27.913000106811523,-27.406375885009766,-26.714500427246094,-25.74449920654297,-24.56712532043457,-23.752500534057617,-23.031625747680664,-22.688125610351562,-22.753875732421875,-23.090124130249023,-23.957374572753906,-25.292875289916992,-26.171125411987305,-27.129499435424805,-27.592124938964844,-27.824874877929688,-27.88112449645996,-27.316499710083008,-26.429250717163086,-25.613874435424805,-24.607500076293945],[-24.068500518798828,-25.17937469482422,-26.31362533569336,-27.22487449645996,-27.772624969482422,-27.940000534057617,-27.480375289916992,-26.681249618530273,-25.64812469482422,-24.599750518798828,-23.545499801635742,-22.41237449645996,-21.966249465942383,-22.063749313354492,-22.40337562561035,-23.031625747680664,-24.406625747680664,-25.511125564575195,-26.54775047302246,-27.493000030517578,-27.925125122070312,-27.944875717163086,-27.332374572753906,-26.590625762939453,-25.4375,-24.19762420654297,-23.090124130249023,-22.34137535095215,-21.992000579833984,-22.017749786376953,-22.751874923706055,-23.66087532043457],[-23.89987564086914,-24.381500244140625,-25.156375885009766,-25.323625564575195,-24.78274917602539,-24.140750885009766,-23.40825080871582,-22.544124603271484,-21.694000244140625,-21.046499252319336,-20.744749069213867,-20.7706241607666,-21.154375076293945,-21.697124481201172,-22.64349937438965,-23.357250213623047,-24.185375213623047,-24.802125930786133,-25.092750549316406,-25.060625076293945,-24.71525001525879,-24.016624450683594,-23.347999572753906,-22.392000198364258,-21.430749893188477,-21.043249130249023,-20.640625,-20.87237548828125,-21.418624877929688,-21.871374130249023,-22.979875564575195,-23.525625228881836],[-24.077625274658203,-22.901500701904297,-21.920499801635742,-21.816375732421875,-21.854625701904297,-22.92300033569336,-23.75,-24.90850067138672,-26.03325080871582,-27.202499389648438,-27.922500610351562,-28.27137565612793,-27.9268741607666,-27.01325035095215,-26.02512550354004,-24.587749481201172,-23.593624114990234,-22.719249725341797,-22.026124954223633,-21.800125122070312,-22.254499435424805,-23.099374771118164,-24.083250045776367,-25.065250396728516,-26.47949981689453,-27.459875106811523,-27.903125762939453,-28.148250579833984,-27.722124099731445,-27.001874923706055,-25.663124084472656,-24.522499084472656],[-24.098875045776367,-24.583375930786133,-25.451749801635742,-26.92562484741211,-28.28700065612793,-29.680625915527344,-30.72162437438965,-31.390750885009766,-31.26362419128418,-30.752750396728516,-29.670875549316406,-28.303874969482422,-26.89437484741211,-25.358375549316406,-24.680625915527344,-24.021875381469727,-24.057125091552734,-24.510875701904297,-25.953624725341797,-27.379125595092773,-28.834875106811523,-30.095375061035156,-30.9528751373291,-31.334875106811523,-31.161375045776367,-30.390249252319336,-29.265750885009766,-27.874374389648438,-26.51412582397461,-25.203500747680664,-24.211624145507812,-24.01337432861328],[-23.996000289916992,-24.70775032043457,-25.984750747680664,-27.342500686645508,-28.557249069213867,-29.68462562561035,-30.634374618530273,-30.942249298095703,-30.62299919128418,-29.978750228881836,-28.739999771118164,-27.435874938964844,-26.024375915527344,-24.83762550354004,-24.085500717163086,-23.88137435913086,-24.059125900268555,-24.901500701904297,-26.508249282836914,-27.540624618530273,-28.83762550354004,-30.113750457763672,-30.732624053955078,-30.964000701904297,-30.57237434387207,-29.525249481201172,-28.344749450683594,-27.012374877929688,-25.641250610351562,-24.544374465942383,-23.94499969482422,-23.836750030517578],[-23.89812469482422,-24.601999282836914,-25.308124542236328,-25.80175018310547,-26.18662452697754,-26.1043758392334,-25.90387535095215,-25.32324981689453,-24.762374877929688,-24.120874404907227,-23.464874267578125,-23.0622501373291,-22.81162452697754,-22.672874450683594,-23.03499984741211,-23.5778751373291,-24.373750686645508,-24.771249771118164,-25.420249938964844,-25.90999984741211,-26.16925048828125,-26.029874801635742,-25.721500396728516,-25.179750442504883,-24.31974983215332,-23.648374557495117,-23.345375061035156,-23.043750762939453,-22.319875717163086,-22.563125610351562,-23.082374572753906,-23.6408748626709]]}],                        {\"scene\":{\"xaxis\":{\"title\":{\"text\":\"gamma\"}},\"yaxis\":{\"title\":{\"text\":\"beta\"}},\"zaxis\":{\"title\":{\"text\":\"mean\"}}},\"template\":{\"data\":{\"bar\":[{\"error_x\":{\"color\":\"#2a3f5f\"},\"error_y\":{\"color\":\"#2a3f5f\"},\"marker\":{\"line\":{\"color\":\"#E5ECF6\",\"width\":0.5},\"pattern\":{\"fillmode\":\"overlay\",\"size\":10,\"solidity\":0.2}},\"type\":\"bar\"}],\"barpolar\":[{\"marker\":{\"line\":{\"color\":\"#E5ECF6\",\"width\":0.5},\"pattern\":{\"fillmode\":\"overlay\",\"size\":10,\"solidity\":0.2}},\"type\":\"barpolar\"}],\"carpet\":[{\"aaxis\":{\"endlinecolor\":\"#2a3f5f\",\"gridcolor\":\"white\",\"linecolor\":\"white\",\"minorgridcolor\":\"white\",\"startlinecolor\":\"#2a3f5f\"},\"baxis\":{\"endlinecolor\":\"#2a3f5f\",\"gridcolor\":\"white\",\"linecolor\":\"white\",\"minorgridcolor\":\"white\",\"startlinecolor\":\"#2a3f5f\"},\"type\":\"carpet\"}],\"choropleth\":[{\"colorbar\":{\"outlinewidth\":0,\"ticks\":\"\"},\"type\":\"choropleth\"}],\"contour\":[{\"colorbar\":{\"outlinewidth\":0,\"ticks\":\"\"},\"colorscale\":[[0.0,\"#0d0887\"],[0.1111111111111111,\"#46039f\"],[0.2222222222222222,\"#7201a8\"],[0.3333333333333333,\"#9c179e\"],[0.4444444444444444,\"#bd3786\"],[0.5555555555555556,\"#d8576b\"],[0.6666666666666666,\"#ed7953\"],[0.7777777777777778,\"#fb9f3a\"],[0.8888888888888888,\"#fdca26\"],[1.0,\"#f0f921\"]],\"type\":\"contour\"}],\"contourcarpet\":[{\"colorbar\":{\"outlinewidth\":0,\"ticks\":\"\"},\"type\":\"contourcarpet\"}],\"heatmap\":[{\"colorbar\":{\"outlinewidth\":0,\"ticks\":\"\"},\"colorscale\":[[0.0,\"#0d0887\"],[0.1111111111111111,\"#46039f\"],[0.2222222222222222,\"#7201a8\"],[0.3333333333333333,\"#9c179e\"],[0.4444444444444444,\"#bd3786\"],[0.5555555555555556,\"#d8576b\"],[0.6666666666666666,\"#ed7953\"],[0.7777777777777778,\"#fb9f3a\"],[0.8888888888888888,\"#fdca26\"],[1.0,\"#f0f921\"]],\"type\":\"heatmap\"}],\"heatmapgl\":[{\"colorbar\":{\"outlinewidth\":0,\"ticks\":\"\"},\"colorscale\":[[0.0,\"#0d0887\"],[0.1111111111111111,\"#46039f\"],[0.2222222222222222,\"#7201a8\"],[0.3333333333333333,\"#9c179e\"],[0.4444444444444444,\"#bd3786\"],[0.5555555555555556,\"#d8576b\"],[0.6666666666666666,\"#ed7953\"],[0.7777777777777778,\"#fb9f3a\"],[0.8888888888888888,\"#fdca26\"],[1.0,\"#f0f921\"]],\"type\":\"heatmapgl\"}],\"histogram\":[{\"marker\":{\"pattern\":{\"fillmode\":\"overlay\",\"size\":10,\"solidity\":0.2}},\"type\":\"histogram\"}],\"histogram2d\":[{\"colorbar\":{\"outlinewidth\":0,\"ticks\":\"\"},\"colorscale\":[[0.0,\"#0d0887\"],[0.1111111111111111,\"#46039f\"],[0.2222222222222222,\"#7201a8\"],[0.3333333333333333,\"#9c179e\"],[0.4444444444444444,\"#bd3786\"],[0.5555555555555556,\"#d8576b\"],[0.6666666666666666,\"#ed7953\"],[0.7777777777777778,\"#fb9f3a\"],[0.8888888888888888,\"#fdca26\"],[1.0,\"#f0f921\"]],\"type\":\"histogram2d\"}],\"histogram2dcontour\":[{\"colorbar\":{\"outlinewidth\":0,\"ticks\":\"\"},\"colorscale\":[[0.0,\"#0d0887\"],[0.1111111111111111,\"#46039f\"],[0.2222222222222222,\"#7201a8\"],[0.3333333333333333,\"#9c179e\"],[0.4444444444444444,\"#bd3786\"],[0.5555555555555556,\"#d8576b\"],[0.6666666666666666,\"#ed7953\"],[0.7777777777777778,\"#fb9f3a\"],[0.8888888888888888,\"#fdca26\"],[1.0,\"#f0f921\"]],\"type\":\"histogram2dcontour\"}],\"mesh3d\":[{\"colorbar\":{\"outlinewidth\":0,\"ticks\":\"\"},\"type\":\"mesh3d\"}],\"parcoords\":[{\"line\":{\"colorbar\":{\"outlinewidth\":0,\"ticks\":\"\"}},\"type\":\"parcoords\"}],\"pie\":[{\"automargin\":true,\"type\":\"pie\"}],\"scatter\":[{\"marker\":{\"colorbar\":{\"outlinewidth\":0,\"ticks\":\"\"}},\"type\":\"scatter\"}],\"scatter3d\":[{\"line\":{\"colorbar\":{\"outlinewidth\":0,\"ticks\":\"\"}},\"marker\":{\"colorbar\":{\"outlinewidth\":0,\"ticks\":\"\"}},\"type\":\"scatter3d\"}],\"scattercarpet\":[{\"marker\":{\"colorbar\":{\"outlinewidth\":0,\"ticks\":\"\"}},\"type\":\"scattercarpet\"}],\"scattergeo\":[{\"marker\":{\"colorbar\":{\"outlinewidth\":0,\"ticks\":\"\"}},\"type\":\"scattergeo\"}],\"scattergl\":[{\"marker\":{\"colorbar\":{\"outlinewidth\":0,\"ticks\":\"\"}},\"type\":\"scattergl\"}],\"scattermapbox\":[{\"marker\":{\"colorbar\":{\"outlinewidth\":0,\"ticks\":\"\"}},\"type\":\"scattermapbox\"}],\"scatterpolar\":[{\"marker\":{\"colorbar\":{\"outlinewidth\":0,\"ticks\":\"\"}},\"type\":\"scatterpolar\"}],\"scatterpolargl\":[{\"marker\":{\"colorbar\":{\"outlinewidth\":0,\"ticks\":\"\"}},\"type\":\"scatterpolargl\"}],\"scatterternary\":[{\"marker\":{\"colorbar\":{\"outlinewidth\":0,\"ticks\":\"\"}},\"type\":\"scatterternary\"}],\"surface\":[{\"colorbar\":{\"outlinewidth\":0,\"ticks\":\"\"},\"colorscale\":[[0.0,\"#0d0887\"],[0.1111111111111111,\"#46039f\"],[0.2222222222222222,\"#7201a8\"],[0.3333333333333333,\"#9c179e\"],[0.4444444444444444,\"#bd3786\"],[0.5555555555555556,\"#d8576b\"],[0.6666666666666666,\"#ed7953\"],[0.7777777777777778,\"#fb9f3a\"],[0.8888888888888888,\"#fdca26\"],[1.0,\"#f0f921\"]],\"type\":\"surface\"}],\"table\":[{\"cells\":{\"fill\":{\"color\":\"#EBF0F8\"},\"line\":{\"color\":\"white\"}},\"header\":{\"fill\":{\"color\":\"#C8D4E3\"},\"line\":{\"color\":\"white\"}},\"type\":\"table\"}]},\"layout\":{\"annotationdefaults\":{\"arrowcolor\":\"#2a3f5f\",\"arrowhead\":0,\"arrowwidth\":1},\"autotypenumbers\":\"strict\",\"coloraxis\":{\"colorbar\":{\"outlinewidth\":0,\"ticks\":\"\"}},\"colorscale\":{\"diverging\":[[0,\"#8e0152\"],[0.1,\"#c51b7d\"],[0.2,\"#de77ae\"],[0.3,\"#f1b6da\"],[0.4,\"#fde0ef\"],[0.5,\"#f7f7f7\"],[0.6,\"#e6f5d0\"],[0.7,\"#b8e186\"],[0.8,\"#7fbc41\"],[0.9,\"#4d9221\"],[1,\"#276419\"]],\"sequential\":[[0.0,\"#0d0887\"],[0.1111111111111111,\"#46039f\"],[0.2222222222222222,\"#7201a8\"],[0.3333333333333333,\"#9c179e\"],[0.4444444444444444,\"#bd3786\"],[0.5555555555555556,\"#d8576b\"],[0.6666666666666666,\"#ed7953\"],[0.7777777777777778,\"#fb9f3a\"],[0.8888888888888888,\"#fdca26\"],[1.0,\"#f0f921\"]],\"sequentialminus\":[[0.0,\"#0d0887\"],[0.1111111111111111,\"#46039f\"],[0.2222222222222222,\"#7201a8\"],[0.3333333333333333,\"#9c179e\"],[0.4444444444444444,\"#bd3786\"],[0.5555555555555556,\"#d8576b\"],[0.6666666666666666,\"#ed7953\"],[0.7777777777777778,\"#fb9f3a\"],[0.8888888888888888,\"#fdca26\"],[1.0,\"#f0f921\"]]},\"colorway\":[\"#636efa\",\"#EF553B\",\"#00cc96\",\"#ab63fa\",\"#FFA15A\",\"#19d3f3\",\"#FF6692\",\"#B6E880\",\"#FF97FF\",\"#FECB52\"],\"font\":{\"color\":\"#2a3f5f\"},\"geo\":{\"bgcolor\":\"white\",\"lakecolor\":\"white\",\"landcolor\":\"#E5ECF6\",\"showlakes\":true,\"showland\":true,\"subunitcolor\":\"white\"},\"hoverlabel\":{\"align\":\"left\"},\"hovermode\":\"closest\",\"mapbox\":{\"style\":\"light\"},\"paper_bgcolor\":\"white\",\"plot_bgcolor\":\"#E5ECF6\",\"polar\":{\"angularaxis\":{\"gridcolor\":\"white\",\"linecolor\":\"white\",\"ticks\":\"\"},\"bgcolor\":\"#E5ECF6\",\"radialaxis\":{\"gridcolor\":\"white\",\"linecolor\":\"white\",\"ticks\":\"\"}},\"scene\":{\"xaxis\":{\"backgroundcolor\":\"#E5ECF6\",\"gridcolor\":\"white\",\"gridwidth\":2,\"linecolor\":\"white\",\"showbackground\":true,\"ticks\":\"\",\"zerolinecolor\":\"white\"},\"yaxis\":{\"backgroundcolor\":\"#E5ECF6\",\"gridcolor\":\"white\",\"gridwidth\":2,\"linecolor\":\"white\",\"showbackground\":true,\"ticks\":\"\",\"zerolinecolor\":\"white\"},\"zaxis\":{\"backgroundcolor\":\"#E5ECF6\",\"gridcolor\":\"white\",\"gridwidth\":2,\"linecolor\":\"white\",\"showbackground\":true,\"ticks\":\"\",\"zerolinecolor\":\"white\"}},\"shapedefaults\":{\"line\":{\"color\":\"#2a3f5f\"}},\"ternary\":{\"aaxis\":{\"gridcolor\":\"white\",\"linecolor\":\"white\",\"ticks\":\"\"},\"baxis\":{\"gridcolor\":\"white\",\"linecolor\":\"white\",\"ticks\":\"\"},\"bgcolor\":\"#E5ECF6\",\"caxis\":{\"gridcolor\":\"white\",\"linecolor\":\"white\",\"ticks\":\"\"}},\"title\":{\"x\":0.05},\"xaxis\":{\"automargin\":true,\"gridcolor\":\"white\",\"linecolor\":\"white\",\"ticks\":\"\",\"title\":{\"standoff\":15},\"zerolinecolor\":\"white\",\"zerolinewidth\":2},\"yaxis\":{\"automargin\":true,\"gridcolor\":\"white\",\"linecolor\":\"white\",\"ticks\":\"\",\"title\":{\"standoff\":15},\"zerolinecolor\":\"white\",\"zerolinewidth\":2}}},\"title\":{\"text\":\"QAOA MaxCut\"}},                        {\"responsive\": true}                    ).then(function(){\n",
       "                            \n",
       "var gd = document.getElementById('98e2bbb0-7f8c-406c-9c93-8de288e96682');\n",
       "var x = new MutationObserver(function (mutations, observer) {{\n",
       "        var display = window.getComputedStyle(gd).display;\n",
       "        if (!display || display === 'none') {{\n",
       "            console.log([gd, 'removed!']);\n",
       "            Plotly.purge(gd);\n",
       "            observer.disconnect();\n",
       "        }}\n",
       "}});\n",
       "\n",
       "// Listen for the removal of the full notebook cells\n",
       "var notebookContainer = gd.closest('#notebook-container');\n",
       "if (notebookContainer) {{\n",
       "    x.observe(notebookContainer, {childList: true});\n",
       "}}\n",
       "\n",
       "// Listen for the clearing of the current output cell\n",
       "var outputEl = gd.closest('.output');\n",
       "if (outputEl) {{\n",
       "    x.observe(outputEl, {childList: true});\n",
       "}}\n",
       "\n",
       "                        })                };                });            </script>        </div>"
      ]
     },
     "metadata": {},
     "output_type": "display_data"
    }
   ],
   "source": [
    "# Plot landscape in 3D \n",
    "a_gamma = np.arange(0, np.pi, step_size)\n",
    "b_beta = np.arange(0, np.pi, step_size)\n",
    "fig = go.Figure(data=go.Surface(z=landscape, y=b_beta, x=a_gamma))\n",
    "\n",
    "fig.update_traces(contours_z=dict(show=True, usecolormap=True, highlightcolor='limegreen', project_z=True))\n",
    "\n",
    "\n",
    "fig.update_layout(title=\"QAOA MaxCut\", scene=dict(\n",
    "    xaxis_title=\"gamma\",\n",
    "    yaxis_title=\"beta\",\n",
    "    zaxis_title=\"mean\"\n",
    "))"
   ]
  },
  {
   "cell_type": "code",
   "execution_count": 384,
   "id": "e44b8ca6",
   "metadata": {
    "scrolled": false
   },
   "outputs": [
    {
     "data": {
      "application/vnd.plotly.v1+json": {
       "config": {
        "plotlyServerURL": "https://plot.ly"
       },
       "data": [
        {
         "colorscale": [
          [
           0,
           "#440154"
          ],
          [
           0.1111111111111111,
           "#482878"
          ],
          [
           0.2222222222222222,
           "#3e4989"
          ],
          [
           0.3333333333333333,
           "#31688e"
          ],
          [
           0.4444444444444444,
           "#26828e"
          ],
          [
           0.5555555555555556,
           "#1f9e89"
          ],
          [
           0.6666666666666666,
           "#35b779"
          ],
          [
           0.7777777777777778,
           "#6ece58"
          ],
          [
           0.8888888888888888,
           "#b5de2b"
          ],
          [
           1,
           "#fde725"
          ]
         ],
         "type": "heatmap",
         "x": [
          0,
          0.1,
          0.2,
          0.30000000000000004,
          0.4,
          0.5,
          0.6000000000000001,
          0.7000000000000001,
          0.8,
          0.9,
          1,
          1.1,
          1.2000000000000002,
          1.3,
          1.4000000000000001,
          1.5,
          1.6,
          1.7000000000000002,
          1.8,
          1.9000000000000001,
          2,
          2.1,
          2.2,
          2.3000000000000003,
          2.4000000000000004,
          2.5,
          2.6,
          2.7,
          2.8000000000000003,
          2.9000000000000004,
          3,
          3.1
         ],
         "y": [
          0,
          0.1,
          0.2,
          0.30000000000000004,
          0.4,
          0.5,
          0.6000000000000001,
          0.7000000000000001,
          0.8,
          0.9,
          1,
          1.1,
          1.2000000000000002,
          1.3,
          1.4000000000000001,
          1.5,
          1.6,
          1.7000000000000002,
          1.8,
          1.9000000000000001,
          2,
          2.1,
          2.2,
          2.3000000000000003,
          2.4000000000000004,
          2.5,
          2.6,
          2.7,
          2.8000000000000003,
          2.9000000000000004,
          3,
          3.1
         ],
         "z": [
          [
           -23.96637535095215,
           -23.958499908447266,
           -24.00349998474121,
           -23.919374465942383,
           -24.065874099731445,
           -23.962499618530273,
           -23.983875274658203,
           -23.769874572753906,
           -23.957624435424805,
           -24.066499710083008,
           -24.129125595092773,
           -24.07925033569336,
           -24.017749786376953,
           -23.785125732421875,
           -24.086000442504883,
           -23.95462417602539,
           -24.08562469482422,
           -23.915250778198242,
           -24.078250885009766,
           -24.108749389648438,
           -23.914749145507812,
           -24.165624618530273,
           -24.093374252319336,
           -24.13337516784668,
           -23.746374130249023,
           -23.78737449645996,
           -24.047500610351562,
           -23.732624053955078,
           -24.00287437438965,
           -24.088624954223633,
           -24.116249084472656,
           -23.898624420166016
          ],
          [
           -23.99275016784668,
           -19.798625946044922,
           -15.515999794006348,
           -11.6381254196167,
           -9.259625434875488,
           -8.522375106811523,
           -9.714500427246094,
           -12.438249588012695,
           -16.161500930786133,
           -20.514875411987305,
           -24.862375259399414,
           -28.43637466430664,
           -30.511499404907227,
           -31.044124603271484,
           -29.430500030517578,
           -26.690874099731445,
           -22.78362464904785,
           -18.263874053955078,
           -14.065625190734863,
           -10.7162504196167,
           -8.807374954223633,
           -8.78499984741211,
           -10.3931245803833,
           -13.4375,
           -17.544374465942383,
           -21.68025016784668,
           -25.971250534057617,
           -29.110374450683594,
           -30.859874725341797,
           -30.797500610351562,
           -28.855249404907227,
           -25.64900016784668
          ],
          [
           -23.957124710083008,
           -24.177249908447266,
           -23.458999633789062,
           -22.420875549316406,
           -20.64787483215332,
           -19.034624099731445,
           -17.66175079345703,
           -16.35449981689453,
           -15.78862476348877,
           -15.646124839782715,
           -16.375,
           -17.651500701904297,
           -19.227375030517578,
           -20.823375701904297,
           -22.426000595092773,
           -23.47887420654297,
           -24.064374923706055,
           -23.953125,
           -23.026750564575195,
           -22.007999420166016,
           -20.292375564575195,
           -18.7918758392334,
           -17.381624221801758,
           -15.895000457763672,
           -15.727874755859375,
           -15.758625030517578,
           -16.681499481201172,
           -18.051250457763672,
           -19.78737449645996,
           -21.472000122070312,
           -22.7606258392334,
           -23.790374755859375
          ],
          [
           -23.85212516784668,
           -26.578500747680664,
           -28.393749237060547,
           -29.011375427246094,
           -28.245874404907227,
           -26.61425018310547,
           -23.894500732421875,
           -20.636749267578125,
           -17.53125,
           -15.288999557495117,
           -13.673125267028809,
           -13.265999794006348,
           -14.1274995803833,
           -16.075000762939453,
           -18.848875045776367,
           -21.671749114990234,
           -24.95400047302246,
           -27.36549949645996,
           -28.578125,
           -28.874624252319336,
           -27.951875686645508,
           -25.8278751373291,
           -23.04599952697754,
           -19.730125427246094,
           -17.086000442504883,
           -14.597749710083008,
           -13.402874946594238,
           -13.244375228881836,
           -14.57800006866455,
           -16.826000213623047,
           -19.618499755859375,
           -22.745500564575195
          ],
          [
           -23.993249893188477,
           -22.86025047302246,
           -21.975374221801758,
           -21.106624603271484,
           -21.352874755859375,
           -21.796249389648438,
           -22.364999771118164,
           -23.710750579833984,
           -25.02287483215332,
           -26.044374465942383,
           -26.921875,
           -27.36512565612793,
           -27.313749313354492,
           -27.084999084472656,
           -25.922374725341797,
           -24.817625045776367,
           -23.68287467956543,
           -22.473249435424805,
           -21.73637580871582,
           -21.398374557495117,
           -21.363000869750977,
           -21.7293758392334,
           -22.756250381469727,
           -24.128374099731445,
           -25.32175064086914,
           -26.412750244140625,
           -26.891374588012695,
           -27.526124954223633,
           -27.583250045776367,
           -26.76912498474121,
           -25.746749877929688,
           -24.365249633789062
          ],
          [
           -24.19675064086914,
           -20.55237579345703,
           -17.37037467956543,
           -14.612125396728516,
           -12.834124565124512,
           -12.522125244140625,
           -13.43287467956543,
           -15.736249923706055,
           -18.78762435913086,
           -22.16950035095215,
           -25.37412452697754,
           -27.899124145507812,
           -29.578500747680664,
           -29.770875930786133,
           -28.30412483215332,
           -26.136375427246094,
           -22.8231258392334,
           -19.48550033569336,
           -16.46875,
           -13.893500328063965,
           -12.518375396728516,
           -12.6899995803833,
           -13.944624900817871,
           -16.620250701904297,
           -19.680625915527344,
           -23.11662483215332,
           -26.069499969482422,
           -28.641374588012695,
           -29.579500198364258,
           -29.406999588012695,
           -27.814125061035156,
           -25.34575080871582
          ],
          [
           -23.83187484741211,
           -24.93025016784668,
           -25.366374969482422,
           -25.412250518798828,
           -24.824249267578125,
           -24.043624877929688,
           -22.947999954223633,
           -21.527624130249023,
           -20.683500289916992,
           -20.073375701904297,
           -19.586624145507812,
           -19.646625518798828,
           -20.158374786376953,
           -20.94325065612793,
           -21.93462562561035,
           -23.04599952697754,
           -24.31362533569336,
           -25.064125061035156,
           -25.28874969482422,
           -25.38512420654297,
           -24.618749618530273,
           -23.801250457763672,
           -22.566749572753906,
           -21.45224952697754,
           -20.456375122070312,
           -19.726125717163086,
           -19.582624435424805,
           -19.477375030517578,
           -20.316999435424805,
           -21.30412483215332,
           -22.470375061035156,
           -23.84724998474121
          ],
          [
           -23.934249877929688,
           -25.135000228881836,
           -25.868999481201172,
           -26.454875946044922,
           -26.4221248626709,
           -26.024749755859375,
           -25.014375686645508,
           -24.106624603271484,
           -22.9846248626709,
           -21.731124877929688,
           -21.038875579833984,
           -20.75200080871582,
           -20.867250442504883,
           -21.2606258392334,
           -22.122875213623047,
           -23.216875076293945,
           -24.48724937438965,
           -25.378625869750977,
           -26.30962562561035,
           -26.46299934387207,
           -26.274250030517578,
           -25.883625030517578,
           -24.88825035095215,
           -23.72825050354004,
           -22.464500427246094,
           -21.476375579833984,
           -21.019624710083008,
           -20.75237464904785,
           -20.81974983215332,
           -21.43662452697754,
           -22.289499282836914,
           -23.50550079345703
          ],
          [
           -23.967124938964844,
           -23.066375732421875,
           -22.521875381469727,
           -21.77287483215332,
           -21.53737449645996,
           -21.666500091552734,
           -22.06362533569336,
           -22.63912582397461,
           -23.641000747680664,
           -24.66812515258789,
           -25.368749618530273,
           -25.52050018310547,
           -26.029499053955078,
           -25.75200080871582,
           -25.274999618530273,
           -24.728750228881836,
           -23.872249603271484,
           -23.03037452697754,
           -22.202749252319336,
           -21.6096248626709,
           -21.428874969482422,
           -21.856250762939453,
           -22.43837547302246,
           -23.027875900268555,
           -23.829999923706055,
           -24.70400047302246,
           -25.49537467956543,
           -25.836124420166016,
           -25.914125442504883,
           -25.621000289916992,
           -25.15850067138672,
           -24.375
          ],
          [
           -24.00225067138672,
           -21.71987533569336,
           -19.441499710083008,
           -17.738500595092773,
           -17.1512508392334,
           -16.623249053955078,
           -17.490625381469727,
           -18.92562484741211,
           -21.165124893188477,
           -23.26187515258789,
           -25.370874404907227,
           -26.963125228881836,
           -28.017749786376953,
           -27.958749771118164,
           -27.224124908447266,
           -25.569124221801758,
           -23.391374588012695,
           -21.144500732421875,
           -19.056625366210938,
           -17.641124725341797,
           -16.650625228881836,
           -17.013124465942383,
           -18.10712432861328,
           -19.602375030517578,
           -21.84837532043457,
           -24.127750396728516,
           -25.979249954223633,
           -27.37262535095215,
           -28.00987434387207,
           -27.669124603271484,
           -26.647499084472656,
           -25.038875579833984
          ],
          [
           -23.867000579833984,
           -24.475374221801758,
           -24.948875427246094,
           -25.630874633789062,
           -26.012374877929688,
           -26.426124572753906,
           -26.643625259399414,
           -26.49187469482422,
           -26.28700065612793,
           -25.717124938964844,
           -25.332500457763672,
           -24.6091251373291,
           -24.105749130249023,
           -23.52174949645996,
           -23.650249481201172,
           -23.746999740600586,
           -24.088499069213867,
           -24.601625442504883,
           -25.286375045776367,
           -25.7081241607666,
           -26.01937484741211,
           -26.596250534057617,
           -26.580875396728516,
           -26.51787567138672,
           -25.958999633789062,
           -25.610624313354492,
           -24.970874786376953,
           -24.64299964904785,
           -23.977750778198242,
           -23.895000457763672,
           -23.782499313354492,
           -23.71725082397461
          ],
          [
           -24.096874237060547,
           -25.01412582397461,
           -26.38949966430664,
           -27.534250259399414,
           -28.19099998474121,
           -28.607250213623047,
           -28.539499282836914,
           -27.83824920654297,
           -27.006999969482422,
           -25.862625122070312,
           -24.780000686645508,
           -23.548124313354492,
           -22.97512435913086,
           -22.436500549316406,
           -22.632625579833984,
           -23.525875091552734,
           -24.421749114990234,
           -25.546875,
           -26.75950050354004,
           -27.67937469482422,
           -28.405250549316406,
           -28.707250595092773,
           -28.40887451171875,
           -27.611249923706055,
           -26.731124877929688,
           -25.44012451171875,
           -24.137874603271484,
           -23.220874786376953,
           -22.677499771118164,
           -22.157249450683594,
           -22.935625076293945,
           -23.422374725341797
          ],
          [
           -23.820999145507812,
           -24.615249633789062,
           -25.075000762939453,
           -24.748374938964844,
           -24.057125091552734,
           -22.930374145507812,
           -21.99712562561035,
           -20.683374404907227,
           -19.857500076293945,
           -19.179624557495117,
           -19.006750106811523,
           -19.22425079345703,
           -19.878999710083008,
           -21.16200065612793,
           -22.109874725341797,
           -23.181249618530273,
           -24.41200065612793,
           -24.776750564575195,
           -25.021499633789062,
           -24.7033748626709,
           -24.02549934387207,
           -23.07237434387207,
           -21.495874404907227,
           -20.278125762939453,
           -19.566625595092773,
           -19.03737449645996,
           -18.887374877929688,
           -19.560375213623047,
           -20.110624313354492,
           -21.222875595092773,
           -22.530500411987305,
           -23.626375198364258
          ],
          [
           -23.958250045776367,
           -21.733999252319336,
           -19.692874908447266,
           -17.51762580871582,
           -16.18975067138672,
           -15.76187515258789,
           -16.084875106811523,
           -17.410749435424805,
           -19.32587432861328,
           -21.432374954223633,
           -23.598249435424805,
           -25.63912582397461,
           -26.851499557495117,
           -27.358875274658203,
           -26.779499053955078,
           -25.32612419128418,
           -23.13224983215332,
           -21.288875579833984,
           -18.79462432861328,
           -16.96875,
           -15.8881254196167,
           -15.746000289916992,
           -16.491249084472656,
           -17.97487449645996,
           -19.78387451171875,
           -22.504249572753906,
           -24.472749710083008,
           -26.202999114990234,
           -27.045499801635742,
           -27.200124740600586,
           -26.456499099731445,
           -24.9064998626709
          ],
          [
           -23.86574935913086,
           -23.518125534057617,
           -23.643625259399414,
           -23.768625259399414,
           -24.254375457763672,
           -24.87849998474121,
           -25.694250106811523,
           -26.46387481689453,
           -27.180374145507812,
           -27.544124603271484,
           -27.383874893188477,
           -27.10474967956543,
           -26.908124923706055,
           -25.9528751373291,
           -25.210874557495117,
           -24.54974937438965,
           -24.022499084472656,
           -23.59087562561035,
           -23.686500549316406,
           -24.015125274658203,
           -24.35387420654297,
           -25.239625930786133,
           -25.97825050354004,
           -26.7606258392334,
           -27.252750396728516,
           -27.665624618530273,
           -27.53325080871582,
           -27.05175018310547,
           -26.288875579833984,
           -25.76074981689453,
           -25.038124084472656,
           -23.993125915527344
          ],
          [
           -23.93600082397461,
           -26.047624588012695,
           -28.137250900268555,
           -30.086624145507812,
           -31.447874069213867,
           -32.02949905395508,
           -31.787500381469727,
           -30.804874420166016,
           -29.052125930786133,
           -27.026874542236328,
           -24.654125213623047,
           -22.982749938964844,
           -21.63050079345703,
           -21.12849998474121,
           -21.890125274658203,
           -22.851499557495117,
           -24.31137466430664,
           -26.676374435424805,
           -28.69562530517578,
           -30.51012420654297,
           -31.58737564086914,
           -31.858375549316406,
           -31.540124893188477,
           -30.31049919128418,
           -28.400625228881836,
           -26.26787567138672,
           -24.266250610351562,
           -22.50237464904785,
           -21.503625869750977,
           -21.540250778198242,
           -22.144874572753906,
           -23.291624069213867
          ],
          [
           -24.050874710083008,
           -24.979124069213867,
           -25.506750106811523,
           -25.476749420166016,
           -24.795249938964844,
           -23.906749725341797,
           -22.558624267578125,
           -21.38837432861328,
           -19.761999130249023,
           -19.07699966430664,
           -18.618999481201172,
           -18.714874267578125,
           -19.401874542236328,
           -20.401750564575195,
           -21.82200050354004,
           -23.11162567138672,
           -23.869749069213867,
           -25.09025001525879,
           -25.47162437438965,
           -25.124500274658203,
           -24.6247501373291,
           -23.149499893188477,
           -22.41925048828125,
           -21.015750885009766,
           -19.660375595092773,
           -18.889875411987305,
           -18.510250091552734,
           -18.843624114990234,
           -19.798500061035156,
           -20.858625411987305,
           -22.158124923706055,
           -23.435749053955078
          ],
          [
           -24.22800064086914,
           -21.3908748626709,
           -18.328750610351562,
           -15.876375198364258,
           -14.220375061035156,
           -13.591124534606934,
           -14.010000228881836,
           -15.409250259399414,
           -17.677749633789062,
           -20.552125930786133,
           -23.68112564086914,
           -25.95224952697754,
           -27.554624557495117,
           -28.058624267578125,
           -27.412250518798828,
           -25.614625930786133,
           -23.21987533569336,
           -20.308624267578125,
           -17.53612518310547,
           -15.034625053405762,
           -13.94112491607666,
           -13.51550006866455,
           -14.38224983215332,
           -16.011249542236328,
           -18.9737491607666,
           -21.821500778198242,
           -24.584625244140625,
           -26.562000274658203,
           -27.895374298095703,
           -27.952499389648438,
           -27.076000213623047,
           -25.168750762939453
          ],
          [
           -24.147375106811523,
           -24.153125762939453,
           -24.236125946044922,
           -24.303499221801758,
           -24.12012481689453,
           -23.88112449645996,
           -24.015125274658203,
           -23.65250015258789,
           -23.250999450683594,
           -23.266250610351562,
           -23.195749282836914,
           -23.2137508392334,
           -23.211875915527344,
           -23.360750198364258,
           -23.671875,
           -23.829500198364258,
           -24.036624908447266,
           -24.212749481201172,
           -24.254749298095703,
           -24.133249282836914,
           -24.045000076293945,
           -23.954750061035156,
           -23.75237464904785,
           -23.807125091552734,
           -23.56887435913086,
           -23.421125411987305,
           -23.078250885009766,
           -23.566875457763672,
           -23.41087532043457,
           -23.658750534057617,
           -23.773250579833984,
           -24.06049919128418
          ],
          [
           -24.146875381469727,
           -26.70924949645996,
           -29.158000946044922,
           -31.012624740600586,
           -31.930124282836914,
           -31.865875244140625,
           -30.655500411987305,
           -28.629499435424805,
           -26.003250122070312,
           -23.282499313354492,
           -21.260374069213867,
           -19.453624725341797,
           -18.68862533569336,
           -18.728124618530273,
           -20.226625442504883,
           -22.176250457763672,
           -24.85099983215332,
           -27.43025016784668,
           -29.67275047302246,
           -31.34462547302246,
           -31.95862579345703,
           -31.572999954223633,
           -30.14812469482422,
           -28.118499755859375,
           -25.552000045776367,
           -22.535625457763672,
           -20.54887580871582,
           -19.061500549316406,
           -18.45425033569336,
           -19.06475067138672,
           -20.70574951171875,
           -22.769750595092773
          ],
          [
           -24.08362579345703,
           -23.65912437438965,
           -23.29537582397461,
           -22.92762565612793,
           -22.663249969482422,
           -22.479124069213867,
           -22.587499618530273,
           -22.873374938964844,
           -23.210874557495117,
           -23.696125030517578,
           -23.837499618530273,
           -24.384374618530273,
           -24.496999740600586,
           -24.687000274658203,
           -24.43112564086914,
           -24.363624572753906,
           -23.95537567138672,
           -23.676374435424805,
           -23.176250457763672,
           -22.854999542236328,
           -22.690500259399414,
           -22.32724952697754,
           -22.507875442504883,
           -22.908750534057617,
           -23.271499633789062,
           -23.65887451171875,
           -23.9841251373291,
           -24.428874969482422,
           -24.363500595092773,
           -24.616125106811523,
           -24.47949981689453,
           -24.184375762939453
          ],
          [
           -24.006500244140625,
           -21.29599952697754,
           -18.95549964904785,
           -16.84225082397461,
           -15.768625259399414,
           -15.87399959564209,
           -16.842500686645508,
           -18.869625091552734,
           -20.760499954223633,
           -23.745250701904297,
           -26.180500030517578,
           -28.151500701904297,
           -29.107500076293945,
           -28.819374084472656,
           -27.736000061035156,
           -25.862749099731445,
           -23.16987419128418,
           -20.56800079345703,
           -18.246875762939453,
           -16.680875778198242,
           -15.854874610900879,
           -16.312625885009766,
           -17.47337532043457,
           -19.418750762939453,
           -21.961124420166016,
           -24.72337532043457,
           -26.94587516784668,
           -28.51300048828125,
           -28.997499465942383,
           -28.47624969482422,
           -27.25812530517578,
           -24.98812484741211
          ],
          [
           -24.103500366210938,
           -24.925249099731445,
           -25.5471248626709,
           -25.676374435424805,
           -25.5206241607666,
           -25.006750106811523,
           -23.765249252319336,
           -22.636749267578125,
           -21.973249435424805,
           -20.7081241607666,
           -20.18987464904785,
           -20.064624786376953,
           -20.264249801635742,
           -21.121999740600586,
           -21.947250366210938,
           -23.20687484741211,
           -24.452499389648438,
           -25.278749465942383,
           -25.797500610351562,
           -25.829999923706055,
           -25.292749404907227,
           -24.695375442504883,
           -23.8596248626709,
           -22.60099983215332,
           -21.389999389648438,
           -20.69124984741211,
           -20.174625396728516,
           -20.20687484741211,
           -20.357250213623047,
           -21.26824951171875,
           -22.31162452697754,
           -23.555124282836914
          ],
          [
           -23.98674964904785,
           -26.006874084472656,
           -27.333375930786133,
           -28.20800018310547,
           -28.169750213623047,
           -27.273374557495117,
           -25.672250747680664,
           -23.46762466430664,
           -21.255874633789062,
           -19.581125259399414,
           -17.962749481201172,
           -17.477624893188477,
           -17.556249618530273,
           -18.660999298095703,
           -20.467750549316406,
           -22.59287452697754,
           -24.54974937438965,
           -26.47862434387207,
           -27.76849937438965,
           -28.411874771118164,
           -27.914749145507812,
           -26.826749801635742,
           -24.957624435424805,
           -23.104625701904297,
           -20.65537452697754,
           -18.895124435424805,
           -17.72887420654297,
           -17.477375030517578,
           -17.915250778198242,
           -19.408374786376953,
           -21.032249450683594,
           -23.15737533569336
          ],
          [
           -24.062999725341797,
           -22.950624465942383,
           -21.819499969482422,
           -21.21787452697754,
           -21.152374267578125,
           -21.61949920654297,
           -22.454124450683594,
           -23.61574935913086,
           -24.684125900268555,
           -26.100250244140625,
           -26.773250579833984,
           -27.305625915527344,
           -27.258249282836914,
           -26.88075065612793,
           -26.074125289916992,
           -24.986249923706055,
           -23.692750930786133,
           -22.423124313354492,
           -21.75349998474121,
           -21.43287467956543,
           -21.436750411987305,
           -22.054624557495117,
           -22.777999877929688,
           -23.89900016784668,
           -25.16087532043457,
           -26.104249954223633,
           -27.213125228881836,
           -27.2918758392334,
           -27.421125411987305,
           -26.633874893188477,
           -25.73662567138672,
           -24.564125061035156
          ],
          [
           -23.915000915527344,
           -23.106374740600586,
           -22.665874481201172,
           -22.63512420654297,
           -23.0887508392334,
           -23.66699981689453,
           -24.671875,
           -25.877750396728516,
           -26.843250274658203,
           -27.43375015258789,
           -27.828624725341797,
           -27.913000106811523,
           -27.406375885009766,
           -26.714500427246094,
           -25.74449920654297,
           -24.56712532043457,
           -23.752500534057617,
           -23.031625747680664,
           -22.688125610351562,
           -22.753875732421875,
           -23.090124130249023,
           -23.957374572753906,
           -25.292875289916992,
           -26.171125411987305,
           -27.129499435424805,
           -27.592124938964844,
           -27.824874877929688,
           -27.88112449645996,
           -27.316499710083008,
           -26.429250717163086,
           -25.613874435424805,
           -24.607500076293945
          ],
          [
           -24.068500518798828,
           -25.17937469482422,
           -26.31362533569336,
           -27.22487449645996,
           -27.772624969482422,
           -27.940000534057617,
           -27.480375289916992,
           -26.681249618530273,
           -25.64812469482422,
           -24.599750518798828,
           -23.545499801635742,
           -22.41237449645996,
           -21.966249465942383,
           -22.063749313354492,
           -22.40337562561035,
           -23.031625747680664,
           -24.406625747680664,
           -25.511125564575195,
           -26.54775047302246,
           -27.493000030517578,
           -27.925125122070312,
           -27.944875717163086,
           -27.332374572753906,
           -26.590625762939453,
           -25.4375,
           -24.19762420654297,
           -23.090124130249023,
           -22.34137535095215,
           -21.992000579833984,
           -22.017749786376953,
           -22.751874923706055,
           -23.66087532043457
          ],
          [
           -23.89987564086914,
           -24.381500244140625,
           -25.156375885009766,
           -25.323625564575195,
           -24.78274917602539,
           -24.140750885009766,
           -23.40825080871582,
           -22.544124603271484,
           -21.694000244140625,
           -21.046499252319336,
           -20.744749069213867,
           -20.7706241607666,
           -21.154375076293945,
           -21.697124481201172,
           -22.64349937438965,
           -23.357250213623047,
           -24.185375213623047,
           -24.802125930786133,
           -25.092750549316406,
           -25.060625076293945,
           -24.71525001525879,
           -24.016624450683594,
           -23.347999572753906,
           -22.392000198364258,
           -21.430749893188477,
           -21.043249130249023,
           -20.640625,
           -20.87237548828125,
           -21.418624877929688,
           -21.871374130249023,
           -22.979875564575195,
           -23.525625228881836
          ],
          [
           -24.077625274658203,
           -22.901500701904297,
           -21.920499801635742,
           -21.816375732421875,
           -21.854625701904297,
           -22.92300033569336,
           -23.75,
           -24.90850067138672,
           -26.03325080871582,
           -27.202499389648438,
           -27.922500610351562,
           -28.27137565612793,
           -27.9268741607666,
           -27.01325035095215,
           -26.02512550354004,
           -24.587749481201172,
           -23.593624114990234,
           -22.719249725341797,
           -22.026124954223633,
           -21.800125122070312,
           -22.254499435424805,
           -23.099374771118164,
           -24.083250045776367,
           -25.065250396728516,
           -26.47949981689453,
           -27.459875106811523,
           -27.903125762939453,
           -28.148250579833984,
           -27.722124099731445,
           -27.001874923706055,
           -25.663124084472656,
           -24.522499084472656
          ],
          [
           -24.098875045776367,
           -24.583375930786133,
           -25.451749801635742,
           -26.92562484741211,
           -28.28700065612793,
           -29.680625915527344,
           -30.72162437438965,
           -31.390750885009766,
           -31.26362419128418,
           -30.752750396728516,
           -29.670875549316406,
           -28.303874969482422,
           -26.89437484741211,
           -25.358375549316406,
           -24.680625915527344,
           -24.021875381469727,
           -24.057125091552734,
           -24.510875701904297,
           -25.953624725341797,
           -27.379125595092773,
           -28.834875106811523,
           -30.095375061035156,
           -30.9528751373291,
           -31.334875106811523,
           -31.161375045776367,
           -30.390249252319336,
           -29.265750885009766,
           -27.874374389648438,
           -26.51412582397461,
           -25.203500747680664,
           -24.211624145507812,
           -24.01337432861328
          ],
          [
           -23.996000289916992,
           -24.70775032043457,
           -25.984750747680664,
           -27.342500686645508,
           -28.557249069213867,
           -29.68462562561035,
           -30.634374618530273,
           -30.942249298095703,
           -30.62299919128418,
           -29.978750228881836,
           -28.739999771118164,
           -27.435874938964844,
           -26.024375915527344,
           -24.83762550354004,
           -24.085500717163086,
           -23.88137435913086,
           -24.059125900268555,
           -24.901500701904297,
           -26.508249282836914,
           -27.540624618530273,
           -28.83762550354004,
           -30.113750457763672,
           -30.732624053955078,
           -30.964000701904297,
           -30.57237434387207,
           -29.525249481201172,
           -28.344749450683594,
           -27.012374877929688,
           -25.641250610351562,
           -24.544374465942383,
           -23.94499969482422,
           -23.836750030517578
          ],
          [
           -23.89812469482422,
           -24.601999282836914,
           -25.308124542236328,
           -25.80175018310547,
           -26.18662452697754,
           -26.1043758392334,
           -25.90387535095215,
           -25.32324981689453,
           -24.762374877929688,
           -24.120874404907227,
           -23.464874267578125,
           -23.0622501373291,
           -22.81162452697754,
           -22.672874450683594,
           -23.03499984741211,
           -23.5778751373291,
           -24.373750686645508,
           -24.771249771118164,
           -25.420249938964844,
           -25.90999984741211,
           -26.16925048828125,
           -26.029874801635742,
           -25.721500396728516,
           -25.179750442504883,
           -24.31974983215332,
           -23.648374557495117,
           -23.345375061035156,
           -23.043750762939453,
           -22.319875717163086,
           -22.563125610351562,
           -23.082374572753906,
           -23.6408748626709
          ]
         ]
        },
        {
         "hovertemplate": "x: %{x}<br>y: %{y}<br> z: %{text:.2f}<extra></extra>",
         "marker": {
          "color": "red",
          "line": {
           "width": 1
          },
          "size": 16,
          "symbol": [
           204
          ]
         },
         "mode": "markers",
         "text": [
          "-32.02949905395508"
         ],
         "type": "scatter",
         "x": [
          0.5
         ],
         "y": [
          1.5
         ]
        }
       ],
       "layout": {
        "height": 700,
        "template": {
         "data": {
          "bar": [
           {
            "error_x": {
             "color": "#2a3f5f"
            },
            "error_y": {
             "color": "#2a3f5f"
            },
            "marker": {
             "line": {
              "color": "#E5ECF6",
              "width": 0.5
             },
             "pattern": {
              "fillmode": "overlay",
              "size": 10,
              "solidity": 0.2
             }
            },
            "type": "bar"
           }
          ],
          "barpolar": [
           {
            "marker": {
             "line": {
              "color": "#E5ECF6",
              "width": 0.5
             },
             "pattern": {
              "fillmode": "overlay",
              "size": 10,
              "solidity": 0.2
             }
            },
            "type": "barpolar"
           }
          ],
          "carpet": [
           {
            "aaxis": {
             "endlinecolor": "#2a3f5f",
             "gridcolor": "white",
             "linecolor": "white",
             "minorgridcolor": "white",
             "startlinecolor": "#2a3f5f"
            },
            "baxis": {
             "endlinecolor": "#2a3f5f",
             "gridcolor": "white",
             "linecolor": "white",
             "minorgridcolor": "white",
             "startlinecolor": "#2a3f5f"
            },
            "type": "carpet"
           }
          ],
          "choropleth": [
           {
            "colorbar": {
             "outlinewidth": 0,
             "ticks": ""
            },
            "type": "choropleth"
           }
          ],
          "contour": [
           {
            "colorbar": {
             "outlinewidth": 0,
             "ticks": ""
            },
            "colorscale": [
             [
              0,
              "#0d0887"
             ],
             [
              0.1111111111111111,
              "#46039f"
             ],
             [
              0.2222222222222222,
              "#7201a8"
             ],
             [
              0.3333333333333333,
              "#9c179e"
             ],
             [
              0.4444444444444444,
              "#bd3786"
             ],
             [
              0.5555555555555556,
              "#d8576b"
             ],
             [
              0.6666666666666666,
              "#ed7953"
             ],
             [
              0.7777777777777778,
              "#fb9f3a"
             ],
             [
              0.8888888888888888,
              "#fdca26"
             ],
             [
              1,
              "#f0f921"
             ]
            ],
            "type": "contour"
           }
          ],
          "contourcarpet": [
           {
            "colorbar": {
             "outlinewidth": 0,
             "ticks": ""
            },
            "type": "contourcarpet"
           }
          ],
          "heatmap": [
           {
            "colorbar": {
             "outlinewidth": 0,
             "ticks": ""
            },
            "colorscale": [
             [
              0,
              "#0d0887"
             ],
             [
              0.1111111111111111,
              "#46039f"
             ],
             [
              0.2222222222222222,
              "#7201a8"
             ],
             [
              0.3333333333333333,
              "#9c179e"
             ],
             [
              0.4444444444444444,
              "#bd3786"
             ],
             [
              0.5555555555555556,
              "#d8576b"
             ],
             [
              0.6666666666666666,
              "#ed7953"
             ],
             [
              0.7777777777777778,
              "#fb9f3a"
             ],
             [
              0.8888888888888888,
              "#fdca26"
             ],
             [
              1,
              "#f0f921"
             ]
            ],
            "type": "heatmap"
           }
          ],
          "heatmapgl": [
           {
            "colorbar": {
             "outlinewidth": 0,
             "ticks": ""
            },
            "colorscale": [
             [
              0,
              "#0d0887"
             ],
             [
              0.1111111111111111,
              "#46039f"
             ],
             [
              0.2222222222222222,
              "#7201a8"
             ],
             [
              0.3333333333333333,
              "#9c179e"
             ],
             [
              0.4444444444444444,
              "#bd3786"
             ],
             [
              0.5555555555555556,
              "#d8576b"
             ],
             [
              0.6666666666666666,
              "#ed7953"
             ],
             [
              0.7777777777777778,
              "#fb9f3a"
             ],
             [
              0.8888888888888888,
              "#fdca26"
             ],
             [
              1,
              "#f0f921"
             ]
            ],
            "type": "heatmapgl"
           }
          ],
          "histogram": [
           {
            "marker": {
             "pattern": {
              "fillmode": "overlay",
              "size": 10,
              "solidity": 0.2
             }
            },
            "type": "histogram"
           }
          ],
          "histogram2d": [
           {
            "colorbar": {
             "outlinewidth": 0,
             "ticks": ""
            },
            "colorscale": [
             [
              0,
              "#0d0887"
             ],
             [
              0.1111111111111111,
              "#46039f"
             ],
             [
              0.2222222222222222,
              "#7201a8"
             ],
             [
              0.3333333333333333,
              "#9c179e"
             ],
             [
              0.4444444444444444,
              "#bd3786"
             ],
             [
              0.5555555555555556,
              "#d8576b"
             ],
             [
              0.6666666666666666,
              "#ed7953"
             ],
             [
              0.7777777777777778,
              "#fb9f3a"
             ],
             [
              0.8888888888888888,
              "#fdca26"
             ],
             [
              1,
              "#f0f921"
             ]
            ],
            "type": "histogram2d"
           }
          ],
          "histogram2dcontour": [
           {
            "colorbar": {
             "outlinewidth": 0,
             "ticks": ""
            },
            "colorscale": [
             [
              0,
              "#0d0887"
             ],
             [
              0.1111111111111111,
              "#46039f"
             ],
             [
              0.2222222222222222,
              "#7201a8"
             ],
             [
              0.3333333333333333,
              "#9c179e"
             ],
             [
              0.4444444444444444,
              "#bd3786"
             ],
             [
              0.5555555555555556,
              "#d8576b"
             ],
             [
              0.6666666666666666,
              "#ed7953"
             ],
             [
              0.7777777777777778,
              "#fb9f3a"
             ],
             [
              0.8888888888888888,
              "#fdca26"
             ],
             [
              1,
              "#f0f921"
             ]
            ],
            "type": "histogram2dcontour"
           }
          ],
          "mesh3d": [
           {
            "colorbar": {
             "outlinewidth": 0,
             "ticks": ""
            },
            "type": "mesh3d"
           }
          ],
          "parcoords": [
           {
            "line": {
             "colorbar": {
              "outlinewidth": 0,
              "ticks": ""
             }
            },
            "type": "parcoords"
           }
          ],
          "pie": [
           {
            "automargin": true,
            "type": "pie"
           }
          ],
          "scatter": [
           {
            "marker": {
             "colorbar": {
              "outlinewidth": 0,
              "ticks": ""
             }
            },
            "type": "scatter"
           }
          ],
          "scatter3d": [
           {
            "line": {
             "colorbar": {
              "outlinewidth": 0,
              "ticks": ""
             }
            },
            "marker": {
             "colorbar": {
              "outlinewidth": 0,
              "ticks": ""
             }
            },
            "type": "scatter3d"
           }
          ],
          "scattercarpet": [
           {
            "marker": {
             "colorbar": {
              "outlinewidth": 0,
              "ticks": ""
             }
            },
            "type": "scattercarpet"
           }
          ],
          "scattergeo": [
           {
            "marker": {
             "colorbar": {
              "outlinewidth": 0,
              "ticks": ""
             }
            },
            "type": "scattergeo"
           }
          ],
          "scattergl": [
           {
            "marker": {
             "colorbar": {
              "outlinewidth": 0,
              "ticks": ""
             }
            },
            "type": "scattergl"
           }
          ],
          "scattermapbox": [
           {
            "marker": {
             "colorbar": {
              "outlinewidth": 0,
              "ticks": ""
             }
            },
            "type": "scattermapbox"
           }
          ],
          "scatterpolar": [
           {
            "marker": {
             "colorbar": {
              "outlinewidth": 0,
              "ticks": ""
             }
            },
            "type": "scatterpolar"
           }
          ],
          "scatterpolargl": [
           {
            "marker": {
             "colorbar": {
              "outlinewidth": 0,
              "ticks": ""
             }
            },
            "type": "scatterpolargl"
           }
          ],
          "scatterternary": [
           {
            "marker": {
             "colorbar": {
              "outlinewidth": 0,
              "ticks": ""
             }
            },
            "type": "scatterternary"
           }
          ],
          "surface": [
           {
            "colorbar": {
             "outlinewidth": 0,
             "ticks": ""
            },
            "colorscale": [
             [
              0,
              "#0d0887"
             ],
             [
              0.1111111111111111,
              "#46039f"
             ],
             [
              0.2222222222222222,
              "#7201a8"
             ],
             [
              0.3333333333333333,
              "#9c179e"
             ],
             [
              0.4444444444444444,
              "#bd3786"
             ],
             [
              0.5555555555555556,
              "#d8576b"
             ],
             [
              0.6666666666666666,
              "#ed7953"
             ],
             [
              0.7777777777777778,
              "#fb9f3a"
             ],
             [
              0.8888888888888888,
              "#fdca26"
             ],
             [
              1,
              "#f0f921"
             ]
            ],
            "type": "surface"
           }
          ],
          "table": [
           {
            "cells": {
             "fill": {
              "color": "#EBF0F8"
             },
             "line": {
              "color": "white"
             }
            },
            "header": {
             "fill": {
              "color": "#C8D4E3"
             },
             "line": {
              "color": "white"
             }
            },
            "type": "table"
           }
          ]
         },
         "layout": {
          "annotationdefaults": {
           "arrowcolor": "#2a3f5f",
           "arrowhead": 0,
           "arrowwidth": 1
          },
          "autotypenumbers": "strict",
          "coloraxis": {
           "colorbar": {
            "outlinewidth": 0,
            "ticks": ""
           }
          },
          "colorscale": {
           "diverging": [
            [
             0,
             "#8e0152"
            ],
            [
             0.1,
             "#c51b7d"
            ],
            [
             0.2,
             "#de77ae"
            ],
            [
             0.3,
             "#f1b6da"
            ],
            [
             0.4,
             "#fde0ef"
            ],
            [
             0.5,
             "#f7f7f7"
            ],
            [
             0.6,
             "#e6f5d0"
            ],
            [
             0.7,
             "#b8e186"
            ],
            [
             0.8,
             "#7fbc41"
            ],
            [
             0.9,
             "#4d9221"
            ],
            [
             1,
             "#276419"
            ]
           ],
           "sequential": [
            [
             0,
             "#0d0887"
            ],
            [
             0.1111111111111111,
             "#46039f"
            ],
            [
             0.2222222222222222,
             "#7201a8"
            ],
            [
             0.3333333333333333,
             "#9c179e"
            ],
            [
             0.4444444444444444,
             "#bd3786"
            ],
            [
             0.5555555555555556,
             "#d8576b"
            ],
            [
             0.6666666666666666,
             "#ed7953"
            ],
            [
             0.7777777777777778,
             "#fb9f3a"
            ],
            [
             0.8888888888888888,
             "#fdca26"
            ],
            [
             1,
             "#f0f921"
            ]
           ],
           "sequentialminus": [
            [
             0,
             "#0d0887"
            ],
            [
             0.1111111111111111,
             "#46039f"
            ],
            [
             0.2222222222222222,
             "#7201a8"
            ],
            [
             0.3333333333333333,
             "#9c179e"
            ],
            [
             0.4444444444444444,
             "#bd3786"
            ],
            [
             0.5555555555555556,
             "#d8576b"
            ],
            [
             0.6666666666666666,
             "#ed7953"
            ],
            [
             0.7777777777777778,
             "#fb9f3a"
            ],
            [
             0.8888888888888888,
             "#fdca26"
            ],
            [
             1,
             "#f0f921"
            ]
           ]
          },
          "colorway": [
           "#636efa",
           "#EF553B",
           "#00cc96",
           "#ab63fa",
           "#FFA15A",
           "#19d3f3",
           "#FF6692",
           "#B6E880",
           "#FF97FF",
           "#FECB52"
          ],
          "font": {
           "color": "#2a3f5f"
          },
          "geo": {
           "bgcolor": "white",
           "lakecolor": "white",
           "landcolor": "#E5ECF6",
           "showlakes": true,
           "showland": true,
           "subunitcolor": "white"
          },
          "hoverlabel": {
           "align": "left"
          },
          "hovermode": "closest",
          "mapbox": {
           "style": "light"
          },
          "paper_bgcolor": "white",
          "plot_bgcolor": "#E5ECF6",
          "polar": {
           "angularaxis": {
            "gridcolor": "white",
            "linecolor": "white",
            "ticks": ""
           },
           "bgcolor": "#E5ECF6",
           "radialaxis": {
            "gridcolor": "white",
            "linecolor": "white",
            "ticks": ""
           }
          },
          "scene": {
           "xaxis": {
            "backgroundcolor": "#E5ECF6",
            "gridcolor": "white",
            "gridwidth": 2,
            "linecolor": "white",
            "showbackground": true,
            "ticks": "",
            "zerolinecolor": "white"
           },
           "yaxis": {
            "backgroundcolor": "#E5ECF6",
            "gridcolor": "white",
            "gridwidth": 2,
            "linecolor": "white",
            "showbackground": true,
            "ticks": "",
            "zerolinecolor": "white"
           },
           "zaxis": {
            "backgroundcolor": "#E5ECF6",
            "gridcolor": "white",
            "gridwidth": 2,
            "linecolor": "white",
            "showbackground": true,
            "ticks": "",
            "zerolinecolor": "white"
           }
          },
          "shapedefaults": {
           "line": {
            "color": "#2a3f5f"
           }
          },
          "ternary": {
           "aaxis": {
            "gridcolor": "white",
            "linecolor": "white",
            "ticks": ""
           },
           "baxis": {
            "gridcolor": "white",
            "linecolor": "white",
            "ticks": ""
           },
           "bgcolor": "#E5ECF6",
           "caxis": {
            "gridcolor": "white",
            "linecolor": "white",
            "ticks": ""
           }
          },
          "title": {
           "x": 0.05
          },
          "xaxis": {
           "automargin": true,
           "gridcolor": "white",
           "linecolor": "white",
           "ticks": "",
           "title": {
            "standoff": 15
           },
           "zerolinecolor": "white",
           "zerolinewidth": 2
          },
          "yaxis": {
           "automargin": true,
           "gridcolor": "white",
           "linecolor": "white",
           "ticks": "",
           "title": {
            "standoff": 15
           },
           "zerolinecolor": "white",
           "zerolinewidth": 2
          }
         }
        },
        "title": {
         "text": "QAOA MaxCut"
        },
        "width": 700,
        "xaxis": {
         "title": {
          "text": "gamma"
         }
        },
        "yaxis": {
         "title": {
          "text": "beta"
         }
        }
       }
      },
      "text/html": [
       "<div>                            <div id=\"4e18e65d-85f6-40e6-ba5f-f042d09f9a59\" class=\"plotly-graph-div\" style=\"height:700px; width:700px;\"></div>            <script type=\"text/javascript\">                require([\"plotly\"], function(Plotly) {                    window.PLOTLYENV=window.PLOTLYENV || {};                                    if (document.getElementById(\"4e18e65d-85f6-40e6-ba5f-f042d09f9a59\")) {                    Plotly.newPlot(                        \"4e18e65d-85f6-40e6-ba5f-f042d09f9a59\",                        [{\"colorscale\":[[0.0,\"#440154\"],[0.1111111111111111,\"#482878\"],[0.2222222222222222,\"#3e4989\"],[0.3333333333333333,\"#31688e\"],[0.4444444444444444,\"#26828e\"],[0.5555555555555556,\"#1f9e89\"],[0.6666666666666666,\"#35b779\"],[0.7777777777777778,\"#6ece58\"],[0.8888888888888888,\"#b5de2b\"],[1.0,\"#fde725\"]],\"type\":\"heatmap\",\"x\":[0.0,0.1,0.2,0.30000000000000004,0.4,0.5,0.6000000000000001,0.7000000000000001,0.8,0.9,1.0,1.1,1.2000000000000002,1.3,1.4000000000000001,1.5,1.6,1.7000000000000002,1.8,1.9000000000000001,2.0,2.1,2.2,2.3000000000000003,2.4000000000000004,2.5,2.6,2.7,2.8000000000000003,2.9000000000000004,3.0,3.1],\"y\":[0.0,0.1,0.2,0.30000000000000004,0.4,0.5,0.6000000000000001,0.7000000000000001,0.8,0.9,1.0,1.1,1.2000000000000002,1.3,1.4000000000000001,1.5,1.6,1.7000000000000002,1.8,1.9000000000000001,2.0,2.1,2.2,2.3000000000000003,2.4000000000000004,2.5,2.6,2.7,2.8000000000000003,2.9000000000000004,3.0,3.1],\"z\":[[-23.96637535095215,-23.958499908447266,-24.00349998474121,-23.919374465942383,-24.065874099731445,-23.962499618530273,-23.983875274658203,-23.769874572753906,-23.957624435424805,-24.066499710083008,-24.129125595092773,-24.07925033569336,-24.017749786376953,-23.785125732421875,-24.086000442504883,-23.95462417602539,-24.08562469482422,-23.915250778198242,-24.078250885009766,-24.108749389648438,-23.914749145507812,-24.165624618530273,-24.093374252319336,-24.13337516784668,-23.746374130249023,-23.78737449645996,-24.047500610351562,-23.732624053955078,-24.00287437438965,-24.088624954223633,-24.116249084472656,-23.898624420166016],[-23.99275016784668,-19.798625946044922,-15.515999794006348,-11.6381254196167,-9.259625434875488,-8.522375106811523,-9.714500427246094,-12.438249588012695,-16.161500930786133,-20.514875411987305,-24.862375259399414,-28.43637466430664,-30.511499404907227,-31.044124603271484,-29.430500030517578,-26.690874099731445,-22.78362464904785,-18.263874053955078,-14.065625190734863,-10.7162504196167,-8.807374954223633,-8.78499984741211,-10.3931245803833,-13.4375,-17.544374465942383,-21.68025016784668,-25.971250534057617,-29.110374450683594,-30.859874725341797,-30.797500610351562,-28.855249404907227,-25.64900016784668],[-23.957124710083008,-24.177249908447266,-23.458999633789062,-22.420875549316406,-20.64787483215332,-19.034624099731445,-17.66175079345703,-16.35449981689453,-15.78862476348877,-15.646124839782715,-16.375,-17.651500701904297,-19.227375030517578,-20.823375701904297,-22.426000595092773,-23.47887420654297,-24.064374923706055,-23.953125,-23.026750564575195,-22.007999420166016,-20.292375564575195,-18.7918758392334,-17.381624221801758,-15.895000457763672,-15.727874755859375,-15.758625030517578,-16.681499481201172,-18.051250457763672,-19.78737449645996,-21.472000122070312,-22.7606258392334,-23.790374755859375],[-23.85212516784668,-26.578500747680664,-28.393749237060547,-29.011375427246094,-28.245874404907227,-26.61425018310547,-23.894500732421875,-20.636749267578125,-17.53125,-15.288999557495117,-13.673125267028809,-13.265999794006348,-14.1274995803833,-16.075000762939453,-18.848875045776367,-21.671749114990234,-24.95400047302246,-27.36549949645996,-28.578125,-28.874624252319336,-27.951875686645508,-25.8278751373291,-23.04599952697754,-19.730125427246094,-17.086000442504883,-14.597749710083008,-13.402874946594238,-13.244375228881836,-14.57800006866455,-16.826000213623047,-19.618499755859375,-22.745500564575195],[-23.993249893188477,-22.86025047302246,-21.975374221801758,-21.106624603271484,-21.352874755859375,-21.796249389648438,-22.364999771118164,-23.710750579833984,-25.02287483215332,-26.044374465942383,-26.921875,-27.36512565612793,-27.313749313354492,-27.084999084472656,-25.922374725341797,-24.817625045776367,-23.68287467956543,-22.473249435424805,-21.73637580871582,-21.398374557495117,-21.363000869750977,-21.7293758392334,-22.756250381469727,-24.128374099731445,-25.32175064086914,-26.412750244140625,-26.891374588012695,-27.526124954223633,-27.583250045776367,-26.76912498474121,-25.746749877929688,-24.365249633789062],[-24.19675064086914,-20.55237579345703,-17.37037467956543,-14.612125396728516,-12.834124565124512,-12.522125244140625,-13.43287467956543,-15.736249923706055,-18.78762435913086,-22.16950035095215,-25.37412452697754,-27.899124145507812,-29.578500747680664,-29.770875930786133,-28.30412483215332,-26.136375427246094,-22.8231258392334,-19.48550033569336,-16.46875,-13.893500328063965,-12.518375396728516,-12.6899995803833,-13.944624900817871,-16.620250701904297,-19.680625915527344,-23.11662483215332,-26.069499969482422,-28.641374588012695,-29.579500198364258,-29.406999588012695,-27.814125061035156,-25.34575080871582],[-23.83187484741211,-24.93025016784668,-25.366374969482422,-25.412250518798828,-24.824249267578125,-24.043624877929688,-22.947999954223633,-21.527624130249023,-20.683500289916992,-20.073375701904297,-19.586624145507812,-19.646625518798828,-20.158374786376953,-20.94325065612793,-21.93462562561035,-23.04599952697754,-24.31362533569336,-25.064125061035156,-25.28874969482422,-25.38512420654297,-24.618749618530273,-23.801250457763672,-22.566749572753906,-21.45224952697754,-20.456375122070312,-19.726125717163086,-19.582624435424805,-19.477375030517578,-20.316999435424805,-21.30412483215332,-22.470375061035156,-23.84724998474121],[-23.934249877929688,-25.135000228881836,-25.868999481201172,-26.454875946044922,-26.4221248626709,-26.024749755859375,-25.014375686645508,-24.106624603271484,-22.9846248626709,-21.731124877929688,-21.038875579833984,-20.75200080871582,-20.867250442504883,-21.2606258392334,-22.122875213623047,-23.216875076293945,-24.48724937438965,-25.378625869750977,-26.30962562561035,-26.46299934387207,-26.274250030517578,-25.883625030517578,-24.88825035095215,-23.72825050354004,-22.464500427246094,-21.476375579833984,-21.019624710083008,-20.75237464904785,-20.81974983215332,-21.43662452697754,-22.289499282836914,-23.50550079345703],[-23.967124938964844,-23.066375732421875,-22.521875381469727,-21.77287483215332,-21.53737449645996,-21.666500091552734,-22.06362533569336,-22.63912582397461,-23.641000747680664,-24.66812515258789,-25.368749618530273,-25.52050018310547,-26.029499053955078,-25.75200080871582,-25.274999618530273,-24.728750228881836,-23.872249603271484,-23.03037452697754,-22.202749252319336,-21.6096248626709,-21.428874969482422,-21.856250762939453,-22.43837547302246,-23.027875900268555,-23.829999923706055,-24.70400047302246,-25.49537467956543,-25.836124420166016,-25.914125442504883,-25.621000289916992,-25.15850067138672,-24.375],[-24.00225067138672,-21.71987533569336,-19.441499710083008,-17.738500595092773,-17.1512508392334,-16.623249053955078,-17.490625381469727,-18.92562484741211,-21.165124893188477,-23.26187515258789,-25.370874404907227,-26.963125228881836,-28.017749786376953,-27.958749771118164,-27.224124908447266,-25.569124221801758,-23.391374588012695,-21.144500732421875,-19.056625366210938,-17.641124725341797,-16.650625228881836,-17.013124465942383,-18.10712432861328,-19.602375030517578,-21.84837532043457,-24.127750396728516,-25.979249954223633,-27.37262535095215,-28.00987434387207,-27.669124603271484,-26.647499084472656,-25.038875579833984],[-23.867000579833984,-24.475374221801758,-24.948875427246094,-25.630874633789062,-26.012374877929688,-26.426124572753906,-26.643625259399414,-26.49187469482422,-26.28700065612793,-25.717124938964844,-25.332500457763672,-24.6091251373291,-24.105749130249023,-23.52174949645996,-23.650249481201172,-23.746999740600586,-24.088499069213867,-24.601625442504883,-25.286375045776367,-25.7081241607666,-26.01937484741211,-26.596250534057617,-26.580875396728516,-26.51787567138672,-25.958999633789062,-25.610624313354492,-24.970874786376953,-24.64299964904785,-23.977750778198242,-23.895000457763672,-23.782499313354492,-23.71725082397461],[-24.096874237060547,-25.01412582397461,-26.38949966430664,-27.534250259399414,-28.19099998474121,-28.607250213623047,-28.539499282836914,-27.83824920654297,-27.006999969482422,-25.862625122070312,-24.780000686645508,-23.548124313354492,-22.97512435913086,-22.436500549316406,-22.632625579833984,-23.525875091552734,-24.421749114990234,-25.546875,-26.75950050354004,-27.67937469482422,-28.405250549316406,-28.707250595092773,-28.40887451171875,-27.611249923706055,-26.731124877929688,-25.44012451171875,-24.137874603271484,-23.220874786376953,-22.677499771118164,-22.157249450683594,-22.935625076293945,-23.422374725341797],[-23.820999145507812,-24.615249633789062,-25.075000762939453,-24.748374938964844,-24.057125091552734,-22.930374145507812,-21.99712562561035,-20.683374404907227,-19.857500076293945,-19.179624557495117,-19.006750106811523,-19.22425079345703,-19.878999710083008,-21.16200065612793,-22.109874725341797,-23.181249618530273,-24.41200065612793,-24.776750564575195,-25.021499633789062,-24.7033748626709,-24.02549934387207,-23.07237434387207,-21.495874404907227,-20.278125762939453,-19.566625595092773,-19.03737449645996,-18.887374877929688,-19.560375213623047,-20.110624313354492,-21.222875595092773,-22.530500411987305,-23.626375198364258],[-23.958250045776367,-21.733999252319336,-19.692874908447266,-17.51762580871582,-16.18975067138672,-15.76187515258789,-16.084875106811523,-17.410749435424805,-19.32587432861328,-21.432374954223633,-23.598249435424805,-25.63912582397461,-26.851499557495117,-27.358875274658203,-26.779499053955078,-25.32612419128418,-23.13224983215332,-21.288875579833984,-18.79462432861328,-16.96875,-15.8881254196167,-15.746000289916992,-16.491249084472656,-17.97487449645996,-19.78387451171875,-22.504249572753906,-24.472749710083008,-26.202999114990234,-27.045499801635742,-27.200124740600586,-26.456499099731445,-24.9064998626709],[-23.86574935913086,-23.518125534057617,-23.643625259399414,-23.768625259399414,-24.254375457763672,-24.87849998474121,-25.694250106811523,-26.46387481689453,-27.180374145507812,-27.544124603271484,-27.383874893188477,-27.10474967956543,-26.908124923706055,-25.9528751373291,-25.210874557495117,-24.54974937438965,-24.022499084472656,-23.59087562561035,-23.686500549316406,-24.015125274658203,-24.35387420654297,-25.239625930786133,-25.97825050354004,-26.7606258392334,-27.252750396728516,-27.665624618530273,-27.53325080871582,-27.05175018310547,-26.288875579833984,-25.76074981689453,-25.038124084472656,-23.993125915527344],[-23.93600082397461,-26.047624588012695,-28.137250900268555,-30.086624145507812,-31.447874069213867,-32.02949905395508,-31.787500381469727,-30.804874420166016,-29.052125930786133,-27.026874542236328,-24.654125213623047,-22.982749938964844,-21.63050079345703,-21.12849998474121,-21.890125274658203,-22.851499557495117,-24.31137466430664,-26.676374435424805,-28.69562530517578,-30.51012420654297,-31.58737564086914,-31.858375549316406,-31.540124893188477,-30.31049919128418,-28.400625228881836,-26.26787567138672,-24.266250610351562,-22.50237464904785,-21.503625869750977,-21.540250778198242,-22.144874572753906,-23.291624069213867],[-24.050874710083008,-24.979124069213867,-25.506750106811523,-25.476749420166016,-24.795249938964844,-23.906749725341797,-22.558624267578125,-21.38837432861328,-19.761999130249023,-19.07699966430664,-18.618999481201172,-18.714874267578125,-19.401874542236328,-20.401750564575195,-21.82200050354004,-23.11162567138672,-23.869749069213867,-25.09025001525879,-25.47162437438965,-25.124500274658203,-24.6247501373291,-23.149499893188477,-22.41925048828125,-21.015750885009766,-19.660375595092773,-18.889875411987305,-18.510250091552734,-18.843624114990234,-19.798500061035156,-20.858625411987305,-22.158124923706055,-23.435749053955078],[-24.22800064086914,-21.3908748626709,-18.328750610351562,-15.876375198364258,-14.220375061035156,-13.591124534606934,-14.010000228881836,-15.409250259399414,-17.677749633789062,-20.552125930786133,-23.68112564086914,-25.95224952697754,-27.554624557495117,-28.058624267578125,-27.412250518798828,-25.614625930786133,-23.21987533569336,-20.308624267578125,-17.53612518310547,-15.034625053405762,-13.94112491607666,-13.51550006866455,-14.38224983215332,-16.011249542236328,-18.9737491607666,-21.821500778198242,-24.584625244140625,-26.562000274658203,-27.895374298095703,-27.952499389648438,-27.076000213623047,-25.168750762939453],[-24.147375106811523,-24.153125762939453,-24.236125946044922,-24.303499221801758,-24.12012481689453,-23.88112449645996,-24.015125274658203,-23.65250015258789,-23.250999450683594,-23.266250610351562,-23.195749282836914,-23.2137508392334,-23.211875915527344,-23.360750198364258,-23.671875,-23.829500198364258,-24.036624908447266,-24.212749481201172,-24.254749298095703,-24.133249282836914,-24.045000076293945,-23.954750061035156,-23.75237464904785,-23.807125091552734,-23.56887435913086,-23.421125411987305,-23.078250885009766,-23.566875457763672,-23.41087532043457,-23.658750534057617,-23.773250579833984,-24.06049919128418],[-24.146875381469727,-26.70924949645996,-29.158000946044922,-31.012624740600586,-31.930124282836914,-31.865875244140625,-30.655500411987305,-28.629499435424805,-26.003250122070312,-23.282499313354492,-21.260374069213867,-19.453624725341797,-18.68862533569336,-18.728124618530273,-20.226625442504883,-22.176250457763672,-24.85099983215332,-27.43025016784668,-29.67275047302246,-31.34462547302246,-31.95862579345703,-31.572999954223633,-30.14812469482422,-28.118499755859375,-25.552000045776367,-22.535625457763672,-20.54887580871582,-19.061500549316406,-18.45425033569336,-19.06475067138672,-20.70574951171875,-22.769750595092773],[-24.08362579345703,-23.65912437438965,-23.29537582397461,-22.92762565612793,-22.663249969482422,-22.479124069213867,-22.587499618530273,-22.873374938964844,-23.210874557495117,-23.696125030517578,-23.837499618530273,-24.384374618530273,-24.496999740600586,-24.687000274658203,-24.43112564086914,-24.363624572753906,-23.95537567138672,-23.676374435424805,-23.176250457763672,-22.854999542236328,-22.690500259399414,-22.32724952697754,-22.507875442504883,-22.908750534057617,-23.271499633789062,-23.65887451171875,-23.9841251373291,-24.428874969482422,-24.363500595092773,-24.616125106811523,-24.47949981689453,-24.184375762939453],[-24.006500244140625,-21.29599952697754,-18.95549964904785,-16.84225082397461,-15.768625259399414,-15.87399959564209,-16.842500686645508,-18.869625091552734,-20.760499954223633,-23.745250701904297,-26.180500030517578,-28.151500701904297,-29.107500076293945,-28.819374084472656,-27.736000061035156,-25.862749099731445,-23.16987419128418,-20.56800079345703,-18.246875762939453,-16.680875778198242,-15.854874610900879,-16.312625885009766,-17.47337532043457,-19.418750762939453,-21.961124420166016,-24.72337532043457,-26.94587516784668,-28.51300048828125,-28.997499465942383,-28.47624969482422,-27.25812530517578,-24.98812484741211],[-24.103500366210938,-24.925249099731445,-25.5471248626709,-25.676374435424805,-25.5206241607666,-25.006750106811523,-23.765249252319336,-22.636749267578125,-21.973249435424805,-20.7081241607666,-20.18987464904785,-20.064624786376953,-20.264249801635742,-21.121999740600586,-21.947250366210938,-23.20687484741211,-24.452499389648438,-25.278749465942383,-25.797500610351562,-25.829999923706055,-25.292749404907227,-24.695375442504883,-23.8596248626709,-22.60099983215332,-21.389999389648438,-20.69124984741211,-20.174625396728516,-20.20687484741211,-20.357250213623047,-21.26824951171875,-22.31162452697754,-23.555124282836914],[-23.98674964904785,-26.006874084472656,-27.333375930786133,-28.20800018310547,-28.169750213623047,-27.273374557495117,-25.672250747680664,-23.46762466430664,-21.255874633789062,-19.581125259399414,-17.962749481201172,-17.477624893188477,-17.556249618530273,-18.660999298095703,-20.467750549316406,-22.59287452697754,-24.54974937438965,-26.47862434387207,-27.76849937438965,-28.411874771118164,-27.914749145507812,-26.826749801635742,-24.957624435424805,-23.104625701904297,-20.65537452697754,-18.895124435424805,-17.72887420654297,-17.477375030517578,-17.915250778198242,-19.408374786376953,-21.032249450683594,-23.15737533569336],[-24.062999725341797,-22.950624465942383,-21.819499969482422,-21.21787452697754,-21.152374267578125,-21.61949920654297,-22.454124450683594,-23.61574935913086,-24.684125900268555,-26.100250244140625,-26.773250579833984,-27.305625915527344,-27.258249282836914,-26.88075065612793,-26.074125289916992,-24.986249923706055,-23.692750930786133,-22.423124313354492,-21.75349998474121,-21.43287467956543,-21.436750411987305,-22.054624557495117,-22.777999877929688,-23.89900016784668,-25.16087532043457,-26.104249954223633,-27.213125228881836,-27.2918758392334,-27.421125411987305,-26.633874893188477,-25.73662567138672,-24.564125061035156],[-23.915000915527344,-23.106374740600586,-22.665874481201172,-22.63512420654297,-23.0887508392334,-23.66699981689453,-24.671875,-25.877750396728516,-26.843250274658203,-27.43375015258789,-27.828624725341797,-27.913000106811523,-27.406375885009766,-26.714500427246094,-25.74449920654297,-24.56712532043457,-23.752500534057617,-23.031625747680664,-22.688125610351562,-22.753875732421875,-23.090124130249023,-23.957374572753906,-25.292875289916992,-26.171125411987305,-27.129499435424805,-27.592124938964844,-27.824874877929688,-27.88112449645996,-27.316499710083008,-26.429250717163086,-25.613874435424805,-24.607500076293945],[-24.068500518798828,-25.17937469482422,-26.31362533569336,-27.22487449645996,-27.772624969482422,-27.940000534057617,-27.480375289916992,-26.681249618530273,-25.64812469482422,-24.599750518798828,-23.545499801635742,-22.41237449645996,-21.966249465942383,-22.063749313354492,-22.40337562561035,-23.031625747680664,-24.406625747680664,-25.511125564575195,-26.54775047302246,-27.493000030517578,-27.925125122070312,-27.944875717163086,-27.332374572753906,-26.590625762939453,-25.4375,-24.19762420654297,-23.090124130249023,-22.34137535095215,-21.992000579833984,-22.017749786376953,-22.751874923706055,-23.66087532043457],[-23.89987564086914,-24.381500244140625,-25.156375885009766,-25.323625564575195,-24.78274917602539,-24.140750885009766,-23.40825080871582,-22.544124603271484,-21.694000244140625,-21.046499252319336,-20.744749069213867,-20.7706241607666,-21.154375076293945,-21.697124481201172,-22.64349937438965,-23.357250213623047,-24.185375213623047,-24.802125930786133,-25.092750549316406,-25.060625076293945,-24.71525001525879,-24.016624450683594,-23.347999572753906,-22.392000198364258,-21.430749893188477,-21.043249130249023,-20.640625,-20.87237548828125,-21.418624877929688,-21.871374130249023,-22.979875564575195,-23.525625228881836],[-24.077625274658203,-22.901500701904297,-21.920499801635742,-21.816375732421875,-21.854625701904297,-22.92300033569336,-23.75,-24.90850067138672,-26.03325080871582,-27.202499389648438,-27.922500610351562,-28.27137565612793,-27.9268741607666,-27.01325035095215,-26.02512550354004,-24.587749481201172,-23.593624114990234,-22.719249725341797,-22.026124954223633,-21.800125122070312,-22.254499435424805,-23.099374771118164,-24.083250045776367,-25.065250396728516,-26.47949981689453,-27.459875106811523,-27.903125762939453,-28.148250579833984,-27.722124099731445,-27.001874923706055,-25.663124084472656,-24.522499084472656],[-24.098875045776367,-24.583375930786133,-25.451749801635742,-26.92562484741211,-28.28700065612793,-29.680625915527344,-30.72162437438965,-31.390750885009766,-31.26362419128418,-30.752750396728516,-29.670875549316406,-28.303874969482422,-26.89437484741211,-25.358375549316406,-24.680625915527344,-24.021875381469727,-24.057125091552734,-24.510875701904297,-25.953624725341797,-27.379125595092773,-28.834875106811523,-30.095375061035156,-30.9528751373291,-31.334875106811523,-31.161375045776367,-30.390249252319336,-29.265750885009766,-27.874374389648438,-26.51412582397461,-25.203500747680664,-24.211624145507812,-24.01337432861328],[-23.996000289916992,-24.70775032043457,-25.984750747680664,-27.342500686645508,-28.557249069213867,-29.68462562561035,-30.634374618530273,-30.942249298095703,-30.62299919128418,-29.978750228881836,-28.739999771118164,-27.435874938964844,-26.024375915527344,-24.83762550354004,-24.085500717163086,-23.88137435913086,-24.059125900268555,-24.901500701904297,-26.508249282836914,-27.540624618530273,-28.83762550354004,-30.113750457763672,-30.732624053955078,-30.964000701904297,-30.57237434387207,-29.525249481201172,-28.344749450683594,-27.012374877929688,-25.641250610351562,-24.544374465942383,-23.94499969482422,-23.836750030517578],[-23.89812469482422,-24.601999282836914,-25.308124542236328,-25.80175018310547,-26.18662452697754,-26.1043758392334,-25.90387535095215,-25.32324981689453,-24.762374877929688,-24.120874404907227,-23.464874267578125,-23.0622501373291,-22.81162452697754,-22.672874450683594,-23.03499984741211,-23.5778751373291,-24.373750686645508,-24.771249771118164,-25.420249938964844,-25.90999984741211,-26.16925048828125,-26.029874801635742,-25.721500396728516,-25.179750442504883,-24.31974983215332,-23.648374557495117,-23.345375061035156,-23.043750762939453,-22.319875717163086,-22.563125610351562,-23.082374572753906,-23.6408748626709]]},{\"hovertemplate\":\"x: %{x}<br>y: %{y}<br> z: %{text:.2f}<extra></extra>\",\"marker\":{\"color\":\"red\",\"line\":{\"width\":1},\"size\":16,\"symbol\":[204]},\"mode\":\"markers\",\"text\":[\"-32.02949905395508\"],\"type\":\"scatter\",\"x\":[0.5],\"y\":[1.5]}],                        {\"height\":700,\"template\":{\"data\":{\"bar\":[{\"error_x\":{\"color\":\"#2a3f5f\"},\"error_y\":{\"color\":\"#2a3f5f\"},\"marker\":{\"line\":{\"color\":\"#E5ECF6\",\"width\":0.5},\"pattern\":{\"fillmode\":\"overlay\",\"size\":10,\"solidity\":0.2}},\"type\":\"bar\"}],\"barpolar\":[{\"marker\":{\"line\":{\"color\":\"#E5ECF6\",\"width\":0.5},\"pattern\":{\"fillmode\":\"overlay\",\"size\":10,\"solidity\":0.2}},\"type\":\"barpolar\"}],\"carpet\":[{\"aaxis\":{\"endlinecolor\":\"#2a3f5f\",\"gridcolor\":\"white\",\"linecolor\":\"white\",\"minorgridcolor\":\"white\",\"startlinecolor\":\"#2a3f5f\"},\"baxis\":{\"endlinecolor\":\"#2a3f5f\",\"gridcolor\":\"white\",\"linecolor\":\"white\",\"minorgridcolor\":\"white\",\"startlinecolor\":\"#2a3f5f\"},\"type\":\"carpet\"}],\"choropleth\":[{\"colorbar\":{\"outlinewidth\":0,\"ticks\":\"\"},\"type\":\"choropleth\"}],\"contour\":[{\"colorbar\":{\"outlinewidth\":0,\"ticks\":\"\"},\"colorscale\":[[0.0,\"#0d0887\"],[0.1111111111111111,\"#46039f\"],[0.2222222222222222,\"#7201a8\"],[0.3333333333333333,\"#9c179e\"],[0.4444444444444444,\"#bd3786\"],[0.5555555555555556,\"#d8576b\"],[0.6666666666666666,\"#ed7953\"],[0.7777777777777778,\"#fb9f3a\"],[0.8888888888888888,\"#fdca26\"],[1.0,\"#f0f921\"]],\"type\":\"contour\"}],\"contourcarpet\":[{\"colorbar\":{\"outlinewidth\":0,\"ticks\":\"\"},\"type\":\"contourcarpet\"}],\"heatmap\":[{\"colorbar\":{\"outlinewidth\":0,\"ticks\":\"\"},\"colorscale\":[[0.0,\"#0d0887\"],[0.1111111111111111,\"#46039f\"],[0.2222222222222222,\"#7201a8\"],[0.3333333333333333,\"#9c179e\"],[0.4444444444444444,\"#bd3786\"],[0.5555555555555556,\"#d8576b\"],[0.6666666666666666,\"#ed7953\"],[0.7777777777777778,\"#fb9f3a\"],[0.8888888888888888,\"#fdca26\"],[1.0,\"#f0f921\"]],\"type\":\"heatmap\"}],\"heatmapgl\":[{\"colorbar\":{\"outlinewidth\":0,\"ticks\":\"\"},\"colorscale\":[[0.0,\"#0d0887\"],[0.1111111111111111,\"#46039f\"],[0.2222222222222222,\"#7201a8\"],[0.3333333333333333,\"#9c179e\"],[0.4444444444444444,\"#bd3786\"],[0.5555555555555556,\"#d8576b\"],[0.6666666666666666,\"#ed7953\"],[0.7777777777777778,\"#fb9f3a\"],[0.8888888888888888,\"#fdca26\"],[1.0,\"#f0f921\"]],\"type\":\"heatmapgl\"}],\"histogram\":[{\"marker\":{\"pattern\":{\"fillmode\":\"overlay\",\"size\":10,\"solidity\":0.2}},\"type\":\"histogram\"}],\"histogram2d\":[{\"colorbar\":{\"outlinewidth\":0,\"ticks\":\"\"},\"colorscale\":[[0.0,\"#0d0887\"],[0.1111111111111111,\"#46039f\"],[0.2222222222222222,\"#7201a8\"],[0.3333333333333333,\"#9c179e\"],[0.4444444444444444,\"#bd3786\"],[0.5555555555555556,\"#d8576b\"],[0.6666666666666666,\"#ed7953\"],[0.7777777777777778,\"#fb9f3a\"],[0.8888888888888888,\"#fdca26\"],[1.0,\"#f0f921\"]],\"type\":\"histogram2d\"}],\"histogram2dcontour\":[{\"colorbar\":{\"outlinewidth\":0,\"ticks\":\"\"},\"colorscale\":[[0.0,\"#0d0887\"],[0.1111111111111111,\"#46039f\"],[0.2222222222222222,\"#7201a8\"],[0.3333333333333333,\"#9c179e\"],[0.4444444444444444,\"#bd3786\"],[0.5555555555555556,\"#d8576b\"],[0.6666666666666666,\"#ed7953\"],[0.7777777777777778,\"#fb9f3a\"],[0.8888888888888888,\"#fdca26\"],[1.0,\"#f0f921\"]],\"type\":\"histogram2dcontour\"}],\"mesh3d\":[{\"colorbar\":{\"outlinewidth\":0,\"ticks\":\"\"},\"type\":\"mesh3d\"}],\"parcoords\":[{\"line\":{\"colorbar\":{\"outlinewidth\":0,\"ticks\":\"\"}},\"type\":\"parcoords\"}],\"pie\":[{\"automargin\":true,\"type\":\"pie\"}],\"scatter\":[{\"marker\":{\"colorbar\":{\"outlinewidth\":0,\"ticks\":\"\"}},\"type\":\"scatter\"}],\"scatter3d\":[{\"line\":{\"colorbar\":{\"outlinewidth\":0,\"ticks\":\"\"}},\"marker\":{\"colorbar\":{\"outlinewidth\":0,\"ticks\":\"\"}},\"type\":\"scatter3d\"}],\"scattercarpet\":[{\"marker\":{\"colorbar\":{\"outlinewidth\":0,\"ticks\":\"\"}},\"type\":\"scattercarpet\"}],\"scattergeo\":[{\"marker\":{\"colorbar\":{\"outlinewidth\":0,\"ticks\":\"\"}},\"type\":\"scattergeo\"}],\"scattergl\":[{\"marker\":{\"colorbar\":{\"outlinewidth\":0,\"ticks\":\"\"}},\"type\":\"scattergl\"}],\"scattermapbox\":[{\"marker\":{\"colorbar\":{\"outlinewidth\":0,\"ticks\":\"\"}},\"type\":\"scattermapbox\"}],\"scatterpolar\":[{\"marker\":{\"colorbar\":{\"outlinewidth\":0,\"ticks\":\"\"}},\"type\":\"scatterpolar\"}],\"scatterpolargl\":[{\"marker\":{\"colorbar\":{\"outlinewidth\":0,\"ticks\":\"\"}},\"type\":\"scatterpolargl\"}],\"scatterternary\":[{\"marker\":{\"colorbar\":{\"outlinewidth\":0,\"ticks\":\"\"}},\"type\":\"scatterternary\"}],\"surface\":[{\"colorbar\":{\"outlinewidth\":0,\"ticks\":\"\"},\"colorscale\":[[0.0,\"#0d0887\"],[0.1111111111111111,\"#46039f\"],[0.2222222222222222,\"#7201a8\"],[0.3333333333333333,\"#9c179e\"],[0.4444444444444444,\"#bd3786\"],[0.5555555555555556,\"#d8576b\"],[0.6666666666666666,\"#ed7953\"],[0.7777777777777778,\"#fb9f3a\"],[0.8888888888888888,\"#fdca26\"],[1.0,\"#f0f921\"]],\"type\":\"surface\"}],\"table\":[{\"cells\":{\"fill\":{\"color\":\"#EBF0F8\"},\"line\":{\"color\":\"white\"}},\"header\":{\"fill\":{\"color\":\"#C8D4E3\"},\"line\":{\"color\":\"white\"}},\"type\":\"table\"}]},\"layout\":{\"annotationdefaults\":{\"arrowcolor\":\"#2a3f5f\",\"arrowhead\":0,\"arrowwidth\":1},\"autotypenumbers\":\"strict\",\"coloraxis\":{\"colorbar\":{\"outlinewidth\":0,\"ticks\":\"\"}},\"colorscale\":{\"diverging\":[[0,\"#8e0152\"],[0.1,\"#c51b7d\"],[0.2,\"#de77ae\"],[0.3,\"#f1b6da\"],[0.4,\"#fde0ef\"],[0.5,\"#f7f7f7\"],[0.6,\"#e6f5d0\"],[0.7,\"#b8e186\"],[0.8,\"#7fbc41\"],[0.9,\"#4d9221\"],[1,\"#276419\"]],\"sequential\":[[0.0,\"#0d0887\"],[0.1111111111111111,\"#46039f\"],[0.2222222222222222,\"#7201a8\"],[0.3333333333333333,\"#9c179e\"],[0.4444444444444444,\"#bd3786\"],[0.5555555555555556,\"#d8576b\"],[0.6666666666666666,\"#ed7953\"],[0.7777777777777778,\"#fb9f3a\"],[0.8888888888888888,\"#fdca26\"],[1.0,\"#f0f921\"]],\"sequentialminus\":[[0.0,\"#0d0887\"],[0.1111111111111111,\"#46039f\"],[0.2222222222222222,\"#7201a8\"],[0.3333333333333333,\"#9c179e\"],[0.4444444444444444,\"#bd3786\"],[0.5555555555555556,\"#d8576b\"],[0.6666666666666666,\"#ed7953\"],[0.7777777777777778,\"#fb9f3a\"],[0.8888888888888888,\"#fdca26\"],[1.0,\"#f0f921\"]]},\"colorway\":[\"#636efa\",\"#EF553B\",\"#00cc96\",\"#ab63fa\",\"#FFA15A\",\"#19d3f3\",\"#FF6692\",\"#B6E880\",\"#FF97FF\",\"#FECB52\"],\"font\":{\"color\":\"#2a3f5f\"},\"geo\":{\"bgcolor\":\"white\",\"lakecolor\":\"white\",\"landcolor\":\"#E5ECF6\",\"showlakes\":true,\"showland\":true,\"subunitcolor\":\"white\"},\"hoverlabel\":{\"align\":\"left\"},\"hovermode\":\"closest\",\"mapbox\":{\"style\":\"light\"},\"paper_bgcolor\":\"white\",\"plot_bgcolor\":\"#E5ECF6\",\"polar\":{\"angularaxis\":{\"gridcolor\":\"white\",\"linecolor\":\"white\",\"ticks\":\"\"},\"bgcolor\":\"#E5ECF6\",\"radialaxis\":{\"gridcolor\":\"white\",\"linecolor\":\"white\",\"ticks\":\"\"}},\"scene\":{\"xaxis\":{\"backgroundcolor\":\"#E5ECF6\",\"gridcolor\":\"white\",\"gridwidth\":2,\"linecolor\":\"white\",\"showbackground\":true,\"ticks\":\"\",\"zerolinecolor\":\"white\"},\"yaxis\":{\"backgroundcolor\":\"#E5ECF6\",\"gridcolor\":\"white\",\"gridwidth\":2,\"linecolor\":\"white\",\"showbackground\":true,\"ticks\":\"\",\"zerolinecolor\":\"white\"},\"zaxis\":{\"backgroundcolor\":\"#E5ECF6\",\"gridcolor\":\"white\",\"gridwidth\":2,\"linecolor\":\"white\",\"showbackground\":true,\"ticks\":\"\",\"zerolinecolor\":\"white\"}},\"shapedefaults\":{\"line\":{\"color\":\"#2a3f5f\"}},\"ternary\":{\"aaxis\":{\"gridcolor\":\"white\",\"linecolor\":\"white\",\"ticks\":\"\"},\"baxis\":{\"gridcolor\":\"white\",\"linecolor\":\"white\",\"ticks\":\"\"},\"bgcolor\":\"#E5ECF6\",\"caxis\":{\"gridcolor\":\"white\",\"linecolor\":\"white\",\"ticks\":\"\"}},\"title\":{\"x\":0.05},\"xaxis\":{\"automargin\":true,\"gridcolor\":\"white\",\"linecolor\":\"white\",\"ticks\":\"\",\"title\":{\"standoff\":15},\"zerolinecolor\":\"white\",\"zerolinewidth\":2},\"yaxis\":{\"automargin\":true,\"gridcolor\":\"white\",\"linecolor\":\"white\",\"ticks\":\"\",\"title\":{\"standoff\":15},\"zerolinecolor\":\"white\",\"zerolinewidth\":2}}},\"title\":{\"text\":\"QAOA MaxCut\"},\"width\":700,\"xaxis\":{\"title\":{\"text\":\"gamma\"}},\"yaxis\":{\"title\":{\"text\":\"beta\"}}},                        {\"responsive\": true}                    ).then(function(){\n",
       "                            \n",
       "var gd = document.getElementById('4e18e65d-85f6-40e6-ba5f-f042d09f9a59');\n",
       "var x = new MutationObserver(function (mutations, observer) {{\n",
       "        var display = window.getComputedStyle(gd).display;\n",
       "        if (!display || display === 'none') {{\n",
       "            console.log([gd, 'removed!']);\n",
       "            Plotly.purge(gd);\n",
       "            observer.disconnect();\n",
       "        }}\n",
       "}});\n",
       "\n",
       "// Listen for the removal of the full notebook cells\n",
       "var notebookContainer = gd.closest('#notebook-container');\n",
       "if (notebookContainer) {{\n",
       "    x.observe(notebookContainer, {childList: true});\n",
       "}}\n",
       "\n",
       "// Listen for the clearing of the current output cell\n",
       "var outputEl = gd.closest('.output');\n",
       "if (outputEl) {{\n",
       "    x.observe(outputEl, {childList: true});\n",
       "}}\n",
       "\n",
       "                        })                };                });            </script>        </div>"
      ]
     },
     "metadata": {},
     "output_type": "display_data"
    }
   ],
   "source": [
    "# Plot Heatmap \n",
    "fig = go.Figure(data=go.Heatmap(z=landscape, y=b_beta, x=a_gamma, type = 'heatmap', colorscale = 'viridis'))\n",
    "\n",
    "# Update Layout\n",
    "fig.update_layout(title=\"QAOA MaxCut\", width=700, height=700, yaxis_title=\"beta\", xaxis_title=\"gamma\")\n",
    "\n",
    "# Display Global Minimium \n",
    "fig.add_trace(\n",
    "    go.Scatter(mode=\"markers\", y=[opt_beta], x=[opt_gamma], marker_symbol=[204], text = [landscape[beta,gamma]],\n",
    "                   marker_color=\"red\",  hovertemplate=\"x: %{x}<br>y: %{y}<br> z: %{text:.2f}<extra></extra>\", \n",
    "                   marker_line_width=1, marker_size=16))\n"
   ]
  },
  {
   "cell_type": "code",
   "execution_count": 44,
   "id": "3f4b2bc8",
   "metadata": {},
   "outputs": [],
   "source": [
    "quantum_instance = QuantumInstance(\n",
    "                    backend=Aer.get_backend(DEFAULT_QASM_SIMULATOR),\n",
    "                    shots=SHOTS\n",
    ")"
   ]
  },
  {
   "cell_type": "code",
   "execution_count": 18,
   "id": "1dcbb22e",
   "metadata": {},
   "outputs": [],
   "source": [
    "BACKEND_NAME = 'ibmq_toronto'\n",
    "provider = qiskit.IBMQ.get_provider(hub='ibm-q-unibw', group='hochschule-muc', project='masterarbeit')\n",
    "noise_backend = provider.get_backend(BACKEND_NAME)\n",
    "noise_model = NoiseModel.from_backend(noise_backend)\n",
    "coupling_map = noise_backend.configuration().coupling_map\n",
    "basis_gates = noise_model.basis_gates"
   ]
  },
  {
   "cell_type": "code",
   "execution_count": 25,
   "id": "19c6dfd6",
   "metadata": {},
   "outputs": [],
   "source": [
    "# Import measurement calibration functions\n",
    "from qiskit.ignis.mitigation.measurement import (complete_meas_cal, tensored_meas_cal,\n",
    "                                                 CompleteMeasFitter, TensoredMeasFitter)\n",
    "\n",
    "quantum_instance_noise = QuantumInstance(\n",
    "                backend=Aer.get_backend(DEFAULT_QASM_SIMULATOR),\n",
    "                shots=SHOTS,\n",
    "                noise_model=noise_model,\n",
    "                coupling_map=coupling_map,\n",
    "                basis_gates=basis_gates,\n",
    "                measurement_error_mitigation_cls=CompleteMeasFitter,\n",
    "                measurement_error_mitigation_shots=SHOTS\n",
    ")"
   ]
  },
  {
   "cell_type": "code",
   "execution_count": 100,
   "id": "7c03642c",
   "metadata": {},
   "outputs": [
    {
     "name": "stdout",
     "output_type": "stream",
     "text": [
      "Optimal Parameters: [ 3.8587726  -2.40686464]\n"
     ]
    }
   ],
   "source": [
    "qaoa = QAOA(optimizer=COBYLA(maxiter=0),\n",
    "            quantum_instance=quantum_instance,\n",
    "            reps=1,\n",
    "            #initial_point=[1.25, 0.05]\n",
    "           )\n",
    "\n",
    "algorithm = MinimumEigenOptimizer(qaoa)\n",
    "result = algorithm.solve(max_cut_qubo)\n",
    "optimal_parameters = qaoa.optimal_params\n",
    "print(f\"Optimal Parameters: {optimal_parameters}\")"
   ]
  },
  {
   "cell_type": "code",
   "execution_count": 101,
   "id": "b94b9cf8",
   "metadata": {
    "scrolled": false
   },
   "outputs": [
    {
     "name": "stdout",
     "output_type": "stream",
     "text": [
      "optimal function value: -35.0\n",
      "optimal value: [0. 1. 0. 1. 0.]\n",
      "status: SUCCESS\n",
      "Number of samples (32) is too large to display. Skip.\n",
      "Expectation Value: -25.466874999999995\n",
      "Highest Exp.Value: 0 with 0.008\n",
      "Lowest Exp.Value: -35 with 0.02875\n",
      "Highest Probability: -33 with 0.45112\n",
      "Ratio r: 0.7276249999999999\n",
      "MSE: 111.03402995793266\n",
      "RMSE: 10.537268619425655\n"
     ]
    },
    {
     "data": {
      "image/png": "[encoded data removed]",
      "text/plain": [
       "<Figure size 504x360 with 1 Axes>"
      ]
     },
     "metadata": {
      "needs_background": "light"
     },
     "output_type": "display_data"
    }
   ],
   "source": [
    "mean, distribution = max_cut.analyse(result, print_output=True)\n",
    "max_cut.plot_histogram(distribution, mean)"
   ]
  },
  {
   "cell_type": "markdown",
   "id": "55306323",
   "metadata": {},
   "source": [
    "## WarmStart"
   ]
  },
  {
   "cell_type": "code",
   "execution_count": 102,
   "id": "8e2da4d7",
   "metadata": {},
   "outputs": [],
   "source": [
    "from qiskit_optimization.algorithms import WarmStartQAOAOptimizer, CobylaOptimizer, MinimumEigenOptimizer, GroverOptimizer,  SlsqpOptimizer\n",
    "from shared.Mitiq_QAOA import *\n",
    "def run_qaoa_ws(epsilon=0.1, print_output=True):\n",
    "    qaoa = QAOA(optimizer=COBYLA(maxiter=0),\n",
    "                    quantum_instance=quantum_instance,\n",
    "                    reps=1,\n",
    "                    #initial_point=[1.25, 0.05]\n",
    "               )\n",
    "\n",
    "    ws_qaoa = WarmStartQAOAOptimizer(pre_solver=CobylaOptimizer(), relax_for_pre_solver=True, qaoa=qaoa, epsilon=epsilon)\n",
    "\n",
    "    result = ws_qaoa.solve(max_cut_qubo)\n",
    "    optimal_parameters = qaoa.optimal_params\n",
    "    mean, distribution = max_cut.analyse(result, print_output=print_output)\n",
    "    if print_output:\n",
    "        max_cut.plot_histogram(distribution, mean)\n",
    "    #print(f\"Optimal Parameters: {optimal_parameters % 3.14}\")\n",
    "    return mean"
   ]
  },
  {
   "cell_type": "code",
   "execution_count": 104,
   "id": "46270e48",
   "metadata": {},
   "outputs": [
    {
     "name": "stdout",
     "output_type": "stream",
     "text": [
      "optimal function value: -34.0\n",
      "optimal value: [1. 1. 0. 0. 0.]\n",
      "status: SUCCESS\n",
      "10000: value: -15.000, probability: 0.0%\n",
      "11011: value: -16.000, probability: 0.0%\n",
      "01000: value: -19.000, probability: 0.7%\n",
      "11100: value: -32.000, probability: 0.6%\n",
      "11010: value: -32.000, probability: 0.6%\n",
      "11001: value: -32.000, probability: 0.5%\n",
      "11000: value: -34.000, probability: 97.5%\n",
      "Expectation Value: -33.857\n",
      "Highest Exp.Value: -15 with 0.00025\n",
      "Lowest Exp.Value: -34 with 0.9755\n",
      "Highest Probability: -34 with 0.9755\n",
      "Ratio r: 0.9924736842105263\n",
      "MSE: 179.73164899999998\n",
      "RMSE: 13.406403283505982\n"
     ]
    },
    {
     "data": {
      "text/plain": [
       "-33.857"
      ]
     },
     "execution_count": 104,
     "metadata": {},
     "output_type": "execute_result"
    },
    {
     "data": {
      "image/png": "[encoded data removed]",
      "text/plain": [
       "<Figure size 504x360 with 1 Axes>"
      ]
     },
     "metadata": {
      "needs_background": "light"
     },
     "output_type": "display_data"
    }
   ],
   "source": [
    "run_qaoa_ws(0.002)"
   ]
  },
  {
   "cell_type": "code",
   "execution_count": 93,
   "id": "095390d0",
   "metadata": {},
   "outputs": [],
   "source": [
    "means = []\n",
    "eps = []\n",
    "for e in range(50,-1, -1):\n",
    "    epsi = e*0.01\n",
    "    eps.append(epsi)\n",
    "    means.append( run_qaoa_ws(epsi, False) )\n",
    "#means"
   ]
  },
  {
   "cell_type": "code",
   "execution_count": 94,
   "id": "f3f92b72",
   "metadata": {},
   "outputs": [
    {
     "data": {
      "image/png": "[encoded data removed]",
      "text/plain": [
       "<Figure size 432x288 with 1 Axes>"
      ]
     },
     "metadata": {
      "needs_background": "light"
     },
     "output_type": "display_data"
    }
   ],
   "source": [
    "import matplotlib.pyplot as plt\n",
    "plt.plot(eps, means)\n",
    "plt.xlabel('epsilon')\n",
    "plt.ylabel('expectation value')\n",
    "plt.show()"
   ]
  },
  {
   "cell_type": "code",
   "execution_count": 412,
   "id": "dabc6873",
   "metadata": {},
   "outputs": [],
   "source": [
    "from qiskit_optimization.algorithms import WarmStartQAOAOptimizer, CobylaOptimizer, MinimumEigenOptimizer, SlsqpOptimizer\n",
    "from shared.Mitiq_QAOA import *\n",
    "def run_qaoa_ws_mitiq(epsilon=0.1, print_output=True):\n",
    "    \n",
    "    \n",
    "        # generate QAOA to get circuit\n",
    "    pre_qaoa = QAOA(optimizer=COBYLA(maxiter=0), quantum_instance=quantum_instance_noise, reps=1, initial_point=[opt_gamma, opt_beta])\n",
    "    MinimumEigenOptimizer(pre_qaoa).solve(max_cut_qubo)\n",
    "\n",
    "    circuit = pre_qaoa.get_optimal_circuit()\n",
    "    circuit.measure_all()\n",
    "    \n",
    "    qaoa = Mitiq_QAOA(\n",
    "                    mitiq_circuit=circuit.copy(),\n",
    "                    optimizer=COBYLA(maxiter=5),\n",
    "                    quantum_instance=quantum_instance_noise,\n",
    "                    reps=1,\n",
    "                    initial_point=[opt_gamma, opt_beta]\n",
    "               )\n",
    "\n",
    "    #ws_qaoa = WarmStartQAOAOptimizer(pre_solver=CobylaOptimizer(), relax_for_pre_solver=True, qaoa=qaoa, epsilon=epsilon)\n",
    "    #result = ws_qaoa.solve(max_cut_qubo)\n",
    "    \n",
    "    algorithm = MinimumEigenOptimizer(qaoa)\n",
    "    result = algorithm.solve(max_cut_qubo)\n",
    "    \n",
    "    optimal_parameters = qaoa.optimal_params\n",
    "    mean, distribution = max_cut.analyse(result, print_output=print_output)\n",
    "    if print_output:\n",
    "        max_cut.plot_histogram(distribution, mean)\n",
    "    #print(f\"Optimal Parameters: {optimal_parameters % 3.14}\")\n",
    "    return mean"
   ]
  },
  {
   "cell_type": "code",
   "execution_count": 413,
   "id": "38e446ae",
   "metadata": {},
   "outputs": [
    {
     "name": "stderr",
     "output_type": "stream",
     "text": [
      "capi_return is NULL\n",
      "Call-back cb_calcfc_in__cobyla__user__routines failed.\n"
     ]
    },
    {
     "ename": "KeyboardInterrupt",
     "evalue": "",
     "output_type": "error",
     "traceback": [
      "\u001b[0;31m---------------------------------------------------------------------------\u001b[0m",
      "\u001b[0;31mKeyboardInterrupt\u001b[0m                         Traceback (most recent call last)",
      "\u001b[0;32m/tmp/ipykernel_3492422/512142893.py\u001b[0m in \u001b[0;36m<module>\u001b[0;34m\u001b[0m\n\u001b[0;32m----> 1\u001b[0;31m \u001b[0mrun_qaoa_ws_mitiq\u001b[0m\u001b[0;34m(\u001b[0m\u001b[0;36m0.02\u001b[0m\u001b[0;34m)\u001b[0m\u001b[0;34m\u001b[0m\u001b[0;34m\u001b[0m\u001b[0m\n\u001b[0m",
      "\u001b[0;32m/tmp/ipykernel_3492422/3007844668.py\u001b[0m in \u001b[0;36mrun_qaoa_ws_mitiq\u001b[0;34m(epsilon, print_output)\u001b[0m\n\u001b[1;32m     23\u001b[0m \u001b[0;34m\u001b[0m\u001b[0m\n\u001b[1;32m     24\u001b[0m     \u001b[0malgorithm\u001b[0m \u001b[0;34m=\u001b[0m \u001b[0mMinimumEigenOptimizer\u001b[0m\u001b[0;34m(\u001b[0m\u001b[0mqaoa\u001b[0m\u001b[0;34m)\u001b[0m\u001b[0;34m\u001b[0m\u001b[0;34m\u001b[0m\u001b[0m\n\u001b[0;32m---> 25\u001b[0;31m     \u001b[0mresult\u001b[0m \u001b[0;34m=\u001b[0m \u001b[0malgorithm\u001b[0m\u001b[0;34m.\u001b[0m\u001b[0msolve\u001b[0m\u001b[0;34m(\u001b[0m\u001b[0mmax_cut_qubo\u001b[0m\u001b[0;34m)\u001b[0m\u001b[0;34m\u001b[0m\u001b[0;34m\u001b[0m\u001b[0m\n\u001b[0m\u001b[1;32m     26\u001b[0m \u001b[0;34m\u001b[0m\u001b[0m\n\u001b[1;32m     27\u001b[0m     \u001b[0moptimal_parameters\u001b[0m \u001b[0;34m=\u001b[0m \u001b[0mqaoa\u001b[0m\u001b[0;34m.\u001b[0m\u001b[0moptimal_params\u001b[0m\u001b[0;34m\u001b[0m\u001b[0;34m\u001b[0m\u001b[0m\n",
      "\u001b[0;32m~/.local/lib/python3.8/site-packages/qiskit_optimization/algorithms/minimum_eigen_optimizer.py\u001b[0m in \u001b[0;36msolve\u001b[0;34m(self, problem)\u001b[0m\n\u001b[1;32m    195\u001b[0m         \u001b[0moperator\u001b[0m\u001b[0;34m,\u001b[0m \u001b[0moffset\u001b[0m \u001b[0;34m=\u001b[0m \u001b[0mproblem_\u001b[0m\u001b[0;34m.\u001b[0m\u001b[0mto_ising\u001b[0m\u001b[0;34m(\u001b[0m\u001b[0;34m)\u001b[0m\u001b[0;34m\u001b[0m\u001b[0;34m\u001b[0m\u001b[0m\n\u001b[1;32m    196\u001b[0m \u001b[0;34m\u001b[0m\u001b[0m\n\u001b[0;32m--> 197\u001b[0;31m         \u001b[0;32mreturn\u001b[0m \u001b[0mself\u001b[0m\u001b[0;34m.\u001b[0m\u001b[0m_solve_internal\u001b[0m\u001b[0;34m(\u001b[0m\u001b[0moperator\u001b[0m\u001b[0;34m,\u001b[0m \u001b[0moffset\u001b[0m\u001b[0;34m,\u001b[0m \u001b[0mproblem_\u001b[0m\u001b[0;34m,\u001b[0m \u001b[0mproblem\u001b[0m\u001b[0;34m)\u001b[0m\u001b[0;34m\u001b[0m\u001b[0;34m\u001b[0m\u001b[0m\n\u001b[0m\u001b[1;32m    198\u001b[0m \u001b[0;34m\u001b[0m\u001b[0m\n\u001b[1;32m    199\u001b[0m     def _solve_internal(\n",
      "\u001b[0;32m~/.local/lib/python3.8/site-packages/qiskit_optimization/algorithms/minimum_eigen_optimizer.py\u001b[0m in \u001b[0;36m_solve_internal\u001b[0;34m(self, operator, offset, converted_problem, original_problem)\u001b[0m\n\u001b[1;32m    208\u001b[0m         \u001b[0;32mif\u001b[0m \u001b[0moperator\u001b[0m\u001b[0;34m.\u001b[0m\u001b[0mnum_qubits\u001b[0m \u001b[0;34m>\u001b[0m \u001b[0;36m0\u001b[0m\u001b[0;34m:\u001b[0m\u001b[0;34m\u001b[0m\u001b[0;34m\u001b[0m\u001b[0m\n\u001b[1;32m    209\u001b[0m             \u001b[0;31m# approximate ground state of operator using min eigen solver\u001b[0m\u001b[0;34m\u001b[0m\u001b[0;34m\u001b[0m\u001b[0;34m\u001b[0m\u001b[0m\n\u001b[0;32m--> 210\u001b[0;31m             \u001b[0meigen_result\u001b[0m \u001b[0;34m=\u001b[0m \u001b[0mself\u001b[0m\u001b[0;34m.\u001b[0m\u001b[0m_min_eigen_solver\u001b[0m\u001b[0;34m.\u001b[0m\u001b[0mcompute_minimum_eigenvalue\u001b[0m\u001b[0;34m(\u001b[0m\u001b[0moperator\u001b[0m\u001b[0;34m)\u001b[0m\u001b[0;34m\u001b[0m\u001b[0;34m\u001b[0m\u001b[0m\n\u001b[0m\u001b[1;32m    211\u001b[0m             \u001b[0;31m# analyze results\u001b[0m\u001b[0;34m\u001b[0m\u001b[0;34m\u001b[0m\u001b[0;34m\u001b[0m\u001b[0m\n\u001b[1;32m    212\u001b[0m             \u001b[0mraw_samples\u001b[0m \u001b[0;34m=\u001b[0m \u001b[0;32mNone\u001b[0m\u001b[0;34m\u001b[0m\u001b[0;34m\u001b[0m\u001b[0m\n",
      "\u001b[0;32m~/qlm_notebooks/notebooks_1.2.1/notebooks/master_thesis_qaoa/shared/Mitiq_VQE.py\u001b[0m in \u001b[0;36mcompute_minimum_eigenvalue\u001b[0;34m(self, operator, aux_operators)\u001b[0m\n\u001b[1;32m    526\u001b[0m \u001b[0;34m\u001b[0m\u001b[0m\n\u001b[1;32m    527\u001b[0m         \u001b[0mstart_time\u001b[0m \u001b[0;34m=\u001b[0m \u001b[0mtime\u001b[0m\u001b[0;34m(\u001b[0m\u001b[0;34m)\u001b[0m\u001b[0;34m\u001b[0m\u001b[0;34m\u001b[0m\u001b[0m\n\u001b[0;32m--> 528\u001b[0;31m         opt_params, opt_value, nfev = self.optimizer.optimize(\n\u001b[0m\u001b[1;32m    529\u001b[0m             \u001b[0mnum_vars\u001b[0m\u001b[0;34m=\u001b[0m\u001b[0mlen\u001b[0m\u001b[0;34m(\u001b[0m\u001b[0minitial_point\u001b[0m\u001b[0;34m)\u001b[0m\u001b[0;34m,\u001b[0m\u001b[0;34m\u001b[0m\u001b[0;34m\u001b[0m\u001b[0m\n\u001b[1;32m    530\u001b[0m             \u001b[0mobjective_function\u001b[0m\u001b[0;34m=\u001b[0m\u001b[0menergy_evaluation\u001b[0m\u001b[0;34m,\u001b[0m\u001b[0;34m\u001b[0m\u001b[0;34m\u001b[0m\u001b[0m\n",
      "\u001b[0;32m~/.local/lib/python3.8/site-packages/qiskit/algorithms/optimizers/scipy_optimizer.py\u001b[0m in \u001b[0;36moptimize\u001b[0;34m(self, num_vars, objective_function, gradient_function, variable_bounds, initial_point)\u001b[0m\n\u001b[1;32m    138\u001b[0m         )\n\u001b[1;32m    139\u001b[0m \u001b[0;34m\u001b[0m\u001b[0m\n\u001b[0;32m--> 140\u001b[0;31m         res = minimize(\n\u001b[0m\u001b[1;32m    141\u001b[0m             \u001b[0mfun\u001b[0m\u001b[0;34m=\u001b[0m\u001b[0mobjective_function\u001b[0m\u001b[0;34m,\u001b[0m\u001b[0;34m\u001b[0m\u001b[0;34m\u001b[0m\u001b[0m\n\u001b[1;32m    142\u001b[0m             \u001b[0mx0\u001b[0m\u001b[0;34m=\u001b[0m\u001b[0minitial_point\u001b[0m\u001b[0;34m,\u001b[0m\u001b[0;34m\u001b[0m\u001b[0;34m\u001b[0m\u001b[0m\n",
      "\u001b[0;32m~/.local/lib/python3.8/site-packages/scipy/optimize/_minimize.py\u001b[0m in \u001b[0;36mminimize\u001b[0;34m(fun, x0, args, method, jac, hess, hessp, bounds, constraints, tol, callback, options)\u001b[0m\n\u001b[1;32m    613\u001b[0m                              **options)\n\u001b[1;32m    614\u001b[0m     \u001b[0;32melif\u001b[0m \u001b[0mmeth\u001b[0m \u001b[0;34m==\u001b[0m \u001b[0;34m'cobyla'\u001b[0m\u001b[0;34m:\u001b[0m\u001b[0;34m\u001b[0m\u001b[0;34m\u001b[0m\u001b[0m\n\u001b[0;32m--> 615\u001b[0;31m         \u001b[0;32mreturn\u001b[0m \u001b[0m_minimize_cobyla\u001b[0m\u001b[0;34m(\u001b[0m\u001b[0mfun\u001b[0m\u001b[0;34m,\u001b[0m \u001b[0mx0\u001b[0m\u001b[0;34m,\u001b[0m \u001b[0margs\u001b[0m\u001b[0;34m,\u001b[0m \u001b[0mconstraints\u001b[0m\u001b[0;34m,\u001b[0m \u001b[0;34m**\u001b[0m\u001b[0moptions\u001b[0m\u001b[0;34m)\u001b[0m\u001b[0;34m\u001b[0m\u001b[0;34m\u001b[0m\u001b[0m\n\u001b[0m\u001b[1;32m    616\u001b[0m     \u001b[0;32melif\u001b[0m \u001b[0mmeth\u001b[0m \u001b[0;34m==\u001b[0m \u001b[0;34m'slsqp'\u001b[0m\u001b[0;34m:\u001b[0m\u001b[0;34m\u001b[0m\u001b[0;34m\u001b[0m\u001b[0m\n\u001b[1;32m    617\u001b[0m         return _minimize_slsqp(fun, x0, args, jac, bounds,\n",
      "\u001b[0;32m~/.local/lib/python3.8/site-packages/scipy/optimize/cobyla.py\u001b[0m in \u001b[0;36m_minimize_cobyla\u001b[0;34m(fun, x0, args, constraints, rhobeg, tol, maxiter, disp, catol, **unknown_options)\u001b[0m\n\u001b[1;32m    248\u001b[0m \u001b[0;34m\u001b[0m\u001b[0m\n\u001b[1;32m    249\u001b[0m     \u001b[0minfo\u001b[0m \u001b[0;34m=\u001b[0m \u001b[0mnp\u001b[0m\u001b[0;34m.\u001b[0m\u001b[0mzeros\u001b[0m\u001b[0;34m(\u001b[0m\u001b[0;36m4\u001b[0m\u001b[0;34m,\u001b[0m \u001b[0mnp\u001b[0m\u001b[0;34m.\u001b[0m\u001b[0mfloat64\u001b[0m\u001b[0;34m)\u001b[0m\u001b[0;34m\u001b[0m\u001b[0;34m\u001b[0m\u001b[0m\n\u001b[0;32m--> 250\u001b[0;31m     xopt, info = _cobyla.minimize(calcfc, m=m, x=np.copy(x0), rhobeg=rhobeg,\n\u001b[0m\u001b[1;32m    251\u001b[0m                                   \u001b[0mrhoend\u001b[0m\u001b[0;34m=\u001b[0m\u001b[0mrhoend\u001b[0m\u001b[0;34m,\u001b[0m \u001b[0miprint\u001b[0m\u001b[0;34m=\u001b[0m\u001b[0miprint\u001b[0m\u001b[0;34m,\u001b[0m \u001b[0mmaxfun\u001b[0m\u001b[0;34m=\u001b[0m\u001b[0mmaxfun\u001b[0m\u001b[0;34m,\u001b[0m\u001b[0;34m\u001b[0m\u001b[0;34m\u001b[0m\u001b[0m\n\u001b[1;32m    252\u001b[0m                                   dinfo=info)\n",
      "\u001b[0;32m~/.local/lib/python3.8/site-packages/scipy/optimize/cobyla.py\u001b[0m in \u001b[0;36mcalcfc\u001b[0;34m(x, con)\u001b[0m\n\u001b[1;32m    240\u001b[0m \u001b[0;34m\u001b[0m\u001b[0m\n\u001b[1;32m    241\u001b[0m     \u001b[0;32mdef\u001b[0m \u001b[0mcalcfc\u001b[0m\u001b[0;34m(\u001b[0m\u001b[0mx\u001b[0m\u001b[0;34m,\u001b[0m \u001b[0mcon\u001b[0m\u001b[0;34m)\u001b[0m\u001b[0;34m:\u001b[0m\u001b[0;34m\u001b[0m\u001b[0;34m\u001b[0m\u001b[0m\n\u001b[0;32m--> 242\u001b[0;31m         \u001b[0mf\u001b[0m \u001b[0;34m=\u001b[0m \u001b[0mfun\u001b[0m\u001b[0;34m(\u001b[0m\u001b[0mx\u001b[0m\u001b[0;34m,\u001b[0m \u001b[0;34m*\u001b[0m\u001b[0margs\u001b[0m\u001b[0;34m)\u001b[0m\u001b[0;34m\u001b[0m\u001b[0;34m\u001b[0m\u001b[0m\n\u001b[0m\u001b[1;32m    243\u001b[0m         \u001b[0mi\u001b[0m \u001b[0;34m=\u001b[0m \u001b[0;36m0\u001b[0m\u001b[0;34m\u001b[0m\u001b[0;34m\u001b[0m\u001b[0m\n\u001b[1;32m    244\u001b[0m         \u001b[0;32mfor\u001b[0m \u001b[0msize\u001b[0m\u001b[0;34m,\u001b[0m \u001b[0mc\u001b[0m \u001b[0;32min\u001b[0m \u001b[0mizip\u001b[0m\u001b[0;34m(\u001b[0m\u001b[0mcons_lengths\u001b[0m\u001b[0;34m,\u001b[0m \u001b[0mconstraints\u001b[0m\u001b[0;34m)\u001b[0m\u001b[0;34m:\u001b[0m\u001b[0;34m\u001b[0m\u001b[0;34m\u001b[0m\u001b[0m\n",
      "\u001b[0;32m~/qlm_notebooks/notebooks_1.2.1/notebooks/master_thesis_qaoa/shared/Mitiq_VQE.py\u001b[0m in \u001b[0;36menergy_evaluation\u001b[0;34m(parameters)\u001b[0m\n\u001b[1;32m    613\u001b[0m               \u001b[0mnoisy_executor\u001b[0m \u001b[0;34m=\u001b[0m \u001b[0mpartial\u001b[0m\u001b[0;34m(\u001b[0m\u001b[0menergy_evaluation_2\u001b[0m\u001b[0;34m,\u001b[0m \u001b[0mparameters\u001b[0m\u001b[0;34m=\u001b[0m\u001b[0mparameters\u001b[0m\u001b[0;34m)\u001b[0m\u001b[0;34m\u001b[0m\u001b[0;34m\u001b[0m\u001b[0m\n\u001b[1;32m    614\u001b[0m               \u001b[0mmitigated_executor\u001b[0m \u001b[0;34m=\u001b[0m \u001b[0mmitigate_executor\u001b[0m\u001b[0;34m(\u001b[0m\u001b[0mnoisy_executor\u001b[0m\u001b[0;34m,\u001b[0m \u001b[0minference_factory\u001b[0m\u001b[0;34m,\u001b[0m \u001b[0mscaling_method\u001b[0m\u001b[0;34m)\u001b[0m\u001b[0;34m\u001b[0m\u001b[0;34m\u001b[0m\u001b[0m\n\u001b[0;32m--> 615\u001b[0;31m               \u001b[0mmitigated_executor\u001b[0m \u001b[0;34m=\u001b[0m \u001b[0mmitigated_executor\u001b[0m\u001b[0;34m(\u001b[0m\u001b[0mself\u001b[0m\u001b[0;34m.\u001b[0m\u001b[0mmitiq_circuit\u001b[0m\u001b[0;34m)\u001b[0m\u001b[0;34m\u001b[0m\u001b[0;34m\u001b[0m\u001b[0m\n\u001b[0m\u001b[1;32m    616\u001b[0m \u001b[0;34m\u001b[0m\u001b[0m\n\u001b[1;32m    617\u001b[0m               \u001b[0;32mreturn\u001b[0m \u001b[0mmitigated_executor\u001b[0m\u001b[0;34m\u001b[0m\u001b[0;34m\u001b[0m\u001b[0m\n",
      "\u001b[0;32m~/.local/lib/python3.8/site-packages/mitiq/zne/zne.py\u001b[0m in \u001b[0;36mnew_executor\u001b[0;34m(qp)\u001b[0m\n\u001b[1;32m     87\u001b[0m     \u001b[0;34m@\u001b[0m\u001b[0mwraps\u001b[0m\u001b[0;34m(\u001b[0m\u001b[0mexecutor\u001b[0m\u001b[0;34m)\u001b[0m\u001b[0;34m\u001b[0m\u001b[0;34m\u001b[0m\u001b[0m\n\u001b[1;32m     88\u001b[0m     \u001b[0;32mdef\u001b[0m \u001b[0mnew_executor\u001b[0m\u001b[0;34m(\u001b[0m\u001b[0mqp\u001b[0m\u001b[0;34m:\u001b[0m \u001b[0mQPROGRAM\u001b[0m\u001b[0;34m)\u001b[0m \u001b[0;34m->\u001b[0m \u001b[0mfloat\u001b[0m\u001b[0;34m:\u001b[0m\u001b[0;34m\u001b[0m\u001b[0;34m\u001b[0m\u001b[0m\n\u001b[0;32m---> 89\u001b[0;31m         return execute_with_zne(\n\u001b[0m\u001b[1;32m     90\u001b[0m             \u001b[0mqp\u001b[0m\u001b[0;34m,\u001b[0m \u001b[0mexecutor\u001b[0m\u001b[0;34m,\u001b[0m \u001b[0mfactory\u001b[0m\u001b[0;34m,\u001b[0m \u001b[0mscale_noise\u001b[0m\u001b[0;34m,\u001b[0m \u001b[0mnum_to_average\u001b[0m\u001b[0;34m\u001b[0m\u001b[0;34m\u001b[0m\u001b[0m\n\u001b[1;32m     91\u001b[0m         )\n",
      "\u001b[0;32m~/.local/lib/python3.8/site-packages/mitiq/zne/zne.py\u001b[0m in \u001b[0;36mexecute_with_zne\u001b[0;34m(qp, executor, factory, scale_noise, num_to_average)\u001b[0m\n\u001b[1;32m     60\u001b[0m         \u001b[0;32mraise\u001b[0m \u001b[0mValueError\u001b[0m\u001b[0;34m(\u001b[0m\u001b[0;34m\"Argument `num_to_average` must be a positive int.\"\u001b[0m\u001b[0;34m)\u001b[0m\u001b[0;34m\u001b[0m\u001b[0;34m\u001b[0m\u001b[0m\n\u001b[1;32m     61\u001b[0m \u001b[0;34m\u001b[0m\u001b[0m\n\u001b[0;32m---> 62\u001b[0;31m     \u001b[0;32mreturn\u001b[0m \u001b[0mfactory\u001b[0m\u001b[0;34m.\u001b[0m\u001b[0mrun\u001b[0m\u001b[0;34m(\u001b[0m\u001b[0mqp\u001b[0m\u001b[0;34m,\u001b[0m \u001b[0mexecutor\u001b[0m\u001b[0;34m,\u001b[0m \u001b[0mscale_noise\u001b[0m\u001b[0;34m,\u001b[0m \u001b[0mint\u001b[0m\u001b[0;34m(\u001b[0m\u001b[0mnum_to_average\u001b[0m\u001b[0;34m)\u001b[0m\u001b[0;34m)\u001b[0m\u001b[0;34m.\u001b[0m\u001b[0mreduce\u001b[0m\u001b[0;34m(\u001b[0m\u001b[0;34m)\u001b[0m\u001b[0;34m\u001b[0m\u001b[0;34m\u001b[0m\u001b[0m\n\u001b[0m\u001b[1;32m     63\u001b[0m \u001b[0;34m\u001b[0m\u001b[0m\n\u001b[1;32m     64\u001b[0m \u001b[0;34m\u001b[0m\u001b[0m\n",
      "\u001b[0;32m~/.local/lib/python3.8/site-packages/mitiq/zne/inference.py\u001b[0m in \u001b[0;36mrun\u001b[0;34m(self, qp, executor, scale_noise, num_to_average)\u001b[0m\n\u001b[1;32m    545\u001b[0m                 \u001b[0mres\u001b[0m \u001b[0;34m=\u001b[0m \u001b[0mexecutor\u001b[0m\u001b[0;34m(\u001b[0m\u001b[0mto_run\u001b[0m\u001b[0;34m,\u001b[0m \u001b[0mkwargs_list\u001b[0m\u001b[0;34m=\u001b[0m\u001b[0mkwargs_list\u001b[0m\u001b[0;34m)\u001b[0m\u001b[0;34m\u001b[0m\u001b[0;34m\u001b[0m\u001b[0m\n\u001b[1;32m    546\u001b[0m         \u001b[0;32melse\u001b[0m\u001b[0;34m:\u001b[0m\u001b[0;34m\u001b[0m\u001b[0;34m\u001b[0m\u001b[0m\n\u001b[0;32m--> 547\u001b[0;31m             res = [\n\u001b[0m\u001b[1;32m    548\u001b[0m                 \u001b[0mexecutor\u001b[0m\u001b[0;34m(\u001b[0m\u001b[0mcirc\u001b[0m\u001b[0;34m,\u001b[0m \u001b[0;34m**\u001b[0m\u001b[0mkwargs\u001b[0m\u001b[0;34m)\u001b[0m  \u001b[0;31m# type: ignore\u001b[0m\u001b[0;34m\u001b[0m\u001b[0;34m\u001b[0m\u001b[0m\n\u001b[1;32m    549\u001b[0m                 \u001b[0;32mfor\u001b[0m \u001b[0mcirc\u001b[0m\u001b[0;34m,\u001b[0m \u001b[0mkwargs\u001b[0m \u001b[0;32min\u001b[0m \u001b[0mzip\u001b[0m\u001b[0;34m(\u001b[0m\u001b[0mto_run\u001b[0m\u001b[0;34m,\u001b[0m \u001b[0mkwargs_list\u001b[0m\u001b[0;34m)\u001b[0m\u001b[0;34m\u001b[0m\u001b[0;34m\u001b[0m\u001b[0m\n",
      "\u001b[0;32m~/.local/lib/python3.8/site-packages/mitiq/zne/inference.py\u001b[0m in \u001b[0;36m<listcomp>\u001b[0;34m(.0)\u001b[0m\n\u001b[1;32m    546\u001b[0m         \u001b[0;32melse\u001b[0m\u001b[0;34m:\u001b[0m\u001b[0;34m\u001b[0m\u001b[0;34m\u001b[0m\u001b[0m\n\u001b[1;32m    547\u001b[0m             res = [\n\u001b[0;32m--> 548\u001b[0;31m                 \u001b[0mexecutor\u001b[0m\u001b[0;34m(\u001b[0m\u001b[0mcirc\u001b[0m\u001b[0;34m,\u001b[0m \u001b[0;34m**\u001b[0m\u001b[0mkwargs\u001b[0m\u001b[0;34m)\u001b[0m  \u001b[0;31m# type: ignore\u001b[0m\u001b[0;34m\u001b[0m\u001b[0;34m\u001b[0m\u001b[0m\n\u001b[0m\u001b[1;32m    549\u001b[0m                 \u001b[0;32mfor\u001b[0m \u001b[0mcirc\u001b[0m\u001b[0;34m,\u001b[0m \u001b[0mkwargs\u001b[0m \u001b[0;32min\u001b[0m \u001b[0mzip\u001b[0m\u001b[0;34m(\u001b[0m\u001b[0mto_run\u001b[0m\u001b[0;34m,\u001b[0m \u001b[0mkwargs_list\u001b[0m\u001b[0;34m)\u001b[0m\u001b[0;34m\u001b[0m\u001b[0;34m\u001b[0m\u001b[0m\n\u001b[1;32m    550\u001b[0m             ]\n",
      "\u001b[0;32m~/qlm_notebooks/notebooks_1.2.1/notebooks/master_thesis_qaoa/shared/Mitiq_VQE.py\u001b[0m in \u001b[0;36menergy_evaluation_2\u001b[0;34m(cc, parameters)\u001b[0m\n\u001b[1;32m    629\u001b[0m             \u001b[0;31m#print(\"3\")\u001b[0m\u001b[0;34m\u001b[0m\u001b[0;34m\u001b[0m\u001b[0;34m\u001b[0m\u001b[0m\n\u001b[1;32m    630\u001b[0m             \u001b[0mstart_time\u001b[0m \u001b[0;34m=\u001b[0m \u001b[0mtime\u001b[0m\u001b[0;34m(\u001b[0m\u001b[0;34m)\u001b[0m\u001b[0;34m\u001b[0m\u001b[0;34m\u001b[0m\u001b[0m\n\u001b[0;32m--> 631\u001b[0;31m             \u001b[0msampled_expect_op\u001b[0m \u001b[0;34m=\u001b[0m \u001b[0mself\u001b[0m\u001b[0;34m.\u001b[0m\u001b[0m_circuit_sampler\u001b[0m\u001b[0;34m.\u001b[0m\u001b[0mconvert\u001b[0m\u001b[0;34m(\u001b[0m\u001b[0mexpect_op\u001b[0m\u001b[0;34m,\u001b[0m \u001b[0mparams\u001b[0m\u001b[0;34m=\u001b[0m\u001b[0mparam_bindings\u001b[0m\u001b[0;34m)\u001b[0m\u001b[0;34m\u001b[0m\u001b[0;34m\u001b[0m\u001b[0m\n\u001b[0m\u001b[1;32m    632\u001b[0m             \u001b[0mmeans\u001b[0m \u001b[0;34m=\u001b[0m \u001b[0mnp\u001b[0m\u001b[0;34m.\u001b[0m\u001b[0mreal\u001b[0m\u001b[0;34m(\u001b[0m\u001b[0msampled_expect_op\u001b[0m\u001b[0;34m.\u001b[0m\u001b[0meval\u001b[0m\u001b[0;34m(\u001b[0m\u001b[0;34m)\u001b[0m\u001b[0;34m)\u001b[0m\u001b[0;34m\u001b[0m\u001b[0;34m\u001b[0m\u001b[0m\n\u001b[1;32m    633\u001b[0m             \u001b[0;31m#print(\"4\")\u001b[0m\u001b[0;34m\u001b[0m\u001b[0;34m\u001b[0m\u001b[0;34m\u001b[0m\u001b[0m\n",
      "\u001b[0;32m~/.local/lib/python3.8/site-packages/qiskit/opflow/converters/circuit_sampler.py\u001b[0m in \u001b[0;36mconvert\u001b[0;34m(self, operator, params)\u001b[0m\n\u001b[1;32m    216\u001b[0m         \u001b[0mcircs\u001b[0m \u001b[0;34m=\u001b[0m \u001b[0mlist\u001b[0m\u001b[0;34m(\u001b[0m\u001b[0mself\u001b[0m\u001b[0;34m.\u001b[0m\u001b[0m_circuit_ops_cache\u001b[0m\u001b[0;34m.\u001b[0m\u001b[0mvalues\u001b[0m\u001b[0;34m(\u001b[0m\u001b[0;34m)\u001b[0m\u001b[0;34m)\u001b[0m \u001b[0;32mif\u001b[0m \u001b[0;32mnot\u001b[0m \u001b[0mself\u001b[0m\u001b[0;34m.\u001b[0m\u001b[0m_transpiled_circ_cache\u001b[0m \u001b[0;32melse\u001b[0m \u001b[0;32mNone\u001b[0m\u001b[0;34m\u001b[0m\u001b[0;34m\u001b[0m\u001b[0m\n\u001b[1;32m    217\u001b[0m         \u001b[0mp_b\u001b[0m \u001b[0;34m=\u001b[0m \u001b[0mcast\u001b[0m\u001b[0;34m(\u001b[0m\u001b[0mList\u001b[0m\u001b[0;34m[\u001b[0m\u001b[0mDict\u001b[0m\u001b[0;34m[\u001b[0m\u001b[0mParameter\u001b[0m\u001b[0;34m,\u001b[0m \u001b[0mfloat\u001b[0m\u001b[0;34m]\u001b[0m\u001b[0;34m]\u001b[0m\u001b[0;34m,\u001b[0m \u001b[0mparam_bindings\u001b[0m\u001b[0;34m)\u001b[0m\u001b[0;34m\u001b[0m\u001b[0;34m\u001b[0m\u001b[0m\n\u001b[0;32m--> 218\u001b[0;31m         \u001b[0msampled_statefn_dicts\u001b[0m \u001b[0;34m=\u001b[0m \u001b[0mself\u001b[0m\u001b[0;34m.\u001b[0m\u001b[0msample_circuits\u001b[0m\u001b[0;34m(\u001b[0m\u001b[0mcircuit_sfns\u001b[0m\u001b[0;34m=\u001b[0m\u001b[0mcircs\u001b[0m\u001b[0;34m,\u001b[0m \u001b[0mparam_bindings\u001b[0m\u001b[0;34m=\u001b[0m\u001b[0mp_b\u001b[0m\u001b[0;34m)\u001b[0m\u001b[0;34m\u001b[0m\u001b[0;34m\u001b[0m\u001b[0m\n\u001b[0m\u001b[1;32m    219\u001b[0m \u001b[0;34m\u001b[0m\u001b[0m\n\u001b[1;32m    220\u001b[0m         \u001b[0;32mdef\u001b[0m \u001b[0mreplace_circuits_with_dicts\u001b[0m\u001b[0;34m(\u001b[0m\u001b[0moperator\u001b[0m\u001b[0;34m,\u001b[0m \u001b[0mparam_index\u001b[0m\u001b[0;34m=\u001b[0m\u001b[0;36m0\u001b[0m\u001b[0;34m)\u001b[0m\u001b[0;34m:\u001b[0m\u001b[0;34m\u001b[0m\u001b[0;34m\u001b[0m\u001b[0m\n",
      "\u001b[0;32m~/.local/lib/python3.8/site-packages/qiskit/opflow/converters/circuit_sampler.py\u001b[0m in \u001b[0;36msample_circuits\u001b[0;34m(self, circuit_sfns, param_bindings)\u001b[0m\n\u001b[1;32m    327\u001b[0m             \u001b[0mready_circs\u001b[0m \u001b[0;34m=\u001b[0m \u001b[0mself\u001b[0m\u001b[0;34m.\u001b[0m\u001b[0m_transpiled_circ_cache\u001b[0m\u001b[0;34m\u001b[0m\u001b[0;34m\u001b[0m\u001b[0m\n\u001b[1;32m    328\u001b[0m \u001b[0;34m\u001b[0m\u001b[0m\n\u001b[0;32m--> 329\u001b[0;31m         results = self.quantum_instance.execute(\n\u001b[0m\u001b[1;32m    330\u001b[0m             \u001b[0mready_circs\u001b[0m\u001b[0;34m,\u001b[0m \u001b[0mhad_transpiled\u001b[0m\u001b[0;34m=\u001b[0m\u001b[0mself\u001b[0m\u001b[0;34m.\u001b[0m\u001b[0m_transpile_before_bind\u001b[0m\u001b[0;34m\u001b[0m\u001b[0;34m\u001b[0m\u001b[0m\n\u001b[1;32m    331\u001b[0m         )\n",
      "\u001b[0;32m~/.local/lib/python3.8/site-packages/qiskit/utils/quantum_instance.py\u001b[0m in \u001b[0;36mexecute\u001b[0;34m(self, circuits, had_transpiled)\u001b[0m\n\u001b[1;32m    667\u001b[0m         \u001b[0;32melse\u001b[0m\u001b[0;34m:\u001b[0m\u001b[0;34m\u001b[0m\u001b[0;34m\u001b[0m\u001b[0m\n\u001b[1;32m    668\u001b[0m             result = (\n\u001b[0;32m--> 669\u001b[0;31m                 run_circuits(\n\u001b[0m\u001b[1;32m    670\u001b[0m                     \u001b[0mcircuits\u001b[0m\u001b[0;34m,\u001b[0m\u001b[0;34m\u001b[0m\u001b[0;34m\u001b[0m\u001b[0m\n\u001b[1;32m    671\u001b[0m                     \u001b[0mself\u001b[0m\u001b[0;34m.\u001b[0m\u001b[0m_backend\u001b[0m\u001b[0;34m,\u001b[0m\u001b[0;34m\u001b[0m\u001b[0;34m\u001b[0m\u001b[0m\n",
      "\u001b[0;32m~/.local/lib/python3.8/site-packages/qiskit/utils/run_circuits.py\u001b[0m in \u001b[0;36mrun_circuits\u001b[0;34m(circuits, backend, qjob_config, backend_options, noise_config, run_config, job_callback)\u001b[0m\n\u001b[1;32m    575\u001b[0m         \u001b[0mresults\u001b[0m \u001b[0;34m=\u001b[0m \u001b[0;34m[\u001b[0m\u001b[0;34m]\u001b[0m\u001b[0;34m\u001b[0m\u001b[0;34m\u001b[0m\u001b[0m\n\u001b[1;32m    576\u001b[0m         \u001b[0;32mfor\u001b[0m \u001b[0mjob\u001b[0m \u001b[0;32min\u001b[0m \u001b[0mjobs\u001b[0m\u001b[0;34m:\u001b[0m\u001b[0;34m\u001b[0m\u001b[0;34m\u001b[0m\u001b[0m\n\u001b[0;32m--> 577\u001b[0;31m             \u001b[0mresults\u001b[0m\u001b[0;34m.\u001b[0m\u001b[0mappend\u001b[0m\u001b[0;34m(\u001b[0m\u001b[0mjob\u001b[0m\u001b[0;34m.\u001b[0m\u001b[0mresult\u001b[0m\u001b[0;34m(\u001b[0m\u001b[0;34m)\u001b[0m\u001b[0;34m)\u001b[0m\u001b[0;34m\u001b[0m\u001b[0;34m\u001b[0m\u001b[0m\n\u001b[0m\u001b[1;32m    578\u001b[0m \u001b[0;34m\u001b[0m\u001b[0m\n\u001b[1;32m    579\u001b[0m     \u001b[0mresult\u001b[0m \u001b[0;34m=\u001b[0m \u001b[0m_combine_result_objects\u001b[0m\u001b[0;34m(\u001b[0m\u001b[0mresults\u001b[0m\u001b[0;34m)\u001b[0m \u001b[0;32mif\u001b[0m \u001b[0mresults\u001b[0m \u001b[0;32melse\u001b[0m \u001b[0;32mNone\u001b[0m\u001b[0;34m\u001b[0m\u001b[0;34m\u001b[0m\u001b[0m\n",
      "\u001b[0;32m~/.local/lib/python3.8/site-packages/qiskit/providers/aer/aerjob.py\u001b[0m in \u001b[0;36m_wrapper\u001b[0;34m(self, *args, **kwargs)\u001b[0m\n\u001b[1;32m     41\u001b[0m         \u001b[0;32mif\u001b[0m \u001b[0mself\u001b[0m\u001b[0;34m.\u001b[0m\u001b[0m_future\u001b[0m \u001b[0;32mis\u001b[0m \u001b[0;32mNone\u001b[0m\u001b[0;34m:\u001b[0m\u001b[0;34m\u001b[0m\u001b[0;34m\u001b[0m\u001b[0m\n\u001b[1;32m     42\u001b[0m             \u001b[0;32mraise\u001b[0m \u001b[0mJobError\u001b[0m\u001b[0;34m(\u001b[0m\u001b[0;34m\"Job not submitted yet!. You have to .submit() first!\"\u001b[0m\u001b[0;34m)\u001b[0m\u001b[0;34m\u001b[0m\u001b[0;34m\u001b[0m\u001b[0m\n\u001b[0;32m---> 43\u001b[0;31m         \u001b[0;32mreturn\u001b[0m \u001b[0mfunc\u001b[0m\u001b[0;34m(\u001b[0m\u001b[0mself\u001b[0m\u001b[0;34m,\u001b[0m \u001b[0;34m*\u001b[0m\u001b[0margs\u001b[0m\u001b[0;34m,\u001b[0m \u001b[0;34m**\u001b[0m\u001b[0mkwargs\u001b[0m\u001b[0;34m)\u001b[0m\u001b[0;34m\u001b[0m\u001b[0;34m\u001b[0m\u001b[0m\n\u001b[0m\u001b[1;32m     44\u001b[0m     \u001b[0;32mreturn\u001b[0m \u001b[0m_wrapper\u001b[0m\u001b[0;34m\u001b[0m\u001b[0;34m\u001b[0m\u001b[0m\n\u001b[1;32m     45\u001b[0m \u001b[0;34m\u001b[0m\u001b[0m\n",
      "\u001b[0;32m~/.local/lib/python3.8/site-packages/qiskit/providers/aer/aerjob.py\u001b[0m in \u001b[0;36mresult\u001b[0;34m(self, timeout)\u001b[0m\n\u001b[1;32m    100\u001b[0m             \u001b[0mconcurrent\u001b[0m\u001b[0;34m.\u001b[0m\u001b[0mfutures\u001b[0m\u001b[0;34m.\u001b[0m\u001b[0mCancelledError\u001b[0m\u001b[0;34m:\u001b[0m \u001b[0;32mif\u001b[0m \u001b[0mjob\u001b[0m \u001b[0mcancelled\u001b[0m \u001b[0mbefore\u001b[0m \u001b[0mcompleted\u001b[0m\u001b[0;34m.\u001b[0m\u001b[0;34m\u001b[0m\u001b[0;34m\u001b[0m\u001b[0m\n\u001b[1;32m    101\u001b[0m         \"\"\"\n\u001b[0;32m--> 102\u001b[0;31m         \u001b[0;32mreturn\u001b[0m \u001b[0mself\u001b[0m\u001b[0;34m.\u001b[0m\u001b[0m_future\u001b[0m\u001b[0;34m.\u001b[0m\u001b[0mresult\u001b[0m\u001b[0;34m(\u001b[0m\u001b[0mtimeout\u001b[0m\u001b[0;34m=\u001b[0m\u001b[0mtimeout\u001b[0m\u001b[0;34m)\u001b[0m\u001b[0;34m\u001b[0m\u001b[0;34m\u001b[0m\u001b[0m\n\u001b[0m\u001b[1;32m    103\u001b[0m \u001b[0;34m\u001b[0m\u001b[0m\n\u001b[1;32m    104\u001b[0m     \u001b[0;34m@\u001b[0m\u001b[0mrequires_submit\u001b[0m\u001b[0;34m\u001b[0m\u001b[0;34m\u001b[0m\u001b[0m\n",
      "\u001b[0;32m/usr/lib64/python3.8/concurrent/futures/_base.py\u001b[0m in \u001b[0;36mresult\u001b[0;34m(self, timeout)\u001b[0m\n\u001b[1;32m    432\u001b[0m                 \u001b[0;32mreturn\u001b[0m \u001b[0mself\u001b[0m\u001b[0;34m.\u001b[0m\u001b[0m__get_result\u001b[0m\u001b[0;34m(\u001b[0m\u001b[0;34m)\u001b[0m\u001b[0;34m\u001b[0m\u001b[0;34m\u001b[0m\u001b[0m\n\u001b[1;32m    433\u001b[0m \u001b[0;34m\u001b[0m\u001b[0m\n\u001b[0;32m--> 434\u001b[0;31m             \u001b[0mself\u001b[0m\u001b[0;34m.\u001b[0m\u001b[0m_condition\u001b[0m\u001b[0;34m.\u001b[0m\u001b[0mwait\u001b[0m\u001b[0;34m(\u001b[0m\u001b[0mtimeout\u001b[0m\u001b[0;34m)\u001b[0m\u001b[0;34m\u001b[0m\u001b[0;34m\u001b[0m\u001b[0m\n\u001b[0m\u001b[1;32m    435\u001b[0m \u001b[0;34m\u001b[0m\u001b[0m\n\u001b[1;32m    436\u001b[0m             \u001b[0;32mif\u001b[0m \u001b[0mself\u001b[0m\u001b[0;34m.\u001b[0m\u001b[0m_state\u001b[0m \u001b[0;32min\u001b[0m \u001b[0;34m[\u001b[0m\u001b[0mCANCELLED\u001b[0m\u001b[0;34m,\u001b[0m \u001b[0mCANCELLED_AND_NOTIFIED\u001b[0m\u001b[0;34m]\u001b[0m\u001b[0;34m:\u001b[0m\u001b[0;34m\u001b[0m\u001b[0;34m\u001b[0m\u001b[0m\n",
      "\u001b[0;32m/usr/lib64/python3.8/threading.py\u001b[0m in \u001b[0;36mwait\u001b[0;34m(self, timeout)\u001b[0m\n\u001b[1;32m    300\u001b[0m         \u001b[0;32mtry\u001b[0m\u001b[0;34m:\u001b[0m    \u001b[0;31m# restore state no matter what (e.g., KeyboardInterrupt)\u001b[0m\u001b[0;34m\u001b[0m\u001b[0;34m\u001b[0m\u001b[0m\n\u001b[1;32m    301\u001b[0m             \u001b[0;32mif\u001b[0m \u001b[0mtimeout\u001b[0m \u001b[0;32mis\u001b[0m \u001b[0;32mNone\u001b[0m\u001b[0;34m:\u001b[0m\u001b[0;34m\u001b[0m\u001b[0;34m\u001b[0m\u001b[0m\n\u001b[0;32m--> 302\u001b[0;31m                 \u001b[0mwaiter\u001b[0m\u001b[0;34m.\u001b[0m\u001b[0macquire\u001b[0m\u001b[0;34m(\u001b[0m\u001b[0;34m)\u001b[0m\u001b[0;34m\u001b[0m\u001b[0;34m\u001b[0m\u001b[0m\n\u001b[0m\u001b[1;32m    303\u001b[0m                 \u001b[0mgotit\u001b[0m \u001b[0;34m=\u001b[0m \u001b[0;32mTrue\u001b[0m\u001b[0;34m\u001b[0m\u001b[0;34m\u001b[0m\u001b[0m\n\u001b[1;32m    304\u001b[0m             \u001b[0;32melse\u001b[0m\u001b[0;34m:\u001b[0m\u001b[0;34m\u001b[0m\u001b[0;34m\u001b[0m\u001b[0m\n",
      "\u001b[0;31mKeyboardInterrupt\u001b[0m: "
     ]
    }
   ],
   "source": [
    "run_qaoa_ws_mitiq(0.02)"
   ]
  },
  {
   "cell_type": "code",
   "execution_count": 361,
   "id": "281c16b9",
   "metadata": {},
   "outputs": [],
   "source": [
    "means = []\n",
    "eps = []\n",
    "for e in range(50,-1, -1):\n",
    "    epsi = e*0.01\n",
    "    eps.append(epsi)\n",
    "    means.append( run_qaoa_ws_mitiq(epsi, False) )\n",
    "#means"
   ]
  },
  {
   "cell_type": "code",
   "execution_count": 312,
   "id": "828ed371",
   "metadata": {},
   "outputs": [
    {
     "data": {
      "image/png": "[encoded data removed]",
      "text/plain": [
       "<Figure size 432x288 with 1 Axes>"
      ]
     },
     "metadata": {
      "needs_background": "light"
     },
     "output_type": "display_data"
    }
   ],
   "source": [
    "import matplotlib.pyplot as plt\n",
    "plt.plot(eps, means)\n",
    "plt.xlabel('epsilon')\n",
    "plt.ylabel('expectation value')\n",
    "plt.show()"
   ]
  },
  {
   "cell_type": "markdown",
   "id": "a0b6d9c8",
   "metadata": {},
   "source": [
    "## Error Mitigation"
   ]
  },
  {
   "cell_type": "code",
   "execution_count": 166,
   "id": "7ab84c0c",
   "metadata": {},
   "outputs": [],
   "source": [
    "quantum_instance = QuantumInstance(\n",
    "                    backend=Aer.get_backend(DEFAULT_QASM_SIMULATOR),\n",
    "                    shots=SHOTS,\n",
    "                    measurement_error_mitigation_cls=CompleteMeasFitter,\n",
    "                    measurement_error_mitigation_shots=SHOTS)"
   ]
  },
  {
   "cell_type": "code",
   "execution_count": 66,
   "id": "1e745472",
   "metadata": {},
   "outputs": [
    {
     "name": "stdout",
     "output_type": "stream",
     "text": [
      "Optimal Parameters: [0.5 1.5]\n"
     ]
    }
   ],
   "source": [
    "from qiskit.ignis.mitigation.measurement import CompleteMeasFitter\n",
    "qaoa = QAOA(optimizer=COBYLA(maxiter=0),\n",
    "            quantum_instance=quantum_instance,\n",
    "            reps=1,\n",
    "            initial_point=[opt_gamma, opt_beta])\n",
    "\n",
    "algorithm = MinimumEigenOptimizer(qaoa)\n",
    "result = algorithm.solve(max_cut_qubo)\n",
    "optimal_parameters = qaoa.optimal_params\n",
    "print(f\"Optimal Parameters: {optimal_parameters}\")"
   ]
  },
  {
   "cell_type": "code",
   "execution_count": 67,
   "id": "b40a21c7",
   "metadata": {},
   "outputs": [
    {
     "name": "stdout",
     "output_type": "stream",
     "text": [
      "optimal function value: -35.0\n",
      "optimal value: [0. 1. 0. 1. 0.]\n",
      "status: SUCCESS\n",
      "Number of samples (32) is too large to display. Skip.\n",
      "Expectation Value: -31.96962552143264\n",
      "Highest Exp.Value: 0 with 0.002125 %\n",
      "Lowest Exp.Value: -35 with 0.19025 %\n",
      "Highest Probability: -34 with 0.26475 %\n",
      "Ratio r: 0.9134178720409326\n",
      "MSE: 180.40062390132604\n",
      "RMSE: 13.431329937922232\n"
     ]
    },
    {
     "data": {
      "image/png": "[encoded data removed]",
      "text/plain": [
       "<Figure size 504x360 with 1 Axes>"
      ]
     },
     "metadata": {
      "needs_background": "light"
     },
     "output_type": "display_data"
    }
   ],
   "source": [
    "mean, distribution = max_cut.analyse(result, print_output=True)\n",
    "max_cut.plot_histogram(distribution, mean)"
   ]
  },
  {
   "cell_type": "code",
   "execution_count": null,
   "id": "8f993e1b",
   "metadata": {},
   "outputs": [],
   "source": [
    "# Display Optimizer Results\n",
    "\n",
    "# Display path \n",
    "#fig.add_trace(\n",
    "#    go.Scatter(mode=\"lines\", x=gammas, y=betas, marker_symbol=[200],\n",
    "#                   marker_color=\"white\", marker_line_width=1, marker_size=8)\n",
    "#)\n",
    "\n",
    "# Display start point\n",
    "#fig.add_trace(\n",
    "#    go.Scatter(mode=\"markers\", x=[gammas[0]], y=[betas[0]], marker_symbol=[204],\n",
    "#                   marker_color=\"gray\", \n",
    "#                   marker_line_width=1, marker_size=16))\n",
    "\n",
    "# Display end point\n",
    "#fig.add_trace(\n",
    "#    go.Scatter(mode=\"markers\", x=[gammas[-1]], y=[betas[-1]], marker_symbol=[204],\n",
    "#                   marker_color=\"green\", \n",
    "#                   marker_line_width=1, marker_size=16))\n",
    "\n"
   ]
  },
  {
   "cell_type": "code",
   "execution_count": null,
   "id": "ad71f127",
   "metadata": {},
   "outputs": [],
   "source": [
    "# Plot Optimizer History\n",
    "#fig = go.Figure(data=go.Scatter(x=counts, y=values))\n",
    "#fig.update_layout(xaxis_title=\"Evaluation Counts\", yaxis_title=\"Evaluated Mean\", title=\"Optimizer\")\n",
    "#fig.show()"
   ]
  }
 ],
 "metadata": {
  "kernelspec": {
   "display_name": "python3.8",
   "language": "python",
   "name": "python3.8"
  },
  "language_info": {
   "codemirror_mode": {
    "name": "ipython",
    "version": 3
   },
   "file_extension": ".py",
   "mimetype": "text/x-python",
   "name": "python",
   "nbconvert_exporter": "python",
   "pygments_lexer": "ipython3",
   "version": "3.8.6"
  }
 },
 "nbformat": 4,
 "nbformat_minor": 5
}
