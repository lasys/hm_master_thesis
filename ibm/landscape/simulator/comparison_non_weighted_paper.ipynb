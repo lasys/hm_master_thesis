{
 "cells": [
  {
   "cell_type": "code",
   "execution_count": null,
   "id": "f62a3483",
   "metadata": {},
   "outputs": [],
   "source": [
    "import sys\n",
    "import os\n",
    "sys.path.insert(0, os.path.abspath('../'))\n",
    "sys.path.insert(0, os.path.abspath('../../'))\n",
    "sys.path.insert(0, os.path.abspath('/home/hm-tlacherm/qlm_notebooks/notebooks_1.2.1/notebooks/master_thesis_qaoa/'))\n",
    "sys.path.insert(0, os.path.abspath('/home/hm-tlacherm/qlm_notebooks/notebooks_1.2.1/notebooks/master_thesis_qaoa/ibm/'))\n",
    "sys.path.insert(0, os.path.abspath('/home/hm-tlacherm/qlm_notebooks/notebooks_1.2.1/notebooks/master_thesis_qaoa/ibm/landscape/'))\n",
    "sys.path.insert(0, os.path.abspath('/home/hm-tlacherm/qlm_notebooks/notebooks_1.2.1/notebooks/master_thesis_qaoa/ibm/landscape/simulator/'))"
   ]
  },
  {
   "cell_type": "code",
   "execution_count": null,
   "id": "d82cdbcc",
   "metadata": {
    "scrolled": true
   },
   "outputs": [],
   "source": [
    "import numpy as np\n",
    "\n",
    "import qiskit\n",
    "provider = qiskit.IBMQ.load_account()\n",
    "from qiskit import Aer\n",
    "from qiskit.utils import QuantumInstance\n",
    "from qiskit_optimization.algorithms import MinimumEigenOptimizer\n",
    "from qiskit.algorithms import QAOA\n",
    "from shared.QiskitMaxcut import *\n",
    "from ibm.ibm_parameters import *\n",
    "\n",
    "from matplotlib import pyplot as plt\n",
    "%matplotlib inline\n",
    "\n",
    "from ibm_landscape_processes import *"
   ]
  },
  {
   "cell_type": "code",
   "execution_count": null,
   "id": "68d79fd7",
   "metadata": {},
   "outputs": [],
   "source": [
    "%load_ext autoreload\n",
    "%autoreload 2"
   ]
  },
  {
   "cell_type": "code",
   "execution_count": null,
   "id": "1343a6f8",
   "metadata": {
    "scrolled": true
   },
   "outputs": [],
   "source": [
    "# ---- Define graph and MaxCut ----\n",
    "graph = load_nx_graph_from(\"/home/hm-tlacherm/qlm_notebooks/notebooks_1.2.1/notebooks/master_thesis_qaoa/data/graphs/16_nodes/graph_16_33_01.txt\")\n",
    "opt_max_cut = -33\n",
    "max_cut = Maxcut(graph, opt_max_cut)\n",
    "max_cut_qubo = max_cut.to_qubo()\n",
    "max_cut.draw()"
   ]
  },
  {
   "cell_type": "markdown",
   "id": "f1989d39",
   "metadata": {},
   "source": [
    "# Display MaxCut-Landscape for p = 1"
   ]
  },
  {
   "cell_type": "code",
   "execution_count": null,
   "id": "595d3a58",
   "metadata": {},
   "outputs": [],
   "source": [
    "from landscape_helper import *"
   ]
  },
  {
   "cell_type": "code",
   "execution_count": null,
   "id": "53165893",
   "metadata": {},
   "outputs": [],
   "source": [
    "landscape = load_landscape_data('/home/hm-tlacherm/qlm_notebooks/notebooks_1.2.1/notebooks/master_thesis_qaoa/ibm/landscape/simulator/landscape_simulator_paper_no_weights_results.npy')"
   ]
  },
  {
   "cell_type": "code",
   "execution_count": null,
   "id": "56cb8392",
   "metadata": {},
   "outputs": [],
   "source": [
    "min_gamma, min_beta, min_exp = describe_landscape(landscape)"
   ]
  },
  {
   "cell_type": "code",
   "execution_count": null,
   "id": "4290dc67",
   "metadata": {},
   "outputs": [],
   "source": [
    "from plot_helper import *"
   ]
  },
  {
   "cell_type": "code",
   "execution_count": null,
   "id": "f5fc9244",
   "metadata": {},
   "outputs": [],
   "source": [
    "# Plot landscape in 3D \n",
    "plot_landscape_3d(landscape)"
   ]
  },
  {
   "cell_type": "code",
   "execution_count": null,
   "id": "4d31010f",
   "metadata": {
    "scrolled": false
   },
   "outputs": [],
   "source": [
    "# Plot Heatmap \n",
    "heatmap = plot_heatmap(landscape)\n",
    "heatmap = display_minimum(heatmap, min_gamma, min_beta, min_exp)"
   ]
  },
  {
   "cell_type": "markdown",
   "id": "8315dbd5",
   "metadata": {},
   "source": [
    "### Find init values with TQA"
   ]
  },
  {
   "cell_type": "code",
   "execution_count": null,
   "id": "1fa5d26c",
   "metadata": {},
   "outputs": [],
   "source": [
    "from tqa import calculate_tqa"
   ]
  },
  {
   "cell_type": "code",
   "execution_count": null,
   "id": "a2f7e78c",
   "metadata": {},
   "outputs": [],
   "source": [
    "p = 1"
   ]
  },
  {
   "cell_type": "code",
   "execution_count": null,
   "id": "6fb4ade8",
   "metadata": {},
   "outputs": [],
   "source": [
    "tqa_initial_points = calculate_tqa(graph, p)"
   ]
  },
  {
   "cell_type": "markdown",
   "id": "ee4037dd",
   "metadata": {},
   "source": [
    "#### Run QAOA with init_points, different optimizers and plot results "
   ]
  },
  {
   "cell_type": "code",
   "execution_count": null,
   "id": "33285251",
   "metadata": {},
   "outputs": [],
   "source": [
    "from qaoa_helper import *"
   ]
  },
  {
   "cell_type": "code",
   "execution_count": null,
   "id": "a8d5c1f9",
   "metadata": {},
   "outputs": [],
   "source": [
    "qnSpsa = QNSPSA(calculate_fidelity(create_qaoa(), max_cut_qubo), maxiter=50)\n",
    "optimizers = [\n",
    "    ('COBYLA',COBYLA(maxiter=50)),\n",
    "    ('SPSA', SPSA(maxiter=50)),\n",
    "    ('QNSPSA', qnSpsa),\n",
    "]"
   ]
  },
  {
   "cell_type": "code",
   "execution_count": null,
   "id": "bdaaa68f",
   "metadata": {
    "scrolled": true
   },
   "outputs": [],
   "source": [
    "for optimizer_tuple in optimizers:\n",
    "    optimizer_name, optimizer = optimizer_tuple\n",
    "    # create qaoa \n",
    "    qaoa = create_qaoa(optimizer = optimizer,\n",
    "            reps=p,\n",
    "            initial_point=tqa_initial_points,\n",
    "            with_callback=True\n",
    "           )\n",
    "    # run qaoa \n",
    "    result, optimal_parameters, optimizer_history = run_qaoa_with_callback(qaoa, max_cut_qubo)\n",
    "    \n",
    "    # analyse results \n",
    "    print(f\"{optimizer_name} Optimizer\")\n",
    "    mean, distribution = max_cut.analyse(result, print_output=True)\n",
    "    max_cut.plot_histogram(distribution, mean)\n",
    "    optimizer_history[2][-1] = mean\n",
    "    print()\n",
    "    \n",
    "    # Display Optimizer Results\n",
    "    # counts, energy_values, maxcut_values, optimizer_gammas, optimizer_betas = optimizer_history\n",
    "    # display_optimizer_path(heatmap, optimizer_gammas, optimizer_betas, maxcut_values, optimizer_name)\n",
    "    \n",
    "    # Plot Optimizer History MaxCut Evaluation # Values from landscape -> real values may deviate \n",
    "    # plot_optimizer_maxcut_history(counts, maxcut_values, optimizer_name)\n",
    "    \n",
    "    # Plot Optimizer History Energy Evaluation -> not MaxCutMean! \n",
    "    # plot_optimizer_energy_history(counts, energy_values, optimizer_name)\n",
    "    "
   ]
  },
  {
   "cell_type": "markdown",
   "id": "c8b17812",
   "metadata": {},
   "source": [
    "# Comparision"
   ]
  },
  {
   "cell_type": "markdown",
   "id": "c310329a",
   "metadata": {},
   "source": [
    "## Parameters"
   ]
  },
  {
   "cell_type": "code",
   "execution_count": null,
   "id": "03a0bfa3",
   "metadata": {},
   "outputs": [],
   "source": [
    "eval_num = 100\n",
    "max_p = 10\n",
    "all_results = {}"
   ]
  },
  {
   "cell_type": "markdown",
   "id": "f79a9707",
   "metadata": {},
   "source": [
    "## QAOA"
   ]
  },
  {
   "cell_type": "code",
   "execution_count": null,
   "id": "7d810636",
   "metadata": {},
   "outputs": [],
   "source": [
    "from qaoa_helper import *"
   ]
  },
  {
   "cell_type": "code",
   "execution_count": null,
   "id": "cc8ed43f",
   "metadata": {},
   "outputs": [],
   "source": [
    "qaoa_p_means = []\n",
    "qaoa_p_ratios = []\n",
    "qaoa_p_approx_ratios = []\n",
    "\n",
    "for p in range(1,max_p+1):\n",
    "    m, r, ar = start_qaoa_evaluation(max_cut, eval_num=eval_num, reps=p)\n",
    "    qaoa_p_means.append(m)\n",
    "    qaoa_p_ratios.append(r)\n",
    "    qaoa_p_approx_ratios.append(ar)\n",
    "\n",
    "all_results[\"QAOA\"] = [qaoa_p_means, qaoa_p_ratios, qaoa_p_approx_ratios]"
   ]
  },
  {
   "cell_type": "code",
   "execution_count": null,
   "id": "ed10e32b",
   "metadata": {
    "scrolled": true
   },
   "outputs": [],
   "source": [
    "display_boxplots_results(qaoa_p_means, qaoa_p_ratios, qaoa_p_approx_ratios)"
   ]
  },
  {
   "cell_type": "markdown",
   "id": "3e4e93a1",
   "metadata": {},
   "source": [
    "## QAOA with TQA"
   ]
  },
  {
   "cell_type": "code",
   "execution_count": null,
   "id": "2c60815e",
   "metadata": {},
   "outputs": [],
   "source": [
    "from qaoa_helper import *"
   ]
  },
  {
   "cell_type": "code",
   "execution_count": null,
   "id": "fa11da80",
   "metadata": {},
   "outputs": [],
   "source": [
    "tqa_p_means = []\n",
    "tqa_p_ratios = []\n",
    "tqa_p_approx_ratios = []\n",
    "tqa_init_points = []\n",
    "\n",
    "for p in range(1,max_p+1):\n",
    "    tqa_initial_points = calculate_tqa(graph, p)\n",
    "    m, r, ar = start_qaoa_evaluation(max_cut, eval_num=eval_num, reps=p, init_points=tqa_initial_points)\n",
    "    tqa_p_means.append(m)\n",
    "    tqa_p_ratios.append(r)\n",
    "    tqa_p_approx_ratios.append(ar)\n",
    "    tqa_init_points.append(tqa_initial_points)\n",
    "    \n",
    "all_results[\"TQA QAOA\"] = [tqa_p_means, tqa_p_ratios, tqa_p_approx_ratios, tqa_init_points]"
   ]
  },
  {
   "cell_type": "code",
   "execution_count": null,
   "id": "99700021",
   "metadata": {
    "scrolled": true
   },
   "outputs": [],
   "source": [
    "display_boxplots_results(tqa_p_means, tqa_p_ratios, tqa_p_approx_ratios, prefix='TQA ')"
   ]
  },
  {
   "cell_type": "markdown",
   "id": "6e46b259",
   "metadata": {},
   "source": [
    "## WarmStart QAOA"
   ]
  },
  {
   "cell_type": "code",
   "execution_count": null,
   "id": "1ef8bdba",
   "metadata": {},
   "outputs": [],
   "source": [
    "from warmstart_helper import *"
   ]
  },
  {
   "cell_type": "code",
   "execution_count": null,
   "id": "8ca57b2b",
   "metadata": {
    "scrolled": true
   },
   "outputs": [],
   "source": [
    "ws_p_means = []\n",
    "ws_p_ratios = []\n",
    "ws_p_approx_ratios = []\n",
    "ws_opt_epsilons = []\n",
    "\n",
    "for p in range(1,max_p+1):\n",
    "    opt_epsilon = optimize_epsilon(max_cut, reps=p)\n",
    "    m, r, ar = start_ws_qaoa_evaluation(max_cut, eval_num=eval_num, reps=p, epsilon=opt_epsilon)\n",
    "    ws_p_means.append(m)\n",
    "    ws_p_ratios.append(r)\n",
    "    ws_p_approx_ratios.append(ar)\n",
    "    ws_opt_epsilons.append(opt_epsilon)\n",
    "    \n",
    "all_results[\"WarmStart QAOA\"] = [ws_p_means, ws_p_ratios, ws_p_approx_ratios, ws_opt_epsilons]"
   ]
  },
  {
   "cell_type": "code",
   "execution_count": null,
   "id": "c8ad0da0",
   "metadata": {
    "scrolled": true
   },
   "outputs": [],
   "source": [
    "display_boxplots_results(ws_p_means, ws_p_ratios, ws_p_approx_ratios, prefix='WarmStart ')"
   ]
  },
  {
   "cell_type": "markdown",
   "id": "95d03038",
   "metadata": {},
   "source": [
    "### Recursive QAOA"
   ]
  },
  {
   "cell_type": "code",
   "execution_count": null,
   "id": "14becab3",
   "metadata": {},
   "outputs": [],
   "source": [
    "# graph nicht lösbar -> Problem muss noch gelöst werden -> class überschreiben und try-catch oder ka? "
   ]
  },
  {
   "cell_type": "code",
   "execution_count": null,
   "id": "ef74a0b9",
   "metadata": {},
   "outputs": [],
   "source": [
    "# Hinweis: \n",
    "# [done] zweite Metrik hinzufügen \n",
    "# [done] bei allen Berechnungen mind. 100 mal ausführen und durchschnitt / median bestimmen -> besser gegen Zufall \n",
    "# [done] ratio und Metriken berücksichtigen! die müssen ebenfalls gemittelt werden \n",
    "# [done] R-QAOA für QAOA wird einmal mit TQA und einmal mit random werten -> prüfen ob sinnvoll, oder Anfangswerte egal \n",
    "# [done] WS-R-QAOA \n",
    "# [done] alle Ergebnisse in Tabelle durchschnitts exp. value, ratio, andere in Kopfzeile und danach jeweils die Varianten \n",
    "# [done] QAOA ganz am Anfang mit TQA und random werten x mal berechnen. \n",
    "\n",
    "# für p > 1 dann selber ablauf, nur ohne plots \n",
    "\n",
    "# evaluate function: \n",
    "# callback (run qaoa variante) -> wird x mal ausgeführt mit werten und ergebnis wird zurück gegeben. "
   ]
  },
  {
   "cell_type": "code",
   "execution_count": null,
   "id": "ef85baf8",
   "metadata": {},
   "outputs": [],
   "source": [
    "from recursive_qaoa_helper import *"
   ]
  },
  {
   "cell_type": "code",
   "execution_count": null,
   "id": "b957c114",
   "metadata": {
    "scrolled": true
   },
   "outputs": [],
   "source": [
    "recursive_p_means = []\n",
    "recursive_p_ratios = []\n",
    "recursive_p_approx_ratios = []\n",
    "\n",
    "for p in range(1,max_p+1):\n",
    "    m, r, ar = start_recursive_evaluation(max_cut, eval_num=eval_num, reps=p)\n",
    "    recursive_p_means.append(m)\n",
    "    recursive_p_ratios.append(r)\n",
    "    recursive_p_approx_ratios.append(ar)\n",
    "\n",
    "all_results[\"Recursive QAOA\"] = [recursive_p_means, recursive_p_ratios, recursive_p_approx_ratios]"
   ]
  },
  {
   "cell_type": "code",
   "execution_count": null,
   "id": "b80a02f4",
   "metadata": {
    "scrolled": true
   },
   "outputs": [],
   "source": [
    "display_boxplots_results(recursive_p_means, recursive_p_ratios, recursive_p_approx_ratios, prefix='Recursive ')"
   ]
  },
  {
   "cell_type": "markdown",
   "id": "fbb0287e",
   "metadata": {},
   "source": [
    "### Recursive WarmStart QAOA"
   ]
  },
  {
   "cell_type": "code",
   "execution_count": null,
   "id": "5e95ad06",
   "metadata": {},
   "outputs": [],
   "source": [
    "from recursive_ws_helper import *"
   ]
  },
  {
   "cell_type": "code",
   "execution_count": null,
   "id": "e4bfcc23",
   "metadata": {
    "scrolled": true
   },
   "outputs": [],
   "source": [
    "ws_recursive_p_means = []\n",
    "ws_recursive_p_ratios = []\n",
    "ws_recursive_p_approx_ratios = []\n",
    "\n",
    "for p in range(1,max_p+1):\n",
    "    opt_epsilon = ws_opt_epsilons[p-1]\n",
    "    m, r, ar = start_recursive_ws_qaoa_evaluation(max_cut, eval_num=eval_num, reps=p, epsilon=opt_epsilon)\n",
    "    ws_recursive_p_means.append(m)\n",
    "    ws_recursive_p_ratios.append(r)\n",
    "    ws_recursive_p_approx_ratios.append(ar)\n",
    "    \n",
    "all_results[\"Recursive WarmStrart QAOA\"] = [ws_recursive_p_means, ws_recursive_p_ratios, ws_recursive_p_approx_ratios, ws_opt_epsilons]"
   ]
  },
  {
   "cell_type": "code",
   "execution_count": null,
   "id": "22f48525",
   "metadata": {
    "scrolled": true
   },
   "outputs": [],
   "source": [
    "display_boxplots_results(ws_recursive_p_means, ws_recursive_p_ratios, ws_recursive_p_approx_ratios, prefix='Recursive WarmStart ')"
   ]
  },
  {
   "cell_type": "markdown",
   "id": "7aca63bf",
   "metadata": {},
   "source": [
    "## Results"
   ]
  },
  {
   "cell_type": "code",
   "execution_count": null,
   "id": "1c305b3f",
   "metadata": {},
   "outputs": [],
   "source": [
    "# Save results \n",
    "with open(f'comparison_simulator_{graph.name}_results.npy', 'wb') as f:\n",
    "    np.save(f, all_results)"
   ]
  },
  {
   "cell_type": "code",
   "execution_count": null,
   "id": "8de977d8",
   "metadata": {},
   "outputs": [],
   "source": [
    "from results_helper import *"
   ]
  },
  {
   "cell_type": "code",
   "execution_count": null,
   "id": "b10cf3de",
   "metadata": {},
   "outputs": [],
   "source": [
    "means_df, ratio_df, approx_ratios_df = generate_dataframes(all_results)"
   ]
  },
  {
   "cell_type": "markdown",
   "id": "448b298e",
   "metadata": {},
   "source": [
    "### Metric Mean"
   ]
  },
  {
   "cell_type": "code",
   "execution_count": null,
   "id": "b5d5bdc9",
   "metadata": {},
   "outputs": [],
   "source": [
    "means_df"
   ]
  },
  {
   "cell_type": "markdown",
   "id": "d6d34884",
   "metadata": {},
   "source": [
    "### Metric Ratio "
   ]
  },
  {
   "cell_type": "code",
   "execution_count": null,
   "id": "e168f59c",
   "metadata": {},
   "outputs": [],
   "source": [
    "ratio_df"
   ]
  },
  {
   "cell_type": "markdown",
   "id": "5fad5c44",
   "metadata": {},
   "source": [
    "### Metric Approximation Ratio"
   ]
  },
  {
   "cell_type": "code",
   "execution_count": null,
   "id": "fa10f1ed",
   "metadata": {},
   "outputs": [],
   "source": [
    "approx_ratios_df"
   ]
  },
  {
   "cell_type": "code",
   "execution_count": null,
   "id": "195c094e",
   "metadata": {},
   "outputs": [],
   "source": []
  }
 ],
 "metadata": {
  "kernelspec": {
   "display_name": "python3.8",
   "language": "python",
   "name": "python3.8"
  },
  "language_info": {
   "codemirror_mode": {
    "name": "ipython",
    "version": 3
   },
   "file_extension": ".py",
   "mimetype": "text/x-python",
   "name": "python",
   "nbconvert_exporter": "python",
   "pygments_lexer": "ipython3",
   "version": "3.8.6"
  }
 },
 "nbformat": 4,
 "nbformat_minor": 5
}
