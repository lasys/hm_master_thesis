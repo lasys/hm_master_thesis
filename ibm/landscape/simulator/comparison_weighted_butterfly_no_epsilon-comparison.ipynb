{
 "cells": [
  {
   "cell_type": "markdown",
   "id": "b048e3c8",
   "metadata": {},
   "source": [
    "# Comparison weighted butterfly (no epsilon)"
   ]
  },
  {
   "cell_type": "code",
   "execution_count": 1,
   "id": "907277f1",
   "metadata": {},
   "outputs": [],
   "source": [
    "import sys\n",
    "import os\n",
    "sys.path.insert(0, os.path.abspath('../'))\n",
    "sys.path.insert(0, os.path.abspath('../../'))\n",
    "sys.path.insert(0, os.path.abspath('/home/hm-tlacherm/qlm_notebooks/notebooks_1.2.1/notebooks/master_thesis_qaoa/'))\n",
    "sys.path.insert(0, os.path.abspath('/home/hm-tlacherm/qlm_notebooks/notebooks_1.2.1/notebooks/master_thesis_qaoa/ibm/'))\n",
    "sys.path.insert(0, os.path.abspath('/home/hm-tlacherm/qlm_notebooks/notebooks_1.2.1/notebooks/master_thesis_qaoa/ibm/landscape/'))\n",
    "sys.path.insert(0, os.path.abspath('/home/hm-tlacherm/qlm_notebooks/notebooks_1.2.1/notebooks/master_thesis_qaoa/ibm/landscape/simulator/'))"
   ]
  },
  {
   "cell_type": "code",
   "execution_count": 2,
   "id": "43ac9bb7",
   "metadata": {
    "scrolled": true
   },
   "outputs": [],
   "source": [
    "import numpy as np\n",
    "\n",
    "import qiskit\n",
    "provider = qiskit.IBMQ.load_account()\n",
    "from qiskit import Aer\n",
    "from qiskit.utils import QuantumInstance\n",
    "from qiskit_optimization.algorithms import MinimumEigenOptimizer\n",
    "from qiskit.algorithms import QAOA\n",
    "from shared.QiskitMaxcut import *\n",
    "from ibm.ibm_parameters import *\n",
    "\n",
    "from matplotlib import pyplot as plt\n",
    "%matplotlib inline\n",
    "\n",
    "from ibm_landscape_processes import *"
   ]
  },
  {
   "cell_type": "code",
   "execution_count": 3,
   "id": "10e48fea",
   "metadata": {},
   "outputs": [],
   "source": [
    "%load_ext autoreload\n",
    "%autoreload 2"
   ]
  },
  {
   "cell_type": "code",
   "execution_count": 4,
   "id": "94e5ddb0",
   "metadata": {
    "scrolled": true
   },
   "outputs": [
    {
     "data": {
      "image/png": "[encoded data removed]",
      "text/plain": [
       "<Figure size 432x288 with 1 Axes>"
      ]
     },
     "metadata": {},
     "output_type": "display_data"
    }
   ],
   "source": [
    "# ---- Define graph and MaxCut ----\n",
    "graph = generate_butterfly_graph(with_weights=True)\n",
    "opt_max_cut = -35\n",
    "max_cut = Maxcut(graph, opt_max_cut)\n",
    "max_cut_qubo = max_cut.to_qubo()\n",
    "max_cut.draw()"
   ]
  },
  {
   "cell_type": "code",
   "execution_count": null,
   "id": "a52913e1",
   "metadata": {},
   "outputs": [],
   "source": []
  },
  {
   "cell_type": "markdown",
   "id": "195926b2",
   "metadata": {},
   "source": [
    "# Display MaxCut-Landscape for p = 1"
   ]
  },
  {
   "cell_type": "code",
   "execution_count": 11,
   "id": "0390a8c8",
   "metadata": {},
   "outputs": [],
   "source": [
    "from landscape_helper import *"
   ]
  },
  {
   "cell_type": "code",
   "execution_count": 41,
   "id": "2c4247df",
   "metadata": {},
   "outputs": [
    {
     "ename": "TypeError",
     "evalue": "load_landscape_data() missing 1 required positional argument: 'max_cut'",
     "output_type": "error",
     "traceback": [
      "\u001b[0;31m---------------------------------------------------------------------------\u001b[0m",
      "\u001b[0;31mTypeError\u001b[0m                                 Traceback (most recent call last)",
      "\u001b[0;32m/tmp/ipykernel_2132803/797482690.py\u001b[0m in \u001b[0;36m<module>\u001b[0;34m\u001b[0m\n\u001b[0;32m----> 1\u001b[0;31m \u001b[0mlandscape\u001b[0m \u001b[0;34m=\u001b[0m \u001b[0mload_landscape_data\u001b[0m\u001b[0;34m(\u001b[0m\u001b[0;34m'/home/hm-tlacherm/qlm_notebooks/notebooks_1.2.1/notebooks/master_thesis_qaoa/ibm/landscape/simulator/landscape_simulator_butterfly_weights_results.npy'\u001b[0m\u001b[0;34m)\u001b[0m\u001b[0;34m\u001b[0m\u001b[0;34m\u001b[0m\u001b[0m\n\u001b[0m",
      "\u001b[0;31mTypeError\u001b[0m: load_landscape_data() missing 1 required positional argument: 'max_cut'"
     ]
    }
   ],
   "source": [
    "landscape = load_landscape_data('/home/hm-tlacherm/qlm_notebooks/notebooks_1.2.1/notebooks/master_thesis_qaoa/ibm/landscape/simulator/landscape_simulator_butterfly_weights_results.npy')"
   ]
  },
  {
   "cell_type": "code",
   "execution_count": null,
   "id": "5c5a9816",
   "metadata": {},
   "outputs": [],
   "source": [
    "min_gamma, min_beta, min_exp = describe_landscape(landscape)"
   ]
  },
  {
   "cell_type": "code",
   "execution_count": 12,
   "id": "bcbc5dcf",
   "metadata": {},
   "outputs": [],
   "source": [
    "from plot_helper import *"
   ]
  },
  {
   "cell_type": "code",
   "execution_count": null,
   "id": "11f240b2",
   "metadata": {},
   "outputs": [],
   "source": [
    "# Plot landscape in 3D \n",
    "plot_landscape_3d(landscape)"
   ]
  },
  {
   "cell_type": "code",
   "execution_count": null,
   "id": "b2d20406",
   "metadata": {
    "scrolled": false
   },
   "outputs": [],
   "source": [
    "# Plot Heatmap \n",
    "heatmap = plot_heatmap(landscape)\n",
    "heatmap = display_minimum(heatmap, min_gamma, min_beta, min_exp)"
   ]
  },
  {
   "cell_type": "markdown",
   "id": "f46c72e8",
   "metadata": {},
   "source": [
    "### Find init values with TQA"
   ]
  },
  {
   "cell_type": "code",
   "execution_count": 13,
   "id": "38c3f36a",
   "metadata": {},
   "outputs": [],
   "source": [
    "from tqa import calculate_tqa"
   ]
  },
  {
   "cell_type": "code",
   "execution_count": 49,
   "id": "036295a8",
   "metadata": {},
   "outputs": [],
   "source": [
    "p = 1"
   ]
  },
  {
   "cell_type": "code",
   "execution_count": 50,
   "id": "d4ae6da4",
   "metadata": {},
   "outputs": [
    {
     "name": "stdout",
     "output_type": "stream",
     "text": [
      "TQA: Gamma: [1.26507538], Beta: [1.26507538] (p=1)\n"
     ]
    }
   ],
   "source": [
    "tqa_initial_points = calculate_tqa(graph, p)"
   ]
  },
  {
   "cell_type": "markdown",
   "id": "6b78990f",
   "metadata": {},
   "source": [
    "#### Run QAOA with init_points, different optimizers and plot results "
   ]
  },
  {
   "cell_type": "code",
   "execution_count": 14,
   "id": "26b6e676",
   "metadata": {},
   "outputs": [],
   "source": [
    "from qaoa_helper import *"
   ]
  },
  {
   "cell_type": "code",
   "execution_count": null,
   "id": "d5bda418",
   "metadata": {},
   "outputs": [],
   "source": [
    "qnSpsa = QNSPSA(calculate_fidelity(create_qaoa(), max_cut_qubo), maxiter=50)\n",
    "optimizers = [\n",
    "    ('COBYLA',COBYLA(maxiter=50)),\n",
    "    ('SPSA', SPSA(maxiter=50)),\n",
    "    ('QNSPSA', qnSpsa),\n",
    "]"
   ]
  },
  {
   "cell_type": "code",
   "execution_count": null,
   "id": "9d97479c",
   "metadata": {
    "scrolled": true
   },
   "outputs": [],
   "source": [
    "for optimizer_tuple in optimizers:\n",
    "    optimizer_name, optimizer = optimizer_tuple\n",
    "    # create qaoa \n",
    "    qaoa = create_qaoa(optimizer = optimizer,\n",
    "            reps=p,\n",
    "            initial_point=tqa_initial_points,\n",
    "            with_callback=True\n",
    "           )\n",
    "    # run qaoa \n",
    "    result, optimal_parameters, optimizer_history = run_qaoa_with_callback(qaoa, max_cut_qubo)\n",
    "    \n",
    "    # analyse results \n",
    "    print(f\"{optimizer_name} Optimizer\")\n",
    "    mean, distribution = max_cut.analyse(result, print_output=True)\n",
    "    max_cut.plot_histogram(distribution, mean)\n",
    "    optimizer_history[2][-1] = mean\n",
    "    print()\n",
    "    \n",
    "    # Display Optimizer Results\n",
    "    counts, energy_values, maxcut_values, optimizer_gammas, optimizer_betas = optimizer_history\n",
    "    display_optimizer_path(heatmap, optimizer_gammas, optimizer_betas, maxcut_values, optimizer_name)\n",
    "    \n",
    "    # Plot Optimizer History MaxCut Evaluation # Values from landscape -> real values may deviate \n",
    "    plot_optimizer_maxcut_history(counts, maxcut_values, optimizer_name)\n",
    "    \n",
    "    # Plot Optimizer History Energy Evaluation -> not MaxCutMean! \n",
    "    plot_optimizer_energy_history(counts, energy_values, optimizer_name)\n",
    "    "
   ]
  },
  {
   "cell_type": "markdown",
   "id": "6566a79b",
   "metadata": {},
   "source": [
    "# Comparision"
   ]
  },
  {
   "cell_type": "markdown",
   "id": "0e4420b2",
   "metadata": {},
   "source": [
    "## Parameters"
   ]
  },
  {
   "cell_type": "code",
   "execution_count": 15,
   "id": "616006a8",
   "metadata": {},
   "outputs": [],
   "source": [
    "eval_num = 100\n",
    "max_p = 10\n",
    "all_results = {}"
   ]
  },
  {
   "cell_type": "markdown",
   "id": "eac78eb4",
   "metadata": {},
   "source": [
    "## QAOA"
   ]
  },
  {
   "cell_type": "code",
   "execution_count": 16,
   "id": "a3943620",
   "metadata": {},
   "outputs": [],
   "source": [
    "from qaoa_helper import *"
   ]
  },
  {
   "cell_type": "code",
   "execution_count": null,
   "id": "aa5abcd7",
   "metadata": {},
   "outputs": [],
   "source": [
    "qaoa_p_means = []\n",
    "qaoa_p_ratios = []\n",
    "qaoa_p_approx_ratios = []\n",
    "\n",
    "for p in range(1,max_p+1):\n",
    "    m, r, ar = start_qaoa_evaluation(max_cut, eval_num=eval_num, reps=p)\n",
    "    qaoa_p_means.append(m)\n",
    "    qaoa_p_ratios.append(r)\n",
    "    qaoa_p_approx_ratios.append(ar)\n",
    "\n",
    "all_results[\"QAOA\"] = [qaoa_p_means, qaoa_p_ratios, qaoa_p_approx_ratios]"
   ]
  },
  {
   "cell_type": "code",
   "execution_count": null,
   "id": "f539975d",
   "metadata": {
    "scrolled": true
   },
   "outputs": [],
   "source": [
    "display_boxplots_results(qaoa_p_means, qaoa_p_ratios, qaoa_p_approx_ratios)"
   ]
  },
  {
   "cell_type": "markdown",
   "id": "f36e3b6e",
   "metadata": {},
   "source": [
    "## QAOA with TQA"
   ]
  },
  {
   "cell_type": "code",
   "execution_count": 17,
   "id": "82f11416",
   "metadata": {},
   "outputs": [],
   "source": [
    "from qaoa_helper import *"
   ]
  },
  {
   "cell_type": "code",
   "execution_count": null,
   "id": "7f79b7a5",
   "metadata": {},
   "outputs": [],
   "source": [
    "tqa_p_means = []\n",
    "tqa_p_ratios = []\n",
    "tqa_p_approx_ratios = []\n",
    "tqa_init_points = []\n",
    "\n",
    "for p in range(1,max_p+1):\n",
    "    tqa_initial_points = calculate_tqa(graph, p)\n",
    "    m, r, ar = start_qaoa_evaluation(max_cut, eval_num=eval_num, reps=p, init_points=tqa_initial_points)\n",
    "    tqa_p_means.append(m)\n",
    "    tqa_p_ratios.append(r)\n",
    "    tqa_p_approx_ratios.append(ar)\n",
    "    tqa_init_points.append(tqa_initial_points)\n",
    "    \n",
    "all_results[\"TQA QAOA\"] = [tqa_p_means, tqa_p_ratios, tqa_p_approx_ratios, tqa_init_points]"
   ]
  },
  {
   "cell_type": "code",
   "execution_count": null,
   "id": "b380398e",
   "metadata": {
    "scrolled": true
   },
   "outputs": [],
   "source": [
    "display_boxplots_results(tqa_p_means, tqa_p_ratios, tqa_p_approx_ratios, prefix='TQA ')"
   ]
  },
  {
   "cell_type": "markdown",
   "id": "d7ec28c9",
   "metadata": {},
   "source": [
    "## WarmStart QAOA"
   ]
  },
  {
   "cell_type": "code",
   "execution_count": 18,
   "id": "c86b5dcb",
   "metadata": {},
   "outputs": [],
   "source": [
    "from warmstart_helper import *"
   ]
  },
  {
   "cell_type": "code",
   "execution_count": null,
   "id": "01760577",
   "metadata": {
    "scrolled": true
   },
   "outputs": [],
   "source": [
    "ws_p_means = []\n",
    "ws_p_ratios = []\n",
    "ws_p_approx_ratios = []\n",
    "ws_opt_epsilons = []\n",
    "\n",
    "for p in range(1,max_p+1):\n",
    "    opt_epsilon = 0.25 #optimize_epsilon(max_cut, reps=p)\n",
    "    m, r, ar = start_ws_qaoa_evaluation(max_cut, eval_num=eval_num, reps=p, epsilon=0.25)\n",
    "    ws_p_means.append(m)\n",
    "    ws_p_ratios.append(r)\n",
    "    ws_p_approx_ratios.append(ar)\n",
    "    ws_opt_epsilons.append(opt_epsilon)\n",
    "    \n",
    "all_results[\"WarmStart QAOA\"] = [ws_p_means, ws_p_ratios, ws_p_approx_ratios, ws_opt_epsilons]"
   ]
  },
  {
   "cell_type": "code",
   "execution_count": null,
   "id": "4a7f34ae",
   "metadata": {
    "scrolled": true
   },
   "outputs": [],
   "source": [
    "display_boxplots_results(ws_p_means, ws_p_ratios, ws_p_approx_ratios, prefix='WarmStart ')"
   ]
  },
  {
   "cell_type": "markdown",
   "id": "e3fe0c8f",
   "metadata": {},
   "source": [
    "### Recursive QAOA"
   ]
  },
  {
   "cell_type": "code",
   "execution_count": 19,
   "id": "75d13da2",
   "metadata": {},
   "outputs": [],
   "source": [
    "from recursive_qaoa_helper import *"
   ]
  },
  {
   "cell_type": "code",
   "execution_count": null,
   "id": "59ba3402",
   "metadata": {
    "scrolled": true
   },
   "outputs": [],
   "source": [
    "recursive_p_means = []\n",
    "recursive_p_ratios = []\n",
    "recursive_p_approx_ratios = []\n",
    "\n",
    "for p in range(1,max_p+1):\n",
    "    m, r, ar = start_recursive_evaluation(max_cut, eval_num=eval_num, reps=p)\n",
    "    recursive_p_means.append(m)\n",
    "    recursive_p_ratios.append(r)\n",
    "    recursive_p_approx_ratios.append(ar)\n",
    "\n",
    "all_results[\"Recursive QAOA\"] = [recursive_p_means, recursive_p_ratios, recursive_p_approx_ratios]"
   ]
  },
  {
   "cell_type": "code",
   "execution_count": null,
   "id": "7ff6c2d9",
   "metadata": {
    "scrolled": true
   },
   "outputs": [],
   "source": [
    "display_boxplots_results(recursive_p_means, recursive_p_ratios, recursive_p_approx_ratios, prefix='Recursive ')"
   ]
  },
  {
   "cell_type": "markdown",
   "id": "8c6851a4",
   "metadata": {},
   "source": [
    "### Recursive WarmStart QAOA"
   ]
  },
  {
   "cell_type": "code",
   "execution_count": 5,
   "id": "0b0c587b",
   "metadata": {},
   "outputs": [],
   "source": [
    "from recursive_ws_helper import *"
   ]
  },
  {
   "cell_type": "code",
   "execution_count": null,
   "id": "4c442616",
   "metadata": {
    "scrolled": true
   },
   "outputs": [],
   "source": [
    "ws_recursive_p_means = []\n",
    "ws_recursive_p_ratios = []\n",
    "ws_recursive_p_approx_ratios = []\n",
    "\n",
    "for p in range(1,max_p+1):\n",
    "    opt_epsilon = ws_opt_epsilons[p-1]\n",
    "    m, r, ar = start_recursive_ws_qaoa_evaluation(max_cut, eval_num=eval_num, reps=p, epsilon=opt_epsilon)\n",
    "    ws_recursive_p_means.append(m)\n",
    "    ws_recursive_p_ratios.append(r)\n",
    "    ws_recursive_p_approx_ratios.append(ar)\n",
    "    \n",
    "all_results[\"Recursive WarmStrart QAOA\"] = [ws_recursive_p_means, ws_recursive_p_ratios, ws_recursive_p_approx_ratios, ws_opt_epsilons]"
   ]
  },
  {
   "cell_type": "code",
   "execution_count": null,
   "id": "88052305",
   "metadata": {
    "scrolled": true
   },
   "outputs": [],
   "source": [
    "display_boxplots_results(ws_recursive_p_means, ws_recursive_p_ratios, ws_recursive_p_approx_ratios, prefix='Recursive WarmStart ')"
   ]
  },
  {
   "cell_type": "code",
   "execution_count": 99,
   "id": "1992b3c2",
   "metadata": {},
   "outputs": [
    {
     "data": {
      "image/png": "[encoded data removed]",
      "text/plain": [
       "<Figure size 432x288 with 1 Axes>"
      ]
     },
     "metadata": {
      "needs_background": "light"
     },
     "output_type": "display_data"
    },
    {
     "name": "stdout",
     "output_type": "stream",
     "text": [
      "ɛ=0.0\n",
      "mean: -24.70496287128712\n",
      "mean: -25.170499999999993\n"
     ]
    }
   ],
   "source": [
    "# GoemansWilliamsonOptimizer\n",
    "\n",
    "means = []\n",
    "eps = []\n",
    "#for e in range(100,-1, -1):\n",
    "for e in range(100,-1, -1):\n",
    "    epsi = e*0.005\n",
    "    # only add if opt_maxt_cut is found  \n",
    "    qaoa = create_qaoa(reps=2)\n",
    "    mean, found = run_epsilon_evaluation_ws_qaoa(max_cut, qaoa, epsilon=epsi, print_output=False)\n",
    "    if found: \n",
    "        means.append(mean)\n",
    "        eps.append(epsi)\n",
    "\n",
    "plt.plot(eps, means)\n",
    "plt.xlabel('ɛ')\n",
    "plt.ylabel('expectation value')\n",
    "plt.show()\n",
    "opt_eps = eps[ np.argmin(means) ]\n",
    "print(f\"ɛ={opt_eps}\")\n",
    "print(f\"mean: {np.mean(means)}\")\n",
    "print(f\"median: {np.median(means)}\")"
   ]
  },
  {
   "cell_type": "code",
   "execution_count": 101,
   "id": "962d5271",
   "metadata": {},
   "outputs": [
    {
     "data": {
      "image/png": "[encoded data removed]",
      "text/plain": [
       "<Figure size 432x288 with 1 Axes>"
      ]
     },
     "metadata": {
      "needs_background": "light"
     },
     "output_type": "display_data"
    },
    {
     "name": "stdout",
     "output_type": "stream",
     "text": [
      "ɛ=0.005\n",
      "mean: -24.0720275\n",
      "median: -24.277750000000005\n"
     ]
    }
   ],
   "source": [
    "\n",
    "#CobylaOptimizer\n",
    "means = []\n",
    "eps = []\n",
    "#for e in range(100,-1, -1):\n",
    "for e in range(100,-1, -1):\n",
    "    epsi = e*0.005\n",
    "    # only add if opt_maxt_cut is found  \n",
    "    qaoa = create_qaoa(reps=2)\n",
    "    mean, found = run_epsilon_evaluation_ws_qaoa(max_cut, qaoa, epsilon=epsi, print_output=False)\n",
    "    if found: \n",
    "        means.append(mean)\n",
    "        eps.append(epsi)\n",
    "\n",
    "plt.plot(eps, means)\n",
    "plt.xlabel('ɛ')\n",
    "plt.ylabel('expectation value')\n",
    "plt.show()\n",
    "opt_eps = eps[ np.argmin(means) ]\n",
    "print(f\"ɛ={opt_eps}\")\n",
    "print(f\"mean: {np.mean(means)}\")\n",
    "print(f\"median: {np.median(means)}\")"
   ]
  },
  {
   "cell_type": "code",
   "execution_count": 104,
   "id": "1206403b",
   "metadata": {},
   "outputs": [
    {
     "name": "stdout",
     "output_type": "stream",
     "text": [
      "0.5\n",
      "0.495\n",
      "0.49\n",
      "0.485\n",
      "0.485\n",
      "0.485\n",
      "0.47500000000000003\n",
      "0.47000000000000003\n",
      "0.465\n",
      "0.46\n",
      "0.455\n",
      "0.45\n",
      "0.45\n",
      "0.45\n",
      "0.435\n",
      "0.43\n",
      "0.43\n",
      "0.425\n",
      "0.42\n",
      "0.41500000000000004\n",
      "0.41500000000000004\n",
      "0.41000000000000003\n",
      "0.41000000000000003\n",
      "0.4\n",
      "0.395\n",
      "0.395\n",
      "0.39\n",
      "0.385\n",
      "0.37\n",
      "0.365\n",
      "0.35000000000000003\n",
      "0.35000000000000003\n",
      "0.34500000000000003\n",
      "0.34\n",
      "0.33\n",
      "0.315\n",
      "0.28500000000000003\n",
      "0.28\n",
      "0.27\n",
      "0.245\n",
      "0.23500000000000001\n",
      "0.225\n",
      "0.22\n",
      "0.215\n",
      "0.19\n",
      "0.17500000000000002\n",
      "0.16\n",
      "0.145\n",
      "0.14\n",
      "0.135\n",
      "0.115\n",
      "0.105\n"
     ]
    },
    {
     "data": {
      "image/png": "[encoded data removed]",
      "text/plain": [
       "<Figure size 432x288 with 1 Axes>"
      ]
     },
     "metadata": {
      "needs_background": "light"
     },
     "output_type": "display_data"
    },
    {
     "name": "stdout",
     "output_type": "stream",
     "text": [
      "ɛ=0.19\n"
     ]
    }
   ],
   "source": [
    "# Cobyla \n",
    "\n",
    "c_means = []\n",
    "c_eps = []\n",
    "#for e in range(100,-1, -1):\n",
    "for e in range(100,-1, -1):\n",
    "    epsi = e*0.005\n",
    "    # only add if opt_maxt_cut is found  \n",
    "    temp_means = []\n",
    "    for n in range(0,10):\n",
    "        qaoa = create_qaoa(reps=1)\n",
    "        try:\n",
    "            mean, r,ar = run_evaluation_recursive_ws_qaoa(max_cut, qaoa, epsilon=epsi, print_output=False)\n",
    "            temp_means.append(mean)\n",
    "            \n",
    "        except: \n",
    "            try:\n",
    "                mean, r,ar = run_evaluation_recursive_ws_qaoa(max_cut, qaoa, epsilon=epsi, print_output=False)\n",
    "                temp_means.append(mean)\n",
    "                \n",
    "            except: \n",
    "                print(f\"{epsi}\")\n",
    "    c_means.append(np.median(temp_means))\n",
    "    c_eps.append(epsi)\n",
    "\n",
    "\n",
    "plt.plot(c_eps, c_means)\n",
    "plt.xlabel('ɛ')\n",
    "plt.ylabel('expectation value')\n",
    "plt.show()\n",
    "opt_eps = c_eps[ np.argmin(c_means) ]\n",
    "print(f\"ɛ={opt_eps}\")"
   ]
  },
  {
   "cell_type": "code",
   "execution_count": 102,
   "id": "2dcc8d38",
   "metadata": {},
   "outputs": [
    {
     "data": {
      "image/png": "[encoded data removed]",
      "text/plain": [
       "<Figure size 432x288 with 1 Axes>"
      ]
     },
     "metadata": {
      "needs_background": "light"
     },
     "output_type": "display_data"
    },
    {
     "name": "stdout",
     "output_type": "stream",
     "text": [
      "ɛ=0.135\n"
     ]
    }
   ],
   "source": [
    "# GoemansWilliamsonOptimizer\n",
    "\n",
    "means = []\n",
    "eps = []\n",
    "#for e in range(100,-1, -1):\n",
    "for e in range(100,-1, -1):\n",
    "    epsi = e*0.005\n",
    "    # only add if opt_maxt_cut is found  \n",
    "    temp_means = []\n",
    "    for n in range(0,20):\n",
    "        qaoa = create_qaoa(reps=1)\n",
    "        try:\n",
    "            mean, r,ar = run_evaluation_recursive_ws_qaoa(max_cut, qaoa, epsilon=epsi, print_output=False)\n",
    "            temp_means.append(mean)\n",
    "            \n",
    "        except: \n",
    "            try:\n",
    "                mean, r,ar = run_evaluation_recursive_ws_qaoa(max_cut, qaoa, epsilon=epsi, print_output=False)\n",
    "                temp_means.append(mean)\n",
    "                \n",
    "            except: \n",
    "                print(f\"{epsi}\")\n",
    "    means.append(np.median(temp_means))\n",
    "    eps.append(epsi)\n",
    "\n",
    "\n",
    "plt.plot(eps, means)\n",
    "plt.xlabel('ɛ')\n",
    "plt.ylabel('expectation value')\n",
    "plt.show()\n",
    "opt_eps = eps[ np.argmin(means) ]\n",
    "print(f\"ɛ={opt_eps}\")"
   ]
  },
  {
   "cell_type": "code",
   "execution_count": 6,
   "id": "5882aaa0",
   "metadata": {},
   "outputs": [
    {
     "data": {
      "image/png": "[encoded data removed]",
      "text/plain": [
       "<Figure size 432x288 with 1 Axes>"
      ]
     },
     "metadata": {
      "needs_background": "light"
     },
     "output_type": "display_data"
    },
    {
     "name": "stdout",
     "output_type": "stream",
     "text": [
      "ɛ=0.44\n"
     ]
    }
   ],
   "source": [
    "# GoemansWilliamsonOptimizer\n",
    "\n",
    "means = []\n",
    "eps = []\n",
    "#for e in range(100,-1, -1):\n",
    "for e in range(100,-1, -1):\n",
    "    epsi = e*0.005\n",
    "    # only add if opt_maxt_cut is found  \n",
    "    temp_means = []\n",
    "    for n in range(0,20):\n",
    "        qaoa = create_qaoa(reps=1)\n",
    "        try:\n",
    "            mean, r,ar = run_evaluation_recursive_ws_qaoa(max_cut, qaoa, epsilon=epsi, print_output=False)\n",
    "            temp_means.append(ar)\n",
    "            \n",
    "        except: \n",
    "            try:\n",
    "                mean, r,ar = run_evaluation_recursive_ws_qaoa(max_cut, qaoa, epsilon=epsi, print_output=False)\n",
    "                temp_means.append(ar)\n",
    "                \n",
    "            except: \n",
    "                print(f\"{epsi}\")\n",
    "    means.append(np.median(temp_means))\n",
    "    eps.append(epsi)\n",
    "\n",
    "\n",
    "plt.plot(eps, means)\n",
    "plt.xlabel('ɛ')\n",
    "plt.ylabel('approximation ratio')\n",
    "plt.show()\n",
    "opt_eps = eps[ np.argmin(means) ]\n",
    "print(f\"ɛ={opt_eps}\")"
   ]
  },
  {
   "cell_type": "code",
   "execution_count": 90,
   "id": "4b51a5db",
   "metadata": {
    "scrolled": false
   },
   "outputs": [
    {
     "name": "stdout",
     "output_type": "stream",
     "text": [
      "dict_items([(ParameterVectorElement(β[0]), ParameterVectorElement(β[0])), (ParameterVectorElement(β[1]), ParameterVectorElement(β[1])), (ParameterVectorElement(γ[0]), ParameterVectorElement(γ[0])), (ParameterVectorElement(γ[1]), ParameterVectorElement(γ[1]))])\n",
      "β[0]\n",
      "Don't use mitiq\n",
      "[5. 5. 1. 1.]\n",
      "Algorithm: Mitiq_QAOA\n",
      "-- reps: 2\n",
      "-- mixer:      ┌───────┐ ┌───────────────┐┌───────┐\n",
      "q_0: ┤ Ry(0) ├─┤ Rz(-2.0*beta) ├┤ Ry(0) ├\n",
      "     ├───────┤ ├───────────────┤├───────┤\n",
      "q_1: ┤ Ry(0) ├─┤ Rz(-2.0*beta) ├┤ Ry(0) ├\n",
      "     ├───────┤ ├───────────────┤├───────┤\n",
      "q_2: ┤ Ry(0) ├─┤ Rz(-2.0*beta) ├┤ Ry(0) ├\n",
      "     ├───────┤ ├───────────────┤├───────┤\n",
      "q_3: ┤ Ry(0) ├─┤ Rz(-2.0*beta) ├┤ Ry(0) ├\n",
      "     ├───────┴┐├───────────────┤├───────┤\n",
      "q_4: ┤ Ry(-π) ├┤ Rz(-2.0*beta) ├┤ Ry(π) ├\n",
      "     └────────┘└───────────────┘└───────┘\n",
      "-- initial_state:      ┌───────┐\n",
      "q_0: ┤ Ry(0) ├\n",
      "     ├───────┤\n",
      "q_1: ┤ Ry(0) ├\n",
      "     ├───────┤\n",
      "q_2: ┤ Ry(0) ├\n",
      "     ├───────┤\n",
      "q_3: ┤ Ry(0) ├\n",
      "     ├───────┤\n",
      "q_4: ┤ Ry(π) ├\n",
      "     └───────┘\n",
      "-- quantum_instance: \n",
      "Qiskit Terra version: 0.18.1\n",
      "Backend: 'qasm_simulator (AerProvider)', with following setting:\n",
      "{'basis_gates': ['ccx', 'cp', 'cswap', 'csx', 'cu1', 'cu2', 'cu3', 'cx', 'cy', 'cz', 'delay', 'diagonal', 'h', 'id', 'initialize', 'mcphase', 'mcr', 'mcrx', 'mcry', 'mcrz', 'mcswap', 'mcsx', 'mcu1', 'mcu2', 'mcu3', 'mcx', 'mcx_gray', 'mcy', 'mcz', 'multiplexer', 'p', 'pauli', 'r', 'rx', 'rxx', 'ry', 'ryy', 'rz', 'rzx', 'rzz', 's', 'sdg', 'swap', 'sx', 't', 'tdg', 'u', 'u1', 'u2', 'u3', 'unitary', 'x', 'y', 'z', 'kraus', 'roerror', 'save_amplitudes', 'save_amplitudes_sq', 'save_density_matrix', 'save_expval', 'save_expval_var', 'save_probabilities', 'save_probabilities_dict', 'save_stabilizer', 'save_state', 'save_statevector', 'save_statevector_dict', 'set_density_matrix', 'set_stabilizer', 'set_statevector', 'snapshot'], 'coupling_map': None}\n",
      "{'initial_layout': None, 'seed_transpiler': None, 'optimization_level': None}\n",
      "RunConfig(max_credits=10, shots=8000)\n",
      "{'timeout': None}\n",
      "{}\n",
      "{}\n",
      "Measurement mitigation: None\n",
      "-- optimizer: <qiskit.algorithms.optimizers.cobyla.COBYLA object at 0x14fddd5da0a0>\n",
      "-- gradient: None\n",
      "-- cost_fn: None\n",
      "-- initial_point: [5.0, 5, 1, 1.0]\n",
      "-- ansatz:      ┌───────┐     ┌───┐┌──────────────┐     ┌───┐┌───┐┌──────────────┐┌───┐»\n",
      "q_0: ┤ Ry(0) ├─────┤ X ├┤ Rz(1.0*γ[0]) ├─────┤ X ├┤ X ├┤ Rz(1.0*γ[0]) ├┤ X ├»\n",
      "     ├───────┤┌───┐└─┬─┘├──────────────┤┌───┐└─┬─┘└─┬─┘└──────────────┘└─┬─┘»\n",
      "q_1: ┤ Ry(0) ├┤ X ├──┼──┤ Rz(1.0*γ[0]) ├┤ X ├──┼────┼────────────────────┼──»\n",
      "     ├───────┤└─┬─┘  │  └──────────────┘└─┬─┘  │    │                    │  »\n",
      "q_2: ┤ Ry(0) ├──■────┼────────────────────■────┼────┼────────────────────┼──»\n",
      "     ├───────┤       │                         │    │                    │  »\n",
      "q_3: ┤ Ry(0) ├───────■─────────────────────────■────┼────────────────────┼──»\n",
      "     ├───────┤                                      │                    │  »\n",
      "q_4: ┤ Ry(π) ├──────────────────────────────────────■────────────────────■──»\n",
      "     └───────┘                                                              »\n",
      "«     ┌───────┐┌───────────────┐┌───────┐                                   »\n",
      "«q_0: ┤ Ry(0) ├┤ Rz(-2.0*β[0]) ├┤ Ry(0) ├───────────────────────────────────»\n",
      "«     └─┬───┬─┘└┬──────────────┤└─┬───┬─┘┌───────┐┌───────────────┐┌───────┐»\n",
      "«q_1: ──┤ X ├───┤ Rz(1.0*γ[0]) ├──┤ X ├──┤ Ry(0) ├┤ Rz(-2.0*β[0]) ├┤ Ry(0) ├»\n",
      "«       └─┬─┘   └──────────────┘  └─┬─┘  └─┬───┬─┘└┬──────────────┤└─┬───┬─┘»\n",
      "«q_2: ────┼─────────────────────────┼──────┤ X ├───┤ Rz(1.0*γ[0]) ├──┤ X ├──»\n",
      "«         │                         │      └─┬─┘   └──────────────┘  └─┬─┘  »\n",
      "«q_3: ────┼─────────────────────────┼────────┼─────────────────────────┼────»\n",
      "«         │                         │        │                         │    »\n",
      "«q_4: ────■─────────────────────────■────────■─────────────────────────■────»\n",
      "«                                                                           »\n",
      "«                                                                            »\n",
      "«q_0: ───────────────────────────────────────────────────────────────────────»\n",
      "«                                          ┌───┐    ┌──────────────┐  ┌───┐  »\n",
      "«q_1: ─────────────────────────────────────┤ X ├────┤ Rz(1.0*γ[1]) ├──┤ X ├──»\n",
      "«     ┌───────┐┌───────────────┐┌───────┐  └─┬─┘    └──────────────┘  └─┬─┘  »\n",
      "«q_2: ┤ Ry(0) ├┤ Rz(-2.0*β[0]) ├┤ Ry(0) ├────■──────────────────────────■────»\n",
      "«     └─┬───┬─┘└┬──────────────┤└─┬───┬─┘┌───────┐ ┌───────────────┐┌───────┐»\n",
      "«q_3: ──┤ X ├───┤ Rz(1.0*γ[0]) ├──┤ X ├──┤ Ry(0) ├─┤ Rz(-2.0*β[0]) ├┤ Ry(0) ├»\n",
      "«       └─┬─┘   └──────────────┘  └─┬─┘  ├───────┴┐├───────────────┤├───────┤»\n",
      "«q_4: ────■─────────────────────────■────┤ Ry(-π) ├┤ Rz(-2.0*β[0]) ├┤ Ry(π) ├»\n",
      "«                                        └────────┘└───────────────┘└───────┘»\n",
      "«     ┌───┐┌──────────────┐┌───┐┌───┐┌──────────────┐┌───┐┌───────┐»\n",
      "«q_0: ┤ X ├┤ Rz(1.0*γ[1]) ├┤ X ├┤ X ├┤ Rz(1.0*γ[1]) ├┤ X ├┤ Ry(0) ├»\n",
      "«     └─┬─┘└──────────────┘└─┬─┘└─┬─┘└──────────────┘└─┬─┘└─┬───┬─┘»\n",
      "«q_1: ──┼────────────────────┼────┼────────────────────┼────┤ X ├──»\n",
      "«       │                    │    │                    │    └─┬─┘  »\n",
      "«q_2: ──┼────────────────────┼────┼────────────────────┼──────┼────»\n",
      "«       │                    │    │                    │      │    »\n",
      "«q_3: ──■────────────────────■────┼────────────────────┼──────┼────»\n",
      "«                                 │                    │      │    »\n",
      "«q_4: ────────────────────────────■────────────────────■──────■────»\n",
      "«                                                                  »\n",
      "«     ┌───────────────┐┌───────┐                                            »\n",
      "«q_0: ┤ Rz(-2.0*β[1]) ├┤ Ry(0) ├────────────────────────────────────────────»\n",
      "«     └┬──────────────┤└─┬───┬─┘┌───────┐┌───────────────┐┌───────┐         »\n",
      "«q_1: ─┤ Rz(1.0*γ[1]) ├──┤ X ├──┤ Ry(0) ├┤ Rz(-2.0*β[1]) ├┤ Ry(0) ├─────────»\n",
      "«      └──────────────┘  └─┬─┘  └─┬───┬─┘└┬──────────────┤└─┬───┬─┘┌───────┐»\n",
      "«q_2: ─────────────────────┼──────┤ X ├───┤ Rz(1.0*γ[1]) ├──┤ X ├──┤ Ry(0) ├»\n",
      "«                          │      └─┬─┘   └──────────────┘  └─┬─┘  └─┬───┬─┘»\n",
      "«q_3: ─────────────────────┼────────┼─────────────────────────┼──────┤ X ├──»\n",
      "«                          │        │                         │      └─┬─┘  »\n",
      "«q_4: ─────────────────────■────────■─────────────────────────■────────■────»\n",
      "«                                                                           »\n",
      "«                                                                   \n",
      "«q_0: ──────────────────────────────────────────────────────────────\n",
      "«                                                                   \n",
      "«q_1: ──────────────────────────────────────────────────────────────\n",
      "«     ┌───────────────┐┌───────┐                                    \n",
      "«q_2: ┤ Rz(-2.0*β[1]) ├┤ Ry(0) ├────────────────────────────────────\n",
      "«     └┬──────────────┤└─┬───┬─┘┌───────┐ ┌───────────────┐┌───────┐\n",
      "«q_3: ─┤ Rz(1.0*γ[1]) ├──┤ X ├──┤ Ry(0) ├─┤ Rz(-2.0*β[1]) ├┤ Ry(0) ├\n",
      "«      └──────────────┘  └─┬─┘  ├───────┴┐├───────────────┤├───────┤\n",
      "«q_4: ─────────────────────■────┤ Ry(-π) ├┤ Rz(-2.0*β[1]) ├┤ Ry(π) ├\n",
      "«                               └────────┘└───────────────┘└───────┘\n",
      "-- ansatz_params: [ParameterVectorElement(β[0]), ParameterVectorElement(β[1]), ParameterVectorElement(γ[0]), ParameterVectorElement(γ[1])]\n",
      "-- parameterized_circuits: None\n",
      "-- max_evals_grouped: 1\n",
      "-- circuit_sampler: <qiskit.opflow.converters.circuit_sampler.CircuitSampler object at 0x14fdaca2c100>\n",
      "-- expectation: None\n",
      "-- include_custom: False\n",
      "-- sort_parameters_by_name: None\n",
      "-- eval_time: None\n",
      "-- eval_count: 1\n",
      "-- callback: None\n",
      "-- ret: {   'aux_operator_eigenvalues': None,\n",
      "    'cost_function_evals': 1,\n",
      "    'eigenstate': {'10000': 1.0},\n",
      "    'eigenvalue': (-1+0j),\n",
      "    'optimal_parameters': {   ParameterVectorElement(γ[1]): 1.0,\n",
      "                              ParameterVectorElement(β[1]): 5.0,\n",
      "                              ParameterVectorElement(γ[0]): 1.0,\n",
      "                              ParameterVectorElement(β[0]): 5.0},\n",
      "    'optimal_point': array([5., 5., 1., 1.]),\n",
      "    'optimal_value': -1.0,\n",
      "    'optimizer_evals': None,\n",
      "    'optimizer_time': 0.04439854621887207}\n",
      "\n"
     ]
    },
    {
     "ename": "AttributeError",
     "evalue": "'QuadraticProgram' object has no attribute 'num_qubits'",
     "output_type": "error",
     "traceback": [
      "\u001b[0;31m---------------------------------------------------------------------------\u001b[0m",
      "\u001b[0;31mAttributeError\u001b[0m                            Traceback (most recent call last)",
      "\u001b[0;32m/tmp/ipykernel_2132803/3399316640.py\u001b[0m in \u001b[0;36m<module>\u001b[0;34m\u001b[0m\n\u001b[1;32m      4\u001b[0m \u001b[0mprint\u001b[0m\u001b[0;34m(\u001b[0m\u001b[0mqaoa\u001b[0m\u001b[0;34m.\u001b[0m\u001b[0moptimal_params\u001b[0m\u001b[0;34m)\u001b[0m\u001b[0;34m\u001b[0m\u001b[0;34m\u001b[0m\u001b[0m\n\u001b[1;32m      5\u001b[0m \u001b[0mprint\u001b[0m\u001b[0;34m(\u001b[0m\u001b[0mqaoa\u001b[0m\u001b[0;34m.\u001b[0m\u001b[0msetting\u001b[0m\u001b[0;34m)\u001b[0m\u001b[0;34m\u001b[0m\u001b[0;34m\u001b[0m\u001b[0m\n\u001b[0;32m----> 6\u001b[0;31m \u001b[0mqaoa\u001b[0m\u001b[0;34m.\u001b[0m\u001b[0mcompute_minimum_eigenvalue\u001b[0m\u001b[0;34m(\u001b[0m\u001b[0mmax_cut_qubo\u001b[0m\u001b[0;34m)\u001b[0m\u001b[0;34m\u001b[0m\u001b[0;34m\u001b[0m\u001b[0m\n\u001b[0m",
      "\u001b[0;32m~/qlm_notebooks/notebooks_1.2.1/notebooks/master_thesis_qaoa/shared/Mitiq_VQE.py\u001b[0m in \u001b[0;36mcompute_minimum_eigenvalue\u001b[0;34m(self, operator, aux_operators)\u001b[0m\n\u001b[1;32m    480\u001b[0m         \u001b[0;31m# this sets the size of the ansatz, so it must be called before the initial point\u001b[0m\u001b[0;34m\u001b[0m\u001b[0;34m\u001b[0m\u001b[0;34m\u001b[0m\u001b[0m\n\u001b[1;32m    481\u001b[0m         \u001b[0;31m# validation\u001b[0m\u001b[0;34m\u001b[0m\u001b[0;34m\u001b[0m\u001b[0;34m\u001b[0m\u001b[0m\n\u001b[0;32m--> 482\u001b[0;31m         \u001b[0mself\u001b[0m\u001b[0;34m.\u001b[0m\u001b[0m_check_operator_ansatz\u001b[0m\u001b[0;34m(\u001b[0m\u001b[0moperator\u001b[0m\u001b[0;34m)\u001b[0m\u001b[0;34m\u001b[0m\u001b[0;34m\u001b[0m\u001b[0m\n\u001b[0m\u001b[1;32m    483\u001b[0m \u001b[0;34m\u001b[0m\u001b[0m\n\u001b[1;32m    484\u001b[0m         \u001b[0;31m# set an expectation for this algorithm run (will be reset to None at the end)\u001b[0m\u001b[0;34m\u001b[0m\u001b[0;34m\u001b[0m\u001b[0;34m\u001b[0m\u001b[0m\n",
      "\u001b[0;32m~/qlm_notebooks/notebooks_1.2.1/notebooks/master_thesis_qaoa/shared/Mitiq_QAOA.py\u001b[0m in \u001b[0;36m_check_operator_ansatz\u001b[0;34m(self, operator)\u001b[0m\n\u001b[1;32m    132\u001b[0m     \u001b[0;32mdef\u001b[0m \u001b[0m_check_operator_ansatz\u001b[0m\u001b[0;34m(\u001b[0m\u001b[0mself\u001b[0m\u001b[0;34m,\u001b[0m \u001b[0moperator\u001b[0m\u001b[0;34m:\u001b[0m \u001b[0mOperatorBase\u001b[0m\u001b[0;34m)\u001b[0m \u001b[0;34m->\u001b[0m \u001b[0mOperatorBase\u001b[0m\u001b[0;34m:\u001b[0m\u001b[0;34m\u001b[0m\u001b[0;34m\u001b[0m\u001b[0m\n\u001b[1;32m    133\u001b[0m         \u001b[0;31m# Recreates a circuit based on operator parameter.\u001b[0m\u001b[0;34m\u001b[0m\u001b[0;34m\u001b[0m\u001b[0;34m\u001b[0m\u001b[0m\n\u001b[0;32m--> 134\u001b[0;31m         \u001b[0;32mif\u001b[0m \u001b[0moperator\u001b[0m\u001b[0;34m.\u001b[0m\u001b[0mnum_qubits\u001b[0m \u001b[0;34m!=\u001b[0m \u001b[0mself\u001b[0m\u001b[0;34m.\u001b[0m\u001b[0mansatz\u001b[0m\u001b[0;34m.\u001b[0m\u001b[0mnum_qubits\u001b[0m\u001b[0;34m:\u001b[0m\u001b[0;34m\u001b[0m\u001b[0;34m\u001b[0m\u001b[0m\n\u001b[0m\u001b[1;32m    135\u001b[0m             self.ansatz = QAOAAnsatz(\n\u001b[1;32m    136\u001b[0m                 \u001b[0moperator\u001b[0m\u001b[0;34m,\u001b[0m \u001b[0mself\u001b[0m\u001b[0;34m.\u001b[0m\u001b[0m_reps\u001b[0m\u001b[0;34m,\u001b[0m \u001b[0minitial_state\u001b[0m\u001b[0;34m=\u001b[0m\u001b[0mself\u001b[0m\u001b[0;34m.\u001b[0m\u001b[0m_initial_state\u001b[0m\u001b[0;34m,\u001b[0m \u001b[0mmixer_operator\u001b[0m\u001b[0;34m=\u001b[0m\u001b[0mself\u001b[0m\u001b[0;34m.\u001b[0m\u001b[0m_mixer\u001b[0m\u001b[0;34m\u001b[0m\u001b[0;34m\u001b[0m\u001b[0m\n",
      "\u001b[0;31mAttributeError\u001b[0m: 'QuadraticProgram' object has no attribute 'num_qubits'"
     ]
    }
   ],
   "source": [
    "qaoa = create_qaoa(reps=2, initial_point= [5.,5, 1,1.0])\n",
    "ws = WarmStartQAOAOptimizer(pre_solver=GoemansWilliamsonOptimizer(5), relax_for_pre_solver=False, qaoa=qaoa, epsilon=0.0)\n",
    "result = ws.solve(max_cut_qubo)\n",
    "print(qaoa.optimal_params)\n",
    "print(qaoa.setting)"
   ]
  },
  {
   "cell_type": "code",
   "execution_count": 23,
   "id": "ddc9eefa",
   "metadata": {},
   "outputs": [
    {
     "data": {
      "text/plain": [
       "[-21.0,\n",
       " -23.3,\n",
       " -24.9,\n",
       " -22.4,\n",
       " -24.1,\n",
       " -23.0,\n",
       " -20.2,\n",
       " -12.3,\n",
       " -22.5,\n",
       " -21.6,\n",
       " -24.4,\n",
       " -20.5,\n",
       " -24.3,\n",
       " -27.7,\n",
       " -26.7,\n",
       " -20.7,\n",
       " -29.5,\n",
       " -27.6,\n",
       " -28.4,\n",
       " -24.5,\n",
       " -15.4,\n",
       " -19.4,\n",
       " -24.2,\n",
       " -29.8,\n",
       " -29.9,\n",
       " -27.3,\n",
       " -27.5,\n",
       " -26.0,\n",
       " -21.8,\n",
       " -29.3,\n",
       " -27.6,\n",
       " -20.7,\n",
       " -29.0,\n",
       " -29.4,\n",
       " -26.1,\n",
       " -28.0,\n",
       " -28.3,\n",
       " -23.7,\n",
       " -29.5,\n",
       " -28.9,\n",
       " -33.6,\n",
       " -32.7,\n",
       " -28.1,\n",
       " -26.3,\n",
       " -33.5,\n",
       " -30.3,\n",
       " -28.0,\n",
       " -30.7,\n",
       " -31.8,\n",
       " -26.0,\n",
       " -30.0,\n",
       " -31.5,\n",
       " -26.6,\n",
       " -32.1,\n",
       " -31.7,\n",
       " -30.6,\n",
       " -33.6,\n",
       " -29.1,\n",
       " -29.8,\n",
       " -34.2,\n",
       " -29.5,\n",
       " -32.2,\n",
       " -28.0,\n",
       " -28.0,\n",
       " -31.4,\n",
       " -32.5,\n",
       " -30.9,\n",
       " -28.7,\n",
       " -33.8,\n",
       " -33.0,\n",
       " -29.3,\n",
       " -29.0,\n",
       " -29.8,\n",
       " -33.4,\n",
       " -30.9,\n",
       " -29.3,\n",
       " -32.7,\n",
       " -30.8,\n",
       " -32.1,\n",
       " -31.9,\n",
       " -28.4,\n",
       " -33.9,\n",
       " -32.2,\n",
       " -32.2,\n",
       " -32.8,\n",
       " -31.7,\n",
       " -32.8,\n",
       " -35.0,\n",
       " -34.1,\n",
       " -35.0,\n",
       " -35.0,\n",
       " -34.7,\n",
       " -35.0,\n",
       " -34.7,\n",
       " -34.7,\n",
       " -34.4,\n",
       " -35.0,\n",
       " -34.4,\n",
       " -34.4,\n",
       " -34.7,\n",
       " -35.0]"
      ]
     },
     "execution_count": 23,
     "metadata": {},
     "output_type": "execute_result"
    }
   ],
   "source": [
    "means"
   ]
  },
  {
   "cell_type": "markdown",
   "id": "6c41522b",
   "metadata": {},
   "source": [
    "## Results"
   ]
  },
  {
   "cell_type": "code",
   "execution_count": null,
   "id": "3057f95e",
   "metadata": {},
   "outputs": [],
   "source": [
    "# Save results \n",
    "with open(f'comparison_simulator_{graph.name}_no_epsilon_results.npy', 'wb') as f:\n",
    "    np.save(f, all_results)"
   ]
  },
  {
   "cell_type": "code",
   "execution_count": 21,
   "id": "673aa0c1",
   "metadata": {},
   "outputs": [],
   "source": [
    "from results_helper import *"
   ]
  },
  {
   "cell_type": "code",
   "execution_count": 82,
   "id": "eb8ea3cc",
   "metadata": {
    "scrolled": true
   },
   "outputs": [],
   "source": [
    "means_df, ratio_df, approx_ratios_df = generate_dataframes(all_results)"
   ]
  },
  {
   "cell_type": "markdown",
   "id": "4ac9b509",
   "metadata": {},
   "source": [
    "### Metric Mean"
   ]
  },
  {
   "cell_type": "code",
   "execution_count": 83,
   "id": "bb35e381",
   "metadata": {},
   "outputs": [
    {
     "data": {
      "text/html": [
       "<div>\n",
       "<style scoped>\n",
       "    .dataframe tbody tr th:only-of-type {\n",
       "        vertical-align: middle;\n",
       "    }\n",
       "\n",
       "    .dataframe tbody tr th {\n",
       "        vertical-align: top;\n",
       "    }\n",
       "\n",
       "    .dataframe thead th {\n",
       "        text-align: right;\n",
       "    }\n",
       "</style>\n",
       "<table border=\"1\" class=\"dataframe\">\n",
       "  <thead>\n",
       "    <tr style=\"text-align: right;\">\n",
       "      <th></th>\n",
       "      <th>QAOA</th>\n",
       "      <th>TQA QAOA</th>\n",
       "      <th>WarmStart QAOA</th>\n",
       "      <th>Recursive QAOA</th>\n",
       "      <th>Recursive WarmStrart QAOA</th>\n",
       "    </tr>\n",
       "    <tr>\n",
       "      <th>p</th>\n",
       "      <th></th>\n",
       "      <th></th>\n",
       "      <th></th>\n",
       "      <th></th>\n",
       "      <th></th>\n",
       "    </tr>\n",
       "  </thead>\n",
       "  <tbody>\n",
       "    <tr>\n",
       "      <th>1</th>\n",
       "      <td>-30.51</td>\n",
       "      <td>-28.85</td>\n",
       "      <td>-29.34</td>\n",
       "      <td>-34.57</td>\n",
       "      <td>-34.68</td>\n",
       "    </tr>\n",
       "    <tr>\n",
       "      <th>2</th>\n",
       "      <td>-30.65</td>\n",
       "      <td>-29.14</td>\n",
       "      <td>-29.40</td>\n",
       "      <td>-34.55</td>\n",
       "      <td>-34.61</td>\n",
       "    </tr>\n",
       "    <tr>\n",
       "      <th>3</th>\n",
       "      <td>-30.86</td>\n",
       "      <td>-31.69</td>\n",
       "      <td>-29.73</td>\n",
       "      <td>-34.62</td>\n",
       "      <td>-34.64</td>\n",
       "    </tr>\n",
       "    <tr>\n",
       "      <th>4</th>\n",
       "      <td>-30.95</td>\n",
       "      <td>-31.95</td>\n",
       "      <td>-29.52</td>\n",
       "      <td>-34.71</td>\n",
       "      <td>-34.74</td>\n",
       "    </tr>\n",
       "    <tr>\n",
       "      <th>5</th>\n",
       "      <td>-30.99</td>\n",
       "      <td>-30.73</td>\n",
       "      <td>-29.51</td>\n",
       "      <td>-34.66</td>\n",
       "      <td>-34.69</td>\n",
       "    </tr>\n",
       "    <tr>\n",
       "      <th>6</th>\n",
       "      <td>-30.50</td>\n",
       "      <td>-30.54</td>\n",
       "      <td>-29.14</td>\n",
       "      <td>-34.82</td>\n",
       "      <td>-34.75</td>\n",
       "    </tr>\n",
       "    <tr>\n",
       "      <th>7</th>\n",
       "      <td>-30.69</td>\n",
       "      <td>-31.25</td>\n",
       "      <td>-28.98</td>\n",
       "      <td>-34.74</td>\n",
       "      <td>-34.63</td>\n",
       "    </tr>\n",
       "    <tr>\n",
       "      <th>8</th>\n",
       "      <td>-30.20</td>\n",
       "      <td>-29.67</td>\n",
       "      <td>-28.85</td>\n",
       "      <td>-34.73</td>\n",
       "      <td>-34.62</td>\n",
       "    </tr>\n",
       "    <tr>\n",
       "      <th>9</th>\n",
       "      <td>-30.04</td>\n",
       "      <td>-31.84</td>\n",
       "      <td>-28.49</td>\n",
       "      <td>-34.72</td>\n",
       "      <td>-34.56</td>\n",
       "    </tr>\n",
       "    <tr>\n",
       "      <th>10</th>\n",
       "      <td>-29.87</td>\n",
       "      <td>-29.54</td>\n",
       "      <td>-28.45</td>\n",
       "      <td>-34.53</td>\n",
       "      <td>-34.50</td>\n",
       "    </tr>\n",
       "  </tbody>\n",
       "</table>\n",
       "</div>"
      ],
      "text/plain": [
       "     QAOA  TQA QAOA  WarmStart QAOA  Recursive QAOA  Recursive WarmStrart QAOA\n",
       "p                                                                             \n",
       "1  -30.51    -28.85          -29.34          -34.57                     -34.68\n",
       "2  -30.65    -29.14          -29.40          -34.55                     -34.61\n",
       "3  -30.86    -31.69          -29.73          -34.62                     -34.64\n",
       "4  -30.95    -31.95          -29.52          -34.71                     -34.74\n",
       "5  -30.99    -30.73          -29.51          -34.66                     -34.69\n",
       "6  -30.50    -30.54          -29.14          -34.82                     -34.75\n",
       "7  -30.69    -31.25          -28.98          -34.74                     -34.63\n",
       "8  -30.20    -29.67          -28.85          -34.73                     -34.62\n",
       "9  -30.04    -31.84          -28.49          -34.72                     -34.56\n",
       "10 -29.87    -29.54          -28.45          -34.53                     -34.50"
      ]
     },
     "execution_count": 83,
     "metadata": {},
     "output_type": "execute_result"
    }
   ],
   "source": [
    "means_df"
   ]
  },
  {
   "cell_type": "markdown",
   "id": "d6ba3b60",
   "metadata": {},
   "source": [
    "### Metric Ratio "
   ]
  },
  {
   "cell_type": "code",
   "execution_count": 84,
   "id": "a4414ba6",
   "metadata": {},
   "outputs": [
    {
     "data": {
      "text/html": [
       "<div>\n",
       "<style scoped>\n",
       "    .dataframe tbody tr th:only-of-type {\n",
       "        vertical-align: middle;\n",
       "    }\n",
       "\n",
       "    .dataframe tbody tr th {\n",
       "        vertical-align: top;\n",
       "    }\n",
       "\n",
       "    .dataframe thead th {\n",
       "        text-align: right;\n",
       "    }\n",
       "</style>\n",
       "<table border=\"1\" class=\"dataframe\">\n",
       "  <thead>\n",
       "    <tr style=\"text-align: right;\">\n",
       "      <th></th>\n",
       "      <th>QAOA</th>\n",
       "      <th>TQA QAOA</th>\n",
       "      <th>WarmStart QAOA</th>\n",
       "      <th>Recursive QAOA</th>\n",
       "      <th>Recursive WarmStrart QAOA</th>\n",
       "    </tr>\n",
       "    <tr>\n",
       "      <th>p</th>\n",
       "      <th></th>\n",
       "      <th></th>\n",
       "      <th></th>\n",
       "      <th></th>\n",
       "      <th></th>\n",
       "    </tr>\n",
       "  </thead>\n",
       "  <tbody>\n",
       "    <tr>\n",
       "      <th>1</th>\n",
       "      <td>0.87</td>\n",
       "      <td>0.82</td>\n",
       "      <td>0.84</td>\n",
       "      <td>0.0</td>\n",
       "      <td>0.0</td>\n",
       "    </tr>\n",
       "    <tr>\n",
       "      <th>2</th>\n",
       "      <td>0.87</td>\n",
       "      <td>0.83</td>\n",
       "      <td>0.84</td>\n",
       "      <td>0.0</td>\n",
       "      <td>0.0</td>\n",
       "    </tr>\n",
       "    <tr>\n",
       "      <th>3</th>\n",
       "      <td>0.88</td>\n",
       "      <td>0.91</td>\n",
       "      <td>0.85</td>\n",
       "      <td>0.0</td>\n",
       "      <td>0.0</td>\n",
       "    </tr>\n",
       "    <tr>\n",
       "      <th>4</th>\n",
       "      <td>0.88</td>\n",
       "      <td>0.91</td>\n",
       "      <td>0.84</td>\n",
       "      <td>0.0</td>\n",
       "      <td>0.0</td>\n",
       "    </tr>\n",
       "    <tr>\n",
       "      <th>5</th>\n",
       "      <td>0.88</td>\n",
       "      <td>0.88</td>\n",
       "      <td>0.84</td>\n",
       "      <td>0.0</td>\n",
       "      <td>0.0</td>\n",
       "    </tr>\n",
       "    <tr>\n",
       "      <th>6</th>\n",
       "      <td>0.87</td>\n",
       "      <td>0.87</td>\n",
       "      <td>0.83</td>\n",
       "      <td>0.0</td>\n",
       "      <td>0.0</td>\n",
       "    </tr>\n",
       "    <tr>\n",
       "      <th>7</th>\n",
       "      <td>0.88</td>\n",
       "      <td>0.89</td>\n",
       "      <td>0.83</td>\n",
       "      <td>0.0</td>\n",
       "      <td>0.0</td>\n",
       "    </tr>\n",
       "    <tr>\n",
       "      <th>8</th>\n",
       "      <td>0.86</td>\n",
       "      <td>0.85</td>\n",
       "      <td>0.82</td>\n",
       "      <td>0.0</td>\n",
       "      <td>0.0</td>\n",
       "    </tr>\n",
       "    <tr>\n",
       "      <th>9</th>\n",
       "      <td>0.86</td>\n",
       "      <td>0.91</td>\n",
       "      <td>0.81</td>\n",
       "      <td>0.0</td>\n",
       "      <td>0.0</td>\n",
       "    </tr>\n",
       "    <tr>\n",
       "      <th>10</th>\n",
       "      <td>0.85</td>\n",
       "      <td>0.84</td>\n",
       "      <td>0.81</td>\n",
       "      <td>0.0</td>\n",
       "      <td>0.0</td>\n",
       "    </tr>\n",
       "  </tbody>\n",
       "</table>\n",
       "</div>"
      ],
      "text/plain": [
       "    QAOA  TQA QAOA  WarmStart QAOA  Recursive QAOA  Recursive WarmStrart QAOA\n",
       "p                                                                            \n",
       "1   0.87      0.82            0.84             0.0                        0.0\n",
       "2   0.87      0.83            0.84             0.0                        0.0\n",
       "3   0.88      0.91            0.85             0.0                        0.0\n",
       "4   0.88      0.91            0.84             0.0                        0.0\n",
       "5   0.88      0.88            0.84             0.0                        0.0\n",
       "6   0.87      0.87            0.83             0.0                        0.0\n",
       "7   0.88      0.89            0.83             0.0                        0.0\n",
       "8   0.86      0.85            0.82             0.0                        0.0\n",
       "9   0.86      0.91            0.81             0.0                        0.0\n",
       "10  0.85      0.84            0.81             0.0                        0.0"
      ]
     },
     "execution_count": 84,
     "metadata": {},
     "output_type": "execute_result"
    }
   ],
   "source": [
    "ratio_df"
   ]
  },
  {
   "cell_type": "markdown",
   "id": "a0ffe0aa",
   "metadata": {},
   "source": [
    "### Metric Approximation Ratio"
   ]
  },
  {
   "cell_type": "code",
   "execution_count": 85,
   "id": "4c4a501b",
   "metadata": {},
   "outputs": [
    {
     "data": {
      "text/html": [
       "<div>\n",
       "<style scoped>\n",
       "    .dataframe tbody tr th:only-of-type {\n",
       "        vertical-align: middle;\n",
       "    }\n",
       "\n",
       "    .dataframe tbody tr th {\n",
       "        vertical-align: top;\n",
       "    }\n",
       "\n",
       "    .dataframe thead th {\n",
       "        text-align: right;\n",
       "    }\n",
       "</style>\n",
       "<table border=\"1\" class=\"dataframe\">\n",
       "  <thead>\n",
       "    <tr style=\"text-align: right;\">\n",
       "      <th></th>\n",
       "      <th>QAOA</th>\n",
       "      <th>TQA QAOA</th>\n",
       "      <th>WarmStart QAOA</th>\n",
       "      <th>Recursive QAOA</th>\n",
       "      <th>Recursive WarmStrart QAOA</th>\n",
       "    </tr>\n",
       "    <tr>\n",
       "      <th>p</th>\n",
       "      <th></th>\n",
       "      <th></th>\n",
       "      <th></th>\n",
       "      <th></th>\n",
       "      <th></th>\n",
       "    </tr>\n",
       "  </thead>\n",
       "  <tbody>\n",
       "    <tr>\n",
       "      <th>1</th>\n",
       "      <td>0.87</td>\n",
       "      <td>0.82</td>\n",
       "      <td>0.84</td>\n",
       "      <td>0.99</td>\n",
       "      <td>0.99</td>\n",
       "    </tr>\n",
       "    <tr>\n",
       "      <th>2</th>\n",
       "      <td>0.88</td>\n",
       "      <td>0.83</td>\n",
       "      <td>0.84</td>\n",
       "      <td>0.99</td>\n",
       "      <td>0.99</td>\n",
       "    </tr>\n",
       "    <tr>\n",
       "      <th>3</th>\n",
       "      <td>0.88</td>\n",
       "      <td>0.91</td>\n",
       "      <td>0.85</td>\n",
       "      <td>0.99</td>\n",
       "      <td>0.99</td>\n",
       "    </tr>\n",
       "    <tr>\n",
       "      <th>4</th>\n",
       "      <td>0.88</td>\n",
       "      <td>0.91</td>\n",
       "      <td>0.84</td>\n",
       "      <td>0.99</td>\n",
       "      <td>0.99</td>\n",
       "    </tr>\n",
       "    <tr>\n",
       "      <th>5</th>\n",
       "      <td>0.89</td>\n",
       "      <td>0.88</td>\n",
       "      <td>0.84</td>\n",
       "      <td>0.99</td>\n",
       "      <td>0.99</td>\n",
       "    </tr>\n",
       "    <tr>\n",
       "      <th>6</th>\n",
       "      <td>0.87</td>\n",
       "      <td>0.87</td>\n",
       "      <td>0.83</td>\n",
       "      <td>0.99</td>\n",
       "      <td>0.99</td>\n",
       "    </tr>\n",
       "    <tr>\n",
       "      <th>7</th>\n",
       "      <td>0.88</td>\n",
       "      <td>0.89</td>\n",
       "      <td>0.83</td>\n",
       "      <td>0.99</td>\n",
       "      <td>0.99</td>\n",
       "    </tr>\n",
       "    <tr>\n",
       "      <th>8</th>\n",
       "      <td>0.86</td>\n",
       "      <td>0.85</td>\n",
       "      <td>0.82</td>\n",
       "      <td>0.99</td>\n",
       "      <td>0.99</td>\n",
       "    </tr>\n",
       "    <tr>\n",
       "      <th>9</th>\n",
       "      <td>0.86</td>\n",
       "      <td>0.91</td>\n",
       "      <td>0.81</td>\n",
       "      <td>0.99</td>\n",
       "      <td>0.99</td>\n",
       "    </tr>\n",
       "    <tr>\n",
       "      <th>10</th>\n",
       "      <td>0.85</td>\n",
       "      <td>0.84</td>\n",
       "      <td>0.81</td>\n",
       "      <td>0.99</td>\n",
       "      <td>0.99</td>\n",
       "    </tr>\n",
       "  </tbody>\n",
       "</table>\n",
       "</div>"
      ],
      "text/plain": [
       "    QAOA  TQA QAOA  WarmStart QAOA  Recursive QAOA  Recursive WarmStrart QAOA\n",
       "p                                                                            \n",
       "1   0.87      0.82            0.84            0.99                       0.99\n",
       "2   0.88      0.83            0.84            0.99                       0.99\n",
       "3   0.88      0.91            0.85            0.99                       0.99\n",
       "4   0.88      0.91            0.84            0.99                       0.99\n",
       "5   0.89      0.88            0.84            0.99                       0.99\n",
       "6   0.87      0.87            0.83            0.99                       0.99\n",
       "7   0.88      0.89            0.83            0.99                       0.99\n",
       "8   0.86      0.85            0.82            0.99                       0.99\n",
       "9   0.86      0.91            0.81            0.99                       0.99\n",
       "10  0.85      0.84            0.81            0.99                       0.99"
      ]
     },
     "execution_count": 85,
     "metadata": {},
     "output_type": "execute_result"
    }
   ],
   "source": [
    "approx_ratios_df"
   ]
  },
  {
   "cell_type": "code",
   "execution_count": null,
   "id": "61ebda87",
   "metadata": {},
   "outputs": [],
   "source": []
  },
  {
   "cell_type": "code",
   "execution_count": null,
   "id": "dff05847",
   "metadata": {},
   "outputs": [],
   "source": []
  }
 ],
 "metadata": {
  "kernelspec": {
   "display_name": "python3.8",
   "language": "python",
   "name": "python3.8"
  },
  "language_info": {
   "codemirror_mode": {
    "name": "ipython",
    "version": 3
   },
   "file_extension": ".py",
   "mimetype": "text/x-python",
   "name": "python",
   "nbconvert_exporter": "python",
   "pygments_lexer": "ipython3",
   "version": "3.8.6"
  }
 },
 "nbformat": 4,
 "nbformat_minor": 5
}
