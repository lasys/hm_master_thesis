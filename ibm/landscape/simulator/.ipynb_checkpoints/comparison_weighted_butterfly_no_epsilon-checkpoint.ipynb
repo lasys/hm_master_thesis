{
 "cells": [
  {
   "cell_type": "markdown",
   "id": "7264aa46",
   "metadata": {},
   "source": [
    "# Comparison weighted butterfly (no epsilon)"
   ]
  },
  {
   "cell_type": "code",
   "execution_count": 2,
   "id": "eb24693c",
   "metadata": {},
   "outputs": [],
   "source": [
    "import sys\n",
    "import os\n",
    "sys.path.insert(0, os.path.abspath('../'))\n",
    "sys.path.insert(0, os.path.abspath('../../'))\n",
    "sys.path.insert(0, os.path.abspath('/home/hm-tlacherm/qlm_notebooks/notebooks_1.2.1/notebooks/master_thesis_qaoa/'))\n",
    "sys.path.insert(0, os.path.abspath('/home/hm-tlacherm/qlm_notebooks/notebooks_1.2.1/notebooks/master_thesis_qaoa/ibm/'))\n",
    "sys.path.insert(0, os.path.abspath('/home/hm-tlacherm/qlm_notebooks/notebooks_1.2.1/notebooks/master_thesis_qaoa/ibm/landscape/'))\n",
    "sys.path.insert(0, os.path.abspath('/home/hm-tlacherm/qlm_notebooks/notebooks_1.2.1/notebooks/master_thesis_qaoa/ibm/landscape/simulator/'))"
   ]
  },
  {
   "cell_type": "code",
   "execution_count": 3,
   "id": "61139845",
   "metadata": {
    "scrolled": true
   },
   "outputs": [],
   "source": [
    "import numpy as np\n",
    "\n",
    "import qiskit\n",
    "provider = qiskit.IBMQ.load_account()\n",
    "from qiskit import Aer\n",
    "from qiskit.utils import QuantumInstance\n",
    "from qiskit_optimization.algorithms import MinimumEigenOptimizer\n",
    "from qiskit.algorithms import QAOA\n",
    "from shared.QiskitMaxcut import *\n",
    "from ibm.ibm_parameters import *\n",
    "\n",
    "from matplotlib import pyplot as plt\n",
    "%matplotlib inline\n",
    "\n",
    "from ibm_landscape_processes import *"
   ]
  },
  {
   "cell_type": "code",
   "execution_count": 4,
   "id": "b5a812e4",
   "metadata": {},
   "outputs": [],
   "source": [
    "%load_ext autoreload\n",
    "%autoreload 2"
   ]
  },
  {
   "cell_type": "code",
   "execution_count": 5,
   "id": "cbf47f03",
   "metadata": {
    "scrolled": true
   },
   "outputs": [
    {
     "data": {
      "image/png": "[encoded data removed]",
      "text/plain": [
       "<Figure size 432x288 with 1 Axes>"
      ]
     },
     "metadata": {},
     "output_type": "display_data"
    }
   ],
   "source": [
    "# ---- Define graph and MaxCut ----\n",
    "graph = generate_butterfly_graph(with_weights=True)\n",
    "opt_max_cut = -35\n",
    "max_cut = Maxcut(graph, opt_max_cut)\n",
    "max_cut_qubo = max_cut.to_qubo()\n",
    "max_cut.draw()"
   ]
  },
  {
   "cell_type": "markdown",
   "id": "63c35d8f",
   "metadata": {},
   "source": [
    "# Display MaxCut-Landscape for p = 1"
   ]
  },
  {
   "cell_type": "code",
   "execution_count": null,
   "id": "4c52ccbd",
   "metadata": {},
   "outputs": [],
   "source": [
    "from landscape_helper import *"
   ]
  },
  {
   "cell_type": "code",
   "execution_count": null,
   "id": "b0c781c2",
   "metadata": {},
   "outputs": [],
   "source": [
    "landscape = load_landscape_data('/home/hm-tlacherm/qlm_notebooks/notebooks_1.2.1/notebooks/master_thesis_qaoa/ibm/landscape/simulator/landscape_simulator_butterfly_weights_results.npy')"
   ]
  },
  {
   "cell_type": "code",
   "execution_count": null,
   "id": "76696dda",
   "metadata": {},
   "outputs": [],
   "source": [
    "min_gamma, min_beta, min_exp = describe_landscape(landscape)"
   ]
  },
  {
   "cell_type": "code",
   "execution_count": null,
   "id": "d0bc5478",
   "metadata": {},
   "outputs": [],
   "source": [
    "from plot_helper import *"
   ]
  },
  {
   "cell_type": "code",
   "execution_count": null,
   "id": "d165f858",
   "metadata": {},
   "outputs": [],
   "source": [
    "# Plot landscape in 3D \n",
    "plot_landscape_3d(landscape)"
   ]
  },
  {
   "cell_type": "code",
   "execution_count": null,
   "id": "e54f6f1b",
   "metadata": {
    "scrolled": false
   },
   "outputs": [],
   "source": [
    "# Plot Heatmap \n",
    "heatmap = plot_heatmap(landscape)\n",
    "heatmap = display_minimum(heatmap, min_gamma, min_beta, min_exp)"
   ]
  },
  {
   "cell_type": "markdown",
   "id": "e9696105",
   "metadata": {},
   "source": [
    "### Find init values with TQA"
   ]
  },
  {
   "cell_type": "code",
   "execution_count": null,
   "id": "6903478a",
   "metadata": {},
   "outputs": [],
   "source": [
    "from tqa import calculate_tqa"
   ]
  },
  {
   "cell_type": "code",
   "execution_count": null,
   "id": "9378d17b",
   "metadata": {},
   "outputs": [],
   "source": [
    "p = 1"
   ]
  },
  {
   "cell_type": "code",
   "execution_count": null,
   "id": "4c516d12",
   "metadata": {},
   "outputs": [],
   "source": [
    "tqa_initial_points = calculate_tqa(graph, p)"
   ]
  },
  {
   "cell_type": "markdown",
   "id": "8a992207",
   "metadata": {},
   "source": [
    "#### Run QAOA with init_points, different optimizers and plot results "
   ]
  },
  {
   "cell_type": "code",
   "execution_count": 6,
   "id": "c897e2f9",
   "metadata": {},
   "outputs": [],
   "source": [
    "from qaoa_helper import *"
   ]
  },
  {
   "cell_type": "code",
   "execution_count": null,
   "id": "5ac1b5a9",
   "metadata": {},
   "outputs": [],
   "source": [
    "qnSpsa = QNSPSA(calculate_fidelity(create_qaoa(), max_cut_qubo), maxiter=50)\n",
    "optimizers = [\n",
    "    ('COBYLA',COBYLA(maxiter=50)),\n",
    "    ('SPSA', SPSA(maxiter=50)),\n",
    "    ('QNSPSA', qnSpsa),\n",
    "]"
   ]
  },
  {
   "cell_type": "code",
   "execution_count": null,
   "id": "cf35a2c7",
   "metadata": {
    "scrolled": true
   },
   "outputs": [],
   "source": [
    "for optimizer_tuple in optimizers:\n",
    "    optimizer_name, optimizer = optimizer_tuple\n",
    "    # create qaoa \n",
    "    qaoa = create_qaoa(optimizer = optimizer,\n",
    "            reps=p,\n",
    "            initial_point=tqa_initial_points,\n",
    "            with_callback=True\n",
    "           )\n",
    "    # run qaoa \n",
    "    result, optimal_parameters, optimizer_history = run_qaoa_with_callback(qaoa, max_cut_qubo)\n",
    "    \n",
    "    # analyse results \n",
    "    print(f\"{optimizer_name} Optimizer\")\n",
    "    mean, distribution = max_cut.analyse(result, print_output=True)\n",
    "    max_cut.plot_histogram(distribution, mean)\n",
    "    optimizer_history[2][-1] = mean\n",
    "    print()\n",
    "    \n",
    "    # Display Optimizer Results\n",
    "    counts, energy_values, maxcut_values, optimizer_gammas, optimizer_betas = optimizer_history\n",
    "    display_optimizer_path(heatmap, optimizer_gammas, optimizer_betas, maxcut_values, optimizer_name)\n",
    "    \n",
    "    # Plot Optimizer History MaxCut Evaluation # Values from landscape -> real values may deviate \n",
    "    plot_optimizer_maxcut_history(counts, maxcut_values, optimizer_name)\n",
    "    \n",
    "    # Plot Optimizer History Energy Evaluation -> not MaxCutMean! \n",
    "    plot_optimizer_energy_history(counts, energy_values, optimizer_name)\n",
    "    "
   ]
  },
  {
   "cell_type": "markdown",
   "id": "e3c45192",
   "metadata": {},
   "source": [
    "# Comparision"
   ]
  },
  {
   "cell_type": "markdown",
   "id": "376695e1",
   "metadata": {},
   "source": [
    "## Parameters"
   ]
  },
  {
   "cell_type": "code",
   "execution_count": 32,
   "id": "17696a7e",
   "metadata": {},
   "outputs": [],
   "source": [
    "eval_num = 1\n",
    "max_p = 1\n",
    "all_results = {}"
   ]
  },
  {
   "cell_type": "markdown",
   "id": "35b1fb3b",
   "metadata": {},
   "source": [
    "## QAOA"
   ]
  },
  {
   "cell_type": "code",
   "execution_count": 6,
   "id": "17c7e2f0",
   "metadata": {},
   "outputs": [],
   "source": [
    "from qaoa_helper import *"
   ]
  },
  {
   "cell_type": "code",
   "execution_count": null,
   "id": "836b0feb",
   "metadata": {},
   "outputs": [],
   "source": [
    "qaoa_p_means = []\n",
    "qaoa_p_ratios = []\n",
    "qaoa_p_approx_ratios = []\n",
    "\n",
    "for p in range(1,max_p+1):\n",
    "    m, r, ar = start_qaoa_evaluation(max_cut, eval_num=eval_num, reps=p)\n",
    "    qaoa_p_means.append(m)\n",
    "    qaoa_p_ratios.append(r)\n",
    "    qaoa_p_approx_ratios.append(ar)\n",
    "\n",
    "all_results[\"QAOA\"] = [qaoa_p_means, qaoa_p_ratios, qaoa_p_approx_ratios]"
   ]
  },
  {
   "cell_type": "code",
   "execution_count": null,
   "id": "f59b67c5",
   "metadata": {
    "scrolled": true
   },
   "outputs": [],
   "source": [
    "display_boxplots_results(qaoa_p_means, qaoa_p_ratios, qaoa_p_approx_ratios)"
   ]
  },
  {
   "cell_type": "markdown",
   "id": "4bec66ea",
   "metadata": {},
   "source": [
    "## QAOA with TQA"
   ]
  },
  {
   "cell_type": "code",
   "execution_count": null,
   "id": "f7d46c77",
   "metadata": {},
   "outputs": [],
   "source": [
    "from qaoa_helper import *"
   ]
  },
  {
   "cell_type": "code",
   "execution_count": null,
   "id": "88b57a05",
   "metadata": {},
   "outputs": [],
   "source": [
    "tqa_p_means = []\n",
    "tqa_p_ratios = []\n",
    "tqa_p_approx_ratios = []\n",
    "tqa_init_points = []\n",
    "\n",
    "for p in range(1,max_p+1):\n",
    "    tqa_initial_points = calculate_tqa(graph, p)\n",
    "    m, r, ar = start_qaoa_evaluation(max_cut, eval_num=eval_num, reps=p, init_points=tqa_initial_points)\n",
    "    tqa_p_means.append(m)\n",
    "    tqa_p_ratios.append(r)\n",
    "    tqa_p_approx_ratios.append(ar)\n",
    "    tqa_init_points.append(tqa_initial_points)\n",
    "    \n",
    "all_results[\"TQA QAOA\"] = [tqa_p_means, tqa_p_ratios, tqa_p_approx_ratios, tqa_init_points]"
   ]
  },
  {
   "cell_type": "code",
   "execution_count": null,
   "id": "30941cc6",
   "metadata": {
    "scrolled": true
   },
   "outputs": [],
   "source": [
    "display_boxplots_results(tqa_p_means, tqa_p_ratios, tqa_p_approx_ratios, prefix='TQA ')"
   ]
  },
  {
   "cell_type": "markdown",
   "id": "8baff714",
   "metadata": {},
   "source": [
    "## WarmStart QAOA"
   ]
  },
  {
   "cell_type": "code",
   "execution_count": 61,
   "id": "823dcb81",
   "metadata": {},
   "outputs": [],
   "source": [
    "from warmstart_helper import *"
   ]
  },
  {
   "cell_type": "code",
   "execution_count": 66,
   "id": "0bc27f04",
   "metadata": {},
   "outputs": [],
   "source": [
    "from shared.gem.gem_quantum_instance import GEMQuantumInstance\n",
    "from shared.gem.gem_instance import GEMInstance\n",
    "from shared.gem.gem_warm_start_qaoa_optimizer import GEMWarmStartQAOAOptimizer"
   ]
  },
  {
   "cell_type": "code",
   "execution_count": 67,
   "id": "cb698462",
   "metadata": {},
   "outputs": [],
   "source": [
    "qi_gem = GEMQuantumInstance(backend=Aer.get_backend('qasm_simulator'), shots=1024)"
   ]
  },
  {
   "cell_type": "code",
   "execution_count": 68,
   "id": "d1861996",
   "metadata": {},
   "outputs": [],
   "source": [
    "gem_instance = GEMInstance()"
   ]
  },
  {
   "cell_type": "code",
   "execution_count": 69,
   "id": "a9f5039e",
   "metadata": {
    "scrolled": false
   },
   "outputs": [
    {
     "name": "stdout",
     "output_type": "stream",
     "text": [
      "Matrix for 4261937920917669154 not in cache\n",
      "Matrix for 4261937920917669154 in cache\n",
      "Matrix for 4261937920917669154 in cache\n",
      "Matrix for 4261937920917669154 in cache\n"
     ]
    }
   ],
   "source": [
    "ws_p_means = []\n",
    "ws_p_ratios = []\n",
    "ws_p_approx_ratios = []\n",
    "ws_opt_epsilons = []\n",
    "\n",
    "for p in range(1,max_p+1):\n",
    "    \n",
    "    qaoa = QAOA(quantum_instance=qi_gem, reps=p, initial_point=None, optimizer=COBYLA(maxiter=0))\n",
    "    \n",
    "    ws_qaoa = GEMWarmStartQAOAOptimizer(pre_solver=GoemansWilliamsonOptimizer(5),\n",
    "                                        gem=gem_instance,\n",
    "                                        num_initial_solutions=5,\n",
    "                                        relax_for_pre_solver=False, qaoa=qaoa, epsilon=0.25)\n",
    "    \n",
    "    result = ws_qaoa.solve(max_cut.to_qubo())\n",
    "    m, r, ar = max_cut.analyse_evaluation(result, print_output=False)\n",
    "    #opt_epsilon = 0.25 #optimize_epsilon(max_cut, reps=p)\n",
    "    #m, r, ar = start_ws_qaoa_evaluation(max_cut, eval_num=eval_num, reps=p, epsilon=0.25)\n",
    "    ws_p_means.append(m)\n",
    "    ws_p_ratios.append(r)\n",
    "    ws_p_approx_ratios.append(ar)\n",
    "    #ws_opt_epsilons.append(opt_epsilon)\n",
    "    \n",
    "all_results[\"WarmStart QAOA\"] = [ws_p_means, ws_p_ratios, ws_p_approx_ratios, ws_opt_epsilons]"
   ]
  },
  {
   "cell_type": "code",
   "execution_count": 70,
   "id": "e4726522",
   "metadata": {
    "scrolled": true
   },
   "outputs": [
    {
     "data": {
      "image/png": "[encoded data removed]",
      "text/plain": [
       "<Figure size 432x288 with 1 Axes>"
      ]
     },
     "metadata": {
      "needs_background": "light"
     },
     "output_type": "display_data"
    },
    {
     "data": {
      "image/png": "[encoded data removed]",
      "text/plain": [
       "<Figure size 432x288 with 1 Axes>"
      ]
     },
     "metadata": {
      "needs_background": "light"
     },
     "output_type": "display_data"
    },
    {
     "data": {
      "image/png": "[encoded data removed]",
      "text/plain": [
       "<Figure size 432x288 with 1 Axes>"
      ]
     },
     "metadata": {
      "needs_background": "light"
     },
     "output_type": "display_data"
    }
   ],
   "source": [
    "display_boxplots_results(ws_p_means, ws_p_ratios, ws_p_approx_ratios, prefix='WarmStart ')"
   ]
  },
  {
   "cell_type": "markdown",
   "id": "3ab766b5",
   "metadata": {},
   "source": [
    "### Recursive QAOA"
   ]
  },
  {
   "cell_type": "code",
   "execution_count": null,
   "id": "a7090a98",
   "metadata": {},
   "outputs": [],
   "source": [
    "from recursive_qaoa_helper import *"
   ]
  },
  {
   "cell_type": "code",
   "execution_count": null,
   "id": "0febc0c8",
   "metadata": {
    "scrolled": true
   },
   "outputs": [],
   "source": [
    "recursive_p_means = []\n",
    "recursive_p_ratios = []\n",
    "recursive_p_approx_ratios = []\n",
    "\n",
    "for p in range(1,max_p+1):\n",
    "    m, r, ar = start_recursive_evaluation(max_cut, eval_num=eval_num, reps=p)\n",
    "    recursive_p_means.append(m)\n",
    "    recursive_p_ratios.append(r)\n",
    "    recursive_p_approx_ratios.append(ar)\n",
    "\n",
    "all_results[\"Recursive QAOA\"] = [recursive_p_means, recursive_p_ratios, recursive_p_approx_ratios]"
   ]
  },
  {
   "cell_type": "code",
   "execution_count": null,
   "id": "d4219906",
   "metadata": {
    "scrolled": true
   },
   "outputs": [],
   "source": [
    "display_boxplots_results(recursive_p_means, recursive_p_ratios, recursive_p_approx_ratios, prefix='Recursive ')"
   ]
  },
  {
   "cell_type": "markdown",
   "id": "f8c1ed88",
   "metadata": {},
   "source": [
    "### Recursive WarmStart QAOA"
   ]
  },
  {
   "cell_type": "code",
   "execution_count": null,
   "id": "1240846c",
   "metadata": {},
   "outputs": [],
   "source": [
    "from recursive_ws_helper import *"
   ]
  },
  {
   "cell_type": "code",
   "execution_count": null,
   "id": "e1bd9487",
   "metadata": {
    "scrolled": true
   },
   "outputs": [],
   "source": [
    "ws_recursive_p_means = []\n",
    "ws_recursive_p_ratios = []\n",
    "ws_recursive_p_approx_ratios = []\n",
    "\n",
    "for p in range(1,max_p+1):\n",
    "    opt_epsilon = ws_opt_epsilons[p-1]\n",
    "    m, r, ar = start_recursive_ws_qaoa_evaluation(max_cut, eval_num=eval_num, reps=p, epsilon=opt_epsilon)\n",
    "    ws_recursive_p_means.append(m)\n",
    "    ws_recursive_p_ratios.append(r)\n",
    "    ws_recursive_p_approx_ratios.append(ar)\n",
    "    \n",
    "all_results[\"Recursive WarmStrart QAOA\"] = [ws_recursive_p_means, ws_recursive_p_ratios, ws_recursive_p_approx_ratios, ws_opt_epsilons]"
   ]
  },
  {
   "cell_type": "code",
   "execution_count": null,
   "id": "e7dbb550",
   "metadata": {
    "scrolled": true
   },
   "outputs": [],
   "source": [
    "display_boxplots_results(ws_recursive_p_means, ws_recursive_p_ratios, ws_recursive_p_approx_ratios, prefix='Recursive WarmStart ')"
   ]
  },
  {
   "cell_type": "markdown",
   "id": "f54c3852",
   "metadata": {},
   "source": [
    "## Results"
   ]
  },
  {
   "cell_type": "code",
   "execution_count": null,
   "id": "d17c4058",
   "metadata": {},
   "outputs": [],
   "source": [
    "# Save results \n",
    "with open(f'comparison_simulator_{graph.name}_no_epsilon_results.npy', 'wb') as f:\n",
    "    np.save(f, all_results)"
   ]
  },
  {
   "cell_type": "code",
   "execution_count": 81,
   "id": "63295849",
   "metadata": {},
   "outputs": [],
   "source": [
    "from results_helper import *"
   ]
  },
  {
   "cell_type": "code",
   "execution_count": 82,
   "id": "1b52ff00",
   "metadata": {
    "scrolled": true
   },
   "outputs": [],
   "source": [
    "means_df, ratio_df, approx_ratios_df = generate_dataframes(all_results)"
   ]
  },
  {
   "cell_type": "markdown",
   "id": "b89ce4b8",
   "metadata": {},
   "source": [
    "### Metric Mean"
   ]
  },
  {
   "cell_type": "code",
   "execution_count": 83,
   "id": "96e92d8b",
   "metadata": {},
   "outputs": [
    {
     "data": {
      "text/html": [
       "<div>\n",
       "<style scoped>\n",
       "    .dataframe tbody tr th:only-of-type {\n",
       "        vertical-align: middle;\n",
       "    }\n",
       "\n",
       "    .dataframe tbody tr th {\n",
       "        vertical-align: top;\n",
       "    }\n",
       "\n",
       "    .dataframe thead th {\n",
       "        text-align: right;\n",
       "    }\n",
       "</style>\n",
       "<table border=\"1\" class=\"dataframe\">\n",
       "  <thead>\n",
       "    <tr style=\"text-align: right;\">\n",
       "      <th></th>\n",
       "      <th>QAOA</th>\n",
       "      <th>TQA QAOA</th>\n",
       "      <th>WarmStart QAOA</th>\n",
       "      <th>Recursive QAOA</th>\n",
       "      <th>Recursive WarmStrart QAOA</th>\n",
       "    </tr>\n",
       "    <tr>\n",
       "      <th>p</th>\n",
       "      <th></th>\n",
       "      <th></th>\n",
       "      <th></th>\n",
       "      <th></th>\n",
       "      <th></th>\n",
       "    </tr>\n",
       "  </thead>\n",
       "  <tbody>\n",
       "    <tr>\n",
       "      <th>1</th>\n",
       "      <td>-30.51</td>\n",
       "      <td>-28.85</td>\n",
       "      <td>-29.34</td>\n",
       "      <td>-34.57</td>\n",
       "      <td>-34.68</td>\n",
       "    </tr>\n",
       "    <tr>\n",
       "      <th>2</th>\n",
       "      <td>-30.65</td>\n",
       "      <td>-29.14</td>\n",
       "      <td>-29.40</td>\n",
       "      <td>-34.55</td>\n",
       "      <td>-34.61</td>\n",
       "    </tr>\n",
       "    <tr>\n",
       "      <th>3</th>\n",
       "      <td>-30.86</td>\n",
       "      <td>-31.69</td>\n",
       "      <td>-29.73</td>\n",
       "      <td>-34.62</td>\n",
       "      <td>-34.64</td>\n",
       "    </tr>\n",
       "    <tr>\n",
       "      <th>4</th>\n",
       "      <td>-30.95</td>\n",
       "      <td>-31.95</td>\n",
       "      <td>-29.52</td>\n",
       "      <td>-34.71</td>\n",
       "      <td>-34.74</td>\n",
       "    </tr>\n",
       "    <tr>\n",
       "      <th>5</th>\n",
       "      <td>-30.99</td>\n",
       "      <td>-30.73</td>\n",
       "      <td>-29.51</td>\n",
       "      <td>-34.66</td>\n",
       "      <td>-34.69</td>\n",
       "    </tr>\n",
       "    <tr>\n",
       "      <th>6</th>\n",
       "      <td>-30.50</td>\n",
       "      <td>-30.54</td>\n",
       "      <td>-29.14</td>\n",
       "      <td>-34.82</td>\n",
       "      <td>-34.75</td>\n",
       "    </tr>\n",
       "    <tr>\n",
       "      <th>7</th>\n",
       "      <td>-30.69</td>\n",
       "      <td>-31.25</td>\n",
       "      <td>-28.98</td>\n",
       "      <td>-34.74</td>\n",
       "      <td>-34.63</td>\n",
       "    </tr>\n",
       "    <tr>\n",
       "      <th>8</th>\n",
       "      <td>-30.20</td>\n",
       "      <td>-29.67</td>\n",
       "      <td>-28.85</td>\n",
       "      <td>-34.73</td>\n",
       "      <td>-34.62</td>\n",
       "    </tr>\n",
       "    <tr>\n",
       "      <th>9</th>\n",
       "      <td>-30.04</td>\n",
       "      <td>-31.84</td>\n",
       "      <td>-28.49</td>\n",
       "      <td>-34.72</td>\n",
       "      <td>-34.56</td>\n",
       "    </tr>\n",
       "    <tr>\n",
       "      <th>10</th>\n",
       "      <td>-29.87</td>\n",
       "      <td>-29.54</td>\n",
       "      <td>-28.45</td>\n",
       "      <td>-34.53</td>\n",
       "      <td>-34.50</td>\n",
       "    </tr>\n",
       "  </tbody>\n",
       "</table>\n",
       "</div>"
      ],
      "text/plain": [
       "     QAOA  TQA QAOA  WarmStart QAOA  Recursive QAOA  Recursive WarmStrart QAOA\n",
       "p                                                                             \n",
       "1  -30.51    -28.85          -29.34          -34.57                     -34.68\n",
       "2  -30.65    -29.14          -29.40          -34.55                     -34.61\n",
       "3  -30.86    -31.69          -29.73          -34.62                     -34.64\n",
       "4  -30.95    -31.95          -29.52          -34.71                     -34.74\n",
       "5  -30.99    -30.73          -29.51          -34.66                     -34.69\n",
       "6  -30.50    -30.54          -29.14          -34.82                     -34.75\n",
       "7  -30.69    -31.25          -28.98          -34.74                     -34.63\n",
       "8  -30.20    -29.67          -28.85          -34.73                     -34.62\n",
       "9  -30.04    -31.84          -28.49          -34.72                     -34.56\n",
       "10 -29.87    -29.54          -28.45          -34.53                     -34.50"
      ]
     },
     "execution_count": 83,
     "metadata": {},
     "output_type": "execute_result"
    }
   ],
   "source": [
    "means_df"
   ]
  },
  {
   "cell_type": "markdown",
   "id": "d8403fc7",
   "metadata": {},
   "source": [
    "### Metric Ratio "
   ]
  },
  {
   "cell_type": "code",
   "execution_count": 84,
   "id": "9a9e4ee8",
   "metadata": {},
   "outputs": [
    {
     "data": {
      "text/html": [
       "<div>\n",
       "<style scoped>\n",
       "    .dataframe tbody tr th:only-of-type {\n",
       "        vertical-align: middle;\n",
       "    }\n",
       "\n",
       "    .dataframe tbody tr th {\n",
       "        vertical-align: top;\n",
       "    }\n",
       "\n",
       "    .dataframe thead th {\n",
       "        text-align: right;\n",
       "    }\n",
       "</style>\n",
       "<table border=\"1\" class=\"dataframe\">\n",
       "  <thead>\n",
       "    <tr style=\"text-align: right;\">\n",
       "      <th></th>\n",
       "      <th>QAOA</th>\n",
       "      <th>TQA QAOA</th>\n",
       "      <th>WarmStart QAOA</th>\n",
       "      <th>Recursive QAOA</th>\n",
       "      <th>Recursive WarmStrart QAOA</th>\n",
       "    </tr>\n",
       "    <tr>\n",
       "      <th>p</th>\n",
       "      <th></th>\n",
       "      <th></th>\n",
       "      <th></th>\n",
       "      <th></th>\n",
       "      <th></th>\n",
       "    </tr>\n",
       "  </thead>\n",
       "  <tbody>\n",
       "    <tr>\n",
       "      <th>1</th>\n",
       "      <td>0.87</td>\n",
       "      <td>0.82</td>\n",
       "      <td>0.84</td>\n",
       "      <td>0.0</td>\n",
       "      <td>0.0</td>\n",
       "    </tr>\n",
       "    <tr>\n",
       "      <th>2</th>\n",
       "      <td>0.87</td>\n",
       "      <td>0.83</td>\n",
       "      <td>0.84</td>\n",
       "      <td>0.0</td>\n",
       "      <td>0.0</td>\n",
       "    </tr>\n",
       "    <tr>\n",
       "      <th>3</th>\n",
       "      <td>0.88</td>\n",
       "      <td>0.91</td>\n",
       "      <td>0.85</td>\n",
       "      <td>0.0</td>\n",
       "      <td>0.0</td>\n",
       "    </tr>\n",
       "    <tr>\n",
       "      <th>4</th>\n",
       "      <td>0.88</td>\n",
       "      <td>0.91</td>\n",
       "      <td>0.84</td>\n",
       "      <td>0.0</td>\n",
       "      <td>0.0</td>\n",
       "    </tr>\n",
       "    <tr>\n",
       "      <th>5</th>\n",
       "      <td>0.88</td>\n",
       "      <td>0.88</td>\n",
       "      <td>0.84</td>\n",
       "      <td>0.0</td>\n",
       "      <td>0.0</td>\n",
       "    </tr>\n",
       "    <tr>\n",
       "      <th>6</th>\n",
       "      <td>0.87</td>\n",
       "      <td>0.87</td>\n",
       "      <td>0.83</td>\n",
       "      <td>0.0</td>\n",
       "      <td>0.0</td>\n",
       "    </tr>\n",
       "    <tr>\n",
       "      <th>7</th>\n",
       "      <td>0.88</td>\n",
       "      <td>0.89</td>\n",
       "      <td>0.83</td>\n",
       "      <td>0.0</td>\n",
       "      <td>0.0</td>\n",
       "    </tr>\n",
       "    <tr>\n",
       "      <th>8</th>\n",
       "      <td>0.86</td>\n",
       "      <td>0.85</td>\n",
       "      <td>0.82</td>\n",
       "      <td>0.0</td>\n",
       "      <td>0.0</td>\n",
       "    </tr>\n",
       "    <tr>\n",
       "      <th>9</th>\n",
       "      <td>0.86</td>\n",
       "      <td>0.91</td>\n",
       "      <td>0.81</td>\n",
       "      <td>0.0</td>\n",
       "      <td>0.0</td>\n",
       "    </tr>\n",
       "    <tr>\n",
       "      <th>10</th>\n",
       "      <td>0.85</td>\n",
       "      <td>0.84</td>\n",
       "      <td>0.81</td>\n",
       "      <td>0.0</td>\n",
       "      <td>0.0</td>\n",
       "    </tr>\n",
       "  </tbody>\n",
       "</table>\n",
       "</div>"
      ],
      "text/plain": [
       "    QAOA  TQA QAOA  WarmStart QAOA  Recursive QAOA  Recursive WarmStrart QAOA\n",
       "p                                                                            \n",
       "1   0.87      0.82            0.84             0.0                        0.0\n",
       "2   0.87      0.83            0.84             0.0                        0.0\n",
       "3   0.88      0.91            0.85             0.0                        0.0\n",
       "4   0.88      0.91            0.84             0.0                        0.0\n",
       "5   0.88      0.88            0.84             0.0                        0.0\n",
       "6   0.87      0.87            0.83             0.0                        0.0\n",
       "7   0.88      0.89            0.83             0.0                        0.0\n",
       "8   0.86      0.85            0.82             0.0                        0.0\n",
       "9   0.86      0.91            0.81             0.0                        0.0\n",
       "10  0.85      0.84            0.81             0.0                        0.0"
      ]
     },
     "execution_count": 84,
     "metadata": {},
     "output_type": "execute_result"
    }
   ],
   "source": [
    "ratio_df"
   ]
  },
  {
   "cell_type": "markdown",
   "id": "5d86db30",
   "metadata": {},
   "source": [
    "### Metric Approximation Ratio"
   ]
  },
  {
   "cell_type": "code",
   "execution_count": 85,
   "id": "a9305013",
   "metadata": {},
   "outputs": [
    {
     "data": {
      "text/html": [
       "<div>\n",
       "<style scoped>\n",
       "    .dataframe tbody tr th:only-of-type {\n",
       "        vertical-align: middle;\n",
       "    }\n",
       "\n",
       "    .dataframe tbody tr th {\n",
       "        vertical-align: top;\n",
       "    }\n",
       "\n",
       "    .dataframe thead th {\n",
       "        text-align: right;\n",
       "    }\n",
       "</style>\n",
       "<table border=\"1\" class=\"dataframe\">\n",
       "  <thead>\n",
       "    <tr style=\"text-align: right;\">\n",
       "      <th></th>\n",
       "      <th>QAOA</th>\n",
       "      <th>TQA QAOA</th>\n",
       "      <th>WarmStart QAOA</th>\n",
       "      <th>Recursive QAOA</th>\n",
       "      <th>Recursive WarmStrart QAOA</th>\n",
       "    </tr>\n",
       "    <tr>\n",
       "      <th>p</th>\n",
       "      <th></th>\n",
       "      <th></th>\n",
       "      <th></th>\n",
       "      <th></th>\n",
       "      <th></th>\n",
       "    </tr>\n",
       "  </thead>\n",
       "  <tbody>\n",
       "    <tr>\n",
       "      <th>1</th>\n",
       "      <td>0.87</td>\n",
       "      <td>0.82</td>\n",
       "      <td>0.84</td>\n",
       "      <td>0.99</td>\n",
       "      <td>0.99</td>\n",
       "    </tr>\n",
       "    <tr>\n",
       "      <th>2</th>\n",
       "      <td>0.88</td>\n",
       "      <td>0.83</td>\n",
       "      <td>0.84</td>\n",
       "      <td>0.99</td>\n",
       "      <td>0.99</td>\n",
       "    </tr>\n",
       "    <tr>\n",
       "      <th>3</th>\n",
       "      <td>0.88</td>\n",
       "      <td>0.91</td>\n",
       "      <td>0.85</td>\n",
       "      <td>0.99</td>\n",
       "      <td>0.99</td>\n",
       "    </tr>\n",
       "    <tr>\n",
       "      <th>4</th>\n",
       "      <td>0.88</td>\n",
       "      <td>0.91</td>\n",
       "      <td>0.84</td>\n",
       "      <td>0.99</td>\n",
       "      <td>0.99</td>\n",
       "    </tr>\n",
       "    <tr>\n",
       "      <th>5</th>\n",
       "      <td>0.89</td>\n",
       "      <td>0.88</td>\n",
       "      <td>0.84</td>\n",
       "      <td>0.99</td>\n",
       "      <td>0.99</td>\n",
       "    </tr>\n",
       "    <tr>\n",
       "      <th>6</th>\n",
       "      <td>0.87</td>\n",
       "      <td>0.87</td>\n",
       "      <td>0.83</td>\n",
       "      <td>0.99</td>\n",
       "      <td>0.99</td>\n",
       "    </tr>\n",
       "    <tr>\n",
       "      <th>7</th>\n",
       "      <td>0.88</td>\n",
       "      <td>0.89</td>\n",
       "      <td>0.83</td>\n",
       "      <td>0.99</td>\n",
       "      <td>0.99</td>\n",
       "    </tr>\n",
       "    <tr>\n",
       "      <th>8</th>\n",
       "      <td>0.86</td>\n",
       "      <td>0.85</td>\n",
       "      <td>0.82</td>\n",
       "      <td>0.99</td>\n",
       "      <td>0.99</td>\n",
       "    </tr>\n",
       "    <tr>\n",
       "      <th>9</th>\n",
       "      <td>0.86</td>\n",
       "      <td>0.91</td>\n",
       "      <td>0.81</td>\n",
       "      <td>0.99</td>\n",
       "      <td>0.99</td>\n",
       "    </tr>\n",
       "    <tr>\n",
       "      <th>10</th>\n",
       "      <td>0.85</td>\n",
       "      <td>0.84</td>\n",
       "      <td>0.81</td>\n",
       "      <td>0.99</td>\n",
       "      <td>0.99</td>\n",
       "    </tr>\n",
       "  </tbody>\n",
       "</table>\n",
       "</div>"
      ],
      "text/plain": [
       "    QAOA  TQA QAOA  WarmStart QAOA  Recursive QAOA  Recursive WarmStrart QAOA\n",
       "p                                                                            \n",
       "1   0.87      0.82            0.84            0.99                       0.99\n",
       "2   0.88      0.83            0.84            0.99                       0.99\n",
       "3   0.88      0.91            0.85            0.99                       0.99\n",
       "4   0.88      0.91            0.84            0.99                       0.99\n",
       "5   0.89      0.88            0.84            0.99                       0.99\n",
       "6   0.87      0.87            0.83            0.99                       0.99\n",
       "7   0.88      0.89            0.83            0.99                       0.99\n",
       "8   0.86      0.85            0.82            0.99                       0.99\n",
       "9   0.86      0.91            0.81            0.99                       0.99\n",
       "10  0.85      0.84            0.81            0.99                       0.99"
      ]
     },
     "execution_count": 85,
     "metadata": {},
     "output_type": "execute_result"
    }
   ],
   "source": [
    "approx_ratios_df"
   ]
  },
  {
   "cell_type": "code",
   "execution_count": null,
   "id": "62071822",
   "metadata": {},
   "outputs": [],
   "source": []
  },
  {
   "cell_type": "code",
   "execution_count": null,
   "id": "07ce3725",
   "metadata": {},
   "outputs": [],
   "source": []
  }
 ],
 "metadata": {
  "kernelspec": {
   "display_name": "python3.8",
   "language": "python",
   "name": "python3.8"
  },
  "language_info": {
   "codemirror_mode": {
    "name": "ipython",
    "version": 3
   },
   "file_extension": ".py",
   "mimetype": "text/x-python",
   "name": "python",
   "nbconvert_exporter": "python",
   "pygments_lexer": "ipython3",
   "version": "3.8.6"
  }
 },
 "nbformat": 4,
 "nbformat_minor": 5
}
