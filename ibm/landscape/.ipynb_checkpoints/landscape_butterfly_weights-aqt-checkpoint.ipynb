{
 "cells": [
  {
   "cell_type": "code",
   "execution_count": 6,
   "id": "dd6f5444",
   "metadata": {},
   "outputs": [
    {
     "name": "stdout",
     "output_type": "stream",
     "text": [
      "[<AQTSimulator('aqt_qasm_simulator')>, <AQTSimulatorNoise1('aqt_qasm_simulator_noise_1')>, <AQTDevice('aqt_innsbruck')>]\n"
     ]
    }
   ],
   "source": [
    "import sys\n",
    "import os\n",
    "sys.path.insert(0, os.path.abspath('../'))\n",
    "sys.path.insert(0, os.path.abspath('../../'))\n",
    "\n",
    "import qiskit \n",
    "\n",
    "\n",
    "from qiskit_aqt_provider import AQTProvider\n",
    "aqt = AQTProvider('6f47670f3e5c414da0cdcab1c048eb97')\n",
    "print(aqt.backends())\n",
    "simulator_backend = aqt.backends.aqt_qasm_simulator\n",
    "\n",
    "import numpy as np\n",
    "\n",
    "from qiskit import Aer\n",
    "from qiskit.utils import QuantumInstance\n",
    "from qiskit_optimization.algorithms import MinimumEigenOptimizer\n",
    "from qiskit.algorithms import QAOA\n",
    "from shared.QiskitMaxcut import *\n",
    "from shared.graph_helper import *\n",
    "from matplotlib import pyplot as plt\n",
    "%matplotlib inline\n"
   ]
  },
  {
   "cell_type": "code",
   "execution_count": 7,
   "id": "0d7cec84",
   "metadata": {},
   "outputs": [
    {
     "data": {
      "image/png": "[encoded data removed]",
      "text/plain": [
       "<Figure size 432x288 with 1 Axes>"
      ]
     },
     "metadata": {},
     "output_type": "display_data"
    }
   ],
   "source": [
    "graph = generate_butterfly_graph(with_weights=False)\n",
    "max_cut = Maxcut(graph)\n",
    "max_cut_qubo = max_cut.to_qubo()\n",
    "max_cut.draw()"
   ]
  },
  {
   "cell_type": "code",
   "execution_count": 8,
   "id": "86ef0cd5",
   "metadata": {},
   "outputs": [],
   "source": [
    "step_size = 0.1\n",
    "a_gamma = np.arange(0, np.pi, step_size)\n",
    "b_beta = np.arange(0, np.pi, step_size)\n"
   ]
  },
  {
   "cell_type": "code",
   "execution_count": 9,
   "id": "4100bc5a",
   "metadata": {},
   "outputs": [],
   "source": [
    "a_gamma, b_beta = np.meshgrid(a_gamma, b_beta)"
   ]
  },
  {
   "cell_type": "code",
   "execution_count": 11,
   "id": "82be7500",
   "metadata": {},
   "outputs": [],
   "source": [
    "def run_qaoa(gamma, beta):\n",
    "    qaoa = QAOA(optimizer=COBYLA(maxiter=0),\n",
    "                quantum_instance=simulator_backend,\n",
    "                reps=1,\n",
    "                initial_point=[gamma, beta])\n",
    "    algorithm = MinimumEigenOptimizer(qaoa)\n",
    "    result = algorithm.solve(max_cut_qubo)\n",
    "    optimal_parameters = qaoa.optimal_params\n",
    "    mean, distribution = max_cut.analyse(result)\n",
    "\n",
    "    return mean"
   ]
  },
  {
   "cell_type": "code",
   "execution_count": 12,
   "id": "ad220f1d",
   "metadata": {},
   "outputs": [
    {
     "name": "stdout",
     "output_type": "stream",
     "text": [
      "Row 0 done\n",
      "Row 1 done\n",
      "Row 2 done\n",
      "Row 3 done\n",
      "Row 4 done\n",
      "Row 5 done\n",
      "Row 7 done\n",
      "Row 8 done\n",
      "Row 9 done\n",
      "Row 10 done\n",
      "Row 11 done\n",
      "Row 12 done\n",
      "Row 13 done\n",
      "Row 14 done\n",
      "Row 15 done\n",
      "Row 16 done\n",
      "Row 17 done\n",
      "Row 18 done\n",
      "Row 19 done\n",
      "Row 20 done\n",
      "Row 21 done\n",
      "Row 22 done\n",
      "Row 23 done\n",
      "Row 24 done\n",
      "Row 25 done\n",
      "Row 26 done\n",
      "Row 27 done\n",
      "Row 28 done\n",
      "Row 29 done\n",
      "Row 30 done\n",
      "Row 31 done\n"
     ]
    }
   ],
   "source": [
    "F1 = np.zeros(a_gamma.shape)\n",
    "for i in range(0, len(F1)):\n",
    "    for j in range(0, len(F1)):\n",
    "        # F1[i,j] = a_gamma[i][j] * b_beta[i][j]\n",
    "        F1[i,j] = run_qaoa(a_gamma[i][j], b_beta[i][j])\n",
    "    print(f\"Row {i} done\")"
   ]
  },
  {
   "cell_type": "code",
   "execution_count": 13,
   "id": "e9571b9e",
   "metadata": {},
   "outputs": [
    {
     "name": "stdout",
     "output_type": "stream",
     "text": [
      "[[-3.1  -2.92 -3.14 ... -3.06 -2.96 -3.06]\n",
      " [-3.22 -2.88 -2.92 ... -3.08 -3.46 -3.1 ]\n",
      " [-2.88 -2.92 -2.54 ... -3.56 -3.26 -3.16]\n",
      " ...\n",
      " [-2.9  -3.34 -3.38 ... -2.48 -2.48 -2.9 ]\n",
      " [-3.   -3.14 -3.34 ... -2.66 -2.66 -2.86]\n",
      " [-3.04 -3.3  -3.04 ... -2.88 -2.92 -2.98]]\n"
     ]
    },
    {
     "data": {
      "image/png": "[encoded data removed]",
      "text/plain": [
       "<Figure size 288x288 with 1 Axes>"
      ]
     },
     "metadata": {
      "needs_background": "light"
     },
     "output_type": "display_data"
    }
   ],
   "source": [
    "print(F1)\n",
    "plt.matshow(F1)\n",
    "plt.show()"
   ]
  },
  {
   "cell_type": "code",
   "execution_count": 14,
   "id": "4c2070b4",
   "metadata": {},
   "outputs": [
    {
     "data": {
      "text/plain": [
       "-2.6419921875000005"
      ]
     },
     "execution_count": 14,
     "metadata": {},
     "output_type": "execute_result"
    }
   ],
   "source": [
    "np.mean(F1)"
   ]
  },
  {
   "cell_type": "code",
   "execution_count": 15,
   "id": "2a81eb9b",
   "metadata": {},
   "outputs": [
    {
     "data": {
      "text/plain": [
       "(26, 19)"
      ]
     },
     "execution_count": 15,
     "metadata": {},
     "output_type": "execute_result"
    }
   ],
   "source": [
    "np.unravel_index(np.argmin(F1), F1.shape)"
   ]
  },
  {
   "cell_type": "code",
   "execution_count": 16,
   "id": "0c9e863a",
   "metadata": {},
   "outputs": [
    {
     "data": {
      "text/plain": [
       "-3.9600000000000017"
      ]
     },
     "execution_count": 16,
     "metadata": {},
     "output_type": "execute_result"
    }
   ],
   "source": [
    "np.min(F1)"
   ]
  },
  {
   "cell_type": "code",
   "execution_count": 17,
   "id": "62c7a2e3",
   "metadata": {},
   "outputs": [
    {
     "data": {
      "text/plain": [
       "-1.02"
      ]
     },
     "execution_count": 17,
     "metadata": {},
     "output_type": "execute_result"
    }
   ],
   "source": [
    "np.max(F1)"
   ]
  },
  {
   "cell_type": "code",
   "execution_count": null,
   "id": "198d1737",
   "metadata": {},
   "outputs": [],
   "source": []
  }
 ],
 "metadata": {
  "kernelspec": {
   "display_name": "python3.8",
   "language": "python",
   "name": "python3.8"
  },
  "language_info": {
   "codemirror_mode": {
    "name": "ipython",
    "version": 3
   },
   "file_extension": ".py",
   "mimetype": "text/x-python",
   "name": "python",
   "nbconvert_exporter": "python",
   "pygments_lexer": "ipython3",
   "version": "3.8.6"
  }
 },
 "nbformat": 4,
 "nbformat_minor": 5
}
