{
 "cells": [
  {
   "cell_type": "code",
   "execution_count": 15,
   "id": "9ec8a32e",
   "metadata": {},
   "outputs": [
    {
     "name": "stderr",
     "output_type": "stream",
     "text": [
      "ibmqfactory.load_account:WARNING:2021-08-20 16:24:35,093: Credentials are already in use. The existing account in the session will be replaced.\n"
     ]
    }
   ],
   "source": [
    "\n",
    "import sys\n",
    "import os\n",
    "sys.path.insert(0, os.path.abspath('../'))\n",
    "sys.path.insert(0, os.path.abspath('../../'))\n",
    "\n",
    "import qiskit\n",
    "provider = qiskit.IBMQ.load_account()\n",
    "\n",
    "\n",
    "import numpy as np\n",
    "\n",
    "from qiskit import Aer\n",
    "from qiskit.utils import QuantumInstance\n",
    "from qiskit_optimization.algorithms import MinimumEigenOptimizer\n",
    "from qiskit_optimization.algorithms import WarmStartQAOAOptimizer, CobylaOptimizer, MinimumEigenOptimizer\n",
    "\n",
    "from qiskit.algorithms import QAOA\n",
    "from shared.QiskitMaxcut import *\n",
    "from ibm.ibm_parameters import *\n",
    "from matplotlib import pyplot as plt\n",
    "%matplotlib inline\n",
    "\n",
    "from multiprocessing import Process, Value, Array\n",
    "import multiprocessing as mp"
   ]
  },
  {
   "cell_type": "code",
   "execution_count": 16,
   "id": "2612ce4d",
   "metadata": {},
   "outputs": [],
   "source": [
    "quantum_instance = QuantumInstance(\n",
    "                    backend=Aer.get_backend(DEFAULT_QASM_SIMULATOR),\n",
    "                    shots=SHOTS)\n"
   ]
  },
  {
   "cell_type": "code",
   "execution_count": 17,
   "id": "22bd2278",
   "metadata": {},
   "outputs": [
    {
     "data": {
      "image/png": "[encoded data removed]",
      "text/plain": [
       "<Figure size 432x288 with 1 Axes>"
      ]
     },
     "metadata": {},
     "output_type": "display_data"
    }
   ],
   "source": [
    "# ---- Define graph and MaxCut ----\n",
    "graph = generate_butterfly_graph(with_weights=False)\n",
    "max_cut = Maxcut(graph)\n",
    "max_cut_qubo = max_cut.to_qubo()\n",
    "max_cut.draw()"
   ]
  },
  {
   "cell_type": "code",
   "execution_count": 18,
   "id": "30b0c266",
   "metadata": {},
   "outputs": [],
   "source": [
    "step_size = 0.1\n",
    "a_gamma = np.arange(0, np.pi, step_size)\n",
    "b_beta = np.arange(0, np.pi, step_size)\n"
   ]
  },
  {
   "cell_type": "code",
   "execution_count": 19,
   "id": "d0d2d27a",
   "metadata": {},
   "outputs": [],
   "source": [
    "a_gamma, b_beta = np.meshgrid(a_gamma, b_beta)"
   ]
  },
  {
   "cell_type": "code",
   "execution_count": 20,
   "id": "3abd67e7",
   "metadata": {},
   "outputs": [],
   "source": [
    "def run_qaoa(gamma, beta):\n",
    "    quantum_instance = QuantumInstance(\n",
    "                    backend=Aer.get_backend(DEFAULT_QASM_SIMULATOR),\n",
    "                    shots=SHOTS)\n",
    "    qaoa = QAOA(optimizer=COBYLA(maxiter=0),\n",
    "                quantum_instance=quantum_instance,\n",
    "                reps=1,\n",
    "                initial_point=[gamma, beta])\n",
    "    \n",
    "    ws_qaoa = WarmStartQAOAOptimizer(pre_solver=CobylaOptimizer(), relax_for_pre_solver=True,\n",
    "                                 qaoa=qaoa)\n",
    "    \n",
    "    \n",
    "    result = qaoa.solve(max_cut_problem)\n",
    "    \n",
    "    #algorithm = MinimumEigenOptimizer(qaoa)\n",
    "    #result = algorithm.solve(max_cut_qubo)\n",
    "    #optimal_parameters = qaoa.optimal_params\n",
    "    mean, distribution = max_cut.analyse(result)\n",
    "\n",
    "    return mean"
   ]
  },
  {
   "cell_type": "code",
   "execution_count": 7,
   "id": "227c6b77",
   "metadata": {},
   "outputs": [],
   "source": [
    "def run_qaoa_process(arr, index, gamma, beta):\n",
    "    print(\"sdf\")\n",
    "    mean = run_qaoa(gamma, beta)\n",
    "    print(f\"mean {mean}\")\n",
    "    arr[index] = mean"
   ]
  },
  {
   "cell_type": "code",
   "execution_count": 8,
   "id": "061e6469",
   "metadata": {},
   "outputs": [],
   "source": [
    "mp.freeze_support()\n",
    "ctx = mp.get_context('spawn')\n"
   ]
  },
  {
   "cell_type": "code",
   "execution_count": 21,
   "id": "a954aa6d",
   "metadata": {
    "scrolled": true
   },
   "outputs": [
    {
     "name": "stdout",
     "output_type": "stream",
     "text": [
      "Row 0\n",
      "Row 1\n",
      "Row 2\n",
      "Row 3\n",
      "Row 4\n",
      "Row 5\n",
      "Row 6\n",
      "Row 7\n",
      "Row 8\n",
      "Row 9\n",
      "Row 10\n",
      "Row 11\n",
      "Row 12\n",
      "Row 13\n",
      "Row 14\n",
      "Row 15\n",
      "Row 16\n",
      "Row 17\n",
      "Row 18\n",
      "Row 19\n",
      "Row 20\n",
      "Row 21\n",
      "Row 22\n",
      "Row 23\n",
      "Row 24\n",
      "Row 25\n",
      "Row 26\n",
      "Row 27\n",
      "Row 28\n",
      "Row 29\n",
      "Row 30\n",
      "Row 31\n"
     ]
    }
   ],
   "source": [
    "import ibm_landscape_processes\n",
    "F1 = ibm_landscape_processes.run_all(a_gamma, b_beta, max_cut)"
   ]
  },
  {
   "cell_type": "code",
   "execution_count": 22,
   "id": "b3631272",
   "metadata": {},
   "outputs": [
    {
     "name": "stdout",
     "output_type": "stream",
     "text": [
      "[[-2.98049998 -3.01399994 -3.01850009 ... -2.99874997 -3.02125001\n",
      "  -2.98200011]\n",
      " [-3.0002501  -2.88549995 -2.77624989 ... -3.25375009 -3.14450002\n",
      "  -3.06424999]\n",
      " [-3.01224995 -2.75       -2.55375004 ... -3.44125009 -3.29775\n",
      "  -3.11100006]\n",
      " ...\n",
      " [-3.00749993 -3.24825001 -3.47125006 ... -2.37975001 -2.61074996\n",
      "  -2.88474989]\n",
      " [-3.00449991 -3.19575    -3.28550005 ... -2.6312499  -2.77125001\n",
      "  -2.92475009]\n",
      " [-2.9855001  -3.02399993 -3.10800004 ... -2.898      -2.93175006\n",
      "  -2.97600007]]\n"
     ]
    }
   ],
   "source": [
    "print(F1)"
   ]
  },
  {
   "cell_type": "code",
   "execution_count": 23,
   "id": "d3551cc5",
   "metadata": {},
   "outputs": [
    {
     "data": {
      "image/png": "[encoded data removed]",
      "text/plain": [
       "<Figure size 288x288 with 1 Axes>"
      ]
     },
     "metadata": {
      "needs_background": "light"
     },
     "output_type": "display_data"
    }
   ],
   "source": [
    "plt.matshow(F1)\n",
    "plt.show()"
   ]
  },
  {
   "cell_type": "code",
   "execution_count": 9,
   "id": "775cdcca",
   "metadata": {},
   "outputs": [
    {
     "name": "stdout",
     "output_type": "stream",
     "text": [
      "started Processes\n",
      "started Processes\n",
      "started Processes\n",
      "started Processes\n",
      "joined Processes\n",
      "joined Processes\n",
      "joined Processes\n",
      "joined Processes\n",
      "[0.0, 1.0, 2.0, 3.0]\n",
      "m 0.0 0\n",
      "m 1.0 1\n",
      "m 2.0 2\n",
      "m 3.0 3\n"
     ]
    },
    {
     "name": "stderr",
     "output_type": "stream",
     "text": [
      "Traceback (most recent call last):\n",
      "  File \"<string>\", line 1, in <module>\n",
      "  File \"/usr/lib64/python3.8/multiprocessing/spawn.py\", line 116, in spawn_main\n",
      "    exitcode = _main(fd, parent_sentinel)\n",
      "  File \"/usr/lib64/python3.8/multiprocessing/spawn.py\", line 126, in _main\n",
      "    self = reduction.pickle.load(from_parent)\n",
      "AttributeError: Can't get attribute 'run_qaoa_process' on <module '__main__' (built-in)>\n",
      "Traceback (most recent call last):\n",
      "  File \"<string>\", line 1, in <module>\n",
      "  File \"/usr/lib64/python3.8/multiprocessing/spawn.py\", line 116, in spawn_main\n",
      "    exitcode = _main(fd, parent_sentinel)\n",
      "  File \"/usr/lib64/python3.8/multiprocessing/spawn.py\", line 126, in _main\n",
      "    self = reduction.pickle.load(from_parent)\n",
      "AttributeError: Can't get attribute 'run_qaoa_process' on <module '__main__' (built-in)>\n",
      "Traceback (most recent call last):\n",
      "  File \"<string>\", line 1, in <module>\n",
      "  File \"/usr/lib64/python3.8/multiprocessing/spawn.py\", line 116, in spawn_main\n",
      "    exitcode = _main(fd, parent_sentinel)\n",
      "  File \"/usr/lib64/python3.8/multiprocessing/spawn.py\", line 126, in _main\n",
      "    self = reduction.pickle.load(from_parent)\n",
      "AttributeError: Can't get attribute 'run_qaoa_process' on <module '__main__' (built-in)>\n",
      "Traceback (most recent call last):\n",
      "  File \"<string>\", line 1, in <module>\n",
      "  File \"/usr/lib64/python3.8/multiprocessing/spawn.py\", line 116, in spawn_main\n",
      "    exitcode = _main(fd, parent_sentinel)\n",
      "  File \"/usr/lib64/python3.8/multiprocessing/spawn.py\", line 126, in _main\n",
      "    self = reduction.pickle.load(from_parent)\n",
      "AttributeError: Can't get attribute 'run_qaoa_process' on <module '__main__' (built-in)>\n"
     ]
    },
    {
     "name": "stdout",
     "output_type": "stream",
     "text": [
      "started Processes\n",
      "started Processes\n",
      "started Processes\n",
      "started Processes\n",
      "joined Processes\n",
      "joined Processes\n",
      "joined Processes\n",
      "joined Processes\n",
      "[0.0, 1.0, 2.0, 3.0]\n",
      "m 0.0 0\n",
      "m 1.0 1\n",
      "m 2.0 2\n",
      "m 3.0 3\n"
     ]
    },
    {
     "name": "stderr",
     "output_type": "stream",
     "text": [
      "Traceback (most recent call last):\n",
      "  File \"<string>\", line 1, in <module>\n",
      "  File \"/usr/lib64/python3.8/multiprocessing/spawn.py\", line 116, in spawn_main\n",
      "    exitcode = _main(fd, parent_sentinel)\n",
      "  File \"/usr/lib64/python3.8/multiprocessing/spawn.py\", line 126, in _main\n",
      "    self = reduction.pickle.load(from_parent)\n",
      "AttributeError: Can't get attribute 'run_qaoa_process' on <module '__main__' (built-in)>\n",
      "Traceback (most recent call last):\n",
      "  File \"<string>\", line 1, in <module>\n",
      "  File \"/usr/lib64/python3.8/multiprocessing/spawn.py\", line 116, in spawn_main\n",
      "    exitcode = _main(fd, parent_sentinel)\n",
      "  File \"/usr/lib64/python3.8/multiprocessing/spawn.py\", line 126, in _main\n",
      "    self = reduction.pickle.load(from_parent)\n",
      "AttributeError: Can't get attribute 'run_qaoa_process' on <module '__main__' (built-in)>\n",
      "Traceback (most recent call last):\n",
      "  File \"<string>\", line 1, in <module>\n",
      "  File \"/usr/lib64/python3.8/multiprocessing/spawn.py\", line 116, in spawn_main\n",
      "    exitcode = _main(fd, parent_sentinel)\n",
      "  File \"/usr/lib64/python3.8/multiprocessing/spawn.py\", line 126, in _main\n",
      "    self = reduction.pickle.load(from_parent)\n",
      "AttributeError: Can't get attribute 'run_qaoa_process' on <module '__main__' (built-in)>\n",
      "Traceback (most recent call last):\n",
      "  File \"<string>\", line 1, in <module>\n",
      "  File \"/usr/lib64/python3.8/multiprocessing/spawn.py\", line 116, in spawn_main\n",
      "    exitcode = _main(fd, parent_sentinel)\n",
      "  File \"/usr/lib64/python3.8/multiprocessing/spawn.py\", line 126, in _main\n",
      "    self = reduction.pickle.load(from_parent)\n",
      "AttributeError: Can't get attribute 'run_qaoa_process' on <module '__main__' (built-in)>\n"
     ]
    },
    {
     "name": "stdout",
     "output_type": "stream",
     "text": [
      "started Processes\n",
      "started Processes\n",
      "started Processes\n",
      "started Processes\n",
      "joined Processes\n",
      "joined Processes\n",
      "joined Processes\n",
      "joined Processes\n",
      "[0.0, 1.0, 2.0, 3.0]\n",
      "m 0.0 0\n",
      "m 1.0 1\n",
      "m 2.0 2\n",
      "m 3.0 3\n"
     ]
    },
    {
     "name": "stderr",
     "output_type": "stream",
     "text": [
      "Traceback (most recent call last):\n",
      "  File \"<string>\", line 1, in <module>\n",
      "  File \"/usr/lib64/python3.8/multiprocessing/spawn.py\", line 116, in spawn_main\n",
      "    exitcode = _main(fd, parent_sentinel)\n",
      "  File \"/usr/lib64/python3.8/multiprocessing/spawn.py\", line 126, in _main\n",
      "    self = reduction.pickle.load(from_parent)\n",
      "AttributeError: Can't get attribute 'run_qaoa_process' on <module '__main__' (built-in)>\n",
      "Traceback (most recent call last):\n",
      "  File \"<string>\", line 1, in <module>\n",
      "  File \"/usr/lib64/python3.8/multiprocessing/spawn.py\", line 116, in spawn_main\n",
      "    exitcode = _main(fd, parent_sentinel)\n",
      "  File \"/usr/lib64/python3.8/multiprocessing/spawn.py\", line 126, in _main\n",
      "    self = reduction.pickle.load(from_parent)\n",
      "AttributeError: Can't get attribute 'run_qaoa_process' on <module '__main__' (built-in)>\n",
      "Traceback (most recent call last):\n",
      "  File \"<string>\", line 1, in <module>\n",
      "  File \"/usr/lib64/python3.8/multiprocessing/spawn.py\", line 116, in spawn_main\n",
      "    exitcode = _main(fd, parent_sentinel)\n",
      "  File \"/usr/lib64/python3.8/multiprocessing/spawn.py\", line 126, in _main\n",
      "    self = reduction.pickle.load(from_parent)\n",
      "AttributeError: Can't get attribute 'run_qaoa_process' on <module '__main__' (built-in)>\n",
      "Traceback (most recent call last):\n",
      "  File \"<string>\", line 1, in <module>\n",
      "  File \"/usr/lib64/python3.8/multiprocessing/spawn.py\", line 116, in spawn_main\n",
      "    exitcode = _main(fd, parent_sentinel)\n",
      "  File \"/usr/lib64/python3.8/multiprocessing/spawn.py\", line 126, in _main\n",
      "    self = reduction.pickle.load(from_parent)\n",
      "AttributeError: Can't get attribute 'run_qaoa_process' on <module '__main__' (built-in)>\n"
     ]
    },
    {
     "name": "stdout",
     "output_type": "stream",
     "text": [
      "started Processes\n",
      "started Processes\n",
      "started Processes\n",
      "started Processes\n",
      "joined Processes\n",
      "joined Processes\n",
      "joined Processes\n",
      "joined Processes\n",
      "[0.0, 1.0, 2.0, 3.0]\n",
      "m 0.0 0\n",
      "m 1.0 1\n",
      "m 2.0 2\n",
      "m 3.0 3\n"
     ]
    },
    {
     "name": "stderr",
     "output_type": "stream",
     "text": [
      "Traceback (most recent call last):\n",
      "  File \"<string>\", line 1, in <module>\n",
      "  File \"/usr/lib64/python3.8/multiprocessing/spawn.py\", line 116, in spawn_main\n",
      "    exitcode = _main(fd, parent_sentinel)\n",
      "  File \"/usr/lib64/python3.8/multiprocessing/spawn.py\", line 126, in _main\n",
      "    self = reduction.pickle.load(from_parent)\n",
      "AttributeError: Can't get attribute 'run_qaoa_process' on <module '__main__' (built-in)>\n",
      "Traceback (most recent call last):\n",
      "  File \"<string>\", line 1, in <module>\n",
      "  File \"/usr/lib64/python3.8/multiprocessing/spawn.py\", line 116, in spawn_main\n",
      "    exitcode = _main(fd, parent_sentinel)\n",
      "  File \"/usr/lib64/python3.8/multiprocessing/spawn.py\", line 126, in _main\n",
      "    self = reduction.pickle.load(from_parent)\n",
      "AttributeError: Can't get attribute 'run_qaoa_process' on <module '__main__' (built-in)>\n",
      "Traceback (most recent call last):\n",
      "  File \"<string>\", line 1, in <module>\n",
      "  File \"/usr/lib64/python3.8/multiprocessing/spawn.py\", line 116, in spawn_main\n",
      "    exitcode = _main(fd, parent_sentinel)\n",
      "  File \"/usr/lib64/python3.8/multiprocessing/spawn.py\", line 126, in _main\n",
      "    self = reduction.pickle.load(from_parent)\n",
      "AttributeError: Can't get attribute 'run_qaoa_process' on <module '__main__' (built-in)>\n",
      "Traceback (most recent call last):\n",
      "  File \"<string>\", line 1, in <module>\n",
      "  File \"/usr/lib64/python3.8/multiprocessing/spawn.py\", line 116, in spawn_main\n",
      "    exitcode = _main(fd, parent_sentinel)\n",
      "  File \"/usr/lib64/python3.8/multiprocessing/spawn.py\", line 126, in _main\n",
      "    self = reduction.pickle.load(from_parent)\n",
      "AttributeError: Can't get attribute 'run_qaoa_process' on <module '__main__' (built-in)>\n"
     ]
    }
   ],
   "source": [
    "F1 = np.zeros(a_gamma.shape)\n",
    "for i in range(0, len(F1)):\n",
    "    processes = []\n",
    "    arr = ctx.Array('f', range(len(a_gamma)))\n",
    "    for j in range(0, len(F1)):\n",
    "        # F1[i,j] = a_gamma[i][j] * b_beta[i][j]\n",
    "        p = ctx.Process(target=run_qaoa_process, args=(arr, j, a_gamma[i][j], b_beta[i][j]))\n",
    "        p.start()\n",
    "        processes.append(p)\n",
    "        print(\"started Processes\")\n",
    "    \n",
    "    for pp in processes:\n",
    "        print(\"joined Processes\")\n",
    "        pp.join()\n",
    "    print(arr[:])\n",
    "    for j in range(0,len(arr)):\n",
    "        print(f\"m {arr[j]} {j}\")\n",
    "        #F1[i,j] = m"
   ]
  },
  {
   "cell_type": "code",
   "execution_count": 36,
   "id": "2e04e46a",
   "metadata": {},
   "outputs": [],
   "source": [
    "F1 = np.zeros(a_gamma.shape)\n",
    "for i in range(0, len(F1)):\n",
    "    for j in range(0, len(F1)):\n",
    "        # F1[i,j] = a_gamma[i][j] * b_beta[i][j]\n",
    "        F1[i,j] = run_qaoa(a_gamma[i][j], b_beta[i][j])"
   ]
  },
  {
   "cell_type": "code",
   "execution_count": 37,
   "id": "6fbf8469",
   "metadata": {},
   "outputs": [
    {
     "name": "stdout",
     "output_type": "stream",
     "text": [
      "[[-2.99425 -3.01475 -3.02125 -2.98725]\n",
      " [-2.965   -2.8755  -1.30225 -3.46475]\n",
      " [-3.019   -1.43675 -3.1775  -2.48625]\n",
      " [-3.00275 -2.6445  -3.36875 -2.79125]]\n"
     ]
    },
    {
     "data": {
      "image/png": "[encoded data removed]",
      "text/plain": [
       "<Figure size 288x288 with 1 Axes>"
      ]
     },
     "metadata": {
      "needs_background": "light"
     },
     "output_type": "display_data"
    }
   ],
   "source": [
    "print(F1)\n",
    "plt.matshow(F1)\n",
    "plt.show()"
   ]
  },
  {
   "cell_type": "code",
   "execution_count": 24,
   "id": "c61f73b5",
   "metadata": {},
   "outputs": [
    {
     "data": {
      "text/plain": [
       "-2.6388437491841614"
      ]
     },
     "execution_count": 24,
     "metadata": {},
     "output_type": "execute_result"
    }
   ],
   "source": [
    "np.mean(F1)"
   ]
  },
  {
   "cell_type": "code",
   "execution_count": 32,
   "id": "44884ee9",
   "metadata": {},
   "outputs": [
    {
     "data": {
      "text/plain": [
       "array([[-2.984  , -2.99675, -2.97925, -2.99625],\n",
       "       [-2.993  , -2.8575 , -1.332  , -3.4685 ],\n",
       "       [-3.00425, -1.43075, -3.172  , -2.4985 ],\n",
       "       [-2.985  , -2.65175, -3.38525, -2.7825 ]])"
      ]
     },
     "execution_count": 32,
     "metadata": {},
     "output_type": "execute_result"
    }
   ],
   "source": [
    "F1"
   ]
  },
  {
   "cell_type": "code",
   "execution_count": 25,
   "id": "6c1dd2e0",
   "metadata": {},
   "outputs": [],
   "source": [
    "F2 = F1 - np.mean(F1)"
   ]
  },
  {
   "cell_type": "code",
   "execution_count": 26,
   "id": "d5d91266",
   "metadata": {},
   "outputs": [
    {
     "data": {
      "image/png": "[encoded data removed]",
      "text/plain": [
       "<Figure size 288x288 with 1 Axes>"
      ]
     },
     "metadata": {
      "needs_background": "light"
     },
     "output_type": "display_data"
    }
   ],
   "source": [
    "plt.matshow(F2)\n",
    "plt.show()"
   ]
  },
  {
   "cell_type": "code",
   "execution_count": 27,
   "id": "5ec47adb",
   "metadata": {
    "collapsed": true
   },
   "outputs": [
    {
     "data": {
      "text/plain": [
       "array([[-2.01671875e-01, -2.14421875e-01, -1.96921875e-01,\n",
       "        -2.13921875e-01],\n",
       "       [-2.10671875e-01, -7.51718750e-02,  1.45032812e+00,\n",
       "        -6.86171875e-01],\n",
       "       [-2.21921875e-01,  1.35157813e+00, -3.89671875e-01,\n",
       "         2.83828125e-01],\n",
       "       [-2.02671875e-01,  1.30578125e-01, -6.02921875e-01,\n",
       "        -1.71875000e-04]])"
      ]
     },
     "execution_count": 27,
     "metadata": {},
     "output_type": "execute_result"
    }
   ],
   "source": [
    "F2"
   ]
  },
  {
   "cell_type": "code",
   "execution_count": 13,
   "id": "bf83b0c8",
   "metadata": {},
   "outputs": [
    {
     "data": {
      "text/plain": [
       "-3.926500082015991"
      ]
     },
     "execution_count": 13,
     "metadata": {},
     "output_type": "execute_result"
    }
   ],
   "source": [
    "np.min(F1)"
   ]
  },
  {
   "cell_type": "code",
   "execution_count": 14,
   "id": "5f584262",
   "metadata": {},
   "outputs": [
    {
     "data": {
      "text/plain": [
       "(25, 3)"
      ]
     },
     "execution_count": 14,
     "metadata": {},
     "output_type": "execute_result"
    }
   ],
   "source": [
    "np.unravel_index(np.argmin(F1), F1.shape)"
   ]
  },
  {
   "cell_type": "code",
   "execution_count": 25,
   "id": "a58fb57b",
   "metadata": {},
   "outputs": [
    {
     "data": {
      "text/plain": [
       "-3.927999973297119"
      ]
     },
     "execution_count": 25,
     "metadata": {},
     "output_type": "execute_result"
    }
   ],
   "source": [
    "np.min(F1)"
   ]
  },
  {
   "cell_type": "code",
   "execution_count": 26,
   "id": "8f332701",
   "metadata": {},
   "outputs": [
    {
     "data": {
      "text/plain": [
       "(25, 19)"
      ]
     },
     "execution_count": 26,
     "metadata": {},
     "output_type": "execute_result"
    }
   ],
   "source": [
    "np.unravel_index(np.argmin(F1), F1.shape)"
   ]
  },
  {
   "cell_type": "code",
   "execution_count": null,
   "id": "a148a12b",
   "metadata": {},
   "outputs": [],
   "source": []
  }
 ],
 "metadata": {
  "kernelspec": {
   "display_name": "python3.8",
   "language": "python",
   "name": "python3.8"
  },
  "language_info": {
   "codemirror_mode": {
    "name": "ipython",
    "version": 3
   },
   "file_extension": ".py",
   "mimetype": "text/x-python",
   "name": "python",
   "nbconvert_exporter": "python",
   "pygments_lexer": "ipython3",
   "version": "3.8.6"
  }
 },
 "nbformat": 4,
 "nbformat_minor": 5
}
